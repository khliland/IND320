{
 "cells": [
  {
   "cell_type": "markdown",
   "metadata": {},
   "source": [
    "# Forecasting\n",
    "- Forecasting is the process of predicting future conditions of a time series.\n",
    "- We will go through to related approaches which start from separate standpoints but overlap in some variations:\n",
    "    - [Machine Learning based methods](./2_ML_approach.ipynb) handling time series as any other tabular data, possibly adding lagged variables to add a flavour of autoregressiveness.\n",
    "    - Specific forecasting methods of included int he [ARIMA family of methods](./3_SARIMAX.ipynb), possibly adding exogenous variables bridging the gap to ML based methods.\n",
    "      (We will use SARIMAX - Seasonal Auto-Regressive Integrated Moving Average with eXogenous factors and subsets of it).\n",
    "- Neural network models for forecasting include: Recurrent Neural Networks, Long-Short Term Memory, Transformers, Retentive Networks, Facebook's [Prophet](https://pypi.org/project/fbprophet/), Amazon's [GluonTS/DeepAR](https://pypi.org/project/gluonts/), etc.\n",
    "    - Large Language Models, e.g., used in Chat GPT, Bard, etc., rely heavily on forecasting the next word(s) in a sequence."
   ]
  }
 ],
 "metadata": {
  "language_info": {
   "name": "python"
  }
 },
 "nbformat": 4,
 "nbformat_minor": 2
}
