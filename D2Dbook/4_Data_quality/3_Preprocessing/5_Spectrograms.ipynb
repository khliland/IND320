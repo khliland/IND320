{
 "cells": [
  {
   "cell_type": "markdown",
   "metadata": {
    "slideshow": {
     "slide_type": "slide"
    }
   },
   "source": [
    "# Spectrograms\n",
    "- Rich time series like sound recordings can be converted to spectrograms, e.g., ussing FFT methods.\n",
    "    - Spectrograms show the distribution in the frequency domain as a function of time.\n",
    "    - In practice this is implemented by a moving window technique with local FFT computations (overlapping windows) called [Short-time Fourier transform](https://en.wikipedia.org/wiki/Short-time_Fourier_transform).\n",
    "- Some limitations:\n",
    "    - The decomposition is dependent on the sampling frequency, $f_s$ (samples per second), and time window length $T$ seconds.\n",
    "    - The highest frequency that can be resolved is called the Nyquist frequency $= f_s/2$ Hz, i.e., 22050 Hz for a 44.1 kHz sampling (due to the Fourier transform).\n",
    "    - The lowest frequency that can be resolved is the Rayleigh frequency $= 1/T$ Hz, i.e., for a window of length 1152 samples (MP3) and 44.1 kHz, this results in a minimum frequency of $\\frac{1}{\\frac{1152}{44100 Hz}} = \\frac{1}{26.1 ms} = 38.3 Hz$.\n",
    "    - Too short windows will give a \"smearing effect\" on the extracted frequencies (see [Wikipedia article](https://en.wikipedia.org/wiki/Short-time_Fourier_transform)) where precision is low on the extracted frequencies.\n",
    "    - For time series, this means we have an upper bound (often of less interest) and a lower bound of the frequencies that can be resolved. The lower bound being \"waves in the signal\" $\\leq$ \"length of the window\"."
   ]
  },
  {
   "cell_type": "markdown",
   "metadata": {
    "slideshow": {
     "slide_type": "slide"
    }
   },
   "source": [
    "# Spectrograms\n",
    "- Rich time series like sound recordings can be converted to spectrograms, e.g., ussing FFT methods.\n",
    "    - Spectrograms show the distribution in the frequency domain as a function of time.\n",
    "    - In practice this is implemented by a moving window technique with local FFT computations (overlapping windows) called [Short-time Fourier transform](https://en.wikipedia.org/wiki/Short-time_Fourier_transform).\n",
    "- Some limitations:\n",
    "    - The decomposition is dependent on the sampling frequency, $f_s$ (samples per second), and time window length $T$ seconds.\n",
    "    - The highest frequency that can be resolved is called the Nyquist frequency $= f_s/2$ Hz, i.e., 22050 Hz for a 44.1 kHz sampling (due to the Fourier transform).\n",
    "    - The lowest frequency that can be resolved is the Rayleigh frequency $= 1/T$ Hz, i.e., for a window of length 1152 samples (MP3) and 44.1 kHz, this results in a minimum frequency of $\\frac{1}{\\frac{1152}{44100 Hz}} = \\frac{1}{26.1 ms} = 38.3 Hz$.\n",
    "    - Too short windows will give a \"smearing effect\" on the extracted frequencies (see [Wikipedia article](https://en.wikipedia.org/wiki/Short-time_Fourier_transform)) where precision is low on the extracted frequencies.\n",
    "    - For time series, this means we have an upper bound (often of less interest) and a lower bound of the frequencies that can be resolved. The lower bound being \"waves in the signal\" $\\leq$ \"length of the window\"."
   ]
  },
  {
   "cell_type": "code",
   "execution_count": null,
   "metadata": {
    "slideshow": {
     "slide_type": "slide"
    },
    "tags": []
   },
   "outputs": [],
   "source": [
    "# Create a sine wave that starts low and increases during 4 seconds with a sampling rate of 44.1 kHz.\n",
    "import numpy as np\n",
    "fs = 44100 # Sampling rate\n",
    "sec = 4   # Duration of the tone in seconds\n",
    "t = np.linspace(0, 4, sec*fs)      # Time axis\n",
    "f = np.linspace(200, 5000, sec*fs) # Frequency axis\n",
    "y_approx = np.sin(2*np.pi*np.cumsum(f)/fs) # Approximation of the sine wave\n",
    "\n",
    "# Plot the sine wave at the beginning, middle and end\n",
    "import matplotlib.pyplot as plt\n",
    "plt.figure(figsize=(12,3))\n",
    "plt.plot(range(600), np.hstack([y_approx[:200],y_approx[int(sec/2*fs):int(sec/2*fs)+200], y_approx[-200:]]))\n",
    "plt.xlabel('Selected time (samples)')\n",
    "plt.ylabel('Amplitude')\n",
    "plt.show()"
   ]
  },
  {
   "cell_type": "code",
   "execution_count": null,
   "metadata": {
    "slideshow": {
     "slide_type": "slide"
    },
    "tags": [
     "skip-execution"
    ]
   },
   "outputs": [],
   "source": [
    "# Play the song using sounddevice\n",
    "import sounddevice as sd\n",
    "sd.play(y_approx, fs)"
   ]
  },
  {
   "cell_type": "markdown",
   "metadata": {
    "slideshow": {
     "slide_type": "slide"
    },
    "tags": [
     "skip-execution"
    ]
   },
   "source": [
    "## Spectrogram computation\n",
    "- [SciPy's Short Time Fourier Transform](https://docs.scipy.org/doc/scipy/reference/generated/scipy.signal.stft.html) returns all the ingredients needed to plot a spectrogram manually.\n",
    "- [matplotlib's specgram](https://matplotlib.org/stable/api/_as_gen/matplotlib.pyplot.specgram.html) combines computations and plotting"
   ]
  },
  {
   "cell_type": "code",
   "execution_count": null,
   "metadata": {
    "slideshow": {
     "slide_type": "fragment"
    },
    "tags": []
   },
   "outputs": [],
   "source": [
    "# Produce a spectrogram using scipy.signal.stft (short-time Fourier transform)\n",
    "from scipy.signal import stft # Legacy function stft. Anyone want to update this to ShortTimeFFT?\n",
    "f_stft, t_stft, Zxx = stft(y_approx, fs, nperseg=1152)"
   ]
  },
  {
   "cell_type": "code",
   "execution_count": null,
   "metadata": {
    "slideshow": {
     "slide_type": "slide"
    },
    "tags": []
   },
   "outputs": [],
   "source": [
    "# Plot the spectrogram\n",
    "import matplotlib.pyplot as plt\n",
    "plt.pcolormesh(t_stft, f_stft, np.abs(Zxx), vmin=0, vmax=max(y_approx), shading='gouraud')\n",
    "plt.title('STFT Magnitude')\n",
    "plt.ylabel('Frequency [Hz]')\n",
    "plt.xlabel('Time [sec]')\n",
    "plt.show()"
   ]
  },
  {
   "cell_type": "code",
   "execution_count": null,
   "metadata": {
    "slideshow": {
     "slide_type": "slide"
    }
   },
   "outputs": [],
   "source": [
    "# Plot the spectrogram without pre-computed frequency and time axes\n",
    "import matplotlib.pyplot as plt\n",
    "plt.specgram(y_approx, Fs=fs, NFFT=1152, noverlap=400, scale='linear')\n",
    "plt.xlabel('Time (s)')\n",
    "plt.ylabel('Frequency (Hz)')\n",
    "plt.colorbar()\n",
    "plt.show()"
   ]
  },
  {
   "cell_type": "code",
   "execution_count": null,
   "metadata": {
    "ExecuteTime": {
     "end_time": "2024-08-17T10:47:51.841860Z",
     "start_time": "2024-08-17T10:47:51.757769Z"
    },
    "slideshow": {
     "slide_type": "slide"
    }
   },
   "outputs": [],
   "source": [
    "# Music: https://www.chosic.com/free-music/all/ \n",
    "# Load MP3 file Bird.mp3 and plot the spectrogram\n",
    "# NOTE: Needs `ffprobe` or `avprobe` installed on the computer.\n",
    "from pydub import AudioSegment\n",
    "song = AudioSegment.from_mp3(\"../../data/Bird.mp3\")\n",
    "\n",
    "# Convert song to numpy array\n",
    "samples = np.array(song.get_array_of_samples())"
   ]
  },
  {
   "cell_type": "code",
   "execution_count": null,
   "metadata": {
    "slideshow": {
     "slide_type": "slide"
    },
    "tags": [
     "skip-execution"
    ]
   },
   "outputs": [],
   "source": [
    "# Play the song using pydub\n",
    "sd.play(samples, 44100)"
   ]
  },
  {
   "cell_type": "code",
   "execution_count": null,
   "metadata": {
    "slideshow": {
     "slide_type": "fragment"
    }
   },
   "outputs": [],
   "source": [
    "# Produce a spectrogram using scipy.signal.stft (short-time Fourier transform)\n",
    "f, t, Zxx = stft(samples, song.frame_rate, nperseg=1152)"
   ]
  },
  {
   "cell_type": "code",
   "execution_count": null,
   "metadata": {
    "slideshow": {
     "slide_type": "slide"
    }
   },
   "outputs": [],
   "source": [
    "# Plot the spectrogram\n",
    "plt.pcolormesh(t, f, np.abs(Zxx), vmin=0, vmax=max(samples)/100, shading='gouraud')\n",
    "plt.title('STFT Magnitude')\n",
    "plt.ylabel('Frequency [Hz]')\n",
    "plt.xlabel('Time [sec]')\n",
    "plt.show()"
   ]
  },
  {
   "cell_type": "markdown",
   "metadata": {
    "slideshow": {
     "slide_type": "slide"
    }
   },
   "source": [
    "## Spectrogram on time series\n",
    "- Here, we show a random series of data and its spectrogram.\n",
    "- An abrupt change in the frequency domain will show up in the spectrogram, maybe indicating a change in the underlying process."
   ]
  },
  {
   "cell_type": "code",
   "execution_count": null,
   "metadata": {
    "slideshow": {
     "slide_type": "fragment"
    }
   },
   "outputs": [],
   "source": [
    "# Our friend, the random series, but now a little longer\n",
    "rng = np.random.default_rng(0)\n",
    "n = 2001\n",
    "y = rng.standard_normal(n).cumsum()"
   ]
  },
  {
   "cell_type": "code",
   "execution_count": null,
   "metadata": {
    "slideshow": {
     "slide_type": "slide"
    }
   },
   "outputs": [],
   "source": [
    "# Compute the spectrogram\n",
    "f, t, Zxx = stft(y, 2000, nperseg=100)\n",
    "\n",
    "# Plot the series y and the spectrogram above each other\n",
    "import matplotlib.pyplot as plt\n",
    "fig, axs = plt.subplots(2, 1)\n",
    "axs[0].plot(y)\n",
    "axs[0].set_xlim(0, n-1)\n",
    "axs[0].set_ylabel('Amplitude')\n",
    "axs[1].pcolormesh(t, f, np.abs(Zxx), vmin=0, shading='gouraud', vmax=1) # Play with the vmax parameter to enhance the contrast\n",
    "axs[1].set_ylabel('Frequency [Hz]')\n",
    "axs[1].set_xlabel('Intervals')\n",
    "plt.show()"
   ]
  },
  {
   "cell_type": "markdown",
   "metadata": {
    "slideshow": {
     "slide_type": "slide"
    }
   },
   "source": [
    "```{seealso} \n",
    ":class: tip\n",
    "\n",
    "## Resources\n",
    "- [Wikipedia: Short-time Fourier transform](https://en.wikipedia.org/wiki/Short-time_Fourier_transform)\n",
    "- [SciPy's Short Time Fourier Transform](https://docs.scipy.org/doc/scipy/reference/generated/scipy.signal.stft.html)\n",
    "- [matplotlib's specgram](https://matplotlib.org/stable/api/_as_gen/matplotlib.pyplot.specgram.html)\n",
    "- [Free sound files (incl. Bird)](https://www.chosic.com/free-music/all/)"
   ]
  }
 ],
 "metadata": {
  "celltoolbar": "Slideshow",
  "kernelspec": {
   "display_name": "IND320_2024",
   "language": "python",
   "name": "python3"
  },
  "language_info": {
   "codemirror_mode": {
    "name": "ipython",
    "version": 3
   },
   "file_extension": ".py",
   "mimetype": "text/x-python",
   "name": "python",
   "nbconvert_exporter": "python",
   "pygments_lexer": "ipython3",
   "version": "3.12.4"
  }
 },
 "nbformat": 4,
 "nbformat_minor": 4
}
