{
 "cells": [
  {
   "cell_type": "markdown",
   "metadata": {
    "slideshow": {
     "slide_type": "slide"
    }
   },
   "source": [
    "# Imputation\n",
    "- Missing data can occur in a series or stream in different ways:\n",
    "    - In some cases, this means we need to have logic handling different events or types of data that are not always included, e.g., precipitation in weather data which could be rain or snow, possibly reported separately as with OpenWeatherMap.\n",
    "    - For the rain/snow, the missing value is trivial, i.e., missing means 0.\n",
    "    - Random dropouts of streams and randomly missing data due to sensor malfunctions, network glitches, maintenance, etc. can make subsequent analyses faulty.\n",
    "    - If data are missing systematically, this can either make imputation easy (we know what the values should have been) or biased (the imputation is consistently wrong)."
   ]
  },
  {
   "cell_type": "markdown",
   "metadata": {
    "slideshow": {
     "slide_type": "slide"
    }
   },
   "source": [
    "## Simple imputation\n",
    "- For variables that we assume have a fixed distribution, imputing with the mean, trimmed mean or median value can be sufficient.\n",
    "- [scikit-learn's SimpleImputer](https://scikit-learn.org/stable/modules/generated/sklearn.impute.SimpleImputer.html) contains the basic imputations."
   ]
  },
  {
   "cell_type": "code",
   "execution_count": null,
   "metadata": {
    "slideshow": {
     "slide_type": "slide"
    },
    "tags": []
   },
   "outputs": [],
   "source": [
    "# Read the banana dataset from the data folder\n",
    "import pandas as pd\n",
    "df = pd.read_csv('../../data/bananas.csv')\n",
    "\n",
    "# Assume that the maximum value is an outlier we want to remove and replace with NaN\n",
    "import numpy as np\n",
    "df.loc[df['length'] == df['length'].max(), 'length'] = np.nan\n",
    "\n",
    "# Count the number of missing values\n",
    "print(df.isnull().sum())\n",
    "\n",
    "df.describe()"
   ]
  },
  {
   "cell_type": "code",
   "execution_count": null,
   "metadata": {
    "slideshow": {
     "slide_type": "slide"
    },
    "tags": []
   },
   "outputs": [],
   "source": [
    "# Import simple imputer from sklearn\n",
    "from sklearn.impute import SimpleImputer\n",
    "\n",
    "# Impute the missing values with the mean\n",
    "imputer = SimpleImputer(strategy='mean')\n",
    "df_imputed = pd.DataFrame(imputer.fit_transform(df), columns=df.columns)\n",
    "\n",
    "# Count the number of missing values\n",
    "print(df_imputed.isnull().sum())\n",
    "\n",
    "df_imputed.describe()"
   ]
  },
  {
   "cell_type": "markdown",
   "metadata": {
    "slideshow": {
     "slide_type": "slide"
    }
   },
   "source": [
    "## Neighbour imputation\n",
    "- Instead of using \"global\" values, i.e., mean, median, etc., a different strategy is to take inspiration from neighbouring observations.\n",
    "    - If a single variable is used, neighbours can be objects close in the sequence.\n",
    "    - If multiple variables are used, neighbours can be objects with similar properties in the remaining (non-missing) variables.\n",
    "- The size of the neigbourhood, K, as in K Nearest Neighbours, can be used to smooth (large K) or ensure local adaption (small K).\n",
    "- [scikit-learn's KNNImputer](https://scikit-learn.org/stable/modules/generated/sklearn.impute.KNNImputer.html) works well on tabular data."
   ]
  },
  {
   "cell_type": "code",
   "execution_count": null,
   "metadata": {
    "slideshow": {
     "slide_type": "slide"
    },
    "tags": []
   },
   "outputs": [],
   "source": [
    "# Our friend, the random series\n",
    "rng = np.random.default_rng(0)\n",
    "y = rng.standard_normal(301).cumsum()\n",
    "\n",
    "# Plot the numbers\n",
    "import matplotlib.pyplot as plt\n",
    "plt.figure(figsize=(6, 4))\n",
    "plt.plot(y, label='Random curve')\n",
    "plt.xlabel('arbitrary units')\n",
    "plt.ylabel('amplitude')\n",
    "plt.legend()\n",
    "plt.show()"
   ]
  },
  {
   "cell_type": "code",
   "execution_count": null,
   "metadata": {
    "slideshow": {
     "slide_type": "slide"
    },
    "tags": []
   },
   "outputs": [],
   "source": [
    "# Assume that the 302 value is missing, i.e., add a NaN to the end of the series\n",
    "y_NaN = np.append(y, np.nan)\n",
    "\n",
    "# Impute the value using the mean\n",
    "imputer = SimpleImputer(strategy='mean')\n",
    "y_imputed = imputer.fit_transform(y_NaN.reshape(-1, 1))\n",
    "\n",
    "# Print the imputed value\n",
    "print(y_imputed[-1])"
   ]
  },
  {
   "cell_type": "code",
   "execution_count": null,
   "metadata": {
    "slideshow": {
     "slide_type": "slide"
    },
    "tags": []
   },
   "outputs": [],
   "source": [
    "# Import the imputer for nearest neighbors\n",
    "from sklearn.impute import KNNImputer\n",
    "\n",
    "# Impute using the three nearest neighbors\n",
    "imputer = KNNImputer(n_neighbors=3)\n",
    "y_imputed_NN = imputer.fit_transform(y_NaN.reshape(-1, 1))\n",
    "\n",
    "# Print the imputed value\n",
    "print(y_imputed_NN[-1])\n",
    "\n",
    "# Note! See next cell!"
   ]
  },
  {
   "cell_type": "markdown",
   "metadata": {
    "slideshow": {
     "slide_type": "fragment"
    }
   },
   "source": [
    "### Discussion point\n",
    "- What happened to our imputation above?\n",
    "- Why did it not work as expected?"
   ]
  },
  {
   "cell_type": "markdown",
   "metadata": {
    "slideshow": {
     "slide_type": "slide"
    }
   },
   "source": [
    "## Imputation in time series\n",
    "- Most of scikit-learn's imputers are made for tabular data.\n",
    "    - Each sample is seen as independent of the order.\n",
    "    - Time series data are strictly ordered.\n",
    "- Imputation techniques for time series:\n",
    "    - Last Observation Carried Forward (LOCF).\n",
    "    - Next Observation Carried Backward (NOCB).\n",
    "    - Interpolation, e.g., linear between neighbour points, local polynomial fitting, splines."
   ]
  },
  {
   "cell_type": "code",
   "execution_count": null,
   "metadata": {
    "slideshow": {
     "slide_type": "slide"
    },
    "tags": []
   },
   "outputs": [],
   "source": [
    "def LOCF(x):\n",
    "    \"\"\"Last observation carried forward.\"\"\"\n",
    "    y = x.copy()\n",
    "    for i in range(1, len(y)):\n",
    "        if np.isnan(y[i]):\n",
    "            y[i] = y[i - 1]\n",
    "    return y\n",
    "\n",
    "def NOCB(x):\n",
    "    \"\"\"Next observation carried backward.\"\"\"\n",
    "    y = x.copy()\n",
    "    for i in range(len(y) - 2, -1, -1):\n",
    "        if np.isnan(y[i]):\n",
    "            y[i] = y[i + 1]\n",
    "    return y"
   ]
  },
  {
   "cell_type": "code",
   "execution_count": null,
   "metadata": {
    "slideshow": {
     "slide_type": "slide"
    },
    "tags": []
   },
   "outputs": [],
   "source": [
    "# Perform LOCF\n",
    "y_locf = LOCF(y_NaN)\n",
    "\n",
    "# Plot the numbers\n",
    "import matplotlib.pyplot as plt\n",
    "plt.figure(figsize=(6, 4))\n",
    "plt.plot(y, label='Random curve')\n",
    "plt.plot(len(y_locf)-1, y_locf[-1], '.', label='LOCF')\n",
    "plt.xlabel('arbitrary units')\n",
    "plt.ylabel('amplitude')\n",
    "plt.legend()\n",
    "plt.show()\n",
    "print('The LOCF imputed value is', y_locf[-1])"
   ]
  },
  {
   "cell_type": "markdown",
   "metadata": {
    "slideshow": {
     "slide_type": "slide"
    }
   },
   "source": [
    "### Interpolation\n",
    "- When a time series has consecutive dropouts, interpolation can make better imputations.\n",
    "- [Pandas' Series interpolation](https://pandas.pydata.org/docs/reference/api/pandas.Series.interpolate.html) includes many different interpolations, e.g., linear, polynomial, splines, etc.\n",
    "- We will knock out a few points and compare some interpolations."
   ]
  },
  {
   "cell_type": "code",
   "execution_count": null,
   "metadata": {
    "slideshow": {
     "slide_type": "slide"
    },
    "tags": []
   },
   "outputs": [],
   "source": [
    "# Knockout\n",
    "y_NaN[145:150] = np.nan\n",
    "\n",
    "# Perform linear interpolation using the pandas function\n",
    "y_linear = pd.Series(y_NaN).interpolate() # Default is linear interpolation\n",
    "y_spline = pd.Series(y_NaN).interpolate(method='spline', order=3)\n",
    "\n",
    "# Plot the numbers in a side by side plot where the left panel is the original series and the right panel a zoomed view of the imputed series\n",
    "import matplotlib.pyplot as plt\n",
    "plt.figure(figsize=(12, 4))\n",
    "plt.subplot(1, 2, 1)\n",
    "plt.plot(y, label='Random curve', color='black')\n",
    "plt.plot(range(144,151), y_linear[144:151], label='Linear interpolation', color='red')\n",
    "plt.plot(range(144,151), y_spline[144:151], label='Cubic spline', color='blue')\n",
    "plt.xlabel('arbitrary units')\n",
    "plt.ylabel('amplitude')\n",
    "plt.legend()\n",
    "plt.subplot(1, 2, 2)\n",
    "plt.plot(y, label='Random curve', color='black')\n",
    "plt.plot(range(145,150), y_linear[145:150], label='Linear interpolation', color='red')\n",
    "plt.plot(range(145,150), y_spline[145:150], label='Cubic spline', color='blue')\n",
    "plt.axvline(145, color='gray', linestyle='--')\n",
    "plt.axvline(149, color='gray', linestyle='--')\n",
    "plt.xlabel('arbitrary units')\n",
    "plt.ylabel('amplitude')\n",
    "plt.legend()\n",
    "plt.xlim(130, 160)\n",
    "plt.ylim(8, 12)\n",
    "plt.title('Zoomed view')\n",
    "plt.show()"
   ]
  },
  {
   "cell_type": "code",
   "execution_count": null,
   "metadata": {
    "slideshow": {
     "slide_type": "slide"
    },
    "tags": []
   },
   "outputs": [],
   "source": [
    "# Convert the plot above into Plotly graphics\n",
    "import plotly.graph_objects as go\n",
    "fig = go.Figure()\n",
    "fig.add_trace(go.Scatter(y=y_linear, mode='lines', name='Linear interpolation'))\n",
    "fig.add_trace(go.Scatter(y=y_spline, mode='lines', name='Spline interpolation'))\n",
    "fig.add_trace(go.Scatter(y=y, mode='lines', name='Random curve'))\n",
    "fig.update_layout(xaxis_title='arbitrary units', yaxis_title='amplitude')\n",
    "fig.show()"
   ]
  },
  {
   "cell_type": "markdown",
   "metadata": {
    "slideshow": {
     "slide_type": "slide"
    }
   },
   "source": [
    "## Multivariate data imputation\n",
    "- For multivariate data it makes sense to leverage the other variables when one variable contains a missing value.\n",
    "- Nearest Neighbour imputation was mentioned above as a candidate.\n",
    "- An alternative is to use an iterative imputer, e.g., [scikit-learns' Iterative Imputer](https://scikit-learn.org/stable/modules/generated/sklearn.impute.IterativeImputer.html) which predicts each variable from the other variables, imputing and remodelling iteratively."
   ]
  },
  {
   "cell_type": "markdown",
   "metadata": {
    "slideshow": {
     "slide_type": "slide"
    }
   },
   "source": [
    "## Exercise\n",
    "- Use the DEWP, TEMP and PRES variables of the Beijing pollution data (2000 timepoints).\n",
    "- Remove timepoints 1000 to 1005 from the DEWP series.\n",
    "- Apply the iterative imputer to recreate the missing data.\n",
    "- Compare the results to a simple mean imputation by plotting the DEWP for a suitable region around the missing observations."
   ]
  },
  {
   "cell_type": "markdown",
   "metadata": {
    "slideshow": {
     "slide_type": "slide"
    }
   },
   "source": [
    "## References\n",
    "- [scikit-learn's SimpleImputer](https://scikit-learn.org/stable/modules/generated/sklearn.impute.SimpleImputer.html)\n",
    "- [scikit-learn's KNNImputer](https://scikit-learn.org/stable/modules/generated/sklearn.impute.KNNImputer.html)\n",
    "- [Pandas' Series interpolation](https://pandas.pydata.org/docs/reference/api/pandas.Series.interpolate.html)"
   ]
  },
  {
   "cell_type": "code",
   "execution_count": null,
   "metadata": {
    "tags": [
     "hide-cell"
    ]
   },
   "outputs": [],
   "source": [
    "# Dummy cell to ensure Plotly graphics are shown\n",
    "import plotly.graph_objects as go\n",
    "f = go.FigureWidget([go.Scatter(x=[1,1], y=[1,1], mode='markers')])"
   ]
  }
 ],
 "metadata": {
  "celltoolbar": "Slideshow",
  "kernelspec": {
   "display_name": "Python 3 (ipykernel)",
   "language": "python",
   "name": "python3"
  },
  "language_info": {
   "codemirror_mode": {
    "name": "ipython",
    "version": 3
   },
   "file_extension": ".py",
   "mimetype": "text/x-python",
   "name": "python",
   "nbconvert_exporter": "python",
   "pygments_lexer": "ipython3",
   "version": "3.12.4"
  }
 },
 "nbformat": 4,
 "nbformat_minor": 4
}
