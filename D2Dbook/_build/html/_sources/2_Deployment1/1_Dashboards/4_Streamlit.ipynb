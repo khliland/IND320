{
 "cells": [
  {
   "cell_type": "markdown",
   "id": "93327846",
   "metadata": {},
   "source": [
    "# Streamlit\n"
   ]
  },
  {
   "cell_type": "markdown",
   "id": "609de218",
   "metadata": {},
   "source": [
    "- Maybe the most used freeware dashboard in Python.\n",
    "- Enormous choice of elements, widgets and extensions.\n",
    "- Can be run as a local app in a browser or in various other environments.\n",
    "- Create a .py file and run using the terminal command below in your favourite Python environment.\n",
    "    - First time usage prompts for an email address (press Enter if you do not want to supply it).\n",
    "    - Code can be updated while the app is running.\n",
    "    - Any action performed in the app triggers a rerun of the code.\n",
    "```\n",
    "streamlit run /path_to_your_streamlit_folder/appname.py\n",
    "```"
   ]
  },
  {
   "cell_type": "markdown",
   "id": "f34b0d81",
   "metadata": {},
   "source": [
    "## NB! UNDER CONSTRUCTION \n",
    "static vs dynamic, magic vs explicit, session_state + on_change + on_click\n",
    "all code reruns, therefore caching is important for performance\n",
    "basic elements\n",
    "interaction\n",
    "layout\n",
    "secrets.toml"
   ]
  },
  {
   "cell_type": "markdown",
   "id": "0d84ad45",
   "metadata": {},
   "source": [
    "```{seealso} \n",
    ":class: tip\n",
    "\n",
    "## Resources\n",
    "- [Streamlit API reference](https://docs.streamlit.io/develop/api-reference)\n",
    "- [Writer doc basics](https://dev.writer.com/framework/builder-basics)\n",
    "- [Writer doc app state](https://dev.writer.com/framework/application-state)\n",
    "- [Writer doc event handling](https://dev.writer.com/framework/event-handlers)\n",
    "```"
   ]
  }
 ],
 "metadata": {
  "kernelspec": {
   "display_name": "ind320_25",
   "language": "python",
   "name": "python3"
  },
  "language_info": {
   "codemirror_mode": {
    "name": "ipython",
    "version": 3
   },
   "file_extension": ".py",
   "mimetype": "text/x-python",
   "name": "python",
   "nbconvert_exporter": "python",
   "pygments_lexer": "ipython3",
   "version": "3.12.10"
  }
 },
 "nbformat": 4,
 "nbformat_minor": 5
}
