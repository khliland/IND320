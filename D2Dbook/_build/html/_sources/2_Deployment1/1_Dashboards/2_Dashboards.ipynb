{
 "cells": [
  {
   "cell_type": "markdown",
   "metadata": {
    "slideshow": {
     "slide_type": "slide"
    },
    "tags": []
   },
   "source": [
    "# Dashboards\n",
    "- Dashboards come in many flavours.\n",
    "- Chosing the right (combination of) frameworks has an impact on possibilites and limitations.\n",
    "- Free vs paid framework:\n",
    "    - Free is usually only free in the development phase.\n",
    "    - Some paid services also include deployment on a server, easy scaling to meet demands, etc.\n",
    "    - For companies with custom built projects, infrastructure may already be available in-house or through a contract with Amazon Web Services, Microsoft Azure, Google Cloud Platform or other agreements.\n",
    "- No code vs only code vs hybrid"
   ]
  },
  {
   "cell_type": "markdown",
   "metadata": {
    "slideshow": {
     "slide_type": "slide"
    },
    "tags": []
   },
   "source": [
    "- Static vs streaming data:\n",
    "    - Is the data collected in advance or will more data arrive after deployment?\n",
    "- Static vs interactive interface:\n",
    "    - Hovering or clicking to reveal labels; zooming, paning, etc.\n",
    "    - Selection of subsets, possibly affecting other plots.\n",
    "    - Graphical user interface elements (widgets like buttons, sliders, etc.) to manipulate plots.\n",
    "    - Possiblity of selecting input data.\n",
    "- Single or multiple views:\n",
    "    - Static set of plots.\n",
    "    - Card layout with \"layers\" of dashboards.\n",
    "    - Connected pages with different focus, e.g.,\n",
    "        - (1) data selection and filtering, (2) plots, (3) key performance indexes."
   ]
  },
  {
   "cell_type": "markdown",
   "metadata": {
    "slideshow": {
     "slide_type": "slide"
    },
    "tags": []
   },
   "source": [
    "## Dashboard frameworks\n",
    "- There are dozens of different frameworks available, both open and proprietary.\n",
    "- [Power BI](https://powerbi.microsoft.com):\n",
    "    - Microsoft's industry standard for dashboard building.\n",
    "    - Visual app building with possibility of integrating code.\n",
    "    - Various tiers from limited free to full blown enterprise.\n",
    "- [Grafana](https://grafana.com/grafana/):\n",
    "    - Open source ecosystem with additional paid services.\n",
    "    - Strong on profiling, metrics, sensor integration, etc.\n",
    "- [Tableau](https://www.tableau.com/)\n",
    "    - Subscription full stack of data handling to visualisation.\n",
    "- [Dash](https://plotly.com/)\n",
    "    - Dashboards of all kinds based on open source [Plotly](https://plotly.com/python/)."
   ]
  },
  {
   "cell_type": "markdown",
   "metadata": {
    "slideshow": {
     "slide_type": "slide"
    },
    "tags": []
   },
   "source": [
    "- Excel:\n",
    "    - For static data and static plots, Excel has lots of options.\n",
    "- [Jupyter](https://jupyter.org/):\n",
    "    - Many of the elements of a dashboard can be integrated into a Jupyter Notebook.\n",
    "    - Services exist that can turn Python Notebooks into web apps (e.g., [Mercury](https://runmercury.com/)).\n",
    "- [Streamlit](https://streamlit.io/):\n",
    "    - Pages of Python based widget and graphics.\n",
    "    - Extension modules.\n",
    "    - Deployment webpage with single free (limited) app, then payment subscription.\n",
    "        - Connected to GitHub, so every _git push_ updates the app.\n",
    "- [Streamsync](https://www.streamsync.cloud/):\n",
    "    - Drag-and-drop visual editor with Python backend and event handling.\n",
    "    - Extension modules.\n",
    "    - Various widgets, metrics, interactive Plotly graphics, multiple pages and card layout.\n",
    "    - Asynchronus (non-blocking), threaded, minimal latency.\n",
    "    - Can be deployed via Docker, though free services are few and far appart.\n"
   ]
  },
  {
   "cell_type": "markdown",
   "metadata": {
    "slideshow": {
     "slide_type": "slide"
    },
    "tags": []
   },
   "source": [
    "```{seealso} Resources\n",
    ":class: tip\n",
    "- [Power BI](https://powerbi.microsoft.com)\n",
    "- [Grafana](https://grafana.com/grafana/)\n",
    "- [Tableau](https://www.tableau.com/)\n",
    "- [Dash](https://plotly.com/)\n",
    "- [Jupyter](https://jupyter.org/)\n",
    "- [Streamlit](https://streamlit.io/)\n",
    "- [Streamsync](https://www.streamsync.cloud/)\n",
    "- [Plotly](https://plotly.com/python/)\n",
    "- [Mercury](https://runmercury.com/)\n",
    "```"
   ]
  }
 ],
 "metadata": {
  "kernelspec": {
   "display_name": "Python 3 (ipykernel)",
   "language": "python",
   "name": "python3"
  },
  "language_info": {
   "codemirror_mode": {
    "name": "ipython",
    "version": 3
   },
   "file_extension": ".py",
   "mimetype": "text/x-python",
   "name": "python",
   "nbconvert_exporter": "python",
   "pygments_lexer": "ipython3",
   "version": "3.11.6"
  }
 },
 "nbformat": 4,
 "nbformat_minor": 4
}
