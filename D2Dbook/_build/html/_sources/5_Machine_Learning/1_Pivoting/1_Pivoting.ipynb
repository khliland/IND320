{
 "cells": [
  {
   "cell_type": "markdown",
   "metadata": {
    "editable": true,
    "slideshow": {
     "slide_type": "slide"
    },
    "tags": []
   },
   "source": [
    "# Pivot tables\n",
    "- Pivoting of data is the process of aggregating data across two or more categorical variables.\n",
    "- Closely related are:\n",
    "    - Group by, where the number of categorical variables is flexible.\n",
    "    - Cross tabulation, which is basically pivoting, but with different defaults and parameters.\n",
    "- In [Pandas](https://pandas.pydata.org/docs/reference/api/pandas.pivot_table.html), pivot tables are based on\n",
    "    - _values_: what to aggregate\n",
    "    - _index_ and _column_: layout of result, and\n",
    "    - _aggfunc_: how to aggregate."
   ]
  },
  {
   "cell_type": "markdown",
   "metadata": {
    "editable": true,
    "slideshow": {
     "slide_type": "slide"
    },
    "tags": []
   },
   "source": [
    "## Sales data from Power BI examples"
   ]
  },
  {
   "cell_type": "code",
   "execution_count": null,
   "metadata": {
    "editable": true,
    "slideshow": {
     "slide_type": "fragment"
    },
    "tags": []
   },
   "outputs": [],
   "source": [
    "# Read SalesData.xlsx\n",
    "import pandas as pd\n",
    "df = pd.read_excel('../../data/SalesData.xlsx', skiprows=4, header=0)\n",
    "print(df.shape)\n",
    "df.head()"
   ]
  },
  {
   "cell_type": "code",
   "execution_count": null,
   "metadata": {
    "editable": true,
    "slideshow": {
     "slide_type": "slide"
    },
    "tags": []
   },
   "outputs": [],
   "source": [
    "# Add a column giving the total price\n",
    "df['TotalPrice'] = df['Quantity'] * df['UnitPrice']\n",
    "df.head()"
   ]
  },
  {
   "cell_type": "code",
   "execution_count": null,
   "metadata": {
    "editable": true,
    "slideshow": {
     "slide_type": "slide"
    },
    "tags": []
   },
   "outputs": [],
   "source": [
    "# Use Pandas groupby() to group by Channel and sum the TotalPrice\n",
    "df1 = df.groupby('Channel')['TotalPrice'].sum()\n",
    "df1"
   ]
  },
  {
   "cell_type": "code",
   "execution_count": null,
   "metadata": {
    "editable": true,
    "slideshow": {
     "slide_type": "fragment"
    },
    "tags": []
   },
   "outputs": [],
   "source": [
    "# Use Pandas pivot_table() to group by Channel and Manager and sum the TotalPrice\n",
    "df2 = df.pivot_table(index='Channel', columns='Manager', values='TotalPrice', aggfunc='sum')\n",
    "df2"
   ]
  },
  {
   "cell_type": "code",
   "execution_count": null,
   "metadata": {
    "editable": true,
    "slideshow": {
     "slide_type": "slide"
    },
    "tags": []
   },
   "outputs": [],
   "source": [
    "# Exchange aggfunc='sum' for aggfunc='count' to confirm that the dataset is not very suitable for this type of analysis\n",
    "df2 = df.pivot_table(index='Channel', columns='Manager', values='TotalPrice', aggfunc='count')\n",
    "df2"
   ]
  },
  {
   "cell_type": "markdown",
   "metadata": {
    "editable": true,
    "slideshow": {
     "slide_type": "slide"
    },
    "tags": []
   },
   "source": [
    "## Olympic athletes and results\n",
    "- [Kaggle dataset](https://www.kaggle.com/datasets/heesoo37/120-years-of-olympic-history-athletes-and-results/) scraped from [www.sports-reference.com/](http://www.sports-reference.com/)"
   ]
  },
  {
   "cell_type": "code",
   "execution_count": null,
   "metadata": {
    "editable": true,
    "slideshow": {
     "slide_type": "fragment"
    },
    "tags": []
   },
   "outputs": [],
   "source": [
    "# Read the athlete_events.csv file\n",
    "import pandas as pd\n",
    "athletes = pd.read_csv('../../data/athlete_events.csv')\n",
    "print(athletes.shape)\n",
    "athletes.head()"
   ]
  },
  {
   "cell_type": "code",
   "execution_count": null,
   "metadata": {
    "editable": true,
    "slideshow": {
     "slide_type": "slide"
    },
    "tags": []
   },
   "outputs": [],
   "source": [
    "# Check average weight of athletes\n",
    "athlete_weight = athletes['Weight'].mean()\n",
    "\n",
    "# Print athlete_weight with 2 decimal places and kg suffix\n",
    "print('Average weight of athletes: {:.2f} kg'.format(athlete_weight))"
   ]
  },
  {
   "cell_type": "code",
   "execution_count": null,
   "metadata": {
    "editable": true,
    "slideshow": {
     "slide_type": "slide"
    },
    "tags": []
   },
   "outputs": [],
   "source": [
    "# Check average weight of athletes for each year\n",
    "athlete_weight_by_year = athletes.groupby('Year')['Weight'].mean()\n",
    "\n",
    "# Plot athlete_weight_by_year using kind='bar'\n",
    "import matplotlib.pyplot as plt\n",
    "athlete_weight_by_year.plot(kind='bar', figsize=(12, 4))\n",
    "# Add horizontal grid lines to the plot\n",
    "plt.grid(axis='y') \n",
    "plt.show()"
   ]
  },
  {
   "cell_type": "code",
   "execution_count": null,
   "metadata": {
    "editable": true,
    "slideshow": {
     "slide_type": "slide"
    },
    "tags": []
   },
   "outputs": [],
   "source": [
    "# Check average weight of athletes for each sport and drop NA values\n",
    "athlete_weight_by_sport = athletes.groupby('Sport')['Weight'].mean().dropna()\n",
    "athlete_weight_by_sport"
   ]
  },
  {
   "cell_type": "code",
   "execution_count": null,
   "metadata": {
    "editable": true,
    "slideshow": {
     "slide_type": "slide"
    },
    "tags": []
   },
   "outputs": [],
   "source": [
    "# Make a pivot table of athlete weights by sport and year\n",
    "athlete_weight_sport_year = athletes.pivot_table(index='Sport', columns='Year', values='Weight', aggfunc='mean')\n",
    "athlete_weight_sport_year"
   ]
  },
  {
   "cell_type": "code",
   "execution_count": null,
   "metadata": {
    "editable": true,
    "slideshow": {
     "slide_type": "slide"
    },
    "tags": []
   },
   "outputs": [],
   "source": [
    "# Extract the rows for Season == Summer and Year >= 2000\n",
    "summer = athletes.loc[athletes['Season'] == 'Summer',:]\n",
    "summer2000 = summer.loc[summer['Year'] >= 2000,:]\n",
    "summer2000.head()"
   ]
  },
  {
   "cell_type": "code",
   "execution_count": null,
   "metadata": {
    "editable": true,
    "slideshow": {
     "slide_type": "slide"
    },
    "tags": []
   },
   "outputs": [],
   "source": [
    "# Repeat the pivoting step on the summer2000 data\n",
    "awsy = summer2000.pivot_table(index='Sport', columns='Year', values='Weight', aggfunc='mean')\n",
    "\n",
    "# Remove rows that only contain NaN values\n",
    "awsy = awsy.dropna(how='all')\n",
    "awsy.round(1)"
   ]
  },
  {
   "cell_type": "markdown",
   "metadata": {
    "editable": true,
    "slideshow": {
     "slide_type": "slide"
    },
    "tags": []
   },
   "source": [
    "### Aggregate on multiple functions and/or values"
   ]
  },
  {
   "cell_type": "code",
   "execution_count": null,
   "metadata": {
    "editable": true,
    "slideshow": {
     "slide_type": "fragment"
    },
    "tags": []
   },
   "outputs": [],
   "source": [
    "# Repeat, but limit to summers of 2000-2016\n",
    "awsy = summer2000.pivot_table(index='Sport', columns='Year', values=['Weight','Height'], aggfunc=['mean','max'])\n",
    "\n",
    "# Remove rows that only contain NaN values\n",
    "awsy = awsy.dropna(how='all')\n",
    "awsy.round(1).head()"
   ]
  },
  {
   "cell_type": "code",
   "execution_count": null,
   "metadata": {
    "editable": true,
    "slideshow": {
     "slide_type": "slide"
    },
    "tags": []
   },
   "outputs": [],
   "source": [
    "# Repeat, but add margins\n",
    "awsy = summer2000.pivot_table(index='Sport', columns='Year', values=['Weight','Height'], aggfunc='max', margins=True)\n",
    "\n",
    "# Remove rows that only contain NaN values\n",
    "awsy = awsy.dropna(how='all')\n",
    "awsy.round(1).head()"
   ]
  },
  {
   "cell_type": "markdown",
   "metadata": {
    "editable": true,
    "slideshow": {
     "slide_type": "slide"
    },
    "tags": []
   },
   "source": [
    "### Stack and unstack\n",
    "- These operations switch between the groupby-format and the pivot_table-format."
   ]
  },
  {
   "cell_type": "code",
   "execution_count": null,
   "metadata": {
    "slideshow": {
     "slide_type": "fragment"
    },
    "tags": []
   },
   "outputs": [],
   "source": [
    "# Groupby with two columns\n",
    "athlete_weight_by_sport_groupby = athletes.groupby('Sport')[['Weight','Height']].mean()\n",
    "athlete_weight_by_sport_groupby"
   ]
  },
  {
   "cell_type": "code",
   "execution_count": null,
   "metadata": {
    "slideshow": {
     "slide_type": "slide"
    },
    "tags": []
   },
   "outputs": [],
   "source": [
    "# Unstack the result\n",
    "athlete_weight_by_sport_groupby.unstack()"
   ]
  },
  {
   "cell_type": "markdown",
   "metadata": {
    "editable": true,
    "slideshow": {
     "slide_type": "slide"
    },
    "tags": []
   },
   "source": [
    "## Exercise\n",
    "- Extract winter olympics.\n",
    "- Make yearly medal statistics for all countries using pivoting to count medals.\n",
    "    - Remove all countries that have no winter olympic medals.\n",
    "- Extract the top 10 countries that have the most winter olympic medals in sum.\n",
    "- Use the _noc\\_regions.csv_ to exchange the NOC codes with region names.\n",
    "- Plot the resulting 10 curves as proportions of medals per year.\n",
    "    - Place the legend outside the plot"
   ]
  },
  {
   "cell_type": "markdown",
   "metadata": {
    "editable": true,
    "slideshow": {
     "slide_type": "slide"
    },
    "tags": []
   },
   "source": [
    "```{seealso} \n",
    ":class: tip\n",
    "\n",
    "## Resources\n",
    "- [Pandas' group by](https://pandas.pydata.org/docs/reference/api/pandas.DataFrame.groupby.html)\n",
    "- [Pandas' cross tabulation](https://pandas.pydata.org/docs/reference/api/pandas.crosstab.html)\n",
    "- [Pandas' pivot table](https://pandas.pydata.org/docs/reference/api/pandas.pivot_table.html)\n",
    "- [Kaggle dataset: Olympic athletes](https://www.kaggle.com/datasets/heesoo37/120-years-of-olympic-history-athletes-and-results/) scraped from [www.sports-reference.com/](http://www.sports-reference.com/)\n",
    "- [YouTube: Pivot tables with Pandas](https://youtu.be/ETQXKwM6YMY?si=nnBpRENvqnhZYL_e) (8m:59s)\n",
    "```"
   ]
  }
 ],
 "metadata": {
  "kernelspec": {
   "display_name": "Python 3 (ipykernel)",
   "language": "python",
   "name": "python3"
  },
  "language_info": {
   "codemirror_mode": {
    "name": "ipython",
    "version": 3
   },
   "file_extension": ".py",
   "mimetype": "text/x-python",
   "name": "python",
   "nbconvert_exporter": "python",
   "pygments_lexer": "ipython3",
   "version": "3.12.4"
  }
 },
 "nbformat": 4,
 "nbformat_minor": 4
}
