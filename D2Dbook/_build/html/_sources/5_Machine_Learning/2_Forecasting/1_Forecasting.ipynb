{
 "cells": [
  {
   "cell_type": "markdown",
   "metadata": {
    "slideshow": {
     "slide_type": "slide"
    },
    "tags": []
   },
   "source": [
    "# Forecasting\n",
    "- Forecasting is the process of predicting future conditions of a time series.\n",
    "- We will go through two related approaches which start from separate standpoints but overlap in some variations:\n",
    "    - [Machine Learning based methods](./2_ML_approach.ipynb) handling time series as any other tabular data, possibly adding lagged variables to add a flavour of autoregressiveness.\n",
    "    - Specific forecasting methods of included int he [ARIMA family of methods](./3_SARIMAX.ipynb), possibly adding exogenous variables bridging the gap to ML based methods.\n",
    "      (We will use SARIMAX - Seasonal Auto-Regressive Integrated Moving Average with eXogenous factors and subsets of it).\n",
    "- Neural network models for forecasting include: Recurrent Neural Networks, Long-Short Term Memory, Transformers, Retentive Networks, Facebook's [Prophet](https://pypi.org/project/fbprophet/), Amazon's [GluonTS/DeepAR](https://pypi.org/project/gluonts/), etc.\n",
    "    - Large Language Models, e.g., used in Chat GPT, Bard, etc., rely heavily on forecasting the next word(s) in a sequence."
   ]
  }
 ],
 "metadata": {
  "kernelspec": {
   "display_name": "Python 3 (ipykernel)",
   "language": "python",
   "name": "python3"
  },
  "language_info": {
   "codemirror_mode": {
    "name": "ipython",
    "version": 3
   },
   "file_extension": ".py",
   "mimetype": "text/x-python",
   "name": "python",
   "nbconvert_exporter": "python",
   "pygments_lexer": "ipython3",
   "version": "3.12.4"
  }
 },
 "nbformat": 4,
 "nbformat_minor": 4
}
