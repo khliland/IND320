{
 "cells": [
  {
   "cell_type": "markdown",
   "metadata": {
    "editable": true,
    "slideshow": {
     "slide_type": "slide"
    },
    "tags": []
   },
   "source": [
    "# Machine Learning\n",
    "- The concept of Machine Learning (ML) is a wide umbrella covering many aspects of data analysis and overlaps with statistics.\n",
    "- A basic knowledge of ML is assumed, so for instance prediction models for tabular data is not handled as a separate topic.\n",
    "- To prepare for deployment, we have selected the following main topics:\n",
    "    - _Pivoting_: Data aggregation over categorical variables, e.g., finding average sales per representative in a company.\n",
    "    - _Forecasting_: Using ML or autoregressive models for prediction of future samples.\n",
    "        - Including a brief overview of the SARIMAX family of methods.\n",
    "    - _Streaming and model updates_: Tools for partial fits and streaming updates of models."
   ]
  },
  {
   "cell_type": "markdown",
   "metadata": {
    "editable": true,
    "slideshow": {
     "slide_type": "slide"
    },
    "tags": []
   },
   "source": [
    "## Resources\n",
    "- [Forecasting: Principles and Practice](https://otexts.com/fpp3/)\n",
    "- [An Introduction to Statistical Learning - with Applications in Python](https://www.statlearning.com/)  \n",
    "  [[Gareth et al. 2023](https://doi.org/10.1007/978-3-031-38747-0)]"
   ]
  }
 ],
 "metadata": {
  "kernelspec": {
   "display_name": "Python 3 (ipykernel)",
   "language": "python",
   "name": "python3"
  },
  "language_info": {
   "codemirror_mode": {
    "name": "ipython",
    "version": 3
   },
   "file_extension": ".py",
   "mimetype": "text/x-python",
   "name": "python",
   "nbconvert_exporter": "python",
   "pygments_lexer": "ipython3",
   "version": "3.11.6"
  }
 },
 "nbformat": 4,
 "nbformat_minor": 4
}
