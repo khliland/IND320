{
 "cells": [
  {
   "cell_type": "markdown",
   "metadata": {
    "slideshow": {
     "slide_type": "slide"
    }
   },
   "source": [
    "# Dashboards vs Reports\n",
    "- Dashboards are often updated live\n",
    "    - Mostly graphs, plots, etc.\n",
    "    - Key performance indicators (KPIs)\n",
    "    - Current trends, accumulation in minutes, hours, days, weeks, ...\n",
    "- Reports can be:\n",
    "    - Summaries of activities, economy, etc. up to a point\n",
    "    - Investigations into a subject\n",
    "    - Suggestive of future path or action\n",
    "    - Often printable, but digital reports can contain interactive graphics"
   ]
  }
 ],
 "metadata": {
  "celltoolbar": "Slideshow",
  "kernelspec": {
   "display_name": "Python 3 (ipykernel)",
   "language": "python",
   "name": "python3"
  },
  "language_info": {
   "codemirror_mode": {
    "name": "ipython",
    "version": 3
   },
   "file_extension": ".py",
   "mimetype": "text/x-python",
   "name": "python",
   "nbconvert_exporter": "python",
   "pygments_lexer": "ipython3",
   "version": "3.10.6"
  }
 },
 "nbformat": 4,
 "nbformat_minor": 2
}
