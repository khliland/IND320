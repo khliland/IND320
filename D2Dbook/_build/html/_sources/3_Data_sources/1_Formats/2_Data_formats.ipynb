{
 "cells": [
  {
   "cell_type": "markdown",
   "metadata": {
    "slideshow": {
     "slide_type": "slide"
    }
   },
   "source": [
    "# Data formats\n",
    "Data come in many forms and formats, depending on source and function."
   ]
  },
  {
   "cell_type": "markdown",
   "metadata": {
    "slideshow": {
     "slide_type": "slide"
    }
   },
   "source": [
    "## \"Flat\" text files\n",
    "- .txt, .dat, .csv, .fasta, ...\n",
    "- Often with a fixed format\n",
    "    - Comma separated columns\n",
    "    - Tabulator separated columns\n",
    "    - Fixed width columns\n",
    "    - Headers, subheaders\n",
    "    - Sections with keywords"
   ]
  },
  {
   "cell_type": "code",
   "execution_count": null,
   "metadata": {
    "ExecuteTime": {
     "end_time": "2024-08-17T10:12:32.051316Z",
     "start_time": "2024-08-17T10:12:31.451658Z"
    },
    "slideshow": {
     "slide_type": "slide"
    },
    "tags": []
   },
   "outputs": [],
   "source": [
    "import pandas as pd\n",
    "planets_DF = pd.read_csv('../../data/planets.csv')\n",
    "planets_DF.head()"
   ]
  },
  {
   "cell_type": "code",
   "execution_count": null,
   "metadata": {
    "ExecuteTime": {
     "end_time": "2024-08-17T10:12:32.058878Z",
     "start_time": "2024-08-17T10:12:32.052291Z"
    },
    "slideshow": {
     "slide_type": "slide"
    },
    "tags": []
   },
   "outputs": [],
   "source": [
    "# Using planets_DF as input, remove \" AU\" from the \"distance\" column and convert it to a float\n",
    "planets_DF['distance'] = planets_DF['distance'].str.replace(' AU', '').astype(float)\n",
    "print(planets_DF.dtypes)\n",
    "planets_DF.head()"
   ]
  },
  {
   "cell_type": "markdown",
   "metadata": {
    "slideshow": {
     "slide_type": "slide"
    }
   },
   "source": [
    "### Plotting directly with Pandas\n",
    "Instead of converting data to NumPy arrays and plotting, it is possible to plot directly from Pandas with [special plot commands](https://pandas.pydata.org/docs/reference/plotting.html) and [.plot.xxx()](https://pandas.pydata.org/docs/reference/api/pandas.DataFrame.plot.html)."
   ]
  },
  {
   "cell_type": "code",
   "execution_count": null,
   "metadata": {
    "ExecuteTime": {
     "end_time": "2024-08-17T10:12:32.549097Z",
     "start_time": "2024-08-17T10:12:32.059697Z"
    },
    "slideshow": {
     "slide_type": "slide"
    },
    "tags": []
   },
   "outputs": [],
   "source": [
    "# Bar plot\n",
    "# pd.options.plotting.backend = \"matplotlib\"\n",
    "import matplotlib.pyplot as plt\n",
    "planets_DF.plot.bar(x='planet', y='distance', rot=0)\n",
    "plt.show()\n",
    "# Try: color, rot, add more with plt.xxx()"
   ]
  },
  {
   "cell_type": "markdown",
   "metadata": {
    "slideshow": {
     "slide_type": "slide"
    }
   },
   "source": [
    "### Exercise\n",
    "- Plot the planets as circles instead of bars.\n",
    "- Use the diameter of the planet to adjust the circle size. "
   ]
  },
  {
   "cell_type": "code",
   "execution_count": null,
   "metadata": {
    "ExecuteTime": {
     "end_time": "2024-08-17T10:12:32.687356Z",
     "start_time": "2024-08-17T10:12:32.563980Z"
    },
    "slideshow": {
     "slide_type": "slide"
    },
    "tags": []
   },
   "outputs": [],
   "source": [
    "# Plot concentric ellipses for each planet where the size of the ellipse is proportional to \n",
    "# the planet's distance. Add planet names to the plot. Let the xlim and ylim extend from -31 to 31.\n",
    "import matplotlib.pyplot as plt\n",
    "import numpy as np\n",
    "fig, ax = plt.subplots(figsize=(10,10))\n",
    "ax.set_xlim(-31, 31)\n",
    "ax.set_ylim(-31, 31)\n",
    "ax.set_aspect('equal')\n",
    "ax.set_facecolor('black')\n",
    "for i in range(len(planets_DF)):\n",
    "    ax.add_artist(plt.Circle((0,0), planets_DF['distance'][i], color='white', fill=False))\n",
    "    ax.text(planets_DF['distance'][i], 0, planets_DF['planet'][i], color='white', ha='center', va='center')\n",
    "plt.show()"
   ]
  },
  {
   "cell_type": "markdown",
   "metadata": {
    "slideshow": {
     "slide_type": "slide"
    }
   },
   "source": [
    "## Excel files\n",
    "Look at the Budget.xlsx file in the _data_ folder to justify the choice of import below.  \n",
    "Should this be adjusted?  \n",
    "  \n",
    "[pd.read_excel()](https://pandas.pydata.org/docs/reference/api/pandas.read_excel.html)"
   ]
  },
  {
   "cell_type": "code",
   "execution_count": null,
   "metadata": {
    "ExecuteTime": {
     "end_time": "2024-08-17T10:12:32.879578Z",
     "start_time": "2024-08-17T10:12:32.689236Z"
    },
    "slideshow": {
     "slide_type": "slide"
    },
    "tags": []
   },
   "outputs": [],
   "source": [
    "Budget = pd.read_excel('../../data/Budget.xlsx', sheet_name='2019', skiprows=2, index_col=0)\n",
    "Budget"
   ]
  },
  {
   "cell_type": "code",
   "execution_count": 6,
   "metadata": {
    "ExecuteTime": {
     "end_time": "2024-08-17T10:12:32.884029Z",
     "start_time": "2024-08-17T10:12:32.880780Z"
    },
    "slideshow": {
     "slide_type": "slide"
    },
    "tags": []
   },
   "outputs": [],
   "source": [
    "# Remove redundant row and column (sums)\n",
    "Budget = Budget.iloc[:12, :12]\n",
    "# Exchange NaN values with 0\n",
    "Budget.replace(np.NAN, 0, inplace=True)"
   ]
  },
  {
   "cell_type": "code",
   "execution_count": null,
   "metadata": {
    "ExecuteTime": {
     "end_time": "2024-08-17T10:12:32.896461Z",
     "start_time": "2024-08-17T10:12:32.885468Z"
    },
    "slideshow": {
     "slide_type": "slide"
    },
    "tags": []
   },
   "outputs": [],
   "source": [
    "Budget"
   ]
  },
  {
   "cell_type": "code",
   "execution_count": null,
   "metadata": {
    "ExecuteTime": {
     "end_time": "2024-08-17T10:12:33.012065Z",
     "start_time": "2024-08-17T10:12:32.897390Z"
    },
    "slideshow": {
     "slide_type": "slide"
    },
    "tags": []
   },
   "outputs": [],
   "source": [
    "# Plot monthly budget as boxplot\n",
    "Budget.boxplot()\n",
    "plt.show()"
   ]
  },
  {
   "cell_type": "markdown",
   "metadata": {
    "slideshow": {
     "slide_type": "slide"
    }
   },
   "source": [
    "### Pandas plotting with different backend\n",
    "It is possible to exchange the _matplotlib_ backend in _Pandas_ with something else, e.g., the more interactive [_Plotly_](https://plotly.com/python/pandas-backend/). This may not be a full replacement."
   ]
  },
  {
   "cell_type": "code",
   "execution_count": null,
   "metadata": {
    "ExecuteTime": {
     "end_time": "2024-08-17T10:12:33.666621Z",
     "start_time": "2024-08-17T10:12:33.013859Z"
    },
    "slideshow": {
     "slide_type": "slide"
    },
    "tags": []
   },
   "outputs": [],
   "source": [
    "pd.options.plotting.backend = \"plotly\"\n",
    "fig = Budget.boxplot()\n",
    "fig.show() # Exchanged plt.show() with fig.show() to avoid mixing matplotlib and plotly"
   ]
  },
  {
   "cell_type": "markdown",
   "metadata": {
    "slideshow": {
     "slide_type": "slide"
    }
   },
   "source": [
    "## Other proprietary formats\n",
    "- Many formats are vendor specific and only accessible because of backward engineering or similar. These are just a handful of such examples:\n",
    "    - [MATLAB, NetCDF, Harwell-Boeing](https://docs.scipy.org/doc/scipy/reference/io.html) (SciPy.io)\n",
    "    - Some chemical analytical instruments, e.g., [Bruker Opus format](https://github.com/qedsoftware/brukeropusreader), [Perkin Elmer IR](https://specio.readthedocs.io/en/stable/auto_examples/reader/plot_read_sp.html)\n",
    "    - [GNSS](https://github.com/GNSSpy-Project/gnsspy)"
   ]
  },
  {
   "cell_type": "markdown",
   "metadata": {
    "slideshow": {
     "slide_type": "slide"
    }
   },
   "source": [
    "## Media files\n",
    "- Most image formats and many video formats are more or less directly readable using the [Pillow](https://pillow.readthedocs.io/en/stable/handbook/image-file-formats.html) or or PIL libraries.\n",
    "- Medical imaging formats have some Python support, e.g., the [DICOM format](https://pydicom.github.io/)\n",
    "- Sound files can be opened using [pySoundFile](https://pysoundfile.readthedocs.io/en/latest/), [librosa](https://github.com/librosa/librosa) or similar."
   ]
  },
  {
   "cell_type": "markdown",
   "metadata": {
    "slideshow": {
     "slide_type": "slide"
    }
   },
   "source": [
    "## JSON - JavaScript Object Notation\n",
    "- Originally part of the 1999 JavaScript standard.\n",
    "- Popular format for data storage and transfer, supported by a large range of programming languages.\n",
    "- Text-based with fixed formatting but highly flexible structure and contents.\n",
    "- [Basics](https://www.json.org/):\n",
    "    - a _string_ has limitations/functionality with regard to backslashes \\, otherwise plain text.\n",
    "    - a _number_ is limited to integers, decimal numbers and scientific (float) numbers.\n",
    "    - a _value_ can be a string, number, object, array, true, false, or null.\n",
    "    - an _object_ is enclosed by curly brackets {} and contains (comma separated) _string : value_ pairs.\n",
    "    - an _array_ is enclosed by brackets [] and contains (comma separated) _values_.\n",
    "    - The JSON object is an unordered set.\n",
    "    - Nesting is frequently used."
   ]
  },
  {
   "cell_type": "code",
   "execution_count": null,
   "metadata": {
    "slideshow": {
     "slide_type": "slide"
    },
    "tags": []
   },
   "outputs": [],
   "source": [
    "# Simplest? JSON object\n",
    "import json\n",
    "my_string = \"banana\"\n",
    "my_string_as_json = json.dumps(my_string)\n",
    "my_string_as_json"
   ]
  },
  {
   "cell_type": "code",
   "execution_count": null,
   "metadata": {
    "slideshow": {
     "slide_type": "slide"
    },
    "tags": []
   },
   "outputs": [],
   "source": [
    "# Check validity of JSON object (exception thrown if not valid)\n",
    "json.loads(my_string_as_json)"
   ]
  },
  {
   "cell_type": "code",
   "execution_count": null,
   "metadata": {
    "slideshow": {
     "slide_type": "slide"
    },
    "tags": []
   },
   "outputs": [],
   "source": [
    "# An object, quite similar to a Python dictionary\n",
    "my_object = {\"fruit\" : \"banana\", \"color\" : \"yellow\" }\n",
    "my_object_as_json = json.dumps(my_object)\n",
    "my_object_as_json"
   ]
  },
  {
   "cell_type": "code",
   "execution_count": null,
   "metadata": {
    "slideshow": {
     "slide_type": "slide"
    },
    "tags": []
   },
   "outputs": [],
   "source": [
    "# Check validity of JSON object (exception thrown if not valid)\n",
    "json.loads(my_object_as_json)"
   ]
  },
  {
   "cell_type": "code",
   "execution_count": null,
   "metadata": {
    "slideshow": {
     "slide_type": "slide"
    },
    "tags": []
   },
   "outputs": [],
   "source": [
    "my_object_as_dict = json.loads(my_object_as_json)\n",
    "my_object_as_dict.keys()"
   ]
  },
  {
   "cell_type": "markdown",
   "metadata": {
    "slideshow": {
     "slide_type": "slide"
    }
   },
   "source": [
    "### JSON variants\n",
    "- Though JSON itself is highly flexible, standardisation can ease implementation and transferability.\n",
    "- [JSON-stat](https://jsonstat.com/) is a format adoptet by, e.g., [Statistics Norway](https://ssb.no) and [Eurostat](https://ec.europa.eu/eurostat).\n",
    "    - [Standard libraries](https://json-stat.org/tools/) for handling data.\n",
    "    - Especially useful for tabular data.\n",
    "    - _json-stat2_ is the newest standard as of 2023."
   ]
  },
  {
   "cell_type": "code",
   "execution_count": null,
   "metadata": {
    "slideshow": {
     "slide_type": "slide"
    },
    "tags": []
   },
   "outputs": [],
   "source": [
    "# Read text file containing JSON object\n",
    "import json\n",
    "with open('../../data/traffic_accidents.txt') as f:\n",
    "    json_string = f.read()\n",
    "json_object = json.loads(json_string)\n",
    "json_object"
   ]
  },
  {
   "cell_type": "code",
   "execution_count": null,
   "metadata": {
    "ExecuteTime": {
     "end_time": "2024-08-17T10:12:33.884975Z",
     "start_time": "2024-08-17T10:12:33.695255Z"
    },
    "slideshow": {
     "slide_type": "slide"
    },
    "tags": []
   },
   "outputs": [],
   "source": [
    "# Convert json_string to a JSON-stat object and then to a Pandas dataframe\n",
    "from pyjstat import pyjstat\n",
    "dataset = pyjstat.Dataset.read(json_string)\n",
    "df = dataset.write('dataframe')\n",
    "print(df.shape)\n",
    "df.head()"
   ]
  },
  {
   "cell_type": "markdown",
   "metadata": {
    "slideshow": {
     "slide_type": "slide"
    }
   },
   "source": [
    "## Exercise\n",
    "We want to make a family tree consisting of child-parent JSON objects.  \n",
    "Create a JSON list which contains two objects of equal structure (i.e., same nesting and _names_).  \n",
    "Each object should contain a _name : value_ pair with the child name and a list of parents (_name : value_ pairs).\n",
    "  \n",
    "__Think__: \n",
    "- Are there alternative ways to code this? (hint: unique dictionary keys)\n",
    "- If this JSON object was to be parsed for printing, inclusion in a database or other, are there exceptions one would have to consider?"
   ]
  },
  {
   "cell_type": "markdown",
   "metadata": {
    "slideshow": {
     "slide_type": "slide"
    }
   },
   "source": [
    "## Extensible Markup Language (XML)\n",
    "- Defined by the World Wide Web Consortium in 1998 (v1.0); current version from 2006 (v1.1, 2nd edition).\n",
    "- Uses tags like HTML code, but much more flexible.\n",
    "- Hundreds of document formats, several industry data standards and communication protocols, web page formats etc. are based on XML.\n",
    "- As with JSON, there are many standardised formats defined using the base rules of XML.\n",
    "    - More overhead in the file format, less readable, needs parser, more standardised, overlapping use in data transfer.\n",
    "- Accepts most of the UTF-8 encoding (see below) including Chinese, Armenian, Cyrillic."
   ]
  },
  {
   "cell_type": "code",
   "execution_count": null,
   "metadata": {
    "ExecuteTime": {
     "end_time": "2024-08-17T10:12:33.888233Z",
     "start_time": "2024-08-17T10:12:33.885860Z"
    },
    "slideshow": {
     "slide_type": "slide"
    },
    "tags": []
   },
   "outputs": [],
   "source": [
    "''' A valid XML file\n",
    "<?xml version=\"1.0\" encoding=\"UTF-8\"?>\n",
    "<俄语 լեզու=\"ռուսերեն\">данные</俄语>\n",
    "'''"
   ]
  },
  {
   "cell_type": "code",
   "execution_count": null,
   "metadata": {
    "ExecuteTime": {
     "end_time": "2024-08-17T10:12:33.891139Z",
     "start_time": "2024-08-17T10:12:33.889170Z"
    },
    "execution": {
     "iopub.execute_input": "2024-08-17T11:10:12.956996Z",
     "iopub.status.busy": "2024-08-17T11:10:12.956919Z",
     "iopub.status.idle": "2024-08-17T11:10:12.958870Z",
     "shell.execute_reply": "2024-08-17T11:10:12.958627Z"
    },
    "slideshow": {
     "slide_type": "slide"
    }
   },
   "outputs": [],
   "source": [
    "# Equivalent JSON and XML documents\n",
    "''' \n",
    "{\"guests\":[\n",
    "  { \"firstName\":\"John\", \"lastName\":\"Doe\" },\n",
    "  { \"firstName\":\"María\", \"lastName\":\"García\" },\n",
    "  { \"firstName\":\"Nikki\", \"lastName\":\"Wolf\" }\n",
    "]}\n",
    "\n",
    "<guests>\n",
    "  <guest>\n",
    "    <firstName>John</firstName> <lastName>Doe</lastName>\n",
    "  </guest>\n",
    "  <guest>\n",
    "    <firstName>María</firstName> <lastName>García</lastName>\n",
    "  </guest>\n",
    "  <guest>\n",
    "    <firstName>Nikki</firstName> <lastName>Wolf</lastName>\n",
    "  </guest>\n",
    "</guests>\n",
    "'''"
   ]
  },
  {
   "cell_type": "markdown",
   "metadata": {
    "slideshow": {
     "slide_type": "slide"
    }
   },
   "source": [
    "## Large data\n",
    "- Real data can be exeedingly large; gigabytes, terabytes, ...\n",
    "- Pandas takes you only part of the way.\n",
    "- [Modin](https://modin.readthedocs.io) is an example of a simple Pandas replacement that scales much further (>1TB).\n",
    "    - Choose backend: Ray, Dask, Unidist, and use _import modin.pandas as pd_\n",
    "- [PySpark](https://spark.apache.org/docs/latest/api/python/index.html) with [Apache Spark](https://spark.apache.org/) takes this to a distributed level but also demands more installation and configuration.\n",
    "    - We will test [Spark in conjunction with a database](../2_Databases/4_Spark.ipynb) later."
   ]
  },
  {
   "cell_type": "markdown",
   "metadata": {
    "slideshow": {
     "slide_type": "slide"
    }
   },
   "source": [
    "### HDF5\n",
    "- Data container for large and/or heterogeneous data.\n",
    "- Appears as a single file on a computer.\n",
    "- Can be accessed and browsed without loading/unpacking its contents.\n",
    "- Can group objects together, e.g., measurements and metadata.\n",
    "- Data can be accessed through different views that require different relations or hierachies.\n",
    "- Often used quite simply with data, models, and results in a single file.\n",
    "- Resembles a flexible NumPy array."
   ]
  },
  {
   "cell_type": "markdown",
   "metadata": {
    "slideshow": {
     "slide_type": "slide"
    }
   },
   "source": [
    "## Encoding\n",
    "- Most modern data storage use [UTF-8](https://en.wikipedia.org/wiki/UTF-8) encoding\n",
    "    - Universal Coded Character Set Transformation Format - 8-bit, or just Unicode Transformation Format.\n",
    "    - One to four 8-bit code units enabling 1 112 064 character codes.\n",
    "    - JSON are among formats one assumes are UTF-8 encoded.\n",
    "- However, there are many standards, so no guarantees are given.\n",
    "    - ASCII, WINDOWS-1252 (Nordic), ISO-88xx-y, etc. may need special treatment or translation, especially if different connected apps or services have their own basic assumptions.\n",
    "    - Old data files and vendor specific file version are most likely to be problematic."
   ]
  },
  {
   "cell_type": "markdown",
   "metadata": {
    "slideshow": {
     "slide_type": "slide"
    }
   },
   "source": [
    "```{seealso} Resources\n",
    ":class: tip\n",
    "- [json.org](https://www.json.org/)\n",
    "- [YouTube: Learn JSON in 10 minutes](https://youtu.be/iiADhChRriM) (12m:00s)\n",
    "- [Pandas documentation: special plot commands](https://pandas.pydata.org/docs/reference/plotting.html)\n",
    "- [Pandas documentation: .plot.xxx()](https://pandas.pydata.org/docs/reference/api/pandas.DataFrame.plot.html)\n",
    "- [YouTube: An Introduction to HDF5](https://youtu.be/S74Kc8QYDac) (10m:23s) (full course available)\n",
    "- [The difference between JSON and XML](https://aws.amazon.com/compare/the-difference-between-json-xml/)\n",
    "```\n"
   ]
  },
  {
   "cell_type": "code",
   "execution_count": null,
   "metadata": {
    "tags": [
     "hide-cell"
    ]
   },
   "outputs": [],
   "source": [
    "# Dummy cell to ensure Plotly graphics are shown\n",
    "import plotly.graph_objects as go\n",
    "f = go.FigureWidget([go.Scatter(x=[1,1], y=[1,1], mode='markers')])"
   ]
  }
 ],
 "metadata": {
  "celltoolbar": "Slideshow",
  "kernelspec": {
   "display_name": "IND320_2024",
   "language": "python",
   "name": "python3"
  },
  "language_info": {
   "codemirror_mode": {
    "name": "ipython",
    "version": 3
   },
   "file_extension": ".py",
   "mimetype": "text/x-python",
   "name": "python",
   "nbconvert_exporter": "python",
   "pygments_lexer": "ipython3",
   "version": "3.12.4"
  }
 },
 "nbformat": 4,
 "nbformat_minor": 4
}
