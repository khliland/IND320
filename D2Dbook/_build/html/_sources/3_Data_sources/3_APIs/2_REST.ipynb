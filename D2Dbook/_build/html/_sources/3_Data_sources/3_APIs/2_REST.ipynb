{
 "cells": [
  {
   "cell_type": "markdown",
   "metadata": {
    "slideshow": {
     "slide_type": "slide"
    }
   },
   "source": [
    "# REST API\n",
    "\n",
    "- REST stands for Representational State Transfer. \n",
    "- Architectural style for designing web services. \n",
    "- REST services are stateless, which means that they do not maintain any state between requests. This makes them scalable and reliable.\n",
    "- For us they are mainly interfaces for information retrieval."
   ]
  },
  {
   "cell_type": "markdown",
   "metadata": {
    "slideshow": {
     "slide_type": "slide"
    }
   },
   "source": [
    "## Accessing REST\n",
    "- REST services are based on the HTTP protocol, and they use a set of well-defined verbs to manipulate resources.\n",
    "- Some are open and free, some need an API key (free or subscription)\n",
    "  \n",
    "- The four main verbs in REST are:\n",
    "    - GET: Retrieve a resource.\n",
    "    - POST: Create a resource.\n",
    "    - PUT: Update a resource.\n",
    "    - DELETE: Delete a resource.\n"
   ]
  },
  {
   "cell_type": "markdown",
   "metadata": {
    "slideshow": {
     "slide_type": "slide"
    }
   },
   "source": [
    "### Retrieving data (GET)\n",
    "- A simple example without an API key ([Strømpris API](https://www.hvakosterstrommen.no/strompris-api)):"
   ]
  },
  {
   "cell_type": "code",
   "execution_count": null,
   "metadata": {
    "ExecuteTime": {
     "end_time": "2024-08-17T10:18:34.645950Z",
     "start_time": "2024-08-17T10:18:34.502655Z"
    },
    "execution": {
     "iopub.execute_input": "2024-08-17T11:10:30.287864Z",
     "iopub.status.busy": "2024-08-17T11:10:30.287646Z",
     "iopub.status.idle": "2024-08-17T11:10:30.589798Z",
     "shell.execute_reply": "2024-08-17T11:10:30.589089Z"
    },
    "slideshow": {
     "slide_type": "-"
    }
   },
   "outputs": [],
   "source": [
    "import requests\n",
    "# Power prices in the NO5 zone on a particular date\n",
    "url = \"https://www.hvakosterstrommen.no/api/v1/prices/2023/08-09_NO5.json\"\n",
    "response = requests.get(url)\n",
    "print(response.json())"
   ]
  },
  {
   "cell_type": "code",
   "execution_count": null,
   "metadata": {
    "ExecuteTime": {
     "end_time": "2024-08-17T10:18:34.649641Z",
     "start_time": "2024-08-17T10:18:34.646905Z"
    },
    "execution": {
     "iopub.execute_input": "2024-08-17T11:10:30.630152Z",
     "iopub.status.busy": "2024-08-17T11:10:30.629921Z",
     "iopub.status.idle": "2024-08-17T11:10:30.633411Z",
     "shell.execute_reply": "2024-08-17T11:10:30.633120Z"
    },
    "slideshow": {
     "slide_type": "slide"
    }
   },
   "outputs": [],
   "source": [
    "# Write JSON to file for viewing\n",
    "import json\n",
    "with open('downloads/power_price.json', 'w') as f:\n",
    "    json.dump(response.json(), f, indent=4)"
   ]
  },
  {
   "cell_type": "markdown",
   "metadata": {
    "slideshow": {
     "slide_type": "slide"
    }
   },
   "source": [
    "### Creating data (POST)\n",
    "- For this example we assume there is an API server running locally.\n",
    "- We rely on the [Flask](https://palletsprojects.com/p/flask/) framework (see flask_API.py) in the current folder.\n",
    "    - Simple POST, GET, \"UPDATE\", DELETE\n",
    "- Running a Flask instance from the terminal can be done similar to this:  \n",
    "```\n",
    "conda activate tf_M1\n",
    "python /Users/kristian/Documents/GitHub/IND320/D2Dbook/3_Data_sources/3_APIs/flask_API.py\n",
    "```"
   ]
  },
  {
   "cell_type": "code",
   "execution_count": null,
   "metadata": {
    "ExecuteTime": {
     "end_time": "2024-08-17T10:18:34.656743Z",
     "start_time": "2024-08-17T10:18:34.650282Z"
    },
    "execution": {
     "iopub.execute_input": "2024-08-17T11:10:30.635049Z",
     "iopub.status.busy": "2024-08-17T11:10:30.634955Z",
     "iopub.status.idle": "2024-08-17T11:10:30.684986Z",
     "shell.execute_reply": "2024-08-17T11:10:30.684740Z"
    },
    "slideshow": {
     "slide_type": "slide"
    }
   },
   "outputs": [],
   "source": [
    "# POST data (stored locally in a dictionary)\n",
    "id = 'test'\n",
    "data = {'key': 'value'}\n",
    "response = requests.post('http://localhost:8000/api/post/{}'.format(id), json=data)\n",
    "print(response.json())"
   ]
  },
  {
   "cell_type": "code",
   "execution_count": null,
   "metadata": {
    "ExecuteTime": {
     "end_time": "2024-08-17T10:18:34.661271Z",
     "start_time": "2024-08-17T10:18:34.657832Z"
    },
    "execution": {
     "iopub.execute_input": "2024-08-17T11:10:30.686295Z",
     "iopub.status.busy": "2024-08-17T11:10:30.686205Z",
     "iopub.status.idle": "2024-08-17T11:10:30.690309Z",
     "shell.execute_reply": "2024-08-17T11:10:30.690088Z"
    },
    "slideshow": {
     "slide_type": "fragment"
    }
   },
   "outputs": [],
   "source": [
    "# GET data\n",
    "id = 'test'\n",
    "response = requests.get('http://localhost:8000/api/get/{}'.format(id))\n",
    "print(response.json())\n",
    "# You can also test this in a browser since this is an HTTP based (and we use no passwords here)."
   ]
  },
  {
   "cell_type": "markdown",
   "metadata": {
    "slideshow": {
     "slide_type": "slide"
    }
   },
   "source": [
    "### Change data (UPDATE)\n",
    "- This command can mostly be exchanged with POST.\n",
    "- The Flask framework does not have a separate UPDATE (see implementation in flask_API.py)."
   ]
  },
  {
   "cell_type": "code",
   "execution_count": null,
   "metadata": {
    "ExecuteTime": {
     "end_time": "2024-08-17T10:18:34.665039Z",
     "start_time": "2024-08-17T10:18:34.661827Z"
    },
    "execution": {
     "iopub.execute_input": "2024-08-17T11:10:30.691829Z",
     "iopub.status.busy": "2024-08-17T11:10:30.691637Z",
     "iopub.status.idle": "2024-08-17T11:10:30.695596Z",
     "shell.execute_reply": "2024-08-17T11:10:30.695392Z"
    },
    "slideshow": {
     "slide_type": "fragment"
    }
   },
   "outputs": [],
   "source": [
    "# UPDATE data\n",
    "id = 'test'\n",
    "data = {'key': 'new value'}\n",
    "response = requests.post('http://localhost:8000/api/update/{}'.format(id), json=data)\n",
    "print(response.json())"
   ]
  },
  {
   "cell_type": "markdown",
   "metadata": {
    "slideshow": {
     "slide_type": "slide"
    }
   },
   "source": [
    "### Remove data (DELETE)\n",
    "- Let's remove some data and try to read it again."
   ]
  },
  {
   "cell_type": "code",
   "execution_count": null,
   "metadata": {
    "ExecuteTime": {
     "end_time": "2024-08-17T10:18:34.668889Z",
     "start_time": "2024-08-17T10:18:34.665628Z"
    },
    "execution": {
     "iopub.execute_input": "2024-08-17T11:10:30.696780Z",
     "iopub.status.busy": "2024-08-17T11:10:30.696693Z",
     "iopub.status.idle": "2024-08-17T11:10:30.699792Z",
     "shell.execute_reply": "2024-08-17T11:10:30.699558Z"
    },
    "slideshow": {
     "slide_type": "fragment"
    }
   },
   "outputs": [],
   "source": [
    "# DELETE data\n",
    "id = 'test'\n",
    "response = requests.delete('http://localhost:8000/api/delete/{}'.format(id))\n",
    "print(response.json())"
   ]
  },
  {
   "cell_type": "code",
   "execution_count": null,
   "metadata": {
    "ExecuteTime": {
     "end_time": "2024-08-17T10:18:34.937163Z",
     "start_time": "2024-08-17T10:18:34.669441Z"
    },
    "execution": {
     "iopub.execute_input": "2024-08-17T11:10:30.700967Z",
     "iopub.status.busy": "2024-08-17T11:10:30.700882Z",
     "iopub.status.idle": "2024-08-17T11:10:30.959287Z",
     "shell.execute_reply": "2024-08-17T11:10:30.959041Z"
    },
    "slideshow": {
     "slide_type": "slide"
    },
    "tags": [
     "raises-exception"
    ]
   },
   "outputs": [],
   "source": [
    "# GET data again\n",
    "id = 'test'\n",
    "response = requests.get('http://localhost:8000/api/get/{}'.format(id))\n",
    "print(response.json())"
   ]
  },
  {
   "cell_type": "markdown",
   "metadata": {
    "slideshow": {
     "slide_type": "slide"
    }
   },
   "source": [
    "## Exercise\n",
    "- Look at flask_API.py.\n",
    "- Add “try-except” to GET to return an empty JSON when an ‘id’ does not exist.\n",
    "- Are there other potential sources of error here?"
   ]
  },
  {
   "cell_type": "markdown",
   "metadata": {
    "slideshow": {
     "slide_type": "slide"
    }
   },
   "source": [
    "```{seealso} Resources\n",
    ":class: tip\n",
    "- [Wikipedia: REST](https://en.wikipedia.org/wiki/Representational_state_transfer)\n",
    "- [Flask](https://palletsprojects.com/p/flask/) local HTTP server in Python.\n",
    "- [Strømpris API](https://www.hvakosterstrommen.no/strompris-api) (only in Norwegian)\n",
    "- [YouTube: What is a REST API?](https://youtu.be/lsMQRaeKNDk) (9m:11s)\n",
    "- [YouTube: REST API Crash Course - Introduction + Full Python API Tutorial](https://youtu.be/qbLc5a9jdXo) (52m:49s)\n",
    "```"
   ]
  }
 ],
 "metadata": {
  "celltoolbar": "Slideshow",
  "kernelspec": {
   "display_name": "Python 3 (ipykernel)",
   "language": "python",
   "name": "python3"
  },
  "language_info": {
   "codemirror_mode": {
    "name": "ipython",
    "version": 3
   },
   "file_extension": ".py",
   "mimetype": "text/x-python",
   "name": "python",
   "nbconvert_exporter": "python",
   "pygments_lexer": "ipython3",
   "version": "3.12.4"
  }
 },
 "nbformat": 4,
 "nbformat_minor": 2
}
