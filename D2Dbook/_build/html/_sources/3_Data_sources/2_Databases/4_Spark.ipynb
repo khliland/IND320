{
 "cells": [
  {
   "cell_type": "markdown",
   "metadata": {
    "slideshow": {
     "slide_type": "slide"
    }
   },
   "source": [
    "# Spark\n",
    "- A fast and general compute engine (originally for [Hadoop](https://hadoop.apache.org/) data).\n",
    "    - Often paired with Hadoop for its distributed filesystem (HDFS), cluster resource management and parallel processing.\n",
    "- Spark provides a simple and expressive programming model that supports a wide range of applications, including ETL (extract, transform, load), Machine Learning, stream processing, and graph computation.\n",
    "- Also communicates well with some databases and other resources.\n",
    "- Installation of Spark and its dependencies is explained in the [Installation chapter](../../7_Appendix/Installation.ipynb)."
   ]
  },
  {
   "cell_type": "code",
   "execution_count": null,
   "metadata": {
    "ExecuteTime": {
     "end_time": "2024-08-17T10:34:51.972150Z",
     "start_time": "2024-08-17T10:34:51.966896Z"
    },
    "execution": {
     "iopub.execute_input": "2024-08-17T11:10:32.733987Z",
     "iopub.status.busy": "2024-08-17T11:10:32.733869Z",
     "iopub.status.idle": "2024-08-17T11:10:32.737536Z",
     "shell.execute_reply": "2024-08-17T11:10:32.737206Z"
    },
    "slideshow": {
     "slide_type": "slide"
    }
   },
   "outputs": [],
   "source": [
    "# Set environment variables for PySpark (system and version dependent!) if not already set persistently\n",
    "import os\n",
    "# os.environ[\"JAVA_HOME\"] = \"/Library/Java/JavaVirtualMachines/zulu-18.jdk/Contents/Home\"\n",
    "os.environ[\"JAVA_HOME\"] = \"/Library/Internet Plug-Ins/JavaAppletPlugin.plugin/Contents/Home\"\n",
    "# os.environ[\"JAVA_HOME\"] = \"C:/Program Files/Java/jdk1.8.0_281\" # or similar on Windows\n",
    "# If you are using environments in Python, you can set the environment variables like the alternative below:\n",
    "os.environ[\"PYSPARK_PYTHON\"] = \"python\" # or similar to \"/Users/kristian/miniforge3/envs/tf_M1/bin/python\"\n",
    "os.environ[\"PYSPARK_DRIVER_PYTHON\"] = \"python\" # or similar to \"/Users/kristian/miniforge3/envs/tf_M1/bin/python\"\n",
    "# On Windows you need to specify where the Hadoop drivers are located:\n",
    "# os.environ[\"HADOOP_HOME\"] = \"C:/Hadoop/hadoop-3.3.1\"\n",
    "# Set the Hadoop version to the one you are using, e.g., none:\n",
    "os.environ[\"PYSPARK_HADOOP_VERSION\"] = \"without\""
   ]
  },
  {
   "cell_type": "markdown",
   "metadata": {
    "slideshow": {
     "slide_type": "slide"
    }
   },
   "source": [
    "## Spark and Cassandra\n",
    "- Cassandra is one of the databases that work well with Spark.\n",
    "    - Same type of distributed processing.\n",
    "    - Same way of replicating for fault tolerance.\n",
    "- Spark can be deployed on the same nodes as Cassandra for:\n",
    "    - local (short traveled) data manipulation, and\n",
    "    - combination of results to a central hub ([MapReduce](https://en.wikipedia.org/wiki/MapReduce)).\n",
    "- Requires drivers from Datastax\n",
    "    - Automatically downloaded and applied with the following configuration.\n",
    "- A [SparkSession](https://spark.apache.org/docs/latest/api/python/reference/pyspark.sql/api/pyspark.sql.SparkSession.html) instantiates Spark, applies configurations and connects to a data source."
   ]
  },
  {
   "cell_type": "code",
   "execution_count": null,
   "metadata": {
    "ExecuteTime": {
     "end_time": "2024-08-17T10:35:04.311524Z",
     "start_time": "2024-08-17T10:34:53.919911Z"
    },
    "execution": {
     "iopub.execute_input": "2024-08-17T11:10:32.739250Z",
     "iopub.status.busy": "2024-08-17T11:10:32.739118Z",
     "iopub.status.idle": "2024-08-17T11:10:41.658915Z",
     "shell.execute_reply": "2024-08-17T11:10:41.658234Z"
    },
    "slideshow": {
     "slide_type": "slide"
    }
   },
   "outputs": [],
   "source": [
    "from pyspark.sql import SparkSession\n",
    "spark = SparkSession.builder.appName('SparkCassandraApp').\\\n",
    "    config('spark.jars.packages', 'com.datastax.spark:spark-cassandra-connector_2.12:3.4.1').\\\n",
    "    config('spark.cassandra.connection.host', 'localhost').\\\n",
    "    config('spark.sql.extensions', 'com.datastax.spark.connector.CassandraSparkExtensions').\\\n",
    "    config('spark.sql.catalog.mycatalog', 'com.datastax.spark.connector.datasource.CassandraCatalog').\\\n",
    "    config('spark.cassandra.connection.port', '9042').getOrCreate()\n",
    "# Some warnings are to be expected."
   ]
  },
  {
   "cell_type": "markdown",
   "metadata": {
    "slideshow": {
     "slide_type": "slide"
    }
   },
   "source": [
    "## Accessing tables\n",
    "**Note: The following sets of commands assume that the [Cassandra notebook](./3_Cassandra.ipynb) has been run first to set up the relevant keyspace and tables.**"
   ]
  },
  {
   "cell_type": "code",
   "execution_count": null,
   "metadata": {
    "ExecuteTime": {
     "end_time": "2024-08-17T10:25:51.439487Z",
     "start_time": "2024-08-17T10:25:51.439435Z"
    },
    "execution": {
     "iopub.execute_input": "2024-08-17T11:10:41.662644Z",
     "iopub.status.busy": "2024-08-17T11:10:41.662337Z",
     "iopub.status.idle": "2024-08-17T11:10:51.974525Z",
     "shell.execute_reply": "2024-08-17T11:10:51.974057Z"
    },
    "slideshow": {
     "slide_type": "slide"
    }
   },
   "outputs": [],
   "source": [
    "# .load() is used to load data from Cassandra table as a Spark DataFrame.\n",
    "spark.read.format(\"org.apache.spark.sql.cassandra\").options(table=\"my_first_table\", keyspace=\"my_first_keyspace\").load().show()"
   ]
  },
  {
   "cell_type": "markdown",
   "metadata": {
    "slideshow": {
     "slide_type": "slide"
    }
   },
   "source": [
    "### Database views\n",
    "- Useful for \"setting the scene\" before a more simplified data extraction.\n",
    "- The below example simply attaches to the correct keyspace and table.\n",
    "    - The _view_ could also be a selection into that table to query further."
   ]
  },
  {
   "cell_type": "code",
   "execution_count": null,
   "metadata": {
    "execution": {
     "iopub.execute_input": "2024-08-17T11:10:51.976732Z",
     "iopub.status.busy": "2024-08-17T11:10:51.976581Z",
     "iopub.status.idle": "2024-08-17T11:10:52.100819Z",
     "shell.execute_reply": "2024-08-17T11:10:52.100512Z"
    },
    "slideshow": {
     "slide_type": "-"
    }
   },
   "outputs": [],
   "source": [
    "# Create view for simpler SQL queries\n",
    "spark.read.format(\"org.apache.spark.sql.cassandra\").options(table=\"table_with_uuid\", keyspace=\"my_first_keyspace\").load().createOrReplaceTempView(\"my_first_table_view\")"
   ]
  },
  {
   "cell_type": "markdown",
   "metadata": {
    "slideshow": {
     "slide_type": "slide"
    }
   },
   "source": [
    "### [Spark DataFrame](https://spark.apache.org/docs/latest/api/python/reference/pyspark.sql/api/pyspark.sql.DataFrame.html)\n",
    "- Related to a Pandas data frame, but can be distributed over compute nodes.\n",
    "- Various functions like filters, statistical calculations, groupBy, Pandas functions (mapInPandas), joins, etc.\n",
    "- Export to Pandas and JSON.\n",
    "- Reads many formats, including SQL, JSON, Excel, ..."
   ]
  },
  {
   "cell_type": "code",
   "execution_count": null,
   "metadata": {
    "execution": {
     "iopub.execute_input": "2024-08-17T11:10:52.102420Z",
     "iopub.status.busy": "2024-08-17T11:10:52.102329Z",
     "iopub.status.idle": "2024-08-17T11:10:54.147857Z",
     "shell.execute_reply": "2024-08-17T11:10:54.147553Z"
    },
    "slideshow": {
     "slide_type": "slide"
    }
   },
   "outputs": [],
   "source": [
    "# Read CSV file into Spark DataFrame\n",
    "planets = spark.read.csv(\"../../data/planets.csv\", header=True, inferSchema=True)\n",
    "planets.show()"
   ]
  },
  {
   "cell_type": "code",
   "execution_count": null,
   "metadata": {
    "execution": {
     "iopub.execute_input": "2024-08-17T11:10:54.149496Z",
     "iopub.status.busy": "2024-08-17T11:10:54.149370Z",
     "iopub.status.idle": "2024-08-17T11:10:55.426892Z",
     "shell.execute_reply": "2024-08-17T11:10:55.425622Z"
    },
    "slideshow": {
     "slide_type": "slide"
    }
   },
   "outputs": [],
   "source": [
    "# Select only Tesla company\n",
    "#             DataFrame                    -->\n",
    "spark.sql(\"select * from my_first_table_view\").filter(\"company = 'Tesla'\").show()"
   ]
  },
  {
   "cell_type": "code",
   "execution_count": null,
   "metadata": {
    "execution": {
     "iopub.execute_input": "2024-08-17T11:10:55.432615Z",
     "iopub.status.busy": "2024-08-17T11:10:55.432022Z",
     "iopub.status.idle": "2024-08-17T11:10:56.339735Z",
     "shell.execute_reply": "2024-08-17T11:10:56.338920Z"
    },
    "slideshow": {
     "slide_type": "slide"
    }
   },
   "outputs": [],
   "source": [
    "# Equivalent to the above but in pure SQL\n",
    "spark.sql(\"select * from my_first_table_view where company = 'Tesla'\").show()"
   ]
  },
  {
   "cell_type": "code",
   "execution_count": null,
   "metadata": {
    "execution": {
     "iopub.execute_input": "2024-08-17T11:10:56.345411Z",
     "iopub.status.busy": "2024-08-17T11:10:56.344866Z",
     "iopub.status.idle": "2024-08-17T11:10:57.709221Z",
     "shell.execute_reply": "2024-08-17T11:10:57.708967Z"
    },
    "slideshow": {
     "slide_type": "slide"
    }
   },
   "outputs": [],
   "source": [
    "# Select all data from the view and convert it to Pandas DataFrame\n",
    "spark.sql(\"select * from my_first_table_view\").toPandas()"
   ]
  },
  {
   "cell_type": "code",
   "execution_count": null,
   "metadata": {
    "execution": {
     "iopub.execute_input": "2024-08-17T11:10:57.711647Z",
     "iopub.status.busy": "2024-08-17T11:10:57.711513Z",
     "iopub.status.idle": "2024-08-17T11:10:58.147953Z",
     "shell.execute_reply": "2024-08-17T11:10:58.147688Z"
    },
    "slideshow": {
     "slide_type": "slide"
    }
   },
   "outputs": [],
   "source": [
    "# View data as a table and select only Tesla company\n",
    "df = spark.sql(\"select * from my_first_table_view\")\n",
    "df.filter(df.company == 'Tesla').toPandas() # Equivalent to \"company = 'Tesla'\"\n"
   ]
  },
  {
   "cell_type": "code",
   "execution_count": null,
   "metadata": {
    "execution": {
     "iopub.execute_input": "2024-08-17T11:10:58.149314Z",
     "iopub.status.busy": "2024-08-17T11:10:58.149223Z",
     "iopub.status.idle": "2024-08-17T11:10:58.554274Z",
     "shell.execute_reply": "2024-08-17T11:10:58.553884Z"
    },
    "slideshow": {
     "slide_type": "slide"
    }
   },
   "outputs": [],
   "source": [
    "# Filter also on price > 20000\n",
    "df.filter((df.company == 'Tesla') & (df.price > 20000)).toPandas()"
   ]
  },
  {
   "cell_type": "markdown",
   "metadata": {
    "slideshow": {
     "slide_type": "slide"
    }
   },
   "source": [
    "### Aggregation, grouping and filtering\n",
    "- These can be combined in many ways.\n",
    "- Starting from the left.\n",
    "- Order is important."
   ]
  },
  {
   "cell_type": "code",
   "execution_count": null,
   "metadata": {
    "execution": {
     "iopub.execute_input": "2024-08-17T11:10:58.555803Z",
     "iopub.status.busy": "2024-08-17T11:10:58.555689Z",
     "iopub.status.idle": "2024-08-17T11:11:01.551103Z",
     "shell.execute_reply": "2024-08-17T11:11:01.550644Z"
    },
    "slideshow": {
     "slide_type": "fragment"
    }
   },
   "outputs": [],
   "source": [
    "# Aggregate prices by company and sort by company name\n",
    "df.groupBy(\"company\").agg({\"price\": \"avg\"}).orderBy('company').toPandas()"
   ]
  },
  {
   "cell_type": "markdown",
   "metadata": {
    "slideshow": {
     "slide_type": "slide"
    }
   },
   "source": [
    "### Write data to Cassandra\n",
    "- One can append or overwrite data in existing database tables.\n",
    "- PySpark is picky regarding data formats.\n",
    "    - Reading data from the existing table and extracting formatting is possible."
   ]
  },
  {
   "cell_type": "code",
   "execution_count": null,
   "metadata": {
    "execution": {
     "iopub.execute_input": "2024-08-17T11:11:01.553898Z",
     "iopub.status.busy": "2024-08-17T11:11:01.553756Z",
     "iopub.status.idle": "2024-08-17T11:11:01.557670Z",
     "shell.execute_reply": "2024-08-17T11:11:01.557428Z"
    },
    "slideshow": {
     "slide_type": "slide"
    }
   },
   "outputs": [],
   "source": [
    "# Create two new cars in a Pandas DataFrame\n",
    "import pandas as pd\n",
    "newCars = pd.DataFrame([[459, 'Ford', 'Escort'], [460, 'Ford', 'Transit']], columns=['ind', 'company', 'model'])\n",
    "newCars"
   ]
  },
  {
   "cell_type": "code",
   "execution_count": null,
   "metadata": {
    "execution": {
     "iopub.execute_input": "2024-08-17T11:11:01.559123Z",
     "iopub.status.busy": "2024-08-17T11:11:01.559024Z",
     "iopub.status.idle": "2024-08-17T11:11:03.973470Z",
     "shell.execute_reply": "2024-08-17T11:11:03.972956Z"
    },
    "slideshow": {
     "slide_type": "fragment"
    }
   },
   "outputs": [],
   "source": [
    "# Convert the Pandas DataFrame to Spark DataFrame and save it to Cassandra (append mode)\n",
    "spark.createDataFrame(newCars).write.format(\"org.apache.spark.sql.cassandra\")\\\n",
    ".options(table=\"my_first_table\", keyspace=\"my_first_keyspace\").mode(\"append\").save()"
   ]
  },
  {
   "cell_type": "code",
   "execution_count": null,
   "metadata": {
    "execution": {
     "iopub.execute_input": "2024-08-17T11:11:03.982589Z",
     "iopub.status.busy": "2024-08-17T11:11:03.982229Z",
     "iopub.status.idle": "2024-08-17T11:11:04.577622Z",
     "shell.execute_reply": "2024-08-17T11:11:04.577330Z"
    },
    "slideshow": {
     "slide_type": "slide"
    }
   },
   "outputs": [],
   "source": [
    "# Check if the new cars are in the table\n",
    "spark.read.format(\"org.apache.spark.sql.cassandra\")\\\n",
    ".options(table=\"my_first_table\", keyspace=\"my_first_keyspace\").load()\\\n",
    ".createOrReplaceTempView(\"my_first_table_view2\")\n",
    "\n",
    "spark.sql(\"select * from my_first_table_view2\").toPandas()"
   ]
  },
  {
   "cell_type": "code",
   "execution_count": null,
   "metadata": {
    "execution": {
     "iopub.execute_input": "2024-08-17T11:11:04.579036Z",
     "iopub.status.busy": "2024-08-17T11:11:04.578944Z",
     "iopub.status.idle": "2024-08-17T11:11:04.952710Z",
     "shell.execute_reply": "2024-08-17T11:11:04.952289Z"
    },
    "slideshow": {
     "slide_type": "slide"
    }
   },
   "outputs": [],
   "source": [
    "# Stop Spark session\n",
    "try:\n",
    "    spark.stop()\n",
    "except ConnectionRefusedError:\n",
    "    print(\"Spark session already stopped.\")"
   ]
  },
  {
   "cell_type": "markdown",
   "metadata": {
    "slideshow": {
     "slide_type": "slide"
    }
   },
   "source": [
    "```{seealso} Resources\n",
    ":class: tip\n",
    "- [PySpark Tutorial For Beginners (sparkbyexample.com)](https://sparkbyexamples.com/pyspark-tutorial/)\n",
    "- [PySpark documentation](https://spark.apache.org/docs/latest/api/python/index.html)\n",
    "    - [PySpark DataFrame](https://spark.apache.org/docs/latest/api/python/reference/pyspark.sql/api/pyspark.sql.DataFrame.html)\n",
    "    - [PySpark SparkSession](https://spark.apache.org/docs/latest/api/python/reference/pyspark.sql/api/pyspark.sql.SparkSession.html)\n",
    "- [YouTube: PySpark Tutorial: Spark SQL & DataFrame Basics](https://youtu.be/3-pnWVWyH-s?si=5AfOao23gqgh19en) (17m:12s)\n",
    "```"
   ]
  }
 ],
 "metadata": {
  "celltoolbar": "Slideshow",
  "kernelspec": {
   "display_name": "Python 3 (ipykernel)",
   "language": "python",
   "name": "python3"
  },
  "language_info": {
   "codemirror_mode": {
    "name": "ipython",
    "version": 3
   },
   "file_extension": ".py",
   "mimetype": "text/x-python",
   "name": "python",
   "nbconvert_exporter": "python",
   "pygments_lexer": "ipython3",
   "version": "3.12.4"
  }
 },
 "nbformat": 4,
 "nbformat_minor": 2
}
