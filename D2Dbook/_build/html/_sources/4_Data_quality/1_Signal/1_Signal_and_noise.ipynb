{
 "cells": [
  {
   "cell_type": "markdown",
   "metadata": {
    "slideshow": {
     "slide_type": "slide"
    }
   },
   "source": [
    "# Signal and noise\n",
    "- Any measured signal may be tainted by noise.\n",
    "- Recovering the true signal may be impossible.\n",
    "- However, we will look at some methods use various strategies for\n",
    "    - suppressing noise,\n",
    "    - estimating derivatives,\n",
    "    - decomposing into different frequencies,\n",
    "    - decomposing into trend, seasonal changes and residual, and\n",
    "    - exploratory data analysis."
   ]
  },
  {
   "cell_type": "markdown",
   "metadata": {
    "slideshow": {
     "slide_type": "slide"
    }
   },
   "source": [
    "# Signal and noise\n",
    "- Any measured signal may be tainted by noise.\n",
    "- Recovering the true signal may be impossible.\n",
    "- However, we will look at some methods use various strategies for\n",
    "    - suppressing noise,\n",
    "    - estimating derivatives,\n",
    "    - decomposing into different frequencies,\n",
    "    - decomposing into trend, seasonal changes and residual, and\n",
    "    - exploratory data analysis."
   ]
  },
  {
   "cell_type": "markdown",
   "metadata": {
    "slideshow": {
     "slide_type": "slide"
    }
   },
   "source": [
    "## Signal-to-Noise Ratio (SNR)\n",
    "- Signal-to-noise is a ratio that can be caulculated in various ways.\n",
    "    - A measure of how easy it is to extract the underlying information.\n",
    "- A common definition is decibel (dB) based.\n",
    "    - 0 decibel means the signal and noise are of equal magnitude.\n",
    "    - Every 10 decibel increase means 10 times higher power of the signal compared to the noise.\n",
    "- Example: [HiFi amplifier](https://www.hegel.com/en/products/integrated/h190):\n",
    "    - \\>100 dB SNR, i.e., $10^{10}$ times higher power of the signal than the noise.\n",
    "- $SNR = 10 \\cdot log_{10} \\frac{\\sum s_i^2}{\\sum n_i^2}$, where $s$ is the signal and $n$ is the noise.\n",
    "- If the true signal and noise are lost, estimates of these can be made."
   ]
  },
  {
   "cell_type": "code",
   "execution_count": 1,
   "metadata": {
    "slideshow": {
     "slide_type": "fragment"
    },
    "tags": []
   },
   "outputs": [],
   "source": [
    "import numpy as np\n",
    "def SNR(signal, noise):\n",
    "    return 10*np.log10(np.sum(signal**2)/np.sum(noise**2))"
   ]
  },
  {
   "cell_type": "code",
   "execution_count": null,
   "metadata": {
    "slideshow": {
     "slide_type": "slide"
    },
    "tags": []
   },
   "outputs": [],
   "source": [
    "# Plot a cosine curve from 0 to 4pi\n",
    "import matplotlib.pyplot as plt\n",
    "import numpy as np\n",
    "x = np.linspace(0, 4*np.pi, 500)\n",
    "y_cos = np.cos(x)\n",
    "noise = 0.2*np.random.normal(size=(len(x)))\n",
    "\n",
    "# Plot the cosine curve with noise\n",
    "sig = [1, 0.2]\n",
    "noi = [1, 5]\n",
    "plt.figure(figsize=(8, 4))\n",
    "for i in range(4):\n",
    "    plt.subplot(221+i)\n",
    "    plt.plot(x, y_cos*sig[np.mod(i,2)] + noise*noi[i//2], label='Noisy cosine curve')\n",
    "    plt.plot(x, y_cos*sig[np.mod(i,2)], label='Cosine curve')\n",
    "    plt.xlabel('radians')\n",
    "    plt.ylabel('amplitude')\n",
    "    plt.title('SNR: {:.2f} dB'.format(SNR(y_cos*sig[np.mod(i,2)], noise*noi[i//2])))\n",
    "    plt.xlim((0,4*np.pi))\n",
    "    plt.ylim((-3,3))\n",
    "#    plt.legend()\n",
    "plt.tight_layout()\n",
    "plt.show()"
   ]
  },
  {
   "cell_type": "markdown",
   "metadata": {
    "slideshow": {
     "slide_type": "slide"
    },
    "tags": []
   },
   "source": [
    "```{seealso} \n",
    ":class: tip\n",
    "\n",
    "## Resources\n",
    "- [Wikipedia: Signal-to-noise ratio](https://en.wikipedia.org/wiki/Signal-to-noise_ratio)"
   ]
  }
 ],
 "metadata": {
  "celltoolbar": "Slideshow",
  "kernelspec": {
   "display_name": "Python 3 (ipykernel)",
   "language": "python",
   "name": "python3"
  },
  "language_info": {
   "codemirror_mode": {
    "name": "ipython",
    "version": 3
   },
   "file_extension": ".py",
   "mimetype": "text/x-python",
   "name": "python",
   "nbconvert_exporter": "python",
   "pygments_lexer": "ipython3",
   "version": "3.12.4"
  }
 },
 "nbformat": 4,
 "nbformat_minor": 4
}
