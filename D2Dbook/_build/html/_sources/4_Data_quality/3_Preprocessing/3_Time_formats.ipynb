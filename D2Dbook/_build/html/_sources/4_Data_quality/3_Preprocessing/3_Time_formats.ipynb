{
 "cells": [
  {
   "cell_type": "markdown",
   "metadata": {
    "slideshow": {
     "slide_type": "slide"
    }
   },
   "source": [
    "# Time formats\n",
    "- Man's inventivness regarding ways of representing dates and time points is truly inspiring ... and a source of headache.  \n",
    "  \n",
    "__Oracle suggests:__  \n",
    "- time formats as (possible subsets of) HH:MM:SS XM (XM = AM/PM), with possible separators: \".\", \",\", \"-\", \" \", \":\"\n",
    "- 18 different [date formats](https://docs.oracle.com/cd/E41183_01/DR/Date_Format_Types.html).\n",
    "  \n",
    "__Unix timestamp__  \n",
    "- The number of seconds (and milli-, micro- and nanoseconds) since 1 January 1970 at the UTC timezone.\n",
    "- Examples at [https://www.unixtimestamp.com/](https://www.unixtimestamp.com/)"
   ]
  },
  {
   "cell_type": "code",
   "execution_count": 2,
   "metadata": {
    "slideshow": {
     "slide_type": "slide"
    }
   },
   "outputs": [
    {
     "name": "stdout",
     "output_type": "stream",
     "text": [
      "Date and time is: 2023-10-23 11:25:19.954627\n",
      "Timestamp is: 1698053119.954627\n"
     ]
    }
   ],
   "source": [
    "from datetime import datetime\n",
    "\n",
    "# Getting the current date and time\n",
    "dt = datetime.now()\n",
    "\n",
    "# getting the timestamp\n",
    "ts = datetime.timestamp(dt)\n",
    "\n",
    "print(\"Date and time is:\", dt)\n",
    "print(\"Timestamp is:\", ts)"
   ]
  },
  {
   "cell_type": "markdown",
   "metadata": {
    "slideshow": {
     "slide_type": "slide"
    }
   },
   "source": [
    "## ISO standard\n",
    "[W3.org: ISO 8601](https://www.w3.org/TR/NOTE-datetime) and [Wikipedia: ISO 8601](https://en.wikipedia.org/wiki/ISO_8601)\n",
    "- Year:\n",
    "  - YYYY (e.g., 1997)\n",
    "- Year and month:\n",
    "  - YYYY-MM (e.g., 1997-07)\n",
    "- Complete date:\n",
    "  - YYYY-MM-DD (e.g., 1997-07-16)\n",
    "- Complete date plus hours and minutes:\n",
    "  - YYYY-MM-DDThh:mmTZD (e.g., 1997-07-16T19:20+01:00)\n",
    "- Complete date plus hours, minutes and seconds:\n",
    "  - YYYY-MM-DDThh:mm:ssTZD (e.g., 1997-07-16T19:20:30+01:00)\n",
    "- Complete date plus hours, minutes, seconds and a decimal fraction of a\n",
    "second\n",
    "  - YYYY-MM-DDThh:mm:ss.sTZD (e.g., 1997-07-16T19:20:30.45+01:00)\n",
    "  \n",
    "where:\n",
    "- YYYY = four-digit year\n",
    "- MM   = two-digit month (01=January, etc.)\n",
    "- DD   = two-digit day of month (01 through 31)\n",
    "- hh   = two digits of hour (00 through 23) (am/pm NOT allowed)\n",
    "- mm   = two digits of minute (00 through 59)\n",
    "- ss   = two digits of second (00 through 59)\n",
    "- s    = one or more digits representing a decimal fraction of a second\n",
    "- TZD  = time zone designator (Z or +hh:mm or -hh:mm)"
   ]
  },
  {
   "cell_type": "markdown",
   "metadata": {
    "slideshow": {
     "slide_type": "slide"
    }
   },
   "source": [
    "## Time conversion\n",
    "- Basic time formats can be converted using Python's [datetime library](https://docs.python.org/3/library/datetime.html#strftime-and-strptime-behavior).\n",
    "- Pandas has its own [datetime converter](https://pandas.pydata.org/docs/reference/api/pandas.to_datetime.html)."
   ]
  },
  {
   "cell_type": "code",
   "execution_count": 3,
   "metadata": {
    "slideshow": {
     "slide_type": "fragment"
    }
   },
   "outputs": [
    {
     "name": "stdout",
     "output_type": "stream",
     "text": [
      "An arbitrary format: 23/10-2023 11:29:30\n",
      "Reformatted to the standard: 2023-10-23 11:29:30\n"
     ]
    }
   ],
   "source": [
    "now = datetime.now()\n",
    "formatted = now.strftime(\"%d/%m-%Y %H:%M:%S\")\n",
    "print(\"An arbitrary format:\", formatted)\n",
    "\n",
    "reformatted = datetime.strptime(formatted, \"%d/%m-%Y %H:%M:%S\")\n",
    "print(\"Reformatted to the standard:\", reformatted)"
   ]
  },
  {
   "cell_type": "markdown",
   "metadata": {
    "slideshow": {
     "slide_type": "slide"
    }
   },
   "source": [
    "## Exercise\n",
    "- Read the _white\\_rabbit.dat_ data using Pandas.\n",
    "- Convert the columns into standard Python format datetimes in the same timezone.\n",
    "- Concatenate the three columns into a single time series.\n",
    "- Convert it to your local timezone.\n",
    "- Confirm vilsually that you have handled each series correctly by plotting the resulting datetimes, achieving a perfectly straight line."
   ]
  },
  {
   "cell_type": "markdown",
   "metadata": {
    "slideshow": {
     "slide_type": "slide"
    }
   },
   "source": [
    "## Resources\n",
    "- [Oracle date formats](https://docs.oracle.com/cd/E41183_01/DR/Date_Format_Types.html).\n",
    "- [Unix timestamp](https://www.unixtimestamp.com/)\n",
    "- [W3.org: ISO 8601](https://www.w3.org/TR/NOTE-datetime) \n",
    "- [Wikipedia: ISO 8601](https://en.wikipedia.org/wiki/ISO_8601)\n",
    "- [Python datetime library](https://docs.python.org/3/library/datetime.html#strftime-and-strptime-behavior).\n",
    "- [Pandas datetime converter](https://pandas.pydata.org/docs/reference/api/pandas.to_datetime.html)."
   ]
  }
 ],
 "metadata": {
  "celltoolbar": "Slideshow",
  "kernelspec": {
   "display_name": "Python 3 (ipykernel)",
   "language": "python",
   "name": "python3"
  },
  "language_info": {
   "codemirror_mode": {
    "name": "ipython",
    "version": 3
   },
   "file_extension": ".py",
   "mimetype": "text/x-python",
   "name": "python",
   "nbconvert_exporter": "python",
   "pygments_lexer": "ipython3",
   "version": "3.10.6"
  }
 },
 "nbformat": 4,
 "nbformat_minor": 2
}
