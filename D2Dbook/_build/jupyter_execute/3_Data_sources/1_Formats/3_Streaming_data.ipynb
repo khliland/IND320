{
 "cells": [
  {
   "cell_type": "markdown",
   "metadata": {
    "slideshow": {
     "slide_type": "slide"
    }
   },
   "source": [
    "# Streaming data\n",
    "- Data that can be loaded chunk-wise (single or a few at the time).\n",
    "- Data flowing through a socket/pipe/streaming API/...\n",
    "- Typically requires:\n",
    "    - Checking if stream is active.\n",
    "    - A reactive reading mechanism or time delayed loop to check for updates.\n",
    "    - Error/exception checking/handling.\n",
    "    - A receiving enitity that can use the incomming data, e.g., printing to screen, updating graphics, updating a model, predicting some outcome/state/quantity, ..."
   ]
  },
  {
   "cell_type": "markdown",
   "metadata": {
    "slideshow": {
     "slide_type": "slide"
    }
   },
   "source": [
    "## Live reading of Twitch chat\n",
    "- Requires a free account on [Twitch](https://twitch.tv) and obtaining an [oauth autentication token](https://twitchapps.com/tmi/).\n",
    "- We will use River's [TwitchChatStream](https://riverml.xyz/0.18.0/api/stream/TwitchChatStream/) to handle the live streamed data."
   ]
  },
  {
   "cell_type": "code",
   "execution_count": 1,
   "metadata": {
    "ExecuteTime": {
     "end_time": "2024-08-17T10:13:04.237497Z",
     "start_time": "2024-08-17T10:13:03.680332Z"
    },
    "slideshow": {
     "slide_type": "slide"
    },
    "tags": []
   },
   "outputs": [
    {
     "name": "stdout",
     "output_type": "stream",
     "text": [
      "True\n"
     ]
    }
   ],
   "source": [
    "# Check if user is logged in (\"==\" active chat)\n",
    "import requests\n",
    "user = \"k3soju\" # Change this to the user you want to check, e.g., epicdan22, zackrawrr, summit1g, \n",
    "# mizkif, cohhcarnage, k3soju, etc.\n",
    "response = requests.get(\"https://decapi.me/twitch/uptime/\"+user).text\n",
    "is_online = response != user+\" is offline\"\n",
    "print(is_online)"
   ]
  },
  {
   "cell_type": "code",
   "execution_count": 2,
   "metadata": {
    "ExecuteTime": {
     "end_time": "2024-08-17T10:13:05.749073Z",
     "start_time": "2024-08-17T10:13:04.238693Z"
    },
    "slideshow": {
     "slide_type": "slide"
    },
    "tags": []
   },
   "outputs": [],
   "source": [
    "# Connect to the Twitch chat using River\n",
    "from river import stream\n",
    "\n",
    "if is_online:\n",
    "    oauth = open('../../../No_sync/twitch_oauth','r').read()\n",
    "    twitch_chat = stream.TwitchChatStream(\n",
    "        nickname=\"khliland\", # Exchange with your Twitch username\n",
    "        token=oauth,\n",
    "        channels=[user]\n",
    "    )"
   ]
  },
  {
   "cell_type": "code",
   "execution_count": 3,
   "metadata": {
    "ExecuteTime": {
     "end_time": "2024-08-17T10:13:06.863670Z",
     "start_time": "2024-08-17T10:13:05.749654Z"
    },
    "slideshow": {
     "slide_type": "slide"
    },
    "tags": []
   },
   "outputs": [
    {
     "name": "stdout",
     "output_type": "stream",
     "text": [
      "{'dt': datetime.datetime(2024, 11, 25, 11, 32, 9, 446621), 'channel': 'k3soju', 'username': 'slayermaxlive', 'msg': 'why no steraks there'}\n"
     ]
    },
    {
     "name": "stdout",
     "output_type": "stream",
     "text": [
      "{'dt': datetime.datetime(2024, 11, 25, 11, 32, 14, 258396), 'channel': 'k3soju', 'username': 'guyperson500', 'msg': 'will it not be patched until .24'}\n"
     ]
    },
    {
     "name": "stdout",
     "output_type": "stream",
     "text": [
      "{'dt': datetime.datetime(2024, 11, 25, 11, 32, 16, 7544), 'channel': 'k3soju', 'username': 'morecatemotes', 'msg': '@vincent4019 I dont think this gp bug will give ban. its anamoly on certain unit'}\n"
     ]
    },
    {
     "name": "stdout",
     "output_type": "stream",
     "text": [
      "{'dt': datetime.datetime(2024, 11, 25, 11, 32, 16, 717745), 'channel': 'k3soju', 'username': 'dunderbeans', 'msg': \"@DOMBOY69 you won't get banned if you do it once, but if your match history is spamming it you might\"}\n"
     ]
    },
    {
     "name": "stdout",
     "output_type": "stream",
     "text": [
      "{'dt': datetime.datetime(2024, 11, 25, 11, 32, 18, 765628), 'channel': 'k3soju', 'username': 'edenyx', 'msg': 'bro level up :)'}\n",
      "{'dt': datetime.datetime(2024, 11, 25, 11, 32, 18, 952716), 'channel': 'k3soju', 'username': 'erikins1', 'msg': 'why isnt he banned yet? LOL'}\n"
     ]
    },
    {
     "name": "stdout",
     "output_type": "stream",
     "text": [
      "{'dt': datetime.datetime(2024, 11, 25, 11, 32, 19, 778325), 'channel': 'k3soju', 'username': 'versedbtw', 'msg': 'is it a MORONMODE  stream oe what chat'}\n"
     ]
    },
    {
     "name": "stdout",
     "output_type": "stream",
     "text": [
      "{'dt': datetime.datetime(2024, 11, 25, 11, 32, 20, 76221), 'channel': 'k3soju', 'username': 'sygul466', 'msg': 'cringe bug abuser Bedge'}\n"
     ]
    },
    {
     "name": "stdout",
     "output_type": "stream",
     "text": [
      "{'dt': datetime.datetime(2024, 11, 25, 11, 32, 22, 304727), 'channel': 'k3soju', 'username': 'deba', 'msg': \"he's not gonna say the bug\"}\n"
     ]
    },
    {
     "name": "stdout",
     "output_type": "stream",
     "text": [
      "{'dt': datetime.datetime(2024, 11, 25, 11, 32, 30, 29241), 'channel': 'k3soju', 'username': 'ggggguuuuuyyyyy', 'msg': 'u are a loser for playing family'}\n",
      "Puh, that's enough!\n"
     ]
    }
   ],
   "source": [
    "# If the user is online, print the first 2 messages\n",
    "if is_online:\n",
    "    messages = 10\n",
    "    for item in twitch_chat:\n",
    "        print(item)\n",
    "        if messages > 1:\n",
    "            messages -= 1\n",
    "        else:\n",
    "            print(\"Puh, that's enough!\")\n",
    "            break"
   ]
  },
  {
   "cell_type": "markdown",
   "metadata": {
    "slideshow": {
     "slide_type": "slide"
    }
   },
   "source": [
    "### Comments\n",
    "- Here, River has formated everything nicely for us as dictionaries.\n",
    "    - River's streaming format is based on dictionaries to minimize overhead.\n",
    "- See escpecially the _datetime_ formatting.\n",
    "- We will return to River and streaming Machine Learning later in the book."
   ]
  },
  {
   "cell_type": "markdown",
   "metadata": {
    "slideshow": {
     "slide_type": "slide"
    }
   },
   "source": [
    "## Exercise\n",
    "Make a clock  using [World Time API](http://worldtimeapi.org/)\n",
    "- Pull the current time from _http://worldtimeapi.org/api/timezone/Europe/Oslo_ every second using _requests.get()_.\n",
    "- Print only the _hours:minutes:seconds.decimals_\n",
    "- Print an error message if this fails.\n",
    "- Stop after 10 seconds"
   ]
  },
  {
   "cell_type": "markdown",
   "metadata": {
    "slideshow": {
     "slide_type": "slide"
    }
   },
   "source": [
    "```{seealso} Resources\n",
    ":class: tip\n",
    "- [River](https://riverml.xyz/)\n",
    "    - [TwitchChatSream](https://riverml.xyz/0.18.0/api/stream/TwitchChatStream/)\n",
    "- [Twitch](https://twitch.tv) \n",
    "    - [oauth autentication token](https://twitchapps.com/tmi/).\n",
    "- [World Time API](http://worldtimeapi.org/)\n",
    "```\n"
   ]
  }
 ],
 "metadata": {
  "celltoolbar": "Slideshow",
  "kernelspec": {
   "display_name": "IND320_2024",
   "language": "python",
   "name": "python3"
  },
  "language_info": {
   "codemirror_mode": {
    "name": "ipython",
    "version": 3
   },
   "file_extension": ".py",
   "mimetype": "text/x-python",
   "name": "python",
   "nbconvert_exporter": "python",
   "pygments_lexer": "ipython3",
   "version": "3.12.4"
  }
 },
 "nbformat": 4,
 "nbformat_minor": 4
}