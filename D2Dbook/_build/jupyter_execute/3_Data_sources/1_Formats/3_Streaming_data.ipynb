{
 "cells": [
  {
   "cell_type": "markdown",
   "metadata": {
    "slideshow": {
     "slide_type": "slide"
    }
   },
   "source": [
    "# Streaming data\n",
    "- Data that can be loaded chunk-wise (single or a few at the time).\n",
    "- Data flowing through a socket/pipe/streaming API/...\n",
    "- Typically requires:\n",
    "    - Checking if stream is active.\n",
    "    - A reactive reading mechanism or time delayed loop to check for updates.\n",
    "    - Error/exception checking/handling.\n",
    "    - A receiving enitity that can use the incomming data, e.g., printing to screen, updating graphics, updating a model, predicting some outcome/state/quantity, ..."
   ]
  },
  {
   "cell_type": "markdown",
   "metadata": {
    "slideshow": {
     "slide_type": "slide"
    }
   },
   "source": [
    "## Live reading of Twitch chat\n",
    "- Requires a free account on [Twitch](https://twitch.tv) and obtaining an [oauth autentication token](https://twitchapps.com/tmi/).\n",
    "- We will use River's [TwitchChatStream](https://riverml.xyz/0.18.0/api/stream/TwitchChatStream/) to handle the live streamed data."
   ]
  },
  {
   "cell_type": "code",
   "execution_count": 1,
   "metadata": {
    "ExecuteTime": {
     "end_time": "2024-08-17T10:13:04.237497Z",
     "start_time": "2024-08-17T10:13:03.680332Z"
    },
    "slideshow": {
     "slide_type": "slide"
    },
    "tags": []
   },
   "outputs": [
    {
     "name": "stdout",
     "output_type": "stream",
     "text": [
      "True\n"
     ]
    }
   ],
   "source": [
    "# Check if user is logged in (\"==\" active chat)\n",
    "import requests\n",
    "user = \"k3soju\" # Change this to the user you want to check, e.g., epicdan22, zackrawrr, summit1g, \n",
    "# mizkif, cohhcarnage, k3soju, etc.\n",
    "response = requests.get(\"https://decapi.me/twitch/uptime/\"+user).text\n",
    "is_online = response != user+\" is offline\"\n",
    "print(is_online)"
   ]
  },
  {
   "cell_type": "code",
   "execution_count": 2,
   "metadata": {
    "ExecuteTime": {
     "end_time": "2024-08-17T10:13:05.749073Z",
     "start_time": "2024-08-17T10:13:04.238693Z"
    },
    "slideshow": {
     "slide_type": "slide"
    },
    "tags": []
   },
   "outputs": [],
   "source": [
    "# Connect to the Twitch chat using River\n",
    "from river import stream\n",
    "\n",
    "if is_online:\n",
    "    oauth = open('../../../No_sync/twitch_oauth','r').read()\n",
    "    twitch_chat = stream.TwitchChatStream(\n",
    "        nickname=\"khliland\", # Exchange with your Twitch username\n",
    "        token=oauth,\n",
    "        channels=[user]\n",
    "    )"
   ]
  },
  {
   "cell_type": "code",
   "execution_count": 3,
   "metadata": {
    "ExecuteTime": {
     "end_time": "2024-08-17T10:13:06.863670Z",
     "start_time": "2024-08-17T10:13:05.749654Z"
    },
    "slideshow": {
     "slide_type": "slide"
    },
    "tags": []
   },
   "outputs": [
    {
     "name": "stdout",
     "output_type": "stream",
     "text": [
      "{'dt': datetime.datetime(2024, 12, 4, 21, 21, 5, 61215), 'channel': 'k3soju', 'username': 'mazedmarky_ow', 'msg': 'FBtouchdown'}\n"
     ]
    },
    {
     "name": "stdout",
     "output_type": "stream",
     "text": [
      "{'dt': datetime.datetime(2024, 12, 4, 21, 21, 5, 610087), 'channel': 'k3soju', 'username': 'backporch2', 'msg': 'ambessa emisary with 0 wins LUL'}\n"
     ]
    },
    {
     "name": "stdout",
     "output_type": "stream",
     "text": [
      "{'dt': datetime.datetime(2024, 12, 4, 21, 21, 5, 985404), 'channel': 'k3soju', 'username': 'oceanicmission', 'msg': 'why did my Twitch3/6 Bruiser+BruiserMundo just lose to Conq. Gangplank?? wtf is GP'}\n"
     ]
    },
    {
     "name": "stdout",
     "output_type": "stream",
     "text": [
      "{'dt': datetime.datetime(2024, 12, 4, 21, 21, 6, 625846), 'channel': 'k3soju', 'username': 'jzhutft', 'msg': 'he gave permission HandsUp'}\n"
     ]
    },
    {
     "name": "stdout",
     "output_type": "stream",
     "text": [
      "{'dt': datetime.datetime(2024, 12, 4, 21, 21, 8, 703861), 'channel': 'k3soju', 'username': 'xkimchiho', 'msg': 'bottom right bud'}\n",
      "{'dt': datetime.datetime(2024, 12, 4, 21, 21, 8, 882244), 'channel': 'k3soju', 'username': 'unfollow_fear', 'msg': 'NOW CHAT WILL START SAYING WHY GS BT DIFF'}\n"
     ]
    },
    {
     "name": "stdout",
     "output_type": "stream",
     "text": [
      "{'dt': datetime.datetime(2024, 12, 4, 21, 21, 10, 41687), 'channel': 'k3soju', 'username': 'cl0uddem0n', 'msg': '@easyyou2 legit cant play the game without titans what are you on about'}\n"
     ]
    },
    {
     "name": "stdout",
     "output_type": "stream",
     "text": [
      "{'dt': datetime.datetime(2024, 12, 4, 21, 21, 11, 175211), 'channel': 'k3soju', 'username': 'sukmedrysenpai', 'msg': 'stares at his TFT board, scratching his head. \"Where’s my smeech?\" he mutters, frantically dragging units around. Suddenly, someone in the lobby chimes in: \"Bro, you look like a smeech. \"Soju freezes. \"Wait...\" He looks at his reflection in the screen and sees it—round face, slightly derpy smile. He doesn\\'t just need the smeech; he is the smeech. Without hesitation, he drags himself onto the board. \"I AM the carry now,\" he declares. The board glows with newfound synergy. xdd'}\n"
     ]
    },
    {
     "name": "stdout",
     "output_type": "stream",
     "text": [
      "{'dt': datetime.datetime(2024, 12, 4, 21, 21, 11, 556465), 'channel': 'k3soju', 'username': 'chonkerchris', 'msg': 'stares at his TFT board, scratching his head. \"Where’s my smeech?\" he mutters, frantically dragging units around. Suddenly, someone in the lobby chimes in: \"Bro, you look like a smeech. \"Soju freezes. \"Wait...\" He looks at his reflection in the screen and sees it—round face, slightly derpy smile. He doesn\\'t just need the smeech; he is the smeech. Without hesitation, he drags himself onto the board. \"I AM the carry now,\" he declares. The board glows with newfound synergy. xdd'}\n"
     ]
    },
    {
     "name": "stdout",
     "output_type": "stream",
     "text": [
      "{'dt': datetime.datetime(2024, 12, 4, 21, 21, 14, 73612), 'channel': 'k3soju', 'username': 'adileles', 'msg': 'FBtouchdown FBtouchdown FBtouchdown'}\n",
      "Puh, that's enough!\n"
     ]
    }
   ],
   "source": [
    "# If the user is online, print the first 2 messages\n",
    "if is_online:\n",
    "    messages = 10\n",
    "    for item in twitch_chat:\n",
    "        print(item)\n",
    "        if messages > 1:\n",
    "            messages -= 1\n",
    "        else:\n",
    "            print(\"Puh, that's enough!\")\n",
    "            break"
   ]
  },
  {
   "cell_type": "markdown",
   "metadata": {
    "slideshow": {
     "slide_type": "slide"
    }
   },
   "source": [
    "### Comments\n",
    "- Here, River has formated everything nicely for us as dictionaries.\n",
    "    - River's streaming format is based on dictionaries to minimize overhead.\n",
    "- See escpecially the _datetime_ formatting.\n",
    "- We will return to River and streaming Machine Learning later in the book."
   ]
  },
  {
   "cell_type": "markdown",
   "metadata": {
    "slideshow": {
     "slide_type": "slide"
    }
   },
   "source": [
    "## Exercise\n",
    "Make a clock  using [World Time API](http://worldtimeapi.org/)\n",
    "- Pull the current time from _http://worldtimeapi.org/api/timezone/Europe/Oslo_ every second using _requests.get()_.\n",
    "- Print only the _hours:minutes:seconds.decimals_\n",
    "- Print an error message if this fails.\n",
    "- Stop after 10 seconds"
   ]
  },
  {
   "cell_type": "markdown",
   "metadata": {
    "slideshow": {
     "slide_type": "slide"
    }
   },
   "source": [
    "```{seealso} Resources\n",
    ":class: tip\n",
    "- [River](https://riverml.xyz/)\n",
    "    - [TwitchChatSream](https://riverml.xyz/0.18.0/api/stream/TwitchChatStream/)\n",
    "- [Twitch](https://twitch.tv) \n",
    "    - [oauth autentication token](https://twitchapps.com/tmi/).\n",
    "- [World Time API](http://worldtimeapi.org/)\n",
    "```\n"
   ]
  }
 ],
 "metadata": {
  "celltoolbar": "Slideshow",
  "kernelspec": {
   "display_name": "IND320_2024",
   "language": "python",
   "name": "python3"
  },
  "language_info": {
   "codemirror_mode": {
    "name": "ipython",
    "version": 3
   },
   "file_extension": ".py",
   "mimetype": "text/x-python",
   "name": "python",
   "nbconvert_exporter": "python",
   "pygments_lexer": "ipython3",
   "version": "3.12.4"
  }
 },
 "nbformat": 4,
 "nbformat_minor": 4
}