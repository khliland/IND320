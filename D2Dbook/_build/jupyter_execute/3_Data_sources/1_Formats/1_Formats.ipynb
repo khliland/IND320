{
 "cells": [
  {
   "cell_type": "markdown",
   "metadata": {
    "slideshow": {
     "slide_type": "slide"
    }
   },
   "source": [
    "# Static and streaming data\n",
    "Before introducing databases and APIs it is usefull to have some basic knowledge about data formats. We will introduce:\n",
    "- [Data formats](./2_Data_formats.ipynb) - some important formats for data storage and handling.\n",
    "    - Open and proprietary file formats, data exchange formats and encoding.\n",
    "- [Streaming data](./3_Streaming_data.ipynb) - a brief intro to streaming data.\n",
    "    - This theme will be revisited in later chapters."
   ]
  }
 ],
 "metadata": {
  "celltoolbar": "Slideshow",
  "kernelspec": {
   "display_name": "Python 3 (ipykernel)",
   "language": "python",
   "name": "python3"
  },
  "language_info": {
   "codemirror_mode": {
    "name": "ipython",
    "version": 3
   },
   "file_extension": ".py",
   "mimetype": "text/x-python",
   "name": "python",
   "nbconvert_exporter": "python",
   "pygments_lexer": "ipython3",
   "version": "3.10.6"
  }
 },
 "nbformat": 4,
 "nbformat_minor": 2
}