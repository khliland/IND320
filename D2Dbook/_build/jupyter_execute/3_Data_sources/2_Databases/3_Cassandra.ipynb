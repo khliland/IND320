{
 "cells": [
  {
   "cell_type": "markdown",
   "metadata": {
    "slideshow": {
     "slide_type": "slide"
    }
   },
   "source": [
    "# Cassandra\n",
    "- A production grade NoSQL database.\n",
    "- Can be distributed across servers, nodes, etc.\n",
    "- Replication of database is supported for high degree of redundancy and speed.\n",
    "- Uses CQL, a subset of SQL for querying.\n",
    "- Works seamlesly together with Spark and its corresponding distributed structure.\n",
    "- Installation of Cassandra is explained in the [Installation chapter](../../7_Appendix/Installation.ipynb)."
   ]
  },
  {
   "cell_type": "markdown",
   "metadata": {
    "slideshow": {
     "slide_type": "slide"
    }
   },
   "source": [
    "## Spinning up a local Cassandra instance\n",
    "In a terminal, first time:  \n",
    "```docker run --name my_cassandra -p 9042:9042 cassandra:latest```  \n",
    "... and later:  \n",
    "```docker start my_cassandra```  \n",
    "  \n",
    ".. or in Docker Desktop:\n",
    "- Run the cassandra docker image with optional settings, opening 9042 port and setting a name.\n",
    "- Later, simply run the container with the name you chose."
   ]
  },
  {
   "cell_type": "markdown",
   "metadata": {
    "slideshow": {
     "slide_type": "slide"
    }
   },
   "source": [
    "<img src=\"https://github.com/khliland/IND320/blob/main/D2Dbook/images/Docker_images.png?raw=TRUE\" width=\"600px\">  "
   ]
  },
  {
   "cell_type": "markdown",
   "metadata": {
    "slideshow": {
     "slide_type": "slide"
    }
   },
   "source": [
    "\n",
    "<img src=\"https://github.com/khliland/IND320/blob/main/D2Dbook/images/Docker_containers.png?raw=TRUE\" width=\"800px\">  "
   ]
  },
  {
   "cell_type": "markdown",
   "metadata": {
    "slideshow": {
     "slide_type": "slide"
    }
   },
   "source": [
    "### Connect to the Cassandra cluster from Python."
   ]
  },
  {
   "cell_type": "code",
   "execution_count": 1,
   "metadata": {
    "ExecuteTime": {
     "end_time": "2024-08-17T10:25:34.787878Z",
     "start_time": "2024-08-17T10:25:34.389367Z"
    },
    "slideshow": {
     "slide_type": "fragment"
    },
    "tags": []
   },
   "outputs": [],
   "source": [
    "# Connecting to Cassandra\n",
    "from cassandra.cluster import Cluster\n",
    "cluster = Cluster(['localhost'], port=9042)\n",
    "session = cluster.connect()"
   ]
  },
  {
   "cell_type": "markdown",
   "metadata": {
    "slideshow": {
     "slide_type": "slide"
    }
   },
   "source": [
    "### Keyspace\n",
    "- In Cassandra database tables are stored in keyspaces (basically a distributed database).\n",
    "- These have parameters controlling their distribution on nodes/servers and redundancy.\n",
    "- We will use the simplest form locally."
   ]
  },
  {
   "cell_type": "code",
   "execution_count": 2,
   "metadata": {
    "ExecuteTime": {
     "end_time": "2024-08-17T10:25:34.798504Z",
     "start_time": "2024-08-17T10:25:34.789786Z"
    },
    "slideshow": {
     "slide_type": "fragment"
    },
    "tags": []
   },
   "outputs": [
    {
     "data": {
      "text/plain": [
       "<cassandra.cluster.ResultSet at 0x107b11f40>"
      ]
     },
     "execution_count": 2,
     "metadata": {},
     "output_type": "execute_result"
    }
   ],
   "source": [
    "# Set up new keyspace (first time only)\n",
    "#                                              name of keyspace                        replication strategy           replication factor\n",
    "session.execute(\"CREATE KEYSPACE IF NOT EXISTS my_first_keyspace WITH REPLICATION = { 'class' : 'SimpleStrategy', 'replication_factor' : 1 };\")"
   ]
  },
  {
   "cell_type": "markdown",
   "metadata": {
    "slideshow": {
     "slide_type": "slide"
    }
   },
   "source": [
    "### Create a table\n",
    "- IF NOT EXISTS makes sure we do not overwrite existing tables"
   ]
  },
  {
   "cell_type": "code",
   "execution_count": 3,
   "metadata": {
    "ExecuteTime": {
     "end_time": "2024-08-17T10:25:35.347394Z",
     "start_time": "2024-08-17T10:25:34.800008Z"
    },
    "slideshow": {
     "slide_type": "fragment"
    },
    "tags": []
   },
   "outputs": [
    {
     "data": {
      "text/plain": [
       "<cassandra.cluster.ResultSet at 0x11046e540>"
      ]
     },
     "execution_count": 3,
     "metadata": {},
     "output_type": "execute_result"
    }
   ],
   "source": [
    "# Create a new table (first time only)\n",
    "session.set_keyspace('my_first_keyspace')\n",
    "session.execute(\"DROP TABLE IF EXISTS my_first_keyspace.my_first_table;\") # Starting from scratch every time\n",
    "session.execute(\"CREATE TABLE IF NOT EXISTS my_first_table (ind int PRIMARY KEY, company text, model text);\")"
   ]
  },
  {
   "cell_type": "markdown",
   "metadata": {
    "slideshow": {
     "slide_type": "slide"
    }
   },
   "source": [
    "### Inserting and reading data"
   ]
  },
  {
   "cell_type": "code",
   "execution_count": 4,
   "metadata": {
    "ExecuteTime": {
     "end_time": "2024-08-17T10:25:35.366363Z",
     "start_time": "2024-08-17T10:25:35.350453Z"
    },
    "slideshow": {
     "slide_type": "fragment"
    },
    "tags": []
   },
   "outputs": [
    {
     "data": {
      "text/plain": [
       "<cassandra.cluster.ResultSet at 0x107c95700>"
      ]
     },
     "execution_count": 4,
     "metadata": {},
     "output_type": "execute_result"
    }
   ],
   "source": [
    "# Insert some data (ind is the primary key, must be unique)\n",
    "session.execute(\"INSERT INTO my_first_table (ind, company, model) VALUES (1, 'Tesla', 'Model S');\")\n",
    "session.execute(\"INSERT INTO my_first_table (ind, company, model) VALUES (2, 'Tesla', 'Model 3');\")\n",
    "session.execute(\"INSERT INTO my_first_table (ind, company, model) VALUES (3, 'Polestar', '3');\")"
   ]
  },
  {
   "cell_type": "code",
   "execution_count": 5,
   "metadata": {},
   "outputs": [
    {
     "name": "stdout",
     "output_type": "stream",
     "text": [
      "Row(ind=1, company='Tesla', model='Model S')\n",
      "Row(ind=2, company='Tesla', model='Model 3')\n",
      "Row(ind=3, company='Polestar', model='3')\n"
     ]
    }
   ],
   "source": [
    "# Query the data\n",
    "rows = session.execute(\"SELECT * FROM my_first_table;\")\n",
    "for i in rows:\n",
    "    print(i)"
   ]
  },
  {
   "cell_type": "markdown",
   "metadata": {
    "slideshow": {
     "slide_type": "slide"
    },
    "tags": []
   },
   "source": [
    "### Case sensitivity\n",
    "- Cassandra is by default case insensitive in column names.\n",
    "- To use column names with capital letters, use double quotation marks both when creating tables and when inserting data.\n",
    "- The effect of insensitivity may be surprising.\n",
    "    - Look carefully at the use of quotation marks and error message below."
   ]
  },
  {
   "cell_type": "code",
   "execution_count": 6,
   "metadata": {
    "slideshow": {
     "slide_type": "slide"
    },
    "tags": []
   },
   "outputs": [
    {
     "data": {
      "text/plain": [
       "<cassandra.cluster.ResultSet at 0x11047a810>"
      ]
     },
     "execution_count": 6,
     "metadata": {},
     "output_type": "execute_result"
    }
   ],
   "source": [
    "session.set_keyspace('my_first_keyspace')\n",
    "session.execute(\"DROP TABLE IF EXISTS my_first_keyspace.case_insensitive;\") # Starting from scratch every time\n",
    "session.execute(\"CREATE TABLE IF NOT EXISTS case_insensitive (Capital int PRIMARY KEY, Letters text, Everywhere text);\")\n",
    "session.execute(\"DROP TABLE IF EXISTS my_first_keyspace.case_sensitive;\") # Starting from scratch every time\n",
    "session.execute(\"CREATE TABLE IF NOT EXISTS case_sensitive (\\\"Capital\\\" int PRIMARY KEY, \\\"Letters\\\" text, \\\"Everywhere\\\" text);\")"
   ]
  },
  {
   "cell_type": "code",
   "execution_count": 7,
   "metadata": {
    "slideshow": {
     "slide_type": "fragment"
    },
    "tags": []
   },
   "outputs": [
    {
     "data": {
      "text/plain": [
       "<cassandra.cluster.ResultSet at 0x107abd580>"
      ]
     },
     "execution_count": 7,
     "metadata": {},
     "output_type": "execute_result"
    }
   ],
   "source": [
    "session.execute(\"INSERT INTO case_insensitive (Capital, Letters, Everywhere) VALUES (1, 'Tesla', 'Model S');\")"
   ]
  },
  {
   "cell_type": "code",
   "execution_count": 8,
   "metadata": {
    "slideshow": {
     "slide_type": "fragment"
    },
    "tags": [
     "raises-exception"
    ]
   },
   "outputs": [
    {
     "ename": "InvalidRequest",
     "evalue": "Error from server: code=2200 [Invalid query] message=\"Undefined column name capital in table my_first_keyspace.case_sensitive\"",
     "output_type": "error",
     "traceback": [
      "\u001b[31m---------------------------------------------------------------------------\u001b[39m",
      "\u001b[31mInvalidRequest\u001b[39m                            Traceback (most recent call last)",
      "\u001b[36mCell\u001b[39m\u001b[36m \u001b[39m\u001b[32mIn[8]\u001b[39m\u001b[32m, line 1\u001b[39m\n\u001b[32m----> \u001b[39m\u001b[32m1\u001b[39m \u001b[43msession\u001b[49m\u001b[43m.\u001b[49m\u001b[43mexecute\u001b[49m\u001b[43m(\u001b[49m\u001b[33;43m\"\u001b[39;49m\u001b[33;43mINSERT INTO case_sensitive (Capital, Letters, Everywhere) VALUES (1, \u001b[39;49m\u001b[33;43m'\u001b[39;49m\u001b[33;43mTesla\u001b[39;49m\u001b[33;43m'\u001b[39;49m\u001b[33;43m, \u001b[39;49m\u001b[33;43m'\u001b[39;49m\u001b[33;43mModel S\u001b[39;49m\u001b[33;43m'\u001b[39;49m\u001b[33;43m);\u001b[39;49m\u001b[33;43m\"\u001b[39;49m\u001b[43m)\u001b[49m\n",
      "\u001b[36mFile \u001b[39m\u001b[32m~/miniforge3/envs/ind320_25/lib/python3.12/site-packages/cassandra/cluster.py:2677\u001b[39m, in \u001b[36mSession.execute\u001b[39m\u001b[34m(self, query, parameters, timeout, trace, custom_payload, execution_profile, paging_state, host, execute_as)\u001b[39m\n\u001b[32m   2634\u001b[39m \u001b[38;5;28;01mdef\u001b[39;00m\u001b[38;5;250m \u001b[39m\u001b[34mexecute\u001b[39m(\u001b[38;5;28mself\u001b[39m, query, parameters=\u001b[38;5;28;01mNone\u001b[39;00m, timeout=_NOT_SET, trace=\u001b[38;5;28;01mFalse\u001b[39;00m,\n\u001b[32m   2635\u001b[39m             custom_payload=\u001b[38;5;28;01mNone\u001b[39;00m, execution_profile=EXEC_PROFILE_DEFAULT,\n\u001b[32m   2636\u001b[39m             paging_state=\u001b[38;5;28;01mNone\u001b[39;00m, host=\u001b[38;5;28;01mNone\u001b[39;00m, execute_as=\u001b[38;5;28;01mNone\u001b[39;00m):\n\u001b[32m   2637\u001b[39m \u001b[38;5;250m    \u001b[39m\u001b[33;03m\"\"\"\u001b[39;00m\n\u001b[32m   2638\u001b[39m \u001b[33;03m    Execute the given query and synchronously wait for the response.\u001b[39;00m\n\u001b[32m   2639\u001b[39m \n\u001b[32m   (...)\u001b[39m\u001b[32m   2674\u001b[39m \u001b[33;03m    on a DSE cluster.\u001b[39;00m\n\u001b[32m   2675\u001b[39m \u001b[33;03m    \"\"\"\u001b[39;00m\n\u001b[32m-> \u001b[39m\u001b[32m2677\u001b[39m     \u001b[38;5;28;01mreturn\u001b[39;00m \u001b[38;5;28;43mself\u001b[39;49m\u001b[43m.\u001b[49m\u001b[43mexecute_async\u001b[49m\u001b[43m(\u001b[49m\u001b[43mquery\u001b[49m\u001b[43m,\u001b[49m\u001b[43m \u001b[49m\u001b[43mparameters\u001b[49m\u001b[43m,\u001b[49m\u001b[43m \u001b[49m\u001b[43mtrace\u001b[49m\u001b[43m,\u001b[49m\u001b[43m \u001b[49m\u001b[43mcustom_payload\u001b[49m\u001b[43m,\u001b[49m\u001b[43m \u001b[49m\u001b[43mtimeout\u001b[49m\u001b[43m,\u001b[49m\u001b[43m \u001b[49m\u001b[43mexecution_profile\u001b[49m\u001b[43m,\u001b[49m\u001b[43m \u001b[49m\u001b[43mpaging_state\u001b[49m\u001b[43m,\u001b[49m\u001b[43m \u001b[49m\u001b[43mhost\u001b[49m\u001b[43m,\u001b[49m\u001b[43m \u001b[49m\u001b[43mexecute_as\u001b[49m\u001b[43m)\u001b[49m\u001b[43m.\u001b[49m\u001b[43mresult\u001b[49m\u001b[43m(\u001b[49m\u001b[43m)\u001b[49m\n",
      "\u001b[36mFile \u001b[39m\u001b[32m~/miniforge3/envs/ind320_25/lib/python3.12/site-packages/cassandra/cluster.py:4956\u001b[39m, in \u001b[36mResponseFuture.result\u001b[39m\u001b[34m(self)\u001b[39m\n\u001b[32m   4954\u001b[39m     \u001b[38;5;28;01mreturn\u001b[39;00m ResultSet(\u001b[38;5;28mself\u001b[39m, \u001b[38;5;28mself\u001b[39m._final_result)\n\u001b[32m   4955\u001b[39m \u001b[38;5;28;01melse\u001b[39;00m:\n\u001b[32m-> \u001b[39m\u001b[32m4956\u001b[39m     \u001b[38;5;28;01mraise\u001b[39;00m \u001b[38;5;28mself\u001b[39m._final_exception\n",
      "\u001b[31mInvalidRequest\u001b[39m: Error from server: code=2200 [Invalid query] message=\"Undefined column name capital in table my_first_keyspace.case_sensitive\""
     ]
    }
   ],
   "source": [
    "session.execute(\"INSERT INTO case_sensitive (Capital, Letters, Everywhere) VALUES (1, 'Tesla', 'Model S');\")"
   ]
  },
  {
   "cell_type": "code",
   "execution_count": 9,
   "metadata": {
    "slideshow": {
     "slide_type": "fragment"
    },
    "tags": []
   },
   "outputs": [
    {
     "data": {
      "text/plain": [
       "<cassandra.cluster.ResultSet at 0x11041c6e0>"
      ]
     },
     "execution_count": 9,
     "metadata": {},
     "output_type": "execute_result"
    }
   ],
   "source": [
    "session.execute(\"INSERT INTO case_sensitive (\\\"Capital\\\", \\\"Letters\\\", \\\"Everywhere\\\") VALUES (1, 'Tesla', 'Model S');\")"
   ]
  },
  {
   "cell_type": "code",
   "execution_count": 10,
   "metadata": {
    "slideshow": {
     "slide_type": "slide"
    },
    "tags": []
   },
   "outputs": [
    {
     "name": "stdout",
     "output_type": "stream",
     "text": [
      "Row(capital=1, everywhere='Model S', letters='Tesla')\n",
      "Row(Capital=1, Everywhere='Model S', Letters='Tesla')\n"
     ]
    }
   ],
   "source": [
    "# Query the data\n",
    "rows = session.execute(\"SELECT * FROM case_insensitive;\")\n",
    "for i in rows:\n",
    "    print(i)\n",
    "rows = session.execute(\"SELECT * FROM case_sensitive;\")\n",
    "for i in rows:\n",
    "    print(i)"
   ]
  },
  {
   "cell_type": "markdown",
   "metadata": {
    "slideshow": {
     "slide_type": "slide"
    }
   },
   "source": [
    "### Asyncronous writing\n",
    "- If your application is very data intensive, waiting for a response is not productive.\n",
    "- Writing asyncronously sends the data but does not pause for reply."
   ]
  },
  {
   "cell_type": "code",
   "execution_count": 11,
   "metadata": {
    "ExecuteTime": {
     "end_time": "2024-08-17T10:25:35.371390Z",
     "start_time": "2024-08-17T10:25:35.367159Z"
    },
    "slideshow": {
     "slide_type": "fragment"
    },
    "tags": []
   },
   "outputs": [
    {
     "data": {
      "text/plain": [
       "<ResponseFuture: query='<SimpleStatement query=\"INSERT INTO my_first_table (ind, company, model) VALUES (4, 'Volkswagen', 'ID.4');\", consistency=Not Set>' request_id=63 result=(no result yet) exception=None coordinator_host=None>"
      ]
     },
     "execution_count": 11,
     "metadata": {},
     "output_type": "execute_result"
    }
   ],
   "source": [
    "session.execute_async(\"INSERT INTO my_first_table (ind, company, model) VALUES (4, 'Volkswagen', 'ID.4');\")"
   ]
  },
  {
   "cell_type": "code",
   "execution_count": 12,
   "metadata": {
    "ExecuteTime": {
     "end_time": "2024-08-17T10:25:35.384736Z",
     "start_time": "2024-08-17T10:25:35.372551Z"
    },
    "slideshow": {
     "slide_type": "slide"
    },
    "tags": []
   },
   "outputs": [
    {
     "name": "stdout",
     "output_type": "stream",
     "text": [
      "Row(ind=1, company='Tesla', model='Model S')\n",
      "Row(ind=2, company='Tesla', model='Model 3')\n",
      "Row(ind=3, company='Polestar', model='3')\n"
     ]
    }
   ],
   "source": [
    "# Query the data\n",
    "rows = session.execute(\"SELECT * FROM my_first_table;\")\n",
    "for i in rows:\n",
    "    print(i)"
   ]
  },
  {
   "cell_type": "code",
   "execution_count": 13,
   "metadata": {
    "ExecuteTime": {
     "end_time": "2024-08-17T10:25:35.402371Z",
     "start_time": "2024-08-17T10:25:35.386980Z"
    },
    "slideshow": {
     "slide_type": "slide"
    },
    "tags": [
     "raises-exception"
    ]
   },
   "outputs": [
    {
     "name": "stdout",
     "output_type": "stream",
     "text": [
      "Row(ind=1, company='Tesla', model='Model S')\n",
      "Row(ind=2, company='Tesla', model='Model 3')\n"
     ]
    }
   ],
   "source": [
    "# More specific query\n",
    "prepared_statement = session.prepare(\"SELECT * FROM my_first_table WHERE company=? ALLOW FILTERING;\")\n",
    "teslas = session.execute(prepared_statement, ['Tesla'])\n",
    "for i in teslas:\n",
    "    print(i)"
   ]
  },
  {
   "cell_type": "markdown",
   "metadata": {
    "slideshow": {
     "slide_type": "slide"
    }
   },
   "source": [
    "## Cassandra filtering\n",
    "Cassandra is inherently a distributed production database. Selecting as above may require downloading all data from a node, then filtering based on the WHERE part (only PRIMARY KEYs are centrally known). Solutions:  \n",
    "- If the table is small or most of the data will satisfy the query, add ```ALLOW FILTERING``` at the end of the query (not recommended if not known). \n",
    "- Or make sure the WHERE clause points to one of the keys (see below)."
   ]
  },
  {
   "cell_type": "code",
   "execution_count": 14,
   "metadata": {
    "ExecuteTime": {
     "end_time": "2024-08-17T10:25:35.613711Z",
     "start_time": "2024-08-17T10:25:35.403622Z"
    },
    "slideshow": {
     "slide_type": "slide"
    },
    "tags": []
   },
   "outputs": [
    {
     "data": {
      "text/plain": [
       "<cassandra.cluster.ResultSet at 0x107e9fce0>"
      ]
     },
     "execution_count": 14,
     "metadata": {},
     "output_type": "execute_result"
    }
   ],
   "source": [
    "# Create a new table (observe keys)\n",
    "session.execute(\"DROP TABLE IF EXISTS my_first_keyspace.car_table;\")\n",
    "session.execute(\"CREATE TABLE IF NOT EXISTS car_table (company text, model text, PRIMARY KEY(company, model));\")"
   ]
  },
  {
   "cell_type": "code",
   "execution_count": 15,
   "metadata": {
    "ExecuteTime": {
     "end_time": "2024-08-17T10:25:35.628950Z",
     "start_time": "2024-08-17T10:25:35.615126Z"
    },
    "slideshow": {
     "slide_type": "fragment"
    },
    "tags": []
   },
   "outputs": [
    {
     "data": {
      "text/plain": [
       "<cassandra.cluster.ResultSet at 0x1106a4e90>"
      ]
     },
     "execution_count": 15,
     "metadata": {},
     "output_type": "execute_result"
    }
   ],
   "source": [
    "# Insert some data (combination of company and model must be unique)\n",
    "session.execute(\"INSERT INTO car_table (company, model) VALUES ('Tesla', 'Model S');\")\n",
    "session.execute(\"INSERT INTO car_table (company, model) VALUES ('Tesla', 'Model 3');\")\n",
    "session.execute(\"INSERT INTO car_table (company, model) VALUES ('Polestar', '3');\")\n",
    "session.execute(\"INSERT INTO car_table (company, model) VALUES ('Volkswagen', 'ID.4');\")"
   ]
  },
  {
   "cell_type": "code",
   "execution_count": 16,
   "metadata": {
    "ExecuteTime": {
     "end_time": "2024-08-17T10:25:35.639765Z",
     "start_time": "2024-08-17T10:25:35.630657Z"
    },
    "slideshow": {
     "slide_type": "slide"
    },
    "tags": []
   },
   "outputs": [
    {
     "name": "stdout",
     "output_type": "stream",
     "text": [
      "Row(company='Tesla', model='Model 3')\n",
      "Row(company='Tesla', model='Model S')\n"
     ]
    }
   ],
   "source": [
    "# More specific query now works\n",
    "prepared_statement = session.prepare(\"SELECT * FROM car_table WHERE company=?;\")\n",
    "teslas = session.execute(prepared_statement, ['Tesla'])\n",
    "for i in teslas:\n",
    "    print(i)"
   ]
  },
  {
   "cell_type": "markdown",
   "metadata": {
    "slideshow": {
     "slide_type": "slide"
    }
   },
   "source": [
    "### Partitions\n",
    "- Cassandra databases are usually replicated over different nodes.\n",
    "- Data is stored in partitions (subsets) which have local copys.\n",
    "- The primary key, e.g., PRIMARY KEY(company, model), is used in partitioning.\n",
    "    - The first part, e.g., company, is most important.\n",
    "    - All cars from a company will be located together, aiming for quicker queries."
   ]
  },
  {
   "cell_type": "markdown",
   "metadata": {
    "slideshow": {
     "slide_type": "slide"
    }
   },
   "source": [
    "### Unique IDs \n",
    "- In MySQL one could use the attribute AUTO_INCREMENT on integer IDs to automatically make a new unique index when inserting data.\n",
    "- This would cause unreasonable overhead in a distributed database.\n",
    "- [UUID](https://en.wikipedia.org/wiki/Universally_unique_identifier)s are used instead.\n",
    "    - Universally Unique Identifiers are typically 128-bit random bit sequences with extremely low probability of duplication.\n",
    "    - Cassandra uses a [timeuuid](https://docs.datastax.com/en/cql-oss/3.3/cql/cql_reference/timeuuid_functions_r.html) type to combine a timestamp and uuid in one."
   ]
  },
  {
   "cell_type": "code",
   "execution_count": 17,
   "metadata": {
    "ExecuteTime": {
     "end_time": "2024-08-17T10:25:35.766003Z",
     "start_time": "2024-08-17T10:25:35.640600Z"
    },
    "slideshow": {
     "slide_type": "fragment"
    },
    "tags": []
   },
   "outputs": [
    {
     "data": {
      "text/plain": [
       "<cassandra.cluster.ResultSet at 0x1106aa5a0>"
      ]
     },
     "execution_count": 17,
     "metadata": {},
     "output_type": "execute_result"
    }
   ],
   "source": [
    "# Create a new table (first time only)\n",
    "session.set_keyspace('my_first_keyspace')\n",
    "session.execute(\"DROP TABLE IF EXISTS my_first_keyspace.table_with_uuid;\")\n",
    "session.execute(\"CREATE TABLE IF NOT EXISTS table_with_uuid (id timeuuid PRIMARY KEY, company text, model text, price float);\")"
   ]
  },
  {
   "cell_type": "code",
   "execution_count": 18,
   "metadata": {
    "ExecuteTime": {
     "end_time": "2024-08-17T10:25:35.784876Z",
     "start_time": "2024-08-17T10:25:35.766619Z"
    },
    "slideshow": {
     "slide_type": "slide"
    },
    "tags": []
   },
   "outputs": [
    {
     "data": {
      "text/plain": [
       "<cassandra.cluster.ResultSet at 0x1106a6990>"
      ]
     },
     "execution_count": 18,
     "metadata": {},
     "output_type": "execute_result"
    }
   ],
   "source": [
    "session.execute(\"INSERT INTO table_with_uuid (id, company, model, price) VALUES (now(), 'Tesla', 'Model S', 20000.0);\")\n",
    "session.execute(\"INSERT INTO table_with_uuid (id, company, model, price) VALUES (now(), 'Tesla', 'Model S', 21000.0);\")\n",
    "session.execute(\"INSERT INTO table_with_uuid (id, company, model, price) VALUES (now(), 'Oldsmobile', 'Model 6C', 135000.0);\")"
   ]
  },
  {
   "cell_type": "code",
   "execution_count": 19,
   "metadata": {
    "ExecuteTime": {
     "end_time": "2024-08-17T10:25:35.792934Z",
     "start_time": "2024-08-17T10:25:35.785467Z"
    },
    "slideshow": {
     "slide_type": "slide"
    },
    "tags": []
   },
   "outputs": [
    {
     "name": "stdout",
     "output_type": "stream",
     "text": [
      "Row(id=UUID('97a060c0-9204-11f0-987a-d1a1a3870172'), company='Oldsmobile', model='Model 6C', price=135000.0)\n",
      "Datetime: 2025-09-15 07:21:26.988000\n",
      "Row(id=UUID('979feb90-9204-11f0-987a-d1a1a3870172'), company='Tesla', model='Model S', price=21000.0)\n",
      "Datetime: 2025-09-15 07:21:26.985000\n",
      "Row(id=UUID('979f7660-9204-11f0-987a-d1a1a3870172'), company='Tesla', model='Model S', price=20000.0)\n",
      "Datetime: 2025-09-15 07:21:26.982000\n"
     ]
    }
   ],
   "source": [
    "from cassandra.util import datetime_from_uuid1\n",
    "\n",
    "# Query the data\n",
    "rows = session.execute(\"SELECT * FROM table_with_uuid;\")\n",
    "for i in rows:\n",
    "    print(i)\n",
    "    # Extract the timestamp from Cassandra's timeuuid\n",
    "    print(\"Datetime:\", datetime_from_uuid1(i.id))"
   ]
  },
  {
   "cell_type": "markdown",
   "metadata": {
    "slideshow": {
     "slide_type": "slide"
    }
   },
   "source": [
    "## JSON in Cassandra\n",
    "### Read previously saved JSON file forecast.json to memory"
   ]
  },
  {
   "cell_type": "code",
   "execution_count": 20,
   "metadata": {
    "ExecuteTime": {
     "end_time": "2024-08-17T10:25:35.796049Z",
     "start_time": "2024-08-17T10:25:35.793437Z"
    },
    "slideshow": {
     "slide_type": "fragment"
    },
    "tags": []
   },
   "outputs": [],
   "source": [
    "import json\n",
    "with open('../3_APIs/downloads/forecast.json', 'r') as f:\n",
    "    forecast = json.load(f)"
   ]
  },
  {
   "cell_type": "code",
   "execution_count": 21,
   "metadata": {
    "ExecuteTime": {
     "end_time": "2024-08-17T10:25:35.799114Z",
     "start_time": "2024-08-17T10:25:35.796532Z"
    },
    "slideshow": {
     "slide_type": "slide"
    },
    "tags": []
   },
   "outputs": [
    {
     "data": {
      "text/plain": [
       "\"{'cod': '200', 'message': 0, 'cnt': 40, 'list': [{'dt': 1757538000, 'main': {'temp': 288.89, 'feels_like': 288.56, 'temp_min': 286.91, 'temp_max': 288.89, 'pressure': 1020, 'sea_level': 1020, 'grnd_level': 970, 'humidity': 78, 'temp_kf': 1.98}, 'weather': [{'id': 801, 'main': 'Clouds', 'description': 'few clouds', 'icon': '02n'}], 'clouds': {'all': 20}, 'wind': {'speed': 3.61, 'deg': 99, 'gust': 3.55}, 'visibility': 10000, 'pop': 0, 'sys': {'pod': 'n'}, 'dt_txt': '2025-09-10 21:00:00'}, {'dt': 1757548800, 'main': {'temp': 287.86, 'feels_like': 287.45, 'temp_min': 285.79, 'temp_max': 287.86, 'pressure': 1020, 'sea_level': 1020, 'grnd_level': 969, 'humidity': 79, 'temp_kf': 2.07}, 'weather': [{'id': 801, 'main': 'Clouds', 'description': 'few clouds', 'icon': '02n'}], 'clouds': {'all': 16}, 'wind': {'speed': 4.02, 'deg': 86, 'gust': 4.08}, 'visibility': 10000, 'pop': 0, 'sys': {'pod': 'n'}, 'dt_txt': '2025-09-11 00:00:00'}, {'dt': 1757559600, 'main': {'temp': 286.64, 'feels_like': 286.21, 'temp_min': 285.52, 'temp_max': 286.64, 'pressure': 1019, 'sea_level': 1019, 'grnd_level': 968, 'humidity': 83, 'temp_kf': 1.12}, 'weather': [{'id': 800, 'main': 'Clear', 'description': 'clear sky', 'icon': '01n'}], 'clouds': {'all': 8}, 'wind': {'speed': 4.33, 'deg': 78, 'gust': 4.91}, 'visibility': 10000, 'pop': 0, 'sys': {'pod': 'n'}, 'dt_txt': '2025-09-11 03:00:00'}, {'dt': 1757570400, 'main': {'temp': 288.41, 'feels_like': 287.92, 'temp_min': 288.41, 'temp_max': 288.41, 'pressure': 1016, 'sea_level': 1016, 'grnd_level': 966, 'humidity': 74, 'temp_kf': 0}, 'weather': [{'id': 802, 'main': 'Clouds', 'description': 'scattered clouds', 'icon': '03d'}], 'clouds': {'all': 40}, 'wind': {'speed': 4.22, 'deg': 80, 'gust': 5.24}, 'visibility': 10000, 'pop': 0, 'sys': {'pod': 'd'}, 'dt_txt': '2025-09-11 06:00:00'}, {'dt': 1757581200, 'main': {'temp': 293.41, 'feels_like': 293.14, 'temp_min': 293.41, 'temp_max': 293.41, 'pressure': 1014, 'sea_level': 1014, 'grnd_level': 965, 'humidity': 63, 'temp_kf': 0}, 'weather': [{'id': 500, 'main': 'Rain', 'description': 'light rain', 'icon': '10d'}], 'clouds': {'all': 79}, 'wind': {'speed': 5.36, 'deg': 97, 'gust': 12.12}, 'visibility': 10000, 'pop': 0.28, 'rain': {'3h': 0.18}, 'sys': {'pod': 'd'}, 'dt_txt': '2025-09-11 09:00:00'}, {'dt': 1757592000, 'main': {'temp': 292.83, 'feels_like': 292.71, 'temp_min': 292.83, 'temp_max': 292.83, 'pressure': 1013, 'sea_level': 1013, 'grnd_level': 963, 'humidity': 71, 'temp_kf': 0}, 'weather': [{'id': 500, 'main': 'Rain', 'description': 'light rain', 'icon': '10d'}], 'clouds': {'all': 90}, 'wind': {'speed': 4.46, 'deg': 87, 'gust': 9.93}, 'visibility': 10000, 'pop': 0.2, 'rain': {'3h': 0.1}, 'sys': {'pod': 'd'}, 'dt_txt': '2025-09-11 12:00:00'}, {'dt': 1757602800, 'main': {'temp': 290.8, 'feels_like': 290.71, 'temp_min': 290.8, 'temp_max': 290.8, 'pressure': 1011, 'sea_level': 1011, 'grnd_level': 962, 'humidity': 80, 'temp_kf': 0}, 'weather': [{'id': 804, 'main': 'Clouds', 'description': 'overcast clouds', 'icon': '04d'}], 'clouds': {'all': 100}, 'wind': {'speed': 3.43, 'deg': 69, 'gust': 4.51}, 'visibility': 10000, 'pop': 0, 'sys': {'pod': 'd'}, 'dt_txt': '2025-09-11 15:00:00'}, {'dt': 1757613600, 'main': {'temp': 290.26, 'feels_like': 290.27, 'temp_min': 290.26, 'temp_max': 290.26, 'pressure': 1011, 'sea_level': 1011, 'grnd_level': 961, 'humidity': 86, 'temp_kf': 0}, 'weather': [{'id': 804, 'main': 'Clouds', 'description': 'overcast clouds', 'icon': '04n'}], 'clouds': {'all': 100}, 'wind': {'speed': 3.41, 'deg': 52, 'gust': 3.6}, 'visibility': 10000, 'pop': 0, 'sys': {'pod': 'n'}, 'dt_txt': '2025-09-11 18:00:00'}, {'dt': 1757624400, 'main': {'temp': 290.01, 'feels_like': 289.97, 'temp_min': 290.01, 'temp_max': 290.01, 'pressure': 1008, 'sea_level': 1008, 'grnd_level': 959, 'humidity': 85, 'temp_kf': 0}, 'weather': [{'id': 804, 'main': 'Clouds', 'description': 'overcast clouds', 'icon': '04n'}], 'clouds': {'all': 100}, 'wind': {'speed': 3.75, 'deg': 71, 'gust': 3.61}, 'visibility': 10000, 'pop': 0, 'sys': {'pod': 'n'}, 'dt_txt': '2025-09-11 21:00:00'}, {'dt': 1757635200, 'main': {'temp': 291.29, 'feels_like': 291.09, 'temp_min': 291.29, 'temp_max': 291.29, 'pressure': 1006, 'sea_level': 1006, 'grnd_level': 957, 'humidity': 74, 'temp_kf': 0}, 'weather': [{'id': 500, 'main': 'Rain', 'description': 'light rain', 'icon': '10n'}], 'clouds': {'all': 100}, 'wind': {'speed': 8.2, 'deg': 103, 'gust': 15.7}, 'visibility': 10000, 'pop': 0.2, 'rain': {'3h': 0.25}, 'sys': {'pod': 'n'}, 'dt_txt': '2025-09-12 00:00:00'}, {'dt': 1757646000, 'main': {'temp': 289.97, 'feels_like': 289.64, 'temp_min': 289.97, 'temp_max': 289.97, 'pressure': 1004, 'sea_level': 1004, 'grnd_level': 955, 'humidity': 74, 'temp_kf': 0}, 'weather': [{'id': 500, 'main': 'Rain', 'description': 'light rain', 'icon': '10n'}], 'clouds': {'all': 100}, 'wind': {'speed': 5.33, 'deg': 98, 'gust': 11.03}, 'visibility': 10000, 'pop': 0.35, 'rain': {'3h': 0.22}, 'sys': {'pod': 'n'}, 'dt_txt': '2025-09-12 03:00:00'}, {'dt': 1757656800, 'main': {'temp': 288.57, 'feels_like': 288.26, 'temp_min': 288.57, 'temp_max': 288.57, 'pressure': 1006, 'sea_level': 1006, 'grnd_level': 956, 'humidity': 80, 'temp_kf': 0}, 'weather': [{'id': 500, 'main': 'Rain', 'description': 'light rain', 'icon': '10d'}], 'clouds': {'all': 100}, 'wind': {'speed': 3.81, 'deg': 83, 'gust': 4.9}, 'visibility': 10000, 'pop': 0.2, 'rain': {'3h': 0.1}, 'sys': {'pod': 'd'}, 'dt_txt': '2025-09-12 06:00:00'}, {'dt': 1757667600, 'main': {'temp': 288.72, 'feels_like': 288.5, 'temp_min': 288.72, 'temp_max': 288.72, 'pressure': 1008, 'sea_level': 1008, 'grnd_level': 958, 'humidity': 83, 'temp_kf': 0}, 'weather': [{'id': 500, 'main': 'Rain', 'description': 'light rain', 'icon': '10d'}], 'clouds': {'all': 100}, 'wind': {'speed': 2.96, 'deg': 77, 'gust': 4.29}, 'visibility': 10000, 'pop': 0.36, 'rain': {'3h': 0.21}, 'sys': {'pod': 'd'}, 'dt_txt': '2025-09-12 09:00:00'}, {'dt': 1757678400, 'main': {'temp': 289.83, 'feels_like': 289.59, 'temp_min': 289.83, 'temp_max': 289.83, 'pressure': 1009, 'sea_level': 1009, 'grnd_level': 959, 'humidity': 78, 'temp_kf': 0}, 'weather': [{'id': 804, 'main': 'Clouds', 'description': 'overcast clouds', 'icon': '04d'}], 'clouds': {'all': 92}, 'wind': {'speed': 4.02, 'deg': 76, 'gust': 4.96}, 'visibility': 10000, 'pop': 0, 'sys': {'pod': 'd'}, 'dt_txt': '2025-09-12 12:00:00'}, {'dt': 1757689200, 'main': {'temp': 290.77, 'feels_like': 290.52, 'temp_min': 290.77, 'temp_max': 290.77, 'pressure': 1009, 'sea_level': 1009, 'grnd_level': 960, 'humidity': 74, 'temp_kf': 0}, 'weather': [{'id': 500, 'main': 'Rain', 'description': 'light rain', 'icon': '10d'}], 'clouds': {'all': 60}, 'wind': {'speed': 3.25, 'deg': 84, 'gust': 3.92}, 'visibility': 10000, 'pop': 0.2, 'rain': {'3h': 0.13}, 'sys': {'pod': 'd'}, 'dt_txt': '2025-09-12 15:00:00'}, {'dt': 1757700000, 'main': {'temp': 288.34, 'feels_like': 288.11, 'temp_min': 288.34, 'temp_max': 288.34, 'pressure': 1010, 'sea_level': 1010, 'grnd_level': 961, 'humidity': 84, 'temp_kf': 0}, 'weather': [{'id': 500, 'main': 'Rain', 'description': 'light rain', 'icon': '10n'}], 'clouds': {'all': 72}, 'wind': {'speed': 2.97, 'deg': 97, 'gust': 2.59}, 'visibility': 10000, 'pop': 1, 'rain': {'3h': 0.66}, 'sys': {'pod': 'n'}, 'dt_txt': '2025-09-12 18:00:00'}, {'dt': 1757710800, 'main': {'temp': 286.15, 'feels_like': 285.72, 'temp_min': 286.15, 'temp_max': 286.15, 'pressure': 1011, 'sea_level': 1011, 'grnd_level': 961, 'humidity': 85, 'temp_kf': 0}, 'weather': [{'id': 500, 'main': 'Rain', 'description': 'light rain', 'icon': '10n'}], 'clouds': {'all': 12}, 'wind': {'speed': 3.09, 'deg': 124, 'gust': 2.86}, 'visibility': 10000, 'pop': 0.31, 'rain': {'3h': 0.24}, 'sys': {'pod': 'n'}, 'dt_txt': '2025-09-12 21:00:00'}, {'dt': 1757721600, 'main': {'temp': 285.35, 'feels_like': 284.85, 'temp_min': 285.35, 'temp_max': 285.35, 'pressure': 1012, 'sea_level': 1012, 'grnd_level': 962, 'humidity': 85, 'temp_kf': 0}, 'weather': [{'id': 801, 'main': 'Clouds', 'description': 'few clouds', 'icon': '02n'}], 'clouds': {'all': 12}, 'wind': {'speed': 3.19, 'deg': 117, 'gust': 3.15}, 'visibility': 10000, 'pop': 0, 'sys': {'pod': 'n'}, 'dt_txt': '2025-09-13 00:00:00'}, {'dt': 1757732400, 'main': {'temp': 286.4, 'feels_like': 286, 'temp_min': 286.4, 'temp_max': 286.4, 'pressure': 1012, 'sea_level': 1012, 'grnd_level': 962, 'humidity': 85, 'temp_kf': 0}, 'weather': [{'id': 803, 'main': 'Clouds', 'description': 'broken clouds', 'icon': '04n'}], 'clouds': {'all': 53}, 'wind': {'speed': 2.96, 'deg': 86, 'gust': 2.68}, 'visibility': 10000, 'pop': 0, 'sys': {'pod': 'n'}, 'dt_txt': '2025-09-13 03:00:00'}, {'dt': 1757743200, 'main': {'temp': 286.9, 'feels_like': 286.5, 'temp_min': 286.9, 'temp_max': 286.9, 'pressure': 1012, 'sea_level': 1012, 'grnd_level': 962, 'humidity': 83, 'temp_kf': 0}, 'weather': [{'id': 500, 'main': 'Rain', 'description': 'light rain', 'icon': '10d'}], 'clouds': {'all': 77}, 'wind': {'speed': 2.58, 'deg': 105, 'gust': 2.54}, 'visibility': 10000, 'pop': 0.2, 'rain': {'3h': 0.1}, 'sys': {'pod': 'd'}, 'dt_txt': '2025-09-13 06:00:00'}, {'dt': 1757754000, 'main': {'temp': 290.24, 'feels_like': 289.47, 'temp_min': 290.24, 'temp_max': 290.24, 'pressure': 1013, 'sea_level': 1013, 'grnd_level': 963, 'humidity': 56, 'temp_kf': 0}, 'weather': [{'id': 500, 'main': 'Rain', 'description': 'light rain', 'icon': '10d'}], 'clouds': {'all': 47}, 'wind': {'speed': 2.35, 'deg': 150, 'gust': 4.71}, 'visibility': 10000, 'pop': 0.64, 'rain': {'3h': 0.35}, 'sys': {'pod': 'd'}, 'dt_txt': '2025-09-13 09:00:00'}, {'dt': 1757764800, 'main': {'temp': 290.35, 'feels_like': 289.54, 'temp_min': 290.35, 'temp_max': 290.35, 'pressure': 1014, 'sea_level': 1014, 'grnd_level': 964, 'humidity': 54, 'temp_kf': 0}, 'weather': [{'id': 500, 'main': 'Rain', 'description': 'light rain', 'icon': '10d'}], 'clouds': {'all': 33}, 'wind': {'speed': 5.15, 'deg': 164, 'gust': 5.48}, 'visibility': 10000, 'pop': 0.81, 'rain': {'3h': 0.48}, 'sys': {'pod': 'd'}, 'dt_txt': '2025-09-13 12:00:00'}, {'dt': 1757775600, 'main': {'temp': 289.11, 'feels_like': 288.28, 'temp_min': 289.11, 'temp_max': 289.11, 'pressure': 1015, 'sea_level': 1015, 'grnd_level': 965, 'humidity': 58, 'temp_kf': 0}, 'weather': [{'id': 500, 'main': 'Rain', 'description': 'light rain', 'icon': '10d'}], 'clouds': {'all': 43}, 'wind': {'speed': 2.48, 'deg': 185, 'gust': 3.5}, 'visibility': 10000, 'pop': 0.25, 'rain': {'3h': 0.15}, 'sys': {'pod': 'd'}, 'dt_txt': '2025-09-13 15:00:00'}, {'dt': 1757786400, 'main': {'temp': 287.15, 'feels_like': 286.41, 'temp_min': 287.15, 'temp_max': 287.15, 'pressure': 1015, 'sea_level': 1015, 'grnd_level': 965, 'humidity': 69, 'temp_kf': 0}, 'weather': [{'id': 500, 'main': 'Rain', 'description': 'light rain', 'icon': '10n'}], 'clouds': {'all': 71}, 'wind': {'speed': 0.75, 'deg': 152, 'gust': 0.58}, 'visibility': 10000, 'pop': 0.2, 'rain': {'3h': 0.13}, 'sys': {'pod': 'n'}, 'dt_txt': '2025-09-13 18:00:00'}, {'dt': 1757797200, 'main': {'temp': 286.61, 'feels_like': 285.89, 'temp_min': 286.61, 'temp_max': 286.61, 'pressure': 1016, 'sea_level': 1016, 'grnd_level': 965, 'humidity': 72, 'temp_kf': 0}, 'weather': [{'id': 804, 'main': 'Clouds', 'description': 'overcast clouds', 'icon': '04n'}], 'clouds': {'all': 100}, 'wind': {'speed': 0.81, 'deg': 124, 'gust': 0.79}, 'visibility': 10000, 'pop': 0, 'sys': {'pod': 'n'}, 'dt_txt': '2025-09-13 21:00:00'}, {'dt': 1757808000, 'main': {'temp': 283.72, 'feels_like': 282.95, 'temp_min': 283.72, 'temp_max': 283.72, 'pressure': 1016, 'sea_level': 1016, 'grnd_level': 966, 'humidity': 81, 'temp_kf': 0}, 'weather': [{'id': 803, 'main': 'Clouds', 'description': 'broken clouds', 'icon': '04n'}], 'clouds': {'all': 83}, 'wind': {'speed': 1.09, 'deg': 117, 'gust': 1.06}, 'visibility': 10000, 'pop': 0, 'sys': {'pod': 'n'}, 'dt_txt': '2025-09-14 00:00:00'}, {'dt': 1757818800, 'main': {'temp': 282.58, 'feels_like': 281.59, 'temp_min': 282.58, 'temp_max': 282.58, 'pressure': 1016, 'sea_level': 1016, 'grnd_level': 966, 'humidity': 83, 'temp_kf': 0}, 'weather': [{'id': 800, 'main': 'Clear', 'description': 'clear sky', 'icon': '01n'}], 'clouds': {'all': 8}, 'wind': {'speed': 2.11, 'deg': 108, 'gust': 2.04}, 'visibility': 10000, 'pop': 0, 'sys': {'pod': 'n'}, 'dt_txt': '2025-09-14 03:00:00'}, {'dt': 1757829600, 'main': {'temp': 283.9, 'feels_like': 283.12, 'temp_min': 283.9, 'temp_max': 283.9, 'pressure': 1017, 'sea_level': 1017, 'grnd_level': 966, 'humidity': 80, 'temp_kf': 0}, 'weather': [{'id': 801, 'main': 'Clouds', 'description': 'few clouds', 'icon': '02d'}], 'clouds': {'all': 16}, 'wind': {'speed': 2.25, 'deg': 100, 'gust': 2.53}, 'visibility': 10000, 'pop': 0, 'sys': {'pod': 'd'}, 'dt_txt': '2025-09-14 06:00:00'}, {'dt': 1757840400, 'main': {'temp': 287.78, 'feels_like': 287, 'temp_min': 287.78, 'temp_max': 287.78, 'pressure': 1015, 'sea_level': 1015, 'grnd_level': 965, 'humidity': 65, 'temp_kf': 0}, 'weather': [{'id': 804, 'main': 'Clouds', 'description': 'overcast clouds', 'icon': '04d'}], 'clouds': {'all': 100}, 'wind': {'speed': 2.95, 'deg': 78, 'gust': 3.16}, 'visibility': 10000, 'pop': 0, 'sys': {'pod': 'd'}, 'dt_txt': '2025-09-14 09:00:00'}, {'dt': 1757851200, 'main': {'temp': 289.63, 'feels_like': 288.9, 'temp_min': 289.63, 'temp_max': 289.63, 'pressure': 1014, 'sea_level': 1014, 'grnd_level': 964, 'humidity': 60, 'temp_kf': 0}, 'weather': [{'id': 804, 'main': 'Clouds', 'description': 'overcast clouds', 'icon': '04d'}], 'clouds': {'all': 100}, 'wind': {'speed': 2.8, 'deg': 89, 'gust': 3.32}, 'visibility': 10000, 'pop': 0, 'sys': {'pod': 'd'}, 'dt_txt': '2025-09-14 12:00:00'}, {'dt': 1757862000, 'main': {'temp': 290.29, 'feels_like': 289.57, 'temp_min': 290.29, 'temp_max': 290.29, 'pressure': 1012, 'sea_level': 1012, 'grnd_level': 963, 'humidity': 58, 'temp_kf': 0}, 'weather': [{'id': 804, 'main': 'Clouds', 'description': 'overcast clouds', 'icon': '04d'}], 'clouds': {'all': 88}, 'wind': {'speed': 3.5, 'deg': 81, 'gust': 4.76}, 'visibility': 10000, 'pop': 0, 'sys': {'pod': 'd'}, 'dt_txt': '2025-09-14 15:00:00'}, {'dt': 1757872800, 'main': {'temp': 287.84, 'feels_like': 287.14, 'temp_min': 287.84, 'temp_max': 287.84, 'pressure': 1011, 'sea_level': 1011, 'grnd_level': 961, 'humidity': 68, 'temp_kf': 0}, 'weather': [{'id': 804, 'main': 'Clouds', 'description': 'overcast clouds', 'icon': '04n'}], 'clouds': {'all': 92}, 'wind': {'speed': 3.35, 'deg': 72, 'gust': 3.65}, 'visibility': 10000, 'pop': 0, 'sys': {'pod': 'n'}, 'dt_txt': '2025-09-14 18:00:00'}, {'dt': 1757883600, 'main': {'temp': 287.07, 'feels_like': 286.48, 'temp_min': 287.07, 'temp_max': 287.07, 'pressure': 1008, 'sea_level': 1008, 'grnd_level': 958, 'humidity': 75, 'temp_kf': 0}, 'weather': [{'id': 804, 'main': 'Clouds', 'description': 'overcast clouds', 'icon': '04n'}], 'clouds': {'all': 100}, 'wind': {'speed': 2.98, 'deg': 77, 'gust': 3.36}, 'visibility': 10000, 'pop': 0, 'sys': {'pod': 'n'}, 'dt_txt': '2025-09-14 21:00:00'}, {'dt': 1757894400, 'main': {'temp': 286.17, 'feels_like': 285.77, 'temp_min': 286.17, 'temp_max': 286.17, 'pressure': 1005, 'sea_level': 1005, 'grnd_level': 955, 'humidity': 86, 'temp_kf': 0}, 'weather': [{'id': 500, 'main': 'Rain', 'description': 'light rain', 'icon': '10n'}], 'clouds': {'all': 100}, 'wind': {'speed': 2.48, 'deg': 72, 'gust': 2.64}, 'visibility': 10000, 'pop': 0.22, 'rain': {'3h': 0.27}, 'sys': {'pod': 'n'}, 'dt_txt': '2025-09-15 00:00:00'}, {'dt': 1757905200, 'main': {'temp': 285.51, 'feels_like': 285.1, 'temp_min': 285.51, 'temp_max': 285.51, 'pressure': 1003, 'sea_level': 1003, 'grnd_level': 953, 'humidity': 88, 'temp_kf': 0}, 'weather': [{'id': 500, 'main': 'Rain', 'description': 'light rain', 'icon': '10n'}], 'clouds': {'all': 100}, 'wind': {'speed': 2.45, 'deg': 68, 'gust': 2.64}, 'visibility': 10000, 'pop': 1, 'rain': {'3h': 0.62}, 'sys': {'pod': 'n'}, 'dt_txt': '2025-09-15 03:00:00'}, {'dt': 1757916000, 'main': {'temp': 284.84, 'feels_like': 284.21, 'temp_min': 284.84, 'temp_max': 284.84, 'pressure': 1001, 'sea_level': 1001, 'grnd_level': 951, 'humidity': 82, 'temp_kf': 0}, 'weather': [{'id': 804, 'main': 'Clouds', 'description': 'overcast clouds', 'icon': '04d'}], 'clouds': {'all': 100}, 'wind': {'speed': 3.1, 'deg': 87, 'gust': 4.21}, 'visibility': 10000, 'pop': 0.76, 'sys': {'pod': 'd'}, 'dt_txt': '2025-09-15 06:00:00'}, {'dt': 1757926800, 'main': {'temp': 287.26, 'feels_like': 286.48, 'temp_min': 287.26, 'temp_max': 287.26, 'pressure': 1000, 'sea_level': 1000, 'grnd_level': 951, 'humidity': 67, 'temp_kf': 0}, 'weather': [{'id': 803, 'main': 'Clouds', 'description': 'broken clouds', 'icon': '04d'}], 'clouds': {'all': 74}, 'wind': {'speed': 2.15, 'deg': 104, 'gust': 2.67}, 'visibility': 10000, 'pop': 0, 'sys': {'pod': 'd'}, 'dt_txt': '2025-09-15 09:00:00'}, {'dt': 1757937600, 'main': {'temp': 289.25, 'feels_like': 288.43, 'temp_min': 289.25, 'temp_max': 289.25, 'pressure': 999, 'sea_level': 999, 'grnd_level': 949, 'humidity': 58, 'temp_kf': 0}, 'weather': [{'id': 803, 'main': 'Clouds', 'description': 'broken clouds', 'icon': '04d'}], 'clouds': {'all': 67}, 'wind': {'speed': 2.97, 'deg': 119, 'gust': 3.29}, 'visibility': 10000, 'pop': 0, 'sys': {'pod': 'd'}, 'dt_txt': '2025-09-15 12:00:00'}, {'dt': 1757948400, 'main': {'temp': 288.36, 'feels_like': 287.53, 'temp_min': 288.36, 'temp_max': 288.36, 'pressure': 998, 'sea_level': 998, 'grnd_level': 948, 'humidity': 61, 'temp_kf': 0}, 'weather': [{'id': 803, 'main': 'Clouds', 'description': 'broken clouds', 'icon': '04d'}], 'clouds': {'all': 77}, 'wind': {'speed': 3.29, 'deg': 106, 'gust': 4.52}, 'visibility': 10000, 'pop': 0, 'sys': {'pod': 'd'}, 'dt_txt': '2025-09-15 15:00:00'}, {'dt': 1757959200, 'main': {'temp': 286.71, 'feels_like': 285.98, 'temp_min': 286.71, 'temp_max': 286.71, 'pressure': 997, 'sea_level': 997, 'grnd_level': 947, 'humidity': 71, 'temp_kf': 0}, 'weather': [{'id': 804, 'main': 'Clouds', 'description': 'overcast clouds', 'icon': '04n'}], 'clouds': {'all': 89}, 'wind': {'speed': 3.05, 'deg': 88, 'gust': 3.73}, 'visibility': 10000, 'pop': 0, 'sys': {'pod': 'n'}, 'dt_txt': '2025-09-15 18:00:00'}], 'city': {'id': 3145614, 'name': 'Mo i Rana', 'coord': {'lat': 66.3128, 'lon': 14.1428}, 'country': 'NO', 'population': 17853, 'timezone': 7200, 'sunrise': 1757477229, 'sunset': 1757526841}}\""
      ]
     },
     "execution_count": 21,
     "metadata": {},
     "output_type": "execute_result"
    }
   ],
   "source": [
    "# Inspect JSON file\n",
    "forecast.__str__()"
   ]
  },
  {
   "cell_type": "markdown",
   "metadata": {
    "slideshow": {
     "slide_type": "slide"
    }
   },
   "source": [
    "## Raw JSON\n",
    "- A simple, but not very efficient way of storing JSON data is to treat it as a text and save it directly to the database.  \n",
    "- More efficient, with regard to transfer, is to compress the JSON data to a blob first.\n",
    "    - Compression is automatic."
   ]
  },
  {
   "cell_type": "code",
   "execution_count": 22,
   "metadata": {
    "ExecuteTime": {
     "end_time": "2024-08-17T10:25:35.916537Z",
     "start_time": "2024-08-17T10:25:35.799572Z"
    },
    "slideshow": {
     "slide_type": "fragment"
    },
    "tags": []
   },
   "outputs": [
    {
     "data": {
      "text/plain": [
       "<cassandra.cluster.ResultSet at 0x107e72330>"
      ]
     },
     "execution_count": 22,
     "metadata": {},
     "output_type": "execute_result"
    }
   ],
   "source": [
    "# Create a new table which treats the whole JSON as a blob, using the city id and the first dt as keys\n",
    "session.set_keyspace('my_first_keyspace')\n",
    "session.execute(\"DROP TABLE IF EXISTS my_first_keyspace.forecast_table;\")\n",
    "session.execute(\"CREATE TABLE IF NOT EXISTS forecast_table (city_id int, dt int, forecast blob, PRIMARY KEY(city_id, dt));\")"
   ]
  },
  {
   "cell_type": "markdown",
   "metadata": {
    "slideshow": {
     "slide_type": "slide"
    }
   },
   "source": [
    "### Insert the forecast data into the table as text blob"
   ]
  },
  {
   "cell_type": "code",
   "execution_count": 23,
   "metadata": {
    "ExecuteTime": {
     "end_time": "2024-08-17T10:25:35.935855Z",
     "start_time": "2024-08-17T10:25:35.917175Z"
    },
    "slideshow": {
     "slide_type": "fragment"
    },
    "tags": []
   },
   "outputs": [
    {
     "data": {
      "text/plain": [
       "<cassandra.cluster.ResultSet at 0x11043caa0>"
      ]
     },
     "execution_count": 23,
     "metadata": {},
     "output_type": "execute_result"
    }
   ],
   "source": [
    "session.execute(\"INSERT INTO forecast_table (city_id, dt, forecast) VALUES (%s, %s, textAsBlob(%s));\", (forecast['city']['id'], forecast['list'][0]['dt'], forecast.__str__()))"
   ]
  },
  {
   "cell_type": "code",
   "execution_count": 24,
   "metadata": {
    "ExecuteTime": {
     "end_time": "2024-08-17T10:25:35.946537Z",
     "start_time": "2024-08-17T10:25:35.938642Z"
    },
    "slideshow": {
     "slide_type": "slide"
    },
    "tags": []
   },
   "outputs": [
    {
     "name": "stdout",
     "output_type": "stream",
     "text": [
      "Row(city_id=3145614, dt=1757538000, forecast=b\"{'cod': '200', 'message': 0, 'cnt': 40, 'list': [{'dt': 1757538000, 'main': {'temp': 288.89, 'feels_like': 288.56, 'temp_min': 286.91, 'temp_max': 288.89, 'pressure': 1020, 'sea_level': 1020, 'grnd_level': 970, 'humidity': 78, 'temp_kf': 1.98}, 'weather': [{'id': 801, 'main': 'Clouds', 'description': 'few clouds', 'icon': '02n'}], 'clouds': {'all': 20}, 'wind': {'speed': 3.61, 'deg': 99, 'gust': 3.55}, 'visibility': 10000, 'pop': 0, 'sys': {'pod': 'n'}, 'dt_txt': '2025-09-10 21:00:00'}, {'dt': 1757548800, 'main': {'temp': 287.86, 'feels_like': 287.45, 'temp_min': 285.79, 'temp_max': 287.86, 'pressure': 1020, 'sea_level': 1020, 'grnd_level': 969, 'humidity': 79, 'temp_kf': 2.07}, 'weather': [{'id': 801, 'main': 'Clouds', 'description': 'few clouds', 'icon': '02n'}], 'clouds': {'all': 16}, 'wind': {'speed': 4.02, 'deg': 86, 'gust': 4.08}, 'visibility': 10000, 'pop': 0, 'sys': {'pod': 'n'}, 'dt_txt': '2025-09-11 00:00:00'}, {'dt': 1757559600, 'main': {'temp': 286.64, 'feels_like': 286.21, 'temp_min': 285.52, 'temp_max': 286.64, 'pressure': 1019, 'sea_level': 1019, 'grnd_level': 968, 'humidity': 83, 'temp_kf': 1.12}, 'weather': [{'id': 800, 'main': 'Clear', 'description': 'clear sky', 'icon': '01n'}], 'clouds': {'all': 8}, 'wind': {'speed': 4.33, 'deg': 78, 'gust': 4.91}, 'visibility': 10000, 'pop': 0, 'sys': {'pod': 'n'}, 'dt_txt': '2025-09-11 03:00:00'}, {'dt': 1757570400, 'main': {'temp': 288.41, 'feels_like': 287.92, 'temp_min': 288.41, 'temp_max': 288.41, 'pressure': 1016, 'sea_level': 1016, 'grnd_level': 966, 'humidity': 74, 'temp_kf': 0}, 'weather': [{'id': 802, 'main': 'Clouds', 'description': 'scattered clouds', 'icon': '03d'}], 'clouds': {'all': 40}, 'wind': {'speed': 4.22, 'deg': 80, 'gust': 5.24}, 'visibility': 10000, 'pop': 0, 'sys': {'pod': 'd'}, 'dt_txt': '2025-09-11 06:00:00'}, {'dt': 1757581200, 'main': {'temp': 293.41, 'feels_like': 293.14, 'temp_min': 293.41, 'temp_max': 293.41, 'pressure': 1014, 'sea_level': 1014, 'grnd_level': 965, 'humidity': 63, 'temp_kf': 0}, 'weather': [{'id': 500, 'main': 'Rain', 'description': 'light rain', 'icon': '10d'}], 'clouds': {'all': 79}, 'wind': {'speed': 5.36, 'deg': 97, 'gust': 12.12}, 'visibility': 10000, 'pop': 0.28, 'rain': {'3h': 0.18}, 'sys': {'pod': 'd'}, 'dt_txt': '2025-09-11 09:00:00'}, {'dt': 1757592000, 'main': {'temp': 292.83, 'feels_like': 292.71, 'temp_min': 292.83, 'temp_max': 292.83, 'pressure': 1013, 'sea_level': 1013, 'grnd_level': 963, 'humidity': 71, 'temp_kf': 0}, 'weather': [{'id': 500, 'main': 'Rain', 'description': 'light rain', 'icon': '10d'}], 'clouds': {'all': 90}, 'wind': {'speed': 4.46, 'deg': 87, 'gust': 9.93}, 'visibility': 10000, 'pop': 0.2, 'rain': {'3h': 0.1}, 'sys': {'pod': 'd'}, 'dt_txt': '2025-09-11 12:00:00'}, {'dt': 1757602800, 'main': {'temp': 290.8, 'feels_like': 290.71, 'temp_min': 290.8, 'temp_max': 290.8, 'pressure': 1011, 'sea_level': 1011, 'grnd_level': 962, 'humidity': 80, 'temp_kf': 0}, 'weather': [{'id': 804, 'main': 'Clouds', 'description': 'overcast clouds', 'icon': '04d'}], 'clouds': {'all': 100}, 'wind': {'speed': 3.43, 'deg': 69, 'gust': 4.51}, 'visibility': 10000, 'pop': 0, 'sys': {'pod': 'd'}, 'dt_txt': '2025-09-11 15:00:00'}, {'dt': 1757613600, 'main': {'temp': 290.26, 'feels_like': 290.27, 'temp_min': 290.26, 'temp_max': 290.26, 'pressure': 1011, 'sea_level': 1011, 'grnd_level': 961, 'humidity': 86, 'temp_kf': 0}, 'weather': [{'id': 804, 'main': 'Clouds', 'description': 'overcast clouds', 'icon': '04n'}], 'clouds': {'all': 100}, 'wind': {'speed': 3.41, 'deg': 52, 'gust': 3.6}, 'visibility': 10000, 'pop': 0, 'sys': {'pod': 'n'}, 'dt_txt': '2025-09-11 18:00:00'}, {'dt': 1757624400, 'main': {'temp': 290.01, 'feels_like': 289.97, 'temp_min': 290.01, 'temp_max': 290.01, 'pressure': 1008, 'sea_level': 1008, 'grnd_level': 959, 'humidity': 85, 'temp_kf': 0}, 'weather': [{'id': 804, 'main': 'Clouds', 'description': 'overcast clouds', 'icon': '04n'}], 'clouds': {'all': 100}, 'wind': {'speed': 3.75, 'deg': 71, 'gust': 3.61}, 'visibility': 10000, 'pop': 0, 'sys': {'pod': 'n'}, 'dt_txt': '2025-09-11 21:00:00'}, {'dt': 1757635200, 'main': {'temp': 291.29, 'feels_like': 291.09, 'temp_min': 291.29, 'temp_max': 291.29, 'pressure': 1006, 'sea_level': 1006, 'grnd_level': 957, 'humidity': 74, 'temp_kf': 0}, 'weather': [{'id': 500, 'main': 'Rain', 'description': 'light rain', 'icon': '10n'}], 'clouds': {'all': 100}, 'wind': {'speed': 8.2, 'deg': 103, 'gust': 15.7}, 'visibility': 10000, 'pop': 0.2, 'rain': {'3h': 0.25}, 'sys': {'pod': 'n'}, 'dt_txt': '2025-09-12 00:00:00'}, {'dt': 1757646000, 'main': {'temp': 289.97, 'feels_like': 289.64, 'temp_min': 289.97, 'temp_max': 289.97, 'pressure': 1004, 'sea_level': 1004, 'grnd_level': 955, 'humidity': 74, 'temp_kf': 0}, 'weather': [{'id': 500, 'main': 'Rain', 'description': 'light rain', 'icon': '10n'}], 'clouds': {'all': 100}, 'wind': {'speed': 5.33, 'deg': 98, 'gust': 11.03}, 'visibility': 10000, 'pop': 0.35, 'rain': {'3h': 0.22}, 'sys': {'pod': 'n'}, 'dt_txt': '2025-09-12 03:00:00'}, {'dt': 1757656800, 'main': {'temp': 288.57, 'feels_like': 288.26, 'temp_min': 288.57, 'temp_max': 288.57, 'pressure': 1006, 'sea_level': 1006, 'grnd_level': 956, 'humidity': 80, 'temp_kf': 0}, 'weather': [{'id': 500, 'main': 'Rain', 'description': 'light rain', 'icon': '10d'}], 'clouds': {'all': 100}, 'wind': {'speed': 3.81, 'deg': 83, 'gust': 4.9}, 'visibility': 10000, 'pop': 0.2, 'rain': {'3h': 0.1}, 'sys': {'pod': 'd'}, 'dt_txt': '2025-09-12 06:00:00'}, {'dt': 1757667600, 'main': {'temp': 288.72, 'feels_like': 288.5, 'temp_min': 288.72, 'temp_max': 288.72, 'pressure': 1008, 'sea_level': 1008, 'grnd_level': 958, 'humidity': 83, 'temp_kf': 0}, 'weather': [{'id': 500, 'main': 'Rain', 'description': 'light rain', 'icon': '10d'}], 'clouds': {'all': 100}, 'wind': {'speed': 2.96, 'deg': 77, 'gust': 4.29}, 'visibility': 10000, 'pop': 0.36, 'rain': {'3h': 0.21}, 'sys': {'pod': 'd'}, 'dt_txt': '2025-09-12 09:00:00'}, {'dt': 1757678400, 'main': {'temp': 289.83, 'feels_like': 289.59, 'temp_min': 289.83, 'temp_max': 289.83, 'pressure': 1009, 'sea_level': 1009, 'grnd_level': 959, 'humidity': 78, 'temp_kf': 0}, 'weather': [{'id': 804, 'main': 'Clouds', 'description': 'overcast clouds', 'icon': '04d'}], 'clouds': {'all': 92}, 'wind': {'speed': 4.02, 'deg': 76, 'gust': 4.96}, 'visibility': 10000, 'pop': 0, 'sys': {'pod': 'd'}, 'dt_txt': '2025-09-12 12:00:00'}, {'dt': 1757689200, 'main': {'temp': 290.77, 'feels_like': 290.52, 'temp_min': 290.77, 'temp_max': 290.77, 'pressure': 1009, 'sea_level': 1009, 'grnd_level': 960, 'humidity': 74, 'temp_kf': 0}, 'weather': [{'id': 500, 'main': 'Rain', 'description': 'light rain', 'icon': '10d'}], 'clouds': {'all': 60}, 'wind': {'speed': 3.25, 'deg': 84, 'gust': 3.92}, 'visibility': 10000, 'pop': 0.2, 'rain': {'3h': 0.13}, 'sys': {'pod': 'd'}, 'dt_txt': '2025-09-12 15:00:00'}, {'dt': 1757700000, 'main': {'temp': 288.34, 'feels_like': 288.11, 'temp_min': 288.34, 'temp_max': 288.34, 'pressure': 1010, 'sea_level': 1010, 'grnd_level': 961, 'humidity': 84, 'temp_kf': 0}, 'weather': [{'id': 500, 'main': 'Rain', 'description': 'light rain', 'icon': '10n'}], 'clouds': {'all': 72}, 'wind': {'speed': 2.97, 'deg': 97, 'gust': 2.59}, 'visibility': 10000, 'pop': 1, 'rain': {'3h': 0.66}, 'sys': {'pod': 'n'}, 'dt_txt': '2025-09-12 18:00:00'}, {'dt': 1757710800, 'main': {'temp': 286.15, 'feels_like': 285.72, 'temp_min': 286.15, 'temp_max': 286.15, 'pressure': 1011, 'sea_level': 1011, 'grnd_level': 961, 'humidity': 85, 'temp_kf': 0}, 'weather': [{'id': 500, 'main': 'Rain', 'description': 'light rain', 'icon': '10n'}], 'clouds': {'all': 12}, 'wind': {'speed': 3.09, 'deg': 124, 'gust': 2.86}, 'visibility': 10000, 'pop': 0.31, 'rain': {'3h': 0.24}, 'sys': {'pod': 'n'}, 'dt_txt': '2025-09-12 21:00:00'}, {'dt': 1757721600, 'main': {'temp': 285.35, 'feels_like': 284.85, 'temp_min': 285.35, 'temp_max': 285.35, 'pressure': 1012, 'sea_level': 1012, 'grnd_level': 962, 'humidity': 85, 'temp_kf': 0}, 'weather': [{'id': 801, 'main': 'Clouds', 'description': 'few clouds', 'icon': '02n'}], 'clouds': {'all': 12}, 'wind': {'speed': 3.19, 'deg': 117, 'gust': 3.15}, 'visibility': 10000, 'pop': 0, 'sys': {'pod': 'n'}, 'dt_txt': '2025-09-13 00:00:00'}, {'dt': 1757732400, 'main': {'temp': 286.4, 'feels_like': 286, 'temp_min': 286.4, 'temp_max': 286.4, 'pressure': 1012, 'sea_level': 1012, 'grnd_level': 962, 'humidity': 85, 'temp_kf': 0}, 'weather': [{'id': 803, 'main': 'Clouds', 'description': 'broken clouds', 'icon': '04n'}], 'clouds': {'all': 53}, 'wind': {'speed': 2.96, 'deg': 86, 'gust': 2.68}, 'visibility': 10000, 'pop': 0, 'sys': {'pod': 'n'}, 'dt_txt': '2025-09-13 03:00:00'}, {'dt': 1757743200, 'main': {'temp': 286.9, 'feels_like': 286.5, 'temp_min': 286.9, 'temp_max': 286.9, 'pressure': 1012, 'sea_level': 1012, 'grnd_level': 962, 'humidity': 83, 'temp_kf': 0}, 'weather': [{'id': 500, 'main': 'Rain', 'description': 'light rain', 'icon': '10d'}], 'clouds': {'all': 77}, 'wind': {'speed': 2.58, 'deg': 105, 'gust': 2.54}, 'visibility': 10000, 'pop': 0.2, 'rain': {'3h': 0.1}, 'sys': {'pod': 'd'}, 'dt_txt': '2025-09-13 06:00:00'}, {'dt': 1757754000, 'main': {'temp': 290.24, 'feels_like': 289.47, 'temp_min': 290.24, 'temp_max': 290.24, 'pressure': 1013, 'sea_level': 1013, 'grnd_level': 963, 'humidity': 56, 'temp_kf': 0}, 'weather': [{'id': 500, 'main': 'Rain', 'description': 'light rain', 'icon': '10d'}], 'clouds': {'all': 47}, 'wind': {'speed': 2.35, 'deg': 150, 'gust': 4.71}, 'visibility': 10000, 'pop': 0.64, 'rain': {'3h': 0.35}, 'sys': {'pod': 'd'}, 'dt_txt': '2025-09-13 09:00:00'}, {'dt': 1757764800, 'main': {'temp': 290.35, 'feels_like': 289.54, 'temp_min': 290.35, 'temp_max': 290.35, 'pressure': 1014, 'sea_level': 1014, 'grnd_level': 964, 'humidity': 54, 'temp_kf': 0}, 'weather': [{'id': 500, 'main': 'Rain', 'description': 'light rain', 'icon': '10d'}], 'clouds': {'all': 33}, 'wind': {'speed': 5.15, 'deg': 164, 'gust': 5.48}, 'visibility': 10000, 'pop': 0.81, 'rain': {'3h': 0.48}, 'sys': {'pod': 'd'}, 'dt_txt': '2025-09-13 12:00:00'}, {'dt': 1757775600, 'main': {'temp': 289.11, 'feels_like': 288.28, 'temp_min': 289.11, 'temp_max': 289.11, 'pressure': 1015, 'sea_level': 1015, 'grnd_level': 965, 'humidity': 58, 'temp_kf': 0}, 'weather': [{'id': 500, 'main': 'Rain', 'description': 'light rain', 'icon': '10d'}], 'clouds': {'all': 43}, 'wind': {'speed': 2.48, 'deg': 185, 'gust': 3.5}, 'visibility': 10000, 'pop': 0.25, 'rain': {'3h': 0.15}, 'sys': {'pod': 'd'}, 'dt_txt': '2025-09-13 15:00:00'}, {'dt': 1757786400, 'main': {'temp': 287.15, 'feels_like': 286.41, 'temp_min': 287.15, 'temp_max': 287.15, 'pressure': 1015, 'sea_level': 1015, 'grnd_level': 965, 'humidity': 69, 'temp_kf': 0}, 'weather': [{'id': 500, 'main': 'Rain', 'description': 'light rain', 'icon': '10n'}], 'clouds': {'all': 71}, 'wind': {'speed': 0.75, 'deg': 152, 'gust': 0.58}, 'visibility': 10000, 'pop': 0.2, 'rain': {'3h': 0.13}, 'sys': {'pod': 'n'}, 'dt_txt': '2025-09-13 18:00:00'}, {'dt': 1757797200, 'main': {'temp': 286.61, 'feels_like': 285.89, 'temp_min': 286.61, 'temp_max': 286.61, 'pressure': 1016, 'sea_level': 1016, 'grnd_level': 965, 'humidity': 72, 'temp_kf': 0}, 'weather': [{'id': 804, 'main': 'Clouds', 'description': 'overcast clouds', 'icon': '04n'}], 'clouds': {'all': 100}, 'wind': {'speed': 0.81, 'deg': 124, 'gust': 0.79}, 'visibility': 10000, 'pop': 0, 'sys': {'pod': 'n'}, 'dt_txt': '2025-09-13 21:00:00'}, {'dt': 1757808000, 'main': {'temp': 283.72, 'feels_like': 282.95, 'temp_min': 283.72, 'temp_max': 283.72, 'pressure': 1016, 'sea_level': 1016, 'grnd_level': 966, 'humidity': 81, 'temp_kf': 0}, 'weather': [{'id': 803, 'main': 'Clouds', 'description': 'broken clouds', 'icon': '04n'}], 'clouds': {'all': 83}, 'wind': {'speed': 1.09, 'deg': 117, 'gust': 1.06}, 'visibility': 10000, 'pop': 0, 'sys': {'pod': 'n'}, 'dt_txt': '2025-09-14 00:00:00'}, {'dt': 1757818800, 'main': {'temp': 282.58, 'feels_like': 281.59, 'temp_min': 282.58, 'temp_max': 282.58, 'pressure': 1016, 'sea_level': 1016, 'grnd_level': 966, 'humidity': 83, 'temp_kf': 0}, 'weather': [{'id': 800, 'main': 'Clear', 'description': 'clear sky', 'icon': '01n'}], 'clouds': {'all': 8}, 'wind': {'speed': 2.11, 'deg': 108, 'gust': 2.04}, 'visibility': 10000, 'pop': 0, 'sys': {'pod': 'n'}, 'dt_txt': '2025-09-14 03:00:00'}, {'dt': 1757829600, 'main': {'temp': 283.9, 'feels_like': 283.12, 'temp_min': 283.9, 'temp_max': 283.9, 'pressure': 1017, 'sea_level': 1017, 'grnd_level': 966, 'humidity': 80, 'temp_kf': 0}, 'weather': [{'id': 801, 'main': 'Clouds', 'description': 'few clouds', 'icon': '02d'}], 'clouds': {'all': 16}, 'wind': {'speed': 2.25, 'deg': 100, 'gust': 2.53}, 'visibility': 10000, 'pop': 0, 'sys': {'pod': 'd'}, 'dt_txt': '2025-09-14 06:00:00'}, {'dt': 1757840400, 'main': {'temp': 287.78, 'feels_like': 287, 'temp_min': 287.78, 'temp_max': 287.78, 'pressure': 1015, 'sea_level': 1015, 'grnd_level': 965, 'humidity': 65, 'temp_kf': 0}, 'weather': [{'id': 804, 'main': 'Clouds', 'description': 'overcast clouds', 'icon': '04d'}], 'clouds': {'all': 100}, 'wind': {'speed': 2.95, 'deg': 78, 'gust': 3.16}, 'visibility': 10000, 'pop': 0, 'sys': {'pod': 'd'}, 'dt_txt': '2025-09-14 09:00:00'}, {'dt': 1757851200, 'main': {'temp': 289.63, 'feels_like': 288.9, 'temp_min': 289.63, 'temp_max': 289.63, 'pressure': 1014, 'sea_level': 1014, 'grnd_level': 964, 'humidity': 60, 'temp_kf': 0}, 'weather': [{'id': 804, 'main': 'Clouds', 'description': 'overcast clouds', 'icon': '04d'}], 'clouds': {'all': 100}, 'wind': {'speed': 2.8, 'deg': 89, 'gust': 3.32}, 'visibility': 10000, 'pop': 0, 'sys': {'pod': 'd'}, 'dt_txt': '2025-09-14 12:00:00'}, {'dt': 1757862000, 'main': {'temp': 290.29, 'feels_like': 289.57, 'temp_min': 290.29, 'temp_max': 290.29, 'pressure': 1012, 'sea_level': 1012, 'grnd_level': 963, 'humidity': 58, 'temp_kf': 0}, 'weather': [{'id': 804, 'main': 'Clouds', 'description': 'overcast clouds', 'icon': '04d'}], 'clouds': {'all': 88}, 'wind': {'speed': 3.5, 'deg': 81, 'gust': 4.76}, 'visibility': 10000, 'pop': 0, 'sys': {'pod': 'd'}, 'dt_txt': '2025-09-14 15:00:00'}, {'dt': 1757872800, 'main': {'temp': 287.84, 'feels_like': 287.14, 'temp_min': 287.84, 'temp_max': 287.84, 'pressure': 1011, 'sea_level': 1011, 'grnd_level': 961, 'humidity': 68, 'temp_kf': 0}, 'weather': [{'id': 804, 'main': 'Clouds', 'description': 'overcast clouds', 'icon': '04n'}], 'clouds': {'all': 92}, 'wind': {'speed': 3.35, 'deg': 72, 'gust': 3.65}, 'visibility': 10000, 'pop': 0, 'sys': {'pod': 'n'}, 'dt_txt': '2025-09-14 18:00:00'}, {'dt': 1757883600, 'main': {'temp': 287.07, 'feels_like': 286.48, 'temp_min': 287.07, 'temp_max': 287.07, 'pressure': 1008, 'sea_level': 1008, 'grnd_level': 958, 'humidity': 75, 'temp_kf': 0}, 'weather': [{'id': 804, 'main': 'Clouds', 'description': 'overcast clouds', 'icon': '04n'}], 'clouds': {'all': 100}, 'wind': {'speed': 2.98, 'deg': 77, 'gust': 3.36}, 'visibility': 10000, 'pop': 0, 'sys': {'pod': 'n'}, 'dt_txt': '2025-09-14 21:00:00'}, {'dt': 1757894400, 'main': {'temp': 286.17, 'feels_like': 285.77, 'temp_min': 286.17, 'temp_max': 286.17, 'pressure': 1005, 'sea_level': 1005, 'grnd_level': 955, 'humidity': 86, 'temp_kf': 0}, 'weather': [{'id': 500, 'main': 'Rain', 'description': 'light rain', 'icon': '10n'}], 'clouds': {'all': 100}, 'wind': {'speed': 2.48, 'deg': 72, 'gust': 2.64}, 'visibility': 10000, 'pop': 0.22, 'rain': {'3h': 0.27}, 'sys': {'pod': 'n'}, 'dt_txt': '2025-09-15 00:00:00'}, {'dt': 1757905200, 'main': {'temp': 285.51, 'feels_like': 285.1, 'temp_min': 285.51, 'temp_max': 285.51, 'pressure': 1003, 'sea_level': 1003, 'grnd_level': 953, 'humidity': 88, 'temp_kf': 0}, 'weather': [{'id': 500, 'main': 'Rain', 'description': 'light rain', 'icon': '10n'}], 'clouds': {'all': 100}, 'wind': {'speed': 2.45, 'deg': 68, 'gust': 2.64}, 'visibility': 10000, 'pop': 1, 'rain': {'3h': 0.62}, 'sys': {'pod': 'n'}, 'dt_txt': '2025-09-15 03:00:00'}, {'dt': 1757916000, 'main': {'temp': 284.84, 'feels_like': 284.21, 'temp_min': 284.84, 'temp_max': 284.84, 'pressure': 1001, 'sea_level': 1001, 'grnd_level': 951, 'humidity': 82, 'temp_kf': 0}, 'weather': [{'id': 804, 'main': 'Clouds', 'description': 'overcast clouds', 'icon': '04d'}], 'clouds': {'all': 100}, 'wind': {'speed': 3.1, 'deg': 87, 'gust': 4.21}, 'visibility': 10000, 'pop': 0.76, 'sys': {'pod': 'd'}, 'dt_txt': '2025-09-15 06:00:00'}, {'dt': 1757926800, 'main': {'temp': 287.26, 'feels_like': 286.48, 'temp_min': 287.26, 'temp_max': 287.26, 'pressure': 1000, 'sea_level': 1000, 'grnd_level': 951, 'humidity': 67, 'temp_kf': 0}, 'weather': [{'id': 803, 'main': 'Clouds', 'description': 'broken clouds', 'icon': '04d'}], 'clouds': {'all': 74}, 'wind': {'speed': 2.15, 'deg': 104, 'gust': 2.67}, 'visibility': 10000, 'pop': 0, 'sys': {'pod': 'd'}, 'dt_txt': '2025-09-15 09:00:00'}, {'dt': 1757937600, 'main': {'temp': 289.25, 'feels_like': 288.43, 'temp_min': 289.25, 'temp_max': 289.25, 'pressure': 999, 'sea_level': 999, 'grnd_level': 949, 'humidity': 58, 'temp_kf': 0}, 'weather': [{'id': 803, 'main': 'Clouds', 'description': 'broken clouds', 'icon': '04d'}], 'clouds': {'all': 67}, 'wind': {'speed': 2.97, 'deg': 119, 'gust': 3.29}, 'visibility': 10000, 'pop': 0, 'sys': {'pod': 'd'}, 'dt_txt': '2025-09-15 12:00:00'}, {'dt': 1757948400, 'main': {'temp': 288.36, 'feels_like': 287.53, 'temp_min': 288.36, 'temp_max': 288.36, 'pressure': 998, 'sea_level': 998, 'grnd_level': 948, 'humidity': 61, 'temp_kf': 0}, 'weather': [{'id': 803, 'main': 'Clouds', 'description': 'broken clouds', 'icon': '04d'}], 'clouds': {'all': 77}, 'wind': {'speed': 3.29, 'deg': 106, 'gust': 4.52}, 'visibility': 10000, 'pop': 0, 'sys': {'pod': 'd'}, 'dt_txt': '2025-09-15 15:00:00'}, {'dt': 1757959200, 'main': {'temp': 286.71, 'feels_like': 285.98, 'temp_min': 286.71, 'temp_max': 286.71, 'pressure': 997, 'sea_level': 997, 'grnd_level': 947, 'humidity': 71, 'temp_kf': 0}, 'weather': [{'id': 804, 'main': 'Clouds', 'description': 'overcast clouds', 'icon': '04n'}], 'clouds': {'all': 89}, 'wind': {'speed': 3.05, 'deg': 88, 'gust': 3.73}, 'visibility': 10000, 'pop': 0, 'sys': {'pod': 'n'}, 'dt_txt': '2025-09-15 18:00:00'}], 'city': {'id': 3145614, 'name': 'Mo i Rana', 'coord': {'lat': 66.3128, 'lon': 14.1428}, 'country': 'NO', 'population': 17853, 'timezone': 7200, 'sunrise': 1757477229, 'sunset': 1757526841}}\")\n"
     ]
    }
   ],
   "source": [
    "# Query the data\n",
    "forecast_rows = session.execute(\"SELECT * FROM forecast_table;\")\n",
    "print(forecast_rows.one()) # <- only one row"
   ]
  },
  {
   "cell_type": "markdown",
   "metadata": {
    "slideshow": {
     "slide_type": "slide"
    }
   },
   "source": [
    "```{seealso} \n",
    ":class: tip\n",
    "\n",
    "## Resources\n",
    "- [Cassandra webpage](https://cassandra.apache.org/)\n",
    "- [Cassandra Docker file](https://hub.docker.com/_/cassandra)\n",
    "- [UUID functions](https://docs.datastax.com/en/cql-oss/3.3/cql/cql_reference/timeuuid_functions_r.html)\n",
    "- [YouTube: Cassandra in 100 seconds](https://youtu.be/ziq7FUKpCS8?si=WQUdkHFvaBmT0DBo) (2m:26s)\n",
    "- [YouTube: How to use Apache Cassandra in Python](https://youtu.be/qMauZqJH3ZM?si=yKGZ-5cld2BK396Y) (14m:50s)\n",
    "- [YouTube: Cassandra Database Crash Course](https://youtu.be/KZsVSfQVU4I?si=FBCi8qOfCirfVmZk) (19m:47s)\n",
    "```"
   ]
  }
 ],
 "metadata": {
  "celltoolbar": "Slideshow",
  "kernelspec": {
   "display_name": "ind320_25",
   "language": "python",
   "name": "python3"
  },
  "language_info": {
   "codemirror_mode": {
    "name": "ipython",
    "version": 3
   },
   "file_extension": ".py",
   "mimetype": "text/x-python",
   "name": "python",
   "nbconvert_exporter": "python",
   "pygments_lexer": "ipython3",
   "version": "3.12.10"
  }
 },
 "nbformat": 4,
 "nbformat_minor": 4
}