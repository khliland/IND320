{
 "cells": [
  {
   "cell_type": "markdown",
   "metadata": {
    "slideshow": {
     "slide_type": "slide"
    }
   },
   "source": [
    "# Cassandra\n",
    "- A production grade NoSQL database.\n",
    "- Can be distributed across servers, nodes, etc.\n",
    "- Replication of database is supported for high degree of redundancy and speed.\n",
    "- Uses CQL, a subset of SQL for querying.\n",
    "- Works seamlesly together with Spark and its corresponding distributed structure.\n",
    "- Installation of Cassandra is explained in the [Installation chapter](../../7_Appendix/Installation.ipynb)."
   ]
  },
  {
   "cell_type": "markdown",
   "metadata": {
    "slideshow": {
     "slide_type": "slide"
    }
   },
   "source": [
    "## Spinning up a local Cassandra instance\n",
    "In a terminal, first time:  \n",
    "```docker run --name my_cassandra -p 9042:9042 cassandra:latest```  \n",
    "... and later:  \n",
    "```docker start my_cassandra```  \n",
    "  \n",
    ".. or in Docker Desktop:\n",
    "- Run the cassandra docker image with optional settings, opening 9042 port and setting a name.\n",
    "- Later, simply run the container with the name you chose."
   ]
  },
  {
   "cell_type": "markdown",
   "metadata": {
    "slideshow": {
     "slide_type": "slide"
    }
   },
   "source": [
    "<img src=\"https://github.com/khliland/IND320/blob/main/D2Dbook/images/Docker_images.png?raw=TRUE\" width=\"600px\">  "
   ]
  },
  {
   "cell_type": "markdown",
   "metadata": {
    "slideshow": {
     "slide_type": "slide"
    }
   },
   "source": [
    "\n",
    "<img src=\"https://github.com/khliland/IND320/blob/main/D2Dbook/images/Docker_containers.png?raw=TRUE\" width=\"800px\">  "
   ]
  },
  {
   "cell_type": "markdown",
   "metadata": {
    "slideshow": {
     "slide_type": "slide"
    }
   },
   "source": [
    "### Connect to the Cassandra cluster from Python."
   ]
  },
  {
   "cell_type": "code",
   "execution_count": 1,
   "metadata": {
    "ExecuteTime": {
     "end_time": "2024-08-17T10:25:34.787878Z",
     "start_time": "2024-08-17T10:25:34.389367Z"
    },
    "execution": {
     "iopub.execute_input": "2024-08-17T11:11:08.638602Z",
     "iopub.status.busy": "2024-08-17T11:11:08.638284Z",
     "iopub.status.idle": "2024-08-17T11:11:08.852135Z",
     "shell.execute_reply": "2024-08-17T11:11:08.851463Z"
    },
    "slideshow": {
     "slide_type": "-"
    }
   },
   "outputs": [],
   "source": [
    "# Connecting to Cassandra\n",
    "from cassandra.cluster import Cluster\n",
    "cluster = Cluster(['localhost'], port=9042)\n",
    "session = cluster.connect()"
   ]
  },
  {
   "cell_type": "markdown",
   "metadata": {
    "slideshow": {
     "slide_type": "slide"
    }
   },
   "source": [
    "### Keyspace\n",
    "- In Cassandra database tables are stored in keyspaces (basically a distributed database).\n",
    "- These have parameters controlling their distribution on nodes/servers and redundancy.\n",
    "- We will use the simplest form locally."
   ]
  },
  {
   "cell_type": "code",
   "execution_count": 2,
   "metadata": {
    "ExecuteTime": {
     "end_time": "2024-08-17T10:25:34.798504Z",
     "start_time": "2024-08-17T10:25:34.789786Z"
    },
    "execution": {
     "iopub.execute_input": "2024-08-17T11:11:08.857654Z",
     "iopub.status.busy": "2024-08-17T11:11:08.857351Z",
     "iopub.status.idle": "2024-08-17T11:11:08.885591Z",
     "shell.execute_reply": "2024-08-17T11:11:08.870416Z"
    },
    "slideshow": {
     "slide_type": "fragment"
    }
   },
   "outputs": [
    {
     "data": {
      "text/plain": [
       "<cassandra.cluster.ResultSet at 0x1060fc710>"
      ]
     },
     "execution_count": 2,
     "metadata": {},
     "output_type": "execute_result"
    }
   ],
   "source": [
    "# Set up new keyspace (first time only)\n",
    "#                                              name of keyspace                        replication strategy           replication factor\n",
    "session.execute(\"CREATE KEYSPACE IF NOT EXISTS my_first_keyspace WITH REPLICATION = { 'class' : 'SimpleStrategy', 'replication_factor' : 1 };\")"
   ]
  },
  {
   "cell_type": "markdown",
   "metadata": {
    "slideshow": {
     "slide_type": "slide"
    }
   },
   "source": [
    "### Create a table\n",
    "- IF NOT EXISTS makes sure we do not overwrite existing tables"
   ]
  },
  {
   "cell_type": "code",
   "execution_count": 3,
   "metadata": {
    "ExecuteTime": {
     "end_time": "2024-08-17T10:25:35.347394Z",
     "start_time": "2024-08-17T10:25:34.800008Z"
    },
    "execution": {
     "iopub.execute_input": "2024-08-17T11:11:08.911341Z",
     "iopub.status.busy": "2024-08-17T11:11:08.911070Z",
     "iopub.status.idle": "2024-08-17T11:11:09.268195Z",
     "shell.execute_reply": "2024-08-17T11:11:09.267726Z"
    },
    "slideshow": {
     "slide_type": "fragment"
    }
   },
   "outputs": [
    {
     "data": {
      "text/plain": [
       "<cassandra.cluster.ResultSet at 0x10a6d4d40>"
      ]
     },
     "execution_count": 3,
     "metadata": {},
     "output_type": "execute_result"
    }
   ],
   "source": [
    "# Create a new table (first time only)\n",
    "session.set_keyspace('my_first_keyspace')\n",
    "session.execute(\"DROP TABLE IF EXISTS my_first_keyspace.my_first_table;\") # Starting from scratch every time\n",
    "session.execute(\"CREATE TABLE IF NOT EXISTS my_first_table (ind int PRIMARY KEY, company text, model text);\")"
   ]
  },
  {
   "cell_type": "markdown",
   "metadata": {
    "slideshow": {
     "slide_type": "slide"
    }
   },
   "source": [
    "### Inserting and reading data"
   ]
  },
  {
   "cell_type": "code",
   "execution_count": 4,
   "metadata": {
    "ExecuteTime": {
     "end_time": "2024-08-17T10:25:35.366363Z",
     "start_time": "2024-08-17T10:25:35.350453Z"
    },
    "execution": {
     "iopub.execute_input": "2024-08-17T11:11:09.271663Z",
     "iopub.status.busy": "2024-08-17T11:11:09.271398Z",
     "iopub.status.idle": "2024-08-17T11:11:09.282842Z",
     "shell.execute_reply": "2024-08-17T11:11:09.282365Z"
    },
    "slideshow": {
     "slide_type": "-"
    }
   },
   "outputs": [
    {
     "data": {
      "text/plain": [
       "<cassandra.cluster.ResultSet at 0x10a6d51c0>"
      ]
     },
     "execution_count": 4,
     "metadata": {},
     "output_type": "execute_result"
    }
   ],
   "source": [
    "# Insert some data (ind is the primary key, must be unique)\n",
    "session.execute(\"INSERT INTO my_first_table (ind, company, model) VALUES (1, 'Tesla', 'Model S');\")\n",
    "session.execute(\"INSERT INTO my_first_table (ind, company, model) VALUES (2, 'Tesla', 'Model 3');\")\n",
    "session.execute(\"INSERT INTO my_first_table (ind, company, model) VALUES (3, 'Polestar', '3');\")"
   ]
  },
  {
   "cell_type": "markdown",
   "metadata": {
    "slideshow": {
     "slide_type": "slide"
    }
   },
   "source": [
    "### Asyncronous writing\n",
    "- If your application is very data intensive, waiting for a response is not productive.\n",
    "- Writing asyncronously sends the data but does not pause for reply."
   ]
  },
  {
   "cell_type": "code",
   "execution_count": 5,
   "metadata": {
    "ExecuteTime": {
     "end_time": "2024-08-17T10:25:35.371390Z",
     "start_time": "2024-08-17T10:25:35.367159Z"
    },
    "execution": {
     "iopub.execute_input": "2024-08-17T11:11:09.284596Z",
     "iopub.status.busy": "2024-08-17T11:11:09.284399Z",
     "iopub.status.idle": "2024-08-17T11:11:09.287020Z",
     "shell.execute_reply": "2024-08-17T11:11:09.286662Z"
    },
    "slideshow": {
     "slide_type": "-"
    }
   },
   "outputs": [
    {
     "data": {
      "text/plain": [
       "<ResponseFuture: query='<SimpleStatement query=\"INSERT INTO my_first_table (ind, company, model) VALUES (4, 'Volkswagen', 'ID.4');\", consistency=Not Set>' request_id=24 result=(no result yet) exception=None coordinator_host=None>"
      ]
     },
     "execution_count": 5,
     "metadata": {},
     "output_type": "execute_result"
    }
   ],
   "source": [
    "session.execute_async(\"INSERT INTO my_first_table (ind, company, model) VALUES (4, 'Volkswagen', 'ID.4');\")"
   ]
  },
  {
   "cell_type": "code",
   "execution_count": 6,
   "metadata": {
    "ExecuteTime": {
     "end_time": "2024-08-17T10:25:35.384736Z",
     "start_time": "2024-08-17T10:25:35.372551Z"
    },
    "execution": {
     "iopub.execute_input": "2024-08-17T11:11:09.288398Z",
     "iopub.status.busy": "2024-08-17T11:11:09.288225Z",
     "iopub.status.idle": "2024-08-17T11:11:09.292272Z",
     "shell.execute_reply": "2024-08-17T11:11:09.292080Z"
    },
    "slideshow": {
     "slide_type": "slide"
    }
   },
   "outputs": [
    {
     "name": "stdout",
     "output_type": "stream",
     "text": [
      "Row(ind=1, company='Tesla', model='Model S')\n",
      "Row(ind=2, company='Tesla', model='Model 3')\n",
      "Row(ind=4, company='Volkswagen', model='ID.4')\n",
      "Row(ind=3, company='Polestar', model='3')\n"
     ]
    }
   ],
   "source": [
    "# Query the data\n",
    "rows = session.execute(\"SELECT * FROM my_first_table;\")\n",
    "for i in rows:\n",
    "    print(i)"
   ]
  },
  {
   "cell_type": "code",
   "execution_count": 7,
   "metadata": {
    "ExecuteTime": {
     "end_time": "2024-08-17T10:25:35.402371Z",
     "start_time": "2024-08-17T10:25:35.386980Z"
    },
    "execution": {
     "iopub.execute_input": "2024-08-17T11:11:09.293405Z",
     "iopub.status.busy": "2024-08-17T11:11:09.293329Z",
     "iopub.status.idle": "2024-08-17T11:11:09.301239Z",
     "shell.execute_reply": "2024-08-17T11:11:09.300994Z"
    },
    "slideshow": {
     "slide_type": "slide"
    },
    "tags": [
     "raises-exception"
    ]
   },
   "outputs": [
    {
     "name": "stdout",
     "output_type": "stream",
     "text": [
      "Row(ind=1, company='Tesla', model='Model S')\n",
      "Row(ind=2, company='Tesla', model='Model 3')\n"
     ]
    }
   ],
   "source": [
    "# More specific query\n",
    "prepared_statement = session.prepare(\"SELECT * FROM my_first_table WHERE company=? ALLOW FILTERING;\")\n",
    "teslas = session.execute(prepared_statement, ['Tesla'])\n",
    "for i in teslas:\n",
    "    print(i)"
   ]
  },
  {
   "cell_type": "markdown",
   "metadata": {
    "slideshow": {
     "slide_type": "slide"
    }
   },
   "source": [
    "## Cassandra filtering\n",
    "Cassandra is inherently a distributed production database. Selecting as above may require downloading all data from a node, then filtering based on the WHERE part (only PRIMARY KEYs are centrally known). Solutions:  \n",
    "- If the table is small or most of the data will satisfy the query, add ```ALLOW FILTERING``` at the end of the query (not recommended if not known). \n",
    "- Or make sure the WHERE clause points to one of the keys (see below)."
   ]
  },
  {
   "cell_type": "code",
   "execution_count": 8,
   "metadata": {
    "ExecuteTime": {
     "end_time": "2024-08-17T10:25:35.613711Z",
     "start_time": "2024-08-17T10:25:35.403622Z"
    },
    "execution": {
     "iopub.execute_input": "2024-08-17T11:11:09.302558Z",
     "iopub.status.busy": "2024-08-17T11:11:09.302476Z",
     "iopub.status.idle": "2024-08-17T11:11:09.681406Z",
     "shell.execute_reply": "2024-08-17T11:11:09.680793Z"
    },
    "slideshow": {
     "slide_type": "slide"
    }
   },
   "outputs": [
    {
     "data": {
      "text/plain": [
       "<cassandra.cluster.ResultSet at 0x10a6d6570>"
      ]
     },
     "execution_count": 8,
     "metadata": {},
     "output_type": "execute_result"
    }
   ],
   "source": [
    "# Create a new table (observe keys)\n",
    "session.execute(\"DROP TABLE IF EXISTS my_first_keyspace.car_table;\")\n",
    "session.execute(\"CREATE TABLE IF NOT EXISTS car_table (company text, model text, PRIMARY KEY(company, model));\")"
   ]
  },
  {
   "cell_type": "code",
   "execution_count": 9,
   "metadata": {
    "ExecuteTime": {
     "end_time": "2024-08-17T10:25:35.628950Z",
     "start_time": "2024-08-17T10:25:35.615126Z"
    },
    "execution": {
     "iopub.execute_input": "2024-08-17T11:11:09.684494Z",
     "iopub.status.busy": "2024-08-17T11:11:09.684140Z",
     "iopub.status.idle": "2024-08-17T11:11:09.699387Z",
     "shell.execute_reply": "2024-08-17T11:11:09.699059Z"
    },
    "slideshow": {
     "slide_type": "fragment"
    }
   },
   "outputs": [
    {
     "data": {
      "text/plain": [
       "<cassandra.cluster.ResultSet at 0x10a6e1a00>"
      ]
     },
     "execution_count": 9,
     "metadata": {},
     "output_type": "execute_result"
    }
   ],
   "source": [
    "# Insert some data (combination of company and model must be unique)\n",
    "session.execute(\"INSERT INTO car_table (company, model) VALUES ('Tesla', 'Model S');\")\n",
    "session.execute(\"INSERT INTO car_table (company, model) VALUES ('Tesla', 'Model 3');\")\n",
    "session.execute(\"INSERT INTO car_table (company, model) VALUES ('Polestar', '3');\")\n",
    "session.execute(\"INSERT INTO car_table (company, model) VALUES ('Volkswagen', 'ID.4');\")"
   ]
  },
  {
   "cell_type": "code",
   "execution_count": 10,
   "metadata": {
    "ExecuteTime": {
     "end_time": "2024-08-17T10:25:35.639765Z",
     "start_time": "2024-08-17T10:25:35.630657Z"
    },
    "execution": {
     "iopub.execute_input": "2024-08-17T11:11:09.700798Z",
     "iopub.status.busy": "2024-08-17T11:11:09.700701Z",
     "iopub.status.idle": "2024-08-17T11:11:09.709531Z",
     "shell.execute_reply": "2024-08-17T11:11:09.709308Z"
    },
    "slideshow": {
     "slide_type": "slide"
    }
   },
   "outputs": [
    {
     "name": "stdout",
     "output_type": "stream",
     "text": [
      "Row(company='Tesla', model='Model 3')\n",
      "Row(company='Tesla', model='Model S')\n"
     ]
    }
   ],
   "source": [
    "# More specific query now works\n",
    "prepared_statement = session.prepare(\"SELECT * FROM car_table WHERE company=?;\")\n",
    "teslas = session.execute(prepared_statement, ['Tesla'])\n",
    "for i in teslas:\n",
    "    print(i)"
   ]
  },
  {
   "cell_type": "markdown",
   "metadata": {
    "slideshow": {
     "slide_type": "slide"
    }
   },
   "source": [
    "### Partitions\n",
    "- Cassandra databases are usually replicated over different nodes.\n",
    "- Data is stored in partitions (subsets) which have local copys.\n",
    "- The primary key, e.g., PRIMARY KEY(company, model), is used in partitioning.\n",
    "    - The first part, e.g., company, is most important.\n",
    "    - All cars from a company will be located together, aiming for quicker queries."
   ]
  },
  {
   "cell_type": "markdown",
   "metadata": {
    "slideshow": {
     "slide_type": "slide"
    }
   },
   "source": [
    "### Unique IDs \n",
    "- In MySQL one could use the attribute AUTO_INCREMENT on integer IDs to automatically make a new unique index when inserting data.\n",
    "- This would cause unreasonable overhead in a distributed database.\n",
    "- [UUID](https://en.wikipedia.org/wiki/Universally_unique_identifier)s are used instead.\n",
    "    - Universally Unique Identifiers are typically 128-bit random bit sequences with extremely low probability of duplication.\n",
    "    - Cassandra uses a [timeuuid](https://docs.datastax.com/en/cql-oss/3.3/cql/cql_reference/timeuuid_functions_r.html) type to combine a timestamp and uuid in one."
   ]
  },
  {
   "cell_type": "code",
   "execution_count": 11,
   "metadata": {
    "ExecuteTime": {
     "end_time": "2024-08-17T10:25:35.766003Z",
     "start_time": "2024-08-17T10:25:35.640600Z"
    },
    "execution": {
     "iopub.execute_input": "2024-08-17T11:11:09.711042Z",
     "iopub.status.busy": "2024-08-17T11:11:09.710948Z",
     "iopub.status.idle": "2024-08-17T11:11:09.918355Z",
     "shell.execute_reply": "2024-08-17T11:11:09.917815Z"
    },
    "slideshow": {
     "slide_type": "fragment"
    }
   },
   "outputs": [
    {
     "data": {
      "text/plain": [
       "<cassandra.cluster.ResultSet at 0x105fabaa0>"
      ]
     },
     "execution_count": 11,
     "metadata": {},
     "output_type": "execute_result"
    }
   ],
   "source": [
    "# Create a new table (first time only)\n",
    "session.set_keyspace('my_first_keyspace')\n",
    "session.execute(\"DROP TABLE IF EXISTS my_first_keyspace.table_with_uuid;\")\n",
    "session.execute(\"CREATE TABLE IF NOT EXISTS table_with_uuid (id timeuuid PRIMARY KEY, company text, model text, price float);\")"
   ]
  },
  {
   "cell_type": "code",
   "execution_count": 12,
   "metadata": {
    "ExecuteTime": {
     "end_time": "2024-08-17T10:25:35.784876Z",
     "start_time": "2024-08-17T10:25:35.766619Z"
    },
    "execution": {
     "iopub.execute_input": "2024-08-17T11:11:09.923981Z",
     "iopub.status.busy": "2024-08-17T11:11:09.923698Z",
     "iopub.status.idle": "2024-08-17T11:11:09.934475Z",
     "shell.execute_reply": "2024-08-17T11:11:09.934197Z"
    },
    "slideshow": {
     "slide_type": "slide"
    }
   },
   "outputs": [
    {
     "data": {
      "text/plain": [
       "<cassandra.cluster.ResultSet at 0x10a6e1670>"
      ]
     },
     "execution_count": 12,
     "metadata": {},
     "output_type": "execute_result"
    }
   ],
   "source": [
    "session.execute(\"INSERT INTO table_with_uuid (id, company, model, price) VALUES (now(), 'Tesla', 'Model S', 20000.0);\")\n",
    "session.execute(\"INSERT INTO table_with_uuid (id, company, model, price) VALUES (now(), 'Tesla', 'Model S', 21000.0);\")\n",
    "session.execute(\"INSERT INTO table_with_uuid (id, company, model, price) VALUES (now(), 'Oldsmobile', 'Model 6C', 135000.0);\")"
   ]
  },
  {
   "cell_type": "code",
   "execution_count": 13,
   "metadata": {
    "ExecuteTime": {
     "end_time": "2024-08-17T10:25:35.792934Z",
     "start_time": "2024-08-17T10:25:35.785467Z"
    },
    "execution": {
     "iopub.execute_input": "2024-08-17T11:11:09.935912Z",
     "iopub.status.busy": "2024-08-17T11:11:09.935798Z",
     "iopub.status.idle": "2024-08-17T11:11:09.942858Z",
     "shell.execute_reply": "2024-08-17T11:11:09.942654Z"
    },
    "slideshow": {
     "slide_type": "slide"
    }
   },
   "outputs": [
    {
     "name": "stdout",
     "output_type": "stream",
     "text": [
      "Row(id=UUID('9685b5e0-71d6-11ef-a503-ff2385814e90'), company='Tesla', model='Model S', price=20000.0)\n",
      "Datetime: 2024-09-13 13:46:33.406000\n",
      "Row(id=UUID('96865220-71d6-11ef-a503-ff2385814e90'), company='Oldsmobile', model='Model 6C', price=135000.0)\n",
      "Datetime: 2024-09-13 13:46:33.410000\n",
      "Row(id=UUID('96860400-71d6-11ef-a503-ff2385814e90'), company='Tesla', model='Model S', price=21000.0)\n",
      "Datetime: 2024-09-13 13:46:33.408000\n"
     ]
    }
   ],
   "source": [
    "from cassandra.util import datetime_from_uuid1\n",
    "\n",
    "# Query the data\n",
    "rows = session.execute(\"SELECT * FROM table_with_uuid;\")\n",
    "for i in rows:\n",
    "    print(i)\n",
    "    # Extract the timestamp from Cassandra's timeuuid\n",
    "    print(\"Datetime:\", datetime_from_uuid1(i.id))"
   ]
  },
  {
   "cell_type": "markdown",
   "metadata": {
    "slideshow": {
     "slide_type": "slide"
    }
   },
   "source": [
    "## JSON in Cassandra\n",
    "### Read previously saved JSON file forecast.json to memory"
   ]
  },
  {
   "cell_type": "code",
   "execution_count": 14,
   "metadata": {
    "ExecuteTime": {
     "end_time": "2024-08-17T10:25:35.796049Z",
     "start_time": "2024-08-17T10:25:35.793437Z"
    },
    "execution": {
     "iopub.execute_input": "2024-08-17T11:11:09.944080Z",
     "iopub.status.busy": "2024-08-17T11:11:09.943989Z",
     "iopub.status.idle": "2024-08-17T11:11:09.946114Z",
     "shell.execute_reply": "2024-08-17T11:11:09.945914Z"
    },
    "slideshow": {
     "slide_type": "-"
    }
   },
   "outputs": [],
   "source": [
    "import json\n",
    "with open('../3_APIs/downloads/forecast.json', 'r') as f:\n",
    "    forecast = json.load(f)"
   ]
  },
  {
   "cell_type": "code",
   "execution_count": 15,
   "metadata": {
    "ExecuteTime": {
     "end_time": "2024-08-17T10:25:35.799114Z",
     "start_time": "2024-08-17T10:25:35.796532Z"
    },
    "execution": {
     "iopub.execute_input": "2024-08-17T11:11:09.947281Z",
     "iopub.status.busy": "2024-08-17T11:11:09.947207Z",
     "iopub.status.idle": "2024-08-17T11:11:09.949379Z",
     "shell.execute_reply": "2024-08-17T11:11:09.949167Z"
    },
    "slideshow": {
     "slide_type": "slide"
    }
   },
   "outputs": [
    {
     "data": {
      "text/plain": [
       "\"{'cod': '200', 'message': 0, 'cnt': 40, 'list': [{'dt': 1725872400, 'main': {'temp': 289.87, 'feels_like': 290.16, 'temp_min': 288.91, 'temp_max': 289.87, 'pressure': 999, 'sea_level': 999, 'grnd_level': 944, 'humidity': 98, 'temp_kf': 0.96}, 'weather': [{'id': 500, 'main': 'Rain', 'description': 'light rain', 'icon': '10d'}], 'clouds': {'all': 100}, 'wind': {'speed': 1.4, 'deg': 98, 'gust': 2.14}, 'visibility': 83, 'pop': 1, 'rain': {'3h': 1.59}, 'sys': {'pod': 'd'}, 'dt_txt': '2024-09-09 09:00:00'}, {'dt': 1725883200, 'main': {'temp': 289.51, 'feels_like': 289.79, 'temp_min': 288.8, 'temp_max': 289.51, 'pressure': 998, 'sea_level': 998, 'grnd_level': 941, 'humidity': 99, 'temp_kf': 0.71}, 'weather': [{'id': 501, 'main': 'Rain', 'description': 'moderate rain', 'icon': '10d'}], 'clouds': {'all': 100}, 'wind': {'speed': 1.29, 'deg': 111, 'gust': 2.21}, 'visibility': 88, 'pop': 1, 'rain': {'3h': 6.7}, 'sys': {'pod': 'd'}, 'dt_txt': '2024-09-09 12:00:00'}, {'dt': 1725894000, 'main': {'temp': 289.28, 'feels_like': 289.53, 'temp_min': 288.98, 'temp_max': 289.28, 'pressure': 996, 'sea_level': 996, 'grnd_level': 940, 'humidity': 99, 'temp_kf': 0.3}, 'weather': [{'id': 501, 'main': 'Rain', 'description': 'moderate rain', 'icon': '10d'}], 'clouds': {'all': 100}, 'wind': {'speed': 0.71, 'deg': 182, 'gust': 0.92}, 'visibility': 632, 'pop': 1, 'rain': {'3h': 10.59}, 'sys': {'pod': 'd'}, 'dt_txt': '2024-09-09 15:00:00'}, {'dt': 1725904800, 'main': {'temp': 288.31, 'feels_like': 288.44, 'temp_min': 288.31, 'temp_max': 288.31, 'pressure': 994, 'sea_level': 994, 'grnd_level': 939, 'humidity': 98, 'temp_kf': 0}, 'weather': [{'id': 501, 'main': 'Rain', 'description': 'moderate rain', 'icon': '10d'}], 'clouds': {'all': 100}, 'wind': {'speed': 1.67, 'deg': 301, 'gust': 1.7}, 'visibility': 10000, 'pop': 1, 'rain': {'3h': 4.11}, 'sys': {'pod': 'd'}, 'dt_txt': '2024-09-09 18:00:00'}, {'dt': 1725915600, 'main': {'temp': 287.5, 'feels_like': 287.5, 'temp_min': 287.5, 'temp_max': 287.5, 'pressure': 992, 'sea_level': 992, 'grnd_level': 937, 'humidity': 96, 'temp_kf': 0}, 'weather': [{'id': 500, 'main': 'Rain', 'description': 'light rain', 'icon': '10n'}], 'clouds': {'all': 100}, 'wind': {'speed': 1.12, 'deg': 304, 'gust': 1.04}, 'visibility': 10000, 'pop': 0.75, 'rain': {'3h': 0.81}, 'sys': {'pod': 'n'}, 'dt_txt': '2024-09-09 21:00:00'}, {'dt': 1725926400, 'main': {'temp': 286.9, 'feels_like': 286.78, 'temp_min': 286.9, 'temp_max': 286.9, 'pressure': 990, 'sea_level': 990, 'grnd_level': 935, 'humidity': 94, 'temp_kf': 0}, 'weather': [{'id': 500, 'main': 'Rain', 'description': 'light rain', 'icon': '10n'}], 'clouds': {'all': 100}, 'wind': {'speed': 1.14, 'deg': 314, 'gust': 1.36}, 'visibility': 10000, 'pop': 0.73, 'rain': {'3h': 0.71}, 'sys': {'pod': 'n'}, 'dt_txt': '2024-09-10 00:00:00'}, {'dt': 1725937200, 'main': {'temp': 286.67, 'feels_like': 286.53, 'temp_min': 286.67, 'temp_max': 286.67, 'pressure': 988, 'sea_level': 988, 'grnd_level': 933, 'humidity': 94, 'temp_kf': 0}, 'weather': [{'id': 804, 'main': 'Clouds', 'description': 'overcast clouds', 'icon': '04n'}], 'clouds': {'all': 100}, 'wind': {'speed': 1.1, 'deg': 278, 'gust': 0.87}, 'visibility': 10000, 'pop': 0.25, 'sys': {'pod': 'n'}, 'dt_txt': '2024-09-10 03:00:00'}, {'dt': 1725948000, 'main': {'temp': 286.31, 'feels_like': 286.11, 'temp_min': 286.31, 'temp_max': 286.31, 'pressure': 987, 'sea_level': 987, 'grnd_level': 932, 'humidity': 93, 'temp_kf': 0}, 'weather': [{'id': 804, 'main': 'Clouds', 'description': 'overcast clouds', 'icon': '04d'}], 'clouds': {'all': 100}, 'wind': {'speed': 1.65, 'deg': 258, 'gust': 2.04}, 'visibility': 10000, 'pop': 0.15, 'sys': {'pod': 'd'}, 'dt_txt': '2024-09-10 06:00:00'}, {'dt': 1725958800, 'main': {'temp': 287.9, 'feels_like': 287.26, 'temp_min': 287.9, 'temp_max': 287.9, 'pressure': 987, 'sea_level': 987, 'grnd_level': 933, 'humidity': 70, 'temp_kf': 0}, 'weather': [{'id': 803, 'main': 'Clouds', 'description': 'broken clouds', 'icon': '04d'}], 'clouds': {'all': 75}, 'wind': {'speed': 1.56, 'deg': 262, 'gust': 2.42}, 'visibility': 10000, 'pop': 0.06, 'sys': {'pod': 'd'}, 'dt_txt': '2024-09-10 09:00:00'}, {'dt': 1725969600, 'main': {'temp': 290.47, 'feels_like': 289.46, 'temp_min': 290.47, 'temp_max': 290.47, 'pressure': 988, 'sea_level': 988, 'grnd_level': 933, 'humidity': 46, 'temp_kf': 0}, 'weather': [{'id': 803, 'main': 'Clouds', 'description': 'broken clouds', 'icon': '04d'}], 'clouds': {'all': 54}, 'wind': {'speed': 2.76, 'deg': 200, 'gust': 4.58}, 'visibility': 10000, 'pop': 0, 'sys': {'pod': 'd'}, 'dt_txt': '2024-09-10 12:00:00'}, {'dt': 1725980400, 'main': {'temp': 287.01, 'feels_like': 286.38, 'temp_min': 287.01, 'temp_max': 287.01, 'pressure': 988, 'sea_level': 988, 'grnd_level': 933, 'humidity': 74, 'temp_kf': 0}, 'weather': [{'id': 803, 'main': 'Clouds', 'description': 'broken clouds', 'icon': '04d'}], 'clouds': {'all': 62}, 'wind': {'speed': 4.28, 'deg': 164, 'gust': 9.73}, 'visibility': 10000, 'pop': 0, 'sys': {'pod': 'd'}, 'dt_txt': '2024-09-10 15:00:00'}, {'dt': 1725991200, 'main': {'temp': 284.61, 'feels_like': 284.32, 'temp_min': 284.61, 'temp_max': 284.61, 'pressure': 987, 'sea_level': 987, 'grnd_level': 931, 'humidity': 96, 'temp_kf': 0}, 'weather': [{'id': 501, 'main': 'Rain', 'description': 'moderate rain', 'icon': '10n'}], 'clouds': {'all': 81}, 'wind': {'speed': 2.99, 'deg': 146, 'gust': 7.57}, 'visibility': 10000, 'pop': 1, 'rain': {'3h': 3.53}, 'sys': {'pod': 'n'}, 'dt_txt': '2024-09-10 18:00:00'}, {'dt': 1726002000, 'main': {'temp': 280.8, 'feels_like': 279.24, 'temp_min': 280.8, 'temp_max': 280.8, 'pressure': 989, 'sea_level': 989, 'grnd_level': 933, 'humidity': 98, 'temp_kf': 0}, 'weather': [{'id': 803, 'main': 'Clouds', 'description': 'broken clouds', 'icon': '04n'}], 'clouds': {'all': 79}, 'wind': {'speed': 2.44, 'deg': 176, 'gust': 6.41}, 'visibility': 10000, 'pop': 0.01, 'sys': {'pod': 'n'}, 'dt_txt': '2024-09-10 21:00:00'}, {'dt': 1726012800, 'main': {'temp': 278.69, 'feels_like': 276.98, 'temp_min': 278.69, 'temp_max': 278.69, 'pressure': 991, 'sea_level': 991, 'grnd_level': 934, 'humidity': 98, 'temp_kf': 0}, 'weather': [{'id': 803, 'main': 'Clouds', 'description': 'broken clouds', 'icon': '04n'}], 'clouds': {'all': 61}, 'wind': {'speed': 2.17, 'deg': 148, 'gust': 7.42}, 'visibility': 10000, 'pop': 0, 'sys': {'pod': 'n'}, 'dt_txt': '2024-09-11 00:00:00'}, {'dt': 1726023600, 'main': {'temp': 279.94, 'feels_like': 277.81, 'temp_min': 279.94, 'temp_max': 279.94, 'pressure': 990, 'sea_level': 990, 'grnd_level': 934, 'humidity': 94, 'temp_kf': 0}, 'weather': [{'id': 803, 'main': 'Clouds', 'description': 'broken clouds', 'icon': '04n'}], 'clouds': {'all': 71}, 'wind': {'speed': 3, 'deg': 141, 'gust': 9.75}, 'visibility': 10000, 'pop': 0, 'sys': {'pod': 'n'}, 'dt_txt': '2024-09-11 03:00:00'}, {'dt': 1726034400, 'main': {'temp': 280.86, 'feels_like': 278.35, 'temp_min': 280.86, 'temp_max': 280.86, 'pressure': 990, 'sea_level': 990, 'grnd_level': 934, 'humidity': 91, 'temp_kf': 0}, 'weather': [{'id': 500, 'main': 'Rain', 'description': 'light rain', 'icon': '10d'}], 'clouds': {'all': 86}, 'wind': {'speed': 3.97, 'deg': 157, 'gust': 10.75}, 'visibility': 10000, 'pop': 0.2, 'rain': {'3h': 0.11}, 'sys': {'pod': 'd'}, 'dt_txt': '2024-09-11 06:00:00'}, {'dt': 1726045200, 'main': {'temp': 282.37, 'feels_like': 279.68, 'temp_min': 282.37, 'temp_max': 282.37, 'pressure': 991, 'sea_level': 991, 'grnd_level': 935, 'humidity': 85, 'temp_kf': 0}, 'weather': [{'id': 500, 'main': 'Rain', 'description': 'light rain', 'icon': '10d'}], 'clouds': {'all': 100}, 'wind': {'speed': 5.22, 'deg': 166, 'gust': 12.15}, 'visibility': 10000, 'pop': 0.2, 'rain': {'3h': 0.14}, 'sys': {'pod': 'd'}, 'dt_txt': '2024-09-11 09:00:00'}, {'dt': 1726056000, 'main': {'temp': 283.94, 'feels_like': 283.14, 'temp_min': 283.94, 'temp_max': 283.94, 'pressure': 992, 'sea_level': 992, 'grnd_level': 936, 'humidity': 79, 'temp_kf': 0}, 'weather': [{'id': 500, 'main': 'Rain', 'description': 'light rain', 'icon': '10d'}], 'clouds': {'all': 97}, 'wind': {'speed': 5.85, 'deg': 183, 'gust': 10.98}, 'visibility': 10000, 'pop': 0.79, 'rain': {'3h': 0.53}, 'sys': {'pod': 'd'}, 'dt_txt': '2024-09-11 12:00:00'}, {'dt': 1726066800, 'main': {'temp': 284.88, 'feels_like': 284.15, 'temp_min': 284.88, 'temp_max': 284.88, 'pressure': 992, 'sea_level': 992, 'grnd_level': 936, 'humidity': 78, 'temp_kf': 0}, 'weather': [{'id': 500, 'main': 'Rain', 'description': 'light rain', 'icon': '10d'}], 'clouds': {'all': 69}, 'wind': {'speed': 4.64, 'deg': 178, 'gust': 7.34}, 'visibility': 10000, 'pop': 1, 'rain': {'3h': 0.74}, 'sys': {'pod': 'd'}, 'dt_txt': '2024-09-11 15:00:00'}, {'dt': 1726077600, 'main': {'temp': 280.73, 'feels_like': 279.44, 'temp_min': 280.73, 'temp_max': 280.73, 'pressure': 994, 'sea_level': 994, 'grnd_level': 938, 'humidity': 93, 'temp_kf': 0}, 'weather': [{'id': 500, 'main': 'Rain', 'description': 'light rain', 'icon': '10n'}], 'clouds': {'all': 83}, 'wind': {'speed': 2.09, 'deg': 149, 'gust': 5.11}, 'visibility': 10000, 'pop': 0.97, 'rain': {'3h': 0.21}, 'sys': {'pod': 'n'}, 'dt_txt': '2024-09-11 18:00:00'}, {'dt': 1726088400, 'main': {'temp': 280.41, 'feels_like': 280.41, 'temp_min': 280.41, 'temp_max': 280.41, 'pressure': 996, 'sea_level': 996, 'grnd_level': 939, 'humidity': 97, 'temp_kf': 0}, 'weather': [{'id': 804, 'main': 'Clouds', 'description': 'overcast clouds', 'icon': '04n'}], 'clouds': {'all': 100}, 'wind': {'speed': 0.77, 'deg': 201, 'gust': 1.13}, 'visibility': 10000, 'pop': 0.01, 'sys': {'pod': 'n'}, 'dt_txt': '2024-09-11 21:00:00'}, {'dt': 1726099200, 'main': {'temp': 280.8, 'feels_like': 280.8, 'temp_min': 280.8, 'temp_max': 280.8, 'pressure': 997, 'sea_level': 997, 'grnd_level': 940, 'humidity': 95, 'temp_kf': 0}, 'weather': [{'id': 804, 'main': 'Clouds', 'description': 'overcast clouds', 'icon': '04n'}], 'clouds': {'all': 100}, 'wind': {'speed': 0.96, 'deg': 202, 'gust': 0.89}, 'visibility': 10000, 'pop': 0, 'sys': {'pod': 'n'}, 'dt_txt': '2024-09-12 00:00:00'}, {'dt': 1726110000, 'main': {'temp': 279.17, 'feels_like': 279.17, 'temp_min': 279.17, 'temp_max': 279.17, 'pressure': 999, 'sea_level': 999, 'grnd_level': 941, 'humidity': 97, 'temp_kf': 0}, 'weather': [{'id': 803, 'main': 'Clouds', 'description': 'broken clouds', 'icon': '04n'}], 'clouds': {'all': 71}, 'wind': {'speed': 0.69, 'deg': 197, 'gust': 1.14}, 'visibility': 10000, 'pop': 0, 'sys': {'pod': 'n'}, 'dt_txt': '2024-09-12 03:00:00'}, {'dt': 1726120800, 'main': {'temp': 280.15, 'feels_like': 280.15, 'temp_min': 280.15, 'temp_max': 280.15, 'pressure': 1001, 'sea_level': 1001, 'grnd_level': 944, 'humidity': 95, 'temp_kf': 0}, 'weather': [{'id': 803, 'main': 'Clouds', 'description': 'broken clouds', 'icon': '04d'}], 'clouds': {'all': 83}, 'wind': {'speed': 1.04, 'deg': 163, 'gust': 1.62}, 'visibility': 10000, 'pop': 0, 'sys': {'pod': 'd'}, 'dt_txt': '2024-09-12 06:00:00'}, {'dt': 1726131600, 'main': {'temp': 283.32, 'feels_like': 282.43, 'temp_min': 283.32, 'temp_max': 283.32, 'pressure': 1003, 'sea_level': 1003, 'grnd_level': 946, 'humidity': 78, 'temp_kf': 0}, 'weather': [{'id': 804, 'main': 'Clouds', 'description': 'overcast clouds', 'icon': '04d'}], 'clouds': {'all': 100}, 'wind': {'speed': 0.92, 'deg': 167, 'gust': 0.97}, 'visibility': 10000, 'pop': 0, 'sys': {'pod': 'd'}, 'dt_txt': '2024-09-12 09:00:00'}, {'dt': 1726142400, 'main': {'temp': 285.69, 'feels_like': 284.62, 'temp_min': 285.69, 'temp_max': 285.69, 'pressure': 1004, 'sea_level': 1004, 'grnd_level': 948, 'humidity': 62, 'temp_kf': 0}, 'weather': [{'id': 500, 'main': 'Rain', 'description': 'light rain', 'icon': '10d'}], 'clouds': {'all': 87}, 'wind': {'speed': 1.59, 'deg': 199, 'gust': 2.73}, 'visibility': 10000, 'pop': 0.2, 'rain': {'3h': 0.22}, 'sys': {'pod': 'd'}, 'dt_txt': '2024-09-12 12:00:00'}, {'dt': 1726153200, 'main': {'temp': 286.52, 'feels_like': 285.24, 'temp_min': 286.52, 'temp_max': 286.52, 'pressure': 1006, 'sea_level': 1006, 'grnd_level': 949, 'humidity': 51, 'temp_kf': 0}, 'weather': [{'id': 500, 'main': 'Rain', 'description': 'light rain', 'icon': '10d'}], 'clouds': {'all': 100}, 'wind': {'speed': 1.86, 'deg': 240, 'gust': 4.34}, 'visibility': 10000, 'pop': 0.22, 'rain': {'3h': 0.29}, 'sys': {'pod': 'd'}, 'dt_txt': '2024-09-12 15:00:00'}, {'dt': 1726164000, 'main': {'temp': 281.07, 'feels_like': 279.97, 'temp_min': 281.07, 'temp_max': 281.07, 'pressure': 1008, 'sea_level': 1008, 'grnd_level': 951, 'humidity': 70, 'temp_kf': 0}, 'weather': [{'id': 804, 'main': 'Clouds', 'description': 'overcast clouds', 'icon': '04n'}], 'clouds': {'all': 87}, 'wind': {'speed': 1.94, 'deg': 302, 'gust': 1.46}, 'visibility': 10000, 'pop': 0, 'sys': {'pod': 'n'}, 'dt_txt': '2024-09-12 18:00:00'}, {'dt': 1726174800, 'main': {'temp': 278.92, 'feels_like': 277.25, 'temp_min': 278.92, 'temp_max': 278.92, 'pressure': 1011, 'sea_level': 1011, 'grnd_level': 953, 'humidity': 76, 'temp_kf': 0}, 'weather': [{'id': 800, 'main': 'Clear', 'description': 'clear sky', 'icon': '01n'}], 'clouds': {'all': 8}, 'wind': {'speed': 2.17, 'deg': 304, 'gust': 1.74}, 'visibility': 10000, 'pop': 0, 'sys': {'pod': 'n'}, 'dt_txt': '2024-09-12 21:00:00'}, {'dt': 1726185600, 'main': {'temp': 277.81, 'feels_like': 276.13, 'temp_min': 277.81, 'temp_max': 277.81, 'pressure': 1013, 'sea_level': 1013, 'grnd_level': 955, 'humidity': 79, 'temp_kf': 0}, 'weather': [{'id': 801, 'main': 'Clouds', 'description': 'few clouds', 'icon': '02n'}], 'clouds': {'all': 22}, 'wind': {'speed': 1.99, 'deg': 294, 'gust': 1.96}, 'visibility': 10000, 'pop': 0, 'sys': {'pod': 'n'}, 'dt_txt': '2024-09-13 00:00:00'}, {'dt': 1726196400, 'main': {'temp': 277.13, 'feels_like': 275.63, 'temp_min': 277.13, 'temp_max': 277.13, 'pressure': 1014, 'sea_level': 1014, 'grnd_level': 956, 'humidity': 83, 'temp_kf': 0}, 'weather': [{'id': 800, 'main': 'Clear', 'description': 'clear sky', 'icon': '01n'}], 'clouds': {'all': 3}, 'wind': {'speed': 1.74, 'deg': 295, 'gust': 1.46}, 'visibility': 10000, 'pop': 0, 'sys': {'pod': 'n'}, 'dt_txt': '2024-09-13 03:00:00'}, {'dt': 1726207200, 'main': {'temp': 278.57, 'feels_like': 277.59, 'temp_min': 278.57, 'temp_max': 278.57, 'pressure': 1016, 'sea_level': 1016, 'grnd_level': 957, 'humidity': 76, 'temp_kf': 0}, 'weather': [{'id': 800, 'main': 'Clear', 'description': 'clear sky', 'icon': '01d'}], 'clouds': {'all': 1}, 'wind': {'speed': 1.49, 'deg': 301, 'gust': 1.7}, 'visibility': 10000, 'pop': 0, 'sys': {'pod': 'd'}, 'dt_txt': '2024-09-13 06:00:00'}, {'dt': 1726218000, 'main': {'temp': 285.24, 'feels_like': 283.81, 'temp_min': 285.24, 'temp_max': 285.24, 'pressure': 1016, 'sea_level': 1016, 'grnd_level': 958, 'humidity': 50, 'temp_kf': 0}, 'weather': [{'id': 800, 'main': 'Clear', 'description': 'clear sky', 'icon': '01d'}], 'clouds': {'all': 0}, 'wind': {'speed': 0.5, 'deg': 277, 'gust': 1.75}, 'visibility': 10000, 'pop': 0, 'sys': {'pod': 'd'}, 'dt_txt': '2024-09-13 09:00:00'}, {'dt': 1726228800, 'main': {'temp': 287.84, 'feels_like': 286.38, 'temp_min': 287.84, 'temp_max': 287.84, 'pressure': 1016, 'sea_level': 1016, 'grnd_level': 959, 'humidity': 39, 'temp_kf': 0}, 'weather': [{'id': 800, 'main': 'Clear', 'description': 'clear sky', 'icon': '01d'}], 'clouds': {'all': 3}, 'wind': {'speed': 1.07, 'deg': 165, 'gust': 1.91}, 'visibility': 10000, 'pop': 0, 'sys': {'pod': 'd'}, 'dt_txt': '2024-09-13 12:00:00'}, {'dt': 1726239600, 'main': {'temp': 287.57, 'feels_like': 286.11, 'temp_min': 287.57, 'temp_max': 287.57, 'pressure': 1016, 'sea_level': 1016, 'grnd_level': 959, 'humidity': 40, 'temp_kf': 0}, 'weather': [{'id': 802, 'main': 'Clouds', 'description': 'scattered clouds', 'icon': '03d'}], 'clouds': {'all': 38}, 'wind': {'speed': 1.44, 'deg': 147, 'gust': 1.7}, 'visibility': 10000, 'pop': 0, 'sys': {'pod': 'd'}, 'dt_txt': '2024-09-13 15:00:00'}, {'dt': 1726250400, 'main': {'temp': 281.9, 'feels_like': 280.91, 'temp_min': 281.9, 'temp_max': 281.9, 'pressure': 1018, 'sea_level': 1018, 'grnd_level': 960, 'humidity': 66, 'temp_kf': 0}, 'weather': [{'id': 803, 'main': 'Clouds', 'description': 'broken clouds', 'icon': '04n'}], 'clouds': {'all': 62}, 'wind': {'speed': 1.97, 'deg': 310, 'gust': 1.97}, 'visibility': 10000, 'pop': 0, 'sys': {'pod': 'n'}, 'dt_txt': '2024-09-13 18:00:00'}, {'dt': 1726261200, 'main': {'temp': 278.78, 'feels_like': 276.91, 'temp_min': 278.78, 'temp_max': 278.78, 'pressure': 1021, 'sea_level': 1021, 'grnd_level': 962, 'humidity': 75, 'temp_kf': 0}, 'weather': [{'id': 802, 'main': 'Clouds', 'description': 'scattered clouds', 'icon': '03n'}], 'clouds': {'all': 26}, 'wind': {'speed': 2.37, 'deg': 308, 'gust': 2.4}, 'visibility': 10000, 'pop': 0, 'sys': {'pod': 'n'}, 'dt_txt': '2024-09-13 21:00:00'}, {'dt': 1726272000, 'main': {'temp': 277.79, 'feels_like': 275.88, 'temp_min': 277.79, 'temp_max': 277.79, 'pressure': 1022, 'sea_level': 1022, 'grnd_level': 963, 'humidity': 79, 'temp_kf': 0}, 'weather': [{'id': 801, 'main': 'Clouds', 'description': 'few clouds', 'icon': '02n'}], 'clouds': {'all': 16}, 'wind': {'speed': 2.22, 'deg': 301, 'gust': 2.15}, 'visibility': 10000, 'pop': 0, 'sys': {'pod': 'n'}, 'dt_txt': '2024-09-14 00:00:00'}, {'dt': 1726282800, 'main': {'temp': 276.85, 'feels_like': 274.85, 'temp_min': 276.85, 'temp_max': 276.85, 'pressure': 1023, 'sea_level': 1023, 'grnd_level': 964, 'humidity': 80, 'temp_kf': 0}, 'weather': [{'id': 800, 'main': 'Clear', 'description': 'clear sky', 'icon': '01n'}], 'clouds': {'all': 6}, 'wind': {'speed': 2.15, 'deg': 303, 'gust': 2.4}, 'visibility': 10000, 'pop': 0, 'sys': {'pod': 'n'}, 'dt_txt': '2024-09-14 03:00:00'}, {'dt': 1726293600, 'main': {'temp': 278.08, 'feels_like': 276.72, 'temp_min': 278.08, 'temp_max': 278.08, 'pressure': 1024, 'sea_level': 1024, 'grnd_level': 965, 'humidity': 75, 'temp_kf': 0}, 'weather': [{'id': 800, 'main': 'Clear', 'description': 'clear sky', 'icon': '01d'}], 'clouds': {'all': 7}, 'wind': {'speed': 1.74, 'deg': 304, 'gust': 2.74}, 'visibility': 10000, 'pop': 0, 'sys': {'pod': 'd'}, 'dt_txt': '2024-09-14 06:00:00'}], 'city': {'id': 3144113, 'name': 'Noresund', 'coord': {'lat': 60.1803, 'lon': 9.6231}, 'country': 'NO', 'population': 1000, 'timezone': 7200, 'sunrise': 1725856550, 'sunset': 1725904921}}\""
      ]
     },
     "execution_count": 15,
     "metadata": {},
     "output_type": "execute_result"
    }
   ],
   "source": [
    "# Inspect JSON file\n",
    "forecast.__str__()"
   ]
  },
  {
   "cell_type": "markdown",
   "metadata": {
    "slideshow": {
     "slide_type": "slide"
    }
   },
   "source": [
    "## Raw JSON\n",
    "- A simple, but not very efficient way of storing JSON data is to treat it as a text and save it directly to the database.  \n",
    "- More efficient, with regard to transfer, is to compress the JSON data to a blob first.\n",
    "    - Compression is automatic."
   ]
  },
  {
   "cell_type": "code",
   "execution_count": 16,
   "metadata": {
    "ExecuteTime": {
     "end_time": "2024-08-17T10:25:35.916537Z",
     "start_time": "2024-08-17T10:25:35.799572Z"
    },
    "execution": {
     "iopub.execute_input": "2024-08-17T11:11:09.950984Z",
     "iopub.status.busy": "2024-08-17T11:11:09.950913Z",
     "iopub.status.idle": "2024-08-17T11:11:10.145496Z",
     "shell.execute_reply": "2024-08-17T11:11:10.144832Z"
    },
    "slideshow": {
     "slide_type": "-"
    }
   },
   "outputs": [
    {
     "data": {
      "text/plain": [
       "<cassandra.cluster.ResultSet at 0x105fa93d0>"
      ]
     },
     "execution_count": 16,
     "metadata": {},
     "output_type": "execute_result"
    }
   ],
   "source": [
    "# Create a new table which treats the whole JSON as a blob, using the city id and the first dt as keys\n",
    "session.set_keyspace('my_first_keyspace')\n",
    "session.execute(\"DROP TABLE IF EXISTS my_first_keyspace.forecast_table;\")\n",
    "session.execute(\"CREATE TABLE IF NOT EXISTS forecast_table (city_id int, dt int, forecast blob, PRIMARY KEY(city_id, dt));\")"
   ]
  },
  {
   "cell_type": "markdown",
   "metadata": {
    "slideshow": {
     "slide_type": "slide"
    }
   },
   "source": [
    "### Insert the forecast data into the table as text blob"
   ]
  },
  {
   "cell_type": "code",
   "execution_count": 17,
   "metadata": {
    "ExecuteTime": {
     "end_time": "2024-08-17T10:25:35.935855Z",
     "start_time": "2024-08-17T10:25:35.917175Z"
    },
    "execution": {
     "iopub.execute_input": "2024-08-17T11:11:10.148703Z",
     "iopub.status.busy": "2024-08-17T11:11:10.148303Z",
     "iopub.status.idle": "2024-08-17T11:11:10.155783Z",
     "shell.execute_reply": "2024-08-17T11:11:10.155541Z"
    },
    "slideshow": {
     "slide_type": "-"
    }
   },
   "outputs": [
    {
     "data": {
      "text/plain": [
       "<cassandra.cluster.ResultSet at 0x10608eea0>"
      ]
     },
     "execution_count": 17,
     "metadata": {},
     "output_type": "execute_result"
    }
   ],
   "source": [
    "session.execute(\"INSERT INTO forecast_table (city_id, dt, forecast) VALUES (%s, %s, textAsBlob(%s));\", (forecast['city']['id'], forecast['list'][0]['dt'], forecast.__str__()))"
   ]
  },
  {
   "cell_type": "code",
   "execution_count": 18,
   "metadata": {
    "ExecuteTime": {
     "end_time": "2024-08-17T10:25:35.946537Z",
     "start_time": "2024-08-17T10:25:35.938642Z"
    },
    "execution": {
     "iopub.execute_input": "2024-08-17T11:11:10.159331Z",
     "iopub.status.busy": "2024-08-17T11:11:10.159199Z",
     "iopub.status.idle": "2024-08-17T11:11:10.169987Z",
     "shell.execute_reply": "2024-08-17T11:11:10.169745Z"
    },
    "slideshow": {
     "slide_type": "slide"
    }
   },
   "outputs": [
    {
     "name": "stdout",
     "output_type": "stream",
     "text": [
      "Row(city_id=3144113, dt=1725872400, forecast=b\"{'cod': '200', 'message': 0, 'cnt': 40, 'list': [{'dt': 1725872400, 'main': {'temp': 289.87, 'feels_like': 290.16, 'temp_min': 288.91, 'temp_max': 289.87, 'pressure': 999, 'sea_level': 999, 'grnd_level': 944, 'humidity': 98, 'temp_kf': 0.96}, 'weather': [{'id': 500, 'main': 'Rain', 'description': 'light rain', 'icon': '10d'}], 'clouds': {'all': 100}, 'wind': {'speed': 1.4, 'deg': 98, 'gust': 2.14}, 'visibility': 83, 'pop': 1, 'rain': {'3h': 1.59}, 'sys': {'pod': 'd'}, 'dt_txt': '2024-09-09 09:00:00'}, {'dt': 1725883200, 'main': {'temp': 289.51, 'feels_like': 289.79, 'temp_min': 288.8, 'temp_max': 289.51, 'pressure': 998, 'sea_level': 998, 'grnd_level': 941, 'humidity': 99, 'temp_kf': 0.71}, 'weather': [{'id': 501, 'main': 'Rain', 'description': 'moderate rain', 'icon': '10d'}], 'clouds': {'all': 100}, 'wind': {'speed': 1.29, 'deg': 111, 'gust': 2.21}, 'visibility': 88, 'pop': 1, 'rain': {'3h': 6.7}, 'sys': {'pod': 'd'}, 'dt_txt': '2024-09-09 12:00:00'}, {'dt': 1725894000, 'main': {'temp': 289.28, 'feels_like': 289.53, 'temp_min': 288.98, 'temp_max': 289.28, 'pressure': 996, 'sea_level': 996, 'grnd_level': 940, 'humidity': 99, 'temp_kf': 0.3}, 'weather': [{'id': 501, 'main': 'Rain', 'description': 'moderate rain', 'icon': '10d'}], 'clouds': {'all': 100}, 'wind': {'speed': 0.71, 'deg': 182, 'gust': 0.92}, 'visibility': 632, 'pop': 1, 'rain': {'3h': 10.59}, 'sys': {'pod': 'd'}, 'dt_txt': '2024-09-09 15:00:00'}, {'dt': 1725904800, 'main': {'temp': 288.31, 'feels_like': 288.44, 'temp_min': 288.31, 'temp_max': 288.31, 'pressure': 994, 'sea_level': 994, 'grnd_level': 939, 'humidity': 98, 'temp_kf': 0}, 'weather': [{'id': 501, 'main': 'Rain', 'description': 'moderate rain', 'icon': '10d'}], 'clouds': {'all': 100}, 'wind': {'speed': 1.67, 'deg': 301, 'gust': 1.7}, 'visibility': 10000, 'pop': 1, 'rain': {'3h': 4.11}, 'sys': {'pod': 'd'}, 'dt_txt': '2024-09-09 18:00:00'}, {'dt': 1725915600, 'main': {'temp': 287.5, 'feels_like': 287.5, 'temp_min': 287.5, 'temp_max': 287.5, 'pressure': 992, 'sea_level': 992, 'grnd_level': 937, 'humidity': 96, 'temp_kf': 0}, 'weather': [{'id': 500, 'main': 'Rain', 'description': 'light rain', 'icon': '10n'}], 'clouds': {'all': 100}, 'wind': {'speed': 1.12, 'deg': 304, 'gust': 1.04}, 'visibility': 10000, 'pop': 0.75, 'rain': {'3h': 0.81}, 'sys': {'pod': 'n'}, 'dt_txt': '2024-09-09 21:00:00'}, {'dt': 1725926400, 'main': {'temp': 286.9, 'feels_like': 286.78, 'temp_min': 286.9, 'temp_max': 286.9, 'pressure': 990, 'sea_level': 990, 'grnd_level': 935, 'humidity': 94, 'temp_kf': 0}, 'weather': [{'id': 500, 'main': 'Rain', 'description': 'light rain', 'icon': '10n'}], 'clouds': {'all': 100}, 'wind': {'speed': 1.14, 'deg': 314, 'gust': 1.36}, 'visibility': 10000, 'pop': 0.73, 'rain': {'3h': 0.71}, 'sys': {'pod': 'n'}, 'dt_txt': '2024-09-10 00:00:00'}, {'dt': 1725937200, 'main': {'temp': 286.67, 'feels_like': 286.53, 'temp_min': 286.67, 'temp_max': 286.67, 'pressure': 988, 'sea_level': 988, 'grnd_level': 933, 'humidity': 94, 'temp_kf': 0}, 'weather': [{'id': 804, 'main': 'Clouds', 'description': 'overcast clouds', 'icon': '04n'}], 'clouds': {'all': 100}, 'wind': {'speed': 1.1, 'deg': 278, 'gust': 0.87}, 'visibility': 10000, 'pop': 0.25, 'sys': {'pod': 'n'}, 'dt_txt': '2024-09-10 03:00:00'}, {'dt': 1725948000, 'main': {'temp': 286.31, 'feels_like': 286.11, 'temp_min': 286.31, 'temp_max': 286.31, 'pressure': 987, 'sea_level': 987, 'grnd_level': 932, 'humidity': 93, 'temp_kf': 0}, 'weather': [{'id': 804, 'main': 'Clouds', 'description': 'overcast clouds', 'icon': '04d'}], 'clouds': {'all': 100}, 'wind': {'speed': 1.65, 'deg': 258, 'gust': 2.04}, 'visibility': 10000, 'pop': 0.15, 'sys': {'pod': 'd'}, 'dt_txt': '2024-09-10 06:00:00'}, {'dt': 1725958800, 'main': {'temp': 287.9, 'feels_like': 287.26, 'temp_min': 287.9, 'temp_max': 287.9, 'pressure': 987, 'sea_level': 987, 'grnd_level': 933, 'humidity': 70, 'temp_kf': 0}, 'weather': [{'id': 803, 'main': 'Clouds', 'description': 'broken clouds', 'icon': '04d'}], 'clouds': {'all': 75}, 'wind': {'speed': 1.56, 'deg': 262, 'gust': 2.42}, 'visibility': 10000, 'pop': 0.06, 'sys': {'pod': 'd'}, 'dt_txt': '2024-09-10 09:00:00'}, {'dt': 1725969600, 'main': {'temp': 290.47, 'feels_like': 289.46, 'temp_min': 290.47, 'temp_max': 290.47, 'pressure': 988, 'sea_level': 988, 'grnd_level': 933, 'humidity': 46, 'temp_kf': 0}, 'weather': [{'id': 803, 'main': 'Clouds', 'description': 'broken clouds', 'icon': '04d'}], 'clouds': {'all': 54}, 'wind': {'speed': 2.76, 'deg': 200, 'gust': 4.58}, 'visibility': 10000, 'pop': 0, 'sys': {'pod': 'd'}, 'dt_txt': '2024-09-10 12:00:00'}, {'dt': 1725980400, 'main': {'temp': 287.01, 'feels_like': 286.38, 'temp_min': 287.01, 'temp_max': 287.01, 'pressure': 988, 'sea_level': 988, 'grnd_level': 933, 'humidity': 74, 'temp_kf': 0}, 'weather': [{'id': 803, 'main': 'Clouds', 'description': 'broken clouds', 'icon': '04d'}], 'clouds': {'all': 62}, 'wind': {'speed': 4.28, 'deg': 164, 'gust': 9.73}, 'visibility': 10000, 'pop': 0, 'sys': {'pod': 'd'}, 'dt_txt': '2024-09-10 15:00:00'}, {'dt': 1725991200, 'main': {'temp': 284.61, 'feels_like': 284.32, 'temp_min': 284.61, 'temp_max': 284.61, 'pressure': 987, 'sea_level': 987, 'grnd_level': 931, 'humidity': 96, 'temp_kf': 0}, 'weather': [{'id': 501, 'main': 'Rain', 'description': 'moderate rain', 'icon': '10n'}], 'clouds': {'all': 81}, 'wind': {'speed': 2.99, 'deg': 146, 'gust': 7.57}, 'visibility': 10000, 'pop': 1, 'rain': {'3h': 3.53}, 'sys': {'pod': 'n'}, 'dt_txt': '2024-09-10 18:00:00'}, {'dt': 1726002000, 'main': {'temp': 280.8, 'feels_like': 279.24, 'temp_min': 280.8, 'temp_max': 280.8, 'pressure': 989, 'sea_level': 989, 'grnd_level': 933, 'humidity': 98, 'temp_kf': 0}, 'weather': [{'id': 803, 'main': 'Clouds', 'description': 'broken clouds', 'icon': '04n'}], 'clouds': {'all': 79}, 'wind': {'speed': 2.44, 'deg': 176, 'gust': 6.41}, 'visibility': 10000, 'pop': 0.01, 'sys': {'pod': 'n'}, 'dt_txt': '2024-09-10 21:00:00'}, {'dt': 1726012800, 'main': {'temp': 278.69, 'feels_like': 276.98, 'temp_min': 278.69, 'temp_max': 278.69, 'pressure': 991, 'sea_level': 991, 'grnd_level': 934, 'humidity': 98, 'temp_kf': 0}, 'weather': [{'id': 803, 'main': 'Clouds', 'description': 'broken clouds', 'icon': '04n'}], 'clouds': {'all': 61}, 'wind': {'speed': 2.17, 'deg': 148, 'gust': 7.42}, 'visibility': 10000, 'pop': 0, 'sys': {'pod': 'n'}, 'dt_txt': '2024-09-11 00:00:00'}, {'dt': 1726023600, 'main': {'temp': 279.94, 'feels_like': 277.81, 'temp_min': 279.94, 'temp_max': 279.94, 'pressure': 990, 'sea_level': 990, 'grnd_level': 934, 'humidity': 94, 'temp_kf': 0}, 'weather': [{'id': 803, 'main': 'Clouds', 'description': 'broken clouds', 'icon': '04n'}], 'clouds': {'all': 71}, 'wind': {'speed': 3, 'deg': 141, 'gust': 9.75}, 'visibility': 10000, 'pop': 0, 'sys': {'pod': 'n'}, 'dt_txt': '2024-09-11 03:00:00'}, {'dt': 1726034400, 'main': {'temp': 280.86, 'feels_like': 278.35, 'temp_min': 280.86, 'temp_max': 280.86, 'pressure': 990, 'sea_level': 990, 'grnd_level': 934, 'humidity': 91, 'temp_kf': 0}, 'weather': [{'id': 500, 'main': 'Rain', 'description': 'light rain', 'icon': '10d'}], 'clouds': {'all': 86}, 'wind': {'speed': 3.97, 'deg': 157, 'gust': 10.75}, 'visibility': 10000, 'pop': 0.2, 'rain': {'3h': 0.11}, 'sys': {'pod': 'd'}, 'dt_txt': '2024-09-11 06:00:00'}, {'dt': 1726045200, 'main': {'temp': 282.37, 'feels_like': 279.68, 'temp_min': 282.37, 'temp_max': 282.37, 'pressure': 991, 'sea_level': 991, 'grnd_level': 935, 'humidity': 85, 'temp_kf': 0}, 'weather': [{'id': 500, 'main': 'Rain', 'description': 'light rain', 'icon': '10d'}], 'clouds': {'all': 100}, 'wind': {'speed': 5.22, 'deg': 166, 'gust': 12.15}, 'visibility': 10000, 'pop': 0.2, 'rain': {'3h': 0.14}, 'sys': {'pod': 'd'}, 'dt_txt': '2024-09-11 09:00:00'}, {'dt': 1726056000, 'main': {'temp': 283.94, 'feels_like': 283.14, 'temp_min': 283.94, 'temp_max': 283.94, 'pressure': 992, 'sea_level': 992, 'grnd_level': 936, 'humidity': 79, 'temp_kf': 0}, 'weather': [{'id': 500, 'main': 'Rain', 'description': 'light rain', 'icon': '10d'}], 'clouds': {'all': 97}, 'wind': {'speed': 5.85, 'deg': 183, 'gust': 10.98}, 'visibility': 10000, 'pop': 0.79, 'rain': {'3h': 0.53}, 'sys': {'pod': 'd'}, 'dt_txt': '2024-09-11 12:00:00'}, {'dt': 1726066800, 'main': {'temp': 284.88, 'feels_like': 284.15, 'temp_min': 284.88, 'temp_max': 284.88, 'pressure': 992, 'sea_level': 992, 'grnd_level': 936, 'humidity': 78, 'temp_kf': 0}, 'weather': [{'id': 500, 'main': 'Rain', 'description': 'light rain', 'icon': '10d'}], 'clouds': {'all': 69}, 'wind': {'speed': 4.64, 'deg': 178, 'gust': 7.34}, 'visibility': 10000, 'pop': 1, 'rain': {'3h': 0.74}, 'sys': {'pod': 'd'}, 'dt_txt': '2024-09-11 15:00:00'}, {'dt': 1726077600, 'main': {'temp': 280.73, 'feels_like': 279.44, 'temp_min': 280.73, 'temp_max': 280.73, 'pressure': 994, 'sea_level': 994, 'grnd_level': 938, 'humidity': 93, 'temp_kf': 0}, 'weather': [{'id': 500, 'main': 'Rain', 'description': 'light rain', 'icon': '10n'}], 'clouds': {'all': 83}, 'wind': {'speed': 2.09, 'deg': 149, 'gust': 5.11}, 'visibility': 10000, 'pop': 0.97, 'rain': {'3h': 0.21}, 'sys': {'pod': 'n'}, 'dt_txt': '2024-09-11 18:00:00'}, {'dt': 1726088400, 'main': {'temp': 280.41, 'feels_like': 280.41, 'temp_min': 280.41, 'temp_max': 280.41, 'pressure': 996, 'sea_level': 996, 'grnd_level': 939, 'humidity': 97, 'temp_kf': 0}, 'weather': [{'id': 804, 'main': 'Clouds', 'description': 'overcast clouds', 'icon': '04n'}], 'clouds': {'all': 100}, 'wind': {'speed': 0.77, 'deg': 201, 'gust': 1.13}, 'visibility': 10000, 'pop': 0.01, 'sys': {'pod': 'n'}, 'dt_txt': '2024-09-11 21:00:00'}, {'dt': 1726099200, 'main': {'temp': 280.8, 'feels_like': 280.8, 'temp_min': 280.8, 'temp_max': 280.8, 'pressure': 997, 'sea_level': 997, 'grnd_level': 940, 'humidity': 95, 'temp_kf': 0}, 'weather': [{'id': 804, 'main': 'Clouds', 'description': 'overcast clouds', 'icon': '04n'}], 'clouds': {'all': 100}, 'wind': {'speed': 0.96, 'deg': 202, 'gust': 0.89}, 'visibility': 10000, 'pop': 0, 'sys': {'pod': 'n'}, 'dt_txt': '2024-09-12 00:00:00'}, {'dt': 1726110000, 'main': {'temp': 279.17, 'feels_like': 279.17, 'temp_min': 279.17, 'temp_max': 279.17, 'pressure': 999, 'sea_level': 999, 'grnd_level': 941, 'humidity': 97, 'temp_kf': 0}, 'weather': [{'id': 803, 'main': 'Clouds', 'description': 'broken clouds', 'icon': '04n'}], 'clouds': {'all': 71}, 'wind': {'speed': 0.69, 'deg': 197, 'gust': 1.14}, 'visibility': 10000, 'pop': 0, 'sys': {'pod': 'n'}, 'dt_txt': '2024-09-12 03:00:00'}, {'dt': 1726120800, 'main': {'temp': 280.15, 'feels_like': 280.15, 'temp_min': 280.15, 'temp_max': 280.15, 'pressure': 1001, 'sea_level': 1001, 'grnd_level': 944, 'humidity': 95, 'temp_kf': 0}, 'weather': [{'id': 803, 'main': 'Clouds', 'description': 'broken clouds', 'icon': '04d'}], 'clouds': {'all': 83}, 'wind': {'speed': 1.04, 'deg': 163, 'gust': 1.62}, 'visibility': 10000, 'pop': 0, 'sys': {'pod': 'd'}, 'dt_txt': '2024-09-12 06:00:00'}, {'dt': 1726131600, 'main': {'temp': 283.32, 'feels_like': 282.43, 'temp_min': 283.32, 'temp_max': 283.32, 'pressure': 1003, 'sea_level': 1003, 'grnd_level': 946, 'humidity': 78, 'temp_kf': 0}, 'weather': [{'id': 804, 'main': 'Clouds', 'description': 'overcast clouds', 'icon': '04d'}], 'clouds': {'all': 100}, 'wind': {'speed': 0.92, 'deg': 167, 'gust': 0.97}, 'visibility': 10000, 'pop': 0, 'sys': {'pod': 'd'}, 'dt_txt': '2024-09-12 09:00:00'}, {'dt': 1726142400, 'main': {'temp': 285.69, 'feels_like': 284.62, 'temp_min': 285.69, 'temp_max': 285.69, 'pressure': 1004, 'sea_level': 1004, 'grnd_level': 948, 'humidity': 62, 'temp_kf': 0}, 'weather': [{'id': 500, 'main': 'Rain', 'description': 'light rain', 'icon': '10d'}], 'clouds': {'all': 87}, 'wind': {'speed': 1.59, 'deg': 199, 'gust': 2.73}, 'visibility': 10000, 'pop': 0.2, 'rain': {'3h': 0.22}, 'sys': {'pod': 'd'}, 'dt_txt': '2024-09-12 12:00:00'}, {'dt': 1726153200, 'main': {'temp': 286.52, 'feels_like': 285.24, 'temp_min': 286.52, 'temp_max': 286.52, 'pressure': 1006, 'sea_level': 1006, 'grnd_level': 949, 'humidity': 51, 'temp_kf': 0}, 'weather': [{'id': 500, 'main': 'Rain', 'description': 'light rain', 'icon': '10d'}], 'clouds': {'all': 100}, 'wind': {'speed': 1.86, 'deg': 240, 'gust': 4.34}, 'visibility': 10000, 'pop': 0.22, 'rain': {'3h': 0.29}, 'sys': {'pod': 'd'}, 'dt_txt': '2024-09-12 15:00:00'}, {'dt': 1726164000, 'main': {'temp': 281.07, 'feels_like': 279.97, 'temp_min': 281.07, 'temp_max': 281.07, 'pressure': 1008, 'sea_level': 1008, 'grnd_level': 951, 'humidity': 70, 'temp_kf': 0}, 'weather': [{'id': 804, 'main': 'Clouds', 'description': 'overcast clouds', 'icon': '04n'}], 'clouds': {'all': 87}, 'wind': {'speed': 1.94, 'deg': 302, 'gust': 1.46}, 'visibility': 10000, 'pop': 0, 'sys': {'pod': 'n'}, 'dt_txt': '2024-09-12 18:00:00'}, {'dt': 1726174800, 'main': {'temp': 278.92, 'feels_like': 277.25, 'temp_min': 278.92, 'temp_max': 278.92, 'pressure': 1011, 'sea_level': 1011, 'grnd_level': 953, 'humidity': 76, 'temp_kf': 0}, 'weather': [{'id': 800, 'main': 'Clear', 'description': 'clear sky', 'icon': '01n'}], 'clouds': {'all': 8}, 'wind': {'speed': 2.17, 'deg': 304, 'gust': 1.74}, 'visibility': 10000, 'pop': 0, 'sys': {'pod': 'n'}, 'dt_txt': '2024-09-12 21:00:00'}, {'dt': 1726185600, 'main': {'temp': 277.81, 'feels_like': 276.13, 'temp_min': 277.81, 'temp_max': 277.81, 'pressure': 1013, 'sea_level': 1013, 'grnd_level': 955, 'humidity': 79, 'temp_kf': 0}, 'weather': [{'id': 801, 'main': 'Clouds', 'description': 'few clouds', 'icon': '02n'}], 'clouds': {'all': 22}, 'wind': {'speed': 1.99, 'deg': 294, 'gust': 1.96}, 'visibility': 10000, 'pop': 0, 'sys': {'pod': 'n'}, 'dt_txt': '2024-09-13 00:00:00'}, {'dt': 1726196400, 'main': {'temp': 277.13, 'feels_like': 275.63, 'temp_min': 277.13, 'temp_max': 277.13, 'pressure': 1014, 'sea_level': 1014, 'grnd_level': 956, 'humidity': 83, 'temp_kf': 0}, 'weather': [{'id': 800, 'main': 'Clear', 'description': 'clear sky', 'icon': '01n'}], 'clouds': {'all': 3}, 'wind': {'speed': 1.74, 'deg': 295, 'gust': 1.46}, 'visibility': 10000, 'pop': 0, 'sys': {'pod': 'n'}, 'dt_txt': '2024-09-13 03:00:00'}, {'dt': 1726207200, 'main': {'temp': 278.57, 'feels_like': 277.59, 'temp_min': 278.57, 'temp_max': 278.57, 'pressure': 1016, 'sea_level': 1016, 'grnd_level': 957, 'humidity': 76, 'temp_kf': 0}, 'weather': [{'id': 800, 'main': 'Clear', 'description': 'clear sky', 'icon': '01d'}], 'clouds': {'all': 1}, 'wind': {'speed': 1.49, 'deg': 301, 'gust': 1.7}, 'visibility': 10000, 'pop': 0, 'sys': {'pod': 'd'}, 'dt_txt': '2024-09-13 06:00:00'}, {'dt': 1726218000, 'main': {'temp': 285.24, 'feels_like': 283.81, 'temp_min': 285.24, 'temp_max': 285.24, 'pressure': 1016, 'sea_level': 1016, 'grnd_level': 958, 'humidity': 50, 'temp_kf': 0}, 'weather': [{'id': 800, 'main': 'Clear', 'description': 'clear sky', 'icon': '01d'}], 'clouds': {'all': 0}, 'wind': {'speed': 0.5, 'deg': 277, 'gust': 1.75}, 'visibility': 10000, 'pop': 0, 'sys': {'pod': 'd'}, 'dt_txt': '2024-09-13 09:00:00'}, {'dt': 1726228800, 'main': {'temp': 287.84, 'feels_like': 286.38, 'temp_min': 287.84, 'temp_max': 287.84, 'pressure': 1016, 'sea_level': 1016, 'grnd_level': 959, 'humidity': 39, 'temp_kf': 0}, 'weather': [{'id': 800, 'main': 'Clear', 'description': 'clear sky', 'icon': '01d'}], 'clouds': {'all': 3}, 'wind': {'speed': 1.07, 'deg': 165, 'gust': 1.91}, 'visibility': 10000, 'pop': 0, 'sys': {'pod': 'd'}, 'dt_txt': '2024-09-13 12:00:00'}, {'dt': 1726239600, 'main': {'temp': 287.57, 'feels_like': 286.11, 'temp_min': 287.57, 'temp_max': 287.57, 'pressure': 1016, 'sea_level': 1016, 'grnd_level': 959, 'humidity': 40, 'temp_kf': 0}, 'weather': [{'id': 802, 'main': 'Clouds', 'description': 'scattered clouds', 'icon': '03d'}], 'clouds': {'all': 38}, 'wind': {'speed': 1.44, 'deg': 147, 'gust': 1.7}, 'visibility': 10000, 'pop': 0, 'sys': {'pod': 'd'}, 'dt_txt': '2024-09-13 15:00:00'}, {'dt': 1726250400, 'main': {'temp': 281.9, 'feels_like': 280.91, 'temp_min': 281.9, 'temp_max': 281.9, 'pressure': 1018, 'sea_level': 1018, 'grnd_level': 960, 'humidity': 66, 'temp_kf': 0}, 'weather': [{'id': 803, 'main': 'Clouds', 'description': 'broken clouds', 'icon': '04n'}], 'clouds': {'all': 62}, 'wind': {'speed': 1.97, 'deg': 310, 'gust': 1.97}, 'visibility': 10000, 'pop': 0, 'sys': {'pod': 'n'}, 'dt_txt': '2024-09-13 18:00:00'}, {'dt': 1726261200, 'main': {'temp': 278.78, 'feels_like': 276.91, 'temp_min': 278.78, 'temp_max': 278.78, 'pressure': 1021, 'sea_level': 1021, 'grnd_level': 962, 'humidity': 75, 'temp_kf': 0}, 'weather': [{'id': 802, 'main': 'Clouds', 'description': 'scattered clouds', 'icon': '03n'}], 'clouds': {'all': 26}, 'wind': {'speed': 2.37, 'deg': 308, 'gust': 2.4}, 'visibility': 10000, 'pop': 0, 'sys': {'pod': 'n'}, 'dt_txt': '2024-09-13 21:00:00'}, {'dt': 1726272000, 'main': {'temp': 277.79, 'feels_like': 275.88, 'temp_min': 277.79, 'temp_max': 277.79, 'pressure': 1022, 'sea_level': 1022, 'grnd_level': 963, 'humidity': 79, 'temp_kf': 0}, 'weather': [{'id': 801, 'main': 'Clouds', 'description': 'few clouds', 'icon': '02n'}], 'clouds': {'all': 16}, 'wind': {'speed': 2.22, 'deg': 301, 'gust': 2.15}, 'visibility': 10000, 'pop': 0, 'sys': {'pod': 'n'}, 'dt_txt': '2024-09-14 00:00:00'}, {'dt': 1726282800, 'main': {'temp': 276.85, 'feels_like': 274.85, 'temp_min': 276.85, 'temp_max': 276.85, 'pressure': 1023, 'sea_level': 1023, 'grnd_level': 964, 'humidity': 80, 'temp_kf': 0}, 'weather': [{'id': 800, 'main': 'Clear', 'description': 'clear sky', 'icon': '01n'}], 'clouds': {'all': 6}, 'wind': {'speed': 2.15, 'deg': 303, 'gust': 2.4}, 'visibility': 10000, 'pop': 0, 'sys': {'pod': 'n'}, 'dt_txt': '2024-09-14 03:00:00'}, {'dt': 1726293600, 'main': {'temp': 278.08, 'feels_like': 276.72, 'temp_min': 278.08, 'temp_max': 278.08, 'pressure': 1024, 'sea_level': 1024, 'grnd_level': 965, 'humidity': 75, 'temp_kf': 0}, 'weather': [{'id': 800, 'main': 'Clear', 'description': 'clear sky', 'icon': '01d'}], 'clouds': {'all': 7}, 'wind': {'speed': 1.74, 'deg': 304, 'gust': 2.74}, 'visibility': 10000, 'pop': 0, 'sys': {'pod': 'd'}, 'dt_txt': '2024-09-14 06:00:00'}], 'city': {'id': 3144113, 'name': 'Noresund', 'coord': {'lat': 60.1803, 'lon': 9.6231}, 'country': 'NO', 'population': 1000, 'timezone': 7200, 'sunrise': 1725856550, 'sunset': 1725904921}}\")\n"
     ]
    }
   ],
   "source": [
    "# Query the data\n",
    "forecast_rows = session.execute(\"SELECT * FROM forecast_table;\")\n",
    "print(forecast_rows.one()) # <- only one row"
   ]
  },
  {
   "cell_type": "markdown",
   "metadata": {
    "slideshow": {
     "slide_type": "slide"
    }
   },
   "source": [
    "```{seealso} Resources\n",
    ":class: tip\n",
    "- [Cassandra webpage](https://cassandra.apache.org/)\n",
    "- [Cassandra Docker file](https://hub.docker.com/_/cassandra)\n",
    "- [UUID functions](https://docs.datastax.com/en/cql-oss/3.3/cql/cql_reference/timeuuid_functions_r.html)\n",
    "- [YouTube: Cassandra in 100 seconds](https://youtu.be/ziq7FUKpCS8?si=WQUdkHFvaBmT0DBo) (2m:26s)\n",
    "- [YouTube: How to use Apache Cassandra in Python](https://youtu.be/qMauZqJH3ZM?si=yKGZ-5cld2BK396Y) (14m:50s)\n",
    "- [YouTube: Cassandra Database Crash Course](https://youtu.be/KZsVSfQVU4I?si=FBCi8qOfCirfVmZk) (19m:47s)\n",
    "```"
   ]
  }
 ],
 "metadata": {
  "celltoolbar": "Slideshow",
  "kernelspec": {
   "display_name": "Python 3 (ipykernel)",
   "language": "python",
   "name": "python3"
  },
  "language_info": {
   "codemirror_mode": {
    "name": "ipython",
    "version": 3
   },
   "file_extension": ".py",
   "mimetype": "text/x-python",
   "name": "python",
   "nbconvert_exporter": "python",
   "pygments_lexer": "ipython3",
   "version": "3.12.4"
  }
 },
 "nbformat": 4,
 "nbformat_minor": 2
}