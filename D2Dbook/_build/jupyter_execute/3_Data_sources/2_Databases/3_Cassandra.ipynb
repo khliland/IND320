{
 "cells": [
  {
   "cell_type": "markdown",
   "metadata": {
    "slideshow": {
     "slide_type": "slide"
    }
   },
   "source": [
    "# Cassandra\n",
    "- A production grade NoSQL database.\n",
    "- Can be distributed across servers, nodes, etc.\n",
    "- Replication of database is supported for high degree of redundancy and speed.\n",
    "- Uses CQL, a subset of SQL for querying.\n",
    "- Works seamlesly together with Spark and its corresponding distributed structure.\n",
    "- Installation of Cassandra is explained in the [Installation chapter](../../7_Appendix/Installation.ipynb)."
   ]
  },
  {
   "cell_type": "markdown",
   "metadata": {
    "slideshow": {
     "slide_type": "slide"
    }
   },
   "source": [
    "## Spinning up a local Cassandra instance\n",
    "In a terminal, first time:  \n",
    "```docker run --name my_cassandra -p 9042:9042 cassandra:latest```  \n",
    "... and later:  \n",
    "```docker start my_cassandra```  \n",
    "  \n",
    ".. or in Docker Desktop:\n",
    "- Run the cassandra docker image with optional settings, opening 9042 port and setting a name.\n",
    "- Later, simply run the container with the name you chose."
   ]
  },
  {
   "cell_type": "markdown",
   "metadata": {
    "slideshow": {
     "slide_type": "slide"
    }
   },
   "source": [
    "<img src=\"https://github.com/khliland/IND320/blob/main/D2Dbook/images/Docker_images.png?raw=TRUE\" width=\"600px\">  "
   ]
  },
  {
   "cell_type": "markdown",
   "metadata": {
    "slideshow": {
     "slide_type": "slide"
    }
   },
   "source": [
    "\n",
    "<img src=\"https://github.com/khliland/IND320/blob/main/D2Dbook/images/Docker_containers.png?raw=TRUE\" width=\"800px\">  "
   ]
  },
  {
   "cell_type": "markdown",
   "metadata": {
    "slideshow": {
     "slide_type": "slide"
    }
   },
   "source": [
    "### Connect to the Cassandra cluster from Python."
   ]
  },
  {
   "cell_type": "code",
   "execution_count": 1,
   "metadata": {
    "ExecuteTime": {
     "end_time": "2024-08-17T10:25:34.787878Z",
     "start_time": "2024-08-17T10:25:34.389367Z"
    },
    "slideshow": {
     "slide_type": "fragment"
    },
    "tags": []
   },
   "outputs": [],
   "source": [
    "# Connecting to Cassandra\n",
    "from cassandra.cluster import Cluster\n",
    "cluster = Cluster(['localhost'], port=9042)\n",
    "session = cluster.connect()"
   ]
  },
  {
   "cell_type": "markdown",
   "metadata": {
    "slideshow": {
     "slide_type": "slide"
    }
   },
   "source": [
    "### Keyspace\n",
    "- In Cassandra database tables are stored in keyspaces (basically a distributed database).\n",
    "- These have parameters controlling their distribution on nodes/servers and redundancy.\n",
    "- We will use the simplest form locally."
   ]
  },
  {
   "cell_type": "code",
   "execution_count": 2,
   "metadata": {
    "ExecuteTime": {
     "end_time": "2024-08-17T10:25:34.798504Z",
     "start_time": "2024-08-17T10:25:34.789786Z"
    },
    "slideshow": {
     "slide_type": "fragment"
    },
    "tags": []
   },
   "outputs": [
    {
     "data": {
      "text/plain": [
       "<cassandra.cluster.ResultSet at 0x11136c740>"
      ]
     },
     "execution_count": 2,
     "metadata": {},
     "output_type": "execute_result"
    }
   ],
   "source": [
    "# Set up new keyspace (first time only)\n",
    "#                                              name of keyspace                        replication strategy           replication factor\n",
    "session.execute(\"CREATE KEYSPACE IF NOT EXISTS my_first_keyspace WITH REPLICATION = { 'class' : 'SimpleStrategy', 'replication_factor' : 1 };\")"
   ]
  },
  {
   "cell_type": "markdown",
   "metadata": {
    "slideshow": {
     "slide_type": "slide"
    }
   },
   "source": [
    "### Create a table\n",
    "- IF NOT EXISTS makes sure we do not overwrite existing tables"
   ]
  },
  {
   "cell_type": "code",
   "execution_count": 3,
   "metadata": {
    "ExecuteTime": {
     "end_time": "2024-08-17T10:25:35.347394Z",
     "start_time": "2024-08-17T10:25:34.800008Z"
    },
    "slideshow": {
     "slide_type": "fragment"
    },
    "tags": []
   },
   "outputs": [
    {
     "data": {
      "text/plain": [
       "<cassandra.cluster.ResultSet at 0x107759eb0>"
      ]
     },
     "execution_count": 3,
     "metadata": {},
     "output_type": "execute_result"
    }
   ],
   "source": [
    "# Create a new table (first time only)\n",
    "session.set_keyspace('my_first_keyspace')\n",
    "session.execute(\"DROP TABLE IF EXISTS my_first_keyspace.my_first_table;\") # Starting from scratch every time\n",
    "session.execute(\"CREATE TABLE IF NOT EXISTS my_first_table (ind int PRIMARY KEY, company text, model text);\")"
   ]
  },
  {
   "cell_type": "markdown",
   "metadata": {
    "slideshow": {
     "slide_type": "slide"
    }
   },
   "source": [
    "### Inserting and reading data"
   ]
  },
  {
   "cell_type": "code",
   "execution_count": 4,
   "metadata": {
    "ExecuteTime": {
     "end_time": "2024-08-17T10:25:35.366363Z",
     "start_time": "2024-08-17T10:25:35.350453Z"
    },
    "slideshow": {
     "slide_type": "fragment"
    },
    "tags": []
   },
   "outputs": [
    {
     "data": {
      "text/plain": [
       "<cassandra.cluster.ResultSet at 0x1123032f0>"
      ]
     },
     "execution_count": 4,
     "metadata": {},
     "output_type": "execute_result"
    }
   ],
   "source": [
    "# Insert some data (ind is the primary key, must be unique)\n",
    "session.execute(\"INSERT INTO my_first_table (ind, company, model) VALUES (1, 'Tesla', 'Model S');\")\n",
    "session.execute(\"INSERT INTO my_first_table (ind, company, model) VALUES (2, 'Tesla', 'Model 3');\")\n",
    "session.execute(\"INSERT INTO my_first_table (ind, company, model) VALUES (3, 'Polestar', '3');\")"
   ]
  },
  {
   "cell_type": "code",
   "execution_count": 5,
   "metadata": {},
   "outputs": [
    {
     "name": "stdout",
     "output_type": "stream",
     "text": [
      "Row(ind=1, company='Tesla', model='Model S')\n",
      "Row(ind=2, company='Tesla', model='Model 3')\n",
      "Row(ind=3, company='Polestar', model='3')\n"
     ]
    }
   ],
   "source": [
    "# Query the data\n",
    "rows = session.execute(\"SELECT * FROM my_first_table;\")\n",
    "for i in rows:\n",
    "    print(i)"
   ]
  },
  {
   "cell_type": "markdown",
   "metadata": {
    "slideshow": {
     "slide_type": "slide"
    },
    "tags": []
   },
   "source": [
    "### Case sensitivity\n",
    "- Cassandra is by default case insensitive in column names.\n",
    "- To use column names with capital letters, use double quotation marks both when creating tables and when inserting data.\n",
    "- The effect of insensitivity may be surprising.\n",
    "    - Look carefully at the use of quotation marks and error message below."
   ]
  },
  {
   "cell_type": "code",
   "execution_count": 6,
   "metadata": {
    "slideshow": {
     "slide_type": "slide"
    },
    "tags": []
   },
   "outputs": [
    {
     "data": {
      "text/plain": [
       "<cassandra.cluster.ResultSet at 0x1126ca690>"
      ]
     },
     "execution_count": 6,
     "metadata": {},
     "output_type": "execute_result"
    }
   ],
   "source": [
    "session.set_keyspace('my_first_keyspace')\n",
    "session.execute(\"DROP TABLE IF EXISTS my_first_keyspace.case_insensitive;\") # Starting from scratch every time\n",
    "session.execute(\"CREATE TABLE IF NOT EXISTS case_insensitive (Capital int PRIMARY KEY, Letters text, Everywhere text);\")\n",
    "session.execute(\"DROP TABLE IF EXISTS my_first_keyspace.case_sensitive;\") # Starting from scratch every time\n",
    "session.execute(\"CREATE TABLE IF NOT EXISTS case_sensitive (\\\"Capital\\\" int PRIMARY KEY, \\\"Letters\\\" text, \\\"Everywhere\\\" text);\")"
   ]
  },
  {
   "cell_type": "code",
   "execution_count": 7,
   "metadata": {
    "slideshow": {
     "slide_type": "fragment"
    },
    "tags": []
   },
   "outputs": [
    {
     "data": {
      "text/plain": [
       "<cassandra.cluster.ResultSet at 0x111ad3620>"
      ]
     },
     "execution_count": 7,
     "metadata": {},
     "output_type": "execute_result"
    }
   ],
   "source": [
    "session.execute(\"INSERT INTO case_insensitive (Capital, Letters, Everywhere) VALUES (1, 'Tesla', 'Model S');\")"
   ]
  },
  {
   "cell_type": "code",
   "execution_count": 8,
   "metadata": {
    "slideshow": {
     "slide_type": "fragment"
    },
    "tags": [
     "raises-exception"
    ]
   },
   "outputs": [
    {
     "ename": "InvalidRequest",
     "evalue": "Error from server: code=2200 [Invalid query] message=\"Undefined column name capital in table my_first_keyspace.case_sensitive\"",
     "output_type": "error",
     "traceback": [
      "\u001b[0;31m---------------------------------------------------------------------------\u001b[0m",
      "\u001b[0;31mInvalidRequest\u001b[0m                            Traceback (most recent call last)",
      "Cell \u001b[0;32mIn[8], line 1\u001b[0m\n\u001b[0;32m----> 1\u001b[0m \u001b[43msession\u001b[49m\u001b[38;5;241;43m.\u001b[39;49m\u001b[43mexecute\u001b[49m\u001b[43m(\u001b[49m\u001b[38;5;124;43m\"\u001b[39;49m\u001b[38;5;124;43mINSERT INTO case_sensitive (Capital, Letters, Everywhere) VALUES (1, \u001b[39;49m\u001b[38;5;124;43m'\u001b[39;49m\u001b[38;5;124;43mTesla\u001b[39;49m\u001b[38;5;124;43m'\u001b[39;49m\u001b[38;5;124;43m, \u001b[39;49m\u001b[38;5;124;43m'\u001b[39;49m\u001b[38;5;124;43mModel S\u001b[39;49m\u001b[38;5;124;43m'\u001b[39;49m\u001b[38;5;124;43m);\u001b[39;49m\u001b[38;5;124;43m\"\u001b[39;49m\u001b[43m)\u001b[49m\n",
      "File \u001b[0;32m~/miniforge3/envs/IND320_2024/lib/python3.12/site-packages/cassandra/cluster.py:2677\u001b[0m, in \u001b[0;36mcassandra.cluster.Session.execute\u001b[0;34m()\u001b[0m\n",
      "File \u001b[0;32m~/miniforge3/envs/IND320_2024/lib/python3.12/site-packages/cassandra/cluster.py:4956\u001b[0m, in \u001b[0;36mcassandra.cluster.ResponseFuture.result\u001b[0;34m()\u001b[0m\n",
      "\u001b[0;31mInvalidRequest\u001b[0m: Error from server: code=2200 [Invalid query] message=\"Undefined column name capital in table my_first_keyspace.case_sensitive\""
     ]
    }
   ],
   "source": [
    "session.execute(\"INSERT INTO case_sensitive (Capital, Letters, Everywhere) VALUES (1, 'Tesla', 'Model S');\")"
   ]
  },
  {
   "cell_type": "code",
   "execution_count": 9,
   "metadata": {
    "slideshow": {
     "slide_type": "fragment"
    },
    "tags": []
   },
   "outputs": [
    {
     "data": {
      "text/plain": [
       "<cassandra.cluster.ResultSet at 0x1123198e0>"
      ]
     },
     "execution_count": 9,
     "metadata": {},
     "output_type": "execute_result"
    }
   ],
   "source": [
    "session.execute(\"INSERT INTO case_sensitive (\\\"Capital\\\", \\\"Letters\\\", \\\"Everywhere\\\") VALUES (1, 'Tesla', 'Model S');\")"
   ]
  },
  {
   "cell_type": "code",
   "execution_count": 10,
   "metadata": {
    "slideshow": {
     "slide_type": "slide"
    },
    "tags": []
   },
   "outputs": [
    {
     "name": "stdout",
     "output_type": "stream",
     "text": [
      "Row(capital=1, everywhere='Model S', letters='Tesla')\n",
      "Row(Capital=1, Everywhere='Model S', Letters='Tesla')\n"
     ]
    }
   ],
   "source": [
    "# Query the data\n",
    "rows = session.execute(\"SELECT * FROM case_insensitive;\")\n",
    "for i in rows:\n",
    "    print(i)\n",
    "rows = session.execute(\"SELECT * FROM case_sensitive;\")\n",
    "for i in rows:\n",
    "    print(i)"
   ]
  },
  {
   "cell_type": "markdown",
   "metadata": {
    "slideshow": {
     "slide_type": "slide"
    }
   },
   "source": [
    "### Asyncronous writing\n",
    "- If your application is very data intensive, waiting for a response is not productive.\n",
    "- Writing asyncronously sends the data but does not pause for reply."
   ]
  },
  {
   "cell_type": "code",
   "execution_count": 11,
   "metadata": {
    "ExecuteTime": {
     "end_time": "2024-08-17T10:25:35.371390Z",
     "start_time": "2024-08-17T10:25:35.367159Z"
    },
    "slideshow": {
     "slide_type": "fragment"
    },
    "tags": []
   },
   "outputs": [
    {
     "data": {
      "text/plain": [
       "<ResponseFuture: query='<SimpleStatement query=\"INSERT INTO my_first_table (ind, company, model) VALUES (4, 'Volkswagen', 'ID.4');\", consistency=Not Set>' request_id=63 result=(no result yet) exception=None coordinator_host=None>"
      ]
     },
     "execution_count": 11,
     "metadata": {},
     "output_type": "execute_result"
    }
   ],
   "source": [
    "session.execute_async(\"INSERT INTO my_first_table (ind, company, model) VALUES (4, 'Volkswagen', 'ID.4');\")"
   ]
  },
  {
   "cell_type": "code",
   "execution_count": 12,
   "metadata": {
    "ExecuteTime": {
     "end_time": "2024-08-17T10:25:35.384736Z",
     "start_time": "2024-08-17T10:25:35.372551Z"
    },
    "slideshow": {
     "slide_type": "slide"
    },
    "tags": []
   },
   "outputs": [
    {
     "name": "stdout",
     "output_type": "stream",
     "text": [
      "Row(ind=1, company='Tesla', model='Model S')\n",
      "Row(ind=2, company='Tesla', model='Model 3')\n",
      "Row(ind=4, company='Volkswagen', model='ID.4')\n",
      "Row(ind=3, company='Polestar', model='3')\n"
     ]
    }
   ],
   "source": [
    "# Query the data\n",
    "rows = session.execute(\"SELECT * FROM my_first_table;\")\n",
    "for i in rows:\n",
    "    print(i)"
   ]
  },
  {
   "cell_type": "code",
   "execution_count": 13,
   "metadata": {
    "ExecuteTime": {
     "end_time": "2024-08-17T10:25:35.402371Z",
     "start_time": "2024-08-17T10:25:35.386980Z"
    },
    "slideshow": {
     "slide_type": "slide"
    },
    "tags": [
     "raises-exception"
    ]
   },
   "outputs": [
    {
     "name": "stdout",
     "output_type": "stream",
     "text": [
      "Row(ind=1, company='Tesla', model='Model S')\n",
      "Row(ind=2, company='Tesla', model='Model 3')\n"
     ]
    }
   ],
   "source": [
    "# More specific query\n",
    "prepared_statement = session.prepare(\"SELECT * FROM my_first_table WHERE company=? ALLOW FILTERING;\")\n",
    "teslas = session.execute(prepared_statement, ['Tesla'])\n",
    "for i in teslas:\n",
    "    print(i)"
   ]
  },
  {
   "cell_type": "markdown",
   "metadata": {
    "slideshow": {
     "slide_type": "slide"
    }
   },
   "source": [
    "## Cassandra filtering\n",
    "Cassandra is inherently a distributed production database. Selecting as above may require downloading all data from a node, then filtering based on the WHERE part (only PRIMARY KEYs are centrally known). Solutions:  \n",
    "- If the table is small or most of the data will satisfy the query, add ```ALLOW FILTERING``` at the end of the query (not recommended if not known). \n",
    "- Or make sure the WHERE clause points to one of the keys (see below)."
   ]
  },
  {
   "cell_type": "code",
   "execution_count": 14,
   "metadata": {
    "ExecuteTime": {
     "end_time": "2024-08-17T10:25:35.613711Z",
     "start_time": "2024-08-17T10:25:35.403622Z"
    },
    "slideshow": {
     "slide_type": "slide"
    },
    "tags": []
   },
   "outputs": [
    {
     "data": {
      "text/plain": [
       "<cassandra.cluster.ResultSet at 0x1126dffb0>"
      ]
     },
     "execution_count": 14,
     "metadata": {},
     "output_type": "execute_result"
    }
   ],
   "source": [
    "# Create a new table (observe keys)\n",
    "session.execute(\"DROP TABLE IF EXISTS my_first_keyspace.car_table;\")\n",
    "session.execute(\"CREATE TABLE IF NOT EXISTS car_table (company text, model text, PRIMARY KEY(company, model));\")"
   ]
  },
  {
   "cell_type": "code",
   "execution_count": 15,
   "metadata": {
    "ExecuteTime": {
     "end_time": "2024-08-17T10:25:35.628950Z",
     "start_time": "2024-08-17T10:25:35.615126Z"
    },
    "slideshow": {
     "slide_type": "fragment"
    },
    "tags": []
   },
   "outputs": [
    {
     "data": {
      "text/plain": [
       "<cassandra.cluster.ResultSet at 0x1126e92b0>"
      ]
     },
     "execution_count": 15,
     "metadata": {},
     "output_type": "execute_result"
    }
   ],
   "source": [
    "# Insert some data (combination of company and model must be unique)\n",
    "session.execute(\"INSERT INTO car_table (company, model) VALUES ('Tesla', 'Model S');\")\n",
    "session.execute(\"INSERT INTO car_table (company, model) VALUES ('Tesla', 'Model 3');\")\n",
    "session.execute(\"INSERT INTO car_table (company, model) VALUES ('Polestar', '3');\")\n",
    "session.execute(\"INSERT INTO car_table (company, model) VALUES ('Volkswagen', 'ID.4');\")"
   ]
  },
  {
   "cell_type": "code",
   "execution_count": 16,
   "metadata": {
    "ExecuteTime": {
     "end_time": "2024-08-17T10:25:35.639765Z",
     "start_time": "2024-08-17T10:25:35.630657Z"
    },
    "slideshow": {
     "slide_type": "slide"
    },
    "tags": []
   },
   "outputs": [
    {
     "name": "stdout",
     "output_type": "stream",
     "text": [
      "Row(company='Tesla', model='Model 3')\n",
      "Row(company='Tesla', model='Model S')\n"
     ]
    }
   ],
   "source": [
    "# More specific query now works\n",
    "prepared_statement = session.prepare(\"SELECT * FROM car_table WHERE company=?;\")\n",
    "teslas = session.execute(prepared_statement, ['Tesla'])\n",
    "for i in teslas:\n",
    "    print(i)"
   ]
  },
  {
   "cell_type": "markdown",
   "metadata": {
    "slideshow": {
     "slide_type": "slide"
    }
   },
   "source": [
    "### Partitions\n",
    "- Cassandra databases are usually replicated over different nodes.\n",
    "- Data is stored in partitions (subsets) which have local copys.\n",
    "- The primary key, e.g., PRIMARY KEY(company, model), is used in partitioning.\n",
    "    - The first part, e.g., company, is most important.\n",
    "    - All cars from a company will be located together, aiming for quicker queries."
   ]
  },
  {
   "cell_type": "markdown",
   "metadata": {
    "slideshow": {
     "slide_type": "slide"
    }
   },
   "source": [
    "### Unique IDs \n",
    "- In MySQL one could use the attribute AUTO_INCREMENT on integer IDs to automatically make a new unique index when inserting data.\n",
    "- This would cause unreasonable overhead in a distributed database.\n",
    "- [UUID](https://en.wikipedia.org/wiki/Universally_unique_identifier)s are used instead.\n",
    "    - Universally Unique Identifiers are typically 128-bit random bit sequences with extremely low probability of duplication.\n",
    "    - Cassandra uses a [timeuuid](https://docs.datastax.com/en/cql-oss/3.3/cql/cql_reference/timeuuid_functions_r.html) type to combine a timestamp and uuid in one."
   ]
  },
  {
   "cell_type": "code",
   "execution_count": 17,
   "metadata": {
    "ExecuteTime": {
     "end_time": "2024-08-17T10:25:35.766003Z",
     "start_time": "2024-08-17T10:25:35.640600Z"
    },
    "slideshow": {
     "slide_type": "fragment"
    },
    "tags": []
   },
   "outputs": [
    {
     "data": {
      "text/plain": [
       "<cassandra.cluster.ResultSet at 0x1126de8a0>"
      ]
     },
     "execution_count": 17,
     "metadata": {},
     "output_type": "execute_result"
    }
   ],
   "source": [
    "# Create a new table (first time only)\n",
    "session.set_keyspace('my_first_keyspace')\n",
    "session.execute(\"DROP TABLE IF EXISTS my_first_keyspace.table_with_uuid;\")\n",
    "session.execute(\"CREATE TABLE IF NOT EXISTS table_with_uuid (id timeuuid PRIMARY KEY, company text, model text, price float);\")"
   ]
  },
  {
   "cell_type": "code",
   "execution_count": 18,
   "metadata": {
    "ExecuteTime": {
     "end_time": "2024-08-17T10:25:35.784876Z",
     "start_time": "2024-08-17T10:25:35.766619Z"
    },
    "slideshow": {
     "slide_type": "slide"
    },
    "tags": []
   },
   "outputs": [
    {
     "data": {
      "text/plain": [
       "<cassandra.cluster.ResultSet at 0x1126be8d0>"
      ]
     },
     "execution_count": 18,
     "metadata": {},
     "output_type": "execute_result"
    }
   ],
   "source": [
    "session.execute(\"INSERT INTO table_with_uuid (id, company, model, price) VALUES (now(), 'Tesla', 'Model S', 20000.0);\")\n",
    "session.execute(\"INSERT INTO table_with_uuid (id, company, model, price) VALUES (now(), 'Tesla', 'Model S', 21000.0);\")\n",
    "session.execute(\"INSERT INTO table_with_uuid (id, company, model, price) VALUES (now(), 'Oldsmobile', 'Model 6C', 135000.0);\")"
   ]
  },
  {
   "cell_type": "code",
   "execution_count": 19,
   "metadata": {
    "ExecuteTime": {
     "end_time": "2024-08-17T10:25:35.792934Z",
     "start_time": "2024-08-17T10:25:35.785467Z"
    },
    "slideshow": {
     "slide_type": "slide"
    },
    "tags": []
   },
   "outputs": [
    {
     "name": "stdout",
     "output_type": "stream",
     "text": [
      "Row(id=UUID('9286fbb0-916c-11ef-adee-8360e2880d90'), company='Oldsmobile', model='Model 6C', price=135000.0)\n",
      "Datetime: 2024-10-23 18:28:17.259000\n",
      "Row(id=UUID('9286ad90-916c-11ef-adee-8360e2880d90'), company='Tesla', model='Model S', price=21000.0)\n",
      "Datetime: 2024-10-23 18:28:17.257000\n",
      "Row(id=UUID('9285ea40-916c-11ef-adee-8360e2880d90'), company='Tesla', model='Model S', price=20000.0)\n",
      "Datetime: 2024-10-23 18:28:17.252000\n"
     ]
    }
   ],
   "source": [
    "from cassandra.util import datetime_from_uuid1\n",
    "\n",
    "# Query the data\n",
    "rows = session.execute(\"SELECT * FROM table_with_uuid;\")\n",
    "for i in rows:\n",
    "    print(i)\n",
    "    # Extract the timestamp from Cassandra's timeuuid\n",
    "    print(\"Datetime:\", datetime_from_uuid1(i.id))"
   ]
  },
  {
   "cell_type": "markdown",
   "metadata": {
    "slideshow": {
     "slide_type": "slide"
    }
   },
   "source": [
    "## JSON in Cassandra\n",
    "### Read previously saved JSON file forecast.json to memory"
   ]
  },
  {
   "cell_type": "code",
   "execution_count": 20,
   "metadata": {
    "ExecuteTime": {
     "end_time": "2024-08-17T10:25:35.796049Z",
     "start_time": "2024-08-17T10:25:35.793437Z"
    },
    "slideshow": {
     "slide_type": "fragment"
    },
    "tags": []
   },
   "outputs": [],
   "source": [
    "import json\n",
    "with open('../3_APIs/downloads/forecast.json', 'r') as f:\n",
    "    forecast = json.load(f)"
   ]
  },
  {
   "cell_type": "code",
   "execution_count": 21,
   "metadata": {
    "ExecuteTime": {
     "end_time": "2024-08-17T10:25:35.799114Z",
     "start_time": "2024-08-17T10:25:35.796532Z"
    },
    "slideshow": {
     "slide_type": "slide"
    },
    "tags": []
   },
   "outputs": [
    {
     "data": {
      "text/plain": [
       "\"{'cod': '200', 'message': 0, 'cnt': 40, 'list': [{'dt': 1728896400, 'main': {'temp': 277.3, 'feels_like': 275.68, 'temp_min': 276.35, 'temp_max': 277.3, 'pressure': 1011, 'sea_level': 1011, 'grnd_level': 960, 'humidity': 93, 'temp_kf': 0.95}, 'weather': [{'id': 600, 'main': 'Snow', 'description': 'light snow', 'icon': '13d'}], 'clouds': {'all': 83}, 'wind': {'speed': 1.86, 'deg': 251, 'gust': 2.81}, 'visibility': 70, 'pop': 0.28, 'snow': {'3h': 0.18}, 'sys': {'pod': 'd'}, 'dt_txt': '2024-10-14 09:00:00'}, {'dt': 1728907200, 'main': {'temp': 276.9, 'feels_like': 274.81, 'temp_min': 276.46, 'temp_max': 276.9, 'pressure': 1012, 'sea_level': 1012, 'grnd_level': 960, 'humidity': 95, 'temp_kf': 0.44}, 'weather': [{'id': 600, 'main': 'Snow', 'description': 'light snow', 'icon': '13d'}], 'clouds': {'all': 92}, 'wind': {'speed': 2.24, 'deg': 251, 'gust': 2.82}, 'visibility': 410, 'pop': 0.5, 'snow': {'3h': 0.39}, 'sys': {'pod': 'd'}, 'dt_txt': '2024-10-14 12:00:00'}, {'dt': 1728918000, 'main': {'temp': 275.93, 'feels_like': 273.94, 'temp_min': 275.93, 'temp_max': 275.93, 'pressure': 1013, 'sea_level': 1013, 'grnd_level': 960, 'humidity': 97, 'temp_kf': 0}, 'weather': [{'id': 600, 'main': 'Snow', 'description': 'light snow', 'icon': '13d'}], 'clouds': {'all': 100}, 'wind': {'speed': 1.99, 'deg': 227, 'gust': 2.31}, 'visibility': 536, 'pop': 1, 'snow': {'3h': 0.43}, 'sys': {'pod': 'd'}, 'dt_txt': '2024-10-14 15:00:00'}, {'dt': 1728928800, 'main': {'temp': 276.38, 'feels_like': 274.55, 'temp_min': 276.38, 'temp_max': 276.38, 'pressure': 1013, 'sea_level': 1013, 'grnd_level': 961, 'humidity': 99, 'temp_kf': 0}, 'weather': [{'id': 600, 'main': 'Snow', 'description': 'light snow', 'icon': '13n'}], 'clouds': {'all': 100}, 'wind': {'speed': 1.92, 'deg': 225, 'gust': 2.31}, 'visibility': 29, 'pop': 1, 'snow': {'3h': 0.79}, 'sys': {'pod': 'n'}, 'dt_txt': '2024-10-14 18:00:00'}, {'dt': 1728939600, 'main': {'temp': 276.05, 'feels_like': 273.76, 'temp_min': 276.05, 'temp_max': 276.05, 'pressure': 1014, 'sea_level': 1014, 'grnd_level': 962, 'humidity': 98, 'temp_kf': 0}, 'weather': [{'id': 600, 'main': 'Snow', 'description': 'light snow', 'icon': '13n'}], 'clouds': {'all': 100}, 'wind': {'speed': 2.3, 'deg': 216, 'gust': 2.77}, 'visibility': 58, 'pop': 1, 'snow': {'3h': 1}, 'sys': {'pod': 'n'}, 'dt_txt': '2024-10-14 21:00:00'}, {'dt': 1728950400, 'main': {'temp': 276.29, 'feels_like': 273.91, 'temp_min': 276.29, 'temp_max': 276.29, 'pressure': 1015, 'sea_level': 1015, 'grnd_level': 962, 'humidity': 99, 'temp_kf': 0}, 'weather': [{'id': 600, 'main': 'Snow', 'description': 'light snow', 'icon': '13n'}], 'clouds': {'all': 99}, 'wind': {'speed': 2.43, 'deg': 223, 'gust': 3.08}, 'visibility': 168, 'pop': 1, 'snow': {'3h': 1.16}, 'sys': {'pod': 'n'}, 'dt_txt': '2024-10-15 00:00:00'}, {'dt': 1728961200, 'main': {'temp': 276.27, 'feels_like': 274.31, 'temp_min': 276.27, 'temp_max': 276.27, 'pressure': 1015, 'sea_level': 1015, 'grnd_level': 963, 'humidity': 97, 'temp_kf': 0}, 'weather': [{'id': 500, 'main': 'Rain', 'description': 'light rain', 'icon': '10n'}], 'clouds': {'all': 100}, 'wind': {'speed': 2.02, 'deg': 215, 'gust': 2.42}, 'pop': 0.84, 'rain': {'3h': 0.37}, 'sys': {'pod': 'n'}, 'dt_txt': '2024-10-15 03:00:00'}, {'dt': 1728972000, 'main': {'temp': 276.39, 'feels_like': 274.76, 'temp_min': 276.39, 'temp_max': 276.39, 'pressure': 1016, 'sea_level': 1016, 'grnd_level': 964, 'humidity': 97, 'temp_kf': 0}, 'weather': [{'id': 500, 'main': 'Rain', 'description': 'light rain', 'icon': '10n'}], 'clouds': {'all': 100}, 'wind': {'speed': 1.75, 'deg': 208, 'gust': 2.17}, 'pop': 0.95, 'rain': {'3h': 0.81}, 'sys': {'pod': 'n'}, 'dt_txt': '2024-10-15 06:00:00'}, {'dt': 1728982800, 'main': {'temp': 276.86, 'feels_like': 275.8, 'temp_min': 276.86, 'temp_max': 276.86, 'pressure': 1016, 'sea_level': 1016, 'grnd_level': 964, 'humidity': 96, 'temp_kf': 0}, 'weather': [{'id': 500, 'main': 'Rain', 'description': 'light rain', 'icon': '10d'}], 'clouds': {'all': 100}, 'wind': {'speed': 1.38, 'deg': 174, 'gust': 1.46}, 'pop': 0.91, 'rain': {'3h': 0.64}, 'sys': {'pod': 'd'}, 'dt_txt': '2024-10-15 09:00:00'}, {'dt': 1728993600, 'main': {'temp': 277.51, 'feels_like': 277.51, 'temp_min': 277.51, 'temp_max': 277.51, 'pressure': 1015, 'sea_level': 1015, 'grnd_level': 963, 'humidity': 83, 'temp_kf': 0}, 'weather': [{'id': 804, 'main': 'Clouds', 'description': 'overcast clouds', 'icon': '04d'}], 'clouds': {'all': 100}, 'wind': {'speed': 0.68, 'deg': 159, 'gust': 1.03}, 'visibility': 10000, 'pop': 0.69, 'sys': {'pod': 'd'}, 'dt_txt': '2024-10-15 12:00:00'}, {'dt': 1729004400, 'main': {'temp': 276.23, 'feels_like': 276.23, 'temp_min': 276.23, 'temp_max': 276.23, 'pressure': 1014, 'sea_level': 1014, 'grnd_level': 962, 'humidity': 99, 'temp_kf': 0}, 'weather': [{'id': 601, 'main': 'Snow', 'description': 'snow', 'icon': '13d'}], 'clouds': {'all': 100}, 'wind': {'speed': 0.97, 'deg': 138, 'gust': 1.05}, 'visibility': 179, 'pop': 1, 'snow': {'3h': 2.05}, 'sys': {'pod': 'd'}, 'dt_txt': '2024-10-15 15:00:00'}, {'dt': 1729015200, 'main': {'temp': 275.97, 'feels_like': 275.97, 'temp_min': 275.97, 'temp_max': 275.97, 'pressure': 1015, 'sea_level': 1015, 'grnd_level': 962, 'humidity': 99, 'temp_kf': 0}, 'weather': [{'id': 601, 'main': 'Snow', 'description': 'snow', 'icon': '13n'}], 'clouds': {'all': 100}, 'wind': {'speed': 0.47, 'deg': 132, 'gust': 0.68}, 'visibility': 51, 'pop': 1, 'snow': {'3h': 2.33}, 'sys': {'pod': 'n'}, 'dt_txt': '2024-10-15 18:00:00'}, {'dt': 1729026000, 'main': {'temp': 276.2, 'feels_like': 276.2, 'temp_min': 276.2, 'temp_max': 276.2, 'pressure': 1015, 'sea_level': 1015, 'grnd_level': 963, 'humidity': 99, 'temp_kf': 0}, 'weather': [{'id': 601, 'main': 'Snow', 'description': 'snow', 'icon': '13n'}], 'clouds': {'all': 100}, 'wind': {'speed': 0.15, 'deg': 169, 'gust': 0.37}, 'visibility': 26, 'pop': 1, 'snow': {'3h': 1.51}, 'sys': {'pod': 'n'}, 'dt_txt': '2024-10-15 21:00:00'}, {'dt': 1729036800, 'main': {'temp': 276.63, 'feels_like': 276.63, 'temp_min': 276.63, 'temp_max': 276.63, 'pressure': 1016, 'sea_level': 1016, 'grnd_level': 963, 'humidity': 100, 'temp_kf': 0}, 'weather': [{'id': 601, 'main': 'Snow', 'description': 'snow', 'icon': '13n'}], 'clouds': {'all': 100}, 'wind': {'speed': 0.71, 'deg': 223, 'gust': 0.59}, 'visibility': 279, 'pop': 1, 'snow': {'3h': 6.35}, 'sys': {'pod': 'n'}, 'dt_txt': '2024-10-16 00:00:00'}, {'dt': 1729047600, 'main': {'temp': 277.23, 'feels_like': 277.23, 'temp_min': 277.23, 'temp_max': 277.23, 'pressure': 1016, 'sea_level': 1016, 'grnd_level': 964, 'humidity': 100, 'temp_kf': 0}, 'weather': [{'id': 501, 'main': 'Rain', 'description': 'moderate rain', 'icon': '10n'}], 'clouds': {'all': 100}, 'wind': {'speed': 0.46, 'deg': 167, 'gust': 0.36}, 'visibility': 166, 'pop': 1, 'rain': {'3h': 9.04}, 'sys': {'pod': 'n'}, 'dt_txt': '2024-10-16 03:00:00'}, {'dt': 1729058400, 'main': {'temp': 278.42, 'feels_like': 277.5, 'temp_min': 278.42, 'temp_max': 278.42, 'pressure': 1016, 'sea_level': 1016, 'grnd_level': 964, 'humidity': 100, 'temp_kf': 0}, 'weather': [{'id': 501, 'main': 'Rain', 'description': 'moderate rain', 'icon': '10n'}], 'clouds': {'all': 100}, 'wind': {'speed': 1.43, 'deg': 195, 'gust': 1.16}, 'visibility': 71, 'pop': 1, 'rain': {'3h': 4.41}, 'sys': {'pod': 'n'}, 'dt_txt': '2024-10-16 06:00:00'}, {'dt': 1729069200, 'main': {'temp': 279.09, 'feels_like': 277.41, 'temp_min': 279.09, 'temp_max': 279.09, 'pressure': 1017, 'sea_level': 1017, 'grnd_level': 966, 'humidity': 100, 'temp_kf': 0}, 'weather': [{'id': 500, 'main': 'Rain', 'description': 'light rain', 'icon': '10d'}], 'clouds': {'all': 100}, 'wind': {'speed': 2.22, 'deg': 206, 'gust': 2.07}, 'visibility': 64, 'pop': 1, 'rain': {'3h': 1.07}, 'sys': {'pod': 'd'}, 'dt_txt': '2024-10-16 09:00:00'}, {'dt': 1729080000, 'main': {'temp': 278.99, 'feels_like': 277.73, 'temp_min': 278.99, 'temp_max': 278.99, 'pressure': 1018, 'sea_level': 1018, 'grnd_level': 967, 'humidity': 100, 'temp_kf': 0}, 'weather': [{'id': 500, 'main': 'Rain', 'description': 'light rain', 'icon': '10d'}], 'clouds': {'all': 100}, 'wind': {'speed': 1.78, 'deg': 202, 'gust': 1.78}, 'visibility': 62, 'pop': 1, 'rain': {'3h': 0.36}, 'sys': {'pod': 'd'}, 'dt_txt': '2024-10-16 12:00:00'}, {'dt': 1729090800, 'main': {'temp': 278.67, 'feels_like': 278.67, 'temp_min': 278.67, 'temp_max': 278.67, 'pressure': 1019, 'sea_level': 1019, 'grnd_level': 967, 'humidity': 100, 'temp_kf': 0}, 'weather': [{'id': 804, 'main': 'Clouds', 'description': 'overcast clouds', 'icon': '04d'}], 'clouds': {'all': 100}, 'wind': {'speed': 0.79, 'deg': 111, 'gust': 0.74}, 'visibility': 31, 'pop': 0, 'sys': {'pod': 'd'}, 'dt_txt': '2024-10-16 15:00:00'}, {'dt': 1729101600, 'main': {'temp': 278.02, 'feels_like': 276.72, 'temp_min': 278.02, 'temp_max': 278.02, 'pressure': 1019, 'sea_level': 1019, 'grnd_level': 967, 'humidity': 98, 'temp_kf': 0}, 'weather': [{'id': 804, 'main': 'Clouds', 'description': 'overcast clouds', 'icon': '04n'}], 'clouds': {'all': 100}, 'wind': {'speed': 1.68, 'deg': 86, 'gust': 1.31}, 'visibility': 10000, 'pop': 0, 'sys': {'pod': 'n'}, 'dt_txt': '2024-10-16 18:00:00'}, {'dt': 1729112400, 'main': {'temp': 277.65, 'feels_like': 275.48, 'temp_min': 277.65, 'temp_max': 277.65, 'pressure': 1018, 'sea_level': 1018, 'grnd_level': 966, 'humidity': 90, 'temp_kf': 0}, 'weather': [{'id': 804, 'main': 'Clouds', 'description': 'overcast clouds', 'icon': '04n'}], 'clouds': {'all': 91}, 'wind': {'speed': 2.48, 'deg': 84, 'gust': 2.21}, 'visibility': 10000, 'pop': 0, 'sys': {'pod': 'n'}, 'dt_txt': '2024-10-16 21:00:00'}, {'dt': 1729123200, 'main': {'temp': 276.17, 'feels_like': 273.89, 'temp_min': 276.17, 'temp_max': 276.17, 'pressure': 1017, 'sea_level': 1017, 'grnd_level': 965, 'humidity': 86, 'temp_kf': 0}, 'weather': [{'id': 804, 'main': 'Clouds', 'description': 'overcast clouds', 'icon': '04n'}], 'clouds': {'all': 95}, 'wind': {'speed': 2.31, 'deg': 65, 'gust': 2.04}, 'visibility': 10000, 'pop': 0, 'sys': {'pod': 'n'}, 'dt_txt': '2024-10-17 00:00:00'}, {'dt': 1729134000, 'main': {'temp': 276.22, 'feels_like': 273.93, 'temp_min': 276.22, 'temp_max': 276.22, 'pressure': 1015, 'sea_level': 1015, 'grnd_level': 963, 'humidity': 80, 'temp_kf': 0}, 'weather': [{'id': 804, 'main': 'Clouds', 'description': 'overcast clouds', 'icon': '04n'}], 'clouds': {'all': 100}, 'wind': {'speed': 2.33, 'deg': 68, 'gust': 2.14}, 'visibility': 10000, 'pop': 0, 'sys': {'pod': 'n'}, 'dt_txt': '2024-10-17 03:00:00'}, {'dt': 1729144800, 'main': {'temp': 278.29, 'feels_like': 278.29, 'temp_min': 278.29, 'temp_max': 278.29, 'pressure': 1013, 'sea_level': 1013, 'grnd_level': 961, 'humidity': 81, 'temp_kf': 0}, 'weather': [{'id': 804, 'main': 'Clouds', 'description': 'overcast clouds', 'icon': '04n'}], 'clouds': {'all': 100}, 'wind': {'speed': 1.14, 'deg': 97, 'gust': 0.89}, 'visibility': 10000, 'pop': 0, 'sys': {'pod': 'n'}, 'dt_txt': '2024-10-17 06:00:00'}, {'dt': 1729155600, 'main': {'temp': 279.7, 'feels_like': 279.7, 'temp_min': 279.7, 'temp_max': 279.7, 'pressure': 1012, 'sea_level': 1012, 'grnd_level': 960, 'humidity': 80, 'temp_kf': 0}, 'weather': [{'id': 804, 'main': 'Clouds', 'description': 'overcast clouds', 'icon': '04d'}], 'clouds': {'all': 100}, 'wind': {'speed': 1.26, 'deg': 87, 'gust': 0.76}, 'visibility': 10000, 'pop': 0, 'sys': {'pod': 'd'}, 'dt_txt': '2024-10-17 09:00:00'}, {'dt': 1729166400, 'main': {'temp': 280.44, 'feels_like': 278.91, 'temp_min': 280.44, 'temp_max': 280.44, 'pressure': 1011, 'sea_level': 1011, 'grnd_level': 959, 'humidity': 79, 'temp_kf': 0}, 'weather': [{'id': 804, 'main': 'Clouds', 'description': 'overcast clouds', 'icon': '04d'}], 'clouds': {'all': 100}, 'wind': {'speed': 2.32, 'deg': 60, 'gust': 1.75}, 'visibility': 10000, 'pop': 0, 'sys': {'pod': 'd'}, 'dt_txt': '2024-10-17 12:00:00'}, {'dt': 1729177200, 'main': {'temp': 278.94, 'feels_like': 277.28, 'temp_min': 278.94, 'temp_max': 278.94, 'pressure': 1009, 'sea_level': 1009, 'grnd_level': 958, 'humidity': 76, 'temp_kf': 0}, 'weather': [{'id': 804, 'main': 'Clouds', 'description': 'overcast clouds', 'icon': '04d'}], 'clouds': {'all': 100}, 'wind': {'speed': 2.16, 'deg': 51, 'gust': 1.8}, 'visibility': 10000, 'pop': 0, 'sys': {'pod': 'd'}, 'dt_txt': '2024-10-17 15:00:00'}, {'dt': 1729188000, 'main': {'temp': 277.53, 'feels_like': 277.53, 'temp_min': 277.53, 'temp_max': 277.53, 'pressure': 1010, 'sea_level': 1010, 'grnd_level': 959, 'humidity': 79, 'temp_kf': 0}, 'weather': [{'id': 804, 'main': 'Clouds', 'description': 'overcast clouds', 'icon': '04n'}], 'clouds': {'all': 100}, 'wind': {'speed': 0.82, 'deg': 206, 'gust': 1.12}, 'visibility': 10000, 'pop': 0, 'sys': {'pod': 'n'}, 'dt_txt': '2024-10-17 18:00:00'}, {'dt': 1729198800, 'main': {'temp': 278.91, 'feels_like': 278.91, 'temp_min': 278.91, 'temp_max': 278.91, 'pressure': 1011, 'sea_level': 1011, 'grnd_level': 960, 'humidity': 78, 'temp_kf': 0}, 'weather': [{'id': 804, 'main': 'Clouds', 'description': 'overcast clouds', 'icon': '04n'}], 'clouds': {'all': 100}, 'wind': {'speed': 0.35, 'deg': 229, 'gust': 0.52}, 'visibility': 10000, 'pop': 0, 'sys': {'pod': 'n'}, 'dt_txt': '2024-10-17 21:00:00'}, {'dt': 1729209600, 'main': {'temp': 278.22, 'feels_like': 278.22, 'temp_min': 278.22, 'temp_max': 278.22, 'pressure': 1012, 'sea_level': 1012, 'grnd_level': 960, 'humidity': 90, 'temp_kf': 0}, 'weather': [{'id': 500, 'main': 'Rain', 'description': 'light rain', 'icon': '10n'}], 'clouds': {'all': 100}, 'wind': {'speed': 0.85, 'deg': 308, 'gust': 0.3}, 'visibility': 10000, 'pop': 0.77, 'rain': {'3h': 0.7}, 'sys': {'pod': 'n'}, 'dt_txt': '2024-10-18 00:00:00'}, {'dt': 1729220400, 'main': {'temp': 278.57, 'feels_like': 278.57, 'temp_min': 278.57, 'temp_max': 278.57, 'pressure': 1013, 'sea_level': 1013, 'grnd_level': 961, 'humidity': 96, 'temp_kf': 0}, 'weather': [{'id': 500, 'main': 'Rain', 'description': 'light rain', 'icon': '10n'}], 'clouds': {'all': 100}, 'wind': {'speed': 0.87, 'deg': 265, 'gust': 0.68}, 'visibility': 4162, 'pop': 1, 'rain': {'3h': 1.47}, 'sys': {'pod': 'n'}, 'dt_txt': '2024-10-18 03:00:00'}, {'dt': 1729231200, 'main': {'temp': 279.18, 'feels_like': 279.18, 'temp_min': 279.18, 'temp_max': 279.18, 'pressure': 1015, 'sea_level': 1015, 'grnd_level': 963, 'humidity': 97, 'temp_kf': 0}, 'weather': [{'id': 500, 'main': 'Rain', 'description': 'light rain', 'icon': '10n'}], 'clouds': {'all': 100}, 'wind': {'speed': 0.86, 'deg': 238, 'gust': 1}, 'visibility': 3546, 'pop': 1, 'rain': {'3h': 1.6}, 'sys': {'pod': 'n'}, 'dt_txt': '2024-10-18 06:00:00'}, {'dt': 1729242000, 'main': {'temp': 279.8, 'feels_like': 279.8, 'temp_min': 279.8, 'temp_max': 279.8, 'pressure': 1016, 'sea_level': 1016, 'grnd_level': 964, 'humidity': 97, 'temp_kf': 0}, 'weather': [{'id': 500, 'main': 'Rain', 'description': 'light rain', 'icon': '10d'}], 'clouds': {'all': 100}, 'wind': {'speed': 0.69, 'deg': 208, 'gust': 0.92}, 'visibility': 1958, 'pop': 1, 'rain': {'3h': 0.74}, 'sys': {'pod': 'd'}, 'dt_txt': '2024-10-18 09:00:00'}, {'dt': 1729252800, 'main': {'temp': 279.97, 'feels_like': 279.97, 'temp_min': 279.97, 'temp_max': 279.97, 'pressure': 1017, 'sea_level': 1017, 'grnd_level': 966, 'humidity': 99, 'temp_kf': 0}, 'weather': [{'id': 500, 'main': 'Rain', 'description': 'light rain', 'icon': '10d'}], 'clouds': {'all': 100}, 'wind': {'speed': 0.82, 'deg': 301, 'gust': 0.57}, 'visibility': 360, 'pop': 1, 'rain': {'3h': 0.46}, 'sys': {'pod': 'd'}, 'dt_txt': '2024-10-18 12:00:00'}, {'dt': 1729263600, 'main': {'temp': 280.1, 'feels_like': 279.23, 'temp_min': 280.1, 'temp_max': 280.1, 'pressure': 1018, 'sea_level': 1018, 'grnd_level': 967, 'humidity': 99, 'temp_kf': 0}, 'weather': [{'id': 804, 'main': 'Clouds', 'description': 'overcast clouds', 'icon': '04d'}], 'clouds': {'all': 100}, 'wind': {'speed': 1.58, 'deg': 85, 'gust': 1.43}, 'visibility': 107, 'pop': 0, 'sys': {'pod': 'd'}, 'dt_txt': '2024-10-18 15:00:00'}, {'dt': 1729274400, 'main': {'temp': 279.67, 'feels_like': 278.02, 'temp_min': 279.67, 'temp_max': 279.67, 'pressure': 1018, 'sea_level': 1018, 'grnd_level': 967, 'humidity': 99, 'temp_kf': 0}, 'weather': [{'id': 804, 'main': 'Clouds', 'description': 'overcast clouds', 'icon': '04n'}], 'clouds': {'all': 100}, 'wind': {'speed': 2.3, 'deg': 90, 'gust': 2.59}, 'visibility': 1246, 'pop': 0, 'sys': {'pod': 'n'}, 'dt_txt': '2024-10-18 18:00:00'}, {'dt': 1729285200, 'main': {'temp': 279.28, 'feels_like': 277.32, 'temp_min': 279.28, 'temp_max': 279.28, 'pressure': 1018, 'sea_level': 1018, 'grnd_level': 966, 'humidity': 96, 'temp_kf': 0}, 'weather': [{'id': 804, 'main': 'Clouds', 'description': 'overcast clouds', 'icon': '04n'}], 'clouds': {'all': 100}, 'wind': {'speed': 2.59, 'deg': 71, 'gust': 3.31}, 'visibility': 7253, 'pop': 0, 'sys': {'pod': 'n'}, 'dt_txt': '2024-10-18 21:00:00'}, {'dt': 1729296000, 'main': {'temp': 278.61, 'feels_like': 276.33, 'temp_min': 278.61, 'temp_max': 278.61, 'pressure': 1017, 'sea_level': 1017, 'grnd_level': 965, 'humidity': 94, 'temp_kf': 0}, 'weather': [{'id': 804, 'main': 'Clouds', 'description': 'overcast clouds', 'icon': '04n'}], 'clouds': {'all': 100}, 'wind': {'speed': 2.84, 'deg': 70, 'gust': 2.54}, 'visibility': 10000, 'pop': 0, 'sys': {'pod': 'n'}, 'dt_txt': '2024-10-19 00:00:00'}, {'dt': 1729306800, 'main': {'temp': 278.54, 'feels_like': 276.46, 'temp_min': 278.54, 'temp_max': 278.54, 'pressure': 1016, 'sea_level': 1016, 'grnd_level': 964, 'humidity': 89, 'temp_kf': 0}, 'weather': [{'id': 804, 'main': 'Clouds', 'description': 'overcast clouds', 'icon': '04n'}], 'clouds': {'all': 100}, 'wind': {'speed': 2.56, 'deg': 71, 'gust': 1.85}, 'visibility': 10000, 'pop': 0, 'sys': {'pod': 'n'}, 'dt_txt': '2024-10-19 03:00:00'}, {'dt': 1729317600, 'main': {'temp': 278.57, 'feels_like': 276.9, 'temp_min': 278.57, 'temp_max': 278.57, 'pressure': 1016, 'sea_level': 1016, 'grnd_level': 964, 'humidity': 96, 'temp_kf': 0}, 'weather': [{'id': 804, 'main': 'Clouds', 'description': 'overcast clouds', 'icon': '04n'}], 'clouds': {'all': 100}, 'wind': {'speed': 2.11, 'deg': 92, 'gust': 1.69}, 'visibility': 6017, 'pop': 0, 'sys': {'pod': 'n'}, 'dt_txt': '2024-10-19 06:00:00'}], 'city': {'id': 3145614, 'name': 'Mo i Rana', 'coord': {'lat': 66.3128, 'lon': 14.1428}, 'country': 'NO', 'population': 17853, 'timezone': 7200, 'sunrise': 1728885478, 'sunset': 1728920425}}\""
      ]
     },
     "execution_count": 21,
     "metadata": {},
     "output_type": "execute_result"
    }
   ],
   "source": [
    "# Inspect JSON file\n",
    "forecast.__str__()"
   ]
  },
  {
   "cell_type": "markdown",
   "metadata": {
    "slideshow": {
     "slide_type": "slide"
    }
   },
   "source": [
    "## Raw JSON\n",
    "- A simple, but not very efficient way of storing JSON data is to treat it as a text and save it directly to the database.  \n",
    "- More efficient, with regard to transfer, is to compress the JSON data to a blob first.\n",
    "    - Compression is automatic."
   ]
  },
  {
   "cell_type": "code",
   "execution_count": 22,
   "metadata": {
    "ExecuteTime": {
     "end_time": "2024-08-17T10:25:35.916537Z",
     "start_time": "2024-08-17T10:25:35.799572Z"
    },
    "slideshow": {
     "slide_type": "fragment"
    },
    "tags": []
   },
   "outputs": [
    {
     "data": {
      "text/plain": [
       "<cassandra.cluster.ResultSet at 0x112301010>"
      ]
     },
     "execution_count": 22,
     "metadata": {},
     "output_type": "execute_result"
    }
   ],
   "source": [
    "# Create a new table which treats the whole JSON as a blob, using the city id and the first dt as keys\n",
    "session.set_keyspace('my_first_keyspace')\n",
    "session.execute(\"DROP TABLE IF EXISTS my_first_keyspace.forecast_table;\")\n",
    "session.execute(\"CREATE TABLE IF NOT EXISTS forecast_table (city_id int, dt int, forecast blob, PRIMARY KEY(city_id, dt));\")"
   ]
  },
  {
   "cell_type": "markdown",
   "metadata": {
    "slideshow": {
     "slide_type": "slide"
    }
   },
   "source": [
    "### Insert the forecast data into the table as text blob"
   ]
  },
  {
   "cell_type": "code",
   "execution_count": 23,
   "metadata": {
    "ExecuteTime": {
     "end_time": "2024-08-17T10:25:35.935855Z",
     "start_time": "2024-08-17T10:25:35.917175Z"
    },
    "slideshow": {
     "slide_type": "fragment"
    },
    "tags": []
   },
   "outputs": [
    {
     "data": {
      "text/plain": [
       "<cassandra.cluster.ResultSet at 0x1126eb650>"
      ]
     },
     "execution_count": 23,
     "metadata": {},
     "output_type": "execute_result"
    }
   ],
   "source": [
    "session.execute(\"INSERT INTO forecast_table (city_id, dt, forecast) VALUES (%s, %s, textAsBlob(%s));\", (forecast['city']['id'], forecast['list'][0]['dt'], forecast.__str__()))"
   ]
  },
  {
   "cell_type": "code",
   "execution_count": 24,
   "metadata": {
    "ExecuteTime": {
     "end_time": "2024-08-17T10:25:35.946537Z",
     "start_time": "2024-08-17T10:25:35.938642Z"
    },
    "slideshow": {
     "slide_type": "slide"
    },
    "tags": []
   },
   "outputs": [
    {
     "name": "stdout",
     "output_type": "stream",
     "text": [
      "Row(city_id=3145614, dt=1728896400, forecast=b\"{'cod': '200', 'message': 0, 'cnt': 40, 'list': [{'dt': 1728896400, 'main': {'temp': 277.3, 'feels_like': 275.68, 'temp_min': 276.35, 'temp_max': 277.3, 'pressure': 1011, 'sea_level': 1011, 'grnd_level': 960, 'humidity': 93, 'temp_kf': 0.95}, 'weather': [{'id': 600, 'main': 'Snow', 'description': 'light snow', 'icon': '13d'}], 'clouds': {'all': 83}, 'wind': {'speed': 1.86, 'deg': 251, 'gust': 2.81}, 'visibility': 70, 'pop': 0.28, 'snow': {'3h': 0.18}, 'sys': {'pod': 'd'}, 'dt_txt': '2024-10-14 09:00:00'}, {'dt': 1728907200, 'main': {'temp': 276.9, 'feels_like': 274.81, 'temp_min': 276.46, 'temp_max': 276.9, 'pressure': 1012, 'sea_level': 1012, 'grnd_level': 960, 'humidity': 95, 'temp_kf': 0.44}, 'weather': [{'id': 600, 'main': 'Snow', 'description': 'light snow', 'icon': '13d'}], 'clouds': {'all': 92}, 'wind': {'speed': 2.24, 'deg': 251, 'gust': 2.82}, 'visibility': 410, 'pop': 0.5, 'snow': {'3h': 0.39}, 'sys': {'pod': 'd'}, 'dt_txt': '2024-10-14 12:00:00'}, {'dt': 1728918000, 'main': {'temp': 275.93, 'feels_like': 273.94, 'temp_min': 275.93, 'temp_max': 275.93, 'pressure': 1013, 'sea_level': 1013, 'grnd_level': 960, 'humidity': 97, 'temp_kf': 0}, 'weather': [{'id': 600, 'main': 'Snow', 'description': 'light snow', 'icon': '13d'}], 'clouds': {'all': 100}, 'wind': {'speed': 1.99, 'deg': 227, 'gust': 2.31}, 'visibility': 536, 'pop': 1, 'snow': {'3h': 0.43}, 'sys': {'pod': 'd'}, 'dt_txt': '2024-10-14 15:00:00'}, {'dt': 1728928800, 'main': {'temp': 276.38, 'feels_like': 274.55, 'temp_min': 276.38, 'temp_max': 276.38, 'pressure': 1013, 'sea_level': 1013, 'grnd_level': 961, 'humidity': 99, 'temp_kf': 0}, 'weather': [{'id': 600, 'main': 'Snow', 'description': 'light snow', 'icon': '13n'}], 'clouds': {'all': 100}, 'wind': {'speed': 1.92, 'deg': 225, 'gust': 2.31}, 'visibility': 29, 'pop': 1, 'snow': {'3h': 0.79}, 'sys': {'pod': 'n'}, 'dt_txt': '2024-10-14 18:00:00'}, {'dt': 1728939600, 'main': {'temp': 276.05, 'feels_like': 273.76, 'temp_min': 276.05, 'temp_max': 276.05, 'pressure': 1014, 'sea_level': 1014, 'grnd_level': 962, 'humidity': 98, 'temp_kf': 0}, 'weather': [{'id': 600, 'main': 'Snow', 'description': 'light snow', 'icon': '13n'}], 'clouds': {'all': 100}, 'wind': {'speed': 2.3, 'deg': 216, 'gust': 2.77}, 'visibility': 58, 'pop': 1, 'snow': {'3h': 1}, 'sys': {'pod': 'n'}, 'dt_txt': '2024-10-14 21:00:00'}, {'dt': 1728950400, 'main': {'temp': 276.29, 'feels_like': 273.91, 'temp_min': 276.29, 'temp_max': 276.29, 'pressure': 1015, 'sea_level': 1015, 'grnd_level': 962, 'humidity': 99, 'temp_kf': 0}, 'weather': [{'id': 600, 'main': 'Snow', 'description': 'light snow', 'icon': '13n'}], 'clouds': {'all': 99}, 'wind': {'speed': 2.43, 'deg': 223, 'gust': 3.08}, 'visibility': 168, 'pop': 1, 'snow': {'3h': 1.16}, 'sys': {'pod': 'n'}, 'dt_txt': '2024-10-15 00:00:00'}, {'dt': 1728961200, 'main': {'temp': 276.27, 'feels_like': 274.31, 'temp_min': 276.27, 'temp_max': 276.27, 'pressure': 1015, 'sea_level': 1015, 'grnd_level': 963, 'humidity': 97, 'temp_kf': 0}, 'weather': [{'id': 500, 'main': 'Rain', 'description': 'light rain', 'icon': '10n'}], 'clouds': {'all': 100}, 'wind': {'speed': 2.02, 'deg': 215, 'gust': 2.42}, 'pop': 0.84, 'rain': {'3h': 0.37}, 'sys': {'pod': 'n'}, 'dt_txt': '2024-10-15 03:00:00'}, {'dt': 1728972000, 'main': {'temp': 276.39, 'feels_like': 274.76, 'temp_min': 276.39, 'temp_max': 276.39, 'pressure': 1016, 'sea_level': 1016, 'grnd_level': 964, 'humidity': 97, 'temp_kf': 0}, 'weather': [{'id': 500, 'main': 'Rain', 'description': 'light rain', 'icon': '10n'}], 'clouds': {'all': 100}, 'wind': {'speed': 1.75, 'deg': 208, 'gust': 2.17}, 'pop': 0.95, 'rain': {'3h': 0.81}, 'sys': {'pod': 'n'}, 'dt_txt': '2024-10-15 06:00:00'}, {'dt': 1728982800, 'main': {'temp': 276.86, 'feels_like': 275.8, 'temp_min': 276.86, 'temp_max': 276.86, 'pressure': 1016, 'sea_level': 1016, 'grnd_level': 964, 'humidity': 96, 'temp_kf': 0}, 'weather': [{'id': 500, 'main': 'Rain', 'description': 'light rain', 'icon': '10d'}], 'clouds': {'all': 100}, 'wind': {'speed': 1.38, 'deg': 174, 'gust': 1.46}, 'pop': 0.91, 'rain': {'3h': 0.64}, 'sys': {'pod': 'd'}, 'dt_txt': '2024-10-15 09:00:00'}, {'dt': 1728993600, 'main': {'temp': 277.51, 'feels_like': 277.51, 'temp_min': 277.51, 'temp_max': 277.51, 'pressure': 1015, 'sea_level': 1015, 'grnd_level': 963, 'humidity': 83, 'temp_kf': 0}, 'weather': [{'id': 804, 'main': 'Clouds', 'description': 'overcast clouds', 'icon': '04d'}], 'clouds': {'all': 100}, 'wind': {'speed': 0.68, 'deg': 159, 'gust': 1.03}, 'visibility': 10000, 'pop': 0.69, 'sys': {'pod': 'd'}, 'dt_txt': '2024-10-15 12:00:00'}, {'dt': 1729004400, 'main': {'temp': 276.23, 'feels_like': 276.23, 'temp_min': 276.23, 'temp_max': 276.23, 'pressure': 1014, 'sea_level': 1014, 'grnd_level': 962, 'humidity': 99, 'temp_kf': 0}, 'weather': [{'id': 601, 'main': 'Snow', 'description': 'snow', 'icon': '13d'}], 'clouds': {'all': 100}, 'wind': {'speed': 0.97, 'deg': 138, 'gust': 1.05}, 'visibility': 179, 'pop': 1, 'snow': {'3h': 2.05}, 'sys': {'pod': 'd'}, 'dt_txt': '2024-10-15 15:00:00'}, {'dt': 1729015200, 'main': {'temp': 275.97, 'feels_like': 275.97, 'temp_min': 275.97, 'temp_max': 275.97, 'pressure': 1015, 'sea_level': 1015, 'grnd_level': 962, 'humidity': 99, 'temp_kf': 0}, 'weather': [{'id': 601, 'main': 'Snow', 'description': 'snow', 'icon': '13n'}], 'clouds': {'all': 100}, 'wind': {'speed': 0.47, 'deg': 132, 'gust': 0.68}, 'visibility': 51, 'pop': 1, 'snow': {'3h': 2.33}, 'sys': {'pod': 'n'}, 'dt_txt': '2024-10-15 18:00:00'}, {'dt': 1729026000, 'main': {'temp': 276.2, 'feels_like': 276.2, 'temp_min': 276.2, 'temp_max': 276.2, 'pressure': 1015, 'sea_level': 1015, 'grnd_level': 963, 'humidity': 99, 'temp_kf': 0}, 'weather': [{'id': 601, 'main': 'Snow', 'description': 'snow', 'icon': '13n'}], 'clouds': {'all': 100}, 'wind': {'speed': 0.15, 'deg': 169, 'gust': 0.37}, 'visibility': 26, 'pop': 1, 'snow': {'3h': 1.51}, 'sys': {'pod': 'n'}, 'dt_txt': '2024-10-15 21:00:00'}, {'dt': 1729036800, 'main': {'temp': 276.63, 'feels_like': 276.63, 'temp_min': 276.63, 'temp_max': 276.63, 'pressure': 1016, 'sea_level': 1016, 'grnd_level': 963, 'humidity': 100, 'temp_kf': 0}, 'weather': [{'id': 601, 'main': 'Snow', 'description': 'snow', 'icon': '13n'}], 'clouds': {'all': 100}, 'wind': {'speed': 0.71, 'deg': 223, 'gust': 0.59}, 'visibility': 279, 'pop': 1, 'snow': {'3h': 6.35}, 'sys': {'pod': 'n'}, 'dt_txt': '2024-10-16 00:00:00'}, {'dt': 1729047600, 'main': {'temp': 277.23, 'feels_like': 277.23, 'temp_min': 277.23, 'temp_max': 277.23, 'pressure': 1016, 'sea_level': 1016, 'grnd_level': 964, 'humidity': 100, 'temp_kf': 0}, 'weather': [{'id': 501, 'main': 'Rain', 'description': 'moderate rain', 'icon': '10n'}], 'clouds': {'all': 100}, 'wind': {'speed': 0.46, 'deg': 167, 'gust': 0.36}, 'visibility': 166, 'pop': 1, 'rain': {'3h': 9.04}, 'sys': {'pod': 'n'}, 'dt_txt': '2024-10-16 03:00:00'}, {'dt': 1729058400, 'main': {'temp': 278.42, 'feels_like': 277.5, 'temp_min': 278.42, 'temp_max': 278.42, 'pressure': 1016, 'sea_level': 1016, 'grnd_level': 964, 'humidity': 100, 'temp_kf': 0}, 'weather': [{'id': 501, 'main': 'Rain', 'description': 'moderate rain', 'icon': '10n'}], 'clouds': {'all': 100}, 'wind': {'speed': 1.43, 'deg': 195, 'gust': 1.16}, 'visibility': 71, 'pop': 1, 'rain': {'3h': 4.41}, 'sys': {'pod': 'n'}, 'dt_txt': '2024-10-16 06:00:00'}, {'dt': 1729069200, 'main': {'temp': 279.09, 'feels_like': 277.41, 'temp_min': 279.09, 'temp_max': 279.09, 'pressure': 1017, 'sea_level': 1017, 'grnd_level': 966, 'humidity': 100, 'temp_kf': 0}, 'weather': [{'id': 500, 'main': 'Rain', 'description': 'light rain', 'icon': '10d'}], 'clouds': {'all': 100}, 'wind': {'speed': 2.22, 'deg': 206, 'gust': 2.07}, 'visibility': 64, 'pop': 1, 'rain': {'3h': 1.07}, 'sys': {'pod': 'd'}, 'dt_txt': '2024-10-16 09:00:00'}, {'dt': 1729080000, 'main': {'temp': 278.99, 'feels_like': 277.73, 'temp_min': 278.99, 'temp_max': 278.99, 'pressure': 1018, 'sea_level': 1018, 'grnd_level': 967, 'humidity': 100, 'temp_kf': 0}, 'weather': [{'id': 500, 'main': 'Rain', 'description': 'light rain', 'icon': '10d'}], 'clouds': {'all': 100}, 'wind': {'speed': 1.78, 'deg': 202, 'gust': 1.78}, 'visibility': 62, 'pop': 1, 'rain': {'3h': 0.36}, 'sys': {'pod': 'd'}, 'dt_txt': '2024-10-16 12:00:00'}, {'dt': 1729090800, 'main': {'temp': 278.67, 'feels_like': 278.67, 'temp_min': 278.67, 'temp_max': 278.67, 'pressure': 1019, 'sea_level': 1019, 'grnd_level': 967, 'humidity': 100, 'temp_kf': 0}, 'weather': [{'id': 804, 'main': 'Clouds', 'description': 'overcast clouds', 'icon': '04d'}], 'clouds': {'all': 100}, 'wind': {'speed': 0.79, 'deg': 111, 'gust': 0.74}, 'visibility': 31, 'pop': 0, 'sys': {'pod': 'd'}, 'dt_txt': '2024-10-16 15:00:00'}, {'dt': 1729101600, 'main': {'temp': 278.02, 'feels_like': 276.72, 'temp_min': 278.02, 'temp_max': 278.02, 'pressure': 1019, 'sea_level': 1019, 'grnd_level': 967, 'humidity': 98, 'temp_kf': 0}, 'weather': [{'id': 804, 'main': 'Clouds', 'description': 'overcast clouds', 'icon': '04n'}], 'clouds': {'all': 100}, 'wind': {'speed': 1.68, 'deg': 86, 'gust': 1.31}, 'visibility': 10000, 'pop': 0, 'sys': {'pod': 'n'}, 'dt_txt': '2024-10-16 18:00:00'}, {'dt': 1729112400, 'main': {'temp': 277.65, 'feels_like': 275.48, 'temp_min': 277.65, 'temp_max': 277.65, 'pressure': 1018, 'sea_level': 1018, 'grnd_level': 966, 'humidity': 90, 'temp_kf': 0}, 'weather': [{'id': 804, 'main': 'Clouds', 'description': 'overcast clouds', 'icon': '04n'}], 'clouds': {'all': 91}, 'wind': {'speed': 2.48, 'deg': 84, 'gust': 2.21}, 'visibility': 10000, 'pop': 0, 'sys': {'pod': 'n'}, 'dt_txt': '2024-10-16 21:00:00'}, {'dt': 1729123200, 'main': {'temp': 276.17, 'feels_like': 273.89, 'temp_min': 276.17, 'temp_max': 276.17, 'pressure': 1017, 'sea_level': 1017, 'grnd_level': 965, 'humidity': 86, 'temp_kf': 0}, 'weather': [{'id': 804, 'main': 'Clouds', 'description': 'overcast clouds', 'icon': '04n'}], 'clouds': {'all': 95}, 'wind': {'speed': 2.31, 'deg': 65, 'gust': 2.04}, 'visibility': 10000, 'pop': 0, 'sys': {'pod': 'n'}, 'dt_txt': '2024-10-17 00:00:00'}, {'dt': 1729134000, 'main': {'temp': 276.22, 'feels_like': 273.93, 'temp_min': 276.22, 'temp_max': 276.22, 'pressure': 1015, 'sea_level': 1015, 'grnd_level': 963, 'humidity': 80, 'temp_kf': 0}, 'weather': [{'id': 804, 'main': 'Clouds', 'description': 'overcast clouds', 'icon': '04n'}], 'clouds': {'all': 100}, 'wind': {'speed': 2.33, 'deg': 68, 'gust': 2.14}, 'visibility': 10000, 'pop': 0, 'sys': {'pod': 'n'}, 'dt_txt': '2024-10-17 03:00:00'}, {'dt': 1729144800, 'main': {'temp': 278.29, 'feels_like': 278.29, 'temp_min': 278.29, 'temp_max': 278.29, 'pressure': 1013, 'sea_level': 1013, 'grnd_level': 961, 'humidity': 81, 'temp_kf': 0}, 'weather': [{'id': 804, 'main': 'Clouds', 'description': 'overcast clouds', 'icon': '04n'}], 'clouds': {'all': 100}, 'wind': {'speed': 1.14, 'deg': 97, 'gust': 0.89}, 'visibility': 10000, 'pop': 0, 'sys': {'pod': 'n'}, 'dt_txt': '2024-10-17 06:00:00'}, {'dt': 1729155600, 'main': {'temp': 279.7, 'feels_like': 279.7, 'temp_min': 279.7, 'temp_max': 279.7, 'pressure': 1012, 'sea_level': 1012, 'grnd_level': 960, 'humidity': 80, 'temp_kf': 0}, 'weather': [{'id': 804, 'main': 'Clouds', 'description': 'overcast clouds', 'icon': '04d'}], 'clouds': {'all': 100}, 'wind': {'speed': 1.26, 'deg': 87, 'gust': 0.76}, 'visibility': 10000, 'pop': 0, 'sys': {'pod': 'd'}, 'dt_txt': '2024-10-17 09:00:00'}, {'dt': 1729166400, 'main': {'temp': 280.44, 'feels_like': 278.91, 'temp_min': 280.44, 'temp_max': 280.44, 'pressure': 1011, 'sea_level': 1011, 'grnd_level': 959, 'humidity': 79, 'temp_kf': 0}, 'weather': [{'id': 804, 'main': 'Clouds', 'description': 'overcast clouds', 'icon': '04d'}], 'clouds': {'all': 100}, 'wind': {'speed': 2.32, 'deg': 60, 'gust': 1.75}, 'visibility': 10000, 'pop': 0, 'sys': {'pod': 'd'}, 'dt_txt': '2024-10-17 12:00:00'}, {'dt': 1729177200, 'main': {'temp': 278.94, 'feels_like': 277.28, 'temp_min': 278.94, 'temp_max': 278.94, 'pressure': 1009, 'sea_level': 1009, 'grnd_level': 958, 'humidity': 76, 'temp_kf': 0}, 'weather': [{'id': 804, 'main': 'Clouds', 'description': 'overcast clouds', 'icon': '04d'}], 'clouds': {'all': 100}, 'wind': {'speed': 2.16, 'deg': 51, 'gust': 1.8}, 'visibility': 10000, 'pop': 0, 'sys': {'pod': 'd'}, 'dt_txt': '2024-10-17 15:00:00'}, {'dt': 1729188000, 'main': {'temp': 277.53, 'feels_like': 277.53, 'temp_min': 277.53, 'temp_max': 277.53, 'pressure': 1010, 'sea_level': 1010, 'grnd_level': 959, 'humidity': 79, 'temp_kf': 0}, 'weather': [{'id': 804, 'main': 'Clouds', 'description': 'overcast clouds', 'icon': '04n'}], 'clouds': {'all': 100}, 'wind': {'speed': 0.82, 'deg': 206, 'gust': 1.12}, 'visibility': 10000, 'pop': 0, 'sys': {'pod': 'n'}, 'dt_txt': '2024-10-17 18:00:00'}, {'dt': 1729198800, 'main': {'temp': 278.91, 'feels_like': 278.91, 'temp_min': 278.91, 'temp_max': 278.91, 'pressure': 1011, 'sea_level': 1011, 'grnd_level': 960, 'humidity': 78, 'temp_kf': 0}, 'weather': [{'id': 804, 'main': 'Clouds', 'description': 'overcast clouds', 'icon': '04n'}], 'clouds': {'all': 100}, 'wind': {'speed': 0.35, 'deg': 229, 'gust': 0.52}, 'visibility': 10000, 'pop': 0, 'sys': {'pod': 'n'}, 'dt_txt': '2024-10-17 21:00:00'}, {'dt': 1729209600, 'main': {'temp': 278.22, 'feels_like': 278.22, 'temp_min': 278.22, 'temp_max': 278.22, 'pressure': 1012, 'sea_level': 1012, 'grnd_level': 960, 'humidity': 90, 'temp_kf': 0}, 'weather': [{'id': 500, 'main': 'Rain', 'description': 'light rain', 'icon': '10n'}], 'clouds': {'all': 100}, 'wind': {'speed': 0.85, 'deg': 308, 'gust': 0.3}, 'visibility': 10000, 'pop': 0.77, 'rain': {'3h': 0.7}, 'sys': {'pod': 'n'}, 'dt_txt': '2024-10-18 00:00:00'}, {'dt': 1729220400, 'main': {'temp': 278.57, 'feels_like': 278.57, 'temp_min': 278.57, 'temp_max': 278.57, 'pressure': 1013, 'sea_level': 1013, 'grnd_level': 961, 'humidity': 96, 'temp_kf': 0}, 'weather': [{'id': 500, 'main': 'Rain', 'description': 'light rain', 'icon': '10n'}], 'clouds': {'all': 100}, 'wind': {'speed': 0.87, 'deg': 265, 'gust': 0.68}, 'visibility': 4162, 'pop': 1, 'rain': {'3h': 1.47}, 'sys': {'pod': 'n'}, 'dt_txt': '2024-10-18 03:00:00'}, {'dt': 1729231200, 'main': {'temp': 279.18, 'feels_like': 279.18, 'temp_min': 279.18, 'temp_max': 279.18, 'pressure': 1015, 'sea_level': 1015, 'grnd_level': 963, 'humidity': 97, 'temp_kf': 0}, 'weather': [{'id': 500, 'main': 'Rain', 'description': 'light rain', 'icon': '10n'}], 'clouds': {'all': 100}, 'wind': {'speed': 0.86, 'deg': 238, 'gust': 1}, 'visibility': 3546, 'pop': 1, 'rain': {'3h': 1.6}, 'sys': {'pod': 'n'}, 'dt_txt': '2024-10-18 06:00:00'}, {'dt': 1729242000, 'main': {'temp': 279.8, 'feels_like': 279.8, 'temp_min': 279.8, 'temp_max': 279.8, 'pressure': 1016, 'sea_level': 1016, 'grnd_level': 964, 'humidity': 97, 'temp_kf': 0}, 'weather': [{'id': 500, 'main': 'Rain', 'description': 'light rain', 'icon': '10d'}], 'clouds': {'all': 100}, 'wind': {'speed': 0.69, 'deg': 208, 'gust': 0.92}, 'visibility': 1958, 'pop': 1, 'rain': {'3h': 0.74}, 'sys': {'pod': 'd'}, 'dt_txt': '2024-10-18 09:00:00'}, {'dt': 1729252800, 'main': {'temp': 279.97, 'feels_like': 279.97, 'temp_min': 279.97, 'temp_max': 279.97, 'pressure': 1017, 'sea_level': 1017, 'grnd_level': 966, 'humidity': 99, 'temp_kf': 0}, 'weather': [{'id': 500, 'main': 'Rain', 'description': 'light rain', 'icon': '10d'}], 'clouds': {'all': 100}, 'wind': {'speed': 0.82, 'deg': 301, 'gust': 0.57}, 'visibility': 360, 'pop': 1, 'rain': {'3h': 0.46}, 'sys': {'pod': 'd'}, 'dt_txt': '2024-10-18 12:00:00'}, {'dt': 1729263600, 'main': {'temp': 280.1, 'feels_like': 279.23, 'temp_min': 280.1, 'temp_max': 280.1, 'pressure': 1018, 'sea_level': 1018, 'grnd_level': 967, 'humidity': 99, 'temp_kf': 0}, 'weather': [{'id': 804, 'main': 'Clouds', 'description': 'overcast clouds', 'icon': '04d'}], 'clouds': {'all': 100}, 'wind': {'speed': 1.58, 'deg': 85, 'gust': 1.43}, 'visibility': 107, 'pop': 0, 'sys': {'pod': 'd'}, 'dt_txt': '2024-10-18 15:00:00'}, {'dt': 1729274400, 'main': {'temp': 279.67, 'feels_like': 278.02, 'temp_min': 279.67, 'temp_max': 279.67, 'pressure': 1018, 'sea_level': 1018, 'grnd_level': 967, 'humidity': 99, 'temp_kf': 0}, 'weather': [{'id': 804, 'main': 'Clouds', 'description': 'overcast clouds', 'icon': '04n'}], 'clouds': {'all': 100}, 'wind': {'speed': 2.3, 'deg': 90, 'gust': 2.59}, 'visibility': 1246, 'pop': 0, 'sys': {'pod': 'n'}, 'dt_txt': '2024-10-18 18:00:00'}, {'dt': 1729285200, 'main': {'temp': 279.28, 'feels_like': 277.32, 'temp_min': 279.28, 'temp_max': 279.28, 'pressure': 1018, 'sea_level': 1018, 'grnd_level': 966, 'humidity': 96, 'temp_kf': 0}, 'weather': [{'id': 804, 'main': 'Clouds', 'description': 'overcast clouds', 'icon': '04n'}], 'clouds': {'all': 100}, 'wind': {'speed': 2.59, 'deg': 71, 'gust': 3.31}, 'visibility': 7253, 'pop': 0, 'sys': {'pod': 'n'}, 'dt_txt': '2024-10-18 21:00:00'}, {'dt': 1729296000, 'main': {'temp': 278.61, 'feels_like': 276.33, 'temp_min': 278.61, 'temp_max': 278.61, 'pressure': 1017, 'sea_level': 1017, 'grnd_level': 965, 'humidity': 94, 'temp_kf': 0}, 'weather': [{'id': 804, 'main': 'Clouds', 'description': 'overcast clouds', 'icon': '04n'}], 'clouds': {'all': 100}, 'wind': {'speed': 2.84, 'deg': 70, 'gust': 2.54}, 'visibility': 10000, 'pop': 0, 'sys': {'pod': 'n'}, 'dt_txt': '2024-10-19 00:00:00'}, {'dt': 1729306800, 'main': {'temp': 278.54, 'feels_like': 276.46, 'temp_min': 278.54, 'temp_max': 278.54, 'pressure': 1016, 'sea_level': 1016, 'grnd_level': 964, 'humidity': 89, 'temp_kf': 0}, 'weather': [{'id': 804, 'main': 'Clouds', 'description': 'overcast clouds', 'icon': '04n'}], 'clouds': {'all': 100}, 'wind': {'speed': 2.56, 'deg': 71, 'gust': 1.85}, 'visibility': 10000, 'pop': 0, 'sys': {'pod': 'n'}, 'dt_txt': '2024-10-19 03:00:00'}, {'dt': 1729317600, 'main': {'temp': 278.57, 'feels_like': 276.9, 'temp_min': 278.57, 'temp_max': 278.57, 'pressure': 1016, 'sea_level': 1016, 'grnd_level': 964, 'humidity': 96, 'temp_kf': 0}, 'weather': [{'id': 804, 'main': 'Clouds', 'description': 'overcast clouds', 'icon': '04n'}], 'clouds': {'all': 100}, 'wind': {'speed': 2.11, 'deg': 92, 'gust': 1.69}, 'visibility': 6017, 'pop': 0, 'sys': {'pod': 'n'}, 'dt_txt': '2024-10-19 06:00:00'}], 'city': {'id': 3145614, 'name': 'Mo i Rana', 'coord': {'lat': 66.3128, 'lon': 14.1428}, 'country': 'NO', 'population': 17853, 'timezone': 7200, 'sunrise': 1728885478, 'sunset': 1728920425}}\")\n"
     ]
    }
   ],
   "source": [
    "# Query the data\n",
    "forecast_rows = session.execute(\"SELECT * FROM forecast_table;\")\n",
    "print(forecast_rows.one()) # <- only one row"
   ]
  },
  {
   "cell_type": "markdown",
   "metadata": {
    "slideshow": {
     "slide_type": "slide"
    }
   },
   "source": [
    "```{seealso} Resources\n",
    ":class: tip\n",
    "- [Cassandra webpage](https://cassandra.apache.org/)\n",
    "- [Cassandra Docker file](https://hub.docker.com/_/cassandra)\n",
    "- [UUID functions](https://docs.datastax.com/en/cql-oss/3.3/cql/cql_reference/timeuuid_functions_r.html)\n",
    "- [YouTube: Cassandra in 100 seconds](https://youtu.be/ziq7FUKpCS8?si=WQUdkHFvaBmT0DBo) (2m:26s)\n",
    "- [YouTube: How to use Apache Cassandra in Python](https://youtu.be/qMauZqJH3ZM?si=yKGZ-5cld2BK396Y) (14m:50s)\n",
    "- [YouTube: Cassandra Database Crash Course](https://youtu.be/KZsVSfQVU4I?si=FBCi8qOfCirfVmZk) (19m:47s)\n",
    "```"
   ]
  }
 ],
 "metadata": {
  "celltoolbar": "Slideshow",
  "kernelspec": {
   "display_name": "Python 3 (ipykernel)",
   "language": "python",
   "name": "python3"
  },
  "language_info": {
   "codemirror_mode": {
    "name": "ipython",
    "version": 3
   },
   "file_extension": ".py",
   "mimetype": "text/x-python",
   "name": "python",
   "nbconvert_exporter": "python",
   "pygments_lexer": "ipython3",
   "version": "3.12.4"
  }
 },
 "nbformat": 4,
 "nbformat_minor": 4
}