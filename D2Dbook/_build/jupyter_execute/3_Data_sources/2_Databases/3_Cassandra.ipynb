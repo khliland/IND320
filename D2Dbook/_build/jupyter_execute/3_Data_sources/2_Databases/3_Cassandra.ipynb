{
 "cells": [
  {
   "cell_type": "markdown",
   "metadata": {
    "slideshow": {
     "slide_type": "slide"
    }
   },
   "source": [
    "# Cassandra\n",
    "- A production grade NoSQL database.\n",
    "- Can be distributed across servers, nodes, etc.\n",
    "- Replication of database is supported for high degree of redundancy and speed.\n",
    "- Uses CQL, a subset of SQL for querying.\n",
    "- Works seamlesly together with Spark and its corresponding distributed structure.\n",
    "- Installation of Cassandra is explained in the [Installation chapter](../../7_Appendix/Installation.ipynb)."
   ]
  },
  {
   "cell_type": "markdown",
   "metadata": {
    "slideshow": {
     "slide_type": "slide"
    }
   },
   "source": [
    "## Spinning up a local Cassandra instance\n",
    "In a terminal, first time:  \n",
    "```docker run --name my_cassandra -p 9042:9042 cassandra:latest```  \n",
    "... and later:  \n",
    "```docker start my_cassandra```  \n",
    "  \n",
    ".. or in Docker Desktop:\n",
    "- Run the cassandra docker image with optional settings, opening 9042 port and setting a name.\n",
    "- Later, simply run the container with the name you chose."
   ]
  },
  {
   "cell_type": "markdown",
   "metadata": {
    "slideshow": {
     "slide_type": "slide"
    }
   },
   "source": [
    "<img src=\"https://github.com/khliland/IND320/blob/main/D2Dbook/images/Docker_images.png?raw=TRUE\" width=\"600px\">  "
   ]
  },
  {
   "cell_type": "markdown",
   "metadata": {
    "slideshow": {
     "slide_type": "slide"
    }
   },
   "source": [
    "\n",
    "<img src=\"https://github.com/khliland/IND320/blob/main/D2Dbook/images/Docker_containers.png?raw=TRUE\" width=\"800px\">  "
   ]
  },
  {
   "cell_type": "markdown",
   "metadata": {
    "slideshow": {
     "slide_type": "slide"
    }
   },
   "source": [
    "### Connect to the Cassandra cluster from Python."
   ]
  },
  {
   "cell_type": "code",
   "execution_count": 1,
   "metadata": {
    "ExecuteTime": {
     "end_time": "2024-08-17T10:25:34.787878Z",
     "start_time": "2024-08-17T10:25:34.389367Z"
    },
    "slideshow": {
     "slide_type": "-"
    },
    "tags": []
   },
   "outputs": [],
   "source": [
    "# Connecting to Cassandra\n",
    "from cassandra.cluster import Cluster\n",
    "cluster = Cluster(['localhost'], port=9042)\n",
    "session = cluster.connect()"
   ]
  },
  {
   "cell_type": "markdown",
   "metadata": {
    "slideshow": {
     "slide_type": "slide"
    }
   },
   "source": [
    "### Keyspace\n",
    "- In Cassandra database tables are stored in keyspaces (basically a distributed database).\n",
    "- These have parameters controlling their distribution on nodes/servers and redundancy.\n",
    "- We will use the simplest form locally."
   ]
  },
  {
   "cell_type": "code",
   "execution_count": 2,
   "metadata": {
    "ExecuteTime": {
     "end_time": "2024-08-17T10:25:34.798504Z",
     "start_time": "2024-08-17T10:25:34.789786Z"
    },
    "slideshow": {
     "slide_type": "fragment"
    },
    "tags": []
   },
   "outputs": [
    {
     "data": {
      "text/plain": [
       "<cassandra.cluster.ResultSet at 0x111b1dbe0>"
      ]
     },
     "execution_count": 2,
     "metadata": {},
     "output_type": "execute_result"
    }
   ],
   "source": [
    "# Set up new keyspace (first time only)\n",
    "#                                              name of keyspace                        replication strategy           replication factor\n",
    "session.execute(\"CREATE KEYSPACE IF NOT EXISTS my_first_keyspace WITH REPLICATION = { 'class' : 'SimpleStrategy', 'replication_factor' : 1 };\")"
   ]
  },
  {
   "cell_type": "markdown",
   "metadata": {
    "slideshow": {
     "slide_type": "slide"
    }
   },
   "source": [
    "### Create a table\n",
    "- IF NOT EXISTS makes sure we do not overwrite existing tables"
   ]
  },
  {
   "cell_type": "code",
   "execution_count": 3,
   "metadata": {
    "ExecuteTime": {
     "end_time": "2024-08-17T10:25:35.347394Z",
     "start_time": "2024-08-17T10:25:34.800008Z"
    },
    "slideshow": {
     "slide_type": "fragment"
    },
    "tags": []
   },
   "outputs": [
    {
     "data": {
      "text/plain": [
       "<cassandra.cluster.ResultSet at 0x1101a8dd0>"
      ]
     },
     "execution_count": 3,
     "metadata": {},
     "output_type": "execute_result"
    }
   ],
   "source": [
    "# Create a new table (first time only)\n",
    "session.set_keyspace('my_first_keyspace')\n",
    "session.execute(\"DROP TABLE IF EXISTS my_first_keyspace.my_first_table;\") # Starting from scratch every time\n",
    "session.execute(\"CREATE TABLE IF NOT EXISTS my_first_table (ind int PRIMARY KEY, company text, model text);\")"
   ]
  },
  {
   "cell_type": "markdown",
   "metadata": {
    "slideshow": {
     "slide_type": "slide"
    }
   },
   "source": [
    "### Inserting and reading data"
   ]
  },
  {
   "cell_type": "code",
   "execution_count": 4,
   "metadata": {
    "ExecuteTime": {
     "end_time": "2024-08-17T10:25:35.366363Z",
     "start_time": "2024-08-17T10:25:35.350453Z"
    },
    "slideshow": {
     "slide_type": "-"
    },
    "tags": []
   },
   "outputs": [
    {
     "data": {
      "text/plain": [
       "<cassandra.cluster.ResultSet at 0x112c7d160>"
      ]
     },
     "execution_count": 4,
     "metadata": {},
     "output_type": "execute_result"
    }
   ],
   "source": [
    "# Insert some data (ind is the primary key, must be unique)\n",
    "session.execute(\"INSERT INTO my_first_table (ind, company, model) VALUES (1, 'Tesla', 'Model S');\")\n",
    "session.execute(\"INSERT INTO my_first_table (ind, company, model) VALUES (2, 'Tesla', 'Model 3');\")\n",
    "session.execute(\"INSERT INTO my_first_table (ind, company, model) VALUES (3, 'Polestar', '3');\")"
   ]
  },
  {
   "cell_type": "markdown",
   "metadata": {
    "slideshow": {
     "slide_type": "slide"
    }
   },
   "source": [
    "### Asyncronous writing\n",
    "- If your application is very data intensive, waiting for a response is not productive.\n",
    "- Writing asyncronously sends the data but does not pause for reply."
   ]
  },
  {
   "cell_type": "code",
   "execution_count": 5,
   "metadata": {
    "ExecuteTime": {
     "end_time": "2024-08-17T10:25:35.371390Z",
     "start_time": "2024-08-17T10:25:35.367159Z"
    },
    "slideshow": {
     "slide_type": "-"
    },
    "tags": []
   },
   "outputs": [
    {
     "data": {
      "text/plain": [
       "<ResponseFuture: query='<SimpleStatement query=\"INSERT INTO my_first_table (ind, company, model) VALUES (4, 'Volkswagen', 'ID.4');\", consistency=Not Set>' request_id=24 result=(no result yet) exception=None coordinator_host=None>"
      ]
     },
     "execution_count": 5,
     "metadata": {},
     "output_type": "execute_result"
    }
   ],
   "source": [
    "session.execute_async(\"INSERT INTO my_first_table (ind, company, model) VALUES (4, 'Volkswagen', 'ID.4');\")"
   ]
  },
  {
   "cell_type": "code",
   "execution_count": 6,
   "metadata": {
    "ExecuteTime": {
     "end_time": "2024-08-17T10:25:35.384736Z",
     "start_time": "2024-08-17T10:25:35.372551Z"
    },
    "slideshow": {
     "slide_type": "slide"
    },
    "tags": []
   },
   "outputs": [
    {
     "name": "stdout",
     "output_type": "stream",
     "text": [
      "Row(ind=1, company='Tesla', model='Model S')\n",
      "Row(ind=2, company='Tesla', model='Model 3')\n",
      "Row(ind=4, company='Volkswagen', model='ID.4')\n",
      "Row(ind=3, company='Polestar', model='3')\n"
     ]
    }
   ],
   "source": [
    "# Query the data\n",
    "rows = session.execute(\"SELECT * FROM my_first_table;\")\n",
    "for i in rows:\n",
    "    print(i)"
   ]
  },
  {
   "cell_type": "code",
   "execution_count": 7,
   "metadata": {
    "ExecuteTime": {
     "end_time": "2024-08-17T10:25:35.402371Z",
     "start_time": "2024-08-17T10:25:35.386980Z"
    },
    "slideshow": {
     "slide_type": "slide"
    },
    "tags": [
     "raises-exception"
    ]
   },
   "outputs": [
    {
     "name": "stdout",
     "output_type": "stream",
     "text": [
      "Row(ind=1, company='Tesla', model='Model S')\n",
      "Row(ind=2, company='Tesla', model='Model 3')\n"
     ]
    }
   ],
   "source": [
    "# More specific query\n",
    "prepared_statement = session.prepare(\"SELECT * FROM my_first_table WHERE company=? ALLOW FILTERING;\")\n",
    "teslas = session.execute(prepared_statement, ['Tesla'])\n",
    "for i in teslas:\n",
    "    print(i)"
   ]
  },
  {
   "cell_type": "markdown",
   "metadata": {
    "slideshow": {
     "slide_type": "slide"
    }
   },
   "source": [
    "## Cassandra filtering\n",
    "Cassandra is inherently a distributed production database. Selecting as above may require downloading all data from a node, then filtering based on the WHERE part (only PRIMARY KEYs are centrally known). Solutions:  \n",
    "- If the table is small or most of the data will satisfy the query, add ```ALLOW FILTERING``` at the end of the query (not recommended if not known). \n",
    "- Or make sure the WHERE clause points to one of the keys (see below)."
   ]
  },
  {
   "cell_type": "code",
   "execution_count": 8,
   "metadata": {
    "ExecuteTime": {
     "end_time": "2024-08-17T10:25:35.613711Z",
     "start_time": "2024-08-17T10:25:35.403622Z"
    },
    "slideshow": {
     "slide_type": "slide"
    },
    "tags": []
   },
   "outputs": [
    {
     "data": {
      "text/plain": [
       "<cassandra.cluster.ResultSet at 0x112ba0b60>"
      ]
     },
     "execution_count": 8,
     "metadata": {},
     "output_type": "execute_result"
    }
   ],
   "source": [
    "# Create a new table (observe keys)\n",
    "session.execute(\"DROP TABLE IF EXISTS my_first_keyspace.car_table;\")\n",
    "session.execute(\"CREATE TABLE IF NOT EXISTS car_table (company text, model text, PRIMARY KEY(company, model));\")"
   ]
  },
  {
   "cell_type": "code",
   "execution_count": 9,
   "metadata": {
    "ExecuteTime": {
     "end_time": "2024-08-17T10:25:35.628950Z",
     "start_time": "2024-08-17T10:25:35.615126Z"
    },
    "slideshow": {
     "slide_type": "fragment"
    },
    "tags": []
   },
   "outputs": [
    {
     "data": {
      "text/plain": [
       "<cassandra.cluster.ResultSet at 0x112c84680>"
      ]
     },
     "execution_count": 9,
     "metadata": {},
     "output_type": "execute_result"
    }
   ],
   "source": [
    "# Insert some data (combination of company and model must be unique)\n",
    "session.execute(\"INSERT INTO car_table (company, model) VALUES ('Tesla', 'Model S');\")\n",
    "session.execute(\"INSERT INTO car_table (company, model) VALUES ('Tesla', 'Model 3');\")\n",
    "session.execute(\"INSERT INTO car_table (company, model) VALUES ('Polestar', '3');\")\n",
    "session.execute(\"INSERT INTO car_table (company, model) VALUES ('Volkswagen', 'ID.4');\")"
   ]
  },
  {
   "cell_type": "code",
   "execution_count": 10,
   "metadata": {
    "ExecuteTime": {
     "end_time": "2024-08-17T10:25:35.639765Z",
     "start_time": "2024-08-17T10:25:35.630657Z"
    },
    "slideshow": {
     "slide_type": "slide"
    },
    "tags": []
   },
   "outputs": [
    {
     "name": "stdout",
     "output_type": "stream",
     "text": [
      "Row(company='Tesla', model='Model 3')\n",
      "Row(company='Tesla', model='Model S')\n"
     ]
    }
   ],
   "source": [
    "# More specific query now works\n",
    "prepared_statement = session.prepare(\"SELECT * FROM car_table WHERE company=?;\")\n",
    "teslas = session.execute(prepared_statement, ['Tesla'])\n",
    "for i in teslas:\n",
    "    print(i)"
   ]
  },
  {
   "cell_type": "markdown",
   "metadata": {
    "slideshow": {
     "slide_type": "slide"
    }
   },
   "source": [
    "### Partitions\n",
    "- Cassandra databases are usually replicated over different nodes.\n",
    "- Data is stored in partitions (subsets) which have local copys.\n",
    "- The primary key, e.g., PRIMARY KEY(company, model), is used in partitioning.\n",
    "    - The first part, e.g., company, is most important.\n",
    "    - All cars from a company will be located together, aiming for quicker queries."
   ]
  },
  {
   "cell_type": "markdown",
   "metadata": {
    "slideshow": {
     "slide_type": "slide"
    }
   },
   "source": [
    "### Unique IDs \n",
    "- In MySQL one could use the attribute AUTO_INCREMENT on integer IDs to automatically make a new unique index when inserting data.\n",
    "- This would cause unreasonable overhead in a distributed database.\n",
    "- [UUID](https://en.wikipedia.org/wiki/Universally_unique_identifier)s are used instead.\n",
    "    - Universally Unique Identifiers are typically 128-bit random bit sequences with extremely low probability of duplication.\n",
    "    - Cassandra uses a [timeuuid](https://docs.datastax.com/en/cql-oss/3.3/cql/cql_reference/timeuuid_functions_r.html) type to combine a timestamp and uuid in one."
   ]
  },
  {
   "cell_type": "code",
   "execution_count": 11,
   "metadata": {
    "ExecuteTime": {
     "end_time": "2024-08-17T10:25:35.766003Z",
     "start_time": "2024-08-17T10:25:35.640600Z"
    },
    "slideshow": {
     "slide_type": "fragment"
    },
    "tags": []
   },
   "outputs": [
    {
     "data": {
      "text/plain": [
       "<cassandra.cluster.ResultSet at 0x1160c1880>"
      ]
     },
     "execution_count": 11,
     "metadata": {},
     "output_type": "execute_result"
    }
   ],
   "source": [
    "# Create a new table (first time only)\n",
    "session.set_keyspace('my_first_keyspace')\n",
    "session.execute(\"DROP TABLE IF EXISTS my_first_keyspace.table_with_uuid;\")\n",
    "session.execute(\"CREATE TABLE IF NOT EXISTS table_with_uuid (id timeuuid PRIMARY KEY, company text, model text, price float);\")"
   ]
  },
  {
   "cell_type": "code",
   "execution_count": 12,
   "metadata": {
    "ExecuteTime": {
     "end_time": "2024-08-17T10:25:35.784876Z",
     "start_time": "2024-08-17T10:25:35.766619Z"
    },
    "slideshow": {
     "slide_type": "slide"
    },
    "tags": []
   },
   "outputs": [
    {
     "data": {
      "text/plain": [
       "<cassandra.cluster.ResultSet at 0x112c84e00>"
      ]
     },
     "execution_count": 12,
     "metadata": {},
     "output_type": "execute_result"
    }
   ],
   "source": [
    "session.execute(\"INSERT INTO table_with_uuid (id, company, model, price) VALUES (now(), 'Tesla', 'Model S', 20000.0);\")\n",
    "session.execute(\"INSERT INTO table_with_uuid (id, company, model, price) VALUES (now(), 'Tesla', 'Model S', 21000.0);\")\n",
    "session.execute(\"INSERT INTO table_with_uuid (id, company, model, price) VALUES (now(), 'Oldsmobile', 'Model 6C', 135000.0);\")"
   ]
  },
  {
   "cell_type": "code",
   "execution_count": 13,
   "metadata": {
    "ExecuteTime": {
     "end_time": "2024-08-17T10:25:35.792934Z",
     "start_time": "2024-08-17T10:25:35.785467Z"
    },
    "slideshow": {
     "slide_type": "slide"
    },
    "tags": []
   },
   "outputs": [
    {
     "name": "stdout",
     "output_type": "stream",
     "text": [
      "Row(id=UUID('fe4aed30-7735-11ef-9155-03dae1745d7c'), company='Oldsmobile', model='Model 6C', price=135000.0)\n",
      "Datetime: 2024-09-20 09:52:05.507000\n",
      "Row(id=UUID('fe4a7800-7735-11ef-9155-03dae1745d7c'), company='Tesla', model='Model S', price=20000.0)\n",
      "Datetime: 2024-09-20 09:52:05.504000\n",
      "Row(id=UUID('fe4ac620-7735-11ef-9155-03dae1745d7c'), company='Tesla', model='Model S', price=21000.0)\n",
      "Datetime: 2024-09-20 09:52:05.506000\n"
     ]
    }
   ],
   "source": [
    "from cassandra.util import datetime_from_uuid1\n",
    "\n",
    "# Query the data\n",
    "rows = session.execute(\"SELECT * FROM table_with_uuid;\")\n",
    "for i in rows:\n",
    "    print(i)\n",
    "    # Extract the timestamp from Cassandra's timeuuid\n",
    "    print(\"Datetime:\", datetime_from_uuid1(i.id))"
   ]
  },
  {
   "cell_type": "markdown",
   "metadata": {
    "slideshow": {
     "slide_type": "slide"
    }
   },
   "source": [
    "## JSON in Cassandra\n",
    "### Read previously saved JSON file forecast.json to memory"
   ]
  },
  {
   "cell_type": "code",
   "execution_count": 14,
   "metadata": {
    "ExecuteTime": {
     "end_time": "2024-08-17T10:25:35.796049Z",
     "start_time": "2024-08-17T10:25:35.793437Z"
    },
    "slideshow": {
     "slide_type": "-"
    },
    "tags": []
   },
   "outputs": [],
   "source": [
    "import json\n",
    "with open('../3_APIs/downloads/forecast.json', 'r') as f:\n",
    "    forecast = json.load(f)"
   ]
  },
  {
   "cell_type": "code",
   "execution_count": 15,
   "metadata": {
    "ExecuteTime": {
     "end_time": "2024-08-17T10:25:35.799114Z",
     "start_time": "2024-08-17T10:25:35.796532Z"
    },
    "slideshow": {
     "slide_type": "slide"
    },
    "tags": []
   },
   "outputs": [
    {
     "data": {
      "text/plain": [
       "\"{'cod': '200', 'message': 0, 'cnt': 40, 'list': [{'dt': 1726239600, 'main': {'temp': 285.98, 'feels_like': 284.68, 'temp_min': 285.98, 'temp_max': 287.91, 'pressure': 1017, 'sea_level': 1017, 'grnd_level': 961, 'humidity': 52, 'temp_kf': -1.93}, 'weather': [{'id': 800, 'main': 'Clear', 'description': 'clear sky', 'icon': '01d'}], 'clouds': {'all': 6}, 'wind': {'speed': 0.77, 'deg': 151, 'gust': 2.39}, 'visibility': 10000, 'pop': 0, 'sys': {'pod': 'd'}, 'dt_txt': '2024-09-13 15:00:00'}, {'dt': 1726250400, 'main': {'temp': 284.5, 'feels_like': 283.15, 'temp_min': 281.53, 'temp_max': 284.5, 'pressure': 1018, 'sea_level': 1018, 'grnd_level': 962, 'humidity': 56, 'temp_kf': 2.97}, 'weather': [{'id': 800, 'main': 'Clear', 'description': 'clear sky', 'icon': '01n'}], 'clouds': {'all': 9}, 'wind': {'speed': 1.19, 'deg': 305, 'gust': 0.97}, 'visibility': 10000, 'pop': 0, 'sys': {'pod': 'n'}, 'dt_txt': '2024-09-13 18:00:00'}, {'dt': 1726261200, 'main': {'temp': 281.55, 'feels_like': 280.18, 'temp_min': 279.33, 'temp_max': 281.55, 'pressure': 1021, 'sea_level': 1021, 'grnd_level': 964, 'humidity': 62, 'temp_kf': 2.22}, 'weather': [{'id': 800, 'main': 'Clear', 'description': 'clear sky', 'icon': '01n'}], 'clouds': {'all': 6}, 'wind': {'speed': 2.37, 'deg': 300, 'gust': 2.35}, 'visibility': 10000, 'pop': 0, 'sys': {'pod': 'n'}, 'dt_txt': '2024-09-13 21:00:00'}, {'dt': 1726272000, 'main': {'temp': 277.96, 'feels_like': 276.14, 'temp_min': 277.96, 'temp_max': 277.96, 'pressure': 1024, 'sea_level': 1024, 'grnd_level': 965, 'humidity': 70, 'temp_kf': 0}, 'weather': [{'id': 800, 'main': 'Clear', 'description': 'clear sky', 'icon': '01n'}], 'clouds': {'all': 3}, 'wind': {'speed': 2.16, 'deg': 303, 'gust': 2.12}, 'visibility': 10000, 'pop': 0, 'sys': {'pod': 'n'}, 'dt_txt': '2024-09-14 00:00:00'}, {'dt': 1726282800, 'main': {'temp': 276.92, 'feels_like': 274.77, 'temp_min': 276.92, 'temp_max': 276.92, 'pressure': 1025, 'sea_level': 1025, 'grnd_level': 966, 'humidity': 74, 'temp_kf': 0}, 'weather': [{'id': 800, 'main': 'Clear', 'description': 'clear sky', 'icon': '01n'}], 'clouds': {'all': 0}, 'wind': {'speed': 2.31, 'deg': 311, 'gust': 2.43}, 'visibility': 10000, 'pop': 0, 'sys': {'pod': 'n'}, 'dt_txt': '2024-09-14 03:00:00'}, {'dt': 1726293600, 'main': {'temp': 277.98, 'feels_like': 276.47, 'temp_min': 277.98, 'temp_max': 277.98, 'pressure': 1026, 'sea_level': 1026, 'grnd_level': 967, 'humidity': 71, 'temp_kf': 0}, 'weather': [{'id': 800, 'main': 'Clear', 'description': 'clear sky', 'icon': '01d'}], 'clouds': {'all': 0}, 'wind': {'speed': 1.86, 'deg': 318, 'gust': 3.02}, 'visibility': 10000, 'pop': 0, 'sys': {'pod': 'd'}, 'dt_txt': '2024-09-14 06:00:00'}, {'dt': 1726304400, 'main': {'temp': 285.25, 'feels_like': 283.69, 'temp_min': 285.25, 'temp_max': 285.25, 'pressure': 1025, 'sea_level': 1025, 'grnd_level': 968, 'humidity': 45, 'temp_kf': 0}, 'weather': [{'id': 800, 'main': 'Clear', 'description': 'clear sky', 'icon': '01d'}], 'clouds': {'all': 9}, 'wind': {'speed': 0.88, 'deg': 44, 'gust': 1.25}, 'visibility': 10000, 'pop': 0, 'sys': {'pod': 'd'}, 'dt_txt': '2024-09-14 09:00:00'}, {'dt': 1726315200, 'main': {'temp': 287.57, 'feels_like': 286.06, 'temp_min': 287.57, 'temp_max': 287.57, 'pressure': 1025, 'sea_level': 1025, 'grnd_level': 967, 'humidity': 38, 'temp_kf': 0}, 'weather': [{'id': 800, 'main': 'Clear', 'description': 'clear sky', 'icon': '01d'}], 'clouds': {'all': 5}, 'wind': {'speed': 1.63, 'deg': 140, 'gust': 1.22}, 'visibility': 10000, 'pop': 0, 'sys': {'pod': 'd'}, 'dt_txt': '2024-09-14 12:00:00'}, {'dt': 1726326000, 'main': {'temp': 287.63, 'feels_like': 286.18, 'temp_min': 287.63, 'temp_max': 287.63, 'pressure': 1024, 'sea_level': 1024, 'grnd_level': 967, 'humidity': 40, 'temp_kf': 0}, 'weather': [{'id': 800, 'main': 'Clear', 'description': 'clear sky', 'icon': '01d'}], 'clouds': {'all': 4}, 'wind': {'speed': 1.57, 'deg': 164, 'gust': 2.02}, 'visibility': 10000, 'pop': 0, 'sys': {'pod': 'd'}, 'dt_txt': '2024-09-14 15:00:00'}, {'dt': 1726336800, 'main': {'temp': 281.56, 'feels_like': 281.56, 'temp_min': 281.56, 'temp_max': 281.56, 'pressure': 1025, 'sea_level': 1025, 'grnd_level': 967, 'humidity': 65, 'temp_kf': 0}, 'weather': [{'id': 801, 'main': 'Clouds', 'description': 'few clouds', 'icon': '02n'}], 'clouds': {'all': 23}, 'wind': {'speed': 0.28, 'deg': 289, 'gust': 0.2}, 'visibility': 10000, 'pop': 0, 'sys': {'pod': 'n'}, 'dt_txt': '2024-09-14 18:00:00'}, {'dt': 1726347600, 'main': {'temp': 280.28, 'feels_like': 280.28, 'temp_min': 280.28, 'temp_max': 280.28, 'pressure': 1026, 'sea_level': 1026, 'grnd_level': 967, 'humidity': 70, 'temp_kf': 0}, 'weather': [{'id': 803, 'main': 'Clouds', 'description': 'broken clouds', 'icon': '04n'}], 'clouds': {'all': 80}, 'wind': {'speed': 1.09, 'deg': 298, 'gust': 0.79}, 'visibility': 10000, 'pop': 0, 'sys': {'pod': 'n'}, 'dt_txt': '2024-09-14 21:00:00'}, {'dt': 1726358400, 'main': {'temp': 280.42, 'feels_like': 280.42, 'temp_min': 280.42, 'temp_max': 280.42, 'pressure': 1025, 'sea_level': 1025, 'grnd_level': 966, 'humidity': 70, 'temp_kf': 0}, 'weather': [{'id': 804, 'main': 'Clouds', 'description': 'overcast clouds', 'icon': '04n'}], 'clouds': {'all': 90}, 'wind': {'speed': 0.82, 'deg': 285, 'gust': 0.74}, 'visibility': 10000, 'pop': 0, 'sys': {'pod': 'n'}, 'dt_txt': '2024-09-15 00:00:00'}, {'dt': 1726369200, 'main': {'temp': 280.22, 'feels_like': 280.22, 'temp_min': 280.22, 'temp_max': 280.22, 'pressure': 1024, 'sea_level': 1024, 'grnd_level': 966, 'humidity': 70, 'temp_kf': 0}, 'weather': [{'id': 804, 'main': 'Clouds', 'description': 'overcast clouds', 'icon': '04n'}], 'clouds': {'all': 100}, 'wind': {'speed': 0.34, 'deg': 297, 'gust': 0.27}, 'visibility': 10000, 'pop': 0, 'sys': {'pod': 'n'}, 'dt_txt': '2024-09-15 03:00:00'}, {'dt': 1726380000, 'main': {'temp': 280.52, 'feels_like': 280.52, 'temp_min': 280.52, 'temp_max': 280.52, 'pressure': 1024, 'sea_level': 1024, 'grnd_level': 965, 'humidity': 70, 'temp_kf': 0}, 'weather': [{'id': 804, 'main': 'Clouds', 'description': 'overcast clouds', 'icon': '04d'}], 'clouds': {'all': 87}, 'wind': {'speed': 0.65, 'deg': 285, 'gust': 0.62}, 'visibility': 10000, 'pop': 0, 'sys': {'pod': 'd'}, 'dt_txt': '2024-09-15 06:00:00'}, {'dt': 1726390800, 'main': {'temp': 286.19, 'feels_like': 284.93, 'temp_min': 286.19, 'temp_max': 286.19, 'pressure': 1023, 'sea_level': 1023, 'grnd_level': 965, 'humidity': 53, 'temp_kf': 0}, 'weather': [{'id': 801, 'main': 'Clouds', 'description': 'few clouds', 'icon': '02d'}], 'clouds': {'all': 12}, 'wind': {'speed': 1.73, 'deg': 146, 'gust': 1.63}, 'visibility': 10000, 'pop': 0, 'sys': {'pod': 'd'}, 'dt_txt': '2024-09-15 09:00:00'}, {'dt': 1726401600, 'main': {'temp': 289.69, 'feels_like': 288.73, 'temp_min': 289.69, 'temp_max': 289.69, 'pressure': 1021, 'sea_level': 1021, 'grnd_level': 965, 'humidity': 51, 'temp_kf': 0}, 'weather': [{'id': 801, 'main': 'Clouds', 'description': 'few clouds', 'icon': '02d'}], 'clouds': {'all': 12}, 'wind': {'speed': 1.87, 'deg': 156, 'gust': 2.23}, 'visibility': 10000, 'pop': 0, 'sys': {'pod': 'd'}, 'dt_txt': '2024-09-15 12:00:00'}, {'dt': 1726412400, 'main': {'temp': 290.76, 'feels_like': 290.06, 'temp_min': 290.76, 'temp_max': 290.76, 'pressure': 1020, 'sea_level': 1020, 'grnd_level': 964, 'humidity': 57, 'temp_kf': 0}, 'weather': [{'id': 801, 'main': 'Clouds', 'description': 'few clouds', 'icon': '02d'}], 'clouds': {'all': 15}, 'wind': {'speed': 2.18, 'deg': 148, 'gust': 3.02}, 'visibility': 10000, 'pop': 0, 'sys': {'pod': 'd'}, 'dt_txt': '2024-09-15 15:00:00'}, {'dt': 1726423200, 'main': {'temp': 285.98, 'feels_like': 285.54, 'temp_min': 285.98, 'temp_max': 285.98, 'pressure': 1020, 'sea_level': 1020, 'grnd_level': 963, 'humidity': 85, 'temp_kf': 0}, 'weather': [{'id': 803, 'main': 'Clouds', 'description': 'broken clouds', 'icon': '04n'}], 'clouds': {'all': 56}, 'wind': {'speed': 0.82, 'deg': 123, 'gust': 1.2}, 'visibility': 10000, 'pop': 0, 'sys': {'pod': 'n'}, 'dt_txt': '2024-09-15 18:00:00'}, {'dt': 1726434000, 'main': {'temp': 284.64, 'feels_like': 284.33, 'temp_min': 284.64, 'temp_max': 284.64, 'pressure': 1021, 'sea_level': 1021, 'grnd_level': 963, 'humidity': 95, 'temp_kf': 0}, 'weather': [{'id': 804, 'main': 'Clouds', 'description': 'overcast clouds', 'icon': '04n'}], 'clouds': {'all': 100}, 'wind': {'speed': 0.31, 'deg': 186, 'gust': 0.27}, 'visibility': 10000, 'pop': 0, 'sys': {'pod': 'n'}, 'dt_txt': '2024-09-15 21:00:00'}, {'dt': 1726444800, 'main': {'temp': 284.79, 'feels_like': 284.59, 'temp_min': 284.79, 'temp_max': 284.79, 'pressure': 1021, 'sea_level': 1021, 'grnd_level': 963, 'humidity': 99, 'temp_kf': 0}, 'weather': [{'id': 804, 'main': 'Clouds', 'description': 'overcast clouds', 'icon': '04n'}], 'clouds': {'all': 100}, 'wind': {'speed': 0.87, 'deg': 177, 'gust': 2.41}, 'visibility': 2336, 'pop': 0, 'sys': {'pod': 'n'}, 'dt_txt': '2024-09-16 00:00:00'}, {'dt': 1726455600, 'main': {'temp': 284.45, 'feels_like': 284.22, 'temp_min': 284.45, 'temp_max': 284.45, 'pressure': 1021, 'sea_level': 1021, 'grnd_level': 964, 'humidity': 99, 'temp_kf': 0}, 'weather': [{'id': 804, 'main': 'Clouds', 'description': 'overcast clouds', 'icon': '04n'}], 'clouds': {'all': 100}, 'wind': {'speed': 0.93, 'deg': 225, 'gust': 0.96}, 'visibility': 10000, 'pop': 0, 'sys': {'pod': 'n'}, 'dt_txt': '2024-09-16 03:00:00'}, {'dt': 1726466400, 'main': {'temp': 284.49, 'feels_like': 284.08, 'temp_min': 284.49, 'temp_max': 284.49, 'pressure': 1022, 'sea_level': 1022, 'grnd_level': 965, 'humidity': 92, 'temp_kf': 0}, 'weather': [{'id': 804, 'main': 'Clouds', 'description': 'overcast clouds', 'icon': '04d'}], 'clouds': {'all': 100}, 'wind': {'speed': 1.09, 'deg': 277, 'gust': 1.22}, 'visibility': 10000, 'pop': 0, 'sys': {'pod': 'd'}, 'dt_txt': '2024-09-16 06:00:00'}, {'dt': 1726477200, 'main': {'temp': 289.52, 'feels_like': 288.81, 'temp_min': 289.52, 'temp_max': 289.52, 'pressure': 1023, 'sea_level': 1023, 'grnd_level': 966, 'humidity': 61, 'temp_kf': 0}, 'weather': [{'id': 802, 'main': 'Clouds', 'description': 'scattered clouds', 'icon': '03d'}], 'clouds': {'all': 36}, 'wind': {'speed': 1.32, 'deg': 193, 'gust': 2.47}, 'visibility': 10000, 'pop': 0, 'sys': {'pod': 'd'}, 'dt_txt': '2024-09-16 09:00:00'}, {'dt': 1726488000, 'main': {'temp': 292.55, 'feels_like': 291.59, 'temp_min': 292.55, 'temp_max': 292.55, 'pressure': 1024, 'sea_level': 1024, 'grnd_level': 967, 'humidity': 40, 'temp_kf': 0}, 'weather': [{'id': 801, 'main': 'Clouds', 'description': 'few clouds', 'icon': '02d'}], 'clouds': {'all': 20}, 'wind': {'speed': 1.26, 'deg': 230, 'gust': 2.6}, 'visibility': 10000, 'pop': 0, 'sys': {'pod': 'd'}, 'dt_txt': '2024-09-16 12:00:00'}, {'dt': 1726498800, 'main': {'temp': 292.44, 'feels_like': 291.5, 'temp_min': 292.44, 'temp_max': 292.44, 'pressure': 1024, 'sea_level': 1024, 'grnd_level': 967, 'humidity': 41, 'temp_kf': 0}, 'weather': [{'id': 800, 'main': 'Clear', 'description': 'clear sky', 'icon': '01d'}], 'clouds': {'all': 6}, 'wind': {'speed': 1.08, 'deg': 235, 'gust': 2.72}, 'visibility': 10000, 'pop': 0, 'sys': {'pod': 'd'}, 'dt_txt': '2024-09-16 15:00:00'}, {'dt': 1726509600, 'main': {'temp': 285.61, 'feels_like': 284.69, 'temp_min': 285.61, 'temp_max': 285.61, 'pressure': 1026, 'sea_level': 1026, 'grnd_level': 969, 'humidity': 68, 'temp_kf': 0}, 'weather': [{'id': 801, 'main': 'Clouds', 'description': 'few clouds', 'icon': '02n'}], 'clouds': {'all': 18}, 'wind': {'speed': 1.95, 'deg': 298, 'gust': 1.71}, 'visibility': 10000, 'pop': 0, 'sys': {'pod': 'n'}, 'dt_txt': '2024-09-16 18:00:00'}, {'dt': 1726520400, 'main': {'temp': 283.2, 'feels_like': 282.14, 'temp_min': 283.2, 'temp_max': 283.2, 'pressure': 1029, 'sea_level': 1029, 'grnd_level': 971, 'humidity': 72, 'temp_kf': 0}, 'weather': [{'id': 802, 'main': 'Clouds', 'description': 'scattered clouds', 'icon': '03n'}], 'clouds': {'all': 42}, 'wind': {'speed': 1.7, 'deg': 295, 'gust': 1.36}, 'visibility': 10000, 'pop': 0, 'sys': {'pod': 'n'}, 'dt_txt': '2024-09-16 21:00:00'}, {'dt': 1726531200, 'main': {'temp': 282.12, 'feels_like': 281.34, 'temp_min': 282.12, 'temp_max': 282.12, 'pressure': 1030, 'sea_level': 1030, 'grnd_level': 972, 'humidity': 75, 'temp_kf': 0}, 'weather': [{'id': 803, 'main': 'Clouds', 'description': 'broken clouds', 'icon': '04n'}], 'clouds': {'all': 65}, 'wind': {'speed': 1.78, 'deg': 296, 'gust': 1.51}, 'visibility': 10000, 'pop': 0, 'sys': {'pod': 'n'}, 'dt_txt': '2024-09-17 00:00:00'}, {'dt': 1726542000, 'main': {'temp': 281.54, 'feels_like': 280.92, 'temp_min': 281.54, 'temp_max': 281.54, 'pressure': 1031, 'sea_level': 1031, 'grnd_level': 972, 'humidity': 77, 'temp_kf': 0}, 'weather': [{'id': 804, 'main': 'Clouds', 'description': 'overcast clouds', 'icon': '04n'}], 'clouds': {'all': 95}, 'wind': {'speed': 1.54, 'deg': 304, 'gust': 1.36}, 'visibility': 10000, 'pop': 0, 'sys': {'pod': 'n'}, 'dt_txt': '2024-09-17 03:00:00'}, {'dt': 1726552800, 'main': {'temp': 282.69, 'feels_like': 282.69, 'temp_min': 282.69, 'temp_max': 282.69, 'pressure': 1032, 'sea_level': 1032, 'grnd_level': 973, 'humidity': 72, 'temp_kf': 0}, 'weather': [{'id': 804, 'main': 'Clouds', 'description': 'overcast clouds', 'icon': '04d'}], 'clouds': {'all': 98}, 'wind': {'speed': 1.33, 'deg': 310, 'gust': 1.07}, 'visibility': 10000, 'pop': 0, 'sys': {'pod': 'd'}, 'dt_txt': '2024-09-17 06:00:00'}, {'dt': 1726563600, 'main': {'temp': 288.14, 'feels_like': 287.08, 'temp_min': 288.14, 'temp_max': 288.14, 'pressure': 1031, 'sea_level': 1031, 'grnd_level': 974, 'humidity': 53, 'temp_kf': 0}, 'weather': [{'id': 804, 'main': 'Clouds', 'description': 'overcast clouds', 'icon': '04d'}], 'clouds': {'all': 100}, 'wind': {'speed': 0.67, 'deg': 156, 'gust': 0.63}, 'visibility': 10000, 'pop': 0, 'sys': {'pod': 'd'}, 'dt_txt': '2024-09-17 09:00:00'}, {'dt': 1726574400, 'main': {'temp': 290.08, 'feels_like': 289.11, 'temp_min': 290.08, 'temp_max': 290.08, 'pressure': 1031, 'sea_level': 1031, 'grnd_level': 974, 'humidity': 49, 'temp_kf': 0}, 'weather': [{'id': 804, 'main': 'Clouds', 'description': 'overcast clouds', 'icon': '04d'}], 'clouds': {'all': 100}, 'wind': {'speed': 1.83, 'deg': 147, 'gust': 1.77}, 'visibility': 10000, 'pop': 0, 'sys': {'pod': 'd'}, 'dt_txt': '2024-09-17 12:00:00'}, {'dt': 1726585200, 'main': {'temp': 291.1, 'feels_like': 290.31, 'temp_min': 291.1, 'temp_max': 291.1, 'pressure': 1030, 'sea_level': 1030, 'grnd_level': 973, 'humidity': 52, 'temp_kf': 0}, 'weather': [{'id': 803, 'main': 'Clouds', 'description': 'broken clouds', 'icon': '04d'}], 'clouds': {'all': 84}, 'wind': {'speed': 1.9, 'deg': 142, 'gust': 1.88}, 'visibility': 10000, 'pop': 0, 'sys': {'pod': 'd'}, 'dt_txt': '2024-09-17 15:00:00'}, {'dt': 1726596000, 'main': {'temp': 285.75, 'feels_like': 285.05, 'temp_min': 285.75, 'temp_max': 285.75, 'pressure': 1031, 'sea_level': 1031, 'grnd_level': 974, 'humidity': 76, 'temp_kf': 0}, 'weather': [{'id': 804, 'main': 'Clouds', 'description': 'overcast clouds', 'icon': '04n'}], 'clouds': {'all': 92}, 'wind': {'speed': 0.98, 'deg': 301, 'gust': 0.92}, 'visibility': 10000, 'pop': 0, 'sys': {'pod': 'n'}, 'dt_txt': '2024-09-17 18:00:00'}, {'dt': 1726606800, 'main': {'temp': 285.21, 'feels_like': 284.59, 'temp_min': 285.21, 'temp_max': 285.21, 'pressure': 1033, 'sea_level': 1033, 'grnd_level': 975, 'humidity': 81, 'temp_kf': 0}, 'weather': [{'id': 804, 'main': 'Clouds', 'description': 'overcast clouds', 'icon': '04n'}], 'clouds': {'all': 100}, 'wind': {'speed': 1.1, 'deg': 306, 'gust': 0.89}, 'visibility': 10000, 'pop': 0, 'sys': {'pod': 'n'}, 'dt_txt': '2024-09-17 21:00:00'}, {'dt': 1726617600, 'main': {'temp': 284.38, 'feels_like': 283.75, 'temp_min': 284.38, 'temp_max': 284.38, 'pressure': 1033, 'sea_level': 1033, 'grnd_level': 976, 'humidity': 84, 'temp_kf': 0}, 'weather': [{'id': 804, 'main': 'Clouds', 'description': 'overcast clouds', 'icon': '04n'}], 'clouds': {'all': 100}, 'wind': {'speed': 1.53, 'deg': 333, 'gust': 1.4}, 'visibility': 10000, 'pop': 0, 'sys': {'pod': 'n'}, 'dt_txt': '2024-09-18 00:00:00'}, {'dt': 1726628400, 'main': {'temp': 284.38, 'feels_like': 283.7, 'temp_min': 284.38, 'temp_max': 284.38, 'pressure': 1034, 'sea_level': 1034, 'grnd_level': 976, 'humidity': 82, 'temp_kf': 0}, 'weather': [{'id': 804, 'main': 'Clouds', 'description': 'overcast clouds', 'icon': '04n'}], 'clouds': {'all': 100}, 'wind': {'speed': 1.79, 'deg': 333, 'gust': 2.11}, 'visibility': 10000, 'pop': 0, 'sys': {'pod': 'n'}, 'dt_txt': '2024-09-18 03:00:00'}, {'dt': 1726639200, 'main': {'temp': 284.83, 'feels_like': 284.25, 'temp_min': 284.83, 'temp_max': 284.83, 'pressure': 1035, 'sea_level': 1035, 'grnd_level': 977, 'humidity': 84, 'temp_kf': 0}, 'weather': [{'id': 803, 'main': 'Clouds', 'description': 'broken clouds', 'icon': '04d'}], 'clouds': {'all': 64}, 'wind': {'speed': 1.74, 'deg': 333, 'gust': 2.51}, 'visibility': 10000, 'pop': 0, 'sys': {'pod': 'd'}, 'dt_txt': '2024-09-18 06:00:00'}, {'dt': 1726650000, 'main': {'temp': 291.64, 'feels_like': 291.11, 'temp_min': 291.64, 'temp_max': 291.64, 'pressure': 1035, 'sea_level': 1035, 'grnd_level': 978, 'humidity': 60, 'temp_kf': 0}, 'weather': [{'id': 802, 'main': 'Clouds', 'description': 'scattered clouds', 'icon': '03d'}], 'clouds': {'all': 31}, 'wind': {'speed': 0.6, 'deg': 80, 'gust': 0.92}, 'visibility': 10000, 'pop': 0, 'sys': {'pod': 'd'}, 'dt_txt': '2024-09-18 09:00:00'}, {'dt': 1726660800, 'main': {'temp': 294.69, 'feels_like': 294.26, 'temp_min': 294.69, 'temp_max': 294.69, 'pressure': 1035, 'sea_level': 1035, 'grnd_level': 978, 'humidity': 52, 'temp_kf': 0}, 'weather': [{'id': 802, 'main': 'Clouds', 'description': 'scattered clouds', 'icon': '03d'}], 'clouds': {'all': 28}, 'wind': {'speed': 1.35, 'deg': 123, 'gust': 0.96}, 'visibility': 10000, 'pop': 0, 'sys': {'pod': 'd'}, 'dt_txt': '2024-09-18 12:00:00'}], 'city': {'id': 3144113, 'name': 'Noresund', 'coord': {'lat': 60.1803, 'lon': 9.6231}, 'country': 'NO', 'population': 1000, 'timezone': 7200, 'sunrise': 1726202714, 'sunset': 1726249783}}\""
      ]
     },
     "execution_count": 15,
     "metadata": {},
     "output_type": "execute_result"
    }
   ],
   "source": [
    "# Inspect JSON file\n",
    "forecast.__str__()"
   ]
  },
  {
   "cell_type": "markdown",
   "metadata": {
    "slideshow": {
     "slide_type": "slide"
    }
   },
   "source": [
    "## Raw JSON\n",
    "- A simple, but not very efficient way of storing JSON data is to treat it as a text and save it directly to the database.  \n",
    "- More efficient, with regard to transfer, is to compress the JSON data to a blob first.\n",
    "    - Compression is automatic."
   ]
  },
  {
   "cell_type": "code",
   "execution_count": 16,
   "metadata": {
    "ExecuteTime": {
     "end_time": "2024-08-17T10:25:35.916537Z",
     "start_time": "2024-08-17T10:25:35.799572Z"
    },
    "slideshow": {
     "slide_type": "-"
    },
    "tags": []
   },
   "outputs": [
    {
     "data": {
      "text/plain": [
       "<cassandra.cluster.ResultSet at 0x111ee5d00>"
      ]
     },
     "execution_count": 16,
     "metadata": {},
     "output_type": "execute_result"
    }
   ],
   "source": [
    "# Create a new table which treats the whole JSON as a blob, using the city id and the first dt as keys\n",
    "session.set_keyspace('my_first_keyspace')\n",
    "session.execute(\"DROP TABLE IF EXISTS my_first_keyspace.forecast_table;\")\n",
    "session.execute(\"CREATE TABLE IF NOT EXISTS forecast_table (city_id int, dt int, forecast blob, PRIMARY KEY(city_id, dt));\")"
   ]
  },
  {
   "cell_type": "markdown",
   "metadata": {
    "slideshow": {
     "slide_type": "slide"
    }
   },
   "source": [
    "### Insert the forecast data into the table as text blob"
   ]
  },
  {
   "cell_type": "code",
   "execution_count": 17,
   "metadata": {
    "ExecuteTime": {
     "end_time": "2024-08-17T10:25:35.935855Z",
     "start_time": "2024-08-17T10:25:35.917175Z"
    },
    "slideshow": {
     "slide_type": "-"
    },
    "tags": []
   },
   "outputs": [
    {
     "data": {
      "text/plain": [
       "<cassandra.cluster.ResultSet at 0x1101d0e90>"
      ]
     },
     "execution_count": 17,
     "metadata": {},
     "output_type": "execute_result"
    }
   ],
   "source": [
    "session.execute(\"INSERT INTO forecast_table (city_id, dt, forecast) VALUES (%s, %s, textAsBlob(%s));\", (forecast['city']['id'], forecast['list'][0]['dt'], forecast.__str__()))"
   ]
  },
  {
   "cell_type": "code",
   "execution_count": 18,
   "metadata": {
    "ExecuteTime": {
     "end_time": "2024-08-17T10:25:35.946537Z",
     "start_time": "2024-08-17T10:25:35.938642Z"
    },
    "slideshow": {
     "slide_type": "slide"
    },
    "tags": []
   },
   "outputs": [
    {
     "name": "stdout",
     "output_type": "stream",
     "text": [
      "Row(city_id=3144113, dt=1726239600, forecast=b\"{'cod': '200', 'message': 0, 'cnt': 40, 'list': [{'dt': 1726239600, 'main': {'temp': 285.98, 'feels_like': 284.68, 'temp_min': 285.98, 'temp_max': 287.91, 'pressure': 1017, 'sea_level': 1017, 'grnd_level': 961, 'humidity': 52, 'temp_kf': -1.93}, 'weather': [{'id': 800, 'main': 'Clear', 'description': 'clear sky', 'icon': '01d'}], 'clouds': {'all': 6}, 'wind': {'speed': 0.77, 'deg': 151, 'gust': 2.39}, 'visibility': 10000, 'pop': 0, 'sys': {'pod': 'd'}, 'dt_txt': '2024-09-13 15:00:00'}, {'dt': 1726250400, 'main': {'temp': 284.5, 'feels_like': 283.15, 'temp_min': 281.53, 'temp_max': 284.5, 'pressure': 1018, 'sea_level': 1018, 'grnd_level': 962, 'humidity': 56, 'temp_kf': 2.97}, 'weather': [{'id': 800, 'main': 'Clear', 'description': 'clear sky', 'icon': '01n'}], 'clouds': {'all': 9}, 'wind': {'speed': 1.19, 'deg': 305, 'gust': 0.97}, 'visibility': 10000, 'pop': 0, 'sys': {'pod': 'n'}, 'dt_txt': '2024-09-13 18:00:00'}, {'dt': 1726261200, 'main': {'temp': 281.55, 'feels_like': 280.18, 'temp_min': 279.33, 'temp_max': 281.55, 'pressure': 1021, 'sea_level': 1021, 'grnd_level': 964, 'humidity': 62, 'temp_kf': 2.22}, 'weather': [{'id': 800, 'main': 'Clear', 'description': 'clear sky', 'icon': '01n'}], 'clouds': {'all': 6}, 'wind': {'speed': 2.37, 'deg': 300, 'gust': 2.35}, 'visibility': 10000, 'pop': 0, 'sys': {'pod': 'n'}, 'dt_txt': '2024-09-13 21:00:00'}, {'dt': 1726272000, 'main': {'temp': 277.96, 'feels_like': 276.14, 'temp_min': 277.96, 'temp_max': 277.96, 'pressure': 1024, 'sea_level': 1024, 'grnd_level': 965, 'humidity': 70, 'temp_kf': 0}, 'weather': [{'id': 800, 'main': 'Clear', 'description': 'clear sky', 'icon': '01n'}], 'clouds': {'all': 3}, 'wind': {'speed': 2.16, 'deg': 303, 'gust': 2.12}, 'visibility': 10000, 'pop': 0, 'sys': {'pod': 'n'}, 'dt_txt': '2024-09-14 00:00:00'}, {'dt': 1726282800, 'main': {'temp': 276.92, 'feels_like': 274.77, 'temp_min': 276.92, 'temp_max': 276.92, 'pressure': 1025, 'sea_level': 1025, 'grnd_level': 966, 'humidity': 74, 'temp_kf': 0}, 'weather': [{'id': 800, 'main': 'Clear', 'description': 'clear sky', 'icon': '01n'}], 'clouds': {'all': 0}, 'wind': {'speed': 2.31, 'deg': 311, 'gust': 2.43}, 'visibility': 10000, 'pop': 0, 'sys': {'pod': 'n'}, 'dt_txt': '2024-09-14 03:00:00'}, {'dt': 1726293600, 'main': {'temp': 277.98, 'feels_like': 276.47, 'temp_min': 277.98, 'temp_max': 277.98, 'pressure': 1026, 'sea_level': 1026, 'grnd_level': 967, 'humidity': 71, 'temp_kf': 0}, 'weather': [{'id': 800, 'main': 'Clear', 'description': 'clear sky', 'icon': '01d'}], 'clouds': {'all': 0}, 'wind': {'speed': 1.86, 'deg': 318, 'gust': 3.02}, 'visibility': 10000, 'pop': 0, 'sys': {'pod': 'd'}, 'dt_txt': '2024-09-14 06:00:00'}, {'dt': 1726304400, 'main': {'temp': 285.25, 'feels_like': 283.69, 'temp_min': 285.25, 'temp_max': 285.25, 'pressure': 1025, 'sea_level': 1025, 'grnd_level': 968, 'humidity': 45, 'temp_kf': 0}, 'weather': [{'id': 800, 'main': 'Clear', 'description': 'clear sky', 'icon': '01d'}], 'clouds': {'all': 9}, 'wind': {'speed': 0.88, 'deg': 44, 'gust': 1.25}, 'visibility': 10000, 'pop': 0, 'sys': {'pod': 'd'}, 'dt_txt': '2024-09-14 09:00:00'}, {'dt': 1726315200, 'main': {'temp': 287.57, 'feels_like': 286.06, 'temp_min': 287.57, 'temp_max': 287.57, 'pressure': 1025, 'sea_level': 1025, 'grnd_level': 967, 'humidity': 38, 'temp_kf': 0}, 'weather': [{'id': 800, 'main': 'Clear', 'description': 'clear sky', 'icon': '01d'}], 'clouds': {'all': 5}, 'wind': {'speed': 1.63, 'deg': 140, 'gust': 1.22}, 'visibility': 10000, 'pop': 0, 'sys': {'pod': 'd'}, 'dt_txt': '2024-09-14 12:00:00'}, {'dt': 1726326000, 'main': {'temp': 287.63, 'feels_like': 286.18, 'temp_min': 287.63, 'temp_max': 287.63, 'pressure': 1024, 'sea_level': 1024, 'grnd_level': 967, 'humidity': 40, 'temp_kf': 0}, 'weather': [{'id': 800, 'main': 'Clear', 'description': 'clear sky', 'icon': '01d'}], 'clouds': {'all': 4}, 'wind': {'speed': 1.57, 'deg': 164, 'gust': 2.02}, 'visibility': 10000, 'pop': 0, 'sys': {'pod': 'd'}, 'dt_txt': '2024-09-14 15:00:00'}, {'dt': 1726336800, 'main': {'temp': 281.56, 'feels_like': 281.56, 'temp_min': 281.56, 'temp_max': 281.56, 'pressure': 1025, 'sea_level': 1025, 'grnd_level': 967, 'humidity': 65, 'temp_kf': 0}, 'weather': [{'id': 801, 'main': 'Clouds', 'description': 'few clouds', 'icon': '02n'}], 'clouds': {'all': 23}, 'wind': {'speed': 0.28, 'deg': 289, 'gust': 0.2}, 'visibility': 10000, 'pop': 0, 'sys': {'pod': 'n'}, 'dt_txt': '2024-09-14 18:00:00'}, {'dt': 1726347600, 'main': {'temp': 280.28, 'feels_like': 280.28, 'temp_min': 280.28, 'temp_max': 280.28, 'pressure': 1026, 'sea_level': 1026, 'grnd_level': 967, 'humidity': 70, 'temp_kf': 0}, 'weather': [{'id': 803, 'main': 'Clouds', 'description': 'broken clouds', 'icon': '04n'}], 'clouds': {'all': 80}, 'wind': {'speed': 1.09, 'deg': 298, 'gust': 0.79}, 'visibility': 10000, 'pop': 0, 'sys': {'pod': 'n'}, 'dt_txt': '2024-09-14 21:00:00'}, {'dt': 1726358400, 'main': {'temp': 280.42, 'feels_like': 280.42, 'temp_min': 280.42, 'temp_max': 280.42, 'pressure': 1025, 'sea_level': 1025, 'grnd_level': 966, 'humidity': 70, 'temp_kf': 0}, 'weather': [{'id': 804, 'main': 'Clouds', 'description': 'overcast clouds', 'icon': '04n'}], 'clouds': {'all': 90}, 'wind': {'speed': 0.82, 'deg': 285, 'gust': 0.74}, 'visibility': 10000, 'pop': 0, 'sys': {'pod': 'n'}, 'dt_txt': '2024-09-15 00:00:00'}, {'dt': 1726369200, 'main': {'temp': 280.22, 'feels_like': 280.22, 'temp_min': 280.22, 'temp_max': 280.22, 'pressure': 1024, 'sea_level': 1024, 'grnd_level': 966, 'humidity': 70, 'temp_kf': 0}, 'weather': [{'id': 804, 'main': 'Clouds', 'description': 'overcast clouds', 'icon': '04n'}], 'clouds': {'all': 100}, 'wind': {'speed': 0.34, 'deg': 297, 'gust': 0.27}, 'visibility': 10000, 'pop': 0, 'sys': {'pod': 'n'}, 'dt_txt': '2024-09-15 03:00:00'}, {'dt': 1726380000, 'main': {'temp': 280.52, 'feels_like': 280.52, 'temp_min': 280.52, 'temp_max': 280.52, 'pressure': 1024, 'sea_level': 1024, 'grnd_level': 965, 'humidity': 70, 'temp_kf': 0}, 'weather': [{'id': 804, 'main': 'Clouds', 'description': 'overcast clouds', 'icon': '04d'}], 'clouds': {'all': 87}, 'wind': {'speed': 0.65, 'deg': 285, 'gust': 0.62}, 'visibility': 10000, 'pop': 0, 'sys': {'pod': 'd'}, 'dt_txt': '2024-09-15 06:00:00'}, {'dt': 1726390800, 'main': {'temp': 286.19, 'feels_like': 284.93, 'temp_min': 286.19, 'temp_max': 286.19, 'pressure': 1023, 'sea_level': 1023, 'grnd_level': 965, 'humidity': 53, 'temp_kf': 0}, 'weather': [{'id': 801, 'main': 'Clouds', 'description': 'few clouds', 'icon': '02d'}], 'clouds': {'all': 12}, 'wind': {'speed': 1.73, 'deg': 146, 'gust': 1.63}, 'visibility': 10000, 'pop': 0, 'sys': {'pod': 'd'}, 'dt_txt': '2024-09-15 09:00:00'}, {'dt': 1726401600, 'main': {'temp': 289.69, 'feels_like': 288.73, 'temp_min': 289.69, 'temp_max': 289.69, 'pressure': 1021, 'sea_level': 1021, 'grnd_level': 965, 'humidity': 51, 'temp_kf': 0}, 'weather': [{'id': 801, 'main': 'Clouds', 'description': 'few clouds', 'icon': '02d'}], 'clouds': {'all': 12}, 'wind': {'speed': 1.87, 'deg': 156, 'gust': 2.23}, 'visibility': 10000, 'pop': 0, 'sys': {'pod': 'd'}, 'dt_txt': '2024-09-15 12:00:00'}, {'dt': 1726412400, 'main': {'temp': 290.76, 'feels_like': 290.06, 'temp_min': 290.76, 'temp_max': 290.76, 'pressure': 1020, 'sea_level': 1020, 'grnd_level': 964, 'humidity': 57, 'temp_kf': 0}, 'weather': [{'id': 801, 'main': 'Clouds', 'description': 'few clouds', 'icon': '02d'}], 'clouds': {'all': 15}, 'wind': {'speed': 2.18, 'deg': 148, 'gust': 3.02}, 'visibility': 10000, 'pop': 0, 'sys': {'pod': 'd'}, 'dt_txt': '2024-09-15 15:00:00'}, {'dt': 1726423200, 'main': {'temp': 285.98, 'feels_like': 285.54, 'temp_min': 285.98, 'temp_max': 285.98, 'pressure': 1020, 'sea_level': 1020, 'grnd_level': 963, 'humidity': 85, 'temp_kf': 0}, 'weather': [{'id': 803, 'main': 'Clouds', 'description': 'broken clouds', 'icon': '04n'}], 'clouds': {'all': 56}, 'wind': {'speed': 0.82, 'deg': 123, 'gust': 1.2}, 'visibility': 10000, 'pop': 0, 'sys': {'pod': 'n'}, 'dt_txt': '2024-09-15 18:00:00'}, {'dt': 1726434000, 'main': {'temp': 284.64, 'feels_like': 284.33, 'temp_min': 284.64, 'temp_max': 284.64, 'pressure': 1021, 'sea_level': 1021, 'grnd_level': 963, 'humidity': 95, 'temp_kf': 0}, 'weather': [{'id': 804, 'main': 'Clouds', 'description': 'overcast clouds', 'icon': '04n'}], 'clouds': {'all': 100}, 'wind': {'speed': 0.31, 'deg': 186, 'gust': 0.27}, 'visibility': 10000, 'pop': 0, 'sys': {'pod': 'n'}, 'dt_txt': '2024-09-15 21:00:00'}, {'dt': 1726444800, 'main': {'temp': 284.79, 'feels_like': 284.59, 'temp_min': 284.79, 'temp_max': 284.79, 'pressure': 1021, 'sea_level': 1021, 'grnd_level': 963, 'humidity': 99, 'temp_kf': 0}, 'weather': [{'id': 804, 'main': 'Clouds', 'description': 'overcast clouds', 'icon': '04n'}], 'clouds': {'all': 100}, 'wind': {'speed': 0.87, 'deg': 177, 'gust': 2.41}, 'visibility': 2336, 'pop': 0, 'sys': {'pod': 'n'}, 'dt_txt': '2024-09-16 00:00:00'}, {'dt': 1726455600, 'main': {'temp': 284.45, 'feels_like': 284.22, 'temp_min': 284.45, 'temp_max': 284.45, 'pressure': 1021, 'sea_level': 1021, 'grnd_level': 964, 'humidity': 99, 'temp_kf': 0}, 'weather': [{'id': 804, 'main': 'Clouds', 'description': 'overcast clouds', 'icon': '04n'}], 'clouds': {'all': 100}, 'wind': {'speed': 0.93, 'deg': 225, 'gust': 0.96}, 'visibility': 10000, 'pop': 0, 'sys': {'pod': 'n'}, 'dt_txt': '2024-09-16 03:00:00'}, {'dt': 1726466400, 'main': {'temp': 284.49, 'feels_like': 284.08, 'temp_min': 284.49, 'temp_max': 284.49, 'pressure': 1022, 'sea_level': 1022, 'grnd_level': 965, 'humidity': 92, 'temp_kf': 0}, 'weather': [{'id': 804, 'main': 'Clouds', 'description': 'overcast clouds', 'icon': '04d'}], 'clouds': {'all': 100}, 'wind': {'speed': 1.09, 'deg': 277, 'gust': 1.22}, 'visibility': 10000, 'pop': 0, 'sys': {'pod': 'd'}, 'dt_txt': '2024-09-16 06:00:00'}, {'dt': 1726477200, 'main': {'temp': 289.52, 'feels_like': 288.81, 'temp_min': 289.52, 'temp_max': 289.52, 'pressure': 1023, 'sea_level': 1023, 'grnd_level': 966, 'humidity': 61, 'temp_kf': 0}, 'weather': [{'id': 802, 'main': 'Clouds', 'description': 'scattered clouds', 'icon': '03d'}], 'clouds': {'all': 36}, 'wind': {'speed': 1.32, 'deg': 193, 'gust': 2.47}, 'visibility': 10000, 'pop': 0, 'sys': {'pod': 'd'}, 'dt_txt': '2024-09-16 09:00:00'}, {'dt': 1726488000, 'main': {'temp': 292.55, 'feels_like': 291.59, 'temp_min': 292.55, 'temp_max': 292.55, 'pressure': 1024, 'sea_level': 1024, 'grnd_level': 967, 'humidity': 40, 'temp_kf': 0}, 'weather': [{'id': 801, 'main': 'Clouds', 'description': 'few clouds', 'icon': '02d'}], 'clouds': {'all': 20}, 'wind': {'speed': 1.26, 'deg': 230, 'gust': 2.6}, 'visibility': 10000, 'pop': 0, 'sys': {'pod': 'd'}, 'dt_txt': '2024-09-16 12:00:00'}, {'dt': 1726498800, 'main': {'temp': 292.44, 'feels_like': 291.5, 'temp_min': 292.44, 'temp_max': 292.44, 'pressure': 1024, 'sea_level': 1024, 'grnd_level': 967, 'humidity': 41, 'temp_kf': 0}, 'weather': [{'id': 800, 'main': 'Clear', 'description': 'clear sky', 'icon': '01d'}], 'clouds': {'all': 6}, 'wind': {'speed': 1.08, 'deg': 235, 'gust': 2.72}, 'visibility': 10000, 'pop': 0, 'sys': {'pod': 'd'}, 'dt_txt': '2024-09-16 15:00:00'}, {'dt': 1726509600, 'main': {'temp': 285.61, 'feels_like': 284.69, 'temp_min': 285.61, 'temp_max': 285.61, 'pressure': 1026, 'sea_level': 1026, 'grnd_level': 969, 'humidity': 68, 'temp_kf': 0}, 'weather': [{'id': 801, 'main': 'Clouds', 'description': 'few clouds', 'icon': '02n'}], 'clouds': {'all': 18}, 'wind': {'speed': 1.95, 'deg': 298, 'gust': 1.71}, 'visibility': 10000, 'pop': 0, 'sys': {'pod': 'n'}, 'dt_txt': '2024-09-16 18:00:00'}, {'dt': 1726520400, 'main': {'temp': 283.2, 'feels_like': 282.14, 'temp_min': 283.2, 'temp_max': 283.2, 'pressure': 1029, 'sea_level': 1029, 'grnd_level': 971, 'humidity': 72, 'temp_kf': 0}, 'weather': [{'id': 802, 'main': 'Clouds', 'description': 'scattered clouds', 'icon': '03n'}], 'clouds': {'all': 42}, 'wind': {'speed': 1.7, 'deg': 295, 'gust': 1.36}, 'visibility': 10000, 'pop': 0, 'sys': {'pod': 'n'}, 'dt_txt': '2024-09-16 21:00:00'}, {'dt': 1726531200, 'main': {'temp': 282.12, 'feels_like': 281.34, 'temp_min': 282.12, 'temp_max': 282.12, 'pressure': 1030, 'sea_level': 1030, 'grnd_level': 972, 'humidity': 75, 'temp_kf': 0}, 'weather': [{'id': 803, 'main': 'Clouds', 'description': 'broken clouds', 'icon': '04n'}], 'clouds': {'all': 65}, 'wind': {'speed': 1.78, 'deg': 296, 'gust': 1.51}, 'visibility': 10000, 'pop': 0, 'sys': {'pod': 'n'}, 'dt_txt': '2024-09-17 00:00:00'}, {'dt': 1726542000, 'main': {'temp': 281.54, 'feels_like': 280.92, 'temp_min': 281.54, 'temp_max': 281.54, 'pressure': 1031, 'sea_level': 1031, 'grnd_level': 972, 'humidity': 77, 'temp_kf': 0}, 'weather': [{'id': 804, 'main': 'Clouds', 'description': 'overcast clouds', 'icon': '04n'}], 'clouds': {'all': 95}, 'wind': {'speed': 1.54, 'deg': 304, 'gust': 1.36}, 'visibility': 10000, 'pop': 0, 'sys': {'pod': 'n'}, 'dt_txt': '2024-09-17 03:00:00'}, {'dt': 1726552800, 'main': {'temp': 282.69, 'feels_like': 282.69, 'temp_min': 282.69, 'temp_max': 282.69, 'pressure': 1032, 'sea_level': 1032, 'grnd_level': 973, 'humidity': 72, 'temp_kf': 0}, 'weather': [{'id': 804, 'main': 'Clouds', 'description': 'overcast clouds', 'icon': '04d'}], 'clouds': {'all': 98}, 'wind': {'speed': 1.33, 'deg': 310, 'gust': 1.07}, 'visibility': 10000, 'pop': 0, 'sys': {'pod': 'd'}, 'dt_txt': '2024-09-17 06:00:00'}, {'dt': 1726563600, 'main': {'temp': 288.14, 'feels_like': 287.08, 'temp_min': 288.14, 'temp_max': 288.14, 'pressure': 1031, 'sea_level': 1031, 'grnd_level': 974, 'humidity': 53, 'temp_kf': 0}, 'weather': [{'id': 804, 'main': 'Clouds', 'description': 'overcast clouds', 'icon': '04d'}], 'clouds': {'all': 100}, 'wind': {'speed': 0.67, 'deg': 156, 'gust': 0.63}, 'visibility': 10000, 'pop': 0, 'sys': {'pod': 'd'}, 'dt_txt': '2024-09-17 09:00:00'}, {'dt': 1726574400, 'main': {'temp': 290.08, 'feels_like': 289.11, 'temp_min': 290.08, 'temp_max': 290.08, 'pressure': 1031, 'sea_level': 1031, 'grnd_level': 974, 'humidity': 49, 'temp_kf': 0}, 'weather': [{'id': 804, 'main': 'Clouds', 'description': 'overcast clouds', 'icon': '04d'}], 'clouds': {'all': 100}, 'wind': {'speed': 1.83, 'deg': 147, 'gust': 1.77}, 'visibility': 10000, 'pop': 0, 'sys': {'pod': 'd'}, 'dt_txt': '2024-09-17 12:00:00'}, {'dt': 1726585200, 'main': {'temp': 291.1, 'feels_like': 290.31, 'temp_min': 291.1, 'temp_max': 291.1, 'pressure': 1030, 'sea_level': 1030, 'grnd_level': 973, 'humidity': 52, 'temp_kf': 0}, 'weather': [{'id': 803, 'main': 'Clouds', 'description': 'broken clouds', 'icon': '04d'}], 'clouds': {'all': 84}, 'wind': {'speed': 1.9, 'deg': 142, 'gust': 1.88}, 'visibility': 10000, 'pop': 0, 'sys': {'pod': 'd'}, 'dt_txt': '2024-09-17 15:00:00'}, {'dt': 1726596000, 'main': {'temp': 285.75, 'feels_like': 285.05, 'temp_min': 285.75, 'temp_max': 285.75, 'pressure': 1031, 'sea_level': 1031, 'grnd_level': 974, 'humidity': 76, 'temp_kf': 0}, 'weather': [{'id': 804, 'main': 'Clouds', 'description': 'overcast clouds', 'icon': '04n'}], 'clouds': {'all': 92}, 'wind': {'speed': 0.98, 'deg': 301, 'gust': 0.92}, 'visibility': 10000, 'pop': 0, 'sys': {'pod': 'n'}, 'dt_txt': '2024-09-17 18:00:00'}, {'dt': 1726606800, 'main': {'temp': 285.21, 'feels_like': 284.59, 'temp_min': 285.21, 'temp_max': 285.21, 'pressure': 1033, 'sea_level': 1033, 'grnd_level': 975, 'humidity': 81, 'temp_kf': 0}, 'weather': [{'id': 804, 'main': 'Clouds', 'description': 'overcast clouds', 'icon': '04n'}], 'clouds': {'all': 100}, 'wind': {'speed': 1.1, 'deg': 306, 'gust': 0.89}, 'visibility': 10000, 'pop': 0, 'sys': {'pod': 'n'}, 'dt_txt': '2024-09-17 21:00:00'}, {'dt': 1726617600, 'main': {'temp': 284.38, 'feels_like': 283.75, 'temp_min': 284.38, 'temp_max': 284.38, 'pressure': 1033, 'sea_level': 1033, 'grnd_level': 976, 'humidity': 84, 'temp_kf': 0}, 'weather': [{'id': 804, 'main': 'Clouds', 'description': 'overcast clouds', 'icon': '04n'}], 'clouds': {'all': 100}, 'wind': {'speed': 1.53, 'deg': 333, 'gust': 1.4}, 'visibility': 10000, 'pop': 0, 'sys': {'pod': 'n'}, 'dt_txt': '2024-09-18 00:00:00'}, {'dt': 1726628400, 'main': {'temp': 284.38, 'feels_like': 283.7, 'temp_min': 284.38, 'temp_max': 284.38, 'pressure': 1034, 'sea_level': 1034, 'grnd_level': 976, 'humidity': 82, 'temp_kf': 0}, 'weather': [{'id': 804, 'main': 'Clouds', 'description': 'overcast clouds', 'icon': '04n'}], 'clouds': {'all': 100}, 'wind': {'speed': 1.79, 'deg': 333, 'gust': 2.11}, 'visibility': 10000, 'pop': 0, 'sys': {'pod': 'n'}, 'dt_txt': '2024-09-18 03:00:00'}, {'dt': 1726639200, 'main': {'temp': 284.83, 'feels_like': 284.25, 'temp_min': 284.83, 'temp_max': 284.83, 'pressure': 1035, 'sea_level': 1035, 'grnd_level': 977, 'humidity': 84, 'temp_kf': 0}, 'weather': [{'id': 803, 'main': 'Clouds', 'description': 'broken clouds', 'icon': '04d'}], 'clouds': {'all': 64}, 'wind': {'speed': 1.74, 'deg': 333, 'gust': 2.51}, 'visibility': 10000, 'pop': 0, 'sys': {'pod': 'd'}, 'dt_txt': '2024-09-18 06:00:00'}, {'dt': 1726650000, 'main': {'temp': 291.64, 'feels_like': 291.11, 'temp_min': 291.64, 'temp_max': 291.64, 'pressure': 1035, 'sea_level': 1035, 'grnd_level': 978, 'humidity': 60, 'temp_kf': 0}, 'weather': [{'id': 802, 'main': 'Clouds', 'description': 'scattered clouds', 'icon': '03d'}], 'clouds': {'all': 31}, 'wind': {'speed': 0.6, 'deg': 80, 'gust': 0.92}, 'visibility': 10000, 'pop': 0, 'sys': {'pod': 'd'}, 'dt_txt': '2024-09-18 09:00:00'}, {'dt': 1726660800, 'main': {'temp': 294.69, 'feels_like': 294.26, 'temp_min': 294.69, 'temp_max': 294.69, 'pressure': 1035, 'sea_level': 1035, 'grnd_level': 978, 'humidity': 52, 'temp_kf': 0}, 'weather': [{'id': 802, 'main': 'Clouds', 'description': 'scattered clouds', 'icon': '03d'}], 'clouds': {'all': 28}, 'wind': {'speed': 1.35, 'deg': 123, 'gust': 0.96}, 'visibility': 10000, 'pop': 0, 'sys': {'pod': 'd'}, 'dt_txt': '2024-09-18 12:00:00'}], 'city': {'id': 3144113, 'name': 'Noresund', 'coord': {'lat': 60.1803, 'lon': 9.6231}, 'country': 'NO', 'population': 1000, 'timezone': 7200, 'sunrise': 1726202714, 'sunset': 1726249783}}\")\n"
     ]
    }
   ],
   "source": [
    "# Query the data\n",
    "forecast_rows = session.execute(\"SELECT * FROM forecast_table;\")\n",
    "print(forecast_rows.one()) # <- only one row"
   ]
  },
  {
   "cell_type": "markdown",
   "metadata": {
    "slideshow": {
     "slide_type": "slide"
    }
   },
   "source": [
    "```{seealso} Resources\n",
    ":class: tip\n",
    "- [Cassandra webpage](https://cassandra.apache.org/)\n",
    "- [Cassandra Docker file](https://hub.docker.com/_/cassandra)\n",
    "- [UUID functions](https://docs.datastax.com/en/cql-oss/3.3/cql/cql_reference/timeuuid_functions_r.html)\n",
    "- [YouTube: Cassandra in 100 seconds](https://youtu.be/ziq7FUKpCS8?si=WQUdkHFvaBmT0DBo) (2m:26s)\n",
    "- [YouTube: How to use Apache Cassandra in Python](https://youtu.be/qMauZqJH3ZM?si=yKGZ-5cld2BK396Y) (14m:50s)\n",
    "- [YouTube: Cassandra Database Crash Course](https://youtu.be/KZsVSfQVU4I?si=FBCi8qOfCirfVmZk) (19m:47s)\n",
    "```"
   ]
  }
 ],
 "metadata": {
  "celltoolbar": "Slideshow",
  "kernelspec": {
   "display_name": "IND320_2024",
   "language": "python",
   "name": "python3"
  },
  "language_info": {
   "codemirror_mode": {
    "name": "ipython",
    "version": 3
   },
   "file_extension": ".py",
   "mimetype": "text/x-python",
   "name": "python",
   "nbconvert_exporter": "python",
   "pygments_lexer": "ipython3",
   "version": "3.12.4"
  }
 },
 "nbformat": 4,
 "nbformat_minor": 4
}