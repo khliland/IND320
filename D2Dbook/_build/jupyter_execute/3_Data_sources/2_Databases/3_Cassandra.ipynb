{
 "cells": [
  {
   "cell_type": "markdown",
   "metadata": {
    "slideshow": {
     "slide_type": "slide"
    }
   },
   "source": [
    "# Cassandra\n",
    "- A production grade NoSQL database.\n",
    "- Can be distributed across servers, nodes, etc.\n",
    "- Replication of database is supported for high degree of redundancy and speed.\n",
    "- Uses CQL, a subset of SQL for querying.\n",
    "- Works seamlesly together with Spark and its corresponding distributed structure.\n",
    "- Installation of Cassandra is explained in the [Installation chapter](../../7_Appendix/Installation.ipynb)."
   ]
  },
  {
   "cell_type": "markdown",
   "metadata": {
    "slideshow": {
     "slide_type": "slide"
    }
   },
   "source": [
    "## Spinning up a local Cassandra instance\n",
    "In a terminal, first time:  \n",
    "```docker run --name my_cassandra -p 9042:9042 cassandra:latest```  \n",
    "... and later:  \n",
    "```docker start my_cassandra```  \n",
    "  \n",
    ".. or in Docker Desktop:\n",
    "- Run the cassandra docker image with optional settings, opening 9042 port and setting a name.\n",
    "- Later, simply run the container with the name you chose."
   ]
  },
  {
   "cell_type": "markdown",
   "metadata": {
    "slideshow": {
     "slide_type": "slide"
    }
   },
   "source": [
    "<img src=\"https://github.com/khliland/IND320/blob/main/D2Dbook/images/Docker_images.png?raw=TRUE\" width=\"600px\">  "
   ]
  },
  {
   "cell_type": "markdown",
   "metadata": {
    "slideshow": {
     "slide_type": "slide"
    }
   },
   "source": [
    "\n",
    "<img src=\"https://github.com/khliland/IND320/blob/main/D2Dbook/images/Docker_containers.png?raw=TRUE\" width=\"800px\">  "
   ]
  },
  {
   "cell_type": "markdown",
   "metadata": {
    "slideshow": {
     "slide_type": "slide"
    }
   },
   "source": [
    "### Connect to the Cassandra cluster from Python."
   ]
  },
  {
   "cell_type": "code",
   "execution_count": 1,
   "metadata": {
    "ExecuteTime": {
     "end_time": "2024-08-17T10:25:34.787878Z",
     "start_time": "2024-08-17T10:25:34.389367Z"
    },
    "slideshow": {
     "slide_type": "fragment"
    },
    "tags": []
   },
   "outputs": [],
   "source": [
    "# Connecting to Cassandra\n",
    "from cassandra.cluster import Cluster\n",
    "cluster = Cluster(['localhost'], port=9042)\n",
    "session = cluster.connect()"
   ]
  },
  {
   "cell_type": "markdown",
   "metadata": {
    "slideshow": {
     "slide_type": "slide"
    }
   },
   "source": [
    "### Keyspace\n",
    "- In Cassandra database tables are stored in keyspaces (basically a distributed database).\n",
    "- These have parameters controlling their distribution on nodes/servers and redundancy.\n",
    "- We will use the simplest form locally."
   ]
  },
  {
   "cell_type": "code",
   "execution_count": 2,
   "metadata": {
    "ExecuteTime": {
     "end_time": "2024-08-17T10:25:34.798504Z",
     "start_time": "2024-08-17T10:25:34.789786Z"
    },
    "slideshow": {
     "slide_type": "fragment"
    },
    "tags": []
   },
   "outputs": [
    {
     "data": {
      "text/plain": [
       "<cassandra.cluster.ResultSet at 0x107da1a60>"
      ]
     },
     "execution_count": 2,
     "metadata": {},
     "output_type": "execute_result"
    }
   ],
   "source": [
    "# Set up new keyspace (first time only)\n",
    "#                                              name of keyspace                        replication strategy           replication factor\n",
    "session.execute(\"CREATE KEYSPACE IF NOT EXISTS my_first_keyspace WITH REPLICATION = { 'class' : 'SimpleStrategy', 'replication_factor' : 1 };\")"
   ]
  },
  {
   "cell_type": "markdown",
   "metadata": {
    "slideshow": {
     "slide_type": "slide"
    }
   },
   "source": [
    "### Create a table\n",
    "- IF NOT EXISTS makes sure we do not overwrite existing tables"
   ]
  },
  {
   "cell_type": "code",
   "execution_count": 3,
   "metadata": {
    "ExecuteTime": {
     "end_time": "2024-08-17T10:25:35.347394Z",
     "start_time": "2024-08-17T10:25:34.800008Z"
    },
    "slideshow": {
     "slide_type": "fragment"
    },
    "tags": []
   },
   "outputs": [
    {
     "data": {
      "text/plain": [
       "<cassandra.cluster.ResultSet at 0x107bd3320>"
      ]
     },
     "execution_count": 3,
     "metadata": {},
     "output_type": "execute_result"
    }
   ],
   "source": [
    "# Create a new table (first time only)\n",
    "session.set_keyspace('my_first_keyspace')\n",
    "session.execute(\"DROP TABLE IF EXISTS my_first_keyspace.my_first_table;\") # Starting from scratch every time\n",
    "session.execute(\"CREATE TABLE IF NOT EXISTS my_first_table (ind int PRIMARY KEY, company text, model text);\")"
   ]
  },
  {
   "cell_type": "markdown",
   "metadata": {
    "slideshow": {
     "slide_type": "slide"
    }
   },
   "source": [
    "### Inserting and reading data"
   ]
  },
  {
   "cell_type": "code",
   "execution_count": 4,
   "metadata": {
    "ExecuteTime": {
     "end_time": "2024-08-17T10:25:35.366363Z",
     "start_time": "2024-08-17T10:25:35.350453Z"
    },
    "slideshow": {
     "slide_type": "fragment"
    },
    "tags": []
   },
   "outputs": [
    {
     "data": {
      "text/plain": [
       "<cassandra.cluster.ResultSet at 0x1092a3b90>"
      ]
     },
     "execution_count": 4,
     "metadata": {},
     "output_type": "execute_result"
    }
   ],
   "source": [
    "# Insert some data (ind is the primary key, must be unique)\n",
    "session.execute(\"INSERT INTO my_first_table (ind, company, model) VALUES (1, 'Tesla', 'Model S');\")\n",
    "session.execute(\"INSERT INTO my_first_table (ind, company, model) VALUES (2, 'Tesla', 'Model 3');\")\n",
    "session.execute(\"INSERT INTO my_first_table (ind, company, model) VALUES (3, 'Polestar', '3');\")"
   ]
  },
  {
   "cell_type": "code",
   "execution_count": 5,
   "metadata": {},
   "outputs": [
    {
     "name": "stdout",
     "output_type": "stream",
     "text": [
      "Row(ind=1, company='Tesla', model='Model S')\n",
      "Row(ind=2, company='Tesla', model='Model 3')\n",
      "Row(ind=3, company='Polestar', model='3')\n"
     ]
    }
   ],
   "source": [
    "# Query the data\n",
    "rows = session.execute(\"SELECT * FROM my_first_table;\")\n",
    "for i in rows:\n",
    "    print(i)"
   ]
  },
  {
   "cell_type": "markdown",
   "metadata": {
    "slideshow": {
     "slide_type": "slide"
    },
    "tags": []
   },
   "source": [
    "### Case sensitivity\n",
    "- Cassandra is by default case insensitive in column names.\n",
    "- To use column names with capital letters, use double quotation marks both when creating tables and when inserting data.\n",
    "- The effect of insensitivity may be surprising.\n",
    "    - Look carefully at the use of quotation marks and error message below."
   ]
  },
  {
   "cell_type": "code",
   "execution_count": 6,
   "metadata": {
    "slideshow": {
     "slide_type": "slide"
    },
    "tags": []
   },
   "outputs": [
    {
     "data": {
      "text/plain": [
       "<cassandra.cluster.ResultSet at 0x10ba31010>"
      ]
     },
     "execution_count": 6,
     "metadata": {},
     "output_type": "execute_result"
    }
   ],
   "source": [
    "session.set_keyspace('my_first_keyspace')\n",
    "session.execute(\"DROP TABLE IF EXISTS my_first_keyspace.case_insensitive;\") # Starting from scratch every time\n",
    "session.execute(\"CREATE TABLE IF NOT EXISTS case_insensitive (Capital int PRIMARY KEY, Letters text, Everywhere text);\")\n",
    "session.execute(\"DROP TABLE IF EXISTS my_first_keyspace.case_sensitive;\") # Starting from scratch every time\n",
    "session.execute(\"CREATE TABLE IF NOT EXISTS case_sensitive (\\\"Capital\\\" int PRIMARY KEY, \\\"Letters\\\" text, \\\"Everywhere\\\" text);\")"
   ]
  },
  {
   "cell_type": "code",
   "execution_count": 7,
   "metadata": {
    "slideshow": {
     "slide_type": "fragment"
    },
    "tags": []
   },
   "outputs": [
    {
     "data": {
      "text/plain": [
       "<cassandra.cluster.ResultSet at 0x108b6e2d0>"
      ]
     },
     "execution_count": 7,
     "metadata": {},
     "output_type": "execute_result"
    }
   ],
   "source": [
    "session.execute(\"INSERT INTO case_insensitive (Capital, Letters, Everywhere) VALUES (1, 'Tesla', 'Model S');\")"
   ]
  },
  {
   "cell_type": "code",
   "execution_count": 8,
   "metadata": {
    "slideshow": {
     "slide_type": "fragment"
    },
    "tags": [
     "raises-exception"
    ]
   },
   "outputs": [
    {
     "ename": "InvalidRequest",
     "evalue": "Error from server: code=2200 [Invalid query] message=\"Undefined column name capital in table my_first_keyspace.case_sensitive\"",
     "output_type": "error",
     "traceback": [
      "\u001b[0;31m---------------------------------------------------------------------------\u001b[0m",
      "\u001b[0;31mInvalidRequest\u001b[0m                            Traceback (most recent call last)",
      "Cell \u001b[0;32mIn[8], line 1\u001b[0m\n\u001b[0;32m----> 1\u001b[0m \u001b[43msession\u001b[49m\u001b[38;5;241;43m.\u001b[39;49m\u001b[43mexecute\u001b[49m\u001b[43m(\u001b[49m\u001b[38;5;124;43m\"\u001b[39;49m\u001b[38;5;124;43mINSERT INTO case_sensitive (Capital, Letters, Everywhere) VALUES (1, \u001b[39;49m\u001b[38;5;124;43m'\u001b[39;49m\u001b[38;5;124;43mTesla\u001b[39;49m\u001b[38;5;124;43m'\u001b[39;49m\u001b[38;5;124;43m, \u001b[39;49m\u001b[38;5;124;43m'\u001b[39;49m\u001b[38;5;124;43mModel S\u001b[39;49m\u001b[38;5;124;43m'\u001b[39;49m\u001b[38;5;124;43m);\u001b[39;49m\u001b[38;5;124;43m\"\u001b[39;49m\u001b[43m)\u001b[49m\n",
      "File \u001b[0;32m~/miniforge3/envs/IND320_2024/lib/python3.12/site-packages/cassandra/cluster.py:2677\u001b[0m, in \u001b[0;36mcassandra.cluster.Session.execute\u001b[0;34m()\u001b[0m\n",
      "File \u001b[0;32m~/miniforge3/envs/IND320_2024/lib/python3.12/site-packages/cassandra/cluster.py:4956\u001b[0m, in \u001b[0;36mcassandra.cluster.ResponseFuture.result\u001b[0;34m()\u001b[0m\n",
      "\u001b[0;31mInvalidRequest\u001b[0m: Error from server: code=2200 [Invalid query] message=\"Undefined column name capital in table my_first_keyspace.case_sensitive\""
     ]
    }
   ],
   "source": [
    "session.execute(\"INSERT INTO case_sensitive (Capital, Letters, Everywhere) VALUES (1, 'Tesla', 'Model S');\")"
   ]
  },
  {
   "cell_type": "code",
   "execution_count": 9,
   "metadata": {
    "slideshow": {
     "slide_type": "fragment"
    },
    "tags": []
   },
   "outputs": [
    {
     "data": {
      "text/plain": [
       "<cassandra.cluster.ResultSet at 0x10ba31eb0>"
      ]
     },
     "execution_count": 9,
     "metadata": {},
     "output_type": "execute_result"
    }
   ],
   "source": [
    "session.execute(\"INSERT INTO case_sensitive (\\\"Capital\\\", \\\"Letters\\\", \\\"Everywhere\\\") VALUES (1, 'Tesla', 'Model S');\")"
   ]
  },
  {
   "cell_type": "code",
   "execution_count": 10,
   "metadata": {
    "slideshow": {
     "slide_type": "slide"
    },
    "tags": []
   },
   "outputs": [
    {
     "name": "stdout",
     "output_type": "stream",
     "text": [
      "Row(capital=1, everywhere='Model S', letters='Tesla')\n",
      "Row(Capital=1, Everywhere='Model S', Letters='Tesla')\n"
     ]
    }
   ],
   "source": [
    "# Query the data\n",
    "rows = session.execute(\"SELECT * FROM case_insensitive;\")\n",
    "for i in rows:\n",
    "    print(i)\n",
    "rows = session.execute(\"SELECT * FROM case_sensitive;\")\n",
    "for i in rows:\n",
    "    print(i)"
   ]
  },
  {
   "cell_type": "markdown",
   "metadata": {
    "slideshow": {
     "slide_type": "slide"
    }
   },
   "source": [
    "### Asyncronous writing\n",
    "- If your application is very data intensive, waiting for a response is not productive.\n",
    "- Writing asyncronously sends the data but does not pause for reply."
   ]
  },
  {
   "cell_type": "code",
   "execution_count": 11,
   "metadata": {
    "ExecuteTime": {
     "end_time": "2024-08-17T10:25:35.371390Z",
     "start_time": "2024-08-17T10:25:35.367159Z"
    },
    "slideshow": {
     "slide_type": "fragment"
    },
    "tags": []
   },
   "outputs": [
    {
     "data": {
      "text/plain": [
       "<ResponseFuture: query='<SimpleStatement query=\"INSERT INTO my_first_table (ind, company, model) VALUES (4, 'Volkswagen', 'ID.4');\", consistency=Not Set>' request_id=63 result=(no result yet) exception=None coordinator_host=None>"
      ]
     },
     "execution_count": 11,
     "metadata": {},
     "output_type": "execute_result"
    }
   ],
   "source": [
    "session.execute_async(\"INSERT INTO my_first_table (ind, company, model) VALUES (4, 'Volkswagen', 'ID.4');\")"
   ]
  },
  {
   "cell_type": "code",
   "execution_count": 12,
   "metadata": {
    "ExecuteTime": {
     "end_time": "2024-08-17T10:25:35.384736Z",
     "start_time": "2024-08-17T10:25:35.372551Z"
    },
    "slideshow": {
     "slide_type": "slide"
    },
    "tags": []
   },
   "outputs": [
    {
     "name": "stdout",
     "output_type": "stream",
     "text": [
      "Row(ind=1, company='Tesla', model='Model S')\n",
      "Row(ind=2, company='Tesla', model='Model 3')\n",
      "Row(ind=4, company='Volkswagen', model='ID.4')\n",
      "Row(ind=3, company='Polestar', model='3')\n"
     ]
    }
   ],
   "source": [
    "# Query the data\n",
    "rows = session.execute(\"SELECT * FROM my_first_table;\")\n",
    "for i in rows:\n",
    "    print(i)"
   ]
  },
  {
   "cell_type": "code",
   "execution_count": 13,
   "metadata": {
    "ExecuteTime": {
     "end_time": "2024-08-17T10:25:35.402371Z",
     "start_time": "2024-08-17T10:25:35.386980Z"
    },
    "slideshow": {
     "slide_type": "slide"
    },
    "tags": [
     "raises-exception"
    ]
   },
   "outputs": [
    {
     "name": "stdout",
     "output_type": "stream",
     "text": [
      "Row(ind=1, company='Tesla', model='Model S')\n",
      "Row(ind=2, company='Tesla', model='Model 3')\n"
     ]
    }
   ],
   "source": [
    "# More specific query\n",
    "prepared_statement = session.prepare(\"SELECT * FROM my_first_table WHERE company=? ALLOW FILTERING;\")\n",
    "teslas = session.execute(prepared_statement, ['Tesla'])\n",
    "for i in teslas:\n",
    "    print(i)"
   ]
  },
  {
   "cell_type": "markdown",
   "metadata": {
    "slideshow": {
     "slide_type": "slide"
    }
   },
   "source": [
    "## Cassandra filtering\n",
    "Cassandra is inherently a distributed production database. Selecting as above may require downloading all data from a node, then filtering based on the WHERE part (only PRIMARY KEYs are centrally known). Solutions:  \n",
    "- If the table is small or most of the data will satisfy the query, add ```ALLOW FILTERING``` at the end of the query (not recommended if not known). \n",
    "- Or make sure the WHERE clause points to one of the keys (see below)."
   ]
  },
  {
   "cell_type": "code",
   "execution_count": 14,
   "metadata": {
    "ExecuteTime": {
     "end_time": "2024-08-17T10:25:35.613711Z",
     "start_time": "2024-08-17T10:25:35.403622Z"
    },
    "slideshow": {
     "slide_type": "slide"
    },
    "tags": []
   },
   "outputs": [
    {
     "data": {
      "text/plain": [
       "<cassandra.cluster.ResultSet at 0x1092a2450>"
      ]
     },
     "execution_count": 14,
     "metadata": {},
     "output_type": "execute_result"
    }
   ],
   "source": [
    "# Create a new table (observe keys)\n",
    "session.execute(\"DROP TABLE IF EXISTS my_first_keyspace.car_table;\")\n",
    "session.execute(\"CREATE TABLE IF NOT EXISTS car_table (company text, model text, PRIMARY KEY(company, model));\")"
   ]
  },
  {
   "cell_type": "code",
   "execution_count": 15,
   "metadata": {
    "ExecuteTime": {
     "end_time": "2024-08-17T10:25:35.628950Z",
     "start_time": "2024-08-17T10:25:35.615126Z"
    },
    "slideshow": {
     "slide_type": "fragment"
    },
    "tags": []
   },
   "outputs": [
    {
     "data": {
      "text/plain": [
       "<cassandra.cluster.ResultSet at 0x10ba6fd40>"
      ]
     },
     "execution_count": 15,
     "metadata": {},
     "output_type": "execute_result"
    }
   ],
   "source": [
    "# Insert some data (combination of company and model must be unique)\n",
    "session.execute(\"INSERT INTO car_table (company, model) VALUES ('Tesla', 'Model S');\")\n",
    "session.execute(\"INSERT INTO car_table (company, model) VALUES ('Tesla', 'Model 3');\")\n",
    "session.execute(\"INSERT INTO car_table (company, model) VALUES ('Polestar', '3');\")\n",
    "session.execute(\"INSERT INTO car_table (company, model) VALUES ('Volkswagen', 'ID.4');\")"
   ]
  },
  {
   "cell_type": "code",
   "execution_count": 16,
   "metadata": {
    "ExecuteTime": {
     "end_time": "2024-08-17T10:25:35.639765Z",
     "start_time": "2024-08-17T10:25:35.630657Z"
    },
    "slideshow": {
     "slide_type": "slide"
    },
    "tags": []
   },
   "outputs": [
    {
     "name": "stdout",
     "output_type": "stream",
     "text": [
      "Row(company='Tesla', model='Model 3')\n",
      "Row(company='Tesla', model='Model S')\n"
     ]
    }
   ],
   "source": [
    "# More specific query now works\n",
    "prepared_statement = session.prepare(\"SELECT * FROM car_table WHERE company=?;\")\n",
    "teslas = session.execute(prepared_statement, ['Tesla'])\n",
    "for i in teslas:\n",
    "    print(i)"
   ]
  },
  {
   "cell_type": "markdown",
   "metadata": {
    "slideshow": {
     "slide_type": "slide"
    }
   },
   "source": [
    "### Partitions\n",
    "- Cassandra databases are usually replicated over different nodes.\n",
    "- Data is stored in partitions (subsets) which have local copys.\n",
    "- The primary key, e.g., PRIMARY KEY(company, model), is used in partitioning.\n",
    "    - The first part, e.g., company, is most important.\n",
    "    - All cars from a company will be located together, aiming for quicker queries."
   ]
  },
  {
   "cell_type": "markdown",
   "metadata": {
    "slideshow": {
     "slide_type": "slide"
    }
   },
   "source": [
    "### Unique IDs \n",
    "- In MySQL one could use the attribute AUTO_INCREMENT on integer IDs to automatically make a new unique index when inserting data.\n",
    "- This would cause unreasonable overhead in a distributed database.\n",
    "- [UUID](https://en.wikipedia.org/wiki/Universally_unique_identifier)s are used instead.\n",
    "    - Universally Unique Identifiers are typically 128-bit random bit sequences with extremely low probability of duplication.\n",
    "    - Cassandra uses a [timeuuid](https://docs.datastax.com/en/cql-oss/3.3/cql/cql_reference/timeuuid_functions_r.html) type to combine a timestamp and uuid in one."
   ]
  },
  {
   "cell_type": "code",
   "execution_count": 17,
   "metadata": {
    "ExecuteTime": {
     "end_time": "2024-08-17T10:25:35.766003Z",
     "start_time": "2024-08-17T10:25:35.640600Z"
    },
    "slideshow": {
     "slide_type": "fragment"
    },
    "tags": []
   },
   "outputs": [
    {
     "data": {
      "text/plain": [
       "<cassandra.cluster.ResultSet at 0x108bae060>"
      ]
     },
     "execution_count": 17,
     "metadata": {},
     "output_type": "execute_result"
    }
   ],
   "source": [
    "# Create a new table (first time only)\n",
    "session.set_keyspace('my_first_keyspace')\n",
    "session.execute(\"DROP TABLE IF EXISTS my_first_keyspace.table_with_uuid;\")\n",
    "session.execute(\"CREATE TABLE IF NOT EXISTS table_with_uuid (id timeuuid PRIMARY KEY, company text, model text, price float);\")"
   ]
  },
  {
   "cell_type": "code",
   "execution_count": 18,
   "metadata": {
    "ExecuteTime": {
     "end_time": "2024-08-17T10:25:35.784876Z",
     "start_time": "2024-08-17T10:25:35.766619Z"
    },
    "slideshow": {
     "slide_type": "slide"
    },
    "tags": []
   },
   "outputs": [
    {
     "data": {
      "text/plain": [
       "<cassandra.cluster.ResultSet at 0x10ba7b830>"
      ]
     },
     "execution_count": 18,
     "metadata": {},
     "output_type": "execute_result"
    }
   ],
   "source": [
    "session.execute(\"INSERT INTO table_with_uuid (id, company, model, price) VALUES (now(), 'Tesla', 'Model S', 20000.0);\")\n",
    "session.execute(\"INSERT INTO table_with_uuid (id, company, model, price) VALUES (now(), 'Tesla', 'Model S', 21000.0);\")\n",
    "session.execute(\"INSERT INTO table_with_uuid (id, company, model, price) VALUES (now(), 'Oldsmobile', 'Model 6C', 135000.0);\")"
   ]
  },
  {
   "cell_type": "code",
   "execution_count": 19,
   "metadata": {
    "ExecuteTime": {
     "end_time": "2024-08-17T10:25:35.792934Z",
     "start_time": "2024-08-17T10:25:35.785467Z"
    },
    "slideshow": {
     "slide_type": "slide"
    },
    "tags": []
   },
   "outputs": [
    {
     "name": "stdout",
     "output_type": "stream",
     "text": [
      "Row(id=UUID('0f81c280-96f9-11ef-8397-bf0dcc4bd0d7'), company='Tesla', model='Model S', price=21000.0)\n",
      "Datetime: 2024-10-30 19:56:32.296000\n",
      "Row(id=UUID('0f817460-96f9-11ef-8397-bf0dcc4bd0d7'), company='Tesla', model='Model S', price=20000.0)\n",
      "Datetime: 2024-10-30 19:56:32.294000\n",
      "Row(id=UUID('0f8210a0-96f9-11ef-8397-bf0dcc4bd0d7'), company='Oldsmobile', model='Model 6C', price=135000.0)\n",
      "Datetime: 2024-10-30 19:56:32.298000\n"
     ]
    }
   ],
   "source": [
    "from cassandra.util import datetime_from_uuid1\n",
    "\n",
    "# Query the data\n",
    "rows = session.execute(\"SELECT * FROM table_with_uuid;\")\n",
    "for i in rows:\n",
    "    print(i)\n",
    "    # Extract the timestamp from Cassandra's timeuuid\n",
    "    print(\"Datetime:\", datetime_from_uuid1(i.id))"
   ]
  },
  {
   "cell_type": "markdown",
   "metadata": {
    "slideshow": {
     "slide_type": "slide"
    }
   },
   "source": [
    "## JSON in Cassandra\n",
    "### Read previously saved JSON file forecast.json to memory"
   ]
  },
  {
   "cell_type": "code",
   "execution_count": 20,
   "metadata": {
    "ExecuteTime": {
     "end_time": "2024-08-17T10:25:35.796049Z",
     "start_time": "2024-08-17T10:25:35.793437Z"
    },
    "slideshow": {
     "slide_type": "fragment"
    },
    "tags": []
   },
   "outputs": [],
   "source": [
    "import json\n",
    "with open('../3_APIs/downloads/forecast.json', 'r') as f:\n",
    "    forecast = json.load(f)"
   ]
  },
  {
   "cell_type": "code",
   "execution_count": 21,
   "metadata": {
    "ExecuteTime": {
     "end_time": "2024-08-17T10:25:35.799114Z",
     "start_time": "2024-08-17T10:25:35.796532Z"
    },
    "slideshow": {
     "slide_type": "slide"
    },
    "tags": []
   },
   "outputs": [
    {
     "data": {
      "text/plain": [
       "\"{'cod': '200', 'message': 0, 'cnt': 40, 'list': [{'dt': 1729717200, 'main': {'temp': 278.43, 'feels_like': 278.43, 'temp_min': 278.43, 'temp_max': 278.62, 'pressure': 1007, 'sea_level': 1007, 'grnd_level': 958, 'humidity': 95, 'temp_kf': -0.19}, 'weather': [{'id': 500, 'main': 'Rain', 'description': 'light rain', 'icon': '10n'}], 'clouds': {'all': 83}, 'wind': {'speed': 1.07, 'deg': 234, 'gust': 2.27}, 'visibility': 287, 'pop': 0.87, 'rain': {'3h': 0.39}, 'sys': {'pod': 'n'}, 'dt_txt': '2024-10-23 21:00:00'}, {'dt': 1729728000, 'main': {'temp': 278.66, 'feels_like': 278.66, 'temp_min': 278.66, 'temp_max': 278.83, 'pressure': 1009, 'sea_level': 1009, 'grnd_level': 959, 'humidity': 96, 'temp_kf': -0.17}, 'weather': [{'id': 500, 'main': 'Rain', 'description': 'light rain', 'icon': '10n'}], 'clouds': {'all': 92}, 'wind': {'speed': 0.76, 'deg': 169, 'gust': 0.97}, 'visibility': 3866, 'pop': 1, 'rain': {'3h': 0.65}, 'sys': {'pod': 'n'}, 'dt_txt': '2024-10-24 00:00:00'}, {'dt': 1729738800, 'main': {'temp': 279.3, 'feels_like': 279.3, 'temp_min': 279.3, 'temp_max': 279.3, 'pressure': 1011, 'sea_level': 1011, 'grnd_level': 960, 'humidity': 98, 'temp_kf': 0}, 'weather': [{'id': 500, 'main': 'Rain', 'description': 'light rain', 'icon': '10n'}], 'clouds': {'all': 100}, 'wind': {'speed': 0.81, 'deg': 181, 'gust': 0.76}, 'visibility': 2672, 'pop': 1, 'rain': {'3h': 1.46}, 'sys': {'pod': 'n'}, 'dt_txt': '2024-10-24 03:00:00'}, {'dt': 1729749600, 'main': {'temp': 279.77, 'feels_like': 279.77, 'temp_min': 279.77, 'temp_max': 279.77, 'pressure': 1012, 'sea_level': 1012, 'grnd_level': 960, 'humidity': 98, 'temp_kf': 0}, 'weather': [{'id': 501, 'main': 'Rain', 'description': 'moderate rain', 'icon': '10n'}], 'clouds': {'all': 100}, 'wind': {'speed': 0.67, 'deg': 144, 'gust': 0.61}, 'visibility': 2741, 'pop': 1, 'rain': {'3h': 3.61}, 'sys': {'pod': 'n'}, 'dt_txt': '2024-10-24 06:00:00'}, {'dt': 1729760400, 'main': {'temp': 280.11, 'feels_like': 280.11, 'temp_min': 280.11, 'temp_max': 280.11, 'pressure': 1013, 'sea_level': 1013, 'grnd_level': 962, 'humidity': 98, 'temp_kf': 0}, 'weather': [{'id': 501, 'main': 'Rain', 'description': 'moderate rain', 'icon': '10d'}], 'clouds': {'all': 100}, 'wind': {'speed': 0.8, 'deg': 226, 'gust': 0.79}, 'visibility': 2476, 'pop': 1, 'rain': {'3h': 8.09}, 'sys': {'pod': 'd'}, 'dt_txt': '2024-10-24 09:00:00'}, {'dt': 1729771200, 'main': {'temp': 281.2, 'feels_like': 280.38, 'temp_min': 281.2, 'temp_max': 281.2, 'pressure': 1014, 'sea_level': 1014, 'grnd_level': 962, 'humidity': 98, 'temp_kf': 0}, 'weather': [{'id': 501, 'main': 'Rain', 'description': 'moderate rain', 'icon': '10d'}], 'clouds': {'all': 100}, 'wind': {'speed': 1.68, 'deg': 194, 'gust': 1.88}, 'visibility': 4107, 'pop': 1, 'rain': {'3h': 8.71}, 'sys': {'pod': 'd'}, 'dt_txt': '2024-10-24 12:00:00'}, {'dt': 1729782000, 'main': {'temp': 281.71, 'feels_like': 281.13, 'temp_min': 281.71, 'temp_max': 281.71, 'pressure': 1014, 'sea_level': 1014, 'grnd_level': 963, 'humidity': 97, 'temp_kf': 0}, 'weather': [{'id': 500, 'main': 'Rain', 'description': 'light rain', 'icon': '10d'}], 'clouds': {'all': 100}, 'wind': {'speed': 1.52, 'deg': 185, 'gust': 1.55}, 'visibility': 3993, 'pop': 1, 'rain': {'3h': 1.04}, 'sys': {'pod': 'd'}, 'dt_txt': '2024-10-24 15:00:00'}, {'dt': 1729792800, 'main': {'temp': 281.38, 'feels_like': 280.67, 'temp_min': 281.38, 'temp_max': 281.38, 'pressure': 1013, 'sea_level': 1013, 'grnd_level': 962, 'humidity': 96, 'temp_kf': 0}, 'weather': [{'id': 500, 'main': 'Rain', 'description': 'light rain', 'icon': '10n'}], 'clouds': {'all': 100}, 'wind': {'speed': 1.6, 'deg': 160, 'gust': 1.34}, 'visibility': 4090, 'pop': 1, 'rain': {'3h': 1.73}, 'sys': {'pod': 'n'}, 'dt_txt': '2024-10-24 18:00:00'}, {'dt': 1729803600, 'main': {'temp': 281.19, 'feels_like': 280.42, 'temp_min': 281.19, 'temp_max': 281.19, 'pressure': 1013, 'sea_level': 1013, 'grnd_level': 962, 'humidity': 95, 'temp_kf': 0}, 'weather': [{'id': 804, 'main': 'Clouds', 'description': 'overcast clouds', 'icon': '04n'}], 'clouds': {'all': 100}, 'wind': {'speed': 1.63, 'deg': 169, 'gust': 1.42}, 'visibility': 3899, 'pop': 0, 'sys': {'pod': 'n'}, 'dt_txt': '2024-10-24 21:00:00'}, {'dt': 1729814400, 'main': {'temp': 282.36, 'feels_like': 281.02, 'temp_min': 282.36, 'temp_max': 282.36, 'pressure': 1011, 'sea_level': 1011, 'grnd_level': 960, 'humidity': 82, 'temp_kf': 0}, 'weather': [{'id': 804, 'main': 'Clouds', 'description': 'overcast clouds', 'icon': '04n'}], 'clouds': {'all': 100}, 'wind': {'speed': 2.53, 'deg': 208, 'gust': 2.46}, 'visibility': 10000, 'pop': 0, 'sys': {'pod': 'n'}, 'dt_txt': '2024-10-25 00:00:00'}, {'dt': 1729825200, 'main': {'temp': 282.95, 'feels_like': 279.82, 'temp_min': 282.95, 'temp_max': 282.95, 'pressure': 1011, 'sea_level': 1011, 'grnd_level': 960, 'humidity': 78, 'temp_kf': 0}, 'weather': [{'id': 804, 'main': 'Clouds', 'description': 'overcast clouds', 'icon': '04n'}], 'clouds': {'all': 93}, 'wind': {'speed': 7.06, 'deg': 236, 'gust': 11.79}, 'visibility': 10000, 'pop': 0, 'sys': {'pod': 'n'}, 'dt_txt': '2024-10-25 03:00:00'}, {'dt': 1729836000, 'main': {'temp': 283.03, 'feels_like': 280.19, 'temp_min': 283.03, 'temp_max': 283.03, 'pressure': 1009, 'sea_level': 1009, 'grnd_level': 958, 'humidity': 82, 'temp_kf': 0}, 'weather': [{'id': 500, 'main': 'Rain', 'description': 'light rain', 'icon': '10n'}], 'clouds': {'all': 97}, 'wind': {'speed': 6.16, 'deg': 224, 'gust': 11.61}, 'visibility': 10000, 'pop': 0.99, 'rain': {'3h': 1.49}, 'sys': {'pod': 'n'}, 'dt_txt': '2024-10-25 06:00:00'}, {'dt': 1729846800, 'main': {'temp': 282.65, 'feels_like': 280.86, 'temp_min': 282.65, 'temp_max': 282.65, 'pressure': 1008, 'sea_level': 1008, 'grnd_level': 957, 'humidity': 94, 'temp_kf': 0}, 'weather': [{'id': 501, 'main': 'Rain', 'description': 'moderate rain', 'icon': '10d'}], 'clouds': {'all': 99}, 'wind': {'speed': 3.36, 'deg': 222, 'gust': 4.48}, 'visibility': 6557, 'pop': 1, 'rain': {'3h': 5.68}, 'sys': {'pod': 'd'}, 'dt_txt': '2024-10-25 09:00:00'}, {'dt': 1729857600, 'main': {'temp': 280.29, 'feels_like': 277.87, 'temp_min': 280.29, 'temp_max': 280.29, 'pressure': 1010, 'sea_level': 1010, 'grnd_level': 959, 'humidity': 97, 'temp_kf': 0}, 'weather': [{'id': 501, 'main': 'Rain', 'description': 'moderate rain', 'icon': '10d'}], 'clouds': {'all': 99}, 'wind': {'speed': 3.57, 'deg': 243, 'gust': 10.21}, 'visibility': 1634, 'pop': 1, 'rain': {'3h': 7.93}, 'sys': {'pod': 'd'}, 'dt_txt': '2024-10-25 12:00:00'}, {'dt': 1729868400, 'main': {'temp': 280.28, 'feels_like': 277.85, 'temp_min': 280.28, 'temp_max': 280.28, 'pressure': 1012, 'sea_level': 1012, 'grnd_level': 961, 'humidity': 93, 'temp_kf': 0}, 'weather': [{'id': 501, 'main': 'Rain', 'description': 'moderate rain', 'icon': '10n'}], 'clouds': {'all': 100}, 'wind': {'speed': 3.59, 'deg': 253, 'gust': 8.99}, 'visibility': 5490, 'pop': 1, 'rain': {'3h': 7.72}, 'sys': {'pod': 'n'}, 'dt_txt': '2024-10-25 15:00:00'}, {'dt': 1729879200, 'main': {'temp': 280.02, 'feels_like': 277.37, 'temp_min': 280.02, 'temp_max': 280.02, 'pressure': 1014, 'sea_level': 1014, 'grnd_level': 962, 'humidity': 79, 'temp_kf': 0}, 'weather': [{'id': 500, 'main': 'Rain', 'description': 'light rain', 'icon': '10n'}], 'clouds': {'all': 100}, 'wind': {'speed': 3.89, 'deg': 249, 'gust': 7.36}, 'visibility': 10000, 'pop': 1, 'rain': {'3h': 0.26}, 'sys': {'pod': 'n'}, 'dt_txt': '2024-10-25 18:00:00'}, {'dt': 1729890000, 'main': {'temp': 279.42, 'feels_like': 277.65, 'temp_min': 279.42, 'temp_max': 279.42, 'pressure': 1015, 'sea_level': 1015, 'grnd_level': 963, 'humidity': 83, 'temp_kf': 0}, 'weather': [{'id': 500, 'main': 'Rain', 'description': 'light rain', 'icon': '10n'}], 'clouds': {'all': 100}, 'wind': {'speed': 2.38, 'deg': 246, 'gust': 4.87}, 'visibility': 10000, 'pop': 0.2, 'rain': {'3h': 0.12}, 'sys': {'pod': 'n'}, 'dt_txt': '2024-10-25 21:00:00'}, {'dt': 1729900800, 'main': {'temp': 278.77, 'feels_like': 277.64, 'temp_min': 278.77, 'temp_max': 278.77, 'pressure': 1015, 'sea_level': 1015, 'grnd_level': 963, 'humidity': 82, 'temp_kf': 0}, 'weather': [{'id': 804, 'main': 'Clouds', 'description': 'overcast clouds', 'icon': '04n'}], 'clouds': {'all': 100}, 'wind': {'speed': 1.63, 'deg': 222, 'gust': 1.59}, 'visibility': 10000, 'pop': 0, 'sys': {'pod': 'n'}, 'dt_txt': '2024-10-26 00:00:00'}, {'dt': 1729911600, 'main': {'temp': 278.94, 'feels_like': 277.75, 'temp_min': 278.94, 'temp_max': 278.94, 'pressure': 1015, 'sea_level': 1015, 'grnd_level': 963, 'humidity': 77, 'temp_kf': 0}, 'weather': [{'id': 804, 'main': 'Clouds', 'description': 'overcast clouds', 'icon': '04n'}], 'clouds': {'all': 95}, 'wind': {'speed': 1.71, 'deg': 129, 'gust': 1.49}, 'visibility': 10000, 'pop': 0, 'sys': {'pod': 'n'}, 'dt_txt': '2024-10-26 03:00:00'}, {'dt': 1729922400, 'main': {'temp': 277.64, 'feels_like': 276.49, 'temp_min': 277.64, 'temp_max': 277.64, 'pressure': 1013, 'sea_level': 1013, 'grnd_level': 962, 'humidity': 78, 'temp_kf': 0}, 'weather': [{'id': 804, 'main': 'Clouds', 'description': 'overcast clouds', 'icon': '04n'}], 'clouds': {'all': 97}, 'wind': {'speed': 1.52, 'deg': 118, 'gust': 1.24}, 'visibility': 10000, 'pop': 0, 'sys': {'pod': 'n'}, 'dt_txt': '2024-10-26 06:00:00'}, {'dt': 1729933200, 'main': {'temp': 279.58, 'feels_like': 279.58, 'temp_min': 279.58, 'temp_max': 279.58, 'pressure': 1012, 'sea_level': 1012, 'grnd_level': 961, 'humidity': 74, 'temp_kf': 0}, 'weather': [{'id': 804, 'main': 'Clouds', 'description': 'overcast clouds', 'icon': '04d'}], 'clouds': {'all': 99}, 'wind': {'speed': 0.86, 'deg': 136, 'gust': 0.97}, 'visibility': 10000, 'pop': 0, 'sys': {'pod': 'd'}, 'dt_txt': '2024-10-26 09:00:00'}, {'dt': 1729944000, 'main': {'temp': 279.5, 'feels_like': 279.5, 'temp_min': 279.5, 'temp_max': 279.5, 'pressure': 1011, 'sea_level': 1011, 'grnd_level': 959, 'humidity': 83, 'temp_kf': 0}, 'weather': [{'id': 804, 'main': 'Clouds', 'description': 'overcast clouds', 'icon': '04d'}], 'clouds': {'all': 99}, 'wind': {'speed': 0.6, 'deg': 114, 'gust': 0.51}, 'visibility': 10000, 'pop': 0, 'sys': {'pod': 'd'}, 'dt_txt': '2024-10-26 12:00:00'}, {'dt': 1729954800, 'main': {'temp': 279.83, 'feels_like': 279.83, 'temp_min': 279.83, 'temp_max': 279.83, 'pressure': 1008, 'sea_level': 1008, 'grnd_level': 957, 'humidity': 86, 'temp_kf': 0}, 'weather': [{'id': 804, 'main': 'Clouds', 'description': 'overcast clouds', 'icon': '04n'}], 'clouds': {'all': 99}, 'wind': {'speed': 1.16, 'deg': 87, 'gust': 0.76}, 'visibility': 10000, 'pop': 0, 'sys': {'pod': 'n'}, 'dt_txt': '2024-10-26 15:00:00'}, {'dt': 1729965600, 'main': {'temp': 279.95, 'feels_like': 279.35, 'temp_min': 279.95, 'temp_max': 279.95, 'pressure': 1005, 'sea_level': 1005, 'grnd_level': 954, 'humidity': 84, 'temp_kf': 0}, 'weather': [{'id': 500, 'main': 'Rain', 'description': 'light rain', 'icon': '10n'}], 'clouds': {'all': 100}, 'wind': {'speed': 1.34, 'deg': 97, 'gust': 0.73}, 'visibility': 10000, 'pop': 0.39, 'rain': {'3h': 0.31}, 'sys': {'pod': 'n'}, 'dt_txt': '2024-10-26 18:00:00'}, {'dt': 1729976400, 'main': {'temp': 280.12, 'feels_like': 280.12, 'temp_min': 280.12, 'temp_max': 280.12, 'pressure': 1002, 'sea_level': 1002, 'grnd_level': 952, 'humidity': 86, 'temp_kf': 0}, 'weather': [{'id': 500, 'main': 'Rain', 'description': 'light rain', 'icon': '10n'}], 'clouds': {'all': 100}, 'wind': {'speed': 0.66, 'deg': 102, 'gust': 0.24}, 'visibility': 10000, 'pop': 1, 'rain': {'3h': 0.76}, 'sys': {'pod': 'n'}, 'dt_txt': '2024-10-26 21:00:00'}, {'dt': 1729987200, 'main': {'temp': 280.28, 'feels_like': 278.93, 'temp_min': 280.28, 'temp_max': 280.28, 'pressure': 1001, 'sea_level': 1001, 'grnd_level': 950, 'humidity': 95, 'temp_kf': 0}, 'weather': [{'id': 501, 'main': 'Rain', 'description': 'moderate rain', 'icon': '10n'}], 'clouds': {'all': 100}, 'wind': {'speed': 2.08, 'deg': 253, 'gust': 2.11}, 'visibility': 4656, 'pop': 1, 'rain': {'3h': 5.39}, 'sys': {'pod': 'n'}, 'dt_txt': '2024-10-27 00:00:00'}, {'dt': 1729998000, 'main': {'temp': 280.72, 'feels_like': 279.76, 'temp_min': 280.72, 'temp_max': 280.72, 'pressure': 999, 'sea_level': 999, 'grnd_level': 949, 'humidity': 97, 'temp_kf': 0}, 'weather': [{'id': 501, 'main': 'Rain', 'description': 'moderate rain', 'icon': '10n'}], 'clouds': {'all': 100}, 'wind': {'speed': 1.74, 'deg': 193, 'gust': 1.76}, 'visibility': 6140, 'pop': 1, 'rain': {'3h': 8.42}, 'sys': {'pod': 'n'}, 'dt_txt': '2024-10-27 03:00:00'}, {'dt': 1730008800, 'main': {'temp': 280.4, 'feels_like': 278.53, 'temp_min': 280.4, 'temp_max': 280.4, 'pressure': 999, 'sea_level': 999, 'grnd_level': 948, 'humidity': 97, 'temp_kf': 0}, 'weather': [{'id': 501, 'main': 'Rain', 'description': 'moderate rain', 'icon': '10n'}], 'clouds': {'all': 100}, 'wind': {'speed': 2.75, 'deg': 261, 'gust': 4.64}, 'visibility': 2311, 'pop': 1, 'rain': {'3h': 5.86}, 'sys': {'pod': 'n'}, 'dt_txt': '2024-10-27 06:00:00'}, {'dt': 1730019600, 'main': {'temp': 278.81, 'feels_like': 277.88, 'temp_min': 278.81, 'temp_max': 278.81, 'pressure': 999, 'sea_level': 999, 'grnd_level': 948, 'humidity': 99, 'temp_kf': 0}, 'weather': [{'id': 500, 'main': 'Rain', 'description': 'light rain', 'icon': '10d'}], 'clouds': {'all': 100}, 'wind': {'speed': 1.48, 'deg': 234, 'gust': 3.99}, 'visibility': 153, 'pop': 1, 'rain': {'3h': 2.24}, 'sys': {'pod': 'd'}, 'dt_txt': '2024-10-27 09:00:00'}, {'dt': 1730030400, 'main': {'temp': 278.25, 'feels_like': 275.68, 'temp_min': 278.25, 'temp_max': 278.25, 'pressure': 998, 'sea_level': 998, 'grnd_level': 947, 'humidity': 99, 'temp_kf': 0}, 'weather': [{'id': 501, 'main': 'Rain', 'description': 'moderate rain', 'icon': '10d'}], 'clouds': {'all': 100}, 'wind': {'speed': 3.13, 'deg': 240, 'gust': 3.44}, 'visibility': 29, 'pop': 1, 'rain': {'3h': 4.65}, 'sys': {'pod': 'd'}, 'dt_txt': '2024-10-27 12:00:00'}, {'dt': 1730041200, 'main': {'temp': 277.94, 'feels_like': 275, 'temp_min': 277.94, 'temp_max': 277.94, 'pressure': 997, 'sea_level': 997, 'grnd_level': 946, 'humidity': 98, 'temp_kf': 0}, 'weather': [{'id': 601, 'main': 'Snow', 'description': 'snow', 'icon': '13n'}], 'clouds': {'all': 100}, 'wind': {'speed': 3.59, 'deg': 211, 'gust': 9.57}, 'visibility': 73, 'pop': 1, 'snow': {'3h': 5.31}, 'sys': {'pod': 'n'}, 'dt_txt': '2024-10-27 15:00:00'}, {'dt': 1730052000, 'main': {'temp': 278.26, 'feels_like': 275.08, 'temp_min': 278.26, 'temp_max': 278.26, 'pressure': 995, 'sea_level': 995, 'grnd_level': 944, 'humidity': 99, 'temp_kf': 0}, 'weather': [{'id': 501, 'main': 'Rain', 'description': 'moderate rain', 'icon': '10n'}], 'clouds': {'all': 100}, 'wind': {'speed': 4.12, 'deg': 231, 'gust': 10.11}, 'visibility': 95, 'pop': 1, 'rain': {'3h': 7.37}, 'sys': {'pod': 'n'}, 'dt_txt': '2024-10-27 18:00:00'}, {'dt': 1730062800, 'main': {'temp': 277.02, 'feels_like': 273.69, 'temp_min': 277.02, 'temp_max': 277.02, 'pressure': 997, 'sea_level': 997, 'grnd_level': 946, 'humidity': 100, 'temp_kf': 0}, 'weather': [{'id': 601, 'main': 'Snow', 'description': 'snow', 'icon': '13n'}], 'clouds': {'all': 100}, 'wind': {'speed': 3.89, 'deg': 250, 'gust': 7.43}, 'visibility': 46, 'pop': 1, 'snow': {'3h': 5.29}, 'sys': {'pod': 'n'}, 'dt_txt': '2024-10-27 21:00:00'}, {'dt': 1730073600, 'main': {'temp': 276.56, 'feels_like': 272.07, 'temp_min': 276.56, 'temp_max': 276.56, 'pressure': 998, 'sea_level': 998, 'grnd_level': 946, 'humidity': 97, 'temp_kf': 0}, 'weather': [{'id': 601, 'main': 'Snow', 'description': 'snow', 'icon': '13n'}], 'clouds': {'all': 100}, 'wind': {'speed': 5.9, 'deg': 272, 'gust': 13.82}, 'visibility': 198, 'pop': 1, 'snow': {'3h': 4.68}, 'sys': {'pod': 'n'}, 'dt_txt': '2024-10-28 00:00:00'}, {'dt': 1730084400, 'main': {'temp': 275.64, 'feels_like': 272.31, 'temp_min': 275.64, 'temp_max': 275.64, 'pressure': 999, 'sea_level': 999, 'grnd_level': 947, 'humidity': 100, 'temp_kf': 0}, 'weather': [{'id': 601, 'main': 'Snow', 'description': 'snow', 'icon': '13n'}], 'clouds': {'all': 94}, 'wind': {'speed': 3.43, 'deg': 238, 'gust': 3.78}, 'visibility': 48, 'pop': 1, 'snow': {'3h': 2.15}, 'sys': {'pod': 'n'}, 'dt_txt': '2024-10-28 03:00:00'}, {'dt': 1730095200, 'main': {'temp': 275.41, 'feels_like': 270.39, 'temp_min': 275.41, 'temp_max': 275.41, 'pressure': 1002, 'sea_level': 1002, 'grnd_level': 951, 'humidity': 96, 'temp_kf': 0}, 'weather': [{'id': 601, 'main': 'Snow', 'description': 'snow', 'icon': '13n'}], 'clouds': {'all': 97}, 'wind': {'speed': 6.4, 'deg': 261, 'gust': 13.71}, 'visibility': 231, 'pop': 1, 'snow': {'3h': 4.8}, 'sys': {'pod': 'n'}, 'dt_txt': '2024-10-28 06:00:00'}, {'dt': 1730106000, 'main': {'temp': 275.66, 'feels_like': 271.1, 'temp_min': 275.66, 'temp_max': 275.66, 'pressure': 1005, 'sea_level': 1005, 'grnd_level': 953, 'humidity': 97, 'temp_kf': 0}, 'weather': [{'id': 601, 'main': 'Snow', 'description': 'snow', 'icon': '13d'}], 'clouds': {'all': 100}, 'wind': {'speed': 5.55, 'deg': 250, 'gust': 11.02}, 'visibility': 302, 'pop': 1, 'snow': {'3h': 5.05}, 'sys': {'pod': 'd'}, 'dt_txt': '2024-10-28 09:00:00'}, {'dt': 1730116800, 'main': {'temp': 275.41, 'feels_like': 271.45, 'temp_min': 275.41, 'temp_max': 275.41, 'pressure': 1009, 'sea_level': 1009, 'grnd_level': 957, 'humidity': 96, 'temp_kf': 0}, 'weather': [{'id': 601, 'main': 'Snow', 'description': 'snow', 'icon': '13d'}], 'clouds': {'all': 100}, 'wind': {'speed': 4.31, 'deg': 241, 'gust': 9.97}, 'visibility': 513, 'pop': 1, 'snow': {'3h': 3.39}, 'sys': {'pod': 'd'}, 'dt_txt': '2024-10-28 12:00:00'}, {'dt': 1730127600, 'main': {'temp': 274.19, 'feels_like': 269.5, 'temp_min': 274.19, 'temp_max': 274.19, 'pressure': 1012, 'sea_level': 1012, 'grnd_level': 960, 'humidity': 95, 'temp_kf': 0}, 'weather': [{'id': 601, 'main': 'Snow', 'description': 'snow', 'icon': '13n'}], 'clouds': {'all': 100}, 'wind': {'speed': 5.07, 'deg': 249, 'gust': 9.62}, 'visibility': 579, 'pop': 1, 'snow': {'3h': 2.58}, 'sys': {'pod': 'n'}, 'dt_txt': '2024-10-28 15:00:00'}, {'dt': 1730138400, 'main': {'temp': 273.18, 'feels_like': 268.72, 'temp_min': 273.18, 'temp_max': 273.18, 'pressure': 1014, 'sea_level': 1014, 'grnd_level': 962, 'humidity': 89, 'temp_kf': 0}, 'weather': [{'id': 600, 'main': 'Snow', 'description': 'light snow', 'icon': '13n'}], 'clouds': {'all': 96}, 'wind': {'speed': 4.27, 'deg': 251, 'gust': 4.93}, 'visibility': 3379, 'pop': 1, 'snow': {'3h': 0.93}, 'sys': {'pod': 'n'}, 'dt_txt': '2024-10-28 18:00:00'}], 'city': {'id': 3145614, 'name': 'Mo i Rana', 'coord': {'lat': 66.3128, 'lon': 14.1428}, 'country': 'NO', 'population': 17853, 'timezone': 7200, 'sunrise': 1729664944, 'sunset': 1729695964}}\""
      ]
     },
     "execution_count": 21,
     "metadata": {},
     "output_type": "execute_result"
    }
   ],
   "source": [
    "# Inspect JSON file\n",
    "forecast.__str__()"
   ]
  },
  {
   "cell_type": "markdown",
   "metadata": {
    "slideshow": {
     "slide_type": "slide"
    }
   },
   "source": [
    "## Raw JSON\n",
    "- A simple, but not very efficient way of storing JSON data is to treat it as a text and save it directly to the database.  \n",
    "- More efficient, with regard to transfer, is to compress the JSON data to a blob first.\n",
    "    - Compression is automatic."
   ]
  },
  {
   "cell_type": "code",
   "execution_count": 22,
   "metadata": {
    "ExecuteTime": {
     "end_time": "2024-08-17T10:25:35.916537Z",
     "start_time": "2024-08-17T10:25:35.799572Z"
    },
    "slideshow": {
     "slide_type": "fragment"
    },
    "tags": []
   },
   "outputs": [
    {
     "data": {
      "text/plain": [
       "<cassandra.cluster.ResultSet at 0x10ba32120>"
      ]
     },
     "execution_count": 22,
     "metadata": {},
     "output_type": "execute_result"
    }
   ],
   "source": [
    "# Create a new table which treats the whole JSON as a blob, using the city id and the first dt as keys\n",
    "session.set_keyspace('my_first_keyspace')\n",
    "session.execute(\"DROP TABLE IF EXISTS my_first_keyspace.forecast_table;\")\n",
    "session.execute(\"CREATE TABLE IF NOT EXISTS forecast_table (city_id int, dt int, forecast blob, PRIMARY KEY(city_id, dt));\")"
   ]
  },
  {
   "cell_type": "markdown",
   "metadata": {
    "slideshow": {
     "slide_type": "slide"
    }
   },
   "source": [
    "### Insert the forecast data into the table as text blob"
   ]
  },
  {
   "cell_type": "code",
   "execution_count": 23,
   "metadata": {
    "ExecuteTime": {
     "end_time": "2024-08-17T10:25:35.935855Z",
     "start_time": "2024-08-17T10:25:35.917175Z"
    },
    "slideshow": {
     "slide_type": "fragment"
    },
    "tags": []
   },
   "outputs": [
    {
     "data": {
      "text/plain": [
       "<cassandra.cluster.ResultSet at 0x1092a38c0>"
      ]
     },
     "execution_count": 23,
     "metadata": {},
     "output_type": "execute_result"
    }
   ],
   "source": [
    "session.execute(\"INSERT INTO forecast_table (city_id, dt, forecast) VALUES (%s, %s, textAsBlob(%s));\", (forecast['city']['id'], forecast['list'][0]['dt'], forecast.__str__()))"
   ]
  },
  {
   "cell_type": "code",
   "execution_count": 24,
   "metadata": {
    "ExecuteTime": {
     "end_time": "2024-08-17T10:25:35.946537Z",
     "start_time": "2024-08-17T10:25:35.938642Z"
    },
    "slideshow": {
     "slide_type": "slide"
    },
    "tags": []
   },
   "outputs": [
    {
     "name": "stdout",
     "output_type": "stream",
     "text": [
      "Row(city_id=3145614, dt=1729717200, forecast=b\"{'cod': '200', 'message': 0, 'cnt': 40, 'list': [{'dt': 1729717200, 'main': {'temp': 278.43, 'feels_like': 278.43, 'temp_min': 278.43, 'temp_max': 278.62, 'pressure': 1007, 'sea_level': 1007, 'grnd_level': 958, 'humidity': 95, 'temp_kf': -0.19}, 'weather': [{'id': 500, 'main': 'Rain', 'description': 'light rain', 'icon': '10n'}], 'clouds': {'all': 83}, 'wind': {'speed': 1.07, 'deg': 234, 'gust': 2.27}, 'visibility': 287, 'pop': 0.87, 'rain': {'3h': 0.39}, 'sys': {'pod': 'n'}, 'dt_txt': '2024-10-23 21:00:00'}, {'dt': 1729728000, 'main': {'temp': 278.66, 'feels_like': 278.66, 'temp_min': 278.66, 'temp_max': 278.83, 'pressure': 1009, 'sea_level': 1009, 'grnd_level': 959, 'humidity': 96, 'temp_kf': -0.17}, 'weather': [{'id': 500, 'main': 'Rain', 'description': 'light rain', 'icon': '10n'}], 'clouds': {'all': 92}, 'wind': {'speed': 0.76, 'deg': 169, 'gust': 0.97}, 'visibility': 3866, 'pop': 1, 'rain': {'3h': 0.65}, 'sys': {'pod': 'n'}, 'dt_txt': '2024-10-24 00:00:00'}, {'dt': 1729738800, 'main': {'temp': 279.3, 'feels_like': 279.3, 'temp_min': 279.3, 'temp_max': 279.3, 'pressure': 1011, 'sea_level': 1011, 'grnd_level': 960, 'humidity': 98, 'temp_kf': 0}, 'weather': [{'id': 500, 'main': 'Rain', 'description': 'light rain', 'icon': '10n'}], 'clouds': {'all': 100}, 'wind': {'speed': 0.81, 'deg': 181, 'gust': 0.76}, 'visibility': 2672, 'pop': 1, 'rain': {'3h': 1.46}, 'sys': {'pod': 'n'}, 'dt_txt': '2024-10-24 03:00:00'}, {'dt': 1729749600, 'main': {'temp': 279.77, 'feels_like': 279.77, 'temp_min': 279.77, 'temp_max': 279.77, 'pressure': 1012, 'sea_level': 1012, 'grnd_level': 960, 'humidity': 98, 'temp_kf': 0}, 'weather': [{'id': 501, 'main': 'Rain', 'description': 'moderate rain', 'icon': '10n'}], 'clouds': {'all': 100}, 'wind': {'speed': 0.67, 'deg': 144, 'gust': 0.61}, 'visibility': 2741, 'pop': 1, 'rain': {'3h': 3.61}, 'sys': {'pod': 'n'}, 'dt_txt': '2024-10-24 06:00:00'}, {'dt': 1729760400, 'main': {'temp': 280.11, 'feels_like': 280.11, 'temp_min': 280.11, 'temp_max': 280.11, 'pressure': 1013, 'sea_level': 1013, 'grnd_level': 962, 'humidity': 98, 'temp_kf': 0}, 'weather': [{'id': 501, 'main': 'Rain', 'description': 'moderate rain', 'icon': '10d'}], 'clouds': {'all': 100}, 'wind': {'speed': 0.8, 'deg': 226, 'gust': 0.79}, 'visibility': 2476, 'pop': 1, 'rain': {'3h': 8.09}, 'sys': {'pod': 'd'}, 'dt_txt': '2024-10-24 09:00:00'}, {'dt': 1729771200, 'main': {'temp': 281.2, 'feels_like': 280.38, 'temp_min': 281.2, 'temp_max': 281.2, 'pressure': 1014, 'sea_level': 1014, 'grnd_level': 962, 'humidity': 98, 'temp_kf': 0}, 'weather': [{'id': 501, 'main': 'Rain', 'description': 'moderate rain', 'icon': '10d'}], 'clouds': {'all': 100}, 'wind': {'speed': 1.68, 'deg': 194, 'gust': 1.88}, 'visibility': 4107, 'pop': 1, 'rain': {'3h': 8.71}, 'sys': {'pod': 'd'}, 'dt_txt': '2024-10-24 12:00:00'}, {'dt': 1729782000, 'main': {'temp': 281.71, 'feels_like': 281.13, 'temp_min': 281.71, 'temp_max': 281.71, 'pressure': 1014, 'sea_level': 1014, 'grnd_level': 963, 'humidity': 97, 'temp_kf': 0}, 'weather': [{'id': 500, 'main': 'Rain', 'description': 'light rain', 'icon': '10d'}], 'clouds': {'all': 100}, 'wind': {'speed': 1.52, 'deg': 185, 'gust': 1.55}, 'visibility': 3993, 'pop': 1, 'rain': {'3h': 1.04}, 'sys': {'pod': 'd'}, 'dt_txt': '2024-10-24 15:00:00'}, {'dt': 1729792800, 'main': {'temp': 281.38, 'feels_like': 280.67, 'temp_min': 281.38, 'temp_max': 281.38, 'pressure': 1013, 'sea_level': 1013, 'grnd_level': 962, 'humidity': 96, 'temp_kf': 0}, 'weather': [{'id': 500, 'main': 'Rain', 'description': 'light rain', 'icon': '10n'}], 'clouds': {'all': 100}, 'wind': {'speed': 1.6, 'deg': 160, 'gust': 1.34}, 'visibility': 4090, 'pop': 1, 'rain': {'3h': 1.73}, 'sys': {'pod': 'n'}, 'dt_txt': '2024-10-24 18:00:00'}, {'dt': 1729803600, 'main': {'temp': 281.19, 'feels_like': 280.42, 'temp_min': 281.19, 'temp_max': 281.19, 'pressure': 1013, 'sea_level': 1013, 'grnd_level': 962, 'humidity': 95, 'temp_kf': 0}, 'weather': [{'id': 804, 'main': 'Clouds', 'description': 'overcast clouds', 'icon': '04n'}], 'clouds': {'all': 100}, 'wind': {'speed': 1.63, 'deg': 169, 'gust': 1.42}, 'visibility': 3899, 'pop': 0, 'sys': {'pod': 'n'}, 'dt_txt': '2024-10-24 21:00:00'}, {'dt': 1729814400, 'main': {'temp': 282.36, 'feels_like': 281.02, 'temp_min': 282.36, 'temp_max': 282.36, 'pressure': 1011, 'sea_level': 1011, 'grnd_level': 960, 'humidity': 82, 'temp_kf': 0}, 'weather': [{'id': 804, 'main': 'Clouds', 'description': 'overcast clouds', 'icon': '04n'}], 'clouds': {'all': 100}, 'wind': {'speed': 2.53, 'deg': 208, 'gust': 2.46}, 'visibility': 10000, 'pop': 0, 'sys': {'pod': 'n'}, 'dt_txt': '2024-10-25 00:00:00'}, {'dt': 1729825200, 'main': {'temp': 282.95, 'feels_like': 279.82, 'temp_min': 282.95, 'temp_max': 282.95, 'pressure': 1011, 'sea_level': 1011, 'grnd_level': 960, 'humidity': 78, 'temp_kf': 0}, 'weather': [{'id': 804, 'main': 'Clouds', 'description': 'overcast clouds', 'icon': '04n'}], 'clouds': {'all': 93}, 'wind': {'speed': 7.06, 'deg': 236, 'gust': 11.79}, 'visibility': 10000, 'pop': 0, 'sys': {'pod': 'n'}, 'dt_txt': '2024-10-25 03:00:00'}, {'dt': 1729836000, 'main': {'temp': 283.03, 'feels_like': 280.19, 'temp_min': 283.03, 'temp_max': 283.03, 'pressure': 1009, 'sea_level': 1009, 'grnd_level': 958, 'humidity': 82, 'temp_kf': 0}, 'weather': [{'id': 500, 'main': 'Rain', 'description': 'light rain', 'icon': '10n'}], 'clouds': {'all': 97}, 'wind': {'speed': 6.16, 'deg': 224, 'gust': 11.61}, 'visibility': 10000, 'pop': 0.99, 'rain': {'3h': 1.49}, 'sys': {'pod': 'n'}, 'dt_txt': '2024-10-25 06:00:00'}, {'dt': 1729846800, 'main': {'temp': 282.65, 'feels_like': 280.86, 'temp_min': 282.65, 'temp_max': 282.65, 'pressure': 1008, 'sea_level': 1008, 'grnd_level': 957, 'humidity': 94, 'temp_kf': 0}, 'weather': [{'id': 501, 'main': 'Rain', 'description': 'moderate rain', 'icon': '10d'}], 'clouds': {'all': 99}, 'wind': {'speed': 3.36, 'deg': 222, 'gust': 4.48}, 'visibility': 6557, 'pop': 1, 'rain': {'3h': 5.68}, 'sys': {'pod': 'd'}, 'dt_txt': '2024-10-25 09:00:00'}, {'dt': 1729857600, 'main': {'temp': 280.29, 'feels_like': 277.87, 'temp_min': 280.29, 'temp_max': 280.29, 'pressure': 1010, 'sea_level': 1010, 'grnd_level': 959, 'humidity': 97, 'temp_kf': 0}, 'weather': [{'id': 501, 'main': 'Rain', 'description': 'moderate rain', 'icon': '10d'}], 'clouds': {'all': 99}, 'wind': {'speed': 3.57, 'deg': 243, 'gust': 10.21}, 'visibility': 1634, 'pop': 1, 'rain': {'3h': 7.93}, 'sys': {'pod': 'd'}, 'dt_txt': '2024-10-25 12:00:00'}, {'dt': 1729868400, 'main': {'temp': 280.28, 'feels_like': 277.85, 'temp_min': 280.28, 'temp_max': 280.28, 'pressure': 1012, 'sea_level': 1012, 'grnd_level': 961, 'humidity': 93, 'temp_kf': 0}, 'weather': [{'id': 501, 'main': 'Rain', 'description': 'moderate rain', 'icon': '10n'}], 'clouds': {'all': 100}, 'wind': {'speed': 3.59, 'deg': 253, 'gust': 8.99}, 'visibility': 5490, 'pop': 1, 'rain': {'3h': 7.72}, 'sys': {'pod': 'n'}, 'dt_txt': '2024-10-25 15:00:00'}, {'dt': 1729879200, 'main': {'temp': 280.02, 'feels_like': 277.37, 'temp_min': 280.02, 'temp_max': 280.02, 'pressure': 1014, 'sea_level': 1014, 'grnd_level': 962, 'humidity': 79, 'temp_kf': 0}, 'weather': [{'id': 500, 'main': 'Rain', 'description': 'light rain', 'icon': '10n'}], 'clouds': {'all': 100}, 'wind': {'speed': 3.89, 'deg': 249, 'gust': 7.36}, 'visibility': 10000, 'pop': 1, 'rain': {'3h': 0.26}, 'sys': {'pod': 'n'}, 'dt_txt': '2024-10-25 18:00:00'}, {'dt': 1729890000, 'main': {'temp': 279.42, 'feels_like': 277.65, 'temp_min': 279.42, 'temp_max': 279.42, 'pressure': 1015, 'sea_level': 1015, 'grnd_level': 963, 'humidity': 83, 'temp_kf': 0}, 'weather': [{'id': 500, 'main': 'Rain', 'description': 'light rain', 'icon': '10n'}], 'clouds': {'all': 100}, 'wind': {'speed': 2.38, 'deg': 246, 'gust': 4.87}, 'visibility': 10000, 'pop': 0.2, 'rain': {'3h': 0.12}, 'sys': {'pod': 'n'}, 'dt_txt': '2024-10-25 21:00:00'}, {'dt': 1729900800, 'main': {'temp': 278.77, 'feels_like': 277.64, 'temp_min': 278.77, 'temp_max': 278.77, 'pressure': 1015, 'sea_level': 1015, 'grnd_level': 963, 'humidity': 82, 'temp_kf': 0}, 'weather': [{'id': 804, 'main': 'Clouds', 'description': 'overcast clouds', 'icon': '04n'}], 'clouds': {'all': 100}, 'wind': {'speed': 1.63, 'deg': 222, 'gust': 1.59}, 'visibility': 10000, 'pop': 0, 'sys': {'pod': 'n'}, 'dt_txt': '2024-10-26 00:00:00'}, {'dt': 1729911600, 'main': {'temp': 278.94, 'feels_like': 277.75, 'temp_min': 278.94, 'temp_max': 278.94, 'pressure': 1015, 'sea_level': 1015, 'grnd_level': 963, 'humidity': 77, 'temp_kf': 0}, 'weather': [{'id': 804, 'main': 'Clouds', 'description': 'overcast clouds', 'icon': '04n'}], 'clouds': {'all': 95}, 'wind': {'speed': 1.71, 'deg': 129, 'gust': 1.49}, 'visibility': 10000, 'pop': 0, 'sys': {'pod': 'n'}, 'dt_txt': '2024-10-26 03:00:00'}, {'dt': 1729922400, 'main': {'temp': 277.64, 'feels_like': 276.49, 'temp_min': 277.64, 'temp_max': 277.64, 'pressure': 1013, 'sea_level': 1013, 'grnd_level': 962, 'humidity': 78, 'temp_kf': 0}, 'weather': [{'id': 804, 'main': 'Clouds', 'description': 'overcast clouds', 'icon': '04n'}], 'clouds': {'all': 97}, 'wind': {'speed': 1.52, 'deg': 118, 'gust': 1.24}, 'visibility': 10000, 'pop': 0, 'sys': {'pod': 'n'}, 'dt_txt': '2024-10-26 06:00:00'}, {'dt': 1729933200, 'main': {'temp': 279.58, 'feels_like': 279.58, 'temp_min': 279.58, 'temp_max': 279.58, 'pressure': 1012, 'sea_level': 1012, 'grnd_level': 961, 'humidity': 74, 'temp_kf': 0}, 'weather': [{'id': 804, 'main': 'Clouds', 'description': 'overcast clouds', 'icon': '04d'}], 'clouds': {'all': 99}, 'wind': {'speed': 0.86, 'deg': 136, 'gust': 0.97}, 'visibility': 10000, 'pop': 0, 'sys': {'pod': 'd'}, 'dt_txt': '2024-10-26 09:00:00'}, {'dt': 1729944000, 'main': {'temp': 279.5, 'feels_like': 279.5, 'temp_min': 279.5, 'temp_max': 279.5, 'pressure': 1011, 'sea_level': 1011, 'grnd_level': 959, 'humidity': 83, 'temp_kf': 0}, 'weather': [{'id': 804, 'main': 'Clouds', 'description': 'overcast clouds', 'icon': '04d'}], 'clouds': {'all': 99}, 'wind': {'speed': 0.6, 'deg': 114, 'gust': 0.51}, 'visibility': 10000, 'pop': 0, 'sys': {'pod': 'd'}, 'dt_txt': '2024-10-26 12:00:00'}, {'dt': 1729954800, 'main': {'temp': 279.83, 'feels_like': 279.83, 'temp_min': 279.83, 'temp_max': 279.83, 'pressure': 1008, 'sea_level': 1008, 'grnd_level': 957, 'humidity': 86, 'temp_kf': 0}, 'weather': [{'id': 804, 'main': 'Clouds', 'description': 'overcast clouds', 'icon': '04n'}], 'clouds': {'all': 99}, 'wind': {'speed': 1.16, 'deg': 87, 'gust': 0.76}, 'visibility': 10000, 'pop': 0, 'sys': {'pod': 'n'}, 'dt_txt': '2024-10-26 15:00:00'}, {'dt': 1729965600, 'main': {'temp': 279.95, 'feels_like': 279.35, 'temp_min': 279.95, 'temp_max': 279.95, 'pressure': 1005, 'sea_level': 1005, 'grnd_level': 954, 'humidity': 84, 'temp_kf': 0}, 'weather': [{'id': 500, 'main': 'Rain', 'description': 'light rain', 'icon': '10n'}], 'clouds': {'all': 100}, 'wind': {'speed': 1.34, 'deg': 97, 'gust': 0.73}, 'visibility': 10000, 'pop': 0.39, 'rain': {'3h': 0.31}, 'sys': {'pod': 'n'}, 'dt_txt': '2024-10-26 18:00:00'}, {'dt': 1729976400, 'main': {'temp': 280.12, 'feels_like': 280.12, 'temp_min': 280.12, 'temp_max': 280.12, 'pressure': 1002, 'sea_level': 1002, 'grnd_level': 952, 'humidity': 86, 'temp_kf': 0}, 'weather': [{'id': 500, 'main': 'Rain', 'description': 'light rain', 'icon': '10n'}], 'clouds': {'all': 100}, 'wind': {'speed': 0.66, 'deg': 102, 'gust': 0.24}, 'visibility': 10000, 'pop': 1, 'rain': {'3h': 0.76}, 'sys': {'pod': 'n'}, 'dt_txt': '2024-10-26 21:00:00'}, {'dt': 1729987200, 'main': {'temp': 280.28, 'feels_like': 278.93, 'temp_min': 280.28, 'temp_max': 280.28, 'pressure': 1001, 'sea_level': 1001, 'grnd_level': 950, 'humidity': 95, 'temp_kf': 0}, 'weather': [{'id': 501, 'main': 'Rain', 'description': 'moderate rain', 'icon': '10n'}], 'clouds': {'all': 100}, 'wind': {'speed': 2.08, 'deg': 253, 'gust': 2.11}, 'visibility': 4656, 'pop': 1, 'rain': {'3h': 5.39}, 'sys': {'pod': 'n'}, 'dt_txt': '2024-10-27 00:00:00'}, {'dt': 1729998000, 'main': {'temp': 280.72, 'feels_like': 279.76, 'temp_min': 280.72, 'temp_max': 280.72, 'pressure': 999, 'sea_level': 999, 'grnd_level': 949, 'humidity': 97, 'temp_kf': 0}, 'weather': [{'id': 501, 'main': 'Rain', 'description': 'moderate rain', 'icon': '10n'}], 'clouds': {'all': 100}, 'wind': {'speed': 1.74, 'deg': 193, 'gust': 1.76}, 'visibility': 6140, 'pop': 1, 'rain': {'3h': 8.42}, 'sys': {'pod': 'n'}, 'dt_txt': '2024-10-27 03:00:00'}, {'dt': 1730008800, 'main': {'temp': 280.4, 'feels_like': 278.53, 'temp_min': 280.4, 'temp_max': 280.4, 'pressure': 999, 'sea_level': 999, 'grnd_level': 948, 'humidity': 97, 'temp_kf': 0}, 'weather': [{'id': 501, 'main': 'Rain', 'description': 'moderate rain', 'icon': '10n'}], 'clouds': {'all': 100}, 'wind': {'speed': 2.75, 'deg': 261, 'gust': 4.64}, 'visibility': 2311, 'pop': 1, 'rain': {'3h': 5.86}, 'sys': {'pod': 'n'}, 'dt_txt': '2024-10-27 06:00:00'}, {'dt': 1730019600, 'main': {'temp': 278.81, 'feels_like': 277.88, 'temp_min': 278.81, 'temp_max': 278.81, 'pressure': 999, 'sea_level': 999, 'grnd_level': 948, 'humidity': 99, 'temp_kf': 0}, 'weather': [{'id': 500, 'main': 'Rain', 'description': 'light rain', 'icon': '10d'}], 'clouds': {'all': 100}, 'wind': {'speed': 1.48, 'deg': 234, 'gust': 3.99}, 'visibility': 153, 'pop': 1, 'rain': {'3h': 2.24}, 'sys': {'pod': 'd'}, 'dt_txt': '2024-10-27 09:00:00'}, {'dt': 1730030400, 'main': {'temp': 278.25, 'feels_like': 275.68, 'temp_min': 278.25, 'temp_max': 278.25, 'pressure': 998, 'sea_level': 998, 'grnd_level': 947, 'humidity': 99, 'temp_kf': 0}, 'weather': [{'id': 501, 'main': 'Rain', 'description': 'moderate rain', 'icon': '10d'}], 'clouds': {'all': 100}, 'wind': {'speed': 3.13, 'deg': 240, 'gust': 3.44}, 'visibility': 29, 'pop': 1, 'rain': {'3h': 4.65}, 'sys': {'pod': 'd'}, 'dt_txt': '2024-10-27 12:00:00'}, {'dt': 1730041200, 'main': {'temp': 277.94, 'feels_like': 275, 'temp_min': 277.94, 'temp_max': 277.94, 'pressure': 997, 'sea_level': 997, 'grnd_level': 946, 'humidity': 98, 'temp_kf': 0}, 'weather': [{'id': 601, 'main': 'Snow', 'description': 'snow', 'icon': '13n'}], 'clouds': {'all': 100}, 'wind': {'speed': 3.59, 'deg': 211, 'gust': 9.57}, 'visibility': 73, 'pop': 1, 'snow': {'3h': 5.31}, 'sys': {'pod': 'n'}, 'dt_txt': '2024-10-27 15:00:00'}, {'dt': 1730052000, 'main': {'temp': 278.26, 'feels_like': 275.08, 'temp_min': 278.26, 'temp_max': 278.26, 'pressure': 995, 'sea_level': 995, 'grnd_level': 944, 'humidity': 99, 'temp_kf': 0}, 'weather': [{'id': 501, 'main': 'Rain', 'description': 'moderate rain', 'icon': '10n'}], 'clouds': {'all': 100}, 'wind': {'speed': 4.12, 'deg': 231, 'gust': 10.11}, 'visibility': 95, 'pop': 1, 'rain': {'3h': 7.37}, 'sys': {'pod': 'n'}, 'dt_txt': '2024-10-27 18:00:00'}, {'dt': 1730062800, 'main': {'temp': 277.02, 'feels_like': 273.69, 'temp_min': 277.02, 'temp_max': 277.02, 'pressure': 997, 'sea_level': 997, 'grnd_level': 946, 'humidity': 100, 'temp_kf': 0}, 'weather': [{'id': 601, 'main': 'Snow', 'description': 'snow', 'icon': '13n'}], 'clouds': {'all': 100}, 'wind': {'speed': 3.89, 'deg': 250, 'gust': 7.43}, 'visibility': 46, 'pop': 1, 'snow': {'3h': 5.29}, 'sys': {'pod': 'n'}, 'dt_txt': '2024-10-27 21:00:00'}, {'dt': 1730073600, 'main': {'temp': 276.56, 'feels_like': 272.07, 'temp_min': 276.56, 'temp_max': 276.56, 'pressure': 998, 'sea_level': 998, 'grnd_level': 946, 'humidity': 97, 'temp_kf': 0}, 'weather': [{'id': 601, 'main': 'Snow', 'description': 'snow', 'icon': '13n'}], 'clouds': {'all': 100}, 'wind': {'speed': 5.9, 'deg': 272, 'gust': 13.82}, 'visibility': 198, 'pop': 1, 'snow': {'3h': 4.68}, 'sys': {'pod': 'n'}, 'dt_txt': '2024-10-28 00:00:00'}, {'dt': 1730084400, 'main': {'temp': 275.64, 'feels_like': 272.31, 'temp_min': 275.64, 'temp_max': 275.64, 'pressure': 999, 'sea_level': 999, 'grnd_level': 947, 'humidity': 100, 'temp_kf': 0}, 'weather': [{'id': 601, 'main': 'Snow', 'description': 'snow', 'icon': '13n'}], 'clouds': {'all': 94}, 'wind': {'speed': 3.43, 'deg': 238, 'gust': 3.78}, 'visibility': 48, 'pop': 1, 'snow': {'3h': 2.15}, 'sys': {'pod': 'n'}, 'dt_txt': '2024-10-28 03:00:00'}, {'dt': 1730095200, 'main': {'temp': 275.41, 'feels_like': 270.39, 'temp_min': 275.41, 'temp_max': 275.41, 'pressure': 1002, 'sea_level': 1002, 'grnd_level': 951, 'humidity': 96, 'temp_kf': 0}, 'weather': [{'id': 601, 'main': 'Snow', 'description': 'snow', 'icon': '13n'}], 'clouds': {'all': 97}, 'wind': {'speed': 6.4, 'deg': 261, 'gust': 13.71}, 'visibility': 231, 'pop': 1, 'snow': {'3h': 4.8}, 'sys': {'pod': 'n'}, 'dt_txt': '2024-10-28 06:00:00'}, {'dt': 1730106000, 'main': {'temp': 275.66, 'feels_like': 271.1, 'temp_min': 275.66, 'temp_max': 275.66, 'pressure': 1005, 'sea_level': 1005, 'grnd_level': 953, 'humidity': 97, 'temp_kf': 0}, 'weather': [{'id': 601, 'main': 'Snow', 'description': 'snow', 'icon': '13d'}], 'clouds': {'all': 100}, 'wind': {'speed': 5.55, 'deg': 250, 'gust': 11.02}, 'visibility': 302, 'pop': 1, 'snow': {'3h': 5.05}, 'sys': {'pod': 'd'}, 'dt_txt': '2024-10-28 09:00:00'}, {'dt': 1730116800, 'main': {'temp': 275.41, 'feels_like': 271.45, 'temp_min': 275.41, 'temp_max': 275.41, 'pressure': 1009, 'sea_level': 1009, 'grnd_level': 957, 'humidity': 96, 'temp_kf': 0}, 'weather': [{'id': 601, 'main': 'Snow', 'description': 'snow', 'icon': '13d'}], 'clouds': {'all': 100}, 'wind': {'speed': 4.31, 'deg': 241, 'gust': 9.97}, 'visibility': 513, 'pop': 1, 'snow': {'3h': 3.39}, 'sys': {'pod': 'd'}, 'dt_txt': '2024-10-28 12:00:00'}, {'dt': 1730127600, 'main': {'temp': 274.19, 'feels_like': 269.5, 'temp_min': 274.19, 'temp_max': 274.19, 'pressure': 1012, 'sea_level': 1012, 'grnd_level': 960, 'humidity': 95, 'temp_kf': 0}, 'weather': [{'id': 601, 'main': 'Snow', 'description': 'snow', 'icon': '13n'}], 'clouds': {'all': 100}, 'wind': {'speed': 5.07, 'deg': 249, 'gust': 9.62}, 'visibility': 579, 'pop': 1, 'snow': {'3h': 2.58}, 'sys': {'pod': 'n'}, 'dt_txt': '2024-10-28 15:00:00'}, {'dt': 1730138400, 'main': {'temp': 273.18, 'feels_like': 268.72, 'temp_min': 273.18, 'temp_max': 273.18, 'pressure': 1014, 'sea_level': 1014, 'grnd_level': 962, 'humidity': 89, 'temp_kf': 0}, 'weather': [{'id': 600, 'main': 'Snow', 'description': 'light snow', 'icon': '13n'}], 'clouds': {'all': 96}, 'wind': {'speed': 4.27, 'deg': 251, 'gust': 4.93}, 'visibility': 3379, 'pop': 1, 'snow': {'3h': 0.93}, 'sys': {'pod': 'n'}, 'dt_txt': '2024-10-28 18:00:00'}], 'city': {'id': 3145614, 'name': 'Mo i Rana', 'coord': {'lat': 66.3128, 'lon': 14.1428}, 'country': 'NO', 'population': 17853, 'timezone': 7200, 'sunrise': 1729664944, 'sunset': 1729695964}}\")\n"
     ]
    }
   ],
   "source": [
    "# Query the data\n",
    "forecast_rows = session.execute(\"SELECT * FROM forecast_table;\")\n",
    "print(forecast_rows.one()) # <- only one row"
   ]
  },
  {
   "cell_type": "markdown",
   "metadata": {
    "slideshow": {
     "slide_type": "slide"
    }
   },
   "source": [
    "```{seealso} Resources\n",
    ":class: tip\n",
    "- [Cassandra webpage](https://cassandra.apache.org/)\n",
    "- [Cassandra Docker file](https://hub.docker.com/_/cassandra)\n",
    "- [UUID functions](https://docs.datastax.com/en/cql-oss/3.3/cql/cql_reference/timeuuid_functions_r.html)\n",
    "- [YouTube: Cassandra in 100 seconds](https://youtu.be/ziq7FUKpCS8?si=WQUdkHFvaBmT0DBo) (2m:26s)\n",
    "- [YouTube: How to use Apache Cassandra in Python](https://youtu.be/qMauZqJH3ZM?si=yKGZ-5cld2BK396Y) (14m:50s)\n",
    "- [YouTube: Cassandra Database Crash Course](https://youtu.be/KZsVSfQVU4I?si=FBCi8qOfCirfVmZk) (19m:47s)\n",
    "```"
   ]
  }
 ],
 "metadata": {
  "celltoolbar": "Slideshow",
  "kernelspec": {
   "display_name": "Python 3 (ipykernel)",
   "language": "python",
   "name": "python3"
  },
  "language_info": {
   "codemirror_mode": {
    "name": "ipython",
    "version": 3
   },
   "file_extension": ".py",
   "mimetype": "text/x-python",
   "name": "python",
   "nbconvert_exporter": "python",
   "pygments_lexer": "ipython3",
   "version": "3.12.4"
  }
 },
 "nbformat": 4,
 "nbformat_minor": 4
}