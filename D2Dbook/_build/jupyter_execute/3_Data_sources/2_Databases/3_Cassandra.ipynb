{
 "cells": [
  {
   "cell_type": "markdown",
   "metadata": {
    "slideshow": {
     "slide_type": "slide"
    }
   },
   "source": [
    "# Cassandra\n",
    "- A production grade NoSQL database.\n",
    "- Can be distributed across servers, nodes, etc.\n",
    "- Replication of database is supported for high degree of redundancy and speed.\n",
    "- Uses CQL, a subset of SQL for querying.\n",
    "- Works seamlesly together with Spark and its corresponding distributed structure.\n",
    "- Installation of Cassandra is explained in the [Installation chapter](../../7_Appendix/Installation.ipynb)."
   ]
  },
  {
   "cell_type": "markdown",
   "metadata": {
    "slideshow": {
     "slide_type": "slide"
    }
   },
   "source": [
    "## Spinning up a local Cassandra instance\n",
    "In a terminal, first time:  \n",
    "```docker run --name my_cassandra -p 9042:9042 cassandra:latest```  \n",
    "... and later:  \n",
    "```docker start my_cassandra```  \n",
    "  \n",
    ".. or in Docker Desktop:\n",
    "- Run the cassandra docker image with optional settings, opening 9042 port and setting a name.\n",
    "- Later, simply run the container with the name you chose."
   ]
  },
  {
   "cell_type": "markdown",
   "metadata": {
    "slideshow": {
     "slide_type": "slide"
    }
   },
   "source": [
    "<img src=\"https://github.com/khliland/IND320/blob/main/D2Dbook/images/Docker_images.png?raw=TRUE\" width=\"600px\">  "
   ]
  },
  {
   "cell_type": "markdown",
   "metadata": {
    "slideshow": {
     "slide_type": "slide"
    }
   },
   "source": [
    "\n",
    "<img src=\"https://github.com/khliland/IND320/blob/main/D2Dbook/images/Docker_containers.png?raw=TRUE\" width=\"800px\">  "
   ]
  },
  {
   "cell_type": "markdown",
   "metadata": {
    "slideshow": {
     "slide_type": "slide"
    }
   },
   "source": [
    "### Connect to the Cassandra cluster from Python."
   ]
  },
  {
   "cell_type": "code",
   "execution_count": 1,
   "metadata": {
    "ExecuteTime": {
     "end_time": "2024-08-17T10:25:34.787878Z",
     "start_time": "2024-08-17T10:25:34.389367Z"
    },
    "slideshow": {
     "slide_type": "-"
    },
    "tags": []
   },
   "outputs": [],
   "source": [
    "# Connecting to Cassandra\n",
    "from cassandra.cluster import Cluster\n",
    "cluster = Cluster(['localhost'], port=9042)\n",
    "session = cluster.connect()"
   ]
  },
  {
   "cell_type": "markdown",
   "metadata": {
    "slideshow": {
     "slide_type": "slide"
    }
   },
   "source": [
    "### Keyspace\n",
    "- In Cassandra database tables are stored in keyspaces (basically a distributed database).\n",
    "- These have parameters controlling their distribution on nodes/servers and redundancy.\n",
    "- We will use the simplest form locally."
   ]
  },
  {
   "cell_type": "code",
   "execution_count": 2,
   "metadata": {
    "ExecuteTime": {
     "end_time": "2024-08-17T10:25:34.798504Z",
     "start_time": "2024-08-17T10:25:34.789786Z"
    },
    "slideshow": {
     "slide_type": "fragment"
    },
    "tags": []
   },
   "outputs": [
    {
     "data": {
      "text/plain": [
       "<cassandra.cluster.ResultSet at 0x1130500e0>"
      ]
     },
     "execution_count": 2,
     "metadata": {},
     "output_type": "execute_result"
    }
   ],
   "source": [
    "# Set up new keyspace (first time only)\n",
    "#                                              name of keyspace                        replication strategy           replication factor\n",
    "session.execute(\"CREATE KEYSPACE IF NOT EXISTS my_first_keyspace WITH REPLICATION = { 'class' : 'SimpleStrategy', 'replication_factor' : 1 };\")"
   ]
  },
  {
   "cell_type": "markdown",
   "metadata": {
    "slideshow": {
     "slide_type": "slide"
    }
   },
   "source": [
    "### Create a table\n",
    "- IF NOT EXISTS makes sure we do not overwrite existing tables"
   ]
  },
  {
   "cell_type": "code",
   "execution_count": 3,
   "metadata": {
    "ExecuteTime": {
     "end_time": "2024-08-17T10:25:35.347394Z",
     "start_time": "2024-08-17T10:25:34.800008Z"
    },
    "slideshow": {
     "slide_type": "fragment"
    },
    "tags": []
   },
   "outputs": [
    {
     "data": {
      "text/plain": [
       "<cassandra.cluster.ResultSet at 0x1112f7080>"
      ]
     },
     "execution_count": 3,
     "metadata": {},
     "output_type": "execute_result"
    }
   ],
   "source": [
    "# Create a new table (first time only)\n",
    "session.set_keyspace('my_first_keyspace')\n",
    "session.execute(\"DROP TABLE IF EXISTS my_first_keyspace.my_first_table;\") # Starting from scratch every time\n",
    "session.execute(\"CREATE TABLE IF NOT EXISTS my_first_table (ind int PRIMARY KEY, company text, model text);\")"
   ]
  },
  {
   "cell_type": "markdown",
   "metadata": {
    "slideshow": {
     "slide_type": "slide"
    }
   },
   "source": [
    "### Inserting and reading data"
   ]
  },
  {
   "cell_type": "code",
   "execution_count": 4,
   "metadata": {
    "ExecuteTime": {
     "end_time": "2024-08-17T10:25:35.366363Z",
     "start_time": "2024-08-17T10:25:35.350453Z"
    },
    "slideshow": {
     "slide_type": "-"
    },
    "tags": []
   },
   "outputs": [
    {
     "data": {
      "text/plain": [
       "<cassandra.cluster.ResultSet at 0x1130fcce0>"
      ]
     },
     "execution_count": 4,
     "metadata": {},
     "output_type": "execute_result"
    }
   ],
   "source": [
    "# Insert some data (ind is the primary key, must be unique)\n",
    "session.execute(\"INSERT INTO my_first_table (ind, company, model) VALUES (1, 'Tesla', 'Model S');\")\n",
    "session.execute(\"INSERT INTO my_first_table (ind, company, model) VALUES (2, 'Tesla', 'Model 3');\")\n",
    "session.execute(\"INSERT INTO my_first_table (ind, company, model) VALUES (3, 'Polestar', '3');\")"
   ]
  },
  {
   "cell_type": "markdown",
   "metadata": {
    "slideshow": {
     "slide_type": "slide"
    }
   },
   "source": [
    "### Asyncronous writing\n",
    "- If your application is very data intensive, waiting for a response is not productive.\n",
    "- Writing asyncronously sends the data but does not pause for reply."
   ]
  },
  {
   "cell_type": "code",
   "execution_count": 5,
   "metadata": {
    "ExecuteTime": {
     "end_time": "2024-08-17T10:25:35.371390Z",
     "start_time": "2024-08-17T10:25:35.367159Z"
    },
    "slideshow": {
     "slide_type": "-"
    },
    "tags": []
   },
   "outputs": [
    {
     "data": {
      "text/plain": [
       "<ResponseFuture: query='<SimpleStatement query=\"INSERT INTO my_first_table (ind, company, model) VALUES (4, 'Volkswagen', 'ID.4');\", consistency=Not Set>' request_id=24 result=(no result yet) exception=None coordinator_host=None>"
      ]
     },
     "execution_count": 5,
     "metadata": {},
     "output_type": "execute_result"
    }
   ],
   "source": [
    "session.execute_async(\"INSERT INTO my_first_table (ind, company, model) VALUES (4, 'Volkswagen', 'ID.4');\")"
   ]
  },
  {
   "cell_type": "code",
   "execution_count": 6,
   "metadata": {
    "ExecuteTime": {
     "end_time": "2024-08-17T10:25:35.384736Z",
     "start_time": "2024-08-17T10:25:35.372551Z"
    },
    "slideshow": {
     "slide_type": "slide"
    },
    "tags": []
   },
   "outputs": [
    {
     "name": "stdout",
     "output_type": "stream",
     "text": [
      "Row(ind=1, company='Tesla', model='Model S')\n",
      "Row(ind=2, company='Tesla', model='Model 3')\n",
      "Row(ind=4, company='Volkswagen', model='ID.4')\n",
      "Row(ind=3, company='Polestar', model='3')\n"
     ]
    }
   ],
   "source": [
    "# Query the data\n",
    "rows = session.execute(\"SELECT * FROM my_first_table;\")\n",
    "for i in rows:\n",
    "    print(i)"
   ]
  },
  {
   "cell_type": "code",
   "execution_count": 7,
   "metadata": {
    "ExecuteTime": {
     "end_time": "2024-08-17T10:25:35.402371Z",
     "start_time": "2024-08-17T10:25:35.386980Z"
    },
    "slideshow": {
     "slide_type": "slide"
    },
    "tags": [
     "raises-exception"
    ]
   },
   "outputs": [
    {
     "name": "stdout",
     "output_type": "stream",
     "text": [
      "Row(ind=1, company='Tesla', model='Model S')\n",
      "Row(ind=2, company='Tesla', model='Model 3')\n"
     ]
    }
   ],
   "source": [
    "# More specific query\n",
    "prepared_statement = session.prepare(\"SELECT * FROM my_first_table WHERE company=? ALLOW FILTERING;\")\n",
    "teslas = session.execute(prepared_statement, ['Tesla'])\n",
    "for i in teslas:\n",
    "    print(i)"
   ]
  },
  {
   "cell_type": "markdown",
   "metadata": {
    "slideshow": {
     "slide_type": "slide"
    }
   },
   "source": [
    "## Cassandra filtering\n",
    "Cassandra is inherently a distributed production database. Selecting as above may require downloading all data from a node, then filtering based on the WHERE part (only PRIMARY KEYs are centrally known). Solutions:  \n",
    "- If the table is small or most of the data will satisfy the query, add ```ALLOW FILTERING``` at the end of the query (not recommended if not known). \n",
    "- Or make sure the WHERE clause points to one of the keys (see below)."
   ]
  },
  {
   "cell_type": "code",
   "execution_count": 8,
   "metadata": {
    "ExecuteTime": {
     "end_time": "2024-08-17T10:25:35.613711Z",
     "start_time": "2024-08-17T10:25:35.403622Z"
    },
    "slideshow": {
     "slide_type": "slide"
    },
    "tags": []
   },
   "outputs": [
    {
     "data": {
      "text/plain": [
       "<cassandra.cluster.ResultSet at 0x1130ff0b0>"
      ]
     },
     "execution_count": 8,
     "metadata": {},
     "output_type": "execute_result"
    }
   ],
   "source": [
    "# Create a new table (observe keys)\n",
    "session.execute(\"DROP TABLE IF EXISTS my_first_keyspace.car_table;\")\n",
    "session.execute(\"CREATE TABLE IF NOT EXISTS car_table (company text, model text, PRIMARY KEY(company, model));\")"
   ]
  },
  {
   "cell_type": "code",
   "execution_count": 9,
   "metadata": {
    "ExecuteTime": {
     "end_time": "2024-08-17T10:25:35.628950Z",
     "start_time": "2024-08-17T10:25:35.615126Z"
    },
    "slideshow": {
     "slide_type": "fragment"
    },
    "tags": []
   },
   "outputs": [
    {
     "data": {
      "text/plain": [
       "<cassandra.cluster.ResultSet at 0x11337c470>"
      ]
     },
     "execution_count": 9,
     "metadata": {},
     "output_type": "execute_result"
    }
   ],
   "source": [
    "# Insert some data (combination of company and model must be unique)\n",
    "session.execute(\"INSERT INTO car_table (company, model) VALUES ('Tesla', 'Model S');\")\n",
    "session.execute(\"INSERT INTO car_table (company, model) VALUES ('Tesla', 'Model 3');\")\n",
    "session.execute(\"INSERT INTO car_table (company, model) VALUES ('Polestar', '3');\")\n",
    "session.execute(\"INSERT INTO car_table (company, model) VALUES ('Volkswagen', 'ID.4');\")"
   ]
  },
  {
   "cell_type": "code",
   "execution_count": 10,
   "metadata": {
    "ExecuteTime": {
     "end_time": "2024-08-17T10:25:35.639765Z",
     "start_time": "2024-08-17T10:25:35.630657Z"
    },
    "slideshow": {
     "slide_type": "slide"
    },
    "tags": []
   },
   "outputs": [
    {
     "name": "stdout",
     "output_type": "stream",
     "text": [
      "Row(company='Tesla', model='Model 3')\n",
      "Row(company='Tesla', model='Model S')\n"
     ]
    }
   ],
   "source": [
    "# More specific query now works\n",
    "prepared_statement = session.prepare(\"SELECT * FROM car_table WHERE company=?;\")\n",
    "teslas = session.execute(prepared_statement, ['Tesla'])\n",
    "for i in teslas:\n",
    "    print(i)"
   ]
  },
  {
   "cell_type": "markdown",
   "metadata": {
    "slideshow": {
     "slide_type": "slide"
    }
   },
   "source": [
    "### Partitions\n",
    "- Cassandra databases are usually replicated over different nodes.\n",
    "- Data is stored in partitions (subsets) which have local copys.\n",
    "- The primary key, e.g., PRIMARY KEY(company, model), is used in partitioning.\n",
    "    - The first part, e.g., company, is most important.\n",
    "    - All cars from a company will be located together, aiming for quicker queries."
   ]
  },
  {
   "cell_type": "markdown",
   "metadata": {
    "slideshow": {
     "slide_type": "slide"
    }
   },
   "source": [
    "### Unique IDs \n",
    "- In MySQL one could use the attribute AUTO_INCREMENT on integer IDs to automatically make a new unique index when inserting data.\n",
    "- This would cause unreasonable overhead in a distributed database.\n",
    "- [UUID](https://en.wikipedia.org/wiki/Universally_unique_identifier)s are used instead.\n",
    "    - Universally Unique Identifiers are typically 128-bit random bit sequences with extremely low probability of duplication.\n",
    "    - Cassandra uses a [timeuuid](https://docs.datastax.com/en/cql-oss/3.3/cql/cql_reference/timeuuid_functions_r.html) type to combine a timestamp and uuid in one."
   ]
  },
  {
   "cell_type": "code",
   "execution_count": 11,
   "metadata": {
    "ExecuteTime": {
     "end_time": "2024-08-17T10:25:35.766003Z",
     "start_time": "2024-08-17T10:25:35.640600Z"
    },
    "slideshow": {
     "slide_type": "fragment"
    },
    "tags": []
   },
   "outputs": [
    {
     "data": {
      "text/plain": [
       "<cassandra.cluster.ResultSet at 0x1130fef30>"
      ]
     },
     "execution_count": 11,
     "metadata": {},
     "output_type": "execute_result"
    }
   ],
   "source": [
    "# Create a new table (first time only)\n",
    "session.set_keyspace('my_first_keyspace')\n",
    "session.execute(\"DROP TABLE IF EXISTS my_first_keyspace.table_with_uuid;\")\n",
    "session.execute(\"CREATE TABLE IF NOT EXISTS table_with_uuid (id timeuuid PRIMARY KEY, company text, model text, price float);\")"
   ]
  },
  {
   "cell_type": "code",
   "execution_count": 12,
   "metadata": {
    "ExecuteTime": {
     "end_time": "2024-08-17T10:25:35.784876Z",
     "start_time": "2024-08-17T10:25:35.766619Z"
    },
    "slideshow": {
     "slide_type": "slide"
    },
    "tags": []
   },
   "outputs": [
    {
     "data": {
      "text/plain": [
       "<cassandra.cluster.ResultSet at 0x11337e390>"
      ]
     },
     "execution_count": 12,
     "metadata": {},
     "output_type": "execute_result"
    }
   ],
   "source": [
    "session.execute(\"INSERT INTO table_with_uuid (id, company, model, price) VALUES (now(), 'Tesla', 'Model S', 20000.0);\")\n",
    "session.execute(\"INSERT INTO table_with_uuid (id, company, model, price) VALUES (now(), 'Tesla', 'Model S', 21000.0);\")\n",
    "session.execute(\"INSERT INTO table_with_uuid (id, company, model, price) VALUES (now(), 'Oldsmobile', 'Model 6C', 135000.0);\")"
   ]
  },
  {
   "cell_type": "code",
   "execution_count": 13,
   "metadata": {
    "ExecuteTime": {
     "end_time": "2024-08-17T10:25:35.792934Z",
     "start_time": "2024-08-17T10:25:35.785467Z"
    },
    "slideshow": {
     "slide_type": "slide"
    },
    "tags": []
   },
   "outputs": [
    {
     "name": "stdout",
     "output_type": "stream",
     "text": [
      "Row(id=UUID('55fe2400-7b7a-11ef-bbe0-3301d9fce8ac'), company='Tesla', model='Model S', price=20000.0)\n",
      "Datetime: 2024-09-25 20:11:23.072000\n",
      "Row(id=UUID('55fec040-7b7a-11ef-bbe0-3301d9fce8ac'), company='Tesla', model='Model S', price=21000.0)\n",
      "Datetime: 2024-09-25 20:11:23.076000\n",
      "Row(id=UUID('55ffaaa0-7b7a-11ef-bbe0-3301d9fce8ac'), company='Oldsmobile', model='Model 6C', price=135000.0)\n",
      "Datetime: 2024-09-25 20:11:23.082000\n"
     ]
    }
   ],
   "source": [
    "from cassandra.util import datetime_from_uuid1\n",
    "\n",
    "# Query the data\n",
    "rows = session.execute(\"SELECT * FROM table_with_uuid;\")\n",
    "for i in rows:\n",
    "    print(i)\n",
    "    # Extract the timestamp from Cassandra's timeuuid\n",
    "    print(\"Datetime:\", datetime_from_uuid1(i.id))"
   ]
  },
  {
   "cell_type": "markdown",
   "metadata": {
    "slideshow": {
     "slide_type": "slide"
    }
   },
   "source": [
    "## JSON in Cassandra\n",
    "### Read previously saved JSON file forecast.json to memory"
   ]
  },
  {
   "cell_type": "code",
   "execution_count": 14,
   "metadata": {
    "ExecuteTime": {
     "end_time": "2024-08-17T10:25:35.796049Z",
     "start_time": "2024-08-17T10:25:35.793437Z"
    },
    "slideshow": {
     "slide_type": "-"
    },
    "tags": []
   },
   "outputs": [],
   "source": [
    "import json\n",
    "with open('../3_APIs/downloads/forecast.json', 'r') as f:\n",
    "    forecast = json.load(f)"
   ]
  },
  {
   "cell_type": "code",
   "execution_count": 15,
   "metadata": {
    "ExecuteTime": {
     "end_time": "2024-08-17T10:25:35.799114Z",
     "start_time": "2024-08-17T10:25:35.796532Z"
    },
    "slideshow": {
     "slide_type": "slide"
    },
    "tags": []
   },
   "outputs": [
    {
     "data": {
      "text/plain": [
       "\"{'cod': '200', 'message': 0, 'cnt': 40, 'list': [{'dt': 1726833600, 'main': {'temp': 293.42, 'feels_like': 293.43, 'temp_min': 293.42, 'temp_max': 293.83, 'pressure': 1031, 'sea_level': 1031, 'grnd_level': 973, 'humidity': 74, 'temp_kf': -0.41}, 'weather': [{'id': 800, 'main': 'Clear', 'description': 'clear sky', 'icon': '01d'}], 'clouds': {'all': 8}, 'wind': {'speed': 1.85, 'deg': 155, 'gust': 1.67}, 'visibility': 10000, 'pop': 0, 'sys': {'pod': 'd'}, 'dt_txt': '2024-09-20 12:00:00'}, {'dt': 1726844400, 'main': {'temp': 293.89, 'feels_like': 293.8, 'temp_min': 293.89, 'temp_max': 294.23, 'pressure': 1029, 'sea_level': 1029, 'grnd_level': 972, 'humidity': 68, 'temp_kf': -0.34}, 'weather': [{'id': 800, 'main': 'Clear', 'description': 'clear sky', 'icon': '01d'}], 'clouds': {'all': 7}, 'wind': {'speed': 1.78, 'deg': 156, 'gust': 1.78}, 'visibility': 10000, 'pop': 0, 'sys': {'pod': 'd'}, 'dt_txt': '2024-09-20 15:00:00'}, {'dt': 1726855200, 'main': {'temp': 288.19, 'feels_like': 288.13, 'temp_min': 288.19, 'temp_max': 288.19, 'pressure': 1028, 'sea_level': 1028, 'grnd_level': 971, 'humidity': 91, 'temp_kf': 0}, 'weather': [{'id': 800, 'main': 'Clear', 'description': 'clear sky', 'icon': '01n'}], 'clouds': {'all': 5}, 'wind': {'speed': 0.66, 'deg': 269, 'gust': 0.66}, 'visibility': 10000, 'pop': 0, 'sys': {'pod': 'n'}, 'dt_txt': '2024-09-20 18:00:00'}, {'dt': 1726866000, 'main': {'temp': 286.79, 'feels_like': 286.66, 'temp_min': 286.79, 'temp_max': 286.79, 'pressure': 1028, 'sea_level': 1028, 'grnd_level': 971, 'humidity': 94, 'temp_kf': 0}, 'weather': [{'id': 800, 'main': 'Clear', 'description': 'clear sky', 'icon': '01n'}], 'clouds': {'all': 4}, 'wind': {'speed': 0.91, 'deg': 296, 'gust': 0.82}, 'visibility': 10000, 'pop': 0, 'sys': {'pod': 'n'}, 'dt_txt': '2024-09-20 21:00:00'}, {'dt': 1726876800, 'main': {'temp': 286.09, 'feels_like': 285.89, 'temp_min': 286.09, 'temp_max': 286.09, 'pressure': 1028, 'sea_level': 1028, 'grnd_level': 971, 'humidity': 94, 'temp_kf': 0}, 'weather': [{'id': 800, 'main': 'Clear', 'description': 'clear sky', 'icon': '01n'}], 'clouds': {'all': 4}, 'wind': {'speed': 1, 'deg': 313, 'gust': 0.85}, 'visibility': 10000, 'pop': 0, 'sys': {'pod': 'n'}, 'dt_txt': '2024-09-21 00:00:00'}, {'dt': 1726887600, 'main': {'temp': 285.4, 'feels_like': 285.16, 'temp_min': 285.4, 'temp_max': 285.4, 'pressure': 1027, 'sea_level': 1027, 'grnd_level': 970, 'humidity': 95, 'temp_kf': 0}, 'weather': [{'id': 800, 'main': 'Clear', 'description': 'clear sky', 'icon': '01n'}], 'clouds': {'all': 0}, 'wind': {'speed': 0.95, 'deg': 316, 'gust': 0.89}, 'visibility': 10000, 'pop': 0, 'sys': {'pod': 'n'}, 'dt_txt': '2024-09-21 03:00:00'}, {'dt': 1726898400, 'main': {'temp': 285.64, 'feels_like': 285.35, 'temp_min': 285.64, 'temp_max': 285.64, 'pressure': 1027, 'sea_level': 1027, 'grnd_level': 970, 'humidity': 92, 'temp_kf': 0}, 'weather': [{'id': 800, 'main': 'Clear', 'description': 'clear sky', 'icon': '01d'}], 'clouds': {'all': 0}, 'wind': {'speed': 1.61, 'deg': 342, 'gust': 1.53}, 'visibility': 10000, 'pop': 0, 'sys': {'pod': 'd'}, 'dt_txt': '2024-09-21 06:00:00'}, {'dt': 1726909200, 'main': {'temp': 291.36, 'feels_like': 291.12, 'temp_min': 291.36, 'temp_max': 291.36, 'pressure': 1027, 'sea_level': 1027, 'grnd_level': 970, 'humidity': 72, 'temp_kf': 0}, 'weather': [{'id': 800, 'main': 'Clear', 'description': 'clear sky', 'icon': '01d'}], 'clouds': {'all': 0}, 'wind': {'speed': 0.97, 'deg': 101, 'gust': 0.84}, 'visibility': 10000, 'pop': 0, 'sys': {'pod': 'd'}, 'dt_txt': '2024-09-21 09:00:00'}, {'dt': 1726920000, 'main': {'temp': 293.38, 'feels_like': 293.21, 'temp_min': 293.38, 'temp_max': 293.38, 'pressure': 1025, 'sea_level': 1025, 'grnd_level': 969, 'humidity': 67, 'temp_kf': 0}, 'weather': [{'id': 800, 'main': 'Clear', 'description': 'clear sky', 'icon': '01d'}], 'clouds': {'all': 6}, 'wind': {'speed': 1.85, 'deg': 124, 'gust': 1.35}, 'visibility': 10000, 'pop': 0, 'sys': {'pod': 'd'}, 'dt_txt': '2024-09-21 12:00:00'}, {'dt': 1726930800, 'main': {'temp': 291.91, 'feels_like': 291.7, 'temp_min': 291.91, 'temp_max': 291.91, 'pressure': 1025, 'sea_level': 1025, 'grnd_level': 968, 'humidity': 71, 'temp_kf': 0}, 'weather': [{'id': 803, 'main': 'Clouds', 'description': 'broken clouds', 'icon': '04d'}], 'clouds': {'all': 81}, 'wind': {'speed': 1.01, 'deg': 108, 'gust': 1.36}, 'visibility': 10000, 'pop': 0, 'sys': {'pod': 'd'}, 'dt_txt': '2024-09-21 15:00:00'}, {'dt': 1726941600, 'main': {'temp': 289.23, 'feels_like': 289.11, 'temp_min': 289.23, 'temp_max': 289.23, 'pressure': 1025, 'sea_level': 1025, 'grnd_level': 968, 'humidity': 85, 'temp_kf': 0}, 'weather': [{'id': 804, 'main': 'Clouds', 'description': 'overcast clouds', 'icon': '04n'}], 'clouds': {'all': 91}, 'wind': {'speed': 1.12, 'deg': 83, 'gust': 0.9}, 'visibility': 10000, 'pop': 0, 'sys': {'pod': 'n'}, 'dt_txt': '2024-09-21 18:00:00'}, {'dt': 1726952400, 'main': {'temp': 287.66, 'feels_like': 287.65, 'temp_min': 287.66, 'temp_max': 287.66, 'pressure': 1025, 'sea_level': 1025, 'grnd_level': 968, 'humidity': 95, 'temp_kf': 0}, 'weather': [{'id': 804, 'main': 'Clouds', 'description': 'overcast clouds', 'icon': '04n'}], 'clouds': {'all': 90}, 'wind': {'speed': 0.24, 'deg': 90, 'gust': 0.15}, 'visibility': 10000, 'pop': 0, 'sys': {'pod': 'n'}, 'dt_txt': '2024-09-21 21:00:00'}, {'dt': 1726963200, 'main': {'temp': 287.86, 'feels_like': 287.87, 'temp_min': 287.86, 'temp_max': 287.86, 'pressure': 1024, 'sea_level': 1024, 'grnd_level': 967, 'humidity': 95, 'temp_kf': 0}, 'weather': [{'id': 804, 'main': 'Clouds', 'description': 'overcast clouds', 'icon': '04n'}], 'clouds': {'all': 96}, 'wind': {'speed': 0.69, 'deg': 172, 'gust': 0.77}, 'visibility': 10000, 'pop': 0, 'sys': {'pod': 'n'}, 'dt_txt': '2024-09-22 00:00:00'}, {'dt': 1726974000, 'main': {'temp': 286.88, 'feels_like': 286.87, 'temp_min': 286.88, 'temp_max': 286.88, 'pressure': 1023, 'sea_level': 1023, 'grnd_level': 966, 'humidity': 98, 'temp_kf': 0}, 'weather': [{'id': 804, 'main': 'Clouds', 'description': 'overcast clouds', 'icon': '04n'}], 'clouds': {'all': 100}, 'wind': {'speed': 1.18, 'deg': 177, 'gust': 2.04}, 'visibility': 10000, 'pop': 0, 'sys': {'pod': 'n'}, 'dt_txt': '2024-09-22 03:00:00'}, {'dt': 1726984800, 'main': {'temp': 285.95, 'feels_like': 285.82, 'temp_min': 285.95, 'temp_max': 285.95, 'pressure': 1022, 'sea_level': 1022, 'grnd_level': 965, 'humidity': 97, 'temp_kf': 0}, 'weather': [{'id': 804, 'main': 'Clouds', 'description': 'overcast clouds', 'icon': '04d'}], 'clouds': {'all': 100}, 'wind': {'speed': 1.09, 'deg': 174, 'gust': 1.53}, 'visibility': 10000, 'pop': 0, 'sys': {'pod': 'd'}, 'dt_txt': '2024-09-22 06:00:00'}, {'dt': 1726995600, 'main': {'temp': 288.05, 'feels_like': 287.68, 'temp_min': 288.05, 'temp_max': 288.05, 'pressure': 1021, 'sea_level': 1021, 'grnd_level': 964, 'humidity': 80, 'temp_kf': 0}, 'weather': [{'id': 804, 'main': 'Clouds', 'description': 'overcast clouds', 'icon': '04d'}], 'clouds': {'all': 100}, 'wind': {'speed': 1.37, 'deg': 167, 'gust': 1.53}, 'visibility': 10000, 'pop': 0, 'sys': {'pod': 'd'}, 'dt_txt': '2024-09-22 09:00:00'}, {'dt': 1727006400, 'main': {'temp': 289.89, 'feels_like': 289.47, 'temp_min': 289.89, 'temp_max': 289.89, 'pressure': 1019, 'sea_level': 1019, 'grnd_level': 962, 'humidity': 71, 'temp_kf': 0}, 'weather': [{'id': 804, 'main': 'Clouds', 'description': 'overcast clouds', 'icon': '04d'}], 'clouds': {'all': 100}, 'wind': {'speed': 1.16, 'deg': 149, 'gust': 1.76}, 'visibility': 10000, 'pop': 0, 'sys': {'pod': 'd'}, 'dt_txt': '2024-09-22 12:00:00'}, {'dt': 1727017200, 'main': {'temp': 290.66, 'feels_like': 290.16, 'temp_min': 290.66, 'temp_max': 290.66, 'pressure': 1016, 'sea_level': 1016, 'grnd_level': 960, 'humidity': 65, 'temp_kf': 0}, 'weather': [{'id': 804, 'main': 'Clouds', 'description': 'overcast clouds', 'icon': '04d'}], 'clouds': {'all': 100}, 'wind': {'speed': 1.84, 'deg': 146, 'gust': 2.55}, 'visibility': 10000, 'pop': 0, 'sys': {'pod': 'd'}, 'dt_txt': '2024-09-22 15:00:00'}, {'dt': 1727028000, 'main': {'temp': 285.51, 'feels_like': 284.99, 'temp_min': 285.51, 'temp_max': 285.51, 'pressure': 1016, 'sea_level': 1016, 'grnd_level': 959, 'humidity': 84, 'temp_kf': 0}, 'weather': [{'id': 804, 'main': 'Clouds', 'description': 'overcast clouds', 'icon': '04n'}], 'clouds': {'all': 100}, 'wind': {'speed': 0.71, 'deg': 218, 'gust': 0.72}, 'visibility': 10000, 'pop': 0, 'sys': {'pod': 'n'}, 'dt_txt': '2024-09-22 18:00:00'}, {'dt': 1727038800, 'main': {'temp': 283.3, 'feels_like': 282.75, 'temp_min': 283.3, 'temp_max': 283.3, 'pressure': 1015, 'sea_level': 1015, 'grnd_level': 958, 'humidity': 91, 'temp_kf': 0}, 'weather': [{'id': 801, 'main': 'Clouds', 'description': 'few clouds', 'icon': '02n'}], 'clouds': {'all': 18}, 'wind': {'speed': 0.67, 'deg': 276, 'gust': 0.57}, 'visibility': 10000, 'pop': 0, 'sys': {'pod': 'n'}, 'dt_txt': '2024-09-22 21:00:00'}, {'dt': 1727049600, 'main': {'temp': 282.11, 'feels_like': 282.11, 'temp_min': 282.11, 'temp_max': 282.11, 'pressure': 1014, 'sea_level': 1014, 'grnd_level': 957, 'humidity': 90, 'temp_kf': 0}, 'weather': [{'id': 801, 'main': 'Clouds', 'description': 'few clouds', 'icon': '02n'}], 'clouds': {'all': 13}, 'wind': {'speed': 0.85, 'deg': 264, 'gust': 0.75}, 'visibility': 10000, 'pop': 0, 'sys': {'pod': 'n'}, 'dt_txt': '2024-09-23 00:00:00'}, {'dt': 1727060400, 'main': {'temp': 280.94, 'feels_like': 280.94, 'temp_min': 280.94, 'temp_max': 280.94, 'pressure': 1012, 'sea_level': 1012, 'grnd_level': 955, 'humidity': 87, 'temp_kf': 0}, 'weather': [{'id': 800, 'main': 'Clear', 'description': 'clear sky', 'icon': '01n'}], 'clouds': {'all': 0}, 'wind': {'speed': 0.78, 'deg': 274, 'gust': 0.66}, 'visibility': 10000, 'pop': 0, 'sys': {'pod': 'n'}, 'dt_txt': '2024-09-23 03:00:00'}, {'dt': 1727071200, 'main': {'temp': 281.11, 'feels_like': 281.11, 'temp_min': 281.11, 'temp_max': 281.11, 'pressure': 1011, 'sea_level': 1011, 'grnd_level': 953, 'humidity': 84, 'temp_kf': 0}, 'weather': [{'id': 800, 'main': 'Clear', 'description': 'clear sky', 'icon': '01d'}], 'clouds': {'all': 0}, 'wind': {'speed': 0.73, 'deg': 275, 'gust': 0.62}, 'visibility': 10000, 'pop': 0, 'sys': {'pod': 'd'}, 'dt_txt': '2024-09-23 06:00:00'}, {'dt': 1727082000, 'main': {'temp': 286.89, 'feels_like': 286.04, 'temp_min': 286.89, 'temp_max': 286.89, 'pressure': 1009, 'sea_level': 1009, 'grnd_level': 953, 'humidity': 66, 'temp_kf': 0}, 'weather': [{'id': 800, 'main': 'Clear', 'description': 'clear sky', 'icon': '01d'}], 'clouds': {'all': 0}, 'wind': {'speed': 1.64, 'deg': 159, 'gust': 1.99}, 'visibility': 10000, 'pop': 0, 'sys': {'pod': 'd'}, 'dt_txt': '2024-09-23 09:00:00'}, {'dt': 1727092800, 'main': {'temp': 290.18, 'feels_like': 289.4, 'temp_min': 290.18, 'temp_max': 290.18, 'pressure': 1007, 'sea_level': 1007, 'grnd_level': 951, 'humidity': 56, 'temp_kf': 0}, 'weather': [{'id': 800, 'main': 'Clear', 'description': 'clear sky', 'icon': '01d'}], 'clouds': {'all': 0}, 'wind': {'speed': 2.19, 'deg': 170, 'gust': 3.58}, 'visibility': 10000, 'pop': 0, 'sys': {'pod': 'd'}, 'dt_txt': '2024-09-23 12:00:00'}, {'dt': 1727103600, 'main': {'temp': 290.38, 'feels_like': 289.67, 'temp_min': 290.38, 'temp_max': 290.38, 'pressure': 1004, 'sea_level': 1004, 'grnd_level': 949, 'humidity': 58, 'temp_kf': 0}, 'weather': [{'id': 800, 'main': 'Clear', 'description': 'clear sky', 'icon': '01d'}], 'clouds': {'all': 8}, 'wind': {'speed': 2.8, 'deg': 177, 'gust': 3.44}, 'visibility': 10000, 'pop': 0, 'sys': {'pod': 'd'}, 'dt_txt': '2024-09-23 15:00:00'}, {'dt': 1727114400, 'main': {'temp': 285.65, 'feels_like': 285.23, 'temp_min': 285.65, 'temp_max': 285.65, 'pressure': 1004, 'sea_level': 1004, 'grnd_level': 948, 'humidity': 87, 'temp_kf': 0}, 'weather': [{'id': 802, 'main': 'Clouds', 'description': 'scattered clouds', 'icon': '03n'}], 'clouds': {'all': 47}, 'wind': {'speed': 1.14, 'deg': 173, 'gust': 1.26}, 'visibility': 10000, 'pop': 0, 'sys': {'pod': 'n'}, 'dt_txt': '2024-09-23 18:00:00'}, {'dt': 1727125200, 'main': {'temp': 284.5, 'feels_like': 284.28, 'temp_min': 284.5, 'temp_max': 284.5, 'pressure': 1003, 'sea_level': 1003, 'grnd_level': 947, 'humidity': 99, 'temp_kf': 0}, 'weather': [{'id': 500, 'main': 'Rain', 'description': 'light rain', 'icon': '10n'}], 'clouds': {'all': 100}, 'wind': {'speed': 0.97, 'deg': 130, 'gust': 2.41}, 'visibility': 4523, 'pop': 1, 'rain': {'3h': 1.77}, 'sys': {'pod': 'n'}, 'dt_txt': '2024-09-23 21:00:00'}, {'dt': 1727136000, 'main': {'temp': 284.8, 'feels_like': 284.61, 'temp_min': 284.8, 'temp_max': 284.8, 'pressure': 1000, 'sea_level': 1000, 'grnd_level': 944, 'humidity': 99, 'temp_kf': 0}, 'weather': [{'id': 501, 'main': 'Rain', 'description': 'moderate rain', 'icon': '10n'}], 'clouds': {'all': 100}, 'wind': {'speed': 0.58, 'deg': 59, 'gust': 0.61}, 'visibility': 5823, 'pop': 1, 'rain': {'3h': 5.86}, 'sys': {'pod': 'n'}, 'dt_txt': '2024-09-24 00:00:00'}, {'dt': 1727146800, 'main': {'temp': 284.47, 'feels_like': 284.24, 'temp_min': 284.47, 'temp_max': 284.47, 'pressure': 997, 'sea_level': 997, 'grnd_level': 941, 'humidity': 99, 'temp_kf': 0}, 'weather': [{'id': 501, 'main': 'Rain', 'description': 'moderate rain', 'icon': '10n'}], 'clouds': {'all': 100}, 'wind': {'speed': 0.62, 'deg': 40, 'gust': 0.93}, 'visibility': 9341, 'pop': 1, 'rain': {'3h': 4.56}, 'sys': {'pod': 'n'}, 'dt_txt': '2024-09-24 03:00:00'}, {'dt': 1727157600, 'main': {'temp': 284.61, 'feels_like': 284.34, 'temp_min': 284.61, 'temp_max': 284.61, 'pressure': 995, 'sea_level': 995, 'grnd_level': 940, 'humidity': 97, 'temp_kf': 0}, 'weather': [{'id': 500, 'main': 'Rain', 'description': 'light rain', 'icon': '10d'}], 'clouds': {'all': 100}, 'wind': {'speed': 0.92, 'deg': 322, 'gust': 1.92}, 'visibility': 10000, 'pop': 1, 'rain': {'3h': 2.96}, 'sys': {'pod': 'd'}, 'dt_txt': '2024-09-24 06:00:00'}, {'dt': 1727168400, 'main': {'temp': 284.96, 'feels_like': 284.7, 'temp_min': 284.96, 'temp_max': 284.96, 'pressure': 995, 'sea_level': 995, 'grnd_level': 940, 'humidity': 96, 'temp_kf': 0}, 'weather': [{'id': 500, 'main': 'Rain', 'description': 'light rain', 'icon': '10d'}], 'clouds': {'all': 100}, 'wind': {'speed': 0.61, 'deg': 230, 'gust': 0.85}, 'visibility': 10000, 'pop': 1, 'rain': {'3h': 0.75}, 'sys': {'pod': 'd'}, 'dt_txt': '2024-09-24 09:00:00'}, {'dt': 1727179200, 'main': {'temp': 285.81, 'feels_like': 285.48, 'temp_min': 285.81, 'temp_max': 285.81, 'pressure': 995, 'sea_level': 995, 'grnd_level': 940, 'humidity': 90, 'temp_kf': 0}, 'weather': [{'id': 804, 'main': 'Clouds', 'description': 'overcast clouds', 'icon': '04d'}], 'clouds': {'all': 100}, 'wind': {'speed': 1.04, 'deg': 180, 'gust': 1.37}, 'visibility': 10000, 'pop': 0.8, 'sys': {'pod': 'd'}, 'dt_txt': '2024-09-24 12:00:00'}, {'dt': 1727190000, 'main': {'temp': 287.21, 'feels_like': 286.81, 'temp_min': 287.21, 'temp_max': 287.21, 'pressure': 994, 'sea_level': 994, 'grnd_level': 939, 'humidity': 82, 'temp_kf': 0}, 'weather': [{'id': 500, 'main': 'Rain', 'description': 'light rain', 'icon': '10d'}], 'clouds': {'all': 100}, 'wind': {'speed': 1.22, 'deg': 182, 'gust': 2.05}, 'visibility': 10000, 'pop': 0.38, 'rain': {'3h': 0.21}, 'sys': {'pod': 'd'}, 'dt_txt': '2024-09-24 15:00:00'}, {'dt': 1727200800, 'main': {'temp': 284.12, 'feels_like': 283.65, 'temp_min': 284.12, 'temp_max': 284.12, 'pressure': 994, 'sea_level': 994, 'grnd_level': 938, 'humidity': 91, 'temp_kf': 0}, 'weather': [{'id': 500, 'main': 'Rain', 'description': 'light rain', 'icon': '10n'}], 'clouds': {'all': 100}, 'wind': {'speed': 1.28, 'deg': 279, 'gust': 1.06}, 'visibility': 10000, 'pop': 0.33, 'rain': {'3h': 0.27}, 'sys': {'pod': 'n'}, 'dt_txt': '2024-09-24 18:00:00'}, {'dt': 1727211600, 'main': {'temp': 281.85, 'feels_like': 280.56, 'temp_min': 281.85, 'temp_max': 281.85, 'pressure': 995, 'sea_level': 995, 'grnd_level': 939, 'humidity': 86, 'temp_kf': 0}, 'weather': [{'id': 804, 'main': 'Clouds', 'description': 'overcast clouds', 'icon': '04n'}], 'clouds': {'all': 95}, 'wind': {'speed': 2.33, 'deg': 298, 'gust': 2.35}, 'visibility': 10000, 'pop': 0, 'sys': {'pod': 'n'}, 'dt_txt': '2024-09-24 21:00:00'}, {'dt': 1727222400, 'main': {'temp': 279.25, 'feels_like': 277.37, 'temp_min': 279.25, 'temp_max': 279.25, 'pressure': 996, 'sea_level': 996, 'grnd_level': 939, 'humidity': 89, 'temp_kf': 0}, 'weather': [{'id': 803, 'main': 'Clouds', 'description': 'broken clouds', 'icon': '04n'}], 'clouds': {'all': 84}, 'wind': {'speed': 2.48, 'deg': 291, 'gust': 2.65}, 'visibility': 10000, 'pop': 0, 'sys': {'pod': 'n'}, 'dt_txt': '2024-09-25 00:00:00'}, {'dt': 1727233200, 'main': {'temp': 278.78, 'feels_like': 277.13, 'temp_min': 278.78, 'temp_max': 278.78, 'pressure': 997, 'sea_level': 997, 'grnd_level': 940, 'humidity': 86, 'temp_kf': 0}, 'weather': [{'id': 804, 'main': 'Clouds', 'description': 'overcast clouds', 'icon': '04n'}], 'clouds': {'all': 100}, 'wind': {'speed': 2.12, 'deg': 289, 'gust': 2.39}, 'visibility': 10000, 'pop': 0, 'sys': {'pod': 'n'}, 'dt_txt': '2024-09-25 03:00:00'}, {'dt': 1727244000, 'main': {'temp': 278.1, 'feels_like': 276.65, 'temp_min': 278.1, 'temp_max': 278.1, 'pressure': 997, 'sea_level': 997, 'grnd_level': 940, 'humidity': 83, 'temp_kf': 0}, 'weather': [{'id': 804, 'main': 'Clouds', 'description': 'overcast clouds', 'icon': '04d'}], 'clouds': {'all': 100}, 'wind': {'speed': 1.82, 'deg': 290, 'gust': 1.79}, 'visibility': 10000, 'pop': 0, 'sys': {'pod': 'd'}, 'dt_txt': '2024-09-25 06:00:00'}, {'dt': 1727254800, 'main': {'temp': 282.72, 'feels_like': 282.72, 'temp_min': 282.72, 'temp_max': 282.72, 'pressure': 997, 'sea_level': 997, 'grnd_level': 940, 'humidity': 58, 'temp_kf': 0}, 'weather': [{'id': 804, 'main': 'Clouds', 'description': 'overcast clouds', 'icon': '04d'}], 'clouds': {'all': 100}, 'wind': {'speed': 0.79, 'deg': 197, 'gust': 1.15}, 'visibility': 10000, 'pop': 0, 'sys': {'pod': 'd'}, 'dt_txt': '2024-09-25 09:00:00'}], 'city': {'id': 3144113, 'name': 'Noresund', 'coord': {'lat': 60.1803, 'lon': 9.6231}, 'country': 'NO', 'population': 1000, 'timezone': 7200, 'sunrise': 1726808500, 'sunset': 1726853287}}\""
      ]
     },
     "execution_count": 15,
     "metadata": {},
     "output_type": "execute_result"
    }
   ],
   "source": [
    "# Inspect JSON file\n",
    "forecast.__str__()"
   ]
  },
  {
   "cell_type": "markdown",
   "metadata": {
    "slideshow": {
     "slide_type": "slide"
    }
   },
   "source": [
    "## Raw JSON\n",
    "- A simple, but not very efficient way of storing JSON data is to treat it as a text and save it directly to the database.  \n",
    "- More efficient, with regard to transfer, is to compress the JSON data to a blob first.\n",
    "    - Compression is automatic."
   ]
  },
  {
   "cell_type": "code",
   "execution_count": 16,
   "metadata": {
    "ExecuteTime": {
     "end_time": "2024-08-17T10:25:35.916537Z",
     "start_time": "2024-08-17T10:25:35.799572Z"
    },
    "slideshow": {
     "slide_type": "-"
    },
    "tags": []
   },
   "outputs": [
    {
     "data": {
      "text/plain": [
       "<cassandra.cluster.ResultSet at 0x11337e870>"
      ]
     },
     "execution_count": 16,
     "metadata": {},
     "output_type": "execute_result"
    }
   ],
   "source": [
    "# Create a new table which treats the whole JSON as a blob, using the city id and the first dt as keys\n",
    "session.set_keyspace('my_first_keyspace')\n",
    "session.execute(\"DROP TABLE IF EXISTS my_first_keyspace.forecast_table;\")\n",
    "session.execute(\"CREATE TABLE IF NOT EXISTS forecast_table (city_id int, dt int, forecast blob, PRIMARY KEY(city_id, dt));\")"
   ]
  },
  {
   "cell_type": "markdown",
   "metadata": {
    "slideshow": {
     "slide_type": "slide"
    }
   },
   "source": [
    "### Insert the forecast data into the table as text blob"
   ]
  },
  {
   "cell_type": "code",
   "execution_count": 17,
   "metadata": {
    "ExecuteTime": {
     "end_time": "2024-08-17T10:25:35.935855Z",
     "start_time": "2024-08-17T10:25:35.917175Z"
    },
    "slideshow": {
     "slide_type": "-"
    },
    "tags": []
   },
   "outputs": [
    {
     "data": {
      "text/plain": [
       "<cassandra.cluster.ResultSet at 0x1130188c0>"
      ]
     },
     "execution_count": 17,
     "metadata": {},
     "output_type": "execute_result"
    }
   ],
   "source": [
    "session.execute(\"INSERT INTO forecast_table (city_id, dt, forecast) VALUES (%s, %s, textAsBlob(%s));\", (forecast['city']['id'], forecast['list'][0]['dt'], forecast.__str__()))"
   ]
  },
  {
   "cell_type": "code",
   "execution_count": 18,
   "metadata": {
    "ExecuteTime": {
     "end_time": "2024-08-17T10:25:35.946537Z",
     "start_time": "2024-08-17T10:25:35.938642Z"
    },
    "slideshow": {
     "slide_type": "slide"
    },
    "tags": []
   },
   "outputs": [
    {
     "name": "stdout",
     "output_type": "stream",
     "text": [
      "Row(city_id=3144113, dt=1726833600, forecast=b\"{'cod': '200', 'message': 0, 'cnt': 40, 'list': [{'dt': 1726833600, 'main': {'temp': 293.42, 'feels_like': 293.43, 'temp_min': 293.42, 'temp_max': 293.83, 'pressure': 1031, 'sea_level': 1031, 'grnd_level': 973, 'humidity': 74, 'temp_kf': -0.41}, 'weather': [{'id': 800, 'main': 'Clear', 'description': 'clear sky', 'icon': '01d'}], 'clouds': {'all': 8}, 'wind': {'speed': 1.85, 'deg': 155, 'gust': 1.67}, 'visibility': 10000, 'pop': 0, 'sys': {'pod': 'd'}, 'dt_txt': '2024-09-20 12:00:00'}, {'dt': 1726844400, 'main': {'temp': 293.89, 'feels_like': 293.8, 'temp_min': 293.89, 'temp_max': 294.23, 'pressure': 1029, 'sea_level': 1029, 'grnd_level': 972, 'humidity': 68, 'temp_kf': -0.34}, 'weather': [{'id': 800, 'main': 'Clear', 'description': 'clear sky', 'icon': '01d'}], 'clouds': {'all': 7}, 'wind': {'speed': 1.78, 'deg': 156, 'gust': 1.78}, 'visibility': 10000, 'pop': 0, 'sys': {'pod': 'd'}, 'dt_txt': '2024-09-20 15:00:00'}, {'dt': 1726855200, 'main': {'temp': 288.19, 'feels_like': 288.13, 'temp_min': 288.19, 'temp_max': 288.19, 'pressure': 1028, 'sea_level': 1028, 'grnd_level': 971, 'humidity': 91, 'temp_kf': 0}, 'weather': [{'id': 800, 'main': 'Clear', 'description': 'clear sky', 'icon': '01n'}], 'clouds': {'all': 5}, 'wind': {'speed': 0.66, 'deg': 269, 'gust': 0.66}, 'visibility': 10000, 'pop': 0, 'sys': {'pod': 'n'}, 'dt_txt': '2024-09-20 18:00:00'}, {'dt': 1726866000, 'main': {'temp': 286.79, 'feels_like': 286.66, 'temp_min': 286.79, 'temp_max': 286.79, 'pressure': 1028, 'sea_level': 1028, 'grnd_level': 971, 'humidity': 94, 'temp_kf': 0}, 'weather': [{'id': 800, 'main': 'Clear', 'description': 'clear sky', 'icon': '01n'}], 'clouds': {'all': 4}, 'wind': {'speed': 0.91, 'deg': 296, 'gust': 0.82}, 'visibility': 10000, 'pop': 0, 'sys': {'pod': 'n'}, 'dt_txt': '2024-09-20 21:00:00'}, {'dt': 1726876800, 'main': {'temp': 286.09, 'feels_like': 285.89, 'temp_min': 286.09, 'temp_max': 286.09, 'pressure': 1028, 'sea_level': 1028, 'grnd_level': 971, 'humidity': 94, 'temp_kf': 0}, 'weather': [{'id': 800, 'main': 'Clear', 'description': 'clear sky', 'icon': '01n'}], 'clouds': {'all': 4}, 'wind': {'speed': 1, 'deg': 313, 'gust': 0.85}, 'visibility': 10000, 'pop': 0, 'sys': {'pod': 'n'}, 'dt_txt': '2024-09-21 00:00:00'}, {'dt': 1726887600, 'main': {'temp': 285.4, 'feels_like': 285.16, 'temp_min': 285.4, 'temp_max': 285.4, 'pressure': 1027, 'sea_level': 1027, 'grnd_level': 970, 'humidity': 95, 'temp_kf': 0}, 'weather': [{'id': 800, 'main': 'Clear', 'description': 'clear sky', 'icon': '01n'}], 'clouds': {'all': 0}, 'wind': {'speed': 0.95, 'deg': 316, 'gust': 0.89}, 'visibility': 10000, 'pop': 0, 'sys': {'pod': 'n'}, 'dt_txt': '2024-09-21 03:00:00'}, {'dt': 1726898400, 'main': {'temp': 285.64, 'feels_like': 285.35, 'temp_min': 285.64, 'temp_max': 285.64, 'pressure': 1027, 'sea_level': 1027, 'grnd_level': 970, 'humidity': 92, 'temp_kf': 0}, 'weather': [{'id': 800, 'main': 'Clear', 'description': 'clear sky', 'icon': '01d'}], 'clouds': {'all': 0}, 'wind': {'speed': 1.61, 'deg': 342, 'gust': 1.53}, 'visibility': 10000, 'pop': 0, 'sys': {'pod': 'd'}, 'dt_txt': '2024-09-21 06:00:00'}, {'dt': 1726909200, 'main': {'temp': 291.36, 'feels_like': 291.12, 'temp_min': 291.36, 'temp_max': 291.36, 'pressure': 1027, 'sea_level': 1027, 'grnd_level': 970, 'humidity': 72, 'temp_kf': 0}, 'weather': [{'id': 800, 'main': 'Clear', 'description': 'clear sky', 'icon': '01d'}], 'clouds': {'all': 0}, 'wind': {'speed': 0.97, 'deg': 101, 'gust': 0.84}, 'visibility': 10000, 'pop': 0, 'sys': {'pod': 'd'}, 'dt_txt': '2024-09-21 09:00:00'}, {'dt': 1726920000, 'main': {'temp': 293.38, 'feels_like': 293.21, 'temp_min': 293.38, 'temp_max': 293.38, 'pressure': 1025, 'sea_level': 1025, 'grnd_level': 969, 'humidity': 67, 'temp_kf': 0}, 'weather': [{'id': 800, 'main': 'Clear', 'description': 'clear sky', 'icon': '01d'}], 'clouds': {'all': 6}, 'wind': {'speed': 1.85, 'deg': 124, 'gust': 1.35}, 'visibility': 10000, 'pop': 0, 'sys': {'pod': 'd'}, 'dt_txt': '2024-09-21 12:00:00'}, {'dt': 1726930800, 'main': {'temp': 291.91, 'feels_like': 291.7, 'temp_min': 291.91, 'temp_max': 291.91, 'pressure': 1025, 'sea_level': 1025, 'grnd_level': 968, 'humidity': 71, 'temp_kf': 0}, 'weather': [{'id': 803, 'main': 'Clouds', 'description': 'broken clouds', 'icon': '04d'}], 'clouds': {'all': 81}, 'wind': {'speed': 1.01, 'deg': 108, 'gust': 1.36}, 'visibility': 10000, 'pop': 0, 'sys': {'pod': 'd'}, 'dt_txt': '2024-09-21 15:00:00'}, {'dt': 1726941600, 'main': {'temp': 289.23, 'feels_like': 289.11, 'temp_min': 289.23, 'temp_max': 289.23, 'pressure': 1025, 'sea_level': 1025, 'grnd_level': 968, 'humidity': 85, 'temp_kf': 0}, 'weather': [{'id': 804, 'main': 'Clouds', 'description': 'overcast clouds', 'icon': '04n'}], 'clouds': {'all': 91}, 'wind': {'speed': 1.12, 'deg': 83, 'gust': 0.9}, 'visibility': 10000, 'pop': 0, 'sys': {'pod': 'n'}, 'dt_txt': '2024-09-21 18:00:00'}, {'dt': 1726952400, 'main': {'temp': 287.66, 'feels_like': 287.65, 'temp_min': 287.66, 'temp_max': 287.66, 'pressure': 1025, 'sea_level': 1025, 'grnd_level': 968, 'humidity': 95, 'temp_kf': 0}, 'weather': [{'id': 804, 'main': 'Clouds', 'description': 'overcast clouds', 'icon': '04n'}], 'clouds': {'all': 90}, 'wind': {'speed': 0.24, 'deg': 90, 'gust': 0.15}, 'visibility': 10000, 'pop': 0, 'sys': {'pod': 'n'}, 'dt_txt': '2024-09-21 21:00:00'}, {'dt': 1726963200, 'main': {'temp': 287.86, 'feels_like': 287.87, 'temp_min': 287.86, 'temp_max': 287.86, 'pressure': 1024, 'sea_level': 1024, 'grnd_level': 967, 'humidity': 95, 'temp_kf': 0}, 'weather': [{'id': 804, 'main': 'Clouds', 'description': 'overcast clouds', 'icon': '04n'}], 'clouds': {'all': 96}, 'wind': {'speed': 0.69, 'deg': 172, 'gust': 0.77}, 'visibility': 10000, 'pop': 0, 'sys': {'pod': 'n'}, 'dt_txt': '2024-09-22 00:00:00'}, {'dt': 1726974000, 'main': {'temp': 286.88, 'feels_like': 286.87, 'temp_min': 286.88, 'temp_max': 286.88, 'pressure': 1023, 'sea_level': 1023, 'grnd_level': 966, 'humidity': 98, 'temp_kf': 0}, 'weather': [{'id': 804, 'main': 'Clouds', 'description': 'overcast clouds', 'icon': '04n'}], 'clouds': {'all': 100}, 'wind': {'speed': 1.18, 'deg': 177, 'gust': 2.04}, 'visibility': 10000, 'pop': 0, 'sys': {'pod': 'n'}, 'dt_txt': '2024-09-22 03:00:00'}, {'dt': 1726984800, 'main': {'temp': 285.95, 'feels_like': 285.82, 'temp_min': 285.95, 'temp_max': 285.95, 'pressure': 1022, 'sea_level': 1022, 'grnd_level': 965, 'humidity': 97, 'temp_kf': 0}, 'weather': [{'id': 804, 'main': 'Clouds', 'description': 'overcast clouds', 'icon': '04d'}], 'clouds': {'all': 100}, 'wind': {'speed': 1.09, 'deg': 174, 'gust': 1.53}, 'visibility': 10000, 'pop': 0, 'sys': {'pod': 'd'}, 'dt_txt': '2024-09-22 06:00:00'}, {'dt': 1726995600, 'main': {'temp': 288.05, 'feels_like': 287.68, 'temp_min': 288.05, 'temp_max': 288.05, 'pressure': 1021, 'sea_level': 1021, 'grnd_level': 964, 'humidity': 80, 'temp_kf': 0}, 'weather': [{'id': 804, 'main': 'Clouds', 'description': 'overcast clouds', 'icon': '04d'}], 'clouds': {'all': 100}, 'wind': {'speed': 1.37, 'deg': 167, 'gust': 1.53}, 'visibility': 10000, 'pop': 0, 'sys': {'pod': 'd'}, 'dt_txt': '2024-09-22 09:00:00'}, {'dt': 1727006400, 'main': {'temp': 289.89, 'feels_like': 289.47, 'temp_min': 289.89, 'temp_max': 289.89, 'pressure': 1019, 'sea_level': 1019, 'grnd_level': 962, 'humidity': 71, 'temp_kf': 0}, 'weather': [{'id': 804, 'main': 'Clouds', 'description': 'overcast clouds', 'icon': '04d'}], 'clouds': {'all': 100}, 'wind': {'speed': 1.16, 'deg': 149, 'gust': 1.76}, 'visibility': 10000, 'pop': 0, 'sys': {'pod': 'd'}, 'dt_txt': '2024-09-22 12:00:00'}, {'dt': 1727017200, 'main': {'temp': 290.66, 'feels_like': 290.16, 'temp_min': 290.66, 'temp_max': 290.66, 'pressure': 1016, 'sea_level': 1016, 'grnd_level': 960, 'humidity': 65, 'temp_kf': 0}, 'weather': [{'id': 804, 'main': 'Clouds', 'description': 'overcast clouds', 'icon': '04d'}], 'clouds': {'all': 100}, 'wind': {'speed': 1.84, 'deg': 146, 'gust': 2.55}, 'visibility': 10000, 'pop': 0, 'sys': {'pod': 'd'}, 'dt_txt': '2024-09-22 15:00:00'}, {'dt': 1727028000, 'main': {'temp': 285.51, 'feels_like': 284.99, 'temp_min': 285.51, 'temp_max': 285.51, 'pressure': 1016, 'sea_level': 1016, 'grnd_level': 959, 'humidity': 84, 'temp_kf': 0}, 'weather': [{'id': 804, 'main': 'Clouds', 'description': 'overcast clouds', 'icon': '04n'}], 'clouds': {'all': 100}, 'wind': {'speed': 0.71, 'deg': 218, 'gust': 0.72}, 'visibility': 10000, 'pop': 0, 'sys': {'pod': 'n'}, 'dt_txt': '2024-09-22 18:00:00'}, {'dt': 1727038800, 'main': {'temp': 283.3, 'feels_like': 282.75, 'temp_min': 283.3, 'temp_max': 283.3, 'pressure': 1015, 'sea_level': 1015, 'grnd_level': 958, 'humidity': 91, 'temp_kf': 0}, 'weather': [{'id': 801, 'main': 'Clouds', 'description': 'few clouds', 'icon': '02n'}], 'clouds': {'all': 18}, 'wind': {'speed': 0.67, 'deg': 276, 'gust': 0.57}, 'visibility': 10000, 'pop': 0, 'sys': {'pod': 'n'}, 'dt_txt': '2024-09-22 21:00:00'}, {'dt': 1727049600, 'main': {'temp': 282.11, 'feels_like': 282.11, 'temp_min': 282.11, 'temp_max': 282.11, 'pressure': 1014, 'sea_level': 1014, 'grnd_level': 957, 'humidity': 90, 'temp_kf': 0}, 'weather': [{'id': 801, 'main': 'Clouds', 'description': 'few clouds', 'icon': '02n'}], 'clouds': {'all': 13}, 'wind': {'speed': 0.85, 'deg': 264, 'gust': 0.75}, 'visibility': 10000, 'pop': 0, 'sys': {'pod': 'n'}, 'dt_txt': '2024-09-23 00:00:00'}, {'dt': 1727060400, 'main': {'temp': 280.94, 'feels_like': 280.94, 'temp_min': 280.94, 'temp_max': 280.94, 'pressure': 1012, 'sea_level': 1012, 'grnd_level': 955, 'humidity': 87, 'temp_kf': 0}, 'weather': [{'id': 800, 'main': 'Clear', 'description': 'clear sky', 'icon': '01n'}], 'clouds': {'all': 0}, 'wind': {'speed': 0.78, 'deg': 274, 'gust': 0.66}, 'visibility': 10000, 'pop': 0, 'sys': {'pod': 'n'}, 'dt_txt': '2024-09-23 03:00:00'}, {'dt': 1727071200, 'main': {'temp': 281.11, 'feels_like': 281.11, 'temp_min': 281.11, 'temp_max': 281.11, 'pressure': 1011, 'sea_level': 1011, 'grnd_level': 953, 'humidity': 84, 'temp_kf': 0}, 'weather': [{'id': 800, 'main': 'Clear', 'description': 'clear sky', 'icon': '01d'}], 'clouds': {'all': 0}, 'wind': {'speed': 0.73, 'deg': 275, 'gust': 0.62}, 'visibility': 10000, 'pop': 0, 'sys': {'pod': 'd'}, 'dt_txt': '2024-09-23 06:00:00'}, {'dt': 1727082000, 'main': {'temp': 286.89, 'feels_like': 286.04, 'temp_min': 286.89, 'temp_max': 286.89, 'pressure': 1009, 'sea_level': 1009, 'grnd_level': 953, 'humidity': 66, 'temp_kf': 0}, 'weather': [{'id': 800, 'main': 'Clear', 'description': 'clear sky', 'icon': '01d'}], 'clouds': {'all': 0}, 'wind': {'speed': 1.64, 'deg': 159, 'gust': 1.99}, 'visibility': 10000, 'pop': 0, 'sys': {'pod': 'd'}, 'dt_txt': '2024-09-23 09:00:00'}, {'dt': 1727092800, 'main': {'temp': 290.18, 'feels_like': 289.4, 'temp_min': 290.18, 'temp_max': 290.18, 'pressure': 1007, 'sea_level': 1007, 'grnd_level': 951, 'humidity': 56, 'temp_kf': 0}, 'weather': [{'id': 800, 'main': 'Clear', 'description': 'clear sky', 'icon': '01d'}], 'clouds': {'all': 0}, 'wind': {'speed': 2.19, 'deg': 170, 'gust': 3.58}, 'visibility': 10000, 'pop': 0, 'sys': {'pod': 'd'}, 'dt_txt': '2024-09-23 12:00:00'}, {'dt': 1727103600, 'main': {'temp': 290.38, 'feels_like': 289.67, 'temp_min': 290.38, 'temp_max': 290.38, 'pressure': 1004, 'sea_level': 1004, 'grnd_level': 949, 'humidity': 58, 'temp_kf': 0}, 'weather': [{'id': 800, 'main': 'Clear', 'description': 'clear sky', 'icon': '01d'}], 'clouds': {'all': 8}, 'wind': {'speed': 2.8, 'deg': 177, 'gust': 3.44}, 'visibility': 10000, 'pop': 0, 'sys': {'pod': 'd'}, 'dt_txt': '2024-09-23 15:00:00'}, {'dt': 1727114400, 'main': {'temp': 285.65, 'feels_like': 285.23, 'temp_min': 285.65, 'temp_max': 285.65, 'pressure': 1004, 'sea_level': 1004, 'grnd_level': 948, 'humidity': 87, 'temp_kf': 0}, 'weather': [{'id': 802, 'main': 'Clouds', 'description': 'scattered clouds', 'icon': '03n'}], 'clouds': {'all': 47}, 'wind': {'speed': 1.14, 'deg': 173, 'gust': 1.26}, 'visibility': 10000, 'pop': 0, 'sys': {'pod': 'n'}, 'dt_txt': '2024-09-23 18:00:00'}, {'dt': 1727125200, 'main': {'temp': 284.5, 'feels_like': 284.28, 'temp_min': 284.5, 'temp_max': 284.5, 'pressure': 1003, 'sea_level': 1003, 'grnd_level': 947, 'humidity': 99, 'temp_kf': 0}, 'weather': [{'id': 500, 'main': 'Rain', 'description': 'light rain', 'icon': '10n'}], 'clouds': {'all': 100}, 'wind': {'speed': 0.97, 'deg': 130, 'gust': 2.41}, 'visibility': 4523, 'pop': 1, 'rain': {'3h': 1.77}, 'sys': {'pod': 'n'}, 'dt_txt': '2024-09-23 21:00:00'}, {'dt': 1727136000, 'main': {'temp': 284.8, 'feels_like': 284.61, 'temp_min': 284.8, 'temp_max': 284.8, 'pressure': 1000, 'sea_level': 1000, 'grnd_level': 944, 'humidity': 99, 'temp_kf': 0}, 'weather': [{'id': 501, 'main': 'Rain', 'description': 'moderate rain', 'icon': '10n'}], 'clouds': {'all': 100}, 'wind': {'speed': 0.58, 'deg': 59, 'gust': 0.61}, 'visibility': 5823, 'pop': 1, 'rain': {'3h': 5.86}, 'sys': {'pod': 'n'}, 'dt_txt': '2024-09-24 00:00:00'}, {'dt': 1727146800, 'main': {'temp': 284.47, 'feels_like': 284.24, 'temp_min': 284.47, 'temp_max': 284.47, 'pressure': 997, 'sea_level': 997, 'grnd_level': 941, 'humidity': 99, 'temp_kf': 0}, 'weather': [{'id': 501, 'main': 'Rain', 'description': 'moderate rain', 'icon': '10n'}], 'clouds': {'all': 100}, 'wind': {'speed': 0.62, 'deg': 40, 'gust': 0.93}, 'visibility': 9341, 'pop': 1, 'rain': {'3h': 4.56}, 'sys': {'pod': 'n'}, 'dt_txt': '2024-09-24 03:00:00'}, {'dt': 1727157600, 'main': {'temp': 284.61, 'feels_like': 284.34, 'temp_min': 284.61, 'temp_max': 284.61, 'pressure': 995, 'sea_level': 995, 'grnd_level': 940, 'humidity': 97, 'temp_kf': 0}, 'weather': [{'id': 500, 'main': 'Rain', 'description': 'light rain', 'icon': '10d'}], 'clouds': {'all': 100}, 'wind': {'speed': 0.92, 'deg': 322, 'gust': 1.92}, 'visibility': 10000, 'pop': 1, 'rain': {'3h': 2.96}, 'sys': {'pod': 'd'}, 'dt_txt': '2024-09-24 06:00:00'}, {'dt': 1727168400, 'main': {'temp': 284.96, 'feels_like': 284.7, 'temp_min': 284.96, 'temp_max': 284.96, 'pressure': 995, 'sea_level': 995, 'grnd_level': 940, 'humidity': 96, 'temp_kf': 0}, 'weather': [{'id': 500, 'main': 'Rain', 'description': 'light rain', 'icon': '10d'}], 'clouds': {'all': 100}, 'wind': {'speed': 0.61, 'deg': 230, 'gust': 0.85}, 'visibility': 10000, 'pop': 1, 'rain': {'3h': 0.75}, 'sys': {'pod': 'd'}, 'dt_txt': '2024-09-24 09:00:00'}, {'dt': 1727179200, 'main': {'temp': 285.81, 'feels_like': 285.48, 'temp_min': 285.81, 'temp_max': 285.81, 'pressure': 995, 'sea_level': 995, 'grnd_level': 940, 'humidity': 90, 'temp_kf': 0}, 'weather': [{'id': 804, 'main': 'Clouds', 'description': 'overcast clouds', 'icon': '04d'}], 'clouds': {'all': 100}, 'wind': {'speed': 1.04, 'deg': 180, 'gust': 1.37}, 'visibility': 10000, 'pop': 0.8, 'sys': {'pod': 'd'}, 'dt_txt': '2024-09-24 12:00:00'}, {'dt': 1727190000, 'main': {'temp': 287.21, 'feels_like': 286.81, 'temp_min': 287.21, 'temp_max': 287.21, 'pressure': 994, 'sea_level': 994, 'grnd_level': 939, 'humidity': 82, 'temp_kf': 0}, 'weather': [{'id': 500, 'main': 'Rain', 'description': 'light rain', 'icon': '10d'}], 'clouds': {'all': 100}, 'wind': {'speed': 1.22, 'deg': 182, 'gust': 2.05}, 'visibility': 10000, 'pop': 0.38, 'rain': {'3h': 0.21}, 'sys': {'pod': 'd'}, 'dt_txt': '2024-09-24 15:00:00'}, {'dt': 1727200800, 'main': {'temp': 284.12, 'feels_like': 283.65, 'temp_min': 284.12, 'temp_max': 284.12, 'pressure': 994, 'sea_level': 994, 'grnd_level': 938, 'humidity': 91, 'temp_kf': 0}, 'weather': [{'id': 500, 'main': 'Rain', 'description': 'light rain', 'icon': '10n'}], 'clouds': {'all': 100}, 'wind': {'speed': 1.28, 'deg': 279, 'gust': 1.06}, 'visibility': 10000, 'pop': 0.33, 'rain': {'3h': 0.27}, 'sys': {'pod': 'n'}, 'dt_txt': '2024-09-24 18:00:00'}, {'dt': 1727211600, 'main': {'temp': 281.85, 'feels_like': 280.56, 'temp_min': 281.85, 'temp_max': 281.85, 'pressure': 995, 'sea_level': 995, 'grnd_level': 939, 'humidity': 86, 'temp_kf': 0}, 'weather': [{'id': 804, 'main': 'Clouds', 'description': 'overcast clouds', 'icon': '04n'}], 'clouds': {'all': 95}, 'wind': {'speed': 2.33, 'deg': 298, 'gust': 2.35}, 'visibility': 10000, 'pop': 0, 'sys': {'pod': 'n'}, 'dt_txt': '2024-09-24 21:00:00'}, {'dt': 1727222400, 'main': {'temp': 279.25, 'feels_like': 277.37, 'temp_min': 279.25, 'temp_max': 279.25, 'pressure': 996, 'sea_level': 996, 'grnd_level': 939, 'humidity': 89, 'temp_kf': 0}, 'weather': [{'id': 803, 'main': 'Clouds', 'description': 'broken clouds', 'icon': '04n'}], 'clouds': {'all': 84}, 'wind': {'speed': 2.48, 'deg': 291, 'gust': 2.65}, 'visibility': 10000, 'pop': 0, 'sys': {'pod': 'n'}, 'dt_txt': '2024-09-25 00:00:00'}, {'dt': 1727233200, 'main': {'temp': 278.78, 'feels_like': 277.13, 'temp_min': 278.78, 'temp_max': 278.78, 'pressure': 997, 'sea_level': 997, 'grnd_level': 940, 'humidity': 86, 'temp_kf': 0}, 'weather': [{'id': 804, 'main': 'Clouds', 'description': 'overcast clouds', 'icon': '04n'}], 'clouds': {'all': 100}, 'wind': {'speed': 2.12, 'deg': 289, 'gust': 2.39}, 'visibility': 10000, 'pop': 0, 'sys': {'pod': 'n'}, 'dt_txt': '2024-09-25 03:00:00'}, {'dt': 1727244000, 'main': {'temp': 278.1, 'feels_like': 276.65, 'temp_min': 278.1, 'temp_max': 278.1, 'pressure': 997, 'sea_level': 997, 'grnd_level': 940, 'humidity': 83, 'temp_kf': 0}, 'weather': [{'id': 804, 'main': 'Clouds', 'description': 'overcast clouds', 'icon': '04d'}], 'clouds': {'all': 100}, 'wind': {'speed': 1.82, 'deg': 290, 'gust': 1.79}, 'visibility': 10000, 'pop': 0, 'sys': {'pod': 'd'}, 'dt_txt': '2024-09-25 06:00:00'}, {'dt': 1727254800, 'main': {'temp': 282.72, 'feels_like': 282.72, 'temp_min': 282.72, 'temp_max': 282.72, 'pressure': 997, 'sea_level': 997, 'grnd_level': 940, 'humidity': 58, 'temp_kf': 0}, 'weather': [{'id': 804, 'main': 'Clouds', 'description': 'overcast clouds', 'icon': '04d'}], 'clouds': {'all': 100}, 'wind': {'speed': 0.79, 'deg': 197, 'gust': 1.15}, 'visibility': 10000, 'pop': 0, 'sys': {'pod': 'd'}, 'dt_txt': '2024-09-25 09:00:00'}], 'city': {'id': 3144113, 'name': 'Noresund', 'coord': {'lat': 60.1803, 'lon': 9.6231}, 'country': 'NO', 'population': 1000, 'timezone': 7200, 'sunrise': 1726808500, 'sunset': 1726853287}}\")\n"
     ]
    }
   ],
   "source": [
    "# Query the data\n",
    "forecast_rows = session.execute(\"SELECT * FROM forecast_table;\")\n",
    "print(forecast_rows.one()) # <- only one row"
   ]
  },
  {
   "cell_type": "markdown",
   "metadata": {
    "slideshow": {
     "slide_type": "slide"
    }
   },
   "source": [
    "```{seealso} Resources\n",
    ":class: tip\n",
    "- [Cassandra webpage](https://cassandra.apache.org/)\n",
    "- [Cassandra Docker file](https://hub.docker.com/_/cassandra)\n",
    "- [UUID functions](https://docs.datastax.com/en/cql-oss/3.3/cql/cql_reference/timeuuid_functions_r.html)\n",
    "- [YouTube: Cassandra in 100 seconds](https://youtu.be/ziq7FUKpCS8?si=WQUdkHFvaBmT0DBo) (2m:26s)\n",
    "- [YouTube: How to use Apache Cassandra in Python](https://youtu.be/qMauZqJH3ZM?si=yKGZ-5cld2BK396Y) (14m:50s)\n",
    "- [YouTube: Cassandra Database Crash Course](https://youtu.be/KZsVSfQVU4I?si=FBCi8qOfCirfVmZk) (19m:47s)\n",
    "```"
   ]
  }
 ],
 "metadata": {
  "celltoolbar": "Slideshow",
  "kernelspec": {
   "display_name": "Python 3 (ipykernel)",
   "language": "python",
   "name": "python3"
  },
  "language_info": {
   "codemirror_mode": {
    "name": "ipython",
    "version": 3
   },
   "file_extension": ".py",
   "mimetype": "text/x-python",
   "name": "python",
   "nbconvert_exporter": "python",
   "pygments_lexer": "ipython3",
   "version": "3.12.4"
  }
 },
 "nbformat": 4,
 "nbformat_minor": 4
}