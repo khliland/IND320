{
 "cells": [
  {
   "cell_type": "markdown",
   "metadata": {
    "slideshow": {
     "slide_type": "slide"
    }
   },
   "source": [
    "# Cassandra\n",
    "- A production grade NoSQL database.\n",
    "- Can be distributed across servers, nodes, etc.\n",
    "- Replication of database is supported for high degree of redundancy and speed.\n",
    "- Uses CQL, a subset of SQL for querying.\n",
    "- Works seamlesly together with Spark and its corresponding distributed structure.\n",
    "- Installation of Cassandra is explained in the [Installation chapter](../../7_Appendix/Installation.ipynb)."
   ]
  },
  {
   "cell_type": "markdown",
   "metadata": {
    "slideshow": {
     "slide_type": "slide"
    }
   },
   "source": [
    "## Spinning up a local Cassandra instance\n",
    "In a terminal, first time:  \n",
    "```docker run --name my_cassandra -p 9042:9042 cassandra:latest```  \n",
    "... and later:  \n",
    "```docker start my_cassandra```  \n",
    "  \n",
    ".. or in Docker Desktop:\n",
    "- Run the cassandra docker image with optional settings, opening 9042 port and setting a name.\n",
    "- Later, simply run the container with the name you chose."
   ]
  },
  {
   "cell_type": "markdown",
   "metadata": {
    "slideshow": {
     "slide_type": "slide"
    }
   },
   "source": [
    "<img src=\"https://github.com/khliland/IND320/blob/main/D2Dbook/images/Docker_images.png?raw=TRUE\" width=\"600px\">  "
   ]
  },
  {
   "cell_type": "markdown",
   "metadata": {
    "slideshow": {
     "slide_type": "slide"
    }
   },
   "source": [
    "\n",
    "<img src=\"https://github.com/khliland/IND320/blob/main/D2Dbook/images/Docker_containers.png?raw=TRUE\" width=\"800px\">  "
   ]
  },
  {
   "cell_type": "markdown",
   "metadata": {
    "slideshow": {
     "slide_type": "slide"
    }
   },
   "source": [
    "### Connect to the Cassandra cluster from Python."
   ]
  },
  {
   "cell_type": "code",
   "execution_count": 1,
   "metadata": {
    "ExecuteTime": {
     "end_time": "2024-08-17T10:25:34.787878Z",
     "start_time": "2024-08-17T10:25:34.389367Z"
    },
    "slideshow": {
     "slide_type": "fragment"
    },
    "tags": []
   },
   "outputs": [],
   "source": [
    "# Connecting to Cassandra\n",
    "from cassandra.cluster import Cluster\n",
    "cluster = Cluster(['localhost'], port=9042)\n",
    "session = cluster.connect()"
   ]
  },
  {
   "cell_type": "markdown",
   "metadata": {
    "slideshow": {
     "slide_type": "slide"
    }
   },
   "source": [
    "### Keyspace\n",
    "- In Cassandra database tables are stored in keyspaces (basically a distributed database).\n",
    "- These have parameters controlling their distribution on nodes/servers and redundancy.\n",
    "- We will use the simplest form locally."
   ]
  },
  {
   "cell_type": "code",
   "execution_count": 2,
   "metadata": {
    "ExecuteTime": {
     "end_time": "2024-08-17T10:25:34.798504Z",
     "start_time": "2024-08-17T10:25:34.789786Z"
    },
    "slideshow": {
     "slide_type": "fragment"
    },
    "tags": []
   },
   "outputs": [
    {
     "data": {
      "text/plain": [
       "<cassandra.cluster.ResultSet at 0x107f25eb0>"
      ]
     },
     "execution_count": 2,
     "metadata": {},
     "output_type": "execute_result"
    }
   ],
   "source": [
    "# Set up new keyspace (first time only)\n",
    "#                                              name of keyspace                        replication strategy           replication factor\n",
    "session.execute(\"CREATE KEYSPACE IF NOT EXISTS my_first_keyspace WITH REPLICATION = { 'class' : 'SimpleStrategy', 'replication_factor' : 1 };\")"
   ]
  },
  {
   "cell_type": "markdown",
   "metadata": {
    "slideshow": {
     "slide_type": "slide"
    }
   },
   "source": [
    "### Create a table\n",
    "- IF NOT EXISTS makes sure we do not overwrite existing tables"
   ]
  },
  {
   "cell_type": "code",
   "execution_count": 3,
   "metadata": {
    "ExecuteTime": {
     "end_time": "2024-08-17T10:25:35.347394Z",
     "start_time": "2024-08-17T10:25:34.800008Z"
    },
    "slideshow": {
     "slide_type": "fragment"
    },
    "tags": []
   },
   "outputs": [
    {
     "data": {
      "text/plain": [
       "<cassandra.cluster.ResultSet at 0x107684680>"
      ]
     },
     "execution_count": 3,
     "metadata": {},
     "output_type": "execute_result"
    }
   ],
   "source": [
    "# Create a new table (first time only)\n",
    "session.set_keyspace('my_first_keyspace')\n",
    "session.execute(\"DROP TABLE IF EXISTS my_first_keyspace.my_first_table;\") # Starting from scratch every time\n",
    "session.execute(\"CREATE TABLE IF NOT EXISTS my_first_table (ind int PRIMARY KEY, company text, model text);\")"
   ]
  },
  {
   "cell_type": "markdown",
   "metadata": {
    "slideshow": {
     "slide_type": "slide"
    }
   },
   "source": [
    "### Inserting and reading data"
   ]
  },
  {
   "cell_type": "code",
   "execution_count": 4,
   "metadata": {
    "ExecuteTime": {
     "end_time": "2024-08-17T10:25:35.366363Z",
     "start_time": "2024-08-17T10:25:35.350453Z"
    },
    "slideshow": {
     "slide_type": "fragment"
    },
    "tags": []
   },
   "outputs": [
    {
     "data": {
      "text/plain": [
       "<cassandra.cluster.ResultSet at 0x1180639b0>"
      ]
     },
     "execution_count": 4,
     "metadata": {},
     "output_type": "execute_result"
    }
   ],
   "source": [
    "# Insert some data (ind is the primary key, must be unique)\n",
    "session.execute(\"INSERT INTO my_first_table (ind, company, model) VALUES (1, 'Tesla', 'Model S');\")\n",
    "session.execute(\"INSERT INTO my_first_table (ind, company, model) VALUES (2, 'Tesla', 'Model 3');\")\n",
    "session.execute(\"INSERT INTO my_first_table (ind, company, model) VALUES (3, 'Polestar', '3');\")"
   ]
  },
  {
   "cell_type": "code",
   "execution_count": 5,
   "metadata": {},
   "outputs": [
    {
     "name": "stdout",
     "output_type": "stream",
     "text": [
      "Row(ind=1, company='Tesla', model='Model S')\n",
      "Row(ind=2, company='Tesla', model='Model 3')\n",
      "Row(ind=3, company='Polestar', model='3')\n"
     ]
    }
   ],
   "source": [
    "# Query the data\n",
    "rows = session.execute(\"SELECT * FROM my_first_table;\")\n",
    "for i in rows:\n",
    "    print(i)"
   ]
  },
  {
   "cell_type": "markdown",
   "metadata": {
    "slideshow": {
     "slide_type": "slide"
    },
    "tags": []
   },
   "source": [
    "### Case sensitivity\n",
    "- Cassandra is by default case insensitive in column names.\n",
    "- To use column names with capital letters, use double quotation marks both when creating tables and when inserting data.\n",
    "- The effect of insensitivity may be surprising.\n",
    "    - Look carefully at the use of quotation marks and error message below."
   ]
  },
  {
   "cell_type": "code",
   "execution_count": 6,
   "metadata": {
    "slideshow": {
     "slide_type": "slide"
    },
    "tags": []
   },
   "outputs": [
    {
     "data": {
      "text/plain": [
       "<cassandra.cluster.ResultSet at 0x118095af0>"
      ]
     },
     "execution_count": 6,
     "metadata": {},
     "output_type": "execute_result"
    }
   ],
   "source": [
    "session.set_keyspace('my_first_keyspace')\n",
    "session.execute(\"DROP TABLE IF EXISTS my_first_keyspace.case_insensitive;\") # Starting from scratch every time\n",
    "session.execute(\"CREATE TABLE IF NOT EXISTS case_insensitive (Capital int PRIMARY KEY, Letters text, Everywhere text);\")\n",
    "session.execute(\"DROP TABLE IF EXISTS my_first_keyspace.case_sensitive;\") # Starting from scratch every time\n",
    "session.execute(\"CREATE TABLE IF NOT EXISTS case_sensitive (\\\"Capital\\\" int PRIMARY KEY, \\\"Letters\\\" text, \\\"Everywhere\\\" text);\")"
   ]
  },
  {
   "cell_type": "code",
   "execution_count": 7,
   "metadata": {
    "slideshow": {
     "slide_type": "fragment"
    },
    "tags": []
   },
   "outputs": [
    {
     "data": {
      "text/plain": [
       "<cassandra.cluster.ResultSet at 0x11808a060>"
      ]
     },
     "execution_count": 7,
     "metadata": {},
     "output_type": "execute_result"
    }
   ],
   "source": [
    "session.execute(\"INSERT INTO case_insensitive (Capital, Letters, Everywhere) VALUES (1, 'Tesla', 'Model S');\")"
   ]
  },
  {
   "cell_type": "code",
   "execution_count": 8,
   "metadata": {
    "slideshow": {
     "slide_type": "fragment"
    },
    "tags": [
     "raises-exception"
    ]
   },
   "outputs": [
    {
     "ename": "InvalidRequest",
     "evalue": "Error from server: code=2200 [Invalid query] message=\"Undefined column name capital in table my_first_keyspace.case_sensitive\"",
     "output_type": "error",
     "traceback": [
      "\u001b[31m---------------------------------------------------------------------------\u001b[39m",
      "\u001b[31mInvalidRequest\u001b[39m                            Traceback (most recent call last)",
      "\u001b[36mCell\u001b[39m\u001b[36m \u001b[39m\u001b[32mIn[8]\u001b[39m\u001b[32m, line 1\u001b[39m\n\u001b[32m----> \u001b[39m\u001b[32m1\u001b[39m \u001b[43msession\u001b[49m\u001b[43m.\u001b[49m\u001b[43mexecute\u001b[49m\u001b[43m(\u001b[49m\u001b[33;43m\"\u001b[39;49m\u001b[33;43mINSERT INTO case_sensitive (Capital, Letters, Everywhere) VALUES (1, \u001b[39;49m\u001b[33;43m'\u001b[39;49m\u001b[33;43mTesla\u001b[39;49m\u001b[33;43m'\u001b[39;49m\u001b[33;43m, \u001b[39;49m\u001b[33;43m'\u001b[39;49m\u001b[33;43mModel S\u001b[39;49m\u001b[33;43m'\u001b[39;49m\u001b[33;43m);\u001b[39;49m\u001b[33;43m\"\u001b[39;49m\u001b[43m)\u001b[49m\n",
      "\u001b[36mFile \u001b[39m\u001b[32m~/miniforge3/envs/ind320_25/lib/python3.12/site-packages/cassandra/cluster.py:2677\u001b[39m, in \u001b[36mSession.execute\u001b[39m\u001b[34m(self, query, parameters, timeout, trace, custom_payload, execution_profile, paging_state, host, execute_as)\u001b[39m\n\u001b[32m   2634\u001b[39m \u001b[38;5;28;01mdef\u001b[39;00m\u001b[38;5;250m \u001b[39m\u001b[34mexecute\u001b[39m(\u001b[38;5;28mself\u001b[39m, query, parameters=\u001b[38;5;28;01mNone\u001b[39;00m, timeout=_NOT_SET, trace=\u001b[38;5;28;01mFalse\u001b[39;00m,\n\u001b[32m   2635\u001b[39m             custom_payload=\u001b[38;5;28;01mNone\u001b[39;00m, execution_profile=EXEC_PROFILE_DEFAULT,\n\u001b[32m   2636\u001b[39m             paging_state=\u001b[38;5;28;01mNone\u001b[39;00m, host=\u001b[38;5;28;01mNone\u001b[39;00m, execute_as=\u001b[38;5;28;01mNone\u001b[39;00m):\n\u001b[32m   2637\u001b[39m \u001b[38;5;250m    \u001b[39m\u001b[33;03m\"\"\"\u001b[39;00m\n\u001b[32m   2638\u001b[39m \u001b[33;03m    Execute the given query and synchronously wait for the response.\u001b[39;00m\n\u001b[32m   2639\u001b[39m \n\u001b[32m   (...)\u001b[39m\u001b[32m   2674\u001b[39m \u001b[33;03m    on a DSE cluster.\u001b[39;00m\n\u001b[32m   2675\u001b[39m \u001b[33;03m    \"\"\"\u001b[39;00m\n\u001b[32m-> \u001b[39m\u001b[32m2677\u001b[39m     \u001b[38;5;28;01mreturn\u001b[39;00m \u001b[38;5;28;43mself\u001b[39;49m\u001b[43m.\u001b[49m\u001b[43mexecute_async\u001b[49m\u001b[43m(\u001b[49m\u001b[43mquery\u001b[49m\u001b[43m,\u001b[49m\u001b[43m \u001b[49m\u001b[43mparameters\u001b[49m\u001b[43m,\u001b[49m\u001b[43m \u001b[49m\u001b[43mtrace\u001b[49m\u001b[43m,\u001b[49m\u001b[43m \u001b[49m\u001b[43mcustom_payload\u001b[49m\u001b[43m,\u001b[49m\u001b[43m \u001b[49m\u001b[43mtimeout\u001b[49m\u001b[43m,\u001b[49m\u001b[43m \u001b[49m\u001b[43mexecution_profile\u001b[49m\u001b[43m,\u001b[49m\u001b[43m \u001b[49m\u001b[43mpaging_state\u001b[49m\u001b[43m,\u001b[49m\u001b[43m \u001b[49m\u001b[43mhost\u001b[49m\u001b[43m,\u001b[49m\u001b[43m \u001b[49m\u001b[43mexecute_as\u001b[49m\u001b[43m)\u001b[49m\u001b[43m.\u001b[49m\u001b[43mresult\u001b[49m\u001b[43m(\u001b[49m\u001b[43m)\u001b[49m\n",
      "\u001b[36mFile \u001b[39m\u001b[32m~/miniforge3/envs/ind320_25/lib/python3.12/site-packages/cassandra/cluster.py:4956\u001b[39m, in \u001b[36mResponseFuture.result\u001b[39m\u001b[34m(self)\u001b[39m\n\u001b[32m   4954\u001b[39m     \u001b[38;5;28;01mreturn\u001b[39;00m ResultSet(\u001b[38;5;28mself\u001b[39m, \u001b[38;5;28mself\u001b[39m._final_result)\n\u001b[32m   4955\u001b[39m \u001b[38;5;28;01melse\u001b[39;00m:\n\u001b[32m-> \u001b[39m\u001b[32m4956\u001b[39m     \u001b[38;5;28;01mraise\u001b[39;00m \u001b[38;5;28mself\u001b[39m._final_exception\n",
      "\u001b[31mInvalidRequest\u001b[39m: Error from server: code=2200 [Invalid query] message=\"Undefined column name capital in table my_first_keyspace.case_sensitive\""
     ]
    }
   ],
   "source": [
    "session.execute(\"INSERT INTO case_sensitive (Capital, Letters, Everywhere) VALUES (1, 'Tesla', 'Model S');\")"
   ]
  },
  {
   "cell_type": "code",
   "execution_count": 9,
   "metadata": {
    "slideshow": {
     "slide_type": "fragment"
    },
    "tags": []
   },
   "outputs": [
    {
     "data": {
      "text/plain": [
       "<cassandra.cluster.ResultSet at 0x11808aab0>"
      ]
     },
     "execution_count": 9,
     "metadata": {},
     "output_type": "execute_result"
    }
   ],
   "source": [
    "session.execute(\"INSERT INTO case_sensitive (\\\"Capital\\\", \\\"Letters\\\", \\\"Everywhere\\\") VALUES (1, 'Tesla', 'Model S');\")"
   ]
  },
  {
   "cell_type": "code",
   "execution_count": 10,
   "metadata": {
    "slideshow": {
     "slide_type": "slide"
    },
    "tags": []
   },
   "outputs": [
    {
     "name": "stdout",
     "output_type": "stream",
     "text": [
      "Row(capital=1, everywhere='Model S', letters='Tesla')\n",
      "Row(Capital=1, Everywhere='Model S', Letters='Tesla')\n"
     ]
    }
   ],
   "source": [
    "# Query the data\n",
    "rows = session.execute(\"SELECT * FROM case_insensitive;\")\n",
    "for i in rows:\n",
    "    print(i)\n",
    "rows = session.execute(\"SELECT * FROM case_sensitive;\")\n",
    "for i in rows:\n",
    "    print(i)"
   ]
  },
  {
   "cell_type": "markdown",
   "metadata": {
    "slideshow": {
     "slide_type": "slide"
    }
   },
   "source": [
    "### Asyncronous writing\n",
    "- If your application is very data intensive, waiting for a response is not productive.\n",
    "- Writing asyncronously sends the data but does not pause for reply."
   ]
  },
  {
   "cell_type": "code",
   "execution_count": 11,
   "metadata": {
    "ExecuteTime": {
     "end_time": "2024-08-17T10:25:35.371390Z",
     "start_time": "2024-08-17T10:25:35.367159Z"
    },
    "slideshow": {
     "slide_type": "fragment"
    },
    "tags": []
   },
   "outputs": [
    {
     "data": {
      "text/plain": [
       "<ResponseFuture: query='<SimpleStatement query=\"INSERT INTO my_first_table (ind, company, model) VALUES (4, 'Volkswagen', 'ID.4');\", consistency=Not Set>' request_id=63 result=(no result yet) exception=None coordinator_host=None>"
      ]
     },
     "execution_count": 11,
     "metadata": {},
     "output_type": "execute_result"
    }
   ],
   "source": [
    "session.execute_async(\"INSERT INTO my_first_table (ind, company, model) VALUES (4, 'Volkswagen', 'ID.4');\")"
   ]
  },
  {
   "cell_type": "code",
   "execution_count": 12,
   "metadata": {
    "ExecuteTime": {
     "end_time": "2024-08-17T10:25:35.384736Z",
     "start_time": "2024-08-17T10:25:35.372551Z"
    },
    "slideshow": {
     "slide_type": "slide"
    },
    "tags": []
   },
   "outputs": [
    {
     "name": "stdout",
     "output_type": "stream",
     "text": [
      "Row(ind=1, company='Tesla', model='Model S')\n",
      "Row(ind=2, company='Tesla', model='Model 3')\n",
      "Row(ind=4, company='Volkswagen', model='ID.4')\n",
      "Row(ind=3, company='Polestar', model='3')\n"
     ]
    }
   ],
   "source": [
    "# Query the data\n",
    "rows = session.execute(\"SELECT * FROM my_first_table;\")\n",
    "for i in rows:\n",
    "    print(i)"
   ]
  },
  {
   "cell_type": "code",
   "execution_count": 13,
   "metadata": {
    "ExecuteTime": {
     "end_time": "2024-08-17T10:25:35.402371Z",
     "start_time": "2024-08-17T10:25:35.386980Z"
    },
    "slideshow": {
     "slide_type": "slide"
    },
    "tags": [
     "raises-exception"
    ]
   },
   "outputs": [
    {
     "name": "stdout",
     "output_type": "stream",
     "text": [
      "Row(ind=1, company='Tesla', model='Model S')\n",
      "Row(ind=2, company='Tesla', model='Model 3')\n"
     ]
    }
   ],
   "source": [
    "# More specific query\n",
    "prepared_statement = session.prepare(\"SELECT * FROM my_first_table WHERE company=? ALLOW FILTERING;\")\n",
    "teslas = session.execute(prepared_statement, ['Tesla'])\n",
    "for i in teslas:\n",
    "    print(i)"
   ]
  },
  {
   "cell_type": "markdown",
   "metadata": {
    "slideshow": {
     "slide_type": "slide"
    }
   },
   "source": [
    "## Cassandra filtering\n",
    "Cassandra is inherently a distributed production database. Selecting as above may require downloading all data from a node, then filtering based on the WHERE part (only PRIMARY KEYs are centrally known). Solutions:  \n",
    "- If the table is small or most of the data will satisfy the query, add ```ALLOW FILTERING``` at the end of the query (not recommended if not known). \n",
    "- Or make sure the WHERE clause points to one of the keys (see below)."
   ]
  },
  {
   "cell_type": "code",
   "execution_count": 14,
   "metadata": {
    "ExecuteTime": {
     "end_time": "2024-08-17T10:25:35.613711Z",
     "start_time": "2024-08-17T10:25:35.403622Z"
    },
    "slideshow": {
     "slide_type": "slide"
    },
    "tags": []
   },
   "outputs": [
    {
     "data": {
      "text/plain": [
       "<cassandra.cluster.ResultSet at 0x118018aa0>"
      ]
     },
     "execution_count": 14,
     "metadata": {},
     "output_type": "execute_result"
    }
   ],
   "source": [
    "# Create a new table (observe keys)\n",
    "session.execute(\"DROP TABLE IF EXISTS my_first_keyspace.car_table;\")\n",
    "session.execute(\"CREATE TABLE IF NOT EXISTS car_table (company text, model text, PRIMARY KEY(company, model));\")"
   ]
  },
  {
   "cell_type": "code",
   "execution_count": 15,
   "metadata": {
    "ExecuteTime": {
     "end_time": "2024-08-17T10:25:35.628950Z",
     "start_time": "2024-08-17T10:25:35.615126Z"
    },
    "slideshow": {
     "slide_type": "fragment"
    },
    "tags": []
   },
   "outputs": [
    {
     "data": {
      "text/plain": [
       "<cassandra.cluster.ResultSet at 0x1182c8b90>"
      ]
     },
     "execution_count": 15,
     "metadata": {},
     "output_type": "execute_result"
    }
   ],
   "source": [
    "# Insert some data (combination of company and model must be unique)\n",
    "session.execute(\"INSERT INTO car_table (company, model) VALUES ('Tesla', 'Model S');\")\n",
    "session.execute(\"INSERT INTO car_table (company, model) VALUES ('Tesla', 'Model 3');\")\n",
    "session.execute(\"INSERT INTO car_table (company, model) VALUES ('Polestar', '3');\")\n",
    "session.execute(\"INSERT INTO car_table (company, model) VALUES ('Volkswagen', 'ID.4');\")"
   ]
  },
  {
   "cell_type": "code",
   "execution_count": 16,
   "metadata": {
    "ExecuteTime": {
     "end_time": "2024-08-17T10:25:35.639765Z",
     "start_time": "2024-08-17T10:25:35.630657Z"
    },
    "slideshow": {
     "slide_type": "slide"
    },
    "tags": []
   },
   "outputs": [
    {
     "name": "stdout",
     "output_type": "stream",
     "text": [
      "Row(company='Tesla', model='Model 3')\n",
      "Row(company='Tesla', model='Model S')\n"
     ]
    }
   ],
   "source": [
    "# More specific query now works\n",
    "prepared_statement = session.prepare(\"SELECT * FROM car_table WHERE company=?;\")\n",
    "teslas = session.execute(prepared_statement, ['Tesla'])\n",
    "for i in teslas:\n",
    "    print(i)"
   ]
  },
  {
   "cell_type": "markdown",
   "metadata": {
    "slideshow": {
     "slide_type": "slide"
    }
   },
   "source": [
    "### Partitions\n",
    "- Cassandra databases are usually replicated over different nodes.\n",
    "- Data is stored in partitions (subsets) which have local copys.\n",
    "- The primary key, e.g., PRIMARY KEY(company, model), is used in partitioning.\n",
    "    - The first part, e.g., company, is most important.\n",
    "    - All cars from a company will be located together, aiming for quicker queries."
   ]
  },
  {
   "cell_type": "markdown",
   "metadata": {
    "slideshow": {
     "slide_type": "slide"
    }
   },
   "source": [
    "### Unique IDs \n",
    "- In MySQL one could use the attribute AUTO_INCREMENT on integer IDs to automatically make a new unique index when inserting data.\n",
    "- This would cause unreasonable overhead in a distributed database.\n",
    "- [UUID](https://en.wikipedia.org/wiki/Universally_unique_identifier)s are used instead.\n",
    "    - Universally Unique Identifiers are typically 128-bit random bit sequences with extremely low probability of duplication.\n",
    "    - Cassandra uses a [timeuuid](https://docs.datastax.com/en/cql-oss/3.3/cql/cql_reference/timeuuid_functions_r.html) type to combine a timestamp and uuid in one."
   ]
  },
  {
   "cell_type": "code",
   "execution_count": 17,
   "metadata": {
    "ExecuteTime": {
     "end_time": "2024-08-17T10:25:35.766003Z",
     "start_time": "2024-08-17T10:25:35.640600Z"
    },
    "slideshow": {
     "slide_type": "fragment"
    },
    "tags": []
   },
   "outputs": [
    {
     "data": {
      "text/plain": [
       "<cassandra.cluster.ResultSet at 0x1180944a0>"
      ]
     },
     "execution_count": 17,
     "metadata": {},
     "output_type": "execute_result"
    }
   ],
   "source": [
    "# Create a new table (first time only)\n",
    "session.set_keyspace('my_first_keyspace')\n",
    "session.execute(\"DROP TABLE IF EXISTS my_first_keyspace.table_with_uuid;\")\n",
    "session.execute(\"CREATE TABLE IF NOT EXISTS table_with_uuid (id timeuuid PRIMARY KEY, company text, model text, price float);\")"
   ]
  },
  {
   "cell_type": "code",
   "execution_count": 18,
   "metadata": {
    "ExecuteTime": {
     "end_time": "2024-08-17T10:25:35.784876Z",
     "start_time": "2024-08-17T10:25:35.766619Z"
    },
    "slideshow": {
     "slide_type": "slide"
    },
    "tags": []
   },
   "outputs": [
    {
     "data": {
      "text/plain": [
       "<cassandra.cluster.ResultSet at 0x1182c6930>"
      ]
     },
     "execution_count": 18,
     "metadata": {},
     "output_type": "execute_result"
    }
   ],
   "source": [
    "session.execute(\"INSERT INTO table_with_uuid (id, company, model, price) VALUES (now(), 'Tesla', 'Model S', 20000.0);\")\n",
    "session.execute(\"INSERT INTO table_with_uuid (id, company, model, price) VALUES (now(), 'Tesla', 'Model S', 21000.0);\")\n",
    "session.execute(\"INSERT INTO table_with_uuid (id, company, model, price) VALUES (now(), 'Oldsmobile', 'Model 6C', 135000.0);\")"
   ]
  },
  {
   "cell_type": "code",
   "execution_count": 19,
   "metadata": {
    "ExecuteTime": {
     "end_time": "2024-08-17T10:25:35.792934Z",
     "start_time": "2024-08-17T10:25:35.785467Z"
    },
    "slideshow": {
     "slide_type": "slide"
    },
    "tags": []
   },
   "outputs": [
    {
     "name": "stdout",
     "output_type": "stream",
     "text": [
      "Row(id=UUID('de1cb570-7e8c-11f0-8e45-cb201be6967f'), company='Oldsmobile', model='Model 6C', price=135000.0)\n",
      "Datetime: 2025-08-21 12:46:33.543000\n",
      "Row(id=UUID('de1c6750-7e8c-11f0-8e45-cb201be6967f'), company='Tesla', model='Model S', price=21000.0)\n",
      "Datetime: 2025-08-21 12:46:33.541000\n",
      "Row(id=UUID('de19cf40-7e8c-11f0-8e45-cb201be6967f'), company='Tesla', model='Model S', price=20000.0)\n",
      "Datetime: 2025-08-21 12:46:33.524000\n"
     ]
    }
   ],
   "source": [
    "from cassandra.util import datetime_from_uuid1\n",
    "\n",
    "# Query the data\n",
    "rows = session.execute(\"SELECT * FROM table_with_uuid;\")\n",
    "for i in rows:\n",
    "    print(i)\n",
    "    # Extract the timestamp from Cassandra's timeuuid\n",
    "    print(\"Datetime:\", datetime_from_uuid1(i.id))"
   ]
  },
  {
   "cell_type": "markdown",
   "metadata": {
    "slideshow": {
     "slide_type": "slide"
    }
   },
   "source": [
    "## JSON in Cassandra\n",
    "### Read previously saved JSON file forecast.json to memory"
   ]
  },
  {
   "cell_type": "code",
   "execution_count": 20,
   "metadata": {
    "ExecuteTime": {
     "end_time": "2024-08-17T10:25:35.796049Z",
     "start_time": "2024-08-17T10:25:35.793437Z"
    },
    "slideshow": {
     "slide_type": "fragment"
    },
    "tags": []
   },
   "outputs": [],
   "source": [
    "import json\n",
    "with open('../3_APIs/downloads/forecast.json', 'r') as f:\n",
    "    forecast = json.load(f)"
   ]
  },
  {
   "cell_type": "code",
   "execution_count": 21,
   "metadata": {
    "ExecuteTime": {
     "end_time": "2024-08-17T10:25:35.799114Z",
     "start_time": "2024-08-17T10:25:35.796532Z"
    },
    "slideshow": {
     "slide_type": "slide"
    },
    "tags": []
   },
   "outputs": [
    {
     "data": {
      "text/plain": [
       "\"{'cod': '200', 'message': 0, 'cnt': 40, 'list': [{'dt': 1755788400, 'main': {'temp': 281.94, 'feels_like': 281.94, 'temp_min': 281.45, 'temp_max': 281.94, 'pressure': 1005, 'sea_level': 1005, 'grnd_level': 954, 'humidity': 91, 'temp_kf': 0.49}, 'weather': [{'id': 500, 'main': 'Rain', 'description': 'light rain', 'icon': '10d'}], 'clouds': {'all': 83}, 'wind': {'speed': 1.17, 'deg': 241, 'gust': 3.2}, 'visibility': 1142, 'pop': 1, 'rain': {'3h': 1.59}, 'sys': {'pod': 'd'}, 'dt_txt': '2025-08-21 15:00:00'}, {'dt': 1755799200, 'main': {'temp': 281.49, 'feels_like': 281.49, 'temp_min': 281.14, 'temp_max': 281.49, 'pressure': 1005, 'sea_level': 1005, 'grnd_level': 954, 'humidity': 91, 'temp_kf': 0.35}, 'weather': [{'id': 500, 'main': 'Rain', 'description': 'light rain', 'icon': '10d'}], 'clouds': {'all': 92}, 'wind': {'speed': 0.79, 'deg': 241, 'gust': 1.34}, 'visibility': 10000, 'pop': 1, 'rain': {'3h': 0.29}, 'sys': {'pod': 'd'}, 'dt_txt': '2025-08-21 18:00:00'}, {'dt': 1755810000, 'main': {'temp': 280.94, 'feels_like': 280.94, 'temp_min': 280.94, 'temp_max': 280.94, 'pressure': 1005, 'sea_level': 1005, 'grnd_level': 954, 'humidity': 90, 'temp_kf': 0}, 'weather': [{'id': 500, 'main': 'Rain', 'description': 'light rain', 'icon': '10n'}], 'clouds': {'all': 99}, 'wind': {'speed': 0.57, 'deg': 273, 'gust': 0.73}, 'visibility': 10000, 'pop': 0.69, 'rain': {'3h': 0.35}, 'sys': {'pod': 'n'}, 'dt_txt': '2025-08-21 21:00:00'}, {'dt': 1755820800, 'main': {'temp': 279.19, 'feels_like': 279.19, 'temp_min': 279.19, 'temp_max': 279.19, 'pressure': 1006, 'sea_level': 1006, 'grnd_level': 955, 'humidity': 90, 'temp_kf': 0}, 'weather': [{'id': 804, 'main': 'Clouds', 'description': 'overcast clouds', 'icon': '04n'}], 'clouds': {'all': 98}, 'wind': {'speed': 0.53, 'deg': 13, 'gust': 0.37}, 'visibility': 10000, 'pop': 0, 'sys': {'pod': 'n'}, 'dt_txt': '2025-08-22 00:00:00'}, {'dt': 1755831600, 'main': {'temp': 279.36, 'feels_like': 279.36, 'temp_min': 279.36, 'temp_max': 279.36, 'pressure': 1006, 'sea_level': 1006, 'grnd_level': 955, 'humidity': 90, 'temp_kf': 0}, 'weather': [{'id': 803, 'main': 'Clouds', 'description': 'broken clouds', 'icon': '04n'}], 'clouds': {'all': 61}, 'wind': {'speed': 1.07, 'deg': 344, 'gust': 1.17}, 'visibility': 10000, 'pop': 0, 'sys': {'pod': 'n'}, 'dt_txt': '2025-08-22 03:00:00'}, {'dt': 1755842400, 'main': {'temp': 280.74, 'feels_like': 280.74, 'temp_min': 280.74, 'temp_max': 280.74, 'pressure': 1006, 'sea_level': 1006, 'grnd_level': 955, 'humidity': 83, 'temp_kf': 0}, 'weather': [{'id': 802, 'main': 'Clouds', 'description': 'scattered clouds', 'icon': '03d'}], 'clouds': {'all': 37}, 'wind': {'speed': 0.65, 'deg': 23, 'gust': 0.63}, 'visibility': 10000, 'pop': 0, 'sys': {'pod': 'd'}, 'dt_txt': '2025-08-22 06:00:00'}, {'dt': 1755853200, 'main': {'temp': 283.65, 'feels_like': 282.48, 'temp_min': 283.65, 'temp_max': 283.65, 'pressure': 1006, 'sea_level': 1006, 'grnd_level': 956, 'humidity': 66, 'temp_kf': 0}, 'weather': [{'id': 802, 'main': 'Clouds', 'description': 'scattered clouds', 'icon': '03d'}], 'clouds': {'all': 25}, 'wind': {'speed': 1.65, 'deg': 292, 'gust': 1.48}, 'visibility': 10000, 'pop': 0, 'sys': {'pod': 'd'}, 'dt_txt': '2025-08-22 09:00:00'}, {'dt': 1755864000, 'main': {'temp': 285.03, 'feels_like': 283.79, 'temp_min': 285.03, 'temp_max': 285.03, 'pressure': 1006, 'sea_level': 1006, 'grnd_level': 956, 'humidity': 58, 'temp_kf': 0}, 'weather': [{'id': 802, 'main': 'Clouds', 'description': 'scattered clouds', 'icon': '03d'}], 'clouds': {'all': 31}, 'wind': {'speed': 2.19, 'deg': 304, 'gust': 2.02}, 'visibility': 10000, 'pop': 0, 'sys': {'pod': 'd'}, 'dt_txt': '2025-08-22 12:00:00'}, {'dt': 1755874800, 'main': {'temp': 284.94, 'feels_like': 283.85, 'temp_min': 284.94, 'temp_max': 284.94, 'pressure': 1007, 'sea_level': 1007, 'grnd_level': 957, 'humidity': 64, 'temp_kf': 0}, 'weather': [{'id': 804, 'main': 'Clouds', 'description': 'overcast clouds', 'icon': '04d'}], 'clouds': {'all': 95}, 'wind': {'speed': 2.49, 'deg': 263, 'gust': 2.75}, 'visibility': 10000, 'pop': 0, 'sys': {'pod': 'd'}, 'dt_txt': '2025-08-22 15:00:00'}, {'dt': 1755885600, 'main': {'temp': 283.31, 'feels_like': 282.42, 'temp_min': 283.31, 'temp_max': 283.31, 'pressure': 1007, 'sea_level': 1007, 'grnd_level': 957, 'humidity': 78, 'temp_kf': 0}, 'weather': [{'id': 804, 'main': 'Clouds', 'description': 'overcast clouds', 'icon': '04d'}], 'clouds': {'all': 98}, 'wind': {'speed': 2.51, 'deg': 269, 'gust': 2.66}, 'visibility': 10000, 'pop': 0, 'sys': {'pod': 'd'}, 'dt_txt': '2025-08-22 18:00:00'}, {'dt': 1755896400, 'main': {'temp': 281.74, 'feels_like': 280.97, 'temp_min': 281.74, 'temp_max': 281.74, 'pressure': 1008, 'sea_level': 1008, 'grnd_level': 958, 'humidity': 88, 'temp_kf': 0}, 'weather': [{'id': 804, 'main': 'Clouds', 'description': 'overcast clouds', 'icon': '04n'}], 'clouds': {'all': 100}, 'wind': {'speed': 1.71, 'deg': 244, 'gust': 2.25}, 'visibility': 10000, 'pop': 0, 'sys': {'pod': 'n'}, 'dt_txt': '2025-08-22 21:00:00'}, {'dt': 1755907200, 'main': {'temp': 282.06, 'feels_like': 281.61, 'temp_min': 282.06, 'temp_max': 282.06, 'pressure': 1008, 'sea_level': 1008, 'grnd_level': 957, 'humidity': 91, 'temp_kf': 0}, 'weather': [{'id': 500, 'main': 'Rain', 'description': 'light rain', 'icon': '10n'}], 'clouds': {'all': 100}, 'wind': {'speed': 1.45, 'deg': 221, 'gust': 2.18}, 'visibility': 10000, 'pop': 0.2, 'rain': {'3h': 0.14}, 'sys': {'pod': 'n'}, 'dt_txt': '2025-08-23 00:00:00'}, {'dt': 1755918000, 'main': {'temp': 282.21, 'feels_like': 281.8, 'temp_min': 282.21, 'temp_max': 282.21, 'pressure': 1007, 'sea_level': 1007, 'grnd_level': 956, 'humidity': 94, 'temp_kf': 0}, 'weather': [{'id': 500, 'main': 'Rain', 'description': 'light rain', 'icon': '10n'}], 'clouds': {'all': 100}, 'wind': {'speed': 1.43, 'deg': 212, 'gust': 1.97}, 'visibility': 10000, 'pop': 1, 'rain': {'3h': 0.56}, 'sys': {'pod': 'n'}, 'dt_txt': '2025-08-23 03:00:00'}, {'dt': 1755928800, 'main': {'temp': 283.21, 'feels_like': 282.83, 'temp_min': 283.21, 'temp_max': 283.21, 'pressure': 1007, 'sea_level': 1007, 'grnd_level': 956, 'humidity': 98, 'temp_kf': 0}, 'weather': [{'id': 500, 'main': 'Rain', 'description': 'light rain', 'icon': '10d'}], 'clouds': {'all': 100}, 'wind': {'speed': 1.89, 'deg': 234, 'gust': 2.63}, 'visibility': 1466, 'pop': 1, 'rain': {'3h': 0.89}, 'sys': {'pod': 'd'}, 'dt_txt': '2025-08-23 06:00:00'}, {'dt': 1755939600, 'main': {'temp': 284.3, 'feels_like': 283.9, 'temp_min': 284.3, 'temp_max': 284.3, 'pressure': 1007, 'sea_level': 1007, 'grnd_level': 957, 'humidity': 93, 'temp_kf': 0}, 'weather': [{'id': 500, 'main': 'Rain', 'description': 'light rain', 'icon': '10d'}], 'clouds': {'all': 100}, 'wind': {'speed': 4.08, 'deg': 253, 'gust': 6.06}, 'visibility': 10000, 'pop': 1, 'rain': {'3h': 0.78}, 'sys': {'pod': 'd'}, 'dt_txt': '2025-08-23 09:00:00'}, {'dt': 1755950400, 'main': {'temp': 284.82, 'feels_like': 284.24, 'temp_min': 284.82, 'temp_max': 284.82, 'pressure': 1008, 'sea_level': 1008, 'grnd_level': 957, 'humidity': 84, 'temp_kf': 0}, 'weather': [{'id': 500, 'main': 'Rain', 'description': 'light rain', 'icon': '10d'}], 'clouds': {'all': 100}, 'wind': {'speed': 4.2, 'deg': 262, 'gust': 5.16}, 'visibility': 10000, 'pop': 1, 'rain': {'3h': 0.29}, 'sys': {'pod': 'd'}, 'dt_txt': '2025-08-23 12:00:00'}, {'dt': 1755961200, 'main': {'temp': 283.74, 'feels_like': 283.28, 'temp_min': 283.74, 'temp_max': 283.74, 'pressure': 1008, 'sea_level': 1008, 'grnd_level': 957, 'humidity': 93, 'temp_kf': 0}, 'weather': [{'id': 500, 'main': 'Rain', 'description': 'light rain', 'icon': '10d'}], 'clouds': {'all': 100}, 'wind': {'speed': 2.69, 'deg': 238, 'gust': 5.27}, 'visibility': 10000, 'pop': 1, 'rain': {'3h': 0.93}, 'sys': {'pod': 'd'}, 'dt_txt': '2025-08-23 15:00:00'}, {'dt': 1755972000, 'main': {'temp': 284.16, 'feels_like': 283.88, 'temp_min': 284.16, 'temp_max': 284.16, 'pressure': 1007, 'sea_level': 1007, 'grnd_level': 957, 'humidity': 98, 'temp_kf': 0}, 'weather': [{'id': 500, 'main': 'Rain', 'description': 'light rain', 'icon': '10d'}], 'clouds': {'all': 100}, 'wind': {'speed': 2.98, 'deg': 240, 'gust': 6.58}, 'visibility': 2671, 'pop': 1, 'rain': {'3h': 1.86}, 'sys': {'pod': 'd'}, 'dt_txt': '2025-08-23 18:00:00'}, {'dt': 1755982800, 'main': {'temp': 283.89, 'feels_like': 283.58, 'temp_min': 283.89, 'temp_max': 283.89, 'pressure': 1007, 'sea_level': 1007, 'grnd_level': 957, 'humidity': 98, 'temp_kf': 0}, 'weather': [{'id': 500, 'main': 'Rain', 'description': 'light rain', 'icon': '10n'}], 'clouds': {'all': 100}, 'wind': {'speed': 2.65, 'deg': 244, 'gust': 3.61}, 'visibility': 5115, 'pop': 1, 'rain': {'3h': 1.54}, 'sys': {'pod': 'n'}, 'dt_txt': '2025-08-23 21:00:00'}, {'dt': 1755993600, 'main': {'temp': 283.79, 'feels_like': 283.44, 'temp_min': 283.79, 'temp_max': 283.79, 'pressure': 1007, 'sea_level': 1007, 'grnd_level': 957, 'humidity': 97, 'temp_kf': 0}, 'weather': [{'id': 500, 'main': 'Rain', 'description': 'light rain', 'icon': '10n'}], 'clouds': {'all': 100}, 'wind': {'speed': 3.59, 'deg': 252, 'gust': 5.08}, 'visibility': 4644, 'pop': 1, 'rain': {'3h': 1.92}, 'sys': {'pod': 'n'}, 'dt_txt': '2025-08-24 00:00:00'}, {'dt': 1756004400, 'main': {'temp': 283.54, 'feels_like': 283.17, 'temp_min': 283.54, 'temp_max': 283.54, 'pressure': 1007, 'sea_level': 1007, 'grnd_level': 957, 'humidity': 97, 'temp_kf': 0}, 'weather': [{'id': 500, 'main': 'Rain', 'description': 'light rain', 'icon': '10n'}], 'clouds': {'all': 100}, 'wind': {'speed': 2.97, 'deg': 269, 'gust': 4}, 'visibility': 5569, 'pop': 1, 'rain': {'3h': 2.25}, 'sys': {'pod': 'n'}, 'dt_txt': '2025-08-24 03:00:00'}, {'dt': 1756015200, 'main': {'temp': 284.51, 'feels_like': 283.79, 'temp_min': 284.51, 'temp_max': 284.51, 'pressure': 1008, 'sea_level': 1008, 'grnd_level': 957, 'humidity': 80, 'temp_kf': 0}, 'weather': [{'id': 500, 'main': 'Rain', 'description': 'light rain', 'icon': '10d'}], 'clouds': {'all': 77}, 'wind': {'speed': 2.67, 'deg': 291, 'gust': 3.45}, 'visibility': 10000, 'pop': 1, 'rain': {'3h': 0.28}, 'sys': {'pod': 'd'}, 'dt_txt': '2025-08-24 06:00:00'}, {'dt': 1756026000, 'main': {'temp': 285.8, 'feels_like': 284.79, 'temp_min': 285.8, 'temp_max': 285.8, 'pressure': 1008, 'sea_level': 1008, 'grnd_level': 958, 'humidity': 64, 'temp_kf': 0}, 'weather': [{'id': 500, 'main': 'Rain', 'description': 'light rain', 'icon': '10d'}], 'clouds': {'all': 24}, 'wind': {'speed': 2.66, 'deg': 295, 'gust': 3.44}, 'visibility': 10000, 'pop': 0.2, 'rain': {'3h': 0.11}, 'sys': {'pod': 'd'}, 'dt_txt': '2025-08-24 09:00:00'}, {'dt': 1756036800, 'main': {'temp': 286.48, 'feels_like': 285.46, 'temp_min': 286.48, 'temp_max': 286.48, 'pressure': 1008, 'sea_level': 1008, 'grnd_level': 958, 'humidity': 61, 'temp_kf': 0}, 'weather': [{'id': 500, 'main': 'Rain', 'description': 'light rain', 'icon': '10d'}], 'clouds': {'all': 45}, 'wind': {'speed': 3.02, 'deg': 305, 'gust': 3.95}, 'visibility': 10000, 'pop': 0.2, 'rain': {'3h': 0.24}, 'sys': {'pod': 'd'}, 'dt_txt': '2025-08-24 12:00:00'}, {'dt': 1756047600, 'main': {'temp': 286.37, 'feels_like': 285.44, 'temp_min': 286.37, 'temp_max': 286.37, 'pressure': 1009, 'sea_level': 1009, 'grnd_level': 959, 'humidity': 65, 'temp_kf': 0}, 'weather': [{'id': 500, 'main': 'Rain', 'description': 'light rain', 'icon': '10d'}], 'clouds': {'all': 50}, 'wind': {'speed': 2.67, 'deg': 306, 'gust': 3.58}, 'visibility': 10000, 'pop': 0.5, 'rain': {'3h': 0.28}, 'sys': {'pod': 'd'}, 'dt_txt': '2025-08-24 15:00:00'}, {'dt': 1756058400, 'main': {'temp': 284.18, 'feels_like': 283.4, 'temp_min': 284.18, 'temp_max': 284.18, 'pressure': 1010, 'sea_level': 1010, 'grnd_level': 959, 'humidity': 79, 'temp_kf': 0}, 'weather': [{'id': 500, 'main': 'Rain', 'description': 'light rain', 'icon': '10d'}], 'clouds': {'all': 47}, 'wind': {'speed': 2.16, 'deg': 295, 'gust': 2.01}, 'visibility': 10000, 'pop': 0.21, 'rain': {'3h': 0.11}, 'sys': {'pod': 'd'}, 'dt_txt': '2025-08-24 18:00:00'}, {'dt': 1756069200, 'main': {'temp': 283.02, 'feels_like': 282.49, 'temp_min': 283.02, 'temp_max': 283.02, 'pressure': 1011, 'sea_level': 1011, 'grnd_level': 960, 'humidity': 86, 'temp_kf': 0}, 'weather': [{'id': 803, 'main': 'Clouds', 'description': 'broken clouds', 'icon': '04n'}], 'clouds': {'all': 84}, 'wind': {'speed': 1.66, 'deg': 286, 'gust': 1.94}, 'visibility': 10000, 'pop': 0, 'sys': {'pod': 'n'}, 'dt_txt': '2025-08-24 21:00:00'}, {'dt': 1756080000, 'main': {'temp': 282.89, 'feels_like': 282.62, 'temp_min': 282.89, 'temp_max': 282.89, 'pressure': 1011, 'sea_level': 1011, 'grnd_level': 960, 'humidity': 87, 'temp_kf': 0}, 'weather': [{'id': 804, 'main': 'Clouds', 'description': 'overcast clouds', 'icon': '04n'}], 'clouds': {'all': 92}, 'wind': {'speed': 1.39, 'deg': 282, 'gust': 1.91}, 'visibility': 10000, 'pop': 0, 'sys': {'pod': 'n'}, 'dt_txt': '2025-08-25 00:00:00'}, {'dt': 1756090800, 'main': {'temp': 282.42, 'feels_like': 282.42, 'temp_min': 282.42, 'temp_max': 282.42, 'pressure': 1011, 'sea_level': 1011, 'grnd_level': 960, 'humidity': 90, 'temp_kf': 0}, 'weather': [{'id': 500, 'main': 'Rain', 'description': 'light rain', 'icon': '10n'}], 'clouds': {'all': 100}, 'wind': {'speed': 1.29, 'deg': 289, 'gust': 1.53}, 'visibility': 10000, 'pop': 0.2, 'rain': {'3h': 0.18}, 'sys': {'pod': 'n'}, 'dt_txt': '2025-08-25 03:00:00'}, {'dt': 1756101600, 'main': {'temp': 283.39, 'feels_like': 282.69, 'temp_min': 283.39, 'temp_max': 283.39, 'pressure': 1011, 'sea_level': 1011, 'grnd_level': 960, 'humidity': 85, 'temp_kf': 0}, 'weather': [{'id': 500, 'main': 'Rain', 'description': 'light rain', 'icon': '10d'}], 'clouds': {'all': 100}, 'wind': {'speed': 1.1, 'deg': 292, 'gust': 1.46}, 'visibility': 10000, 'pop': 0.2, 'rain': {'3h': 0.2}, 'sys': {'pod': 'd'}, 'dt_txt': '2025-08-25 06:00:00'}, {'dt': 1756112400, 'main': {'temp': 285.78, 'feels_like': 284.93, 'temp_min': 285.78, 'temp_max': 285.78, 'pressure': 1011, 'sea_level': 1011, 'grnd_level': 960, 'humidity': 70, 'temp_kf': 0}, 'weather': [{'id': 500, 'main': 'Rain', 'description': 'light rain', 'icon': '10d'}], 'clouds': {'all': 71}, 'wind': {'speed': 1.39, 'deg': 299, 'gust': 1.8}, 'visibility': 10000, 'pop': 0.74, 'rain': {'3h': 0.32}, 'sys': {'pod': 'd'}, 'dt_txt': '2025-08-25 09:00:00'}, {'dt': 1756123200, 'main': {'temp': 287.79, 'feels_like': 286.82, 'temp_min': 287.79, 'temp_max': 287.79, 'pressure': 1010, 'sea_level': 1010, 'grnd_level': 960, 'humidity': 58, 'temp_kf': 0}, 'weather': [{'id': 500, 'main': 'Rain', 'description': 'light rain', 'icon': '10d'}], 'clouds': {'all': 60}, 'wind': {'speed': 2.04, 'deg': 286, 'gust': 2.62}, 'visibility': 10000, 'pop': 0.46, 'rain': {'3h': 0.24}, 'sys': {'pod': 'd'}, 'dt_txt': '2025-08-25 12:00:00'}, {'dt': 1756134000, 'main': {'temp': 287.33, 'feels_like': 286.47, 'temp_min': 287.33, 'temp_max': 287.33, 'pressure': 1011, 'sea_level': 1011, 'grnd_level': 960, 'humidity': 64, 'temp_kf': 0}, 'weather': [{'id': 804, 'main': 'Clouds', 'description': 'overcast clouds', 'icon': '04d'}], 'clouds': {'all': 91}, 'wind': {'speed': 3.07, 'deg': 268, 'gust': 3.1}, 'visibility': 10000, 'pop': 0, 'sys': {'pod': 'd'}, 'dt_txt': '2025-08-25 15:00:00'}, {'dt': 1756144800, 'main': {'temp': 285.06, 'feels_like': 284.32, 'temp_min': 285.06, 'temp_max': 285.06, 'pressure': 1011, 'sea_level': 1011, 'grnd_level': 961, 'humidity': 77, 'temp_kf': 0}, 'weather': [{'id': 500, 'main': 'Rain', 'description': 'light rain', 'icon': '10d'}], 'clouds': {'all': 74}, 'wind': {'speed': 2.12, 'deg': 254, 'gust': 2.11}, 'visibility': 10000, 'pop': 0.2, 'rain': {'3h': 0.1}, 'sys': {'pod': 'd'}, 'dt_txt': '2025-08-25 18:00:00'}, {'dt': 1756155600, 'main': {'temp': 281.68, 'feels_like': 281.06, 'temp_min': 281.68, 'temp_max': 281.68, 'pressure': 1012, 'sea_level': 1012, 'grnd_level': 962, 'humidity': 88, 'temp_kf': 0}, 'weather': [{'id': 800, 'main': 'Clear', 'description': 'clear sky', 'icon': '01n'}], 'clouds': {'all': 0}, 'wind': {'speed': 1.56, 'deg': 255, 'gust': 1.94}, 'visibility': 10000, 'pop': 0, 'sys': {'pod': 'n'}, 'dt_txt': '2025-08-25 21:00:00'}, {'dt': 1756166400, 'main': {'temp': 280.62, 'feels_like': 280.62, 'temp_min': 280.62, 'temp_max': 280.62, 'pressure': 1013, 'sea_level': 1013, 'grnd_level': 962, 'humidity': 92, 'temp_kf': 0}, 'weather': [{'id': 801, 'main': 'Clouds', 'description': 'few clouds', 'icon': '02n'}], 'clouds': {'all': 19}, 'wind': {'speed': 1.08, 'deg': 254, 'gust': 1.4}, 'visibility': 10000, 'pop': 0, 'sys': {'pod': 'n'}, 'dt_txt': '2025-08-26 00:00:00'}, {'dt': 1756177200, 'main': {'temp': 279.84, 'feels_like': 279.2, 'temp_min': 279.84, 'temp_max': 279.84, 'pressure': 1012, 'sea_level': 1012, 'grnd_level': 961, 'humidity': 93, 'temp_kf': 0}, 'weather': [{'id': 803, 'main': 'Clouds', 'description': 'broken clouds', 'icon': '04n'}], 'clouds': {'all': 77}, 'wind': {'speed': 1.36, 'deg': 263, 'gust': 1.52}, 'visibility': 10000, 'pop': 0, 'sys': {'pod': 'n'}, 'dt_txt': '2025-08-26 03:00:00'}, {'dt': 1756188000, 'main': {'temp': 282.92, 'feels_like': 282.55, 'temp_min': 282.92, 'temp_max': 282.92, 'pressure': 1011, 'sea_level': 1011, 'grnd_level': 961, 'humidity': 87, 'temp_kf': 0}, 'weather': [{'id': 803, 'main': 'Clouds', 'description': 'broken clouds', 'icon': '04d'}], 'clouds': {'all': 80}, 'wind': {'speed': 1.49, 'deg': 272, 'gust': 1.91}, 'visibility': 10000, 'pop': 0, 'sys': {'pod': 'd'}, 'dt_txt': '2025-08-26 06:00:00'}, {'dt': 1756198800, 'main': {'temp': 285.67, 'feels_like': 284.73, 'temp_min': 285.67, 'temp_max': 285.67, 'pressure': 1010, 'sea_level': 1010, 'grnd_level': 960, 'humidity': 67, 'temp_kf': 0}, 'weather': [{'id': 804, 'main': 'Clouds', 'description': 'overcast clouds', 'icon': '04d'}], 'clouds': {'all': 87}, 'wind': {'speed': 1.77, 'deg': 266, 'gust': 2.16}, 'visibility': 10000, 'pop': 0, 'sys': {'pod': 'd'}, 'dt_txt': '2025-08-26 09:00:00'}, {'dt': 1756209600, 'main': {'temp': 287.73, 'feels_like': 286.65, 'temp_min': 287.73, 'temp_max': 287.73, 'pressure': 1009, 'sea_level': 1009, 'grnd_level': 959, 'humidity': 54, 'temp_kf': 0}, 'weather': [{'id': 804, 'main': 'Clouds', 'description': 'overcast clouds', 'icon': '04d'}], 'clouds': {'all': 93}, 'wind': {'speed': 1.59, 'deg': 258, 'gust': 1.97}, 'visibility': 10000, 'pop': 0, 'sys': {'pod': 'd'}, 'dt_txt': '2025-08-26 12:00:00'}], 'city': {'id': 3145614, 'name': 'Mo i Rana', 'coord': {'lat': 66.3128, 'lon': 14.1428}, 'country': 'NO', 'population': 17853, 'timezone': 7200, 'sunrise': 1755745217, 'sunset': 1755803594}}\""
      ]
     },
     "execution_count": 21,
     "metadata": {},
     "output_type": "execute_result"
    }
   ],
   "source": [
    "# Inspect JSON file\n",
    "forecast.__str__()"
   ]
  },
  {
   "cell_type": "markdown",
   "metadata": {
    "slideshow": {
     "slide_type": "slide"
    }
   },
   "source": [
    "## Raw JSON\n",
    "- A simple, but not very efficient way of storing JSON data is to treat it as a text and save it directly to the database.  \n",
    "- More efficient, with regard to transfer, is to compress the JSON data to a blob first.\n",
    "    - Compression is automatic."
   ]
  },
  {
   "cell_type": "code",
   "execution_count": 22,
   "metadata": {
    "ExecuteTime": {
     "end_time": "2024-08-17T10:25:35.916537Z",
     "start_time": "2024-08-17T10:25:35.799572Z"
    },
    "slideshow": {
     "slide_type": "fragment"
    },
    "tags": []
   },
   "outputs": [
    {
     "data": {
      "text/plain": [
       "<cassandra.cluster.ResultSet at 0x1182cb4a0>"
      ]
     },
     "execution_count": 22,
     "metadata": {},
     "output_type": "execute_result"
    }
   ],
   "source": [
    "# Create a new table which treats the whole JSON as a blob, using the city id and the first dt as keys\n",
    "session.set_keyspace('my_first_keyspace')\n",
    "session.execute(\"DROP TABLE IF EXISTS my_first_keyspace.forecast_table;\")\n",
    "session.execute(\"CREATE TABLE IF NOT EXISTS forecast_table (city_id int, dt int, forecast blob, PRIMARY KEY(city_id, dt));\")"
   ]
  },
  {
   "cell_type": "markdown",
   "metadata": {
    "slideshow": {
     "slide_type": "slide"
    }
   },
   "source": [
    "### Insert the forecast data into the table as text blob"
   ]
  },
  {
   "cell_type": "code",
   "execution_count": 23,
   "metadata": {
    "ExecuteTime": {
     "end_time": "2024-08-17T10:25:35.935855Z",
     "start_time": "2024-08-17T10:25:35.917175Z"
    },
    "slideshow": {
     "slide_type": "fragment"
    },
    "tags": []
   },
   "outputs": [
    {
     "data": {
      "text/plain": [
       "<cassandra.cluster.ResultSet at 0x118063470>"
      ]
     },
     "execution_count": 23,
     "metadata": {},
     "output_type": "execute_result"
    }
   ],
   "source": [
    "session.execute(\"INSERT INTO forecast_table (city_id, dt, forecast) VALUES (%s, %s, textAsBlob(%s));\", (forecast['city']['id'], forecast['list'][0]['dt'], forecast.__str__()))"
   ]
  },
  {
   "cell_type": "code",
   "execution_count": 24,
   "metadata": {
    "ExecuteTime": {
     "end_time": "2024-08-17T10:25:35.946537Z",
     "start_time": "2024-08-17T10:25:35.938642Z"
    },
    "slideshow": {
     "slide_type": "slide"
    },
    "tags": []
   },
   "outputs": [
    {
     "name": "stdout",
     "output_type": "stream",
     "text": [
      "Row(city_id=3145614, dt=1755788400, forecast=b\"{'cod': '200', 'message': 0, 'cnt': 40, 'list': [{'dt': 1755788400, 'main': {'temp': 281.94, 'feels_like': 281.94, 'temp_min': 281.45, 'temp_max': 281.94, 'pressure': 1005, 'sea_level': 1005, 'grnd_level': 954, 'humidity': 91, 'temp_kf': 0.49}, 'weather': [{'id': 500, 'main': 'Rain', 'description': 'light rain', 'icon': '10d'}], 'clouds': {'all': 83}, 'wind': {'speed': 1.17, 'deg': 241, 'gust': 3.2}, 'visibility': 1142, 'pop': 1, 'rain': {'3h': 1.59}, 'sys': {'pod': 'd'}, 'dt_txt': '2025-08-21 15:00:00'}, {'dt': 1755799200, 'main': {'temp': 281.49, 'feels_like': 281.49, 'temp_min': 281.14, 'temp_max': 281.49, 'pressure': 1005, 'sea_level': 1005, 'grnd_level': 954, 'humidity': 91, 'temp_kf': 0.35}, 'weather': [{'id': 500, 'main': 'Rain', 'description': 'light rain', 'icon': '10d'}], 'clouds': {'all': 92}, 'wind': {'speed': 0.79, 'deg': 241, 'gust': 1.34}, 'visibility': 10000, 'pop': 1, 'rain': {'3h': 0.29}, 'sys': {'pod': 'd'}, 'dt_txt': '2025-08-21 18:00:00'}, {'dt': 1755810000, 'main': {'temp': 280.94, 'feels_like': 280.94, 'temp_min': 280.94, 'temp_max': 280.94, 'pressure': 1005, 'sea_level': 1005, 'grnd_level': 954, 'humidity': 90, 'temp_kf': 0}, 'weather': [{'id': 500, 'main': 'Rain', 'description': 'light rain', 'icon': '10n'}], 'clouds': {'all': 99}, 'wind': {'speed': 0.57, 'deg': 273, 'gust': 0.73}, 'visibility': 10000, 'pop': 0.69, 'rain': {'3h': 0.35}, 'sys': {'pod': 'n'}, 'dt_txt': '2025-08-21 21:00:00'}, {'dt': 1755820800, 'main': {'temp': 279.19, 'feels_like': 279.19, 'temp_min': 279.19, 'temp_max': 279.19, 'pressure': 1006, 'sea_level': 1006, 'grnd_level': 955, 'humidity': 90, 'temp_kf': 0}, 'weather': [{'id': 804, 'main': 'Clouds', 'description': 'overcast clouds', 'icon': '04n'}], 'clouds': {'all': 98}, 'wind': {'speed': 0.53, 'deg': 13, 'gust': 0.37}, 'visibility': 10000, 'pop': 0, 'sys': {'pod': 'n'}, 'dt_txt': '2025-08-22 00:00:00'}, {'dt': 1755831600, 'main': {'temp': 279.36, 'feels_like': 279.36, 'temp_min': 279.36, 'temp_max': 279.36, 'pressure': 1006, 'sea_level': 1006, 'grnd_level': 955, 'humidity': 90, 'temp_kf': 0}, 'weather': [{'id': 803, 'main': 'Clouds', 'description': 'broken clouds', 'icon': '04n'}], 'clouds': {'all': 61}, 'wind': {'speed': 1.07, 'deg': 344, 'gust': 1.17}, 'visibility': 10000, 'pop': 0, 'sys': {'pod': 'n'}, 'dt_txt': '2025-08-22 03:00:00'}, {'dt': 1755842400, 'main': {'temp': 280.74, 'feels_like': 280.74, 'temp_min': 280.74, 'temp_max': 280.74, 'pressure': 1006, 'sea_level': 1006, 'grnd_level': 955, 'humidity': 83, 'temp_kf': 0}, 'weather': [{'id': 802, 'main': 'Clouds', 'description': 'scattered clouds', 'icon': '03d'}], 'clouds': {'all': 37}, 'wind': {'speed': 0.65, 'deg': 23, 'gust': 0.63}, 'visibility': 10000, 'pop': 0, 'sys': {'pod': 'd'}, 'dt_txt': '2025-08-22 06:00:00'}, {'dt': 1755853200, 'main': {'temp': 283.65, 'feels_like': 282.48, 'temp_min': 283.65, 'temp_max': 283.65, 'pressure': 1006, 'sea_level': 1006, 'grnd_level': 956, 'humidity': 66, 'temp_kf': 0}, 'weather': [{'id': 802, 'main': 'Clouds', 'description': 'scattered clouds', 'icon': '03d'}], 'clouds': {'all': 25}, 'wind': {'speed': 1.65, 'deg': 292, 'gust': 1.48}, 'visibility': 10000, 'pop': 0, 'sys': {'pod': 'd'}, 'dt_txt': '2025-08-22 09:00:00'}, {'dt': 1755864000, 'main': {'temp': 285.03, 'feels_like': 283.79, 'temp_min': 285.03, 'temp_max': 285.03, 'pressure': 1006, 'sea_level': 1006, 'grnd_level': 956, 'humidity': 58, 'temp_kf': 0}, 'weather': [{'id': 802, 'main': 'Clouds', 'description': 'scattered clouds', 'icon': '03d'}], 'clouds': {'all': 31}, 'wind': {'speed': 2.19, 'deg': 304, 'gust': 2.02}, 'visibility': 10000, 'pop': 0, 'sys': {'pod': 'd'}, 'dt_txt': '2025-08-22 12:00:00'}, {'dt': 1755874800, 'main': {'temp': 284.94, 'feels_like': 283.85, 'temp_min': 284.94, 'temp_max': 284.94, 'pressure': 1007, 'sea_level': 1007, 'grnd_level': 957, 'humidity': 64, 'temp_kf': 0}, 'weather': [{'id': 804, 'main': 'Clouds', 'description': 'overcast clouds', 'icon': '04d'}], 'clouds': {'all': 95}, 'wind': {'speed': 2.49, 'deg': 263, 'gust': 2.75}, 'visibility': 10000, 'pop': 0, 'sys': {'pod': 'd'}, 'dt_txt': '2025-08-22 15:00:00'}, {'dt': 1755885600, 'main': {'temp': 283.31, 'feels_like': 282.42, 'temp_min': 283.31, 'temp_max': 283.31, 'pressure': 1007, 'sea_level': 1007, 'grnd_level': 957, 'humidity': 78, 'temp_kf': 0}, 'weather': [{'id': 804, 'main': 'Clouds', 'description': 'overcast clouds', 'icon': '04d'}], 'clouds': {'all': 98}, 'wind': {'speed': 2.51, 'deg': 269, 'gust': 2.66}, 'visibility': 10000, 'pop': 0, 'sys': {'pod': 'd'}, 'dt_txt': '2025-08-22 18:00:00'}, {'dt': 1755896400, 'main': {'temp': 281.74, 'feels_like': 280.97, 'temp_min': 281.74, 'temp_max': 281.74, 'pressure': 1008, 'sea_level': 1008, 'grnd_level': 958, 'humidity': 88, 'temp_kf': 0}, 'weather': [{'id': 804, 'main': 'Clouds', 'description': 'overcast clouds', 'icon': '04n'}], 'clouds': {'all': 100}, 'wind': {'speed': 1.71, 'deg': 244, 'gust': 2.25}, 'visibility': 10000, 'pop': 0, 'sys': {'pod': 'n'}, 'dt_txt': '2025-08-22 21:00:00'}, {'dt': 1755907200, 'main': {'temp': 282.06, 'feels_like': 281.61, 'temp_min': 282.06, 'temp_max': 282.06, 'pressure': 1008, 'sea_level': 1008, 'grnd_level': 957, 'humidity': 91, 'temp_kf': 0}, 'weather': [{'id': 500, 'main': 'Rain', 'description': 'light rain', 'icon': '10n'}], 'clouds': {'all': 100}, 'wind': {'speed': 1.45, 'deg': 221, 'gust': 2.18}, 'visibility': 10000, 'pop': 0.2, 'rain': {'3h': 0.14}, 'sys': {'pod': 'n'}, 'dt_txt': '2025-08-23 00:00:00'}, {'dt': 1755918000, 'main': {'temp': 282.21, 'feels_like': 281.8, 'temp_min': 282.21, 'temp_max': 282.21, 'pressure': 1007, 'sea_level': 1007, 'grnd_level': 956, 'humidity': 94, 'temp_kf': 0}, 'weather': [{'id': 500, 'main': 'Rain', 'description': 'light rain', 'icon': '10n'}], 'clouds': {'all': 100}, 'wind': {'speed': 1.43, 'deg': 212, 'gust': 1.97}, 'visibility': 10000, 'pop': 1, 'rain': {'3h': 0.56}, 'sys': {'pod': 'n'}, 'dt_txt': '2025-08-23 03:00:00'}, {'dt': 1755928800, 'main': {'temp': 283.21, 'feels_like': 282.83, 'temp_min': 283.21, 'temp_max': 283.21, 'pressure': 1007, 'sea_level': 1007, 'grnd_level': 956, 'humidity': 98, 'temp_kf': 0}, 'weather': [{'id': 500, 'main': 'Rain', 'description': 'light rain', 'icon': '10d'}], 'clouds': {'all': 100}, 'wind': {'speed': 1.89, 'deg': 234, 'gust': 2.63}, 'visibility': 1466, 'pop': 1, 'rain': {'3h': 0.89}, 'sys': {'pod': 'd'}, 'dt_txt': '2025-08-23 06:00:00'}, {'dt': 1755939600, 'main': {'temp': 284.3, 'feels_like': 283.9, 'temp_min': 284.3, 'temp_max': 284.3, 'pressure': 1007, 'sea_level': 1007, 'grnd_level': 957, 'humidity': 93, 'temp_kf': 0}, 'weather': [{'id': 500, 'main': 'Rain', 'description': 'light rain', 'icon': '10d'}], 'clouds': {'all': 100}, 'wind': {'speed': 4.08, 'deg': 253, 'gust': 6.06}, 'visibility': 10000, 'pop': 1, 'rain': {'3h': 0.78}, 'sys': {'pod': 'd'}, 'dt_txt': '2025-08-23 09:00:00'}, {'dt': 1755950400, 'main': {'temp': 284.82, 'feels_like': 284.24, 'temp_min': 284.82, 'temp_max': 284.82, 'pressure': 1008, 'sea_level': 1008, 'grnd_level': 957, 'humidity': 84, 'temp_kf': 0}, 'weather': [{'id': 500, 'main': 'Rain', 'description': 'light rain', 'icon': '10d'}], 'clouds': {'all': 100}, 'wind': {'speed': 4.2, 'deg': 262, 'gust': 5.16}, 'visibility': 10000, 'pop': 1, 'rain': {'3h': 0.29}, 'sys': {'pod': 'd'}, 'dt_txt': '2025-08-23 12:00:00'}, {'dt': 1755961200, 'main': {'temp': 283.74, 'feels_like': 283.28, 'temp_min': 283.74, 'temp_max': 283.74, 'pressure': 1008, 'sea_level': 1008, 'grnd_level': 957, 'humidity': 93, 'temp_kf': 0}, 'weather': [{'id': 500, 'main': 'Rain', 'description': 'light rain', 'icon': '10d'}], 'clouds': {'all': 100}, 'wind': {'speed': 2.69, 'deg': 238, 'gust': 5.27}, 'visibility': 10000, 'pop': 1, 'rain': {'3h': 0.93}, 'sys': {'pod': 'd'}, 'dt_txt': '2025-08-23 15:00:00'}, {'dt': 1755972000, 'main': {'temp': 284.16, 'feels_like': 283.88, 'temp_min': 284.16, 'temp_max': 284.16, 'pressure': 1007, 'sea_level': 1007, 'grnd_level': 957, 'humidity': 98, 'temp_kf': 0}, 'weather': [{'id': 500, 'main': 'Rain', 'description': 'light rain', 'icon': '10d'}], 'clouds': {'all': 100}, 'wind': {'speed': 2.98, 'deg': 240, 'gust': 6.58}, 'visibility': 2671, 'pop': 1, 'rain': {'3h': 1.86}, 'sys': {'pod': 'd'}, 'dt_txt': '2025-08-23 18:00:00'}, {'dt': 1755982800, 'main': {'temp': 283.89, 'feels_like': 283.58, 'temp_min': 283.89, 'temp_max': 283.89, 'pressure': 1007, 'sea_level': 1007, 'grnd_level': 957, 'humidity': 98, 'temp_kf': 0}, 'weather': [{'id': 500, 'main': 'Rain', 'description': 'light rain', 'icon': '10n'}], 'clouds': {'all': 100}, 'wind': {'speed': 2.65, 'deg': 244, 'gust': 3.61}, 'visibility': 5115, 'pop': 1, 'rain': {'3h': 1.54}, 'sys': {'pod': 'n'}, 'dt_txt': '2025-08-23 21:00:00'}, {'dt': 1755993600, 'main': {'temp': 283.79, 'feels_like': 283.44, 'temp_min': 283.79, 'temp_max': 283.79, 'pressure': 1007, 'sea_level': 1007, 'grnd_level': 957, 'humidity': 97, 'temp_kf': 0}, 'weather': [{'id': 500, 'main': 'Rain', 'description': 'light rain', 'icon': '10n'}], 'clouds': {'all': 100}, 'wind': {'speed': 3.59, 'deg': 252, 'gust': 5.08}, 'visibility': 4644, 'pop': 1, 'rain': {'3h': 1.92}, 'sys': {'pod': 'n'}, 'dt_txt': '2025-08-24 00:00:00'}, {'dt': 1756004400, 'main': {'temp': 283.54, 'feels_like': 283.17, 'temp_min': 283.54, 'temp_max': 283.54, 'pressure': 1007, 'sea_level': 1007, 'grnd_level': 957, 'humidity': 97, 'temp_kf': 0}, 'weather': [{'id': 500, 'main': 'Rain', 'description': 'light rain', 'icon': '10n'}], 'clouds': {'all': 100}, 'wind': {'speed': 2.97, 'deg': 269, 'gust': 4}, 'visibility': 5569, 'pop': 1, 'rain': {'3h': 2.25}, 'sys': {'pod': 'n'}, 'dt_txt': '2025-08-24 03:00:00'}, {'dt': 1756015200, 'main': {'temp': 284.51, 'feels_like': 283.79, 'temp_min': 284.51, 'temp_max': 284.51, 'pressure': 1008, 'sea_level': 1008, 'grnd_level': 957, 'humidity': 80, 'temp_kf': 0}, 'weather': [{'id': 500, 'main': 'Rain', 'description': 'light rain', 'icon': '10d'}], 'clouds': {'all': 77}, 'wind': {'speed': 2.67, 'deg': 291, 'gust': 3.45}, 'visibility': 10000, 'pop': 1, 'rain': {'3h': 0.28}, 'sys': {'pod': 'd'}, 'dt_txt': '2025-08-24 06:00:00'}, {'dt': 1756026000, 'main': {'temp': 285.8, 'feels_like': 284.79, 'temp_min': 285.8, 'temp_max': 285.8, 'pressure': 1008, 'sea_level': 1008, 'grnd_level': 958, 'humidity': 64, 'temp_kf': 0}, 'weather': [{'id': 500, 'main': 'Rain', 'description': 'light rain', 'icon': '10d'}], 'clouds': {'all': 24}, 'wind': {'speed': 2.66, 'deg': 295, 'gust': 3.44}, 'visibility': 10000, 'pop': 0.2, 'rain': {'3h': 0.11}, 'sys': {'pod': 'd'}, 'dt_txt': '2025-08-24 09:00:00'}, {'dt': 1756036800, 'main': {'temp': 286.48, 'feels_like': 285.46, 'temp_min': 286.48, 'temp_max': 286.48, 'pressure': 1008, 'sea_level': 1008, 'grnd_level': 958, 'humidity': 61, 'temp_kf': 0}, 'weather': [{'id': 500, 'main': 'Rain', 'description': 'light rain', 'icon': '10d'}], 'clouds': {'all': 45}, 'wind': {'speed': 3.02, 'deg': 305, 'gust': 3.95}, 'visibility': 10000, 'pop': 0.2, 'rain': {'3h': 0.24}, 'sys': {'pod': 'd'}, 'dt_txt': '2025-08-24 12:00:00'}, {'dt': 1756047600, 'main': {'temp': 286.37, 'feels_like': 285.44, 'temp_min': 286.37, 'temp_max': 286.37, 'pressure': 1009, 'sea_level': 1009, 'grnd_level': 959, 'humidity': 65, 'temp_kf': 0}, 'weather': [{'id': 500, 'main': 'Rain', 'description': 'light rain', 'icon': '10d'}], 'clouds': {'all': 50}, 'wind': {'speed': 2.67, 'deg': 306, 'gust': 3.58}, 'visibility': 10000, 'pop': 0.5, 'rain': {'3h': 0.28}, 'sys': {'pod': 'd'}, 'dt_txt': '2025-08-24 15:00:00'}, {'dt': 1756058400, 'main': {'temp': 284.18, 'feels_like': 283.4, 'temp_min': 284.18, 'temp_max': 284.18, 'pressure': 1010, 'sea_level': 1010, 'grnd_level': 959, 'humidity': 79, 'temp_kf': 0}, 'weather': [{'id': 500, 'main': 'Rain', 'description': 'light rain', 'icon': '10d'}], 'clouds': {'all': 47}, 'wind': {'speed': 2.16, 'deg': 295, 'gust': 2.01}, 'visibility': 10000, 'pop': 0.21, 'rain': {'3h': 0.11}, 'sys': {'pod': 'd'}, 'dt_txt': '2025-08-24 18:00:00'}, {'dt': 1756069200, 'main': {'temp': 283.02, 'feels_like': 282.49, 'temp_min': 283.02, 'temp_max': 283.02, 'pressure': 1011, 'sea_level': 1011, 'grnd_level': 960, 'humidity': 86, 'temp_kf': 0}, 'weather': [{'id': 803, 'main': 'Clouds', 'description': 'broken clouds', 'icon': '04n'}], 'clouds': {'all': 84}, 'wind': {'speed': 1.66, 'deg': 286, 'gust': 1.94}, 'visibility': 10000, 'pop': 0, 'sys': {'pod': 'n'}, 'dt_txt': '2025-08-24 21:00:00'}, {'dt': 1756080000, 'main': {'temp': 282.89, 'feels_like': 282.62, 'temp_min': 282.89, 'temp_max': 282.89, 'pressure': 1011, 'sea_level': 1011, 'grnd_level': 960, 'humidity': 87, 'temp_kf': 0}, 'weather': [{'id': 804, 'main': 'Clouds', 'description': 'overcast clouds', 'icon': '04n'}], 'clouds': {'all': 92}, 'wind': {'speed': 1.39, 'deg': 282, 'gust': 1.91}, 'visibility': 10000, 'pop': 0, 'sys': {'pod': 'n'}, 'dt_txt': '2025-08-25 00:00:00'}, {'dt': 1756090800, 'main': {'temp': 282.42, 'feels_like': 282.42, 'temp_min': 282.42, 'temp_max': 282.42, 'pressure': 1011, 'sea_level': 1011, 'grnd_level': 960, 'humidity': 90, 'temp_kf': 0}, 'weather': [{'id': 500, 'main': 'Rain', 'description': 'light rain', 'icon': '10n'}], 'clouds': {'all': 100}, 'wind': {'speed': 1.29, 'deg': 289, 'gust': 1.53}, 'visibility': 10000, 'pop': 0.2, 'rain': {'3h': 0.18}, 'sys': {'pod': 'n'}, 'dt_txt': '2025-08-25 03:00:00'}, {'dt': 1756101600, 'main': {'temp': 283.39, 'feels_like': 282.69, 'temp_min': 283.39, 'temp_max': 283.39, 'pressure': 1011, 'sea_level': 1011, 'grnd_level': 960, 'humidity': 85, 'temp_kf': 0}, 'weather': [{'id': 500, 'main': 'Rain', 'description': 'light rain', 'icon': '10d'}], 'clouds': {'all': 100}, 'wind': {'speed': 1.1, 'deg': 292, 'gust': 1.46}, 'visibility': 10000, 'pop': 0.2, 'rain': {'3h': 0.2}, 'sys': {'pod': 'd'}, 'dt_txt': '2025-08-25 06:00:00'}, {'dt': 1756112400, 'main': {'temp': 285.78, 'feels_like': 284.93, 'temp_min': 285.78, 'temp_max': 285.78, 'pressure': 1011, 'sea_level': 1011, 'grnd_level': 960, 'humidity': 70, 'temp_kf': 0}, 'weather': [{'id': 500, 'main': 'Rain', 'description': 'light rain', 'icon': '10d'}], 'clouds': {'all': 71}, 'wind': {'speed': 1.39, 'deg': 299, 'gust': 1.8}, 'visibility': 10000, 'pop': 0.74, 'rain': {'3h': 0.32}, 'sys': {'pod': 'd'}, 'dt_txt': '2025-08-25 09:00:00'}, {'dt': 1756123200, 'main': {'temp': 287.79, 'feels_like': 286.82, 'temp_min': 287.79, 'temp_max': 287.79, 'pressure': 1010, 'sea_level': 1010, 'grnd_level': 960, 'humidity': 58, 'temp_kf': 0}, 'weather': [{'id': 500, 'main': 'Rain', 'description': 'light rain', 'icon': '10d'}], 'clouds': {'all': 60}, 'wind': {'speed': 2.04, 'deg': 286, 'gust': 2.62}, 'visibility': 10000, 'pop': 0.46, 'rain': {'3h': 0.24}, 'sys': {'pod': 'd'}, 'dt_txt': '2025-08-25 12:00:00'}, {'dt': 1756134000, 'main': {'temp': 287.33, 'feels_like': 286.47, 'temp_min': 287.33, 'temp_max': 287.33, 'pressure': 1011, 'sea_level': 1011, 'grnd_level': 960, 'humidity': 64, 'temp_kf': 0}, 'weather': [{'id': 804, 'main': 'Clouds', 'description': 'overcast clouds', 'icon': '04d'}], 'clouds': {'all': 91}, 'wind': {'speed': 3.07, 'deg': 268, 'gust': 3.1}, 'visibility': 10000, 'pop': 0, 'sys': {'pod': 'd'}, 'dt_txt': '2025-08-25 15:00:00'}, {'dt': 1756144800, 'main': {'temp': 285.06, 'feels_like': 284.32, 'temp_min': 285.06, 'temp_max': 285.06, 'pressure': 1011, 'sea_level': 1011, 'grnd_level': 961, 'humidity': 77, 'temp_kf': 0}, 'weather': [{'id': 500, 'main': 'Rain', 'description': 'light rain', 'icon': '10d'}], 'clouds': {'all': 74}, 'wind': {'speed': 2.12, 'deg': 254, 'gust': 2.11}, 'visibility': 10000, 'pop': 0.2, 'rain': {'3h': 0.1}, 'sys': {'pod': 'd'}, 'dt_txt': '2025-08-25 18:00:00'}, {'dt': 1756155600, 'main': {'temp': 281.68, 'feels_like': 281.06, 'temp_min': 281.68, 'temp_max': 281.68, 'pressure': 1012, 'sea_level': 1012, 'grnd_level': 962, 'humidity': 88, 'temp_kf': 0}, 'weather': [{'id': 800, 'main': 'Clear', 'description': 'clear sky', 'icon': '01n'}], 'clouds': {'all': 0}, 'wind': {'speed': 1.56, 'deg': 255, 'gust': 1.94}, 'visibility': 10000, 'pop': 0, 'sys': {'pod': 'n'}, 'dt_txt': '2025-08-25 21:00:00'}, {'dt': 1756166400, 'main': {'temp': 280.62, 'feels_like': 280.62, 'temp_min': 280.62, 'temp_max': 280.62, 'pressure': 1013, 'sea_level': 1013, 'grnd_level': 962, 'humidity': 92, 'temp_kf': 0}, 'weather': [{'id': 801, 'main': 'Clouds', 'description': 'few clouds', 'icon': '02n'}], 'clouds': {'all': 19}, 'wind': {'speed': 1.08, 'deg': 254, 'gust': 1.4}, 'visibility': 10000, 'pop': 0, 'sys': {'pod': 'n'}, 'dt_txt': '2025-08-26 00:00:00'}, {'dt': 1756177200, 'main': {'temp': 279.84, 'feels_like': 279.2, 'temp_min': 279.84, 'temp_max': 279.84, 'pressure': 1012, 'sea_level': 1012, 'grnd_level': 961, 'humidity': 93, 'temp_kf': 0}, 'weather': [{'id': 803, 'main': 'Clouds', 'description': 'broken clouds', 'icon': '04n'}], 'clouds': {'all': 77}, 'wind': {'speed': 1.36, 'deg': 263, 'gust': 1.52}, 'visibility': 10000, 'pop': 0, 'sys': {'pod': 'n'}, 'dt_txt': '2025-08-26 03:00:00'}, {'dt': 1756188000, 'main': {'temp': 282.92, 'feels_like': 282.55, 'temp_min': 282.92, 'temp_max': 282.92, 'pressure': 1011, 'sea_level': 1011, 'grnd_level': 961, 'humidity': 87, 'temp_kf': 0}, 'weather': [{'id': 803, 'main': 'Clouds', 'description': 'broken clouds', 'icon': '04d'}], 'clouds': {'all': 80}, 'wind': {'speed': 1.49, 'deg': 272, 'gust': 1.91}, 'visibility': 10000, 'pop': 0, 'sys': {'pod': 'd'}, 'dt_txt': '2025-08-26 06:00:00'}, {'dt': 1756198800, 'main': {'temp': 285.67, 'feels_like': 284.73, 'temp_min': 285.67, 'temp_max': 285.67, 'pressure': 1010, 'sea_level': 1010, 'grnd_level': 960, 'humidity': 67, 'temp_kf': 0}, 'weather': [{'id': 804, 'main': 'Clouds', 'description': 'overcast clouds', 'icon': '04d'}], 'clouds': {'all': 87}, 'wind': {'speed': 1.77, 'deg': 266, 'gust': 2.16}, 'visibility': 10000, 'pop': 0, 'sys': {'pod': 'd'}, 'dt_txt': '2025-08-26 09:00:00'}, {'dt': 1756209600, 'main': {'temp': 287.73, 'feels_like': 286.65, 'temp_min': 287.73, 'temp_max': 287.73, 'pressure': 1009, 'sea_level': 1009, 'grnd_level': 959, 'humidity': 54, 'temp_kf': 0}, 'weather': [{'id': 804, 'main': 'Clouds', 'description': 'overcast clouds', 'icon': '04d'}], 'clouds': {'all': 93}, 'wind': {'speed': 1.59, 'deg': 258, 'gust': 1.97}, 'visibility': 10000, 'pop': 0, 'sys': {'pod': 'd'}, 'dt_txt': '2025-08-26 12:00:00'}], 'city': {'id': 3145614, 'name': 'Mo i Rana', 'coord': {'lat': 66.3128, 'lon': 14.1428}, 'country': 'NO', 'population': 17853, 'timezone': 7200, 'sunrise': 1755745217, 'sunset': 1755803594}}\")\n"
     ]
    }
   ],
   "source": [
    "# Query the data\n",
    "forecast_rows = session.execute(\"SELECT * FROM forecast_table;\")\n",
    "print(forecast_rows.one()) # <- only one row"
   ]
  },
  {
   "cell_type": "markdown",
   "metadata": {
    "slideshow": {
     "slide_type": "slide"
    }
   },
   "source": [
    "```{seealso} \n",
    ":class: tip\n",
    "\n",
    "## Resources\n",
    "- [Cassandra webpage](https://cassandra.apache.org/)\n",
    "- [Cassandra Docker file](https://hub.docker.com/_/cassandra)\n",
    "- [UUID functions](https://docs.datastax.com/en/cql-oss/3.3/cql/cql_reference/timeuuid_functions_r.html)\n",
    "- [YouTube: Cassandra in 100 seconds](https://youtu.be/ziq7FUKpCS8?si=WQUdkHFvaBmT0DBo) (2m:26s)\n",
    "- [YouTube: How to use Apache Cassandra in Python](https://youtu.be/qMauZqJH3ZM?si=yKGZ-5cld2BK396Y) (14m:50s)\n",
    "- [YouTube: Cassandra Database Crash Course](https://youtu.be/KZsVSfQVU4I?si=FBCi8qOfCirfVmZk) (19m:47s)\n",
    "```"
   ]
  }
 ],
 "metadata": {
  "celltoolbar": "Slideshow",
  "kernelspec": {
   "display_name": "ind320_25",
   "language": "python",
   "name": "python3"
  },
  "language_info": {
   "codemirror_mode": {
    "name": "ipython",
    "version": 3
   },
   "file_extension": ".py",
   "mimetype": "text/x-python",
   "name": "python",
   "nbconvert_exporter": "python",
   "pygments_lexer": "ipython3",
   "version": "3.12.10"
  }
 },
 "nbformat": 4,
 "nbformat_minor": 4
}