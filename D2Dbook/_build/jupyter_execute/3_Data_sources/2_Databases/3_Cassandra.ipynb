{
 "cells": [
  {
   "cell_type": "markdown",
   "metadata": {
    "slideshow": {
     "slide_type": "slide"
    }
   },
   "source": [
    "# Cassandra\n",
    "- A production grade NoSQL database.\n",
    "- Can be distributed across servers, nodes, etc.\n",
    "- Replication of database is supported for high degree of redundancy and speed.\n",
    "- Uses CQL, a subset of SQL for querying.\n",
    "- Works seamlesly together with Spark and its corresponding distributed structure.\n",
    "- Installation of Cassandra is explained in the [Installation chapter](../../7_Appendix/Installation.ipynb)."
   ]
  },
  {
   "cell_type": "markdown",
   "metadata": {
    "slideshow": {
     "slide_type": "slide"
    }
   },
   "source": [
    "## Spinning up a local Cassandra instance\n",
    "In a terminal, first time:  \n",
    "```docker run --name my_cassandra -p 9042:9042 cassandra:latest```  \n",
    "... and later:  \n",
    "```docker start my_cassandra```  \n",
    "  \n",
    ".. or in Docker Desktop:\n",
    "- Run the cassandra docker image with optional settings, opening 9042 port and setting a name.\n",
    "- Later, simply run the container with the name you chose."
   ]
  },
  {
   "cell_type": "markdown",
   "metadata": {
    "slideshow": {
     "slide_type": "slide"
    }
   },
   "source": [
    "<img src=\"https://github.com/khliland/IND320/blob/main/D2Dbook/images/Docker_images.png?raw=TRUE\" width=\"600px\">  "
   ]
  },
  {
   "cell_type": "markdown",
   "metadata": {
    "slideshow": {
     "slide_type": "slide"
    }
   },
   "source": [
    "\n",
    "<img src=\"https://github.com/khliland/IND320/blob/main/D2Dbook/images/Docker_containers.png?raw=TRUE\" width=\"800px\">  "
   ]
  },
  {
   "cell_type": "markdown",
   "metadata": {
    "slideshow": {
     "slide_type": "slide"
    }
   },
   "source": [
    "### Connect to the Cassandra cluster from Python."
   ]
  },
  {
   "cell_type": "code",
   "execution_count": 1,
   "metadata": {
    "ExecuteTime": {
     "end_time": "2024-08-17T10:25:34.787878Z",
     "start_time": "2024-08-17T10:25:34.389367Z"
    },
    "slideshow": {
     "slide_type": "fragment"
    },
    "tags": []
   },
   "outputs": [],
   "source": [
    "# Connecting to Cassandra\n",
    "from cassandra.cluster import Cluster\n",
    "cluster = Cluster(['localhost'], port=9042)\n",
    "session = cluster.connect()"
   ]
  },
  {
   "cell_type": "markdown",
   "metadata": {
    "slideshow": {
     "slide_type": "slide"
    }
   },
   "source": [
    "### Keyspace\n",
    "- In Cassandra database tables are stored in keyspaces (basically a distributed database).\n",
    "- These have parameters controlling their distribution on nodes/servers and redundancy.\n",
    "- We will use the simplest form locally."
   ]
  },
  {
   "cell_type": "code",
   "execution_count": 2,
   "metadata": {
    "ExecuteTime": {
     "end_time": "2024-08-17T10:25:34.798504Z",
     "start_time": "2024-08-17T10:25:34.789786Z"
    },
    "slideshow": {
     "slide_type": "fragment"
    },
    "tags": []
   },
   "outputs": [
    {
     "data": {
      "text/plain": [
       "<cassandra.cluster.ResultSet at 0x107828a40>"
      ]
     },
     "execution_count": 2,
     "metadata": {},
     "output_type": "execute_result"
    }
   ],
   "source": [
    "# Set up new keyspace (first time only)\n",
    "#                                              name of keyspace                        replication strategy           replication factor\n",
    "session.execute(\"CREATE KEYSPACE IF NOT EXISTS my_first_keyspace WITH REPLICATION = { 'class' : 'SimpleStrategy', 'replication_factor' : 1 };\")"
   ]
  },
  {
   "cell_type": "markdown",
   "metadata": {
    "slideshow": {
     "slide_type": "slide"
    }
   },
   "source": [
    "### Create a table\n",
    "- IF NOT EXISTS makes sure we do not overwrite existing tables"
   ]
  },
  {
   "cell_type": "code",
   "execution_count": 3,
   "metadata": {
    "ExecuteTime": {
     "end_time": "2024-08-17T10:25:35.347394Z",
     "start_time": "2024-08-17T10:25:34.800008Z"
    },
    "slideshow": {
     "slide_type": "fragment"
    },
    "tags": []
   },
   "outputs": [
    {
     "data": {
      "text/plain": [
       "<cassandra.cluster.ResultSet at 0x1064aa7e0>"
      ]
     },
     "execution_count": 3,
     "metadata": {},
     "output_type": "execute_result"
    }
   ],
   "source": [
    "# Create a new table (first time only)\n",
    "session.set_keyspace('my_first_keyspace')\n",
    "session.execute(\"DROP TABLE IF EXISTS my_first_keyspace.my_first_table;\") # Starting from scratch every time\n",
    "session.execute(\"CREATE TABLE IF NOT EXISTS my_first_table (ind int PRIMARY KEY, company text, model text);\")"
   ]
  },
  {
   "cell_type": "markdown",
   "metadata": {
    "slideshow": {
     "slide_type": "slide"
    }
   },
   "source": [
    "### Inserting and reading data"
   ]
  },
  {
   "cell_type": "code",
   "execution_count": 4,
   "metadata": {
    "ExecuteTime": {
     "end_time": "2024-08-17T10:25:35.366363Z",
     "start_time": "2024-08-17T10:25:35.350453Z"
    },
    "slideshow": {
     "slide_type": "fragment"
    },
    "tags": []
   },
   "outputs": [
    {
     "data": {
      "text/plain": [
       "<cassandra.cluster.ResultSet at 0x1064a89e0>"
      ]
     },
     "execution_count": 4,
     "metadata": {},
     "output_type": "execute_result"
    }
   ],
   "source": [
    "# Insert some data (ind is the primary key, must be unique)\n",
    "session.execute(\"INSERT INTO my_first_table (ind, company, model) VALUES (1, 'Tesla', 'Model S');\")\n",
    "session.execute(\"INSERT INTO my_first_table (ind, company, model) VALUES (2, 'Tesla', 'Model 3');\")\n",
    "session.execute(\"INSERT INTO my_first_table (ind, company, model) VALUES (3, 'Polestar', '3');\")"
   ]
  },
  {
   "cell_type": "code",
   "execution_count": 5,
   "metadata": {},
   "outputs": [
    {
     "name": "stdout",
     "output_type": "stream",
     "text": [
      "Row(ind=1, company='Tesla', model='Model S')\n",
      "Row(ind=2, company='Tesla', model='Model 3')\n",
      "Row(ind=3, company='Polestar', model='3')\n"
     ]
    }
   ],
   "source": [
    "# Query the data\n",
    "rows = session.execute(\"SELECT * FROM my_first_table;\")\n",
    "for i in rows:\n",
    "    print(i)"
   ]
  },
  {
   "cell_type": "markdown",
   "metadata": {
    "slideshow": {
     "slide_type": "slide"
    },
    "tags": []
   },
   "source": [
    "### Case sensitivity\n",
    "- Cassandra is by default case insensitive in column names.\n",
    "- To use column names with capital letters, use double quotation marks both when creating tables and when inserting data.\n",
    "- The effect of insensitivity may be surprising.\n",
    "    - Look carefully at the use of quotation marks and error message below."
   ]
  },
  {
   "cell_type": "code",
   "execution_count": 6,
   "metadata": {
    "slideshow": {
     "slide_type": "slide"
    },
    "tags": []
   },
   "outputs": [
    {
     "data": {
      "text/plain": [
       "<cassandra.cluster.ResultSet at 0x1100211f0>"
      ]
     },
     "execution_count": 6,
     "metadata": {},
     "output_type": "execute_result"
    }
   ],
   "source": [
    "session.set_keyspace('my_first_keyspace')\n",
    "session.execute(\"DROP TABLE IF EXISTS my_first_keyspace.case_insensitive;\") # Starting from scratch every time\n",
    "session.execute(\"CREATE TABLE IF NOT EXISTS case_insensitive (Capital int PRIMARY KEY, Letters text, Everywhere text);\")\n",
    "session.execute(\"DROP TABLE IF EXISTS my_first_keyspace.case_sensitive;\") # Starting from scratch every time\n",
    "session.execute(\"CREATE TABLE IF NOT EXISTS case_sensitive (\\\"Capital\\\" int PRIMARY KEY, \\\"Letters\\\" text, \\\"Everywhere\\\" text);\")"
   ]
  },
  {
   "cell_type": "code",
   "execution_count": 7,
   "metadata": {
    "slideshow": {
     "slide_type": "fragment"
    },
    "tags": []
   },
   "outputs": [
    {
     "data": {
      "text/plain": [
       "<cassandra.cluster.ResultSet at 0x106128410>"
      ]
     },
     "execution_count": 7,
     "metadata": {},
     "output_type": "execute_result"
    }
   ],
   "source": [
    "session.execute(\"INSERT INTO case_insensitive (Capital, Letters, Everywhere) VALUES (1, 'Tesla', 'Model S');\")"
   ]
  },
  {
   "cell_type": "code",
   "execution_count": 8,
   "metadata": {
    "slideshow": {
     "slide_type": "fragment"
    },
    "tags": [
     "raises-exception"
    ]
   },
   "outputs": [
    {
     "ename": "InvalidRequest",
     "evalue": "Error from server: code=2200 [Invalid query] message=\"Undefined column name capital in table my_first_keyspace.case_sensitive\"",
     "output_type": "error",
     "traceback": [
      "\u001b[0;31m---------------------------------------------------------------------------\u001b[0m",
      "\u001b[0;31mInvalidRequest\u001b[0m                            Traceback (most recent call last)",
      "Cell \u001b[0;32mIn[8], line 1\u001b[0m\n\u001b[0;32m----> 1\u001b[0m \u001b[43msession\u001b[49m\u001b[38;5;241;43m.\u001b[39;49m\u001b[43mexecute\u001b[49m\u001b[43m(\u001b[49m\u001b[38;5;124;43m\"\u001b[39;49m\u001b[38;5;124;43mINSERT INTO case_sensitive (Capital, Letters, Everywhere) VALUES (1, \u001b[39;49m\u001b[38;5;124;43m'\u001b[39;49m\u001b[38;5;124;43mTesla\u001b[39;49m\u001b[38;5;124;43m'\u001b[39;49m\u001b[38;5;124;43m, \u001b[39;49m\u001b[38;5;124;43m'\u001b[39;49m\u001b[38;5;124;43mModel S\u001b[39;49m\u001b[38;5;124;43m'\u001b[39;49m\u001b[38;5;124;43m);\u001b[39;49m\u001b[38;5;124;43m\"\u001b[39;49m\u001b[43m)\u001b[49m\n",
      "File \u001b[0;32m~/miniforge3/envs/IND320_2024/lib/python3.12/site-packages/cassandra/cluster.py:2677\u001b[0m, in \u001b[0;36mcassandra.cluster.Session.execute\u001b[0;34m()\u001b[0m\n",
      "File \u001b[0;32m~/miniforge3/envs/IND320_2024/lib/python3.12/site-packages/cassandra/cluster.py:4956\u001b[0m, in \u001b[0;36mcassandra.cluster.ResponseFuture.result\u001b[0;34m()\u001b[0m\n",
      "\u001b[0;31mInvalidRequest\u001b[0m: Error from server: code=2200 [Invalid query] message=\"Undefined column name capital in table my_first_keyspace.case_sensitive\""
     ]
    }
   ],
   "source": [
    "session.execute(\"INSERT INTO case_sensitive (Capital, Letters, Everywhere) VALUES (1, 'Tesla', 'Model S');\")"
   ]
  },
  {
   "cell_type": "code",
   "execution_count": 9,
   "metadata": {
    "slideshow": {
     "slide_type": "fragment"
    },
    "tags": []
   },
   "outputs": [
    {
     "data": {
      "text/plain": [
       "<cassandra.cluster.ResultSet at 0x10668c620>"
      ]
     },
     "execution_count": 9,
     "metadata": {},
     "output_type": "execute_result"
    }
   ],
   "source": [
    "session.execute(\"INSERT INTO case_sensitive (\\\"Capital\\\", \\\"Letters\\\", \\\"Everywhere\\\") VALUES (1, 'Tesla', 'Model S');\")"
   ]
  },
  {
   "cell_type": "code",
   "execution_count": 10,
   "metadata": {
    "slideshow": {
     "slide_type": "slide"
    },
    "tags": []
   },
   "outputs": [
    {
     "name": "stdout",
     "output_type": "stream",
     "text": [
      "Row(capital=1, everywhere='Model S', letters='Tesla')\n",
      "Row(Capital=1, Everywhere='Model S', Letters='Tesla')\n"
     ]
    }
   ],
   "source": [
    "# Query the data\n",
    "rows = session.execute(\"SELECT * FROM case_insensitive;\")\n",
    "for i in rows:\n",
    "    print(i)\n",
    "rows = session.execute(\"SELECT * FROM case_sensitive;\")\n",
    "for i in rows:\n",
    "    print(i)"
   ]
  },
  {
   "cell_type": "markdown",
   "metadata": {
    "slideshow": {
     "slide_type": "slide"
    }
   },
   "source": [
    "### Asyncronous writing\n",
    "- If your application is very data intensive, waiting for a response is not productive.\n",
    "- Writing asyncronously sends the data but does not pause for reply."
   ]
  },
  {
   "cell_type": "code",
   "execution_count": 11,
   "metadata": {
    "ExecuteTime": {
     "end_time": "2024-08-17T10:25:35.371390Z",
     "start_time": "2024-08-17T10:25:35.367159Z"
    },
    "slideshow": {
     "slide_type": "fragment"
    },
    "tags": []
   },
   "outputs": [
    {
     "data": {
      "text/plain": [
       "<ResponseFuture: query='<SimpleStatement query=\"INSERT INTO my_first_table (ind, company, model) VALUES (4, 'Volkswagen', 'ID.4');\", consistency=Not Set>' request_id=63 result=(no result yet) exception=None coordinator_host=None>"
      ]
     },
     "execution_count": 11,
     "metadata": {},
     "output_type": "execute_result"
    }
   ],
   "source": [
    "session.execute_async(\"INSERT INTO my_first_table (ind, company, model) VALUES (4, 'Volkswagen', 'ID.4');\")"
   ]
  },
  {
   "cell_type": "code",
   "execution_count": 12,
   "metadata": {
    "ExecuteTime": {
     "end_time": "2024-08-17T10:25:35.384736Z",
     "start_time": "2024-08-17T10:25:35.372551Z"
    },
    "slideshow": {
     "slide_type": "slide"
    },
    "tags": []
   },
   "outputs": [
    {
     "name": "stdout",
     "output_type": "stream",
     "text": [
      "Row(ind=1, company='Tesla', model='Model S')\n",
      "Row(ind=2, company='Tesla', model='Model 3')\n",
      "Row(ind=4, company='Volkswagen', model='ID.4')\n",
      "Row(ind=3, company='Polestar', model='3')\n"
     ]
    }
   ],
   "source": [
    "# Query the data\n",
    "rows = session.execute(\"SELECT * FROM my_first_table;\")\n",
    "for i in rows:\n",
    "    print(i)"
   ]
  },
  {
   "cell_type": "code",
   "execution_count": 13,
   "metadata": {
    "ExecuteTime": {
     "end_time": "2024-08-17T10:25:35.402371Z",
     "start_time": "2024-08-17T10:25:35.386980Z"
    },
    "slideshow": {
     "slide_type": "slide"
    },
    "tags": [
     "raises-exception"
    ]
   },
   "outputs": [
    {
     "name": "stdout",
     "output_type": "stream",
     "text": [
      "Row(ind=1, company='Tesla', model='Model S')\n",
      "Row(ind=2, company='Tesla', model='Model 3')\n"
     ]
    }
   ],
   "source": [
    "# More specific query\n",
    "prepared_statement = session.prepare(\"SELECT * FROM my_first_table WHERE company=? ALLOW FILTERING;\")\n",
    "teslas = session.execute(prepared_statement, ['Tesla'])\n",
    "for i in teslas:\n",
    "    print(i)"
   ]
  },
  {
   "cell_type": "markdown",
   "metadata": {
    "slideshow": {
     "slide_type": "slide"
    }
   },
   "source": [
    "## Cassandra filtering\n",
    "Cassandra is inherently a distributed production database. Selecting as above may require downloading all data from a node, then filtering based on the WHERE part (only PRIMARY KEYs are centrally known). Solutions:  \n",
    "- If the table is small or most of the data will satisfy the query, add ```ALLOW FILTERING``` at the end of the query (not recommended if not known). \n",
    "- Or make sure the WHERE clause points to one of the keys (see below)."
   ]
  },
  {
   "cell_type": "code",
   "execution_count": 14,
   "metadata": {
    "ExecuteTime": {
     "end_time": "2024-08-17T10:25:35.613711Z",
     "start_time": "2024-08-17T10:25:35.403622Z"
    },
    "slideshow": {
     "slide_type": "slide"
    },
    "tags": []
   },
   "outputs": [
    {
     "data": {
      "text/plain": [
       "<cassandra.cluster.ResultSet at 0x110767b00>"
      ]
     },
     "execution_count": 14,
     "metadata": {},
     "output_type": "execute_result"
    }
   ],
   "source": [
    "# Create a new table (observe keys)\n",
    "session.execute(\"DROP TABLE IF EXISTS my_first_keyspace.car_table;\")\n",
    "session.execute(\"CREATE TABLE IF NOT EXISTS car_table (company text, model text, PRIMARY KEY(company, model));\")"
   ]
  },
  {
   "cell_type": "code",
   "execution_count": 15,
   "metadata": {
    "ExecuteTime": {
     "end_time": "2024-08-17T10:25:35.628950Z",
     "start_time": "2024-08-17T10:25:35.615126Z"
    },
    "slideshow": {
     "slide_type": "fragment"
    },
    "tags": []
   },
   "outputs": [
    {
     "data": {
      "text/plain": [
       "<cassandra.cluster.ResultSet at 0x110785370>"
      ]
     },
     "execution_count": 15,
     "metadata": {},
     "output_type": "execute_result"
    }
   ],
   "source": [
    "# Insert some data (combination of company and model must be unique)\n",
    "session.execute(\"INSERT INTO car_table (company, model) VALUES ('Tesla', 'Model S');\")\n",
    "session.execute(\"INSERT INTO car_table (company, model) VALUES ('Tesla', 'Model 3');\")\n",
    "session.execute(\"INSERT INTO car_table (company, model) VALUES ('Polestar', '3');\")\n",
    "session.execute(\"INSERT INTO car_table (company, model) VALUES ('Volkswagen', 'ID.4');\")"
   ]
  },
  {
   "cell_type": "code",
   "execution_count": 16,
   "metadata": {
    "ExecuteTime": {
     "end_time": "2024-08-17T10:25:35.639765Z",
     "start_time": "2024-08-17T10:25:35.630657Z"
    },
    "slideshow": {
     "slide_type": "slide"
    },
    "tags": []
   },
   "outputs": [
    {
     "name": "stdout",
     "output_type": "stream",
     "text": [
      "Row(company='Tesla', model='Model 3')\n",
      "Row(company='Tesla', model='Model S')\n"
     ]
    }
   ],
   "source": [
    "# More specific query now works\n",
    "prepared_statement = session.prepare(\"SELECT * FROM car_table WHERE company=?;\")\n",
    "teslas = session.execute(prepared_statement, ['Tesla'])\n",
    "for i in teslas:\n",
    "    print(i)"
   ]
  },
  {
   "cell_type": "markdown",
   "metadata": {
    "slideshow": {
     "slide_type": "slide"
    }
   },
   "source": [
    "### Partitions\n",
    "- Cassandra databases are usually replicated over different nodes.\n",
    "- Data is stored in partitions (subsets) which have local copys.\n",
    "- The primary key, e.g., PRIMARY KEY(company, model), is used in partitioning.\n",
    "    - The first part, e.g., company, is most important.\n",
    "    - All cars from a company will be located together, aiming for quicker queries."
   ]
  },
  {
   "cell_type": "markdown",
   "metadata": {
    "slideshow": {
     "slide_type": "slide"
    }
   },
   "source": [
    "### Unique IDs \n",
    "- In MySQL one could use the attribute AUTO_INCREMENT on integer IDs to automatically make a new unique index when inserting data.\n",
    "- This would cause unreasonable overhead in a distributed database.\n",
    "- [UUID](https://en.wikipedia.org/wiki/Universally_unique_identifier)s are used instead.\n",
    "    - Universally Unique Identifiers are typically 128-bit random bit sequences with extremely low probability of duplication.\n",
    "    - Cassandra uses a [timeuuid](https://docs.datastax.com/en/cql-oss/3.3/cql/cql_reference/timeuuid_functions_r.html) type to combine a timestamp and uuid in one."
   ]
  },
  {
   "cell_type": "code",
   "execution_count": 17,
   "metadata": {
    "ExecuteTime": {
     "end_time": "2024-08-17T10:25:35.766003Z",
     "start_time": "2024-08-17T10:25:35.640600Z"
    },
    "slideshow": {
     "slide_type": "fragment"
    },
    "tags": []
   },
   "outputs": [
    {
     "data": {
      "text/plain": [
       "<cassandra.cluster.ResultSet at 0x110778a40>"
      ]
     },
     "execution_count": 17,
     "metadata": {},
     "output_type": "execute_result"
    }
   ],
   "source": [
    "# Create a new table (first time only)\n",
    "session.set_keyspace('my_first_keyspace')\n",
    "session.execute(\"DROP TABLE IF EXISTS my_first_keyspace.table_with_uuid;\")\n",
    "session.execute(\"CREATE TABLE IF NOT EXISTS table_with_uuid (id timeuuid PRIMARY KEY, company text, model text, price float);\")"
   ]
  },
  {
   "cell_type": "code",
   "execution_count": 18,
   "metadata": {
    "ExecuteTime": {
     "end_time": "2024-08-17T10:25:35.784876Z",
     "start_time": "2024-08-17T10:25:35.766619Z"
    },
    "slideshow": {
     "slide_type": "slide"
    },
    "tags": []
   },
   "outputs": [
    {
     "data": {
      "text/plain": [
       "<cassandra.cluster.ResultSet at 0x110758230>"
      ]
     },
     "execution_count": 18,
     "metadata": {},
     "output_type": "execute_result"
    }
   ],
   "source": [
    "session.execute(\"INSERT INTO table_with_uuid (id, company, model, price) VALUES (now(), 'Tesla', 'Model S', 20000.0);\")\n",
    "session.execute(\"INSERT INTO table_with_uuid (id, company, model, price) VALUES (now(), 'Tesla', 'Model S', 21000.0);\")\n",
    "session.execute(\"INSERT INTO table_with_uuid (id, company, model, price) VALUES (now(), 'Oldsmobile', 'Model 6C', 135000.0);\")"
   ]
  },
  {
   "cell_type": "code",
   "execution_count": 19,
   "metadata": {
    "ExecuteTime": {
     "end_time": "2024-08-17T10:25:35.792934Z",
     "start_time": "2024-08-17T10:25:35.785467Z"
    },
    "slideshow": {
     "slide_type": "slide"
    },
    "tags": []
   },
   "outputs": [
    {
     "name": "stdout",
     "output_type": "stream",
     "text": [
      "Row(id=UUID('067b7ed0-84d2-11ef-b0c1-63fd87a2383f'), company='Tesla', model='Model S', price=21000.0)\n",
      "Datetime: 2024-10-07 17:31:45.853000\n",
      "Row(id=UUID('067bccf0-84d2-11ef-b0c1-63fd87a2383f'), company='Oldsmobile', model='Model 6C', price=135000.0)\n",
      "Datetime: 2024-10-07 17:31:45.855000\n",
      "Row(id=UUID('067b09a0-84d2-11ef-b0c1-63fd87a2383f'), company='Tesla', model='Model S', price=20000.0)\n",
      "Datetime: 2024-10-07 17:31:45.850000\n"
     ]
    }
   ],
   "source": [
    "from cassandra.util import datetime_from_uuid1\n",
    "\n",
    "# Query the data\n",
    "rows = session.execute(\"SELECT * FROM table_with_uuid;\")\n",
    "for i in rows:\n",
    "    print(i)\n",
    "    # Extract the timestamp from Cassandra's timeuuid\n",
    "    print(\"Datetime:\", datetime_from_uuid1(i.id))"
   ]
  },
  {
   "cell_type": "markdown",
   "metadata": {
    "slideshow": {
     "slide_type": "slide"
    }
   },
   "source": [
    "## JSON in Cassandra\n",
    "### Read previously saved JSON file forecast.json to memory"
   ]
  },
  {
   "cell_type": "code",
   "execution_count": 20,
   "metadata": {
    "ExecuteTime": {
     "end_time": "2024-08-17T10:25:35.796049Z",
     "start_time": "2024-08-17T10:25:35.793437Z"
    },
    "slideshow": {
     "slide_type": "fragment"
    },
    "tags": []
   },
   "outputs": [],
   "source": [
    "import json\n",
    "with open('../3_APIs/downloads/forecast.json', 'r') as f:\n",
    "    forecast = json.load(f)"
   ]
  },
  {
   "cell_type": "code",
   "execution_count": 21,
   "metadata": {
    "ExecuteTime": {
     "end_time": "2024-08-17T10:25:35.799114Z",
     "start_time": "2024-08-17T10:25:35.796532Z"
    },
    "slideshow": {
     "slide_type": "slide"
    },
    "tags": []
   },
   "outputs": [
    {
     "data": {
      "text/plain": [
       "\"{'cod': '200', 'message': 0, 'cnt': 40, 'list': [{'dt': 1728324000, 'main': {'temp': 277.41, 'feels_like': 274.95, 'temp_min': 273.85, 'temp_max': 277.41, 'pressure': 1015, 'sea_level': 1015, 'grnd_level': 962, 'humidity': 60, 'temp_kf': 3.56}, 'weather': [{'id': 802, 'main': 'Clouds', 'description': 'scattered clouds', 'icon': '03n'}], 'clouds': {'all': 40}, 'wind': {'speed': 2.76, 'deg': 67, 'gust': 2.66}, 'visibility': 10000, 'pop': 0, 'sys': {'pod': 'n'}, 'dt_txt': '2024-10-07 18:00:00'}, {'dt': 1728334800, 'main': {'temp': 276.3, 'feels_like': 273.28, 'temp_min': 274.09, 'temp_max': 276.3, 'pressure': 1015, 'sea_level': 1015, 'grnd_level': 962, 'humidity': 69, 'temp_kf': 2.21}, 'weather': [{'id': 600, 'main': 'Snow', 'description': 'light snow', 'icon': '13n'}], 'clouds': {'all': 60}, 'wind': {'speed': 3.2, 'deg': 55, 'gust': 3.75}, 'visibility': 755, 'pop': 0.26, 'snow': {'3h': 0.26}, 'sys': {'pod': 'n'}, 'dt_txt': '2024-10-07 21:00:00'}, {'dt': 1728345600, 'main': {'temp': 275.23, 'feels_like': 272.21, 'temp_min': 274.14, 'temp_max': 275.23, 'pressure': 1014, 'sea_level': 1014, 'grnd_level': 960, 'humidity': 84, 'temp_kf': 1.09}, 'weather': [{'id': 601, 'main': 'Snow', 'description': 'snow', 'icon': '13n'}], 'clouds': {'all': 80}, 'wind': {'speed': 2.93, 'deg': 54, 'gust': 3.47}, 'visibility': 323, 'pop': 1, 'snow': {'3h': 1.61}, 'sys': {'pod': 'n'}, 'dt_txt': '2024-10-08 00:00:00'}, {'dt': 1728356400, 'main': {'temp': 274.31, 'feels_like': 271.28, 'temp_min': 274.31, 'temp_max': 274.31, 'pressure': 1011, 'sea_level': 1011, 'grnd_level': 958, 'humidity': 97, 'temp_kf': 0}, 'weather': [{'id': 601, 'main': 'Snow', 'description': 'snow', 'icon': '13n'}], 'clouds': {'all': 100}, 'wind': {'speed': 2.73, 'deg': 59, 'gust': 3.21}, 'visibility': 283, 'pop': 1, 'snow': {'3h': 2.59}, 'sys': {'pod': 'n'}, 'dt_txt': '2024-10-08 03:00:00'}, {'dt': 1728367200, 'main': {'temp': 274.52, 'feels_like': 271.65, 'temp_min': 274.52, 'temp_max': 274.52, 'pressure': 1009, 'sea_level': 1009, 'grnd_level': 957, 'humidity': 97, 'temp_kf': 0}, 'weather': [{'id': 601, 'main': 'Snow', 'description': 'snow', 'icon': '13d'}], 'clouds': {'all': 100}, 'wind': {'speed': 2.6, 'deg': 66, 'gust': 3.88}, 'visibility': 301, 'pop': 1, 'snow': {'3h': 2.34}, 'sys': {'pod': 'd'}, 'dt_txt': '2024-10-08 06:00:00'}, {'dt': 1728378000, 'main': {'temp': 275.57, 'feels_like': 272.98, 'temp_min': 275.57, 'temp_max': 275.57, 'pressure': 1008, 'sea_level': 1008, 'grnd_level': 956, 'humidity': 99, 'temp_kf': 0}, 'weather': [{'id': 601, 'main': 'Snow', 'description': 'snow', 'icon': '13d'}], 'clouds': {'all': 100}, 'wind': {'speed': 2.51, 'deg': 64, 'gust': 4.02}, 'visibility': 303, 'pop': 1, 'snow': {'3h': 2.82}, 'sys': {'pod': 'd'}, 'dt_txt': '2024-10-08 09:00:00'}, {'dt': 1728388800, 'main': {'temp': 276.1, 'feels_like': 273.7, 'temp_min': 276.1, 'temp_max': 276.1, 'pressure': 1007, 'sea_level': 1007, 'grnd_level': 956, 'humidity': 100, 'temp_kf': 0}, 'weather': [{'id': 601, 'main': 'Snow', 'description': 'snow', 'icon': '13d'}], 'clouds': {'all': 100}, 'wind': {'speed': 2.42, 'deg': 57, 'gust': 2.67}, 'visibility': 147, 'pop': 1, 'snow': {'3h': 2.87}, 'sys': {'pod': 'd'}, 'dt_txt': '2024-10-08 12:00:00'}, {'dt': 1728399600, 'main': {'temp': 276.06, 'feels_like': 274.04, 'temp_min': 276.06, 'temp_max': 276.06, 'pressure': 1007, 'sea_level': 1007, 'grnd_level': 955, 'humidity': 100, 'temp_kf': 0}, 'weather': [{'id': 601, 'main': 'Snow', 'description': 'snow', 'icon': '13d'}], 'clouds': {'all': 100}, 'wind': {'speed': 2.04, 'deg': 66, 'gust': 2.91}, 'visibility': 101, 'pop': 1, 'snow': {'3h': 1.95}, 'sys': {'pod': 'd'}, 'dt_txt': '2024-10-08 15:00:00'}, {'dt': 1728410400, 'main': {'temp': 275.8, 'feels_like': 273.75, 'temp_min': 275.8, 'temp_max': 275.8, 'pressure': 1006, 'sea_level': 1006, 'grnd_level': 954, 'humidity': 99, 'temp_kf': 0}, 'weather': [{'id': 600, 'main': 'Snow', 'description': 'light snow', 'icon': '13n'}], 'clouds': {'all': 100}, 'wind': {'speed': 2.03, 'deg': 70, 'gust': 2.85}, 'pop': 1, 'snow': {'3h': 0.91}, 'sys': {'pod': 'n'}, 'dt_txt': '2024-10-08 18:00:00'}, {'dt': 1728421200, 'main': {'temp': 275.57, 'feels_like': 273.25, 'temp_min': 275.57, 'temp_max': 275.57, 'pressure': 1005, 'sea_level': 1005, 'grnd_level': 953, 'humidity': 99, 'temp_kf': 0}, 'weather': [{'id': 600, 'main': 'Snow', 'description': 'light snow', 'icon': '13n'}], 'clouds': {'all': 100}, 'wind': {'speed': 2.24, 'deg': 67, 'gust': 2.6}, 'pop': 1, 'snow': {'3h': 0.92}, 'sys': {'pod': 'n'}, 'dt_txt': '2024-10-08 21:00:00'}, {'dt': 1728432000, 'main': {'temp': 275.74, 'feels_like': 273.78, 'temp_min': 275.74, 'temp_max': 275.74, 'pressure': 1003, 'sea_level': 1003, 'grnd_level': 951, 'humidity': 99, 'temp_kf': 0}, 'weather': [{'id': 601, 'main': 'Snow', 'description': 'snow', 'icon': '13n'}], 'clouds': {'all': 100}, 'wind': {'speed': 1.94, 'deg': 57, 'gust': 2.32}, 'visibility': 189, 'pop': 1, 'snow': {'3h': 3.75}, 'sys': {'pod': 'n'}, 'dt_txt': '2024-10-09 00:00:00'}, {'dt': 1728442800, 'main': {'temp': 275.85, 'feels_like': 273.95, 'temp_min': 275.85, 'temp_max': 275.85, 'pressure': 1001, 'sea_level': 1001, 'grnd_level': 949, 'humidity': 99, 'temp_kf': 0}, 'weather': [{'id': 601, 'main': 'Snow', 'description': 'snow', 'icon': '13n'}], 'clouds': {'all': 100}, 'wind': {'speed': 1.9, 'deg': 47, 'gust': 1.91}, 'visibility': 142, 'pop': 1, 'snow': {'3h': 3.85}, 'sys': {'pod': 'n'}, 'dt_txt': '2024-10-09 03:00:00'}, {'dt': 1728453600, 'main': {'temp': 276.63, 'feels_like': 274.83, 'temp_min': 276.63, 'temp_max': 276.63, 'pressure': 999, 'sea_level': 999, 'grnd_level': 947, 'humidity': 100, 'temp_kf': 0}, 'weather': [{'id': 501, 'main': 'Rain', 'description': 'moderate rain', 'icon': '10d'}], 'clouds': {'all': 100}, 'wind': {'speed': 1.93, 'deg': 34, 'gust': 1.44}, 'visibility': 419, 'pop': 1, 'rain': {'3h': 3.35}, 'sys': {'pod': 'd'}, 'dt_txt': '2024-10-09 06:00:00'}, {'dt': 1728464400, 'main': {'temp': 277.76, 'feels_like': 275.86, 'temp_min': 277.76, 'temp_max': 277.76, 'pressure': 997, 'sea_level': 997, 'grnd_level': 946, 'humidity': 100, 'temp_kf': 0}, 'weather': [{'id': 500, 'main': 'Rain', 'description': 'light rain', 'icon': '10d'}], 'clouds': {'all': 100}, 'wind': {'speed': 2.2, 'deg': 76, 'gust': 1.66}, 'visibility': 92, 'pop': 1, 'rain': {'3h': 2.15}, 'sys': {'pod': 'd'}, 'dt_txt': '2024-10-09 09:00:00'}, {'dt': 1728475200, 'main': {'temp': 278.82, 'feels_like': 276.58, 'temp_min': 278.82, 'temp_max': 278.82, 'pressure': 995, 'sea_level': 995, 'grnd_level': 944, 'humidity': 100, 'temp_kf': 0}, 'weather': [{'id': 500, 'main': 'Rain', 'description': 'light rain', 'icon': '10d'}], 'clouds': {'all': 100}, 'wind': {'speed': 2.83, 'deg': 83, 'gust': 2.45}, 'visibility': 48, 'pop': 1, 'rain': {'3h': 2.82}, 'sys': {'pod': 'd'}, 'dt_txt': '2024-10-09 12:00:00'}, {'dt': 1728486000, 'main': {'temp': 278.45, 'feels_like': 275.89, 'temp_min': 278.45, 'temp_max': 278.45, 'pressure': 994, 'sea_level': 994, 'grnd_level': 944, 'humidity': 100, 'temp_kf': 0}, 'weather': [{'id': 501, 'main': 'Rain', 'description': 'moderate rain', 'icon': '10d'}], 'clouds': {'all': 100}, 'wind': {'speed': 3.18, 'deg': 87, 'gust': 2.94}, 'visibility': 79, 'pop': 1, 'rain': {'3h': 3.91}, 'sys': {'pod': 'd'}, 'dt_txt': '2024-10-09 15:00:00'}, {'dt': 1728496800, 'main': {'temp': 277.36, 'feels_like': 275.6, 'temp_min': 277.36, 'temp_max': 277.36, 'pressure': 995, 'sea_level': 995, 'grnd_level': 944, 'humidity': 100, 'temp_kf': 0}, 'weather': [{'id': 501, 'main': 'Rain', 'description': 'moderate rain', 'icon': '10n'}], 'clouds': {'all': 100}, 'wind': {'speed': 2, 'deg': 85, 'gust': 1.92}, 'visibility': 87, 'pop': 1, 'rain': {'3h': 3.08}, 'sys': {'pod': 'n'}, 'dt_txt': '2024-10-09 18:00:00'}, {'dt': 1728507600, 'main': {'temp': 276.92, 'feels_like': 276.92, 'temp_min': 276.92, 'temp_max': 276.92, 'pressure': 995, 'sea_level': 995, 'grnd_level': 944, 'humidity': 100, 'temp_kf': 0}, 'weather': [{'id': 500, 'main': 'Rain', 'description': 'light rain', 'icon': '10n'}], 'clouds': {'all': 100}, 'wind': {'speed': 0.79, 'deg': 75, 'gust': 0.66}, 'visibility': 77, 'pop': 1, 'rain': {'3h': 1.21}, 'sys': {'pod': 'n'}, 'dt_txt': '2024-10-09 21:00:00'}, {'dt': 1728518400, 'main': {'temp': 276.69, 'feels_like': 276.69, 'temp_min': 276.69, 'temp_max': 276.69, 'pressure': 995, 'sea_level': 995, 'grnd_level': 944, 'humidity': 100, 'temp_kf': 0}, 'weather': [{'id': 600, 'main': 'Snow', 'description': 'light snow', 'icon': '13n'}], 'clouds': {'all': 100}, 'wind': {'speed': 1.14, 'deg': 280, 'gust': 1.27}, 'visibility': 29, 'pop': 1, 'snow': {'3h': 1.15}, 'sys': {'pod': 'n'}, 'dt_txt': '2024-10-10 00:00:00'}, {'dt': 1728529200, 'main': {'temp': 276.17, 'feels_like': 274.6, 'temp_min': 276.17, 'temp_max': 276.17, 'pressure': 995, 'sea_level': 995, 'grnd_level': 943, 'humidity': 100, 'temp_kf': 0}, 'weather': [{'id': 600, 'main': 'Snow', 'description': 'light snow', 'icon': '13n'}], 'clouds': {'all': 100}, 'wind': {'speed': 1.68, 'deg': 250, 'gust': 2.19}, 'visibility': 25, 'pop': 1, 'snow': {'3h': 1.07}, 'sys': {'pod': 'n'}, 'dt_txt': '2024-10-10 03:00:00'}, {'dt': 1728540000, 'main': {'temp': 276.05, 'feels_like': 274.46, 'temp_min': 276.05, 'temp_max': 276.05, 'pressure': 995, 'sea_level': 995, 'grnd_level': 943, 'humidity': 100, 'temp_kf': 0}, 'weather': [{'id': 600, 'main': 'Snow', 'description': 'light snow', 'icon': '13d'}], 'clouds': {'all': 100}, 'wind': {'speed': 1.68, 'deg': 249, 'gust': 2.3}, 'visibility': 22, 'pop': 1, 'snow': {'3h': 0.9}, 'sys': {'pod': 'd'}, 'dt_txt': '2024-10-10 06:00:00'}, {'dt': 1728550800, 'main': {'temp': 276.4, 'feels_like': 274.9, 'temp_min': 276.4, 'temp_max': 276.4, 'pressure': 996, 'sea_level': 996, 'grnd_level': 945, 'humidity': 100, 'temp_kf': 0}, 'weather': [{'id': 600, 'main': 'Snow', 'description': 'light snow', 'icon': '13d'}], 'clouds': {'all': 100}, 'wind': {'speed': 1.65, 'deg': 247, 'gust': 2.56}, 'visibility': 22, 'pop': 1, 'snow': {'3h': 0.73}, 'sys': {'pod': 'd'}, 'dt_txt': '2024-10-10 09:00:00'}, {'dt': 1728561600, 'main': {'temp': 276.47, 'feels_like': 274.69, 'temp_min': 276.47, 'temp_max': 276.47, 'pressure': 998, 'sea_level': 998, 'grnd_level': 947, 'humidity': 100, 'temp_kf': 0}, 'weather': [{'id': 600, 'main': 'Snow', 'description': 'light snow', 'icon': '13d'}], 'clouds': {'all': 100}, 'wind': {'speed': 1.89, 'deg': 248, 'gust': 2.5}, 'visibility': 180, 'pop': 1, 'snow': {'3h': 0.44}, 'sys': {'pod': 'd'}, 'dt_txt': '2024-10-10 12:00:00'}, {'dt': 1728572400, 'main': {'temp': 275.73, 'feels_like': 275.73, 'temp_min': 275.73, 'temp_max': 275.73, 'pressure': 999, 'sea_level': 999, 'grnd_level': 948, 'humidity': 95, 'temp_kf': 0}, 'weather': [{'id': 804, 'main': 'Clouds', 'description': 'overcast clouds', 'icon': '04d'}], 'clouds': {'all': 100}, 'wind': {'speed': 1.21, 'deg': 239, 'gust': 1.28}, 'visibility': 10000, 'pop': 0, 'sys': {'pod': 'd'}, 'dt_txt': '2024-10-10 15:00:00'}, {'dt': 1728583200, 'main': {'temp': 275.3, 'feels_like': 275.3, 'temp_min': 275.3, 'temp_max': 275.3, 'pressure': 1001, 'sea_level': 1001, 'grnd_level': 949, 'humidity': 94, 'temp_kf': 0}, 'weather': [{'id': 804, 'main': 'Clouds', 'description': 'overcast clouds', 'icon': '04n'}], 'clouds': {'all': 100}, 'wind': {'speed': 0.24, 'deg': 358, 'gust': 0.42}, 'visibility': 10000, 'pop': 0, 'sys': {'pod': 'n'}, 'dt_txt': '2024-10-10 18:00:00'}, {'dt': 1728594000, 'main': {'temp': 274.78, 'feels_like': 274.78, 'temp_min': 274.78, 'temp_max': 274.78, 'pressure': 1002, 'sea_level': 1002, 'grnd_level': 950, 'humidity': 92, 'temp_kf': 0}, 'weather': [{'id': 804, 'main': 'Clouds', 'description': 'overcast clouds', 'icon': '04n'}], 'clouds': {'all': 100}, 'wind': {'speed': 1.1, 'deg': 69, 'gust': 1.25}, 'visibility': 10000, 'pop': 0, 'sys': {'pod': 'n'}, 'dt_txt': '2024-10-10 21:00:00'}, {'dt': 1728604800, 'main': {'temp': 273.68, 'feels_like': 271.54, 'temp_min': 273.68, 'temp_max': 273.68, 'pressure': 1002, 'sea_level': 1002, 'grnd_level': 950, 'humidity': 92, 'temp_kf': 0}, 'weather': [{'id': 804, 'main': 'Clouds', 'description': 'overcast clouds', 'icon': '04n'}], 'clouds': {'all': 100}, 'wind': {'speed': 1.82, 'deg': 73, 'gust': 2.01}, 'visibility': 10000, 'pop': 0, 'sys': {'pod': 'n'}, 'dt_txt': '2024-10-11 00:00:00'}, {'dt': 1728615600, 'main': {'temp': 274.4, 'feels_like': 272.66, 'temp_min': 274.4, 'temp_max': 274.4, 'pressure': 1001, 'sea_level': 1001, 'grnd_level': 949, 'humidity': 91, 'temp_kf': 0}, 'weather': [{'id': 804, 'main': 'Clouds', 'description': 'overcast clouds', 'icon': '04n'}], 'clouds': {'all': 100}, 'wind': {'speed': 1.61, 'deg': 57, 'gust': 1.5}, 'visibility': 10000, 'pop': 0, 'sys': {'pod': 'n'}, 'dt_txt': '2024-10-11 03:00:00'}, {'dt': 1728626400, 'main': {'temp': 274.68, 'feels_like': 274.68, 'temp_min': 274.68, 'temp_max': 274.68, 'pressure': 1000, 'sea_level': 1000, 'grnd_level': 948, 'humidity': 93, 'temp_kf': 0}, 'weather': [{'id': 804, 'main': 'Clouds', 'description': 'overcast clouds', 'icon': '04d'}], 'clouds': {'all': 100}, 'wind': {'speed': 1.32, 'deg': 48, 'gust': 1.3}, 'visibility': 8658, 'pop': 0, 'sys': {'pod': 'd'}, 'dt_txt': '2024-10-11 06:00:00'}, {'dt': 1728637200, 'main': {'temp': 275.24, 'feels_like': 274.01, 'temp_min': 275.24, 'temp_max': 275.24, 'pressure': 999, 'sea_level': 999, 'grnd_level': 947, 'humidity': 98, 'temp_kf': 0}, 'weather': [{'id': 600, 'main': 'Snow', 'description': 'light snow', 'icon': '13d'}], 'clouds': {'all': 100}, 'wind': {'speed': 1.35, 'deg': 3, 'gust': 1.59}, 'visibility': 233, 'pop': 1, 'snow': {'3h': 0.75}, 'sys': {'pod': 'd'}, 'dt_txt': '2024-10-11 09:00:00'}, {'dt': 1728648000, 'main': {'temp': 275.58, 'feels_like': 274.38, 'temp_min': 275.58, 'temp_max': 275.58, 'pressure': 996, 'sea_level': 996, 'grnd_level': 944, 'humidity': 99, 'temp_kf': 0}, 'weather': [{'id': 601, 'main': 'Snow', 'description': 'snow', 'icon': '13d'}], 'clouds': {'all': 100}, 'wind': {'speed': 1.36, 'deg': 337, 'gust': 1.73}, 'visibility': 127, 'pop': 1, 'snow': {'3h': 2.34}, 'sys': {'pod': 'd'}, 'dt_txt': '2024-10-11 12:00:00'}, {'dt': 1728658800, 'main': {'temp': 275.61, 'feels_like': 273.76, 'temp_min': 275.61, 'temp_max': 275.61, 'pressure': 993, 'sea_level': 993, 'grnd_level': 941, 'humidity': 99, 'temp_kf': 0}, 'weather': [{'id': 601, 'main': 'Snow', 'description': 'snow', 'icon': '13d'}], 'clouds': {'all': 100}, 'wind': {'speed': 1.83, 'deg': 296, 'gust': 2.4}, 'visibility': 101, 'pop': 1, 'snow': {'3h': 7.62}, 'sys': {'pod': 'd'}, 'dt_txt': '2024-10-11 15:00:00'}, {'dt': 1728669600, 'main': {'temp': 275.25, 'feels_like': 272.74, 'temp_min': 275.25, 'temp_max': 275.25, 'pressure': 992, 'sea_level': 992, 'grnd_level': 941, 'humidity': 99, 'temp_kf': 0}, 'weather': [{'id': 601, 'main': 'Snow', 'description': 'snow', 'icon': '13n'}], 'clouds': {'all': 100}, 'wind': {'speed': 2.37, 'deg': 303, 'gust': 3.07}, 'visibility': 184, 'pop': 1, 'snow': {'3h': 6.91}, 'sys': {'pod': 'n'}, 'dt_txt': '2024-10-11 18:00:00'}, {'dt': 1728680400, 'main': {'temp': 275.13, 'feels_like': 273.26, 'temp_min': 275.13, 'temp_max': 275.13, 'pressure': 993, 'sea_level': 993, 'grnd_level': 942, 'humidity': 99, 'temp_kf': 0}, 'weather': [{'id': 601, 'main': 'Snow', 'description': 'snow', 'icon': '13n'}], 'clouds': {'all': 100}, 'wind': {'speed': 1.79, 'deg': 284, 'gust': 2.3}, 'visibility': 186, 'pop': 1, 'snow': {'3h': 2.04}, 'sys': {'pod': 'n'}, 'dt_txt': '2024-10-11 21:00:00'}, {'dt': 1728691200, 'main': {'temp': 276, 'feels_like': 272.68, 'temp_min': 276, 'temp_max': 276, 'pressure': 995, 'sea_level': 995, 'grnd_level': 944, 'humidity': 99, 'temp_kf': 0}, 'weather': [{'id': 600, 'main': 'Snow', 'description': 'light snow', 'icon': '13n'}], 'clouds': {'all': 100}, 'wind': {'speed': 3.53, 'deg': 263, 'gust': 4.29}, 'visibility': 31, 'pop': 1, 'snow': {'3h': 1.14}, 'sys': {'pod': 'n'}, 'dt_txt': '2024-10-12 00:00:00'}, {'dt': 1728702000, 'main': {'temp': 274.11, 'feels_like': 270.3, 'temp_min': 274.11, 'temp_max': 274.11, 'pressure': 999, 'sea_level': 999, 'grnd_level': 947, 'humidity': 96, 'temp_kf': 0}, 'weather': [{'id': 600, 'main': 'Snow', 'description': 'light snow', 'icon': '13n'}], 'clouds': {'all': 100}, 'wind': {'speed': 3.64, 'deg': 245, 'gust': 3.53}, 'visibility': 10000, 'pop': 1, 'snow': {'3h': 0.57}, 'sys': {'pod': 'n'}, 'dt_txt': '2024-10-12 03:00:00'}, {'dt': 1728712800, 'main': {'temp': 269.94, 'feels_like': 265.92, 'temp_min': 269.94, 'temp_max': 269.94, 'pressure': 1002, 'sea_level': 1002, 'grnd_level': 949, 'humidity': 95, 'temp_kf': 0}, 'weather': [{'id': 600, 'main': 'Snow', 'description': 'light snow', 'icon': '13d'}], 'clouds': {'all': 90}, 'wind': {'speed': 2.87, 'deg': 216, 'gust': 2.17}, 'visibility': 10000, 'pop': 1, 'snow': {'3h': 0.3}, 'sys': {'pod': 'd'}, 'dt_txt': '2024-10-12 06:00:00'}, {'dt': 1728723600, 'main': {'temp': 274.72, 'feels_like': 271.89, 'temp_min': 274.72, 'temp_max': 274.72, 'pressure': 1004, 'sea_level': 1004, 'grnd_level': 952, 'humidity': 87, 'temp_kf': 0}, 'weather': [{'id': 500, 'main': 'Rain', 'description': 'light rain', 'icon': '10d'}], 'clouds': {'all': 61}, 'wind': {'speed': 2.6, 'deg': 225, 'gust': 3.03}, 'visibility': 10000, 'pop': 0.37, 'rain': {'3h': 0.15}, 'sys': {'pod': 'd'}, 'dt_txt': '2024-10-12 09:00:00'}, {'dt': 1728734400, 'main': {'temp': 276.17, 'feels_like': 273.96, 'temp_min': 276.17, 'temp_max': 276.17, 'pressure': 1006, 'sea_level': 1006, 'grnd_level': 954, 'humidity': 90, 'temp_kf': 0}, 'weather': [{'id': 500, 'main': 'Rain', 'description': 'light rain', 'icon': '10d'}], 'clouds': {'all': 73}, 'wind': {'speed': 2.24, 'deg': 236, 'gust': 3.39}, 'visibility': 10000, 'pop': 0.39, 'rain': {'3h': 0.18}, 'sys': {'pod': 'd'}, 'dt_txt': '2024-10-12 12:00:00'}, {'dt': 1728745200, 'main': {'temp': 272.15, 'feels_like': 272.15, 'temp_min': 272.15, 'temp_max': 272.15, 'pressure': 1008, 'sea_level': 1008, 'grnd_level': 955, 'humidity': 87, 'temp_kf': 0}, 'weather': [{'id': 804, 'main': 'Clouds', 'description': 'overcast clouds', 'icon': '04d'}], 'clouds': {'all': 95}, 'wind': {'speed': 1.24, 'deg': 164, 'gust': 1.82}, 'visibility': 10000, 'pop': 0, 'sys': {'pod': 'd'}, 'dt_txt': '2024-10-12 15:00:00'}], 'city': {'id': 3145614, 'name': 'Mo i Rana', 'coord': {'lat': 66.3128, 'lon': 14.1428}, 'country': 'NO', 'population': 17853, 'timezone': 7200, 'sunrise': 1728279280, 'sunset': 1728317245}}\""
      ]
     },
     "execution_count": 21,
     "metadata": {},
     "output_type": "execute_result"
    }
   ],
   "source": [
    "# Inspect JSON file\n",
    "forecast.__str__()"
   ]
  },
  {
   "cell_type": "markdown",
   "metadata": {
    "slideshow": {
     "slide_type": "slide"
    }
   },
   "source": [
    "## Raw JSON\n",
    "- A simple, but not very efficient way of storing JSON data is to treat it as a text and save it directly to the database.  \n",
    "- More efficient, with regard to transfer, is to compress the JSON data to a blob first.\n",
    "    - Compression is automatic."
   ]
  },
  {
   "cell_type": "code",
   "execution_count": 22,
   "metadata": {
    "ExecuteTime": {
     "end_time": "2024-08-17T10:25:35.916537Z",
     "start_time": "2024-08-17T10:25:35.799572Z"
    },
    "slideshow": {
     "slide_type": "fragment"
    },
    "tags": []
   },
   "outputs": [
    {
     "data": {
      "text/plain": [
       "<cassandra.cluster.ResultSet at 0x1107849e0>"
      ]
     },
     "execution_count": 22,
     "metadata": {},
     "output_type": "execute_result"
    }
   ],
   "source": [
    "# Create a new table which treats the whole JSON as a blob, using the city id and the first dt as keys\n",
    "session.set_keyspace('my_first_keyspace')\n",
    "session.execute(\"DROP TABLE IF EXISTS my_first_keyspace.forecast_table;\")\n",
    "session.execute(\"CREATE TABLE IF NOT EXISTS forecast_table (city_id int, dt int, forecast blob, PRIMARY KEY(city_id, dt));\")"
   ]
  },
  {
   "cell_type": "markdown",
   "metadata": {
    "slideshow": {
     "slide_type": "slide"
    }
   },
   "source": [
    "### Insert the forecast data into the table as text blob"
   ]
  },
  {
   "cell_type": "code",
   "execution_count": 23,
   "metadata": {
    "ExecuteTime": {
     "end_time": "2024-08-17T10:25:35.935855Z",
     "start_time": "2024-08-17T10:25:35.917175Z"
    },
    "slideshow": {
     "slide_type": "fragment"
    },
    "tags": []
   },
   "outputs": [
    {
     "data": {
      "text/plain": [
       "<cassandra.cluster.ResultSet at 0x110766720>"
      ]
     },
     "execution_count": 23,
     "metadata": {},
     "output_type": "execute_result"
    }
   ],
   "source": [
    "session.execute(\"INSERT INTO forecast_table (city_id, dt, forecast) VALUES (%s, %s, textAsBlob(%s));\", (forecast['city']['id'], forecast['list'][0]['dt'], forecast.__str__()))"
   ]
  },
  {
   "cell_type": "code",
   "execution_count": 24,
   "metadata": {
    "ExecuteTime": {
     "end_time": "2024-08-17T10:25:35.946537Z",
     "start_time": "2024-08-17T10:25:35.938642Z"
    },
    "slideshow": {
     "slide_type": "slide"
    },
    "tags": []
   },
   "outputs": [
    {
     "name": "stdout",
     "output_type": "stream",
     "text": [
      "Row(city_id=3145614, dt=1728324000, forecast=b\"{'cod': '200', 'message': 0, 'cnt': 40, 'list': [{'dt': 1728324000, 'main': {'temp': 277.41, 'feels_like': 274.95, 'temp_min': 273.85, 'temp_max': 277.41, 'pressure': 1015, 'sea_level': 1015, 'grnd_level': 962, 'humidity': 60, 'temp_kf': 3.56}, 'weather': [{'id': 802, 'main': 'Clouds', 'description': 'scattered clouds', 'icon': '03n'}], 'clouds': {'all': 40}, 'wind': {'speed': 2.76, 'deg': 67, 'gust': 2.66}, 'visibility': 10000, 'pop': 0, 'sys': {'pod': 'n'}, 'dt_txt': '2024-10-07 18:00:00'}, {'dt': 1728334800, 'main': {'temp': 276.3, 'feels_like': 273.28, 'temp_min': 274.09, 'temp_max': 276.3, 'pressure': 1015, 'sea_level': 1015, 'grnd_level': 962, 'humidity': 69, 'temp_kf': 2.21}, 'weather': [{'id': 600, 'main': 'Snow', 'description': 'light snow', 'icon': '13n'}], 'clouds': {'all': 60}, 'wind': {'speed': 3.2, 'deg': 55, 'gust': 3.75}, 'visibility': 755, 'pop': 0.26, 'snow': {'3h': 0.26}, 'sys': {'pod': 'n'}, 'dt_txt': '2024-10-07 21:00:00'}, {'dt': 1728345600, 'main': {'temp': 275.23, 'feels_like': 272.21, 'temp_min': 274.14, 'temp_max': 275.23, 'pressure': 1014, 'sea_level': 1014, 'grnd_level': 960, 'humidity': 84, 'temp_kf': 1.09}, 'weather': [{'id': 601, 'main': 'Snow', 'description': 'snow', 'icon': '13n'}], 'clouds': {'all': 80}, 'wind': {'speed': 2.93, 'deg': 54, 'gust': 3.47}, 'visibility': 323, 'pop': 1, 'snow': {'3h': 1.61}, 'sys': {'pod': 'n'}, 'dt_txt': '2024-10-08 00:00:00'}, {'dt': 1728356400, 'main': {'temp': 274.31, 'feels_like': 271.28, 'temp_min': 274.31, 'temp_max': 274.31, 'pressure': 1011, 'sea_level': 1011, 'grnd_level': 958, 'humidity': 97, 'temp_kf': 0}, 'weather': [{'id': 601, 'main': 'Snow', 'description': 'snow', 'icon': '13n'}], 'clouds': {'all': 100}, 'wind': {'speed': 2.73, 'deg': 59, 'gust': 3.21}, 'visibility': 283, 'pop': 1, 'snow': {'3h': 2.59}, 'sys': {'pod': 'n'}, 'dt_txt': '2024-10-08 03:00:00'}, {'dt': 1728367200, 'main': {'temp': 274.52, 'feels_like': 271.65, 'temp_min': 274.52, 'temp_max': 274.52, 'pressure': 1009, 'sea_level': 1009, 'grnd_level': 957, 'humidity': 97, 'temp_kf': 0}, 'weather': [{'id': 601, 'main': 'Snow', 'description': 'snow', 'icon': '13d'}], 'clouds': {'all': 100}, 'wind': {'speed': 2.6, 'deg': 66, 'gust': 3.88}, 'visibility': 301, 'pop': 1, 'snow': {'3h': 2.34}, 'sys': {'pod': 'd'}, 'dt_txt': '2024-10-08 06:00:00'}, {'dt': 1728378000, 'main': {'temp': 275.57, 'feels_like': 272.98, 'temp_min': 275.57, 'temp_max': 275.57, 'pressure': 1008, 'sea_level': 1008, 'grnd_level': 956, 'humidity': 99, 'temp_kf': 0}, 'weather': [{'id': 601, 'main': 'Snow', 'description': 'snow', 'icon': '13d'}], 'clouds': {'all': 100}, 'wind': {'speed': 2.51, 'deg': 64, 'gust': 4.02}, 'visibility': 303, 'pop': 1, 'snow': {'3h': 2.82}, 'sys': {'pod': 'd'}, 'dt_txt': '2024-10-08 09:00:00'}, {'dt': 1728388800, 'main': {'temp': 276.1, 'feels_like': 273.7, 'temp_min': 276.1, 'temp_max': 276.1, 'pressure': 1007, 'sea_level': 1007, 'grnd_level': 956, 'humidity': 100, 'temp_kf': 0}, 'weather': [{'id': 601, 'main': 'Snow', 'description': 'snow', 'icon': '13d'}], 'clouds': {'all': 100}, 'wind': {'speed': 2.42, 'deg': 57, 'gust': 2.67}, 'visibility': 147, 'pop': 1, 'snow': {'3h': 2.87}, 'sys': {'pod': 'd'}, 'dt_txt': '2024-10-08 12:00:00'}, {'dt': 1728399600, 'main': {'temp': 276.06, 'feels_like': 274.04, 'temp_min': 276.06, 'temp_max': 276.06, 'pressure': 1007, 'sea_level': 1007, 'grnd_level': 955, 'humidity': 100, 'temp_kf': 0}, 'weather': [{'id': 601, 'main': 'Snow', 'description': 'snow', 'icon': '13d'}], 'clouds': {'all': 100}, 'wind': {'speed': 2.04, 'deg': 66, 'gust': 2.91}, 'visibility': 101, 'pop': 1, 'snow': {'3h': 1.95}, 'sys': {'pod': 'd'}, 'dt_txt': '2024-10-08 15:00:00'}, {'dt': 1728410400, 'main': {'temp': 275.8, 'feels_like': 273.75, 'temp_min': 275.8, 'temp_max': 275.8, 'pressure': 1006, 'sea_level': 1006, 'grnd_level': 954, 'humidity': 99, 'temp_kf': 0}, 'weather': [{'id': 600, 'main': 'Snow', 'description': 'light snow', 'icon': '13n'}], 'clouds': {'all': 100}, 'wind': {'speed': 2.03, 'deg': 70, 'gust': 2.85}, 'pop': 1, 'snow': {'3h': 0.91}, 'sys': {'pod': 'n'}, 'dt_txt': '2024-10-08 18:00:00'}, {'dt': 1728421200, 'main': {'temp': 275.57, 'feels_like': 273.25, 'temp_min': 275.57, 'temp_max': 275.57, 'pressure': 1005, 'sea_level': 1005, 'grnd_level': 953, 'humidity': 99, 'temp_kf': 0}, 'weather': [{'id': 600, 'main': 'Snow', 'description': 'light snow', 'icon': '13n'}], 'clouds': {'all': 100}, 'wind': {'speed': 2.24, 'deg': 67, 'gust': 2.6}, 'pop': 1, 'snow': {'3h': 0.92}, 'sys': {'pod': 'n'}, 'dt_txt': '2024-10-08 21:00:00'}, {'dt': 1728432000, 'main': {'temp': 275.74, 'feels_like': 273.78, 'temp_min': 275.74, 'temp_max': 275.74, 'pressure': 1003, 'sea_level': 1003, 'grnd_level': 951, 'humidity': 99, 'temp_kf': 0}, 'weather': [{'id': 601, 'main': 'Snow', 'description': 'snow', 'icon': '13n'}], 'clouds': {'all': 100}, 'wind': {'speed': 1.94, 'deg': 57, 'gust': 2.32}, 'visibility': 189, 'pop': 1, 'snow': {'3h': 3.75}, 'sys': {'pod': 'n'}, 'dt_txt': '2024-10-09 00:00:00'}, {'dt': 1728442800, 'main': {'temp': 275.85, 'feels_like': 273.95, 'temp_min': 275.85, 'temp_max': 275.85, 'pressure': 1001, 'sea_level': 1001, 'grnd_level': 949, 'humidity': 99, 'temp_kf': 0}, 'weather': [{'id': 601, 'main': 'Snow', 'description': 'snow', 'icon': '13n'}], 'clouds': {'all': 100}, 'wind': {'speed': 1.9, 'deg': 47, 'gust': 1.91}, 'visibility': 142, 'pop': 1, 'snow': {'3h': 3.85}, 'sys': {'pod': 'n'}, 'dt_txt': '2024-10-09 03:00:00'}, {'dt': 1728453600, 'main': {'temp': 276.63, 'feels_like': 274.83, 'temp_min': 276.63, 'temp_max': 276.63, 'pressure': 999, 'sea_level': 999, 'grnd_level': 947, 'humidity': 100, 'temp_kf': 0}, 'weather': [{'id': 501, 'main': 'Rain', 'description': 'moderate rain', 'icon': '10d'}], 'clouds': {'all': 100}, 'wind': {'speed': 1.93, 'deg': 34, 'gust': 1.44}, 'visibility': 419, 'pop': 1, 'rain': {'3h': 3.35}, 'sys': {'pod': 'd'}, 'dt_txt': '2024-10-09 06:00:00'}, {'dt': 1728464400, 'main': {'temp': 277.76, 'feels_like': 275.86, 'temp_min': 277.76, 'temp_max': 277.76, 'pressure': 997, 'sea_level': 997, 'grnd_level': 946, 'humidity': 100, 'temp_kf': 0}, 'weather': [{'id': 500, 'main': 'Rain', 'description': 'light rain', 'icon': '10d'}], 'clouds': {'all': 100}, 'wind': {'speed': 2.2, 'deg': 76, 'gust': 1.66}, 'visibility': 92, 'pop': 1, 'rain': {'3h': 2.15}, 'sys': {'pod': 'd'}, 'dt_txt': '2024-10-09 09:00:00'}, {'dt': 1728475200, 'main': {'temp': 278.82, 'feels_like': 276.58, 'temp_min': 278.82, 'temp_max': 278.82, 'pressure': 995, 'sea_level': 995, 'grnd_level': 944, 'humidity': 100, 'temp_kf': 0}, 'weather': [{'id': 500, 'main': 'Rain', 'description': 'light rain', 'icon': '10d'}], 'clouds': {'all': 100}, 'wind': {'speed': 2.83, 'deg': 83, 'gust': 2.45}, 'visibility': 48, 'pop': 1, 'rain': {'3h': 2.82}, 'sys': {'pod': 'd'}, 'dt_txt': '2024-10-09 12:00:00'}, {'dt': 1728486000, 'main': {'temp': 278.45, 'feels_like': 275.89, 'temp_min': 278.45, 'temp_max': 278.45, 'pressure': 994, 'sea_level': 994, 'grnd_level': 944, 'humidity': 100, 'temp_kf': 0}, 'weather': [{'id': 501, 'main': 'Rain', 'description': 'moderate rain', 'icon': '10d'}], 'clouds': {'all': 100}, 'wind': {'speed': 3.18, 'deg': 87, 'gust': 2.94}, 'visibility': 79, 'pop': 1, 'rain': {'3h': 3.91}, 'sys': {'pod': 'd'}, 'dt_txt': '2024-10-09 15:00:00'}, {'dt': 1728496800, 'main': {'temp': 277.36, 'feels_like': 275.6, 'temp_min': 277.36, 'temp_max': 277.36, 'pressure': 995, 'sea_level': 995, 'grnd_level': 944, 'humidity': 100, 'temp_kf': 0}, 'weather': [{'id': 501, 'main': 'Rain', 'description': 'moderate rain', 'icon': '10n'}], 'clouds': {'all': 100}, 'wind': {'speed': 2, 'deg': 85, 'gust': 1.92}, 'visibility': 87, 'pop': 1, 'rain': {'3h': 3.08}, 'sys': {'pod': 'n'}, 'dt_txt': '2024-10-09 18:00:00'}, {'dt': 1728507600, 'main': {'temp': 276.92, 'feels_like': 276.92, 'temp_min': 276.92, 'temp_max': 276.92, 'pressure': 995, 'sea_level': 995, 'grnd_level': 944, 'humidity': 100, 'temp_kf': 0}, 'weather': [{'id': 500, 'main': 'Rain', 'description': 'light rain', 'icon': '10n'}], 'clouds': {'all': 100}, 'wind': {'speed': 0.79, 'deg': 75, 'gust': 0.66}, 'visibility': 77, 'pop': 1, 'rain': {'3h': 1.21}, 'sys': {'pod': 'n'}, 'dt_txt': '2024-10-09 21:00:00'}, {'dt': 1728518400, 'main': {'temp': 276.69, 'feels_like': 276.69, 'temp_min': 276.69, 'temp_max': 276.69, 'pressure': 995, 'sea_level': 995, 'grnd_level': 944, 'humidity': 100, 'temp_kf': 0}, 'weather': [{'id': 600, 'main': 'Snow', 'description': 'light snow', 'icon': '13n'}], 'clouds': {'all': 100}, 'wind': {'speed': 1.14, 'deg': 280, 'gust': 1.27}, 'visibility': 29, 'pop': 1, 'snow': {'3h': 1.15}, 'sys': {'pod': 'n'}, 'dt_txt': '2024-10-10 00:00:00'}, {'dt': 1728529200, 'main': {'temp': 276.17, 'feels_like': 274.6, 'temp_min': 276.17, 'temp_max': 276.17, 'pressure': 995, 'sea_level': 995, 'grnd_level': 943, 'humidity': 100, 'temp_kf': 0}, 'weather': [{'id': 600, 'main': 'Snow', 'description': 'light snow', 'icon': '13n'}], 'clouds': {'all': 100}, 'wind': {'speed': 1.68, 'deg': 250, 'gust': 2.19}, 'visibility': 25, 'pop': 1, 'snow': {'3h': 1.07}, 'sys': {'pod': 'n'}, 'dt_txt': '2024-10-10 03:00:00'}, {'dt': 1728540000, 'main': {'temp': 276.05, 'feels_like': 274.46, 'temp_min': 276.05, 'temp_max': 276.05, 'pressure': 995, 'sea_level': 995, 'grnd_level': 943, 'humidity': 100, 'temp_kf': 0}, 'weather': [{'id': 600, 'main': 'Snow', 'description': 'light snow', 'icon': '13d'}], 'clouds': {'all': 100}, 'wind': {'speed': 1.68, 'deg': 249, 'gust': 2.3}, 'visibility': 22, 'pop': 1, 'snow': {'3h': 0.9}, 'sys': {'pod': 'd'}, 'dt_txt': '2024-10-10 06:00:00'}, {'dt': 1728550800, 'main': {'temp': 276.4, 'feels_like': 274.9, 'temp_min': 276.4, 'temp_max': 276.4, 'pressure': 996, 'sea_level': 996, 'grnd_level': 945, 'humidity': 100, 'temp_kf': 0}, 'weather': [{'id': 600, 'main': 'Snow', 'description': 'light snow', 'icon': '13d'}], 'clouds': {'all': 100}, 'wind': {'speed': 1.65, 'deg': 247, 'gust': 2.56}, 'visibility': 22, 'pop': 1, 'snow': {'3h': 0.73}, 'sys': {'pod': 'd'}, 'dt_txt': '2024-10-10 09:00:00'}, {'dt': 1728561600, 'main': {'temp': 276.47, 'feels_like': 274.69, 'temp_min': 276.47, 'temp_max': 276.47, 'pressure': 998, 'sea_level': 998, 'grnd_level': 947, 'humidity': 100, 'temp_kf': 0}, 'weather': [{'id': 600, 'main': 'Snow', 'description': 'light snow', 'icon': '13d'}], 'clouds': {'all': 100}, 'wind': {'speed': 1.89, 'deg': 248, 'gust': 2.5}, 'visibility': 180, 'pop': 1, 'snow': {'3h': 0.44}, 'sys': {'pod': 'd'}, 'dt_txt': '2024-10-10 12:00:00'}, {'dt': 1728572400, 'main': {'temp': 275.73, 'feels_like': 275.73, 'temp_min': 275.73, 'temp_max': 275.73, 'pressure': 999, 'sea_level': 999, 'grnd_level': 948, 'humidity': 95, 'temp_kf': 0}, 'weather': [{'id': 804, 'main': 'Clouds', 'description': 'overcast clouds', 'icon': '04d'}], 'clouds': {'all': 100}, 'wind': {'speed': 1.21, 'deg': 239, 'gust': 1.28}, 'visibility': 10000, 'pop': 0, 'sys': {'pod': 'd'}, 'dt_txt': '2024-10-10 15:00:00'}, {'dt': 1728583200, 'main': {'temp': 275.3, 'feels_like': 275.3, 'temp_min': 275.3, 'temp_max': 275.3, 'pressure': 1001, 'sea_level': 1001, 'grnd_level': 949, 'humidity': 94, 'temp_kf': 0}, 'weather': [{'id': 804, 'main': 'Clouds', 'description': 'overcast clouds', 'icon': '04n'}], 'clouds': {'all': 100}, 'wind': {'speed': 0.24, 'deg': 358, 'gust': 0.42}, 'visibility': 10000, 'pop': 0, 'sys': {'pod': 'n'}, 'dt_txt': '2024-10-10 18:00:00'}, {'dt': 1728594000, 'main': {'temp': 274.78, 'feels_like': 274.78, 'temp_min': 274.78, 'temp_max': 274.78, 'pressure': 1002, 'sea_level': 1002, 'grnd_level': 950, 'humidity': 92, 'temp_kf': 0}, 'weather': [{'id': 804, 'main': 'Clouds', 'description': 'overcast clouds', 'icon': '04n'}], 'clouds': {'all': 100}, 'wind': {'speed': 1.1, 'deg': 69, 'gust': 1.25}, 'visibility': 10000, 'pop': 0, 'sys': {'pod': 'n'}, 'dt_txt': '2024-10-10 21:00:00'}, {'dt': 1728604800, 'main': {'temp': 273.68, 'feels_like': 271.54, 'temp_min': 273.68, 'temp_max': 273.68, 'pressure': 1002, 'sea_level': 1002, 'grnd_level': 950, 'humidity': 92, 'temp_kf': 0}, 'weather': [{'id': 804, 'main': 'Clouds', 'description': 'overcast clouds', 'icon': '04n'}], 'clouds': {'all': 100}, 'wind': {'speed': 1.82, 'deg': 73, 'gust': 2.01}, 'visibility': 10000, 'pop': 0, 'sys': {'pod': 'n'}, 'dt_txt': '2024-10-11 00:00:00'}, {'dt': 1728615600, 'main': {'temp': 274.4, 'feels_like': 272.66, 'temp_min': 274.4, 'temp_max': 274.4, 'pressure': 1001, 'sea_level': 1001, 'grnd_level': 949, 'humidity': 91, 'temp_kf': 0}, 'weather': [{'id': 804, 'main': 'Clouds', 'description': 'overcast clouds', 'icon': '04n'}], 'clouds': {'all': 100}, 'wind': {'speed': 1.61, 'deg': 57, 'gust': 1.5}, 'visibility': 10000, 'pop': 0, 'sys': {'pod': 'n'}, 'dt_txt': '2024-10-11 03:00:00'}, {'dt': 1728626400, 'main': {'temp': 274.68, 'feels_like': 274.68, 'temp_min': 274.68, 'temp_max': 274.68, 'pressure': 1000, 'sea_level': 1000, 'grnd_level': 948, 'humidity': 93, 'temp_kf': 0}, 'weather': [{'id': 804, 'main': 'Clouds', 'description': 'overcast clouds', 'icon': '04d'}], 'clouds': {'all': 100}, 'wind': {'speed': 1.32, 'deg': 48, 'gust': 1.3}, 'visibility': 8658, 'pop': 0, 'sys': {'pod': 'd'}, 'dt_txt': '2024-10-11 06:00:00'}, {'dt': 1728637200, 'main': {'temp': 275.24, 'feels_like': 274.01, 'temp_min': 275.24, 'temp_max': 275.24, 'pressure': 999, 'sea_level': 999, 'grnd_level': 947, 'humidity': 98, 'temp_kf': 0}, 'weather': [{'id': 600, 'main': 'Snow', 'description': 'light snow', 'icon': '13d'}], 'clouds': {'all': 100}, 'wind': {'speed': 1.35, 'deg': 3, 'gust': 1.59}, 'visibility': 233, 'pop': 1, 'snow': {'3h': 0.75}, 'sys': {'pod': 'd'}, 'dt_txt': '2024-10-11 09:00:00'}, {'dt': 1728648000, 'main': {'temp': 275.58, 'feels_like': 274.38, 'temp_min': 275.58, 'temp_max': 275.58, 'pressure': 996, 'sea_level': 996, 'grnd_level': 944, 'humidity': 99, 'temp_kf': 0}, 'weather': [{'id': 601, 'main': 'Snow', 'description': 'snow', 'icon': '13d'}], 'clouds': {'all': 100}, 'wind': {'speed': 1.36, 'deg': 337, 'gust': 1.73}, 'visibility': 127, 'pop': 1, 'snow': {'3h': 2.34}, 'sys': {'pod': 'd'}, 'dt_txt': '2024-10-11 12:00:00'}, {'dt': 1728658800, 'main': {'temp': 275.61, 'feels_like': 273.76, 'temp_min': 275.61, 'temp_max': 275.61, 'pressure': 993, 'sea_level': 993, 'grnd_level': 941, 'humidity': 99, 'temp_kf': 0}, 'weather': [{'id': 601, 'main': 'Snow', 'description': 'snow', 'icon': '13d'}], 'clouds': {'all': 100}, 'wind': {'speed': 1.83, 'deg': 296, 'gust': 2.4}, 'visibility': 101, 'pop': 1, 'snow': {'3h': 7.62}, 'sys': {'pod': 'd'}, 'dt_txt': '2024-10-11 15:00:00'}, {'dt': 1728669600, 'main': {'temp': 275.25, 'feels_like': 272.74, 'temp_min': 275.25, 'temp_max': 275.25, 'pressure': 992, 'sea_level': 992, 'grnd_level': 941, 'humidity': 99, 'temp_kf': 0}, 'weather': [{'id': 601, 'main': 'Snow', 'description': 'snow', 'icon': '13n'}], 'clouds': {'all': 100}, 'wind': {'speed': 2.37, 'deg': 303, 'gust': 3.07}, 'visibility': 184, 'pop': 1, 'snow': {'3h': 6.91}, 'sys': {'pod': 'n'}, 'dt_txt': '2024-10-11 18:00:00'}, {'dt': 1728680400, 'main': {'temp': 275.13, 'feels_like': 273.26, 'temp_min': 275.13, 'temp_max': 275.13, 'pressure': 993, 'sea_level': 993, 'grnd_level': 942, 'humidity': 99, 'temp_kf': 0}, 'weather': [{'id': 601, 'main': 'Snow', 'description': 'snow', 'icon': '13n'}], 'clouds': {'all': 100}, 'wind': {'speed': 1.79, 'deg': 284, 'gust': 2.3}, 'visibility': 186, 'pop': 1, 'snow': {'3h': 2.04}, 'sys': {'pod': 'n'}, 'dt_txt': '2024-10-11 21:00:00'}, {'dt': 1728691200, 'main': {'temp': 276, 'feels_like': 272.68, 'temp_min': 276, 'temp_max': 276, 'pressure': 995, 'sea_level': 995, 'grnd_level': 944, 'humidity': 99, 'temp_kf': 0}, 'weather': [{'id': 600, 'main': 'Snow', 'description': 'light snow', 'icon': '13n'}], 'clouds': {'all': 100}, 'wind': {'speed': 3.53, 'deg': 263, 'gust': 4.29}, 'visibility': 31, 'pop': 1, 'snow': {'3h': 1.14}, 'sys': {'pod': 'n'}, 'dt_txt': '2024-10-12 00:00:00'}, {'dt': 1728702000, 'main': {'temp': 274.11, 'feels_like': 270.3, 'temp_min': 274.11, 'temp_max': 274.11, 'pressure': 999, 'sea_level': 999, 'grnd_level': 947, 'humidity': 96, 'temp_kf': 0}, 'weather': [{'id': 600, 'main': 'Snow', 'description': 'light snow', 'icon': '13n'}], 'clouds': {'all': 100}, 'wind': {'speed': 3.64, 'deg': 245, 'gust': 3.53}, 'visibility': 10000, 'pop': 1, 'snow': {'3h': 0.57}, 'sys': {'pod': 'n'}, 'dt_txt': '2024-10-12 03:00:00'}, {'dt': 1728712800, 'main': {'temp': 269.94, 'feels_like': 265.92, 'temp_min': 269.94, 'temp_max': 269.94, 'pressure': 1002, 'sea_level': 1002, 'grnd_level': 949, 'humidity': 95, 'temp_kf': 0}, 'weather': [{'id': 600, 'main': 'Snow', 'description': 'light snow', 'icon': '13d'}], 'clouds': {'all': 90}, 'wind': {'speed': 2.87, 'deg': 216, 'gust': 2.17}, 'visibility': 10000, 'pop': 1, 'snow': {'3h': 0.3}, 'sys': {'pod': 'd'}, 'dt_txt': '2024-10-12 06:00:00'}, {'dt': 1728723600, 'main': {'temp': 274.72, 'feels_like': 271.89, 'temp_min': 274.72, 'temp_max': 274.72, 'pressure': 1004, 'sea_level': 1004, 'grnd_level': 952, 'humidity': 87, 'temp_kf': 0}, 'weather': [{'id': 500, 'main': 'Rain', 'description': 'light rain', 'icon': '10d'}], 'clouds': {'all': 61}, 'wind': {'speed': 2.6, 'deg': 225, 'gust': 3.03}, 'visibility': 10000, 'pop': 0.37, 'rain': {'3h': 0.15}, 'sys': {'pod': 'd'}, 'dt_txt': '2024-10-12 09:00:00'}, {'dt': 1728734400, 'main': {'temp': 276.17, 'feels_like': 273.96, 'temp_min': 276.17, 'temp_max': 276.17, 'pressure': 1006, 'sea_level': 1006, 'grnd_level': 954, 'humidity': 90, 'temp_kf': 0}, 'weather': [{'id': 500, 'main': 'Rain', 'description': 'light rain', 'icon': '10d'}], 'clouds': {'all': 73}, 'wind': {'speed': 2.24, 'deg': 236, 'gust': 3.39}, 'visibility': 10000, 'pop': 0.39, 'rain': {'3h': 0.18}, 'sys': {'pod': 'd'}, 'dt_txt': '2024-10-12 12:00:00'}, {'dt': 1728745200, 'main': {'temp': 272.15, 'feels_like': 272.15, 'temp_min': 272.15, 'temp_max': 272.15, 'pressure': 1008, 'sea_level': 1008, 'grnd_level': 955, 'humidity': 87, 'temp_kf': 0}, 'weather': [{'id': 804, 'main': 'Clouds', 'description': 'overcast clouds', 'icon': '04d'}], 'clouds': {'all': 95}, 'wind': {'speed': 1.24, 'deg': 164, 'gust': 1.82}, 'visibility': 10000, 'pop': 0, 'sys': {'pod': 'd'}, 'dt_txt': '2024-10-12 15:00:00'}], 'city': {'id': 3145614, 'name': 'Mo i Rana', 'coord': {'lat': 66.3128, 'lon': 14.1428}, 'country': 'NO', 'population': 17853, 'timezone': 7200, 'sunrise': 1728279280, 'sunset': 1728317245}}\")\n"
     ]
    }
   ],
   "source": [
    "# Query the data\n",
    "forecast_rows = session.execute(\"SELECT * FROM forecast_table;\")\n",
    "print(forecast_rows.one()) # <- only one row"
   ]
  },
  {
   "cell_type": "markdown",
   "metadata": {
    "slideshow": {
     "slide_type": "slide"
    }
   },
   "source": [
    "```{seealso} Resources\n",
    ":class: tip\n",
    "- [Cassandra webpage](https://cassandra.apache.org/)\n",
    "- [Cassandra Docker file](https://hub.docker.com/_/cassandra)\n",
    "- [UUID functions](https://docs.datastax.com/en/cql-oss/3.3/cql/cql_reference/timeuuid_functions_r.html)\n",
    "- [YouTube: Cassandra in 100 seconds](https://youtu.be/ziq7FUKpCS8?si=WQUdkHFvaBmT0DBo) (2m:26s)\n",
    "- [YouTube: How to use Apache Cassandra in Python](https://youtu.be/qMauZqJH3ZM?si=yKGZ-5cld2BK396Y) (14m:50s)\n",
    "- [YouTube: Cassandra Database Crash Course](https://youtu.be/KZsVSfQVU4I?si=FBCi8qOfCirfVmZk) (19m:47s)\n",
    "```"
   ]
  }
 ],
 "metadata": {
  "celltoolbar": "Slideshow",
  "kernelspec": {
   "display_name": "Python 3 (ipykernel)",
   "language": "python",
   "name": "python3"
  },
  "language_info": {
   "codemirror_mode": {
    "name": "ipython",
    "version": 3
   },
   "file_extension": ".py",
   "mimetype": "text/x-python",
   "name": "python",
   "nbconvert_exporter": "python",
   "pygments_lexer": "ipython3",
   "version": "3.12.4"
  }
 },
 "nbformat": 4,
 "nbformat_minor": 4
}