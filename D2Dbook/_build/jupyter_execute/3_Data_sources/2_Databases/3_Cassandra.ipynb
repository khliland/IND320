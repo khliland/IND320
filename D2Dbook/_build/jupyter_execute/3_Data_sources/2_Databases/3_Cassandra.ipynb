{
 "cells": [
  {
   "cell_type": "markdown",
   "metadata": {
    "slideshow": {
     "slide_type": "slide"
    }
   },
   "source": [
    "# Cassandra\n",
    "- A production grade NoSQL database.\n",
    "- Can be distributed across servers, nodes, etc.\n",
    "- Replication of database is supported for high degree of redundancy and speed.\n",
    "- Uses CQL, a subset of SQL for querying.\n",
    "- Works seamlesly together with Spark and its corresponding distributed structure.\n",
    "- Installation of Cassandra is explained in the [Installation chapter](../../7_Appendix/Installation.ipynb)."
   ]
  },
  {
   "cell_type": "markdown",
   "metadata": {
    "slideshow": {
     "slide_type": "slide"
    }
   },
   "source": [
    "## Spinning up a local Cassandra instance\n",
    "In a terminal, first time:  \n",
    "```docker run --name my_cassandra -p 9042:9042 cassandra:latest```  \n",
    "... and later:  \n",
    "```docker start my_cassandra```  \n",
    "  \n",
    ".. or in Docker Desktop:\n",
    "- Run the cassandra docker image with optional settings, opening 9042 port and setting a name.\n",
    "- Later, simply run the container with the name you chose."
   ]
  },
  {
   "cell_type": "markdown",
   "metadata": {
    "slideshow": {
     "slide_type": "slide"
    }
   },
   "source": [
    "<img src=\"https://github.com/khliland/IND320/blob/main/D2Dbook/images/Docker_images.png?raw=TRUE\" width=\"600px\">  "
   ]
  },
  {
   "cell_type": "markdown",
   "metadata": {
    "slideshow": {
     "slide_type": "slide"
    }
   },
   "source": [
    "\n",
    "<img src=\"https://github.com/khliland/IND320/blob/main/D2Dbook/images/Docker_containers.png?raw=TRUE\" width=\"800px\">  "
   ]
  },
  {
   "cell_type": "markdown",
   "metadata": {
    "slideshow": {
     "slide_type": "slide"
    }
   },
   "source": [
    "### Connect to the Cassandra cluster from Python."
   ]
  },
  {
   "cell_type": "code",
   "execution_count": 1,
   "metadata": {
    "ExecuteTime": {
     "end_time": "2024-08-17T10:25:34.787878Z",
     "start_time": "2024-08-17T10:25:34.389367Z"
    },
    "slideshow": {
     "slide_type": "fragment"
    },
    "tags": []
   },
   "outputs": [],
   "source": [
    "# Connecting to Cassandra\n",
    "from cassandra.cluster import Cluster\n",
    "cluster = Cluster(['localhost'], port=9042)\n",
    "session = cluster.connect()"
   ]
  },
  {
   "cell_type": "markdown",
   "metadata": {
    "slideshow": {
     "slide_type": "slide"
    }
   },
   "source": [
    "### Keyspace\n",
    "- In Cassandra database tables are stored in keyspaces (basically a distributed database).\n",
    "- These have parameters controlling their distribution on nodes/servers and redundancy.\n",
    "- We will use the simplest form locally."
   ]
  },
  {
   "cell_type": "code",
   "execution_count": 2,
   "metadata": {
    "ExecuteTime": {
     "end_time": "2024-08-17T10:25:34.798504Z",
     "start_time": "2024-08-17T10:25:34.789786Z"
    },
    "slideshow": {
     "slide_type": "fragment"
    },
    "tags": []
   },
   "outputs": [
    {
     "data": {
      "text/plain": [
       "<cassandra.cluster.ResultSet at 0x104ec2720>"
      ]
     },
     "execution_count": 2,
     "metadata": {},
     "output_type": "execute_result"
    }
   ],
   "source": [
    "# Set up new keyspace (first time only)\n",
    "#                                              name of keyspace                        replication strategy           replication factor\n",
    "session.execute(\"CREATE KEYSPACE IF NOT EXISTS my_first_keyspace WITH REPLICATION = { 'class' : 'SimpleStrategy', 'replication_factor' : 1 };\")"
   ]
  },
  {
   "cell_type": "markdown",
   "metadata": {
    "slideshow": {
     "slide_type": "slide"
    }
   },
   "source": [
    "### Create a table\n",
    "- IF NOT EXISTS makes sure we do not overwrite existing tables"
   ]
  },
  {
   "cell_type": "code",
   "execution_count": 3,
   "metadata": {
    "ExecuteTime": {
     "end_time": "2024-08-17T10:25:35.347394Z",
     "start_time": "2024-08-17T10:25:34.800008Z"
    },
    "slideshow": {
     "slide_type": "fragment"
    },
    "tags": []
   },
   "outputs": [
    {
     "data": {
      "text/plain": [
       "<cassandra.cluster.ResultSet at 0x103fd4230>"
      ]
     },
     "execution_count": 3,
     "metadata": {},
     "output_type": "execute_result"
    }
   ],
   "source": [
    "# Create a new table (first time only)\n",
    "session.set_keyspace('my_first_keyspace')\n",
    "session.execute(\"DROP TABLE IF EXISTS my_first_keyspace.my_first_table;\") # Starting from scratch every time\n",
    "session.execute(\"CREATE TABLE IF NOT EXISTS my_first_table (ind int PRIMARY KEY, company text, model text);\")"
   ]
  },
  {
   "cell_type": "markdown",
   "metadata": {
    "slideshow": {
     "slide_type": "slide"
    }
   },
   "source": [
    "### Inserting and reading data"
   ]
  },
  {
   "cell_type": "code",
   "execution_count": 4,
   "metadata": {
    "ExecuteTime": {
     "end_time": "2024-08-17T10:25:35.366363Z",
     "start_time": "2024-08-17T10:25:35.350453Z"
    },
    "slideshow": {
     "slide_type": "fragment"
    },
    "tags": []
   },
   "outputs": [
    {
     "data": {
      "text/plain": [
       "<cassandra.cluster.ResultSet at 0x105a98500>"
      ]
     },
     "execution_count": 4,
     "metadata": {},
     "output_type": "execute_result"
    }
   ],
   "source": [
    "# Insert some data (ind is the primary key, must be unique)\n",
    "session.execute(\"INSERT INTO my_first_table (ind, company, model) VALUES (1, 'Tesla', 'Model S');\")\n",
    "session.execute(\"INSERT INTO my_first_table (ind, company, model) VALUES (2, 'Tesla', 'Model 3');\")\n",
    "session.execute(\"INSERT INTO my_first_table (ind, company, model) VALUES (3, 'Polestar', '3');\")"
   ]
  },
  {
   "cell_type": "code",
   "execution_count": 5,
   "metadata": {},
   "outputs": [
    {
     "name": "stdout",
     "output_type": "stream",
     "text": [
      "Row(ind=1, company='Tesla', model='Model S')\n",
      "Row(ind=2, company='Tesla', model='Model 3')\n",
      "Row(ind=3, company='Polestar', model='3')\n"
     ]
    }
   ],
   "source": [
    "# Query the data\n",
    "rows = session.execute(\"SELECT * FROM my_first_table;\")\n",
    "for i in rows:\n",
    "    print(i)"
   ]
  },
  {
   "cell_type": "markdown",
   "metadata": {
    "slideshow": {
     "slide_type": "slide"
    },
    "tags": []
   },
   "source": [
    "### Case sensitivity\n",
    "- Cassandra is by default case insensitive in column names.\n",
    "- To use column names with capital letters, use double quotation marks both when creating tables and when inserting data.\n",
    "- The effect of insensitivity may be surprising.\n",
    "    - Look carefully at the use of quotation marks and error message below."
   ]
  },
  {
   "cell_type": "code",
   "execution_count": 6,
   "metadata": {
    "slideshow": {
     "slide_type": "slide"
    },
    "tags": []
   },
   "outputs": [
    {
     "data": {
      "text/plain": [
       "<cassandra.cluster.ResultSet at 0x105a9aa50>"
      ]
     },
     "execution_count": 6,
     "metadata": {},
     "output_type": "execute_result"
    }
   ],
   "source": [
    "session.set_keyspace('my_first_keyspace')\n",
    "session.execute(\"DROP TABLE IF EXISTS my_first_keyspace.case_insensitive;\") # Starting from scratch every time\n",
    "session.execute(\"CREATE TABLE IF NOT EXISTS case_insensitive (Capital int PRIMARY KEY, Letters text, Everywhere text);\")\n",
    "session.execute(\"DROP TABLE IF EXISTS my_first_keyspace.case_sensitive;\") # Starting from scratch every time\n",
    "session.execute(\"CREATE TABLE IF NOT EXISTS case_sensitive (\\\"Capital\\\" int PRIMARY KEY, \\\"Letters\\\" text, \\\"Everywhere\\\" text);\")"
   ]
  },
  {
   "cell_type": "code",
   "execution_count": 7,
   "metadata": {
    "slideshow": {
     "slide_type": "fragment"
    },
    "tags": []
   },
   "outputs": [
    {
     "data": {
      "text/plain": [
       "<cassandra.cluster.ResultSet at 0x103fa0a40>"
      ]
     },
     "execution_count": 7,
     "metadata": {},
     "output_type": "execute_result"
    }
   ],
   "source": [
    "session.execute(\"INSERT INTO case_insensitive (Capital, Letters, Everywhere) VALUES (1, 'Tesla', 'Model S');\")"
   ]
  },
  {
   "cell_type": "code",
   "execution_count": 8,
   "metadata": {
    "slideshow": {
     "slide_type": "fragment"
    },
    "tags": [
     "raises-exception"
    ]
   },
   "outputs": [
    {
     "ename": "InvalidRequest",
     "evalue": "Error from server: code=2200 [Invalid query] message=\"Undefined column name capital in table my_first_keyspace.case_sensitive\"",
     "output_type": "error",
     "traceback": [
      "\u001b[0;31m---------------------------------------------------------------------------\u001b[0m",
      "\u001b[0;31mInvalidRequest\u001b[0m                            Traceback (most recent call last)",
      "Cell \u001b[0;32mIn[8], line 1\u001b[0m\n\u001b[0;32m----> 1\u001b[0m \u001b[43msession\u001b[49m\u001b[38;5;241;43m.\u001b[39;49m\u001b[43mexecute\u001b[49m\u001b[43m(\u001b[49m\u001b[38;5;124;43m\"\u001b[39;49m\u001b[38;5;124;43mINSERT INTO case_sensitive (Capital, Letters, Everywhere) VALUES (1, \u001b[39;49m\u001b[38;5;124;43m'\u001b[39;49m\u001b[38;5;124;43mTesla\u001b[39;49m\u001b[38;5;124;43m'\u001b[39;49m\u001b[38;5;124;43m, \u001b[39;49m\u001b[38;5;124;43m'\u001b[39;49m\u001b[38;5;124;43mModel S\u001b[39;49m\u001b[38;5;124;43m'\u001b[39;49m\u001b[38;5;124;43m);\u001b[39;49m\u001b[38;5;124;43m\"\u001b[39;49m\u001b[43m)\u001b[49m\n",
      "File \u001b[0;32m~/miniforge3/envs/IND320_2024/lib/python3.12/site-packages/cassandra/cluster.py:2677\u001b[0m, in \u001b[0;36mcassandra.cluster.Session.execute\u001b[0;34m()\u001b[0m\n",
      "File \u001b[0;32m~/miniforge3/envs/IND320_2024/lib/python3.12/site-packages/cassandra/cluster.py:4956\u001b[0m, in \u001b[0;36mcassandra.cluster.ResponseFuture.result\u001b[0;34m()\u001b[0m\n",
      "\u001b[0;31mInvalidRequest\u001b[0m: Error from server: code=2200 [Invalid query] message=\"Undefined column name capital in table my_first_keyspace.case_sensitive\""
     ]
    }
   ],
   "source": [
    "session.execute(\"INSERT INTO case_sensitive (Capital, Letters, Everywhere) VALUES (1, 'Tesla', 'Model S');\")"
   ]
  },
  {
   "cell_type": "code",
   "execution_count": 9,
   "metadata": {
    "slideshow": {
     "slide_type": "fragment"
    },
    "tags": []
   },
   "outputs": [
    {
     "data": {
      "text/plain": [
       "<cassandra.cluster.ResultSet at 0x105aafc20>"
      ]
     },
     "execution_count": 9,
     "metadata": {},
     "output_type": "execute_result"
    }
   ],
   "source": [
    "session.execute(\"INSERT INTO case_sensitive (\\\"Capital\\\", \\\"Letters\\\", \\\"Everywhere\\\") VALUES (1, 'Tesla', 'Model S');\")"
   ]
  },
  {
   "cell_type": "code",
   "execution_count": 10,
   "metadata": {
    "slideshow": {
     "slide_type": "slide"
    },
    "tags": []
   },
   "outputs": [
    {
     "name": "stdout",
     "output_type": "stream",
     "text": [
      "Row(capital=1, everywhere='Model S', letters='Tesla')\n",
      "Row(Capital=1, Everywhere='Model S', Letters='Tesla')\n"
     ]
    }
   ],
   "source": [
    "# Query the data\n",
    "rows = session.execute(\"SELECT * FROM case_insensitive;\")\n",
    "for i in rows:\n",
    "    print(i)\n",
    "rows = session.execute(\"SELECT * FROM case_sensitive;\")\n",
    "for i in rows:\n",
    "    print(i)"
   ]
  },
  {
   "cell_type": "markdown",
   "metadata": {
    "slideshow": {
     "slide_type": "slide"
    }
   },
   "source": [
    "### Asyncronous writing\n",
    "- If your application is very data intensive, waiting for a response is not productive.\n",
    "- Writing asyncronously sends the data but does not pause for reply."
   ]
  },
  {
   "cell_type": "code",
   "execution_count": 11,
   "metadata": {
    "ExecuteTime": {
     "end_time": "2024-08-17T10:25:35.371390Z",
     "start_time": "2024-08-17T10:25:35.367159Z"
    },
    "slideshow": {
     "slide_type": "fragment"
    },
    "tags": []
   },
   "outputs": [
    {
     "data": {
      "text/plain": [
       "<ResponseFuture: query='<SimpleStatement query=\"INSERT INTO my_first_table (ind, company, model) VALUES (4, 'Volkswagen', 'ID.4');\", consistency=Not Set>' request_id=63 result=(no result yet) exception=None coordinator_host=None>"
      ]
     },
     "execution_count": 11,
     "metadata": {},
     "output_type": "execute_result"
    }
   ],
   "source": [
    "session.execute_async(\"INSERT INTO my_first_table (ind, company, model) VALUES (4, 'Volkswagen', 'ID.4');\")"
   ]
  },
  {
   "cell_type": "code",
   "execution_count": 12,
   "metadata": {
    "ExecuteTime": {
     "end_time": "2024-08-17T10:25:35.384736Z",
     "start_time": "2024-08-17T10:25:35.372551Z"
    },
    "slideshow": {
     "slide_type": "slide"
    },
    "tags": []
   },
   "outputs": [
    {
     "name": "stdout",
     "output_type": "stream",
     "text": [
      "Row(ind=1, company='Tesla', model='Model S')\n",
      "Row(ind=2, company='Tesla', model='Model 3')\n",
      "Row(ind=4, company='Volkswagen', model='ID.4')\n",
      "Row(ind=3, company='Polestar', model='3')\n"
     ]
    }
   ],
   "source": [
    "# Query the data\n",
    "rows = session.execute(\"SELECT * FROM my_first_table;\")\n",
    "for i in rows:\n",
    "    print(i)"
   ]
  },
  {
   "cell_type": "code",
   "execution_count": 13,
   "metadata": {
    "ExecuteTime": {
     "end_time": "2024-08-17T10:25:35.402371Z",
     "start_time": "2024-08-17T10:25:35.386980Z"
    },
    "slideshow": {
     "slide_type": "slide"
    },
    "tags": [
     "raises-exception"
    ]
   },
   "outputs": [
    {
     "name": "stdout",
     "output_type": "stream",
     "text": [
      "Row(ind=1, company='Tesla', model='Model S')\n",
      "Row(ind=2, company='Tesla', model='Model 3')\n"
     ]
    }
   ],
   "source": [
    "# More specific query\n",
    "prepared_statement = session.prepare(\"SELECT * FROM my_first_table WHERE company=? ALLOW FILTERING;\")\n",
    "teslas = session.execute(prepared_statement, ['Tesla'])\n",
    "for i in teslas:\n",
    "    print(i)"
   ]
  },
  {
   "cell_type": "markdown",
   "metadata": {
    "slideshow": {
     "slide_type": "slide"
    }
   },
   "source": [
    "## Cassandra filtering\n",
    "Cassandra is inherently a distributed production database. Selecting as above may require downloading all data from a node, then filtering based on the WHERE part (only PRIMARY KEYs are centrally known). Solutions:  \n",
    "- If the table is small or most of the data will satisfy the query, add ```ALLOW FILTERING``` at the end of the query (not recommended if not known). \n",
    "- Or make sure the WHERE clause points to one of the keys (see below)."
   ]
  },
  {
   "cell_type": "code",
   "execution_count": 14,
   "metadata": {
    "ExecuteTime": {
     "end_time": "2024-08-17T10:25:35.613711Z",
     "start_time": "2024-08-17T10:25:35.403622Z"
    },
    "slideshow": {
     "slide_type": "slide"
    },
    "tags": []
   },
   "outputs": [
    {
     "data": {
      "text/plain": [
       "<cassandra.cluster.ResultSet at 0x104e02de0>"
      ]
     },
     "execution_count": 14,
     "metadata": {},
     "output_type": "execute_result"
    }
   ],
   "source": [
    "# Create a new table (observe keys)\n",
    "session.execute(\"DROP TABLE IF EXISTS my_first_keyspace.car_table;\")\n",
    "session.execute(\"CREATE TABLE IF NOT EXISTS car_table (company text, model text, PRIMARY KEY(company, model));\")"
   ]
  },
  {
   "cell_type": "code",
   "execution_count": 15,
   "metadata": {
    "ExecuteTime": {
     "end_time": "2024-08-17T10:25:35.628950Z",
     "start_time": "2024-08-17T10:25:35.615126Z"
    },
    "slideshow": {
     "slide_type": "fragment"
    },
    "tags": []
   },
   "outputs": [
    {
     "data": {
      "text/plain": [
       "<cassandra.cluster.ResultSet at 0x105abde50>"
      ]
     },
     "execution_count": 15,
     "metadata": {},
     "output_type": "execute_result"
    }
   ],
   "source": [
    "# Insert some data (combination of company and model must be unique)\n",
    "session.execute(\"INSERT INTO car_table (company, model) VALUES ('Tesla', 'Model S');\")\n",
    "session.execute(\"INSERT INTO car_table (company, model) VALUES ('Tesla', 'Model 3');\")\n",
    "session.execute(\"INSERT INTO car_table (company, model) VALUES ('Polestar', '3');\")\n",
    "session.execute(\"INSERT INTO car_table (company, model) VALUES ('Volkswagen', 'ID.4');\")"
   ]
  },
  {
   "cell_type": "code",
   "execution_count": 16,
   "metadata": {
    "ExecuteTime": {
     "end_time": "2024-08-17T10:25:35.639765Z",
     "start_time": "2024-08-17T10:25:35.630657Z"
    },
    "slideshow": {
     "slide_type": "slide"
    },
    "tags": []
   },
   "outputs": [
    {
     "name": "stdout",
     "output_type": "stream",
     "text": [
      "Row(company='Tesla', model='Model 3')\n",
      "Row(company='Tesla', model='Model S')\n"
     ]
    }
   ],
   "source": [
    "# More specific query now works\n",
    "prepared_statement = session.prepare(\"SELECT * FROM car_table WHERE company=?;\")\n",
    "teslas = session.execute(prepared_statement, ['Tesla'])\n",
    "for i in teslas:\n",
    "    print(i)"
   ]
  },
  {
   "cell_type": "markdown",
   "metadata": {
    "slideshow": {
     "slide_type": "slide"
    }
   },
   "source": [
    "### Partitions\n",
    "- Cassandra databases are usually replicated over different nodes.\n",
    "- Data is stored in partitions (subsets) which have local copys.\n",
    "- The primary key, e.g., PRIMARY KEY(company, model), is used in partitioning.\n",
    "    - The first part, e.g., company, is most important.\n",
    "    - All cars from a company will be located together, aiming for quicker queries."
   ]
  },
  {
   "cell_type": "markdown",
   "metadata": {
    "slideshow": {
     "slide_type": "slide"
    }
   },
   "source": [
    "### Unique IDs \n",
    "- In MySQL one could use the attribute AUTO_INCREMENT on integer IDs to automatically make a new unique index when inserting data.\n",
    "- This would cause unreasonable overhead in a distributed database.\n",
    "- [UUID](https://en.wikipedia.org/wiki/Universally_unique_identifier)s are used instead.\n",
    "    - Universally Unique Identifiers are typically 128-bit random bit sequences with extremely low probability of duplication.\n",
    "    - Cassandra uses a [timeuuid](https://docs.datastax.com/en/cql-oss/3.3/cql/cql_reference/timeuuid_functions_r.html) type to combine a timestamp and uuid in one."
   ]
  },
  {
   "cell_type": "code",
   "execution_count": 17,
   "metadata": {
    "ExecuteTime": {
     "end_time": "2024-08-17T10:25:35.766003Z",
     "start_time": "2024-08-17T10:25:35.640600Z"
    },
    "slideshow": {
     "slide_type": "fragment"
    },
    "tags": []
   },
   "outputs": [
    {
     "data": {
      "text/plain": [
       "<cassandra.cluster.ResultSet at 0x105abfd70>"
      ]
     },
     "execution_count": 17,
     "metadata": {},
     "output_type": "execute_result"
    }
   ],
   "source": [
    "# Create a new table (first time only)\n",
    "session.set_keyspace('my_first_keyspace')\n",
    "session.execute(\"DROP TABLE IF EXISTS my_first_keyspace.table_with_uuid;\")\n",
    "session.execute(\"CREATE TABLE IF NOT EXISTS table_with_uuid (id timeuuid PRIMARY KEY, company text, model text, price float);\")"
   ]
  },
  {
   "cell_type": "code",
   "execution_count": 18,
   "metadata": {
    "ExecuteTime": {
     "end_time": "2024-08-17T10:25:35.784876Z",
     "start_time": "2024-08-17T10:25:35.766619Z"
    },
    "slideshow": {
     "slide_type": "slide"
    },
    "tags": []
   },
   "outputs": [
    {
     "data": {
      "text/plain": [
       "<cassandra.cluster.ResultSet at 0x105ae3560>"
      ]
     },
     "execution_count": 18,
     "metadata": {},
     "output_type": "execute_result"
    }
   ],
   "source": [
    "session.execute(\"INSERT INTO table_with_uuid (id, company, model, price) VALUES (now(), 'Tesla', 'Model S', 20000.0);\")\n",
    "session.execute(\"INSERT INTO table_with_uuid (id, company, model, price) VALUES (now(), 'Tesla', 'Model S', 21000.0);\")\n",
    "session.execute(\"INSERT INTO table_with_uuid (id, company, model, price) VALUES (now(), 'Oldsmobile', 'Model 6C', 135000.0);\")"
   ]
  },
  {
   "cell_type": "code",
   "execution_count": 19,
   "metadata": {
    "ExecuteTime": {
     "end_time": "2024-08-17T10:25:35.792934Z",
     "start_time": "2024-08-17T10:25:35.785467Z"
    },
    "slideshow": {
     "slide_type": "slide"
    },
    "tags": []
   },
   "outputs": [
    {
     "name": "stdout",
     "output_type": "stream",
     "text": [
      "Row(id=UUID('3d19e370-a1a4-11ef-817a-0bca323a638d'), company='Tesla', model='Model S', price=20000.0)\n",
      "Datetime: 2024-11-13 09:47:04.359000\n",
      "Row(id=UUID('3d1a3190-a1a4-11ef-817a-0bca323a638d'), company='Tesla', model='Model S', price=21000.0)\n",
      "Datetime: 2024-11-13 09:47:04.361000\n",
      "Row(id=UUID('3d1a7fb0-a1a4-11ef-817a-0bca323a638d'), company='Oldsmobile', model='Model 6C', price=135000.0)\n",
      "Datetime: 2024-11-13 09:47:04.363000\n"
     ]
    }
   ],
   "source": [
    "from cassandra.util import datetime_from_uuid1\n",
    "\n",
    "# Query the data\n",
    "rows = session.execute(\"SELECT * FROM table_with_uuid;\")\n",
    "for i in rows:\n",
    "    print(i)\n",
    "    # Extract the timestamp from Cassandra's timeuuid\n",
    "    print(\"Datetime:\", datetime_from_uuid1(i.id))"
   ]
  },
  {
   "cell_type": "markdown",
   "metadata": {
    "slideshow": {
     "slide_type": "slide"
    }
   },
   "source": [
    "## JSON in Cassandra\n",
    "### Read previously saved JSON file forecast.json to memory"
   ]
  },
  {
   "cell_type": "code",
   "execution_count": 20,
   "metadata": {
    "ExecuteTime": {
     "end_time": "2024-08-17T10:25:35.796049Z",
     "start_time": "2024-08-17T10:25:35.793437Z"
    },
    "slideshow": {
     "slide_type": "fragment"
    },
    "tags": []
   },
   "outputs": [],
   "source": [
    "import json\n",
    "with open('../3_APIs/downloads/forecast.json', 'r') as f:\n",
    "    forecast = json.load(f)"
   ]
  },
  {
   "cell_type": "code",
   "execution_count": 21,
   "metadata": {
    "ExecuteTime": {
     "end_time": "2024-08-17T10:25:35.799114Z",
     "start_time": "2024-08-17T10:25:35.796532Z"
    },
    "slideshow": {
     "slide_type": "slide"
    },
    "tags": []
   },
   "outputs": [
    {
     "data": {
      "text/plain": [
       "\"{'cod': '200', 'message': 0, 'cnt': 40, 'list': [{'dt': 1731499200, 'main': {'temp': 278.51, 'feels_like': 274.27, 'temp_min': 277.76, 'temp_max': 278.51, 'pressure': 1008, 'sea_level': 1008, 'grnd_level': 955, 'humidity': 93, 'temp_kf': 0.75}, 'weather': [{'id': 601, 'main': 'Snow', 'description': 'snow', 'icon': '13d'}], 'clouds': {'all': 83}, 'wind': {'speed': 6.6, 'deg': 245, 'gust': 14.28}, 'visibility': 2062, 'pop': 1, 'snow': {'3h': 2.29}, 'sys': {'pod': 'd'}, 'dt_txt': '2024-11-13 12:00:00'}, {'dt': 1731510000, 'main': {'temp': 278.16, 'feels_like': 272.64, 'temp_min': 277.79, 'temp_max': 278.16, 'pressure': 1006, 'sea_level': 1006, 'grnd_level': 954, 'humidity': 91, 'temp_kf': 0.37}, 'weather': [{'id': 601, 'main': 'Snow', 'description': 'snow', 'icon': '13n'}], 'clouds': {'all': 92}, 'wind': {'speed': 10.42, 'deg': 256, 'gust': 17.02}, 'visibility': 569, 'pop': 1, 'snow': {'3h': 1.99}, 'sys': {'pod': 'n'}, 'dt_txt': '2024-11-13 15:00:00'}, {'dt': 1731520800, 'main': {'temp': 276.53, 'feels_like': 270.63, 'temp_min': 276.53, 'temp_max': 276.53, 'pressure': 1004, 'sea_level': 1004, 'grnd_level': 953, 'humidity': 97, 'temp_kf': 0}, 'weather': [{'id': 601, 'main': 'Snow', 'description': 'snow', 'icon': '13n'}], 'clouds': {'all': 100}, 'wind': {'speed': 9.86, 'deg': 258, 'gust': 16.84}, 'visibility': 68, 'pop': 1, 'snow': {'3h': 2.21}, 'sys': {'pod': 'n'}, 'dt_txt': '2024-11-13 18:00:00'}, {'dt': 1731531600, 'main': {'temp': 276.13, 'feels_like': 270.26, 'temp_min': 276.13, 'temp_max': 276.13, 'pressure': 1003, 'sea_level': 1003, 'grnd_level': 952, 'humidity': 98, 'temp_kf': 0}, 'weather': [{'id': 601, 'main': 'Snow', 'description': 'snow', 'icon': '13n'}], 'clouds': {'all': 100}, 'wind': {'speed': 9.34, 'deg': 249, 'gust': 15.1}, 'visibility': 102, 'pop': 1, 'snow': {'3h': 4.1}, 'sys': {'pod': 'n'}, 'dt_txt': '2024-11-13 21:00:00'}, {'dt': 1731542400, 'main': {'temp': 275.41, 'feels_like': 270.3, 'temp_min': 275.41, 'temp_max': 275.41, 'pressure': 1005, 'sea_level': 1005, 'grnd_level': 953, 'humidity': 97, 'temp_kf': 0}, 'weather': [{'id': 601, 'main': 'Snow', 'description': 'snow', 'icon': '13n'}], 'clouds': {'all': 100}, 'wind': {'speed': 6.6, 'deg': 254, 'gust': 13.78}, 'visibility': 193, 'pop': 1, 'snow': {'3h': 3.16}, 'sys': {'pod': 'n'}, 'dt_txt': '2024-11-14 00:00:00'}, {'dt': 1731553200, 'main': {'temp': 275.07, 'feels_like': 270.29, 'temp_min': 275.07, 'temp_max': 275.07, 'pressure': 1006, 'sea_level': 1006, 'grnd_level': 954, 'humidity': 96, 'temp_kf': 0}, 'weather': [{'id': 601, 'main': 'Snow', 'description': 'snow', 'icon': '13n'}], 'clouds': {'all': 100}, 'wind': {'speed': 5.67, 'deg': 257, 'gust': 12.26}, 'visibility': 246, 'pop': 1, 'snow': {'3h': 1.83}, 'sys': {'pod': 'n'}, 'dt_txt': '2024-11-14 03:00:00'}, {'dt': 1731564000, 'main': {'temp': 274.85, 'feels_like': 269.92, 'temp_min': 274.85, 'temp_max': 274.85, 'pressure': 1006, 'sea_level': 1006, 'grnd_level': 954, 'humidity': 95, 'temp_kf': 0}, 'weather': [{'id': 601, 'main': 'Snow', 'description': 'snow', 'icon': '13n'}], 'clouds': {'all': 100}, 'wind': {'speed': 5.87, 'deg': 256, 'gust': 12.91}, 'visibility': 282, 'pop': 1, 'snow': {'3h': 1.51}, 'sys': {'pod': 'n'}, 'dt_txt': '2024-11-14 06:00:00'}, {'dt': 1731574800, 'main': {'temp': 275.14, 'feels_like': 269.71, 'temp_min': 275.14, 'temp_max': 275.14, 'pressure': 1007, 'sea_level': 1007, 'grnd_level': 955, 'humidity': 88, 'temp_kf': 0}, 'weather': [{'id': 600, 'main': 'Snow', 'description': 'light snow', 'icon': '13d'}], 'clouds': {'all': 100}, 'wind': {'speed': 7.22, 'deg': 262, 'gust': 14.48}, 'visibility': 4451, 'pop': 1, 'snow': {'3h': 0.75}, 'sys': {'pod': 'd'}, 'dt_txt': '2024-11-14 09:00:00'}, {'dt': 1731585600, 'main': {'temp': 276.05, 'feels_like': 270.86, 'temp_min': 276.05, 'temp_max': 276.05, 'pressure': 1006, 'sea_level': 1006, 'grnd_level': 954, 'humidity': 98, 'temp_kf': 0}, 'weather': [{'id': 600, 'main': 'Snow', 'description': 'light snow', 'icon': '13d'}], 'clouds': {'all': 100}, 'wind': {'speed': 7.27, 'deg': 252, 'gust': 14.11}, 'visibility': 127, 'pop': 1, 'snow': {'3h': 0.83}, 'sys': {'pod': 'd'}, 'dt_txt': '2024-11-14 12:00:00'}, {'dt': 1731596400, 'main': {'temp': 276.38, 'feels_like': 271.45, 'temp_min': 276.38, 'temp_max': 276.38, 'pressure': 1004, 'sea_level': 1004, 'grnd_level': 952, 'humidity': 98, 'temp_kf': 0}, 'weather': [{'id': 601, 'main': 'Snow', 'description': 'snow', 'icon': '13n'}], 'clouds': {'all': 100}, 'wind': {'speed': 6.85, 'deg': 251, 'gust': 12.86}, 'visibility': 51, 'pop': 1, 'snow': {'3h': 3.26}, 'sys': {'pod': 'n'}, 'dt_txt': '2024-11-14 15:00:00'}, {'dt': 1731607200, 'main': {'temp': 276.03, 'feels_like': 271.98, 'temp_min': 276.03, 'temp_max': 276.03, 'pressure': 1003, 'sea_level': 1003, 'grnd_level': 951, 'humidity': 99, 'temp_kf': 0}, 'weather': [{'id': 601, 'main': 'Snow', 'description': 'snow', 'icon': '13n'}], 'clouds': {'all': 100}, 'wind': {'speed': 4.72, 'deg': 240, 'gust': 10.07}, 'visibility': 37, 'pop': 1, 'snow': {'3h': 8.29}, 'sys': {'pod': 'n'}, 'dt_txt': '2024-11-14 18:00:00'}, {'dt': 1731618000, 'main': {'temp': 276.06, 'feels_like': 272.83, 'temp_min': 276.06, 'temp_max': 276.06, 'pressure': 1002, 'sea_level': 1002, 'grnd_level': 950, 'humidity': 100, 'temp_kf': 0}, 'weather': [{'id': 601, 'main': 'Snow', 'description': 'snow', 'icon': '13n'}], 'clouds': {'all': 100}, 'wind': {'speed': 3.42, 'deg': 237, 'gust': 7.84}, 'visibility': 33, 'pop': 1, 'snow': {'3h': 8.74}, 'sys': {'pod': 'n'}, 'dt_txt': '2024-11-14 21:00:00'}, {'dt': 1731628800, 'main': {'temp': 276.14, 'feels_like': 273.49, 'temp_min': 276.14, 'temp_max': 276.14, 'pressure': 1001, 'sea_level': 1001, 'grnd_level': 949, 'humidity': 100, 'temp_kf': 0}, 'weather': [{'id': 601, 'main': 'Snow', 'description': 'snow', 'icon': '13n'}], 'clouds': {'all': 100}, 'wind': {'speed': 2.7, 'deg': 224, 'gust': 3.45}, 'visibility': 37, 'pop': 1, 'snow': {'3h': 5.02}, 'sys': {'pod': 'n'}, 'dt_txt': '2024-11-15 00:00:00'}, {'dt': 1731639600, 'main': {'temp': 279.16, 'feels_like': 277.55, 'temp_min': 279.16, 'temp_max': 279.16, 'pressure': 999, 'sea_level': 999, 'grnd_level': 948, 'humidity': 100, 'temp_kf': 0}, 'weather': [{'id': 501, 'main': 'Rain', 'description': 'moderate rain', 'icon': '10n'}], 'clouds': {'all': 100}, 'wind': {'speed': 2.15, 'deg': 222, 'gust': 1.87}, 'visibility': 34, 'pop': 1, 'rain': {'3h': 5.68}, 'sys': {'pod': 'n'}, 'dt_txt': '2024-11-15 03:00:00'}, {'dt': 1731650400, 'main': {'temp': 281.77, 'feels_like': 279.72, 'temp_min': 281.77, 'temp_max': 281.77, 'pressure': 997, 'sea_level': 997, 'grnd_level': 947, 'humidity': 100, 'temp_kf': 0}, 'weather': [{'id': 501, 'main': 'Rain', 'description': 'moderate rain', 'icon': '10n'}], 'clouds': {'all': 100}, 'wind': {'speed': 3.48, 'deg': 247, 'gust': 3.38}, 'visibility': 26, 'pop': 1, 'rain': {'3h': 11.2}, 'sys': {'pod': 'n'}, 'dt_txt': '2024-11-15 06:00:00'}, {'dt': 1731661200, 'main': {'temp': 278.76, 'feels_like': 275.21, 'temp_min': 278.76, 'temp_max': 278.76, 'pressure': 998, 'sea_level': 998, 'grnd_level': 947, 'humidity': 100, 'temp_kf': 0}, 'weather': [{'id': 500, 'main': 'Rain', 'description': 'light rain', 'icon': '10d'}], 'clouds': {'all': 100}, 'wind': {'speed': 5.08, 'deg': 238, 'gust': 8.94}, 'visibility': 69, 'pop': 1, 'rain': {'3h': 2.62}, 'sys': {'pod': 'd'}, 'dt_txt': '2024-11-15 09:00:00'}, {'dt': 1731672000, 'main': {'temp': 279.12, 'feels_like': 276.5, 'temp_min': 279.12, 'temp_max': 279.12, 'pressure': 995, 'sea_level': 995, 'grnd_level': 945, 'humidity': 100, 'temp_kf': 0}, 'weather': [{'id': 500, 'main': 'Rain', 'description': 'light rain', 'icon': '10d'}], 'clouds': {'all': 100}, 'wind': {'speed': 3.48, 'deg': 228, 'gust': 3.38}, 'visibility': 46, 'pop': 1, 'rain': {'3h': 1.81}, 'sys': {'pod': 'd'}, 'dt_txt': '2024-11-15 12:00:00'}, {'dt': 1731682800, 'main': {'temp': 280.06, 'feels_like': 278.14, 'temp_min': 280.06, 'temp_max': 280.06, 'pressure': 992, 'sea_level': 992, 'grnd_level': 942, 'humidity': 100, 'temp_kf': 0}, 'weather': [{'id': 501, 'main': 'Rain', 'description': 'moderate rain', 'icon': '10n'}], 'clouds': {'all': 100}, 'wind': {'speed': 2.73, 'deg': 216, 'gust': 2.33}, 'visibility': 33, 'pop': 1, 'rain': {'3h': 4.51}, 'sys': {'pod': 'n'}, 'dt_txt': '2024-11-15 15:00:00'}, {'dt': 1731693600, 'main': {'temp': 281.88, 'feels_like': 280.54, 'temp_min': 281.88, 'temp_max': 281.88, 'pressure': 988, 'sea_level': 988, 'grnd_level': 939, 'humidity': 100, 'temp_kf': 0}, 'weather': [{'id': 501, 'main': 'Rain', 'description': 'moderate rain', 'icon': '10n'}], 'clouds': {'all': 100}, 'wind': {'speed': 2.4, 'deg': 179, 'gust': 1.98}, 'visibility': 25, 'pop': 1, 'rain': {'3h': 11.55}, 'sys': {'pod': 'n'}, 'dt_txt': '2024-11-15 18:00:00'}, {'dt': 1731704400, 'main': {'temp': 281.2, 'feels_like': 279.5, 'temp_min': 281.2, 'temp_max': 281.2, 'pressure': 986, 'sea_level': 986, 'grnd_level': 936, 'humidity': 100, 'temp_kf': 0}, 'weather': [{'id': 501, 'main': 'Rain', 'description': 'moderate rain', 'icon': '10n'}], 'clouds': {'all': 100}, 'wind': {'speed': 2.73, 'deg': 204, 'gust': 2.43}, 'visibility': 22, 'pop': 1, 'rain': {'3h': 10.22}, 'sys': {'pod': 'n'}, 'dt_txt': '2024-11-15 21:00:00'}, {'dt': 1731715200, 'main': {'temp': 278.91, 'feels_like': 276.3, 'temp_min': 278.91, 'temp_max': 278.91, 'pressure': 986, 'sea_level': 986, 'grnd_level': 936, 'humidity': 100, 'temp_kf': 0}, 'weather': [{'id': 501, 'main': 'Rain', 'description': 'moderate rain', 'icon': '10n'}], 'clouds': {'all': 100}, 'wind': {'speed': 3.4, 'deg': 229, 'gust': 4.4}, 'visibility': 56, 'pop': 1, 'rain': {'3h': 4.83}, 'sys': {'pod': 'n'}, 'dt_txt': '2024-11-16 00:00:00'}, {'dt': 1731726000, 'main': {'temp': 276.05, 'feels_like': 274.27, 'temp_min': 276.05, 'temp_max': 276.05, 'pressure': 984, 'sea_level': 984, 'grnd_level': 934, 'humidity': 99, 'temp_kf': 0}, 'weather': [{'id': 500, 'main': 'Rain', 'description': 'light rain', 'icon': '10n'}, {'id': 511, 'main': 'Rain', 'description': 'freezing rain', 'icon': '13n'}], 'clouds': {'all': 100}, 'wind': {'speed': 1.83, 'deg': 188, 'gust': 1.78}, 'visibility': 53, 'pop': 1, 'rain': {'3h': 0.75}, 'sys': {'pod': 'n'}, 'dt_txt': '2024-11-16 03:00:00'}, {'dt': 1731736800, 'main': {'temp': 276.44, 'feels_like': 274.54, 'temp_min': 276.44, 'temp_max': 276.44, 'pressure': 981, 'sea_level': 981, 'grnd_level': 930, 'humidity': 100, 'temp_kf': 0}, 'weather': [{'id': 600, 'main': 'Snow', 'description': 'light snow', 'icon': '13n'}], 'clouds': {'all': 100}, 'wind': {'speed': 1.99, 'deg': 207, 'gust': 2.12}, 'pop': 1, 'snow': {'3h': 1.23}, 'sys': {'pod': 'n'}, 'dt_txt': '2024-11-16 06:00:00'}, {'dt': 1731747600, 'main': {'temp': 276.02, 'feels_like': 273.74, 'temp_min': 276.02, 'temp_max': 276.02, 'pressure': 980, 'sea_level': 980, 'grnd_level': 929, 'humidity': 100, 'temp_kf': 0}, 'weather': [{'id': 601, 'main': 'Snow', 'description': 'snow', 'icon': '13d'}], 'clouds': {'all': 100}, 'wind': {'speed': 2.28, 'deg': 275, 'gust': 3.88}, 'visibility': 239, 'pop': 1, 'snow': {'3h': 2.23}, 'sys': {'pod': 'd'}, 'dt_txt': '2024-11-16 09:00:00'}, {'dt': 1731758400, 'main': {'temp': 274.68, 'feels_like': 274.68, 'temp_min': 274.68, 'temp_max': 274.68, 'pressure': 977, 'sea_level': 977, 'grnd_level': 927, 'humidity': 90, 'temp_kf': 0}, 'weather': [{'id': 600, 'main': 'Snow', 'description': 'light snow', 'icon': '13d'}], 'clouds': {'all': 100}, 'wind': {'speed': 1.16, 'deg': 164, 'gust': 1.02}, 'visibility': 10000, 'pop': 1, 'snow': {'3h': 0.34}, 'sys': {'pod': 'd'}, 'dt_txt': '2024-11-16 12:00:00'}, {'dt': 1731769200, 'main': {'temp': 271.09, 'feels_like': 271.09, 'temp_min': 271.09, 'temp_max': 271.09, 'pressure': 976, 'sea_level': 976, 'grnd_level': 925, 'humidity': 94, 'temp_kf': 0}, 'weather': [{'id': 804, 'main': 'Clouds', 'description': 'overcast clouds', 'icon': '04n'}], 'clouds': {'all': 100}, 'wind': {'speed': 1.33, 'deg': 166, 'gust': 1.11}, 'visibility': 10000, 'pop': 0.07, 'sys': {'pod': 'n'}, 'dt_txt': '2024-11-16 15:00:00'}, {'dt': 1731780000, 'main': {'temp': 270.17, 'feels_like': 267.06, 'temp_min': 270.17, 'temp_max': 270.17, 'pressure': 974, 'sea_level': 974, 'grnd_level': 923, 'humidity': 89, 'temp_kf': 0}, 'weather': [{'id': 804, 'main': 'Clouds', 'description': 'overcast clouds', 'icon': '04n'}], 'clouds': {'all': 90}, 'wind': {'speed': 2.12, 'deg': 116, 'gust': 2.03}, 'visibility': 10000, 'pop': 0, 'sys': {'pod': 'n'}, 'dt_txt': '2024-11-16 18:00:00'}, {'dt': 1731790800, 'main': {'temp': 269.74, 'feels_like': 269.74, 'temp_min': 269.74, 'temp_max': 269.74, 'pressure': 974, 'sea_level': 974, 'grnd_level': 923, 'humidity': 88, 'temp_kf': 0}, 'weather': [{'id': 804, 'main': 'Clouds', 'description': 'overcast clouds', 'icon': '04n'}], 'clouds': {'all': 100}, 'wind': {'speed': 1.27, 'deg': 96, 'gust': 1.46}, 'visibility': 10000, 'pop': 0, 'sys': {'pod': 'n'}, 'dt_txt': '2024-11-16 21:00:00'}, {'dt': 1731801600, 'main': {'temp': 269.64, 'feels_like': 269.64, 'temp_min': 269.64, 'temp_max': 269.64, 'pressure': 974, 'sea_level': 974, 'grnd_level': 923, 'humidity': 88, 'temp_kf': 0}, 'weather': [{'id': 804, 'main': 'Clouds', 'description': 'overcast clouds', 'icon': '04n'}], 'clouds': {'all': 100}, 'wind': {'speed': 0.75, 'deg': 247, 'gust': 1.02}, 'visibility': 10000, 'pop': 0, 'sys': {'pod': 'n'}, 'dt_txt': '2024-11-17 00:00:00'}, {'dt': 1731812400, 'main': {'temp': 269.71, 'feels_like': 269.71, 'temp_min': 269.71, 'temp_max': 269.71, 'pressure': 975, 'sea_level': 975, 'grnd_level': 923, 'humidity': 96, 'temp_kf': 0}, 'weather': [{'id': 804, 'main': 'Clouds', 'description': 'overcast clouds', 'icon': '04n'}], 'clouds': {'all': 100}, 'wind': {'speed': 1.03, 'deg': 56, 'gust': 0.84}, 'visibility': 5230, 'pop': 0, 'sys': {'pod': 'n'}, 'dt_txt': '2024-11-17 03:00:00'}, {'dt': 1731823200, 'main': {'temp': 268.75, 'feels_like': 268.75, 'temp_min': 268.75, 'temp_max': 268.75, 'pressure': 975, 'sea_level': 975, 'grnd_level': 924, 'humidity': 94, 'temp_kf': 0}, 'weather': [{'id': 804, 'main': 'Clouds', 'description': 'overcast clouds', 'icon': '04n'}], 'clouds': {'all': 100}, 'wind': {'speed': 0.84, 'deg': 53, 'gust': 0.65}, 'visibility': 10000, 'pop': 0, 'sys': {'pod': 'n'}, 'dt_txt': '2024-11-17 06:00:00'}, {'dt': 1731834000, 'main': {'temp': 269.34, 'feels_like': 269.34, 'temp_min': 269.34, 'temp_max': 269.34, 'pressure': 977, 'sea_level': 977, 'grnd_level': 925, 'humidity': 95, 'temp_kf': 0}, 'weather': [{'id': 804, 'main': 'Clouds', 'description': 'overcast clouds', 'icon': '04d'}], 'clouds': {'all': 99}, 'wind': {'speed': 1.06, 'deg': 51, 'gust': 0.6}, 'visibility': 3613, 'pop': 0, 'sys': {'pod': 'd'}, 'dt_txt': '2024-11-17 09:00:00'}, {'dt': 1731844800, 'main': {'temp': 270.37, 'feels_like': 270.37, 'temp_min': 270.37, 'temp_max': 270.37, 'pressure': 978, 'sea_level': 978, 'grnd_level': 926, 'humidity': 95, 'temp_kf': 0}, 'weather': [{'id': 804, 'main': 'Clouds', 'description': 'overcast clouds', 'icon': '04d'}], 'clouds': {'all': 99}, 'wind': {'speed': 0.92, 'deg': 6, 'gust': 0.45}, 'visibility': 10000, 'pop': 0, 'sys': {'pod': 'd'}, 'dt_txt': '2024-11-17 12:00:00'}, {'dt': 1731855600, 'main': {'temp': 269.22, 'feels_like': 267, 'temp_min': 269.22, 'temp_max': 269.22, 'pressure': 980, 'sea_level': 980, 'grnd_level': 928, 'humidity': 93, 'temp_kf': 0}, 'weather': [{'id': 804, 'main': 'Clouds', 'description': 'overcast clouds', 'icon': '04n'}], 'clouds': {'all': 100}, 'wind': {'speed': 1.45, 'deg': 83, 'gust': 1.48}, 'visibility': 10000, 'pop': 0, 'sys': {'pod': 'n'}, 'dt_txt': '2024-11-17 15:00:00'}, {'dt': 1731866400, 'main': {'temp': 271.43, 'feels_like': 269.29, 'temp_min': 271.43, 'temp_max': 271.43, 'pressure': 981, 'sea_level': 981, 'grnd_level': 930, 'humidity': 92, 'temp_kf': 0}, 'weather': [{'id': 804, 'main': 'Clouds', 'description': 'overcast clouds', 'icon': '04n'}], 'clouds': {'all': 100}, 'wind': {'speed': 1.59, 'deg': 69, 'gust': 1.81}, 'visibility': 7068, 'pop': 0, 'sys': {'pod': 'n'}, 'dt_txt': '2024-11-17 18:00:00'}, {'dt': 1731877200, 'main': {'temp': 272.34, 'feels_like': 270.06, 'temp_min': 272.34, 'temp_max': 272.34, 'pressure': 983, 'sea_level': 983, 'grnd_level': 932, 'humidity': 95, 'temp_kf': 0}, 'weather': [{'id': 600, 'main': 'Snow', 'description': 'light snow', 'icon': '13n'}], 'clouds': {'all': 100}, 'wind': {'speed': 1.77, 'deg': 55, 'gust': 1.61}, 'visibility': 10000, 'pop': 0.42, 'snow': {'3h': 0.3}, 'sys': {'pod': 'n'}, 'dt_txt': '2024-11-17 21:00:00'}, {'dt': 1731888000, 'main': {'temp': 270.43, 'feels_like': 266.48, 'temp_min': 270.43, 'temp_max': 270.43, 'pressure': 986, 'sea_level': 986, 'grnd_level': 934, 'humidity': 87, 'temp_kf': 0}, 'weather': [{'id': 804, 'main': 'Clouds', 'description': 'overcast clouds', 'icon': '04n'}], 'clouds': {'all': 99}, 'wind': {'speed': 2.9, 'deg': 83, 'gust': 2.79}, 'visibility': 10000, 'pop': 0, 'sys': {'pod': 'n'}, 'dt_txt': '2024-11-18 00:00:00'}, {'dt': 1731898800, 'main': {'temp': 269.93, 'feels_like': 265.52, 'temp_min': 269.93, 'temp_max': 269.93, 'pressure': 988, 'sea_level': 988, 'grnd_level': 936, 'humidity': 80, 'temp_kf': 0}, 'weather': [{'id': 804, 'main': 'Clouds', 'description': 'overcast clouds', 'icon': '04n'}], 'clouds': {'all': 87}, 'wind': {'speed': 3.28, 'deg': 81, 'gust': 3.44}, 'visibility': 10000, 'pop': 0, 'sys': {'pod': 'n'}, 'dt_txt': '2024-11-18 03:00:00'}, {'dt': 1731909600, 'main': {'temp': 269.39, 'feels_like': 264.95, 'temp_min': 269.39, 'temp_max': 269.39, 'pressure': 990, 'sea_level': 990, 'grnd_level': 938, 'humidity': 80, 'temp_kf': 0}, 'weather': [{'id': 803, 'main': 'Clouds', 'description': 'broken clouds', 'icon': '04n'}], 'clouds': {'all': 83}, 'wind': {'speed': 3.19, 'deg': 82, 'gust': 3}, 'visibility': 10000, 'pop': 0, 'sys': {'pod': 'n'}, 'dt_txt': '2024-11-18 06:00:00'}, {'dt': 1731920400, 'main': {'temp': 269.5, 'feels_like': 264.81, 'temp_min': 269.5, 'temp_max': 269.5, 'pressure': 993, 'sea_level': 993, 'grnd_level': 940, 'humidity': 80, 'temp_kf': 0}, 'weather': [{'id': 803, 'main': 'Clouds', 'description': 'broken clouds', 'icon': '04d'}], 'clouds': {'all': 68}, 'wind': {'speed': 3.48, 'deg': 83, 'gust': 3.93}, 'visibility': 10000, 'pop': 0, 'sys': {'pod': 'd'}, 'dt_txt': '2024-11-18 09:00:00'}], 'city': {'id': 3145614, 'name': 'Mo i Rana', 'coord': {'lat': 66.3128, 'lon': 14.1428}, 'country': 'NO', 'population': 17853, 'timezone': 3600, 'sunrise': 1731484039, 'sunset': 1731505702}}\""
      ]
     },
     "execution_count": 21,
     "metadata": {},
     "output_type": "execute_result"
    }
   ],
   "source": [
    "# Inspect JSON file\n",
    "forecast.__str__()"
   ]
  },
  {
   "cell_type": "markdown",
   "metadata": {
    "slideshow": {
     "slide_type": "slide"
    }
   },
   "source": [
    "## Raw JSON\n",
    "- A simple, but not very efficient way of storing JSON data is to treat it as a text and save it directly to the database.  \n",
    "- More efficient, with regard to transfer, is to compress the JSON data to a blob first.\n",
    "    - Compression is automatic."
   ]
  },
  {
   "cell_type": "code",
   "execution_count": 22,
   "metadata": {
    "ExecuteTime": {
     "end_time": "2024-08-17T10:25:35.916537Z",
     "start_time": "2024-08-17T10:25:35.799572Z"
    },
    "slideshow": {
     "slide_type": "fragment"
    },
    "tags": []
   },
   "outputs": [
    {
     "data": {
      "text/plain": [
       "<cassandra.cluster.ResultSet at 0x105aa78c0>"
      ]
     },
     "execution_count": 22,
     "metadata": {},
     "output_type": "execute_result"
    }
   ],
   "source": [
    "# Create a new table which treats the whole JSON as a blob, using the city id and the first dt as keys\n",
    "session.set_keyspace('my_first_keyspace')\n",
    "session.execute(\"DROP TABLE IF EXISTS my_first_keyspace.forecast_table;\")\n",
    "session.execute(\"CREATE TABLE IF NOT EXISTS forecast_table (city_id int, dt int, forecast blob, PRIMARY KEY(city_id, dt));\")"
   ]
  },
  {
   "cell_type": "markdown",
   "metadata": {
    "slideshow": {
     "slide_type": "slide"
    }
   },
   "source": [
    "### Insert the forecast data into the table as text blob"
   ]
  },
  {
   "cell_type": "code",
   "execution_count": 23,
   "metadata": {
    "ExecuteTime": {
     "end_time": "2024-08-17T10:25:35.935855Z",
     "start_time": "2024-08-17T10:25:35.917175Z"
    },
    "slideshow": {
     "slide_type": "fragment"
    },
    "tags": []
   },
   "outputs": [
    {
     "data": {
      "text/plain": [
       "<cassandra.cluster.ResultSet at 0x105abfc80>"
      ]
     },
     "execution_count": 23,
     "metadata": {},
     "output_type": "execute_result"
    }
   ],
   "source": [
    "session.execute(\"INSERT INTO forecast_table (city_id, dt, forecast) VALUES (%s, %s, textAsBlob(%s));\", (forecast['city']['id'], forecast['list'][0]['dt'], forecast.__str__()))"
   ]
  },
  {
   "cell_type": "code",
   "execution_count": 24,
   "metadata": {
    "ExecuteTime": {
     "end_time": "2024-08-17T10:25:35.946537Z",
     "start_time": "2024-08-17T10:25:35.938642Z"
    },
    "slideshow": {
     "slide_type": "slide"
    },
    "tags": []
   },
   "outputs": [
    {
     "name": "stdout",
     "output_type": "stream",
     "text": [
      "Row(city_id=3145614, dt=1731499200, forecast=b\"{'cod': '200', 'message': 0, 'cnt': 40, 'list': [{'dt': 1731499200, 'main': {'temp': 278.51, 'feels_like': 274.27, 'temp_min': 277.76, 'temp_max': 278.51, 'pressure': 1008, 'sea_level': 1008, 'grnd_level': 955, 'humidity': 93, 'temp_kf': 0.75}, 'weather': [{'id': 601, 'main': 'Snow', 'description': 'snow', 'icon': '13d'}], 'clouds': {'all': 83}, 'wind': {'speed': 6.6, 'deg': 245, 'gust': 14.28}, 'visibility': 2062, 'pop': 1, 'snow': {'3h': 2.29}, 'sys': {'pod': 'd'}, 'dt_txt': '2024-11-13 12:00:00'}, {'dt': 1731510000, 'main': {'temp': 278.16, 'feels_like': 272.64, 'temp_min': 277.79, 'temp_max': 278.16, 'pressure': 1006, 'sea_level': 1006, 'grnd_level': 954, 'humidity': 91, 'temp_kf': 0.37}, 'weather': [{'id': 601, 'main': 'Snow', 'description': 'snow', 'icon': '13n'}], 'clouds': {'all': 92}, 'wind': {'speed': 10.42, 'deg': 256, 'gust': 17.02}, 'visibility': 569, 'pop': 1, 'snow': {'3h': 1.99}, 'sys': {'pod': 'n'}, 'dt_txt': '2024-11-13 15:00:00'}, {'dt': 1731520800, 'main': {'temp': 276.53, 'feels_like': 270.63, 'temp_min': 276.53, 'temp_max': 276.53, 'pressure': 1004, 'sea_level': 1004, 'grnd_level': 953, 'humidity': 97, 'temp_kf': 0}, 'weather': [{'id': 601, 'main': 'Snow', 'description': 'snow', 'icon': '13n'}], 'clouds': {'all': 100}, 'wind': {'speed': 9.86, 'deg': 258, 'gust': 16.84}, 'visibility': 68, 'pop': 1, 'snow': {'3h': 2.21}, 'sys': {'pod': 'n'}, 'dt_txt': '2024-11-13 18:00:00'}, {'dt': 1731531600, 'main': {'temp': 276.13, 'feels_like': 270.26, 'temp_min': 276.13, 'temp_max': 276.13, 'pressure': 1003, 'sea_level': 1003, 'grnd_level': 952, 'humidity': 98, 'temp_kf': 0}, 'weather': [{'id': 601, 'main': 'Snow', 'description': 'snow', 'icon': '13n'}], 'clouds': {'all': 100}, 'wind': {'speed': 9.34, 'deg': 249, 'gust': 15.1}, 'visibility': 102, 'pop': 1, 'snow': {'3h': 4.1}, 'sys': {'pod': 'n'}, 'dt_txt': '2024-11-13 21:00:00'}, {'dt': 1731542400, 'main': {'temp': 275.41, 'feels_like': 270.3, 'temp_min': 275.41, 'temp_max': 275.41, 'pressure': 1005, 'sea_level': 1005, 'grnd_level': 953, 'humidity': 97, 'temp_kf': 0}, 'weather': [{'id': 601, 'main': 'Snow', 'description': 'snow', 'icon': '13n'}], 'clouds': {'all': 100}, 'wind': {'speed': 6.6, 'deg': 254, 'gust': 13.78}, 'visibility': 193, 'pop': 1, 'snow': {'3h': 3.16}, 'sys': {'pod': 'n'}, 'dt_txt': '2024-11-14 00:00:00'}, {'dt': 1731553200, 'main': {'temp': 275.07, 'feels_like': 270.29, 'temp_min': 275.07, 'temp_max': 275.07, 'pressure': 1006, 'sea_level': 1006, 'grnd_level': 954, 'humidity': 96, 'temp_kf': 0}, 'weather': [{'id': 601, 'main': 'Snow', 'description': 'snow', 'icon': '13n'}], 'clouds': {'all': 100}, 'wind': {'speed': 5.67, 'deg': 257, 'gust': 12.26}, 'visibility': 246, 'pop': 1, 'snow': {'3h': 1.83}, 'sys': {'pod': 'n'}, 'dt_txt': '2024-11-14 03:00:00'}, {'dt': 1731564000, 'main': {'temp': 274.85, 'feels_like': 269.92, 'temp_min': 274.85, 'temp_max': 274.85, 'pressure': 1006, 'sea_level': 1006, 'grnd_level': 954, 'humidity': 95, 'temp_kf': 0}, 'weather': [{'id': 601, 'main': 'Snow', 'description': 'snow', 'icon': '13n'}], 'clouds': {'all': 100}, 'wind': {'speed': 5.87, 'deg': 256, 'gust': 12.91}, 'visibility': 282, 'pop': 1, 'snow': {'3h': 1.51}, 'sys': {'pod': 'n'}, 'dt_txt': '2024-11-14 06:00:00'}, {'dt': 1731574800, 'main': {'temp': 275.14, 'feels_like': 269.71, 'temp_min': 275.14, 'temp_max': 275.14, 'pressure': 1007, 'sea_level': 1007, 'grnd_level': 955, 'humidity': 88, 'temp_kf': 0}, 'weather': [{'id': 600, 'main': 'Snow', 'description': 'light snow', 'icon': '13d'}], 'clouds': {'all': 100}, 'wind': {'speed': 7.22, 'deg': 262, 'gust': 14.48}, 'visibility': 4451, 'pop': 1, 'snow': {'3h': 0.75}, 'sys': {'pod': 'd'}, 'dt_txt': '2024-11-14 09:00:00'}, {'dt': 1731585600, 'main': {'temp': 276.05, 'feels_like': 270.86, 'temp_min': 276.05, 'temp_max': 276.05, 'pressure': 1006, 'sea_level': 1006, 'grnd_level': 954, 'humidity': 98, 'temp_kf': 0}, 'weather': [{'id': 600, 'main': 'Snow', 'description': 'light snow', 'icon': '13d'}], 'clouds': {'all': 100}, 'wind': {'speed': 7.27, 'deg': 252, 'gust': 14.11}, 'visibility': 127, 'pop': 1, 'snow': {'3h': 0.83}, 'sys': {'pod': 'd'}, 'dt_txt': '2024-11-14 12:00:00'}, {'dt': 1731596400, 'main': {'temp': 276.38, 'feels_like': 271.45, 'temp_min': 276.38, 'temp_max': 276.38, 'pressure': 1004, 'sea_level': 1004, 'grnd_level': 952, 'humidity': 98, 'temp_kf': 0}, 'weather': [{'id': 601, 'main': 'Snow', 'description': 'snow', 'icon': '13n'}], 'clouds': {'all': 100}, 'wind': {'speed': 6.85, 'deg': 251, 'gust': 12.86}, 'visibility': 51, 'pop': 1, 'snow': {'3h': 3.26}, 'sys': {'pod': 'n'}, 'dt_txt': '2024-11-14 15:00:00'}, {'dt': 1731607200, 'main': {'temp': 276.03, 'feels_like': 271.98, 'temp_min': 276.03, 'temp_max': 276.03, 'pressure': 1003, 'sea_level': 1003, 'grnd_level': 951, 'humidity': 99, 'temp_kf': 0}, 'weather': [{'id': 601, 'main': 'Snow', 'description': 'snow', 'icon': '13n'}], 'clouds': {'all': 100}, 'wind': {'speed': 4.72, 'deg': 240, 'gust': 10.07}, 'visibility': 37, 'pop': 1, 'snow': {'3h': 8.29}, 'sys': {'pod': 'n'}, 'dt_txt': '2024-11-14 18:00:00'}, {'dt': 1731618000, 'main': {'temp': 276.06, 'feels_like': 272.83, 'temp_min': 276.06, 'temp_max': 276.06, 'pressure': 1002, 'sea_level': 1002, 'grnd_level': 950, 'humidity': 100, 'temp_kf': 0}, 'weather': [{'id': 601, 'main': 'Snow', 'description': 'snow', 'icon': '13n'}], 'clouds': {'all': 100}, 'wind': {'speed': 3.42, 'deg': 237, 'gust': 7.84}, 'visibility': 33, 'pop': 1, 'snow': {'3h': 8.74}, 'sys': {'pod': 'n'}, 'dt_txt': '2024-11-14 21:00:00'}, {'dt': 1731628800, 'main': {'temp': 276.14, 'feels_like': 273.49, 'temp_min': 276.14, 'temp_max': 276.14, 'pressure': 1001, 'sea_level': 1001, 'grnd_level': 949, 'humidity': 100, 'temp_kf': 0}, 'weather': [{'id': 601, 'main': 'Snow', 'description': 'snow', 'icon': '13n'}], 'clouds': {'all': 100}, 'wind': {'speed': 2.7, 'deg': 224, 'gust': 3.45}, 'visibility': 37, 'pop': 1, 'snow': {'3h': 5.02}, 'sys': {'pod': 'n'}, 'dt_txt': '2024-11-15 00:00:00'}, {'dt': 1731639600, 'main': {'temp': 279.16, 'feels_like': 277.55, 'temp_min': 279.16, 'temp_max': 279.16, 'pressure': 999, 'sea_level': 999, 'grnd_level': 948, 'humidity': 100, 'temp_kf': 0}, 'weather': [{'id': 501, 'main': 'Rain', 'description': 'moderate rain', 'icon': '10n'}], 'clouds': {'all': 100}, 'wind': {'speed': 2.15, 'deg': 222, 'gust': 1.87}, 'visibility': 34, 'pop': 1, 'rain': {'3h': 5.68}, 'sys': {'pod': 'n'}, 'dt_txt': '2024-11-15 03:00:00'}, {'dt': 1731650400, 'main': {'temp': 281.77, 'feels_like': 279.72, 'temp_min': 281.77, 'temp_max': 281.77, 'pressure': 997, 'sea_level': 997, 'grnd_level': 947, 'humidity': 100, 'temp_kf': 0}, 'weather': [{'id': 501, 'main': 'Rain', 'description': 'moderate rain', 'icon': '10n'}], 'clouds': {'all': 100}, 'wind': {'speed': 3.48, 'deg': 247, 'gust': 3.38}, 'visibility': 26, 'pop': 1, 'rain': {'3h': 11.2}, 'sys': {'pod': 'n'}, 'dt_txt': '2024-11-15 06:00:00'}, {'dt': 1731661200, 'main': {'temp': 278.76, 'feels_like': 275.21, 'temp_min': 278.76, 'temp_max': 278.76, 'pressure': 998, 'sea_level': 998, 'grnd_level': 947, 'humidity': 100, 'temp_kf': 0}, 'weather': [{'id': 500, 'main': 'Rain', 'description': 'light rain', 'icon': '10d'}], 'clouds': {'all': 100}, 'wind': {'speed': 5.08, 'deg': 238, 'gust': 8.94}, 'visibility': 69, 'pop': 1, 'rain': {'3h': 2.62}, 'sys': {'pod': 'd'}, 'dt_txt': '2024-11-15 09:00:00'}, {'dt': 1731672000, 'main': {'temp': 279.12, 'feels_like': 276.5, 'temp_min': 279.12, 'temp_max': 279.12, 'pressure': 995, 'sea_level': 995, 'grnd_level': 945, 'humidity': 100, 'temp_kf': 0}, 'weather': [{'id': 500, 'main': 'Rain', 'description': 'light rain', 'icon': '10d'}], 'clouds': {'all': 100}, 'wind': {'speed': 3.48, 'deg': 228, 'gust': 3.38}, 'visibility': 46, 'pop': 1, 'rain': {'3h': 1.81}, 'sys': {'pod': 'd'}, 'dt_txt': '2024-11-15 12:00:00'}, {'dt': 1731682800, 'main': {'temp': 280.06, 'feels_like': 278.14, 'temp_min': 280.06, 'temp_max': 280.06, 'pressure': 992, 'sea_level': 992, 'grnd_level': 942, 'humidity': 100, 'temp_kf': 0}, 'weather': [{'id': 501, 'main': 'Rain', 'description': 'moderate rain', 'icon': '10n'}], 'clouds': {'all': 100}, 'wind': {'speed': 2.73, 'deg': 216, 'gust': 2.33}, 'visibility': 33, 'pop': 1, 'rain': {'3h': 4.51}, 'sys': {'pod': 'n'}, 'dt_txt': '2024-11-15 15:00:00'}, {'dt': 1731693600, 'main': {'temp': 281.88, 'feels_like': 280.54, 'temp_min': 281.88, 'temp_max': 281.88, 'pressure': 988, 'sea_level': 988, 'grnd_level': 939, 'humidity': 100, 'temp_kf': 0}, 'weather': [{'id': 501, 'main': 'Rain', 'description': 'moderate rain', 'icon': '10n'}], 'clouds': {'all': 100}, 'wind': {'speed': 2.4, 'deg': 179, 'gust': 1.98}, 'visibility': 25, 'pop': 1, 'rain': {'3h': 11.55}, 'sys': {'pod': 'n'}, 'dt_txt': '2024-11-15 18:00:00'}, {'dt': 1731704400, 'main': {'temp': 281.2, 'feels_like': 279.5, 'temp_min': 281.2, 'temp_max': 281.2, 'pressure': 986, 'sea_level': 986, 'grnd_level': 936, 'humidity': 100, 'temp_kf': 0}, 'weather': [{'id': 501, 'main': 'Rain', 'description': 'moderate rain', 'icon': '10n'}], 'clouds': {'all': 100}, 'wind': {'speed': 2.73, 'deg': 204, 'gust': 2.43}, 'visibility': 22, 'pop': 1, 'rain': {'3h': 10.22}, 'sys': {'pod': 'n'}, 'dt_txt': '2024-11-15 21:00:00'}, {'dt': 1731715200, 'main': {'temp': 278.91, 'feels_like': 276.3, 'temp_min': 278.91, 'temp_max': 278.91, 'pressure': 986, 'sea_level': 986, 'grnd_level': 936, 'humidity': 100, 'temp_kf': 0}, 'weather': [{'id': 501, 'main': 'Rain', 'description': 'moderate rain', 'icon': '10n'}], 'clouds': {'all': 100}, 'wind': {'speed': 3.4, 'deg': 229, 'gust': 4.4}, 'visibility': 56, 'pop': 1, 'rain': {'3h': 4.83}, 'sys': {'pod': 'n'}, 'dt_txt': '2024-11-16 00:00:00'}, {'dt': 1731726000, 'main': {'temp': 276.05, 'feels_like': 274.27, 'temp_min': 276.05, 'temp_max': 276.05, 'pressure': 984, 'sea_level': 984, 'grnd_level': 934, 'humidity': 99, 'temp_kf': 0}, 'weather': [{'id': 500, 'main': 'Rain', 'description': 'light rain', 'icon': '10n'}, {'id': 511, 'main': 'Rain', 'description': 'freezing rain', 'icon': '13n'}], 'clouds': {'all': 100}, 'wind': {'speed': 1.83, 'deg': 188, 'gust': 1.78}, 'visibility': 53, 'pop': 1, 'rain': {'3h': 0.75}, 'sys': {'pod': 'n'}, 'dt_txt': '2024-11-16 03:00:00'}, {'dt': 1731736800, 'main': {'temp': 276.44, 'feels_like': 274.54, 'temp_min': 276.44, 'temp_max': 276.44, 'pressure': 981, 'sea_level': 981, 'grnd_level': 930, 'humidity': 100, 'temp_kf': 0}, 'weather': [{'id': 600, 'main': 'Snow', 'description': 'light snow', 'icon': '13n'}], 'clouds': {'all': 100}, 'wind': {'speed': 1.99, 'deg': 207, 'gust': 2.12}, 'pop': 1, 'snow': {'3h': 1.23}, 'sys': {'pod': 'n'}, 'dt_txt': '2024-11-16 06:00:00'}, {'dt': 1731747600, 'main': {'temp': 276.02, 'feels_like': 273.74, 'temp_min': 276.02, 'temp_max': 276.02, 'pressure': 980, 'sea_level': 980, 'grnd_level': 929, 'humidity': 100, 'temp_kf': 0}, 'weather': [{'id': 601, 'main': 'Snow', 'description': 'snow', 'icon': '13d'}], 'clouds': {'all': 100}, 'wind': {'speed': 2.28, 'deg': 275, 'gust': 3.88}, 'visibility': 239, 'pop': 1, 'snow': {'3h': 2.23}, 'sys': {'pod': 'd'}, 'dt_txt': '2024-11-16 09:00:00'}, {'dt': 1731758400, 'main': {'temp': 274.68, 'feels_like': 274.68, 'temp_min': 274.68, 'temp_max': 274.68, 'pressure': 977, 'sea_level': 977, 'grnd_level': 927, 'humidity': 90, 'temp_kf': 0}, 'weather': [{'id': 600, 'main': 'Snow', 'description': 'light snow', 'icon': '13d'}], 'clouds': {'all': 100}, 'wind': {'speed': 1.16, 'deg': 164, 'gust': 1.02}, 'visibility': 10000, 'pop': 1, 'snow': {'3h': 0.34}, 'sys': {'pod': 'd'}, 'dt_txt': '2024-11-16 12:00:00'}, {'dt': 1731769200, 'main': {'temp': 271.09, 'feels_like': 271.09, 'temp_min': 271.09, 'temp_max': 271.09, 'pressure': 976, 'sea_level': 976, 'grnd_level': 925, 'humidity': 94, 'temp_kf': 0}, 'weather': [{'id': 804, 'main': 'Clouds', 'description': 'overcast clouds', 'icon': '04n'}], 'clouds': {'all': 100}, 'wind': {'speed': 1.33, 'deg': 166, 'gust': 1.11}, 'visibility': 10000, 'pop': 0.07, 'sys': {'pod': 'n'}, 'dt_txt': '2024-11-16 15:00:00'}, {'dt': 1731780000, 'main': {'temp': 270.17, 'feels_like': 267.06, 'temp_min': 270.17, 'temp_max': 270.17, 'pressure': 974, 'sea_level': 974, 'grnd_level': 923, 'humidity': 89, 'temp_kf': 0}, 'weather': [{'id': 804, 'main': 'Clouds', 'description': 'overcast clouds', 'icon': '04n'}], 'clouds': {'all': 90}, 'wind': {'speed': 2.12, 'deg': 116, 'gust': 2.03}, 'visibility': 10000, 'pop': 0, 'sys': {'pod': 'n'}, 'dt_txt': '2024-11-16 18:00:00'}, {'dt': 1731790800, 'main': {'temp': 269.74, 'feels_like': 269.74, 'temp_min': 269.74, 'temp_max': 269.74, 'pressure': 974, 'sea_level': 974, 'grnd_level': 923, 'humidity': 88, 'temp_kf': 0}, 'weather': [{'id': 804, 'main': 'Clouds', 'description': 'overcast clouds', 'icon': '04n'}], 'clouds': {'all': 100}, 'wind': {'speed': 1.27, 'deg': 96, 'gust': 1.46}, 'visibility': 10000, 'pop': 0, 'sys': {'pod': 'n'}, 'dt_txt': '2024-11-16 21:00:00'}, {'dt': 1731801600, 'main': {'temp': 269.64, 'feels_like': 269.64, 'temp_min': 269.64, 'temp_max': 269.64, 'pressure': 974, 'sea_level': 974, 'grnd_level': 923, 'humidity': 88, 'temp_kf': 0}, 'weather': [{'id': 804, 'main': 'Clouds', 'description': 'overcast clouds', 'icon': '04n'}], 'clouds': {'all': 100}, 'wind': {'speed': 0.75, 'deg': 247, 'gust': 1.02}, 'visibility': 10000, 'pop': 0, 'sys': {'pod': 'n'}, 'dt_txt': '2024-11-17 00:00:00'}, {'dt': 1731812400, 'main': {'temp': 269.71, 'feels_like': 269.71, 'temp_min': 269.71, 'temp_max': 269.71, 'pressure': 975, 'sea_level': 975, 'grnd_level': 923, 'humidity': 96, 'temp_kf': 0}, 'weather': [{'id': 804, 'main': 'Clouds', 'description': 'overcast clouds', 'icon': '04n'}], 'clouds': {'all': 100}, 'wind': {'speed': 1.03, 'deg': 56, 'gust': 0.84}, 'visibility': 5230, 'pop': 0, 'sys': {'pod': 'n'}, 'dt_txt': '2024-11-17 03:00:00'}, {'dt': 1731823200, 'main': {'temp': 268.75, 'feels_like': 268.75, 'temp_min': 268.75, 'temp_max': 268.75, 'pressure': 975, 'sea_level': 975, 'grnd_level': 924, 'humidity': 94, 'temp_kf': 0}, 'weather': [{'id': 804, 'main': 'Clouds', 'description': 'overcast clouds', 'icon': '04n'}], 'clouds': {'all': 100}, 'wind': {'speed': 0.84, 'deg': 53, 'gust': 0.65}, 'visibility': 10000, 'pop': 0, 'sys': {'pod': 'n'}, 'dt_txt': '2024-11-17 06:00:00'}, {'dt': 1731834000, 'main': {'temp': 269.34, 'feels_like': 269.34, 'temp_min': 269.34, 'temp_max': 269.34, 'pressure': 977, 'sea_level': 977, 'grnd_level': 925, 'humidity': 95, 'temp_kf': 0}, 'weather': [{'id': 804, 'main': 'Clouds', 'description': 'overcast clouds', 'icon': '04d'}], 'clouds': {'all': 99}, 'wind': {'speed': 1.06, 'deg': 51, 'gust': 0.6}, 'visibility': 3613, 'pop': 0, 'sys': {'pod': 'd'}, 'dt_txt': '2024-11-17 09:00:00'}, {'dt': 1731844800, 'main': {'temp': 270.37, 'feels_like': 270.37, 'temp_min': 270.37, 'temp_max': 270.37, 'pressure': 978, 'sea_level': 978, 'grnd_level': 926, 'humidity': 95, 'temp_kf': 0}, 'weather': [{'id': 804, 'main': 'Clouds', 'description': 'overcast clouds', 'icon': '04d'}], 'clouds': {'all': 99}, 'wind': {'speed': 0.92, 'deg': 6, 'gust': 0.45}, 'visibility': 10000, 'pop': 0, 'sys': {'pod': 'd'}, 'dt_txt': '2024-11-17 12:00:00'}, {'dt': 1731855600, 'main': {'temp': 269.22, 'feels_like': 267, 'temp_min': 269.22, 'temp_max': 269.22, 'pressure': 980, 'sea_level': 980, 'grnd_level': 928, 'humidity': 93, 'temp_kf': 0}, 'weather': [{'id': 804, 'main': 'Clouds', 'description': 'overcast clouds', 'icon': '04n'}], 'clouds': {'all': 100}, 'wind': {'speed': 1.45, 'deg': 83, 'gust': 1.48}, 'visibility': 10000, 'pop': 0, 'sys': {'pod': 'n'}, 'dt_txt': '2024-11-17 15:00:00'}, {'dt': 1731866400, 'main': {'temp': 271.43, 'feels_like': 269.29, 'temp_min': 271.43, 'temp_max': 271.43, 'pressure': 981, 'sea_level': 981, 'grnd_level': 930, 'humidity': 92, 'temp_kf': 0}, 'weather': [{'id': 804, 'main': 'Clouds', 'description': 'overcast clouds', 'icon': '04n'}], 'clouds': {'all': 100}, 'wind': {'speed': 1.59, 'deg': 69, 'gust': 1.81}, 'visibility': 7068, 'pop': 0, 'sys': {'pod': 'n'}, 'dt_txt': '2024-11-17 18:00:00'}, {'dt': 1731877200, 'main': {'temp': 272.34, 'feels_like': 270.06, 'temp_min': 272.34, 'temp_max': 272.34, 'pressure': 983, 'sea_level': 983, 'grnd_level': 932, 'humidity': 95, 'temp_kf': 0}, 'weather': [{'id': 600, 'main': 'Snow', 'description': 'light snow', 'icon': '13n'}], 'clouds': {'all': 100}, 'wind': {'speed': 1.77, 'deg': 55, 'gust': 1.61}, 'visibility': 10000, 'pop': 0.42, 'snow': {'3h': 0.3}, 'sys': {'pod': 'n'}, 'dt_txt': '2024-11-17 21:00:00'}, {'dt': 1731888000, 'main': {'temp': 270.43, 'feels_like': 266.48, 'temp_min': 270.43, 'temp_max': 270.43, 'pressure': 986, 'sea_level': 986, 'grnd_level': 934, 'humidity': 87, 'temp_kf': 0}, 'weather': [{'id': 804, 'main': 'Clouds', 'description': 'overcast clouds', 'icon': '04n'}], 'clouds': {'all': 99}, 'wind': {'speed': 2.9, 'deg': 83, 'gust': 2.79}, 'visibility': 10000, 'pop': 0, 'sys': {'pod': 'n'}, 'dt_txt': '2024-11-18 00:00:00'}, {'dt': 1731898800, 'main': {'temp': 269.93, 'feels_like': 265.52, 'temp_min': 269.93, 'temp_max': 269.93, 'pressure': 988, 'sea_level': 988, 'grnd_level': 936, 'humidity': 80, 'temp_kf': 0}, 'weather': [{'id': 804, 'main': 'Clouds', 'description': 'overcast clouds', 'icon': '04n'}], 'clouds': {'all': 87}, 'wind': {'speed': 3.28, 'deg': 81, 'gust': 3.44}, 'visibility': 10000, 'pop': 0, 'sys': {'pod': 'n'}, 'dt_txt': '2024-11-18 03:00:00'}, {'dt': 1731909600, 'main': {'temp': 269.39, 'feels_like': 264.95, 'temp_min': 269.39, 'temp_max': 269.39, 'pressure': 990, 'sea_level': 990, 'grnd_level': 938, 'humidity': 80, 'temp_kf': 0}, 'weather': [{'id': 803, 'main': 'Clouds', 'description': 'broken clouds', 'icon': '04n'}], 'clouds': {'all': 83}, 'wind': {'speed': 3.19, 'deg': 82, 'gust': 3}, 'visibility': 10000, 'pop': 0, 'sys': {'pod': 'n'}, 'dt_txt': '2024-11-18 06:00:00'}, {'dt': 1731920400, 'main': {'temp': 269.5, 'feels_like': 264.81, 'temp_min': 269.5, 'temp_max': 269.5, 'pressure': 993, 'sea_level': 993, 'grnd_level': 940, 'humidity': 80, 'temp_kf': 0}, 'weather': [{'id': 803, 'main': 'Clouds', 'description': 'broken clouds', 'icon': '04d'}], 'clouds': {'all': 68}, 'wind': {'speed': 3.48, 'deg': 83, 'gust': 3.93}, 'visibility': 10000, 'pop': 0, 'sys': {'pod': 'd'}, 'dt_txt': '2024-11-18 09:00:00'}], 'city': {'id': 3145614, 'name': 'Mo i Rana', 'coord': {'lat': 66.3128, 'lon': 14.1428}, 'country': 'NO', 'population': 17853, 'timezone': 3600, 'sunrise': 1731484039, 'sunset': 1731505702}}\")\n"
     ]
    }
   ],
   "source": [
    "# Query the data\n",
    "forecast_rows = session.execute(\"SELECT * FROM forecast_table;\")\n",
    "print(forecast_rows.one()) # <- only one row"
   ]
  },
  {
   "cell_type": "markdown",
   "metadata": {
    "slideshow": {
     "slide_type": "slide"
    }
   },
   "source": [
    "```{seealso} Resources\n",
    ":class: tip\n",
    "- [Cassandra webpage](https://cassandra.apache.org/)\n",
    "- [Cassandra Docker file](https://hub.docker.com/_/cassandra)\n",
    "- [UUID functions](https://docs.datastax.com/en/cql-oss/3.3/cql/cql_reference/timeuuid_functions_r.html)\n",
    "- [YouTube: Cassandra in 100 seconds](https://youtu.be/ziq7FUKpCS8?si=WQUdkHFvaBmT0DBo) (2m:26s)\n",
    "- [YouTube: How to use Apache Cassandra in Python](https://youtu.be/qMauZqJH3ZM?si=yKGZ-5cld2BK396Y) (14m:50s)\n",
    "- [YouTube: Cassandra Database Crash Course](https://youtu.be/KZsVSfQVU4I?si=FBCi8qOfCirfVmZk) (19m:47s)\n",
    "```"
   ]
  }
 ],
 "metadata": {
  "celltoolbar": "Slideshow",
  "kernelspec": {
   "display_name": "Python 3 (ipykernel)",
   "language": "python",
   "name": "python3"
  },
  "language_info": {
   "codemirror_mode": {
    "name": "ipython",
    "version": 3
   },
   "file_extension": ".py",
   "mimetype": "text/x-python",
   "name": "python",
   "nbconvert_exporter": "python",
   "pygments_lexer": "ipython3",
   "version": "3.12.4"
  }
 },
 "nbformat": 4,
 "nbformat_minor": 4
}