{
 "cells": [
  {
   "cell_type": "markdown",
   "metadata": {
    "slideshow": {
     "slide_type": "slide"
    }
   },
   "source": [
    "# Cassandra\n",
    "- A production grade NoSQL database.\n",
    "- Can be distributed across servers, nodes, etc.\n",
    "- Replication of database is supported for high degree of redundancy and speed.\n",
    "- Uses CQL, a subset of SQL for querying.\n",
    "- Works seamlesly together with Spark and its corresponding distributed structure.\n",
    "- Installation of Cassandra is explained in the [Installation chapter](../../7_Appendix/Installation.ipynb)."
   ]
  },
  {
   "cell_type": "markdown",
   "metadata": {
    "slideshow": {
     "slide_type": "slide"
    }
   },
   "source": [
    "## Spinning up a local Cassandra instance\n",
    "In a terminal, first time:  \n",
    "```docker run --name my_cassandra -p 9042:9042 cassandra:latest```  \n",
    "... and later:  \n",
    "```docker start my_cassandra```  \n",
    "  \n",
    ".. or in Docker Desktop:\n",
    "- Run the cassandra docker image with optional settings, opening 9042 port and setting a name.\n",
    "- Later, simply run the container with the name you chose."
   ]
  },
  {
   "cell_type": "markdown",
   "metadata": {
    "slideshow": {
     "slide_type": "slide"
    }
   },
   "source": [
    "<img src=\"https://github.com/khliland/IND320/blob/main/D2Dbook/images/Docker_images.png?raw=TRUE\" width=\"600px\">  "
   ]
  },
  {
   "cell_type": "markdown",
   "metadata": {
    "slideshow": {
     "slide_type": "slide"
    }
   },
   "source": [
    "\n",
    "<img src=\"https://github.com/khliland/IND320/blob/main/D2Dbook/images/Docker_containers.png?raw=TRUE\" width=\"800px\">  "
   ]
  },
  {
   "cell_type": "markdown",
   "metadata": {
    "slideshow": {
     "slide_type": "slide"
    }
   },
   "source": [
    "### Connect to the Cassandra cluster from Python."
   ]
  },
  {
   "cell_type": "code",
   "execution_count": 1,
   "metadata": {
    "ExecuteTime": {
     "end_time": "2024-08-17T10:25:34.787878Z",
     "start_time": "2024-08-17T10:25:34.389367Z"
    },
    "execution": {
     "iopub.execute_input": "2024-08-17T11:11:08.638602Z",
     "iopub.status.busy": "2024-08-17T11:11:08.638284Z",
     "iopub.status.idle": "2024-08-17T11:11:08.852135Z",
     "shell.execute_reply": "2024-08-17T11:11:08.851463Z"
    },
    "slideshow": {
     "slide_type": "-"
    }
   },
   "outputs": [],
   "source": [
    "# Connecting to Cassandra\n",
    "from cassandra.cluster import Cluster\n",
    "cluster = Cluster(['localhost'], port=9042)\n",
    "session = cluster.connect()"
   ]
  },
  {
   "cell_type": "markdown",
   "metadata": {
    "slideshow": {
     "slide_type": "slide"
    }
   },
   "source": [
    "### Keyspace\n",
    "- In Cassandra database tables are stored in keyspaces (basically a distributed database).\n",
    "- These have parameters controlling their distribution on nodes/servers and redundancy.\n",
    "- We will use the simplest form locally."
   ]
  },
  {
   "cell_type": "code",
   "execution_count": 2,
   "metadata": {
    "ExecuteTime": {
     "end_time": "2024-08-17T10:25:34.798504Z",
     "start_time": "2024-08-17T10:25:34.789786Z"
    },
    "execution": {
     "iopub.execute_input": "2024-08-17T11:11:08.857654Z",
     "iopub.status.busy": "2024-08-17T11:11:08.857351Z",
     "iopub.status.idle": "2024-08-17T11:11:08.885591Z",
     "shell.execute_reply": "2024-08-17T11:11:08.870416Z"
    },
    "slideshow": {
     "slide_type": "fragment"
    }
   },
   "outputs": [
    {
     "data": {
      "text/plain": [
       "<cassandra.cluster.ResultSet at 0x1058725d0>"
      ]
     },
     "execution_count": 2,
     "metadata": {},
     "output_type": "execute_result"
    }
   ],
   "source": [
    "# Set up new keyspace (first time only)\n",
    "#                                              name of keyspace                        replication strategy           replication factor\n",
    "session.execute(\"CREATE KEYSPACE IF NOT EXISTS my_first_keyspace WITH REPLICATION = { 'class' : 'SimpleStrategy', 'replication_factor' : 1 };\")"
   ]
  },
  {
   "cell_type": "markdown",
   "metadata": {
    "slideshow": {
     "slide_type": "slide"
    }
   },
   "source": [
    "### Create a table\n",
    "- IF NOT EXISTS makes sure we do not overwrite existing tables"
   ]
  },
  {
   "cell_type": "code",
   "execution_count": 3,
   "metadata": {
    "ExecuteTime": {
     "end_time": "2024-08-17T10:25:35.347394Z",
     "start_time": "2024-08-17T10:25:34.800008Z"
    },
    "execution": {
     "iopub.execute_input": "2024-08-17T11:11:08.911341Z",
     "iopub.status.busy": "2024-08-17T11:11:08.911070Z",
     "iopub.status.idle": "2024-08-17T11:11:09.268195Z",
     "shell.execute_reply": "2024-08-17T11:11:09.267726Z"
    },
    "slideshow": {
     "slide_type": "fragment"
    }
   },
   "outputs": [
    {
     "data": {
      "text/plain": [
       "<cassandra.cluster.ResultSet at 0x105873ad0>"
      ]
     },
     "execution_count": 3,
     "metadata": {},
     "output_type": "execute_result"
    }
   ],
   "source": [
    "# Create a new table (first time only)\n",
    "session.set_keyspace('my_first_keyspace')\n",
    "session.execute(\"DROP TABLE IF EXISTS my_first_keyspace.my_first_table;\") # Starting from scratch every time\n",
    "session.execute(\"CREATE TABLE IF NOT EXISTS my_first_table (ind int PRIMARY KEY, company text, model text);\")"
   ]
  },
  {
   "cell_type": "markdown",
   "metadata": {
    "slideshow": {
     "slide_type": "slide"
    }
   },
   "source": [
    "### Inserting and reading data"
   ]
  },
  {
   "cell_type": "code",
   "execution_count": 4,
   "metadata": {
    "ExecuteTime": {
     "end_time": "2024-08-17T10:25:35.366363Z",
     "start_time": "2024-08-17T10:25:35.350453Z"
    },
    "execution": {
     "iopub.execute_input": "2024-08-17T11:11:09.271663Z",
     "iopub.status.busy": "2024-08-17T11:11:09.271398Z",
     "iopub.status.idle": "2024-08-17T11:11:09.282842Z",
     "shell.execute_reply": "2024-08-17T11:11:09.282365Z"
    },
    "slideshow": {
     "slide_type": "-"
    }
   },
   "outputs": [
    {
     "data": {
      "text/plain": [
       "<cassandra.cluster.ResultSet at 0x107005640>"
      ]
     },
     "execution_count": 4,
     "metadata": {},
     "output_type": "execute_result"
    }
   ],
   "source": [
    "# Insert some data (ind is the primary key, must be unique)\n",
    "session.execute(\"INSERT INTO my_first_table (ind, company, model) VALUES (1, 'Tesla', 'Model S');\")\n",
    "session.execute(\"INSERT INTO my_first_table (ind, company, model) VALUES (2, 'Tesla', 'Model 3');\")\n",
    "session.execute(\"INSERT INTO my_first_table (ind, company, model) VALUES (3, 'Polestar', '3');\")"
   ]
  },
  {
   "cell_type": "markdown",
   "metadata": {
    "slideshow": {
     "slide_type": "slide"
    }
   },
   "source": [
    "### Asyncronous writing\n",
    "- If your application is very data intensive, waiting for a response is not productive.\n",
    "- Writing asyncronously sends the data but does not pause for reply."
   ]
  },
  {
   "cell_type": "code",
   "execution_count": 5,
   "metadata": {
    "ExecuteTime": {
     "end_time": "2024-08-17T10:25:35.371390Z",
     "start_time": "2024-08-17T10:25:35.367159Z"
    },
    "execution": {
     "iopub.execute_input": "2024-08-17T11:11:09.284596Z",
     "iopub.status.busy": "2024-08-17T11:11:09.284399Z",
     "iopub.status.idle": "2024-08-17T11:11:09.287020Z",
     "shell.execute_reply": "2024-08-17T11:11:09.286662Z"
    },
    "slideshow": {
     "slide_type": "-"
    }
   },
   "outputs": [
    {
     "data": {
      "text/plain": [
       "<ResponseFuture: query='<SimpleStatement query=\"INSERT INTO my_first_table (ind, company, model) VALUES (4, 'Volkswagen', 'ID.4');\", consistency=Not Set>' request_id=24 result=(no result yet) exception=None coordinator_host=None>"
      ]
     },
     "execution_count": 5,
     "metadata": {},
     "output_type": "execute_result"
    }
   ],
   "source": [
    "session.execute_async(\"INSERT INTO my_first_table (ind, company, model) VALUES (4, 'Volkswagen', 'ID.4');\")"
   ]
  },
  {
   "cell_type": "code",
   "execution_count": 6,
   "metadata": {
    "ExecuteTime": {
     "end_time": "2024-08-17T10:25:35.384736Z",
     "start_time": "2024-08-17T10:25:35.372551Z"
    },
    "execution": {
     "iopub.execute_input": "2024-08-17T11:11:09.288398Z",
     "iopub.status.busy": "2024-08-17T11:11:09.288225Z",
     "iopub.status.idle": "2024-08-17T11:11:09.292272Z",
     "shell.execute_reply": "2024-08-17T11:11:09.292080Z"
    },
    "slideshow": {
     "slide_type": "slide"
    }
   },
   "outputs": [
    {
     "name": "stdout",
     "output_type": "stream",
     "text": [
      "Row(ind=1, company='Tesla', model='Model S')\n",
      "Row(ind=2, company='Tesla', model='Model 3')\n",
      "Row(ind=4, company='Volkswagen', model='ID.4')\n",
      "Row(ind=3, company='Polestar', model='3')\n"
     ]
    }
   ],
   "source": [
    "# Query the data\n",
    "rows = session.execute(\"SELECT * FROM my_first_table;\")\n",
    "for i in rows:\n",
    "    print(i)"
   ]
  },
  {
   "cell_type": "code",
   "execution_count": 7,
   "metadata": {
    "ExecuteTime": {
     "end_time": "2024-08-17T10:25:35.402371Z",
     "start_time": "2024-08-17T10:25:35.386980Z"
    },
    "execution": {
     "iopub.execute_input": "2024-08-17T11:11:09.293405Z",
     "iopub.status.busy": "2024-08-17T11:11:09.293329Z",
     "iopub.status.idle": "2024-08-17T11:11:09.301239Z",
     "shell.execute_reply": "2024-08-17T11:11:09.300994Z"
    },
    "slideshow": {
     "slide_type": "slide"
    },
    "tags": [
     "raises-exception"
    ]
   },
   "outputs": [
    {
     "name": "stdout",
     "output_type": "stream",
     "text": [
      "Row(ind=1, company='Tesla', model='Model S')\n",
      "Row(ind=2, company='Tesla', model='Model 3')\n"
     ]
    }
   ],
   "source": [
    "# More specific query\n",
    "prepared_statement = session.prepare(\"SELECT * FROM my_first_table WHERE company=? ALLOW FILTERING;\")\n",
    "teslas = session.execute(prepared_statement, ['Tesla'])\n",
    "for i in teslas:\n",
    "    print(i)"
   ]
  },
  {
   "cell_type": "markdown",
   "metadata": {
    "slideshow": {
     "slide_type": "slide"
    }
   },
   "source": [
    "## Cassandra filtering\n",
    "Cassandra is inherently a distributed production database. Selecting as above may require downloading all data from a node, then filtering based on the WHERE part (only PRIMARY KEYs are centrally known). Solutions:  \n",
    "- If the table is small or most of the data will satisfy the query, add ```ALLOW FILTERING``` at the end of the query (not recommended if not known). \n",
    "- Or make sure the WHERE clause points to one of the keys (see below)."
   ]
  },
  {
   "cell_type": "code",
   "execution_count": 8,
   "metadata": {
    "ExecuteTime": {
     "end_time": "2024-08-17T10:25:35.613711Z",
     "start_time": "2024-08-17T10:25:35.403622Z"
    },
    "execution": {
     "iopub.execute_input": "2024-08-17T11:11:09.302558Z",
     "iopub.status.busy": "2024-08-17T11:11:09.302476Z",
     "iopub.status.idle": "2024-08-17T11:11:09.681406Z",
     "shell.execute_reply": "2024-08-17T11:11:09.680793Z"
    },
    "slideshow": {
     "slide_type": "slide"
    }
   },
   "outputs": [
    {
     "data": {
      "text/plain": [
       "<cassandra.cluster.ResultSet at 0x107007410>"
      ]
     },
     "execution_count": 8,
     "metadata": {},
     "output_type": "execute_result"
    }
   ],
   "source": [
    "# Create a new table (observe keys)\n",
    "session.execute(\"DROP TABLE IF EXISTS my_first_keyspace.car_table;\")\n",
    "session.execute(\"CREATE TABLE IF NOT EXISTS car_table (company text, model text, PRIMARY KEY(company, model));\")"
   ]
  },
  {
   "cell_type": "code",
   "execution_count": 9,
   "metadata": {
    "ExecuteTime": {
     "end_time": "2024-08-17T10:25:35.628950Z",
     "start_time": "2024-08-17T10:25:35.615126Z"
    },
    "execution": {
     "iopub.execute_input": "2024-08-17T11:11:09.684494Z",
     "iopub.status.busy": "2024-08-17T11:11:09.684140Z",
     "iopub.status.idle": "2024-08-17T11:11:09.699387Z",
     "shell.execute_reply": "2024-08-17T11:11:09.699059Z"
    },
    "slideshow": {
     "slide_type": "fragment"
    }
   },
   "outputs": [
    {
     "data": {
      "text/plain": [
       "<cassandra.cluster.ResultSet at 0x10700c980>"
      ]
     },
     "execution_count": 9,
     "metadata": {},
     "output_type": "execute_result"
    }
   ],
   "source": [
    "# Insert some data (combination of company and model must be unique)\n",
    "session.execute(\"INSERT INTO car_table (company, model) VALUES ('Tesla', 'Model S');\")\n",
    "session.execute(\"INSERT INTO car_table (company, model) VALUES ('Tesla', 'Model 3');\")\n",
    "session.execute(\"INSERT INTO car_table (company, model) VALUES ('Polestar', '3');\")\n",
    "session.execute(\"INSERT INTO car_table (company, model) VALUES ('Volkswagen', 'ID.4');\")"
   ]
  },
  {
   "cell_type": "code",
   "execution_count": 10,
   "metadata": {
    "ExecuteTime": {
     "end_time": "2024-08-17T10:25:35.639765Z",
     "start_time": "2024-08-17T10:25:35.630657Z"
    },
    "execution": {
     "iopub.execute_input": "2024-08-17T11:11:09.700798Z",
     "iopub.status.busy": "2024-08-17T11:11:09.700701Z",
     "iopub.status.idle": "2024-08-17T11:11:09.709531Z",
     "shell.execute_reply": "2024-08-17T11:11:09.709308Z"
    },
    "slideshow": {
     "slide_type": "slide"
    }
   },
   "outputs": [
    {
     "name": "stdout",
     "output_type": "stream",
     "text": [
      "Row(company='Tesla', model='Model 3')\n",
      "Row(company='Tesla', model='Model S')\n"
     ]
    }
   ],
   "source": [
    "# More specific query now works\n",
    "prepared_statement = session.prepare(\"SELECT * FROM car_table WHERE company=?;\")\n",
    "teslas = session.execute(prepared_statement, ['Tesla'])\n",
    "for i in teslas:\n",
    "    print(i)"
   ]
  },
  {
   "cell_type": "markdown",
   "metadata": {
    "slideshow": {
     "slide_type": "slide"
    }
   },
   "source": [
    "### Partitions\n",
    "- Cassandra databases are usually replicated over different nodes.\n",
    "- Data is stored in partitions (subsets) which have local copys.\n",
    "- The primary key, e.g., PRIMARY KEY(company, model), is used in partitioning.\n",
    "    - The first part, e.g., company, is most important.\n",
    "    - All cars from a company will be located together, aiming for quicker queries."
   ]
  },
  {
   "cell_type": "markdown",
   "metadata": {
    "slideshow": {
     "slide_type": "slide"
    }
   },
   "source": [
    "### Unique IDs \n",
    "- In MySQL one could use the attribute AUTO_INCREMENT on integer IDs to automatically make a new unique index when inserting data.\n",
    "- This would cause unreasonable overhead in a distributed database.\n",
    "- [UUID](https://en.wikipedia.org/wiki/Universally_unique_identifier)s are used instead.\n",
    "    - Universally Unique Identifiers are typically 128-bit random bit sequences with extremely low probability of duplication.\n",
    "    - Cassandra uses a [timeuuid](https://docs.datastax.com/en/cql-oss/3.3/cql/cql_reference/timeuuid_functions_r.html) type to combine a timestamp and uuid in one."
   ]
  },
  {
   "cell_type": "code",
   "execution_count": 11,
   "metadata": {
    "ExecuteTime": {
     "end_time": "2024-08-17T10:25:35.766003Z",
     "start_time": "2024-08-17T10:25:35.640600Z"
    },
    "execution": {
     "iopub.execute_input": "2024-08-17T11:11:09.711042Z",
     "iopub.status.busy": "2024-08-17T11:11:09.710948Z",
     "iopub.status.idle": "2024-08-17T11:11:09.918355Z",
     "shell.execute_reply": "2024-08-17T11:11:09.917815Z"
    },
    "slideshow": {
     "slide_type": "fragment"
    }
   },
   "outputs": [
    {
     "data": {
      "text/plain": [
       "<cassandra.cluster.ResultSet at 0x106f29ac0>"
      ]
     },
     "execution_count": 11,
     "metadata": {},
     "output_type": "execute_result"
    }
   ],
   "source": [
    "# Create a new table (first time only)\n",
    "session.set_keyspace('my_first_keyspace')\n",
    "session.execute(\"DROP TABLE IF EXISTS my_first_keyspace.table_with_uuid;\")\n",
    "session.execute(\"CREATE TABLE IF NOT EXISTS table_with_uuid (id timeuuid PRIMARY KEY, company text, model text, price float);\")"
   ]
  },
  {
   "cell_type": "code",
   "execution_count": 12,
   "metadata": {
    "ExecuteTime": {
     "end_time": "2024-08-17T10:25:35.784876Z",
     "start_time": "2024-08-17T10:25:35.766619Z"
    },
    "execution": {
     "iopub.execute_input": "2024-08-17T11:11:09.923981Z",
     "iopub.status.busy": "2024-08-17T11:11:09.923698Z",
     "iopub.status.idle": "2024-08-17T11:11:09.934475Z",
     "shell.execute_reply": "2024-08-17T11:11:09.934197Z"
    },
    "slideshow": {
     "slide_type": "slide"
    }
   },
   "outputs": [
    {
     "data": {
      "text/plain": [
       "<cassandra.cluster.ResultSet at 0x107007080>"
      ]
     },
     "execution_count": 12,
     "metadata": {},
     "output_type": "execute_result"
    }
   ],
   "source": [
    "session.execute(\"INSERT INTO table_with_uuid (id, company, model, price) VALUES (now(), 'Tesla', 'Model S', 20000.0);\")\n",
    "session.execute(\"INSERT INTO table_with_uuid (id, company, model, price) VALUES (now(), 'Tesla', 'Model S', 21000.0);\")\n",
    "session.execute(\"INSERT INTO table_with_uuid (id, company, model, price) VALUES (now(), 'Oldsmobile', 'Model 6C', 135000.0);\")"
   ]
  },
  {
   "cell_type": "code",
   "execution_count": 13,
   "metadata": {
    "ExecuteTime": {
     "end_time": "2024-08-17T10:25:35.792934Z",
     "start_time": "2024-08-17T10:25:35.785467Z"
    },
    "execution": {
     "iopub.execute_input": "2024-08-17T11:11:09.935912Z",
     "iopub.status.busy": "2024-08-17T11:11:09.935798Z",
     "iopub.status.idle": "2024-08-17T11:11:09.942858Z",
     "shell.execute_reply": "2024-08-17T11:11:09.942654Z"
    },
    "slideshow": {
     "slide_type": "slide"
    }
   },
   "outputs": [
    {
     "name": "stdout",
     "output_type": "stream",
     "text": [
      "Row(id=UUID('4070d550-6aeb-11ef-b20b-5d814048fbd2'), company='Tesla', model='Model S', price=21000.0)\n",
      "Datetime: 2024-09-04 18:26:50.277000\n",
      "Row(id=UUID('4068e610-6aeb-11ef-b20b-5d814048fbd2'), company='Tesla', model='Model S', price=20000.0)\n",
      "Datetime: 2024-09-04 18:26:50.225000\n",
      "Row(id=UUID('40714a80-6aeb-11ef-b20b-5d814048fbd2'), company='Oldsmobile', model='Model 6C', price=135000.0)\n",
      "Datetime: 2024-09-04 18:26:50.280000\n"
     ]
    }
   ],
   "source": [
    "from cassandra.util import datetime_from_uuid1\n",
    "\n",
    "# Query the data\n",
    "rows = session.execute(\"SELECT * FROM table_with_uuid;\")\n",
    "for i in rows:\n",
    "    print(i)\n",
    "    # Extract the timestamp from Cassandra's timeuuid\n",
    "    print(\"Datetime:\", datetime_from_uuid1(i.id))"
   ]
  },
  {
   "cell_type": "markdown",
   "metadata": {
    "slideshow": {
     "slide_type": "slide"
    }
   },
   "source": [
    "## JSON in Cassandra\n",
    "### Read previously saved JSON file forecast.json to memory"
   ]
  },
  {
   "cell_type": "code",
   "execution_count": 14,
   "metadata": {
    "ExecuteTime": {
     "end_time": "2024-08-17T10:25:35.796049Z",
     "start_time": "2024-08-17T10:25:35.793437Z"
    },
    "execution": {
     "iopub.execute_input": "2024-08-17T11:11:09.944080Z",
     "iopub.status.busy": "2024-08-17T11:11:09.943989Z",
     "iopub.status.idle": "2024-08-17T11:11:09.946114Z",
     "shell.execute_reply": "2024-08-17T11:11:09.945914Z"
    },
    "slideshow": {
     "slide_type": "-"
    }
   },
   "outputs": [],
   "source": [
    "import json\n",
    "with open('../3_APIs/downloads/forecast.json', 'r') as f:\n",
    "    forecast = json.load(f)"
   ]
  },
  {
   "cell_type": "code",
   "execution_count": 15,
   "metadata": {
    "ExecuteTime": {
     "end_time": "2024-08-17T10:25:35.799114Z",
     "start_time": "2024-08-17T10:25:35.796532Z"
    },
    "execution": {
     "iopub.execute_input": "2024-08-17T11:11:09.947281Z",
     "iopub.status.busy": "2024-08-17T11:11:09.947207Z",
     "iopub.status.idle": "2024-08-17T11:11:09.949379Z",
     "shell.execute_reply": "2024-08-17T11:11:09.949167Z"
    },
    "slideshow": {
     "slide_type": "slide"
    }
   },
   "outputs": [
    {
     "data": {
      "text/plain": [
       "\"{'cod': '200', 'message': 0, 'cnt': 40, 'list': [{'dt': 1724403600, 'main': {'temp': 286.54, 'feels_like': 286.26, 'temp_min': 286.16, 'temp_max': 286.54, 'pressure': 994, 'sea_level': 994, 'grnd_level': 939, 'humidity': 89, 'temp_kf': 0.38}, 'weather': [{'id': 500, 'main': 'Rain', 'description': 'light rain', 'icon': '10d'}], 'clouds': {'all': 100}, 'wind': {'speed': 3.04, 'deg': 151, 'gust': 5.13}, 'visibility': 10000, 'pop': 0.71, 'rain': {'3h': 0.36}, 'sys': {'pod': 'd'}, 'dt_txt': '2024-08-23 09:00:00'}, {'dt': 1724414400, 'main': {'temp': 285.61, 'feels_like': 285.31, 'temp_min': 283.76, 'temp_max': 285.61, 'pressure': 993, 'sea_level': 993, 'grnd_level': 936, 'humidity': 92, 'temp_kf': 1.85}, 'weather': [{'id': 500, 'main': 'Rain', 'description': 'light rain', 'icon': '10d'}], 'clouds': {'all': 100}, 'wind': {'speed': 1.62, 'deg': 131, 'gust': 3.24}, 'visibility': 2487, 'pop': 1, 'rain': {'3h': 1.71}, 'sys': {'pod': 'd'}, 'dt_txt': '2024-08-23 12:00:00'}, {'dt': 1724425200, 'main': {'temp': 284.36, 'feels_like': 284.02, 'temp_min': 283.27, 'temp_max': 284.36, 'pressure': 989, 'sea_level': 989, 'grnd_level': 931, 'humidity': 95, 'temp_kf': 1.09}, 'weather': [{'id': 501, 'main': 'Rain', 'description': 'moderate rain', 'icon': '10d'}], 'clouds': {'all': 100}, 'wind': {'speed': 2.16, 'deg': 350, 'gust': 3.77}, 'visibility': 4070, 'pop': 1, 'rain': {'3h': 7.85}, 'sys': {'pod': 'd'}, 'dt_txt': '2024-08-23 15:00:00'}, {'dt': 1724436000, 'main': {'temp': 283.95, 'feels_like': 283.62, 'temp_min': 283.95, 'temp_max': 283.95, 'pressure': 986, 'sea_level': 986, 'grnd_level': 931, 'humidity': 97, 'temp_kf': 0}, 'weather': [{'id': 501, 'main': 'Rain', 'description': 'moderate rain', 'icon': '10d'}], 'clouds': {'all': 100}, 'wind': {'speed': 1.2, 'deg': 240, 'gust': 1.61}, 'visibility': 10000, 'pop': 1, 'rain': {'3h': 4.04}, 'sys': {'pod': 'd'}, 'dt_txt': '2024-08-23 18:00:00'}, {'dt': 1724446800, 'main': {'temp': 282.79, 'feels_like': 281.43, 'temp_min': 282.79, 'temp_max': 282.79, 'pressure': 991, 'sea_level': 991, 'grnd_level': 936, 'humidity': 95, 'temp_kf': 0}, 'weather': [{'id': 500, 'main': 'Rain', 'description': 'light rain', 'icon': '10n'}], 'clouds': {'all': 70}, 'wind': {'speed': 2.68, 'deg': 277, 'gust': 5.43}, 'visibility': 10000, 'pop': 0.31, 'rain': {'3h': 0.23}, 'sys': {'pod': 'n'}, 'dt_txt': '2024-08-23 21:00:00'}, {'dt': 1724457600, 'main': {'temp': 281.91, 'feels_like': 280.92, 'temp_min': 281.91, 'temp_max': 281.91, 'pressure': 997, 'sea_level': 997, 'grnd_level': 940, 'humidity': 89, 'temp_kf': 0}, 'weather': [{'id': 802, 'main': 'Clouds', 'description': 'scattered clouds', 'icon': '03n'}], 'clouds': {'all': 39}, 'wind': {'speed': 1.98, 'deg': 278, 'gust': 1.98}, 'visibility': 10000, 'pop': 0, 'sys': {'pod': 'n'}, 'dt_txt': '2024-08-24 00:00:00'}, {'dt': 1724468400, 'main': {'temp': 281.03, 'feels_like': 279.84, 'temp_min': 281.03, 'temp_max': 281.03, 'pressure': 1001, 'sea_level': 1001, 'grnd_level': 944, 'humidity': 92, 'temp_kf': 0}, 'weather': [{'id': 802, 'main': 'Clouds', 'description': 'scattered clouds', 'icon': '03n'}], 'clouds': {'all': 28}, 'wind': {'speed': 2.04, 'deg': 268, 'gust': 1.9}, 'visibility': 10000, 'pop': 0, 'sys': {'pod': 'n'}, 'dt_txt': '2024-08-24 03:00:00'}, {'dt': 1724479200, 'main': {'temp': 283.37, 'feels_like': 282.69, 'temp_min': 283.37, 'temp_max': 283.37, 'pressure': 1003, 'sea_level': 1003, 'grnd_level': 946, 'humidity': 86, 'temp_kf': 0}, 'weather': [{'id': 803, 'main': 'Clouds', 'description': 'broken clouds', 'icon': '04d'}], 'clouds': {'all': 55}, 'wind': {'speed': 0.89, 'deg': 243, 'gust': 1.25}, 'visibility': 10000, 'pop': 0, 'sys': {'pod': 'd'}, 'dt_txt': '2024-08-24 06:00:00'}, {'dt': 1724490000, 'main': {'temp': 287.48, 'feels_like': 286.69, 'temp_min': 287.48, 'temp_max': 287.48, 'pressure': 1004, 'sea_level': 1004, 'grnd_level': 948, 'humidity': 66, 'temp_kf': 0}, 'weather': [{'id': 803, 'main': 'Clouds', 'description': 'broken clouds', 'icon': '04d'}], 'clouds': {'all': 84}, 'wind': {'speed': 2.82, 'deg': 181, 'gust': 4.81}, 'visibility': 10000, 'pop': 0, 'sys': {'pod': 'd'}, 'dt_txt': '2024-08-24 09:00:00'}, {'dt': 1724500800, 'main': {'temp': 289.38, 'feels_like': 288.63, 'temp_min': 289.38, 'temp_max': 289.38, 'pressure': 1004, 'sea_level': 1004, 'grnd_level': 948, 'humidity': 60, 'temp_kf': 0}, 'weather': [{'id': 804, 'main': 'Clouds', 'description': 'overcast clouds', 'icon': '04d'}], 'clouds': {'all': 92}, 'wind': {'speed': 4.44, 'deg': 188, 'gust': 9.17}, 'visibility': 10000, 'pop': 0, 'sys': {'pod': 'd'}, 'dt_txt': '2024-08-24 12:00:00'}, {'dt': 1724511600, 'main': {'temp': 288.11, 'feels_like': 287.75, 'temp_min': 288.11, 'temp_max': 288.11, 'pressure': 1003, 'sea_level': 1003, 'grnd_level': 948, 'humidity': 80, 'temp_kf': 0}, 'weather': [{'id': 500, 'main': 'Rain', 'description': 'light rain', 'icon': '10d'}], 'clouds': {'all': 100}, 'wind': {'speed': 4.01, 'deg': 171, 'gust': 7.69}, 'visibility': 10000, 'pop': 1, 'rain': {'3h': 0.52}, 'sys': {'pod': 'd'}, 'dt_txt': '2024-08-24 15:00:00'}, {'dt': 1724522400, 'main': {'temp': 286.08, 'feels_like': 285.73, 'temp_min': 286.08, 'temp_max': 286.08, 'pressure': 1003, 'sea_level': 1003, 'grnd_level': 947, 'humidity': 88, 'temp_kf': 0}, 'weather': [{'id': 500, 'main': 'Rain', 'description': 'light rain', 'icon': '10d'}], 'clouds': {'all': 100}, 'wind': {'speed': 2.58, 'deg': 161, 'gust': 6.52}, 'visibility': 10000, 'pop': 1, 'rain': {'3h': 0.25}, 'sys': {'pod': 'd'}, 'dt_txt': '2024-08-24 18:00:00'}, {'dt': 1724533200, 'main': {'temp': 284.09, 'feels_like': 283.82, 'temp_min': 284.09, 'temp_max': 284.09, 'pressure': 1003, 'sea_level': 1003, 'grnd_level': 947, 'humidity': 99, 'temp_kf': 0}, 'weather': [{'id': 804, 'main': 'Clouds', 'description': 'overcast clouds', 'icon': '04n'}], 'clouds': {'all': 99}, 'wind': {'speed': 0.9, 'deg': 154, 'gust': 2.01}, 'visibility': 6284, 'pop': 0, 'sys': {'pod': 'n'}, 'dt_txt': '2024-08-24 21:00:00'}, {'dt': 1724544000, 'main': {'temp': 284.48, 'feels_like': 284.23, 'temp_min': 284.48, 'temp_max': 284.48, 'pressure': 1001, 'sea_level': 1001, 'grnd_level': 945, 'humidity': 98, 'temp_kf': 0}, 'weather': [{'id': 804, 'main': 'Clouds', 'description': 'overcast clouds', 'icon': '04n'}], 'clouds': {'all': 100}, 'wind': {'speed': 0.32, 'deg': 284, 'gust': 0.35}, 'visibility': 10000, 'pop': 0, 'sys': {'pod': 'n'}, 'dt_txt': '2024-08-25 00:00:00'}, {'dt': 1724554800, 'main': {'temp': 283.73, 'feels_like': 283.35, 'temp_min': 283.73, 'temp_max': 283.73, 'pressure': 1001, 'sea_level': 1001, 'grnd_level': 945, 'humidity': 96, 'temp_kf': 0}, 'weather': [{'id': 804, 'main': 'Clouds', 'description': 'overcast clouds', 'icon': '04n'}], 'clouds': {'all': 98}, 'wind': {'speed': 1, 'deg': 272, 'gust': 0.89}, 'visibility': 10000, 'pop': 0, 'sys': {'pod': 'n'}, 'dt_txt': '2024-08-25 03:00:00'}, {'dt': 1724565600, 'main': {'temp': 284.45, 'feels_like': 283.91, 'temp_min': 284.45, 'temp_max': 284.45, 'pressure': 1002, 'sea_level': 1002, 'grnd_level': 945, 'humidity': 87, 'temp_kf': 0}, 'weather': [{'id': 803, 'main': 'Clouds', 'description': 'broken clouds', 'icon': '04d'}], 'clouds': {'all': 60}, 'wind': {'speed': 1.11, 'deg': 274, 'gust': 1.41}, 'visibility': 10000, 'pop': 0, 'sys': {'pod': 'd'}, 'dt_txt': '2024-08-25 06:00:00'}, {'dt': 1724576400, 'main': {'temp': 289.68, 'feels_like': 288.77, 'temp_min': 289.68, 'temp_max': 289.68, 'pressure': 1002, 'sea_level': 1002, 'grnd_level': 947, 'humidity': 53, 'temp_kf': 0}, 'weather': [{'id': 802, 'main': 'Clouds', 'description': 'scattered clouds', 'icon': '03d'}], 'clouds': {'all': 34}, 'wind': {'speed': 1.57, 'deg': 228, 'gust': 4.13}, 'visibility': 10000, 'pop': 0, 'sys': {'pod': 'd'}, 'dt_txt': '2024-08-25 09:00:00'}, {'dt': 1724587200, 'main': {'temp': 291.38, 'feels_like': 290.38, 'temp_min': 291.38, 'temp_max': 291.38, 'pressure': 1003, 'sea_level': 1003, 'grnd_level': 948, 'humidity': 43, 'temp_kf': 0}, 'weather': [{'id': 802, 'main': 'Clouds', 'description': 'scattered clouds', 'icon': '03d'}], 'clouds': {'all': 32}, 'wind': {'speed': 5.38, 'deg': 239, 'gust': 7.87}, 'visibility': 10000, 'pop': 0, 'sys': {'pod': 'd'}, 'dt_txt': '2024-08-25 12:00:00'}, {'dt': 1724598000, 'main': {'temp': 290.15, 'feels_like': 289.11, 'temp_min': 290.15, 'temp_max': 290.15, 'pressure': 1005, 'sea_level': 1005, 'grnd_level': 950, 'humidity': 46, 'temp_kf': 0}, 'weather': [{'id': 802, 'main': 'Clouds', 'description': 'scattered clouds', 'icon': '03d'}], 'clouds': {'all': 42}, 'wind': {'speed': 5.04, 'deg': 237, 'gust': 8.04}, 'visibility': 10000, 'pop': 0, 'sys': {'pod': 'd'}, 'dt_txt': '2024-08-25 15:00:00'}, {'dt': 1724608800, 'main': {'temp': 285.97, 'feels_like': 284.85, 'temp_min': 285.97, 'temp_max': 285.97, 'pressure': 1008, 'sea_level': 1008, 'grnd_level': 951, 'humidity': 59, 'temp_kf': 0}, 'weather': [{'id': 802, 'main': 'Clouds', 'description': 'scattered clouds', 'icon': '03d'}], 'clouds': {'all': 44}, 'wind': {'speed': 3.42, 'deg': 235, 'gust': 9.13}, 'visibility': 10000, 'pop': 0, 'sys': {'pod': 'd'}, 'dt_txt': '2024-08-25 18:00:00'}, {'dt': 1724619600, 'main': {'temp': 282.02, 'feels_like': 281.23, 'temp_min': 282.02, 'temp_max': 282.02, 'pressure': 1010, 'sea_level': 1010, 'grnd_level': 953, 'humidity': 75, 'temp_kf': 0}, 'weather': [{'id': 801, 'main': 'Clouds', 'description': 'few clouds', 'icon': '02n'}], 'clouds': {'all': 19}, 'wind': {'speed': 1.77, 'deg': 266, 'gust': 2.58}, 'visibility': 10000, 'pop': 0, 'sys': {'pod': 'n'}, 'dt_txt': '2024-08-25 21:00:00'}, {'dt': 1724630400, 'main': {'temp': 280.61, 'feels_like': 280.61, 'temp_min': 280.61, 'temp_max': 280.61, 'pressure': 1012, 'sea_level': 1012, 'grnd_level': 954, 'humidity': 83, 'temp_kf': 0}, 'weather': [{'id': 802, 'main': 'Clouds', 'description': 'scattered clouds', 'icon': '03n'}], 'clouds': {'all': 35}, 'wind': {'speed': 1.27, 'deg': 254, 'gust': 1.25}, 'visibility': 10000, 'pop': 0, 'sys': {'pod': 'n'}, 'dt_txt': '2024-08-26 00:00:00'}, {'dt': 1724641200, 'main': {'temp': 279.53, 'feels_like': 279.53, 'temp_min': 279.53, 'temp_max': 279.53, 'pressure': 1012, 'sea_level': 1012, 'grnd_level': 955, 'humidity': 90, 'temp_kf': 0}, 'weather': [{'id': 803, 'main': 'Clouds', 'description': 'broken clouds', 'icon': '04n'}], 'clouds': {'all': 71}, 'wind': {'speed': 1.04, 'deg': 229, 'gust': 0.97}, 'visibility': 10000, 'pop': 0, 'sys': {'pod': 'n'}, 'dt_txt': '2024-08-26 03:00:00'}, {'dt': 1724652000, 'main': {'temp': 281.3, 'feels_like': 281.3, 'temp_min': 281.3, 'temp_max': 281.3, 'pressure': 1012, 'sea_level': 1012, 'grnd_level': 955, 'humidity': 90, 'temp_kf': 0}, 'weather': [{'id': 500, 'main': 'Rain', 'description': 'light rain', 'icon': '10d'}], 'clouds': {'all': 71}, 'wind': {'speed': 0.37, 'deg': 177, 'gust': 0.97}, 'visibility': 10000, 'pop': 0.2, 'rain': {'3h': 0.14}, 'sys': {'pod': 'd'}, 'dt_txt': '2024-08-26 06:00:00'}, {'dt': 1724662800, 'main': {'temp': 283.1, 'feels_like': 283.1, 'temp_min': 283.1, 'temp_max': 283.1, 'pressure': 1011, 'sea_level': 1011, 'grnd_level': 954, 'humidity': 97, 'temp_kf': 0}, 'weather': [{'id': 500, 'main': 'Rain', 'description': 'light rain', 'icon': '10d'}], 'clouds': {'all': 100}, 'wind': {'speed': 0.51, 'deg': 333, 'gust': 0.75}, 'visibility': 2448, 'pop': 1, 'rain': {'3h': 1}, 'sys': {'pod': 'd'}, 'dt_txt': '2024-08-26 09:00:00'}, {'dt': 1724673600, 'main': {'temp': 286.74, 'feels_like': 286.5, 'temp_min': 286.74, 'temp_max': 286.74, 'pressure': 1011, 'sea_level': 1011, 'grnd_level': 954, 'humidity': 90, 'temp_kf': 0}, 'weather': [{'id': 804, 'main': 'Clouds', 'description': 'overcast clouds', 'icon': '04d'}], 'clouds': {'all': 100}, 'wind': {'speed': 1.39, 'deg': 214, 'gust': 3.18}, 'visibility': 10000, 'pop': 0.8, 'sys': {'pod': 'd'}, 'dt_txt': '2024-08-26 12:00:00'}, {'dt': 1724684400, 'main': {'temp': 287.22, 'feels_like': 287.06, 'temp_min': 287.22, 'temp_max': 287.22, 'pressure': 1010, 'sea_level': 1010, 'grnd_level': 954, 'humidity': 91, 'temp_kf': 0}, 'weather': [{'id': 500, 'main': 'Rain', 'description': 'light rain', 'icon': '10d'}], 'clouds': {'all': 100}, 'wind': {'speed': 1.19, 'deg': 215, 'gust': 1.55}, 'visibility': 10000, 'pop': 0.76, 'rain': {'3h': 0.4}, 'sys': {'pod': 'd'}, 'dt_txt': '2024-08-26 15:00:00'}, {'dt': 1724695200, 'main': {'temp': 286.1, 'feels_like': 285.91, 'temp_min': 286.1, 'temp_max': 286.1, 'pressure': 1011, 'sea_level': 1011, 'grnd_level': 955, 'humidity': 94, 'temp_kf': 0}, 'weather': [{'id': 500, 'main': 'Rain', 'description': 'light rain', 'icon': '10d'}], 'clouds': {'all': 100}, 'wind': {'speed': 1.36, 'deg': 272, 'gust': 1.12}, 'visibility': 10000, 'pop': 0.95, 'rain': {'3h': 0.85}, 'sys': {'pod': 'd'}, 'dt_txt': '2024-08-26 18:00:00'}, {'dt': 1724706000, 'main': {'temp': 283.14, 'feels_like': 282.33, 'temp_min': 283.14, 'temp_max': 283.14, 'pressure': 1014, 'sea_level': 1014, 'grnd_level': 957, 'humidity': 94, 'temp_kf': 0}, 'weather': [{'id': 803, 'main': 'Clouds', 'description': 'broken clouds', 'icon': '04n'}], 'clouds': {'all': 83}, 'wind': {'speed': 2, 'deg': 283, 'gust': 1.65}, 'visibility': 10000, 'pop': 0, 'sys': {'pod': 'n'}, 'dt_txt': '2024-08-26 21:00:00'}, {'dt': 1724716800, 'main': {'temp': 281.29, 'feels_like': 279.87, 'temp_min': 281.29, 'temp_max': 281.29, 'pressure': 1016, 'sea_level': 1016, 'grnd_level': 958, 'humidity': 92, 'temp_kf': 0}, 'weather': [{'id': 802, 'main': 'Clouds', 'description': 'scattered clouds', 'icon': '03n'}], 'clouds': {'all': 45}, 'wind': {'speed': 2.37, 'deg': 284, 'gust': 2.33}, 'visibility': 10000, 'pop': 0, 'sys': {'pod': 'n'}, 'dt_txt': '2024-08-27 00:00:00'}, {'dt': 1724727600, 'main': {'temp': 280.23, 'feels_like': 278.76, 'temp_min': 280.23, 'temp_max': 280.23, 'pressure': 1018, 'sea_level': 1018, 'grnd_level': 960, 'humidity': 92, 'temp_kf': 0}, 'weather': [{'id': 801, 'main': 'Clouds', 'description': 'few clouds', 'icon': '02n'}], 'clouds': {'all': 15}, 'wind': {'speed': 2.2, 'deg': 289, 'gust': 2.09}, 'visibility': 10000, 'pop': 0, 'sys': {'pod': 'n'}, 'dt_txt': '2024-08-27 03:00:00'}, {'dt': 1724738400, 'main': {'temp': 282.15, 'feels_like': 281.44, 'temp_min': 282.15, 'temp_max': 282.15, 'pressure': 1020, 'sea_level': 1020, 'grnd_level': 962, 'humidity': 89, 'temp_kf': 0}, 'weather': [{'id': 803, 'main': 'Clouds', 'description': 'broken clouds', 'icon': '04d'}], 'clouds': {'all': 51}, 'wind': {'speed': 1.71, 'deg': 299, 'gust': 2.57}, 'visibility': 10000, 'pop': 0, 'sys': {'pod': 'd'}, 'dt_txt': '2024-08-27 06:00:00'}, {'dt': 1724749200, 'main': {'temp': 288.64, 'feels_like': 287.79, 'temp_min': 288.64, 'temp_max': 288.64, 'pressure': 1020, 'sea_level': 1020, 'grnd_level': 963, 'humidity': 59, 'temp_kf': 0}, 'weather': [{'id': 802, 'main': 'Clouds', 'description': 'scattered clouds', 'icon': '03d'}], 'clouds': {'all': 46}, 'wind': {'speed': 0.64, 'deg': 149, 'gust': 0.56}, 'visibility': 10000, 'pop': 0, 'sys': {'pod': 'd'}, 'dt_txt': '2024-08-27 09:00:00'}, {'dt': 1724760000, 'main': {'temp': 291.54, 'feels_like': 290.61, 'temp_min': 291.54, 'temp_max': 291.54, 'pressure': 1020, 'sea_level': 1020, 'grnd_level': 964, 'humidity': 45, 'temp_kf': 0}, 'weather': [{'id': 803, 'main': 'Clouds', 'description': 'broken clouds', 'icon': '04d'}], 'clouds': {'all': 67}, 'wind': {'speed': 2.29, 'deg': 164, 'gust': 2.91}, 'visibility': 10000, 'pop': 0, 'sys': {'pod': 'd'}, 'dt_txt': '2024-08-27 12:00:00'}, {'dt': 1724770800, 'main': {'temp': 291.97, 'feels_like': 291.13, 'temp_min': 291.97, 'temp_max': 291.97, 'pressure': 1019, 'sea_level': 1019, 'grnd_level': 963, 'humidity': 47, 'temp_kf': 0}, 'weather': [{'id': 804, 'main': 'Clouds', 'description': 'overcast clouds', 'icon': '04d'}], 'clouds': {'all': 93}, 'wind': {'speed': 2.2, 'deg': 155, 'gust': 2.95}, 'visibility': 10000, 'pop': 0, 'sys': {'pod': 'd'}, 'dt_txt': '2024-08-27 15:00:00'}, {'dt': 1724781600, 'main': {'temp': 287.91, 'feels_like': 287.3, 'temp_min': 287.91, 'temp_max': 287.91, 'pressure': 1020, 'sea_level': 1020, 'grnd_level': 963, 'humidity': 71, 'temp_kf': 0}, 'weather': [{'id': 804, 'main': 'Clouds', 'description': 'overcast clouds', 'icon': '04d'}], 'clouds': {'all': 97}, 'wind': {'speed': 0.31, 'deg': 176, 'gust': 0.32}, 'visibility': 10000, 'pop': 0, 'sys': {'pod': 'd'}, 'dt_txt': '2024-08-27 18:00:00'}, {'dt': 1724792400, 'main': {'temp': 285.65, 'feels_like': 285.1, 'temp_min': 285.65, 'temp_max': 285.65, 'pressure': 1021, 'sea_level': 1021, 'grnd_level': 964, 'humidity': 82, 'temp_kf': 0}, 'weather': [{'id': 804, 'main': 'Clouds', 'description': 'overcast clouds', 'icon': '04n'}], 'clouds': {'all': 100}, 'wind': {'speed': 0.76, 'deg': 290, 'gust': 0.65}, 'visibility': 10000, 'pop': 0, 'sys': {'pod': 'n'}, 'dt_txt': '2024-08-27 21:00:00'}, {'dt': 1724803200, 'main': {'temp': 285.32, 'feels_like': 284.79, 'temp_min': 285.32, 'temp_max': 285.32, 'pressure': 1022, 'sea_level': 1022, 'grnd_level': 965, 'humidity': 84, 'temp_kf': 0}, 'weather': [{'id': 804, 'main': 'Clouds', 'description': 'overcast clouds', 'icon': '04n'}], 'clouds': {'all': 100}, 'wind': {'speed': 1.03, 'deg': 252, 'gust': 0.94}, 'visibility': 10000, 'pop': 0, 'sys': {'pod': 'n'}, 'dt_txt': '2024-08-28 00:00:00'}, {'dt': 1724814000, 'main': {'temp': 283.99, 'feels_like': 283.53, 'temp_min': 283.99, 'temp_max': 283.99, 'pressure': 1022, 'sea_level': 1022, 'grnd_level': 965, 'humidity': 92, 'temp_kf': 0}, 'weather': [{'id': 804, 'main': 'Clouds', 'description': 'overcast clouds', 'icon': '04n'}], 'clouds': {'all': 92}, 'wind': {'speed': 1.22, 'deg': 268, 'gust': 1.06}, 'visibility': 10000, 'pop': 0, 'sys': {'pod': 'n'}, 'dt_txt': '2024-08-28 03:00:00'}, {'dt': 1724824800, 'main': {'temp': 286.7, 'feels_like': 286.3, 'temp_min': 286.7, 'temp_max': 286.7, 'pressure': 1023, 'sea_level': 1023, 'grnd_level': 966, 'humidity': 84, 'temp_kf': 0}, 'weather': [{'id': 804, 'main': 'Clouds', 'description': 'overcast clouds', 'icon': '04d'}], 'clouds': {'all': 94}, 'wind': {'speed': 1.04, 'deg': 246, 'gust': 1.4}, 'visibility': 10000, 'pop': 0, 'sys': {'pod': 'd'}, 'dt_txt': '2024-08-28 06:00:00'}], 'city': {'id': 3144113, 'name': 'Noresund', 'coord': {'lat': 60.1803, 'lon': 9.6231}, 'country': 'NO', 'population': 1000, 'timezone': 7200, 'sunrise': 1724385319, 'sunset': 1724439194}}\""
      ]
     },
     "execution_count": 15,
     "metadata": {},
     "output_type": "execute_result"
    }
   ],
   "source": [
    "# Inspect JSON file\n",
    "forecast.__str__()"
   ]
  },
  {
   "cell_type": "markdown",
   "metadata": {
    "slideshow": {
     "slide_type": "slide"
    }
   },
   "source": [
    "## Raw JSON\n",
    "- A simple, but not very efficient way of storing JSON data is to treat it as a text and save it directly to the database.  \n",
    "- More efficient, with regard to transfer, is to compress the JSON data to a blob first.\n",
    "    - Compression is automatic."
   ]
  },
  {
   "cell_type": "code",
   "execution_count": 16,
   "metadata": {
    "ExecuteTime": {
     "end_time": "2024-08-17T10:25:35.916537Z",
     "start_time": "2024-08-17T10:25:35.799572Z"
    },
    "execution": {
     "iopub.execute_input": "2024-08-17T11:11:09.950984Z",
     "iopub.status.busy": "2024-08-17T11:11:09.950913Z",
     "iopub.status.idle": "2024-08-17T11:11:10.145496Z",
     "shell.execute_reply": "2024-08-17T11:11:10.144832Z"
    },
    "slideshow": {
     "slide_type": "-"
    }
   },
   "outputs": [
    {
     "data": {
      "text/plain": [
       "<cassandra.cluster.ResultSet at 0x106785e80>"
      ]
     },
     "execution_count": 16,
     "metadata": {},
     "output_type": "execute_result"
    }
   ],
   "source": [
    "# Create a new table which treats the whole JSON as a blob, using the city id and the first dt as keys\n",
    "session.set_keyspace('my_first_keyspace')\n",
    "session.execute(\"DROP TABLE IF EXISTS my_first_keyspace.forecast_table;\")\n",
    "session.execute(\"CREATE TABLE IF NOT EXISTS forecast_table (city_id int, dt int, forecast blob, PRIMARY KEY(city_id, dt));\")"
   ]
  },
  {
   "cell_type": "markdown",
   "metadata": {
    "slideshow": {
     "slide_type": "slide"
    }
   },
   "source": [
    "### Insert the forecast data into the table as text blob"
   ]
  },
  {
   "cell_type": "code",
   "execution_count": 17,
   "metadata": {
    "ExecuteTime": {
     "end_time": "2024-08-17T10:25:35.935855Z",
     "start_time": "2024-08-17T10:25:35.917175Z"
    },
    "execution": {
     "iopub.execute_input": "2024-08-17T11:11:10.148703Z",
     "iopub.status.busy": "2024-08-17T11:11:10.148303Z",
     "iopub.status.idle": "2024-08-17T11:11:10.155783Z",
     "shell.execute_reply": "2024-08-17T11:11:10.155541Z"
    },
    "slideshow": {
     "slide_type": "-"
    }
   },
   "outputs": [
    {
     "data": {
      "text/plain": [
       "<cassandra.cluster.ResultSet at 0x1070071a0>"
      ]
     },
     "execution_count": 17,
     "metadata": {},
     "output_type": "execute_result"
    }
   ],
   "source": [
    "session.execute(\"INSERT INTO forecast_table (city_id, dt, forecast) VALUES (%s, %s, textAsBlob(%s));\", (forecast['city']['id'], forecast['list'][0]['dt'], forecast.__str__()))"
   ]
  },
  {
   "cell_type": "code",
   "execution_count": 18,
   "metadata": {
    "ExecuteTime": {
     "end_time": "2024-08-17T10:25:35.946537Z",
     "start_time": "2024-08-17T10:25:35.938642Z"
    },
    "execution": {
     "iopub.execute_input": "2024-08-17T11:11:10.159331Z",
     "iopub.status.busy": "2024-08-17T11:11:10.159199Z",
     "iopub.status.idle": "2024-08-17T11:11:10.169987Z",
     "shell.execute_reply": "2024-08-17T11:11:10.169745Z"
    },
    "slideshow": {
     "slide_type": "slide"
    }
   },
   "outputs": [
    {
     "name": "stdout",
     "output_type": "stream",
     "text": [
      "Row(city_id=3144113, dt=1724403600, forecast=b\"{'cod': '200', 'message': 0, 'cnt': 40, 'list': [{'dt': 1724403600, 'main': {'temp': 286.54, 'feels_like': 286.26, 'temp_min': 286.16, 'temp_max': 286.54, 'pressure': 994, 'sea_level': 994, 'grnd_level': 939, 'humidity': 89, 'temp_kf': 0.38}, 'weather': [{'id': 500, 'main': 'Rain', 'description': 'light rain', 'icon': '10d'}], 'clouds': {'all': 100}, 'wind': {'speed': 3.04, 'deg': 151, 'gust': 5.13}, 'visibility': 10000, 'pop': 0.71, 'rain': {'3h': 0.36}, 'sys': {'pod': 'd'}, 'dt_txt': '2024-08-23 09:00:00'}, {'dt': 1724414400, 'main': {'temp': 285.61, 'feels_like': 285.31, 'temp_min': 283.76, 'temp_max': 285.61, 'pressure': 993, 'sea_level': 993, 'grnd_level': 936, 'humidity': 92, 'temp_kf': 1.85}, 'weather': [{'id': 500, 'main': 'Rain', 'description': 'light rain', 'icon': '10d'}], 'clouds': {'all': 100}, 'wind': {'speed': 1.62, 'deg': 131, 'gust': 3.24}, 'visibility': 2487, 'pop': 1, 'rain': {'3h': 1.71}, 'sys': {'pod': 'd'}, 'dt_txt': '2024-08-23 12:00:00'}, {'dt': 1724425200, 'main': {'temp': 284.36, 'feels_like': 284.02, 'temp_min': 283.27, 'temp_max': 284.36, 'pressure': 989, 'sea_level': 989, 'grnd_level': 931, 'humidity': 95, 'temp_kf': 1.09}, 'weather': [{'id': 501, 'main': 'Rain', 'description': 'moderate rain', 'icon': '10d'}], 'clouds': {'all': 100}, 'wind': {'speed': 2.16, 'deg': 350, 'gust': 3.77}, 'visibility': 4070, 'pop': 1, 'rain': {'3h': 7.85}, 'sys': {'pod': 'd'}, 'dt_txt': '2024-08-23 15:00:00'}, {'dt': 1724436000, 'main': {'temp': 283.95, 'feels_like': 283.62, 'temp_min': 283.95, 'temp_max': 283.95, 'pressure': 986, 'sea_level': 986, 'grnd_level': 931, 'humidity': 97, 'temp_kf': 0}, 'weather': [{'id': 501, 'main': 'Rain', 'description': 'moderate rain', 'icon': '10d'}], 'clouds': {'all': 100}, 'wind': {'speed': 1.2, 'deg': 240, 'gust': 1.61}, 'visibility': 10000, 'pop': 1, 'rain': {'3h': 4.04}, 'sys': {'pod': 'd'}, 'dt_txt': '2024-08-23 18:00:00'}, {'dt': 1724446800, 'main': {'temp': 282.79, 'feels_like': 281.43, 'temp_min': 282.79, 'temp_max': 282.79, 'pressure': 991, 'sea_level': 991, 'grnd_level': 936, 'humidity': 95, 'temp_kf': 0}, 'weather': [{'id': 500, 'main': 'Rain', 'description': 'light rain', 'icon': '10n'}], 'clouds': {'all': 70}, 'wind': {'speed': 2.68, 'deg': 277, 'gust': 5.43}, 'visibility': 10000, 'pop': 0.31, 'rain': {'3h': 0.23}, 'sys': {'pod': 'n'}, 'dt_txt': '2024-08-23 21:00:00'}, {'dt': 1724457600, 'main': {'temp': 281.91, 'feels_like': 280.92, 'temp_min': 281.91, 'temp_max': 281.91, 'pressure': 997, 'sea_level': 997, 'grnd_level': 940, 'humidity': 89, 'temp_kf': 0}, 'weather': [{'id': 802, 'main': 'Clouds', 'description': 'scattered clouds', 'icon': '03n'}], 'clouds': {'all': 39}, 'wind': {'speed': 1.98, 'deg': 278, 'gust': 1.98}, 'visibility': 10000, 'pop': 0, 'sys': {'pod': 'n'}, 'dt_txt': '2024-08-24 00:00:00'}, {'dt': 1724468400, 'main': {'temp': 281.03, 'feels_like': 279.84, 'temp_min': 281.03, 'temp_max': 281.03, 'pressure': 1001, 'sea_level': 1001, 'grnd_level': 944, 'humidity': 92, 'temp_kf': 0}, 'weather': [{'id': 802, 'main': 'Clouds', 'description': 'scattered clouds', 'icon': '03n'}], 'clouds': {'all': 28}, 'wind': {'speed': 2.04, 'deg': 268, 'gust': 1.9}, 'visibility': 10000, 'pop': 0, 'sys': {'pod': 'n'}, 'dt_txt': '2024-08-24 03:00:00'}, {'dt': 1724479200, 'main': {'temp': 283.37, 'feels_like': 282.69, 'temp_min': 283.37, 'temp_max': 283.37, 'pressure': 1003, 'sea_level': 1003, 'grnd_level': 946, 'humidity': 86, 'temp_kf': 0}, 'weather': [{'id': 803, 'main': 'Clouds', 'description': 'broken clouds', 'icon': '04d'}], 'clouds': {'all': 55}, 'wind': {'speed': 0.89, 'deg': 243, 'gust': 1.25}, 'visibility': 10000, 'pop': 0, 'sys': {'pod': 'd'}, 'dt_txt': '2024-08-24 06:00:00'}, {'dt': 1724490000, 'main': {'temp': 287.48, 'feels_like': 286.69, 'temp_min': 287.48, 'temp_max': 287.48, 'pressure': 1004, 'sea_level': 1004, 'grnd_level': 948, 'humidity': 66, 'temp_kf': 0}, 'weather': [{'id': 803, 'main': 'Clouds', 'description': 'broken clouds', 'icon': '04d'}], 'clouds': {'all': 84}, 'wind': {'speed': 2.82, 'deg': 181, 'gust': 4.81}, 'visibility': 10000, 'pop': 0, 'sys': {'pod': 'd'}, 'dt_txt': '2024-08-24 09:00:00'}, {'dt': 1724500800, 'main': {'temp': 289.38, 'feels_like': 288.63, 'temp_min': 289.38, 'temp_max': 289.38, 'pressure': 1004, 'sea_level': 1004, 'grnd_level': 948, 'humidity': 60, 'temp_kf': 0}, 'weather': [{'id': 804, 'main': 'Clouds', 'description': 'overcast clouds', 'icon': '04d'}], 'clouds': {'all': 92}, 'wind': {'speed': 4.44, 'deg': 188, 'gust': 9.17}, 'visibility': 10000, 'pop': 0, 'sys': {'pod': 'd'}, 'dt_txt': '2024-08-24 12:00:00'}, {'dt': 1724511600, 'main': {'temp': 288.11, 'feels_like': 287.75, 'temp_min': 288.11, 'temp_max': 288.11, 'pressure': 1003, 'sea_level': 1003, 'grnd_level': 948, 'humidity': 80, 'temp_kf': 0}, 'weather': [{'id': 500, 'main': 'Rain', 'description': 'light rain', 'icon': '10d'}], 'clouds': {'all': 100}, 'wind': {'speed': 4.01, 'deg': 171, 'gust': 7.69}, 'visibility': 10000, 'pop': 1, 'rain': {'3h': 0.52}, 'sys': {'pod': 'd'}, 'dt_txt': '2024-08-24 15:00:00'}, {'dt': 1724522400, 'main': {'temp': 286.08, 'feels_like': 285.73, 'temp_min': 286.08, 'temp_max': 286.08, 'pressure': 1003, 'sea_level': 1003, 'grnd_level': 947, 'humidity': 88, 'temp_kf': 0}, 'weather': [{'id': 500, 'main': 'Rain', 'description': 'light rain', 'icon': '10d'}], 'clouds': {'all': 100}, 'wind': {'speed': 2.58, 'deg': 161, 'gust': 6.52}, 'visibility': 10000, 'pop': 1, 'rain': {'3h': 0.25}, 'sys': {'pod': 'd'}, 'dt_txt': '2024-08-24 18:00:00'}, {'dt': 1724533200, 'main': {'temp': 284.09, 'feels_like': 283.82, 'temp_min': 284.09, 'temp_max': 284.09, 'pressure': 1003, 'sea_level': 1003, 'grnd_level': 947, 'humidity': 99, 'temp_kf': 0}, 'weather': [{'id': 804, 'main': 'Clouds', 'description': 'overcast clouds', 'icon': '04n'}], 'clouds': {'all': 99}, 'wind': {'speed': 0.9, 'deg': 154, 'gust': 2.01}, 'visibility': 6284, 'pop': 0, 'sys': {'pod': 'n'}, 'dt_txt': '2024-08-24 21:00:00'}, {'dt': 1724544000, 'main': {'temp': 284.48, 'feels_like': 284.23, 'temp_min': 284.48, 'temp_max': 284.48, 'pressure': 1001, 'sea_level': 1001, 'grnd_level': 945, 'humidity': 98, 'temp_kf': 0}, 'weather': [{'id': 804, 'main': 'Clouds', 'description': 'overcast clouds', 'icon': '04n'}], 'clouds': {'all': 100}, 'wind': {'speed': 0.32, 'deg': 284, 'gust': 0.35}, 'visibility': 10000, 'pop': 0, 'sys': {'pod': 'n'}, 'dt_txt': '2024-08-25 00:00:00'}, {'dt': 1724554800, 'main': {'temp': 283.73, 'feels_like': 283.35, 'temp_min': 283.73, 'temp_max': 283.73, 'pressure': 1001, 'sea_level': 1001, 'grnd_level': 945, 'humidity': 96, 'temp_kf': 0}, 'weather': [{'id': 804, 'main': 'Clouds', 'description': 'overcast clouds', 'icon': '04n'}], 'clouds': {'all': 98}, 'wind': {'speed': 1, 'deg': 272, 'gust': 0.89}, 'visibility': 10000, 'pop': 0, 'sys': {'pod': 'n'}, 'dt_txt': '2024-08-25 03:00:00'}, {'dt': 1724565600, 'main': {'temp': 284.45, 'feels_like': 283.91, 'temp_min': 284.45, 'temp_max': 284.45, 'pressure': 1002, 'sea_level': 1002, 'grnd_level': 945, 'humidity': 87, 'temp_kf': 0}, 'weather': [{'id': 803, 'main': 'Clouds', 'description': 'broken clouds', 'icon': '04d'}], 'clouds': {'all': 60}, 'wind': {'speed': 1.11, 'deg': 274, 'gust': 1.41}, 'visibility': 10000, 'pop': 0, 'sys': {'pod': 'd'}, 'dt_txt': '2024-08-25 06:00:00'}, {'dt': 1724576400, 'main': {'temp': 289.68, 'feels_like': 288.77, 'temp_min': 289.68, 'temp_max': 289.68, 'pressure': 1002, 'sea_level': 1002, 'grnd_level': 947, 'humidity': 53, 'temp_kf': 0}, 'weather': [{'id': 802, 'main': 'Clouds', 'description': 'scattered clouds', 'icon': '03d'}], 'clouds': {'all': 34}, 'wind': {'speed': 1.57, 'deg': 228, 'gust': 4.13}, 'visibility': 10000, 'pop': 0, 'sys': {'pod': 'd'}, 'dt_txt': '2024-08-25 09:00:00'}, {'dt': 1724587200, 'main': {'temp': 291.38, 'feels_like': 290.38, 'temp_min': 291.38, 'temp_max': 291.38, 'pressure': 1003, 'sea_level': 1003, 'grnd_level': 948, 'humidity': 43, 'temp_kf': 0}, 'weather': [{'id': 802, 'main': 'Clouds', 'description': 'scattered clouds', 'icon': '03d'}], 'clouds': {'all': 32}, 'wind': {'speed': 5.38, 'deg': 239, 'gust': 7.87}, 'visibility': 10000, 'pop': 0, 'sys': {'pod': 'd'}, 'dt_txt': '2024-08-25 12:00:00'}, {'dt': 1724598000, 'main': {'temp': 290.15, 'feels_like': 289.11, 'temp_min': 290.15, 'temp_max': 290.15, 'pressure': 1005, 'sea_level': 1005, 'grnd_level': 950, 'humidity': 46, 'temp_kf': 0}, 'weather': [{'id': 802, 'main': 'Clouds', 'description': 'scattered clouds', 'icon': '03d'}], 'clouds': {'all': 42}, 'wind': {'speed': 5.04, 'deg': 237, 'gust': 8.04}, 'visibility': 10000, 'pop': 0, 'sys': {'pod': 'd'}, 'dt_txt': '2024-08-25 15:00:00'}, {'dt': 1724608800, 'main': {'temp': 285.97, 'feels_like': 284.85, 'temp_min': 285.97, 'temp_max': 285.97, 'pressure': 1008, 'sea_level': 1008, 'grnd_level': 951, 'humidity': 59, 'temp_kf': 0}, 'weather': [{'id': 802, 'main': 'Clouds', 'description': 'scattered clouds', 'icon': '03d'}], 'clouds': {'all': 44}, 'wind': {'speed': 3.42, 'deg': 235, 'gust': 9.13}, 'visibility': 10000, 'pop': 0, 'sys': {'pod': 'd'}, 'dt_txt': '2024-08-25 18:00:00'}, {'dt': 1724619600, 'main': {'temp': 282.02, 'feels_like': 281.23, 'temp_min': 282.02, 'temp_max': 282.02, 'pressure': 1010, 'sea_level': 1010, 'grnd_level': 953, 'humidity': 75, 'temp_kf': 0}, 'weather': [{'id': 801, 'main': 'Clouds', 'description': 'few clouds', 'icon': '02n'}], 'clouds': {'all': 19}, 'wind': {'speed': 1.77, 'deg': 266, 'gust': 2.58}, 'visibility': 10000, 'pop': 0, 'sys': {'pod': 'n'}, 'dt_txt': '2024-08-25 21:00:00'}, {'dt': 1724630400, 'main': {'temp': 280.61, 'feels_like': 280.61, 'temp_min': 280.61, 'temp_max': 280.61, 'pressure': 1012, 'sea_level': 1012, 'grnd_level': 954, 'humidity': 83, 'temp_kf': 0}, 'weather': [{'id': 802, 'main': 'Clouds', 'description': 'scattered clouds', 'icon': '03n'}], 'clouds': {'all': 35}, 'wind': {'speed': 1.27, 'deg': 254, 'gust': 1.25}, 'visibility': 10000, 'pop': 0, 'sys': {'pod': 'n'}, 'dt_txt': '2024-08-26 00:00:00'}, {'dt': 1724641200, 'main': {'temp': 279.53, 'feels_like': 279.53, 'temp_min': 279.53, 'temp_max': 279.53, 'pressure': 1012, 'sea_level': 1012, 'grnd_level': 955, 'humidity': 90, 'temp_kf': 0}, 'weather': [{'id': 803, 'main': 'Clouds', 'description': 'broken clouds', 'icon': '04n'}], 'clouds': {'all': 71}, 'wind': {'speed': 1.04, 'deg': 229, 'gust': 0.97}, 'visibility': 10000, 'pop': 0, 'sys': {'pod': 'n'}, 'dt_txt': '2024-08-26 03:00:00'}, {'dt': 1724652000, 'main': {'temp': 281.3, 'feels_like': 281.3, 'temp_min': 281.3, 'temp_max': 281.3, 'pressure': 1012, 'sea_level': 1012, 'grnd_level': 955, 'humidity': 90, 'temp_kf': 0}, 'weather': [{'id': 500, 'main': 'Rain', 'description': 'light rain', 'icon': '10d'}], 'clouds': {'all': 71}, 'wind': {'speed': 0.37, 'deg': 177, 'gust': 0.97}, 'visibility': 10000, 'pop': 0.2, 'rain': {'3h': 0.14}, 'sys': {'pod': 'd'}, 'dt_txt': '2024-08-26 06:00:00'}, {'dt': 1724662800, 'main': {'temp': 283.1, 'feels_like': 283.1, 'temp_min': 283.1, 'temp_max': 283.1, 'pressure': 1011, 'sea_level': 1011, 'grnd_level': 954, 'humidity': 97, 'temp_kf': 0}, 'weather': [{'id': 500, 'main': 'Rain', 'description': 'light rain', 'icon': '10d'}], 'clouds': {'all': 100}, 'wind': {'speed': 0.51, 'deg': 333, 'gust': 0.75}, 'visibility': 2448, 'pop': 1, 'rain': {'3h': 1}, 'sys': {'pod': 'd'}, 'dt_txt': '2024-08-26 09:00:00'}, {'dt': 1724673600, 'main': {'temp': 286.74, 'feels_like': 286.5, 'temp_min': 286.74, 'temp_max': 286.74, 'pressure': 1011, 'sea_level': 1011, 'grnd_level': 954, 'humidity': 90, 'temp_kf': 0}, 'weather': [{'id': 804, 'main': 'Clouds', 'description': 'overcast clouds', 'icon': '04d'}], 'clouds': {'all': 100}, 'wind': {'speed': 1.39, 'deg': 214, 'gust': 3.18}, 'visibility': 10000, 'pop': 0.8, 'sys': {'pod': 'd'}, 'dt_txt': '2024-08-26 12:00:00'}, {'dt': 1724684400, 'main': {'temp': 287.22, 'feels_like': 287.06, 'temp_min': 287.22, 'temp_max': 287.22, 'pressure': 1010, 'sea_level': 1010, 'grnd_level': 954, 'humidity': 91, 'temp_kf': 0}, 'weather': [{'id': 500, 'main': 'Rain', 'description': 'light rain', 'icon': '10d'}], 'clouds': {'all': 100}, 'wind': {'speed': 1.19, 'deg': 215, 'gust': 1.55}, 'visibility': 10000, 'pop': 0.76, 'rain': {'3h': 0.4}, 'sys': {'pod': 'd'}, 'dt_txt': '2024-08-26 15:00:00'}, {'dt': 1724695200, 'main': {'temp': 286.1, 'feels_like': 285.91, 'temp_min': 286.1, 'temp_max': 286.1, 'pressure': 1011, 'sea_level': 1011, 'grnd_level': 955, 'humidity': 94, 'temp_kf': 0}, 'weather': [{'id': 500, 'main': 'Rain', 'description': 'light rain', 'icon': '10d'}], 'clouds': {'all': 100}, 'wind': {'speed': 1.36, 'deg': 272, 'gust': 1.12}, 'visibility': 10000, 'pop': 0.95, 'rain': {'3h': 0.85}, 'sys': {'pod': 'd'}, 'dt_txt': '2024-08-26 18:00:00'}, {'dt': 1724706000, 'main': {'temp': 283.14, 'feels_like': 282.33, 'temp_min': 283.14, 'temp_max': 283.14, 'pressure': 1014, 'sea_level': 1014, 'grnd_level': 957, 'humidity': 94, 'temp_kf': 0}, 'weather': [{'id': 803, 'main': 'Clouds', 'description': 'broken clouds', 'icon': '04n'}], 'clouds': {'all': 83}, 'wind': {'speed': 2, 'deg': 283, 'gust': 1.65}, 'visibility': 10000, 'pop': 0, 'sys': {'pod': 'n'}, 'dt_txt': '2024-08-26 21:00:00'}, {'dt': 1724716800, 'main': {'temp': 281.29, 'feels_like': 279.87, 'temp_min': 281.29, 'temp_max': 281.29, 'pressure': 1016, 'sea_level': 1016, 'grnd_level': 958, 'humidity': 92, 'temp_kf': 0}, 'weather': [{'id': 802, 'main': 'Clouds', 'description': 'scattered clouds', 'icon': '03n'}], 'clouds': {'all': 45}, 'wind': {'speed': 2.37, 'deg': 284, 'gust': 2.33}, 'visibility': 10000, 'pop': 0, 'sys': {'pod': 'n'}, 'dt_txt': '2024-08-27 00:00:00'}, {'dt': 1724727600, 'main': {'temp': 280.23, 'feels_like': 278.76, 'temp_min': 280.23, 'temp_max': 280.23, 'pressure': 1018, 'sea_level': 1018, 'grnd_level': 960, 'humidity': 92, 'temp_kf': 0}, 'weather': [{'id': 801, 'main': 'Clouds', 'description': 'few clouds', 'icon': '02n'}], 'clouds': {'all': 15}, 'wind': {'speed': 2.2, 'deg': 289, 'gust': 2.09}, 'visibility': 10000, 'pop': 0, 'sys': {'pod': 'n'}, 'dt_txt': '2024-08-27 03:00:00'}, {'dt': 1724738400, 'main': {'temp': 282.15, 'feels_like': 281.44, 'temp_min': 282.15, 'temp_max': 282.15, 'pressure': 1020, 'sea_level': 1020, 'grnd_level': 962, 'humidity': 89, 'temp_kf': 0}, 'weather': [{'id': 803, 'main': 'Clouds', 'description': 'broken clouds', 'icon': '04d'}], 'clouds': {'all': 51}, 'wind': {'speed': 1.71, 'deg': 299, 'gust': 2.57}, 'visibility': 10000, 'pop': 0, 'sys': {'pod': 'd'}, 'dt_txt': '2024-08-27 06:00:00'}, {'dt': 1724749200, 'main': {'temp': 288.64, 'feels_like': 287.79, 'temp_min': 288.64, 'temp_max': 288.64, 'pressure': 1020, 'sea_level': 1020, 'grnd_level': 963, 'humidity': 59, 'temp_kf': 0}, 'weather': [{'id': 802, 'main': 'Clouds', 'description': 'scattered clouds', 'icon': '03d'}], 'clouds': {'all': 46}, 'wind': {'speed': 0.64, 'deg': 149, 'gust': 0.56}, 'visibility': 10000, 'pop': 0, 'sys': {'pod': 'd'}, 'dt_txt': '2024-08-27 09:00:00'}, {'dt': 1724760000, 'main': {'temp': 291.54, 'feels_like': 290.61, 'temp_min': 291.54, 'temp_max': 291.54, 'pressure': 1020, 'sea_level': 1020, 'grnd_level': 964, 'humidity': 45, 'temp_kf': 0}, 'weather': [{'id': 803, 'main': 'Clouds', 'description': 'broken clouds', 'icon': '04d'}], 'clouds': {'all': 67}, 'wind': {'speed': 2.29, 'deg': 164, 'gust': 2.91}, 'visibility': 10000, 'pop': 0, 'sys': {'pod': 'd'}, 'dt_txt': '2024-08-27 12:00:00'}, {'dt': 1724770800, 'main': {'temp': 291.97, 'feels_like': 291.13, 'temp_min': 291.97, 'temp_max': 291.97, 'pressure': 1019, 'sea_level': 1019, 'grnd_level': 963, 'humidity': 47, 'temp_kf': 0}, 'weather': [{'id': 804, 'main': 'Clouds', 'description': 'overcast clouds', 'icon': '04d'}], 'clouds': {'all': 93}, 'wind': {'speed': 2.2, 'deg': 155, 'gust': 2.95}, 'visibility': 10000, 'pop': 0, 'sys': {'pod': 'd'}, 'dt_txt': '2024-08-27 15:00:00'}, {'dt': 1724781600, 'main': {'temp': 287.91, 'feels_like': 287.3, 'temp_min': 287.91, 'temp_max': 287.91, 'pressure': 1020, 'sea_level': 1020, 'grnd_level': 963, 'humidity': 71, 'temp_kf': 0}, 'weather': [{'id': 804, 'main': 'Clouds', 'description': 'overcast clouds', 'icon': '04d'}], 'clouds': {'all': 97}, 'wind': {'speed': 0.31, 'deg': 176, 'gust': 0.32}, 'visibility': 10000, 'pop': 0, 'sys': {'pod': 'd'}, 'dt_txt': '2024-08-27 18:00:00'}, {'dt': 1724792400, 'main': {'temp': 285.65, 'feels_like': 285.1, 'temp_min': 285.65, 'temp_max': 285.65, 'pressure': 1021, 'sea_level': 1021, 'grnd_level': 964, 'humidity': 82, 'temp_kf': 0}, 'weather': [{'id': 804, 'main': 'Clouds', 'description': 'overcast clouds', 'icon': '04n'}], 'clouds': {'all': 100}, 'wind': {'speed': 0.76, 'deg': 290, 'gust': 0.65}, 'visibility': 10000, 'pop': 0, 'sys': {'pod': 'n'}, 'dt_txt': '2024-08-27 21:00:00'}, {'dt': 1724803200, 'main': {'temp': 285.32, 'feels_like': 284.79, 'temp_min': 285.32, 'temp_max': 285.32, 'pressure': 1022, 'sea_level': 1022, 'grnd_level': 965, 'humidity': 84, 'temp_kf': 0}, 'weather': [{'id': 804, 'main': 'Clouds', 'description': 'overcast clouds', 'icon': '04n'}], 'clouds': {'all': 100}, 'wind': {'speed': 1.03, 'deg': 252, 'gust': 0.94}, 'visibility': 10000, 'pop': 0, 'sys': {'pod': 'n'}, 'dt_txt': '2024-08-28 00:00:00'}, {'dt': 1724814000, 'main': {'temp': 283.99, 'feels_like': 283.53, 'temp_min': 283.99, 'temp_max': 283.99, 'pressure': 1022, 'sea_level': 1022, 'grnd_level': 965, 'humidity': 92, 'temp_kf': 0}, 'weather': [{'id': 804, 'main': 'Clouds', 'description': 'overcast clouds', 'icon': '04n'}], 'clouds': {'all': 92}, 'wind': {'speed': 1.22, 'deg': 268, 'gust': 1.06}, 'visibility': 10000, 'pop': 0, 'sys': {'pod': 'n'}, 'dt_txt': '2024-08-28 03:00:00'}, {'dt': 1724824800, 'main': {'temp': 286.7, 'feels_like': 286.3, 'temp_min': 286.7, 'temp_max': 286.7, 'pressure': 1023, 'sea_level': 1023, 'grnd_level': 966, 'humidity': 84, 'temp_kf': 0}, 'weather': [{'id': 804, 'main': 'Clouds', 'description': 'overcast clouds', 'icon': '04d'}], 'clouds': {'all': 94}, 'wind': {'speed': 1.04, 'deg': 246, 'gust': 1.4}, 'visibility': 10000, 'pop': 0, 'sys': {'pod': 'd'}, 'dt_txt': '2024-08-28 06:00:00'}], 'city': {'id': 3144113, 'name': 'Noresund', 'coord': {'lat': 60.1803, 'lon': 9.6231}, 'country': 'NO', 'population': 1000, 'timezone': 7200, 'sunrise': 1724385319, 'sunset': 1724439194}}\")\n"
     ]
    }
   ],
   "source": [
    "# Query the data\n",
    "forecast_rows = session.execute(\"SELECT * FROM forecast_table;\")\n",
    "print(forecast_rows.one()) # <- only one row"
   ]
  },
  {
   "cell_type": "markdown",
   "metadata": {
    "slideshow": {
     "slide_type": "slide"
    }
   },
   "source": [
    "```{seealso} Resources\n",
    ":class: tip\n",
    "- [Cassandra webpage](https://cassandra.apache.org/)\n",
    "- [Cassandra Docker file](https://hub.docker.com/_/cassandra)\n",
    "- [UUID functions](https://docs.datastax.com/en/cql-oss/3.3/cql/cql_reference/timeuuid_functions_r.html)\n",
    "- [YouTube: Cassandra in 100 seconds](https://youtu.be/ziq7FUKpCS8?si=WQUdkHFvaBmT0DBo) (2m:26s)\n",
    "- [YouTube: How to use Apache Cassandra in Python](https://youtu.be/qMauZqJH3ZM?si=yKGZ-5cld2BK396Y) (14m:50s)\n",
    "- [YouTube: Cassandra Database Crash Course](https://youtu.be/KZsVSfQVU4I?si=FBCi8qOfCirfVmZk) (19m:47s)\n",
    "```"
   ]
  }
 ],
 "metadata": {
  "celltoolbar": "Slideshow",
  "kernelspec": {
   "display_name": "Python 3 (ipykernel)",
   "language": "python",
   "name": "python3"
  },
  "language_info": {
   "codemirror_mode": {
    "name": "ipython",
    "version": 3
   },
   "file_extension": ".py",
   "mimetype": "text/x-python",
   "name": "python",
   "nbconvert_exporter": "python",
   "pygments_lexer": "ipython3",
   "version": "3.12.4"
  }
 },
 "nbformat": 4,
 "nbformat_minor": 2
}