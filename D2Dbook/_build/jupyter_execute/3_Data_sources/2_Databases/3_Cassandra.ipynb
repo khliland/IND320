{
 "cells": [
  {
   "cell_type": "markdown",
   "metadata": {
    "slideshow": {
     "slide_type": "slide"
    }
   },
   "source": [
    "# Cassandra\n",
    "- A production grade NoSQL database.\n",
    "- Can be distributed across servers, nodes, etc.\n",
    "- Replication of database is supported for high degree of redundancy and speed.\n",
    "- Uses CQL, a subset of SQL for querying.\n",
    "- Works seamlesly together with Spark and its corresponding distributed structure.\n",
    "- Installation of Cassandra is explained in the [Installation chapter](../../7_Appendix/Installation.ipynb)."
   ]
  },
  {
   "cell_type": "markdown",
   "metadata": {
    "slideshow": {
     "slide_type": "slide"
    }
   },
   "source": [
    "## Spinning up a local Cassandra instance\n",
    "In a terminal, first time:  \n",
    "```docker run --name my_cassandra -p 9042:9042 cassandra:latest```  \n",
    "... and later:  \n",
    "```docker start my_cassandra```  \n",
    "  \n",
    ".. or in Docker Desktop:\n",
    "- Run the cassandra docker image with optional settings, opening 9042 port and setting a name.\n",
    "- Later, simply run the container with the name you chose."
   ]
  },
  {
   "cell_type": "markdown",
   "metadata": {
    "slideshow": {
     "slide_type": "slide"
    }
   },
   "source": [
    "<img src=\"https://github.com/khliland/IND320/blob/main/D2Dbook/images/Docker_images.png?raw=TRUE\" width=\"600px\">  "
   ]
  },
  {
   "cell_type": "markdown",
   "metadata": {
    "slideshow": {
     "slide_type": "slide"
    }
   },
   "source": [
    "\n",
    "<img src=\"https://github.com/khliland/IND320/blob/main/D2Dbook/images/Docker_containers.png?raw=TRUE\" width=\"800px\">  "
   ]
  },
  {
   "cell_type": "markdown",
   "metadata": {
    "slideshow": {
     "slide_type": "slide"
    }
   },
   "source": [
    "### Connect to the Cassandra cluster from Python."
   ]
  },
  {
   "cell_type": "code",
   "execution_count": 1,
   "metadata": {
    "ExecuteTime": {
     "end_time": "2024-08-17T10:25:34.787878Z",
     "start_time": "2024-08-17T10:25:34.389367Z"
    },
    "slideshow": {
     "slide_type": "fragment"
    },
    "tags": []
   },
   "outputs": [],
   "source": [
    "# Connecting to Cassandra\n",
    "from cassandra.cluster import Cluster\n",
    "cluster = Cluster(['localhost'], port=9042)\n",
    "session = cluster.connect()"
   ]
  },
  {
   "cell_type": "markdown",
   "metadata": {
    "slideshow": {
     "slide_type": "slide"
    }
   },
   "source": [
    "### Keyspace\n",
    "- In Cassandra database tables are stored in keyspaces (basically a distributed database).\n",
    "- These have parameters controlling their distribution on nodes/servers and redundancy.\n",
    "- We will use the simplest form locally."
   ]
  },
  {
   "cell_type": "code",
   "execution_count": 2,
   "metadata": {
    "ExecuteTime": {
     "end_time": "2024-08-17T10:25:34.798504Z",
     "start_time": "2024-08-17T10:25:34.789786Z"
    },
    "slideshow": {
     "slide_type": "fragment"
    },
    "tags": []
   },
   "outputs": [
    {
     "data": {
      "text/plain": [
       "<cassandra.cluster.ResultSet at 0x103e54500>"
      ]
     },
     "execution_count": 2,
     "metadata": {},
     "output_type": "execute_result"
    }
   ],
   "source": [
    "# Set up new keyspace (first time only)\n",
    "#                                              name of keyspace                        replication strategy           replication factor\n",
    "session.execute(\"CREATE KEYSPACE IF NOT EXISTS my_first_keyspace WITH REPLICATION = { 'class' : 'SimpleStrategy', 'replication_factor' : 1 };\")"
   ]
  },
  {
   "cell_type": "markdown",
   "metadata": {
    "slideshow": {
     "slide_type": "slide"
    }
   },
   "source": [
    "### Create a table\n",
    "- IF NOT EXISTS makes sure we do not overwrite existing tables"
   ]
  },
  {
   "cell_type": "code",
   "execution_count": 3,
   "metadata": {
    "ExecuteTime": {
     "end_time": "2024-08-17T10:25:35.347394Z",
     "start_time": "2024-08-17T10:25:34.800008Z"
    },
    "slideshow": {
     "slide_type": "fragment"
    },
    "tags": []
   },
   "outputs": [
    {
     "data": {
      "text/plain": [
       "<cassandra.cluster.ResultSet at 0x103bb2750>"
      ]
     },
     "execution_count": 3,
     "metadata": {},
     "output_type": "execute_result"
    }
   ],
   "source": [
    "# Create a new table (first time only)\n",
    "session.set_keyspace('my_first_keyspace')\n",
    "session.execute(\"DROP TABLE IF EXISTS my_first_keyspace.my_first_table;\") # Starting from scratch every time\n",
    "session.execute(\"CREATE TABLE IF NOT EXISTS my_first_table (ind int PRIMARY KEY, company text, model text);\")"
   ]
  },
  {
   "cell_type": "markdown",
   "metadata": {
    "slideshow": {
     "slide_type": "slide"
    }
   },
   "source": [
    "### Inserting and reading data"
   ]
  },
  {
   "cell_type": "code",
   "execution_count": 4,
   "metadata": {
    "ExecuteTime": {
     "end_time": "2024-08-17T10:25:35.366363Z",
     "start_time": "2024-08-17T10:25:35.350453Z"
    },
    "slideshow": {
     "slide_type": "fragment"
    },
    "tags": []
   },
   "outputs": [
    {
     "data": {
      "text/plain": [
       "<cassandra.cluster.ResultSet at 0x105508d10>"
      ]
     },
     "execution_count": 4,
     "metadata": {},
     "output_type": "execute_result"
    }
   ],
   "source": [
    "# Insert some data (ind is the primary key, must be unique)\n",
    "session.execute(\"INSERT INTO my_first_table (ind, company, model) VALUES (1, 'Tesla', 'Model S');\")\n",
    "session.execute(\"INSERT INTO my_first_table (ind, company, model) VALUES (2, 'Tesla', 'Model 3');\")\n",
    "session.execute(\"INSERT INTO my_first_table (ind, company, model) VALUES (3, 'Polestar', '3');\")"
   ]
  },
  {
   "cell_type": "markdown",
   "metadata": {
    "slideshow": {
     "slide_type": "slide"
    }
   },
   "source": [
    "### Asyncronous writing\n",
    "- If your application is very data intensive, waiting for a response is not productive.\n",
    "- Writing asyncronously sends the data but does not pause for reply."
   ]
  },
  {
   "cell_type": "code",
   "execution_count": 5,
   "metadata": {
    "ExecuteTime": {
     "end_time": "2024-08-17T10:25:35.371390Z",
     "start_time": "2024-08-17T10:25:35.367159Z"
    },
    "slideshow": {
     "slide_type": "fragment"
    },
    "tags": []
   },
   "outputs": [
    {
     "data": {
      "text/plain": [
       "<ResponseFuture: query='<SimpleStatement query=\"INSERT INTO my_first_table (ind, company, model) VALUES (4, 'Volkswagen', 'ID.4');\", consistency=Not Set>' request_id=24 result=(no result yet) exception=None coordinator_host=None>"
      ]
     },
     "execution_count": 5,
     "metadata": {},
     "output_type": "execute_result"
    }
   ],
   "source": [
    "session.execute_async(\"INSERT INTO my_first_table (ind, company, model) VALUES (4, 'Volkswagen', 'ID.4');\")"
   ]
  },
  {
   "cell_type": "code",
   "execution_count": 6,
   "metadata": {
    "ExecuteTime": {
     "end_time": "2024-08-17T10:25:35.384736Z",
     "start_time": "2024-08-17T10:25:35.372551Z"
    },
    "slideshow": {
     "slide_type": "slide"
    },
    "tags": []
   },
   "outputs": [
    {
     "name": "stdout",
     "output_type": "stream",
     "text": [
      "Row(ind=1, company='Tesla', model='Model S')\n",
      "Row(ind=2, company='Tesla', model='Model 3')\n",
      "Row(ind=4, company='Volkswagen', model='ID.4')\n",
      "Row(ind=3, company='Polestar', model='3')\n"
     ]
    }
   ],
   "source": [
    "# Query the data\n",
    "rows = session.execute(\"SELECT * FROM my_first_table;\")\n",
    "for i in rows:\n",
    "    print(i)"
   ]
  },
  {
   "cell_type": "code",
   "execution_count": 7,
   "metadata": {
    "ExecuteTime": {
     "end_time": "2024-08-17T10:25:35.402371Z",
     "start_time": "2024-08-17T10:25:35.386980Z"
    },
    "slideshow": {
     "slide_type": "slide"
    },
    "tags": [
     "raises-exception"
    ]
   },
   "outputs": [
    {
     "name": "stdout",
     "output_type": "stream",
     "text": [
      "Row(ind=1, company='Tesla', model='Model S')\n",
      "Row(ind=2, company='Tesla', model='Model 3')\n"
     ]
    }
   ],
   "source": [
    "# More specific query\n",
    "prepared_statement = session.prepare(\"SELECT * FROM my_first_table WHERE company=? ALLOW FILTERING;\")\n",
    "teslas = session.execute(prepared_statement, ['Tesla'])\n",
    "for i in teslas:\n",
    "    print(i)"
   ]
  },
  {
   "cell_type": "markdown",
   "metadata": {
    "slideshow": {
     "slide_type": "slide"
    }
   },
   "source": [
    "## Cassandra filtering\n",
    "Cassandra is inherently a distributed production database. Selecting as above may require downloading all data from a node, then filtering based on the WHERE part (only PRIMARY KEYs are centrally known). Solutions:  \n",
    "- If the table is small or most of the data will satisfy the query, add ```ALLOW FILTERING``` at the end of the query (not recommended if not known). \n",
    "- Or make sure the WHERE clause points to one of the keys (see below)."
   ]
  },
  {
   "cell_type": "code",
   "execution_count": 8,
   "metadata": {
    "ExecuteTime": {
     "end_time": "2024-08-17T10:25:35.613711Z",
     "start_time": "2024-08-17T10:25:35.403622Z"
    },
    "slideshow": {
     "slide_type": "slide"
    },
    "tags": []
   },
   "outputs": [
    {
     "data": {
      "text/plain": [
       "<cassandra.cluster.ResultSet at 0x103ef34a0>"
      ]
     },
     "execution_count": 8,
     "metadata": {},
     "output_type": "execute_result"
    }
   ],
   "source": [
    "# Create a new table (observe keys)\n",
    "session.execute(\"DROP TABLE IF EXISTS my_first_keyspace.car_table;\")\n",
    "session.execute(\"CREATE TABLE IF NOT EXISTS car_table (company text, model text, PRIMARY KEY(company, model));\")"
   ]
  },
  {
   "cell_type": "code",
   "execution_count": 9,
   "metadata": {
    "ExecuteTime": {
     "end_time": "2024-08-17T10:25:35.628950Z",
     "start_time": "2024-08-17T10:25:35.615126Z"
    },
    "slideshow": {
     "slide_type": "fragment"
    },
    "tags": []
   },
   "outputs": [
    {
     "data": {
      "text/plain": [
       "<cassandra.cluster.ResultSet at 0x1058a3e90>"
      ]
     },
     "execution_count": 9,
     "metadata": {},
     "output_type": "execute_result"
    }
   ],
   "source": [
    "# Insert some data (combination of company and model must be unique)\n",
    "session.execute(\"INSERT INTO car_table (company, model) VALUES ('Tesla', 'Model S');\")\n",
    "session.execute(\"INSERT INTO car_table (company, model) VALUES ('Tesla', 'Model 3');\")\n",
    "session.execute(\"INSERT INTO car_table (company, model) VALUES ('Polestar', '3');\")\n",
    "session.execute(\"INSERT INTO car_table (company, model) VALUES ('Volkswagen', 'ID.4');\")"
   ]
  },
  {
   "cell_type": "code",
   "execution_count": 10,
   "metadata": {
    "ExecuteTime": {
     "end_time": "2024-08-17T10:25:35.639765Z",
     "start_time": "2024-08-17T10:25:35.630657Z"
    },
    "slideshow": {
     "slide_type": "slide"
    },
    "tags": []
   },
   "outputs": [
    {
     "name": "stdout",
     "output_type": "stream",
     "text": [
      "Row(company='Tesla', model='Model 3')\n",
      "Row(company='Tesla', model='Model S')\n"
     ]
    }
   ],
   "source": [
    "# More specific query now works\n",
    "prepared_statement = session.prepare(\"SELECT * FROM car_table WHERE company=?;\")\n",
    "teslas = session.execute(prepared_statement, ['Tesla'])\n",
    "for i in teslas:\n",
    "    print(i)"
   ]
  },
  {
   "cell_type": "markdown",
   "metadata": {
    "slideshow": {
     "slide_type": "slide"
    }
   },
   "source": [
    "### Partitions\n",
    "- Cassandra databases are usually replicated over different nodes.\n",
    "- Data is stored in partitions (subsets) which have local copys.\n",
    "- The primary key, e.g., PRIMARY KEY(company, model), is used in partitioning.\n",
    "    - The first part, e.g., company, is most important.\n",
    "    - All cars from a company will be located together, aiming for quicker queries."
   ]
  },
  {
   "cell_type": "markdown",
   "metadata": {
    "slideshow": {
     "slide_type": "slide"
    }
   },
   "source": [
    "### Unique IDs \n",
    "- In MySQL one could use the attribute AUTO_INCREMENT on integer IDs to automatically make a new unique index when inserting data.\n",
    "- This would cause unreasonable overhead in a distributed database.\n",
    "- [UUID](https://en.wikipedia.org/wiki/Universally_unique_identifier)s are used instead.\n",
    "    - Universally Unique Identifiers are typically 128-bit random bit sequences with extremely low probability of duplication.\n",
    "    - Cassandra uses a [timeuuid](https://docs.datastax.com/en/cql-oss/3.3/cql/cql_reference/timeuuid_functions_r.html) type to combine a timestamp and uuid in one."
   ]
  },
  {
   "cell_type": "code",
   "execution_count": 11,
   "metadata": {
    "ExecuteTime": {
     "end_time": "2024-08-17T10:25:35.766003Z",
     "start_time": "2024-08-17T10:25:35.640600Z"
    },
    "slideshow": {
     "slide_type": "fragment"
    },
    "tags": []
   },
   "outputs": [
    {
     "data": {
      "text/plain": [
       "<cassandra.cluster.ResultSet at 0x10550ad20>"
      ]
     },
     "execution_count": 11,
     "metadata": {},
     "output_type": "execute_result"
    }
   ],
   "source": [
    "# Create a new table (first time only)\n",
    "session.set_keyspace('my_first_keyspace')\n",
    "session.execute(\"DROP TABLE IF EXISTS my_first_keyspace.table_with_uuid;\")\n",
    "session.execute(\"CREATE TABLE IF NOT EXISTS table_with_uuid (id timeuuid PRIMARY KEY, company text, model text, price float);\")"
   ]
  },
  {
   "cell_type": "code",
   "execution_count": 12,
   "metadata": {
    "ExecuteTime": {
     "end_time": "2024-08-17T10:25:35.784876Z",
     "start_time": "2024-08-17T10:25:35.766619Z"
    },
    "slideshow": {
     "slide_type": "slide"
    },
    "tags": []
   },
   "outputs": [
    {
     "data": {
      "text/plain": [
       "<cassandra.cluster.ResultSet at 0x103f0c050>"
      ]
     },
     "execution_count": 12,
     "metadata": {},
     "output_type": "execute_result"
    }
   ],
   "source": [
    "session.execute(\"INSERT INTO table_with_uuid (id, company, model, price) VALUES (now(), 'Tesla', 'Model S', 20000.0);\")\n",
    "session.execute(\"INSERT INTO table_with_uuid (id, company, model, price) VALUES (now(), 'Tesla', 'Model S', 21000.0);\")\n",
    "session.execute(\"INSERT INTO table_with_uuid (id, company, model, price) VALUES (now(), 'Oldsmobile', 'Model 6C', 135000.0);\")"
   ]
  },
  {
   "cell_type": "code",
   "execution_count": 13,
   "metadata": {
    "ExecuteTime": {
     "end_time": "2024-08-17T10:25:35.792934Z",
     "start_time": "2024-08-17T10:25:35.785467Z"
    },
    "slideshow": {
     "slide_type": "slide"
    },
    "tags": []
   },
   "outputs": [
    {
     "name": "stdout",
     "output_type": "stream",
     "text": [
      "Row(id=UUID('bcae3e70-80b0-11ef-90b7-93e5a91ca45e'), company='Oldsmobile', model='Model 6C', price=135000.0)\n",
      "Datetime: 2024-10-02 11:23:23.991000\n",
      "Row(id=UUID('bcadc940-80b0-11ef-90b7-93e5a91ca45e'), company='Tesla', model='Model S', price=21000.0)\n",
      "Datetime: 2024-10-02 11:23:23.988000\n",
      "Row(id=UUID('bcad5410-80b0-11ef-90b7-93e5a91ca45e'), company='Tesla', model='Model S', price=20000.0)\n",
      "Datetime: 2024-10-02 11:23:23.985000\n"
     ]
    }
   ],
   "source": [
    "from cassandra.util import datetime_from_uuid1\n",
    "\n",
    "# Query the data\n",
    "rows = session.execute(\"SELECT * FROM table_with_uuid;\")\n",
    "for i in rows:\n",
    "    print(i)\n",
    "    # Extract the timestamp from Cassandra's timeuuid\n",
    "    print(\"Datetime:\", datetime_from_uuid1(i.id))"
   ]
  },
  {
   "cell_type": "markdown",
   "metadata": {
    "slideshow": {
     "slide_type": "slide"
    }
   },
   "source": [
    "## JSON in Cassandra\n",
    "### Read previously saved JSON file forecast.json to memory"
   ]
  },
  {
   "cell_type": "code",
   "execution_count": 14,
   "metadata": {
    "ExecuteTime": {
     "end_time": "2024-08-17T10:25:35.796049Z",
     "start_time": "2024-08-17T10:25:35.793437Z"
    },
    "slideshow": {
     "slide_type": "fragment"
    },
    "tags": []
   },
   "outputs": [],
   "source": [
    "import json\n",
    "with open('../3_APIs/downloads/forecast.json', 'r') as f:\n",
    "    forecast = json.load(f)"
   ]
  },
  {
   "cell_type": "code",
   "execution_count": 15,
   "metadata": {
    "ExecuteTime": {
     "end_time": "2024-08-17T10:25:35.799114Z",
     "start_time": "2024-08-17T10:25:35.796532Z"
    },
    "slideshow": {
     "slide_type": "slide"
    },
    "tags": []
   },
   "outputs": [
    {
     "data": {
      "text/plain": [
       "\"{'cod': '200', 'message': 0, 'cnt': 40, 'list': [{'dt': 1727686800, 'main': {'temp': 282.65, 'feels_like': 282.65, 'temp_min': 281.21, 'temp_max': 282.65, 'pressure': 1025, 'sea_level': 1025, 'grnd_level': 966, 'humidity': 82, 'temp_kf': 1.44}, 'weather': [{'id': 804, 'main': 'Clouds', 'description': 'overcast clouds', 'icon': '04d'}], 'clouds': {'all': 98}, 'wind': {'speed': 1.18, 'deg': 163, 'gust': 1.39}, 'visibility': 10000, 'pop': 0, 'sys': {'pod': 'd'}, 'dt_txt': '2024-09-30 09:00:00'}, {'dt': 1727697600, 'main': {'temp': 282.99, 'feels_like': 281.98, 'temp_min': 282.99, 'temp_max': 283.68, 'pressure': 1025, 'sea_level': 1025, 'grnd_level': 966, 'humidity': 78, 'temp_kf': -0.69}, 'weather': [{'id': 804, 'main': 'Clouds', 'description': 'overcast clouds', 'icon': '04d'}], 'clouds': {'all': 95}, 'wind': {'speed': 2.23, 'deg': 157, 'gust': 3.1}, 'visibility': 10000, 'pop': 0, 'sys': {'pod': 'd'}, 'dt_txt': '2024-09-30 12:00:00'}, {'dt': 1727708400, 'main': {'temp': 284.11, 'feels_like': 283.19, 'temp_min': 284.11, 'temp_max': 284.84, 'pressure': 1024, 'sea_level': 1024, 'grnd_level': 966, 'humidity': 74, 'temp_kf': -0.73}, 'weather': [{'id': 804, 'main': 'Clouds', 'description': 'overcast clouds', 'icon': '04d'}], 'clouds': {'all': 93}, 'wind': {'speed': 1.75, 'deg': 189, 'gust': 3.83}, 'visibility': 10000, 'pop': 0, 'sys': {'pod': 'd'}, 'dt_txt': '2024-09-30 15:00:00'}, {'dt': 1727719200, 'main': {'temp': 280.25, 'feels_like': 280.25, 'temp_min': 280.25, 'temp_max': 280.25, 'pressure': 1025, 'sea_level': 1025, 'grnd_level': 966, 'humidity': 90, 'temp_kf': 0}, 'weather': [{'id': 804, 'main': 'Clouds', 'description': 'overcast clouds', 'icon': '04n'}], 'clouds': {'all': 88}, 'wind': {'speed': 0.92, 'deg': 259, 'gust': 0.97}, 'visibility': 10000, 'pop': 0, 'sys': {'pod': 'n'}, 'dt_txt': '2024-09-30 18:00:00'}, {'dt': 1727730000, 'main': {'temp': 279.76, 'feels_like': 279.76, 'temp_min': 279.76, 'temp_max': 279.76, 'pressure': 1025, 'sea_level': 1025, 'grnd_level': 967, 'humidity': 96, 'temp_kf': 0}, 'weather': [{'id': 804, 'main': 'Clouds', 'description': 'overcast clouds', 'icon': '04n'}], 'clouds': {'all': 100}, 'wind': {'speed': 0.61, 'deg': 224, 'gust': 0.62}, 'visibility': 10000, 'pop': 0, 'sys': {'pod': 'n'}, 'dt_txt': '2024-09-30 21:00:00'}, {'dt': 1727740800, 'main': {'temp': 280.46, 'feels_like': 280.46, 'temp_min': 280.46, 'temp_max': 280.46, 'pressure': 1025, 'sea_level': 1025, 'grnd_level': 967, 'humidity': 98, 'temp_kf': 0}, 'weather': [{'id': 804, 'main': 'Clouds', 'description': 'overcast clouds', 'icon': '04n'}], 'clouds': {'all': 100}, 'wind': {'speed': 0.9, 'deg': 356, 'gust': 0.69}, 'visibility': 10000, 'pop': 0, 'sys': {'pod': 'n'}, 'dt_txt': '2024-10-01 00:00:00'}, {'dt': 1727751600, 'main': {'temp': 279.65, 'feels_like': 279.65, 'temp_min': 279.65, 'temp_max': 279.65, 'pressure': 1025, 'sea_level': 1025, 'grnd_level': 966, 'humidity': 98, 'temp_kf': 0}, 'weather': [{'id': 804, 'main': 'Clouds', 'description': 'overcast clouds', 'icon': '04n'}], 'clouds': {'all': 100}, 'wind': {'speed': 0.75, 'deg': 3, 'gust': 0.62}, 'visibility': 10000, 'pop': 0, 'sys': {'pod': 'n'}, 'dt_txt': '2024-10-01 03:00:00'}, {'dt': 1727762400, 'main': {'temp': 279.33, 'feels_like': 279.33, 'temp_min': 279.33, 'temp_max': 279.33, 'pressure': 1025, 'sea_level': 1025, 'grnd_level': 967, 'humidity': 98, 'temp_kf': 0}, 'weather': [{'id': 804, 'main': 'Clouds', 'description': 'overcast clouds', 'icon': '04d'}], 'clouds': {'all': 100}, 'wind': {'speed': 0.49, 'deg': 4, 'gust': 0.37}, 'visibility': 10000, 'pop': 0, 'sys': {'pod': 'd'}, 'dt_txt': '2024-10-01 06:00:00'}, {'dt': 1727773200, 'main': {'temp': 282.37, 'feels_like': 282.37, 'temp_min': 282.37, 'temp_max': 282.37, 'pressure': 1026, 'sea_level': 1026, 'grnd_level': 967, 'humidity': 86, 'temp_kf': 0}, 'weather': [{'id': 804, 'main': 'Clouds', 'description': 'overcast clouds', 'icon': '04d'}], 'clouds': {'all': 100}, 'wind': {'speed': 0.95, 'deg': 119, 'gust': 1.06}, 'visibility': 10000, 'pop': 0, 'sys': {'pod': 'd'}, 'dt_txt': '2024-10-01 09:00:00'}, {'dt': 1727784000, 'main': {'temp': 284.11, 'feels_like': 282.98, 'temp_min': 284.11, 'temp_max': 284.11, 'pressure': 1025, 'sea_level': 1025, 'grnd_level': 967, 'humidity': 66, 'temp_kf': 0}, 'weather': [{'id': 804, 'main': 'Clouds', 'description': 'overcast clouds', 'icon': '04d'}], 'clouds': {'all': 100}, 'wind': {'speed': 1.09, 'deg': 109, 'gust': 1.27}, 'visibility': 10000, 'pop': 0, 'sys': {'pod': 'd'}, 'dt_txt': '2024-10-01 12:00:00'}, {'dt': 1727794800, 'main': {'temp': 283.54, 'feels_like': 282.38, 'temp_min': 283.54, 'temp_max': 283.54, 'pressure': 1024, 'sea_level': 1024, 'grnd_level': 966, 'humidity': 67, 'temp_kf': 0}, 'weather': [{'id': 804, 'main': 'Clouds', 'description': 'overcast clouds', 'icon': '04d'}], 'clouds': {'all': 100}, 'wind': {'speed': 0.62, 'deg': 102, 'gust': 1.18}, 'visibility': 10000, 'pop': 0, 'sys': {'pod': 'd'}, 'dt_txt': '2024-10-01 15:00:00'}, {'dt': 1727805600, 'main': {'temp': 279.5, 'feels_like': 278.72, 'temp_min': 279.5, 'temp_max': 279.5, 'pressure': 1025, 'sea_level': 1025, 'grnd_level': 966, 'humidity': 87, 'temp_kf': 0}, 'weather': [{'id': 804, 'main': 'Clouds', 'description': 'overcast clouds', 'icon': '04n'}], 'clouds': {'all': 98}, 'wind': {'speed': 1.43, 'deg': 304, 'gust': 1.21}, 'visibility': 10000, 'pop': 0, 'sys': {'pod': 'n'}, 'dt_txt': '2024-10-01 18:00:00'}, {'dt': 1727816400, 'main': {'temp': 278.31, 'feels_like': 276.94, 'temp_min': 278.31, 'temp_max': 278.31, 'pressure': 1025, 'sea_level': 1025, 'grnd_level': 966, 'humidity': 90, 'temp_kf': 0}, 'weather': [{'id': 803, 'main': 'Clouds', 'description': 'broken clouds', 'icon': '04n'}], 'clouds': {'all': 77}, 'wind': {'speed': 1.78, 'deg': 314, 'gust': 1.56}, 'visibility': 10000, 'pop': 0, 'sys': {'pod': 'n'}, 'dt_txt': '2024-10-01 21:00:00'}, {'dt': 1727827200, 'main': {'temp': 277.55, 'feels_like': 276.07, 'temp_min': 277.55, 'temp_max': 277.55, 'pressure': 1024, 'sea_level': 1024, 'grnd_level': 965, 'humidity': 91, 'temp_kf': 0}, 'weather': [{'id': 802, 'main': 'Clouds', 'description': 'scattered clouds', 'icon': '03n'}], 'clouds': {'all': 48}, 'wind': {'speed': 1.77, 'deg': 310, 'gust': 1.53}, 'visibility': 10000, 'pop': 0, 'sys': {'pod': 'n'}, 'dt_txt': '2024-10-02 00:00:00'}, {'dt': 1727838000, 'main': {'temp': 277.05, 'feels_like': 275.53, 'temp_min': 277.05, 'temp_max': 277.05, 'pressure': 1023, 'sea_level': 1023, 'grnd_level': 964, 'humidity': 91, 'temp_kf': 0}, 'weather': [{'id': 800, 'main': 'Clear', 'description': 'clear sky', 'icon': '01n'}], 'clouds': {'all': 2}, 'wind': {'speed': 1.74, 'deg': 314, 'gust': 1.53}, 'visibility': 10000, 'pop': 0, 'sys': {'pod': 'n'}, 'dt_txt': '2024-10-02 03:00:00'}, {'dt': 1727848800, 'main': {'temp': 276.82, 'feels_like': 275.33, 'temp_min': 276.82, 'temp_max': 276.82, 'pressure': 1023, 'sea_level': 1023, 'grnd_level': 964, 'humidity': 90, 'temp_kf': 0}, 'weather': [{'id': 800, 'main': 'Clear', 'description': 'clear sky', 'icon': '01d'}], 'clouds': {'all': 2}, 'wind': {'speed': 1.69, 'deg': 318, 'gust': 1.49}, 'visibility': 10000, 'pop': 0, 'sys': {'pod': 'd'}, 'dt_txt': '2024-10-02 06:00:00'}, {'dt': 1727859600, 'main': {'temp': 283.05, 'feels_like': 283.05, 'temp_min': 283.05, 'temp_max': 283.05, 'pressure': 1022, 'sea_level': 1022, 'grnd_level': 964, 'humidity': 62, 'temp_kf': 0}, 'weather': [{'id': 802, 'main': 'Clouds', 'description': 'scattered clouds', 'icon': '03d'}], 'clouds': {'all': 39}, 'wind': {'speed': 0.58, 'deg': 55, 'gust': 1.01}, 'visibility': 10000, 'pop': 0, 'sys': {'pod': 'd'}, 'dt_txt': '2024-10-02 09:00:00'}, {'dt': 1727870400, 'main': {'temp': 285.49, 'feels_like': 284.19, 'temp_min': 285.49, 'temp_max': 285.49, 'pressure': 1021, 'sea_level': 1021, 'grnd_level': 964, 'humidity': 54, 'temp_kf': 0}, 'weather': [{'id': 803, 'main': 'Clouds', 'description': 'broken clouds', 'icon': '04d'}], 'clouds': {'all': 69}, 'wind': {'speed': 0.58, 'deg': 101, 'gust': 1.11}, 'visibility': 10000, 'pop': 0, 'sys': {'pod': 'd'}, 'dt_txt': '2024-10-02 12:00:00'}, {'dt': 1727881200, 'main': {'temp': 285.19, 'feels_like': 284.02, 'temp_min': 285.19, 'temp_max': 285.19, 'pressure': 1020, 'sea_level': 1020, 'grnd_level': 963, 'humidity': 60, 'temp_kf': 0}, 'weather': [{'id': 804, 'main': 'Clouds', 'description': 'overcast clouds', 'icon': '04d'}], 'clouds': {'all': 85}, 'wind': {'speed': 1.27, 'deg': 135, 'gust': 0.95}, 'visibility': 10000, 'pop': 0, 'sys': {'pod': 'd'}, 'dt_txt': '2024-10-02 15:00:00'}, {'dt': 1727892000, 'main': {'temp': 279.64, 'feels_like': 279.64, 'temp_min': 279.64, 'temp_max': 279.64, 'pressure': 1022, 'sea_level': 1022, 'grnd_level': 964, 'humidity': 84, 'temp_kf': 0}, 'weather': [{'id': 803, 'main': 'Clouds', 'description': 'broken clouds', 'icon': '04n'}], 'clouds': {'all': 56}, 'wind': {'speed': 1.3, 'deg': 322, 'gust': 1.11}, 'visibility': 10000, 'pop': 0, 'sys': {'pod': 'n'}, 'dt_txt': '2024-10-02 18:00:00'}, {'dt': 1727902800, 'main': {'temp': 278.85, 'feels_like': 277.48, 'temp_min': 278.85, 'temp_max': 278.85, 'pressure': 1024, 'sea_level': 1024, 'grnd_level': 965, 'humidity': 85, 'temp_kf': 0}, 'weather': [{'id': 801, 'main': 'Clouds', 'description': 'few clouds', 'icon': '02n'}], 'clouds': {'all': 23}, 'wind': {'speed': 1.86, 'deg': 321, 'gust': 1.63}, 'visibility': 10000, 'pop': 0, 'sys': {'pod': 'n'}, 'dt_txt': '2024-10-02 21:00:00'}, {'dt': 1727913600, 'main': {'temp': 278.22, 'feels_like': 276.75, 'temp_min': 278.22, 'temp_max': 278.22, 'pressure': 1024, 'sea_level': 1024, 'grnd_level': 965, 'humidity': 85, 'temp_kf': 0}, 'weather': [{'id': 801, 'main': 'Clouds', 'description': 'few clouds', 'icon': '02n'}], 'clouds': {'all': 24}, 'wind': {'speed': 1.86, 'deg': 323, 'gust': 1.61}, 'visibility': 10000, 'pop': 0, 'sys': {'pod': 'n'}, 'dt_txt': '2024-10-03 00:00:00'}, {'dt': 1727924400, 'main': {'temp': 277.65, 'feels_like': 276.23, 'temp_min': 277.65, 'temp_max': 277.65, 'pressure': 1024, 'sea_level': 1024, 'grnd_level': 965, 'humidity': 85, 'temp_kf': 0}, 'weather': [{'id': 801, 'main': 'Clouds', 'description': 'few clouds', 'icon': '02n'}], 'clouds': {'all': 17}, 'wind': {'speed': 1.74, 'deg': 317, 'gust': 1.52}, 'visibility': 10000, 'pop': 0, 'sys': {'pod': 'n'}, 'dt_txt': '2024-10-03 03:00:00'}, {'dt': 1727935200, 'main': {'temp': 277.42, 'feels_like': 276.06, 'temp_min': 277.42, 'temp_max': 277.42, 'pressure': 1025, 'sea_level': 1025, 'grnd_level': 966, 'humidity': 84, 'temp_kf': 0}, 'weather': [{'id': 801, 'main': 'Clouds', 'description': 'few clouds', 'icon': '02d'}], 'clouds': {'all': 13}, 'wind': {'speed': 1.66, 'deg': 317, 'gust': 1.47}, 'visibility': 10000, 'pop': 0, 'sys': {'pod': 'd'}, 'dt_txt': '2024-10-03 06:00:00'}, {'dt': 1727946000, 'main': {'temp': 283.24, 'feels_like': 281.95, 'temp_min': 283.24, 'temp_max': 283.24, 'pressure': 1025, 'sea_level': 1025, 'grnd_level': 967, 'humidity': 63, 'temp_kf': 0}, 'weather': [{'id': 800, 'main': 'Clear', 'description': 'clear sky', 'icon': '01d'}], 'clouds': {'all': 6}, 'wind': {'speed': 0.94, 'deg': 134, 'gust': 0.51}, 'visibility': 10000, 'pop': 0, 'sys': {'pod': 'd'}, 'dt_txt': '2024-10-03 09:00:00'}, {'dt': 1727956800, 'main': {'temp': 285.63, 'feels_like': 284.4, 'temp_min': 285.63, 'temp_max': 285.63, 'pressure': 1024, 'sea_level': 1024, 'grnd_level': 966, 'humidity': 56, 'temp_kf': 0}, 'weather': [{'id': 802, 'main': 'Clouds', 'description': 'scattered clouds', 'icon': '03d'}], 'clouds': {'all': 28}, 'wind': {'speed': 1.48, 'deg': 154, 'gust': 1.45}, 'visibility': 10000, 'pop': 0, 'sys': {'pod': 'd'}, 'dt_txt': '2024-10-03 12:00:00'}, {'dt': 1727967600, 'main': {'temp': 285.4, 'feels_like': 284.27, 'temp_min': 285.4, 'temp_max': 285.4, 'pressure': 1023, 'sea_level': 1023, 'grnd_level': 966, 'humidity': 61, 'temp_kf': 0}, 'weather': [{'id': 801, 'main': 'Clouds', 'description': 'few clouds', 'icon': '02d'}], 'clouds': {'all': 18}, 'wind': {'speed': 1.64, 'deg': 144, 'gust': 2.14}, 'visibility': 10000, 'pop': 0, 'sys': {'pod': 'd'}, 'dt_txt': '2024-10-03 15:00:00'}, {'dt': 1727978400, 'main': {'temp': 280.11, 'feels_like': 280.11, 'temp_min': 280.11, 'temp_max': 280.11, 'pressure': 1024, 'sea_level': 1024, 'grnd_level': 966, 'humidity': 83, 'temp_kf': 0}, 'weather': [{'id': 801, 'main': 'Clouds', 'description': 'few clouds', 'icon': '02n'}], 'clouds': {'all': 19}, 'wind': {'speed': 1.13, 'deg': 305, 'gust': 0.87}, 'visibility': 10000, 'pop': 0, 'sys': {'pod': 'n'}, 'dt_txt': '2024-10-03 18:00:00'}, {'dt': 1727989200, 'main': {'temp': 278.94, 'feels_like': 278.94, 'temp_min': 278.94, 'temp_max': 278.94, 'pressure': 1025, 'sea_level': 1025, 'grnd_level': 966, 'humidity': 88, 'temp_kf': 0}, 'weather': [{'id': 802, 'main': 'Clouds', 'description': 'scattered clouds', 'icon': '03n'}], 'clouds': {'all': 34}, 'wind': {'speed': 1.19, 'deg': 307, 'gust': 0.95}, 'visibility': 10000, 'pop': 0, 'sys': {'pod': 'n'}, 'dt_txt': '2024-10-03 21:00:00'}, {'dt': 1728000000, 'main': {'temp': 278.55, 'feels_like': 278.55, 'temp_min': 278.55, 'temp_max': 278.55, 'pressure': 1025, 'sea_level': 1025, 'grnd_level': 966, 'humidity': 88, 'temp_kf': 0}, 'weather': [{'id': 802, 'main': 'Clouds', 'description': 'scattered clouds', 'icon': '03n'}], 'clouds': {'all': 46}, 'wind': {'speed': 1.2, 'deg': 310, 'gust': 1.05}, 'visibility': 10000, 'pop': 0, 'sys': {'pod': 'n'}, 'dt_txt': '2024-10-04 00:00:00'}, {'dt': 1728010800, 'main': {'temp': 278.52, 'feels_like': 278.52, 'temp_min': 278.52, 'temp_max': 278.52, 'pressure': 1024, 'sea_level': 1024, 'grnd_level': 965, 'humidity': 86, 'temp_kf': 0}, 'weather': [{'id': 804, 'main': 'Clouds', 'description': 'overcast clouds', 'icon': '04n'}], 'clouds': {'all': 100}, 'wind': {'speed': 1.05, 'deg': 331, 'gust': 0.91}, 'visibility': 10000, 'pop': 0, 'sys': {'pod': 'n'}, 'dt_txt': '2024-10-04 03:00:00'}, {'dt': 1728021600, 'main': {'temp': 277.42, 'feels_like': 277.42, 'temp_min': 277.42, 'temp_max': 277.42, 'pressure': 1024, 'sea_level': 1024, 'grnd_level': 965, 'humidity': 88, 'temp_kf': 0}, 'weather': [{'id': 804, 'main': 'Clouds', 'description': 'overcast clouds', 'icon': '04d'}], 'clouds': {'all': 97}, 'wind': {'speed': 1.24, 'deg': 336, 'gust': 1.09}, 'visibility': 10000, 'pop': 0, 'sys': {'pod': 'd'}, 'dt_txt': '2024-10-04 06:00:00'}, {'dt': 1728032400, 'main': {'temp': 281.8, 'feels_like': 281.8, 'temp_min': 281.8, 'temp_max': 281.8, 'pressure': 1023, 'sea_level': 1023, 'grnd_level': 965, 'humidity': 70, 'temp_kf': 0}, 'weather': [{'id': 804, 'main': 'Clouds', 'description': 'overcast clouds', 'icon': '04d'}], 'clouds': {'all': 94}, 'wind': {'speed': 0.77, 'deg': 127, 'gust': 0.4}, 'visibility': 10000, 'pop': 0, 'sys': {'pod': 'd'}, 'dt_txt': '2024-10-04 09:00:00'}, {'dt': 1728043200, 'main': {'temp': 284.57, 'feels_like': 283.36, 'temp_min': 284.57, 'temp_max': 284.57, 'pressure': 1021, 'sea_level': 1021, 'grnd_level': 964, 'humidity': 61, 'temp_kf': 0}, 'weather': [{'id': 804, 'main': 'Clouds', 'description': 'overcast clouds', 'icon': '04d'}], 'clouds': {'all': 94}, 'wind': {'speed': 1.53, 'deg': 152, 'gust': 1.2}, 'visibility': 10000, 'pop': 0, 'sys': {'pod': 'd'}, 'dt_txt': '2024-10-04 12:00:00'}, {'dt': 1728054000, 'main': {'temp': 283.71, 'feels_like': 282.65, 'temp_min': 283.71, 'temp_max': 283.71, 'pressure': 1020, 'sea_level': 1020, 'grnd_level': 962, 'humidity': 70, 'temp_kf': 0}, 'weather': [{'id': 804, 'main': 'Clouds', 'description': 'overcast clouds', 'icon': '04d'}], 'clouds': {'all': 93}, 'wind': {'speed': 1.25, 'deg': 144, 'gust': 2}, 'visibility': 10000, 'pop': 0, 'sys': {'pod': 'd'}, 'dt_txt': '2024-10-04 15:00:00'}, {'dt': 1728064800, 'main': {'temp': 279.58, 'feels_like': 279.58, 'temp_min': 279.58, 'temp_max': 279.58, 'pressure': 1019, 'sea_level': 1019, 'grnd_level': 961, 'humidity': 89, 'temp_kf': 0}, 'weather': [{'id': 804, 'main': 'Clouds', 'description': 'overcast clouds', 'icon': '04n'}], 'clouds': {'all': 94}, 'wind': {'speed': 0.86, 'deg': 279, 'gust': 0.72}, 'visibility': 10000, 'pop': 0, 'sys': {'pod': 'n'}, 'dt_txt': '2024-10-04 18:00:00'}, {'dt': 1728075600, 'main': {'temp': 278.38, 'feels_like': 278.38, 'temp_min': 278.38, 'temp_max': 278.38, 'pressure': 1019, 'sea_level': 1019, 'grnd_level': 960, 'humidity': 93, 'temp_kf': 0}, 'weather': [{'id': 802, 'main': 'Clouds', 'description': 'scattered clouds', 'icon': '03n'}], 'clouds': {'all': 48}, 'wind': {'speed': 1.01, 'deg': 281, 'gust': 0.91}, 'visibility': 10000, 'pop': 0, 'sys': {'pod': 'n'}, 'dt_txt': '2024-10-04 21:00:00'}, {'dt': 1728086400, 'main': {'temp': 277.71, 'feels_like': 277.71, 'temp_min': 277.71, 'temp_max': 277.71, 'pressure': 1017, 'sea_level': 1017, 'grnd_level': 958, 'humidity': 89, 'temp_kf': 0}, 'weather': [{'id': 803, 'main': 'Clouds', 'description': 'broken clouds', 'icon': '04n'}], 'clouds': {'all': 53}, 'wind': {'speed': 1.22, 'deg': 268, 'gust': 0.98}, 'visibility': 10000, 'pop': 0, 'sys': {'pod': 'n'}, 'dt_txt': '2024-10-05 00:00:00'}, {'dt': 1728097200, 'main': {'temp': 277.8, 'feels_like': 276.91, 'temp_min': 277.8, 'temp_max': 277.8, 'pressure': 1014, 'sea_level': 1014, 'grnd_level': 956, 'humidity': 81, 'temp_kf': 0}, 'weather': [{'id': 804, 'main': 'Clouds', 'description': 'overcast clouds', 'icon': '04n'}], 'clouds': {'all': 100}, 'wind': {'speed': 1.35, 'deg': 272, 'gust': 1.14}, 'visibility': 10000, 'pop': 0, 'sys': {'pod': 'n'}, 'dt_txt': '2024-10-05 03:00:00'}, {'dt': 1728108000, 'main': {'temp': 278.85, 'feels_like': 277.78, 'temp_min': 278.85, 'temp_max': 278.85, 'pressure': 1012, 'sea_level': 1012, 'grnd_level': 954, 'humidity': 72, 'temp_kf': 0}, 'weather': [{'id': 804, 'main': 'Clouds', 'description': 'overcast clouds', 'icon': '04d'}], 'clouds': {'all': 100}, 'wind': {'speed': 1.59, 'deg': 267, 'gust': 1.53}, 'visibility': 10000, 'pop': 0, 'sys': {'pod': 'd'}, 'dt_txt': '2024-10-05 06:00:00'}], 'city': {'id': 3144113, 'name': 'Noresund', 'coord': {'lat': 60.1803, 'lon': 9.6231}, 'country': 'NO', 'population': 1000, 'timezone': 7200, 'sunrise': 1727673917, 'sunset': 1727715442}}\""
      ]
     },
     "execution_count": 15,
     "metadata": {},
     "output_type": "execute_result"
    }
   ],
   "source": [
    "# Inspect JSON file\n",
    "forecast.__str__()"
   ]
  },
  {
   "cell_type": "markdown",
   "metadata": {
    "slideshow": {
     "slide_type": "slide"
    }
   },
   "source": [
    "## Raw JSON\n",
    "- A simple, but not very efficient way of storing JSON data is to treat it as a text and save it directly to the database.  \n",
    "- More efficient, with regard to transfer, is to compress the JSON data to a blob first.\n",
    "    - Compression is automatic."
   ]
  },
  {
   "cell_type": "code",
   "execution_count": 16,
   "metadata": {
    "ExecuteTime": {
     "end_time": "2024-08-17T10:25:35.916537Z",
     "start_time": "2024-08-17T10:25:35.799572Z"
    },
    "slideshow": {
     "slide_type": "fragment"
    },
    "tags": []
   },
   "outputs": [
    {
     "data": {
      "text/plain": [
       "<cassandra.cluster.ResultSet at 0x10550b5c0>"
      ]
     },
     "execution_count": 16,
     "metadata": {},
     "output_type": "execute_result"
    }
   ],
   "source": [
    "# Create a new table which treats the whole JSON as a blob, using the city id and the first dt as keys\n",
    "session.set_keyspace('my_first_keyspace')\n",
    "session.execute(\"DROP TABLE IF EXISTS my_first_keyspace.forecast_table;\")\n",
    "session.execute(\"CREATE TABLE IF NOT EXISTS forecast_table (city_id int, dt int, forecast blob, PRIMARY KEY(city_id, dt));\")"
   ]
  },
  {
   "cell_type": "markdown",
   "metadata": {
    "slideshow": {
     "slide_type": "slide"
    }
   },
   "source": [
    "### Insert the forecast data into the table as text blob"
   ]
  },
  {
   "cell_type": "code",
   "execution_count": 17,
   "metadata": {
    "ExecuteTime": {
     "end_time": "2024-08-17T10:25:35.935855Z",
     "start_time": "2024-08-17T10:25:35.917175Z"
    },
    "slideshow": {
     "slide_type": "fragment"
    },
    "tags": []
   },
   "outputs": [
    {
     "data": {
      "text/plain": [
       "<cassandra.cluster.ResultSet at 0x1055090a0>"
      ]
     },
     "execution_count": 17,
     "metadata": {},
     "output_type": "execute_result"
    }
   ],
   "source": [
    "session.execute(\"INSERT INTO forecast_table (city_id, dt, forecast) VALUES (%s, %s, textAsBlob(%s));\", (forecast['city']['id'], forecast['list'][0]['dt'], forecast.__str__()))"
   ]
  },
  {
   "cell_type": "code",
   "execution_count": 18,
   "metadata": {
    "ExecuteTime": {
     "end_time": "2024-08-17T10:25:35.946537Z",
     "start_time": "2024-08-17T10:25:35.938642Z"
    },
    "slideshow": {
     "slide_type": "slide"
    },
    "tags": []
   },
   "outputs": [
    {
     "name": "stdout",
     "output_type": "stream",
     "text": [
      "Row(city_id=3144113, dt=1727686800, forecast=b\"{'cod': '200', 'message': 0, 'cnt': 40, 'list': [{'dt': 1727686800, 'main': {'temp': 282.65, 'feels_like': 282.65, 'temp_min': 281.21, 'temp_max': 282.65, 'pressure': 1025, 'sea_level': 1025, 'grnd_level': 966, 'humidity': 82, 'temp_kf': 1.44}, 'weather': [{'id': 804, 'main': 'Clouds', 'description': 'overcast clouds', 'icon': '04d'}], 'clouds': {'all': 98}, 'wind': {'speed': 1.18, 'deg': 163, 'gust': 1.39}, 'visibility': 10000, 'pop': 0, 'sys': {'pod': 'd'}, 'dt_txt': '2024-09-30 09:00:00'}, {'dt': 1727697600, 'main': {'temp': 282.99, 'feels_like': 281.98, 'temp_min': 282.99, 'temp_max': 283.68, 'pressure': 1025, 'sea_level': 1025, 'grnd_level': 966, 'humidity': 78, 'temp_kf': -0.69}, 'weather': [{'id': 804, 'main': 'Clouds', 'description': 'overcast clouds', 'icon': '04d'}], 'clouds': {'all': 95}, 'wind': {'speed': 2.23, 'deg': 157, 'gust': 3.1}, 'visibility': 10000, 'pop': 0, 'sys': {'pod': 'd'}, 'dt_txt': '2024-09-30 12:00:00'}, {'dt': 1727708400, 'main': {'temp': 284.11, 'feels_like': 283.19, 'temp_min': 284.11, 'temp_max': 284.84, 'pressure': 1024, 'sea_level': 1024, 'grnd_level': 966, 'humidity': 74, 'temp_kf': -0.73}, 'weather': [{'id': 804, 'main': 'Clouds', 'description': 'overcast clouds', 'icon': '04d'}], 'clouds': {'all': 93}, 'wind': {'speed': 1.75, 'deg': 189, 'gust': 3.83}, 'visibility': 10000, 'pop': 0, 'sys': {'pod': 'd'}, 'dt_txt': '2024-09-30 15:00:00'}, {'dt': 1727719200, 'main': {'temp': 280.25, 'feels_like': 280.25, 'temp_min': 280.25, 'temp_max': 280.25, 'pressure': 1025, 'sea_level': 1025, 'grnd_level': 966, 'humidity': 90, 'temp_kf': 0}, 'weather': [{'id': 804, 'main': 'Clouds', 'description': 'overcast clouds', 'icon': '04n'}], 'clouds': {'all': 88}, 'wind': {'speed': 0.92, 'deg': 259, 'gust': 0.97}, 'visibility': 10000, 'pop': 0, 'sys': {'pod': 'n'}, 'dt_txt': '2024-09-30 18:00:00'}, {'dt': 1727730000, 'main': {'temp': 279.76, 'feels_like': 279.76, 'temp_min': 279.76, 'temp_max': 279.76, 'pressure': 1025, 'sea_level': 1025, 'grnd_level': 967, 'humidity': 96, 'temp_kf': 0}, 'weather': [{'id': 804, 'main': 'Clouds', 'description': 'overcast clouds', 'icon': '04n'}], 'clouds': {'all': 100}, 'wind': {'speed': 0.61, 'deg': 224, 'gust': 0.62}, 'visibility': 10000, 'pop': 0, 'sys': {'pod': 'n'}, 'dt_txt': '2024-09-30 21:00:00'}, {'dt': 1727740800, 'main': {'temp': 280.46, 'feels_like': 280.46, 'temp_min': 280.46, 'temp_max': 280.46, 'pressure': 1025, 'sea_level': 1025, 'grnd_level': 967, 'humidity': 98, 'temp_kf': 0}, 'weather': [{'id': 804, 'main': 'Clouds', 'description': 'overcast clouds', 'icon': '04n'}], 'clouds': {'all': 100}, 'wind': {'speed': 0.9, 'deg': 356, 'gust': 0.69}, 'visibility': 10000, 'pop': 0, 'sys': {'pod': 'n'}, 'dt_txt': '2024-10-01 00:00:00'}, {'dt': 1727751600, 'main': {'temp': 279.65, 'feels_like': 279.65, 'temp_min': 279.65, 'temp_max': 279.65, 'pressure': 1025, 'sea_level': 1025, 'grnd_level': 966, 'humidity': 98, 'temp_kf': 0}, 'weather': [{'id': 804, 'main': 'Clouds', 'description': 'overcast clouds', 'icon': '04n'}], 'clouds': {'all': 100}, 'wind': {'speed': 0.75, 'deg': 3, 'gust': 0.62}, 'visibility': 10000, 'pop': 0, 'sys': {'pod': 'n'}, 'dt_txt': '2024-10-01 03:00:00'}, {'dt': 1727762400, 'main': {'temp': 279.33, 'feels_like': 279.33, 'temp_min': 279.33, 'temp_max': 279.33, 'pressure': 1025, 'sea_level': 1025, 'grnd_level': 967, 'humidity': 98, 'temp_kf': 0}, 'weather': [{'id': 804, 'main': 'Clouds', 'description': 'overcast clouds', 'icon': '04d'}], 'clouds': {'all': 100}, 'wind': {'speed': 0.49, 'deg': 4, 'gust': 0.37}, 'visibility': 10000, 'pop': 0, 'sys': {'pod': 'd'}, 'dt_txt': '2024-10-01 06:00:00'}, {'dt': 1727773200, 'main': {'temp': 282.37, 'feels_like': 282.37, 'temp_min': 282.37, 'temp_max': 282.37, 'pressure': 1026, 'sea_level': 1026, 'grnd_level': 967, 'humidity': 86, 'temp_kf': 0}, 'weather': [{'id': 804, 'main': 'Clouds', 'description': 'overcast clouds', 'icon': '04d'}], 'clouds': {'all': 100}, 'wind': {'speed': 0.95, 'deg': 119, 'gust': 1.06}, 'visibility': 10000, 'pop': 0, 'sys': {'pod': 'd'}, 'dt_txt': '2024-10-01 09:00:00'}, {'dt': 1727784000, 'main': {'temp': 284.11, 'feels_like': 282.98, 'temp_min': 284.11, 'temp_max': 284.11, 'pressure': 1025, 'sea_level': 1025, 'grnd_level': 967, 'humidity': 66, 'temp_kf': 0}, 'weather': [{'id': 804, 'main': 'Clouds', 'description': 'overcast clouds', 'icon': '04d'}], 'clouds': {'all': 100}, 'wind': {'speed': 1.09, 'deg': 109, 'gust': 1.27}, 'visibility': 10000, 'pop': 0, 'sys': {'pod': 'd'}, 'dt_txt': '2024-10-01 12:00:00'}, {'dt': 1727794800, 'main': {'temp': 283.54, 'feels_like': 282.38, 'temp_min': 283.54, 'temp_max': 283.54, 'pressure': 1024, 'sea_level': 1024, 'grnd_level': 966, 'humidity': 67, 'temp_kf': 0}, 'weather': [{'id': 804, 'main': 'Clouds', 'description': 'overcast clouds', 'icon': '04d'}], 'clouds': {'all': 100}, 'wind': {'speed': 0.62, 'deg': 102, 'gust': 1.18}, 'visibility': 10000, 'pop': 0, 'sys': {'pod': 'd'}, 'dt_txt': '2024-10-01 15:00:00'}, {'dt': 1727805600, 'main': {'temp': 279.5, 'feels_like': 278.72, 'temp_min': 279.5, 'temp_max': 279.5, 'pressure': 1025, 'sea_level': 1025, 'grnd_level': 966, 'humidity': 87, 'temp_kf': 0}, 'weather': [{'id': 804, 'main': 'Clouds', 'description': 'overcast clouds', 'icon': '04n'}], 'clouds': {'all': 98}, 'wind': {'speed': 1.43, 'deg': 304, 'gust': 1.21}, 'visibility': 10000, 'pop': 0, 'sys': {'pod': 'n'}, 'dt_txt': '2024-10-01 18:00:00'}, {'dt': 1727816400, 'main': {'temp': 278.31, 'feels_like': 276.94, 'temp_min': 278.31, 'temp_max': 278.31, 'pressure': 1025, 'sea_level': 1025, 'grnd_level': 966, 'humidity': 90, 'temp_kf': 0}, 'weather': [{'id': 803, 'main': 'Clouds', 'description': 'broken clouds', 'icon': '04n'}], 'clouds': {'all': 77}, 'wind': {'speed': 1.78, 'deg': 314, 'gust': 1.56}, 'visibility': 10000, 'pop': 0, 'sys': {'pod': 'n'}, 'dt_txt': '2024-10-01 21:00:00'}, {'dt': 1727827200, 'main': {'temp': 277.55, 'feels_like': 276.07, 'temp_min': 277.55, 'temp_max': 277.55, 'pressure': 1024, 'sea_level': 1024, 'grnd_level': 965, 'humidity': 91, 'temp_kf': 0}, 'weather': [{'id': 802, 'main': 'Clouds', 'description': 'scattered clouds', 'icon': '03n'}], 'clouds': {'all': 48}, 'wind': {'speed': 1.77, 'deg': 310, 'gust': 1.53}, 'visibility': 10000, 'pop': 0, 'sys': {'pod': 'n'}, 'dt_txt': '2024-10-02 00:00:00'}, {'dt': 1727838000, 'main': {'temp': 277.05, 'feels_like': 275.53, 'temp_min': 277.05, 'temp_max': 277.05, 'pressure': 1023, 'sea_level': 1023, 'grnd_level': 964, 'humidity': 91, 'temp_kf': 0}, 'weather': [{'id': 800, 'main': 'Clear', 'description': 'clear sky', 'icon': '01n'}], 'clouds': {'all': 2}, 'wind': {'speed': 1.74, 'deg': 314, 'gust': 1.53}, 'visibility': 10000, 'pop': 0, 'sys': {'pod': 'n'}, 'dt_txt': '2024-10-02 03:00:00'}, {'dt': 1727848800, 'main': {'temp': 276.82, 'feels_like': 275.33, 'temp_min': 276.82, 'temp_max': 276.82, 'pressure': 1023, 'sea_level': 1023, 'grnd_level': 964, 'humidity': 90, 'temp_kf': 0}, 'weather': [{'id': 800, 'main': 'Clear', 'description': 'clear sky', 'icon': '01d'}], 'clouds': {'all': 2}, 'wind': {'speed': 1.69, 'deg': 318, 'gust': 1.49}, 'visibility': 10000, 'pop': 0, 'sys': {'pod': 'd'}, 'dt_txt': '2024-10-02 06:00:00'}, {'dt': 1727859600, 'main': {'temp': 283.05, 'feels_like': 283.05, 'temp_min': 283.05, 'temp_max': 283.05, 'pressure': 1022, 'sea_level': 1022, 'grnd_level': 964, 'humidity': 62, 'temp_kf': 0}, 'weather': [{'id': 802, 'main': 'Clouds', 'description': 'scattered clouds', 'icon': '03d'}], 'clouds': {'all': 39}, 'wind': {'speed': 0.58, 'deg': 55, 'gust': 1.01}, 'visibility': 10000, 'pop': 0, 'sys': {'pod': 'd'}, 'dt_txt': '2024-10-02 09:00:00'}, {'dt': 1727870400, 'main': {'temp': 285.49, 'feels_like': 284.19, 'temp_min': 285.49, 'temp_max': 285.49, 'pressure': 1021, 'sea_level': 1021, 'grnd_level': 964, 'humidity': 54, 'temp_kf': 0}, 'weather': [{'id': 803, 'main': 'Clouds', 'description': 'broken clouds', 'icon': '04d'}], 'clouds': {'all': 69}, 'wind': {'speed': 0.58, 'deg': 101, 'gust': 1.11}, 'visibility': 10000, 'pop': 0, 'sys': {'pod': 'd'}, 'dt_txt': '2024-10-02 12:00:00'}, {'dt': 1727881200, 'main': {'temp': 285.19, 'feels_like': 284.02, 'temp_min': 285.19, 'temp_max': 285.19, 'pressure': 1020, 'sea_level': 1020, 'grnd_level': 963, 'humidity': 60, 'temp_kf': 0}, 'weather': [{'id': 804, 'main': 'Clouds', 'description': 'overcast clouds', 'icon': '04d'}], 'clouds': {'all': 85}, 'wind': {'speed': 1.27, 'deg': 135, 'gust': 0.95}, 'visibility': 10000, 'pop': 0, 'sys': {'pod': 'd'}, 'dt_txt': '2024-10-02 15:00:00'}, {'dt': 1727892000, 'main': {'temp': 279.64, 'feels_like': 279.64, 'temp_min': 279.64, 'temp_max': 279.64, 'pressure': 1022, 'sea_level': 1022, 'grnd_level': 964, 'humidity': 84, 'temp_kf': 0}, 'weather': [{'id': 803, 'main': 'Clouds', 'description': 'broken clouds', 'icon': '04n'}], 'clouds': {'all': 56}, 'wind': {'speed': 1.3, 'deg': 322, 'gust': 1.11}, 'visibility': 10000, 'pop': 0, 'sys': {'pod': 'n'}, 'dt_txt': '2024-10-02 18:00:00'}, {'dt': 1727902800, 'main': {'temp': 278.85, 'feels_like': 277.48, 'temp_min': 278.85, 'temp_max': 278.85, 'pressure': 1024, 'sea_level': 1024, 'grnd_level': 965, 'humidity': 85, 'temp_kf': 0}, 'weather': [{'id': 801, 'main': 'Clouds', 'description': 'few clouds', 'icon': '02n'}], 'clouds': {'all': 23}, 'wind': {'speed': 1.86, 'deg': 321, 'gust': 1.63}, 'visibility': 10000, 'pop': 0, 'sys': {'pod': 'n'}, 'dt_txt': '2024-10-02 21:00:00'}, {'dt': 1727913600, 'main': {'temp': 278.22, 'feels_like': 276.75, 'temp_min': 278.22, 'temp_max': 278.22, 'pressure': 1024, 'sea_level': 1024, 'grnd_level': 965, 'humidity': 85, 'temp_kf': 0}, 'weather': [{'id': 801, 'main': 'Clouds', 'description': 'few clouds', 'icon': '02n'}], 'clouds': {'all': 24}, 'wind': {'speed': 1.86, 'deg': 323, 'gust': 1.61}, 'visibility': 10000, 'pop': 0, 'sys': {'pod': 'n'}, 'dt_txt': '2024-10-03 00:00:00'}, {'dt': 1727924400, 'main': {'temp': 277.65, 'feels_like': 276.23, 'temp_min': 277.65, 'temp_max': 277.65, 'pressure': 1024, 'sea_level': 1024, 'grnd_level': 965, 'humidity': 85, 'temp_kf': 0}, 'weather': [{'id': 801, 'main': 'Clouds', 'description': 'few clouds', 'icon': '02n'}], 'clouds': {'all': 17}, 'wind': {'speed': 1.74, 'deg': 317, 'gust': 1.52}, 'visibility': 10000, 'pop': 0, 'sys': {'pod': 'n'}, 'dt_txt': '2024-10-03 03:00:00'}, {'dt': 1727935200, 'main': {'temp': 277.42, 'feels_like': 276.06, 'temp_min': 277.42, 'temp_max': 277.42, 'pressure': 1025, 'sea_level': 1025, 'grnd_level': 966, 'humidity': 84, 'temp_kf': 0}, 'weather': [{'id': 801, 'main': 'Clouds', 'description': 'few clouds', 'icon': '02d'}], 'clouds': {'all': 13}, 'wind': {'speed': 1.66, 'deg': 317, 'gust': 1.47}, 'visibility': 10000, 'pop': 0, 'sys': {'pod': 'd'}, 'dt_txt': '2024-10-03 06:00:00'}, {'dt': 1727946000, 'main': {'temp': 283.24, 'feels_like': 281.95, 'temp_min': 283.24, 'temp_max': 283.24, 'pressure': 1025, 'sea_level': 1025, 'grnd_level': 967, 'humidity': 63, 'temp_kf': 0}, 'weather': [{'id': 800, 'main': 'Clear', 'description': 'clear sky', 'icon': '01d'}], 'clouds': {'all': 6}, 'wind': {'speed': 0.94, 'deg': 134, 'gust': 0.51}, 'visibility': 10000, 'pop': 0, 'sys': {'pod': 'd'}, 'dt_txt': '2024-10-03 09:00:00'}, {'dt': 1727956800, 'main': {'temp': 285.63, 'feels_like': 284.4, 'temp_min': 285.63, 'temp_max': 285.63, 'pressure': 1024, 'sea_level': 1024, 'grnd_level': 966, 'humidity': 56, 'temp_kf': 0}, 'weather': [{'id': 802, 'main': 'Clouds', 'description': 'scattered clouds', 'icon': '03d'}], 'clouds': {'all': 28}, 'wind': {'speed': 1.48, 'deg': 154, 'gust': 1.45}, 'visibility': 10000, 'pop': 0, 'sys': {'pod': 'd'}, 'dt_txt': '2024-10-03 12:00:00'}, {'dt': 1727967600, 'main': {'temp': 285.4, 'feels_like': 284.27, 'temp_min': 285.4, 'temp_max': 285.4, 'pressure': 1023, 'sea_level': 1023, 'grnd_level': 966, 'humidity': 61, 'temp_kf': 0}, 'weather': [{'id': 801, 'main': 'Clouds', 'description': 'few clouds', 'icon': '02d'}], 'clouds': {'all': 18}, 'wind': {'speed': 1.64, 'deg': 144, 'gust': 2.14}, 'visibility': 10000, 'pop': 0, 'sys': {'pod': 'd'}, 'dt_txt': '2024-10-03 15:00:00'}, {'dt': 1727978400, 'main': {'temp': 280.11, 'feels_like': 280.11, 'temp_min': 280.11, 'temp_max': 280.11, 'pressure': 1024, 'sea_level': 1024, 'grnd_level': 966, 'humidity': 83, 'temp_kf': 0}, 'weather': [{'id': 801, 'main': 'Clouds', 'description': 'few clouds', 'icon': '02n'}], 'clouds': {'all': 19}, 'wind': {'speed': 1.13, 'deg': 305, 'gust': 0.87}, 'visibility': 10000, 'pop': 0, 'sys': {'pod': 'n'}, 'dt_txt': '2024-10-03 18:00:00'}, {'dt': 1727989200, 'main': {'temp': 278.94, 'feels_like': 278.94, 'temp_min': 278.94, 'temp_max': 278.94, 'pressure': 1025, 'sea_level': 1025, 'grnd_level': 966, 'humidity': 88, 'temp_kf': 0}, 'weather': [{'id': 802, 'main': 'Clouds', 'description': 'scattered clouds', 'icon': '03n'}], 'clouds': {'all': 34}, 'wind': {'speed': 1.19, 'deg': 307, 'gust': 0.95}, 'visibility': 10000, 'pop': 0, 'sys': {'pod': 'n'}, 'dt_txt': '2024-10-03 21:00:00'}, {'dt': 1728000000, 'main': {'temp': 278.55, 'feels_like': 278.55, 'temp_min': 278.55, 'temp_max': 278.55, 'pressure': 1025, 'sea_level': 1025, 'grnd_level': 966, 'humidity': 88, 'temp_kf': 0}, 'weather': [{'id': 802, 'main': 'Clouds', 'description': 'scattered clouds', 'icon': '03n'}], 'clouds': {'all': 46}, 'wind': {'speed': 1.2, 'deg': 310, 'gust': 1.05}, 'visibility': 10000, 'pop': 0, 'sys': {'pod': 'n'}, 'dt_txt': '2024-10-04 00:00:00'}, {'dt': 1728010800, 'main': {'temp': 278.52, 'feels_like': 278.52, 'temp_min': 278.52, 'temp_max': 278.52, 'pressure': 1024, 'sea_level': 1024, 'grnd_level': 965, 'humidity': 86, 'temp_kf': 0}, 'weather': [{'id': 804, 'main': 'Clouds', 'description': 'overcast clouds', 'icon': '04n'}], 'clouds': {'all': 100}, 'wind': {'speed': 1.05, 'deg': 331, 'gust': 0.91}, 'visibility': 10000, 'pop': 0, 'sys': {'pod': 'n'}, 'dt_txt': '2024-10-04 03:00:00'}, {'dt': 1728021600, 'main': {'temp': 277.42, 'feels_like': 277.42, 'temp_min': 277.42, 'temp_max': 277.42, 'pressure': 1024, 'sea_level': 1024, 'grnd_level': 965, 'humidity': 88, 'temp_kf': 0}, 'weather': [{'id': 804, 'main': 'Clouds', 'description': 'overcast clouds', 'icon': '04d'}], 'clouds': {'all': 97}, 'wind': {'speed': 1.24, 'deg': 336, 'gust': 1.09}, 'visibility': 10000, 'pop': 0, 'sys': {'pod': 'd'}, 'dt_txt': '2024-10-04 06:00:00'}, {'dt': 1728032400, 'main': {'temp': 281.8, 'feels_like': 281.8, 'temp_min': 281.8, 'temp_max': 281.8, 'pressure': 1023, 'sea_level': 1023, 'grnd_level': 965, 'humidity': 70, 'temp_kf': 0}, 'weather': [{'id': 804, 'main': 'Clouds', 'description': 'overcast clouds', 'icon': '04d'}], 'clouds': {'all': 94}, 'wind': {'speed': 0.77, 'deg': 127, 'gust': 0.4}, 'visibility': 10000, 'pop': 0, 'sys': {'pod': 'd'}, 'dt_txt': '2024-10-04 09:00:00'}, {'dt': 1728043200, 'main': {'temp': 284.57, 'feels_like': 283.36, 'temp_min': 284.57, 'temp_max': 284.57, 'pressure': 1021, 'sea_level': 1021, 'grnd_level': 964, 'humidity': 61, 'temp_kf': 0}, 'weather': [{'id': 804, 'main': 'Clouds', 'description': 'overcast clouds', 'icon': '04d'}], 'clouds': {'all': 94}, 'wind': {'speed': 1.53, 'deg': 152, 'gust': 1.2}, 'visibility': 10000, 'pop': 0, 'sys': {'pod': 'd'}, 'dt_txt': '2024-10-04 12:00:00'}, {'dt': 1728054000, 'main': {'temp': 283.71, 'feels_like': 282.65, 'temp_min': 283.71, 'temp_max': 283.71, 'pressure': 1020, 'sea_level': 1020, 'grnd_level': 962, 'humidity': 70, 'temp_kf': 0}, 'weather': [{'id': 804, 'main': 'Clouds', 'description': 'overcast clouds', 'icon': '04d'}], 'clouds': {'all': 93}, 'wind': {'speed': 1.25, 'deg': 144, 'gust': 2}, 'visibility': 10000, 'pop': 0, 'sys': {'pod': 'd'}, 'dt_txt': '2024-10-04 15:00:00'}, {'dt': 1728064800, 'main': {'temp': 279.58, 'feels_like': 279.58, 'temp_min': 279.58, 'temp_max': 279.58, 'pressure': 1019, 'sea_level': 1019, 'grnd_level': 961, 'humidity': 89, 'temp_kf': 0}, 'weather': [{'id': 804, 'main': 'Clouds', 'description': 'overcast clouds', 'icon': '04n'}], 'clouds': {'all': 94}, 'wind': {'speed': 0.86, 'deg': 279, 'gust': 0.72}, 'visibility': 10000, 'pop': 0, 'sys': {'pod': 'n'}, 'dt_txt': '2024-10-04 18:00:00'}, {'dt': 1728075600, 'main': {'temp': 278.38, 'feels_like': 278.38, 'temp_min': 278.38, 'temp_max': 278.38, 'pressure': 1019, 'sea_level': 1019, 'grnd_level': 960, 'humidity': 93, 'temp_kf': 0}, 'weather': [{'id': 802, 'main': 'Clouds', 'description': 'scattered clouds', 'icon': '03n'}], 'clouds': {'all': 48}, 'wind': {'speed': 1.01, 'deg': 281, 'gust': 0.91}, 'visibility': 10000, 'pop': 0, 'sys': {'pod': 'n'}, 'dt_txt': '2024-10-04 21:00:00'}, {'dt': 1728086400, 'main': {'temp': 277.71, 'feels_like': 277.71, 'temp_min': 277.71, 'temp_max': 277.71, 'pressure': 1017, 'sea_level': 1017, 'grnd_level': 958, 'humidity': 89, 'temp_kf': 0}, 'weather': [{'id': 803, 'main': 'Clouds', 'description': 'broken clouds', 'icon': '04n'}], 'clouds': {'all': 53}, 'wind': {'speed': 1.22, 'deg': 268, 'gust': 0.98}, 'visibility': 10000, 'pop': 0, 'sys': {'pod': 'n'}, 'dt_txt': '2024-10-05 00:00:00'}, {'dt': 1728097200, 'main': {'temp': 277.8, 'feels_like': 276.91, 'temp_min': 277.8, 'temp_max': 277.8, 'pressure': 1014, 'sea_level': 1014, 'grnd_level': 956, 'humidity': 81, 'temp_kf': 0}, 'weather': [{'id': 804, 'main': 'Clouds', 'description': 'overcast clouds', 'icon': '04n'}], 'clouds': {'all': 100}, 'wind': {'speed': 1.35, 'deg': 272, 'gust': 1.14}, 'visibility': 10000, 'pop': 0, 'sys': {'pod': 'n'}, 'dt_txt': '2024-10-05 03:00:00'}, {'dt': 1728108000, 'main': {'temp': 278.85, 'feels_like': 277.78, 'temp_min': 278.85, 'temp_max': 278.85, 'pressure': 1012, 'sea_level': 1012, 'grnd_level': 954, 'humidity': 72, 'temp_kf': 0}, 'weather': [{'id': 804, 'main': 'Clouds', 'description': 'overcast clouds', 'icon': '04d'}], 'clouds': {'all': 100}, 'wind': {'speed': 1.59, 'deg': 267, 'gust': 1.53}, 'visibility': 10000, 'pop': 0, 'sys': {'pod': 'd'}, 'dt_txt': '2024-10-05 06:00:00'}], 'city': {'id': 3144113, 'name': 'Noresund', 'coord': {'lat': 60.1803, 'lon': 9.6231}, 'country': 'NO', 'population': 1000, 'timezone': 7200, 'sunrise': 1727673917, 'sunset': 1727715442}}\")\n"
     ]
    }
   ],
   "source": [
    "# Query the data\n",
    "forecast_rows = session.execute(\"SELECT * FROM forecast_table;\")\n",
    "print(forecast_rows.one()) # <- only one row"
   ]
  },
  {
   "cell_type": "markdown",
   "metadata": {
    "slideshow": {
     "slide_type": "slide"
    }
   },
   "source": [
    "```{seealso} Resources\n",
    ":class: tip\n",
    "- [Cassandra webpage](https://cassandra.apache.org/)\n",
    "- [Cassandra Docker file](https://hub.docker.com/_/cassandra)\n",
    "- [UUID functions](https://docs.datastax.com/en/cql-oss/3.3/cql/cql_reference/timeuuid_functions_r.html)\n",
    "- [YouTube: Cassandra in 100 seconds](https://youtu.be/ziq7FUKpCS8?si=WQUdkHFvaBmT0DBo) (2m:26s)\n",
    "- [YouTube: How to use Apache Cassandra in Python](https://youtu.be/qMauZqJH3ZM?si=yKGZ-5cld2BK396Y) (14m:50s)\n",
    "- [YouTube: Cassandra Database Crash Course](https://youtu.be/KZsVSfQVU4I?si=FBCi8qOfCirfVmZk) (19m:47s)\n",
    "```"
   ]
  }
 ],
 "metadata": {
  "celltoolbar": "Slideshow",
  "kernelspec": {
   "display_name": "Python 3 (ipykernel)",
   "language": "python",
   "name": "python3"
  },
  "language_info": {
   "codemirror_mode": {
    "name": "ipython",
    "version": 3
   },
   "file_extension": ".py",
   "mimetype": "text/x-python",
   "name": "python",
   "nbconvert_exporter": "python",
   "pygments_lexer": "ipython3",
   "version": "3.12.4"
  }
 },
 "nbformat": 4,
 "nbformat_minor": 4
}