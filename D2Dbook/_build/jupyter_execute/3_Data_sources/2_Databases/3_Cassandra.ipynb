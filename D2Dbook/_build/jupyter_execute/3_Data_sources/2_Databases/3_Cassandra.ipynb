{
 "cells": [
  {
   "cell_type": "markdown",
   "metadata": {
    "slideshow": {
     "slide_type": "slide"
    }
   },
   "source": [
    "# Cassandra\n",
    "- A production grade NoSQL database.\n",
    "- Can be distributed across servers, nodes, etc.\n",
    "- Replication of database is supported for high degree of redundancy and speed.\n",
    "- Uses CQL, a subset of SQL for querying.\n",
    "- Works seamlesly together with Spark and its corresponding distributed structure.\n",
    "- Installation of Cassandra is explained in the [Installation chapter](../../7_Appendix/Installation.ipynb)."
   ]
  },
  {
   "cell_type": "markdown",
   "metadata": {
    "slideshow": {
     "slide_type": "slide"
    }
   },
   "source": [
    "## Spinning up a local Cassandra instance\n",
    "In a terminal, first time:  \n",
    "```docker run --name my_cassandra -p 9042:9042 cassandra:latest```  \n",
    "... and later:  \n",
    "```docker start my_cassandra```  \n",
    "  \n",
    ".. or in Docker Desktop:\n",
    "- Run the cassandra docker image with optional settings, opening 9042 port and setting a name.\n",
    "- Later, simply run the container with the name you chose."
   ]
  },
  {
   "cell_type": "markdown",
   "metadata": {
    "slideshow": {
     "slide_type": "slide"
    }
   },
   "source": [
    "<img src=\"https://github.com/khliland/IND320/blob/main/D2Dbook/images/Docker_images.png?raw=TRUE\" width=\"600px\">  "
   ]
  },
  {
   "cell_type": "markdown",
   "metadata": {
    "slideshow": {
     "slide_type": "slide"
    }
   },
   "source": [
    "\n",
    "<img src=\"https://github.com/khliland/IND320/blob/main/D2Dbook/images/Docker_containers.png?raw=TRUE\" width=\"800px\">  "
   ]
  },
  {
   "cell_type": "markdown",
   "metadata": {
    "slideshow": {
     "slide_type": "slide"
    }
   },
   "source": [
    "### Connect to the Cassandra cluster from Python."
   ]
  },
  {
   "cell_type": "code",
   "execution_count": 1,
   "metadata": {
    "ExecuteTime": {
     "end_time": "2024-08-17T10:25:34.787878Z",
     "start_time": "2024-08-17T10:25:34.389367Z"
    },
    "slideshow": {
     "slide_type": "fragment"
    },
    "tags": []
   },
   "outputs": [],
   "source": [
    "# Connecting to Cassandra\n",
    "from cassandra.cluster import Cluster\n",
    "cluster = Cluster(['localhost'], port=9042)\n",
    "session = cluster.connect()"
   ]
  },
  {
   "cell_type": "markdown",
   "metadata": {
    "slideshow": {
     "slide_type": "slide"
    }
   },
   "source": [
    "### Keyspace\n",
    "- In Cassandra database tables are stored in keyspaces (basically a distributed database).\n",
    "- These have parameters controlling their distribution on nodes/servers and redundancy.\n",
    "- We will use the simplest form locally."
   ]
  },
  {
   "cell_type": "code",
   "execution_count": 2,
   "metadata": {
    "ExecuteTime": {
     "end_time": "2024-08-17T10:25:34.798504Z",
     "start_time": "2024-08-17T10:25:34.789786Z"
    },
    "slideshow": {
     "slide_type": "fragment"
    },
    "tags": []
   },
   "outputs": [
    {
     "data": {
      "text/plain": [
       "<cassandra.cluster.ResultSet at 0x1047fdac0>"
      ]
     },
     "execution_count": 2,
     "metadata": {},
     "output_type": "execute_result"
    }
   ],
   "source": [
    "# Set up new keyspace (first time only)\n",
    "#                                              name of keyspace                        replication strategy           replication factor\n",
    "session.execute(\"CREATE KEYSPACE IF NOT EXISTS my_first_keyspace WITH REPLICATION = { 'class' : 'SimpleStrategy', 'replication_factor' : 1 };\")"
   ]
  },
  {
   "cell_type": "markdown",
   "metadata": {
    "slideshow": {
     "slide_type": "slide"
    }
   },
   "source": [
    "### Create a table\n",
    "- IF NOT EXISTS makes sure we do not overwrite existing tables"
   ]
  },
  {
   "cell_type": "code",
   "execution_count": 3,
   "metadata": {
    "ExecuteTime": {
     "end_time": "2024-08-17T10:25:35.347394Z",
     "start_time": "2024-08-17T10:25:34.800008Z"
    },
    "slideshow": {
     "slide_type": "fragment"
    },
    "tags": []
   },
   "outputs": [
    {
     "data": {
      "text/plain": [
       "<cassandra.cluster.ResultSet at 0x105405fd0>"
      ]
     },
     "execution_count": 3,
     "metadata": {},
     "output_type": "execute_result"
    }
   ],
   "source": [
    "# Create a new table (first time only)\n",
    "session.set_keyspace('my_first_keyspace')\n",
    "session.execute(\"DROP TABLE IF EXISTS my_first_keyspace.my_first_table;\") # Starting from scratch every time\n",
    "session.execute(\"CREATE TABLE IF NOT EXISTS my_first_table (ind int PRIMARY KEY, company text, model text);\")"
   ]
  },
  {
   "cell_type": "markdown",
   "metadata": {
    "slideshow": {
     "slide_type": "slide"
    }
   },
   "source": [
    "### Inserting and reading data"
   ]
  },
  {
   "cell_type": "code",
   "execution_count": 4,
   "metadata": {
    "ExecuteTime": {
     "end_time": "2024-08-17T10:25:35.366363Z",
     "start_time": "2024-08-17T10:25:35.350453Z"
    },
    "slideshow": {
     "slide_type": "fragment"
    },
    "tags": []
   },
   "outputs": [
    {
     "data": {
      "text/plain": [
       "<cassandra.cluster.ResultSet at 0x1057b5160>"
      ]
     },
     "execution_count": 4,
     "metadata": {},
     "output_type": "execute_result"
    }
   ],
   "source": [
    "# Insert some data (ind is the primary key, must be unique)\n",
    "session.execute(\"INSERT INTO my_first_table (ind, company, model) VALUES (1, 'Tesla', 'Model S');\")\n",
    "session.execute(\"INSERT INTO my_first_table (ind, company, model) VALUES (2, 'Tesla', 'Model 3');\")\n",
    "session.execute(\"INSERT INTO my_first_table (ind, company, model) VALUES (3, 'Polestar', '3');\")"
   ]
  },
  {
   "cell_type": "code",
   "execution_count": 5,
   "metadata": {},
   "outputs": [
    {
     "name": "stdout",
     "output_type": "stream",
     "text": [
      "Row(ind=1, company='Tesla', model='Model S')\n",
      "Row(ind=2, company='Tesla', model='Model 3')\n",
      "Row(ind=3, company='Polestar', model='3')\n"
     ]
    }
   ],
   "source": [
    "# Query the data\n",
    "rows = session.execute(\"SELECT * FROM my_first_table;\")\n",
    "for i in rows:\n",
    "    print(i)"
   ]
  },
  {
   "cell_type": "markdown",
   "metadata": {
    "slideshow": {
     "slide_type": "slide"
    },
    "tags": []
   },
   "source": [
    "### Case sensitivity\n",
    "- Cassandra is by default case insensitive in column names.\n",
    "- To use column names with capital letters, use double quotation marks both when creating tables and when inserting data.\n",
    "- The effect of insensitivity may be surprising.\n",
    "    - Look carefully at the use of quotation marks and error message below."
   ]
  },
  {
   "cell_type": "code",
   "execution_count": 6,
   "metadata": {
    "slideshow": {
     "slide_type": "slide"
    },
    "tags": []
   },
   "outputs": [
    {
     "data": {
      "text/plain": [
       "<cassandra.cluster.ResultSet at 0x1057b74d0>"
      ]
     },
     "execution_count": 6,
     "metadata": {},
     "output_type": "execute_result"
    }
   ],
   "source": [
    "session.set_keyspace('my_first_keyspace')\n",
    "session.execute(\"DROP TABLE IF EXISTS my_first_keyspace.case_insensitive;\") # Starting from scratch every time\n",
    "session.execute(\"CREATE TABLE IF NOT EXISTS case_insensitive (Capital int PRIMARY KEY, Letters text, Everywhere text);\")\n",
    "session.execute(\"DROP TABLE IF EXISTS my_first_keyspace.case_sensitive;\") # Starting from scratch every time\n",
    "session.execute(\"CREATE TABLE IF NOT EXISTS case_sensitive (\\\"Capital\\\" int PRIMARY KEY, \\\"Letters\\\" text, \\\"Everywhere\\\" text);\")"
   ]
  },
  {
   "cell_type": "code",
   "execution_count": 7,
   "metadata": {
    "slideshow": {
     "slide_type": "fragment"
    },
    "tags": []
   },
   "outputs": [
    {
     "data": {
      "text/plain": [
       "<cassandra.cluster.ResultSet at 0x103ed09e0>"
      ]
     },
     "execution_count": 7,
     "metadata": {},
     "output_type": "execute_result"
    }
   ],
   "source": [
    "session.execute(\"INSERT INTO case_insensitive (Capital, Letters, Everywhere) VALUES (1, 'Tesla', 'Model S');\")"
   ]
  },
  {
   "cell_type": "code",
   "execution_count": 8,
   "metadata": {
    "slideshow": {
     "slide_type": "fragment"
    },
    "tags": [
     "raises-exception"
    ]
   },
   "outputs": [
    {
     "ename": "InvalidRequest",
     "evalue": "Error from server: code=2200 [Invalid query] message=\"Undefined column name capital in table my_first_keyspace.case_sensitive\"",
     "output_type": "error",
     "traceback": [
      "\u001b[0;31m---------------------------------------------------------------------------\u001b[0m",
      "\u001b[0;31mInvalidRequest\u001b[0m                            Traceback (most recent call last)",
      "Cell \u001b[0;32mIn[8], line 1\u001b[0m\n\u001b[0;32m----> 1\u001b[0m \u001b[43msession\u001b[49m\u001b[38;5;241;43m.\u001b[39;49m\u001b[43mexecute\u001b[49m\u001b[43m(\u001b[49m\u001b[38;5;124;43m\"\u001b[39;49m\u001b[38;5;124;43mINSERT INTO case_sensitive (Capital, Letters, Everywhere) VALUES (1, \u001b[39;49m\u001b[38;5;124;43m'\u001b[39;49m\u001b[38;5;124;43mTesla\u001b[39;49m\u001b[38;5;124;43m'\u001b[39;49m\u001b[38;5;124;43m, \u001b[39;49m\u001b[38;5;124;43m'\u001b[39;49m\u001b[38;5;124;43mModel S\u001b[39;49m\u001b[38;5;124;43m'\u001b[39;49m\u001b[38;5;124;43m);\u001b[39;49m\u001b[38;5;124;43m\"\u001b[39;49m\u001b[43m)\u001b[49m\n",
      "File \u001b[0;32m~/miniforge3/envs/IND320_2024/lib/python3.12/site-packages/cassandra/cluster.py:2677\u001b[0m, in \u001b[0;36mcassandra.cluster.Session.execute\u001b[0;34m()\u001b[0m\n",
      "File \u001b[0;32m~/miniforge3/envs/IND320_2024/lib/python3.12/site-packages/cassandra/cluster.py:4956\u001b[0m, in \u001b[0;36mcassandra.cluster.ResponseFuture.result\u001b[0;34m()\u001b[0m\n",
      "\u001b[0;31mInvalidRequest\u001b[0m: Error from server: code=2200 [Invalid query] message=\"Undefined column name capital in table my_first_keyspace.case_sensitive\""
     ]
    }
   ],
   "source": [
    "session.execute(\"INSERT INTO case_sensitive (Capital, Letters, Everywhere) VALUES (1, 'Tesla', 'Model S');\")"
   ]
  },
  {
   "cell_type": "code",
   "execution_count": 9,
   "metadata": {
    "slideshow": {
     "slide_type": "fragment"
    },
    "tags": []
   },
   "outputs": [
    {
     "data": {
      "text/plain": [
       "<cassandra.cluster.ResultSet at 0x104c21f70>"
      ]
     },
     "execution_count": 9,
     "metadata": {},
     "output_type": "execute_result"
    }
   ],
   "source": [
    "session.execute(\"INSERT INTO case_sensitive (\\\"Capital\\\", \\\"Letters\\\", \\\"Everywhere\\\") VALUES (1, 'Tesla', 'Model S');\")"
   ]
  },
  {
   "cell_type": "code",
   "execution_count": 10,
   "metadata": {
    "slideshow": {
     "slide_type": "slide"
    },
    "tags": []
   },
   "outputs": [
    {
     "name": "stdout",
     "output_type": "stream",
     "text": [
      "Row(capital=1, everywhere='Model S', letters='Tesla')\n",
      "Row(Capital=1, Everywhere='Model S', Letters='Tesla')\n"
     ]
    }
   ],
   "source": [
    "# Query the data\n",
    "rows = session.execute(\"SELECT * FROM case_insensitive;\")\n",
    "for i in rows:\n",
    "    print(i)\n",
    "rows = session.execute(\"SELECT * FROM case_sensitive;\")\n",
    "for i in rows:\n",
    "    print(i)"
   ]
  },
  {
   "cell_type": "markdown",
   "metadata": {
    "slideshow": {
     "slide_type": "slide"
    }
   },
   "source": [
    "### Asyncronous writing\n",
    "- If your application is very data intensive, waiting for a response is not productive.\n",
    "- Writing asyncronously sends the data but does not pause for reply."
   ]
  },
  {
   "cell_type": "code",
   "execution_count": 11,
   "metadata": {
    "ExecuteTime": {
     "end_time": "2024-08-17T10:25:35.371390Z",
     "start_time": "2024-08-17T10:25:35.367159Z"
    },
    "slideshow": {
     "slide_type": "fragment"
    },
    "tags": []
   },
   "outputs": [
    {
     "data": {
      "text/plain": [
       "<ResponseFuture: query='<SimpleStatement query=\"INSERT INTO my_first_table (ind, company, model) VALUES (4, 'Volkswagen', 'ID.4');\", consistency=Not Set>' request_id=63 result=(no result yet) exception=None coordinator_host=None>"
      ]
     },
     "execution_count": 11,
     "metadata": {},
     "output_type": "execute_result"
    }
   ],
   "source": [
    "session.execute_async(\"INSERT INTO my_first_table (ind, company, model) VALUES (4, 'Volkswagen', 'ID.4');\")"
   ]
  },
  {
   "cell_type": "code",
   "execution_count": 12,
   "metadata": {
    "ExecuteTime": {
     "end_time": "2024-08-17T10:25:35.384736Z",
     "start_time": "2024-08-17T10:25:35.372551Z"
    },
    "slideshow": {
     "slide_type": "slide"
    },
    "tags": []
   },
   "outputs": [
    {
     "name": "stdout",
     "output_type": "stream",
     "text": [
      "Row(ind=1, company='Tesla', model='Model S')\n",
      "Row(ind=2, company='Tesla', model='Model 3')\n",
      "Row(ind=4, company='Volkswagen', model='ID.4')\n",
      "Row(ind=3, company='Polestar', model='3')\n"
     ]
    }
   ],
   "source": [
    "# Query the data\n",
    "rows = session.execute(\"SELECT * FROM my_first_table;\")\n",
    "for i in rows:\n",
    "    print(i)"
   ]
  },
  {
   "cell_type": "code",
   "execution_count": 13,
   "metadata": {
    "ExecuteTime": {
     "end_time": "2024-08-17T10:25:35.402371Z",
     "start_time": "2024-08-17T10:25:35.386980Z"
    },
    "slideshow": {
     "slide_type": "slide"
    },
    "tags": [
     "raises-exception"
    ]
   },
   "outputs": [
    {
     "name": "stdout",
     "output_type": "stream",
     "text": [
      "Row(ind=1, company='Tesla', model='Model S')\n",
      "Row(ind=2, company='Tesla', model='Model 3')\n"
     ]
    }
   ],
   "source": [
    "# More specific query\n",
    "prepared_statement = session.prepare(\"SELECT * FROM my_first_table WHERE company=? ALLOW FILTERING;\")\n",
    "teslas = session.execute(prepared_statement, ['Tesla'])\n",
    "for i in teslas:\n",
    "    print(i)"
   ]
  },
  {
   "cell_type": "markdown",
   "metadata": {
    "slideshow": {
     "slide_type": "slide"
    }
   },
   "source": [
    "## Cassandra filtering\n",
    "Cassandra is inherently a distributed production database. Selecting as above may require downloading all data from a node, then filtering based on the WHERE part (only PRIMARY KEYs are centrally known). Solutions:  \n",
    "- If the table is small or most of the data will satisfy the query, add ```ALLOW FILTERING``` at the end of the query (not recommended if not known). \n",
    "- Or make sure the WHERE clause points to one of the keys (see below)."
   ]
  },
  {
   "cell_type": "code",
   "execution_count": 14,
   "metadata": {
    "ExecuteTime": {
     "end_time": "2024-08-17T10:25:35.613711Z",
     "start_time": "2024-08-17T10:25:35.403622Z"
    },
    "slideshow": {
     "slide_type": "slide"
    },
    "tags": []
   },
   "outputs": [
    {
     "data": {
      "text/plain": [
       "<cassandra.cluster.ResultSet at 0x1057dc500>"
      ]
     },
     "execution_count": 14,
     "metadata": {},
     "output_type": "execute_result"
    }
   ],
   "source": [
    "# Create a new table (observe keys)\n",
    "session.execute(\"DROP TABLE IF EXISTS my_first_keyspace.car_table;\")\n",
    "session.execute(\"CREATE TABLE IF NOT EXISTS car_table (company text, model text, PRIMARY KEY(company, model));\")"
   ]
  },
  {
   "cell_type": "code",
   "execution_count": 15,
   "metadata": {
    "ExecuteTime": {
     "end_time": "2024-08-17T10:25:35.628950Z",
     "start_time": "2024-08-17T10:25:35.615126Z"
    },
    "slideshow": {
     "slide_type": "fragment"
    },
    "tags": []
   },
   "outputs": [
    {
     "data": {
      "text/plain": [
       "<cassandra.cluster.ResultSet at 0x1057d0860>"
      ]
     },
     "execution_count": 15,
     "metadata": {},
     "output_type": "execute_result"
    }
   ],
   "source": [
    "# Insert some data (combination of company and model must be unique)\n",
    "session.execute(\"INSERT INTO car_table (company, model) VALUES ('Tesla', 'Model S');\")\n",
    "session.execute(\"INSERT INTO car_table (company, model) VALUES ('Tesla', 'Model 3');\")\n",
    "session.execute(\"INSERT INTO car_table (company, model) VALUES ('Polestar', '3');\")\n",
    "session.execute(\"INSERT INTO car_table (company, model) VALUES ('Volkswagen', 'ID.4');\")"
   ]
  },
  {
   "cell_type": "code",
   "execution_count": 16,
   "metadata": {
    "ExecuteTime": {
     "end_time": "2024-08-17T10:25:35.639765Z",
     "start_time": "2024-08-17T10:25:35.630657Z"
    },
    "slideshow": {
     "slide_type": "slide"
    },
    "tags": []
   },
   "outputs": [
    {
     "name": "stdout",
     "output_type": "stream",
     "text": [
      "Row(company='Tesla', model='Model 3')\n",
      "Row(company='Tesla', model='Model S')\n"
     ]
    }
   ],
   "source": [
    "# More specific query now works\n",
    "prepared_statement = session.prepare(\"SELECT * FROM car_table WHERE company=?;\")\n",
    "teslas = session.execute(prepared_statement, ['Tesla'])\n",
    "for i in teslas:\n",
    "    print(i)"
   ]
  },
  {
   "cell_type": "markdown",
   "metadata": {
    "slideshow": {
     "slide_type": "slide"
    }
   },
   "source": [
    "### Partitions\n",
    "- Cassandra databases are usually replicated over different nodes.\n",
    "- Data is stored in partitions (subsets) which have local copys.\n",
    "- The primary key, e.g., PRIMARY KEY(company, model), is used in partitioning.\n",
    "    - The first part, e.g., company, is most important.\n",
    "    - All cars from a company will be located together, aiming for quicker queries."
   ]
  },
  {
   "cell_type": "markdown",
   "metadata": {
    "slideshow": {
     "slide_type": "slide"
    }
   },
   "source": [
    "### Unique IDs \n",
    "- In MySQL one could use the attribute AUTO_INCREMENT on integer IDs to automatically make a new unique index when inserting data.\n",
    "- This would cause unreasonable overhead in a distributed database.\n",
    "- [UUID](https://en.wikipedia.org/wiki/Universally_unique_identifier)s are used instead.\n",
    "    - Universally Unique Identifiers are typically 128-bit random bit sequences with extremely low probability of duplication.\n",
    "    - Cassandra uses a [timeuuid](https://docs.datastax.com/en/cql-oss/3.3/cql/cql_reference/timeuuid_functions_r.html) type to combine a timestamp and uuid in one."
   ]
  },
  {
   "cell_type": "code",
   "execution_count": 17,
   "metadata": {
    "ExecuteTime": {
     "end_time": "2024-08-17T10:25:35.766003Z",
     "start_time": "2024-08-17T10:25:35.640600Z"
    },
    "slideshow": {
     "slide_type": "fragment"
    },
    "tags": []
   },
   "outputs": [
    {
     "data": {
      "text/plain": [
       "<cassandra.cluster.ResultSet at 0x104cf9df0>"
      ]
     },
     "execution_count": 17,
     "metadata": {},
     "output_type": "execute_result"
    }
   ],
   "source": [
    "# Create a new table (first time only)\n",
    "session.set_keyspace('my_first_keyspace')\n",
    "session.execute(\"DROP TABLE IF EXISTS my_first_keyspace.table_with_uuid;\")\n",
    "session.execute(\"CREATE TABLE IF NOT EXISTS table_with_uuid (id timeuuid PRIMARY KEY, company text, model text, price float);\")"
   ]
  },
  {
   "cell_type": "code",
   "execution_count": 18,
   "metadata": {
    "ExecuteTime": {
     "end_time": "2024-08-17T10:25:35.784876Z",
     "start_time": "2024-08-17T10:25:35.766619Z"
    },
    "slideshow": {
     "slide_type": "slide"
    },
    "tags": []
   },
   "outputs": [
    {
     "data": {
      "text/plain": [
       "<cassandra.cluster.ResultSet at 0x1057a94c0>"
      ]
     },
     "execution_count": 18,
     "metadata": {},
     "output_type": "execute_result"
    }
   ],
   "source": [
    "session.execute(\"INSERT INTO table_with_uuid (id, company, model, price) VALUES (now(), 'Tesla', 'Model S', 20000.0);\")\n",
    "session.execute(\"INSERT INTO table_with_uuid (id, company, model, price) VALUES (now(), 'Tesla', 'Model S', 21000.0);\")\n",
    "session.execute(\"INSERT INTO table_with_uuid (id, company, model, price) VALUES (now(), 'Oldsmobile', 'Model 6C', 135000.0);\")"
   ]
  },
  {
   "cell_type": "code",
   "execution_count": 19,
   "metadata": {
    "ExecuteTime": {
     "end_time": "2024-08-17T10:25:35.792934Z",
     "start_time": "2024-08-17T10:25:35.785467Z"
    },
    "slideshow": {
     "slide_type": "slide"
    },
    "tags": []
   },
   "outputs": [
    {
     "name": "stdout",
     "output_type": "stream",
     "text": [
      "Row(id=UUID('98b5a2a0-ab18-11ef-bd96-8f81262f2f14'), company='Oldsmobile', model='Model 6C', price=135000.0)\n",
      "Datetime: 2024-11-25 10:32:40.138000\n",
      "Row(id=UUID('98b52d70-ab18-11ef-bd96-8f81262f2f14'), company='Tesla', model='Model S', price=21000.0)\n",
      "Datetime: 2024-11-25 10:32:40.135000\n",
      "Row(id=UUID('98b4b840-ab18-11ef-bd96-8f81262f2f14'), company='Tesla', model='Model S', price=20000.0)\n",
      "Datetime: 2024-11-25 10:32:40.132000\n"
     ]
    }
   ],
   "source": [
    "from cassandra.util import datetime_from_uuid1\n",
    "\n",
    "# Query the data\n",
    "rows = session.execute(\"SELECT * FROM table_with_uuid;\")\n",
    "for i in rows:\n",
    "    print(i)\n",
    "    # Extract the timestamp from Cassandra's timeuuid\n",
    "    print(\"Datetime:\", datetime_from_uuid1(i.id))"
   ]
  },
  {
   "cell_type": "markdown",
   "metadata": {
    "slideshow": {
     "slide_type": "slide"
    }
   },
   "source": [
    "## JSON in Cassandra\n",
    "### Read previously saved JSON file forecast.json to memory"
   ]
  },
  {
   "cell_type": "code",
   "execution_count": 20,
   "metadata": {
    "ExecuteTime": {
     "end_time": "2024-08-17T10:25:35.796049Z",
     "start_time": "2024-08-17T10:25:35.793437Z"
    },
    "slideshow": {
     "slide_type": "fragment"
    },
    "tags": []
   },
   "outputs": [],
   "source": [
    "import json\n",
    "with open('../3_APIs/downloads/forecast.json', 'r') as f:\n",
    "    forecast = json.load(f)"
   ]
  },
  {
   "cell_type": "code",
   "execution_count": 21,
   "metadata": {
    "ExecuteTime": {
     "end_time": "2024-08-17T10:25:35.799114Z",
     "start_time": "2024-08-17T10:25:35.796532Z"
    },
    "slideshow": {
     "slide_type": "slide"
    },
    "tags": []
   },
   "outputs": [
    {
     "data": {
      "text/plain": [
       "\"{'cod': '200', 'message': 0, 'cnt': 40, 'list': [{'dt': 1732136400, 'main': {'temp': 266.84, 'feels_like': 261.24, 'temp_min': 265.11, 'temp_max': 266.84, 'pressure': 1008, 'sea_level': 1008, 'grnd_level': 954, 'humidity': 77, 'temp_kf': 1.73}, 'weather': [{'id': 802, 'main': 'Clouds', 'description': 'scattered clouds', 'icon': '03n'}], 'clouds': {'all': 43}, 'wind': {'speed': 3.85, 'deg': 81, 'gust': 4.3}, 'visibility': 10000, 'pop': 0, 'sys': {'pod': 'n'}, 'dt_txt': '2024-11-20 21:00:00'}, {'dt': 1732147200, 'main': {'temp': 265.64, 'feels_like': 259.82, 'temp_min': 264.61, 'temp_max': 265.64, 'pressure': 1008, 'sea_level': 1008, 'grnd_level': 954, 'humidity': 79, 'temp_kf': 1.03}, 'weather': [{'id': 803, 'main': 'Clouds', 'description': 'broken clouds', 'icon': '04n'}], 'clouds': {'all': 65}, 'wind': {'speed': 3.8, 'deg': 78, 'gust': 4.26}, 'visibility': 10000, 'pop': 0, 'sys': {'pod': 'n'}, 'dt_txt': '2024-11-21 00:00:00'}, {'dt': 1732158000, 'main': {'temp': 264.36, 'feels_like': 258.52, 'temp_min': 264.36, 'temp_max': 264.36, 'pressure': 1007, 'sea_level': 1007, 'grnd_level': 953, 'humidity': 79, 'temp_kf': 0}, 'weather': [{'id': 803, 'main': 'Clouds', 'description': 'broken clouds', 'icon': '04n'}], 'clouds': {'all': 79}, 'wind': {'speed': 3.53, 'deg': 85, 'gust': 3.84}, 'visibility': 10000, 'pop': 0, 'sys': {'pod': 'n'}, 'dt_txt': '2024-11-21 03:00:00'}, {'dt': 1732168800, 'main': {'temp': 263.99, 'feels_like': 258.68, 'temp_min': 263.99, 'temp_max': 263.99, 'pressure': 1006, 'sea_level': 1006, 'grnd_level': 952, 'humidity': 79, 'temp_kf': 0}, 'weather': [{'id': 803, 'main': 'Clouds', 'description': 'broken clouds', 'icon': '04n'}], 'clouds': {'all': 76}, 'wind': {'speed': 2.97, 'deg': 89, 'gust': 2.74}, 'visibility': 10000, 'pop': 0, 'sys': {'pod': 'n'}, 'dt_txt': '2024-11-21 06:00:00'}, {'dt': 1732179600, 'main': {'temp': 264.92, 'feels_like': 260.77, 'temp_min': 264.92, 'temp_max': 264.92, 'pressure': 1004, 'sea_level': 1004, 'grnd_level': 950, 'humidity': 78, 'temp_kf': 0}, 'weather': [{'id': 804, 'main': 'Clouds', 'description': 'overcast clouds', 'icon': '04d'}], 'clouds': {'all': 98}, 'wind': {'speed': 2.22, 'deg': 97, 'gust': 2.31}, 'visibility': 10000, 'pop': 0, 'sys': {'pod': 'd'}, 'dt_txt': '2024-11-21 09:00:00'}, {'dt': 1732190400, 'main': {'temp': 265.25, 'feels_like': 261.69, 'temp_min': 265.25, 'temp_max': 265.25, 'pressure': 1002, 'sea_level': 1002, 'grnd_level': 948, 'humidity': 76, 'temp_kf': 0}, 'weather': [{'id': 804, 'main': 'Clouds', 'description': 'overcast clouds', 'icon': '04d'}], 'clouds': {'all': 99}, 'wind': {'speed': 1.88, 'deg': 96, 'gust': 2.12}, 'visibility': 10000, 'pop': 0, 'sys': {'pod': 'd'}, 'dt_txt': '2024-11-21 12:00:00'}, {'dt': 1732201200, 'main': {'temp': 264.33, 'feels_like': 261.4, 'temp_min': 264.33, 'temp_max': 264.33, 'pressure': 999, 'sea_level': 999, 'grnd_level': 946, 'humidity': 76, 'temp_kf': 0}, 'weather': [{'id': 804, 'main': 'Clouds', 'description': 'overcast clouds', 'icon': '04n'}], 'clouds': {'all': 100}, 'wind': {'speed': 1.47, 'deg': 87, 'gust': 1.89}, 'visibility': 10000, 'pop': 0, 'sys': {'pod': 'n'}, 'dt_txt': '2024-11-21 15:00:00'}, {'dt': 1732212000, 'main': {'temp': 264.08, 'feels_like': 261.01, 'temp_min': 264.08, 'temp_max': 264.08, 'pressure': 997, 'sea_level': 997, 'grnd_level': 944, 'humidity': 75, 'temp_kf': 0}, 'weather': [{'id': 804, 'main': 'Clouds', 'description': 'overcast clouds', 'icon': '04n'}], 'clouds': {'all': 100}, 'wind': {'speed': 1.52, 'deg': 73, 'gust': 2.08}, 'visibility': 10000, 'pop': 0, 'sys': {'pod': 'n'}, 'dt_txt': '2024-11-21 18:00:00'}, {'dt': 1732222800, 'main': {'temp': 265.45, 'feels_like': 261.31, 'temp_min': 265.45, 'temp_max': 265.45, 'pressure': 996, 'sea_level': 996, 'grnd_level': 942, 'humidity': 72, 'temp_kf': 0}, 'weather': [{'id': 804, 'main': 'Clouds', 'description': 'overcast clouds', 'icon': '04n'}], 'clouds': {'all': 100}, 'wind': {'speed': 2.28, 'deg': 76, 'gust': 2.65}, 'visibility': 10000, 'pop': 0, 'sys': {'pod': 'n'}, 'dt_txt': '2024-11-21 21:00:00'}, {'dt': 1732233600, 'main': {'temp': 265.51, 'feels_like': 262.41, 'temp_min': 265.51, 'temp_max': 265.51, 'pressure': 994, 'sea_level': 994, 'grnd_level': 941, 'humidity': 76, 'temp_kf': 0}, 'weather': [{'id': 804, 'main': 'Clouds', 'description': 'overcast clouds', 'icon': '04n'}], 'clouds': {'all': 100}, 'wind': {'speed': 1.64, 'deg': 49, 'gust': 1.96}, 'visibility': 10000, 'pop': 0, 'sys': {'pod': 'n'}, 'dt_txt': '2024-11-22 00:00:00'}, {'dt': 1732244400, 'main': {'temp': 264.9, 'feels_like': 264.9, 'temp_min': 264.9, 'temp_max': 264.9, 'pressure': 992, 'sea_level': 992, 'grnd_level': 939, 'humidity': 76, 'temp_kf': 0}, 'weather': [{'id': 804, 'main': 'Clouds', 'description': 'overcast clouds', 'icon': '04n'}], 'clouds': {'all': 100}, 'wind': {'speed': 0.71, 'deg': 159, 'gust': 1.8}, 'visibility': 10000, 'pop': 0, 'sys': {'pod': 'n'}, 'dt_txt': '2024-11-22 03:00:00'}, {'dt': 1732255200, 'main': {'temp': 264.61, 'feels_like': 264.61, 'temp_min': 264.61, 'temp_max': 264.61, 'pressure': 991, 'sea_level': 991, 'grnd_level': 937, 'humidity': 75, 'temp_kf': 0}, 'weather': [{'id': 804, 'main': 'Clouds', 'description': 'overcast clouds', 'icon': '04n'}], 'clouds': {'all': 100}, 'wind': {'speed': 0.77, 'deg': 142, 'gust': 1.58}, 'visibility': 10000, 'pop': 0, 'sys': {'pod': 'n'}, 'dt_txt': '2024-11-22 06:00:00'}, {'dt': 1732266000, 'main': {'temp': 264.87, 'feels_like': 264.87, 'temp_min': 264.87, 'temp_max': 264.87, 'pressure': 989, 'sea_level': 989, 'grnd_level': 936, 'humidity': 77, 'temp_kf': 0}, 'weather': [{'id': 804, 'main': 'Clouds', 'description': 'overcast clouds', 'icon': '04d'}], 'clouds': {'all': 99}, 'wind': {'speed': 0.41, 'deg': 121, 'gust': 1.34}, 'visibility': 10000, 'pop': 0, 'sys': {'pod': 'd'}, 'dt_txt': '2024-11-22 09:00:00'}, {'dt': 1732276800, 'main': {'temp': 266.17, 'feels_like': 266.17, 'temp_min': 266.17, 'temp_max': 266.17, 'pressure': 988, 'sea_level': 988, 'grnd_level': 936, 'humidity': 76, 'temp_kf': 0}, 'weather': [{'id': 804, 'main': 'Clouds', 'description': 'overcast clouds', 'icon': '04d'}], 'clouds': {'all': 100}, 'wind': {'speed': 1.03, 'deg': 96, 'gust': 0.99}, 'visibility': 10000, 'pop': 0, 'sys': {'pod': 'd'}, 'dt_txt': '2024-11-22 12:00:00'}, {'dt': 1732287600, 'main': {'temp': 265.58, 'feels_like': 265.58, 'temp_min': 265.58, 'temp_max': 265.58, 'pressure': 989, 'sea_level': 989, 'grnd_level': 936, 'humidity': 81, 'temp_kf': 0}, 'weather': [{'id': 804, 'main': 'Clouds', 'description': 'overcast clouds', 'icon': '04n'}], 'clouds': {'all': 100}, 'wind': {'speed': 1.05, 'deg': 60, 'gust': 0.86}, 'visibility': 10000, 'pop': 0, 'sys': {'pod': 'n'}, 'dt_txt': '2024-11-22 15:00:00'}, {'dt': 1732298400, 'main': {'temp': 265.1, 'feels_like': 265.1, 'temp_min': 265.1, 'temp_max': 265.1, 'pressure': 990, 'sea_level': 990, 'grnd_level': 937, 'humidity': 83, 'temp_kf': 0}, 'weather': [{'id': 804, 'main': 'Clouds', 'description': 'overcast clouds', 'icon': '04n'}], 'clouds': {'all': 100}, 'wind': {'speed': 0.75, 'deg': 78, 'gust': 1.04}, 'visibility': 10000, 'pop': 0, 'sys': {'pod': 'n'}, 'dt_txt': '2024-11-22 18:00:00'}, {'dt': 1732309200, 'main': {'temp': 263.62, 'feels_like': 263.62, 'temp_min': 263.62, 'temp_max': 263.62, 'pressure': 992, 'sea_level': 992, 'grnd_level': 938, 'humidity': 83, 'temp_kf': 0}, 'weather': [{'id': 803, 'main': 'Clouds', 'description': 'broken clouds', 'icon': '04n'}], 'clouds': {'all': 60}, 'wind': {'speed': 0.48, 'deg': 103, 'gust': 1.1}, 'visibility': 10000, 'pop': 0, 'sys': {'pod': 'n'}, 'dt_txt': '2024-11-22 21:00:00'}, {'dt': 1732320000, 'main': {'temp': 263.24, 'feels_like': 263.24, 'temp_min': 263.24, 'temp_max': 263.24, 'pressure': 994, 'sea_level': 994, 'grnd_level': 940, 'humidity': 82, 'temp_kf': 0}, 'weather': [{'id': 803, 'main': 'Clouds', 'description': 'broken clouds', 'icon': '04n'}], 'clouds': {'all': 73}, 'wind': {'speed': 0.55, 'deg': 125, 'gust': 1.1}, 'visibility': 10000, 'pop': 0, 'sys': {'pod': 'n'}, 'dt_txt': '2024-11-23 00:00:00'}, {'dt': 1732330800, 'main': {'temp': 263.13, 'feels_like': 263.13, 'temp_min': 263.13, 'temp_max': 263.13, 'pressure': 996, 'sea_level': 996, 'grnd_level': 942, 'humidity': 81, 'temp_kf': 0}, 'weather': [{'id': 803, 'main': 'Clouds', 'description': 'broken clouds', 'icon': '04n'}], 'clouds': {'all': 71}, 'wind': {'speed': 0.54, 'deg': 155, 'gust': 1.07}, 'visibility': 10000, 'pop': 0, 'sys': {'pod': 'n'}, 'dt_txt': '2024-11-23 03:00:00'}, {'dt': 1732341600, 'main': {'temp': 264, 'feels_like': 264, 'temp_min': 264, 'temp_max': 264, 'pressure': 998, 'sea_level': 998, 'grnd_level': 944, 'humidity': 83, 'temp_kf': 0}, 'weather': [{'id': 803, 'main': 'Clouds', 'description': 'broken clouds', 'icon': '04n'}], 'clouds': {'all': 76}, 'wind': {'speed': 1.32, 'deg': 169, 'gust': 1.02}, 'visibility': 10000, 'pop': 0, 'sys': {'pod': 'n'}, 'dt_txt': '2024-11-23 06:00:00'}, {'dt': 1732352400, 'main': {'temp': 265.54, 'feels_like': 265.54, 'temp_min': 265.54, 'temp_max': 265.54, 'pressure': 1000, 'sea_level': 1000, 'grnd_level': 947, 'humidity': 89, 'temp_kf': 0}, 'weather': [{'id': 600, 'main': 'Snow', 'description': 'light snow', 'icon': '13d'}], 'clouds': {'all': 100}, 'wind': {'speed': 1, 'deg': 214, 'gust': 0.88}, 'visibility': 2130, 'pop': 0.59, 'snow': {'3h': 0.23}, 'sys': {'pod': 'd'}, 'dt_txt': '2024-11-23 09:00:00'}, {'dt': 1732363200, 'main': {'temp': 267.36, 'feels_like': 267.36, 'temp_min': 267.36, 'temp_max': 267.36, 'pressure': 1002, 'sea_level': 1002, 'grnd_level': 948, 'humidity': 96, 'temp_kf': 0}, 'weather': [{'id': 600, 'main': 'Snow', 'description': 'light snow', 'icon': '13d'}], 'clouds': {'all': 100}, 'wind': {'speed': 1.1, 'deg': 226, 'gust': 1.07}, 'visibility': 406, 'pop': 0.9, 'snow': {'3h': 0.66}, 'sys': {'pod': 'd'}, 'dt_txt': '2024-11-23 12:00:00'}, {'dt': 1732374000, 'main': {'temp': 268.4, 'feels_like': 268.4, 'temp_min': 268.4, 'temp_max': 268.4, 'pressure': 1002, 'sea_level': 1002, 'grnd_level': 949, 'humidity': 96, 'temp_kf': 0}, 'weather': [{'id': 600, 'main': 'Snow', 'description': 'light snow', 'icon': '13n'}], 'clouds': {'all': 100}, 'wind': {'speed': 0.5, 'deg': 57, 'gust': 0}, 'visibility': 144, 'pop': 1, 'snow': {'3h': 0.67}, 'sys': {'pod': 'n'}, 'dt_txt': '2024-11-23 15:00:00'}, {'dt': 1732384800, 'main': {'temp': 268.27, 'feels_like': 268.27, 'temp_min': 268.27, 'temp_max': 268.27, 'pressure': 1004, 'sea_level': 1004, 'grnd_level': 951, 'humidity': 97, 'temp_kf': 0}, 'weather': [{'id': 600, 'main': 'Snow', 'description': 'light snow', 'icon': '13n'}], 'clouds': {'all': 100}, 'wind': {'speed': 0.96, 'deg': 176, 'gust': 0.63}, 'visibility': 611, 'pop': 1, 'snow': {'3h': 0.65}, 'sys': {'pod': 'n'}, 'dt_txt': '2024-11-23 18:00:00'}, {'dt': 1732395600, 'main': {'temp': 269.5, 'feels_like': 269.5, 'temp_min': 269.5, 'temp_max': 269.5, 'pressure': 1006, 'sea_level': 1006, 'grnd_level': 953, 'humidity': 97, 'temp_kf': 0}, 'weather': [{'id': 600, 'main': 'Snow', 'description': 'light snow', 'icon': '13n'}], 'clouds': {'all': 100}, 'wind': {'speed': 0.75, 'deg': 219, 'gust': 0.59}, 'visibility': 468, 'pop': 1, 'snow': {'3h': 0.48}, 'sys': {'pod': 'n'}, 'dt_txt': '2024-11-23 21:00:00'}, {'dt': 1732406400, 'main': {'temp': 269.81, 'feels_like': 269.81, 'temp_min': 269.81, 'temp_max': 269.81, 'pressure': 1007, 'sea_level': 1007, 'grnd_level': 954, 'humidity': 97, 'temp_kf': 0}, 'weather': [{'id': 600, 'main': 'Snow', 'description': 'light snow', 'icon': '13n'}], 'clouds': {'all': 99}, 'wind': {'speed': 0.9, 'deg': 206, 'gust': 1}, 'visibility': 790, 'pop': 0.97, 'snow': {'3h': 0.38}, 'sys': {'pod': 'n'}, 'dt_txt': '2024-11-24 00:00:00'}, {'dt': 1732417200, 'main': {'temp': 269.58, 'feels_like': 269.58, 'temp_min': 269.58, 'temp_max': 269.58, 'pressure': 1008, 'sea_level': 1008, 'grnd_level': 955, 'humidity': 96, 'temp_kf': 0}, 'weather': [{'id': 600, 'main': 'Snow', 'description': 'light snow', 'icon': '13n'}], 'clouds': {'all': 100}, 'wind': {'speed': 1.23, 'deg': 215, 'gust': 1.19}, 'visibility': 3232, 'pop': 0.43, 'snow': {'3h': 0.27}, 'sys': {'pod': 'n'}, 'dt_txt': '2024-11-24 03:00:00'}, {'dt': 1732428000, 'main': {'temp': 268.96, 'feels_like': 268.96, 'temp_min': 268.96, 'temp_max': 268.96, 'pressure': 1009, 'sea_level': 1009, 'grnd_level': 956, 'humidity': 95, 'temp_kf': 0}, 'weather': [{'id': 600, 'main': 'Snow', 'description': 'light snow', 'icon': '13n'}], 'clouds': {'all': 100}, 'wind': {'speed': 1.07, 'deg': 196, 'gust': 0.97}, 'visibility': 1943, 'pop': 0.53, 'snow': {'3h': 0.31}, 'sys': {'pod': 'n'}, 'dt_txt': '2024-11-24 06:00:00'}, {'dt': 1732438800, 'main': {'temp': 267.96, 'feels_like': 267.96, 'temp_min': 267.96, 'temp_max': 267.96, 'pressure': 1011, 'sea_level': 1011, 'grnd_level': 957, 'humidity': 93, 'temp_kf': 0}, 'weather': [{'id': 600, 'main': 'Snow', 'description': 'light snow', 'icon': '13d'}], 'clouds': {'all': 100}, 'wind': {'speed': 0.92, 'deg': 114, 'gust': 0.93}, 'visibility': 10000, 'pop': 0.34, 'snow': {'3h': 0.2}, 'sys': {'pod': 'd'}, 'dt_txt': '2024-11-24 09:00:00'}, {'dt': 1732449600, 'main': {'temp': 266.89, 'feels_like': 262.69, 'temp_min': 266.89, 'temp_max': 266.89, 'pressure': 1010, 'sea_level': 1010, 'grnd_level': 956, 'humidity': 89, 'temp_kf': 0}, 'weather': [{'id': 803, 'main': 'Clouds', 'description': 'broken clouds', 'icon': '04d'}], 'clouds': {'all': 83}, 'wind': {'speed': 2.52, 'deg': 86, 'gust': 2.38}, 'visibility': 10000, 'pop': 0, 'sys': {'pod': 'd'}, 'dt_txt': '2024-11-24 12:00:00'}, {'dt': 1732460400, 'main': {'temp': 265.82, 'feels_like': 260.55, 'temp_min': 265.82, 'temp_max': 265.82, 'pressure': 1009, 'sea_level': 1009, 'grnd_level': 955, 'humidity': 87, 'temp_kf': 0}, 'weather': [{'id': 801, 'main': 'Clouds', 'description': 'few clouds', 'icon': '02n'}], 'clouds': {'all': 19}, 'wind': {'speed': 3.27, 'deg': 76, 'gust': 2.86}, 'visibility': 10000, 'pop': 0, 'sys': {'pod': 'n'}, 'dt_txt': '2024-11-24 15:00:00'}, {'dt': 1732471200, 'main': {'temp': 266.81, 'feels_like': 261.11, 'temp_min': 266.81, 'temp_max': 266.81, 'pressure': 1006, 'sea_level': 1006, 'grnd_level': 953, 'humidity': 83, 'temp_kf': 0}, 'weather': [{'id': 803, 'main': 'Clouds', 'description': 'broken clouds', 'icon': '04n'}], 'clouds': {'all': 57}, 'wind': {'speed': 3.96, 'deg': 77, 'gust': 4.32}, 'visibility': 10000, 'pop': 0, 'sys': {'pod': 'n'}, 'dt_txt': '2024-11-24 18:00:00'}, {'dt': 1732482000, 'main': {'temp': 268.68, 'feels_like': 263.16, 'temp_min': 268.68, 'temp_max': 268.68, 'pressure': 1003, 'sea_level': 1003, 'grnd_level': 950, 'humidity': 84, 'temp_kf': 0}, 'weather': [{'id': 804, 'main': 'Clouds', 'description': 'overcast clouds', 'icon': '04n'}], 'clouds': {'all': 100}, 'wind': {'speed': 4.28, 'deg': 77, 'gust': 5.18}, 'visibility': 10000, 'pop': 0, 'sys': {'pod': 'n'}, 'dt_txt': '2024-11-24 21:00:00'}, {'dt': 1732492800, 'main': {'temp': 269.29, 'feels_like': 263.96, 'temp_min': 269.29, 'temp_max': 269.29, 'pressure': 999, 'sea_level': 999, 'grnd_level': 946, 'humidity': 88, 'temp_kf': 0}, 'weather': [{'id': 600, 'main': 'Snow', 'description': 'light snow', 'icon': '13n'}], 'clouds': {'all': 100}, 'wind': {'speed': 4.21, 'deg': 73, 'gust': 5.1}, 'visibility': 10000, 'pop': 0.2, 'snow': {'3h': 0.1}, 'sys': {'pod': 'n'}, 'dt_txt': '2024-11-25 00:00:00'}, {'dt': 1732503600, 'main': {'temp': 270.24, 'feels_like': 265.49, 'temp_min': 270.24, 'temp_max': 270.24, 'pressure': 994, 'sea_level': 994, 'grnd_level': 942, 'humidity': 93, 'temp_kf': 0}, 'weather': [{'id': 600, 'main': 'Snow', 'description': 'light snow', 'icon': '13n'}], 'clouds': {'all': 100}, 'wind': {'speed': 3.75, 'deg': 74, 'gust': 5.41}, 'visibility': 10000, 'pop': 0.88, 'snow': {'3h': 0.32}, 'sys': {'pod': 'n'}, 'dt_txt': '2024-11-25 03:00:00'}, {'dt': 1732514400, 'main': {'temp': 270.58, 'feels_like': 266.46, 'temp_min': 270.58, 'temp_max': 270.58, 'pressure': 992, 'sea_level': 992, 'grnd_level': 940, 'humidity': 93, 'temp_kf': 0}, 'weather': [{'id': 600, 'main': 'Snow', 'description': 'light snow', 'icon': '13n'}], 'clouds': {'all': 100}, 'wind': {'speed': 3.11, 'deg': 77, 'gust': 4.11}, 'visibility': 455, 'pop': 0.39, 'snow': {'3h': 0.18}, 'sys': {'pod': 'n'}, 'dt_txt': '2024-11-25 06:00:00'}, {'dt': 1732525200, 'main': {'temp': 271.6, 'feels_like': 268.6, 'temp_min': 271.6, 'temp_max': 271.6, 'pressure': 988, 'sea_level': 988, 'grnd_level': 936, 'humidity': 97, 'temp_kf': 0}, 'weather': [{'id': 601, 'main': 'Snow', 'description': 'snow', 'icon': '13d'}], 'clouds': {'all': 100}, 'wind': {'speed': 2.23, 'deg': 65, 'gust': 2.91}, 'visibility': 134, 'pop': 1, 'snow': {'3h': 4.97}, 'sys': {'pod': 'd'}, 'dt_txt': '2024-11-25 09:00:00'}, {'dt': 1732536000, 'main': {'temp': 272.99, 'feels_like': 272.99, 'temp_min': 272.99, 'temp_max': 272.99, 'pressure': 987, 'sea_level': 987, 'grnd_level': 936, 'humidity': 97, 'temp_kf': 0}, 'weather': [{'id': 601, 'main': 'Snow', 'description': 'snow', 'icon': '13d'}], 'clouds': {'all': 100}, 'wind': {'speed': 1.06, 'deg': 93, 'gust': 0.89}, 'visibility': 312, 'pop': 1, 'snow': {'3h': 1.68}, 'sys': {'pod': 'd'}, 'dt_txt': '2024-11-25 12:00:00'}, {'dt': 1732546800, 'main': {'temp': 273.48, 'feels_like': 271.71, 'temp_min': 273.48, 'temp_max': 273.48, 'pressure': 986, 'sea_level': 986, 'grnd_level': 934, 'humidity': 97, 'temp_kf': 0}, 'weather': [{'id': 600, 'main': 'Snow', 'description': 'light snow', 'icon': '13n'}], 'clouds': {'all': 100}, 'wind': {'speed': 1.54, 'deg': 103, 'gust': 1.66}, 'visibility': 280, 'pop': 1, 'snow': {'3h': 0.87}, 'sys': {'pod': 'n'}, 'dt_txt': '2024-11-25 15:00:00'}, {'dt': 1732557600, 'main': {'temp': 274.46, 'feels_like': 274.46, 'temp_min': 274.46, 'temp_max': 274.46, 'pressure': 985, 'sea_level': 985, 'grnd_level': 934, 'humidity': 98, 'temp_kf': 0}, 'weather': [{'id': 601, 'main': 'Snow', 'description': 'snow', 'icon': '13n'}], 'clouds': {'all': 100}, 'wind': {'speed': 0.52, 'deg': 160, 'gust': 0.44}, 'visibility': 450, 'pop': 1, 'snow': {'3h': 1.92}, 'sys': {'pod': 'n'}, 'dt_txt': '2024-11-25 18:00:00'}], 'city': {'id': 3145614, 'name': 'Mo i Rana', 'coord': {'lat': 66.3128, 'lon': 14.1428}, 'country': 'NO', 'population': 17853, 'timezone': 3600, 'sunrise': 1732090487, 'sunset': 1732109028}}\""
      ]
     },
     "execution_count": 21,
     "metadata": {},
     "output_type": "execute_result"
    }
   ],
   "source": [
    "# Inspect JSON file\n",
    "forecast.__str__()"
   ]
  },
  {
   "cell_type": "markdown",
   "metadata": {
    "slideshow": {
     "slide_type": "slide"
    }
   },
   "source": [
    "## Raw JSON\n",
    "- A simple, but not very efficient way of storing JSON data is to treat it as a text and save it directly to the database.  \n",
    "- More efficient, with regard to transfer, is to compress the JSON data to a blob first.\n",
    "    - Compression is automatic."
   ]
  },
  {
   "cell_type": "code",
   "execution_count": 22,
   "metadata": {
    "ExecuteTime": {
     "end_time": "2024-08-17T10:25:35.916537Z",
     "start_time": "2024-08-17T10:25:35.799572Z"
    },
    "slideshow": {
     "slide_type": "fragment"
    },
    "tags": []
   },
   "outputs": [
    {
     "data": {
      "text/plain": [
       "<cassandra.cluster.ResultSet at 0x105404230>"
      ]
     },
     "execution_count": 22,
     "metadata": {},
     "output_type": "execute_result"
    }
   ],
   "source": [
    "# Create a new table which treats the whole JSON as a blob, using the city id and the first dt as keys\n",
    "session.set_keyspace('my_first_keyspace')\n",
    "session.execute(\"DROP TABLE IF EXISTS my_first_keyspace.forecast_table;\")\n",
    "session.execute(\"CREATE TABLE IF NOT EXISTS forecast_table (city_id int, dt int, forecast blob, PRIMARY KEY(city_id, dt));\")"
   ]
  },
  {
   "cell_type": "markdown",
   "metadata": {
    "slideshow": {
     "slide_type": "slide"
    }
   },
   "source": [
    "### Insert the forecast data into the table as text blob"
   ]
  },
  {
   "cell_type": "code",
   "execution_count": 23,
   "metadata": {
    "ExecuteTime": {
     "end_time": "2024-08-17T10:25:35.935855Z",
     "start_time": "2024-08-17T10:25:35.917175Z"
    },
    "slideshow": {
     "slide_type": "fragment"
    },
    "tags": []
   },
   "outputs": [
    {
     "data": {
      "text/plain": [
       "<cassandra.cluster.ResultSet at 0x1057b6f60>"
      ]
     },
     "execution_count": 23,
     "metadata": {},
     "output_type": "execute_result"
    }
   ],
   "source": [
    "session.execute(\"INSERT INTO forecast_table (city_id, dt, forecast) VALUES (%s, %s, textAsBlob(%s));\", (forecast['city']['id'], forecast['list'][0]['dt'], forecast.__str__()))"
   ]
  },
  {
   "cell_type": "code",
   "execution_count": 24,
   "metadata": {
    "ExecuteTime": {
     "end_time": "2024-08-17T10:25:35.946537Z",
     "start_time": "2024-08-17T10:25:35.938642Z"
    },
    "slideshow": {
     "slide_type": "slide"
    },
    "tags": []
   },
   "outputs": [
    {
     "name": "stdout",
     "output_type": "stream",
     "text": [
      "Row(city_id=3145614, dt=1732136400, forecast=b\"{'cod': '200', 'message': 0, 'cnt': 40, 'list': [{'dt': 1732136400, 'main': {'temp': 266.84, 'feels_like': 261.24, 'temp_min': 265.11, 'temp_max': 266.84, 'pressure': 1008, 'sea_level': 1008, 'grnd_level': 954, 'humidity': 77, 'temp_kf': 1.73}, 'weather': [{'id': 802, 'main': 'Clouds', 'description': 'scattered clouds', 'icon': '03n'}], 'clouds': {'all': 43}, 'wind': {'speed': 3.85, 'deg': 81, 'gust': 4.3}, 'visibility': 10000, 'pop': 0, 'sys': {'pod': 'n'}, 'dt_txt': '2024-11-20 21:00:00'}, {'dt': 1732147200, 'main': {'temp': 265.64, 'feels_like': 259.82, 'temp_min': 264.61, 'temp_max': 265.64, 'pressure': 1008, 'sea_level': 1008, 'grnd_level': 954, 'humidity': 79, 'temp_kf': 1.03}, 'weather': [{'id': 803, 'main': 'Clouds', 'description': 'broken clouds', 'icon': '04n'}], 'clouds': {'all': 65}, 'wind': {'speed': 3.8, 'deg': 78, 'gust': 4.26}, 'visibility': 10000, 'pop': 0, 'sys': {'pod': 'n'}, 'dt_txt': '2024-11-21 00:00:00'}, {'dt': 1732158000, 'main': {'temp': 264.36, 'feels_like': 258.52, 'temp_min': 264.36, 'temp_max': 264.36, 'pressure': 1007, 'sea_level': 1007, 'grnd_level': 953, 'humidity': 79, 'temp_kf': 0}, 'weather': [{'id': 803, 'main': 'Clouds', 'description': 'broken clouds', 'icon': '04n'}], 'clouds': {'all': 79}, 'wind': {'speed': 3.53, 'deg': 85, 'gust': 3.84}, 'visibility': 10000, 'pop': 0, 'sys': {'pod': 'n'}, 'dt_txt': '2024-11-21 03:00:00'}, {'dt': 1732168800, 'main': {'temp': 263.99, 'feels_like': 258.68, 'temp_min': 263.99, 'temp_max': 263.99, 'pressure': 1006, 'sea_level': 1006, 'grnd_level': 952, 'humidity': 79, 'temp_kf': 0}, 'weather': [{'id': 803, 'main': 'Clouds', 'description': 'broken clouds', 'icon': '04n'}], 'clouds': {'all': 76}, 'wind': {'speed': 2.97, 'deg': 89, 'gust': 2.74}, 'visibility': 10000, 'pop': 0, 'sys': {'pod': 'n'}, 'dt_txt': '2024-11-21 06:00:00'}, {'dt': 1732179600, 'main': {'temp': 264.92, 'feels_like': 260.77, 'temp_min': 264.92, 'temp_max': 264.92, 'pressure': 1004, 'sea_level': 1004, 'grnd_level': 950, 'humidity': 78, 'temp_kf': 0}, 'weather': [{'id': 804, 'main': 'Clouds', 'description': 'overcast clouds', 'icon': '04d'}], 'clouds': {'all': 98}, 'wind': {'speed': 2.22, 'deg': 97, 'gust': 2.31}, 'visibility': 10000, 'pop': 0, 'sys': {'pod': 'd'}, 'dt_txt': '2024-11-21 09:00:00'}, {'dt': 1732190400, 'main': {'temp': 265.25, 'feels_like': 261.69, 'temp_min': 265.25, 'temp_max': 265.25, 'pressure': 1002, 'sea_level': 1002, 'grnd_level': 948, 'humidity': 76, 'temp_kf': 0}, 'weather': [{'id': 804, 'main': 'Clouds', 'description': 'overcast clouds', 'icon': '04d'}], 'clouds': {'all': 99}, 'wind': {'speed': 1.88, 'deg': 96, 'gust': 2.12}, 'visibility': 10000, 'pop': 0, 'sys': {'pod': 'd'}, 'dt_txt': '2024-11-21 12:00:00'}, {'dt': 1732201200, 'main': {'temp': 264.33, 'feels_like': 261.4, 'temp_min': 264.33, 'temp_max': 264.33, 'pressure': 999, 'sea_level': 999, 'grnd_level': 946, 'humidity': 76, 'temp_kf': 0}, 'weather': [{'id': 804, 'main': 'Clouds', 'description': 'overcast clouds', 'icon': '04n'}], 'clouds': {'all': 100}, 'wind': {'speed': 1.47, 'deg': 87, 'gust': 1.89}, 'visibility': 10000, 'pop': 0, 'sys': {'pod': 'n'}, 'dt_txt': '2024-11-21 15:00:00'}, {'dt': 1732212000, 'main': {'temp': 264.08, 'feels_like': 261.01, 'temp_min': 264.08, 'temp_max': 264.08, 'pressure': 997, 'sea_level': 997, 'grnd_level': 944, 'humidity': 75, 'temp_kf': 0}, 'weather': [{'id': 804, 'main': 'Clouds', 'description': 'overcast clouds', 'icon': '04n'}], 'clouds': {'all': 100}, 'wind': {'speed': 1.52, 'deg': 73, 'gust': 2.08}, 'visibility': 10000, 'pop': 0, 'sys': {'pod': 'n'}, 'dt_txt': '2024-11-21 18:00:00'}, {'dt': 1732222800, 'main': {'temp': 265.45, 'feels_like': 261.31, 'temp_min': 265.45, 'temp_max': 265.45, 'pressure': 996, 'sea_level': 996, 'grnd_level': 942, 'humidity': 72, 'temp_kf': 0}, 'weather': [{'id': 804, 'main': 'Clouds', 'description': 'overcast clouds', 'icon': '04n'}], 'clouds': {'all': 100}, 'wind': {'speed': 2.28, 'deg': 76, 'gust': 2.65}, 'visibility': 10000, 'pop': 0, 'sys': {'pod': 'n'}, 'dt_txt': '2024-11-21 21:00:00'}, {'dt': 1732233600, 'main': {'temp': 265.51, 'feels_like': 262.41, 'temp_min': 265.51, 'temp_max': 265.51, 'pressure': 994, 'sea_level': 994, 'grnd_level': 941, 'humidity': 76, 'temp_kf': 0}, 'weather': [{'id': 804, 'main': 'Clouds', 'description': 'overcast clouds', 'icon': '04n'}], 'clouds': {'all': 100}, 'wind': {'speed': 1.64, 'deg': 49, 'gust': 1.96}, 'visibility': 10000, 'pop': 0, 'sys': {'pod': 'n'}, 'dt_txt': '2024-11-22 00:00:00'}, {'dt': 1732244400, 'main': {'temp': 264.9, 'feels_like': 264.9, 'temp_min': 264.9, 'temp_max': 264.9, 'pressure': 992, 'sea_level': 992, 'grnd_level': 939, 'humidity': 76, 'temp_kf': 0}, 'weather': [{'id': 804, 'main': 'Clouds', 'description': 'overcast clouds', 'icon': '04n'}], 'clouds': {'all': 100}, 'wind': {'speed': 0.71, 'deg': 159, 'gust': 1.8}, 'visibility': 10000, 'pop': 0, 'sys': {'pod': 'n'}, 'dt_txt': '2024-11-22 03:00:00'}, {'dt': 1732255200, 'main': {'temp': 264.61, 'feels_like': 264.61, 'temp_min': 264.61, 'temp_max': 264.61, 'pressure': 991, 'sea_level': 991, 'grnd_level': 937, 'humidity': 75, 'temp_kf': 0}, 'weather': [{'id': 804, 'main': 'Clouds', 'description': 'overcast clouds', 'icon': '04n'}], 'clouds': {'all': 100}, 'wind': {'speed': 0.77, 'deg': 142, 'gust': 1.58}, 'visibility': 10000, 'pop': 0, 'sys': {'pod': 'n'}, 'dt_txt': '2024-11-22 06:00:00'}, {'dt': 1732266000, 'main': {'temp': 264.87, 'feels_like': 264.87, 'temp_min': 264.87, 'temp_max': 264.87, 'pressure': 989, 'sea_level': 989, 'grnd_level': 936, 'humidity': 77, 'temp_kf': 0}, 'weather': [{'id': 804, 'main': 'Clouds', 'description': 'overcast clouds', 'icon': '04d'}], 'clouds': {'all': 99}, 'wind': {'speed': 0.41, 'deg': 121, 'gust': 1.34}, 'visibility': 10000, 'pop': 0, 'sys': {'pod': 'd'}, 'dt_txt': '2024-11-22 09:00:00'}, {'dt': 1732276800, 'main': {'temp': 266.17, 'feels_like': 266.17, 'temp_min': 266.17, 'temp_max': 266.17, 'pressure': 988, 'sea_level': 988, 'grnd_level': 936, 'humidity': 76, 'temp_kf': 0}, 'weather': [{'id': 804, 'main': 'Clouds', 'description': 'overcast clouds', 'icon': '04d'}], 'clouds': {'all': 100}, 'wind': {'speed': 1.03, 'deg': 96, 'gust': 0.99}, 'visibility': 10000, 'pop': 0, 'sys': {'pod': 'd'}, 'dt_txt': '2024-11-22 12:00:00'}, {'dt': 1732287600, 'main': {'temp': 265.58, 'feels_like': 265.58, 'temp_min': 265.58, 'temp_max': 265.58, 'pressure': 989, 'sea_level': 989, 'grnd_level': 936, 'humidity': 81, 'temp_kf': 0}, 'weather': [{'id': 804, 'main': 'Clouds', 'description': 'overcast clouds', 'icon': '04n'}], 'clouds': {'all': 100}, 'wind': {'speed': 1.05, 'deg': 60, 'gust': 0.86}, 'visibility': 10000, 'pop': 0, 'sys': {'pod': 'n'}, 'dt_txt': '2024-11-22 15:00:00'}, {'dt': 1732298400, 'main': {'temp': 265.1, 'feels_like': 265.1, 'temp_min': 265.1, 'temp_max': 265.1, 'pressure': 990, 'sea_level': 990, 'grnd_level': 937, 'humidity': 83, 'temp_kf': 0}, 'weather': [{'id': 804, 'main': 'Clouds', 'description': 'overcast clouds', 'icon': '04n'}], 'clouds': {'all': 100}, 'wind': {'speed': 0.75, 'deg': 78, 'gust': 1.04}, 'visibility': 10000, 'pop': 0, 'sys': {'pod': 'n'}, 'dt_txt': '2024-11-22 18:00:00'}, {'dt': 1732309200, 'main': {'temp': 263.62, 'feels_like': 263.62, 'temp_min': 263.62, 'temp_max': 263.62, 'pressure': 992, 'sea_level': 992, 'grnd_level': 938, 'humidity': 83, 'temp_kf': 0}, 'weather': [{'id': 803, 'main': 'Clouds', 'description': 'broken clouds', 'icon': '04n'}], 'clouds': {'all': 60}, 'wind': {'speed': 0.48, 'deg': 103, 'gust': 1.1}, 'visibility': 10000, 'pop': 0, 'sys': {'pod': 'n'}, 'dt_txt': '2024-11-22 21:00:00'}, {'dt': 1732320000, 'main': {'temp': 263.24, 'feels_like': 263.24, 'temp_min': 263.24, 'temp_max': 263.24, 'pressure': 994, 'sea_level': 994, 'grnd_level': 940, 'humidity': 82, 'temp_kf': 0}, 'weather': [{'id': 803, 'main': 'Clouds', 'description': 'broken clouds', 'icon': '04n'}], 'clouds': {'all': 73}, 'wind': {'speed': 0.55, 'deg': 125, 'gust': 1.1}, 'visibility': 10000, 'pop': 0, 'sys': {'pod': 'n'}, 'dt_txt': '2024-11-23 00:00:00'}, {'dt': 1732330800, 'main': {'temp': 263.13, 'feels_like': 263.13, 'temp_min': 263.13, 'temp_max': 263.13, 'pressure': 996, 'sea_level': 996, 'grnd_level': 942, 'humidity': 81, 'temp_kf': 0}, 'weather': [{'id': 803, 'main': 'Clouds', 'description': 'broken clouds', 'icon': '04n'}], 'clouds': {'all': 71}, 'wind': {'speed': 0.54, 'deg': 155, 'gust': 1.07}, 'visibility': 10000, 'pop': 0, 'sys': {'pod': 'n'}, 'dt_txt': '2024-11-23 03:00:00'}, {'dt': 1732341600, 'main': {'temp': 264, 'feels_like': 264, 'temp_min': 264, 'temp_max': 264, 'pressure': 998, 'sea_level': 998, 'grnd_level': 944, 'humidity': 83, 'temp_kf': 0}, 'weather': [{'id': 803, 'main': 'Clouds', 'description': 'broken clouds', 'icon': '04n'}], 'clouds': {'all': 76}, 'wind': {'speed': 1.32, 'deg': 169, 'gust': 1.02}, 'visibility': 10000, 'pop': 0, 'sys': {'pod': 'n'}, 'dt_txt': '2024-11-23 06:00:00'}, {'dt': 1732352400, 'main': {'temp': 265.54, 'feels_like': 265.54, 'temp_min': 265.54, 'temp_max': 265.54, 'pressure': 1000, 'sea_level': 1000, 'grnd_level': 947, 'humidity': 89, 'temp_kf': 0}, 'weather': [{'id': 600, 'main': 'Snow', 'description': 'light snow', 'icon': '13d'}], 'clouds': {'all': 100}, 'wind': {'speed': 1, 'deg': 214, 'gust': 0.88}, 'visibility': 2130, 'pop': 0.59, 'snow': {'3h': 0.23}, 'sys': {'pod': 'd'}, 'dt_txt': '2024-11-23 09:00:00'}, {'dt': 1732363200, 'main': {'temp': 267.36, 'feels_like': 267.36, 'temp_min': 267.36, 'temp_max': 267.36, 'pressure': 1002, 'sea_level': 1002, 'grnd_level': 948, 'humidity': 96, 'temp_kf': 0}, 'weather': [{'id': 600, 'main': 'Snow', 'description': 'light snow', 'icon': '13d'}], 'clouds': {'all': 100}, 'wind': {'speed': 1.1, 'deg': 226, 'gust': 1.07}, 'visibility': 406, 'pop': 0.9, 'snow': {'3h': 0.66}, 'sys': {'pod': 'd'}, 'dt_txt': '2024-11-23 12:00:00'}, {'dt': 1732374000, 'main': {'temp': 268.4, 'feels_like': 268.4, 'temp_min': 268.4, 'temp_max': 268.4, 'pressure': 1002, 'sea_level': 1002, 'grnd_level': 949, 'humidity': 96, 'temp_kf': 0}, 'weather': [{'id': 600, 'main': 'Snow', 'description': 'light snow', 'icon': '13n'}], 'clouds': {'all': 100}, 'wind': {'speed': 0.5, 'deg': 57, 'gust': 0}, 'visibility': 144, 'pop': 1, 'snow': {'3h': 0.67}, 'sys': {'pod': 'n'}, 'dt_txt': '2024-11-23 15:00:00'}, {'dt': 1732384800, 'main': {'temp': 268.27, 'feels_like': 268.27, 'temp_min': 268.27, 'temp_max': 268.27, 'pressure': 1004, 'sea_level': 1004, 'grnd_level': 951, 'humidity': 97, 'temp_kf': 0}, 'weather': [{'id': 600, 'main': 'Snow', 'description': 'light snow', 'icon': '13n'}], 'clouds': {'all': 100}, 'wind': {'speed': 0.96, 'deg': 176, 'gust': 0.63}, 'visibility': 611, 'pop': 1, 'snow': {'3h': 0.65}, 'sys': {'pod': 'n'}, 'dt_txt': '2024-11-23 18:00:00'}, {'dt': 1732395600, 'main': {'temp': 269.5, 'feels_like': 269.5, 'temp_min': 269.5, 'temp_max': 269.5, 'pressure': 1006, 'sea_level': 1006, 'grnd_level': 953, 'humidity': 97, 'temp_kf': 0}, 'weather': [{'id': 600, 'main': 'Snow', 'description': 'light snow', 'icon': '13n'}], 'clouds': {'all': 100}, 'wind': {'speed': 0.75, 'deg': 219, 'gust': 0.59}, 'visibility': 468, 'pop': 1, 'snow': {'3h': 0.48}, 'sys': {'pod': 'n'}, 'dt_txt': '2024-11-23 21:00:00'}, {'dt': 1732406400, 'main': {'temp': 269.81, 'feels_like': 269.81, 'temp_min': 269.81, 'temp_max': 269.81, 'pressure': 1007, 'sea_level': 1007, 'grnd_level': 954, 'humidity': 97, 'temp_kf': 0}, 'weather': [{'id': 600, 'main': 'Snow', 'description': 'light snow', 'icon': '13n'}], 'clouds': {'all': 99}, 'wind': {'speed': 0.9, 'deg': 206, 'gust': 1}, 'visibility': 790, 'pop': 0.97, 'snow': {'3h': 0.38}, 'sys': {'pod': 'n'}, 'dt_txt': '2024-11-24 00:00:00'}, {'dt': 1732417200, 'main': {'temp': 269.58, 'feels_like': 269.58, 'temp_min': 269.58, 'temp_max': 269.58, 'pressure': 1008, 'sea_level': 1008, 'grnd_level': 955, 'humidity': 96, 'temp_kf': 0}, 'weather': [{'id': 600, 'main': 'Snow', 'description': 'light snow', 'icon': '13n'}], 'clouds': {'all': 100}, 'wind': {'speed': 1.23, 'deg': 215, 'gust': 1.19}, 'visibility': 3232, 'pop': 0.43, 'snow': {'3h': 0.27}, 'sys': {'pod': 'n'}, 'dt_txt': '2024-11-24 03:00:00'}, {'dt': 1732428000, 'main': {'temp': 268.96, 'feels_like': 268.96, 'temp_min': 268.96, 'temp_max': 268.96, 'pressure': 1009, 'sea_level': 1009, 'grnd_level': 956, 'humidity': 95, 'temp_kf': 0}, 'weather': [{'id': 600, 'main': 'Snow', 'description': 'light snow', 'icon': '13n'}], 'clouds': {'all': 100}, 'wind': {'speed': 1.07, 'deg': 196, 'gust': 0.97}, 'visibility': 1943, 'pop': 0.53, 'snow': {'3h': 0.31}, 'sys': {'pod': 'n'}, 'dt_txt': '2024-11-24 06:00:00'}, {'dt': 1732438800, 'main': {'temp': 267.96, 'feels_like': 267.96, 'temp_min': 267.96, 'temp_max': 267.96, 'pressure': 1011, 'sea_level': 1011, 'grnd_level': 957, 'humidity': 93, 'temp_kf': 0}, 'weather': [{'id': 600, 'main': 'Snow', 'description': 'light snow', 'icon': '13d'}], 'clouds': {'all': 100}, 'wind': {'speed': 0.92, 'deg': 114, 'gust': 0.93}, 'visibility': 10000, 'pop': 0.34, 'snow': {'3h': 0.2}, 'sys': {'pod': 'd'}, 'dt_txt': '2024-11-24 09:00:00'}, {'dt': 1732449600, 'main': {'temp': 266.89, 'feels_like': 262.69, 'temp_min': 266.89, 'temp_max': 266.89, 'pressure': 1010, 'sea_level': 1010, 'grnd_level': 956, 'humidity': 89, 'temp_kf': 0}, 'weather': [{'id': 803, 'main': 'Clouds', 'description': 'broken clouds', 'icon': '04d'}], 'clouds': {'all': 83}, 'wind': {'speed': 2.52, 'deg': 86, 'gust': 2.38}, 'visibility': 10000, 'pop': 0, 'sys': {'pod': 'd'}, 'dt_txt': '2024-11-24 12:00:00'}, {'dt': 1732460400, 'main': {'temp': 265.82, 'feels_like': 260.55, 'temp_min': 265.82, 'temp_max': 265.82, 'pressure': 1009, 'sea_level': 1009, 'grnd_level': 955, 'humidity': 87, 'temp_kf': 0}, 'weather': [{'id': 801, 'main': 'Clouds', 'description': 'few clouds', 'icon': '02n'}], 'clouds': {'all': 19}, 'wind': {'speed': 3.27, 'deg': 76, 'gust': 2.86}, 'visibility': 10000, 'pop': 0, 'sys': {'pod': 'n'}, 'dt_txt': '2024-11-24 15:00:00'}, {'dt': 1732471200, 'main': {'temp': 266.81, 'feels_like': 261.11, 'temp_min': 266.81, 'temp_max': 266.81, 'pressure': 1006, 'sea_level': 1006, 'grnd_level': 953, 'humidity': 83, 'temp_kf': 0}, 'weather': [{'id': 803, 'main': 'Clouds', 'description': 'broken clouds', 'icon': '04n'}], 'clouds': {'all': 57}, 'wind': {'speed': 3.96, 'deg': 77, 'gust': 4.32}, 'visibility': 10000, 'pop': 0, 'sys': {'pod': 'n'}, 'dt_txt': '2024-11-24 18:00:00'}, {'dt': 1732482000, 'main': {'temp': 268.68, 'feels_like': 263.16, 'temp_min': 268.68, 'temp_max': 268.68, 'pressure': 1003, 'sea_level': 1003, 'grnd_level': 950, 'humidity': 84, 'temp_kf': 0}, 'weather': [{'id': 804, 'main': 'Clouds', 'description': 'overcast clouds', 'icon': '04n'}], 'clouds': {'all': 100}, 'wind': {'speed': 4.28, 'deg': 77, 'gust': 5.18}, 'visibility': 10000, 'pop': 0, 'sys': {'pod': 'n'}, 'dt_txt': '2024-11-24 21:00:00'}, {'dt': 1732492800, 'main': {'temp': 269.29, 'feels_like': 263.96, 'temp_min': 269.29, 'temp_max': 269.29, 'pressure': 999, 'sea_level': 999, 'grnd_level': 946, 'humidity': 88, 'temp_kf': 0}, 'weather': [{'id': 600, 'main': 'Snow', 'description': 'light snow', 'icon': '13n'}], 'clouds': {'all': 100}, 'wind': {'speed': 4.21, 'deg': 73, 'gust': 5.1}, 'visibility': 10000, 'pop': 0.2, 'snow': {'3h': 0.1}, 'sys': {'pod': 'n'}, 'dt_txt': '2024-11-25 00:00:00'}, {'dt': 1732503600, 'main': {'temp': 270.24, 'feels_like': 265.49, 'temp_min': 270.24, 'temp_max': 270.24, 'pressure': 994, 'sea_level': 994, 'grnd_level': 942, 'humidity': 93, 'temp_kf': 0}, 'weather': [{'id': 600, 'main': 'Snow', 'description': 'light snow', 'icon': '13n'}], 'clouds': {'all': 100}, 'wind': {'speed': 3.75, 'deg': 74, 'gust': 5.41}, 'visibility': 10000, 'pop': 0.88, 'snow': {'3h': 0.32}, 'sys': {'pod': 'n'}, 'dt_txt': '2024-11-25 03:00:00'}, {'dt': 1732514400, 'main': {'temp': 270.58, 'feels_like': 266.46, 'temp_min': 270.58, 'temp_max': 270.58, 'pressure': 992, 'sea_level': 992, 'grnd_level': 940, 'humidity': 93, 'temp_kf': 0}, 'weather': [{'id': 600, 'main': 'Snow', 'description': 'light snow', 'icon': '13n'}], 'clouds': {'all': 100}, 'wind': {'speed': 3.11, 'deg': 77, 'gust': 4.11}, 'visibility': 455, 'pop': 0.39, 'snow': {'3h': 0.18}, 'sys': {'pod': 'n'}, 'dt_txt': '2024-11-25 06:00:00'}, {'dt': 1732525200, 'main': {'temp': 271.6, 'feels_like': 268.6, 'temp_min': 271.6, 'temp_max': 271.6, 'pressure': 988, 'sea_level': 988, 'grnd_level': 936, 'humidity': 97, 'temp_kf': 0}, 'weather': [{'id': 601, 'main': 'Snow', 'description': 'snow', 'icon': '13d'}], 'clouds': {'all': 100}, 'wind': {'speed': 2.23, 'deg': 65, 'gust': 2.91}, 'visibility': 134, 'pop': 1, 'snow': {'3h': 4.97}, 'sys': {'pod': 'd'}, 'dt_txt': '2024-11-25 09:00:00'}, {'dt': 1732536000, 'main': {'temp': 272.99, 'feels_like': 272.99, 'temp_min': 272.99, 'temp_max': 272.99, 'pressure': 987, 'sea_level': 987, 'grnd_level': 936, 'humidity': 97, 'temp_kf': 0}, 'weather': [{'id': 601, 'main': 'Snow', 'description': 'snow', 'icon': '13d'}], 'clouds': {'all': 100}, 'wind': {'speed': 1.06, 'deg': 93, 'gust': 0.89}, 'visibility': 312, 'pop': 1, 'snow': {'3h': 1.68}, 'sys': {'pod': 'd'}, 'dt_txt': '2024-11-25 12:00:00'}, {'dt': 1732546800, 'main': {'temp': 273.48, 'feels_like': 271.71, 'temp_min': 273.48, 'temp_max': 273.48, 'pressure': 986, 'sea_level': 986, 'grnd_level': 934, 'humidity': 97, 'temp_kf': 0}, 'weather': [{'id': 600, 'main': 'Snow', 'description': 'light snow', 'icon': '13n'}], 'clouds': {'all': 100}, 'wind': {'speed': 1.54, 'deg': 103, 'gust': 1.66}, 'visibility': 280, 'pop': 1, 'snow': {'3h': 0.87}, 'sys': {'pod': 'n'}, 'dt_txt': '2024-11-25 15:00:00'}, {'dt': 1732557600, 'main': {'temp': 274.46, 'feels_like': 274.46, 'temp_min': 274.46, 'temp_max': 274.46, 'pressure': 985, 'sea_level': 985, 'grnd_level': 934, 'humidity': 98, 'temp_kf': 0}, 'weather': [{'id': 601, 'main': 'Snow', 'description': 'snow', 'icon': '13n'}], 'clouds': {'all': 100}, 'wind': {'speed': 0.52, 'deg': 160, 'gust': 0.44}, 'visibility': 450, 'pop': 1, 'snow': {'3h': 1.92}, 'sys': {'pod': 'n'}, 'dt_txt': '2024-11-25 18:00:00'}], 'city': {'id': 3145614, 'name': 'Mo i Rana', 'coord': {'lat': 66.3128, 'lon': 14.1428}, 'country': 'NO', 'population': 17853, 'timezone': 3600, 'sunrise': 1732090487, 'sunset': 1732109028}}\")\n"
     ]
    }
   ],
   "source": [
    "# Query the data\n",
    "forecast_rows = session.execute(\"SELECT * FROM forecast_table;\")\n",
    "print(forecast_rows.one()) # <- only one row"
   ]
  },
  {
   "cell_type": "markdown",
   "metadata": {
    "slideshow": {
     "slide_type": "slide"
    }
   },
   "source": [
    "```{seealso} Resources\n",
    ":class: tip\n",
    "- [Cassandra webpage](https://cassandra.apache.org/)\n",
    "- [Cassandra Docker file](https://hub.docker.com/_/cassandra)\n",
    "- [UUID functions](https://docs.datastax.com/en/cql-oss/3.3/cql/cql_reference/timeuuid_functions_r.html)\n",
    "- [YouTube: Cassandra in 100 seconds](https://youtu.be/ziq7FUKpCS8?si=WQUdkHFvaBmT0DBo) (2m:26s)\n",
    "- [YouTube: How to use Apache Cassandra in Python](https://youtu.be/qMauZqJH3ZM?si=yKGZ-5cld2BK396Y) (14m:50s)\n",
    "- [YouTube: Cassandra Database Crash Course](https://youtu.be/KZsVSfQVU4I?si=FBCi8qOfCirfVmZk) (19m:47s)\n",
    "```"
   ]
  }
 ],
 "metadata": {
  "celltoolbar": "Slideshow",
  "kernelspec": {
   "display_name": "Python 3 (ipykernel)",
   "language": "python",
   "name": "python3"
  },
  "language_info": {
   "codemirror_mode": {
    "name": "ipython",
    "version": 3
   },
   "file_extension": ".py",
   "mimetype": "text/x-python",
   "name": "python",
   "nbconvert_exporter": "python",
   "pygments_lexer": "ipython3",
   "version": "3.12.4"
  }
 },
 "nbformat": 4,
 "nbformat_minor": 4
}