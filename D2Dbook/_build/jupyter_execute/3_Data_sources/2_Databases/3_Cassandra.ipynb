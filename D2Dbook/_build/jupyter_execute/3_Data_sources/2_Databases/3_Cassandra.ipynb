{
 "cells": [
  {
   "cell_type": "markdown",
   "metadata": {
    "slideshow": {
     "slide_type": "slide"
    }
   },
   "source": [
    "# Cassandra\n",
    "- A production grade NoSQL database.\n",
    "- Can be distributed across servers, nodes, etc.\n",
    "- Replication of database is supported for high degree of redundancy and speed.\n",
    "- Uses CQL, a subset of SQL for querying.\n",
    "- Works seamlesly together with Spark and its corresponding distributed structure.\n",
    "- Installation of Cassandra is explained in the [Installation chapter](../../7_Appendix/Installation.ipynb)."
   ]
  },
  {
   "cell_type": "markdown",
   "metadata": {
    "slideshow": {
     "slide_type": "slide"
    }
   },
   "source": [
    "## Spinning up a local Cassandra instance\n",
    "In a terminal, first time:  \n",
    "```docker run --name my_cassandra -p 9042:9042 cassandra:latest```  \n",
    "... and later:  \n",
    "```docker start my_cassandra```  \n",
    "  \n",
    ".. or in Docker Desktop:\n",
    "- Run the cassandra docker image with optional settings, opening 9042 port and setting a name.\n",
    "- Later, simply run the container with the name you chose."
   ]
  },
  {
   "cell_type": "markdown",
   "metadata": {
    "slideshow": {
     "slide_type": "slide"
    }
   },
   "source": [
    "<img src=\"https://github.com/khliland/IND320/blob/main/D2Dbook/images/Docker_images.png?raw=TRUE\" width=\"600px\">  "
   ]
  },
  {
   "cell_type": "markdown",
   "metadata": {
    "slideshow": {
     "slide_type": "slide"
    }
   },
   "source": [
    "\n",
    "<img src=\"https://github.com/khliland/IND320/blob/main/D2Dbook/images/Docker_containers.png?raw=TRUE\" width=\"800px\">  "
   ]
  },
  {
   "cell_type": "markdown",
   "metadata": {
    "slideshow": {
     "slide_type": "slide"
    }
   },
   "source": [
    "### Connect to the Cassandra cluster from Python."
   ]
  },
  {
   "cell_type": "code",
   "execution_count": 1,
   "metadata": {
    "ExecuteTime": {
     "end_time": "2024-08-17T10:25:34.787878Z",
     "start_time": "2024-08-17T10:25:34.389367Z"
    },
    "slideshow": {
     "slide_type": "fragment"
    },
    "tags": []
   },
   "outputs": [],
   "source": [
    "# Connecting to Cassandra\n",
    "from cassandra.cluster import Cluster\n",
    "cluster = Cluster(['localhost'], port=9042)\n",
    "session = cluster.connect()"
   ]
  },
  {
   "cell_type": "markdown",
   "metadata": {
    "slideshow": {
     "slide_type": "slide"
    }
   },
   "source": [
    "### Keyspace\n",
    "- In Cassandra database tables are stored in keyspaces (basically a distributed database).\n",
    "- These have parameters controlling their distribution on nodes/servers and redundancy.\n",
    "- We will use the simplest form locally."
   ]
  },
  {
   "cell_type": "code",
   "execution_count": 2,
   "metadata": {
    "ExecuteTime": {
     "end_time": "2024-08-17T10:25:34.798504Z",
     "start_time": "2024-08-17T10:25:34.789786Z"
    },
    "slideshow": {
     "slide_type": "fragment"
    },
    "tags": []
   },
   "outputs": [
    {
     "data": {
      "text/plain": [
       "<cassandra.cluster.ResultSet at 0x1058f4620>"
      ]
     },
     "execution_count": 2,
     "metadata": {},
     "output_type": "execute_result"
    }
   ],
   "source": [
    "# Set up new keyspace (first time only)\n",
    "#                                              name of keyspace                        replication strategy           replication factor\n",
    "session.execute(\"CREATE KEYSPACE IF NOT EXISTS my_first_keyspace WITH REPLICATION = { 'class' : 'SimpleStrategy', 'replication_factor' : 1 };\")"
   ]
  },
  {
   "cell_type": "markdown",
   "metadata": {
    "slideshow": {
     "slide_type": "slide"
    }
   },
   "source": [
    "### Create a table\n",
    "- IF NOT EXISTS makes sure we do not overwrite existing tables"
   ]
  },
  {
   "cell_type": "code",
   "execution_count": 3,
   "metadata": {
    "ExecuteTime": {
     "end_time": "2024-08-17T10:25:35.347394Z",
     "start_time": "2024-08-17T10:25:34.800008Z"
    },
    "slideshow": {
     "slide_type": "fragment"
    },
    "tags": []
   },
   "outputs": [
    {
     "data": {
      "text/plain": [
       "<cassandra.cluster.ResultSet at 0x10773ee40>"
      ]
     },
     "execution_count": 3,
     "metadata": {},
     "output_type": "execute_result"
    }
   ],
   "source": [
    "# Create a new table (first time only)\n",
    "session.set_keyspace('my_first_keyspace')\n",
    "session.execute(\"DROP TABLE IF EXISTS my_first_keyspace.my_first_table;\") # Starting from scratch every time\n",
    "session.execute(\"CREATE TABLE IF NOT EXISTS my_first_table (ind int PRIMARY KEY, company text, model text);\")"
   ]
  },
  {
   "cell_type": "markdown",
   "metadata": {
    "slideshow": {
     "slide_type": "slide"
    }
   },
   "source": [
    "### Inserting and reading data"
   ]
  },
  {
   "cell_type": "code",
   "execution_count": 4,
   "metadata": {
    "ExecuteTime": {
     "end_time": "2024-08-17T10:25:35.366363Z",
     "start_time": "2024-08-17T10:25:35.350453Z"
    },
    "slideshow": {
     "slide_type": "fragment"
    },
    "tags": []
   },
   "outputs": [
    {
     "data": {
      "text/plain": [
       "<cassandra.cluster.ResultSet at 0x10773ff20>"
      ]
     },
     "execution_count": 4,
     "metadata": {},
     "output_type": "execute_result"
    }
   ],
   "source": [
    "# Insert some data (ind is the primary key, must be unique)\n",
    "session.execute(\"INSERT INTO my_first_table (ind, company, model) VALUES (1, 'Tesla', 'Model S');\")\n",
    "session.execute(\"INSERT INTO my_first_table (ind, company, model) VALUES (2, 'Tesla', 'Model 3');\")\n",
    "session.execute(\"INSERT INTO my_first_table (ind, company, model) VALUES (3, 'Polestar', '3');\")"
   ]
  },
  {
   "cell_type": "code",
   "execution_count": 5,
   "metadata": {},
   "outputs": [
    {
     "name": "stdout",
     "output_type": "stream",
     "text": [
      "Row(ind=1, company='Tesla', model='Model S')\n",
      "Row(ind=2, company='Tesla', model='Model 3')\n",
      "Row(ind=3, company='Polestar', model='3')\n"
     ]
    }
   ],
   "source": [
    "# Query the data\n",
    "rows = session.execute(\"SELECT * FROM my_first_table;\")\n",
    "for i in rows:\n",
    "    print(i)"
   ]
  },
  {
   "cell_type": "markdown",
   "metadata": {
    "slideshow": {
     "slide_type": "slide"
    },
    "tags": []
   },
   "source": [
    "### Case sensitivity\n",
    "- Cassandra is by default case insensitive in column names.\n",
    "- To use column names with capital letters, use double quotation marks both when creating tables and when inserting data.\n",
    "- The effect of insensitivity may be surprising.\n",
    "    - Look carefully at the use of quotation marks and error message below."
   ]
  },
  {
   "cell_type": "code",
   "execution_count": 6,
   "metadata": {
    "slideshow": {
     "slide_type": "slide"
    },
    "tags": []
   },
   "outputs": [
    {
     "data": {
      "text/plain": [
       "<cassandra.cluster.ResultSet at 0x10774baa0>"
      ]
     },
     "execution_count": 6,
     "metadata": {},
     "output_type": "execute_result"
    }
   ],
   "source": [
    "session.set_keyspace('my_first_keyspace')\n",
    "session.execute(\"DROP TABLE IF EXISTS my_first_keyspace.case_insensitive;\") # Starting from scratch every time\n",
    "session.execute(\"CREATE TABLE IF NOT EXISTS case_insensitive (Capital int PRIMARY KEY, Letters text, Everywhere text);\")\n",
    "session.execute(\"DROP TABLE IF EXISTS my_first_keyspace.case_sensitive;\") # Starting from scratch every time\n",
    "session.execute(\"CREATE TABLE IF NOT EXISTS case_sensitive (\\\"Capital\\\" int PRIMARY KEY, \\\"Letters\\\" text, \\\"Everywhere\\\" text);\")"
   ]
  },
  {
   "cell_type": "code",
   "execution_count": 7,
   "metadata": {
    "slideshow": {
     "slide_type": "fragment"
    },
    "tags": []
   },
   "outputs": [
    {
     "data": {
      "text/plain": [
       "<cassandra.cluster.ResultSet at 0x1058f5790>"
      ]
     },
     "execution_count": 7,
     "metadata": {},
     "output_type": "execute_result"
    }
   ],
   "source": [
    "session.execute(\"INSERT INTO case_insensitive (Capital, Letters, Everywhere) VALUES (1, 'Tesla', 'Model S');\")"
   ]
  },
  {
   "cell_type": "code",
   "execution_count": 8,
   "metadata": {
    "slideshow": {
     "slide_type": "fragment"
    },
    "tags": [
     "raises-exception"
    ]
   },
   "outputs": [
    {
     "ename": "InvalidRequest",
     "evalue": "Error from server: code=2200 [Invalid query] message=\"Undefined column name capital in table my_first_keyspace.case_sensitive\"",
     "output_type": "error",
     "traceback": [
      "\u001b[31m---------------------------------------------------------------------------\u001b[39m",
      "\u001b[31mInvalidRequest\u001b[39m                            Traceback (most recent call last)",
      "\u001b[36mCell\u001b[39m\u001b[36m \u001b[39m\u001b[32mIn[8]\u001b[39m\u001b[32m, line 1\u001b[39m\n\u001b[32m----> \u001b[39m\u001b[32m1\u001b[39m \u001b[43msession\u001b[49m\u001b[43m.\u001b[49m\u001b[43mexecute\u001b[49m\u001b[43m(\u001b[49m\u001b[33;43m\"\u001b[39;49m\u001b[33;43mINSERT INTO case_sensitive (Capital, Letters, Everywhere) VALUES (1, \u001b[39;49m\u001b[33;43m'\u001b[39;49m\u001b[33;43mTesla\u001b[39;49m\u001b[33;43m'\u001b[39;49m\u001b[33;43m, \u001b[39;49m\u001b[33;43m'\u001b[39;49m\u001b[33;43mModel S\u001b[39;49m\u001b[33;43m'\u001b[39;49m\u001b[33;43m);\u001b[39;49m\u001b[33;43m\"\u001b[39;49m\u001b[43m)\u001b[49m\n",
      "\u001b[36mFile \u001b[39m\u001b[32m~/miniforge3/envs/ind320_25/lib/python3.12/site-packages/cassandra/cluster.py:2677\u001b[39m, in \u001b[36mSession.execute\u001b[39m\u001b[34m(self, query, parameters, timeout, trace, custom_payload, execution_profile, paging_state, host, execute_as)\u001b[39m\n\u001b[32m   2634\u001b[39m \u001b[38;5;28;01mdef\u001b[39;00m\u001b[38;5;250m \u001b[39m\u001b[34mexecute\u001b[39m(\u001b[38;5;28mself\u001b[39m, query, parameters=\u001b[38;5;28;01mNone\u001b[39;00m, timeout=_NOT_SET, trace=\u001b[38;5;28;01mFalse\u001b[39;00m,\n\u001b[32m   2635\u001b[39m             custom_payload=\u001b[38;5;28;01mNone\u001b[39;00m, execution_profile=EXEC_PROFILE_DEFAULT,\n\u001b[32m   2636\u001b[39m             paging_state=\u001b[38;5;28;01mNone\u001b[39;00m, host=\u001b[38;5;28;01mNone\u001b[39;00m, execute_as=\u001b[38;5;28;01mNone\u001b[39;00m):\n\u001b[32m   2637\u001b[39m \u001b[38;5;250m    \u001b[39m\u001b[33;03m\"\"\"\u001b[39;00m\n\u001b[32m   2638\u001b[39m \u001b[33;03m    Execute the given query and synchronously wait for the response.\u001b[39;00m\n\u001b[32m   2639\u001b[39m \n\u001b[32m   (...)\u001b[39m\u001b[32m   2674\u001b[39m \u001b[33;03m    on a DSE cluster.\u001b[39;00m\n\u001b[32m   2675\u001b[39m \u001b[33;03m    \"\"\"\u001b[39;00m\n\u001b[32m-> \u001b[39m\u001b[32m2677\u001b[39m     \u001b[38;5;28;01mreturn\u001b[39;00m \u001b[38;5;28;43mself\u001b[39;49m\u001b[43m.\u001b[49m\u001b[43mexecute_async\u001b[49m\u001b[43m(\u001b[49m\u001b[43mquery\u001b[49m\u001b[43m,\u001b[49m\u001b[43m \u001b[49m\u001b[43mparameters\u001b[49m\u001b[43m,\u001b[49m\u001b[43m \u001b[49m\u001b[43mtrace\u001b[49m\u001b[43m,\u001b[49m\u001b[43m \u001b[49m\u001b[43mcustom_payload\u001b[49m\u001b[43m,\u001b[49m\u001b[43m \u001b[49m\u001b[43mtimeout\u001b[49m\u001b[43m,\u001b[49m\u001b[43m \u001b[49m\u001b[43mexecution_profile\u001b[49m\u001b[43m,\u001b[49m\u001b[43m \u001b[49m\u001b[43mpaging_state\u001b[49m\u001b[43m,\u001b[49m\u001b[43m \u001b[49m\u001b[43mhost\u001b[49m\u001b[43m,\u001b[49m\u001b[43m \u001b[49m\u001b[43mexecute_as\u001b[49m\u001b[43m)\u001b[49m\u001b[43m.\u001b[49m\u001b[43mresult\u001b[49m\u001b[43m(\u001b[49m\u001b[43m)\u001b[49m\n",
      "\u001b[36mFile \u001b[39m\u001b[32m~/miniforge3/envs/ind320_25/lib/python3.12/site-packages/cassandra/cluster.py:4956\u001b[39m, in \u001b[36mResponseFuture.result\u001b[39m\u001b[34m(self)\u001b[39m\n\u001b[32m   4954\u001b[39m     \u001b[38;5;28;01mreturn\u001b[39;00m ResultSet(\u001b[38;5;28mself\u001b[39m, \u001b[38;5;28mself\u001b[39m._final_result)\n\u001b[32m   4955\u001b[39m \u001b[38;5;28;01melse\u001b[39;00m:\n\u001b[32m-> \u001b[39m\u001b[32m4956\u001b[39m     \u001b[38;5;28;01mraise\u001b[39;00m \u001b[38;5;28mself\u001b[39m._final_exception\n",
      "\u001b[31mInvalidRequest\u001b[39m: Error from server: code=2200 [Invalid query] message=\"Undefined column name capital in table my_first_keyspace.case_sensitive\""
     ]
    }
   ],
   "source": [
    "session.execute(\"INSERT INTO case_sensitive (Capital, Letters, Everywhere) VALUES (1, 'Tesla', 'Model S');\")"
   ]
  },
  {
   "cell_type": "code",
   "execution_count": 9,
   "metadata": {
    "slideshow": {
     "slide_type": "fragment"
    },
    "tags": []
   },
   "outputs": [
    {
     "data": {
      "text/plain": [
       "<cassandra.cluster.ResultSet at 0x105dba4b0>"
      ]
     },
     "execution_count": 9,
     "metadata": {},
     "output_type": "execute_result"
    }
   ],
   "source": [
    "session.execute(\"INSERT INTO case_sensitive (\\\"Capital\\\", \\\"Letters\\\", \\\"Everywhere\\\") VALUES (1, 'Tesla', 'Model S');\")"
   ]
  },
  {
   "cell_type": "code",
   "execution_count": 10,
   "metadata": {
    "slideshow": {
     "slide_type": "slide"
    },
    "tags": []
   },
   "outputs": [
    {
     "name": "stdout",
     "output_type": "stream",
     "text": [
      "Row(capital=1, everywhere='Model S', letters='Tesla')\n",
      "Row(Capital=1, Everywhere='Model S', Letters='Tesla')\n"
     ]
    }
   ],
   "source": [
    "# Query the data\n",
    "rows = session.execute(\"SELECT * FROM case_insensitive;\")\n",
    "for i in rows:\n",
    "    print(i)\n",
    "rows = session.execute(\"SELECT * FROM case_sensitive;\")\n",
    "for i in rows:\n",
    "    print(i)"
   ]
  },
  {
   "cell_type": "markdown",
   "metadata": {
    "slideshow": {
     "slide_type": "slide"
    }
   },
   "source": [
    "### Asyncronous writing\n",
    "- If your application is very data intensive, waiting for a response is not productive.\n",
    "- Writing asyncronously sends the data but does not pause for reply."
   ]
  },
  {
   "cell_type": "code",
   "execution_count": 11,
   "metadata": {
    "ExecuteTime": {
     "end_time": "2024-08-17T10:25:35.371390Z",
     "start_time": "2024-08-17T10:25:35.367159Z"
    },
    "slideshow": {
     "slide_type": "fragment"
    },
    "tags": []
   },
   "outputs": [
    {
     "data": {
      "text/plain": [
       "<ResponseFuture: query='<SimpleStatement query=\"INSERT INTO my_first_table (ind, company, model) VALUES (4, 'Volkswagen', 'ID.4');\", consistency=Not Set>' request_id=63 result=(no result yet) exception=None coordinator_host=None>"
      ]
     },
     "execution_count": 11,
     "metadata": {},
     "output_type": "execute_result"
    }
   ],
   "source": [
    "session.execute_async(\"INSERT INTO my_first_table (ind, company, model) VALUES (4, 'Volkswagen', 'ID.4');\")"
   ]
  },
  {
   "cell_type": "code",
   "execution_count": 12,
   "metadata": {
    "ExecuteTime": {
     "end_time": "2024-08-17T10:25:35.384736Z",
     "start_time": "2024-08-17T10:25:35.372551Z"
    },
    "slideshow": {
     "slide_type": "slide"
    },
    "tags": []
   },
   "outputs": [
    {
     "name": "stdout",
     "output_type": "stream",
     "text": [
      "Row(ind=1, company='Tesla', model='Model S')\n",
      "Row(ind=2, company='Tesla', model='Model 3')\n",
      "Row(ind=4, company='Volkswagen', model='ID.4')\n",
      "Row(ind=3, company='Polestar', model='3')\n"
     ]
    }
   ],
   "source": [
    "# Query the data\n",
    "rows = session.execute(\"SELECT * FROM my_first_table;\")\n",
    "for i in rows:\n",
    "    print(i)"
   ]
  },
  {
   "cell_type": "code",
   "execution_count": 13,
   "metadata": {
    "ExecuteTime": {
     "end_time": "2024-08-17T10:25:35.402371Z",
     "start_time": "2024-08-17T10:25:35.386980Z"
    },
    "slideshow": {
     "slide_type": "slide"
    },
    "tags": [
     "raises-exception"
    ]
   },
   "outputs": [
    {
     "name": "stdout",
     "output_type": "stream",
     "text": [
      "Row(ind=1, company='Tesla', model='Model S')\n",
      "Row(ind=2, company='Tesla', model='Model 3')\n"
     ]
    }
   ],
   "source": [
    "# More specific query\n",
    "prepared_statement = session.prepare(\"SELECT * FROM my_first_table WHERE company=? ALLOW FILTERING;\")\n",
    "teslas = session.execute(prepared_statement, ['Tesla'])\n",
    "for i in teslas:\n",
    "    print(i)"
   ]
  },
  {
   "cell_type": "markdown",
   "metadata": {
    "slideshow": {
     "slide_type": "slide"
    }
   },
   "source": [
    "## Cassandra filtering\n",
    "Cassandra is inherently a distributed production database. Selecting as above may require downloading all data from a node, then filtering based on the WHERE part (only PRIMARY KEYs are centrally known). Solutions:  \n",
    "- If the table is small or most of the data will satisfy the query, add ```ALLOW FILTERING``` at the end of the query (not recommended if not known). \n",
    "- Or make sure the WHERE clause points to one of the keys (see below)."
   ]
  },
  {
   "cell_type": "code",
   "execution_count": 14,
   "metadata": {
    "ExecuteTime": {
     "end_time": "2024-08-17T10:25:35.613711Z",
     "start_time": "2024-08-17T10:25:35.403622Z"
    },
    "slideshow": {
     "slide_type": "slide"
    },
    "tags": []
   },
   "outputs": [
    {
     "data": {
      "text/plain": [
       "<cassandra.cluster.ResultSet at 0x1070267b0>"
      ]
     },
     "execution_count": 14,
     "metadata": {},
     "output_type": "execute_result"
    }
   ],
   "source": [
    "# Create a new table (observe keys)\n",
    "session.execute(\"DROP TABLE IF EXISTS my_first_keyspace.car_table;\")\n",
    "session.execute(\"CREATE TABLE IF NOT EXISTS car_table (company text, model text, PRIMARY KEY(company, model));\")"
   ]
  },
  {
   "cell_type": "code",
   "execution_count": 15,
   "metadata": {
    "ExecuteTime": {
     "end_time": "2024-08-17T10:25:35.628950Z",
     "start_time": "2024-08-17T10:25:35.615126Z"
    },
    "slideshow": {
     "slide_type": "fragment"
    },
    "tags": []
   },
   "outputs": [
    {
     "data": {
      "text/plain": [
       "<cassandra.cluster.ResultSet at 0x107971ca0>"
      ]
     },
     "execution_count": 15,
     "metadata": {},
     "output_type": "execute_result"
    }
   ],
   "source": [
    "# Insert some data (combination of company and model must be unique)\n",
    "session.execute(\"INSERT INTO car_table (company, model) VALUES ('Tesla', 'Model S');\")\n",
    "session.execute(\"INSERT INTO car_table (company, model) VALUES ('Tesla', 'Model 3');\")\n",
    "session.execute(\"INSERT INTO car_table (company, model) VALUES ('Polestar', '3');\")\n",
    "session.execute(\"INSERT INTO car_table (company, model) VALUES ('Volkswagen', 'ID.4');\")"
   ]
  },
  {
   "cell_type": "code",
   "execution_count": 16,
   "metadata": {
    "ExecuteTime": {
     "end_time": "2024-08-17T10:25:35.639765Z",
     "start_time": "2024-08-17T10:25:35.630657Z"
    },
    "slideshow": {
     "slide_type": "slide"
    },
    "tags": []
   },
   "outputs": [
    {
     "name": "stdout",
     "output_type": "stream",
     "text": [
      "Row(company='Tesla', model='Model 3')\n",
      "Row(company='Tesla', model='Model S')\n"
     ]
    }
   ],
   "source": [
    "# More specific query now works\n",
    "prepared_statement = session.prepare(\"SELECT * FROM car_table WHERE company=?;\")\n",
    "teslas = session.execute(prepared_statement, ['Tesla'])\n",
    "for i in teslas:\n",
    "    print(i)"
   ]
  },
  {
   "cell_type": "markdown",
   "metadata": {
    "slideshow": {
     "slide_type": "slide"
    }
   },
   "source": [
    "### Partitions\n",
    "- Cassandra databases are usually replicated over different nodes.\n",
    "- Data is stored in partitions (subsets) which have local copys.\n",
    "- The primary key, e.g., PRIMARY KEY(company, model), is used in partitioning.\n",
    "    - The first part, e.g., company, is most important.\n",
    "    - All cars from a company will be located together, aiming for quicker queries."
   ]
  },
  {
   "cell_type": "markdown",
   "metadata": {
    "slideshow": {
     "slide_type": "slide"
    }
   },
   "source": [
    "### Unique IDs \n",
    "- In MySQL one could use the attribute AUTO_INCREMENT on integer IDs to automatically make a new unique index when inserting data.\n",
    "- This would cause unreasonable overhead in a distributed database.\n",
    "- [UUID](https://en.wikipedia.org/wiki/Universally_unique_identifier)s are used instead.\n",
    "    - Universally Unique Identifiers are typically 128-bit random bit sequences with extremely low probability of duplication.\n",
    "    - Cassandra uses a [timeuuid](https://docs.datastax.com/en/cql-oss/3.3/cql/cql_reference/timeuuid_functions_r.html) type to combine a timestamp and uuid in one."
   ]
  },
  {
   "cell_type": "code",
   "execution_count": 17,
   "metadata": {
    "ExecuteTime": {
     "end_time": "2024-08-17T10:25:35.766003Z",
     "start_time": "2024-08-17T10:25:35.640600Z"
    },
    "slideshow": {
     "slide_type": "fragment"
    },
    "tags": []
   },
   "outputs": [
    {
     "data": {
      "text/plain": [
       "<cassandra.cluster.ResultSet at 0x1078eb350>"
      ]
     },
     "execution_count": 17,
     "metadata": {},
     "output_type": "execute_result"
    }
   ],
   "source": [
    "# Create a new table (first time only)\n",
    "session.set_keyspace('my_first_keyspace')\n",
    "session.execute(\"DROP TABLE IF EXISTS my_first_keyspace.table_with_uuid;\")\n",
    "session.execute(\"CREATE TABLE IF NOT EXISTS table_with_uuid (id timeuuid PRIMARY KEY, company text, model text, price float);\")"
   ]
  },
  {
   "cell_type": "code",
   "execution_count": 18,
   "metadata": {
    "ExecuteTime": {
     "end_time": "2024-08-17T10:25:35.784876Z",
     "start_time": "2024-08-17T10:25:35.766619Z"
    },
    "slideshow": {
     "slide_type": "slide"
    },
    "tags": []
   },
   "outputs": [
    {
     "data": {
      "text/plain": [
       "<cassandra.cluster.ResultSet at 0x107971fa0>"
      ]
     },
     "execution_count": 18,
     "metadata": {},
     "output_type": "execute_result"
    }
   ],
   "source": [
    "session.execute(\"INSERT INTO table_with_uuid (id, company, model, price) VALUES (now(), 'Tesla', 'Model S', 20000.0);\")\n",
    "session.execute(\"INSERT INTO table_with_uuid (id, company, model, price) VALUES (now(), 'Tesla', 'Model S', 21000.0);\")\n",
    "session.execute(\"INSERT INTO table_with_uuid (id, company, model, price) VALUES (now(), 'Oldsmobile', 'Model 6C', 135000.0);\")"
   ]
  },
  {
   "cell_type": "code",
   "execution_count": 19,
   "metadata": {
    "ExecuteTime": {
     "end_time": "2024-08-17T10:25:35.792934Z",
     "start_time": "2024-08-17T10:25:35.785467Z"
    },
    "slideshow": {
     "slide_type": "slide"
    },
    "tags": []
   },
   "outputs": [
    {
     "name": "stdout",
     "output_type": "stream",
     "text": [
      "Row(id=UUID('f7c1cf30-8e7f-11f0-987a-d1a1a3870172'), company='Tesla', model='Model S', price=21000.0)\n",
      "Datetime: 2025-09-10 19:54:31.715000\n",
      "Row(id=UUID('f7c10be0-8e7f-11f0-987a-d1a1a3870172'), company='Tesla', model='Model S', price=20000.0)\n",
      "Datetime: 2025-09-10 19:54:31.710000\n",
      "Row(id=UUID('f7c21d50-8e7f-11f0-987a-d1a1a3870172'), company='Oldsmobile', model='Model 6C', price=135000.0)\n",
      "Datetime: 2025-09-10 19:54:31.717000\n"
     ]
    }
   ],
   "source": [
    "from cassandra.util import datetime_from_uuid1\n",
    "\n",
    "# Query the data\n",
    "rows = session.execute(\"SELECT * FROM table_with_uuid;\")\n",
    "for i in rows:\n",
    "    print(i)\n",
    "    # Extract the timestamp from Cassandra's timeuuid\n",
    "    print(\"Datetime:\", datetime_from_uuid1(i.id))"
   ]
  },
  {
   "cell_type": "markdown",
   "metadata": {
    "slideshow": {
     "slide_type": "slide"
    }
   },
   "source": [
    "## JSON in Cassandra\n",
    "### Read previously saved JSON file forecast.json to memory"
   ]
  },
  {
   "cell_type": "code",
   "execution_count": 20,
   "metadata": {
    "ExecuteTime": {
     "end_time": "2024-08-17T10:25:35.796049Z",
     "start_time": "2024-08-17T10:25:35.793437Z"
    },
    "slideshow": {
     "slide_type": "fragment"
    },
    "tags": []
   },
   "outputs": [],
   "source": [
    "import json\n",
    "with open('../3_APIs/downloads/forecast.json', 'r') as f:\n",
    "    forecast = json.load(f)"
   ]
  },
  {
   "cell_type": "code",
   "execution_count": 21,
   "metadata": {
    "ExecuteTime": {
     "end_time": "2024-08-17T10:25:35.799114Z",
     "start_time": "2024-08-17T10:25:35.796532Z"
    },
    "slideshow": {
     "slide_type": "slide"
    },
    "tags": []
   },
   "outputs": [
    {
     "data": {
      "text/plain": [
       "\"{'cod': '200', 'message': 0, 'cnt': 40, 'list': [{'dt': 1757322000, 'main': {'temp': 287.38, 'feels_like': 287.21, 'temp_min': 287.38, 'temp_max': 291.32, 'pressure': 1022, 'sea_level': 1022, 'grnd_level': 971, 'humidity': 90, 'temp_kf': -3.94}, 'weather': [{'id': 803, 'main': 'Clouds', 'description': 'broken clouds', 'icon': '04d'}], 'clouds': {'all': 72}, 'wind': {'speed': 1.37, 'deg': 62, 'gust': 1.96}, 'visibility': 10000, 'pop': 0, 'sys': {'pod': 'd'}, 'dt_txt': '2025-09-08 09:00:00'}, {'dt': 1757332800, 'main': {'temp': 290.99, 'feels_like': 290.61, 'temp_min': 290.99, 'temp_max': 293.78, 'pressure': 1021, 'sea_level': 1021, 'grnd_level': 970, 'humidity': 68, 'temp_kf': -2.79}, 'weather': [{'id': 802, 'main': 'Clouds', 'description': 'scattered clouds', 'icon': '03d'}], 'clouds': {'all': 45}, 'wind': {'speed': 2.22, 'deg': 85, 'gust': 3.11}, 'visibility': 10000, 'pop': 0, 'sys': {'pod': 'd'}, 'dt_txt': '2025-09-08 12:00:00'}, {'dt': 1757343600, 'main': {'temp': 294.17, 'feels_like': 293.66, 'temp_min': 294.17, 'temp_max': 294.17, 'pressure': 1019, 'sea_level': 1019, 'grnd_level': 970, 'humidity': 51, 'temp_kf': 0}, 'weather': [{'id': 803, 'main': 'Clouds', 'description': 'broken clouds', 'icon': '04d'}], 'clouds': {'all': 66}, 'wind': {'speed': 2.42, 'deg': 104, 'gust': 3.25}, 'visibility': 10000, 'pop': 0, 'sys': {'pod': 'd'}, 'dt_txt': '2025-09-08 15:00:00'}, {'dt': 1757354400, 'main': {'temp': 290.51, 'feels_like': 290.08, 'temp_min': 290.51, 'temp_max': 290.51, 'pressure': 1019, 'sea_level': 1019, 'grnd_level': 970, 'humidity': 68, 'temp_kf': 0}, 'weather': [{'id': 803, 'main': 'Clouds', 'description': 'broken clouds', 'icon': '04d'}], 'clouds': {'all': 77}, 'wind': {'speed': 2.89, 'deg': 113, 'gust': 2.79}, 'visibility': 10000, 'pop': 0, 'sys': {'pod': 'd'}, 'dt_txt': '2025-09-08 18:00:00'}, {'dt': 1757365200, 'main': {'temp': 288.17, 'feels_like': 287.74, 'temp_min': 288.17, 'temp_max': 288.17, 'pressure': 1020, 'sea_level': 1020, 'grnd_level': 970, 'humidity': 77, 'temp_kf': 0}, 'weather': [{'id': 801, 'main': 'Clouds', 'description': 'few clouds', 'icon': '02n'}], 'clouds': {'all': 21}, 'wind': {'speed': 3.15, 'deg': 110, 'gust': 3.03}, 'visibility': 10000, 'pop': 0, 'sys': {'pod': 'n'}, 'dt_txt': '2025-09-08 21:00:00'}, {'dt': 1757376000, 'main': {'temp': 287.57, 'feels_like': 287.26, 'temp_min': 287.57, 'temp_max': 287.57, 'pressure': 1020, 'sea_level': 1020, 'grnd_level': 970, 'humidity': 84, 'temp_kf': 0}, 'weather': [{'id': 801, 'main': 'Clouds', 'description': 'few clouds', 'icon': '02n'}], 'clouds': {'all': 15}, 'wind': {'speed': 3.09, 'deg': 107, 'gust': 2.99}, 'visibility': 10000, 'pop': 0, 'sys': {'pod': 'n'}, 'dt_txt': '2025-09-09 00:00:00'}, {'dt': 1757386800, 'main': {'temp': 286.18, 'feels_like': 285.78, 'temp_min': 286.18, 'temp_max': 286.18, 'pressure': 1020, 'sea_level': 1020, 'grnd_level': 969, 'humidity': 86, 'temp_kf': 0}, 'weather': [{'id': 800, 'main': 'Clear', 'description': 'clear sky', 'icon': '01n'}], 'clouds': {'all': 4}, 'wind': {'speed': 2.71, 'deg': 103, 'gust': 2.66}, 'visibility': 10000, 'pop': 0, 'sys': {'pod': 'n'}, 'dt_txt': '2025-09-09 03:00:00'}, {'dt': 1757397600, 'main': {'temp': 288.07, 'feels_like': 287.73, 'temp_min': 288.07, 'temp_max': 288.07, 'pressure': 1020, 'sea_level': 1020, 'grnd_level': 970, 'humidity': 81, 'temp_kf': 0}, 'weather': [{'id': 801, 'main': 'Clouds', 'description': 'few clouds', 'icon': '02d'}], 'clouds': {'all': 17}, 'wind': {'speed': 1.98, 'deg': 91, 'gust': 2.27}, 'visibility': 10000, 'pop': 0, 'sys': {'pod': 'd'}, 'dt_txt': '2025-09-09 06:00:00'}, {'dt': 1757408400, 'main': {'temp': 292.15, 'feels_like': 291.83, 'temp_min': 292.15, 'temp_max': 292.15, 'pressure': 1020, 'sea_level': 1020, 'grnd_level': 970, 'humidity': 66, 'temp_kf': 0}, 'weather': [{'id': 800, 'main': 'Clear', 'description': 'clear sky', 'icon': '01d'}], 'clouds': {'all': 4}, 'wind': {'speed': 1.53, 'deg': 76, 'gust': 2.1}, 'visibility': 10000, 'pop': 0, 'sys': {'pod': 'd'}, 'dt_txt': '2025-09-09 09:00:00'}, {'dt': 1757419200, 'main': {'temp': 294.45, 'feels_like': 293.99, 'temp_min': 294.45, 'temp_max': 294.45, 'pressure': 1019, 'sea_level': 1019, 'grnd_level': 969, 'humidity': 52, 'temp_kf': 0}, 'weather': [{'id': 800, 'main': 'Clear', 'description': 'clear sky', 'icon': '01d'}], 'clouds': {'all': 5}, 'wind': {'speed': 0.81, 'deg': 178, 'gust': 2.25}, 'visibility': 10000, 'pop': 0, 'sys': {'pod': 'd'}, 'dt_txt': '2025-09-09 12:00:00'}, {'dt': 1757430000, 'main': {'temp': 294.76, 'feels_like': 294.26, 'temp_min': 294.76, 'temp_max': 294.76, 'pressure': 1018, 'sea_level': 1018, 'grnd_level': 969, 'humidity': 49, 'temp_kf': 0}, 'weather': [{'id': 803, 'main': 'Clouds', 'description': 'broken clouds', 'icon': '04d'}], 'clouds': {'all': 59}, 'wind': {'speed': 1.77, 'deg': 166, 'gust': 1.58}, 'visibility': 10000, 'pop': 0, 'sys': {'pod': 'd'}, 'dt_txt': '2025-09-09 15:00:00'}, {'dt': 1757440800, 'main': {'temp': 291.49, 'feels_like': 291.08, 'temp_min': 291.49, 'temp_max': 291.49, 'pressure': 1019, 'sea_level': 1019, 'grnd_level': 969, 'humidity': 65, 'temp_kf': 0}, 'weather': [{'id': 803, 'main': 'Clouds', 'description': 'broken clouds', 'icon': '04n'}], 'clouds': {'all': 82}, 'wind': {'speed': 1.18, 'deg': 267, 'gust': 0.82}, 'visibility': 10000, 'pop': 0, 'sys': {'pod': 'n'}, 'dt_txt': '2025-09-09 18:00:00'}, {'dt': 1757451600, 'main': {'temp': 288.21, 'feels_like': 287.68, 'temp_min': 288.21, 'temp_max': 288.21, 'pressure': 1020, 'sea_level': 1020, 'grnd_level': 970, 'humidity': 73, 'temp_kf': 0}, 'weather': [{'id': 804, 'main': 'Clouds', 'description': 'overcast clouds', 'icon': '04n'}], 'clouds': {'all': 94}, 'wind': {'speed': 1.86, 'deg': 115, 'gust': 1.77}, 'visibility': 10000, 'pop': 0, 'sys': {'pod': 'n'}, 'dt_txt': '2025-09-09 21:00:00'}, {'dt': 1757462400, 'main': {'temp': 288.23, 'feels_like': 287.65, 'temp_min': 288.23, 'temp_max': 288.23, 'pressure': 1020, 'sea_level': 1020, 'grnd_level': 970, 'humidity': 71, 'temp_kf': 0}, 'weather': [{'id': 804, 'main': 'Clouds', 'description': 'overcast clouds', 'icon': '04n'}], 'clouds': {'all': 86}, 'wind': {'speed': 1.66, 'deg': 62, 'gust': 1.44}, 'visibility': 10000, 'pop': 0, 'sys': {'pod': 'n'}, 'dt_txt': '2025-09-10 00:00:00'}, {'dt': 1757473200, 'main': {'temp': 289.13, 'feels_like': 288.64, 'temp_min': 289.13, 'temp_max': 289.13, 'pressure': 1019, 'sea_level': 1019, 'grnd_level': 969, 'humidity': 71, 'temp_kf': 0}, 'weather': [{'id': 804, 'main': 'Clouds', 'description': 'overcast clouds', 'icon': '04n'}], 'clouds': {'all': 92}, 'wind': {'speed': 1.95, 'deg': 75, 'gust': 1.72}, 'visibility': 10000, 'pop': 0, 'sys': {'pod': 'n'}, 'dt_txt': '2025-09-10 03:00:00'}, {'dt': 1757484000, 'main': {'temp': 289.93, 'feels_like': 289.6, 'temp_min': 289.93, 'temp_max': 289.93, 'pressure': 1019, 'sea_level': 1019, 'grnd_level': 969, 'humidity': 74, 'temp_kf': 0}, 'weather': [{'id': 804, 'main': 'Clouds', 'description': 'overcast clouds', 'icon': '04d'}], 'clouds': {'all': 85}, 'wind': {'speed': 2.32, 'deg': 89, 'gust': 2.72}, 'visibility': 10000, 'pop': 0, 'sys': {'pod': 'd'}, 'dt_txt': '2025-09-10 06:00:00'}, {'dt': 1757494800, 'main': {'temp': 293.53, 'feels_like': 293.24, 'temp_min': 293.53, 'temp_max': 293.53, 'pressure': 1018, 'sea_level': 1018, 'grnd_level': 969, 'humidity': 62, 'temp_kf': 0}, 'weather': [{'id': 800, 'main': 'Clear', 'description': 'clear sky', 'icon': '01d'}], 'clouds': {'all': 0}, 'wind': {'speed': 2, 'deg': 121, 'gust': 2.37}, 'visibility': 10000, 'pop': 0, 'sys': {'pod': 'd'}, 'dt_txt': '2025-09-10 09:00:00'}, {'dt': 1757505600, 'main': {'temp': 294.75, 'feels_like': 294.35, 'temp_min': 294.75, 'temp_max': 294.75, 'pressure': 1018, 'sea_level': 1018, 'grnd_level': 968, 'humidity': 53, 'temp_kf': 0}, 'weather': [{'id': 800, 'main': 'Clear', 'description': 'clear sky', 'icon': '01d'}], 'clouds': {'all': 0}, 'wind': {'speed': 2.09, 'deg': 127, 'gust': 3.62}, 'visibility': 10000, 'pop': 0, 'sys': {'pod': 'd'}, 'dt_txt': '2025-09-10 12:00:00'}, {'dt': 1757516400, 'main': {'temp': 295.17, 'feels_like': 294.89, 'temp_min': 295.17, 'temp_max': 295.17, 'pressure': 1017, 'sea_level': 1017, 'grnd_level': 968, 'humidity': 56, 'temp_kf': 0}, 'weather': [{'id': 802, 'main': 'Clouds', 'description': 'scattered clouds', 'icon': '03d'}], 'clouds': {'all': 27}, 'wind': {'speed': 4.31, 'deg': 148, 'gust': 5.71}, 'visibility': 10000, 'pop': 0, 'sys': {'pod': 'd'}, 'dt_txt': '2025-09-10 15:00:00'}, {'dt': 1757527200, 'main': {'temp': 290.62, 'feels_like': 290.33, 'temp_min': 290.62, 'temp_max': 290.62, 'pressure': 1018, 'sea_level': 1018, 'grnd_level': 968, 'humidity': 73, 'temp_kf': 0}, 'weather': [{'id': 802, 'main': 'Clouds', 'description': 'scattered clouds', 'icon': '03n'}], 'clouds': {'all': 30}, 'wind': {'speed': 3.41, 'deg': 79, 'gust': 2.95}, 'visibility': 10000, 'pop': 0, 'sys': {'pod': 'n'}, 'dt_txt': '2025-09-10 18:00:00'}, {'dt': 1757538000, 'main': {'temp': 288.72, 'feels_like': 288.45, 'temp_min': 288.72, 'temp_max': 288.72, 'pressure': 1018, 'sea_level': 1018, 'grnd_level': 968, 'humidity': 81, 'temp_kf': 0}, 'weather': [{'id': 801, 'main': 'Clouds', 'description': 'few clouds', 'icon': '02n'}], 'clouds': {'all': 16}, 'wind': {'speed': 3.41, 'deg': 102, 'gust': 3.38}, 'visibility': 10000, 'pop': 0, 'sys': {'pod': 'n'}, 'dt_txt': '2025-09-10 21:00:00'}, {'dt': 1757548800, 'main': {'temp': 287.66, 'feels_like': 287.41, 'temp_min': 287.66, 'temp_max': 287.66, 'pressure': 1018, 'sea_level': 1018, 'grnd_level': 967, 'humidity': 86, 'temp_kf': 0}, 'weather': [{'id': 801, 'main': 'Clouds', 'description': 'few clouds', 'icon': '02n'}], 'clouds': {'all': 11}, 'wind': {'speed': 3.71, 'deg': 94, 'gust': 3.79}, 'visibility': 10000, 'pop': 0, 'sys': {'pod': 'n'}, 'dt_txt': '2025-09-11 00:00:00'}, {'dt': 1757559600, 'main': {'temp': 286.3, 'feels_like': 286.02, 'temp_min': 286.3, 'temp_max': 286.3, 'pressure': 1017, 'sea_level': 1017, 'grnd_level': 967, 'humidity': 90, 'temp_kf': 0}, 'weather': [{'id': 800, 'main': 'Clear', 'description': 'clear sky', 'icon': '01n'}], 'clouds': {'all': 4}, 'wind': {'speed': 4.01, 'deg': 94, 'gust': 4.18}, 'visibility': 10000, 'pop': 0, 'sys': {'pod': 'n'}, 'dt_txt': '2025-09-11 03:00:00'}, {'dt': 1757570400, 'main': {'temp': 288.13, 'feels_like': 287.82, 'temp_min': 288.13, 'temp_max': 288.13, 'pressure': 1016, 'sea_level': 1016, 'grnd_level': 966, 'humidity': 82, 'temp_kf': 0}, 'weather': [{'id': 802, 'main': 'Clouds', 'description': 'scattered clouds', 'icon': '03d'}], 'clouds': {'all': 37}, 'wind': {'speed': 4.24, 'deg': 81, 'gust': 5.79}, 'visibility': 10000, 'pop': 0, 'sys': {'pod': 'd'}, 'dt_txt': '2025-09-11 06:00:00'}, {'dt': 1757581200, 'main': {'temp': 292.27, 'feels_like': 291.86, 'temp_min': 292.27, 'temp_max': 292.27, 'pressure': 1014, 'sea_level': 1014, 'grnd_level': 965, 'humidity': 62, 'temp_kf': 0}, 'weather': [{'id': 803, 'main': 'Clouds', 'description': 'broken clouds', 'icon': '04d'}], 'clouds': {'all': 78}, 'wind': {'speed': 5.5, 'deg': 84, 'gust': 8.53}, 'visibility': 10000, 'pop': 0, 'sys': {'pod': 'd'}, 'dt_txt': '2025-09-11 09:00:00'}, {'dt': 1757592000, 'main': {'temp': 290.8, 'feels_like': 290.61, 'temp_min': 290.8, 'temp_max': 290.8, 'pressure': 1013, 'sea_level': 1013, 'grnd_level': 963, 'humidity': 76, 'temp_kf': 0}, 'weather': [{'id': 500, 'main': 'Rain', 'description': 'light rain', 'icon': '10d'}], 'clouds': {'all': 89}, 'wind': {'speed': 4.82, 'deg': 72, 'gust': 7.13}, 'visibility': 10000, 'pop': 0.28, 'rain': {'3h': 0.44}, 'sys': {'pod': 'd'}, 'dt_txt': '2025-09-11 12:00:00'}, {'dt': 1757602800, 'main': {'temp': 290.15, 'feels_like': 290.05, 'temp_min': 290.15, 'temp_max': 290.15, 'pressure': 1011, 'sea_level': 1011, 'grnd_level': 961, 'humidity': 82, 'temp_kf': 0}, 'weather': [{'id': 804, 'main': 'Clouds', 'description': 'overcast clouds', 'icon': '04d'}], 'clouds': {'all': 100}, 'wind': {'speed': 2.94, 'deg': 66, 'gust': 3.5}, 'visibility': 10000, 'pop': 0, 'sys': {'pod': 'd'}, 'dt_txt': '2025-09-11 15:00:00'}, {'dt': 1757613600, 'main': {'temp': 290.75, 'feels_like': 290.73, 'temp_min': 290.75, 'temp_max': 290.75, 'pressure': 1009, 'sea_level': 1009, 'grnd_level': 959, 'humidity': 83, 'temp_kf': 0}, 'weather': [{'id': 804, 'main': 'Clouds', 'description': 'overcast clouds', 'icon': '04n'}], 'clouds': {'all': 100}, 'wind': {'speed': 3.81, 'deg': 63, 'gust': 4.49}, 'visibility': 10000, 'pop': 0, 'sys': {'pod': 'n'}, 'dt_txt': '2025-09-11 18:00:00'}, {'dt': 1757624400, 'main': {'temp': 289.96, 'feels_like': 289.97, 'temp_min': 289.96, 'temp_max': 289.96, 'pressure': 1007, 'sea_level': 1007, 'grnd_level': 957, 'humidity': 87, 'temp_kf': 0}, 'weather': [{'id': 500, 'main': 'Rain', 'description': 'light rain', 'icon': '10n'}], 'clouds': {'all': 100}, 'wind': {'speed': 4.01, 'deg': 76, 'gust': 4.62}, 'visibility': 9342, 'pop': 0.75, 'rain': {'3h': 0.53}, 'sys': {'pod': 'n'}, 'dt_txt': '2025-09-11 21:00:00'}, {'dt': 1757635200, 'main': {'temp': 290.53, 'feels_like': 290.23, 'temp_min': 290.53, 'temp_max': 290.53, 'pressure': 1003, 'sea_level': 1003, 'grnd_level': 954, 'humidity': 73, 'temp_kf': 0}, 'weather': [{'id': 500, 'main': 'Rain', 'description': 'light rain', 'icon': '10n'}], 'clouds': {'all': 100}, 'wind': {'speed': 12.62, 'deg': 110, 'gust': 23.99}, 'visibility': 10000, 'pop': 1, 'rain': {'3h': 0.95}, 'sys': {'pod': 'n'}, 'dt_txt': '2025-09-12 00:00:00'}, {'dt': 1757646000, 'main': {'temp': 289.34, 'feels_like': 289.08, 'temp_min': 289.34, 'temp_max': 289.34, 'pressure': 1001, 'sea_level': 1001, 'grnd_level': 952, 'humidity': 79, 'temp_kf': 0}, 'weather': [{'id': 500, 'main': 'Rain', 'description': 'light rain', 'icon': '10n'}], 'clouds': {'all': 100}, 'wind': {'speed': 5.01, 'deg': 94, 'gust': 10.01}, 'visibility': 10000, 'pop': 0.25, 'rain': {'3h': 0.25}, 'sys': {'pod': 'n'}, 'dt_txt': '2025-09-12 03:00:00'}, {'dt': 1757656800, 'main': {'temp': 288.36, 'feels_like': 288.23, 'temp_min': 288.36, 'temp_max': 288.36, 'pressure': 1002, 'sea_level': 1002, 'grnd_level': 953, 'humidity': 88, 'temp_kf': 0}, 'weather': [{'id': 500, 'main': 'Rain', 'description': 'light rain', 'icon': '10d'}], 'clouds': {'all': 100}, 'wind': {'speed': 2.95, 'deg': 89, 'gust': 3.86}, 'visibility': 10000, 'pop': 1, 'rain': {'3h': 0.97}, 'sys': {'pod': 'd'}, 'dt_txt': '2025-09-12 06:00:00'}, {'dt': 1757667600, 'main': {'temp': 289.43, 'feels_like': 289.33, 'temp_min': 289.43, 'temp_max': 289.43, 'pressure': 1003, 'sea_level': 1003, 'grnd_level': 954, 'humidity': 85, 'temp_kf': 0}, 'weather': [{'id': 804, 'main': 'Clouds', 'description': 'overcast clouds', 'icon': '04d'}], 'clouds': {'all': 100}, 'wind': {'speed': 2.74, 'deg': 89, 'gust': 3.2}, 'visibility': 10000, 'pop': 0, 'sys': {'pod': 'd'}, 'dt_txt': '2025-09-12 09:00:00'}, {'dt': 1757678400, 'main': {'temp': 292.98, 'feels_like': 292.66, 'temp_min': 292.98, 'temp_max': 292.98, 'pressure': 1004, 'sea_level': 1004, 'grnd_level': 955, 'humidity': 63, 'temp_kf': 0}, 'weather': [{'id': 500, 'main': 'Rain', 'description': 'light rain', 'icon': '10d'}], 'clouds': {'all': 90}, 'wind': {'speed': 3.1, 'deg': 116, 'gust': 5.31}, 'visibility': 10000, 'pop': 0.2, 'rain': {'3h': 0.25}, 'sys': {'pod': 'd'}, 'dt_txt': '2025-09-12 12:00:00'}, {'dt': 1757689200, 'main': {'temp': 292.81, 'feels_like': 292.37, 'temp_min': 292.81, 'temp_max': 292.81, 'pressure': 1004, 'sea_level': 1004, 'grnd_level': 955, 'humidity': 59, 'temp_kf': 0}, 'weather': [{'id': 500, 'main': 'Rain', 'description': 'light rain', 'icon': '10d'}], 'clouds': {'all': 91}, 'wind': {'speed': 2.64, 'deg': 141, 'gust': 5.11}, 'visibility': 10000, 'pop': 0.83, 'rain': {'3h': 0.45}, 'sys': {'pod': 'd'}, 'dt_txt': '2025-09-12 15:00:00'}, {'dt': 1757700000, 'main': {'temp': 287.72, 'feels_like': 287.32, 'temp_min': 287.72, 'temp_max': 287.72, 'pressure': 1006, 'sea_level': 1006, 'grnd_level': 957, 'humidity': 80, 'temp_kf': 0}, 'weather': [{'id': 500, 'main': 'Rain', 'description': 'light rain', 'icon': '10n'}], 'clouds': {'all': 97}, 'wind': {'speed': 2.37, 'deg': 153, 'gust': 2.12}, 'visibility': 10000, 'pop': 1, 'rain': {'3h': 1.17}, 'sys': {'pod': 'n'}, 'dt_txt': '2025-09-12 18:00:00'}, {'dt': 1757710800, 'main': {'temp': 285.3, 'feels_like': 284.82, 'temp_min': 285.3, 'temp_max': 285.3, 'pressure': 1008, 'sea_level': 1008, 'grnd_level': 958, 'humidity': 86, 'temp_kf': 0}, 'weather': [{'id': 500, 'main': 'Rain', 'description': 'light rain', 'icon': '10n'}], 'clouds': {'all': 27}, 'wind': {'speed': 2.03, 'deg': 143, 'gust': 1.91}, 'visibility': 10000, 'pop': 1, 'rain': {'3h': 0.88}, 'sys': {'pod': 'n'}, 'dt_txt': '2025-09-12 21:00:00'}, {'dt': 1757721600, 'main': {'temp': 284.68, 'feels_like': 284.11, 'temp_min': 284.68, 'temp_max': 284.68, 'pressure': 1008, 'sea_level': 1008, 'grnd_level': 958, 'humidity': 85, 'temp_kf': 0}, 'weather': [{'id': 500, 'main': 'Rain', 'description': 'light rain', 'icon': '10n'}], 'clouds': {'all': 17}, 'wind': {'speed': 2.09, 'deg': 113, 'gust': 2.06}, 'visibility': 10000, 'pop': 0.96, 'rain': {'3h': 0.13}, 'sys': {'pod': 'n'}, 'dt_txt': '2025-09-13 00:00:00'}, {'dt': 1757732400, 'main': {'temp': 284.65, 'feels_like': 284.21, 'temp_min': 284.65, 'temp_max': 284.65, 'pressure': 1008, 'sea_level': 1008, 'grnd_level': 958, 'humidity': 90, 'temp_kf': 0}, 'weather': [{'id': 500, 'main': 'Rain', 'description': 'light rain', 'icon': '10n'}], 'clouds': {'all': 96}, 'wind': {'speed': 0.37, 'deg': 241, 'gust': 0.21}, 'visibility': 10000, 'pop': 1, 'rain': {'3h': 1.38}, 'sys': {'pod': 'n'}, 'dt_txt': '2025-09-13 03:00:00'}, {'dt': 1757743200, 'main': {'temp': 285.33, 'feels_like': 284.88, 'temp_min': 285.33, 'temp_max': 285.33, 'pressure': 1009, 'sea_level': 1009, 'grnd_level': 959, 'humidity': 87, 'temp_kf': 0}, 'weather': [{'id': 500, 'main': 'Rain', 'description': 'light rain', 'icon': '10d'}], 'clouds': {'all': 95}, 'wind': {'speed': 0.66, 'deg': 162, 'gust': 0.64}, 'visibility': 10000, 'pop': 1, 'rain': {'3h': 0.48}, 'sys': {'pod': 'd'}, 'dt_txt': '2025-09-13 06:00:00'}], 'city': {'id': 3145614, 'name': 'Mo i Rana', 'coord': {'lat': 66.3128, 'lon': 14.1428}, 'country': 'NO', 'population': 17853, 'timezone': 7200, 'sunrise': 1757304041, 'sunset': 1757354515}}\""
      ]
     },
     "execution_count": 21,
     "metadata": {},
     "output_type": "execute_result"
    }
   ],
   "source": [
    "# Inspect JSON file\n",
    "forecast.__str__()"
   ]
  },
  {
   "cell_type": "markdown",
   "metadata": {
    "slideshow": {
     "slide_type": "slide"
    }
   },
   "source": [
    "## Raw JSON\n",
    "- A simple, but not very efficient way of storing JSON data is to treat it as a text and save it directly to the database.  \n",
    "- More efficient, with regard to transfer, is to compress the JSON data to a blob first.\n",
    "    - Compression is automatic."
   ]
  },
  {
   "cell_type": "code",
   "execution_count": 22,
   "metadata": {
    "ExecuteTime": {
     "end_time": "2024-08-17T10:25:35.916537Z",
     "start_time": "2024-08-17T10:25:35.799572Z"
    },
    "slideshow": {
     "slide_type": "fragment"
    },
    "tags": []
   },
   "outputs": [
    {
     "data": {
      "text/plain": [
       "<cassandra.cluster.ResultSet at 0x102b8f6e0>"
      ]
     },
     "execution_count": 22,
     "metadata": {},
     "output_type": "execute_result"
    }
   ],
   "source": [
    "# Create a new table which treats the whole JSON as a blob, using the city id and the first dt as keys\n",
    "session.set_keyspace('my_first_keyspace')\n",
    "session.execute(\"DROP TABLE IF EXISTS my_first_keyspace.forecast_table;\")\n",
    "session.execute(\"CREATE TABLE IF NOT EXISTS forecast_table (city_id int, dt int, forecast blob, PRIMARY KEY(city_id, dt));\")"
   ]
  },
  {
   "cell_type": "markdown",
   "metadata": {
    "slideshow": {
     "slide_type": "slide"
    }
   },
   "source": [
    "### Insert the forecast data into the table as text blob"
   ]
  },
  {
   "cell_type": "code",
   "execution_count": 23,
   "metadata": {
    "ExecuteTime": {
     "end_time": "2024-08-17T10:25:35.935855Z",
     "start_time": "2024-08-17T10:25:35.917175Z"
    },
    "slideshow": {
     "slide_type": "fragment"
    },
    "tags": []
   },
   "outputs": [
    {
     "data": {
      "text/plain": [
       "<cassandra.cluster.ResultSet at 0x1079767b0>"
      ]
     },
     "execution_count": 23,
     "metadata": {},
     "output_type": "execute_result"
    }
   ],
   "source": [
    "session.execute(\"INSERT INTO forecast_table (city_id, dt, forecast) VALUES (%s, %s, textAsBlob(%s));\", (forecast['city']['id'], forecast['list'][0]['dt'], forecast.__str__()))"
   ]
  },
  {
   "cell_type": "code",
   "execution_count": 24,
   "metadata": {
    "ExecuteTime": {
     "end_time": "2024-08-17T10:25:35.946537Z",
     "start_time": "2024-08-17T10:25:35.938642Z"
    },
    "slideshow": {
     "slide_type": "slide"
    },
    "tags": []
   },
   "outputs": [
    {
     "name": "stdout",
     "output_type": "stream",
     "text": [
      "Row(city_id=3145614, dt=1757322000, forecast=b\"{'cod': '200', 'message': 0, 'cnt': 40, 'list': [{'dt': 1757322000, 'main': {'temp': 287.38, 'feels_like': 287.21, 'temp_min': 287.38, 'temp_max': 291.32, 'pressure': 1022, 'sea_level': 1022, 'grnd_level': 971, 'humidity': 90, 'temp_kf': -3.94}, 'weather': [{'id': 803, 'main': 'Clouds', 'description': 'broken clouds', 'icon': '04d'}], 'clouds': {'all': 72}, 'wind': {'speed': 1.37, 'deg': 62, 'gust': 1.96}, 'visibility': 10000, 'pop': 0, 'sys': {'pod': 'd'}, 'dt_txt': '2025-09-08 09:00:00'}, {'dt': 1757332800, 'main': {'temp': 290.99, 'feels_like': 290.61, 'temp_min': 290.99, 'temp_max': 293.78, 'pressure': 1021, 'sea_level': 1021, 'grnd_level': 970, 'humidity': 68, 'temp_kf': -2.79}, 'weather': [{'id': 802, 'main': 'Clouds', 'description': 'scattered clouds', 'icon': '03d'}], 'clouds': {'all': 45}, 'wind': {'speed': 2.22, 'deg': 85, 'gust': 3.11}, 'visibility': 10000, 'pop': 0, 'sys': {'pod': 'd'}, 'dt_txt': '2025-09-08 12:00:00'}, {'dt': 1757343600, 'main': {'temp': 294.17, 'feels_like': 293.66, 'temp_min': 294.17, 'temp_max': 294.17, 'pressure': 1019, 'sea_level': 1019, 'grnd_level': 970, 'humidity': 51, 'temp_kf': 0}, 'weather': [{'id': 803, 'main': 'Clouds', 'description': 'broken clouds', 'icon': '04d'}], 'clouds': {'all': 66}, 'wind': {'speed': 2.42, 'deg': 104, 'gust': 3.25}, 'visibility': 10000, 'pop': 0, 'sys': {'pod': 'd'}, 'dt_txt': '2025-09-08 15:00:00'}, {'dt': 1757354400, 'main': {'temp': 290.51, 'feels_like': 290.08, 'temp_min': 290.51, 'temp_max': 290.51, 'pressure': 1019, 'sea_level': 1019, 'grnd_level': 970, 'humidity': 68, 'temp_kf': 0}, 'weather': [{'id': 803, 'main': 'Clouds', 'description': 'broken clouds', 'icon': '04d'}], 'clouds': {'all': 77}, 'wind': {'speed': 2.89, 'deg': 113, 'gust': 2.79}, 'visibility': 10000, 'pop': 0, 'sys': {'pod': 'd'}, 'dt_txt': '2025-09-08 18:00:00'}, {'dt': 1757365200, 'main': {'temp': 288.17, 'feels_like': 287.74, 'temp_min': 288.17, 'temp_max': 288.17, 'pressure': 1020, 'sea_level': 1020, 'grnd_level': 970, 'humidity': 77, 'temp_kf': 0}, 'weather': [{'id': 801, 'main': 'Clouds', 'description': 'few clouds', 'icon': '02n'}], 'clouds': {'all': 21}, 'wind': {'speed': 3.15, 'deg': 110, 'gust': 3.03}, 'visibility': 10000, 'pop': 0, 'sys': {'pod': 'n'}, 'dt_txt': '2025-09-08 21:00:00'}, {'dt': 1757376000, 'main': {'temp': 287.57, 'feels_like': 287.26, 'temp_min': 287.57, 'temp_max': 287.57, 'pressure': 1020, 'sea_level': 1020, 'grnd_level': 970, 'humidity': 84, 'temp_kf': 0}, 'weather': [{'id': 801, 'main': 'Clouds', 'description': 'few clouds', 'icon': '02n'}], 'clouds': {'all': 15}, 'wind': {'speed': 3.09, 'deg': 107, 'gust': 2.99}, 'visibility': 10000, 'pop': 0, 'sys': {'pod': 'n'}, 'dt_txt': '2025-09-09 00:00:00'}, {'dt': 1757386800, 'main': {'temp': 286.18, 'feels_like': 285.78, 'temp_min': 286.18, 'temp_max': 286.18, 'pressure': 1020, 'sea_level': 1020, 'grnd_level': 969, 'humidity': 86, 'temp_kf': 0}, 'weather': [{'id': 800, 'main': 'Clear', 'description': 'clear sky', 'icon': '01n'}], 'clouds': {'all': 4}, 'wind': {'speed': 2.71, 'deg': 103, 'gust': 2.66}, 'visibility': 10000, 'pop': 0, 'sys': {'pod': 'n'}, 'dt_txt': '2025-09-09 03:00:00'}, {'dt': 1757397600, 'main': {'temp': 288.07, 'feels_like': 287.73, 'temp_min': 288.07, 'temp_max': 288.07, 'pressure': 1020, 'sea_level': 1020, 'grnd_level': 970, 'humidity': 81, 'temp_kf': 0}, 'weather': [{'id': 801, 'main': 'Clouds', 'description': 'few clouds', 'icon': '02d'}], 'clouds': {'all': 17}, 'wind': {'speed': 1.98, 'deg': 91, 'gust': 2.27}, 'visibility': 10000, 'pop': 0, 'sys': {'pod': 'd'}, 'dt_txt': '2025-09-09 06:00:00'}, {'dt': 1757408400, 'main': {'temp': 292.15, 'feels_like': 291.83, 'temp_min': 292.15, 'temp_max': 292.15, 'pressure': 1020, 'sea_level': 1020, 'grnd_level': 970, 'humidity': 66, 'temp_kf': 0}, 'weather': [{'id': 800, 'main': 'Clear', 'description': 'clear sky', 'icon': '01d'}], 'clouds': {'all': 4}, 'wind': {'speed': 1.53, 'deg': 76, 'gust': 2.1}, 'visibility': 10000, 'pop': 0, 'sys': {'pod': 'd'}, 'dt_txt': '2025-09-09 09:00:00'}, {'dt': 1757419200, 'main': {'temp': 294.45, 'feels_like': 293.99, 'temp_min': 294.45, 'temp_max': 294.45, 'pressure': 1019, 'sea_level': 1019, 'grnd_level': 969, 'humidity': 52, 'temp_kf': 0}, 'weather': [{'id': 800, 'main': 'Clear', 'description': 'clear sky', 'icon': '01d'}], 'clouds': {'all': 5}, 'wind': {'speed': 0.81, 'deg': 178, 'gust': 2.25}, 'visibility': 10000, 'pop': 0, 'sys': {'pod': 'd'}, 'dt_txt': '2025-09-09 12:00:00'}, {'dt': 1757430000, 'main': {'temp': 294.76, 'feels_like': 294.26, 'temp_min': 294.76, 'temp_max': 294.76, 'pressure': 1018, 'sea_level': 1018, 'grnd_level': 969, 'humidity': 49, 'temp_kf': 0}, 'weather': [{'id': 803, 'main': 'Clouds', 'description': 'broken clouds', 'icon': '04d'}], 'clouds': {'all': 59}, 'wind': {'speed': 1.77, 'deg': 166, 'gust': 1.58}, 'visibility': 10000, 'pop': 0, 'sys': {'pod': 'd'}, 'dt_txt': '2025-09-09 15:00:00'}, {'dt': 1757440800, 'main': {'temp': 291.49, 'feels_like': 291.08, 'temp_min': 291.49, 'temp_max': 291.49, 'pressure': 1019, 'sea_level': 1019, 'grnd_level': 969, 'humidity': 65, 'temp_kf': 0}, 'weather': [{'id': 803, 'main': 'Clouds', 'description': 'broken clouds', 'icon': '04n'}], 'clouds': {'all': 82}, 'wind': {'speed': 1.18, 'deg': 267, 'gust': 0.82}, 'visibility': 10000, 'pop': 0, 'sys': {'pod': 'n'}, 'dt_txt': '2025-09-09 18:00:00'}, {'dt': 1757451600, 'main': {'temp': 288.21, 'feels_like': 287.68, 'temp_min': 288.21, 'temp_max': 288.21, 'pressure': 1020, 'sea_level': 1020, 'grnd_level': 970, 'humidity': 73, 'temp_kf': 0}, 'weather': [{'id': 804, 'main': 'Clouds', 'description': 'overcast clouds', 'icon': '04n'}], 'clouds': {'all': 94}, 'wind': {'speed': 1.86, 'deg': 115, 'gust': 1.77}, 'visibility': 10000, 'pop': 0, 'sys': {'pod': 'n'}, 'dt_txt': '2025-09-09 21:00:00'}, {'dt': 1757462400, 'main': {'temp': 288.23, 'feels_like': 287.65, 'temp_min': 288.23, 'temp_max': 288.23, 'pressure': 1020, 'sea_level': 1020, 'grnd_level': 970, 'humidity': 71, 'temp_kf': 0}, 'weather': [{'id': 804, 'main': 'Clouds', 'description': 'overcast clouds', 'icon': '04n'}], 'clouds': {'all': 86}, 'wind': {'speed': 1.66, 'deg': 62, 'gust': 1.44}, 'visibility': 10000, 'pop': 0, 'sys': {'pod': 'n'}, 'dt_txt': '2025-09-10 00:00:00'}, {'dt': 1757473200, 'main': {'temp': 289.13, 'feels_like': 288.64, 'temp_min': 289.13, 'temp_max': 289.13, 'pressure': 1019, 'sea_level': 1019, 'grnd_level': 969, 'humidity': 71, 'temp_kf': 0}, 'weather': [{'id': 804, 'main': 'Clouds', 'description': 'overcast clouds', 'icon': '04n'}], 'clouds': {'all': 92}, 'wind': {'speed': 1.95, 'deg': 75, 'gust': 1.72}, 'visibility': 10000, 'pop': 0, 'sys': {'pod': 'n'}, 'dt_txt': '2025-09-10 03:00:00'}, {'dt': 1757484000, 'main': {'temp': 289.93, 'feels_like': 289.6, 'temp_min': 289.93, 'temp_max': 289.93, 'pressure': 1019, 'sea_level': 1019, 'grnd_level': 969, 'humidity': 74, 'temp_kf': 0}, 'weather': [{'id': 804, 'main': 'Clouds', 'description': 'overcast clouds', 'icon': '04d'}], 'clouds': {'all': 85}, 'wind': {'speed': 2.32, 'deg': 89, 'gust': 2.72}, 'visibility': 10000, 'pop': 0, 'sys': {'pod': 'd'}, 'dt_txt': '2025-09-10 06:00:00'}, {'dt': 1757494800, 'main': {'temp': 293.53, 'feels_like': 293.24, 'temp_min': 293.53, 'temp_max': 293.53, 'pressure': 1018, 'sea_level': 1018, 'grnd_level': 969, 'humidity': 62, 'temp_kf': 0}, 'weather': [{'id': 800, 'main': 'Clear', 'description': 'clear sky', 'icon': '01d'}], 'clouds': {'all': 0}, 'wind': {'speed': 2, 'deg': 121, 'gust': 2.37}, 'visibility': 10000, 'pop': 0, 'sys': {'pod': 'd'}, 'dt_txt': '2025-09-10 09:00:00'}, {'dt': 1757505600, 'main': {'temp': 294.75, 'feels_like': 294.35, 'temp_min': 294.75, 'temp_max': 294.75, 'pressure': 1018, 'sea_level': 1018, 'grnd_level': 968, 'humidity': 53, 'temp_kf': 0}, 'weather': [{'id': 800, 'main': 'Clear', 'description': 'clear sky', 'icon': '01d'}], 'clouds': {'all': 0}, 'wind': {'speed': 2.09, 'deg': 127, 'gust': 3.62}, 'visibility': 10000, 'pop': 0, 'sys': {'pod': 'd'}, 'dt_txt': '2025-09-10 12:00:00'}, {'dt': 1757516400, 'main': {'temp': 295.17, 'feels_like': 294.89, 'temp_min': 295.17, 'temp_max': 295.17, 'pressure': 1017, 'sea_level': 1017, 'grnd_level': 968, 'humidity': 56, 'temp_kf': 0}, 'weather': [{'id': 802, 'main': 'Clouds', 'description': 'scattered clouds', 'icon': '03d'}], 'clouds': {'all': 27}, 'wind': {'speed': 4.31, 'deg': 148, 'gust': 5.71}, 'visibility': 10000, 'pop': 0, 'sys': {'pod': 'd'}, 'dt_txt': '2025-09-10 15:00:00'}, {'dt': 1757527200, 'main': {'temp': 290.62, 'feels_like': 290.33, 'temp_min': 290.62, 'temp_max': 290.62, 'pressure': 1018, 'sea_level': 1018, 'grnd_level': 968, 'humidity': 73, 'temp_kf': 0}, 'weather': [{'id': 802, 'main': 'Clouds', 'description': 'scattered clouds', 'icon': '03n'}], 'clouds': {'all': 30}, 'wind': {'speed': 3.41, 'deg': 79, 'gust': 2.95}, 'visibility': 10000, 'pop': 0, 'sys': {'pod': 'n'}, 'dt_txt': '2025-09-10 18:00:00'}, {'dt': 1757538000, 'main': {'temp': 288.72, 'feels_like': 288.45, 'temp_min': 288.72, 'temp_max': 288.72, 'pressure': 1018, 'sea_level': 1018, 'grnd_level': 968, 'humidity': 81, 'temp_kf': 0}, 'weather': [{'id': 801, 'main': 'Clouds', 'description': 'few clouds', 'icon': '02n'}], 'clouds': {'all': 16}, 'wind': {'speed': 3.41, 'deg': 102, 'gust': 3.38}, 'visibility': 10000, 'pop': 0, 'sys': {'pod': 'n'}, 'dt_txt': '2025-09-10 21:00:00'}, {'dt': 1757548800, 'main': {'temp': 287.66, 'feels_like': 287.41, 'temp_min': 287.66, 'temp_max': 287.66, 'pressure': 1018, 'sea_level': 1018, 'grnd_level': 967, 'humidity': 86, 'temp_kf': 0}, 'weather': [{'id': 801, 'main': 'Clouds', 'description': 'few clouds', 'icon': '02n'}], 'clouds': {'all': 11}, 'wind': {'speed': 3.71, 'deg': 94, 'gust': 3.79}, 'visibility': 10000, 'pop': 0, 'sys': {'pod': 'n'}, 'dt_txt': '2025-09-11 00:00:00'}, {'dt': 1757559600, 'main': {'temp': 286.3, 'feels_like': 286.02, 'temp_min': 286.3, 'temp_max': 286.3, 'pressure': 1017, 'sea_level': 1017, 'grnd_level': 967, 'humidity': 90, 'temp_kf': 0}, 'weather': [{'id': 800, 'main': 'Clear', 'description': 'clear sky', 'icon': '01n'}], 'clouds': {'all': 4}, 'wind': {'speed': 4.01, 'deg': 94, 'gust': 4.18}, 'visibility': 10000, 'pop': 0, 'sys': {'pod': 'n'}, 'dt_txt': '2025-09-11 03:00:00'}, {'dt': 1757570400, 'main': {'temp': 288.13, 'feels_like': 287.82, 'temp_min': 288.13, 'temp_max': 288.13, 'pressure': 1016, 'sea_level': 1016, 'grnd_level': 966, 'humidity': 82, 'temp_kf': 0}, 'weather': [{'id': 802, 'main': 'Clouds', 'description': 'scattered clouds', 'icon': '03d'}], 'clouds': {'all': 37}, 'wind': {'speed': 4.24, 'deg': 81, 'gust': 5.79}, 'visibility': 10000, 'pop': 0, 'sys': {'pod': 'd'}, 'dt_txt': '2025-09-11 06:00:00'}, {'dt': 1757581200, 'main': {'temp': 292.27, 'feels_like': 291.86, 'temp_min': 292.27, 'temp_max': 292.27, 'pressure': 1014, 'sea_level': 1014, 'grnd_level': 965, 'humidity': 62, 'temp_kf': 0}, 'weather': [{'id': 803, 'main': 'Clouds', 'description': 'broken clouds', 'icon': '04d'}], 'clouds': {'all': 78}, 'wind': {'speed': 5.5, 'deg': 84, 'gust': 8.53}, 'visibility': 10000, 'pop': 0, 'sys': {'pod': 'd'}, 'dt_txt': '2025-09-11 09:00:00'}, {'dt': 1757592000, 'main': {'temp': 290.8, 'feels_like': 290.61, 'temp_min': 290.8, 'temp_max': 290.8, 'pressure': 1013, 'sea_level': 1013, 'grnd_level': 963, 'humidity': 76, 'temp_kf': 0}, 'weather': [{'id': 500, 'main': 'Rain', 'description': 'light rain', 'icon': '10d'}], 'clouds': {'all': 89}, 'wind': {'speed': 4.82, 'deg': 72, 'gust': 7.13}, 'visibility': 10000, 'pop': 0.28, 'rain': {'3h': 0.44}, 'sys': {'pod': 'd'}, 'dt_txt': '2025-09-11 12:00:00'}, {'dt': 1757602800, 'main': {'temp': 290.15, 'feels_like': 290.05, 'temp_min': 290.15, 'temp_max': 290.15, 'pressure': 1011, 'sea_level': 1011, 'grnd_level': 961, 'humidity': 82, 'temp_kf': 0}, 'weather': [{'id': 804, 'main': 'Clouds', 'description': 'overcast clouds', 'icon': '04d'}], 'clouds': {'all': 100}, 'wind': {'speed': 2.94, 'deg': 66, 'gust': 3.5}, 'visibility': 10000, 'pop': 0, 'sys': {'pod': 'd'}, 'dt_txt': '2025-09-11 15:00:00'}, {'dt': 1757613600, 'main': {'temp': 290.75, 'feels_like': 290.73, 'temp_min': 290.75, 'temp_max': 290.75, 'pressure': 1009, 'sea_level': 1009, 'grnd_level': 959, 'humidity': 83, 'temp_kf': 0}, 'weather': [{'id': 804, 'main': 'Clouds', 'description': 'overcast clouds', 'icon': '04n'}], 'clouds': {'all': 100}, 'wind': {'speed': 3.81, 'deg': 63, 'gust': 4.49}, 'visibility': 10000, 'pop': 0, 'sys': {'pod': 'n'}, 'dt_txt': '2025-09-11 18:00:00'}, {'dt': 1757624400, 'main': {'temp': 289.96, 'feels_like': 289.97, 'temp_min': 289.96, 'temp_max': 289.96, 'pressure': 1007, 'sea_level': 1007, 'grnd_level': 957, 'humidity': 87, 'temp_kf': 0}, 'weather': [{'id': 500, 'main': 'Rain', 'description': 'light rain', 'icon': '10n'}], 'clouds': {'all': 100}, 'wind': {'speed': 4.01, 'deg': 76, 'gust': 4.62}, 'visibility': 9342, 'pop': 0.75, 'rain': {'3h': 0.53}, 'sys': {'pod': 'n'}, 'dt_txt': '2025-09-11 21:00:00'}, {'dt': 1757635200, 'main': {'temp': 290.53, 'feels_like': 290.23, 'temp_min': 290.53, 'temp_max': 290.53, 'pressure': 1003, 'sea_level': 1003, 'grnd_level': 954, 'humidity': 73, 'temp_kf': 0}, 'weather': [{'id': 500, 'main': 'Rain', 'description': 'light rain', 'icon': '10n'}], 'clouds': {'all': 100}, 'wind': {'speed': 12.62, 'deg': 110, 'gust': 23.99}, 'visibility': 10000, 'pop': 1, 'rain': {'3h': 0.95}, 'sys': {'pod': 'n'}, 'dt_txt': '2025-09-12 00:00:00'}, {'dt': 1757646000, 'main': {'temp': 289.34, 'feels_like': 289.08, 'temp_min': 289.34, 'temp_max': 289.34, 'pressure': 1001, 'sea_level': 1001, 'grnd_level': 952, 'humidity': 79, 'temp_kf': 0}, 'weather': [{'id': 500, 'main': 'Rain', 'description': 'light rain', 'icon': '10n'}], 'clouds': {'all': 100}, 'wind': {'speed': 5.01, 'deg': 94, 'gust': 10.01}, 'visibility': 10000, 'pop': 0.25, 'rain': {'3h': 0.25}, 'sys': {'pod': 'n'}, 'dt_txt': '2025-09-12 03:00:00'}, {'dt': 1757656800, 'main': {'temp': 288.36, 'feels_like': 288.23, 'temp_min': 288.36, 'temp_max': 288.36, 'pressure': 1002, 'sea_level': 1002, 'grnd_level': 953, 'humidity': 88, 'temp_kf': 0}, 'weather': [{'id': 500, 'main': 'Rain', 'description': 'light rain', 'icon': '10d'}], 'clouds': {'all': 100}, 'wind': {'speed': 2.95, 'deg': 89, 'gust': 3.86}, 'visibility': 10000, 'pop': 1, 'rain': {'3h': 0.97}, 'sys': {'pod': 'd'}, 'dt_txt': '2025-09-12 06:00:00'}, {'dt': 1757667600, 'main': {'temp': 289.43, 'feels_like': 289.33, 'temp_min': 289.43, 'temp_max': 289.43, 'pressure': 1003, 'sea_level': 1003, 'grnd_level': 954, 'humidity': 85, 'temp_kf': 0}, 'weather': [{'id': 804, 'main': 'Clouds', 'description': 'overcast clouds', 'icon': '04d'}], 'clouds': {'all': 100}, 'wind': {'speed': 2.74, 'deg': 89, 'gust': 3.2}, 'visibility': 10000, 'pop': 0, 'sys': {'pod': 'd'}, 'dt_txt': '2025-09-12 09:00:00'}, {'dt': 1757678400, 'main': {'temp': 292.98, 'feels_like': 292.66, 'temp_min': 292.98, 'temp_max': 292.98, 'pressure': 1004, 'sea_level': 1004, 'grnd_level': 955, 'humidity': 63, 'temp_kf': 0}, 'weather': [{'id': 500, 'main': 'Rain', 'description': 'light rain', 'icon': '10d'}], 'clouds': {'all': 90}, 'wind': {'speed': 3.1, 'deg': 116, 'gust': 5.31}, 'visibility': 10000, 'pop': 0.2, 'rain': {'3h': 0.25}, 'sys': {'pod': 'd'}, 'dt_txt': '2025-09-12 12:00:00'}, {'dt': 1757689200, 'main': {'temp': 292.81, 'feels_like': 292.37, 'temp_min': 292.81, 'temp_max': 292.81, 'pressure': 1004, 'sea_level': 1004, 'grnd_level': 955, 'humidity': 59, 'temp_kf': 0}, 'weather': [{'id': 500, 'main': 'Rain', 'description': 'light rain', 'icon': '10d'}], 'clouds': {'all': 91}, 'wind': {'speed': 2.64, 'deg': 141, 'gust': 5.11}, 'visibility': 10000, 'pop': 0.83, 'rain': {'3h': 0.45}, 'sys': {'pod': 'd'}, 'dt_txt': '2025-09-12 15:00:00'}, {'dt': 1757700000, 'main': {'temp': 287.72, 'feels_like': 287.32, 'temp_min': 287.72, 'temp_max': 287.72, 'pressure': 1006, 'sea_level': 1006, 'grnd_level': 957, 'humidity': 80, 'temp_kf': 0}, 'weather': [{'id': 500, 'main': 'Rain', 'description': 'light rain', 'icon': '10n'}], 'clouds': {'all': 97}, 'wind': {'speed': 2.37, 'deg': 153, 'gust': 2.12}, 'visibility': 10000, 'pop': 1, 'rain': {'3h': 1.17}, 'sys': {'pod': 'n'}, 'dt_txt': '2025-09-12 18:00:00'}, {'dt': 1757710800, 'main': {'temp': 285.3, 'feels_like': 284.82, 'temp_min': 285.3, 'temp_max': 285.3, 'pressure': 1008, 'sea_level': 1008, 'grnd_level': 958, 'humidity': 86, 'temp_kf': 0}, 'weather': [{'id': 500, 'main': 'Rain', 'description': 'light rain', 'icon': '10n'}], 'clouds': {'all': 27}, 'wind': {'speed': 2.03, 'deg': 143, 'gust': 1.91}, 'visibility': 10000, 'pop': 1, 'rain': {'3h': 0.88}, 'sys': {'pod': 'n'}, 'dt_txt': '2025-09-12 21:00:00'}, {'dt': 1757721600, 'main': {'temp': 284.68, 'feels_like': 284.11, 'temp_min': 284.68, 'temp_max': 284.68, 'pressure': 1008, 'sea_level': 1008, 'grnd_level': 958, 'humidity': 85, 'temp_kf': 0}, 'weather': [{'id': 500, 'main': 'Rain', 'description': 'light rain', 'icon': '10n'}], 'clouds': {'all': 17}, 'wind': {'speed': 2.09, 'deg': 113, 'gust': 2.06}, 'visibility': 10000, 'pop': 0.96, 'rain': {'3h': 0.13}, 'sys': {'pod': 'n'}, 'dt_txt': '2025-09-13 00:00:00'}, {'dt': 1757732400, 'main': {'temp': 284.65, 'feels_like': 284.21, 'temp_min': 284.65, 'temp_max': 284.65, 'pressure': 1008, 'sea_level': 1008, 'grnd_level': 958, 'humidity': 90, 'temp_kf': 0}, 'weather': [{'id': 500, 'main': 'Rain', 'description': 'light rain', 'icon': '10n'}], 'clouds': {'all': 96}, 'wind': {'speed': 0.37, 'deg': 241, 'gust': 0.21}, 'visibility': 10000, 'pop': 1, 'rain': {'3h': 1.38}, 'sys': {'pod': 'n'}, 'dt_txt': '2025-09-13 03:00:00'}, {'dt': 1757743200, 'main': {'temp': 285.33, 'feels_like': 284.88, 'temp_min': 285.33, 'temp_max': 285.33, 'pressure': 1009, 'sea_level': 1009, 'grnd_level': 959, 'humidity': 87, 'temp_kf': 0}, 'weather': [{'id': 500, 'main': 'Rain', 'description': 'light rain', 'icon': '10d'}], 'clouds': {'all': 95}, 'wind': {'speed': 0.66, 'deg': 162, 'gust': 0.64}, 'visibility': 10000, 'pop': 1, 'rain': {'3h': 0.48}, 'sys': {'pod': 'd'}, 'dt_txt': '2025-09-13 06:00:00'}], 'city': {'id': 3145614, 'name': 'Mo i Rana', 'coord': {'lat': 66.3128, 'lon': 14.1428}, 'country': 'NO', 'population': 17853, 'timezone': 7200, 'sunrise': 1757304041, 'sunset': 1757354515}}\")\n"
     ]
    }
   ],
   "source": [
    "# Query the data\n",
    "forecast_rows = session.execute(\"SELECT * FROM forecast_table;\")\n",
    "print(forecast_rows.one()) # <- only one row"
   ]
  },
  {
   "cell_type": "markdown",
   "metadata": {
    "slideshow": {
     "slide_type": "slide"
    }
   },
   "source": [
    "```{seealso} \n",
    ":class: tip\n",
    "\n",
    "## Resources\n",
    "- [Cassandra webpage](https://cassandra.apache.org/)\n",
    "- [Cassandra Docker file](https://hub.docker.com/_/cassandra)\n",
    "- [UUID functions](https://docs.datastax.com/en/cql-oss/3.3/cql/cql_reference/timeuuid_functions_r.html)\n",
    "- [YouTube: Cassandra in 100 seconds](https://youtu.be/ziq7FUKpCS8?si=WQUdkHFvaBmT0DBo) (2m:26s)\n",
    "- [YouTube: How to use Apache Cassandra in Python](https://youtu.be/qMauZqJH3ZM?si=yKGZ-5cld2BK396Y) (14m:50s)\n",
    "- [YouTube: Cassandra Database Crash Course](https://youtu.be/KZsVSfQVU4I?si=FBCi8qOfCirfVmZk) (19m:47s)\n",
    "```"
   ]
  }
 ],
 "metadata": {
  "celltoolbar": "Slideshow",
  "kernelspec": {
   "display_name": "ind320_25",
   "language": "python",
   "name": "python3"
  },
  "language_info": {
   "codemirror_mode": {
    "name": "ipython",
    "version": 3
   },
   "file_extension": ".py",
   "mimetype": "text/x-python",
   "name": "python",
   "nbconvert_exporter": "python",
   "pygments_lexer": "ipython3",
   "version": "3.12.10"
  }
 },
 "nbformat": 4,
 "nbformat_minor": 4
}