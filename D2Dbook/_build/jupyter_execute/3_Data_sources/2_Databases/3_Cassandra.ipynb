{
 "cells": [
  {
   "cell_type": "markdown",
   "metadata": {
    "slideshow": {
     "slide_type": "slide"
    }
   },
   "source": [
    "# Cassandra\n",
    "- A production grade NoSQL database.\n",
    "- Can be distributed across servers, nodes, etc.\n",
    "- Replication of database is supported for high degree of redundancy and speed.\n",
    "- Uses CQL, a subset of SQL for querying.\n",
    "- Works seamlesly together with Spark and its corresponding distributed structure.\n",
    "- Installation of Cassandra is explained in the [Installation chapter](../../7_Appendix/Installation.ipynb)."
   ]
  },
  {
   "cell_type": "markdown",
   "metadata": {
    "slideshow": {
     "slide_type": "slide"
    }
   },
   "source": [
    "## Spinning up a local Cassandra instance\n",
    "In a terminal, first time:  \n",
    "```docker run --name my_cassandra -p 9042:9042 cassandra:latest```  \n",
    "... and later:  \n",
    "```docker start my_cassandra```  \n",
    "  \n",
    ".. or in Docker Desktop:\n",
    "- Run the cassandra docker image with optional settings, opening 9042 port and setting a name.\n",
    "- Later, simply run the container with the name you chose."
   ]
  },
  {
   "cell_type": "markdown",
   "metadata": {
    "slideshow": {
     "slide_type": "slide"
    }
   },
   "source": [
    "<img src=\"https://github.com/khliland/IND320/blob/main/D2Dbook/images/Docker_images.png?raw=TRUE\" width=\"600px\">  "
   ]
  },
  {
   "cell_type": "markdown",
   "metadata": {
    "slideshow": {
     "slide_type": "slide"
    }
   },
   "source": [
    "\n",
    "<img src=\"https://github.com/khliland/IND320/blob/main/D2Dbook/images/Docker_containers.png?raw=TRUE\" width=\"800px\">  "
   ]
  },
  {
   "cell_type": "markdown",
   "metadata": {
    "slideshow": {
     "slide_type": "slide"
    }
   },
   "source": [
    "### Connect to the Cassandra cluster from Python."
   ]
  },
  {
   "cell_type": "code",
   "execution_count": 1,
   "metadata": {
    "ExecuteTime": {
     "end_time": "2024-08-17T10:25:34.787878Z",
     "start_time": "2024-08-17T10:25:34.389367Z"
    },
    "execution": {
     "iopub.execute_input": "2024-08-17T11:11:08.638602Z",
     "iopub.status.busy": "2024-08-17T11:11:08.638284Z",
     "iopub.status.idle": "2024-08-17T11:11:08.852135Z",
     "shell.execute_reply": "2024-08-17T11:11:08.851463Z"
    },
    "slideshow": {
     "slide_type": "-"
    }
   },
   "outputs": [],
   "source": [
    "# Connecting to Cassandra\n",
    "from cassandra.cluster import Cluster\n",
    "cluster = Cluster(['localhost'], port=9042)\n",
    "session = cluster.connect()"
   ]
  },
  {
   "cell_type": "markdown",
   "metadata": {
    "slideshow": {
     "slide_type": "slide"
    }
   },
   "source": [
    "### Keyspace\n",
    "- In Cassandra database tables are stored in keyspaces (basically a distributed database).\n",
    "- These have parameters controlling their distribution on nodes/servers and redundancy.\n",
    "- We will use the simplest form locally."
   ]
  },
  {
   "cell_type": "code",
   "execution_count": 2,
   "metadata": {
    "ExecuteTime": {
     "end_time": "2024-08-17T10:25:34.798504Z",
     "start_time": "2024-08-17T10:25:34.789786Z"
    },
    "execution": {
     "iopub.execute_input": "2024-08-17T11:11:08.857654Z",
     "iopub.status.busy": "2024-08-17T11:11:08.857351Z",
     "iopub.status.idle": "2024-08-17T11:11:08.885591Z",
     "shell.execute_reply": "2024-08-17T11:11:08.870416Z"
    },
    "slideshow": {
     "slide_type": "fragment"
    }
   },
   "outputs": [
    {
     "data": {
      "text/plain": [
       "<cassandra.cluster.ResultSet at 0x107fd00e0>"
      ]
     },
     "execution_count": 2,
     "metadata": {},
     "output_type": "execute_result"
    }
   ],
   "source": [
    "# Set up new keyspace (first time only)\n",
    "#                                              name of keyspace                        replication strategy           replication factor\n",
    "session.execute(\"CREATE KEYSPACE IF NOT EXISTS my_first_keyspace WITH REPLICATION = { 'class' : 'SimpleStrategy', 'replication_factor' : 1 };\")"
   ]
  },
  {
   "cell_type": "markdown",
   "metadata": {
    "slideshow": {
     "slide_type": "slide"
    }
   },
   "source": [
    "### Create a table\n",
    "- IF NOT EXISTS makes sure we do not overwrite existing tables"
   ]
  },
  {
   "cell_type": "code",
   "execution_count": 3,
   "metadata": {
    "ExecuteTime": {
     "end_time": "2024-08-17T10:25:35.347394Z",
     "start_time": "2024-08-17T10:25:34.800008Z"
    },
    "execution": {
     "iopub.execute_input": "2024-08-17T11:11:08.911341Z",
     "iopub.status.busy": "2024-08-17T11:11:08.911070Z",
     "iopub.status.idle": "2024-08-17T11:11:09.268195Z",
     "shell.execute_reply": "2024-08-17T11:11:09.267726Z"
    },
    "slideshow": {
     "slide_type": "fragment"
    }
   },
   "outputs": [
    {
     "data": {
      "text/plain": [
       "<cassandra.cluster.ResultSet at 0x109144710>"
      ]
     },
     "execution_count": 3,
     "metadata": {},
     "output_type": "execute_result"
    }
   ],
   "source": [
    "# Create a new table (first time only)\n",
    "session.set_keyspace('my_first_keyspace')\n",
    "session.execute(\"DROP TABLE IF EXISTS my_first_keyspace.my_first_table;\") # Starting from scratch every time\n",
    "session.execute(\"CREATE TABLE IF NOT EXISTS my_first_table (ind int PRIMARY KEY, company text, model text);\")"
   ]
  },
  {
   "cell_type": "markdown",
   "metadata": {
    "slideshow": {
     "slide_type": "slide"
    }
   },
   "source": [
    "### Inserting and reading data"
   ]
  },
  {
   "cell_type": "code",
   "execution_count": 4,
   "metadata": {
    "ExecuteTime": {
     "end_time": "2024-08-17T10:25:35.366363Z",
     "start_time": "2024-08-17T10:25:35.350453Z"
    },
    "execution": {
     "iopub.execute_input": "2024-08-17T11:11:09.271663Z",
     "iopub.status.busy": "2024-08-17T11:11:09.271398Z",
     "iopub.status.idle": "2024-08-17T11:11:09.282842Z",
     "shell.execute_reply": "2024-08-17T11:11:09.282365Z"
    },
    "slideshow": {
     "slide_type": "-"
    }
   },
   "outputs": [
    {
     "data": {
      "text/plain": [
       "<cassandra.cluster.ResultSet at 0x1099b0a10>"
      ]
     },
     "execution_count": 4,
     "metadata": {},
     "output_type": "execute_result"
    }
   ],
   "source": [
    "# Insert some data (ind is the primary key, must be unique)\n",
    "session.execute(\"INSERT INTO my_first_table (ind, company, model) VALUES (1, 'Tesla', 'Model S');\")\n",
    "session.execute(\"INSERT INTO my_first_table (ind, company, model) VALUES (2, 'Tesla', 'Model 3');\")\n",
    "session.execute(\"INSERT INTO my_first_table (ind, company, model) VALUES (3, 'Polestar', '3');\")"
   ]
  },
  {
   "cell_type": "markdown",
   "metadata": {
    "slideshow": {
     "slide_type": "slide"
    }
   },
   "source": [
    "### Asyncronous writing\n",
    "- If your application is very data intensive, waiting for a response is not productive.\n",
    "- Writing asyncronously sends the data but does not pause for reply."
   ]
  },
  {
   "cell_type": "code",
   "execution_count": 5,
   "metadata": {
    "ExecuteTime": {
     "end_time": "2024-08-17T10:25:35.371390Z",
     "start_time": "2024-08-17T10:25:35.367159Z"
    },
    "execution": {
     "iopub.execute_input": "2024-08-17T11:11:09.284596Z",
     "iopub.status.busy": "2024-08-17T11:11:09.284399Z",
     "iopub.status.idle": "2024-08-17T11:11:09.287020Z",
     "shell.execute_reply": "2024-08-17T11:11:09.286662Z"
    },
    "slideshow": {
     "slide_type": "-"
    }
   },
   "outputs": [
    {
     "data": {
      "text/plain": [
       "<ResponseFuture: query='<SimpleStatement query=\"INSERT INTO my_first_table (ind, company, model) VALUES (4, 'Volkswagen', 'ID.4');\", consistency=Not Set>' request_id=24 result=(no result yet) exception=None coordinator_host=None>"
      ]
     },
     "execution_count": 5,
     "metadata": {},
     "output_type": "execute_result"
    }
   ],
   "source": [
    "session.execute_async(\"INSERT INTO my_first_table (ind, company, model) VALUES (4, 'Volkswagen', 'ID.4');\")"
   ]
  },
  {
   "cell_type": "code",
   "execution_count": 6,
   "metadata": {
    "ExecuteTime": {
     "end_time": "2024-08-17T10:25:35.384736Z",
     "start_time": "2024-08-17T10:25:35.372551Z"
    },
    "execution": {
     "iopub.execute_input": "2024-08-17T11:11:09.288398Z",
     "iopub.status.busy": "2024-08-17T11:11:09.288225Z",
     "iopub.status.idle": "2024-08-17T11:11:09.292272Z",
     "shell.execute_reply": "2024-08-17T11:11:09.292080Z"
    },
    "slideshow": {
     "slide_type": "slide"
    }
   },
   "outputs": [
    {
     "name": "stdout",
     "output_type": "stream",
     "text": [
      "Row(ind=1, company='Tesla', model='Model S')\n",
      "Row(ind=2, company='Tesla', model='Model 3')\n",
      "Row(ind=4, company='Volkswagen', model='ID.4')\n",
      "Row(ind=3, company='Polestar', model='3')\n"
     ]
    }
   ],
   "source": [
    "# Query the data\n",
    "rows = session.execute(\"SELECT * FROM my_first_table;\")\n",
    "for i in rows:\n",
    "    print(i)"
   ]
  },
  {
   "cell_type": "code",
   "execution_count": 7,
   "metadata": {
    "ExecuteTime": {
     "end_time": "2024-08-17T10:25:35.402371Z",
     "start_time": "2024-08-17T10:25:35.386980Z"
    },
    "execution": {
     "iopub.execute_input": "2024-08-17T11:11:09.293405Z",
     "iopub.status.busy": "2024-08-17T11:11:09.293329Z",
     "iopub.status.idle": "2024-08-17T11:11:09.301239Z",
     "shell.execute_reply": "2024-08-17T11:11:09.300994Z"
    },
    "slideshow": {
     "slide_type": "slide"
    },
    "tags": [
     "raises-exception"
    ]
   },
   "outputs": [
    {
     "name": "stdout",
     "output_type": "stream",
     "text": [
      "Row(ind=1, company='Tesla', model='Model S')\n",
      "Row(ind=2, company='Tesla', model='Model 3')\n"
     ]
    }
   ],
   "source": [
    "# More specific query\n",
    "prepared_statement = session.prepare(\"SELECT * FROM my_first_table WHERE company=? ALLOW FILTERING;\")\n",
    "teslas = session.execute(prepared_statement, ['Tesla'])\n",
    "for i in teslas:\n",
    "    print(i)"
   ]
  },
  {
   "cell_type": "markdown",
   "metadata": {
    "slideshow": {
     "slide_type": "slide"
    }
   },
   "source": [
    "## Cassandra filtering\n",
    "Cassandra is inherently a distributed production database. Selecting as above may require downloading all data from a node, then filtering based on the WHERE part (only PRIMARY KEYs are centrally known). Solutions:  \n",
    "- If the table is small or most of the data will satisfy the query, add ```ALLOW FILTERING``` at the end of the query (not recommended if not known). \n",
    "- Or make sure the WHERE clause points to one of the keys (see below)."
   ]
  },
  {
   "cell_type": "code",
   "execution_count": 8,
   "metadata": {
    "ExecuteTime": {
     "end_time": "2024-08-17T10:25:35.613711Z",
     "start_time": "2024-08-17T10:25:35.403622Z"
    },
    "execution": {
     "iopub.execute_input": "2024-08-17T11:11:09.302558Z",
     "iopub.status.busy": "2024-08-17T11:11:09.302476Z",
     "iopub.status.idle": "2024-08-17T11:11:09.681406Z",
     "shell.execute_reply": "2024-08-17T11:11:09.680793Z"
    },
    "slideshow": {
     "slide_type": "slide"
    }
   },
   "outputs": [
    {
     "data": {
      "text/plain": [
       "<cassandra.cluster.ResultSet at 0x109a4dac0>"
      ]
     },
     "execution_count": 8,
     "metadata": {},
     "output_type": "execute_result"
    }
   ],
   "source": [
    "# Create a new table (observe keys)\n",
    "session.execute(\"DROP TABLE IF EXISTS my_first_keyspace.car_table;\")\n",
    "session.execute(\"CREATE TABLE IF NOT EXISTS car_table (company text, model text, PRIMARY KEY(company, model));\")"
   ]
  },
  {
   "cell_type": "code",
   "execution_count": 9,
   "metadata": {
    "ExecuteTime": {
     "end_time": "2024-08-17T10:25:35.628950Z",
     "start_time": "2024-08-17T10:25:35.615126Z"
    },
    "execution": {
     "iopub.execute_input": "2024-08-17T11:11:09.684494Z",
     "iopub.status.busy": "2024-08-17T11:11:09.684140Z",
     "iopub.status.idle": "2024-08-17T11:11:09.699387Z",
     "shell.execute_reply": "2024-08-17T11:11:09.699059Z"
    },
    "slideshow": {
     "slide_type": "fragment"
    }
   },
   "outputs": [
    {
     "data": {
      "text/plain": [
       "<cassandra.cluster.ResultSet at 0x1099bcb00>"
      ]
     },
     "execution_count": 9,
     "metadata": {},
     "output_type": "execute_result"
    }
   ],
   "source": [
    "# Insert some data (combination of company and model must be unique)\n",
    "session.execute(\"INSERT INTO car_table (company, model) VALUES ('Tesla', 'Model S');\")\n",
    "session.execute(\"INSERT INTO car_table (company, model) VALUES ('Tesla', 'Model 3');\")\n",
    "session.execute(\"INSERT INTO car_table (company, model) VALUES ('Polestar', '3');\")\n",
    "session.execute(\"INSERT INTO car_table (company, model) VALUES ('Volkswagen', 'ID.4');\")"
   ]
  },
  {
   "cell_type": "code",
   "execution_count": 10,
   "metadata": {
    "ExecuteTime": {
     "end_time": "2024-08-17T10:25:35.639765Z",
     "start_time": "2024-08-17T10:25:35.630657Z"
    },
    "execution": {
     "iopub.execute_input": "2024-08-17T11:11:09.700798Z",
     "iopub.status.busy": "2024-08-17T11:11:09.700701Z",
     "iopub.status.idle": "2024-08-17T11:11:09.709531Z",
     "shell.execute_reply": "2024-08-17T11:11:09.709308Z"
    },
    "slideshow": {
     "slide_type": "slide"
    }
   },
   "outputs": [
    {
     "name": "stdout",
     "output_type": "stream",
     "text": [
      "Row(company='Tesla', model='Model 3')\n",
      "Row(company='Tesla', model='Model S')\n"
     ]
    }
   ],
   "source": [
    "# More specific query now works\n",
    "prepared_statement = session.prepare(\"SELECT * FROM car_table WHERE company=?;\")\n",
    "teslas = session.execute(prepared_statement, ['Tesla'])\n",
    "for i in teslas:\n",
    "    print(i)"
   ]
  },
  {
   "cell_type": "markdown",
   "metadata": {
    "slideshow": {
     "slide_type": "slide"
    }
   },
   "source": [
    "### Partitions\n",
    "- Cassandra databases are usually replicated over different nodes.\n",
    "- Data is stored in partitions (subsets) which have local copys.\n",
    "- The primary key, e.g., PRIMARY KEY(company, model), is used in partitioning.\n",
    "    - The first part, e.g., company, is most important.\n",
    "    - All cars from a company will be located together, aiming for quicker queries."
   ]
  },
  {
   "cell_type": "markdown",
   "metadata": {
    "slideshow": {
     "slide_type": "slide"
    }
   },
   "source": [
    "### Unique IDs \n",
    "- In MySQL one could use the attribute AUTO_INCREMENT on integer IDs to automatically make a new unique index when inserting data.\n",
    "- This would cause unreasonable overhead in a distributed database.\n",
    "- [UUID](https://en.wikipedia.org/wiki/Universally_unique_identifier)s are used instead.\n",
    "    - Universally Unique Identifiers are typically 128-bit random bit sequences with extremely low probability of duplication.\n",
    "    - Cassandra uses a [timeuuid](https://docs.datastax.com/en/cql-oss/3.3/cql/cql_reference/timeuuid_functions_r.html) type to combine a timestamp and uuid in one."
   ]
  },
  {
   "cell_type": "code",
   "execution_count": 11,
   "metadata": {
    "ExecuteTime": {
     "end_time": "2024-08-17T10:25:35.766003Z",
     "start_time": "2024-08-17T10:25:35.640600Z"
    },
    "execution": {
     "iopub.execute_input": "2024-08-17T11:11:09.711042Z",
     "iopub.status.busy": "2024-08-17T11:11:09.710948Z",
     "iopub.status.idle": "2024-08-17T11:11:09.918355Z",
     "shell.execute_reply": "2024-08-17T11:11:09.917815Z"
    },
    "slideshow": {
     "slide_type": "fragment"
    }
   },
   "outputs": [
    {
     "data": {
      "text/plain": [
       "<cassandra.cluster.ResultSet at 0x1080f7260>"
      ]
     },
     "execution_count": 11,
     "metadata": {},
     "output_type": "execute_result"
    }
   ],
   "source": [
    "# Create a new table (first time only)\n",
    "session.set_keyspace('my_first_keyspace')\n",
    "session.execute(\"DROP TABLE IF EXISTS my_first_keyspace.table_with_uuid;\")\n",
    "session.execute(\"CREATE TABLE IF NOT EXISTS table_with_uuid (id timeuuid PRIMARY KEY, company text, model text, price float);\")"
   ]
  },
  {
   "cell_type": "code",
   "execution_count": 12,
   "metadata": {
    "ExecuteTime": {
     "end_time": "2024-08-17T10:25:35.784876Z",
     "start_time": "2024-08-17T10:25:35.766619Z"
    },
    "execution": {
     "iopub.execute_input": "2024-08-17T11:11:09.923981Z",
     "iopub.status.busy": "2024-08-17T11:11:09.923698Z",
     "iopub.status.idle": "2024-08-17T11:11:09.934475Z",
     "shell.execute_reply": "2024-08-17T11:11:09.934197Z"
    },
    "slideshow": {
     "slide_type": "slide"
    }
   },
   "outputs": [
    {
     "data": {
      "text/plain": [
       "<cassandra.cluster.ResultSet at 0x107fd1370>"
      ]
     },
     "execution_count": 12,
     "metadata": {},
     "output_type": "execute_result"
    }
   ],
   "source": [
    "session.execute(\"INSERT INTO table_with_uuid (id, company, model, price) VALUES (now(), 'Tesla', 'Model S', 20000.0);\")\n",
    "session.execute(\"INSERT INTO table_with_uuid (id, company, model, price) VALUES (now(), 'Tesla', 'Model S', 21000.0);\")\n",
    "session.execute(\"INSERT INTO table_with_uuid (id, company, model, price) VALUES (now(), 'Oldsmobile', 'Model 6C', 135000.0);\")"
   ]
  },
  {
   "cell_type": "code",
   "execution_count": 13,
   "metadata": {
    "ExecuteTime": {
     "end_time": "2024-08-17T10:25:35.792934Z",
     "start_time": "2024-08-17T10:25:35.785467Z"
    },
    "execution": {
     "iopub.execute_input": "2024-08-17T11:11:09.935912Z",
     "iopub.status.busy": "2024-08-17T11:11:09.935798Z",
     "iopub.status.idle": "2024-08-17T11:11:09.942858Z",
     "shell.execute_reply": "2024-08-17T11:11:09.942654Z"
    },
    "slideshow": {
     "slide_type": "slide"
    }
   },
   "outputs": [
    {
     "name": "stdout",
     "output_type": "stream",
     "text": [
      "Row(id=UUID('87f7d4d0-6e80-11ef-ad4c-25ae249cfc20'), company='Oldsmobile', model='Model 6C', price=135000.0)\n",
      "Datetime: 2024-09-09 07:52:58.781000\n",
      "Row(id=UUID('87f19340-6e80-11ef-ad4c-25ae249cfc20'), company='Tesla', model='Model S', price=20000.0)\n",
      "Datetime: 2024-09-09 07:52:58.740000\n",
      "Row(id=UUID('87f40440-6e80-11ef-ad4c-25ae249cfc20'), company='Tesla', model='Model S', price=21000.0)\n",
      "Datetime: 2024-09-09 07:52:58.756000\n"
     ]
    }
   ],
   "source": [
    "from cassandra.util import datetime_from_uuid1\n",
    "\n",
    "# Query the data\n",
    "rows = session.execute(\"SELECT * FROM table_with_uuid;\")\n",
    "for i in rows:\n",
    "    print(i)\n",
    "    # Extract the timestamp from Cassandra's timeuuid\n",
    "    print(\"Datetime:\", datetime_from_uuid1(i.id))"
   ]
  },
  {
   "cell_type": "markdown",
   "metadata": {
    "slideshow": {
     "slide_type": "slide"
    }
   },
   "source": [
    "## JSON in Cassandra\n",
    "### Read previously saved JSON file forecast.json to memory"
   ]
  },
  {
   "cell_type": "code",
   "execution_count": 14,
   "metadata": {
    "ExecuteTime": {
     "end_time": "2024-08-17T10:25:35.796049Z",
     "start_time": "2024-08-17T10:25:35.793437Z"
    },
    "execution": {
     "iopub.execute_input": "2024-08-17T11:11:09.944080Z",
     "iopub.status.busy": "2024-08-17T11:11:09.943989Z",
     "iopub.status.idle": "2024-08-17T11:11:09.946114Z",
     "shell.execute_reply": "2024-08-17T11:11:09.945914Z"
    },
    "slideshow": {
     "slide_type": "-"
    }
   },
   "outputs": [],
   "source": [
    "import json\n",
    "with open('../3_APIs/downloads/forecast.json', 'r') as f:\n",
    "    forecast = json.load(f)"
   ]
  },
  {
   "cell_type": "code",
   "execution_count": 15,
   "metadata": {
    "ExecuteTime": {
     "end_time": "2024-08-17T10:25:35.799114Z",
     "start_time": "2024-08-17T10:25:35.796532Z"
    },
    "execution": {
     "iopub.execute_input": "2024-08-17T11:11:09.947281Z",
     "iopub.status.busy": "2024-08-17T11:11:09.947207Z",
     "iopub.status.idle": "2024-08-17T11:11:09.949379Z",
     "shell.execute_reply": "2024-08-17T11:11:09.949167Z"
    },
    "slideshow": {
     "slide_type": "slide"
    }
   },
   "outputs": [
    {
     "data": {
      "text/plain": [
       "\"{'cod': '200', 'message': 0, 'cnt': 40, 'list': [{'dt': 1725483600, 'main': {'temp': 289.48, 'feels_like': 289.73, 'temp_min': 288.7, 'temp_max': 289.48, 'pressure': 1025, 'sea_level': 1025, 'grnd_level': 969, 'humidity': 98, 'temp_kf': 0.78}, 'weather': [{'id': 500, 'main': 'Rain', 'description': 'light rain', 'icon': '10n'}], 'clouds': {'all': 99}, 'wind': {'speed': 1.91, 'deg': 344, 'gust': 2.92}, 'visibility': 10000, 'pop': 0.3, 'rain': {'3h': 0.27}, 'sys': {'pod': 'n'}, 'dt_txt': '2024-09-04 21:00:00'}, {'dt': 1725494400, 'main': {'temp': 288.59, 'feels_like': 288.72, 'temp_min': 287.95, 'temp_max': 288.59, 'pressure': 1026, 'sea_level': 1026, 'grnd_level': 970, 'humidity': 97, 'temp_kf': 0.64}, 'weather': [{'id': 500, 'main': 'Rain', 'description': 'light rain', 'icon': '10n'}], 'clouds': {'all': 95}, 'wind': {'speed': 2.08, 'deg': 337, 'gust': 2.58}, 'visibility': 10000, 'pop': 0.3, 'rain': {'3h': 0.14}, 'sys': {'pod': 'n'}, 'dt_txt': '2024-09-05 00:00:00'}, {'dt': 1725505200, 'main': {'temp': 287.76, 'feels_like': 287.81, 'temp_min': 287.76, 'temp_max': 287.76, 'pressure': 1028, 'sea_level': 1028, 'grnd_level': 971, 'humidity': 97, 'temp_kf': 0}, 'weather': [{'id': 804, 'main': 'Clouds', 'description': 'overcast clouds', 'icon': '04n'}], 'clouds': {'all': 88}, 'wind': {'speed': 1.95, 'deg': 339, 'gust': 2.06}, 'visibility': 10000, 'pop': 0, 'sys': {'pod': 'n'}, 'dt_txt': '2024-09-05 03:00:00'}, {'dt': 1725516000, 'main': {'temp': 288.81, 'feels_like': 288.94, 'temp_min': 288.81, 'temp_max': 288.81, 'pressure': 1029, 'sea_level': 1029, 'grnd_level': 972, 'humidity': 96, 'temp_kf': 0}, 'weather': [{'id': 803, 'main': 'Clouds', 'description': 'broken clouds', 'icon': '04d'}], 'clouds': {'all': 62}, 'wind': {'speed': 1.6, 'deg': 340, 'gust': 2.27}, 'visibility': 10000, 'pop': 0, 'sys': {'pod': 'd'}, 'dt_txt': '2024-09-05 06:00:00'}, {'dt': 1725526800, 'main': {'temp': 294.22, 'feels_like': 294.47, 'temp_min': 294.22, 'temp_max': 294.22, 'pressure': 1030, 'sea_level': 1030, 'grnd_level': 973, 'humidity': 80, 'temp_kf': 0}, 'weather': [{'id': 800, 'main': 'Clear', 'description': 'clear sky', 'icon': '01d'}], 'clouds': {'all': 10}, 'wind': {'speed': 0.79, 'deg': 67, 'gust': 0.99}, 'visibility': 10000, 'pop': 0, 'sys': {'pod': 'd'}, 'dt_txt': '2024-09-05 09:00:00'}, {'dt': 1725537600, 'main': {'temp': 297.49, 'feels_like': 297.44, 'temp_min': 297.49, 'temp_max': 297.49, 'pressure': 1029, 'sea_level': 1029, 'grnd_level': 973, 'humidity': 56, 'temp_kf': 0}, 'weather': [{'id': 800, 'main': 'Clear', 'description': 'clear sky', 'icon': '01d'}], 'clouds': {'all': 8}, 'wind': {'speed': 1.4, 'deg': 113, 'gust': 1.42}, 'visibility': 10000, 'pop': 0, 'sys': {'pod': 'd'}, 'dt_txt': '2024-09-05 12:00:00'}, {'dt': 1725548400, 'main': {'temp': 297.42, 'feels_like': 297.34, 'temp_min': 297.42, 'temp_max': 297.42, 'pressure': 1028, 'sea_level': 1028, 'grnd_level': 972, 'humidity': 55, 'temp_kf': 0}, 'weather': [{'id': 800, 'main': 'Clear', 'description': 'clear sky', 'icon': '01d'}], 'clouds': {'all': 2}, 'wind': {'speed': 1, 'deg': 121, 'gust': 1.13}, 'visibility': 10000, 'pop': 0, 'sys': {'pod': 'd'}, 'dt_txt': '2024-09-05 15:00:00'}, {'dt': 1725559200, 'main': {'temp': 291.82, 'feels_like': 291.83, 'temp_min': 291.82, 'temp_max': 291.82, 'pressure': 1029, 'sea_level': 1029, 'grnd_level': 973, 'humidity': 80, 'temp_kf': 0}, 'weather': [{'id': 800, 'main': 'Clear', 'description': 'clear sky', 'icon': '01d'}], 'clouds': {'all': 4}, 'wind': {'speed': 0.82, 'deg': 286, 'gust': 0.55}, 'visibility': 10000, 'pop': 0, 'sys': {'pod': 'd'}, 'dt_txt': '2024-09-05 18:00:00'}, {'dt': 1725570000, 'main': {'temp': 289.81, 'feels_like': 289.78, 'temp_min': 289.81, 'temp_max': 289.81, 'pressure': 1030, 'sea_level': 1030, 'grnd_level': 973, 'humidity': 86, 'temp_kf': 0}, 'weather': [{'id': 800, 'main': 'Clear', 'description': 'clear sky', 'icon': '01n'}], 'clouds': {'all': 8}, 'wind': {'speed': 1.95, 'deg': 315, 'gust': 1.7}, 'visibility': 10000, 'pop': 0, 'sys': {'pod': 'n'}, 'dt_txt': '2024-09-05 21:00:00'}, {'dt': 1725580800, 'main': {'temp': 289.1, 'feels_like': 289.02, 'temp_min': 289.1, 'temp_max': 289.1, 'pressure': 1030, 'sea_level': 1030, 'grnd_level': 973, 'humidity': 87, 'temp_kf': 0}, 'weather': [{'id': 801, 'main': 'Clouds', 'description': 'few clouds', 'icon': '02n'}], 'clouds': {'all': 13}, 'wind': {'speed': 1.65, 'deg': 315, 'gust': 1.42}, 'visibility': 10000, 'pop': 0, 'sys': {'pod': 'n'}, 'dt_txt': '2024-09-06 00:00:00'}, {'dt': 1725591600, 'main': {'temp': 288.38, 'feels_like': 288.28, 'temp_min': 288.38, 'temp_max': 288.38, 'pressure': 1029, 'sea_level': 1029, 'grnd_level': 972, 'humidity': 89, 'temp_kf': 0}, 'weather': [{'id': 800, 'main': 'Clear', 'description': 'clear sky', 'icon': '01n'}], 'clouds': {'all': 9}, 'wind': {'speed': 1.6, 'deg': 319, 'gust': 1.38}, 'visibility': 10000, 'pop': 0, 'sys': {'pod': 'n'}, 'dt_txt': '2024-09-06 03:00:00'}, {'dt': 1725602400, 'main': {'temp': 290.22, 'feels_like': 290.15, 'temp_min': 290.22, 'temp_max': 290.22, 'pressure': 1029, 'sea_level': 1029, 'grnd_level': 972, 'humidity': 83, 'temp_kf': 0}, 'weather': [{'id': 800, 'main': 'Clear', 'description': 'clear sky', 'icon': '01d'}], 'clouds': {'all': 8}, 'wind': {'speed': 0.93, 'deg': 339, 'gust': 0.84}, 'visibility': 10000, 'pop': 0, 'sys': {'pod': 'd'}, 'dt_txt': '2024-09-06 06:00:00'}, {'dt': 1725613200, 'main': {'temp': 295.11, 'feels_like': 295.06, 'temp_min': 295.11, 'temp_max': 295.11, 'pressure': 1028, 'sea_level': 1028, 'grnd_level': 971, 'humidity': 65, 'temp_kf': 0}, 'weather': [{'id': 800, 'main': 'Clear', 'description': 'clear sky', 'icon': '01d'}], 'clouds': {'all': 6}, 'wind': {'speed': 1.28, 'deg': 129, 'gust': 1.16}, 'visibility': 10000, 'pop': 0, 'sys': {'pod': 'd'}, 'dt_txt': '2024-09-06 09:00:00'}, {'dt': 1725624000, 'main': {'temp': 297.27, 'feels_like': 297.15, 'temp_min': 297.27, 'temp_max': 297.27, 'pressure': 1026, 'sea_level': 1026, 'grnd_level': 970, 'humidity': 54, 'temp_kf': 0}, 'weather': [{'id': 800, 'main': 'Clear', 'description': 'clear sky', 'icon': '01d'}], 'clouds': {'all': 4}, 'wind': {'speed': 1.85, 'deg': 138, 'gust': 2.12}, 'visibility': 10000, 'pop': 0, 'sys': {'pod': 'd'}, 'dt_txt': '2024-09-06 12:00:00'}, {'dt': 1725634800, 'main': {'temp': 297, 'feels_like': 296.82, 'temp_min': 297, 'temp_max': 297, 'pressure': 1025, 'sea_level': 1025, 'grnd_level': 969, 'humidity': 53, 'temp_kf': 0}, 'weather': [{'id': 800, 'main': 'Clear', 'description': 'clear sky', 'icon': '01d'}], 'clouds': {'all': 1}, 'wind': {'speed': 1.87, 'deg': 147, 'gust': 2.22}, 'visibility': 10000, 'pop': 0, 'sys': {'pod': 'd'}, 'dt_txt': '2024-09-06 15:00:00'}, {'dt': 1725645600, 'main': {'temp': 291.06, 'feels_like': 291, 'temp_min': 291.06, 'temp_max': 291.06, 'pressure': 1025, 'sea_level': 1025, 'grnd_level': 968, 'humidity': 80, 'temp_kf': 0}, 'weather': [{'id': 800, 'main': 'Clear', 'description': 'clear sky', 'icon': '01d'}], 'clouds': {'all': 1}, 'wind': {'speed': 0.8, 'deg': 192, 'gust': 0.85}, 'visibility': 10000, 'pop': 0, 'sys': {'pod': 'd'}, 'dt_txt': '2024-09-06 18:00:00'}, {'dt': 1725656400, 'main': {'temp': 288.66, 'feels_like': 288.49, 'temp_min': 288.66, 'temp_max': 288.66, 'pressure': 1025, 'sea_level': 1025, 'grnd_level': 968, 'humidity': 85, 'temp_kf': 0}, 'weather': [{'id': 800, 'main': 'Clear', 'description': 'clear sky', 'icon': '01n'}], 'clouds': {'all': 0}, 'wind': {'speed': 1.48, 'deg': 306, 'gust': 1.14}, 'visibility': 10000, 'pop': 0, 'sys': {'pod': 'n'}, 'dt_txt': '2024-09-06 21:00:00'}, {'dt': 1725667200, 'main': {'temp': 287.75, 'feels_like': 287.54, 'temp_min': 287.75, 'temp_max': 287.75, 'pressure': 1024, 'sea_level': 1024, 'grnd_level': 968, 'humidity': 87, 'temp_kf': 0}, 'weather': [{'id': 800, 'main': 'Clear', 'description': 'clear sky', 'icon': '01n'}], 'clouds': {'all': 0}, 'wind': {'speed': 1.71, 'deg': 309, 'gust': 1.49}, 'visibility': 10000, 'pop': 0, 'sys': {'pod': 'n'}, 'dt_txt': '2024-09-07 00:00:00'}, {'dt': 1725678000, 'main': {'temp': 286.89, 'feels_like': 286.62, 'temp_min': 286.89, 'temp_max': 286.89, 'pressure': 1023, 'sea_level': 1023, 'grnd_level': 967, 'humidity': 88, 'temp_kf': 0}, 'weather': [{'id': 800, 'main': 'Clear', 'description': 'clear sky', 'icon': '01n'}], 'clouds': {'all': 0}, 'wind': {'speed': 1.56, 'deg': 309, 'gust': 1.39}, 'visibility': 10000, 'pop': 0, 'sys': {'pod': 'n'}, 'dt_txt': '2024-09-07 03:00:00'}, {'dt': 1725688800, 'main': {'temp': 288.74, 'feels_like': 288.5, 'temp_min': 288.74, 'temp_max': 288.74, 'pressure': 1024, 'sea_level': 1024, 'grnd_level': 967, 'humidity': 82, 'temp_kf': 0}, 'weather': [{'id': 800, 'main': 'Clear', 'description': 'clear sky', 'icon': '01d'}], 'clouds': {'all': 1}, 'wind': {'speed': 1.05, 'deg': 322, 'gust': 0.96}, 'visibility': 10000, 'pop': 0, 'sys': {'pod': 'd'}, 'dt_txt': '2024-09-07 06:00:00'}, {'dt': 1725699600, 'main': {'temp': 294.09, 'feels_like': 293.88, 'temp_min': 294.09, 'temp_max': 294.09, 'pressure': 1023, 'sea_level': 1023, 'grnd_level': 967, 'humidity': 63, 'temp_kf': 0}, 'weather': [{'id': 800, 'main': 'Clear', 'description': 'clear sky', 'icon': '01d'}], 'clouds': {'all': 5}, 'wind': {'speed': 1.14, 'deg': 122, 'gust': 1}, 'visibility': 10000, 'pop': 0, 'sys': {'pod': 'd'}, 'dt_txt': '2024-09-07 09:00:00'}, {'dt': 1725710400, 'main': {'temp': 296.2, 'feels_like': 296.02, 'temp_min': 296.2, 'temp_max': 296.2, 'pressure': 1023, 'sea_level': 1023, 'grnd_level': 967, 'humidity': 56, 'temp_kf': 0}, 'weather': [{'id': 800, 'main': 'Clear', 'description': 'clear sky', 'icon': '01d'}], 'clouds': {'all': 3}, 'wind': {'speed': 1.8, 'deg': 128, 'gust': 2.19}, 'visibility': 10000, 'pop': 0, 'sys': {'pod': 'd'}, 'dt_txt': '2024-09-07 12:00:00'}, {'dt': 1725721200, 'main': {'temp': 296.14, 'feels_like': 295.85, 'temp_min': 296.14, 'temp_max': 296.14, 'pressure': 1022, 'sea_level': 1022, 'grnd_level': 966, 'humidity': 52, 'temp_kf': 0}, 'weather': [{'id': 800, 'main': 'Clear', 'description': 'clear sky', 'icon': '01d'}], 'clouds': {'all': 1}, 'wind': {'speed': 1.66, 'deg': 141, 'gust': 2.2}, 'visibility': 10000, 'pop': 0, 'sys': {'pod': 'd'}, 'dt_txt': '2024-09-07 15:00:00'}, {'dt': 1725732000, 'main': {'temp': 290.7, 'feels_like': 290.5, 'temp_min': 290.7, 'temp_max': 290.7, 'pressure': 1023, 'sea_level': 1023, 'grnd_level': 966, 'humidity': 76, 'temp_kf': 0}, 'weather': [{'id': 800, 'main': 'Clear', 'description': 'clear sky', 'icon': '01d'}], 'clouds': {'all': 3}, 'wind': {'speed': 0.08, 'deg': 230, 'gust': 0.08}, 'visibility': 10000, 'pop': 0, 'sys': {'pod': 'd'}, 'dt_txt': '2024-09-07 18:00:00'}, {'dt': 1725742800, 'main': {'temp': 288.87, 'feels_like': 288.61, 'temp_min': 288.87, 'temp_max': 288.87, 'pressure': 1023, 'sea_level': 1023, 'grnd_level': 966, 'humidity': 81, 'temp_kf': 0}, 'weather': [{'id': 801, 'main': 'Clouds', 'description': 'few clouds', 'icon': '02n'}], 'clouds': {'all': 21}, 'wind': {'speed': 1.82, 'deg': 323, 'gust': 1.6}, 'visibility': 10000, 'pop': 0, 'sys': {'pod': 'n'}, 'dt_txt': '2024-09-07 21:00:00'}, {'dt': 1725753600, 'main': {'temp': 288.56, 'feels_like': 288.19, 'temp_min': 288.56, 'temp_max': 288.56, 'pressure': 1022, 'sea_level': 1022, 'grnd_level': 966, 'humidity': 78, 'temp_kf': 0}, 'weather': [{'id': 802, 'main': 'Clouds', 'description': 'scattered clouds', 'icon': '03n'}], 'clouds': {'all': 31}, 'wind': {'speed': 1.9, 'deg': 335, 'gust': 1.75}, 'visibility': 10000, 'pop': 0, 'sys': {'pod': 'n'}, 'dt_txt': '2024-09-08 00:00:00'}, {'dt': 1725764400, 'main': {'temp': 287.38, 'feels_like': 287.13, 'temp_min': 287.38, 'temp_max': 287.38, 'pressure': 1022, 'sea_level': 1022, 'grnd_level': 965, 'humidity': 87, 'temp_kf': 0}, 'weather': [{'id': 500, 'main': 'Rain', 'description': 'light rain', 'icon': '10n'}], 'clouds': {'all': 48}, 'wind': {'speed': 1.6, 'deg': 356, 'gust': 1.42}, 'visibility': 10000, 'pop': 0.53, 'rain': {'3h': 0.3}, 'sys': {'pod': 'n'}, 'dt_txt': '2024-09-08 03:00:00'}, {'dt': 1725775200, 'main': {'temp': 288.16, 'feels_like': 288.04, 'temp_min': 288.16, 'temp_max': 288.16, 'pressure': 1022, 'sea_level': 1022, 'grnd_level': 965, 'humidity': 89, 'temp_kf': 0}, 'weather': [{'id': 500, 'main': 'Rain', 'description': 'light rain', 'icon': '10d'}], 'clouds': {'all': 47}, 'wind': {'speed': 1.44, 'deg': 358, 'gust': 1.45}, 'visibility': 10000, 'pop': 1, 'rain': {'3h': 0.52}, 'sys': {'pod': 'd'}, 'dt_txt': '2024-09-08 06:00:00'}, {'dt': 1725786000, 'main': {'temp': 293.12, 'feels_like': 293.05, 'temp_min': 293.12, 'temp_max': 293.12, 'pressure': 1022, 'sea_level': 1022, 'grnd_level': 965, 'humidity': 72, 'temp_kf': 0}, 'weather': [{'id': 802, 'main': 'Clouds', 'description': 'scattered clouds', 'icon': '03d'}], 'clouds': {'all': 48}, 'wind': {'speed': 0.92, 'deg': 89, 'gust': 1.02}, 'visibility': 10000, 'pop': 0, 'sys': {'pod': 'd'}, 'dt_txt': '2024-09-08 09:00:00'}, {'dt': 1725796800, 'main': {'temp': 295.68, 'feels_like': 295.42, 'temp_min': 295.68, 'temp_max': 295.68, 'pressure': 1020, 'sea_level': 1020, 'grnd_level': 964, 'humidity': 55, 'temp_kf': 0}, 'weather': [{'id': 803, 'main': 'Clouds', 'description': 'broken clouds', 'icon': '04d'}], 'clouds': {'all': 60}, 'wind': {'speed': 1.73, 'deg': 120, 'gust': 3.37}, 'visibility': 10000, 'pop': 0, 'sys': {'pod': 'd'}, 'dt_txt': '2024-09-08 12:00:00'}, {'dt': 1725807600, 'main': {'temp': 295.94, 'feels_like': 295.63, 'temp_min': 295.94, 'temp_max': 295.94, 'pressure': 1019, 'sea_level': 1019, 'grnd_level': 963, 'humidity': 52, 'temp_kf': 0}, 'weather': [{'id': 803, 'main': 'Clouds', 'description': 'broken clouds', 'icon': '04d'}], 'clouds': {'all': 70}, 'wind': {'speed': 1.96, 'deg': 125, 'gust': 2.95}, 'visibility': 10000, 'pop': 0, 'sys': {'pod': 'd'}, 'dt_txt': '2024-09-08 15:00:00'}, {'dt': 1725818400, 'main': {'temp': 290.45, 'feels_like': 290.25, 'temp_min': 290.45, 'temp_max': 290.45, 'pressure': 1019, 'sea_level': 1019, 'grnd_level': 963, 'humidity': 77, 'temp_kf': 0}, 'weather': [{'id': 803, 'main': 'Clouds', 'description': 'broken clouds', 'icon': '04d'}], 'clouds': {'all': 74}, 'wind': {'speed': 0.99, 'deg': 327, 'gust': 0.48}, 'visibility': 10000, 'pop': 0, 'sys': {'pod': 'd'}, 'dt_txt': '2024-09-08 18:00:00'}, {'dt': 1725829200, 'main': {'temp': 288.94, 'feels_like': 288.66, 'temp_min': 288.94, 'temp_max': 288.94, 'pressure': 1019, 'sea_level': 1019, 'grnd_level': 963, 'humidity': 80, 'temp_kf': 0}, 'weather': [{'id': 802, 'main': 'Clouds', 'description': 'scattered clouds', 'icon': '03n'}], 'clouds': {'all': 30}, 'wind': {'speed': 1.94, 'deg': 328, 'gust': 1.72}, 'visibility': 10000, 'pop': 0, 'sys': {'pod': 'n'}, 'dt_txt': '2024-09-08 21:00:00'}, {'dt': 1725840000, 'main': {'temp': 288.25, 'feels_like': 287.9, 'temp_min': 288.25, 'temp_max': 288.25, 'pressure': 1018, 'sea_level': 1018, 'grnd_level': 962, 'humidity': 80, 'temp_kf': 0}, 'weather': [{'id': 802, 'main': 'Clouds', 'description': 'scattered clouds', 'icon': '03n'}], 'clouds': {'all': 29}, 'wind': {'speed': 1.97, 'deg': 337, 'gust': 1.82}, 'visibility': 10000, 'pop': 0, 'sys': {'pod': 'n'}, 'dt_txt': '2024-09-09 00:00:00'}, {'dt': 1725850800, 'main': {'temp': 287.16, 'feels_like': 286.81, 'temp_min': 287.16, 'temp_max': 287.16, 'pressure': 1018, 'sea_level': 1018, 'grnd_level': 961, 'humidity': 84, 'temp_kf': 0}, 'weather': [{'id': 802, 'main': 'Clouds', 'description': 'scattered clouds', 'icon': '03n'}], 'clouds': {'all': 39}, 'wind': {'speed': 1.88, 'deg': 344, 'gust': 1.71}, 'visibility': 10000, 'pop': 0, 'sys': {'pod': 'n'}, 'dt_txt': '2024-09-09 03:00:00'}, {'dt': 1725861600, 'main': {'temp': 288.37, 'feels_like': 288.06, 'temp_min': 288.37, 'temp_max': 288.37, 'pressure': 1018, 'sea_level': 1018, 'grnd_level': 961, 'humidity': 81, 'temp_kf': 0}, 'weather': [{'id': 803, 'main': 'Clouds', 'description': 'broken clouds', 'icon': '04d'}], 'clouds': {'all': 59}, 'wind': {'speed': 1.21, 'deg': 349, 'gust': 1.1}, 'visibility': 10000, 'pop': 0, 'sys': {'pod': 'd'}, 'dt_txt': '2024-09-09 06:00:00'}, {'dt': 1725872400, 'main': {'temp': 293.87, 'feels_like': 293.62, 'temp_min': 293.87, 'temp_max': 293.87, 'pressure': 1017, 'sea_level': 1017, 'grnd_level': 961, 'humidity': 62, 'temp_kf': 0}, 'weather': [{'id': 804, 'main': 'Clouds', 'description': 'overcast clouds', 'icon': '04d'}], 'clouds': {'all': 87}, 'wind': {'speed': 1.12, 'deg': 106, 'gust': 0.98}, 'visibility': 10000, 'pop': 0, 'sys': {'pod': 'd'}, 'dt_txt': '2024-09-09 09:00:00'}, {'dt': 1725883200, 'main': {'temp': 296.22, 'feels_like': 296.12, 'temp_min': 296.22, 'temp_max': 296.22, 'pressure': 1016, 'sea_level': 1016, 'grnd_level': 960, 'humidity': 59, 'temp_kf': 0}, 'weather': [{'id': 803, 'main': 'Clouds', 'description': 'broken clouds', 'icon': '04d'}], 'clouds': {'all': 78}, 'wind': {'speed': 1.59, 'deg': 129, 'gust': 1.94}, 'visibility': 10000, 'pop': 0, 'sys': {'pod': 'd'}, 'dt_txt': '2024-09-09 12:00:00'}, {'dt': 1725894000, 'main': {'temp': 296.3, 'feels_like': 296.24, 'temp_min': 296.3, 'temp_max': 296.3, 'pressure': 1014, 'sea_level': 1014, 'grnd_level': 959, 'humidity': 60, 'temp_kf': 0}, 'weather': [{'id': 804, 'main': 'Clouds', 'description': 'overcast clouds', 'icon': '04d'}], 'clouds': {'all': 92}, 'wind': {'speed': 1.64, 'deg': 133, 'gust': 2.28}, 'visibility': 10000, 'pop': 0, 'sys': {'pod': 'd'}, 'dt_txt': '2024-09-09 15:00:00'}, {'dt': 1725904800, 'main': {'temp': 291.17, 'feels_like': 291.22, 'temp_min': 291.17, 'temp_max': 291.17, 'pressure': 1014, 'sea_level': 1014, 'grnd_level': 959, 'humidity': 84, 'temp_kf': 0}, 'weather': [{'id': 804, 'main': 'Clouds', 'description': 'overcast clouds', 'icon': '04d'}], 'clouds': {'all': 87}, 'wind': {'speed': 0.28, 'deg': 170, 'gust': 0.37}, 'visibility': 10000, 'pop': 0, 'sys': {'pod': 'd'}, 'dt_txt': '2024-09-09 18:00:00'}], 'city': {'id': 3144113, 'name': 'Noresund', 'coord': {'lat': 60.1803, 'lon': 9.6231}, 'country': 'NO', 'population': 1000, 'timezone': 7200, 'sunrise': 1725423842, 'sunset': 1725473838}}\""
      ]
     },
     "execution_count": 15,
     "metadata": {},
     "output_type": "execute_result"
    }
   ],
   "source": [
    "# Inspect JSON file\n",
    "forecast.__str__()"
   ]
  },
  {
   "cell_type": "markdown",
   "metadata": {
    "slideshow": {
     "slide_type": "slide"
    }
   },
   "source": [
    "## Raw JSON\n",
    "- A simple, but not very efficient way of storing JSON data is to treat it as a text and save it directly to the database.  \n",
    "- More efficient, with regard to transfer, is to compress the JSON data to a blob first.\n",
    "    - Compression is automatic."
   ]
  },
  {
   "cell_type": "code",
   "execution_count": 16,
   "metadata": {
    "ExecuteTime": {
     "end_time": "2024-08-17T10:25:35.916537Z",
     "start_time": "2024-08-17T10:25:35.799572Z"
    },
    "execution": {
     "iopub.execute_input": "2024-08-17T11:11:09.950984Z",
     "iopub.status.busy": "2024-08-17T11:11:09.950913Z",
     "iopub.status.idle": "2024-08-17T11:11:10.145496Z",
     "shell.execute_reply": "2024-08-17T11:11:10.144832Z"
    },
    "slideshow": {
     "slide_type": "-"
    }
   },
   "outputs": [
    {
     "data": {
      "text/plain": [
       "<cassandra.cluster.ResultSet at 0x1099bce60>"
      ]
     },
     "execution_count": 16,
     "metadata": {},
     "output_type": "execute_result"
    }
   ],
   "source": [
    "# Create a new table which treats the whole JSON as a blob, using the city id and the first dt as keys\n",
    "session.set_keyspace('my_first_keyspace')\n",
    "session.execute(\"DROP TABLE IF EXISTS my_first_keyspace.forecast_table;\")\n",
    "session.execute(\"CREATE TABLE IF NOT EXISTS forecast_table (city_id int, dt int, forecast blob, PRIMARY KEY(city_id, dt));\")"
   ]
  },
  {
   "cell_type": "markdown",
   "metadata": {
    "slideshow": {
     "slide_type": "slide"
    }
   },
   "source": [
    "### Insert the forecast data into the table as text blob"
   ]
  },
  {
   "cell_type": "code",
   "execution_count": 17,
   "metadata": {
    "ExecuteTime": {
     "end_time": "2024-08-17T10:25:35.935855Z",
     "start_time": "2024-08-17T10:25:35.917175Z"
    },
    "execution": {
     "iopub.execute_input": "2024-08-17T11:11:10.148703Z",
     "iopub.status.busy": "2024-08-17T11:11:10.148303Z",
     "iopub.status.idle": "2024-08-17T11:11:10.155783Z",
     "shell.execute_reply": "2024-08-17T11:11:10.155541Z"
    },
    "slideshow": {
     "slide_type": "-"
    }
   },
   "outputs": [
    {
     "data": {
      "text/plain": [
       "<cassandra.cluster.ResultSet at 0x1099c48f0>"
      ]
     },
     "execution_count": 17,
     "metadata": {},
     "output_type": "execute_result"
    }
   ],
   "source": [
    "session.execute(\"INSERT INTO forecast_table (city_id, dt, forecast) VALUES (%s, %s, textAsBlob(%s));\", (forecast['city']['id'], forecast['list'][0]['dt'], forecast.__str__()))"
   ]
  },
  {
   "cell_type": "code",
   "execution_count": 18,
   "metadata": {
    "ExecuteTime": {
     "end_time": "2024-08-17T10:25:35.946537Z",
     "start_time": "2024-08-17T10:25:35.938642Z"
    },
    "execution": {
     "iopub.execute_input": "2024-08-17T11:11:10.159331Z",
     "iopub.status.busy": "2024-08-17T11:11:10.159199Z",
     "iopub.status.idle": "2024-08-17T11:11:10.169987Z",
     "shell.execute_reply": "2024-08-17T11:11:10.169745Z"
    },
    "slideshow": {
     "slide_type": "slide"
    }
   },
   "outputs": [
    {
     "name": "stdout",
     "output_type": "stream",
     "text": [
      "Row(city_id=3144113, dt=1725483600, forecast=b\"{'cod': '200', 'message': 0, 'cnt': 40, 'list': [{'dt': 1725483600, 'main': {'temp': 289.48, 'feels_like': 289.73, 'temp_min': 288.7, 'temp_max': 289.48, 'pressure': 1025, 'sea_level': 1025, 'grnd_level': 969, 'humidity': 98, 'temp_kf': 0.78}, 'weather': [{'id': 500, 'main': 'Rain', 'description': 'light rain', 'icon': '10n'}], 'clouds': {'all': 99}, 'wind': {'speed': 1.91, 'deg': 344, 'gust': 2.92}, 'visibility': 10000, 'pop': 0.3, 'rain': {'3h': 0.27}, 'sys': {'pod': 'n'}, 'dt_txt': '2024-09-04 21:00:00'}, {'dt': 1725494400, 'main': {'temp': 288.59, 'feels_like': 288.72, 'temp_min': 287.95, 'temp_max': 288.59, 'pressure': 1026, 'sea_level': 1026, 'grnd_level': 970, 'humidity': 97, 'temp_kf': 0.64}, 'weather': [{'id': 500, 'main': 'Rain', 'description': 'light rain', 'icon': '10n'}], 'clouds': {'all': 95}, 'wind': {'speed': 2.08, 'deg': 337, 'gust': 2.58}, 'visibility': 10000, 'pop': 0.3, 'rain': {'3h': 0.14}, 'sys': {'pod': 'n'}, 'dt_txt': '2024-09-05 00:00:00'}, {'dt': 1725505200, 'main': {'temp': 287.76, 'feels_like': 287.81, 'temp_min': 287.76, 'temp_max': 287.76, 'pressure': 1028, 'sea_level': 1028, 'grnd_level': 971, 'humidity': 97, 'temp_kf': 0}, 'weather': [{'id': 804, 'main': 'Clouds', 'description': 'overcast clouds', 'icon': '04n'}], 'clouds': {'all': 88}, 'wind': {'speed': 1.95, 'deg': 339, 'gust': 2.06}, 'visibility': 10000, 'pop': 0, 'sys': {'pod': 'n'}, 'dt_txt': '2024-09-05 03:00:00'}, {'dt': 1725516000, 'main': {'temp': 288.81, 'feels_like': 288.94, 'temp_min': 288.81, 'temp_max': 288.81, 'pressure': 1029, 'sea_level': 1029, 'grnd_level': 972, 'humidity': 96, 'temp_kf': 0}, 'weather': [{'id': 803, 'main': 'Clouds', 'description': 'broken clouds', 'icon': '04d'}], 'clouds': {'all': 62}, 'wind': {'speed': 1.6, 'deg': 340, 'gust': 2.27}, 'visibility': 10000, 'pop': 0, 'sys': {'pod': 'd'}, 'dt_txt': '2024-09-05 06:00:00'}, {'dt': 1725526800, 'main': {'temp': 294.22, 'feels_like': 294.47, 'temp_min': 294.22, 'temp_max': 294.22, 'pressure': 1030, 'sea_level': 1030, 'grnd_level': 973, 'humidity': 80, 'temp_kf': 0}, 'weather': [{'id': 800, 'main': 'Clear', 'description': 'clear sky', 'icon': '01d'}], 'clouds': {'all': 10}, 'wind': {'speed': 0.79, 'deg': 67, 'gust': 0.99}, 'visibility': 10000, 'pop': 0, 'sys': {'pod': 'd'}, 'dt_txt': '2024-09-05 09:00:00'}, {'dt': 1725537600, 'main': {'temp': 297.49, 'feels_like': 297.44, 'temp_min': 297.49, 'temp_max': 297.49, 'pressure': 1029, 'sea_level': 1029, 'grnd_level': 973, 'humidity': 56, 'temp_kf': 0}, 'weather': [{'id': 800, 'main': 'Clear', 'description': 'clear sky', 'icon': '01d'}], 'clouds': {'all': 8}, 'wind': {'speed': 1.4, 'deg': 113, 'gust': 1.42}, 'visibility': 10000, 'pop': 0, 'sys': {'pod': 'd'}, 'dt_txt': '2024-09-05 12:00:00'}, {'dt': 1725548400, 'main': {'temp': 297.42, 'feels_like': 297.34, 'temp_min': 297.42, 'temp_max': 297.42, 'pressure': 1028, 'sea_level': 1028, 'grnd_level': 972, 'humidity': 55, 'temp_kf': 0}, 'weather': [{'id': 800, 'main': 'Clear', 'description': 'clear sky', 'icon': '01d'}], 'clouds': {'all': 2}, 'wind': {'speed': 1, 'deg': 121, 'gust': 1.13}, 'visibility': 10000, 'pop': 0, 'sys': {'pod': 'd'}, 'dt_txt': '2024-09-05 15:00:00'}, {'dt': 1725559200, 'main': {'temp': 291.82, 'feels_like': 291.83, 'temp_min': 291.82, 'temp_max': 291.82, 'pressure': 1029, 'sea_level': 1029, 'grnd_level': 973, 'humidity': 80, 'temp_kf': 0}, 'weather': [{'id': 800, 'main': 'Clear', 'description': 'clear sky', 'icon': '01d'}], 'clouds': {'all': 4}, 'wind': {'speed': 0.82, 'deg': 286, 'gust': 0.55}, 'visibility': 10000, 'pop': 0, 'sys': {'pod': 'd'}, 'dt_txt': '2024-09-05 18:00:00'}, {'dt': 1725570000, 'main': {'temp': 289.81, 'feels_like': 289.78, 'temp_min': 289.81, 'temp_max': 289.81, 'pressure': 1030, 'sea_level': 1030, 'grnd_level': 973, 'humidity': 86, 'temp_kf': 0}, 'weather': [{'id': 800, 'main': 'Clear', 'description': 'clear sky', 'icon': '01n'}], 'clouds': {'all': 8}, 'wind': {'speed': 1.95, 'deg': 315, 'gust': 1.7}, 'visibility': 10000, 'pop': 0, 'sys': {'pod': 'n'}, 'dt_txt': '2024-09-05 21:00:00'}, {'dt': 1725580800, 'main': {'temp': 289.1, 'feels_like': 289.02, 'temp_min': 289.1, 'temp_max': 289.1, 'pressure': 1030, 'sea_level': 1030, 'grnd_level': 973, 'humidity': 87, 'temp_kf': 0}, 'weather': [{'id': 801, 'main': 'Clouds', 'description': 'few clouds', 'icon': '02n'}], 'clouds': {'all': 13}, 'wind': {'speed': 1.65, 'deg': 315, 'gust': 1.42}, 'visibility': 10000, 'pop': 0, 'sys': {'pod': 'n'}, 'dt_txt': '2024-09-06 00:00:00'}, {'dt': 1725591600, 'main': {'temp': 288.38, 'feels_like': 288.28, 'temp_min': 288.38, 'temp_max': 288.38, 'pressure': 1029, 'sea_level': 1029, 'grnd_level': 972, 'humidity': 89, 'temp_kf': 0}, 'weather': [{'id': 800, 'main': 'Clear', 'description': 'clear sky', 'icon': '01n'}], 'clouds': {'all': 9}, 'wind': {'speed': 1.6, 'deg': 319, 'gust': 1.38}, 'visibility': 10000, 'pop': 0, 'sys': {'pod': 'n'}, 'dt_txt': '2024-09-06 03:00:00'}, {'dt': 1725602400, 'main': {'temp': 290.22, 'feels_like': 290.15, 'temp_min': 290.22, 'temp_max': 290.22, 'pressure': 1029, 'sea_level': 1029, 'grnd_level': 972, 'humidity': 83, 'temp_kf': 0}, 'weather': [{'id': 800, 'main': 'Clear', 'description': 'clear sky', 'icon': '01d'}], 'clouds': {'all': 8}, 'wind': {'speed': 0.93, 'deg': 339, 'gust': 0.84}, 'visibility': 10000, 'pop': 0, 'sys': {'pod': 'd'}, 'dt_txt': '2024-09-06 06:00:00'}, {'dt': 1725613200, 'main': {'temp': 295.11, 'feels_like': 295.06, 'temp_min': 295.11, 'temp_max': 295.11, 'pressure': 1028, 'sea_level': 1028, 'grnd_level': 971, 'humidity': 65, 'temp_kf': 0}, 'weather': [{'id': 800, 'main': 'Clear', 'description': 'clear sky', 'icon': '01d'}], 'clouds': {'all': 6}, 'wind': {'speed': 1.28, 'deg': 129, 'gust': 1.16}, 'visibility': 10000, 'pop': 0, 'sys': {'pod': 'd'}, 'dt_txt': '2024-09-06 09:00:00'}, {'dt': 1725624000, 'main': {'temp': 297.27, 'feels_like': 297.15, 'temp_min': 297.27, 'temp_max': 297.27, 'pressure': 1026, 'sea_level': 1026, 'grnd_level': 970, 'humidity': 54, 'temp_kf': 0}, 'weather': [{'id': 800, 'main': 'Clear', 'description': 'clear sky', 'icon': '01d'}], 'clouds': {'all': 4}, 'wind': {'speed': 1.85, 'deg': 138, 'gust': 2.12}, 'visibility': 10000, 'pop': 0, 'sys': {'pod': 'd'}, 'dt_txt': '2024-09-06 12:00:00'}, {'dt': 1725634800, 'main': {'temp': 297, 'feels_like': 296.82, 'temp_min': 297, 'temp_max': 297, 'pressure': 1025, 'sea_level': 1025, 'grnd_level': 969, 'humidity': 53, 'temp_kf': 0}, 'weather': [{'id': 800, 'main': 'Clear', 'description': 'clear sky', 'icon': '01d'}], 'clouds': {'all': 1}, 'wind': {'speed': 1.87, 'deg': 147, 'gust': 2.22}, 'visibility': 10000, 'pop': 0, 'sys': {'pod': 'd'}, 'dt_txt': '2024-09-06 15:00:00'}, {'dt': 1725645600, 'main': {'temp': 291.06, 'feels_like': 291, 'temp_min': 291.06, 'temp_max': 291.06, 'pressure': 1025, 'sea_level': 1025, 'grnd_level': 968, 'humidity': 80, 'temp_kf': 0}, 'weather': [{'id': 800, 'main': 'Clear', 'description': 'clear sky', 'icon': '01d'}], 'clouds': {'all': 1}, 'wind': {'speed': 0.8, 'deg': 192, 'gust': 0.85}, 'visibility': 10000, 'pop': 0, 'sys': {'pod': 'd'}, 'dt_txt': '2024-09-06 18:00:00'}, {'dt': 1725656400, 'main': {'temp': 288.66, 'feels_like': 288.49, 'temp_min': 288.66, 'temp_max': 288.66, 'pressure': 1025, 'sea_level': 1025, 'grnd_level': 968, 'humidity': 85, 'temp_kf': 0}, 'weather': [{'id': 800, 'main': 'Clear', 'description': 'clear sky', 'icon': '01n'}], 'clouds': {'all': 0}, 'wind': {'speed': 1.48, 'deg': 306, 'gust': 1.14}, 'visibility': 10000, 'pop': 0, 'sys': {'pod': 'n'}, 'dt_txt': '2024-09-06 21:00:00'}, {'dt': 1725667200, 'main': {'temp': 287.75, 'feels_like': 287.54, 'temp_min': 287.75, 'temp_max': 287.75, 'pressure': 1024, 'sea_level': 1024, 'grnd_level': 968, 'humidity': 87, 'temp_kf': 0}, 'weather': [{'id': 800, 'main': 'Clear', 'description': 'clear sky', 'icon': '01n'}], 'clouds': {'all': 0}, 'wind': {'speed': 1.71, 'deg': 309, 'gust': 1.49}, 'visibility': 10000, 'pop': 0, 'sys': {'pod': 'n'}, 'dt_txt': '2024-09-07 00:00:00'}, {'dt': 1725678000, 'main': {'temp': 286.89, 'feels_like': 286.62, 'temp_min': 286.89, 'temp_max': 286.89, 'pressure': 1023, 'sea_level': 1023, 'grnd_level': 967, 'humidity': 88, 'temp_kf': 0}, 'weather': [{'id': 800, 'main': 'Clear', 'description': 'clear sky', 'icon': '01n'}], 'clouds': {'all': 0}, 'wind': {'speed': 1.56, 'deg': 309, 'gust': 1.39}, 'visibility': 10000, 'pop': 0, 'sys': {'pod': 'n'}, 'dt_txt': '2024-09-07 03:00:00'}, {'dt': 1725688800, 'main': {'temp': 288.74, 'feels_like': 288.5, 'temp_min': 288.74, 'temp_max': 288.74, 'pressure': 1024, 'sea_level': 1024, 'grnd_level': 967, 'humidity': 82, 'temp_kf': 0}, 'weather': [{'id': 800, 'main': 'Clear', 'description': 'clear sky', 'icon': '01d'}], 'clouds': {'all': 1}, 'wind': {'speed': 1.05, 'deg': 322, 'gust': 0.96}, 'visibility': 10000, 'pop': 0, 'sys': {'pod': 'd'}, 'dt_txt': '2024-09-07 06:00:00'}, {'dt': 1725699600, 'main': {'temp': 294.09, 'feels_like': 293.88, 'temp_min': 294.09, 'temp_max': 294.09, 'pressure': 1023, 'sea_level': 1023, 'grnd_level': 967, 'humidity': 63, 'temp_kf': 0}, 'weather': [{'id': 800, 'main': 'Clear', 'description': 'clear sky', 'icon': '01d'}], 'clouds': {'all': 5}, 'wind': {'speed': 1.14, 'deg': 122, 'gust': 1}, 'visibility': 10000, 'pop': 0, 'sys': {'pod': 'd'}, 'dt_txt': '2024-09-07 09:00:00'}, {'dt': 1725710400, 'main': {'temp': 296.2, 'feels_like': 296.02, 'temp_min': 296.2, 'temp_max': 296.2, 'pressure': 1023, 'sea_level': 1023, 'grnd_level': 967, 'humidity': 56, 'temp_kf': 0}, 'weather': [{'id': 800, 'main': 'Clear', 'description': 'clear sky', 'icon': '01d'}], 'clouds': {'all': 3}, 'wind': {'speed': 1.8, 'deg': 128, 'gust': 2.19}, 'visibility': 10000, 'pop': 0, 'sys': {'pod': 'd'}, 'dt_txt': '2024-09-07 12:00:00'}, {'dt': 1725721200, 'main': {'temp': 296.14, 'feels_like': 295.85, 'temp_min': 296.14, 'temp_max': 296.14, 'pressure': 1022, 'sea_level': 1022, 'grnd_level': 966, 'humidity': 52, 'temp_kf': 0}, 'weather': [{'id': 800, 'main': 'Clear', 'description': 'clear sky', 'icon': '01d'}], 'clouds': {'all': 1}, 'wind': {'speed': 1.66, 'deg': 141, 'gust': 2.2}, 'visibility': 10000, 'pop': 0, 'sys': {'pod': 'd'}, 'dt_txt': '2024-09-07 15:00:00'}, {'dt': 1725732000, 'main': {'temp': 290.7, 'feels_like': 290.5, 'temp_min': 290.7, 'temp_max': 290.7, 'pressure': 1023, 'sea_level': 1023, 'grnd_level': 966, 'humidity': 76, 'temp_kf': 0}, 'weather': [{'id': 800, 'main': 'Clear', 'description': 'clear sky', 'icon': '01d'}], 'clouds': {'all': 3}, 'wind': {'speed': 0.08, 'deg': 230, 'gust': 0.08}, 'visibility': 10000, 'pop': 0, 'sys': {'pod': 'd'}, 'dt_txt': '2024-09-07 18:00:00'}, {'dt': 1725742800, 'main': {'temp': 288.87, 'feels_like': 288.61, 'temp_min': 288.87, 'temp_max': 288.87, 'pressure': 1023, 'sea_level': 1023, 'grnd_level': 966, 'humidity': 81, 'temp_kf': 0}, 'weather': [{'id': 801, 'main': 'Clouds', 'description': 'few clouds', 'icon': '02n'}], 'clouds': {'all': 21}, 'wind': {'speed': 1.82, 'deg': 323, 'gust': 1.6}, 'visibility': 10000, 'pop': 0, 'sys': {'pod': 'n'}, 'dt_txt': '2024-09-07 21:00:00'}, {'dt': 1725753600, 'main': {'temp': 288.56, 'feels_like': 288.19, 'temp_min': 288.56, 'temp_max': 288.56, 'pressure': 1022, 'sea_level': 1022, 'grnd_level': 966, 'humidity': 78, 'temp_kf': 0}, 'weather': [{'id': 802, 'main': 'Clouds', 'description': 'scattered clouds', 'icon': '03n'}], 'clouds': {'all': 31}, 'wind': {'speed': 1.9, 'deg': 335, 'gust': 1.75}, 'visibility': 10000, 'pop': 0, 'sys': {'pod': 'n'}, 'dt_txt': '2024-09-08 00:00:00'}, {'dt': 1725764400, 'main': {'temp': 287.38, 'feels_like': 287.13, 'temp_min': 287.38, 'temp_max': 287.38, 'pressure': 1022, 'sea_level': 1022, 'grnd_level': 965, 'humidity': 87, 'temp_kf': 0}, 'weather': [{'id': 500, 'main': 'Rain', 'description': 'light rain', 'icon': '10n'}], 'clouds': {'all': 48}, 'wind': {'speed': 1.6, 'deg': 356, 'gust': 1.42}, 'visibility': 10000, 'pop': 0.53, 'rain': {'3h': 0.3}, 'sys': {'pod': 'n'}, 'dt_txt': '2024-09-08 03:00:00'}, {'dt': 1725775200, 'main': {'temp': 288.16, 'feels_like': 288.04, 'temp_min': 288.16, 'temp_max': 288.16, 'pressure': 1022, 'sea_level': 1022, 'grnd_level': 965, 'humidity': 89, 'temp_kf': 0}, 'weather': [{'id': 500, 'main': 'Rain', 'description': 'light rain', 'icon': '10d'}], 'clouds': {'all': 47}, 'wind': {'speed': 1.44, 'deg': 358, 'gust': 1.45}, 'visibility': 10000, 'pop': 1, 'rain': {'3h': 0.52}, 'sys': {'pod': 'd'}, 'dt_txt': '2024-09-08 06:00:00'}, {'dt': 1725786000, 'main': {'temp': 293.12, 'feels_like': 293.05, 'temp_min': 293.12, 'temp_max': 293.12, 'pressure': 1022, 'sea_level': 1022, 'grnd_level': 965, 'humidity': 72, 'temp_kf': 0}, 'weather': [{'id': 802, 'main': 'Clouds', 'description': 'scattered clouds', 'icon': '03d'}], 'clouds': {'all': 48}, 'wind': {'speed': 0.92, 'deg': 89, 'gust': 1.02}, 'visibility': 10000, 'pop': 0, 'sys': {'pod': 'd'}, 'dt_txt': '2024-09-08 09:00:00'}, {'dt': 1725796800, 'main': {'temp': 295.68, 'feels_like': 295.42, 'temp_min': 295.68, 'temp_max': 295.68, 'pressure': 1020, 'sea_level': 1020, 'grnd_level': 964, 'humidity': 55, 'temp_kf': 0}, 'weather': [{'id': 803, 'main': 'Clouds', 'description': 'broken clouds', 'icon': '04d'}], 'clouds': {'all': 60}, 'wind': {'speed': 1.73, 'deg': 120, 'gust': 3.37}, 'visibility': 10000, 'pop': 0, 'sys': {'pod': 'd'}, 'dt_txt': '2024-09-08 12:00:00'}, {'dt': 1725807600, 'main': {'temp': 295.94, 'feels_like': 295.63, 'temp_min': 295.94, 'temp_max': 295.94, 'pressure': 1019, 'sea_level': 1019, 'grnd_level': 963, 'humidity': 52, 'temp_kf': 0}, 'weather': [{'id': 803, 'main': 'Clouds', 'description': 'broken clouds', 'icon': '04d'}], 'clouds': {'all': 70}, 'wind': {'speed': 1.96, 'deg': 125, 'gust': 2.95}, 'visibility': 10000, 'pop': 0, 'sys': {'pod': 'd'}, 'dt_txt': '2024-09-08 15:00:00'}, {'dt': 1725818400, 'main': {'temp': 290.45, 'feels_like': 290.25, 'temp_min': 290.45, 'temp_max': 290.45, 'pressure': 1019, 'sea_level': 1019, 'grnd_level': 963, 'humidity': 77, 'temp_kf': 0}, 'weather': [{'id': 803, 'main': 'Clouds', 'description': 'broken clouds', 'icon': '04d'}], 'clouds': {'all': 74}, 'wind': {'speed': 0.99, 'deg': 327, 'gust': 0.48}, 'visibility': 10000, 'pop': 0, 'sys': {'pod': 'd'}, 'dt_txt': '2024-09-08 18:00:00'}, {'dt': 1725829200, 'main': {'temp': 288.94, 'feels_like': 288.66, 'temp_min': 288.94, 'temp_max': 288.94, 'pressure': 1019, 'sea_level': 1019, 'grnd_level': 963, 'humidity': 80, 'temp_kf': 0}, 'weather': [{'id': 802, 'main': 'Clouds', 'description': 'scattered clouds', 'icon': '03n'}], 'clouds': {'all': 30}, 'wind': {'speed': 1.94, 'deg': 328, 'gust': 1.72}, 'visibility': 10000, 'pop': 0, 'sys': {'pod': 'n'}, 'dt_txt': '2024-09-08 21:00:00'}, {'dt': 1725840000, 'main': {'temp': 288.25, 'feels_like': 287.9, 'temp_min': 288.25, 'temp_max': 288.25, 'pressure': 1018, 'sea_level': 1018, 'grnd_level': 962, 'humidity': 80, 'temp_kf': 0}, 'weather': [{'id': 802, 'main': 'Clouds', 'description': 'scattered clouds', 'icon': '03n'}], 'clouds': {'all': 29}, 'wind': {'speed': 1.97, 'deg': 337, 'gust': 1.82}, 'visibility': 10000, 'pop': 0, 'sys': {'pod': 'n'}, 'dt_txt': '2024-09-09 00:00:00'}, {'dt': 1725850800, 'main': {'temp': 287.16, 'feels_like': 286.81, 'temp_min': 287.16, 'temp_max': 287.16, 'pressure': 1018, 'sea_level': 1018, 'grnd_level': 961, 'humidity': 84, 'temp_kf': 0}, 'weather': [{'id': 802, 'main': 'Clouds', 'description': 'scattered clouds', 'icon': '03n'}], 'clouds': {'all': 39}, 'wind': {'speed': 1.88, 'deg': 344, 'gust': 1.71}, 'visibility': 10000, 'pop': 0, 'sys': {'pod': 'n'}, 'dt_txt': '2024-09-09 03:00:00'}, {'dt': 1725861600, 'main': {'temp': 288.37, 'feels_like': 288.06, 'temp_min': 288.37, 'temp_max': 288.37, 'pressure': 1018, 'sea_level': 1018, 'grnd_level': 961, 'humidity': 81, 'temp_kf': 0}, 'weather': [{'id': 803, 'main': 'Clouds', 'description': 'broken clouds', 'icon': '04d'}], 'clouds': {'all': 59}, 'wind': {'speed': 1.21, 'deg': 349, 'gust': 1.1}, 'visibility': 10000, 'pop': 0, 'sys': {'pod': 'd'}, 'dt_txt': '2024-09-09 06:00:00'}, {'dt': 1725872400, 'main': {'temp': 293.87, 'feels_like': 293.62, 'temp_min': 293.87, 'temp_max': 293.87, 'pressure': 1017, 'sea_level': 1017, 'grnd_level': 961, 'humidity': 62, 'temp_kf': 0}, 'weather': [{'id': 804, 'main': 'Clouds', 'description': 'overcast clouds', 'icon': '04d'}], 'clouds': {'all': 87}, 'wind': {'speed': 1.12, 'deg': 106, 'gust': 0.98}, 'visibility': 10000, 'pop': 0, 'sys': {'pod': 'd'}, 'dt_txt': '2024-09-09 09:00:00'}, {'dt': 1725883200, 'main': {'temp': 296.22, 'feels_like': 296.12, 'temp_min': 296.22, 'temp_max': 296.22, 'pressure': 1016, 'sea_level': 1016, 'grnd_level': 960, 'humidity': 59, 'temp_kf': 0}, 'weather': [{'id': 803, 'main': 'Clouds', 'description': 'broken clouds', 'icon': '04d'}], 'clouds': {'all': 78}, 'wind': {'speed': 1.59, 'deg': 129, 'gust': 1.94}, 'visibility': 10000, 'pop': 0, 'sys': {'pod': 'd'}, 'dt_txt': '2024-09-09 12:00:00'}, {'dt': 1725894000, 'main': {'temp': 296.3, 'feels_like': 296.24, 'temp_min': 296.3, 'temp_max': 296.3, 'pressure': 1014, 'sea_level': 1014, 'grnd_level': 959, 'humidity': 60, 'temp_kf': 0}, 'weather': [{'id': 804, 'main': 'Clouds', 'description': 'overcast clouds', 'icon': '04d'}], 'clouds': {'all': 92}, 'wind': {'speed': 1.64, 'deg': 133, 'gust': 2.28}, 'visibility': 10000, 'pop': 0, 'sys': {'pod': 'd'}, 'dt_txt': '2024-09-09 15:00:00'}, {'dt': 1725904800, 'main': {'temp': 291.17, 'feels_like': 291.22, 'temp_min': 291.17, 'temp_max': 291.17, 'pressure': 1014, 'sea_level': 1014, 'grnd_level': 959, 'humidity': 84, 'temp_kf': 0}, 'weather': [{'id': 804, 'main': 'Clouds', 'description': 'overcast clouds', 'icon': '04d'}], 'clouds': {'all': 87}, 'wind': {'speed': 0.28, 'deg': 170, 'gust': 0.37}, 'visibility': 10000, 'pop': 0, 'sys': {'pod': 'd'}, 'dt_txt': '2024-09-09 18:00:00'}], 'city': {'id': 3144113, 'name': 'Noresund', 'coord': {'lat': 60.1803, 'lon': 9.6231}, 'country': 'NO', 'population': 1000, 'timezone': 7200, 'sunrise': 1725423842, 'sunset': 1725473838}}\")\n"
     ]
    }
   ],
   "source": [
    "# Query the data\n",
    "forecast_rows = session.execute(\"SELECT * FROM forecast_table;\")\n",
    "print(forecast_rows.one()) # <- only one row"
   ]
  },
  {
   "cell_type": "markdown",
   "metadata": {
    "slideshow": {
     "slide_type": "slide"
    }
   },
   "source": [
    "```{seealso} Resources\n",
    ":class: tip\n",
    "- [Cassandra webpage](https://cassandra.apache.org/)\n",
    "- [Cassandra Docker file](https://hub.docker.com/_/cassandra)\n",
    "- [UUID functions](https://docs.datastax.com/en/cql-oss/3.3/cql/cql_reference/timeuuid_functions_r.html)\n",
    "- [YouTube: Cassandra in 100 seconds](https://youtu.be/ziq7FUKpCS8?si=WQUdkHFvaBmT0DBo) (2m:26s)\n",
    "- [YouTube: How to use Apache Cassandra in Python](https://youtu.be/qMauZqJH3ZM?si=yKGZ-5cld2BK396Y) (14m:50s)\n",
    "- [YouTube: Cassandra Database Crash Course](https://youtu.be/KZsVSfQVU4I?si=FBCi8qOfCirfVmZk) (19m:47s)\n",
    "```"
   ]
  }
 ],
 "metadata": {
  "celltoolbar": "Slideshow",
  "kernelspec": {
   "display_name": "Python 3 (ipykernel)",
   "language": "python",
   "name": "python3"
  },
  "language_info": {
   "codemirror_mode": {
    "name": "ipython",
    "version": 3
   },
   "file_extension": ".py",
   "mimetype": "text/x-python",
   "name": "python",
   "nbconvert_exporter": "python",
   "pygments_lexer": "ipython3",
   "version": "3.12.4"
  }
 },
 "nbformat": 4,
 "nbformat_minor": 2
}