{
 "cells": [
  {
   "cell_type": "markdown",
   "metadata": {
    "slideshow": {
     "slide_type": "slide"
    }
   },
   "source": [
    "# Cassandra\n",
    "- A production grade NoSQL database.\n",
    "- Can be distributed across servers, nodes, etc.\n",
    "- Replication of database is supported for high degree of redundancy and speed.\n",
    "- Uses CQL, a subset of SQL for querying.\n",
    "- Works seamlesly together with Spark and its corresponding distributed structure.\n",
    "- Installation of Cassandra is explained in the [Installation chapter](../../7_Appendix/Installation.ipynb)."
   ]
  },
  {
   "cell_type": "markdown",
   "metadata": {
    "slideshow": {
     "slide_type": "slide"
    }
   },
   "source": [
    "## Spinning up a local Cassandra instance\n",
    "In a terminal, first time:  \n",
    "```docker run --name my_cassandra -p 9042:9042 cassandra:latest```  \n",
    "... and later:  \n",
    "```docker start my_cassandra```  \n",
    "  \n",
    ".. or in Docker Desktop:\n",
    "- Run the cassandra docker image with optional settings, opening 9042 port and setting a name.\n",
    "- Later, simply run the container with the name you chose."
   ]
  },
  {
   "cell_type": "markdown",
   "metadata": {
    "slideshow": {
     "slide_type": "slide"
    }
   },
   "source": [
    "<img src=\"https://github.com/khliland/IND320/blob/main/D2Dbook/images/Docker_images.png?raw=TRUE\" width=\"600px\">  "
   ]
  },
  {
   "cell_type": "markdown",
   "metadata": {
    "slideshow": {
     "slide_type": "slide"
    }
   },
   "source": [
    "\n",
    "<img src=\"https://github.com/khliland/IND320/blob/main/D2Dbook/images/Docker_containers.png?raw=TRUE\" width=\"800px\">  "
   ]
  },
  {
   "cell_type": "markdown",
   "metadata": {
    "slideshow": {
     "slide_type": "slide"
    }
   },
   "source": [
    "### Connect to the Cassandra cluster from Python."
   ]
  },
  {
   "cell_type": "code",
   "execution_count": 1,
   "metadata": {
    "ExecuteTime": {
     "end_time": "2024-08-17T10:25:34.787878Z",
     "start_time": "2024-08-17T10:25:34.389367Z"
    },
    "slideshow": {
     "slide_type": "fragment"
    },
    "tags": []
   },
   "outputs": [],
   "source": [
    "# Connecting to Cassandra\n",
    "from cassandra.cluster import Cluster\n",
    "cluster = Cluster(['localhost'], port=9042)\n",
    "session = cluster.connect()"
   ]
  },
  {
   "cell_type": "markdown",
   "metadata": {
    "slideshow": {
     "slide_type": "slide"
    }
   },
   "source": [
    "### Keyspace\n",
    "- In Cassandra database tables are stored in keyspaces (basically a distributed database).\n",
    "- These have parameters controlling their distribution on nodes/servers and redundancy.\n",
    "- We will use the simplest form locally."
   ]
  },
  {
   "cell_type": "code",
   "execution_count": 2,
   "metadata": {
    "ExecuteTime": {
     "end_time": "2024-08-17T10:25:34.798504Z",
     "start_time": "2024-08-17T10:25:34.789786Z"
    },
    "slideshow": {
     "slide_type": "fragment"
    },
    "tags": []
   },
   "outputs": [
    {
     "data": {
      "text/plain": [
       "<cassandra.cluster.ResultSet at 0x103ebe1e0>"
      ]
     },
     "execution_count": 2,
     "metadata": {},
     "output_type": "execute_result"
    }
   ],
   "source": [
    "# Set up new keyspace (first time only)\n",
    "#                                              name of keyspace                        replication strategy           replication factor\n",
    "session.execute(\"CREATE KEYSPACE IF NOT EXISTS my_first_keyspace WITH REPLICATION = { 'class' : 'SimpleStrategy', 'replication_factor' : 1 };\")"
   ]
  },
  {
   "cell_type": "markdown",
   "metadata": {
    "slideshow": {
     "slide_type": "slide"
    }
   },
   "source": [
    "### Create a table\n",
    "- IF NOT EXISTS makes sure we do not overwrite existing tables"
   ]
  },
  {
   "cell_type": "code",
   "execution_count": 3,
   "metadata": {
    "ExecuteTime": {
     "end_time": "2024-08-17T10:25:35.347394Z",
     "start_time": "2024-08-17T10:25:34.800008Z"
    },
    "slideshow": {
     "slide_type": "fragment"
    },
    "tags": []
   },
   "outputs": [
    {
     "data": {
      "text/plain": [
       "<cassandra.cluster.ResultSet at 0x104d2ed50>"
      ]
     },
     "execution_count": 3,
     "metadata": {},
     "output_type": "execute_result"
    }
   ],
   "source": [
    "# Create a new table (first time only)\n",
    "session.set_keyspace('my_first_keyspace')\n",
    "session.execute(\"DROP TABLE IF EXISTS my_first_keyspace.my_first_table;\") # Starting from scratch every time\n",
    "session.execute(\"CREATE TABLE IF NOT EXISTS my_first_table (ind int PRIMARY KEY, company text, model text);\")"
   ]
  },
  {
   "cell_type": "markdown",
   "metadata": {
    "slideshow": {
     "slide_type": "slide"
    }
   },
   "source": [
    "### Inserting and reading data"
   ]
  },
  {
   "cell_type": "code",
   "execution_count": 4,
   "metadata": {
    "ExecuteTime": {
     "end_time": "2024-08-17T10:25:35.366363Z",
     "start_time": "2024-08-17T10:25:35.350453Z"
    },
    "slideshow": {
     "slide_type": "fragment"
    },
    "tags": []
   },
   "outputs": [
    {
     "data": {
      "text/plain": [
       "<cassandra.cluster.ResultSet at 0x104d2fb90>"
      ]
     },
     "execution_count": 4,
     "metadata": {},
     "output_type": "execute_result"
    }
   ],
   "source": [
    "# Insert some data (ind is the primary key, must be unique)\n",
    "session.execute(\"INSERT INTO my_first_table (ind, company, model) VALUES (1, 'Tesla', 'Model S');\")\n",
    "session.execute(\"INSERT INTO my_first_table (ind, company, model) VALUES (2, 'Tesla', 'Model 3');\")\n",
    "session.execute(\"INSERT INTO my_first_table (ind, company, model) VALUES (3, 'Polestar', '3');\")"
   ]
  },
  {
   "cell_type": "code",
   "execution_count": 5,
   "metadata": {},
   "outputs": [
    {
     "name": "stdout",
     "output_type": "stream",
     "text": [
      "Row(ind=1, company='Tesla', model='Model S')\n",
      "Row(ind=2, company='Tesla', model='Model 3')\n",
      "Row(ind=3, company='Polestar', model='3')\n"
     ]
    }
   ],
   "source": [
    "# Query the data\n",
    "rows = session.execute(\"SELECT * FROM my_first_table;\")\n",
    "for i in rows:\n",
    "    print(i)"
   ]
  },
  {
   "cell_type": "markdown",
   "metadata": {
    "slideshow": {
     "slide_type": "slide"
    },
    "tags": []
   },
   "source": [
    "### Case sensitivity\n",
    "- Cassandra is by default case insensitive in column names.\n",
    "- To use column names with capital letters, use double quotation marks both when creating tables and when inserting data.\n",
    "- The effect of insensitivity may be surprising.\n",
    "    - Look carefully at the use of quotation marks and error message below."
   ]
  },
  {
   "cell_type": "code",
   "execution_count": 6,
   "metadata": {
    "slideshow": {
     "slide_type": "slide"
    },
    "tags": []
   },
   "outputs": [
    {
     "data": {
      "text/plain": [
       "<cassandra.cluster.ResultSet at 0x104d2e840>"
      ]
     },
     "execution_count": 6,
     "metadata": {},
     "output_type": "execute_result"
    }
   ],
   "source": [
    "session.set_keyspace('my_first_keyspace')\n",
    "session.execute(\"DROP TABLE IF EXISTS my_first_keyspace.case_insensitive;\") # Starting from scratch every time\n",
    "session.execute(\"CREATE TABLE IF NOT EXISTS case_insensitive (Capital int PRIMARY KEY, Letters text, Everywhere text);\")\n",
    "session.execute(\"DROP TABLE IF EXISTS my_first_keyspace.case_sensitive;\") # Starting from scratch every time\n",
    "session.execute(\"CREATE TABLE IF NOT EXISTS case_sensitive (\\\"Capital\\\" int PRIMARY KEY, \\\"Letters\\\" text, \\\"Everywhere\\\" text);\")"
   ]
  },
  {
   "cell_type": "code",
   "execution_count": 7,
   "metadata": {
    "slideshow": {
     "slide_type": "fragment"
    },
    "tags": []
   },
   "outputs": [
    {
     "data": {
      "text/plain": [
       "<cassandra.cluster.ResultSet at 0x104d2c200>"
      ]
     },
     "execution_count": 7,
     "metadata": {},
     "output_type": "execute_result"
    }
   ],
   "source": [
    "session.execute(\"INSERT INTO case_insensitive (Capital, Letters, Everywhere) VALUES (1, 'Tesla', 'Model S');\")"
   ]
  },
  {
   "cell_type": "code",
   "execution_count": 8,
   "metadata": {
    "slideshow": {
     "slide_type": "fragment"
    },
    "tags": [
     "raises-exception"
    ]
   },
   "outputs": [
    {
     "ename": "InvalidRequest",
     "evalue": "Error from server: code=2200 [Invalid query] message=\"Undefined column name capital in table my_first_keyspace.case_sensitive\"",
     "output_type": "error",
     "traceback": [
      "\u001b[31m---------------------------------------------------------------------------\u001b[39m",
      "\u001b[31mInvalidRequest\u001b[39m                            Traceback (most recent call last)",
      "\u001b[36mCell\u001b[39m\u001b[36m \u001b[39m\u001b[32mIn[8]\u001b[39m\u001b[32m, line 1\u001b[39m\n\u001b[32m----> \u001b[39m\u001b[32m1\u001b[39m \u001b[43msession\u001b[49m\u001b[43m.\u001b[49m\u001b[43mexecute\u001b[49m\u001b[43m(\u001b[49m\u001b[33;43m\"\u001b[39;49m\u001b[33;43mINSERT INTO case_sensitive (Capital, Letters, Everywhere) VALUES (1, \u001b[39;49m\u001b[33;43m'\u001b[39;49m\u001b[33;43mTesla\u001b[39;49m\u001b[33;43m'\u001b[39;49m\u001b[33;43m, \u001b[39;49m\u001b[33;43m'\u001b[39;49m\u001b[33;43mModel S\u001b[39;49m\u001b[33;43m'\u001b[39;49m\u001b[33;43m);\u001b[39;49m\u001b[33;43m\"\u001b[39;49m\u001b[43m)\u001b[49m\n",
      "\u001b[36mFile \u001b[39m\u001b[32m~/miniforge3/envs/ind320_25/lib/python3.12/site-packages/cassandra/cluster.py:2677\u001b[39m, in \u001b[36mSession.execute\u001b[39m\u001b[34m(self, query, parameters, timeout, trace, custom_payload, execution_profile, paging_state, host, execute_as)\u001b[39m\n\u001b[32m   2634\u001b[39m \u001b[38;5;28;01mdef\u001b[39;00m\u001b[38;5;250m \u001b[39m\u001b[34mexecute\u001b[39m(\u001b[38;5;28mself\u001b[39m, query, parameters=\u001b[38;5;28;01mNone\u001b[39;00m, timeout=_NOT_SET, trace=\u001b[38;5;28;01mFalse\u001b[39;00m,\n\u001b[32m   2635\u001b[39m             custom_payload=\u001b[38;5;28;01mNone\u001b[39;00m, execution_profile=EXEC_PROFILE_DEFAULT,\n\u001b[32m   2636\u001b[39m             paging_state=\u001b[38;5;28;01mNone\u001b[39;00m, host=\u001b[38;5;28;01mNone\u001b[39;00m, execute_as=\u001b[38;5;28;01mNone\u001b[39;00m):\n\u001b[32m   2637\u001b[39m \u001b[38;5;250m    \u001b[39m\u001b[33;03m\"\"\"\u001b[39;00m\n\u001b[32m   2638\u001b[39m \u001b[33;03m    Execute the given query and synchronously wait for the response.\u001b[39;00m\n\u001b[32m   2639\u001b[39m \n\u001b[32m   (...)\u001b[39m\u001b[32m   2674\u001b[39m \u001b[33;03m    on a DSE cluster.\u001b[39;00m\n\u001b[32m   2675\u001b[39m \u001b[33;03m    \"\"\"\u001b[39;00m\n\u001b[32m-> \u001b[39m\u001b[32m2677\u001b[39m     \u001b[38;5;28;01mreturn\u001b[39;00m \u001b[38;5;28;43mself\u001b[39;49m\u001b[43m.\u001b[49m\u001b[43mexecute_async\u001b[49m\u001b[43m(\u001b[49m\u001b[43mquery\u001b[49m\u001b[43m,\u001b[49m\u001b[43m \u001b[49m\u001b[43mparameters\u001b[49m\u001b[43m,\u001b[49m\u001b[43m \u001b[49m\u001b[43mtrace\u001b[49m\u001b[43m,\u001b[49m\u001b[43m \u001b[49m\u001b[43mcustom_payload\u001b[49m\u001b[43m,\u001b[49m\u001b[43m \u001b[49m\u001b[43mtimeout\u001b[49m\u001b[43m,\u001b[49m\u001b[43m \u001b[49m\u001b[43mexecution_profile\u001b[49m\u001b[43m,\u001b[49m\u001b[43m \u001b[49m\u001b[43mpaging_state\u001b[49m\u001b[43m,\u001b[49m\u001b[43m \u001b[49m\u001b[43mhost\u001b[49m\u001b[43m,\u001b[49m\u001b[43m \u001b[49m\u001b[43mexecute_as\u001b[49m\u001b[43m)\u001b[49m\u001b[43m.\u001b[49m\u001b[43mresult\u001b[49m\u001b[43m(\u001b[49m\u001b[43m)\u001b[49m\n",
      "\u001b[36mFile \u001b[39m\u001b[32m~/miniforge3/envs/ind320_25/lib/python3.12/site-packages/cassandra/cluster.py:4956\u001b[39m, in \u001b[36mResponseFuture.result\u001b[39m\u001b[34m(self)\u001b[39m\n\u001b[32m   4954\u001b[39m     \u001b[38;5;28;01mreturn\u001b[39;00m ResultSet(\u001b[38;5;28mself\u001b[39m, \u001b[38;5;28mself\u001b[39m._final_result)\n\u001b[32m   4955\u001b[39m \u001b[38;5;28;01melse\u001b[39;00m:\n\u001b[32m-> \u001b[39m\u001b[32m4956\u001b[39m     \u001b[38;5;28;01mraise\u001b[39;00m \u001b[38;5;28mself\u001b[39m._final_exception\n",
      "\u001b[31mInvalidRequest\u001b[39m: Error from server: code=2200 [Invalid query] message=\"Undefined column name capital in table my_first_keyspace.case_sensitive\""
     ]
    }
   ],
   "source": [
    "session.execute(\"INSERT INTO case_sensitive (Capital, Letters, Everywhere) VALUES (1, 'Tesla', 'Model S');\")"
   ]
  },
  {
   "cell_type": "code",
   "execution_count": 9,
   "metadata": {
    "slideshow": {
     "slide_type": "fragment"
    },
    "tags": []
   },
   "outputs": [
    {
     "data": {
      "text/plain": [
       "<cassandra.cluster.ResultSet at 0x10458ba70>"
      ]
     },
     "execution_count": 9,
     "metadata": {},
     "output_type": "execute_result"
    }
   ],
   "source": [
    "session.execute(\"INSERT INTO case_sensitive (\\\"Capital\\\", \\\"Letters\\\", \\\"Everywhere\\\") VALUES (1, 'Tesla', 'Model S');\")"
   ]
  },
  {
   "cell_type": "code",
   "execution_count": 10,
   "metadata": {
    "slideshow": {
     "slide_type": "slide"
    },
    "tags": []
   },
   "outputs": [
    {
     "name": "stdout",
     "output_type": "stream",
     "text": [
      "Row(capital=1, everywhere='Model S', letters='Tesla')\n",
      "Row(Capital=1, Everywhere='Model S', Letters='Tesla')\n"
     ]
    }
   ],
   "source": [
    "# Query the data\n",
    "rows = session.execute(\"SELECT * FROM case_insensitive;\")\n",
    "for i in rows:\n",
    "    print(i)\n",
    "rows = session.execute(\"SELECT * FROM case_sensitive;\")\n",
    "for i in rows:\n",
    "    print(i)"
   ]
  },
  {
   "cell_type": "markdown",
   "metadata": {
    "slideshow": {
     "slide_type": "slide"
    }
   },
   "source": [
    "### Asyncronous writing\n",
    "- If your application is very data intensive, waiting for a response is not productive.\n",
    "- Writing asyncronously sends the data but does not pause for reply."
   ]
  },
  {
   "cell_type": "code",
   "execution_count": 11,
   "metadata": {
    "ExecuteTime": {
     "end_time": "2024-08-17T10:25:35.371390Z",
     "start_time": "2024-08-17T10:25:35.367159Z"
    },
    "slideshow": {
     "slide_type": "fragment"
    },
    "tags": []
   },
   "outputs": [
    {
     "data": {
      "text/plain": [
       "<ResponseFuture: query='<SimpleStatement query=\"INSERT INTO my_first_table (ind, company, model) VALUES (4, 'Volkswagen', 'ID.4');\", consistency=Not Set>' request_id=63 result=(no result yet) exception=None coordinator_host=None>"
      ]
     },
     "execution_count": 11,
     "metadata": {},
     "output_type": "execute_result"
    }
   ],
   "source": [
    "session.execute_async(\"INSERT INTO my_first_table (ind, company, model) VALUES (4, 'Volkswagen', 'ID.4');\")"
   ]
  },
  {
   "cell_type": "code",
   "execution_count": 12,
   "metadata": {
    "ExecuteTime": {
     "end_time": "2024-08-17T10:25:35.384736Z",
     "start_time": "2024-08-17T10:25:35.372551Z"
    },
    "slideshow": {
     "slide_type": "slide"
    },
    "tags": []
   },
   "outputs": [
    {
     "name": "stdout",
     "output_type": "stream",
     "text": [
      "Row(ind=1, company='Tesla', model='Model S')\n",
      "Row(ind=2, company='Tesla', model='Model 3')\n",
      "Row(ind=4, company='Volkswagen', model='ID.4')\n",
      "Row(ind=3, company='Polestar', model='3')\n"
     ]
    }
   ],
   "source": [
    "# Query the data\n",
    "rows = session.execute(\"SELECT * FROM my_first_table;\")\n",
    "for i in rows:\n",
    "    print(i)"
   ]
  },
  {
   "cell_type": "code",
   "execution_count": 13,
   "metadata": {
    "ExecuteTime": {
     "end_time": "2024-08-17T10:25:35.402371Z",
     "start_time": "2024-08-17T10:25:35.386980Z"
    },
    "slideshow": {
     "slide_type": "slide"
    },
    "tags": [
     "raises-exception"
    ]
   },
   "outputs": [
    {
     "name": "stdout",
     "output_type": "stream",
     "text": [
      "Row(ind=1, company='Tesla', model='Model S')\n",
      "Row(ind=2, company='Tesla', model='Model 3')\n"
     ]
    }
   ],
   "source": [
    "# More specific query\n",
    "prepared_statement = session.prepare(\"SELECT * FROM my_first_table WHERE company=? ALLOW FILTERING;\")\n",
    "teslas = session.execute(prepared_statement, ['Tesla'])\n",
    "for i in teslas:\n",
    "    print(i)"
   ]
  },
  {
   "cell_type": "markdown",
   "metadata": {
    "slideshow": {
     "slide_type": "slide"
    }
   },
   "source": [
    "## Cassandra filtering\n",
    "Cassandra is inherently a distributed production database. Selecting as above may require downloading all data from a node, then filtering based on the WHERE part (only PRIMARY KEYs are centrally known). Solutions:  \n",
    "- If the table is small or most of the data will satisfy the query, add ```ALLOW FILTERING``` at the end of the query (not recommended if not known). \n",
    "- Or make sure the WHERE clause points to one of the keys (see below)."
   ]
  },
  {
   "cell_type": "code",
   "execution_count": 14,
   "metadata": {
    "ExecuteTime": {
     "end_time": "2024-08-17T10:25:35.613711Z",
     "start_time": "2024-08-17T10:25:35.403622Z"
    },
    "slideshow": {
     "slide_type": "slide"
    },
    "tags": []
   },
   "outputs": [
    {
     "data": {
      "text/plain": [
       "<cassandra.cluster.ResultSet at 0x104d66270>"
      ]
     },
     "execution_count": 14,
     "metadata": {},
     "output_type": "execute_result"
    }
   ],
   "source": [
    "# Create a new table (observe keys)\n",
    "session.execute(\"DROP TABLE IF EXISTS my_first_keyspace.car_table;\")\n",
    "session.execute(\"CREATE TABLE IF NOT EXISTS car_table (company text, model text, PRIMARY KEY(company, model));\")"
   ]
  },
  {
   "cell_type": "code",
   "execution_count": 15,
   "metadata": {
    "ExecuteTime": {
     "end_time": "2024-08-17T10:25:35.628950Z",
     "start_time": "2024-08-17T10:25:35.615126Z"
    },
    "slideshow": {
     "slide_type": "fragment"
    },
    "tags": []
   },
   "outputs": [
    {
     "data": {
      "text/plain": [
       "<cassandra.cluster.ResultSet at 0x104d45490>"
      ]
     },
     "execution_count": 15,
     "metadata": {},
     "output_type": "execute_result"
    }
   ],
   "source": [
    "# Insert some data (combination of company and model must be unique)\n",
    "session.execute(\"INSERT INTO car_table (company, model) VALUES ('Tesla', 'Model S');\")\n",
    "session.execute(\"INSERT INTO car_table (company, model) VALUES ('Tesla', 'Model 3');\")\n",
    "session.execute(\"INSERT INTO car_table (company, model) VALUES ('Polestar', '3');\")\n",
    "session.execute(\"INSERT INTO car_table (company, model) VALUES ('Volkswagen', 'ID.4');\")"
   ]
  },
  {
   "cell_type": "code",
   "execution_count": 16,
   "metadata": {
    "ExecuteTime": {
     "end_time": "2024-08-17T10:25:35.639765Z",
     "start_time": "2024-08-17T10:25:35.630657Z"
    },
    "slideshow": {
     "slide_type": "slide"
    },
    "tags": []
   },
   "outputs": [
    {
     "name": "stdout",
     "output_type": "stream",
     "text": [
      "Row(company='Tesla', model='Model 3')\n",
      "Row(company='Tesla', model='Model S')\n"
     ]
    }
   ],
   "source": [
    "# More specific query now works\n",
    "prepared_statement = session.prepare(\"SELECT * FROM car_table WHERE company=?;\")\n",
    "teslas = session.execute(prepared_statement, ['Tesla'])\n",
    "for i in teslas:\n",
    "    print(i)"
   ]
  },
  {
   "cell_type": "markdown",
   "metadata": {
    "slideshow": {
     "slide_type": "slide"
    }
   },
   "source": [
    "### Partitions\n",
    "- Cassandra databases are usually replicated over different nodes.\n",
    "- Data is stored in partitions (subsets) which have local copys.\n",
    "- The primary key, e.g., PRIMARY KEY(company, model), is used in partitioning.\n",
    "    - The first part, e.g., company, is most important.\n",
    "    - All cars from a company will be located together, aiming for quicker queries."
   ]
  },
  {
   "cell_type": "markdown",
   "metadata": {
    "slideshow": {
     "slide_type": "slide"
    }
   },
   "source": [
    "### Unique IDs \n",
    "- In MySQL one could use the attribute AUTO_INCREMENT on integer IDs to automatically make a new unique index when inserting data.\n",
    "- This would cause unreasonable overhead in a distributed database.\n",
    "- [UUID](https://en.wikipedia.org/wiki/Universally_unique_identifier)s are used instead.\n",
    "    - Universally Unique Identifiers are typically 128-bit random bit sequences with extremely low probability of duplication.\n",
    "    - Cassandra uses a [timeuuid](https://docs.datastax.com/en/cql-oss/3.3/cql/cql_reference/timeuuid_functions_r.html) type to combine a timestamp and uuid in one."
   ]
  },
  {
   "cell_type": "code",
   "execution_count": 17,
   "metadata": {
    "ExecuteTime": {
     "end_time": "2024-08-17T10:25:35.766003Z",
     "start_time": "2024-08-17T10:25:35.640600Z"
    },
    "slideshow": {
     "slide_type": "fragment"
    },
    "tags": []
   },
   "outputs": [
    {
     "data": {
      "text/plain": [
       "<cassandra.cluster.ResultSet at 0x104267b60>"
      ]
     },
     "execution_count": 17,
     "metadata": {},
     "output_type": "execute_result"
    }
   ],
   "source": [
    "# Create a new table (first time only)\n",
    "session.set_keyspace('my_first_keyspace')\n",
    "session.execute(\"DROP TABLE IF EXISTS my_first_keyspace.table_with_uuid;\")\n",
    "session.execute(\"CREATE TABLE IF NOT EXISTS table_with_uuid (id timeuuid PRIMARY KEY, company text, model text, price float);\")"
   ]
  },
  {
   "cell_type": "code",
   "execution_count": 18,
   "metadata": {
    "ExecuteTime": {
     "end_time": "2024-08-17T10:25:35.784876Z",
     "start_time": "2024-08-17T10:25:35.766619Z"
    },
    "slideshow": {
     "slide_type": "slide"
    },
    "tags": []
   },
   "outputs": [
    {
     "data": {
      "text/plain": [
       "<cassandra.cluster.ResultSet at 0x104d2dfa0>"
      ]
     },
     "execution_count": 18,
     "metadata": {},
     "output_type": "execute_result"
    }
   ],
   "source": [
    "session.execute(\"INSERT INTO table_with_uuid (id, company, model, price) VALUES (now(), 'Tesla', 'Model S', 20000.0);\")\n",
    "session.execute(\"INSERT INTO table_with_uuid (id, company, model, price) VALUES (now(), 'Tesla', 'Model S', 21000.0);\")\n",
    "session.execute(\"INSERT INTO table_with_uuid (id, company, model, price) VALUES (now(), 'Oldsmobile', 'Model 6C', 135000.0);\")"
   ]
  },
  {
   "cell_type": "code",
   "execution_count": 19,
   "metadata": {
    "ExecuteTime": {
     "end_time": "2024-08-17T10:25:35.792934Z",
     "start_time": "2024-08-17T10:25:35.785467Z"
    },
    "slideshow": {
     "slide_type": "slide"
    },
    "tags": []
   },
   "outputs": [
    {
     "name": "stdout",
     "output_type": "stream",
     "text": [
      "Row(id=UUID('4ef312d0-8c84-11f0-987a-d1a1a3870172'), company='Tesla', model='Model S', price=21000.0)\n",
      "Datetime: 2025-09-08 07:20:33.661000\n",
      "Row(id=UUID('4ef360f0-8c84-11f0-987a-d1a1a3870172'), company='Oldsmobile', model='Model 6C', price=135000.0)\n",
      "Datetime: 2025-09-08 07:20:33.663000\n",
      "Row(id=UUID('4ef2c4b0-8c84-11f0-987a-d1a1a3870172'), company='Tesla', model='Model S', price=20000.0)\n",
      "Datetime: 2025-09-08 07:20:33.659000\n"
     ]
    }
   ],
   "source": [
    "from cassandra.util import datetime_from_uuid1\n",
    "\n",
    "# Query the data\n",
    "rows = session.execute(\"SELECT * FROM table_with_uuid;\")\n",
    "for i in rows:\n",
    "    print(i)\n",
    "    # Extract the timestamp from Cassandra's timeuuid\n",
    "    print(\"Datetime:\", datetime_from_uuid1(i.id))"
   ]
  },
  {
   "cell_type": "markdown",
   "metadata": {
    "slideshow": {
     "slide_type": "slide"
    }
   },
   "source": [
    "## JSON in Cassandra\n",
    "### Read previously saved JSON file forecast.json to memory"
   ]
  },
  {
   "cell_type": "code",
   "execution_count": 20,
   "metadata": {
    "ExecuteTime": {
     "end_time": "2024-08-17T10:25:35.796049Z",
     "start_time": "2024-08-17T10:25:35.793437Z"
    },
    "slideshow": {
     "slide_type": "fragment"
    },
    "tags": []
   },
   "outputs": [],
   "source": [
    "import json\n",
    "with open('../3_APIs/downloads/forecast.json', 'r') as f:\n",
    "    forecast = json.load(f)"
   ]
  },
  {
   "cell_type": "code",
   "execution_count": 21,
   "metadata": {
    "ExecuteTime": {
     "end_time": "2024-08-17T10:25:35.799114Z",
     "start_time": "2024-08-17T10:25:35.796532Z"
    },
    "slideshow": {
     "slide_type": "slide"
    },
    "tags": []
   },
   "outputs": [
    {
     "data": {
      "text/plain": [
       "\"{'cod': '200', 'message': 0, 'cnt': 40, 'list': [{'dt': 1757084400, 'main': {'temp': 291.62, 'feels_like': 291.51, 'temp_min': 291.62, 'temp_max': 293.76, 'pressure': 1013, 'sea_level': 1013, 'grnd_level': 964, 'humidity': 76, 'temp_kf': -2.14}, 'weather': [{'id': 803, 'main': 'Clouds', 'description': 'broken clouds', 'icon': '04d'}], 'clouds': {'all': 60}, 'wind': {'speed': 1.43, 'deg': 337, 'gust': 1.04}, 'visibility': 10000, 'pop': 0, 'sys': {'pod': 'd'}, 'dt_txt': '2025-09-05 15:00:00'}, {'dt': 1757095200, 'main': {'temp': 288.85, 'feels_like': 288.64, 'temp_min': 288, 'temp_max': 288.85, 'pressure': 1014, 'sea_level': 1014, 'grnd_level': 965, 'humidity': 83, 'temp_kf': 0.85}, 'weather': [{'id': 803, 'main': 'Clouds', 'description': 'broken clouds', 'icon': '04d'}], 'clouds': {'all': 80}, 'wind': {'speed': 0.74, 'deg': 18, 'gust': 0.38}, 'visibility': 10000, 'pop': 0, 'sys': {'pod': 'd'}, 'dt_txt': '2025-09-05 18:00:00'}, {'dt': 1757106000, 'main': {'temp': 287.83, 'feels_like': 287.55, 'temp_min': 287.83, 'temp_max': 287.83, 'pressure': 1015, 'sea_level': 1015, 'grnd_level': 966, 'humidity': 84, 'temp_kf': 0}, 'weather': [{'id': 804, 'main': 'Clouds', 'description': 'overcast clouds', 'icon': '04n'}], 'clouds': {'all': 100}, 'wind': {'speed': 1.23, 'deg': 115, 'gust': 1.23}, 'visibility': 10000, 'pop': 0, 'sys': {'pod': 'n'}, 'dt_txt': '2025-09-05 21:00:00'}, {'dt': 1757116800, 'main': {'temp': 287.16, 'feels_like': 286.94, 'temp_min': 287.16, 'temp_max': 287.16, 'pressure': 1017, 'sea_level': 1017, 'grnd_level': 967, 'humidity': 89, 'temp_kf': 0}, 'weather': [{'id': 500, 'main': 'Rain', 'description': 'light rain', 'icon': '10n'}], 'clouds': {'all': 100}, 'wind': {'speed': 0.32, 'deg': 351, 'gust': 0}, 'visibility': 10000, 'pop': 0.37, 'rain': {'3h': 0.47}, 'sys': {'pod': 'n'}, 'dt_txt': '2025-09-06 00:00:00'}, {'dt': 1757127600, 'main': {'temp': 287.45, 'feels_like': 287.39, 'temp_min': 287.45, 'temp_max': 287.45, 'pressure': 1018, 'sea_level': 1018, 'grnd_level': 968, 'humidity': 94, 'temp_kf': 0}, 'weather': [{'id': 500, 'main': 'Rain', 'description': 'light rain', 'icon': '10n'}], 'clouds': {'all': 100}, 'wind': {'speed': 1.04, 'deg': 81, 'gust': 0.91}, 'visibility': 10000, 'pop': 1, 'rain': {'3h': 1.18}, 'sys': {'pod': 'n'}, 'dt_txt': '2025-09-06 03:00:00'}, {'dt': 1757138400, 'main': {'temp': 288.89, 'feels_like': 288.82, 'temp_min': 288.89, 'temp_max': 288.89, 'pressure': 1019, 'sea_level': 1019, 'grnd_level': 969, 'humidity': 88, 'temp_kf': 0}, 'weather': [{'id': 500, 'main': 'Rain', 'description': 'light rain', 'icon': '10d'}], 'clouds': {'all': 100}, 'wind': {'speed': 1.09, 'deg': 285, 'gust': 0.99}, 'visibility': 10000, 'pop': 1, 'rain': {'3h': 0.16}, 'sys': {'pod': 'd'}, 'dt_txt': '2025-09-06 06:00:00'}, {'dt': 1757149200, 'main': {'temp': 290.62, 'feels_like': 290.51, 'temp_min': 290.62, 'temp_max': 290.62, 'pressure': 1022, 'sea_level': 1022, 'grnd_level': 971, 'humidity': 80, 'temp_kf': 0}, 'weather': [{'id': 500, 'main': 'Rain', 'description': 'light rain', 'icon': '10d'}], 'clouds': {'all': 90}, 'wind': {'speed': 2.69, 'deg': 259, 'gust': 2.63}, 'visibility': 10000, 'pop': 0.35, 'rain': {'3h': 0.24}, 'sys': {'pod': 'd'}, 'dt_txt': '2025-09-06 09:00:00'}, {'dt': 1757160000, 'main': {'temp': 291.66, 'feels_like': 291.45, 'temp_min': 291.66, 'temp_max': 291.66, 'pressure': 1023, 'sea_level': 1023, 'grnd_level': 973, 'humidity': 72, 'temp_kf': 0}, 'weather': [{'id': 500, 'main': 'Rain', 'description': 'light rain', 'icon': '10d'}], 'clouds': {'all': 81}, 'wind': {'speed': 2.8, 'deg': 272, 'gust': 2.51}, 'visibility': 10000, 'pop': 0.61, 'rain': {'3h': 0.43}, 'sys': {'pod': 'd'}, 'dt_txt': '2025-09-06 12:00:00'}, {'dt': 1757170800, 'main': {'temp': 291.88, 'feels_like': 291.56, 'temp_min': 291.88, 'temp_max': 291.88, 'pressure': 1024, 'sea_level': 1024, 'grnd_level': 974, 'humidity': 67, 'temp_kf': 0}, 'weather': [{'id': 804, 'main': 'Clouds', 'description': 'overcast clouds', 'icon': '04d'}], 'clouds': {'all': 96}, 'wind': {'speed': 1.55, 'deg': 267, 'gust': 1.49}, 'visibility': 10000, 'pop': 0.06, 'sys': {'pod': 'd'}, 'dt_txt': '2025-09-06 15:00:00'}, {'dt': 1757181600, 'main': {'temp': 290.09, 'feels_like': 289.82, 'temp_min': 290.09, 'temp_max': 290.09, 'pressure': 1025, 'sea_level': 1025, 'grnd_level': 975, 'humidity': 76, 'temp_kf': 0}, 'weather': [{'id': 804, 'main': 'Clouds', 'description': 'overcast clouds', 'icon': '04d'}], 'clouds': {'all': 97}, 'wind': {'speed': 0.84, 'deg': 264, 'gust': 1.03}, 'visibility': 10000, 'pop': 0, 'sys': {'pod': 'd'}, 'dt_txt': '2025-09-06 18:00:00'}, {'dt': 1757192400, 'main': {'temp': 287.73, 'feels_like': 287.44, 'temp_min': 287.73, 'temp_max': 287.73, 'pressure': 1025, 'sea_level': 1025, 'grnd_level': 975, 'humidity': 84, 'temp_kf': 0}, 'weather': [{'id': 804, 'main': 'Clouds', 'description': 'overcast clouds', 'icon': '04n'}], 'clouds': {'all': 100}, 'wind': {'speed': 2.27, 'deg': 73, 'gust': 2.33}, 'visibility': 10000, 'pop': 0, 'sys': {'pod': 'n'}, 'dt_txt': '2025-09-06 21:00:00'}, {'dt': 1757203200, 'main': {'temp': 286.92, 'feels_like': 286.55, 'temp_min': 286.92, 'temp_max': 286.92, 'pressure': 1025, 'sea_level': 1025, 'grnd_level': 975, 'humidity': 84, 'temp_kf': 0}, 'weather': [{'id': 804, 'main': 'Clouds', 'description': 'overcast clouds', 'icon': '04n'}], 'clouds': {'all': 96}, 'wind': {'speed': 2.57, 'deg': 63, 'gust': 2.32}, 'visibility': 10000, 'pop': 0, 'sys': {'pod': 'n'}, 'dt_txt': '2025-09-07 00:00:00'}, {'dt': 1757214000, 'main': {'temp': 287.57, 'feels_like': 287.31, 'temp_min': 287.57, 'temp_max': 287.57, 'pressure': 1025, 'sea_level': 1025, 'grnd_level': 974, 'humidity': 86, 'temp_kf': 0}, 'weather': [{'id': 500, 'main': 'Rain', 'description': 'light rain', 'icon': '10n'}], 'clouds': {'all': 100}, 'wind': {'speed': 3.08, 'deg': 75, 'gust': 3.27}, 'visibility': 10000, 'pop': 0.2, 'rain': {'3h': 0.17}, 'sys': {'pod': 'n'}, 'dt_txt': '2025-09-07 03:00:00'}, {'dt': 1757224800, 'main': {'temp': 287.67, 'feels_like': 287.63, 'temp_min': 287.67, 'temp_max': 287.67, 'pressure': 1024, 'sea_level': 1024, 'grnd_level': 974, 'humidity': 94, 'temp_kf': 0}, 'weather': [{'id': 500, 'main': 'Rain', 'description': 'light rain', 'icon': '10d'}], 'clouds': {'all': 100}, 'wind': {'speed': 3.2, 'deg': 68, 'gust': 4.73}, 'visibility': 6186, 'pop': 1, 'rain': {'3h': 2.19}, 'sys': {'pod': 'd'}, 'dt_txt': '2025-09-07 06:00:00'}, {'dt': 1757235600, 'main': {'temp': 288.32, 'feels_like': 288.29, 'temp_min': 288.32, 'temp_max': 288.32, 'pressure': 1024, 'sea_level': 1024, 'grnd_level': 973, 'humidity': 92, 'temp_kf': 0}, 'weather': [{'id': 500, 'main': 'Rain', 'description': 'light rain', 'icon': '10d'}], 'clouds': {'all': 100}, 'wind': {'speed': 2.89, 'deg': 86, 'gust': 4.09}, 'visibility': 10000, 'pop': 1, 'rain': {'3h': 1.98}, 'sys': {'pod': 'd'}, 'dt_txt': '2025-09-07 09:00:00'}, {'dt': 1757246400, 'main': {'temp': 288.5, 'feels_like': 288.52, 'temp_min': 288.5, 'temp_max': 288.5, 'pressure': 1023, 'sea_level': 1023, 'grnd_level': 973, 'humidity': 93, 'temp_kf': 0}, 'weather': [{'id': 500, 'main': 'Rain', 'description': 'light rain', 'icon': '10d'}], 'clouds': {'all': 100}, 'wind': {'speed': 1.83, 'deg': 101, 'gust': 2.02}, 'visibility': 10000, 'pop': 1, 'rain': {'3h': 1.69}, 'sys': {'pod': 'd'}, 'dt_txt': '2025-09-07 12:00:00'}, {'dt': 1757257200, 'main': {'temp': 291.65, 'feels_like': 291.57, 'temp_min': 291.65, 'temp_max': 291.65, 'pressure': 1022, 'sea_level': 1022, 'grnd_level': 972, 'humidity': 77, 'temp_kf': 0}, 'weather': [{'id': 500, 'main': 'Rain', 'description': 'light rain', 'icon': '10d'}], 'clouds': {'all': 94}, 'wind': {'speed': 2.02, 'deg': 46, 'gust': 3.18}, 'visibility': 10000, 'pop': 0.21, 'rain': {'3h': 0.15}, 'sys': {'pod': 'd'}, 'dt_txt': '2025-09-07 15:00:00'}, {'dt': 1757268000, 'main': {'temp': 288.76, 'feels_like': 288.67, 'temp_min': 288.76, 'temp_max': 288.76, 'pressure': 1022, 'sea_level': 1022, 'grnd_level': 972, 'humidity': 88, 'temp_kf': 0}, 'weather': [{'id': 500, 'main': 'Rain', 'description': 'light rain', 'icon': '10d'}], 'clouds': {'all': 95}, 'wind': {'speed': 2.2, 'deg': 76, 'gust': 1.97}, 'visibility': 10000, 'pop': 0.89, 'rain': {'3h': 0.7}, 'sys': {'pod': 'd'}, 'dt_txt': '2025-09-07 18:00:00'}, {'dt': 1757278800, 'main': {'temp': 286.6, 'feels_like': 286.3, 'temp_min': 286.6, 'temp_max': 286.6, 'pressure': 1022, 'sea_level': 1022, 'grnd_level': 972, 'humidity': 88, 'temp_kf': 0}, 'weather': [{'id': 801, 'main': 'Clouds', 'description': 'few clouds', 'icon': '02n'}], 'clouds': {'all': 14}, 'wind': {'speed': 1.73, 'deg': 109, 'gust': 1.79}, 'visibility': 10000, 'pop': 0, 'sys': {'pod': 'n'}, 'dt_txt': '2025-09-07 21:00:00'}, {'dt': 1757289600, 'main': {'temp': 286.05, 'feels_like': 285.69, 'temp_min': 286.05, 'temp_max': 286.05, 'pressure': 1022, 'sea_level': 1022, 'grnd_level': 972, 'humidity': 88, 'temp_kf': 0}, 'weather': [{'id': 801, 'main': 'Clouds', 'description': 'few clouds', 'icon': '02n'}], 'clouds': {'all': 15}, 'wind': {'speed': 1.85, 'deg': 91, 'gust': 1.81}, 'visibility': 10000, 'pop': 0, 'sys': {'pod': 'n'}, 'dt_txt': '2025-09-08 00:00:00'}, {'dt': 1757300400, 'main': {'temp': 285.79, 'feels_like': 285.36, 'temp_min': 285.79, 'temp_max': 285.79, 'pressure': 1021, 'sea_level': 1021, 'grnd_level': 971, 'humidity': 86, 'temp_kf': 0}, 'weather': [{'id': 801, 'main': 'Clouds', 'description': 'few clouds', 'icon': '02n'}], 'clouds': {'all': 19}, 'wind': {'speed': 1.66, 'deg': 91, 'gust': 1.64}, 'visibility': 10000, 'pop': 0, 'sys': {'pod': 'n'}, 'dt_txt': '2025-09-08 03:00:00'}, {'dt': 1757311200, 'main': {'temp': 288.52, 'feels_like': 288.25, 'temp_min': 288.52, 'temp_max': 288.52, 'pressure': 1020, 'sea_level': 1020, 'grnd_level': 970, 'humidity': 82, 'temp_kf': 0}, 'weather': [{'id': 802, 'main': 'Clouds', 'description': 'scattered clouds', 'icon': '03d'}], 'clouds': {'all': 31}, 'wind': {'speed': 1.18, 'deg': 82, 'gust': 1.01}, 'visibility': 10000, 'pop': 0, 'sys': {'pod': 'd'}, 'dt_txt': '2025-09-08 06:00:00'}, {'dt': 1757322000, 'main': {'temp': 291.94, 'feels_like': 291.7, 'temp_min': 291.94, 'temp_max': 291.94, 'pressure': 1019, 'sea_level': 1019, 'grnd_level': 969, 'humidity': 70, 'temp_kf': 0}, 'weather': [{'id': 800, 'main': 'Clear', 'description': 'clear sky', 'icon': '01d'}], 'clouds': {'all': 5}, 'wind': {'speed': 1.58, 'deg': 61, 'gust': 2}, 'visibility': 10000, 'pop': 0, 'sys': {'pod': 'd'}, 'dt_txt': '2025-09-08 09:00:00'}, {'dt': 1757332800, 'main': {'temp': 294.67, 'feels_like': 294.34, 'temp_min': 294.67, 'temp_max': 294.67, 'pressure': 1017, 'sea_level': 1017, 'grnd_level': 968, 'humidity': 56, 'temp_kf': 0}, 'weather': [{'id': 800, 'main': 'Clear', 'description': 'clear sky', 'icon': '01d'}], 'clouds': {'all': 2}, 'wind': {'speed': 1.34, 'deg': 88, 'gust': 2.08}, 'visibility': 10000, 'pop': 0, 'sys': {'pod': 'd'}, 'dt_txt': '2025-09-08 12:00:00'}, {'dt': 1757343600, 'main': {'temp': 295.42, 'feels_like': 294.98, 'temp_min': 295.42, 'temp_max': 295.42, 'pressure': 1016, 'sea_level': 1016, 'grnd_level': 967, 'humidity': 49, 'temp_kf': 0}, 'weather': [{'id': 801, 'main': 'Clouds', 'description': 'few clouds', 'icon': '02d'}], 'clouds': {'all': 11}, 'wind': {'speed': 1.23, 'deg': 136, 'gust': 1.89}, 'visibility': 10000, 'pop': 0, 'sys': {'pod': 'd'}, 'dt_txt': '2025-09-08 15:00:00'}, {'dt': 1757354400, 'main': {'temp': 289.75, 'feels_like': 289.4, 'temp_min': 289.75, 'temp_max': 289.75, 'pressure': 1017, 'sea_level': 1017, 'grnd_level': 967, 'humidity': 74, 'temp_kf': 0}, 'weather': [{'id': 801, 'main': 'Clouds', 'description': 'few clouds', 'icon': '02d'}], 'clouds': {'all': 13}, 'wind': {'speed': 2, 'deg': 132, 'gust': 1.89}, 'visibility': 10000, 'pop': 0, 'sys': {'pod': 'd'}, 'dt_txt': '2025-09-08 18:00:00'}, {'dt': 1757365200, 'main': {'temp': 287.82, 'feels_like': 287.54, 'temp_min': 287.82, 'temp_max': 287.82, 'pressure': 1017, 'sea_level': 1017, 'grnd_level': 967, 'humidity': 84, 'temp_kf': 0}, 'weather': [{'id': 801, 'main': 'Clouds', 'description': 'few clouds', 'icon': '02n'}], 'clouds': {'all': 11}, 'wind': {'speed': 1.88, 'deg': 121, 'gust': 1.82}, 'visibility': 10000, 'pop': 0, 'sys': {'pod': 'n'}, 'dt_txt': '2025-09-08 21:00:00'}, {'dt': 1757376000, 'main': {'temp': 286.61, 'feels_like': 286.2, 'temp_min': 286.61, 'temp_max': 286.61, 'pressure': 1017, 'sea_level': 1017, 'grnd_level': 967, 'humidity': 84, 'temp_kf': 0}, 'weather': [{'id': 801, 'main': 'Clouds', 'description': 'few clouds', 'icon': '02n'}], 'clouds': {'all': 13}, 'wind': {'speed': 1.44, 'deg': 88, 'gust': 1.35}, 'visibility': 10000, 'pop': 0, 'sys': {'pod': 'n'}, 'dt_txt': '2025-09-09 00:00:00'}, {'dt': 1757386800, 'main': {'temp': 285.92, 'feels_like': 285.47, 'temp_min': 285.92, 'temp_max': 285.92, 'pressure': 1017, 'sea_level': 1017, 'grnd_level': 967, 'humidity': 85, 'temp_kf': 0}, 'weather': [{'id': 803, 'main': 'Clouds', 'description': 'broken clouds', 'icon': '04n'}], 'clouds': {'all': 55}, 'wind': {'speed': 1.27, 'deg': 90, 'gust': 1.25}, 'visibility': 10000, 'pop': 0, 'sys': {'pod': 'n'}, 'dt_txt': '2025-09-09 03:00:00'}, {'dt': 1757397600, 'main': {'temp': 288.4, 'feels_like': 288.12, 'temp_min': 288.4, 'temp_max': 288.4, 'pressure': 1017, 'sea_level': 1017, 'grnd_level': 967, 'humidity': 82, 'temp_kf': 0}, 'weather': [{'id': 803, 'main': 'Clouds', 'description': 'broken clouds', 'icon': '04d'}], 'clouds': {'all': 69}, 'wind': {'speed': 0.87, 'deg': 78, 'gust': 0.63}, 'visibility': 10000, 'pop': 0, 'sys': {'pod': 'd'}, 'dt_txt': '2025-09-09 06:00:00'}, {'dt': 1757408400, 'main': {'temp': 291.6, 'feels_like': 291.33, 'temp_min': 291.6, 'temp_max': 291.6, 'pressure': 1017, 'sea_level': 1017, 'grnd_level': 967, 'humidity': 70, 'temp_kf': 0}, 'weather': [{'id': 804, 'main': 'Clouds', 'description': 'overcast clouds', 'icon': '04d'}], 'clouds': {'all': 100}, 'wind': {'speed': 0.3, 'deg': 279, 'gust': 0.76}, 'visibility': 10000, 'pop': 0, 'sys': {'pod': 'd'}, 'dt_txt': '2025-09-09 09:00:00'}, {'dt': 1757419200, 'main': {'temp': 293.3, 'feels_like': 293.07, 'temp_min': 293.3, 'temp_max': 293.3, 'pressure': 1017, 'sea_level': 1017, 'grnd_level': 967, 'humidity': 65, 'temp_kf': 0}, 'weather': [{'id': 804, 'main': 'Clouds', 'description': 'overcast clouds', 'icon': '04d'}], 'clouds': {'all': 100}, 'wind': {'speed': 1.29, 'deg': 300, 'gust': 1.46}, 'visibility': 10000, 'pop': 0, 'sys': {'pod': 'd'}, 'dt_txt': '2025-09-09 12:00:00'}, {'dt': 1757430000, 'main': {'temp': 294.15, 'feels_like': 293.85, 'temp_min': 294.15, 'temp_max': 294.15, 'pressure': 1016, 'sea_level': 1016, 'grnd_level': 967, 'humidity': 59, 'temp_kf': 0}, 'weather': [{'id': 802, 'main': 'Clouds', 'description': 'scattered clouds', 'icon': '03d'}], 'clouds': {'all': 37}, 'wind': {'speed': 0.5, 'deg': 8, 'gust': 1.37}, 'visibility': 10000, 'pop': 0, 'sys': {'pod': 'd'}, 'dt_txt': '2025-09-09 15:00:00'}, {'dt': 1757440800, 'main': {'temp': 289.57, 'feels_like': 289.23, 'temp_min': 289.57, 'temp_max': 289.57, 'pressure': 1016, 'sea_level': 1016, 'grnd_level': 966, 'humidity': 75, 'temp_kf': 0}, 'weather': [{'id': 801, 'main': 'Clouds', 'description': 'few clouds', 'icon': '02n'}], 'clouds': {'all': 23}, 'wind': {'speed': 1.91, 'deg': 115, 'gust': 1.86}, 'visibility': 10000, 'pop': 0, 'sys': {'pod': 'n'}, 'dt_txt': '2025-09-09 18:00:00'}, {'dt': 1757451600, 'main': {'temp': 287.79, 'feels_like': 287.37, 'temp_min': 287.79, 'temp_max': 287.79, 'pressure': 1016, 'sea_level': 1016, 'grnd_level': 966, 'humidity': 79, 'temp_kf': 0}, 'weather': [{'id': 801, 'main': 'Clouds', 'description': 'few clouds', 'icon': '02n'}], 'clouds': {'all': 11}, 'wind': {'speed': 2.19, 'deg': 116, 'gust': 2.24}, 'visibility': 10000, 'pop': 0, 'sys': {'pod': 'n'}, 'dt_txt': '2025-09-09 21:00:00'}, {'dt': 1757462400, 'main': {'temp': 287.22, 'feels_like': 286.77, 'temp_min': 287.22, 'temp_max': 287.22, 'pressure': 1015, 'sea_level': 1015, 'grnd_level': 965, 'humidity': 80, 'temp_kf': 0}, 'weather': [{'id': 802, 'main': 'Clouds', 'description': 'scattered clouds', 'icon': '03n'}], 'clouds': {'all': 35}, 'wind': {'speed': 2.05, 'deg': 106, 'gust': 2.05}, 'visibility': 10000, 'pop': 0, 'sys': {'pod': 'n'}, 'dt_txt': '2025-09-10 00:00:00'}, {'dt': 1757473200, 'main': {'temp': 287.2, 'feels_like': 286.75, 'temp_min': 287.2, 'temp_max': 287.2, 'pressure': 1014, 'sea_level': 1014, 'grnd_level': 964, 'humidity': 80, 'temp_kf': 0}, 'weather': [{'id': 804, 'main': 'Clouds', 'description': 'overcast clouds', 'icon': '04n'}], 'clouds': {'all': 100}, 'wind': {'speed': 2.27, 'deg': 89, 'gust': 2.15}, 'visibility': 10000, 'pop': 0, 'sys': {'pod': 'n'}, 'dt_txt': '2025-09-10 03:00:00'}, {'dt': 1757484000, 'main': {'temp': 288.7, 'feels_like': 288.32, 'temp_min': 288.7, 'temp_max': 288.7, 'pressure': 1013, 'sea_level': 1013, 'grnd_level': 964, 'humidity': 77, 'temp_kf': 0}, 'weather': [{'id': 804, 'main': 'Clouds', 'description': 'overcast clouds', 'icon': '04d'}], 'clouds': {'all': 99}, 'wind': {'speed': 2.49, 'deg': 99, 'gust': 2.78}, 'visibility': 10000, 'pop': 0, 'sys': {'pod': 'd'}, 'dt_txt': '2025-09-10 06:00:00'}, {'dt': 1757494800, 'main': {'temp': 292.81, 'feels_like': 292.4, 'temp_min': 292.81, 'temp_max': 292.81, 'pressure': 1012, 'sea_level': 1012, 'grnd_level': 963, 'humidity': 60, 'temp_kf': 0}, 'weather': [{'id': 804, 'main': 'Clouds', 'description': 'overcast clouds', 'icon': '04d'}], 'clouds': {'all': 92}, 'wind': {'speed': 2.31, 'deg': 105, 'gust': 2.94}, 'visibility': 10000, 'pop': 0, 'sys': {'pod': 'd'}, 'dt_txt': '2025-09-10 09:00:00'}, {'dt': 1757505600, 'main': {'temp': 292.51, 'feels_like': 292.17, 'temp_min': 292.51, 'temp_max': 292.51, 'pressure': 1011, 'sea_level': 1011, 'grnd_level': 962, 'humidity': 64, 'temp_kf': 0}, 'weather': [{'id': 804, 'main': 'Clouds', 'description': 'overcast clouds', 'icon': '04d'}], 'clouds': {'all': 90}, 'wind': {'speed': 2.66, 'deg': 115, 'gust': 3.27}, 'visibility': 10000, 'pop': 0, 'sys': {'pod': 'd'}, 'dt_txt': '2025-09-10 12:00:00'}], 'city': {'id': 3145614, 'name': 'Mo i Rana', 'coord': {'lat': 66.3128, 'lon': 14.1428}, 'country': 'NO', 'population': 17853, 'timezone': 7200, 'sunrise': 1757044255, 'sunset': 1757096025}}\""
      ]
     },
     "execution_count": 21,
     "metadata": {},
     "output_type": "execute_result"
    }
   ],
   "source": [
    "# Inspect JSON file\n",
    "forecast.__str__()"
   ]
  },
  {
   "cell_type": "markdown",
   "metadata": {
    "slideshow": {
     "slide_type": "slide"
    }
   },
   "source": [
    "## Raw JSON\n",
    "- A simple, but not very efficient way of storing JSON data is to treat it as a text and save it directly to the database.  \n",
    "- More efficient, with regard to transfer, is to compress the JSON data to a blob first.\n",
    "    - Compression is automatic."
   ]
  },
  {
   "cell_type": "code",
   "execution_count": 22,
   "metadata": {
    "ExecuteTime": {
     "end_time": "2024-08-17T10:25:35.916537Z",
     "start_time": "2024-08-17T10:25:35.799572Z"
    },
    "slideshow": {
     "slide_type": "fragment"
    },
    "tags": []
   },
   "outputs": [
    {
     "data": {
      "text/plain": [
       "<cassandra.cluster.ResultSet at 0x104d44c50>"
      ]
     },
     "execution_count": 22,
     "metadata": {},
     "output_type": "execute_result"
    }
   ],
   "source": [
    "# Create a new table which treats the whole JSON as a blob, using the city id and the first dt as keys\n",
    "session.set_keyspace('my_first_keyspace')\n",
    "session.execute(\"DROP TABLE IF EXISTS my_first_keyspace.forecast_table;\")\n",
    "session.execute(\"CREATE TABLE IF NOT EXISTS forecast_table (city_id int, dt int, forecast blob, PRIMARY KEY(city_id, dt));\")"
   ]
  },
  {
   "cell_type": "markdown",
   "metadata": {
    "slideshow": {
     "slide_type": "slide"
    }
   },
   "source": [
    "### Insert the forecast data into the table as text blob"
   ]
  },
  {
   "cell_type": "code",
   "execution_count": 23,
   "metadata": {
    "ExecuteTime": {
     "end_time": "2024-08-17T10:25:35.935855Z",
     "start_time": "2024-08-17T10:25:35.917175Z"
    },
    "slideshow": {
     "slide_type": "fragment"
    },
    "tags": []
   },
   "outputs": [
    {
     "data": {
      "text/plain": [
       "<cassandra.cluster.ResultSet at 0x104d450d0>"
      ]
     },
     "execution_count": 23,
     "metadata": {},
     "output_type": "execute_result"
    }
   ],
   "source": [
    "session.execute(\"INSERT INTO forecast_table (city_id, dt, forecast) VALUES (%s, %s, textAsBlob(%s));\", (forecast['city']['id'], forecast['list'][0]['dt'], forecast.__str__()))"
   ]
  },
  {
   "cell_type": "code",
   "execution_count": 24,
   "metadata": {
    "ExecuteTime": {
     "end_time": "2024-08-17T10:25:35.946537Z",
     "start_time": "2024-08-17T10:25:35.938642Z"
    },
    "slideshow": {
     "slide_type": "slide"
    },
    "tags": []
   },
   "outputs": [
    {
     "name": "stdout",
     "output_type": "stream",
     "text": [
      "Row(city_id=3145614, dt=1757084400, forecast=b\"{'cod': '200', 'message': 0, 'cnt': 40, 'list': [{'dt': 1757084400, 'main': {'temp': 291.62, 'feels_like': 291.51, 'temp_min': 291.62, 'temp_max': 293.76, 'pressure': 1013, 'sea_level': 1013, 'grnd_level': 964, 'humidity': 76, 'temp_kf': -2.14}, 'weather': [{'id': 803, 'main': 'Clouds', 'description': 'broken clouds', 'icon': '04d'}], 'clouds': {'all': 60}, 'wind': {'speed': 1.43, 'deg': 337, 'gust': 1.04}, 'visibility': 10000, 'pop': 0, 'sys': {'pod': 'd'}, 'dt_txt': '2025-09-05 15:00:00'}, {'dt': 1757095200, 'main': {'temp': 288.85, 'feels_like': 288.64, 'temp_min': 288, 'temp_max': 288.85, 'pressure': 1014, 'sea_level': 1014, 'grnd_level': 965, 'humidity': 83, 'temp_kf': 0.85}, 'weather': [{'id': 803, 'main': 'Clouds', 'description': 'broken clouds', 'icon': '04d'}], 'clouds': {'all': 80}, 'wind': {'speed': 0.74, 'deg': 18, 'gust': 0.38}, 'visibility': 10000, 'pop': 0, 'sys': {'pod': 'd'}, 'dt_txt': '2025-09-05 18:00:00'}, {'dt': 1757106000, 'main': {'temp': 287.83, 'feels_like': 287.55, 'temp_min': 287.83, 'temp_max': 287.83, 'pressure': 1015, 'sea_level': 1015, 'grnd_level': 966, 'humidity': 84, 'temp_kf': 0}, 'weather': [{'id': 804, 'main': 'Clouds', 'description': 'overcast clouds', 'icon': '04n'}], 'clouds': {'all': 100}, 'wind': {'speed': 1.23, 'deg': 115, 'gust': 1.23}, 'visibility': 10000, 'pop': 0, 'sys': {'pod': 'n'}, 'dt_txt': '2025-09-05 21:00:00'}, {'dt': 1757116800, 'main': {'temp': 287.16, 'feels_like': 286.94, 'temp_min': 287.16, 'temp_max': 287.16, 'pressure': 1017, 'sea_level': 1017, 'grnd_level': 967, 'humidity': 89, 'temp_kf': 0}, 'weather': [{'id': 500, 'main': 'Rain', 'description': 'light rain', 'icon': '10n'}], 'clouds': {'all': 100}, 'wind': {'speed': 0.32, 'deg': 351, 'gust': 0}, 'visibility': 10000, 'pop': 0.37, 'rain': {'3h': 0.47}, 'sys': {'pod': 'n'}, 'dt_txt': '2025-09-06 00:00:00'}, {'dt': 1757127600, 'main': {'temp': 287.45, 'feels_like': 287.39, 'temp_min': 287.45, 'temp_max': 287.45, 'pressure': 1018, 'sea_level': 1018, 'grnd_level': 968, 'humidity': 94, 'temp_kf': 0}, 'weather': [{'id': 500, 'main': 'Rain', 'description': 'light rain', 'icon': '10n'}], 'clouds': {'all': 100}, 'wind': {'speed': 1.04, 'deg': 81, 'gust': 0.91}, 'visibility': 10000, 'pop': 1, 'rain': {'3h': 1.18}, 'sys': {'pod': 'n'}, 'dt_txt': '2025-09-06 03:00:00'}, {'dt': 1757138400, 'main': {'temp': 288.89, 'feels_like': 288.82, 'temp_min': 288.89, 'temp_max': 288.89, 'pressure': 1019, 'sea_level': 1019, 'grnd_level': 969, 'humidity': 88, 'temp_kf': 0}, 'weather': [{'id': 500, 'main': 'Rain', 'description': 'light rain', 'icon': '10d'}], 'clouds': {'all': 100}, 'wind': {'speed': 1.09, 'deg': 285, 'gust': 0.99}, 'visibility': 10000, 'pop': 1, 'rain': {'3h': 0.16}, 'sys': {'pod': 'd'}, 'dt_txt': '2025-09-06 06:00:00'}, {'dt': 1757149200, 'main': {'temp': 290.62, 'feels_like': 290.51, 'temp_min': 290.62, 'temp_max': 290.62, 'pressure': 1022, 'sea_level': 1022, 'grnd_level': 971, 'humidity': 80, 'temp_kf': 0}, 'weather': [{'id': 500, 'main': 'Rain', 'description': 'light rain', 'icon': '10d'}], 'clouds': {'all': 90}, 'wind': {'speed': 2.69, 'deg': 259, 'gust': 2.63}, 'visibility': 10000, 'pop': 0.35, 'rain': {'3h': 0.24}, 'sys': {'pod': 'd'}, 'dt_txt': '2025-09-06 09:00:00'}, {'dt': 1757160000, 'main': {'temp': 291.66, 'feels_like': 291.45, 'temp_min': 291.66, 'temp_max': 291.66, 'pressure': 1023, 'sea_level': 1023, 'grnd_level': 973, 'humidity': 72, 'temp_kf': 0}, 'weather': [{'id': 500, 'main': 'Rain', 'description': 'light rain', 'icon': '10d'}], 'clouds': {'all': 81}, 'wind': {'speed': 2.8, 'deg': 272, 'gust': 2.51}, 'visibility': 10000, 'pop': 0.61, 'rain': {'3h': 0.43}, 'sys': {'pod': 'd'}, 'dt_txt': '2025-09-06 12:00:00'}, {'dt': 1757170800, 'main': {'temp': 291.88, 'feels_like': 291.56, 'temp_min': 291.88, 'temp_max': 291.88, 'pressure': 1024, 'sea_level': 1024, 'grnd_level': 974, 'humidity': 67, 'temp_kf': 0}, 'weather': [{'id': 804, 'main': 'Clouds', 'description': 'overcast clouds', 'icon': '04d'}], 'clouds': {'all': 96}, 'wind': {'speed': 1.55, 'deg': 267, 'gust': 1.49}, 'visibility': 10000, 'pop': 0.06, 'sys': {'pod': 'd'}, 'dt_txt': '2025-09-06 15:00:00'}, {'dt': 1757181600, 'main': {'temp': 290.09, 'feels_like': 289.82, 'temp_min': 290.09, 'temp_max': 290.09, 'pressure': 1025, 'sea_level': 1025, 'grnd_level': 975, 'humidity': 76, 'temp_kf': 0}, 'weather': [{'id': 804, 'main': 'Clouds', 'description': 'overcast clouds', 'icon': '04d'}], 'clouds': {'all': 97}, 'wind': {'speed': 0.84, 'deg': 264, 'gust': 1.03}, 'visibility': 10000, 'pop': 0, 'sys': {'pod': 'd'}, 'dt_txt': '2025-09-06 18:00:00'}, {'dt': 1757192400, 'main': {'temp': 287.73, 'feels_like': 287.44, 'temp_min': 287.73, 'temp_max': 287.73, 'pressure': 1025, 'sea_level': 1025, 'grnd_level': 975, 'humidity': 84, 'temp_kf': 0}, 'weather': [{'id': 804, 'main': 'Clouds', 'description': 'overcast clouds', 'icon': '04n'}], 'clouds': {'all': 100}, 'wind': {'speed': 2.27, 'deg': 73, 'gust': 2.33}, 'visibility': 10000, 'pop': 0, 'sys': {'pod': 'n'}, 'dt_txt': '2025-09-06 21:00:00'}, {'dt': 1757203200, 'main': {'temp': 286.92, 'feels_like': 286.55, 'temp_min': 286.92, 'temp_max': 286.92, 'pressure': 1025, 'sea_level': 1025, 'grnd_level': 975, 'humidity': 84, 'temp_kf': 0}, 'weather': [{'id': 804, 'main': 'Clouds', 'description': 'overcast clouds', 'icon': '04n'}], 'clouds': {'all': 96}, 'wind': {'speed': 2.57, 'deg': 63, 'gust': 2.32}, 'visibility': 10000, 'pop': 0, 'sys': {'pod': 'n'}, 'dt_txt': '2025-09-07 00:00:00'}, {'dt': 1757214000, 'main': {'temp': 287.57, 'feels_like': 287.31, 'temp_min': 287.57, 'temp_max': 287.57, 'pressure': 1025, 'sea_level': 1025, 'grnd_level': 974, 'humidity': 86, 'temp_kf': 0}, 'weather': [{'id': 500, 'main': 'Rain', 'description': 'light rain', 'icon': '10n'}], 'clouds': {'all': 100}, 'wind': {'speed': 3.08, 'deg': 75, 'gust': 3.27}, 'visibility': 10000, 'pop': 0.2, 'rain': {'3h': 0.17}, 'sys': {'pod': 'n'}, 'dt_txt': '2025-09-07 03:00:00'}, {'dt': 1757224800, 'main': {'temp': 287.67, 'feels_like': 287.63, 'temp_min': 287.67, 'temp_max': 287.67, 'pressure': 1024, 'sea_level': 1024, 'grnd_level': 974, 'humidity': 94, 'temp_kf': 0}, 'weather': [{'id': 500, 'main': 'Rain', 'description': 'light rain', 'icon': '10d'}], 'clouds': {'all': 100}, 'wind': {'speed': 3.2, 'deg': 68, 'gust': 4.73}, 'visibility': 6186, 'pop': 1, 'rain': {'3h': 2.19}, 'sys': {'pod': 'd'}, 'dt_txt': '2025-09-07 06:00:00'}, {'dt': 1757235600, 'main': {'temp': 288.32, 'feels_like': 288.29, 'temp_min': 288.32, 'temp_max': 288.32, 'pressure': 1024, 'sea_level': 1024, 'grnd_level': 973, 'humidity': 92, 'temp_kf': 0}, 'weather': [{'id': 500, 'main': 'Rain', 'description': 'light rain', 'icon': '10d'}], 'clouds': {'all': 100}, 'wind': {'speed': 2.89, 'deg': 86, 'gust': 4.09}, 'visibility': 10000, 'pop': 1, 'rain': {'3h': 1.98}, 'sys': {'pod': 'd'}, 'dt_txt': '2025-09-07 09:00:00'}, {'dt': 1757246400, 'main': {'temp': 288.5, 'feels_like': 288.52, 'temp_min': 288.5, 'temp_max': 288.5, 'pressure': 1023, 'sea_level': 1023, 'grnd_level': 973, 'humidity': 93, 'temp_kf': 0}, 'weather': [{'id': 500, 'main': 'Rain', 'description': 'light rain', 'icon': '10d'}], 'clouds': {'all': 100}, 'wind': {'speed': 1.83, 'deg': 101, 'gust': 2.02}, 'visibility': 10000, 'pop': 1, 'rain': {'3h': 1.69}, 'sys': {'pod': 'd'}, 'dt_txt': '2025-09-07 12:00:00'}, {'dt': 1757257200, 'main': {'temp': 291.65, 'feels_like': 291.57, 'temp_min': 291.65, 'temp_max': 291.65, 'pressure': 1022, 'sea_level': 1022, 'grnd_level': 972, 'humidity': 77, 'temp_kf': 0}, 'weather': [{'id': 500, 'main': 'Rain', 'description': 'light rain', 'icon': '10d'}], 'clouds': {'all': 94}, 'wind': {'speed': 2.02, 'deg': 46, 'gust': 3.18}, 'visibility': 10000, 'pop': 0.21, 'rain': {'3h': 0.15}, 'sys': {'pod': 'd'}, 'dt_txt': '2025-09-07 15:00:00'}, {'dt': 1757268000, 'main': {'temp': 288.76, 'feels_like': 288.67, 'temp_min': 288.76, 'temp_max': 288.76, 'pressure': 1022, 'sea_level': 1022, 'grnd_level': 972, 'humidity': 88, 'temp_kf': 0}, 'weather': [{'id': 500, 'main': 'Rain', 'description': 'light rain', 'icon': '10d'}], 'clouds': {'all': 95}, 'wind': {'speed': 2.2, 'deg': 76, 'gust': 1.97}, 'visibility': 10000, 'pop': 0.89, 'rain': {'3h': 0.7}, 'sys': {'pod': 'd'}, 'dt_txt': '2025-09-07 18:00:00'}, {'dt': 1757278800, 'main': {'temp': 286.6, 'feels_like': 286.3, 'temp_min': 286.6, 'temp_max': 286.6, 'pressure': 1022, 'sea_level': 1022, 'grnd_level': 972, 'humidity': 88, 'temp_kf': 0}, 'weather': [{'id': 801, 'main': 'Clouds', 'description': 'few clouds', 'icon': '02n'}], 'clouds': {'all': 14}, 'wind': {'speed': 1.73, 'deg': 109, 'gust': 1.79}, 'visibility': 10000, 'pop': 0, 'sys': {'pod': 'n'}, 'dt_txt': '2025-09-07 21:00:00'}, {'dt': 1757289600, 'main': {'temp': 286.05, 'feels_like': 285.69, 'temp_min': 286.05, 'temp_max': 286.05, 'pressure': 1022, 'sea_level': 1022, 'grnd_level': 972, 'humidity': 88, 'temp_kf': 0}, 'weather': [{'id': 801, 'main': 'Clouds', 'description': 'few clouds', 'icon': '02n'}], 'clouds': {'all': 15}, 'wind': {'speed': 1.85, 'deg': 91, 'gust': 1.81}, 'visibility': 10000, 'pop': 0, 'sys': {'pod': 'n'}, 'dt_txt': '2025-09-08 00:00:00'}, {'dt': 1757300400, 'main': {'temp': 285.79, 'feels_like': 285.36, 'temp_min': 285.79, 'temp_max': 285.79, 'pressure': 1021, 'sea_level': 1021, 'grnd_level': 971, 'humidity': 86, 'temp_kf': 0}, 'weather': [{'id': 801, 'main': 'Clouds', 'description': 'few clouds', 'icon': '02n'}], 'clouds': {'all': 19}, 'wind': {'speed': 1.66, 'deg': 91, 'gust': 1.64}, 'visibility': 10000, 'pop': 0, 'sys': {'pod': 'n'}, 'dt_txt': '2025-09-08 03:00:00'}, {'dt': 1757311200, 'main': {'temp': 288.52, 'feels_like': 288.25, 'temp_min': 288.52, 'temp_max': 288.52, 'pressure': 1020, 'sea_level': 1020, 'grnd_level': 970, 'humidity': 82, 'temp_kf': 0}, 'weather': [{'id': 802, 'main': 'Clouds', 'description': 'scattered clouds', 'icon': '03d'}], 'clouds': {'all': 31}, 'wind': {'speed': 1.18, 'deg': 82, 'gust': 1.01}, 'visibility': 10000, 'pop': 0, 'sys': {'pod': 'd'}, 'dt_txt': '2025-09-08 06:00:00'}, {'dt': 1757322000, 'main': {'temp': 291.94, 'feels_like': 291.7, 'temp_min': 291.94, 'temp_max': 291.94, 'pressure': 1019, 'sea_level': 1019, 'grnd_level': 969, 'humidity': 70, 'temp_kf': 0}, 'weather': [{'id': 800, 'main': 'Clear', 'description': 'clear sky', 'icon': '01d'}], 'clouds': {'all': 5}, 'wind': {'speed': 1.58, 'deg': 61, 'gust': 2}, 'visibility': 10000, 'pop': 0, 'sys': {'pod': 'd'}, 'dt_txt': '2025-09-08 09:00:00'}, {'dt': 1757332800, 'main': {'temp': 294.67, 'feels_like': 294.34, 'temp_min': 294.67, 'temp_max': 294.67, 'pressure': 1017, 'sea_level': 1017, 'grnd_level': 968, 'humidity': 56, 'temp_kf': 0}, 'weather': [{'id': 800, 'main': 'Clear', 'description': 'clear sky', 'icon': '01d'}], 'clouds': {'all': 2}, 'wind': {'speed': 1.34, 'deg': 88, 'gust': 2.08}, 'visibility': 10000, 'pop': 0, 'sys': {'pod': 'd'}, 'dt_txt': '2025-09-08 12:00:00'}, {'dt': 1757343600, 'main': {'temp': 295.42, 'feels_like': 294.98, 'temp_min': 295.42, 'temp_max': 295.42, 'pressure': 1016, 'sea_level': 1016, 'grnd_level': 967, 'humidity': 49, 'temp_kf': 0}, 'weather': [{'id': 801, 'main': 'Clouds', 'description': 'few clouds', 'icon': '02d'}], 'clouds': {'all': 11}, 'wind': {'speed': 1.23, 'deg': 136, 'gust': 1.89}, 'visibility': 10000, 'pop': 0, 'sys': {'pod': 'd'}, 'dt_txt': '2025-09-08 15:00:00'}, {'dt': 1757354400, 'main': {'temp': 289.75, 'feels_like': 289.4, 'temp_min': 289.75, 'temp_max': 289.75, 'pressure': 1017, 'sea_level': 1017, 'grnd_level': 967, 'humidity': 74, 'temp_kf': 0}, 'weather': [{'id': 801, 'main': 'Clouds', 'description': 'few clouds', 'icon': '02d'}], 'clouds': {'all': 13}, 'wind': {'speed': 2, 'deg': 132, 'gust': 1.89}, 'visibility': 10000, 'pop': 0, 'sys': {'pod': 'd'}, 'dt_txt': '2025-09-08 18:00:00'}, {'dt': 1757365200, 'main': {'temp': 287.82, 'feels_like': 287.54, 'temp_min': 287.82, 'temp_max': 287.82, 'pressure': 1017, 'sea_level': 1017, 'grnd_level': 967, 'humidity': 84, 'temp_kf': 0}, 'weather': [{'id': 801, 'main': 'Clouds', 'description': 'few clouds', 'icon': '02n'}], 'clouds': {'all': 11}, 'wind': {'speed': 1.88, 'deg': 121, 'gust': 1.82}, 'visibility': 10000, 'pop': 0, 'sys': {'pod': 'n'}, 'dt_txt': '2025-09-08 21:00:00'}, {'dt': 1757376000, 'main': {'temp': 286.61, 'feels_like': 286.2, 'temp_min': 286.61, 'temp_max': 286.61, 'pressure': 1017, 'sea_level': 1017, 'grnd_level': 967, 'humidity': 84, 'temp_kf': 0}, 'weather': [{'id': 801, 'main': 'Clouds', 'description': 'few clouds', 'icon': '02n'}], 'clouds': {'all': 13}, 'wind': {'speed': 1.44, 'deg': 88, 'gust': 1.35}, 'visibility': 10000, 'pop': 0, 'sys': {'pod': 'n'}, 'dt_txt': '2025-09-09 00:00:00'}, {'dt': 1757386800, 'main': {'temp': 285.92, 'feels_like': 285.47, 'temp_min': 285.92, 'temp_max': 285.92, 'pressure': 1017, 'sea_level': 1017, 'grnd_level': 967, 'humidity': 85, 'temp_kf': 0}, 'weather': [{'id': 803, 'main': 'Clouds', 'description': 'broken clouds', 'icon': '04n'}], 'clouds': {'all': 55}, 'wind': {'speed': 1.27, 'deg': 90, 'gust': 1.25}, 'visibility': 10000, 'pop': 0, 'sys': {'pod': 'n'}, 'dt_txt': '2025-09-09 03:00:00'}, {'dt': 1757397600, 'main': {'temp': 288.4, 'feels_like': 288.12, 'temp_min': 288.4, 'temp_max': 288.4, 'pressure': 1017, 'sea_level': 1017, 'grnd_level': 967, 'humidity': 82, 'temp_kf': 0}, 'weather': [{'id': 803, 'main': 'Clouds', 'description': 'broken clouds', 'icon': '04d'}], 'clouds': {'all': 69}, 'wind': {'speed': 0.87, 'deg': 78, 'gust': 0.63}, 'visibility': 10000, 'pop': 0, 'sys': {'pod': 'd'}, 'dt_txt': '2025-09-09 06:00:00'}, {'dt': 1757408400, 'main': {'temp': 291.6, 'feels_like': 291.33, 'temp_min': 291.6, 'temp_max': 291.6, 'pressure': 1017, 'sea_level': 1017, 'grnd_level': 967, 'humidity': 70, 'temp_kf': 0}, 'weather': [{'id': 804, 'main': 'Clouds', 'description': 'overcast clouds', 'icon': '04d'}], 'clouds': {'all': 100}, 'wind': {'speed': 0.3, 'deg': 279, 'gust': 0.76}, 'visibility': 10000, 'pop': 0, 'sys': {'pod': 'd'}, 'dt_txt': '2025-09-09 09:00:00'}, {'dt': 1757419200, 'main': {'temp': 293.3, 'feels_like': 293.07, 'temp_min': 293.3, 'temp_max': 293.3, 'pressure': 1017, 'sea_level': 1017, 'grnd_level': 967, 'humidity': 65, 'temp_kf': 0}, 'weather': [{'id': 804, 'main': 'Clouds', 'description': 'overcast clouds', 'icon': '04d'}], 'clouds': {'all': 100}, 'wind': {'speed': 1.29, 'deg': 300, 'gust': 1.46}, 'visibility': 10000, 'pop': 0, 'sys': {'pod': 'd'}, 'dt_txt': '2025-09-09 12:00:00'}, {'dt': 1757430000, 'main': {'temp': 294.15, 'feels_like': 293.85, 'temp_min': 294.15, 'temp_max': 294.15, 'pressure': 1016, 'sea_level': 1016, 'grnd_level': 967, 'humidity': 59, 'temp_kf': 0}, 'weather': [{'id': 802, 'main': 'Clouds', 'description': 'scattered clouds', 'icon': '03d'}], 'clouds': {'all': 37}, 'wind': {'speed': 0.5, 'deg': 8, 'gust': 1.37}, 'visibility': 10000, 'pop': 0, 'sys': {'pod': 'd'}, 'dt_txt': '2025-09-09 15:00:00'}, {'dt': 1757440800, 'main': {'temp': 289.57, 'feels_like': 289.23, 'temp_min': 289.57, 'temp_max': 289.57, 'pressure': 1016, 'sea_level': 1016, 'grnd_level': 966, 'humidity': 75, 'temp_kf': 0}, 'weather': [{'id': 801, 'main': 'Clouds', 'description': 'few clouds', 'icon': '02n'}], 'clouds': {'all': 23}, 'wind': {'speed': 1.91, 'deg': 115, 'gust': 1.86}, 'visibility': 10000, 'pop': 0, 'sys': {'pod': 'n'}, 'dt_txt': '2025-09-09 18:00:00'}, {'dt': 1757451600, 'main': {'temp': 287.79, 'feels_like': 287.37, 'temp_min': 287.79, 'temp_max': 287.79, 'pressure': 1016, 'sea_level': 1016, 'grnd_level': 966, 'humidity': 79, 'temp_kf': 0}, 'weather': [{'id': 801, 'main': 'Clouds', 'description': 'few clouds', 'icon': '02n'}], 'clouds': {'all': 11}, 'wind': {'speed': 2.19, 'deg': 116, 'gust': 2.24}, 'visibility': 10000, 'pop': 0, 'sys': {'pod': 'n'}, 'dt_txt': '2025-09-09 21:00:00'}, {'dt': 1757462400, 'main': {'temp': 287.22, 'feels_like': 286.77, 'temp_min': 287.22, 'temp_max': 287.22, 'pressure': 1015, 'sea_level': 1015, 'grnd_level': 965, 'humidity': 80, 'temp_kf': 0}, 'weather': [{'id': 802, 'main': 'Clouds', 'description': 'scattered clouds', 'icon': '03n'}], 'clouds': {'all': 35}, 'wind': {'speed': 2.05, 'deg': 106, 'gust': 2.05}, 'visibility': 10000, 'pop': 0, 'sys': {'pod': 'n'}, 'dt_txt': '2025-09-10 00:00:00'}, {'dt': 1757473200, 'main': {'temp': 287.2, 'feels_like': 286.75, 'temp_min': 287.2, 'temp_max': 287.2, 'pressure': 1014, 'sea_level': 1014, 'grnd_level': 964, 'humidity': 80, 'temp_kf': 0}, 'weather': [{'id': 804, 'main': 'Clouds', 'description': 'overcast clouds', 'icon': '04n'}], 'clouds': {'all': 100}, 'wind': {'speed': 2.27, 'deg': 89, 'gust': 2.15}, 'visibility': 10000, 'pop': 0, 'sys': {'pod': 'n'}, 'dt_txt': '2025-09-10 03:00:00'}, {'dt': 1757484000, 'main': {'temp': 288.7, 'feels_like': 288.32, 'temp_min': 288.7, 'temp_max': 288.7, 'pressure': 1013, 'sea_level': 1013, 'grnd_level': 964, 'humidity': 77, 'temp_kf': 0}, 'weather': [{'id': 804, 'main': 'Clouds', 'description': 'overcast clouds', 'icon': '04d'}], 'clouds': {'all': 99}, 'wind': {'speed': 2.49, 'deg': 99, 'gust': 2.78}, 'visibility': 10000, 'pop': 0, 'sys': {'pod': 'd'}, 'dt_txt': '2025-09-10 06:00:00'}, {'dt': 1757494800, 'main': {'temp': 292.81, 'feels_like': 292.4, 'temp_min': 292.81, 'temp_max': 292.81, 'pressure': 1012, 'sea_level': 1012, 'grnd_level': 963, 'humidity': 60, 'temp_kf': 0}, 'weather': [{'id': 804, 'main': 'Clouds', 'description': 'overcast clouds', 'icon': '04d'}], 'clouds': {'all': 92}, 'wind': {'speed': 2.31, 'deg': 105, 'gust': 2.94}, 'visibility': 10000, 'pop': 0, 'sys': {'pod': 'd'}, 'dt_txt': '2025-09-10 09:00:00'}, {'dt': 1757505600, 'main': {'temp': 292.51, 'feels_like': 292.17, 'temp_min': 292.51, 'temp_max': 292.51, 'pressure': 1011, 'sea_level': 1011, 'grnd_level': 962, 'humidity': 64, 'temp_kf': 0}, 'weather': [{'id': 804, 'main': 'Clouds', 'description': 'overcast clouds', 'icon': '04d'}], 'clouds': {'all': 90}, 'wind': {'speed': 2.66, 'deg': 115, 'gust': 3.27}, 'visibility': 10000, 'pop': 0, 'sys': {'pod': 'd'}, 'dt_txt': '2025-09-10 12:00:00'}], 'city': {'id': 3145614, 'name': 'Mo i Rana', 'coord': {'lat': 66.3128, 'lon': 14.1428}, 'country': 'NO', 'population': 17853, 'timezone': 7200, 'sunrise': 1757044255, 'sunset': 1757096025}}\")\n"
     ]
    }
   ],
   "source": [
    "# Query the data\n",
    "forecast_rows = session.execute(\"SELECT * FROM forecast_table;\")\n",
    "print(forecast_rows.one()) # <- only one row"
   ]
  },
  {
   "cell_type": "markdown",
   "metadata": {
    "slideshow": {
     "slide_type": "slide"
    }
   },
   "source": [
    "```{seealso} \n",
    ":class: tip\n",
    "\n",
    "## Resources\n",
    "- [Cassandra webpage](https://cassandra.apache.org/)\n",
    "- [Cassandra Docker file](https://hub.docker.com/_/cassandra)\n",
    "- [UUID functions](https://docs.datastax.com/en/cql-oss/3.3/cql/cql_reference/timeuuid_functions_r.html)\n",
    "- [YouTube: Cassandra in 100 seconds](https://youtu.be/ziq7FUKpCS8?si=WQUdkHFvaBmT0DBo) (2m:26s)\n",
    "- [YouTube: How to use Apache Cassandra in Python](https://youtu.be/qMauZqJH3ZM?si=yKGZ-5cld2BK396Y) (14m:50s)\n",
    "- [YouTube: Cassandra Database Crash Course](https://youtu.be/KZsVSfQVU4I?si=FBCi8qOfCirfVmZk) (19m:47s)\n",
    "```"
   ]
  }
 ],
 "metadata": {
  "celltoolbar": "Slideshow",
  "kernelspec": {
   "display_name": "ind320_25",
   "language": "python",
   "name": "python3"
  },
  "language_info": {
   "codemirror_mode": {
    "name": "ipython",
    "version": 3
   },
   "file_extension": ".py",
   "mimetype": "text/x-python",
   "name": "python",
   "nbconvert_exporter": "python",
   "pygments_lexer": "ipython3",
   "version": "3.12.10"
  }
 },
 "nbformat": 4,
 "nbformat_minor": 4
}