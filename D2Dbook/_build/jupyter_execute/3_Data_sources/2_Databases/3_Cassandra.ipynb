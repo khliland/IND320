{
 "cells": [
  {
   "cell_type": "markdown",
   "metadata": {
    "slideshow": {
     "slide_type": "slide"
    }
   },
   "source": [
    "# Cassandra\n",
    "- A production grade NoSQL database.\n",
    "- Can be distributed across servers, nodes, etc.\n",
    "- Replication of database is supported for high degree of redundancy and speed.\n",
    "- Uses CQL, a subset of SQL for querying.\n",
    "- Works seamlesly together with Spark and its corresponding distributed structure.\n",
    "- Installation of Cassandra is explained in the [Installation chapter](../../7_Appendix/Installation.ipynb)."
   ]
  },
  {
   "cell_type": "markdown",
   "metadata": {
    "slideshow": {
     "slide_type": "slide"
    }
   },
   "source": [
    "## Spinning up a local Cassandra instance\n",
    "In a terminal, first time:  \n",
    "```docker run --name my_cassandra -p 9042:9042 cassandra:latest```  \n",
    "... and later:  \n",
    "```docker start my_cassandra```  \n",
    "  \n",
    ".. or in Docker Desktop:\n",
    "- Run the cassandra docker image with optional settings, opening 9042 port and setting a name.\n",
    "- Later, simply run the container with the name you chose."
   ]
  },
  {
   "cell_type": "markdown",
   "metadata": {
    "slideshow": {
     "slide_type": "slide"
    }
   },
   "source": [
    "<img src=\"https://github.com/khliland/IND320/blob/main/D2Dbook/images/Docker_images.png?raw=TRUE\" width=\"600px\">  "
   ]
  },
  {
   "cell_type": "markdown",
   "metadata": {
    "slideshow": {
     "slide_type": "slide"
    }
   },
   "source": [
    "\n",
    "<img src=\"https://github.com/khliland/IND320/blob/main/D2Dbook/images/Docker_containers.png?raw=TRUE\" width=\"800px\">  "
   ]
  },
  {
   "cell_type": "markdown",
   "metadata": {
    "slideshow": {
     "slide_type": "slide"
    }
   },
   "source": [
    "### Connect to the Cassandra cluster from Python."
   ]
  },
  {
   "cell_type": "code",
   "execution_count": 1,
   "metadata": {
    "slideshow": {
     "slide_type": "-"
    }
   },
   "outputs": [],
   "source": [
    "# Connecting to Cassandra\n",
    "from cassandra.cluster import Cluster\n",
    "cluster = Cluster(['localhost'], port=9042)\n",
    "session = cluster.connect()"
   ]
  },
  {
   "cell_type": "markdown",
   "metadata": {
    "slideshow": {
     "slide_type": "slide"
    }
   },
   "source": [
    "### Keyspace\n",
    "- In Cassandra database tables are stored in keyspaces (basically a distributed database).\n",
    "- These have parameters controlling their distribution on nodes/servers and redundancy.\n",
    "- We will use the simplest form locally."
   ]
  },
  {
   "cell_type": "code",
   "execution_count": 2,
   "metadata": {
    "slideshow": {
     "slide_type": "fragment"
    }
   },
   "outputs": [
    {
     "data": {
      "text/plain": [
       "<cassandra.cluster.ResultSet at 0x105d01af0>"
      ]
     },
     "execution_count": 2,
     "metadata": {},
     "output_type": "execute_result"
    }
   ],
   "source": [
    "# Set up new keyspace (first time only)\n",
    "#                                              name of keyspace                        replication strategy           replication factor\n",
    "session.execute(\"CREATE KEYSPACE IF NOT EXISTS my_first_keyspace WITH REPLICATION = { 'class' : 'SimpleStrategy', 'replication_factor' : 1 };\")"
   ]
  },
  {
   "cell_type": "markdown",
   "metadata": {
    "slideshow": {
     "slide_type": "slide"
    }
   },
   "source": [
    "### Create a table\n",
    "- IF NOT EXISTS makes sure we do not overwrite existing tables"
   ]
  },
  {
   "cell_type": "code",
   "execution_count": 3,
   "metadata": {
    "slideshow": {
     "slide_type": "fragment"
    }
   },
   "outputs": [
    {
     "data": {
      "text/plain": [
       "<cassandra.cluster.ResultSet at 0x1064cd760>"
      ]
     },
     "execution_count": 3,
     "metadata": {},
     "output_type": "execute_result"
    }
   ],
   "source": [
    "# Create a new table (first time only)\n",
    "session.set_keyspace('my_first_keyspace')\n",
    "session.execute(\"DROP TABLE IF EXISTS my_first_keyspace.my_first_table;\") # Starting from scratch every time\n",
    "session.execute(\"CREATE TABLE IF NOT EXISTS my_first_table (ind int PRIMARY KEY, company text, model text);\")"
   ]
  },
  {
   "cell_type": "markdown",
   "metadata": {
    "slideshow": {
     "slide_type": "slide"
    }
   },
   "source": [
    "### Inserting and reading data"
   ]
  },
  {
   "cell_type": "code",
   "execution_count": 4,
   "metadata": {
    "slideshow": {
     "slide_type": "-"
    }
   },
   "outputs": [
    {
     "data": {
      "text/plain": [
       "<cassandra.cluster.ResultSet at 0x10ec2cbc0>"
      ]
     },
     "execution_count": 4,
     "metadata": {},
     "output_type": "execute_result"
    }
   ],
   "source": [
    "# Insert some data (ind is the primary key, must be unique)\n",
    "session.execute(\"INSERT INTO my_first_table (ind, company, model) VALUES (1, 'Tesla', 'Model S');\")\n",
    "session.execute(\"INSERT INTO my_first_table (ind, company, model) VALUES (2, 'Tesla', 'Model 3');\")\n",
    "session.execute(\"INSERT INTO my_first_table (ind, company, model) VALUES (3, 'Polestar', '3');\")"
   ]
  },
  {
   "cell_type": "markdown",
   "metadata": {
    "slideshow": {
     "slide_type": "slide"
    }
   },
   "source": [
    "### Asyncronous writing\n",
    "- If your application is very data intensive, waiting for a response is not productive.\n",
    "- Writing asyncronously sends the data but does not pause for reply."
   ]
  },
  {
   "cell_type": "code",
   "execution_count": 5,
   "metadata": {
    "slideshow": {
     "slide_type": "-"
    }
   },
   "outputs": [
    {
     "data": {
      "text/plain": [
       "<ResponseFuture: query='<SimpleStatement query=\"INSERT INTO my_first_table (ind, company, model) VALUES (4, 'Volkswagen', 'ID.4');\", consistency=Not Set>' request_id=24 result=(no result yet) exception=None coordinator_host=None>"
      ]
     },
     "execution_count": 5,
     "metadata": {},
     "output_type": "execute_result"
    }
   ],
   "source": [
    "session.execute_async(\"INSERT INTO my_first_table (ind, company, model) VALUES (4, 'Volkswagen', 'ID.4');\")"
   ]
  },
  {
   "cell_type": "code",
   "execution_count": 6,
   "metadata": {
    "slideshow": {
     "slide_type": "slide"
    }
   },
   "outputs": [
    {
     "name": "stdout",
     "output_type": "stream",
     "text": [
      "Row(ind=1, company='Tesla', model='Model S')\n",
      "Row(ind=2, company='Tesla', model='Model 3')\n",
      "Row(ind=4, company='Volkswagen', model='ID.4')\n",
      "Row(ind=3, company='Polestar', model='3')\n"
     ]
    }
   ],
   "source": [
    "# Query the data\n",
    "rows = session.execute(\"SELECT * FROM my_first_table;\")\n",
    "for i in rows:\n",
    "    print(i)"
   ]
  },
  {
   "cell_type": "code",
   "execution_count": 7,
   "metadata": {
    "slideshow": {
     "slide_type": "slide"
    },
    "tags": [
     "raises-exception"
    ]
   },
   "outputs": [
    {
     "ename": "InvalidRequest",
     "evalue": "Error from server: code=2200 [Invalid query] message=\"Cannot execute this query as it might involve data filtering and thus may have unpredictable performance. If you want to execute this query despite the performance unpredictability, use ALLOW FILTERING\"",
     "output_type": "error",
     "traceback": [
      "\u001b[0;31m---------------------------------------------------------------------------\u001b[0m",
      "\u001b[0;31mInvalidRequest\u001b[0m                            Traceback (most recent call last)",
      "Cell \u001b[0;32mIn[7], line 2\u001b[0m\n\u001b[1;32m      1\u001b[0m \u001b[38;5;66;03m# More specific query\u001b[39;00m\n\u001b[0;32m----> 2\u001b[0m prepared_statement \u001b[38;5;241m=\u001b[39m \u001b[43msession\u001b[49m\u001b[38;5;241;43m.\u001b[39;49m\u001b[43mprepare\u001b[49m\u001b[43m(\u001b[49m\u001b[38;5;124;43m\"\u001b[39;49m\u001b[38;5;124;43mSELECT * FROM my_first_table WHERE company=?;\u001b[39;49m\u001b[38;5;124;43m\"\u001b[39;49m\u001b[43m)\u001b[49m \u001b[38;5;66;03m# <- will fail as company is not a key\u001b[39;00m\n\u001b[1;32m      3\u001b[0m teslas \u001b[38;5;241m=\u001b[39m session\u001b[38;5;241m.\u001b[39mexecute(prepared_statement, [\u001b[38;5;124m'\u001b[39m\u001b[38;5;124mTesla\u001b[39m\u001b[38;5;124m'\u001b[39m])\n\u001b[1;32m      4\u001b[0m \u001b[38;5;28;01mfor\u001b[39;00m i \u001b[38;5;129;01min\u001b[39;00m teslas:\n",
      "File \u001b[0;32m~/miniforge3/envs/IND320_2024/lib/python3.12/site-packages/cassandra/cluster.py:3131\u001b[0m, in \u001b[0;36mcassandra.cluster.Session.prepare\u001b[0;34m()\u001b[0m\n",
      "File \u001b[0;32m~/miniforge3/envs/IND320_2024/lib/python3.12/site-packages/cassandra/cluster.py:3128\u001b[0m, in \u001b[0;36mcassandra.cluster.Session.prepare\u001b[0;34m()\u001b[0m\n",
      "File \u001b[0;32m~/miniforge3/envs/IND320_2024/lib/python3.12/site-packages/cassandra/cluster.py:4956\u001b[0m, in \u001b[0;36mcassandra.cluster.ResponseFuture.result\u001b[0;34m()\u001b[0m\n",
      "\u001b[0;31mInvalidRequest\u001b[0m: Error from server: code=2200 [Invalid query] message=\"Cannot execute this query as it might involve data filtering and thus may have unpredictable performance. If you want to execute this query despite the performance unpredictability, use ALLOW FILTERING\""
     ]
    }
   ],
   "source": [
    "# More specific query\n",
    "prepared_statement = session.prepare(\"SELECT * FROM my_first_table WHERE company=?;\") # <- will fail as company is not a key\n",
    "teslas = session.execute(prepared_statement, ['Tesla'])\n",
    "for i in teslas:\n",
    "    print(i)"
   ]
  },
  {
   "cell_type": "markdown",
   "metadata": {
    "slideshow": {
     "slide_type": "slide"
    }
   },
   "source": [
    "## Cassandra filtering\n",
    "Cassandra is inherently a distributed production database. Selecting as above may require downloading all data from a node, then filtering based on the WHERE part (only PRIMARY KEYs are centrally known). Solutions:  \n",
    "- If the table is small or most of the data will satisfy the query, add ```ALLOW FILTERING``` at the end of the query (not recommended if not known). \n",
    "- Or make sure the WHERE clause points to one of the keys (see below)."
   ]
  },
  {
   "cell_type": "code",
   "execution_count": 8,
   "metadata": {
    "slideshow": {
     "slide_type": "slide"
    }
   },
   "outputs": [
    {
     "data": {
      "text/plain": [
       "<cassandra.cluster.ResultSet at 0x10ec2d3a0>"
      ]
     },
     "execution_count": 8,
     "metadata": {},
     "output_type": "execute_result"
    }
   ],
   "source": [
    "# Create a new table (observe keys)\n",
    "session.execute(\"DROP TABLE IF EXISTS my_first_keyspace.car_table;\")\n",
    "session.execute(\"CREATE TABLE IF NOT EXISTS car_table (company text, model text, PRIMARY KEY(company, model));\")"
   ]
  },
  {
   "cell_type": "code",
   "execution_count": 9,
   "metadata": {
    "slideshow": {
     "slide_type": "fragment"
    }
   },
   "outputs": [
    {
     "data": {
      "text/plain": [
       "<cassandra.cluster.ResultSet at 0x10ec401a0>"
      ]
     },
     "execution_count": 9,
     "metadata": {},
     "output_type": "execute_result"
    }
   ],
   "source": [
    "# Insert some data (combination of company and model must be unique)\n",
    "session.execute(\"INSERT INTO car_table (company, model) VALUES ('Tesla', 'Model S');\")\n",
    "session.execute(\"INSERT INTO car_table (company, model) VALUES ('Tesla', 'Model 3');\")\n",
    "session.execute(\"INSERT INTO car_table (company, model) VALUES ('Polestar', '3');\")\n",
    "session.execute(\"INSERT INTO car_table (company, model) VALUES ('Volkswagen', 'ID.4');\")"
   ]
  },
  {
   "cell_type": "code",
   "execution_count": 10,
   "metadata": {
    "slideshow": {
     "slide_type": "slide"
    }
   },
   "outputs": [
    {
     "name": "stdout",
     "output_type": "stream",
     "text": [
      "Row(company='Tesla', model='Model 3')\n",
      "Row(company='Tesla', model='Model S')\n"
     ]
    }
   ],
   "source": [
    "# More specific query now works\n",
    "prepared_statement = session.prepare(\"SELECT * FROM car_table WHERE company=?;\")\n",
    "teslas = session.execute(prepared_statement, ['Tesla'])\n",
    "for i in teslas:\n",
    "    print(i)"
   ]
  },
  {
   "cell_type": "markdown",
   "metadata": {
    "slideshow": {
     "slide_type": "slide"
    }
   },
   "source": [
    "### Partitions\n",
    "- Cassandra databases are usually replicated over different nodes.\n",
    "- Data is stored in partitions (subsets) which have local copys.\n",
    "- The primary key, e.g., PRIMARY KEY(company, model), is used in partitioning.\n",
    "    - The first part, e.g., company, is most important.\n",
    "    - All cars from a company will be located together, aiming for quicker queries."
   ]
  },
  {
   "cell_type": "markdown",
   "metadata": {
    "slideshow": {
     "slide_type": "slide"
    }
   },
   "source": [
    "### Unique IDs \n",
    "- In MySQL one could use the attribute AUTO_INCREMENT on integer IDs to automatically make a new unique index when inserting data.\n",
    "- This would cause unreasonable overhead in a distributed database.\n",
    "- [UUID](https://en.wikipedia.org/wiki/Universally_unique_identifier)s are used instead.\n",
    "    - Universally Unique Identifiers are typically 128-bit random bit sequences with extremely low probability of duplication.\n",
    "    - Cassandra uses a [timeuuid](https://docs.datastax.com/en/cql-oss/3.3/cql/cql_reference/timeuuid_functions_r.html) type to combine a timestamp and uuid in one."
   ]
  },
  {
   "cell_type": "code",
   "execution_count": 11,
   "metadata": {
    "slideshow": {
     "slide_type": "fragment"
    }
   },
   "outputs": [
    {
     "data": {
      "text/plain": [
       "<cassandra.cluster.ResultSet at 0x10442ea20>"
      ]
     },
     "execution_count": 11,
     "metadata": {},
     "output_type": "execute_result"
    }
   ],
   "source": [
    "# Create a new table (first time only)\n",
    "session.set_keyspace('my_first_keyspace')\n",
    "session.execute(\"DROP TABLE IF EXISTS my_first_keyspace.table_with_uuid;\")\n",
    "session.execute(\"CREATE TABLE IF NOT EXISTS table_with_uuid (id timeuuid PRIMARY KEY, company text, model text, price float);\")"
   ]
  },
  {
   "cell_type": "code",
   "execution_count": 12,
   "metadata": {
    "slideshow": {
     "slide_type": "slide"
    }
   },
   "outputs": [
    {
     "data": {
      "text/plain": [
       "<cassandra.cluster.ResultSet at 0x10ec41b80>"
      ]
     },
     "execution_count": 12,
     "metadata": {},
     "output_type": "execute_result"
    }
   ],
   "source": [
    "session.execute(\"INSERT INTO table_with_uuid (id, company, model, price) VALUES (now(), 'Tesla', 'Model S', 20000.0);\")\n",
    "session.execute(\"INSERT INTO table_with_uuid (id, company, model, price) VALUES (now(), 'Tesla', 'Model S', 21000.0);\")\n",
    "session.execute(\"INSERT INTO table_with_uuid (id, company, model, price) VALUES (now(), 'Oldsmobile', 'Model 6C', 135000.0);\")"
   ]
  },
  {
   "cell_type": "code",
   "execution_count": 13,
   "metadata": {
    "slideshow": {
     "slide_type": "slide"
    }
   },
   "outputs": [
    {
     "name": "stdout",
     "output_type": "stream",
     "text": [
      "Row(id=UUID('cf3bb2b0-563b-11ef-bf67-1198bb0571f3'), company='Tesla', model='Model S', price=20000.0)\n",
      "Datetime: 2024-08-09 10:40:35.163000\n",
      "Row(id=UUID('cf3c27e0-563b-11ef-bf67-1198bb0571f3'), company='Tesla', model='Model S', price=21000.0)\n",
      "Datetime: 2024-08-09 10:40:35.166000\n",
      "Row(id=UUID('cf3c4ef0-563b-11ef-bf67-1198bb0571f3'), company='Oldsmobile', model='Model 6C', price=135000.0)\n",
      "Datetime: 2024-08-09 10:40:35.167000\n"
     ]
    }
   ],
   "source": [
    "from cassandra.util import datetime_from_uuid1\n",
    "\n",
    "# Query the data\n",
    "rows = session.execute(\"SELECT * FROM table_with_uuid;\")\n",
    "for i in rows:\n",
    "    print(i)\n",
    "    # Extract the timestamp from Cassandra's timeuuid\n",
    "    print(\"Datetime:\", datetime_from_uuid1(i.id))"
   ]
  },
  {
   "cell_type": "markdown",
   "metadata": {
    "slideshow": {
     "slide_type": "slide"
    }
   },
   "source": [
    "## JSON in Cassandra\n",
    "### Read previously saved JSON file forecast.json to memory"
   ]
  },
  {
   "cell_type": "code",
   "execution_count": 14,
   "metadata": {
    "slideshow": {
     "slide_type": "-"
    }
   },
   "outputs": [],
   "source": [
    "import json\n",
    "with open('../3_APIs/downloads/forecast.json', 'r') as f:\n",
    "    forecast = json.load(f)"
   ]
  },
  {
   "cell_type": "code",
   "execution_count": 15,
   "metadata": {
    "slideshow": {
     "slide_type": "slide"
    }
   },
   "outputs": [
    {
     "data": {
      "text/plain": [
       "\"{'cod': '200', 'message': 0, 'cnt': 40, 'list': [{'dt': 1723204800, 'main': {'temp': 288.21, 'feels_like': 288.25, 'temp_min': 286.72, 'temp_max': 288.21, 'pressure': 997, 'sea_level': 997, 'grnd_level': 942, 'humidity': 95, 'temp_kf': 1.49}, 'weather': [{'id': 501, 'main': 'Rain', 'description': 'moderate rain', 'icon': '10d'}], 'clouds': {'all': 100}, 'wind': {'speed': 1.06, 'deg': 33, 'gust': 1.75}, 'pop': 1, 'rain': {'3h': 3.89}, 'sys': {'pod': 'd'}, 'dt_txt': '2024-08-09 12:00:00'}, {'dt': 1723215600, 'main': {'temp': 287.92, 'feels_like': 287.99, 'temp_min': 287.33, 'temp_max': 287.92, 'pressure': 996, 'sea_level': 996, 'grnd_level': 940, 'humidity': 97, 'temp_kf': 0.59}, 'weather': [{'id': 500, 'main': 'Rain', 'description': 'light rain', 'icon': '10d'}], 'clouds': {'all': 100}, 'wind': {'speed': 1.12, 'deg': 223, 'gust': 1.34}, 'visibility': 6988, 'pop': 1, 'rain': {'3h': 2.61}, 'sys': {'pod': 'd'}, 'dt_txt': '2024-08-09 15:00:00'}, {'dt': 1723226400, 'main': {'temp': 288.48, 'feels_like': 288.5, 'temp_min': 288.48, 'temp_max': 288.61, 'pressure': 996, 'sea_level': 996, 'grnd_level': 940, 'humidity': 93, 'temp_kf': -0.13}, 'weather': [{'id': 500, 'main': 'Rain', 'description': 'light rain', 'icon': '10d'}], 'clouds': {'all': 99}, 'wind': {'speed': 1, 'deg': 196, 'gust': 1.38}, 'visibility': 10000, 'pop': 1, 'rain': {'3h': 0.19}, 'sys': {'pod': 'd'}, 'dt_txt': '2024-08-09 18:00:00'}, {'dt': 1723237200, 'main': {'temp': 285.94, 'feels_like': 285.7, 'temp_min': 285.94, 'temp_max': 285.94, 'pressure': 998, 'sea_level': 998, 'grnd_level': 942, 'humidity': 93, 'temp_kf': 0}, 'weather': [{'id': 500, 'main': 'Rain', 'description': 'light rain', 'icon': '10n'}], 'clouds': {'all': 75}, 'wind': {'speed': 2.05, 'deg': 286, 'gust': 1.66}, 'visibility': 10000, 'pop': 0.2, 'rain': {'3h': 0.24}, 'sys': {'pod': 'n'}, 'dt_txt': '2024-08-09 21:00:00'}, {'dt': 1723248000, 'main': {'temp': 282.55, 'feels_like': 281.5, 'temp_min': 282.55, 'temp_max': 282.55, 'pressure': 999, 'sea_level': 999, 'grnd_level': 943, 'humidity': 93, 'temp_kf': 0}, 'weather': [{'id': 802, 'main': 'Clouds', 'description': 'scattered clouds', 'icon': '03n'}], 'clouds': {'all': 45}, 'wind': {'speed': 2.18, 'deg': 274, 'gust': 1.62}, 'visibility': 10000, 'pop': 0, 'sys': {'pod': 'n'}, 'dt_txt': '2024-08-10 00:00:00'}, {'dt': 1723258800, 'main': {'temp': 282.03, 'feels_like': 280.98, 'temp_min': 282.03, 'temp_max': 282.03, 'pressure': 1000, 'sea_level': 1000, 'grnd_level': 944, 'humidity': 92, 'temp_kf': 0}, 'weather': [{'id': 802, 'main': 'Clouds', 'description': 'scattered clouds', 'icon': '03n'}], 'clouds': {'all': 38}, 'wind': {'speed': 2.07, 'deg': 268, 'gust': 1.81}, 'visibility': 10000, 'pop': 0, 'sys': {'pod': 'n'}, 'dt_txt': '2024-08-10 03:00:00'}, {'dt': 1723269600, 'main': {'temp': 285.53, 'feels_like': 285.02, 'temp_min': 285.53, 'temp_max': 285.53, 'pressure': 1001, 'sea_level': 1001, 'grnd_level': 945, 'humidity': 84, 'temp_kf': 0}, 'weather': [{'id': 803, 'main': 'Clouds', 'description': 'broken clouds', 'icon': '04d'}], 'clouds': {'all': 68}, 'wind': {'speed': 1.13, 'deg': 251, 'gust': 2.87}, 'visibility': 10000, 'pop': 0, 'sys': {'pod': 'd'}, 'dt_txt': '2024-08-10 06:00:00'}, {'dt': 1723280400, 'main': {'temp': 289.83, 'feels_like': 288.99, 'temp_min': 289.83, 'temp_max': 289.83, 'pressure': 1001, 'sea_level': 1001, 'grnd_level': 946, 'humidity': 55, 'temp_kf': 0}, 'weather': [{'id': 804, 'main': 'Clouds', 'description': 'overcast clouds', 'icon': '04d'}], 'clouds': {'all': 98}, 'wind': {'speed': 3.08, 'deg': 250, 'gust': 8.18}, 'visibility': 10000, 'pop': 0, 'sys': {'pod': 'd'}, 'dt_txt': '2024-08-10 09:00:00'}, {'dt': 1723291200, 'main': {'temp': 290.94, 'feels_like': 290.13, 'temp_min': 290.94, 'temp_max': 290.94, 'pressure': 1002, 'sea_level': 1002, 'grnd_level': 947, 'humidity': 52, 'temp_kf': 0}, 'weather': [{'id': 804, 'main': 'Clouds', 'description': 'overcast clouds', 'icon': '04d'}], 'clouds': {'all': 97}, 'wind': {'speed': 5.11, 'deg': 244, 'gust': 10.85}, 'visibility': 10000, 'pop': 0, 'sys': {'pod': 'd'}, 'dt_txt': '2024-08-10 12:00:00'}, {'dt': 1723302000, 'main': {'temp': 290.6, 'feels_like': 289.81, 'temp_min': 290.6, 'temp_max': 290.6, 'pressure': 1003, 'sea_level': 1003, 'grnd_level': 947, 'humidity': 54, 'temp_kf': 0}, 'weather': [{'id': 804, 'main': 'Clouds', 'description': 'overcast clouds', 'icon': '04d'}], 'clouds': {'all': 98}, 'wind': {'speed': 4.93, 'deg': 250, 'gust': 10.85}, 'visibility': 10000, 'pop': 0, 'sys': {'pod': 'd'}, 'dt_txt': '2024-08-10 15:00:00'}, {'dt': 1723312800, 'main': {'temp': 288.52, 'feels_like': 287.63, 'temp_min': 288.52, 'temp_max': 288.52, 'pressure': 1004, 'sea_level': 1004, 'grnd_level': 948, 'humidity': 58, 'temp_kf': 0}, 'weather': [{'id': 804, 'main': 'Clouds', 'description': 'overcast clouds', 'icon': '04d'}], 'clouds': {'all': 85}, 'wind': {'speed': 4.89, 'deg': 268, 'gust': 12.84}, 'visibility': 10000, 'pop': 0, 'sys': {'pod': 'd'}, 'dt_txt': '2024-08-10 18:00:00'}, {'dt': 1723323600, 'main': {'temp': 284.16, 'feels_like': 283.3, 'temp_min': 284.16, 'temp_max': 284.16, 'pressure': 1005, 'sea_level': 1005, 'grnd_level': 949, 'humidity': 76, 'temp_kf': 0}, 'weather': [{'id': 803, 'main': 'Clouds', 'description': 'broken clouds', 'icon': '04n'}], 'clouds': {'all': 69}, 'wind': {'speed': 2.06, 'deg': 271, 'gust': 2.64}, 'visibility': 10000, 'pop': 0, 'sys': {'pod': 'n'}, 'dt_txt': '2024-08-10 21:00:00'}, {'dt': 1723334400, 'main': {'temp': 284.83, 'feels_like': 284.01, 'temp_min': 284.83, 'temp_max': 284.83, 'pressure': 1006, 'sea_level': 1006, 'grnd_level': 949, 'humidity': 75, 'temp_kf': 0}, 'weather': [{'id': 803, 'main': 'Clouds', 'description': 'broken clouds', 'icon': '04n'}], 'clouds': {'all': 59}, 'wind': {'speed': 3.13, 'deg': 286, 'gust': 6.38}, 'visibility': 10000, 'pop': 0, 'sys': {'pod': 'n'}, 'dt_txt': '2024-08-11 00:00:00'}, {'dt': 1723345200, 'main': {'temp': 283.83, 'feels_like': 282.99, 'temp_min': 283.83, 'temp_max': 283.83, 'pressure': 1007, 'sea_level': 1007, 'grnd_level': 950, 'humidity': 78, 'temp_kf': 0}, 'weather': [{'id': 803, 'main': 'Clouds', 'description': 'broken clouds', 'icon': '04n'}], 'clouds': {'all': 75}, 'wind': {'speed': 2.45, 'deg': 287, 'gust': 4.54}, 'visibility': 10000, 'pop': 0, 'sys': {'pod': 'n'}, 'dt_txt': '2024-08-11 03:00:00'}, {'dt': 1723356000, 'main': {'temp': 287.27, 'feels_like': 286.36, 'temp_min': 287.27, 'temp_max': 287.27, 'pressure': 1009, 'sea_level': 1009, 'grnd_level': 953, 'humidity': 62, 'temp_kf': 0}, 'weather': [{'id': 802, 'main': 'Clouds', 'description': 'scattered clouds', 'icon': '03d'}], 'clouds': {'all': 37}, 'wind': {'speed': 2.06, 'deg': 283, 'gust': 6.01}, 'visibility': 10000, 'pop': 0, 'sys': {'pod': 'd'}, 'dt_txt': '2024-08-11 06:00:00'}, {'dt': 1723366800, 'main': {'temp': 291.22, 'feels_like': 290.15, 'temp_min': 291.22, 'temp_max': 291.22, 'pressure': 1010, 'sea_level': 1010, 'grnd_level': 954, 'humidity': 41, 'temp_kf': 0}, 'weather': [{'id': 800, 'main': 'Clear', 'description': 'clear sky', 'icon': '01d'}], 'clouds': {'all': 1}, 'wind': {'speed': 3.23, 'deg': 298, 'gust': 5.54}, 'visibility': 10000, 'pop': 0, 'sys': {'pod': 'd'}, 'dt_txt': '2024-08-11 09:00:00'}, {'dt': 1723377600, 'main': {'temp': 293.75, 'feels_like': 292.75, 'temp_min': 293.75, 'temp_max': 293.75, 'pressure': 1010, 'sea_level': 1010, 'grnd_level': 954, 'humidity': 34, 'temp_kf': 0}, 'weather': [{'id': 800, 'main': 'Clear', 'description': 'clear sky', 'icon': '01d'}], 'clouds': {'all': 3}, 'wind': {'speed': 3.26, 'deg': 305, 'gust': 4.84}, 'visibility': 10000, 'pop': 0, 'sys': {'pod': 'd'}, 'dt_txt': '2024-08-11 12:00:00'}, {'dt': 1723388400, 'main': {'temp': 293.9, 'feels_like': 292.94, 'temp_min': 293.9, 'temp_max': 293.9, 'pressure': 1010, 'sea_level': 1010, 'grnd_level': 955, 'humidity': 35, 'temp_kf': 0}, 'weather': [{'id': 800, 'main': 'Clear', 'description': 'clear sky', 'icon': '01d'}], 'clouds': {'all': 6}, 'wind': {'speed': 3.69, 'deg': 297, 'gust': 4.8}, 'visibility': 10000, 'pop': 0, 'sys': {'pod': 'd'}, 'dt_txt': '2024-08-11 15:00:00'}, {'dt': 1723399200, 'main': {'temp': 290.47, 'feels_like': 289.56, 'temp_min': 290.47, 'temp_max': 290.47, 'pressure': 1012, 'sea_level': 1012, 'grnd_level': 956, 'humidity': 50, 'temp_kf': 0}, 'weather': [{'id': 800, 'main': 'Clear', 'description': 'clear sky', 'icon': '01d'}], 'clouds': {'all': 5}, 'wind': {'speed': 3.32, 'deg': 295, 'gust': 7.62}, 'visibility': 10000, 'pop': 0, 'sys': {'pod': 'd'}, 'dt_txt': '2024-08-11 18:00:00'}, {'dt': 1723410000, 'main': {'temp': 284.69, 'feels_like': 283.7, 'temp_min': 284.69, 'temp_max': 284.69, 'pressure': 1014, 'sea_level': 1014, 'grnd_level': 958, 'humidity': 69, 'temp_kf': 0}, 'weather': [{'id': 801, 'main': 'Clouds', 'description': 'few clouds', 'icon': '02n'}], 'clouds': {'all': 17}, 'wind': {'speed': 2.44, 'deg': 302, 'gust': 2.42}, 'visibility': 10000, 'pop': 0, 'sys': {'pod': 'n'}, 'dt_txt': '2024-08-11 21:00:00'}, {'dt': 1723420800, 'main': {'temp': 283.23, 'feels_like': 282.17, 'temp_min': 283.23, 'temp_max': 283.23, 'pressure': 1016, 'sea_level': 1016, 'grnd_level': 959, 'humidity': 72, 'temp_kf': 0}, 'weather': [{'id': 801, 'main': 'Clouds', 'description': 'few clouds', 'icon': '02n'}], 'clouds': {'all': 11}, 'wind': {'speed': 1.99, 'deg': 300, 'gust': 1.68}, 'visibility': 10000, 'pop': 0, 'sys': {'pod': 'n'}, 'dt_txt': '2024-08-12 00:00:00'}, {'dt': 1723431600, 'main': {'temp': 282.26, 'feels_like': 281.43, 'temp_min': 282.26, 'temp_max': 282.26, 'pressure': 1016, 'sea_level': 1016, 'grnd_level': 959, 'humidity': 76, 'temp_kf': 0}, 'weather': [{'id': 800, 'main': 'Clear', 'description': 'clear sky', 'icon': '01n'}], 'clouds': {'all': 5}, 'wind': {'speed': 1.86, 'deg': 310, 'gust': 1.6}, 'visibility': 10000, 'pop': 0, 'sys': {'pod': 'n'}, 'dt_txt': '2024-08-12 03:00:00'}, {'dt': 1723442400, 'main': {'temp': 286.27, 'feels_like': 285.26, 'temp_min': 286.27, 'temp_max': 286.27, 'pressure': 1017, 'sea_level': 1017, 'grnd_level': 960, 'humidity': 62, 'temp_kf': 0}, 'weather': [{'id': 800, 'main': 'Clear', 'description': 'clear sky', 'icon': '01d'}], 'clouds': {'all': 9}, 'wind': {'speed': 0.74, 'deg': 40, 'gust': 0.88}, 'visibility': 10000, 'pop': 0, 'sys': {'pod': 'd'}, 'dt_txt': '2024-08-12 06:00:00'}, {'dt': 1723453200, 'main': {'temp': 290.51, 'feels_like': 289.58, 'temp_min': 290.51, 'temp_max': 290.51, 'pressure': 1016, 'sea_level': 1016, 'grnd_level': 960, 'humidity': 49, 'temp_kf': 0}, 'weather': [{'id': 802, 'main': 'Clouds', 'description': 'scattered clouds', 'icon': '03d'}], 'clouds': {'all': 38}, 'wind': {'speed': 2.02, 'deg': 154, 'gust': 2.59}, 'visibility': 10000, 'pop': 0, 'sys': {'pod': 'd'}, 'dt_txt': '2024-08-12 09:00:00'}, {'dt': 1723464000, 'main': {'temp': 293.98, 'feels_like': 293.14, 'temp_min': 293.98, 'temp_max': 293.98, 'pressure': 1014, 'sea_level': 1014, 'grnd_level': 959, 'humidity': 39, 'temp_kf': 0}, 'weather': [{'id': 802, 'main': 'Clouds', 'description': 'scattered clouds', 'icon': '03d'}], 'clouds': {'all': 47}, 'wind': {'speed': 2.18, 'deg': 186, 'gust': 3.01}, 'visibility': 10000, 'pop': 0, 'sys': {'pod': 'd'}, 'dt_txt': '2024-08-12 12:00:00'}, {'dt': 1723474800, 'main': {'temp': 294.1, 'feels_like': 293.3, 'temp_min': 294.1, 'temp_max': 294.1, 'pressure': 1013, 'sea_level': 1013, 'grnd_level': 958, 'humidity': 40, 'temp_kf': 0}, 'weather': [{'id': 804, 'main': 'Clouds', 'description': 'overcast clouds', 'icon': '04d'}], 'clouds': {'all': 88}, 'wind': {'speed': 2.8, 'deg': 188, 'gust': 3.1}, 'visibility': 10000, 'pop': 0, 'sys': {'pod': 'd'}, 'dt_txt': '2024-08-12 15:00:00'}, {'dt': 1723485600, 'main': {'temp': 290.57, 'feels_like': 290.06, 'temp_min': 290.57, 'temp_max': 290.57, 'pressure': 1014, 'sea_level': 1014, 'grnd_level': 958, 'humidity': 65, 'temp_kf': 0}, 'weather': [{'id': 804, 'main': 'Clouds', 'description': 'overcast clouds', 'icon': '04d'}], 'clouds': {'all': 94}, 'wind': {'speed': 1.37, 'deg': 187, 'gust': 2.17}, 'visibility': 10000, 'pop': 0, 'sys': {'pod': 'd'}, 'dt_txt': '2024-08-12 18:00:00'}, {'dt': 1723496400, 'main': {'temp': 288.21, 'feels_like': 287.68, 'temp_min': 288.21, 'temp_max': 288.21, 'pressure': 1014, 'sea_level': 1014, 'grnd_level': 958, 'humidity': 73, 'temp_kf': 0}, 'weather': [{'id': 804, 'main': 'Clouds', 'description': 'overcast clouds', 'icon': '04n'}], 'clouds': {'all': 100}, 'wind': {'speed': 0.8, 'deg': 222, 'gust': 0.76}, 'visibility': 10000, 'pop': 0, 'sys': {'pod': 'n'}, 'dt_txt': '2024-08-12 21:00:00'}, {'dt': 1723507200, 'main': {'temp': 286.13, 'feels_like': 285.65, 'temp_min': 286.13, 'temp_max': 286.13, 'pressure': 1015, 'sea_level': 1015, 'grnd_level': 958, 'humidity': 83, 'temp_kf': 0}, 'weather': [{'id': 804, 'main': 'Clouds', 'description': 'overcast clouds', 'icon': '04n'}], 'clouds': {'all': 100}, 'wind': {'speed': 0.41, 'deg': 229, 'gust': 0.53}, 'visibility': 10000, 'pop': 0, 'sys': {'pod': 'n'}, 'dt_txt': '2024-08-13 00:00:00'}, {'dt': 1723518000, 'main': {'temp': 285.86, 'feels_like': 285.54, 'temp_min': 285.86, 'temp_max': 285.86, 'pressure': 1015, 'sea_level': 1015, 'grnd_level': 958, 'humidity': 90, 'temp_kf': 0}, 'weather': [{'id': 500, 'main': 'Rain', 'description': 'light rain', 'icon': '10n'}], 'clouds': {'all': 100}, 'wind': {'speed': 1.14, 'deg': 175, 'gust': 1.03}, 'visibility': 10000, 'pop': 0.31, 'rain': {'3h': 0.2}, 'sys': {'pod': 'n'}, 'dt_txt': '2024-08-13 03:00:00'}, {'dt': 1723528800, 'main': {'temp': 286.67, 'feels_like': 286.4, 'temp_min': 286.67, 'temp_max': 286.67, 'pressure': 1015, 'sea_level': 1015, 'grnd_level': 958, 'humidity': 89, 'temp_kf': 0}, 'weather': [{'id': 804, 'main': 'Clouds', 'description': 'overcast clouds', 'icon': '04d'}], 'clouds': {'all': 100}, 'wind': {'speed': 0.94, 'deg': 171, 'gust': 1.85}, 'visibility': 10000, 'pop': 0, 'sys': {'pod': 'd'}, 'dt_txt': '2024-08-13 06:00:00'}, {'dt': 1723539600, 'main': {'temp': 291.94, 'feels_like': 291.49, 'temp_min': 291.94, 'temp_max': 291.94, 'pressure': 1014, 'sea_level': 1014, 'grnd_level': 958, 'humidity': 62, 'temp_kf': 0}, 'weather': [{'id': 804, 'main': 'Clouds', 'description': 'overcast clouds', 'icon': '04d'}], 'clouds': {'all': 90}, 'wind': {'speed': 2.49, 'deg': 152, 'gust': 4.39}, 'visibility': 10000, 'pop': 0, 'sys': {'pod': 'd'}, 'dt_txt': '2024-08-13 09:00:00'}, {'dt': 1723550400, 'main': {'temp': 295.26, 'feels_like': 294.91, 'temp_min': 295.26, 'temp_max': 295.26, 'pressure': 1013, 'sea_level': 1013, 'grnd_level': 957, 'humidity': 53, 'temp_kf': 0}, 'weather': [{'id': 804, 'main': 'Clouds', 'description': 'overcast clouds', 'icon': '04d'}], 'clouds': {'all': 94}, 'wind': {'speed': 3.59, 'deg': 160, 'gust': 6.55}, 'visibility': 10000, 'pop': 0, 'sys': {'pod': 'd'}, 'dt_txt': '2024-08-13 12:00:00'}, {'dt': 1723561200, 'main': {'temp': 295.47, 'feels_like': 295.01, 'temp_min': 295.47, 'temp_max': 295.47, 'pressure': 1011, 'sea_level': 1011, 'grnd_level': 956, 'humidity': 48, 'temp_kf': 0}, 'weather': [{'id': 804, 'main': 'Clouds', 'description': 'overcast clouds', 'icon': '04d'}], 'clouds': {'all': 93}, 'wind': {'speed': 4.16, 'deg': 161, 'gust': 7.12}, 'visibility': 10000, 'pop': 0, 'sys': {'pod': 'd'}, 'dt_txt': '2024-08-13 15:00:00'}, {'dt': 1723572000, 'main': {'temp': 289.85, 'feels_like': 289.66, 'temp_min': 289.85, 'temp_max': 289.85, 'pressure': 1012, 'sea_level': 1012, 'grnd_level': 956, 'humidity': 80, 'temp_kf': 0}, 'weather': [{'id': 500, 'main': 'Rain', 'description': 'light rain', 'icon': '10d'}], 'clouds': {'all': 97}, 'wind': {'speed': 1.98, 'deg': 131, 'gust': 4.05}, 'visibility': 10000, 'pop': 0.2, 'rain': {'3h': 0.15}, 'sys': {'pod': 'd'}, 'dt_txt': '2024-08-13 18:00:00'}, {'dt': 1723582800, 'main': {'temp': 288.49, 'feels_like': 288.56, 'temp_min': 288.49, 'temp_max': 288.49, 'pressure': 1012, 'sea_level': 1012, 'grnd_level': 956, 'humidity': 95, 'temp_kf': 0}, 'weather': [{'id': 500, 'main': 'Rain', 'description': 'light rain', 'icon': '10n'}], 'clouds': {'all': 100}, 'wind': {'speed': 0.64, 'deg': 136, 'gust': 0.93}, 'visibility': 10000, 'pop': 0.27, 'rain': {'3h': 0.17}, 'sys': {'pod': 'n'}, 'dt_txt': '2024-08-13 21:00:00'}, {'dt': 1723593600, 'main': {'temp': 288.46, 'feels_like': 288.63, 'temp_min': 288.46, 'temp_max': 288.46, 'pressure': 1011, 'sea_level': 1011, 'grnd_level': 955, 'humidity': 99, 'temp_kf': 0}, 'weather': [{'id': 500, 'main': 'Rain', 'description': 'light rain', 'icon': '10n'}], 'clouds': {'all': 100}, 'wind': {'speed': 0.28, 'deg': 35, 'gust': 0.28}, 'visibility': 2304, 'pop': 0.9, 'rain': {'3h': 0.5}, 'sys': {'pod': 'n'}, 'dt_txt': '2024-08-14 00:00:00'}, {'dt': 1723604400, 'main': {'temp': 288.65, 'feels_like': 288.84, 'temp_min': 288.65, 'temp_max': 288.65, 'pressure': 1010, 'sea_level': 1010, 'grnd_level': 954, 'humidity': 99, 'temp_kf': 0}, 'weather': [{'id': 804, 'main': 'Clouds', 'description': 'overcast clouds', 'icon': '04n'}], 'clouds': {'all': 100}, 'wind': {'speed': 0.41, 'deg': 77, 'gust': 1.18}, 'visibility': 370, 'pop': 0.04, 'sys': {'pod': 'n'}, 'dt_txt': '2024-08-14 03:00:00'}, {'dt': 1723615200, 'main': {'temp': 289.03, 'feels_like': 289.26, 'temp_min': 289.03, 'temp_max': 289.03, 'pressure': 1009, 'sea_level': 1009, 'grnd_level': 954, 'humidity': 99, 'temp_kf': 0}, 'weather': [{'id': 500, 'main': 'Rain', 'description': 'light rain', 'icon': '10d'}], 'clouds': {'all': 100}, 'wind': {'speed': 0.38, 'deg': 81, 'gust': 0.9}, 'visibility': 26, 'pop': 0.99, 'rain': {'3h': 1.62}, 'sys': {'pod': 'd'}, 'dt_txt': '2024-08-14 06:00:00'}, {'dt': 1723626000, 'main': {'temp': 289.59, 'feels_like': 289.9, 'temp_min': 289.59, 'temp_max': 289.59, 'pressure': 1009, 'sea_level': 1009, 'grnd_level': 953, 'humidity': 100, 'temp_kf': 0}, 'weather': [{'id': 501, 'main': 'Rain', 'description': 'moderate rain', 'icon': '10d'}], 'clouds': {'all': 100}, 'wind': {'speed': 1.32, 'deg': 132, 'gust': 1.85}, 'pop': 1, 'rain': {'3h': 3.96}, 'sys': {'pod': 'd'}, 'dt_txt': '2024-08-14 09:00:00'}], 'city': {'id': 3144113, 'name': 'Noresund', 'coord': {'lat': 60.1803, 'lon': 9.6231}, 'country': 'NO', 'population': 1000, 'timezone': 7200, 'sunrise': 1723173672, 'sunset': 1723231971}}\""
      ]
     },
     "execution_count": 15,
     "metadata": {},
     "output_type": "execute_result"
    }
   ],
   "source": [
    "# Inspect JSON file\n",
    "forecast.__str__()"
   ]
  },
  {
   "cell_type": "markdown",
   "metadata": {
    "slideshow": {
     "slide_type": "slide"
    }
   },
   "source": [
    "## Raw JSON\n",
    "- A simple, but not very efficient way of storing JSON data is to treat it as a text and save it directly to the database.  \n",
    "- More efficient, with regard to transfer, is to compress the JSON data to a blob first.\n",
    "    - Compression is automatic."
   ]
  },
  {
   "cell_type": "code",
   "execution_count": 16,
   "metadata": {
    "slideshow": {
     "slide_type": "-"
    }
   },
   "outputs": [
    {
     "data": {
      "text/plain": [
       "<cassandra.cluster.ResultSet at 0x1064e6990>"
      ]
     },
     "execution_count": 16,
     "metadata": {},
     "output_type": "execute_result"
    }
   ],
   "source": [
    "# Create a new table which treats the whole JSON as a blob, using the city id and the first dt as keys\n",
    "session.set_keyspace('my_first_keyspace')\n",
    "session.execute(\"DROP TABLE IF EXISTS my_first_keyspace.forecast_table;\")\n",
    "session.execute(\"CREATE TABLE IF NOT EXISTS forecast_table (city_id int, dt int, forecast blob, PRIMARY KEY(city_id, dt));\")"
   ]
  },
  {
   "cell_type": "markdown",
   "metadata": {
    "slideshow": {
     "slide_type": "slide"
    }
   },
   "source": [
    "### Insert the forecast data into the table as text blob"
   ]
  },
  {
   "cell_type": "code",
   "execution_count": 17,
   "metadata": {
    "slideshow": {
     "slide_type": "-"
    }
   },
   "outputs": [
    {
     "data": {
      "text/plain": [
       "<cassandra.cluster.ResultSet at 0x10ec40590>"
      ]
     },
     "execution_count": 17,
     "metadata": {},
     "output_type": "execute_result"
    }
   ],
   "source": [
    "session.execute(\"INSERT INTO forecast_table (city_id, dt, forecast) VALUES (%s, %s, textAsBlob(%s));\", (forecast['city']['id'], forecast['list'][0]['dt'], forecast.__str__()))"
   ]
  },
  {
   "cell_type": "code",
   "execution_count": 18,
   "metadata": {
    "slideshow": {
     "slide_type": "slide"
    }
   },
   "outputs": [
    {
     "name": "stdout",
     "output_type": "stream",
     "text": [
      "Row(city_id=3144113, dt=1723204800, forecast=b\"{'cod': '200', 'message': 0, 'cnt': 40, 'list': [{'dt': 1723204800, 'main': {'temp': 288.21, 'feels_like': 288.25, 'temp_min': 286.72, 'temp_max': 288.21, 'pressure': 997, 'sea_level': 997, 'grnd_level': 942, 'humidity': 95, 'temp_kf': 1.49}, 'weather': [{'id': 501, 'main': 'Rain', 'description': 'moderate rain', 'icon': '10d'}], 'clouds': {'all': 100}, 'wind': {'speed': 1.06, 'deg': 33, 'gust': 1.75}, 'pop': 1, 'rain': {'3h': 3.89}, 'sys': {'pod': 'd'}, 'dt_txt': '2024-08-09 12:00:00'}, {'dt': 1723215600, 'main': {'temp': 287.92, 'feels_like': 287.99, 'temp_min': 287.33, 'temp_max': 287.92, 'pressure': 996, 'sea_level': 996, 'grnd_level': 940, 'humidity': 97, 'temp_kf': 0.59}, 'weather': [{'id': 500, 'main': 'Rain', 'description': 'light rain', 'icon': '10d'}], 'clouds': {'all': 100}, 'wind': {'speed': 1.12, 'deg': 223, 'gust': 1.34}, 'visibility': 6988, 'pop': 1, 'rain': {'3h': 2.61}, 'sys': {'pod': 'd'}, 'dt_txt': '2024-08-09 15:00:00'}, {'dt': 1723226400, 'main': {'temp': 288.48, 'feels_like': 288.5, 'temp_min': 288.48, 'temp_max': 288.61, 'pressure': 996, 'sea_level': 996, 'grnd_level': 940, 'humidity': 93, 'temp_kf': -0.13}, 'weather': [{'id': 500, 'main': 'Rain', 'description': 'light rain', 'icon': '10d'}], 'clouds': {'all': 99}, 'wind': {'speed': 1, 'deg': 196, 'gust': 1.38}, 'visibility': 10000, 'pop': 1, 'rain': {'3h': 0.19}, 'sys': {'pod': 'd'}, 'dt_txt': '2024-08-09 18:00:00'}, {'dt': 1723237200, 'main': {'temp': 285.94, 'feels_like': 285.7, 'temp_min': 285.94, 'temp_max': 285.94, 'pressure': 998, 'sea_level': 998, 'grnd_level': 942, 'humidity': 93, 'temp_kf': 0}, 'weather': [{'id': 500, 'main': 'Rain', 'description': 'light rain', 'icon': '10n'}], 'clouds': {'all': 75}, 'wind': {'speed': 2.05, 'deg': 286, 'gust': 1.66}, 'visibility': 10000, 'pop': 0.2, 'rain': {'3h': 0.24}, 'sys': {'pod': 'n'}, 'dt_txt': '2024-08-09 21:00:00'}, {'dt': 1723248000, 'main': {'temp': 282.55, 'feels_like': 281.5, 'temp_min': 282.55, 'temp_max': 282.55, 'pressure': 999, 'sea_level': 999, 'grnd_level': 943, 'humidity': 93, 'temp_kf': 0}, 'weather': [{'id': 802, 'main': 'Clouds', 'description': 'scattered clouds', 'icon': '03n'}], 'clouds': {'all': 45}, 'wind': {'speed': 2.18, 'deg': 274, 'gust': 1.62}, 'visibility': 10000, 'pop': 0, 'sys': {'pod': 'n'}, 'dt_txt': '2024-08-10 00:00:00'}, {'dt': 1723258800, 'main': {'temp': 282.03, 'feels_like': 280.98, 'temp_min': 282.03, 'temp_max': 282.03, 'pressure': 1000, 'sea_level': 1000, 'grnd_level': 944, 'humidity': 92, 'temp_kf': 0}, 'weather': [{'id': 802, 'main': 'Clouds', 'description': 'scattered clouds', 'icon': '03n'}], 'clouds': {'all': 38}, 'wind': {'speed': 2.07, 'deg': 268, 'gust': 1.81}, 'visibility': 10000, 'pop': 0, 'sys': {'pod': 'n'}, 'dt_txt': '2024-08-10 03:00:00'}, {'dt': 1723269600, 'main': {'temp': 285.53, 'feels_like': 285.02, 'temp_min': 285.53, 'temp_max': 285.53, 'pressure': 1001, 'sea_level': 1001, 'grnd_level': 945, 'humidity': 84, 'temp_kf': 0}, 'weather': [{'id': 803, 'main': 'Clouds', 'description': 'broken clouds', 'icon': '04d'}], 'clouds': {'all': 68}, 'wind': {'speed': 1.13, 'deg': 251, 'gust': 2.87}, 'visibility': 10000, 'pop': 0, 'sys': {'pod': 'd'}, 'dt_txt': '2024-08-10 06:00:00'}, {'dt': 1723280400, 'main': {'temp': 289.83, 'feels_like': 288.99, 'temp_min': 289.83, 'temp_max': 289.83, 'pressure': 1001, 'sea_level': 1001, 'grnd_level': 946, 'humidity': 55, 'temp_kf': 0}, 'weather': [{'id': 804, 'main': 'Clouds', 'description': 'overcast clouds', 'icon': '04d'}], 'clouds': {'all': 98}, 'wind': {'speed': 3.08, 'deg': 250, 'gust': 8.18}, 'visibility': 10000, 'pop': 0, 'sys': {'pod': 'd'}, 'dt_txt': '2024-08-10 09:00:00'}, {'dt': 1723291200, 'main': {'temp': 290.94, 'feels_like': 290.13, 'temp_min': 290.94, 'temp_max': 290.94, 'pressure': 1002, 'sea_level': 1002, 'grnd_level': 947, 'humidity': 52, 'temp_kf': 0}, 'weather': [{'id': 804, 'main': 'Clouds', 'description': 'overcast clouds', 'icon': '04d'}], 'clouds': {'all': 97}, 'wind': {'speed': 5.11, 'deg': 244, 'gust': 10.85}, 'visibility': 10000, 'pop': 0, 'sys': {'pod': 'd'}, 'dt_txt': '2024-08-10 12:00:00'}, {'dt': 1723302000, 'main': {'temp': 290.6, 'feels_like': 289.81, 'temp_min': 290.6, 'temp_max': 290.6, 'pressure': 1003, 'sea_level': 1003, 'grnd_level': 947, 'humidity': 54, 'temp_kf': 0}, 'weather': [{'id': 804, 'main': 'Clouds', 'description': 'overcast clouds', 'icon': '04d'}], 'clouds': {'all': 98}, 'wind': {'speed': 4.93, 'deg': 250, 'gust': 10.85}, 'visibility': 10000, 'pop': 0, 'sys': {'pod': 'd'}, 'dt_txt': '2024-08-10 15:00:00'}, {'dt': 1723312800, 'main': {'temp': 288.52, 'feels_like': 287.63, 'temp_min': 288.52, 'temp_max': 288.52, 'pressure': 1004, 'sea_level': 1004, 'grnd_level': 948, 'humidity': 58, 'temp_kf': 0}, 'weather': [{'id': 804, 'main': 'Clouds', 'description': 'overcast clouds', 'icon': '04d'}], 'clouds': {'all': 85}, 'wind': {'speed': 4.89, 'deg': 268, 'gust': 12.84}, 'visibility': 10000, 'pop': 0, 'sys': {'pod': 'd'}, 'dt_txt': '2024-08-10 18:00:00'}, {'dt': 1723323600, 'main': {'temp': 284.16, 'feels_like': 283.3, 'temp_min': 284.16, 'temp_max': 284.16, 'pressure': 1005, 'sea_level': 1005, 'grnd_level': 949, 'humidity': 76, 'temp_kf': 0}, 'weather': [{'id': 803, 'main': 'Clouds', 'description': 'broken clouds', 'icon': '04n'}], 'clouds': {'all': 69}, 'wind': {'speed': 2.06, 'deg': 271, 'gust': 2.64}, 'visibility': 10000, 'pop': 0, 'sys': {'pod': 'n'}, 'dt_txt': '2024-08-10 21:00:00'}, {'dt': 1723334400, 'main': {'temp': 284.83, 'feels_like': 284.01, 'temp_min': 284.83, 'temp_max': 284.83, 'pressure': 1006, 'sea_level': 1006, 'grnd_level': 949, 'humidity': 75, 'temp_kf': 0}, 'weather': [{'id': 803, 'main': 'Clouds', 'description': 'broken clouds', 'icon': '04n'}], 'clouds': {'all': 59}, 'wind': {'speed': 3.13, 'deg': 286, 'gust': 6.38}, 'visibility': 10000, 'pop': 0, 'sys': {'pod': 'n'}, 'dt_txt': '2024-08-11 00:00:00'}, {'dt': 1723345200, 'main': {'temp': 283.83, 'feels_like': 282.99, 'temp_min': 283.83, 'temp_max': 283.83, 'pressure': 1007, 'sea_level': 1007, 'grnd_level': 950, 'humidity': 78, 'temp_kf': 0}, 'weather': [{'id': 803, 'main': 'Clouds', 'description': 'broken clouds', 'icon': '04n'}], 'clouds': {'all': 75}, 'wind': {'speed': 2.45, 'deg': 287, 'gust': 4.54}, 'visibility': 10000, 'pop': 0, 'sys': {'pod': 'n'}, 'dt_txt': '2024-08-11 03:00:00'}, {'dt': 1723356000, 'main': {'temp': 287.27, 'feels_like': 286.36, 'temp_min': 287.27, 'temp_max': 287.27, 'pressure': 1009, 'sea_level': 1009, 'grnd_level': 953, 'humidity': 62, 'temp_kf': 0}, 'weather': [{'id': 802, 'main': 'Clouds', 'description': 'scattered clouds', 'icon': '03d'}], 'clouds': {'all': 37}, 'wind': {'speed': 2.06, 'deg': 283, 'gust': 6.01}, 'visibility': 10000, 'pop': 0, 'sys': {'pod': 'd'}, 'dt_txt': '2024-08-11 06:00:00'}, {'dt': 1723366800, 'main': {'temp': 291.22, 'feels_like': 290.15, 'temp_min': 291.22, 'temp_max': 291.22, 'pressure': 1010, 'sea_level': 1010, 'grnd_level': 954, 'humidity': 41, 'temp_kf': 0}, 'weather': [{'id': 800, 'main': 'Clear', 'description': 'clear sky', 'icon': '01d'}], 'clouds': {'all': 1}, 'wind': {'speed': 3.23, 'deg': 298, 'gust': 5.54}, 'visibility': 10000, 'pop': 0, 'sys': {'pod': 'd'}, 'dt_txt': '2024-08-11 09:00:00'}, {'dt': 1723377600, 'main': {'temp': 293.75, 'feels_like': 292.75, 'temp_min': 293.75, 'temp_max': 293.75, 'pressure': 1010, 'sea_level': 1010, 'grnd_level': 954, 'humidity': 34, 'temp_kf': 0}, 'weather': [{'id': 800, 'main': 'Clear', 'description': 'clear sky', 'icon': '01d'}], 'clouds': {'all': 3}, 'wind': {'speed': 3.26, 'deg': 305, 'gust': 4.84}, 'visibility': 10000, 'pop': 0, 'sys': {'pod': 'd'}, 'dt_txt': '2024-08-11 12:00:00'}, {'dt': 1723388400, 'main': {'temp': 293.9, 'feels_like': 292.94, 'temp_min': 293.9, 'temp_max': 293.9, 'pressure': 1010, 'sea_level': 1010, 'grnd_level': 955, 'humidity': 35, 'temp_kf': 0}, 'weather': [{'id': 800, 'main': 'Clear', 'description': 'clear sky', 'icon': '01d'}], 'clouds': {'all': 6}, 'wind': {'speed': 3.69, 'deg': 297, 'gust': 4.8}, 'visibility': 10000, 'pop': 0, 'sys': {'pod': 'd'}, 'dt_txt': '2024-08-11 15:00:00'}, {'dt': 1723399200, 'main': {'temp': 290.47, 'feels_like': 289.56, 'temp_min': 290.47, 'temp_max': 290.47, 'pressure': 1012, 'sea_level': 1012, 'grnd_level': 956, 'humidity': 50, 'temp_kf': 0}, 'weather': [{'id': 800, 'main': 'Clear', 'description': 'clear sky', 'icon': '01d'}], 'clouds': {'all': 5}, 'wind': {'speed': 3.32, 'deg': 295, 'gust': 7.62}, 'visibility': 10000, 'pop': 0, 'sys': {'pod': 'd'}, 'dt_txt': '2024-08-11 18:00:00'}, {'dt': 1723410000, 'main': {'temp': 284.69, 'feels_like': 283.7, 'temp_min': 284.69, 'temp_max': 284.69, 'pressure': 1014, 'sea_level': 1014, 'grnd_level': 958, 'humidity': 69, 'temp_kf': 0}, 'weather': [{'id': 801, 'main': 'Clouds', 'description': 'few clouds', 'icon': '02n'}], 'clouds': {'all': 17}, 'wind': {'speed': 2.44, 'deg': 302, 'gust': 2.42}, 'visibility': 10000, 'pop': 0, 'sys': {'pod': 'n'}, 'dt_txt': '2024-08-11 21:00:00'}, {'dt': 1723420800, 'main': {'temp': 283.23, 'feels_like': 282.17, 'temp_min': 283.23, 'temp_max': 283.23, 'pressure': 1016, 'sea_level': 1016, 'grnd_level': 959, 'humidity': 72, 'temp_kf': 0}, 'weather': [{'id': 801, 'main': 'Clouds', 'description': 'few clouds', 'icon': '02n'}], 'clouds': {'all': 11}, 'wind': {'speed': 1.99, 'deg': 300, 'gust': 1.68}, 'visibility': 10000, 'pop': 0, 'sys': {'pod': 'n'}, 'dt_txt': '2024-08-12 00:00:00'}, {'dt': 1723431600, 'main': {'temp': 282.26, 'feels_like': 281.43, 'temp_min': 282.26, 'temp_max': 282.26, 'pressure': 1016, 'sea_level': 1016, 'grnd_level': 959, 'humidity': 76, 'temp_kf': 0}, 'weather': [{'id': 800, 'main': 'Clear', 'description': 'clear sky', 'icon': '01n'}], 'clouds': {'all': 5}, 'wind': {'speed': 1.86, 'deg': 310, 'gust': 1.6}, 'visibility': 10000, 'pop': 0, 'sys': {'pod': 'n'}, 'dt_txt': '2024-08-12 03:00:00'}, {'dt': 1723442400, 'main': {'temp': 286.27, 'feels_like': 285.26, 'temp_min': 286.27, 'temp_max': 286.27, 'pressure': 1017, 'sea_level': 1017, 'grnd_level': 960, 'humidity': 62, 'temp_kf': 0}, 'weather': [{'id': 800, 'main': 'Clear', 'description': 'clear sky', 'icon': '01d'}], 'clouds': {'all': 9}, 'wind': {'speed': 0.74, 'deg': 40, 'gust': 0.88}, 'visibility': 10000, 'pop': 0, 'sys': {'pod': 'd'}, 'dt_txt': '2024-08-12 06:00:00'}, {'dt': 1723453200, 'main': {'temp': 290.51, 'feels_like': 289.58, 'temp_min': 290.51, 'temp_max': 290.51, 'pressure': 1016, 'sea_level': 1016, 'grnd_level': 960, 'humidity': 49, 'temp_kf': 0}, 'weather': [{'id': 802, 'main': 'Clouds', 'description': 'scattered clouds', 'icon': '03d'}], 'clouds': {'all': 38}, 'wind': {'speed': 2.02, 'deg': 154, 'gust': 2.59}, 'visibility': 10000, 'pop': 0, 'sys': {'pod': 'd'}, 'dt_txt': '2024-08-12 09:00:00'}, {'dt': 1723464000, 'main': {'temp': 293.98, 'feels_like': 293.14, 'temp_min': 293.98, 'temp_max': 293.98, 'pressure': 1014, 'sea_level': 1014, 'grnd_level': 959, 'humidity': 39, 'temp_kf': 0}, 'weather': [{'id': 802, 'main': 'Clouds', 'description': 'scattered clouds', 'icon': '03d'}], 'clouds': {'all': 47}, 'wind': {'speed': 2.18, 'deg': 186, 'gust': 3.01}, 'visibility': 10000, 'pop': 0, 'sys': {'pod': 'd'}, 'dt_txt': '2024-08-12 12:00:00'}, {'dt': 1723474800, 'main': {'temp': 294.1, 'feels_like': 293.3, 'temp_min': 294.1, 'temp_max': 294.1, 'pressure': 1013, 'sea_level': 1013, 'grnd_level': 958, 'humidity': 40, 'temp_kf': 0}, 'weather': [{'id': 804, 'main': 'Clouds', 'description': 'overcast clouds', 'icon': '04d'}], 'clouds': {'all': 88}, 'wind': {'speed': 2.8, 'deg': 188, 'gust': 3.1}, 'visibility': 10000, 'pop': 0, 'sys': {'pod': 'd'}, 'dt_txt': '2024-08-12 15:00:00'}, {'dt': 1723485600, 'main': {'temp': 290.57, 'feels_like': 290.06, 'temp_min': 290.57, 'temp_max': 290.57, 'pressure': 1014, 'sea_level': 1014, 'grnd_level': 958, 'humidity': 65, 'temp_kf': 0}, 'weather': [{'id': 804, 'main': 'Clouds', 'description': 'overcast clouds', 'icon': '04d'}], 'clouds': {'all': 94}, 'wind': {'speed': 1.37, 'deg': 187, 'gust': 2.17}, 'visibility': 10000, 'pop': 0, 'sys': {'pod': 'd'}, 'dt_txt': '2024-08-12 18:00:00'}, {'dt': 1723496400, 'main': {'temp': 288.21, 'feels_like': 287.68, 'temp_min': 288.21, 'temp_max': 288.21, 'pressure': 1014, 'sea_level': 1014, 'grnd_level': 958, 'humidity': 73, 'temp_kf': 0}, 'weather': [{'id': 804, 'main': 'Clouds', 'description': 'overcast clouds', 'icon': '04n'}], 'clouds': {'all': 100}, 'wind': {'speed': 0.8, 'deg': 222, 'gust': 0.76}, 'visibility': 10000, 'pop': 0, 'sys': {'pod': 'n'}, 'dt_txt': '2024-08-12 21:00:00'}, {'dt': 1723507200, 'main': {'temp': 286.13, 'feels_like': 285.65, 'temp_min': 286.13, 'temp_max': 286.13, 'pressure': 1015, 'sea_level': 1015, 'grnd_level': 958, 'humidity': 83, 'temp_kf': 0}, 'weather': [{'id': 804, 'main': 'Clouds', 'description': 'overcast clouds', 'icon': '04n'}], 'clouds': {'all': 100}, 'wind': {'speed': 0.41, 'deg': 229, 'gust': 0.53}, 'visibility': 10000, 'pop': 0, 'sys': {'pod': 'n'}, 'dt_txt': '2024-08-13 00:00:00'}, {'dt': 1723518000, 'main': {'temp': 285.86, 'feels_like': 285.54, 'temp_min': 285.86, 'temp_max': 285.86, 'pressure': 1015, 'sea_level': 1015, 'grnd_level': 958, 'humidity': 90, 'temp_kf': 0}, 'weather': [{'id': 500, 'main': 'Rain', 'description': 'light rain', 'icon': '10n'}], 'clouds': {'all': 100}, 'wind': {'speed': 1.14, 'deg': 175, 'gust': 1.03}, 'visibility': 10000, 'pop': 0.31, 'rain': {'3h': 0.2}, 'sys': {'pod': 'n'}, 'dt_txt': '2024-08-13 03:00:00'}, {'dt': 1723528800, 'main': {'temp': 286.67, 'feels_like': 286.4, 'temp_min': 286.67, 'temp_max': 286.67, 'pressure': 1015, 'sea_level': 1015, 'grnd_level': 958, 'humidity': 89, 'temp_kf': 0}, 'weather': [{'id': 804, 'main': 'Clouds', 'description': 'overcast clouds', 'icon': '04d'}], 'clouds': {'all': 100}, 'wind': {'speed': 0.94, 'deg': 171, 'gust': 1.85}, 'visibility': 10000, 'pop': 0, 'sys': {'pod': 'd'}, 'dt_txt': '2024-08-13 06:00:00'}, {'dt': 1723539600, 'main': {'temp': 291.94, 'feels_like': 291.49, 'temp_min': 291.94, 'temp_max': 291.94, 'pressure': 1014, 'sea_level': 1014, 'grnd_level': 958, 'humidity': 62, 'temp_kf': 0}, 'weather': [{'id': 804, 'main': 'Clouds', 'description': 'overcast clouds', 'icon': '04d'}], 'clouds': {'all': 90}, 'wind': {'speed': 2.49, 'deg': 152, 'gust': 4.39}, 'visibility': 10000, 'pop': 0, 'sys': {'pod': 'd'}, 'dt_txt': '2024-08-13 09:00:00'}, {'dt': 1723550400, 'main': {'temp': 295.26, 'feels_like': 294.91, 'temp_min': 295.26, 'temp_max': 295.26, 'pressure': 1013, 'sea_level': 1013, 'grnd_level': 957, 'humidity': 53, 'temp_kf': 0}, 'weather': [{'id': 804, 'main': 'Clouds', 'description': 'overcast clouds', 'icon': '04d'}], 'clouds': {'all': 94}, 'wind': {'speed': 3.59, 'deg': 160, 'gust': 6.55}, 'visibility': 10000, 'pop': 0, 'sys': {'pod': 'd'}, 'dt_txt': '2024-08-13 12:00:00'}, {'dt': 1723561200, 'main': {'temp': 295.47, 'feels_like': 295.01, 'temp_min': 295.47, 'temp_max': 295.47, 'pressure': 1011, 'sea_level': 1011, 'grnd_level': 956, 'humidity': 48, 'temp_kf': 0}, 'weather': [{'id': 804, 'main': 'Clouds', 'description': 'overcast clouds', 'icon': '04d'}], 'clouds': {'all': 93}, 'wind': {'speed': 4.16, 'deg': 161, 'gust': 7.12}, 'visibility': 10000, 'pop': 0, 'sys': {'pod': 'd'}, 'dt_txt': '2024-08-13 15:00:00'}, {'dt': 1723572000, 'main': {'temp': 289.85, 'feels_like': 289.66, 'temp_min': 289.85, 'temp_max': 289.85, 'pressure': 1012, 'sea_level': 1012, 'grnd_level': 956, 'humidity': 80, 'temp_kf': 0}, 'weather': [{'id': 500, 'main': 'Rain', 'description': 'light rain', 'icon': '10d'}], 'clouds': {'all': 97}, 'wind': {'speed': 1.98, 'deg': 131, 'gust': 4.05}, 'visibility': 10000, 'pop': 0.2, 'rain': {'3h': 0.15}, 'sys': {'pod': 'd'}, 'dt_txt': '2024-08-13 18:00:00'}, {'dt': 1723582800, 'main': {'temp': 288.49, 'feels_like': 288.56, 'temp_min': 288.49, 'temp_max': 288.49, 'pressure': 1012, 'sea_level': 1012, 'grnd_level': 956, 'humidity': 95, 'temp_kf': 0}, 'weather': [{'id': 500, 'main': 'Rain', 'description': 'light rain', 'icon': '10n'}], 'clouds': {'all': 100}, 'wind': {'speed': 0.64, 'deg': 136, 'gust': 0.93}, 'visibility': 10000, 'pop': 0.27, 'rain': {'3h': 0.17}, 'sys': {'pod': 'n'}, 'dt_txt': '2024-08-13 21:00:00'}, {'dt': 1723593600, 'main': {'temp': 288.46, 'feels_like': 288.63, 'temp_min': 288.46, 'temp_max': 288.46, 'pressure': 1011, 'sea_level': 1011, 'grnd_level': 955, 'humidity': 99, 'temp_kf': 0}, 'weather': [{'id': 500, 'main': 'Rain', 'description': 'light rain', 'icon': '10n'}], 'clouds': {'all': 100}, 'wind': {'speed': 0.28, 'deg': 35, 'gust': 0.28}, 'visibility': 2304, 'pop': 0.9, 'rain': {'3h': 0.5}, 'sys': {'pod': 'n'}, 'dt_txt': '2024-08-14 00:00:00'}, {'dt': 1723604400, 'main': {'temp': 288.65, 'feels_like': 288.84, 'temp_min': 288.65, 'temp_max': 288.65, 'pressure': 1010, 'sea_level': 1010, 'grnd_level': 954, 'humidity': 99, 'temp_kf': 0}, 'weather': [{'id': 804, 'main': 'Clouds', 'description': 'overcast clouds', 'icon': '04n'}], 'clouds': {'all': 100}, 'wind': {'speed': 0.41, 'deg': 77, 'gust': 1.18}, 'visibility': 370, 'pop': 0.04, 'sys': {'pod': 'n'}, 'dt_txt': '2024-08-14 03:00:00'}, {'dt': 1723615200, 'main': {'temp': 289.03, 'feels_like': 289.26, 'temp_min': 289.03, 'temp_max': 289.03, 'pressure': 1009, 'sea_level': 1009, 'grnd_level': 954, 'humidity': 99, 'temp_kf': 0}, 'weather': [{'id': 500, 'main': 'Rain', 'description': 'light rain', 'icon': '10d'}], 'clouds': {'all': 100}, 'wind': {'speed': 0.38, 'deg': 81, 'gust': 0.9}, 'visibility': 26, 'pop': 0.99, 'rain': {'3h': 1.62}, 'sys': {'pod': 'd'}, 'dt_txt': '2024-08-14 06:00:00'}, {'dt': 1723626000, 'main': {'temp': 289.59, 'feels_like': 289.9, 'temp_min': 289.59, 'temp_max': 289.59, 'pressure': 1009, 'sea_level': 1009, 'grnd_level': 953, 'humidity': 100, 'temp_kf': 0}, 'weather': [{'id': 501, 'main': 'Rain', 'description': 'moderate rain', 'icon': '10d'}], 'clouds': {'all': 100}, 'wind': {'speed': 1.32, 'deg': 132, 'gust': 1.85}, 'pop': 1, 'rain': {'3h': 3.96}, 'sys': {'pod': 'd'}, 'dt_txt': '2024-08-14 09:00:00'}], 'city': {'id': 3144113, 'name': 'Noresund', 'coord': {'lat': 60.1803, 'lon': 9.6231}, 'country': 'NO', 'population': 1000, 'timezone': 7200, 'sunrise': 1723173672, 'sunset': 1723231971}}\")\n"
     ]
    }
   ],
   "source": [
    "# Query the data\n",
    "forecast_rows = session.execute(\"SELECT * FROM forecast_table;\")\n",
    "print(forecast_rows.one()) # <- only one row"
   ]
  },
  {
   "cell_type": "markdown",
   "metadata": {
    "slideshow": {
     "slide_type": "slide"
    }
   },
   "source": [
    "```{seealso} Resources\n",
    ":class: tip\n",
    "- [Cassandra webpage](https://cassandra.apache.org/)\n",
    "- [Cassandra Docker file](https://hub.docker.com/_/cassandra)\n",
    "- [UUID functions](https://docs.datastax.com/en/cql-oss/3.3/cql/cql_reference/timeuuid_functions_r.html)\n",
    "- [YouTube: Cassandra in 100 seconds](https://youtu.be/ziq7FUKpCS8?si=WQUdkHFvaBmT0DBo) (2m:26s)\n",
    "- [YouTube: How to use Apache Cassandra in Python](https://youtu.be/qMauZqJH3ZM?si=yKGZ-5cld2BK396Y) (14m:50s)\n",
    "- [YouTube: Cassandra Database Crash Course](https://youtu.be/KZsVSfQVU4I?si=FBCi8qOfCirfVmZk) (19m:47s)\n",
    "```"
   ]
  }
 ],
 "metadata": {
  "celltoolbar": "Slideshow",
  "kernelspec": {
   "display_name": "Python 3 (ipykernel)",
   "language": "python",
   "name": "python3"
  },
  "language_info": {
   "codemirror_mode": {
    "name": "ipython",
    "version": 3
   },
   "file_extension": ".py",
   "mimetype": "text/x-python",
   "name": "python",
   "nbconvert_exporter": "python",
   "pygments_lexer": "ipython3",
   "version": "3.12.4"
  }
 },
 "nbformat": 4,
 "nbformat_minor": 2
}