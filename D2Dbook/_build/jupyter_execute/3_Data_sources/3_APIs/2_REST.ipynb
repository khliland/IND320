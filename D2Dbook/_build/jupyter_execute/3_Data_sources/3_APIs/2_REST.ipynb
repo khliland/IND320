{
 "cells": [
  {
   "cell_type": "markdown",
   "metadata": {
    "slideshow": {
     "slide_type": "slide"
    }
   },
   "source": [
    "# REST API\n",
    "\n",
    "- REST stands for Representational State Transfer. \n",
    "- Architectural style for designing web services. \n",
    "- REST services are stateless, which means that they do not maintain any state between requests. This makes them scalable and reliable.\n",
    "- For us they are mainly interfaces for information retrieval."
   ]
  },
  {
   "cell_type": "markdown",
   "metadata": {
    "slideshow": {
     "slide_type": "slide"
    }
   },
   "source": [
    "## Accessing REST\n",
    "- REST services are based on the HTTP protocol, and they use a set of well-defined verbs to manipulate resources.\n",
    "- Some are open and free, some need an API key (free or subscription)\n",
    "  \n",
    "- The four main verbs in REST are:\n",
    "    - GET: Retrieve a resource.\n",
    "    - POST: Create a resource.\n",
    "    - PUT: Update a resource.\n",
    "    - DELETE: Delete a resource.\n"
   ]
  },
  {
   "cell_type": "markdown",
   "metadata": {
    "slideshow": {
     "slide_type": "slide"
    }
   },
   "source": [
    "### Retrieving data (GET)\n",
    "- A simple example without an API key ([Strømpris API](https://www.hvakosterstrommen.no/strompris-api)):"
   ]
  },
  {
   "cell_type": "code",
   "execution_count": 1,
   "metadata": {
    "ExecuteTime": {
     "end_time": "2024-08-17T10:18:34.645950Z",
     "start_time": "2024-08-17T10:18:34.502655Z"
    },
    "slideshow": {
     "slide_type": "fragment"
    },
    "tags": []
   },
   "outputs": [
    {
     "name": "stdout",
     "output_type": "stream",
     "text": [
      "[{'NOK_per_kWh': 0.13359, 'EUR_per_kWh': 0.01134, 'EXR': 11.78, 'time_start': '2024-09-18T00:00:00+02:00', 'time_end': '2024-09-18T01:00:00+02:00'}, {'NOK_per_kWh': 0.11827, 'EUR_per_kWh': 0.01004, 'EXR': 11.78, 'time_start': '2024-09-18T01:00:00+02:00', 'time_end': '2024-09-18T02:00:00+02:00'}, {'NOK_per_kWh': 0.09448, 'EUR_per_kWh': 0.00802, 'EXR': 11.78, 'time_start': '2024-09-18T02:00:00+02:00', 'time_end': '2024-09-18T03:00:00+02:00'}, {'NOK_per_kWh': 0.08281, 'EUR_per_kWh': 0.00703, 'EXR': 11.78, 'time_start': '2024-09-18T03:00:00+02:00', 'time_end': '2024-09-18T04:00:00+02:00'}, {'NOK_per_kWh': 0.08293, 'EUR_per_kWh': 0.00704, 'EXR': 11.78, 'time_start': '2024-09-18T04:00:00+02:00', 'time_end': '2024-09-18T05:00:00+02:00'}, {'NOK_per_kWh': 0.12404, 'EUR_per_kWh': 0.01053, 'EXR': 11.78, 'time_start': '2024-09-18T05:00:00+02:00', 'time_end': '2024-09-18T06:00:00+02:00'}, {'NOK_per_kWh': 0.21098, 'EUR_per_kWh': 0.01791, 'EXR': 11.78, 'time_start': '2024-09-18T06:00:00+02:00', 'time_end': '2024-09-18T07:00:00+02:00'}, {'NOK_per_kWh': 0.23548, 'EUR_per_kWh': 0.01999, 'EXR': 11.78, 'time_start': '2024-09-18T07:00:00+02:00', 'time_end': '2024-09-18T08:00:00+02:00'}, {'NOK_per_kWh': 0.23372, 'EUR_per_kWh': 0.01984, 'EXR': 11.78, 'time_start': '2024-09-18T08:00:00+02:00', 'time_end': '2024-09-18T09:00:00+02:00'}, {'NOK_per_kWh': 0.23124, 'EUR_per_kWh': 0.01963, 'EXR': 11.78, 'time_start': '2024-09-18T09:00:00+02:00', 'time_end': '2024-09-18T10:00:00+02:00'}, {'NOK_per_kWh': 0.23266, 'EUR_per_kWh': 0.01975, 'EXR': 11.78, 'time_start': '2024-09-18T10:00:00+02:00', 'time_end': '2024-09-18T11:00:00+02:00'}, {'NOK_per_kWh': 0.23548, 'EUR_per_kWh': 0.01999, 'EXR': 11.78, 'time_start': '2024-09-18T11:00:00+02:00', 'time_end': '2024-09-18T12:00:00+02:00'}, {'NOK_per_kWh': 0.15302, 'EUR_per_kWh': 0.01299, 'EXR': 11.78, 'time_start': '2024-09-18T12:00:00+02:00', 'time_end': '2024-09-18T13:00:00+02:00'}, {'NOK_per_kWh': 0.1416, 'EUR_per_kWh': 0.01202, 'EXR': 11.78, 'time_start': '2024-09-18T13:00:00+02:00', 'time_end': '2024-09-18T14:00:00+02:00'}, {'NOK_per_kWh': 0.14937, 'EUR_per_kWh': 0.01268, 'EXR': 11.78, 'time_start': '2024-09-18T14:00:00+02:00', 'time_end': '2024-09-18T15:00:00+02:00'}, {'NOK_per_kWh': 0.17517, 'EUR_per_kWh': 0.01487, 'EXR': 11.78, 'time_start': '2024-09-18T15:00:00+02:00', 'time_end': '2024-09-18T16:00:00+02:00'}, {'NOK_per_kWh': 0.23053, 'EUR_per_kWh': 0.01957, 'EXR': 11.78, 'time_start': '2024-09-18T16:00:00+02:00', 'time_end': '2024-09-18T17:00:00+02:00'}, {'NOK_per_kWh': 0.2356, 'EUR_per_kWh': 0.02, 'EXR': 11.78, 'time_start': '2024-09-18T17:00:00+02:00', 'time_end': '2024-09-18T18:00:00+02:00'}, {'NOK_per_kWh': 0.24102, 'EUR_per_kWh': 0.02046, 'EXR': 11.78, 'time_start': '2024-09-18T18:00:00+02:00', 'time_end': '2024-09-18T19:00:00+02:00'}, {'NOK_per_kWh': 0.23548, 'EUR_per_kWh': 0.01999, 'EXR': 11.78, 'time_start': '2024-09-18T19:00:00+02:00', 'time_end': '2024-09-18T20:00:00+02:00'}, {'NOK_per_kWh': 0.23159, 'EUR_per_kWh': 0.01966, 'EXR': 11.78, 'time_start': '2024-09-18T20:00:00+02:00', 'time_end': '2024-09-18T21:00:00+02:00'}, {'NOK_per_kWh': 0.22712, 'EUR_per_kWh': 0.01928, 'EXR': 11.78, 'time_start': '2024-09-18T21:00:00+02:00', 'time_end': '2024-09-18T22:00:00+02:00'}, {'NOK_per_kWh': 0.21817, 'EUR_per_kWh': 0.01852, 'EXR': 11.78, 'time_start': '2024-09-18T22:00:00+02:00', 'time_end': '2024-09-18T23:00:00+02:00'}, {'NOK_per_kWh': 0.17694, 'EUR_per_kWh': 0.01502, 'EXR': 11.78, 'time_start': '2024-09-18T23:00:00+02:00', 'time_end': '2024-09-19T00:00:00+02:00'}]\n"
     ]
    }
   ],
   "source": [
    "import requests\n",
    "# Power prices in the NO5 zone on a particular date\n",
    "url = \"https://www.hvakosterstrommen.no/api/v1/prices/2024/09-18_NO5.json\"\n",
    "response = requests.get(url)\n",
    "print(response.json())"
   ]
  },
  {
   "cell_type": "code",
   "execution_count": 2,
   "metadata": {
    "ExecuteTime": {
     "end_time": "2024-08-17T10:18:34.649641Z",
     "start_time": "2024-08-17T10:18:34.646905Z"
    },
    "slideshow": {
     "slide_type": "slide"
    },
    "tags": []
   },
   "outputs": [],
   "source": [
    "# Write JSON to file for viewing\n",
    "import json\n",
    "with open('downloads/power_price.json', 'w') as f:\n",
    "    json.dump(response.json(), f, indent=4)"
   ]
  },
  {
   "cell_type": "markdown",
   "metadata": {
    "slideshow": {
     "slide_type": "slide"
    }
   },
   "source": [
    "### Creating data (POST)\n",
    "- For this example we assume there is an API server running locally.\n",
    "- We rely on the [Flask](https://palletsprojects.com/p/flask/) framework (see flask_API.py) in the current folder.\n",
    "    - Simple POST, GET, \"UPDATE\", DELETE\n",
    "- Running a Flask instance from the terminal can be done similar to this:  \n",
    "```\n",
    "conda activate tf_M1\n",
    "python /Users/kristian/Documents/GitHub/IND320/D2Dbook/3_Data_sources/3_APIs/flask_API.py\n",
    "```"
   ]
  },
  {
   "cell_type": "code",
   "execution_count": 3,
   "metadata": {
    "ExecuteTime": {
     "end_time": "2024-08-17T10:18:34.656743Z",
     "start_time": "2024-08-17T10:18:34.650282Z"
    },
    "slideshow": {
     "slide_type": "slide"
    },
    "tags": []
   },
   "outputs": [
    {
     "name": "stdout",
     "output_type": "stream",
     "text": [
      "{'key': 'value'}\n"
     ]
    }
   ],
   "source": [
    "# POST data (stored locally in a dictionary)\n",
    "id = 'test'\n",
    "data = {'key': 'value'}\n",
    "response = requests.post('http://localhost:8000/api/post/{}'.format(id), json=data)\n",
    "print(response.json())"
   ]
  },
  {
   "cell_type": "code",
   "execution_count": 4,
   "metadata": {
    "ExecuteTime": {
     "end_time": "2024-08-17T10:18:34.661271Z",
     "start_time": "2024-08-17T10:18:34.657832Z"
    },
    "slideshow": {
     "slide_type": "fragment"
    },
    "tags": []
   },
   "outputs": [
    {
     "name": "stdout",
     "output_type": "stream",
     "text": [
      "{'key': 'value'}\n"
     ]
    }
   ],
   "source": [
    "# GET data\n",
    "id = 'test'\n",
    "response = requests.get('http://localhost:8000/api/get/{}'.format(id))\n",
    "print(response.json())\n",
    "# You can also test this in a browser since this is an HTTP based (and we use no passwords here)."
   ]
  },
  {
   "cell_type": "markdown",
   "metadata": {
    "slideshow": {
     "slide_type": "slide"
    }
   },
   "source": [
    "### Change data (UPDATE)\n",
    "- This command can mostly be exchanged with POST.\n",
    "- The Flask framework does not have a separate UPDATE (see implementation in flask_API.py)."
   ]
  },
  {
   "cell_type": "code",
   "execution_count": 5,
   "metadata": {
    "ExecuteTime": {
     "end_time": "2024-08-17T10:18:34.665039Z",
     "start_time": "2024-08-17T10:18:34.661827Z"
    },
    "slideshow": {
     "slide_type": "fragment"
    },
    "tags": []
   },
   "outputs": [
    {
     "name": "stdout",
     "output_type": "stream",
     "text": [
      "{'key': 'new value'}\n"
     ]
    }
   ],
   "source": [
    "# UPDATE data\n",
    "id = 'test'\n",
    "data = {'key': 'new value'}\n",
    "response = requests.post('http://localhost:8000/api/update/{}'.format(id), json=data)\n",
    "print(response.json())"
   ]
  },
  {
   "cell_type": "markdown",
   "metadata": {
    "slideshow": {
     "slide_type": "slide"
    }
   },
   "source": [
    "### Remove data (DELETE)\n",
    "- Let's remove some data and try to read it again."
   ]
  },
  {
   "cell_type": "code",
   "execution_count": 6,
   "metadata": {
    "ExecuteTime": {
     "end_time": "2024-08-17T10:18:34.668889Z",
     "start_time": "2024-08-17T10:18:34.665628Z"
    },
    "slideshow": {
     "slide_type": "fragment"
    },
    "tags": []
   },
   "outputs": [
    {
     "name": "stdout",
     "output_type": "stream",
     "text": [
      "{'key': 'new value'}\n"
     ]
    }
   ],
   "source": [
    "# DELETE data\n",
    "id = 'test'\n",
    "response = requests.delete('http://localhost:8000/api/delete/{}'.format(id))\n",
    "print(response.json())"
   ]
  },
  {
   "cell_type": "code",
   "execution_count": 7,
   "metadata": {
    "ExecuteTime": {
     "end_time": "2024-08-17T10:18:34.937163Z",
     "start_time": "2024-08-17T10:18:34.669441Z"
    },
    "slideshow": {
     "slide_type": "slide"
    },
    "tags": [
     "raises-exception"
    ]
   },
   "outputs": [
    {
     "ename": "JSONDecodeError",
     "evalue": "Expecting value: line 1 column 1 (char 0)",
     "output_type": "error",
     "traceback": [
      "\u001b[0;31m---------------------------------------------------------------------------\u001b[0m",
      "\u001b[0;31mJSONDecodeError\u001b[0m                           Traceback (most recent call last)",
      "File \u001b[0;32m~/miniforge3/envs/IND320_2024/lib/python3.12/site-packages/requests/models.py:974\u001b[0m, in \u001b[0;36mResponse.json\u001b[0;34m(self, **kwargs)\u001b[0m\n\u001b[1;32m    973\u001b[0m \u001b[38;5;28;01mtry\u001b[39;00m:\n\u001b[0;32m--> 974\u001b[0m     \u001b[38;5;28;01mreturn\u001b[39;00m \u001b[43mcomplexjson\u001b[49m\u001b[38;5;241;43m.\u001b[39;49m\u001b[43mloads\u001b[49m\u001b[43m(\u001b[49m\u001b[38;5;28;43mself\u001b[39;49m\u001b[38;5;241;43m.\u001b[39;49m\u001b[43mtext\u001b[49m\u001b[43m,\u001b[49m\u001b[43m \u001b[49m\u001b[38;5;241;43m*\u001b[39;49m\u001b[38;5;241;43m*\u001b[39;49m\u001b[43mkwargs\u001b[49m\u001b[43m)\u001b[49m\n\u001b[1;32m    975\u001b[0m \u001b[38;5;28;01mexcept\u001b[39;00m JSONDecodeError \u001b[38;5;28;01mas\u001b[39;00m e:\n\u001b[1;32m    976\u001b[0m     \u001b[38;5;66;03m# Catch JSON-related errors and raise as requests.JSONDecodeError\u001b[39;00m\n\u001b[1;32m    977\u001b[0m     \u001b[38;5;66;03m# This aliases json.JSONDecodeError and simplejson.JSONDecodeError\u001b[39;00m\n",
      "File \u001b[0;32m~/miniforge3/envs/IND320_2024/lib/python3.12/json/__init__.py:346\u001b[0m, in \u001b[0;36mloads\u001b[0;34m(s, cls, object_hook, parse_float, parse_int, parse_constant, object_pairs_hook, **kw)\u001b[0m\n\u001b[1;32m    343\u001b[0m \u001b[38;5;28;01mif\u001b[39;00m (\u001b[38;5;28mcls\u001b[39m \u001b[38;5;129;01mis\u001b[39;00m \u001b[38;5;28;01mNone\u001b[39;00m \u001b[38;5;129;01mand\u001b[39;00m object_hook \u001b[38;5;129;01mis\u001b[39;00m \u001b[38;5;28;01mNone\u001b[39;00m \u001b[38;5;129;01mand\u001b[39;00m\n\u001b[1;32m    344\u001b[0m         parse_int \u001b[38;5;129;01mis\u001b[39;00m \u001b[38;5;28;01mNone\u001b[39;00m \u001b[38;5;129;01mand\u001b[39;00m parse_float \u001b[38;5;129;01mis\u001b[39;00m \u001b[38;5;28;01mNone\u001b[39;00m \u001b[38;5;129;01mand\u001b[39;00m\n\u001b[1;32m    345\u001b[0m         parse_constant \u001b[38;5;129;01mis\u001b[39;00m \u001b[38;5;28;01mNone\u001b[39;00m \u001b[38;5;129;01mand\u001b[39;00m object_pairs_hook \u001b[38;5;129;01mis\u001b[39;00m \u001b[38;5;28;01mNone\u001b[39;00m \u001b[38;5;129;01mand\u001b[39;00m \u001b[38;5;129;01mnot\u001b[39;00m kw):\n\u001b[0;32m--> 346\u001b[0m     \u001b[38;5;28;01mreturn\u001b[39;00m \u001b[43m_default_decoder\u001b[49m\u001b[38;5;241;43m.\u001b[39;49m\u001b[43mdecode\u001b[49m\u001b[43m(\u001b[49m\u001b[43ms\u001b[49m\u001b[43m)\u001b[49m\n\u001b[1;32m    347\u001b[0m \u001b[38;5;28;01mif\u001b[39;00m \u001b[38;5;28mcls\u001b[39m \u001b[38;5;129;01mis\u001b[39;00m \u001b[38;5;28;01mNone\u001b[39;00m:\n",
      "File \u001b[0;32m~/miniforge3/envs/IND320_2024/lib/python3.12/json/decoder.py:337\u001b[0m, in \u001b[0;36mJSONDecoder.decode\u001b[0;34m(self, s, _w)\u001b[0m\n\u001b[1;32m    333\u001b[0m \u001b[38;5;250m\u001b[39m\u001b[38;5;124;03m\"\"\"Return the Python representation of ``s`` (a ``str`` instance\u001b[39;00m\n\u001b[1;32m    334\u001b[0m \u001b[38;5;124;03mcontaining a JSON document).\u001b[39;00m\n\u001b[1;32m    335\u001b[0m \n\u001b[1;32m    336\u001b[0m \u001b[38;5;124;03m\"\"\"\u001b[39;00m\n\u001b[0;32m--> 337\u001b[0m obj, end \u001b[38;5;241m=\u001b[39m \u001b[38;5;28;43mself\u001b[39;49m\u001b[38;5;241;43m.\u001b[39;49m\u001b[43mraw_decode\u001b[49m\u001b[43m(\u001b[49m\u001b[43ms\u001b[49m\u001b[43m,\u001b[49m\u001b[43m \u001b[49m\u001b[43midx\u001b[49m\u001b[38;5;241;43m=\u001b[39;49m\u001b[43m_w\u001b[49m\u001b[43m(\u001b[49m\u001b[43ms\u001b[49m\u001b[43m,\u001b[49m\u001b[43m \u001b[49m\u001b[38;5;241;43m0\u001b[39;49m\u001b[43m)\u001b[49m\u001b[38;5;241;43m.\u001b[39;49m\u001b[43mend\u001b[49m\u001b[43m(\u001b[49m\u001b[43m)\u001b[49m\u001b[43m)\u001b[49m\n\u001b[1;32m    338\u001b[0m end \u001b[38;5;241m=\u001b[39m _w(s, end)\u001b[38;5;241m.\u001b[39mend()\n",
      "File \u001b[0;32m~/miniforge3/envs/IND320_2024/lib/python3.12/json/decoder.py:355\u001b[0m, in \u001b[0;36mJSONDecoder.raw_decode\u001b[0;34m(self, s, idx)\u001b[0m\n\u001b[1;32m    354\u001b[0m \u001b[38;5;28;01mexcept\u001b[39;00m \u001b[38;5;167;01mStopIteration\u001b[39;00m \u001b[38;5;28;01mas\u001b[39;00m err:\n\u001b[0;32m--> 355\u001b[0m     \u001b[38;5;28;01mraise\u001b[39;00m JSONDecodeError(\u001b[38;5;124m\"\u001b[39m\u001b[38;5;124mExpecting value\u001b[39m\u001b[38;5;124m\"\u001b[39m, s, err\u001b[38;5;241m.\u001b[39mvalue) \u001b[38;5;28;01mfrom\u001b[39;00m \u001b[38;5;28;01mNone\u001b[39;00m\n\u001b[1;32m    356\u001b[0m \u001b[38;5;28;01mreturn\u001b[39;00m obj, end\n",
      "\u001b[0;31mJSONDecodeError\u001b[0m: Expecting value: line 1 column 1 (char 0)",
      "\nDuring handling of the above exception, another exception occurred:\n",
      "\u001b[0;31mJSONDecodeError\u001b[0m                           Traceback (most recent call last)",
      "Cell \u001b[0;32mIn[7], line 4\u001b[0m\n\u001b[1;32m      2\u001b[0m \u001b[38;5;28mid\u001b[39m \u001b[38;5;241m=\u001b[39m \u001b[38;5;124m'\u001b[39m\u001b[38;5;124mtest\u001b[39m\u001b[38;5;124m'\u001b[39m\n\u001b[1;32m      3\u001b[0m response \u001b[38;5;241m=\u001b[39m requests\u001b[38;5;241m.\u001b[39mget(\u001b[38;5;124m'\u001b[39m\u001b[38;5;124mhttp://localhost:8000/api/get/\u001b[39m\u001b[38;5;132;01m{}\u001b[39;00m\u001b[38;5;124m'\u001b[39m\u001b[38;5;241m.\u001b[39mformat(\u001b[38;5;28mid\u001b[39m))\n\u001b[0;32m----> 4\u001b[0m \u001b[38;5;28mprint\u001b[39m(\u001b[43mresponse\u001b[49m\u001b[38;5;241;43m.\u001b[39;49m\u001b[43mjson\u001b[49m\u001b[43m(\u001b[49m\u001b[43m)\u001b[49m)\n",
      "File \u001b[0;32m~/miniforge3/envs/IND320_2024/lib/python3.12/site-packages/requests/models.py:978\u001b[0m, in \u001b[0;36mResponse.json\u001b[0;34m(self, **kwargs)\u001b[0m\n\u001b[1;32m    974\u001b[0m     \u001b[38;5;28;01mreturn\u001b[39;00m complexjson\u001b[38;5;241m.\u001b[39mloads(\u001b[38;5;28mself\u001b[39m\u001b[38;5;241m.\u001b[39mtext, \u001b[38;5;241m*\u001b[39m\u001b[38;5;241m*\u001b[39mkwargs)\n\u001b[1;32m    975\u001b[0m \u001b[38;5;28;01mexcept\u001b[39;00m JSONDecodeError \u001b[38;5;28;01mas\u001b[39;00m e:\n\u001b[1;32m    976\u001b[0m     \u001b[38;5;66;03m# Catch JSON-related errors and raise as requests.JSONDecodeError\u001b[39;00m\n\u001b[1;32m    977\u001b[0m     \u001b[38;5;66;03m# This aliases json.JSONDecodeError and simplejson.JSONDecodeError\u001b[39;00m\n\u001b[0;32m--> 978\u001b[0m     \u001b[38;5;28;01mraise\u001b[39;00m RequestsJSONDecodeError(e\u001b[38;5;241m.\u001b[39mmsg, e\u001b[38;5;241m.\u001b[39mdoc, e\u001b[38;5;241m.\u001b[39mpos)\n",
      "\u001b[0;31mJSONDecodeError\u001b[0m: Expecting value: line 1 column 1 (char 0)"
     ]
    }
   ],
   "source": [
    "# GET data again\n",
    "id = 'test'\n",
    "response = requests.get('http://localhost:8000/api/get/{}'.format(id))\n",
    "print(response.json())"
   ]
  },
  {
   "cell_type": "markdown",
   "metadata": {
    "slideshow": {
     "slide_type": "slide"
    }
   },
   "source": [
    "## Exercise\n",
    "- Look at flask_API.py.\n",
    "- Add “try-except” to GET to return an empty JSON when an ‘id’ does not exist.\n",
    "- Are there other potential sources of error here?"
   ]
  },
  {
   "cell_type": "markdown",
   "metadata": {
    "slideshow": {
     "slide_type": "slide"
    }
   },
   "source": [
    "```{seealso} Resources\n",
    ":class: tip\n",
    "- [Wikipedia: REST](https://en.wikipedia.org/wiki/Representational_state_transfer)\n",
    "- [Flask](https://palletsprojects.com/p/flask/) local HTTP server in Python.\n",
    "- [Strømpris API](https://www.hvakosterstrommen.no/strompris-api) (only in Norwegian)\n",
    "- [YouTube: What is a REST API?](https://youtu.be/lsMQRaeKNDk) (9m:11s)\n",
    "- [YouTube: REST API Crash Course - Introduction + Full Python API Tutorial](https://youtu.be/qbLc5a9jdXo) (52m:49s)\n",
    "```"
   ]
  }
 ],
 "metadata": {
  "celltoolbar": "Slideshow",
  "kernelspec": {
   "display_name": "Python 3 (ipykernel)",
   "language": "python",
   "name": "python3"
  },
  "language_info": {
   "codemirror_mode": {
    "name": "ipython",
    "version": 3
   },
   "file_extension": ".py",
   "mimetype": "text/x-python",
   "name": "python",
   "nbconvert_exporter": "python",
   "pygments_lexer": "ipython3",
   "version": "3.12.4"
  }
 },
 "nbformat": 4,
 "nbformat_minor": 4
}