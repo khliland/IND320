{
 "cells": [
  {
   "cell_type": "markdown",
   "metadata": {
    "slideshow": {
     "slide_type": "slide"
    }
   },
   "source": [
    "# REST API\n",
    "\n",
    "- REST stands for Representational State Transfer. \n",
    "- Architectural style for designing web services. \n",
    "- REST services are stateless, which means that they do not maintain any state between requests. This makes them scalable and reliable.\n",
    "- For us they are mainly interfaces for information retrieval."
   ]
  },
  {
   "cell_type": "markdown",
   "metadata": {
    "slideshow": {
     "slide_type": "slide"
    }
   },
   "source": [
    "## Accessing REST\n",
    "- REST services are based on the HTTP protocol, and they use a set of well-defined verbs to manipulate resources.\n",
    "- Some are open and free, some need an API key (free or subscription)\n",
    "  \n",
    "- The four main verbs in REST are:\n",
    "    - GET: Retrieve a resource.\n",
    "    - POST: Create a resource.\n",
    "    - PUT: Update a resource.\n",
    "    - DELETE: Delete a resource.\n"
   ]
  },
  {
   "cell_type": "markdown",
   "metadata": {
    "slideshow": {
     "slide_type": "slide"
    }
   },
   "source": [
    "### Retrieving data (GET)\n",
    "- A simple example without an API key ([Strømpris API](https://www.hvakosterstrommen.no/strompris-api)):"
   ]
  },
  {
   "cell_type": "code",
   "execution_count": 1,
   "metadata": {
    "ExecuteTime": {
     "end_time": "2024-08-17T10:18:34.645950Z",
     "start_time": "2024-08-17T10:18:34.502655Z"
    },
    "slideshow": {
     "slide_type": "fragment"
    },
    "tags": []
   },
   "outputs": [
    {
     "name": "stdout",
     "output_type": "stream",
     "text": [
      "[{'NOK_per_kWh': 0.54988, 'EUR_per_kWh': 0.0461, 'EXR': 11.928, 'time_start': '2025-08-21T00:00:00+02:00', 'time_end': '2025-08-21T01:00:00+02:00'}, {'NOK_per_kWh': 0.63958, 'EUR_per_kWh': 0.05362, 'EXR': 11.928, 'time_start': '2025-08-21T01:00:00+02:00', 'time_end': '2025-08-21T02:00:00+02:00'}, {'NOK_per_kWh': 0.59962, 'EUR_per_kWh': 0.05027, 'EXR': 11.928, 'time_start': '2025-08-21T02:00:00+02:00', 'time_end': '2025-08-21T03:00:00+02:00'}, {'NOK_per_kWh': 0.59783, 'EUR_per_kWh': 0.05012, 'EXR': 11.928, 'time_start': '2025-08-21T03:00:00+02:00', 'time_end': '2025-08-21T04:00:00+02:00'}, {'NOK_per_kWh': 0.56062, 'EUR_per_kWh': 0.047, 'EXR': 11.928, 'time_start': '2025-08-21T04:00:00+02:00', 'time_end': '2025-08-21T05:00:00+02:00'}, {'NOK_per_kWh': 0.57505, 'EUR_per_kWh': 0.04821, 'EXR': 11.928, 'time_start': '2025-08-21T05:00:00+02:00', 'time_end': '2025-08-21T06:00:00+02:00'}, {'NOK_per_kWh': 0.62479, 'EUR_per_kWh': 0.05238, 'EXR': 11.928, 'time_start': '2025-08-21T06:00:00+02:00', 'time_end': '2025-08-21T07:00:00+02:00'}, {'NOK_per_kWh': 0.56074, 'EUR_per_kWh': 0.04701, 'EXR': 11.928, 'time_start': '2025-08-21T07:00:00+02:00', 'time_end': '2025-08-21T08:00:00+02:00'}, {'NOK_per_kWh': 0.47819, 'EUR_per_kWh': 0.04009, 'EXR': 11.928, 'time_start': '2025-08-21T08:00:00+02:00', 'time_end': '2025-08-21T09:00:00+02:00'}, {'NOK_per_kWh': 0.4863, 'EUR_per_kWh': 0.04077, 'EXR': 11.928, 'time_start': '2025-08-21T09:00:00+02:00', 'time_end': '2025-08-21T10:00:00+02:00'}, {'NOK_per_kWh': 0.5141, 'EUR_per_kWh': 0.0431, 'EXR': 11.928, 'time_start': '2025-08-21T10:00:00+02:00', 'time_end': '2025-08-21T11:00:00+02:00'}, {'NOK_per_kWh': 0.58566, 'EUR_per_kWh': 0.0491, 'EXR': 11.928, 'time_start': '2025-08-21T11:00:00+02:00', 'time_end': '2025-08-21T12:00:00+02:00'}, {'NOK_per_kWh': 0.51589, 'EUR_per_kWh': 0.04325, 'EXR': 11.928, 'time_start': '2025-08-21T12:00:00+02:00', 'time_end': '2025-08-21T13:00:00+02:00'}, {'NOK_per_kWh': 0.55632, 'EUR_per_kWh': 0.04664, 'EXR': 11.928, 'time_start': '2025-08-21T13:00:00+02:00', 'time_end': '2025-08-21T14:00:00+02:00'}, {'NOK_per_kWh': 0.59652, 'EUR_per_kWh': 0.05001, 'EXR': 11.928, 'time_start': '2025-08-21T14:00:00+02:00', 'time_end': '2025-08-21T15:00:00+02:00'}, {'NOK_per_kWh': 0.63123, 'EUR_per_kWh': 0.05292, 'EXR': 11.928, 'time_start': '2025-08-21T15:00:00+02:00', 'time_end': '2025-08-21T16:00:00+02:00'}, {'NOK_per_kWh': 0.58674, 'EUR_per_kWh': 0.04919, 'EXR': 11.928, 'time_start': '2025-08-21T16:00:00+02:00', 'time_end': '2025-08-21T17:00:00+02:00'}, {'NOK_per_kWh': 0.59652, 'EUR_per_kWh': 0.05001, 'EXR': 11.928, 'time_start': '2025-08-21T17:00:00+02:00', 'time_end': '2025-08-21T18:00:00+02:00'}, {'NOK_per_kWh': 0.65556, 'EUR_per_kWh': 0.05496, 'EXR': 11.928, 'time_start': '2025-08-21T18:00:00+02:00', 'time_end': '2025-08-21T19:00:00+02:00'}, {'NOK_per_kWh': 0.62097, 'EUR_per_kWh': 0.05206, 'EXR': 11.928, 'time_start': '2025-08-21T19:00:00+02:00', 'time_end': '2025-08-21T20:00:00+02:00'}, {'NOK_per_kWh': 0.62861, 'EUR_per_kWh': 0.0527, 'EXR': 11.928, 'time_start': '2025-08-21T20:00:00+02:00', 'time_end': '2025-08-21T21:00:00+02:00'}, {'NOK_per_kWh': 0.61012, 'EUR_per_kWh': 0.05115, 'EXR': 11.928, 'time_start': '2025-08-21T21:00:00+02:00', 'time_end': '2025-08-21T22:00:00+02:00'}, {'NOK_per_kWh': 0.59926, 'EUR_per_kWh': 0.05024, 'EXR': 11.928, 'time_start': '2025-08-21T22:00:00+02:00', 'time_end': '2025-08-21T23:00:00+02:00'}, {'NOK_per_kWh': 0.57505, 'EUR_per_kWh': 0.04821, 'EXR': 11.928, 'time_start': '2025-08-21T23:00:00+02:00', 'time_end': '2025-08-22T00:00:00+02:00'}]\n"
     ]
    },
    {
     "name": "stderr",
     "output_type": "stream",
     "text": [
      "/Users/kristian/miniforge3/envs/ind320_25/lib/python3.12/site-packages/urllib3/connectionpool.py:1097: InsecureRequestWarning: Unverified HTTPS request is being made to host 'www.hvakosterstrommen.no'. Adding certificate verification is strongly advised. See: https://urllib3.readthedocs.io/en/latest/advanced-usage.html#tls-warnings\n",
      "  warnings.warn(\n"
     ]
    }
   ],
   "source": [
    "import requests\n",
    "# Power prices in the NO5 zone on a particular date\n",
    "url = \"https://www.hvakosterstrommen.no/api/v1/prices/2025/08-21_NO5.json\"\n",
    "response = requests.get(url, verify=False)  # Disable SSL verification for testing purposes\n",
    "print(response.json())"
   ]
  },
  {
   "cell_type": "code",
   "execution_count": 2,
   "metadata": {
    "ExecuteTime": {
     "end_time": "2024-08-17T10:18:34.649641Z",
     "start_time": "2024-08-17T10:18:34.646905Z"
    },
    "slideshow": {
     "slide_type": "slide"
    },
    "tags": []
   },
   "outputs": [],
   "source": [
    "# Write JSON to file for viewing\n",
    "import json\n",
    "with open('downloads/power_price.json', 'w') as f:\n",
    "    json.dump(response.json(), f, indent=4)"
   ]
  },
  {
   "cell_type": "markdown",
   "metadata": {
    "slideshow": {
     "slide_type": "slide"
    }
   },
   "source": [
    "### Creating data (POST)\n",
    "- For this example we assume there is an API server running locally.\n",
    "- We rely on the [Flask](https://palletsprojects.com/p/flask/) framework (see flask_API.py) in the current folder.\n",
    "    - Simple POST, GET, \"UPDATE\", DELETE\n",
    "- Running a Flask instance from the terminal can be done similar to this:  \n",
    "```\n",
    "conda activate tf_M1\n",
    "python /Users/kristian/Documents/GitHub/IND320/D2Dbook/3_Data_sources/3_APIs/flask_API.py\n",
    "```"
   ]
  },
  {
   "cell_type": "code",
   "execution_count": 3,
   "metadata": {
    "ExecuteTime": {
     "end_time": "2024-08-17T10:18:34.656743Z",
     "start_time": "2024-08-17T10:18:34.650282Z"
    },
    "slideshow": {
     "slide_type": "slide"
    },
    "tags": []
   },
   "outputs": [
    {
     "name": "stdout",
     "output_type": "stream",
     "text": [
      "{'key': 'value'}\n"
     ]
    }
   ],
   "source": [
    "# POST data (stored locally in a dictionary)\n",
    "id = 'test'\n",
    "data = {'key': 'value'}\n",
    "response = requests.post('http://localhost:8000/api/post/{}'.format(id), json=data)\n",
    "print(response.json())"
   ]
  },
  {
   "cell_type": "code",
   "execution_count": 4,
   "metadata": {
    "ExecuteTime": {
     "end_time": "2024-08-17T10:18:34.661271Z",
     "start_time": "2024-08-17T10:18:34.657832Z"
    },
    "slideshow": {
     "slide_type": "fragment"
    },
    "tags": []
   },
   "outputs": [
    {
     "name": "stdout",
     "output_type": "stream",
     "text": [
      "{'key': 'value'}\n"
     ]
    }
   ],
   "source": [
    "# GET data\n",
    "id = 'test'\n",
    "response = requests.get('http://localhost:8000/api/get/{}'.format(id))\n",
    "print(response.json())\n",
    "# You can also test this in a browser since this is an HTTP based (and we use no passwords here)."
   ]
  },
  {
   "cell_type": "markdown",
   "metadata": {
    "slideshow": {
     "slide_type": "slide"
    }
   },
   "source": [
    "### Change data (UPDATE)\n",
    "- This command can mostly be exchanged with POST.\n",
    "- The Flask framework does not have a separate UPDATE (see implementation in flask_API.py)."
   ]
  },
  {
   "cell_type": "code",
   "execution_count": 5,
   "metadata": {
    "ExecuteTime": {
     "end_time": "2024-08-17T10:18:34.665039Z",
     "start_time": "2024-08-17T10:18:34.661827Z"
    },
    "slideshow": {
     "slide_type": "fragment"
    },
    "tags": []
   },
   "outputs": [
    {
     "name": "stdout",
     "output_type": "stream",
     "text": [
      "{'key': 'new value'}\n"
     ]
    }
   ],
   "source": [
    "# UPDATE data\n",
    "id = 'test'\n",
    "data = {'key': 'new value'}\n",
    "response = requests.post('http://localhost:8000/api/update/{}'.format(id), json=data)\n",
    "print(response.json())"
   ]
  },
  {
   "cell_type": "markdown",
   "metadata": {
    "slideshow": {
     "slide_type": "slide"
    }
   },
   "source": [
    "### Remove data (DELETE)\n",
    "- Let's remove some data and try to read it again."
   ]
  },
  {
   "cell_type": "code",
   "execution_count": 6,
   "metadata": {
    "ExecuteTime": {
     "end_time": "2024-08-17T10:18:34.668889Z",
     "start_time": "2024-08-17T10:18:34.665628Z"
    },
    "slideshow": {
     "slide_type": "fragment"
    },
    "tags": []
   },
   "outputs": [
    {
     "name": "stdout",
     "output_type": "stream",
     "text": [
      "{'key': 'new value'}\n"
     ]
    }
   ],
   "source": [
    "# DELETE data\n",
    "id = 'test'\n",
    "response = requests.delete('http://localhost:8000/api/delete/{}'.format(id))\n",
    "print(response.json())"
   ]
  },
  {
   "cell_type": "code",
   "execution_count": 7,
   "metadata": {
    "ExecuteTime": {
     "end_time": "2024-08-17T10:18:34.937163Z",
     "start_time": "2024-08-17T10:18:34.669441Z"
    },
    "slideshow": {
     "slide_type": "slide"
    },
    "tags": [
     "raises-exception"
    ]
   },
   "outputs": [
    {
     "ename": "JSONDecodeError",
     "evalue": "Expecting value: line 1 column 1 (char 0)",
     "output_type": "error",
     "traceback": [
      "\u001b[31m---------------------------------------------------------------------------\u001b[39m",
      "\u001b[31mJSONDecodeError\u001b[39m                           Traceback (most recent call last)",
      "\u001b[36mFile \u001b[39m\u001b[32m~/miniforge3/envs/ind320_25/lib/python3.12/site-packages/requests/models.py:976\u001b[39m, in \u001b[36mResponse.json\u001b[39m\u001b[34m(self, **kwargs)\u001b[39m\n\u001b[32m    975\u001b[39m \u001b[38;5;28;01mtry\u001b[39;00m:\n\u001b[32m--> \u001b[39m\u001b[32m976\u001b[39m     \u001b[38;5;28;01mreturn\u001b[39;00m \u001b[43mcomplexjson\u001b[49m\u001b[43m.\u001b[49m\u001b[43mloads\u001b[49m\u001b[43m(\u001b[49m\u001b[38;5;28;43mself\u001b[39;49m\u001b[43m.\u001b[49m\u001b[43mtext\u001b[49m\u001b[43m,\u001b[49m\u001b[43m \u001b[49m\u001b[43m*\u001b[49m\u001b[43m*\u001b[49m\u001b[43mkwargs\u001b[49m\u001b[43m)\u001b[49m\n\u001b[32m    977\u001b[39m \u001b[38;5;28;01mexcept\u001b[39;00m JSONDecodeError \u001b[38;5;28;01mas\u001b[39;00m e:\n\u001b[32m    978\u001b[39m     \u001b[38;5;66;03m# Catch JSON-related errors and raise as requests.JSONDecodeError\u001b[39;00m\n\u001b[32m    979\u001b[39m     \u001b[38;5;66;03m# This aliases json.JSONDecodeError and simplejson.JSONDecodeError\u001b[39;00m\n",
      "\u001b[36mFile \u001b[39m\u001b[32m~/miniforge3/envs/ind320_25/lib/python3.12/site-packages/simplejson/__init__.py:514\u001b[39m, in \u001b[36mloads\u001b[39m\u001b[34m(s, encoding, cls, object_hook, parse_float, parse_int, parse_constant, object_pairs_hook, use_decimal, allow_nan, **kw)\u001b[39m\n\u001b[32m    510\u001b[39m \u001b[38;5;28;01mif\u001b[39;00m (\u001b[38;5;28mcls\u001b[39m \u001b[38;5;129;01mis\u001b[39;00m \u001b[38;5;28;01mNone\u001b[39;00m \u001b[38;5;129;01mand\u001b[39;00m encoding \u001b[38;5;129;01mis\u001b[39;00m \u001b[38;5;28;01mNone\u001b[39;00m \u001b[38;5;129;01mand\u001b[39;00m object_hook \u001b[38;5;129;01mis\u001b[39;00m \u001b[38;5;28;01mNone\u001b[39;00m \u001b[38;5;129;01mand\u001b[39;00m\n\u001b[32m    511\u001b[39m         parse_int \u001b[38;5;129;01mis\u001b[39;00m \u001b[38;5;28;01mNone\u001b[39;00m \u001b[38;5;129;01mand\u001b[39;00m parse_float \u001b[38;5;129;01mis\u001b[39;00m \u001b[38;5;28;01mNone\u001b[39;00m \u001b[38;5;129;01mand\u001b[39;00m\n\u001b[32m    512\u001b[39m         parse_constant \u001b[38;5;129;01mis\u001b[39;00m \u001b[38;5;28;01mNone\u001b[39;00m \u001b[38;5;129;01mand\u001b[39;00m object_pairs_hook \u001b[38;5;129;01mis\u001b[39;00m \u001b[38;5;28;01mNone\u001b[39;00m\n\u001b[32m    513\u001b[39m         \u001b[38;5;129;01mand\u001b[39;00m \u001b[38;5;129;01mnot\u001b[39;00m use_decimal \u001b[38;5;129;01mand\u001b[39;00m \u001b[38;5;129;01mnot\u001b[39;00m allow_nan \u001b[38;5;129;01mand\u001b[39;00m \u001b[38;5;129;01mnot\u001b[39;00m kw):\n\u001b[32m--> \u001b[39m\u001b[32m514\u001b[39m     \u001b[38;5;28;01mreturn\u001b[39;00m \u001b[43m_default_decoder\u001b[49m\u001b[43m.\u001b[49m\u001b[43mdecode\u001b[49m\u001b[43m(\u001b[49m\u001b[43ms\u001b[49m\u001b[43m)\u001b[49m\n\u001b[32m    515\u001b[39m \u001b[38;5;28;01mif\u001b[39;00m \u001b[38;5;28mcls\u001b[39m \u001b[38;5;129;01mis\u001b[39;00m \u001b[38;5;28;01mNone\u001b[39;00m:\n",
      "\u001b[36mFile \u001b[39m\u001b[32m~/miniforge3/envs/ind320_25/lib/python3.12/site-packages/simplejson/decoder.py:386\u001b[39m, in \u001b[36mJSONDecoder.decode\u001b[39m\u001b[34m(self, s, _w, _PY3)\u001b[39m\n\u001b[32m    385\u001b[39m     s = \u001b[38;5;28mstr\u001b[39m(s, \u001b[38;5;28mself\u001b[39m.encoding)\n\u001b[32m--> \u001b[39m\u001b[32m386\u001b[39m obj, end = \u001b[38;5;28;43mself\u001b[39;49m\u001b[43m.\u001b[49m\u001b[43mraw_decode\u001b[49m\u001b[43m(\u001b[49m\u001b[43ms\u001b[49m\u001b[43m)\u001b[49m\n\u001b[32m    387\u001b[39m end = _w(s, end).end()\n",
      "\u001b[36mFile \u001b[39m\u001b[32m~/miniforge3/envs/ind320_25/lib/python3.12/site-packages/simplejson/decoder.py:416\u001b[39m, in \u001b[36mJSONDecoder.raw_decode\u001b[39m\u001b[34m(self, s, idx, _w, _PY3)\u001b[39m\n\u001b[32m    415\u001b[39m         idx += \u001b[32m3\u001b[39m\n\u001b[32m--> \u001b[39m\u001b[32m416\u001b[39m \u001b[38;5;28;01mreturn\u001b[39;00m \u001b[38;5;28;43mself\u001b[39;49m\u001b[43m.\u001b[49m\u001b[43mscan_once\u001b[49m\u001b[43m(\u001b[49m\u001b[43ms\u001b[49m\u001b[43m,\u001b[49m\u001b[43m \u001b[49m\u001b[43midx\u001b[49m\u001b[43m=\u001b[49m\u001b[43m_w\u001b[49m\u001b[43m(\u001b[49m\u001b[43ms\u001b[49m\u001b[43m,\u001b[49m\u001b[43m \u001b[49m\u001b[43midx\u001b[49m\u001b[43m)\u001b[49m\u001b[43m.\u001b[49m\u001b[43mend\u001b[49m\u001b[43m(\u001b[49m\u001b[43m)\u001b[49m\u001b[43m)\u001b[49m\n",
      "\u001b[31mJSONDecodeError\u001b[39m: Expecting value: line 1 column 1 (char 0)",
      "\nDuring handling of the above exception, another exception occurred:\n",
      "\u001b[31mJSONDecodeError\u001b[39m                           Traceback (most recent call last)",
      "\u001b[36mCell\u001b[39m\u001b[36m \u001b[39m\u001b[32mIn[7]\u001b[39m\u001b[32m, line 4\u001b[39m\n\u001b[32m      2\u001b[39m \u001b[38;5;28mid\u001b[39m = \u001b[33m'\u001b[39m\u001b[33mtest\u001b[39m\u001b[33m'\u001b[39m\n\u001b[32m      3\u001b[39m response = requests.get(\u001b[33m'\u001b[39m\u001b[33mhttp://localhost:8000/api/get/\u001b[39m\u001b[38;5;132;01m{}\u001b[39;00m\u001b[33m'\u001b[39m.format(\u001b[38;5;28mid\u001b[39m))\n\u001b[32m----> \u001b[39m\u001b[32m4\u001b[39m \u001b[38;5;28mprint\u001b[39m(\u001b[43mresponse\u001b[49m\u001b[43m.\u001b[49m\u001b[43mjson\u001b[49m\u001b[43m(\u001b[49m\u001b[43m)\u001b[49m)\n",
      "\u001b[36mFile \u001b[39m\u001b[32m~/miniforge3/envs/ind320_25/lib/python3.12/site-packages/requests/models.py:980\u001b[39m, in \u001b[36mResponse.json\u001b[39m\u001b[34m(self, **kwargs)\u001b[39m\n\u001b[32m    976\u001b[39m     \u001b[38;5;28;01mreturn\u001b[39;00m complexjson.loads(\u001b[38;5;28mself\u001b[39m.text, **kwargs)\n\u001b[32m    977\u001b[39m \u001b[38;5;28;01mexcept\u001b[39;00m JSONDecodeError \u001b[38;5;28;01mas\u001b[39;00m e:\n\u001b[32m    978\u001b[39m     \u001b[38;5;66;03m# Catch JSON-related errors and raise as requests.JSONDecodeError\u001b[39;00m\n\u001b[32m    979\u001b[39m     \u001b[38;5;66;03m# This aliases json.JSONDecodeError and simplejson.JSONDecodeError\u001b[39;00m\n\u001b[32m--> \u001b[39m\u001b[32m980\u001b[39m     \u001b[38;5;28;01mraise\u001b[39;00m RequestsJSONDecodeError(e.msg, e.doc, e.pos)\n",
      "\u001b[31mJSONDecodeError\u001b[39m: Expecting value: line 1 column 1 (char 0)"
     ]
    }
   ],
   "source": [
    "# GET data again\n",
    "id = 'test'\n",
    "response = requests.get('http://localhost:8000/api/get/{}'.format(id))\n",
    "print(response.json())"
   ]
  },
  {
   "cell_type": "markdown",
   "metadata": {
    "slideshow": {
     "slide_type": "slide"
    }
   },
   "source": [
    "## Exercise\n",
    "- Look at flask_API.py.\n",
    "- Add “try-except” to GET to return an empty JSON when an ‘id’ does not exist.\n",
    "- Are there other potential sources of error here?"
   ]
  },
  {
   "cell_type": "markdown",
   "metadata": {
    "slideshow": {
     "slide_type": "slide"
    }
   },
   "source": [
    "```{seealso} \n",
    ":class: tip\n",
    "\n",
    "## Resources\n",
    "- [Wikipedia: REST](https://en.wikipedia.org/wiki/Representational_state_transfer)\n",
    "- [Flask](https://palletsprojects.com/p/flask/) local HTTP server in Python.\n",
    "- [Strømpris API](https://www.hvakosterstrommen.no/strompris-api) (only in Norwegian)\n",
    "- [YouTube: What is a REST API?](https://youtu.be/lsMQRaeKNDk) (9m:11s)\n",
    "- [YouTube: REST API Crash Course - Introduction + Full Python API Tutorial](https://youtu.be/qbLc5a9jdXo) (52m:49s)\n",
    "```"
   ]
  }
 ],
 "metadata": {
  "celltoolbar": "Slideshow",
  "kernelspec": {
   "display_name": "ind320_25",
   "language": "python",
   "name": "python3"
  },
  "language_info": {
   "codemirror_mode": {
    "name": "ipython",
    "version": 3
   },
   "file_extension": ".py",
   "mimetype": "text/x-python",
   "name": "python",
   "nbconvert_exporter": "python",
   "pygments_lexer": "ipython3",
   "version": "3.12.10"
  }
 },
 "nbformat": 4,
 "nbformat_minor": 4
}