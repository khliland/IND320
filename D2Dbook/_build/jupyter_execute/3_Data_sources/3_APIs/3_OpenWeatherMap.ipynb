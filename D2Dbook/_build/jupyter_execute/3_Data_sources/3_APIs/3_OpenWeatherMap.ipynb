{
 "cells": [
  {
   "cell_type": "markdown",
   "metadata": {
    "slideshow": {
     "slide_type": "slide"
    }
   },
   "source": [
    "# Demonstration of API using OpenWeatherMap.org\n",
    "This demonstration is heavily inspired by [NeuralNine's video](https://www.youtube.com/watch?v=9P5MY_2i7K8).  \n",
    "You need a free account [from here](https://openweathermap.org/api).  \n",
    "The VS Code extension _JSON viewer_ is recommended for viewing downloaded JSON content.  \n",
    "  - Set your maximum API calls to 1000 per day to make sure you are under the limit for billing. \n",
    "  - To run the examples, download your API key, save it in the right folder (see below) in a file called _api\\_key\\_OpenWeather_, containing only the key (no spaces or \"enters\")."
   ]
  },
  {
   "cell_type": "code",
   "execution_count": 1,
   "metadata": {
    "ExecuteTime": {
     "end_time": "2024-08-17T10:19:06.946392Z",
     "start_time": "2024-08-17T10:19:06.887177Z"
    },
    "slideshow": {
     "slide_type": "fragment"
    },
    "tags": []
   },
   "outputs": [],
   "source": [
    "# Imports\n",
    "import datetime as dt\n",
    "import requests\n",
    "import json"
   ]
  },
  {
   "cell_type": "markdown",
   "metadata": {
    "slideshow": {
     "slide_type": "slide"
    }
   },
   "source": [
    "## Current weather\n",
    "### Common definitions to use for all requests"
   ]
  },
  {
   "cell_type": "code",
   "execution_count": 2,
   "metadata": {
    "ExecuteTime": {
     "end_time": "2024-08-17T10:19:06.950734Z",
     "start_time": "2024-08-17T10:19:06.948129Z"
    },
    "slideshow": {
     "slide_type": "fragment"
    },
    "tags": []
   },
   "outputs": [],
   "source": [
    "BASE_URL = \"http://api.openweathermap.org/data/2.5/weather?\"\n",
    "API_KEY = open('../../../No_sync/api_key_OpenWeather','r').read()\n",
    "CITY = \"Ski\"\n",
    "\n",
    "url = BASE_URL + \"q=\" + CITY + \"&appid=\" + API_KEY"
   ]
  },
  {
   "cell_type": "markdown",
   "metadata": {
    "slideshow": {
     "slide_type": "slide"
    }
   },
   "source": [
    "## Request current weather in chosen city"
   ]
  },
  {
   "cell_type": "code",
   "execution_count": 3,
   "metadata": {
    "ExecuteTime": {
     "end_time": "2024-08-17T10:19:07.346472Z",
     "start_time": "2024-08-17T10:19:06.951363Z"
    },
    "slideshow": {
     "slide_type": "fragment"
    },
    "tags": []
   },
   "outputs": [
    {
     "name": "stdout",
     "output_type": "stream",
     "text": [
      "{'coord': {'lon': 10.8358, 'lat': 59.7195}, 'weather': [{'id': 804, 'main': 'Clouds', 'description': 'overcast clouds', 'icon': '04d'}], 'base': 'stations', 'main': {'temp': 280.94, 'feels_like': 278.32, 'temp_min': 278.54, 'temp_max': 282.38, 'pressure': 991, 'humidity': 98, 'sea_level': 991, 'grnd_level': 974}, 'visibility': 10000, 'wind': {'speed': 4.23, 'deg': 190, 'gust': 11.34}, 'clouds': {'all': 100}, 'dt': 1732530817, 'sys': {'type': 2, 'id': 2006772, 'country': 'NO', 'sunrise': 1732520242, 'sunset': 1732545030}, 'timezone': 3600, 'id': 3139081, 'name': 'Ski', 'cod': 200}\n"
     ]
    }
   ],
   "source": [
    "response = requests.get(url).json()\n",
    "print(response)"
   ]
  },
  {
   "cell_type": "code",
   "execution_count": 4,
   "metadata": {
    "ExecuteTime": {
     "end_time": "2024-08-17T10:19:07.356894Z",
     "start_time": "2024-08-17T10:19:07.353047Z"
    },
    "slideshow": {
     "slide_type": "fragment"
    },
    "tags": []
   },
   "outputs": [],
   "source": [
    "# Write JSON to file for viewing\n",
    "with open('downloads/weather.json', 'w') as f:\n",
    "    json.dump(response, f, indent=4)"
   ]
  },
  {
   "cell_type": "markdown",
   "metadata": {
    "slideshow": {
     "slide_type": "slide"
    }
   },
   "source": [
    "## Conversion functions\n",
    "Changing scales can make results more interpretable"
   ]
  },
  {
   "cell_type": "code",
   "execution_count": 5,
   "metadata": {
    "ExecuteTime": {
     "end_time": "2024-08-17T10:19:07.360029Z",
     "start_time": "2024-08-17T10:19:07.358341Z"
    },
    "slideshow": {
     "slide_type": "fragment"
    },
    "tags": []
   },
   "outputs": [],
   "source": [
    "# Kelvin to Celsius\n",
    "def kelvin_to_celsius(temp):\n",
    "    return temp - 273.15\n",
    "\n",
    "# Meters per second to knots\n",
    "def mps_to_knots(speed):\n",
    "    return speed * 1.943844"
   ]
  },
  {
   "cell_type": "markdown",
   "metadata": {
    "slideshow": {
     "slide_type": "slide"
    }
   },
   "source": [
    "## Print some weather properties"
   ]
  },
  {
   "cell_type": "code",
   "execution_count": 6,
   "metadata": {
    "ExecuteTime": {
     "end_time": "2024-08-17T10:19:07.362209Z",
     "start_time": "2024-08-17T10:19:07.360604Z"
    },
    "slideshow": {
     "slide_type": "fragment"
    },
    "tags": []
   },
   "outputs": [
    {
     "name": "stdout",
     "output_type": "stream",
     "text": [
      "The current temperature in Ski is 7.8 °C\n"
     ]
    }
   ],
   "source": [
    "# Current temperature\n",
    "temp_kelvin = response['main']['temp']\n",
    "temp_celsius = kelvin_to_celsius(temp_kelvin)\n",
    "print(f\"The current temperature in {CITY} is {temp_celsius:.1f} °C\")"
   ]
  },
  {
   "cell_type": "code",
   "execution_count": 7,
   "metadata": {
    "ExecuteTime": {
     "end_time": "2024-08-17T10:19:07.364358Z",
     "start_time": "2024-08-17T10:19:07.362759Z"
    },
    "slideshow": {
     "slide_type": "slide"
    },
    "tags": []
   },
   "outputs": [
    {
     "name": "stdout",
     "output_type": "stream",
     "text": [
      "Sunrise today is at 08:37 and sunset is at 15:30\n"
     ]
    }
   ],
   "source": [
    "# Sunrise and sunset today in local time\n",
    "sunrise = dt.datetime.fromtimestamp(response['sys']['sunrise'])\n",
    "sunset = dt.datetime.fromtimestamp(response['sys']['sunset'])\n",
    "print(f\"Sunrise today is at {sunrise:%H:%M} and sunset is at {sunset:%H:%M}\")"
   ]
  },
  {
   "cell_type": "code",
   "execution_count": 8,
   "metadata": {
    "ExecuteTime": {
     "end_time": "2024-08-17T10:19:07.367002Z",
     "start_time": "2024-08-17T10:19:07.365133Z"
    },
    "slideshow": {
     "slide_type": "fragment"
    },
    "tags": []
   },
   "outputs": [
    {
     "name": "stdout",
     "output_type": "stream",
     "text": [
      "Wind today is from 190° at 8.2 knots\n"
     ]
    }
   ],
   "source": [
    "# Wind direction and speed\n",
    "wind_knots = mps_to_knots(response['wind']['speed'])\n",
    "print(f\"Wind today is from {response['wind']['deg']}° at {round(wind_knots,1)} knots\")"
   ]
  },
  {
   "cell_type": "markdown",
   "metadata": {
    "slideshow": {
     "slide_type": "slide"
    }
   },
   "source": [
    "## Forecasted weather\n",
    "### Common definitions to use for all requests"
   ]
  },
  {
   "cell_type": "code",
   "execution_count": 9,
   "metadata": {
    "ExecuteTime": {
     "end_time": "2024-08-17T10:19:07.369150Z",
     "start_time": "2024-08-17T10:19:07.367438Z"
    },
    "slideshow": {
     "slide_type": "fragment"
    },
    "tags": []
   },
   "outputs": [],
   "source": [
    "BASE_URL = \"https://api.openweathermap.org/data/2.5/forecast?\"\n",
    "CITY = \"Mo i Rana\"\n",
    "\n",
    "urlF = BASE_URL + \"q=\" + CITY + \"&appid=\" + API_KEY"
   ]
  },
  {
   "cell_type": "markdown",
   "metadata": {
    "slideshow": {
     "slide_type": "slide"
    }
   },
   "source": [
    "## Request forecasted weather in chosen city"
   ]
  },
  {
   "cell_type": "code",
   "execution_count": 10,
   "metadata": {
    "ExecuteTime": {
     "end_time": "2024-08-17T10:19:07.505916Z",
     "start_time": "2024-08-17T10:19:07.369779Z"
    },
    "slideshow": {
     "slide_type": "fragment"
    },
    "tags": []
   },
   "outputs": [
    {
     "name": "stdout",
     "output_type": "stream",
     "text": [
      "{'cod': '200', 'message': 0, 'cnt': 40, 'list': [{'dt': 1732536000, 'main': {'temp': 275.46, 'feels_like': 275.46, 'temp_min': 275.46, 'temp_max': 275.93, 'pressure': 983, 'sea_level': 983, 'grnd_level': 933, 'humidity': 93, 'temp_kf': -0.47}, 'weather': [{'id': 600, 'main': 'Snow', 'description': 'light snow', 'icon': '13d'}], 'clouds': {'all': 75}, 'wind': {'speed': 0.54, 'deg': 233, 'gust': 0.31}, 'visibility': 887, 'pop': 1, 'snow': {'3h': 0.95}, 'sys': {'pod': 'd'}, 'dt_txt': '2024-11-25 12:00:00'}, {'dt': 1732546800, 'main': {'temp': 275.78, 'feels_like': 275.78, 'temp_min': 275.78, 'temp_max': 276.42, 'pressure': 984, 'sea_level': 984, 'grnd_level': 934, 'humidity': 94, 'temp_kf': -0.64}, 'weather': [{'id': 500, 'main': 'Rain', 'description': 'light rain', 'icon': '10n'}], 'clouds': {'all': 83}, 'wind': {'speed': 0.54, 'deg': 93, 'gust': 0.24}, 'visibility': 10000, 'pop': 0.54, 'rain': {'3h': 0.27}, 'sys': {'pod': 'n'}, 'dt_txt': '2024-11-25 15:00:00'}, {'dt': 1732557600, 'main': {'temp': 275.42, 'feels_like': 275.42, 'temp_min': 275.4, 'temp_max': 275.42, 'pressure': 985, 'sea_level': 985, 'grnd_level': 935, 'humidity': 95, 'temp_kf': 0.02}, 'weather': [{'id': 500, 'main': 'Rain', 'description': 'light rain', 'icon': '10n'}], 'clouds': {'all': 92}, 'wind': {'speed': 0.39, 'deg': 267, 'gust': 0.29}, 'visibility': 3110, 'pop': 0.69, 'rain': {'3h': 0.34}, 'sys': {'pod': 'n'}, 'dt_txt': '2024-11-25 18:00:00'}, {'dt': 1732568400, 'main': {'temp': 275.12, 'feels_like': 275.12, 'temp_min': 275.12, 'temp_max': 275.12, 'pressure': 986, 'sea_level': 986, 'grnd_level': 935, 'humidity': 95, 'temp_kf': 0}, 'weather': [{'id': 500, 'main': 'Rain', 'description': 'light rain', 'icon': '10n'}, {'id': 511, 'main': 'Rain', 'description': 'freezing rain', 'icon': '13n'}], 'clouds': {'all': 100}, 'wind': {'speed': 0.38, 'deg': 72, 'gust': 0.32}, 'visibility': 10000, 'pop': 1, 'rain': {'3h': 2.17}, 'sys': {'pod': 'n'}, 'dt_txt': '2024-11-25 21:00:00'}, {'dt': 1732579200, 'main': {'temp': 273.85, 'feels_like': 273.85, 'temp_min': 273.85, 'temp_max': 273.85, 'pressure': 987, 'sea_level': 987, 'grnd_level': 935, 'humidity': 91, 'temp_kf': 0}, 'weather': [{'id': 600, 'main': 'Snow', 'description': 'light snow', 'icon': '13n'}], 'clouds': {'all': 98}, 'wind': {'speed': 1.24, 'deg': 164, 'gust': 1.07}, 'visibility': 10000, 'pop': 1, 'snow': {'3h': 0.12}, 'sys': {'pod': 'n'}, 'dt_txt': '2024-11-26 00:00:00'}, {'dt': 1732590000, 'main': {'temp': 275.07, 'feels_like': 275.07, 'temp_min': 275.07, 'temp_max': 275.07, 'pressure': 987, 'sea_level': 987, 'grnd_level': 936, 'humidity': 97, 'temp_kf': 0}, 'weather': [{'id': 600, 'main': 'Snow', 'description': 'light snow', 'icon': '13n'}], 'clouds': {'all': 100}, 'wind': {'speed': 0.38, 'deg': 127, 'gust': 0.21}, 'visibility': 10000, 'pop': 0.39, 'snow': {'3h': 0.27}, 'sys': {'pod': 'n'}, 'dt_txt': '2024-11-26 03:00:00'}, {'dt': 1732600800, 'main': {'temp': 275, 'feels_like': 275, 'temp_min': 275, 'temp_max': 275, 'pressure': 989, 'sea_level': 989, 'grnd_level': 938, 'humidity': 99, 'temp_kf': 0}, 'weather': [{'id': 600, 'main': 'Snow', 'description': 'light snow', 'icon': '13n'}], 'clouds': {'all': 100}, 'wind': {'speed': 1.33, 'deg': 296, 'gust': 1.63}, 'visibility': 121, 'pop': 1, 'snow': {'3h': 0.91}, 'sys': {'pod': 'n'}, 'dt_txt': '2024-11-26 06:00:00'}, {'dt': 1732611600, 'main': {'temp': 275.18, 'feels_like': 273.82, 'temp_min': 275.18, 'temp_max': 275.18, 'pressure': 993, 'sea_level': 993, 'grnd_level': 942, 'humidity': 98, 'temp_kf': 0}, 'weather': [{'id': 601, 'main': 'Snow', 'description': 'snow', 'icon': '13d'}], 'clouds': {'all': 100}, 'wind': {'speed': 1.43, 'deg': 331, 'gust': 1.76}, 'visibility': 1010, 'pop': 1, 'snow': {'3h': 1.83}, 'sys': {'pod': 'd'}, 'dt_txt': '2024-11-26 09:00:00'}, {'dt': 1732622400, 'main': {'temp': 273.86, 'feels_like': 271.4, 'temp_min': 273.86, 'temp_max': 273.86, 'pressure': 997, 'sea_level': 997, 'grnd_level': 945, 'humidity': 95, 'temp_kf': 0}, 'weather': [{'id': 600, 'main': 'Snow', 'description': 'light snow', 'icon': '13d'}], 'clouds': {'all': 100}, 'wind': {'speed': 2.1, 'deg': 351, 'gust': 2.04}, 'visibility': 5117, 'pop': 1, 'snow': {'3h': 0.39}, 'sys': {'pod': 'd'}, 'dt_txt': '2024-11-26 12:00:00'}, {'dt': 1732633200, 'main': {'temp': 271.28, 'feels_like': 269.03, 'temp_min': 271.28, 'temp_max': 271.28, 'pressure': 1002, 'sea_level': 1002, 'grnd_level': 950, 'humidity': 96, 'temp_kf': 0}, 'weather': [{'id': 600, 'main': 'Snow', 'description': 'light snow', 'icon': '13n'}], 'clouds': {'all': 100}, 'wind': {'speed': 1.64, 'deg': 5, 'gust': 1.37}, 'visibility': 6878, 'pop': 0.3, 'snow': {'3h': 0.28}, 'sys': {'pod': 'n'}, 'dt_txt': '2024-11-26 15:00:00'}, {'dt': 1732644000, 'main': {'temp': 268.36, 'feels_like': 265.23, 'temp_min': 268.36, 'temp_max': 268.36, 'pressure': 1007, 'sea_level': 1007, 'grnd_level': 954, 'humidity': 96, 'temp_kf': 0}, 'weather': [{'id': 804, 'main': 'Clouds', 'description': 'overcast clouds', 'icon': '04n'}], 'clouds': {'all': 98}, 'wind': {'speed': 1.92, 'deg': 62, 'gust': 2}, 'visibility': 7638, 'pop': 0, 'sys': {'pod': 'n'}, 'dt_txt': '2024-11-26 18:00:00'}, {'dt': 1732654800, 'main': {'temp': 265.04, 'feels_like': 260.74, 'temp_min': 265.04, 'temp_max': 265.04, 'pressure': 1010, 'sea_level': 1010, 'grnd_level': 956, 'humidity': 93, 'temp_kf': 0}, 'weather': [{'id': 803, 'main': 'Clouds', 'description': 'broken clouds', 'icon': '04n'}], 'clouds': {'all': 81}, 'wind': {'speed': 2.34, 'deg': 85, 'gust': 2.66}, 'visibility': 10000, 'pop': 0, 'sys': {'pod': 'n'}, 'dt_txt': '2024-11-26 21:00:00'}, {'dt': 1732665600, 'main': {'temp': 262.75, 'feels_like': 257.87, 'temp_min': 262.75, 'temp_max': 262.75, 'pressure': 1013, 'sea_level': 1013, 'grnd_level': 959, 'humidity': 93, 'temp_kf': 0}, 'weather': [{'id': 803, 'main': 'Clouds', 'description': 'broken clouds', 'icon': '04n'}], 'clouds': {'all': 78}, 'wind': {'speed': 2.46, 'deg': 76, 'gust': 2.6}, 'visibility': 10000, 'pop': 0, 'sys': {'pod': 'n'}, 'dt_txt': '2024-11-27 00:00:00'}, {'dt': 1732676400, 'main': {'temp': 262.17, 'feels_like': 257.27, 'temp_min': 262.17, 'temp_max': 262.17, 'pressure': 1015, 'sea_level': 1015, 'grnd_level': 960, 'humidity': 92, 'temp_kf': 0}, 'weather': [{'id': 802, 'main': 'Clouds', 'description': 'scattered clouds', 'icon': '03n'}], 'clouds': {'all': 38}, 'wind': {'speed': 2.4, 'deg': 82, 'gust': 2.6}, 'visibility': 10000, 'pop': 0, 'sys': {'pod': 'n'}, 'dt_txt': '2024-11-27 03:00:00'}, {'dt': 1732687200, 'main': {'temp': 262.05, 'feels_like': 257.89, 'temp_min': 262.05, 'temp_max': 262.05, 'pressure': 1017, 'sea_level': 1017, 'grnd_level': 962, 'humidity': 91, 'temp_kf': 0}, 'weather': [{'id': 802, 'main': 'Clouds', 'description': 'scattered clouds', 'icon': '03n'}], 'clouds': {'all': 35}, 'wind': {'speed': 1.93, 'deg': 84, 'gust': 2.28}, 'visibility': 10000, 'pop': 0, 'sys': {'pod': 'n'}, 'dt_txt': '2024-11-27 06:00:00'}, {'dt': 1732698000, 'main': {'temp': 261.15, 'feels_like': 257.82, 'temp_min': 261.15, 'temp_max': 261.15, 'pressure': 1018, 'sea_level': 1018, 'grnd_level': 963, 'humidity': 91, 'temp_kf': 0}, 'weather': [{'id': 802, 'main': 'Clouds', 'description': 'scattered clouds', 'icon': '03d'}], 'clouds': {'all': 28}, 'wind': {'speed': 1.45, 'deg': 84, 'gust': 1.75}, 'visibility': 10000, 'pop': 0, 'sys': {'pod': 'd'}, 'dt_txt': '2024-11-27 09:00:00'}, {'dt': 1732708800, 'main': {'temp': 260.89, 'feels_like': 260.89, 'temp_min': 260.89, 'temp_max': 260.89, 'pressure': 1019, 'sea_level': 1019, 'grnd_level': 964, 'humidity': 90, 'temp_kf': 0}, 'weather': [{'id': 802, 'main': 'Clouds', 'description': 'scattered clouds', 'icon': '03d'}], 'clouds': {'all': 37}, 'wind': {'speed': 1.26, 'deg': 79, 'gust': 1.6}, 'visibility': 10000, 'pop': 0, 'sys': {'pod': 'd'}, 'dt_txt': '2024-11-27 12:00:00'}, {'dt': 1732719600, 'main': {'temp': 259.81, 'feels_like': 259.81, 'temp_min': 259.81, 'temp_max': 259.81, 'pressure': 1020, 'sea_level': 1020, 'grnd_level': 964, 'humidity': 91, 'temp_kf': 0}, 'weather': [{'id': 803, 'main': 'Clouds', 'description': 'broken clouds', 'icon': '04n'}], 'clouds': {'all': 51}, 'wind': {'speed': 1.18, 'deg': 83, 'gust': 1.58}, 'visibility': 10000, 'pop': 0, 'sys': {'pod': 'n'}, 'dt_txt': '2024-11-27 15:00:00'}, {'dt': 1732730400, 'main': {'temp': 259.41, 'feels_like': 259.41, 'temp_min': 259.41, 'temp_max': 259.41, 'pressure': 1021, 'sea_level': 1021, 'grnd_level': 965, 'humidity': 91, 'temp_kf': 0}, 'weather': [{'id': 803, 'main': 'Clouds', 'description': 'broken clouds', 'icon': '04n'}], 'clouds': {'all': 51}, 'wind': {'speed': 1.15, 'deg': 83, 'gust': 1.45}, 'visibility': 10000, 'pop': 0, 'sys': {'pod': 'n'}, 'dt_txt': '2024-11-27 18:00:00'}, {'dt': 1732741200, 'main': {'temp': 259.09, 'feels_like': 259.09, 'temp_min': 259.09, 'temp_max': 259.09, 'pressure': 1021, 'sea_level': 1021, 'grnd_level': 965, 'humidity': 92, 'temp_kf': 0}, 'weather': [{'id': 803, 'main': 'Clouds', 'description': 'broken clouds', 'icon': '04n'}], 'clouds': {'all': 53}, 'wind': {'speed': 0.84, 'deg': 72, 'gust': 1.12}, 'visibility': 10000, 'pop': 0, 'sys': {'pod': 'n'}, 'dt_txt': '2024-11-27 21:00:00'}, {'dt': 1732752000, 'main': {'temp': 258.71, 'feels_like': 258.71, 'temp_min': 258.71, 'temp_max': 258.71, 'pressure': 1021, 'sea_level': 1021, 'grnd_level': 965, 'humidity': 94, 'temp_kf': 0}, 'weather': [{'id': 803, 'main': 'Clouds', 'description': 'broken clouds', 'icon': '04n'}], 'clouds': {'all': 52}, 'wind': {'speed': 0.7, 'deg': 66, 'gust': 0.77}, 'visibility': 10000, 'pop': 0, 'sys': {'pod': 'n'}, 'dt_txt': '2024-11-28 00:00:00'}, {'dt': 1732762800, 'main': {'temp': 258.7, 'feels_like': 258.7, 'temp_min': 258.7, 'temp_max': 258.7, 'pressure': 1021, 'sea_level': 1021, 'grnd_level': 965, 'humidity': 96, 'temp_kf': 0}, 'weather': [{'id': 803, 'main': 'Clouds', 'description': 'broken clouds', 'icon': '04n'}], 'clouds': {'all': 69}, 'wind': {'speed': 0.67, 'deg': 57, 'gust': 0.72}, 'visibility': 10000, 'pop': 0, 'sys': {'pod': 'n'}, 'dt_txt': '2024-11-28 03:00:00'}, {'dt': 1732773600, 'main': {'temp': 262.35, 'feels_like': 262.35, 'temp_min': 262.35, 'temp_max': 262.35, 'pressure': 1021, 'sea_level': 1021, 'grnd_level': 965, 'humidity': 97, 'temp_kf': 0}, 'weather': [{'id': 803, 'main': 'Clouds', 'description': 'broken clouds', 'icon': '04n'}], 'clouds': {'all': 82}, 'wind': {'speed': 0.97, 'deg': 74, 'gust': 0.78}, 'pop': 0, 'sys': {'pod': 'n'}, 'dt_txt': '2024-11-28 06:00:00'}, {'dt': 1732784400, 'main': {'temp': 264.93, 'feels_like': 264.93, 'temp_min': 264.93, 'temp_max': 264.93, 'pressure': 1019, 'sea_level': 1019, 'grnd_level': 965, 'humidity': 98, 'temp_kf': 0}, 'weather': [{'id': 600, 'main': 'Snow', 'description': 'light snow', 'icon': '13d'}], 'clouds': {'all': 100}, 'wind': {'speed': 0.79, 'deg': 54, 'gust': 0.25}, 'pop': 0.26, 'snow': {'3h': 0.18}, 'sys': {'pod': 'd'}, 'dt_txt': '2024-11-28 09:00:00'}, {'dt': 1732795200, 'main': {'temp': 269.05, 'feels_like': 269.05, 'temp_min': 269.05, 'temp_max': 269.05, 'pressure': 1017, 'sea_level': 1017, 'grnd_level': 963, 'humidity': 97, 'temp_kf': 0}, 'weather': [{'id': 601, 'main': 'Snow', 'description': 'snow', 'icon': '13d'}], 'clouds': {'all': 100}, 'wind': {'speed': 1.13, 'deg': 255, 'gust': 1.13}, 'visibility': 104, 'pop': 1, 'snow': {'3h': 1.81}, 'sys': {'pod': 'd'}, 'dt_txt': '2024-11-28 12:00:00'}, {'dt': 1732806000, 'main': {'temp': 272.77, 'feels_like': 270.88, 'temp_min': 272.77, 'temp_max': 272.77, 'pressure': 1014, 'sea_level': 1014, 'grnd_level': 961, 'humidity': 98, 'temp_kf': 0}, 'weather': [{'id': 601, 'main': 'Snow', 'description': 'snow', 'icon': '13n'}], 'clouds': {'all': 100}, 'wind': {'speed': 1.55, 'deg': 245, 'gust': 2.77}, 'visibility': 87, 'pop': 1, 'snow': {'3h': 4.27}, 'sys': {'pod': 'n'}, 'dt_txt': '2024-11-28 15:00:00'}, {'dt': 1732816800, 'main': {'temp': 275.57, 'feels_like': 270.23, 'temp_min': 275.57, 'temp_max': 275.57, 'pressure': 1015, 'sea_level': 1015, 'grnd_level': 962, 'humidity': 97, 'temp_kf': 0}, 'weather': [{'id': 601, 'main': 'Snow', 'description': 'snow', 'icon': '13n'}], 'clouds': {'all': 100}, 'wind': {'speed': 7.3, 'deg': 258, 'gust': 13.82}, 'visibility': 436, 'pop': 1, 'snow': {'3h': 3.21}, 'sys': {'pod': 'n'}, 'dt_txt': '2024-11-28 18:00:00'}, {'dt': 1732827600, 'main': {'temp': 272.81, 'feels_like': 266.45, 'temp_min': 272.81, 'temp_max': 272.81, 'pressure': 1017, 'sea_level': 1017, 'grnd_level': 964, 'humidity': 94, 'temp_kf': 0}, 'weather': [{'id': 601, 'main': 'Snow', 'description': 'snow', 'icon': '13n'}], 'clouds': {'all': 100}, 'wind': {'speed': 7.83, 'deg': 276, 'gust': 13.82}, 'visibility': 196, 'pop': 1, 'snow': {'3h': 1.94}, 'sys': {'pod': 'n'}, 'dt_txt': '2024-11-28 21:00:00'}, {'dt': 1732838400, 'main': {'temp': 270.26, 'feels_like': 263.26, 'temp_min': 270.26, 'temp_max': 270.26, 'pressure': 1020, 'sea_level': 1020, 'grnd_level': 966, 'humidity': 94, 'temp_kf': 0}, 'weather': [{'id': 601, 'main': 'Snow', 'description': 'snow', 'icon': '13n'}], 'clouds': {'all': 100}, 'wind': {'speed': 8.42, 'deg': 274, 'gust': 14.15}, 'visibility': 175, 'pop': 1, 'snow': {'3h': 2.02}, 'sys': {'pod': 'n'}, 'dt_txt': '2024-11-29 00:00:00'}, {'dt': 1732849200, 'main': {'temp': 269.85, 'feels_like': 262.96, 'temp_min': 269.85, 'temp_max': 269.85, 'pressure': 1021, 'sea_level': 1021, 'grnd_level': 968, 'humidity': 94, 'temp_kf': 0}, 'weather': [{'id': 601, 'main': 'Snow', 'description': 'snow', 'icon': '13n'}], 'clouds': {'all': 100}, 'wind': {'speed': 7.08, 'deg': 272, 'gust': 13.02}, 'visibility': 162, 'pop': 1, 'snow': {'3h': 2.18}, 'sys': {'pod': 'n'}, 'dt_txt': '2024-11-29 03:00:00'}, {'dt': 1732860000, 'main': {'temp': 270.21, 'feels_like': 264.12, 'temp_min': 270.21, 'temp_max': 270.21, 'pressure': 1022, 'sea_level': 1022, 'grnd_level': 968, 'humidity': 93, 'temp_kf': 0}, 'weather': [{'id': 601, 'main': 'Snow', 'description': 'snow', 'icon': '13n'}], 'clouds': {'all': 100}, 'wind': {'speed': 5.72, 'deg': 262, 'gust': 12.09}, 'visibility': 274, 'pop': 1, 'snow': {'3h': 1.86}, 'sys': {'pod': 'n'}, 'dt_txt': '2024-11-29 06:00:00'}, {'dt': 1732870800, 'main': {'temp': 269.72, 'feels_like': 264.46, 'temp_min': 269.72, 'temp_max': 269.72, 'pressure': 1023, 'sea_level': 1023, 'grnd_level': 969, 'humidity': 93, 'temp_kf': 0}, 'weather': [{'id': 600, 'main': 'Snow', 'description': 'light snow', 'icon': '13d'}], 'clouds': {'all': 100}, 'wind': {'speed': 4.25, 'deg': 254, 'gust': 8.27}, 'visibility': 1978, 'pop': 1, 'snow': {'3h': 0.74}, 'sys': {'pod': 'd'}, 'dt_txt': '2024-11-29 09:00:00'}, {'dt': 1732881600, 'main': {'temp': 270.01, 'feels_like': 266.36, 'temp_min': 270.01, 'temp_max': 270.01, 'pressure': 1024, 'sea_level': 1024, 'grnd_level': 970, 'humidity': 96, 'temp_kf': 0}, 'weather': [{'id': 600, 'main': 'Snow', 'description': 'light snow', 'icon': '13d'}], 'clouds': {'all': 100}, 'wind': {'speed': 2.54, 'deg': 229, 'gust': 2.43}, 'visibility': 225, 'pop': 1, 'snow': {'3h': 0.51}, 'sys': {'pod': 'd'}, 'dt_txt': '2024-11-29 12:00:00'}, {'dt': 1732892400, 'main': {'temp': 270.1, 'feels_like': 267.13, 'temp_min': 270.1, 'temp_max': 270.1, 'pressure': 1023, 'sea_level': 1023, 'grnd_level': 969, 'humidity': 96, 'temp_kf': 0}, 'weather': [{'id': 600, 'main': 'Snow', 'description': 'light snow', 'icon': '13n'}], 'clouds': {'all': 100}, 'wind': {'speed': 2.01, 'deg': 222, 'gust': 2}, 'visibility': 458, 'pop': 1, 'snow': {'3h': 0.89}, 'sys': {'pod': 'n'}, 'dt_txt': '2024-11-29 15:00:00'}, {'dt': 1732903200, 'main': {'temp': 269.34, 'feels_like': 269.34, 'temp_min': 269.34, 'temp_max': 269.34, 'pressure': 1023, 'sea_level': 1023, 'grnd_level': 969, 'humidity': 96, 'temp_kf': 0}, 'weather': [{'id': 600, 'main': 'Snow', 'description': 'light snow', 'icon': '13n'}], 'clouds': {'all': 100}, 'wind': {'speed': 0.83, 'deg': 186, 'gust': 1.16}, 'visibility': 351, 'pop': 1, 'snow': {'3h': 0.43}, 'sys': {'pod': 'n'}, 'dt_txt': '2024-11-29 18:00:00'}, {'dt': 1732914000, 'main': {'temp': 269.67, 'feels_like': 267.22, 'temp_min': 269.67, 'temp_max': 269.67, 'pressure': 1022, 'sea_level': 1022, 'grnd_level': 968, 'humidity': 96, 'temp_kf': 0}, 'weather': [{'id': 600, 'main': 'Snow', 'description': 'light snow', 'icon': '13n'}], 'clouds': {'all': 100}, 'wind': {'speed': 1.62, 'deg': 69, 'gust': 1.63}, 'visibility': 271, 'pop': 1, 'snow': {'3h': 0.72}, 'sys': {'pod': 'n'}, 'dt_txt': '2024-11-29 21:00:00'}, {'dt': 1732924800, 'main': {'temp': 269.49, 'feels_like': 266.27, 'temp_min': 269.49, 'temp_max': 269.49, 'pressure': 1021, 'sea_level': 1021, 'grnd_level': 967, 'humidity': 96, 'temp_kf': 0}, 'weather': [{'id': 601, 'main': 'Snow', 'description': 'snow', 'icon': '13n'}], 'clouds': {'all': 100}, 'wind': {'speed': 2.12, 'deg': 56, 'gust': 2.17}, 'visibility': 149, 'pop': 1, 'snow': {'3h': 2.19}, 'sys': {'pod': 'n'}, 'dt_txt': '2024-11-30 00:00:00'}, {'dt': 1732935600, 'main': {'temp': 269.41, 'feels_like': 266.15, 'temp_min': 269.41, 'temp_max': 269.41, 'pressure': 1020, 'sea_level': 1020, 'grnd_level': 966, 'humidity': 96, 'temp_kf': 0}, 'weather': [{'id': 601, 'main': 'Snow', 'description': 'snow', 'icon': '13n'}], 'clouds': {'all': 100}, 'wind': {'speed': 2.14, 'deg': 52, 'gust': 2.3}, 'visibility': 156, 'pop': 1, 'snow': {'3h': 3.3}, 'sys': {'pod': 'n'}, 'dt_txt': '2024-11-30 03:00:00'}, {'dt': 1732946400, 'main': {'temp': 269.76, 'feels_like': 266.57, 'temp_min': 269.76, 'temp_max': 269.76, 'pressure': 1019, 'sea_level': 1019, 'grnd_level': 965, 'humidity': 96, 'temp_kf': 0}, 'weather': [{'id': 601, 'main': 'Snow', 'description': 'snow', 'icon': '13n'}], 'clouds': {'all': 100}, 'wind': {'speed': 2.13, 'deg': 66, 'gust': 2.9}, 'visibility': 151, 'pop': 1, 'snow': {'3h': 3.03}, 'sys': {'pod': 'n'}, 'dt_txt': '2024-11-30 06:00:00'}, {'dt': 1732957200, 'main': {'temp': 270.57, 'feels_like': 267.32, 'temp_min': 270.57, 'temp_max': 270.57, 'pressure': 1018, 'sea_level': 1018, 'grnd_level': 964, 'humidity': 97, 'temp_kf': 0}, 'weather': [{'id': 601, 'main': 'Snow', 'description': 'snow', 'icon': '13d'}], 'clouds': {'all': 100}, 'wind': {'speed': 2.29, 'deg': 50, 'gust': 1.98}, 'visibility': 111, 'pop': 1, 'snow': {'3h': 3.24}, 'sys': {'pod': 'd'}, 'dt_txt': '2024-11-30 09:00:00'}], 'city': {'id': 3145614, 'name': 'Mo i Rana', 'coord': {'lat': 66.3128, 'lon': 14.1428}, 'country': 'NO', 'population': 17853, 'timezone': 3600, 'sunrise': 1732523662, 'sunset': 1732540022}}\n"
     ]
    }
   ],
   "source": [
    "responseF = requests.get(urlF).json()\n",
    "#print(json.dumps(responseF, indent=4))\n",
    "print(responseF)"
   ]
  },
  {
   "cell_type": "code",
   "execution_count": 11,
   "metadata": {
    "ExecuteTime": {
     "end_time": "2024-08-17T10:19:07.510514Z",
     "start_time": "2024-08-17T10:19:07.506586Z"
    },
    "slideshow": {
     "slide_type": "slide"
    },
    "tags": []
   },
   "outputs": [],
   "source": [
    "# Write JSON to file for viewing\n",
    "with open('downloads/forecast.json', 'w') as f:\n",
    "    json.dump(responseF, f, indent=4)"
   ]
  },
  {
   "cell_type": "markdown",
   "metadata": {
    "slideshow": {
     "slide_type": "slide"
    }
   },
   "source": [
    "### When and what?\n",
    "Check contents and time stamps"
   ]
  },
  {
   "cell_type": "code",
   "execution_count": 12,
   "metadata": {
    "ExecuteTime": {
     "end_time": "2024-08-17T10:19:07.514214Z",
     "start_time": "2024-08-17T10:19:07.511162Z"
    },
    "slideshow": {
     "slide_type": "fragment"
    },
    "tags": []
   },
   "outputs": [
    {
     "data": {
      "text/plain": [
       "dict_keys(['cod', 'message', 'cnt', 'list', 'city'])"
      ]
     },
     "execution_count": 12,
     "metadata": {},
     "output_type": "execute_result"
    }
   ],
   "source": [
    "# Content of responseF\n",
    "responseF.keys()"
   ]
  },
  {
   "cell_type": "code",
   "execution_count": 13,
   "metadata": {
    "ExecuteTime": {
     "end_time": "2024-08-17T10:19:07.516813Z",
     "start_time": "2024-08-17T10:19:07.514918Z"
    },
    "slideshow": {
     "slide_type": "fragment"
    },
    "tags": []
   },
   "outputs": [
    {
     "name": "stdout",
     "output_type": "stream",
     "text": [
      "40\n"
     ]
    }
   ],
   "source": [
    "# Number of forecasts\n",
    "print(len(responseF[\"list\"]))"
   ]
  },
  {
   "cell_type": "code",
   "execution_count": 14,
   "metadata": {
    "ExecuteTime": {
     "end_time": "2024-08-17T10:19:07.520443Z",
     "start_time": "2024-08-17T10:19:07.518884Z"
    },
    "slideshow": {
     "slide_type": "slide"
    },
    "tags": []
   },
   "outputs": [
    {
     "name": "stdout",
     "output_type": "stream",
     "text": [
      "2024-11-25 12:00:00\n",
      "2024-11-25 15:00:00\n",
      "2024-11-25 18:00:00\n",
      "2024-11-25 21:00:00\n",
      "2024-11-26 00:00:00\n",
      "2024-11-26 03:00:00\n",
      "2024-11-26 06:00:00\n",
      "2024-11-26 09:00:00\n",
      "2024-11-26 12:00:00\n",
      "2024-11-26 15:00:00\n",
      "2024-11-26 18:00:00\n",
      "2024-11-26 21:00:00\n",
      "2024-11-27 00:00:00\n",
      "2024-11-27 03:00:00\n",
      "2024-11-27 06:00:00\n",
      "2024-11-27 09:00:00\n",
      "2024-11-27 12:00:00\n",
      "2024-11-27 15:00:00\n",
      "2024-11-27 18:00:00\n",
      "2024-11-27 21:00:00\n",
      "2024-11-28 00:00:00\n",
      "2024-11-28 03:00:00\n",
      "2024-11-28 06:00:00\n",
      "2024-11-28 09:00:00\n",
      "2024-11-28 12:00:00\n",
      "2024-11-28 15:00:00\n",
      "2024-11-28 18:00:00\n",
      "2024-11-28 21:00:00\n",
      "2024-11-29 00:00:00\n",
      "2024-11-29 03:00:00\n",
      "2024-11-29 06:00:00\n",
      "2024-11-29 09:00:00\n",
      "2024-11-29 12:00:00\n",
      "2024-11-29 15:00:00\n",
      "2024-11-29 18:00:00\n",
      "2024-11-29 21:00:00\n",
      "2024-11-30 00:00:00\n",
      "2024-11-30 03:00:00\n",
      "2024-11-30 06:00:00\n",
      "2024-11-30 09:00:00\n"
     ]
    }
   ],
   "source": [
    "# Print forecast times\n",
    "for forecast in responseF[\"list\"]:\n",
    "    print(forecast[\"dt_txt\"])"
   ]
  },
  {
   "cell_type": "markdown",
   "metadata": {
    "slideshow": {
     "slide_type": "slide"
    }
   },
   "source": [
    "## Make plots of omnipresent measurements and events\n",
    "We will later look at missing data, data only sporadically appearing and so on."
   ]
  },
  {
   "cell_type": "code",
   "execution_count": 15,
   "metadata": {
    "ExecuteTime": {
     "end_time": "2024-08-17T10:19:07.522603Z",
     "start_time": "2024-08-17T10:19:07.521029Z"
    },
    "slideshow": {
     "slide_type": "fragment"
    },
    "tags": []
   },
   "outputs": [],
   "source": [
    "# Air pressure per period\n",
    "pressures = []\n",
    "timestamps = []\n",
    "for forecast in responseF[\"list\"]:\n",
    "    pressures.append(forecast[\"main\"][\"pressure\"])\n",
    "    timestamps.append(dt.datetime.fromtimestamp(forecast[\"dt\"]))"
   ]
  },
  {
   "cell_type": "code",
   "execution_count": 16,
   "metadata": {
    "ExecuteTime": {
     "end_time": "2024-08-17T10:19:08.124779Z",
     "start_time": "2024-08-17T10:19:07.523100Z"
    },
    "slideshow": {
     "slide_type": "slide"
    },
    "tags": []
   },
   "outputs": [
    {
     "data": {
      "image/png": "[encoded data removed]",
      "text/plain": [
       "<Figure size 640x480 with 1 Axes>"
      ]
     },
     "metadata": {},
     "output_type": "display_data"
    }
   ],
   "source": [
    "import matplotlib.pyplot as plt\n",
    "plt.bar(timestamps, pressures)\n",
    "plt.xticks(rotation=45)\n",
    "plt.ylim(980, 1050)\n",
    "plt.grid()\n",
    "plt.ylabel(\"Air pressure (hPa)\")\n",
    "plt.title(f\"Forecasted air pressure in {CITY}\")\n",
    "plt.show()"
   ]
  },
  {
   "cell_type": "markdown",
   "metadata": {
    "slideshow": {
     "slide_type": "slide"
    }
   },
   "source": [
    "## Exercise\n",
    "- Make a new forecast request for your own hometown. Call your response something else than responseF.\n",
    "- If available, plot the humidity like we did with air pressure."
   ]
  },
  {
   "cell_type": "markdown",
   "metadata": {
    "slideshow": {
     "slide_type": "slide"
    }
   },
   "source": [
    "### Precipitation\n",
    "- ... comes in two main flavours: rain and snow.\n",
    "- We need to check which is present and set to zero if it is abscent."
   ]
  },
  {
   "cell_type": "code",
   "execution_count": 17,
   "metadata": {
    "ExecuteTime": {
     "end_time": "2024-08-17T10:19:08.128573Z",
     "start_time": "2024-08-17T10:19:08.125858Z"
    },
    "slideshow": {
     "slide_type": "fragment"
    },
    "tags": []
   },
   "outputs": [],
   "source": [
    "rain = []\n",
    "snow = []\n",
    "for forecast in responseF[\"list\"]:\n",
    "    try: # Check if rain is present in forecast\n",
    "        rain.append(forecast[\"rain\"][\"3h\"])\n",
    "    except KeyError:\n",
    "        rain.append(0)\n",
    "    try: # Check if snow is present in forecast\n",
    "        snow.append(forecast[\"snow\"][\"3h\"])\n",
    "    except KeyError:\n",
    "        snow.append(0)"
   ]
  },
  {
   "cell_type": "code",
   "execution_count": 18,
   "metadata": {
    "ExecuteTime": {
     "end_time": "2024-08-17T10:19:08.223315Z",
     "start_time": "2024-08-17T10:19:08.129282Z"
    },
    "slideshow": {
     "slide_type": "slide"
    },
    "tags": []
   },
   "outputs": [
    {
     "data": {
      "image/png": "[encoded data removed]",
      "text/plain": [
       "<Figure size 640x480 with 1 Axes>"
      ]
     },
     "metadata": {},
     "output_type": "display_data"
    }
   ],
   "source": [
    "# Stacked bar chart with rain and snow\n",
    "plt.bar(timestamps, rain, label=\"Rain\")\n",
    "plt.bar(timestamps, snow, label=\"Snow\")\n",
    "plt.xticks(rotation=45)\n",
    "plt.grid()\n",
    "plt.ylabel(\"Precipitation (mm)\")\n",
    "plt.title(f\"Forecasted precipitation in {CITY}\")\n",
    "plt.legend()\n",
    "plt.show()\n"
   ]
  },
  {
   "cell_type": "markdown",
   "metadata": {
    "slideshow": {
     "slide_type": "slide"
    }
   },
   "source": [
    "```{seealso} Resources\n",
    ":class: tip\n",
    "- [YouTube: NeuralNine's video (15m:32s)](https://www.youtube.com/watch?v=9P5MY_2i7K8)\n",
    "```"
   ]
  }
 ],
 "metadata": {
  "celltoolbar": "Slideshow",
  "kernelspec": {
   "display_name": "Python 3 (ipykernel)",
   "language": "python",
   "name": "python3"
  },
  "language_info": {
   "codemirror_mode": {
    "name": "ipython",
    "version": 3
   },
   "file_extension": ".py",
   "mimetype": "text/x-python",
   "name": "python",
   "nbconvert_exporter": "python",
   "pygments_lexer": "ipython3",
   "version": "3.12.4"
  }
 },
 "nbformat": 4,
 "nbformat_minor": 4
}