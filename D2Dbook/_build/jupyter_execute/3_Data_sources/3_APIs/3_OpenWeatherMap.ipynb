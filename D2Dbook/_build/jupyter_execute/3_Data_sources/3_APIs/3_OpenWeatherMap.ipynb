{
 "cells": [
  {
   "cell_type": "markdown",
   "metadata": {
    "slideshow": {
     "slide_type": "slide"
    }
   },
   "source": [
    "# Demonstration of API using OpenWeatherMap.org\n",
    "This demonstration is heavily inspired by [NeuralNine's video](https://www.youtube.com/watch?v=9P5MY_2i7K8).  \n",
    "You need a free account [from here](https://openweathermap.org/api).  \n",
    "The VS Code extension _JSON viewer_ is recommended for viewing downloaded JSON content.  \n",
    "  - Set your maximum API calls to 1000 per day to make sure you are under the limit for billing. \n",
    "  - To run the examples, download your API key, save it in the right folder (see below) in a file called _api\\_key\\_OpenWeather_, containing only the key (no spaces or \"enters\")."
   ]
  },
  {
   "cell_type": "code",
   "execution_count": 1,
   "metadata": {
    "ExecuteTime": {
     "end_time": "2024-08-17T10:19:06.946392Z",
     "start_time": "2024-08-17T10:19:06.887177Z"
    },
    "execution": {
     "iopub.execute_input": "2024-08-17T11:10:24.663699Z",
     "iopub.status.busy": "2024-08-17T11:10:24.663447Z",
     "iopub.status.idle": "2024-08-17T11:10:24.723696Z",
     "shell.execute_reply": "2024-08-17T11:10:24.723397Z"
    },
    "slideshow": {
     "slide_type": "fragment"
    }
   },
   "outputs": [],
   "source": [
    "# Imports\n",
    "import datetime as dt\n",
    "import requests\n",
    "import json"
   ]
  },
  {
   "cell_type": "markdown",
   "metadata": {
    "slideshow": {
     "slide_type": "slide"
    }
   },
   "source": [
    "## Current weather\n",
    "### Common definitions to use for all requests"
   ]
  },
  {
   "cell_type": "code",
   "execution_count": 2,
   "metadata": {
    "ExecuteTime": {
     "end_time": "2024-08-17T10:19:06.950734Z",
     "start_time": "2024-08-17T10:19:06.948129Z"
    },
    "execution": {
     "iopub.execute_input": "2024-08-17T11:10:24.725650Z",
     "iopub.status.busy": "2024-08-17T11:10:24.725525Z",
     "iopub.status.idle": "2024-08-17T11:10:24.727589Z",
     "shell.execute_reply": "2024-08-17T11:10:24.727371Z"
    },
    "slideshow": {
     "slide_type": "-"
    }
   },
   "outputs": [],
   "source": [
    "BASE_URL = \"http://api.openweathermap.org/data/2.5/weather?\"\n",
    "API_KEY = open('../../../No_sync/api_key_OpenWeather','r').read()\n",
    "CITY = \"Ski\"\n",
    "\n",
    "url = BASE_URL + \"q=\" + CITY + \"&appid=\" + API_KEY"
   ]
  },
  {
   "cell_type": "markdown",
   "metadata": {
    "slideshow": {
     "slide_type": "slide"
    }
   },
   "source": [
    "## Request current weather in chosen city"
   ]
  },
  {
   "cell_type": "code",
   "execution_count": 3,
   "metadata": {
    "ExecuteTime": {
     "end_time": "2024-08-17T10:19:07.346472Z",
     "start_time": "2024-08-17T10:19:06.951363Z"
    },
    "execution": {
     "iopub.execute_input": "2024-08-17T11:10:24.728855Z",
     "iopub.status.busy": "2024-08-17T11:10:24.728771Z",
     "iopub.status.idle": "2024-08-17T11:10:25.161921Z",
     "shell.execute_reply": "2024-08-17T11:10:25.161501Z"
    },
    "slideshow": {
     "slide_type": "fragment"
    }
   },
   "outputs": [
    {
     "name": "stdout",
     "output_type": "stream",
     "text": [
      "{'coord': {'lon': 10.8358, 'lat': 59.7195}, 'weather': [{'id': 800, 'main': 'Clear', 'description': 'clear sky', 'icon': '01d'}], 'base': 'stations', 'main': {'temp': 284.53, 'feels_like': 283.32, 'temp_min': 284.53, 'temp_max': 284.53, 'pressure': 1031, 'humidity': 61, 'sea_level': 1031, 'grnd_level': 1015}, 'visibility': 10000, 'wind': {'speed': 1.47, 'deg': 210, 'gust': 2.42}, 'clouds': {'all': 6}, 'dt': 1726825956, 'sys': {'type': 1, 'id': 1662, 'country': 'NO', 'sunrise': 1726808221, 'sunset': 1726852984}, 'timezone': 7200, 'id': 3139081, 'name': 'Ski', 'cod': 200}\n"
     ]
    }
   ],
   "source": [
    "response = requests.get(url).json()\n",
    "print(response)"
   ]
  },
  {
   "cell_type": "code",
   "execution_count": 4,
   "metadata": {
    "ExecuteTime": {
     "end_time": "2024-08-17T10:19:07.356894Z",
     "start_time": "2024-08-17T10:19:07.353047Z"
    },
    "execution": {
     "iopub.execute_input": "2024-08-17T11:10:25.200397Z",
     "iopub.status.busy": "2024-08-17T11:10:25.200119Z",
     "iopub.status.idle": "2024-08-17T11:10:25.202823Z",
     "shell.execute_reply": "2024-08-17T11:10:25.202533Z"
    },
    "slideshow": {
     "slide_type": "fragment"
    }
   },
   "outputs": [],
   "source": [
    "# Write JSON to file for viewing\n",
    "with open('downloads/weather.json', 'w') as f:\n",
    "    json.dump(response, f, indent=4)"
   ]
  },
  {
   "cell_type": "markdown",
   "metadata": {
    "slideshow": {
     "slide_type": "slide"
    }
   },
   "source": [
    "## Conversion functions\n",
    "Changing scales can make results more interpretable"
   ]
  },
  {
   "cell_type": "code",
   "execution_count": 5,
   "metadata": {
    "ExecuteTime": {
     "end_time": "2024-08-17T10:19:07.360029Z",
     "start_time": "2024-08-17T10:19:07.358341Z"
    },
    "execution": {
     "iopub.execute_input": "2024-08-17T11:10:25.204315Z",
     "iopub.status.busy": "2024-08-17T11:10:25.204202Z",
     "iopub.status.idle": "2024-08-17T11:10:25.206008Z",
     "shell.execute_reply": "2024-08-17T11:10:25.205755Z"
    },
    "slideshow": {
     "slide_type": "-"
    }
   },
   "outputs": [],
   "source": [
    "# Kelvin to Celsius\n",
    "def kelvin_to_celsius(temp):\n",
    "    return temp - 273.15\n",
    "\n",
    "# Meters per second to knots\n",
    "def mps_to_knots(speed):\n",
    "    return speed * 1.943844"
   ]
  },
  {
   "cell_type": "markdown",
   "metadata": {
    "slideshow": {
     "slide_type": "slide"
    }
   },
   "source": [
    "## Print some weather properties"
   ]
  },
  {
   "cell_type": "code",
   "execution_count": 6,
   "metadata": {
    "ExecuteTime": {
     "end_time": "2024-08-17T10:19:07.362209Z",
     "start_time": "2024-08-17T10:19:07.360604Z"
    },
    "execution": {
     "iopub.execute_input": "2024-08-17T11:10:25.207688Z",
     "iopub.status.busy": "2024-08-17T11:10:25.207575Z",
     "iopub.status.idle": "2024-08-17T11:10:25.210669Z",
     "shell.execute_reply": "2024-08-17T11:10:25.209844Z"
    },
    "slideshow": {
     "slide_type": "-"
    }
   },
   "outputs": [
    {
     "name": "stdout",
     "output_type": "stream",
     "text": [
      "The current temperature in Ski is 11.4°C\n"
     ]
    }
   ],
   "source": [
    "# Current temperature\n",
    "temp_kelvin = response['main']['temp']\n",
    "temp_celsius = kelvin_to_celsius(temp_kelvin)\n",
    "print(f\"The current temperature in {CITY} is {temp_celsius:.1f}°C\")"
   ]
  },
  {
   "cell_type": "code",
   "execution_count": 7,
   "metadata": {
    "ExecuteTime": {
     "end_time": "2024-08-17T10:19:07.364358Z",
     "start_time": "2024-08-17T10:19:07.362759Z"
    },
    "execution": {
     "iopub.execute_input": "2024-08-17T11:10:25.212687Z",
     "iopub.status.busy": "2024-08-17T11:10:25.212585Z",
     "iopub.status.idle": "2024-08-17T11:10:25.215092Z",
     "shell.execute_reply": "2024-08-17T11:10:25.214660Z"
    },
    "slideshow": {
     "slide_type": "slide"
    }
   },
   "outputs": [
    {
     "name": "stdout",
     "output_type": "stream",
     "text": [
      "Sunrise today is at 06:57 and sunset is at 19:23\n"
     ]
    }
   ],
   "source": [
    "# Sunrise and sunset today in local time\n",
    "sunrise = dt.datetime.fromtimestamp(response['sys']['sunrise'])\n",
    "sunset = dt.datetime.fromtimestamp(response['sys']['sunset'])\n",
    "print(f\"Sunrise today is at {sunrise:%H:%M} and sunset is at {sunset:%H:%M}\")"
   ]
  },
  {
   "cell_type": "code",
   "execution_count": 8,
   "metadata": {
    "ExecuteTime": {
     "end_time": "2024-08-17T10:19:07.367002Z",
     "start_time": "2024-08-17T10:19:07.365133Z"
    },
    "execution": {
     "iopub.execute_input": "2024-08-17T11:10:25.216596Z",
     "iopub.status.busy": "2024-08-17T11:10:25.216507Z",
     "iopub.status.idle": "2024-08-17T11:10:25.218313Z",
     "shell.execute_reply": "2024-08-17T11:10:25.218028Z"
    },
    "slideshow": {
     "slide_type": "fragment"
    }
   },
   "outputs": [
    {
     "name": "stdout",
     "output_type": "stream",
     "text": [
      "Wind today is from 210° at 2.9 knots\n"
     ]
    }
   ],
   "source": [
    "# Wind direction and speed\n",
    "wind_knots = mps_to_knots(response['wind']['speed'])\n",
    "print(f\"Wind today is from {response['wind']['deg']}° at {round(wind_knots,1)} knots\")"
   ]
  },
  {
   "cell_type": "markdown",
   "metadata": {
    "slideshow": {
     "slide_type": "slide"
    }
   },
   "source": [
    "## Forecasted weather\n",
    "### Common definitions to use for all requests"
   ]
  },
  {
   "cell_type": "code",
   "execution_count": 9,
   "metadata": {
    "ExecuteTime": {
     "end_time": "2024-08-17T10:19:07.369150Z",
     "start_time": "2024-08-17T10:19:07.367438Z"
    },
    "execution": {
     "iopub.execute_input": "2024-08-17T11:10:25.219716Z",
     "iopub.status.busy": "2024-08-17T11:10:25.219645Z",
     "iopub.status.idle": "2024-08-17T11:10:25.221342Z",
     "shell.execute_reply": "2024-08-17T11:10:25.221042Z"
    },
    "slideshow": {
     "slide_type": "-"
    }
   },
   "outputs": [],
   "source": [
    "BASE_URL = \"http://api.openweathermap.org/data/2.5/forecast?\"\n",
    "CITY = \"Noresund\"\n",
    "\n",
    "urlF = BASE_URL + \"q=\" + CITY + \"&appid=\" + API_KEY"
   ]
  },
  {
   "cell_type": "markdown",
   "metadata": {
    "slideshow": {
     "slide_type": "slide"
    }
   },
   "source": [
    "## Request forecasted weather in chosen city"
   ]
  },
  {
   "cell_type": "code",
   "execution_count": 10,
   "metadata": {
    "ExecuteTime": {
     "end_time": "2024-08-17T10:19:07.505916Z",
     "start_time": "2024-08-17T10:19:07.369779Z"
    },
    "execution": {
     "iopub.execute_input": "2024-08-17T11:10:25.222724Z",
     "iopub.status.busy": "2024-08-17T11:10:25.222655Z",
     "iopub.status.idle": "2024-08-17T11:10:25.527518Z",
     "shell.execute_reply": "2024-08-17T11:10:25.526927Z"
    },
    "slideshow": {
     "slide_type": "-"
    }
   },
   "outputs": [
    {
     "name": "stdout",
     "output_type": "stream",
     "text": [
      "{'cod': '200', 'message': 0, 'cnt': 40, 'list': [{'dt': 1726833600, 'main': {'temp': 293.42, 'feels_like': 293.43, 'temp_min': 293.42, 'temp_max': 293.83, 'pressure': 1031, 'sea_level': 1031, 'grnd_level': 973, 'humidity': 74, 'temp_kf': -0.41}, 'weather': [{'id': 800, 'main': 'Clear', 'description': 'clear sky', 'icon': '01d'}], 'clouds': {'all': 8}, 'wind': {'speed': 1.85, 'deg': 155, 'gust': 1.67}, 'visibility': 10000, 'pop': 0, 'sys': {'pod': 'd'}, 'dt_txt': '2024-09-20 12:00:00'}, {'dt': 1726844400, 'main': {'temp': 293.89, 'feels_like': 293.8, 'temp_min': 293.89, 'temp_max': 294.23, 'pressure': 1029, 'sea_level': 1029, 'grnd_level': 972, 'humidity': 68, 'temp_kf': -0.34}, 'weather': [{'id': 800, 'main': 'Clear', 'description': 'clear sky', 'icon': '01d'}], 'clouds': {'all': 7}, 'wind': {'speed': 1.78, 'deg': 156, 'gust': 1.78}, 'visibility': 10000, 'pop': 0, 'sys': {'pod': 'd'}, 'dt_txt': '2024-09-20 15:00:00'}, {'dt': 1726855200, 'main': {'temp': 288.19, 'feels_like': 288.13, 'temp_min': 288.19, 'temp_max': 288.19, 'pressure': 1028, 'sea_level': 1028, 'grnd_level': 971, 'humidity': 91, 'temp_kf': 0}, 'weather': [{'id': 800, 'main': 'Clear', 'description': 'clear sky', 'icon': '01n'}], 'clouds': {'all': 5}, 'wind': {'speed': 0.66, 'deg': 269, 'gust': 0.66}, 'visibility': 10000, 'pop': 0, 'sys': {'pod': 'n'}, 'dt_txt': '2024-09-20 18:00:00'}, {'dt': 1726866000, 'main': {'temp': 286.79, 'feels_like': 286.66, 'temp_min': 286.79, 'temp_max': 286.79, 'pressure': 1028, 'sea_level': 1028, 'grnd_level': 971, 'humidity': 94, 'temp_kf': 0}, 'weather': [{'id': 800, 'main': 'Clear', 'description': 'clear sky', 'icon': '01n'}], 'clouds': {'all': 4}, 'wind': {'speed': 0.91, 'deg': 296, 'gust': 0.82}, 'visibility': 10000, 'pop': 0, 'sys': {'pod': 'n'}, 'dt_txt': '2024-09-20 21:00:00'}, {'dt': 1726876800, 'main': {'temp': 286.09, 'feels_like': 285.89, 'temp_min': 286.09, 'temp_max': 286.09, 'pressure': 1028, 'sea_level': 1028, 'grnd_level': 971, 'humidity': 94, 'temp_kf': 0}, 'weather': [{'id': 800, 'main': 'Clear', 'description': 'clear sky', 'icon': '01n'}], 'clouds': {'all': 4}, 'wind': {'speed': 1, 'deg': 313, 'gust': 0.85}, 'visibility': 10000, 'pop': 0, 'sys': {'pod': 'n'}, 'dt_txt': '2024-09-21 00:00:00'}, {'dt': 1726887600, 'main': {'temp': 285.4, 'feels_like': 285.16, 'temp_min': 285.4, 'temp_max': 285.4, 'pressure': 1027, 'sea_level': 1027, 'grnd_level': 970, 'humidity': 95, 'temp_kf': 0}, 'weather': [{'id': 800, 'main': 'Clear', 'description': 'clear sky', 'icon': '01n'}], 'clouds': {'all': 0}, 'wind': {'speed': 0.95, 'deg': 316, 'gust': 0.89}, 'visibility': 10000, 'pop': 0, 'sys': {'pod': 'n'}, 'dt_txt': '2024-09-21 03:00:00'}, {'dt': 1726898400, 'main': {'temp': 285.64, 'feels_like': 285.35, 'temp_min': 285.64, 'temp_max': 285.64, 'pressure': 1027, 'sea_level': 1027, 'grnd_level': 970, 'humidity': 92, 'temp_kf': 0}, 'weather': [{'id': 800, 'main': 'Clear', 'description': 'clear sky', 'icon': '01d'}], 'clouds': {'all': 0}, 'wind': {'speed': 1.61, 'deg': 342, 'gust': 1.53}, 'visibility': 10000, 'pop': 0, 'sys': {'pod': 'd'}, 'dt_txt': '2024-09-21 06:00:00'}, {'dt': 1726909200, 'main': {'temp': 291.36, 'feels_like': 291.12, 'temp_min': 291.36, 'temp_max': 291.36, 'pressure': 1027, 'sea_level': 1027, 'grnd_level': 970, 'humidity': 72, 'temp_kf': 0}, 'weather': [{'id': 800, 'main': 'Clear', 'description': 'clear sky', 'icon': '01d'}], 'clouds': {'all': 0}, 'wind': {'speed': 0.97, 'deg': 101, 'gust': 0.84}, 'visibility': 10000, 'pop': 0, 'sys': {'pod': 'd'}, 'dt_txt': '2024-09-21 09:00:00'}, {'dt': 1726920000, 'main': {'temp': 293.38, 'feels_like': 293.21, 'temp_min': 293.38, 'temp_max': 293.38, 'pressure': 1025, 'sea_level': 1025, 'grnd_level': 969, 'humidity': 67, 'temp_kf': 0}, 'weather': [{'id': 800, 'main': 'Clear', 'description': 'clear sky', 'icon': '01d'}], 'clouds': {'all': 6}, 'wind': {'speed': 1.85, 'deg': 124, 'gust': 1.35}, 'visibility': 10000, 'pop': 0, 'sys': {'pod': 'd'}, 'dt_txt': '2024-09-21 12:00:00'}, {'dt': 1726930800, 'main': {'temp': 291.91, 'feels_like': 291.7, 'temp_min': 291.91, 'temp_max': 291.91, 'pressure': 1025, 'sea_level': 1025, 'grnd_level': 968, 'humidity': 71, 'temp_kf': 0}, 'weather': [{'id': 803, 'main': 'Clouds', 'description': 'broken clouds', 'icon': '04d'}], 'clouds': {'all': 81}, 'wind': {'speed': 1.01, 'deg': 108, 'gust': 1.36}, 'visibility': 10000, 'pop': 0, 'sys': {'pod': 'd'}, 'dt_txt': '2024-09-21 15:00:00'}, {'dt': 1726941600, 'main': {'temp': 289.23, 'feels_like': 289.11, 'temp_min': 289.23, 'temp_max': 289.23, 'pressure': 1025, 'sea_level': 1025, 'grnd_level': 968, 'humidity': 85, 'temp_kf': 0}, 'weather': [{'id': 804, 'main': 'Clouds', 'description': 'overcast clouds', 'icon': '04n'}], 'clouds': {'all': 91}, 'wind': {'speed': 1.12, 'deg': 83, 'gust': 0.9}, 'visibility': 10000, 'pop': 0, 'sys': {'pod': 'n'}, 'dt_txt': '2024-09-21 18:00:00'}, {'dt': 1726952400, 'main': {'temp': 287.66, 'feels_like': 287.65, 'temp_min': 287.66, 'temp_max': 287.66, 'pressure': 1025, 'sea_level': 1025, 'grnd_level': 968, 'humidity': 95, 'temp_kf': 0}, 'weather': [{'id': 804, 'main': 'Clouds', 'description': 'overcast clouds', 'icon': '04n'}], 'clouds': {'all': 90}, 'wind': {'speed': 0.24, 'deg': 90, 'gust': 0.15}, 'visibility': 10000, 'pop': 0, 'sys': {'pod': 'n'}, 'dt_txt': '2024-09-21 21:00:00'}, {'dt': 1726963200, 'main': {'temp': 287.86, 'feels_like': 287.87, 'temp_min': 287.86, 'temp_max': 287.86, 'pressure': 1024, 'sea_level': 1024, 'grnd_level': 967, 'humidity': 95, 'temp_kf': 0}, 'weather': [{'id': 804, 'main': 'Clouds', 'description': 'overcast clouds', 'icon': '04n'}], 'clouds': {'all': 96}, 'wind': {'speed': 0.69, 'deg': 172, 'gust': 0.77}, 'visibility': 10000, 'pop': 0, 'sys': {'pod': 'n'}, 'dt_txt': '2024-09-22 00:00:00'}, {'dt': 1726974000, 'main': {'temp': 286.88, 'feels_like': 286.87, 'temp_min': 286.88, 'temp_max': 286.88, 'pressure': 1023, 'sea_level': 1023, 'grnd_level': 966, 'humidity': 98, 'temp_kf': 0}, 'weather': [{'id': 804, 'main': 'Clouds', 'description': 'overcast clouds', 'icon': '04n'}], 'clouds': {'all': 100}, 'wind': {'speed': 1.18, 'deg': 177, 'gust': 2.04}, 'visibility': 10000, 'pop': 0, 'sys': {'pod': 'n'}, 'dt_txt': '2024-09-22 03:00:00'}, {'dt': 1726984800, 'main': {'temp': 285.95, 'feels_like': 285.82, 'temp_min': 285.95, 'temp_max': 285.95, 'pressure': 1022, 'sea_level': 1022, 'grnd_level': 965, 'humidity': 97, 'temp_kf': 0}, 'weather': [{'id': 804, 'main': 'Clouds', 'description': 'overcast clouds', 'icon': '04d'}], 'clouds': {'all': 100}, 'wind': {'speed': 1.09, 'deg': 174, 'gust': 1.53}, 'visibility': 10000, 'pop': 0, 'sys': {'pod': 'd'}, 'dt_txt': '2024-09-22 06:00:00'}, {'dt': 1726995600, 'main': {'temp': 288.05, 'feels_like': 287.68, 'temp_min': 288.05, 'temp_max': 288.05, 'pressure': 1021, 'sea_level': 1021, 'grnd_level': 964, 'humidity': 80, 'temp_kf': 0}, 'weather': [{'id': 804, 'main': 'Clouds', 'description': 'overcast clouds', 'icon': '04d'}], 'clouds': {'all': 100}, 'wind': {'speed': 1.37, 'deg': 167, 'gust': 1.53}, 'visibility': 10000, 'pop': 0, 'sys': {'pod': 'd'}, 'dt_txt': '2024-09-22 09:00:00'}, {'dt': 1727006400, 'main': {'temp': 289.89, 'feels_like': 289.47, 'temp_min': 289.89, 'temp_max': 289.89, 'pressure': 1019, 'sea_level': 1019, 'grnd_level': 962, 'humidity': 71, 'temp_kf': 0}, 'weather': [{'id': 804, 'main': 'Clouds', 'description': 'overcast clouds', 'icon': '04d'}], 'clouds': {'all': 100}, 'wind': {'speed': 1.16, 'deg': 149, 'gust': 1.76}, 'visibility': 10000, 'pop': 0, 'sys': {'pod': 'd'}, 'dt_txt': '2024-09-22 12:00:00'}, {'dt': 1727017200, 'main': {'temp': 290.66, 'feels_like': 290.16, 'temp_min': 290.66, 'temp_max': 290.66, 'pressure': 1016, 'sea_level': 1016, 'grnd_level': 960, 'humidity': 65, 'temp_kf': 0}, 'weather': [{'id': 804, 'main': 'Clouds', 'description': 'overcast clouds', 'icon': '04d'}], 'clouds': {'all': 100}, 'wind': {'speed': 1.84, 'deg': 146, 'gust': 2.55}, 'visibility': 10000, 'pop': 0, 'sys': {'pod': 'd'}, 'dt_txt': '2024-09-22 15:00:00'}, {'dt': 1727028000, 'main': {'temp': 285.51, 'feels_like': 284.99, 'temp_min': 285.51, 'temp_max': 285.51, 'pressure': 1016, 'sea_level': 1016, 'grnd_level': 959, 'humidity': 84, 'temp_kf': 0}, 'weather': [{'id': 804, 'main': 'Clouds', 'description': 'overcast clouds', 'icon': '04n'}], 'clouds': {'all': 100}, 'wind': {'speed': 0.71, 'deg': 218, 'gust': 0.72}, 'visibility': 10000, 'pop': 0, 'sys': {'pod': 'n'}, 'dt_txt': '2024-09-22 18:00:00'}, {'dt': 1727038800, 'main': {'temp': 283.3, 'feels_like': 282.75, 'temp_min': 283.3, 'temp_max': 283.3, 'pressure': 1015, 'sea_level': 1015, 'grnd_level': 958, 'humidity': 91, 'temp_kf': 0}, 'weather': [{'id': 801, 'main': 'Clouds', 'description': 'few clouds', 'icon': '02n'}], 'clouds': {'all': 18}, 'wind': {'speed': 0.67, 'deg': 276, 'gust': 0.57}, 'visibility': 10000, 'pop': 0, 'sys': {'pod': 'n'}, 'dt_txt': '2024-09-22 21:00:00'}, {'dt': 1727049600, 'main': {'temp': 282.11, 'feels_like': 282.11, 'temp_min': 282.11, 'temp_max': 282.11, 'pressure': 1014, 'sea_level': 1014, 'grnd_level': 957, 'humidity': 90, 'temp_kf': 0}, 'weather': [{'id': 801, 'main': 'Clouds', 'description': 'few clouds', 'icon': '02n'}], 'clouds': {'all': 13}, 'wind': {'speed': 0.85, 'deg': 264, 'gust': 0.75}, 'visibility': 10000, 'pop': 0, 'sys': {'pod': 'n'}, 'dt_txt': '2024-09-23 00:00:00'}, {'dt': 1727060400, 'main': {'temp': 280.94, 'feels_like': 280.94, 'temp_min': 280.94, 'temp_max': 280.94, 'pressure': 1012, 'sea_level': 1012, 'grnd_level': 955, 'humidity': 87, 'temp_kf': 0}, 'weather': [{'id': 800, 'main': 'Clear', 'description': 'clear sky', 'icon': '01n'}], 'clouds': {'all': 0}, 'wind': {'speed': 0.78, 'deg': 274, 'gust': 0.66}, 'visibility': 10000, 'pop': 0, 'sys': {'pod': 'n'}, 'dt_txt': '2024-09-23 03:00:00'}, {'dt': 1727071200, 'main': {'temp': 281.11, 'feels_like': 281.11, 'temp_min': 281.11, 'temp_max': 281.11, 'pressure': 1011, 'sea_level': 1011, 'grnd_level': 953, 'humidity': 84, 'temp_kf': 0}, 'weather': [{'id': 800, 'main': 'Clear', 'description': 'clear sky', 'icon': '01d'}], 'clouds': {'all': 0}, 'wind': {'speed': 0.73, 'deg': 275, 'gust': 0.62}, 'visibility': 10000, 'pop': 0, 'sys': {'pod': 'd'}, 'dt_txt': '2024-09-23 06:00:00'}, {'dt': 1727082000, 'main': {'temp': 286.89, 'feels_like': 286.04, 'temp_min': 286.89, 'temp_max': 286.89, 'pressure': 1009, 'sea_level': 1009, 'grnd_level': 953, 'humidity': 66, 'temp_kf': 0}, 'weather': [{'id': 800, 'main': 'Clear', 'description': 'clear sky', 'icon': '01d'}], 'clouds': {'all': 0}, 'wind': {'speed': 1.64, 'deg': 159, 'gust': 1.99}, 'visibility': 10000, 'pop': 0, 'sys': {'pod': 'd'}, 'dt_txt': '2024-09-23 09:00:00'}, {'dt': 1727092800, 'main': {'temp': 290.18, 'feels_like': 289.4, 'temp_min': 290.18, 'temp_max': 290.18, 'pressure': 1007, 'sea_level': 1007, 'grnd_level': 951, 'humidity': 56, 'temp_kf': 0}, 'weather': [{'id': 800, 'main': 'Clear', 'description': 'clear sky', 'icon': '01d'}], 'clouds': {'all': 0}, 'wind': {'speed': 2.19, 'deg': 170, 'gust': 3.58}, 'visibility': 10000, 'pop': 0, 'sys': {'pod': 'd'}, 'dt_txt': '2024-09-23 12:00:00'}, {'dt': 1727103600, 'main': {'temp': 290.38, 'feels_like': 289.67, 'temp_min': 290.38, 'temp_max': 290.38, 'pressure': 1004, 'sea_level': 1004, 'grnd_level': 949, 'humidity': 58, 'temp_kf': 0}, 'weather': [{'id': 800, 'main': 'Clear', 'description': 'clear sky', 'icon': '01d'}], 'clouds': {'all': 8}, 'wind': {'speed': 2.8, 'deg': 177, 'gust': 3.44}, 'visibility': 10000, 'pop': 0, 'sys': {'pod': 'd'}, 'dt_txt': '2024-09-23 15:00:00'}, {'dt': 1727114400, 'main': {'temp': 285.65, 'feels_like': 285.23, 'temp_min': 285.65, 'temp_max': 285.65, 'pressure': 1004, 'sea_level': 1004, 'grnd_level': 948, 'humidity': 87, 'temp_kf': 0}, 'weather': [{'id': 802, 'main': 'Clouds', 'description': 'scattered clouds', 'icon': '03n'}], 'clouds': {'all': 47}, 'wind': {'speed': 1.14, 'deg': 173, 'gust': 1.26}, 'visibility': 10000, 'pop': 0, 'sys': {'pod': 'n'}, 'dt_txt': '2024-09-23 18:00:00'}, {'dt': 1727125200, 'main': {'temp': 284.5, 'feels_like': 284.28, 'temp_min': 284.5, 'temp_max': 284.5, 'pressure': 1003, 'sea_level': 1003, 'grnd_level': 947, 'humidity': 99, 'temp_kf': 0}, 'weather': [{'id': 500, 'main': 'Rain', 'description': 'light rain', 'icon': '10n'}], 'clouds': {'all': 100}, 'wind': {'speed': 0.97, 'deg': 130, 'gust': 2.41}, 'visibility': 4523, 'pop': 1, 'rain': {'3h': 1.77}, 'sys': {'pod': 'n'}, 'dt_txt': '2024-09-23 21:00:00'}, {'dt': 1727136000, 'main': {'temp': 284.8, 'feels_like': 284.61, 'temp_min': 284.8, 'temp_max': 284.8, 'pressure': 1000, 'sea_level': 1000, 'grnd_level': 944, 'humidity': 99, 'temp_kf': 0}, 'weather': [{'id': 501, 'main': 'Rain', 'description': 'moderate rain', 'icon': '10n'}], 'clouds': {'all': 100}, 'wind': {'speed': 0.58, 'deg': 59, 'gust': 0.61}, 'visibility': 5823, 'pop': 1, 'rain': {'3h': 5.86}, 'sys': {'pod': 'n'}, 'dt_txt': '2024-09-24 00:00:00'}, {'dt': 1727146800, 'main': {'temp': 284.47, 'feels_like': 284.24, 'temp_min': 284.47, 'temp_max': 284.47, 'pressure': 997, 'sea_level': 997, 'grnd_level': 941, 'humidity': 99, 'temp_kf': 0}, 'weather': [{'id': 501, 'main': 'Rain', 'description': 'moderate rain', 'icon': '10n'}], 'clouds': {'all': 100}, 'wind': {'speed': 0.62, 'deg': 40, 'gust': 0.93}, 'visibility': 9341, 'pop': 1, 'rain': {'3h': 4.56}, 'sys': {'pod': 'n'}, 'dt_txt': '2024-09-24 03:00:00'}, {'dt': 1727157600, 'main': {'temp': 284.61, 'feels_like': 284.34, 'temp_min': 284.61, 'temp_max': 284.61, 'pressure': 995, 'sea_level': 995, 'grnd_level': 940, 'humidity': 97, 'temp_kf': 0}, 'weather': [{'id': 500, 'main': 'Rain', 'description': 'light rain', 'icon': '10d'}], 'clouds': {'all': 100}, 'wind': {'speed': 0.92, 'deg': 322, 'gust': 1.92}, 'visibility': 10000, 'pop': 1, 'rain': {'3h': 2.96}, 'sys': {'pod': 'd'}, 'dt_txt': '2024-09-24 06:00:00'}, {'dt': 1727168400, 'main': {'temp': 284.96, 'feels_like': 284.7, 'temp_min': 284.96, 'temp_max': 284.96, 'pressure': 995, 'sea_level': 995, 'grnd_level': 940, 'humidity': 96, 'temp_kf': 0}, 'weather': [{'id': 500, 'main': 'Rain', 'description': 'light rain', 'icon': '10d'}], 'clouds': {'all': 100}, 'wind': {'speed': 0.61, 'deg': 230, 'gust': 0.85}, 'visibility': 10000, 'pop': 1, 'rain': {'3h': 0.75}, 'sys': {'pod': 'd'}, 'dt_txt': '2024-09-24 09:00:00'}, {'dt': 1727179200, 'main': {'temp': 285.81, 'feels_like': 285.48, 'temp_min': 285.81, 'temp_max': 285.81, 'pressure': 995, 'sea_level': 995, 'grnd_level': 940, 'humidity': 90, 'temp_kf': 0}, 'weather': [{'id': 804, 'main': 'Clouds', 'description': 'overcast clouds', 'icon': '04d'}], 'clouds': {'all': 100}, 'wind': {'speed': 1.04, 'deg': 180, 'gust': 1.37}, 'visibility': 10000, 'pop': 0.8, 'sys': {'pod': 'd'}, 'dt_txt': '2024-09-24 12:00:00'}, {'dt': 1727190000, 'main': {'temp': 287.21, 'feels_like': 286.81, 'temp_min': 287.21, 'temp_max': 287.21, 'pressure': 994, 'sea_level': 994, 'grnd_level': 939, 'humidity': 82, 'temp_kf': 0}, 'weather': [{'id': 500, 'main': 'Rain', 'description': 'light rain', 'icon': '10d'}], 'clouds': {'all': 100}, 'wind': {'speed': 1.22, 'deg': 182, 'gust': 2.05}, 'visibility': 10000, 'pop': 0.38, 'rain': {'3h': 0.21}, 'sys': {'pod': 'd'}, 'dt_txt': '2024-09-24 15:00:00'}, {'dt': 1727200800, 'main': {'temp': 284.12, 'feels_like': 283.65, 'temp_min': 284.12, 'temp_max': 284.12, 'pressure': 994, 'sea_level': 994, 'grnd_level': 938, 'humidity': 91, 'temp_kf': 0}, 'weather': [{'id': 500, 'main': 'Rain', 'description': 'light rain', 'icon': '10n'}], 'clouds': {'all': 100}, 'wind': {'speed': 1.28, 'deg': 279, 'gust': 1.06}, 'visibility': 10000, 'pop': 0.33, 'rain': {'3h': 0.27}, 'sys': {'pod': 'n'}, 'dt_txt': '2024-09-24 18:00:00'}, {'dt': 1727211600, 'main': {'temp': 281.85, 'feels_like': 280.56, 'temp_min': 281.85, 'temp_max': 281.85, 'pressure': 995, 'sea_level': 995, 'grnd_level': 939, 'humidity': 86, 'temp_kf': 0}, 'weather': [{'id': 804, 'main': 'Clouds', 'description': 'overcast clouds', 'icon': '04n'}], 'clouds': {'all': 95}, 'wind': {'speed': 2.33, 'deg': 298, 'gust': 2.35}, 'visibility': 10000, 'pop': 0, 'sys': {'pod': 'n'}, 'dt_txt': '2024-09-24 21:00:00'}, {'dt': 1727222400, 'main': {'temp': 279.25, 'feels_like': 277.37, 'temp_min': 279.25, 'temp_max': 279.25, 'pressure': 996, 'sea_level': 996, 'grnd_level': 939, 'humidity': 89, 'temp_kf': 0}, 'weather': [{'id': 803, 'main': 'Clouds', 'description': 'broken clouds', 'icon': '04n'}], 'clouds': {'all': 84}, 'wind': {'speed': 2.48, 'deg': 291, 'gust': 2.65}, 'visibility': 10000, 'pop': 0, 'sys': {'pod': 'n'}, 'dt_txt': '2024-09-25 00:00:00'}, {'dt': 1727233200, 'main': {'temp': 278.78, 'feels_like': 277.13, 'temp_min': 278.78, 'temp_max': 278.78, 'pressure': 997, 'sea_level': 997, 'grnd_level': 940, 'humidity': 86, 'temp_kf': 0}, 'weather': [{'id': 804, 'main': 'Clouds', 'description': 'overcast clouds', 'icon': '04n'}], 'clouds': {'all': 100}, 'wind': {'speed': 2.12, 'deg': 289, 'gust': 2.39}, 'visibility': 10000, 'pop': 0, 'sys': {'pod': 'n'}, 'dt_txt': '2024-09-25 03:00:00'}, {'dt': 1727244000, 'main': {'temp': 278.1, 'feels_like': 276.65, 'temp_min': 278.1, 'temp_max': 278.1, 'pressure': 997, 'sea_level': 997, 'grnd_level': 940, 'humidity': 83, 'temp_kf': 0}, 'weather': [{'id': 804, 'main': 'Clouds', 'description': 'overcast clouds', 'icon': '04d'}], 'clouds': {'all': 100}, 'wind': {'speed': 1.82, 'deg': 290, 'gust': 1.79}, 'visibility': 10000, 'pop': 0, 'sys': {'pod': 'd'}, 'dt_txt': '2024-09-25 06:00:00'}, {'dt': 1727254800, 'main': {'temp': 282.72, 'feels_like': 282.72, 'temp_min': 282.72, 'temp_max': 282.72, 'pressure': 997, 'sea_level': 997, 'grnd_level': 940, 'humidity': 58, 'temp_kf': 0}, 'weather': [{'id': 804, 'main': 'Clouds', 'description': 'overcast clouds', 'icon': '04d'}], 'clouds': {'all': 100}, 'wind': {'speed': 0.79, 'deg': 197, 'gust': 1.15}, 'visibility': 10000, 'pop': 0, 'sys': {'pod': 'd'}, 'dt_txt': '2024-09-25 09:00:00'}], 'city': {'id': 3144113, 'name': 'Noresund', 'coord': {'lat': 60.1803, 'lon': 9.6231}, 'country': 'NO', 'population': 1000, 'timezone': 7200, 'sunrise': 1726808500, 'sunset': 1726853287}}\n"
     ]
    }
   ],
   "source": [
    "responseF = requests.get(urlF).json()\n",
    "print(responseF)"
   ]
  },
  {
   "cell_type": "code",
   "execution_count": 11,
   "metadata": {
    "ExecuteTime": {
     "end_time": "2024-08-17T10:19:07.510514Z",
     "start_time": "2024-08-17T10:19:07.506586Z"
    },
    "execution": {
     "iopub.execute_input": "2024-08-17T11:10:25.531372Z",
     "iopub.status.busy": "2024-08-17T11:10:25.531104Z",
     "iopub.status.idle": "2024-08-17T11:10:25.539982Z",
     "shell.execute_reply": "2024-08-17T11:10:25.539588Z"
    },
    "slideshow": {
     "slide_type": "slide"
    }
   },
   "outputs": [],
   "source": [
    "# Write JSON to file for viewing\n",
    "with open('downloads/forecast.json', 'w') as f:\n",
    "    json.dump(responseF, f, indent=4)"
   ]
  },
  {
   "cell_type": "markdown",
   "metadata": {
    "slideshow": {
     "slide_type": "slide"
    }
   },
   "source": [
    "### When and what?\n",
    "Check contents and time stamps"
   ]
  },
  {
   "cell_type": "code",
   "execution_count": 12,
   "metadata": {
    "ExecuteTime": {
     "end_time": "2024-08-17T10:19:07.514214Z",
     "start_time": "2024-08-17T10:19:07.511162Z"
    },
    "execution": {
     "iopub.execute_input": "2024-08-17T11:10:25.542077Z",
     "iopub.status.busy": "2024-08-17T11:10:25.541931Z",
     "iopub.status.idle": "2024-08-17T11:10:25.546399Z",
     "shell.execute_reply": "2024-08-17T11:10:25.546054Z"
    },
    "slideshow": {
     "slide_type": "-"
    }
   },
   "outputs": [
    {
     "data": {
      "text/plain": [
       "dict_keys(['cod', 'message', 'cnt', 'list', 'city'])"
      ]
     },
     "execution_count": 12,
     "metadata": {},
     "output_type": "execute_result"
    }
   ],
   "source": [
    "# Content of responseF\n",
    "responseF.keys()"
   ]
  },
  {
   "cell_type": "code",
   "execution_count": 13,
   "metadata": {
    "ExecuteTime": {
     "end_time": "2024-08-17T10:19:07.516813Z",
     "start_time": "2024-08-17T10:19:07.514918Z"
    },
    "execution": {
     "iopub.execute_input": "2024-08-17T11:10:25.548459Z",
     "iopub.status.busy": "2024-08-17T11:10:25.548206Z",
     "iopub.status.idle": "2024-08-17T11:10:25.550357Z",
     "shell.execute_reply": "2024-08-17T11:10:25.550017Z"
    },
    "slideshow": {
     "slide_type": "fragment"
    }
   },
   "outputs": [
    {
     "name": "stdout",
     "output_type": "stream",
     "text": [
      "40\n"
     ]
    }
   ],
   "source": [
    "# Number of forecasts\n",
    "print(len(responseF[\"list\"]))"
   ]
  },
  {
   "cell_type": "code",
   "execution_count": 14,
   "metadata": {
    "ExecuteTime": {
     "end_time": "2024-08-17T10:19:07.520443Z",
     "start_time": "2024-08-17T10:19:07.518884Z"
    },
    "execution": {
     "iopub.execute_input": "2024-08-17T11:10:25.552002Z",
     "iopub.status.busy": "2024-08-17T11:10:25.551866Z",
     "iopub.status.idle": "2024-08-17T11:10:25.553997Z",
     "shell.execute_reply": "2024-08-17T11:10:25.553697Z"
    },
    "slideshow": {
     "slide_type": "slide"
    }
   },
   "outputs": [
    {
     "name": "stdout",
     "output_type": "stream",
     "text": [
      "2024-09-20 12:00:00\n",
      "2024-09-20 15:00:00\n",
      "2024-09-20 18:00:00\n",
      "2024-09-20 21:00:00\n",
      "2024-09-21 00:00:00\n",
      "2024-09-21 03:00:00\n",
      "2024-09-21 06:00:00\n",
      "2024-09-21 09:00:00\n",
      "2024-09-21 12:00:00\n",
      "2024-09-21 15:00:00\n",
      "2024-09-21 18:00:00\n",
      "2024-09-21 21:00:00\n",
      "2024-09-22 00:00:00\n",
      "2024-09-22 03:00:00\n",
      "2024-09-22 06:00:00\n",
      "2024-09-22 09:00:00\n",
      "2024-09-22 12:00:00\n",
      "2024-09-22 15:00:00\n",
      "2024-09-22 18:00:00\n",
      "2024-09-22 21:00:00\n",
      "2024-09-23 00:00:00\n",
      "2024-09-23 03:00:00\n",
      "2024-09-23 06:00:00\n",
      "2024-09-23 09:00:00\n",
      "2024-09-23 12:00:00\n",
      "2024-09-23 15:00:00\n",
      "2024-09-23 18:00:00\n",
      "2024-09-23 21:00:00\n",
      "2024-09-24 00:00:00\n",
      "2024-09-24 03:00:00\n",
      "2024-09-24 06:00:00\n",
      "2024-09-24 09:00:00\n",
      "2024-09-24 12:00:00\n",
      "2024-09-24 15:00:00\n",
      "2024-09-24 18:00:00\n",
      "2024-09-24 21:00:00\n",
      "2024-09-25 00:00:00\n",
      "2024-09-25 03:00:00\n",
      "2024-09-25 06:00:00\n",
      "2024-09-25 09:00:00\n"
     ]
    }
   ],
   "source": [
    "# Print forecast times\n",
    "for forecast in responseF[\"list\"]:\n",
    "    print(forecast[\"dt_txt\"])"
   ]
  },
  {
   "cell_type": "markdown",
   "metadata": {
    "slideshow": {
     "slide_type": "slide"
    }
   },
   "source": [
    "## Make plots of omnipresent measurements and events\n",
    "We will later look at missing data, data only sporadically appearing and so on."
   ]
  },
  {
   "cell_type": "code",
   "execution_count": 15,
   "metadata": {
    "ExecuteTime": {
     "end_time": "2024-08-17T10:19:07.522603Z",
     "start_time": "2024-08-17T10:19:07.521029Z"
    },
    "execution": {
     "iopub.execute_input": "2024-08-17T11:10:25.555625Z",
     "iopub.status.busy": "2024-08-17T11:10:25.555523Z",
     "iopub.status.idle": "2024-08-17T11:10:25.557734Z",
     "shell.execute_reply": "2024-08-17T11:10:25.557460Z"
    },
    "slideshow": {
     "slide_type": "-"
    }
   },
   "outputs": [],
   "source": [
    "# Air pressure per period\n",
    "pressures = []\n",
    "timestamps = []\n",
    "for forecast in responseF[\"list\"]:\n",
    "    pressures.append(forecast[\"main\"][\"pressure\"])\n",
    "    timestamps.append(dt.datetime.fromtimestamp(forecast[\"dt\"]))"
   ]
  },
  {
   "cell_type": "code",
   "execution_count": 16,
   "metadata": {
    "ExecuteTime": {
     "end_time": "2024-08-17T10:19:08.124779Z",
     "start_time": "2024-08-17T10:19:07.523100Z"
    },
    "execution": {
     "iopub.execute_input": "2024-08-17T11:10:25.559671Z",
     "iopub.status.busy": "2024-08-17T11:10:25.559500Z",
     "iopub.status.idle": "2024-08-17T11:10:25.930224Z",
     "shell.execute_reply": "2024-08-17T11:10:25.929965Z"
    },
    "slideshow": {
     "slide_type": "slide"
    }
   },
   "outputs": [
    {
     "data": {
      "image/png": "[encoded data removed]",
      "text/plain": [
       "<Figure size 640x480 with 1 Axes>"
      ]
     },
     "metadata": {},
     "output_type": "display_data"
    }
   ],
   "source": [
    "import matplotlib.pyplot as plt\n",
    "plt.bar(timestamps, pressures)\n",
    "plt.xticks(rotation=45)\n",
    "plt.ylim(950, 1050)\n",
    "plt.grid()\n",
    "plt.ylabel(\"Air pressure (hPa)\")\n",
    "plt.title(f\"Forecasted air pressure in {CITY}\")\n",
    "plt.show()"
   ]
  },
  {
   "cell_type": "markdown",
   "metadata": {
    "slideshow": {
     "slide_type": "slide"
    }
   },
   "source": [
    "## Exercise\n",
    "- Make a new forecast request for your own hometown. Call your response something else than responseF.\n",
    "- If available, plot the humidity like we did with air pressure."
   ]
  },
  {
   "cell_type": "markdown",
   "metadata": {
    "slideshow": {
     "slide_type": "slide"
    }
   },
   "source": [
    "### Precipitation\n",
    "- ... comes in two main flavours: rain and snow.\n",
    "- We need to check which is present and set to zero if it is abscent."
   ]
  },
  {
   "cell_type": "code",
   "execution_count": 17,
   "metadata": {
    "ExecuteTime": {
     "end_time": "2024-08-17T10:19:08.128573Z",
     "start_time": "2024-08-17T10:19:08.125858Z"
    },
    "execution": {
     "iopub.execute_input": "2024-08-17T11:10:25.931772Z",
     "iopub.status.busy": "2024-08-17T11:10:25.931647Z",
     "iopub.status.idle": "2024-08-17T11:10:25.933559Z",
     "shell.execute_reply": "2024-08-17T11:10:25.933354Z"
    },
    "slideshow": {
     "slide_type": "-"
    }
   },
   "outputs": [],
   "source": [
    "rain = []\n",
    "snow = []\n",
    "for forecast in responseF[\"list\"]:\n",
    "    try: # Check if rain is present in forecast\n",
    "        rain.append(forecast[\"rain\"][\"3h\"])\n",
    "    except KeyError:\n",
    "        rain.append(0)\n",
    "    try: # Check if snow is present in forecast\n",
    "        snow.append(forecast[\"snow\"][\"3h\"])\n",
    "    except KeyError:\n",
    "        snow.append(0)"
   ]
  },
  {
   "cell_type": "code",
   "execution_count": 18,
   "metadata": {
    "ExecuteTime": {
     "end_time": "2024-08-17T10:19:08.223315Z",
     "start_time": "2024-08-17T10:19:08.129282Z"
    },
    "execution": {
     "iopub.execute_input": "2024-08-17T11:10:25.934695Z",
     "iopub.status.busy": "2024-08-17T11:10:25.934624Z",
     "iopub.status.idle": "2024-08-17T11:10:26.030528Z",
     "shell.execute_reply": "2024-08-17T11:10:26.030279Z"
    },
    "slideshow": {
     "slide_type": "slide"
    }
   },
   "outputs": [
    {
     "data": {
      "image/png": "[encoded data removed]",
      "text/plain": [
       "<Figure size 640x480 with 1 Axes>"
      ]
     },
     "metadata": {},
     "output_type": "display_data"
    }
   ],
   "source": [
    "# Stacked bar chart with rain and snow\n",
    "plt.bar(timestamps, rain, label=\"Rain\")\n",
    "plt.bar(timestamps, snow, label=\"Snow\")\n",
    "plt.xticks(rotation=45)\n",
    "plt.grid()\n",
    "plt.ylabel(\"Precipitation (mm)\")\n",
    "plt.title(f\"Forecasted precipitation in {CITY}\")\n",
    "plt.legend()\n",
    "plt.show()\n"
   ]
  },
  {
   "cell_type": "markdown",
   "metadata": {
    "slideshow": {
     "slide_type": "slide"
    }
   },
   "source": [
    "```{seealso} Resources\n",
    ":class: tip\n",
    "- [YouTube: NeuralNine's video (15m:32s)](https://www.youtube.com/watch?v=9P5MY_2i7K8)\n",
    "```"
   ]
  }
 ],
 "metadata": {
  "celltoolbar": "Slideshow",
  "kernelspec": {
   "display_name": "Python 3 (ipykernel)",
   "language": "python",
   "name": "python3"
  },
  "language_info": {
   "codemirror_mode": {
    "name": "ipython",
    "version": 3
   },
   "file_extension": ".py",
   "mimetype": "text/x-python",
   "name": "python",
   "nbconvert_exporter": "python",
   "pygments_lexer": "ipython3",
   "version": "3.12.4"
  }
 },
 "nbformat": 4,
 "nbformat_minor": 2
}