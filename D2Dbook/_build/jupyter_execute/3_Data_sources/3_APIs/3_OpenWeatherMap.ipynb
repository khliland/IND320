{
 "cells": [
  {
   "cell_type": "markdown",
   "metadata": {
    "slideshow": {
     "slide_type": "slide"
    }
   },
   "source": [
    "# Demonstration of API using OpenWeatherMap.org\n",
    "This demonstration is heavily inspired by [NeuralNine's video](https://www.youtube.com/watch?v=9P5MY_2i7K8).  \n",
    "You need a free account [from here](https://openweathermap.org/api).  \n",
    "The VS Code extension _JSON viewer_ is recommended for viewing downloaded JSON content.  \n",
    "  - Set your maximum API calls to 1000 per day to make sure you are under the limit for billing. \n",
    "  - To run the examples, download your API key, save it in the right folder (see below) in a file called _api\\_key\\_OpenWeather_, containing only the key (no spaces or \"enters\")."
   ]
  },
  {
   "cell_type": "code",
   "execution_count": 1,
   "metadata": {
    "ExecuteTime": {
     "end_time": "2024-08-17T10:19:06.946392Z",
     "start_time": "2024-08-17T10:19:06.887177Z"
    },
    "slideshow": {
     "slide_type": "fragment"
    },
    "tags": []
   },
   "outputs": [],
   "source": [
    "# Imports\n",
    "import datetime as dt\n",
    "import requests\n",
    "import json"
   ]
  },
  {
   "cell_type": "markdown",
   "metadata": {
    "slideshow": {
     "slide_type": "slide"
    }
   },
   "source": [
    "## Current weather\n",
    "### Common definitions to use for all requests"
   ]
  },
  {
   "cell_type": "code",
   "execution_count": 2,
   "metadata": {
    "ExecuteTime": {
     "end_time": "2024-08-17T10:19:06.950734Z",
     "start_time": "2024-08-17T10:19:06.948129Z"
    },
    "slideshow": {
     "slide_type": "fragment"
    },
    "tags": []
   },
   "outputs": [],
   "source": [
    "BASE_URL = \"http://api.openweathermap.org/data/2.5/weather?\"\n",
    "API_KEY = open('../../../No_sync/api_key_OpenWeather','r').read()\n",
    "CITY = \"Ski\"\n",
    "\n",
    "url = BASE_URL + \"q=\" + CITY + \"&appid=\" + API_KEY"
   ]
  },
  {
   "cell_type": "markdown",
   "metadata": {
    "slideshow": {
     "slide_type": "slide"
    }
   },
   "source": [
    "## Request current weather in chosen city"
   ]
  },
  {
   "cell_type": "code",
   "execution_count": 3,
   "metadata": {
    "ExecuteTime": {
     "end_time": "2024-08-17T10:19:07.346472Z",
     "start_time": "2024-08-17T10:19:06.951363Z"
    },
    "slideshow": {
     "slide_type": "fragment"
    },
    "tags": []
   },
   "outputs": [
    {
     "name": "stdout",
     "output_type": "stream",
     "text": [
      "{'coord': {'lon': 10.8358, 'lat': 59.7195}, 'weather': [{'id': 801, 'main': 'Clouds', 'description': 'few clouds', 'icon': '02d'}], 'base': 'stations', 'main': {'temp': 286.4, 'feels_like': 285.48, 'temp_min': 285.53, 'temp_max': 287.22, 'pressure': 1021, 'humidity': 65, 'sea_level': 1021, 'grnd_level': 1004}, 'visibility': 10000, 'wind': {'speed': 1.78, 'deg': 2, 'gust': 2.78}, 'clouds': {'all': 16}, 'dt': 1727868257, 'sys': {'type': 2, 'id': 2006772, 'country': 'NO', 'sunrise': 1727846689, 'sunset': 1727887609}, 'timezone': 7200, 'id': 3139081, 'name': 'Ski', 'cod': 200}\n"
     ]
    }
   ],
   "source": [
    "response = requests.get(url).json()\n",
    "print(response)"
   ]
  },
  {
   "cell_type": "code",
   "execution_count": 4,
   "metadata": {
    "ExecuteTime": {
     "end_time": "2024-08-17T10:19:07.356894Z",
     "start_time": "2024-08-17T10:19:07.353047Z"
    },
    "slideshow": {
     "slide_type": "fragment"
    },
    "tags": []
   },
   "outputs": [],
   "source": [
    "# Write JSON to file for viewing\n",
    "with open('downloads/weather.json', 'w') as f:\n",
    "    json.dump(response, f, indent=4)"
   ]
  },
  {
   "cell_type": "markdown",
   "metadata": {
    "slideshow": {
     "slide_type": "slide"
    }
   },
   "source": [
    "## Conversion functions\n",
    "Changing scales can make results more interpretable"
   ]
  },
  {
   "cell_type": "code",
   "execution_count": 5,
   "metadata": {
    "ExecuteTime": {
     "end_time": "2024-08-17T10:19:07.360029Z",
     "start_time": "2024-08-17T10:19:07.358341Z"
    },
    "slideshow": {
     "slide_type": "fragment"
    },
    "tags": []
   },
   "outputs": [],
   "source": [
    "# Kelvin to Celsius\n",
    "def kelvin_to_celsius(temp):\n",
    "    return temp - 273.15\n",
    "\n",
    "# Meters per second to knots\n",
    "def mps_to_knots(speed):\n",
    "    return speed * 1.943844"
   ]
  },
  {
   "cell_type": "markdown",
   "metadata": {
    "slideshow": {
     "slide_type": "slide"
    }
   },
   "source": [
    "## Print some weather properties"
   ]
  },
  {
   "cell_type": "code",
   "execution_count": 6,
   "metadata": {
    "ExecuteTime": {
     "end_time": "2024-08-17T10:19:07.362209Z",
     "start_time": "2024-08-17T10:19:07.360604Z"
    },
    "slideshow": {
     "slide_type": "fragment"
    },
    "tags": []
   },
   "outputs": [
    {
     "name": "stdout",
     "output_type": "stream",
     "text": [
      "The current temperature in Ski is 13.2 °C\n"
     ]
    }
   ],
   "source": [
    "# Current temperature\n",
    "temp_kelvin = response['main']['temp']\n",
    "temp_celsius = kelvin_to_celsius(temp_kelvin)\n",
    "print(f\"The current temperature in {CITY} is {temp_celsius:.1f} °C\")"
   ]
  },
  {
   "cell_type": "code",
   "execution_count": 7,
   "metadata": {
    "ExecuteTime": {
     "end_time": "2024-08-17T10:19:07.364358Z",
     "start_time": "2024-08-17T10:19:07.362759Z"
    },
    "slideshow": {
     "slide_type": "slide"
    },
    "tags": []
   },
   "outputs": [
    {
     "name": "stdout",
     "output_type": "stream",
     "text": [
      "Sunrise today is at 07:24 and sunset is at 18:46\n"
     ]
    }
   ],
   "source": [
    "# Sunrise and sunset today in local time\n",
    "sunrise = dt.datetime.fromtimestamp(response['sys']['sunrise'])\n",
    "sunset = dt.datetime.fromtimestamp(response['sys']['sunset'])\n",
    "print(f\"Sunrise today is at {sunrise:%H:%M} and sunset is at {sunset:%H:%M}\")"
   ]
  },
  {
   "cell_type": "code",
   "execution_count": 8,
   "metadata": {
    "ExecuteTime": {
     "end_time": "2024-08-17T10:19:07.367002Z",
     "start_time": "2024-08-17T10:19:07.365133Z"
    },
    "slideshow": {
     "slide_type": "fragment"
    },
    "tags": []
   },
   "outputs": [
    {
     "name": "stdout",
     "output_type": "stream",
     "text": [
      "Wind today is from 2° at 3.5 knots\n"
     ]
    }
   ],
   "source": [
    "# Wind direction and speed\n",
    "wind_knots = mps_to_knots(response['wind']['speed'])\n",
    "print(f\"Wind today is from {response['wind']['deg']}° at {round(wind_knots,1)} knots\")"
   ]
  },
  {
   "cell_type": "markdown",
   "metadata": {
    "slideshow": {
     "slide_type": "slide"
    }
   },
   "source": [
    "## Forecasted weather\n",
    "### Common definitions to use for all requests"
   ]
  },
  {
   "cell_type": "code",
   "execution_count": 9,
   "metadata": {
    "ExecuteTime": {
     "end_time": "2024-08-17T10:19:07.369150Z",
     "start_time": "2024-08-17T10:19:07.367438Z"
    },
    "slideshow": {
     "slide_type": "fragment"
    },
    "tags": []
   },
   "outputs": [],
   "source": [
    "BASE_URL = \"https://api.openweathermap.org/data/2.5/forecast?\"\n",
    "CITY = \"Mo i Rana\"\n",
    "\n",
    "urlF = BASE_URL + \"q=\" + CITY + \"&appid=\" + API_KEY"
   ]
  },
  {
   "cell_type": "markdown",
   "metadata": {
    "slideshow": {
     "slide_type": "slide"
    }
   },
   "source": [
    "## Request forecasted weather in chosen city"
   ]
  },
  {
   "cell_type": "code",
   "execution_count": 10,
   "metadata": {
    "ExecuteTime": {
     "end_time": "2024-08-17T10:19:07.505916Z",
     "start_time": "2024-08-17T10:19:07.369779Z"
    },
    "slideshow": {
     "slide_type": "fragment"
    },
    "tags": []
   },
   "outputs": [
    {
     "name": "stdout",
     "output_type": "stream",
     "text": [
      "{'cod': '200', 'message': 0, 'cnt': 40, 'list': [{'dt': 1727870400, 'main': {'temp': 280.5, 'feels_like': 280.5, 'temp_min': 277.48, 'temp_max': 280.5, 'pressure': 1021, 'sea_level': 1021, 'grnd_level': 969, 'humidity': 89, 'temp_kf': 3.02}, 'weather': [{'id': 803, 'main': 'Clouds', 'description': 'broken clouds', 'icon': '04d'}], 'clouds': {'all': 75}, 'wind': {'speed': 0.66, 'deg': 234, 'gust': 0.85}, 'visibility': 6529, 'pop': 0, 'sys': {'pod': 'd'}, 'dt_txt': '2024-10-02 12:00:00'}, {'dt': 1727881200, 'main': {'temp': 279.63, 'feels_like': 279.63, 'temp_min': 277.9, 'temp_max': 279.63, 'pressure': 1021, 'sea_level': 1021, 'grnd_level': 968, 'humidity': 91, 'temp_kf': 1.73}, 'weather': [{'id': 803, 'main': 'Clouds', 'description': 'broken clouds', 'icon': '04d'}], 'clouds': {'all': 83}, 'wind': {'speed': 0.57, 'deg': 185, 'gust': 0.76}, 'visibility': 10000, 'pop': 0, 'sys': {'pod': 'd'}, 'dt_txt': '2024-10-02 15:00:00'}, {'dt': 1727892000, 'main': {'temp': 278.56, 'feels_like': 278.56, 'temp_min': 277.59, 'temp_max': 278.56, 'pressure': 1020, 'sea_level': 1020, 'grnd_level': 968, 'humidity': 93, 'temp_kf': 0.97}, 'weather': [{'id': 804, 'main': 'Clouds', 'description': 'overcast clouds', 'icon': '04n'}], 'clouds': {'all': 92}, 'wind': {'speed': 0.64, 'deg': 136, 'gust': 0.55}, 'visibility': 10000, 'pop': 0, 'sys': {'pod': 'n'}, 'dt_txt': '2024-10-02 18:00:00'}, {'dt': 1727902800, 'main': {'temp': 277.17, 'feels_like': 277.17, 'temp_min': 277.17, 'temp_max': 277.17, 'pressure': 1020, 'sea_level': 1020, 'grnd_level': 968, 'humidity': 99, 'temp_kf': 0}, 'weather': [{'id': 600, 'main': 'Snow', 'description': 'light snow', 'icon': '13n'}], 'clouds': {'all': 100}, 'wind': {'speed': 0.74, 'deg': 196, 'gust': 1.13}, 'pop': 0.5, 'snow': {'3h': 0.24}, 'sys': {'pod': 'n'}, 'dt_txt': '2024-10-02 21:00:00'}, {'dt': 1727913600, 'main': {'temp': 277.34, 'feels_like': 277.34, 'temp_min': 277.34, 'temp_max': 277.34, 'pressure': 1019, 'sea_level': 1019, 'grnd_level': 967, 'humidity': 99, 'temp_kf': 0}, 'weather': [{'id': 600, 'main': 'Snow', 'description': 'light snow', 'icon': '13n'}], 'clouds': {'all': 100}, 'wind': {'speed': 0.93, 'deg': 172, 'gust': 1.5}, 'visibility': 169, 'pop': 1, 'snow': {'3h': 1.32}, 'sys': {'pod': 'n'}, 'dt_txt': '2024-10-03 00:00:00'}, {'dt': 1727924400, 'main': {'temp': 277.38, 'feels_like': 276.43, 'temp_min': 277.38, 'temp_max': 277.38, 'pressure': 1018, 'sea_level': 1018, 'grnd_level': 966, 'humidity': 100, 'temp_kf': 0}, 'weather': [{'id': 601, 'main': 'Snow', 'description': 'snow', 'icon': '13n'}], 'clouds': {'all': 100}, 'wind': {'speed': 1.35, 'deg': 236, 'gust': 2.45}, 'visibility': 69, 'pop': 1, 'snow': {'3h': 3.07}, 'sys': {'pod': 'n'}, 'dt_txt': '2024-10-03 03:00:00'}, {'dt': 1727935200, 'main': {'temp': 277.72, 'feels_like': 276.48, 'temp_min': 277.72, 'temp_max': 277.72, 'pressure': 1018, 'sea_level': 1018, 'grnd_level': 966, 'humidity': 99, 'temp_kf': 0}, 'weather': [{'id': 601, 'main': 'Snow', 'description': 'snow', 'icon': '13d'}], 'clouds': {'all': 100}, 'wind': {'speed': 1.6, 'deg': 183, 'gust': 2.45}, 'visibility': 276, 'pop': 1, 'snow': {'3h': 4.86}, 'sys': {'pod': 'd'}, 'dt_txt': '2024-10-03 06:00:00'}, {'dt': 1727946000, 'main': {'temp': 278.39, 'feels_like': 278.39, 'temp_min': 278.39, 'temp_max': 278.39, 'pressure': 1018, 'sea_level': 1018, 'grnd_level': 966, 'humidity': 99, 'temp_kf': 0}, 'weather': [{'id': 501, 'main': 'Rain', 'description': 'moderate rain', 'icon': '10d'}], 'clouds': {'all': 100}, 'wind': {'speed': 1.3, 'deg': 169, 'gust': 1.46}, 'visibility': 863, 'pop': 1, 'rain': {'3h': 4.77}, 'sys': {'pod': 'd'}, 'dt_txt': '2024-10-03 09:00:00'}, {'dt': 1727956800, 'main': {'temp': 278.21, 'feels_like': 278.21, 'temp_min': 278.21, 'temp_max': 278.21, 'pressure': 1017, 'sea_level': 1017, 'grnd_level': 965, 'humidity': 98, 'temp_kf': 0}, 'weather': [{'id': 501, 'main': 'Rain', 'description': 'moderate rain', 'icon': '10d'}], 'clouds': {'all': 100}, 'wind': {'speed': 1.2, 'deg': 156, 'gust': 1.57}, 'visibility': 657, 'pop': 1, 'rain': {'3h': 5.78}, 'sys': {'pod': 'd'}, 'dt_txt': '2024-10-03 12:00:00'}, {'dt': 1727967600, 'main': {'temp': 278.26, 'feels_like': 278.26, 'temp_min': 278.26, 'temp_max': 278.26, 'pressure': 1016, 'sea_level': 1016, 'grnd_level': 964, 'humidity': 99, 'temp_kf': 0}, 'weather': [{'id': 501, 'main': 'Rain', 'description': 'moderate rain', 'icon': '10d'}], 'clouds': {'all': 100}, 'wind': {'speed': 1.09, 'deg': 183, 'gust': 1.34}, 'visibility': 685, 'pop': 1, 'rain': {'3h': 7.03}, 'sys': {'pod': 'd'}, 'dt_txt': '2024-10-03 15:00:00'}, {'dt': 1727978400, 'main': {'temp': 279.78, 'feels_like': 278.15, 'temp_min': 279.78, 'temp_max': 279.78, 'pressure': 1015, 'sea_level': 1015, 'grnd_level': 963, 'humidity': 98, 'temp_kf': 0}, 'weather': [{'id': 501, 'main': 'Rain', 'description': 'moderate rain', 'icon': '10n'}], 'clouds': {'all': 100}, 'wind': {'speed': 2.29, 'deg': 235, 'gust': 3.59}, 'visibility': 1156, 'pop': 1, 'rain': {'3h': 5.54}, 'sys': {'pod': 'n'}, 'dt_txt': '2024-10-03 18:00:00'}, {'dt': 1727989200, 'main': {'temp': 279.69, 'feels_like': 277.87, 'temp_min': 279.69, 'temp_max': 279.69, 'pressure': 1014, 'sea_level': 1014, 'grnd_level': 962, 'humidity': 99, 'temp_kf': 0}, 'weather': [{'id': 501, 'main': 'Rain', 'description': 'moderate rain', 'icon': '10n'}], 'clouds': {'all': 100}, 'wind': {'speed': 2.5, 'deg': 251, 'gust': 4.35}, 'visibility': 458, 'pop': 1, 'rain': {'3h': 7.05}, 'sys': {'pod': 'n'}, 'dt_txt': '2024-10-03 21:00:00'}, {'dt': 1728000000, 'main': {'temp': 278.31, 'feels_like': 275.64, 'temp_min': 278.31, 'temp_max': 278.31, 'pressure': 1015, 'sea_level': 1015, 'grnd_level': 963, 'humidity': 99, 'temp_kf': 0}, 'weather': [{'id': 501, 'main': 'Rain', 'description': 'moderate rain', 'icon': '10n'}], 'clouds': {'all': 100}, 'wind': {'speed': 3.3, 'deg': 282, 'gust': 5.43}, 'visibility': 100, 'pop': 1, 'rain': {'3h': 5.43}, 'sys': {'pod': 'n'}, 'dt_txt': '2024-10-04 00:00:00'}, {'dt': 1728010800, 'main': {'temp': 277.04, 'feels_like': 273.29, 'temp_min': 277.04, 'temp_max': 277.04, 'pressure': 1016, 'sea_level': 1016, 'grnd_level': 964, 'humidity': 95, 'temp_kf': 0}, 'weather': [{'id': 600, 'main': 'Snow', 'description': 'light snow', 'icon': '13n'}], 'clouds': {'all': 100}, 'wind': {'speed': 4.62, 'deg': 247, 'gust': 6.34}, 'visibility': 490, 'pop': 1, 'snow': {'3h': 1.02}, 'sys': {'pod': 'n'}, 'dt_txt': '2024-10-04 03:00:00'}, {'dt': 1728021600, 'main': {'temp': 276.55, 'feels_like': 273.31, 'temp_min': 276.55, 'temp_max': 276.55, 'pressure': 1018, 'sea_level': 1018, 'grnd_level': 965, 'humidity': 91, 'temp_kf': 0}, 'weather': [{'id': 600, 'main': 'Snow', 'description': 'light snow', 'icon': '13d'}], 'clouds': {'all': 98}, 'wind': {'speed': 3.59, 'deg': 238, 'gust': 7}, 'visibility': 10000, 'pop': 1, 'snow': {'3h': 0.35}, 'sys': {'pod': 'd'}, 'dt_txt': '2024-10-04 06:00:00'}, {'dt': 1728032400, 'main': {'temp': 276.91, 'feels_like': 273.43, 'temp_min': 276.91, 'temp_max': 276.91, 'pressure': 1018, 'sea_level': 1018, 'grnd_level': 965, 'humidity': 95, 'temp_kf': 0}, 'weather': [{'id': 500, 'main': 'Rain', 'description': 'light rain', 'icon': '10d'}], 'clouds': {'all': 52}, 'wind': {'speed': 4.09, 'deg': 228, 'gust': 7.5}, 'visibility': 863, 'pop': 0.89, 'rain': {'3h': 0.59}, 'sys': {'pod': 'd'}, 'dt_txt': '2024-10-04 09:00:00'}, {'dt': 1728043200, 'main': {'temp': 277.79, 'feels_like': 274.77, 'temp_min': 277.79, 'temp_max': 277.79, 'pressure': 1018, 'sea_level': 1018, 'grnd_level': 966, 'humidity': 99, 'temp_kf': 0}, 'weather': [{'id': 601, 'main': 'Snow', 'description': 'snow', 'icon': '13d'}], 'clouds': {'all': 76}, 'wind': {'speed': 3.67, 'deg': 238, 'gust': 5.4}, 'visibility': 68, 'pop': 1, 'snow': {'3h': 2.13}, 'sys': {'pod': 'd'}, 'dt_txt': '2024-10-04 12:00:00'}, {'dt': 1728054000, 'main': {'temp': 277.79, 'feels_like': 275.04, 'temp_min': 277.79, 'temp_max': 277.79, 'pressure': 1018, 'sea_level': 1018, 'grnd_level': 966, 'humidity': 92, 'temp_kf': 0}, 'weather': [{'id': 500, 'main': 'Rain', 'description': 'light rain', 'icon': '10d'}], 'clouds': {'all': 97}, 'wind': {'speed': 3.25, 'deg': 243, 'gust': 5.68}, 'visibility': 2999, 'pop': 0.98, 'rain': {'3h': 0.53}, 'sys': {'pod': 'd'}, 'dt_txt': '2024-10-04 15:00:00'}, {'dt': 1728064800, 'main': {'temp': 275.85, 'feels_like': 273.12, 'temp_min': 275.85, 'temp_max': 275.85, 'pressure': 1019, 'sea_level': 1019, 'grnd_level': 967, 'humidity': 96, 'temp_kf': 0}, 'weather': [{'id': 500, 'main': 'Rain', 'description': 'light rain', 'icon': '10n'}], 'clouds': {'all': 97}, 'wind': {'speed': 2.73, 'deg': 232, 'gust': 2.52}, 'visibility': 6430, 'pop': 0.77, 'rain': {'3h': 0.26}, 'sys': {'pod': 'n'}, 'dt_txt': '2024-10-04 18:00:00'}, {'dt': 1728075600, 'main': {'temp': 275.28, 'feels_like': 272.87, 'temp_min': 275.28, 'temp_max': 275.28, 'pressure': 1020, 'sea_level': 1020, 'grnd_level': 967, 'humidity': 98, 'temp_kf': 0}, 'weather': [{'id': 500, 'main': 'Rain', 'description': 'light rain', 'icon': '10n'}], 'clouds': {'all': 65}, 'wind': {'speed': 2.28, 'deg': 224, 'gust': 2.42}, 'visibility': 604, 'pop': 0.33, 'rain': {'3h': 0.1}, 'sys': {'pod': 'n'}, 'dt_txt': '2024-10-04 21:00:00'}, {'dt': 1728086400, 'main': {'temp': 275.44, 'feels_like': 273.35, 'temp_min': 275.44, 'temp_max': 275.44, 'pressure': 1020, 'sea_level': 1020, 'grnd_level': 968, 'humidity': 93, 'temp_kf': 0}, 'weather': [{'id': 500, 'main': 'Rain', 'description': 'light rain', 'icon': '10n'}], 'clouds': {'all': 66}, 'wind': {'speed': 2.01, 'deg': 220, 'gust': 1.89}, 'visibility': 10000, 'pop': 0.34, 'rain': {'3h': 0.13}, 'sys': {'pod': 'n'}, 'dt_txt': '2024-10-05 00:00:00'}, {'dt': 1728097200, 'main': {'temp': 275.19, 'feels_like': 273.26, 'temp_min': 275.19, 'temp_max': 275.19, 'pressure': 1021, 'sea_level': 1021, 'grnd_level': 968, 'humidity': 95, 'temp_kf': 0}, 'weather': [{'id': 500, 'main': 'Rain', 'description': 'light rain', 'icon': '10n'}], 'clouds': {'all': 22}, 'wind': {'speed': 1.84, 'deg': 224, 'gust': 1.75}, 'visibility': 10000, 'pop': 0.36, 'rain': {'3h': 0.19}, 'sys': {'pod': 'n'}, 'dt_txt': '2024-10-05 03:00:00'}, {'dt': 1728108000, 'main': {'temp': 275.36, 'feels_like': 273.79, 'temp_min': 275.36, 'temp_max': 275.36, 'pressure': 1021, 'sea_level': 1021, 'grnd_level': 969, 'humidity': 95, 'temp_kf': 0}, 'weather': [{'id': 500, 'main': 'Rain', 'description': 'light rain', 'icon': '10d'}], 'clouds': {'all': 47}, 'wind': {'speed': 1.59, 'deg': 231, 'gust': 2.12}, 'visibility': 5300, 'pop': 0.24, 'rain': {'3h': 0.14}, 'sys': {'pod': 'd'}, 'dt_txt': '2024-10-05 06:00:00'}, {'dt': 1728118800, 'main': {'temp': 276.56, 'feels_like': 276.56, 'temp_min': 276.56, 'temp_max': 276.56, 'pressure': 1022, 'sea_level': 1022, 'grnd_level': 969, 'humidity': 83, 'temp_kf': 0}, 'weather': [{'id': 804, 'main': 'Clouds', 'description': 'overcast clouds', 'icon': '04d'}], 'clouds': {'all': 100}, 'wind': {'speed': 1.33, 'deg': 239, 'gust': 1.78}, 'visibility': 10000, 'pop': 0, 'sys': {'pod': 'd'}, 'dt_txt': '2024-10-05 09:00:00'}, {'dt': 1728129600, 'main': {'temp': 277.51, 'feels_like': 277.51, 'temp_min': 277.51, 'temp_max': 277.51, 'pressure': 1021, 'sea_level': 1021, 'grnd_level': 969, 'humidity': 74, 'temp_kf': 0}, 'weather': [{'id': 804, 'main': 'Clouds', 'description': 'overcast clouds', 'icon': '04d'}], 'clouds': {'all': 100}, 'wind': {'speed': 0.81, 'deg': 259, 'gust': 1.25}, 'visibility': 10000, 'pop': 0, 'sys': {'pod': 'd'}, 'dt_txt': '2024-10-05 12:00:00'}, {'dt': 1728140400, 'main': {'temp': 277.05, 'feels_like': 277.05, 'temp_min': 277.05, 'temp_max': 277.05, 'pressure': 1021, 'sea_level': 1021, 'grnd_level': 968, 'humidity': 74, 'temp_kf': 0}, 'weather': [{'id': 804, 'main': 'Clouds', 'description': 'overcast clouds', 'icon': '04d'}], 'clouds': {'all': 99}, 'wind': {'speed': 0.74, 'deg': 318, 'gust': 0.83}, 'visibility': 10000, 'pop': 0, 'sys': {'pod': 'd'}, 'dt_txt': '2024-10-05 15:00:00'}, {'dt': 1728151200, 'main': {'temp': 275.65, 'feels_like': 274.41, 'temp_min': 275.65, 'temp_max': 275.65, 'pressure': 1020, 'sea_level': 1020, 'grnd_level': 968, 'humidity': 81, 'temp_kf': 0}, 'weather': [{'id': 804, 'main': 'Clouds', 'description': 'overcast clouds', 'icon': '04n'}], 'clouds': {'all': 100}, 'wind': {'speed': 1.39, 'deg': 343, 'gust': 1.04}, 'visibility': 10000, 'pop': 0, 'sys': {'pod': 'n'}, 'dt_txt': '2024-10-05 18:00:00'}, {'dt': 1728162000, 'main': {'temp': 274.84, 'feels_like': 273.43, 'temp_min': 274.84, 'temp_max': 274.84, 'pressure': 1020, 'sea_level': 1020, 'grnd_level': 968, 'humidity': 85, 'temp_kf': 0}, 'weather': [{'id': 804, 'main': 'Clouds', 'description': 'overcast clouds', 'icon': '04n'}], 'clouds': {'all': 100}, 'wind': {'speed': 1.43, 'deg': 15, 'gust': 1.09}, 'visibility': 10000, 'pop': 0, 'sys': {'pod': 'n'}, 'dt_txt': '2024-10-05 21:00:00'}, {'dt': 1728172800, 'main': {'temp': 274.74, 'feels_like': 273.13, 'temp_min': 274.74, 'temp_max': 274.74, 'pressure': 1019, 'sea_level': 1019, 'grnd_level': 966, 'humidity': 84, 'temp_kf': 0}, 'weather': [{'id': 804, 'main': 'Clouds', 'description': 'overcast clouds', 'icon': '04n'}], 'clouds': {'all': 100}, 'wind': {'speed': 1.55, 'deg': 42, 'gust': 1.4}, 'visibility': 10000, 'pop': 0, 'sys': {'pod': 'n'}, 'dt_txt': '2024-10-06 00:00:00'}, {'dt': 1728183600, 'main': {'temp': 274.91, 'feels_like': 273.22, 'temp_min': 274.91, 'temp_max': 274.91, 'pressure': 1018, 'sea_level': 1018, 'grnd_level': 965, 'humidity': 83, 'temp_kf': 0}, 'weather': [{'id': 804, 'main': 'Clouds', 'description': 'overcast clouds', 'icon': '04n'}], 'clouds': {'all': 100}, 'wind': {'speed': 1.63, 'deg': 45, 'gust': 1.5}, 'visibility': 10000, 'pop': 0, 'sys': {'pod': 'n'}, 'dt_txt': '2024-10-06 03:00:00'}, {'dt': 1728194400, 'main': {'temp': 275.32, 'feels_like': 273.69, 'temp_min': 275.32, 'temp_max': 275.32, 'pressure': 1017, 'sea_level': 1017, 'grnd_level': 964, 'humidity': 82, 'temp_kf': 0}, 'weather': [{'id': 804, 'main': 'Clouds', 'description': 'overcast clouds', 'icon': '04d'}], 'clouds': {'all': 100}, 'wind': {'speed': 1.63, 'deg': 53, 'gust': 1.26}, 'visibility': 10000, 'pop': 0, 'sys': {'pod': 'd'}, 'dt_txt': '2024-10-06 06:00:00'}, {'dt': 1728205200, 'main': {'temp': 276.41, 'feels_like': 275, 'temp_min': 276.41, 'temp_max': 276.41, 'pressure': 1017, 'sea_level': 1017, 'grnd_level': 965, 'humidity': 81, 'temp_kf': 0}, 'weather': [{'id': 600, 'main': 'Snow', 'description': 'light snow', 'icon': '13d'}], 'clouds': {'all': 100}, 'wind': {'speed': 1.58, 'deg': 78, 'gust': 2.39}, 'visibility': 9054, 'pop': 0.2, 'snow': {'3h': 0.12}, 'sys': {'pod': 'd'}, 'dt_txt': '2024-10-06 09:00:00'}, {'dt': 1728216000, 'main': {'temp': 276.22, 'feels_like': 274.37, 'temp_min': 276.22, 'temp_max': 276.22, 'pressure': 1017, 'sea_level': 1017, 'grnd_level': 964, 'humidity': 95, 'temp_kf': 0}, 'weather': [{'id': 600, 'main': 'Snow', 'description': 'light snow', 'icon': '13d'}], 'clouds': {'all': 100}, 'wind': {'speed': 1.91, 'deg': 63, 'gust': 2.77}, 'visibility': 506, 'pop': 0.45, 'snow': {'3h': 0.49}, 'sys': {'pod': 'd'}, 'dt_txt': '2024-10-06 12:00:00'}, {'dt': 1728226800, 'main': {'temp': 276.23, 'feels_like': 274.27, 'temp_min': 276.23, 'temp_max': 276.23, 'pressure': 1016, 'sea_level': 1016, 'grnd_level': 964, 'humidity': 99, 'temp_kf': 0}, 'weather': [{'id': 600, 'main': 'Snow', 'description': 'light snow', 'icon': '13d'}], 'clouds': {'all': 100}, 'wind': {'speed': 2.01, 'deg': 73, 'gust': 2.83}, 'visibility': 195, 'pop': 1, 'snow': {'3h': 1.37}, 'sys': {'pod': 'd'}, 'dt_txt': '2024-10-06 15:00:00'}, {'dt': 1728237600, 'main': {'temp': 275.61, 'feels_like': 272.88, 'temp_min': 275.61, 'temp_max': 275.61, 'pressure': 1015, 'sea_level': 1015, 'grnd_level': 963, 'humidity': 99, 'temp_kf': 0}, 'weather': [{'id': 601, 'main': 'Snow', 'description': 'snow', 'icon': '13n'}], 'clouds': {'all': 100}, 'wind': {'speed': 2.68, 'deg': 80, 'gust': 3.35}, 'visibility': 92, 'pop': 1, 'snow': {'3h': 4}, 'sys': {'pod': 'n'}, 'dt_txt': '2024-10-06 18:00:00'}, {'dt': 1728248400, 'main': {'temp': 275.57, 'feels_like': 273.05, 'temp_min': 275.57, 'temp_max': 275.57, 'pressure': 1014, 'sea_level': 1014, 'grnd_level': 962, 'humidity': 99, 'temp_kf': 0}, 'weather': [{'id': 601, 'main': 'Snow', 'description': 'snow', 'icon': '13n'}], 'clouds': {'all': 100}, 'wind': {'speed': 2.44, 'deg': 84, 'gust': 2.96}, 'visibility': 75, 'pop': 1, 'snow': {'3h': 4.4}, 'sys': {'pod': 'n'}, 'dt_txt': '2024-10-06 21:00:00'}, {'dt': 1728259200, 'main': {'temp': 275.57, 'feels_like': 273.42, 'temp_min': 275.57, 'temp_max': 275.57, 'pressure': 1013, 'sea_level': 1013, 'grnd_level': 960, 'humidity': 99, 'temp_kf': 0}, 'weather': [{'id': 601, 'main': 'Snow', 'description': 'snow', 'icon': '13n'}], 'clouds': {'all': 100}, 'wind': {'speed': 2.08, 'deg': 93, 'gust': 2.49}, 'visibility': 161, 'pop': 1, 'snow': {'3h': 5.7}, 'sys': {'pod': 'n'}, 'dt_txt': '2024-10-07 00:00:00'}, {'dt': 1728270000, 'main': {'temp': 275.84, 'feels_like': 274.57, 'temp_min': 275.84, 'temp_max': 275.84, 'pressure': 1011, 'sea_level': 1011, 'grnd_level': 959, 'humidity': 100, 'temp_kf': 0}, 'weather': [{'id': 601, 'main': 'Snow', 'description': 'snow', 'icon': '13n'}], 'clouds': {'all': 100}, 'wind': {'speed': 1.43, 'deg': 53, 'gust': 0.88}, 'pop': 1, 'snow': {'3h': 5.25}, 'sys': {'pod': 'n'}, 'dt_txt': '2024-10-07 03:00:00'}, {'dt': 1728280800, 'main': {'temp': 276.61, 'feels_like': 276.61, 'temp_min': 276.61, 'temp_max': 276.61, 'pressure': 1010, 'sea_level': 1010, 'grnd_level': 958, 'humidity': 100, 'temp_kf': 0}, 'weather': [{'id': 501, 'main': 'Rain', 'description': 'moderate rain', 'icon': '10d'}], 'clouds': {'all': 100}, 'wind': {'speed': 0.99, 'deg': 74, 'gust': 0.4}, 'visibility': 112, 'pop': 1, 'rain': {'3h': 7.11}, 'sys': {'pod': 'd'}, 'dt_txt': '2024-10-07 06:00:00'}, {'dt': 1728291600, 'main': {'temp': 277.81, 'feels_like': 277.81, 'temp_min': 277.81, 'temp_max': 277.81, 'pressure': 1010, 'sea_level': 1010, 'grnd_level': 958, 'humidity': 100, 'temp_kf': 0}, 'weather': [{'id': 501, 'main': 'Rain', 'description': 'moderate rain', 'icon': '10d'}], 'clouds': {'all': 100}, 'wind': {'speed': 0.55, 'deg': 91, 'gust': 0.09}, 'visibility': 124, 'pop': 1, 'rain': {'3h': 5.07}, 'sys': {'pod': 'd'}, 'dt_txt': '2024-10-07 09:00:00'}], 'city': {'id': 3145614, 'name': 'Mo i Rana', 'coord': {'lat': 66.3128, 'lon': 14.1428}, 'country': 'NO', 'population': 17853, 'timezone': 7200, 'sunrise': 1727846302, 'sunset': 1727886409}}\n"
     ]
    }
   ],
   "source": [
    "responseF = requests.get(urlF).json()\n",
    "#print(json.dumps(responseF, indent=4))\n",
    "print(responseF)"
   ]
  },
  {
   "cell_type": "code",
   "execution_count": 11,
   "metadata": {
    "ExecuteTime": {
     "end_time": "2024-08-17T10:19:07.510514Z",
     "start_time": "2024-08-17T10:19:07.506586Z"
    },
    "slideshow": {
     "slide_type": "slide"
    },
    "tags": []
   },
   "outputs": [],
   "source": [
    "# Write JSON to file for viewing\n",
    "with open('downloads/forecast.json', 'w') as f:\n",
    "    json.dump(responseF, f, indent=4)"
   ]
  },
  {
   "cell_type": "markdown",
   "metadata": {
    "slideshow": {
     "slide_type": "slide"
    }
   },
   "source": [
    "### When and what?\n",
    "Check contents and time stamps"
   ]
  },
  {
   "cell_type": "code",
   "execution_count": 12,
   "metadata": {
    "ExecuteTime": {
     "end_time": "2024-08-17T10:19:07.514214Z",
     "start_time": "2024-08-17T10:19:07.511162Z"
    },
    "slideshow": {
     "slide_type": "fragment"
    },
    "tags": []
   },
   "outputs": [
    {
     "data": {
      "text/plain": [
       "dict_keys(['cod', 'message', 'cnt', 'list', 'city'])"
      ]
     },
     "execution_count": 12,
     "metadata": {},
     "output_type": "execute_result"
    }
   ],
   "source": [
    "# Content of responseF\n",
    "responseF.keys()"
   ]
  },
  {
   "cell_type": "code",
   "execution_count": 13,
   "metadata": {
    "ExecuteTime": {
     "end_time": "2024-08-17T10:19:07.516813Z",
     "start_time": "2024-08-17T10:19:07.514918Z"
    },
    "slideshow": {
     "slide_type": "fragment"
    },
    "tags": []
   },
   "outputs": [
    {
     "name": "stdout",
     "output_type": "stream",
     "text": [
      "40\n"
     ]
    }
   ],
   "source": [
    "# Number of forecasts\n",
    "print(len(responseF[\"list\"]))"
   ]
  },
  {
   "cell_type": "code",
   "execution_count": 14,
   "metadata": {
    "ExecuteTime": {
     "end_time": "2024-08-17T10:19:07.520443Z",
     "start_time": "2024-08-17T10:19:07.518884Z"
    },
    "slideshow": {
     "slide_type": "slide"
    },
    "tags": []
   },
   "outputs": [
    {
     "name": "stdout",
     "output_type": "stream",
     "text": [
      "2024-10-02 12:00:00\n",
      "2024-10-02 15:00:00\n",
      "2024-10-02 18:00:00\n",
      "2024-10-02 21:00:00\n",
      "2024-10-03 00:00:00\n",
      "2024-10-03 03:00:00\n",
      "2024-10-03 06:00:00\n",
      "2024-10-03 09:00:00\n",
      "2024-10-03 12:00:00\n",
      "2024-10-03 15:00:00\n",
      "2024-10-03 18:00:00\n",
      "2024-10-03 21:00:00\n",
      "2024-10-04 00:00:00\n",
      "2024-10-04 03:00:00\n",
      "2024-10-04 06:00:00\n",
      "2024-10-04 09:00:00\n",
      "2024-10-04 12:00:00\n",
      "2024-10-04 15:00:00\n",
      "2024-10-04 18:00:00\n",
      "2024-10-04 21:00:00\n",
      "2024-10-05 00:00:00\n",
      "2024-10-05 03:00:00\n",
      "2024-10-05 06:00:00\n",
      "2024-10-05 09:00:00\n",
      "2024-10-05 12:00:00\n",
      "2024-10-05 15:00:00\n",
      "2024-10-05 18:00:00\n",
      "2024-10-05 21:00:00\n",
      "2024-10-06 00:00:00\n",
      "2024-10-06 03:00:00\n",
      "2024-10-06 06:00:00\n",
      "2024-10-06 09:00:00\n",
      "2024-10-06 12:00:00\n",
      "2024-10-06 15:00:00\n",
      "2024-10-06 18:00:00\n",
      "2024-10-06 21:00:00\n",
      "2024-10-07 00:00:00\n",
      "2024-10-07 03:00:00\n",
      "2024-10-07 06:00:00\n",
      "2024-10-07 09:00:00\n"
     ]
    }
   ],
   "source": [
    "# Print forecast times\n",
    "for forecast in responseF[\"list\"]:\n",
    "    print(forecast[\"dt_txt\"])"
   ]
  },
  {
   "cell_type": "markdown",
   "metadata": {
    "slideshow": {
     "slide_type": "slide"
    }
   },
   "source": [
    "## Make plots of omnipresent measurements and events\n",
    "We will later look at missing data, data only sporadically appearing and so on."
   ]
  },
  {
   "cell_type": "code",
   "execution_count": 15,
   "metadata": {
    "ExecuteTime": {
     "end_time": "2024-08-17T10:19:07.522603Z",
     "start_time": "2024-08-17T10:19:07.521029Z"
    },
    "slideshow": {
     "slide_type": "fragment"
    },
    "tags": []
   },
   "outputs": [],
   "source": [
    "# Air pressure per period\n",
    "pressures = []\n",
    "timestamps = []\n",
    "for forecast in responseF[\"list\"]:\n",
    "    pressures.append(forecast[\"main\"][\"pressure\"])\n",
    "    timestamps.append(dt.datetime.fromtimestamp(forecast[\"dt\"]))"
   ]
  },
  {
   "cell_type": "code",
   "execution_count": 16,
   "metadata": {
    "ExecuteTime": {
     "end_time": "2024-08-17T10:19:08.124779Z",
     "start_time": "2024-08-17T10:19:07.523100Z"
    },
    "slideshow": {
     "slide_type": "slide"
    },
    "tags": []
   },
   "outputs": [
    {
     "data": {
      "image/png": "[encoded data removed]",
      "text/plain": [
       "<Figure size 640x480 with 1 Axes>"
      ]
     },
     "metadata": {},
     "output_type": "display_data"
    }
   ],
   "source": [
    "import matplotlib.pyplot as plt\n",
    "plt.bar(timestamps, pressures)\n",
    "plt.xticks(rotation=45)\n",
    "plt.ylim(980, 1050)\n",
    "plt.grid()\n",
    "plt.ylabel(\"Air pressure (hPa)\")\n",
    "plt.title(f\"Forecasted air pressure in {CITY}\")\n",
    "plt.show()"
   ]
  },
  {
   "cell_type": "markdown",
   "metadata": {
    "slideshow": {
     "slide_type": "slide"
    }
   },
   "source": [
    "## Exercise\n",
    "- Make a new forecast request for your own hometown. Call your response something else than responseF.\n",
    "- If available, plot the humidity like we did with air pressure."
   ]
  },
  {
   "cell_type": "markdown",
   "metadata": {
    "slideshow": {
     "slide_type": "slide"
    }
   },
   "source": [
    "### Precipitation\n",
    "- ... comes in two main flavours: rain and snow.\n",
    "- We need to check which is present and set to zero if it is abscent."
   ]
  },
  {
   "cell_type": "code",
   "execution_count": 17,
   "metadata": {
    "ExecuteTime": {
     "end_time": "2024-08-17T10:19:08.128573Z",
     "start_time": "2024-08-17T10:19:08.125858Z"
    },
    "slideshow": {
     "slide_type": "fragment"
    },
    "tags": []
   },
   "outputs": [],
   "source": [
    "rain = []\n",
    "snow = []\n",
    "for forecast in responseF[\"list\"]:\n",
    "    try: # Check if rain is present in forecast\n",
    "        rain.append(forecast[\"rain\"][\"3h\"])\n",
    "    except KeyError:\n",
    "        rain.append(0)\n",
    "    try: # Check if snow is present in forecast\n",
    "        snow.append(forecast[\"snow\"][\"3h\"])\n",
    "    except KeyError:\n",
    "        snow.append(0)"
   ]
  },
  {
   "cell_type": "code",
   "execution_count": 18,
   "metadata": {
    "ExecuteTime": {
     "end_time": "2024-08-17T10:19:08.223315Z",
     "start_time": "2024-08-17T10:19:08.129282Z"
    },
    "slideshow": {
     "slide_type": "slide"
    },
    "tags": []
   },
   "outputs": [
    {
     "data": {
      "image/png": "[encoded data removed]",
      "text/plain": [
       "<Figure size 640x480 with 1 Axes>"
      ]
     },
     "metadata": {},
     "output_type": "display_data"
    }
   ],
   "source": [
    "# Stacked bar chart with rain and snow\n",
    "plt.bar(timestamps, rain, label=\"Rain\")\n",
    "plt.bar(timestamps, snow, label=\"Snow\")\n",
    "plt.xticks(rotation=45)\n",
    "plt.grid()\n",
    "plt.ylabel(\"Precipitation (mm)\")\n",
    "plt.title(f\"Forecasted precipitation in {CITY}\")\n",
    "plt.legend()\n",
    "plt.show()\n"
   ]
  },
  {
   "cell_type": "markdown",
   "metadata": {
    "slideshow": {
     "slide_type": "slide"
    }
   },
   "source": [
    "```{seealso} Resources\n",
    ":class: tip\n",
    "- [YouTube: NeuralNine's video (15m:32s)](https://www.youtube.com/watch?v=9P5MY_2i7K8)\n",
    "```"
   ]
  }
 ],
 "metadata": {
  "celltoolbar": "Slideshow",
  "kernelspec": {
   "display_name": "Python 3 (ipykernel)",
   "language": "python",
   "name": "python3"
  },
  "language_info": {
   "codemirror_mode": {
    "name": "ipython",
    "version": 3
   },
   "file_extension": ".py",
   "mimetype": "text/x-python",
   "name": "python",
   "nbconvert_exporter": "python",
   "pygments_lexer": "ipython3",
   "version": "3.12.4"
  }
 },
 "nbformat": 4,
 "nbformat_minor": 4
}