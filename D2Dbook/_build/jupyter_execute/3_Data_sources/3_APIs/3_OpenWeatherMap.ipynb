{
 "cells": [
  {
   "cell_type": "markdown",
   "metadata": {
    "slideshow": {
     "slide_type": "slide"
    }
   },
   "source": [
    "# Demonstration of API using OpenWeatherMap.org\n",
    "This demonstration is heavily inspired by [NeuralNine's video](https://www.youtube.com/watch?v=9P5MY_2i7K8).  \n",
    "You need a free account [from here](https://openweathermap.org/api).  \n",
    "The VS Code extension _JSON viewer_ is recommended for viewing downloaded JSON content.  \n",
    "  - Set your maximum API calls to 1000 per day to make sure you are under the limit for billing. \n",
    "  - To run the examples, download your API key, save it in the right folder (see below) in a file called _api\\_key\\_OpenWeather_, containing only the key (no spaces or \"enters\")."
   ]
  },
  {
   "cell_type": "code",
   "execution_count": 1,
   "metadata": {
    "ExecuteTime": {
     "end_time": "2024-08-17T10:19:06.946392Z",
     "start_time": "2024-08-17T10:19:06.887177Z"
    },
    "slideshow": {
     "slide_type": "fragment"
    },
    "tags": []
   },
   "outputs": [],
   "source": [
    "# Imports\n",
    "import datetime as dt\n",
    "import requests\n",
    "import json"
   ]
  },
  {
   "cell_type": "markdown",
   "metadata": {
    "slideshow": {
     "slide_type": "slide"
    }
   },
   "source": [
    "## Current weather\n",
    "### Common definitions to use for all requests"
   ]
  },
  {
   "cell_type": "code",
   "execution_count": 2,
   "metadata": {
    "ExecuteTime": {
     "end_time": "2024-08-17T10:19:06.950734Z",
     "start_time": "2024-08-17T10:19:06.948129Z"
    },
    "slideshow": {
     "slide_type": "fragment"
    },
    "tags": []
   },
   "outputs": [],
   "source": [
    "BASE_URL = \"http://api.openweathermap.org/data/2.5/weather?\"\n",
    "API_KEY = open('../../../No_sync/api_key_OpenWeather','r').read()\n",
    "CITY = \"Ski\"\n",
    "\n",
    "url = BASE_URL + \"q=\" + CITY + \"&appid=\" + API_KEY"
   ]
  },
  {
   "cell_type": "markdown",
   "metadata": {
    "slideshow": {
     "slide_type": "slide"
    }
   },
   "source": [
    "## Request current weather in chosen city"
   ]
  },
  {
   "cell_type": "code",
   "execution_count": 3,
   "metadata": {
    "ExecuteTime": {
     "end_time": "2024-08-17T10:19:07.346472Z",
     "start_time": "2024-08-17T10:19:06.951363Z"
    },
    "slideshow": {
     "slide_type": "fragment"
    },
    "tags": []
   },
   "outputs": [
    {
     "name": "stdout",
     "output_type": "stream",
     "text": [
      "{'coord': {'lon': 10.8358, 'lat': 59.7195}, 'weather': [{'id': 802, 'main': 'Clouds', 'description': 'scattered clouds', 'icon': '03d'}], 'base': 'stations', 'main': {'temp': 277.53, 'feels_like': 276.2, 'temp_min': 275.88, 'temp_max': 278.89, 'pressure': 1022, 'humidity': 100, 'sea_level': 1022, 'grnd_level': 1005}, 'visibility': 10000, 'wind': {'speed': 1.65, 'deg': 202, 'gust': 4.16}, 'clouds': {'all': 30}, 'dt': 1731491270, 'sys': {'type': 2, 'id': 2006772, 'country': 'NO', 'sunrise': 1731481720, 'sunset': 1731509609}, 'timezone': 3600, 'id': 3139081, 'name': 'Ski', 'cod': 200}\n"
     ]
    }
   ],
   "source": [
    "response = requests.get(url).json()\n",
    "print(response)"
   ]
  },
  {
   "cell_type": "code",
   "execution_count": 4,
   "metadata": {
    "ExecuteTime": {
     "end_time": "2024-08-17T10:19:07.356894Z",
     "start_time": "2024-08-17T10:19:07.353047Z"
    },
    "slideshow": {
     "slide_type": "fragment"
    },
    "tags": []
   },
   "outputs": [],
   "source": [
    "# Write JSON to file for viewing\n",
    "with open('downloads/weather.json', 'w') as f:\n",
    "    json.dump(response, f, indent=4)"
   ]
  },
  {
   "cell_type": "markdown",
   "metadata": {
    "slideshow": {
     "slide_type": "slide"
    }
   },
   "source": [
    "## Conversion functions\n",
    "Changing scales can make results more interpretable"
   ]
  },
  {
   "cell_type": "code",
   "execution_count": 5,
   "metadata": {
    "ExecuteTime": {
     "end_time": "2024-08-17T10:19:07.360029Z",
     "start_time": "2024-08-17T10:19:07.358341Z"
    },
    "slideshow": {
     "slide_type": "fragment"
    },
    "tags": []
   },
   "outputs": [],
   "source": [
    "# Kelvin to Celsius\n",
    "def kelvin_to_celsius(temp):\n",
    "    return temp - 273.15\n",
    "\n",
    "# Meters per second to knots\n",
    "def mps_to_knots(speed):\n",
    "    return speed * 1.943844"
   ]
  },
  {
   "cell_type": "markdown",
   "metadata": {
    "slideshow": {
     "slide_type": "slide"
    }
   },
   "source": [
    "## Print some weather properties"
   ]
  },
  {
   "cell_type": "code",
   "execution_count": 6,
   "metadata": {
    "ExecuteTime": {
     "end_time": "2024-08-17T10:19:07.362209Z",
     "start_time": "2024-08-17T10:19:07.360604Z"
    },
    "slideshow": {
     "slide_type": "fragment"
    },
    "tags": []
   },
   "outputs": [
    {
     "name": "stdout",
     "output_type": "stream",
     "text": [
      "The current temperature in Ski is 4.4 °C\n"
     ]
    }
   ],
   "source": [
    "# Current temperature\n",
    "temp_kelvin = response['main']['temp']\n",
    "temp_celsius = kelvin_to_celsius(temp_kelvin)\n",
    "print(f\"The current temperature in {CITY} is {temp_celsius:.1f} °C\")"
   ]
  },
  {
   "cell_type": "code",
   "execution_count": 7,
   "metadata": {
    "ExecuteTime": {
     "end_time": "2024-08-17T10:19:07.364358Z",
     "start_time": "2024-08-17T10:19:07.362759Z"
    },
    "slideshow": {
     "slide_type": "slide"
    },
    "tags": []
   },
   "outputs": [
    {
     "name": "stdout",
     "output_type": "stream",
     "text": [
      "Sunrise today is at 08:08 and sunset is at 15:53\n"
     ]
    }
   ],
   "source": [
    "# Sunrise and sunset today in local time\n",
    "sunrise = dt.datetime.fromtimestamp(response['sys']['sunrise'])\n",
    "sunset = dt.datetime.fromtimestamp(response['sys']['sunset'])\n",
    "print(f\"Sunrise today is at {sunrise:%H:%M} and sunset is at {sunset:%H:%M}\")"
   ]
  },
  {
   "cell_type": "code",
   "execution_count": 8,
   "metadata": {
    "ExecuteTime": {
     "end_time": "2024-08-17T10:19:07.367002Z",
     "start_time": "2024-08-17T10:19:07.365133Z"
    },
    "slideshow": {
     "slide_type": "fragment"
    },
    "tags": []
   },
   "outputs": [
    {
     "name": "stdout",
     "output_type": "stream",
     "text": [
      "Wind today is from 202° at 3.2 knots\n"
     ]
    }
   ],
   "source": [
    "# Wind direction and speed\n",
    "wind_knots = mps_to_knots(response['wind']['speed'])\n",
    "print(f\"Wind today is from {response['wind']['deg']}° at {round(wind_knots,1)} knots\")"
   ]
  },
  {
   "cell_type": "markdown",
   "metadata": {
    "slideshow": {
     "slide_type": "slide"
    }
   },
   "source": [
    "## Forecasted weather\n",
    "### Common definitions to use for all requests"
   ]
  },
  {
   "cell_type": "code",
   "execution_count": 9,
   "metadata": {
    "ExecuteTime": {
     "end_time": "2024-08-17T10:19:07.369150Z",
     "start_time": "2024-08-17T10:19:07.367438Z"
    },
    "slideshow": {
     "slide_type": "fragment"
    },
    "tags": []
   },
   "outputs": [],
   "source": [
    "BASE_URL = \"https://api.openweathermap.org/data/2.5/forecast?\"\n",
    "CITY = \"Mo i Rana\"\n",
    "\n",
    "urlF = BASE_URL + \"q=\" + CITY + \"&appid=\" + API_KEY"
   ]
  },
  {
   "cell_type": "markdown",
   "metadata": {
    "slideshow": {
     "slide_type": "slide"
    }
   },
   "source": [
    "## Request forecasted weather in chosen city"
   ]
  },
  {
   "cell_type": "code",
   "execution_count": 10,
   "metadata": {
    "ExecuteTime": {
     "end_time": "2024-08-17T10:19:07.505916Z",
     "start_time": "2024-08-17T10:19:07.369779Z"
    },
    "slideshow": {
     "slide_type": "fragment"
    },
    "tags": []
   },
   "outputs": [
    {
     "name": "stdout",
     "output_type": "stream",
     "text": [
      "{'cod': '200', 'message': 0, 'cnt': 40, 'list': [{'dt': 1731499200, 'main': {'temp': 278.51, 'feels_like': 274.27, 'temp_min': 277.76, 'temp_max': 278.51, 'pressure': 1008, 'sea_level': 1008, 'grnd_level': 955, 'humidity': 94, 'temp_kf': 0.75}, 'weather': [{'id': 601, 'main': 'Snow', 'description': 'snow', 'icon': '13d'}], 'clouds': {'all': 83}, 'wind': {'speed': 6.6, 'deg': 245, 'gust': 14.28}, 'visibility': 2062, 'pop': 1, 'snow': {'3h': 2.29}, 'sys': {'pod': 'd'}, 'dt_txt': '2024-11-13 12:00:00'}, {'dt': 1731510000, 'main': {'temp': 278.16, 'feels_like': 272.64, 'temp_min': 277.79, 'temp_max': 278.16, 'pressure': 1006, 'sea_level': 1006, 'grnd_level': 954, 'humidity': 91, 'temp_kf': 0.37}, 'weather': [{'id': 601, 'main': 'Snow', 'description': 'snow', 'icon': '13n'}], 'clouds': {'all': 92}, 'wind': {'speed': 10.42, 'deg': 256, 'gust': 17.02}, 'visibility': 569, 'pop': 1, 'snow': {'3h': 1.99}, 'sys': {'pod': 'n'}, 'dt_txt': '2024-11-13 15:00:00'}, {'dt': 1731520800, 'main': {'temp': 276.53, 'feels_like': 270.63, 'temp_min': 276.53, 'temp_max': 276.53, 'pressure': 1004, 'sea_level': 1004, 'grnd_level': 953, 'humidity': 97, 'temp_kf': 0}, 'weather': [{'id': 601, 'main': 'Snow', 'description': 'snow', 'icon': '13n'}], 'clouds': {'all': 100}, 'wind': {'speed': 9.86, 'deg': 258, 'gust': 16.84}, 'visibility': 68, 'pop': 1, 'snow': {'3h': 2.21}, 'sys': {'pod': 'n'}, 'dt_txt': '2024-11-13 18:00:00'}, {'dt': 1731531600, 'main': {'temp': 276.13, 'feels_like': 270.26, 'temp_min': 276.13, 'temp_max': 276.13, 'pressure': 1003, 'sea_level': 1003, 'grnd_level': 952, 'humidity': 98, 'temp_kf': 0}, 'weather': [{'id': 601, 'main': 'Snow', 'description': 'snow', 'icon': '13n'}], 'clouds': {'all': 100}, 'wind': {'speed': 9.34, 'deg': 249, 'gust': 15.1}, 'visibility': 102, 'pop': 1, 'snow': {'3h': 4.1}, 'sys': {'pod': 'n'}, 'dt_txt': '2024-11-13 21:00:00'}, {'dt': 1731542400, 'main': {'temp': 275.41, 'feels_like': 270.3, 'temp_min': 275.41, 'temp_max': 275.41, 'pressure': 1005, 'sea_level': 1005, 'grnd_level': 953, 'humidity': 97, 'temp_kf': 0}, 'weather': [{'id': 601, 'main': 'Snow', 'description': 'snow', 'icon': '13n'}], 'clouds': {'all': 100}, 'wind': {'speed': 6.6, 'deg': 254, 'gust': 13.78}, 'visibility': 193, 'pop': 1, 'snow': {'3h': 3.16}, 'sys': {'pod': 'n'}, 'dt_txt': '2024-11-14 00:00:00'}, {'dt': 1731553200, 'main': {'temp': 275.07, 'feels_like': 270.29, 'temp_min': 275.07, 'temp_max': 275.07, 'pressure': 1006, 'sea_level': 1006, 'grnd_level': 954, 'humidity': 96, 'temp_kf': 0}, 'weather': [{'id': 601, 'main': 'Snow', 'description': 'snow', 'icon': '13n'}], 'clouds': {'all': 100}, 'wind': {'speed': 5.67, 'deg': 257, 'gust': 12.26}, 'visibility': 246, 'pop': 1, 'snow': {'3h': 1.83}, 'sys': {'pod': 'n'}, 'dt_txt': '2024-11-14 03:00:00'}, {'dt': 1731564000, 'main': {'temp': 274.85, 'feels_like': 269.92, 'temp_min': 274.85, 'temp_max': 274.85, 'pressure': 1006, 'sea_level': 1006, 'grnd_level': 954, 'humidity': 95, 'temp_kf': 0}, 'weather': [{'id': 601, 'main': 'Snow', 'description': 'snow', 'icon': '13n'}], 'clouds': {'all': 100}, 'wind': {'speed': 5.87, 'deg': 256, 'gust': 12.91}, 'visibility': 282, 'pop': 1, 'snow': {'3h': 1.51}, 'sys': {'pod': 'n'}, 'dt_txt': '2024-11-14 06:00:00'}, {'dt': 1731574800, 'main': {'temp': 275.14, 'feels_like': 269.71, 'temp_min': 275.14, 'temp_max': 275.14, 'pressure': 1007, 'sea_level': 1007, 'grnd_level': 955, 'humidity': 88, 'temp_kf': 0}, 'weather': [{'id': 600, 'main': 'Snow', 'description': 'light snow', 'icon': '13d'}], 'clouds': {'all': 100}, 'wind': {'speed': 7.22, 'deg': 262, 'gust': 14.48}, 'visibility': 4451, 'pop': 1, 'snow': {'3h': 0.75}, 'sys': {'pod': 'd'}, 'dt_txt': '2024-11-14 09:00:00'}, {'dt': 1731585600, 'main': {'temp': 276.05, 'feels_like': 270.86, 'temp_min': 276.05, 'temp_max': 276.05, 'pressure': 1006, 'sea_level': 1006, 'grnd_level': 954, 'humidity': 98, 'temp_kf': 0}, 'weather': [{'id': 600, 'main': 'Snow', 'description': 'light snow', 'icon': '13d'}], 'clouds': {'all': 100}, 'wind': {'speed': 7.27, 'deg': 252, 'gust': 14.11}, 'visibility': 127, 'pop': 1, 'snow': {'3h': 0.83}, 'sys': {'pod': 'd'}, 'dt_txt': '2024-11-14 12:00:00'}, {'dt': 1731596400, 'main': {'temp': 276.38, 'feels_like': 271.45, 'temp_min': 276.38, 'temp_max': 276.38, 'pressure': 1004, 'sea_level': 1004, 'grnd_level': 952, 'humidity': 98, 'temp_kf': 0}, 'weather': [{'id': 601, 'main': 'Snow', 'description': 'snow', 'icon': '13n'}], 'clouds': {'all': 100}, 'wind': {'speed': 6.85, 'deg': 251, 'gust': 12.86}, 'visibility': 51, 'pop': 1, 'snow': {'3h': 3.26}, 'sys': {'pod': 'n'}, 'dt_txt': '2024-11-14 15:00:00'}, {'dt': 1731607200, 'main': {'temp': 276.03, 'feels_like': 271.98, 'temp_min': 276.03, 'temp_max': 276.03, 'pressure': 1003, 'sea_level': 1003, 'grnd_level': 951, 'humidity': 99, 'temp_kf': 0}, 'weather': [{'id': 601, 'main': 'Snow', 'description': 'snow', 'icon': '13n'}], 'clouds': {'all': 100}, 'wind': {'speed': 4.72, 'deg': 240, 'gust': 10.07}, 'visibility': 37, 'pop': 1, 'snow': {'3h': 8.29}, 'sys': {'pod': 'n'}, 'dt_txt': '2024-11-14 18:00:00'}, {'dt': 1731618000, 'main': {'temp': 276.06, 'feels_like': 272.83, 'temp_min': 276.06, 'temp_max': 276.06, 'pressure': 1002, 'sea_level': 1002, 'grnd_level': 950, 'humidity': 100, 'temp_kf': 0}, 'weather': [{'id': 601, 'main': 'Snow', 'description': 'snow', 'icon': '13n'}], 'clouds': {'all': 100}, 'wind': {'speed': 3.42, 'deg': 237, 'gust': 7.84}, 'visibility': 33, 'pop': 1, 'snow': {'3h': 8.74}, 'sys': {'pod': 'n'}, 'dt_txt': '2024-11-14 21:00:00'}, {'dt': 1731628800, 'main': {'temp': 276.14, 'feels_like': 273.49, 'temp_min': 276.14, 'temp_max': 276.14, 'pressure': 1001, 'sea_level': 1001, 'grnd_level': 949, 'humidity': 100, 'temp_kf': 0}, 'weather': [{'id': 601, 'main': 'Snow', 'description': 'snow', 'icon': '13n'}], 'clouds': {'all': 100}, 'wind': {'speed': 2.7, 'deg': 224, 'gust': 3.45}, 'visibility': 37, 'pop': 1, 'snow': {'3h': 5.02}, 'sys': {'pod': 'n'}, 'dt_txt': '2024-11-15 00:00:00'}, {'dt': 1731639600, 'main': {'temp': 279.16, 'feels_like': 277.55, 'temp_min': 279.16, 'temp_max': 279.16, 'pressure': 999, 'sea_level': 999, 'grnd_level': 948, 'humidity': 100, 'temp_kf': 0}, 'weather': [{'id': 501, 'main': 'Rain', 'description': 'moderate rain', 'icon': '10n'}], 'clouds': {'all': 100}, 'wind': {'speed': 2.15, 'deg': 222, 'gust': 1.87}, 'visibility': 34, 'pop': 1, 'rain': {'3h': 5.68}, 'sys': {'pod': 'n'}, 'dt_txt': '2024-11-15 03:00:00'}, {'dt': 1731650400, 'main': {'temp': 281.77, 'feels_like': 279.72, 'temp_min': 281.77, 'temp_max': 281.77, 'pressure': 997, 'sea_level': 997, 'grnd_level': 947, 'humidity': 100, 'temp_kf': 0}, 'weather': [{'id': 501, 'main': 'Rain', 'description': 'moderate rain', 'icon': '10n'}], 'clouds': {'all': 100}, 'wind': {'speed': 3.48, 'deg': 247, 'gust': 3.38}, 'visibility': 26, 'pop': 1, 'rain': {'3h': 11.2}, 'sys': {'pod': 'n'}, 'dt_txt': '2024-11-15 06:00:00'}, {'dt': 1731661200, 'main': {'temp': 278.76, 'feels_like': 275.21, 'temp_min': 278.76, 'temp_max': 278.76, 'pressure': 998, 'sea_level': 998, 'grnd_level': 947, 'humidity': 100, 'temp_kf': 0}, 'weather': [{'id': 500, 'main': 'Rain', 'description': 'light rain', 'icon': '10d'}], 'clouds': {'all': 100}, 'wind': {'speed': 5.08, 'deg': 238, 'gust': 8.94}, 'visibility': 69, 'pop': 1, 'rain': {'3h': 2.62}, 'sys': {'pod': 'd'}, 'dt_txt': '2024-11-15 09:00:00'}, {'dt': 1731672000, 'main': {'temp': 279.12, 'feels_like': 276.5, 'temp_min': 279.12, 'temp_max': 279.12, 'pressure': 995, 'sea_level': 995, 'grnd_level': 945, 'humidity': 100, 'temp_kf': 0}, 'weather': [{'id': 500, 'main': 'Rain', 'description': 'light rain', 'icon': '10d'}], 'clouds': {'all': 100}, 'wind': {'speed': 3.48, 'deg': 228, 'gust': 3.38}, 'visibility': 46, 'pop': 1, 'rain': {'3h': 1.81}, 'sys': {'pod': 'd'}, 'dt_txt': '2024-11-15 12:00:00'}, {'dt': 1731682800, 'main': {'temp': 280.06, 'feels_like': 278.14, 'temp_min': 280.06, 'temp_max': 280.06, 'pressure': 992, 'sea_level': 992, 'grnd_level': 942, 'humidity': 100, 'temp_kf': 0}, 'weather': [{'id': 501, 'main': 'Rain', 'description': 'moderate rain', 'icon': '10n'}], 'clouds': {'all': 100}, 'wind': {'speed': 2.73, 'deg': 216, 'gust': 2.33}, 'visibility': 33, 'pop': 1, 'rain': {'3h': 4.51}, 'sys': {'pod': 'n'}, 'dt_txt': '2024-11-15 15:00:00'}, {'dt': 1731693600, 'main': {'temp': 281.88, 'feels_like': 280.54, 'temp_min': 281.88, 'temp_max': 281.88, 'pressure': 988, 'sea_level': 988, 'grnd_level': 939, 'humidity': 100, 'temp_kf': 0}, 'weather': [{'id': 501, 'main': 'Rain', 'description': 'moderate rain', 'icon': '10n'}], 'clouds': {'all': 100}, 'wind': {'speed': 2.4, 'deg': 179, 'gust': 1.98}, 'visibility': 25, 'pop': 1, 'rain': {'3h': 11.55}, 'sys': {'pod': 'n'}, 'dt_txt': '2024-11-15 18:00:00'}, {'dt': 1731704400, 'main': {'temp': 281.2, 'feels_like': 279.5, 'temp_min': 281.2, 'temp_max': 281.2, 'pressure': 986, 'sea_level': 986, 'grnd_level': 936, 'humidity': 100, 'temp_kf': 0}, 'weather': [{'id': 501, 'main': 'Rain', 'description': 'moderate rain', 'icon': '10n'}], 'clouds': {'all': 100}, 'wind': {'speed': 2.73, 'deg': 204, 'gust': 2.43}, 'visibility': 22, 'pop': 1, 'rain': {'3h': 10.22}, 'sys': {'pod': 'n'}, 'dt_txt': '2024-11-15 21:00:00'}, {'dt': 1731715200, 'main': {'temp': 278.91, 'feels_like': 276.3, 'temp_min': 278.91, 'temp_max': 278.91, 'pressure': 986, 'sea_level': 986, 'grnd_level': 936, 'humidity': 100, 'temp_kf': 0}, 'weather': [{'id': 501, 'main': 'Rain', 'description': 'moderate rain', 'icon': '10n'}], 'clouds': {'all': 100}, 'wind': {'speed': 3.4, 'deg': 229, 'gust': 4.4}, 'visibility': 56, 'pop': 1, 'rain': {'3h': 4.83}, 'sys': {'pod': 'n'}, 'dt_txt': '2024-11-16 00:00:00'}, {'dt': 1731726000, 'main': {'temp': 276.05, 'feels_like': 274.27, 'temp_min': 276.05, 'temp_max': 276.05, 'pressure': 984, 'sea_level': 984, 'grnd_level': 934, 'humidity': 99, 'temp_kf': 0}, 'weather': [{'id': 500, 'main': 'Rain', 'description': 'light rain', 'icon': '10n'}, {'id': 511, 'main': 'Rain', 'description': 'freezing rain', 'icon': '13n'}], 'clouds': {'all': 100}, 'wind': {'speed': 1.83, 'deg': 188, 'gust': 1.78}, 'visibility': 53, 'pop': 1, 'rain': {'3h': 0.75}, 'sys': {'pod': 'n'}, 'dt_txt': '2024-11-16 03:00:00'}, {'dt': 1731736800, 'main': {'temp': 276.44, 'feels_like': 274.54, 'temp_min': 276.44, 'temp_max': 276.44, 'pressure': 981, 'sea_level': 981, 'grnd_level': 930, 'humidity': 100, 'temp_kf': 0}, 'weather': [{'id': 600, 'main': 'Snow', 'description': 'light snow', 'icon': '13n'}], 'clouds': {'all': 100}, 'wind': {'speed': 1.99, 'deg': 207, 'gust': 2.12}, 'pop': 1, 'snow': {'3h': 1.23}, 'sys': {'pod': 'n'}, 'dt_txt': '2024-11-16 06:00:00'}, {'dt': 1731747600, 'main': {'temp': 276.02, 'feels_like': 273.74, 'temp_min': 276.02, 'temp_max': 276.02, 'pressure': 980, 'sea_level': 980, 'grnd_level': 929, 'humidity': 100, 'temp_kf': 0}, 'weather': [{'id': 601, 'main': 'Snow', 'description': 'snow', 'icon': '13d'}], 'clouds': {'all': 100}, 'wind': {'speed': 2.28, 'deg': 275, 'gust': 3.88}, 'visibility': 239, 'pop': 1, 'snow': {'3h': 2.23}, 'sys': {'pod': 'd'}, 'dt_txt': '2024-11-16 09:00:00'}, {'dt': 1731758400, 'main': {'temp': 274.68, 'feels_like': 274.68, 'temp_min': 274.68, 'temp_max': 274.68, 'pressure': 977, 'sea_level': 977, 'grnd_level': 927, 'humidity': 90, 'temp_kf': 0}, 'weather': [{'id': 600, 'main': 'Snow', 'description': 'light snow', 'icon': '13d'}], 'clouds': {'all': 100}, 'wind': {'speed': 1.16, 'deg': 164, 'gust': 1.02}, 'visibility': 10000, 'pop': 1, 'snow': {'3h': 0.34}, 'sys': {'pod': 'd'}, 'dt_txt': '2024-11-16 12:00:00'}, {'dt': 1731769200, 'main': {'temp': 271.09, 'feels_like': 271.09, 'temp_min': 271.09, 'temp_max': 271.09, 'pressure': 976, 'sea_level': 976, 'grnd_level': 925, 'humidity': 94, 'temp_kf': 0}, 'weather': [{'id': 804, 'main': 'Clouds', 'description': 'overcast clouds', 'icon': '04n'}], 'clouds': {'all': 100}, 'wind': {'speed': 1.33, 'deg': 166, 'gust': 1.11}, 'visibility': 10000, 'pop': 0.07, 'sys': {'pod': 'n'}, 'dt_txt': '2024-11-16 15:00:00'}, {'dt': 1731780000, 'main': {'temp': 270.17, 'feels_like': 267.06, 'temp_min': 270.17, 'temp_max': 270.17, 'pressure': 974, 'sea_level': 974, 'grnd_level': 923, 'humidity': 89, 'temp_kf': 0}, 'weather': [{'id': 804, 'main': 'Clouds', 'description': 'overcast clouds', 'icon': '04n'}], 'clouds': {'all': 90}, 'wind': {'speed': 2.12, 'deg': 116, 'gust': 2.03}, 'visibility': 10000, 'pop': 0, 'sys': {'pod': 'n'}, 'dt_txt': '2024-11-16 18:00:00'}, {'dt': 1731790800, 'main': {'temp': 269.74, 'feels_like': 269.74, 'temp_min': 269.74, 'temp_max': 269.74, 'pressure': 974, 'sea_level': 974, 'grnd_level': 923, 'humidity': 88, 'temp_kf': 0}, 'weather': [{'id': 804, 'main': 'Clouds', 'description': 'overcast clouds', 'icon': '04n'}], 'clouds': {'all': 100}, 'wind': {'speed': 1.27, 'deg': 96, 'gust': 1.46}, 'visibility': 10000, 'pop': 0, 'sys': {'pod': 'n'}, 'dt_txt': '2024-11-16 21:00:00'}, {'dt': 1731801600, 'main': {'temp': 269.64, 'feels_like': 269.64, 'temp_min': 269.64, 'temp_max': 269.64, 'pressure': 974, 'sea_level': 974, 'grnd_level': 923, 'humidity': 88, 'temp_kf': 0}, 'weather': [{'id': 804, 'main': 'Clouds', 'description': 'overcast clouds', 'icon': '04n'}], 'clouds': {'all': 100}, 'wind': {'speed': 0.75, 'deg': 247, 'gust': 1.02}, 'visibility': 10000, 'pop': 0, 'sys': {'pod': 'n'}, 'dt_txt': '2024-11-17 00:00:00'}, {'dt': 1731812400, 'main': {'temp': 269.71, 'feels_like': 269.71, 'temp_min': 269.71, 'temp_max': 269.71, 'pressure': 975, 'sea_level': 975, 'grnd_level': 923, 'humidity': 96, 'temp_kf': 0}, 'weather': [{'id': 804, 'main': 'Clouds', 'description': 'overcast clouds', 'icon': '04n'}], 'clouds': {'all': 100}, 'wind': {'speed': 1.03, 'deg': 56, 'gust': 0.84}, 'visibility': 5230, 'pop': 0, 'sys': {'pod': 'n'}, 'dt_txt': '2024-11-17 03:00:00'}, {'dt': 1731823200, 'main': {'temp': 268.75, 'feels_like': 268.75, 'temp_min': 268.75, 'temp_max': 268.75, 'pressure': 975, 'sea_level': 975, 'grnd_level': 924, 'humidity': 94, 'temp_kf': 0}, 'weather': [{'id': 804, 'main': 'Clouds', 'description': 'overcast clouds', 'icon': '04n'}], 'clouds': {'all': 100}, 'wind': {'speed': 0.84, 'deg': 53, 'gust': 0.65}, 'visibility': 10000, 'pop': 0, 'sys': {'pod': 'n'}, 'dt_txt': '2024-11-17 06:00:00'}, {'dt': 1731834000, 'main': {'temp': 269.34, 'feels_like': 269.34, 'temp_min': 269.34, 'temp_max': 269.34, 'pressure': 977, 'sea_level': 977, 'grnd_level': 925, 'humidity': 95, 'temp_kf': 0}, 'weather': [{'id': 804, 'main': 'Clouds', 'description': 'overcast clouds', 'icon': '04d'}], 'clouds': {'all': 99}, 'wind': {'speed': 1.06, 'deg': 51, 'gust': 0.6}, 'visibility': 3613, 'pop': 0, 'sys': {'pod': 'd'}, 'dt_txt': '2024-11-17 09:00:00'}, {'dt': 1731844800, 'main': {'temp': 270.37, 'feels_like': 270.37, 'temp_min': 270.37, 'temp_max': 270.37, 'pressure': 978, 'sea_level': 978, 'grnd_level': 926, 'humidity': 95, 'temp_kf': 0}, 'weather': [{'id': 804, 'main': 'Clouds', 'description': 'overcast clouds', 'icon': '04d'}], 'clouds': {'all': 99}, 'wind': {'speed': 0.92, 'deg': 6, 'gust': 0.45}, 'visibility': 10000, 'pop': 0, 'sys': {'pod': 'd'}, 'dt_txt': '2024-11-17 12:00:00'}, {'dt': 1731855600, 'main': {'temp': 269.22, 'feels_like': 267, 'temp_min': 269.22, 'temp_max': 269.22, 'pressure': 980, 'sea_level': 980, 'grnd_level': 928, 'humidity': 93, 'temp_kf': 0}, 'weather': [{'id': 804, 'main': 'Clouds', 'description': 'overcast clouds', 'icon': '04n'}], 'clouds': {'all': 100}, 'wind': {'speed': 1.45, 'deg': 83, 'gust': 1.48}, 'visibility': 10000, 'pop': 0, 'sys': {'pod': 'n'}, 'dt_txt': '2024-11-17 15:00:00'}, {'dt': 1731866400, 'main': {'temp': 271.43, 'feels_like': 269.29, 'temp_min': 271.43, 'temp_max': 271.43, 'pressure': 981, 'sea_level': 981, 'grnd_level': 930, 'humidity': 92, 'temp_kf': 0}, 'weather': [{'id': 804, 'main': 'Clouds', 'description': 'overcast clouds', 'icon': '04n'}], 'clouds': {'all': 100}, 'wind': {'speed': 1.59, 'deg': 69, 'gust': 1.81}, 'visibility': 7068, 'pop': 0, 'sys': {'pod': 'n'}, 'dt_txt': '2024-11-17 18:00:00'}, {'dt': 1731877200, 'main': {'temp': 272.34, 'feels_like': 270.06, 'temp_min': 272.34, 'temp_max': 272.34, 'pressure': 983, 'sea_level': 983, 'grnd_level': 932, 'humidity': 95, 'temp_kf': 0}, 'weather': [{'id': 600, 'main': 'Snow', 'description': 'light snow', 'icon': '13n'}], 'clouds': {'all': 100}, 'wind': {'speed': 1.77, 'deg': 55, 'gust': 1.61}, 'visibility': 10000, 'pop': 0.42, 'snow': {'3h': 0.3}, 'sys': {'pod': 'n'}, 'dt_txt': '2024-11-17 21:00:00'}, {'dt': 1731888000, 'main': {'temp': 270.43, 'feels_like': 266.48, 'temp_min': 270.43, 'temp_max': 270.43, 'pressure': 986, 'sea_level': 986, 'grnd_level': 934, 'humidity': 87, 'temp_kf': 0}, 'weather': [{'id': 804, 'main': 'Clouds', 'description': 'overcast clouds', 'icon': '04n'}], 'clouds': {'all': 99}, 'wind': {'speed': 2.9, 'deg': 83, 'gust': 2.79}, 'visibility': 10000, 'pop': 0, 'sys': {'pod': 'n'}, 'dt_txt': '2024-11-18 00:00:00'}, {'dt': 1731898800, 'main': {'temp': 269.93, 'feels_like': 265.52, 'temp_min': 269.93, 'temp_max': 269.93, 'pressure': 988, 'sea_level': 988, 'grnd_level': 936, 'humidity': 80, 'temp_kf': 0}, 'weather': [{'id': 804, 'main': 'Clouds', 'description': 'overcast clouds', 'icon': '04n'}], 'clouds': {'all': 87}, 'wind': {'speed': 3.28, 'deg': 81, 'gust': 3.44}, 'visibility': 10000, 'pop': 0, 'sys': {'pod': 'n'}, 'dt_txt': '2024-11-18 03:00:00'}, {'dt': 1731909600, 'main': {'temp': 269.39, 'feels_like': 264.95, 'temp_min': 269.39, 'temp_max': 269.39, 'pressure': 990, 'sea_level': 990, 'grnd_level': 938, 'humidity': 80, 'temp_kf': 0}, 'weather': [{'id': 803, 'main': 'Clouds', 'description': 'broken clouds', 'icon': '04n'}], 'clouds': {'all': 83}, 'wind': {'speed': 3.19, 'deg': 82, 'gust': 3}, 'visibility': 10000, 'pop': 0, 'sys': {'pod': 'n'}, 'dt_txt': '2024-11-18 06:00:00'}, {'dt': 1731920400, 'main': {'temp': 269.5, 'feels_like': 264.81, 'temp_min': 269.5, 'temp_max': 269.5, 'pressure': 993, 'sea_level': 993, 'grnd_level': 940, 'humidity': 80, 'temp_kf': 0}, 'weather': [{'id': 803, 'main': 'Clouds', 'description': 'broken clouds', 'icon': '04d'}], 'clouds': {'all': 68}, 'wind': {'speed': 3.48, 'deg': 83, 'gust': 3.93}, 'visibility': 10000, 'pop': 0, 'sys': {'pod': 'd'}, 'dt_txt': '2024-11-18 09:00:00'}], 'city': {'id': 3145614, 'name': 'Mo i Rana', 'coord': {'lat': 66.3128, 'lon': 14.1428}, 'country': 'NO', 'population': 17853, 'timezone': 3600, 'sunrise': 1731484039, 'sunset': 1731505702}}\n"
     ]
    }
   ],
   "source": [
    "responseF = requests.get(urlF).json()\n",
    "#print(json.dumps(responseF, indent=4))\n",
    "print(responseF)"
   ]
  },
  {
   "cell_type": "code",
   "execution_count": 11,
   "metadata": {
    "ExecuteTime": {
     "end_time": "2024-08-17T10:19:07.510514Z",
     "start_time": "2024-08-17T10:19:07.506586Z"
    },
    "slideshow": {
     "slide_type": "slide"
    },
    "tags": []
   },
   "outputs": [],
   "source": [
    "# Write JSON to file for viewing\n",
    "with open('downloads/forecast.json', 'w') as f:\n",
    "    json.dump(responseF, f, indent=4)"
   ]
  },
  {
   "cell_type": "markdown",
   "metadata": {
    "slideshow": {
     "slide_type": "slide"
    }
   },
   "source": [
    "### When and what?\n",
    "Check contents and time stamps"
   ]
  },
  {
   "cell_type": "code",
   "execution_count": 12,
   "metadata": {
    "ExecuteTime": {
     "end_time": "2024-08-17T10:19:07.514214Z",
     "start_time": "2024-08-17T10:19:07.511162Z"
    },
    "slideshow": {
     "slide_type": "fragment"
    },
    "tags": []
   },
   "outputs": [
    {
     "data": {
      "text/plain": [
       "dict_keys(['cod', 'message', 'cnt', 'list', 'city'])"
      ]
     },
     "execution_count": 12,
     "metadata": {},
     "output_type": "execute_result"
    }
   ],
   "source": [
    "# Content of responseF\n",
    "responseF.keys()"
   ]
  },
  {
   "cell_type": "code",
   "execution_count": 13,
   "metadata": {
    "ExecuteTime": {
     "end_time": "2024-08-17T10:19:07.516813Z",
     "start_time": "2024-08-17T10:19:07.514918Z"
    },
    "slideshow": {
     "slide_type": "fragment"
    },
    "tags": []
   },
   "outputs": [
    {
     "name": "stdout",
     "output_type": "stream",
     "text": [
      "40\n"
     ]
    }
   ],
   "source": [
    "# Number of forecasts\n",
    "print(len(responseF[\"list\"]))"
   ]
  },
  {
   "cell_type": "code",
   "execution_count": 14,
   "metadata": {
    "ExecuteTime": {
     "end_time": "2024-08-17T10:19:07.520443Z",
     "start_time": "2024-08-17T10:19:07.518884Z"
    },
    "slideshow": {
     "slide_type": "slide"
    },
    "tags": []
   },
   "outputs": [
    {
     "name": "stdout",
     "output_type": "stream",
     "text": [
      "2024-11-13 12:00:00\n",
      "2024-11-13 15:00:00\n",
      "2024-11-13 18:00:00\n",
      "2024-11-13 21:00:00\n",
      "2024-11-14 00:00:00\n",
      "2024-11-14 03:00:00\n",
      "2024-11-14 06:00:00\n",
      "2024-11-14 09:00:00\n",
      "2024-11-14 12:00:00\n",
      "2024-11-14 15:00:00\n",
      "2024-11-14 18:00:00\n",
      "2024-11-14 21:00:00\n",
      "2024-11-15 00:00:00\n",
      "2024-11-15 03:00:00\n",
      "2024-11-15 06:00:00\n",
      "2024-11-15 09:00:00\n",
      "2024-11-15 12:00:00\n",
      "2024-11-15 15:00:00\n",
      "2024-11-15 18:00:00\n",
      "2024-11-15 21:00:00\n",
      "2024-11-16 00:00:00\n",
      "2024-11-16 03:00:00\n",
      "2024-11-16 06:00:00\n",
      "2024-11-16 09:00:00\n",
      "2024-11-16 12:00:00\n",
      "2024-11-16 15:00:00\n",
      "2024-11-16 18:00:00\n",
      "2024-11-16 21:00:00\n",
      "2024-11-17 00:00:00\n",
      "2024-11-17 03:00:00\n",
      "2024-11-17 06:00:00\n",
      "2024-11-17 09:00:00\n",
      "2024-11-17 12:00:00\n",
      "2024-11-17 15:00:00\n",
      "2024-11-17 18:00:00\n",
      "2024-11-17 21:00:00\n",
      "2024-11-18 00:00:00\n",
      "2024-11-18 03:00:00\n",
      "2024-11-18 06:00:00\n",
      "2024-11-18 09:00:00\n"
     ]
    }
   ],
   "source": [
    "# Print forecast times\n",
    "for forecast in responseF[\"list\"]:\n",
    "    print(forecast[\"dt_txt\"])"
   ]
  },
  {
   "cell_type": "markdown",
   "metadata": {
    "slideshow": {
     "slide_type": "slide"
    }
   },
   "source": [
    "## Make plots of omnipresent measurements and events\n",
    "We will later look at missing data, data only sporadically appearing and so on."
   ]
  },
  {
   "cell_type": "code",
   "execution_count": 15,
   "metadata": {
    "ExecuteTime": {
     "end_time": "2024-08-17T10:19:07.522603Z",
     "start_time": "2024-08-17T10:19:07.521029Z"
    },
    "slideshow": {
     "slide_type": "fragment"
    },
    "tags": []
   },
   "outputs": [],
   "source": [
    "# Air pressure per period\n",
    "pressures = []\n",
    "timestamps = []\n",
    "for forecast in responseF[\"list\"]:\n",
    "    pressures.append(forecast[\"main\"][\"pressure\"])\n",
    "    timestamps.append(dt.datetime.fromtimestamp(forecast[\"dt\"]))"
   ]
  },
  {
   "cell_type": "code",
   "execution_count": 16,
   "metadata": {
    "ExecuteTime": {
     "end_time": "2024-08-17T10:19:08.124779Z",
     "start_time": "2024-08-17T10:19:07.523100Z"
    },
    "slideshow": {
     "slide_type": "slide"
    },
    "tags": []
   },
   "outputs": [
    {
     "data": {
      "image/png": "[encoded data removed]",
      "text/plain": [
       "<Figure size 640x480 with 1 Axes>"
      ]
     },
     "metadata": {},
     "output_type": "display_data"
    }
   ],
   "source": [
    "import matplotlib.pyplot as plt\n",
    "plt.bar(timestamps, pressures)\n",
    "plt.xticks(rotation=45)\n",
    "plt.ylim(980, 1050)\n",
    "plt.grid()\n",
    "plt.ylabel(\"Air pressure (hPa)\")\n",
    "plt.title(f\"Forecasted air pressure in {CITY}\")\n",
    "plt.show()"
   ]
  },
  {
   "cell_type": "markdown",
   "metadata": {
    "slideshow": {
     "slide_type": "slide"
    }
   },
   "source": [
    "## Exercise\n",
    "- Make a new forecast request for your own hometown. Call your response something else than responseF.\n",
    "- If available, plot the humidity like we did with air pressure."
   ]
  },
  {
   "cell_type": "markdown",
   "metadata": {
    "slideshow": {
     "slide_type": "slide"
    }
   },
   "source": [
    "### Precipitation\n",
    "- ... comes in two main flavours: rain and snow.\n",
    "- We need to check which is present and set to zero if it is abscent."
   ]
  },
  {
   "cell_type": "code",
   "execution_count": 17,
   "metadata": {
    "ExecuteTime": {
     "end_time": "2024-08-17T10:19:08.128573Z",
     "start_time": "2024-08-17T10:19:08.125858Z"
    },
    "slideshow": {
     "slide_type": "fragment"
    },
    "tags": []
   },
   "outputs": [],
   "source": [
    "rain = []\n",
    "snow = []\n",
    "for forecast in responseF[\"list\"]:\n",
    "    try: # Check if rain is present in forecast\n",
    "        rain.append(forecast[\"rain\"][\"3h\"])\n",
    "    except KeyError:\n",
    "        rain.append(0)\n",
    "    try: # Check if snow is present in forecast\n",
    "        snow.append(forecast[\"snow\"][\"3h\"])\n",
    "    except KeyError:\n",
    "        snow.append(0)"
   ]
  },
  {
   "cell_type": "code",
   "execution_count": 18,
   "metadata": {
    "ExecuteTime": {
     "end_time": "2024-08-17T10:19:08.223315Z",
     "start_time": "2024-08-17T10:19:08.129282Z"
    },
    "slideshow": {
     "slide_type": "slide"
    },
    "tags": []
   },
   "outputs": [
    {
     "data": {
      "image/png": "[encoded data removed]",
      "text/plain": [
       "<Figure size 640x480 with 1 Axes>"
      ]
     },
     "metadata": {},
     "output_type": "display_data"
    }
   ],
   "source": [
    "# Stacked bar chart with rain and snow\n",
    "plt.bar(timestamps, rain, label=\"Rain\")\n",
    "plt.bar(timestamps, snow, label=\"Snow\")\n",
    "plt.xticks(rotation=45)\n",
    "plt.grid()\n",
    "plt.ylabel(\"Precipitation (mm)\")\n",
    "plt.title(f\"Forecasted precipitation in {CITY}\")\n",
    "plt.legend()\n",
    "plt.show()\n"
   ]
  },
  {
   "cell_type": "markdown",
   "metadata": {
    "slideshow": {
     "slide_type": "slide"
    }
   },
   "source": [
    "```{seealso} Resources\n",
    ":class: tip\n",
    "- [YouTube: NeuralNine's video (15m:32s)](https://www.youtube.com/watch?v=9P5MY_2i7K8)\n",
    "```"
   ]
  }
 ],
 "metadata": {
  "celltoolbar": "Slideshow",
  "kernelspec": {
   "display_name": "Python 3 (ipykernel)",
   "language": "python",
   "name": "python3"
  },
  "language_info": {
   "codemirror_mode": {
    "name": "ipython",
    "version": 3
   },
   "file_extension": ".py",
   "mimetype": "text/x-python",
   "name": "python",
   "nbconvert_exporter": "python",
   "pygments_lexer": "ipython3",
   "version": "3.12.4"
  }
 },
 "nbformat": 4,
 "nbformat_minor": 4
}