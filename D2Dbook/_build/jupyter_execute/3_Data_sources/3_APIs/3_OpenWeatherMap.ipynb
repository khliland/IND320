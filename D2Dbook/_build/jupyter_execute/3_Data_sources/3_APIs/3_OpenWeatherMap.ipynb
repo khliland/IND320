{
 "cells": [
  {
   "cell_type": "markdown",
   "metadata": {
    "slideshow": {
     "slide_type": "slide"
    }
   },
   "source": [
    "# Demonstration of API using OpenWeatherMap.org\n",
    "This demonstration is heavily inspired by [NeuralNine's video](https://www.youtube.com/watch?v=9P5MY_2i7K8).  \n",
    "You need a free account [from here](https://openweathermap.org/api).  \n",
    "The VS Code extension _JSON viewer_ is recommended for viewing downloaded JSON content.  \n",
    "  - Set your maximum API calls to 1000 per day to make sure you are under the limit for billing. \n",
    "  - To run the examples, download your API key, save it in the right folder (see below) in a file called _api\\_key\\_OpenWeather_, containing only the key (no spaces or \"enters\")."
   ]
  },
  {
   "cell_type": "code",
   "execution_count": 1,
   "metadata": {
    "ExecuteTime": {
     "end_time": "2024-08-17T10:19:06.946392Z",
     "start_time": "2024-08-17T10:19:06.887177Z"
    },
    "slideshow": {
     "slide_type": "fragment"
    },
    "tags": []
   },
   "outputs": [],
   "source": [
    "# Imports\n",
    "import datetime as dt\n",
    "import requests\n",
    "import json"
   ]
  },
  {
   "cell_type": "markdown",
   "metadata": {
    "slideshow": {
     "slide_type": "slide"
    }
   },
   "source": [
    "## Current weather\n",
    "### Common definitions to use for all requests"
   ]
  },
  {
   "cell_type": "code",
   "execution_count": 2,
   "metadata": {
    "ExecuteTime": {
     "end_time": "2024-08-17T10:19:06.950734Z",
     "start_time": "2024-08-17T10:19:06.948129Z"
    },
    "slideshow": {
     "slide_type": "fragment"
    },
    "tags": []
   },
   "outputs": [],
   "source": [
    "BASE_URL = \"http://api.openweathermap.org/data/2.5/weather?\"\n",
    "API_KEY = open('../../../No_sync/api_key_OpenWeather','r').read()\n",
    "CITY = \"Ski\"\n",
    "\n",
    "url = BASE_URL + \"q=\" + CITY + \"&appid=\" + API_KEY"
   ]
  },
  {
   "cell_type": "markdown",
   "metadata": {
    "slideshow": {
     "slide_type": "slide"
    }
   },
   "source": [
    "## Request current weather in chosen city"
   ]
  },
  {
   "cell_type": "code",
   "execution_count": 3,
   "metadata": {
    "ExecuteTime": {
     "end_time": "2024-08-17T10:19:07.346472Z",
     "start_time": "2024-08-17T10:19:06.951363Z"
    },
    "slideshow": {
     "slide_type": "fragment"
    },
    "tags": []
   },
   "outputs": [
    {
     "name": "stdout",
     "output_type": "stream",
     "text": [
      "{'coord': {'lon': 10.8358, 'lat': 59.7195}, 'weather': [{'id': 803, 'main': 'Clouds', 'description': 'broken clouds', 'icon': '04n'}], 'base': 'stations', 'main': {'temp': 269.45, 'feels_like': 266.05, 'temp_min': 268.33, 'temp_max': 270.53, 'pressure': 995, 'humidity': 65, 'sea_level': 995, 'grnd_level': 978}, 'visibility': 10000, 'wind': {'speed': 2.25, 'deg': 334, 'gust': 7.59}, 'clouds': {'all': 61}, 'dt': 1732130220, 'sys': {'type': 2, 'id': 2012246, 'country': 'NO', 'sunrise': 1732087549, 'sunset': 1732113553}, 'timezone': 3600, 'id': 3139081, 'name': 'Ski', 'cod': 200}\n"
     ]
    }
   ],
   "source": [
    "response = requests.get(url).json()\n",
    "print(response)"
   ]
  },
  {
   "cell_type": "code",
   "execution_count": 4,
   "metadata": {
    "ExecuteTime": {
     "end_time": "2024-08-17T10:19:07.356894Z",
     "start_time": "2024-08-17T10:19:07.353047Z"
    },
    "slideshow": {
     "slide_type": "fragment"
    },
    "tags": []
   },
   "outputs": [],
   "source": [
    "# Write JSON to file for viewing\n",
    "with open('downloads/weather.json', 'w') as f:\n",
    "    json.dump(response, f, indent=4)"
   ]
  },
  {
   "cell_type": "markdown",
   "metadata": {
    "slideshow": {
     "slide_type": "slide"
    }
   },
   "source": [
    "## Conversion functions\n",
    "Changing scales can make results more interpretable"
   ]
  },
  {
   "cell_type": "code",
   "execution_count": 5,
   "metadata": {
    "ExecuteTime": {
     "end_time": "2024-08-17T10:19:07.360029Z",
     "start_time": "2024-08-17T10:19:07.358341Z"
    },
    "slideshow": {
     "slide_type": "fragment"
    },
    "tags": []
   },
   "outputs": [],
   "source": [
    "# Kelvin to Celsius\n",
    "def kelvin_to_celsius(temp):\n",
    "    return temp - 273.15\n",
    "\n",
    "# Meters per second to knots\n",
    "def mps_to_knots(speed):\n",
    "    return speed * 1.943844"
   ]
  },
  {
   "cell_type": "markdown",
   "metadata": {
    "slideshow": {
     "slide_type": "slide"
    }
   },
   "source": [
    "## Print some weather properties"
   ]
  },
  {
   "cell_type": "code",
   "execution_count": 6,
   "metadata": {
    "ExecuteTime": {
     "end_time": "2024-08-17T10:19:07.362209Z",
     "start_time": "2024-08-17T10:19:07.360604Z"
    },
    "slideshow": {
     "slide_type": "fragment"
    },
    "tags": []
   },
   "outputs": [
    {
     "name": "stdout",
     "output_type": "stream",
     "text": [
      "The current temperature in Ski is -3.7 °C\n"
     ]
    }
   ],
   "source": [
    "# Current temperature\n",
    "temp_kelvin = response['main']['temp']\n",
    "temp_celsius = kelvin_to_celsius(temp_kelvin)\n",
    "print(f\"The current temperature in {CITY} is {temp_celsius:.1f} °C\")"
   ]
  },
  {
   "cell_type": "code",
   "execution_count": 7,
   "metadata": {
    "ExecuteTime": {
     "end_time": "2024-08-17T10:19:07.364358Z",
     "start_time": "2024-08-17T10:19:07.362759Z"
    },
    "slideshow": {
     "slide_type": "slide"
    },
    "tags": []
   },
   "outputs": [
    {
     "name": "stdout",
     "output_type": "stream",
     "text": [
      "Sunrise today is at 08:25 and sunset is at 15:39\n"
     ]
    }
   ],
   "source": [
    "# Sunrise and sunset today in local time\n",
    "sunrise = dt.datetime.fromtimestamp(response['sys']['sunrise'])\n",
    "sunset = dt.datetime.fromtimestamp(response['sys']['sunset'])\n",
    "print(f\"Sunrise today is at {sunrise:%H:%M} and sunset is at {sunset:%H:%M}\")"
   ]
  },
  {
   "cell_type": "code",
   "execution_count": 8,
   "metadata": {
    "ExecuteTime": {
     "end_time": "2024-08-17T10:19:07.367002Z",
     "start_time": "2024-08-17T10:19:07.365133Z"
    },
    "slideshow": {
     "slide_type": "fragment"
    },
    "tags": []
   },
   "outputs": [
    {
     "name": "stdout",
     "output_type": "stream",
     "text": [
      "Wind today is from 334° at 4.4 knots\n"
     ]
    }
   ],
   "source": [
    "# Wind direction and speed\n",
    "wind_knots = mps_to_knots(response['wind']['speed'])\n",
    "print(f\"Wind today is from {response['wind']['deg']}° at {round(wind_knots,1)} knots\")"
   ]
  },
  {
   "cell_type": "markdown",
   "metadata": {
    "slideshow": {
     "slide_type": "slide"
    }
   },
   "source": [
    "## Forecasted weather\n",
    "### Common definitions to use for all requests"
   ]
  },
  {
   "cell_type": "code",
   "execution_count": 9,
   "metadata": {
    "ExecuteTime": {
     "end_time": "2024-08-17T10:19:07.369150Z",
     "start_time": "2024-08-17T10:19:07.367438Z"
    },
    "slideshow": {
     "slide_type": "fragment"
    },
    "tags": []
   },
   "outputs": [],
   "source": [
    "BASE_URL = \"https://api.openweathermap.org/data/2.5/forecast?\"\n",
    "CITY = \"Mo i Rana\"\n",
    "\n",
    "urlF = BASE_URL + \"q=\" + CITY + \"&appid=\" + API_KEY"
   ]
  },
  {
   "cell_type": "markdown",
   "metadata": {
    "slideshow": {
     "slide_type": "slide"
    }
   },
   "source": [
    "## Request forecasted weather in chosen city"
   ]
  },
  {
   "cell_type": "code",
   "execution_count": 10,
   "metadata": {
    "ExecuteTime": {
     "end_time": "2024-08-17T10:19:07.505916Z",
     "start_time": "2024-08-17T10:19:07.369779Z"
    },
    "slideshow": {
     "slide_type": "fragment"
    },
    "tags": []
   },
   "outputs": [
    {
     "name": "stdout",
     "output_type": "stream",
     "text": [
      "{'cod': '200', 'message': 0, 'cnt': 40, 'list': [{'dt': 1732136400, 'main': {'temp': 266.84, 'feels_like': 261.24, 'temp_min': 265.11, 'temp_max': 266.84, 'pressure': 1008, 'sea_level': 1008, 'grnd_level': 954, 'humidity': 77, 'temp_kf': 1.73}, 'weather': [{'id': 802, 'main': 'Clouds', 'description': 'scattered clouds', 'icon': '03n'}], 'clouds': {'all': 43}, 'wind': {'speed': 3.85, 'deg': 81, 'gust': 4.3}, 'visibility': 10000, 'pop': 0, 'sys': {'pod': 'n'}, 'dt_txt': '2024-11-20 21:00:00'}, {'dt': 1732147200, 'main': {'temp': 265.64, 'feels_like': 259.82, 'temp_min': 264.61, 'temp_max': 265.64, 'pressure': 1008, 'sea_level': 1008, 'grnd_level': 954, 'humidity': 79, 'temp_kf': 1.03}, 'weather': [{'id': 803, 'main': 'Clouds', 'description': 'broken clouds', 'icon': '04n'}], 'clouds': {'all': 65}, 'wind': {'speed': 3.8, 'deg': 78, 'gust': 4.26}, 'visibility': 10000, 'pop': 0, 'sys': {'pod': 'n'}, 'dt_txt': '2024-11-21 00:00:00'}, {'dt': 1732158000, 'main': {'temp': 264.36, 'feels_like': 258.52, 'temp_min': 264.36, 'temp_max': 264.36, 'pressure': 1007, 'sea_level': 1007, 'grnd_level': 953, 'humidity': 79, 'temp_kf': 0}, 'weather': [{'id': 803, 'main': 'Clouds', 'description': 'broken clouds', 'icon': '04n'}], 'clouds': {'all': 79}, 'wind': {'speed': 3.53, 'deg': 85, 'gust': 3.84}, 'visibility': 10000, 'pop': 0, 'sys': {'pod': 'n'}, 'dt_txt': '2024-11-21 03:00:00'}, {'dt': 1732168800, 'main': {'temp': 263.99, 'feels_like': 258.68, 'temp_min': 263.99, 'temp_max': 263.99, 'pressure': 1006, 'sea_level': 1006, 'grnd_level': 952, 'humidity': 79, 'temp_kf': 0}, 'weather': [{'id': 803, 'main': 'Clouds', 'description': 'broken clouds', 'icon': '04n'}], 'clouds': {'all': 76}, 'wind': {'speed': 2.97, 'deg': 89, 'gust': 2.74}, 'visibility': 10000, 'pop': 0, 'sys': {'pod': 'n'}, 'dt_txt': '2024-11-21 06:00:00'}, {'dt': 1732179600, 'main': {'temp': 264.92, 'feels_like': 260.77, 'temp_min': 264.92, 'temp_max': 264.92, 'pressure': 1004, 'sea_level': 1004, 'grnd_level': 950, 'humidity': 78, 'temp_kf': 0}, 'weather': [{'id': 804, 'main': 'Clouds', 'description': 'overcast clouds', 'icon': '04d'}], 'clouds': {'all': 98}, 'wind': {'speed': 2.22, 'deg': 97, 'gust': 2.31}, 'visibility': 10000, 'pop': 0, 'sys': {'pod': 'd'}, 'dt_txt': '2024-11-21 09:00:00'}, {'dt': 1732190400, 'main': {'temp': 265.25, 'feels_like': 261.69, 'temp_min': 265.25, 'temp_max': 265.25, 'pressure': 1002, 'sea_level': 1002, 'grnd_level': 948, 'humidity': 76, 'temp_kf': 0}, 'weather': [{'id': 804, 'main': 'Clouds', 'description': 'overcast clouds', 'icon': '04d'}], 'clouds': {'all': 99}, 'wind': {'speed': 1.88, 'deg': 96, 'gust': 2.12}, 'visibility': 10000, 'pop': 0, 'sys': {'pod': 'd'}, 'dt_txt': '2024-11-21 12:00:00'}, {'dt': 1732201200, 'main': {'temp': 264.33, 'feels_like': 261.4, 'temp_min': 264.33, 'temp_max': 264.33, 'pressure': 999, 'sea_level': 999, 'grnd_level': 946, 'humidity': 76, 'temp_kf': 0}, 'weather': [{'id': 804, 'main': 'Clouds', 'description': 'overcast clouds', 'icon': '04n'}], 'clouds': {'all': 100}, 'wind': {'speed': 1.47, 'deg': 87, 'gust': 1.89}, 'visibility': 10000, 'pop': 0, 'sys': {'pod': 'n'}, 'dt_txt': '2024-11-21 15:00:00'}, {'dt': 1732212000, 'main': {'temp': 264.08, 'feels_like': 261.01, 'temp_min': 264.08, 'temp_max': 264.08, 'pressure': 997, 'sea_level': 997, 'grnd_level': 944, 'humidity': 75, 'temp_kf': 0}, 'weather': [{'id': 804, 'main': 'Clouds', 'description': 'overcast clouds', 'icon': '04n'}], 'clouds': {'all': 100}, 'wind': {'speed': 1.52, 'deg': 73, 'gust': 2.08}, 'visibility': 10000, 'pop': 0, 'sys': {'pod': 'n'}, 'dt_txt': '2024-11-21 18:00:00'}, {'dt': 1732222800, 'main': {'temp': 265.45, 'feels_like': 261.31, 'temp_min': 265.45, 'temp_max': 265.45, 'pressure': 996, 'sea_level': 996, 'grnd_level': 942, 'humidity': 72, 'temp_kf': 0}, 'weather': [{'id': 804, 'main': 'Clouds', 'description': 'overcast clouds', 'icon': '04n'}], 'clouds': {'all': 100}, 'wind': {'speed': 2.28, 'deg': 76, 'gust': 2.65}, 'visibility': 10000, 'pop': 0, 'sys': {'pod': 'n'}, 'dt_txt': '2024-11-21 21:00:00'}, {'dt': 1732233600, 'main': {'temp': 265.51, 'feels_like': 262.41, 'temp_min': 265.51, 'temp_max': 265.51, 'pressure': 994, 'sea_level': 994, 'grnd_level': 941, 'humidity': 76, 'temp_kf': 0}, 'weather': [{'id': 804, 'main': 'Clouds', 'description': 'overcast clouds', 'icon': '04n'}], 'clouds': {'all': 100}, 'wind': {'speed': 1.64, 'deg': 49, 'gust': 1.96}, 'visibility': 10000, 'pop': 0, 'sys': {'pod': 'n'}, 'dt_txt': '2024-11-22 00:00:00'}, {'dt': 1732244400, 'main': {'temp': 264.9, 'feels_like': 264.9, 'temp_min': 264.9, 'temp_max': 264.9, 'pressure': 992, 'sea_level': 992, 'grnd_level': 939, 'humidity': 76, 'temp_kf': 0}, 'weather': [{'id': 804, 'main': 'Clouds', 'description': 'overcast clouds', 'icon': '04n'}], 'clouds': {'all': 100}, 'wind': {'speed': 0.71, 'deg': 159, 'gust': 1.8}, 'visibility': 10000, 'pop': 0, 'sys': {'pod': 'n'}, 'dt_txt': '2024-11-22 03:00:00'}, {'dt': 1732255200, 'main': {'temp': 264.61, 'feels_like': 264.61, 'temp_min': 264.61, 'temp_max': 264.61, 'pressure': 991, 'sea_level': 991, 'grnd_level': 937, 'humidity': 75, 'temp_kf': 0}, 'weather': [{'id': 804, 'main': 'Clouds', 'description': 'overcast clouds', 'icon': '04n'}], 'clouds': {'all': 100}, 'wind': {'speed': 0.77, 'deg': 142, 'gust': 1.58}, 'visibility': 10000, 'pop': 0, 'sys': {'pod': 'n'}, 'dt_txt': '2024-11-22 06:00:00'}, {'dt': 1732266000, 'main': {'temp': 264.87, 'feels_like': 264.87, 'temp_min': 264.87, 'temp_max': 264.87, 'pressure': 989, 'sea_level': 989, 'grnd_level': 936, 'humidity': 77, 'temp_kf': 0}, 'weather': [{'id': 804, 'main': 'Clouds', 'description': 'overcast clouds', 'icon': '04d'}], 'clouds': {'all': 99}, 'wind': {'speed': 0.41, 'deg': 121, 'gust': 1.34}, 'visibility': 10000, 'pop': 0, 'sys': {'pod': 'd'}, 'dt_txt': '2024-11-22 09:00:00'}, {'dt': 1732276800, 'main': {'temp': 266.17, 'feels_like': 266.17, 'temp_min': 266.17, 'temp_max': 266.17, 'pressure': 988, 'sea_level': 988, 'grnd_level': 936, 'humidity': 76, 'temp_kf': 0}, 'weather': [{'id': 804, 'main': 'Clouds', 'description': 'overcast clouds', 'icon': '04d'}], 'clouds': {'all': 100}, 'wind': {'speed': 1.03, 'deg': 96, 'gust': 0.99}, 'visibility': 10000, 'pop': 0, 'sys': {'pod': 'd'}, 'dt_txt': '2024-11-22 12:00:00'}, {'dt': 1732287600, 'main': {'temp': 265.58, 'feels_like': 265.58, 'temp_min': 265.58, 'temp_max': 265.58, 'pressure': 989, 'sea_level': 989, 'grnd_level': 936, 'humidity': 81, 'temp_kf': 0}, 'weather': [{'id': 804, 'main': 'Clouds', 'description': 'overcast clouds', 'icon': '04n'}], 'clouds': {'all': 100}, 'wind': {'speed': 1.05, 'deg': 60, 'gust': 0.86}, 'visibility': 10000, 'pop': 0, 'sys': {'pod': 'n'}, 'dt_txt': '2024-11-22 15:00:00'}, {'dt': 1732298400, 'main': {'temp': 265.1, 'feels_like': 265.1, 'temp_min': 265.1, 'temp_max': 265.1, 'pressure': 990, 'sea_level': 990, 'grnd_level': 937, 'humidity': 83, 'temp_kf': 0}, 'weather': [{'id': 804, 'main': 'Clouds', 'description': 'overcast clouds', 'icon': '04n'}], 'clouds': {'all': 100}, 'wind': {'speed': 0.75, 'deg': 78, 'gust': 1.04}, 'visibility': 10000, 'pop': 0, 'sys': {'pod': 'n'}, 'dt_txt': '2024-11-22 18:00:00'}, {'dt': 1732309200, 'main': {'temp': 263.62, 'feels_like': 263.62, 'temp_min': 263.62, 'temp_max': 263.62, 'pressure': 992, 'sea_level': 992, 'grnd_level': 938, 'humidity': 83, 'temp_kf': 0}, 'weather': [{'id': 803, 'main': 'Clouds', 'description': 'broken clouds', 'icon': '04n'}], 'clouds': {'all': 60}, 'wind': {'speed': 0.48, 'deg': 103, 'gust': 1.1}, 'visibility': 10000, 'pop': 0, 'sys': {'pod': 'n'}, 'dt_txt': '2024-11-22 21:00:00'}, {'dt': 1732320000, 'main': {'temp': 263.24, 'feels_like': 263.24, 'temp_min': 263.24, 'temp_max': 263.24, 'pressure': 994, 'sea_level': 994, 'grnd_level': 940, 'humidity': 82, 'temp_kf': 0}, 'weather': [{'id': 803, 'main': 'Clouds', 'description': 'broken clouds', 'icon': '04n'}], 'clouds': {'all': 73}, 'wind': {'speed': 0.55, 'deg': 125, 'gust': 1.1}, 'visibility': 10000, 'pop': 0, 'sys': {'pod': 'n'}, 'dt_txt': '2024-11-23 00:00:00'}, {'dt': 1732330800, 'main': {'temp': 263.13, 'feels_like': 263.13, 'temp_min': 263.13, 'temp_max': 263.13, 'pressure': 996, 'sea_level': 996, 'grnd_level': 942, 'humidity': 81, 'temp_kf': 0}, 'weather': [{'id': 803, 'main': 'Clouds', 'description': 'broken clouds', 'icon': '04n'}], 'clouds': {'all': 71}, 'wind': {'speed': 0.54, 'deg': 155, 'gust': 1.07}, 'visibility': 10000, 'pop': 0, 'sys': {'pod': 'n'}, 'dt_txt': '2024-11-23 03:00:00'}, {'dt': 1732341600, 'main': {'temp': 264, 'feels_like': 264, 'temp_min': 264, 'temp_max': 264, 'pressure': 998, 'sea_level': 998, 'grnd_level': 944, 'humidity': 83, 'temp_kf': 0}, 'weather': [{'id': 803, 'main': 'Clouds', 'description': 'broken clouds', 'icon': '04n'}], 'clouds': {'all': 76}, 'wind': {'speed': 1.32, 'deg': 169, 'gust': 1.02}, 'visibility': 10000, 'pop': 0, 'sys': {'pod': 'n'}, 'dt_txt': '2024-11-23 06:00:00'}, {'dt': 1732352400, 'main': {'temp': 265.54, 'feels_like': 265.54, 'temp_min': 265.54, 'temp_max': 265.54, 'pressure': 1000, 'sea_level': 1000, 'grnd_level': 947, 'humidity': 89, 'temp_kf': 0}, 'weather': [{'id': 600, 'main': 'Snow', 'description': 'light snow', 'icon': '13d'}], 'clouds': {'all': 100}, 'wind': {'speed': 1, 'deg': 214, 'gust': 0.88}, 'visibility': 2130, 'pop': 0.59, 'snow': {'3h': 0.23}, 'sys': {'pod': 'd'}, 'dt_txt': '2024-11-23 09:00:00'}, {'dt': 1732363200, 'main': {'temp': 267.36, 'feels_like': 267.36, 'temp_min': 267.36, 'temp_max': 267.36, 'pressure': 1002, 'sea_level': 1002, 'grnd_level': 948, 'humidity': 96, 'temp_kf': 0}, 'weather': [{'id': 600, 'main': 'Snow', 'description': 'light snow', 'icon': '13d'}], 'clouds': {'all': 100}, 'wind': {'speed': 1.1, 'deg': 226, 'gust': 1.07}, 'visibility': 406, 'pop': 0.9, 'snow': {'3h': 0.66}, 'sys': {'pod': 'd'}, 'dt_txt': '2024-11-23 12:00:00'}, {'dt': 1732374000, 'main': {'temp': 268.4, 'feels_like': 268.4, 'temp_min': 268.4, 'temp_max': 268.4, 'pressure': 1002, 'sea_level': 1002, 'grnd_level': 949, 'humidity': 96, 'temp_kf': 0}, 'weather': [{'id': 600, 'main': 'Snow', 'description': 'light snow', 'icon': '13n'}], 'clouds': {'all': 100}, 'wind': {'speed': 0.5, 'deg': 57, 'gust': 0}, 'visibility': 144, 'pop': 1, 'snow': {'3h': 0.67}, 'sys': {'pod': 'n'}, 'dt_txt': '2024-11-23 15:00:00'}, {'dt': 1732384800, 'main': {'temp': 268.27, 'feels_like': 268.27, 'temp_min': 268.27, 'temp_max': 268.27, 'pressure': 1004, 'sea_level': 1004, 'grnd_level': 951, 'humidity': 97, 'temp_kf': 0}, 'weather': [{'id': 600, 'main': 'Snow', 'description': 'light snow', 'icon': '13n'}], 'clouds': {'all': 100}, 'wind': {'speed': 0.96, 'deg': 176, 'gust': 0.63}, 'visibility': 611, 'pop': 1, 'snow': {'3h': 0.65}, 'sys': {'pod': 'n'}, 'dt_txt': '2024-11-23 18:00:00'}, {'dt': 1732395600, 'main': {'temp': 269.5, 'feels_like': 269.5, 'temp_min': 269.5, 'temp_max': 269.5, 'pressure': 1006, 'sea_level': 1006, 'grnd_level': 953, 'humidity': 97, 'temp_kf': 0}, 'weather': [{'id': 600, 'main': 'Snow', 'description': 'light snow', 'icon': '13n'}], 'clouds': {'all': 100}, 'wind': {'speed': 0.75, 'deg': 219, 'gust': 0.59}, 'visibility': 468, 'pop': 1, 'snow': {'3h': 0.48}, 'sys': {'pod': 'n'}, 'dt_txt': '2024-11-23 21:00:00'}, {'dt': 1732406400, 'main': {'temp': 269.81, 'feels_like': 269.81, 'temp_min': 269.81, 'temp_max': 269.81, 'pressure': 1007, 'sea_level': 1007, 'grnd_level': 954, 'humidity': 97, 'temp_kf': 0}, 'weather': [{'id': 600, 'main': 'Snow', 'description': 'light snow', 'icon': '13n'}], 'clouds': {'all': 99}, 'wind': {'speed': 0.9, 'deg': 206, 'gust': 1}, 'visibility': 790, 'pop': 0.97, 'snow': {'3h': 0.38}, 'sys': {'pod': 'n'}, 'dt_txt': '2024-11-24 00:00:00'}, {'dt': 1732417200, 'main': {'temp': 269.58, 'feels_like': 269.58, 'temp_min': 269.58, 'temp_max': 269.58, 'pressure': 1008, 'sea_level': 1008, 'grnd_level': 955, 'humidity': 96, 'temp_kf': 0}, 'weather': [{'id': 600, 'main': 'Snow', 'description': 'light snow', 'icon': '13n'}], 'clouds': {'all': 100}, 'wind': {'speed': 1.23, 'deg': 215, 'gust': 1.19}, 'visibility': 3232, 'pop': 0.43, 'snow': {'3h': 0.27}, 'sys': {'pod': 'n'}, 'dt_txt': '2024-11-24 03:00:00'}, {'dt': 1732428000, 'main': {'temp': 268.96, 'feels_like': 268.96, 'temp_min': 268.96, 'temp_max': 268.96, 'pressure': 1009, 'sea_level': 1009, 'grnd_level': 956, 'humidity': 95, 'temp_kf': 0}, 'weather': [{'id': 600, 'main': 'Snow', 'description': 'light snow', 'icon': '13n'}], 'clouds': {'all': 100}, 'wind': {'speed': 1.07, 'deg': 196, 'gust': 0.97}, 'visibility': 1943, 'pop': 0.53, 'snow': {'3h': 0.31}, 'sys': {'pod': 'n'}, 'dt_txt': '2024-11-24 06:00:00'}, {'dt': 1732438800, 'main': {'temp': 267.96, 'feels_like': 267.96, 'temp_min': 267.96, 'temp_max': 267.96, 'pressure': 1011, 'sea_level': 1011, 'grnd_level': 957, 'humidity': 93, 'temp_kf': 0}, 'weather': [{'id': 600, 'main': 'Snow', 'description': 'light snow', 'icon': '13d'}], 'clouds': {'all': 100}, 'wind': {'speed': 0.92, 'deg': 114, 'gust': 0.93}, 'visibility': 10000, 'pop': 0.34, 'snow': {'3h': 0.2}, 'sys': {'pod': 'd'}, 'dt_txt': '2024-11-24 09:00:00'}, {'dt': 1732449600, 'main': {'temp': 266.89, 'feels_like': 262.69, 'temp_min': 266.89, 'temp_max': 266.89, 'pressure': 1010, 'sea_level': 1010, 'grnd_level': 956, 'humidity': 89, 'temp_kf': 0}, 'weather': [{'id': 803, 'main': 'Clouds', 'description': 'broken clouds', 'icon': '04d'}], 'clouds': {'all': 83}, 'wind': {'speed': 2.52, 'deg': 86, 'gust': 2.38}, 'visibility': 10000, 'pop': 0, 'sys': {'pod': 'd'}, 'dt_txt': '2024-11-24 12:00:00'}, {'dt': 1732460400, 'main': {'temp': 265.82, 'feels_like': 260.55, 'temp_min': 265.82, 'temp_max': 265.82, 'pressure': 1009, 'sea_level': 1009, 'grnd_level': 955, 'humidity': 87, 'temp_kf': 0}, 'weather': [{'id': 801, 'main': 'Clouds', 'description': 'few clouds', 'icon': '02n'}], 'clouds': {'all': 19}, 'wind': {'speed': 3.27, 'deg': 76, 'gust': 2.86}, 'visibility': 10000, 'pop': 0, 'sys': {'pod': 'n'}, 'dt_txt': '2024-11-24 15:00:00'}, {'dt': 1732471200, 'main': {'temp': 266.81, 'feels_like': 261.11, 'temp_min': 266.81, 'temp_max': 266.81, 'pressure': 1006, 'sea_level': 1006, 'grnd_level': 953, 'humidity': 83, 'temp_kf': 0}, 'weather': [{'id': 803, 'main': 'Clouds', 'description': 'broken clouds', 'icon': '04n'}], 'clouds': {'all': 57}, 'wind': {'speed': 3.96, 'deg': 77, 'gust': 4.32}, 'visibility': 10000, 'pop': 0, 'sys': {'pod': 'n'}, 'dt_txt': '2024-11-24 18:00:00'}, {'dt': 1732482000, 'main': {'temp': 268.68, 'feels_like': 263.16, 'temp_min': 268.68, 'temp_max': 268.68, 'pressure': 1003, 'sea_level': 1003, 'grnd_level': 950, 'humidity': 84, 'temp_kf': 0}, 'weather': [{'id': 804, 'main': 'Clouds', 'description': 'overcast clouds', 'icon': '04n'}], 'clouds': {'all': 100}, 'wind': {'speed': 4.28, 'deg': 77, 'gust': 5.18}, 'visibility': 10000, 'pop': 0, 'sys': {'pod': 'n'}, 'dt_txt': '2024-11-24 21:00:00'}, {'dt': 1732492800, 'main': {'temp': 269.29, 'feels_like': 263.96, 'temp_min': 269.29, 'temp_max': 269.29, 'pressure': 999, 'sea_level': 999, 'grnd_level': 946, 'humidity': 88, 'temp_kf': 0}, 'weather': [{'id': 600, 'main': 'Snow', 'description': 'light snow', 'icon': '13n'}], 'clouds': {'all': 100}, 'wind': {'speed': 4.21, 'deg': 73, 'gust': 5.1}, 'visibility': 10000, 'pop': 0.2, 'snow': {'3h': 0.1}, 'sys': {'pod': 'n'}, 'dt_txt': '2024-11-25 00:00:00'}, {'dt': 1732503600, 'main': {'temp': 270.24, 'feels_like': 265.49, 'temp_min': 270.24, 'temp_max': 270.24, 'pressure': 994, 'sea_level': 994, 'grnd_level': 942, 'humidity': 93, 'temp_kf': 0}, 'weather': [{'id': 600, 'main': 'Snow', 'description': 'light snow', 'icon': '13n'}], 'clouds': {'all': 100}, 'wind': {'speed': 3.75, 'deg': 74, 'gust': 5.41}, 'visibility': 10000, 'pop': 0.88, 'snow': {'3h': 0.32}, 'sys': {'pod': 'n'}, 'dt_txt': '2024-11-25 03:00:00'}, {'dt': 1732514400, 'main': {'temp': 270.58, 'feels_like': 266.46, 'temp_min': 270.58, 'temp_max': 270.58, 'pressure': 992, 'sea_level': 992, 'grnd_level': 940, 'humidity': 93, 'temp_kf': 0}, 'weather': [{'id': 600, 'main': 'Snow', 'description': 'light snow', 'icon': '13n'}], 'clouds': {'all': 100}, 'wind': {'speed': 3.11, 'deg': 77, 'gust': 4.11}, 'visibility': 455, 'pop': 0.39, 'snow': {'3h': 0.18}, 'sys': {'pod': 'n'}, 'dt_txt': '2024-11-25 06:00:00'}, {'dt': 1732525200, 'main': {'temp': 271.6, 'feels_like': 268.6, 'temp_min': 271.6, 'temp_max': 271.6, 'pressure': 988, 'sea_level': 988, 'grnd_level': 936, 'humidity': 97, 'temp_kf': 0}, 'weather': [{'id': 601, 'main': 'Snow', 'description': 'snow', 'icon': '13d'}], 'clouds': {'all': 100}, 'wind': {'speed': 2.23, 'deg': 65, 'gust': 2.91}, 'visibility': 134, 'pop': 1, 'snow': {'3h': 4.97}, 'sys': {'pod': 'd'}, 'dt_txt': '2024-11-25 09:00:00'}, {'dt': 1732536000, 'main': {'temp': 272.99, 'feels_like': 272.99, 'temp_min': 272.99, 'temp_max': 272.99, 'pressure': 987, 'sea_level': 987, 'grnd_level': 936, 'humidity': 97, 'temp_kf': 0}, 'weather': [{'id': 601, 'main': 'Snow', 'description': 'snow', 'icon': '13d'}], 'clouds': {'all': 100}, 'wind': {'speed': 1.06, 'deg': 93, 'gust': 0.89}, 'visibility': 312, 'pop': 1, 'snow': {'3h': 1.68}, 'sys': {'pod': 'd'}, 'dt_txt': '2024-11-25 12:00:00'}, {'dt': 1732546800, 'main': {'temp': 273.48, 'feels_like': 271.71, 'temp_min': 273.48, 'temp_max': 273.48, 'pressure': 986, 'sea_level': 986, 'grnd_level': 934, 'humidity': 97, 'temp_kf': 0}, 'weather': [{'id': 600, 'main': 'Snow', 'description': 'light snow', 'icon': '13n'}], 'clouds': {'all': 100}, 'wind': {'speed': 1.54, 'deg': 103, 'gust': 1.66}, 'visibility': 280, 'pop': 1, 'snow': {'3h': 0.87}, 'sys': {'pod': 'n'}, 'dt_txt': '2024-11-25 15:00:00'}, {'dt': 1732557600, 'main': {'temp': 274.46, 'feels_like': 274.46, 'temp_min': 274.46, 'temp_max': 274.46, 'pressure': 985, 'sea_level': 985, 'grnd_level': 934, 'humidity': 98, 'temp_kf': 0}, 'weather': [{'id': 601, 'main': 'Snow', 'description': 'snow', 'icon': '13n'}], 'clouds': {'all': 100}, 'wind': {'speed': 0.52, 'deg': 160, 'gust': 0.44}, 'visibility': 450, 'pop': 1, 'snow': {'3h': 1.92}, 'sys': {'pod': 'n'}, 'dt_txt': '2024-11-25 18:00:00'}], 'city': {'id': 3145614, 'name': 'Mo i Rana', 'coord': {'lat': 66.3128, 'lon': 14.1428}, 'country': 'NO', 'population': 17853, 'timezone': 3600, 'sunrise': 1732090487, 'sunset': 1732109028}}\n"
     ]
    }
   ],
   "source": [
    "responseF = requests.get(urlF).json()\n",
    "#print(json.dumps(responseF, indent=4))\n",
    "print(responseF)"
   ]
  },
  {
   "cell_type": "code",
   "execution_count": 11,
   "metadata": {
    "ExecuteTime": {
     "end_time": "2024-08-17T10:19:07.510514Z",
     "start_time": "2024-08-17T10:19:07.506586Z"
    },
    "slideshow": {
     "slide_type": "slide"
    },
    "tags": []
   },
   "outputs": [],
   "source": [
    "# Write JSON to file for viewing\n",
    "with open('downloads/forecast.json', 'w') as f:\n",
    "    json.dump(responseF, f, indent=4)"
   ]
  },
  {
   "cell_type": "markdown",
   "metadata": {
    "slideshow": {
     "slide_type": "slide"
    }
   },
   "source": [
    "### When and what?\n",
    "Check contents and time stamps"
   ]
  },
  {
   "cell_type": "code",
   "execution_count": 12,
   "metadata": {
    "ExecuteTime": {
     "end_time": "2024-08-17T10:19:07.514214Z",
     "start_time": "2024-08-17T10:19:07.511162Z"
    },
    "slideshow": {
     "slide_type": "fragment"
    },
    "tags": []
   },
   "outputs": [
    {
     "data": {
      "text/plain": [
       "dict_keys(['cod', 'message', 'cnt', 'list', 'city'])"
      ]
     },
     "execution_count": 12,
     "metadata": {},
     "output_type": "execute_result"
    }
   ],
   "source": [
    "# Content of responseF\n",
    "responseF.keys()"
   ]
  },
  {
   "cell_type": "code",
   "execution_count": 13,
   "metadata": {
    "ExecuteTime": {
     "end_time": "2024-08-17T10:19:07.516813Z",
     "start_time": "2024-08-17T10:19:07.514918Z"
    },
    "slideshow": {
     "slide_type": "fragment"
    },
    "tags": []
   },
   "outputs": [
    {
     "name": "stdout",
     "output_type": "stream",
     "text": [
      "40\n"
     ]
    }
   ],
   "source": [
    "# Number of forecasts\n",
    "print(len(responseF[\"list\"]))"
   ]
  },
  {
   "cell_type": "code",
   "execution_count": 14,
   "metadata": {
    "ExecuteTime": {
     "end_time": "2024-08-17T10:19:07.520443Z",
     "start_time": "2024-08-17T10:19:07.518884Z"
    },
    "slideshow": {
     "slide_type": "slide"
    },
    "tags": []
   },
   "outputs": [
    {
     "name": "stdout",
     "output_type": "stream",
     "text": [
      "2024-11-20 21:00:00\n",
      "2024-11-21 00:00:00\n",
      "2024-11-21 03:00:00\n",
      "2024-11-21 06:00:00\n",
      "2024-11-21 09:00:00\n",
      "2024-11-21 12:00:00\n",
      "2024-11-21 15:00:00\n",
      "2024-11-21 18:00:00\n",
      "2024-11-21 21:00:00\n",
      "2024-11-22 00:00:00\n",
      "2024-11-22 03:00:00\n",
      "2024-11-22 06:00:00\n",
      "2024-11-22 09:00:00\n",
      "2024-11-22 12:00:00\n",
      "2024-11-22 15:00:00\n",
      "2024-11-22 18:00:00\n",
      "2024-11-22 21:00:00\n",
      "2024-11-23 00:00:00\n",
      "2024-11-23 03:00:00\n",
      "2024-11-23 06:00:00\n",
      "2024-11-23 09:00:00\n",
      "2024-11-23 12:00:00\n",
      "2024-11-23 15:00:00\n",
      "2024-11-23 18:00:00\n",
      "2024-11-23 21:00:00\n",
      "2024-11-24 00:00:00\n",
      "2024-11-24 03:00:00\n",
      "2024-11-24 06:00:00\n",
      "2024-11-24 09:00:00\n",
      "2024-11-24 12:00:00\n",
      "2024-11-24 15:00:00\n",
      "2024-11-24 18:00:00\n",
      "2024-11-24 21:00:00\n",
      "2024-11-25 00:00:00\n",
      "2024-11-25 03:00:00\n",
      "2024-11-25 06:00:00\n",
      "2024-11-25 09:00:00\n",
      "2024-11-25 12:00:00\n",
      "2024-11-25 15:00:00\n",
      "2024-11-25 18:00:00\n"
     ]
    }
   ],
   "source": [
    "# Print forecast times\n",
    "for forecast in responseF[\"list\"]:\n",
    "    print(forecast[\"dt_txt\"])"
   ]
  },
  {
   "cell_type": "markdown",
   "metadata": {
    "slideshow": {
     "slide_type": "slide"
    }
   },
   "source": [
    "## Make plots of omnipresent measurements and events\n",
    "We will later look at missing data, data only sporadically appearing and so on."
   ]
  },
  {
   "cell_type": "code",
   "execution_count": 15,
   "metadata": {
    "ExecuteTime": {
     "end_time": "2024-08-17T10:19:07.522603Z",
     "start_time": "2024-08-17T10:19:07.521029Z"
    },
    "slideshow": {
     "slide_type": "fragment"
    },
    "tags": []
   },
   "outputs": [],
   "source": [
    "# Air pressure per period\n",
    "pressures = []\n",
    "timestamps = []\n",
    "for forecast in responseF[\"list\"]:\n",
    "    pressures.append(forecast[\"main\"][\"pressure\"])\n",
    "    timestamps.append(dt.datetime.fromtimestamp(forecast[\"dt\"]))"
   ]
  },
  {
   "cell_type": "code",
   "execution_count": 16,
   "metadata": {
    "ExecuteTime": {
     "end_time": "2024-08-17T10:19:08.124779Z",
     "start_time": "2024-08-17T10:19:07.523100Z"
    },
    "slideshow": {
     "slide_type": "slide"
    },
    "tags": []
   },
   "outputs": [
    {
     "data": {
      "image/png": "[encoded data removed]",
      "text/plain": [
       "<Figure size 640x480 with 1 Axes>"
      ]
     },
     "metadata": {},
     "output_type": "display_data"
    }
   ],
   "source": [
    "import matplotlib.pyplot as plt\n",
    "plt.bar(timestamps, pressures)\n",
    "plt.xticks(rotation=45)\n",
    "plt.ylim(980, 1050)\n",
    "plt.grid()\n",
    "plt.ylabel(\"Air pressure (hPa)\")\n",
    "plt.title(f\"Forecasted air pressure in {CITY}\")\n",
    "plt.show()"
   ]
  },
  {
   "cell_type": "markdown",
   "metadata": {
    "slideshow": {
     "slide_type": "slide"
    }
   },
   "source": [
    "## Exercise\n",
    "- Make a new forecast request for your own hometown. Call your response something else than responseF.\n",
    "- If available, plot the humidity like we did with air pressure."
   ]
  },
  {
   "cell_type": "markdown",
   "metadata": {
    "slideshow": {
     "slide_type": "slide"
    }
   },
   "source": [
    "### Precipitation\n",
    "- ... comes in two main flavours: rain and snow.\n",
    "- We need to check which is present and set to zero if it is abscent."
   ]
  },
  {
   "cell_type": "code",
   "execution_count": 17,
   "metadata": {
    "ExecuteTime": {
     "end_time": "2024-08-17T10:19:08.128573Z",
     "start_time": "2024-08-17T10:19:08.125858Z"
    },
    "slideshow": {
     "slide_type": "fragment"
    },
    "tags": []
   },
   "outputs": [],
   "source": [
    "rain = []\n",
    "snow = []\n",
    "for forecast in responseF[\"list\"]:\n",
    "    try: # Check if rain is present in forecast\n",
    "        rain.append(forecast[\"rain\"][\"3h\"])\n",
    "    except KeyError:\n",
    "        rain.append(0)\n",
    "    try: # Check if snow is present in forecast\n",
    "        snow.append(forecast[\"snow\"][\"3h\"])\n",
    "    except KeyError:\n",
    "        snow.append(0)"
   ]
  },
  {
   "cell_type": "code",
   "execution_count": 18,
   "metadata": {
    "ExecuteTime": {
     "end_time": "2024-08-17T10:19:08.223315Z",
     "start_time": "2024-08-17T10:19:08.129282Z"
    },
    "slideshow": {
     "slide_type": "slide"
    },
    "tags": []
   },
   "outputs": [
    {
     "data": {
      "image/png": "[encoded data removed]",
      "text/plain": [
       "<Figure size 640x480 with 1 Axes>"
      ]
     },
     "metadata": {},
     "output_type": "display_data"
    }
   ],
   "source": [
    "# Stacked bar chart with rain and snow\n",
    "plt.bar(timestamps, rain, label=\"Rain\")\n",
    "plt.bar(timestamps, snow, label=\"Snow\")\n",
    "plt.xticks(rotation=45)\n",
    "plt.grid()\n",
    "plt.ylabel(\"Precipitation (mm)\")\n",
    "plt.title(f\"Forecasted precipitation in {CITY}\")\n",
    "plt.legend()\n",
    "plt.show()\n"
   ]
  },
  {
   "cell_type": "markdown",
   "metadata": {
    "slideshow": {
     "slide_type": "slide"
    }
   },
   "source": [
    "```{seealso} Resources\n",
    ":class: tip\n",
    "- [YouTube: NeuralNine's video (15m:32s)](https://www.youtube.com/watch?v=9P5MY_2i7K8)\n",
    "```"
   ]
  }
 ],
 "metadata": {
  "celltoolbar": "Slideshow",
  "kernelspec": {
   "display_name": "Python 3 (ipykernel)",
   "language": "python",
   "name": "python3"
  },
  "language_info": {
   "codemirror_mode": {
    "name": "ipython",
    "version": 3
   },
   "file_extension": ".py",
   "mimetype": "text/x-python",
   "name": "python",
   "nbconvert_exporter": "python",
   "pygments_lexer": "ipython3",
   "version": "3.12.4"
  }
 },
 "nbformat": 4,
 "nbformat_minor": 4
}