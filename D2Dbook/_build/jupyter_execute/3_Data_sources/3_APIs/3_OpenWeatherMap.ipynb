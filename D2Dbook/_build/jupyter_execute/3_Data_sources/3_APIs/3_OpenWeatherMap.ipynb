{
 "cells": [
  {
   "cell_type": "markdown",
   "metadata": {
    "slideshow": {
     "slide_type": "slide"
    }
   },
   "source": [
    "# Demonstration of API using OpenWeatherMap.org\n",
    "This demonstration is heavily inspired by [NeuralNine's video](https://www.youtube.com/watch?v=9P5MY_2i7K8).  \n",
    "You need a free account [from here](https://openweathermap.org/api).  \n",
    "The VS Code extension _JSON viewer_ is recommended for viewing downloaded JSON content.  \n",
    "  - Set your maximum API calls to 1000 per day to make sure you are under the limit for billing. \n",
    "  - To run the examples, download your API key, save it in the right folder (see below) in a file called _api\\_key\\_OpenWeather_, containing only the key (no spaces or \"enters\")."
   ]
  },
  {
   "cell_type": "code",
   "execution_count": 1,
   "metadata": {
    "ExecuteTime": {
     "end_time": "2024-08-17T10:19:06.946392Z",
     "start_time": "2024-08-17T10:19:06.887177Z"
    },
    "slideshow": {
     "slide_type": "fragment"
    },
    "tags": []
   },
   "outputs": [],
   "source": [
    "# Imports\n",
    "import datetime as dt\n",
    "import requests\n",
    "import json"
   ]
  },
  {
   "cell_type": "markdown",
   "metadata": {
    "slideshow": {
     "slide_type": "slide"
    }
   },
   "source": [
    "## Current weather\n",
    "### Common definitions to use for all requests"
   ]
  },
  {
   "cell_type": "code",
   "execution_count": 2,
   "metadata": {
    "ExecuteTime": {
     "end_time": "2024-08-17T10:19:06.950734Z",
     "start_time": "2024-08-17T10:19:06.948129Z"
    },
    "slideshow": {
     "slide_type": "fragment"
    },
    "tags": []
   },
   "outputs": [],
   "source": [
    "BASE_URL = \"http://api.openweathermap.org/data/2.5/weather?\"\n",
    "API_KEY = open('../../../No_sync/api_key_OpenWeather','r').read()\n",
    "CITY = \"Ski\"\n",
    "\n",
    "url = BASE_URL + \"q=\" + CITY + \"&appid=\" + API_KEY"
   ]
  },
  {
   "cell_type": "markdown",
   "metadata": {
    "slideshow": {
     "slide_type": "slide"
    }
   },
   "source": [
    "## Request current weather in chosen city"
   ]
  },
  {
   "cell_type": "code",
   "execution_count": 3,
   "metadata": {
    "ExecuteTime": {
     "end_time": "2024-08-17T10:19:07.346472Z",
     "start_time": "2024-08-17T10:19:06.951363Z"
    },
    "slideshow": {
     "slide_type": "fragment"
    },
    "tags": []
   },
   "outputs": [
    {
     "name": "stdout",
     "output_type": "stream",
     "text": [
      "{'coord': {'lon': 10.8358, 'lat': 59.7195}, 'weather': [{'id': 804, 'main': 'Clouds', 'description': 'overcast clouds', 'icon': '04n'}], 'base': 'stations', 'main': {'temp': 283.55, 'feels_like': 282.94, 'temp_min': 282.16, 'temp_max': 284.53, 'pressure': 1021, 'humidity': 88, 'sea_level': 1021, 'grnd_level': 1004}, 'visibility': 10000, 'wind': {'speed': 4.36, 'deg': 210, 'gust': 11}, 'clouds': {'all': 100}, 'dt': 1729708149, 'sys': {'type': 2, 'id': 2006772, 'country': 'NO', 'sunrise': 1729664132, 'sunset': 1729698363}, 'timezone': 7200, 'id': 3139081, 'name': 'Ski', 'cod': 200}\n"
     ]
    }
   ],
   "source": [
    "response = requests.get(url).json()\n",
    "print(response)"
   ]
  },
  {
   "cell_type": "code",
   "execution_count": 4,
   "metadata": {
    "ExecuteTime": {
     "end_time": "2024-08-17T10:19:07.356894Z",
     "start_time": "2024-08-17T10:19:07.353047Z"
    },
    "slideshow": {
     "slide_type": "fragment"
    },
    "tags": []
   },
   "outputs": [],
   "source": [
    "# Write JSON to file for viewing\n",
    "with open('downloads/weather.json', 'w') as f:\n",
    "    json.dump(response, f, indent=4)"
   ]
  },
  {
   "cell_type": "markdown",
   "metadata": {
    "slideshow": {
     "slide_type": "slide"
    }
   },
   "source": [
    "## Conversion functions\n",
    "Changing scales can make results more interpretable"
   ]
  },
  {
   "cell_type": "code",
   "execution_count": 5,
   "metadata": {
    "ExecuteTime": {
     "end_time": "2024-08-17T10:19:07.360029Z",
     "start_time": "2024-08-17T10:19:07.358341Z"
    },
    "slideshow": {
     "slide_type": "fragment"
    },
    "tags": []
   },
   "outputs": [],
   "source": [
    "# Kelvin to Celsius\n",
    "def kelvin_to_celsius(temp):\n",
    "    return temp - 273.15\n",
    "\n",
    "# Meters per second to knots\n",
    "def mps_to_knots(speed):\n",
    "    return speed * 1.943844"
   ]
  },
  {
   "cell_type": "markdown",
   "metadata": {
    "slideshow": {
     "slide_type": "slide"
    }
   },
   "source": [
    "## Print some weather properties"
   ]
  },
  {
   "cell_type": "code",
   "execution_count": 6,
   "metadata": {
    "ExecuteTime": {
     "end_time": "2024-08-17T10:19:07.362209Z",
     "start_time": "2024-08-17T10:19:07.360604Z"
    },
    "slideshow": {
     "slide_type": "fragment"
    },
    "tags": []
   },
   "outputs": [
    {
     "name": "stdout",
     "output_type": "stream",
     "text": [
      "The current temperature in Ski is 10.4 °C\n"
     ]
    }
   ],
   "source": [
    "# Current temperature\n",
    "temp_kelvin = response['main']['temp']\n",
    "temp_celsius = kelvin_to_celsius(temp_kelvin)\n",
    "print(f\"The current temperature in {CITY} is {temp_celsius:.1f} °C\")"
   ]
  },
  {
   "cell_type": "code",
   "execution_count": 7,
   "metadata": {
    "ExecuteTime": {
     "end_time": "2024-08-17T10:19:07.364358Z",
     "start_time": "2024-08-17T10:19:07.362759Z"
    },
    "slideshow": {
     "slide_type": "slide"
    },
    "tags": []
   },
   "outputs": [
    {
     "name": "stdout",
     "output_type": "stream",
     "text": [
      "Sunrise today is at 08:15 and sunset is at 17:46\n"
     ]
    }
   ],
   "source": [
    "# Sunrise and sunset today in local time\n",
    "sunrise = dt.datetime.fromtimestamp(response['sys']['sunrise'])\n",
    "sunset = dt.datetime.fromtimestamp(response['sys']['sunset'])\n",
    "print(f\"Sunrise today is at {sunrise:%H:%M} and sunset is at {sunset:%H:%M}\")"
   ]
  },
  {
   "cell_type": "code",
   "execution_count": 8,
   "metadata": {
    "ExecuteTime": {
     "end_time": "2024-08-17T10:19:07.367002Z",
     "start_time": "2024-08-17T10:19:07.365133Z"
    },
    "slideshow": {
     "slide_type": "fragment"
    },
    "tags": []
   },
   "outputs": [
    {
     "name": "stdout",
     "output_type": "stream",
     "text": [
      "Wind today is from 210° at 8.5 knots\n"
     ]
    }
   ],
   "source": [
    "# Wind direction and speed\n",
    "wind_knots = mps_to_knots(response['wind']['speed'])\n",
    "print(f\"Wind today is from {response['wind']['deg']}° at {round(wind_knots,1)} knots\")"
   ]
  },
  {
   "cell_type": "markdown",
   "metadata": {
    "slideshow": {
     "slide_type": "slide"
    }
   },
   "source": [
    "## Forecasted weather\n",
    "### Common definitions to use for all requests"
   ]
  },
  {
   "cell_type": "code",
   "execution_count": 9,
   "metadata": {
    "ExecuteTime": {
     "end_time": "2024-08-17T10:19:07.369150Z",
     "start_time": "2024-08-17T10:19:07.367438Z"
    },
    "slideshow": {
     "slide_type": "fragment"
    },
    "tags": []
   },
   "outputs": [],
   "source": [
    "BASE_URL = \"https://api.openweathermap.org/data/2.5/forecast?\"\n",
    "CITY = \"Mo i Rana\"\n",
    "\n",
    "urlF = BASE_URL + \"q=\" + CITY + \"&appid=\" + API_KEY"
   ]
  },
  {
   "cell_type": "markdown",
   "metadata": {
    "slideshow": {
     "slide_type": "slide"
    }
   },
   "source": [
    "## Request forecasted weather in chosen city"
   ]
  },
  {
   "cell_type": "code",
   "execution_count": 10,
   "metadata": {
    "ExecuteTime": {
     "end_time": "2024-08-17T10:19:07.505916Z",
     "start_time": "2024-08-17T10:19:07.369779Z"
    },
    "slideshow": {
     "slide_type": "fragment"
    },
    "tags": []
   },
   "outputs": [
    {
     "name": "stdout",
     "output_type": "stream",
     "text": [
      "{'cod': '200', 'message': 0, 'cnt': 40, 'list': [{'dt': 1729717200, 'main': {'temp': 278.43, 'feels_like': 278.43, 'temp_min': 278.43, 'temp_max': 278.62, 'pressure': 1007, 'sea_level': 1007, 'grnd_level': 958, 'humidity': 95, 'temp_kf': -0.19}, 'weather': [{'id': 500, 'main': 'Rain', 'description': 'light rain', 'icon': '10n'}], 'clouds': {'all': 83}, 'wind': {'speed': 1.07, 'deg': 234, 'gust': 2.27}, 'visibility': 287, 'pop': 0.87, 'rain': {'3h': 0.39}, 'sys': {'pod': 'n'}, 'dt_txt': '2024-10-23 21:00:00'}, {'dt': 1729728000, 'main': {'temp': 278.66, 'feels_like': 278.66, 'temp_min': 278.66, 'temp_max': 278.83, 'pressure': 1009, 'sea_level': 1009, 'grnd_level': 959, 'humidity': 96, 'temp_kf': -0.17}, 'weather': [{'id': 500, 'main': 'Rain', 'description': 'light rain', 'icon': '10n'}], 'clouds': {'all': 92}, 'wind': {'speed': 0.76, 'deg': 169, 'gust': 0.97}, 'visibility': 3866, 'pop': 1, 'rain': {'3h': 0.65}, 'sys': {'pod': 'n'}, 'dt_txt': '2024-10-24 00:00:00'}, {'dt': 1729738800, 'main': {'temp': 279.3, 'feels_like': 279.3, 'temp_min': 279.3, 'temp_max': 279.3, 'pressure': 1011, 'sea_level': 1011, 'grnd_level': 960, 'humidity': 98, 'temp_kf': 0}, 'weather': [{'id': 500, 'main': 'Rain', 'description': 'light rain', 'icon': '10n'}], 'clouds': {'all': 100}, 'wind': {'speed': 0.81, 'deg': 181, 'gust': 0.76}, 'visibility': 2672, 'pop': 1, 'rain': {'3h': 1.46}, 'sys': {'pod': 'n'}, 'dt_txt': '2024-10-24 03:00:00'}, {'dt': 1729749600, 'main': {'temp': 279.77, 'feels_like': 279.77, 'temp_min': 279.77, 'temp_max': 279.77, 'pressure': 1012, 'sea_level': 1012, 'grnd_level': 960, 'humidity': 98, 'temp_kf': 0}, 'weather': [{'id': 501, 'main': 'Rain', 'description': 'moderate rain', 'icon': '10n'}], 'clouds': {'all': 100}, 'wind': {'speed': 0.67, 'deg': 144, 'gust': 0.61}, 'visibility': 2741, 'pop': 1, 'rain': {'3h': 3.61}, 'sys': {'pod': 'n'}, 'dt_txt': '2024-10-24 06:00:00'}, {'dt': 1729760400, 'main': {'temp': 280.11, 'feels_like': 280.11, 'temp_min': 280.11, 'temp_max': 280.11, 'pressure': 1013, 'sea_level': 1013, 'grnd_level': 962, 'humidity': 98, 'temp_kf': 0}, 'weather': [{'id': 501, 'main': 'Rain', 'description': 'moderate rain', 'icon': '10d'}], 'clouds': {'all': 100}, 'wind': {'speed': 0.8, 'deg': 226, 'gust': 0.79}, 'visibility': 2476, 'pop': 1, 'rain': {'3h': 8.09}, 'sys': {'pod': 'd'}, 'dt_txt': '2024-10-24 09:00:00'}, {'dt': 1729771200, 'main': {'temp': 281.2, 'feels_like': 280.38, 'temp_min': 281.2, 'temp_max': 281.2, 'pressure': 1014, 'sea_level': 1014, 'grnd_level': 962, 'humidity': 98, 'temp_kf': 0}, 'weather': [{'id': 501, 'main': 'Rain', 'description': 'moderate rain', 'icon': '10d'}], 'clouds': {'all': 100}, 'wind': {'speed': 1.68, 'deg': 194, 'gust': 1.88}, 'visibility': 4107, 'pop': 1, 'rain': {'3h': 8.71}, 'sys': {'pod': 'd'}, 'dt_txt': '2024-10-24 12:00:00'}, {'dt': 1729782000, 'main': {'temp': 281.71, 'feels_like': 281.13, 'temp_min': 281.71, 'temp_max': 281.71, 'pressure': 1014, 'sea_level': 1014, 'grnd_level': 963, 'humidity': 97, 'temp_kf': 0}, 'weather': [{'id': 500, 'main': 'Rain', 'description': 'light rain', 'icon': '10d'}], 'clouds': {'all': 100}, 'wind': {'speed': 1.52, 'deg': 185, 'gust': 1.55}, 'visibility': 3993, 'pop': 1, 'rain': {'3h': 1.04}, 'sys': {'pod': 'd'}, 'dt_txt': '2024-10-24 15:00:00'}, {'dt': 1729792800, 'main': {'temp': 281.38, 'feels_like': 280.67, 'temp_min': 281.38, 'temp_max': 281.38, 'pressure': 1013, 'sea_level': 1013, 'grnd_level': 962, 'humidity': 96, 'temp_kf': 0}, 'weather': [{'id': 500, 'main': 'Rain', 'description': 'light rain', 'icon': '10n'}], 'clouds': {'all': 100}, 'wind': {'speed': 1.6, 'deg': 160, 'gust': 1.34}, 'visibility': 4090, 'pop': 1, 'rain': {'3h': 1.73}, 'sys': {'pod': 'n'}, 'dt_txt': '2024-10-24 18:00:00'}, {'dt': 1729803600, 'main': {'temp': 281.19, 'feels_like': 280.42, 'temp_min': 281.19, 'temp_max': 281.19, 'pressure': 1013, 'sea_level': 1013, 'grnd_level': 962, 'humidity': 95, 'temp_kf': 0}, 'weather': [{'id': 804, 'main': 'Clouds', 'description': 'overcast clouds', 'icon': '04n'}], 'clouds': {'all': 100}, 'wind': {'speed': 1.63, 'deg': 169, 'gust': 1.42}, 'visibility': 3899, 'pop': 0, 'sys': {'pod': 'n'}, 'dt_txt': '2024-10-24 21:00:00'}, {'dt': 1729814400, 'main': {'temp': 282.36, 'feels_like': 281.02, 'temp_min': 282.36, 'temp_max': 282.36, 'pressure': 1011, 'sea_level': 1011, 'grnd_level': 960, 'humidity': 82, 'temp_kf': 0}, 'weather': [{'id': 804, 'main': 'Clouds', 'description': 'overcast clouds', 'icon': '04n'}], 'clouds': {'all': 100}, 'wind': {'speed': 2.53, 'deg': 208, 'gust': 2.46}, 'visibility': 10000, 'pop': 0, 'sys': {'pod': 'n'}, 'dt_txt': '2024-10-25 00:00:00'}, {'dt': 1729825200, 'main': {'temp': 282.95, 'feels_like': 279.82, 'temp_min': 282.95, 'temp_max': 282.95, 'pressure': 1011, 'sea_level': 1011, 'grnd_level': 960, 'humidity': 78, 'temp_kf': 0}, 'weather': [{'id': 804, 'main': 'Clouds', 'description': 'overcast clouds', 'icon': '04n'}], 'clouds': {'all': 93}, 'wind': {'speed': 7.06, 'deg': 236, 'gust': 11.79}, 'visibility': 10000, 'pop': 0, 'sys': {'pod': 'n'}, 'dt_txt': '2024-10-25 03:00:00'}, {'dt': 1729836000, 'main': {'temp': 283.03, 'feels_like': 280.19, 'temp_min': 283.03, 'temp_max': 283.03, 'pressure': 1009, 'sea_level': 1009, 'grnd_level': 958, 'humidity': 82, 'temp_kf': 0}, 'weather': [{'id': 500, 'main': 'Rain', 'description': 'light rain', 'icon': '10n'}], 'clouds': {'all': 97}, 'wind': {'speed': 6.16, 'deg': 224, 'gust': 11.61}, 'visibility': 10000, 'pop': 0.99, 'rain': {'3h': 1.49}, 'sys': {'pod': 'n'}, 'dt_txt': '2024-10-25 06:00:00'}, {'dt': 1729846800, 'main': {'temp': 282.65, 'feels_like': 280.86, 'temp_min': 282.65, 'temp_max': 282.65, 'pressure': 1008, 'sea_level': 1008, 'grnd_level': 957, 'humidity': 94, 'temp_kf': 0}, 'weather': [{'id': 501, 'main': 'Rain', 'description': 'moderate rain', 'icon': '10d'}], 'clouds': {'all': 99}, 'wind': {'speed': 3.36, 'deg': 222, 'gust': 4.48}, 'visibility': 6557, 'pop': 1, 'rain': {'3h': 5.68}, 'sys': {'pod': 'd'}, 'dt_txt': '2024-10-25 09:00:00'}, {'dt': 1729857600, 'main': {'temp': 280.29, 'feels_like': 277.87, 'temp_min': 280.29, 'temp_max': 280.29, 'pressure': 1010, 'sea_level': 1010, 'grnd_level': 959, 'humidity': 97, 'temp_kf': 0}, 'weather': [{'id': 501, 'main': 'Rain', 'description': 'moderate rain', 'icon': '10d'}], 'clouds': {'all': 99}, 'wind': {'speed': 3.57, 'deg': 243, 'gust': 10.21}, 'visibility': 1634, 'pop': 1, 'rain': {'3h': 7.93}, 'sys': {'pod': 'd'}, 'dt_txt': '2024-10-25 12:00:00'}, {'dt': 1729868400, 'main': {'temp': 280.28, 'feels_like': 277.85, 'temp_min': 280.28, 'temp_max': 280.28, 'pressure': 1012, 'sea_level': 1012, 'grnd_level': 961, 'humidity': 93, 'temp_kf': 0}, 'weather': [{'id': 501, 'main': 'Rain', 'description': 'moderate rain', 'icon': '10n'}], 'clouds': {'all': 100}, 'wind': {'speed': 3.59, 'deg': 253, 'gust': 8.99}, 'visibility': 5490, 'pop': 1, 'rain': {'3h': 7.72}, 'sys': {'pod': 'n'}, 'dt_txt': '2024-10-25 15:00:00'}, {'dt': 1729879200, 'main': {'temp': 280.02, 'feels_like': 277.37, 'temp_min': 280.02, 'temp_max': 280.02, 'pressure': 1014, 'sea_level': 1014, 'grnd_level': 962, 'humidity': 79, 'temp_kf': 0}, 'weather': [{'id': 500, 'main': 'Rain', 'description': 'light rain', 'icon': '10n'}], 'clouds': {'all': 100}, 'wind': {'speed': 3.89, 'deg': 249, 'gust': 7.36}, 'visibility': 10000, 'pop': 1, 'rain': {'3h': 0.26}, 'sys': {'pod': 'n'}, 'dt_txt': '2024-10-25 18:00:00'}, {'dt': 1729890000, 'main': {'temp': 279.42, 'feels_like': 277.65, 'temp_min': 279.42, 'temp_max': 279.42, 'pressure': 1015, 'sea_level': 1015, 'grnd_level': 963, 'humidity': 83, 'temp_kf': 0}, 'weather': [{'id': 500, 'main': 'Rain', 'description': 'light rain', 'icon': '10n'}], 'clouds': {'all': 100}, 'wind': {'speed': 2.38, 'deg': 246, 'gust': 4.87}, 'visibility': 10000, 'pop': 0.2, 'rain': {'3h': 0.12}, 'sys': {'pod': 'n'}, 'dt_txt': '2024-10-25 21:00:00'}, {'dt': 1729900800, 'main': {'temp': 278.77, 'feels_like': 277.64, 'temp_min': 278.77, 'temp_max': 278.77, 'pressure': 1015, 'sea_level': 1015, 'grnd_level': 963, 'humidity': 82, 'temp_kf': 0}, 'weather': [{'id': 804, 'main': 'Clouds', 'description': 'overcast clouds', 'icon': '04n'}], 'clouds': {'all': 100}, 'wind': {'speed': 1.63, 'deg': 222, 'gust': 1.59}, 'visibility': 10000, 'pop': 0, 'sys': {'pod': 'n'}, 'dt_txt': '2024-10-26 00:00:00'}, {'dt': 1729911600, 'main': {'temp': 278.94, 'feels_like': 277.75, 'temp_min': 278.94, 'temp_max': 278.94, 'pressure': 1015, 'sea_level': 1015, 'grnd_level': 963, 'humidity': 77, 'temp_kf': 0}, 'weather': [{'id': 804, 'main': 'Clouds', 'description': 'overcast clouds', 'icon': '04n'}], 'clouds': {'all': 95}, 'wind': {'speed': 1.71, 'deg': 129, 'gust': 1.49}, 'visibility': 10000, 'pop': 0, 'sys': {'pod': 'n'}, 'dt_txt': '2024-10-26 03:00:00'}, {'dt': 1729922400, 'main': {'temp': 277.64, 'feels_like': 276.49, 'temp_min': 277.64, 'temp_max': 277.64, 'pressure': 1013, 'sea_level': 1013, 'grnd_level': 962, 'humidity': 78, 'temp_kf': 0}, 'weather': [{'id': 804, 'main': 'Clouds', 'description': 'overcast clouds', 'icon': '04n'}], 'clouds': {'all': 97}, 'wind': {'speed': 1.52, 'deg': 118, 'gust': 1.24}, 'visibility': 10000, 'pop': 0, 'sys': {'pod': 'n'}, 'dt_txt': '2024-10-26 06:00:00'}, {'dt': 1729933200, 'main': {'temp': 279.58, 'feels_like': 279.58, 'temp_min': 279.58, 'temp_max': 279.58, 'pressure': 1012, 'sea_level': 1012, 'grnd_level': 961, 'humidity': 74, 'temp_kf': 0}, 'weather': [{'id': 804, 'main': 'Clouds', 'description': 'overcast clouds', 'icon': '04d'}], 'clouds': {'all': 99}, 'wind': {'speed': 0.86, 'deg': 136, 'gust': 0.97}, 'visibility': 10000, 'pop': 0, 'sys': {'pod': 'd'}, 'dt_txt': '2024-10-26 09:00:00'}, {'dt': 1729944000, 'main': {'temp': 279.5, 'feels_like': 279.5, 'temp_min': 279.5, 'temp_max': 279.5, 'pressure': 1011, 'sea_level': 1011, 'grnd_level': 959, 'humidity': 83, 'temp_kf': 0}, 'weather': [{'id': 804, 'main': 'Clouds', 'description': 'overcast clouds', 'icon': '04d'}], 'clouds': {'all': 99}, 'wind': {'speed': 0.6, 'deg': 114, 'gust': 0.51}, 'visibility': 10000, 'pop': 0, 'sys': {'pod': 'd'}, 'dt_txt': '2024-10-26 12:00:00'}, {'dt': 1729954800, 'main': {'temp': 279.83, 'feels_like': 279.83, 'temp_min': 279.83, 'temp_max': 279.83, 'pressure': 1008, 'sea_level': 1008, 'grnd_level': 957, 'humidity': 86, 'temp_kf': 0}, 'weather': [{'id': 804, 'main': 'Clouds', 'description': 'overcast clouds', 'icon': '04n'}], 'clouds': {'all': 99}, 'wind': {'speed': 1.16, 'deg': 87, 'gust': 0.76}, 'visibility': 10000, 'pop': 0, 'sys': {'pod': 'n'}, 'dt_txt': '2024-10-26 15:00:00'}, {'dt': 1729965600, 'main': {'temp': 279.95, 'feels_like': 279.35, 'temp_min': 279.95, 'temp_max': 279.95, 'pressure': 1005, 'sea_level': 1005, 'grnd_level': 954, 'humidity': 84, 'temp_kf': 0}, 'weather': [{'id': 500, 'main': 'Rain', 'description': 'light rain', 'icon': '10n'}], 'clouds': {'all': 100}, 'wind': {'speed': 1.34, 'deg': 97, 'gust': 0.73}, 'visibility': 10000, 'pop': 0.39, 'rain': {'3h': 0.31}, 'sys': {'pod': 'n'}, 'dt_txt': '2024-10-26 18:00:00'}, {'dt': 1729976400, 'main': {'temp': 280.12, 'feels_like': 280.12, 'temp_min': 280.12, 'temp_max': 280.12, 'pressure': 1002, 'sea_level': 1002, 'grnd_level': 952, 'humidity': 86, 'temp_kf': 0}, 'weather': [{'id': 500, 'main': 'Rain', 'description': 'light rain', 'icon': '10n'}], 'clouds': {'all': 100}, 'wind': {'speed': 0.66, 'deg': 102, 'gust': 0.24}, 'visibility': 10000, 'pop': 1, 'rain': {'3h': 0.76}, 'sys': {'pod': 'n'}, 'dt_txt': '2024-10-26 21:00:00'}, {'dt': 1729987200, 'main': {'temp': 280.28, 'feels_like': 278.93, 'temp_min': 280.28, 'temp_max': 280.28, 'pressure': 1001, 'sea_level': 1001, 'grnd_level': 950, 'humidity': 95, 'temp_kf': 0}, 'weather': [{'id': 501, 'main': 'Rain', 'description': 'moderate rain', 'icon': '10n'}], 'clouds': {'all': 100}, 'wind': {'speed': 2.08, 'deg': 253, 'gust': 2.11}, 'visibility': 4656, 'pop': 1, 'rain': {'3h': 5.39}, 'sys': {'pod': 'n'}, 'dt_txt': '2024-10-27 00:00:00'}, {'dt': 1729998000, 'main': {'temp': 280.72, 'feels_like': 279.76, 'temp_min': 280.72, 'temp_max': 280.72, 'pressure': 999, 'sea_level': 999, 'grnd_level': 949, 'humidity': 97, 'temp_kf': 0}, 'weather': [{'id': 501, 'main': 'Rain', 'description': 'moderate rain', 'icon': '10n'}], 'clouds': {'all': 100}, 'wind': {'speed': 1.74, 'deg': 193, 'gust': 1.76}, 'visibility': 6140, 'pop': 1, 'rain': {'3h': 8.42}, 'sys': {'pod': 'n'}, 'dt_txt': '2024-10-27 03:00:00'}, {'dt': 1730008800, 'main': {'temp': 280.4, 'feels_like': 278.53, 'temp_min': 280.4, 'temp_max': 280.4, 'pressure': 999, 'sea_level': 999, 'grnd_level': 948, 'humidity': 97, 'temp_kf': 0}, 'weather': [{'id': 501, 'main': 'Rain', 'description': 'moderate rain', 'icon': '10n'}], 'clouds': {'all': 100}, 'wind': {'speed': 2.75, 'deg': 261, 'gust': 4.64}, 'visibility': 2311, 'pop': 1, 'rain': {'3h': 5.86}, 'sys': {'pod': 'n'}, 'dt_txt': '2024-10-27 06:00:00'}, {'dt': 1730019600, 'main': {'temp': 278.81, 'feels_like': 277.88, 'temp_min': 278.81, 'temp_max': 278.81, 'pressure': 999, 'sea_level': 999, 'grnd_level': 948, 'humidity': 99, 'temp_kf': 0}, 'weather': [{'id': 500, 'main': 'Rain', 'description': 'light rain', 'icon': '10d'}], 'clouds': {'all': 100}, 'wind': {'speed': 1.48, 'deg': 234, 'gust': 3.99}, 'visibility': 153, 'pop': 1, 'rain': {'3h': 2.24}, 'sys': {'pod': 'd'}, 'dt_txt': '2024-10-27 09:00:00'}, {'dt': 1730030400, 'main': {'temp': 278.25, 'feels_like': 275.68, 'temp_min': 278.25, 'temp_max': 278.25, 'pressure': 998, 'sea_level': 998, 'grnd_level': 947, 'humidity': 99, 'temp_kf': 0}, 'weather': [{'id': 501, 'main': 'Rain', 'description': 'moderate rain', 'icon': '10d'}], 'clouds': {'all': 100}, 'wind': {'speed': 3.13, 'deg': 240, 'gust': 3.44}, 'visibility': 29, 'pop': 1, 'rain': {'3h': 4.65}, 'sys': {'pod': 'd'}, 'dt_txt': '2024-10-27 12:00:00'}, {'dt': 1730041200, 'main': {'temp': 277.94, 'feels_like': 275, 'temp_min': 277.94, 'temp_max': 277.94, 'pressure': 997, 'sea_level': 997, 'grnd_level': 946, 'humidity': 98, 'temp_kf': 0}, 'weather': [{'id': 601, 'main': 'Snow', 'description': 'snow', 'icon': '13n'}], 'clouds': {'all': 100}, 'wind': {'speed': 3.59, 'deg': 211, 'gust': 9.57}, 'visibility': 73, 'pop': 1, 'snow': {'3h': 5.31}, 'sys': {'pod': 'n'}, 'dt_txt': '2024-10-27 15:00:00'}, {'dt': 1730052000, 'main': {'temp': 278.26, 'feels_like': 275.08, 'temp_min': 278.26, 'temp_max': 278.26, 'pressure': 995, 'sea_level': 995, 'grnd_level': 944, 'humidity': 99, 'temp_kf': 0}, 'weather': [{'id': 501, 'main': 'Rain', 'description': 'moderate rain', 'icon': '10n'}], 'clouds': {'all': 100}, 'wind': {'speed': 4.12, 'deg': 231, 'gust': 10.11}, 'visibility': 95, 'pop': 1, 'rain': {'3h': 7.37}, 'sys': {'pod': 'n'}, 'dt_txt': '2024-10-27 18:00:00'}, {'dt': 1730062800, 'main': {'temp': 277.02, 'feels_like': 273.69, 'temp_min': 277.02, 'temp_max': 277.02, 'pressure': 997, 'sea_level': 997, 'grnd_level': 946, 'humidity': 100, 'temp_kf': 0}, 'weather': [{'id': 601, 'main': 'Snow', 'description': 'snow', 'icon': '13n'}], 'clouds': {'all': 100}, 'wind': {'speed': 3.89, 'deg': 250, 'gust': 7.43}, 'visibility': 46, 'pop': 1, 'snow': {'3h': 5.29}, 'sys': {'pod': 'n'}, 'dt_txt': '2024-10-27 21:00:00'}, {'dt': 1730073600, 'main': {'temp': 276.56, 'feels_like': 272.07, 'temp_min': 276.56, 'temp_max': 276.56, 'pressure': 998, 'sea_level': 998, 'grnd_level': 946, 'humidity': 97, 'temp_kf': 0}, 'weather': [{'id': 601, 'main': 'Snow', 'description': 'snow', 'icon': '13n'}], 'clouds': {'all': 100}, 'wind': {'speed': 5.9, 'deg': 272, 'gust': 13.82}, 'visibility': 198, 'pop': 1, 'snow': {'3h': 4.68}, 'sys': {'pod': 'n'}, 'dt_txt': '2024-10-28 00:00:00'}, {'dt': 1730084400, 'main': {'temp': 275.64, 'feels_like': 272.31, 'temp_min': 275.64, 'temp_max': 275.64, 'pressure': 999, 'sea_level': 999, 'grnd_level': 947, 'humidity': 100, 'temp_kf': 0}, 'weather': [{'id': 601, 'main': 'Snow', 'description': 'snow', 'icon': '13n'}], 'clouds': {'all': 94}, 'wind': {'speed': 3.43, 'deg': 238, 'gust': 3.78}, 'visibility': 48, 'pop': 1, 'snow': {'3h': 2.15}, 'sys': {'pod': 'n'}, 'dt_txt': '2024-10-28 03:00:00'}, {'dt': 1730095200, 'main': {'temp': 275.41, 'feels_like': 270.39, 'temp_min': 275.41, 'temp_max': 275.41, 'pressure': 1002, 'sea_level': 1002, 'grnd_level': 951, 'humidity': 96, 'temp_kf': 0}, 'weather': [{'id': 601, 'main': 'Snow', 'description': 'snow', 'icon': '13n'}], 'clouds': {'all': 97}, 'wind': {'speed': 6.4, 'deg': 261, 'gust': 13.71}, 'visibility': 231, 'pop': 1, 'snow': {'3h': 4.8}, 'sys': {'pod': 'n'}, 'dt_txt': '2024-10-28 06:00:00'}, {'dt': 1730106000, 'main': {'temp': 275.66, 'feels_like': 271.1, 'temp_min': 275.66, 'temp_max': 275.66, 'pressure': 1005, 'sea_level': 1005, 'grnd_level': 953, 'humidity': 97, 'temp_kf': 0}, 'weather': [{'id': 601, 'main': 'Snow', 'description': 'snow', 'icon': '13d'}], 'clouds': {'all': 100}, 'wind': {'speed': 5.55, 'deg': 250, 'gust': 11.02}, 'visibility': 302, 'pop': 1, 'snow': {'3h': 5.05}, 'sys': {'pod': 'd'}, 'dt_txt': '2024-10-28 09:00:00'}, {'dt': 1730116800, 'main': {'temp': 275.41, 'feels_like': 271.45, 'temp_min': 275.41, 'temp_max': 275.41, 'pressure': 1009, 'sea_level': 1009, 'grnd_level': 957, 'humidity': 96, 'temp_kf': 0}, 'weather': [{'id': 601, 'main': 'Snow', 'description': 'snow', 'icon': '13d'}], 'clouds': {'all': 100}, 'wind': {'speed': 4.31, 'deg': 241, 'gust': 9.97}, 'visibility': 513, 'pop': 1, 'snow': {'3h': 3.39}, 'sys': {'pod': 'd'}, 'dt_txt': '2024-10-28 12:00:00'}, {'dt': 1730127600, 'main': {'temp': 274.19, 'feels_like': 269.5, 'temp_min': 274.19, 'temp_max': 274.19, 'pressure': 1012, 'sea_level': 1012, 'grnd_level': 960, 'humidity': 95, 'temp_kf': 0}, 'weather': [{'id': 601, 'main': 'Snow', 'description': 'snow', 'icon': '13n'}], 'clouds': {'all': 100}, 'wind': {'speed': 5.07, 'deg': 249, 'gust': 9.62}, 'visibility': 579, 'pop': 1, 'snow': {'3h': 2.58}, 'sys': {'pod': 'n'}, 'dt_txt': '2024-10-28 15:00:00'}, {'dt': 1730138400, 'main': {'temp': 273.18, 'feels_like': 268.72, 'temp_min': 273.18, 'temp_max': 273.18, 'pressure': 1014, 'sea_level': 1014, 'grnd_level': 962, 'humidity': 89, 'temp_kf': 0}, 'weather': [{'id': 600, 'main': 'Snow', 'description': 'light snow', 'icon': '13n'}], 'clouds': {'all': 96}, 'wind': {'speed': 4.27, 'deg': 251, 'gust': 4.93}, 'visibility': 3379, 'pop': 1, 'snow': {'3h': 0.93}, 'sys': {'pod': 'n'}, 'dt_txt': '2024-10-28 18:00:00'}], 'city': {'id': 3145614, 'name': 'Mo i Rana', 'coord': {'lat': 66.3128, 'lon': 14.1428}, 'country': 'NO', 'population': 17853, 'timezone': 7200, 'sunrise': 1729664944, 'sunset': 1729695964}}\n"
     ]
    }
   ],
   "source": [
    "responseF = requests.get(urlF).json()\n",
    "#print(json.dumps(responseF, indent=4))\n",
    "print(responseF)"
   ]
  },
  {
   "cell_type": "code",
   "execution_count": 11,
   "metadata": {
    "ExecuteTime": {
     "end_time": "2024-08-17T10:19:07.510514Z",
     "start_time": "2024-08-17T10:19:07.506586Z"
    },
    "slideshow": {
     "slide_type": "slide"
    },
    "tags": []
   },
   "outputs": [],
   "source": [
    "# Write JSON to file for viewing\n",
    "with open('downloads/forecast.json', 'w') as f:\n",
    "    json.dump(responseF, f, indent=4)"
   ]
  },
  {
   "cell_type": "markdown",
   "metadata": {
    "slideshow": {
     "slide_type": "slide"
    }
   },
   "source": [
    "### When and what?\n",
    "Check contents and time stamps"
   ]
  },
  {
   "cell_type": "code",
   "execution_count": 12,
   "metadata": {
    "ExecuteTime": {
     "end_time": "2024-08-17T10:19:07.514214Z",
     "start_time": "2024-08-17T10:19:07.511162Z"
    },
    "slideshow": {
     "slide_type": "fragment"
    },
    "tags": []
   },
   "outputs": [
    {
     "data": {
      "text/plain": [
       "dict_keys(['cod', 'message', 'cnt', 'list', 'city'])"
      ]
     },
     "execution_count": 12,
     "metadata": {},
     "output_type": "execute_result"
    }
   ],
   "source": [
    "# Content of responseF\n",
    "responseF.keys()"
   ]
  },
  {
   "cell_type": "code",
   "execution_count": 13,
   "metadata": {
    "ExecuteTime": {
     "end_time": "2024-08-17T10:19:07.516813Z",
     "start_time": "2024-08-17T10:19:07.514918Z"
    },
    "slideshow": {
     "slide_type": "fragment"
    },
    "tags": []
   },
   "outputs": [
    {
     "name": "stdout",
     "output_type": "stream",
     "text": [
      "40\n"
     ]
    }
   ],
   "source": [
    "# Number of forecasts\n",
    "print(len(responseF[\"list\"]))"
   ]
  },
  {
   "cell_type": "code",
   "execution_count": 14,
   "metadata": {
    "ExecuteTime": {
     "end_time": "2024-08-17T10:19:07.520443Z",
     "start_time": "2024-08-17T10:19:07.518884Z"
    },
    "slideshow": {
     "slide_type": "slide"
    },
    "tags": []
   },
   "outputs": [
    {
     "name": "stdout",
     "output_type": "stream",
     "text": [
      "2024-10-23 21:00:00\n",
      "2024-10-24 00:00:00\n",
      "2024-10-24 03:00:00\n",
      "2024-10-24 06:00:00\n",
      "2024-10-24 09:00:00\n",
      "2024-10-24 12:00:00\n",
      "2024-10-24 15:00:00\n",
      "2024-10-24 18:00:00\n",
      "2024-10-24 21:00:00\n",
      "2024-10-25 00:00:00\n",
      "2024-10-25 03:00:00\n",
      "2024-10-25 06:00:00\n",
      "2024-10-25 09:00:00\n",
      "2024-10-25 12:00:00\n",
      "2024-10-25 15:00:00\n",
      "2024-10-25 18:00:00\n",
      "2024-10-25 21:00:00\n",
      "2024-10-26 00:00:00\n",
      "2024-10-26 03:00:00\n",
      "2024-10-26 06:00:00\n",
      "2024-10-26 09:00:00\n",
      "2024-10-26 12:00:00\n",
      "2024-10-26 15:00:00\n",
      "2024-10-26 18:00:00\n",
      "2024-10-26 21:00:00\n",
      "2024-10-27 00:00:00\n",
      "2024-10-27 03:00:00\n",
      "2024-10-27 06:00:00\n",
      "2024-10-27 09:00:00\n",
      "2024-10-27 12:00:00\n",
      "2024-10-27 15:00:00\n",
      "2024-10-27 18:00:00\n",
      "2024-10-27 21:00:00\n",
      "2024-10-28 00:00:00\n",
      "2024-10-28 03:00:00\n",
      "2024-10-28 06:00:00\n",
      "2024-10-28 09:00:00\n",
      "2024-10-28 12:00:00\n",
      "2024-10-28 15:00:00\n",
      "2024-10-28 18:00:00\n"
     ]
    }
   ],
   "source": [
    "# Print forecast times\n",
    "for forecast in responseF[\"list\"]:\n",
    "    print(forecast[\"dt_txt\"])"
   ]
  },
  {
   "cell_type": "markdown",
   "metadata": {
    "slideshow": {
     "slide_type": "slide"
    }
   },
   "source": [
    "## Make plots of omnipresent measurements and events\n",
    "We will later look at missing data, data only sporadically appearing and so on."
   ]
  },
  {
   "cell_type": "code",
   "execution_count": 15,
   "metadata": {
    "ExecuteTime": {
     "end_time": "2024-08-17T10:19:07.522603Z",
     "start_time": "2024-08-17T10:19:07.521029Z"
    },
    "slideshow": {
     "slide_type": "fragment"
    },
    "tags": []
   },
   "outputs": [],
   "source": [
    "# Air pressure per period\n",
    "pressures = []\n",
    "timestamps = []\n",
    "for forecast in responseF[\"list\"]:\n",
    "    pressures.append(forecast[\"main\"][\"pressure\"])\n",
    "    timestamps.append(dt.datetime.fromtimestamp(forecast[\"dt\"]))"
   ]
  },
  {
   "cell_type": "code",
   "execution_count": 16,
   "metadata": {
    "ExecuteTime": {
     "end_time": "2024-08-17T10:19:08.124779Z",
     "start_time": "2024-08-17T10:19:07.523100Z"
    },
    "slideshow": {
     "slide_type": "slide"
    },
    "tags": []
   },
   "outputs": [
    {
     "data": {
      "image/png": "[encoded data removed]",
      "text/plain": [
       "<Figure size 640x480 with 1 Axes>"
      ]
     },
     "metadata": {},
     "output_type": "display_data"
    }
   ],
   "source": [
    "import matplotlib.pyplot as plt\n",
    "plt.bar(timestamps, pressures)\n",
    "plt.xticks(rotation=45)\n",
    "plt.ylim(980, 1050)\n",
    "plt.grid()\n",
    "plt.ylabel(\"Air pressure (hPa)\")\n",
    "plt.title(f\"Forecasted air pressure in {CITY}\")\n",
    "plt.show()"
   ]
  },
  {
   "cell_type": "markdown",
   "metadata": {
    "slideshow": {
     "slide_type": "slide"
    }
   },
   "source": [
    "## Exercise\n",
    "- Make a new forecast request for your own hometown. Call your response something else than responseF.\n",
    "- If available, plot the humidity like we did with air pressure."
   ]
  },
  {
   "cell_type": "markdown",
   "metadata": {
    "slideshow": {
     "slide_type": "slide"
    }
   },
   "source": [
    "### Precipitation\n",
    "- ... comes in two main flavours: rain and snow.\n",
    "- We need to check which is present and set to zero if it is abscent."
   ]
  },
  {
   "cell_type": "code",
   "execution_count": 17,
   "metadata": {
    "ExecuteTime": {
     "end_time": "2024-08-17T10:19:08.128573Z",
     "start_time": "2024-08-17T10:19:08.125858Z"
    },
    "slideshow": {
     "slide_type": "fragment"
    },
    "tags": []
   },
   "outputs": [],
   "source": [
    "rain = []\n",
    "snow = []\n",
    "for forecast in responseF[\"list\"]:\n",
    "    try: # Check if rain is present in forecast\n",
    "        rain.append(forecast[\"rain\"][\"3h\"])\n",
    "    except KeyError:\n",
    "        rain.append(0)\n",
    "    try: # Check if snow is present in forecast\n",
    "        snow.append(forecast[\"snow\"][\"3h\"])\n",
    "    except KeyError:\n",
    "        snow.append(0)"
   ]
  },
  {
   "cell_type": "code",
   "execution_count": 18,
   "metadata": {
    "ExecuteTime": {
     "end_time": "2024-08-17T10:19:08.223315Z",
     "start_time": "2024-08-17T10:19:08.129282Z"
    },
    "slideshow": {
     "slide_type": "slide"
    },
    "tags": []
   },
   "outputs": [
    {
     "data": {
      "image/png": "[encoded data removed]",
      "text/plain": [
       "<Figure size 640x480 with 1 Axes>"
      ]
     },
     "metadata": {},
     "output_type": "display_data"
    }
   ],
   "source": [
    "# Stacked bar chart with rain and snow\n",
    "plt.bar(timestamps, rain, label=\"Rain\")\n",
    "plt.bar(timestamps, snow, label=\"Snow\")\n",
    "plt.xticks(rotation=45)\n",
    "plt.grid()\n",
    "plt.ylabel(\"Precipitation (mm)\")\n",
    "plt.title(f\"Forecasted precipitation in {CITY}\")\n",
    "plt.legend()\n",
    "plt.show()\n"
   ]
  },
  {
   "cell_type": "markdown",
   "metadata": {
    "slideshow": {
     "slide_type": "slide"
    }
   },
   "source": [
    "```{seealso} Resources\n",
    ":class: tip\n",
    "- [YouTube: NeuralNine's video (15m:32s)](https://www.youtube.com/watch?v=9P5MY_2i7K8)\n",
    "```"
   ]
  }
 ],
 "metadata": {
  "celltoolbar": "Slideshow",
  "kernelspec": {
   "display_name": "Python 3 (ipykernel)",
   "language": "python",
   "name": "python3"
  },
  "language_info": {
   "codemirror_mode": {
    "name": "ipython",
    "version": 3
   },
   "file_extension": ".py",
   "mimetype": "text/x-python",
   "name": "python",
   "nbconvert_exporter": "python",
   "pygments_lexer": "ipython3",
   "version": "3.12.4"
  }
 },
 "nbformat": 4,
 "nbformat_minor": 4
}