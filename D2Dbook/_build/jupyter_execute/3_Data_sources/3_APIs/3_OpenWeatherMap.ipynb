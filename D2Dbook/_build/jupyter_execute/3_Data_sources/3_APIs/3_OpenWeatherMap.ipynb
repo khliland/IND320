{
 "cells": [
  {
   "cell_type": "markdown",
   "metadata": {
    "slideshow": {
     "slide_type": "slide"
    }
   },
   "source": [
    "# Demonstration of API using OpenWeatherMap.org\n",
    "This demonstration is heavily inspired by [NeuralNine's video](https://www.youtube.com/watch?v=9P5MY_2i7K8).  \n",
    "You need a free account [from here](https://openweathermap.org/api).  \n",
    "The VS Code extension _JSON viewer_ is recommended for viewing downloaded JSON content.  \n",
    "  - Set your maximum API calls to 1000 per day to make sure you are under the limit for billing. \n",
    "  - To run the examples, download your API key, save it in the right folder (see below) in a file called _api\\_key\\_OpenWeather_, containing only the key (no spaces or \"enters\")."
   ]
  },
  {
   "cell_type": "code",
   "execution_count": 1,
   "metadata": {
    "ExecuteTime": {
     "end_time": "2024-08-17T10:19:06.946392Z",
     "start_time": "2024-08-17T10:19:06.887177Z"
    },
    "slideshow": {
     "slide_type": "fragment"
    },
    "tags": []
   },
   "outputs": [],
   "source": [
    "# Imports\n",
    "import datetime as dt\n",
    "import requests\n",
    "import json"
   ]
  },
  {
   "cell_type": "markdown",
   "metadata": {
    "slideshow": {
     "slide_type": "slide"
    }
   },
   "source": [
    "## Current weather\n",
    "### Common definitions to use for all requests"
   ]
  },
  {
   "cell_type": "code",
   "execution_count": 2,
   "metadata": {
    "ExecuteTime": {
     "end_time": "2024-08-17T10:19:06.950734Z",
     "start_time": "2024-08-17T10:19:06.948129Z"
    },
    "slideshow": {
     "slide_type": "fragment"
    },
    "tags": []
   },
   "outputs": [],
   "source": [
    "BASE_URL = \"http://api.openweathermap.org/data/2.5/weather?\"\n",
    "API_KEY = open('../../../No_sync/api_key_OpenWeather','r').read()\n",
    "CITY = \"Ski\"\n",
    "\n",
    "url = BASE_URL + \"q=\" + CITY + \"&appid=\" + API_KEY"
   ]
  },
  {
   "cell_type": "markdown",
   "metadata": {
    "slideshow": {
     "slide_type": "slide"
    }
   },
   "source": [
    "## Request current weather in chosen city"
   ]
  },
  {
   "cell_type": "code",
   "execution_count": 3,
   "metadata": {
    "ExecuteTime": {
     "end_time": "2024-08-17T10:19:07.346472Z",
     "start_time": "2024-08-17T10:19:06.951363Z"
    },
    "slideshow": {
     "slide_type": "fragment"
    },
    "tags": []
   },
   "outputs": [
    {
     "name": "stdout",
     "output_type": "stream",
     "text": [
      "{'coord': {'lon': 10.8358, 'lat': 59.7195}, 'weather': [{'id': 804, 'main': 'Clouds', 'description': 'overcast clouds', 'icon': '04d'}], 'base': 'stations', 'main': {'temp': 276.3, 'feels_like': 275.22, 'temp_min': 275.5, 'temp_max': 277.64, 'pressure': 1011, 'humidity': 100, 'sea_level': 1011, 'grnd_level': 994}, 'visibility': 10000, 'wind': {'speed': 1.34, 'deg': 357, 'gust': 2.51}, 'clouds': {'all': 95}, 'dt': 1728888498, 'sys': {'type': 2, 'id': 2006772, 'country': 'NO', 'sunrise': 1728885203, 'sunset': 1728922287}, 'timezone': 7200, 'id': 3139081, 'name': 'Ski', 'cod': 200}\n"
     ]
    }
   ],
   "source": [
    "response = requests.get(url).json()\n",
    "print(response)"
   ]
  },
  {
   "cell_type": "code",
   "execution_count": 4,
   "metadata": {
    "ExecuteTime": {
     "end_time": "2024-08-17T10:19:07.356894Z",
     "start_time": "2024-08-17T10:19:07.353047Z"
    },
    "slideshow": {
     "slide_type": "fragment"
    },
    "tags": []
   },
   "outputs": [],
   "source": [
    "# Write JSON to file for viewing\n",
    "with open('downloads/weather.json', 'w') as f:\n",
    "    json.dump(response, f, indent=4)"
   ]
  },
  {
   "cell_type": "markdown",
   "metadata": {
    "slideshow": {
     "slide_type": "slide"
    }
   },
   "source": [
    "## Conversion functions\n",
    "Changing scales can make results more interpretable"
   ]
  },
  {
   "cell_type": "code",
   "execution_count": 5,
   "metadata": {
    "ExecuteTime": {
     "end_time": "2024-08-17T10:19:07.360029Z",
     "start_time": "2024-08-17T10:19:07.358341Z"
    },
    "slideshow": {
     "slide_type": "fragment"
    },
    "tags": []
   },
   "outputs": [],
   "source": [
    "# Kelvin to Celsius\n",
    "def kelvin_to_celsius(temp):\n",
    "    return temp - 273.15\n",
    "\n",
    "# Meters per second to knots\n",
    "def mps_to_knots(speed):\n",
    "    return speed * 1.943844"
   ]
  },
  {
   "cell_type": "markdown",
   "metadata": {
    "slideshow": {
     "slide_type": "slide"
    }
   },
   "source": [
    "## Print some weather properties"
   ]
  },
  {
   "cell_type": "code",
   "execution_count": 6,
   "metadata": {
    "ExecuteTime": {
     "end_time": "2024-08-17T10:19:07.362209Z",
     "start_time": "2024-08-17T10:19:07.360604Z"
    },
    "slideshow": {
     "slide_type": "fragment"
    },
    "tags": []
   },
   "outputs": [
    {
     "name": "stdout",
     "output_type": "stream",
     "text": [
      "The current temperature in Ski is 3.2 °C\n"
     ]
    }
   ],
   "source": [
    "# Current temperature\n",
    "temp_kelvin = response['main']['temp']\n",
    "temp_celsius = kelvin_to_celsius(temp_kelvin)\n",
    "print(f\"The current temperature in {CITY} is {temp_celsius:.1f} °C\")"
   ]
  },
  {
   "cell_type": "code",
   "execution_count": 7,
   "metadata": {
    "ExecuteTime": {
     "end_time": "2024-08-17T10:19:07.364358Z",
     "start_time": "2024-08-17T10:19:07.362759Z"
    },
    "slideshow": {
     "slide_type": "slide"
    },
    "tags": []
   },
   "outputs": [
    {
     "name": "stdout",
     "output_type": "stream",
     "text": [
      "Sunrise today is at 07:53 and sunset is at 18:11\n"
     ]
    }
   ],
   "source": [
    "# Sunrise and sunset today in local time\n",
    "sunrise = dt.datetime.fromtimestamp(response['sys']['sunrise'])\n",
    "sunset = dt.datetime.fromtimestamp(response['sys']['sunset'])\n",
    "print(f\"Sunrise today is at {sunrise:%H:%M} and sunset is at {sunset:%H:%M}\")"
   ]
  },
  {
   "cell_type": "code",
   "execution_count": 8,
   "metadata": {
    "ExecuteTime": {
     "end_time": "2024-08-17T10:19:07.367002Z",
     "start_time": "2024-08-17T10:19:07.365133Z"
    },
    "slideshow": {
     "slide_type": "fragment"
    },
    "tags": []
   },
   "outputs": [
    {
     "name": "stdout",
     "output_type": "stream",
     "text": [
      "Wind today is from 357° at 2.6 knots\n"
     ]
    }
   ],
   "source": [
    "# Wind direction and speed\n",
    "wind_knots = mps_to_knots(response['wind']['speed'])\n",
    "print(f\"Wind today is from {response['wind']['deg']}° at {round(wind_knots,1)} knots\")"
   ]
  },
  {
   "cell_type": "markdown",
   "metadata": {
    "slideshow": {
     "slide_type": "slide"
    }
   },
   "source": [
    "## Forecasted weather\n",
    "### Common definitions to use for all requests"
   ]
  },
  {
   "cell_type": "code",
   "execution_count": 9,
   "metadata": {
    "ExecuteTime": {
     "end_time": "2024-08-17T10:19:07.369150Z",
     "start_time": "2024-08-17T10:19:07.367438Z"
    },
    "slideshow": {
     "slide_type": "fragment"
    },
    "tags": []
   },
   "outputs": [],
   "source": [
    "BASE_URL = \"https://api.openweathermap.org/data/2.5/forecast?\"\n",
    "CITY = \"Mo i Rana\"\n",
    "\n",
    "urlF = BASE_URL + \"q=\" + CITY + \"&appid=\" + API_KEY"
   ]
  },
  {
   "cell_type": "markdown",
   "metadata": {
    "slideshow": {
     "slide_type": "slide"
    }
   },
   "source": [
    "## Request forecasted weather in chosen city"
   ]
  },
  {
   "cell_type": "code",
   "execution_count": 10,
   "metadata": {
    "ExecuteTime": {
     "end_time": "2024-08-17T10:19:07.505916Z",
     "start_time": "2024-08-17T10:19:07.369779Z"
    },
    "slideshow": {
     "slide_type": "fragment"
    },
    "tags": []
   },
   "outputs": [
    {
     "name": "stdout",
     "output_type": "stream",
     "text": [
      "{'cod': '200', 'message': 0, 'cnt': 40, 'list': [{'dt': 1728896400, 'main': {'temp': 277.3, 'feels_like': 275.68, 'temp_min': 276.35, 'temp_max': 277.3, 'pressure': 1011, 'sea_level': 1011, 'grnd_level': 960, 'humidity': 93, 'temp_kf': 0.95}, 'weather': [{'id': 600, 'main': 'Snow', 'description': 'light snow', 'icon': '13d'}], 'clouds': {'all': 83}, 'wind': {'speed': 1.86, 'deg': 251, 'gust': 2.81}, 'visibility': 70, 'pop': 0.28, 'snow': {'3h': 0.18}, 'sys': {'pod': 'd'}, 'dt_txt': '2024-10-14 09:00:00'}, {'dt': 1728907200, 'main': {'temp': 276.9, 'feels_like': 274.81, 'temp_min': 276.46, 'temp_max': 276.9, 'pressure': 1012, 'sea_level': 1012, 'grnd_level': 960, 'humidity': 95, 'temp_kf': 0.44}, 'weather': [{'id': 600, 'main': 'Snow', 'description': 'light snow', 'icon': '13d'}], 'clouds': {'all': 92}, 'wind': {'speed': 2.24, 'deg': 251, 'gust': 2.82}, 'visibility': 410, 'pop': 0.5, 'snow': {'3h': 0.39}, 'sys': {'pod': 'd'}, 'dt_txt': '2024-10-14 12:00:00'}, {'dt': 1728918000, 'main': {'temp': 275.93, 'feels_like': 273.94, 'temp_min': 275.93, 'temp_max': 275.93, 'pressure': 1013, 'sea_level': 1013, 'grnd_level': 960, 'humidity': 97, 'temp_kf': 0}, 'weather': [{'id': 600, 'main': 'Snow', 'description': 'light snow', 'icon': '13d'}], 'clouds': {'all': 100}, 'wind': {'speed': 1.99, 'deg': 227, 'gust': 2.31}, 'visibility': 536, 'pop': 1, 'snow': {'3h': 0.43}, 'sys': {'pod': 'd'}, 'dt_txt': '2024-10-14 15:00:00'}, {'dt': 1728928800, 'main': {'temp': 276.38, 'feels_like': 274.55, 'temp_min': 276.38, 'temp_max': 276.38, 'pressure': 1013, 'sea_level': 1013, 'grnd_level': 961, 'humidity': 99, 'temp_kf': 0}, 'weather': [{'id': 600, 'main': 'Snow', 'description': 'light snow', 'icon': '13n'}], 'clouds': {'all': 100}, 'wind': {'speed': 1.92, 'deg': 225, 'gust': 2.31}, 'visibility': 29, 'pop': 1, 'snow': {'3h': 0.79}, 'sys': {'pod': 'n'}, 'dt_txt': '2024-10-14 18:00:00'}, {'dt': 1728939600, 'main': {'temp': 276.05, 'feels_like': 273.76, 'temp_min': 276.05, 'temp_max': 276.05, 'pressure': 1014, 'sea_level': 1014, 'grnd_level': 962, 'humidity': 98, 'temp_kf': 0}, 'weather': [{'id': 600, 'main': 'Snow', 'description': 'light snow', 'icon': '13n'}], 'clouds': {'all': 100}, 'wind': {'speed': 2.3, 'deg': 216, 'gust': 2.77}, 'visibility': 58, 'pop': 1, 'snow': {'3h': 1}, 'sys': {'pod': 'n'}, 'dt_txt': '2024-10-14 21:00:00'}, {'dt': 1728950400, 'main': {'temp': 276.29, 'feels_like': 273.91, 'temp_min': 276.29, 'temp_max': 276.29, 'pressure': 1015, 'sea_level': 1015, 'grnd_level': 962, 'humidity': 99, 'temp_kf': 0}, 'weather': [{'id': 600, 'main': 'Snow', 'description': 'light snow', 'icon': '13n'}], 'clouds': {'all': 99}, 'wind': {'speed': 2.43, 'deg': 223, 'gust': 3.08}, 'visibility': 168, 'pop': 1, 'snow': {'3h': 1.16}, 'sys': {'pod': 'n'}, 'dt_txt': '2024-10-15 00:00:00'}, {'dt': 1728961200, 'main': {'temp': 276.27, 'feels_like': 274.31, 'temp_min': 276.27, 'temp_max': 276.27, 'pressure': 1015, 'sea_level': 1015, 'grnd_level': 963, 'humidity': 97, 'temp_kf': 0}, 'weather': [{'id': 500, 'main': 'Rain', 'description': 'light rain', 'icon': '10n'}], 'clouds': {'all': 100}, 'wind': {'speed': 2.02, 'deg': 215, 'gust': 2.42}, 'pop': 0.84, 'rain': {'3h': 0.37}, 'sys': {'pod': 'n'}, 'dt_txt': '2024-10-15 03:00:00'}, {'dt': 1728972000, 'main': {'temp': 276.39, 'feels_like': 274.76, 'temp_min': 276.39, 'temp_max': 276.39, 'pressure': 1016, 'sea_level': 1016, 'grnd_level': 964, 'humidity': 97, 'temp_kf': 0}, 'weather': [{'id': 500, 'main': 'Rain', 'description': 'light rain', 'icon': '10n'}], 'clouds': {'all': 100}, 'wind': {'speed': 1.75, 'deg': 208, 'gust': 2.17}, 'pop': 0.95, 'rain': {'3h': 0.81}, 'sys': {'pod': 'n'}, 'dt_txt': '2024-10-15 06:00:00'}, {'dt': 1728982800, 'main': {'temp': 276.86, 'feels_like': 275.8, 'temp_min': 276.86, 'temp_max': 276.86, 'pressure': 1016, 'sea_level': 1016, 'grnd_level': 964, 'humidity': 96, 'temp_kf': 0}, 'weather': [{'id': 500, 'main': 'Rain', 'description': 'light rain', 'icon': '10d'}], 'clouds': {'all': 100}, 'wind': {'speed': 1.38, 'deg': 174, 'gust': 1.46}, 'pop': 0.91, 'rain': {'3h': 0.64}, 'sys': {'pod': 'd'}, 'dt_txt': '2024-10-15 09:00:00'}, {'dt': 1728993600, 'main': {'temp': 277.51, 'feels_like': 277.51, 'temp_min': 277.51, 'temp_max': 277.51, 'pressure': 1015, 'sea_level': 1015, 'grnd_level': 963, 'humidity': 83, 'temp_kf': 0}, 'weather': [{'id': 804, 'main': 'Clouds', 'description': 'overcast clouds', 'icon': '04d'}], 'clouds': {'all': 100}, 'wind': {'speed': 0.68, 'deg': 159, 'gust': 1.03}, 'visibility': 10000, 'pop': 0.69, 'sys': {'pod': 'd'}, 'dt_txt': '2024-10-15 12:00:00'}, {'dt': 1729004400, 'main': {'temp': 276.23, 'feels_like': 276.23, 'temp_min': 276.23, 'temp_max': 276.23, 'pressure': 1014, 'sea_level': 1014, 'grnd_level': 962, 'humidity': 99, 'temp_kf': 0}, 'weather': [{'id': 601, 'main': 'Snow', 'description': 'snow', 'icon': '13d'}], 'clouds': {'all': 100}, 'wind': {'speed': 0.97, 'deg': 138, 'gust': 1.05}, 'visibility': 179, 'pop': 1, 'snow': {'3h': 2.05}, 'sys': {'pod': 'd'}, 'dt_txt': '2024-10-15 15:00:00'}, {'dt': 1729015200, 'main': {'temp': 275.97, 'feels_like': 275.97, 'temp_min': 275.97, 'temp_max': 275.97, 'pressure': 1015, 'sea_level': 1015, 'grnd_level': 962, 'humidity': 99, 'temp_kf': 0}, 'weather': [{'id': 601, 'main': 'Snow', 'description': 'snow', 'icon': '13n'}], 'clouds': {'all': 100}, 'wind': {'speed': 0.47, 'deg': 132, 'gust': 0.68}, 'visibility': 51, 'pop': 1, 'snow': {'3h': 2.33}, 'sys': {'pod': 'n'}, 'dt_txt': '2024-10-15 18:00:00'}, {'dt': 1729026000, 'main': {'temp': 276.2, 'feels_like': 276.2, 'temp_min': 276.2, 'temp_max': 276.2, 'pressure': 1015, 'sea_level': 1015, 'grnd_level': 963, 'humidity': 99, 'temp_kf': 0}, 'weather': [{'id': 601, 'main': 'Snow', 'description': 'snow', 'icon': '13n'}], 'clouds': {'all': 100}, 'wind': {'speed': 0.15, 'deg': 169, 'gust': 0.37}, 'visibility': 26, 'pop': 1, 'snow': {'3h': 1.51}, 'sys': {'pod': 'n'}, 'dt_txt': '2024-10-15 21:00:00'}, {'dt': 1729036800, 'main': {'temp': 276.63, 'feels_like': 276.63, 'temp_min': 276.63, 'temp_max': 276.63, 'pressure': 1016, 'sea_level': 1016, 'grnd_level': 963, 'humidity': 100, 'temp_kf': 0}, 'weather': [{'id': 601, 'main': 'Snow', 'description': 'snow', 'icon': '13n'}], 'clouds': {'all': 100}, 'wind': {'speed': 0.71, 'deg': 223, 'gust': 0.59}, 'visibility': 279, 'pop': 1, 'snow': {'3h': 6.35}, 'sys': {'pod': 'n'}, 'dt_txt': '2024-10-16 00:00:00'}, {'dt': 1729047600, 'main': {'temp': 277.23, 'feels_like': 277.23, 'temp_min': 277.23, 'temp_max': 277.23, 'pressure': 1016, 'sea_level': 1016, 'grnd_level': 964, 'humidity': 100, 'temp_kf': 0}, 'weather': [{'id': 501, 'main': 'Rain', 'description': 'moderate rain', 'icon': '10n'}], 'clouds': {'all': 100}, 'wind': {'speed': 0.46, 'deg': 167, 'gust': 0.36}, 'visibility': 166, 'pop': 1, 'rain': {'3h': 9.04}, 'sys': {'pod': 'n'}, 'dt_txt': '2024-10-16 03:00:00'}, {'dt': 1729058400, 'main': {'temp': 278.42, 'feels_like': 277.5, 'temp_min': 278.42, 'temp_max': 278.42, 'pressure': 1016, 'sea_level': 1016, 'grnd_level': 964, 'humidity': 100, 'temp_kf': 0}, 'weather': [{'id': 501, 'main': 'Rain', 'description': 'moderate rain', 'icon': '10n'}], 'clouds': {'all': 100}, 'wind': {'speed': 1.43, 'deg': 195, 'gust': 1.16}, 'visibility': 71, 'pop': 1, 'rain': {'3h': 4.41}, 'sys': {'pod': 'n'}, 'dt_txt': '2024-10-16 06:00:00'}, {'dt': 1729069200, 'main': {'temp': 279.09, 'feels_like': 277.41, 'temp_min': 279.09, 'temp_max': 279.09, 'pressure': 1017, 'sea_level': 1017, 'grnd_level': 966, 'humidity': 100, 'temp_kf': 0}, 'weather': [{'id': 500, 'main': 'Rain', 'description': 'light rain', 'icon': '10d'}], 'clouds': {'all': 100}, 'wind': {'speed': 2.22, 'deg': 206, 'gust': 2.07}, 'visibility': 64, 'pop': 1, 'rain': {'3h': 1.07}, 'sys': {'pod': 'd'}, 'dt_txt': '2024-10-16 09:00:00'}, {'dt': 1729080000, 'main': {'temp': 278.99, 'feels_like': 277.73, 'temp_min': 278.99, 'temp_max': 278.99, 'pressure': 1018, 'sea_level': 1018, 'grnd_level': 967, 'humidity': 100, 'temp_kf': 0}, 'weather': [{'id': 500, 'main': 'Rain', 'description': 'light rain', 'icon': '10d'}], 'clouds': {'all': 100}, 'wind': {'speed': 1.78, 'deg': 202, 'gust': 1.78}, 'visibility': 62, 'pop': 1, 'rain': {'3h': 0.36}, 'sys': {'pod': 'd'}, 'dt_txt': '2024-10-16 12:00:00'}, {'dt': 1729090800, 'main': {'temp': 278.67, 'feels_like': 278.67, 'temp_min': 278.67, 'temp_max': 278.67, 'pressure': 1019, 'sea_level': 1019, 'grnd_level': 967, 'humidity': 100, 'temp_kf': 0}, 'weather': [{'id': 804, 'main': 'Clouds', 'description': 'overcast clouds', 'icon': '04d'}], 'clouds': {'all': 100}, 'wind': {'speed': 0.79, 'deg': 111, 'gust': 0.74}, 'visibility': 31, 'pop': 0, 'sys': {'pod': 'd'}, 'dt_txt': '2024-10-16 15:00:00'}, {'dt': 1729101600, 'main': {'temp': 278.02, 'feels_like': 276.72, 'temp_min': 278.02, 'temp_max': 278.02, 'pressure': 1019, 'sea_level': 1019, 'grnd_level': 967, 'humidity': 98, 'temp_kf': 0}, 'weather': [{'id': 804, 'main': 'Clouds', 'description': 'overcast clouds', 'icon': '04n'}], 'clouds': {'all': 100}, 'wind': {'speed': 1.68, 'deg': 86, 'gust': 1.31}, 'visibility': 10000, 'pop': 0, 'sys': {'pod': 'n'}, 'dt_txt': '2024-10-16 18:00:00'}, {'dt': 1729112400, 'main': {'temp': 277.65, 'feels_like': 275.48, 'temp_min': 277.65, 'temp_max': 277.65, 'pressure': 1018, 'sea_level': 1018, 'grnd_level': 966, 'humidity': 90, 'temp_kf': 0}, 'weather': [{'id': 804, 'main': 'Clouds', 'description': 'overcast clouds', 'icon': '04n'}], 'clouds': {'all': 91}, 'wind': {'speed': 2.48, 'deg': 84, 'gust': 2.21}, 'visibility': 10000, 'pop': 0, 'sys': {'pod': 'n'}, 'dt_txt': '2024-10-16 21:00:00'}, {'dt': 1729123200, 'main': {'temp': 276.17, 'feels_like': 273.89, 'temp_min': 276.17, 'temp_max': 276.17, 'pressure': 1017, 'sea_level': 1017, 'grnd_level': 965, 'humidity': 86, 'temp_kf': 0}, 'weather': [{'id': 804, 'main': 'Clouds', 'description': 'overcast clouds', 'icon': '04n'}], 'clouds': {'all': 95}, 'wind': {'speed': 2.31, 'deg': 65, 'gust': 2.04}, 'visibility': 10000, 'pop': 0, 'sys': {'pod': 'n'}, 'dt_txt': '2024-10-17 00:00:00'}, {'dt': 1729134000, 'main': {'temp': 276.22, 'feels_like': 273.93, 'temp_min': 276.22, 'temp_max': 276.22, 'pressure': 1015, 'sea_level': 1015, 'grnd_level': 963, 'humidity': 80, 'temp_kf': 0}, 'weather': [{'id': 804, 'main': 'Clouds', 'description': 'overcast clouds', 'icon': '04n'}], 'clouds': {'all': 100}, 'wind': {'speed': 2.33, 'deg': 68, 'gust': 2.14}, 'visibility': 10000, 'pop': 0, 'sys': {'pod': 'n'}, 'dt_txt': '2024-10-17 03:00:00'}, {'dt': 1729144800, 'main': {'temp': 278.29, 'feels_like': 278.29, 'temp_min': 278.29, 'temp_max': 278.29, 'pressure': 1013, 'sea_level': 1013, 'grnd_level': 961, 'humidity': 81, 'temp_kf': 0}, 'weather': [{'id': 804, 'main': 'Clouds', 'description': 'overcast clouds', 'icon': '04n'}], 'clouds': {'all': 100}, 'wind': {'speed': 1.14, 'deg': 97, 'gust': 0.89}, 'visibility': 10000, 'pop': 0, 'sys': {'pod': 'n'}, 'dt_txt': '2024-10-17 06:00:00'}, {'dt': 1729155600, 'main': {'temp': 279.7, 'feels_like': 279.7, 'temp_min': 279.7, 'temp_max': 279.7, 'pressure': 1012, 'sea_level': 1012, 'grnd_level': 960, 'humidity': 80, 'temp_kf': 0}, 'weather': [{'id': 804, 'main': 'Clouds', 'description': 'overcast clouds', 'icon': '04d'}], 'clouds': {'all': 100}, 'wind': {'speed': 1.26, 'deg': 87, 'gust': 0.76}, 'visibility': 10000, 'pop': 0, 'sys': {'pod': 'd'}, 'dt_txt': '2024-10-17 09:00:00'}, {'dt': 1729166400, 'main': {'temp': 280.44, 'feels_like': 278.91, 'temp_min': 280.44, 'temp_max': 280.44, 'pressure': 1011, 'sea_level': 1011, 'grnd_level': 959, 'humidity': 79, 'temp_kf': 0}, 'weather': [{'id': 804, 'main': 'Clouds', 'description': 'overcast clouds', 'icon': '04d'}], 'clouds': {'all': 100}, 'wind': {'speed': 2.32, 'deg': 60, 'gust': 1.75}, 'visibility': 10000, 'pop': 0, 'sys': {'pod': 'd'}, 'dt_txt': '2024-10-17 12:00:00'}, {'dt': 1729177200, 'main': {'temp': 278.94, 'feels_like': 277.28, 'temp_min': 278.94, 'temp_max': 278.94, 'pressure': 1009, 'sea_level': 1009, 'grnd_level': 958, 'humidity': 76, 'temp_kf': 0}, 'weather': [{'id': 804, 'main': 'Clouds', 'description': 'overcast clouds', 'icon': '04d'}], 'clouds': {'all': 100}, 'wind': {'speed': 2.16, 'deg': 51, 'gust': 1.8}, 'visibility': 10000, 'pop': 0, 'sys': {'pod': 'd'}, 'dt_txt': '2024-10-17 15:00:00'}, {'dt': 1729188000, 'main': {'temp': 277.53, 'feels_like': 277.53, 'temp_min': 277.53, 'temp_max': 277.53, 'pressure': 1010, 'sea_level': 1010, 'grnd_level': 959, 'humidity': 79, 'temp_kf': 0}, 'weather': [{'id': 804, 'main': 'Clouds', 'description': 'overcast clouds', 'icon': '04n'}], 'clouds': {'all': 100}, 'wind': {'speed': 0.82, 'deg': 206, 'gust': 1.12}, 'visibility': 10000, 'pop': 0, 'sys': {'pod': 'n'}, 'dt_txt': '2024-10-17 18:00:00'}, {'dt': 1729198800, 'main': {'temp': 278.91, 'feels_like': 278.91, 'temp_min': 278.91, 'temp_max': 278.91, 'pressure': 1011, 'sea_level': 1011, 'grnd_level': 960, 'humidity': 78, 'temp_kf': 0}, 'weather': [{'id': 804, 'main': 'Clouds', 'description': 'overcast clouds', 'icon': '04n'}], 'clouds': {'all': 100}, 'wind': {'speed': 0.35, 'deg': 229, 'gust': 0.52}, 'visibility': 10000, 'pop': 0, 'sys': {'pod': 'n'}, 'dt_txt': '2024-10-17 21:00:00'}, {'dt': 1729209600, 'main': {'temp': 278.22, 'feels_like': 278.22, 'temp_min': 278.22, 'temp_max': 278.22, 'pressure': 1012, 'sea_level': 1012, 'grnd_level': 960, 'humidity': 90, 'temp_kf': 0}, 'weather': [{'id': 500, 'main': 'Rain', 'description': 'light rain', 'icon': '10n'}], 'clouds': {'all': 100}, 'wind': {'speed': 0.85, 'deg': 308, 'gust': 0.3}, 'visibility': 10000, 'pop': 0.77, 'rain': {'3h': 0.7}, 'sys': {'pod': 'n'}, 'dt_txt': '2024-10-18 00:00:00'}, {'dt': 1729220400, 'main': {'temp': 278.57, 'feels_like': 278.57, 'temp_min': 278.57, 'temp_max': 278.57, 'pressure': 1013, 'sea_level': 1013, 'grnd_level': 961, 'humidity': 96, 'temp_kf': 0}, 'weather': [{'id': 500, 'main': 'Rain', 'description': 'light rain', 'icon': '10n'}], 'clouds': {'all': 100}, 'wind': {'speed': 0.87, 'deg': 265, 'gust': 0.68}, 'visibility': 4162, 'pop': 1, 'rain': {'3h': 1.47}, 'sys': {'pod': 'n'}, 'dt_txt': '2024-10-18 03:00:00'}, {'dt': 1729231200, 'main': {'temp': 279.18, 'feels_like': 279.18, 'temp_min': 279.18, 'temp_max': 279.18, 'pressure': 1015, 'sea_level': 1015, 'grnd_level': 963, 'humidity': 97, 'temp_kf': 0}, 'weather': [{'id': 500, 'main': 'Rain', 'description': 'light rain', 'icon': '10n'}], 'clouds': {'all': 100}, 'wind': {'speed': 0.86, 'deg': 238, 'gust': 1}, 'visibility': 3546, 'pop': 1, 'rain': {'3h': 1.6}, 'sys': {'pod': 'n'}, 'dt_txt': '2024-10-18 06:00:00'}, {'dt': 1729242000, 'main': {'temp': 279.8, 'feels_like': 279.8, 'temp_min': 279.8, 'temp_max': 279.8, 'pressure': 1016, 'sea_level': 1016, 'grnd_level': 964, 'humidity': 97, 'temp_kf': 0}, 'weather': [{'id': 500, 'main': 'Rain', 'description': 'light rain', 'icon': '10d'}], 'clouds': {'all': 100}, 'wind': {'speed': 0.69, 'deg': 208, 'gust': 0.92}, 'visibility': 1958, 'pop': 1, 'rain': {'3h': 0.74}, 'sys': {'pod': 'd'}, 'dt_txt': '2024-10-18 09:00:00'}, {'dt': 1729252800, 'main': {'temp': 279.97, 'feels_like': 279.97, 'temp_min': 279.97, 'temp_max': 279.97, 'pressure': 1017, 'sea_level': 1017, 'grnd_level': 966, 'humidity': 99, 'temp_kf': 0}, 'weather': [{'id': 500, 'main': 'Rain', 'description': 'light rain', 'icon': '10d'}], 'clouds': {'all': 100}, 'wind': {'speed': 0.82, 'deg': 301, 'gust': 0.57}, 'visibility': 360, 'pop': 1, 'rain': {'3h': 0.46}, 'sys': {'pod': 'd'}, 'dt_txt': '2024-10-18 12:00:00'}, {'dt': 1729263600, 'main': {'temp': 280.1, 'feels_like': 279.23, 'temp_min': 280.1, 'temp_max': 280.1, 'pressure': 1018, 'sea_level': 1018, 'grnd_level': 967, 'humidity': 99, 'temp_kf': 0}, 'weather': [{'id': 804, 'main': 'Clouds', 'description': 'overcast clouds', 'icon': '04d'}], 'clouds': {'all': 100}, 'wind': {'speed': 1.58, 'deg': 85, 'gust': 1.43}, 'visibility': 107, 'pop': 0, 'sys': {'pod': 'd'}, 'dt_txt': '2024-10-18 15:00:00'}, {'dt': 1729274400, 'main': {'temp': 279.67, 'feels_like': 278.02, 'temp_min': 279.67, 'temp_max': 279.67, 'pressure': 1018, 'sea_level': 1018, 'grnd_level': 967, 'humidity': 99, 'temp_kf': 0}, 'weather': [{'id': 804, 'main': 'Clouds', 'description': 'overcast clouds', 'icon': '04n'}], 'clouds': {'all': 100}, 'wind': {'speed': 2.3, 'deg': 90, 'gust': 2.59}, 'visibility': 1246, 'pop': 0, 'sys': {'pod': 'n'}, 'dt_txt': '2024-10-18 18:00:00'}, {'dt': 1729285200, 'main': {'temp': 279.28, 'feels_like': 277.32, 'temp_min': 279.28, 'temp_max': 279.28, 'pressure': 1018, 'sea_level': 1018, 'grnd_level': 966, 'humidity': 96, 'temp_kf': 0}, 'weather': [{'id': 804, 'main': 'Clouds', 'description': 'overcast clouds', 'icon': '04n'}], 'clouds': {'all': 100}, 'wind': {'speed': 2.59, 'deg': 71, 'gust': 3.31}, 'visibility': 7253, 'pop': 0, 'sys': {'pod': 'n'}, 'dt_txt': '2024-10-18 21:00:00'}, {'dt': 1729296000, 'main': {'temp': 278.61, 'feels_like': 276.33, 'temp_min': 278.61, 'temp_max': 278.61, 'pressure': 1017, 'sea_level': 1017, 'grnd_level': 965, 'humidity': 94, 'temp_kf': 0}, 'weather': [{'id': 804, 'main': 'Clouds', 'description': 'overcast clouds', 'icon': '04n'}], 'clouds': {'all': 100}, 'wind': {'speed': 2.84, 'deg': 70, 'gust': 2.54}, 'visibility': 10000, 'pop': 0, 'sys': {'pod': 'n'}, 'dt_txt': '2024-10-19 00:00:00'}, {'dt': 1729306800, 'main': {'temp': 278.54, 'feels_like': 276.46, 'temp_min': 278.54, 'temp_max': 278.54, 'pressure': 1016, 'sea_level': 1016, 'grnd_level': 964, 'humidity': 89, 'temp_kf': 0}, 'weather': [{'id': 804, 'main': 'Clouds', 'description': 'overcast clouds', 'icon': '04n'}], 'clouds': {'all': 100}, 'wind': {'speed': 2.56, 'deg': 71, 'gust': 1.85}, 'visibility': 10000, 'pop': 0, 'sys': {'pod': 'n'}, 'dt_txt': '2024-10-19 03:00:00'}, {'dt': 1729317600, 'main': {'temp': 278.57, 'feels_like': 276.9, 'temp_min': 278.57, 'temp_max': 278.57, 'pressure': 1016, 'sea_level': 1016, 'grnd_level': 964, 'humidity': 96, 'temp_kf': 0}, 'weather': [{'id': 804, 'main': 'Clouds', 'description': 'overcast clouds', 'icon': '04n'}], 'clouds': {'all': 100}, 'wind': {'speed': 2.11, 'deg': 92, 'gust': 1.69}, 'visibility': 6017, 'pop': 0, 'sys': {'pod': 'n'}, 'dt_txt': '2024-10-19 06:00:00'}], 'city': {'id': 3145614, 'name': 'Mo i Rana', 'coord': {'lat': 66.3128, 'lon': 14.1428}, 'country': 'NO', 'population': 17853, 'timezone': 7200, 'sunrise': 1728885478, 'sunset': 1728920425}}\n"
     ]
    }
   ],
   "source": [
    "responseF = requests.get(urlF).json()\n",
    "#print(json.dumps(responseF, indent=4))\n",
    "print(responseF)"
   ]
  },
  {
   "cell_type": "code",
   "execution_count": 11,
   "metadata": {
    "ExecuteTime": {
     "end_time": "2024-08-17T10:19:07.510514Z",
     "start_time": "2024-08-17T10:19:07.506586Z"
    },
    "slideshow": {
     "slide_type": "slide"
    },
    "tags": []
   },
   "outputs": [],
   "source": [
    "# Write JSON to file for viewing\n",
    "with open('downloads/forecast.json', 'w') as f:\n",
    "    json.dump(responseF, f, indent=4)"
   ]
  },
  {
   "cell_type": "markdown",
   "metadata": {
    "slideshow": {
     "slide_type": "slide"
    }
   },
   "source": [
    "### When and what?\n",
    "Check contents and time stamps"
   ]
  },
  {
   "cell_type": "code",
   "execution_count": 12,
   "metadata": {
    "ExecuteTime": {
     "end_time": "2024-08-17T10:19:07.514214Z",
     "start_time": "2024-08-17T10:19:07.511162Z"
    },
    "slideshow": {
     "slide_type": "fragment"
    },
    "tags": []
   },
   "outputs": [
    {
     "data": {
      "text/plain": [
       "dict_keys(['cod', 'message', 'cnt', 'list', 'city'])"
      ]
     },
     "execution_count": 12,
     "metadata": {},
     "output_type": "execute_result"
    }
   ],
   "source": [
    "# Content of responseF\n",
    "responseF.keys()"
   ]
  },
  {
   "cell_type": "code",
   "execution_count": 13,
   "metadata": {
    "ExecuteTime": {
     "end_time": "2024-08-17T10:19:07.516813Z",
     "start_time": "2024-08-17T10:19:07.514918Z"
    },
    "slideshow": {
     "slide_type": "fragment"
    },
    "tags": []
   },
   "outputs": [
    {
     "name": "stdout",
     "output_type": "stream",
     "text": [
      "40\n"
     ]
    }
   ],
   "source": [
    "# Number of forecasts\n",
    "print(len(responseF[\"list\"]))"
   ]
  },
  {
   "cell_type": "code",
   "execution_count": 14,
   "metadata": {
    "ExecuteTime": {
     "end_time": "2024-08-17T10:19:07.520443Z",
     "start_time": "2024-08-17T10:19:07.518884Z"
    },
    "slideshow": {
     "slide_type": "slide"
    },
    "tags": []
   },
   "outputs": [
    {
     "name": "stdout",
     "output_type": "stream",
     "text": [
      "2024-10-14 09:00:00\n",
      "2024-10-14 12:00:00\n",
      "2024-10-14 15:00:00\n",
      "2024-10-14 18:00:00\n",
      "2024-10-14 21:00:00\n",
      "2024-10-15 00:00:00\n",
      "2024-10-15 03:00:00\n",
      "2024-10-15 06:00:00\n",
      "2024-10-15 09:00:00\n",
      "2024-10-15 12:00:00\n",
      "2024-10-15 15:00:00\n",
      "2024-10-15 18:00:00\n",
      "2024-10-15 21:00:00\n",
      "2024-10-16 00:00:00\n",
      "2024-10-16 03:00:00\n",
      "2024-10-16 06:00:00\n",
      "2024-10-16 09:00:00\n",
      "2024-10-16 12:00:00\n",
      "2024-10-16 15:00:00\n",
      "2024-10-16 18:00:00\n",
      "2024-10-16 21:00:00\n",
      "2024-10-17 00:00:00\n",
      "2024-10-17 03:00:00\n",
      "2024-10-17 06:00:00\n",
      "2024-10-17 09:00:00\n",
      "2024-10-17 12:00:00\n",
      "2024-10-17 15:00:00\n",
      "2024-10-17 18:00:00\n",
      "2024-10-17 21:00:00\n",
      "2024-10-18 00:00:00\n",
      "2024-10-18 03:00:00\n",
      "2024-10-18 06:00:00\n",
      "2024-10-18 09:00:00\n",
      "2024-10-18 12:00:00\n",
      "2024-10-18 15:00:00\n",
      "2024-10-18 18:00:00\n",
      "2024-10-18 21:00:00\n",
      "2024-10-19 00:00:00\n",
      "2024-10-19 03:00:00\n",
      "2024-10-19 06:00:00\n"
     ]
    }
   ],
   "source": [
    "# Print forecast times\n",
    "for forecast in responseF[\"list\"]:\n",
    "    print(forecast[\"dt_txt\"])"
   ]
  },
  {
   "cell_type": "markdown",
   "metadata": {
    "slideshow": {
     "slide_type": "slide"
    }
   },
   "source": [
    "## Make plots of omnipresent measurements and events\n",
    "We will later look at missing data, data only sporadically appearing and so on."
   ]
  },
  {
   "cell_type": "code",
   "execution_count": 15,
   "metadata": {
    "ExecuteTime": {
     "end_time": "2024-08-17T10:19:07.522603Z",
     "start_time": "2024-08-17T10:19:07.521029Z"
    },
    "slideshow": {
     "slide_type": "fragment"
    },
    "tags": []
   },
   "outputs": [],
   "source": [
    "# Air pressure per period\n",
    "pressures = []\n",
    "timestamps = []\n",
    "for forecast in responseF[\"list\"]:\n",
    "    pressures.append(forecast[\"main\"][\"pressure\"])\n",
    "    timestamps.append(dt.datetime.fromtimestamp(forecast[\"dt\"]))"
   ]
  },
  {
   "cell_type": "code",
   "execution_count": 16,
   "metadata": {
    "ExecuteTime": {
     "end_time": "2024-08-17T10:19:08.124779Z",
     "start_time": "2024-08-17T10:19:07.523100Z"
    },
    "slideshow": {
     "slide_type": "slide"
    },
    "tags": []
   },
   "outputs": [
    {
     "data": {
      "image/png": "[encoded data removed]",
      "text/plain": [
       "<Figure size 640x480 with 1 Axes>"
      ]
     },
     "metadata": {},
     "output_type": "display_data"
    }
   ],
   "source": [
    "import matplotlib.pyplot as plt\n",
    "plt.bar(timestamps, pressures)\n",
    "plt.xticks(rotation=45)\n",
    "plt.ylim(980, 1050)\n",
    "plt.grid()\n",
    "plt.ylabel(\"Air pressure (hPa)\")\n",
    "plt.title(f\"Forecasted air pressure in {CITY}\")\n",
    "plt.show()"
   ]
  },
  {
   "cell_type": "markdown",
   "metadata": {
    "slideshow": {
     "slide_type": "slide"
    }
   },
   "source": [
    "## Exercise\n",
    "- Make a new forecast request for your own hometown. Call your response something else than responseF.\n",
    "- If available, plot the humidity like we did with air pressure."
   ]
  },
  {
   "cell_type": "markdown",
   "metadata": {
    "slideshow": {
     "slide_type": "slide"
    }
   },
   "source": [
    "### Precipitation\n",
    "- ... comes in two main flavours: rain and snow.\n",
    "- We need to check which is present and set to zero if it is abscent."
   ]
  },
  {
   "cell_type": "code",
   "execution_count": 17,
   "metadata": {
    "ExecuteTime": {
     "end_time": "2024-08-17T10:19:08.128573Z",
     "start_time": "2024-08-17T10:19:08.125858Z"
    },
    "slideshow": {
     "slide_type": "fragment"
    },
    "tags": []
   },
   "outputs": [],
   "source": [
    "rain = []\n",
    "snow = []\n",
    "for forecast in responseF[\"list\"]:\n",
    "    try: # Check if rain is present in forecast\n",
    "        rain.append(forecast[\"rain\"][\"3h\"])\n",
    "    except KeyError:\n",
    "        rain.append(0)\n",
    "    try: # Check if snow is present in forecast\n",
    "        snow.append(forecast[\"snow\"][\"3h\"])\n",
    "    except KeyError:\n",
    "        snow.append(0)"
   ]
  },
  {
   "cell_type": "code",
   "execution_count": 18,
   "metadata": {
    "ExecuteTime": {
     "end_time": "2024-08-17T10:19:08.223315Z",
     "start_time": "2024-08-17T10:19:08.129282Z"
    },
    "slideshow": {
     "slide_type": "slide"
    },
    "tags": []
   },
   "outputs": [
    {
     "data": {
      "image/png": "[encoded data removed]",
      "text/plain": [
       "<Figure size 640x480 with 1 Axes>"
      ]
     },
     "metadata": {},
     "output_type": "display_data"
    }
   ],
   "source": [
    "# Stacked bar chart with rain and snow\n",
    "plt.bar(timestamps, rain, label=\"Rain\")\n",
    "plt.bar(timestamps, snow, label=\"Snow\")\n",
    "plt.xticks(rotation=45)\n",
    "plt.grid()\n",
    "plt.ylabel(\"Precipitation (mm)\")\n",
    "plt.title(f\"Forecasted precipitation in {CITY}\")\n",
    "plt.legend()\n",
    "plt.show()\n"
   ]
  },
  {
   "cell_type": "markdown",
   "metadata": {
    "slideshow": {
     "slide_type": "slide"
    }
   },
   "source": [
    "```{seealso} Resources\n",
    ":class: tip\n",
    "- [YouTube: NeuralNine's video (15m:32s)](https://www.youtube.com/watch?v=9P5MY_2i7K8)\n",
    "```"
   ]
  }
 ],
 "metadata": {
  "celltoolbar": "Slideshow",
  "kernelspec": {
   "display_name": "Python 3 (ipykernel)",
   "language": "python",
   "name": "python3"
  },
  "language_info": {
   "codemirror_mode": {
    "name": "ipython",
    "version": 3
   },
   "file_extension": ".py",
   "mimetype": "text/x-python",
   "name": "python",
   "nbconvert_exporter": "python",
   "pygments_lexer": "ipython3",
   "version": "3.12.4"
  }
 },
 "nbformat": 4,
 "nbformat_minor": 4
}