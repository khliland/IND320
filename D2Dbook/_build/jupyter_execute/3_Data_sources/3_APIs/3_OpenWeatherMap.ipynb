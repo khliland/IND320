{
 "cells": [
  {
   "cell_type": "markdown",
   "metadata": {
    "slideshow": {
     "slide_type": "slide"
    }
   },
   "source": [
    "# Demonstration of API using OpenWeatherMap.org\n",
    "This demonstration is heavily inspired by [NeuralNine's video](https://www.youtube.com/watch?v=9P5MY_2i7K8).  \n",
    "You need a free account [from here](https://openweathermap.org/api).  \n",
    "The VS Code extension _JSON viewer_ is recommended for viewing downloaded JSON content.  \n",
    "  - Set your maximum API calls to 1000 per day to make sure you are under the limit for billing. \n",
    "  - To run the examples, download your API key, save it in the right folder (see below) in a file called _api\\_key\\_OpenWeather_, containing only the key (no spaces or \"enters\")."
   ]
  },
  {
   "cell_type": "code",
   "execution_count": 1,
   "metadata": {
    "ExecuteTime": {
     "end_time": "2024-08-17T10:19:06.946392Z",
     "start_time": "2024-08-17T10:19:06.887177Z"
    },
    "execution": {
     "iopub.execute_input": "2024-08-17T11:10:24.663699Z",
     "iopub.status.busy": "2024-08-17T11:10:24.663447Z",
     "iopub.status.idle": "2024-08-17T11:10:24.723696Z",
     "shell.execute_reply": "2024-08-17T11:10:24.723397Z"
    },
    "slideshow": {
     "slide_type": "fragment"
    }
   },
   "outputs": [],
   "source": [
    "# Imports\n",
    "import datetime as dt\n",
    "import requests\n",
    "import json"
   ]
  },
  {
   "cell_type": "markdown",
   "metadata": {
    "slideshow": {
     "slide_type": "slide"
    }
   },
   "source": [
    "## Current weather\n",
    "### Common definitions to use for all requests"
   ]
  },
  {
   "cell_type": "code",
   "execution_count": 2,
   "metadata": {
    "ExecuteTime": {
     "end_time": "2024-08-17T10:19:06.950734Z",
     "start_time": "2024-08-17T10:19:06.948129Z"
    },
    "execution": {
     "iopub.execute_input": "2024-08-17T11:10:24.725650Z",
     "iopub.status.busy": "2024-08-17T11:10:24.725525Z",
     "iopub.status.idle": "2024-08-17T11:10:24.727589Z",
     "shell.execute_reply": "2024-08-17T11:10:24.727371Z"
    },
    "slideshow": {
     "slide_type": "-"
    }
   },
   "outputs": [],
   "source": [
    "BASE_URL = \"http://api.openweathermap.org/data/2.5/weather?\"\n",
    "API_KEY = open('../../../No_sync/api_key_OpenWeather','r').read()\n",
    "CITY = \"Ski\"\n",
    "\n",
    "url = BASE_URL + \"q=\" + CITY + \"&appid=\" + API_KEY"
   ]
  },
  {
   "cell_type": "markdown",
   "metadata": {
    "slideshow": {
     "slide_type": "slide"
    }
   },
   "source": [
    "## Request current weather in chosen city"
   ]
  },
  {
   "cell_type": "code",
   "execution_count": 3,
   "metadata": {
    "ExecuteTime": {
     "end_time": "2024-08-17T10:19:07.346472Z",
     "start_time": "2024-08-17T10:19:06.951363Z"
    },
    "execution": {
     "iopub.execute_input": "2024-08-17T11:10:24.728855Z",
     "iopub.status.busy": "2024-08-17T11:10:24.728771Z",
     "iopub.status.idle": "2024-08-17T11:10:25.161921Z",
     "shell.execute_reply": "2024-08-17T11:10:25.161501Z"
    },
    "slideshow": {
     "slide_type": "fragment"
    }
   },
   "outputs": [
    {
     "name": "stdout",
     "output_type": "stream",
     "text": [
      "{'coord': {'lon': 10.8358, 'lat': 59.7195}, 'weather': [{'id': 500, 'main': 'Rain', 'description': 'light rain', 'icon': '10d'}], 'base': 'stations', 'main': {'temp': 286.98, 'feels_like': 286.9, 'temp_min': 286.27, 'temp_max': 287.8, 'pressure': 995, 'humidity': 95, 'sea_level': 995, 'grnd_level': 979}, 'visibility': 10000, 'wind': {'speed': 2.53, 'deg': 183, 'gust': 6.79}, 'rain': {'1h': 0.37}, 'clouds': {'all': 99}, 'dt': 1724402663, 'sys': {'type': 2, 'id': 2006772, 'country': 'NO', 'sunrise': 1724385128, 'sunset': 1724438802}, 'timezone': 7200, 'id': 3139081, 'name': 'Ski', 'cod': 200}\n"
     ]
    }
   ],
   "source": [
    "response = requests.get(url).json()\n",
    "print(response)"
   ]
  },
  {
   "cell_type": "code",
   "execution_count": 4,
   "metadata": {
    "ExecuteTime": {
     "end_time": "2024-08-17T10:19:07.356894Z",
     "start_time": "2024-08-17T10:19:07.353047Z"
    },
    "execution": {
     "iopub.execute_input": "2024-08-17T11:10:25.200397Z",
     "iopub.status.busy": "2024-08-17T11:10:25.200119Z",
     "iopub.status.idle": "2024-08-17T11:10:25.202823Z",
     "shell.execute_reply": "2024-08-17T11:10:25.202533Z"
    },
    "slideshow": {
     "slide_type": "fragment"
    }
   },
   "outputs": [],
   "source": [
    "# Write JSON to file for viewing\n",
    "with open('downloads/weather.json', 'w') as f:\n",
    "    json.dump(response, f, indent=4)"
   ]
  },
  {
   "cell_type": "markdown",
   "metadata": {
    "slideshow": {
     "slide_type": "slide"
    }
   },
   "source": [
    "## Conversion functions\n",
    "Changing scales can make results more interpretable"
   ]
  },
  {
   "cell_type": "code",
   "execution_count": 5,
   "metadata": {
    "ExecuteTime": {
     "end_time": "2024-08-17T10:19:07.360029Z",
     "start_time": "2024-08-17T10:19:07.358341Z"
    },
    "execution": {
     "iopub.execute_input": "2024-08-17T11:10:25.204315Z",
     "iopub.status.busy": "2024-08-17T11:10:25.204202Z",
     "iopub.status.idle": "2024-08-17T11:10:25.206008Z",
     "shell.execute_reply": "2024-08-17T11:10:25.205755Z"
    },
    "slideshow": {
     "slide_type": "-"
    }
   },
   "outputs": [],
   "source": [
    "# Kelvin to Celsius\n",
    "def kelvin_to_celsius(temp):\n",
    "    return temp - 273.15\n",
    "\n",
    "# Meters per second to knots\n",
    "def mps_to_knots(speed):\n",
    "    return speed * 1.943844"
   ]
  },
  {
   "cell_type": "markdown",
   "metadata": {
    "slideshow": {
     "slide_type": "slide"
    }
   },
   "source": [
    "## Print some weather properties"
   ]
  },
  {
   "cell_type": "code",
   "execution_count": 6,
   "metadata": {
    "ExecuteTime": {
     "end_time": "2024-08-17T10:19:07.362209Z",
     "start_time": "2024-08-17T10:19:07.360604Z"
    },
    "execution": {
     "iopub.execute_input": "2024-08-17T11:10:25.207688Z",
     "iopub.status.busy": "2024-08-17T11:10:25.207575Z",
     "iopub.status.idle": "2024-08-17T11:10:25.210669Z",
     "shell.execute_reply": "2024-08-17T11:10:25.209844Z"
    },
    "slideshow": {
     "slide_type": "-"
    }
   },
   "outputs": [
    {
     "name": "stdout",
     "output_type": "stream",
     "text": [
      "The current temperature in Ski is 13.8°C\n"
     ]
    }
   ],
   "source": [
    "# Current temperature\n",
    "temp_kelvin = response['main']['temp']\n",
    "temp_celsius = kelvin_to_celsius(temp_kelvin)\n",
    "print(f\"The current temperature in {CITY} is {temp_celsius:.1f}°C\")"
   ]
  },
  {
   "cell_type": "code",
   "execution_count": 7,
   "metadata": {
    "ExecuteTime": {
     "end_time": "2024-08-17T10:19:07.364358Z",
     "start_time": "2024-08-17T10:19:07.362759Z"
    },
    "execution": {
     "iopub.execute_input": "2024-08-17T11:10:25.212687Z",
     "iopub.status.busy": "2024-08-17T11:10:25.212585Z",
     "iopub.status.idle": "2024-08-17T11:10:25.215092Z",
     "shell.execute_reply": "2024-08-17T11:10:25.214660Z"
    },
    "slideshow": {
     "slide_type": "slide"
    }
   },
   "outputs": [
    {
     "name": "stdout",
     "output_type": "stream",
     "text": [
      "Sunrise today is at 05:52 and sunset is at 20:46\n"
     ]
    }
   ],
   "source": [
    "# Sunrise and sunset today in local time\n",
    "sunrise = dt.datetime.fromtimestamp(response['sys']['sunrise'])\n",
    "sunset = dt.datetime.fromtimestamp(response['sys']['sunset'])\n",
    "print(f\"Sunrise today is at {sunrise:%H:%M} and sunset is at {sunset:%H:%M}\")"
   ]
  },
  {
   "cell_type": "code",
   "execution_count": 8,
   "metadata": {
    "ExecuteTime": {
     "end_time": "2024-08-17T10:19:07.367002Z",
     "start_time": "2024-08-17T10:19:07.365133Z"
    },
    "execution": {
     "iopub.execute_input": "2024-08-17T11:10:25.216596Z",
     "iopub.status.busy": "2024-08-17T11:10:25.216507Z",
     "iopub.status.idle": "2024-08-17T11:10:25.218313Z",
     "shell.execute_reply": "2024-08-17T11:10:25.218028Z"
    },
    "slideshow": {
     "slide_type": "fragment"
    }
   },
   "outputs": [
    {
     "name": "stdout",
     "output_type": "stream",
     "text": [
      "Wind today is from 183° at 4.9 knots\n"
     ]
    }
   ],
   "source": [
    "# Wind direction and speed\n",
    "wind_knots = mps_to_knots(response['wind']['speed'])\n",
    "print(f\"Wind today is from {response['wind']['deg']}° at {round(wind_knots,1)} knots\")"
   ]
  },
  {
   "cell_type": "markdown",
   "metadata": {
    "slideshow": {
     "slide_type": "slide"
    }
   },
   "source": [
    "## Forecasted weather\n",
    "### Common definitions to use for all requests"
   ]
  },
  {
   "cell_type": "code",
   "execution_count": 9,
   "metadata": {
    "ExecuteTime": {
     "end_time": "2024-08-17T10:19:07.369150Z",
     "start_time": "2024-08-17T10:19:07.367438Z"
    },
    "execution": {
     "iopub.execute_input": "2024-08-17T11:10:25.219716Z",
     "iopub.status.busy": "2024-08-17T11:10:25.219645Z",
     "iopub.status.idle": "2024-08-17T11:10:25.221342Z",
     "shell.execute_reply": "2024-08-17T11:10:25.221042Z"
    },
    "slideshow": {
     "slide_type": "-"
    }
   },
   "outputs": [],
   "source": [
    "BASE_URL = \"http://api.openweathermap.org/data/2.5/forecast?\"\n",
    "CITY = \"Noresund\"\n",
    "\n",
    "urlF = BASE_URL + \"q=\" + CITY + \"&appid=\" + API_KEY"
   ]
  },
  {
   "cell_type": "markdown",
   "metadata": {
    "slideshow": {
     "slide_type": "slide"
    }
   },
   "source": [
    "## Request forecasted weather in chosen city"
   ]
  },
  {
   "cell_type": "code",
   "execution_count": 10,
   "metadata": {
    "ExecuteTime": {
     "end_time": "2024-08-17T10:19:07.505916Z",
     "start_time": "2024-08-17T10:19:07.369779Z"
    },
    "execution": {
     "iopub.execute_input": "2024-08-17T11:10:25.222724Z",
     "iopub.status.busy": "2024-08-17T11:10:25.222655Z",
     "iopub.status.idle": "2024-08-17T11:10:25.527518Z",
     "shell.execute_reply": "2024-08-17T11:10:25.526927Z"
    },
    "slideshow": {
     "slide_type": "-"
    }
   },
   "outputs": [
    {
     "name": "stdout",
     "output_type": "stream",
     "text": [
      "{'cod': '200', 'message': 0, 'cnt': 40, 'list': [{'dt': 1724403600, 'main': {'temp': 286.54, 'feels_like': 286.26, 'temp_min': 286.16, 'temp_max': 286.54, 'pressure': 994, 'sea_level': 994, 'grnd_level': 939, 'humidity': 89, 'temp_kf': 0.38}, 'weather': [{'id': 500, 'main': 'Rain', 'description': 'light rain', 'icon': '10d'}], 'clouds': {'all': 100}, 'wind': {'speed': 3.04, 'deg': 151, 'gust': 5.13}, 'visibility': 10000, 'pop': 0.71, 'rain': {'3h': 0.36}, 'sys': {'pod': 'd'}, 'dt_txt': '2024-08-23 09:00:00'}, {'dt': 1724414400, 'main': {'temp': 285.61, 'feels_like': 285.31, 'temp_min': 283.76, 'temp_max': 285.61, 'pressure': 993, 'sea_level': 993, 'grnd_level': 936, 'humidity': 92, 'temp_kf': 1.85}, 'weather': [{'id': 500, 'main': 'Rain', 'description': 'light rain', 'icon': '10d'}], 'clouds': {'all': 100}, 'wind': {'speed': 1.62, 'deg': 131, 'gust': 3.24}, 'visibility': 2487, 'pop': 1, 'rain': {'3h': 1.71}, 'sys': {'pod': 'd'}, 'dt_txt': '2024-08-23 12:00:00'}, {'dt': 1724425200, 'main': {'temp': 284.36, 'feels_like': 284.02, 'temp_min': 283.27, 'temp_max': 284.36, 'pressure': 989, 'sea_level': 989, 'grnd_level': 931, 'humidity': 95, 'temp_kf': 1.09}, 'weather': [{'id': 501, 'main': 'Rain', 'description': 'moderate rain', 'icon': '10d'}], 'clouds': {'all': 100}, 'wind': {'speed': 2.16, 'deg': 350, 'gust': 3.77}, 'visibility': 4070, 'pop': 1, 'rain': {'3h': 7.85}, 'sys': {'pod': 'd'}, 'dt_txt': '2024-08-23 15:00:00'}, {'dt': 1724436000, 'main': {'temp': 283.95, 'feels_like': 283.62, 'temp_min': 283.95, 'temp_max': 283.95, 'pressure': 986, 'sea_level': 986, 'grnd_level': 931, 'humidity': 97, 'temp_kf': 0}, 'weather': [{'id': 501, 'main': 'Rain', 'description': 'moderate rain', 'icon': '10d'}], 'clouds': {'all': 100}, 'wind': {'speed': 1.2, 'deg': 240, 'gust': 1.61}, 'visibility': 10000, 'pop': 1, 'rain': {'3h': 4.04}, 'sys': {'pod': 'd'}, 'dt_txt': '2024-08-23 18:00:00'}, {'dt': 1724446800, 'main': {'temp': 282.79, 'feels_like': 281.43, 'temp_min': 282.79, 'temp_max': 282.79, 'pressure': 991, 'sea_level': 991, 'grnd_level': 936, 'humidity': 95, 'temp_kf': 0}, 'weather': [{'id': 500, 'main': 'Rain', 'description': 'light rain', 'icon': '10n'}], 'clouds': {'all': 70}, 'wind': {'speed': 2.68, 'deg': 277, 'gust': 5.43}, 'visibility': 10000, 'pop': 0.31, 'rain': {'3h': 0.23}, 'sys': {'pod': 'n'}, 'dt_txt': '2024-08-23 21:00:00'}, {'dt': 1724457600, 'main': {'temp': 281.91, 'feels_like': 280.92, 'temp_min': 281.91, 'temp_max': 281.91, 'pressure': 997, 'sea_level': 997, 'grnd_level': 940, 'humidity': 89, 'temp_kf': 0}, 'weather': [{'id': 802, 'main': 'Clouds', 'description': 'scattered clouds', 'icon': '03n'}], 'clouds': {'all': 39}, 'wind': {'speed': 1.98, 'deg': 278, 'gust': 1.98}, 'visibility': 10000, 'pop': 0, 'sys': {'pod': 'n'}, 'dt_txt': '2024-08-24 00:00:00'}, {'dt': 1724468400, 'main': {'temp': 281.03, 'feels_like': 279.84, 'temp_min': 281.03, 'temp_max': 281.03, 'pressure': 1001, 'sea_level': 1001, 'grnd_level': 944, 'humidity': 92, 'temp_kf': 0}, 'weather': [{'id': 802, 'main': 'Clouds', 'description': 'scattered clouds', 'icon': '03n'}], 'clouds': {'all': 28}, 'wind': {'speed': 2.04, 'deg': 268, 'gust': 1.9}, 'visibility': 10000, 'pop': 0, 'sys': {'pod': 'n'}, 'dt_txt': '2024-08-24 03:00:00'}, {'dt': 1724479200, 'main': {'temp': 283.37, 'feels_like': 282.69, 'temp_min': 283.37, 'temp_max': 283.37, 'pressure': 1003, 'sea_level': 1003, 'grnd_level': 946, 'humidity': 86, 'temp_kf': 0}, 'weather': [{'id': 803, 'main': 'Clouds', 'description': 'broken clouds', 'icon': '04d'}], 'clouds': {'all': 55}, 'wind': {'speed': 0.89, 'deg': 243, 'gust': 1.25}, 'visibility': 10000, 'pop': 0, 'sys': {'pod': 'd'}, 'dt_txt': '2024-08-24 06:00:00'}, {'dt': 1724490000, 'main': {'temp': 287.48, 'feels_like': 286.69, 'temp_min': 287.48, 'temp_max': 287.48, 'pressure': 1004, 'sea_level': 1004, 'grnd_level': 948, 'humidity': 66, 'temp_kf': 0}, 'weather': [{'id': 803, 'main': 'Clouds', 'description': 'broken clouds', 'icon': '04d'}], 'clouds': {'all': 84}, 'wind': {'speed': 2.82, 'deg': 181, 'gust': 4.81}, 'visibility': 10000, 'pop': 0, 'sys': {'pod': 'd'}, 'dt_txt': '2024-08-24 09:00:00'}, {'dt': 1724500800, 'main': {'temp': 289.38, 'feels_like': 288.63, 'temp_min': 289.38, 'temp_max': 289.38, 'pressure': 1004, 'sea_level': 1004, 'grnd_level': 948, 'humidity': 60, 'temp_kf': 0}, 'weather': [{'id': 804, 'main': 'Clouds', 'description': 'overcast clouds', 'icon': '04d'}], 'clouds': {'all': 92}, 'wind': {'speed': 4.44, 'deg': 188, 'gust': 9.17}, 'visibility': 10000, 'pop': 0, 'sys': {'pod': 'd'}, 'dt_txt': '2024-08-24 12:00:00'}, {'dt': 1724511600, 'main': {'temp': 288.11, 'feels_like': 287.75, 'temp_min': 288.11, 'temp_max': 288.11, 'pressure': 1003, 'sea_level': 1003, 'grnd_level': 948, 'humidity': 80, 'temp_kf': 0}, 'weather': [{'id': 500, 'main': 'Rain', 'description': 'light rain', 'icon': '10d'}], 'clouds': {'all': 100}, 'wind': {'speed': 4.01, 'deg': 171, 'gust': 7.69}, 'visibility': 10000, 'pop': 1, 'rain': {'3h': 0.52}, 'sys': {'pod': 'd'}, 'dt_txt': '2024-08-24 15:00:00'}, {'dt': 1724522400, 'main': {'temp': 286.08, 'feels_like': 285.73, 'temp_min': 286.08, 'temp_max': 286.08, 'pressure': 1003, 'sea_level': 1003, 'grnd_level': 947, 'humidity': 88, 'temp_kf': 0}, 'weather': [{'id': 500, 'main': 'Rain', 'description': 'light rain', 'icon': '10d'}], 'clouds': {'all': 100}, 'wind': {'speed': 2.58, 'deg': 161, 'gust': 6.52}, 'visibility': 10000, 'pop': 1, 'rain': {'3h': 0.25}, 'sys': {'pod': 'd'}, 'dt_txt': '2024-08-24 18:00:00'}, {'dt': 1724533200, 'main': {'temp': 284.09, 'feels_like': 283.82, 'temp_min': 284.09, 'temp_max': 284.09, 'pressure': 1003, 'sea_level': 1003, 'grnd_level': 947, 'humidity': 99, 'temp_kf': 0}, 'weather': [{'id': 804, 'main': 'Clouds', 'description': 'overcast clouds', 'icon': '04n'}], 'clouds': {'all': 99}, 'wind': {'speed': 0.9, 'deg': 154, 'gust': 2.01}, 'visibility': 6284, 'pop': 0, 'sys': {'pod': 'n'}, 'dt_txt': '2024-08-24 21:00:00'}, {'dt': 1724544000, 'main': {'temp': 284.48, 'feels_like': 284.23, 'temp_min': 284.48, 'temp_max': 284.48, 'pressure': 1001, 'sea_level': 1001, 'grnd_level': 945, 'humidity': 98, 'temp_kf': 0}, 'weather': [{'id': 804, 'main': 'Clouds', 'description': 'overcast clouds', 'icon': '04n'}], 'clouds': {'all': 100}, 'wind': {'speed': 0.32, 'deg': 284, 'gust': 0.35}, 'visibility': 10000, 'pop': 0, 'sys': {'pod': 'n'}, 'dt_txt': '2024-08-25 00:00:00'}, {'dt': 1724554800, 'main': {'temp': 283.73, 'feels_like': 283.35, 'temp_min': 283.73, 'temp_max': 283.73, 'pressure': 1001, 'sea_level': 1001, 'grnd_level': 945, 'humidity': 96, 'temp_kf': 0}, 'weather': [{'id': 804, 'main': 'Clouds', 'description': 'overcast clouds', 'icon': '04n'}], 'clouds': {'all': 98}, 'wind': {'speed': 1, 'deg': 272, 'gust': 0.89}, 'visibility': 10000, 'pop': 0, 'sys': {'pod': 'n'}, 'dt_txt': '2024-08-25 03:00:00'}, {'dt': 1724565600, 'main': {'temp': 284.45, 'feels_like': 283.91, 'temp_min': 284.45, 'temp_max': 284.45, 'pressure': 1002, 'sea_level': 1002, 'grnd_level': 945, 'humidity': 87, 'temp_kf': 0}, 'weather': [{'id': 803, 'main': 'Clouds', 'description': 'broken clouds', 'icon': '04d'}], 'clouds': {'all': 60}, 'wind': {'speed': 1.11, 'deg': 274, 'gust': 1.41}, 'visibility': 10000, 'pop': 0, 'sys': {'pod': 'd'}, 'dt_txt': '2024-08-25 06:00:00'}, {'dt': 1724576400, 'main': {'temp': 289.68, 'feels_like': 288.77, 'temp_min': 289.68, 'temp_max': 289.68, 'pressure': 1002, 'sea_level': 1002, 'grnd_level': 947, 'humidity': 53, 'temp_kf': 0}, 'weather': [{'id': 802, 'main': 'Clouds', 'description': 'scattered clouds', 'icon': '03d'}], 'clouds': {'all': 34}, 'wind': {'speed': 1.57, 'deg': 228, 'gust': 4.13}, 'visibility': 10000, 'pop': 0, 'sys': {'pod': 'd'}, 'dt_txt': '2024-08-25 09:00:00'}, {'dt': 1724587200, 'main': {'temp': 291.38, 'feels_like': 290.38, 'temp_min': 291.38, 'temp_max': 291.38, 'pressure': 1003, 'sea_level': 1003, 'grnd_level': 948, 'humidity': 43, 'temp_kf': 0}, 'weather': [{'id': 802, 'main': 'Clouds', 'description': 'scattered clouds', 'icon': '03d'}], 'clouds': {'all': 32}, 'wind': {'speed': 5.38, 'deg': 239, 'gust': 7.87}, 'visibility': 10000, 'pop': 0, 'sys': {'pod': 'd'}, 'dt_txt': '2024-08-25 12:00:00'}, {'dt': 1724598000, 'main': {'temp': 290.15, 'feels_like': 289.11, 'temp_min': 290.15, 'temp_max': 290.15, 'pressure': 1005, 'sea_level': 1005, 'grnd_level': 950, 'humidity': 46, 'temp_kf': 0}, 'weather': [{'id': 802, 'main': 'Clouds', 'description': 'scattered clouds', 'icon': '03d'}], 'clouds': {'all': 42}, 'wind': {'speed': 5.04, 'deg': 237, 'gust': 8.04}, 'visibility': 10000, 'pop': 0, 'sys': {'pod': 'd'}, 'dt_txt': '2024-08-25 15:00:00'}, {'dt': 1724608800, 'main': {'temp': 285.97, 'feels_like': 284.85, 'temp_min': 285.97, 'temp_max': 285.97, 'pressure': 1008, 'sea_level': 1008, 'grnd_level': 951, 'humidity': 59, 'temp_kf': 0}, 'weather': [{'id': 802, 'main': 'Clouds', 'description': 'scattered clouds', 'icon': '03d'}], 'clouds': {'all': 44}, 'wind': {'speed': 3.42, 'deg': 235, 'gust': 9.13}, 'visibility': 10000, 'pop': 0, 'sys': {'pod': 'd'}, 'dt_txt': '2024-08-25 18:00:00'}, {'dt': 1724619600, 'main': {'temp': 282.02, 'feels_like': 281.23, 'temp_min': 282.02, 'temp_max': 282.02, 'pressure': 1010, 'sea_level': 1010, 'grnd_level': 953, 'humidity': 75, 'temp_kf': 0}, 'weather': [{'id': 801, 'main': 'Clouds', 'description': 'few clouds', 'icon': '02n'}], 'clouds': {'all': 19}, 'wind': {'speed': 1.77, 'deg': 266, 'gust': 2.58}, 'visibility': 10000, 'pop': 0, 'sys': {'pod': 'n'}, 'dt_txt': '2024-08-25 21:00:00'}, {'dt': 1724630400, 'main': {'temp': 280.61, 'feels_like': 280.61, 'temp_min': 280.61, 'temp_max': 280.61, 'pressure': 1012, 'sea_level': 1012, 'grnd_level': 954, 'humidity': 83, 'temp_kf': 0}, 'weather': [{'id': 802, 'main': 'Clouds', 'description': 'scattered clouds', 'icon': '03n'}], 'clouds': {'all': 35}, 'wind': {'speed': 1.27, 'deg': 254, 'gust': 1.25}, 'visibility': 10000, 'pop': 0, 'sys': {'pod': 'n'}, 'dt_txt': '2024-08-26 00:00:00'}, {'dt': 1724641200, 'main': {'temp': 279.53, 'feels_like': 279.53, 'temp_min': 279.53, 'temp_max': 279.53, 'pressure': 1012, 'sea_level': 1012, 'grnd_level': 955, 'humidity': 90, 'temp_kf': 0}, 'weather': [{'id': 803, 'main': 'Clouds', 'description': 'broken clouds', 'icon': '04n'}], 'clouds': {'all': 71}, 'wind': {'speed': 1.04, 'deg': 229, 'gust': 0.97}, 'visibility': 10000, 'pop': 0, 'sys': {'pod': 'n'}, 'dt_txt': '2024-08-26 03:00:00'}, {'dt': 1724652000, 'main': {'temp': 281.3, 'feels_like': 281.3, 'temp_min': 281.3, 'temp_max': 281.3, 'pressure': 1012, 'sea_level': 1012, 'grnd_level': 955, 'humidity': 90, 'temp_kf': 0}, 'weather': [{'id': 500, 'main': 'Rain', 'description': 'light rain', 'icon': '10d'}], 'clouds': {'all': 71}, 'wind': {'speed': 0.37, 'deg': 177, 'gust': 0.97}, 'visibility': 10000, 'pop': 0.2, 'rain': {'3h': 0.14}, 'sys': {'pod': 'd'}, 'dt_txt': '2024-08-26 06:00:00'}, {'dt': 1724662800, 'main': {'temp': 283.1, 'feels_like': 283.1, 'temp_min': 283.1, 'temp_max': 283.1, 'pressure': 1011, 'sea_level': 1011, 'grnd_level': 954, 'humidity': 97, 'temp_kf': 0}, 'weather': [{'id': 500, 'main': 'Rain', 'description': 'light rain', 'icon': '10d'}], 'clouds': {'all': 100}, 'wind': {'speed': 0.51, 'deg': 333, 'gust': 0.75}, 'visibility': 2448, 'pop': 1, 'rain': {'3h': 1}, 'sys': {'pod': 'd'}, 'dt_txt': '2024-08-26 09:00:00'}, {'dt': 1724673600, 'main': {'temp': 286.74, 'feels_like': 286.5, 'temp_min': 286.74, 'temp_max': 286.74, 'pressure': 1011, 'sea_level': 1011, 'grnd_level': 954, 'humidity': 90, 'temp_kf': 0}, 'weather': [{'id': 804, 'main': 'Clouds', 'description': 'overcast clouds', 'icon': '04d'}], 'clouds': {'all': 100}, 'wind': {'speed': 1.39, 'deg': 214, 'gust': 3.18}, 'visibility': 10000, 'pop': 0.8, 'sys': {'pod': 'd'}, 'dt_txt': '2024-08-26 12:00:00'}, {'dt': 1724684400, 'main': {'temp': 287.22, 'feels_like': 287.06, 'temp_min': 287.22, 'temp_max': 287.22, 'pressure': 1010, 'sea_level': 1010, 'grnd_level': 954, 'humidity': 91, 'temp_kf': 0}, 'weather': [{'id': 500, 'main': 'Rain', 'description': 'light rain', 'icon': '10d'}], 'clouds': {'all': 100}, 'wind': {'speed': 1.19, 'deg': 215, 'gust': 1.55}, 'visibility': 10000, 'pop': 0.76, 'rain': {'3h': 0.4}, 'sys': {'pod': 'd'}, 'dt_txt': '2024-08-26 15:00:00'}, {'dt': 1724695200, 'main': {'temp': 286.1, 'feels_like': 285.91, 'temp_min': 286.1, 'temp_max': 286.1, 'pressure': 1011, 'sea_level': 1011, 'grnd_level': 955, 'humidity': 94, 'temp_kf': 0}, 'weather': [{'id': 500, 'main': 'Rain', 'description': 'light rain', 'icon': '10d'}], 'clouds': {'all': 100}, 'wind': {'speed': 1.36, 'deg': 272, 'gust': 1.12}, 'visibility': 10000, 'pop': 0.95, 'rain': {'3h': 0.85}, 'sys': {'pod': 'd'}, 'dt_txt': '2024-08-26 18:00:00'}, {'dt': 1724706000, 'main': {'temp': 283.14, 'feels_like': 282.33, 'temp_min': 283.14, 'temp_max': 283.14, 'pressure': 1014, 'sea_level': 1014, 'grnd_level': 957, 'humidity': 94, 'temp_kf': 0}, 'weather': [{'id': 803, 'main': 'Clouds', 'description': 'broken clouds', 'icon': '04n'}], 'clouds': {'all': 83}, 'wind': {'speed': 2, 'deg': 283, 'gust': 1.65}, 'visibility': 10000, 'pop': 0, 'sys': {'pod': 'n'}, 'dt_txt': '2024-08-26 21:00:00'}, {'dt': 1724716800, 'main': {'temp': 281.29, 'feels_like': 279.87, 'temp_min': 281.29, 'temp_max': 281.29, 'pressure': 1016, 'sea_level': 1016, 'grnd_level': 958, 'humidity': 92, 'temp_kf': 0}, 'weather': [{'id': 802, 'main': 'Clouds', 'description': 'scattered clouds', 'icon': '03n'}], 'clouds': {'all': 45}, 'wind': {'speed': 2.37, 'deg': 284, 'gust': 2.33}, 'visibility': 10000, 'pop': 0, 'sys': {'pod': 'n'}, 'dt_txt': '2024-08-27 00:00:00'}, {'dt': 1724727600, 'main': {'temp': 280.23, 'feels_like': 278.76, 'temp_min': 280.23, 'temp_max': 280.23, 'pressure': 1018, 'sea_level': 1018, 'grnd_level': 960, 'humidity': 92, 'temp_kf': 0}, 'weather': [{'id': 801, 'main': 'Clouds', 'description': 'few clouds', 'icon': '02n'}], 'clouds': {'all': 15}, 'wind': {'speed': 2.2, 'deg': 289, 'gust': 2.09}, 'visibility': 10000, 'pop': 0, 'sys': {'pod': 'n'}, 'dt_txt': '2024-08-27 03:00:00'}, {'dt': 1724738400, 'main': {'temp': 282.15, 'feels_like': 281.44, 'temp_min': 282.15, 'temp_max': 282.15, 'pressure': 1020, 'sea_level': 1020, 'grnd_level': 962, 'humidity': 89, 'temp_kf': 0}, 'weather': [{'id': 803, 'main': 'Clouds', 'description': 'broken clouds', 'icon': '04d'}], 'clouds': {'all': 51}, 'wind': {'speed': 1.71, 'deg': 299, 'gust': 2.57}, 'visibility': 10000, 'pop': 0, 'sys': {'pod': 'd'}, 'dt_txt': '2024-08-27 06:00:00'}, {'dt': 1724749200, 'main': {'temp': 288.64, 'feels_like': 287.79, 'temp_min': 288.64, 'temp_max': 288.64, 'pressure': 1020, 'sea_level': 1020, 'grnd_level': 963, 'humidity': 59, 'temp_kf': 0}, 'weather': [{'id': 802, 'main': 'Clouds', 'description': 'scattered clouds', 'icon': '03d'}], 'clouds': {'all': 46}, 'wind': {'speed': 0.64, 'deg': 149, 'gust': 0.56}, 'visibility': 10000, 'pop': 0, 'sys': {'pod': 'd'}, 'dt_txt': '2024-08-27 09:00:00'}, {'dt': 1724760000, 'main': {'temp': 291.54, 'feels_like': 290.61, 'temp_min': 291.54, 'temp_max': 291.54, 'pressure': 1020, 'sea_level': 1020, 'grnd_level': 964, 'humidity': 45, 'temp_kf': 0}, 'weather': [{'id': 803, 'main': 'Clouds', 'description': 'broken clouds', 'icon': '04d'}], 'clouds': {'all': 67}, 'wind': {'speed': 2.29, 'deg': 164, 'gust': 2.91}, 'visibility': 10000, 'pop': 0, 'sys': {'pod': 'd'}, 'dt_txt': '2024-08-27 12:00:00'}, {'dt': 1724770800, 'main': {'temp': 291.97, 'feels_like': 291.13, 'temp_min': 291.97, 'temp_max': 291.97, 'pressure': 1019, 'sea_level': 1019, 'grnd_level': 963, 'humidity': 47, 'temp_kf': 0}, 'weather': [{'id': 804, 'main': 'Clouds', 'description': 'overcast clouds', 'icon': '04d'}], 'clouds': {'all': 93}, 'wind': {'speed': 2.2, 'deg': 155, 'gust': 2.95}, 'visibility': 10000, 'pop': 0, 'sys': {'pod': 'd'}, 'dt_txt': '2024-08-27 15:00:00'}, {'dt': 1724781600, 'main': {'temp': 287.91, 'feels_like': 287.3, 'temp_min': 287.91, 'temp_max': 287.91, 'pressure': 1020, 'sea_level': 1020, 'grnd_level': 963, 'humidity': 71, 'temp_kf': 0}, 'weather': [{'id': 804, 'main': 'Clouds', 'description': 'overcast clouds', 'icon': '04d'}], 'clouds': {'all': 97}, 'wind': {'speed': 0.31, 'deg': 176, 'gust': 0.32}, 'visibility': 10000, 'pop': 0, 'sys': {'pod': 'd'}, 'dt_txt': '2024-08-27 18:00:00'}, {'dt': 1724792400, 'main': {'temp': 285.65, 'feels_like': 285.1, 'temp_min': 285.65, 'temp_max': 285.65, 'pressure': 1021, 'sea_level': 1021, 'grnd_level': 964, 'humidity': 82, 'temp_kf': 0}, 'weather': [{'id': 804, 'main': 'Clouds', 'description': 'overcast clouds', 'icon': '04n'}], 'clouds': {'all': 100}, 'wind': {'speed': 0.76, 'deg': 290, 'gust': 0.65}, 'visibility': 10000, 'pop': 0, 'sys': {'pod': 'n'}, 'dt_txt': '2024-08-27 21:00:00'}, {'dt': 1724803200, 'main': {'temp': 285.32, 'feels_like': 284.79, 'temp_min': 285.32, 'temp_max': 285.32, 'pressure': 1022, 'sea_level': 1022, 'grnd_level': 965, 'humidity': 84, 'temp_kf': 0}, 'weather': [{'id': 804, 'main': 'Clouds', 'description': 'overcast clouds', 'icon': '04n'}], 'clouds': {'all': 100}, 'wind': {'speed': 1.03, 'deg': 252, 'gust': 0.94}, 'visibility': 10000, 'pop': 0, 'sys': {'pod': 'n'}, 'dt_txt': '2024-08-28 00:00:00'}, {'dt': 1724814000, 'main': {'temp': 283.99, 'feels_like': 283.53, 'temp_min': 283.99, 'temp_max': 283.99, 'pressure': 1022, 'sea_level': 1022, 'grnd_level': 965, 'humidity': 92, 'temp_kf': 0}, 'weather': [{'id': 804, 'main': 'Clouds', 'description': 'overcast clouds', 'icon': '04n'}], 'clouds': {'all': 92}, 'wind': {'speed': 1.22, 'deg': 268, 'gust': 1.06}, 'visibility': 10000, 'pop': 0, 'sys': {'pod': 'n'}, 'dt_txt': '2024-08-28 03:00:00'}, {'dt': 1724824800, 'main': {'temp': 286.7, 'feels_like': 286.3, 'temp_min': 286.7, 'temp_max': 286.7, 'pressure': 1023, 'sea_level': 1023, 'grnd_level': 966, 'humidity': 84, 'temp_kf': 0}, 'weather': [{'id': 804, 'main': 'Clouds', 'description': 'overcast clouds', 'icon': '04d'}], 'clouds': {'all': 94}, 'wind': {'speed': 1.04, 'deg': 246, 'gust': 1.4}, 'visibility': 10000, 'pop': 0, 'sys': {'pod': 'd'}, 'dt_txt': '2024-08-28 06:00:00'}], 'city': {'id': 3144113, 'name': 'Noresund', 'coord': {'lat': 60.1803, 'lon': 9.6231}, 'country': 'NO', 'population': 1000, 'timezone': 7200, 'sunrise': 1724385319, 'sunset': 1724439194}}\n"
     ]
    }
   ],
   "source": [
    "responseF = requests.get(urlF).json()\n",
    "print(responseF)"
   ]
  },
  {
   "cell_type": "code",
   "execution_count": 11,
   "metadata": {
    "ExecuteTime": {
     "end_time": "2024-08-17T10:19:07.510514Z",
     "start_time": "2024-08-17T10:19:07.506586Z"
    },
    "execution": {
     "iopub.execute_input": "2024-08-17T11:10:25.531372Z",
     "iopub.status.busy": "2024-08-17T11:10:25.531104Z",
     "iopub.status.idle": "2024-08-17T11:10:25.539982Z",
     "shell.execute_reply": "2024-08-17T11:10:25.539588Z"
    },
    "slideshow": {
     "slide_type": "slide"
    }
   },
   "outputs": [],
   "source": [
    "# Write JSON to file for viewing\n",
    "with open('downloads/forecast.json', 'w') as f:\n",
    "    json.dump(responseF, f, indent=4)"
   ]
  },
  {
   "cell_type": "markdown",
   "metadata": {
    "slideshow": {
     "slide_type": "slide"
    }
   },
   "source": [
    "### When and what?\n",
    "Check contents and time stamps"
   ]
  },
  {
   "cell_type": "code",
   "execution_count": 12,
   "metadata": {
    "ExecuteTime": {
     "end_time": "2024-08-17T10:19:07.514214Z",
     "start_time": "2024-08-17T10:19:07.511162Z"
    },
    "execution": {
     "iopub.execute_input": "2024-08-17T11:10:25.542077Z",
     "iopub.status.busy": "2024-08-17T11:10:25.541931Z",
     "iopub.status.idle": "2024-08-17T11:10:25.546399Z",
     "shell.execute_reply": "2024-08-17T11:10:25.546054Z"
    },
    "slideshow": {
     "slide_type": "-"
    }
   },
   "outputs": [
    {
     "data": {
      "text/plain": [
       "dict_keys(['cod', 'message', 'cnt', 'list', 'city'])"
      ]
     },
     "execution_count": 12,
     "metadata": {},
     "output_type": "execute_result"
    }
   ],
   "source": [
    "# Content of responseF\n",
    "responseF.keys()"
   ]
  },
  {
   "cell_type": "code",
   "execution_count": 13,
   "metadata": {
    "ExecuteTime": {
     "end_time": "2024-08-17T10:19:07.516813Z",
     "start_time": "2024-08-17T10:19:07.514918Z"
    },
    "execution": {
     "iopub.execute_input": "2024-08-17T11:10:25.548459Z",
     "iopub.status.busy": "2024-08-17T11:10:25.548206Z",
     "iopub.status.idle": "2024-08-17T11:10:25.550357Z",
     "shell.execute_reply": "2024-08-17T11:10:25.550017Z"
    },
    "slideshow": {
     "slide_type": "fragment"
    }
   },
   "outputs": [
    {
     "name": "stdout",
     "output_type": "stream",
     "text": [
      "40\n"
     ]
    }
   ],
   "source": [
    "# Number of forecasts\n",
    "print(len(responseF[\"list\"]))"
   ]
  },
  {
   "cell_type": "code",
   "execution_count": 14,
   "metadata": {
    "ExecuteTime": {
     "end_time": "2024-08-17T10:19:07.520443Z",
     "start_time": "2024-08-17T10:19:07.518884Z"
    },
    "execution": {
     "iopub.execute_input": "2024-08-17T11:10:25.552002Z",
     "iopub.status.busy": "2024-08-17T11:10:25.551866Z",
     "iopub.status.idle": "2024-08-17T11:10:25.553997Z",
     "shell.execute_reply": "2024-08-17T11:10:25.553697Z"
    },
    "slideshow": {
     "slide_type": "slide"
    }
   },
   "outputs": [
    {
     "name": "stdout",
     "output_type": "stream",
     "text": [
      "2024-08-23 09:00:00\n",
      "2024-08-23 12:00:00\n",
      "2024-08-23 15:00:00\n",
      "2024-08-23 18:00:00\n",
      "2024-08-23 21:00:00\n",
      "2024-08-24 00:00:00\n",
      "2024-08-24 03:00:00\n",
      "2024-08-24 06:00:00\n",
      "2024-08-24 09:00:00\n",
      "2024-08-24 12:00:00\n",
      "2024-08-24 15:00:00\n",
      "2024-08-24 18:00:00\n",
      "2024-08-24 21:00:00\n",
      "2024-08-25 00:00:00\n",
      "2024-08-25 03:00:00\n",
      "2024-08-25 06:00:00\n",
      "2024-08-25 09:00:00\n",
      "2024-08-25 12:00:00\n",
      "2024-08-25 15:00:00\n",
      "2024-08-25 18:00:00\n",
      "2024-08-25 21:00:00\n",
      "2024-08-26 00:00:00\n",
      "2024-08-26 03:00:00\n",
      "2024-08-26 06:00:00\n",
      "2024-08-26 09:00:00\n",
      "2024-08-26 12:00:00\n",
      "2024-08-26 15:00:00\n",
      "2024-08-26 18:00:00\n",
      "2024-08-26 21:00:00\n",
      "2024-08-27 00:00:00\n",
      "2024-08-27 03:00:00\n",
      "2024-08-27 06:00:00\n",
      "2024-08-27 09:00:00\n",
      "2024-08-27 12:00:00\n",
      "2024-08-27 15:00:00\n",
      "2024-08-27 18:00:00\n",
      "2024-08-27 21:00:00\n",
      "2024-08-28 00:00:00\n",
      "2024-08-28 03:00:00\n",
      "2024-08-28 06:00:00\n"
     ]
    }
   ],
   "source": [
    "# Print forecast times\n",
    "for forecast in responseF[\"list\"]:\n",
    "    print(forecast[\"dt_txt\"])"
   ]
  },
  {
   "cell_type": "markdown",
   "metadata": {
    "slideshow": {
     "slide_type": "slide"
    }
   },
   "source": [
    "## Make plots of omnipresent measurements and events\n",
    "We will later look at missing data, data only sporadically appearing and so on."
   ]
  },
  {
   "cell_type": "code",
   "execution_count": 15,
   "metadata": {
    "ExecuteTime": {
     "end_time": "2024-08-17T10:19:07.522603Z",
     "start_time": "2024-08-17T10:19:07.521029Z"
    },
    "execution": {
     "iopub.execute_input": "2024-08-17T11:10:25.555625Z",
     "iopub.status.busy": "2024-08-17T11:10:25.555523Z",
     "iopub.status.idle": "2024-08-17T11:10:25.557734Z",
     "shell.execute_reply": "2024-08-17T11:10:25.557460Z"
    },
    "slideshow": {
     "slide_type": "-"
    }
   },
   "outputs": [],
   "source": [
    "# Air pressure per period\n",
    "pressures = []\n",
    "timestamps = []\n",
    "for forecast in responseF[\"list\"]:\n",
    "    pressures.append(forecast[\"main\"][\"pressure\"])\n",
    "    timestamps.append(dt.datetime.fromtimestamp(forecast[\"dt\"]))"
   ]
  },
  {
   "cell_type": "code",
   "execution_count": 16,
   "metadata": {
    "ExecuteTime": {
     "end_time": "2024-08-17T10:19:08.124779Z",
     "start_time": "2024-08-17T10:19:07.523100Z"
    },
    "execution": {
     "iopub.execute_input": "2024-08-17T11:10:25.559671Z",
     "iopub.status.busy": "2024-08-17T11:10:25.559500Z",
     "iopub.status.idle": "2024-08-17T11:10:25.930224Z",
     "shell.execute_reply": "2024-08-17T11:10:25.929965Z"
    },
    "slideshow": {
     "slide_type": "slide"
    }
   },
   "outputs": [
    {
     "data": {
      "image/png": "[encoded data removed]",
      "text/plain": [
       "<Figure size 640x480 with 1 Axes>"
      ]
     },
     "metadata": {},
     "output_type": "display_data"
    }
   ],
   "source": [
    "import matplotlib.pyplot as plt\n",
    "plt.bar(timestamps, pressures)\n",
    "plt.xticks(rotation=45)\n",
    "plt.ylim(950, 1050)\n",
    "plt.grid()\n",
    "plt.ylabel(\"Air pressure (hPa)\")\n",
    "plt.title(f\"Forecasted air pressure in {CITY}\")\n",
    "plt.show()"
   ]
  },
  {
   "cell_type": "markdown",
   "metadata": {
    "slideshow": {
     "slide_type": "slide"
    }
   },
   "source": [
    "## Exercise\n",
    "- Make a new forecast request for your own hometown. Call your response something else than responseF.\n",
    "- If available, plot the humidity like we did with air pressure."
   ]
  },
  {
   "cell_type": "markdown",
   "metadata": {
    "slideshow": {
     "slide_type": "slide"
    }
   },
   "source": [
    "### Precipitation\n",
    "- ... comes in two main flavours: rain and snow.\n",
    "- We need to check which is present and set to zero if it is abscent."
   ]
  },
  {
   "cell_type": "code",
   "execution_count": 17,
   "metadata": {
    "ExecuteTime": {
     "end_time": "2024-08-17T10:19:08.128573Z",
     "start_time": "2024-08-17T10:19:08.125858Z"
    },
    "execution": {
     "iopub.execute_input": "2024-08-17T11:10:25.931772Z",
     "iopub.status.busy": "2024-08-17T11:10:25.931647Z",
     "iopub.status.idle": "2024-08-17T11:10:25.933559Z",
     "shell.execute_reply": "2024-08-17T11:10:25.933354Z"
    },
    "slideshow": {
     "slide_type": "-"
    }
   },
   "outputs": [],
   "source": [
    "rain = []\n",
    "snow = []\n",
    "for forecast in responseF[\"list\"]:\n",
    "    try: # Check if rain is present in forecast\n",
    "        rain.append(forecast[\"rain\"][\"3h\"])\n",
    "    except KeyError:\n",
    "        rain.append(0)\n",
    "    try: # Check if snow is present in forecast\n",
    "        snow.append(forecast[\"snow\"][\"3h\"])\n",
    "    except KeyError:\n",
    "        snow.append(0)"
   ]
  },
  {
   "cell_type": "code",
   "execution_count": 18,
   "metadata": {
    "ExecuteTime": {
     "end_time": "2024-08-17T10:19:08.223315Z",
     "start_time": "2024-08-17T10:19:08.129282Z"
    },
    "execution": {
     "iopub.execute_input": "2024-08-17T11:10:25.934695Z",
     "iopub.status.busy": "2024-08-17T11:10:25.934624Z",
     "iopub.status.idle": "2024-08-17T11:10:26.030528Z",
     "shell.execute_reply": "2024-08-17T11:10:26.030279Z"
    },
    "slideshow": {
     "slide_type": "slide"
    }
   },
   "outputs": [
    {
     "data": {
      "image/png": "[encoded data removed]",
      "text/plain": [
       "<Figure size 640x480 with 1 Axes>"
      ]
     },
     "metadata": {},
     "output_type": "display_data"
    }
   ],
   "source": [
    "# Stacked bar chart with rain and snow\n",
    "plt.bar(timestamps, rain, label=\"Rain\")\n",
    "plt.bar(timestamps, snow, label=\"Snow\")\n",
    "plt.xticks(rotation=45)\n",
    "plt.grid()\n",
    "plt.ylabel(\"Precipitation (mm)\")\n",
    "plt.title(f\"Forecasted precipitation in {CITY}\")\n",
    "plt.legend()\n",
    "plt.show()\n"
   ]
  },
  {
   "cell_type": "markdown",
   "metadata": {
    "slideshow": {
     "slide_type": "slide"
    }
   },
   "source": [
    "```{seealso} Resources\n",
    ":class: tip\n",
    "- [YouTube: NeuralNine's video (15m:32s)](https://www.youtube.com/watch?v=9P5MY_2i7K8)\n",
    "```"
   ]
  }
 ],
 "metadata": {
  "celltoolbar": "Slideshow",
  "kernelspec": {
   "display_name": "Python 3 (ipykernel)",
   "language": "python",
   "name": "python3"
  },
  "language_info": {
   "codemirror_mode": {
    "name": "ipython",
    "version": 3
   },
   "file_extension": ".py",
   "mimetype": "text/x-python",
   "name": "python",
   "nbconvert_exporter": "python",
   "pygments_lexer": "ipython3",
   "version": "3.12.4"
  }
 },
 "nbformat": 4,
 "nbformat_minor": 2
}