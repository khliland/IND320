{
 "cells": [
  {
   "cell_type": "markdown",
   "metadata": {
    "slideshow": {
     "slide_type": "slide"
    }
   },
   "source": [
    "# Demonstration of API using OpenWeatherMap.org\n",
    "This demonstration is heavily inspired by [NeuralNine's video](https://www.youtube.com/watch?v=9P5MY_2i7K8).  \n",
    "You need a free account [from here](https://openweathermap.org/api).  \n",
    "The VS Code extension _JSON viewer_ is recommended for viewing downloaded JSON content.  \n",
    "  - Set your maximum API calls to 1000 per day to make sure you are under the limit for billing. \n",
    "  - To run the examples, download your API key, save it in the right folder (see below) in a file called _api\\_key\\_OpenWeather_, containing only the key (no spaces or \"enters\")."
   ]
  },
  {
   "cell_type": "code",
   "execution_count": 1,
   "metadata": {
    "ExecuteTime": {
     "end_time": "2024-08-17T10:19:06.946392Z",
     "start_time": "2024-08-17T10:19:06.887177Z"
    },
    "slideshow": {
     "slide_type": "fragment"
    },
    "tags": []
   },
   "outputs": [],
   "source": [
    "# Imports\n",
    "import datetime as dt\n",
    "import requests\n",
    "import json"
   ]
  },
  {
   "cell_type": "markdown",
   "metadata": {
    "slideshow": {
     "slide_type": "slide"
    }
   },
   "source": [
    "## Current weather\n",
    "### Common definitions to use for all requests"
   ]
  },
  {
   "cell_type": "code",
   "execution_count": 2,
   "metadata": {
    "ExecuteTime": {
     "end_time": "2024-08-17T10:19:06.950734Z",
     "start_time": "2024-08-17T10:19:06.948129Z"
    },
    "slideshow": {
     "slide_type": "fragment"
    },
    "tags": []
   },
   "outputs": [],
   "source": [
    "BASE_URL = \"http://api.openweathermap.org/data/2.5/weather?\"\n",
    "API_KEY = open('../../../No_sync/api_key_OpenWeather','r').read()\n",
    "CITY = \"Ski\"\n",
    "\n",
    "url = BASE_URL + \"q=\" + CITY + \"&appid=\" + API_KEY"
   ]
  },
  {
   "cell_type": "markdown",
   "metadata": {
    "slideshow": {
     "slide_type": "slide"
    }
   },
   "source": [
    "## Request current weather in chosen city"
   ]
  },
  {
   "cell_type": "code",
   "execution_count": 3,
   "metadata": {
    "ExecuteTime": {
     "end_time": "2024-08-17T10:19:07.346472Z",
     "start_time": "2024-08-17T10:19:06.951363Z"
    },
    "slideshow": {
     "slide_type": "fragment"
    },
    "tags": []
   },
   "outputs": [
    {
     "name": "stdout",
     "output_type": "stream",
     "text": [
      "{'coord': {'lon': 10.8358, 'lat': 59.7195}, 'weather': [{'id': 803, 'main': 'Clouds', 'description': 'broken clouds', 'icon': '04d'}], 'base': 'stations', 'main': {'temp': 284.7, 'feels_like': 284.52, 'temp_min': 284.7, 'temp_max': 285, 'pressure': 1022, 'humidity': 100, 'sea_level': 1022, 'grnd_level': 1007}, 'visibility': 10000, 'wind': {'speed': 0.68, 'deg': 60, 'gust': 1.27}, 'clouds': {'all': 61}, 'dt': 1757316062, 'sys': {'type': 2, 'id': 2006772, 'country': 'NO', 'sunrise': 1757305731, 'sunset': 1757354411}, 'timezone': 7200, 'id': 3139081, 'name': 'Ski', 'cod': 200}\n"
     ]
    }
   ],
   "source": [
    "response = requests.get(url).json()\n",
    "print(response)"
   ]
  },
  {
   "cell_type": "code",
   "execution_count": 4,
   "metadata": {
    "ExecuteTime": {
     "end_time": "2024-08-17T10:19:07.356894Z",
     "start_time": "2024-08-17T10:19:07.353047Z"
    },
    "slideshow": {
     "slide_type": "fragment"
    },
    "tags": []
   },
   "outputs": [],
   "source": [
    "# Write JSON to file for viewing\n",
    "with open('downloads/weather.json', 'w') as f:\n",
    "    json.dump(response, f, indent=4)"
   ]
  },
  {
   "cell_type": "markdown",
   "metadata": {
    "slideshow": {
     "slide_type": "slide"
    }
   },
   "source": [
    "## Conversion functions\n",
    "Changing scales can make results more interpretable"
   ]
  },
  {
   "cell_type": "code",
   "execution_count": 5,
   "metadata": {
    "ExecuteTime": {
     "end_time": "2024-08-17T10:19:07.360029Z",
     "start_time": "2024-08-17T10:19:07.358341Z"
    },
    "slideshow": {
     "slide_type": "fragment"
    },
    "tags": []
   },
   "outputs": [],
   "source": [
    "# Kelvin to Celsius\n",
    "def kelvin_to_celsius(temp):\n",
    "    return temp - 273.15\n",
    "\n",
    "# Meters per second to knots\n",
    "def mps_to_knots(speed):\n",
    "    return speed * 1.943844"
   ]
  },
  {
   "cell_type": "markdown",
   "metadata": {
    "slideshow": {
     "slide_type": "slide"
    }
   },
   "source": [
    "## Print some weather properties"
   ]
  },
  {
   "cell_type": "code",
   "execution_count": 6,
   "metadata": {
    "ExecuteTime": {
     "end_time": "2024-08-17T10:19:07.362209Z",
     "start_time": "2024-08-17T10:19:07.360604Z"
    },
    "slideshow": {
     "slide_type": "fragment"
    },
    "tags": []
   },
   "outputs": [
    {
     "name": "stdout",
     "output_type": "stream",
     "text": [
      "The current temperature in Ski is 11.6 °C\n"
     ]
    }
   ],
   "source": [
    "# Current temperature\n",
    "temp_kelvin = response['main']['temp']\n",
    "temp_celsius = kelvin_to_celsius(temp_kelvin)\n",
    "print(f\"The current temperature in {CITY} is {temp_celsius:.1f} °C\")"
   ]
  },
  {
   "cell_type": "code",
   "execution_count": 7,
   "metadata": {
    "ExecuteTime": {
     "end_time": "2024-08-17T10:19:07.364358Z",
     "start_time": "2024-08-17T10:19:07.362759Z"
    },
    "slideshow": {
     "slide_type": "slide"
    },
    "tags": []
   },
   "outputs": [
    {
     "name": "stdout",
     "output_type": "stream",
     "text": [
      "Sunrise today is at 06:28 and sunset is at 20:00\n"
     ]
    }
   ],
   "source": [
    "# Sunrise and sunset today in local time\n",
    "sunrise = dt.datetime.fromtimestamp(response['sys']['sunrise'])\n",
    "sunset = dt.datetime.fromtimestamp(response['sys']['sunset'])\n",
    "print(f\"Sunrise today is at {sunrise:%H:%M} and sunset is at {sunset:%H:%M}\")"
   ]
  },
  {
   "cell_type": "code",
   "execution_count": 8,
   "metadata": {
    "ExecuteTime": {
     "end_time": "2024-08-17T10:19:07.367002Z",
     "start_time": "2024-08-17T10:19:07.365133Z"
    },
    "slideshow": {
     "slide_type": "fragment"
    },
    "tags": []
   },
   "outputs": [
    {
     "name": "stdout",
     "output_type": "stream",
     "text": [
      "Wind today is from 60° at 1.3 knots\n"
     ]
    }
   ],
   "source": [
    "# Wind direction and speed\n",
    "wind_knots = mps_to_knots(response['wind']['speed'])\n",
    "print(f\"Wind today is from {response['wind']['deg']}° at {round(wind_knots,1)} knots\")"
   ]
  },
  {
   "cell_type": "markdown",
   "metadata": {
    "slideshow": {
     "slide_type": "slide"
    }
   },
   "source": [
    "## Forecasted weather\n",
    "### Common definitions to use for all requests"
   ]
  },
  {
   "cell_type": "code",
   "execution_count": 9,
   "metadata": {
    "ExecuteTime": {
     "end_time": "2024-08-17T10:19:07.369150Z",
     "start_time": "2024-08-17T10:19:07.367438Z"
    },
    "slideshow": {
     "slide_type": "fragment"
    },
    "tags": []
   },
   "outputs": [],
   "source": [
    "BASE_URL = \"https://api.openweathermap.org/data/2.5/forecast?\"\n",
    "CITY = \"Mo i Rana\"\n",
    "\n",
    "urlF = BASE_URL + \"q=\" + CITY + \"&appid=\" + API_KEY"
   ]
  },
  {
   "cell_type": "markdown",
   "metadata": {
    "slideshow": {
     "slide_type": "slide"
    }
   },
   "source": [
    "## Request forecasted weather in chosen city"
   ]
  },
  {
   "cell_type": "code",
   "execution_count": 10,
   "metadata": {
    "ExecuteTime": {
     "end_time": "2024-08-17T10:19:07.505916Z",
     "start_time": "2024-08-17T10:19:07.369779Z"
    },
    "slideshow": {
     "slide_type": "fragment"
    },
    "tags": []
   },
   "outputs": [
    {
     "name": "stdout",
     "output_type": "stream",
     "text": [
      "{'cod': '200', 'message': 0, 'cnt': 40, 'list': [{'dt': 1757322000, 'main': {'temp': 287.38, 'feels_like': 287.21, 'temp_min': 287.38, 'temp_max': 291.32, 'pressure': 1022, 'sea_level': 1022, 'grnd_level': 971, 'humidity': 90, 'temp_kf': -3.94}, 'weather': [{'id': 803, 'main': 'Clouds', 'description': 'broken clouds', 'icon': '04d'}], 'clouds': {'all': 72}, 'wind': {'speed': 1.37, 'deg': 62, 'gust': 1.96}, 'visibility': 10000, 'pop': 0, 'sys': {'pod': 'd'}, 'dt_txt': '2025-09-08 09:00:00'}, {'dt': 1757332800, 'main': {'temp': 290.99, 'feels_like': 290.61, 'temp_min': 290.99, 'temp_max': 293.78, 'pressure': 1021, 'sea_level': 1021, 'grnd_level': 970, 'humidity': 68, 'temp_kf': -2.79}, 'weather': [{'id': 802, 'main': 'Clouds', 'description': 'scattered clouds', 'icon': '03d'}], 'clouds': {'all': 45}, 'wind': {'speed': 2.22, 'deg': 85, 'gust': 3.11}, 'visibility': 10000, 'pop': 0, 'sys': {'pod': 'd'}, 'dt_txt': '2025-09-08 12:00:00'}, {'dt': 1757343600, 'main': {'temp': 294.17, 'feels_like': 293.66, 'temp_min': 294.17, 'temp_max': 294.17, 'pressure': 1019, 'sea_level': 1019, 'grnd_level': 970, 'humidity': 51, 'temp_kf': 0}, 'weather': [{'id': 803, 'main': 'Clouds', 'description': 'broken clouds', 'icon': '04d'}], 'clouds': {'all': 66}, 'wind': {'speed': 2.42, 'deg': 104, 'gust': 3.25}, 'visibility': 10000, 'pop': 0, 'sys': {'pod': 'd'}, 'dt_txt': '2025-09-08 15:00:00'}, {'dt': 1757354400, 'main': {'temp': 290.51, 'feels_like': 290.08, 'temp_min': 290.51, 'temp_max': 290.51, 'pressure': 1019, 'sea_level': 1019, 'grnd_level': 970, 'humidity': 68, 'temp_kf': 0}, 'weather': [{'id': 803, 'main': 'Clouds', 'description': 'broken clouds', 'icon': '04d'}], 'clouds': {'all': 77}, 'wind': {'speed': 2.89, 'deg': 113, 'gust': 2.79}, 'visibility': 10000, 'pop': 0, 'sys': {'pod': 'd'}, 'dt_txt': '2025-09-08 18:00:00'}, {'dt': 1757365200, 'main': {'temp': 288.17, 'feels_like': 287.74, 'temp_min': 288.17, 'temp_max': 288.17, 'pressure': 1020, 'sea_level': 1020, 'grnd_level': 970, 'humidity': 77, 'temp_kf': 0}, 'weather': [{'id': 801, 'main': 'Clouds', 'description': 'few clouds', 'icon': '02n'}], 'clouds': {'all': 21}, 'wind': {'speed': 3.15, 'deg': 110, 'gust': 3.03}, 'visibility': 10000, 'pop': 0, 'sys': {'pod': 'n'}, 'dt_txt': '2025-09-08 21:00:00'}, {'dt': 1757376000, 'main': {'temp': 287.57, 'feels_like': 287.26, 'temp_min': 287.57, 'temp_max': 287.57, 'pressure': 1020, 'sea_level': 1020, 'grnd_level': 970, 'humidity': 84, 'temp_kf': 0}, 'weather': [{'id': 801, 'main': 'Clouds', 'description': 'few clouds', 'icon': '02n'}], 'clouds': {'all': 15}, 'wind': {'speed': 3.09, 'deg': 107, 'gust': 2.99}, 'visibility': 10000, 'pop': 0, 'sys': {'pod': 'n'}, 'dt_txt': '2025-09-09 00:00:00'}, {'dt': 1757386800, 'main': {'temp': 286.18, 'feels_like': 285.78, 'temp_min': 286.18, 'temp_max': 286.18, 'pressure': 1020, 'sea_level': 1020, 'grnd_level': 969, 'humidity': 86, 'temp_kf': 0}, 'weather': [{'id': 800, 'main': 'Clear', 'description': 'clear sky', 'icon': '01n'}], 'clouds': {'all': 4}, 'wind': {'speed': 2.71, 'deg': 103, 'gust': 2.66}, 'visibility': 10000, 'pop': 0, 'sys': {'pod': 'n'}, 'dt_txt': '2025-09-09 03:00:00'}, {'dt': 1757397600, 'main': {'temp': 288.07, 'feels_like': 287.73, 'temp_min': 288.07, 'temp_max': 288.07, 'pressure': 1020, 'sea_level': 1020, 'grnd_level': 970, 'humidity': 81, 'temp_kf': 0}, 'weather': [{'id': 801, 'main': 'Clouds', 'description': 'few clouds', 'icon': '02d'}], 'clouds': {'all': 17}, 'wind': {'speed': 1.98, 'deg': 91, 'gust': 2.27}, 'visibility': 10000, 'pop': 0, 'sys': {'pod': 'd'}, 'dt_txt': '2025-09-09 06:00:00'}, {'dt': 1757408400, 'main': {'temp': 292.15, 'feels_like': 291.83, 'temp_min': 292.15, 'temp_max': 292.15, 'pressure': 1020, 'sea_level': 1020, 'grnd_level': 970, 'humidity': 66, 'temp_kf': 0}, 'weather': [{'id': 800, 'main': 'Clear', 'description': 'clear sky', 'icon': '01d'}], 'clouds': {'all': 4}, 'wind': {'speed': 1.53, 'deg': 76, 'gust': 2.1}, 'visibility': 10000, 'pop': 0, 'sys': {'pod': 'd'}, 'dt_txt': '2025-09-09 09:00:00'}, {'dt': 1757419200, 'main': {'temp': 294.45, 'feels_like': 293.99, 'temp_min': 294.45, 'temp_max': 294.45, 'pressure': 1019, 'sea_level': 1019, 'grnd_level': 969, 'humidity': 52, 'temp_kf': 0}, 'weather': [{'id': 800, 'main': 'Clear', 'description': 'clear sky', 'icon': '01d'}], 'clouds': {'all': 5}, 'wind': {'speed': 0.81, 'deg': 178, 'gust': 2.25}, 'visibility': 10000, 'pop': 0, 'sys': {'pod': 'd'}, 'dt_txt': '2025-09-09 12:00:00'}, {'dt': 1757430000, 'main': {'temp': 294.76, 'feels_like': 294.26, 'temp_min': 294.76, 'temp_max': 294.76, 'pressure': 1018, 'sea_level': 1018, 'grnd_level': 969, 'humidity': 49, 'temp_kf': 0}, 'weather': [{'id': 803, 'main': 'Clouds', 'description': 'broken clouds', 'icon': '04d'}], 'clouds': {'all': 59}, 'wind': {'speed': 1.77, 'deg': 166, 'gust': 1.58}, 'visibility': 10000, 'pop': 0, 'sys': {'pod': 'd'}, 'dt_txt': '2025-09-09 15:00:00'}, {'dt': 1757440800, 'main': {'temp': 291.49, 'feels_like': 291.08, 'temp_min': 291.49, 'temp_max': 291.49, 'pressure': 1019, 'sea_level': 1019, 'grnd_level': 969, 'humidity': 65, 'temp_kf': 0}, 'weather': [{'id': 803, 'main': 'Clouds', 'description': 'broken clouds', 'icon': '04n'}], 'clouds': {'all': 82}, 'wind': {'speed': 1.18, 'deg': 267, 'gust': 0.82}, 'visibility': 10000, 'pop': 0, 'sys': {'pod': 'n'}, 'dt_txt': '2025-09-09 18:00:00'}, {'dt': 1757451600, 'main': {'temp': 288.21, 'feels_like': 287.68, 'temp_min': 288.21, 'temp_max': 288.21, 'pressure': 1020, 'sea_level': 1020, 'grnd_level': 970, 'humidity': 73, 'temp_kf': 0}, 'weather': [{'id': 804, 'main': 'Clouds', 'description': 'overcast clouds', 'icon': '04n'}], 'clouds': {'all': 94}, 'wind': {'speed': 1.86, 'deg': 115, 'gust': 1.77}, 'visibility': 10000, 'pop': 0, 'sys': {'pod': 'n'}, 'dt_txt': '2025-09-09 21:00:00'}, {'dt': 1757462400, 'main': {'temp': 288.23, 'feels_like': 287.65, 'temp_min': 288.23, 'temp_max': 288.23, 'pressure': 1020, 'sea_level': 1020, 'grnd_level': 970, 'humidity': 71, 'temp_kf': 0}, 'weather': [{'id': 804, 'main': 'Clouds', 'description': 'overcast clouds', 'icon': '04n'}], 'clouds': {'all': 86}, 'wind': {'speed': 1.66, 'deg': 62, 'gust': 1.44}, 'visibility': 10000, 'pop': 0, 'sys': {'pod': 'n'}, 'dt_txt': '2025-09-10 00:00:00'}, {'dt': 1757473200, 'main': {'temp': 289.13, 'feels_like': 288.64, 'temp_min': 289.13, 'temp_max': 289.13, 'pressure': 1019, 'sea_level': 1019, 'grnd_level': 969, 'humidity': 71, 'temp_kf': 0}, 'weather': [{'id': 804, 'main': 'Clouds', 'description': 'overcast clouds', 'icon': '04n'}], 'clouds': {'all': 92}, 'wind': {'speed': 1.95, 'deg': 75, 'gust': 1.72}, 'visibility': 10000, 'pop': 0, 'sys': {'pod': 'n'}, 'dt_txt': '2025-09-10 03:00:00'}, {'dt': 1757484000, 'main': {'temp': 289.93, 'feels_like': 289.6, 'temp_min': 289.93, 'temp_max': 289.93, 'pressure': 1019, 'sea_level': 1019, 'grnd_level': 969, 'humidity': 74, 'temp_kf': 0}, 'weather': [{'id': 804, 'main': 'Clouds', 'description': 'overcast clouds', 'icon': '04d'}], 'clouds': {'all': 85}, 'wind': {'speed': 2.32, 'deg': 89, 'gust': 2.72}, 'visibility': 10000, 'pop': 0, 'sys': {'pod': 'd'}, 'dt_txt': '2025-09-10 06:00:00'}, {'dt': 1757494800, 'main': {'temp': 293.53, 'feels_like': 293.24, 'temp_min': 293.53, 'temp_max': 293.53, 'pressure': 1018, 'sea_level': 1018, 'grnd_level': 969, 'humidity': 62, 'temp_kf': 0}, 'weather': [{'id': 800, 'main': 'Clear', 'description': 'clear sky', 'icon': '01d'}], 'clouds': {'all': 0}, 'wind': {'speed': 2, 'deg': 121, 'gust': 2.37}, 'visibility': 10000, 'pop': 0, 'sys': {'pod': 'd'}, 'dt_txt': '2025-09-10 09:00:00'}, {'dt': 1757505600, 'main': {'temp': 294.75, 'feels_like': 294.35, 'temp_min': 294.75, 'temp_max': 294.75, 'pressure': 1018, 'sea_level': 1018, 'grnd_level': 968, 'humidity': 53, 'temp_kf': 0}, 'weather': [{'id': 800, 'main': 'Clear', 'description': 'clear sky', 'icon': '01d'}], 'clouds': {'all': 0}, 'wind': {'speed': 2.09, 'deg': 127, 'gust': 3.62}, 'visibility': 10000, 'pop': 0, 'sys': {'pod': 'd'}, 'dt_txt': '2025-09-10 12:00:00'}, {'dt': 1757516400, 'main': {'temp': 295.17, 'feels_like': 294.89, 'temp_min': 295.17, 'temp_max': 295.17, 'pressure': 1017, 'sea_level': 1017, 'grnd_level': 968, 'humidity': 56, 'temp_kf': 0}, 'weather': [{'id': 802, 'main': 'Clouds', 'description': 'scattered clouds', 'icon': '03d'}], 'clouds': {'all': 27}, 'wind': {'speed': 4.31, 'deg': 148, 'gust': 5.71}, 'visibility': 10000, 'pop': 0, 'sys': {'pod': 'd'}, 'dt_txt': '2025-09-10 15:00:00'}, {'dt': 1757527200, 'main': {'temp': 290.62, 'feels_like': 290.33, 'temp_min': 290.62, 'temp_max': 290.62, 'pressure': 1018, 'sea_level': 1018, 'grnd_level': 968, 'humidity': 73, 'temp_kf': 0}, 'weather': [{'id': 802, 'main': 'Clouds', 'description': 'scattered clouds', 'icon': '03n'}], 'clouds': {'all': 30}, 'wind': {'speed': 3.41, 'deg': 79, 'gust': 2.95}, 'visibility': 10000, 'pop': 0, 'sys': {'pod': 'n'}, 'dt_txt': '2025-09-10 18:00:00'}, {'dt': 1757538000, 'main': {'temp': 288.72, 'feels_like': 288.45, 'temp_min': 288.72, 'temp_max': 288.72, 'pressure': 1018, 'sea_level': 1018, 'grnd_level': 968, 'humidity': 81, 'temp_kf': 0}, 'weather': [{'id': 801, 'main': 'Clouds', 'description': 'few clouds', 'icon': '02n'}], 'clouds': {'all': 16}, 'wind': {'speed': 3.41, 'deg': 102, 'gust': 3.38}, 'visibility': 10000, 'pop': 0, 'sys': {'pod': 'n'}, 'dt_txt': '2025-09-10 21:00:00'}, {'dt': 1757548800, 'main': {'temp': 287.66, 'feels_like': 287.41, 'temp_min': 287.66, 'temp_max': 287.66, 'pressure': 1018, 'sea_level': 1018, 'grnd_level': 967, 'humidity': 86, 'temp_kf': 0}, 'weather': [{'id': 801, 'main': 'Clouds', 'description': 'few clouds', 'icon': '02n'}], 'clouds': {'all': 11}, 'wind': {'speed': 3.71, 'deg': 94, 'gust': 3.79}, 'visibility': 10000, 'pop': 0, 'sys': {'pod': 'n'}, 'dt_txt': '2025-09-11 00:00:00'}, {'dt': 1757559600, 'main': {'temp': 286.3, 'feels_like': 286.02, 'temp_min': 286.3, 'temp_max': 286.3, 'pressure': 1017, 'sea_level': 1017, 'grnd_level': 967, 'humidity': 90, 'temp_kf': 0}, 'weather': [{'id': 800, 'main': 'Clear', 'description': 'clear sky', 'icon': '01n'}], 'clouds': {'all': 4}, 'wind': {'speed': 4.01, 'deg': 94, 'gust': 4.18}, 'visibility': 10000, 'pop': 0, 'sys': {'pod': 'n'}, 'dt_txt': '2025-09-11 03:00:00'}, {'dt': 1757570400, 'main': {'temp': 288.13, 'feels_like': 287.82, 'temp_min': 288.13, 'temp_max': 288.13, 'pressure': 1016, 'sea_level': 1016, 'grnd_level': 966, 'humidity': 82, 'temp_kf': 0}, 'weather': [{'id': 802, 'main': 'Clouds', 'description': 'scattered clouds', 'icon': '03d'}], 'clouds': {'all': 37}, 'wind': {'speed': 4.24, 'deg': 81, 'gust': 5.79}, 'visibility': 10000, 'pop': 0, 'sys': {'pod': 'd'}, 'dt_txt': '2025-09-11 06:00:00'}, {'dt': 1757581200, 'main': {'temp': 292.27, 'feels_like': 291.86, 'temp_min': 292.27, 'temp_max': 292.27, 'pressure': 1014, 'sea_level': 1014, 'grnd_level': 965, 'humidity': 62, 'temp_kf': 0}, 'weather': [{'id': 803, 'main': 'Clouds', 'description': 'broken clouds', 'icon': '04d'}], 'clouds': {'all': 78}, 'wind': {'speed': 5.5, 'deg': 84, 'gust': 8.53}, 'visibility': 10000, 'pop': 0, 'sys': {'pod': 'd'}, 'dt_txt': '2025-09-11 09:00:00'}, {'dt': 1757592000, 'main': {'temp': 290.8, 'feels_like': 290.61, 'temp_min': 290.8, 'temp_max': 290.8, 'pressure': 1013, 'sea_level': 1013, 'grnd_level': 963, 'humidity': 76, 'temp_kf': 0}, 'weather': [{'id': 500, 'main': 'Rain', 'description': 'light rain', 'icon': '10d'}], 'clouds': {'all': 89}, 'wind': {'speed': 4.82, 'deg': 72, 'gust': 7.13}, 'visibility': 10000, 'pop': 0.28, 'rain': {'3h': 0.44}, 'sys': {'pod': 'd'}, 'dt_txt': '2025-09-11 12:00:00'}, {'dt': 1757602800, 'main': {'temp': 290.15, 'feels_like': 290.05, 'temp_min': 290.15, 'temp_max': 290.15, 'pressure': 1011, 'sea_level': 1011, 'grnd_level': 961, 'humidity': 82, 'temp_kf': 0}, 'weather': [{'id': 804, 'main': 'Clouds', 'description': 'overcast clouds', 'icon': '04d'}], 'clouds': {'all': 100}, 'wind': {'speed': 2.94, 'deg': 66, 'gust': 3.5}, 'visibility': 10000, 'pop': 0, 'sys': {'pod': 'd'}, 'dt_txt': '2025-09-11 15:00:00'}, {'dt': 1757613600, 'main': {'temp': 290.75, 'feels_like': 290.73, 'temp_min': 290.75, 'temp_max': 290.75, 'pressure': 1009, 'sea_level': 1009, 'grnd_level': 959, 'humidity': 83, 'temp_kf': 0}, 'weather': [{'id': 804, 'main': 'Clouds', 'description': 'overcast clouds', 'icon': '04n'}], 'clouds': {'all': 100}, 'wind': {'speed': 3.81, 'deg': 63, 'gust': 4.49}, 'visibility': 10000, 'pop': 0, 'sys': {'pod': 'n'}, 'dt_txt': '2025-09-11 18:00:00'}, {'dt': 1757624400, 'main': {'temp': 289.96, 'feels_like': 289.97, 'temp_min': 289.96, 'temp_max': 289.96, 'pressure': 1007, 'sea_level': 1007, 'grnd_level': 957, 'humidity': 87, 'temp_kf': 0}, 'weather': [{'id': 500, 'main': 'Rain', 'description': 'light rain', 'icon': '10n'}], 'clouds': {'all': 100}, 'wind': {'speed': 4.01, 'deg': 76, 'gust': 4.62}, 'visibility': 9342, 'pop': 0.75, 'rain': {'3h': 0.53}, 'sys': {'pod': 'n'}, 'dt_txt': '2025-09-11 21:00:00'}, {'dt': 1757635200, 'main': {'temp': 290.53, 'feels_like': 290.23, 'temp_min': 290.53, 'temp_max': 290.53, 'pressure': 1003, 'sea_level': 1003, 'grnd_level': 954, 'humidity': 73, 'temp_kf': 0}, 'weather': [{'id': 500, 'main': 'Rain', 'description': 'light rain', 'icon': '10n'}], 'clouds': {'all': 100}, 'wind': {'speed': 12.62, 'deg': 110, 'gust': 23.99}, 'visibility': 10000, 'pop': 1, 'rain': {'3h': 0.95}, 'sys': {'pod': 'n'}, 'dt_txt': '2025-09-12 00:00:00'}, {'dt': 1757646000, 'main': {'temp': 289.34, 'feels_like': 289.08, 'temp_min': 289.34, 'temp_max': 289.34, 'pressure': 1001, 'sea_level': 1001, 'grnd_level': 952, 'humidity': 79, 'temp_kf': 0}, 'weather': [{'id': 500, 'main': 'Rain', 'description': 'light rain', 'icon': '10n'}], 'clouds': {'all': 100}, 'wind': {'speed': 5.01, 'deg': 94, 'gust': 10.01}, 'visibility': 10000, 'pop': 0.25, 'rain': {'3h': 0.25}, 'sys': {'pod': 'n'}, 'dt_txt': '2025-09-12 03:00:00'}, {'dt': 1757656800, 'main': {'temp': 288.36, 'feels_like': 288.23, 'temp_min': 288.36, 'temp_max': 288.36, 'pressure': 1002, 'sea_level': 1002, 'grnd_level': 953, 'humidity': 88, 'temp_kf': 0}, 'weather': [{'id': 500, 'main': 'Rain', 'description': 'light rain', 'icon': '10d'}], 'clouds': {'all': 100}, 'wind': {'speed': 2.95, 'deg': 89, 'gust': 3.86}, 'visibility': 10000, 'pop': 1, 'rain': {'3h': 0.97}, 'sys': {'pod': 'd'}, 'dt_txt': '2025-09-12 06:00:00'}, {'dt': 1757667600, 'main': {'temp': 289.43, 'feels_like': 289.33, 'temp_min': 289.43, 'temp_max': 289.43, 'pressure': 1003, 'sea_level': 1003, 'grnd_level': 954, 'humidity': 85, 'temp_kf': 0}, 'weather': [{'id': 804, 'main': 'Clouds', 'description': 'overcast clouds', 'icon': '04d'}], 'clouds': {'all': 100}, 'wind': {'speed': 2.74, 'deg': 89, 'gust': 3.2}, 'visibility': 10000, 'pop': 0, 'sys': {'pod': 'd'}, 'dt_txt': '2025-09-12 09:00:00'}, {'dt': 1757678400, 'main': {'temp': 292.98, 'feels_like': 292.66, 'temp_min': 292.98, 'temp_max': 292.98, 'pressure': 1004, 'sea_level': 1004, 'grnd_level': 955, 'humidity': 63, 'temp_kf': 0}, 'weather': [{'id': 500, 'main': 'Rain', 'description': 'light rain', 'icon': '10d'}], 'clouds': {'all': 90}, 'wind': {'speed': 3.1, 'deg': 116, 'gust': 5.31}, 'visibility': 10000, 'pop': 0.2, 'rain': {'3h': 0.25}, 'sys': {'pod': 'd'}, 'dt_txt': '2025-09-12 12:00:00'}, {'dt': 1757689200, 'main': {'temp': 292.81, 'feels_like': 292.37, 'temp_min': 292.81, 'temp_max': 292.81, 'pressure': 1004, 'sea_level': 1004, 'grnd_level': 955, 'humidity': 59, 'temp_kf': 0}, 'weather': [{'id': 500, 'main': 'Rain', 'description': 'light rain', 'icon': '10d'}], 'clouds': {'all': 91}, 'wind': {'speed': 2.64, 'deg': 141, 'gust': 5.11}, 'visibility': 10000, 'pop': 0.83, 'rain': {'3h': 0.45}, 'sys': {'pod': 'd'}, 'dt_txt': '2025-09-12 15:00:00'}, {'dt': 1757700000, 'main': {'temp': 287.72, 'feels_like': 287.32, 'temp_min': 287.72, 'temp_max': 287.72, 'pressure': 1006, 'sea_level': 1006, 'grnd_level': 957, 'humidity': 80, 'temp_kf': 0}, 'weather': [{'id': 500, 'main': 'Rain', 'description': 'light rain', 'icon': '10n'}], 'clouds': {'all': 97}, 'wind': {'speed': 2.37, 'deg': 153, 'gust': 2.12}, 'visibility': 10000, 'pop': 1, 'rain': {'3h': 1.17}, 'sys': {'pod': 'n'}, 'dt_txt': '2025-09-12 18:00:00'}, {'dt': 1757710800, 'main': {'temp': 285.3, 'feels_like': 284.82, 'temp_min': 285.3, 'temp_max': 285.3, 'pressure': 1008, 'sea_level': 1008, 'grnd_level': 958, 'humidity': 86, 'temp_kf': 0}, 'weather': [{'id': 500, 'main': 'Rain', 'description': 'light rain', 'icon': '10n'}], 'clouds': {'all': 27}, 'wind': {'speed': 2.03, 'deg': 143, 'gust': 1.91}, 'visibility': 10000, 'pop': 1, 'rain': {'3h': 0.88}, 'sys': {'pod': 'n'}, 'dt_txt': '2025-09-12 21:00:00'}, {'dt': 1757721600, 'main': {'temp': 284.68, 'feels_like': 284.11, 'temp_min': 284.68, 'temp_max': 284.68, 'pressure': 1008, 'sea_level': 1008, 'grnd_level': 958, 'humidity': 85, 'temp_kf': 0}, 'weather': [{'id': 500, 'main': 'Rain', 'description': 'light rain', 'icon': '10n'}], 'clouds': {'all': 17}, 'wind': {'speed': 2.09, 'deg': 113, 'gust': 2.06}, 'visibility': 10000, 'pop': 0.96, 'rain': {'3h': 0.13}, 'sys': {'pod': 'n'}, 'dt_txt': '2025-09-13 00:00:00'}, {'dt': 1757732400, 'main': {'temp': 284.65, 'feels_like': 284.21, 'temp_min': 284.65, 'temp_max': 284.65, 'pressure': 1008, 'sea_level': 1008, 'grnd_level': 958, 'humidity': 90, 'temp_kf': 0}, 'weather': [{'id': 500, 'main': 'Rain', 'description': 'light rain', 'icon': '10n'}], 'clouds': {'all': 96}, 'wind': {'speed': 0.37, 'deg': 241, 'gust': 0.21}, 'visibility': 10000, 'pop': 1, 'rain': {'3h': 1.38}, 'sys': {'pod': 'n'}, 'dt_txt': '2025-09-13 03:00:00'}, {'dt': 1757743200, 'main': {'temp': 285.33, 'feels_like': 284.88, 'temp_min': 285.33, 'temp_max': 285.33, 'pressure': 1009, 'sea_level': 1009, 'grnd_level': 959, 'humidity': 87, 'temp_kf': 0}, 'weather': [{'id': 500, 'main': 'Rain', 'description': 'light rain', 'icon': '10d'}], 'clouds': {'all': 95}, 'wind': {'speed': 0.66, 'deg': 162, 'gust': 0.64}, 'visibility': 10000, 'pop': 1, 'rain': {'3h': 0.48}, 'sys': {'pod': 'd'}, 'dt_txt': '2025-09-13 06:00:00'}], 'city': {'id': 3145614, 'name': 'Mo i Rana', 'coord': {'lat': 66.3128, 'lon': 14.1428}, 'country': 'NO', 'population': 17853, 'timezone': 7200, 'sunrise': 1757304041, 'sunset': 1757354515}}\n"
     ]
    }
   ],
   "source": [
    "responseF = requests.get(urlF).json()\n",
    "#print(json.dumps(responseF, indent=4))\n",
    "print(responseF)"
   ]
  },
  {
   "cell_type": "code",
   "execution_count": 11,
   "metadata": {
    "ExecuteTime": {
     "end_time": "2024-08-17T10:19:07.510514Z",
     "start_time": "2024-08-17T10:19:07.506586Z"
    },
    "slideshow": {
     "slide_type": "slide"
    },
    "tags": []
   },
   "outputs": [],
   "source": [
    "# Write JSON to file for viewing\n",
    "with open('downloads/forecast.json', 'w') as f:\n",
    "    json.dump(responseF, f, indent=4)"
   ]
  },
  {
   "cell_type": "markdown",
   "metadata": {
    "slideshow": {
     "slide_type": "slide"
    }
   },
   "source": [
    "### When and what?\n",
    "Check contents and time stamps"
   ]
  },
  {
   "cell_type": "code",
   "execution_count": 12,
   "metadata": {
    "ExecuteTime": {
     "end_time": "2024-08-17T10:19:07.514214Z",
     "start_time": "2024-08-17T10:19:07.511162Z"
    },
    "slideshow": {
     "slide_type": "fragment"
    },
    "tags": []
   },
   "outputs": [
    {
     "data": {
      "text/plain": [
       "dict_keys(['cod', 'message', 'cnt', 'list', 'city'])"
      ]
     },
     "execution_count": 12,
     "metadata": {},
     "output_type": "execute_result"
    }
   ],
   "source": [
    "# Content of responseF\n",
    "responseF.keys()"
   ]
  },
  {
   "cell_type": "code",
   "execution_count": 13,
   "metadata": {
    "ExecuteTime": {
     "end_time": "2024-08-17T10:19:07.516813Z",
     "start_time": "2024-08-17T10:19:07.514918Z"
    },
    "slideshow": {
     "slide_type": "fragment"
    },
    "tags": []
   },
   "outputs": [
    {
     "name": "stdout",
     "output_type": "stream",
     "text": [
      "40\n"
     ]
    }
   ],
   "source": [
    "# Number of forecasts\n",
    "print(len(responseF[\"list\"]))"
   ]
  },
  {
   "cell_type": "code",
   "execution_count": 14,
   "metadata": {
    "ExecuteTime": {
     "end_time": "2024-08-17T10:19:07.520443Z",
     "start_time": "2024-08-17T10:19:07.518884Z"
    },
    "slideshow": {
     "slide_type": "slide"
    },
    "tags": []
   },
   "outputs": [
    {
     "name": "stdout",
     "output_type": "stream",
     "text": [
      "2025-09-08 09:00:00\n",
      "2025-09-08 12:00:00\n",
      "2025-09-08 15:00:00\n",
      "2025-09-08 18:00:00\n",
      "2025-09-08 21:00:00\n",
      "2025-09-09 00:00:00\n",
      "2025-09-09 03:00:00\n",
      "2025-09-09 06:00:00\n",
      "2025-09-09 09:00:00\n",
      "2025-09-09 12:00:00\n",
      "2025-09-09 15:00:00\n",
      "2025-09-09 18:00:00\n",
      "2025-09-09 21:00:00\n",
      "2025-09-10 00:00:00\n",
      "2025-09-10 03:00:00\n",
      "2025-09-10 06:00:00\n",
      "2025-09-10 09:00:00\n",
      "2025-09-10 12:00:00\n",
      "2025-09-10 15:00:00\n",
      "2025-09-10 18:00:00\n",
      "2025-09-10 21:00:00\n",
      "2025-09-11 00:00:00\n",
      "2025-09-11 03:00:00\n",
      "2025-09-11 06:00:00\n",
      "2025-09-11 09:00:00\n",
      "2025-09-11 12:00:00\n",
      "2025-09-11 15:00:00\n",
      "2025-09-11 18:00:00\n",
      "2025-09-11 21:00:00\n",
      "2025-09-12 00:00:00\n",
      "2025-09-12 03:00:00\n",
      "2025-09-12 06:00:00\n",
      "2025-09-12 09:00:00\n",
      "2025-09-12 12:00:00\n",
      "2025-09-12 15:00:00\n",
      "2025-09-12 18:00:00\n",
      "2025-09-12 21:00:00\n",
      "2025-09-13 00:00:00\n",
      "2025-09-13 03:00:00\n",
      "2025-09-13 06:00:00\n"
     ]
    }
   ],
   "source": [
    "# Print forecast times\n",
    "for forecast in responseF[\"list\"]:\n",
    "    print(forecast[\"dt_txt\"])"
   ]
  },
  {
   "cell_type": "markdown",
   "metadata": {
    "slideshow": {
     "slide_type": "slide"
    }
   },
   "source": [
    "## Make plots of omnipresent measurements and events\n",
    "We will later look at missing data, data only sporadically appearing and so on."
   ]
  },
  {
   "cell_type": "code",
   "execution_count": 15,
   "metadata": {
    "ExecuteTime": {
     "end_time": "2024-08-17T10:19:07.522603Z",
     "start_time": "2024-08-17T10:19:07.521029Z"
    },
    "slideshow": {
     "slide_type": "fragment"
    },
    "tags": []
   },
   "outputs": [],
   "source": [
    "# Air pressure per period\n",
    "pressures = []\n",
    "timestamps = []\n",
    "for forecast in responseF[\"list\"]:\n",
    "    pressures.append(forecast[\"main\"][\"pressure\"])\n",
    "    timestamps.append(dt.datetime.fromtimestamp(forecast[\"dt\"]))"
   ]
  },
  {
   "cell_type": "code",
   "execution_count": 16,
   "metadata": {
    "ExecuteTime": {
     "end_time": "2024-08-17T10:19:08.124779Z",
     "start_time": "2024-08-17T10:19:07.523100Z"
    },
    "slideshow": {
     "slide_type": "slide"
    },
    "tags": []
   },
   "outputs": [
    {
     "data": {
      "image/png": "[encoded data removed]",
      "text/plain": [
       "<Figure size 640x480 with 1 Axes>"
      ]
     },
     "metadata": {},
     "output_type": "display_data"
    }
   ],
   "source": [
    "import matplotlib.pyplot as plt\n",
    "plt.bar(timestamps, pressures)\n",
    "plt.xticks(rotation=45)\n",
    "plt.ylim(980, 1050)\n",
    "plt.grid()\n",
    "plt.ylabel(\"Air pressure (hPa)\")\n",
    "plt.title(f\"Forecasted air pressure in {CITY}\")\n",
    "plt.show()"
   ]
  },
  {
   "cell_type": "markdown",
   "metadata": {
    "slideshow": {
     "slide_type": "slide"
    }
   },
   "source": [
    "## Exercise\n",
    "- Make a new forecast request for your own hometown. Call your response something else than responseF.\n",
    "- If available, plot the humidity like we did with air pressure."
   ]
  },
  {
   "cell_type": "markdown",
   "metadata": {
    "slideshow": {
     "slide_type": "slide"
    }
   },
   "source": [
    "### Precipitation\n",
    "- ... comes in two main flavours: rain and snow.\n",
    "- We need to check which is present and set to zero if it is abscent."
   ]
  },
  {
   "cell_type": "code",
   "execution_count": 17,
   "metadata": {
    "ExecuteTime": {
     "end_time": "2024-08-17T10:19:08.128573Z",
     "start_time": "2024-08-17T10:19:08.125858Z"
    },
    "slideshow": {
     "slide_type": "fragment"
    },
    "tags": []
   },
   "outputs": [],
   "source": [
    "rain = []\n",
    "snow = []\n",
    "for forecast in responseF[\"list\"]:\n",
    "    try: # Check if rain is present in forecast\n",
    "        rain.append(forecast[\"rain\"][\"3h\"])\n",
    "    except KeyError:\n",
    "        rain.append(0)\n",
    "    try: # Check if snow is present in forecast\n",
    "        snow.append(forecast[\"snow\"][\"3h\"])\n",
    "    except KeyError:\n",
    "        snow.append(0)"
   ]
  },
  {
   "cell_type": "code",
   "execution_count": 18,
   "metadata": {
    "ExecuteTime": {
     "end_time": "2024-08-17T10:19:08.223315Z",
     "start_time": "2024-08-17T10:19:08.129282Z"
    },
    "slideshow": {
     "slide_type": "slide"
    },
    "tags": []
   },
   "outputs": [
    {
     "data": {
      "image/png": "[encoded data removed]",
      "text/plain": [
       "<Figure size 640x480 with 1 Axes>"
      ]
     },
     "metadata": {},
     "output_type": "display_data"
    }
   ],
   "source": [
    "# Stacked bar chart with rain and snow\n",
    "plt.bar(timestamps, rain, label=\"Rain\")\n",
    "plt.bar(timestamps, snow, label=\"Snow\")\n",
    "plt.xticks(rotation=45)\n",
    "plt.grid()\n",
    "plt.ylabel(\"Precipitation (mm)\")\n",
    "plt.title(f\"Forecasted precipitation in {CITY}\")\n",
    "plt.legend()\n",
    "plt.show()\n"
   ]
  },
  {
   "cell_type": "markdown",
   "metadata": {
    "slideshow": {
     "slide_type": "slide"
    }
   },
   "source": [
    "```{seealso} \n",
    ":class: tip\n",
    "\n",
    "## Resources\n",
    "- [YouTube: NeuralNine's video (15m:32s)](https://www.youtube.com/watch?v=9P5MY_2i7K8)\n",
    "```"
   ]
  }
 ],
 "metadata": {
  "celltoolbar": "Slideshow",
  "kernelspec": {
   "display_name": "Python 3 (ipykernel)",
   "language": "python",
   "name": "python3"
  },
  "language_info": {
   "codemirror_mode": {
    "name": "ipython",
    "version": 3
   },
   "file_extension": ".py",
   "mimetype": "text/x-python",
   "name": "python",
   "nbconvert_exporter": "python",
   "pygments_lexer": "ipython3",
   "version": "3.12.10"
  }
 },
 "nbformat": 4,
 "nbformat_minor": 4
}