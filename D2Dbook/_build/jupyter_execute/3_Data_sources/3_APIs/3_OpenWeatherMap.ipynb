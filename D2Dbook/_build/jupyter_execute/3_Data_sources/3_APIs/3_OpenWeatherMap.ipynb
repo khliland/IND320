{
 "cells": [
  {
   "cell_type": "markdown",
   "metadata": {
    "slideshow": {
     "slide_type": "slide"
    }
   },
   "source": [
    "# Demonstration of API using OpenWeatherMap.org\n",
    "This demonstration is heavily inspired by [NeuralNine's video](https://www.youtube.com/watch?v=9P5MY_2i7K8).  \n",
    "You need a free account [from here](https://openweathermap.org/api).  \n",
    "The VS Code extension _JSON viewer_ is recommended for viewing downloaded JSON content.  \n",
    "  - Set your maximum API calls to 1000 per day to make sure you are under the limit for billing. \n",
    "  - To run the examples, download your API key, save it in the right folder (see below) in a file called _api\\_key\\_OpenWeather_, containing only the key (no spaces or \"enters\")."
   ]
  },
  {
   "cell_type": "code",
   "execution_count": 1,
   "metadata": {
    "ExecuteTime": {
     "end_time": "2024-08-17T10:19:06.946392Z",
     "start_time": "2024-08-17T10:19:06.887177Z"
    },
    "slideshow": {
     "slide_type": "fragment"
    },
    "tags": []
   },
   "outputs": [],
   "source": [
    "# Imports\n",
    "import datetime as dt\n",
    "import requests\n",
    "import json"
   ]
  },
  {
   "cell_type": "markdown",
   "metadata": {
    "slideshow": {
     "slide_type": "slide"
    }
   },
   "source": [
    "## Current weather\n",
    "### Common definitions to use for all requests"
   ]
  },
  {
   "cell_type": "code",
   "execution_count": 2,
   "metadata": {
    "ExecuteTime": {
     "end_time": "2024-08-17T10:19:06.950734Z",
     "start_time": "2024-08-17T10:19:06.948129Z"
    },
    "slideshow": {
     "slide_type": "fragment"
    },
    "tags": []
   },
   "outputs": [],
   "source": [
    "BASE_URL = \"http://api.openweathermap.org/data/2.5/weather?\"\n",
    "API_KEY = open('../../../No_sync/api_key_OpenWeather','r').read()\n",
    "CITY = \"Ski\"\n",
    "\n",
    "url = BASE_URL + \"q=\" + CITY + \"&appid=\" + API_KEY"
   ]
  },
  {
   "cell_type": "markdown",
   "metadata": {
    "slideshow": {
     "slide_type": "slide"
    }
   },
   "source": [
    "## Request current weather in chosen city"
   ]
  },
  {
   "cell_type": "code",
   "execution_count": 3,
   "metadata": {
    "ExecuteTime": {
     "end_time": "2024-08-17T10:19:07.346472Z",
     "start_time": "2024-08-17T10:19:06.951363Z"
    },
    "slideshow": {
     "slide_type": "fragment"
    },
    "tags": []
   },
   "outputs": [
    {
     "name": "stdout",
     "output_type": "stream",
     "text": [
      "{'coord': {'lon': 10.8358, 'lat': 59.7195}, 'weather': [{'id': 804, 'main': 'Clouds', 'description': 'overcast clouds', 'icon': '04d'}], 'base': 'stations', 'main': {'temp': 289.71, 'feels_like': 288.7, 'temp_min': 289.7, 'temp_max': 291.11, 'pressure': 1009, 'humidity': 49, 'sea_level': 1009, 'grnd_level': 993}, 'visibility': 10000, 'wind': {'speed': 2.64, 'deg': 13, 'gust': 3.9}, 'clouds': {'all': 98}, 'dt': 1755780435, 'sys': {'type': 2, 'id': 2006772, 'country': 'NO', 'sunrise': 1755748008, 'sunset': 1755802390}, 'timezone': 7200, 'id': 3139081, 'name': 'Ski', 'cod': 200}\n"
     ]
    }
   ],
   "source": [
    "response = requests.get(url).json()\n",
    "print(response)"
   ]
  },
  {
   "cell_type": "code",
   "execution_count": 4,
   "metadata": {
    "ExecuteTime": {
     "end_time": "2024-08-17T10:19:07.356894Z",
     "start_time": "2024-08-17T10:19:07.353047Z"
    },
    "slideshow": {
     "slide_type": "fragment"
    },
    "tags": []
   },
   "outputs": [],
   "source": [
    "# Write JSON to file for viewing\n",
    "with open('downloads/weather.json', 'w') as f:\n",
    "    json.dump(response, f, indent=4)"
   ]
  },
  {
   "cell_type": "markdown",
   "metadata": {
    "slideshow": {
     "slide_type": "slide"
    }
   },
   "source": [
    "## Conversion functions\n",
    "Changing scales can make results more interpretable"
   ]
  },
  {
   "cell_type": "code",
   "execution_count": 5,
   "metadata": {
    "ExecuteTime": {
     "end_time": "2024-08-17T10:19:07.360029Z",
     "start_time": "2024-08-17T10:19:07.358341Z"
    },
    "slideshow": {
     "slide_type": "fragment"
    },
    "tags": []
   },
   "outputs": [],
   "source": [
    "# Kelvin to Celsius\n",
    "def kelvin_to_celsius(temp):\n",
    "    return temp - 273.15\n",
    "\n",
    "# Meters per second to knots\n",
    "def mps_to_knots(speed):\n",
    "    return speed * 1.943844"
   ]
  },
  {
   "cell_type": "markdown",
   "metadata": {
    "slideshow": {
     "slide_type": "slide"
    }
   },
   "source": [
    "## Print some weather properties"
   ]
  },
  {
   "cell_type": "code",
   "execution_count": 6,
   "metadata": {
    "ExecuteTime": {
     "end_time": "2024-08-17T10:19:07.362209Z",
     "start_time": "2024-08-17T10:19:07.360604Z"
    },
    "slideshow": {
     "slide_type": "fragment"
    },
    "tags": []
   },
   "outputs": [
    {
     "name": "stdout",
     "output_type": "stream",
     "text": [
      "The current temperature in Ski is 16.6 °C\n"
     ]
    }
   ],
   "source": [
    "# Current temperature\n",
    "temp_kelvin = response['main']['temp']\n",
    "temp_celsius = kelvin_to_celsius(temp_kelvin)\n",
    "print(f\"The current temperature in {CITY} is {temp_celsius:.1f} °C\")"
   ]
  },
  {
   "cell_type": "code",
   "execution_count": 7,
   "metadata": {
    "ExecuteTime": {
     "end_time": "2024-08-17T10:19:07.364358Z",
     "start_time": "2024-08-17T10:19:07.362759Z"
    },
    "slideshow": {
     "slide_type": "slide"
    },
    "tags": []
   },
   "outputs": [
    {
     "name": "stdout",
     "output_type": "stream",
     "text": [
      "Sunrise today is at 05:46 and sunset is at 20:53\n"
     ]
    }
   ],
   "source": [
    "# Sunrise and sunset today in local time\n",
    "sunrise = dt.datetime.fromtimestamp(response['sys']['sunrise'])\n",
    "sunset = dt.datetime.fromtimestamp(response['sys']['sunset'])\n",
    "print(f\"Sunrise today is at {sunrise:%H:%M} and sunset is at {sunset:%H:%M}\")"
   ]
  },
  {
   "cell_type": "code",
   "execution_count": 8,
   "metadata": {
    "ExecuteTime": {
     "end_time": "2024-08-17T10:19:07.367002Z",
     "start_time": "2024-08-17T10:19:07.365133Z"
    },
    "slideshow": {
     "slide_type": "fragment"
    },
    "tags": []
   },
   "outputs": [
    {
     "name": "stdout",
     "output_type": "stream",
     "text": [
      "Wind today is from 13° at 5.1 knots\n"
     ]
    }
   ],
   "source": [
    "# Wind direction and speed\n",
    "wind_knots = mps_to_knots(response['wind']['speed'])\n",
    "print(f\"Wind today is from {response['wind']['deg']}° at {round(wind_knots,1)} knots\")"
   ]
  },
  {
   "cell_type": "markdown",
   "metadata": {
    "slideshow": {
     "slide_type": "slide"
    }
   },
   "source": [
    "## Forecasted weather\n",
    "### Common definitions to use for all requests"
   ]
  },
  {
   "cell_type": "code",
   "execution_count": 9,
   "metadata": {
    "ExecuteTime": {
     "end_time": "2024-08-17T10:19:07.369150Z",
     "start_time": "2024-08-17T10:19:07.367438Z"
    },
    "slideshow": {
     "slide_type": "fragment"
    },
    "tags": []
   },
   "outputs": [],
   "source": [
    "BASE_URL = \"https://api.openweathermap.org/data/2.5/forecast?\"\n",
    "CITY = \"Mo i Rana\"\n",
    "\n",
    "urlF = BASE_URL + \"q=\" + CITY + \"&appid=\" + API_KEY"
   ]
  },
  {
   "cell_type": "markdown",
   "metadata": {
    "slideshow": {
     "slide_type": "slide"
    }
   },
   "source": [
    "## Request forecasted weather in chosen city"
   ]
  },
  {
   "cell_type": "code",
   "execution_count": 10,
   "metadata": {
    "ExecuteTime": {
     "end_time": "2024-08-17T10:19:07.505916Z",
     "start_time": "2024-08-17T10:19:07.369779Z"
    },
    "slideshow": {
     "slide_type": "fragment"
    },
    "tags": []
   },
   "outputs": [
    {
     "name": "stdout",
     "output_type": "stream",
     "text": [
      "{'cod': '200', 'message': 0, 'cnt': 40, 'list': [{'dt': 1755788400, 'main': {'temp': 281.94, 'feels_like': 281.94, 'temp_min': 281.45, 'temp_max': 281.94, 'pressure': 1005, 'sea_level': 1005, 'grnd_level': 954, 'humidity': 91, 'temp_kf': 0.49}, 'weather': [{'id': 500, 'main': 'Rain', 'description': 'light rain', 'icon': '10d'}], 'clouds': {'all': 83}, 'wind': {'speed': 1.17, 'deg': 241, 'gust': 3.2}, 'visibility': 1142, 'pop': 1, 'rain': {'3h': 1.59}, 'sys': {'pod': 'd'}, 'dt_txt': '2025-08-21 15:00:00'}, {'dt': 1755799200, 'main': {'temp': 281.49, 'feels_like': 281.49, 'temp_min': 281.14, 'temp_max': 281.49, 'pressure': 1005, 'sea_level': 1005, 'grnd_level': 954, 'humidity': 91, 'temp_kf': 0.35}, 'weather': [{'id': 500, 'main': 'Rain', 'description': 'light rain', 'icon': '10d'}], 'clouds': {'all': 92}, 'wind': {'speed': 0.79, 'deg': 241, 'gust': 1.34}, 'visibility': 10000, 'pop': 1, 'rain': {'3h': 0.29}, 'sys': {'pod': 'd'}, 'dt_txt': '2025-08-21 18:00:00'}, {'dt': 1755810000, 'main': {'temp': 280.94, 'feels_like': 280.94, 'temp_min': 280.94, 'temp_max': 280.94, 'pressure': 1005, 'sea_level': 1005, 'grnd_level': 954, 'humidity': 90, 'temp_kf': 0}, 'weather': [{'id': 500, 'main': 'Rain', 'description': 'light rain', 'icon': '10n'}], 'clouds': {'all': 99}, 'wind': {'speed': 0.57, 'deg': 273, 'gust': 0.73}, 'visibility': 10000, 'pop': 0.69, 'rain': {'3h': 0.35}, 'sys': {'pod': 'n'}, 'dt_txt': '2025-08-21 21:00:00'}, {'dt': 1755820800, 'main': {'temp': 279.19, 'feels_like': 279.19, 'temp_min': 279.19, 'temp_max': 279.19, 'pressure': 1006, 'sea_level': 1006, 'grnd_level': 955, 'humidity': 90, 'temp_kf': 0}, 'weather': [{'id': 804, 'main': 'Clouds', 'description': 'overcast clouds', 'icon': '04n'}], 'clouds': {'all': 98}, 'wind': {'speed': 0.53, 'deg': 13, 'gust': 0.37}, 'visibility': 10000, 'pop': 0, 'sys': {'pod': 'n'}, 'dt_txt': '2025-08-22 00:00:00'}, {'dt': 1755831600, 'main': {'temp': 279.36, 'feels_like': 279.36, 'temp_min': 279.36, 'temp_max': 279.36, 'pressure': 1006, 'sea_level': 1006, 'grnd_level': 955, 'humidity': 90, 'temp_kf': 0}, 'weather': [{'id': 803, 'main': 'Clouds', 'description': 'broken clouds', 'icon': '04n'}], 'clouds': {'all': 61}, 'wind': {'speed': 1.07, 'deg': 344, 'gust': 1.17}, 'visibility': 10000, 'pop': 0, 'sys': {'pod': 'n'}, 'dt_txt': '2025-08-22 03:00:00'}, {'dt': 1755842400, 'main': {'temp': 280.74, 'feels_like': 280.74, 'temp_min': 280.74, 'temp_max': 280.74, 'pressure': 1006, 'sea_level': 1006, 'grnd_level': 955, 'humidity': 83, 'temp_kf': 0}, 'weather': [{'id': 802, 'main': 'Clouds', 'description': 'scattered clouds', 'icon': '03d'}], 'clouds': {'all': 37}, 'wind': {'speed': 0.65, 'deg': 23, 'gust': 0.63}, 'visibility': 10000, 'pop': 0, 'sys': {'pod': 'd'}, 'dt_txt': '2025-08-22 06:00:00'}, {'dt': 1755853200, 'main': {'temp': 283.41, 'feels_like': 282.14, 'temp_min': 283.41, 'temp_max': 283.41, 'pressure': 1007, 'sea_level': 1007, 'grnd_level': 956, 'humidity': 63, 'temp_kf': 0}, 'weather': [{'id': 800, 'main': 'Clear', 'description': 'clear sky', 'icon': '01d'}], 'clouds': {'all': 1}, 'wind': {'speed': 1.19, 'deg': 328, 'gust': 1.57}, 'visibility': 10000, 'pop': 0, 'sys': {'pod': 'd'}, 'dt_txt': '2025-08-22 09:00:00'}, {'dt': 1755864000, 'main': {'temp': 284.79, 'feels_like': 283.5, 'temp_min': 284.79, 'temp_max': 284.79, 'pressure': 1007, 'sea_level': 1007, 'grnd_level': 956, 'humidity': 57, 'temp_kf': 0}, 'weather': [{'id': 802, 'main': 'Clouds', 'description': 'scattered clouds', 'icon': '03d'}], 'clouds': {'all': 31}, 'wind': {'speed': 1.62, 'deg': 294, 'gust': 1.93}, 'visibility': 10000, 'pop': 0, 'sys': {'pod': 'd'}, 'dt_txt': '2025-08-22 12:00:00'}, {'dt': 1755874800, 'main': {'temp': 285.71, 'feels_like': 284.48, 'temp_min': 285.71, 'temp_max': 285.71, 'pressure': 1007, 'sea_level': 1007, 'grnd_level': 957, 'humidity': 56, 'temp_kf': 0}, 'weather': [{'id': 804, 'main': 'Clouds', 'description': 'overcast clouds', 'icon': '04d'}], 'clouds': {'all': 95}, 'wind': {'speed': 2.96, 'deg': 280, 'gust': 3.21}, 'visibility': 10000, 'pop': 0, 'sys': {'pod': 'd'}, 'dt_txt': '2025-08-22 15:00:00'}, {'dt': 1755885600, 'main': {'temp': 283.18, 'feels_like': 282.2, 'temp_min': 283.18, 'temp_max': 283.18, 'pressure': 1008, 'sea_level': 1008, 'grnd_level': 957, 'humidity': 75, 'temp_kf': 0}, 'weather': [{'id': 804, 'main': 'Clouds', 'description': 'overcast clouds', 'icon': '04d'}], 'clouds': {'all': 97}, 'wind': {'speed': 2.82, 'deg': 254, 'gust': 3.41}, 'visibility': 10000, 'pop': 0, 'sys': {'pod': 'd'}, 'dt_txt': '2025-08-22 18:00:00'}, {'dt': 1755896400, 'main': {'temp': 282.2, 'feels_like': 281.45, 'temp_min': 282.2, 'temp_max': 282.2, 'pressure': 1008, 'sea_level': 1008, 'grnd_level': 957, 'humidity': 86, 'temp_kf': 0}, 'weather': [{'id': 500, 'main': 'Rain', 'description': 'light rain', 'icon': '10n'}], 'clouds': {'all': 100}, 'wind': {'speed': 1.76, 'deg': 242, 'gust': 3.47}, 'visibility': 10000, 'pop': 0.3, 'rain': {'3h': 0.2}, 'sys': {'pod': 'n'}, 'dt_txt': '2025-08-22 21:00:00'}, {'dt': 1755907200, 'main': {'temp': 282.14, 'feels_like': 281.46, 'temp_min': 282.14, 'temp_max': 282.14, 'pressure': 1007, 'sea_level': 1007, 'grnd_level': 956, 'humidity': 93, 'temp_kf': 0}, 'weather': [{'id': 500, 'main': 'Rain', 'description': 'light rain', 'icon': '10n'}], 'clouds': {'all': 100}, 'wind': {'speed': 1.68, 'deg': 221, 'gust': 2.26}, 'visibility': 10000, 'pop': 0.82, 'rain': {'3h': 0.49}, 'sys': {'pod': 'n'}, 'dt_txt': '2025-08-23 00:00:00'}, {'dt': 1755918000, 'main': {'temp': 282.5, 'feels_like': 281.72, 'temp_min': 282.5, 'temp_max': 282.5, 'pressure': 1006, 'sea_level': 1006, 'grnd_level': 955, 'humidity': 96, 'temp_kf': 0}, 'weather': [{'id': 500, 'main': 'Rain', 'description': 'light rain', 'icon': '10n'}], 'clouds': {'all': 100}, 'wind': {'speed': 1.84, 'deg': 218, 'gust': 2.43}, 'visibility': 9803, 'pop': 1, 'rain': {'3h': 0.77}, 'sys': {'pod': 'n'}, 'dt_txt': '2025-08-23 03:00:00'}, {'dt': 1755928800, 'main': {'temp': 283.88, 'feels_like': 283.57, 'temp_min': 283.88, 'temp_max': 283.88, 'pressure': 1005, 'sea_level': 1005, 'grnd_level': 955, 'humidity': 98, 'temp_kf': 0}, 'weather': [{'id': 500, 'main': 'Rain', 'description': 'light rain', 'icon': '10d'}], 'clouds': {'all': 100}, 'wind': {'speed': 2.44, 'deg': 239, 'gust': 3.76}, 'visibility': 540, 'pop': 1, 'rain': {'3h': 1.98}, 'sys': {'pod': 'd'}, 'dt_txt': '2025-08-23 06:00:00'}, {'dt': 1755939600, 'main': {'temp': 285.8, 'feels_like': 285.26, 'temp_min': 285.8, 'temp_max': 285.8, 'pressure': 1006, 'sea_level': 1006, 'grnd_level': 956, 'humidity': 82, 'temp_kf': 0}, 'weather': [{'id': 500, 'main': 'Rain', 'description': 'light rain', 'icon': '10d'}], 'clouds': {'all': 100}, 'wind': {'speed': 4.21, 'deg': 272, 'gust': 5.2}, 'visibility': 10000, 'pop': 1, 'rain': {'3h': 1.59}, 'sys': {'pod': 'd'}, 'dt_txt': '2025-08-23 09:00:00'}, {'dt': 1755950400, 'main': {'temp': 283.77, 'feels_like': 283.26, 'temp_min': 283.77, 'temp_max': 283.77, 'pressure': 1007, 'sea_level': 1007, 'grnd_level': 956, 'humidity': 91, 'temp_kf': 0}, 'weather': [{'id': 500, 'main': 'Rain', 'description': 'light rain', 'icon': '10d'}], 'clouds': {'all': 100}, 'wind': {'speed': 3.38, 'deg': 245, 'gust': 4.68}, 'visibility': 10000, 'pop': 1, 'rain': {'3h': 1.07}, 'sys': {'pod': 'd'}, 'dt_txt': '2025-08-23 12:00:00'}, {'dt': 1755961200, 'main': {'temp': 284.14, 'feels_like': 283.78, 'temp_min': 284.14, 'temp_max': 284.14, 'pressure': 1006, 'sea_level': 1006, 'grnd_level': 956, 'humidity': 95, 'temp_kf': 0}, 'weather': [{'id': 500, 'main': 'Rain', 'description': 'light rain', 'icon': '10d'}], 'clouds': {'all': 100}, 'wind': {'speed': 2.38, 'deg': 237, 'gust': 3.71}, 'visibility': 5655, 'pop': 1, 'rain': {'3h': 2.16}, 'sys': {'pod': 'd'}, 'dt_txt': '2025-08-23 15:00:00'}, {'dt': 1755972000, 'main': {'temp': 284.07, 'feels_like': 283.7, 'temp_min': 284.07, 'temp_max': 284.07, 'pressure': 1006, 'sea_level': 1006, 'grnd_level': 956, 'humidity': 95, 'temp_kf': 0}, 'weather': [{'id': 500, 'main': 'Rain', 'description': 'light rain', 'icon': '10d'}], 'clouds': {'all': 100}, 'wind': {'speed': 2.42, 'deg': 240, 'gust': 3.46}, 'visibility': 9344, 'pop': 1, 'rain': {'3h': 2.08}, 'sys': {'pod': 'd'}, 'dt_txt': '2025-08-23 18:00:00'}, {'dt': 1755982800, 'main': {'temp': 283.75, 'feels_like': 283.4, 'temp_min': 283.75, 'temp_max': 283.75, 'pressure': 1006, 'sea_level': 1006, 'grnd_level': 956, 'humidity': 97, 'temp_kf': 0}, 'weather': [{'id': 500, 'main': 'Rain', 'description': 'light rain', 'icon': '10n'}], 'clouds': {'all': 100}, 'wind': {'speed': 2.54, 'deg': 246, 'gust': 4.27}, 'visibility': 5050, 'pop': 1, 'rain': {'3h': 2.7}, 'sys': {'pod': 'n'}, 'dt_txt': '2025-08-23 21:00:00'}, {'dt': 1755993600, 'main': {'temp': 281.95, 'feels_like': 280.5, 'temp_min': 281.95, 'temp_max': 281.95, 'pressure': 1006, 'sea_level': 1006, 'grnd_level': 956, 'humidity': 93, 'temp_kf': 0}, 'weather': [{'id': 500, 'main': 'Rain', 'description': 'light rain', 'icon': '10n'}], 'clouds': {'all': 89}, 'wind': {'speed': 2.58, 'deg': 268, 'gust': 2.25}, 'visibility': 10000, 'pop': 1, 'rain': {'3h': 1.4}, 'sys': {'pod': 'n'}, 'dt_txt': '2025-08-24 00:00:00'}, {'dt': 1756004400, 'main': {'temp': 282.79, 'feels_like': 281.59, 'temp_min': 282.79, 'temp_max': 282.79, 'pressure': 1007, 'sea_level': 1007, 'grnd_level': 957, 'humidity': 86, 'temp_kf': 0}, 'weather': [{'id': 500, 'main': 'Rain', 'description': 'light rain', 'icon': '10n'}], 'clouds': {'all': 54}, 'wind': {'speed': 2.44, 'deg': 276, 'gust': 2.43}, 'visibility': 10000, 'pop': 0.21, 'rain': {'3h': 0.16}, 'sys': {'pod': 'n'}, 'dt_txt': '2025-08-24 03:00:00'}, {'dt': 1756015200, 'main': {'temp': 282.75, 'feels_like': 281.22, 'temp_min': 282.75, 'temp_max': 282.75, 'pressure': 1008, 'sea_level': 1008, 'grnd_level': 957, 'humidity': 91, 'temp_kf': 0}, 'weather': [{'id': 500, 'main': 'Rain', 'description': 'light rain', 'icon': '10d'}], 'clouds': {'all': 77}, 'wind': {'speed': 2.93, 'deg': 256, 'gust': 3.98}, 'visibility': 10000, 'pop': 0.2, 'rain': {'3h': 0.19}, 'sys': {'pod': 'd'}, 'dt_txt': '2025-08-24 06:00:00'}, {'dt': 1756026000, 'main': {'temp': 285.17, 'feels_like': 284.36, 'temp_min': 285.17, 'temp_max': 285.17, 'pressure': 1008, 'sea_level': 1008, 'grnd_level': 958, 'humidity': 74, 'temp_kf': 0}, 'weather': [{'id': 500, 'main': 'Rain', 'description': 'light rain', 'icon': '10d'}], 'clouds': {'all': 93}, 'wind': {'speed': 2.74, 'deg': 294, 'gust': 4.14}, 'visibility': 10000, 'pop': 1, 'rain': {'3h': 0.47}, 'sys': {'pod': 'd'}, 'dt_txt': '2025-08-24 09:00:00'}, {'dt': 1756036800, 'main': {'temp': 286.83, 'feels_like': 286.06, 'temp_min': 286.83, 'temp_max': 286.83, 'pressure': 1008, 'sea_level': 1008, 'grnd_level': 958, 'humidity': 69, 'temp_kf': 0}, 'weather': [{'id': 500, 'main': 'Rain', 'description': 'light rain', 'icon': '10d'}], 'clouds': {'all': 67}, 'wind': {'speed': 2.75, 'deg': 298, 'gust': 3.24}, 'visibility': 10000, 'pop': 1, 'rain': {'3h': 0.76}, 'sys': {'pod': 'd'}, 'dt_txt': '2025-08-24 12:00:00'}, {'dt': 1756047600, 'main': {'temp': 287.47, 'feels_like': 286.47, 'temp_min': 287.47, 'temp_max': 287.47, 'pressure': 1009, 'sea_level': 1009, 'grnd_level': 959, 'humidity': 58, 'temp_kf': 0}, 'weather': [{'id': 500, 'main': 'Rain', 'description': 'light rain', 'icon': '10d'}], 'clouds': {'all': 38}, 'wind': {'speed': 3.09, 'deg': 293, 'gust': 4.02}, 'visibility': 10000, 'pop': 0.61, 'rain': {'3h': 0.39}, 'sys': {'pod': 'd'}, 'dt_txt': '2025-08-24 15:00:00'}, {'dt': 1756058400, 'main': {'temp': 284.9, 'feels_like': 284.06, 'temp_min': 284.9, 'temp_max': 284.9, 'pressure': 1010, 'sea_level': 1010, 'grnd_level': 960, 'humidity': 74, 'temp_kf': 0}, 'weather': [{'id': 802, 'main': 'Clouds', 'description': 'scattered clouds', 'icon': '03d'}], 'clouds': {'all': 49}, 'wind': {'speed': 2.47, 'deg': 290, 'gust': 2.4}, 'visibility': 10000, 'pop': 0, 'sys': {'pod': 'd'}, 'dt_txt': '2025-08-24 18:00:00'}, {'dt': 1756069200, 'main': {'temp': 281.34, 'feels_like': 280.42, 'temp_min': 281.34, 'temp_max': 281.34, 'pressure': 1012, 'sea_level': 1012, 'grnd_level': 961, 'humidity': 89, 'temp_kf': 0}, 'weather': [{'id': 802, 'main': 'Clouds', 'description': 'scattered clouds', 'icon': '03n'}], 'clouds': {'all': 45}, 'wind': {'speed': 1.8, 'deg': 271, 'gust': 1.88}, 'visibility': 10000, 'pop': 0, 'sys': {'pod': 'n'}, 'dt_txt': '2025-08-24 21:00:00'}, {'dt': 1756080000, 'main': {'temp': 281.24, 'feels_like': 280.59, 'temp_min': 281.24, 'temp_max': 281.24, 'pressure': 1012, 'sea_level': 1012, 'grnd_level': 961, 'humidity': 95, 'temp_kf': 0}, 'weather': [{'id': 803, 'main': 'Clouds', 'description': 'broken clouds', 'icon': '04n'}], 'clouds': {'all': 73}, 'wind': {'speed': 1.53, 'deg': 258, 'gust': 1.52}, 'visibility': 10000, 'pop': 0, 'sys': {'pod': 'n'}, 'dt_txt': '2025-08-25 00:00:00'}, {'dt': 1756090800, 'main': {'temp': 281.77, 'feels_like': 281.07, 'temp_min': 281.77, 'temp_max': 281.77, 'pressure': 1012, 'sea_level': 1012, 'grnd_level': 961, 'humidity': 93, 'temp_kf': 0}, 'weather': [{'id': 500, 'main': 'Rain', 'description': 'light rain', 'icon': '10n'}], 'clouds': {'all': 100}, 'wind': {'speed': 1.65, 'deg': 273, 'gust': 1.53}, 'visibility': 10000, 'pop': 0.9, 'rain': {'3h': 0.42}, 'sys': {'pod': 'n'}, 'dt_txt': '2025-08-25 03:00:00'}, {'dt': 1756101600, 'main': {'temp': 283.43, 'feels_like': 282.81, 'temp_min': 283.43, 'temp_max': 283.43, 'pressure': 1012, 'sea_level': 1012, 'grnd_level': 961, 'humidity': 88, 'temp_kf': 0}, 'weather': [{'id': 500, 'main': 'Rain', 'description': 'light rain', 'icon': '10d'}], 'clouds': {'all': 100}, 'wind': {'speed': 2.71, 'deg': 250, 'gust': 3.52}, 'visibility': 10000, 'pop': 0.74, 'rain': {'3h': 0.27}, 'sys': {'pod': 'd'}, 'dt_txt': '2025-08-25 06:00:00'}, {'dt': 1756112400, 'main': {'temp': 283.39, 'feels_like': 282.82, 'temp_min': 283.39, 'temp_max': 283.39, 'pressure': 1013, 'sea_level': 1013, 'grnd_level': 962, 'humidity': 90, 'temp_kf': 0}, 'weather': [{'id': 500, 'main': 'Rain', 'description': 'light rain', 'icon': '10d'}], 'clouds': {'all': 100}, 'wind': {'speed': 1.97, 'deg': 276, 'gust': 3.09}, 'visibility': 10000, 'pop': 1, 'rain': {'3h': 0.74}, 'sys': {'pod': 'd'}, 'dt_txt': '2025-08-25 09:00:00'}, {'dt': 1756123200, 'main': {'temp': 283.68, 'feels_like': 283.06, 'temp_min': 283.68, 'temp_max': 283.68, 'pressure': 1013, 'sea_level': 1013, 'grnd_level': 962, 'humidity': 87, 'temp_kf': 0}, 'weather': [{'id': 500, 'main': 'Rain', 'description': 'light rain', 'icon': '10d'}], 'clouds': {'all': 100}, 'wind': {'speed': 0.78, 'deg': 314, 'gust': 1.28}, 'visibility': 10000, 'pop': 1, 'rain': {'3h': 0.73}, 'sys': {'pod': 'd'}, 'dt_txt': '2025-08-25 12:00:00'}, {'dt': 1756134000, 'main': {'temp': 284.45, 'feels_like': 283.75, 'temp_min': 284.45, 'temp_max': 284.45, 'pressure': 1013, 'sea_level': 1013, 'grnd_level': 962, 'humidity': 81, 'temp_kf': 0}, 'weather': [{'id': 500, 'main': 'Rain', 'description': 'light rain', 'icon': '10d'}], 'clouds': {'all': 100}, 'wind': {'speed': 1.19, 'deg': 320, 'gust': 1.92}, 'visibility': 10000, 'pop': 1, 'rain': {'3h': 0.6}, 'sys': {'pod': 'd'}, 'dt_txt': '2025-08-25 15:00:00'}, {'dt': 1756144800, 'main': {'temp': 283.74, 'feels_like': 283.05, 'temp_min': 283.74, 'temp_max': 283.74, 'pressure': 1013, 'sea_level': 1013, 'grnd_level': 963, 'humidity': 84, 'temp_kf': 0}, 'weather': [{'id': 500, 'main': 'Rain', 'description': 'light rain', 'icon': '10d'}], 'clouds': {'all': 98}, 'wind': {'speed': 1.14, 'deg': 14, 'gust': 0.93}, 'visibility': 10000, 'pop': 1, 'rain': {'3h': 0.32}, 'sys': {'pod': 'd'}, 'dt_txt': '2025-08-25 18:00:00'}, {'dt': 1756155600, 'main': {'temp': 283.1, 'feels_like': 283.1, 'temp_min': 283.1, 'temp_max': 283.1, 'pressure': 1014, 'sea_level': 1014, 'grnd_level': 963, 'humidity': 86, 'temp_kf': 0}, 'weather': [{'id': 500, 'main': 'Rain', 'description': 'light rain', 'icon': '10n'}], 'clouds': {'all': 88}, 'wind': {'speed': 0.17, 'deg': 170, 'gust': 0.24}, 'visibility': 10000, 'pop': 0.2, 'rain': {'3h': 0.12}, 'sys': {'pod': 'n'}, 'dt_txt': '2025-08-25 21:00:00'}, {'dt': 1756166400, 'main': {'temp': 282.19, 'feels_like': 282.19, 'temp_min': 282.19, 'temp_max': 282.19, 'pressure': 1014, 'sea_level': 1014, 'grnd_level': 963, 'humidity': 88, 'temp_kf': 0}, 'weather': [{'id': 804, 'main': 'Clouds', 'description': 'overcast clouds', 'icon': '04n'}], 'clouds': {'all': 90}, 'wind': {'speed': 0.23, 'deg': 315, 'gust': 0.2}, 'visibility': 10000, 'pop': 0, 'sys': {'pod': 'n'}, 'dt_txt': '2025-08-26 00:00:00'}, {'dt': 1756177200, 'main': {'temp': 279.06, 'feels_like': 279.06, 'temp_min': 279.06, 'temp_max': 279.06, 'pressure': 1014, 'sea_level': 1014, 'grnd_level': 963, 'humidity': 93, 'temp_kf': 0}, 'weather': [{'id': 801, 'main': 'Clouds', 'description': 'few clouds', 'icon': '02n'}], 'clouds': {'all': 22}, 'wind': {'speed': 0.46, 'deg': 268, 'gust': 0.67}, 'visibility': 10000, 'pop': 0, 'sys': {'pod': 'n'}, 'dt_txt': '2025-08-26 03:00:00'}, {'dt': 1756188000, 'main': {'temp': 283.17, 'feels_like': 282.42, 'temp_min': 283.17, 'temp_max': 283.17, 'pressure': 1014, 'sea_level': 1014, 'grnd_level': 963, 'humidity': 84, 'temp_kf': 0}, 'weather': [{'id': 802, 'main': 'Clouds', 'description': 'scattered clouds', 'icon': '03d'}], 'clouds': {'all': 30}, 'wind': {'speed': 0.59, 'deg': 260, 'gust': 0.86}, 'visibility': 10000, 'pop': 0, 'sys': {'pod': 'd'}, 'dt_txt': '2025-08-26 06:00:00'}, {'dt': 1756198800, 'main': {'temp': 285.53, 'feels_like': 284.65, 'temp_min': 285.53, 'temp_max': 285.53, 'pressure': 1013, 'sea_level': 1013, 'grnd_level': 963, 'humidity': 70, 'temp_kf': 0}, 'weather': [{'id': 803, 'main': 'Clouds', 'description': 'broken clouds', 'icon': '04d'}], 'clouds': {'all': 60}, 'wind': {'speed': 1.38, 'deg': 265, 'gust': 1.5}, 'visibility': 10000, 'pop': 0, 'sys': {'pod': 'd'}, 'dt_txt': '2025-08-26 09:00:00'}, {'dt': 1756209600, 'main': {'temp': 286.03, 'feels_like': 285.18, 'temp_min': 286.03, 'temp_max': 286.03, 'pressure': 1012, 'sea_level': 1012, 'grnd_level': 962, 'humidity': 69, 'temp_kf': 0}, 'weather': [{'id': 500, 'main': 'Rain', 'description': 'light rain', 'icon': '10d'}], 'clouds': {'all': 75}, 'wind': {'speed': 1.47, 'deg': 308, 'gust': 1.79}, 'visibility': 10000, 'pop': 0.2, 'rain': {'3h': 0.3}, 'sys': {'pod': 'd'}, 'dt_txt': '2025-08-26 12:00:00'}], 'city': {'id': 3145614, 'name': 'Mo i Rana', 'coord': {'lat': 66.3128, 'lon': 14.1428}, 'country': 'NO', 'population': 17853, 'timezone': 7200, 'sunrise': 1755745217, 'sunset': 1755803594}}\n"
     ]
    }
   ],
   "source": [
    "responseF = requests.get(urlF).json()\n",
    "#print(json.dumps(responseF, indent=4))\n",
    "print(responseF)"
   ]
  },
  {
   "cell_type": "code",
   "execution_count": 11,
   "metadata": {
    "ExecuteTime": {
     "end_time": "2024-08-17T10:19:07.510514Z",
     "start_time": "2024-08-17T10:19:07.506586Z"
    },
    "slideshow": {
     "slide_type": "slide"
    },
    "tags": []
   },
   "outputs": [],
   "source": [
    "# Write JSON to file for viewing\n",
    "with open('downloads/forecast.json', 'w') as f:\n",
    "    json.dump(responseF, f, indent=4)"
   ]
  },
  {
   "cell_type": "markdown",
   "metadata": {
    "slideshow": {
     "slide_type": "slide"
    }
   },
   "source": [
    "### When and what?\n",
    "Check contents and time stamps"
   ]
  },
  {
   "cell_type": "code",
   "execution_count": 12,
   "metadata": {
    "ExecuteTime": {
     "end_time": "2024-08-17T10:19:07.514214Z",
     "start_time": "2024-08-17T10:19:07.511162Z"
    },
    "slideshow": {
     "slide_type": "fragment"
    },
    "tags": []
   },
   "outputs": [
    {
     "data": {
      "text/plain": [
       "dict_keys(['cod', 'message', 'cnt', 'list', 'city'])"
      ]
     },
     "execution_count": 12,
     "metadata": {},
     "output_type": "execute_result"
    }
   ],
   "source": [
    "# Content of responseF\n",
    "responseF.keys()"
   ]
  },
  {
   "cell_type": "code",
   "execution_count": 13,
   "metadata": {
    "ExecuteTime": {
     "end_time": "2024-08-17T10:19:07.516813Z",
     "start_time": "2024-08-17T10:19:07.514918Z"
    },
    "slideshow": {
     "slide_type": "fragment"
    },
    "tags": []
   },
   "outputs": [
    {
     "name": "stdout",
     "output_type": "stream",
     "text": [
      "40\n"
     ]
    }
   ],
   "source": [
    "# Number of forecasts\n",
    "print(len(responseF[\"list\"]))"
   ]
  },
  {
   "cell_type": "code",
   "execution_count": 14,
   "metadata": {
    "ExecuteTime": {
     "end_time": "2024-08-17T10:19:07.520443Z",
     "start_time": "2024-08-17T10:19:07.518884Z"
    },
    "slideshow": {
     "slide_type": "slide"
    },
    "tags": []
   },
   "outputs": [
    {
     "name": "stdout",
     "output_type": "stream",
     "text": [
      "2025-08-21 15:00:00\n",
      "2025-08-21 18:00:00\n",
      "2025-08-21 21:00:00\n",
      "2025-08-22 00:00:00\n",
      "2025-08-22 03:00:00\n",
      "2025-08-22 06:00:00\n",
      "2025-08-22 09:00:00\n",
      "2025-08-22 12:00:00\n",
      "2025-08-22 15:00:00\n",
      "2025-08-22 18:00:00\n",
      "2025-08-22 21:00:00\n",
      "2025-08-23 00:00:00\n",
      "2025-08-23 03:00:00\n",
      "2025-08-23 06:00:00\n",
      "2025-08-23 09:00:00\n",
      "2025-08-23 12:00:00\n",
      "2025-08-23 15:00:00\n",
      "2025-08-23 18:00:00\n",
      "2025-08-23 21:00:00\n",
      "2025-08-24 00:00:00\n",
      "2025-08-24 03:00:00\n",
      "2025-08-24 06:00:00\n",
      "2025-08-24 09:00:00\n",
      "2025-08-24 12:00:00\n",
      "2025-08-24 15:00:00\n",
      "2025-08-24 18:00:00\n",
      "2025-08-24 21:00:00\n",
      "2025-08-25 00:00:00\n",
      "2025-08-25 03:00:00\n",
      "2025-08-25 06:00:00\n",
      "2025-08-25 09:00:00\n",
      "2025-08-25 12:00:00\n",
      "2025-08-25 15:00:00\n",
      "2025-08-25 18:00:00\n",
      "2025-08-25 21:00:00\n",
      "2025-08-26 00:00:00\n",
      "2025-08-26 03:00:00\n",
      "2025-08-26 06:00:00\n",
      "2025-08-26 09:00:00\n",
      "2025-08-26 12:00:00\n"
     ]
    }
   ],
   "source": [
    "# Print forecast times\n",
    "for forecast in responseF[\"list\"]:\n",
    "    print(forecast[\"dt_txt\"])"
   ]
  },
  {
   "cell_type": "markdown",
   "metadata": {
    "slideshow": {
     "slide_type": "slide"
    }
   },
   "source": [
    "## Make plots of omnipresent measurements and events\n",
    "We will later look at missing data, data only sporadically appearing and so on."
   ]
  },
  {
   "cell_type": "code",
   "execution_count": 15,
   "metadata": {
    "ExecuteTime": {
     "end_time": "2024-08-17T10:19:07.522603Z",
     "start_time": "2024-08-17T10:19:07.521029Z"
    },
    "slideshow": {
     "slide_type": "fragment"
    },
    "tags": []
   },
   "outputs": [],
   "source": [
    "# Air pressure per period\n",
    "pressures = []\n",
    "timestamps = []\n",
    "for forecast in responseF[\"list\"]:\n",
    "    pressures.append(forecast[\"main\"][\"pressure\"])\n",
    "    timestamps.append(dt.datetime.fromtimestamp(forecast[\"dt\"]))"
   ]
  },
  {
   "cell_type": "code",
   "execution_count": 16,
   "metadata": {
    "ExecuteTime": {
     "end_time": "2024-08-17T10:19:08.124779Z",
     "start_time": "2024-08-17T10:19:07.523100Z"
    },
    "slideshow": {
     "slide_type": "slide"
    },
    "tags": []
   },
   "outputs": [
    {
     "data": {
      "image/png": "[encoded data removed]",
      "text/plain": [
       "<Figure size 640x480 with 1 Axes>"
      ]
     },
     "metadata": {},
     "output_type": "display_data"
    }
   ],
   "source": [
    "import matplotlib.pyplot as plt\n",
    "plt.bar(timestamps, pressures)\n",
    "plt.xticks(rotation=45)\n",
    "plt.ylim(980, 1050)\n",
    "plt.grid()\n",
    "plt.ylabel(\"Air pressure (hPa)\")\n",
    "plt.title(f\"Forecasted air pressure in {CITY}\")\n",
    "plt.show()"
   ]
  },
  {
   "cell_type": "markdown",
   "metadata": {
    "slideshow": {
     "slide_type": "slide"
    }
   },
   "source": [
    "## Exercise\n",
    "- Make a new forecast request for your own hometown. Call your response something else than responseF.\n",
    "- If available, plot the humidity like we did with air pressure."
   ]
  },
  {
   "cell_type": "markdown",
   "metadata": {
    "slideshow": {
     "slide_type": "slide"
    }
   },
   "source": [
    "### Precipitation\n",
    "- ... comes in two main flavours: rain and snow.\n",
    "- We need to check which is present and set to zero if it is abscent."
   ]
  },
  {
   "cell_type": "code",
   "execution_count": 17,
   "metadata": {
    "ExecuteTime": {
     "end_time": "2024-08-17T10:19:08.128573Z",
     "start_time": "2024-08-17T10:19:08.125858Z"
    },
    "slideshow": {
     "slide_type": "fragment"
    },
    "tags": []
   },
   "outputs": [],
   "source": [
    "rain = []\n",
    "snow = []\n",
    "for forecast in responseF[\"list\"]:\n",
    "    try: # Check if rain is present in forecast\n",
    "        rain.append(forecast[\"rain\"][\"3h\"])\n",
    "    except KeyError:\n",
    "        rain.append(0)\n",
    "    try: # Check if snow is present in forecast\n",
    "        snow.append(forecast[\"snow\"][\"3h\"])\n",
    "    except KeyError:\n",
    "        snow.append(0)"
   ]
  },
  {
   "cell_type": "code",
   "execution_count": 18,
   "metadata": {
    "ExecuteTime": {
     "end_time": "2024-08-17T10:19:08.223315Z",
     "start_time": "2024-08-17T10:19:08.129282Z"
    },
    "slideshow": {
     "slide_type": "slide"
    },
    "tags": []
   },
   "outputs": [
    {
     "data": {
      "image/png": "[encoded data removed]",
      "text/plain": [
       "<Figure size 640x480 with 1 Axes>"
      ]
     },
     "metadata": {},
     "output_type": "display_data"
    }
   ],
   "source": [
    "# Stacked bar chart with rain and snow\n",
    "plt.bar(timestamps, rain, label=\"Rain\")\n",
    "plt.bar(timestamps, snow, label=\"Snow\")\n",
    "plt.xticks(rotation=45)\n",
    "plt.grid()\n",
    "plt.ylabel(\"Precipitation (mm)\")\n",
    "plt.title(f\"Forecasted precipitation in {CITY}\")\n",
    "plt.legend()\n",
    "plt.show()\n"
   ]
  },
  {
   "cell_type": "markdown",
   "metadata": {
    "slideshow": {
     "slide_type": "slide"
    }
   },
   "source": [
    "```{seealso} \n",
    ":class: tip\n",
    "\n",
    "## Resources\n",
    "- [YouTube: NeuralNine's video (15m:32s)](https://www.youtube.com/watch?v=9P5MY_2i7K8)\n",
    "```"
   ]
  }
 ],
 "metadata": {
  "celltoolbar": "Slideshow",
  "kernelspec": {
   "display_name": "Python 3 (ipykernel)",
   "language": "python",
   "name": "python3"
  },
  "language_info": {
   "codemirror_mode": {
    "name": "ipython",
    "version": 3
   },
   "file_extension": ".py",
   "mimetype": "text/x-python",
   "name": "python",
   "nbconvert_exporter": "python",
   "pygments_lexer": "ipython3",
   "version": "3.12.10"
  }
 },
 "nbformat": 4,
 "nbformat_minor": 4
}