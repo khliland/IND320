{
 "cells": [
  {
   "cell_type": "markdown",
   "metadata": {
    "slideshow": {
     "slide_type": "slide"
    }
   },
   "source": [
    "# Demonstration of API using OpenWeatherMap.org\n",
    "This demonstration is heavily inspired by [NeuralNine's video](https://www.youtube.com/watch?v=9P5MY_2i7K8).  \n",
    "You need a free account [from here](https://openweathermap.org/api).  \n",
    "The VS Code extension _JSON viewer_ is recommended for viewing downloaded JSON content.  \n",
    "  - Set your maximum API calls to 1000 per day to make sure you are under the limit for billing. \n",
    "  - To run the examples, download your API key, save it in the right folder (see below) in a file called _api\\_key\\_OpenWeather_, containing only the key (no spaces or \"enters\")."
   ]
  },
  {
   "cell_type": "code",
   "execution_count": 1,
   "metadata": {
    "ExecuteTime": {
     "end_time": "2024-08-17T10:19:06.946392Z",
     "start_time": "2024-08-17T10:19:06.887177Z"
    },
    "execution": {
     "iopub.execute_input": "2024-08-17T11:10:24.663699Z",
     "iopub.status.busy": "2024-08-17T11:10:24.663447Z",
     "iopub.status.idle": "2024-08-17T11:10:24.723696Z",
     "shell.execute_reply": "2024-08-17T11:10:24.723397Z"
    },
    "slideshow": {
     "slide_type": "fragment"
    }
   },
   "outputs": [],
   "source": [
    "# Imports\n",
    "import datetime as dt\n",
    "import requests\n",
    "import json"
   ]
  },
  {
   "cell_type": "markdown",
   "metadata": {
    "slideshow": {
     "slide_type": "slide"
    }
   },
   "source": [
    "## Current weather\n",
    "### Common definitions to use for all requests"
   ]
  },
  {
   "cell_type": "code",
   "execution_count": 2,
   "metadata": {
    "ExecuteTime": {
     "end_time": "2024-08-17T10:19:06.950734Z",
     "start_time": "2024-08-17T10:19:06.948129Z"
    },
    "execution": {
     "iopub.execute_input": "2024-08-17T11:10:24.725650Z",
     "iopub.status.busy": "2024-08-17T11:10:24.725525Z",
     "iopub.status.idle": "2024-08-17T11:10:24.727589Z",
     "shell.execute_reply": "2024-08-17T11:10:24.727371Z"
    },
    "slideshow": {
     "slide_type": "-"
    }
   },
   "outputs": [],
   "source": [
    "BASE_URL = \"http://api.openweathermap.org/data/2.5/weather?\"\n",
    "API_KEY = open('../../../No_sync/api_key_OpenWeather','r').read()\n",
    "CITY = \"Ski\"\n",
    "\n",
    "url = BASE_URL + \"q=\" + CITY + \"&appid=\" + API_KEY"
   ]
  },
  {
   "cell_type": "markdown",
   "metadata": {
    "slideshow": {
     "slide_type": "slide"
    }
   },
   "source": [
    "## Request current weather in chosen city"
   ]
  },
  {
   "cell_type": "code",
   "execution_count": 3,
   "metadata": {
    "ExecuteTime": {
     "end_time": "2024-08-17T10:19:07.346472Z",
     "start_time": "2024-08-17T10:19:06.951363Z"
    },
    "execution": {
     "iopub.execute_input": "2024-08-17T11:10:24.728855Z",
     "iopub.status.busy": "2024-08-17T11:10:24.728771Z",
     "iopub.status.idle": "2024-08-17T11:10:25.161921Z",
     "shell.execute_reply": "2024-08-17T11:10:25.161501Z"
    },
    "slideshow": {
     "slide_type": "fragment"
    }
   },
   "outputs": [
    {
     "name": "stdout",
     "output_type": "stream",
     "text": [
      "{'coord': {'lon': 10.8358, 'lat': 59.7195}, 'weather': [{'id': 802, 'main': 'Clouds', 'description': 'scattered clouds', 'icon': '03d'}], 'base': 'stations', 'main': {'temp': 292.17, 'feels_like': 291.8, 'temp_min': 290.53, 'temp_max': 292.8, 'pressure': 1006, 'humidity': 64, 'sea_level': 1006, 'grnd_level': 990}, 'visibility': 10000, 'wind': {'speed': 4.11, 'deg': 242, 'gust': 6.22}, 'clouds': {'all': 31}, 'dt': 1723893025, 'sys': {'type': 2, 'id': 2006772, 'country': 'NO', 'sunrise': 1723865875, 'sunset': 1723921423}, 'timezone': 7200, 'id': 3139081, 'name': 'Ski', 'cod': 200}\n"
     ]
    }
   ],
   "source": [
    "response = requests.get(url).json()\n",
    "print(response)"
   ]
  },
  {
   "cell_type": "code",
   "execution_count": 4,
   "metadata": {
    "ExecuteTime": {
     "end_time": "2024-08-17T10:19:07.356894Z",
     "start_time": "2024-08-17T10:19:07.353047Z"
    },
    "execution": {
     "iopub.execute_input": "2024-08-17T11:10:25.200397Z",
     "iopub.status.busy": "2024-08-17T11:10:25.200119Z",
     "iopub.status.idle": "2024-08-17T11:10:25.202823Z",
     "shell.execute_reply": "2024-08-17T11:10:25.202533Z"
    },
    "slideshow": {
     "slide_type": "fragment"
    }
   },
   "outputs": [],
   "source": [
    "# Write JSON to file for viewing\n",
    "with open('downloads/weather.json', 'w') as f:\n",
    "    json.dump(response, f, indent=4)"
   ]
  },
  {
   "cell_type": "markdown",
   "metadata": {
    "slideshow": {
     "slide_type": "slide"
    }
   },
   "source": [
    "## Conversion functions\n",
    "Changing scales can make results more interpretable"
   ]
  },
  {
   "cell_type": "code",
   "execution_count": 5,
   "metadata": {
    "ExecuteTime": {
     "end_time": "2024-08-17T10:19:07.360029Z",
     "start_time": "2024-08-17T10:19:07.358341Z"
    },
    "execution": {
     "iopub.execute_input": "2024-08-17T11:10:25.204315Z",
     "iopub.status.busy": "2024-08-17T11:10:25.204202Z",
     "iopub.status.idle": "2024-08-17T11:10:25.206008Z",
     "shell.execute_reply": "2024-08-17T11:10:25.205755Z"
    },
    "slideshow": {
     "slide_type": "-"
    }
   },
   "outputs": [],
   "source": [
    "# Kelvin to Celsius\n",
    "def kelvin_to_celsius(temp):\n",
    "    return temp - 273.15\n",
    "\n",
    "# Meters per second to knots\n",
    "def mps_to_knots(speed):\n",
    "    return speed * 1.943844"
   ]
  },
  {
   "cell_type": "markdown",
   "metadata": {
    "slideshow": {
     "slide_type": "slide"
    }
   },
   "source": [
    "## Print some weather properties"
   ]
  },
  {
   "cell_type": "code",
   "execution_count": 6,
   "metadata": {
    "ExecuteTime": {
     "end_time": "2024-08-17T10:19:07.362209Z",
     "start_time": "2024-08-17T10:19:07.360604Z"
    },
    "execution": {
     "iopub.execute_input": "2024-08-17T11:10:25.207688Z",
     "iopub.status.busy": "2024-08-17T11:10:25.207575Z",
     "iopub.status.idle": "2024-08-17T11:10:25.210669Z",
     "shell.execute_reply": "2024-08-17T11:10:25.209844Z"
    },
    "slideshow": {
     "slide_type": "-"
    }
   },
   "outputs": [
    {
     "name": "stdout",
     "output_type": "stream",
     "text": [
      "The current temperature in Ski is 19.0°C\n"
     ]
    }
   ],
   "source": [
    "# Current temperature\n",
    "temp_kelvin = response['main']['temp']\n",
    "temp_celsius = kelvin_to_celsius(temp_kelvin)\n",
    "print(f\"The current temperature in {CITY} is {temp_celsius:.1f}°C\")"
   ]
  },
  {
   "cell_type": "code",
   "execution_count": 7,
   "metadata": {
    "ExecuteTime": {
     "end_time": "2024-08-17T10:19:07.364358Z",
     "start_time": "2024-08-17T10:19:07.362759Z"
    },
    "execution": {
     "iopub.execute_input": "2024-08-17T11:10:25.212687Z",
     "iopub.status.busy": "2024-08-17T11:10:25.212585Z",
     "iopub.status.idle": "2024-08-17T11:10:25.215092Z",
     "shell.execute_reply": "2024-08-17T11:10:25.214660Z"
    },
    "slideshow": {
     "slide_type": "slide"
    }
   },
   "outputs": [
    {
     "name": "stdout",
     "output_type": "stream",
     "text": [
      "Sunrise today is at 05:37 and sunset is at 21:03\n"
     ]
    }
   ],
   "source": [
    "# Sunrise and sunset today in local time\n",
    "sunrise = dt.datetime.fromtimestamp(response['sys']['sunrise'])\n",
    "sunset = dt.datetime.fromtimestamp(response['sys']['sunset'])\n",
    "print(f\"Sunrise today is at {sunrise:%H:%M} and sunset is at {sunset:%H:%M}\")"
   ]
  },
  {
   "cell_type": "code",
   "execution_count": 8,
   "metadata": {
    "ExecuteTime": {
     "end_time": "2024-08-17T10:19:07.367002Z",
     "start_time": "2024-08-17T10:19:07.365133Z"
    },
    "execution": {
     "iopub.execute_input": "2024-08-17T11:10:25.216596Z",
     "iopub.status.busy": "2024-08-17T11:10:25.216507Z",
     "iopub.status.idle": "2024-08-17T11:10:25.218313Z",
     "shell.execute_reply": "2024-08-17T11:10:25.218028Z"
    },
    "slideshow": {
     "slide_type": "fragment"
    }
   },
   "outputs": [
    {
     "name": "stdout",
     "output_type": "stream",
     "text": [
      "Wind today is from 242° at 8.0 knots\n"
     ]
    }
   ],
   "source": [
    "# Wind direction and speed\n",
    "wind_knots = mps_to_knots(response['wind']['speed'])\n",
    "print(f\"Wind today is from {response['wind']['deg']}° at {round(wind_knots,1)} knots\")"
   ]
  },
  {
   "cell_type": "markdown",
   "metadata": {
    "slideshow": {
     "slide_type": "slide"
    }
   },
   "source": [
    "## Forecasted weather\n",
    "### Common definitions to use for all requests"
   ]
  },
  {
   "cell_type": "code",
   "execution_count": 9,
   "metadata": {
    "ExecuteTime": {
     "end_time": "2024-08-17T10:19:07.369150Z",
     "start_time": "2024-08-17T10:19:07.367438Z"
    },
    "execution": {
     "iopub.execute_input": "2024-08-17T11:10:25.219716Z",
     "iopub.status.busy": "2024-08-17T11:10:25.219645Z",
     "iopub.status.idle": "2024-08-17T11:10:25.221342Z",
     "shell.execute_reply": "2024-08-17T11:10:25.221042Z"
    },
    "slideshow": {
     "slide_type": "-"
    }
   },
   "outputs": [],
   "source": [
    "BASE_URL = \"http://api.openweathermap.org/data/2.5/forecast?\"\n",
    "CITY = \"Noresund\"\n",
    "\n",
    "urlF = BASE_URL + \"q=\" + CITY + \"&appid=\" + API_KEY"
   ]
  },
  {
   "cell_type": "markdown",
   "metadata": {
    "slideshow": {
     "slide_type": "slide"
    }
   },
   "source": [
    "## Request forecasted weather in chosen city"
   ]
  },
  {
   "cell_type": "code",
   "execution_count": 10,
   "metadata": {
    "ExecuteTime": {
     "end_time": "2024-08-17T10:19:07.505916Z",
     "start_time": "2024-08-17T10:19:07.369779Z"
    },
    "execution": {
     "iopub.execute_input": "2024-08-17T11:10:25.222724Z",
     "iopub.status.busy": "2024-08-17T11:10:25.222655Z",
     "iopub.status.idle": "2024-08-17T11:10:25.527518Z",
     "shell.execute_reply": "2024-08-17T11:10:25.526927Z"
    },
    "slideshow": {
     "slide_type": "-"
    }
   },
   "outputs": [
    {
     "name": "stdout",
     "output_type": "stream",
     "text": [
      "{'cod': '200', 'message': 0, 'cnt': 40, 'list': [{'dt': 1723896000, 'main': {'temp': 289.87, 'feels_like': 289.5, 'temp_min': 289.87, 'temp_max': 291.68, 'pressure': 1005, 'sea_level': 1005, 'grnd_level': 950, 'humidity': 73, 'temp_kf': -1.81}, 'weather': [{'id': 803, 'main': 'Clouds', 'description': 'broken clouds', 'icon': '04d'}], 'clouds': {'all': 66}, 'wind': {'speed': 3.81, 'deg': 242, 'gust': 6.15}, 'visibility': 10000, 'pop': 0, 'sys': {'pod': 'd'}, 'dt_txt': '2024-08-17 12:00:00'}, {'dt': 1723906800, 'main': {'temp': 290.86, 'feels_like': 290.36, 'temp_min': 290.86, 'temp_max': 292.84, 'pressure': 1005, 'sea_level': 1005, 'grnd_level': 949, 'humidity': 64, 'temp_kf': -1.98}, 'weather': [{'id': 803, 'main': 'Clouds', 'description': 'broken clouds', 'icon': '04d'}], 'clouds': {'all': 74}, 'wind': {'speed': 3.8, 'deg': 237, 'gust': 6.19}, 'visibility': 10000, 'pop': 0, 'sys': {'pod': 'd'}, 'dt_txt': '2024-08-17 15:00:00'}, {'dt': 1723917600, 'main': {'temp': 289.38, 'feels_like': 288.78, 'temp_min': 289.14, 'temp_max': 289.38, 'pressure': 1005, 'sea_level': 1005, 'grnd_level': 949, 'humidity': 66, 'temp_kf': 0.24}, 'weather': [{'id': 803, 'main': 'Clouds', 'description': 'broken clouds', 'icon': '04d'}], 'clouds': {'all': 57}, 'wind': {'speed': 1.44, 'deg': 227, 'gust': 1.13}, 'visibility': 10000, 'pop': 0, 'sys': {'pod': 'd'}, 'dt_txt': '2024-08-17 18:00:00'}, {'dt': 1723928400, 'main': {'temp': 284.72, 'feels_like': 283.89, 'temp_min': 284.72, 'temp_max': 284.72, 'pressure': 1006, 'sea_level': 1006, 'grnd_level': 950, 'humidity': 75, 'temp_kf': 0}, 'weather': [{'id': 801, 'main': 'Clouds', 'description': 'few clouds', 'icon': '02n'}], 'clouds': {'all': 12}, 'wind': {'speed': 1.94, 'deg': 285, 'gust': 1.58}, 'visibility': 10000, 'pop': 0, 'sys': {'pod': 'n'}, 'dt_txt': '2024-08-17 21:00:00'}, {'dt': 1723939200, 'main': {'temp': 283.54, 'feels_like': 282.67, 'temp_min': 283.54, 'temp_max': 283.54, 'pressure': 1006, 'sea_level': 1006, 'grnd_level': 949, 'humidity': 78, 'temp_kf': 0}, 'weather': [{'id': 802, 'main': 'Clouds', 'description': 'scattered clouds', 'icon': '03n'}], 'clouds': {'all': 39}, 'wind': {'speed': 1.78, 'deg': 292, 'gust': 1.44}, 'visibility': 10000, 'pop': 0, 'sys': {'pod': 'n'}, 'dt_txt': '2024-08-18 00:00:00'}, {'dt': 1723950000, 'main': {'temp': 283.16, 'feels_like': 282.31, 'temp_min': 283.16, 'temp_max': 283.16, 'pressure': 1005, 'sea_level': 1005, 'grnd_level': 948, 'humidity': 80, 'temp_kf': 0}, 'weather': [{'id': 804, 'main': 'Clouds', 'description': 'overcast clouds', 'icon': '04n'}], 'clouds': {'all': 90}, 'wind': {'speed': 1.11, 'deg': 276, 'gust': 1.02}, 'visibility': 10000, 'pop': 0, 'sys': {'pod': 'n'}, 'dt_txt': '2024-08-18 03:00:00'}, {'dt': 1723960800, 'main': {'temp': 285.36, 'feels_like': 284.52, 'temp_min': 285.36, 'temp_max': 285.36, 'pressure': 1004, 'sea_level': 1004, 'grnd_level': 948, 'humidity': 72, 'temp_kf': 0}, 'weather': [{'id': 804, 'main': 'Clouds', 'description': 'overcast clouds', 'icon': '04d'}], 'clouds': {'all': 95}, 'wind': {'speed': 0.83, 'deg': 239, 'gust': 1.29}, 'visibility': 10000, 'pop': 0, 'sys': {'pod': 'd'}, 'dt_txt': '2024-08-18 06:00:00'}, {'dt': 1723971600, 'main': {'temp': 290.55, 'feels_like': 289.65, 'temp_min': 290.55, 'temp_max': 290.55, 'pressure': 1003, 'sea_level': 1003, 'grnd_level': 948, 'humidity': 50, 'temp_kf': 0}, 'weather': [{'id': 803, 'main': 'Clouds', 'description': 'broken clouds', 'icon': '04d'}], 'clouds': {'all': 51}, 'wind': {'speed': 2.09, 'deg': 195, 'gust': 3.73}, 'visibility': 10000, 'pop': 0, 'sys': {'pod': 'd'}, 'dt_txt': '2024-08-18 09:00:00'}, {'dt': 1723982400, 'main': {'temp': 292.11, 'feels_like': 291.21, 'temp_min': 292.11, 'temp_max': 292.11, 'pressure': 1003, 'sea_level': 1003, 'grnd_level': 948, 'humidity': 44, 'temp_kf': 0}, 'weather': [{'id': 803, 'main': 'Clouds', 'description': 'broken clouds', 'icon': '04d'}], 'clouds': {'all': 71}, 'wind': {'speed': 4.1, 'deg': 217, 'gust': 6.25}, 'visibility': 10000, 'pop': 0, 'sys': {'pod': 'd'}, 'dt_txt': '2024-08-18 12:00:00'}, {'dt': 1723993200, 'main': {'temp': 289.89, 'feels_like': 289.26, 'temp_min': 289.89, 'temp_max': 289.89, 'pressure': 1002, 'sea_level': 1002, 'grnd_level': 946, 'humidity': 63, 'temp_kf': 0}, 'weather': [{'id': 500, 'main': 'Rain', 'description': 'light rain', 'icon': '10d'}], 'clouds': {'all': 98}, 'wind': {'speed': 2.72, 'deg': 206, 'gust': 5.48}, 'visibility': 10000, 'pop': 0.2, 'rain': {'3h': 0.11}, 'sys': {'pod': 'd'}, 'dt_txt': '2024-08-18 15:00:00'}, {'dt': 1724004000, 'main': {'temp': 287.8, 'feels_like': 287.28, 'temp_min': 287.8, 'temp_max': 287.8, 'pressure': 1002, 'sea_level': 1002, 'grnd_level': 947, 'humidity': 75, 'temp_kf': 0}, 'weather': [{'id': 500, 'main': 'Rain', 'description': 'light rain', 'icon': '10d'}], 'clouds': {'all': 82}, 'wind': {'speed': 1.43, 'deg': 246, 'gust': 3.07}, 'visibility': 10000, 'pop': 0.29, 'rain': {'3h': 0.39}, 'sys': {'pod': 'd'}, 'dt_txt': '2024-08-18 18:00:00'}, {'dt': 1724014800, 'main': {'temp': 283.23, 'feels_like': 282.51, 'temp_min': 283.23, 'temp_max': 283.23, 'pressure': 1004, 'sea_level': 1004, 'grnd_level': 948, 'humidity': 85, 'temp_kf': 0}, 'weather': [{'id': 800, 'main': 'Clear', 'description': 'clear sky', 'icon': '01n'}], 'clouds': {'all': 2}, 'wind': {'speed': 2.18, 'deg': 280, 'gust': 1.98}, 'visibility': 10000, 'pop': 0, 'sys': {'pod': 'n'}, 'dt_txt': '2024-08-18 21:00:00'}, {'dt': 1724025600, 'main': {'temp': 281.7, 'feels_like': 280.28, 'temp_min': 281.7, 'temp_max': 281.7, 'pressure': 1007, 'sea_level': 1007, 'grnd_level': 949, 'humidity': 84, 'temp_kf': 0}, 'weather': [{'id': 800, 'main': 'Clear', 'description': 'clear sky', 'icon': '01n'}], 'clouds': {'all': 1}, 'wind': {'speed': 2.47, 'deg': 283, 'gust': 2.37}, 'visibility': 10000, 'pop': 0, 'sys': {'pod': 'n'}, 'dt_txt': '2024-08-19 00:00:00'}, {'dt': 1724036400, 'main': {'temp': 280.63, 'feels_like': 279.03, 'temp_min': 280.63, 'temp_max': 280.63, 'pressure': 1009, 'sea_level': 1009, 'grnd_level': 951, 'humidity': 83, 'temp_kf': 0}, 'weather': [{'id': 800, 'main': 'Clear', 'description': 'clear sky', 'icon': '01n'}], 'clouds': {'all': 3}, 'wind': {'speed': 2.45, 'deg': 283, 'gust': 2.43}, 'visibility': 10000, 'pop': 0, 'sys': {'pod': 'n'}, 'dt_txt': '2024-08-19 03:00:00'}, {'dt': 1724047200, 'main': {'temp': 284.26, 'feels_like': 283.2, 'temp_min': 284.26, 'temp_max': 284.26, 'pressure': 1010, 'sea_level': 1010, 'grnd_level': 953, 'humidity': 68, 'temp_kf': 0}, 'weather': [{'id': 800, 'main': 'Clear', 'description': 'clear sky', 'icon': '01d'}], 'clouds': {'all': 7}, 'wind': {'speed': 1.86, 'deg': 280, 'gust': 2.81}, 'visibility': 10000, 'pop': 0, 'sys': {'pod': 'd'}, 'dt_txt': '2024-08-19 06:00:00'}, {'dt': 1724058000, 'main': {'temp': 290.06, 'feels_like': 288.93, 'temp_min': 290.06, 'temp_max': 290.06, 'pressure': 1010, 'sea_level': 1010, 'grnd_level': 954, 'humidity': 43, 'temp_kf': 0}, 'weather': [{'id': 801, 'main': 'Clouds', 'description': 'few clouds', 'icon': '02d'}], 'clouds': {'all': 11}, 'wind': {'speed': 1.68, 'deg': 258, 'gust': 3.46}, 'visibility': 10000, 'pop': 0, 'sys': {'pod': 'd'}, 'dt_txt': '2024-08-19 09:00:00'}, {'dt': 1724068800, 'main': {'temp': 293.31, 'feels_like': 292.32, 'temp_min': 293.31, 'temp_max': 293.31, 'pressure': 1010, 'sea_level': 1010, 'grnd_level': 955, 'humidity': 36, 'temp_kf': 0}, 'weather': [{'id': 801, 'main': 'Clouds', 'description': 'few clouds', 'icon': '02d'}], 'clouds': {'all': 15}, 'wind': {'speed': 1.73, 'deg': 215, 'gust': 2.94}, 'visibility': 10000, 'pop': 0, 'sys': {'pod': 'd'}, 'dt_txt': '2024-08-19 12:00:00'}, {'dt': 1724079600, 'main': {'temp': 293.59, 'feels_like': 292.68, 'temp_min': 293.59, 'temp_max': 293.59, 'pressure': 1010, 'sea_level': 1010, 'grnd_level': 954, 'humidity': 38, 'temp_kf': 0}, 'weather': [{'id': 803, 'main': 'Clouds', 'description': 'broken clouds', 'icon': '04d'}], 'clouds': {'all': 70}, 'wind': {'speed': 2.34, 'deg': 178, 'gust': 3.08}, 'visibility': 10000, 'pop': 0, 'sys': {'pod': 'd'}, 'dt_txt': '2024-08-19 15:00:00'}, {'dt': 1724090400, 'main': {'temp': 289.1, 'feels_like': 288.42, 'temp_min': 289.1, 'temp_max': 289.1, 'pressure': 1010, 'sea_level': 1010, 'grnd_level': 955, 'humidity': 64, 'temp_kf': 0}, 'weather': [{'id': 803, 'main': 'Clouds', 'description': 'broken clouds', 'icon': '04d'}], 'clouds': {'all': 60}, 'wind': {'speed': 1.77, 'deg': 155, 'gust': 3.03}, 'visibility': 10000, 'pop': 0, 'sys': {'pod': 'd'}, 'dt_txt': '2024-08-19 18:00:00'}, {'dt': 1724101200, 'main': {'temp': 285.33, 'feels_like': 284.67, 'temp_min': 285.33, 'temp_max': 285.33, 'pressure': 1011, 'sea_level': 1011, 'grnd_level': 955, 'humidity': 79, 'temp_kf': 0}, 'weather': [{'id': 804, 'main': 'Clouds', 'description': 'overcast clouds', 'icon': '04n'}], 'clouds': {'all': 100}, 'wind': {'speed': 0.2, 'deg': 174, 'gust': 0.34}, 'visibility': 10000, 'pop': 0, 'sys': {'pod': 'n'}, 'dt_txt': '2024-08-19 21:00:00'}, {'dt': 1724112000, 'main': {'temp': 285.08, 'feels_like': 284.6, 'temp_min': 285.08, 'temp_max': 285.08, 'pressure': 1010, 'sea_level': 1010, 'grnd_level': 954, 'humidity': 87, 'temp_kf': 0}, 'weather': [{'id': 804, 'main': 'Clouds', 'description': 'overcast clouds', 'icon': '04n'}], 'clouds': {'all': 100}, 'wind': {'speed': 0.92, 'deg': 137, 'gust': 0.82}, 'visibility': 10000, 'pop': 0, 'sys': {'pod': 'n'}, 'dt_txt': '2024-08-20 00:00:00'}, {'dt': 1724122800, 'main': {'temp': 283.45, 'feels_like': 283.09, 'temp_min': 283.45, 'temp_max': 283.45, 'pressure': 1010, 'sea_level': 1010, 'grnd_level': 953, 'humidity': 98, 'temp_kf': 0}, 'weather': [{'id': 804, 'main': 'Clouds', 'description': 'overcast clouds', 'icon': '04n'}], 'clouds': {'all': 100}, 'wind': {'speed': 1.39, 'deg': 159, 'gust': 2.71}, 'visibility': 9213, 'pop': 0, 'sys': {'pod': 'n'}, 'dt_txt': '2024-08-20 03:00:00'}, {'dt': 1724133600, 'main': {'temp': 285.03, 'feels_like': 284.73, 'temp_min': 285.03, 'temp_max': 285.03, 'pressure': 1010, 'sea_level': 1010, 'grnd_level': 953, 'humidity': 94, 'temp_kf': 0}, 'weather': [{'id': 500, 'main': 'Rain', 'description': 'light rain', 'icon': '10d'}], 'clouds': {'all': 100}, 'wind': {'speed': 1.58, 'deg': 133, 'gust': 4.19}, 'visibility': 10000, 'pop': 0.2, 'rain': {'3h': 0.2}, 'sys': {'pod': 'd'}, 'dt_txt': '2024-08-20 06:00:00'}, {'dt': 1724144400, 'main': {'temp': 286.59, 'feels_like': 286.57, 'temp_min': 286.59, 'temp_max': 286.59, 'pressure': 1009, 'sea_level': 1009, 'grnd_level': 952, 'humidity': 99, 'temp_kf': 0}, 'weather': [{'id': 500, 'main': 'Rain', 'description': 'light rain', 'icon': '10d'}], 'clouds': {'all': 100}, 'wind': {'speed': 2.64, 'deg': 143, 'gust': 10.92}, 'visibility': 3997, 'pop': 1, 'rain': {'3h': 0.8}, 'sys': {'pod': 'd'}, 'dt_txt': '2024-08-20 09:00:00'}, {'dt': 1724155200, 'main': {'temp': 288.12, 'feels_like': 288.18, 'temp_min': 288.12, 'temp_max': 288.12, 'pressure': 1008, 'sea_level': 1008, 'grnd_level': 952, 'humidity': 96, 'temp_kf': 0}, 'weather': [{'id': 500, 'main': 'Rain', 'description': 'light rain', 'icon': '10d'}], 'clouds': {'all': 100}, 'wind': {'speed': 4.16, 'deg': 158, 'gust': 12.99}, 'visibility': 10000, 'pop': 1, 'rain': {'3h': 0.2}, 'sys': {'pod': 'd'}, 'dt_txt': '2024-08-20 12:00:00'}, {'dt': 1724166000, 'main': {'temp': 288.21, 'feels_like': 288.33, 'temp_min': 288.21, 'temp_max': 288.21, 'pressure': 1008, 'sea_level': 1008, 'grnd_level': 952, 'humidity': 98, 'temp_kf': 0}, 'weather': [{'id': 500, 'main': 'Rain', 'description': 'light rain', 'icon': '10d'}], 'clouds': {'all': 100}, 'wind': {'speed': 3.17, 'deg': 164, 'gust': 9.29}, 'visibility': 10000, 'pop': 0.71, 'rain': {'3h': 0.31}, 'sys': {'pod': 'd'}, 'dt_txt': '2024-08-20 15:00:00'}, {'dt': 1724176800, 'main': {'temp': 288.27, 'feels_like': 288.42, 'temp_min': 288.27, 'temp_max': 288.27, 'pressure': 1008, 'sea_level': 1008, 'grnd_level': 952, 'humidity': 99, 'temp_kf': 0}, 'weather': [{'id': 500, 'main': 'Rain', 'description': 'light rain', 'icon': '10d'}], 'clouds': {'all': 100}, 'wind': {'speed': 1.97, 'deg': 142, 'gust': 5.86}, 'visibility': 5381, 'pop': 0.46, 'rain': {'3h': 0.24}, 'sys': {'pod': 'd'}, 'dt_txt': '2024-08-20 18:00:00'}, {'dt': 1724187600, 'main': {'temp': 287.98, 'feels_like': 288.13, 'temp_min': 287.98, 'temp_max': 287.98, 'pressure': 1007, 'sea_level': 1007, 'grnd_level': 951, 'humidity': 100, 'temp_kf': 0}, 'weather': [{'id': 500, 'main': 'Rain', 'description': 'light rain', 'icon': '10n'}], 'clouds': {'all': 100}, 'wind': {'speed': 1.38, 'deg': 120, 'gust': 3.76}, 'pop': 1, 'rain': {'3h': 0.49}, 'sys': {'pod': 'n'}, 'dt_txt': '2024-08-20 21:00:00'}, {'dt': 1724198400, 'main': {'temp': 287.81, 'feels_like': 287.92, 'temp_min': 287.81, 'temp_max': 287.81, 'pressure': 1005, 'sea_level': 1005, 'grnd_level': 950, 'humidity': 99, 'temp_kf': 0}, 'weather': [{'id': 501, 'main': 'Rain', 'description': 'moderate rain', 'icon': '10n'}], 'clouds': {'all': 100}, 'wind': {'speed': 2.37, 'deg': 140, 'gust': 8.22}, 'visibility': 1554, 'pop': 1, 'rain': {'3h': 3.24}, 'sys': {'pod': 'n'}, 'dt_txt': '2024-08-21 00:00:00'}, {'dt': 1724209200, 'main': {'temp': 287.3, 'feels_like': 287.36, 'temp_min': 287.3, 'temp_max': 287.3, 'pressure': 1003, 'sea_level': 1003, 'grnd_level': 947, 'humidity': 99, 'temp_kf': 0}, 'weather': [{'id': 500, 'main': 'Rain', 'description': 'light rain', 'icon': '10n'}], 'clouds': {'all': 100}, 'wind': {'speed': 2.25, 'deg': 127, 'gust': 7.82}, 'visibility': 6896, 'pop': 1, 'rain': {'3h': 1.69}, 'sys': {'pod': 'n'}, 'dt_txt': '2024-08-21 03:00:00'}, {'dt': 1724220000, 'main': {'temp': 287.48, 'feels_like': 287.58, 'temp_min': 287.48, 'temp_max': 287.48, 'pressure': 1000, 'sea_level': 1000, 'grnd_level': 945, 'humidity': 100, 'temp_kf': 0}, 'weather': [{'id': 501, 'main': 'Rain', 'description': 'moderate rain', 'icon': '10d'}], 'clouds': {'all': 100}, 'wind': {'speed': 0.82, 'deg': 84, 'gust': 2.14}, 'visibility': 237, 'pop': 1, 'rain': {'3h': 9.87}, 'sys': {'pod': 'd'}, 'dt_txt': '2024-08-21 06:00:00'}, {'dt': 1724230800, 'main': {'temp': 287.27, 'feels_like': 287.3, 'temp_min': 287.27, 'temp_max': 287.27, 'pressure': 999, 'sea_level': 999, 'grnd_level': 944, 'humidity': 98, 'temp_kf': 0}, 'weather': [{'id': 502, 'main': 'Rain', 'description': 'heavy intensity rain', 'icon': '10d'}], 'clouds': {'all': 100}, 'wind': {'speed': 1.63, 'deg': 282, 'gust': 2.01}, 'visibility': 4526, 'pop': 1, 'rain': {'3h': 21.02}, 'sys': {'pod': 'd'}, 'dt_txt': '2024-08-21 09:00:00'}, {'dt': 1724241600, 'main': {'temp': 287.12, 'feels_like': 287.05, 'temp_min': 287.12, 'temp_max': 287.12, 'pressure': 999, 'sea_level': 999, 'grnd_level': 944, 'humidity': 95, 'temp_kf': 0}, 'weather': [{'id': 500, 'main': 'Rain', 'description': 'light rain', 'icon': '10d'}], 'clouds': {'all': 100}, 'wind': {'speed': 0.94, 'deg': 246, 'gust': 1.41}, 'visibility': 10000, 'pop': 1, 'rain': {'3h': 2.65}, 'sys': {'pod': 'd'}, 'dt_txt': '2024-08-21 12:00:00'}, {'dt': 1724252400, 'main': {'temp': 289.77, 'feels_like': 289.45, 'temp_min': 289.77, 'temp_max': 289.77, 'pressure': 998, 'sea_level': 998, 'grnd_level': 943, 'humidity': 75, 'temp_kf': 0}, 'weather': [{'id': 500, 'main': 'Rain', 'description': 'light rain', 'icon': '10d'}], 'clouds': {'all': 100}, 'wind': {'speed': 1.79, 'deg': 247, 'gust': 4.35}, 'visibility': 10000, 'pop': 0.96, 'rain': {'3h': 0.58}, 'sys': {'pod': 'd'}, 'dt_txt': '2024-08-21 15:00:00'}, {'dt': 1724263200, 'main': {'temp': 286.71, 'feels_like': 286.13, 'temp_min': 286.71, 'temp_max': 286.71, 'pressure': 999, 'sea_level': 999, 'grnd_level': 943, 'humidity': 77, 'temp_kf': 0}, 'weather': [{'id': 804, 'main': 'Clouds', 'description': 'overcast clouds', 'icon': '04d'}], 'clouds': {'all': 96}, 'wind': {'speed': 2.65, 'deg': 268, 'gust': 4.43}, 'visibility': 10000, 'pop': 0.56, 'sys': {'pod': 'd'}, 'dt_txt': '2024-08-21 18:00:00'}, {'dt': 1724274000, 'main': {'temp': 282.77, 'feels_like': 281.13, 'temp_min': 282.77, 'temp_max': 282.77, 'pressure': 1001, 'sea_level': 1001, 'grnd_level': 945, 'humidity': 75, 'temp_kf': 0}, 'weather': [{'id': 800, 'main': 'Clear', 'description': 'clear sky', 'icon': '01n'}], 'clouds': {'all': 10}, 'wind': {'speed': 3.13, 'deg': 282, 'gust': 5.59}, 'visibility': 10000, 'pop': 0, 'sys': {'pod': 'n'}, 'dt_txt': '2024-08-21 21:00:00'}, {'dt': 1724284800, 'main': {'temp': 280.66, 'feels_like': 279.2, 'temp_min': 280.66, 'temp_max': 280.66, 'pressure': 1004, 'sea_level': 1004, 'grnd_level': 946, 'humidity': 85, 'temp_kf': 0}, 'weather': [{'id': 800, 'main': 'Clear', 'description': 'clear sky', 'icon': '01n'}], 'clouds': {'all': 5}, 'wind': {'speed': 2.28, 'deg': 279, 'gust': 2.22}, 'visibility': 10000, 'pop': 0, 'sys': {'pod': 'n'}, 'dt_txt': '2024-08-22 00:00:00'}, {'dt': 1724295600, 'main': {'temp': 279.69, 'feels_like': 278.46, 'temp_min': 279.69, 'temp_max': 279.69, 'pressure': 1005, 'sea_level': 1005, 'grnd_level': 947, 'humidity': 87, 'temp_kf': 0}, 'weather': [{'id': 800, 'main': 'Clear', 'description': 'clear sky', 'icon': '01n'}], 'clouds': {'all': 1}, 'wind': {'speed': 1.85, 'deg': 284, 'gust': 1.49}, 'visibility': 10000, 'pop': 0, 'sys': {'pod': 'n'}, 'dt_txt': '2024-08-22 03:00:00'}, {'dt': 1724306400, 'main': {'temp': 282.72, 'feels_like': 282.72, 'temp_min': 282.72, 'temp_max': 282.72, 'pressure': 1004, 'sea_level': 1004, 'grnd_level': 948, 'humidity': 73, 'temp_kf': 0}, 'weather': [{'id': 802, 'main': 'Clouds', 'description': 'scattered clouds', 'icon': '03d'}], 'clouds': {'all': 37}, 'wind': {'speed': 0.95, 'deg': 259, 'gust': 1.33}, 'visibility': 10000, 'pop': 0, 'sys': {'pod': 'd'}, 'dt_txt': '2024-08-22 06:00:00'}, {'dt': 1724317200, 'main': {'temp': 286, 'feels_like': 284.86, 'temp_min': 286, 'temp_max': 286, 'pressure': 1004, 'sea_level': 1004, 'grnd_level': 947, 'humidity': 58, 'temp_kf': 0}, 'weather': [{'id': 804, 'main': 'Clouds', 'description': 'overcast clouds', 'icon': '04d'}], 'clouds': {'all': 100}, 'wind': {'speed': 2.32, 'deg': 177, 'gust': 3.02}, 'visibility': 10000, 'pop': 0, 'sys': {'pod': 'd'}, 'dt_txt': '2024-08-22 09:00:00'}], 'city': {'id': 3144113, 'name': 'Noresund', 'coord': {'lat': 60.1803, 'lon': 9.6231}, 'country': 'NO', 'population': 1000, 'timezone': 7200, 'sunrise': 1723866044, 'sunset': 1723921836}}\n"
     ]
    }
   ],
   "source": [
    "responseF = requests.get(urlF).json()\n",
    "print(responseF)"
   ]
  },
  {
   "cell_type": "code",
   "execution_count": 11,
   "metadata": {
    "ExecuteTime": {
     "end_time": "2024-08-17T10:19:07.510514Z",
     "start_time": "2024-08-17T10:19:07.506586Z"
    },
    "execution": {
     "iopub.execute_input": "2024-08-17T11:10:25.531372Z",
     "iopub.status.busy": "2024-08-17T11:10:25.531104Z",
     "iopub.status.idle": "2024-08-17T11:10:25.539982Z",
     "shell.execute_reply": "2024-08-17T11:10:25.539588Z"
    },
    "slideshow": {
     "slide_type": "slide"
    }
   },
   "outputs": [],
   "source": [
    "# Write JSON to file for viewing\n",
    "with open('downloads/forecast.json', 'w') as f:\n",
    "    json.dump(responseF, f, indent=4)"
   ]
  },
  {
   "cell_type": "markdown",
   "metadata": {
    "slideshow": {
     "slide_type": "slide"
    }
   },
   "source": [
    "### When and what?\n",
    "Check contents and time stamps"
   ]
  },
  {
   "cell_type": "code",
   "execution_count": 12,
   "metadata": {
    "ExecuteTime": {
     "end_time": "2024-08-17T10:19:07.514214Z",
     "start_time": "2024-08-17T10:19:07.511162Z"
    },
    "execution": {
     "iopub.execute_input": "2024-08-17T11:10:25.542077Z",
     "iopub.status.busy": "2024-08-17T11:10:25.541931Z",
     "iopub.status.idle": "2024-08-17T11:10:25.546399Z",
     "shell.execute_reply": "2024-08-17T11:10:25.546054Z"
    },
    "slideshow": {
     "slide_type": "-"
    }
   },
   "outputs": [
    {
     "data": {
      "text/plain": [
       "dict_keys(['cod', 'message', 'cnt', 'list', 'city'])"
      ]
     },
     "execution_count": 12,
     "metadata": {},
     "output_type": "execute_result"
    }
   ],
   "source": [
    "# Content of responseF\n",
    "responseF.keys()"
   ]
  },
  {
   "cell_type": "code",
   "execution_count": 13,
   "metadata": {
    "ExecuteTime": {
     "end_time": "2024-08-17T10:19:07.516813Z",
     "start_time": "2024-08-17T10:19:07.514918Z"
    },
    "execution": {
     "iopub.execute_input": "2024-08-17T11:10:25.548459Z",
     "iopub.status.busy": "2024-08-17T11:10:25.548206Z",
     "iopub.status.idle": "2024-08-17T11:10:25.550357Z",
     "shell.execute_reply": "2024-08-17T11:10:25.550017Z"
    },
    "slideshow": {
     "slide_type": "fragment"
    }
   },
   "outputs": [
    {
     "name": "stdout",
     "output_type": "stream",
     "text": [
      "40\n"
     ]
    }
   ],
   "source": [
    "# Number of forecasts\n",
    "print(len(responseF[\"list\"]))"
   ]
  },
  {
   "cell_type": "code",
   "execution_count": 14,
   "metadata": {
    "ExecuteTime": {
     "end_time": "2024-08-17T10:19:07.520443Z",
     "start_time": "2024-08-17T10:19:07.518884Z"
    },
    "execution": {
     "iopub.execute_input": "2024-08-17T11:10:25.552002Z",
     "iopub.status.busy": "2024-08-17T11:10:25.551866Z",
     "iopub.status.idle": "2024-08-17T11:10:25.553997Z",
     "shell.execute_reply": "2024-08-17T11:10:25.553697Z"
    },
    "slideshow": {
     "slide_type": "slide"
    }
   },
   "outputs": [
    {
     "name": "stdout",
     "output_type": "stream",
     "text": [
      "2024-08-17 12:00:00\n",
      "2024-08-17 15:00:00\n",
      "2024-08-17 18:00:00\n",
      "2024-08-17 21:00:00\n",
      "2024-08-18 00:00:00\n",
      "2024-08-18 03:00:00\n",
      "2024-08-18 06:00:00\n",
      "2024-08-18 09:00:00\n",
      "2024-08-18 12:00:00\n",
      "2024-08-18 15:00:00\n",
      "2024-08-18 18:00:00\n",
      "2024-08-18 21:00:00\n",
      "2024-08-19 00:00:00\n",
      "2024-08-19 03:00:00\n",
      "2024-08-19 06:00:00\n",
      "2024-08-19 09:00:00\n",
      "2024-08-19 12:00:00\n",
      "2024-08-19 15:00:00\n",
      "2024-08-19 18:00:00\n",
      "2024-08-19 21:00:00\n",
      "2024-08-20 00:00:00\n",
      "2024-08-20 03:00:00\n",
      "2024-08-20 06:00:00\n",
      "2024-08-20 09:00:00\n",
      "2024-08-20 12:00:00\n",
      "2024-08-20 15:00:00\n",
      "2024-08-20 18:00:00\n",
      "2024-08-20 21:00:00\n",
      "2024-08-21 00:00:00\n",
      "2024-08-21 03:00:00\n",
      "2024-08-21 06:00:00\n",
      "2024-08-21 09:00:00\n",
      "2024-08-21 12:00:00\n",
      "2024-08-21 15:00:00\n",
      "2024-08-21 18:00:00\n",
      "2024-08-21 21:00:00\n",
      "2024-08-22 00:00:00\n",
      "2024-08-22 03:00:00\n",
      "2024-08-22 06:00:00\n",
      "2024-08-22 09:00:00\n"
     ]
    }
   ],
   "source": [
    "# Print forecast times\n",
    "for forecast in responseF[\"list\"]:\n",
    "    print(forecast[\"dt_txt\"])"
   ]
  },
  {
   "cell_type": "markdown",
   "metadata": {
    "slideshow": {
     "slide_type": "slide"
    }
   },
   "source": [
    "## Make plots of omnipresent measurements and events\n",
    "We will later look at missing data, data only sporadically appearing and so on."
   ]
  },
  {
   "cell_type": "code",
   "execution_count": 15,
   "metadata": {
    "ExecuteTime": {
     "end_time": "2024-08-17T10:19:07.522603Z",
     "start_time": "2024-08-17T10:19:07.521029Z"
    },
    "execution": {
     "iopub.execute_input": "2024-08-17T11:10:25.555625Z",
     "iopub.status.busy": "2024-08-17T11:10:25.555523Z",
     "iopub.status.idle": "2024-08-17T11:10:25.557734Z",
     "shell.execute_reply": "2024-08-17T11:10:25.557460Z"
    },
    "slideshow": {
     "slide_type": "-"
    }
   },
   "outputs": [],
   "source": [
    "# Air pressure per period\n",
    "pressures = []\n",
    "timestamps = []\n",
    "for forecast in responseF[\"list\"]:\n",
    "    pressures.append(forecast[\"main\"][\"pressure\"])\n",
    "    timestamps.append(dt.datetime.fromtimestamp(forecast[\"dt\"]))"
   ]
  },
  {
   "cell_type": "code",
   "execution_count": 16,
   "metadata": {
    "ExecuteTime": {
     "end_time": "2024-08-17T10:19:08.124779Z",
     "start_time": "2024-08-17T10:19:07.523100Z"
    },
    "execution": {
     "iopub.execute_input": "2024-08-17T11:10:25.559671Z",
     "iopub.status.busy": "2024-08-17T11:10:25.559500Z",
     "iopub.status.idle": "2024-08-17T11:10:25.930224Z",
     "shell.execute_reply": "2024-08-17T11:10:25.929965Z"
    },
    "slideshow": {
     "slide_type": "slide"
    }
   },
   "outputs": [
    {
     "data": {
      "image/png": "[encoded data removed]",
      "text/plain": [
       "<Figure size 640x480 with 1 Axes>"
      ]
     },
     "metadata": {},
     "output_type": "display_data"
    }
   ],
   "source": [
    "import matplotlib.pyplot as plt\n",
    "plt.bar(timestamps, pressures)\n",
    "plt.xticks(rotation=45)\n",
    "plt.ylim(950, 1050)\n",
    "plt.grid()\n",
    "plt.ylabel(\"Air pressure (hPa)\")\n",
    "plt.title(f\"Forecasted air pressure in {CITY}\")\n",
    "plt.show()"
   ]
  },
  {
   "cell_type": "markdown",
   "metadata": {
    "slideshow": {
     "slide_type": "slide"
    }
   },
   "source": [
    "## Exercise\n",
    "- Make a new forecast request for your own hometown. Call your response something else than responseF.\n",
    "- If available, plot the humidity like we did with air pressure."
   ]
  },
  {
   "cell_type": "markdown",
   "metadata": {
    "slideshow": {
     "slide_type": "slide"
    }
   },
   "source": [
    "### Precipitation\n",
    "- ... comes in two main flavours: rain and snow.\n",
    "- We need to check which is present and set to zero if it is abscent."
   ]
  },
  {
   "cell_type": "code",
   "execution_count": 17,
   "metadata": {
    "ExecuteTime": {
     "end_time": "2024-08-17T10:19:08.128573Z",
     "start_time": "2024-08-17T10:19:08.125858Z"
    },
    "execution": {
     "iopub.execute_input": "2024-08-17T11:10:25.931772Z",
     "iopub.status.busy": "2024-08-17T11:10:25.931647Z",
     "iopub.status.idle": "2024-08-17T11:10:25.933559Z",
     "shell.execute_reply": "2024-08-17T11:10:25.933354Z"
    },
    "slideshow": {
     "slide_type": "-"
    }
   },
   "outputs": [],
   "source": [
    "rain = []\n",
    "snow = []\n",
    "for forecast in responseF[\"list\"]:\n",
    "    try: # Check if rain is present in forecast\n",
    "        rain.append(forecast[\"rain\"][\"3h\"])\n",
    "    except KeyError:\n",
    "        rain.append(0)\n",
    "    try: # Check if snow is present in forecast\n",
    "        snow.append(forecast[\"snow\"][\"3h\"])\n",
    "    except KeyError:\n",
    "        snow.append(0)"
   ]
  },
  {
   "cell_type": "code",
   "execution_count": 18,
   "metadata": {
    "ExecuteTime": {
     "end_time": "2024-08-17T10:19:08.223315Z",
     "start_time": "2024-08-17T10:19:08.129282Z"
    },
    "execution": {
     "iopub.execute_input": "2024-08-17T11:10:25.934695Z",
     "iopub.status.busy": "2024-08-17T11:10:25.934624Z",
     "iopub.status.idle": "2024-08-17T11:10:26.030528Z",
     "shell.execute_reply": "2024-08-17T11:10:26.030279Z"
    },
    "slideshow": {
     "slide_type": "slide"
    }
   },
   "outputs": [
    {
     "data": {
      "image/png": "[encoded data removed]",
      "text/plain": [
       "<Figure size 640x480 with 1 Axes>"
      ]
     },
     "metadata": {},
     "output_type": "display_data"
    }
   ],
   "source": [
    "# Stacked bar chart with rain and snow\n",
    "plt.bar(timestamps, rain, label=\"Rain\")\n",
    "plt.bar(timestamps, snow, label=\"Snow\")\n",
    "plt.xticks(rotation=45)\n",
    "plt.grid()\n",
    "plt.ylabel(\"Precipitation (mm)\")\n",
    "plt.title(f\"Forecasted precipitation in {CITY}\")\n",
    "plt.legend()\n",
    "plt.show()\n"
   ]
  },
  {
   "cell_type": "markdown",
   "metadata": {
    "slideshow": {
     "slide_type": "slide"
    }
   },
   "source": [
    "```{seealso} Resources\n",
    ":class: tip\n",
    "- [YouTube: NeuralNine's video (15m:32s)](https://www.youtube.com/watch?v=9P5MY_2i7K8)\n",
    "```"
   ]
  }
 ],
 "metadata": {
  "celltoolbar": "Slideshow",
  "kernelspec": {
   "display_name": "Python 3 (ipykernel)",
   "language": "python",
   "name": "python3"
  },
  "language_info": {
   "codemirror_mode": {
    "name": "ipython",
    "version": 3
   },
   "file_extension": ".py",
   "mimetype": "text/x-python",
   "name": "python",
   "nbconvert_exporter": "python",
   "pygments_lexer": "ipython3",
   "version": "3.12.4"
  }
 },
 "nbformat": 4,
 "nbformat_minor": 2
}