{
 "cells": [
  {
   "cell_type": "markdown",
   "metadata": {
    "slideshow": {
     "slide_type": "slide"
    }
   },
   "source": [
    "# Demonstration of API using OpenWeatherMap.org\n",
    "This demonstration is heavily inspired by [NeuralNine's video](https://www.youtube.com/watch?v=9P5MY_2i7K8).  \n",
    "You need a free account [from here](https://openweathermap.org/api).  \n",
    "The VS Code extension _JSON viewer_ is recommended for viewing downloaded JSON content.  \n",
    "  - Set your maximum API calls to 1000 per day to make sure you are under the limit for billing. \n",
    "  - To run the examples, download your API key, save it in the right folder (see below) in a file called _api\\_key\\_OpenWeather_, containing only the key (no spaces or \"enters\")."
   ]
  },
  {
   "cell_type": "code",
   "execution_count": 1,
   "metadata": {
    "ExecuteTime": {
     "end_time": "2024-08-17T10:19:06.946392Z",
     "start_time": "2024-08-17T10:19:06.887177Z"
    },
    "slideshow": {
     "slide_type": "fragment"
    },
    "tags": []
   },
   "outputs": [],
   "source": [
    "# Imports\n",
    "import datetime as dt\n",
    "import requests\n",
    "import json"
   ]
  },
  {
   "cell_type": "markdown",
   "metadata": {
    "slideshow": {
     "slide_type": "slide"
    }
   },
   "source": [
    "## Current weather\n",
    "### Common definitions to use for all requests"
   ]
  },
  {
   "cell_type": "code",
   "execution_count": 2,
   "metadata": {
    "ExecuteTime": {
     "end_time": "2024-08-17T10:19:06.950734Z",
     "start_time": "2024-08-17T10:19:06.948129Z"
    },
    "slideshow": {
     "slide_type": "fragment"
    },
    "tags": []
   },
   "outputs": [],
   "source": [
    "BASE_URL = \"http://api.openweathermap.org/data/2.5/weather?\"\n",
    "API_KEY = open('../../../No_sync/api_key_OpenWeather','r').read()\n",
    "CITY = \"Ski\"\n",
    "\n",
    "url = BASE_URL + \"q=\" + CITY + \"&appid=\" + API_KEY"
   ]
  },
  {
   "cell_type": "markdown",
   "metadata": {
    "slideshow": {
     "slide_type": "slide"
    }
   },
   "source": [
    "## Request current weather in chosen city"
   ]
  },
  {
   "cell_type": "code",
   "execution_count": 3,
   "metadata": {
    "ExecuteTime": {
     "end_time": "2024-08-17T10:19:07.346472Z",
     "start_time": "2024-08-17T10:19:06.951363Z"
    },
    "slideshow": {
     "slide_type": "fragment"
    },
    "tags": []
   },
   "outputs": [
    {
     "name": "stdout",
     "output_type": "stream",
     "text": [
      "{'coord': {'lon': 10.8358, 'lat': 59.7195}, 'weather': [{'id': 801, 'main': 'Clouds', 'description': 'few clouds', 'icon': '02n'}], 'base': 'stations', 'main': {'temp': 280.08, 'feels_like': 279.5, 'temp_min': 278.96, 'temp_max': 281.53, 'pressure': 1017, 'humidity': 72, 'sea_level': 1017, 'grnd_level': 1000}, 'visibility': 10000, 'wind': {'speed': 1.34, 'deg': 233, 'gust': 1.34}, 'clouds': {'all': 18}, 'dt': 1730318241, 'sys': {'type': 2, 'id': 2012246, 'country': 'NO', 'sunrise': 1730269990, 'sunset': 1730302036}, 'timezone': 3600, 'id': 3139081, 'name': 'Ski', 'cod': 200}\n"
     ]
    }
   ],
   "source": [
    "response = requests.get(url).json()\n",
    "print(response)"
   ]
  },
  {
   "cell_type": "code",
   "execution_count": 4,
   "metadata": {
    "ExecuteTime": {
     "end_time": "2024-08-17T10:19:07.356894Z",
     "start_time": "2024-08-17T10:19:07.353047Z"
    },
    "slideshow": {
     "slide_type": "fragment"
    },
    "tags": []
   },
   "outputs": [],
   "source": [
    "# Write JSON to file for viewing\n",
    "with open('downloads/weather.json', 'w') as f:\n",
    "    json.dump(response, f, indent=4)"
   ]
  },
  {
   "cell_type": "markdown",
   "metadata": {
    "slideshow": {
     "slide_type": "slide"
    }
   },
   "source": [
    "## Conversion functions\n",
    "Changing scales can make results more interpretable"
   ]
  },
  {
   "cell_type": "code",
   "execution_count": 5,
   "metadata": {
    "ExecuteTime": {
     "end_time": "2024-08-17T10:19:07.360029Z",
     "start_time": "2024-08-17T10:19:07.358341Z"
    },
    "slideshow": {
     "slide_type": "fragment"
    },
    "tags": []
   },
   "outputs": [],
   "source": [
    "# Kelvin to Celsius\n",
    "def kelvin_to_celsius(temp):\n",
    "    return temp - 273.15\n",
    "\n",
    "# Meters per second to knots\n",
    "def mps_to_knots(speed):\n",
    "    return speed * 1.943844"
   ]
  },
  {
   "cell_type": "markdown",
   "metadata": {
    "slideshow": {
     "slide_type": "slide"
    }
   },
   "source": [
    "## Print some weather properties"
   ]
  },
  {
   "cell_type": "code",
   "execution_count": 6,
   "metadata": {
    "ExecuteTime": {
     "end_time": "2024-08-17T10:19:07.362209Z",
     "start_time": "2024-08-17T10:19:07.360604Z"
    },
    "slideshow": {
     "slide_type": "fragment"
    },
    "tags": []
   },
   "outputs": [
    {
     "name": "stdout",
     "output_type": "stream",
     "text": [
      "The current temperature in Ski is 6.9 °C\n"
     ]
    }
   ],
   "source": [
    "# Current temperature\n",
    "temp_kelvin = response['main']['temp']\n",
    "temp_celsius = kelvin_to_celsius(temp_kelvin)\n",
    "print(f\"The current temperature in {CITY} is {temp_celsius:.1f} °C\")"
   ]
  },
  {
   "cell_type": "code",
   "execution_count": 7,
   "metadata": {
    "ExecuteTime": {
     "end_time": "2024-08-17T10:19:07.364358Z",
     "start_time": "2024-08-17T10:19:07.362759Z"
    },
    "slideshow": {
     "slide_type": "slide"
    },
    "tags": []
   },
   "outputs": [
    {
     "name": "stdout",
     "output_type": "stream",
     "text": [
      "Sunrise today is at 07:33 and sunset is at 16:27\n"
     ]
    }
   ],
   "source": [
    "# Sunrise and sunset today in local time\n",
    "sunrise = dt.datetime.fromtimestamp(response['sys']['sunrise'])\n",
    "sunset = dt.datetime.fromtimestamp(response['sys']['sunset'])\n",
    "print(f\"Sunrise today is at {sunrise:%H:%M} and sunset is at {sunset:%H:%M}\")"
   ]
  },
  {
   "cell_type": "code",
   "execution_count": 8,
   "metadata": {
    "ExecuteTime": {
     "end_time": "2024-08-17T10:19:07.367002Z",
     "start_time": "2024-08-17T10:19:07.365133Z"
    },
    "slideshow": {
     "slide_type": "fragment"
    },
    "tags": []
   },
   "outputs": [
    {
     "name": "stdout",
     "output_type": "stream",
     "text": [
      "Wind today is from 233° at 2.6 knots\n"
     ]
    }
   ],
   "source": [
    "# Wind direction and speed\n",
    "wind_knots = mps_to_knots(response['wind']['speed'])\n",
    "print(f\"Wind today is from {response['wind']['deg']}° at {round(wind_knots,1)} knots\")"
   ]
  },
  {
   "cell_type": "markdown",
   "metadata": {
    "slideshow": {
     "slide_type": "slide"
    }
   },
   "source": [
    "## Forecasted weather\n",
    "### Common definitions to use for all requests"
   ]
  },
  {
   "cell_type": "code",
   "execution_count": 9,
   "metadata": {
    "ExecuteTime": {
     "end_time": "2024-08-17T10:19:07.369150Z",
     "start_time": "2024-08-17T10:19:07.367438Z"
    },
    "slideshow": {
     "slide_type": "fragment"
    },
    "tags": []
   },
   "outputs": [],
   "source": [
    "BASE_URL = \"https://api.openweathermap.org/data/2.5/forecast?\"\n",
    "CITY = \"Mo i Rana\"\n",
    "\n",
    "urlF = BASE_URL + \"q=\" + CITY + \"&appid=\" + API_KEY"
   ]
  },
  {
   "cell_type": "markdown",
   "metadata": {
    "slideshow": {
     "slide_type": "slide"
    }
   },
   "source": [
    "## Request forecasted weather in chosen city"
   ]
  },
  {
   "cell_type": "code",
   "execution_count": 10,
   "metadata": {
    "ExecuteTime": {
     "end_time": "2024-08-17T10:19:07.505916Z",
     "start_time": "2024-08-17T10:19:07.369779Z"
    },
    "slideshow": {
     "slide_type": "fragment"
    },
    "tags": []
   },
   "outputs": [
    {
     "name": "stdout",
     "output_type": "stream",
     "text": [
      "{'cod': '200', 'message': 0, 'cnt': 40, 'list': [{'dt': 1730322000, 'main': {'temp': 275.55, 'feels_like': 272.28, 'temp_min': 272.54, 'temp_max': 275.55, 'pressure': 1007, 'sea_level': 1007, 'grnd_level': 955, 'humidity': 93, 'temp_kf': 3.01}, 'weather': [{'id': 600, 'main': 'Snow', 'description': 'light snow', 'icon': '13n'}], 'clouds': {'all': 100}, 'wind': {'speed': 3.32, 'deg': 229, 'gust': 2.97}, 'visibility': 1924, 'pop': 0.58, 'snow': {'3h': 0.25}, 'sys': {'pod': 'n'}, 'dt_txt': '2024-10-30 21:00:00'}, {'dt': 1730332800, 'main': {'temp': 275.17, 'feels_like': 271.95, 'temp_min': 274.4, 'temp_max': 275.17, 'pressure': 1007, 'sea_level': 1007, 'grnd_level': 955, 'humidity': 92, 'temp_kf': 0.77}, 'weather': [{'id': 600, 'main': 'Snow', 'description': 'light snow', 'icon': '13n'}], 'clouds': {'all': 88}, 'wind': {'speed': 3.16, 'deg': 233, 'gust': 5.14}, 'visibility': 6790, 'pop': 1, 'snow': {'3h': 1.26}, 'sys': {'pod': 'n'}, 'dt_txt': '2024-10-31 00:00:00'}, {'dt': 1730343600, 'main': {'temp': 274.71, 'feels_like': 271.79, 'temp_min': 274.29, 'temp_max': 274.71, 'pressure': 1006, 'sea_level': 1006, 'grnd_level': 953, 'humidity': 96, 'temp_kf': 0.42}, 'weather': [{'id': 601, 'main': 'Snow', 'description': 'snow', 'icon': '13n'}], 'clouds': {'all': 95}, 'wind': {'speed': 2.7, 'deg': 237, 'gust': 3.88}, 'visibility': 619, 'pop': 1, 'snow': {'3h': 1.91}, 'sys': {'pod': 'n'}, 'dt_txt': '2024-10-31 03:00:00'}, {'dt': 1730354400, 'main': {'temp': 272.68, 'feels_like': 269.87, 'temp_min': 272.68, 'temp_max': 272.68, 'pressure': 1005, 'sea_level': 1005, 'grnd_level': 952, 'humidity': 98, 'temp_kf': 0}, 'weather': [{'id': 600, 'main': 'Snow', 'description': 'light snow', 'icon': '13n'}], 'clouds': {'all': 95}, 'wind': {'speed': 2.23, 'deg': 213, 'gust': 2.02}, 'visibility': 1849, 'pop': 1, 'snow': {'3h': 0.64}, 'sys': {'pod': 'n'}, 'dt_txt': '2024-10-31 06:00:00'}, {'dt': 1730365200, 'main': {'temp': 272.56, 'feels_like': 270.12, 'temp_min': 272.56, 'temp_max': 272.56, 'pressure': 1004, 'sea_level': 1004, 'grnd_level': 952, 'humidity': 98, 'temp_kf': 0}, 'weather': [{'id': 600, 'main': 'Snow', 'description': 'light snow', 'icon': '13d'}], 'clouds': {'all': 86}, 'wind': {'speed': 1.91, 'deg': 222, 'gust': 1.77}, 'visibility': 3744, 'pop': 0.95, 'snow': {'3h': 0.53}, 'sys': {'pod': 'd'}, 'dt_txt': '2024-10-31 09:00:00'}, {'dt': 1730376000, 'main': {'temp': 273.82, 'feels_like': 273.82, 'temp_min': 273.82, 'temp_max': 273.82, 'pressure': 1004, 'sea_level': 1004, 'grnd_level': 952, 'humidity': 95, 'temp_kf': 0}, 'weather': [{'id': 600, 'main': 'Snow', 'description': 'light snow', 'icon': '13d'}], 'clouds': {'all': 94}, 'wind': {'speed': 0.92, 'deg': 229, 'gust': 1.03}, 'visibility': 2255, 'pop': 0.79, 'snow': {'3h': 0.22}, 'sys': {'pod': 'd'}, 'dt_txt': '2024-10-31 12:00:00'}, {'dt': 1730386800, 'main': {'temp': 270.01, 'feels_like': 268.03, 'temp_min': 270.01, 'temp_max': 270.01, 'pressure': 1002, 'sea_level': 1002, 'grnd_level': 949, 'humidity': 94, 'temp_kf': 0}, 'weather': [{'id': 804, 'main': 'Clouds', 'description': 'overcast clouds', 'icon': '04n'}], 'clouds': {'all': 99}, 'wind': {'speed': 1.38, 'deg': 129, 'gust': 2.02}, 'visibility': 10000, 'pop': 0, 'sys': {'pod': 'n'}, 'dt_txt': '2024-10-31 15:00:00'}, {'dt': 1730397600, 'main': {'temp': 269.8, 'feels_like': 266.96, 'temp_min': 269.8, 'temp_max': 269.8, 'pressure': 1000, 'sea_level': 1000, 'grnd_level': 947, 'humidity': 90, 'temp_kf': 0}, 'weather': [{'id': 804, 'main': 'Clouds', 'description': 'overcast clouds', 'icon': '04n'}], 'clouds': {'all': 89}, 'wind': {'speed': 1.88, 'deg': 114, 'gust': 2}, 'visibility': 10000, 'pop': 0, 'sys': {'pod': 'n'}, 'dt_txt': '2024-10-31 18:00:00'}, {'dt': 1730408400, 'main': {'temp': 268.96, 'feels_like': 265.89, 'temp_min': 268.96, 'temp_max': 268.96, 'pressure': 997, 'sea_level': 997, 'grnd_level': 944, 'humidity': 89, 'temp_kf': 0}, 'weather': [{'id': 803, 'main': 'Clouds', 'description': 'broken clouds', 'icon': '04n'}], 'clouds': {'all': 78}, 'wind': {'speed': 1.95, 'deg': 106, 'gust': 2.1}, 'visibility': 10000, 'pop': 0, 'sys': {'pod': 'n'}, 'dt_txt': '2024-10-31 21:00:00'}, {'dt': 1730419200, 'main': {'temp': 268.52, 'feels_like': 266.19, 'temp_min': 268.52, 'temp_max': 268.52, 'pressure': 994, 'sea_level': 994, 'grnd_level': 942, 'humidity': 87, 'temp_kf': 0}, 'weather': [{'id': 804, 'main': 'Clouds', 'description': 'overcast clouds', 'icon': '04n'}], 'clouds': {'all': 90}, 'wind': {'speed': 1.46, 'deg': 57, 'gust': 1.1}, 'visibility': 10000, 'pop': 0, 'sys': {'pod': 'n'}, 'dt_txt': '2024-11-01 00:00:00'}, {'dt': 1730430000, 'main': {'temp': 269.9, 'feels_like': 267.58, 'temp_min': 269.9, 'temp_max': 269.9, 'pressure': 991, 'sea_level': 991, 'grnd_level': 939, 'humidity': 83, 'temp_kf': 0}, 'weather': [{'id': 804, 'main': 'Clouds', 'description': 'overcast clouds', 'icon': '04n'}], 'clouds': {'all': 100}, 'wind': {'speed': 1.56, 'deg': 66, 'gust': 1.22}, 'visibility': 10000, 'pop': 0, 'sys': {'pod': 'n'}, 'dt_txt': '2024-11-01 03:00:00'}, {'dt': 1730440800, 'main': {'temp': 269.37, 'feels_like': 265.59, 'temp_min': 269.37, 'temp_max': 269.37, 'pressure': 987, 'sea_level': 987, 'grnd_level': 935, 'humidity': 87, 'temp_kf': 0}, 'weather': [{'id': 804, 'main': 'Clouds', 'description': 'overcast clouds', 'icon': '04n'}], 'clouds': {'all': 100}, 'wind': {'speed': 2.55, 'deg': 73, 'gust': 2.76}, 'visibility': 10000, 'pop': 0, 'sys': {'pod': 'n'}, 'dt_txt': '2024-11-01 06:00:00'}, {'dt': 1730451600, 'main': {'temp': 271.35, 'feels_like': 268.93, 'temp_min': 271.35, 'temp_max': 271.35, 'pressure': 986, 'sea_level': 986, 'grnd_level': 934, 'humidity': 95, 'temp_kf': 0}, 'weather': [{'id': 601, 'main': 'Snow', 'description': 'snow', 'icon': '13d'}], 'clouds': {'all': 100}, 'wind': {'speed': 1.76, 'deg': 51, 'gust': 1.97}, 'pop': 1, 'snow': {'3h': 2.66}, 'sys': {'pod': 'd'}, 'dt_txt': '2024-11-01 09:00:00'}, {'dt': 1730462400, 'main': {'temp': 272.28, 'feels_like': 270.21, 'temp_min': 272.28, 'temp_max': 272.28, 'pressure': 990, 'sea_level': 990, 'grnd_level': 938, 'humidity': 93, 'temp_kf': 0}, 'weather': [{'id': 601, 'main': 'Snow', 'description': 'snow', 'icon': '13d'}], 'clouds': {'all': 100}, 'wind': {'speed': 1.62, 'deg': 225, 'gust': 1.86}, 'visibility': 3401, 'pop': 1, 'snow': {'3h': 3.46}, 'sys': {'pod': 'd'}, 'dt_txt': '2024-11-01 12:00:00'}, {'dt': 1730473200, 'main': {'temp': 273.75, 'feels_like': 268.93, 'temp_min': 273.75, 'temp_max': 273.75, 'pressure': 996, 'sea_level': 996, 'grnd_level': 944, 'humidity': 94, 'temp_kf': 0}, 'weather': [{'id': 601, 'main': 'Snow', 'description': 'snow', 'icon': '13n'}], 'clouds': {'all': 100}, 'wind': {'speed': 5.09, 'deg': 280, 'gust': 9.34}, 'visibility': 1103, 'pop': 1, 'snow': {'3h': 2.25}, 'sys': {'pod': 'n'}, 'dt_txt': '2024-11-01 15:00:00'}, {'dt': 1730484000, 'main': {'temp': 268.34, 'feels_like': 263.98, 'temp_min': 268.34, 'temp_max': 268.34, 'pressure': 1003, 'sea_level': 1003, 'grnd_level': 950, 'humidity': 93, 'temp_kf': 0}, 'weather': [{'id': 600, 'main': 'Snow', 'description': 'light snow', 'icon': '13n'}], 'clouds': {'all': 83}, 'wind': {'speed': 2.9, 'deg': 234, 'gust': 2.89}, 'visibility': 4499, 'pop': 1, 'snow': {'3h': 1.26}, 'sys': {'pod': 'n'}, 'dt_txt': '2024-11-01 18:00:00'}, {'dt': 1730494800, 'main': {'temp': 270.71, 'feels_like': 266.62, 'temp_min': 270.71, 'temp_max': 270.71, 'pressure': 1006, 'sea_level': 1006, 'grnd_level': 953, 'humidity': 96, 'temp_kf': 0}, 'weather': [{'id': 601, 'main': 'Snow', 'description': 'snow', 'icon': '13n'}], 'clouds': {'all': 88}, 'wind': {'speed': 3.1, 'deg': 229, 'gust': 1.37}, 'visibility': 4672, 'pop': 1, 'snow': {'3h': 1.68}, 'sys': {'pod': 'n'}, 'dt_txt': '2024-11-01 21:00:00'}, {'dt': 1730505600, 'main': {'temp': 267.52, 'feels_like': 263.24, 'temp_min': 267.52, 'temp_max': 267.52, 'pressure': 1010, 'sea_level': 1010, 'grnd_level': 957, 'humidity': 94, 'temp_kf': 0}, 'weather': [{'id': 600, 'main': 'Snow', 'description': 'light snow', 'icon': '13n'}], 'clouds': {'all': 66}, 'wind': {'speed': 2.68, 'deg': 207, 'gust': 1.69}, 'visibility': 4405, 'pop': 1, 'snow': {'3h': 0.88}, 'sys': {'pod': 'n'}, 'dt_txt': '2024-11-02 00:00:00'}, {'dt': 1730516400, 'main': {'temp': 272.32, 'feels_like': 268.74, 'temp_min': 272.32, 'temp_max': 272.32, 'pressure': 1013, 'sea_level': 1013, 'grnd_level': 960, 'humidity': 97, 'temp_kf': 0}, 'weather': [{'id': 601, 'main': 'Snow', 'description': 'snow', 'icon': '13n'}], 'clouds': {'all': 80}, 'wind': {'speed': 2.91, 'deg': 238, 'gust': 2.66}, 'visibility': 460, 'pop': 1, 'snow': {'3h': 2.21}, 'sys': {'pod': 'n'}, 'dt_txt': '2024-11-02 03:00:00'}, {'dt': 1730527200, 'main': {'temp': 270.86, 'feels_like': 267.12, 'temp_min': 270.86, 'temp_max': 270.86, 'pressure': 1015, 'sea_level': 1015, 'grnd_level': 962, 'humidity': 94, 'temp_kf': 0}, 'weather': [{'id': 600, 'main': 'Snow', 'description': 'light snow', 'icon': '13n'}], 'clouds': {'all': 85}, 'wind': {'speed': 2.78, 'deg': 207, 'gust': 1.33}, 'visibility': 10000, 'pop': 1, 'snow': {'3h': 1.16}, 'sys': {'pod': 'n'}, 'dt_txt': '2024-11-02 06:00:00'}, {'dt': 1730538000, 'main': {'temp': 273.67, 'feels_like': 269.98, 'temp_min': 273.67, 'temp_max': 273.67, 'pressure': 1017, 'sea_level': 1017, 'grnd_level': 964, 'humidity': 97, 'temp_kf': 0}, 'weather': [{'id': 601, 'main': 'Snow', 'description': 'snow', 'icon': '13d'}], 'clouds': {'all': 100}, 'wind': {'speed': 3.36, 'deg': 244, 'gust': 6.15}, 'visibility': 562, 'pop': 1, 'snow': {'3h': 1.85}, 'sys': {'pod': 'd'}, 'dt_txt': '2024-11-02 09:00:00'}, {'dt': 1730548800, 'main': {'temp': 273.76, 'feels_like': 269.81, 'temp_min': 273.76, 'temp_max': 273.76, 'pressure': 1018, 'sea_level': 1018, 'grnd_level': 965, 'humidity': 94, 'temp_kf': 0}, 'weather': [{'id': 601, 'main': 'Snow', 'description': 'snow', 'icon': '13d'}], 'clouds': {'all': 100}, 'wind': {'speed': 3.73, 'deg': 232, 'gust': 7.41}, 'visibility': 1288, 'pop': 1, 'snow': {'3h': 1.63}, 'sys': {'pod': 'd'}, 'dt_txt': '2024-11-02 12:00:00'}, {'dt': 1730559600, 'main': {'temp': 274.13, 'feels_like': 269.6, 'temp_min': 274.13, 'temp_max': 274.13, 'pressure': 1016, 'sea_level': 1016, 'grnd_level': 963, 'humidity': 97, 'temp_kf': 0}, 'weather': [{'id': 601, 'main': 'Snow', 'description': 'snow', 'icon': '13n'}], 'clouds': {'all': 100}, 'wind': {'speed': 4.75, 'deg': 248, 'gust': 10.57}, 'visibility': 224, 'pop': 1, 'snow': {'3h': 3.15}, 'sys': {'pod': 'n'}, 'dt_txt': '2024-11-02 15:00:00'}, {'dt': 1730570400, 'main': {'temp': 274.48, 'feels_like': 270.57, 'temp_min': 274.48, 'temp_max': 274.48, 'pressure': 1014, 'sea_level': 1014, 'grnd_level': 961, 'humidity': 98, 'temp_kf': 0}, 'weather': [{'id': 601, 'main': 'Snow', 'description': 'snow', 'icon': '13n'}], 'clouds': {'all': 100}, 'wind': {'speed': 3.9, 'deg': 237, 'gust': 8.91}, 'visibility': 198, 'pop': 1, 'snow': {'3h': 2.02}, 'sys': {'pod': 'n'}, 'dt_txt': '2024-11-02 18:00:00'}, {'dt': 1730581200, 'main': {'temp': 274.57, 'feels_like': 272.09, 'temp_min': 274.57, 'temp_max': 274.57, 'pressure': 1010, 'sea_level': 1010, 'grnd_level': 958, 'humidity': 98, 'temp_kf': 0}, 'weather': [{'id': 601, 'main': 'Snow', 'description': 'snow', 'icon': '13n'}], 'clouds': {'all': 100}, 'wind': {'speed': 2.23, 'deg': 204, 'gust': 2.59}, 'visibility': 122, 'pop': 1, 'snow': {'3h': 2.87}, 'sys': {'pod': 'n'}, 'dt_txt': '2024-11-02 21:00:00'}, {'dt': 1730592000, 'main': {'temp': 274.33, 'feels_like': 272.09, 'temp_min': 274.33, 'temp_max': 274.33, 'pressure': 1003, 'sea_level': 1003, 'grnd_level': 951, 'humidity': 98, 'temp_kf': 0}, 'weather': [{'id': 601, 'main': 'Snow', 'description': 'snow', 'icon': '13n'}], 'clouds': {'all': 100}, 'wind': {'speed': 1.98, 'deg': 111, 'gust': 2.25}, 'visibility': 117, 'pop': 1, 'snow': {'3h': 5.05}, 'sys': {'pod': 'n'}, 'dt_txt': '2024-11-03 00:00:00'}, {'dt': 1730602800, 'main': {'temp': 273.83, 'feels_like': 270.64, 'temp_min': 273.83, 'temp_max': 273.83, 'pressure': 998, 'sea_level': 998, 'grnd_level': 946, 'humidity': 98, 'temp_kf': 0}, 'weather': [{'id': 601, 'main': 'Snow', 'description': 'snow', 'icon': '13n'}], 'clouds': {'all': 100}, 'wind': {'speed': 2.8, 'deg': 58, 'gust': 3.18}, 'visibility': 125, 'pop': 1, 'snow': {'3h': 8.61}, 'sys': {'pod': 'n'}, 'dt_txt': '2024-11-03 03:00:00'}, {'dt': 1730613600, 'main': {'temp': 273.36, 'feels_like': 273.36, 'temp_min': 273.36, 'temp_max': 273.36, 'pressure': 1002, 'sea_level': 1002, 'grnd_level': 950, 'humidity': 97, 'temp_kf': 0}, 'weather': [{'id': 601, 'main': 'Snow', 'description': 'snow', 'icon': '13n'}], 'clouds': {'all': 100}, 'wind': {'speed': 0.72, 'deg': 27, 'gust': 0.67}, 'visibility': 5682, 'pop': 1, 'snow': {'3h': 4.92}, 'sys': {'pod': 'n'}, 'dt_txt': '2024-11-03 06:00:00'}, {'dt': 1730624400, 'main': {'temp': 269.89, 'feels_like': 267.8, 'temp_min': 269.89, 'temp_max': 269.89, 'pressure': 1009, 'sea_level': 1009, 'grnd_level': 956, 'humidity': 96, 'temp_kf': 0}, 'weather': [{'id': 803, 'main': 'Clouds', 'description': 'broken clouds', 'icon': '04d'}], 'clouds': {'all': 66}, 'wind': {'speed': 1.43, 'deg': 234, 'gust': 1.76}, 'visibility': 4421, 'pop': 0, 'sys': {'pod': 'd'}, 'dt_txt': '2024-11-03 09:00:00'}, {'dt': 1730635200, 'main': {'temp': 275.45, 'feels_like': 273.13, 'temp_min': 275.45, 'temp_max': 275.45, 'pressure': 1010, 'sea_level': 1010, 'grnd_level': 958, 'humidity': 99, 'temp_kf': 0}, 'weather': [{'id': 600, 'main': 'Snow', 'description': 'light snow', 'icon': '13d'}], 'clouds': {'all': 81}, 'wind': {'speed': 2.22, 'deg': 219, 'gust': 3.36}, 'visibility': 69, 'pop': 0.89, 'snow': {'3h': 0.79}, 'sys': {'pod': 'd'}, 'dt_txt': '2024-11-03 12:00:00'}, {'dt': 1730646000, 'main': {'temp': 275.65, 'feels_like': 272.73, 'temp_min': 275.65, 'temp_max': 275.65, 'pressure': 1014, 'sea_level': 1014, 'grnd_level': 962, 'humidity': 98, 'temp_kf': 0}, 'weather': [{'id': 601, 'main': 'Snow', 'description': 'snow', 'icon': '13n'}], 'clouds': {'all': 99}, 'wind': {'speed': 2.9, 'deg': 287, 'gust': 3.68}, 'visibility': 66, 'pop': 1, 'snow': {'3h': 1.84}, 'sys': {'pod': 'n'}, 'dt_txt': '2024-11-03 15:00:00'}, {'dt': 1730656800, 'main': {'temp': 271.63, 'feels_like': 268.59, 'temp_min': 271.63, 'temp_max': 271.63, 'pressure': 1017, 'sea_level': 1017, 'grnd_level': 964, 'humidity': 97, 'temp_kf': 0}, 'weather': [{'id': 600, 'main': 'Snow', 'description': 'light snow', 'icon': '13n'}], 'clouds': {'all': 95}, 'wind': {'speed': 2.27, 'deg': 232, 'gust': 2.19}, 'visibility': 2732, 'pop': 1, 'snow': {'3h': 0.17}, 'sys': {'pod': 'n'}, 'dt_txt': '2024-11-03 18:00:00'}, {'dt': 1730667600, 'main': {'temp': 273.22, 'feels_like': 270, 'temp_min': 273.22, 'temp_max': 273.22, 'pressure': 1018, 'sea_level': 1018, 'grnd_level': 965, 'humidity': 97, 'temp_kf': 0}, 'weather': [{'id': 600, 'main': 'Snow', 'description': 'light snow', 'icon': '13n'}], 'clouds': {'all': 98}, 'wind': {'speed': 2.71, 'deg': 222, 'gust': 2.25}, 'visibility': 2206, 'pop': 1, 'snow': {'3h': 1.31}, 'sys': {'pod': 'n'}, 'dt_txt': '2024-11-03 21:00:00'}, {'dt': 1730678400, 'main': {'temp': 268.42, 'feels_like': 264.85, 'temp_min': 268.42, 'temp_max': 268.42, 'pressure': 1022, 'sea_level': 1022, 'grnd_level': 968, 'humidity': 94, 'temp_kf': 0}, 'weather': [{'id': 600, 'main': 'Snow', 'description': 'light snow', 'icon': '13n'}], 'clouds': {'all': 78}, 'wind': {'speed': 2.24, 'deg': 223, 'gust': 2.23}, 'visibility': 10000, 'pop': 1, 'snow': {'3h': 0.35}, 'sys': {'pod': 'n'}, 'dt_txt': '2024-11-04 00:00:00'}, {'dt': 1730689200, 'main': {'temp': 266.99, 'feels_like': 264.04, 'temp_min': 266.99, 'temp_max': 266.99, 'pressure': 1023, 'sea_level': 1023, 'grnd_level': 969, 'humidity': 89, 'temp_kf': 0}, 'weather': [{'id': 600, 'main': 'Snow', 'description': 'light snow', 'icon': '13n'}], 'clouds': {'all': 53}, 'wind': {'speed': 1.68, 'deg': 189, 'gust': 1.88}, 'visibility': 10000, 'pop': 0.2, 'snow': {'3h': 0.13}, 'sys': {'pod': 'n'}, 'dt_txt': '2024-11-04 03:00:00'}, {'dt': 1730700000, 'main': {'temp': 266.25, 'feels_like': 266.25, 'temp_min': 266.25, 'temp_max': 266.25, 'pressure': 1024, 'sea_level': 1024, 'grnd_level': 969, 'humidity': 86, 'temp_kf': 0}, 'weather': [{'id': 600, 'main': 'Snow', 'description': 'light snow', 'icon': '13n'}], 'clouds': {'all': 51}, 'wind': {'speed': 1.31, 'deg': 171, 'gust': 1.64}, 'visibility': 10000, 'pop': 0.2, 'snow': {'3h': 0.16}, 'sys': {'pod': 'n'}, 'dt_txt': '2024-11-04 06:00:00'}, {'dt': 1730710800, 'main': {'temp': 268.62, 'feels_like': 268.62, 'temp_min': 268.62, 'temp_max': 268.62, 'pressure': 1024, 'sea_level': 1024, 'grnd_level': 970, 'humidity': 96, 'temp_kf': 0}, 'weather': [{'id': 600, 'main': 'Snow', 'description': 'light snow', 'icon': '13d'}], 'clouds': {'all': 85}, 'wind': {'speed': 0.65, 'deg': 169, 'gust': 0.38}, 'visibility': 6545, 'pop': 0.5, 'snow': {'3h': 0.27}, 'sys': {'pod': 'd'}, 'dt_txt': '2024-11-04 09:00:00'}, {'dt': 1730721600, 'main': {'temp': 272.83, 'feels_like': 272.83, 'temp_min': 272.83, 'temp_max': 272.83, 'pressure': 1023, 'sea_level': 1023, 'grnd_level': 970, 'humidity': 99, 'temp_kf': 0}, 'weather': [{'id': 600, 'main': 'Snow', 'description': 'light snow', 'icon': '13d'}], 'clouds': {'all': 92}, 'wind': {'speed': 0.67, 'deg': 262, 'gust': 1.34}, 'visibility': 445, 'pop': 0.62, 'snow': {'3h': 0.38}, 'sys': {'pod': 'd'}, 'dt_txt': '2024-11-04 12:00:00'}, {'dt': 1730732400, 'main': {'temp': 273.39, 'feels_like': 273.39, 'temp_min': 273.39, 'temp_max': 273.39, 'pressure': 1023, 'sea_level': 1023, 'grnd_level': 970, 'humidity': 98, 'temp_kf': 0}, 'weather': [{'id': 600, 'main': 'Snow', 'description': 'light snow', 'icon': '13n'}], 'clouds': {'all': 97}, 'wind': {'speed': 0.79, 'deg': 277, 'gust': 0.9}, 'visibility': 274, 'pop': 0.92, 'snow': {'3h': 0.36}, 'sys': {'pod': 'n'}, 'dt_txt': '2024-11-04 15:00:00'}, {'dt': 1730743200, 'main': {'temp': 271.33, 'feels_like': 271.33, 'temp_min': 271.33, 'temp_max': 271.33, 'pressure': 1023, 'sea_level': 1023, 'grnd_level': 969, 'humidity': 98, 'temp_kf': 0}, 'weather': [{'id': 600, 'main': 'Snow', 'description': 'light snow', 'icon': '13n'}], 'clouds': {'all': 99}, 'wind': {'speed': 0.73, 'deg': 85, 'gust': 0.6}, 'visibility': 434, 'pop': 0.99, 'snow': {'3h': 0.54}, 'sys': {'pod': 'n'}, 'dt_txt': '2024-11-04 18:00:00'}], 'city': {'id': 3145614, 'name': 'Mo i Rana', 'coord': {'lat': 66.3128, 'lon': 14.1428}, 'country': 'NO', 'population': 17853, 'timezone': 3600, 'sunrise': 1730271256, 'sunset': 1730299183}}\n"
     ]
    }
   ],
   "source": [
    "responseF = requests.get(urlF).json()\n",
    "#print(json.dumps(responseF, indent=4))\n",
    "print(responseF)"
   ]
  },
  {
   "cell_type": "code",
   "execution_count": 11,
   "metadata": {
    "ExecuteTime": {
     "end_time": "2024-08-17T10:19:07.510514Z",
     "start_time": "2024-08-17T10:19:07.506586Z"
    },
    "slideshow": {
     "slide_type": "slide"
    },
    "tags": []
   },
   "outputs": [],
   "source": [
    "# Write JSON to file for viewing\n",
    "with open('downloads/forecast.json', 'w') as f:\n",
    "    json.dump(responseF, f, indent=4)"
   ]
  },
  {
   "cell_type": "markdown",
   "metadata": {
    "slideshow": {
     "slide_type": "slide"
    }
   },
   "source": [
    "### When and what?\n",
    "Check contents and time stamps"
   ]
  },
  {
   "cell_type": "code",
   "execution_count": 12,
   "metadata": {
    "ExecuteTime": {
     "end_time": "2024-08-17T10:19:07.514214Z",
     "start_time": "2024-08-17T10:19:07.511162Z"
    },
    "slideshow": {
     "slide_type": "fragment"
    },
    "tags": []
   },
   "outputs": [
    {
     "data": {
      "text/plain": [
       "dict_keys(['cod', 'message', 'cnt', 'list', 'city'])"
      ]
     },
     "execution_count": 12,
     "metadata": {},
     "output_type": "execute_result"
    }
   ],
   "source": [
    "# Content of responseF\n",
    "responseF.keys()"
   ]
  },
  {
   "cell_type": "code",
   "execution_count": 13,
   "metadata": {
    "ExecuteTime": {
     "end_time": "2024-08-17T10:19:07.516813Z",
     "start_time": "2024-08-17T10:19:07.514918Z"
    },
    "slideshow": {
     "slide_type": "fragment"
    },
    "tags": []
   },
   "outputs": [
    {
     "name": "stdout",
     "output_type": "stream",
     "text": [
      "40\n"
     ]
    }
   ],
   "source": [
    "# Number of forecasts\n",
    "print(len(responseF[\"list\"]))"
   ]
  },
  {
   "cell_type": "code",
   "execution_count": 14,
   "metadata": {
    "ExecuteTime": {
     "end_time": "2024-08-17T10:19:07.520443Z",
     "start_time": "2024-08-17T10:19:07.518884Z"
    },
    "slideshow": {
     "slide_type": "slide"
    },
    "tags": []
   },
   "outputs": [
    {
     "name": "stdout",
     "output_type": "stream",
     "text": [
      "2024-10-30 21:00:00\n",
      "2024-10-31 00:00:00\n",
      "2024-10-31 03:00:00\n",
      "2024-10-31 06:00:00\n",
      "2024-10-31 09:00:00\n",
      "2024-10-31 12:00:00\n",
      "2024-10-31 15:00:00\n",
      "2024-10-31 18:00:00\n",
      "2024-10-31 21:00:00\n",
      "2024-11-01 00:00:00\n",
      "2024-11-01 03:00:00\n",
      "2024-11-01 06:00:00\n",
      "2024-11-01 09:00:00\n",
      "2024-11-01 12:00:00\n",
      "2024-11-01 15:00:00\n",
      "2024-11-01 18:00:00\n",
      "2024-11-01 21:00:00\n",
      "2024-11-02 00:00:00\n",
      "2024-11-02 03:00:00\n",
      "2024-11-02 06:00:00\n",
      "2024-11-02 09:00:00\n",
      "2024-11-02 12:00:00\n",
      "2024-11-02 15:00:00\n",
      "2024-11-02 18:00:00\n",
      "2024-11-02 21:00:00\n",
      "2024-11-03 00:00:00\n",
      "2024-11-03 03:00:00\n",
      "2024-11-03 06:00:00\n",
      "2024-11-03 09:00:00\n",
      "2024-11-03 12:00:00\n",
      "2024-11-03 15:00:00\n",
      "2024-11-03 18:00:00\n",
      "2024-11-03 21:00:00\n",
      "2024-11-04 00:00:00\n",
      "2024-11-04 03:00:00\n",
      "2024-11-04 06:00:00\n",
      "2024-11-04 09:00:00\n",
      "2024-11-04 12:00:00\n",
      "2024-11-04 15:00:00\n",
      "2024-11-04 18:00:00\n"
     ]
    }
   ],
   "source": [
    "# Print forecast times\n",
    "for forecast in responseF[\"list\"]:\n",
    "    print(forecast[\"dt_txt\"])"
   ]
  },
  {
   "cell_type": "markdown",
   "metadata": {
    "slideshow": {
     "slide_type": "slide"
    }
   },
   "source": [
    "## Make plots of omnipresent measurements and events\n",
    "We will later look at missing data, data only sporadically appearing and so on."
   ]
  },
  {
   "cell_type": "code",
   "execution_count": 15,
   "metadata": {
    "ExecuteTime": {
     "end_time": "2024-08-17T10:19:07.522603Z",
     "start_time": "2024-08-17T10:19:07.521029Z"
    },
    "slideshow": {
     "slide_type": "fragment"
    },
    "tags": []
   },
   "outputs": [],
   "source": [
    "# Air pressure per period\n",
    "pressures = []\n",
    "timestamps = []\n",
    "for forecast in responseF[\"list\"]:\n",
    "    pressures.append(forecast[\"main\"][\"pressure\"])\n",
    "    timestamps.append(dt.datetime.fromtimestamp(forecast[\"dt\"]))"
   ]
  },
  {
   "cell_type": "code",
   "execution_count": 16,
   "metadata": {
    "ExecuteTime": {
     "end_time": "2024-08-17T10:19:08.124779Z",
     "start_time": "2024-08-17T10:19:07.523100Z"
    },
    "slideshow": {
     "slide_type": "slide"
    },
    "tags": []
   },
   "outputs": [
    {
     "data": {
      "image/png": "[encoded data removed]",
      "text/plain": [
       "<Figure size 640x480 with 1 Axes>"
      ]
     },
     "metadata": {},
     "output_type": "display_data"
    }
   ],
   "source": [
    "import matplotlib.pyplot as plt\n",
    "plt.bar(timestamps, pressures)\n",
    "plt.xticks(rotation=45)\n",
    "plt.ylim(980, 1050)\n",
    "plt.grid()\n",
    "plt.ylabel(\"Air pressure (hPa)\")\n",
    "plt.title(f\"Forecasted air pressure in {CITY}\")\n",
    "plt.show()"
   ]
  },
  {
   "cell_type": "markdown",
   "metadata": {
    "slideshow": {
     "slide_type": "slide"
    }
   },
   "source": [
    "## Exercise\n",
    "- Make a new forecast request for your own hometown. Call your response something else than responseF.\n",
    "- If available, plot the humidity like we did with air pressure."
   ]
  },
  {
   "cell_type": "markdown",
   "metadata": {
    "slideshow": {
     "slide_type": "slide"
    }
   },
   "source": [
    "### Precipitation\n",
    "- ... comes in two main flavours: rain and snow.\n",
    "- We need to check which is present and set to zero if it is abscent."
   ]
  },
  {
   "cell_type": "code",
   "execution_count": 17,
   "metadata": {
    "ExecuteTime": {
     "end_time": "2024-08-17T10:19:08.128573Z",
     "start_time": "2024-08-17T10:19:08.125858Z"
    },
    "slideshow": {
     "slide_type": "fragment"
    },
    "tags": []
   },
   "outputs": [],
   "source": [
    "rain = []\n",
    "snow = []\n",
    "for forecast in responseF[\"list\"]:\n",
    "    try: # Check if rain is present in forecast\n",
    "        rain.append(forecast[\"rain\"][\"3h\"])\n",
    "    except KeyError:\n",
    "        rain.append(0)\n",
    "    try: # Check if snow is present in forecast\n",
    "        snow.append(forecast[\"snow\"][\"3h\"])\n",
    "    except KeyError:\n",
    "        snow.append(0)"
   ]
  },
  {
   "cell_type": "code",
   "execution_count": 18,
   "metadata": {
    "ExecuteTime": {
     "end_time": "2024-08-17T10:19:08.223315Z",
     "start_time": "2024-08-17T10:19:08.129282Z"
    },
    "slideshow": {
     "slide_type": "slide"
    },
    "tags": []
   },
   "outputs": [
    {
     "data": {
      "image/png": "[encoded data removed]",
      "text/plain": [
       "<Figure size 640x480 with 1 Axes>"
      ]
     },
     "metadata": {},
     "output_type": "display_data"
    }
   ],
   "source": [
    "# Stacked bar chart with rain and snow\n",
    "plt.bar(timestamps, rain, label=\"Rain\")\n",
    "plt.bar(timestamps, snow, label=\"Snow\")\n",
    "plt.xticks(rotation=45)\n",
    "plt.grid()\n",
    "plt.ylabel(\"Precipitation (mm)\")\n",
    "plt.title(f\"Forecasted precipitation in {CITY}\")\n",
    "plt.legend()\n",
    "plt.show()\n"
   ]
  },
  {
   "cell_type": "markdown",
   "metadata": {
    "slideshow": {
     "slide_type": "slide"
    }
   },
   "source": [
    "```{seealso} Resources\n",
    ":class: tip\n",
    "- [YouTube: NeuralNine's video (15m:32s)](https://www.youtube.com/watch?v=9P5MY_2i7K8)\n",
    "```"
   ]
  }
 ],
 "metadata": {
  "celltoolbar": "Slideshow",
  "kernelspec": {
   "display_name": "Python 3 (ipykernel)",
   "language": "python",
   "name": "python3"
  },
  "language_info": {
   "codemirror_mode": {
    "name": "ipython",
    "version": 3
   },
   "file_extension": ".py",
   "mimetype": "text/x-python",
   "name": "python",
   "nbconvert_exporter": "python",
   "pygments_lexer": "ipython3",
   "version": "3.12.4"
  }
 },
 "nbformat": 4,
 "nbformat_minor": 4
}