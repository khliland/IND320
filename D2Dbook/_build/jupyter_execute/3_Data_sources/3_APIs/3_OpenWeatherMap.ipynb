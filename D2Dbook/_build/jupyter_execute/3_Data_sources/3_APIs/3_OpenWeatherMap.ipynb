{
 "cells": [
  {
   "cell_type": "markdown",
   "metadata": {
    "slideshow": {
     "slide_type": "slide"
    }
   },
   "source": [
    "# Demonstration of API using OpenWeatherMap.org\n",
    "This demonstration is heavily inspired by [NeuralNine's video](https://www.youtube.com/watch?v=9P5MY_2i7K8).  \n",
    "You need a free account [from here](https://openweathermap.org/api).  \n",
    "The VS Code extension _JSON viewer_ is recommended for viewing downloaded JSON content.  \n",
    "  - Set your maximum API calls to 1000 per day to make sure you are under the limit for billing. \n",
    "  - To run the examples, download your API key, save it in the right folder (see below) in a file called _api\\_key\\_OpenWeather_, containing only the key (no spaces or \"enters\")."
   ]
  },
  {
   "cell_type": "code",
   "execution_count": 1,
   "metadata": {
    "ExecuteTime": {
     "end_time": "2024-08-17T10:19:06.946392Z",
     "start_time": "2024-08-17T10:19:06.887177Z"
    },
    "slideshow": {
     "slide_type": "fragment"
    },
    "tags": []
   },
   "outputs": [],
   "source": [
    "# Imports\n",
    "import datetime as dt\n",
    "import requests\n",
    "import json"
   ]
  },
  {
   "cell_type": "markdown",
   "metadata": {
    "slideshow": {
     "slide_type": "slide"
    }
   },
   "source": [
    "## Current weather\n",
    "### Common definitions to use for all requests"
   ]
  },
  {
   "cell_type": "code",
   "execution_count": 2,
   "metadata": {
    "ExecuteTime": {
     "end_time": "2024-08-17T10:19:06.950734Z",
     "start_time": "2024-08-17T10:19:06.948129Z"
    },
    "slideshow": {
     "slide_type": "fragment"
    },
    "tags": []
   },
   "outputs": [],
   "source": [
    "BASE_URL = \"http://api.openweathermap.org/data/2.5/weather?\"\n",
    "API_KEY = open('../../../No_sync/api_key_OpenWeather','r').read()\n",
    "CITY = \"Ski\"\n",
    "\n",
    "url = BASE_URL + \"q=\" + CITY + \"&appid=\" + API_KEY"
   ]
  },
  {
   "cell_type": "markdown",
   "metadata": {
    "slideshow": {
     "slide_type": "slide"
    }
   },
   "source": [
    "## Request current weather in chosen city"
   ]
  },
  {
   "cell_type": "code",
   "execution_count": 3,
   "metadata": {
    "ExecuteTime": {
     "end_time": "2024-08-17T10:19:07.346472Z",
     "start_time": "2024-08-17T10:19:06.951363Z"
    },
    "slideshow": {
     "slide_type": "fragment"
    },
    "tags": []
   },
   "outputs": [
    {
     "name": "stdout",
     "output_type": "stream",
     "text": [
      "{'coord': {'lon': 10.8358, 'lat': 59.7195}, 'weather': [{'id': 804, 'main': 'Clouds', 'description': 'overcast clouds', 'icon': '04d'}], 'base': 'stations', 'main': {'temp': 283.59, 'feels_like': 283.3, 'temp_min': 283.59, 'temp_max': 284.44, 'pressure': 1000, 'humidity': 100, 'sea_level': 1000, 'grnd_level': 985}, 'visibility': 10000, 'wind': {'speed': 1.66, 'deg': 111, 'gust': 3.2}, 'clouds': {'all': 100}, 'dt': 1757920920, 'sys': {'type': 2, 'id': 2006772, 'country': 'NO', 'sunrise': 1757911497, 'sunset': 1757957941}, 'timezone': 7200, 'id': 3139081, 'name': 'Ski', 'cod': 200}\n"
     ]
    }
   ],
   "source": [
    "response = requests.get(url).json()\n",
    "print(response)"
   ]
  },
  {
   "cell_type": "code",
   "execution_count": 4,
   "metadata": {
    "ExecuteTime": {
     "end_time": "2024-08-17T10:19:07.356894Z",
     "start_time": "2024-08-17T10:19:07.353047Z"
    },
    "slideshow": {
     "slide_type": "fragment"
    },
    "tags": []
   },
   "outputs": [],
   "source": [
    "# Write JSON to file for viewing\n",
    "with open('downloads/weather.json', 'w') as f:\n",
    "    json.dump(response, f, indent=4)"
   ]
  },
  {
   "cell_type": "markdown",
   "metadata": {
    "slideshow": {
     "slide_type": "slide"
    }
   },
   "source": [
    "## Conversion functions\n",
    "Changing scales can make results more interpretable"
   ]
  },
  {
   "cell_type": "code",
   "execution_count": 5,
   "metadata": {
    "ExecuteTime": {
     "end_time": "2024-08-17T10:19:07.360029Z",
     "start_time": "2024-08-17T10:19:07.358341Z"
    },
    "slideshow": {
     "slide_type": "fragment"
    },
    "tags": []
   },
   "outputs": [],
   "source": [
    "# Kelvin to Celsius\n",
    "def kelvin_to_celsius(temp):\n",
    "    return temp - 273.15\n",
    "\n",
    "# Meters per second to knots\n",
    "def mps_to_knots(speed):\n",
    "    return speed * 1.943844"
   ]
  },
  {
   "cell_type": "markdown",
   "metadata": {
    "slideshow": {
     "slide_type": "slide"
    }
   },
   "source": [
    "## Print some weather properties"
   ]
  },
  {
   "cell_type": "code",
   "execution_count": 6,
   "metadata": {
    "ExecuteTime": {
     "end_time": "2024-08-17T10:19:07.362209Z",
     "start_time": "2024-08-17T10:19:07.360604Z"
    },
    "slideshow": {
     "slide_type": "fragment"
    },
    "tags": []
   },
   "outputs": [
    {
     "name": "stdout",
     "output_type": "stream",
     "text": [
      "The current temperature in Ski is 10.4 °C\n"
     ]
    }
   ],
   "source": [
    "# Current temperature\n",
    "temp_kelvin = response['main']['temp']\n",
    "temp_celsius = kelvin_to_celsius(temp_kelvin)\n",
    "print(f\"The current temperature in {CITY} is {temp_celsius:.1f} °C\")"
   ]
  },
  {
   "cell_type": "code",
   "execution_count": 7,
   "metadata": {
    "ExecuteTime": {
     "end_time": "2024-08-17T10:19:07.364358Z",
     "start_time": "2024-08-17T10:19:07.362759Z"
    },
    "slideshow": {
     "slide_type": "slide"
    },
    "tags": []
   },
   "outputs": [
    {
     "name": "stdout",
     "output_type": "stream",
     "text": [
      "Sunrise today is at 06:44 and sunset is at 19:39\n"
     ]
    }
   ],
   "source": [
    "# Sunrise and sunset today in local time\n",
    "sunrise = dt.datetime.fromtimestamp(response['sys']['sunrise'])\n",
    "sunset = dt.datetime.fromtimestamp(response['sys']['sunset'])\n",
    "print(f\"Sunrise today is at {sunrise:%H:%M} and sunset is at {sunset:%H:%M}\")"
   ]
  },
  {
   "cell_type": "code",
   "execution_count": 8,
   "metadata": {
    "ExecuteTime": {
     "end_time": "2024-08-17T10:19:07.367002Z",
     "start_time": "2024-08-17T10:19:07.365133Z"
    },
    "slideshow": {
     "slide_type": "fragment"
    },
    "tags": []
   },
   "outputs": [
    {
     "name": "stdout",
     "output_type": "stream",
     "text": [
      "Wind today is from 111° at 3.2 knots\n"
     ]
    }
   ],
   "source": [
    "# Wind direction and speed\n",
    "wind_knots = mps_to_knots(response['wind']['speed'])\n",
    "print(f\"Wind today is from {response['wind']['deg']}° at {round(wind_knots,1)} knots\")"
   ]
  },
  {
   "cell_type": "markdown",
   "metadata": {
    "slideshow": {
     "slide_type": "slide"
    }
   },
   "source": [
    "## Forecasted weather\n",
    "### Common definitions to use for all requests"
   ]
  },
  {
   "cell_type": "code",
   "execution_count": 9,
   "metadata": {
    "ExecuteTime": {
     "end_time": "2024-08-17T10:19:07.369150Z",
     "start_time": "2024-08-17T10:19:07.367438Z"
    },
    "slideshow": {
     "slide_type": "fragment"
    },
    "tags": []
   },
   "outputs": [],
   "source": [
    "BASE_URL = \"https://api.openweathermap.org/data/2.5/forecast?\"\n",
    "CITY = \"Mo i Rana\"\n",
    "\n",
    "urlF = BASE_URL + \"q=\" + CITY + \"&appid=\" + API_KEY"
   ]
  },
  {
   "cell_type": "markdown",
   "metadata": {
    "slideshow": {
     "slide_type": "slide"
    }
   },
   "source": [
    "## Request forecasted weather in chosen city"
   ]
  },
  {
   "cell_type": "code",
   "execution_count": 10,
   "metadata": {
    "ExecuteTime": {
     "end_time": "2024-08-17T10:19:07.505916Z",
     "start_time": "2024-08-17T10:19:07.369779Z"
    },
    "slideshow": {
     "slide_type": "fragment"
    },
    "tags": []
   },
   "outputs": [
    {
     "name": "stdout",
     "output_type": "stream",
     "text": [
      "{'cod': '200', 'message': 0, 'cnt': 40, 'list': [{'dt': 1757926800, 'main': {'temp': 287.18, 'feels_like': 286.6, 'temp_min': 287.18, 'temp_max': 288.23, 'pressure': 1007, 'sea_level': 1007, 'grnd_level': 956, 'humidity': 75, 'temp_kf': -1.05}, 'weather': [{'id': 803, 'main': 'Clouds', 'description': 'broken clouds', 'icon': '04d'}], 'clouds': {'all': 83}, 'wind': {'speed': 5.18, 'deg': 83, 'gust': 10.2}, 'visibility': 10000, 'pop': 0, 'sys': {'pod': 'd'}, 'dt_txt': '2025-09-15 09:00:00'}, {'dt': 1757937600, 'main': {'temp': 287.65, 'feels_like': 286.98, 'temp_min': 287.65, 'temp_max': 288.14, 'pressure': 1004, 'sea_level': 1004, 'grnd_level': 953, 'humidity': 70, 'temp_kf': -0.49}, 'weather': [{'id': 804, 'main': 'Clouds', 'description': 'overcast clouds', 'icon': '04d'}], 'clouds': {'all': 92}, 'wind': {'speed': 4.35, 'deg': 66, 'gust': 9.44}, 'visibility': 10000, 'pop': 0, 'sys': {'pod': 'd'}, 'dt_txt': '2025-09-15 12:00:00'}, {'dt': 1757948400, 'main': {'temp': 285.59, 'feels_like': 285.14, 'temp_min': 285.59, 'temp_max': 285.59, 'pressure': 999, 'sea_level': 999, 'grnd_level': 950, 'humidity': 86, 'temp_kf': 0}, 'weather': [{'id': 500, 'main': 'Rain', 'description': 'light rain', 'icon': '10d'}], 'clouds': {'all': 100}, 'wind': {'speed': 3.05, 'deg': 50, 'gust': 7.77}, 'visibility': 10000, 'pop': 1, 'rain': {'3h': 1.51}, 'sys': {'pod': 'd'}, 'dt_txt': '2025-09-15 15:00:00'}, {'dt': 1757959200, 'main': {'temp': 285.1, 'feels_like': 284.65, 'temp_min': 285.1, 'temp_max': 285.1, 'pressure': 997, 'sea_level': 997, 'grnd_level': 947, 'humidity': 88, 'temp_kf': 0}, 'weather': [{'id': 500, 'main': 'Rain', 'description': 'light rain', 'icon': '10n'}], 'clouds': {'all': 100}, 'wind': {'speed': 2.9, 'deg': 55, 'gust': 5.33}, 'visibility': 10000, 'pop': 1, 'rain': {'3h': 1.41}, 'sys': {'pod': 'n'}, 'dt_txt': '2025-09-15 18:00:00'}, {'dt': 1757970000, 'main': {'temp': 284.67, 'feels_like': 284.28, 'temp_min': 284.67, 'temp_max': 284.67, 'pressure': 995, 'sea_level': 995, 'grnd_level': 945, 'humidity': 92, 'temp_kf': 0}, 'weather': [{'id': 500, 'main': 'Rain', 'description': 'light rain', 'icon': '10n'}], 'clouds': {'all': 100}, 'wind': {'speed': 1.65, 'deg': 49, 'gust': 1.82}, 'visibility': 10000, 'pop': 0.96, 'rain': {'3h': 0.61}, 'sys': {'pod': 'n'}, 'dt_txt': '2025-09-15 21:00:00'}, {'dt': 1757980800, 'main': {'temp': 284.78, 'feels_like': 284.37, 'temp_min': 284.78, 'temp_max': 284.78, 'pressure': 994, 'sea_level': 994, 'grnd_level': 945, 'humidity': 91, 'temp_kf': 0}, 'weather': [{'id': 500, 'main': 'Rain', 'description': 'light rain', 'icon': '10n'}], 'clouds': {'all': 100}, 'wind': {'speed': 1.06, 'deg': 96, 'gust': 1}, 'visibility': 10000, 'pop': 0.86, 'rain': {'3h': 0.25}, 'sys': {'pod': 'n'}, 'dt_txt': '2025-09-16 00:00:00'}, {'dt': 1757991600, 'main': {'temp': 284.89, 'feels_like': 284.5, 'temp_min': 284.89, 'temp_max': 284.89, 'pressure': 993, 'sea_level': 993, 'grnd_level': 944, 'humidity': 91, 'temp_kf': 0}, 'weather': [{'id': 500, 'main': 'Rain', 'description': 'light rain', 'icon': '10n'}], 'clouds': {'all': 100}, 'wind': {'speed': 1.3, 'deg': 64, 'gust': 1.06}, 'visibility': 10000, 'pop': 0.25, 'rain': {'3h': 0.3}, 'sys': {'pod': 'n'}, 'dt_txt': '2025-09-16 03:00:00'}, {'dt': 1758002400, 'main': {'temp': 285.62, 'feels_like': 285.22, 'temp_min': 285.62, 'temp_max': 285.62, 'pressure': 993, 'sea_level': 993, 'grnd_level': 944, 'humidity': 88, 'temp_kf': 0}, 'weather': [{'id': 804, 'main': 'Clouds', 'description': 'overcast clouds', 'icon': '04d'}], 'clouds': {'all': 100}, 'wind': {'speed': 1.1, 'deg': 66, 'gust': 1}, 'visibility': 10000, 'pop': 0, 'sys': {'pod': 'd'}, 'dt_txt': '2025-09-16 06:00:00'}, {'dt': 1758013200, 'main': {'temp': 287.83, 'feels_like': 287.16, 'temp_min': 287.83, 'temp_max': 287.83, 'pressure': 993, 'sea_level': 993, 'grnd_level': 944, 'humidity': 69, 'temp_kf': 0}, 'weather': [{'id': 500, 'main': 'Rain', 'description': 'light rain', 'icon': '10d'}], 'clouds': {'all': 88}, 'wind': {'speed': 1.12, 'deg': 127, 'gust': 1.65}, 'visibility': 10000, 'pop': 0.2, 'rain': {'3h': 0.12}, 'sys': {'pod': 'd'}, 'dt_txt': '2025-09-16 09:00:00'}, {'dt': 1758024000, 'main': {'temp': 289.33, 'feels_like': 288.47, 'temp_min': 289.33, 'temp_max': 289.33, 'pressure': 993, 'sea_level': 993, 'grnd_level': 944, 'humidity': 56, 'temp_kf': 0}, 'weather': [{'id': 803, 'main': 'Clouds', 'description': 'broken clouds', 'icon': '04d'}], 'clouds': {'all': 84}, 'wind': {'speed': 1.76, 'deg': 144, 'gust': 1.87}, 'visibility': 10000, 'pop': 0, 'sys': {'pod': 'd'}, 'dt_txt': '2025-09-16 12:00:00'}, {'dt': 1758034800, 'main': {'temp': 286.42, 'feels_like': 285.84, 'temp_min': 286.42, 'temp_max': 286.42, 'pressure': 993, 'sea_level': 993, 'grnd_level': 944, 'humidity': 78, 'temp_kf': 0}, 'weather': [{'id': 500, 'main': 'Rain', 'description': 'light rain', 'icon': '10d'}], 'clouds': {'all': 98}, 'wind': {'speed': 1.83, 'deg': 146, 'gust': 2.14}, 'visibility': 10000, 'pop': 0.26, 'rain': {'3h': 0.22}, 'sys': {'pod': 'd'}, 'dt_txt': '2025-09-16 15:00:00'}, {'dt': 1758045600, 'main': {'temp': 285.43, 'feels_like': 284.99, 'temp_min': 285.43, 'temp_max': 285.43, 'pressure': 994, 'sea_level': 994, 'grnd_level': 945, 'humidity': 87, 'temp_kf': 0}, 'weather': [{'id': 500, 'main': 'Rain', 'description': 'light rain', 'icon': '10n'}], 'clouds': {'all': 99}, 'wind': {'speed': 0.79, 'deg': 230, 'gust': 0.83}, 'visibility': 10000, 'pop': 0.35, 'rain': {'3h': 0.3}, 'sys': {'pod': 'n'}, 'dt_txt': '2025-09-16 18:00:00'}, {'dt': 1758056400, 'main': {'temp': 284.72, 'feels_like': 284.41, 'temp_min': 284.72, 'temp_max': 284.72, 'pressure': 995, 'sea_level': 995, 'grnd_level': 945, 'humidity': 95, 'temp_kf': 0}, 'weather': [{'id': 500, 'main': 'Rain', 'description': 'light rain', 'icon': '10n'}], 'clouds': {'all': 100}, 'wind': {'speed': 1.09, 'deg': 274, 'gust': 1.07}, 'visibility': 10000, 'pop': 1, 'rain': {'3h': 0.85}, 'sys': {'pod': 'n'}, 'dt_txt': '2025-09-16 21:00:00'}, {'dt': 1758067200, 'main': {'temp': 284.59, 'feels_like': 284.22, 'temp_min': 284.59, 'temp_max': 284.59, 'pressure': 995, 'sea_level': 995, 'grnd_level': 945, 'humidity': 93, 'temp_kf': 0}, 'weather': [{'id': 500, 'main': 'Rain', 'description': 'light rain', 'icon': '10n'}], 'clouds': {'all': 100}, 'wind': {'speed': 0.43, 'deg': 275, 'gust': 0.8}, 'visibility': 10000, 'pop': 1, 'rain': {'3h': 1.23}, 'sys': {'pod': 'n'}, 'dt_txt': '2025-09-17 00:00:00'}, {'dt': 1758078000, 'main': {'temp': 284.64, 'feels_like': 284.12, 'temp_min': 284.64, 'temp_max': 284.64, 'pressure': 995, 'sea_level': 995, 'grnd_level': 945, 'humidity': 87, 'temp_kf': 0}, 'weather': [{'id': 500, 'main': 'Rain', 'description': 'light rain', 'icon': '10n'}], 'clouds': {'all': 100}, 'wind': {'speed': 0.27, 'deg': 141, 'gust': 0.49}, 'visibility': 10000, 'pop': 0.9, 'rain': {'3h': 0.44}, 'sys': {'pod': 'n'}, 'dt_txt': '2025-09-17 03:00:00'}, {'dt': 1758088800, 'main': {'temp': 284.17, 'feels_like': 283.73, 'temp_min': 284.17, 'temp_max': 284.17, 'pressure': 996, 'sea_level': 996, 'grnd_level': 946, 'humidity': 92, 'temp_kf': 0}, 'weather': [{'id': 500, 'main': 'Rain', 'description': 'light rain', 'icon': '10d'}], 'clouds': {'all': 100}, 'wind': {'speed': 0.76, 'deg': 114, 'gust': 0.79}, 'visibility': 10000, 'pop': 1, 'rain': {'3h': 1.17}, 'sys': {'pod': 'd'}, 'dt_txt': '2025-09-17 06:00:00'}, {'dt': 1758099600, 'main': {'temp': 285.26, 'feels_like': 284.67, 'temp_min': 285.26, 'temp_max': 285.26, 'pressure': 997, 'sea_level': 997, 'grnd_level': 947, 'humidity': 82, 'temp_kf': 0}, 'weather': [{'id': 500, 'main': 'Rain', 'description': 'light rain', 'icon': '10d'}], 'clouds': {'all': 100}, 'wind': {'speed': 1.17, 'deg': 45, 'gust': 0.87}, 'visibility': 10000, 'pop': 0.27, 'rain': {'3h': 0.23}, 'sys': {'pod': 'd'}, 'dt_txt': '2025-09-17 09:00:00'}, {'dt': 1758110400, 'main': {'temp': 285.88, 'feels_like': 285.3, 'temp_min': 285.88, 'temp_max': 285.88, 'pressure': 998, 'sea_level': 998, 'grnd_level': 948, 'humidity': 80, 'temp_kf': 0}, 'weather': [{'id': 500, 'main': 'Rain', 'description': 'light rain', 'icon': '10d'}], 'clouds': {'all': 100}, 'wind': {'speed': 0.97, 'deg': 320, 'gust': 1.41}, 'visibility': 10000, 'pop': 0.21, 'rain': {'3h': 0.15}, 'sys': {'pod': 'd'}, 'dt_txt': '2025-09-17 12:00:00'}, {'dt': 1758121200, 'main': {'temp': 284.73, 'feels_like': 284.37, 'temp_min': 284.73, 'temp_max': 284.73, 'pressure': 999, 'sea_level': 999, 'grnd_level': 949, 'humidity': 93, 'temp_kf': 0}, 'weather': [{'id': 500, 'main': 'Rain', 'description': 'light rain', 'icon': '10d'}], 'clouds': {'all': 100}, 'wind': {'speed': 2.43, 'deg': 251, 'gust': 3.48}, 'visibility': 9860, 'pop': 1, 'rain': {'3h': 0.96}, 'sys': {'pod': 'd'}, 'dt_txt': '2025-09-17 15:00:00'}, {'dt': 1758132000, 'main': {'temp': 283.88, 'feels_like': 283.31, 'temp_min': 283.88, 'temp_max': 283.88, 'pressure': 1002, 'sea_level': 1002, 'grnd_level': 952, 'humidity': 88, 'temp_kf': 0}, 'weather': [{'id': 500, 'main': 'Rain', 'description': 'light rain', 'icon': '10n'}], 'clouds': {'all': 100}, 'wind': {'speed': 3.8, 'deg': 260, 'gust': 4.7}, 'visibility': 10000, 'pop': 1, 'rain': {'3h': 2.54}, 'sys': {'pod': 'n'}, 'dt_txt': '2025-09-17 18:00:00'}, {'dt': 1758142800, 'main': {'temp': 283.04, 'feels_like': 281.09, 'temp_min': 283.04, 'temp_max': 283.04, 'pressure': 1003, 'sea_level': 1003, 'grnd_level': 953, 'humidity': 88, 'temp_kf': 0}, 'weather': [{'id': 500, 'main': 'Rain', 'description': 'light rain', 'icon': '10n'}], 'clouds': {'all': 100}, 'wind': {'speed': 3.85, 'deg': 252, 'gust': 5.07}, 'visibility': 10000, 'pop': 1, 'rain': {'3h': 0.63}, 'sys': {'pod': 'n'}, 'dt_txt': '2025-09-17 21:00:00'}, {'dt': 1758153600, 'main': {'temp': 282.04, 'feels_like': 280.33, 'temp_min': 282.04, 'temp_max': 282.04, 'pressure': 1005, 'sea_level': 1005, 'grnd_level': 954, 'humidity': 87, 'temp_kf': 0}, 'weather': [{'id': 500, 'main': 'Rain', 'description': 'light rain', 'icon': '10n'}], 'clouds': {'all': 95}, 'wind': {'speed': 2.99, 'deg': 241, 'gust': 5.33}, 'visibility': 10000, 'pop': 1, 'rain': {'3h': 0.46}, 'sys': {'pod': 'n'}, 'dt_txt': '2025-09-18 00:00:00'}, {'dt': 1758164400, 'main': {'temp': 282.34, 'feels_like': 280.53, 'temp_min': 282.34, 'temp_max': 282.34, 'pressure': 1006, 'sea_level': 1006, 'grnd_level': 955, 'humidity': 85, 'temp_kf': 0}, 'weather': [{'id': 500, 'main': 'Rain', 'description': 'light rain', 'icon': '10n'}], 'clouds': {'all': 99}, 'wind': {'speed': 3.28, 'deg': 247, 'gust': 4.61}, 'visibility': 10000, 'pop': 1, 'rain': {'3h': 0.61}, 'sys': {'pod': 'n'}, 'dt_txt': '2025-09-18 03:00:00'}, {'dt': 1758175200, 'main': {'temp': 281.33, 'feels_like': 279.82, 'temp_min': 281.33, 'temp_max': 281.33, 'pressure': 1006, 'sea_level': 1006, 'grnd_level': 956, 'humidity': 85, 'temp_kf': 0}, 'weather': [{'id': 500, 'main': 'Rain', 'description': 'light rain', 'icon': '10d'}], 'clouds': {'all': 85}, 'wind': {'speed': 2.5, 'deg': 236, 'gust': 3.94}, 'visibility': 10000, 'pop': 1, 'rain': {'3h': 0.4}, 'sys': {'pod': 'd'}, 'dt_txt': '2025-09-18 06:00:00'}, {'dt': 1758186000, 'main': {'temp': 283.48, 'feels_like': 282.14, 'temp_min': 283.48, 'temp_max': 283.48, 'pressure': 1007, 'sea_level': 1007, 'grnd_level': 957, 'humidity': 60, 'temp_kf': 0}, 'weather': [{'id': 500, 'main': 'Rain', 'description': 'light rain', 'icon': '10d'}], 'clouds': {'all': 73}, 'wind': {'speed': 4.2, 'deg': 257, 'gust': 5.67}, 'visibility': 10000, 'pop': 0.32, 'rain': {'3h': 0.24}, 'sys': {'pod': 'd'}, 'dt_txt': '2025-09-18 09:00:00'}, {'dt': 1758196800, 'main': {'temp': 284.04, 'feels_like': 282.75, 'temp_min': 284.04, 'temp_max': 284.04, 'pressure': 1008, 'sea_level': 1008, 'grnd_level': 957, 'humidity': 60, 'temp_kf': 0}, 'weather': [{'id': 500, 'main': 'Rain', 'description': 'light rain', 'icon': '10d'}], 'clouds': {'all': 73}, 'wind': {'speed': 4.48, 'deg': 256, 'gust': 5.05}, 'visibility': 10000, 'pop': 0.21, 'rain': {'3h': 0.12}, 'sys': {'pod': 'd'}, 'dt_txt': '2025-09-18 12:00:00'}, {'dt': 1758207600, 'main': {'temp': 283.37, 'feels_like': 282.01, 'temp_min': 283.37, 'temp_max': 283.37, 'pressure': 1008, 'sea_level': 1008, 'grnd_level': 958, 'humidity': 60, 'temp_kf': 0}, 'weather': [{'id': 803, 'main': 'Clouds', 'description': 'broken clouds', 'icon': '04d'}], 'clouds': {'all': 76}, 'wind': {'speed': 3.75, 'deg': 256, 'gust': 3.98}, 'visibility': 10000, 'pop': 0, 'sys': {'pod': 'd'}, 'dt_txt': '2025-09-18 15:00:00'}, {'dt': 1758218400, 'main': {'temp': 279.84, 'feels_like': 278.99, 'temp_min': 279.84, 'temp_max': 279.84, 'pressure': 1009, 'sea_level': 1009, 'grnd_level': 958, 'humidity': 76, 'temp_kf': 0}, 'weather': [{'id': 803, 'main': 'Clouds', 'description': 'broken clouds', 'icon': '04n'}], 'clouds': {'all': 79}, 'wind': {'speed': 1.53, 'deg': 236, 'gust': 1.48}, 'visibility': 10000, 'pop': 0, 'sys': {'pod': 'n'}, 'dt_txt': '2025-09-18 18:00:00'}, {'dt': 1758229200, 'main': {'temp': 278.5, 'feels_like': 278.5, 'temp_min': 278.5, 'temp_max': 278.5, 'pressure': 1010, 'sea_level': 1010, 'grnd_level': 959, 'humidity': 79, 'temp_kf': 0}, 'weather': [{'id': 803, 'main': 'Clouds', 'description': 'broken clouds', 'icon': '04n'}], 'clouds': {'all': 51}, 'wind': {'speed': 1.29, 'deg': 126, 'gust': 1.32}, 'visibility': 10000, 'pop': 0, 'sys': {'pod': 'n'}, 'dt_txt': '2025-09-18 21:00:00'}, {'dt': 1758240000, 'main': {'temp': 278.1, 'feels_like': 276.37, 'temp_min': 278.1, 'temp_max': 278.1, 'pressure': 1010, 'sea_level': 1010, 'grnd_level': 958, 'humidity': 77, 'temp_kf': 0}, 'weather': [{'id': 802, 'main': 'Clouds', 'description': 'scattered clouds', 'icon': '03n'}], 'clouds': {'all': 37}, 'wind': {'speed': 2.09, 'deg': 97, 'gust': 2.07}, 'visibility': 10000, 'pop': 0, 'sys': {'pod': 'n'}, 'dt_txt': '2025-09-19 00:00:00'}, {'dt': 1758250800, 'main': {'temp': 277.96, 'feels_like': 276.05, 'temp_min': 277.96, 'temp_max': 277.96, 'pressure': 1009, 'sea_level': 1009, 'grnd_level': 957, 'humidity': 75, 'temp_kf': 0}, 'weather': [{'id': 801, 'main': 'Clouds', 'description': 'few clouds', 'icon': '02n'}], 'clouds': {'all': 21}, 'wind': {'speed': 2.25, 'deg': 93, 'gust': 2.12}, 'visibility': 10000, 'pop': 0, 'sys': {'pod': 'n'}, 'dt_txt': '2025-09-19 03:00:00'}, {'dt': 1758261600, 'main': {'temp': 280.14, 'feels_like': 278.26, 'temp_min': 280.14, 'temp_max': 280.14, 'pressure': 1007, 'sea_level': 1007, 'grnd_level': 956, 'humidity': 69, 'temp_kf': 0}, 'weather': [{'id': 802, 'main': 'Clouds', 'description': 'scattered clouds', 'icon': '03d'}], 'clouds': {'all': 37}, 'wind': {'speed': 2.7, 'deg': 84, 'gust': 3.3}, 'visibility': 10000, 'pop': 0, 'sys': {'pod': 'd'}, 'dt_txt': '2025-09-19 06:00:00'}, {'dt': 1758272400, 'main': {'temp': 284.02, 'feels_like': 282.68, 'temp_min': 284.02, 'temp_max': 284.02, 'pressure': 1004, 'sea_level': 1004, 'grnd_level': 953, 'humidity': 58, 'temp_kf': 0}, 'weather': [{'id': 804, 'main': 'Clouds', 'description': 'overcast clouds', 'icon': '04d'}], 'clouds': {'all': 97}, 'wind': {'speed': 3.97, 'deg': 76, 'gust': 4.54}, 'visibility': 10000, 'pop': 0, 'sys': {'pod': 'd'}, 'dt_txt': '2025-09-19 09:00:00'}, {'dt': 1758283200, 'main': {'temp': 285.74, 'feels_like': 284.54, 'temp_min': 285.74, 'temp_max': 285.74, 'pressure': 999, 'sea_level': 999, 'grnd_level': 949, 'humidity': 57, 'temp_kf': 0}, 'weather': [{'id': 804, 'main': 'Clouds', 'description': 'overcast clouds', 'icon': '04d'}], 'clouds': {'all': 99}, 'wind': {'speed': 4.75, 'deg': 75, 'gust': 6.09}, 'visibility': 10000, 'pop': 0, 'sys': {'pod': 'd'}, 'dt_txt': '2025-09-19 12:00:00'}, {'dt': 1758294000, 'main': {'temp': 282.35, 'feels_like': 280.54, 'temp_min': 282.35, 'temp_max': 282.35, 'pressure': 998, 'sea_level': 998, 'grnd_level': 948, 'humidity': 91, 'temp_kf': 0}, 'weather': [{'id': 501, 'main': 'Rain', 'description': 'moderate rain', 'icon': '10d'}], 'clouds': {'all': 100}, 'wind': {'speed': 3.28, 'deg': 82, 'gust': 3.94}, 'visibility': 10000, 'pop': 1, 'rain': {'3h': 5.3}, 'sys': {'pod': 'd'}, 'dt_txt': '2025-09-19 15:00:00'}, {'dt': 1758304800, 'main': {'temp': 281.82, 'feels_like': 281.26, 'temp_min': 281.82, 'temp_max': 281.82, 'pressure': 997, 'sea_level': 997, 'grnd_level': 947, 'humidity': 91, 'temp_kf': 0}, 'weather': [{'id': 500, 'main': 'Rain', 'description': 'light rain', 'icon': '10n'}], 'clouds': {'all': 100}, 'wind': {'speed': 1.52, 'deg': 101, 'gust': 1.37}, 'visibility': 10000, 'pop': 1, 'rain': {'3h': 1.48}, 'sys': {'pod': 'n'}, 'dt_txt': '2025-09-19 18:00:00'}, {'dt': 1758315600, 'main': {'temp': 282.12, 'feels_like': 282.12, 'temp_min': 282.12, 'temp_max': 282.12, 'pressure': 995, 'sea_level': 995, 'grnd_level': 945, 'humidity': 91, 'temp_kf': 0}, 'weather': [{'id': 500, 'main': 'Rain', 'description': 'light rain', 'icon': '10n'}], 'clouds': {'all': 100}, 'wind': {'speed': 1.01, 'deg': 106, 'gust': 0.73}, 'visibility': 8973, 'pop': 1, 'rain': {'3h': 0.76}, 'sys': {'pod': 'n'}, 'dt_txt': '2025-09-19 21:00:00'}, {'dt': 1758326400, 'main': {'temp': 282.01, 'feels_like': 281.35, 'temp_min': 282.01, 'temp_max': 282.01, 'pressure': 994, 'sea_level': 994, 'grnd_level': 944, 'humidity': 93, 'temp_kf': 0}, 'weather': [{'id': 501, 'main': 'Rain', 'description': 'moderate rain', 'icon': '10n'}], 'clouds': {'all': 100}, 'wind': {'speed': 1.64, 'deg': 157, 'gust': 1.89}, 'visibility': 7841, 'pop': 1, 'rain': {'3h': 8.74}, 'sys': {'pod': 'n'}, 'dt_txt': '2025-09-20 00:00:00'}, {'dt': 1758337200, 'main': {'temp': 281.8, 'feels_like': 281.05, 'temp_min': 281.8, 'temp_max': 281.8, 'pressure': 991, 'sea_level': 991, 'grnd_level': 941, 'humidity': 91, 'temp_kf': 0}, 'weather': [{'id': 500, 'main': 'Rain', 'description': 'light rain', 'icon': '10n'}], 'clouds': {'all': 98}, 'wind': {'speed': 1.7, 'deg': 81, 'gust': 1.45}, 'visibility': 10000, 'pop': 1, 'rain': {'3h': 0.99}, 'sys': {'pod': 'n'}, 'dt_txt': '2025-09-20 03:00:00'}, {'dt': 1758348000, 'main': {'temp': 282.33, 'feels_like': 281.61, 'temp_min': 282.33, 'temp_max': 282.33, 'pressure': 989, 'sea_level': 989, 'grnd_level': 939, 'humidity': 94, 'temp_kf': 0}, 'weather': [{'id': 500, 'main': 'Rain', 'description': 'light rain', 'icon': '10d'}], 'clouds': {'all': 99}, 'wind': {'speed': 1.75, 'deg': 86, 'gust': 2.54}, 'visibility': 6733, 'pop': 1, 'rain': {'3h': 2.07}, 'sys': {'pod': 'd'}, 'dt_txt': '2025-09-20 06:00:00'}], 'city': {'id': 3145614, 'name': 'Mo i Rana', 'coord': {'lat': 66.3128, 'lon': 14.1428}, 'country': 'NO', 'population': 17853, 'timezone': 7200, 'sunrise': 1757910191, 'sunset': 1757957660}}\n"
     ]
    }
   ],
   "source": [
    "responseF = requests.get(urlF).json()\n",
    "#print(json.dumps(responseF, indent=4))\n",
    "print(responseF)"
   ]
  },
  {
   "cell_type": "code",
   "execution_count": 11,
   "metadata": {
    "ExecuteTime": {
     "end_time": "2024-08-17T10:19:07.510514Z",
     "start_time": "2024-08-17T10:19:07.506586Z"
    },
    "slideshow": {
     "slide_type": "slide"
    },
    "tags": []
   },
   "outputs": [],
   "source": [
    "# Write JSON to file for viewing\n",
    "with open('downloads/forecast.json', 'w') as f:\n",
    "    json.dump(responseF, f, indent=4)"
   ]
  },
  {
   "cell_type": "markdown",
   "metadata": {
    "slideshow": {
     "slide_type": "slide"
    }
   },
   "source": [
    "### When and what?\n",
    "Check contents and time stamps"
   ]
  },
  {
   "cell_type": "code",
   "execution_count": 12,
   "metadata": {
    "ExecuteTime": {
     "end_time": "2024-08-17T10:19:07.514214Z",
     "start_time": "2024-08-17T10:19:07.511162Z"
    },
    "slideshow": {
     "slide_type": "fragment"
    },
    "tags": []
   },
   "outputs": [
    {
     "data": {
      "text/plain": [
       "dict_keys(['cod', 'message', 'cnt', 'list', 'city'])"
      ]
     },
     "execution_count": 12,
     "metadata": {},
     "output_type": "execute_result"
    }
   ],
   "source": [
    "# Content of responseF\n",
    "responseF.keys()"
   ]
  },
  {
   "cell_type": "code",
   "execution_count": 13,
   "metadata": {
    "ExecuteTime": {
     "end_time": "2024-08-17T10:19:07.516813Z",
     "start_time": "2024-08-17T10:19:07.514918Z"
    },
    "slideshow": {
     "slide_type": "fragment"
    },
    "tags": []
   },
   "outputs": [
    {
     "name": "stdout",
     "output_type": "stream",
     "text": [
      "40\n"
     ]
    }
   ],
   "source": [
    "# Number of forecasts\n",
    "print(len(responseF[\"list\"]))"
   ]
  },
  {
   "cell_type": "code",
   "execution_count": 14,
   "metadata": {
    "ExecuteTime": {
     "end_time": "2024-08-17T10:19:07.520443Z",
     "start_time": "2024-08-17T10:19:07.518884Z"
    },
    "slideshow": {
     "slide_type": "slide"
    },
    "tags": []
   },
   "outputs": [
    {
     "name": "stdout",
     "output_type": "stream",
     "text": [
      "2025-09-15 09:00:00\n",
      "2025-09-15 12:00:00\n",
      "2025-09-15 15:00:00\n",
      "2025-09-15 18:00:00\n",
      "2025-09-15 21:00:00\n",
      "2025-09-16 00:00:00\n",
      "2025-09-16 03:00:00\n",
      "2025-09-16 06:00:00\n",
      "2025-09-16 09:00:00\n",
      "2025-09-16 12:00:00\n",
      "2025-09-16 15:00:00\n",
      "2025-09-16 18:00:00\n",
      "2025-09-16 21:00:00\n",
      "2025-09-17 00:00:00\n",
      "2025-09-17 03:00:00\n",
      "2025-09-17 06:00:00\n",
      "2025-09-17 09:00:00\n",
      "2025-09-17 12:00:00\n",
      "2025-09-17 15:00:00\n",
      "2025-09-17 18:00:00\n",
      "2025-09-17 21:00:00\n",
      "2025-09-18 00:00:00\n",
      "2025-09-18 03:00:00\n",
      "2025-09-18 06:00:00\n",
      "2025-09-18 09:00:00\n",
      "2025-09-18 12:00:00\n",
      "2025-09-18 15:00:00\n",
      "2025-09-18 18:00:00\n",
      "2025-09-18 21:00:00\n",
      "2025-09-19 00:00:00\n",
      "2025-09-19 03:00:00\n",
      "2025-09-19 06:00:00\n",
      "2025-09-19 09:00:00\n",
      "2025-09-19 12:00:00\n",
      "2025-09-19 15:00:00\n",
      "2025-09-19 18:00:00\n",
      "2025-09-19 21:00:00\n",
      "2025-09-20 00:00:00\n",
      "2025-09-20 03:00:00\n",
      "2025-09-20 06:00:00\n"
     ]
    }
   ],
   "source": [
    "# Print forecast times\n",
    "for forecast in responseF[\"list\"]:\n",
    "    print(forecast[\"dt_txt\"])"
   ]
  },
  {
   "cell_type": "markdown",
   "metadata": {
    "slideshow": {
     "slide_type": "slide"
    }
   },
   "source": [
    "## Make plots of omnipresent measurements and events\n",
    "We will later look at missing data, data only sporadically appearing and so on."
   ]
  },
  {
   "cell_type": "code",
   "execution_count": 15,
   "metadata": {
    "ExecuteTime": {
     "end_time": "2024-08-17T10:19:07.522603Z",
     "start_time": "2024-08-17T10:19:07.521029Z"
    },
    "slideshow": {
     "slide_type": "fragment"
    },
    "tags": []
   },
   "outputs": [],
   "source": [
    "# Air pressure per period\n",
    "pressures = []\n",
    "timestamps = []\n",
    "for forecast in responseF[\"list\"]:\n",
    "    pressures.append(forecast[\"main\"][\"pressure\"])\n",
    "    timestamps.append(dt.datetime.fromtimestamp(forecast[\"dt\"]))"
   ]
  },
  {
   "cell_type": "code",
   "execution_count": 16,
   "metadata": {
    "ExecuteTime": {
     "end_time": "2024-08-17T10:19:08.124779Z",
     "start_time": "2024-08-17T10:19:07.523100Z"
    },
    "slideshow": {
     "slide_type": "slide"
    },
    "tags": []
   },
   "outputs": [
    {
     "data": {
      "image/png": "[encoded data removed]",
      "text/plain": [
       "<Figure size 640x480 with 1 Axes>"
      ]
     },
     "metadata": {},
     "output_type": "display_data"
    }
   ],
   "source": [
    "import matplotlib.pyplot as plt\n",
    "plt.bar(timestamps, pressures)\n",
    "plt.xticks(rotation=45)\n",
    "plt.ylim(980, 1050)\n",
    "plt.grid()\n",
    "plt.ylabel(\"Air pressure (hPa)\")\n",
    "plt.title(f\"Forecasted air pressure in {CITY}\")\n",
    "plt.show()"
   ]
  },
  {
   "cell_type": "markdown",
   "metadata": {
    "slideshow": {
     "slide_type": "slide"
    }
   },
   "source": [
    "## Exercise\n",
    "- Make a new forecast request for your own hometown. Call your response something else than responseF.\n",
    "- If available, plot the humidity like we did with air pressure."
   ]
  },
  {
   "cell_type": "markdown",
   "metadata": {
    "slideshow": {
     "slide_type": "slide"
    }
   },
   "source": [
    "### Precipitation\n",
    "- ... comes in two main flavours: rain and snow.\n",
    "- We need to check which is present and set to zero if it is abscent."
   ]
  },
  {
   "cell_type": "code",
   "execution_count": 17,
   "metadata": {
    "ExecuteTime": {
     "end_time": "2024-08-17T10:19:08.128573Z",
     "start_time": "2024-08-17T10:19:08.125858Z"
    },
    "slideshow": {
     "slide_type": "fragment"
    },
    "tags": []
   },
   "outputs": [],
   "source": [
    "rain = []\n",
    "snow = []\n",
    "for forecast in responseF[\"list\"]:\n",
    "    try: # Check if rain is present in forecast\n",
    "        rain.append(forecast[\"rain\"][\"3h\"])\n",
    "    except KeyError:\n",
    "        rain.append(0)\n",
    "    try: # Check if snow is present in forecast\n",
    "        snow.append(forecast[\"snow\"][\"3h\"])\n",
    "    except KeyError:\n",
    "        snow.append(0)"
   ]
  },
  {
   "cell_type": "code",
   "execution_count": 18,
   "metadata": {
    "ExecuteTime": {
     "end_time": "2024-08-17T10:19:08.223315Z",
     "start_time": "2024-08-17T10:19:08.129282Z"
    },
    "slideshow": {
     "slide_type": "slide"
    },
    "tags": []
   },
   "outputs": [
    {
     "data": {
      "image/png": "[encoded data removed]",
      "text/plain": [
       "<Figure size 640x480 with 1 Axes>"
      ]
     },
     "metadata": {},
     "output_type": "display_data"
    }
   ],
   "source": [
    "# Stacked bar chart with rain and snow\n",
    "plt.bar(timestamps, rain, label=\"Rain\")\n",
    "plt.bar(timestamps, snow, label=\"Snow\")\n",
    "plt.xticks(rotation=45)\n",
    "plt.grid()\n",
    "plt.ylabel(\"Precipitation (mm)\")\n",
    "plt.title(f\"Forecasted precipitation in {CITY}\")\n",
    "plt.legend()\n",
    "plt.show()\n"
   ]
  },
  {
   "cell_type": "markdown",
   "metadata": {
    "slideshow": {
     "slide_type": "slide"
    }
   },
   "source": [
    "```{seealso} \n",
    ":class: tip\n",
    "\n",
    "## Resources\n",
    "- [YouTube: NeuralNine's video (15m:32s)](https://www.youtube.com/watch?v=9P5MY_2i7K8)\n",
    "```"
   ]
  }
 ],
 "metadata": {
  "celltoolbar": "Slideshow",
  "kernelspec": {
   "display_name": "Python 3 (ipykernel)",
   "language": "python",
   "name": "python3"
  },
  "language_info": {
   "codemirror_mode": {
    "name": "ipython",
    "version": 3
   },
   "file_extension": ".py",
   "mimetype": "text/x-python",
   "name": "python",
   "nbconvert_exporter": "python",
   "pygments_lexer": "ipython3",
   "version": "3.12.10"
  }
 },
 "nbformat": 4,
 "nbformat_minor": 4
}