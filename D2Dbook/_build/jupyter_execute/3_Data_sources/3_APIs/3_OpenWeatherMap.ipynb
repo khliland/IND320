{
 "cells": [
  {
   "cell_type": "markdown",
   "metadata": {
    "slideshow": {
     "slide_type": "slide"
    }
   },
   "source": [
    "# Demonstration of API using OpenWeatherMap.org\n",
    "This demonstration is heavily inspired by [NeuralNine's video](https://www.youtube.com/watch?v=9P5MY_2i7K8).  \n",
    "You need a free account [from here](https://openweathermap.org/api).  \n",
    "The VS Code extension _JSON viewer_ is recommended for viewing downloaded JSON content.  \n",
    "  - Set your maximum API calls to 1000 per day to make sure you are under the limit for billing. \n",
    "  - To run the examples, download your API key, save it in the right folder (see below) in a file called _api\\_key\\_OpenWeather_, containing only the key (no spaces or \"enters\")."
   ]
  },
  {
   "cell_type": "code",
   "execution_count": 1,
   "metadata": {
    "ExecuteTime": {
     "end_time": "2024-08-17T10:19:06.946392Z",
     "start_time": "2024-08-17T10:19:06.887177Z"
    },
    "execution": {
     "iopub.execute_input": "2024-08-17T11:10:24.663699Z",
     "iopub.status.busy": "2024-08-17T11:10:24.663447Z",
     "iopub.status.idle": "2024-08-17T11:10:24.723696Z",
     "shell.execute_reply": "2024-08-17T11:10:24.723397Z"
    },
    "slideshow": {
     "slide_type": "fragment"
    }
   },
   "outputs": [],
   "source": [
    "# Imports\n",
    "import datetime as dt\n",
    "import requests\n",
    "import json"
   ]
  },
  {
   "cell_type": "markdown",
   "metadata": {
    "slideshow": {
     "slide_type": "slide"
    }
   },
   "source": [
    "## Current weather\n",
    "### Common definitions to use for all requests"
   ]
  },
  {
   "cell_type": "code",
   "execution_count": 2,
   "metadata": {
    "ExecuteTime": {
     "end_time": "2024-08-17T10:19:06.950734Z",
     "start_time": "2024-08-17T10:19:06.948129Z"
    },
    "execution": {
     "iopub.execute_input": "2024-08-17T11:10:24.725650Z",
     "iopub.status.busy": "2024-08-17T11:10:24.725525Z",
     "iopub.status.idle": "2024-08-17T11:10:24.727589Z",
     "shell.execute_reply": "2024-08-17T11:10:24.727371Z"
    },
    "slideshow": {
     "slide_type": "-"
    }
   },
   "outputs": [],
   "source": [
    "BASE_URL = \"http://api.openweathermap.org/data/2.5/weather?\"\n",
    "API_KEY = open('../../../No_sync/api_key_OpenWeather','r').read()\n",
    "CITY = \"Ski\"\n",
    "\n",
    "url = BASE_URL + \"q=\" + CITY + \"&appid=\" + API_KEY"
   ]
  },
  {
   "cell_type": "markdown",
   "metadata": {
    "slideshow": {
     "slide_type": "slide"
    }
   },
   "source": [
    "## Request current weather in chosen city"
   ]
  },
  {
   "cell_type": "code",
   "execution_count": 3,
   "metadata": {
    "ExecuteTime": {
     "end_time": "2024-08-17T10:19:07.346472Z",
     "start_time": "2024-08-17T10:19:06.951363Z"
    },
    "execution": {
     "iopub.execute_input": "2024-08-17T11:10:24.728855Z",
     "iopub.status.busy": "2024-08-17T11:10:24.728771Z",
     "iopub.status.idle": "2024-08-17T11:10:25.161921Z",
     "shell.execute_reply": "2024-08-17T11:10:25.161501Z"
    },
    "slideshow": {
     "slide_type": "fragment"
    }
   },
   "outputs": [
    {
     "name": "stdout",
     "output_type": "stream",
     "text": [
      "{'coord': {'lon': 10.8358, 'lat': 59.7195}, 'weather': [{'id': 501, 'main': 'Rain', 'description': 'moderate rain', 'icon': '10d'}], 'base': 'stations', 'main': {'temp': 290.26, 'feels_like': 290.56, 'temp_min': 289.65, 'temp_max': 291.13, 'pressure': 1001, 'humidity': 97, 'sea_level': 1001, 'grnd_level': 985}, 'visibility': 10000, 'wind': {'speed': 2.77, 'deg': 122, 'gust': 8.58}, 'rain': {'1h': 1.33}, 'clouds': {'all': 100}, 'dt': 1725868422, 'sys': {'type': 2, 'id': 2006772, 'country': 'NO', 'sunrise': 1725856305, 'sunset': 1725904584}, 'timezone': 7200, 'id': 3139081, 'name': 'Ski', 'cod': 200}\n"
     ]
    }
   ],
   "source": [
    "response = requests.get(url).json()\n",
    "print(response)"
   ]
  },
  {
   "cell_type": "code",
   "execution_count": 4,
   "metadata": {
    "ExecuteTime": {
     "end_time": "2024-08-17T10:19:07.356894Z",
     "start_time": "2024-08-17T10:19:07.353047Z"
    },
    "execution": {
     "iopub.execute_input": "2024-08-17T11:10:25.200397Z",
     "iopub.status.busy": "2024-08-17T11:10:25.200119Z",
     "iopub.status.idle": "2024-08-17T11:10:25.202823Z",
     "shell.execute_reply": "2024-08-17T11:10:25.202533Z"
    },
    "slideshow": {
     "slide_type": "fragment"
    }
   },
   "outputs": [],
   "source": [
    "# Write JSON to file for viewing\n",
    "with open('downloads/weather.json', 'w') as f:\n",
    "    json.dump(response, f, indent=4)"
   ]
  },
  {
   "cell_type": "markdown",
   "metadata": {
    "slideshow": {
     "slide_type": "slide"
    }
   },
   "source": [
    "## Conversion functions\n",
    "Changing scales can make results more interpretable"
   ]
  },
  {
   "cell_type": "code",
   "execution_count": 5,
   "metadata": {
    "ExecuteTime": {
     "end_time": "2024-08-17T10:19:07.360029Z",
     "start_time": "2024-08-17T10:19:07.358341Z"
    },
    "execution": {
     "iopub.execute_input": "2024-08-17T11:10:25.204315Z",
     "iopub.status.busy": "2024-08-17T11:10:25.204202Z",
     "iopub.status.idle": "2024-08-17T11:10:25.206008Z",
     "shell.execute_reply": "2024-08-17T11:10:25.205755Z"
    },
    "slideshow": {
     "slide_type": "-"
    }
   },
   "outputs": [],
   "source": [
    "# Kelvin to Celsius\n",
    "def kelvin_to_celsius(temp):\n",
    "    return temp - 273.15\n",
    "\n",
    "# Meters per second to knots\n",
    "def mps_to_knots(speed):\n",
    "    return speed * 1.943844"
   ]
  },
  {
   "cell_type": "markdown",
   "metadata": {
    "slideshow": {
     "slide_type": "slide"
    }
   },
   "source": [
    "## Print some weather properties"
   ]
  },
  {
   "cell_type": "code",
   "execution_count": 6,
   "metadata": {
    "ExecuteTime": {
     "end_time": "2024-08-17T10:19:07.362209Z",
     "start_time": "2024-08-17T10:19:07.360604Z"
    },
    "execution": {
     "iopub.execute_input": "2024-08-17T11:10:25.207688Z",
     "iopub.status.busy": "2024-08-17T11:10:25.207575Z",
     "iopub.status.idle": "2024-08-17T11:10:25.210669Z",
     "shell.execute_reply": "2024-08-17T11:10:25.209844Z"
    },
    "slideshow": {
     "slide_type": "-"
    }
   },
   "outputs": [
    {
     "name": "stdout",
     "output_type": "stream",
     "text": [
      "The current temperature in Ski is 17.1°C\n"
     ]
    }
   ],
   "source": [
    "# Current temperature\n",
    "temp_kelvin = response['main']['temp']\n",
    "temp_celsius = kelvin_to_celsius(temp_kelvin)\n",
    "print(f\"The current temperature in {CITY} is {temp_celsius:.1f}°C\")"
   ]
  },
  {
   "cell_type": "code",
   "execution_count": 7,
   "metadata": {
    "ExecuteTime": {
     "end_time": "2024-08-17T10:19:07.364358Z",
     "start_time": "2024-08-17T10:19:07.362759Z"
    },
    "execution": {
     "iopub.execute_input": "2024-08-17T11:10:25.212687Z",
     "iopub.status.busy": "2024-08-17T11:10:25.212585Z",
     "iopub.status.idle": "2024-08-17T11:10:25.215092Z",
     "shell.execute_reply": "2024-08-17T11:10:25.214660Z"
    },
    "slideshow": {
     "slide_type": "slide"
    }
   },
   "outputs": [
    {
     "name": "stdout",
     "output_type": "stream",
     "text": [
      "Sunrise today is at 06:31 and sunset is at 19:56\n"
     ]
    }
   ],
   "source": [
    "# Sunrise and sunset today in local time\n",
    "sunrise = dt.datetime.fromtimestamp(response['sys']['sunrise'])\n",
    "sunset = dt.datetime.fromtimestamp(response['sys']['sunset'])\n",
    "print(f\"Sunrise today is at {sunrise:%H:%M} and sunset is at {sunset:%H:%M}\")"
   ]
  },
  {
   "cell_type": "code",
   "execution_count": 8,
   "metadata": {
    "ExecuteTime": {
     "end_time": "2024-08-17T10:19:07.367002Z",
     "start_time": "2024-08-17T10:19:07.365133Z"
    },
    "execution": {
     "iopub.execute_input": "2024-08-17T11:10:25.216596Z",
     "iopub.status.busy": "2024-08-17T11:10:25.216507Z",
     "iopub.status.idle": "2024-08-17T11:10:25.218313Z",
     "shell.execute_reply": "2024-08-17T11:10:25.218028Z"
    },
    "slideshow": {
     "slide_type": "fragment"
    }
   },
   "outputs": [
    {
     "name": "stdout",
     "output_type": "stream",
     "text": [
      "Wind today is from 122° at 5.4 knots\n"
     ]
    }
   ],
   "source": [
    "# Wind direction and speed\n",
    "wind_knots = mps_to_knots(response['wind']['speed'])\n",
    "print(f\"Wind today is from {response['wind']['deg']}° at {round(wind_knots,1)} knots\")"
   ]
  },
  {
   "cell_type": "markdown",
   "metadata": {
    "slideshow": {
     "slide_type": "slide"
    }
   },
   "source": [
    "## Forecasted weather\n",
    "### Common definitions to use for all requests"
   ]
  },
  {
   "cell_type": "code",
   "execution_count": 9,
   "metadata": {
    "ExecuteTime": {
     "end_time": "2024-08-17T10:19:07.369150Z",
     "start_time": "2024-08-17T10:19:07.367438Z"
    },
    "execution": {
     "iopub.execute_input": "2024-08-17T11:10:25.219716Z",
     "iopub.status.busy": "2024-08-17T11:10:25.219645Z",
     "iopub.status.idle": "2024-08-17T11:10:25.221342Z",
     "shell.execute_reply": "2024-08-17T11:10:25.221042Z"
    },
    "slideshow": {
     "slide_type": "-"
    }
   },
   "outputs": [],
   "source": [
    "BASE_URL = \"http://api.openweathermap.org/data/2.5/forecast?\"\n",
    "CITY = \"Noresund\"\n",
    "\n",
    "urlF = BASE_URL + \"q=\" + CITY + \"&appid=\" + API_KEY"
   ]
  },
  {
   "cell_type": "markdown",
   "metadata": {
    "slideshow": {
     "slide_type": "slide"
    }
   },
   "source": [
    "## Request forecasted weather in chosen city"
   ]
  },
  {
   "cell_type": "code",
   "execution_count": 10,
   "metadata": {
    "ExecuteTime": {
     "end_time": "2024-08-17T10:19:07.505916Z",
     "start_time": "2024-08-17T10:19:07.369779Z"
    },
    "execution": {
     "iopub.execute_input": "2024-08-17T11:10:25.222724Z",
     "iopub.status.busy": "2024-08-17T11:10:25.222655Z",
     "iopub.status.idle": "2024-08-17T11:10:25.527518Z",
     "shell.execute_reply": "2024-08-17T11:10:25.526927Z"
    },
    "slideshow": {
     "slide_type": "-"
    }
   },
   "outputs": [
    {
     "name": "stdout",
     "output_type": "stream",
     "text": [
      "{'cod': '200', 'message': 0, 'cnt': 40, 'list': [{'dt': 1725872400, 'main': {'temp': 289.87, 'feels_like': 290.16, 'temp_min': 288.91, 'temp_max': 289.87, 'pressure': 999, 'sea_level': 999, 'grnd_level': 944, 'humidity': 98, 'temp_kf': 0.96}, 'weather': [{'id': 500, 'main': 'Rain', 'description': 'light rain', 'icon': '10d'}], 'clouds': {'all': 100}, 'wind': {'speed': 1.4, 'deg': 98, 'gust': 2.14}, 'visibility': 83, 'pop': 1, 'rain': {'3h': 1.59}, 'sys': {'pod': 'd'}, 'dt_txt': '2024-09-09 09:00:00'}, {'dt': 1725883200, 'main': {'temp': 289.51, 'feels_like': 289.79, 'temp_min': 288.8, 'temp_max': 289.51, 'pressure': 998, 'sea_level': 998, 'grnd_level': 941, 'humidity': 99, 'temp_kf': 0.71}, 'weather': [{'id': 501, 'main': 'Rain', 'description': 'moderate rain', 'icon': '10d'}], 'clouds': {'all': 100}, 'wind': {'speed': 1.29, 'deg': 111, 'gust': 2.21}, 'visibility': 88, 'pop': 1, 'rain': {'3h': 6.7}, 'sys': {'pod': 'd'}, 'dt_txt': '2024-09-09 12:00:00'}, {'dt': 1725894000, 'main': {'temp': 289.28, 'feels_like': 289.53, 'temp_min': 288.98, 'temp_max': 289.28, 'pressure': 996, 'sea_level': 996, 'grnd_level': 940, 'humidity': 99, 'temp_kf': 0.3}, 'weather': [{'id': 501, 'main': 'Rain', 'description': 'moderate rain', 'icon': '10d'}], 'clouds': {'all': 100}, 'wind': {'speed': 0.71, 'deg': 182, 'gust': 0.92}, 'visibility': 632, 'pop': 1, 'rain': {'3h': 10.59}, 'sys': {'pod': 'd'}, 'dt_txt': '2024-09-09 15:00:00'}, {'dt': 1725904800, 'main': {'temp': 288.31, 'feels_like': 288.44, 'temp_min': 288.31, 'temp_max': 288.31, 'pressure': 994, 'sea_level': 994, 'grnd_level': 939, 'humidity': 98, 'temp_kf': 0}, 'weather': [{'id': 501, 'main': 'Rain', 'description': 'moderate rain', 'icon': '10d'}], 'clouds': {'all': 100}, 'wind': {'speed': 1.67, 'deg': 301, 'gust': 1.7}, 'visibility': 10000, 'pop': 1, 'rain': {'3h': 4.11}, 'sys': {'pod': 'd'}, 'dt_txt': '2024-09-09 18:00:00'}, {'dt': 1725915600, 'main': {'temp': 287.5, 'feels_like': 287.5, 'temp_min': 287.5, 'temp_max': 287.5, 'pressure': 992, 'sea_level': 992, 'grnd_level': 937, 'humidity': 96, 'temp_kf': 0}, 'weather': [{'id': 500, 'main': 'Rain', 'description': 'light rain', 'icon': '10n'}], 'clouds': {'all': 100}, 'wind': {'speed': 1.12, 'deg': 304, 'gust': 1.04}, 'visibility': 10000, 'pop': 0.75, 'rain': {'3h': 0.81}, 'sys': {'pod': 'n'}, 'dt_txt': '2024-09-09 21:00:00'}, {'dt': 1725926400, 'main': {'temp': 286.9, 'feels_like': 286.78, 'temp_min': 286.9, 'temp_max': 286.9, 'pressure': 990, 'sea_level': 990, 'grnd_level': 935, 'humidity': 94, 'temp_kf': 0}, 'weather': [{'id': 500, 'main': 'Rain', 'description': 'light rain', 'icon': '10n'}], 'clouds': {'all': 100}, 'wind': {'speed': 1.14, 'deg': 314, 'gust': 1.36}, 'visibility': 10000, 'pop': 0.73, 'rain': {'3h': 0.71}, 'sys': {'pod': 'n'}, 'dt_txt': '2024-09-10 00:00:00'}, {'dt': 1725937200, 'main': {'temp': 286.67, 'feels_like': 286.53, 'temp_min': 286.67, 'temp_max': 286.67, 'pressure': 988, 'sea_level': 988, 'grnd_level': 933, 'humidity': 94, 'temp_kf': 0}, 'weather': [{'id': 804, 'main': 'Clouds', 'description': 'overcast clouds', 'icon': '04n'}], 'clouds': {'all': 100}, 'wind': {'speed': 1.1, 'deg': 278, 'gust': 0.87}, 'visibility': 10000, 'pop': 0.25, 'sys': {'pod': 'n'}, 'dt_txt': '2024-09-10 03:00:00'}, {'dt': 1725948000, 'main': {'temp': 286.31, 'feels_like': 286.11, 'temp_min': 286.31, 'temp_max': 286.31, 'pressure': 987, 'sea_level': 987, 'grnd_level': 932, 'humidity': 93, 'temp_kf': 0}, 'weather': [{'id': 804, 'main': 'Clouds', 'description': 'overcast clouds', 'icon': '04d'}], 'clouds': {'all': 100}, 'wind': {'speed': 1.65, 'deg': 258, 'gust': 2.04}, 'visibility': 10000, 'pop': 0.15, 'sys': {'pod': 'd'}, 'dt_txt': '2024-09-10 06:00:00'}, {'dt': 1725958800, 'main': {'temp': 287.9, 'feels_like': 287.26, 'temp_min': 287.9, 'temp_max': 287.9, 'pressure': 987, 'sea_level': 987, 'grnd_level': 933, 'humidity': 70, 'temp_kf': 0}, 'weather': [{'id': 803, 'main': 'Clouds', 'description': 'broken clouds', 'icon': '04d'}], 'clouds': {'all': 75}, 'wind': {'speed': 1.56, 'deg': 262, 'gust': 2.42}, 'visibility': 10000, 'pop': 0.06, 'sys': {'pod': 'd'}, 'dt_txt': '2024-09-10 09:00:00'}, {'dt': 1725969600, 'main': {'temp': 290.47, 'feels_like': 289.46, 'temp_min': 290.47, 'temp_max': 290.47, 'pressure': 988, 'sea_level': 988, 'grnd_level': 933, 'humidity': 46, 'temp_kf': 0}, 'weather': [{'id': 803, 'main': 'Clouds', 'description': 'broken clouds', 'icon': '04d'}], 'clouds': {'all': 54}, 'wind': {'speed': 2.76, 'deg': 200, 'gust': 4.58}, 'visibility': 10000, 'pop': 0, 'sys': {'pod': 'd'}, 'dt_txt': '2024-09-10 12:00:00'}, {'dt': 1725980400, 'main': {'temp': 287.01, 'feels_like': 286.38, 'temp_min': 287.01, 'temp_max': 287.01, 'pressure': 988, 'sea_level': 988, 'grnd_level': 933, 'humidity': 74, 'temp_kf': 0}, 'weather': [{'id': 803, 'main': 'Clouds', 'description': 'broken clouds', 'icon': '04d'}], 'clouds': {'all': 62}, 'wind': {'speed': 4.28, 'deg': 164, 'gust': 9.73}, 'visibility': 10000, 'pop': 0, 'sys': {'pod': 'd'}, 'dt_txt': '2024-09-10 15:00:00'}, {'dt': 1725991200, 'main': {'temp': 284.61, 'feels_like': 284.32, 'temp_min': 284.61, 'temp_max': 284.61, 'pressure': 987, 'sea_level': 987, 'grnd_level': 931, 'humidity': 96, 'temp_kf': 0}, 'weather': [{'id': 501, 'main': 'Rain', 'description': 'moderate rain', 'icon': '10n'}], 'clouds': {'all': 81}, 'wind': {'speed': 2.99, 'deg': 146, 'gust': 7.57}, 'visibility': 10000, 'pop': 1, 'rain': {'3h': 3.53}, 'sys': {'pod': 'n'}, 'dt_txt': '2024-09-10 18:00:00'}, {'dt': 1726002000, 'main': {'temp': 280.8, 'feels_like': 279.24, 'temp_min': 280.8, 'temp_max': 280.8, 'pressure': 989, 'sea_level': 989, 'grnd_level': 933, 'humidity': 98, 'temp_kf': 0}, 'weather': [{'id': 803, 'main': 'Clouds', 'description': 'broken clouds', 'icon': '04n'}], 'clouds': {'all': 79}, 'wind': {'speed': 2.44, 'deg': 176, 'gust': 6.41}, 'visibility': 10000, 'pop': 0.01, 'sys': {'pod': 'n'}, 'dt_txt': '2024-09-10 21:00:00'}, {'dt': 1726012800, 'main': {'temp': 278.69, 'feels_like': 276.98, 'temp_min': 278.69, 'temp_max': 278.69, 'pressure': 991, 'sea_level': 991, 'grnd_level': 934, 'humidity': 98, 'temp_kf': 0}, 'weather': [{'id': 803, 'main': 'Clouds', 'description': 'broken clouds', 'icon': '04n'}], 'clouds': {'all': 61}, 'wind': {'speed': 2.17, 'deg': 148, 'gust': 7.42}, 'visibility': 10000, 'pop': 0, 'sys': {'pod': 'n'}, 'dt_txt': '2024-09-11 00:00:00'}, {'dt': 1726023600, 'main': {'temp': 279.94, 'feels_like': 277.81, 'temp_min': 279.94, 'temp_max': 279.94, 'pressure': 990, 'sea_level': 990, 'grnd_level': 934, 'humidity': 94, 'temp_kf': 0}, 'weather': [{'id': 803, 'main': 'Clouds', 'description': 'broken clouds', 'icon': '04n'}], 'clouds': {'all': 71}, 'wind': {'speed': 3, 'deg': 141, 'gust': 9.75}, 'visibility': 10000, 'pop': 0, 'sys': {'pod': 'n'}, 'dt_txt': '2024-09-11 03:00:00'}, {'dt': 1726034400, 'main': {'temp': 280.86, 'feels_like': 278.35, 'temp_min': 280.86, 'temp_max': 280.86, 'pressure': 990, 'sea_level': 990, 'grnd_level': 934, 'humidity': 91, 'temp_kf': 0}, 'weather': [{'id': 500, 'main': 'Rain', 'description': 'light rain', 'icon': '10d'}], 'clouds': {'all': 86}, 'wind': {'speed': 3.97, 'deg': 157, 'gust': 10.75}, 'visibility': 10000, 'pop': 0.2, 'rain': {'3h': 0.11}, 'sys': {'pod': 'd'}, 'dt_txt': '2024-09-11 06:00:00'}, {'dt': 1726045200, 'main': {'temp': 282.37, 'feels_like': 279.68, 'temp_min': 282.37, 'temp_max': 282.37, 'pressure': 991, 'sea_level': 991, 'grnd_level': 935, 'humidity': 85, 'temp_kf': 0}, 'weather': [{'id': 500, 'main': 'Rain', 'description': 'light rain', 'icon': '10d'}], 'clouds': {'all': 100}, 'wind': {'speed': 5.22, 'deg': 166, 'gust': 12.15}, 'visibility': 10000, 'pop': 0.2, 'rain': {'3h': 0.14}, 'sys': {'pod': 'd'}, 'dt_txt': '2024-09-11 09:00:00'}, {'dt': 1726056000, 'main': {'temp': 283.94, 'feels_like': 283.14, 'temp_min': 283.94, 'temp_max': 283.94, 'pressure': 992, 'sea_level': 992, 'grnd_level': 936, 'humidity': 79, 'temp_kf': 0}, 'weather': [{'id': 500, 'main': 'Rain', 'description': 'light rain', 'icon': '10d'}], 'clouds': {'all': 97}, 'wind': {'speed': 5.85, 'deg': 183, 'gust': 10.98}, 'visibility': 10000, 'pop': 0.79, 'rain': {'3h': 0.53}, 'sys': {'pod': 'd'}, 'dt_txt': '2024-09-11 12:00:00'}, {'dt': 1726066800, 'main': {'temp': 284.88, 'feels_like': 284.15, 'temp_min': 284.88, 'temp_max': 284.88, 'pressure': 992, 'sea_level': 992, 'grnd_level': 936, 'humidity': 78, 'temp_kf': 0}, 'weather': [{'id': 500, 'main': 'Rain', 'description': 'light rain', 'icon': '10d'}], 'clouds': {'all': 69}, 'wind': {'speed': 4.64, 'deg': 178, 'gust': 7.34}, 'visibility': 10000, 'pop': 1, 'rain': {'3h': 0.74}, 'sys': {'pod': 'd'}, 'dt_txt': '2024-09-11 15:00:00'}, {'dt': 1726077600, 'main': {'temp': 280.73, 'feels_like': 279.44, 'temp_min': 280.73, 'temp_max': 280.73, 'pressure': 994, 'sea_level': 994, 'grnd_level': 938, 'humidity': 93, 'temp_kf': 0}, 'weather': [{'id': 500, 'main': 'Rain', 'description': 'light rain', 'icon': '10n'}], 'clouds': {'all': 83}, 'wind': {'speed': 2.09, 'deg': 149, 'gust': 5.11}, 'visibility': 10000, 'pop': 0.97, 'rain': {'3h': 0.21}, 'sys': {'pod': 'n'}, 'dt_txt': '2024-09-11 18:00:00'}, {'dt': 1726088400, 'main': {'temp': 280.41, 'feels_like': 280.41, 'temp_min': 280.41, 'temp_max': 280.41, 'pressure': 996, 'sea_level': 996, 'grnd_level': 939, 'humidity': 97, 'temp_kf': 0}, 'weather': [{'id': 804, 'main': 'Clouds', 'description': 'overcast clouds', 'icon': '04n'}], 'clouds': {'all': 100}, 'wind': {'speed': 0.77, 'deg': 201, 'gust': 1.13}, 'visibility': 10000, 'pop': 0.01, 'sys': {'pod': 'n'}, 'dt_txt': '2024-09-11 21:00:00'}, {'dt': 1726099200, 'main': {'temp': 280.8, 'feels_like': 280.8, 'temp_min': 280.8, 'temp_max': 280.8, 'pressure': 997, 'sea_level': 997, 'grnd_level': 940, 'humidity': 95, 'temp_kf': 0}, 'weather': [{'id': 804, 'main': 'Clouds', 'description': 'overcast clouds', 'icon': '04n'}], 'clouds': {'all': 100}, 'wind': {'speed': 0.96, 'deg': 202, 'gust': 0.89}, 'visibility': 10000, 'pop': 0, 'sys': {'pod': 'n'}, 'dt_txt': '2024-09-12 00:00:00'}, {'dt': 1726110000, 'main': {'temp': 279.17, 'feels_like': 279.17, 'temp_min': 279.17, 'temp_max': 279.17, 'pressure': 999, 'sea_level': 999, 'grnd_level': 941, 'humidity': 97, 'temp_kf': 0}, 'weather': [{'id': 803, 'main': 'Clouds', 'description': 'broken clouds', 'icon': '04n'}], 'clouds': {'all': 71}, 'wind': {'speed': 0.69, 'deg': 197, 'gust': 1.14}, 'visibility': 10000, 'pop': 0, 'sys': {'pod': 'n'}, 'dt_txt': '2024-09-12 03:00:00'}, {'dt': 1726120800, 'main': {'temp': 280.15, 'feels_like': 280.15, 'temp_min': 280.15, 'temp_max': 280.15, 'pressure': 1001, 'sea_level': 1001, 'grnd_level': 944, 'humidity': 95, 'temp_kf': 0}, 'weather': [{'id': 803, 'main': 'Clouds', 'description': 'broken clouds', 'icon': '04d'}], 'clouds': {'all': 83}, 'wind': {'speed': 1.04, 'deg': 163, 'gust': 1.62}, 'visibility': 10000, 'pop': 0, 'sys': {'pod': 'd'}, 'dt_txt': '2024-09-12 06:00:00'}, {'dt': 1726131600, 'main': {'temp': 283.32, 'feels_like': 282.43, 'temp_min': 283.32, 'temp_max': 283.32, 'pressure': 1003, 'sea_level': 1003, 'grnd_level': 946, 'humidity': 78, 'temp_kf': 0}, 'weather': [{'id': 804, 'main': 'Clouds', 'description': 'overcast clouds', 'icon': '04d'}], 'clouds': {'all': 100}, 'wind': {'speed': 0.92, 'deg': 167, 'gust': 0.97}, 'visibility': 10000, 'pop': 0, 'sys': {'pod': 'd'}, 'dt_txt': '2024-09-12 09:00:00'}, {'dt': 1726142400, 'main': {'temp': 285.69, 'feels_like': 284.62, 'temp_min': 285.69, 'temp_max': 285.69, 'pressure': 1004, 'sea_level': 1004, 'grnd_level': 948, 'humidity': 62, 'temp_kf': 0}, 'weather': [{'id': 500, 'main': 'Rain', 'description': 'light rain', 'icon': '10d'}], 'clouds': {'all': 87}, 'wind': {'speed': 1.59, 'deg': 199, 'gust': 2.73}, 'visibility': 10000, 'pop': 0.2, 'rain': {'3h': 0.22}, 'sys': {'pod': 'd'}, 'dt_txt': '2024-09-12 12:00:00'}, {'dt': 1726153200, 'main': {'temp': 286.52, 'feels_like': 285.24, 'temp_min': 286.52, 'temp_max': 286.52, 'pressure': 1006, 'sea_level': 1006, 'grnd_level': 949, 'humidity': 51, 'temp_kf': 0}, 'weather': [{'id': 500, 'main': 'Rain', 'description': 'light rain', 'icon': '10d'}], 'clouds': {'all': 100}, 'wind': {'speed': 1.86, 'deg': 240, 'gust': 4.34}, 'visibility': 10000, 'pop': 0.22, 'rain': {'3h': 0.29}, 'sys': {'pod': 'd'}, 'dt_txt': '2024-09-12 15:00:00'}, {'dt': 1726164000, 'main': {'temp': 281.07, 'feels_like': 279.97, 'temp_min': 281.07, 'temp_max': 281.07, 'pressure': 1008, 'sea_level': 1008, 'grnd_level': 951, 'humidity': 70, 'temp_kf': 0}, 'weather': [{'id': 804, 'main': 'Clouds', 'description': 'overcast clouds', 'icon': '04n'}], 'clouds': {'all': 87}, 'wind': {'speed': 1.94, 'deg': 302, 'gust': 1.46}, 'visibility': 10000, 'pop': 0, 'sys': {'pod': 'n'}, 'dt_txt': '2024-09-12 18:00:00'}, {'dt': 1726174800, 'main': {'temp': 278.92, 'feels_like': 277.25, 'temp_min': 278.92, 'temp_max': 278.92, 'pressure': 1011, 'sea_level': 1011, 'grnd_level': 953, 'humidity': 76, 'temp_kf': 0}, 'weather': [{'id': 800, 'main': 'Clear', 'description': 'clear sky', 'icon': '01n'}], 'clouds': {'all': 8}, 'wind': {'speed': 2.17, 'deg': 304, 'gust': 1.74}, 'visibility': 10000, 'pop': 0, 'sys': {'pod': 'n'}, 'dt_txt': '2024-09-12 21:00:00'}, {'dt': 1726185600, 'main': {'temp': 277.81, 'feels_like': 276.13, 'temp_min': 277.81, 'temp_max': 277.81, 'pressure': 1013, 'sea_level': 1013, 'grnd_level': 955, 'humidity': 79, 'temp_kf': 0}, 'weather': [{'id': 801, 'main': 'Clouds', 'description': 'few clouds', 'icon': '02n'}], 'clouds': {'all': 22}, 'wind': {'speed': 1.99, 'deg': 294, 'gust': 1.96}, 'visibility': 10000, 'pop': 0, 'sys': {'pod': 'n'}, 'dt_txt': '2024-09-13 00:00:00'}, {'dt': 1726196400, 'main': {'temp': 277.13, 'feels_like': 275.63, 'temp_min': 277.13, 'temp_max': 277.13, 'pressure': 1014, 'sea_level': 1014, 'grnd_level': 956, 'humidity': 83, 'temp_kf': 0}, 'weather': [{'id': 800, 'main': 'Clear', 'description': 'clear sky', 'icon': '01n'}], 'clouds': {'all': 3}, 'wind': {'speed': 1.74, 'deg': 295, 'gust': 1.46}, 'visibility': 10000, 'pop': 0, 'sys': {'pod': 'n'}, 'dt_txt': '2024-09-13 03:00:00'}, {'dt': 1726207200, 'main': {'temp': 278.57, 'feels_like': 277.59, 'temp_min': 278.57, 'temp_max': 278.57, 'pressure': 1016, 'sea_level': 1016, 'grnd_level': 957, 'humidity': 76, 'temp_kf': 0}, 'weather': [{'id': 800, 'main': 'Clear', 'description': 'clear sky', 'icon': '01d'}], 'clouds': {'all': 1}, 'wind': {'speed': 1.49, 'deg': 301, 'gust': 1.7}, 'visibility': 10000, 'pop': 0, 'sys': {'pod': 'd'}, 'dt_txt': '2024-09-13 06:00:00'}, {'dt': 1726218000, 'main': {'temp': 285.24, 'feels_like': 283.81, 'temp_min': 285.24, 'temp_max': 285.24, 'pressure': 1016, 'sea_level': 1016, 'grnd_level': 958, 'humidity': 50, 'temp_kf': 0}, 'weather': [{'id': 800, 'main': 'Clear', 'description': 'clear sky', 'icon': '01d'}], 'clouds': {'all': 0}, 'wind': {'speed': 0.5, 'deg': 277, 'gust': 1.75}, 'visibility': 10000, 'pop': 0, 'sys': {'pod': 'd'}, 'dt_txt': '2024-09-13 09:00:00'}, {'dt': 1726228800, 'main': {'temp': 287.84, 'feels_like': 286.38, 'temp_min': 287.84, 'temp_max': 287.84, 'pressure': 1016, 'sea_level': 1016, 'grnd_level': 959, 'humidity': 39, 'temp_kf': 0}, 'weather': [{'id': 800, 'main': 'Clear', 'description': 'clear sky', 'icon': '01d'}], 'clouds': {'all': 3}, 'wind': {'speed': 1.07, 'deg': 165, 'gust': 1.91}, 'visibility': 10000, 'pop': 0, 'sys': {'pod': 'd'}, 'dt_txt': '2024-09-13 12:00:00'}, {'dt': 1726239600, 'main': {'temp': 287.57, 'feels_like': 286.11, 'temp_min': 287.57, 'temp_max': 287.57, 'pressure': 1016, 'sea_level': 1016, 'grnd_level': 959, 'humidity': 40, 'temp_kf': 0}, 'weather': [{'id': 802, 'main': 'Clouds', 'description': 'scattered clouds', 'icon': '03d'}], 'clouds': {'all': 38}, 'wind': {'speed': 1.44, 'deg': 147, 'gust': 1.7}, 'visibility': 10000, 'pop': 0, 'sys': {'pod': 'd'}, 'dt_txt': '2024-09-13 15:00:00'}, {'dt': 1726250400, 'main': {'temp': 281.9, 'feels_like': 280.91, 'temp_min': 281.9, 'temp_max': 281.9, 'pressure': 1018, 'sea_level': 1018, 'grnd_level': 960, 'humidity': 66, 'temp_kf': 0}, 'weather': [{'id': 803, 'main': 'Clouds', 'description': 'broken clouds', 'icon': '04n'}], 'clouds': {'all': 62}, 'wind': {'speed': 1.97, 'deg': 310, 'gust': 1.97}, 'visibility': 10000, 'pop': 0, 'sys': {'pod': 'n'}, 'dt_txt': '2024-09-13 18:00:00'}, {'dt': 1726261200, 'main': {'temp': 278.78, 'feels_like': 276.91, 'temp_min': 278.78, 'temp_max': 278.78, 'pressure': 1021, 'sea_level': 1021, 'grnd_level': 962, 'humidity': 75, 'temp_kf': 0}, 'weather': [{'id': 802, 'main': 'Clouds', 'description': 'scattered clouds', 'icon': '03n'}], 'clouds': {'all': 26}, 'wind': {'speed': 2.37, 'deg': 308, 'gust': 2.4}, 'visibility': 10000, 'pop': 0, 'sys': {'pod': 'n'}, 'dt_txt': '2024-09-13 21:00:00'}, {'dt': 1726272000, 'main': {'temp': 277.79, 'feels_like': 275.88, 'temp_min': 277.79, 'temp_max': 277.79, 'pressure': 1022, 'sea_level': 1022, 'grnd_level': 963, 'humidity': 79, 'temp_kf': 0}, 'weather': [{'id': 801, 'main': 'Clouds', 'description': 'few clouds', 'icon': '02n'}], 'clouds': {'all': 16}, 'wind': {'speed': 2.22, 'deg': 301, 'gust': 2.15}, 'visibility': 10000, 'pop': 0, 'sys': {'pod': 'n'}, 'dt_txt': '2024-09-14 00:00:00'}, {'dt': 1726282800, 'main': {'temp': 276.85, 'feels_like': 274.85, 'temp_min': 276.85, 'temp_max': 276.85, 'pressure': 1023, 'sea_level': 1023, 'grnd_level': 964, 'humidity': 80, 'temp_kf': 0}, 'weather': [{'id': 800, 'main': 'Clear', 'description': 'clear sky', 'icon': '01n'}], 'clouds': {'all': 6}, 'wind': {'speed': 2.15, 'deg': 303, 'gust': 2.4}, 'visibility': 10000, 'pop': 0, 'sys': {'pod': 'n'}, 'dt_txt': '2024-09-14 03:00:00'}, {'dt': 1726293600, 'main': {'temp': 278.08, 'feels_like': 276.72, 'temp_min': 278.08, 'temp_max': 278.08, 'pressure': 1024, 'sea_level': 1024, 'grnd_level': 965, 'humidity': 75, 'temp_kf': 0}, 'weather': [{'id': 800, 'main': 'Clear', 'description': 'clear sky', 'icon': '01d'}], 'clouds': {'all': 7}, 'wind': {'speed': 1.74, 'deg': 304, 'gust': 2.74}, 'visibility': 10000, 'pop': 0, 'sys': {'pod': 'd'}, 'dt_txt': '2024-09-14 06:00:00'}], 'city': {'id': 3144113, 'name': 'Noresund', 'coord': {'lat': 60.1803, 'lon': 9.6231}, 'country': 'NO', 'population': 1000, 'timezone': 7200, 'sunrise': 1725856550, 'sunset': 1725904921}}\n"
     ]
    }
   ],
   "source": [
    "responseF = requests.get(urlF).json()\n",
    "print(responseF)"
   ]
  },
  {
   "cell_type": "code",
   "execution_count": 11,
   "metadata": {
    "ExecuteTime": {
     "end_time": "2024-08-17T10:19:07.510514Z",
     "start_time": "2024-08-17T10:19:07.506586Z"
    },
    "execution": {
     "iopub.execute_input": "2024-08-17T11:10:25.531372Z",
     "iopub.status.busy": "2024-08-17T11:10:25.531104Z",
     "iopub.status.idle": "2024-08-17T11:10:25.539982Z",
     "shell.execute_reply": "2024-08-17T11:10:25.539588Z"
    },
    "slideshow": {
     "slide_type": "slide"
    }
   },
   "outputs": [],
   "source": [
    "# Write JSON to file for viewing\n",
    "with open('downloads/forecast.json', 'w') as f:\n",
    "    json.dump(responseF, f, indent=4)"
   ]
  },
  {
   "cell_type": "markdown",
   "metadata": {
    "slideshow": {
     "slide_type": "slide"
    }
   },
   "source": [
    "### When and what?\n",
    "Check contents and time stamps"
   ]
  },
  {
   "cell_type": "code",
   "execution_count": 12,
   "metadata": {
    "ExecuteTime": {
     "end_time": "2024-08-17T10:19:07.514214Z",
     "start_time": "2024-08-17T10:19:07.511162Z"
    },
    "execution": {
     "iopub.execute_input": "2024-08-17T11:10:25.542077Z",
     "iopub.status.busy": "2024-08-17T11:10:25.541931Z",
     "iopub.status.idle": "2024-08-17T11:10:25.546399Z",
     "shell.execute_reply": "2024-08-17T11:10:25.546054Z"
    },
    "slideshow": {
     "slide_type": "-"
    }
   },
   "outputs": [
    {
     "data": {
      "text/plain": [
       "dict_keys(['cod', 'message', 'cnt', 'list', 'city'])"
      ]
     },
     "execution_count": 12,
     "metadata": {},
     "output_type": "execute_result"
    }
   ],
   "source": [
    "# Content of responseF\n",
    "responseF.keys()"
   ]
  },
  {
   "cell_type": "code",
   "execution_count": 13,
   "metadata": {
    "ExecuteTime": {
     "end_time": "2024-08-17T10:19:07.516813Z",
     "start_time": "2024-08-17T10:19:07.514918Z"
    },
    "execution": {
     "iopub.execute_input": "2024-08-17T11:10:25.548459Z",
     "iopub.status.busy": "2024-08-17T11:10:25.548206Z",
     "iopub.status.idle": "2024-08-17T11:10:25.550357Z",
     "shell.execute_reply": "2024-08-17T11:10:25.550017Z"
    },
    "slideshow": {
     "slide_type": "fragment"
    }
   },
   "outputs": [
    {
     "name": "stdout",
     "output_type": "stream",
     "text": [
      "40\n"
     ]
    }
   ],
   "source": [
    "# Number of forecasts\n",
    "print(len(responseF[\"list\"]))"
   ]
  },
  {
   "cell_type": "code",
   "execution_count": 14,
   "metadata": {
    "ExecuteTime": {
     "end_time": "2024-08-17T10:19:07.520443Z",
     "start_time": "2024-08-17T10:19:07.518884Z"
    },
    "execution": {
     "iopub.execute_input": "2024-08-17T11:10:25.552002Z",
     "iopub.status.busy": "2024-08-17T11:10:25.551866Z",
     "iopub.status.idle": "2024-08-17T11:10:25.553997Z",
     "shell.execute_reply": "2024-08-17T11:10:25.553697Z"
    },
    "slideshow": {
     "slide_type": "slide"
    }
   },
   "outputs": [
    {
     "name": "stdout",
     "output_type": "stream",
     "text": [
      "2024-09-09 09:00:00\n",
      "2024-09-09 12:00:00\n",
      "2024-09-09 15:00:00\n",
      "2024-09-09 18:00:00\n",
      "2024-09-09 21:00:00\n",
      "2024-09-10 00:00:00\n",
      "2024-09-10 03:00:00\n",
      "2024-09-10 06:00:00\n",
      "2024-09-10 09:00:00\n",
      "2024-09-10 12:00:00\n",
      "2024-09-10 15:00:00\n",
      "2024-09-10 18:00:00\n",
      "2024-09-10 21:00:00\n",
      "2024-09-11 00:00:00\n",
      "2024-09-11 03:00:00\n",
      "2024-09-11 06:00:00\n",
      "2024-09-11 09:00:00\n",
      "2024-09-11 12:00:00\n",
      "2024-09-11 15:00:00\n",
      "2024-09-11 18:00:00\n",
      "2024-09-11 21:00:00\n",
      "2024-09-12 00:00:00\n",
      "2024-09-12 03:00:00\n",
      "2024-09-12 06:00:00\n",
      "2024-09-12 09:00:00\n",
      "2024-09-12 12:00:00\n",
      "2024-09-12 15:00:00\n",
      "2024-09-12 18:00:00\n",
      "2024-09-12 21:00:00\n",
      "2024-09-13 00:00:00\n",
      "2024-09-13 03:00:00\n",
      "2024-09-13 06:00:00\n",
      "2024-09-13 09:00:00\n",
      "2024-09-13 12:00:00\n",
      "2024-09-13 15:00:00\n",
      "2024-09-13 18:00:00\n",
      "2024-09-13 21:00:00\n",
      "2024-09-14 00:00:00\n",
      "2024-09-14 03:00:00\n",
      "2024-09-14 06:00:00\n"
     ]
    }
   ],
   "source": [
    "# Print forecast times\n",
    "for forecast in responseF[\"list\"]:\n",
    "    print(forecast[\"dt_txt\"])"
   ]
  },
  {
   "cell_type": "markdown",
   "metadata": {
    "slideshow": {
     "slide_type": "slide"
    }
   },
   "source": [
    "## Make plots of omnipresent measurements and events\n",
    "We will later look at missing data, data only sporadically appearing and so on."
   ]
  },
  {
   "cell_type": "code",
   "execution_count": 15,
   "metadata": {
    "ExecuteTime": {
     "end_time": "2024-08-17T10:19:07.522603Z",
     "start_time": "2024-08-17T10:19:07.521029Z"
    },
    "execution": {
     "iopub.execute_input": "2024-08-17T11:10:25.555625Z",
     "iopub.status.busy": "2024-08-17T11:10:25.555523Z",
     "iopub.status.idle": "2024-08-17T11:10:25.557734Z",
     "shell.execute_reply": "2024-08-17T11:10:25.557460Z"
    },
    "slideshow": {
     "slide_type": "-"
    }
   },
   "outputs": [],
   "source": [
    "# Air pressure per period\n",
    "pressures = []\n",
    "timestamps = []\n",
    "for forecast in responseF[\"list\"]:\n",
    "    pressures.append(forecast[\"main\"][\"pressure\"])\n",
    "    timestamps.append(dt.datetime.fromtimestamp(forecast[\"dt\"]))"
   ]
  },
  {
   "cell_type": "code",
   "execution_count": 16,
   "metadata": {
    "ExecuteTime": {
     "end_time": "2024-08-17T10:19:08.124779Z",
     "start_time": "2024-08-17T10:19:07.523100Z"
    },
    "execution": {
     "iopub.execute_input": "2024-08-17T11:10:25.559671Z",
     "iopub.status.busy": "2024-08-17T11:10:25.559500Z",
     "iopub.status.idle": "2024-08-17T11:10:25.930224Z",
     "shell.execute_reply": "2024-08-17T11:10:25.929965Z"
    },
    "slideshow": {
     "slide_type": "slide"
    }
   },
   "outputs": [
    {
     "data": {
      "image/png": "[encoded data removed]",
      "text/plain": [
       "<Figure size 640x480 with 1 Axes>"
      ]
     },
     "metadata": {},
     "output_type": "display_data"
    }
   ],
   "source": [
    "import matplotlib.pyplot as plt\n",
    "plt.bar(timestamps, pressures)\n",
    "plt.xticks(rotation=45)\n",
    "plt.ylim(950, 1050)\n",
    "plt.grid()\n",
    "plt.ylabel(\"Air pressure (hPa)\")\n",
    "plt.title(f\"Forecasted air pressure in {CITY}\")\n",
    "plt.show()"
   ]
  },
  {
   "cell_type": "markdown",
   "metadata": {
    "slideshow": {
     "slide_type": "slide"
    }
   },
   "source": [
    "## Exercise\n",
    "- Make a new forecast request for your own hometown. Call your response something else than responseF.\n",
    "- If available, plot the humidity like we did with air pressure."
   ]
  },
  {
   "cell_type": "markdown",
   "metadata": {
    "slideshow": {
     "slide_type": "slide"
    }
   },
   "source": [
    "### Precipitation\n",
    "- ... comes in two main flavours: rain and snow.\n",
    "- We need to check which is present and set to zero if it is abscent."
   ]
  },
  {
   "cell_type": "code",
   "execution_count": 17,
   "metadata": {
    "ExecuteTime": {
     "end_time": "2024-08-17T10:19:08.128573Z",
     "start_time": "2024-08-17T10:19:08.125858Z"
    },
    "execution": {
     "iopub.execute_input": "2024-08-17T11:10:25.931772Z",
     "iopub.status.busy": "2024-08-17T11:10:25.931647Z",
     "iopub.status.idle": "2024-08-17T11:10:25.933559Z",
     "shell.execute_reply": "2024-08-17T11:10:25.933354Z"
    },
    "slideshow": {
     "slide_type": "-"
    }
   },
   "outputs": [],
   "source": [
    "rain = []\n",
    "snow = []\n",
    "for forecast in responseF[\"list\"]:\n",
    "    try: # Check if rain is present in forecast\n",
    "        rain.append(forecast[\"rain\"][\"3h\"])\n",
    "    except KeyError:\n",
    "        rain.append(0)\n",
    "    try: # Check if snow is present in forecast\n",
    "        snow.append(forecast[\"snow\"][\"3h\"])\n",
    "    except KeyError:\n",
    "        snow.append(0)"
   ]
  },
  {
   "cell_type": "code",
   "execution_count": 18,
   "metadata": {
    "ExecuteTime": {
     "end_time": "2024-08-17T10:19:08.223315Z",
     "start_time": "2024-08-17T10:19:08.129282Z"
    },
    "execution": {
     "iopub.execute_input": "2024-08-17T11:10:25.934695Z",
     "iopub.status.busy": "2024-08-17T11:10:25.934624Z",
     "iopub.status.idle": "2024-08-17T11:10:26.030528Z",
     "shell.execute_reply": "2024-08-17T11:10:26.030279Z"
    },
    "slideshow": {
     "slide_type": "slide"
    }
   },
   "outputs": [
    {
     "data": {
      "image/png": "[encoded data removed]",
      "text/plain": [
       "<Figure size 640x480 with 1 Axes>"
      ]
     },
     "metadata": {},
     "output_type": "display_data"
    }
   ],
   "source": [
    "# Stacked bar chart with rain and snow\n",
    "plt.bar(timestamps, rain, label=\"Rain\")\n",
    "plt.bar(timestamps, snow, label=\"Snow\")\n",
    "plt.xticks(rotation=45)\n",
    "plt.grid()\n",
    "plt.ylabel(\"Precipitation (mm)\")\n",
    "plt.title(f\"Forecasted precipitation in {CITY}\")\n",
    "plt.legend()\n",
    "plt.show()\n"
   ]
  },
  {
   "cell_type": "markdown",
   "metadata": {
    "slideshow": {
     "slide_type": "slide"
    }
   },
   "source": [
    "```{seealso} Resources\n",
    ":class: tip\n",
    "- [YouTube: NeuralNine's video (15m:32s)](https://www.youtube.com/watch?v=9P5MY_2i7K8)\n",
    "```"
   ]
  }
 ],
 "metadata": {
  "celltoolbar": "Slideshow",
  "kernelspec": {
   "display_name": "Python 3 (ipykernel)",
   "language": "python",
   "name": "python3"
  },
  "language_info": {
   "codemirror_mode": {
    "name": "ipython",
    "version": 3
   },
   "file_extension": ".py",
   "mimetype": "text/x-python",
   "name": "python",
   "nbconvert_exporter": "python",
   "pygments_lexer": "ipython3",
   "version": "3.12.4"
  }
 },
 "nbformat": 4,
 "nbformat_minor": 2
}