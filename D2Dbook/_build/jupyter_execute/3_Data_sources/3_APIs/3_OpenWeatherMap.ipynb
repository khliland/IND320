{
 "cells": [
  {
   "cell_type": "markdown",
   "metadata": {
    "slideshow": {
     "slide_type": "slide"
    }
   },
   "source": [
    "# Demonstration of API using OpenWeatherMap.org\n",
    "This demonstration is heavily inspired by [NeuralNine's video](https://www.youtube.com/watch?v=9P5MY_2i7K8).  \n",
    "You need a free account [from here](https://openweathermap.org/api).  \n",
    "The VS Code extension _JSON viewer_ is recommended for viewing downloaded JSON content.  \n",
    "  - Set your maximum API calls to 1000 per day to make sure you are under the limit for billing. \n",
    "  - To run the examples, download your API key, save it in the right folder (see below) in a file called _api\\_key\\_OpenWeather_, containing only the key (no spaces or \"enters\")."
   ]
  },
  {
   "cell_type": "code",
   "execution_count": 1,
   "metadata": {
    "slideshow": {
     "slide_type": "fragment"
    }
   },
   "outputs": [],
   "source": [
    "# Imports\n",
    "import datetime as dt\n",
    "import requests\n",
    "import json"
   ]
  },
  {
   "cell_type": "markdown",
   "metadata": {
    "slideshow": {
     "slide_type": "slide"
    }
   },
   "source": [
    "## Current weather\n",
    "### Common definitions to use for all requests"
   ]
  },
  {
   "cell_type": "code",
   "execution_count": 2,
   "metadata": {
    "slideshow": {
     "slide_type": "-"
    }
   },
   "outputs": [],
   "source": [
    "BASE_URL = \"http://api.openweathermap.org/data/2.5/weather?\"\n",
    "API_KEY = open('../../../No_sync/api_key_OpenWeather','r').read()\n",
    "CITY = \"Ski\"\n",
    "\n",
    "url = BASE_URL + \"q=\" + CITY + \"&appid=\" + API_KEY"
   ]
  },
  {
   "cell_type": "markdown",
   "metadata": {
    "slideshow": {
     "slide_type": "slide"
    }
   },
   "source": [
    "## Request current weather in chosen city"
   ]
  },
  {
   "cell_type": "code",
   "execution_count": 3,
   "metadata": {
    "slideshow": {
     "slide_type": "fragment"
    }
   },
   "outputs": [
    {
     "name": "stdout",
     "output_type": "stream",
     "text": [
      "{'coord': {'lon': 10.8358, 'lat': 59.7195}, 'weather': [{'id': 500, 'main': 'Rain', 'description': 'light rain', 'icon': '10d'}], 'base': 'stations', 'main': {'temp': 287.53, 'feels_like': 287.53, 'temp_min': 286.87, 'temp_max': 288.2, 'pressure': 999, 'humidity': 96, 'sea_level': 999, 'grnd_level': 983}, 'visibility': 10000, 'wind': {'speed': 5.58, 'deg': 133, 'gust': 14.45}, 'rain': {'1h': 0.24}, 'clouds': {'all': 100}, 'dt': 1723199978, 'sys': {'type': 2, 'id': 2006772, 'country': 'NO', 'sunrise': 1723173532, 'sunset': 1723231529}, 'timezone': 7200, 'id': 3139081, 'name': 'Ski', 'cod': 200}\n"
     ]
    }
   ],
   "source": [
    "response = requests.get(url).json()\n",
    "print(response)"
   ]
  },
  {
   "cell_type": "code",
   "execution_count": 4,
   "metadata": {
    "slideshow": {
     "slide_type": "fragment"
    }
   },
   "outputs": [],
   "source": [
    "# Write JSON to file for viewing\n",
    "with open('downloads/weather.json', 'w') as f:\n",
    "    json.dump(response, f, indent=4)"
   ]
  },
  {
   "cell_type": "markdown",
   "metadata": {
    "slideshow": {
     "slide_type": "slide"
    }
   },
   "source": [
    "## Conversion functions\n",
    "Changing scales can make results more interpretable"
   ]
  },
  {
   "cell_type": "code",
   "execution_count": 5,
   "metadata": {
    "slideshow": {
     "slide_type": "-"
    }
   },
   "outputs": [],
   "source": [
    "# Kelvin to Celsius\n",
    "def kelvin_to_celsius(temp):\n",
    "    return temp - 273.15\n",
    "\n",
    "# Meters per second to knots\n",
    "def mps_to_knots(speed):\n",
    "    return speed * 1.943844"
   ]
  },
  {
   "cell_type": "markdown",
   "metadata": {
    "slideshow": {
     "slide_type": "slide"
    }
   },
   "source": [
    "## Print some weather properties"
   ]
  },
  {
   "cell_type": "code",
   "execution_count": 6,
   "metadata": {
    "slideshow": {
     "slide_type": "-"
    }
   },
   "outputs": [
    {
     "name": "stdout",
     "output_type": "stream",
     "text": [
      "The current temperature in Ski is 14.4°C\n"
     ]
    }
   ],
   "source": [
    "# Current temperature\n",
    "temp_kelvin = response['main']['temp']\n",
    "temp_celsius = kelvin_to_celsius(temp_kelvin)\n",
    "print(f\"The current temperature in {CITY} is {temp_celsius:.1f}°C\")"
   ]
  },
  {
   "cell_type": "code",
   "execution_count": 7,
   "metadata": {
    "slideshow": {
     "slide_type": "slide"
    }
   },
   "outputs": [
    {
     "name": "stdout",
     "output_type": "stream",
     "text": [
      "Sunrise today is at 05:18 and sunset is at 21:25\n"
     ]
    }
   ],
   "source": [
    "# Sunrise and sunset today in local time\n",
    "sunrise = dt.datetime.fromtimestamp(response['sys']['sunrise'])\n",
    "sunset = dt.datetime.fromtimestamp(response['sys']['sunset'])\n",
    "print(f\"Sunrise today is at {sunrise:%H:%M} and sunset is at {sunset:%H:%M}\")"
   ]
  },
  {
   "cell_type": "code",
   "execution_count": 8,
   "metadata": {
    "slideshow": {
     "slide_type": "fragment"
    }
   },
   "outputs": [
    {
     "name": "stdout",
     "output_type": "stream",
     "text": [
      "Wind today is from 133° at 10.8 knots\n"
     ]
    }
   ],
   "source": [
    "# Wind direction and speed\n",
    "wind_knots = mps_to_knots(response['wind']['speed'])\n",
    "print(f\"Wind today is from {response['wind']['deg']}° at {round(wind_knots,1)} knots\")"
   ]
  },
  {
   "cell_type": "markdown",
   "metadata": {
    "slideshow": {
     "slide_type": "slide"
    }
   },
   "source": [
    "## Forecasted weather\n",
    "### Common definitions to use for all requests"
   ]
  },
  {
   "cell_type": "code",
   "execution_count": 9,
   "metadata": {
    "slideshow": {
     "slide_type": "-"
    }
   },
   "outputs": [],
   "source": [
    "BASE_URL = \"http://api.openweathermap.org/data/2.5/forecast?\"\n",
    "CITY = \"Noresund\"\n",
    "\n",
    "urlF = BASE_URL + \"q=\" + CITY + \"&appid=\" + API_KEY"
   ]
  },
  {
   "cell_type": "markdown",
   "metadata": {
    "slideshow": {
     "slide_type": "slide"
    }
   },
   "source": [
    "## Request forecasted weather in chosen city"
   ]
  },
  {
   "cell_type": "code",
   "execution_count": 10,
   "metadata": {
    "slideshow": {
     "slide_type": "-"
    }
   },
   "outputs": [
    {
     "name": "stdout",
     "output_type": "stream",
     "text": [
      "{'cod': '200', 'message': 0, 'cnt': 40, 'list': [{'dt': 1723204800, 'main': {'temp': 288.21, 'feels_like': 288.28, 'temp_min': 286.72, 'temp_max': 288.21, 'pressure': 997, 'sea_level': 997, 'grnd_level': 942, 'humidity': 96, 'temp_kf': 1.49}, 'weather': [{'id': 501, 'main': 'Rain', 'description': 'moderate rain', 'icon': '10d'}], 'clouds': {'all': 100}, 'wind': {'speed': 1.06, 'deg': 33, 'gust': 1.75}, 'pop': 1, 'rain': {'3h': 3.89}, 'sys': {'pod': 'd'}, 'dt_txt': '2024-08-09 12:00:00'}, {'dt': 1723215600, 'main': {'temp': 287.92, 'feels_like': 287.99, 'temp_min': 287.33, 'temp_max': 287.92, 'pressure': 996, 'sea_level': 996, 'grnd_level': 940, 'humidity': 97, 'temp_kf': 0.59}, 'weather': [{'id': 500, 'main': 'Rain', 'description': 'light rain', 'icon': '10d'}], 'clouds': {'all': 100}, 'wind': {'speed': 1.12, 'deg': 223, 'gust': 1.34}, 'visibility': 6988, 'pop': 1, 'rain': {'3h': 2.61}, 'sys': {'pod': 'd'}, 'dt_txt': '2024-08-09 15:00:00'}, {'dt': 1723226400, 'main': {'temp': 288.48, 'feels_like': 288.52, 'temp_min': 288.48, 'temp_max': 288.61, 'pressure': 996, 'sea_level': 996, 'grnd_level': 940, 'humidity': 94, 'temp_kf': -0.13}, 'weather': [{'id': 500, 'main': 'Rain', 'description': 'light rain', 'icon': '10d'}], 'clouds': {'all': 99}, 'wind': {'speed': 1, 'deg': 196, 'gust': 1.38}, 'visibility': 10000, 'pop': 1, 'rain': {'3h': 0.19}, 'sys': {'pod': 'd'}, 'dt_txt': '2024-08-09 18:00:00'}, {'dt': 1723237200, 'main': {'temp': 285.94, 'feels_like': 285.7, 'temp_min': 285.94, 'temp_max': 285.94, 'pressure': 998, 'sea_level': 998, 'grnd_level': 942, 'humidity': 93, 'temp_kf': 0}, 'weather': [{'id': 500, 'main': 'Rain', 'description': 'light rain', 'icon': '10n'}], 'clouds': {'all': 75}, 'wind': {'speed': 2.05, 'deg': 286, 'gust': 1.66}, 'visibility': 10000, 'pop': 0.2, 'rain': {'3h': 0.24}, 'sys': {'pod': 'n'}, 'dt_txt': '2024-08-09 21:00:00'}, {'dt': 1723248000, 'main': {'temp': 282.55, 'feels_like': 281.5, 'temp_min': 282.55, 'temp_max': 282.55, 'pressure': 999, 'sea_level': 999, 'grnd_level': 943, 'humidity': 93, 'temp_kf': 0}, 'weather': [{'id': 802, 'main': 'Clouds', 'description': 'scattered clouds', 'icon': '03n'}], 'clouds': {'all': 45}, 'wind': {'speed': 2.18, 'deg': 274, 'gust': 1.62}, 'visibility': 10000, 'pop': 0, 'sys': {'pod': 'n'}, 'dt_txt': '2024-08-10 00:00:00'}, {'dt': 1723258800, 'main': {'temp': 282.03, 'feels_like': 280.98, 'temp_min': 282.03, 'temp_max': 282.03, 'pressure': 1000, 'sea_level': 1000, 'grnd_level': 944, 'humidity': 92, 'temp_kf': 0}, 'weather': [{'id': 802, 'main': 'Clouds', 'description': 'scattered clouds', 'icon': '03n'}], 'clouds': {'all': 38}, 'wind': {'speed': 2.07, 'deg': 268, 'gust': 1.81}, 'visibility': 10000, 'pop': 0, 'sys': {'pod': 'n'}, 'dt_txt': '2024-08-10 03:00:00'}, {'dt': 1723269600, 'main': {'temp': 285.53, 'feels_like': 285.02, 'temp_min': 285.53, 'temp_max': 285.53, 'pressure': 1001, 'sea_level': 1001, 'grnd_level': 945, 'humidity': 84, 'temp_kf': 0}, 'weather': [{'id': 803, 'main': 'Clouds', 'description': 'broken clouds', 'icon': '04d'}], 'clouds': {'all': 68}, 'wind': {'speed': 1.13, 'deg': 251, 'gust': 2.87}, 'visibility': 10000, 'pop': 0, 'sys': {'pod': 'd'}, 'dt_txt': '2024-08-10 06:00:00'}, {'dt': 1723280400, 'main': {'temp': 289.83, 'feels_like': 288.99, 'temp_min': 289.83, 'temp_max': 289.83, 'pressure': 1001, 'sea_level': 1001, 'grnd_level': 946, 'humidity': 55, 'temp_kf': 0}, 'weather': [{'id': 804, 'main': 'Clouds', 'description': 'overcast clouds', 'icon': '04d'}], 'clouds': {'all': 98}, 'wind': {'speed': 3.08, 'deg': 250, 'gust': 8.18}, 'visibility': 10000, 'pop': 0, 'sys': {'pod': 'd'}, 'dt_txt': '2024-08-10 09:00:00'}, {'dt': 1723291200, 'main': {'temp': 290.94, 'feels_like': 290.13, 'temp_min': 290.94, 'temp_max': 290.94, 'pressure': 1002, 'sea_level': 1002, 'grnd_level': 947, 'humidity': 52, 'temp_kf': 0}, 'weather': [{'id': 804, 'main': 'Clouds', 'description': 'overcast clouds', 'icon': '04d'}], 'clouds': {'all': 97}, 'wind': {'speed': 5.11, 'deg': 244, 'gust': 10.85}, 'visibility': 10000, 'pop': 0, 'sys': {'pod': 'd'}, 'dt_txt': '2024-08-10 12:00:00'}, {'dt': 1723302000, 'main': {'temp': 290.6, 'feels_like': 289.81, 'temp_min': 290.6, 'temp_max': 290.6, 'pressure': 1003, 'sea_level': 1003, 'grnd_level': 947, 'humidity': 54, 'temp_kf': 0}, 'weather': [{'id': 804, 'main': 'Clouds', 'description': 'overcast clouds', 'icon': '04d'}], 'clouds': {'all': 98}, 'wind': {'speed': 4.93, 'deg': 250, 'gust': 10.85}, 'visibility': 10000, 'pop': 0, 'sys': {'pod': 'd'}, 'dt_txt': '2024-08-10 15:00:00'}, {'dt': 1723312800, 'main': {'temp': 288.52, 'feels_like': 287.63, 'temp_min': 288.52, 'temp_max': 288.52, 'pressure': 1004, 'sea_level': 1004, 'grnd_level': 948, 'humidity': 58, 'temp_kf': 0}, 'weather': [{'id': 804, 'main': 'Clouds', 'description': 'overcast clouds', 'icon': '04d'}], 'clouds': {'all': 85}, 'wind': {'speed': 4.89, 'deg': 268, 'gust': 12.84}, 'visibility': 10000, 'pop': 0, 'sys': {'pod': 'd'}, 'dt_txt': '2024-08-10 18:00:00'}, {'dt': 1723323600, 'main': {'temp': 284.16, 'feels_like': 283.3, 'temp_min': 284.16, 'temp_max': 284.16, 'pressure': 1005, 'sea_level': 1005, 'grnd_level': 949, 'humidity': 76, 'temp_kf': 0}, 'weather': [{'id': 803, 'main': 'Clouds', 'description': 'broken clouds', 'icon': '04n'}], 'clouds': {'all': 69}, 'wind': {'speed': 2.06, 'deg': 271, 'gust': 2.64}, 'visibility': 10000, 'pop': 0, 'sys': {'pod': 'n'}, 'dt_txt': '2024-08-10 21:00:00'}, {'dt': 1723334400, 'main': {'temp': 284.83, 'feels_like': 284.01, 'temp_min': 284.83, 'temp_max': 284.83, 'pressure': 1006, 'sea_level': 1006, 'grnd_level': 949, 'humidity': 75, 'temp_kf': 0}, 'weather': [{'id': 803, 'main': 'Clouds', 'description': 'broken clouds', 'icon': '04n'}], 'clouds': {'all': 59}, 'wind': {'speed': 3.13, 'deg': 286, 'gust': 6.38}, 'visibility': 10000, 'pop': 0, 'sys': {'pod': 'n'}, 'dt_txt': '2024-08-11 00:00:00'}, {'dt': 1723345200, 'main': {'temp': 283.83, 'feels_like': 282.99, 'temp_min': 283.83, 'temp_max': 283.83, 'pressure': 1007, 'sea_level': 1007, 'grnd_level': 950, 'humidity': 78, 'temp_kf': 0}, 'weather': [{'id': 803, 'main': 'Clouds', 'description': 'broken clouds', 'icon': '04n'}], 'clouds': {'all': 75}, 'wind': {'speed': 2.45, 'deg': 287, 'gust': 4.54}, 'visibility': 10000, 'pop': 0, 'sys': {'pod': 'n'}, 'dt_txt': '2024-08-11 03:00:00'}, {'dt': 1723356000, 'main': {'temp': 287.27, 'feels_like': 286.36, 'temp_min': 287.27, 'temp_max': 287.27, 'pressure': 1009, 'sea_level': 1009, 'grnd_level': 953, 'humidity': 62, 'temp_kf': 0}, 'weather': [{'id': 802, 'main': 'Clouds', 'description': 'scattered clouds', 'icon': '03d'}], 'clouds': {'all': 37}, 'wind': {'speed': 2.06, 'deg': 283, 'gust': 6.01}, 'visibility': 10000, 'pop': 0, 'sys': {'pod': 'd'}, 'dt_txt': '2024-08-11 06:00:00'}, {'dt': 1723366800, 'main': {'temp': 291.22, 'feels_like': 290.15, 'temp_min': 291.22, 'temp_max': 291.22, 'pressure': 1010, 'sea_level': 1010, 'grnd_level': 954, 'humidity': 41, 'temp_kf': 0}, 'weather': [{'id': 800, 'main': 'Clear', 'description': 'clear sky', 'icon': '01d'}], 'clouds': {'all': 1}, 'wind': {'speed': 3.23, 'deg': 298, 'gust': 5.54}, 'visibility': 10000, 'pop': 0, 'sys': {'pod': 'd'}, 'dt_txt': '2024-08-11 09:00:00'}, {'dt': 1723377600, 'main': {'temp': 293.75, 'feels_like': 292.75, 'temp_min': 293.75, 'temp_max': 293.75, 'pressure': 1010, 'sea_level': 1010, 'grnd_level': 954, 'humidity': 34, 'temp_kf': 0}, 'weather': [{'id': 800, 'main': 'Clear', 'description': 'clear sky', 'icon': '01d'}], 'clouds': {'all': 3}, 'wind': {'speed': 3.26, 'deg': 305, 'gust': 4.84}, 'visibility': 10000, 'pop': 0, 'sys': {'pod': 'd'}, 'dt_txt': '2024-08-11 12:00:00'}, {'dt': 1723388400, 'main': {'temp': 293.9, 'feels_like': 292.94, 'temp_min': 293.9, 'temp_max': 293.9, 'pressure': 1010, 'sea_level': 1010, 'grnd_level': 955, 'humidity': 35, 'temp_kf': 0}, 'weather': [{'id': 800, 'main': 'Clear', 'description': 'clear sky', 'icon': '01d'}], 'clouds': {'all': 6}, 'wind': {'speed': 3.69, 'deg': 297, 'gust': 4.8}, 'visibility': 10000, 'pop': 0, 'sys': {'pod': 'd'}, 'dt_txt': '2024-08-11 15:00:00'}, {'dt': 1723399200, 'main': {'temp': 290.47, 'feels_like': 289.56, 'temp_min': 290.47, 'temp_max': 290.47, 'pressure': 1012, 'sea_level': 1012, 'grnd_level': 956, 'humidity': 50, 'temp_kf': 0}, 'weather': [{'id': 800, 'main': 'Clear', 'description': 'clear sky', 'icon': '01d'}], 'clouds': {'all': 5}, 'wind': {'speed': 3.32, 'deg': 295, 'gust': 7.62}, 'visibility': 10000, 'pop': 0, 'sys': {'pod': 'd'}, 'dt_txt': '2024-08-11 18:00:00'}, {'dt': 1723410000, 'main': {'temp': 284.69, 'feels_like': 283.7, 'temp_min': 284.69, 'temp_max': 284.69, 'pressure': 1014, 'sea_level': 1014, 'grnd_level': 958, 'humidity': 69, 'temp_kf': 0}, 'weather': [{'id': 801, 'main': 'Clouds', 'description': 'few clouds', 'icon': '02n'}], 'clouds': {'all': 17}, 'wind': {'speed': 2.44, 'deg': 302, 'gust': 2.42}, 'visibility': 10000, 'pop': 0, 'sys': {'pod': 'n'}, 'dt_txt': '2024-08-11 21:00:00'}, {'dt': 1723420800, 'main': {'temp': 283.23, 'feels_like': 282.17, 'temp_min': 283.23, 'temp_max': 283.23, 'pressure': 1016, 'sea_level': 1016, 'grnd_level': 959, 'humidity': 72, 'temp_kf': 0}, 'weather': [{'id': 801, 'main': 'Clouds', 'description': 'few clouds', 'icon': '02n'}], 'clouds': {'all': 11}, 'wind': {'speed': 1.99, 'deg': 300, 'gust': 1.68}, 'visibility': 10000, 'pop': 0, 'sys': {'pod': 'n'}, 'dt_txt': '2024-08-12 00:00:00'}, {'dt': 1723431600, 'main': {'temp': 282.26, 'feels_like': 281.43, 'temp_min': 282.26, 'temp_max': 282.26, 'pressure': 1016, 'sea_level': 1016, 'grnd_level': 959, 'humidity': 76, 'temp_kf': 0}, 'weather': [{'id': 800, 'main': 'Clear', 'description': 'clear sky', 'icon': '01n'}], 'clouds': {'all': 5}, 'wind': {'speed': 1.86, 'deg': 310, 'gust': 1.6}, 'visibility': 10000, 'pop': 0, 'sys': {'pod': 'n'}, 'dt_txt': '2024-08-12 03:00:00'}, {'dt': 1723442400, 'main': {'temp': 286.27, 'feels_like': 285.26, 'temp_min': 286.27, 'temp_max': 286.27, 'pressure': 1017, 'sea_level': 1017, 'grnd_level': 960, 'humidity': 62, 'temp_kf': 0}, 'weather': [{'id': 800, 'main': 'Clear', 'description': 'clear sky', 'icon': '01d'}], 'clouds': {'all': 9}, 'wind': {'speed': 0.74, 'deg': 40, 'gust': 0.88}, 'visibility': 10000, 'pop': 0, 'sys': {'pod': 'd'}, 'dt_txt': '2024-08-12 06:00:00'}, {'dt': 1723453200, 'main': {'temp': 290.51, 'feels_like': 289.58, 'temp_min': 290.51, 'temp_max': 290.51, 'pressure': 1016, 'sea_level': 1016, 'grnd_level': 960, 'humidity': 49, 'temp_kf': 0}, 'weather': [{'id': 802, 'main': 'Clouds', 'description': 'scattered clouds', 'icon': '03d'}], 'clouds': {'all': 38}, 'wind': {'speed': 2.02, 'deg': 154, 'gust': 2.59}, 'visibility': 10000, 'pop': 0, 'sys': {'pod': 'd'}, 'dt_txt': '2024-08-12 09:00:00'}, {'dt': 1723464000, 'main': {'temp': 293.98, 'feels_like': 293.14, 'temp_min': 293.98, 'temp_max': 293.98, 'pressure': 1014, 'sea_level': 1014, 'grnd_level': 959, 'humidity': 39, 'temp_kf': 0}, 'weather': [{'id': 802, 'main': 'Clouds', 'description': 'scattered clouds', 'icon': '03d'}], 'clouds': {'all': 47}, 'wind': {'speed': 2.18, 'deg': 186, 'gust': 3.01}, 'visibility': 10000, 'pop': 0, 'sys': {'pod': 'd'}, 'dt_txt': '2024-08-12 12:00:00'}, {'dt': 1723474800, 'main': {'temp': 294.1, 'feels_like': 293.3, 'temp_min': 294.1, 'temp_max': 294.1, 'pressure': 1013, 'sea_level': 1013, 'grnd_level': 958, 'humidity': 40, 'temp_kf': 0}, 'weather': [{'id': 804, 'main': 'Clouds', 'description': 'overcast clouds', 'icon': '04d'}], 'clouds': {'all': 88}, 'wind': {'speed': 2.8, 'deg': 188, 'gust': 3.1}, 'visibility': 10000, 'pop': 0, 'sys': {'pod': 'd'}, 'dt_txt': '2024-08-12 15:00:00'}, {'dt': 1723485600, 'main': {'temp': 290.57, 'feels_like': 290.06, 'temp_min': 290.57, 'temp_max': 290.57, 'pressure': 1014, 'sea_level': 1014, 'grnd_level': 958, 'humidity': 65, 'temp_kf': 0}, 'weather': [{'id': 804, 'main': 'Clouds', 'description': 'overcast clouds', 'icon': '04d'}], 'clouds': {'all': 94}, 'wind': {'speed': 1.37, 'deg': 187, 'gust': 2.17}, 'visibility': 10000, 'pop': 0, 'sys': {'pod': 'd'}, 'dt_txt': '2024-08-12 18:00:00'}, {'dt': 1723496400, 'main': {'temp': 288.21, 'feels_like': 287.68, 'temp_min': 288.21, 'temp_max': 288.21, 'pressure': 1014, 'sea_level': 1014, 'grnd_level': 958, 'humidity': 73, 'temp_kf': 0}, 'weather': [{'id': 804, 'main': 'Clouds', 'description': 'overcast clouds', 'icon': '04n'}], 'clouds': {'all': 100}, 'wind': {'speed': 0.8, 'deg': 222, 'gust': 0.76}, 'visibility': 10000, 'pop': 0, 'sys': {'pod': 'n'}, 'dt_txt': '2024-08-12 21:00:00'}, {'dt': 1723507200, 'main': {'temp': 286.13, 'feels_like': 285.65, 'temp_min': 286.13, 'temp_max': 286.13, 'pressure': 1015, 'sea_level': 1015, 'grnd_level': 958, 'humidity': 83, 'temp_kf': 0}, 'weather': [{'id': 804, 'main': 'Clouds', 'description': 'overcast clouds', 'icon': '04n'}], 'clouds': {'all': 100}, 'wind': {'speed': 0.41, 'deg': 229, 'gust': 0.53}, 'visibility': 10000, 'pop': 0, 'sys': {'pod': 'n'}, 'dt_txt': '2024-08-13 00:00:00'}, {'dt': 1723518000, 'main': {'temp': 285.86, 'feels_like': 285.54, 'temp_min': 285.86, 'temp_max': 285.86, 'pressure': 1015, 'sea_level': 1015, 'grnd_level': 958, 'humidity': 90, 'temp_kf': 0}, 'weather': [{'id': 500, 'main': 'Rain', 'description': 'light rain', 'icon': '10n'}], 'clouds': {'all': 100}, 'wind': {'speed': 1.14, 'deg': 175, 'gust': 1.03}, 'visibility': 10000, 'pop': 0.31, 'rain': {'3h': 0.2}, 'sys': {'pod': 'n'}, 'dt_txt': '2024-08-13 03:00:00'}, {'dt': 1723528800, 'main': {'temp': 286.67, 'feels_like': 286.4, 'temp_min': 286.67, 'temp_max': 286.67, 'pressure': 1015, 'sea_level': 1015, 'grnd_level': 958, 'humidity': 89, 'temp_kf': 0}, 'weather': [{'id': 804, 'main': 'Clouds', 'description': 'overcast clouds', 'icon': '04d'}], 'clouds': {'all': 100}, 'wind': {'speed': 0.94, 'deg': 171, 'gust': 1.85}, 'visibility': 10000, 'pop': 0, 'sys': {'pod': 'd'}, 'dt_txt': '2024-08-13 06:00:00'}, {'dt': 1723539600, 'main': {'temp': 291.94, 'feels_like': 291.49, 'temp_min': 291.94, 'temp_max': 291.94, 'pressure': 1014, 'sea_level': 1014, 'grnd_level': 958, 'humidity': 62, 'temp_kf': 0}, 'weather': [{'id': 804, 'main': 'Clouds', 'description': 'overcast clouds', 'icon': '04d'}], 'clouds': {'all': 90}, 'wind': {'speed': 2.49, 'deg': 152, 'gust': 4.39}, 'visibility': 10000, 'pop': 0, 'sys': {'pod': 'd'}, 'dt_txt': '2024-08-13 09:00:00'}, {'dt': 1723550400, 'main': {'temp': 295.26, 'feels_like': 294.91, 'temp_min': 295.26, 'temp_max': 295.26, 'pressure': 1013, 'sea_level': 1013, 'grnd_level': 957, 'humidity': 53, 'temp_kf': 0}, 'weather': [{'id': 804, 'main': 'Clouds', 'description': 'overcast clouds', 'icon': '04d'}], 'clouds': {'all': 94}, 'wind': {'speed': 3.59, 'deg': 160, 'gust': 6.55}, 'visibility': 10000, 'pop': 0, 'sys': {'pod': 'd'}, 'dt_txt': '2024-08-13 12:00:00'}, {'dt': 1723561200, 'main': {'temp': 295.47, 'feels_like': 295.01, 'temp_min': 295.47, 'temp_max': 295.47, 'pressure': 1011, 'sea_level': 1011, 'grnd_level': 956, 'humidity': 48, 'temp_kf': 0}, 'weather': [{'id': 804, 'main': 'Clouds', 'description': 'overcast clouds', 'icon': '04d'}], 'clouds': {'all': 93}, 'wind': {'speed': 4.16, 'deg': 161, 'gust': 7.12}, 'visibility': 10000, 'pop': 0, 'sys': {'pod': 'd'}, 'dt_txt': '2024-08-13 15:00:00'}, {'dt': 1723572000, 'main': {'temp': 289.85, 'feels_like': 289.66, 'temp_min': 289.85, 'temp_max': 289.85, 'pressure': 1012, 'sea_level': 1012, 'grnd_level': 956, 'humidity': 80, 'temp_kf': 0}, 'weather': [{'id': 500, 'main': 'Rain', 'description': 'light rain', 'icon': '10d'}], 'clouds': {'all': 97}, 'wind': {'speed': 1.98, 'deg': 131, 'gust': 4.05}, 'visibility': 10000, 'pop': 0.2, 'rain': {'3h': 0.15}, 'sys': {'pod': 'd'}, 'dt_txt': '2024-08-13 18:00:00'}, {'dt': 1723582800, 'main': {'temp': 288.49, 'feels_like': 288.56, 'temp_min': 288.49, 'temp_max': 288.49, 'pressure': 1012, 'sea_level': 1012, 'grnd_level': 956, 'humidity': 95, 'temp_kf': 0}, 'weather': [{'id': 500, 'main': 'Rain', 'description': 'light rain', 'icon': '10n'}], 'clouds': {'all': 100}, 'wind': {'speed': 0.64, 'deg': 136, 'gust': 0.93}, 'visibility': 10000, 'pop': 0.27, 'rain': {'3h': 0.17}, 'sys': {'pod': 'n'}, 'dt_txt': '2024-08-13 21:00:00'}, {'dt': 1723593600, 'main': {'temp': 288.46, 'feels_like': 288.63, 'temp_min': 288.46, 'temp_max': 288.46, 'pressure': 1011, 'sea_level': 1011, 'grnd_level': 955, 'humidity': 99, 'temp_kf': 0}, 'weather': [{'id': 500, 'main': 'Rain', 'description': 'light rain', 'icon': '10n'}], 'clouds': {'all': 100}, 'wind': {'speed': 0.28, 'deg': 35, 'gust': 0.28}, 'visibility': 2304, 'pop': 0.9, 'rain': {'3h': 0.5}, 'sys': {'pod': 'n'}, 'dt_txt': '2024-08-14 00:00:00'}, {'dt': 1723604400, 'main': {'temp': 288.65, 'feels_like': 288.84, 'temp_min': 288.65, 'temp_max': 288.65, 'pressure': 1010, 'sea_level': 1010, 'grnd_level': 954, 'humidity': 99, 'temp_kf': 0}, 'weather': [{'id': 804, 'main': 'Clouds', 'description': 'overcast clouds', 'icon': '04n'}], 'clouds': {'all': 100}, 'wind': {'speed': 0.41, 'deg': 77, 'gust': 1.18}, 'visibility': 370, 'pop': 0.04, 'sys': {'pod': 'n'}, 'dt_txt': '2024-08-14 03:00:00'}, {'dt': 1723615200, 'main': {'temp': 289.03, 'feels_like': 289.26, 'temp_min': 289.03, 'temp_max': 289.03, 'pressure': 1009, 'sea_level': 1009, 'grnd_level': 954, 'humidity': 99, 'temp_kf': 0}, 'weather': [{'id': 500, 'main': 'Rain', 'description': 'light rain', 'icon': '10d'}], 'clouds': {'all': 100}, 'wind': {'speed': 0.38, 'deg': 81, 'gust': 0.9}, 'visibility': 26, 'pop': 0.99, 'rain': {'3h': 1.62}, 'sys': {'pod': 'd'}, 'dt_txt': '2024-08-14 06:00:00'}, {'dt': 1723626000, 'main': {'temp': 289.59, 'feels_like': 289.9, 'temp_min': 289.59, 'temp_max': 289.59, 'pressure': 1009, 'sea_level': 1009, 'grnd_level': 953, 'humidity': 100, 'temp_kf': 0}, 'weather': [{'id': 501, 'main': 'Rain', 'description': 'moderate rain', 'icon': '10d'}], 'clouds': {'all': 100}, 'wind': {'speed': 1.32, 'deg': 132, 'gust': 1.85}, 'pop': 1, 'rain': {'3h': 3.96}, 'sys': {'pod': 'd'}, 'dt_txt': '2024-08-14 09:00:00'}], 'city': {'id': 3144113, 'name': 'Noresund', 'coord': {'lat': 60.1803, 'lon': 9.6231}, 'country': 'NO', 'population': 1000, 'timezone': 7200, 'sunrise': 1723173672, 'sunset': 1723231971}}\n"
     ]
    }
   ],
   "source": [
    "responseF = requests.get(urlF).json()\n",
    "print(responseF)"
   ]
  },
  {
   "cell_type": "code",
   "execution_count": 11,
   "metadata": {
    "slideshow": {
     "slide_type": "slide"
    }
   },
   "outputs": [],
   "source": [
    "# Write JSON to file for viewing\n",
    "with open('downloads/forecast.json', 'w') as f:\n",
    "    json.dump(responseF, f, indent=4)"
   ]
  },
  {
   "cell_type": "markdown",
   "metadata": {
    "slideshow": {
     "slide_type": "slide"
    }
   },
   "source": [
    "### When and what?\n",
    "Check contents and time stamps"
   ]
  },
  {
   "cell_type": "code",
   "execution_count": 12,
   "metadata": {
    "slideshow": {
     "slide_type": "-"
    }
   },
   "outputs": [
    {
     "data": {
      "text/plain": [
       "dict_keys(['cod', 'message', 'cnt', 'list', 'city'])"
      ]
     },
     "execution_count": 12,
     "metadata": {},
     "output_type": "execute_result"
    }
   ],
   "source": [
    "# Content of responseF\n",
    "responseF.keys()"
   ]
  },
  {
   "cell_type": "code",
   "execution_count": 13,
   "metadata": {
    "slideshow": {
     "slide_type": "fragment"
    }
   },
   "outputs": [
    {
     "name": "stdout",
     "output_type": "stream",
     "text": [
      "40\n"
     ]
    }
   ],
   "source": [
    "# Number of forecasts\n",
    "print(len(responseF[\"list\"]))"
   ]
  },
  {
   "cell_type": "code",
   "execution_count": 14,
   "metadata": {
    "scrolled": true,
    "slideshow": {
     "slide_type": "slide"
    }
   },
   "outputs": [
    {
     "name": "stdout",
     "output_type": "stream",
     "text": [
      "2024-08-09 12:00:00\n",
      "2024-08-09 15:00:00\n",
      "2024-08-09 18:00:00\n",
      "2024-08-09 21:00:00\n",
      "2024-08-10 00:00:00\n",
      "2024-08-10 03:00:00\n",
      "2024-08-10 06:00:00\n",
      "2024-08-10 09:00:00\n",
      "2024-08-10 12:00:00\n",
      "2024-08-10 15:00:00\n",
      "2024-08-10 18:00:00\n",
      "2024-08-10 21:00:00\n",
      "2024-08-11 00:00:00\n",
      "2024-08-11 03:00:00\n",
      "2024-08-11 06:00:00\n",
      "2024-08-11 09:00:00\n",
      "2024-08-11 12:00:00\n",
      "2024-08-11 15:00:00\n",
      "2024-08-11 18:00:00\n",
      "2024-08-11 21:00:00\n",
      "2024-08-12 00:00:00\n",
      "2024-08-12 03:00:00\n",
      "2024-08-12 06:00:00\n",
      "2024-08-12 09:00:00\n",
      "2024-08-12 12:00:00\n",
      "2024-08-12 15:00:00\n",
      "2024-08-12 18:00:00\n",
      "2024-08-12 21:00:00\n",
      "2024-08-13 00:00:00\n",
      "2024-08-13 03:00:00\n",
      "2024-08-13 06:00:00\n",
      "2024-08-13 09:00:00\n",
      "2024-08-13 12:00:00\n",
      "2024-08-13 15:00:00\n",
      "2024-08-13 18:00:00\n",
      "2024-08-13 21:00:00\n",
      "2024-08-14 00:00:00\n",
      "2024-08-14 03:00:00\n",
      "2024-08-14 06:00:00\n",
      "2024-08-14 09:00:00\n"
     ]
    }
   ],
   "source": [
    "# Print forecast times\n",
    "for forecast in responseF[\"list\"]:\n",
    "    print(forecast[\"dt_txt\"])"
   ]
  },
  {
   "cell_type": "markdown",
   "metadata": {
    "slideshow": {
     "slide_type": "slide"
    }
   },
   "source": [
    "## Make plots of omnipresent measurements and events\n",
    "We will later look at missing data, data only sporadically appearing and so on."
   ]
  },
  {
   "cell_type": "code",
   "execution_count": 15,
   "metadata": {
    "slideshow": {
     "slide_type": "-"
    }
   },
   "outputs": [],
   "source": [
    "# Air pressure per period\n",
    "pressures = []\n",
    "timestamps = []\n",
    "for forecast in responseF[\"list\"]:\n",
    "    pressures.append(forecast[\"main\"][\"pressure\"])\n",
    "    timestamps.append(dt.datetime.fromtimestamp(forecast[\"dt\"]))"
   ]
  },
  {
   "cell_type": "code",
   "execution_count": 16,
   "metadata": {
    "slideshow": {
     "slide_type": "slide"
    }
   },
   "outputs": [
    {
     "data": {
      "image/png": "[encoded data removed]",
      "text/plain": [
       "<Figure size 640x480 with 1 Axes>"
      ]
     },
     "metadata": {},
     "output_type": "display_data"
    }
   ],
   "source": [
    "import matplotlib.pyplot as plt\n",
    "plt.bar(timestamps, pressures)\n",
    "plt.xticks(rotation=45)\n",
    "plt.ylim(950, 1050)\n",
    "plt.grid()\n",
    "plt.ylabel(\"Air pressure (hPa)\")\n",
    "plt.title(f\"Forecasted air pressure in {CITY}\")\n",
    "plt.show()"
   ]
  },
  {
   "cell_type": "markdown",
   "metadata": {
    "slideshow": {
     "slide_type": "slide"
    }
   },
   "source": [
    "## Exercise\n",
    "- Make a new forecast request for your own hometown. Call your response something else than responseF.\n",
    "- If available, plot the humidity like we did with air pressure."
   ]
  },
  {
   "cell_type": "markdown",
   "metadata": {
    "slideshow": {
     "slide_type": "slide"
    }
   },
   "source": [
    "### Precipitation\n",
    "- ... comes in two main flavours: rain and snow.\n",
    "- We need to check which is present and set to zero if it is abscent."
   ]
  },
  {
   "cell_type": "code",
   "execution_count": 17,
   "metadata": {
    "slideshow": {
     "slide_type": "-"
    }
   },
   "outputs": [],
   "source": [
    "rain = []\n",
    "snow = []\n",
    "for forecast in responseF[\"list\"]:\n",
    "    try: # Check if rain is present in forecast\n",
    "        rain.append(forecast[\"rain\"][\"3h\"])\n",
    "    except KeyError:\n",
    "        rain.append(0)\n",
    "    try: # Check if snow is present in forecast\n",
    "        snow.append(forecast[\"snow\"][\"3h\"])\n",
    "    except KeyError:\n",
    "        snow.append(0)"
   ]
  },
  {
   "cell_type": "code",
   "execution_count": 18,
   "metadata": {
    "slideshow": {
     "slide_type": "slide"
    }
   },
   "outputs": [
    {
     "data": {
      "image/png": "[encoded data removed]",
      "text/plain": [
       "<Figure size 640x480 with 1 Axes>"
      ]
     },
     "metadata": {},
     "output_type": "display_data"
    }
   ],
   "source": [
    "# Stacked bar chart with rain and snow\n",
    "plt.bar(timestamps, rain, label=\"Rain\")\n",
    "plt.bar(timestamps, snow, label=\"Snow\")\n",
    "plt.xticks(rotation=45)\n",
    "plt.grid()\n",
    "plt.ylabel(\"Precipitation (mm)\")\n",
    "plt.title(f\"Forecasted precipitation in {CITY}\")\n",
    "plt.legend()\n",
    "plt.show()\n"
   ]
  },
  {
   "cell_type": "markdown",
   "metadata": {
    "slideshow": {
     "slide_type": "slide"
    }
   },
   "source": [
    "```{seealso} Resources\n",
    ":class: tip\n",
    "- [YouTube: NeuralNine's video (15m:32s)](https://www.youtube.com/watch?v=9P5MY_2i7K8)\n",
    "```"
   ]
  }
 ],
 "metadata": {
  "celltoolbar": "Slideshow",
  "kernelspec": {
   "display_name": "Python 3 (ipykernel)",
   "language": "python",
   "name": "python3"
  },
  "language_info": {
   "codemirror_mode": {
    "name": "ipython",
    "version": 3
   },
   "file_extension": ".py",
   "mimetype": "text/x-python",
   "name": "python",
   "nbconvert_exporter": "python",
   "pygments_lexer": "ipython3",
   "version": "3.12.4"
  }
 },
 "nbformat": 4,
 "nbformat_minor": 2
}