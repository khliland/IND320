{
 "cells": [
  {
   "cell_type": "markdown",
   "metadata": {
    "slideshow": {
     "slide_type": "slide"
    }
   },
   "source": [
    "# Demonstration of API using OpenWeatherMap.org\n",
    "This demonstration is heavily inspired by [NeuralNine's video](https://www.youtube.com/watch?v=9P5MY_2i7K8).  \n",
    "You need a free account [from here](https://openweathermap.org/api).  \n",
    "The VS Code extension _JSON viewer_ is recommended for viewing downloaded JSON content.  \n",
    "  - Set your maximum API calls to 1000 per day to make sure you are under the limit for billing. \n",
    "  - To run the examples, download your API key, save it in the right folder (see below) in a file called _api\\_key\\_OpenWeather_, containing only the key (no spaces or \"enters\")."
   ]
  },
  {
   "cell_type": "code",
   "execution_count": 1,
   "metadata": {
    "ExecuteTime": {
     "end_time": "2024-08-17T10:19:06.946392Z",
     "start_time": "2024-08-17T10:19:06.887177Z"
    },
    "slideshow": {
     "slide_type": "fragment"
    },
    "tags": []
   },
   "outputs": [],
   "source": [
    "# Imports\n",
    "import datetime as dt\n",
    "import requests\n",
    "import json"
   ]
  },
  {
   "cell_type": "markdown",
   "metadata": {
    "slideshow": {
     "slide_type": "slide"
    }
   },
   "source": [
    "## Current weather\n",
    "### Common definitions to use for all requests"
   ]
  },
  {
   "cell_type": "code",
   "execution_count": 2,
   "metadata": {
    "ExecuteTime": {
     "end_time": "2024-08-17T10:19:06.950734Z",
     "start_time": "2024-08-17T10:19:06.948129Z"
    },
    "slideshow": {
     "slide_type": "fragment"
    },
    "tags": []
   },
   "outputs": [],
   "source": [
    "BASE_URL = \"http://api.openweathermap.org/data/2.5/weather?\"\n",
    "API_KEY = open('../../../No_sync/api_key_OpenWeather','r').read()\n",
    "CITY = \"Ski\"\n",
    "\n",
    "url = BASE_URL + \"q=\" + CITY + \"&appid=\" + API_KEY"
   ]
  },
  {
   "cell_type": "markdown",
   "metadata": {
    "slideshow": {
     "slide_type": "slide"
    }
   },
   "source": [
    "## Request current weather in chosen city"
   ]
  },
  {
   "cell_type": "code",
   "execution_count": 3,
   "metadata": {
    "ExecuteTime": {
     "end_time": "2024-08-17T10:19:07.346472Z",
     "start_time": "2024-08-17T10:19:06.951363Z"
    },
    "slideshow": {
     "slide_type": "fragment"
    },
    "tags": []
   },
   "outputs": [
    {
     "name": "stdout",
     "output_type": "stream",
     "text": [
      "{'coord': {'lon': 10.8358, 'lat': 59.7195}, 'weather': [{'id': 804, 'main': 'Clouds', 'description': 'overcast clouds', 'icon': '04d'}], 'base': 'stations', 'main': {'temp': 293, 'feels_like': 293, 'temp_min': 291.68, 'temp_max': 293.03, 'pressure': 1006, 'humidity': 75, 'sea_level': 1006, 'grnd_level': 992}, 'visibility': 10000, 'wind': {'speed': 1.94, 'deg': 187, 'gust': 2.49}, 'clouds': {'all': 100}, 'dt': 1756822027, 'sys': {'type': 2, 'id': 2006772, 'country': 'NO', 'sunrise': 1756786498, 'sunset': 1756837089}, 'timezone': 7200, 'id': 3139081, 'name': 'Ski', 'cod': 200}\n"
     ]
    }
   ],
   "source": [
    "response = requests.get(url).json()\n",
    "print(response)"
   ]
  },
  {
   "cell_type": "code",
   "execution_count": 4,
   "metadata": {
    "ExecuteTime": {
     "end_time": "2024-08-17T10:19:07.356894Z",
     "start_time": "2024-08-17T10:19:07.353047Z"
    },
    "slideshow": {
     "slide_type": "fragment"
    },
    "tags": []
   },
   "outputs": [],
   "source": [
    "# Write JSON to file for viewing\n",
    "with open('downloads/weather.json', 'w') as f:\n",
    "    json.dump(response, f, indent=4)"
   ]
  },
  {
   "cell_type": "markdown",
   "metadata": {
    "slideshow": {
     "slide_type": "slide"
    }
   },
   "source": [
    "## Conversion functions\n",
    "Changing scales can make results more interpretable"
   ]
  },
  {
   "cell_type": "code",
   "execution_count": 5,
   "metadata": {
    "ExecuteTime": {
     "end_time": "2024-08-17T10:19:07.360029Z",
     "start_time": "2024-08-17T10:19:07.358341Z"
    },
    "slideshow": {
     "slide_type": "fragment"
    },
    "tags": []
   },
   "outputs": [],
   "source": [
    "# Kelvin to Celsius\n",
    "def kelvin_to_celsius(temp):\n",
    "    return temp - 273.15\n",
    "\n",
    "# Meters per second to knots\n",
    "def mps_to_knots(speed):\n",
    "    return speed * 1.943844"
   ]
  },
  {
   "cell_type": "markdown",
   "metadata": {
    "slideshow": {
     "slide_type": "slide"
    }
   },
   "source": [
    "## Print some weather properties"
   ]
  },
  {
   "cell_type": "code",
   "execution_count": 6,
   "metadata": {
    "ExecuteTime": {
     "end_time": "2024-08-17T10:19:07.362209Z",
     "start_time": "2024-08-17T10:19:07.360604Z"
    },
    "slideshow": {
     "slide_type": "fragment"
    },
    "tags": []
   },
   "outputs": [
    {
     "name": "stdout",
     "output_type": "stream",
     "text": [
      "The current temperature in Ski is 19.9 °C\n"
     ]
    }
   ],
   "source": [
    "# Current temperature\n",
    "temp_kelvin = response['main']['temp']\n",
    "temp_celsius = kelvin_to_celsius(temp_kelvin)\n",
    "print(f\"The current temperature in {CITY} is {temp_celsius:.1f} °C\")"
   ]
  },
  {
   "cell_type": "code",
   "execution_count": 7,
   "metadata": {
    "ExecuteTime": {
     "end_time": "2024-08-17T10:19:07.364358Z",
     "start_time": "2024-08-17T10:19:07.362759Z"
    },
    "slideshow": {
     "slide_type": "slide"
    },
    "tags": []
   },
   "outputs": [
    {
     "name": "stdout",
     "output_type": "stream",
     "text": [
      "Sunrise today is at 06:14 and sunset is at 20:18\n"
     ]
    }
   ],
   "source": [
    "# Sunrise and sunset today in local time\n",
    "sunrise = dt.datetime.fromtimestamp(response['sys']['sunrise'])\n",
    "sunset = dt.datetime.fromtimestamp(response['sys']['sunset'])\n",
    "print(f\"Sunrise today is at {sunrise:%H:%M} and sunset is at {sunset:%H:%M}\")"
   ]
  },
  {
   "cell_type": "code",
   "execution_count": 8,
   "metadata": {
    "ExecuteTime": {
     "end_time": "2024-08-17T10:19:07.367002Z",
     "start_time": "2024-08-17T10:19:07.365133Z"
    },
    "slideshow": {
     "slide_type": "fragment"
    },
    "tags": []
   },
   "outputs": [
    {
     "name": "stdout",
     "output_type": "stream",
     "text": [
      "Wind today is from 187° at 3.8 knots\n"
     ]
    }
   ],
   "source": [
    "# Wind direction and speed\n",
    "wind_knots = mps_to_knots(response['wind']['speed'])\n",
    "print(f\"Wind today is from {response['wind']['deg']}° at {round(wind_knots,1)} knots\")"
   ]
  },
  {
   "cell_type": "markdown",
   "metadata": {
    "slideshow": {
     "slide_type": "slide"
    }
   },
   "source": [
    "## Forecasted weather\n",
    "### Common definitions to use for all requests"
   ]
  },
  {
   "cell_type": "code",
   "execution_count": 9,
   "metadata": {
    "ExecuteTime": {
     "end_time": "2024-08-17T10:19:07.369150Z",
     "start_time": "2024-08-17T10:19:07.367438Z"
    },
    "slideshow": {
     "slide_type": "fragment"
    },
    "tags": []
   },
   "outputs": [],
   "source": [
    "BASE_URL = \"https://api.openweathermap.org/data/2.5/forecast?\"\n",
    "CITY = \"Mo i Rana\"\n",
    "\n",
    "urlF = BASE_URL + \"q=\" + CITY + \"&appid=\" + API_KEY"
   ]
  },
  {
   "cell_type": "markdown",
   "metadata": {
    "slideshow": {
     "slide_type": "slide"
    }
   },
   "source": [
    "## Request forecasted weather in chosen city"
   ]
  },
  {
   "cell_type": "code",
   "execution_count": 10,
   "metadata": {
    "ExecuteTime": {
     "end_time": "2024-08-17T10:19:07.505916Z",
     "start_time": "2024-08-17T10:19:07.369779Z"
    },
    "slideshow": {
     "slide_type": "fragment"
    },
    "tags": []
   },
   "outputs": [
    {
     "name": "stdout",
     "output_type": "stream",
     "text": [
      "{'cod': '200', 'message': 0, 'cnt': 40, 'list': [{'dt': 1756825200, 'main': {'temp': 290.55, 'feels_like': 290.46, 'temp_min': 290.55, 'temp_max': 291.43, 'pressure': 1007, 'sea_level': 1007, 'grnd_level': 958, 'humidity': 81, 'temp_kf': -0.88}, 'weather': [{'id': 500, 'main': 'Rain', 'description': 'light rain', 'icon': '10d'}], 'clouds': {'all': 75}, 'wind': {'speed': 2.27, 'deg': 128, 'gust': 2.71}, 'visibility': 10000, 'pop': 0.28, 'rain': {'3h': 0.21}, 'sys': {'pod': 'd'}, 'dt_txt': '2025-09-02 15:00:00'}, {'dt': 1756836000, 'main': {'temp': 289.91, 'feels_like': 289.78, 'temp_min': 288.63, 'temp_max': 289.91, 'pressure': 1007, 'sea_level': 1007, 'grnd_level': 958, 'humidity': 82, 'temp_kf': 1.28}, 'weather': [{'id': 803, 'main': 'Clouds', 'description': 'broken clouds', 'icon': '04d'}], 'clouds': {'all': 83}, 'wind': {'speed': 1.64, 'deg': 120, 'gust': 1.46}, 'visibility': 10000, 'pop': 0, 'sys': {'pod': 'd'}, 'dt_txt': '2025-09-02 18:00:00'}, {'dt': 1756846800, 'main': {'temp': 289.82, 'feels_like': 289.61, 'temp_min': 289.45, 'temp_max': 289.82, 'pressure': 1008, 'sea_level': 1008, 'grnd_level': 959, 'humidity': 79, 'temp_kf': 0.37}, 'weather': [{'id': 804, 'main': 'Clouds', 'description': 'overcast clouds', 'icon': '04n'}], 'clouds': {'all': 92}, 'wind': {'speed': 2, 'deg': 117, 'gust': 1.9}, 'visibility': 10000, 'pop': 0, 'sys': {'pod': 'n'}, 'dt_txt': '2025-09-02 21:00:00'}, {'dt': 1756857600, 'main': {'temp': 286.85, 'feels_like': 286.42, 'temp_min': 286.85, 'temp_max': 286.85, 'pressure': 1008, 'sea_level': 1008, 'grnd_level': 959, 'humidity': 82, 'temp_kf': 0}, 'weather': [{'id': 803, 'main': 'Clouds', 'description': 'broken clouds', 'icon': '04n'}], 'clouds': {'all': 81}, 'wind': {'speed': 2.45, 'deg': 108, 'gust': 2.35}, 'visibility': 10000, 'pop': 0, 'sys': {'pod': 'n'}, 'dt_txt': '2025-09-03 00:00:00'}, {'dt': 1756868400, 'main': {'temp': 286.11, 'feels_like': 285.6, 'temp_min': 286.11, 'temp_max': 286.11, 'pressure': 1007, 'sea_level': 1007, 'grnd_level': 958, 'humidity': 82, 'temp_kf': 0}, 'weather': [{'id': 804, 'main': 'Clouds', 'description': 'overcast clouds', 'icon': '04n'}], 'clouds': {'all': 97}, 'wind': {'speed': 2.61, 'deg': 113, 'gust': 2.62}, 'visibility': 10000, 'pop': 0, 'sys': {'pod': 'n'}, 'dt_txt': '2025-09-03 03:00:00'}, {'dt': 1756879200, 'main': {'temp': 288.14, 'feels_like': 287.78, 'temp_min': 288.14, 'temp_max': 288.14, 'pressure': 1006, 'sea_level': 1006, 'grnd_level': 957, 'humidity': 80, 'temp_kf': 0}, 'weather': [{'id': 804, 'main': 'Clouds', 'description': 'overcast clouds', 'icon': '04d'}], 'clouds': {'all': 99}, 'wind': {'speed': 2.62, 'deg': 69, 'gust': 3.7}, 'visibility': 10000, 'pop': 0, 'sys': {'pod': 'd'}, 'dt_txt': '2025-09-03 06:00:00'}, {'dt': 1756890000, 'main': {'temp': 287.6, 'feels_like': 287.56, 'temp_min': 287.6, 'temp_max': 287.6, 'pressure': 1005, 'sea_level': 1005, 'grnd_level': 955, 'humidity': 94, 'temp_kf': 0}, 'weather': [{'id': 500, 'main': 'Rain', 'description': 'light rain', 'icon': '10d'}], 'clouds': {'all': 100}, 'wind': {'speed': 2.12, 'deg': 63, 'gust': 3.28}, 'visibility': 10000, 'pop': 1, 'rain': {'3h': 2.29}, 'sys': {'pod': 'd'}, 'dt_txt': '2025-09-03 09:00:00'}, {'dt': 1756900800, 'main': {'temp': 287.91, 'feels_like': 287.92, 'temp_min': 287.91, 'temp_max': 287.91, 'pressure': 1003, 'sea_level': 1003, 'grnd_level': 954, 'humidity': 95, 'temp_kf': 0}, 'weather': [{'id': 501, 'main': 'Rain', 'description': 'moderate rain', 'icon': '10d'}], 'clouds': {'all': 100}, 'wind': {'speed': 2.07, 'deg': 70, 'gust': 3.13}, 'visibility': 10000, 'pop': 1, 'rain': {'3h': 3.6}, 'sys': {'pod': 'd'}, 'dt_txt': '2025-09-03 12:00:00'}, {'dt': 1756911600, 'main': {'temp': 287.9, 'feels_like': 287.91, 'temp_min': 287.9, 'temp_max': 287.9, 'pressure': 1003, 'sea_level': 1003, 'grnd_level': 953, 'humidity': 95, 'temp_kf': 0}, 'weather': [{'id': 501, 'main': 'Rain', 'description': 'moderate rain', 'icon': '10d'}], 'clouds': {'all': 100}, 'wind': {'speed': 1.59, 'deg': 108, 'gust': 1.53}, 'visibility': 10000, 'pop': 1, 'rain': {'3h': 3.22}, 'sys': {'pod': 'd'}, 'dt_txt': '2025-09-03 15:00:00'}, {'dt': 1756922400, 'main': {'temp': 287.82, 'feels_like': 287.77, 'temp_min': 287.82, 'temp_max': 287.82, 'pressure': 1004, 'sea_level': 1004, 'grnd_level': 954, 'humidity': 93, 'temp_kf': 0}, 'weather': [{'id': 500, 'main': 'Rain', 'description': 'light rain', 'icon': '10d'}], 'clouds': {'all': 100}, 'wind': {'speed': 1.15, 'deg': 244, 'gust': 1.27}, 'visibility': 10000, 'pop': 1, 'rain': {'3h': 0.88}, 'sys': {'pod': 'd'}, 'dt_txt': '2025-09-03 18:00:00'}, {'dt': 1756933200, 'main': {'temp': 285.54, 'feels_like': 285.21, 'temp_min': 285.54, 'temp_max': 285.54, 'pressure': 1005, 'sea_level': 1005, 'grnd_level': 955, 'humidity': 91, 'temp_kf': 0}, 'weather': [{'id': 802, 'main': 'Clouds', 'description': 'scattered clouds', 'icon': '03n'}], 'clouds': {'all': 26}, 'wind': {'speed': 2.16, 'deg': 85, 'gust': 2.14}, 'visibility': 10000, 'pop': 0, 'sys': {'pod': 'n'}, 'dt_txt': '2025-09-03 21:00:00'}, {'dt': 1756944000, 'main': {'temp': 284.88, 'feels_like': 284.43, 'temp_min': 284.88, 'temp_max': 284.88, 'pressure': 1005, 'sea_level': 1005, 'grnd_level': 955, 'humidity': 89, 'temp_kf': 0}, 'weather': [{'id': 802, 'main': 'Clouds', 'description': 'scattered clouds', 'icon': '03n'}], 'clouds': {'all': 40}, 'wind': {'speed': 2.55, 'deg': 89, 'gust': 2.34}, 'visibility': 10000, 'pop': 0, 'sys': {'pod': 'n'}, 'dt_txt': '2025-09-04 00:00:00'}, {'dt': 1756954800, 'main': {'temp': 284.77, 'feels_like': 284.29, 'temp_min': 284.77, 'temp_max': 284.77, 'pressure': 1004, 'sea_level': 1004, 'grnd_level': 954, 'humidity': 88, 'temp_kf': 0}, 'weather': [{'id': 802, 'main': 'Clouds', 'description': 'scattered clouds', 'icon': '03n'}], 'clouds': {'all': 40}, 'wind': {'speed': 3.33, 'deg': 86, 'gust': 2.8}, 'visibility': 10000, 'pop': 0, 'sys': {'pod': 'n'}, 'dt_txt': '2025-09-04 03:00:00'}, {'dt': 1756965600, 'main': {'temp': 286.75, 'feels_like': 286.41, 'temp_min': 286.75, 'temp_max': 286.75, 'pressure': 1002, 'sea_level': 1002, 'grnd_level': 953, 'humidity': 86, 'temp_kf': 0}, 'weather': [{'id': 803, 'main': 'Clouds', 'description': 'broken clouds', 'icon': '04d'}], 'clouds': {'all': 71}, 'wind': {'speed': 3.54, 'deg': 83, 'gust': 4.74}, 'visibility': 10000, 'pop': 0, 'sys': {'pod': 'd'}, 'dt_txt': '2025-09-04 06:00:00'}, {'dt': 1756976400, 'main': {'temp': 290.27, 'feels_like': 289.89, 'temp_min': 290.27, 'temp_max': 290.27, 'pressure': 1002, 'sea_level': 1002, 'grnd_level': 953, 'humidity': 71, 'temp_kf': 0}, 'weather': [{'id': 804, 'main': 'Clouds', 'description': 'overcast clouds', 'icon': '04d'}], 'clouds': {'all': 100}, 'wind': {'speed': 3.49, 'deg': 90, 'gust': 4.06}, 'visibility': 10000, 'pop': 0, 'sys': {'pod': 'd'}, 'dt_txt': '2025-09-04 09:00:00'}, {'dt': 1756987200, 'main': {'temp': 291.75, 'feels_like': 291.47, 'temp_min': 291.75, 'temp_max': 291.75, 'pressure': 1002, 'sea_level': 1002, 'grnd_level': 953, 'humidity': 69, 'temp_kf': 0}, 'weather': [{'id': 804, 'main': 'Clouds', 'description': 'overcast clouds', 'icon': '04d'}], 'clouds': {'all': 87}, 'wind': {'speed': 3.04, 'deg': 116, 'gust': 5.38}, 'visibility': 10000, 'pop': 0, 'sys': {'pod': 'd'}, 'dt_txt': '2025-09-04 12:00:00'}, {'dt': 1756998000, 'main': {'temp': 290.61, 'feels_like': 290.45, 'temp_min': 290.61, 'temp_max': 290.61, 'pressure': 1003, 'sea_level': 1003, 'grnd_level': 954, 'humidity': 78, 'temp_kf': 0}, 'weather': [{'id': 804, 'main': 'Clouds', 'description': 'overcast clouds', 'icon': '04d'}], 'clouds': {'all': 100}, 'wind': {'speed': 2.92, 'deg': 78, 'gust': 3.01}, 'visibility': 10000, 'pop': 0, 'sys': {'pod': 'd'}, 'dt_txt': '2025-09-04 15:00:00'}, {'dt': 1757008800, 'main': {'temp': 290.58, 'feels_like': 290.39, 'temp_min': 290.58, 'temp_max': 290.58, 'pressure': 1003, 'sea_level': 1003, 'grnd_level': 954, 'humidity': 77, 'temp_kf': 0}, 'weather': [{'id': 500, 'main': 'Rain', 'description': 'light rain', 'icon': '10d'}], 'clouds': {'all': 100}, 'wind': {'speed': 2.61, 'deg': 128, 'gust': 2.58}, 'visibility': 10000, 'pop': 0.27, 'rain': {'3h': 0.44}, 'sys': {'pod': 'd'}, 'dt_txt': '2025-09-04 18:00:00'}, {'dt': 1757019600, 'main': {'temp': 288.55, 'feels_like': 288.57, 'temp_min': 288.55, 'temp_max': 288.55, 'pressure': 1006, 'sea_level': 1006, 'grnd_level': 957, 'humidity': 93, 'temp_kf': 0}, 'weather': [{'id': 500, 'main': 'Rain', 'description': 'light rain', 'icon': '10n'}], 'clouds': {'all': 94}, 'wind': {'speed': 1.37, 'deg': 197, 'gust': 1.34}, 'visibility': 10000, 'pop': 1, 'rain': {'3h': 1.36}, 'sys': {'pod': 'n'}, 'dt_txt': '2025-09-04 21:00:00'}, {'dt': 1757030400, 'main': {'temp': 287.58, 'feels_like': 287.35, 'temp_min': 287.58, 'temp_max': 287.58, 'pressure': 1008, 'sea_level': 1008, 'grnd_level': 959, 'humidity': 87, 'temp_kf': 0}, 'weather': [{'id': 500, 'main': 'Rain', 'description': 'light rain', 'icon': '10n'}], 'clouds': {'all': 95}, 'wind': {'speed': 0.73, 'deg': 214, 'gust': 0.71}, 'visibility': 10000, 'pop': 1, 'rain': {'3h': 0.36}, 'sys': {'pod': 'n'}, 'dt_txt': '2025-09-05 00:00:00'}, {'dt': 1757041200, 'main': {'temp': 287.84, 'feels_like': 287.61, 'temp_min': 287.84, 'temp_max': 287.84, 'pressure': 1009, 'sea_level': 1009, 'grnd_level': 960, 'humidity': 86, 'temp_kf': 0}, 'weather': [{'id': 804, 'main': 'Clouds', 'description': 'overcast clouds', 'icon': '04n'}], 'clouds': {'all': 100}, 'wind': {'speed': 0.25, 'deg': 333, 'gust': 0.33}, 'visibility': 10000, 'pop': 0, 'sys': {'pod': 'n'}, 'dt_txt': '2025-09-05 03:00:00'}, {'dt': 1757052000, 'main': {'temp': 287.89, 'feels_like': 287.77, 'temp_min': 287.89, 'temp_max': 287.89, 'pressure': 1011, 'sea_level': 1011, 'grnd_level': 961, 'humidity': 90, 'temp_kf': 0}, 'weather': [{'id': 500, 'main': 'Rain', 'description': 'light rain', 'icon': '10d'}], 'clouds': {'all': 100}, 'wind': {'speed': 0.65, 'deg': 274, 'gust': 0.63}, 'visibility': 10000, 'pop': 0.2, 'rain': {'3h': 0.28}, 'sys': {'pod': 'd'}, 'dt_txt': '2025-09-05 06:00:00'}, {'dt': 1757062800, 'main': {'temp': 288.74, 'feels_like': 288.63, 'temp_min': 288.74, 'temp_max': 288.74, 'pressure': 1013, 'sea_level': 1013, 'grnd_level': 963, 'humidity': 87, 'temp_kf': 0}, 'weather': [{'id': 500, 'main': 'Rain', 'description': 'light rain', 'icon': '10d'}], 'clouds': {'all': 92}, 'wind': {'speed': 2.49, 'deg': 251, 'gust': 2.62}, 'visibility': 10000, 'pop': 0.2, 'rain': {'3h': 0.2}, 'sys': {'pod': 'd'}, 'dt_txt': '2025-09-05 09:00:00'}, {'dt': 1757073600, 'main': {'temp': 289.18, 'feels_like': 288.98, 'temp_min': 289.18, 'temp_max': 289.18, 'pressure': 1015, 'sea_level': 1015, 'grnd_level': 965, 'humidity': 82, 'temp_kf': 0}, 'weather': [{'id': 500, 'main': 'Rain', 'description': 'light rain', 'icon': '10d'}], 'clouds': {'all': 96}, 'wind': {'speed': 1.47, 'deg': 253, 'gust': 1.83}, 'visibility': 10000, 'pop': 0.2, 'rain': {'3h': 0.12}, 'sys': {'pod': 'd'}, 'dt_txt': '2025-09-05 12:00:00'}, {'dt': 1757084400, 'main': {'temp': 290.91, 'feels_like': 290.62, 'temp_min': 290.91, 'temp_max': 290.91, 'pressure': 1015, 'sea_level': 1015, 'grnd_level': 965, 'humidity': 72, 'temp_kf': 0}, 'weather': [{'id': 802, 'main': 'Clouds', 'description': 'scattered clouds', 'icon': '03d'}], 'clouds': {'all': 48}, 'wind': {'speed': 0.95, 'deg': 258, 'gust': 1.2}, 'visibility': 10000, 'pop': 0, 'sys': {'pod': 'd'}, 'dt_txt': '2025-09-05 15:00:00'}, {'dt': 1757095200, 'main': {'temp': 286.93, 'feels_like': 286.66, 'temp_min': 286.93, 'temp_max': 286.93, 'pressure': 1016, 'sea_level': 1016, 'grnd_level': 966, 'humidity': 88, 'temp_kf': 0}, 'weather': [{'id': 803, 'main': 'Clouds', 'description': 'broken clouds', 'icon': '04d'}], 'clouds': {'all': 60}, 'wind': {'speed': 0.99, 'deg': 3, 'gust': 0.98}, 'visibility': 10000, 'pop': 0, 'sys': {'pod': 'd'}, 'dt_txt': '2025-09-05 18:00:00'}, {'dt': 1757106000, 'main': {'temp': 287.01, 'feels_like': 286.72, 'temp_min': 287.01, 'temp_max': 287.01, 'pressure': 1017, 'sea_level': 1017, 'grnd_level': 967, 'humidity': 87, 'temp_kf': 0}, 'weather': [{'id': 804, 'main': 'Clouds', 'description': 'overcast clouds', 'icon': '04n'}], 'clouds': {'all': 100}, 'wind': {'speed': 1.83, 'deg': 94, 'gust': 1.87}, 'visibility': 10000, 'pop': 0, 'sys': {'pod': 'n'}, 'dt_txt': '2025-09-05 21:00:00'}, {'dt': 1757116800, 'main': {'temp': 286.55, 'feels_like': 286.22, 'temp_min': 286.55, 'temp_max': 286.55, 'pressure': 1018, 'sea_level': 1018, 'grnd_level': 968, 'humidity': 87, 'temp_kf': 0}, 'weather': [{'id': 804, 'main': 'Clouds', 'description': 'overcast clouds', 'icon': '04n'}], 'clouds': {'all': 100}, 'wind': {'speed': 0.16, 'deg': 281, 'gust': 0.3}, 'visibility': 10000, 'pop': 0, 'sys': {'pod': 'n'}, 'dt_txt': '2025-09-06 00:00:00'}, {'dt': 1757127600, 'main': {'temp': 286.62, 'feels_like': 286.58, 'temp_min': 286.62, 'temp_max': 286.62, 'pressure': 1020, 'sea_level': 1020, 'grnd_level': 970, 'humidity': 98, 'temp_kf': 0}, 'weather': [{'id': 501, 'main': 'Rain', 'description': 'moderate rain', 'icon': '10n'}], 'clouds': {'all': 100}, 'wind': {'speed': 1.65, 'deg': 275, 'gust': 1.77}, 'visibility': 3389, 'pop': 1, 'rain': {'3h': 4.52}, 'sys': {'pod': 'n'}, 'dt_txt': '2025-09-06 03:00:00'}, {'dt': 1757138400, 'main': {'temp': 286.71, 'feels_like': 286.63, 'temp_min': 286.71, 'temp_max': 286.71, 'pressure': 1023, 'sea_level': 1023, 'grnd_level': 972, 'humidity': 96, 'temp_kf': 0}, 'weather': [{'id': 500, 'main': 'Rain', 'description': 'light rain', 'icon': '10d'}], 'clouds': {'all': 100}, 'wind': {'speed': 2.47, 'deg': 259, 'gust': 2.88}, 'visibility': 3188, 'pop': 1, 'rain': {'3h': 2.57}, 'sys': {'pod': 'd'}, 'dt_txt': '2025-09-06 06:00:00'}, {'dt': 1757149200, 'main': {'temp': 288.57, 'feels_like': 288.26, 'temp_min': 288.57, 'temp_max': 288.57, 'pressure': 1024, 'sea_level': 1024, 'grnd_level': 974, 'humidity': 80, 'temp_kf': 0}, 'weather': [{'id': 804, 'main': 'Clouds', 'description': 'overcast clouds', 'icon': '04d'}], 'clouds': {'all': 94}, 'wind': {'speed': 1.94, 'deg': 265, 'gust': 2.22}, 'visibility': 10000, 'pop': 0, 'sys': {'pod': 'd'}, 'dt_txt': '2025-09-06 09:00:00'}, {'dt': 1757160000, 'main': {'temp': 290.47, 'feels_like': 290.01, 'temp_min': 290.47, 'temp_max': 290.47, 'pressure': 1025, 'sea_level': 1025, 'grnd_level': 974, 'humidity': 67, 'temp_kf': 0}, 'weather': [{'id': 803, 'main': 'Clouds', 'description': 'broken clouds', 'icon': '04d'}], 'clouds': {'all': 72}, 'wind': {'speed': 1.48, 'deg': 254, 'gust': 1.58}, 'visibility': 10000, 'pop': 0, 'sys': {'pod': 'd'}, 'dt_txt': '2025-09-06 12:00:00'}, {'dt': 1757170800, 'main': {'temp': 290.87, 'feels_like': 290.34, 'temp_min': 290.87, 'temp_max': 290.87, 'pressure': 1025, 'sea_level': 1025, 'grnd_level': 975, 'humidity': 63, 'temp_kf': 0}, 'weather': [{'id': 802, 'main': 'Clouds', 'description': 'scattered clouds', 'icon': '03d'}], 'clouds': {'all': 45}, 'wind': {'speed': 1.91, 'deg': 259, 'gust': 1.45}, 'visibility': 10000, 'pop': 0, 'sys': {'pod': 'd'}, 'dt_txt': '2025-09-06 15:00:00'}, {'dt': 1757181600, 'main': {'temp': 286.35, 'feels_like': 285.87, 'temp_min': 286.35, 'temp_max': 286.35, 'pressure': 1026, 'sea_level': 1026, 'grnd_level': 975, 'humidity': 82, 'temp_kf': 0}, 'weather': [{'id': 802, 'main': 'Clouds', 'description': 'scattered clouds', 'icon': '03d'}], 'clouds': {'all': 35}, 'wind': {'speed': 1.3, 'deg': 241, 'gust': 1.01}, 'visibility': 10000, 'pop': 0, 'sys': {'pod': 'd'}, 'dt_txt': '2025-09-06 18:00:00'}, {'dt': 1757192400, 'main': {'temp': 284.78, 'feels_like': 284.24, 'temp_min': 284.78, 'temp_max': 284.78, 'pressure': 1026, 'sea_level': 1026, 'grnd_level': 976, 'humidity': 86, 'temp_kf': 0}, 'weather': [{'id': 800, 'main': 'Clear', 'description': 'clear sky', 'icon': '01n'}], 'clouds': {'all': 0}, 'wind': {'speed': 0.56, 'deg': 115, 'gust': 0.74}, 'visibility': 10000, 'pop': 0, 'sys': {'pod': 'n'}, 'dt_txt': '2025-09-06 21:00:00'}, {'dt': 1757203200, 'main': {'temp': 284.12, 'feels_like': 283.49, 'temp_min': 284.12, 'temp_max': 284.12, 'pressure': 1027, 'sea_level': 1027, 'grnd_level': 976, 'humidity': 85, 'temp_kf': 0}, 'weather': [{'id': 800, 'main': 'Clear', 'description': 'clear sky', 'icon': '01n'}], 'clouds': {'all': 0}, 'wind': {'speed': 1.31, 'deg': 88, 'gust': 1.36}, 'visibility': 10000, 'pop': 0, 'sys': {'pod': 'n'}, 'dt_txt': '2025-09-07 00:00:00'}, {'dt': 1757214000, 'main': {'temp': 283.64, 'feels_like': 282.96, 'temp_min': 283.64, 'temp_max': 283.64, 'pressure': 1027, 'sea_level': 1027, 'grnd_level': 976, 'humidity': 85, 'temp_kf': 0}, 'weather': [{'id': 800, 'main': 'Clear', 'description': 'clear sky', 'icon': '01n'}], 'clouds': {'all': 6}, 'wind': {'speed': 1.6, 'deg': 79, 'gust': 1.71}, 'visibility': 10000, 'pop': 0, 'sys': {'pod': 'n'}, 'dt_txt': '2025-09-07 03:00:00'}, {'dt': 1757224800, 'main': {'temp': 286.62, 'feels_like': 286.03, 'temp_min': 286.62, 'temp_max': 286.62, 'pressure': 1027, 'sea_level': 1027, 'grnd_level': 976, 'humidity': 77, 'temp_kf': 0}, 'weather': [{'id': 800, 'main': 'Clear', 'description': 'clear sky', 'icon': '01d'}], 'clouds': {'all': 6}, 'wind': {'speed': 1.42, 'deg': 72, 'gust': 1.56}, 'visibility': 10000, 'pop': 0, 'sys': {'pod': 'd'}, 'dt_txt': '2025-09-07 06:00:00'}, {'dt': 1757235600, 'main': {'temp': 290.13, 'feels_like': 289.53, 'temp_min': 290.13, 'temp_max': 290.13, 'pressure': 1025, 'sea_level': 1025, 'grnd_level': 975, 'humidity': 63, 'temp_kf': 0}, 'weather': [{'id': 800, 'main': 'Clear', 'description': 'clear sky', 'icon': '01d'}], 'clouds': {'all': 7}, 'wind': {'speed': 1.33, 'deg': 50, 'gust': 1.73}, 'visibility': 10000, 'pop': 0, 'sys': {'pod': 'd'}, 'dt_txt': '2025-09-07 09:00:00'}, {'dt': 1757246400, 'main': {'temp': 293.02, 'feels_like': 292.34, 'temp_min': 293.02, 'temp_max': 293.02, 'pressure': 1024, 'sea_level': 1024, 'grnd_level': 974, 'humidity': 49, 'temp_kf': 0}, 'weather': [{'id': 800, 'main': 'Clear', 'description': 'clear sky', 'icon': '01d'}], 'clouds': {'all': 4}, 'wind': {'speed': 1.2, 'deg': 38, 'gust': 1.7}, 'visibility': 10000, 'pop': 0, 'sys': {'pod': 'd'}, 'dt_txt': '2025-09-07 12:00:00'}], 'city': {'id': 3145614, 'name': 'Mo i Rana', 'coord': {'lat': 66.3128, 'lon': 14.1428}, 'country': 'NO', 'population': 17853, 'timezone': 7200, 'sunrise': 1756784463, 'sunset': 1756837537}}\n"
     ]
    }
   ],
   "source": [
    "responseF = requests.get(urlF).json()\n",
    "#print(json.dumps(responseF, indent=4))\n",
    "print(responseF)"
   ]
  },
  {
   "cell_type": "code",
   "execution_count": 11,
   "metadata": {
    "ExecuteTime": {
     "end_time": "2024-08-17T10:19:07.510514Z",
     "start_time": "2024-08-17T10:19:07.506586Z"
    },
    "slideshow": {
     "slide_type": "slide"
    },
    "tags": []
   },
   "outputs": [],
   "source": [
    "# Write JSON to file for viewing\n",
    "with open('downloads/forecast.json', 'w') as f:\n",
    "    json.dump(responseF, f, indent=4)"
   ]
  },
  {
   "cell_type": "markdown",
   "metadata": {
    "slideshow": {
     "slide_type": "slide"
    }
   },
   "source": [
    "### When and what?\n",
    "Check contents and time stamps"
   ]
  },
  {
   "cell_type": "code",
   "execution_count": 12,
   "metadata": {
    "ExecuteTime": {
     "end_time": "2024-08-17T10:19:07.514214Z",
     "start_time": "2024-08-17T10:19:07.511162Z"
    },
    "slideshow": {
     "slide_type": "fragment"
    },
    "tags": []
   },
   "outputs": [
    {
     "data": {
      "text/plain": [
       "dict_keys(['cod', 'message', 'cnt', 'list', 'city'])"
      ]
     },
     "execution_count": 12,
     "metadata": {},
     "output_type": "execute_result"
    }
   ],
   "source": [
    "# Content of responseF\n",
    "responseF.keys()"
   ]
  },
  {
   "cell_type": "code",
   "execution_count": 13,
   "metadata": {
    "ExecuteTime": {
     "end_time": "2024-08-17T10:19:07.516813Z",
     "start_time": "2024-08-17T10:19:07.514918Z"
    },
    "slideshow": {
     "slide_type": "fragment"
    },
    "tags": []
   },
   "outputs": [
    {
     "name": "stdout",
     "output_type": "stream",
     "text": [
      "40\n"
     ]
    }
   ],
   "source": [
    "# Number of forecasts\n",
    "print(len(responseF[\"list\"]))"
   ]
  },
  {
   "cell_type": "code",
   "execution_count": 14,
   "metadata": {
    "ExecuteTime": {
     "end_time": "2024-08-17T10:19:07.520443Z",
     "start_time": "2024-08-17T10:19:07.518884Z"
    },
    "slideshow": {
     "slide_type": "slide"
    },
    "tags": []
   },
   "outputs": [
    {
     "name": "stdout",
     "output_type": "stream",
     "text": [
      "2025-09-02 15:00:00\n",
      "2025-09-02 18:00:00\n",
      "2025-09-02 21:00:00\n",
      "2025-09-03 00:00:00\n",
      "2025-09-03 03:00:00\n",
      "2025-09-03 06:00:00\n",
      "2025-09-03 09:00:00\n",
      "2025-09-03 12:00:00\n",
      "2025-09-03 15:00:00\n",
      "2025-09-03 18:00:00\n",
      "2025-09-03 21:00:00\n",
      "2025-09-04 00:00:00\n",
      "2025-09-04 03:00:00\n",
      "2025-09-04 06:00:00\n",
      "2025-09-04 09:00:00\n",
      "2025-09-04 12:00:00\n",
      "2025-09-04 15:00:00\n",
      "2025-09-04 18:00:00\n",
      "2025-09-04 21:00:00\n",
      "2025-09-05 00:00:00\n",
      "2025-09-05 03:00:00\n",
      "2025-09-05 06:00:00\n",
      "2025-09-05 09:00:00\n",
      "2025-09-05 12:00:00\n",
      "2025-09-05 15:00:00\n",
      "2025-09-05 18:00:00\n",
      "2025-09-05 21:00:00\n",
      "2025-09-06 00:00:00\n",
      "2025-09-06 03:00:00\n",
      "2025-09-06 06:00:00\n",
      "2025-09-06 09:00:00\n",
      "2025-09-06 12:00:00\n",
      "2025-09-06 15:00:00\n",
      "2025-09-06 18:00:00\n",
      "2025-09-06 21:00:00\n",
      "2025-09-07 00:00:00\n",
      "2025-09-07 03:00:00\n",
      "2025-09-07 06:00:00\n",
      "2025-09-07 09:00:00\n",
      "2025-09-07 12:00:00\n"
     ]
    }
   ],
   "source": [
    "# Print forecast times\n",
    "for forecast in responseF[\"list\"]:\n",
    "    print(forecast[\"dt_txt\"])"
   ]
  },
  {
   "cell_type": "markdown",
   "metadata": {
    "slideshow": {
     "slide_type": "slide"
    }
   },
   "source": [
    "## Make plots of omnipresent measurements and events\n",
    "We will later look at missing data, data only sporadically appearing and so on."
   ]
  },
  {
   "cell_type": "code",
   "execution_count": 15,
   "metadata": {
    "ExecuteTime": {
     "end_time": "2024-08-17T10:19:07.522603Z",
     "start_time": "2024-08-17T10:19:07.521029Z"
    },
    "slideshow": {
     "slide_type": "fragment"
    },
    "tags": []
   },
   "outputs": [],
   "source": [
    "# Air pressure per period\n",
    "pressures = []\n",
    "timestamps = []\n",
    "for forecast in responseF[\"list\"]:\n",
    "    pressures.append(forecast[\"main\"][\"pressure\"])\n",
    "    timestamps.append(dt.datetime.fromtimestamp(forecast[\"dt\"]))"
   ]
  },
  {
   "cell_type": "code",
   "execution_count": 16,
   "metadata": {
    "ExecuteTime": {
     "end_time": "2024-08-17T10:19:08.124779Z",
     "start_time": "2024-08-17T10:19:07.523100Z"
    },
    "slideshow": {
     "slide_type": "slide"
    },
    "tags": []
   },
   "outputs": [
    {
     "data": {
      "image/png": "[encoded data removed]",
      "text/plain": [
       "<Figure size 640x480 with 1 Axes>"
      ]
     },
     "metadata": {},
     "output_type": "display_data"
    }
   ],
   "source": [
    "import matplotlib.pyplot as plt\n",
    "plt.bar(timestamps, pressures)\n",
    "plt.xticks(rotation=45)\n",
    "plt.ylim(980, 1050)\n",
    "plt.grid()\n",
    "plt.ylabel(\"Air pressure (hPa)\")\n",
    "plt.title(f\"Forecasted air pressure in {CITY}\")\n",
    "plt.show()"
   ]
  },
  {
   "cell_type": "markdown",
   "metadata": {
    "slideshow": {
     "slide_type": "slide"
    }
   },
   "source": [
    "## Exercise\n",
    "- Make a new forecast request for your own hometown. Call your response something else than responseF.\n",
    "- If available, plot the humidity like we did with air pressure."
   ]
  },
  {
   "cell_type": "markdown",
   "metadata": {
    "slideshow": {
     "slide_type": "slide"
    }
   },
   "source": [
    "### Precipitation\n",
    "- ... comes in two main flavours: rain and snow.\n",
    "- We need to check which is present and set to zero if it is abscent."
   ]
  },
  {
   "cell_type": "code",
   "execution_count": 17,
   "metadata": {
    "ExecuteTime": {
     "end_time": "2024-08-17T10:19:08.128573Z",
     "start_time": "2024-08-17T10:19:08.125858Z"
    },
    "slideshow": {
     "slide_type": "fragment"
    },
    "tags": []
   },
   "outputs": [],
   "source": [
    "rain = []\n",
    "snow = []\n",
    "for forecast in responseF[\"list\"]:\n",
    "    try: # Check if rain is present in forecast\n",
    "        rain.append(forecast[\"rain\"][\"3h\"])\n",
    "    except KeyError:\n",
    "        rain.append(0)\n",
    "    try: # Check if snow is present in forecast\n",
    "        snow.append(forecast[\"snow\"][\"3h\"])\n",
    "    except KeyError:\n",
    "        snow.append(0)"
   ]
  },
  {
   "cell_type": "code",
   "execution_count": 18,
   "metadata": {
    "ExecuteTime": {
     "end_time": "2024-08-17T10:19:08.223315Z",
     "start_time": "2024-08-17T10:19:08.129282Z"
    },
    "slideshow": {
     "slide_type": "slide"
    },
    "tags": []
   },
   "outputs": [
    {
     "data": {
      "image/png": "[encoded data removed]",
      "text/plain": [
       "<Figure size 640x480 with 1 Axes>"
      ]
     },
     "metadata": {},
     "output_type": "display_data"
    }
   ],
   "source": [
    "# Stacked bar chart with rain and snow\n",
    "plt.bar(timestamps, rain, label=\"Rain\")\n",
    "plt.bar(timestamps, snow, label=\"Snow\")\n",
    "plt.xticks(rotation=45)\n",
    "plt.grid()\n",
    "plt.ylabel(\"Precipitation (mm)\")\n",
    "plt.title(f\"Forecasted precipitation in {CITY}\")\n",
    "plt.legend()\n",
    "plt.show()\n"
   ]
  },
  {
   "cell_type": "markdown",
   "metadata": {
    "slideshow": {
     "slide_type": "slide"
    }
   },
   "source": [
    "```{seealso} \n",
    ":class: tip\n",
    "\n",
    "## Resources\n",
    "- [YouTube: NeuralNine's video (15m:32s)](https://www.youtube.com/watch?v=9P5MY_2i7K8)\n",
    "```"
   ]
  }
 ],
 "metadata": {
  "celltoolbar": "Slideshow",
  "kernelspec": {
   "display_name": "Python 3 (ipykernel)",
   "language": "python",
   "name": "python3"
  },
  "language_info": {
   "codemirror_mode": {
    "name": "ipython",
    "version": 3
   },
   "file_extension": ".py",
   "mimetype": "text/x-python",
   "name": "python",
   "nbconvert_exporter": "python",
   "pygments_lexer": "ipython3",
   "version": "3.12.10"
  }
 },
 "nbformat": 4,
 "nbformat_minor": 4
}