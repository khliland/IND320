{
 "cells": [
  {
   "cell_type": "markdown",
   "metadata": {
    "slideshow": {
     "slide_type": "slide"
    }
   },
   "source": [
    "# Demonstration of API using OpenWeatherMap.org\n",
    "This demonstration is heavily inspired by [NeuralNine's video](https://www.youtube.com/watch?v=9P5MY_2i7K8).  \n",
    "You need a free account [from here](https://openweathermap.org/api).  \n",
    "The VS Code extension _JSON viewer_ is recommended for viewing downloaded JSON content.  \n",
    "  - Set your maximum API calls to 1000 per day to make sure you are under the limit for billing. \n",
    "  - To run the examples, download your API key, save it in the right folder (see below) in a file called _api\\_key\\_OpenWeather_, containing only the key (no spaces or \"enters\")."
   ]
  },
  {
   "cell_type": "code",
   "execution_count": 1,
   "metadata": {
    "ExecuteTime": {
     "end_time": "2024-08-17T10:19:06.946392Z",
     "start_time": "2024-08-17T10:19:06.887177Z"
    },
    "slideshow": {
     "slide_type": "fragment"
    },
    "tags": []
   },
   "outputs": [],
   "source": [
    "# Imports\n",
    "import datetime as dt\n",
    "import requests\n",
    "import json"
   ]
  },
  {
   "cell_type": "markdown",
   "metadata": {
    "slideshow": {
     "slide_type": "slide"
    }
   },
   "source": [
    "## Current weather\n",
    "### Common definitions to use for all requests"
   ]
  },
  {
   "cell_type": "code",
   "execution_count": 2,
   "metadata": {
    "ExecuteTime": {
     "end_time": "2024-08-17T10:19:06.950734Z",
     "start_time": "2024-08-17T10:19:06.948129Z"
    },
    "slideshow": {
     "slide_type": "fragment"
    },
    "tags": []
   },
   "outputs": [],
   "source": [
    "BASE_URL = \"http://api.openweathermap.org/data/2.5/weather?\"\n",
    "API_KEY = open('../../../No_sync/api_key_OpenWeather','r').read()\n",
    "CITY = \"Ski\"\n",
    "\n",
    "url = BASE_URL + \"q=\" + CITY + \"&appid=\" + API_KEY"
   ]
  },
  {
   "cell_type": "markdown",
   "metadata": {
    "slideshow": {
     "slide_type": "slide"
    }
   },
   "source": [
    "## Request current weather in chosen city"
   ]
  },
  {
   "cell_type": "code",
   "execution_count": 3,
   "metadata": {
    "ExecuteTime": {
     "end_time": "2024-08-17T10:19:07.346472Z",
     "start_time": "2024-08-17T10:19:06.951363Z"
    },
    "slideshow": {
     "slide_type": "fragment"
    },
    "tags": []
   },
   "outputs": [
    {
     "name": "stdout",
     "output_type": "stream",
     "text": [
      "{'coord': {'lon': 10.8358, 'lat': 59.7195}, 'weather': [{'id': 500, 'main': 'Rain', 'description': 'light rain', 'icon': '10n'}], 'base': 'stations', 'main': {'temp': 282.28, 'feels_like': 280.44, 'temp_min': 281.18, 'temp_max': 282.94, 'pressure': 1006, 'humidity': 96, 'sea_level': 1006, 'grnd_level': 989}, 'visibility': 10000, 'wind': {'speed': 3.3, 'deg': 103, 'gust': 9.56}, 'rain': {'1h': 0.87}, 'clouds': {'all': 100}, 'dt': 1728322014, 'sys': {'type': 2, 'id': 2006772, 'country': 'NO', 'sunrise': 1728279396, 'sunset': 1728318716}, 'timezone': 7200, 'id': 3139081, 'name': 'Ski', 'cod': 200}\n"
     ]
    }
   ],
   "source": [
    "response = requests.get(url).json()\n",
    "print(response)"
   ]
  },
  {
   "cell_type": "code",
   "execution_count": 4,
   "metadata": {
    "ExecuteTime": {
     "end_time": "2024-08-17T10:19:07.356894Z",
     "start_time": "2024-08-17T10:19:07.353047Z"
    },
    "slideshow": {
     "slide_type": "fragment"
    },
    "tags": []
   },
   "outputs": [],
   "source": [
    "# Write JSON to file for viewing\n",
    "with open('downloads/weather.json', 'w') as f:\n",
    "    json.dump(response, f, indent=4)"
   ]
  },
  {
   "cell_type": "markdown",
   "metadata": {
    "slideshow": {
     "slide_type": "slide"
    }
   },
   "source": [
    "## Conversion functions\n",
    "Changing scales can make results more interpretable"
   ]
  },
  {
   "cell_type": "code",
   "execution_count": 5,
   "metadata": {
    "ExecuteTime": {
     "end_time": "2024-08-17T10:19:07.360029Z",
     "start_time": "2024-08-17T10:19:07.358341Z"
    },
    "slideshow": {
     "slide_type": "fragment"
    },
    "tags": []
   },
   "outputs": [],
   "source": [
    "# Kelvin to Celsius\n",
    "def kelvin_to_celsius(temp):\n",
    "    return temp - 273.15\n",
    "\n",
    "# Meters per second to knots\n",
    "def mps_to_knots(speed):\n",
    "    return speed * 1.943844"
   ]
  },
  {
   "cell_type": "markdown",
   "metadata": {
    "slideshow": {
     "slide_type": "slide"
    }
   },
   "source": [
    "## Print some weather properties"
   ]
  },
  {
   "cell_type": "code",
   "execution_count": 6,
   "metadata": {
    "ExecuteTime": {
     "end_time": "2024-08-17T10:19:07.362209Z",
     "start_time": "2024-08-17T10:19:07.360604Z"
    },
    "slideshow": {
     "slide_type": "fragment"
    },
    "tags": []
   },
   "outputs": [
    {
     "name": "stdout",
     "output_type": "stream",
     "text": [
      "The current temperature in Ski is 9.1 °C\n"
     ]
    }
   ],
   "source": [
    "# Current temperature\n",
    "temp_kelvin = response['main']['temp']\n",
    "temp_celsius = kelvin_to_celsius(temp_kelvin)\n",
    "print(f\"The current temperature in {CITY} is {temp_celsius:.1f} °C\")"
   ]
  },
  {
   "cell_type": "code",
   "execution_count": 7,
   "metadata": {
    "ExecuteTime": {
     "end_time": "2024-08-17T10:19:07.364358Z",
     "start_time": "2024-08-17T10:19:07.362759Z"
    },
    "slideshow": {
     "slide_type": "slide"
    },
    "tags": []
   },
   "outputs": [
    {
     "name": "stdout",
     "output_type": "stream",
     "text": [
      "Sunrise today is at 07:36 and sunset is at 18:31\n"
     ]
    }
   ],
   "source": [
    "# Sunrise and sunset today in local time\n",
    "sunrise = dt.datetime.fromtimestamp(response['sys']['sunrise'])\n",
    "sunset = dt.datetime.fromtimestamp(response['sys']['sunset'])\n",
    "print(f\"Sunrise today is at {sunrise:%H:%M} and sunset is at {sunset:%H:%M}\")"
   ]
  },
  {
   "cell_type": "code",
   "execution_count": 8,
   "metadata": {
    "ExecuteTime": {
     "end_time": "2024-08-17T10:19:07.367002Z",
     "start_time": "2024-08-17T10:19:07.365133Z"
    },
    "slideshow": {
     "slide_type": "fragment"
    },
    "tags": []
   },
   "outputs": [
    {
     "name": "stdout",
     "output_type": "stream",
     "text": [
      "Wind today is from 103° at 6.4 knots\n"
     ]
    }
   ],
   "source": [
    "# Wind direction and speed\n",
    "wind_knots = mps_to_knots(response['wind']['speed'])\n",
    "print(f\"Wind today is from {response['wind']['deg']}° at {round(wind_knots,1)} knots\")"
   ]
  },
  {
   "cell_type": "markdown",
   "metadata": {
    "slideshow": {
     "slide_type": "slide"
    }
   },
   "source": [
    "## Forecasted weather\n",
    "### Common definitions to use for all requests"
   ]
  },
  {
   "cell_type": "code",
   "execution_count": 9,
   "metadata": {
    "ExecuteTime": {
     "end_time": "2024-08-17T10:19:07.369150Z",
     "start_time": "2024-08-17T10:19:07.367438Z"
    },
    "slideshow": {
     "slide_type": "fragment"
    },
    "tags": []
   },
   "outputs": [],
   "source": [
    "BASE_URL = \"https://api.openweathermap.org/data/2.5/forecast?\"\n",
    "CITY = \"Mo i Rana\"\n",
    "\n",
    "urlF = BASE_URL + \"q=\" + CITY + \"&appid=\" + API_KEY"
   ]
  },
  {
   "cell_type": "markdown",
   "metadata": {
    "slideshow": {
     "slide_type": "slide"
    }
   },
   "source": [
    "## Request forecasted weather in chosen city"
   ]
  },
  {
   "cell_type": "code",
   "execution_count": 10,
   "metadata": {
    "ExecuteTime": {
     "end_time": "2024-08-17T10:19:07.505916Z",
     "start_time": "2024-08-17T10:19:07.369779Z"
    },
    "slideshow": {
     "slide_type": "fragment"
    },
    "tags": []
   },
   "outputs": [
    {
     "name": "stdout",
     "output_type": "stream",
     "text": [
      "{'cod': '200', 'message': 0, 'cnt': 40, 'list': [{'dt': 1728324000, 'main': {'temp': 277.41, 'feels_like': 274.95, 'temp_min': 273.85, 'temp_max': 277.41, 'pressure': 1015, 'sea_level': 1015, 'grnd_level': 962, 'humidity': 60, 'temp_kf': 3.56}, 'weather': [{'id': 802, 'main': 'Clouds', 'description': 'scattered clouds', 'icon': '03n'}], 'clouds': {'all': 40}, 'wind': {'speed': 2.76, 'deg': 67, 'gust': 2.66}, 'visibility': 10000, 'pop': 0, 'sys': {'pod': 'n'}, 'dt_txt': '2024-10-07 18:00:00'}, {'dt': 1728334800, 'main': {'temp': 276.3, 'feels_like': 273.28, 'temp_min': 274.09, 'temp_max': 276.3, 'pressure': 1015, 'sea_level': 1015, 'grnd_level': 962, 'humidity': 69, 'temp_kf': 2.21}, 'weather': [{'id': 600, 'main': 'Snow', 'description': 'light snow', 'icon': '13n'}], 'clouds': {'all': 60}, 'wind': {'speed': 3.2, 'deg': 55, 'gust': 3.75}, 'visibility': 755, 'pop': 0.26, 'snow': {'3h': 0.26}, 'sys': {'pod': 'n'}, 'dt_txt': '2024-10-07 21:00:00'}, {'dt': 1728345600, 'main': {'temp': 275.23, 'feels_like': 272.21, 'temp_min': 274.14, 'temp_max': 275.23, 'pressure': 1014, 'sea_level': 1014, 'grnd_level': 960, 'humidity': 84, 'temp_kf': 1.09}, 'weather': [{'id': 601, 'main': 'Snow', 'description': 'snow', 'icon': '13n'}], 'clouds': {'all': 80}, 'wind': {'speed': 2.93, 'deg': 54, 'gust': 3.47}, 'visibility': 323, 'pop': 1, 'snow': {'3h': 1.61}, 'sys': {'pod': 'n'}, 'dt_txt': '2024-10-08 00:00:00'}, {'dt': 1728356400, 'main': {'temp': 274.31, 'feels_like': 271.28, 'temp_min': 274.31, 'temp_max': 274.31, 'pressure': 1011, 'sea_level': 1011, 'grnd_level': 958, 'humidity': 97, 'temp_kf': 0}, 'weather': [{'id': 601, 'main': 'Snow', 'description': 'snow', 'icon': '13n'}], 'clouds': {'all': 100}, 'wind': {'speed': 2.73, 'deg': 59, 'gust': 3.21}, 'visibility': 283, 'pop': 1, 'snow': {'3h': 2.59}, 'sys': {'pod': 'n'}, 'dt_txt': '2024-10-08 03:00:00'}, {'dt': 1728367200, 'main': {'temp': 274.52, 'feels_like': 271.65, 'temp_min': 274.52, 'temp_max': 274.52, 'pressure': 1009, 'sea_level': 1009, 'grnd_level': 957, 'humidity': 97, 'temp_kf': 0}, 'weather': [{'id': 601, 'main': 'Snow', 'description': 'snow', 'icon': '13d'}], 'clouds': {'all': 100}, 'wind': {'speed': 2.6, 'deg': 66, 'gust': 3.88}, 'visibility': 301, 'pop': 1, 'snow': {'3h': 2.34}, 'sys': {'pod': 'd'}, 'dt_txt': '2024-10-08 06:00:00'}, {'dt': 1728378000, 'main': {'temp': 275.57, 'feels_like': 272.98, 'temp_min': 275.57, 'temp_max': 275.57, 'pressure': 1008, 'sea_level': 1008, 'grnd_level': 956, 'humidity': 99, 'temp_kf': 0}, 'weather': [{'id': 601, 'main': 'Snow', 'description': 'snow', 'icon': '13d'}], 'clouds': {'all': 100}, 'wind': {'speed': 2.51, 'deg': 64, 'gust': 4.02}, 'visibility': 303, 'pop': 1, 'snow': {'3h': 2.82}, 'sys': {'pod': 'd'}, 'dt_txt': '2024-10-08 09:00:00'}, {'dt': 1728388800, 'main': {'temp': 276.1, 'feels_like': 273.7, 'temp_min': 276.1, 'temp_max': 276.1, 'pressure': 1007, 'sea_level': 1007, 'grnd_level': 956, 'humidity': 100, 'temp_kf': 0}, 'weather': [{'id': 601, 'main': 'Snow', 'description': 'snow', 'icon': '13d'}], 'clouds': {'all': 100}, 'wind': {'speed': 2.42, 'deg': 57, 'gust': 2.67}, 'visibility': 147, 'pop': 1, 'snow': {'3h': 2.87}, 'sys': {'pod': 'd'}, 'dt_txt': '2024-10-08 12:00:00'}, {'dt': 1728399600, 'main': {'temp': 276.06, 'feels_like': 274.04, 'temp_min': 276.06, 'temp_max': 276.06, 'pressure': 1007, 'sea_level': 1007, 'grnd_level': 955, 'humidity': 100, 'temp_kf': 0}, 'weather': [{'id': 601, 'main': 'Snow', 'description': 'snow', 'icon': '13d'}], 'clouds': {'all': 100}, 'wind': {'speed': 2.04, 'deg': 66, 'gust': 2.91}, 'visibility': 101, 'pop': 1, 'snow': {'3h': 1.95}, 'sys': {'pod': 'd'}, 'dt_txt': '2024-10-08 15:00:00'}, {'dt': 1728410400, 'main': {'temp': 275.8, 'feels_like': 273.75, 'temp_min': 275.8, 'temp_max': 275.8, 'pressure': 1006, 'sea_level': 1006, 'grnd_level': 954, 'humidity': 99, 'temp_kf': 0}, 'weather': [{'id': 600, 'main': 'Snow', 'description': 'light snow', 'icon': '13n'}], 'clouds': {'all': 100}, 'wind': {'speed': 2.03, 'deg': 70, 'gust': 2.85}, 'pop': 1, 'snow': {'3h': 0.91}, 'sys': {'pod': 'n'}, 'dt_txt': '2024-10-08 18:00:00'}, {'dt': 1728421200, 'main': {'temp': 275.57, 'feels_like': 273.25, 'temp_min': 275.57, 'temp_max': 275.57, 'pressure': 1005, 'sea_level': 1005, 'grnd_level': 953, 'humidity': 99, 'temp_kf': 0}, 'weather': [{'id': 600, 'main': 'Snow', 'description': 'light snow', 'icon': '13n'}], 'clouds': {'all': 100}, 'wind': {'speed': 2.24, 'deg': 67, 'gust': 2.6}, 'pop': 1, 'snow': {'3h': 0.92}, 'sys': {'pod': 'n'}, 'dt_txt': '2024-10-08 21:00:00'}, {'dt': 1728432000, 'main': {'temp': 275.74, 'feels_like': 273.78, 'temp_min': 275.74, 'temp_max': 275.74, 'pressure': 1003, 'sea_level': 1003, 'grnd_level': 951, 'humidity': 99, 'temp_kf': 0}, 'weather': [{'id': 601, 'main': 'Snow', 'description': 'snow', 'icon': '13n'}], 'clouds': {'all': 100}, 'wind': {'speed': 1.94, 'deg': 57, 'gust': 2.32}, 'visibility': 189, 'pop': 1, 'snow': {'3h': 3.75}, 'sys': {'pod': 'n'}, 'dt_txt': '2024-10-09 00:00:00'}, {'dt': 1728442800, 'main': {'temp': 275.85, 'feels_like': 273.95, 'temp_min': 275.85, 'temp_max': 275.85, 'pressure': 1001, 'sea_level': 1001, 'grnd_level': 949, 'humidity': 99, 'temp_kf': 0}, 'weather': [{'id': 601, 'main': 'Snow', 'description': 'snow', 'icon': '13n'}], 'clouds': {'all': 100}, 'wind': {'speed': 1.9, 'deg': 47, 'gust': 1.91}, 'visibility': 142, 'pop': 1, 'snow': {'3h': 3.85}, 'sys': {'pod': 'n'}, 'dt_txt': '2024-10-09 03:00:00'}, {'dt': 1728453600, 'main': {'temp': 276.63, 'feels_like': 274.83, 'temp_min': 276.63, 'temp_max': 276.63, 'pressure': 999, 'sea_level': 999, 'grnd_level': 947, 'humidity': 100, 'temp_kf': 0}, 'weather': [{'id': 501, 'main': 'Rain', 'description': 'moderate rain', 'icon': '10d'}], 'clouds': {'all': 100}, 'wind': {'speed': 1.93, 'deg': 34, 'gust': 1.44}, 'visibility': 419, 'pop': 1, 'rain': {'3h': 3.35}, 'sys': {'pod': 'd'}, 'dt_txt': '2024-10-09 06:00:00'}, {'dt': 1728464400, 'main': {'temp': 277.76, 'feels_like': 275.86, 'temp_min': 277.76, 'temp_max': 277.76, 'pressure': 997, 'sea_level': 997, 'grnd_level': 946, 'humidity': 100, 'temp_kf': 0}, 'weather': [{'id': 500, 'main': 'Rain', 'description': 'light rain', 'icon': '10d'}], 'clouds': {'all': 100}, 'wind': {'speed': 2.2, 'deg': 76, 'gust': 1.66}, 'visibility': 92, 'pop': 1, 'rain': {'3h': 2.15}, 'sys': {'pod': 'd'}, 'dt_txt': '2024-10-09 09:00:00'}, {'dt': 1728475200, 'main': {'temp': 278.82, 'feels_like': 276.58, 'temp_min': 278.82, 'temp_max': 278.82, 'pressure': 995, 'sea_level': 995, 'grnd_level': 944, 'humidity': 100, 'temp_kf': 0}, 'weather': [{'id': 500, 'main': 'Rain', 'description': 'light rain', 'icon': '10d'}], 'clouds': {'all': 100}, 'wind': {'speed': 2.83, 'deg': 83, 'gust': 2.45}, 'visibility': 48, 'pop': 1, 'rain': {'3h': 2.82}, 'sys': {'pod': 'd'}, 'dt_txt': '2024-10-09 12:00:00'}, {'dt': 1728486000, 'main': {'temp': 278.45, 'feels_like': 275.89, 'temp_min': 278.45, 'temp_max': 278.45, 'pressure': 994, 'sea_level': 994, 'grnd_level': 944, 'humidity': 100, 'temp_kf': 0}, 'weather': [{'id': 501, 'main': 'Rain', 'description': 'moderate rain', 'icon': '10d'}], 'clouds': {'all': 100}, 'wind': {'speed': 3.18, 'deg': 87, 'gust': 2.94}, 'visibility': 79, 'pop': 1, 'rain': {'3h': 3.91}, 'sys': {'pod': 'd'}, 'dt_txt': '2024-10-09 15:00:00'}, {'dt': 1728496800, 'main': {'temp': 277.36, 'feels_like': 275.6, 'temp_min': 277.36, 'temp_max': 277.36, 'pressure': 995, 'sea_level': 995, 'grnd_level': 944, 'humidity': 100, 'temp_kf': 0}, 'weather': [{'id': 501, 'main': 'Rain', 'description': 'moderate rain', 'icon': '10n'}], 'clouds': {'all': 100}, 'wind': {'speed': 2, 'deg': 85, 'gust': 1.92}, 'visibility': 87, 'pop': 1, 'rain': {'3h': 3.08}, 'sys': {'pod': 'n'}, 'dt_txt': '2024-10-09 18:00:00'}, {'dt': 1728507600, 'main': {'temp': 276.92, 'feels_like': 276.92, 'temp_min': 276.92, 'temp_max': 276.92, 'pressure': 995, 'sea_level': 995, 'grnd_level': 944, 'humidity': 100, 'temp_kf': 0}, 'weather': [{'id': 500, 'main': 'Rain', 'description': 'light rain', 'icon': '10n'}], 'clouds': {'all': 100}, 'wind': {'speed': 0.79, 'deg': 75, 'gust': 0.66}, 'visibility': 77, 'pop': 1, 'rain': {'3h': 1.21}, 'sys': {'pod': 'n'}, 'dt_txt': '2024-10-09 21:00:00'}, {'dt': 1728518400, 'main': {'temp': 276.69, 'feels_like': 276.69, 'temp_min': 276.69, 'temp_max': 276.69, 'pressure': 995, 'sea_level': 995, 'grnd_level': 944, 'humidity': 100, 'temp_kf': 0}, 'weather': [{'id': 600, 'main': 'Snow', 'description': 'light snow', 'icon': '13n'}], 'clouds': {'all': 100}, 'wind': {'speed': 1.14, 'deg': 280, 'gust': 1.27}, 'visibility': 29, 'pop': 1, 'snow': {'3h': 1.15}, 'sys': {'pod': 'n'}, 'dt_txt': '2024-10-10 00:00:00'}, {'dt': 1728529200, 'main': {'temp': 276.17, 'feels_like': 274.6, 'temp_min': 276.17, 'temp_max': 276.17, 'pressure': 995, 'sea_level': 995, 'grnd_level': 943, 'humidity': 100, 'temp_kf': 0}, 'weather': [{'id': 600, 'main': 'Snow', 'description': 'light snow', 'icon': '13n'}], 'clouds': {'all': 100}, 'wind': {'speed': 1.68, 'deg': 250, 'gust': 2.19}, 'visibility': 25, 'pop': 1, 'snow': {'3h': 1.07}, 'sys': {'pod': 'n'}, 'dt_txt': '2024-10-10 03:00:00'}, {'dt': 1728540000, 'main': {'temp': 276.05, 'feels_like': 274.46, 'temp_min': 276.05, 'temp_max': 276.05, 'pressure': 995, 'sea_level': 995, 'grnd_level': 943, 'humidity': 100, 'temp_kf': 0}, 'weather': [{'id': 600, 'main': 'Snow', 'description': 'light snow', 'icon': '13d'}], 'clouds': {'all': 100}, 'wind': {'speed': 1.68, 'deg': 249, 'gust': 2.3}, 'visibility': 22, 'pop': 1, 'snow': {'3h': 0.9}, 'sys': {'pod': 'd'}, 'dt_txt': '2024-10-10 06:00:00'}, {'dt': 1728550800, 'main': {'temp': 276.4, 'feels_like': 274.9, 'temp_min': 276.4, 'temp_max': 276.4, 'pressure': 996, 'sea_level': 996, 'grnd_level': 945, 'humidity': 100, 'temp_kf': 0}, 'weather': [{'id': 600, 'main': 'Snow', 'description': 'light snow', 'icon': '13d'}], 'clouds': {'all': 100}, 'wind': {'speed': 1.65, 'deg': 247, 'gust': 2.56}, 'visibility': 22, 'pop': 1, 'snow': {'3h': 0.73}, 'sys': {'pod': 'd'}, 'dt_txt': '2024-10-10 09:00:00'}, {'dt': 1728561600, 'main': {'temp': 276.47, 'feels_like': 274.69, 'temp_min': 276.47, 'temp_max': 276.47, 'pressure': 998, 'sea_level': 998, 'grnd_level': 947, 'humidity': 100, 'temp_kf': 0}, 'weather': [{'id': 600, 'main': 'Snow', 'description': 'light snow', 'icon': '13d'}], 'clouds': {'all': 100}, 'wind': {'speed': 1.89, 'deg': 248, 'gust': 2.5}, 'visibility': 180, 'pop': 1, 'snow': {'3h': 0.44}, 'sys': {'pod': 'd'}, 'dt_txt': '2024-10-10 12:00:00'}, {'dt': 1728572400, 'main': {'temp': 275.73, 'feels_like': 275.73, 'temp_min': 275.73, 'temp_max': 275.73, 'pressure': 999, 'sea_level': 999, 'grnd_level': 948, 'humidity': 95, 'temp_kf': 0}, 'weather': [{'id': 804, 'main': 'Clouds', 'description': 'overcast clouds', 'icon': '04d'}], 'clouds': {'all': 100}, 'wind': {'speed': 1.21, 'deg': 239, 'gust': 1.28}, 'visibility': 10000, 'pop': 0, 'sys': {'pod': 'd'}, 'dt_txt': '2024-10-10 15:00:00'}, {'dt': 1728583200, 'main': {'temp': 275.3, 'feels_like': 275.3, 'temp_min': 275.3, 'temp_max': 275.3, 'pressure': 1001, 'sea_level': 1001, 'grnd_level': 949, 'humidity': 94, 'temp_kf': 0}, 'weather': [{'id': 804, 'main': 'Clouds', 'description': 'overcast clouds', 'icon': '04n'}], 'clouds': {'all': 100}, 'wind': {'speed': 0.24, 'deg': 358, 'gust': 0.42}, 'visibility': 10000, 'pop': 0, 'sys': {'pod': 'n'}, 'dt_txt': '2024-10-10 18:00:00'}, {'dt': 1728594000, 'main': {'temp': 274.78, 'feels_like': 274.78, 'temp_min': 274.78, 'temp_max': 274.78, 'pressure': 1002, 'sea_level': 1002, 'grnd_level': 950, 'humidity': 92, 'temp_kf': 0}, 'weather': [{'id': 804, 'main': 'Clouds', 'description': 'overcast clouds', 'icon': '04n'}], 'clouds': {'all': 100}, 'wind': {'speed': 1.1, 'deg': 69, 'gust': 1.25}, 'visibility': 10000, 'pop': 0, 'sys': {'pod': 'n'}, 'dt_txt': '2024-10-10 21:00:00'}, {'dt': 1728604800, 'main': {'temp': 273.68, 'feels_like': 271.54, 'temp_min': 273.68, 'temp_max': 273.68, 'pressure': 1002, 'sea_level': 1002, 'grnd_level': 950, 'humidity': 92, 'temp_kf': 0}, 'weather': [{'id': 804, 'main': 'Clouds', 'description': 'overcast clouds', 'icon': '04n'}], 'clouds': {'all': 100}, 'wind': {'speed': 1.82, 'deg': 73, 'gust': 2.01}, 'visibility': 10000, 'pop': 0, 'sys': {'pod': 'n'}, 'dt_txt': '2024-10-11 00:00:00'}, {'dt': 1728615600, 'main': {'temp': 274.4, 'feels_like': 272.66, 'temp_min': 274.4, 'temp_max': 274.4, 'pressure': 1001, 'sea_level': 1001, 'grnd_level': 949, 'humidity': 91, 'temp_kf': 0}, 'weather': [{'id': 804, 'main': 'Clouds', 'description': 'overcast clouds', 'icon': '04n'}], 'clouds': {'all': 100}, 'wind': {'speed': 1.61, 'deg': 57, 'gust': 1.5}, 'visibility': 10000, 'pop': 0, 'sys': {'pod': 'n'}, 'dt_txt': '2024-10-11 03:00:00'}, {'dt': 1728626400, 'main': {'temp': 274.68, 'feels_like': 274.68, 'temp_min': 274.68, 'temp_max': 274.68, 'pressure': 1000, 'sea_level': 1000, 'grnd_level': 948, 'humidity': 93, 'temp_kf': 0}, 'weather': [{'id': 804, 'main': 'Clouds', 'description': 'overcast clouds', 'icon': '04d'}], 'clouds': {'all': 100}, 'wind': {'speed': 1.32, 'deg': 48, 'gust': 1.3}, 'visibility': 8658, 'pop': 0, 'sys': {'pod': 'd'}, 'dt_txt': '2024-10-11 06:00:00'}, {'dt': 1728637200, 'main': {'temp': 275.24, 'feels_like': 274.01, 'temp_min': 275.24, 'temp_max': 275.24, 'pressure': 999, 'sea_level': 999, 'grnd_level': 947, 'humidity': 98, 'temp_kf': 0}, 'weather': [{'id': 600, 'main': 'Snow', 'description': 'light snow', 'icon': '13d'}], 'clouds': {'all': 100}, 'wind': {'speed': 1.35, 'deg': 3, 'gust': 1.59}, 'visibility': 233, 'pop': 1, 'snow': {'3h': 0.75}, 'sys': {'pod': 'd'}, 'dt_txt': '2024-10-11 09:00:00'}, {'dt': 1728648000, 'main': {'temp': 275.58, 'feels_like': 274.38, 'temp_min': 275.58, 'temp_max': 275.58, 'pressure': 996, 'sea_level': 996, 'grnd_level': 944, 'humidity': 99, 'temp_kf': 0}, 'weather': [{'id': 601, 'main': 'Snow', 'description': 'snow', 'icon': '13d'}], 'clouds': {'all': 100}, 'wind': {'speed': 1.36, 'deg': 337, 'gust': 1.73}, 'visibility': 127, 'pop': 1, 'snow': {'3h': 2.34}, 'sys': {'pod': 'd'}, 'dt_txt': '2024-10-11 12:00:00'}, {'dt': 1728658800, 'main': {'temp': 275.61, 'feels_like': 273.76, 'temp_min': 275.61, 'temp_max': 275.61, 'pressure': 993, 'sea_level': 993, 'grnd_level': 941, 'humidity': 99, 'temp_kf': 0}, 'weather': [{'id': 601, 'main': 'Snow', 'description': 'snow', 'icon': '13d'}], 'clouds': {'all': 100}, 'wind': {'speed': 1.83, 'deg': 296, 'gust': 2.4}, 'visibility': 101, 'pop': 1, 'snow': {'3h': 7.62}, 'sys': {'pod': 'd'}, 'dt_txt': '2024-10-11 15:00:00'}, {'dt': 1728669600, 'main': {'temp': 275.25, 'feels_like': 272.74, 'temp_min': 275.25, 'temp_max': 275.25, 'pressure': 992, 'sea_level': 992, 'grnd_level': 941, 'humidity': 99, 'temp_kf': 0}, 'weather': [{'id': 601, 'main': 'Snow', 'description': 'snow', 'icon': '13n'}], 'clouds': {'all': 100}, 'wind': {'speed': 2.37, 'deg': 303, 'gust': 3.07}, 'visibility': 184, 'pop': 1, 'snow': {'3h': 6.91}, 'sys': {'pod': 'n'}, 'dt_txt': '2024-10-11 18:00:00'}, {'dt': 1728680400, 'main': {'temp': 275.13, 'feels_like': 273.26, 'temp_min': 275.13, 'temp_max': 275.13, 'pressure': 993, 'sea_level': 993, 'grnd_level': 942, 'humidity': 99, 'temp_kf': 0}, 'weather': [{'id': 601, 'main': 'Snow', 'description': 'snow', 'icon': '13n'}], 'clouds': {'all': 100}, 'wind': {'speed': 1.79, 'deg': 284, 'gust': 2.3}, 'visibility': 186, 'pop': 1, 'snow': {'3h': 2.04}, 'sys': {'pod': 'n'}, 'dt_txt': '2024-10-11 21:00:00'}, {'dt': 1728691200, 'main': {'temp': 276, 'feels_like': 272.68, 'temp_min': 276, 'temp_max': 276, 'pressure': 995, 'sea_level': 995, 'grnd_level': 944, 'humidity': 99, 'temp_kf': 0}, 'weather': [{'id': 600, 'main': 'Snow', 'description': 'light snow', 'icon': '13n'}], 'clouds': {'all': 100}, 'wind': {'speed': 3.53, 'deg': 263, 'gust': 4.29}, 'visibility': 31, 'pop': 1, 'snow': {'3h': 1.14}, 'sys': {'pod': 'n'}, 'dt_txt': '2024-10-12 00:00:00'}, {'dt': 1728702000, 'main': {'temp': 274.11, 'feels_like': 270.3, 'temp_min': 274.11, 'temp_max': 274.11, 'pressure': 999, 'sea_level': 999, 'grnd_level': 947, 'humidity': 96, 'temp_kf': 0}, 'weather': [{'id': 600, 'main': 'Snow', 'description': 'light snow', 'icon': '13n'}], 'clouds': {'all': 100}, 'wind': {'speed': 3.64, 'deg': 245, 'gust': 3.53}, 'visibility': 10000, 'pop': 1, 'snow': {'3h': 0.57}, 'sys': {'pod': 'n'}, 'dt_txt': '2024-10-12 03:00:00'}, {'dt': 1728712800, 'main': {'temp': 269.94, 'feels_like': 265.92, 'temp_min': 269.94, 'temp_max': 269.94, 'pressure': 1002, 'sea_level': 1002, 'grnd_level': 949, 'humidity': 95, 'temp_kf': 0}, 'weather': [{'id': 600, 'main': 'Snow', 'description': 'light snow', 'icon': '13d'}], 'clouds': {'all': 90}, 'wind': {'speed': 2.87, 'deg': 216, 'gust': 2.17}, 'visibility': 10000, 'pop': 1, 'snow': {'3h': 0.3}, 'sys': {'pod': 'd'}, 'dt_txt': '2024-10-12 06:00:00'}, {'dt': 1728723600, 'main': {'temp': 274.72, 'feels_like': 271.89, 'temp_min': 274.72, 'temp_max': 274.72, 'pressure': 1004, 'sea_level': 1004, 'grnd_level': 952, 'humidity': 87, 'temp_kf': 0}, 'weather': [{'id': 500, 'main': 'Rain', 'description': 'light rain', 'icon': '10d'}], 'clouds': {'all': 61}, 'wind': {'speed': 2.6, 'deg': 225, 'gust': 3.03}, 'visibility': 10000, 'pop': 0.37, 'rain': {'3h': 0.15}, 'sys': {'pod': 'd'}, 'dt_txt': '2024-10-12 09:00:00'}, {'dt': 1728734400, 'main': {'temp': 276.17, 'feels_like': 273.96, 'temp_min': 276.17, 'temp_max': 276.17, 'pressure': 1006, 'sea_level': 1006, 'grnd_level': 954, 'humidity': 90, 'temp_kf': 0}, 'weather': [{'id': 500, 'main': 'Rain', 'description': 'light rain', 'icon': '10d'}], 'clouds': {'all': 73}, 'wind': {'speed': 2.24, 'deg': 236, 'gust': 3.39}, 'visibility': 10000, 'pop': 0.39, 'rain': {'3h': 0.18}, 'sys': {'pod': 'd'}, 'dt_txt': '2024-10-12 12:00:00'}, {'dt': 1728745200, 'main': {'temp': 272.15, 'feels_like': 272.15, 'temp_min': 272.15, 'temp_max': 272.15, 'pressure': 1008, 'sea_level': 1008, 'grnd_level': 955, 'humidity': 87, 'temp_kf': 0}, 'weather': [{'id': 804, 'main': 'Clouds', 'description': 'overcast clouds', 'icon': '04d'}], 'clouds': {'all': 95}, 'wind': {'speed': 1.24, 'deg': 164, 'gust': 1.82}, 'visibility': 10000, 'pop': 0, 'sys': {'pod': 'd'}, 'dt_txt': '2024-10-12 15:00:00'}], 'city': {'id': 3145614, 'name': 'Mo i Rana', 'coord': {'lat': 66.3128, 'lon': 14.1428}, 'country': 'NO', 'population': 17853, 'timezone': 7200, 'sunrise': 1728279280, 'sunset': 1728317245}}\n"
     ]
    }
   ],
   "source": [
    "responseF = requests.get(urlF).json()\n",
    "#print(json.dumps(responseF, indent=4))\n",
    "print(responseF)"
   ]
  },
  {
   "cell_type": "code",
   "execution_count": 11,
   "metadata": {
    "ExecuteTime": {
     "end_time": "2024-08-17T10:19:07.510514Z",
     "start_time": "2024-08-17T10:19:07.506586Z"
    },
    "slideshow": {
     "slide_type": "slide"
    },
    "tags": []
   },
   "outputs": [],
   "source": [
    "# Write JSON to file for viewing\n",
    "with open('downloads/forecast.json', 'w') as f:\n",
    "    json.dump(responseF, f, indent=4)"
   ]
  },
  {
   "cell_type": "markdown",
   "metadata": {
    "slideshow": {
     "slide_type": "slide"
    }
   },
   "source": [
    "### When and what?\n",
    "Check contents and time stamps"
   ]
  },
  {
   "cell_type": "code",
   "execution_count": 12,
   "metadata": {
    "ExecuteTime": {
     "end_time": "2024-08-17T10:19:07.514214Z",
     "start_time": "2024-08-17T10:19:07.511162Z"
    },
    "slideshow": {
     "slide_type": "fragment"
    },
    "tags": []
   },
   "outputs": [
    {
     "data": {
      "text/plain": [
       "dict_keys(['cod', 'message', 'cnt', 'list', 'city'])"
      ]
     },
     "execution_count": 12,
     "metadata": {},
     "output_type": "execute_result"
    }
   ],
   "source": [
    "# Content of responseF\n",
    "responseF.keys()"
   ]
  },
  {
   "cell_type": "code",
   "execution_count": 13,
   "metadata": {
    "ExecuteTime": {
     "end_time": "2024-08-17T10:19:07.516813Z",
     "start_time": "2024-08-17T10:19:07.514918Z"
    },
    "slideshow": {
     "slide_type": "fragment"
    },
    "tags": []
   },
   "outputs": [
    {
     "name": "stdout",
     "output_type": "stream",
     "text": [
      "40\n"
     ]
    }
   ],
   "source": [
    "# Number of forecasts\n",
    "print(len(responseF[\"list\"]))"
   ]
  },
  {
   "cell_type": "code",
   "execution_count": 14,
   "metadata": {
    "ExecuteTime": {
     "end_time": "2024-08-17T10:19:07.520443Z",
     "start_time": "2024-08-17T10:19:07.518884Z"
    },
    "slideshow": {
     "slide_type": "slide"
    },
    "tags": []
   },
   "outputs": [
    {
     "name": "stdout",
     "output_type": "stream",
     "text": [
      "2024-10-07 18:00:00\n",
      "2024-10-07 21:00:00\n",
      "2024-10-08 00:00:00\n",
      "2024-10-08 03:00:00\n",
      "2024-10-08 06:00:00\n",
      "2024-10-08 09:00:00\n",
      "2024-10-08 12:00:00\n",
      "2024-10-08 15:00:00\n",
      "2024-10-08 18:00:00\n",
      "2024-10-08 21:00:00\n",
      "2024-10-09 00:00:00\n",
      "2024-10-09 03:00:00\n",
      "2024-10-09 06:00:00\n",
      "2024-10-09 09:00:00\n",
      "2024-10-09 12:00:00\n",
      "2024-10-09 15:00:00\n",
      "2024-10-09 18:00:00\n",
      "2024-10-09 21:00:00\n",
      "2024-10-10 00:00:00\n",
      "2024-10-10 03:00:00\n",
      "2024-10-10 06:00:00\n",
      "2024-10-10 09:00:00\n",
      "2024-10-10 12:00:00\n",
      "2024-10-10 15:00:00\n",
      "2024-10-10 18:00:00\n",
      "2024-10-10 21:00:00\n",
      "2024-10-11 00:00:00\n",
      "2024-10-11 03:00:00\n",
      "2024-10-11 06:00:00\n",
      "2024-10-11 09:00:00\n",
      "2024-10-11 12:00:00\n",
      "2024-10-11 15:00:00\n",
      "2024-10-11 18:00:00\n",
      "2024-10-11 21:00:00\n",
      "2024-10-12 00:00:00\n",
      "2024-10-12 03:00:00\n",
      "2024-10-12 06:00:00\n",
      "2024-10-12 09:00:00\n",
      "2024-10-12 12:00:00\n",
      "2024-10-12 15:00:00\n"
     ]
    }
   ],
   "source": [
    "# Print forecast times\n",
    "for forecast in responseF[\"list\"]:\n",
    "    print(forecast[\"dt_txt\"])"
   ]
  },
  {
   "cell_type": "markdown",
   "metadata": {
    "slideshow": {
     "slide_type": "slide"
    }
   },
   "source": [
    "## Make plots of omnipresent measurements and events\n",
    "We will later look at missing data, data only sporadically appearing and so on."
   ]
  },
  {
   "cell_type": "code",
   "execution_count": 15,
   "metadata": {
    "ExecuteTime": {
     "end_time": "2024-08-17T10:19:07.522603Z",
     "start_time": "2024-08-17T10:19:07.521029Z"
    },
    "slideshow": {
     "slide_type": "fragment"
    },
    "tags": []
   },
   "outputs": [],
   "source": [
    "# Air pressure per period\n",
    "pressures = []\n",
    "timestamps = []\n",
    "for forecast in responseF[\"list\"]:\n",
    "    pressures.append(forecast[\"main\"][\"pressure\"])\n",
    "    timestamps.append(dt.datetime.fromtimestamp(forecast[\"dt\"]))"
   ]
  },
  {
   "cell_type": "code",
   "execution_count": 16,
   "metadata": {
    "ExecuteTime": {
     "end_time": "2024-08-17T10:19:08.124779Z",
     "start_time": "2024-08-17T10:19:07.523100Z"
    },
    "slideshow": {
     "slide_type": "slide"
    },
    "tags": []
   },
   "outputs": [
    {
     "data": {
      "image/png": "[encoded data removed]",
      "text/plain": [
       "<Figure size 640x480 with 1 Axes>"
      ]
     },
     "metadata": {},
     "output_type": "display_data"
    }
   ],
   "source": [
    "import matplotlib.pyplot as plt\n",
    "plt.bar(timestamps, pressures)\n",
    "plt.xticks(rotation=45)\n",
    "plt.ylim(980, 1050)\n",
    "plt.grid()\n",
    "plt.ylabel(\"Air pressure (hPa)\")\n",
    "plt.title(f\"Forecasted air pressure in {CITY}\")\n",
    "plt.show()"
   ]
  },
  {
   "cell_type": "markdown",
   "metadata": {
    "slideshow": {
     "slide_type": "slide"
    }
   },
   "source": [
    "## Exercise\n",
    "- Make a new forecast request for your own hometown. Call your response something else than responseF.\n",
    "- If available, plot the humidity like we did with air pressure."
   ]
  },
  {
   "cell_type": "markdown",
   "metadata": {
    "slideshow": {
     "slide_type": "slide"
    }
   },
   "source": [
    "### Precipitation\n",
    "- ... comes in two main flavours: rain and snow.\n",
    "- We need to check which is present and set to zero if it is abscent."
   ]
  },
  {
   "cell_type": "code",
   "execution_count": 17,
   "metadata": {
    "ExecuteTime": {
     "end_time": "2024-08-17T10:19:08.128573Z",
     "start_time": "2024-08-17T10:19:08.125858Z"
    },
    "slideshow": {
     "slide_type": "fragment"
    },
    "tags": []
   },
   "outputs": [],
   "source": [
    "rain = []\n",
    "snow = []\n",
    "for forecast in responseF[\"list\"]:\n",
    "    try: # Check if rain is present in forecast\n",
    "        rain.append(forecast[\"rain\"][\"3h\"])\n",
    "    except KeyError:\n",
    "        rain.append(0)\n",
    "    try: # Check if snow is present in forecast\n",
    "        snow.append(forecast[\"snow\"][\"3h\"])\n",
    "    except KeyError:\n",
    "        snow.append(0)"
   ]
  },
  {
   "cell_type": "code",
   "execution_count": 18,
   "metadata": {
    "ExecuteTime": {
     "end_time": "2024-08-17T10:19:08.223315Z",
     "start_time": "2024-08-17T10:19:08.129282Z"
    },
    "slideshow": {
     "slide_type": "slide"
    },
    "tags": []
   },
   "outputs": [
    {
     "data": {
      "image/png": "[encoded data removed]",
      "text/plain": [
       "<Figure size 640x480 with 1 Axes>"
      ]
     },
     "metadata": {},
     "output_type": "display_data"
    }
   ],
   "source": [
    "# Stacked bar chart with rain and snow\n",
    "plt.bar(timestamps, rain, label=\"Rain\")\n",
    "plt.bar(timestamps, snow, label=\"Snow\")\n",
    "plt.xticks(rotation=45)\n",
    "plt.grid()\n",
    "plt.ylabel(\"Precipitation (mm)\")\n",
    "plt.title(f\"Forecasted precipitation in {CITY}\")\n",
    "plt.legend()\n",
    "plt.show()\n"
   ]
  },
  {
   "cell_type": "markdown",
   "metadata": {
    "slideshow": {
     "slide_type": "slide"
    }
   },
   "source": [
    "```{seealso} Resources\n",
    ":class: tip\n",
    "- [YouTube: NeuralNine's video (15m:32s)](https://www.youtube.com/watch?v=9P5MY_2i7K8)\n",
    "```"
   ]
  }
 ],
 "metadata": {
  "celltoolbar": "Slideshow",
  "kernelspec": {
   "display_name": "Python 3 (ipykernel)",
   "language": "python",
   "name": "python3"
  },
  "language_info": {
   "codemirror_mode": {
    "name": "ipython",
    "version": 3
   },
   "file_extension": ".py",
   "mimetype": "text/x-python",
   "name": "python",
   "nbconvert_exporter": "python",
   "pygments_lexer": "ipython3",
   "version": "3.12.4"
  }
 },
 "nbformat": 4,
 "nbformat_minor": 4
}