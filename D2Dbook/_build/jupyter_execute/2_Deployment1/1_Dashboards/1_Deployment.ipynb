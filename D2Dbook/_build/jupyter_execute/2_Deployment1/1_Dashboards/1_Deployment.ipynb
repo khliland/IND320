{
 "cells": [
  {
   "cell_type": "markdown",
   "metadata": {
    "slideshow": {
     "slide_type": "slide"
    },
    "tags": []
   },
   "source": [
    "# Deployment\n",
    "- The term _deployment_ can have various meaning, e.g.,\n",
    "    - The phase of a data science project where one scales up to full production, possibly with a release to the public.\n",
    "    - The action of moving a pipeline from development to usage, maybe including going from personal computers to external (paid) servers.\n",
    "    - Or, in our case, wrapping all the API calls, database tables, functions and logic in a way that makes it accessible to users in an intuitive way.\n",
    "        - Dashboard\n",
    "        - Report\n",
    "        - Web app\n",
    "- Together with the software, there may be documentation, training, policies, restrictions, etc."
   ]
  },
  {
   "cell_type": "markdown",
   "metadata": {
    "slideshow": {
     "slide_type": "slide"
    },
    "tags": []
   },
   "source": [
    "## DDDM revisited\n",
    "- We started with the following points:\n",
    "    1. Know your objectives\n",
    "    2. Find relevant data\n",
    "    3. Pre-process data\n",
    "    4. Analyse data\n",
    "    5. Make decisions\n",
    "- We have focused on points 2.,3. and 4. so far.\n",
    "- To enable decision making, we will deploy what we have learned in dashboards and reports."
   ]
  }
 ],
 "metadata": {
  "kernelspec": {
   "display_name": "Python 3 (ipykernel)",
   "language": "python",
   "name": "python3"
  },
  "language_info": {
   "codemirror_mode": {
    "name": "ipython",
    "version": 3
   },
   "file_extension": ".py",
   "mimetype": "text/x-python",
   "name": "python",
   "nbconvert_exporter": "python",
   "pygments_lexer": "ipython3",
   "version": "3.11.6"
  }
 },
 "nbformat": 4,
 "nbformat_minor": 4
}