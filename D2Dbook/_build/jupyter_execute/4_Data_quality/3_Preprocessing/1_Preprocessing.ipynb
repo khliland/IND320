{
 "cells": [
  {
   "cell_type": "markdown",
   "metadata": {
    "slideshow": {
     "slide_type": "slide"
    }
   },
   "source": [
    "# Pre-processing\n",
    "- Proper pre-processing is a prerequisite for stability, reproducability, performance and interpretability.\n",
    "    - Stability: Reducing the impact of noise and outliers and transforming to a common distribution.\n",
    "    - Reproducability: Common practices for pre-processing to ensure the results are valid across users, institutions etc.\n",
    "    - Performance: Simplifying the job of the machine learning by not having to learn trivial generalisations (e.g., means, scales, etc.).\n",
    "    - Interpretability: Being able to compare and recognise across datasets, methods and projects. Trusting the observed plots, statistics, etc."
   ]
  },
  {
   "cell_type": "markdown",
   "metadata": {
    "slideshow": {
     "slide_type": "slide"
    }
   },
   "source": [
    "## Previously introduced pre-processing\n",
    "- Simple statistics: mean, trimmed mean, median, standard deviation, Median Absolute Deviation, covariance, and Minimum Covariance Determiniant.\n",
    "- Series smoothing by various moving window techniques (mean, median, Gaussian, Savitzky-Golay), and second derivative constraints (Whittaker).\n",
    "- Decomposition: Fast Fourier Transform, Direct Cosine Transform, Seasonal Trend decomposition by LOESS smoothing, detrending by subtracting a smoothed signal."
   ]
  },
  {
   "cell_type": "markdown",
   "metadata": {
    "slideshow": {
     "slide_type": "slide"
    }
   },
   "source": [
    "## Further pre-processing\n",
    "- Imputation: Exchanging missing (or outlying) data with an estimate/guestimate based on training data or neighbours.\n",
    "- Time formatting: Representing measurements in a common time format and time zone.\n",
    "- Synchronisation: Making the measurements in two or more time series correspond (time points and resolution), e.g., by removal of non-overlapping regions, time accumulation or interpolation.\n",
    "- Encoding: Transform time series into variograms."
   ]
  }
 ],
 "metadata": {
  "celltoolbar": "Slideshow",
  "kernelspec": {
   "display_name": "Python 3 (ipykernel)",
   "language": "python",
   "name": "python3"
  },
  "language_info": {
   "codemirror_mode": {
    "name": "ipython",
    "version": 3
   },
   "file_extension": ".py",
   "mimetype": "text/x-python",
   "name": "python",
   "nbconvert_exporter": "python",
   "pygments_lexer": "ipython3",
   "version": "3.10.6"
  }
 },
 "nbformat": 4,
 "nbformat_minor": 2
}