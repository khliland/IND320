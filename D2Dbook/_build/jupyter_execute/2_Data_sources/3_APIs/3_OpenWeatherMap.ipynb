{
 "cells": [
  {
   "cell_type": "markdown",
   "metadata": {
    "slideshow": {
     "slide_type": "slide"
    }
   },
   "source": [
    "# Demonstration of API using OpenWeatherMap.org\n",
    "This demonstration is heavily inspired by [NeuralNine's video](https://www.youtube.com/watch?v=9P5MY_2i7K8).  \n",
    "You need a free account [from here](https://openweathermap.org/api).  \n",
    "The VS Code extension _JSON viewer_ is recommended for viewing downloaded JSON content.  \n",
    "  - Set your maximum API calls to 1000 per day to make sure you are under the limit for billing. \n",
    "  - To run the examples, download your API key, save it in the right folder (see below) in a file called _api\\_key\\_OpenWeather_, containing only the key (no spaces or \"enters\")."
   ]
  },
  {
   "cell_type": "code",
   "execution_count": 1,
   "metadata": {
    "slideshow": {
     "slide_type": "fragment"
    }
   },
   "outputs": [],
   "source": [
    "# Imports\n",
    "import datetime as dt\n",
    "import requests\n",
    "import json"
   ]
  },
  {
   "cell_type": "markdown",
   "metadata": {
    "slideshow": {
     "slide_type": "slide"
    }
   },
   "source": [
    "## Current weather\n",
    "### Common definitions to use for all requests"
   ]
  },
  {
   "cell_type": "code",
   "execution_count": 2,
   "metadata": {
    "slideshow": {
     "slide_type": "-"
    }
   },
   "outputs": [],
   "source": [
    "BASE_URL = \"http://api.openweathermap.org/data/2.5/weather?\"\n",
    "API_KEY = open('../../../No_sync/api_key_OpenWeather','r').read()\n",
    "CITY = \"Ski\"\n",
    "\n",
    "url = BASE_URL + \"q=\" + CITY + \"&appid=\" + API_KEY"
   ]
  },
  {
   "cell_type": "markdown",
   "metadata": {
    "slideshow": {
     "slide_type": "slide"
    }
   },
   "source": [
    "## Request current weather in chosen city"
   ]
  },
  {
   "cell_type": "code",
   "execution_count": 3,
   "metadata": {
    "slideshow": {
     "slide_type": "fragment"
    }
   },
   "outputs": [
    {
     "name": "stdout",
     "output_type": "stream",
     "text": [
      "{'coord': {'lon': 10.8358, 'lat': 59.7195}, 'weather': [{'id': 802, 'main': 'Clouds', 'description': 'scattered clouds', 'icon': '03d'}], 'base': 'stations', 'main': {'temp': 268.53, 'feels_like': 265.7, 'temp_min': 268.53, 'temp_max': 268.53, 'pressure': 1016, 'humidity': 91, 'sea_level': 1016, 'grnd_level': 998}, 'visibility': 10000, 'wind': {'speed': 1.75, 'deg': 2, 'gust': 4.36}, 'clouds': {'all': 43}, 'dt': 1702468675, 'sys': {'type': 1, 'id': 1662, 'country': 'NO', 'sunrise': 1702454908, 'sunset': 1702476780}, 'timezone': 3600, 'id': 3139081, 'name': 'Ski', 'cod': 200}\n"
     ]
    }
   ],
   "source": [
    "response = requests.get(url).json()\n",
    "print(response)"
   ]
  },
  {
   "cell_type": "code",
   "execution_count": 4,
   "metadata": {
    "slideshow": {
     "slide_type": "fragment"
    }
   },
   "outputs": [],
   "source": [
    "# Write JSON to file for viewing\n",
    "with open('downloads/weather.json', 'w') as f:\n",
    "    json.dump(response, f, indent=4)"
   ]
  },
  {
   "cell_type": "markdown",
   "metadata": {
    "slideshow": {
     "slide_type": "slide"
    }
   },
   "source": [
    "## Conversion functions\n",
    "Changing scales can make results more interpretable"
   ]
  },
  {
   "cell_type": "code",
   "execution_count": 5,
   "metadata": {
    "slideshow": {
     "slide_type": "-"
    }
   },
   "outputs": [],
   "source": [
    "# Kelvin to Celsius\n",
    "def kelvin_to_celsius(temp):\n",
    "    return temp - 273.15\n",
    "\n",
    "# Meters per second to knots\n",
    "def mps_to_knots(speed):\n",
    "    return speed * 1.943844"
   ]
  },
  {
   "cell_type": "markdown",
   "metadata": {
    "slideshow": {
     "slide_type": "slide"
    }
   },
   "source": [
    "## Print some weather properties"
   ]
  },
  {
   "cell_type": "code",
   "execution_count": 6,
   "metadata": {
    "slideshow": {
     "slide_type": "-"
    }
   },
   "outputs": [
    {
     "name": "stdout",
     "output_type": "stream",
     "text": [
      "The current temperature in Ski is -4.6°C\n"
     ]
    }
   ],
   "source": [
    "# Current temperature\n",
    "temp_kelvin = response['main']['temp']\n",
    "temp_celsius = kelvin_to_celsius(temp_kelvin)\n",
    "print(f\"The current temperature in {CITY} is {temp_celsius:.1f}°C\")"
   ]
  },
  {
   "cell_type": "code",
   "execution_count": 7,
   "metadata": {
    "slideshow": {
     "slide_type": "slide"
    }
   },
   "outputs": [
    {
     "name": "stdout",
     "output_type": "stream",
     "text": [
      "Sunrise today is at 09:08 and sunset is at 15:13\n"
     ]
    }
   ],
   "source": [
    "# Sunrise and sunset today in local time\n",
    "sunrise = dt.datetime.fromtimestamp(response['sys']['sunrise'])\n",
    "sunset = dt.datetime.fromtimestamp(response['sys']['sunset'])\n",
    "print(f\"Sunrise today is at {sunrise:%H:%M} and sunset is at {sunset:%H:%M}\")"
   ]
  },
  {
   "cell_type": "code",
   "execution_count": 8,
   "metadata": {
    "slideshow": {
     "slide_type": "fragment"
    }
   },
   "outputs": [
    {
     "name": "stdout",
     "output_type": "stream",
     "text": [
      "Wind today is from 2° at 3.4 knots\n"
     ]
    }
   ],
   "source": [
    "# Wind direction and speed\n",
    "wind_knots = mps_to_knots(response['wind']['speed'])\n",
    "print(f\"Wind today is from {response['wind']['deg']}° at {round(wind_knots,1)} knots\")"
   ]
  },
  {
   "cell_type": "markdown",
   "metadata": {
    "slideshow": {
     "slide_type": "slide"
    }
   },
   "source": [
    "## Forecasted weather\n",
    "### Common definitions to use for all requests"
   ]
  },
  {
   "cell_type": "code",
   "execution_count": 9,
   "metadata": {
    "slideshow": {
     "slide_type": "-"
    }
   },
   "outputs": [],
   "source": [
    "BASE_URL = \"http://api.openweathermap.org/data/2.5/forecast?\"\n",
    "CITY = \"Noresund\"\n",
    "\n",
    "urlF = BASE_URL + \"q=\" + CITY + \"&appid=\" + API_KEY"
   ]
  },
  {
   "cell_type": "markdown",
   "metadata": {
    "slideshow": {
     "slide_type": "slide"
    }
   },
   "source": [
    "## Request forecasted weather in chosen city"
   ]
  },
  {
   "cell_type": "code",
   "execution_count": 10,
   "metadata": {
    "slideshow": {
     "slide_type": "-"
    }
   },
   "outputs": [
    {
     "name": "stdout",
     "output_type": "stream",
     "text": [
      "{'cod': '200', 'message': 0, 'cnt': 40, 'list': [{'dt': 1702468800, 'main': {'temp': 262.96, 'feels_like': 262.96, 'temp_min': 262.96, 'temp_max': 262.96, 'pressure': 1017, 'sea_level': 1017, 'grnd_level': 997, 'humidity': 94, 'temp_kf': 0}, 'weather': [{'id': 802, 'main': 'Clouds', 'description': 'scattered clouds', 'icon': '03d'}], 'clouds': {'all': 40}, 'wind': {'speed': 1.33, 'deg': 322, 'gust': 1.54}, 'visibility': 10000, 'pop': 0, 'sys': {'pod': 'd'}, 'dt_txt': '2023-12-13 12:00:00'}, {'dt': 1702479600, 'main': {'temp': 261.65, 'feels_like': 257.39, 'temp_min': 259.03, 'temp_max': 261.65, 'pressure': 1017, 'sea_level': 1017, 'grnd_level': 998, 'humidity': 95, 'temp_kf': 2.62}, 'weather': [{'id': 802, 'main': 'Clouds', 'description': 'scattered clouds', 'icon': '03n'}], 'clouds': {'all': 34}, 'wind': {'speed': 1.95, 'deg': 312, 'gust': 1.49}, 'visibility': 10000, 'pop': 0, 'sys': {'pod': 'n'}, 'dt_txt': '2023-12-13 15:00:00'}, {'dt': 1702490400, 'main': {'temp': 259.81, 'feels_like': 255.46, 'temp_min': 258.23, 'temp_max': 259.81, 'pressure': 1018, 'sea_level': 1018, 'grnd_level': 999, 'humidity': 95, 'temp_kf': 1.58}, 'weather': [{'id': 801, 'main': 'Clouds', 'description': 'few clouds', 'icon': '02n'}], 'clouds': {'all': 24}, 'wind': {'speed': 1.84, 'deg': 311, 'gust': 1.41}, 'visibility': 10000, 'pop': 0, 'sys': {'pod': 'n'}, 'dt_txt': '2023-12-13 18:00:00'}, {'dt': 1702501200, 'main': {'temp': 257.89, 'feels_like': 253.17, 'temp_min': 257.89, 'temp_max': 257.89, 'pressure': 1020, 'sea_level': 1020, 'grnd_level': 999, 'humidity': 95, 'temp_kf': 0}, 'weather': [{'id': 800, 'main': 'Clear', 'description': 'clear sky', 'icon': '01n'}], 'clouds': {'all': 9}, 'wind': {'speed': 1.87, 'deg': 309, 'gust': 1.4}, 'visibility': 10000, 'pop': 0, 'sys': {'pod': 'n'}, 'dt_txt': '2023-12-13 21:00:00'}, {'dt': 1702512000, 'main': {'temp': 257.42, 'feels_like': 252.99, 'temp_min': 257.42, 'temp_max': 257.42, 'pressure': 1020, 'sea_level': 1020, 'grnd_level': 1000, 'humidity': 96, 'temp_kf': 0}, 'weather': [{'id': 800, 'main': 'Clear', 'description': 'clear sky', 'icon': '01n'}], 'clouds': {'all': 9}, 'wind': {'speed': 1.7, 'deg': 309, 'gust': 1.36}, 'visibility': 10000, 'pop': 0, 'sys': {'pod': 'n'}, 'dt_txt': '2023-12-14 00:00:00'}, {'dt': 1702522800, 'main': {'temp': 256.79, 'feels_like': 252.29, 'temp_min': 256.79, 'temp_max': 256.79, 'pressure': 1020, 'sea_level': 1020, 'grnd_level': 1000, 'humidity': 97, 'temp_kf': 0}, 'weather': [{'id': 801, 'main': 'Clouds', 'description': 'few clouds', 'icon': '02n'}], 'clouds': {'all': 14}, 'wind': {'speed': 1.69, 'deg': 308, 'gust': 1.29}, 'visibility': 10000, 'pop': 0, 'sys': {'pod': 'n'}, 'dt_txt': '2023-12-14 03:00:00'}, {'dt': 1702533600, 'main': {'temp': 256.63, 'feels_like': 252.66, 'temp_min': 256.63, 'temp_max': 256.63, 'pressure': 1019, 'sea_level': 1019, 'grnd_level': 999, 'humidity': 97, 'temp_kf': 0}, 'weather': [{'id': 802, 'main': 'Clouds', 'description': 'scattered clouds', 'icon': '03n'}], 'clouds': {'all': 38}, 'wind': {'speed': 1.46, 'deg': 305, 'gust': 1.14}, 'visibility': 10000, 'pop': 0, 'sys': {'pod': 'n'}, 'dt_txt': '2023-12-14 06:00:00'}, {'dt': 1702544400, 'main': {'temp': 256.98, 'feels_like': 256.98, 'temp_min': 256.98, 'temp_max': 256.98, 'pressure': 1020, 'sea_level': 1020, 'grnd_level': 999, 'humidity': 97, 'temp_kf': 0}, 'weather': [{'id': 803, 'main': 'Clouds', 'description': 'broken clouds', 'icon': '04d'}], 'clouds': {'all': 75}, 'wind': {'speed': 1.09, 'deg': 301, 'gust': 0.91}, 'visibility': 10000, 'pop': 0, 'sys': {'pod': 'd'}, 'dt_txt': '2023-12-14 09:00:00'}, {'dt': 1702555200, 'main': {'temp': 260.5, 'feels_like': 260.5, 'temp_min': 260.5, 'temp_max': 260.5, 'pressure': 1018, 'sea_level': 1018, 'grnd_level': 998, 'humidity': 96, 'temp_kf': 0}, 'weather': [{'id': 804, 'main': 'Clouds', 'description': 'overcast clouds', 'icon': '04d'}], 'clouds': {'all': 87}, 'wind': {'speed': 0.26, 'deg': 256, 'gust': 0.42}, 'visibility': 10000, 'pop': 0, 'sys': {'pod': 'd'}, 'dt_txt': '2023-12-14 12:00:00'}, {'dt': 1702566000, 'main': {'temp': 262.03, 'feels_like': 262.03, 'temp_min': 262.03, 'temp_max': 262.03, 'pressure': 1018, 'sea_level': 1018, 'grnd_level': 998, 'humidity': 95, 'temp_kf': 0}, 'weather': [{'id': 804, 'main': 'Clouds', 'description': 'overcast clouds', 'icon': '04n'}], 'clouds': {'all': 100}, 'wind': {'speed': 0.28, 'deg': 195, 'gust': 0.45}, 'visibility': 10000, 'pop': 0, 'sys': {'pod': 'n'}, 'dt_txt': '2023-12-14 15:00:00'}, {'dt': 1702576800, 'main': {'temp': 260.04, 'feels_like': 260.04, 'temp_min': 260.04, 'temp_max': 260.04, 'pressure': 1019, 'sea_level': 1019, 'grnd_level': 999, 'humidity': 97, 'temp_kf': 0}, 'weather': [{'id': 804, 'main': 'Clouds', 'description': 'overcast clouds', 'icon': '04n'}], 'clouds': {'all': 90}, 'wind': {'speed': 0.91, 'deg': 287, 'gust': 0.75}, 'visibility': 10000, 'pop': 0, 'sys': {'pod': 'n'}, 'dt_txt': '2023-12-14 18:00:00'}, {'dt': 1702587600, 'main': {'temp': 259.91, 'feels_like': 255.94, 'temp_min': 259.91, 'temp_max': 259.91, 'pressure': 1019, 'sea_level': 1019, 'grnd_level': 999, 'humidity': 95, 'temp_kf': 0}, 'weather': [{'id': 802, 'main': 'Clouds', 'description': 'scattered clouds', 'icon': '03n'}], 'clouds': {'all': 39}, 'wind': {'speed': 1.66, 'deg': 308, 'gust': 1.35}, 'visibility': 10000, 'pop': 0, 'sys': {'pod': 'n'}, 'dt_txt': '2023-12-14 21:00:00'}, {'dt': 1702598400, 'main': {'temp': 261.85, 'feels_like': 258.76, 'temp_min': 261.85, 'temp_max': 261.85, 'pressure': 1019, 'sea_level': 1019, 'grnd_level': 999, 'humidity': 94, 'temp_kf': 0}, 'weather': [{'id': 803, 'main': 'Clouds', 'description': 'broken clouds', 'icon': '04n'}], 'clouds': {'all': 53}, 'wind': {'speed': 1.39, 'deg': 299, 'gust': 1.14}, 'visibility': 10000, 'pop': 0, 'sys': {'pod': 'n'}, 'dt_txt': '2023-12-15 00:00:00'}, {'dt': 1702609200, 'main': {'temp': 263.16, 'feels_like': 260.11, 'temp_min': 263.16, 'temp_max': 263.16, 'pressure': 1019, 'sea_level': 1019, 'grnd_level': 999, 'humidity': 95, 'temp_kf': 0}, 'weather': [{'id': 804, 'main': 'Clouds', 'description': 'overcast clouds', 'icon': '04n'}], 'clouds': {'all': 100}, 'wind': {'speed': 1.45, 'deg': 295, 'gust': 1.14}, 'visibility': 10000, 'pop': 0, 'sys': {'pod': 'n'}, 'dt_txt': '2023-12-15 03:00:00'}, {'dt': 1702620000, 'main': {'temp': 264.2, 'feels_like': 261.01, 'temp_min': 264.2, 'temp_max': 264.2, 'pressure': 1019, 'sea_level': 1019, 'grnd_level': 999, 'humidity': 94, 'temp_kf': 0}, 'weather': [{'id': 804, 'main': 'Clouds', 'description': 'overcast clouds', 'icon': '04n'}], 'clouds': {'all': 100}, 'wind': {'speed': 1.59, 'deg': 289, 'gust': 1.2}, 'visibility': 10000, 'pop': 0, 'sys': {'pod': 'n'}, 'dt_txt': '2023-12-15 06:00:00'}, {'dt': 1702630800, 'main': {'temp': 265.02, 'feels_like': 262.04, 'temp_min': 265.02, 'temp_max': 265.02, 'pressure': 1020, 'sea_level': 1020, 'grnd_level': 1000, 'humidity': 95, 'temp_kf': 0}, 'weather': [{'id': 804, 'main': 'Clouds', 'description': 'overcast clouds', 'icon': '04d'}], 'clouds': {'all': 99}, 'wind': {'speed': 1.54, 'deg': 294, 'gust': 1.22}, 'visibility': 10000, 'pop': 0, 'sys': {'pod': 'd'}, 'dt_txt': '2023-12-15 09:00:00'}, {'dt': 1702641600, 'main': {'temp': 269.48, 'feels_like': 269.48, 'temp_min': 269.48, 'temp_max': 269.48, 'pressure': 1019, 'sea_level': 1019, 'grnd_level': 1000, 'humidity': 94, 'temp_kf': 0}, 'weather': [{'id': 804, 'main': 'Clouds', 'description': 'overcast clouds', 'icon': '04d'}], 'clouds': {'all': 99}, 'wind': {'speed': 1.17, 'deg': 289, 'gust': 1.02}, 'visibility': 10000, 'pop': 0, 'sys': {'pod': 'd'}, 'dt_txt': '2023-12-15 12:00:00'}, {'dt': 1702652400, 'main': {'temp': 269.78, 'feels_like': 267.45, 'temp_min': 269.78, 'temp_max': 269.78, 'pressure': 1019, 'sea_level': 1019, 'grnd_level': 1000, 'humidity': 94, 'temp_kf': 0}, 'weather': [{'id': 804, 'main': 'Clouds', 'description': 'overcast clouds', 'icon': '04n'}], 'clouds': {'all': 100}, 'wind': {'speed': 1.56, 'deg': 294, 'gust': 1.28}, 'visibility': 10000, 'pop': 0, 'sys': {'pod': 'n'}, 'dt_txt': '2023-12-15 15:00:00'}, {'dt': 1702663200, 'main': {'temp': 270.3, 'feels_like': 267.21, 'temp_min': 270.3, 'temp_max': 270.3, 'pressure': 1020, 'sea_level': 1020, 'grnd_level': 1001, 'humidity': 93, 'temp_kf': 0}, 'weather': [{'id': 804, 'main': 'Clouds', 'description': 'overcast clouds', 'icon': '04n'}], 'clouds': {'all': 99}, 'wind': {'speed': 2.12, 'deg': 290, 'gust': 2.06}, 'visibility': 10000, 'pop': 0, 'sys': {'pod': 'n'}, 'dt_txt': '2023-12-15 18:00:00'}, {'dt': 1702674000, 'main': {'temp': 269.96, 'feels_like': 267.86, 'temp_min': 269.96, 'temp_max': 269.96, 'pressure': 1021, 'sea_level': 1021, 'grnd_level': 1001, 'humidity': 93, 'temp_kf': 0}, 'weather': [{'id': 803, 'main': 'Clouds', 'description': 'broken clouds', 'icon': '04n'}], 'clouds': {'all': 81}, 'wind': {'speed': 1.44, 'deg': 277, 'gust': 1.18}, 'visibility': 10000, 'pop': 0, 'sys': {'pod': 'n'}, 'dt_txt': '2023-12-15 21:00:00'}, {'dt': 1702684800, 'main': {'temp': 270.07, 'feels_like': 267.46, 'temp_min': 270.07, 'temp_max': 270.07, 'pressure': 1022, 'sea_level': 1022, 'grnd_level': 1003, 'humidity': 94, 'temp_kf': 0}, 'weather': [{'id': 804, 'main': 'Clouds', 'description': 'overcast clouds', 'icon': '04n'}], 'clouds': {'all': 91}, 'wind': {'speed': 1.76, 'deg': 275, 'gust': 1.33}, 'visibility': 10000, 'pop': 0, 'sys': {'pod': 'n'}, 'dt_txt': '2023-12-16 00:00:00'}, {'dt': 1702695600, 'main': {'temp': 270.91, 'feels_like': 268.69, 'temp_min': 270.91, 'temp_max': 270.91, 'pressure': 1019, 'sea_level': 1019, 'grnd_level': 1000, 'humidity': 94, 'temp_kf': 0}, 'weather': [{'id': 804, 'main': 'Clouds', 'description': 'overcast clouds', 'icon': '04n'}], 'clouds': {'all': 100}, 'wind': {'speed': 1.59, 'deg': 263, 'gust': 1.25}, 'visibility': 10000, 'pop': 0, 'sys': {'pod': 'n'}, 'dt_txt': '2023-12-16 03:00:00'}, {'dt': 1702706400, 'main': {'temp': 274.15, 'feels_like': 272.55, 'temp_min': 274.15, 'temp_max': 274.15, 'pressure': 1016, 'sea_level': 1016, 'grnd_level': 997, 'humidity': 93, 'temp_kf': 0}, 'weather': [{'id': 804, 'main': 'Clouds', 'description': 'overcast clouds', 'icon': '04n'}], 'clouds': {'all': 100}, 'wind': {'speed': 1.49, 'deg': 229, 'gust': 1.67}, 'visibility': 10000, 'pop': 0, 'sys': {'pod': 'n'}, 'dt_txt': '2023-12-16 06:00:00'}, {'dt': 1702717200, 'main': {'temp': 275.66, 'feels_like': 273.45, 'temp_min': 275.66, 'temp_max': 275.66, 'pressure': 1013, 'sea_level': 1013, 'grnd_level': 994, 'humidity': 97, 'temp_kf': 0}, 'weather': [{'id': 804, 'main': 'Clouds', 'description': 'overcast clouds', 'icon': '04d'}], 'clouds': {'all': 100}, 'wind': {'speed': 2.15, 'deg': 195, 'gust': 4.21}, 'visibility': 10000, 'pop': 0, 'sys': {'pod': 'd'}, 'dt_txt': '2023-12-16 09:00:00'}, {'dt': 1702728000, 'main': {'temp': 277.04, 'feels_like': 274.68, 'temp_min': 277.04, 'temp_max': 277.04, 'pressure': 1008, 'sea_level': 1008, 'grnd_level': 990, 'humidity': 98, 'temp_kf': 0}, 'weather': [{'id': 804, 'main': 'Clouds', 'description': 'overcast clouds', 'icon': '04d'}], 'clouds': {'all': 100}, 'wind': {'speed': 2.56, 'deg': 214, 'gust': 7.76}, 'visibility': 637, 'pop': 0, 'sys': {'pod': 'd'}, 'dt_txt': '2023-12-16 12:00:00'}, {'dt': 1702738800, 'main': {'temp': 281.51, 'feels_like': 277.74, 'temp_min': 281.51, 'temp_max': 281.51, 'pressure': 1003, 'sea_level': 1003, 'grnd_level': 985, 'humidity': 79, 'temp_kf': 0}, 'weather': [{'id': 804, 'main': 'Clouds', 'description': 'overcast clouds', 'icon': '04n'}], 'clouds': {'all': 100}, 'wind': {'speed': 7.81, 'deg': 257, 'gust': 21.43}, 'visibility': 10000, 'pop': 0.18, 'sys': {'pod': 'n'}, 'dt_txt': '2023-12-16 15:00:00'}, {'dt': 1702749600, 'main': {'temp': 281.4, 'feels_like': 277.41, 'temp_min': 281.4, 'temp_max': 281.4, 'pressure': 1005, 'sea_level': 1005, 'grnd_level': 986, 'humidity': 69, 'temp_kf': 0}, 'weather': [{'id': 803, 'main': 'Clouds', 'description': 'broken clouds', 'icon': '04n'}], 'clouds': {'all': 78}, 'wind': {'speed': 8.51, 'deg': 285, 'gust': 21.74}, 'visibility': 10000, 'pop': 0.14, 'sys': {'pod': 'n'}, 'dt_txt': '2023-12-16 18:00:00'}, {'dt': 1702760400, 'main': {'temp': 276.43, 'feels_like': 272.83, 'temp_min': 276.43, 'temp_max': 276.43, 'pressure': 1008, 'sea_level': 1008, 'grnd_level': 990, 'humidity': 68, 'temp_kf': 0}, 'weather': [{'id': 803, 'main': 'Clouds', 'description': 'broken clouds', 'icon': '04n'}], 'clouds': {'all': 65}, 'wind': {'speed': 4.1, 'deg': 291, 'gust': 8.82}, 'visibility': 10000, 'pop': 0, 'sys': {'pod': 'n'}, 'dt_txt': '2023-12-16 21:00:00'}, {'dt': 1702771200, 'main': {'temp': 270.87, 'feels_like': 267.49, 'temp_min': 270.87, 'temp_max': 270.87, 'pressure': 1013, 'sea_level': 1013, 'grnd_level': 994, 'humidity': 84, 'temp_kf': 0}, 'weather': [{'id': 803, 'main': 'Clouds', 'description': 'broken clouds', 'icon': '04n'}], 'clouds': {'all': 81}, 'wind': {'speed': 2.44, 'deg': 301, 'gust': 3.03}, 'visibility': 10000, 'pop': 0, 'sys': {'pod': 'n'}, 'dt_txt': '2023-12-17 00:00:00'}, {'dt': 1702782000, 'main': {'temp': 269.67, 'feels_like': 266.63, 'temp_min': 269.67, 'temp_max': 269.67, 'pressure': 1014, 'sea_level': 1014, 'grnd_level': 995, 'humidity': 88, 'temp_kf': 0}, 'weather': [{'id': 804, 'main': 'Clouds', 'description': 'overcast clouds', 'icon': '04n'}], 'clouds': {'all': 100}, 'wind': {'speed': 2.01, 'deg': 286, 'gust': 1.99}, 'visibility': 10000, 'pop': 0, 'sys': {'pod': 'n'}, 'dt_txt': '2023-12-17 03:00:00'}, {'dt': 1702792800, 'main': {'temp': 269.22, 'feels_like': 266.57, 'temp_min': 269.22, 'temp_max': 269.22, 'pressure': 1014, 'sea_level': 1014, 'grnd_level': 995, 'humidity': 91, 'temp_kf': 0}, 'weather': [{'id': 804, 'main': 'Clouds', 'description': 'overcast clouds', 'icon': '04n'}], 'clouds': {'all': 100}, 'wind': {'speed': 1.7, 'deg': 293, 'gust': 1.33}, 'visibility': 10000, 'pop': 0, 'sys': {'pod': 'n'}, 'dt_txt': '2023-12-17 06:00:00'}, {'dt': 1702803600, 'main': {'temp': 271.48, 'feels_like': 271.48, 'temp_min': 271.48, 'temp_max': 271.48, 'pressure': 1012, 'sea_level': 1012, 'grnd_level': 993, 'humidity': 91, 'temp_kf': 0}, 'weather': [{'id': 804, 'main': 'Clouds', 'description': 'overcast clouds', 'icon': '04d'}], 'clouds': {'all': 100}, 'wind': {'speed': 1.13, 'deg': 320, 'gust': 1.06}, 'visibility': 10000, 'pop': 0, 'sys': {'pod': 'd'}, 'dt_txt': '2023-12-17 09:00:00'}, {'dt': 1702814400, 'main': {'temp': 273.5, 'feels_like': 273.5, 'temp_min': 273.5, 'temp_max': 273.5, 'pressure': 1009, 'sea_level': 1009, 'grnd_level': 991, 'humidity': 92, 'temp_kf': 0}, 'weather': [{'id': 804, 'main': 'Clouds', 'description': 'overcast clouds', 'icon': '04d'}], 'clouds': {'all': 100}, 'wind': {'speed': 0.6, 'deg': 230, 'gust': 0.6}, 'visibility': 10000, 'pop': 0, 'sys': {'pod': 'd'}, 'dt_txt': '2023-12-17 12:00:00'}, {'dt': 1702825200, 'main': {'temp': 270.71, 'feels_like': 270.71, 'temp_min': 270.71, 'temp_max': 270.71, 'pressure': 1008, 'sea_level': 1008, 'grnd_level': 989, 'humidity': 96, 'temp_kf': 0}, 'weather': [{'id': 803, 'main': 'Clouds', 'description': 'broken clouds', 'icon': '04n'}], 'clouds': {'all': 76}, 'wind': {'speed': 1.29, 'deg': 307, 'gust': 1.2}, 'visibility': 10000, 'pop': 0, 'sys': {'pod': 'n'}, 'dt_txt': '2023-12-17 15:00:00'}, {'dt': 1702836000, 'main': {'temp': 271.63, 'feels_like': 271.63, 'temp_min': 271.63, 'temp_max': 271.63, 'pressure': 1007, 'sea_level': 1007, 'grnd_level': 988, 'humidity': 96, 'temp_kf': 0}, 'weather': [{'id': 804, 'main': 'Clouds', 'description': 'overcast clouds', 'icon': '04n'}], 'clouds': {'all': 88}, 'wind': {'speed': 1.15, 'deg': 273, 'gust': 0.99}, 'visibility': 10000, 'pop': 0, 'sys': {'pod': 'n'}, 'dt_txt': '2023-12-17 18:00:00'}, {'dt': 1702846800, 'main': {'temp': 272.16, 'feels_like': 272.16, 'temp_min': 272.16, 'temp_max': 272.16, 'pressure': 1008, 'sea_level': 1008, 'grnd_level': 989, 'humidity': 95, 'temp_kf': 0}, 'weather': [{'id': 804, 'main': 'Clouds', 'description': 'overcast clouds', 'icon': '04n'}], 'clouds': {'all': 96}, 'wind': {'speed': 1.09, 'deg': 292, 'gust': 0.97}, 'visibility': 10000, 'pop': 0, 'sys': {'pod': 'n'}, 'dt_txt': '2023-12-17 21:00:00'}, {'dt': 1702857600, 'main': {'temp': 272.21, 'feels_like': 269.94, 'temp_min': 272.21, 'temp_max': 272.21, 'pressure': 1009, 'sea_level': 1009, 'grnd_level': 990, 'humidity': 94, 'temp_kf': 0}, 'weather': [{'id': 803, 'main': 'Clouds', 'description': 'broken clouds', 'icon': '04n'}], 'clouds': {'all': 58}, 'wind': {'speed': 1.75, 'deg': 279, 'gust': 1.34}, 'visibility': 10000, 'pop': 0, 'sys': {'pod': 'n'}, 'dt_txt': '2023-12-18 00:00:00'}, {'dt': 1702868400, 'main': {'temp': 274.28, 'feels_like': 274.28, 'temp_min': 274.28, 'temp_max': 274.28, 'pressure': 1010, 'sea_level': 1010, 'grnd_level': 992, 'humidity': 97, 'temp_kf': 0}, 'weather': [{'id': 803, 'main': 'Clouds', 'description': 'broken clouds', 'icon': '04n'}], 'clouds': {'all': 52}, 'wind': {'speed': 1.13, 'deg': 270, 'gust': 1.07}, 'visibility': 10000, 'pop': 0, 'sys': {'pod': 'n'}, 'dt_txt': '2023-12-18 03:00:00'}, {'dt': 1702879200, 'main': {'temp': 273.85, 'feels_like': 272.13, 'temp_min': 273.85, 'temp_max': 273.85, 'pressure': 1012, 'sea_level': 1012, 'grnd_level': 993, 'humidity': 94, 'temp_kf': 0}, 'weather': [{'id': 802, 'main': 'Clouds', 'description': 'scattered clouds', 'icon': '03n'}], 'clouds': {'all': 37}, 'wind': {'speed': 1.54, 'deg': 288, 'gust': 1.39}, 'visibility': 10000, 'pop': 0, 'sys': {'pod': 'n'}, 'dt_txt': '2023-12-18 06:00:00'}, {'dt': 1702890000, 'main': {'temp': 273.66, 'feels_like': 271.44, 'temp_min': 273.66, 'temp_max': 273.66, 'pressure': 1013, 'sea_level': 1013, 'grnd_level': 994, 'humidity': 93, 'temp_kf': 0}, 'weather': [{'id': 802, 'main': 'Clouds', 'description': 'scattered clouds', 'icon': '03d'}], 'clouds': {'all': 40}, 'wind': {'speed': 1.88, 'deg': 285, 'gust': 1.46}, 'visibility': 10000, 'pop': 0, 'sys': {'pod': 'd'}, 'dt_txt': '2023-12-18 09:00:00'}], 'city': {'id': 3144113, 'name': 'Noresund', 'coord': {'lat': 60.1803, 'lon': 9.6231}, 'country': 'NO', 'population': 1000, 'timezone': 3600, 'sunrise': 1702455457, 'sunset': 1702476813}}\n"
     ]
    }
   ],
   "source": [
    "responseF = requests.get(urlF).json()\n",
    "print(responseF)"
   ]
  },
  {
   "cell_type": "code",
   "execution_count": 11,
   "metadata": {
    "slideshow": {
     "slide_type": "slide"
    }
   },
   "outputs": [],
   "source": [
    "# Write JSON to file for viewing\n",
    "with open('downloads/forecast.json', 'w') as f:\n",
    "    json.dump(responseF, f, indent=4)"
   ]
  },
  {
   "cell_type": "markdown",
   "metadata": {
    "slideshow": {
     "slide_type": "slide"
    }
   },
   "source": [
    "### When and what?\n",
    "Check contents and time stamps"
   ]
  },
  {
   "cell_type": "code",
   "execution_count": 12,
   "metadata": {
    "slideshow": {
     "slide_type": "-"
    }
   },
   "outputs": [
    {
     "data": {
      "text/plain": [
       "dict_keys(['cod', 'message', 'cnt', 'list', 'city'])"
      ]
     },
     "execution_count": 12,
     "metadata": {},
     "output_type": "execute_result"
    }
   ],
   "source": [
    "# Content of responseF\n",
    "responseF.keys()"
   ]
  },
  {
   "cell_type": "code",
   "execution_count": 13,
   "metadata": {
    "slideshow": {
     "slide_type": "fragment"
    }
   },
   "outputs": [
    {
     "name": "stdout",
     "output_type": "stream",
     "text": [
      "40\n"
     ]
    }
   ],
   "source": [
    "# Number of forecasts\n",
    "print(len(responseF[\"list\"]))"
   ]
  },
  {
   "cell_type": "code",
   "execution_count": 14,
   "metadata": {
    "scrolled": true,
    "slideshow": {
     "slide_type": "slide"
    }
   },
   "outputs": [
    {
     "name": "stdout",
     "output_type": "stream",
     "text": [
      "2023-12-13 12:00:00\n",
      "2023-12-13 15:00:00\n",
      "2023-12-13 18:00:00\n",
      "2023-12-13 21:00:00\n",
      "2023-12-14 00:00:00\n",
      "2023-12-14 03:00:00\n",
      "2023-12-14 06:00:00\n",
      "2023-12-14 09:00:00\n",
      "2023-12-14 12:00:00\n",
      "2023-12-14 15:00:00\n",
      "2023-12-14 18:00:00\n",
      "2023-12-14 21:00:00\n",
      "2023-12-15 00:00:00\n",
      "2023-12-15 03:00:00\n",
      "2023-12-15 06:00:00\n",
      "2023-12-15 09:00:00\n",
      "2023-12-15 12:00:00\n",
      "2023-12-15 15:00:00\n",
      "2023-12-15 18:00:00\n",
      "2023-12-15 21:00:00\n",
      "2023-12-16 00:00:00\n",
      "2023-12-16 03:00:00\n",
      "2023-12-16 06:00:00\n",
      "2023-12-16 09:00:00\n",
      "2023-12-16 12:00:00\n",
      "2023-12-16 15:00:00\n",
      "2023-12-16 18:00:00\n",
      "2023-12-16 21:00:00\n",
      "2023-12-17 00:00:00\n",
      "2023-12-17 03:00:00\n",
      "2023-12-17 06:00:00\n",
      "2023-12-17 09:00:00\n",
      "2023-12-17 12:00:00\n",
      "2023-12-17 15:00:00\n",
      "2023-12-17 18:00:00\n",
      "2023-12-17 21:00:00\n",
      "2023-12-18 00:00:00\n",
      "2023-12-18 03:00:00\n",
      "2023-12-18 06:00:00\n",
      "2023-12-18 09:00:00\n"
     ]
    }
   ],
   "source": [
    "# Print forecast times\n",
    "for forecast in responseF[\"list\"]:\n",
    "    print(forecast[\"dt_txt\"])"
   ]
  },
  {
   "cell_type": "markdown",
   "metadata": {
    "slideshow": {
     "slide_type": "slide"
    }
   },
   "source": [
    "## Make plots of omnipresent measurements and events\n",
    "We will later look at missing data, data only sporadically appearing and so on."
   ]
  },
  {
   "cell_type": "code",
   "execution_count": 15,
   "metadata": {
    "slideshow": {
     "slide_type": "-"
    }
   },
   "outputs": [],
   "source": [
    "# Air pressure per period\n",
    "pressures = []\n",
    "timestamps = []\n",
    "for forecast in responseF[\"list\"]:\n",
    "    pressures.append(forecast[\"main\"][\"pressure\"])\n",
    "    timestamps.append(dt.datetime.fromtimestamp(forecast[\"dt\"]))"
   ]
  },
  {
   "cell_type": "code",
   "execution_count": 16,
   "metadata": {
    "slideshow": {
     "slide_type": "slide"
    }
   },
   "outputs": [
    {
     "data": {
      "image/png": "[encoded data removed]",
      "text/plain": [
       "<Figure size 640x480 with 1 Axes>"
      ]
     },
     "metadata": {},
     "output_type": "display_data"
    }
   ],
   "source": [
    "import matplotlib.pyplot as plt\n",
    "plt.bar(timestamps, pressures)\n",
    "plt.xticks(rotation=45)\n",
    "plt.ylim(950, 1050)\n",
    "plt.grid()\n",
    "plt.ylabel(\"Air pressure (hPa)\")\n",
    "plt.title(f\"Forecasted air pressure in {CITY}\")\n",
    "plt.show()"
   ]
  },
  {
   "cell_type": "markdown",
   "metadata": {
    "slideshow": {
     "slide_type": "slide"
    }
   },
   "source": [
    "## Exercise\n",
    "- Make a new forecast request for your own hometown. Call your response something else than responseF.\n",
    "- If available, plot the humidity like we did with air pressure."
   ]
  },
  {
   "cell_type": "markdown",
   "metadata": {
    "slideshow": {
     "slide_type": "slide"
    }
   },
   "source": [
    "### Precipitation\n",
    "- ... comes in two main flavours: rain and snow.\n",
    "- We need to check which is present and set to zero if it is abscent."
   ]
  },
  {
   "cell_type": "code",
   "execution_count": 17,
   "metadata": {
    "slideshow": {
     "slide_type": "-"
    }
   },
   "outputs": [],
   "source": [
    "rain = []\n",
    "snow = []\n",
    "for forecast in responseF[\"list\"]:\n",
    "    try: # Check if rain is present in forecast\n",
    "        rain.append(forecast[\"rain\"][\"3h\"])\n",
    "    except KeyError:\n",
    "        rain.append(0)\n",
    "    try: # Check if snow is present in forecast\n",
    "        snow.append(forecast[\"snow\"][\"3h\"])\n",
    "    except KeyError:\n",
    "        snow.append(0)"
   ]
  },
  {
   "cell_type": "code",
   "execution_count": 18,
   "metadata": {
    "slideshow": {
     "slide_type": "slide"
    }
   },
   "outputs": [
    {
     "data": {
      "image/png": "[encoded data removed]",
      "text/plain": [
       "<Figure size 640x480 with 1 Axes>"
      ]
     },
     "metadata": {},
     "output_type": "display_data"
    }
   ],
   "source": [
    "# Stacked bar chart with rain and snow\n",
    "plt.bar(timestamps, rain, label=\"Rain\")\n",
    "plt.bar(timestamps, snow, label=\"Snow\")\n",
    "plt.xticks(rotation=45)\n",
    "plt.grid()\n",
    "plt.ylabel(\"Precipitation (mm)\")\n",
    "plt.title(f\"Forecasted precipitation in {CITY}\")\n",
    "plt.legend()\n",
    "plt.show()\n"
   ]
  },
  {
   "cell_type": "markdown",
   "metadata": {
    "slideshow": {
     "slide_type": "slide"
    }
   },
   "source": [
    "```{seealso} Resources\n",
    ":class: tip\n",
    "- [YouTube: NeuralNine's video (15m:32s)](https://www.youtube.com/watch?v=9P5MY_2i7K8)\n",
    "```"
   ]
  }
 ],
 "metadata": {
  "celltoolbar": "Slideshow",
  "kernelspec": {
   "display_name": "Python 3 (ipykernel)",
   "language": "python",
   "name": "python3"
  },
  "language_info": {
   "codemirror_mode": {
    "name": "ipython",
    "version": 3
   },
   "file_extension": ".py",
   "mimetype": "text/x-python",
   "name": "python",
   "nbconvert_exporter": "python",
   "pygments_lexer": "ipython3",
   "version": "3.11.6"
  }
 },
 "nbformat": 4,
 "nbformat_minor": 2
}