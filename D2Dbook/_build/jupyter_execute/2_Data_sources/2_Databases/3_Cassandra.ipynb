{
 "cells": [
  {
   "cell_type": "markdown",
   "metadata": {
    "slideshow": {
     "slide_type": "slide"
    }
   },
   "source": [
    "# Cassandra\n",
    "- A production grade NoSQL database.\n",
    "- Can be distributed across servers, nodes, etc.\n",
    "- Replication of database is supported for high degree of redundancy and speed.\n",
    "- Uses CQL, a subset of SQL for querying.\n",
    "- Works seamlesly together with Spark and its corresponding distributed structure.\n",
    "- Installation of Cassandra is explained in the [Installation chapter](../../6_Appendix/Installation.ipynb)."
   ]
  },
  {
   "cell_type": "markdown",
   "metadata": {
    "slideshow": {
     "slide_type": "slide"
    }
   },
   "source": [
    "## Spinning up a local Cassandra instance\n",
    "In a terminal, first time:  \n",
    "```docker run --name my_cassandra -p 9042:9042 cassandra:latest```  \n",
    "... and later:  \n",
    "```docker start my_cassandra```  \n",
    "  \n",
    ".. or in Docker Desktop:\n",
    "- Run the cassandra docker image with optional settings, opening 9042 port and setting a name.\n",
    "- Later, simply run the container with the name you chose."
   ]
  },
  {
   "cell_type": "markdown",
   "metadata": {
    "slideshow": {
     "slide_type": "slide"
    }
   },
   "source": [
    "<img src=\"https://github.com/khliland/IND320/blob/main/D2Dbook/images/Docker_images.png?raw=TRUE\" width=\"600px\">  "
   ]
  },
  {
   "cell_type": "markdown",
   "metadata": {
    "slideshow": {
     "slide_type": "slide"
    }
   },
   "source": [
    "\n",
    "<img src=\"https://github.com/khliland/IND320/blob/main/D2Dbook/images/Docker_containers.png?raw=TRUE\" width=\"800px\">  "
   ]
  },
  {
   "cell_type": "markdown",
   "metadata": {
    "slideshow": {
     "slide_type": "slide"
    }
   },
   "source": [
    "### Connect to the Cassandra cluster from Python."
   ]
  },
  {
   "cell_type": "code",
   "execution_count": 1,
   "metadata": {
    "slideshow": {
     "slide_type": "-"
    }
   },
   "outputs": [],
   "source": [
    "# Connecting to Cassandra\n",
    "from cassandra.cluster import Cluster\n",
    "cluster = Cluster(['localhost'], port=9042)\n",
    "session = cluster.connect()"
   ]
  },
  {
   "cell_type": "markdown",
   "metadata": {
    "slideshow": {
     "slide_type": "slide"
    }
   },
   "source": [
    "### Keyspace\n",
    "- In Cassandra database tables are stored in keyspaces (basically a distributed database).\n",
    "- These have parameters controlling their distribution on nodes/servers and redundancy.\n",
    "- We will use the simplest form locally."
   ]
  },
  {
   "cell_type": "code",
   "execution_count": 2,
   "metadata": {
    "slideshow": {
     "slide_type": "fragment"
    }
   },
   "outputs": [
    {
     "data": {
      "text/plain": [
       "<cassandra.cluster.ResultSet at 0x106efb190>"
      ]
     },
     "execution_count": 2,
     "metadata": {},
     "output_type": "execute_result"
    }
   ],
   "source": [
    "# Set up new keyspace (first time only)\n",
    "#                                              name of keyspace                        replication strategy           replication factor\n",
    "session.execute(\"CREATE KEYSPACE IF NOT EXISTS my_first_keyspace WITH REPLICATION = { 'class' : 'SimpleStrategy', 'replication_factor' : 1 };\")"
   ]
  },
  {
   "cell_type": "markdown",
   "metadata": {
    "slideshow": {
     "slide_type": "slide"
    }
   },
   "source": [
    "### Create a table\n",
    "- IF NOT EXISTS makes sure we do not overwrite existing tables"
   ]
  },
  {
   "cell_type": "code",
   "execution_count": 3,
   "metadata": {
    "slideshow": {
     "slide_type": "fragment"
    }
   },
   "outputs": [
    {
     "data": {
      "text/plain": [
       "<cassandra.cluster.ResultSet at 0x10808f190>"
      ]
     },
     "execution_count": 3,
     "metadata": {},
     "output_type": "execute_result"
    }
   ],
   "source": [
    "# Create a new table (first time only)\n",
    "session.set_keyspace('my_first_keyspace')\n",
    "session.execute(\"DROP TABLE IF EXISTS my_first_keyspace.my_first_table;\") # Starting from scratch every time\n",
    "session.execute(\"CREATE TABLE IF NOT EXISTS my_first_table (ind int PRIMARY KEY, company text, model text);\")"
   ]
  },
  {
   "cell_type": "markdown",
   "metadata": {
    "slideshow": {
     "slide_type": "slide"
    }
   },
   "source": [
    "### Inserting and reading data"
   ]
  },
  {
   "cell_type": "code",
   "execution_count": 4,
   "metadata": {
    "slideshow": {
     "slide_type": "-"
    }
   },
   "outputs": [
    {
     "data": {
      "text/plain": [
       "<cassandra.cluster.ResultSet at 0x109c0ea10>"
      ]
     },
     "execution_count": 4,
     "metadata": {},
     "output_type": "execute_result"
    }
   ],
   "source": [
    "# Insert some data (ind is the primary key, must be unique)\n",
    "session.execute(\"INSERT INTO my_first_table (ind, company, model) VALUES (1, 'Tesla', 'Model S');\")\n",
    "session.execute(\"INSERT INTO my_first_table (ind, company, model) VALUES (2, 'Tesla', 'Model 3');\")\n",
    "session.execute(\"INSERT INTO my_first_table (ind, company, model) VALUES (3, 'Polestar', '3');\")"
   ]
  },
  {
   "cell_type": "markdown",
   "metadata": {
    "slideshow": {
     "slide_type": "slide"
    }
   },
   "source": [
    "### Asyncronous writing\n",
    "- If your application is very data intensive, waiting for a response is not productive.\n",
    "- Writing asyncronously sends the data but does not pause for reply."
   ]
  },
  {
   "cell_type": "code",
   "execution_count": 5,
   "metadata": {
    "slideshow": {
     "slide_type": "-"
    }
   },
   "outputs": [
    {
     "data": {
      "text/plain": [
       "<ResponseFuture: query='<SimpleStatement query=\"INSERT INTO my_first_table (ind, company, model) VALUES (4, 'Volkswagen', 'ID.4');\", consistency=Not Set>' request_id=24 result=(no result yet) exception=None coordinator_host=None>"
      ]
     },
     "execution_count": 5,
     "metadata": {},
     "output_type": "execute_result"
    }
   ],
   "source": [
    "session.execute_async(\"INSERT INTO my_first_table (ind, company, model) VALUES (4, 'Volkswagen', 'ID.4');\")"
   ]
  },
  {
   "cell_type": "code",
   "execution_count": 6,
   "metadata": {
    "slideshow": {
     "slide_type": "slide"
    }
   },
   "outputs": [
    {
     "name": "stdout",
     "output_type": "stream",
     "text": [
      "Row(ind=1, company='Tesla', model='Model S')\n",
      "Row(ind=2, company='Tesla', model='Model 3')\n",
      "Row(ind=4, company='Volkswagen', model='ID.4')\n",
      "Row(ind=3, company='Polestar', model='3')\n"
     ]
    }
   ],
   "source": [
    "# Query the data\n",
    "rows = session.execute(\"SELECT * FROM my_first_table;\")\n",
    "for i in rows:\n",
    "    print(i)"
   ]
  },
  {
   "cell_type": "code",
   "execution_count": 7,
   "metadata": {
    "slideshow": {
     "slide_type": "slide"
    },
    "tags": [
     "raises-exception"
    ]
   },
   "outputs": [
    {
     "ename": "InvalidRequest",
     "evalue": "Error from server: code=2200 [Invalid query] message=\"Cannot execute this query as it might involve data filtering and thus may have unpredictable performance. If you want to execute this query despite the performance unpredictability, use ALLOW FILTERING\"",
     "output_type": "error",
     "traceback": [
      "\u001b[0;31m---------------------------------------------------------------------------\u001b[0m",
      "\u001b[0;31mInvalidRequest\u001b[0m                            Traceback (most recent call last)",
      "Cell \u001b[0;32mIn[7], line 2\u001b[0m\n\u001b[1;32m      1\u001b[0m \u001b[38;5;66;03m# More specific query\u001b[39;00m\n\u001b[0;32m----> 2\u001b[0m prepared_statement \u001b[38;5;241m=\u001b[39m \u001b[43msession\u001b[49m\u001b[38;5;241;43m.\u001b[39;49m\u001b[43mprepare\u001b[49m\u001b[43m(\u001b[49m\u001b[38;5;124;43m\"\u001b[39;49m\u001b[38;5;124;43mSELECT * FROM my_first_table WHERE company=?;\u001b[39;49m\u001b[38;5;124;43m\"\u001b[39;49m\u001b[43m)\u001b[49m \u001b[38;5;66;03m# <- will fail as company is not a key\u001b[39;00m\n\u001b[1;32m      3\u001b[0m teslas \u001b[38;5;241m=\u001b[39m session\u001b[38;5;241m.\u001b[39mexecute(prepared_statement, [\u001b[38;5;124m'\u001b[39m\u001b[38;5;124mTesla\u001b[39m\u001b[38;5;124m'\u001b[39m])\n\u001b[1;32m      4\u001b[0m \u001b[38;5;28;01mfor\u001b[39;00m i \u001b[38;5;129;01min\u001b[39;00m teslas:\n",
      "File \u001b[0;32m~/miniforge3/envs/IND320/lib/python3.11/site-packages/cassandra/cluster.py:3099\u001b[0m, in \u001b[0;36mcassandra.cluster.Session.prepare\u001b[0;34m()\u001b[0m\n",
      "File \u001b[0;32m~/miniforge3/envs/IND320/lib/python3.11/site-packages/cassandra/cluster.py:3096\u001b[0m, in \u001b[0;36mcassandra.cluster.Session.prepare\u001b[0;34m()\u001b[0m\n",
      "File \u001b[0;32m~/miniforge3/envs/IND320/lib/python3.11/site-packages/cassandra/cluster.py:4928\u001b[0m, in \u001b[0;36mcassandra.cluster.ResponseFuture.result\u001b[0;34m()\u001b[0m\n",
      "\u001b[0;31mInvalidRequest\u001b[0m: Error from server: code=2200 [Invalid query] message=\"Cannot execute this query as it might involve data filtering and thus may have unpredictable performance. If you want to execute this query despite the performance unpredictability, use ALLOW FILTERING\""
     ]
    }
   ],
   "source": [
    "# More specific query\n",
    "prepared_statement = session.prepare(\"SELECT * FROM my_first_table WHERE company=?;\") # <- will fail as company is not a key\n",
    "teslas = session.execute(prepared_statement, ['Tesla'])\n",
    "for i in teslas:\n",
    "    print(i)"
   ]
  },
  {
   "cell_type": "markdown",
   "metadata": {
    "slideshow": {
     "slide_type": "slide"
    }
   },
   "source": [
    "## Cassandra filtering\n",
    "Cassandra is inherently a distributed production database. Selecting as above may require downloading all data from a node, then filtering based on the WHERE part (only PRIMARY KEYs are centrally known). Solutions:  \n",
    "- If the table is small or most of the data will satisfy the query, add ```ALLOW FILTERING``` at the end of the query (not recommended if not known). \n",
    "- Or make sure the WHERE clause points to one of the keys (see below)."
   ]
  },
  {
   "cell_type": "code",
   "execution_count": 8,
   "metadata": {
    "slideshow": {
     "slide_type": "slide"
    }
   },
   "outputs": [
    {
     "data": {
      "text/plain": [
       "<cassandra.cluster.ResultSet at 0x10a901410>"
      ]
     },
     "execution_count": 8,
     "metadata": {},
     "output_type": "execute_result"
    }
   ],
   "source": [
    "# Create a new table (observe keys)\n",
    "session.execute(\"DROP TABLE IF EXISTS my_first_keyspace.car_table;\")\n",
    "session.execute(\"CREATE TABLE IF NOT EXISTS car_table (company text, model text, PRIMARY KEY(company, model));\")"
   ]
  },
  {
   "cell_type": "code",
   "execution_count": 9,
   "metadata": {
    "slideshow": {
     "slide_type": "fragment"
    }
   },
   "outputs": [
    {
     "data": {
      "text/plain": [
       "<cassandra.cluster.ResultSet at 0x10a930c90>"
      ]
     },
     "execution_count": 9,
     "metadata": {},
     "output_type": "execute_result"
    }
   ],
   "source": [
    "# Insert some data (combination of company and model must be unique)\n",
    "session.execute(\"INSERT INTO car_table (company, model) VALUES ('Tesla', 'Model S');\")\n",
    "session.execute(\"INSERT INTO car_table (company, model) VALUES ('Tesla', 'Model 3');\")\n",
    "session.execute(\"INSERT INTO car_table (company, model) VALUES ('Polestar', '3');\")\n",
    "session.execute(\"INSERT INTO car_table (company, model) VALUES ('Volkswagen', 'ID.4');\")"
   ]
  },
  {
   "cell_type": "code",
   "execution_count": 10,
   "metadata": {
    "slideshow": {
     "slide_type": "slide"
    }
   },
   "outputs": [
    {
     "name": "stdout",
     "output_type": "stream",
     "text": [
      "Row(company='Tesla', model='Model 3')\n",
      "Row(company='Tesla', model='Model S')\n"
     ]
    }
   ],
   "source": [
    "# More specific query now works\n",
    "prepared_statement = session.prepare(\"SELECT * FROM car_table WHERE company=?;\")\n",
    "teslas = session.execute(prepared_statement, ['Tesla'])\n",
    "for i in teslas:\n",
    "    print(i)"
   ]
  },
  {
   "cell_type": "markdown",
   "metadata": {
    "slideshow": {
     "slide_type": "slide"
    }
   },
   "source": [
    "### Partitions\n",
    "- Cassandra databases are usually replicated over different nodes.\n",
    "- Data is stored in partitions (subsets) which have local copys.\n",
    "- The primary key, e.g., PRIMARY KEY(company, model), is used in partitioning.\n",
    "    - The first part, e.g., company, is most important.\n",
    "    - All cars from a company will be located together, aiming for quicker queries."
   ]
  },
  {
   "cell_type": "markdown",
   "metadata": {
    "slideshow": {
     "slide_type": "slide"
    }
   },
   "source": [
    "### Unique IDs \n",
    "- In MySQL one could use the attribute AUTO_INCREMENT on integer IDs to automatically make a new unique index when inserting data.\n",
    "- This would cause unreasonable overhead in a distributed database.\n",
    "- [UUID](https://en.wikipedia.org/wiki/Universally_unique_identifier)s are used instead.\n",
    "    - Universally Unique Identifiers are typically 128-bit random bit sequences with extremely low probability of duplication.\n",
    "    - Cassandra uses a [timeuuid](https://docs.datastax.com/en/cql-oss/3.3/cql/cql_reference/timeuuid_functions_r.html) type to combine a timestamp and uuid in one."
   ]
  },
  {
   "cell_type": "code",
   "execution_count": 11,
   "metadata": {
    "slideshow": {
     "slide_type": "fragment"
    }
   },
   "outputs": [
    {
     "data": {
      "text/plain": [
       "<cassandra.cluster.ResultSet at 0x105fa2ed0>"
      ]
     },
     "execution_count": 11,
     "metadata": {},
     "output_type": "execute_result"
    }
   ],
   "source": [
    "# Create a new table (first time only)\n",
    "session.set_keyspace('my_first_keyspace')\n",
    "session.execute(\"DROP TABLE IF EXISTS my_first_keyspace.table_with_uuid;\")\n",
    "session.execute(\"CREATE TABLE IF NOT EXISTS table_with_uuid (id timeuuid PRIMARY KEY, company text, model text, price float);\")"
   ]
  },
  {
   "cell_type": "code",
   "execution_count": 12,
   "metadata": {
    "slideshow": {
     "slide_type": "slide"
    }
   },
   "outputs": [
    {
     "data": {
      "text/plain": [
       "<cassandra.cluster.ResultSet at 0x109c05790>"
      ]
     },
     "execution_count": 12,
     "metadata": {},
     "output_type": "execute_result"
    }
   ],
   "source": [
    "session.execute(\"INSERT INTO table_with_uuid (id, company, model, price) VALUES (now(), 'Tesla', 'Model S', 20000.0);\")\n",
    "session.execute(\"INSERT INTO table_with_uuid (id, company, model, price) VALUES (now(), 'Tesla', 'Model S', 21000.0);\")\n",
    "session.execute(\"INSERT INTO table_with_uuid (id, company, model, price) VALUES (now(), 'Oldsmobile', 'Model 6C', 135000.0);\")"
   ]
  },
  {
   "cell_type": "code",
   "execution_count": 13,
   "metadata": {
    "slideshow": {
     "slide_type": "slide"
    }
   },
   "outputs": [
    {
     "name": "stdout",
     "output_type": "stream",
     "text": [
      "Row(id=UUID('cc917cb0-99ae-11ee-b3b8-2d7beb28515f'), company='Oldsmobile', model='Model 6C', price=135000.0)\n",
      "Datetime: 2023-12-13 11:57:33.051000\n",
      "Row(id=UUID('cc909250-99ae-11ee-b3b8-2d7beb28515f'), company='Tesla', model='Model S', price=20000.0)\n",
      "Datetime: 2023-12-13 11:57:33.045000\n",
      "Row(id=UUID('cc912e90-99ae-11ee-b3b8-2d7beb28515f'), company='Tesla', model='Model S', price=21000.0)\n",
      "Datetime: 2023-12-13 11:57:33.049000\n"
     ]
    }
   ],
   "source": [
    "from cassandra.util import datetime_from_uuid1\n",
    "\n",
    "# Query the data\n",
    "rows = session.execute(\"SELECT * FROM table_with_uuid;\")\n",
    "for i in rows:\n",
    "    print(i)\n",
    "    # Extract the timestamp from Cassandra's timeuuid\n",
    "    print(\"Datetime:\", datetime_from_uuid1(i.id))"
   ]
  },
  {
   "cell_type": "markdown",
   "metadata": {
    "slideshow": {
     "slide_type": "slide"
    }
   },
   "source": [
    "## JSON in Cassandra\n",
    "### Read previously saved JSON file forecast.json to memory"
   ]
  },
  {
   "cell_type": "code",
   "execution_count": 14,
   "metadata": {
    "slideshow": {
     "slide_type": "-"
    }
   },
   "outputs": [],
   "source": [
    "import json\n",
    "with open('../3_APIs/downloads/forecast.json', 'r') as f:\n",
    "    forecast = json.load(f)"
   ]
  },
  {
   "cell_type": "code",
   "execution_count": 15,
   "metadata": {
    "slideshow": {
     "slide_type": "slide"
    }
   },
   "outputs": [
    {
     "data": {
      "text/plain": [
       "\"{'cod': '200', 'message': 0, 'cnt': 40, 'list': [{'dt': 1701680400, 'main': {'temp': 260.46, 'feels_like': 257.14, 'temp_min': 260.46, 'temp_max': 260.46, 'pressure': 1021, 'sea_level': 1021, 'grnd_level': 1001, 'humidity': 94, 'temp_kf': 0}, 'weather': [{'id': 801, 'main': 'Clouds', 'description': 'few clouds', 'icon': '02d'}], 'clouds': {'all': 23}, 'wind': {'speed': 1.41, 'deg': 315, 'gust': 1.19}, 'visibility': 10000, 'pop': 0, 'sys': {'pod': 'd'}, 'dt_txt': '2023-12-04 09:00:00'}, {'dt': 1701691200, 'main': {'temp': 261.86, 'feels_like': 261.86, 'temp_min': 261.86, 'temp_max': 264.67, 'pressure': 1020, 'sea_level': 1020, 'grnd_level': 1000, 'humidity': 92, 'temp_kf': -2.81}, 'weather': [{'id': 801, 'main': 'Clouds', 'description': 'few clouds', 'icon': '02d'}], 'clouds': {'all': 21}, 'wind': {'speed': 0.34, 'deg': 323, 'gust': 0.46}, 'visibility': 10000, 'pop': 0, 'sys': {'pod': 'd'}, 'dt_txt': '2023-12-04 12:00:00'}, {'dt': 1701702000, 'main': {'temp': 260.65, 'feels_like': 257.05, 'temp_min': 260.65, 'temp_max': 260.74, 'pressure': 1020, 'sea_level': 1020, 'grnd_level': 999, 'humidity': 95, 'temp_kf': -0.09}, 'weather': [{'id': 801, 'main': 'Clouds', 'description': 'few clouds', 'icon': '02n'}], 'clouds': {'all': 13}, 'wind': {'speed': 1.54, 'deg': 314, 'gust': 1.28}, 'visibility': 10000, 'pop': 0, 'sys': {'pod': 'n'}, 'dt_txt': '2023-12-04 15:00:00'}, {'dt': 1701712800, 'main': {'temp': 260.11, 'feels_like': 256.11, 'temp_min': 260.11, 'temp_max': 260.11, 'pressure': 1019, 'sea_level': 1019, 'grnd_level': 999, 'humidity': 94, 'temp_kf': 0}, 'weather': [{'id': 801, 'main': 'Clouds', 'description': 'few clouds', 'icon': '02n'}], 'clouds': {'all': 11}, 'wind': {'speed': 1.69, 'deg': 317, 'gust': 1.38}, 'visibility': 10000, 'pop': 0, 'sys': {'pod': 'n'}, 'dt_txt': '2023-12-04 18:00:00'}, {'dt': 1701723600, 'main': {'temp': 259.87, 'feels_like': 255.92, 'temp_min': 259.87, 'temp_max': 259.87, 'pressure': 1020, 'sea_level': 1020, 'grnd_level': 1000, 'humidity': 93, 'temp_kf': 0}, 'weather': [{'id': 801, 'main': 'Clouds', 'description': 'few clouds', 'icon': '02n'}], 'clouds': {'all': 12}, 'wind': {'speed': 1.65, 'deg': 314, 'gust': 1.33}, 'visibility': 10000, 'pop': 0, 'sys': {'pod': 'n'}, 'dt_txt': '2023-12-04 21:00:00'}, {'dt': 1701734400, 'main': {'temp': 259.69, 'feels_like': 255.6, 'temp_min': 259.69, 'temp_max': 259.69, 'pressure': 1020, 'sea_level': 1020, 'grnd_level': 1000, 'humidity': 93, 'temp_kf': 0}, 'weather': [{'id': 801, 'main': 'Clouds', 'description': 'few clouds', 'icon': '02n'}], 'clouds': {'all': 11}, 'wind': {'speed': 1.7, 'deg': 317, 'gust': 1.42}, 'visibility': 10000, 'pop': 0, 'sys': {'pod': 'n'}, 'dt_txt': '2023-12-05 00:00:00'}, {'dt': 1701745200, 'main': {'temp': 259.47, 'feels_like': 255.39, 'temp_min': 259.47, 'temp_max': 259.47, 'pressure': 1020, 'sea_level': 1020, 'grnd_level': 1000, 'humidity': 93, 'temp_kf': 0}, 'weather': [{'id': 800, 'main': 'Clear', 'description': 'clear sky', 'icon': '01n'}], 'clouds': {'all': 8}, 'wind': {'speed': 1.68, 'deg': 317, 'gust': 1.33}, 'visibility': 10000, 'pop': 0, 'sys': {'pod': 'n'}, 'dt_txt': '2023-12-05 03:00:00'}, {'dt': 1701756000, 'main': {'temp': 259.35, 'feels_like': 255.28, 'temp_min': 259.35, 'temp_max': 259.35, 'pressure': 1020, 'sea_level': 1020, 'grnd_level': 1000, 'humidity': 92, 'temp_kf': 0}, 'weather': [{'id': 800, 'main': 'Clear', 'description': 'clear sky', 'icon': '01n'}], 'clouds': {'all': 7}, 'wind': {'speed': 1.67, 'deg': 318, 'gust': 1.79}, 'visibility': 10000, 'pop': 0, 'sys': {'pod': 'n'}, 'dt_txt': '2023-12-05 06:00:00'}, {'dt': 1701766800, 'main': {'temp': 259.94, 'feels_like': 256.08, 'temp_min': 259.94, 'temp_max': 259.94, 'pressure': 1021, 'sea_level': 1021, 'grnd_level': 1001, 'humidity': 91, 'temp_kf': 0}, 'weather': [{'id': 800, 'main': 'Clear', 'description': 'clear sky', 'icon': '01d'}], 'clouds': {'all': 8}, 'wind': {'speed': 1.61, 'deg': 318, 'gust': 1.71}, 'visibility': 10000, 'pop': 0, 'sys': {'pod': 'd'}, 'dt_txt': '2023-12-05 09:00:00'}, {'dt': 1701777600, 'main': {'temp': 263.91, 'feels_like': 263.91, 'temp_min': 263.91, 'temp_max': 263.91, 'pressure': 1020, 'sea_level': 1020, 'grnd_level': 1000, 'humidity': 87, 'temp_kf': 0}, 'weather': [{'id': 800, 'main': 'Clear', 'description': 'clear sky', 'icon': '01d'}], 'clouds': {'all': 8}, 'wind': {'speed': 0.62, 'deg': 346, 'gust': 0.69}, 'visibility': 10000, 'pop': 0, 'sys': {'pod': 'd'}, 'dt_txt': '2023-12-05 12:00:00'}, {'dt': 1701788400, 'main': {'temp': 260.02, 'feels_like': 256.05, 'temp_min': 260.02, 'temp_max': 260.02, 'pressure': 1021, 'sea_level': 1021, 'grnd_level': 1001, 'humidity': 93, 'temp_kf': 0}, 'weather': [{'id': 800, 'main': 'Clear', 'description': 'clear sky', 'icon': '01n'}], 'clouds': {'all': 10}, 'wind': {'speed': 1.67, 'deg': 319, 'gust': 1.32}, 'visibility': 10000, 'pop': 0, 'sys': {'pod': 'n'}, 'dt_txt': '2023-12-05 15:00:00'}, {'dt': 1701799200, 'main': {'temp': 259.45, 'feels_like': 255.2, 'temp_min': 259.45, 'temp_max': 259.45, 'pressure': 1022, 'sea_level': 1022, 'grnd_level': 1002, 'humidity': 92, 'temp_kf': 0}, 'weather': [{'id': 801, 'main': 'Clouds', 'description': 'few clouds', 'icon': '02n'}], 'clouds': {'all': 15}, 'wind': {'speed': 1.76, 'deg': 316, 'gust': 1.4}, 'visibility': 10000, 'pop': 0, 'sys': {'pod': 'n'}, 'dt_txt': '2023-12-05 18:00:00'}, {'dt': 1701810000, 'main': {'temp': 259.1, 'feels_like': 254.95, 'temp_min': 259.1, 'temp_max': 259.1, 'pressure': 1023, 'sea_level': 1023, 'grnd_level': 1003, 'humidity': 93, 'temp_kf': 0}, 'weather': [{'id': 803, 'main': 'Clouds', 'description': 'broken clouds', 'icon': '04n'}], 'clouds': {'all': 51}, 'wind': {'speed': 1.69, 'deg': 320, 'gust': 1.38}, 'visibility': 10000, 'pop': 0, 'sys': {'pod': 'n'}, 'dt_txt': '2023-12-05 21:00:00'}, {'dt': 1701820800, 'main': {'temp': 259.51, 'feels_like': 255.57, 'temp_min': 259.51, 'temp_max': 259.51, 'pressure': 1023, 'sea_level': 1023, 'grnd_level': 1003, 'humidity': 92, 'temp_kf': 0}, 'weather': [{'id': 803, 'main': 'Clouds', 'description': 'broken clouds', 'icon': '04n'}], 'clouds': {'all': 62}, 'wind': {'speed': 1.62, 'deg': 322, 'gust': 1.33}, 'visibility': 10000, 'pop': 0, 'sys': {'pod': 'n'}, 'dt_txt': '2023-12-06 00:00:00'}, {'dt': 1701831600, 'main': {'temp': 260.94, 'feels_like': 257.75, 'temp_min': 260.94, 'temp_max': 260.94, 'pressure': 1022, 'sea_level': 1022, 'grnd_level': 1002, 'humidity': 93, 'temp_kf': 0}, 'weather': [{'id': 804, 'main': 'Clouds', 'description': 'overcast clouds', 'icon': '04n'}], 'clouds': {'all': 96}, 'wind': {'speed': 1.38, 'deg': 331, 'gust': 1.23}, 'visibility': 10000, 'pop': 0, 'sys': {'pod': 'n'}, 'dt_txt': '2023-12-06 03:00:00'}, {'dt': 1701842400, 'main': {'temp': 262.86, 'feels_like': 262.86, 'temp_min': 262.86, 'temp_max': 262.86, 'pressure': 1022, 'sea_level': 1022, 'grnd_level': 1002, 'humidity': 94, 'temp_kf': 0}, 'weather': [{'id': 804, 'main': 'Clouds', 'description': 'overcast clouds', 'icon': '04n'}], 'clouds': {'all': 98}, 'wind': {'speed': 0.94, 'deg': 357, 'gust': 1}, 'visibility': 10000, 'pop': 0, 'sys': {'pod': 'n'}, 'dt_txt': '2023-12-06 06:00:00'}, {'dt': 1701853200, 'main': {'temp': 264.48, 'feels_like': 264.48, 'temp_min': 264.48, 'temp_max': 264.48, 'pressure': 1023, 'sea_level': 1023, 'grnd_level': 1003, 'humidity': 94, 'temp_kf': 0}, 'weather': [{'id': 804, 'main': 'Clouds', 'description': 'overcast clouds', 'icon': '04d'}], 'clouds': {'all': 100}, 'wind': {'speed': 0.65, 'deg': 35, 'gust': 0.92}, 'visibility': 908, 'pop': 0.06, 'sys': {'pod': 'd'}, 'dt_txt': '2023-12-06 09:00:00'}, {'dt': 1701864000, 'main': {'temp': 266.21, 'feels_like': 266.21, 'temp_min': 266.21, 'temp_max': 266.21, 'pressure': 1022, 'sea_level': 1022, 'grnd_level': 1002, 'humidity': 94, 'temp_kf': 0}, 'weather': [{'id': 600, 'main': 'Snow', 'description': 'light snow', 'icon': '13d'}], 'clouds': {'all': 100}, 'wind': {'speed': 0.65, 'deg': 71, 'gust': 0.84}, 'visibility': 235, 'pop': 0.26, 'snow': {'3h': 0.36}, 'sys': {'pod': 'd'}, 'dt_txt': '2023-12-06 12:00:00'}, {'dt': 1701874800, 'main': {'temp': 266.24, 'feels_like': 266.24, 'temp_min': 266.24, 'temp_max': 266.24, 'pressure': 1022, 'sea_level': 1022, 'grnd_level': 1003, 'humidity': 96, 'temp_kf': 0}, 'weather': [{'id': 600, 'main': 'Snow', 'description': 'light snow', 'icon': '13n'}], 'clouds': {'all': 100}, 'wind': {'speed': 0.67, 'deg': 47, 'gust': 0.93}, 'visibility': 316, 'pop': 0.56, 'snow': {'3h': 0.41}, 'sys': {'pod': 'n'}, 'dt_txt': '2023-12-06 15:00:00'}, {'dt': 1701885600, 'main': {'temp': 265.78, 'feels_like': 265.78, 'temp_min': 265.78, 'temp_max': 265.78, 'pressure': 1023, 'sea_level': 1023, 'grnd_level': 1003, 'humidity': 97, 'temp_kf': 0}, 'weather': [{'id': 600, 'main': 'Snow', 'description': 'light snow', 'icon': '13n'}], 'clouds': {'all': 100}, 'wind': {'speed': 0.89, 'deg': 14, 'gust': 1.22}, 'visibility': 325, 'pop': 0.45, 'snow': {'3h': 0.26}, 'sys': {'pod': 'n'}, 'dt_txt': '2023-12-06 18:00:00'}, {'dt': 1701896400, 'main': {'temp': 265.02, 'feels_like': 265.02, 'temp_min': 265.02, 'temp_max': 265.02, 'pressure': 1024, 'sea_level': 1024, 'grnd_level': 1004, 'humidity': 96, 'temp_kf': 0}, 'weather': [{'id': 600, 'main': 'Snow', 'description': 'light snow', 'icon': '13n'}], 'clouds': {'all': 98}, 'wind': {'speed': 1.3, 'deg': 354, 'gust': 1.84}, 'visibility': 1068, 'pop': 0.25, 'snow': {'3h': 0.26}, 'sys': {'pod': 'n'}, 'dt_txt': '2023-12-06 21:00:00'}, {'dt': 1701907200, 'main': {'temp': 263.48, 'feels_like': 259.91, 'temp_min': 263.48, 'temp_max': 263.48, 'pressure': 1024, 'sea_level': 1024, 'grnd_level': 1004, 'humidity': 96, 'temp_kf': 0}, 'weather': [{'id': 804, 'main': 'Clouds', 'description': 'overcast clouds', 'icon': '04n'}], 'clouds': {'all': 94}, 'wind': {'speed': 1.73, 'deg': 338, 'gust': 2.26}, 'visibility': 3019, 'pop': 0.04, 'sys': {'pod': 'n'}, 'dt_txt': '2023-12-07 00:00:00'}, {'dt': 1701918000, 'main': {'temp': 263.5, 'feels_like': 260.07, 'temp_min': 263.5, 'temp_max': 263.5, 'pressure': 1024, 'sea_level': 1024, 'grnd_level': 1005, 'humidity': 95, 'temp_kf': 0}, 'weather': [{'id': 804, 'main': 'Clouds', 'description': 'overcast clouds', 'icon': '04n'}], 'clouds': {'all': 94}, 'wind': {'speed': 1.66, 'deg': 332, 'gust': 2.25}, 'visibility': 2626, 'pop': 0, 'sys': {'pod': 'n'}, 'dt_txt': '2023-12-07 03:00:00'}, {'dt': 1701928800, 'main': {'temp': 261.44, 'feels_like': 257.16, 'temp_min': 261.44, 'temp_max': 261.44, 'pressure': 1025, 'sea_level': 1025, 'grnd_level': 1005, 'humidity': 96, 'temp_kf': 0}, 'weather': [{'id': 804, 'main': 'Clouds', 'description': 'overcast clouds', 'icon': '04n'}], 'clouds': {'all': 89}, 'wind': {'speed': 1.94, 'deg': 335, 'gust': 2.34}, 'visibility': 10000, 'pop': 0, 'sys': {'pod': 'n'}, 'dt_txt': '2023-12-07 06:00:00'}, {'dt': 1701939600, 'main': {'temp': 262.05, 'feels_like': 258.24, 'temp_min': 262.05, 'temp_max': 262.05, 'pressure': 1025, 'sea_level': 1025, 'grnd_level': 1005, 'humidity': 95, 'temp_kf': 0}, 'weather': [{'id': 804, 'main': 'Clouds', 'description': 'overcast clouds', 'icon': '04d'}], 'clouds': {'all': 87}, 'wind': {'speed': 1.74, 'deg': 327, 'gust': 2.16}, 'visibility': 2402, 'pop': 0, 'sys': {'pod': 'd'}, 'dt_txt': '2023-12-07 09:00:00'}, {'dt': 1701950400, 'main': {'temp': 266.16, 'feels_like': 266.16, 'temp_min': 266.16, 'temp_max': 266.16, 'pressure': 1024, 'sea_level': 1024, 'grnd_level': 1004, 'humidity': 93, 'temp_kf': 0}, 'weather': [{'id': 804, 'main': 'Clouds', 'description': 'overcast clouds', 'icon': '04d'}], 'clouds': {'all': 93}, 'wind': {'speed': 0.93, 'deg': 15, 'gust': 1.45}, 'visibility': 1200, 'pop': 0, 'sys': {'pod': 'd'}, 'dt_txt': '2023-12-07 12:00:00'}, {'dt': 1701961200, 'main': {'temp': 265.05, 'feels_like': 265.05, 'temp_min': 265.05, 'temp_max': 265.05, 'pressure': 1024, 'sea_level': 1024, 'grnd_level': 1004, 'humidity': 97, 'temp_kf': 0}, 'weather': [{'id': 600, 'main': 'Snow', 'description': 'light snow', 'icon': '13n'}], 'clouds': {'all': 100}, 'wind': {'speed': 0.98, 'deg': 359, 'gust': 0.91}, 'visibility': 462, 'pop': 0.23, 'snow': {'3h': 0.14}, 'sys': {'pod': 'n'}, 'dt_txt': '2023-12-07 15:00:00'}, {'dt': 1701972000, 'main': {'temp': 265.04, 'feels_like': 265.04, 'temp_min': 265.04, 'temp_max': 265.04, 'pressure': 1023, 'sea_level': 1023, 'grnd_level': 1003, 'humidity': 97, 'temp_kf': 0}, 'weather': [{'id': 600, 'main': 'Snow', 'description': 'light snow', 'icon': '13n'}], 'clouds': {'all': 100}, 'wind': {'speed': 1.06, 'deg': 9, 'gust': 1.02}, 'visibility': 249, 'pop': 0.31, 'snow': {'3h': 0.34}, 'sys': {'pod': 'n'}, 'dt_txt': '2023-12-07 18:00:00'}, {'dt': 1701982800, 'main': {'temp': 266.11, 'feels_like': 266.11, 'temp_min': 266.11, 'temp_max': 266.11, 'pressure': 1021, 'sea_level': 1021, 'grnd_level': 1002, 'humidity': 96, 'temp_kf': 0}, 'weather': [{'id': 600, 'main': 'Snow', 'description': 'light snow', 'icon': '13n'}], 'clouds': {'all': 100}, 'wind': {'speed': 0.77, 'deg': 48, 'gust': 1.04}, 'visibility': 203, 'pop': 0.91, 'snow': {'3h': 0.53}, 'sys': {'pod': 'n'}, 'dt_txt': '2023-12-07 21:00:00'}, {'dt': 1701993600, 'main': {'temp': 266.63, 'feels_like': 266.63, 'temp_min': 266.63, 'temp_max': 266.63, 'pressure': 1020, 'sea_level': 1020, 'grnd_level': 1001, 'humidity': 96, 'temp_kf': 0}, 'weather': [{'id': 600, 'main': 'Snow', 'description': 'light snow', 'icon': '13n'}], 'clouds': {'all': 100}, 'wind': {'speed': 0.94, 'deg': 48, 'gust': 1.3}, 'visibility': 133, 'pop': 0.96, 'snow': {'3h': 0.76}, 'sys': {'pod': 'n'}, 'dt_txt': '2023-12-08 00:00:00'}, {'dt': 1702004400, 'main': {'temp': 267.06, 'feels_like': 267.06, 'temp_min': 267.06, 'temp_max': 267.06, 'pressure': 1018, 'sea_level': 1018, 'grnd_level': 998, 'humidity': 96, 'temp_kf': 0}, 'weather': [{'id': 600, 'main': 'Snow', 'description': 'light snow', 'icon': '13n'}], 'clouds': {'all': 100}, 'wind': {'speed': 1.15, 'deg': 46, 'gust': 1.7}, 'visibility': 122, 'pop': 1, 'snow': {'3h': 0.95}, 'sys': {'pod': 'n'}, 'dt_txt': '2023-12-08 03:00:00'}, {'dt': 1702015200, 'main': {'temp': 267.86, 'feels_like': 267.86, 'temp_min': 267.86, 'temp_max': 267.86, 'pressure': 1016, 'sea_level': 1016, 'grnd_level': 996, 'humidity': 96, 'temp_kf': 0}, 'weather': [{'id': 600, 'main': 'Snow', 'description': 'light snow', 'icon': '13n'}], 'clouds': {'all': 100}, 'wind': {'speed': 1.1, 'deg': 35, 'gust': 1.76}, 'visibility': 112, 'pop': 1, 'snow': {'3h': 1.23}, 'sys': {'pod': 'n'}, 'dt_txt': '2023-12-08 06:00:00'}, {'dt': 1702026000, 'main': {'temp': 269.04, 'feels_like': 269.04, 'temp_min': 269.04, 'temp_max': 269.04, 'pressure': 1015, 'sea_level': 1015, 'grnd_level': 996, 'humidity': 96, 'temp_kf': 0}, 'weather': [{'id': 600, 'main': 'Snow', 'description': 'light snow', 'icon': '13d'}], 'clouds': {'all': 100}, 'wind': {'speed': 0.9, 'deg': 28, 'gust': 1.44}, 'visibility': 105, 'pop': 1, 'snow': {'3h': 1.39}, 'sys': {'pod': 'd'}, 'dt_txt': '2023-12-08 09:00:00'}, {'dt': 1702036800, 'main': {'temp': 271.16, 'feels_like': 271.16, 'temp_min': 271.16, 'temp_max': 271.16, 'pressure': 1013, 'sea_level': 1013, 'grnd_level': 994, 'humidity': 97, 'temp_kf': 0}, 'weather': [{'id': 601, 'main': 'Snow', 'description': 'snow', 'icon': '13d'}], 'clouds': {'all': 100}, 'wind': {'speed': 0.96, 'deg': 67, 'gust': 1.74}, 'visibility': 139, 'pop': 1, 'snow': {'3h': 1.87}, 'sys': {'pod': 'd'}, 'dt_txt': '2023-12-08 12:00:00'}, {'dt': 1702047600, 'main': {'temp': 271.37, 'feels_like': 271.37, 'temp_min': 271.37, 'temp_max': 271.37, 'pressure': 1013, 'sea_level': 1013, 'grnd_level': 994, 'humidity': 98, 'temp_kf': 0}, 'weather': [{'id': 600, 'main': 'Snow', 'description': 'light snow', 'icon': '13n'}], 'clouds': {'all': 100}, 'wind': {'speed': 0.89, 'deg': 66, 'gust': 1.83}, 'visibility': 160, 'pop': 0.99, 'snow': {'3h': 1.01}, 'sys': {'pod': 'n'}, 'dt_txt': '2023-12-08 15:00:00'}, {'dt': 1702058400, 'main': {'temp': 272.45, 'feels_like': 272.45, 'temp_min': 272.45, 'temp_max': 272.45, 'pressure': 1013, 'sea_level': 1013, 'grnd_level': 994, 'humidity': 98, 'temp_kf': 0}, 'weather': [{'id': 600, 'main': 'Snow', 'description': 'light snow', 'icon': '13n'}], 'clouds': {'all': 100}, 'wind': {'speed': 1.29, 'deg': 100, 'gust': 3.45}, 'visibility': 173, 'pop': 0.99, 'snow': {'3h': 0.82}, 'sys': {'pod': 'n'}, 'dt_txt': '2023-12-08 18:00:00'}, {'dt': 1702069200, 'main': {'temp': 272.85, 'feels_like': 272.85, 'temp_min': 272.85, 'temp_max': 272.85, 'pressure': 1014, 'sea_level': 1014, 'grnd_level': 995, 'humidity': 99, 'temp_kf': 0}, 'weather': [{'id': 600, 'main': 'Snow', 'description': 'light snow', 'icon': '13n'}], 'clouds': {'all': 100}, 'wind': {'speed': 1.28, 'deg': 102, 'gust': 2.92}, 'visibility': 111, 'pop': 1, 'snow': {'3h': 1.19}, 'sys': {'pod': 'n'}, 'dt_txt': '2023-12-08 21:00:00'}, {'dt': 1702080000, 'main': {'temp': 272.99, 'feels_like': 272.99, 'temp_min': 272.99, 'temp_max': 272.99, 'pressure': 1014, 'sea_level': 1014, 'grnd_level': 995, 'humidity': 99, 'temp_kf': 0}, 'weather': [{'id': 600, 'main': 'Snow', 'description': 'light snow', 'icon': '13n'}], 'clouds': {'all': 100}, 'wind': {'speed': 1.17, 'deg': 94, 'gust': 3.01}, 'visibility': 126, 'pop': 1, 'snow': {'3h': 0.92}, 'sys': {'pod': 'n'}, 'dt_txt': '2023-12-09 00:00:00'}, {'dt': 1702090800, 'main': {'temp': 273.33, 'feels_like': 273.33, 'temp_min': 273.33, 'temp_max': 273.33, 'pressure': 1014, 'sea_level': 1014, 'grnd_level': 995, 'humidity': 99, 'temp_kf': 0}, 'weather': [{'id': 600, 'main': 'Snow', 'description': 'light snow', 'icon': '13n'}], 'clouds': {'all': 100}, 'wind': {'speed': 1.13, 'deg': 110, 'gust': 5.48}, 'visibility': 55, 'pop': 0.98, 'snow': {'3h': 1.22}, 'sys': {'pod': 'n'}, 'dt_txt': '2023-12-09 03:00:00'}, {'dt': 1702101600, 'main': {'temp': 273.56, 'feels_like': 273.56, 'temp_min': 273.56, 'temp_max': 273.56, 'pressure': 1014, 'sea_level': 1014, 'grnd_level': 995, 'humidity': 99, 'temp_kf': 0}, 'weather': [{'id': 601, 'main': 'Snow', 'description': 'snow', 'icon': '13n'}], 'clouds': {'all': 100}, 'wind': {'speed': 1, 'deg': 101, 'gust': 3.02}, 'visibility': 69, 'pop': 1, 'snow': {'3h': 2.33}, 'sys': {'pod': 'n'}, 'dt_txt': '2023-12-09 06:00:00'}], 'city': {'id': 3144113, 'name': 'Noresund', 'coord': {'lat': 60.1803, 'lon': 9.6231}, 'country': 'NO', 'population': 1000, 'timezone': 3600, 'sunrise': 1701676989, 'sunset': 1701699618}}\""
      ]
     },
     "execution_count": 15,
     "metadata": {},
     "output_type": "execute_result"
    }
   ],
   "source": [
    "# Inspect JSON file\n",
    "forecast.__str__()"
   ]
  },
  {
   "cell_type": "markdown",
   "metadata": {
    "slideshow": {
     "slide_type": "slide"
    }
   },
   "source": [
    "## Raw JSON\n",
    "- A simple, but not very efficient way of storing JSON data is to treat it as a text and save it directly to the database.  \n",
    "- More efficient, with regard to transfer, is to compress the JSON data to a blob first.\n",
    "    - Compression is automatic."
   ]
  },
  {
   "cell_type": "code",
   "execution_count": 16,
   "metadata": {
    "slideshow": {
     "slide_type": "-"
    }
   },
   "outputs": [
    {
     "data": {
      "text/plain": [
       "<cassandra.cluster.ResultSet at 0x109c82050>"
      ]
     },
     "execution_count": 16,
     "metadata": {},
     "output_type": "execute_result"
    }
   ],
   "source": [
    "# Create a new table which treats the whole JSON as a blob, using the city id and the first dt as keys\n",
    "session.set_keyspace('my_first_keyspace')\n",
    "session.execute(\"DROP TABLE IF EXISTS my_first_keyspace.forecast_table;\")\n",
    "session.execute(\"CREATE TABLE IF NOT EXISTS forecast_table (city_id int, dt int, forecast blob, PRIMARY KEY(city_id, dt));\")"
   ]
  },
  {
   "cell_type": "markdown",
   "metadata": {
    "slideshow": {
     "slide_type": "slide"
    }
   },
   "source": [
    "### Insert the forecast data into the table as text blob"
   ]
  },
  {
   "cell_type": "code",
   "execution_count": 17,
   "metadata": {
    "slideshow": {
     "slide_type": "-"
    }
   },
   "outputs": [
    {
     "data": {
      "text/plain": [
       "<cassandra.cluster.ResultSet at 0x105f79c90>"
      ]
     },
     "execution_count": 17,
     "metadata": {},
     "output_type": "execute_result"
    }
   ],
   "source": [
    "session.execute(\"INSERT INTO forecast_table (city_id, dt, forecast) VALUES (%s, %s, textAsBlob(%s));\", (forecast['city']['id'], forecast['list'][0]['dt'], forecast.__str__()))"
   ]
  },
  {
   "cell_type": "code",
   "execution_count": 18,
   "metadata": {
    "slideshow": {
     "slide_type": "slide"
    }
   },
   "outputs": [
    {
     "name": "stdout",
     "output_type": "stream",
     "text": [
      "Row(city_id=3144113, dt=1701680400, forecast=b\"{'cod': '200', 'message': 0, 'cnt': 40, 'list': [{'dt': 1701680400, 'main': {'temp': 260.46, 'feels_like': 257.14, 'temp_min': 260.46, 'temp_max': 260.46, 'pressure': 1021, 'sea_level': 1021, 'grnd_level': 1001, 'humidity': 94, 'temp_kf': 0}, 'weather': [{'id': 801, 'main': 'Clouds', 'description': 'few clouds', 'icon': '02d'}], 'clouds': {'all': 23}, 'wind': {'speed': 1.41, 'deg': 315, 'gust': 1.19}, 'visibility': 10000, 'pop': 0, 'sys': {'pod': 'd'}, 'dt_txt': '2023-12-04 09:00:00'}, {'dt': 1701691200, 'main': {'temp': 261.86, 'feels_like': 261.86, 'temp_min': 261.86, 'temp_max': 264.67, 'pressure': 1020, 'sea_level': 1020, 'grnd_level': 1000, 'humidity': 92, 'temp_kf': -2.81}, 'weather': [{'id': 801, 'main': 'Clouds', 'description': 'few clouds', 'icon': '02d'}], 'clouds': {'all': 21}, 'wind': {'speed': 0.34, 'deg': 323, 'gust': 0.46}, 'visibility': 10000, 'pop': 0, 'sys': {'pod': 'd'}, 'dt_txt': '2023-12-04 12:00:00'}, {'dt': 1701702000, 'main': {'temp': 260.65, 'feels_like': 257.05, 'temp_min': 260.65, 'temp_max': 260.74, 'pressure': 1020, 'sea_level': 1020, 'grnd_level': 999, 'humidity': 95, 'temp_kf': -0.09}, 'weather': [{'id': 801, 'main': 'Clouds', 'description': 'few clouds', 'icon': '02n'}], 'clouds': {'all': 13}, 'wind': {'speed': 1.54, 'deg': 314, 'gust': 1.28}, 'visibility': 10000, 'pop': 0, 'sys': {'pod': 'n'}, 'dt_txt': '2023-12-04 15:00:00'}, {'dt': 1701712800, 'main': {'temp': 260.11, 'feels_like': 256.11, 'temp_min': 260.11, 'temp_max': 260.11, 'pressure': 1019, 'sea_level': 1019, 'grnd_level': 999, 'humidity': 94, 'temp_kf': 0}, 'weather': [{'id': 801, 'main': 'Clouds', 'description': 'few clouds', 'icon': '02n'}], 'clouds': {'all': 11}, 'wind': {'speed': 1.69, 'deg': 317, 'gust': 1.38}, 'visibility': 10000, 'pop': 0, 'sys': {'pod': 'n'}, 'dt_txt': '2023-12-04 18:00:00'}, {'dt': 1701723600, 'main': {'temp': 259.87, 'feels_like': 255.92, 'temp_min': 259.87, 'temp_max': 259.87, 'pressure': 1020, 'sea_level': 1020, 'grnd_level': 1000, 'humidity': 93, 'temp_kf': 0}, 'weather': [{'id': 801, 'main': 'Clouds', 'description': 'few clouds', 'icon': '02n'}], 'clouds': {'all': 12}, 'wind': {'speed': 1.65, 'deg': 314, 'gust': 1.33}, 'visibility': 10000, 'pop': 0, 'sys': {'pod': 'n'}, 'dt_txt': '2023-12-04 21:00:00'}, {'dt': 1701734400, 'main': {'temp': 259.69, 'feels_like': 255.6, 'temp_min': 259.69, 'temp_max': 259.69, 'pressure': 1020, 'sea_level': 1020, 'grnd_level': 1000, 'humidity': 93, 'temp_kf': 0}, 'weather': [{'id': 801, 'main': 'Clouds', 'description': 'few clouds', 'icon': '02n'}], 'clouds': {'all': 11}, 'wind': {'speed': 1.7, 'deg': 317, 'gust': 1.42}, 'visibility': 10000, 'pop': 0, 'sys': {'pod': 'n'}, 'dt_txt': '2023-12-05 00:00:00'}, {'dt': 1701745200, 'main': {'temp': 259.47, 'feels_like': 255.39, 'temp_min': 259.47, 'temp_max': 259.47, 'pressure': 1020, 'sea_level': 1020, 'grnd_level': 1000, 'humidity': 93, 'temp_kf': 0}, 'weather': [{'id': 800, 'main': 'Clear', 'description': 'clear sky', 'icon': '01n'}], 'clouds': {'all': 8}, 'wind': {'speed': 1.68, 'deg': 317, 'gust': 1.33}, 'visibility': 10000, 'pop': 0, 'sys': {'pod': 'n'}, 'dt_txt': '2023-12-05 03:00:00'}, {'dt': 1701756000, 'main': {'temp': 259.35, 'feels_like': 255.28, 'temp_min': 259.35, 'temp_max': 259.35, 'pressure': 1020, 'sea_level': 1020, 'grnd_level': 1000, 'humidity': 92, 'temp_kf': 0}, 'weather': [{'id': 800, 'main': 'Clear', 'description': 'clear sky', 'icon': '01n'}], 'clouds': {'all': 7}, 'wind': {'speed': 1.67, 'deg': 318, 'gust': 1.79}, 'visibility': 10000, 'pop': 0, 'sys': {'pod': 'n'}, 'dt_txt': '2023-12-05 06:00:00'}, {'dt': 1701766800, 'main': {'temp': 259.94, 'feels_like': 256.08, 'temp_min': 259.94, 'temp_max': 259.94, 'pressure': 1021, 'sea_level': 1021, 'grnd_level': 1001, 'humidity': 91, 'temp_kf': 0}, 'weather': [{'id': 800, 'main': 'Clear', 'description': 'clear sky', 'icon': '01d'}], 'clouds': {'all': 8}, 'wind': {'speed': 1.61, 'deg': 318, 'gust': 1.71}, 'visibility': 10000, 'pop': 0, 'sys': {'pod': 'd'}, 'dt_txt': '2023-12-05 09:00:00'}, {'dt': 1701777600, 'main': {'temp': 263.91, 'feels_like': 263.91, 'temp_min': 263.91, 'temp_max': 263.91, 'pressure': 1020, 'sea_level': 1020, 'grnd_level': 1000, 'humidity': 87, 'temp_kf': 0}, 'weather': [{'id': 800, 'main': 'Clear', 'description': 'clear sky', 'icon': '01d'}], 'clouds': {'all': 8}, 'wind': {'speed': 0.62, 'deg': 346, 'gust': 0.69}, 'visibility': 10000, 'pop': 0, 'sys': {'pod': 'd'}, 'dt_txt': '2023-12-05 12:00:00'}, {'dt': 1701788400, 'main': {'temp': 260.02, 'feels_like': 256.05, 'temp_min': 260.02, 'temp_max': 260.02, 'pressure': 1021, 'sea_level': 1021, 'grnd_level': 1001, 'humidity': 93, 'temp_kf': 0}, 'weather': [{'id': 800, 'main': 'Clear', 'description': 'clear sky', 'icon': '01n'}], 'clouds': {'all': 10}, 'wind': {'speed': 1.67, 'deg': 319, 'gust': 1.32}, 'visibility': 10000, 'pop': 0, 'sys': {'pod': 'n'}, 'dt_txt': '2023-12-05 15:00:00'}, {'dt': 1701799200, 'main': {'temp': 259.45, 'feels_like': 255.2, 'temp_min': 259.45, 'temp_max': 259.45, 'pressure': 1022, 'sea_level': 1022, 'grnd_level': 1002, 'humidity': 92, 'temp_kf': 0}, 'weather': [{'id': 801, 'main': 'Clouds', 'description': 'few clouds', 'icon': '02n'}], 'clouds': {'all': 15}, 'wind': {'speed': 1.76, 'deg': 316, 'gust': 1.4}, 'visibility': 10000, 'pop': 0, 'sys': {'pod': 'n'}, 'dt_txt': '2023-12-05 18:00:00'}, {'dt': 1701810000, 'main': {'temp': 259.1, 'feels_like': 254.95, 'temp_min': 259.1, 'temp_max': 259.1, 'pressure': 1023, 'sea_level': 1023, 'grnd_level': 1003, 'humidity': 93, 'temp_kf': 0}, 'weather': [{'id': 803, 'main': 'Clouds', 'description': 'broken clouds', 'icon': '04n'}], 'clouds': {'all': 51}, 'wind': {'speed': 1.69, 'deg': 320, 'gust': 1.38}, 'visibility': 10000, 'pop': 0, 'sys': {'pod': 'n'}, 'dt_txt': '2023-12-05 21:00:00'}, {'dt': 1701820800, 'main': {'temp': 259.51, 'feels_like': 255.57, 'temp_min': 259.51, 'temp_max': 259.51, 'pressure': 1023, 'sea_level': 1023, 'grnd_level': 1003, 'humidity': 92, 'temp_kf': 0}, 'weather': [{'id': 803, 'main': 'Clouds', 'description': 'broken clouds', 'icon': '04n'}], 'clouds': {'all': 62}, 'wind': {'speed': 1.62, 'deg': 322, 'gust': 1.33}, 'visibility': 10000, 'pop': 0, 'sys': {'pod': 'n'}, 'dt_txt': '2023-12-06 00:00:00'}, {'dt': 1701831600, 'main': {'temp': 260.94, 'feels_like': 257.75, 'temp_min': 260.94, 'temp_max': 260.94, 'pressure': 1022, 'sea_level': 1022, 'grnd_level': 1002, 'humidity': 93, 'temp_kf': 0}, 'weather': [{'id': 804, 'main': 'Clouds', 'description': 'overcast clouds', 'icon': '04n'}], 'clouds': {'all': 96}, 'wind': {'speed': 1.38, 'deg': 331, 'gust': 1.23}, 'visibility': 10000, 'pop': 0, 'sys': {'pod': 'n'}, 'dt_txt': '2023-12-06 03:00:00'}, {'dt': 1701842400, 'main': {'temp': 262.86, 'feels_like': 262.86, 'temp_min': 262.86, 'temp_max': 262.86, 'pressure': 1022, 'sea_level': 1022, 'grnd_level': 1002, 'humidity': 94, 'temp_kf': 0}, 'weather': [{'id': 804, 'main': 'Clouds', 'description': 'overcast clouds', 'icon': '04n'}], 'clouds': {'all': 98}, 'wind': {'speed': 0.94, 'deg': 357, 'gust': 1}, 'visibility': 10000, 'pop': 0, 'sys': {'pod': 'n'}, 'dt_txt': '2023-12-06 06:00:00'}, {'dt': 1701853200, 'main': {'temp': 264.48, 'feels_like': 264.48, 'temp_min': 264.48, 'temp_max': 264.48, 'pressure': 1023, 'sea_level': 1023, 'grnd_level': 1003, 'humidity': 94, 'temp_kf': 0}, 'weather': [{'id': 804, 'main': 'Clouds', 'description': 'overcast clouds', 'icon': '04d'}], 'clouds': {'all': 100}, 'wind': {'speed': 0.65, 'deg': 35, 'gust': 0.92}, 'visibility': 908, 'pop': 0.06, 'sys': {'pod': 'd'}, 'dt_txt': '2023-12-06 09:00:00'}, {'dt': 1701864000, 'main': {'temp': 266.21, 'feels_like': 266.21, 'temp_min': 266.21, 'temp_max': 266.21, 'pressure': 1022, 'sea_level': 1022, 'grnd_level': 1002, 'humidity': 94, 'temp_kf': 0}, 'weather': [{'id': 600, 'main': 'Snow', 'description': 'light snow', 'icon': '13d'}], 'clouds': {'all': 100}, 'wind': {'speed': 0.65, 'deg': 71, 'gust': 0.84}, 'visibility': 235, 'pop': 0.26, 'snow': {'3h': 0.36}, 'sys': {'pod': 'd'}, 'dt_txt': '2023-12-06 12:00:00'}, {'dt': 1701874800, 'main': {'temp': 266.24, 'feels_like': 266.24, 'temp_min': 266.24, 'temp_max': 266.24, 'pressure': 1022, 'sea_level': 1022, 'grnd_level': 1003, 'humidity': 96, 'temp_kf': 0}, 'weather': [{'id': 600, 'main': 'Snow', 'description': 'light snow', 'icon': '13n'}], 'clouds': {'all': 100}, 'wind': {'speed': 0.67, 'deg': 47, 'gust': 0.93}, 'visibility': 316, 'pop': 0.56, 'snow': {'3h': 0.41}, 'sys': {'pod': 'n'}, 'dt_txt': '2023-12-06 15:00:00'}, {'dt': 1701885600, 'main': {'temp': 265.78, 'feels_like': 265.78, 'temp_min': 265.78, 'temp_max': 265.78, 'pressure': 1023, 'sea_level': 1023, 'grnd_level': 1003, 'humidity': 97, 'temp_kf': 0}, 'weather': [{'id': 600, 'main': 'Snow', 'description': 'light snow', 'icon': '13n'}], 'clouds': {'all': 100}, 'wind': {'speed': 0.89, 'deg': 14, 'gust': 1.22}, 'visibility': 325, 'pop': 0.45, 'snow': {'3h': 0.26}, 'sys': {'pod': 'n'}, 'dt_txt': '2023-12-06 18:00:00'}, {'dt': 1701896400, 'main': {'temp': 265.02, 'feels_like': 265.02, 'temp_min': 265.02, 'temp_max': 265.02, 'pressure': 1024, 'sea_level': 1024, 'grnd_level': 1004, 'humidity': 96, 'temp_kf': 0}, 'weather': [{'id': 600, 'main': 'Snow', 'description': 'light snow', 'icon': '13n'}], 'clouds': {'all': 98}, 'wind': {'speed': 1.3, 'deg': 354, 'gust': 1.84}, 'visibility': 1068, 'pop': 0.25, 'snow': {'3h': 0.26}, 'sys': {'pod': 'n'}, 'dt_txt': '2023-12-06 21:00:00'}, {'dt': 1701907200, 'main': {'temp': 263.48, 'feels_like': 259.91, 'temp_min': 263.48, 'temp_max': 263.48, 'pressure': 1024, 'sea_level': 1024, 'grnd_level': 1004, 'humidity': 96, 'temp_kf': 0}, 'weather': [{'id': 804, 'main': 'Clouds', 'description': 'overcast clouds', 'icon': '04n'}], 'clouds': {'all': 94}, 'wind': {'speed': 1.73, 'deg': 338, 'gust': 2.26}, 'visibility': 3019, 'pop': 0.04, 'sys': {'pod': 'n'}, 'dt_txt': '2023-12-07 00:00:00'}, {'dt': 1701918000, 'main': {'temp': 263.5, 'feels_like': 260.07, 'temp_min': 263.5, 'temp_max': 263.5, 'pressure': 1024, 'sea_level': 1024, 'grnd_level': 1005, 'humidity': 95, 'temp_kf': 0}, 'weather': [{'id': 804, 'main': 'Clouds', 'description': 'overcast clouds', 'icon': '04n'}], 'clouds': {'all': 94}, 'wind': {'speed': 1.66, 'deg': 332, 'gust': 2.25}, 'visibility': 2626, 'pop': 0, 'sys': {'pod': 'n'}, 'dt_txt': '2023-12-07 03:00:00'}, {'dt': 1701928800, 'main': {'temp': 261.44, 'feels_like': 257.16, 'temp_min': 261.44, 'temp_max': 261.44, 'pressure': 1025, 'sea_level': 1025, 'grnd_level': 1005, 'humidity': 96, 'temp_kf': 0}, 'weather': [{'id': 804, 'main': 'Clouds', 'description': 'overcast clouds', 'icon': '04n'}], 'clouds': {'all': 89}, 'wind': {'speed': 1.94, 'deg': 335, 'gust': 2.34}, 'visibility': 10000, 'pop': 0, 'sys': {'pod': 'n'}, 'dt_txt': '2023-12-07 06:00:00'}, {'dt': 1701939600, 'main': {'temp': 262.05, 'feels_like': 258.24, 'temp_min': 262.05, 'temp_max': 262.05, 'pressure': 1025, 'sea_level': 1025, 'grnd_level': 1005, 'humidity': 95, 'temp_kf': 0}, 'weather': [{'id': 804, 'main': 'Clouds', 'description': 'overcast clouds', 'icon': '04d'}], 'clouds': {'all': 87}, 'wind': {'speed': 1.74, 'deg': 327, 'gust': 2.16}, 'visibility': 2402, 'pop': 0, 'sys': {'pod': 'd'}, 'dt_txt': '2023-12-07 09:00:00'}, {'dt': 1701950400, 'main': {'temp': 266.16, 'feels_like': 266.16, 'temp_min': 266.16, 'temp_max': 266.16, 'pressure': 1024, 'sea_level': 1024, 'grnd_level': 1004, 'humidity': 93, 'temp_kf': 0}, 'weather': [{'id': 804, 'main': 'Clouds', 'description': 'overcast clouds', 'icon': '04d'}], 'clouds': {'all': 93}, 'wind': {'speed': 0.93, 'deg': 15, 'gust': 1.45}, 'visibility': 1200, 'pop': 0, 'sys': {'pod': 'd'}, 'dt_txt': '2023-12-07 12:00:00'}, {'dt': 1701961200, 'main': {'temp': 265.05, 'feels_like': 265.05, 'temp_min': 265.05, 'temp_max': 265.05, 'pressure': 1024, 'sea_level': 1024, 'grnd_level': 1004, 'humidity': 97, 'temp_kf': 0}, 'weather': [{'id': 600, 'main': 'Snow', 'description': 'light snow', 'icon': '13n'}], 'clouds': {'all': 100}, 'wind': {'speed': 0.98, 'deg': 359, 'gust': 0.91}, 'visibility': 462, 'pop': 0.23, 'snow': {'3h': 0.14}, 'sys': {'pod': 'n'}, 'dt_txt': '2023-12-07 15:00:00'}, {'dt': 1701972000, 'main': {'temp': 265.04, 'feels_like': 265.04, 'temp_min': 265.04, 'temp_max': 265.04, 'pressure': 1023, 'sea_level': 1023, 'grnd_level': 1003, 'humidity': 97, 'temp_kf': 0}, 'weather': [{'id': 600, 'main': 'Snow', 'description': 'light snow', 'icon': '13n'}], 'clouds': {'all': 100}, 'wind': {'speed': 1.06, 'deg': 9, 'gust': 1.02}, 'visibility': 249, 'pop': 0.31, 'snow': {'3h': 0.34}, 'sys': {'pod': 'n'}, 'dt_txt': '2023-12-07 18:00:00'}, {'dt': 1701982800, 'main': {'temp': 266.11, 'feels_like': 266.11, 'temp_min': 266.11, 'temp_max': 266.11, 'pressure': 1021, 'sea_level': 1021, 'grnd_level': 1002, 'humidity': 96, 'temp_kf': 0}, 'weather': [{'id': 600, 'main': 'Snow', 'description': 'light snow', 'icon': '13n'}], 'clouds': {'all': 100}, 'wind': {'speed': 0.77, 'deg': 48, 'gust': 1.04}, 'visibility': 203, 'pop': 0.91, 'snow': {'3h': 0.53}, 'sys': {'pod': 'n'}, 'dt_txt': '2023-12-07 21:00:00'}, {'dt': 1701993600, 'main': {'temp': 266.63, 'feels_like': 266.63, 'temp_min': 266.63, 'temp_max': 266.63, 'pressure': 1020, 'sea_level': 1020, 'grnd_level': 1001, 'humidity': 96, 'temp_kf': 0}, 'weather': [{'id': 600, 'main': 'Snow', 'description': 'light snow', 'icon': '13n'}], 'clouds': {'all': 100}, 'wind': {'speed': 0.94, 'deg': 48, 'gust': 1.3}, 'visibility': 133, 'pop': 0.96, 'snow': {'3h': 0.76}, 'sys': {'pod': 'n'}, 'dt_txt': '2023-12-08 00:00:00'}, {'dt': 1702004400, 'main': {'temp': 267.06, 'feels_like': 267.06, 'temp_min': 267.06, 'temp_max': 267.06, 'pressure': 1018, 'sea_level': 1018, 'grnd_level': 998, 'humidity': 96, 'temp_kf': 0}, 'weather': [{'id': 600, 'main': 'Snow', 'description': 'light snow', 'icon': '13n'}], 'clouds': {'all': 100}, 'wind': {'speed': 1.15, 'deg': 46, 'gust': 1.7}, 'visibility': 122, 'pop': 1, 'snow': {'3h': 0.95}, 'sys': {'pod': 'n'}, 'dt_txt': '2023-12-08 03:00:00'}, {'dt': 1702015200, 'main': {'temp': 267.86, 'feels_like': 267.86, 'temp_min': 267.86, 'temp_max': 267.86, 'pressure': 1016, 'sea_level': 1016, 'grnd_level': 996, 'humidity': 96, 'temp_kf': 0}, 'weather': [{'id': 600, 'main': 'Snow', 'description': 'light snow', 'icon': '13n'}], 'clouds': {'all': 100}, 'wind': {'speed': 1.1, 'deg': 35, 'gust': 1.76}, 'visibility': 112, 'pop': 1, 'snow': {'3h': 1.23}, 'sys': {'pod': 'n'}, 'dt_txt': '2023-12-08 06:00:00'}, {'dt': 1702026000, 'main': {'temp': 269.04, 'feels_like': 269.04, 'temp_min': 269.04, 'temp_max': 269.04, 'pressure': 1015, 'sea_level': 1015, 'grnd_level': 996, 'humidity': 96, 'temp_kf': 0}, 'weather': [{'id': 600, 'main': 'Snow', 'description': 'light snow', 'icon': '13d'}], 'clouds': {'all': 100}, 'wind': {'speed': 0.9, 'deg': 28, 'gust': 1.44}, 'visibility': 105, 'pop': 1, 'snow': {'3h': 1.39}, 'sys': {'pod': 'd'}, 'dt_txt': '2023-12-08 09:00:00'}, {'dt': 1702036800, 'main': {'temp': 271.16, 'feels_like': 271.16, 'temp_min': 271.16, 'temp_max': 271.16, 'pressure': 1013, 'sea_level': 1013, 'grnd_level': 994, 'humidity': 97, 'temp_kf': 0}, 'weather': [{'id': 601, 'main': 'Snow', 'description': 'snow', 'icon': '13d'}], 'clouds': {'all': 100}, 'wind': {'speed': 0.96, 'deg': 67, 'gust': 1.74}, 'visibility': 139, 'pop': 1, 'snow': {'3h': 1.87}, 'sys': {'pod': 'd'}, 'dt_txt': '2023-12-08 12:00:00'}, {'dt': 1702047600, 'main': {'temp': 271.37, 'feels_like': 271.37, 'temp_min': 271.37, 'temp_max': 271.37, 'pressure': 1013, 'sea_level': 1013, 'grnd_level': 994, 'humidity': 98, 'temp_kf': 0}, 'weather': [{'id': 600, 'main': 'Snow', 'description': 'light snow', 'icon': '13n'}], 'clouds': {'all': 100}, 'wind': {'speed': 0.89, 'deg': 66, 'gust': 1.83}, 'visibility': 160, 'pop': 0.99, 'snow': {'3h': 1.01}, 'sys': {'pod': 'n'}, 'dt_txt': '2023-12-08 15:00:00'}, {'dt': 1702058400, 'main': {'temp': 272.45, 'feels_like': 272.45, 'temp_min': 272.45, 'temp_max': 272.45, 'pressure': 1013, 'sea_level': 1013, 'grnd_level': 994, 'humidity': 98, 'temp_kf': 0}, 'weather': [{'id': 600, 'main': 'Snow', 'description': 'light snow', 'icon': '13n'}], 'clouds': {'all': 100}, 'wind': {'speed': 1.29, 'deg': 100, 'gust': 3.45}, 'visibility': 173, 'pop': 0.99, 'snow': {'3h': 0.82}, 'sys': {'pod': 'n'}, 'dt_txt': '2023-12-08 18:00:00'}, {'dt': 1702069200, 'main': {'temp': 272.85, 'feels_like': 272.85, 'temp_min': 272.85, 'temp_max': 272.85, 'pressure': 1014, 'sea_level': 1014, 'grnd_level': 995, 'humidity': 99, 'temp_kf': 0}, 'weather': [{'id': 600, 'main': 'Snow', 'description': 'light snow', 'icon': '13n'}], 'clouds': {'all': 100}, 'wind': {'speed': 1.28, 'deg': 102, 'gust': 2.92}, 'visibility': 111, 'pop': 1, 'snow': {'3h': 1.19}, 'sys': {'pod': 'n'}, 'dt_txt': '2023-12-08 21:00:00'}, {'dt': 1702080000, 'main': {'temp': 272.99, 'feels_like': 272.99, 'temp_min': 272.99, 'temp_max': 272.99, 'pressure': 1014, 'sea_level': 1014, 'grnd_level': 995, 'humidity': 99, 'temp_kf': 0}, 'weather': [{'id': 600, 'main': 'Snow', 'description': 'light snow', 'icon': '13n'}], 'clouds': {'all': 100}, 'wind': {'speed': 1.17, 'deg': 94, 'gust': 3.01}, 'visibility': 126, 'pop': 1, 'snow': {'3h': 0.92}, 'sys': {'pod': 'n'}, 'dt_txt': '2023-12-09 00:00:00'}, {'dt': 1702090800, 'main': {'temp': 273.33, 'feels_like': 273.33, 'temp_min': 273.33, 'temp_max': 273.33, 'pressure': 1014, 'sea_level': 1014, 'grnd_level': 995, 'humidity': 99, 'temp_kf': 0}, 'weather': [{'id': 600, 'main': 'Snow', 'description': 'light snow', 'icon': '13n'}], 'clouds': {'all': 100}, 'wind': {'speed': 1.13, 'deg': 110, 'gust': 5.48}, 'visibility': 55, 'pop': 0.98, 'snow': {'3h': 1.22}, 'sys': {'pod': 'n'}, 'dt_txt': '2023-12-09 03:00:00'}, {'dt': 1702101600, 'main': {'temp': 273.56, 'feels_like': 273.56, 'temp_min': 273.56, 'temp_max': 273.56, 'pressure': 1014, 'sea_level': 1014, 'grnd_level': 995, 'humidity': 99, 'temp_kf': 0}, 'weather': [{'id': 601, 'main': 'Snow', 'description': 'snow', 'icon': '13n'}], 'clouds': {'all': 100}, 'wind': {'speed': 1, 'deg': 101, 'gust': 3.02}, 'visibility': 69, 'pop': 1, 'snow': {'3h': 2.33}, 'sys': {'pod': 'n'}, 'dt_txt': '2023-12-09 06:00:00'}], 'city': {'id': 3144113, 'name': 'Noresund', 'coord': {'lat': 60.1803, 'lon': 9.6231}, 'country': 'NO', 'population': 1000, 'timezone': 3600, 'sunrise': 1701676989, 'sunset': 1701699618}}\")\n"
     ]
    }
   ],
   "source": [
    "# Query the data\n",
    "forecast_rows = session.execute(\"SELECT * FROM forecast_table;\")\n",
    "print(forecast_rows.one()) # <- only one row"
   ]
  },
  {
   "cell_type": "markdown",
   "metadata": {
    "slideshow": {
     "slide_type": "slide"
    }
   },
   "source": [
    "```{seealso} Resources\n",
    ":class: tip\n",
    "- [Cassandra webpage](https://cassandra.apache.org/)\n",
    "- [Cassandra Docker file](https://hub.docker.com/_/cassandra)\n",
    "- [UUID functions](https://docs.datastax.com/en/cql-oss/3.3/cql/cql_reference/timeuuid_functions_r.html)\n",
    "- [YouTube: Cassandra in 100 seconds](https://youtu.be/ziq7FUKpCS8?si=WQUdkHFvaBmT0DBo) (2m:26s)\n",
    "- [YouTube: How to use Apache Cassandra in Python](https://youtu.be/qMauZqJH3ZM?si=yKGZ-5cld2BK396Y) (14m:50s)\n",
    "- [YouTube: Cassandra Database Crash Course](https://youtu.be/KZsVSfQVU4I?si=FBCi8qOfCirfVmZk) (19m:47s)\n",
    "```"
   ]
  }
 ],
 "metadata": {
  "celltoolbar": "Slideshow",
  "kernelspec": {
   "display_name": "Python 3 (ipykernel)",
   "language": "python",
   "name": "python3"
  },
  "language_info": {
   "codemirror_mode": {
    "name": "ipython",
    "version": 3
   },
   "file_extension": ".py",
   "mimetype": "text/x-python",
   "name": "python",
   "nbconvert_exporter": "python",
   "pygments_lexer": "ipython3",
   "version": "3.11.6"
  }
 },
 "nbformat": 4,
 "nbformat_minor": 2
}