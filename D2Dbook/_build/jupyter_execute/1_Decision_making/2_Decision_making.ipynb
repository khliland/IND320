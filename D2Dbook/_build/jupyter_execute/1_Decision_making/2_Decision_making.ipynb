{
 "cells": [
  {
   "cell_type": "markdown",
   "metadata": {
    "slideshow": {
     "slide_type": "slide"
    }
   },
   "source": [
    "# DDDM\n",
    "- We will only cover the basics of DDDM.\n",
    "- Many facets of \"Data to Decision\" can be placed under the DDDM umbrella."
   ]
  },
  {
   "cell_type": "markdown",
   "metadata": {
    "slideshow": {
     "slide_type": "slide"
    }
   },
   "source": [
    "## Data-Driven\n",
    "- Make informed decisions that are based on facts rather than intuition or guesswork, i.e., without bias or emotion.\n",
    "- [Clive Humby 2006](https://en.wikipedia.org/wiki/Clive_Humby) -\"Data is the new oil\" \n",
    "    - Big data\n",
    "    - Blindly collecting data and looking for patterns is not likely to result in long term profits and revolutionary discoveries."
   ]
  },
  {
   "cell_type": "markdown",
   "metadata": {
    "slideshow": {
     "slide_type": "slide"
    }
   },
   "source": [
    "### 1. Know your objectives\n",
    "- A well-rounded data analyst:\n",
    "    - Understands the business and the competitive market.\n",
    "    - Asks the right questions about the problems in the industry.\n",
    "    - Identifies and understands the problems thoroughly.\n",
    "    - Makes better inferences with data based on the foundational knowledge."
   ]
  },
  {
   "cell_type": "markdown",
   "metadata": {
    "slideshow": {
     "slide_type": "slide"
    }
   },
   "source": [
    "- Before collecting data, a data analyst should:\n",
    "    - Identify the business questions that need to be answered to achieve organizational goals.\n",
    "    - Determine the precise questions that need to be answered to inform the strategy.\n",
    "    - Streamline the data collection process and avoid wasting resources."
   ]
  },
  {
   "cell_type": "markdown",
   "metadata": {
    "slideshow": {
     "slide_type": "slide"
    }
   },
   "source": [
    "### 2. Find relevant data\n",
    "- __Identify the data sources__. This could include databases, web-driven feedback forms, social media, and other sources.\n",
    "- __Coordinate the data sources__. This may involve identifying common variables and ensuring that the data is in a consistent format.\n",
    "- __Consider the future use of the data__. Is it only needed for this project, or could it be used for other projects in the future? If so, you should develop a strategy to present the data in a way that is accessible in other scenarios.\n",
    "- In \"Data to Decision\" we will call this part __Data sources__."
   ]
  },
  {
   "cell_type": "markdown",
   "metadata": {
    "slideshow": {
     "slide_type": "slide"
    }
   },
   "source": [
    "### 3. Pre-process data\n",
    "- __Data cleaning is important:__ 80% of a data analyst's time is spent cleaning and organizing data, while only 20% is spent analyzing it. This shows that having clean data is essential for accurate analysis.\n",
    "- __Data cleaning is the process of preparing raw data for analysis.__ Data cleaning involves a variety of tasks, such as:\n",
    "    - Identifying and removing incorrect data\n",
    "    - Filling in missing data\n",
    "    - Formatting the data in a consistent way\n",
    "    - Standardizing the data"
   ]
  },
  {
   "cell_type": "markdown",
   "metadata": {
    "slideshow": {
     "slide_type": "slide"
    }
   },
   "source": [
    "- __To start data cleaning, build tables to organize and catalog the data:__ This will help you to better understand the data and identify any problems.\n",
    "Create a data dictionary: This is a table that catalogs each of your variables and translates them into what they mean to you in the context of this particular project.\n",
    "- In \"Data to Decision\" we will call this __Data quality__"
   ]
  },
  {
   "cell_type": "markdown",
   "metadata": {
    "slideshow": {
     "slide_type": "slide"
    }
   },
   "source": [
    "### 4. Analyse data\n",
    "- __Once you've cleaned the data, you can start to analyze it using statistical models.__ This involves building models to test the data and answer the business questions you identified earlier in the process.\n",
    "- __There are three different ways to present your findings:__\n",
    "    - __Descriptive information:__ This is just the facts.\n",
    "    - __Inferential information:__ This includes the facts, plus an interpretation of what those facts indicate in the context of a particular project.\n",
    "    - __Predictive information:__ This is an inference based on facts and advice for further action based on your reasoning."
   ]
  },
  {
   "cell_type": "markdown",
   "metadata": {
    "slideshow": {
     "slide_type": "slide"
    }
   },
   "source": [
    "- Clarifying how the information will be most effectively presented will help you remain organized when it comes time to interpret the data.\n",
    "- We will use graphics to condense data into interpretable information.\n",
    "- In \"Data to Decision\" we will call this __Machine Learning__"
   ]
  },
  {
   "cell_type": "markdown",
   "metadata": {
    "slideshow": {
     "slide_type": "slide"
    }
   },
   "source": [
    "### 5. Make decisions\n",
    "- Did the analysis:\n",
    "    - confirm suspicions?\n",
    "    - shed new light on previously accepted \"facts\"?\n",
    "    - find something deviating from expectations?\n",
    "    - reveal flaws or weeknesses?\n",
    "- In \"Data to Decision\" we might not make decisions ourselves, but we will perform __Deployment__"
   ]
  },
  {
   "cell_type": "markdown",
   "metadata": {
    "slideshow": {
     "slide_type": "slide"
    }
   },
   "source": [
    "## Data and decision making\n",
    "- Simon Jackson defines the following [Five flavours of decision making](https://medium.com/@drsimonj/five-flavours-of-decision-making-with-data-ae4d544f0d81):\n",
    "    - __Data-driven__: Commiting to a decision that will be taken from data before seing it. This means trusting that the DDDM pipeline is well designed and working.\n",
    "    - __Data-inspired__: Making decision after looking at data or visualisations, believing that you see trends, patterns or anomalies. This means you have used data, but haven't made your choices on testable assumptions but more vague notions."
   ]
  },
  {
   "cell_type": "markdown",
   "metadata": {
    "slideshow": {
     "slide_type": "slide"
    }
   },
   "source": [
    "- ...\n",
    "    - __Data-aspired__: Making decisions without data, but having a plan of collecting and analysing data at a later stage. This means you at least wish to collect data, but do not commit to changing your decision if data-based evidence comes at a later time.\n",
    "    - __Data-ignorant__: Making decisions without considering data. This means you either do not have data available, haven't been able to leverage data or go against the evidence found by analysis.\n",
    "    - __Data-tortured__: First making a decision, then looking through data until you find something that seems to support your case. This means you are biased by your own beliefs when looking at data, possibly grasping for straws. \"If you torture the data long enough, it will confess to anything\" ~ losely after Ronald Coase in the early 60's."
   ]
  },
  {
   "cell_type": "markdown",
   "metadata": {
    "slideshow": {
     "slide_type": "slide"
    }
   },
   "source": [
    "```{seealso} Resources\n",
    ":class: tip\n",
    "- [DDDM: A Primer for beginners](https://graduate.northeastern.edu/resources/data-driven-decision-making/) (Inspiration for this presentation)\n",
    "- [Five flavours of decision making](https://medium.com/@drsimonj/five-flavours-of-decision-making-with-data-ae4d544f0d81)\n",
    "- [Data-driven decision making: A step-by-step guide](https://asana.com/resources/data-driven-decision-making)\n",
    "- [Making Data-driven Decisions in Business | Google Data Analytics Certificate](https://youtu.be/EevYFzAqJ2M) (23m:41s)\n",
    "```"
   ]
  }
 ],
 "metadata": {
  "celltoolbar": "Slideshow",
  "kernelspec": {
   "display_name": "Python 3 (ipykernel)",
   "language": "python",
   "name": "python3"
  },
  "language_info": {
   "codemirror_mode": {
    "name": "ipython",
    "version": 3
   },
   "file_extension": ".py",
   "mimetype": "text/x-python",
   "name": "python",
   "nbconvert_exporter": "python",
   "pygments_lexer": "ipython3",
   "version": "3.11.6"
  }
 },
 "nbformat": 4,
 "nbformat_minor": 4
}