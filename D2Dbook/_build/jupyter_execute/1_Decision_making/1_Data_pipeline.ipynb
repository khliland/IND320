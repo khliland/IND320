{
 "cells": [
  {
   "cell_type": "markdown",
   "metadata": {
    "slideshow": {
     "slide_type": "slide"
    }
   },
   "source": [
    "# Data pipeline\n",
    "Depending on roles and mindset there are different ways to think of the data pipeline in a project or business. Some, possibly exaggerated/pre-concieved, viewpoints:"
   ]
  },
  {
   "cell_type": "markdown",
   "metadata": {
    "slideshow": {
     "slide_type": "fragment"
    }
   },
   "source": [
    "- _Researcher_: Concerned with the validity and accuracy of the data, as well as the methods used to collect and clean it.\n",
    "    - Ensure that the data is collected in a way that is representative of the population of interest.\n",
    "    - Clean the data to remove any errors or inconsistencies.\n",
    "    - Use appropriate statistical methods to analyze the data.\n",
    "    - Interpret the results of the analysis and draw conclusions."
   ]
  },
  {
   "cell_type": "markdown",
   "metadata": {
    "slideshow": {
     "slide_type": "slide"
    }
   },
   "source": [
    "- _Engineer_: Responsible for the design and implementation of the data pipeline. May also be involved in the maintenance and troubleshooting of the system.\n",
    "    - Design a data pipeline that is efficient and scalable.\n",
    "    - Implement the data pipeline using secure and reliable technologies.\n",
    "    - Monitor the data pipeline for performance and errors.\n",
    "    - Troubleshoot and fix problems with the data pipeline."
   ]
  },
  {
   "cell_type": "markdown",
   "metadata": {
    "slideshow": {
     "slide_type": "slide"
    }
   },
   "source": [
    "## In a business you might also have:\n",
    "- _Middle manager_: Responsible for overseeing the data pipeline and ensuring that it meets the needs of the organization. May also be involved in the budgeting and staffing of the data team.\n",
    "    - Set goals and priorities for the data pipeline.\n",
    "    - Allocate resources to the data team.\n",
    "    - Track the progress of the data pipeline.\n",
    "    - Communicate the status of the data pipeline to stakeholders."
   ]
  },
  {
   "cell_type": "markdown",
   "metadata": {
    "slideshow": {
     "slide_type": "fragment"
    }
   },
   "source": [
    "- _Consultant_: Brought in to provide expertise on specific aspects of the data pipeline, such as data collection, cleaning, or analysis.\n",
    "    - Provide advice on the best practices for collecting, cleaning, and analyzing data.\n",
    "    - Help to troubleshoot problems with the data pipeline.\n",
    "    - Train the data team on new technologies or methods."
   ]
  },
  {
   "cell_type": "markdown",
   "metadata": {
    "slideshow": {
     "slide_type": "slide"
    }
   },
   "source": [
    "- _CEO_: Ultimately responsible for the data pipeline and its impact on the organization. May not be directly involved in the day-to-day operations of the data team, but should have a high-level understanding of the data pipeline and its importance.\n",
    "    - Set the overall vision for the data pipeline.\n",
    "    - Ensure that the data pipeline is aligned with the strategic goals of the organization.\n",
    "    - Make decisions about the budget and staffing of the data team.\n",
    "    - Communicate the importance of data to the rest of the organization."
   ]
  },
  {
   "cell_type": "markdown",
   "metadata": {
    "slideshow": {
     "slide_type": "slide"
    }
   },
   "source": [
    "## Summary\n",
    "<img src=\"https://github.com/khliland/IND320/blob/main/D2Dbook/images/Data_pipeline.png?raw=TRUE\" width=\"700px\">  \n",
    "  \n",
    "- A form of summary is shown above.\n",
    "- This aligns well with [Data-Driven Decision Modelling](./2_Decision_making.ipynb).\n",
    "- The end result may be a [dashboard or report](./3_Dashboards_reports.ipynb) for monitoring, exploration, documentation, etc."
   ]
  },
  {
   "cell_type": "markdown",
   "metadata": {},
   "source": [
    "```{admonition} Exercise/discussion\n",
    ":class: tip\n",
    "- Which obstacles/hurdles/barriers could you envision for the different steps in the pipeline?\n",
    "- ... and for the pipeline as a whole?\n",
    "```"
   ]
  }
 ],
 "metadata": {
  "celltoolbar": "Slideshow",
  "kernelspec": {
   "display_name": "Python 3 (ipykernel)",
   "language": "python",
   "name": "python3"
  },
  "language_info": {
   "codemirror_mode": {
    "name": "ipython",
    "version": 3
   },
   "file_extension": ".py",
   "mimetype": "text/x-python",
   "name": "python",
   "nbconvert_exporter": "python",
   "pygments_lexer": "ipython3",
   "version": "3.11.6"
  }
 },
 "nbformat": 4,
 "nbformat_minor": 2
}