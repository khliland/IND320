{
 "cells": [
  {
   "cell_type": "markdown",
   "metadata": {
    "editable": true,
    "slideshow": {
     "slide_type": "slide"
    },
    "tags": []
   },
   "source": [
    "# SARIMAX\n",
    "- The (extended) ARIMA family of methods is too big to be properly explained in this course.\n",
    "    - At NMBU, the course DAT320 goes deeper and explains the data generating processes.\n",
    "    - An online book with videos: [Forecasting: Principles and Practice](https://otexts.com/fpp3/).\n",
    "- We therefore skip (almost) directly to the regression models (inspired by [phosgene89's GitHub page](https://phosgene89.github.io/sarima.html), except for their errors) and their usage.\n",
    "- But first we introduce a dataset and the concepts of stationarity and autocorrelation."
   ]
  },
  {
   "cell_type": "markdown",
   "metadata": {
    "editable": true,
    "slideshow": {
     "slide_type": "slide"
    },
    "tags": []
   },
   "source": [
    "__Stationarity:__\n",
    "- The distribution of the time series is independent of which part of the time series you look at.\n",
    "    - Trends, seasonality (cycles of fixed width) and changes in variance lead to non-stationarity.\n",
    "    - Differencing (first or second order discrete derivatives) can help.\n",
    "        - Seasonal differencing means the difference is not between neighbours but higher lags.\n",
    "- If the data is not stationary, pre-processing or modelling of the specific deviations from stationarity is needed."
   ]
  },
  {
   "cell_type": "markdown",
   "metadata": {
    "editable": true,
    "slideshow": {
     "slide_type": "slide"
    },
    "tags": []
   },
   "source": [
    "## Wholesale price index (WPI) data\n",
    "- We will illustrate some concepts and models using the WPI data."
   ]
  },
  {
   "cell_type": "code",
   "execution_count": 1,
   "metadata": {
    "editable": true,
    "slideshow": {
     "slide_type": "fragment"
    },
    "tags": []
   },
   "outputs": [
    {
     "data": {
      "text/html": [
       "<div>\n",
       "<style scoped>\n",
       "    .dataframe tbody tr th:only-of-type {\n",
       "        vertical-align: middle;\n",
       "    }\n",
       "\n",
       "    .dataframe tbody tr th {\n",
       "        vertical-align: top;\n",
       "    }\n",
       "\n",
       "    .dataframe thead th {\n",
       "        text-align: right;\n",
       "    }\n",
       "</style>\n",
       "<table border=\"1\" class=\"dataframe\">\n",
       "  <thead>\n",
       "    <tr style=\"text-align: right;\">\n",
       "      <th></th>\n",
       "      <th>wpi</th>\n",
       "      <th>t</th>\n",
       "      <th>ln_wpi</th>\n",
       "      <th>D.ln_wpi</th>\n",
       "    </tr>\n",
       "    <tr>\n",
       "      <th>t</th>\n",
       "      <th></th>\n",
       "      <th></th>\n",
       "      <th></th>\n",
       "      <th></th>\n",
       "    </tr>\n",
       "  </thead>\n",
       "  <tbody>\n",
       "    <tr>\n",
       "      <th>1960-01-01</th>\n",
       "      <td>30.700001</td>\n",
       "      <td>1960-01-01</td>\n",
       "      <td>3.424263</td>\n",
       "      <td>NaN</td>\n",
       "    </tr>\n",
       "    <tr>\n",
       "      <th>1960-04-01</th>\n",
       "      <td>30.799999</td>\n",
       "      <td>1960-04-01</td>\n",
       "      <td>3.427515</td>\n",
       "      <td>0.003252</td>\n",
       "    </tr>\n",
       "    <tr>\n",
       "      <th>1960-07-01</th>\n",
       "      <td>30.700001</td>\n",
       "      <td>1960-07-01</td>\n",
       "      <td>3.424263</td>\n",
       "      <td>-0.003252</td>\n",
       "    </tr>\n",
       "    <tr>\n",
       "      <th>1960-10-01</th>\n",
       "      <td>30.700001</td>\n",
       "      <td>1960-10-01</td>\n",
       "      <td>3.424263</td>\n",
       "      <td>0.000000</td>\n",
       "    </tr>\n",
       "    <tr>\n",
       "      <th>1961-01-01</th>\n",
       "      <td>30.799999</td>\n",
       "      <td>1961-01-01</td>\n",
       "      <td>3.427515</td>\n",
       "      <td>0.003252</td>\n",
       "    </tr>\n",
       "  </tbody>\n",
       "</table>\n",
       "</div>"
      ],
      "text/plain": [
       "                  wpi          t    ln_wpi  D.ln_wpi\n",
       "t                                                   \n",
       "1960-01-01  30.700001 1960-01-01  3.424263       NaN\n",
       "1960-04-01  30.799999 1960-04-01  3.427515  0.003252\n",
       "1960-07-01  30.700001 1960-07-01  3.424263 -0.003252\n",
       "1960-10-01  30.700001 1960-10-01  3.424263  0.000000\n",
       "1961-01-01  30.799999 1961-01-01  3.427515  0.003252"
      ]
     },
     "execution_count": 1,
     "metadata": {},
     "output_type": "execute_result"
    }
   ],
   "source": [
    "# Imports\n",
    "import numpy as np\n",
    "import pandas as pd\n",
    "import statsmodels.api as sm\n",
    "import matplotlib.pyplot as plt\n",
    "from datetime import datetime\n",
    "import requests\n",
    "from io import BytesIO\n",
    "\n",
    "# Load Wholesale price index (WPI) data\n",
    "wpi1 = requests.get('https://www.stata-press.com/data/r12/wpi1.dta').content\n",
    "data = pd.read_stata(BytesIO(wpi1))\n",
    "data.index = data.t\n",
    "data['ln_wpi'] = np.log(data['wpi'])\n",
    "data['D.ln_wpi'] = data['ln_wpi'].diff()\n",
    "# Set the frequency to Quarterly Start, year ending October\n",
    "data.index.freq=\"QS-OCT\"\n",
    "data.head()"
   ]
  },
  {
   "cell_type": "markdown",
   "metadata": {
    "editable": true,
    "slideshow": {
     "slide_type": "slide"
    },
    "tags": []
   },
   "source": [
    "## Autocorrelation\n",
    "- [Autocorrelation](https://en.wikipedia.org/wiki/Autocorrelation) is the correlation between a stationary timeseries and a lagged version of itself.\n",
    "    - This is a measure of the time dependence in the series, i.e., lack of independence.\n",
    "    - Can be used to indicate the appropriate lag in moving average (MA) models.\n",
    "- [Partial autocorrelation](https://en.wikipedia.org/wiki/Partial_autocorrelation_function) is the autocorrelation when controlling for (regressed on) all intermediate time lags.\n",
    "    - Can be used to indicate the appropriate lag in autogregressive (AR) models."
   ]
  },
  {
   "cell_type": "code",
   "execution_count": 2,
   "metadata": {
    "editable": true,
    "slideshow": {
     "slide_type": "slide"
    },
    "tags": []
   },
   "outputs": [
    {
     "data": {
      "image/png": "[encoded data removed]",
      "text/plain": [
       "<Figure size 1500x400 with 2 Axes>"
      ]
     },
     "metadata": {},
     "output_type": "display_data"
    }
   ],
   "source": [
    "# Autocorrelation and partial autocorrelation plots (raw data)\n",
    "fig, axes = plt.subplots(1, 2, figsize=(15,4))\n",
    "fig = sm.graphics.tsa.plot_acf(data.iloc[1:]['wpi'], lags=40, ax=axes[0])\n",
    "fig = sm.graphics.tsa.plot_pacf(data.iloc[1:]['wpi'], lags=40, ax=axes[1])"
   ]
  },
  {
   "cell_type": "code",
   "execution_count": 3,
   "metadata": {
    "editable": true,
    "slideshow": {
     "slide_type": "slide"
    },
    "tags": []
   },
   "outputs": [
    {
     "data": {
      "image/png": "[encoded data removed]",
      "text/plain": [
       "<Figure size 1200x300 with 2 Axes>"
      ]
     },
     "metadata": {},
     "output_type": "display_data"
    }
   ],
   "source": [
    "# Graph data\n",
    "fig, axes = plt.subplots(1, 2, figsize=(12,3))\n",
    "\n",
    "# Levels\n",
    "axes[0].plot(data.index._mpl_repr(), data['wpi'], '-')\n",
    "axes[0].set(title='US Wholesale Price Index')\n",
    "\n",
    "# Log difference (attempting to improve stationarity)\n",
    "axes[1].plot(data.index._mpl_repr(), data['D.ln_wpi'], '-')\n",
    "axes[1].hlines(0, data.index[0], data.index[-1], 'r')\n",
    "axes[1].set(title='US Wholesale Price Index - difference of logs');"
   ]
  },
  {
   "cell_type": "code",
   "execution_count": 4,
   "metadata": {
    "editable": true,
    "slideshow": {
     "slide_type": "slide"
    },
    "tags": []
   },
   "outputs": [
    {
     "data": {
      "image/png": "[encoded data removed]",
      "text/plain": [
       "<Figure size 1200x300 with 2 Axes>"
      ]
     },
     "metadata": {},
     "output_type": "display_data"
    }
   ],
   "source": [
    "# Autocorrelation and partial autocorrelation plots \n",
    "# after applying the logarithm and differencing\n",
    "fig, axes = plt.subplots(1, 2, figsize=(12,3))\n",
    "fig = sm.graphics.tsa.plot_acf(data.iloc[1:]['D.ln_wpi'], lags=40, ax=axes[0])\n",
    "fig = sm.graphics.tsa.plot_pacf(data.iloc[1:]['D.ln_wpi'], lags=40, ax=axes[1])"
   ]
  },
  {
   "cell_type": "markdown",
   "metadata": {
    "editable": true,
    "slideshow": {
     "slide_type": "slide"
    },
    "tags": []
   },
   "source": [
    "## Autoregressive models in Python\n",
    "- Using the [_statsmodels_](https://www.statsmodels.org/dev/generated/statsmodels.tsa.statespace.sarimax.SARIMAX.html) package, the most complex model is the starting point.\n",
    "- Setting the various parameters of $SARIMAX(p, d, q)(P, D, Q, s)$, we can obtain any of the below mentioned models.\n",
    "    - SARIMAX(endog, exog=None, order=(1, 0, 0), seasonal_order=(0, 0, 0, 0), trend=None, ...)\n",
    "- For integer values of $p/d/q/P/D/Q$, all lags up to the integer are included. For more fine-grained control, lists can be applied, e.g., [1,0,1] includes lags 1 and 3, but not 2.\n",
    "- There are also various other parameters, e.g., a trend (none, constant, linear, quadratic, polynomial)."
   ]
  },
  {
   "cell_type": "markdown",
   "metadata": {
    "slideshow": {
     "slide_type": "slide"
    },
    "tags": []
   },
   "source": [
    "## Lag operator\n",
    "- Back-shift $n$ time points, i.e., extracts the measurement $n$ time points before $t$.\n",
    "$$L^{n} y_{t} = y_{t-n}$$  \n",
    "- Combined with a vector of parameters $\\Psi$, we define a polynomial function\n",
    "$$\\Psi(L)^n y_t = y_t + \\psi_1 y_{t-1} + \\psi_2 y_{t-2} + ... + \\psi_n y_{t-n}$$\n",
    "- This will enable compact notation of the SARIMAX models, exchanging sums with the polynomial function."
   ]
  },
  {
   "cell_type": "markdown",
   "metadata": {
    "editable": true,
    "slideshow": {
     "slide_type": "slide"
    },
    "tags": []
   },
   "source": [
    "## AR - autoregressive models\n",
    "- For a (single variable) timeseries given by $\\{ y_{t} \\}$, we can specify the $AR(p)$ model as:\n",
    "  \n",
    "$$ y_{t} = \\theta_0 + \\sum\\limits_{i=1}^p \\theta_{i} y_{t-i} + \\epsilon_{t}$$\n",
    "  \n",
    "- i.e., the current time is a function of $p$ previous time points and a constant. \n",
    "- Here, $\\theta_0$ is a constant, $\\theta_{i}$ is the coefficient for the $p$-th time lag and $\\epsilon_{t}$ is the error. \n",
    "- This can be thought of as stacking subsets of a time series using a moving window and performing ordinary least squares on the resulting matrix/dataframe. \n",
    "    - In practice, the fitting is performed using maximum likelihood, so performing ordinary regression will not give exactly the same results.\n",
    "- Using the lag operator, $L^{n} y_{t} = y_{t-n}$, we can redefine the above equation in the form of a polynomial function, $\\Theta(L)^{p}$ (signs of coefficients will change) as:\n",
    "  \n",
    "$$ \\Theta(L)^{p} y_{t} = \\theta_0 + \\epsilon_{t}.$$"
   ]
  },
  {
   "cell_type": "code",
   "execution_count": 5,
   "metadata": {
    "editable": true,
    "slideshow": {
     "slide_type": "slide"
    },
    "tags": []
   },
   "outputs": [
    {
     "name": "stdout",
     "output_type": "stream",
     "text": [
      "                               SARIMAX Results                                \n",
      "==============================================================================\n",
      "Dep. Variable:                    wpi   No. Observations:                  124\n",
      "Model:               SARIMAX(1, 0, 0)   Log Likelihood                -201.927\n",
      "Date:                Thu, 21 Aug 2025   AIC                            409.855\n",
      "Time:                        14:49:26   BIC                            418.316\n",
      "Sample:                    01-01-1960   HQIC                           413.292\n",
      "                         - 10-01-1990                                         \n",
      "Covariance Type:                  opg                                         \n",
      "==============================================================================\n",
      "                 coef    std err          z      P>|z|      [0.025      0.975]\n",
      "------------------------------------------------------------------------------\n",
      "intercept      0.0293      0.343      0.086      0.932      -0.643       0.701\n",
      "ar.L1          0.9996      0.005    213.302      0.000       0.990       1.009\n",
      "sigma2         1.4355      0.143     10.008      0.000       1.154       1.717\n",
      "===================================================================================\n",
      "Ljung-Box (L1) (Q):                  48.05   Jarque-Bera (JB):                20.69\n",
      "Prob(Q):                              0.00   Prob(JB):                         0.00\n",
      "Heteroskedasticity (H):              19.26   Skew:                             0.90\n",
      "Prob(H) (two-sided):                  0.00   Kurtosis:                         3.86\n",
      "===================================================================================\n",
      "\n",
      "Warnings:\n",
      "[1] Covariance matrix calculated using the outer product of gradients (complex-step).\n"
     ]
    },
    {
     "name": "stderr",
     "output_type": "stream",
     "text": [
      "/Users/kristian/miniforge3/envs/ind320_25/lib/python3.12/site-packages/statsmodels/tsa/statespace/sarimax.py:966: UserWarning: Non-stationary starting autoregressive parameters found. Using zeros as starting parameters.\n",
      "  warn('Non-stationary starting autoregressive parameters'\n"
     ]
    }
   ],
   "source": [
    "# Fit an AR(1) model (badly specified due to non-stationarity)\n",
    "mod = sm.tsa.statespace.SARIMAX(data['wpi'], trend='c', order=(1,0,0)) # trend='c' adds a constant\n",
    "res = mod.fit(disp=False)\n",
    "print(res.summary()) # AIC gives us a measure of fit for comparison"
   ]
  },
  {
   "cell_type": "markdown",
   "metadata": {
    "editable": true,
    "slideshow": {
     "slide_type": "slide"
    },
    "tags": []
   },
   "source": [
    "## MA - moving average models\n",
    "- MA models are functions of previous errors, rather than previous measurements. \n",
    "- We can define an $MA(q)$ model as:\n",
    "  \n",
    "$$ y_{t} = \\phi_0 + \\sum\\limits_{i=1}^q \\phi_{i} \\epsilon_{t-i} + \\epsilon_{t}$$\n",
    "$$ = \\phi_0 + \\Phi(L)^{q} \\epsilon_{t}.$$\n",
    "  \n",
    "- Here, $q$ is the number of time lags and $\\Phi(L)^{q}$ is defined as $\\Theta$ above, but using the error terms and $\\epsilon_{t}$ is with respect to the current model."
   ]
  },
  {
   "cell_type": "code",
   "execution_count": 6,
   "metadata": {
    "editable": true,
    "slideshow": {
     "slide_type": "slide"
    },
    "tags": []
   },
   "outputs": [
    {
     "name": "stdout",
     "output_type": "stream",
     "text": [
      "                               SARIMAX Results                                \n",
      "==============================================================================\n",
      "Dep. Variable:                    wpi   No. Observations:                  124\n",
      "Model:               SARIMAX(0, 0, 1)   Log Likelihood                -516.522\n",
      "Date:                Thu, 21 Aug 2025   AIC                           1039.044\n",
      "Time:                        14:49:26   BIC                           1047.505\n",
      "Sample:                    01-01-1960   HQIC                          1042.481\n",
      "                         - 10-01-1990                                         \n",
      "Covariance Type:                  opg                                         \n",
      "==============================================================================\n",
      "                 coef    std err          z      P>|z|      [0.025      0.975]\n",
      "------------------------------------------------------------------------------\n",
      "intercept     62.8671      3.033     20.727      0.000      56.922      68.812\n",
      "ma.L1          0.9994      0.578      1.728      0.084      -0.134       2.133\n",
      "sigma2       233.8562    132.640      1.763      0.078     -26.114     493.827\n",
      "===================================================================================\n",
      "Ljung-Box (L1) (Q):                 114.21   Jarque-Bera (JB):                14.05\n",
      "Prob(Q):                              0.00   Prob(JB):                         0.00\n",
      "Heteroskedasticity (H):               1.55   Skew:                             0.31\n",
      "Prob(H) (two-sided):                  0.17   Kurtosis:                         1.47\n",
      "===================================================================================\n",
      "\n",
      "Warnings:\n",
      "[1] Covariance matrix calculated using the outer product of gradients (complex-step).\n"
     ]
    },
    {
     "name": "stderr",
     "output_type": "stream",
     "text": [
      "/Users/kristian/miniforge3/envs/ind320_25/lib/python3.12/site-packages/statsmodels/tsa/statespace/sarimax.py:978: UserWarning: Non-invertible starting MA parameters found. Using zeros as starting parameters.\n",
      "  warn('Non-invertible starting MA parameters found.'\n"
     ]
    }
   ],
   "source": [
    "# Fit an MA(1) model (disregarding the obvious autocorrelation)\n",
    "mod = sm.tsa.statespace.SARIMAX(data['wpi'], trend='c', order=(0,0,1))\n",
    "res = mod.fit(disp=False)\n",
    "print(res.summary()) # AIC gives us a measure of fit for comparison"
   ]
  },
  {
   "cell_type": "markdown",
   "metadata": {
    "editable": true,
    "slideshow": {
     "slide_type": "slide"
    },
    "tags": []
   },
   "source": [
    "## ARMA - autoregressive moving average models\n",
    "- When we take the sum of $AR(p)$ and $MA(q)$ models of the same time series, we get $ARMA(p,q)$ models:\n",
    "  \n",
    "$$ y_{t} = \\theta_0 + \\sum\\limits_{i=1}^p \\theta_{i} y_{t-i} + \\sum\\limits_{i=1}^q \\phi_{i} \\epsilon_{t-i} + \\epsilon_{t}$$\n",
    "\n",
    "- which can be reformulated to:\n",
    "\n",
    "$$ \\Theta(L)^{p} y_{t} = \\theta_0 + \\Phi(L)^{q} \\epsilon_{t}$$\n",
    "  \n",
    "- Again, $\\epsilon_{t}$ is with respect to the current model, but shares name with the previous models.\n",
    "- This model is learning both from seeing previous samples and from how well these were predicted at previous time steps, thus it can tackle changes in the average."
   ]
  },
  {
   "cell_type": "code",
   "execution_count": 7,
   "metadata": {
    "editable": true,
    "slideshow": {
     "slide_type": "slide"
    },
    "tags": []
   },
   "outputs": [
    {
     "name": "stdout",
     "output_type": "stream",
     "text": [
      "                               SARIMAX Results                                \n",
      "==============================================================================\n",
      "Dep. Variable:                    wpi   No. Observations:                  124\n",
      "Model:               SARIMAX(1, 0, 1)   Log Likelihood                -172.610\n",
      "Date:                Thu, 21 Aug 2025   AIC                            353.221\n",
      "Time:                        14:49:26   BIC                            364.502\n",
      "Sample:                    01-01-1960   HQIC                           357.804\n",
      "                         - 10-01-1990                                         \n",
      "Covariance Type:                  opg                                         \n",
      "==============================================================================\n",
      "                 coef    std err          z      P>|z|      [0.025      0.975]\n",
      "------------------------------------------------------------------------------\n",
      "intercept      0.0438      0.427      0.103      0.918      -0.794       0.882\n",
      "ar.L1          0.9994      0.006    172.091      0.000       0.988       1.011\n",
      "ma.L1          0.5628      0.072      7.848      0.000       0.422       0.703\n",
      "sigma2         0.8883      0.079     11.303      0.000       0.734       1.042\n",
      "===================================================================================\n",
      "Ljung-Box (L1) (Q):                   0.80   Jarque-Bera (JB):                60.64\n",
      "Prob(Q):                              0.37   Prob(JB):                         0.00\n",
      "Heteroskedasticity (H):              15.38   Skew:                             1.17\n",
      "Prob(H) (two-sided):                  0.00   Kurtosis:                         5.51\n",
      "===================================================================================\n",
      "\n",
      "Warnings:\n",
      "[1] Covariance matrix calculated using the outer product of gradients (complex-step).\n"
     ]
    },
    {
     "name": "stderr",
     "output_type": "stream",
     "text": [
      "/Users/kristian/miniforge3/envs/ind320_25/lib/python3.12/site-packages/statsmodels/tsa/statespace/sarimax.py:966: UserWarning: Non-stationary starting autoregressive parameters found. Using zeros as starting parameters.\n",
      "  warn('Non-stationary starting autoregressive parameters'\n"
     ]
    }
   ],
   "source": [
    "# Fit an ARMA(1,1) model (badly specified due to non-stationarity)\n",
    "mod = sm.tsa.statespace.SARIMAX(data['wpi'], trend='c', order=(1,0,1))\n",
    "res = mod.fit(disp=False)\n",
    "print(res.summary()) # AIC gives us a measure of fit for comparison"
   ]
  },
  {
   "cell_type": "markdown",
   "metadata": {
    "editable": true,
    "slideshow": {
     "slide_type": "slide"
    },
    "tags": []
   },
   "source": [
    "## ARIMA - autoregressive integrated moving average models\n",
    "- To help compensate for lack of stationarity, we add an integration operator, $\\Delta^{d}$, defined as:\n",
    "  \n",
    "$$y_{t}^{[d]} = \\Delta^{d} y_{t} = y_{t}^{[d-1]} - y_{t-1}^{[d-1]}.$$\n",
    "  \n",
    "- Here, $y_{t}^{[0]} = y_{t}$ and the degree of differensing is $d$.\n",
    "- For instance with $d=2$:\n",
    "\n",
    "$$y_{t}^{[2]} = \\Delta^{2} y_{t} = y_{t}^{[1]} - y_{t-1}^{[1]} $$\n",
    "$$= y_{t}^{[0]} - y_{t-1}^{[0]} - y_{t-1}^{[0]} + y_{t-2}^{[0]} = y_{t} - 2 y_{t-1} + y_{t-2}$$"
   ]
  },
  {
   "cell_type": "markdown",
   "metadata": {
    "slideshow": {
     "slide_type": "slide"
    },
    "tags": []
   },
   "source": [
    "- An $ARMA(p, q)$ model where $y_{t}$ is exchanged with $y_{t}^{[d]}$ would look like this:\n",
    "  \n",
    "$$ \\Theta(L)^{p} y_{t}^{[d]} = \\Phi(L)^{q} \\epsilon_{t}$$\n",
    "\n",
    "- The constant is often omitted and assumed absorbed by the integration. Only the time series is integrated, not the errors.  \n",
    "- Reformulating this using the integration operator, we get an $ARIMA(p,d,q)$ model:\n",
    "  \n",
    "$$ \\Theta(L)^{p} \\Delta^{d} y_{t} = \\Phi(L)^{q} \\epsilon_{t}$$\n",
    "  \n",
    "- This model has the properties of the ARMA model, but in addition does the differensing for us for stationarity.\n",
    "- The terms can be reorganised to get predictions on the original scale instead of predicting difference values."
   ]
  },
  {
   "cell_type": "code",
   "execution_count": 8,
   "metadata": {
    "editable": true,
    "slideshow": {
     "slide_type": "slide"
    },
    "tags": []
   },
   "outputs": [
    {
     "name": "stdout",
     "output_type": "stream",
     "text": [
      "                               SARIMAX Results                                \n",
      "==============================================================================\n",
      "Dep. Variable:                    wpi   No. Observations:                  124\n",
      "Model:               SARIMAX(1, 1, 1)   Log Likelihood                -137.247\n",
      "Date:                Thu, 21 Aug 2025   AIC                            280.494\n",
      "Time:                        14:49:26   BIC                            288.930\n",
      "Sample:                    01-01-1960   HQIC                           283.920\n",
      "                         - 10-01-1990                                         \n",
      "Covariance Type:                  opg                                         \n",
      "==============================================================================\n",
      "                 coef    std err          z      P>|z|      [0.025      0.975]\n",
      "------------------------------------------------------------------------------\n",
      "ar.L1          0.9412      0.030     31.695      0.000       0.883       0.999\n",
      "ma.L1         -0.4656      0.088     -5.314      0.000      -0.637      -0.294\n",
      "sigma2         0.5398      0.054     10.071      0.000       0.435       0.645\n",
      "===================================================================================\n",
      "Ljung-Box (L1) (Q):                   0.05   Jarque-Bera (JB):                 9.12\n",
      "Prob(Q):                              0.82   Prob(JB):                         0.01\n",
      "Heteroskedasticity (H):              28.75   Skew:                             0.07\n",
      "Prob(H) (two-sided):                  0.00   Kurtosis:                         4.33\n",
      "===================================================================================\n",
      "\n",
      "Warnings:\n",
      "[1] Covariance matrix calculated using the outer product of gradients (complex-step).\n"
     ]
    }
   ],
   "source": [
    "# Fit an ARIMA(1,1,1) model\n",
    "mod = sm.tsa.statespace.SARIMAX(data['wpi'], trend=None, order=(1,1,1))\n",
    "res = mod.fit(disp=False)\n",
    "print(res.summary()) # AIC gives us a measure of fit for comparison"
   ]
  },
  {
   "cell_type": "code",
   "execution_count": 9,
   "metadata": {
    "editable": true,
    "slideshow": {
     "slide_type": "slide"
    },
    "tags": []
   },
   "outputs": [
    {
     "name": "stdout",
     "output_type": "stream",
     "text": [
      "                                 SARIMAX Results                                 \n",
      "=================================================================================\n",
      "Dep. Variable:                       wpi   No. Observations:                  124\n",
      "Model:             SARIMAX(1, 1, [1, 4])   Log Likelihood                -137.202\n",
      "Date:                   Thu, 21 Aug 2025   AIC                            282.404\n",
      "Time:                           14:49:26   BIC                            293.653\n",
      "Sample:                       01-01-1960   HQIC                           286.973\n",
      "                            - 10-01-1990                                         \n",
      "Covariance Type:                     opg                                         \n",
      "==============================================================================\n",
      "                 coef    std err          z      P>|z|      [0.025      0.975]\n",
      "------------------------------------------------------------------------------\n",
      "ar.L1          0.9313      0.041     22.884      0.000       0.852       1.011\n",
      "ma.L1         -0.4540      0.093     -4.884      0.000      -0.636      -0.272\n",
      "ma.L4          0.0433      0.082      0.526      0.599      -0.118       0.205\n",
      "sigma2         0.5394      0.054      9.953      0.000       0.433       0.646\n",
      "===================================================================================\n",
      "Ljung-Box (L1) (Q):                   0.04   Jarque-Bera (JB):                10.31\n",
      "Prob(Q):                              0.84   Prob(JB):                         0.01\n",
      "Heteroskedasticity (H):              29.04   Skew:                             0.06\n",
      "Prob(H) (two-sided):                  0.00   Kurtosis:                         4.41\n",
      "===================================================================================\n",
      "\n",
      "Warnings:\n",
      "[1] Covariance matrix calculated using the outer product of gradients (complex-step).\n"
     ]
    }
   ],
   "source": [
    "# Since the data are quarterly, we can add a seasonal component by including a fourth time lag to moving average\n",
    "# Fit an ARIMA(1,1,[1,0,0,1]) model\n",
    "mod = sm.tsa.statespace.SARIMAX(data['wpi'], trend=None, order=(1,1,[1,0,0,1]))\n",
    "res = mod.fit(disp=False)\n",
    "print(res.summary()) # AIC gives us a measure of fit for comparison\n",
    "# What about a linear trend? (trend='t')"
   ]
  },
  {
   "cell_type": "markdown",
   "metadata": {
    "editable": true,
    "slideshow": {
     "slide_type": "slide"
    },
    "tags": []
   },
   "source": [
    "## SARIMA - seasonal autoregressive integrated moving average models\n",
    "- SARIMA shares some resemblance with the STL decomposition introduced previously.\n",
    "- For seasons of length $s$, the seasonal part is obtained by applying an ARIMA model with lags, $P$ and $Q$, and integration time, $D$, that are multiples of $s$, i.e., if $P=2$, the included time points would be $t-1s$ and $t-2s$.\n",
    "  \n",
    "$$ \\theta(L^{s})^{P} \\Delta_{s}^{D} y_{t} = \\phi(L^{s})^{Q} \\epsilon_{t} $$"
   ]
  },
  {
   "cell_type": "markdown",
   "metadata": {
    "slideshow": {
     "slide_type": "fragment"
    },
    "tags": []
   },
   "source": [
    "- After the seasonal part has been removed, another $ARIMA(p, d, q)$ applied to $\\Delta_{s}^{D} y_{t}$ which is equivalent to multiplying the two models together.\n",
    "- The $SARIMA(p, d, q)(P, D, Q, s)$ model then becomes:\n",
    "  \n",
    "$$ \\Theta(L)^{p} \\theta(L^{s})^{P} \\Delta^{d} \\Delta_{s}^{D} y_{t} = \\Phi(L)^{q} \\phi(L^{s})^{Q} \\epsilon_{t}$$\n",
    "  \n",
    "- This model has the ability to combine experience from previous timepoints with seasonal trends. \n",
    "    - Or if one sets the ARIMA parameters $p=0$, $d=0$, $q=0$, one can have a pure seasonal model."
   ]
  },
  {
   "cell_type": "code",
   "execution_count": 10,
   "metadata": {
    "editable": true,
    "slideshow": {
     "slide_type": "slide"
    },
    "tags": []
   },
   "outputs": [
    {
     "name": "stdout",
     "output_type": "stream",
     "text": [
      "                                     SARIMAX Results                                     \n",
      "=========================================================================================\n",
      "Dep. Variable:                               wpi   No. Observations:                  124\n",
      "Model:             SARIMAX(1, 1, 1)x(1, 1, 1, 4)   Log Likelihood                -135.889\n",
      "Date:                           Thu, 21 Aug 2025   AIC                            281.778\n",
      "Time:                                   14:49:26   BIC                            295.674\n",
      "Sample:                               01-01-1960   HQIC                           287.421\n",
      "                                    - 10-01-1990                                         \n",
      "Covariance Type:                             opg                                         \n",
      "==============================================================================\n",
      "                 coef    std err          z      P>|z|      [0.025      0.975]\n",
      "------------------------------------------------------------------------------\n",
      "ar.L1          0.8767      0.060     14.588      0.000       0.759       0.994\n",
      "ma.L1         -0.3819      0.111     -3.453      0.001      -0.599      -0.165\n",
      "ar.S.L4        0.0592      0.112      0.528      0.598      -0.161       0.279\n",
      "ma.S.L4       -0.9990      4.690     -0.213      0.831     -10.191       8.193\n",
      "sigma2         0.5180      2.404      0.215      0.829      -4.194       5.229\n",
      "===================================================================================\n",
      "Ljung-Box (L1) (Q):                   0.07   Jarque-Bera (JB):                20.16\n",
      "Prob(Q):                              0.80   Prob(JB):                         0.00\n",
      "Heteroskedasticity (H):              29.33   Skew:                            -0.17\n",
      "Prob(H) (two-sided):                  0.00   Kurtosis:                         4.99\n",
      "===================================================================================\n",
      "\n",
      "Warnings:\n",
      "[1] Covariance matrix calculated using the outer product of gradients (complex-step)."
     ]
    },
    {
     "name": "stdout",
     "output_type": "stream",
     "text": [
      "\n"
     ]
    }
   ],
   "source": [
    "# Using SARIMA for seasonality instead of the fourth time lag to moving average.\n",
    "# Fit a SARIMA(1,1,1)(1,1,1,4) model\n",
    "mod = sm.tsa.statespace.SARIMAX(data['wpi'], trend=None, order=(1,1,1), seasonal_order=(1,1,1,4))\n",
    "res = mod.fit(disp=False)\n",
    "print(res.summary()) # AIC gives us a measure of fit for comparison (no improvement here)"
   ]
  },
  {
   "cell_type": "markdown",
   "metadata": {
    "editable": true,
    "slideshow": {
     "slide_type": "slide"
    },
    "tags": []
   },
   "source": [
    "## Exogenous variables\n",
    "- As we showed in the previous chapter, it is possible to make a model purely on other variables measured at the same time, $t$.\n",
    "- Including these variables into ARIMA and SARIMA, we get the ARIMAX and SARIMAX models.\n",
    "- In practice, we paste on an extra coefficient vector, $\\beta$, and variables, $X_{t}$, to the models, here noted as sums of products $\\beta_{i} x^{i}_{t}$: \n",
    "- $ARIMAX(p, d, q)$:\n",
    "  \n",
    "$$\\Theta(L)^{p} \\Delta^{d} y_{t} = \\Phi(L)^{q} \\epsilon_{t} + \\sum_{i=1}^{n} \\beta_{i} x^{i}_{t}$$\n",
    "  \n",
    "- $SARIMAX(p, d, q)(P, D, Q, s)$:\n",
    "  \n",
    "$$\\Theta(L)^{p} \\theta(L^{s})^{P} \\Delta^{d} \\Delta_{s}^{D} y_{t} = \\Phi(L)^{q} \\phi(L^{s})^{Q} \\epsilon_{t} + \\sum_{i=1}^{n} \\beta_{i} x^{i}_{t}$$\n",
    "  \n",
    "- The final model, thus includes autogression and moving averages, can perform differences, deals with seasonality and can leverage external variables from the same timepoint as the predictions."
   ]
  },
  {
   "cell_type": "code",
   "execution_count": 11,
   "metadata": {
    "editable": true,
    "slideshow": {
     "slide_type": "slide"
    },
    "tags": []
   },
   "outputs": [
    {
     "name": "stderr",
     "output_type": "stream",
     "text": [
      "/Users/kristian/miniforge3/envs/ind320_25/lib/python3.12/site-packages/openpyxl/worksheet/_reader.py:329: UserWarning: Unknown extension is not supported and will be removed\n",
      "  warn(msg)\n"
     ]
    },
    {
     "data": {
      "text/html": [
       "<div>\n",
       "<style scoped>\n",
       "    .dataframe tbody tr th:only-of-type {\n",
       "        vertical-align: middle;\n",
       "    }\n",
       "\n",
       "    .dataframe tbody tr th {\n",
       "        vertical-align: top;\n",
       "    }\n",
       "\n",
       "    .dataframe thead th {\n",
       "        text-align: right;\n",
       "    }\n",
       "</style>\n",
       "<table border=\"1\" class=\"dataframe\">\n",
       "  <thead>\n",
       "    <tr style=\"text-align: right;\">\n",
       "      <th></th>\n",
       "      <th>Date</th>\n",
       "      <th>PerEURO</th>\n",
       "      <th>PerUSD</th>\n",
       "      <th>KeyIntRate</th>\n",
       "      <th>LoanIntRate</th>\n",
       "      <th>EuroIntRate</th>\n",
       "      <th>CPI</th>\n",
       "      <th>OilSpotPrice</th>\n",
       "      <th>ImpOldShip</th>\n",
       "      <th>ImpNewShip</th>\n",
       "      <th>...</th>\n",
       "      <th>ExpExShipOilPlat</th>\n",
       "      <th>TrBal</th>\n",
       "      <th>TrBalExShipOilPlat</th>\n",
       "      <th>TrBalMland</th>\n",
       "      <th>ly.var</th>\n",
       "      <th>l2y.var</th>\n",
       "      <th>l.CPI</th>\n",
       "      <th>ExcChange</th>\n",
       "      <th>Testrain</th>\n",
       "      <th>season</th>\n",
       "    </tr>\n",
       "    <tr>\n",
       "      <th>Date</th>\n",
       "      <th></th>\n",
       "      <th></th>\n",
       "      <th></th>\n",
       "      <th></th>\n",
       "      <th></th>\n",
       "      <th></th>\n",
       "      <th></th>\n",
       "      <th></th>\n",
       "      <th></th>\n",
       "      <th></th>\n",
       "      <th></th>\n",
       "      <th></th>\n",
       "      <th></th>\n",
       "      <th></th>\n",
       "      <th></th>\n",
       "      <th></th>\n",
       "      <th></th>\n",
       "      <th></th>\n",
       "      <th></th>\n",
       "      <th></th>\n",
       "      <th></th>\n",
       "    </tr>\n",
       "  </thead>\n",
       "  <tbody>\n",
       "    <tr>\n",
       "      <th>2000-01-01</th>\n",
       "      <td>2000-01-01</td>\n",
       "      <td>8.1215</td>\n",
       "      <td>8.0129</td>\n",
       "      <td>5.500000</td>\n",
       "      <td>7.500000</td>\n",
       "      <td>3.04</td>\n",
       "      <td>104.1</td>\n",
       "      <td>25.855741</td>\n",
       "      <td>114</td>\n",
       "      <td>915</td>\n",
       "      <td>...</td>\n",
       "      <td>38619</td>\n",
       "      <td>18575</td>\n",
       "      <td>19238</td>\n",
       "      <td>-3257</td>\n",
       "      <td>8.0968</td>\n",
       "      <td>8.1907</td>\n",
       "      <td>103.6</td>\n",
       "      <td>Increase</td>\n",
       "      <td>True</td>\n",
       "      <td>winter</td>\n",
       "    </tr>\n",
       "    <tr>\n",
       "      <th>2000-02-01</th>\n",
       "      <td>2000-02-01</td>\n",
       "      <td>8.0991</td>\n",
       "      <td>8.2361</td>\n",
       "      <td>5.500000</td>\n",
       "      <td>7.500000</td>\n",
       "      <td>3.28</td>\n",
       "      <td>104.6</td>\n",
       "      <td>27.317905</td>\n",
       "      <td>527</td>\n",
       "      <td>359</td>\n",
       "      <td>...</td>\n",
       "      <td>38730</td>\n",
       "      <td>14217</td>\n",
       "      <td>17200</td>\n",
       "      <td>-4529</td>\n",
       "      <td>8.1215</td>\n",
       "      <td>8.0968</td>\n",
       "      <td>104.1</td>\n",
       "      <td>Decrease</td>\n",
       "      <td>True</td>\n",
       "      <td>winter</td>\n",
       "    </tr>\n",
       "    <tr>\n",
       "      <th>2000-03-01</th>\n",
       "      <td>2000-03-01</td>\n",
       "      <td>8.1110</td>\n",
       "      <td>8.4111</td>\n",
       "      <td>5.500000</td>\n",
       "      <td>7.500000</td>\n",
       "      <td>3.51</td>\n",
       "      <td>104.7</td>\n",
       "      <td>26.509183</td>\n",
       "      <td>1385</td>\n",
       "      <td>929</td>\n",
       "      <td>...</td>\n",
       "      <td>42642</td>\n",
       "      <td>13697</td>\n",
       "      <td>18380</td>\n",
       "      <td>-5562</td>\n",
       "      <td>8.0991</td>\n",
       "      <td>8.1215</td>\n",
       "      <td>104.6</td>\n",
       "      <td>Increase</td>\n",
       "      <td>True</td>\n",
       "      <td>Spring</td>\n",
       "    </tr>\n",
       "    <tr>\n",
       "      <th>2000-04-01</th>\n",
       "      <td>2000-04-01</td>\n",
       "      <td>8.1538</td>\n",
       "      <td>8.6081</td>\n",
       "      <td>5.632353</td>\n",
       "      <td>7.632353</td>\n",
       "      <td>3.69</td>\n",
       "      <td>105.1</td>\n",
       "      <td>21.558821</td>\n",
       "      <td>450</td>\n",
       "      <td>2194</td>\n",
       "      <td>...</td>\n",
       "      <td>36860</td>\n",
       "      <td>13142</td>\n",
       "      <td>15499</td>\n",
       "      <td>-5147</td>\n",
       "      <td>8.1110</td>\n",
       "      <td>8.0991</td>\n",
       "      <td>104.7</td>\n",
       "      <td>Increase</td>\n",
       "      <td>True</td>\n",
       "      <td>Spring</td>\n",
       "    </tr>\n",
       "    <tr>\n",
       "      <th>2000-05-01</th>\n",
       "      <td>2000-05-01</td>\n",
       "      <td>8.2015</td>\n",
       "      <td>9.0471</td>\n",
       "      <td>5.750000</td>\n",
       "      <td>7.750000</td>\n",
       "      <td>3.92</td>\n",
       "      <td>105.1</td>\n",
       "      <td>25.147242</td>\n",
       "      <td>239</td>\n",
       "      <td>608</td>\n",
       "      <td>...</td>\n",
       "      <td>42932</td>\n",
       "      <td>17733</td>\n",
       "      <td>18505</td>\n",
       "      <td>-5732</td>\n",
       "      <td>8.1538</td>\n",
       "      <td>8.1110</td>\n",
       "      <td>105.1</td>\n",
       "      <td>Increase</td>\n",
       "      <td>True</td>\n",
       "      <td>Spring</td>\n",
       "    </tr>\n",
       "  </tbody>\n",
       "</table>\n",
       "<p>5 rows × 28 columns</p>\n",
       "</div>"
      ],
      "text/plain": [
       "                 Date  PerEURO  PerUSD  KeyIntRate  LoanIntRate  EuroIntRate  \\\n",
       "Date                                                                           \n",
       "2000-01-01 2000-01-01   8.1215  8.0129    5.500000     7.500000         3.04   \n",
       "2000-02-01 2000-02-01   8.0991  8.2361    5.500000     7.500000         3.28   \n",
       "2000-03-01 2000-03-01   8.1110  8.4111    5.500000     7.500000         3.51   \n",
       "2000-04-01 2000-04-01   8.1538  8.6081    5.632353     7.632353         3.69   \n",
       "2000-05-01 2000-05-01   8.2015  9.0471    5.750000     7.750000         3.92   \n",
       "\n",
       "              CPI  OilSpotPrice  ImpOldShip  ImpNewShip  ...  \\\n",
       "Date                                                     ...   \n",
       "2000-01-01  104.1     25.855741         114         915  ...   \n",
       "2000-02-01  104.6     27.317905         527         359  ...   \n",
       "2000-03-01  104.7     26.509183        1385         929  ...   \n",
       "2000-04-01  105.1     21.558821         450        2194  ...   \n",
       "2000-05-01  105.1     25.147242         239         608  ...   \n",
       "\n",
       "            ExpExShipOilPlat  TrBal  TrBalExShipOilPlat  TrBalMland  ly.var  \\\n",
       "Date                                                                          \n",
       "2000-01-01             38619  18575               19238       -3257  8.0968   \n",
       "2000-02-01             38730  14217               17200       -4529  8.1215   \n",
       "2000-03-01             42642  13697               18380       -5562  8.0991   \n",
       "2000-04-01             36860  13142               15499       -5147  8.1110   \n",
       "2000-05-01             42932  17733               18505       -5732  8.1538   \n",
       "\n",
       "            l2y.var  l.CPI  ExcChange  Testrain  season  \n",
       "Date                                                     \n",
       "2000-01-01   8.1907  103.6   Increase      True  winter  \n",
       "2000-02-01   8.0968  104.1   Decrease      True  winter  \n",
       "2000-03-01   8.1215  104.6   Increase      True  Spring  \n",
       "2000-04-01   8.0991  104.7   Increase      True  Spring  \n",
       "2000-05-01   8.1110  105.1   Increase      True  Spring  \n",
       "\n",
       "[5 rows x 28 columns]"
      ]
     },
     "execution_count": 11,
     "metadata": {},
     "output_type": "execute_result"
    }
   ],
   "source": [
    "# Read the FinalData sheet of the OilExchange.xlsx file using Pandas again\n",
    "import pandas as pd\n",
    "OilExchange = pd.read_excel('../../data/OilExchange.xlsx', sheet_name='FinalData')\n",
    "OilExchange.index = OilExchange.Date\n",
    "OilExchange.index.freq = \"MS\" # Set the frequency to Month Start\n",
    "OilExchange.head()"
   ]
  },
  {
   "cell_type": "code",
   "execution_count": 12,
   "metadata": {
    "slideshow": {
     "slide_type": "slide"
    },
    "tags": []
   },
   "outputs": [
    {
     "name": "stdout",
     "output_type": "stream",
     "text": [
      "                                     SARIMAX Results                                      \n",
      "==========================================================================================\n",
      "Dep. Variable:                            PerEURO   No. Observations:                  179\n",
      "Model:             SARIMAX(1, 1, 1)x(1, 1, 1, 12)   Log Likelihood                 103.848\n",
      "Date:                            Thu, 21 Aug 2025   AIC                           -157.695\n",
      "Time:                                    14:49:28   BIC                            -79.896\n",
      "Sample:                                01-01-2000   HQIC                          -126.116\n",
      "                                     - 11-01-2014                                         \n",
      "Covariance Type:                              opg                                         \n",
      "======================================================================================\n",
      "                         coef    std err          z      P>|z|      [0.025      0.975]\n",
      "--------------------------------------------------------------------------------------\n",
      "intercept              0.0011      0.018      0.061      0.951      -0.034       0.037\n",
      "KeyIntRate            -0.2262      0.279     -0.810      0.418      -0.773       0.321\n",
      "LoanIntRate           -0.0130      0.254     -0.051      0.959      -0.511       0.485\n",
      "EuroIntRate            0.2143      0.107      2.009      0.045       0.005       0.423\n",
      "CPI                   -0.0051      0.028     -0.180      0.857      -0.061       0.050\n",
      "OilSpotPrice          -0.0043      0.001     -3.124      0.002      -0.007      -0.002\n",
      "ImpOldShip            -0.0144      0.021     -0.684      0.494      -0.056       0.027\n",
      "ImpNewShip            -0.0144      0.021     -0.685      0.493      -0.056       0.027\n",
      "ImpOilPlat            -0.0144      0.021     -0.686      0.493      -0.056       0.027\n",
      "ImpExShipOilPlat      -0.0005      0.023     -0.021      0.983      -0.045       0.044\n",
      "ExpCrdOil             -0.0026      0.015     -0.172      0.863      -0.032       0.027\n",
      "ExpNatGas             -0.0026      0.015     -0.171      0.864      -0.032       0.027\n",
      "ExpCond               -0.0026      0.015     -0.172      0.864      -0.032       0.027\n",
      "ExpOldShip             0.0144      0.021      0.684      0.494      -0.027       0.056\n",
      "ExpNewShip             0.0144      0.021      0.685      0.493      -0.027       0.056\n",
      "ExpOilPlat             0.0144      0.021      0.686      0.492      -0.027       0.056\n",
      "ExpExShipOilPlat       0.0005      0.023      0.021      0.983      -0.044       0.045\n",
      "TrBal                 -0.0144      0.021     -0.685      0.493      -0.056       0.027\n",
      "TrBalExShipOilPlat     0.0165      0.019      0.852      0.394      -0.022       0.055\n",
      "TrBalMland            -0.0026      0.015     -0.172      0.863      -0.032       0.027\n",
      "ar.L1                 -0.7115      0.275     -2.587      0.010      -1.251      -0.172\n",
      "ma.L1                  0.8770      0.186      4.716      0.000       0.513       1.241\n",
      "ar.S.L12              -0.2670      0.218     -1.223      0.221      -0.695       0.161\n",
      "ma.S.L12              -0.4389      0.228     -1.926      0.054      -0.885       0.008\n",
      "sigma2                 0.0225      0.004      5.584      0.000       0.015       0.030\n",
      "===================================================================================\n",
      "Ljung-Box (L1) (Q):                   0.59   Jarque-Bera (JB):                 1.54\n",
      "Prob(Q):                              0.44   Prob(JB):                         0.46\n",
      "Heteroskedasticity (H):               0.91   Skew:                             0.11\n",
      "Prob(H) (two-sided):                  0.72   Kurtosis:                         3.41\n",
      "===================================================================================\n",
      "\n",
      "Warnings:\n",
      "[1] Covariance matrix calculated using the outer product of gradients (complex-step).\n"
     ]
    },
    {
     "name": "stderr",
     "output_type": "stream",
     "text": [
      "/Users/kristian/miniforge3/envs/ind320_25/lib/python3.12/site-packages/statsmodels/base/model.py:607: ConvergenceWarning: Maximum Likelihood optimization failed to converge. Check mle_retvals\n",
      "  warnings.warn(\"Maximum Likelihood optimization failed to \"\n"
     ]
    }
   ],
   "source": [
    "# Fit a SARIMAX(1,1,1)(1,1,1,12) model with exogenous variables (closing our eyes, as we know little about the data)\n",
    "mod = sm.tsa.statespace.SARIMAX(OilExchange['PerEURO'], exog=OilExchange.loc[:, OilExchange.columns[3:-6]], \\\n",
    "                                trend='c', order=(1,1,1), seasonal_order=(1,1,1,12))\n",
    "res = mod.fit(disp=False)\n",
    "print(res.summary()) # AIC gives us a measure of fit for comparison (no improvement here)"
   ]
  },
  {
   "cell_type": "markdown",
   "metadata": {
    "editable": true,
    "slideshow": {
     "slide_type": "slide"
    },
    "tags": []
   },
   "source": [
    "## Exercise\n",
    "- Play with the OilExchange data.\n",
    "- See if you can improve the fit of the model by adjusting lags and removing the least significant terms in the model."
   ]
  },
  {
   "cell_type": "markdown",
   "metadata": {
    "editable": true,
    "slideshow": {
     "slide_type": "slide"
    },
    "tags": []
   },
   "source": [
    "## SARIMAX prediction\n",
    "- One-step-ahead prediction uses the estimated parameters and samples within the lags of the model to predict the next time point.\n",
    "    - This means that the predictions will stay relatively close to the true values, never predicting more than one step away from the truth.\n",
    "- Dynamic prediction predicts one step as above, then uses predicted values as input instead of true values.\n",
    "    - This means the predictions can deviate from the truth over time."
   ]
  },
  {
   "cell_type": "code",
   "execution_count": 13,
   "metadata": {
    "editable": true,
    "slideshow": {
     "slide_type": "slide"
    },
    "tags": []
   },
   "outputs": [
    {
     "name": "stderr",
     "output_type": "stream",
     "text": [
      "/Users/kristian/miniforge3/envs/ind320_25/lib/python3.12/site-packages/statsmodels/tsa/statespace/sarimax.py:966: UserWarning: Non-stationary starting autoregressive parameters found. Using zeros as starting parameters.\n",
      "  warn('Non-stationary starting autoregressive parameters'\n",
      "/Users/kristian/miniforge3/envs/ind320_25/lib/python3.12/site-packages/statsmodels/tsa/statespace/sarimax.py:978: UserWarning: Non-invertible starting MA parameters found. Using zeros as starting parameters.\n",
      "  warn('Non-invertible starting MA parameters found.'\n"
     ]
    },
    {
     "name": "stderr",
     "output_type": "stream",
     "text": [
      "/Users/kristian/miniforge3/envs/ind320_25/lib/python3.12/site-packages/statsmodels/base/model.py:607: ConvergenceWarning: Maximum Likelihood optimization failed to converge. Check mle_retvals\n",
      "  warnings.warn(\"Maximum Likelihood optimization failed to \"\n"
     ]
    }
   ],
   "source": [
    "# Refit the model on the training set (up to 2013-01-01) to estimate the parameters\n",
    "mod = sm.tsa.statespace.SARIMAX(OilExchange['PerEURO'].loc[:'2013-01-01'], \\\n",
    "                                OilExchange.loc[:, OilExchange.columns[3:-4]].loc[:'2013-01-01'], \\\n",
    "    trend='c', order=(1,1,1), seasonal_order=(1,1,1,12))\n",
    "res = mod.fit(disp=False)"
   ]
  },
  {
   "cell_type": "code",
   "execution_count": 14,
   "metadata": {
    "editable": true,
    "slideshow": {
     "slide_type": "fragment"
    },
    "tags": []
   },
   "outputs": [],
   "source": [
    "# Get predictions for the whole dataset\n",
    "mod = sm.tsa.statespace.SARIMAX(OilExchange['PerEURO'], OilExchange.loc[:, OilExchange.columns[3:-4]], \\\n",
    "    trend='c', order=(1,1,1), seasonal_order=(1,1,1,12))\n",
    "\n",
    "res = mod.filter(res.params) # One-step-ahead predictions using parameters from previous fit"
   ]
  },
  {
   "cell_type": "code",
   "execution_count": 15,
   "metadata": {
    "editable": true,
    "slideshow": {
     "slide_type": "fragment"
    },
    "tags": []
   },
   "outputs": [],
   "source": [
    "# In-sample one-step-ahead prediction wrapper function\n",
    "predict = res.get_prediction()\n",
    "predict_ci = predict.conf_int()"
   ]
  },
  {
   "cell_type": "code",
   "execution_count": 16,
   "metadata": {
    "editable": true,
    "slideshow": {
     "slide_type": "fragment"
    },
    "tags": []
   },
   "outputs": [],
   "source": [
    "# Dynamic predictions starting from 2013-01-01\n",
    "predict_dy = res.get_prediction(dynamic='2013-01-01')\n",
    "predict_dy_ci = predict_dy.conf_int()"
   ]
  },
  {
   "cell_type": "code",
   "execution_count": 17,
   "metadata": {
    "editable": true,
    "slideshow": {
     "slide_type": "slide"
    },
    "tags": []
   },
   "outputs": [
    {
     "data": {
      "image/png": "[encoded data removed]",
      "text/plain": [
       "<Figure size 900x400 with 1 Axes>"
      ]
     },
     "metadata": {},
     "output_type": "display_data"
    }
   ],
   "source": [
    "# Compare the one-step-ahead predictions to the dynamic predictions\n",
    "fig, ax = plt.subplots(figsize=(9,4))\n",
    "npre = 4\n",
    "ax.set(title='Exchange rate', xlabel='Date', ylabel='Per EURO')\n",
    "\n",
    "# Plot data points\n",
    "OilExchange.loc['2012-01-01':, 'PerEURO'].plot(ax=ax, style='o', label='Observed')\n",
    "\n",
    "# Plot predictions\n",
    "predict.predicted_mean.loc['2012-01-01':].plot(ax=ax, style='r--', label='One-step-ahead forecast')\n",
    "ci = predict_ci.loc['2012-01-01':]\n",
    "ax.fill_between(ci.index, ci.iloc[:,0], ci.iloc[:,1], color='r', alpha=0.1)\n",
    "predict_dy.predicted_mean.loc['2012-01-01':].plot(ax=ax, style='g', label='Dynamic forecast (2013)')\n",
    "ci = predict_dy_ci.loc['2012-01-01':]\n",
    "ax.fill_between(ci.index, ci.iloc[:,0], ci.iloc[:,1], color='g', alpha=0.1)\n",
    "\n",
    "legend = ax.legend(loc='lower right')"
   ]
  },
  {
   "cell_type": "markdown",
   "metadata": {
    "editable": true,
    "slideshow": {
     "slide_type": "slide"
    },
    "tags": []
   },
   "source": [
    "## Questercise\n",
    "- Does the model made in the previous exercise improve the predictions as visualized above?"
   ]
  },
  {
   "cell_type": "markdown",
   "metadata": {
    "editable": true,
    "slideshow": {
     "slide_type": "slide"
    },
    "tags": []
   },
   "source": [
    "```{seealso} \n",
    ":class: tip\n",
    "\n",
    "## Resources\n",
    "- [Book and video lectures on Forecasting: Principles and Practice](https://otexts.com/fpp3/)\n",
    "- [Wikipedia: Autocorrelation](https://en.wikipedia.org/wiki/Autocorrelation)\n",
    "- [Wikipedia: Partial autocorrelation](https://en.wikipedia.org/wiki/Partial_autocorrelation_function)\n",
    "- [statsmodels' SARIMAX documentation](https://www.statsmodels.org/dev/generated/statsmodels.tsa.statespace.sarimax.SARIMAX.html)\n",
    "- [statsmodels' SARIMAX example](https://www.statsmodels.org/stable/examples/notebooks/generated/statespace_sarimax_stata.html)\n",
    "```"
   ]
  }
 ],
 "metadata": {
  "kernelspec": {
   "display_name": "IND320_2024",
   "language": "python",
   "name": "python3"
  },
  "language_info": {
   "codemirror_mode": {
    "name": "ipython",
    "version": 3
   },
   "file_extension": ".py",
   "mimetype": "text/x-python",
   "name": "python",
   "nbconvert_exporter": "python",
   "pygments_lexer": "ipython3",
   "version": "3.12.10"
  }
 },
 "nbformat": 4,
 "nbformat_minor": 4
}