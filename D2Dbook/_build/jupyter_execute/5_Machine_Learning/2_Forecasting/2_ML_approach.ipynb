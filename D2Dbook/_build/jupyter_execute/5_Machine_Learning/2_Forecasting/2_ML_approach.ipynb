{
 "cells": [
  {
   "cell_type": "markdown",
   "metadata": {
    "editable": true,
    "slideshow": {
     "slide_type": "slide"
    },
    "tags": []
   },
   "source": [
    "# Machine Learning approach\n",
    "- Time series prediction, or forecasting, can be very similar to modelling and prediction with tabular data.\n",
    "    - A set of input variables, usually a single output variable.\n",
    "    - Ordinary machine learning methods can be applied.\n",
    "- The inclusion of time can be done by adding one or more delayed variables, possibly including the response."
   ]
  },
  {
   "cell_type": "markdown",
   "metadata": {
    "editable": true,
    "slideshow": {
     "slide_type": "slide"
    },
    "tags": []
   },
   "source": [
    "## Validation\n",
    "- As soon as _time_ is part of a model, extra care needs to be taken in validation.\n",
    "- Cross-validation\\*, training-validation-test splits are still relevant.\n",
    "- However, training, validation and test sets need to follow time chronologically and cannot overlap.\n",
    "- Instead of traditional cross-validation, one can perform _backtesting_ with a sliding or expanding window:\n",
    "  \n",
    "<img src=\"https://github.com/khliland/IND320/blob/main/D2Dbook/images/Backtesting_sliding.png?raw=TRUE\" width=\"350px\">  \n",
    "<img src=\"https://github.com/khliland/IND320/blob/main/D2Dbook/images/Backtesting_expanding.png?raw=TRUE\" width=\"350px\">  \n",
    "  \n",
    "Figures from [Roy Yang's bloggpost on uber.com](https://www.uber.com/en-NO/blog/omphalos/)"
   ]
  },
  {
   "cell_type": "markdown",
   "metadata": {
    "slideshow": {
     "slide_type": "fragment"
    },
    "tags": []
   },
   "source": [
    "```{note}\n",
    "The first samples will never be in the test set!\n",
    "```"
   ]
  },
  {
   "cell_type": "markdown",
   "metadata": {
    "editable": true,
    "slideshow": {
     "slide_type": "slide"
    },
    "tags": []
   },
   "source": [
    "## Shipping, oil, interest rates and exchange rates\n",
    "- These data are public data from the Norwegian Bank, SSB, Eurostat and U.S. Energy Information Administration for the period 2000-2014 (monthly).\n",
    "- The data are available at [ResearchGate](https://www.researchgate.net/publication/275647285_Related_Dataset) and were part of a [Master thesis](https://nmbu.brage.unit.no/nmbu-xmlui/handle/11250/283547) by Raju Rimal."
   ]
  },
  {
   "cell_type": "code",
   "execution_count": 1,
   "metadata": {
    "editable": true,
    "slideshow": {
     "slide_type": "fragment"
    },
    "tags": []
   },
   "outputs": [
    {
     "name": "stderr",
     "output_type": "stream",
     "text": [
      "/Users/kristian/miniforge3/envs/IND320_2024/lib/python3.12/site-packages/openpyxl/worksheet/_reader.py:329: UserWarning: Unknown extension is not supported and will be removed\n",
      "  warn(msg)\n"
     ]
    },
    {
     "data": {
      "text/html": [
       "<div>\n",
       "<style scoped>\n",
       "    .dataframe tbody tr th:only-of-type {\n",
       "        vertical-align: middle;\n",
       "    }\n",
       "\n",
       "    .dataframe tbody tr th {\n",
       "        vertical-align: top;\n",
       "    }\n",
       "\n",
       "    .dataframe thead th {\n",
       "        text-align: right;\n",
       "    }\n",
       "</style>\n",
       "<table border=\"1\" class=\"dataframe\">\n",
       "  <thead>\n",
       "    <tr style=\"text-align: right;\">\n",
       "      <th></th>\n",
       "      <th>Date</th>\n",
       "      <th>PerEURO</th>\n",
       "      <th>PerUSD</th>\n",
       "      <th>KeyIntRate</th>\n",
       "      <th>LoanIntRate</th>\n",
       "      <th>EuroIntRate</th>\n",
       "      <th>CPI</th>\n",
       "      <th>OilSpotPrice</th>\n",
       "      <th>ImpOldShip</th>\n",
       "      <th>ImpNewShip</th>\n",
       "      <th>...</th>\n",
       "      <th>ExpExShipOilPlat</th>\n",
       "      <th>TrBal</th>\n",
       "      <th>TrBalExShipOilPlat</th>\n",
       "      <th>TrBalMland</th>\n",
       "      <th>ly.var</th>\n",
       "      <th>l2y.var</th>\n",
       "      <th>l.CPI</th>\n",
       "      <th>ExcChange</th>\n",
       "      <th>Testrain</th>\n",
       "      <th>season</th>\n",
       "    </tr>\n",
       "  </thead>\n",
       "  <tbody>\n",
       "    <tr>\n",
       "      <th>0</th>\n",
       "      <td>2000-01-01</td>\n",
       "      <td>8.1215</td>\n",
       "      <td>8.0129</td>\n",
       "      <td>5.500000</td>\n",
       "      <td>7.500000</td>\n",
       "      <td>3.04</td>\n",
       "      <td>104.1</td>\n",
       "      <td>25.855741</td>\n",
       "      <td>114</td>\n",
       "      <td>915</td>\n",
       "      <td>...</td>\n",
       "      <td>38619</td>\n",
       "      <td>18575</td>\n",
       "      <td>19238</td>\n",
       "      <td>-3257</td>\n",
       "      <td>8.0968</td>\n",
       "      <td>8.1907</td>\n",
       "      <td>103.6</td>\n",
       "      <td>Increase</td>\n",
       "      <td>True</td>\n",
       "      <td>winter</td>\n",
       "    </tr>\n",
       "    <tr>\n",
       "      <th>1</th>\n",
       "      <td>2000-02-01</td>\n",
       "      <td>8.0991</td>\n",
       "      <td>8.2361</td>\n",
       "      <td>5.500000</td>\n",
       "      <td>7.500000</td>\n",
       "      <td>3.28</td>\n",
       "      <td>104.6</td>\n",
       "      <td>27.317905</td>\n",
       "      <td>527</td>\n",
       "      <td>359</td>\n",
       "      <td>...</td>\n",
       "      <td>38730</td>\n",
       "      <td>14217</td>\n",
       "      <td>17200</td>\n",
       "      <td>-4529</td>\n",
       "      <td>8.1215</td>\n",
       "      <td>8.0968</td>\n",
       "      <td>104.1</td>\n",
       "      <td>Decrease</td>\n",
       "      <td>True</td>\n",
       "      <td>winter</td>\n",
       "    </tr>\n",
       "    <tr>\n",
       "      <th>2</th>\n",
       "      <td>2000-03-01</td>\n",
       "      <td>8.1110</td>\n",
       "      <td>8.4111</td>\n",
       "      <td>5.500000</td>\n",
       "      <td>7.500000</td>\n",
       "      <td>3.51</td>\n",
       "      <td>104.7</td>\n",
       "      <td>26.509183</td>\n",
       "      <td>1385</td>\n",
       "      <td>929</td>\n",
       "      <td>...</td>\n",
       "      <td>42642</td>\n",
       "      <td>13697</td>\n",
       "      <td>18380</td>\n",
       "      <td>-5562</td>\n",
       "      <td>8.0991</td>\n",
       "      <td>8.1215</td>\n",
       "      <td>104.6</td>\n",
       "      <td>Increase</td>\n",
       "      <td>True</td>\n",
       "      <td>Spring</td>\n",
       "    </tr>\n",
       "    <tr>\n",
       "      <th>3</th>\n",
       "      <td>2000-04-01</td>\n",
       "      <td>8.1538</td>\n",
       "      <td>8.6081</td>\n",
       "      <td>5.632353</td>\n",
       "      <td>7.632353</td>\n",
       "      <td>3.69</td>\n",
       "      <td>105.1</td>\n",
       "      <td>21.558821</td>\n",
       "      <td>450</td>\n",
       "      <td>2194</td>\n",
       "      <td>...</td>\n",
       "      <td>36860</td>\n",
       "      <td>13142</td>\n",
       "      <td>15499</td>\n",
       "      <td>-5147</td>\n",
       "      <td>8.1110</td>\n",
       "      <td>8.0991</td>\n",
       "      <td>104.7</td>\n",
       "      <td>Increase</td>\n",
       "      <td>True</td>\n",
       "      <td>Spring</td>\n",
       "    </tr>\n",
       "    <tr>\n",
       "      <th>4</th>\n",
       "      <td>2000-05-01</td>\n",
       "      <td>8.2015</td>\n",
       "      <td>9.0471</td>\n",
       "      <td>5.750000</td>\n",
       "      <td>7.750000</td>\n",
       "      <td>3.92</td>\n",
       "      <td>105.1</td>\n",
       "      <td>25.147242</td>\n",
       "      <td>239</td>\n",
       "      <td>608</td>\n",
       "      <td>...</td>\n",
       "      <td>42932</td>\n",
       "      <td>17733</td>\n",
       "      <td>18505</td>\n",
       "      <td>-5732</td>\n",
       "      <td>8.1538</td>\n",
       "      <td>8.1110</td>\n",
       "      <td>105.1</td>\n",
       "      <td>Increase</td>\n",
       "      <td>True</td>\n",
       "      <td>Spring</td>\n",
       "    </tr>\n",
       "  </tbody>\n",
       "</table>\n",
       "<p>5 rows × 28 columns</p>\n",
       "</div>"
      ],
      "text/plain": [
       "        Date  PerEURO  PerUSD  KeyIntRate  LoanIntRate  EuroIntRate    CPI  \\\n",
       "0 2000-01-01   8.1215  8.0129    5.500000     7.500000         3.04  104.1   \n",
       "1 2000-02-01   8.0991  8.2361    5.500000     7.500000         3.28  104.6   \n",
       "2 2000-03-01   8.1110  8.4111    5.500000     7.500000         3.51  104.7   \n",
       "3 2000-04-01   8.1538  8.6081    5.632353     7.632353         3.69  105.1   \n",
       "4 2000-05-01   8.2015  9.0471    5.750000     7.750000         3.92  105.1   \n",
       "\n",
       "   OilSpotPrice  ImpOldShip  ImpNewShip  ...  ExpExShipOilPlat  TrBal  \\\n",
       "0     25.855741         114         915  ...             38619  18575   \n",
       "1     27.317905         527         359  ...             38730  14217   \n",
       "2     26.509183        1385         929  ...             42642  13697   \n",
       "3     21.558821         450        2194  ...             36860  13142   \n",
       "4     25.147242         239         608  ...             42932  17733   \n",
       "\n",
       "   TrBalExShipOilPlat  TrBalMland  ly.var  l2y.var  l.CPI  ExcChange  \\\n",
       "0               19238       -3257  8.0968   8.1907  103.6   Increase   \n",
       "1               17200       -4529  8.1215   8.0968  104.1   Decrease   \n",
       "2               18380       -5562  8.0991   8.1215  104.6   Increase   \n",
       "3               15499       -5147  8.1110   8.0991  104.7   Increase   \n",
       "4               18505       -5732  8.1538   8.1110  105.1   Increase   \n",
       "\n",
       "   Testrain  season  \n",
       "0      True  winter  \n",
       "1      True  winter  \n",
       "2      True  Spring  \n",
       "3      True  Spring  \n",
       "4      True  Spring  \n",
       "\n",
       "[5 rows x 28 columns]"
      ]
     },
     "execution_count": 1,
     "metadata": {},
     "output_type": "execute_result"
    }
   ],
   "source": [
    "# Read the FinalData sheet of the OilExchange.xlsx file using Pandas\n",
    "import pandas as pd\n",
    "# You may get a warning here, because the file contains pasted grahics\n",
    "OilExchange = pd.read_excel('../../data/OilExchange.xlsx', sheet_name='FinalData') \n",
    "OilExchange.head()"
   ]
  },
  {
   "cell_type": "code",
   "execution_count": 2,
   "metadata": {
    "editable": true,
    "slideshow": {
     "slide_type": "slide"
    },
    "tags": []
   },
   "outputs": [
    {
     "data": {
      "text/plain": [
       "Index(['Date', 'PerEURO', 'PerUSD', 'KeyIntRate', 'LoanIntRate', 'EuroIntRate',\n",
       "       'CPI', 'OilSpotPrice', 'ImpOldShip', 'ImpNewShip', 'ImpOilPlat',\n",
       "       'ImpExShipOilPlat', 'ExpCrdOil', 'ExpNatGas', 'ExpCond', 'ExpOldShip',\n",
       "       'ExpNewShip', 'ExpOilPlat', 'ExpExShipOilPlat', 'TrBal',\n",
       "       'TrBalExShipOilPlat', 'TrBalMland', 'ly.var', 'l2y.var', 'l.CPI',\n",
       "       'ExcChange', 'Testrain', 'season'],\n",
       "      dtype='object')"
      ]
     },
     "execution_count": 2,
     "metadata": {},
     "output_type": "execute_result"
    }
   ],
   "source": [
    "OilExchange.columns"
   ]
  },
  {
   "cell_type": "code",
   "execution_count": 3,
   "metadata": {
    "editable": true,
    "slideshow": {
     "slide_type": "fragment"
    },
    "tags": []
   },
   "outputs": [
    {
     "name": "stderr",
     "output_type": "stream",
     "text": [
      "/Users/kristian/miniforge3/envs/IND320_2024/lib/python3.12/site-packages/openpyxl/worksheet/_reader.py:329: UserWarning: Unknown extension is not supported and will be removed\n",
      "  warn(msg)\n"
     ]
    },
    {
     "data": {
      "text/html": [
       "<div>\n",
       "<style scoped>\n",
       "    .dataframe tbody tr th:only-of-type {\n",
       "        vertical-align: middle;\n",
       "    }\n",
       "\n",
       "    .dataframe tbody tr th {\n",
       "        vertical-align: top;\n",
       "    }\n",
       "\n",
       "    .dataframe thead th {\n",
       "        text-align: right;\n",
       "    }\n",
       "</style>\n",
       "<table border=\"1\" class=\"dataframe\">\n",
       "  <thead>\n",
       "    <tr style=\"text-align: right;\">\n",
       "      <th></th>\n",
       "      <th>Variables</th>\n",
       "      <th>Label</th>\n",
       "    </tr>\n",
       "  </thead>\n",
       "  <tbody>\n",
       "    <tr>\n",
       "      <th>0</th>\n",
       "      <td>Date</td>\n",
       "      <td>Date</td>\n",
       "    </tr>\n",
       "    <tr>\n",
       "      <th>1</th>\n",
       "      <td>PerEURO</td>\n",
       "      <td>Exchange Rate of NOK per Euro</td>\n",
       "    </tr>\n",
       "    <tr>\n",
       "      <th>2</th>\n",
       "      <td>PerUSD</td>\n",
       "      <td>Exchange Rate of NOK per USD</td>\n",
       "    </tr>\n",
       "    <tr>\n",
       "      <th>3</th>\n",
       "      <td>KeyIntRate</td>\n",
       "      <td>Key policy rate (Percent)</td>\n",
       "    </tr>\n",
       "    <tr>\n",
       "      <th>4</th>\n",
       "      <td>LoanIntRate</td>\n",
       "      <td>Overnight Lending Rate (Nominal)</td>\n",
       "    </tr>\n",
       "    <tr>\n",
       "      <th>5</th>\n",
       "      <td>EuroIntRate</td>\n",
       "      <td>Money market interest rates of Euro area (EA11...</td>\n",
       "    </tr>\n",
       "    <tr>\n",
       "      <th>6</th>\n",
       "      <td>CPI</td>\n",
       "      <td>Consumer Price Index (1998=100)</td>\n",
       "    </tr>\n",
       "    <tr>\n",
       "      <th>7</th>\n",
       "      <td>OilSpotPrice</td>\n",
       "      <td>Europe Brent Spot Price FOB (NOK per Barrel)</td>\n",
       "    </tr>\n",
       "    <tr>\n",
       "      <th>8</th>\n",
       "      <td>ImpOldShip</td>\n",
       "      <td>Imports of elderly ships (NOK million)</td>\n",
       "    </tr>\n",
       "    <tr>\n",
       "      <th>9</th>\n",
       "      <td>ImpNewShip</td>\n",
       "      <td>Imports of new ships (NOK million)</td>\n",
       "    </tr>\n",
       "    <tr>\n",
       "      <th>10</th>\n",
       "      <td>ImpOilPlat</td>\n",
       "      <td>Imports of oil platforms (NOK million)</td>\n",
       "    </tr>\n",
       "    <tr>\n",
       "      <th>11</th>\n",
       "      <td>ImpExShipOilPlat</td>\n",
       "      <td>Imports excl. ships and oil platforms (NOK mil...</td>\n",
       "    </tr>\n",
       "    <tr>\n",
       "      <th>12</th>\n",
       "      <td>ExpCrdOil</td>\n",
       "      <td>Exports of crude oil (NOK million)</td>\n",
       "    </tr>\n",
       "    <tr>\n",
       "      <th>13</th>\n",
       "      <td>ExpNatGas</td>\n",
       "      <td>Exports of natural gas (NOK million)</td>\n",
       "    </tr>\n",
       "    <tr>\n",
       "      <th>14</th>\n",
       "      <td>ExpCond</td>\n",
       "      <td>Exports of condensates (NOK million)</td>\n",
       "    </tr>\n",
       "    <tr>\n",
       "      <th>15</th>\n",
       "      <td>ExpOldShip</td>\n",
       "      <td>Exports of elderly ships (NOK million)</td>\n",
       "    </tr>\n",
       "    <tr>\n",
       "      <th>16</th>\n",
       "      <td>ExpNewShip</td>\n",
       "      <td>Exports of new ships (NOK million)</td>\n",
       "    </tr>\n",
       "    <tr>\n",
       "      <th>17</th>\n",
       "      <td>ExpOilPlat</td>\n",
       "      <td>Exports of oil platforms (NOK million)</td>\n",
       "    </tr>\n",
       "    <tr>\n",
       "      <th>18</th>\n",
       "      <td>ExpExShipOilPlat</td>\n",
       "      <td>Exports excl. ships and oil platforms (NOK mil...</td>\n",
       "    </tr>\n",
       "    <tr>\n",
       "      <th>19</th>\n",
       "      <td>TrBal</td>\n",
       "      <td>Trade balance (Total exports - total imports) ...</td>\n",
       "    </tr>\n",
       "    <tr>\n",
       "      <th>20</th>\n",
       "      <td>TrBalExShipOilPlat</td>\n",
       "      <td>Trade balance (Exports - imports, both excl. s...</td>\n",
       "    </tr>\n",
       "    <tr>\n",
       "      <th>21</th>\n",
       "      <td>TrBalMland</td>\n",
       "      <td>Trade balance (Mainland exports - imports excl...</td>\n",
       "    </tr>\n",
       "    <tr>\n",
       "      <th>22</th>\n",
       "      <td>ly.var</td>\n",
       "      <td>First Lag Exchange Rate of NOK per Euro</td>\n",
       "    </tr>\n",
       "    <tr>\n",
       "      <th>23</th>\n",
       "      <td>l2y.var</td>\n",
       "      <td>Second Lag Exchange Rate of NOK per Euro</td>\n",
       "    </tr>\n",
       "    <tr>\n",
       "      <th>24</th>\n",
       "      <td>l.CPI</td>\n",
       "      <td>First Lag of Consumer Price Index</td>\n",
       "    </tr>\n",
       "    <tr>\n",
       "      <th>25</th>\n",
       "      <td>ExcChange</td>\n",
       "      <td>Change status of Exchange Rate (Increase, Decr...</td>\n",
       "    </tr>\n",
       "    <tr>\n",
       "      <th>26</th>\n",
       "      <td>Testrain</td>\n",
       "      <td>Test and Train seperation of data</td>\n",
       "    </tr>\n",
       "    <tr>\n",
       "      <th>27</th>\n",
       "      <td>season</td>\n",
       "      <td>Seasons</td>\n",
       "    </tr>\n",
       "  </tbody>\n",
       "</table>\n",
       "</div>"
      ],
      "text/plain": [
       "             Variables                                              Label\n",
       "0                 Date                                               Date\n",
       "1              PerEURO                      Exchange Rate of NOK per Euro\n",
       "2               PerUSD                       Exchange Rate of NOK per USD\n",
       "3           KeyIntRate                          Key policy rate (Percent)\n",
       "4          LoanIntRate                   Overnight Lending Rate (Nominal)\n",
       "5          EuroIntRate  Money market interest rates of Euro area (EA11...\n",
       "6                  CPI                    Consumer Price Index (1998=100)\n",
       "7         OilSpotPrice       Europe Brent Spot Price FOB (NOK per Barrel)\n",
       "8           ImpOldShip             Imports of elderly ships (NOK million)\n",
       "9           ImpNewShip                 Imports of new ships (NOK million)\n",
       "10          ImpOilPlat             Imports of oil platforms (NOK million)\n",
       "11    ImpExShipOilPlat  Imports excl. ships and oil platforms (NOK mil...\n",
       "12           ExpCrdOil                 Exports of crude oil (NOK million)\n",
       "13           ExpNatGas               Exports of natural gas (NOK million)\n",
       "14             ExpCond               Exports of condensates (NOK million)\n",
       "15          ExpOldShip             Exports of elderly ships (NOK million)\n",
       "16          ExpNewShip                 Exports of new ships (NOK million)\n",
       "17          ExpOilPlat             Exports of oil platforms (NOK million)\n",
       "18    ExpExShipOilPlat  Exports excl. ships and oil platforms (NOK mil...\n",
       "19               TrBal  Trade balance (Total exports - total imports) ...\n",
       "20  TrBalExShipOilPlat  Trade balance (Exports - imports, both excl. s...\n",
       "21          TrBalMland  Trade balance (Mainland exports - imports excl...\n",
       "22              ly.var            First Lag Exchange Rate of NOK per Euro\n",
       "23             l2y.var           Second Lag Exchange Rate of NOK per Euro\n",
       "24               l.CPI                  First Lag of Consumer Price Index\n",
       "25           ExcChange  Change status of Exchange Rate (Increase, Decr...\n",
       "26            Testrain                  Test and Train seperation of data\n",
       "27              season                                            Seasons"
      ]
     },
     "execution_count": 3,
     "metadata": {},
     "output_type": "execute_result"
    }
   ],
   "source": [
    "# Read the FinalCodeBook sheet of the OilExchange.xlsx file using Pandas\n",
    "Explanations = pd.read_excel('../../data/OilExchange.xlsx', sheet_name='FinalCodeBook')\n",
    "Explanations[['Variables','Label']]"
   ]
  },
  {
   "cell_type": "markdown",
   "metadata": {
    "editable": true,
    "slideshow": {
     "slide_type": "slide"
    },
    "tags": []
   },
   "source": [
    "### Modelling without time\n",
    "- For starters, let us ignore time and build a simple prediction model for the exchange rate.\n",
    "- We will use [scikit-learn's Pipeline](https://scikit-learn.org/stable/modules/generated/sklearn.pipeline.Pipeline.html) to combine standardisation (scaling) and linear regression and [cross_val_predict](https://scikit-learn.org/stable/modules/generated/sklearn.model_selection.cross_val_predict.html) to perform random K-fold cross-validation."
   ]
  },
  {
   "cell_type": "code",
   "execution_count": 4,
   "metadata": {
    "editable": true,
    "slideshow": {
     "slide_type": "fragment"
    },
    "tags": []
   },
   "outputs": [
    {
     "data": {
      "text/html": [
       "<style>#sk-container-id-1 {\n",
       "  /* Definition of color scheme common for light and dark mode */\n",
       "  --sklearn-color-text: black;\n",
       "  --sklearn-color-line: gray;\n",
       "  /* Definition of color scheme for unfitted estimators */\n",
       "  --sklearn-color-unfitted-level-0: #fff5e6;\n",
       "  --sklearn-color-unfitted-level-1: #f6e4d2;\n",
       "  --sklearn-color-unfitted-level-2: #ffe0b3;\n",
       "  --sklearn-color-unfitted-level-3: chocolate;\n",
       "  /* Definition of color scheme for fitted estimators */\n",
       "  --sklearn-color-fitted-level-0: #f0f8ff;\n",
       "  --sklearn-color-fitted-level-1: #d4ebff;\n",
       "  --sklearn-color-fitted-level-2: #b3dbfd;\n",
       "  --sklearn-color-fitted-level-3: cornflowerblue;\n",
       "\n",
       "  /* Specific color for light theme */\n",
       "  --sklearn-color-text-on-default-background: var(--sg-text-color, var(--theme-code-foreground, var(--jp-content-font-color1, black)));\n",
       "  --sklearn-color-background: var(--sg-background-color, var(--theme-background, var(--jp-layout-color0, white)));\n",
       "  --sklearn-color-border-box: var(--sg-text-color, var(--theme-code-foreground, var(--jp-content-font-color1, black)));\n",
       "  --sklearn-color-icon: #696969;\n",
       "\n",
       "  @media (prefers-color-scheme: dark) {\n",
       "    /* Redefinition of color scheme for dark theme */\n",
       "    --sklearn-color-text-on-default-background: var(--sg-text-color, var(--theme-code-foreground, var(--jp-content-font-color1, white)));\n",
       "    --sklearn-color-background: var(--sg-background-color, var(--theme-background, var(--jp-layout-color0, #111)));\n",
       "    --sklearn-color-border-box: var(--sg-text-color, var(--theme-code-foreground, var(--jp-content-font-color1, white)));\n",
       "    --sklearn-color-icon: #878787;\n",
       "  }\n",
       "}\n",
       "\n",
       "#sk-container-id-1 {\n",
       "  color: var(--sklearn-color-text);\n",
       "}\n",
       "\n",
       "#sk-container-id-1 pre {\n",
       "  padding: 0;\n",
       "}\n",
       "\n",
       "#sk-container-id-1 input.sk-hidden--visually {\n",
       "  border: 0;\n",
       "  clip: rect(1px 1px 1px 1px);\n",
       "  clip: rect(1px, 1px, 1px, 1px);\n",
       "  height: 1px;\n",
       "  margin: -1px;\n",
       "  overflow: hidden;\n",
       "  padding: 0;\n",
       "  position: absolute;\n",
       "  width: 1px;\n",
       "}\n",
       "\n",
       "#sk-container-id-1 div.sk-dashed-wrapped {\n",
       "  border: 1px dashed var(--sklearn-color-line);\n",
       "  margin: 0 0.4em 0.5em 0.4em;\n",
       "  box-sizing: border-box;\n",
       "  padding-bottom: 0.4em;\n",
       "  background-color: var(--sklearn-color-background);\n",
       "}\n",
       "\n",
       "#sk-container-id-1 div.sk-container {\n",
       "  /* jupyter's `normalize.less` sets `[hidden] { display: none; }`\n",
       "     but bootstrap.min.css set `[hidden] { display: none !important; }`\n",
       "     so we also need the `!important` here to be able to override the\n",
       "     default hidden behavior on the sphinx rendered scikit-learn.org.\n",
       "     See: https://github.com/scikit-learn/scikit-learn/issues/21755 */\n",
       "  display: inline-block !important;\n",
       "  position: relative;\n",
       "}\n",
       "\n",
       "#sk-container-id-1 div.sk-text-repr-fallback {\n",
       "  display: none;\n",
       "}\n",
       "\n",
       "div.sk-parallel-item,\n",
       "div.sk-serial,\n",
       "div.sk-item {\n",
       "  /* draw centered vertical line to link estimators */\n",
       "  background-image: linear-gradient(var(--sklearn-color-text-on-default-background), var(--sklearn-color-text-on-default-background));\n",
       "  background-size: 2px 100%;\n",
       "  background-repeat: no-repeat;\n",
       "  background-position: center center;\n",
       "}\n",
       "\n",
       "/* Parallel-specific style estimator block */\n",
       "\n",
       "#sk-container-id-1 div.sk-parallel-item::after {\n",
       "  content: \"\";\n",
       "  width: 100%;\n",
       "  border-bottom: 2px solid var(--sklearn-color-text-on-default-background);\n",
       "  flex-grow: 1;\n",
       "}\n",
       "\n",
       "#sk-container-id-1 div.sk-parallel {\n",
       "  display: flex;\n",
       "  align-items: stretch;\n",
       "  justify-content: center;\n",
       "  background-color: var(--sklearn-color-background);\n",
       "  position: relative;\n",
       "}\n",
       "\n",
       "#sk-container-id-1 div.sk-parallel-item {\n",
       "  display: flex;\n",
       "  flex-direction: column;\n",
       "}\n",
       "\n",
       "#sk-container-id-1 div.sk-parallel-item:first-child::after {\n",
       "  align-self: flex-end;\n",
       "  width: 50%;\n",
       "}\n",
       "\n",
       "#sk-container-id-1 div.sk-parallel-item:last-child::after {\n",
       "  align-self: flex-start;\n",
       "  width: 50%;\n",
       "}\n",
       "\n",
       "#sk-container-id-1 div.sk-parallel-item:only-child::after {\n",
       "  width: 0;\n",
       "}\n",
       "\n",
       "/* Serial-specific style estimator block */\n",
       "\n",
       "#sk-container-id-1 div.sk-serial {\n",
       "  display: flex;\n",
       "  flex-direction: column;\n",
       "  align-items: center;\n",
       "  background-color: var(--sklearn-color-background);\n",
       "  padding-right: 1em;\n",
       "  padding-left: 1em;\n",
       "}\n",
       "\n",
       "\n",
       "/* Toggleable style: style used for estimator/Pipeline/ColumnTransformer box that is\n",
       "clickable and can be expanded/collapsed.\n",
       "- Pipeline and ColumnTransformer use this feature and define the default style\n",
       "- Estimators will overwrite some part of the style using the `sk-estimator` class\n",
       "*/\n",
       "\n",
       "/* Pipeline and ColumnTransformer style (default) */\n",
       "\n",
       "#sk-container-id-1 div.sk-toggleable {\n",
       "  /* Default theme specific background. It is overwritten whether we have a\n",
       "  specific estimator or a Pipeline/ColumnTransformer */\n",
       "  background-color: var(--sklearn-color-background);\n",
       "}\n",
       "\n",
       "/* Toggleable label */\n",
       "#sk-container-id-1 label.sk-toggleable__label {\n",
       "  cursor: pointer;\n",
       "  display: block;\n",
       "  width: 100%;\n",
       "  margin-bottom: 0;\n",
       "  padding: 0.5em;\n",
       "  box-sizing: border-box;\n",
       "  text-align: center;\n",
       "}\n",
       "\n",
       "#sk-container-id-1 label.sk-toggleable__label-arrow:before {\n",
       "  /* Arrow on the left of the label */\n",
       "  content: \"▸\";\n",
       "  float: left;\n",
       "  margin-right: 0.25em;\n",
       "  color: var(--sklearn-color-icon);\n",
       "}\n",
       "\n",
       "#sk-container-id-1 label.sk-toggleable__label-arrow:hover:before {\n",
       "  color: var(--sklearn-color-text);\n",
       "}\n",
       "\n",
       "/* Toggleable content - dropdown */\n",
       "\n",
       "#sk-container-id-1 div.sk-toggleable__content {\n",
       "  max-height: 0;\n",
       "  max-width: 0;\n",
       "  overflow: hidden;\n",
       "  text-align: left;\n",
       "  /* unfitted */\n",
       "  background-color: var(--sklearn-color-unfitted-level-0);\n",
       "}\n",
       "\n",
       "#sk-container-id-1 div.sk-toggleable__content.fitted {\n",
       "  /* fitted */\n",
       "  background-color: var(--sklearn-color-fitted-level-0);\n",
       "}\n",
       "\n",
       "#sk-container-id-1 div.sk-toggleable__content pre {\n",
       "  margin: 0.2em;\n",
       "  border-radius: 0.25em;\n",
       "  color: var(--sklearn-color-text);\n",
       "  /* unfitted */\n",
       "  background-color: var(--sklearn-color-unfitted-level-0);\n",
       "}\n",
       "\n",
       "#sk-container-id-1 div.sk-toggleable__content.fitted pre {\n",
       "  /* unfitted */\n",
       "  background-color: var(--sklearn-color-fitted-level-0);\n",
       "}\n",
       "\n",
       "#sk-container-id-1 input.sk-toggleable__control:checked~div.sk-toggleable__content {\n",
       "  /* Expand drop-down */\n",
       "  max-height: 200px;\n",
       "  max-width: 100%;\n",
       "  overflow: auto;\n",
       "}\n",
       "\n",
       "#sk-container-id-1 input.sk-toggleable__control:checked~label.sk-toggleable__label-arrow:before {\n",
       "  content: \"▾\";\n",
       "}\n",
       "\n",
       "/* Pipeline/ColumnTransformer-specific style */\n",
       "\n",
       "#sk-container-id-1 div.sk-label input.sk-toggleable__control:checked~label.sk-toggleable__label {\n",
       "  color: var(--sklearn-color-text);\n",
       "  background-color: var(--sklearn-color-unfitted-level-2);\n",
       "}\n",
       "\n",
       "#sk-container-id-1 div.sk-label.fitted input.sk-toggleable__control:checked~label.sk-toggleable__label {\n",
       "  background-color: var(--sklearn-color-fitted-level-2);\n",
       "}\n",
       "\n",
       "/* Estimator-specific style */\n",
       "\n",
       "/* Colorize estimator box */\n",
       "#sk-container-id-1 div.sk-estimator input.sk-toggleable__control:checked~label.sk-toggleable__label {\n",
       "  /* unfitted */\n",
       "  background-color: var(--sklearn-color-unfitted-level-2);\n",
       "}\n",
       "\n",
       "#sk-container-id-1 div.sk-estimator.fitted input.sk-toggleable__control:checked~label.sk-toggleable__label {\n",
       "  /* fitted */\n",
       "  background-color: var(--sklearn-color-fitted-level-2);\n",
       "}\n",
       "\n",
       "#sk-container-id-1 div.sk-label label.sk-toggleable__label,\n",
       "#sk-container-id-1 div.sk-label label {\n",
       "  /* The background is the default theme color */\n",
       "  color: var(--sklearn-color-text-on-default-background);\n",
       "}\n",
       "\n",
       "/* On hover, darken the color of the background */\n",
       "#sk-container-id-1 div.sk-label:hover label.sk-toggleable__label {\n",
       "  color: var(--sklearn-color-text);\n",
       "  background-color: var(--sklearn-color-unfitted-level-2);\n",
       "}\n",
       "\n",
       "/* Label box, darken color on hover, fitted */\n",
       "#sk-container-id-1 div.sk-label.fitted:hover label.sk-toggleable__label.fitted {\n",
       "  color: var(--sklearn-color-text);\n",
       "  background-color: var(--sklearn-color-fitted-level-2);\n",
       "}\n",
       "\n",
       "/* Estimator label */\n",
       "\n",
       "#sk-container-id-1 div.sk-label label {\n",
       "  font-family: monospace;\n",
       "  font-weight: bold;\n",
       "  display: inline-block;\n",
       "  line-height: 1.2em;\n",
       "}\n",
       "\n",
       "#sk-container-id-1 div.sk-label-container {\n",
       "  text-align: center;\n",
       "}\n",
       "\n",
       "/* Estimator-specific */\n",
       "#sk-container-id-1 div.sk-estimator {\n",
       "  font-family: monospace;\n",
       "  border: 1px dotted var(--sklearn-color-border-box);\n",
       "  border-radius: 0.25em;\n",
       "  box-sizing: border-box;\n",
       "  margin-bottom: 0.5em;\n",
       "  /* unfitted */\n",
       "  background-color: var(--sklearn-color-unfitted-level-0);\n",
       "}\n",
       "\n",
       "#sk-container-id-1 div.sk-estimator.fitted {\n",
       "  /* fitted */\n",
       "  background-color: var(--sklearn-color-fitted-level-0);\n",
       "}\n",
       "\n",
       "/* on hover */\n",
       "#sk-container-id-1 div.sk-estimator:hover {\n",
       "  /* unfitted */\n",
       "  background-color: var(--sklearn-color-unfitted-level-2);\n",
       "}\n",
       "\n",
       "#sk-container-id-1 div.sk-estimator.fitted:hover {\n",
       "  /* fitted */\n",
       "  background-color: var(--sklearn-color-fitted-level-2);\n",
       "}\n",
       "\n",
       "/* Specification for estimator info (e.g. \"i\" and \"?\") */\n",
       "\n",
       "/* Common style for \"i\" and \"?\" */\n",
       "\n",
       ".sk-estimator-doc-link,\n",
       "a:link.sk-estimator-doc-link,\n",
       "a:visited.sk-estimator-doc-link {\n",
       "  float: right;\n",
       "  font-size: smaller;\n",
       "  line-height: 1em;\n",
       "  font-family: monospace;\n",
       "  background-color: var(--sklearn-color-background);\n",
       "  border-radius: 1em;\n",
       "  height: 1em;\n",
       "  width: 1em;\n",
       "  text-decoration: none !important;\n",
       "  margin-left: 1ex;\n",
       "  /* unfitted */\n",
       "  border: var(--sklearn-color-unfitted-level-1) 1pt solid;\n",
       "  color: var(--sklearn-color-unfitted-level-1);\n",
       "}\n",
       "\n",
       ".sk-estimator-doc-link.fitted,\n",
       "a:link.sk-estimator-doc-link.fitted,\n",
       "a:visited.sk-estimator-doc-link.fitted {\n",
       "  /* fitted */\n",
       "  border: var(--sklearn-color-fitted-level-1) 1pt solid;\n",
       "  color: var(--sklearn-color-fitted-level-1);\n",
       "}\n",
       "\n",
       "/* On hover */\n",
       "div.sk-estimator:hover .sk-estimator-doc-link:hover,\n",
       ".sk-estimator-doc-link:hover,\n",
       "div.sk-label-container:hover .sk-estimator-doc-link:hover,\n",
       ".sk-estimator-doc-link:hover {\n",
       "  /* unfitted */\n",
       "  background-color: var(--sklearn-color-unfitted-level-3);\n",
       "  color: var(--sklearn-color-background);\n",
       "  text-decoration: none;\n",
       "}\n",
       "\n",
       "div.sk-estimator.fitted:hover .sk-estimator-doc-link.fitted:hover,\n",
       ".sk-estimator-doc-link.fitted:hover,\n",
       "div.sk-label-container:hover .sk-estimator-doc-link.fitted:hover,\n",
       ".sk-estimator-doc-link.fitted:hover {\n",
       "  /* fitted */\n",
       "  background-color: var(--sklearn-color-fitted-level-3);\n",
       "  color: var(--sklearn-color-background);\n",
       "  text-decoration: none;\n",
       "}\n",
       "\n",
       "/* Span, style for the box shown on hovering the info icon */\n",
       ".sk-estimator-doc-link span {\n",
       "  display: none;\n",
       "  z-index: 9999;\n",
       "  position: relative;\n",
       "  font-weight: normal;\n",
       "  right: .2ex;\n",
       "  padding: .5ex;\n",
       "  margin: .5ex;\n",
       "  width: min-content;\n",
       "  min-width: 20ex;\n",
       "  max-width: 50ex;\n",
       "  color: var(--sklearn-color-text);\n",
       "  box-shadow: 2pt 2pt 4pt #999;\n",
       "  /* unfitted */\n",
       "  background: var(--sklearn-color-unfitted-level-0);\n",
       "  border: .5pt solid var(--sklearn-color-unfitted-level-3);\n",
       "}\n",
       "\n",
       ".sk-estimator-doc-link.fitted span {\n",
       "  /* fitted */\n",
       "  background: var(--sklearn-color-fitted-level-0);\n",
       "  border: var(--sklearn-color-fitted-level-3);\n",
       "}\n",
       "\n",
       ".sk-estimator-doc-link:hover span {\n",
       "  display: block;\n",
       "}\n",
       "\n",
       "/* \"?\"-specific style due to the `<a>` HTML tag */\n",
       "\n",
       "#sk-container-id-1 a.estimator_doc_link {\n",
       "  float: right;\n",
       "  font-size: 1rem;\n",
       "  line-height: 1em;\n",
       "  font-family: monospace;\n",
       "  background-color: var(--sklearn-color-background);\n",
       "  border-radius: 1rem;\n",
       "  height: 1rem;\n",
       "  width: 1rem;\n",
       "  text-decoration: none;\n",
       "  /* unfitted */\n",
       "  color: var(--sklearn-color-unfitted-level-1);\n",
       "  border: var(--sklearn-color-unfitted-level-1) 1pt solid;\n",
       "}\n",
       "\n",
       "#sk-container-id-1 a.estimator_doc_link.fitted {\n",
       "  /* fitted */\n",
       "  border: var(--sklearn-color-fitted-level-1) 1pt solid;\n",
       "  color: var(--sklearn-color-fitted-level-1);\n",
       "}\n",
       "\n",
       "/* On hover */\n",
       "#sk-container-id-1 a.estimator_doc_link:hover {\n",
       "  /* unfitted */\n",
       "  background-color: var(--sklearn-color-unfitted-level-3);\n",
       "  color: var(--sklearn-color-background);\n",
       "  text-decoration: none;\n",
       "}\n",
       "\n",
       "#sk-container-id-1 a.estimator_doc_link.fitted:hover {\n",
       "  /* fitted */\n",
       "  background-color: var(--sklearn-color-fitted-level-3);\n",
       "}\n",
       "</style><div id=\"sk-container-id-1\" class=\"sk-top-container\"><div class=\"sk-text-repr-fallback\"><pre>Pipeline(steps=[(&#x27;scaler&#x27;, StandardScaler()), (&#x27;reg&#x27;, LinearRegression())])</pre><b>In a Jupyter environment, please rerun this cell to show the HTML representation or trust the notebook. <br />On GitHub, the HTML representation is unable to render, please try loading this page with nbviewer.org.</b></div><div class=\"sk-container\" hidden><div class=\"sk-item sk-dashed-wrapped\"><div class=\"sk-label-container\"><div class=\"sk-label fitted sk-toggleable\"><input class=\"sk-toggleable__control sk-hidden--visually\" id=\"sk-estimator-id-1\" type=\"checkbox\" ><label for=\"sk-estimator-id-1\" class=\"sk-toggleable__label fitted sk-toggleable__label-arrow fitted\">&nbsp;&nbsp;Pipeline<a class=\"sk-estimator-doc-link fitted\" rel=\"noreferrer\" target=\"_blank\" href=\"https://scikit-learn.org/1.5/modules/generated/sklearn.pipeline.Pipeline.html\">?<span>Documentation for Pipeline</span></a><span class=\"sk-estimator-doc-link fitted\">i<span>Fitted</span></span></label><div class=\"sk-toggleable__content fitted\"><pre>Pipeline(steps=[(&#x27;scaler&#x27;, StandardScaler()), (&#x27;reg&#x27;, LinearRegression())])</pre></div> </div></div><div class=\"sk-serial\"><div class=\"sk-item\"><div class=\"sk-estimator fitted sk-toggleable\"><input class=\"sk-toggleable__control sk-hidden--visually\" id=\"sk-estimator-id-2\" type=\"checkbox\" ><label for=\"sk-estimator-id-2\" class=\"sk-toggleable__label fitted sk-toggleable__label-arrow fitted\">&nbsp;StandardScaler<a class=\"sk-estimator-doc-link fitted\" rel=\"noreferrer\" target=\"_blank\" href=\"https://scikit-learn.org/1.5/modules/generated/sklearn.preprocessing.StandardScaler.html\">?<span>Documentation for StandardScaler</span></a></label><div class=\"sk-toggleable__content fitted\"><pre>StandardScaler()</pre></div> </div></div><div class=\"sk-item\"><div class=\"sk-estimator fitted sk-toggleable\"><input class=\"sk-toggleable__control sk-hidden--visually\" id=\"sk-estimator-id-3\" type=\"checkbox\" ><label for=\"sk-estimator-id-3\" class=\"sk-toggleable__label fitted sk-toggleable__label-arrow fitted\">&nbsp;LinearRegression<a class=\"sk-estimator-doc-link fitted\" rel=\"noreferrer\" target=\"_blank\" href=\"https://scikit-learn.org/1.5/modules/generated/sklearn.linear_model.LinearRegression.html\">?<span>Documentation for LinearRegression</span></a></label><div class=\"sk-toggleable__content fitted\"><pre>LinearRegression()</pre></div> </div></div></div></div></div></div>"
      ],
      "text/plain": [
       "Pipeline(steps=[('scaler', StandardScaler()), ('reg', LinearRegression())])"
      ]
     },
     "execution_count": 4,
     "metadata": {},
     "output_type": "execute_result"
    }
   ],
   "source": [
    "# Import Pipeline, StandardScaler, and LinearRegression from their respective modules in sklearn\n",
    "from sklearn.pipeline import Pipeline\n",
    "from sklearn.preprocessing import StandardScaler\n",
    "from sklearn.linear_model import LinearRegression\n",
    "\n",
    "# Create a pipeline that scales the data and performs linear regression\n",
    "pipe = Pipeline([('scaler', StandardScaler()), ('reg', LinearRegression())])\n",
    "\n",
    "# Fit the pipeline with PerEURO as response and variables 3:-6 as predictors for the samples having True in the Testrain column\n",
    "OilExchange_train = OilExchange.loc[OilExchange.Testrain==True,:].copy()\n",
    "OilExchange_test = OilExchange.loc[OilExchange.Testrain==False,:].copy()\n",
    "pipe.fit(OilExchange_train.loc[:, OilExchange_train.columns[3:-6]], \\\n",
    "         OilExchange_train.loc[:, 'PerEURO'])"
   ]
  },
  {
   "cell_type": "code",
   "execution_count": 5,
   "metadata": {
    "editable": true,
    "slideshow": {
     "slide_type": "slide"
    },
    "tags": []
   },
   "outputs": [],
   "source": [
    "# Predict the corresponding data for Testrain = False\n",
    "PerEURO_pred = pipe.predict(OilExchange_test.loc[:, OilExchange.columns[3:-6]])"
   ]
  },
  {
   "cell_type": "code",
   "execution_count": 6,
   "metadata": {
    "editable": true,
    "slideshow": {
     "slide_type": "fragment"
    },
    "tags": []
   },
   "outputs": [
    {
     "data": {
      "image/png": "[encoded data removed]",
      "text/plain": [
       "<Figure size 640x480 with 1 Axes>"
      ]
     },
     "metadata": {},
     "output_type": "display_data"
    }
   ],
   "source": [
    "# Plot the predicted values against the actual values\n",
    "import matplotlib.pyplot as plt\n",
    "plt.scatter(OilExchange_test.loc[:, 'PerEURO'], PerEURO_pred)\n",
    "plt.xlabel('Actual PerEURO')\n",
    "plt.ylabel('Predicted PerEURO')\n",
    "plt.title('Test data predictions')\n",
    "plt.show()"
   ]
  },
  {
   "cell_type": "code",
   "execution_count": 7,
   "metadata": {
    "slideshow": {
     "slide_type": "slide"
    },
    "tags": []
   },
   "outputs": [
    {
     "data": {
      "text/plain": [
       "-0.9790095192618866"
      ]
     },
     "execution_count": 7,
     "metadata": {},
     "output_type": "execute_result"
    }
   ],
   "source": [
    "# R2 for the test data\n",
    "from sklearn.metrics import r2_score\n",
    "r2_score(OilExchange_test.loc[:, 'PerEURO'], PerEURO_pred)"
   ]
  },
  {
   "cell_type": "code",
   "execution_count": 8,
   "metadata": {
    "editable": true,
    "slideshow": {
     "slide_type": "slide"
    },
    "tags": []
   },
   "outputs": [
    {
     "name": "stdout",
     "output_type": "stream",
     "text": [
      "Cross-validated R2: -0.317\n"
     ]
    }
   ],
   "source": [
    "# Perform k-fold cross-validation with k=10\n",
    "from sklearn.model_selection import cross_val_predict # NOTE: Not for time series!\n",
    "PerEURO_cv = cross_val_predict(pipe, OilExchange_train.loc[:, OilExchange.columns[3:-6]], \\\n",
    "                               OilExchange_train.loc[:, 'PerEURO'], cv=10)\n",
    "\n",
    "# Compute R^2 for PerEURO_cv\n",
    "r2_cv = r2_score(OilExchange_train.loc[:, 'PerEURO'], PerEURO_cv)\n",
    "print(\"Cross-validated R2: {:.3f}\".format(r2_cv))"
   ]
  },
  {
   "cell_type": "markdown",
   "metadata": {
    "editable": true,
    "slideshow": {
     "slide_type": "slide"
    },
    "tags": []
   },
   "source": [
    "### Backtesting\n",
    "- scikit-learn has a [TimeSeriesSplit](https://scikit-learn.org/stable/modules/generated/sklearn.model_selection.TimeSeriesSplit.html) which creates segments for backtesting.\n",
    "    - _Expanding window_ is the default.\n",
    "    - _Sliding window_ can be applied by setting the right combination of parameters.\n",
    "- We will use [scikit-learn's cross_validate](https://scikit-learn.org/stable/modules/generated/sklearn.model_selection.cross_validate.html) to perform the cross-validation based on the backtesting segments (cross_val_predict assumes that all observations will be test data at some point).\n"
   ]
  },
  {
   "cell_type": "code",
   "execution_count": 9,
   "metadata": {
    "editable": true,
    "slideshow": {
     "slide_type": "slide"
    },
    "tags": []
   },
   "outputs": [
    {
     "name": "stdout",
     "output_type": "stream",
     "text": [
      "TimeSeriesSplit(gap=0, max_train_size=None, n_splits=5, test_size=None)\n",
      "Fold 0:\n",
      "  Train: index=[0]\n",
      "  Test:  index=[1]\n",
      "Fold 1:\n",
      "  Train: index=[0 1]\n",
      "  Test:  index=[2]\n",
      "Fold 2:\n",
      "  Train: index=[0 1 2]\n",
      "  Test:  index=[3]\n",
      "Fold 3:\n",
      "  Train: index=[0 1 2 3]\n",
      "  Test:  index=[4]\n",
      "Fold 4:\n",
      "  Train: index=[0 1 2 3 4]\n",
      "  Test:  index=[5]\n"
     ]
    }
   ],
   "source": [
    "# Backtesting using scikit-learn\n",
    "import numpy as np\n",
    "from sklearn.model_selection import TimeSeriesSplit\n",
    "\n",
    "# Some data\n",
    "X = np.array([[1, 2], [3, 4], [1, 2], [3, 4], [1, 2], [3, 4]])\n",
    "y = np.array([1, 2, 3, 4, 5, 6])\n",
    "\n",
    "# Create time series cross-validation object with expanding window\n",
    "tscv_expand = TimeSeriesSplit()\n",
    "print(tscv_expand)\n",
    "for i, (train_index, test_index) in enumerate(tscv_expand.split(X)):\n",
    "    print(f\"Fold {i}:\")\n",
    "    print(f\"  Train: index={train_index}\")\n",
    "    print(f\"  Test:  index={test_index}\")"
   ]
  },
  {
   "cell_type": "code",
   "execution_count": 10,
   "metadata": {
    "editable": true,
    "slideshow": {
     "slide_type": "slide"
    },
    "tags": []
   },
   "outputs": [
    {
     "name": "stdout",
     "output_type": "stream",
     "text": [
      "TimeSeriesSplit(gap=0, max_train_size=3, n_splits=3, test_size=None)\n",
      "Fold 0:\n",
      "  Train: index=[0 1 2]\n",
      "  Test:  index=[3]\n",
      "Fold 1:\n",
      "  Train: index=[1 2 3]\n",
      "  Test:  index=[4]\n",
      "Fold 2:\n",
      "  Train: index=[2 3 4]\n",
      "  Test:  index=[5]\n"
     ]
    }
   ],
   "source": [
    "# Backtesting with sliding window\n",
    "tscv_slide = TimeSeriesSplit(max_train_size=3, n_splits=3)\n",
    "print(tscv_slide)\n",
    "for i, (train_index, test_index) in enumerate(tscv_slide.split(X)):\n",
    "    print(f\"Fold {i}:\")\n",
    "    print(f\"  Train: index={train_index}\")\n",
    "    print(f\"  Test:  index={test_index}\")"
   ]
  },
  {
   "cell_type": "code",
   "execution_count": 11,
   "metadata": {
    "editable": true,
    "slideshow": {
     "slide_type": "slide"
    },
    "tags": []
   },
   "outputs": [
    {
     "name": "stdout",
     "output_type": "stream",
     "text": [
      "Fold 0:\n",
      "  Train: index=[ 0  1  2  3  4  5  6  7  8  9 10 11 12 13 14 15]\n",
      "  Test:  index=[16 17 18 19 20 21 22 23 24 25 26 27 28 29]\n",
      "Fold 1:\n",
      "  Train: index=[ 0  1  2  3  4  5  6  7  8  9 10 11 12 13 14 15 16 17 18 19 20 21 22 23\n",
      " 24 25 26 27 28 29]\n",
      "  Test:  index=[30 31 32 33 34 35 36 37 38 39 40 41 42 43]\n",
      "Fold 2:\n",
      "  Train: index=[ 0  1  2  3  4  5  6  7  8  9 10 11 12 13 14 15 16 17 18 19 20 21 22 23\n",
      " 24 25 26 27 28 29 30 31 32 33 34 35 36 37 38 39 40 41 42 43]\n",
      "  Test:  index=[44 45 46 47 48 49 50 51 52 53 54 55 56 57]\n",
      "Fold 3:\n",
      "  Train: index=[ 0  1  2  3  4  5  6  7  8  9 10 11 12 13 14 15 16 17 18 19 20 21 22 23\n",
      " 24 25 26 27 28 29 30 31 32 33 34 35 36 37 38 39 40 41 42 43 44 45 46 47\n",
      " 48 49 50 51 52 53 54 55 56 57]\n",
      "  Test:  index=[58 59 60 61 62 63 64 65 66 67 68 69 70 71]\n",
      "Fold 4:\n",
      "  Train: index=[ 0  1  2  3  4  5  6  7  8  9 10 11 12 13 14 15 16 17 18 19 20 21 22 23\n",
      " 24 25 26 27 28 29 30 31 32 33 34 35 36 37 38 39 40 41 42 43 44 45 46 47\n",
      " 48 49 50 51 52 53 54 55 56 57 58 59 60 61 62 63 64 65 66 67 68 69 70 71]\n",
      "  Test:  index=[72 73 74 75 76 77 78 79 80 81 82 83 84 85]\n",
      "Fold 5:\n",
      "  Train: index=[ 0  1  2  3  4  5  6  7  8  9 10 11 12 13 14 15 16 17 18 19 20 21 22 23\n",
      " 24 25 26 27 28 29 30 31 32 33 34 35 36 37 38 39 40 41 42 43 44 45 46 47\n",
      " 48 49 50 51 52 53 54 55 56 57 58 59 60 61 62 63 64 65 66 67 68 69 70 71\n",
      " 72 73 74 75 76 77 78 79 80 81 82 83 84 85]\n",
      "  Test:  index=[86 87 88 89 90 91 92 93 94 95 96 97 98 99]\n",
      "Fold 6:\n",
      "  Train: index=[ 0  1  2  3  4  5  6  7  8  9 10 11 12 13 14 15 16 17 18 19 20 21 22 23\n",
      " 24 25 26 27 28 29 30 31 32 33 34 35 36 37 38 39 40 41 42 43 44 45 46 47\n",
      " 48 49 50 51 52 53 54 55 56 57 58 59 60 61 62 63 64 65 66 67 68 69 70 71\n",
      " 72 73 74 75 76 77 78 79 80 81 82 83 84 85 86 87 88 89 90 91 92 93 94 95\n",
      " 96 97 98 99]\n",
      "  Test:  index=[100 101 102 103 104 105 106 107 108 109 110 111 112 113]\n",
      "Fold 7:\n",
      "  Train: index=[  0   1   2   3   4   5   6   7   8   9  10  11  12  13  14  15  16  17\n",
      "  18  19  20  21  22  23  24  25  26  27  28  29  30  31  32  33  34  35\n",
      "  36  37  38  39  40  41  42  43  44  45  46  47  48  49  50  51  52  53\n",
      "  54  55  56  57  58  59  60  61  62  63  64  65  66  67  68  69  70  71\n",
      "  72  73  74  75  76  77  78  79  80  81  82  83  84  85  86  87  88  89\n",
      "  90  91  92  93  94  95  96  97  98  99 100 101 102 103 104 105 106 107\n",
      " 108 109 110 111 112 113]\n",
      "  Test:  index=[114 115 116 117 118 119 120 121 122 123 124 125 126 127]\n",
      "Fold 8:\n",
      "  Train: index=[  0   1   2   3   4   5   6   7   8   9  10  11  12  13  14  15  16  17\n",
      "  18  19  20  21  22  23  24  25  26  27  28  29  30  31  32  33  34  35\n",
      "  36  37  38  39  40  41  42  43  44  45  46  47  48  49  50  51  52  53\n",
      "  54  55  56  57  58  59  60  61  62  63  64  65  66  67  68  69  70  71\n",
      "  72  73  74  75  76  77  78  79  80  81  82  83  84  85  86  87  88  89\n",
      "  90  91  92  93  94  95  96  97  98  99 100 101 102 103 104 105 106 107\n",
      " 108 109 110 111 112 113 114 115 116 117 118 119 120 121 122 123 124 125\n",
      " 126 127]\n",
      "  Test:  index=[128 129 130 131 132 133 134 135 136 137 138 139 140 141]\n",
      "Fold 9:\n",
      "  Train: index=[  0   1   2   3   4   5   6   7   8   9  10  11  12  13  14  15  16  17\n",
      "  18  19  20  21  22  23  24  25  26  27  28  29  30  31  32  33  34  35\n",
      "  36  37  38  39  40  41  42  43  44  45  46  47  48  49  50  51  52  53\n",
      "  54  55  56  57  58  59  60  61  62  63  64  65  66  67  68  69  70  71\n",
      "  72  73  74  75  76  77  78  79  80  81  82  83  84  85  86  87  88  89\n",
      "  90  91  92  93  94  95  96  97  98  99 100 101 102 103 104 105 106 107\n",
      " 108 109 110 111 112 113 114 115 116 117 118 119 120 121 122 123 124 125\n",
      " 126 127 128 129 130 131 132 133 134 135 136 137 138 139 140 141]\n",
      "  Test:  index=[142 143 144 145 146 147 148 149 150 151 152 153 154 155]\n"
     ]
    }
   ],
   "source": [
    "# Backtesting with expanding window in the OilExchange data\n",
    "tscv_expand = TimeSeriesSplit(n_splits=10)\n",
    "\n",
    "# The segments\n",
    "max_train = []\n",
    "for i, (train_index, test_index) in enumerate(tscv_expand.split(OilExchange_train.loc[:, 'PerEURO'])):\n",
    "    print(f\"Fold {i}:\")\n",
    "    print(f\"  Train: index={train_index}\")\n",
    "    max_train.append(max(train_index))\n",
    "    print(f\"  Test:  index={test_index}\")"
   ]
  },
  {
   "cell_type": "code",
   "execution_count": 12,
   "metadata": {
    "editable": true,
    "slideshow": {
     "slide_type": "slide"
    },
    "tags": []
   },
   "outputs": [
    {
     "data": {
      "text/plain": [
       "{'fit_time': array([0.00163889, 0.00238419, 0.00167203, 0.00142694, 0.00125217,\n",
       "        0.00127506, 0.00126195, 0.00124598, 0.00124907, 0.00121808]),\n",
       " 'score_time': array([0.00062919, 0.00071383, 0.00069785, 0.00059223, 0.00056911,\n",
       "        0.00054598, 0.00056577, 0.00057387, 0.00054884, 0.00054193]),\n",
       " 'test_score': array([-2.58120320e+03, -4.60283547e+00, -7.14984703e+00,  1.63052775e-01,\n",
       "        -5.45069739e+00, -1.00734416e+11, -1.62104880e+00, -2.82911176e-02,\n",
       "        -3.42287951e+00, -1.33079128e+01]),\n",
       " 'train_score': array([1.        , 0.95679732, 0.92352087, 0.85969706, 0.84590771,\n",
       "        0.78920227, 0.69881999, 0.68809706, 0.65576638, 0.64771763])}"
      ]
     },
     "execution_count": 12,
     "metadata": {},
     "output_type": "execute_result"
    }
   ],
   "source": [
    "# Backtesting using expanding window with data\n",
    "from sklearn.model_selection import cross_validate\n",
    "scores = cross_validate(pipe, OilExchange_train.loc[:, OilExchange_train.columns[3:-6]], \\\n",
    "                                 OilExchange_train.loc[:, 'PerEURO'], cv=tscv_expand, \\\n",
    "                                    scoring='r2', return_train_score=True)\n",
    "scores"
   ]
  },
  {
   "cell_type": "code",
   "execution_count": 13,
   "metadata": {
    "editable": true,
    "slideshow": {
     "slide_type": "slide"
    },
    "tags": []
   },
   "outputs": [
    {
     "data": {
      "image/png": "[encoded data removed]",
      "text/plain": [
       "<Figure size 640x480 with 2 Axes>"
      ]
     },
     "metadata": {},
     "output_type": "display_data"
    }
   ],
   "source": [
    "# Plot the backtesting results for train and test data, and under it ad the original data (PerEURO) as a subplot\n",
    "plt.subplot(2,1,1)\n",
    "plt.plot(scores['train_score'], label='Train')\n",
    "plt.plot(scores['test_score'], label='Test')\n",
    "plt.xlabel('Fold')\n",
    "plt.ylabel('R$^2$')\n",
    "plt.title('Backtesting results')\n",
    "plt.axhline(0, color='gray', linestyle='--')\n",
    "plt.ylim(-1.6,1.1)\n",
    "plt.legend()\n",
    "plt.subplot(2,1,2)\n",
    "plt.plot(OilExchange_train.loc[:, 'PerEURO'])\n",
    "for i in range(10):\n",
    "    plt.axvline(x=max_train[i], color='gray', linestyle='--')\n",
    "plt.xlabel('Time')\n",
    "plt.ylabel('PerEURO')\n",
    "plt.show()"
   ]
  },
  {
   "cell_type": "markdown",
   "metadata": {
    "editable": true,
    "slideshow": {
     "slide_type": "slide"
    },
    "tags": []
   },
   "source": [
    "__Question:__ Does the behaviour make sense with regard to what is included in and predicted from the model?"
   ]
  },
  {
   "cell_type": "code",
   "execution_count": 14,
   "metadata": {
    "editable": true,
    "slideshow": {
     "slide_type": "slide"
    },
    "tags": []
   },
   "outputs": [
    {
     "name": "stdout",
     "output_type": "stream",
     "text": [
      "Fold 0:\n",
      "  Train: index=[ 0  1  2  3  4  5  6  7  8  9 10 11 12 13 14 15]\n",
      "  Test:  index=[16 17 18 19 20 21 22 23 24 25 26 27 28 29]\n",
      "Fold 1:\n",
      "  Train: index=[ 0  1  2  3  4  5  6  7  8  9 10 11 12 13 14 15 16 17 18 19 20 21 22 23\n",
      " 24 25 26 27 28 29]\n",
      "  Test:  index=[30 31 32 33 34 35 36 37 38 39 40 41 42 43]\n",
      "Fold 2:\n",
      "  Train: index=[ 0  1  2  3  4  5  6  7  8  9 10 11 12 13 14 15 16 17 18 19 20 21 22 23\n",
      " 24 25 26 27 28 29 30 31 32 33 34 35 36 37 38 39 40 41 42 43]\n",
      "  Test:  index=[44 45 46 47 48 49 50 51 52 53 54 55 56 57]\n",
      "Fold 3:\n",
      "  Train: index=[13 14 15 16 17 18 19 20 21 22 23 24 25 26 27 28 29 30 31 32 33 34 35 36\n",
      " 37 38 39 40 41 42 43 44 45 46 47 48 49 50 51 52 53 54 55 56 57]\n",
      "  Test:  index=[58 59 60 61 62 63 64 65 66 67 68 69 70 71]\n",
      "Fold 4:\n",
      "  Train: index=[27 28 29 30 31 32 33 34 35 36 37 38 39 40 41 42 43 44 45 46 47 48 49 50\n",
      " 51 52 53 54 55 56 57 58 59 60 61 62 63 64 65 66 67 68 69 70 71]\n",
      "  Test:  index=[72 73 74 75 76 77 78 79 80 81 82 83 84 85]\n",
      "Fold 5:\n",
      "  Train: index=[41 42 43 44 45 46 47 48 49 50 51 52 53 54 55 56 57 58 59 60 61 62 63 64\n",
      " 65 66 67 68 69 70 71 72 73 74 75 76 77 78 79 80 81 82 83 84 85]\n",
      "  Test:  index=[86 87 88 89 90 91 92 93 94 95 96 97 98 99]\n",
      "Fold 6:\n",
      "  Train: index=[55 56 57 58 59 60 61 62 63 64 65 66 67 68 69 70 71 72 73 74 75 76 77 78\n",
      " 79 80 81 82 83 84 85 86 87 88 89 90 91 92 93 94 95 96 97 98 99]\n",
      "  Test:  index=[100 101 102 103 104 105 106 107 108 109 110 111 112 113]\n",
      "Fold 7:\n",
      "  Train: index=[ 69  70  71  72  73  74  75  76  77  78  79  80  81  82  83  84  85  86\n",
      "  87  88  89  90  91  92  93  94  95  96  97  98  99 100 101 102 103 104\n",
      " 105 106 107 108 109 110 111 112 113]\n",
      "  Test:  index=[114 115 116 117 118 119 120 121 122 123 124 125 126 127]\n",
      "Fold 8:\n",
      "  Train: index=[ 83  84  85  86  87  88  89  90  91  92  93  94  95  96  97  98  99 100\n",
      " 101 102 103 104 105 106 107 108 109 110 111 112 113 114 115 116 117 118\n",
      " 119 120 121 122 123 124 125 126 127]\n",
      "  Test:  index=[128 129 130 131 132 133 134 135 136 137 138 139 140 141]\n",
      "Fold 9:\n",
      "  Train: index=[ 97  98  99 100 101 102 103 104 105 106 107 108 109 110 111 112 113 114\n",
      " 115 116 117 118 119 120 121 122 123 124 125 126 127 128 129 130 131 132\n",
      " 133 134 135 136 137 138 139 140 141]\n",
      "  Test:  index=[142 143 144 145 146 147 148 149 150 151 152 153 154 155]\n"
     ]
    }
   ],
   "source": [
    "# Backtesting with sliding window in the OilExchange data\n",
    "tscv_slide = TimeSeriesSplit(max_train_size=45, n_splits=10)\n",
    "\n",
    "# The segments\n",
    "max_train = []\n",
    "for i, (train_index, test_index) in enumerate(tscv_slide.split(OilExchange_train.loc[:, 'PerEURO'])):\n",
    "    print(f\"Fold {i}:\")\n",
    "    print(f\"  Train: index={train_index}\")\n",
    "    max_train.append(max(train_index))\n",
    "    print(f\"  Test:  index={test_index}\")"
   ]
  },
  {
   "cell_type": "code",
   "execution_count": 15,
   "metadata": {
    "editable": true,
    "slideshow": {
     "slide_type": "slide"
    },
    "tags": []
   },
   "outputs": [
    {
     "data": {
      "text/plain": [
       "{'fit_time': array([0.00150204, 0.00127387, 0.00165415, 0.00150585, 0.00121188,\n",
       "        0.00118709, 0.00118279, 0.00116992, 0.00115108, 0.00114727]),\n",
       " 'score_time': array([0.00063109, 0.00056601, 0.00061107, 0.00060296, 0.00056314,\n",
       "        0.00054908, 0.00054908, 0.00054598, 0.00054502, 0.00054073]),\n",
       " 'test_score': array([-2.69048314e+03, -1.41149796e+00, -1.48578129e+00,  2.15110053e-01,\n",
       "        -7.83627964e+00, -1.40606556e+12,  5.20015261e-01, -2.78711930e+00,\n",
       "        -7.94540728e+04,  3.87646039e-01]),\n",
       " 'train_score': array([1.        , 0.99453091, 0.95716141, 0.94470747, 0.96005874,\n",
       "        0.90744159, 0.75351647, 0.96129276, 0.93446863, 0.94984339])}"
      ]
     },
     "execution_count": 15,
     "metadata": {},
     "output_type": "execute_result"
    }
   ],
   "source": [
    "# Backtesting using sliding window with data\n",
    "from sklearn.model_selection import cross_validate\n",
    "scores = cross_validate(pipe, OilExchange_train.loc[:, OilExchange_train.columns[3:-4]], \\\n",
    "                                 OilExchange_train.loc[:, 'PerEURO'], cv=tscv_slide, \\\n",
    "                                    scoring='r2', return_train_score=True)\n",
    "scores"
   ]
  },
  {
   "cell_type": "code",
   "execution_count": 16,
   "metadata": {
    "editable": true,
    "slideshow": {
     "slide_type": "slide"
    },
    "tags": []
   },
   "outputs": [
    {
     "data": {
      "image/png": "[encoded data removed]",
      "text/plain": [
       "<Figure size 640x480 with 2 Axes>"
      ]
     },
     "metadata": {},
     "output_type": "display_data"
    }
   ],
   "source": [
    "# Plot the backtesting results for train and test data, and under it ad the original data (PerEURO) as a subplot\n",
    "plt.subplot(2,1,1)\n",
    "plt.plot(scores['train_score'], label='Train')\n",
    "plt.plot(scores['test_score'], label='Test')\n",
    "plt.xlabel('Fold')\n",
    "plt.ylabel('R$^2$')\n",
    "plt.title('Backtesting results')\n",
    "plt.axhline(0, color='gray', linestyle='--')\n",
    "plt.ylim(-1.6,1.1)\n",
    "plt.legend()\n",
    "plt.subplot(2,1,2)\n",
    "plt.plot(OilExchange_train.loc[:, 'PerEURO'])\n",
    "for i in range(10):\n",
    "    plt.axvline(x=max_train[i], color='gray', linestyle='--')\n",
    "plt.xlabel('Time')\n",
    "plt.ylabel('PerEURO')\n",
    "plt.show()"
   ]
  },
  {
   "cell_type": "markdown",
   "metadata": {
    "editable": true,
    "slideshow": {
     "slide_type": "slide"
    },
    "tags": []
   },
   "source": [
    "__Question:__ Again; does the behaviour make sense with regard to what is included in and predicted from the model?"
   ]
  },
  {
   "cell_type": "markdown",
   "metadata": {
    "editable": true,
    "slideshow": {
     "slide_type": "slide"
    },
    "tags": []
   },
   "source": [
    "## Exercise\n",
    "- Repeat the PerEuro predictions, but exchange LinearRegression with scikit-learns's _PLSRegression_.\n",
    "- Check if the number of components in the PLS model has an effect on the explained variance ($\\text{R}^2$), either manually or using a _GridSearchCV_."
   ]
  },
  {
   "cell_type": "markdown",
   "metadata": {
    "editable": true,
    "slideshow": {
     "slide_type": "slide"
    },
    "tags": []
   },
   "source": [
    "### Including the response variable in the predictors\n",
    "- As long as the training and test sets are not overlapping, we can include the response as a predictor.\n",
    "- Adding the response lagged can be done as a single variable or several variables (i.e., several different lags).\n",
    "- We will later look at ARIMA-type models where time lag is the main mechanism for modelling."
   ]
  },
  {
   "cell_type": "code",
   "execution_count": 17,
   "metadata": {
    "editable": true,
    "slideshow": {
     "slide_type": "fragment"
    },
    "tags": []
   },
   "outputs": [
    {
     "data": {
      "text/html": [
       "<div>\n",
       "<style scoped>\n",
       "    .dataframe tbody tr th:only-of-type {\n",
       "        vertical-align: middle;\n",
       "    }\n",
       "\n",
       "    .dataframe tbody tr th {\n",
       "        vertical-align: top;\n",
       "    }\n",
       "\n",
       "    .dataframe thead th {\n",
       "        text-align: right;\n",
       "    }\n",
       "</style>\n",
       "<table border=\"1\" class=\"dataframe\">\n",
       "  <thead>\n",
       "    <tr style=\"text-align: right;\">\n",
       "      <th></th>\n",
       "      <th>Date</th>\n",
       "      <th>PerEURO</th>\n",
       "      <th>PerUSD</th>\n",
       "      <th>KeyIntRate</th>\n",
       "      <th>LoanIntRate</th>\n",
       "      <th>EuroIntRate</th>\n",
       "      <th>CPI</th>\n",
       "      <th>OilSpotPrice</th>\n",
       "      <th>ImpOldShip</th>\n",
       "      <th>ImpNewShip</th>\n",
       "      <th>...</th>\n",
       "      <th>TrBal</th>\n",
       "      <th>TrBalExShipOilPlat</th>\n",
       "      <th>TrBalMland</th>\n",
       "      <th>ly.var</th>\n",
       "      <th>l2y.var</th>\n",
       "      <th>l.CPI</th>\n",
       "      <th>ExcChange</th>\n",
       "      <th>Testrain</th>\n",
       "      <th>season</th>\n",
       "      <th>PerEURO_lag1</th>\n",
       "    </tr>\n",
       "  </thead>\n",
       "  <tbody>\n",
       "    <tr>\n",
       "      <th>0</th>\n",
       "      <td>2000-01-01</td>\n",
       "      <td>8.1215</td>\n",
       "      <td>8.0129</td>\n",
       "      <td>5.500000</td>\n",
       "      <td>7.500000</td>\n",
       "      <td>3.04</td>\n",
       "      <td>104.1</td>\n",
       "      <td>25.855741</td>\n",
       "      <td>114</td>\n",
       "      <td>915</td>\n",
       "      <td>...</td>\n",
       "      <td>18575</td>\n",
       "      <td>19238</td>\n",
       "      <td>-3257</td>\n",
       "      <td>8.0968</td>\n",
       "      <td>8.1907</td>\n",
       "      <td>103.6</td>\n",
       "      <td>Increase</td>\n",
       "      <td>True</td>\n",
       "      <td>winter</td>\n",
       "      <td>8.1215</td>\n",
       "    </tr>\n",
       "    <tr>\n",
       "      <th>1</th>\n",
       "      <td>2000-02-01</td>\n",
       "      <td>8.0991</td>\n",
       "      <td>8.2361</td>\n",
       "      <td>5.500000</td>\n",
       "      <td>7.500000</td>\n",
       "      <td>3.28</td>\n",
       "      <td>104.6</td>\n",
       "      <td>27.317905</td>\n",
       "      <td>527</td>\n",
       "      <td>359</td>\n",
       "      <td>...</td>\n",
       "      <td>14217</td>\n",
       "      <td>17200</td>\n",
       "      <td>-4529</td>\n",
       "      <td>8.1215</td>\n",
       "      <td>8.0968</td>\n",
       "      <td>104.1</td>\n",
       "      <td>Decrease</td>\n",
       "      <td>True</td>\n",
       "      <td>winter</td>\n",
       "      <td>8.1215</td>\n",
       "    </tr>\n",
       "    <tr>\n",
       "      <th>2</th>\n",
       "      <td>2000-03-01</td>\n",
       "      <td>8.1110</td>\n",
       "      <td>8.4111</td>\n",
       "      <td>5.500000</td>\n",
       "      <td>7.500000</td>\n",
       "      <td>3.51</td>\n",
       "      <td>104.7</td>\n",
       "      <td>26.509183</td>\n",
       "      <td>1385</td>\n",
       "      <td>929</td>\n",
       "      <td>...</td>\n",
       "      <td>13697</td>\n",
       "      <td>18380</td>\n",
       "      <td>-5562</td>\n",
       "      <td>8.0991</td>\n",
       "      <td>8.1215</td>\n",
       "      <td>104.6</td>\n",
       "      <td>Increase</td>\n",
       "      <td>True</td>\n",
       "      <td>Spring</td>\n",
       "      <td>8.0991</td>\n",
       "    </tr>\n",
       "    <tr>\n",
       "      <th>3</th>\n",
       "      <td>2000-04-01</td>\n",
       "      <td>8.1538</td>\n",
       "      <td>8.6081</td>\n",
       "      <td>5.632353</td>\n",
       "      <td>7.632353</td>\n",
       "      <td>3.69</td>\n",
       "      <td>105.1</td>\n",
       "      <td>21.558821</td>\n",
       "      <td>450</td>\n",
       "      <td>2194</td>\n",
       "      <td>...</td>\n",
       "      <td>13142</td>\n",
       "      <td>15499</td>\n",
       "      <td>-5147</td>\n",
       "      <td>8.1110</td>\n",
       "      <td>8.0991</td>\n",
       "      <td>104.7</td>\n",
       "      <td>Increase</td>\n",
       "      <td>True</td>\n",
       "      <td>Spring</td>\n",
       "      <td>8.1110</td>\n",
       "    </tr>\n",
       "    <tr>\n",
       "      <th>4</th>\n",
       "      <td>2000-05-01</td>\n",
       "      <td>8.2015</td>\n",
       "      <td>9.0471</td>\n",
       "      <td>5.750000</td>\n",
       "      <td>7.750000</td>\n",
       "      <td>3.92</td>\n",
       "      <td>105.1</td>\n",
       "      <td>25.147242</td>\n",
       "      <td>239</td>\n",
       "      <td>608</td>\n",
       "      <td>...</td>\n",
       "      <td>17733</td>\n",
       "      <td>18505</td>\n",
       "      <td>-5732</td>\n",
       "      <td>8.1538</td>\n",
       "      <td>8.1110</td>\n",
       "      <td>105.1</td>\n",
       "      <td>Increase</td>\n",
       "      <td>True</td>\n",
       "      <td>Spring</td>\n",
       "      <td>8.1538</td>\n",
       "    </tr>\n",
       "  </tbody>\n",
       "</table>\n",
       "<p>5 rows × 29 columns</p>\n",
       "</div>"
      ],
      "text/plain": [
       "        Date  PerEURO  PerUSD  KeyIntRate  LoanIntRate  EuroIntRate    CPI  \\\n",
       "0 2000-01-01   8.1215  8.0129    5.500000     7.500000         3.04  104.1   \n",
       "1 2000-02-01   8.0991  8.2361    5.500000     7.500000         3.28  104.6   \n",
       "2 2000-03-01   8.1110  8.4111    5.500000     7.500000         3.51  104.7   \n",
       "3 2000-04-01   8.1538  8.6081    5.632353     7.632353         3.69  105.1   \n",
       "4 2000-05-01   8.2015  9.0471    5.750000     7.750000         3.92  105.1   \n",
       "\n",
       "   OilSpotPrice  ImpOldShip  ImpNewShip  ...  TrBal  TrBalExShipOilPlat  \\\n",
       "0     25.855741         114         915  ...  18575               19238   \n",
       "1     27.317905         527         359  ...  14217               17200   \n",
       "2     26.509183        1385         929  ...  13697               18380   \n",
       "3     21.558821         450        2194  ...  13142               15499   \n",
       "4     25.147242         239         608  ...  17733               18505   \n",
       "\n",
       "   TrBalMland  ly.var  l2y.var  l.CPI  ExcChange  Testrain  season  \\\n",
       "0       -3257  8.0968   8.1907  103.6   Increase      True  winter   \n",
       "1       -4529  8.1215   8.0968  104.1   Decrease      True  winter   \n",
       "2       -5562  8.0991   8.1215  104.6   Increase      True  Spring   \n",
       "3       -5147  8.1110   8.0991  104.7   Increase      True  Spring   \n",
       "4       -5732  8.1538   8.1110  105.1   Increase      True  Spring   \n",
       "\n",
       "   PerEURO_lag1  \n",
       "0        8.1215  \n",
       "1        8.1215  \n",
       "2        8.0991  \n",
       "3        8.1110  \n",
       "4        8.1538  \n",
       "\n",
       "[5 rows x 29 columns]"
      ]
     },
     "execution_count": 17,
     "metadata": {},
     "output_type": "execute_result"
    }
   ],
   "source": [
    "# Add the Per Euro column to the OilExchange data but shifted 1 timepoint backwards (and backfill last value)\n",
    "OilExchange_train['PerEURO_lag1'] = OilExchange_train.PerEURO.shift(1).bfill()\n",
    "OilExchange_train.head()"
   ]
  },
  {
   "cell_type": "code",
   "execution_count": 18,
   "metadata": {
    "editable": true,
    "slideshow": {
     "slide_type": "slide"
    },
    "tags": []
   },
   "outputs": [
    {
     "data": {
      "text/plain": [
       "{'fit_time': array([0.00184131, 0.00139403, 0.00140524, 0.00133514, 0.0012033 ,\n",
       "        0.00117612, 0.00117493, 0.00117397, 0.00115204, 0.00115275]),\n",
       " 'score_time': array([0.00074387, 0.00058818, 0.00057387, 0.00057864, 0.00055671,\n",
       "        0.00054812, 0.00055313, 0.00055504, 0.00054407, 0.0005393 ]),\n",
       " 'test_score': array([-3.23917569e+00, -1.51173590e+00, -2.91230071e+00,  1.34622553e-01,\n",
       "        -6.81986837e+00, -1.02963323e+12,  5.94148027e-01, -2.01189464e+00,\n",
       "        -1.67957480e+04,  3.97449531e-01]),\n",
       " 'train_score': array([1.        , 0.9921763 , 0.95255996, 0.94041573, 0.95467944,\n",
       "        0.88697053, 0.75049267, 0.95403986, 0.93250471, 0.94798768])}"
      ]
     },
     "execution_count": 18,
     "metadata": {},
     "output_type": "execute_result"
    }
   ],
   "source": [
    "# Backtesting using sliding window with data\n",
    "from sklearn.model_selection import cross_validate #       Negative indexing is scary!      -->\n",
    "scores = cross_validate(pipe, pd.concat([OilExchange_train.loc[:, OilExchange_train.columns[3:-7]], OilExchange_train[\"PerEURO_lag1\"]], axis=1), \\\n",
    "                                 OilExchange_train.loc[:, 'PerEURO'], cv=tscv_slide, \\\n",
    "                                    scoring='r2', return_train_score=True)\n",
    "scores"
   ]
  },
  {
   "cell_type": "code",
   "execution_count": 19,
   "metadata": {
    "editable": true,
    "slideshow": {
     "slide_type": "slide"
    },
    "tags": []
   },
   "outputs": [
    {
     "data": {
      "image/png": "[encoded data removed]",
      "text/plain": [
       "<Figure size 640x480 with 2 Axes>"
      ]
     },
     "metadata": {},
     "output_type": "display_data"
    }
   ],
   "source": [
    "# Plot the backtesting results for train and test data, and under it ad the original data (PerEURO) as a subplot\n",
    "plt.subplot(2,1,1)\n",
    "plt.plot(scores['train_score'], label='Train')\n",
    "plt.plot(scores['test_score'], label='Test')\n",
    "plt.xlabel('Fold')\n",
    "plt.ylabel('R^2')\n",
    "plt.title('Backtesting results')\n",
    "plt.axhline(0, color='gray', linestyle='--')\n",
    "plt.ylim(-1.6,1.1)\n",
    "plt.legend()\n",
    "plt.subplot(2,1,2)\n",
    "plt.plot(OilExchange_train.loc[:, 'PerEURO'])\n",
    "for i in range(10):\n",
    "    plt.axvline(x=max_train[i], color='gray', linestyle='--')\n",
    "plt.xlabel('Time')\n",
    "plt.ylabel('PerEURO')\n",
    "plt.show()"
   ]
  },
  {
   "cell_type": "markdown",
   "metadata": {
    "editable": true,
    "slideshow": {
     "slide_type": "slide"
    },
    "tags": []
   },
   "source": [
    "### Five lags"
   ]
  },
  {
   "cell_type": "code",
   "execution_count": 20,
   "metadata": {
    "editable": true,
    "slideshow": {
     "slide_type": "slide"
    },
    "tags": []
   },
   "outputs": [
    {
     "data": {
      "text/html": [
       "<div>\n",
       "<style scoped>\n",
       "    .dataframe tbody tr th:only-of-type {\n",
       "        vertical-align: middle;\n",
       "    }\n",
       "\n",
       "    .dataframe tbody tr th {\n",
       "        vertical-align: top;\n",
       "    }\n",
       "\n",
       "    .dataframe thead th {\n",
       "        text-align: right;\n",
       "    }\n",
       "</style>\n",
       "<table border=\"1\" class=\"dataframe\">\n",
       "  <thead>\n",
       "    <tr style=\"text-align: right;\">\n",
       "      <th></th>\n",
       "      <th>Date</th>\n",
       "      <th>PerEURO</th>\n",
       "      <th>PerUSD</th>\n",
       "      <th>KeyIntRate</th>\n",
       "      <th>LoanIntRate</th>\n",
       "      <th>EuroIntRate</th>\n",
       "      <th>CPI</th>\n",
       "      <th>OilSpotPrice</th>\n",
       "      <th>ImpOldShip</th>\n",
       "      <th>ImpNewShip</th>\n",
       "      <th>...</th>\n",
       "      <th>l2y.var</th>\n",
       "      <th>l.CPI</th>\n",
       "      <th>ExcChange</th>\n",
       "      <th>Testrain</th>\n",
       "      <th>season</th>\n",
       "      <th>PerEURO_lag1</th>\n",
       "      <th>PerEURO_lag2</th>\n",
       "      <th>PerEURO_lag3</th>\n",
       "      <th>PerEURO_lag4</th>\n",
       "      <th>PerEURO_lag5</th>\n",
       "    </tr>\n",
       "  </thead>\n",
       "  <tbody>\n",
       "    <tr>\n",
       "      <th>0</th>\n",
       "      <td>2000-01-01</td>\n",
       "      <td>8.1215</td>\n",
       "      <td>8.0129</td>\n",
       "      <td>5.500000</td>\n",
       "      <td>7.500000</td>\n",
       "      <td>3.04</td>\n",
       "      <td>104.1</td>\n",
       "      <td>25.855741</td>\n",
       "      <td>114</td>\n",
       "      <td>915</td>\n",
       "      <td>...</td>\n",
       "      <td>8.1907</td>\n",
       "      <td>103.6</td>\n",
       "      <td>Increase</td>\n",
       "      <td>True</td>\n",
       "      <td>winter</td>\n",
       "      <td>8.1215</td>\n",
       "      <td>8.1215</td>\n",
       "      <td>8.1215</td>\n",
       "      <td>8.1215</td>\n",
       "      <td>8.1215</td>\n",
       "    </tr>\n",
       "    <tr>\n",
       "      <th>1</th>\n",
       "      <td>2000-02-01</td>\n",
       "      <td>8.0991</td>\n",
       "      <td>8.2361</td>\n",
       "      <td>5.500000</td>\n",
       "      <td>7.500000</td>\n",
       "      <td>3.28</td>\n",
       "      <td>104.6</td>\n",
       "      <td>27.317905</td>\n",
       "      <td>527</td>\n",
       "      <td>359</td>\n",
       "      <td>...</td>\n",
       "      <td>8.0968</td>\n",
       "      <td>104.1</td>\n",
       "      <td>Decrease</td>\n",
       "      <td>True</td>\n",
       "      <td>winter</td>\n",
       "      <td>8.1215</td>\n",
       "      <td>8.1215</td>\n",
       "      <td>8.1215</td>\n",
       "      <td>8.1215</td>\n",
       "      <td>8.1215</td>\n",
       "    </tr>\n",
       "    <tr>\n",
       "      <th>2</th>\n",
       "      <td>2000-03-01</td>\n",
       "      <td>8.1110</td>\n",
       "      <td>8.4111</td>\n",
       "      <td>5.500000</td>\n",
       "      <td>7.500000</td>\n",
       "      <td>3.51</td>\n",
       "      <td>104.7</td>\n",
       "      <td>26.509183</td>\n",
       "      <td>1385</td>\n",
       "      <td>929</td>\n",
       "      <td>...</td>\n",
       "      <td>8.1215</td>\n",
       "      <td>104.6</td>\n",
       "      <td>Increase</td>\n",
       "      <td>True</td>\n",
       "      <td>Spring</td>\n",
       "      <td>8.0991</td>\n",
       "      <td>8.1215</td>\n",
       "      <td>8.1215</td>\n",
       "      <td>8.1215</td>\n",
       "      <td>8.1215</td>\n",
       "    </tr>\n",
       "    <tr>\n",
       "      <th>3</th>\n",
       "      <td>2000-04-01</td>\n",
       "      <td>8.1538</td>\n",
       "      <td>8.6081</td>\n",
       "      <td>5.632353</td>\n",
       "      <td>7.632353</td>\n",
       "      <td>3.69</td>\n",
       "      <td>105.1</td>\n",
       "      <td>21.558821</td>\n",
       "      <td>450</td>\n",
       "      <td>2194</td>\n",
       "      <td>...</td>\n",
       "      <td>8.0991</td>\n",
       "      <td>104.7</td>\n",
       "      <td>Increase</td>\n",
       "      <td>True</td>\n",
       "      <td>Spring</td>\n",
       "      <td>8.1110</td>\n",
       "      <td>8.0991</td>\n",
       "      <td>8.1215</td>\n",
       "      <td>8.1215</td>\n",
       "      <td>8.1215</td>\n",
       "    </tr>\n",
       "    <tr>\n",
       "      <th>4</th>\n",
       "      <td>2000-05-01</td>\n",
       "      <td>8.2015</td>\n",
       "      <td>9.0471</td>\n",
       "      <td>5.750000</td>\n",
       "      <td>7.750000</td>\n",
       "      <td>3.92</td>\n",
       "      <td>105.1</td>\n",
       "      <td>25.147242</td>\n",
       "      <td>239</td>\n",
       "      <td>608</td>\n",
       "      <td>...</td>\n",
       "      <td>8.1110</td>\n",
       "      <td>105.1</td>\n",
       "      <td>Increase</td>\n",
       "      <td>True</td>\n",
       "      <td>Spring</td>\n",
       "      <td>8.1538</td>\n",
       "      <td>8.1110</td>\n",
       "      <td>8.0991</td>\n",
       "      <td>8.1215</td>\n",
       "      <td>8.1215</td>\n",
       "    </tr>\n",
       "  </tbody>\n",
       "</table>\n",
       "<p>5 rows × 33 columns</p>\n",
       "</div>"
      ],
      "text/plain": [
       "        Date  PerEURO  PerUSD  KeyIntRate  LoanIntRate  EuroIntRate    CPI  \\\n",
       "0 2000-01-01   8.1215  8.0129    5.500000     7.500000         3.04  104.1   \n",
       "1 2000-02-01   8.0991  8.2361    5.500000     7.500000         3.28  104.6   \n",
       "2 2000-03-01   8.1110  8.4111    5.500000     7.500000         3.51  104.7   \n",
       "3 2000-04-01   8.1538  8.6081    5.632353     7.632353         3.69  105.1   \n",
       "4 2000-05-01   8.2015  9.0471    5.750000     7.750000         3.92  105.1   \n",
       "\n",
       "   OilSpotPrice  ImpOldShip  ImpNewShip  ...  l2y.var  l.CPI  ExcChange  \\\n",
       "0     25.855741         114         915  ...   8.1907  103.6   Increase   \n",
       "1     27.317905         527         359  ...   8.0968  104.1   Decrease   \n",
       "2     26.509183        1385         929  ...   8.1215  104.6   Increase   \n",
       "3     21.558821         450        2194  ...   8.0991  104.7   Increase   \n",
       "4     25.147242         239         608  ...   8.1110  105.1   Increase   \n",
       "\n",
       "   Testrain  season  PerEURO_lag1  PerEURO_lag2  PerEURO_lag3  PerEURO_lag4  \\\n",
       "0      True  winter        8.1215        8.1215        8.1215        8.1215   \n",
       "1      True  winter        8.1215        8.1215        8.1215        8.1215   \n",
       "2      True  Spring        8.0991        8.1215        8.1215        8.1215   \n",
       "3      True  Spring        8.1110        8.0991        8.1215        8.1215   \n",
       "4      True  Spring        8.1538        8.1110        8.0991        8.1215   \n",
       "\n",
       "   PerEURO_lag5  \n",
       "0        8.1215  \n",
       "1        8.1215  \n",
       "2        8.1215  \n",
       "3        8.1215  \n",
       "4        8.1215  \n",
       "\n",
       "[5 rows x 33 columns]"
      ]
     },
     "execution_count": 20,
     "metadata": {},
     "output_type": "execute_result"
    }
   ],
   "source": [
    "OilExchange_train['PerEURO_lag2'] = OilExchange_train.PerEURO.shift(2).bfill()\n",
    "OilExchange_train['PerEURO_lag3'] = OilExchange_train.PerEURO.shift(3).bfill()\n",
    "OilExchange_train['PerEURO_lag4'] = OilExchange_train.PerEURO.shift(4).bfill()\n",
    "OilExchange_train['PerEURO_lag5'] = OilExchange_train.PerEURO.shift(5).bfill()\n",
    "OilExchange_train.head()"
   ]
  },
  {
   "cell_type": "code",
   "execution_count": 21,
   "metadata": {
    "editable": true,
    "slideshow": {
     "slide_type": "slide"
    },
    "tags": []
   },
   "outputs": [
    {
     "data": {
      "text/plain": [
       "{'fit_time': array([0.0014739 , 0.00196004, 0.00138402, 0.00130582, 0.0012517 ,\n",
       "        0.00130606, 0.00122285, 0.0012958 , 0.00126219, 0.00126791]),\n",
       " 'score_time': array([0.00060606, 0.00071001, 0.00060701, 0.00058699, 0.00061011,\n",
       "        0.00058293, 0.00055408, 0.00058913, 0.00058389, 0.00063181]),\n",
       " 'test_score': array([-5.69820756e-01, -1.31098583e+00, -4.22244308e+00, -1.10809063e+00,\n",
       "        -5.93617580e+00, -1.55149966e+12,  5.51939962e-01, -2.81878260e+00,\n",
       "        -2.51925736e+00,  7.09248896e-01]),\n",
       " 'train_score': array([1.        , 0.99617589, 0.97075986, 0.95156849, 0.96162574,\n",
       "        0.92555208, 0.76327123, 0.97259431, 0.95439249, 0.96566249])}"
      ]
     },
     "execution_count": 21,
     "metadata": {},
     "output_type": "execute_result"
    }
   ],
   "source": [
    "# Backtesting using sliding window with data\n",
    "from sklearn.model_selection import cross_validate #       Negative indexing is scary!      -->\n",
    "scores = cross_validate(pipe, pd.concat([OilExchange_train.loc[:, OilExchange_train.columns[3:-11]], \n",
    "                                         OilExchange_train[[\"PerEURO_lag1\",\"PerEURO_lag2\",\"PerEURO_lag3\",\"PerEURO_lag4\",\"PerEURO_lag5\"]]], axis=1),\n",
    "                                         OilExchange_train.loc[:, 'PerEURO'], cv=tscv_slide,\n",
    "                                         scoring='r2', return_train_score=True)\n",
    "scores"
   ]
  },
  {
   "cell_type": "code",
   "execution_count": 22,
   "metadata": {
    "editable": true,
    "slideshow": {
     "slide_type": "slide"
    },
    "tags": []
   },
   "outputs": [
    {
     "data": {
      "image/png": "[encoded data removed]",
      "text/plain": [
       "<Figure size 640x480 with 2 Axes>"
      ]
     },
     "metadata": {},
     "output_type": "display_data"
    }
   ],
   "source": [
    "# Plot the backtesting results for train and test data, and under it ad the original data (PerEURO) as a subplot\n",
    "plt.subplot(2,1,1)\n",
    "plt.plot(scores['train_score'], label='Train')\n",
    "plt.plot(scores['test_score'], label='Test')\n",
    "plt.xlabel('Fold')\n",
    "plt.ylabel('R^2')\n",
    "plt.title('Backtesting results')\n",
    "plt.axhline(0, color='gray', linestyle='--')\n",
    "plt.ylim(-1.6,1.1)\n",
    "plt.legend()\n",
    "plt.subplot(2,1,2)\n",
    "plt.plot(OilExchange_train.loc[:, 'PerEURO'])\n",
    "for i in range(10):\n",
    "    plt.axvline(x=max_train[i], color='gray', linestyle='--')\n",
    "plt.xlabel('Time')\n",
    "plt.ylabel('PerEURO')\n",
    "plt.show()"
   ]
  },
  {
   "cell_type": "markdown",
   "metadata": {
    "editable": true,
    "slideshow": {
     "slide_type": "slide"
    },
    "tags": []
   },
   "source": [
    "## Correlation between time series\n",
    "- To get an impression of the connection between different variables, one can compute correlations, e.g., in the form of correlation a matrix.\n",
    "- If one expects one variable to affect another variable at a later time, correlation with a lag can be computed.\n",
    "- The degree of connection between two time series may also be dependent on time. \n",
    "    - A Sliding Window Correlation (SWC) shows local correlation in time windows.\n",
    "    - The window size (and possible lag) can be tuned for series of quick or slow changes.\n",
    "- __Note__: Correlation does not equal causation.\n",
    "    - There may not be a cause and effect, even though two phenomena show similar patterns. Beautifully illustrated by [Tyler Vigen](https://www.tylervigen.com/spurious-correlations).\n",
    "- The concept of Autocorrelation will be covered later."
   ]
  },
  {
   "cell_type": "code",
   "execution_count": 23,
   "metadata": {
    "editable": true,
    "slideshow": {
     "slide_type": "slide"
    },
    "tags": []
   },
   "outputs": [
    {
     "name": "stdout",
     "output_type": "stream",
     "text": [
      "Correlation between PerEURO and ExpNatGas: -0.000\n",
      "Correlation between PerEURO and ExpNatGas lagged 10 timepoints: 0.093\n"
     ]
    }
   ],
   "source": [
    "PerEURO_ExpNatGas_corr = np.corrcoef(OilExchange['PerEURO'], OilExchange['ExpNatGas'])\n",
    "PerEURO_ExpNatGas_corr_lagged = np.corrcoef(OilExchange['PerEURO'][10:], OilExchange['ExpNatGas'][0:len(OilExchange['ExpNatGas'])-10])\n",
    "print(\"Correlation between PerEURO and ExpNatGas: {:.3f}\".format(PerEURO_ExpNatGas_corr[0,1]))\n",
    "print(\"Correlation between PerEURO and ExpNatGas lagged 10 timepoints: {:.3f}\".format(PerEURO_ExpNatGas_corr_lagged[0,1]))"
   ]
  },
  {
   "cell_type": "code",
   "execution_count": 24,
   "metadata": {
    "editable": true,
    "slideshow": {
     "slide_type": "slide"
    },
    "tags": []
   },
   "outputs": [
    {
     "data": {
      "application/vnd.jupyter.widget-view+json": {
       "model_id": "cce91e152c464d5a9c9561c3fb133ce0",
       "version_major": 2,
       "version_minor": 0
      },
      "text/plain": [
       "interactive(children=(IntSlider(value=0, description='lag'), Output()), _dom_classes=('widget-interact',))"
      ]
     },
     "metadata": {},
     "output_type": "display_data"
    }
   ],
   "source": [
    "# Use ipywidgets to create a slider for the lag\n",
    "from ipywidgets import interact\n",
    "def lagged_correlation(lag=0):\n",
    "    x.index += lag\n",
    "    corr = np.corrcoef(y[lag:], x[0:len(y)-lag])\n",
    "    print(\"Correlation between {} and {} lagged {} timepoints: {:.3f}\".format(x.name, y.name, lag, corr[0,1]))\n",
    "\n",
    "x = OilExchange['ExpNatGas']\n",
    "y = OilExchange['PerEURO']\n",
    "interact(lagged_correlation, lag=(0,100,1)); # Semi-colon to suppress output"
   ]
  },
  {
   "cell_type": "code",
   "execution_count": 25,
   "metadata": {
    "slideshow": {
     "slide_type": "slide"
    },
    "tags": []
   },
   "outputs": [
    {
     "data": {
      "application/vnd.jupyter.widget-view+json": {
       "model_id": "31b66b16108b44da80d9633e03fbd4bf",
       "version_major": 2,
       "version_minor": 0
      },
      "text/plain": [
       "interactive(children=(IntSlider(value=22, description='center', max=156, min=22), Output()), _dom_classes=('wi…"
      ]
     },
     "metadata": {},
     "output_type": "display_data"
    }
   ],
   "source": [
    "# Sliding window correlation with window size 45\n",
    "PerEURO_ExpNatGas_SWC = OilExchange['PerEURO'].rolling(45, center=True).corr(OilExchange['ExpNatGas'])\n",
    "\n",
    "# Plot PerEURO, ExpNatGas and PerEURO_ExpNatGas_SWC as subplots\n",
    "def plot_SWC(center=22):\n",
    "    plt.subplot(3,1,1)\n",
    "    plt.plot(OilExchange['PerEURO'])\n",
    "    plt.plot(range(center-22,center+22), OilExchange['PerEURO'][center-22:center+22], color=\"red\")\n",
    "    plt.ylabel('PerEURO')\n",
    "    plt.xlim(0, len(OilExchange['PerEURO']))\n",
    "    plt.subplot(3,1,2)\n",
    "    plt.plot(OilExchange['ExpNatGas'])\n",
    "    plt.plot(range(center-22,center+22), OilExchange['ExpNatGas'][center-22:center+22], color=\"red\")\n",
    "    plt.ylabel('ExpNatGas')\n",
    "    plt.xlim(0, len(OilExchange['PerEURO']))\n",
    "    plt.subplot(3,1,3)\n",
    "    plt.plot(PerEURO_ExpNatGas_SWC)\n",
    "    plt.plot(center, PerEURO_ExpNatGas_SWC[center], 'r.')\n",
    "    plt.axhline(y=0, color='gray', linestyle=':')\n",
    "    plt.ylim(-1,1)\n",
    "    plt.xlim(0, len(OilExchange['PerEURO']))\n",
    "    plt.xlabel('Time')\n",
    "    plt.ylabel('SWC')\n",
    "    plt.show()\n",
    "\n",
    "interact(plot_SWC, center=(22,len(OilExchange['PerEURO'])-23,1)); # Semi-colon to suppress output"
   ]
  },
  {
   "cell_type": "markdown",
   "metadata": {
    "editable": true,
    "slideshow": {
     "slide_type": "slide"
    },
    "tags": []
   },
   "source": [
    "```{note}\n",
    "If the lag approaches the length of the series, few points are included in the calculations.\n",
    "```"
   ]
  },
  {
   "cell_type": "code",
   "execution_count": 26,
   "metadata": {
    "tags": []
   },
   "outputs": [
    {
     "data": {
      "text/plain": [
       "0       4054\n",
       "1       3803\n",
       "2       4017\n",
       "3       3331\n",
       "4       2642\n",
       "       ...  \n",
       "174    13766\n",
       "175    13069\n",
       "176    13946\n",
       "177    21988\n",
       "178    19070\n",
       "Name: ExpNatGas, Length: 179, dtype: int64"
      ]
     },
     "execution_count": 26,
     "metadata": {},
     "output_type": "execute_result"
    }
   ],
   "source": [
    "OilExchange['ExpNatGas']"
   ]
  },
  {
   "cell_type": "markdown",
   "metadata": {
    "editable": true,
    "slideshow": {
     "slide_type": "slide"
    },
    "tags": []
   },
   "source": [
    "### Pandas' rolling()\n",
    "- When applying Pandas' rolling() function, the index is used for matching the data points.\n",
    "- Therefore, we need to shift the index of the ExpNatGas to achieve a lag.\n",
    "- Because of the sliding window, the two series do not need to match in length."
   ]
  },
  {
   "cell_type": "code",
   "execution_count": 27,
   "metadata": {
    "editable": true,
    "slideshow": {
     "slide_type": "fragment"
    },
    "tags": []
   },
   "outputs": [
    {
     "data": {
      "image/png": "[encoded data removed]",
      "text/plain": [
       "<Figure size 640x480 with 1 Axes>"
      ]
     },
     "metadata": {},
     "output_type": "display_data"
    },
    {
     "data": {
      "text/plain": [
       "RangeIndex(start=10, stop=189, step=1)"
      ]
     },
     "execution_count": 27,
     "metadata": {},
     "output_type": "execute_result"
    }
   ],
   "source": [
    "OE = OilExchange['ExpNatGas'].copy() # <- Remember to copy, to avoid changing the original data!\n",
    "OE.index += 10\n",
    "plt.plot(OilExchange['PerEURO'].rolling(45, center=True).corr(OE))\n",
    "plt.xlim(0, len(OilExchange['PerEURO']))\n",
    "plt.show()\n",
    "OE.index"
   ]
  },
  {
   "cell_type": "markdown",
   "metadata": {
    "editable": true,
    "slideshow": {
     "slide_type": "slide"
    },
    "tags": []
   },
   "source": [
    "## Exercise\n",
    "- Combine lag and sliding window correlation.\n",
    "- Use _ipywidgets_ to control:\n",
    "    - window width\n",
    "    - lag\n",
    "    - selected variable to compare to PerEURO\n",
    "    - bonus: visualize the sliding window like above"
   ]
  },
  {
   "cell_type": "markdown",
   "metadata": {
    "editable": true,
    "slideshow": {
     "slide_type": "slide"
    },
    "tags": []
   },
   "source": [
    "```{seealso} Resources\n",
    ":class: tip\n",
    "- [Roy Yang's bloggpost on uber.com](https://www.uber.com/en-NO/blog/omphalos/)\n",
    "- Raju Rimal's dataset on [ResearchGate](https://www.researchgate.net/publication/275647285_Related_Dataset),\n",
    "- ... and his [Master thesis](https://nmbu.brage.unit.no/nmbu-xmlui/handle/11250/283547).\n",
    "- [scikit-learn's TimeSeriesSplit](https://scikit-learn.org/stable/modules/generated/sklearn.model_selection.TimeSeriesSplit.html)\n",
    "- [scikit-learn's Pipeline](https://scikit-learn.org/stable/modules/generated/sklearn.pipeline.Pipeline.html)\n",
    "- [scikit-learn's cross_val_predict](https://scikit-learn.org/stable/modules/generated/sklearn.model_selection.cross_val_predict.html)\n",
    "- [scikit-learn's cross_validate](https://scikit-learn.org/stable/modules/generated/sklearn.model_selection.cross_validate.html)\n",
    "- [Pandas' rolling](https://pandas.pydata.org/docs/reference/api/pandas.DataFrame.rolling.html)\n",
    "```"
   ]
  }
 ],
 "metadata": {
  "kernelspec": {
   "display_name": "Python 3 (ipykernel)",
   "language": "python",
   "name": "python3"
  },
  "language_info": {
   "codemirror_mode": {
    "name": "ipython",
    "version": 3
   },
   "file_extension": ".py",
   "mimetype": "text/x-python",
   "name": "python",
   "nbconvert_exporter": "python",
   "pygments_lexer": "ipython3",
   "version": "3.12.4"
  },
  "widgets": {
   "application/vnd.jupyter.widget-state+json": {
    "state": {
     "318e5ed72e384732a7f8bd623dfb4987": {
      "model_module": "@jupyter-widgets/base",
      "model_module_version": "2.0.0",
      "model_name": "LayoutModel",
      "state": {
       "_model_module": "@jupyter-widgets/base",
       "_model_module_version": "2.0.0",
       "_model_name": "LayoutModel",
       "_view_count": null,
       "_view_module": "@jupyter-widgets/base",
       "_view_module_version": "2.0.0",
       "_view_name": "LayoutView",
       "align_content": null,
       "align_items": null,
       "align_self": null,
       "border_bottom": null,
       "border_left": null,
       "border_right": null,
       "border_top": null,
       "bottom": null,
       "display": null,
       "flex": null,
       "flex_flow": null,
       "grid_area": null,
       "grid_auto_columns": null,
       "grid_auto_flow": null,
       "grid_auto_rows": null,
       "grid_column": null,
       "grid_gap": null,
       "grid_row": null,
       "grid_template_areas": null,
       "grid_template_columns": null,
       "grid_template_rows": null,
       "height": null,
       "justify_content": null,
       "justify_items": null,
       "left": null,
       "margin": null,
       "max_height": null,
       "max_width": null,
       "min_height": null,
       "min_width": null,
       "object_fit": null,
       "object_position": null,
       "order": null,
       "overflow": null,
       "padding": null,
       "right": null,
       "top": null,
       "visibility": null,
       "width": null
      }
     },
     "31b66b16108b44da80d9633e03fbd4bf": {
      "model_module": "@jupyter-widgets/controls",
      "model_module_version": "2.0.0",
      "model_name": "VBoxModel",
      "state": {
       "_dom_classes": [
        "widget-interact"
       ],
       "_model_module": "@jupyter-widgets/controls",
       "_model_module_version": "2.0.0",
       "_model_name": "VBoxModel",
       "_view_count": null,
       "_view_module": "@jupyter-widgets/controls",
       "_view_module_version": "2.0.0",
       "_view_name": "VBoxView",
       "box_style": "",
       "children": [
        "IPY_MODEL_a4b9e62bd0ec4f73bb3f079de9eb7fea",
        "IPY_MODEL_a861e597997a40adbd524b26dd233eca"
       ],
       "layout": "IPY_MODEL_318e5ed72e384732a7f8bd623dfb4987",
       "tabbable": null,
       "tooltip": null
      }
     },
     "9e18f4ed75934b3c869e0b376ea264b4": {
      "model_module": "@jupyter-widgets/base",
      "model_module_version": "2.0.0",
      "model_name": "LayoutModel",
      "state": {
       "_model_module": "@jupyter-widgets/base",
       "_model_module_version": "2.0.0",
       "_model_name": "LayoutModel",
       "_view_count": null,
       "_view_module": "@jupyter-widgets/base",
       "_view_module_version": "2.0.0",
       "_view_name": "LayoutView",
       "align_content": null,
       "align_items": null,
       "align_self": null,
       "border_bottom": null,
       "border_left": null,
       "border_right": null,
       "border_top": null,
       "bottom": null,
       "display": null,
       "flex": null,
       "flex_flow": null,
       "grid_area": null,
       "grid_auto_columns": null,
       "grid_auto_flow": null,
       "grid_auto_rows": null,
       "grid_column": null,
       "grid_gap": null,
       "grid_row": null,
       "grid_template_areas": null,
       "grid_template_columns": null,
       "grid_template_rows": null,
       "height": null,
       "justify_content": null,
       "justify_items": null,
       "left": null,
       "margin": null,
       "max_height": null,
       "max_width": null,
       "min_height": null,
       "min_width": null,
       "object_fit": null,
       "object_position": null,
       "order": null,
       "overflow": null,
       "padding": null,
       "right": null,
       "top": null,
       "visibility": null,
       "width": null
      }
     },
     "9e5ee1892ac948d888fe7b2b783416c2": {
      "model_module": "@jupyter-widgets/base",
      "model_module_version": "2.0.0",
      "model_name": "LayoutModel",
      "state": {
       "_model_module": "@jupyter-widgets/base",
       "_model_module_version": "2.0.0",
       "_model_name": "LayoutModel",
       "_view_count": null,
       "_view_module": "@jupyter-widgets/base",
       "_view_module_version": "2.0.0",
       "_view_name": "LayoutView",
       "align_content": null,
       "align_items": null,
       "align_self": null,
       "border_bottom": null,
       "border_left": null,
       "border_right": null,
       "border_top": null,
       "bottom": null,
       "display": null,
       "flex": null,
       "flex_flow": null,
       "grid_area": null,
       "grid_auto_columns": null,
       "grid_auto_flow": null,
       "grid_auto_rows": null,
       "grid_column": null,
       "grid_gap": null,
       "grid_row": null,
       "grid_template_areas": null,
       "grid_template_columns": null,
       "grid_template_rows": null,
       "height": null,
       "justify_content": null,
       "justify_items": null,
       "left": null,
       "margin": null,
       "max_height": null,
       "max_width": null,
       "min_height": null,
       "min_width": null,
       "object_fit": null,
       "object_position": null,
       "order": null,
       "overflow": null,
       "padding": null,
       "right": null,
       "top": null,
       "visibility": null,
       "width": null
      }
     },
     "9f9834c65ce94d80a184a58066315238": {
      "model_module": "@jupyter-widgets/controls",
      "model_module_version": "2.0.0",
      "model_name": "SliderStyleModel",
      "state": {
       "_model_module": "@jupyter-widgets/controls",
       "_model_module_version": "2.0.0",
       "_model_name": "SliderStyleModel",
       "_view_count": null,
       "_view_module": "@jupyter-widgets/base",
       "_view_module_version": "2.0.0",
       "_view_name": "StyleView",
       "description_width": "",
       "handle_color": null
      }
     },
     "a13df8fdf9cb4450be8f0c0f3c84fcb0": {
      "model_module": "@jupyter-widgets/base",
      "model_module_version": "2.0.0",
      "model_name": "LayoutModel",
      "state": {
       "_model_module": "@jupyter-widgets/base",
       "_model_module_version": "2.0.0",
       "_model_name": "LayoutModel",
       "_view_count": null,
       "_view_module": "@jupyter-widgets/base",
       "_view_module_version": "2.0.0",
       "_view_name": "LayoutView",
       "align_content": null,
       "align_items": null,
       "align_self": null,
       "border_bottom": null,
       "border_left": null,
       "border_right": null,
       "border_top": null,
       "bottom": null,
       "display": null,
       "flex": null,
       "flex_flow": null,
       "grid_area": null,
       "grid_auto_columns": null,
       "grid_auto_flow": null,
       "grid_auto_rows": null,
       "grid_column": null,
       "grid_gap": null,
       "grid_row": null,
       "grid_template_areas": null,
       "grid_template_columns": null,
       "grid_template_rows": null,
       "height": null,
       "justify_content": null,
       "justify_items": null,
       "left": null,
       "margin": null,
       "max_height": null,
       "max_width": null,
       "min_height": null,
       "min_width": null,
       "object_fit": null,
       "object_position": null,
       "order": null,
       "overflow": null,
       "padding": null,
       "right": null,
       "top": null,
       "visibility": null,
       "width": null
      }
     },
     "a4b9e62bd0ec4f73bb3f079de9eb7fea": {
      "model_module": "@jupyter-widgets/controls",
      "model_module_version": "2.0.0",
      "model_name": "IntSliderModel",
      "state": {
       "_dom_classes": [],
       "_model_module": "@jupyter-widgets/controls",
       "_model_module_version": "2.0.0",
       "_model_name": "IntSliderModel",
       "_view_count": null,
       "_view_module": "@jupyter-widgets/controls",
       "_view_module_version": "2.0.0",
       "_view_name": "IntSliderView",
       "behavior": "drag-tap",
       "continuous_update": true,
       "description": "center",
       "description_allow_html": false,
       "disabled": false,
       "layout": "IPY_MODEL_9e18f4ed75934b3c869e0b376ea264b4",
       "max": 156,
       "min": 22,
       "orientation": "horizontal",
       "readout": true,
       "readout_format": "d",
       "step": 1,
       "style": "IPY_MODEL_e97229c62358491eb2eaf25bc994b07d",
       "tabbable": null,
       "tooltip": null,
       "value": 22
      }
     },
     "a69e2d9ea8a04d9293b284bf9ac63eaa": {
      "model_module": "@jupyter-widgets/base",
      "model_module_version": "2.0.0",
      "model_name": "LayoutModel",
      "state": {
       "_model_module": "@jupyter-widgets/base",
       "_model_module_version": "2.0.0",
       "_model_name": "LayoutModel",
       "_view_count": null,
       "_view_module": "@jupyter-widgets/base",
       "_view_module_version": "2.0.0",
       "_view_name": "LayoutView",
       "align_content": null,
       "align_items": null,
       "align_self": null,
       "border_bottom": null,
       "border_left": null,
       "border_right": null,
       "border_top": null,
       "bottom": null,
       "display": null,
       "flex": null,
       "flex_flow": null,
       "grid_area": null,
       "grid_auto_columns": null,
       "grid_auto_flow": null,
       "grid_auto_rows": null,
       "grid_column": null,
       "grid_gap": null,
       "grid_row": null,
       "grid_template_areas": null,
       "grid_template_columns": null,
       "grid_template_rows": null,
       "height": null,
       "justify_content": null,
       "justify_items": null,
       "left": null,
       "margin": null,
       "max_height": null,
       "max_width": null,
       "min_height": null,
       "min_width": null,
       "object_fit": null,
       "object_position": null,
       "order": null,
       "overflow": null,
       "padding": null,
       "right": null,
       "top": null,
       "visibility": null,
       "width": null
      }
     },
     "a861e597997a40adbd524b26dd233eca": {
      "model_module": "@jupyter-widgets/output",
      "model_module_version": "1.0.0",
      "model_name": "OutputModel",
      "state": {
       "_dom_classes": [],
       "_model_module": "@jupyter-widgets/output",
       "_model_module_version": "1.0.0",
       "_model_name": "OutputModel",
       "_view_count": null,
       "_view_module": "@jupyter-widgets/output",
       "_view_module_version": "1.0.0",
       "_view_name": "OutputView",
       "layout": "IPY_MODEL_e8d4232cd42843d5a9db18040b25eba4",
       "msg_id": "",
       "outputs": [
        {
         "data": {
          "image/png": "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",
          "text/plain": "<Figure size 640x480 with 3 Axes>"
         },
         "metadata": {},
         "output_type": "display_data"
        }
       ],
       "tabbable": null,
       "tooltip": null
      }
     },
     "b023c282d62d4688ba720b85f5649104": {
      "model_module": "@jupyter-widgets/output",
      "model_module_version": "1.0.0",
      "model_name": "OutputModel",
      "state": {
       "_dom_classes": [],
       "_model_module": "@jupyter-widgets/output",
       "_model_module_version": "1.0.0",
       "_model_name": "OutputModel",
       "_view_count": null,
       "_view_module": "@jupyter-widgets/output",
       "_view_module_version": "1.0.0",
       "_view_name": "OutputView",
       "layout": "IPY_MODEL_a69e2d9ea8a04d9293b284bf9ac63eaa",
       "msg_id": "",
       "outputs": [
        {
         "name": "stdout",
         "output_type": "stream",
         "text": "Correlation between ExpNatGas and PerEURO lagged 0 timepoints: -0.000\n"
        }
       ],
       "tabbable": null,
       "tooltip": null
      }
     },
     "c7c0a0cd451245b9bb58002bc8551760": {
      "model_module": "@jupyter-widgets/controls",
      "model_module_version": "2.0.0",
      "model_name": "IntSliderModel",
      "state": {
       "_dom_classes": [],
       "_model_module": "@jupyter-widgets/controls",
       "_model_module_version": "2.0.0",
       "_model_name": "IntSliderModel",
       "_view_count": null,
       "_view_module": "@jupyter-widgets/controls",
       "_view_module_version": "2.0.0",
       "_view_name": "IntSliderView",
       "behavior": "drag-tap",
       "continuous_update": true,
       "description": "lag",
       "description_allow_html": false,
       "disabled": false,
       "layout": "IPY_MODEL_a13df8fdf9cb4450be8f0c0f3c84fcb0",
       "max": 100,
       "min": 0,
       "orientation": "horizontal",
       "readout": true,
       "readout_format": "d",
       "step": 1,
       "style": "IPY_MODEL_9f9834c65ce94d80a184a58066315238",
       "tabbable": null,
       "tooltip": null,
       "value": 0
      }
     },
     "cce91e152c464d5a9c9561c3fb133ce0": {
      "model_module": "@jupyter-widgets/controls",
      "model_module_version": "2.0.0",
      "model_name": "VBoxModel",
      "state": {
       "_dom_classes": [
        "widget-interact"
       ],
       "_model_module": "@jupyter-widgets/controls",
       "_model_module_version": "2.0.0",
       "_model_name": "VBoxModel",
       "_view_count": null,
       "_view_module": "@jupyter-widgets/controls",
       "_view_module_version": "2.0.0",
       "_view_name": "VBoxView",
       "box_style": "",
       "children": [
        "IPY_MODEL_c7c0a0cd451245b9bb58002bc8551760",
        "IPY_MODEL_b023c282d62d4688ba720b85f5649104"
       ],
       "layout": "IPY_MODEL_9e5ee1892ac948d888fe7b2b783416c2",
       "tabbable": null,
       "tooltip": null
      }
     },
     "e8d4232cd42843d5a9db18040b25eba4": {
      "model_module": "@jupyter-widgets/base",
      "model_module_version": "2.0.0",
      "model_name": "LayoutModel",
      "state": {
       "_model_module": "@jupyter-widgets/base",
       "_model_module_version": "2.0.0",
       "_model_name": "LayoutModel",
       "_view_count": null,
       "_view_module": "@jupyter-widgets/base",
       "_view_module_version": "2.0.0",
       "_view_name": "LayoutView",
       "align_content": null,
       "align_items": null,
       "align_self": null,
       "border_bottom": null,
       "border_left": null,
       "border_right": null,
       "border_top": null,
       "bottom": null,
       "display": null,
       "flex": null,
       "flex_flow": null,
       "grid_area": null,
       "grid_auto_columns": null,
       "grid_auto_flow": null,
       "grid_auto_rows": null,
       "grid_column": null,
       "grid_gap": null,
       "grid_row": null,
       "grid_template_areas": null,
       "grid_template_columns": null,
       "grid_template_rows": null,
       "height": null,
       "justify_content": null,
       "justify_items": null,
       "left": null,
       "margin": null,
       "max_height": null,
       "max_width": null,
       "min_height": null,
       "min_width": null,
       "object_fit": null,
       "object_position": null,
       "order": null,
       "overflow": null,
       "padding": null,
       "right": null,
       "top": null,
       "visibility": null,
       "width": null
      }
     },
     "e97229c62358491eb2eaf25bc994b07d": {
      "model_module": "@jupyter-widgets/controls",
      "model_module_version": "2.0.0",
      "model_name": "SliderStyleModel",
      "state": {
       "_model_module": "@jupyter-widgets/controls",
       "_model_module_version": "2.0.0",
       "_model_name": "SliderStyleModel",
       "_view_count": null,
       "_view_module": "@jupyter-widgets/base",
       "_view_module_version": "2.0.0",
       "_view_name": "StyleView",
       "description_width": "",
       "handle_color": null
      }
     }
    },
    "version_major": 2,
    "version_minor": 0
   }
  }
 },
 "nbformat": 4,
 "nbformat_minor": 4
}