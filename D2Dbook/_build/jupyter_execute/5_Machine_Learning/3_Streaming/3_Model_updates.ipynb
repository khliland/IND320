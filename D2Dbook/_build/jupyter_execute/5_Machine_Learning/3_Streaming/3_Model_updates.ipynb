{
 "cells": [
  {
   "cell_type": "markdown",
   "metadata": {
    "slideshow": {
     "slide_type": "slide"
    },
    "tags": []
   },
   "source": [
    "# Model updates"
   ]
  },
  {
   "cell_type": "markdown",
   "metadata": {
    "slideshow": {
     "slide_type": "fragment"
    },
    "tags": []
   },
   "source": [
    "## Model updating\n",
    "- As seen when using _river_, a sentralised modelling and prediction system can be updated realtime based on incomming data.\n",
    "- In practice this comes with some caveats:\n",
    "    - Faulty or biased data can give an undesired shift in the model (e.g., [Twitter taught Microsoft’s AI chatbot to be a racist asshole in less than a day (2016)](https://www.theverge.com/2016/3/24/11297050/tay-microsoft-chatbot-racist))\n",
    "    - Some control is lost with regard to verification and validation.\n",
    "- [Continuous Integration (CI)](https://en.wikipedia.org/wiki/Continuous_integration) typically involves pushing updates often to a version control system where testing and building is performed once a day (nightly build)."
   ]
  },
  {
   "cell_type": "markdown",
   "metadata": {
    "slideshow": {
     "slide_type": "slide"
    },
    "tags": []
   },
   "source": [
    "### Model deployment\n",
    "- Traditional software (and model) development cycles have typically involved alpha and beta testing phases for internal or limited user groups before full deployment with long upgrade cycles.\n",
    "- [Continuous Delivery (CD)](https://en.wikipedia.org/wiki/Continuous_delivery) is public release counterpart of CI, often performed in an integrated loop with short cycles.  \n",
    "\n",
    "<img src=\"https://github.com/khliland/IND320/blob/main/D2Dbook/images/CI_CD.png?raw=TRUE\" width=\"400px\" />  \n",
    "  \n",
    "- For software/models with large user groups, canary deployment can be employed to reduce possible damage from faulty updates.\n",
    "    - A copy of the production system is made and the new features/properties are applied to the copy.\n",
    "    - Small user groups, either randomly chosen or selected through developer programs, are given access (unknowing or willingly).\n",
    "    - Feedback and adoption is used for approval for full deployment or adjustment before a new canary cycle.\n",
    "- Companies like Spotify perform testing on user groups, setting up statistical experiments where the effect of changes to user interfaces and music recommendation algorithms can be measured real-time."
   ]
  },
  {
   "cell_type": "markdown",
   "metadata": {
    "slideshow": {
     "slide_type": "slide"
    },
    "tags": []
   },
   "source": [
    "```{seealso} Resources\n",
    ":class: tip\n",
    "- [Racist chatbot article](https://www.theverge.com/2016/3/24/11297050/tay-microsoft-chatbot-racist)\n",
    "- [Wikipedia: Contiuous Integration (CI)](https://en.wikipedia.org/wiki/Continuous_integration)\n",
    "- [Wikipedia: Continuous Delivery (CD)](https://en.wikipedia.org/wiki/Continuous_delivery)\n",
    "- [YouTube: What Is Canary Deployment?](https://www.youtube.com/watch?v=dRAJVUaV958) (6m:29s)\n",
    "- [Spotify R&D Engineering](https://engineering.atspotify.com/)\n",
    "```"
   ]
  }
 ],
 "metadata": {
  "kernelspec": {
   "display_name": "Python 3 (ipykernel)",
   "language": "python",
   "name": "python3"
  },
  "language_info": {
   "codemirror_mode": {
    "name": "ipython",
    "version": 3
   },
   "file_extension": ".py",
   "mimetype": "text/x-python",
   "name": "python",
   "nbconvert_exporter": "python",
   "pygments_lexer": "ipython3",
   "version": "3.11.6"
  }
 },
 "nbformat": 4,
 "nbformat_minor": 4
}