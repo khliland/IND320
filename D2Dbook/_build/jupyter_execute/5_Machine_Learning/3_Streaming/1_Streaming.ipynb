{
 "cells": [
  {
   "cell_type": "markdown",
   "metadata": {},
   "source": [
    "# Streaming\n",
    "- When data become available one and one or in a chunk-wise fashion, streaming models can be beneficial.\n",
    "- A _static model_ may be applied if we have enough training data and expect no changes to the underlying distributions.\n",
    "- A _dynamic model_ may be applied if we want to update based on what the model receives of new data.\n",
    "    - Update model with some small weight on the new observation, either:\n",
    "        - gradually aggregating to a model equivalent to training a model on all data, or\n",
    "        - with a small memory loss on the existing model, leading to plasticity and capacity for learning (e.g., gradient descent methods).\n",
    "    - Passive aggressive learning, where small deviations are disregarded while the model is updated when larger changes are detected.\n",
    "    - If the models start from scratch, higher learning rates for the initial samples is more efficient.\n",
    "- Streaming is relevant both for predictive models (tabular data) and forecasting models (autoregressive)."
   ]
  }
 ],
 "metadata": {
  "kernelspec": {
   "display_name": "Python 3 (ipykernel)",
   "language": "python",
   "name": "python3"
  },
  "language_info": {
   "codemirror_mode": {
    "name": "ipython",
    "version": 3
   },
   "file_extension": ".py",
   "mimetype": "text/x-python",
   "name": "python",
   "nbconvert_exporter": "python",
   "pygments_lexer": "ipython3",
   "version": "3.11.6"
  }
 },
 "nbformat": 4,
 "nbformat_minor": 4
}