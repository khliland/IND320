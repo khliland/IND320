{
 "cells": [
  {
   "cell_type": "markdown",
   "id": "93327846",
   "metadata": {
    "editable": true,
    "slideshow": {
     "slide_type": "slide"
    },
    "tags": []
   },
   "source": [
    "# Streamlit\n",
    "- Maybe the most used freeware dashboard in Python.\n",
    "- Enormous choice of elements, widgets and extensions.\n",
    "- Can use several interactive graphics packages.\n",
    "- Can be run as a local app in a browser or in various other environments.\n",
    "- Create a .py file and run using the terminal command below in your favourite Python environment.\n",
    "    - First time local usage prompts for an email address (press Enter if you do not want to supply it).\n",
    "    - Code can be updated while the app is running.\n",
    "    - Any action performed in the app triggers a rerun of the code."
   ]
  },
  {
   "cell_type": "markdown",
   "id": "d0449def",
   "metadata": {
    "editable": true,
    "slideshow": {
     "slide_type": ""
    },
    "tags": []
   },
   "source": [
    "```bash\n",
    "streamlit run /path_to_your_streamlit_folder/appname.py"
   ]
  },
  {
   "cell_type": "code",
   "execution_count": 13,
   "id": "47dcd12c",
   "metadata": {
    "editable": true,
    "slideshow": {
     "slide_type": "fragment"
    },
    "tags": []
   },
   "outputs": [],
   "source": [
    "# Teacher's path to be used below in examples:\n",
    "path_prefix = \"/Users/kristian/Documents/GitHub/IND320/streamlit/\""
   ]
  },
  {
   "cell_type": "markdown",
   "id": "ca0a7730",
   "metadata": {
    "editable": true,
    "slideshow": {
     "slide_type": "slide"
    },
    "tags": []
   },
   "source": [
    "## Examples and documentation\n",
    "- [Examples](https://streamlit.io/gallery)\n",
    "- [Live playground](https://streamlit.io/playground)\n",
    "- [API reference](https://docs.streamlit.io/develop/api-reference)"
   ]
  },
  {
   "cell_type": "markdown",
   "id": "e4b5c568",
   "metadata": {
    "editable": true,
    "slideshow": {
     "slide_type": "slide"
    },
    "tags": []
   },
   "source": [
    "## Basic concepts\n",
    "- Streamlit apps rerun all Python code from top to bottom each time\n",
    "  - a user interacts with any widget (like buttons, sliders, or text inputs), or \n",
    "  - when the source code changes. \n",
    "- The session state is stored in _st.session\\_state_\n",
    "    - Persistent across interactions.\n",
    "    - Updated before the code is rerun.\n",
    "- Caching of data is important to achieve a responsive app.\n",
    "- Progress indicators are useful for large operations."
   ]
  },
  {
   "cell_type": "markdown",
   "id": "25a29c28",
   "metadata": {
    "editable": true,
    "slideshow": {
     "slide_type": "slide"
    },
    "tags": []
   },
   "source": [
    "## Static vs dynamic content\n",
    "- Static content in Streamlit means fixed outputs—like Markdown, text, or images that do not change unless the code/script changes.\n",
    "- Dynamic content is interactive or data-driven—updates based on user input (widgets, forms), external files, or live data sources."
   ]
  },
  {
   "cell_type": "markdown",
   "id": "40aeaa8f",
   "metadata": {
    "editable": true,
    "slideshow": {
     "slide_type": "fragment"
    },
    "tags": []
   },
   "source": [
    "```python\n",
    "# static_dynamic.py\n",
    "import streamlit as st\n",
    "\n",
    "# Static Example\n",
    "st.markdown(\"# Static Dashboard\\nThis content won't change until the file is reloaded.\")\n",
    "\n",
    "# Dynamic Example\n",
    "user_input = st.text_input(\"Type something:\")\n",
    "if user_input:\n",
    "    st.write(f\"You entered: {user_input}\")"
   ]
  },
  {
   "cell_type": "code",
   "execution_count": 16,
   "id": "5eba9103",
   "metadata": {
    "editable": true,
    "slideshow": {
     "slide_type": ""
    },
    "tags": []
   },
   "outputs": [],
   "source": [
    "file_name = \"static_dynamic.py\"\n",
    "# !streamlit run {path_prefix}{file_name}"
   ]
  },
  {
   "cell_type": "markdown",
   "id": "60d20243",
   "metadata": {
    "editable": true,
    "slideshow": {
     "slide_type": "slide"
    },
    "tags": []
   },
   "source": [
    "## Magic vs explicit content\n",
    "- Magic: Streamlit automatically displays objects, markdown, and charts on their own line, no function needed (\"magic\").\n",
    "- Explicit: Using Streamlit functions like st.write, st.markdown, st.dataframe to control display."
   ]
  },
  {
   "cell_type": "markdown",
   "id": "3e867c9b",
   "metadata": {
    "editable": true,
    "slideshow": {
     "slide_type": "fragment"
    },
    "tags": []
   },
   "source": [
    "```python\n",
    "# magic_explicit.py\n",
    "# Magic\n",
    "\"**This shows with magic!**\"\n",
    "import pandas as pd\n",
    "df = pd.DataFrame({'A': [1,2,3]})\n",
    "df\n",
    "\n",
    "# Explicit\n",
    "st.write(\"**This shows with explicit command!**\")\n",
    "st.dataframe(df)"
   ]
  },
  {
   "cell_type": "code",
   "execution_count": 15,
   "id": "7708287a",
   "metadata": {
    "editable": true,
    "slideshow": {
     "slide_type": ""
    },
    "tags": []
   },
   "outputs": [],
   "source": [
    "file_name = \"magic_explicit.py\"\n",
    "# !streamlit run {path_prefix}{file_name}"
   ]
  },
  {
   "cell_type": "markdown",
   "id": "593f244a",
   "metadata": {
    "editable": true,
    "slideshow": {
     "slide_type": "slide"
    },
    "tags": []
   },
   "source": [
    "## Session sate and on_click / on_event\n",
    "- _st.session\\_state_ persists variables across reruns, ideal for storing app state and counters.\n",
    "    - _st.session\\_state_ is automatically created, and we can extend and manipulate it.\n",
    "- _on\\_click_/_on\\_change_: Assign callback functions to widgets for event-driven updates."
   ]
  },
  {
   "cell_type": "markdown",
   "id": "fe140c17",
   "metadata": {
    "editable": true,
    "slideshow": {
     "slide_type": "fragment"
    },
    "tags": []
   },
   "source": [
    "```python\n",
    "# session_state.py\n",
    "import streamlit as st\n",
    "\n",
    "if 'counter' not in st.session_state:\n",
    "    st.session_state.counter = 0\n",
    "\n",
    "def increment():\n",
    "    st.session_state.counter += 1\n",
    "\n",
    "st.button(\"Increment\", on_click=increment)\n",
    "st.write(f\"Button clicked {st.session_state.counter} times\")"
   ]
  },
  {
   "cell_type": "code",
   "execution_count": 19,
   "id": "c77f5f6d",
   "metadata": {},
   "outputs": [],
   "source": [
    "file_name = \"session_state.py\"\n",
    "# !streamlit run {path_prefix}{file_name}"
   ]
  },
  {
   "cell_type": "markdown",
   "id": "e91d6050",
   "metadata": {
    "editable": true,
    "slideshow": {
     "slide_type": "slide"
    },
    "tags": []
   },
   "source": [
    "## Reruns and caching\n",
    "- Every interaction reruns the script top-to-bottom; avoid costly computations on every rerun.\n",
    "- Use _\\@st.cache\\_data_ to store results of expensive operations."
   ]
  },
  {
   "cell_type": "markdown",
   "id": "a990cb39",
   "metadata": {
    "editable": true,
    "slideshow": {
     "slide_type": "fragment"
    },
    "tags": []
   },
   "source": [
    "```python\n",
    "# caching.py\n",
    "import streamlit as st\n",
    "\n",
    "@st.cache_data\n",
    "def get_data():\n",
    "    import time; time.sleep(2) # Simulate expensive task\n",
    "    return [1, 2, 3]\n",
    "\n",
    "st.write(\"Data:\", get_data())\n",
    "\n",
    "# Interactive part that costs very little compute time\n",
    "if 'counter' not in st.session_state:\n",
    "    st.session_state.counter = 0\n",
    "\n",
    "def increment():\n",
    "    st.session_state.counter += 1\n",
    "\n",
    "st.button(\"Increment\", on_click=increment)\n",
    "st.write(f\"Button clicked {st.session_state.counter} times\")"
   ]
  },
  {
   "cell_type": "code",
   "execution_count": 1,
   "id": "89e583ea",
   "metadata": {
    "editable": true,
    "slideshow": {
     "slide_type": ""
    },
    "tags": []
   },
   "outputs": [],
   "source": [
    "file_name = \"caching.py\"\n",
    "# !streamlit run {path_prefix}{file_name}"
   ]
  },
  {
   "cell_type": "markdown",
   "id": "0d36a9c8",
   "metadata": {},
   "source": [
    "## Exercise\n",
    "- Create a streamlit app with a single button and a single output.\n",
    "- On first time startup:\n",
    "    - The button should show the label \"Start\".\n",
    "    - The output should say \"Ready\"\n",
    "    - When the button is pressed: \n",
    "        - A random integer between 1 and 100 is sampled and cached.\n",
    "        - The button label is changed to \"Next\".\n",
    "        - The output should show the integer.\n",
    "- On subsequent button presses:\n",
    "    - If the integer is even, divide it by 2 and update the output and cache.\n",
    "    - If the integer is odd, multiply by 3 and add 1, then update the output and cache.\n",
    "- The Collatz conjecture says that after clicking the button a sufficient amount of times, the integer will reach 1, no matter what the starting point was.\n",
    "- Extra: Let the button say \"Half it\" and \"Triple and add one\" based on the current integer shown."
   ]
  },
  {
   "cell_type": "markdown",
   "id": "f34b0d81",
   "metadata": {
    "editable": true,
    "slideshow": {
     "slide_type": "slide"
    },
    "tags": []
   },
   "source": [
    "## NB! UNDER CONSTRUCTION\n",
    "Plans:\n",
    "- basic elements\n",
    "- interaction\n",
    "- layout\n",
    "- secrets.toml"
   ]
  },
  {
   "cell_type": "markdown",
   "id": "0d84ad45",
   "metadata": {
    "editable": true,
    "slideshow": {
     "slide_type": "slide"
    },
    "tags": []
   },
   "source": [
    "```{seealso} \n",
    ":class: tip\n",
    "\n",
    "## Resources\n",
    "- [YouTube: Streamlit: The Fastest Way To Build Python Apps?](https://www.youtube.com/watch?v=D0D4Pa22iG0) (11m:56s)\n",
    "- [Examples](https://streamlit.io/gallery)\n",
    "- [Live playground](https://streamlit.io/playground)\n",
    "- [API reference](https://docs.streamlit.io/develop/api-reference)\n",
    "```"
   ]
  }
 ],
 "metadata": {
  "kernelspec": {
   "display_name": "Python 3 (ipykernel)",
   "language": "python",
   "name": "python3"
  },
  "language_info": {
   "codemirror_mode": {
    "name": "ipython",
    "version": 3
   },
   "file_extension": ".py",
   "mimetype": "text/x-python",
   "name": "python",
   "nbconvert_exporter": "python",
   "pygments_lexer": "ipython3",
   "version": "3.12.10"
  }
 },
 "nbformat": 4,
 "nbformat_minor": 5
}
