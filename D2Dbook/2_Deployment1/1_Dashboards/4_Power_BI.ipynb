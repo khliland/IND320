{
 "cells": [
  {
   "cell_type": "markdown",
   "metadata": {
    "slideshow": {
     "slide_type": "slide"
    },
    "tags": []
   },
   "source": [
    "# Power BI\n",
    "- Microsoft's software is in the top three of Business Intelligence softwares according to [6sense.com](https://6sense.com/tech/business-intelligence-bi/microsoft-power-bi-market-share)\n",
    "    - Behind _Notion_, ahead of _Tableau_ late 2023\n",
    "    - \\>5 million subscribers according to Microsoft\n",
    "- Primary platform is Windows\n",
    "    - Can be run virtualised on Mac, e.g., using [freeware virtualisation solution UTM](https://mac.getutm.app/) with [Windows 11 ARM](https://www.microsoft.com/en-us/software-download/windowsinsiderpreviewARM64) (requires [Windows Insider user](https://www.microsoft.com/en-us/windowsinsider/)) and 32-bit Power BI instalation.\n",
    "- Mainly controlled through menus and dialogues, but supports integration with languages like R and Python."
   ]
  },
  {
   "cell_type": "markdown",
   "metadata": {
    "slideshow": {
     "slide_type": "slide"
    },
    "tags": []
   },
   "source": [
    "## Data sources\n",
    "- Can connect to most major database, storage and API solutions, file formats and subscription service Dataverse.\n",
    "- Some sources require plugins/extensions to work, e.g., [MySQL](https://dev.mysql.com/downloads/file/?id=523478)."
   ]
  },
  {
   "cell_type": "markdown",
   "metadata": {
    "slideshow": {
     "slide_type": "slide"
    },
    "tags": []
   },
   "source": [
    "## Pre-processing and Machine Learning\n",
    "- Has a Power Query Editor for data transformations including\n",
    "    - format changing,\n",
    "    - _group bys_ and similar,\n",
    "    - connection Azure Machine Learning (licence based).\n",
    "- Derived data (functions of data) called _measures_."
   ]
  },
  {
   "cell_type": "markdown",
   "metadata": {
    "slideshow": {
     "slide_type": "slide"
    },
    "tags": []
   },
   "source": [
    "## Coding/scripting\n",
    "- Power BI supports Python and R extensions at various stages of data handling.\n",
    "    - Data import\n",
    "    - Pre-processing and machine learning\n",
    "    - Visualisation\n",
    "- Python must be enabled through the options in older versions.\n",
    "    - Both Python and R need paths to be set correctly in the _scripting_ options of Power BI.\n",
    "    - For other environments than _base_, _C:\\Users\\<your-username>\\AppData\\Local\\PowerBIScripting\\PythonSettings.xml_ needs to be edited.\n",
    "    - The webpage [https://bit.ly/powerbi-python-limits](https://bit.ly/powerbi-python-limits) contains a list of Python and package versions currently supported by Power BI."
   ]
  },
  {
   "cell_type": "markdown",
   "metadata": {
    "slideshow": {
     "slide_type": "slide"
    },
    "tags": []
   },
   "source": [
    "## Dashboards\n",
    "- Plots similar to to Excel, but more interactive, similar to plotly.\n",
    "- Various graphical elements reminiscent of PowerPoint.\n",
    "- Can be deployed as a Power BI service, available in various forms, e.g., Teams apps.\n",
    "- Supports user roles based on credentials.\n",
    "- Main views when editing:\n",
    "    - _Model_: Work on sources, underlying inputs to projects, data relations.\n",
    "    - _Data_: Inspect, filter, connect data in tables.\n",
    "    - _Report_: \"what you see is what you get\" visual editor for datsboards."
   ]
  },
  {
   "cell_type": "markdown",
   "metadata": {
    "slideshow": {
     "slide_type": "slide"
    },
    "tags": []
   },
   "source": [
    "## Example\n",
    "- View from Power BI with three data sources and matching plots.\n",
    "    - Excel file - blue rings\n",
    "    - MySQL data - red rings\n",
    "    - Python generated data - yellow/green rings\n",
    "    \n",
    "<img src=\"https://github.com/khliland/IND320/blob/main/D2Dbook/images/Power_BI.png?raw=TRUE\" width=\"800px\">  "
   ]
  },
  {
   "cell_type": "code",
   "execution_count": 2,
   "metadata": {
    "slideshow": {
     "slide_type": "slide"
    },
    "tags": []
   },
   "outputs": [
    {
     "data": {
      "text/html": [
       "<div>\n",
       "<style scoped>\n",
       "    .dataframe tbody tr th:only-of-type {\n",
       "        vertical-align: middle;\n",
       "    }\n",
       "\n",
       "    .dataframe tbody tr th {\n",
       "        vertical-align: top;\n",
       "    }\n",
       "\n",
       "    .dataframe thead th {\n",
       "        text-align: right;\n",
       "    }\n",
       "</style>\n",
       "<table border=\"1\" class=\"dataframe\">\n",
       "  <thead>\n",
       "    <tr style=\"text-align: right;\">\n",
       "      <th></th>\n",
       "      <th>Date</th>\n",
       "      <th>Category</th>\n",
       "      <th>Value</th>\n",
       "      <th>Comment</th>\n",
       "    </tr>\n",
       "  </thead>\n",
       "  <tbody>\n",
       "    <tr>\n",
       "      <th>0</th>\n",
       "      <td>2019-01-01</td>\n",
       "      <td>A</td>\n",
       "      <td>66</td>\n",
       "      <td>FLQOMM8W2O</td>\n",
       "    </tr>\n",
       "    <tr>\n",
       "      <th>1</th>\n",
       "      <td>2019-01-02</td>\n",
       "      <td>A</td>\n",
       "      <td>97</td>\n",
       "      <td>VNRHDPSP6P</td>\n",
       "    </tr>\n",
       "    <tr>\n",
       "      <th>2</th>\n",
       "      <td>2019-01-03</td>\n",
       "      <td>D</td>\n",
       "      <td>9</td>\n",
       "      <td>9MOQRP2MWR</td>\n",
       "    </tr>\n",
       "    <tr>\n",
       "      <th>3</th>\n",
       "      <td>2019-01-04</td>\n",
       "      <td>A</td>\n",
       "      <td>99</td>\n",
       "      <td>1G9PGNX346</td>\n",
       "    </tr>\n",
       "    <tr>\n",
       "      <th>4</th>\n",
       "      <td>2019-01-05</td>\n",
       "      <td>C</td>\n",
       "      <td>65</td>\n",
       "      <td>QGG01WM8SS</td>\n",
       "    </tr>\n",
       "    <tr>\n",
       "      <th>...</th>\n",
       "      <td>...</td>\n",
       "      <td>...</td>\n",
       "      <td>...</td>\n",
       "      <td>...</td>\n",
       "    </tr>\n",
       "    <tr>\n",
       "      <th>360</th>\n",
       "      <td>2019-12-27</td>\n",
       "      <td>D</td>\n",
       "      <td>94</td>\n",
       "      <td>ODQEY49YOY</td>\n",
       "    </tr>\n",
       "    <tr>\n",
       "      <th>361</th>\n",
       "      <td>2019-12-28</td>\n",
       "      <td>C</td>\n",
       "      <td>44</td>\n",
       "      <td>VQ5B12BCT3</td>\n",
       "    </tr>\n",
       "    <tr>\n",
       "      <th>362</th>\n",
       "      <td>2019-12-29</td>\n",
       "      <td>A</td>\n",
       "      <td>29</td>\n",
       "      <td>K70IDDIW2Y</td>\n",
       "    </tr>\n",
       "    <tr>\n",
       "      <th>363</th>\n",
       "      <td>2019-12-30</td>\n",
       "      <td>A</td>\n",
       "      <td>41</td>\n",
       "      <td>N08S7MXUZN</td>\n",
       "    </tr>\n",
       "    <tr>\n",
       "      <th>364</th>\n",
       "      <td>2019-12-31</td>\n",
       "      <td>B</td>\n",
       "      <td>16</td>\n",
       "      <td>SIH8T3UK4P</td>\n",
       "    </tr>\n",
       "  </tbody>\n",
       "</table>\n",
       "<p>365 rows × 4 columns</p>\n",
       "</div>"
      ],
      "text/plain": [
       "          Date Category  Value     Comment\n",
       "0   2019-01-01        A     66  FLQOMM8W2O\n",
       "1   2019-01-02        A     97  VNRHDPSP6P\n",
       "2   2019-01-03        D      9  9MOQRP2MWR\n",
       "3   2019-01-04        A     99  1G9PGNX346\n",
       "4   2019-01-05        C     65  QGG01WM8SS\n",
       "..         ...      ...    ...         ...\n",
       "360 2019-12-27        D     94  ODQEY49YOY\n",
       "361 2019-12-28        C     44  VQ5B12BCT3\n",
       "362 2019-12-29        A     29  K70IDDIW2Y\n",
       "363 2019-12-30        A     41  N08S7MXUZN\n",
       "364 2019-12-31        B     16  SIH8T3UK4P\n",
       "\n",
       "[365 rows x 4 columns]"
      ]
     },
     "execution_count": 2,
     "metadata": {},
     "output_type": "execute_result"
    }
   ],
   "source": [
    "# Create random data for Power BI.\n",
    "# Pandas DataFrame with four columns and 100 rows.\n",
    "# Columns: Date, Category, Value, Comment\n",
    "# Date: 2019-01-01 to 2019-12-31\n",
    "# Category: A, B, C, D\n",
    "# Value: Random integer between 1 and 100\n",
    "# Comment: Random string of 10 characters\n",
    "import pandas as pd\n",
    "import numpy as np\n",
    "import random\n",
    "import string\n",
    "import datetime\n",
    "# Create a list of dates\n",
    "start_date = datetime.date(2019, 1, 1)\n",
    "end_date = datetime.date(2019, 12, 31)\n",
    "dates = pd.date_range(start_date, end_date)\n",
    "# Create a list of categories\n",
    "categories = ['A', 'B', 'C', 'D']\n",
    "# Draw 100 random categories\n",
    "categories = np.random.choice(categories, len(dates))\n",
    "# Create a list of random integers\n",
    "values = np.random.randint(1, 100, len(dates))\n",
    "# Create a list of random strings\n",
    "comments = [''.join(random.choices(string.ascii_uppercase + string.digits, k=10)) for i in range(len(dates))]\n",
    "# Create a DataFrame\n",
    "df = pd.DataFrame({'Date': dates, 'Category': categories, 'Value': values, 'Comment': comments})\n",
    "df"
   ]
  },
  {
   "cell_type": "markdown",
   "metadata": {
    "slideshow": {
     "slide_type": "slide"
    },
    "tags": []
   },
   "source": [
    "### Power BI apps publishing\n",
    "- After publishing an app, it can be viewed online, in Teams or in other channels connected to the Power BI account.\n",
    "  \n",
    "<img src=\"https://github.com/khliland/IND320/blob/main/D2Dbook/images/Power_BI_Teams.png?raw=TRUE\" width=\"800px\">"
   ]
  },
  {
   "cell_type": "markdown",
   "metadata": {
    "slideshow": {
     "slide_type": "slide"
    },
    "tags": []
   },
   "source": [
    "```{seealso} Resources\n",
    ":class: tip\n",
    "- [6sense.com: BI statistics](https://6sense.com/tech/business-intelligence-bi/microsoft-power-bi-market-share)\n",
    "- [Power BI: Download](https://powerbi.microsoft.com/en-us/downloads)  \n",
    "- [MySQL in Power BI](https://dev.mysql.com/downloads/connector/net)\n",
    "- [UTM virtualisation](https://mac.getutm.app/)\n",
    "```"
   ]
  }
 ],
 "metadata": {
  "kernelspec": {
   "display_name": "Python 3 (ipykernel)",
   "language": "python",
   "name": "python3"
  },
  "language_info": {
   "codemirror_mode": {
    "name": "ipython",
    "version": 3
   },
   "file_extension": ".py",
   "mimetype": "text/x-python",
   "name": "python",
   "nbconvert_exporter": "python",
   "pygments_lexer": "ipython3",
   "version": "3.11.6"
  }
 },
 "nbformat": 4,
 "nbformat_minor": 4
}
