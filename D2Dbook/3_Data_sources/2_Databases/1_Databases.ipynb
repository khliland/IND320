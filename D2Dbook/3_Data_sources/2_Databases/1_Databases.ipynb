{
 "cells": [
  {
   "cell_type": "markdown",
   "metadata": {
    "slideshow": {
     "slide_type": "slide"
    }
   },
   "source": [
    "# Databases\n",
    "This chapter will give a brief introduction to databases on a level sufficient for usage in the course. As many databases use SQL (Structured Query Language / \"sequel\") or a variation of this, we will also show SQL examples."
   ]
  },
  {
   "cell_type": "markdown",
   "metadata": {
    "slideshow": {
     "slide_type": "slide"
    }
   },
   "source": [
    "## Categories\n",
    "- Relational databases/SQL, e.g., MySQL, Microsoft SQL, Oracle DB\n",
    "- NoSQL, e.g., Cassandra, MongoDB\n",
    "    - Traditional tables, but no relations between tables\n",
    "    - Vector databases\n",
    "    - Graph databases\n",
    "  \n",
    "This list is non-exhaustive both with regard to categories and examples."
   ]
  },
  {
   "cell_type": "markdown",
   "metadata": {
    "slideshow": {
     "slide_type": "slide"
    }
   },
   "source": [
    "### Relational databases\n",
    "- Tables with fixed attributes\n",
    "    - Each column has a name and a storage type.\n",
    "    - One (ore more) column(s) defined as a key, only accepting unique values.\n",
    "- Tables are connected (relations) in one of three ways:\n",
    "    - __One-to-many__, one-to-one, and many-to-many\n",
    "  \n",
    "<img src=\"https://github.com/khliland/IND320/blob/main/D2Dbook/images/Databases_SQL_relation.png?raw=TRUE\" width=\"600px\">  \n",
    "  \n",
    "We will be using MySQL as an example of this category"
   ]
  },
  {
   "cell_type": "markdown",
   "metadata": {
    "slideshow": {
     "slide_type": "slide"
    }
   },
   "source": [
    "### NoSQL\n",
    "- Cacheable, parallelizable, scalable to exabytes of data.\n",
    "    - E.g., XML databases for querying XML documents based on attributes.\n",
    "    - May not use tables at all, only key-value pairs and corresponding unstructured data/objects.\n",
    "- Some use a subset of SQL commands (NoSQL = Non-relational SQL).  \n",
    "    - Trades a bit more strict querying for speed and scale.\n",
    "  \n",
    "We will be using Cassandra as an example of this category."
   ]
  },
  {
   "cell_type": "markdown",
   "metadata": {
    "slideshow": {
     "slide_type": "slide"
    }
   },
   "source": [
    "### Vector databases\n",
    "- Like NoSQL, these are made to overcome limitations in relational databases.\n",
    "- Data stored as high-dimensional vectors representing features or attributes.\n",
    "    - E.g., transformations or embeddings.\n",
    "- Applied in natural language processing (NLP), computer vision (CV), recommendation systems (RS), etc. when searching for similar objects.\n",
    "    - E.g., find the image most similar to my search image."
   ]
  },
  {
   "cell_type": "markdown",
   "metadata": {
    "slideshow": {
     "slide_type": "slide"
    }
   },
   "source": [
    "```{seealso} Resources\n",
    ":class: tip\n",
    "- [Wikipedia: SQL](https://en.wikipedia.org/wiki/SQL)\n",
    "- [Wikipedia: NoSQL](https://en.wikipedia.org/wiki/NoSQL)\n",
    "- [Microsoft Learn: Vector databases](https://learn.microsoft.com/en-us/semantic-kernel/memories/vector-db)\n",
    "```"
   ]
  }
 ],
 "metadata": {
  "celltoolbar": "Slideshow",
  "kernelspec": {
   "display_name": "Python 3 (ipykernel)",
   "language": "python",
   "name": "python3"
  },
  "language_info": {
   "codemirror_mode": {
    "name": "ipython",
    "version": 3
   },
   "file_extension": ".py",
   "mimetype": "text/x-python",
   "name": "python",
   "nbconvert_exporter": "python",
   "pygments_lexer": "ipython3",
   "version": "3.10.6"
  }
 },
 "nbformat": 4,
 "nbformat_minor": 2
}
