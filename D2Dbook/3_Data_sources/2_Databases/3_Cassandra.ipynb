{
 "cells": [
  {
   "cell_type": "markdown",
   "metadata": {
    "slideshow": {
     "slide_type": "slide"
    }
   },
   "source": [
    "# Cassandra\n",
    "- A production grade NoSQL database.\n",
    "- Can be distributed across servers, nodes, etc.\n",
    "- Replication of database is supported for high degree of redundancy and speed.\n",
    "- Uses CQL, a subset of SQL for querying.\n",
    "- Works seamlesly together with Spark and its corresponding distributed structure.\n",
    "- Installation of Cassandra is explained in the [Installation chapter](../../7_Appendix/Installation.ipynb)."
   ]
  },
  {
   "cell_type": "markdown",
   "metadata": {
    "slideshow": {
     "slide_type": "slide"
    }
   },
   "source": [
    "## Spinning up a local Cassandra instance\n",
    "In a terminal, first time:  \n",
    "```docker run --name my_cassandra -p 9042:9042 cassandra:latest```  \n",
    "... and later:  \n",
    "```docker start my_cassandra```  \n",
    "  \n",
    ".. or in Docker Desktop:\n",
    "- Run the cassandra docker image with optional settings, opening 9042 port and setting a name.\n",
    "- Later, simply run the container with the name you chose."
   ]
  },
  {
   "cell_type": "markdown",
   "metadata": {
    "slideshow": {
     "slide_type": "slide"
    }
   },
   "source": [
    "<img src=\"https://github.com/khliland/IND320/blob/main/D2Dbook/images/Docker_images.png?raw=TRUE\" width=\"600px\">  "
   ]
  },
  {
   "cell_type": "markdown",
   "metadata": {
    "slideshow": {
     "slide_type": "slide"
    }
   },
   "source": [
    "\n",
    "<img src=\"https://github.com/khliland/IND320/blob/main/D2Dbook/images/Docker_containers.png?raw=TRUE\" width=\"800px\">  "
   ]
  },
  {
   "cell_type": "markdown",
   "metadata": {
    "slideshow": {
     "slide_type": "slide"
    }
   },
   "source": [
    "### Connect to the Cassandra cluster from Python."
   ]
  },
  {
   "cell_type": "code",
   "execution_count": 1,
   "metadata": {
    "ExecuteTime": {
     "end_time": "2024-08-17T10:25:34.787878Z",
     "start_time": "2024-08-17T10:25:34.389367Z"
    },
    "execution": {
     "iopub.execute_input": "2024-08-17T11:11:08.638602Z",
     "iopub.status.busy": "2024-08-17T11:11:08.638284Z",
     "iopub.status.idle": "2024-08-17T11:11:08.852135Z",
     "shell.execute_reply": "2024-08-17T11:11:08.851463Z"
    },
    "slideshow": {
     "slide_type": "-"
    }
   },
   "outputs": [],
   "source": [
    "# Connecting to Cassandra\n",
    "from cassandra.cluster import Cluster\n",
    "cluster = Cluster(['localhost'], port=9042)\n",
    "session = cluster.connect()"
   ]
  },
  {
   "cell_type": "markdown",
   "metadata": {
    "slideshow": {
     "slide_type": "slide"
    }
   },
   "source": [
    "### Keyspace\n",
    "- In Cassandra database tables are stored in keyspaces (basically a distributed database).\n",
    "- These have parameters controlling their distribution on nodes/servers and redundancy.\n",
    "- We will use the simplest form locally."
   ]
  },
  {
   "cell_type": "code",
   "execution_count": null,
   "metadata": {
    "ExecuteTime": {
     "end_time": "2024-08-17T10:25:34.798504Z",
     "start_time": "2024-08-17T10:25:34.789786Z"
    },
    "execution": {
     "iopub.execute_input": "2024-08-17T11:11:08.857654Z",
     "iopub.status.busy": "2024-08-17T11:11:08.857351Z",
     "iopub.status.idle": "2024-08-17T11:11:08.885591Z",
     "shell.execute_reply": "2024-08-17T11:11:08.870416Z"
    },
    "slideshow": {
     "slide_type": "fragment"
    }
   },
   "outputs": [],
   "source": [
    "# Set up new keyspace (first time only)\n",
    "#                                              name of keyspace                        replication strategy           replication factor\n",
    "session.execute(\"CREATE KEYSPACE IF NOT EXISTS my_first_keyspace WITH REPLICATION = { 'class' : 'SimpleStrategy', 'replication_factor' : 1 };\")"
   ]
  },
  {
   "cell_type": "markdown",
   "metadata": {
    "slideshow": {
     "slide_type": "slide"
    }
   },
   "source": [
    "### Create a table\n",
    "- IF NOT EXISTS makes sure we do not overwrite existing tables"
   ]
  },
  {
   "cell_type": "code",
   "execution_count": null,
   "metadata": {
    "ExecuteTime": {
     "end_time": "2024-08-17T10:25:35.347394Z",
     "start_time": "2024-08-17T10:25:34.800008Z"
    },
    "execution": {
     "iopub.execute_input": "2024-08-17T11:11:08.911341Z",
     "iopub.status.busy": "2024-08-17T11:11:08.911070Z",
     "iopub.status.idle": "2024-08-17T11:11:09.268195Z",
     "shell.execute_reply": "2024-08-17T11:11:09.267726Z"
    },
    "slideshow": {
     "slide_type": "fragment"
    }
   },
   "outputs": [],
   "source": [
    "# Create a new table (first time only)\n",
    "session.set_keyspace('my_first_keyspace')\n",
    "session.execute(\"DROP TABLE IF EXISTS my_first_keyspace.my_first_table;\") # Starting from scratch every time\n",
    "session.execute(\"CREATE TABLE IF NOT EXISTS my_first_table (ind int PRIMARY KEY, company text, model text);\")"
   ]
  },
  {
   "cell_type": "markdown",
   "metadata": {
    "slideshow": {
     "slide_type": "slide"
    }
   },
   "source": [
    "### Inserting and reading data"
   ]
  },
  {
   "cell_type": "code",
   "execution_count": null,
   "metadata": {
    "ExecuteTime": {
     "end_time": "2024-08-17T10:25:35.366363Z",
     "start_time": "2024-08-17T10:25:35.350453Z"
    },
    "execution": {
     "iopub.execute_input": "2024-08-17T11:11:09.271663Z",
     "iopub.status.busy": "2024-08-17T11:11:09.271398Z",
     "iopub.status.idle": "2024-08-17T11:11:09.282842Z",
     "shell.execute_reply": "2024-08-17T11:11:09.282365Z"
    },
    "slideshow": {
     "slide_type": "-"
    }
   },
   "outputs": [],
   "source": [
    "# Insert some data (ind is the primary key, must be unique)\n",
    "session.execute(\"INSERT INTO my_first_table (ind, company, model) VALUES (1, 'Tesla', 'Model S');\")\n",
    "session.execute(\"INSERT INTO my_first_table (ind, company, model) VALUES (2, 'Tesla', 'Model 3');\")\n",
    "session.execute(\"INSERT INTO my_first_table (ind, company, model) VALUES (3, 'Polestar', '3');\")"
   ]
  },
  {
   "cell_type": "markdown",
   "metadata": {
    "slideshow": {
     "slide_type": "slide"
    }
   },
   "source": [
    "### Asyncronous writing\n",
    "- If your application is very data intensive, waiting for a response is not productive.\n",
    "- Writing asyncronously sends the data but does not pause for reply."
   ]
  },
  {
   "cell_type": "code",
   "execution_count": null,
   "metadata": {
    "ExecuteTime": {
     "end_time": "2024-08-17T10:25:35.371390Z",
     "start_time": "2024-08-17T10:25:35.367159Z"
    },
    "execution": {
     "iopub.execute_input": "2024-08-17T11:11:09.284596Z",
     "iopub.status.busy": "2024-08-17T11:11:09.284399Z",
     "iopub.status.idle": "2024-08-17T11:11:09.287020Z",
     "shell.execute_reply": "2024-08-17T11:11:09.286662Z"
    },
    "slideshow": {
     "slide_type": "-"
    }
   },
   "outputs": [],
   "source": [
    "session.execute_async(\"INSERT INTO my_first_table (ind, company, model) VALUES (4, 'Volkswagen', 'ID.4');\")"
   ]
  },
  {
   "cell_type": "code",
   "execution_count": null,
   "metadata": {
    "ExecuteTime": {
     "end_time": "2024-08-17T10:25:35.384736Z",
     "start_time": "2024-08-17T10:25:35.372551Z"
    },
    "execution": {
     "iopub.execute_input": "2024-08-17T11:11:09.288398Z",
     "iopub.status.busy": "2024-08-17T11:11:09.288225Z",
     "iopub.status.idle": "2024-08-17T11:11:09.292272Z",
     "shell.execute_reply": "2024-08-17T11:11:09.292080Z"
    },
    "slideshow": {
     "slide_type": "slide"
    }
   },
   "outputs": [],
   "source": [
    "# Query the data\n",
    "rows = session.execute(\"SELECT * FROM my_first_table;\")\n",
    "for i in rows:\n",
    "    print(i)"
   ]
  },
  {
   "cell_type": "code",
   "execution_count": null,
   "metadata": {
    "ExecuteTime": {
     "end_time": "2024-08-17T10:25:35.402371Z",
     "start_time": "2024-08-17T10:25:35.386980Z"
    },
    "execution": {
     "iopub.execute_input": "2024-08-17T11:11:09.293405Z",
     "iopub.status.busy": "2024-08-17T11:11:09.293329Z",
     "iopub.status.idle": "2024-08-17T11:11:09.301239Z",
     "shell.execute_reply": "2024-08-17T11:11:09.300994Z"
    },
    "slideshow": {
     "slide_type": "slide"
    },
    "tags": [
     "raises-exception"
    ]
   },
   "outputs": [],
   "source": [
    "# More specific query\n",
    "prepared_statement = session.prepare(\"SELECT * FROM my_first_table WHERE company=? ALLOW FILTERING;\")\n",
    "teslas = session.execute(prepared_statement, ['Tesla'])\n",
    "for i in teslas:\n",
    "    print(i)"
   ]
  },
  {
   "cell_type": "markdown",
   "metadata": {
    "slideshow": {
     "slide_type": "slide"
    }
   },
   "source": [
    "## Cassandra filtering\n",
    "Cassandra is inherently a distributed production database. Selecting as above may require downloading all data from a node, then filtering based on the WHERE part (only PRIMARY KEYs are centrally known). Solutions:  \n",
    "- If the table is small or most of the data will satisfy the query, add ```ALLOW FILTERING``` at the end of the query (not recommended if not known). \n",
    "- Or make sure the WHERE clause points to one of the keys (see below)."
   ]
  },
  {
   "cell_type": "code",
   "execution_count": null,
   "metadata": {
    "ExecuteTime": {
     "end_time": "2024-08-17T10:25:35.613711Z",
     "start_time": "2024-08-17T10:25:35.403622Z"
    },
    "execution": {
     "iopub.execute_input": "2024-08-17T11:11:09.302558Z",
     "iopub.status.busy": "2024-08-17T11:11:09.302476Z",
     "iopub.status.idle": "2024-08-17T11:11:09.681406Z",
     "shell.execute_reply": "2024-08-17T11:11:09.680793Z"
    },
    "slideshow": {
     "slide_type": "slide"
    }
   },
   "outputs": [],
   "source": [
    "# Create a new table (observe keys)\n",
    "session.execute(\"DROP TABLE IF EXISTS my_first_keyspace.car_table;\")\n",
    "session.execute(\"CREATE TABLE IF NOT EXISTS car_table (company text, model text, PRIMARY KEY(company, model));\")"
   ]
  },
  {
   "cell_type": "code",
   "execution_count": null,
   "metadata": {
    "ExecuteTime": {
     "end_time": "2024-08-17T10:25:35.628950Z",
     "start_time": "2024-08-17T10:25:35.615126Z"
    },
    "execution": {
     "iopub.execute_input": "2024-08-17T11:11:09.684494Z",
     "iopub.status.busy": "2024-08-17T11:11:09.684140Z",
     "iopub.status.idle": "2024-08-17T11:11:09.699387Z",
     "shell.execute_reply": "2024-08-17T11:11:09.699059Z"
    },
    "slideshow": {
     "slide_type": "fragment"
    }
   },
   "outputs": [],
   "source": [
    "# Insert some data (combination of company and model must be unique)\n",
    "session.execute(\"INSERT INTO car_table (company, model) VALUES ('Tesla', 'Model S');\")\n",
    "session.execute(\"INSERT INTO car_table (company, model) VALUES ('Tesla', 'Model 3');\")\n",
    "session.execute(\"INSERT INTO car_table (company, model) VALUES ('Polestar', '3');\")\n",
    "session.execute(\"INSERT INTO car_table (company, model) VALUES ('Volkswagen', 'ID.4');\")"
   ]
  },
  {
   "cell_type": "code",
   "execution_count": null,
   "metadata": {
    "ExecuteTime": {
     "end_time": "2024-08-17T10:25:35.639765Z",
     "start_time": "2024-08-17T10:25:35.630657Z"
    },
    "execution": {
     "iopub.execute_input": "2024-08-17T11:11:09.700798Z",
     "iopub.status.busy": "2024-08-17T11:11:09.700701Z",
     "iopub.status.idle": "2024-08-17T11:11:09.709531Z",
     "shell.execute_reply": "2024-08-17T11:11:09.709308Z"
    },
    "slideshow": {
     "slide_type": "slide"
    }
   },
   "outputs": [],
   "source": [
    "# More specific query now works\n",
    "prepared_statement = session.prepare(\"SELECT * FROM car_table WHERE company=?;\")\n",
    "teslas = session.execute(prepared_statement, ['Tesla'])\n",
    "for i in teslas:\n",
    "    print(i)"
   ]
  },
  {
   "cell_type": "markdown",
   "metadata": {
    "slideshow": {
     "slide_type": "slide"
    }
   },
   "source": [
    "### Partitions\n",
    "- Cassandra databases are usually replicated over different nodes.\n",
    "- Data is stored in partitions (subsets) which have local copys.\n",
    "- The primary key, e.g., PRIMARY KEY(company, model), is used in partitioning.\n",
    "    - The first part, e.g., company, is most important.\n",
    "    - All cars from a company will be located together, aiming for quicker queries."
   ]
  },
  {
   "cell_type": "markdown",
   "metadata": {
    "slideshow": {
     "slide_type": "slide"
    }
   },
   "source": [
    "### Unique IDs \n",
    "- In MySQL one could use the attribute AUTO_INCREMENT on integer IDs to automatically make a new unique index when inserting data.\n",
    "- This would cause unreasonable overhead in a distributed database.\n",
    "- [UUID](https://en.wikipedia.org/wiki/Universally_unique_identifier)s are used instead.\n",
    "    - Universally Unique Identifiers are typically 128-bit random bit sequences with extremely low probability of duplication.\n",
    "    - Cassandra uses a [timeuuid](https://docs.datastax.com/en/cql-oss/3.3/cql/cql_reference/timeuuid_functions_r.html) type to combine a timestamp and uuid in one."
   ]
  },
  {
   "cell_type": "code",
   "execution_count": null,
   "metadata": {
    "ExecuteTime": {
     "end_time": "2024-08-17T10:25:35.766003Z",
     "start_time": "2024-08-17T10:25:35.640600Z"
    },
    "execution": {
     "iopub.execute_input": "2024-08-17T11:11:09.711042Z",
     "iopub.status.busy": "2024-08-17T11:11:09.710948Z",
     "iopub.status.idle": "2024-08-17T11:11:09.918355Z",
     "shell.execute_reply": "2024-08-17T11:11:09.917815Z"
    },
    "slideshow": {
     "slide_type": "fragment"
    }
   },
   "outputs": [],
   "source": [
    "# Create a new table (first time only)\n",
    "session.set_keyspace('my_first_keyspace')\n",
    "session.execute(\"DROP TABLE IF EXISTS my_first_keyspace.table_with_uuid;\")\n",
    "session.execute(\"CREATE TABLE IF NOT EXISTS table_with_uuid (id timeuuid PRIMARY KEY, company text, model text, price float);\")"
   ]
  },
  {
   "cell_type": "code",
   "execution_count": null,
   "metadata": {
    "ExecuteTime": {
     "end_time": "2024-08-17T10:25:35.784876Z",
     "start_time": "2024-08-17T10:25:35.766619Z"
    },
    "execution": {
     "iopub.execute_input": "2024-08-17T11:11:09.923981Z",
     "iopub.status.busy": "2024-08-17T11:11:09.923698Z",
     "iopub.status.idle": "2024-08-17T11:11:09.934475Z",
     "shell.execute_reply": "2024-08-17T11:11:09.934197Z"
    },
    "slideshow": {
     "slide_type": "slide"
    }
   },
   "outputs": [],
   "source": [
    "session.execute(\"INSERT INTO table_with_uuid (id, company, model, price) VALUES (now(), 'Tesla', 'Model S', 20000.0);\")\n",
    "session.execute(\"INSERT INTO table_with_uuid (id, company, model, price) VALUES (now(), 'Tesla', 'Model S', 21000.0);\")\n",
    "session.execute(\"INSERT INTO table_with_uuid (id, company, model, price) VALUES (now(), 'Oldsmobile', 'Model 6C', 135000.0);\")"
   ]
  },
  {
   "cell_type": "code",
   "execution_count": null,
   "metadata": {
    "ExecuteTime": {
     "end_time": "2024-08-17T10:25:35.792934Z",
     "start_time": "2024-08-17T10:25:35.785467Z"
    },
    "execution": {
     "iopub.execute_input": "2024-08-17T11:11:09.935912Z",
     "iopub.status.busy": "2024-08-17T11:11:09.935798Z",
     "iopub.status.idle": "2024-08-17T11:11:09.942858Z",
     "shell.execute_reply": "2024-08-17T11:11:09.942654Z"
    },
    "slideshow": {
     "slide_type": "slide"
    }
   },
   "outputs": [],
   "source": [
    "from cassandra.util import datetime_from_uuid1\n",
    "\n",
    "# Query the data\n",
    "rows = session.execute(\"SELECT * FROM table_with_uuid;\")\n",
    "for i in rows:\n",
    "    print(i)\n",
    "    # Extract the timestamp from Cassandra's timeuuid\n",
    "    print(\"Datetime:\", datetime_from_uuid1(i.id))"
   ]
  },
  {
   "cell_type": "markdown",
   "metadata": {
    "slideshow": {
     "slide_type": "slide"
    }
   },
   "source": [
    "## JSON in Cassandra\n",
    "### Read previously saved JSON file forecast.json to memory"
   ]
  },
  {
   "cell_type": "code",
   "execution_count": null,
   "metadata": {
    "ExecuteTime": {
     "end_time": "2024-08-17T10:25:35.796049Z",
     "start_time": "2024-08-17T10:25:35.793437Z"
    },
    "execution": {
     "iopub.execute_input": "2024-08-17T11:11:09.944080Z",
     "iopub.status.busy": "2024-08-17T11:11:09.943989Z",
     "iopub.status.idle": "2024-08-17T11:11:09.946114Z",
     "shell.execute_reply": "2024-08-17T11:11:09.945914Z"
    },
    "slideshow": {
     "slide_type": "-"
    }
   },
   "outputs": [],
   "source": [
    "import json\n",
    "with open('../3_APIs/downloads/forecast.json', 'r') as f:\n",
    "    forecast = json.load(f)"
   ]
  },
  {
   "cell_type": "code",
   "execution_count": null,
   "metadata": {
    "ExecuteTime": {
     "end_time": "2024-08-17T10:25:35.799114Z",
     "start_time": "2024-08-17T10:25:35.796532Z"
    },
    "execution": {
     "iopub.execute_input": "2024-08-17T11:11:09.947281Z",
     "iopub.status.busy": "2024-08-17T11:11:09.947207Z",
     "iopub.status.idle": "2024-08-17T11:11:09.949379Z",
     "shell.execute_reply": "2024-08-17T11:11:09.949167Z"
    },
    "slideshow": {
     "slide_type": "slide"
    }
   },
   "outputs": [],
   "source": [
    "# Inspect JSON file\n",
    "forecast.__str__()"
   ]
  },
  {
   "cell_type": "markdown",
   "metadata": {
    "slideshow": {
     "slide_type": "slide"
    }
   },
   "source": [
    "## Raw JSON\n",
    "- A simple, but not very efficient way of storing JSON data is to treat it as a text and save it directly to the database.  \n",
    "- More efficient, with regard to transfer, is to compress the JSON data to a blob first.\n",
    "    - Compression is automatic."
   ]
  },
  {
   "cell_type": "code",
   "execution_count": null,
   "metadata": {
    "ExecuteTime": {
     "end_time": "2024-08-17T10:25:35.916537Z",
     "start_time": "2024-08-17T10:25:35.799572Z"
    },
    "execution": {
     "iopub.execute_input": "2024-08-17T11:11:09.950984Z",
     "iopub.status.busy": "2024-08-17T11:11:09.950913Z",
     "iopub.status.idle": "2024-08-17T11:11:10.145496Z",
     "shell.execute_reply": "2024-08-17T11:11:10.144832Z"
    },
    "slideshow": {
     "slide_type": "-"
    }
   },
   "outputs": [],
   "source": [
    "# Create a new table which treats the whole JSON as a blob, using the city id and the first dt as keys\n",
    "session.set_keyspace('my_first_keyspace')\n",
    "session.execute(\"DROP TABLE IF EXISTS my_first_keyspace.forecast_table;\")\n",
    "session.execute(\"CREATE TABLE IF NOT EXISTS forecast_table (city_id int, dt int, forecast blob, PRIMARY KEY(city_id, dt));\")"
   ]
  },
  {
   "cell_type": "markdown",
   "metadata": {
    "slideshow": {
     "slide_type": "slide"
    }
   },
   "source": [
    "### Insert the forecast data into the table as text blob"
   ]
  },
  {
   "cell_type": "code",
   "execution_count": null,
   "metadata": {
    "ExecuteTime": {
     "end_time": "2024-08-17T10:25:35.935855Z",
     "start_time": "2024-08-17T10:25:35.917175Z"
    },
    "execution": {
     "iopub.execute_input": "2024-08-17T11:11:10.148703Z",
     "iopub.status.busy": "2024-08-17T11:11:10.148303Z",
     "iopub.status.idle": "2024-08-17T11:11:10.155783Z",
     "shell.execute_reply": "2024-08-17T11:11:10.155541Z"
    },
    "slideshow": {
     "slide_type": "-"
    }
   },
   "outputs": [],
   "source": [
    "session.execute(\"INSERT INTO forecast_table (city_id, dt, forecast) VALUES (%s, %s, textAsBlob(%s));\", (forecast['city']['id'], forecast['list'][0]['dt'], forecast.__str__()))"
   ]
  },
  {
   "cell_type": "code",
   "execution_count": null,
   "metadata": {
    "ExecuteTime": {
     "end_time": "2024-08-17T10:25:35.946537Z",
     "start_time": "2024-08-17T10:25:35.938642Z"
    },
    "execution": {
     "iopub.execute_input": "2024-08-17T11:11:10.159331Z",
     "iopub.status.busy": "2024-08-17T11:11:10.159199Z",
     "iopub.status.idle": "2024-08-17T11:11:10.169987Z",
     "shell.execute_reply": "2024-08-17T11:11:10.169745Z"
    },
    "slideshow": {
     "slide_type": "slide"
    }
   },
   "outputs": [],
   "source": [
    "# Query the data\n",
    "forecast_rows = session.execute(\"SELECT * FROM forecast_table;\")\n",
    "print(forecast_rows.one()) # <- only one row"
   ]
  },
  {
   "cell_type": "markdown",
   "metadata": {
    "slideshow": {
     "slide_type": "slide"
    }
   },
   "source": [
    "```{seealso} Resources\n",
    ":class: tip\n",
    "- [Cassandra webpage](https://cassandra.apache.org/)\n",
    "- [Cassandra Docker file](https://hub.docker.com/_/cassandra)\n",
    "- [UUID functions](https://docs.datastax.com/en/cql-oss/3.3/cql/cql_reference/timeuuid_functions_r.html)\n",
    "- [YouTube: Cassandra in 100 seconds](https://youtu.be/ziq7FUKpCS8?si=WQUdkHFvaBmT0DBo) (2m:26s)\n",
    "- [YouTube: How to use Apache Cassandra in Python](https://youtu.be/qMauZqJH3ZM?si=yKGZ-5cld2BK396Y) (14m:50s)\n",
    "- [YouTube: Cassandra Database Crash Course](https://youtu.be/KZsVSfQVU4I?si=FBCi8qOfCirfVmZk) (19m:47s)\n",
    "```"
   ]
  }
 ],
 "metadata": {
  "celltoolbar": "Slideshow",
  "kernelspec": {
   "display_name": "IND320_2024",
   "language": "python",
   "name": "python3"
  },
  "language_info": {
   "codemirror_mode": {
    "name": "ipython",
    "version": 3
   },
   "file_extension": ".py",
   "mimetype": "text/x-python",
   "name": "python",
   "nbconvert_exporter": "python",
   "pygments_lexer": "ipython3",
   "version": "3.12.4"
  }
 },
 "nbformat": 4,
 "nbformat_minor": 2
}
