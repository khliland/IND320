{
 "cells": [
  {
   "cell_type": "markdown",
   "metadata": {
    "slideshow": {
     "slide_type": "slide"
    }
   },
   "source": [
    "# APIs\n",
    "- Application Programming Interface\n",
    "- A standardised interface for access to:\n",
    "    - data and transfers,\n",
    "    - programs and services,\n",
    "    - general communication between apps/programs.\n",
    "- The \"hidden\" version of a User Interface letting computers and programs communicate.\n",
    "- Can be limited (by owners) on:\n",
    "    - number of requests per time unit,\n",
    "    - access codes/credentials."
   ]
  },
  {
   "cell_type": "markdown",
   "metadata": {
    "slideshow": {
     "slide_type": "slide"
    }
   },
   "source": [
    "## Web APIs\n",
    "- Hyper Text Transfer Protocol (HTTP) based queries and answers using [POST or GET methods](https://www.w3schools.com/tags/ref_httpmethods.asp).\n",
    "- Each API has its own hierachy and possibilites for querying.\n",
    "- URLs used for querying using the GET method typically consist of:\n",
    "    - a server address: _http://api.openweathermap.org_,\n",
    "    - a hierarchy with descriptive names: _/data/2.5/forecast_, and\n",
    "    - a question mark marking the beginning of user supplied named variables with  \n",
    "      contents joined by ampersands: _?q=London&appid=MY_API_KEY_\n",
    "- Variations in naming include _data / api_, _q / query_."
   ]
  },
  {
   "cell_type": "markdown",
   "metadata": {
    "slideshow": {
     "slide_type": "slide"
    }
   },
   "source": [
    "- A full query can look like this: _https://ec.europa.eu/eurostat/api/dissemination/statistics/1.0/data/prc_hicp_mv12r?geo=DK&geo=NO&geo=SE&geo=DE&geo=UK&coicop=CP00&unit=RCH_MV12MAVR_\n",
    "    - Here there are filters at work to extract various countries and data.\n",
    "- For the POST method, the server address and hierarchy has the same format, but the query text is \"POSTed\" separately (see example below)."
   ]
  },
  {
   "cell_type": "markdown",
   "metadata": {
    "slideshow": {
     "slide_type": "slide"
    }
   },
   "source": [
    "- Some APIs use time-limited access tokens, e.g., see [BarentsWatch tutorial](https://developer.barentswatch.no/docs/tutorial) and [GitHub example](https://github.com/barentswatch/barentswatch-api-examples/blob/master/credentials.py):\n",
    "    - First POST to the API includes a client ID and client \"secret\".\n",
    "    - A token (temporary password) is returned and can be used for subsequent requests (typically expiring after 3600 s).\n",
    "- APIs are not eternal.\n",
    "    - Formats are changed over time.\n",
    "    - Sometimes different formatting can be accessed by the 1.0/1.1, etc. part of the URL."
   ]
  },
  {
   "cell_type": "markdown",
   "metadata": {
    "slideshow": {
     "slide_type": "slide"
    }
   },
   "source": [
    "### JSON\n",
    "- The query can be a JSON string, e.g., _{'city': 'London', 'year': '2000'}_ which can be sent separately,  \n",
    "  see example below using POST.\n",
    "- Also the returned contents are often JSON formatted."
   ]
  },
  {
   "cell_type": "markdown",
   "metadata": {
    "slideshow": {
     "slide_type": "slide"
    }
   },
   "source": [
    "## Example with JSON query and JSON-stat return\n",
    "- Statistics Norway (SSB)\n",
    "- Traffic accident data"
   ]
  },
  {
   "cell_type": "code",
   "execution_count": null,
   "metadata": {
    "ExecuteTime": {
     "end_time": "2024-08-17T10:13:59.926706Z",
     "start_time": "2024-08-17T10:13:58.304992Z"
    },
    "slideshow": {
     "slide_type": "slide"
    },
    "tags": []
   },
   "outputs": [],
   "source": [
    "from pyjstat import pyjstat\n",
    "import requests\n",
    "\n",
    "# API for Statistics Norway, table of traffic accidents\n",
    "POST_URL = 'https://data.ssb.no/api/v0/en/table/06794'\n",
    "# Paste the URL into a browser to see all the options\n",
    "\n",
    "# The payload is the JSON-stat dataset identifier\n",
    "payload = { \"query\": [{ \"code\": \"Skadegrad\", \"selection\": { \"filter\": \"item\", \"values\": [ \"01\", \"20\", \"02\", \"04\", \"05\" ] } }, \n",
    "                      { \"code\": \"Kjonn\", \"selection\": { \"filter\": \"item\", \"values\": [ \"1\", \"2\" ] } }, \n",
    "                      { \"code\": \"Trafikkantgruppe\", \"selection\": { \"filter\": \"item\", \"values\": [ \"1\", \"2\", \"3\", \"7\", \"8\" ] } }, \n",
    "                      { \"code\": \"ContentsCode\", \"selection\": { \"filter\": \"item\", \"values\": [ \"SkaddDrept\" ] } }, \n",
    "                      { \"code\": \"Tid\", \"selection\": { \"filter\": \"item\", \"values\": [ \"1999M01\", \"1999M02\", \"1999M03\", \"2024M06\", \"2024M07\" ] } } \n",
    "                      ], \n",
    "                      \"response\": { \"format\": \"json-stat2\" } }\n",
    "\n",
    "result = requests.post(POST_URL, json = payload)\n",
    "print(result) # 200 = OK"
   ]
  },
  {
   "cell_type": "code",
   "execution_count": null,
   "metadata": {
    "ExecuteTime": {
     "end_time": "2024-08-17T10:13:59.950684Z",
     "start_time": "2024-08-17T10:13:59.927889Z"
    },
    "slideshow": {
     "slide_type": "slide"
    },
    "tags": []
   },
   "outputs": [],
   "source": [
    "# Extract DataFrame from JSON-stat\n",
    "dataset = pyjstat.Dataset.read(result.text)\n",
    "df = dataset.write('dataframe')\n",
    "print(df.shape)\n",
    "df.head()"
   ]
  },
  {
   "cell_type": "code",
   "execution_count": null,
   "metadata": {
    "ExecuteTime": {
     "end_time": "2024-08-17T10:14:01.132003Z",
     "start_time": "2024-08-17T10:13:59.951619Z"
    },
    "slideshow": {
     "slide_type": "slide"
    },
    "tags": []
   },
   "outputs": [],
   "source": [
    "# New payload with less restrictions\n",
    "payload = { \"query\": [ { \"code\": \"Skadegrad\", \"selection\": { \"filter\": \"all\", \"values\": [ \"*\" ] } }, \n",
    "                      { \"code\": \"Kjonn\", \"selection\": { \"filter\": \"all\", \"values\": [ \"*\" ] } }, \n",
    "                      { \"code\": \"Trafikkantgruppe\", \"selection\": { \"filter\": \"all\", \"values\": [ \"*\" ] } }, \n",
    "                      { \"code\": \"ContentsCode\", \"selection\": { \"filter\": \"all\", \"values\": [ \"*\" ] } }, \n",
    "                      { \"code\": \"Tid\", \"selection\": { \"filter\": \"all\", \"values\": [ \"*\" ] } } \n",
    "                      ], \n",
    "                      \"response\": { \"format\": \"json-stat2\" } }\n",
    "\n",
    "result = requests.post(POST_URL, json = payload)\n",
    "print(result) # 200 = OK"
   ]
  },
  {
   "cell_type": "code",
   "execution_count": null,
   "metadata": {
    "ExecuteTime": {
     "end_time": "2024-08-17T10:14:01.166375Z",
     "start_time": "2024-08-17T10:14:01.133758Z"
    },
    "slideshow": {
     "slide_type": "slide"
    },
    "tags": []
   },
   "outputs": [],
   "source": [
    "dataset = pyjstat.Dataset.read(result.text)\n",
    "df_all = dataset.write('dataframe')\n",
    "print(df_all.shape)\n",
    "df_all.head()"
   ]
  },
  {
   "cell_type": "markdown",
   "metadata": {
    "slideshow": {
     "slide_type": "slide"
    }
   },
   "source": [
    "## Exercise\n",
    "- Visit Statistics Norway's [Ready-made datasets](https://data.ssb.no/api/v0/?lang=en).\n",
    "- Select a different dataset, download through the API and inspect the results."
   ]
  },
  {
   "cell_type": "markdown",
   "metadata": {
    "slideshow": {
     "slide_type": "slide"
    }
   },
   "source": [
    "```{seealso} \n",
    ":class: tip\n",
    "\n",
    "## Resources\n",
    "- [YouTube: What is an API (in 5 minutes)](https://youtu.be/ByGJQzlzxQg?si=xE0PjNncYbAgpsig) (4m:55s)\n",
    "- [SSB instruction video](https://www.ssb.no/en/api/pxwebapi) (2m:30s)\n",
    "- [SSB API code examples](https://www.ssb.no/en/api/api-eksempler-pa-kode)\n",
    "- [Eurostats data tree](https://ec.europa.eu/eurostat/web/main/data/database)\n",
    "- [Eurostats API](https://wikis.ec.europa.eu/display/EUROSTATHELP/API+Statistics+-+data+query)\n",
    "```"
   ]
  }
 ],
 "metadata": {
  "celltoolbar": "Slideshow",
  "kernelspec": {
   "display_name": "Python 3 (ipykernel)",
   "language": "python",
   "name": "python3"
  },
  "language_info": {
   "codemirror_mode": {
    "name": "ipython",
    "version": 3
   },
   "file_extension": ".py",
   "mimetype": "text/x-python",
   "name": "python",
   "nbconvert_exporter": "python",
   "pygments_lexer": "ipython3",
   "version": "3.12.4"
  }
 },
 "nbformat": 4,
 "nbformat_minor": 4
}
