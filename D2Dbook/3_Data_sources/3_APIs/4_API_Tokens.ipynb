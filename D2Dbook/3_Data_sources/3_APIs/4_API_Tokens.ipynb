{
 "cells": [
  {
   "cell_type": "markdown",
   "metadata": {
    "slideshow": {
     "slide_type": "slide"
    }
   },
   "source": [
    "# API Tokens\n",
    "- Some services require the negotiation of an access token for each session when accessing an API.\n",
    "- This process typically consists of \n",
    "    - a first call to the API with a user ID and passphrase/secret/password,\n",
    "    - retreiving a token,\n",
    "    - using the token in subsequent queries to the API."
   ]
  },
  {
   "cell_type": "markdown",
   "metadata": {
    "slideshow": {
     "slide_type": "slide"
    }
   },
   "source": [
    "## BarentsWatch\n",
    "- The following is an example based on BartensWatch's API.\n",
    "- _client\\_id_ is the combination of an email address and a client name (see [BarentsWatch API tutorial](https://developer.barentswatch.no/docs/tutorial/)).\n",
    "- _client\\_secret_ is a password connected to the client name."
   ]
  },
  {
   "cell_type": "code",
   "execution_count": 1,
   "metadata": {
    "slideshow": {
     "slide_type": "fragment"
    }
   },
   "outputs": [],
   "source": [
    "# This file contains both the client_id and client_secret for the BarentsWatch API.\n",
    "BW = open('../../../No_sync/BarentsWatch','r').read()\n",
    "client_id = BW.split('\\n')[0]\n",
    "client_secret = BW.split('\\n')[1]\n",
    "config = {\n",
    "    'client_id': client_id,\n",
    "    'client_secret': client_secret,\n",
    "    'token_url': 'https://id.barentswatch.no/connect/token',\n",
    "    'api_base_url': 'https://www.barentswatch.no/bwapi'\n",
    "}"
   ]
  },
  {
   "cell_type": "markdown",
   "metadata": {
    "slideshow": {
     "slide_type": "slide"
    }
   },
   "source": [
    "### Convenience functions\n",
    "- We create two functions for easily requesting a token and data from the API (see _API\\_Tokens.py_).\n",
    "- These are based on the GitHub repository of [BarentsWatch](https://github.com/barentswatch/barentswatch-api-examples)"
   ]
  },
  {
   "cell_type": "code",
   "execution_count": 2,
   "metadata": {
    "slideshow": {
     "slide_type": "fragment"
    }
   },
   "outputs": [
    {
     "name": "stdout",
     "output_type": "stream",
     "text": [
      "Token request successful\n"
     ]
    }
   ],
   "source": [
    "import API_Tokens as AT\n",
    "token = AT.get_token(config)"
   ]
  },
  {
   "cell_type": "markdown",
   "metadata": {
    "slideshow": {
     "slide_type": "slide"
    }
   },
   "source": [
    "### Requesting data\n",
    "- Now that the token is in place, we can request data for 3600 seconds before needing a new one."
   ]
  },
  {
   "cell_type": "code",
   "execution_count": 3,
   "metadata": {
    "slideshow": {
     "slide_type": "fragment"
    }
   },
   "outputs": [],
   "source": [
    "data_2023_1 = AT.get_request('/v1/geodata/fishhealth/locality/2023/1', token, config)\n",
    "data_2023_2 = AT.get_request('/v1/geodata/fishhealth/locality/2023/2', token, config)"
   ]
  },
  {
   "cell_type": "code",
   "execution_count": 4,
   "metadata": {
    "slideshow": {
     "slide_type": "fragment"
    }
   },
   "outputs": [
    {
     "data": {
      "text/plain": [
       "False"
      ]
     },
     "execution_count": 4,
     "metadata": {},
     "output_type": "execute_result"
    }
   ],
   "source": [
    "# Structure of the data\n",
    "data_2023_1['localities'][0]['hasSalmonoids']"
   ]
  },
  {
   "cell_type": "code",
   "execution_count": 5,
   "metadata": {
    "slideshow": {
     "slide_type": "slide"
    }
   },
   "outputs": [
    {
     "data": {
      "image/png": "[encoded data removed]",
      "text/plain": [
       "<Figure size 640x480 with 1 Axes>"
      ]
     },
     "metadata": {},
     "output_type": "display_data"
    }
   ],
   "source": [
    "# Extract hasSalmonoids for all localities (at one timepoint)\n",
    "hasSalmonoids = []\n",
    "for i in range(len(data_2023_1['localities'])):\n",
    "    hasSalmonoids.append(data_2023_1['localities'][i]['hasSalmonoids'])\n",
    "\n",
    "# Make a pie chart of the data\n",
    "import matplotlib.pyplot as plt\n",
    "plt.pie([hasSalmonoids.count(False), hasSalmonoids.count(True)], labels = ['No salmonoids', 'Salmonoids'])\n",
    "plt.show()"
   ]
  },
  {
   "cell_type": "markdown",
   "metadata": {},
   "source": [
    "```{seealso} Resources\n",
    ":class: tip\n",
    "- [BarentsWatch API tutorial](https://developer.barentswatch.no/docs/tutorial/)\n",
    "- [BarentsWatch GitHub examples](https://github.com/barentswatch/barentswatch-api-examples)\n",
    "```"
   ]
  }
 ],
 "metadata": {
  "celltoolbar": "Slideshow",
  "kernelspec": {
   "display_name": "Python 3 (ipykernel)",
   "language": "python",
   "name": "python3"
  },
  "language_info": {
   "codemirror_mode": {
    "name": "ipython",
    "version": 3
   },
   "file_extension": ".py",
   "mimetype": "text/x-python",
   "name": "python",
   "nbconvert_exporter": "python",
   "pygments_lexer": "ipython3",
   "version": "3.10.6"
  }
 },
 "nbformat": 4,
 "nbformat_minor": 2
}
