{
 "cells": [
  {
   "cell_type": "markdown",
   "metadata": {
    "slideshow": {
     "slide_type": "slide"
    },
    "tags": []
   },
   "source": [
    "# Plotly interaction\n",
    "- Here we show some basic ways of bringing Plotly graphs to life."
   ]
  },
  {
   "cell_type": "code",
   "execution_count": null,
   "metadata": {
    "slideshow": {
     "slide_type": "fragment"
    },
    "tags": []
   },
   "outputs": [],
   "source": [
    "# The following renders plotly graphs in Jupyter Notebook, Jupyter Lab and VS Code formats\n",
    "import plotly.io as pio\n",
    "pio.renderers.default = \"notebook+plotly_mimetype\""
   ]
  },
  {
   "cell_type": "markdown",
   "metadata": {
    "slideshow": {
     "slide_type": "fragment"
    },
    "tags": []
   },
   "source": [
    "## Animation\n",
    "- Many plot types can easily be animated.\n",
    "- Parameters _animation\\_frame_ and _animation\\_group_ control what is animated"
   ]
  },
  {
   "cell_type": "code",
   "execution_count": null,
   "metadata": {
    "slideshow": {
     "slide_type": "fragment"
    },
    "tags": []
   },
   "outputs": [],
   "source": [
    "# Gapminder dataset of health and wealth stats for different countries\n",
    "import plotly.express as px\n",
    "df = px.data.gapminder()\n",
    "df.head()"
   ]
  },
  {
   "cell_type": "code",
   "execution_count": null,
   "metadata": {
    "slideshow": {
     "slide_type": "slide"
    },
    "tags": []
   },
   "outputs": [],
   "source": [
    "# Select a single year\n",
    "df_year = px.data.gapminder().query(\"year == 1952\")\n",
    "px.scatter(df_year, x=\"gdpPercap\", y=\"lifeExp\",\n",
    "           size=\"pop\", color=\"continent\", hover_name=\"country\",\n",
    "           log_x=True, size_max=55, range_x=[100,100000], range_y=[25,90])"
   ]
  },
  {
   "cell_type": "code",
   "execution_count": null,
   "metadata": {
    "slideshow": {
     "slide_type": "slide"
    },
    "tags": []
   },
   "outputs": [],
   "source": [
    "# Animate all years\n",
    "px.scatter(df, x=\"gdpPercap\", y=\"lifeExp\", animation_frame=\"year\", animation_group=\"country\",\n",
    "           size=\"pop\", color=\"continent\", hover_name=\"country\",\n",
    "           log_x=True, size_max=55, range_x=[100,100000], range_y=[25,90])"
   ]
  },
  {
   "cell_type": "markdown",
   "metadata": {
    "slideshow": {
     "slide_type": "slide"
    },
    "tags": []
   },
   "source": [
    "## Plotly templates\n",
    "- Themes can easily be changed to one in the default set or be tuned specifically."
   ]
  },
  {
   "cell_type": "code",
   "execution_count": null,
   "metadata": {
    "slideshow": {
     "slide_type": "fragment"
    },
    "tags": []
   },
   "outputs": [],
   "source": [
    "import plotly.io as pio\n",
    "pio.templates"
   ]
  },
  {
   "cell_type": "code",
   "execution_count": null,
   "metadata": {
    "slideshow": {
     "slide_type": "slide"
    },
    "tags": []
   },
   "outputs": [],
   "source": [
    "# https://plotly.com/python/templates/\n",
    "# Animate all years\n",
    "px.scatter(df, x=\"gdpPercap\", y=\"lifeExp\", animation_frame=\"year\", animation_group=\"country\",\n",
    "           size=\"pop\", color=\"continent\", hover_name=\"country\",\n",
    "           log_x=True, size_max=55, range_x=[100,100000], range_y=[25,90], template='plotly_dark')\n",
    "# Play with me!"
   ]
  },
  {
   "cell_type": "markdown",
   "metadata": {
    "slideshow": {
     "slide_type": "slide"
    },
    "tags": []
   },
   "source": [
    "## Plotly callbacks\n",
    "- The following code generates a random scatter.\n",
    "- The callback _update\\_point_ changes markers based on clicking and selection."
   ]
  },
  {
   "cell_type": "code",
   "execution_count": null,
   "metadata": {
    "slideshow": {
     "slide_type": "fragment"
    },
    "tags": []
   },
   "outputs": [],
   "source": [
    "import plotly.graph_objects as go\n",
    "\n",
    "import numpy as np\n",
    "np.random.seed(1)\n",
    "\n",
    "x = np.random.rand(100)\n",
    "y = np.random.rand(100)\n",
    "\n",
    "# Main plot\n",
    "f = go.FigureWidget([go.Scatter(x=x, y=y, mode='markers')])\n",
    "\n",
    "# Attributes of the scatter object\n",
    "scatter = f.data[0]\n",
    "colors = ['#a3a7e4'] * 100\n",
    "scatter.marker.color = colors\n",
    "scatter.marker.size = [10] * 100\n",
    "f.layout.hovermode = 'closest'\n",
    "\n",
    "# Create our callback function\n",
    "def update_point(trace, points, selector):\n",
    "    c = list(scatter.marker.color)\n",
    "    s = list(scatter.marker.size)\n",
    "    for i in points.point_inds:\n",
    "        c[i] = '#bae2be'\n",
    "        s[i] = 20\n",
    "    with f.batch_update():\n",
    "        scatter.marker.color = c\n",
    "        scatter.marker.size = s\n",
    "\n",
    "# Assign the callback function to the scatter object\n",
    "scatter.on_click(update_point)\n",
    "scatter.on_selection(update_point)\n",
    "\n",
    "f # Do not use .show() or the figure will not be interactive"
   ]
  },
  {
   "cell_type": "markdown",
   "metadata": {
    "slideshow": {
     "slide_type": "slide"
    },
    "tags": []
   },
   "source": [
    "### Selection behaviour\n",
    "- The selection in one graph affects a second graph."
   ]
  },
  {
   "cell_type": "code",
   "execution_count": null,
   "metadata": {
    "slideshow": {
     "slide_type": "fragment"
    },
    "tags": []
   },
   "outputs": [],
   "source": [
    "from plotly.subplots import make_subplots\n",
    "import plotly.graph_objects as go\n",
    "import pandas as pd\n",
    "import numpy as np\n",
    "from plotly.graph_objs import FigureWidget\n",
    "\n",
    "# Random data and counting of positive and negative x values\n",
    "np.random.seed(1)\n",
    "x = np.random.randn(100)\n",
    "y = np.random.randn(100)\n",
    "df = pd.DataFrame({'x': x, 'y': y})\n",
    "allU = np.unique(df['x'].values>=0, return_counts=True)\n",
    "# Switch the order of counts if most positive samples are selected\n",
    "if allU[0][0]:\n",
    "    allU[1][0], allU[1][1] = allU[1][1], allU[1][0]\n",
    "\n",
    "# Create figure with subplots\n",
    "fig = make_subplots(rows=1, cols=2, \n",
    "                    specs=[[{\"type\": \"xy\"}, {\"type\": \"domain\"}]])\n",
    "fig.add_trace(\n",
    "    go.Scatter(x=x, y=y, mode='markers'),\n",
    "    row=1, col=1\n",
    ")\n",
    "fig.add_trace(\n",
    "    go.Pie(labels=['negative x', 'positive x'], values = allU[1], \n",
    "           marker_colors=(\"#FF5050\",\"#5050FF\"), sort=False),\n",
    "    row=1, col=2\n",
    ")\n",
    "fig.update_layout(height=500, width=800, title_text=\"Side By Side Subplots\")\n",
    "\n",
    "# Convert Figure to FigureWidget\n",
    "fig_widget = FigureWidget(fig)\n",
    "\n",
    "# Get scatter and pie from FigureWidget\n",
    "scatter2 = fig_widget.data[0]\n",
    "pie = fig_widget.data[1]\n",
    "\n",
    "# Create our callback function\n",
    "def selection_handler(trace, points, selector):\n",
    "    df_selected = pd.DataFrame({'x': points.xs, 'y': points.ys})\n",
    "    sel_log, sel_num = np.unique(df_selected['x'].values>=0, return_counts=True)\n",
    "    # If only positive selections, add a zero count for negative x\n",
    "    if sel_log.shape[0] == 1 and sel_log[0]:\n",
    "        sel_log = np.concatenate([np.array([False]), sel_log])\n",
    "        sel_num = np.concatenate([np.array([0]), sel_num])\n",
    "    # Switch the order of counts if most positive samples are selected\n",
    "    if sel_log[0]:\n",
    "        sel_num[0], sel_num[1] = sel_num[1], sel_num[0]\n",
    "    with fig_widget.batch_update():\n",
    "        pie.values = sel_num\n",
    "    fig_widget.update_traces()\n",
    "\n",
    "scatter2.on_selection(selection_handler)\n",
    "\n",
    "fig_widget # Careful here!"
   ]
  },
  {
   "cell_type": "markdown",
   "metadata": {
    "slideshow": {
     "slide_type": "slide"
    },
    "tags": []
   },
   "source": [
    "## Adding widgets to a Plotly graph\n",
    "- As with the above interactivity, accessing the object to minpulate is important.\n",
    "- Using the _interactive_ function from ipywidgets in combination with a function that sets the properties is convenient."
   ]
  },
  {
   "cell_type": "code",
   "execution_count": null,
   "metadata": {
    "slideshow": {
     "slide_type": "fragment"
    },
    "tags": []
   },
   "outputs": [],
   "source": [
    "import plotly.graph_objects as go\n",
    "from ipywidgets import interactive\n",
    "import numpy as np\n",
    "\n",
    "np.random.seed(1)\n",
    "\n",
    "x = np.random.rand(1000)\n",
    "y = np.random.rand(1000)\n",
    "\n",
    "# Main plot\n",
    "f = go.FigureWidget([go.Scatter(x=x, y=y, mode='markers')])\n",
    "\n",
    "# Attributes of the scatter object\n",
    "scatter = f.data[0]\n",
    "scatter.marker.size = 10\n",
    "\n",
    "# Add ipywidget slider to control the marker size\n",
    "def set_marker_size(size):\n",
    "    scatter.marker.size = size\n",
    "\n",
    "marker_slider = interactive(set_marker_size, size=(1, 20, 1))\n",
    "marker_slider.children[0].layout.width = '400px'\n",
    "display(f, marker_slider)\n"
   ]
  },
  {
   "cell_type": "markdown",
   "metadata": {
    "slideshow": {
     "slide_type": "slide"
    },
    "tags": []
   },
   "source": [
    "```{seealso} \n",
    ":class: tip\n",
    "\n",
    "## Resources\n",
    "- [Plotly click events](https://plotly.com/python/click-events/)\n",
    "- [Plotly and Jupyter widgets](https://plotly.com/python/chart-events/)\n",
    "```"
   ]
  }
 ],
 "metadata": {
  "kernelspec": {
   "display_name": "Python 3 (ipykernel)",
   "language": "python",
   "name": "python3"
  },
  "language_info": {
   "codemirror_mode": {
    "name": "ipython",
    "version": 3
   },
   "file_extension": ".py",
   "mimetype": "text/x-python",
   "name": "python",
   "nbconvert_exporter": "python",
   "pygments_lexer": "ipython3",
   "version": "3.12.4"
  },
  "widgets": {
   "application/vnd.jupyter.widget-state+json": {
    "state": {
     "0c26cc420f2b49c5bb5a1b1c5565770b": {
      "model_module": "@jupyter-widgets/controls",
      "model_module_version": "2.0.0",
      "model_name": "IntSliderModel",
      "state": {
       "_dom_classes": [],
       "_model_module": "@jupyter-widgets/controls",
       "_model_module_version": "2.0.0",
       "_model_name": "IntSliderModel",
       "_view_count": null,
       "_view_module": "@jupyter-widgets/controls",
       "_view_module_version": "2.0.0",
       "_view_name": "IntSliderView",
       "behavior": "drag-tap",
       "continuous_update": true,
       "description": "size",
       "description_allow_html": false,
       "disabled": false,
       "layout": "IPY_MODEL_4afb5f28b9fc4a80957b9d8edf0d30bd",
       "max": 20,
       "min": 1,
       "orientation": "horizontal",
       "readout": true,
       "readout_format": "d",
       "step": 1,
       "style": "IPY_MODEL_800ec2801fb04793a0b333d161be1e90",
       "tabbable": null,
       "tooltip": null,
       "value": 10
      }
     },
     "2176431e182547b690d38b0d7f24743b": {
      "buffers": [
       {
        "data": "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",
        "encoding": "base64",
        "path": [
         "_data",
         0,
         "x",
         "buffer"
        ]
       },
       {
        "data": "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",
        "encoding": "base64",
        "path": [
         "_data",
         0,
         "y",
         "buffer"
        ]
       }
      ],
      "model_module": "jupyterlab-plotly",
      "model_module_version": "^5.23.0",
      "model_name": "FigureModel",
      "state": {
       "_config": {
        "plotlyServerURL": "https://plot.ly"
       },
       "_data": [
        {
         "mode": "markers",
         "type": "scatter",
         "uid": "e2e91829-2f03-4273-a10c-3c7ab86c7cb6",
         "x": {
          "buffer": {},
          "dtype": "float64",
          "shape": [
           1000
          ]
         },
         "y": {
          "buffer": {},
          "dtype": "float64",
          "shape": [
           1000
          ]
         }
        }
       ],
       "_dom_classes": [],
       "_js2py_layoutDelta": {},
       "_js2py_pointsCallback": {},
       "_js2py_relayout": {},
       "_js2py_restyle": {},
       "_js2py_traceDeltas": {},
       "_js2py_update": {},
       "_last_layout_edit_id": 1,
       "_last_trace_edit_id": 1,
       "_layout": {},
       "_model_module": "jupyterlab-plotly",
       "_model_module_version": "^5.23.0",
       "_model_name": "FigureModel",
       "_py2js_addTraces": {},
       "_py2js_animate": {},
       "_py2js_deleteTraces": {},
       "_py2js_moveTraces": {},
       "_py2js_relayout": null,
       "_py2js_removeLayoutProps": {},
       "_py2js_removeTraceProps": {},
       "_py2js_restyle": null,
       "_py2js_update": {},
       "_view_count": 0,
       "_view_module": "jupyterlab-plotly",
       "_view_module_version": "^5.23.0",
       "_view_name": "FigureView",
       "tabbable": null,
       "tooltip": null
      }
     },
     "41831a32cc5849e0871bbd2bfc38b9df": {
      "model_module": "@jupyter-widgets/base",
      "model_module_version": "2.0.0",
      "model_name": "LayoutModel",
      "state": {
       "_model_module": "@jupyter-widgets/base",
       "_model_module_version": "2.0.0",
       "_model_name": "LayoutModel",
       "_view_count": null,
       "_view_module": "@jupyter-widgets/base",
       "_view_module_version": "2.0.0",
       "_view_name": "LayoutView",
       "align_content": null,
       "align_items": null,
       "align_self": null,
       "border_bottom": null,
       "border_left": null,
       "border_right": null,
       "border_top": null,
       "bottom": null,
       "display": null,
       "flex": null,
       "flex_flow": null,
       "grid_area": null,
       "grid_auto_columns": null,
       "grid_auto_flow": null,
       "grid_auto_rows": null,
       "grid_column": null,
       "grid_gap": null,
       "grid_row": null,
       "grid_template_areas": null,
       "grid_template_columns": null,
       "grid_template_rows": null,
       "height": null,
       "justify_content": null,
       "justify_items": null,
       "left": null,
       "margin": null,
       "max_height": null,
       "max_width": null,
       "min_height": null,
       "min_width": null,
       "object_fit": null,
       "object_position": null,
       "order": null,
       "overflow": null,
       "padding": null,
       "right": null,
       "top": null,
       "visibility": null,
       "width": null
      }
     },
     "459147c7e3cc49178043a137725d50ff": {
      "model_module": "@jupyter-widgets/output",
      "model_module_version": "1.0.0",
      "model_name": "OutputModel",
      "state": {
       "_dom_classes": [],
       "_model_module": "@jupyter-widgets/output",
       "_model_module_version": "1.0.0",
       "_model_name": "OutputModel",
       "_view_count": null,
       "_view_module": "@jupyter-widgets/output",
       "_view_module_version": "1.0.0",
       "_view_name": "OutputView",
       "layout": "IPY_MODEL_41831a32cc5849e0871bbd2bfc38b9df",
       "msg_id": "",
       "outputs": [],
       "tabbable": null,
       "tooltip": null
      }
     },
     "4afb5f28b9fc4a80957b9d8edf0d30bd": {
      "model_module": "@jupyter-widgets/base",
      "model_module_version": "2.0.0",
      "model_name": "LayoutModel",
      "state": {
       "_model_module": "@jupyter-widgets/base",
       "_model_module_version": "2.0.0",
       "_model_name": "LayoutModel",
       "_view_count": null,
       "_view_module": "@jupyter-widgets/base",
       "_view_module_version": "2.0.0",
       "_view_name": "LayoutView",
       "align_content": null,
       "align_items": null,
       "align_self": null,
       "border_bottom": null,
       "border_left": null,
       "border_right": null,
       "border_top": null,
       "bottom": null,
       "display": null,
       "flex": null,
       "flex_flow": null,
       "grid_area": null,
       "grid_auto_columns": null,
       "grid_auto_flow": null,
       "grid_auto_rows": null,
       "grid_column": null,
       "grid_gap": null,
       "grid_row": null,
       "grid_template_areas": null,
       "grid_template_columns": null,
       "grid_template_rows": null,
       "height": null,
       "justify_content": null,
       "justify_items": null,
       "left": null,
       "margin": null,
       "max_height": null,
       "max_width": null,
       "min_height": null,
       "min_width": null,
       "object_fit": null,
       "object_position": null,
       "order": null,
       "overflow": null,
       "padding": null,
       "right": null,
       "top": null,
       "visibility": null,
       "width": "400px"
      }
     },
     "4dc7d86a1383416f8d2fcb6389690c2e": {
      "buffers": [
       {
        "data": "Bjz6D32w2j9R8Lrz5QznPwDAYWaQ+x0/9Aj+t2pZ0z88Bcej5cjCPxDKsIyAo7c/5OE05l/Xxz/Oo1u9qh3WP+j7e2ejZNk/VJ9il/w94T+KlYE6FdTaPycjGXJR7eU/DGIYx30ryj9KFuu8iRnsP8CsZ0R+C5w/qeWnR3h05T/+WqgzH7XaPwsJuX3J4OE/3KoG/zL4wT9ESHS8Y1vJP18n3RKzn+k/EAY2s//77j9YDr5IJA/UP5SWEsKBJ+Y/3sd1Q2EL7D/jC1EnnqDsP1gcjBp1xbU/kKZ5Ef3+oz/8qPLQAL3FP+eerk6+Gew/iGT6EkItuT8ujF9lbfPaP7irpfEHp+4/yErKpLAP4T+slCh52yPmP+API3loMdQ/MB0iy9D35T+VcKblQLXqP6C5X4QpupI/twF/pi4B6D+xfaQCwKTvP8CoMRn58Oc/9q6RW8vy0T+edOO4xkHpP9D/WAIFbbo/IADBm0mq3D/7emLgNhPtPyIaOv+SytI/arf0QOlq0j8IlGW4xqTAP4AotIru1JM/st2qSwW55T9QMpFOoRbLP3g1ZGq3/tA/NNSsRO913z8Q5zfkVVKrPz+sdOIrX+I/VPhNfwDIwj8SPgtJl9viP06P7KRrZOY/kAIS0ZYyuj8qeZmv5H/aP53k+K2GOOY/XCZTxOmB2j8wtf3wf5OpPxxvLjgQJuE/R1OPRM495T/Yayu7+HngPz+EHsgeOu4/C1KIEw/F4j9hxCkiq+jsP0TtKmfFmME/QDBGrs7TwT94pYJBJtbpP5qxToyJc9k/8NBvilMqxT9o7nF5Jq7tP+5skbzLQdY/ASWNGqcG6D+wWIEgYDvnP/3EwiILROw/nkuXah/14z8Cb2ptuAfoP+4ZG7ZZVNY/TC3aon9G0T/z2gKTGavsP/D8DJfYZds/AvMLPPjf7j9NEP6p6TrlPyKQS2zu5OM/2LQu+f1fvT/dmkFMN2LuP/Ss10Jcy9w/53DE7yqC4j9O1gnT6R7aP6zrNGzmVs4//xwWK3zo7D/YlzQVlVviPwDuSBeDg2c/opmcsKa/4z8=",
        "encoding": "base64",
        "path": [
         "_data",
         0,
         "x",
         "buffer"
        ]
       },
       {
        "data": "0gqhBMDn1D9kOQn0qN3gPz4P1j6jWew/Ut/D+4Hd1j9a8Q5PuBLtPzCc3umQ8uM/QKBuonEzkD84p1Mn873tP4aONNrTG+Y/ccNHnBHq7z/8QY/3QA/GP1xd4guqjcE/IpDEcNLX7T95dNuZVUzmP9AhXydj5bA/CnII2sAs6D/uktX0wB/oP898MsBqie0/h1ATks/E5j/gTYPFONC/P8BkujJ1W5Q/YCW+jQ3Xmj+AdkFBYPycP4xYoiHYg88/paUnVVmF6z8XUu2kGj7hP1fk3re3sOE/nf8cxerx6j/w1XmH0sm/P/CBuzgl3tE/jb9HOoq+4j/v9Kup7QbvP+areKX18+E/ADgQaEYYkz/YtihpyJ7pP5xvetsZ0s0/qqhzRs7T6T+yT2pztdLYP/zqAYcious/gxS2pWvo5z/gqbZRuMzhP1BcymVdd8E/MEzQCYitrj+Qdv1dXRC/P5B1pvqAz6Y/wM0FObyEuz+8e9wpC+TMPwndJETO0OY/DQeeljPp4T/AlDgh87aJP4hkawnobLI/bHlxfe3z7j+UPBkF4S3iPxz6LkGDBco/rpM34Rom0D9Tf6Xga83nP4z2BE/VA8k/hgp8CX6a4j/wNzNcZwrvPw299rY4Ges/7GTH1FSzzj+ChqJJ7JnfP5xR7V+t1uM/J3SS8wKH6j/sSiaMvRHEPyDrV9OjBZM/UBZFofjssT+c0YI+RyDfP/jfDAsNZ+M/kTXS7Qc04j84LkFsqk/UP8v1b1i+ou8/m4mV2EWN4j/U/xGkO1TYP23T3CheoeE/N3Cql8fZ5z+CPtkZW2rlPyTiDilx9NA/0Kp02FH7sD+4rbOhda/XP2cKTFSlJuQ/VNaGYfvmyj8zGabQkhboP4AmaOuICLE/vDDDqACp0D+Js5KkjMDpP9Bt5V50wsg/F2xOqnZ25D/0y1tjGcrgP0lAfuIGmO0/oJyYstrZ0D8Q30t30+KwP0VIFw6phec/tH7ysq616D84YKnU0wztPzWMvxa30u0/gHlDbaSSjD/MK6irk//NP8h8BvelvOM/aSeXeVde7j8=",
        "encoding": "base64",
        "path": [
         "_data",
         0,
         "y",
         "buffer"
        ]
       }
      ],
      "model_module": "jupyterlab-plotly",
      "model_module_version": "^5.23.0",
      "model_name": "FigureModel",
      "state": {
       "_config": {
        "plotlyServerURL": "https://plot.ly"
       },
       "_data": [
        {
         "mode": "markers",
         "type": "scatter",
         "uid": "697598a5-1737-4874-b152-f960a9d23489",
         "x": {
          "buffer": {},
          "dtype": "float64",
          "shape": [
           100
          ]
         },
         "y": {
          "buffer": {},
          "dtype": "float64",
          "shape": [
           100
          ]
         }
        }
       ],
       "_dom_classes": [],
       "_js2py_layoutDelta": {},
       "_js2py_pointsCallback": {},
       "_js2py_relayout": {},
       "_js2py_restyle": {},
       "_js2py_traceDeltas": {},
       "_js2py_update": {},
       "_last_layout_edit_id": 3,
       "_last_trace_edit_id": 2,
       "_layout": {},
       "_model_module": "jupyterlab-plotly",
       "_model_module_version": "^5.23.0",
       "_model_name": "FigureModel",
       "_py2js_addTraces": {},
       "_py2js_animate": {},
       "_py2js_deleteTraces": {},
       "_py2js_moveTraces": {},
       "_py2js_relayout": null,
       "_py2js_removeLayoutProps": {},
       "_py2js_removeTraceProps": {},
       "_py2js_restyle": null,
       "_py2js_update": {},
       "_view_count": 0,
       "_view_module": "jupyterlab-plotly",
       "_view_module_version": "^5.23.0",
       "_view_name": "FigureView",
       "tabbable": null,
       "tooltip": null
      }
     },
     "800ec2801fb04793a0b333d161be1e90": {
      "model_module": "@jupyter-widgets/controls",
      "model_module_version": "2.0.0",
      "model_name": "SliderStyleModel",
      "state": {
       "_model_module": "@jupyter-widgets/controls",
       "_model_module_version": "2.0.0",
       "_model_name": "SliderStyleModel",
       "_view_count": null,
       "_view_module": "@jupyter-widgets/base",
       "_view_module_version": "2.0.0",
       "_view_name": "StyleView",
       "description_width": "",
       "handle_color": null
      }
     },
     "c67eb05b12ab445e819a0ec5ab63678b": {
      "model_module": "@jupyter-widgets/controls",
      "model_module_version": "2.0.0",
      "model_name": "VBoxModel",
      "state": {
       "_dom_classes": [
        "widget-interact"
       ],
       "_model_module": "@jupyter-widgets/controls",
       "_model_module_version": "2.0.0",
       "_model_name": "VBoxModel",
       "_view_count": null,
       "_view_module": "@jupyter-widgets/controls",
       "_view_module_version": "2.0.0",
       "_view_name": "VBoxView",
       "box_style": "",
       "children": [
        "IPY_MODEL_0c26cc420f2b49c5bb5a1b1c5565770b",
        "IPY_MODEL_459147c7e3cc49178043a137725d50ff"
       ],
       "layout": "IPY_MODEL_ef10961292604893b77e7545a97e36f8",
       "tabbable": null,
       "tooltip": null
      }
     },
     "d23fa19ab5fa4b46b9fd14cae7ce10b5": {
      "buffers": [
       {
        "data": "UHxlkFH9+T+t2bcvgpPjv9KPVHLI5uC/DLhcJeEq8b99ETVXa7HrP1mizB6NaQLABcaPvb/q+z/2rxqTzlvovyR77fQia9Q/xiOiU17rz792SM1Ky2T3P/SaYw0rewDANvi5xHui1L+U+0u3WJTYv8uOQG3rI/I/7FDklSeZ8b+IIyukIBLGv+6yb4lqF+y/DJIrSwqdpT+iqVAXbKbiP8att9oinPG/kngLz8lQ8j8WV2rI1NnsP/tGAAJvFOA/B+0P28/T7D9DklA/GeHlv8LEmdu7db+/5KaXvdLx7b/M2D4LFCXRv4CmHAes+OA/hsiSuhUi5r830prnaGTZv1v3NppR/eW/5TaUs+wL679zV3Aq2Xrlv3qcY7Hl74m/HO/t0IDg8b8Yj+VlVQHOP49DSLqMjvo/+sE7ZdO+5z+yNs0/EY7Iv2BBd9t0Z+y/UAqTgrjo57/5D5ZGSxT7P/PeSlp5A6o/QLa2sURi5L9NL3kp62/IPw52o5BSzQBAY+86s7zCvj8J2mW8IMDjPy0r3JL9NdM/1Hut8EKL1r9pcHkpwUfyv3f49pOhW9a/AXZV1gu9yr95fKb/ncXiPx5Hj77z2Oo/RPaNl5bL7T9CoIcPEEfSP0RbHJATU+w/9gKYJgck6L9E1I56vwv0PwDVeszraeA/lAl8+PMT07+0Y7id4UPfPwqa7fOqWLO/Bb6kaicb8j9cGydwK1H4P8EDcPUOfAFAgHyeigxY9r/oWuATFxv3v6u16ZeVJOC/3Iq2PRh8xD/A575nkwnsP/4m+OtcM9Q/DCq/1HctAMAYJAm32JjTvwtLfa3Efuo/MJevib5zzT9VDFRFZWLoPyT3vqI/dcy/pzE7vnCyyb91135gPuHHP4WLm0NJPto/Dw5gnuJhyT8uLa/BWXe+Pwa0SMEQduW/+b6ZTAEq2D85id3GrS+/P4Vw3bddEvI/HETMg8Qu8z/MeN6aNLPHP6Za1CqrBNi/okBfwHpw5L+fvi8QiBrbP047OgiPzLM/fvrL2LIB1r/sep/EU1KmP9j8hwIM1+O/NdG8RkdW5j8=",
        "encoding": "base64",
        "path": [
         "_data",
         0,
         "x",
         "buffer"
        ]
       },
       {
        "data": "+T+3IMGd3L8qbx1klZfzP3LabJvO0tk/YCgdY5j+4j9SX5dIwoTxv21/QNVSrsU/QJxJcaOy5z9gGd4ft4Tuv8oIOFi5CdG/aPvXltqyoD/ffgDeSfj1vyVUdkySK9Q/3EaRfr8T6z8ecwiTJ4Hrv2/ThmZYb9Y/xZHl4xz/9L9seZnV5c+jv3u00xw02vm/bHDgsVPx8T/UWXApbSvaP9Z3p/EvNZm/M0VuvR/O6L9a4/HlTWH0P3JBD68/ef8/LMIFMUu6/b8klTTvU8fzP2JZIYTbCvo/efucz/uh1T9MSSCtMzDzv6wzAFyGoOs/INZNfmUox7/7DjhaUVPjv7DkjXBRrvO/AxGOzwCe4T8SXyWBrF7pP7bSgLf28+O/tabZtI+o4D/dP77qOE/yvytgenfYqOk/Ee2WP6vXpz+z0mGuhOHHv4YCBHsEDLq/wjGJV+rN6z8LQXhFXwPoP9i/jkNh8eA/s3nHeDGgwT/hqVLfFeyzP4HROGfFyeM/vdYVuGHCzT/OS0oMdtflP+7eDAb02NO/VT+/OIx6A8AxQ7SLBp/wPy8tZi/vfgFAkqKvplA/3D9r03n7xaO5v6lNX3gFd8G/rtTx0lV6vr9iOCqdxdORP2R6F+nJ8/G/Lro2rQmM4L+gwj/OpOfvv7lit6Km2M8/sCgFLCv80r9iB0bWirHfPzwLzVKsXMa/k8LSzw6Q7z9/WGkxFFXLP6E/WpSNhgFAhqwTjX5X/r+eU2mgirPkv9PsrAn72Ow/3vQC1AI6BEAg03evQ9PPv73RGUPIW6Y/Y4Mbd933zL/bcSn5pU31PzDXYIVAY9K/obco0yHD5T+CnB4goXfUv/pRwJFmXPS/9gxIdSoR1D8GjrEJFxrgP58RfZ8NsfQ/UR9nnkFGvL/q8C0WbsHjv/USLo8jAuI/XS8MGXnQzj9Tv9enavbRPxpGhJ+Dt7K/A5ImLb+Q8j93aTzHxKXXP53b5Wh7ef4/BhuFY+PG8T+o8hWZ7xblP9tAE8n8Cfq/6NZTFTNG4z/RUPBT5+XaPwx9KuxQ8+k/p1X16Qi28D8=",
        "encoding": "base64",
        "path": [
         "_data",
         0,
         "y",
         "buffer"
        ]
       }
      ],
      "model_module": "jupyterlab-plotly",
      "model_module_version": "^5.23.0",
      "model_name": "FigureModel",
      "state": {
       "_config": {
        "plotlyServerURL": "https://plot.ly"
       },
       "_data": [
        {
         "mode": "markers",
         "type": "scatter",
         "uid": "e2901889-0e41-4f6f-9180-a8759128b8aa",
         "x": {
          "buffer": {},
          "dtype": "float64",
          "shape": [
           100
          ]
         },
         "xaxis": "x",
         "y": {
          "buffer": {},
          "dtype": "float64",
          "shape": [
           100
          ]
         },
         "yaxis": "y"
        },
        {
         "domain": {
          "x": [
           0.55,
           1
          ],
          "y": [
           0,
           1
          ]
         },
         "labels": [
          "negative x",
          "positive x"
         ],
         "marker": {
          "colors": [
           "#FF5050",
           "#5050FF"
          ]
         },
         "sort": false,
         "type": "pie",
         "uid": "7afc7d32-b526-4234-9f08-ae15b2da9bc4",
         "values": [
          47,
          53
         ]
        }
       ],
       "_dom_classes": [],
       "_js2py_layoutDelta": {},
       "_js2py_pointsCallback": {},
       "_js2py_relayout": {},
       "_js2py_restyle": {},
       "_js2py_traceDeltas": {},
       "_js2py_update": {},
       "_last_layout_edit_id": 0,
       "_last_trace_edit_id": 0,
       "_layout": {
        "height": 500,
        "template": {
         "data": {
          "bar": [
           {
            "error_x": {
             "color": "#2a3f5f"
            },
            "error_y": {
             "color": "#2a3f5f"
            },
            "marker": {
             "line": {
              "color": "#E5ECF6",
              "width": 0.5
             },
             "pattern": {
              "fillmode": "overlay",
              "size": 10,
              "solidity": 0.2
             }
            },
            "type": "bar"
           }
          ],
          "barpolar": [
           {
            "marker": {
             "line": {
              "color": "#E5ECF6",
              "width": 0.5
             },
             "pattern": {
              "fillmode": "overlay",
              "size": 10,
              "solidity": 0.2
             }
            },
            "type": "barpolar"
           }
          ],
          "carpet": [
           {
            "aaxis": {
             "endlinecolor": "#2a3f5f",
             "gridcolor": "white",
             "linecolor": "white",
             "minorgridcolor": "white",
             "startlinecolor": "#2a3f5f"
            },
            "baxis": {
             "endlinecolor": "#2a3f5f",
             "gridcolor": "white",
             "linecolor": "white",
             "minorgridcolor": "white",
             "startlinecolor": "#2a3f5f"
            },
            "type": "carpet"
           }
          ],
          "choropleth": [
           {
            "colorbar": {
             "outlinewidth": 0,
             "ticks": ""
            },
            "type": "choropleth"
           }
          ],
          "contour": [
           {
            "colorbar": {
             "outlinewidth": 0,
             "ticks": ""
            },
            "colorscale": [
             [
              0,
              "#0d0887"
             ],
             [
              0.1111111111111111,
              "#46039f"
             ],
             [
              0.2222222222222222,
              "#7201a8"
             ],
             [
              0.3333333333333333,
              "#9c179e"
             ],
             [
              0.4444444444444444,
              "#bd3786"
             ],
             [
              0.5555555555555556,
              "#d8576b"
             ],
             [
              0.6666666666666666,
              "#ed7953"
             ],
             [
              0.7777777777777778,
              "#fb9f3a"
             ],
             [
              0.8888888888888888,
              "#fdca26"
             ],
             [
              1,
              "#f0f921"
             ]
            ],
            "type": "contour"
           }
          ],
          "contourcarpet": [
           {
            "colorbar": {
             "outlinewidth": 0,
             "ticks": ""
            },
            "type": "contourcarpet"
           }
          ],
          "heatmap": [
           {
            "colorbar": {
             "outlinewidth": 0,
             "ticks": ""
            },
            "colorscale": [
             [
              0,
              "#0d0887"
             ],
             [
              0.1111111111111111,
              "#46039f"
             ],
             [
              0.2222222222222222,
              "#7201a8"
             ],
             [
              0.3333333333333333,
              "#9c179e"
             ],
             [
              0.4444444444444444,
              "#bd3786"
             ],
             [
              0.5555555555555556,
              "#d8576b"
             ],
             [
              0.6666666666666666,
              "#ed7953"
             ],
             [
              0.7777777777777778,
              "#fb9f3a"
             ],
             [
              0.8888888888888888,
              "#fdca26"
             ],
             [
              1,
              "#f0f921"
             ]
            ],
            "type": "heatmap"
           }
          ],
          "heatmapgl": [
           {
            "colorbar": {
             "outlinewidth": 0,
             "ticks": ""
            },
            "colorscale": [
             [
              0,
              "#0d0887"
             ],
             [
              0.1111111111111111,
              "#46039f"
             ],
             [
              0.2222222222222222,
              "#7201a8"
             ],
             [
              0.3333333333333333,
              "#9c179e"
             ],
             [
              0.4444444444444444,
              "#bd3786"
             ],
             [
              0.5555555555555556,
              "#d8576b"
             ],
             [
              0.6666666666666666,
              "#ed7953"
             ],
             [
              0.7777777777777778,
              "#fb9f3a"
             ],
             [
              0.8888888888888888,
              "#fdca26"
             ],
             [
              1,
              "#f0f921"
             ]
            ],
            "type": "heatmapgl"
           }
          ],
          "histogram": [
           {
            "marker": {
             "pattern": {
              "fillmode": "overlay",
              "size": 10,
              "solidity": 0.2
             }
            },
            "type": "histogram"
           }
          ],
          "histogram2d": [
           {
            "colorbar": {
             "outlinewidth": 0,
             "ticks": ""
            },
            "colorscale": [
             [
              0,
              "#0d0887"
             ],
             [
              0.1111111111111111,
              "#46039f"
             ],
             [
              0.2222222222222222,
              "#7201a8"
             ],
             [
              0.3333333333333333,
              "#9c179e"
             ],
             [
              0.4444444444444444,
              "#bd3786"
             ],
             [
              0.5555555555555556,
              "#d8576b"
             ],
             [
              0.6666666666666666,
              "#ed7953"
             ],
             [
              0.7777777777777778,
              "#fb9f3a"
             ],
             [
              0.8888888888888888,
              "#fdca26"
             ],
             [
              1,
              "#f0f921"
             ]
            ],
            "type": "histogram2d"
           }
          ],
          "histogram2dcontour": [
           {
            "colorbar": {
             "outlinewidth": 0,
             "ticks": ""
            },
            "colorscale": [
             [
              0,
              "#0d0887"
             ],
             [
              0.1111111111111111,
              "#46039f"
             ],
             [
              0.2222222222222222,
              "#7201a8"
             ],
             [
              0.3333333333333333,
              "#9c179e"
             ],
             [
              0.4444444444444444,
              "#bd3786"
             ],
             [
              0.5555555555555556,
              "#d8576b"
             ],
             [
              0.6666666666666666,
              "#ed7953"
             ],
             [
              0.7777777777777778,
              "#fb9f3a"
             ],
             [
              0.8888888888888888,
              "#fdca26"
             ],
             [
              1,
              "#f0f921"
             ]
            ],
            "type": "histogram2dcontour"
           }
          ],
          "mesh3d": [
           {
            "colorbar": {
             "outlinewidth": 0,
             "ticks": ""
            },
            "type": "mesh3d"
           }
          ],
          "parcoords": [
           {
            "line": {
             "colorbar": {
              "outlinewidth": 0,
              "ticks": ""
             }
            },
            "type": "parcoords"
           }
          ],
          "pie": [
           {
            "automargin": true,
            "type": "pie"
           }
          ],
          "scatter": [
           {
            "fillpattern": {
             "fillmode": "overlay",
             "size": 10,
             "solidity": 0.2
            },
            "type": "scatter"
           }
          ],
          "scatter3d": [
           {
            "line": {
             "colorbar": {
              "outlinewidth": 0,
              "ticks": ""
             }
            },
            "marker": {
             "colorbar": {
              "outlinewidth": 0,
              "ticks": ""
             }
            },
            "type": "scatter3d"
           }
          ],
          "scattercarpet": [
           {
            "marker": {
             "colorbar": {
              "outlinewidth": 0,
              "ticks": ""
             }
            },
            "type": "scattercarpet"
           }
          ],
          "scattergeo": [
           {
            "marker": {
             "colorbar": {
              "outlinewidth": 0,
              "ticks": ""
             }
            },
            "type": "scattergeo"
           }
          ],
          "scattergl": [
           {
            "marker": {
             "colorbar": {
              "outlinewidth": 0,
              "ticks": ""
             }
            },
            "type": "scattergl"
           }
          ],
          "scattermapbox": [
           {
            "marker": {
             "colorbar": {
              "outlinewidth": 0,
              "ticks": ""
             }
            },
            "type": "scattermapbox"
           }
          ],
          "scatterpolar": [
           {
            "marker": {
             "colorbar": {
              "outlinewidth": 0,
              "ticks": ""
             }
            },
            "type": "scatterpolar"
           }
          ],
          "scatterpolargl": [
           {
            "marker": {
             "colorbar": {
              "outlinewidth": 0,
              "ticks": ""
             }
            },
            "type": "scatterpolargl"
           }
          ],
          "scatterternary": [
           {
            "marker": {
             "colorbar": {
              "outlinewidth": 0,
              "ticks": ""
             }
            },
            "type": "scatterternary"
           }
          ],
          "surface": [
           {
            "colorbar": {
             "outlinewidth": 0,
             "ticks": ""
            },
            "colorscale": [
             [
              0,
              "#0d0887"
             ],
             [
              0.1111111111111111,
              "#46039f"
             ],
             [
              0.2222222222222222,
              "#7201a8"
             ],
             [
              0.3333333333333333,
              "#9c179e"
             ],
             [
              0.4444444444444444,
              "#bd3786"
             ],
             [
              0.5555555555555556,
              "#d8576b"
             ],
             [
              0.6666666666666666,
              "#ed7953"
             ],
             [
              0.7777777777777778,
              "#fb9f3a"
             ],
             [
              0.8888888888888888,
              "#fdca26"
             ],
             [
              1,
              "#f0f921"
             ]
            ],
            "type": "surface"
           }
          ],
          "table": [
           {
            "cells": {
             "fill": {
              "color": "#EBF0F8"
             },
             "line": {
              "color": "white"
             }
            },
            "header": {
             "fill": {
              "color": "#C8D4E3"
             },
             "line": {
              "color": "white"
             }
            },
            "type": "table"
           }
          ]
         },
         "layout": {
          "annotationdefaults": {
           "arrowcolor": "#2a3f5f",
           "arrowhead": 0,
           "arrowwidth": 1
          },
          "autotypenumbers": "strict",
          "coloraxis": {
           "colorbar": {
            "outlinewidth": 0,
            "ticks": ""
           }
          },
          "colorscale": {
           "diverging": [
            [
             0,
             "#8e0152"
            ],
            [
             0.1,
             "#c51b7d"
            ],
            [
             0.2,
             "#de77ae"
            ],
            [
             0.3,
             "#f1b6da"
            ],
            [
             0.4,
             "#fde0ef"
            ],
            [
             0.5,
             "#f7f7f7"
            ],
            [
             0.6,
             "#e6f5d0"
            ],
            [
             0.7,
             "#b8e186"
            ],
            [
             0.8,
             "#7fbc41"
            ],
            [
             0.9,
             "#4d9221"
            ],
            [
             1,
             "#276419"
            ]
           ],
           "sequential": [
            [
             0,
             "#0d0887"
            ],
            [
             0.1111111111111111,
             "#46039f"
            ],
            [
             0.2222222222222222,
             "#7201a8"
            ],
            [
             0.3333333333333333,
             "#9c179e"
            ],
            [
             0.4444444444444444,
             "#bd3786"
            ],
            [
             0.5555555555555556,
             "#d8576b"
            ],
            [
             0.6666666666666666,
             "#ed7953"
            ],
            [
             0.7777777777777778,
             "#fb9f3a"
            ],
            [
             0.8888888888888888,
             "#fdca26"
            ],
            [
             1,
             "#f0f921"
            ]
           ],
           "sequentialminus": [
            [
             0,
             "#0d0887"
            ],
            [
             0.1111111111111111,
             "#46039f"
            ],
            [
             0.2222222222222222,
             "#7201a8"
            ],
            [
             0.3333333333333333,
             "#9c179e"
            ],
            [
             0.4444444444444444,
             "#bd3786"
            ],
            [
             0.5555555555555556,
             "#d8576b"
            ],
            [
             0.6666666666666666,
             "#ed7953"
            ],
            [
             0.7777777777777778,
             "#fb9f3a"
            ],
            [
             0.8888888888888888,
             "#fdca26"
            ],
            [
             1,
             "#f0f921"
            ]
           ]
          },
          "colorway": [
           "#636efa",
           "#EF553B",
           "#00cc96",
           "#ab63fa",
           "#FFA15A",
           "#19d3f3",
           "#FF6692",
           "#B6E880",
           "#FF97FF",
           "#FECB52"
          ],
          "font": {
           "color": "#2a3f5f"
          },
          "geo": {
           "bgcolor": "white",
           "lakecolor": "white",
           "landcolor": "#E5ECF6",
           "showlakes": true,
           "showland": true,
           "subunitcolor": "white"
          },
          "hoverlabel": {
           "align": "left"
          },
          "hovermode": "closest",
          "mapbox": {
           "style": "light"
          },
          "paper_bgcolor": "white",
          "plot_bgcolor": "#E5ECF6",
          "polar": {
           "angularaxis": {
            "gridcolor": "white",
            "linecolor": "white",
            "ticks": ""
           },
           "bgcolor": "#E5ECF6",
           "radialaxis": {
            "gridcolor": "white",
            "linecolor": "white",
            "ticks": ""
           }
          },
          "scene": {
           "xaxis": {
            "backgroundcolor": "#E5ECF6",
            "gridcolor": "white",
            "gridwidth": 2,
            "linecolor": "white",
            "showbackground": true,
            "ticks": "",
            "zerolinecolor": "white"
           },
           "yaxis": {
            "backgroundcolor": "#E5ECF6",
            "gridcolor": "white",
            "gridwidth": 2,
            "linecolor": "white",
            "showbackground": true,
            "ticks": "",
            "zerolinecolor": "white"
           },
           "zaxis": {
            "backgroundcolor": "#E5ECF6",
            "gridcolor": "white",
            "gridwidth": 2,
            "linecolor": "white",
            "showbackground": true,
            "ticks": "",
            "zerolinecolor": "white"
           }
          },
          "shapedefaults": {
           "line": {
            "color": "#2a3f5f"
           }
          },
          "ternary": {
           "aaxis": {
            "gridcolor": "white",
            "linecolor": "white",
            "ticks": ""
           },
           "baxis": {
            "gridcolor": "white",
            "linecolor": "white",
            "ticks": ""
           },
           "bgcolor": "#E5ECF6",
           "caxis": {
            "gridcolor": "white",
            "linecolor": "white",
            "ticks": ""
           }
          },
          "title": {
           "x": 0.05
          },
          "xaxis": {
           "automargin": true,
           "gridcolor": "white",
           "linecolor": "white",
           "ticks": "",
           "title": {
            "standoff": 15
           },
           "zerolinecolor": "white",
           "zerolinewidth": 2
          },
          "yaxis": {
           "automargin": true,
           "gridcolor": "white",
           "linecolor": "white",
           "ticks": "",
           "title": {
            "standoff": 15
           },
           "zerolinecolor": "white",
           "zerolinewidth": 2
          }
         }
        },
        "title": {
         "text": "Side By Side Subplots"
        },
        "width": 800,
        "xaxis": {
         "anchor": "y",
         "domain": [
          0,
          0.45
         ]
        },
        "yaxis": {
         "anchor": "x",
         "domain": [
          0,
          1
         ]
        }
       },
       "_model_module": "jupyterlab-plotly",
       "_model_module_version": "^5.23.0",
       "_model_name": "FigureModel",
       "_py2js_addTraces": {},
       "_py2js_animate": {},
       "_py2js_deleteTraces": {},
       "_py2js_moveTraces": {},
       "_py2js_relayout": {},
       "_py2js_removeLayoutProps": {},
       "_py2js_removeTraceProps": {},
       "_py2js_restyle": {},
       "_py2js_update": {},
       "_view_count": 0,
       "_view_module": "jupyterlab-plotly",
       "_view_module_version": "^5.23.0",
       "_view_name": "FigureView",
       "tabbable": null,
       "tooltip": null
      }
     },
     "ef10961292604893b77e7545a97e36f8": {
      "model_module": "@jupyter-widgets/base",
      "model_module_version": "2.0.0",
      "model_name": "LayoutModel",
      "state": {
       "_model_module": "@jupyter-widgets/base",
       "_model_module_version": "2.0.0",
       "_model_name": "LayoutModel",
       "_view_count": null,
       "_view_module": "@jupyter-widgets/base",
       "_view_module_version": "2.0.0",
       "_view_name": "LayoutView",
       "align_content": null,
       "align_items": null,
       "align_self": null,
       "border_bottom": null,
       "border_left": null,
       "border_right": null,
       "border_top": null,
       "bottom": null,
       "display": null,
       "flex": null,
       "flex_flow": null,
       "grid_area": null,
       "grid_auto_columns": null,
       "grid_auto_flow": null,
       "grid_auto_rows": null,
       "grid_column": null,
       "grid_gap": null,
       "grid_row": null,
       "grid_template_areas": null,
       "grid_template_columns": null,
       "grid_template_rows": null,
       "height": null,
       "justify_content": null,
       "justify_items": null,
       "left": null,
       "margin": null,
       "max_height": null,
       "max_width": null,
       "min_height": null,
       "min_width": null,
       "object_fit": null,
       "object_position": null,
       "order": null,
       "overflow": null,
       "padding": null,
       "right": null,
       "top": null,
       "visibility": null,
       "width": null
      }
     }
    },
    "version_major": 2,
    "version_minor": 0
   }
  }
 },
 "nbformat": 4,
 "nbformat_minor": 4
}
