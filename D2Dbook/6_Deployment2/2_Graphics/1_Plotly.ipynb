{
 "cells": [
  {
   "cell_type": "markdown",
   "metadata": {
    "slideshow": {
     "slide_type": "slide"
    },
    "tags": []
   },
   "source": [
    "# Plotly graphics\n",
    "- One of the major players in interactive graphs is [Plotly](https://plotly.com/python/).\n",
    "- Some alternatives are Bokeh and Altair.\n",
    "- Interfacing it comes in two main flavours:\n",
    "    - _graph_objects_: low-level graphics handling\n",
    "    - _plotly.express_: high-level graphics handling\n",
    "- In addition _plotly_ is integrated in the _dash_ environment with its dialect.\n",
    "- Figures are dictionaries, which we will leverage."
   ]
  },
  {
   "cell_type": "code",
   "execution_count": null,
   "metadata": {
    "slideshow": {
     "slide_type": "fragment"
    },
    "tags": []
   },
   "outputs": [],
   "source": [
    "# The following renders plotly graphs in Jupyter Notebook, Jupyter Lab and VS Code formats\n",
    "import plotly.io as pio\n",
    "pio.renderers.default = \"notebook+plotly_mimetype\""
   ]
  },
  {
   "cell_type": "markdown",
   "metadata": {
    "slideshow": {
     "slide_type": "slide"
    },
    "tags": []
   },
   "source": [
    "## Plotting with AI assistance\n",
    "- Many plot commands can be obtained by describing plots to AIs.\n",
    "- AIs can also translate from one plotting framework to another.\n",
    "- Sketching a set of plot and adding sufficient descriptions, may result in usable code."
   ]
  },
  {
   "cell_type": "markdown",
   "metadata": {
    "slideshow": {
     "slide_type": "slide"
    },
    "tags": []
   },
   "source": [
    "## Basic plotting"
   ]
  },
  {
   "cell_type": "code",
   "execution_count": null,
   "metadata": {
    "slideshow": {
     "slide_type": "fragment"
    },
    "tags": []
   },
   "outputs": [],
   "source": [
    "# Gapminder dataset of health and wealth stats for different countries\n",
    "import plotly.express as px\n",
    "df = px.data.gapminder()\n",
    "df.head()"
   ]
  },
  {
   "cell_type": "markdown",
   "metadata": {
    "slideshow": {
     "slide_type": "slide"
    },
    "tags": []
   },
   "source": [
    "### Line plot"
   ]
  },
  {
   "cell_type": "code",
   "execution_count": null,
   "metadata": {
    "slideshow": {
     "slide_type": "fragment"
    },
    "tags": []
   },
   "outputs": [],
   "source": [
    "# Create a line plot of life expectancy over time for Norway.\n",
    "# Let the figure be 400 pixels high and 700 pixels wide.\n",
    "# Set the title to 'Life Expectancy in Norway'.\n",
    "# Set the x-axis label to 'Year'.\n",
    "# Set the y-axis label to 'Life Expectancy (years)'.\n",
    "fig = px.line(df[df['country'] == 'Norway'], x='year', y='lifeExp', title='Life Expectancy in Norway', width=700, height=400)\n",
    "fig.update_xaxes(title='Year')\n",
    "fig.update_yaxes(title='Life Expectancy (years)')\n",
    "fig"
   ]
  },
  {
   "cell_type": "code",
   "execution_count": null,
   "metadata": {
    "slideshow": {
     "slide_type": "slide"
    },
    "tags": []
   },
   "outputs": [],
   "source": [
    "# Create a plot with one line for Norway and one line for Sweden in the same style as the plot above.\n",
    "# Let the legend title be 'Country'.\n",
    "fig = px.line(df[df['country'].isin(['Norway', 'Sweden'])], x='year', y='lifeExp', color='country', width=700, height=400)\n",
    "fig.update_xaxes(title='Year')\n",
    "fig.update_yaxes(title='Life Expectancy (years)')\n",
    "fig.update_layout(legend_title_text='Country')\n",
    "fig"
   ]
  },
  {
   "cell_type": "code",
   "execution_count": null,
   "metadata": {
    "slideshow": {
     "slide_type": "slide"
    },
    "tags": []
   },
   "outputs": [],
   "source": [
    "# The dictionary defining the figure\n",
    "print(fig)"
   ]
  },
  {
   "cell_type": "code",
   "execution_count": null,
   "metadata": {
    "slideshow": {
     "slide_type": "fragment"
    },
    "tags": []
   },
   "outputs": [],
   "source": [
    "print(fig['data'][0]['line']['color'])"
   ]
  },
  {
   "cell_type": "markdown",
   "metadata": {
    "slideshow": {
     "slide_type": "slide"
    },
    "tags": []
   },
   "source": [
    "### Directly editing the dictionary"
   ]
  },
  {
   "cell_type": "code",
   "execution_count": null,
   "metadata": {
    "slideshow": {
     "slide_type": "fragment"
    },
    "tags": []
   },
   "outputs": [],
   "source": [
    "fig['data'][0]['line']['color'] = \"#000000\""
   ]
  },
  {
   "cell_type": "code",
   "execution_count": null,
   "metadata": {
    "slideshow": {
     "slide_type": "fragment"
    },
    "tags": []
   },
   "outputs": [],
   "source": [
    "fig"
   ]
  },
  {
   "cell_type": "markdown",
   "metadata": {
    "slideshow": {
     "slide_type": "slide"
    },
    "tags": []
   },
   "source": [
    "### Shaded areas\n",
    "- The fill parameter can be used to fill to the next line, to zero or to itself if the series reverses.\n",
    "- The latter is most convenient for single colour background shading."
   ]
  },
  {
   "cell_type": "code",
   "execution_count": null,
   "metadata": {
    "slideshow": {
     "slide_type": "fragment"
    },
    "tags": []
   },
   "outputs": [],
   "source": [
    "# Plot the mean life expectancy in Europe over time. Shade the area between minimum and maximum life expectancy in Europe over time.\n",
    "# Overlay Norway's life expectancy over the plot.\n",
    "# https://plotly.com/python/continuous-error-bars/\n",
    "dfE = df[df['continent'] == 'Europe'][['year', 'lifeExp']].groupby('year')\n",
    "dfEmean = dfE.mean().reset_index()\n",
    "dfEmean['Legend'] = 'Average' # Hack to include line in legend, see color below.\n",
    "\n",
    "fig = px.line(dfEmean, x='year', y='lifeExp', title='Life Expectancy in Europe', color='Legend', width=700, height=400)\n",
    "fig.update_xaxes(title='Year')\n",
    "fig.update_yaxes(title='Life Expectancy (years)')\n",
    "fig.update_layout(legend_title_text='Country')\n",
    "\n",
    "# Fill between dfE.min().reset_index() and dfE.max().reset_index()\n",
    "fig.add_scatter(x=dfE.min().reset_index()['year'], y=dfE.min().reset_index()['lifeExp'], name='Min', fill='tonexty')\n",
    "fig.add_scatter(x=dfE.max().reset_index()['year'], y=dfE.max().reset_index()['lifeExp'], name='Max', fill='tonexty')\n",
    "fig.add_scatter(x=df[df['country'] == 'Norway']['year'], y=df[df['country'] == 'Norway']['lifeExp'], name='Norway')\n",
    "fig"
   ]
  },
  {
   "cell_type": "markdown",
   "metadata": {
    "slideshow": {
     "slide_type": "fragment"
    },
    "tags": []
   },
   "source": [
    "```{note}\n",
    "Look at the way .reset_index() is used to promote years back to a variable again. \n",
    "```"
   ]
  },
  {
   "cell_type": "markdown",
   "metadata": {
    "slideshow": {
     "slide_type": "slide"
    },
    "tags": []
   },
   "source": [
    "### Bar plot"
   ]
  },
  {
   "cell_type": "code",
   "execution_count": null,
   "metadata": {
    "slideshow": {
     "slide_type": "fragment"
    },
    "tags": []
   },
   "outputs": [],
   "source": [
    "# Make a barplot of the life expectancy in Norway over time.\n",
    "fig = px.bar(df[df['country'] == 'Norway'], x='year', y='lifeExp', title='Life Expectancy in Norway', width=700, height=400)\n",
    "fig.update_xaxes(title='Year')\n",
    "fig.update_yaxes(title='Life Expectancy (years)')\n",
    "fig"
   ]
  },
  {
   "cell_type": "code",
   "execution_count": null,
   "metadata": {
    "slideshow": {
     "slide_type": "slide"
    },
    "tags": []
   },
   "outputs": [],
   "source": [
    "# Make a barplot with both Norway and Sweden in the same plot. Let the countries be side by side for each year.\n",
    "fig = px.bar(df[df['country'].isin(['Norway', 'Sweden'])], x='year', y='lifeExp', color='country', barmode='group', width=700, height=400)\n",
    "fig.update_xaxes(title='Year')\n",
    "fig.update_yaxes(title='Life Expectancy (years)')\n",
    "fig.update_layout(legend_title_text='Country')\n",
    "fig"
   ]
  },
  {
   "cell_type": "markdown",
   "metadata": {
    "slideshow": {
     "slide_type": "fragment"
    },
    "tags": []
   },
   "source": [
    "```{note}\n",
    "Remove \"barmode\" for stacking.\n",
    "```"
   ]
  },
  {
   "cell_type": "code",
   "execution_count": null,
   "metadata": {
    "slideshow": {
     "slide_type": "slide"
    },
    "tags": []
   },
   "outputs": [],
   "source": [
    "# Create a barplot with maximum life expectancy in Europe for each year.\n",
    "# Overlay the life expectancy in Bulgaria over the plot with narrower bars using barmode='overlay'.\n",
    "dfE = df[df['continent'] == 'Europe'][['year', 'lifeExp']].groupby('year')\n",
    "dfEmax = dfE.max().reset_index()\n",
    "dfEmax['Bulgaria'] = df[df['country'] == 'Bulgaria']['lifeExp'].reset_index()['lifeExp']\n",
    "dfEmax.columns = ['year', 'Europe max', 'Bulgaria']\n",
    "fig = px.bar(dfEmax, x='year', y=['Europe max', 'Bulgaria'], title='Life Expectancy in Europe', barmode='overlay', width=700, height=400)\n",
    "fig.update_xaxes(title='Year')\n",
    "fig.update_yaxes(title='Life Expectancy (years)')\n",
    "fig.update_layout(legend_title_text='Country')\n",
    "fig"
   ]
  },
  {
   "cell_type": "code",
   "execution_count": null,
   "metadata": {
    "slideshow": {
     "slide_type": "slide"
    },
    "tags": []
   },
   "outputs": [],
   "source": [
    "# Inspect the figure\n",
    "print(fig)"
   ]
  },
  {
   "cell_type": "code",
   "execution_count": null,
   "metadata": {
    "slideshow": {
     "slide_type": "slide"
    },
    "tags": []
   },
   "outputs": [],
   "source": [
    "# Adust the width of the Bulgaria bars to 2.\n",
    "fig['data'][1]['width'] = 1.5\n",
    "fig"
   ]
  },
  {
   "cell_type": "markdown",
   "metadata": {
    "slideshow": {
     "slide_type": "slide"
    },
    "tags": []
   },
   "source": [
    "### Polar barplots\n",
    "- The x-axis in barplots do not have to be straight."
   ]
  },
  {
   "cell_type": "code",
   "execution_count": null,
   "metadata": {
    "slideshow": {
     "slide_type": "fragment"
    },
    "tags": []
   },
   "outputs": [],
   "source": [
    "angles = (dfEmax['year']-1952)/55*360*11/12\n",
    "width = [360/12-5]*12\n",
    "r = dfEmax['Europe max']"
   ]
  },
  {
   "cell_type": "code",
   "execution_count": null,
   "metadata": {
    "slideshow": {
     "slide_type": "fragment"
    },
    "tags": []
   },
   "outputs": [],
   "source": [
    "import plotly.graph_objects as go\n",
    "\n",
    "fig = go.Figure(go.Barpolar(\n",
    "    r=r,\n",
    "    theta=angles,\n",
    "    width=width,\n",
    "    marker_color=dfEmax['Europe max'],\n",
    "    marker_line_color=\"black\",\n",
    "    marker_line_width=2,\n",
    "    opacity=0.8\n",
    "))\n",
    "\n",
    "fig.update_layout(\n",
    "    template=None,\n",
    "    polar = dict(\n",
    "        radialaxis = dict(range=[0, 100], showticklabels=False, ticks=''),\n",
    "        angularaxis = dict(showticklabels=False, ticks='')\n",
    "    )\n",
    ")\n",
    "\n",
    "fig\n",
    "\n",
    "# Change me to plotly express, please!"
   ]
  },
  {
   "cell_type": "markdown",
   "metadata": {
    "slideshow": {
     "slide_type": "slide"
    },
    "tags": []
   },
   "source": [
    "### Scatter plot"
   ]
  },
  {
   "cell_type": "code",
   "execution_count": null,
   "metadata": {
    "slideshow": {
     "slide_type": "fragment"
    },
    "tags": []
   },
   "outputs": [],
   "source": [
    "# Create a Plotly express scatter plot of the iris data\n",
    "df = px.data.iris()\n",
    "fig = px.scatter(df, x=\"sepal_width\", y=\"sepal_length\", color='species')\n",
    "fig.update_xaxes(title='Sepal width')\n",
    "fig.update_yaxes(title='Sepal length')\n",
    "fig"
   ]
  },
  {
   "cell_type": "code",
   "execution_count": null,
   "metadata": {
    "slideshow": {
     "slide_type": "slide"
    },
    "tags": []
   },
   "outputs": [],
   "source": [
    "# Inspect the scatter plot.\n",
    "# Note three legendgroups and the markers. Many more options are available.\n",
    "print(fig)"
   ]
  },
  {
   "cell_type": "code",
   "execution_count": null,
   "metadata": {
    "slideshow": {
     "slide_type": "slide"
    },
    "tags": []
   },
   "outputs": [],
   "source": [
    "# Manipulate symbols\n",
    "fig = px.scatter(df, x=\"sepal_width\", y=\"sepal_length\", \n",
    "                 color='species', size=\"petal_width\")\n",
    "fig.update_xaxes(title='Sepal width')\n",
    "fig.update_yaxes(title='Sepal length')\n",
    "fig"
   ]
  },
  {
   "cell_type": "markdown",
   "metadata": {
    "slideshow": {
     "slide_type": "slide"
    },
    "tags": []
   },
   "source": [
    "## Boxplots and violin plots"
   ]
  },
  {
   "cell_type": "code",
   "execution_count": null,
   "metadata": {
    "slideshow": {
     "slide_type": "fragment"
    },
    "tags": []
   },
   "outputs": [],
   "source": [
    "# Make a boxplot of the life expectancy per country in Europe\n",
    "df = px.data.gapminder()\n",
    "dfE = df[df['continent'] == 'Europe']\n",
    "fig = px.box(dfE, x='country', y='lifeExp', title='Life Expectancy in Europe', width=800, height=500)\n",
    "fig.update_xaxes(title='Country')\n",
    "fig.update_yaxes(title='Life Expectancy (years)')\n",
    "fig"
   ]
  },
  {
   "cell_type": "code",
   "execution_count": null,
   "metadata": {
    "slideshow": {
     "slide_type": "slide"
    },
    "tags": []
   },
   "outputs": [],
   "source": [
    "# Make a violinplot of the life expectancy per country in Europe \n",
    "# with the same style as the boxplot above.\n",
    "fig = px.violin(dfE, x='country', y='lifeExp', title='Life Expectancy in Europe', width=800, height=400)\n",
    "fig.update_xaxes(title='Country')\n",
    "fig.update_yaxes(title='Life Expectancy (years)')\n",
    "fig"
   ]
  },
  {
   "cell_type": "markdown",
   "metadata": {
    "slideshow": {
     "slide_type": "slide"
    },
    "tags": []
   },
   "source": [
    "### Marginal plots\n",
    "- Scatter plots support simple marginal plots, e.g., histograms and similar."
   ]
  },
  {
   "cell_type": "code",
   "execution_count": null,
   "metadata": {
    "slideshow": {
     "slide_type": "fragment"
    },
    "tags": []
   },
   "outputs": [],
   "source": [
    "# Add a marginal violin plot to the scatter plot.\n",
    "df = px.data.iris()\n",
    "fig = px.scatter(df, x=\"sepal_width\", y=\"sepal_length\", \n",
    "                 color='species', size=\"petal_width\", marginal_y='box')\n",
    "fig.update_xaxes(title='Sepal width')\n",
    "fig.update_yaxes(title='Sepal length')\n",
    "fig"
   ]
  },
  {
   "cell_type": "markdown",
   "metadata": {
    "slideshow": {
     "slide_type": "slide"
    },
    "tags": []
   },
   "source": [
    "## Exercise\n",
    "- Test other marginal plot types and locations."
   ]
  },
  {
   "cell_type": "markdown",
   "metadata": {
    "slideshow": {
     "slide_type": "slide"
    },
    "tags": []
   },
   "source": [
    "## Heatmap"
   ]
  },
  {
   "cell_type": "code",
   "execution_count": null,
   "metadata": {
    "slideshow": {
     "slide_type": "fragment"
    },
    "tags": []
   },
   "outputs": [],
   "source": [
    "# Make a correlation heatmap of the iris data\n",
    "df = px.data.iris()\n",
    "fig = px.imshow(df.corr(numeric_only=True))\n",
    "fig"
   ]
  },
  {
   "cell_type": "markdown",
   "metadata": {
    "slideshow": {
     "slide_type": "slide"
    },
    "tags": []
   },
   "source": [
    "## Tables\n",
    "- One can plot tables with styling."
   ]
  },
  {
   "cell_type": "code",
   "execution_count": null,
   "metadata": {
    "slideshow": {
     "slide_type": "fragment"
    },
    "tags": []
   },
   "outputs": [],
   "source": [
    "# Make a Plotly express table view for the iris data\n",
    "# https://plotly.com/python/table\n",
    "import plotly.graph_objects as go\n",
    "df = px.data.iris()\n",
    "fig = go.Figure(data=[go.Table(\n",
    "    header=dict(values=list(df.columns),\n",
    "                fill_color='paleturquoise',\n",
    "                align='left'),\n",
    "    cells=dict(values=[df.sepal_length, df.sepal_width, df.petal_length, df.petal_width, df.species, df.species_id],\n",
    "               fill_color='lavender',\n",
    "               align='left'))\n",
    "])\n",
    "\n",
    "fig"
   ]
  },
  {
   "cell_type": "markdown",
   "metadata": {
    "slideshow": {
     "slide_type": "slide"
    },
    "tags": []
   },
   "source": [
    "## Layouts\n",
    "- For Plotly express there is no direct layout option, except for facets (see below).\n",
    "- Instead one need to go to the low-level graph objects."
   ]
  },
  {
   "cell_type": "code",
   "execution_count": null,
   "metadata": {
    "slideshow": {
     "slide_type": "fragment"
    },
    "tags": []
   },
   "outputs": [],
   "source": [
    "# Make a two by two plotly express plot with two scatter plots and two pie charts, all four with random data\n",
    "# https://plotly.com/python/subplots/\n",
    "import plotly.graph_objects as go\n",
    "import numpy as np\n",
    "from plotly.subplots import make_subplots\n",
    "np.random.seed(1)\n",
    "# Initialize figure with subplots with type of plot in each cell\n",
    "fig = make_subplots(rows=2, cols=2, \n",
    "                    specs=[[{\"type\": \"xy\"}, {\"type\": \"xy\"}], \n",
    "                           [{\"type\": \"domain\"}, {\"type\": \"domain\"}]])\n",
    "fig.add_trace(go.Scatter(x=np.random.rand(100), y=np.random.rand(100), mode='markers'), row=1, col=1)\n",
    "fig.add_trace(go.Scatter(x=np.random.rand(100), y=np.random.rand(100), mode='markers'), row=1, col=2)\n",
    "fig.add_trace(go.Pie(values=np.random.rand(3)), row=2, col=1)\n",
    "fig.add_trace(go.Pie(values=np.random.rand(3)), row=2, col=2)\n",
    "fig.update_layout(height=600, width=800, title_text=\"Two by two subplots\")\n",
    "fig"
   ]
  },
  {
   "cell_type": "markdown",
   "metadata": {
    "slideshow": {
     "slide_type": "fragment"
    },
    "tags": []
   },
   "source": [
    "```{note}\n",
    "The plot type must be specified for the supblots, e.g., \"xy\", \"domain\". \n",
    "```"
   ]
  },
  {
   "cell_type": "markdown",
   "metadata": {
    "slideshow": {
     "slide_type": "slide"
    },
    "tags": []
   },
   "source": [
    "## Facet plots\n",
    "- Facet plots are sets of plots having the same properties execpt for one categorical difference.\n",
    "- Examples can be scatter plots, line plots, histograms, etc. with one distinguishing feature.\n",
    "- Parameters for layout specifications are available."
   ]
  },
  {
   "cell_type": "code",
   "execution_count": null,
   "metadata": {
    "slideshow": {
     "slide_type": "slide"
    },
    "tags": []
   },
   "outputs": [],
   "source": [
    "# Tip dataset from Plotly\n",
    "df = px.data.tips()\n",
    "df.head()"
   ]
  },
  {
   "cell_type": "code",
   "execution_count": null,
   "metadata": {
    "slideshow": {
     "slide_type": "slide"
    },
    "tags": []
   },
   "outputs": [],
   "source": [
    "# Scatter plot with color and facet\n",
    "# https://plotly.com/python/facet-plots/\n",
    "fig = px.scatter(df, x=\"total_bill\", y=\"tip\", color='sex', facet_col=\"day\")\n",
    "fig.update_xaxes(matches=None)\n",
    "fig"
   ]
  },
  {
   "cell_type": "markdown",
   "metadata": {
    "slideshow": {
     "slide_type": "slide"
    },
    "tags": []
   },
   "source": [
    "## Sunburst plot\n",
    "- Hierarchical data, e.g., pivoted data, can be displayed as sunbursts.\n",
    "- These are pie charts with concentric circles marking hierarchical relationships.\n",
    "- Interactivity is kind of cool here."
   ]
  },
  {
   "cell_type": "markdown",
   "metadata": {
    "slideshow": {
     "slide_type": "fragment"
    },
    "tags": []
   },
   "source": [
    "```{note}\n",
    "As for ordinary pie charts, it is very hard to judge the relative sizes of sectors in sunburst plots. \n",
    "```"
   ]
  },
  {
   "cell_type": "code",
   "execution_count": null,
   "metadata": {
    "slideshow": {
     "slide_type": "slide"
    },
    "tags": []
   },
   "outputs": [],
   "source": [
    "# Sunburst plot\n",
    "df = px.data.tips()\n",
    "fig = px.sunburst(df, path=['day', 'time', 'sex'], values='total_bill')\n",
    "fig"
   ]
  },
  {
   "cell_type": "code",
   "execution_count": null,
   "metadata": {
    "slideshow": {
     "slide_type": "slide"
    },
    "tags": []
   },
   "outputs": [],
   "source": [
    "# Read the athlete_events.csv file\n",
    "import pandas as pd\n",
    "athletes = pd.read_csv('../../data/athlete_events.csv')\n",
    "winter = athletes.loc[athletes['Season'] == 'Winter',:]\n",
    "winter2000 = winter.loc[winter['Year'] >= 2000,:]\n",
    "\n",
    "# Pivoting step on the summer2000 data\n",
    "w2sy = winter2000.pivot_table(index='Sport', columns='Year', values='Height', aggfunc='count')\n",
    "\n",
    "# Remove rows that only contain NaN values\n",
    "w2sy = w2sy.dropna(how='all')\n",
    "\n",
    "w2syu = w2sy.unstack().reset_index()\n",
    "w2syu.columns = ['Year', 'Sport', 'Athletes']\n",
    "w2syu.head()"
   ]
  },
  {
   "cell_type": "code",
   "execution_count": null,
   "metadata": {
    "slideshow": {
     "slide_type": "slide"
    },
    "tags": []
   },
   "outputs": [],
   "source": [
    "fig = px.sunburst(w2syu, path=['Year', 'Sport'], values='Athletes')\n",
    "# Add header: \"Athletes per sport in winter olympics\"\n",
    "fig.update_layout(title_text='Athletes per sport in winter olympics')\n",
    "fig"
   ]
  },
  {
   "cell_type": "markdown",
   "metadata": {
    "slideshow": {
     "slide_type": "slide"
    },
    "tags": []
   },
   "source": [
    "## Parallel coordinates\n",
    "- Multiple features in a parallel coordinate system.\n",
    "- Each sample is a line marking values in each feature.\n",
    "- Colours from classes or continuous feature.\n",
    "- Interactivity includes marking part of coordinate axis and rearranging coordinate axes."
   ]
  },
  {
   "cell_type": "code",
   "execution_count": null,
   "metadata": {
    "slideshow": {
     "slide_type": "slide"
    },
    "tags": []
   },
   "outputs": [],
   "source": [
    "# Use Plotly parallell coordinates to visualize the Iris data\n",
    "# https://plot.ly/python/parallel-coordinates-plot/\n",
    "df = px.data.iris()\n",
    "fig = px.parallel_coordinates(df, color=\"species_id\", labels={\"species_id\": \"Species\",\n",
    "                \"sepal_width\": \"Sepal Width\", \"sepal_length\": \"Sepal Length\",\n",
    "                \"petal_width\": \"Petal Width\", \"petal_length\": \"Petal Length\", },\n",
    "                color_continuous_scale=px.colors.diverging.Tealrose, color_continuous_midpoint=2)\n",
    "fig"
   ]
  },
  {
   "cell_type": "markdown",
   "metadata": {
    "slideshow": {
     "slide_type": "slide"
    },
    "tags": []
   },
   "source": [
    "## Exercise\n",
    "- Adjust the above code to include a slider for opacity."
   ]
  },
  {
   "cell_type": "markdown",
   "metadata": {
    "slideshow": {
     "slide_type": "slide"
    },
    "tags": []
   },
   "source": [
    "```{seealso} Resources\n",
    ":class: tip\n",
    "- [Plotly overview](https://plotly.com/python/)\n",
    "- [Plotly API reference](https://plotly.com/python-api-reference/index.html)\n",
    "```"
   ]
  },
  {
   "cell_type": "code",
   "execution_count": null,
   "metadata": {
    "tags": [
     "hide-cell"
    ]
   },
   "outputs": [],
   "source": [
    "# Dummy cell to ensure Plotly graphics are shown\n",
    "import plotly.graph_objects as go\n",
    "f = go.FigureWidget([go.Scatter(x=[1,1], y=[1,1], mode='markers')])"
   ]
  }
 ],
 "metadata": {
  "kernelspec": {
   "display_name": "IND320_2024",
   "language": "python",
   "name": "python3"
  },
  "language_info": {
   "codemirror_mode": {
    "name": "ipython",
    "version": 3
   },
   "file_extension": ".py",
   "mimetype": "text/x-python",
   "name": "python",
   "nbconvert_exporter": "python",
   "pygments_lexer": "ipython3",
   "version": "3.12.4"
  }
 },
 "nbformat": 4,
 "nbformat_minor": 4
}
