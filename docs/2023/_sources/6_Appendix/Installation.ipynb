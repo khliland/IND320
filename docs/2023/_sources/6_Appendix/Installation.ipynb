{
 "cells": [
  {
   "cell_type": "markdown",
   "metadata": {},
   "source": [
    "# Installation\n",
    "## General note on Windows installations\n",
    "When a system wide change like adding/changing environment variables or installing a program is performed, this does not appear in the current session of a Jupyter Notebook or other module that is started (directly or indirectly) from the command line. A restart of the whole Jupyter Notebook server may therefore be needed after the mentioned changes to see their effects.\n",
    "\n",
    "### Company managed Windows computers\n",
    "Some companies and organisations, e.g., the Norwegian University of Life Sciences (NMBU), do not give administrative rights to their employees by default. Instead they have a Software Center with installable programs. For NMBU the Software Center includes Anaconda, VS Code, Docker (with automatic WSL installation), Java, and Power BI Desktop."
   ]
  },
  {
   "cell_type": "markdown",
   "metadata": {},
   "source": [
    "## Python\n",
    "- An up to date installation of Python is recommended.\n",
    "- This book has been built using the minial conda installer [miniconda](https://docs.conda.io/projects/miniconda/en/latest/)."
   ]
  },
  {
   "cell_type": "markdown",
   "metadata": {},
   "source": [
    "### Conda environments\n",
    "- A _conda environment_ is a self contained Python environment with its own Python version and installed packages.\n",
    "- Conda environments can be created and activated in a terminal on POSIX systems (macOS, Unix, Linux) or from a _Conda prompt_ on Windows.\n",
    "- A new conda environment can be created and prepared, e.g., as follows:\n",
    "    ```\n",
    "    conda create --name D2D_env\n",
    "    conda activate D2D_env\n",
    "    conda install pip\n",
    "    pip install -r /path_to_D2Dbook/requirements.txt\n",
    "    ```\n",
    "- If you get an error regarding Rust, you may need to install Rust separately, e.g, from [their webpage](https://www.rust-lang.org/tools/install) or using [Homebrew](https://formulae.brew.sh/formula/rust)."
   ]
  },
  {
   "cell_type": "markdown",
   "metadata": {},
   "source": [
    "## Integrated Developer Environment - IDE\n",
    "- There are many to choose between, e.g., the poular freeware applications [PyCharm](https://www.jetbrains.com/pycharm/) and Visual Studio Code ([VS Code](https://code.visualstudio.com/)).\n",
    "- This book was developed using VS Code.\n",
    "\n",
    "### VS Code\n",
    "- Download and install [VS Code](https://code.visualstudio.com/).\n",
    "- Add extensions for Python and Jupyter, possibly also for JSON viewer, GitHub Copilot, etc.\n",
    "- You may have to set the Conda and Python paths in the settings for the Python extension.\n",
    "- If your favourite Conda environment is not detected, press Ctrl/Cmd+Shift+P and write _python:Select Interpreter_ to enable manual input of environment path."
   ]
  },
  {
   "cell_type": "markdown",
   "metadata": {},
   "source": [
    "## Git\n",
    "- Python pip installation from GitHub requires a local git system.\n",
    "- If your computer does not have git installed by default, this can be installed from [git-scm.com](https://git-scm.com/downloads)."
   ]
  },
  {
   "cell_type": "markdown",
   "metadata": {},
   "source": [
    "## Docker\n",
    "- On POSIX systems, Docker desktop can be installed from [docker.com](https://www.docker.com/).\n",
    "- On Windows computers, Docker requires installation/activation of the Windows Subsystem for Linux (WSL) for full functionality. This can be installed from a command prompt using the following command:\n",
    "    ```\n",
    "    wsl --install\n",
    "    ```\n",
    "- After WSL is installed, the Docker desktop can be installed as for POSIX systems."
   ]
  },
  {
   "cell_type": "markdown",
   "metadata": {},
   "source": [
    "## Cassandra\n",
    "Assumptions:\n",
    "- Docker installed on system\n",
    "- \"cassandra:latest\" image installed in docker\n",
    "- Python/Conda environment with python 3.8 (or newer*)  \n",
    "  \n",
    "*As of 23 September 2023, the officially built cassandra-driver package was at version 3.25 and did not work well with Python 3.10 on Mac or Windows 10.  \n",
    "To install a newer version from the terminal you can write the following:  \n",
    "```\n",
    "pip install git+https://github.com/datastax/python-driver.git\n",
    "```"
   ]
  },
  {
   "cell_type": "markdown",
   "metadata": {},
   "source": [
    "## Java\n",
    "- To use PySpark one needs a Java installation.\n",
    "- Several vendors make their own Java versions. \n",
    "    - [Microsoft's version of OpenJDK](https://learn.microsoft.com/en-gb/java/openjdk/download) supports all major platforms.\n",
    "- Access to Java can be enabled system wide using the environment JAVA_HOME or on a script-wise level using the Python _os_ package.\n",
    "    - Environment variables are system dependent. If the installation of Java did not add the environment variable automatically, the variable can be set __persistently__ in the system:\n",
    "    - Windows: search for _Environment Variables_ via the start button and selecting the one for _User_.\n",
    "    - Linux and Mac OS: edit the ~/.bash\\_profile file, adding _export JAVA_HOME=/opt/openjdk11_ (or similar, depending on your installation)."
   ]
  },
  {
   "cell_type": "markdown",
   "metadata": {},
   "source": [
    "## Spark\n",
    "- Spark is originally made for POSIX systems with Hadoop. On Windows computers it is therefore dependent on specialised setup or a set of drivers called winutils.\n",
    "    - More than one GitHub repository maintains these drivers. We have tested the hadoop-3.3.1 version from [Kontext.TECH](https://github.com/kontext-tech/winutils) with success.\n",
    "    - At runtime, an environment variable can be set to point to the downloaded hadoop-x.y.z folder, e.g., in _C:\\Hadoop_ (not need on Mac/Linux):\n",
    "        ```\n",
    "        import os\n",
    "        os.environ[\"HADOOP_HOME\"] = \"C:/Hadoop/hadoop-3.3.1\"\n",
    "        ```\n",
    "    - On some computers an additional Hadoop environment variable can silence a nuisance warning:\n",
    "        ```\n",
    "        os.environ[\"PYSPARK_HADOOP_VERSION\"] = \"without\"\n",
    "        ```\n",
    "- Spark is not very picky with regard to Python version, but may need help choosing/finding it. Setting environment variables for this (and the Hadoop related above) can be done persistently, similar to JAVA_HOME or at runtime, e.g., using:\n",
    "    ```\n",
    "    os.environ[\"PYSPARK_PYTHON\"] = \"python\"\n",
    "    os.environ[\"PYSPARK_DRIVER_PYTHON\"] = \"python\"\n",
    "    ```\n",
    "- If this version of Python is not accepted, one can point it to a version installed in a conda environment.\n",
    "- Spark itself can be installed using: _pip install pyspark_ (or similar)."
   ]
  }
 ],
 "metadata": {
  "language_info": {
   "name": "python"
  },
  "orig_nbformat": 4
 },
 "nbformat": 4,
 "nbformat_minor": 2
}
