{
 "cells": [
  {
   "cell_type": "markdown",
   "metadata": {
    "slideshow": {
     "slide_type": "slide"
    }
   },
   "source": [
    "# Cassandra\n",
    "- A production grade NoSQL database.\n",
    "- Can be distributed across servers, nodes, etc.\n",
    "- Replication of database is supported for high degree of redundancy and speed.\n",
    "- Uses CQL, a subset of SQL for querying.\n",
    "- Works seamlesly together with Spark and its corresponding distributed structure.\n",
    "- Installation of Cassandra is explained in the [Installation chapter](../../6_Appendix/Installation.ipynb)."
   ]
  },
  {
   "cell_type": "markdown",
   "metadata": {
    "slideshow": {
     "slide_type": "slide"
    }
   },
   "source": [
    "## Spinning up a local Cassandra instance\n",
    "In a terminal, first time:  \n",
    "```docker run --name my_cassandra -p 9042:9042 cassandra:latest```  \n",
    "... and later:  \n",
    "```docker start my_cassandra```  \n",
    "  \n",
    ".. or in Docker Desktop:\n",
    "- Run the cassandra docker image with optional settings, opening 9042 port and setting a name.\n",
    "- Later, simply run the container with the name you chose."
   ]
  },
  {
   "cell_type": "markdown",
   "metadata": {
    "slideshow": {
     "slide_type": "slide"
    }
   },
   "source": [
    "<img src=\"https://github.com/khliland/IND320/blob/main/D2Dbook/images/Docker_images.png?raw=TRUE\" width=\"600px\">  "
   ]
  },
  {
   "cell_type": "markdown",
   "metadata": {
    "slideshow": {
     "slide_type": "slide"
    }
   },
   "source": [
    "\n",
    "<img src=\"https://github.com/khliland/IND320/blob/main/D2Dbook/images/Docker_containers.png?raw=TRUE\" width=\"800px\">  "
   ]
  },
  {
   "cell_type": "markdown",
   "metadata": {
    "slideshow": {
     "slide_type": "slide"
    }
   },
   "source": [
    "### Connect to the Cassandra cluster from Python."
   ]
  },
  {
   "cell_type": "code",
   "execution_count": 1,
   "metadata": {
    "slideshow": {
     "slide_type": "-"
    }
   },
   "outputs": [],
   "source": [
    "# Connecting to Cassandra\n",
    "from cassandra.cluster import Cluster\n",
    "cluster = Cluster(['localhost'], port=9042)\n",
    "session = cluster.connect()"
   ]
  },
  {
   "cell_type": "markdown",
   "metadata": {
    "slideshow": {
     "slide_type": "slide"
    }
   },
   "source": [
    "### Keyspace\n",
    "- In Cassandra database tables are stored in keyspaces (basically a distributed database).\n",
    "- These have parameters controlling their distribution on nodes/servers and redundancy.\n",
    "- We will use the simplest form locally."
   ]
  },
  {
   "cell_type": "code",
   "execution_count": 2,
   "metadata": {
    "slideshow": {
     "slide_type": "fragment"
    }
   },
   "outputs": [
    {
     "data": {
      "text/plain": [
       "<cassandra.cluster.ResultSet at 0x10a307610>"
      ]
     },
     "execution_count": 2,
     "metadata": {},
     "output_type": "execute_result"
    }
   ],
   "source": [
    "# Set up new keyspace (first time only)\n",
    "#                                              name of keyspace                        replication strategy           replication factor\n",
    "session.execute(\"CREATE KEYSPACE IF NOT EXISTS my_first_keyspace WITH REPLICATION = { 'class' : 'SimpleStrategy', 'replication_factor' : 1 };\")"
   ]
  },
  {
   "cell_type": "markdown",
   "metadata": {
    "slideshow": {
     "slide_type": "slide"
    }
   },
   "source": [
    "### Create a table\n",
    "- IF NOT EXISTS makes sure we do not overwrite existing tables"
   ]
  },
  {
   "cell_type": "code",
   "execution_count": 3,
   "metadata": {
    "slideshow": {
     "slide_type": "fragment"
    }
   },
   "outputs": [
    {
     "data": {
      "text/plain": [
       "<cassandra.cluster.ResultSet at 0x1048bac80>"
      ]
     },
     "execution_count": 3,
     "metadata": {},
     "output_type": "execute_result"
    }
   ],
   "source": [
    "# Create a new table (first time only)\n",
    "session.set_keyspace('my_first_keyspace')\n",
    "session.execute(\"DROP TABLE IF EXISTS my_first_keyspace.my_first_table;\") # Starting from scratch every time\n",
    "session.execute(\"CREATE TABLE IF NOT EXISTS my_first_table (ind int PRIMARY KEY, company text, model text);\")"
   ]
  },
  {
   "cell_type": "markdown",
   "metadata": {
    "slideshow": {
     "slide_type": "slide"
    }
   },
   "source": [
    "### Inserting and reading data"
   ]
  },
  {
   "cell_type": "code",
   "execution_count": 4,
   "metadata": {
    "slideshow": {
     "slide_type": "-"
    }
   },
   "outputs": [
    {
     "data": {
      "text/plain": [
       "<cassandra.cluster.ResultSet at 0x10ac16500>"
      ]
     },
     "execution_count": 4,
     "metadata": {},
     "output_type": "execute_result"
    }
   ],
   "source": [
    "# Insert some data (ind is the primary key, must be unique)\n",
    "session.execute(\"INSERT INTO my_first_table (ind, company, model) VALUES (1, 'Tesla', 'Model S');\")\n",
    "session.execute(\"INSERT INTO my_first_table (ind, company, model) VALUES (2, 'Tesla', 'Model 3');\")\n",
    "session.execute(\"INSERT INTO my_first_table (ind, company, model) VALUES (3, 'Polestar', '3');\")"
   ]
  },
  {
   "cell_type": "markdown",
   "metadata": {
    "slideshow": {
     "slide_type": "slide"
    }
   },
   "source": [
    "### Asyncronous writing\n",
    "- If your application is very data intensive, waiting for a response is not productive.\n",
    "- Writing asyncronously sends the data but does not pause for reply."
   ]
  },
  {
   "cell_type": "code",
   "execution_count": 5,
   "metadata": {
    "slideshow": {
     "slide_type": "-"
    }
   },
   "outputs": [
    {
     "data": {
      "text/plain": [
       "<ResponseFuture: query='<SimpleStatement query=\"INSERT INTO my_first_table (ind, company, model) VALUES (4, 'Volkswagen', 'ID.4');\", consistency=Not Set>' request_id=24 result=(no result yet) exception=None coordinator_host=None>"
      ]
     },
     "execution_count": 5,
     "metadata": {},
     "output_type": "execute_result"
    }
   ],
   "source": [
    "session.execute_async(\"INSERT INTO my_first_table (ind, company, model) VALUES (4, 'Volkswagen', 'ID.4');\")"
   ]
  },
  {
   "cell_type": "code",
   "execution_count": 6,
   "metadata": {
    "slideshow": {
     "slide_type": "slide"
    }
   },
   "outputs": [
    {
     "name": "stdout",
     "output_type": "stream",
     "text": [
      "Row(ind=1, company='Tesla', model='Model S')\n",
      "Row(ind=2, company='Tesla', model='Model 3')\n",
      "Row(ind=4, company='Volkswagen', model='ID.4')\n",
      "Row(ind=3, company='Polestar', model='3')\n"
     ]
    }
   ],
   "source": [
    "# Query the data\n",
    "rows = session.execute(\"SELECT * FROM my_first_table;\")\n",
    "for i in rows:\n",
    "    print(i)"
   ]
  },
  {
   "cell_type": "code",
   "execution_count": 7,
   "metadata": {
    "slideshow": {
     "slide_type": "slide"
    },
    "tags": [
     "raises-exception"
    ]
   },
   "outputs": [
    {
     "ename": "InvalidRequest",
     "evalue": "Error from server: code=2200 [Invalid query] message=\"Cannot execute this query as it might involve data filtering and thus may have unpredictable performance. If you want to execute this query despite the performance unpredictability, use ALLOW FILTERING\"",
     "output_type": "error",
     "traceback": [
      "\u001b[0;31m---------------------------------------------------------------------------\u001b[0m",
      "\u001b[0;31mInvalidRequest\u001b[0m                            Traceback (most recent call last)",
      "\u001b[1;32m/Users/kristian/Documents/GitHub/IND320/D2Dbook/2_Data_sources/2_Databases/3_Cassandra.ipynb Cell 16\u001b[0m line \u001b[0;36m2\n\u001b[1;32m      <a href='vscode-notebook-cell:/Users/kristian/Documents/GitHub/IND320/D2Dbook/2_Data_sources/2_Databases/3_Cassandra.ipynb#X21sZmlsZQ%3D%3D?line=0'>1</a>\u001b[0m \u001b[39m# More specific query\u001b[39;00m\n\u001b[0;32m----> <a href='vscode-notebook-cell:/Users/kristian/Documents/GitHub/IND320/D2Dbook/2_Data_sources/2_Databases/3_Cassandra.ipynb#X21sZmlsZQ%3D%3D?line=1'>2</a>\u001b[0m prepared_statement \u001b[39m=\u001b[39m session\u001b[39m.\u001b[39;49mprepare(\u001b[39m\"\u001b[39;49m\u001b[39mSELECT * FROM my_first_table WHERE company=?;\u001b[39;49m\u001b[39m\"\u001b[39;49m) \u001b[39m# <- will fail as company is not a key\u001b[39;00m\n\u001b[1;32m      <a href='vscode-notebook-cell:/Users/kristian/Documents/GitHub/IND320/D2Dbook/2_Data_sources/2_Databases/3_Cassandra.ipynb#X21sZmlsZQ%3D%3D?line=2'>3</a>\u001b[0m teslas \u001b[39m=\u001b[39m session\u001b[39m.\u001b[39mexecute(prepared_statement, [\u001b[39m'\u001b[39m\u001b[39mTesla\u001b[39m\u001b[39m'\u001b[39m])\n\u001b[1;32m      <a href='vscode-notebook-cell:/Users/kristian/Documents/GitHub/IND320/D2Dbook/2_Data_sources/2_Databases/3_Cassandra.ipynb#X21sZmlsZQ%3D%3D?line=3'>4</a>\u001b[0m \u001b[39mfor\u001b[39;00m i \u001b[39min\u001b[39;00m teslas:\n",
      "File \u001b[0;32m~/miniforge3/envs/tf_M1/lib/python3.10/site-packages/cassandra/cluster.py:3088\u001b[0m, in \u001b[0;36mSession.prepare\u001b[0;34m(self, query, custom_payload, keyspace)\u001b[0m\n\u001b[1;32m   3086\u001b[0m \u001b[39mtry\u001b[39;00m:\n\u001b[1;32m   3087\u001b[0m     future\u001b[39m.\u001b[39msend_request()\n\u001b[0;32m-> 3088\u001b[0m     response \u001b[39m=\u001b[39m future\u001b[39m.\u001b[39;49mresult()\u001b[39m.\u001b[39mone()\n\u001b[1;32m   3089\u001b[0m \u001b[39mexcept\u001b[39;00m \u001b[39mException\u001b[39;00m:\n\u001b[1;32m   3090\u001b[0m     log\u001b[39m.\u001b[39mexception(\u001b[39m\"\u001b[39m\u001b[39mError preparing query:\u001b[39m\u001b[39m\"\u001b[39m)\n",
      "File \u001b[0;32m~/miniforge3/envs/tf_M1/lib/python3.10/site-packages/cassandra/cluster.py:4920\u001b[0m, in \u001b[0;36mResponseFuture.result\u001b[0;34m(self)\u001b[0m\n\u001b[1;32m   4918\u001b[0m     \u001b[39mreturn\u001b[39;00m ResultSet(\u001b[39mself\u001b[39m, \u001b[39mself\u001b[39m\u001b[39m.\u001b[39m_final_result)\n\u001b[1;32m   4919\u001b[0m \u001b[39melse\u001b[39;00m:\n\u001b[0;32m-> 4920\u001b[0m     \u001b[39mraise\u001b[39;00m \u001b[39mself\u001b[39m\u001b[39m.\u001b[39m_final_exception\n",
      "\u001b[0;31mInvalidRequest\u001b[0m: Error from server: code=2200 [Invalid query] message=\"Cannot execute this query as it might involve data filtering and thus may have unpredictable performance. If you want to execute this query despite the performance unpredictability, use ALLOW FILTERING\""
     ]
    }
   ],
   "source": [
    "# More specific query\n",
    "prepared_statement = session.prepare(\"SELECT * FROM my_first_table WHERE company=?;\") # <- will fail as company is not a key\n",
    "teslas = session.execute(prepared_statement, ['Tesla'])\n",
    "for i in teslas:\n",
    "    print(i)"
   ]
  },
  {
   "cell_type": "markdown",
   "metadata": {
    "slideshow": {
     "slide_type": "slide"
    }
   },
   "source": [
    "## Cassandra filtering\n",
    "Cassandra is inherently a distributed production database. Selecting as above may require downloading all data from a node, then filtering based on the WHERE part (only PRIMARY KEYs are centrally known). Solutions:  \n",
    "- If the table is small or most of the data will satisfy the query, add ```ALLOW FILTERING``` at the end of the query (not recommended if not known). \n",
    "- Or make sure the WHERE clause points to one of the keys (see below)."
   ]
  },
  {
   "cell_type": "code",
   "execution_count": 8,
   "metadata": {
    "slideshow": {
     "slide_type": "slide"
    }
   },
   "outputs": [
    {
     "data": {
      "text/plain": [
       "<cassandra.cluster.ResultSet at 0x10ac18280>"
      ]
     },
     "execution_count": 8,
     "metadata": {},
     "output_type": "execute_result"
    }
   ],
   "source": [
    "# Create a new table (observe keys)\n",
    "session.execute(\"DROP TABLE IF EXISTS my_first_keyspace.car_table;\")\n",
    "session.execute(\"CREATE TABLE IF NOT EXISTS car_table (company text, model text, PRIMARY KEY(company, model));\")"
   ]
  },
  {
   "cell_type": "code",
   "execution_count": 9,
   "metadata": {
    "slideshow": {
     "slide_type": "fragment"
    }
   },
   "outputs": [
    {
     "data": {
      "text/plain": [
       "<cassandra.cluster.ResultSet at 0x10b8af370>"
      ]
     },
     "execution_count": 9,
     "metadata": {},
     "output_type": "execute_result"
    }
   ],
   "source": [
    "# Insert some data (combination of company and model must be unique)\n",
    "session.execute(\"INSERT INTO car_table (company, model) VALUES ('Tesla', 'Model S');\")\n",
    "session.execute(\"INSERT INTO car_table (company, model) VALUES ('Tesla', 'Model 3');\")\n",
    "session.execute(\"INSERT INTO car_table (company, model) VALUES ('Polestar', '3');\")\n",
    "session.execute(\"INSERT INTO car_table (company, model) VALUES ('Volkswagen', 'ID.4');\")"
   ]
  },
  {
   "cell_type": "code",
   "execution_count": 10,
   "metadata": {
    "slideshow": {
     "slide_type": "slide"
    }
   },
   "outputs": [
    {
     "name": "stdout",
     "output_type": "stream",
     "text": [
      "Row(company='Tesla', model='Model 3')\n",
      "Row(company='Tesla', model='Model S')\n"
     ]
    }
   ],
   "source": [
    "# More specific query now works\n",
    "prepared_statement = session.prepare(\"SELECT * FROM car_table WHERE company=?;\")\n",
    "teslas = session.execute(prepared_statement, ['Tesla'])\n",
    "for i in teslas:\n",
    "    print(i)"
   ]
  },
  {
   "cell_type": "markdown",
   "metadata": {
    "slideshow": {
     "slide_type": "slide"
    }
   },
   "source": [
    "### Partitions\n",
    "- Cassandra databases are usually replicated over different nodes.\n",
    "- Data is stored in partitions (subsets) which have local copys.\n",
    "- The primary key, e.g., PRIMARY KEY(company, model), is used in partitioning.\n",
    "    - The first part, e.g., company, is most important.\n",
    "    - All cars from a company will be located together, aiming for quicker queries."
   ]
  },
  {
   "cell_type": "markdown",
   "metadata": {
    "slideshow": {
     "slide_type": "slide"
    }
   },
   "source": [
    "### Unique IDs \n",
    "- In MySQL one could use the attribute AUTO_INCREMENT on integer IDs to automatically make a new unique index when inserting data.\n",
    "- This would cause unreasonable overhead in a distributed database.\n",
    "- [UUID](https://en.wikipedia.org/wiki/Universally_unique_identifier)s are used instead.\n",
    "    - Universally Unique Identifiers are typically 128-bit random bit sequences with extremely low probability of duplication.\n",
    "    - Cassandra uses a [timeuuid](https://docs.datastax.com/en/cql-oss/3.3/cql/cql_reference/timeuuid_functions_r.html) type to combine a timestamp and uuid in one."
   ]
  },
  {
   "cell_type": "code",
   "execution_count": 11,
   "metadata": {
    "slideshow": {
     "slide_type": "fragment"
    }
   },
   "outputs": [
    {
     "data": {
      "text/plain": [
       "<cassandra.cluster.ResultSet at 0x10a368130>"
      ]
     },
     "execution_count": 11,
     "metadata": {},
     "output_type": "execute_result"
    }
   ],
   "source": [
    "# Create a new table (first time only)\n",
    "session.set_keyspace('my_first_keyspace')\n",
    "session.execute(\"DROP TABLE IF EXISTS my_first_keyspace.table_with_uuid;\")\n",
    "session.execute(\"CREATE TABLE IF NOT EXISTS table_with_uuid (id timeuuid PRIMARY KEY, company text, model text, price float);\")"
   ]
  },
  {
   "cell_type": "code",
   "execution_count": 12,
   "metadata": {
    "slideshow": {
     "slide_type": "slide"
    }
   },
   "outputs": [
    {
     "data": {
      "text/plain": [
       "<cassandra.cluster.ResultSet at 0x10b8ae0b0>"
      ]
     },
     "execution_count": 12,
     "metadata": {},
     "output_type": "execute_result"
    }
   ],
   "source": [
    "session.execute(\"INSERT INTO table_with_uuid (id, company, model, price) VALUES (now(), 'Tesla', 'Model S', 20000.0);\")\n",
    "session.execute(\"INSERT INTO table_with_uuid (id, company, model, price) VALUES (now(), 'Tesla', 'Model S', 21000.0);\")\n",
    "session.execute(\"INSERT INTO table_with_uuid (id, company, model, price) VALUES (now(), 'Oldsmobile', 'Model 6C', 135000.0);\")"
   ]
  },
  {
   "cell_type": "code",
   "execution_count": 13,
   "metadata": {
    "slideshow": {
     "slide_type": "slide"
    }
   },
   "outputs": [
    {
     "name": "stdout",
     "output_type": "stream",
     "text": [
      "Row(id=UUID('cd8026e0-6834-11ee-8b2f-4f23491759a5'), company='Tesla', model='Model S', price=20000.0)\n",
      "Datetime: 2023-10-11 12:50:49.038000\n",
      "Row(id=UUID('cd80ea30-6834-11ee-8b2f-4f23491759a5'), company='Oldsmobile', model='Model 6C', price=135000.0)\n",
      "Datetime: 2023-10-11 12:50:49.043000\n",
      "Row(id=UUID('cd80c320-6834-11ee-8b2f-4f23491759a5'), company='Tesla', model='Model S', price=21000.0)\n",
      "Datetime: 2023-10-11 12:50:49.042000\n"
     ]
    }
   ],
   "source": [
    "from cassandra.util import datetime_from_uuid1\n",
    "\n",
    "# Query the data\n",
    "rows = session.execute(\"SELECT * FROM table_with_uuid;\")\n",
    "for i in rows:\n",
    "    print(i)\n",
    "    # Extract the timestamp from Cassandra's timeuuid\n",
    "    print(\"Datetime:\", datetime_from_uuid1(i.id))"
   ]
  },
  {
   "cell_type": "markdown",
   "metadata": {
    "slideshow": {
     "slide_type": "slide"
    }
   },
   "source": [
    "## JSON in Cassandra\n",
    "### Read previously saved JSON file forecast.json to memory"
   ]
  },
  {
   "cell_type": "code",
   "execution_count": 14,
   "metadata": {
    "slideshow": {
     "slide_type": "-"
    }
   },
   "outputs": [],
   "source": [
    "import json\n",
    "with open('../3_APIs/downloads/forecast.json', 'r') as f:\n",
    "    forecast = json.load(f)"
   ]
  },
  {
   "cell_type": "code",
   "execution_count": 15,
   "metadata": {
    "slideshow": {
     "slide_type": "slide"
    }
   },
   "outputs": [
    {
     "data": {
      "text/plain": [
       "\"{'cod': '200', 'message': 0, 'cnt': 40, 'list': [{'dt': 1696582800, 'main': {'temp': 280.43, 'feels_like': 280.43, 'temp_min': 279.34, 'temp_max': 280.43, 'pressure': 1005, 'sea_level': 1005, 'grnd_level': 984, 'humidity': 95, 'temp_kf': 1.09}, 'weather': [{'id': 500, 'main': 'Rain', 'description': 'light rain', 'icon': '10d'}], 'clouds': {'all': 100}, 'wind': {'speed': 0.57, 'deg': 13, 'gust': 0.75}, 'visibility': 9465, 'pop': 1, 'rain': {'3h': 2.61}, 'sys': {'pod': 'd'}, 'dt_txt': '2023-10-06 09:00:00'}, {'dt': 1696593600, 'main': {'temp': 280.33, 'feels_like': 280.33, 'temp_min': 280, 'temp_max': 280.33, 'pressure': 1001, 'sea_level': 1001, 'grnd_level': 980, 'humidity': 95, 'temp_kf': 0.33}, 'weather': [{'id': 500, 'main': 'Rain', 'description': 'light rain', 'icon': '10d'}], 'clouds': {'all': 100}, 'wind': {'speed': 0.67, 'deg': 244, 'gust': 1.29}, 'visibility': 10000, 'pop': 1, 'rain': {'3h': 0.15}, 'sys': {'pod': 'd'}, 'dt_txt': '2023-10-06 12:00:00'}, {'dt': 1696604400, 'main': {'temp': 283.84, 'feels_like': 283.21, 'temp_min': 283.84, 'temp_max': 283.84, 'pressure': 992, 'sea_level': 992, 'grnd_level': 974, 'humidity': 86, 'temp_kf': 0}, 'weather': [{'id': 804, 'main': 'Clouds', 'description': 'overcast clouds', 'icon': '04d'}], 'clouds': {'all': 92}, 'wind': {'speed': 1.72, 'deg': 206, 'gust': 7.07}, 'visibility': 10000, 'pop': 0, 'sys': {'pod': 'd'}, 'dt_txt': '2023-10-06 15:00:00'}, {'dt': 1696615200, 'main': {'temp': 281.62, 'feels_like': 281.62, 'temp_min': 281.62, 'temp_max': 281.62, 'pressure': 992, 'sea_level': 992, 'grnd_level': 974, 'humidity': 89, 'temp_kf': 0}, 'weather': [{'id': 803, 'main': 'Clouds', 'description': 'broken clouds', 'icon': '04n'}], 'clouds': {'all': 66}, 'wind': {'speed': 1.27, 'deg': 266, 'gust': 4.46}, 'visibility': 10000, 'pop': 0, 'sys': {'pod': 'n'}, 'dt_txt': '2023-10-06 18:00:00'}, {'dt': 1696626000, 'main': {'temp': 279.94, 'feels_like': 277.9, 'temp_min': 279.94, 'temp_max': 279.94, 'pressure': 997, 'sea_level': 997, 'grnd_level': 979, 'humidity': 92, 'temp_kf': 0}, 'weather': [{'id': 500, 'main': 'Rain', 'description': 'light rain', 'icon': '10n'}], 'clouds': {'all': 93}, 'wind': {'speed': 2.87, 'deg': 330, 'gust': 6.56}, 'visibility': 10000, 'pop': 0.66, 'rain': {'3h': 0.36}, 'sys': {'pod': 'n'}, 'dt_txt': '2023-10-06 21:00:00'}, {'dt': 1696636800, 'main': {'temp': 277.56, 'feels_like': 275.42, 'temp_min': 277.56, 'temp_max': 277.56, 'pressure': 1002, 'sea_level': 1002, 'grnd_level': 984, 'humidity': 95, 'temp_kf': 0}, 'weather': [{'id': 803, 'main': 'Clouds', 'description': 'broken clouds', 'icon': '04n'}], 'clouds': {'all': 70}, 'wind': {'speed': 2.42, 'deg': 334, 'gust': 4.52}, 'visibility': 10000, 'pop': 0.03, 'sys': {'pod': 'n'}, 'dt_txt': '2023-10-07 00:00:00'}, {'dt': 1696647600, 'main': {'temp': 278.57, 'feels_like': 277.11, 'temp_min': 278.57, 'temp_max': 278.57, 'pressure': 1004, 'sea_level': 1004, 'grnd_level': 986, 'humidity': 89, 'temp_kf': 0}, 'weather': [{'id': 500, 'main': 'Rain', 'description': 'light rain', 'icon': '10n'}], 'clouds': {'all': 71}, 'wind': {'speed': 1.9, 'deg': 349, 'gust': 5.04}, 'visibility': 10000, 'pop': 0.28, 'rain': {'3h': 0.25}, 'sys': {'pod': 'n'}, 'dt_txt': '2023-10-07 03:00:00'}, {'dt': 1696658400, 'main': {'temp': 277.15, 'feels_like': 275.69, 'temp_min': 277.15, 'temp_max': 277.15, 'pressure': 1008, 'sea_level': 1008, 'grnd_level': 989, 'humidity': 95, 'temp_kf': 0}, 'weather': [{'id': 500, 'main': 'Rain', 'description': 'light rain', 'icon': '10d'}], 'clouds': {'all': 83}, 'wind': {'speed': 1.71, 'deg': 295, 'gust': 2.01}, 'visibility': 10000, 'pop': 0.32, 'rain': {'3h': 0.49}, 'sys': {'pod': 'd'}, 'dt_txt': '2023-10-07 06:00:00'}, {'dt': 1696669200, 'main': {'temp': 281.36, 'feels_like': 281.36, 'temp_min': 281.36, 'temp_max': 281.36, 'pressure': 1009, 'sea_level': 1009, 'grnd_level': 991, 'humidity': 66, 'temp_kf': 0}, 'weather': [{'id': 803, 'main': 'Clouds', 'description': 'broken clouds', 'icon': '04d'}], 'clouds': {'all': 54}, 'wind': {'speed': 1.25, 'deg': 347, 'gust': 3.3}, 'visibility': 10000, 'pop': 0, 'sys': {'pod': 'd'}, 'dt_txt': '2023-10-07 09:00:00'}, {'dt': 1696680000, 'main': {'temp': 282.76, 'feels_like': 281.26, 'temp_min': 282.76, 'temp_max': 282.76, 'pressure': 1011, 'sea_level': 1011, 'grnd_level': 992, 'humidity': 45, 'temp_kf': 0}, 'weather': [{'id': 802, 'main': 'Clouds', 'description': 'scattered clouds', 'icon': '03d'}], 'clouds': {'all': 34}, 'wind': {'speed': 2.89, 'deg': 340, 'gust': 5.26}, 'visibility': 10000, 'pop': 0, 'sys': {'pod': 'd'}, 'dt_txt': '2023-10-07 12:00:00'}, {'dt': 1696690800, 'main': {'temp': 281.46, 'feels_like': 279.89, 'temp_min': 281.46, 'temp_max': 281.46, 'pressure': 1013, 'sea_level': 1013, 'grnd_level': 995, 'humidity': 47, 'temp_kf': 0}, 'weather': [{'id': 801, 'main': 'Clouds', 'description': 'few clouds', 'icon': '02d'}], 'clouds': {'all': 22}, 'wind': {'speed': 2.61, 'deg': 357, 'gust': 5.99}, 'visibility': 10000, 'pop': 0.14, 'sys': {'pod': 'd'}, 'dt_txt': '2023-10-07 15:00:00'}, {'dt': 1696701600, 'main': {'temp': 276.07, 'feels_like': 273.69, 'temp_min': 276.07, 'temp_max': 276.07, 'pressure': 1017, 'sea_level': 1017, 'grnd_level': 998, 'humidity': 72, 'temp_kf': 0}, 'weather': [{'id': 801, 'main': 'Clouds', 'description': 'few clouds', 'icon': '02n'}], 'clouds': {'all': 13}, 'wind': {'speed': 2.39, 'deg': 305, 'gust': 3.85}, 'visibility': 10000, 'pop': 0.06, 'sys': {'pod': 'n'}, 'dt_txt': '2023-10-07 18:00:00'}, {'dt': 1696712400, 'main': {'temp': 274.85, 'feels_like': 272.21, 'temp_min': 274.85, 'temp_max': 274.85, 'pressure': 1020, 'sea_level': 1020, 'grnd_level': 1001, 'humidity': 72, 'temp_kf': 0}, 'weather': [{'id': 800, 'main': 'Clear', 'description': 'clear sky', 'icon': '01n'}], 'clouds': {'all': 0}, 'wind': {'speed': 2.43, 'deg': 292, 'gust': 3.03}, 'visibility': 10000, 'pop': 0, 'sys': {'pod': 'n'}, 'dt_txt': '2023-10-07 21:00:00'}, {'dt': 1696723200, 'main': {'temp': 274.49, 'feels_like': 271.86, 'temp_min': 274.49, 'temp_max': 274.49, 'pressure': 1022, 'sea_level': 1022, 'grnd_level': 1003, 'humidity': 70, 'temp_kf': 0}, 'weather': [{'id': 800, 'main': 'Clear', 'description': 'clear sky', 'icon': '01n'}], 'clouds': {'all': 0}, 'wind': {'speed': 2.36, 'deg': 291, 'gust': 2.74}, 'visibility': 10000, 'pop': 0, 'sys': {'pod': 'n'}, 'dt_txt': '2023-10-08 00:00:00'}, {'dt': 1696734000, 'main': {'temp': 274.22, 'feels_like': 271.68, 'temp_min': 274.22, 'temp_max': 274.22, 'pressure': 1024, 'sea_level': 1024, 'grnd_level': 1005, 'humidity': 71, 'temp_kf': 0}, 'weather': [{'id': 800, 'main': 'Clear', 'description': 'clear sky', 'icon': '01n'}], 'clouds': {'all': 1}, 'wind': {'speed': 2.23, 'deg': 291, 'gust': 2.53}, 'visibility': 10000, 'pop': 0, 'sys': {'pod': 'n'}, 'dt_txt': '2023-10-08 03:00:00'}, {'dt': 1696744800, 'main': {'temp': 274.18, 'feels_like': 271.81, 'temp_min': 274.18, 'temp_max': 274.18, 'pressure': 1025, 'sea_level': 1025, 'grnd_level': 1006, 'humidity': 70, 'temp_kf': 0}, 'weather': [{'id': 800, 'main': 'Clear', 'description': 'clear sky', 'icon': '01d'}], 'clouds': {'all': 4}, 'wind': {'speed': 2.07, 'deg': 286, 'gust': 2.08}, 'visibility': 10000, 'pop': 0, 'sys': {'pod': 'd'}, 'dt_txt': '2023-10-08 06:00:00'}, {'dt': 1696755600, 'main': {'temp': 279.31, 'feels_like': 279.31, 'temp_min': 279.31, 'temp_max': 279.31, 'pressure': 1025, 'sea_level': 1025, 'grnd_level': 1006, 'humidity': 47, 'temp_kf': 0}, 'weather': [{'id': 803, 'main': 'Clouds', 'description': 'broken clouds', 'icon': '04d'}], 'clouds': {'all': 55}, 'wind': {'speed': 1.24, 'deg': 274, 'gust': 2.05}, 'visibility': 10000, 'pop': 0, 'sys': {'pod': 'd'}, 'dt_txt': '2023-10-08 09:00:00'}, {'dt': 1696766400, 'main': {'temp': 281.23, 'feels_like': 281.23, 'temp_min': 281.23, 'temp_max': 281.23, 'pressure': 1024, 'sea_level': 1024, 'grnd_level': 1006, 'humidity': 42, 'temp_kf': 0}, 'weather': [{'id': 803, 'main': 'Clouds', 'description': 'broken clouds', 'icon': '04d'}], 'clouds': {'all': 77}, 'wind': {'speed': 1.25, 'deg': 280, 'gust': 2.76}, 'visibility': 10000, 'pop': 0, 'sys': {'pod': 'd'}, 'dt_txt': '2023-10-08 12:00:00'}, {'dt': 1696777200, 'main': {'temp': 280.36, 'feels_like': 280.36, 'temp_min': 280.36, 'temp_max': 280.36, 'pressure': 1023, 'sea_level': 1023, 'grnd_level': 1004, 'humidity': 52, 'temp_kf': 0}, 'weather': [{'id': 804, 'main': 'Clouds', 'description': 'overcast clouds', 'icon': '04d'}], 'clouds': {'all': 100}, 'wind': {'speed': 1.33, 'deg': 333, 'gust': 2.31}, 'visibility': 10000, 'pop': 0, 'sys': {'pod': 'd'}, 'dt_txt': '2023-10-08 15:00:00'}, {'dt': 1696788000, 'main': {'temp': 276.38, 'feels_like': 274.56, 'temp_min': 276.38, 'temp_max': 276.38, 'pressure': 1024, 'sea_level': 1024, 'grnd_level': 1005, 'humidity': 68, 'temp_kf': 0}, 'weather': [{'id': 804, 'main': 'Clouds', 'description': 'overcast clouds', 'icon': '04n'}], 'clouds': {'all': 100}, 'wind': {'speed': 1.91, 'deg': 317, 'gust': 1.96}, 'visibility': 10000, 'pop': 0, 'sys': {'pod': 'n'}, 'dt_txt': '2023-10-08 18:00:00'}, {'dt': 1696798800, 'main': {'temp': 274.66, 'feels_like': 272.61, 'temp_min': 274.66, 'temp_max': 274.66, 'pressure': 1025, 'sea_level': 1025, 'grnd_level': 1006, 'humidity': 74, 'temp_kf': 0}, 'weather': [{'id': 802, 'main': 'Clouds', 'description': 'scattered clouds', 'icon': '03n'}], 'clouds': {'all': 36}, 'wind': {'speed': 1.87, 'deg': 301, 'gust': 1.79}, 'visibility': 10000, 'pop': 0, 'sys': {'pod': 'n'}, 'dt_txt': '2023-10-08 21:00:00'}, {'dt': 1696809600, 'main': {'temp': 274.24, 'feels_like': 272.35, 'temp_min': 274.24, 'temp_max': 274.24, 'pressure': 1024, 'sea_level': 1024, 'grnd_level': 1005, 'humidity': 74, 'temp_kf': 0}, 'weather': [{'id': 801, 'main': 'Clouds', 'description': 'few clouds', 'icon': '02n'}], 'clouds': {'all': 18}, 'wind': {'speed': 1.7, 'deg': 292, 'gust': 1.59}, 'visibility': 10000, 'pop': 0, 'sys': {'pod': 'n'}, 'dt_txt': '2023-10-09 00:00:00'}, {'dt': 1696820400, 'main': {'temp': 274.34, 'feels_like': 272.58, 'temp_min': 274.34, 'temp_max': 274.34, 'pressure': 1023, 'sea_level': 1023, 'grnd_level': 1004, 'humidity': 74, 'temp_kf': 0}, 'weather': [{'id': 802, 'main': 'Clouds', 'description': 'scattered clouds', 'icon': '03n'}], 'clouds': {'all': 38}, 'wind': {'speed': 1.62, 'deg': 296, 'gust': 1.57}, 'visibility': 10000, 'pop': 0, 'sys': {'pod': 'n'}, 'dt_txt': '2023-10-09 03:00:00'}, {'dt': 1696831200, 'main': {'temp': 274.62, 'feels_like': 274.62, 'temp_min': 274.62, 'temp_max': 274.62, 'pressure': 1021, 'sea_level': 1021, 'grnd_level': 1002, 'humidity': 74, 'temp_kf': 0}, 'weather': [{'id': 803, 'main': 'Clouds', 'description': 'broken clouds', 'icon': '04d'}], 'clouds': {'all': 68}, 'wind': {'speed': 1.17, 'deg': 304, 'gust': 1.24}, 'visibility': 10000, 'pop': 0, 'sys': {'pod': 'd'}, 'dt_txt': '2023-10-09 06:00:00'}, {'dt': 1696842000, 'main': {'temp': 278.23, 'feels_like': 278.23, 'temp_min': 278.23, 'temp_max': 278.23, 'pressure': 1018, 'sea_level': 1018, 'grnd_level': 999, 'humidity': 57, 'temp_kf': 0}, 'weather': [{'id': 804, 'main': 'Clouds', 'description': 'overcast clouds', 'icon': '04d'}], 'clouds': {'all': 100}, 'wind': {'speed': 1.11, 'deg': 151, 'gust': 1.28}, 'visibility': 10000, 'pop': 0, 'sys': {'pod': 'd'}, 'dt_txt': '2023-10-09 09:00:00'}, {'dt': 1696852800, 'main': {'temp': 279.08, 'feels_like': 277.25, 'temp_min': 279.08, 'temp_max': 279.08, 'pressure': 1013, 'sea_level': 1013, 'grnd_level': 995, 'humidity': 54, 'temp_kf': 0}, 'weather': [{'id': 804, 'main': 'Clouds', 'description': 'overcast clouds', 'icon': '04d'}], 'clouds': {'all': 100}, 'wind': {'speed': 2.38, 'deg': 160, 'gust': 3.5}, 'visibility': 10000, 'pop': 0, 'sys': {'pod': 'd'}, 'dt_txt': '2023-10-09 12:00:00'}, {'dt': 1696863600, 'main': {'temp': 275.63, 'feels_like': 275.63, 'temp_min': 275.63, 'temp_max': 275.63, 'pressure': 1011, 'sea_level': 1011, 'grnd_level': 992, 'humidity': 94, 'temp_kf': 0}, 'weather': [{'id': 601, 'main': 'Snow', 'description': 'snow', 'icon': '13d'}], 'clouds': {'all': 100}, 'wind': {'speed': 0.14, 'deg': 126, 'gust': 0.49}, 'visibility': 9837, 'pop': 1, 'snow': {'3h': 2.03}, 'sys': {'pod': 'd'}, 'dt_txt': '2023-10-09 15:00:00'}, {'dt': 1696874400, 'main': {'temp': 275.93, 'feels_like': 275.93, 'temp_min': 275.93, 'temp_max': 275.93, 'pressure': 1008, 'sea_level': 1008, 'grnd_level': 989, 'humidity': 91, 'temp_kf': 0}, 'weather': [{'id': 500, 'main': 'Rain', 'description': 'light rain', 'icon': '10n'}, {'id': 511, 'main': 'Rain', 'description': 'freezing rain', 'icon': '13n'}], 'clouds': {'all': 100}, 'wind': {'speed': 0.46, 'deg': 244, 'gust': 0.89}, 'visibility': 10000, 'pop': 1, 'rain': {'3h': 0.18}, 'sys': {'pod': 'n'}, 'dt_txt': '2023-10-09 18:00:00'}, {'dt': 1696885200, 'main': {'temp': 276.72, 'feels_like': 276.72, 'temp_min': 276.72, 'temp_max': 276.72, 'pressure': 1006, 'sea_level': 1006, 'grnd_level': 987, 'humidity': 88, 'temp_kf': 0}, 'weather': [{'id': 804, 'main': 'Clouds', 'description': 'overcast clouds', 'icon': '04n'}], 'clouds': {'all': 100}, 'wind': {'speed': 0.91, 'deg': 340, 'gust': 1.53}, 'visibility': 10000, 'pop': 0, 'sys': {'pod': 'n'}, 'dt_txt': '2023-10-09 21:00:00'}, {'dt': 1696896000, 'main': {'temp': 274.93, 'feels_like': 274.93, 'temp_min': 274.93, 'temp_max': 274.93, 'pressure': 1006, 'sea_level': 1006, 'grnd_level': 987, 'humidity': 93, 'temp_kf': 0}, 'weather': [{'id': 804, 'main': 'Clouds', 'description': 'overcast clouds', 'icon': '04n'}], 'clouds': {'all': 100}, 'wind': {'speed': 1.09, 'deg': 295, 'gust': 0.95}, 'visibility': 10000, 'pop': 0, 'sys': {'pod': 'n'}, 'dt_txt': '2023-10-10 00:00:00'}, {'dt': 1696906800, 'main': {'temp': 275.32, 'feels_like': 275.32, 'temp_min': 275.32, 'temp_max': 275.32, 'pressure': 1005, 'sea_level': 1005, 'grnd_level': 986, 'humidity': 93, 'temp_kf': 0}, 'weather': [{'id': 804, 'main': 'Clouds', 'description': 'overcast clouds', 'icon': '04n'}], 'clouds': {'all': 100}, 'wind': {'speed': 1.04, 'deg': 274, 'gust': 0.92}, 'visibility': 10000, 'pop': 0, 'sys': {'pod': 'n'}, 'dt_txt': '2023-10-10 03:00:00'}, {'dt': 1696917600, 'main': {'temp': 276.94, 'feels_like': 275.19, 'temp_min': 276.94, 'temp_max': 276.94, 'pressure': 1004, 'sea_level': 1004, 'grnd_level': 986, 'humidity': 93, 'temp_kf': 0}, 'weather': [{'id': 804, 'main': 'Clouds', 'description': 'overcast clouds', 'icon': '04d'}], 'clouds': {'all': 100}, 'wind': {'speed': 1.93, 'deg': 286, 'gust': 1.57}, 'visibility': 10000, 'pop': 0, 'sys': {'pod': 'd'}, 'dt_txt': '2023-10-10 06:00:00'}, {'dt': 1696928400, 'main': {'temp': 282.12, 'feels_like': 282.12, 'temp_min': 282.12, 'temp_max': 282.12, 'pressure': 1003, 'sea_level': 1003, 'grnd_level': 985, 'humidity': 79, 'temp_kf': 0}, 'weather': [{'id': 804, 'main': 'Clouds', 'description': 'overcast clouds', 'icon': '04d'}], 'clouds': {'all': 100}, 'wind': {'speed': 1.32, 'deg': 252, 'gust': 2.25}, 'visibility': 10000, 'pop': 0, 'sys': {'pod': 'd'}, 'dt_txt': '2023-10-10 09:00:00'}, {'dt': 1696939200, 'main': {'temp': 283.87, 'feels_like': 282.88, 'temp_min': 283.87, 'temp_max': 283.87, 'pressure': 1001, 'sea_level': 1001, 'grnd_level': 983, 'humidity': 72, 'temp_kf': 0}, 'weather': [{'id': 804, 'main': 'Clouds', 'description': 'overcast clouds', 'icon': '04d'}], 'clouds': {'all': 100}, 'wind': {'speed': 1.42, 'deg': 221, 'gust': 2.46}, 'visibility': 10000, 'pop': 0, 'sys': {'pod': 'd'}, 'dt_txt': '2023-10-10 12:00:00'}, {'dt': 1696950000, 'main': {'temp': 281.72, 'feels_like': 281.1, 'temp_min': 281.72, 'temp_max': 281.72, 'pressure': 998, 'sea_level': 998, 'grnd_level': 980, 'humidity': 89, 'temp_kf': 0}, 'weather': [{'id': 804, 'main': 'Clouds', 'description': 'overcast clouds', 'icon': '04d'}], 'clouds': {'all': 100}, 'wind': {'speed': 1.56, 'deg': 217, 'gust': 1.43}, 'visibility': 10000, 'pop': 0, 'sys': {'pod': 'd'}, 'dt_txt': '2023-10-10 15:00:00'}, {'dt': 1696960800, 'main': {'temp': 279.83, 'feels_like': 279.83, 'temp_min': 279.83, 'temp_max': 279.83, 'pressure': 995, 'sea_level': 995, 'grnd_level': 977, 'humidity': 96, 'temp_kf': 0}, 'weather': [{'id': 804, 'main': 'Clouds', 'description': 'overcast clouds', 'icon': '04n'}], 'clouds': {'all': 100}, 'wind': {'speed': 1.24, 'deg': 205, 'gust': 1.23}, 'visibility': 10000, 'pop': 0, 'sys': {'pod': 'n'}, 'dt_txt': '2023-10-10 18:00:00'}, {'dt': 1696971600, 'main': {'temp': 280, 'feels_like': 280, 'temp_min': 280, 'temp_max': 280, 'pressure': 991, 'sea_level': 991, 'grnd_level': 973, 'humidity': 95, 'temp_kf': 0}, 'weather': [{'id': 804, 'main': 'Clouds', 'description': 'overcast clouds', 'icon': '04n'}], 'clouds': {'all': 100}, 'wind': {'speed': 1.11, 'deg': 244, 'gust': 1.01}, 'visibility': 10000, 'pop': 0, 'sys': {'pod': 'n'}, 'dt_txt': '2023-10-10 21:00:00'}, {'dt': 1696982400, 'main': {'temp': 278.25, 'feels_like': 277.24, 'temp_min': 278.25, 'temp_max': 278.25, 'pressure': 989, 'sea_level': 989, 'grnd_level': 971, 'humidity': 96, 'temp_kf': 0}, 'weather': [{'id': 803, 'main': 'Clouds', 'description': 'broken clouds', 'icon': '04n'}], 'clouds': {'all': 81}, 'wind': {'speed': 1.48, 'deg': 242, 'gust': 1.28}, 'visibility': 10000, 'pop': 0, 'sys': {'pod': 'n'}, 'dt_txt': '2023-10-11 00:00:00'}, {'dt': 1696993200, 'main': {'temp': 280.04, 'feels_like': 278.97, 'temp_min': 280.04, 'temp_max': 280.04, 'pressure': 987, 'sea_level': 987, 'grnd_level': 969, 'humidity': 95, 'temp_kf': 0}, 'weather': [{'id': 803, 'main': 'Clouds', 'description': 'broken clouds', 'icon': '04n'}], 'clouds': {'all': 82}, 'wind': {'speed': 1.75, 'deg': 233, 'gust': 2.28}, 'visibility': 10000, 'pop': 0, 'sys': {'pod': 'n'}, 'dt_txt': '2023-10-11 03:00:00'}, {'dt': 1697004000, 'main': {'temp': 277.98, 'feels_like': 276.1, 'temp_min': 277.98, 'temp_max': 277.98, 'pressure': 986, 'sea_level': 986, 'grnd_level': 968, 'humidity': 85, 'temp_kf': 0}, 'weather': [{'id': 802, 'main': 'Clouds', 'description': 'scattered clouds', 'icon': '03d'}], 'clouds': {'all': 50}, 'wind': {'speed': 2.22, 'deg': 239, 'gust': 5.56}, 'visibility': 10000, 'pop': 0, 'sys': {'pod': 'd'}, 'dt_txt': '2023-10-11 06:00:00'}], 'city': {'id': 3144113, 'name': 'Noresund', 'coord': {'lat': 60.1803, 'lon': 9.6231}, 'country': 'NO', 'population': 1000, 'timezone': 7200, 'sunrise': 1696570673, 'sunset': 1696610483}}\""
      ]
     },
     "execution_count": 15,
     "metadata": {},
     "output_type": "execute_result"
    }
   ],
   "source": [
    "# Inspect JSON file\n",
    "forecast.__str__()"
   ]
  },
  {
   "cell_type": "markdown",
   "metadata": {
    "slideshow": {
     "slide_type": "slide"
    }
   },
   "source": [
    "## Raw JSON\n",
    "- A simple, but not very efficient way of storing JSON data is to treat it as a text and save it directly to the database.  \n",
    "- More efficient, with regard to transfer, is to compress the JSON data to a blob first.\n",
    "    - Compression is automatic."
   ]
  },
  {
   "cell_type": "code",
   "execution_count": 16,
   "metadata": {
    "slideshow": {
     "slide_type": "-"
    }
   },
   "outputs": [
    {
     "data": {
      "text/plain": [
       "<cassandra.cluster.ResultSet at 0x10b8d0a30>"
      ]
     },
     "execution_count": 16,
     "metadata": {},
     "output_type": "execute_result"
    }
   ],
   "source": [
    "# Create a new table which treats the whole JSON as a blob, using the city id and the first dt as keys\n",
    "session.set_keyspace('my_first_keyspace')\n",
    "session.execute(\"DROP TABLE IF EXISTS my_first_keyspace.forecast_table;\")\n",
    "session.execute(\"CREATE TABLE IF NOT EXISTS forecast_table (city_id int, dt int, forecast blob, PRIMARY KEY(city_id, dt));\")"
   ]
  },
  {
   "cell_type": "markdown",
   "metadata": {
    "slideshow": {
     "slide_type": "slide"
    }
   },
   "source": [
    "### Insert the forecast data into the table as text blob"
   ]
  },
  {
   "cell_type": "code",
   "execution_count": 17,
   "metadata": {
    "slideshow": {
     "slide_type": "-"
    }
   },
   "outputs": [
    {
     "data": {
      "text/plain": [
       "<cassandra.cluster.ResultSet at 0x10ac15870>"
      ]
     },
     "execution_count": 17,
     "metadata": {},
     "output_type": "execute_result"
    }
   ],
   "source": [
    "session.execute(\"INSERT INTO forecast_table (city_id, dt, forecast) VALUES (%s, %s, textAsBlob(%s));\", (forecast['city']['id'], forecast['list'][0]['dt'], forecast.__str__()))"
   ]
  },
  {
   "cell_type": "code",
   "execution_count": 18,
   "metadata": {
    "slideshow": {
     "slide_type": "slide"
    }
   },
   "outputs": [
    {
     "name": "stdout",
     "output_type": "stream",
     "text": [
      "Row(city_id=3144113, dt=1696582800, forecast=b\"{'cod': '200', 'message': 0, 'cnt': 40, 'list': [{'dt': 1696582800, 'main': {'temp': 280.43, 'feels_like': 280.43, 'temp_min': 279.34, 'temp_max': 280.43, 'pressure': 1005, 'sea_level': 1005, 'grnd_level': 984, 'humidity': 95, 'temp_kf': 1.09}, 'weather': [{'id': 500, 'main': 'Rain', 'description': 'light rain', 'icon': '10d'}], 'clouds': {'all': 100}, 'wind': {'speed': 0.57, 'deg': 13, 'gust': 0.75}, 'visibility': 9465, 'pop': 1, 'rain': {'3h': 2.61}, 'sys': {'pod': 'd'}, 'dt_txt': '2023-10-06 09:00:00'}, {'dt': 1696593600, 'main': {'temp': 280.33, 'feels_like': 280.33, 'temp_min': 280, 'temp_max': 280.33, 'pressure': 1001, 'sea_level': 1001, 'grnd_level': 980, 'humidity': 95, 'temp_kf': 0.33}, 'weather': [{'id': 500, 'main': 'Rain', 'description': 'light rain', 'icon': '10d'}], 'clouds': {'all': 100}, 'wind': {'speed': 0.67, 'deg': 244, 'gust': 1.29}, 'visibility': 10000, 'pop': 1, 'rain': {'3h': 0.15}, 'sys': {'pod': 'd'}, 'dt_txt': '2023-10-06 12:00:00'}, {'dt': 1696604400, 'main': {'temp': 283.84, 'feels_like': 283.21, 'temp_min': 283.84, 'temp_max': 283.84, 'pressure': 992, 'sea_level': 992, 'grnd_level': 974, 'humidity': 86, 'temp_kf': 0}, 'weather': [{'id': 804, 'main': 'Clouds', 'description': 'overcast clouds', 'icon': '04d'}], 'clouds': {'all': 92}, 'wind': {'speed': 1.72, 'deg': 206, 'gust': 7.07}, 'visibility': 10000, 'pop': 0, 'sys': {'pod': 'd'}, 'dt_txt': '2023-10-06 15:00:00'}, {'dt': 1696615200, 'main': {'temp': 281.62, 'feels_like': 281.62, 'temp_min': 281.62, 'temp_max': 281.62, 'pressure': 992, 'sea_level': 992, 'grnd_level': 974, 'humidity': 89, 'temp_kf': 0}, 'weather': [{'id': 803, 'main': 'Clouds', 'description': 'broken clouds', 'icon': '04n'}], 'clouds': {'all': 66}, 'wind': {'speed': 1.27, 'deg': 266, 'gust': 4.46}, 'visibility': 10000, 'pop': 0, 'sys': {'pod': 'n'}, 'dt_txt': '2023-10-06 18:00:00'}, {'dt': 1696626000, 'main': {'temp': 279.94, 'feels_like': 277.9, 'temp_min': 279.94, 'temp_max': 279.94, 'pressure': 997, 'sea_level': 997, 'grnd_level': 979, 'humidity': 92, 'temp_kf': 0}, 'weather': [{'id': 500, 'main': 'Rain', 'description': 'light rain', 'icon': '10n'}], 'clouds': {'all': 93}, 'wind': {'speed': 2.87, 'deg': 330, 'gust': 6.56}, 'visibility': 10000, 'pop': 0.66, 'rain': {'3h': 0.36}, 'sys': {'pod': 'n'}, 'dt_txt': '2023-10-06 21:00:00'}, {'dt': 1696636800, 'main': {'temp': 277.56, 'feels_like': 275.42, 'temp_min': 277.56, 'temp_max': 277.56, 'pressure': 1002, 'sea_level': 1002, 'grnd_level': 984, 'humidity': 95, 'temp_kf': 0}, 'weather': [{'id': 803, 'main': 'Clouds', 'description': 'broken clouds', 'icon': '04n'}], 'clouds': {'all': 70}, 'wind': {'speed': 2.42, 'deg': 334, 'gust': 4.52}, 'visibility': 10000, 'pop': 0.03, 'sys': {'pod': 'n'}, 'dt_txt': '2023-10-07 00:00:00'}, {'dt': 1696647600, 'main': {'temp': 278.57, 'feels_like': 277.11, 'temp_min': 278.57, 'temp_max': 278.57, 'pressure': 1004, 'sea_level': 1004, 'grnd_level': 986, 'humidity': 89, 'temp_kf': 0}, 'weather': [{'id': 500, 'main': 'Rain', 'description': 'light rain', 'icon': '10n'}], 'clouds': {'all': 71}, 'wind': {'speed': 1.9, 'deg': 349, 'gust': 5.04}, 'visibility': 10000, 'pop': 0.28, 'rain': {'3h': 0.25}, 'sys': {'pod': 'n'}, 'dt_txt': '2023-10-07 03:00:00'}, {'dt': 1696658400, 'main': {'temp': 277.15, 'feels_like': 275.69, 'temp_min': 277.15, 'temp_max': 277.15, 'pressure': 1008, 'sea_level': 1008, 'grnd_level': 989, 'humidity': 95, 'temp_kf': 0}, 'weather': [{'id': 500, 'main': 'Rain', 'description': 'light rain', 'icon': '10d'}], 'clouds': {'all': 83}, 'wind': {'speed': 1.71, 'deg': 295, 'gust': 2.01}, 'visibility': 10000, 'pop': 0.32, 'rain': {'3h': 0.49}, 'sys': {'pod': 'd'}, 'dt_txt': '2023-10-07 06:00:00'}, {'dt': 1696669200, 'main': {'temp': 281.36, 'feels_like': 281.36, 'temp_min': 281.36, 'temp_max': 281.36, 'pressure': 1009, 'sea_level': 1009, 'grnd_level': 991, 'humidity': 66, 'temp_kf': 0}, 'weather': [{'id': 803, 'main': 'Clouds', 'description': 'broken clouds', 'icon': '04d'}], 'clouds': {'all': 54}, 'wind': {'speed': 1.25, 'deg': 347, 'gust': 3.3}, 'visibility': 10000, 'pop': 0, 'sys': {'pod': 'd'}, 'dt_txt': '2023-10-07 09:00:00'}, {'dt': 1696680000, 'main': {'temp': 282.76, 'feels_like': 281.26, 'temp_min': 282.76, 'temp_max': 282.76, 'pressure': 1011, 'sea_level': 1011, 'grnd_level': 992, 'humidity': 45, 'temp_kf': 0}, 'weather': [{'id': 802, 'main': 'Clouds', 'description': 'scattered clouds', 'icon': '03d'}], 'clouds': {'all': 34}, 'wind': {'speed': 2.89, 'deg': 340, 'gust': 5.26}, 'visibility': 10000, 'pop': 0, 'sys': {'pod': 'd'}, 'dt_txt': '2023-10-07 12:00:00'}, {'dt': 1696690800, 'main': {'temp': 281.46, 'feels_like': 279.89, 'temp_min': 281.46, 'temp_max': 281.46, 'pressure': 1013, 'sea_level': 1013, 'grnd_level': 995, 'humidity': 47, 'temp_kf': 0}, 'weather': [{'id': 801, 'main': 'Clouds', 'description': 'few clouds', 'icon': '02d'}], 'clouds': {'all': 22}, 'wind': {'speed': 2.61, 'deg': 357, 'gust': 5.99}, 'visibility': 10000, 'pop': 0.14, 'sys': {'pod': 'd'}, 'dt_txt': '2023-10-07 15:00:00'}, {'dt': 1696701600, 'main': {'temp': 276.07, 'feels_like': 273.69, 'temp_min': 276.07, 'temp_max': 276.07, 'pressure': 1017, 'sea_level': 1017, 'grnd_level': 998, 'humidity': 72, 'temp_kf': 0}, 'weather': [{'id': 801, 'main': 'Clouds', 'description': 'few clouds', 'icon': '02n'}], 'clouds': {'all': 13}, 'wind': {'speed': 2.39, 'deg': 305, 'gust': 3.85}, 'visibility': 10000, 'pop': 0.06, 'sys': {'pod': 'n'}, 'dt_txt': '2023-10-07 18:00:00'}, {'dt': 1696712400, 'main': {'temp': 274.85, 'feels_like': 272.21, 'temp_min': 274.85, 'temp_max': 274.85, 'pressure': 1020, 'sea_level': 1020, 'grnd_level': 1001, 'humidity': 72, 'temp_kf': 0}, 'weather': [{'id': 800, 'main': 'Clear', 'description': 'clear sky', 'icon': '01n'}], 'clouds': {'all': 0}, 'wind': {'speed': 2.43, 'deg': 292, 'gust': 3.03}, 'visibility': 10000, 'pop': 0, 'sys': {'pod': 'n'}, 'dt_txt': '2023-10-07 21:00:00'}, {'dt': 1696723200, 'main': {'temp': 274.49, 'feels_like': 271.86, 'temp_min': 274.49, 'temp_max': 274.49, 'pressure': 1022, 'sea_level': 1022, 'grnd_level': 1003, 'humidity': 70, 'temp_kf': 0}, 'weather': [{'id': 800, 'main': 'Clear', 'description': 'clear sky', 'icon': '01n'}], 'clouds': {'all': 0}, 'wind': {'speed': 2.36, 'deg': 291, 'gust': 2.74}, 'visibility': 10000, 'pop': 0, 'sys': {'pod': 'n'}, 'dt_txt': '2023-10-08 00:00:00'}, {'dt': 1696734000, 'main': {'temp': 274.22, 'feels_like': 271.68, 'temp_min': 274.22, 'temp_max': 274.22, 'pressure': 1024, 'sea_level': 1024, 'grnd_level': 1005, 'humidity': 71, 'temp_kf': 0}, 'weather': [{'id': 800, 'main': 'Clear', 'description': 'clear sky', 'icon': '01n'}], 'clouds': {'all': 1}, 'wind': {'speed': 2.23, 'deg': 291, 'gust': 2.53}, 'visibility': 10000, 'pop': 0, 'sys': {'pod': 'n'}, 'dt_txt': '2023-10-08 03:00:00'}, {'dt': 1696744800, 'main': {'temp': 274.18, 'feels_like': 271.81, 'temp_min': 274.18, 'temp_max': 274.18, 'pressure': 1025, 'sea_level': 1025, 'grnd_level': 1006, 'humidity': 70, 'temp_kf': 0}, 'weather': [{'id': 800, 'main': 'Clear', 'description': 'clear sky', 'icon': '01d'}], 'clouds': {'all': 4}, 'wind': {'speed': 2.07, 'deg': 286, 'gust': 2.08}, 'visibility': 10000, 'pop': 0, 'sys': {'pod': 'd'}, 'dt_txt': '2023-10-08 06:00:00'}, {'dt': 1696755600, 'main': {'temp': 279.31, 'feels_like': 279.31, 'temp_min': 279.31, 'temp_max': 279.31, 'pressure': 1025, 'sea_level': 1025, 'grnd_level': 1006, 'humidity': 47, 'temp_kf': 0}, 'weather': [{'id': 803, 'main': 'Clouds', 'description': 'broken clouds', 'icon': '04d'}], 'clouds': {'all': 55}, 'wind': {'speed': 1.24, 'deg': 274, 'gust': 2.05}, 'visibility': 10000, 'pop': 0, 'sys': {'pod': 'd'}, 'dt_txt': '2023-10-08 09:00:00'}, {'dt': 1696766400, 'main': {'temp': 281.23, 'feels_like': 281.23, 'temp_min': 281.23, 'temp_max': 281.23, 'pressure': 1024, 'sea_level': 1024, 'grnd_level': 1006, 'humidity': 42, 'temp_kf': 0}, 'weather': [{'id': 803, 'main': 'Clouds', 'description': 'broken clouds', 'icon': '04d'}], 'clouds': {'all': 77}, 'wind': {'speed': 1.25, 'deg': 280, 'gust': 2.76}, 'visibility': 10000, 'pop': 0, 'sys': {'pod': 'd'}, 'dt_txt': '2023-10-08 12:00:00'}, {'dt': 1696777200, 'main': {'temp': 280.36, 'feels_like': 280.36, 'temp_min': 280.36, 'temp_max': 280.36, 'pressure': 1023, 'sea_level': 1023, 'grnd_level': 1004, 'humidity': 52, 'temp_kf': 0}, 'weather': [{'id': 804, 'main': 'Clouds', 'description': 'overcast clouds', 'icon': '04d'}], 'clouds': {'all': 100}, 'wind': {'speed': 1.33, 'deg': 333, 'gust': 2.31}, 'visibility': 10000, 'pop': 0, 'sys': {'pod': 'd'}, 'dt_txt': '2023-10-08 15:00:00'}, {'dt': 1696788000, 'main': {'temp': 276.38, 'feels_like': 274.56, 'temp_min': 276.38, 'temp_max': 276.38, 'pressure': 1024, 'sea_level': 1024, 'grnd_level': 1005, 'humidity': 68, 'temp_kf': 0}, 'weather': [{'id': 804, 'main': 'Clouds', 'description': 'overcast clouds', 'icon': '04n'}], 'clouds': {'all': 100}, 'wind': {'speed': 1.91, 'deg': 317, 'gust': 1.96}, 'visibility': 10000, 'pop': 0, 'sys': {'pod': 'n'}, 'dt_txt': '2023-10-08 18:00:00'}, {'dt': 1696798800, 'main': {'temp': 274.66, 'feels_like': 272.61, 'temp_min': 274.66, 'temp_max': 274.66, 'pressure': 1025, 'sea_level': 1025, 'grnd_level': 1006, 'humidity': 74, 'temp_kf': 0}, 'weather': [{'id': 802, 'main': 'Clouds', 'description': 'scattered clouds', 'icon': '03n'}], 'clouds': {'all': 36}, 'wind': {'speed': 1.87, 'deg': 301, 'gust': 1.79}, 'visibility': 10000, 'pop': 0, 'sys': {'pod': 'n'}, 'dt_txt': '2023-10-08 21:00:00'}, {'dt': 1696809600, 'main': {'temp': 274.24, 'feels_like': 272.35, 'temp_min': 274.24, 'temp_max': 274.24, 'pressure': 1024, 'sea_level': 1024, 'grnd_level': 1005, 'humidity': 74, 'temp_kf': 0}, 'weather': [{'id': 801, 'main': 'Clouds', 'description': 'few clouds', 'icon': '02n'}], 'clouds': {'all': 18}, 'wind': {'speed': 1.7, 'deg': 292, 'gust': 1.59}, 'visibility': 10000, 'pop': 0, 'sys': {'pod': 'n'}, 'dt_txt': '2023-10-09 00:00:00'}, {'dt': 1696820400, 'main': {'temp': 274.34, 'feels_like': 272.58, 'temp_min': 274.34, 'temp_max': 274.34, 'pressure': 1023, 'sea_level': 1023, 'grnd_level': 1004, 'humidity': 74, 'temp_kf': 0}, 'weather': [{'id': 802, 'main': 'Clouds', 'description': 'scattered clouds', 'icon': '03n'}], 'clouds': {'all': 38}, 'wind': {'speed': 1.62, 'deg': 296, 'gust': 1.57}, 'visibility': 10000, 'pop': 0, 'sys': {'pod': 'n'}, 'dt_txt': '2023-10-09 03:00:00'}, {'dt': 1696831200, 'main': {'temp': 274.62, 'feels_like': 274.62, 'temp_min': 274.62, 'temp_max': 274.62, 'pressure': 1021, 'sea_level': 1021, 'grnd_level': 1002, 'humidity': 74, 'temp_kf': 0}, 'weather': [{'id': 803, 'main': 'Clouds', 'description': 'broken clouds', 'icon': '04d'}], 'clouds': {'all': 68}, 'wind': {'speed': 1.17, 'deg': 304, 'gust': 1.24}, 'visibility': 10000, 'pop': 0, 'sys': {'pod': 'd'}, 'dt_txt': '2023-10-09 06:00:00'}, {'dt': 1696842000, 'main': {'temp': 278.23, 'feels_like': 278.23, 'temp_min': 278.23, 'temp_max': 278.23, 'pressure': 1018, 'sea_level': 1018, 'grnd_level': 999, 'humidity': 57, 'temp_kf': 0}, 'weather': [{'id': 804, 'main': 'Clouds', 'description': 'overcast clouds', 'icon': '04d'}], 'clouds': {'all': 100}, 'wind': {'speed': 1.11, 'deg': 151, 'gust': 1.28}, 'visibility': 10000, 'pop': 0, 'sys': {'pod': 'd'}, 'dt_txt': '2023-10-09 09:00:00'}, {'dt': 1696852800, 'main': {'temp': 279.08, 'feels_like': 277.25, 'temp_min': 279.08, 'temp_max': 279.08, 'pressure': 1013, 'sea_level': 1013, 'grnd_level': 995, 'humidity': 54, 'temp_kf': 0}, 'weather': [{'id': 804, 'main': 'Clouds', 'description': 'overcast clouds', 'icon': '04d'}], 'clouds': {'all': 100}, 'wind': {'speed': 2.38, 'deg': 160, 'gust': 3.5}, 'visibility': 10000, 'pop': 0, 'sys': {'pod': 'd'}, 'dt_txt': '2023-10-09 12:00:00'}, {'dt': 1696863600, 'main': {'temp': 275.63, 'feels_like': 275.63, 'temp_min': 275.63, 'temp_max': 275.63, 'pressure': 1011, 'sea_level': 1011, 'grnd_level': 992, 'humidity': 94, 'temp_kf': 0}, 'weather': [{'id': 601, 'main': 'Snow', 'description': 'snow', 'icon': '13d'}], 'clouds': {'all': 100}, 'wind': {'speed': 0.14, 'deg': 126, 'gust': 0.49}, 'visibility': 9837, 'pop': 1, 'snow': {'3h': 2.03}, 'sys': {'pod': 'd'}, 'dt_txt': '2023-10-09 15:00:00'}, {'dt': 1696874400, 'main': {'temp': 275.93, 'feels_like': 275.93, 'temp_min': 275.93, 'temp_max': 275.93, 'pressure': 1008, 'sea_level': 1008, 'grnd_level': 989, 'humidity': 91, 'temp_kf': 0}, 'weather': [{'id': 500, 'main': 'Rain', 'description': 'light rain', 'icon': '10n'}, {'id': 511, 'main': 'Rain', 'description': 'freezing rain', 'icon': '13n'}], 'clouds': {'all': 100}, 'wind': {'speed': 0.46, 'deg': 244, 'gust': 0.89}, 'visibility': 10000, 'pop': 1, 'rain': {'3h': 0.18}, 'sys': {'pod': 'n'}, 'dt_txt': '2023-10-09 18:00:00'}, {'dt': 1696885200, 'main': {'temp': 276.72, 'feels_like': 276.72, 'temp_min': 276.72, 'temp_max': 276.72, 'pressure': 1006, 'sea_level': 1006, 'grnd_level': 987, 'humidity': 88, 'temp_kf': 0}, 'weather': [{'id': 804, 'main': 'Clouds', 'description': 'overcast clouds', 'icon': '04n'}], 'clouds': {'all': 100}, 'wind': {'speed': 0.91, 'deg': 340, 'gust': 1.53}, 'visibility': 10000, 'pop': 0, 'sys': {'pod': 'n'}, 'dt_txt': '2023-10-09 21:00:00'}, {'dt': 1696896000, 'main': {'temp': 274.93, 'feels_like': 274.93, 'temp_min': 274.93, 'temp_max': 274.93, 'pressure': 1006, 'sea_level': 1006, 'grnd_level': 987, 'humidity': 93, 'temp_kf': 0}, 'weather': [{'id': 804, 'main': 'Clouds', 'description': 'overcast clouds', 'icon': '04n'}], 'clouds': {'all': 100}, 'wind': {'speed': 1.09, 'deg': 295, 'gust': 0.95}, 'visibility': 10000, 'pop': 0, 'sys': {'pod': 'n'}, 'dt_txt': '2023-10-10 00:00:00'}, {'dt': 1696906800, 'main': {'temp': 275.32, 'feels_like': 275.32, 'temp_min': 275.32, 'temp_max': 275.32, 'pressure': 1005, 'sea_level': 1005, 'grnd_level': 986, 'humidity': 93, 'temp_kf': 0}, 'weather': [{'id': 804, 'main': 'Clouds', 'description': 'overcast clouds', 'icon': '04n'}], 'clouds': {'all': 100}, 'wind': {'speed': 1.04, 'deg': 274, 'gust': 0.92}, 'visibility': 10000, 'pop': 0, 'sys': {'pod': 'n'}, 'dt_txt': '2023-10-10 03:00:00'}, {'dt': 1696917600, 'main': {'temp': 276.94, 'feels_like': 275.19, 'temp_min': 276.94, 'temp_max': 276.94, 'pressure': 1004, 'sea_level': 1004, 'grnd_level': 986, 'humidity': 93, 'temp_kf': 0}, 'weather': [{'id': 804, 'main': 'Clouds', 'description': 'overcast clouds', 'icon': '04d'}], 'clouds': {'all': 100}, 'wind': {'speed': 1.93, 'deg': 286, 'gust': 1.57}, 'visibility': 10000, 'pop': 0, 'sys': {'pod': 'd'}, 'dt_txt': '2023-10-10 06:00:00'}, {'dt': 1696928400, 'main': {'temp': 282.12, 'feels_like': 282.12, 'temp_min': 282.12, 'temp_max': 282.12, 'pressure': 1003, 'sea_level': 1003, 'grnd_level': 985, 'humidity': 79, 'temp_kf': 0}, 'weather': [{'id': 804, 'main': 'Clouds', 'description': 'overcast clouds', 'icon': '04d'}], 'clouds': {'all': 100}, 'wind': {'speed': 1.32, 'deg': 252, 'gust': 2.25}, 'visibility': 10000, 'pop': 0, 'sys': {'pod': 'd'}, 'dt_txt': '2023-10-10 09:00:00'}, {'dt': 1696939200, 'main': {'temp': 283.87, 'feels_like': 282.88, 'temp_min': 283.87, 'temp_max': 283.87, 'pressure': 1001, 'sea_level': 1001, 'grnd_level': 983, 'humidity': 72, 'temp_kf': 0}, 'weather': [{'id': 804, 'main': 'Clouds', 'description': 'overcast clouds', 'icon': '04d'}], 'clouds': {'all': 100}, 'wind': {'speed': 1.42, 'deg': 221, 'gust': 2.46}, 'visibility': 10000, 'pop': 0, 'sys': {'pod': 'd'}, 'dt_txt': '2023-10-10 12:00:00'}, {'dt': 1696950000, 'main': {'temp': 281.72, 'feels_like': 281.1, 'temp_min': 281.72, 'temp_max': 281.72, 'pressure': 998, 'sea_level': 998, 'grnd_level': 980, 'humidity': 89, 'temp_kf': 0}, 'weather': [{'id': 804, 'main': 'Clouds', 'description': 'overcast clouds', 'icon': '04d'}], 'clouds': {'all': 100}, 'wind': {'speed': 1.56, 'deg': 217, 'gust': 1.43}, 'visibility': 10000, 'pop': 0, 'sys': {'pod': 'd'}, 'dt_txt': '2023-10-10 15:00:00'}, {'dt': 1696960800, 'main': {'temp': 279.83, 'feels_like': 279.83, 'temp_min': 279.83, 'temp_max': 279.83, 'pressure': 995, 'sea_level': 995, 'grnd_level': 977, 'humidity': 96, 'temp_kf': 0}, 'weather': [{'id': 804, 'main': 'Clouds', 'description': 'overcast clouds', 'icon': '04n'}], 'clouds': {'all': 100}, 'wind': {'speed': 1.24, 'deg': 205, 'gust': 1.23}, 'visibility': 10000, 'pop': 0, 'sys': {'pod': 'n'}, 'dt_txt': '2023-10-10 18:00:00'}, {'dt': 1696971600, 'main': {'temp': 280, 'feels_like': 280, 'temp_min': 280, 'temp_max': 280, 'pressure': 991, 'sea_level': 991, 'grnd_level': 973, 'humidity': 95, 'temp_kf': 0}, 'weather': [{'id': 804, 'main': 'Clouds', 'description': 'overcast clouds', 'icon': '04n'}], 'clouds': {'all': 100}, 'wind': {'speed': 1.11, 'deg': 244, 'gust': 1.01}, 'visibility': 10000, 'pop': 0, 'sys': {'pod': 'n'}, 'dt_txt': '2023-10-10 21:00:00'}, {'dt': 1696982400, 'main': {'temp': 278.25, 'feels_like': 277.24, 'temp_min': 278.25, 'temp_max': 278.25, 'pressure': 989, 'sea_level': 989, 'grnd_level': 971, 'humidity': 96, 'temp_kf': 0}, 'weather': [{'id': 803, 'main': 'Clouds', 'description': 'broken clouds', 'icon': '04n'}], 'clouds': {'all': 81}, 'wind': {'speed': 1.48, 'deg': 242, 'gust': 1.28}, 'visibility': 10000, 'pop': 0, 'sys': {'pod': 'n'}, 'dt_txt': '2023-10-11 00:00:00'}, {'dt': 1696993200, 'main': {'temp': 280.04, 'feels_like': 278.97, 'temp_min': 280.04, 'temp_max': 280.04, 'pressure': 987, 'sea_level': 987, 'grnd_level': 969, 'humidity': 95, 'temp_kf': 0}, 'weather': [{'id': 803, 'main': 'Clouds', 'description': 'broken clouds', 'icon': '04n'}], 'clouds': {'all': 82}, 'wind': {'speed': 1.75, 'deg': 233, 'gust': 2.28}, 'visibility': 10000, 'pop': 0, 'sys': {'pod': 'n'}, 'dt_txt': '2023-10-11 03:00:00'}, {'dt': 1697004000, 'main': {'temp': 277.98, 'feels_like': 276.1, 'temp_min': 277.98, 'temp_max': 277.98, 'pressure': 986, 'sea_level': 986, 'grnd_level': 968, 'humidity': 85, 'temp_kf': 0}, 'weather': [{'id': 802, 'main': 'Clouds', 'description': 'scattered clouds', 'icon': '03d'}], 'clouds': {'all': 50}, 'wind': {'speed': 2.22, 'deg': 239, 'gust': 5.56}, 'visibility': 10000, 'pop': 0, 'sys': {'pod': 'd'}, 'dt_txt': '2023-10-11 06:00:00'}], 'city': {'id': 3144113, 'name': 'Noresund', 'coord': {'lat': 60.1803, 'lon': 9.6231}, 'country': 'NO', 'population': 1000, 'timezone': 7200, 'sunrise': 1696570673, 'sunset': 1696610483}}\")\n"
     ]
    }
   ],
   "source": [
    "# Query the data\n",
    "forecast_rows = session.execute(\"SELECT * FROM forecast_table;\")\n",
    "print(forecast_rows.one()) # <- only one row"
   ]
  },
  {
   "cell_type": "markdown",
   "metadata": {
    "slideshow": {
     "slide_type": "slide"
    }
   },
   "source": [
    "```{seealso} Resources\n",
    ":class: tip\n",
    "- [Cassandra webpage](https://cassandra.apache.org/)\n",
    "- [Cassandra Docker file](https://hub.docker.com/_/cassandra)\n",
    "- [UUID functions](https://docs.datastax.com/en/cql-oss/3.3/cql/cql_reference/timeuuid_functions_r.html)\n",
    "- [YouTube: Cassandra in 100 seconds](https://youtu.be/ziq7FUKpCS8?si=WQUdkHFvaBmT0DBo) (2m:26s)\n",
    "- [YouTube: How to use Apache Cassandra in Python](https://youtu.be/qMauZqJH3ZM?si=yKGZ-5cld2BK396Y) (14m:50s)\n",
    "- [YouTube: Cassandra Database Crash Course](https://youtu.be/KZsVSfQVU4I?si=FBCi8qOfCirfVmZk) (19m:47s)\n",
    "```"
   ]
  }
 ],
 "metadata": {
  "celltoolbar": "Slideshow",
  "kernelspec": {
   "display_name": "Python 3 (ipykernel)",
   "language": "python",
   "name": "python3"
  },
  "language_info": {
   "codemirror_mode": {
    "name": "ipython",
    "version": 3
   },
   "file_extension": ".py",
   "mimetype": "text/x-python",
   "name": "python",
   "nbconvert_exporter": "python",
   "pygments_lexer": "ipython3",
   "version": "3.11.6"
  }
 },
 "nbformat": 4,
 "nbformat_minor": 2
}
