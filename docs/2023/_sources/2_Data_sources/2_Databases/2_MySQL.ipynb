{
 "cells": [
  {
   "cell_type": "markdown",
   "metadata": {
    "slideshow": {
     "slide_type": "slide"
    }
   },
   "source": [
    "# [MySQL](https://www.mysql.com/)\n",
    "- A true and tested relational database [released in 1995](https://en.wikipedia.org/wiki/MySQL).\n",
    "    - Originally from Swedish company MySQL AB.\n",
    "    - Later acquired by Sun who were then acquired by Oracle.\n",
    "- Freeware version and full enterprise versions for many platforms.\n",
    "- Lately also supports native JSON and NoSQL document store.\n",
    "- Easily installed directly in Windows, Mac, Linux, etc. or using Docker, Homebrew, etc."
   ]
  },
  {
   "cell_type": "markdown",
   "metadata": {
    "slideshow": {
     "slide_type": "slide"
    }
   },
   "source": [
    "## Instructor's database\n",
    "- An example of accessing an online, editable database."
   ]
  },
  {
   "cell_type": "code",
   "execution_count": 1,
   "metadata": {
    "slideshow": {
     "slide_type": "-"
    }
   },
   "outputs": [],
   "source": [
    "# Make a connection object 'connection' for the MySQL database 'u492297623_student1' on port 3306 at server 145.14.151.151 with username 'u492297623_stud1'\n",
    "# and password given by instructor.\n",
    "import mysql.connector\n",
    "PWD = open('../../../No_sync/password_khliland','r').read()\n",
    "\n",
    "# Establishing a connection to the MySQL database\n",
    "connection = mysql.connector.connect(\n",
    "    host='145.14.151.151',\n",
    "    port=3306,\n",
    "    user='u492297623_stud1',\n",
    "    password=PWD,\n",
    "    database='u492297623_student1'\n",
    ")\n",
    "\n",
    "# Creating a cursor object to execute SQL queries\n",
    "cursor = connection.cursor()"
   ]
  },
  {
   "cell_type": "markdown",
   "metadata": {
    "slideshow": {
     "slide_type": "slide"
    }
   },
   "source": [
    "### Revealing structure\n",
    "If the tables of a database and their structure is given in advance, this can be queried."
   ]
  },
  {
   "cell_type": "code",
   "execution_count": 2,
   "metadata": {
    "slideshow": {
     "slide_type": "-"
    }
   },
   "outputs": [
    {
     "name": "stdout",
     "output_type": "stream",
     "text": [
      "('students',)\n"
     ]
    }
   ],
   "source": [
    "# Executing a SQL query to retrieve all the tables present in the database\n",
    "query = \"SHOW TABLES;\"\n",
    "cursor.execute(query)\n",
    "\n",
    "# Fetching all the rows from the result set\n",
    "tabs = cursor.fetchall()\n",
    "\n",
    "# Printing the retrieved data\n",
    "for row in tabs:\n",
    "    print(row)"
   ]
  },
  {
   "cell_type": "code",
   "execution_count": 3,
   "metadata": {
    "slideshow": {
     "slide_type": "slide"
    }
   },
   "outputs": [
    {
     "name": "stdout",
     "output_type": "stream",
     "text": [
      "('main_key', 'int(11)', 'NO', 'PRI', None, '')\n",
      "('first_name', 'text', 'NO', '', None, '')\n",
      "('study_program', 'text', 'NO', '', None, '')\n"
     ]
    }
   ],
   "source": [
    "# Executing a SQL query to describe the table 'students' present in the database\n",
    "query = \"DESCRIBE students;\"\n",
    "cursor.execute(query)\n",
    "\n",
    "# Fetching all the rows from the result set\n",
    "studs = cursor.fetchall()\n",
    "\n",
    "# Printing the retrieved data\n",
    "for row in studs:\n",
    "    print(row)"
   ]
  },
  {
   "cell_type": "markdown",
   "metadata": {
    "slideshow": {
     "slide_type": "slide"
    }
   },
   "source": [
    "### Extract data"
   ]
  },
  {
   "cell_type": "code",
   "execution_count": 4,
   "metadata": {
    "slideshow": {
     "slide_type": "-"
    }
   },
   "outputs": [
    {
     "name": "stdout",
     "output_type": "stream",
     "text": [
      "(1, 'John', 'Industrial Economics')\n",
      "(2, 'Sandra', 'Building Physics')\n"
     ]
    }
   ],
   "source": [
    "# Executing the SQL query to select all data from the 'students' table\n",
    "query = \"SELECT * FROM students;\"\n",
    "cursor.execute(query)\n",
    "\n",
    "# Fetching all the rows from the result set\n",
    "result = cursor.fetchall()\n",
    "\n",
    "# Printing the retrieved data\n",
    "for row in result:\n",
    "    print(row)"
   ]
  },
  {
   "cell_type": "markdown",
   "metadata": {
    "slideshow": {
     "slide_type": "slide"
    }
   },
   "source": [
    "### Example of the power of AI tools\n",
    "- Instructor wrote \"Select only students whose name starts with 'J'\" with Copilot activated.\n",
    "- Copilot automatically generated the query.\n",
    "- Instructor corrected 'name' to 'first_name'\n",
    "- It worked!"
   ]
  },
  {
   "cell_type": "code",
   "execution_count": 5,
   "metadata": {
    "slideshow": {
     "slide_type": "slide"
    }
   },
   "outputs": [
    {
     "name": "stdout",
     "output_type": "stream",
     "text": [
      "(1, 'John', 'Industrial Economics')\n"
     ]
    }
   ],
   "source": [
    "# Select only students whose name starts with 'J'\n",
    "query = \"SELECT * FROM students WHERE first_name LIKE 'J%';\"\n",
    "cursor.execute(query)\n",
    "\n",
    "# Fetching all the rows from the result set\n",
    "result = cursor.fetchall()\n",
    "\n",
    "# Printing the retrieved data\n",
    "for row in result:\n",
    "    print(row)"
   ]
  },
  {
   "cell_type": "markdown",
   "metadata": {
    "slideshow": {
     "slide_type": "slide"
    }
   },
   "source": [
    "### Add new data\n",
    "- If the primary key is duplicated, this will return an error"
   ]
  },
  {
   "cell_type": "code",
   "execution_count": 6,
   "metadata": {
    "slideshow": {
     "slide_type": "-"
    }
   },
   "outputs": [],
   "source": [
    "# Insert a new row into the first_test table with the values 3, 'Pete', 'Data Science'\n",
    "query = \"INSERT INTO students VALUES (3, 'Pete', 'Data Science');\"\n",
    "# This can result in an error if the primary key already exists\n",
    "cursor.execute(query)"
   ]
  },
  {
   "cell_type": "code",
   "execution_count": 7,
   "metadata": {
    "slideshow": {
     "slide_type": "fragment"
    }
   },
   "outputs": [],
   "source": [
    "# Increment the main_key and insert new data\n",
    "query = \"INSERT INTO students SELECT COALESCE(MAX(main_key) + 1, 1), 'Anita', 'Plant Science' FROM students;\"\n",
    "cursor.execute(query)\n",
    "# (AUTO_INCREMENT can be set at the table creation to avoid having to do this)"
   ]
  },
  {
   "cell_type": "markdown",
   "metadata": {
    "slideshow": {
     "slide_type": "slide"
    }
   },
   "source": [
    "### Removing data\n",
    "- Delete a single record or data that follows a pattern."
   ]
  },
  {
   "cell_type": "code",
   "execution_count": 8,
   "metadata": {
    "slideshow": {
     "slide_type": "-"
    }
   },
   "outputs": [],
   "source": [
    "# Delete all rows from the students table where main_key > 2\n",
    "query = \"DELETE FROM students WHERE main_key > 2;\"\n",
    "cursor.execute(query)"
   ]
  },
  {
   "cell_type": "markdown",
   "metadata": {
    "slideshow": {
     "slide_type": "slide"
    }
   },
   "source": [
    "### Commiting changes\n",
    "- All changes to the data using _mysql.connector.cursor_ are local until committed."
   ]
  },
  {
   "cell_type": "code",
   "execution_count": 9,
   "metadata": {
    "slideshow": {
     "slide_type": "-"
    }
   },
   "outputs": [],
   "source": [
    "# Push data from the cursor to the database\n",
    "connection.commit()"
   ]
  },
  {
   "cell_type": "code",
   "execution_count": 10,
   "metadata": {
    "slideshow": {
     "slide_type": "fragment"
    }
   },
   "outputs": [],
   "source": [
    "# Closing the cursor and the database connection\n",
    "cursor.close()\n",
    "connection.close()"
   ]
  },
  {
   "cell_type": "markdown",
   "metadata": {
    "slideshow": {
     "slide_type": "slide"
    }
   },
   "source": [
    "## Exercise\n",
    "1. Make a Python function that takes an SQL query as input, opens a connection, executes the statement, closes the connection and returns any results.\n",
    "2. Assume that password, username, database name, etc. are stored in a dictionary. Make another version of the function that takes a query and the dictionary as input and returns any results.\n",
    "3. Test both functions with SELECT and INSERT INTO statements."
   ]
  },
  {
   "cell_type": "markdown",
   "metadata": {
    "slideshow": {
     "slide_type": "slide"
    }
   },
   "source": [
    "```{seealso} Resources\n",
    ":class: tip\n",
    "- [MySQL webpage](https://www.mysql.com/)\n",
    "- [Wikipedia: MySQL](https://en.wikipedia.org/wiki/MySQL).\n",
    "- [YouTube: MySQL - The basics // Learn SQL in 23 Easy Steps](https://youtu.be/Cz3WcZLRaWc?si=D5CQt3CSSmUg1jkV) (17m:16s)\n",
    "- [SQL Cheat Sheet](https://www.sqltutorial.org/sql-cheat-sheet/) with tons of examples from [SQL Tutorial](https://www.sqltutorial.org/)\n",
    "```"
   ]
  }
 ],
 "metadata": {
  "celltoolbar": "Slideshow",
  "kernelspec": {
   "display_name": "Python 3 (ipykernel)",
   "language": "python",
   "name": "python3"
  },
  "language_info": {
   "codemirror_mode": {
    "name": "ipython",
    "version": 3
   },
   "file_extension": ".py",
   "mimetype": "text/x-python",
   "name": "python",
   "nbconvert_exporter": "python",
   "pygments_lexer": "ipython3",
   "version": "3.10.6"
  }
 },
 "nbformat": 4,
 "nbformat_minor": 2
}
