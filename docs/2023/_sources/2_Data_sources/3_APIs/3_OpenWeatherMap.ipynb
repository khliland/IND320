{
 "cells": [
  {
   "cell_type": "markdown",
   "metadata": {
    "slideshow": {
     "slide_type": "slide"
    }
   },
   "source": [
    "# Demonstration of API using OpenWeatherMap.org\n",
    "This demonstration is heavily inspired by [NeuralNine's video](https://www.youtube.com/watch?v=9P5MY_2i7K8).  \n",
    "You need a free account [from here](https://openweathermap.org/api).  \n",
    "The VS Code extension _JSON viewer_ is recommended for viewing downloaded JSON content.  \n",
    "  - Set your maximum API calls to 1000 per day to make sure you are under the limit for billing. \n",
    "  - To run the examples, download your API key, save it in the right folder (see below) in a file called _api\\_key\\_OpenWeather_, containing only the key (no spaces or \"enters\")."
   ]
  },
  {
   "cell_type": "code",
   "execution_count": 1,
   "metadata": {
    "slideshow": {
     "slide_type": "fragment"
    }
   },
   "outputs": [],
   "source": [
    "# Imports\n",
    "import datetime as dt\n",
    "import requests\n",
    "import json"
   ]
  },
  {
   "cell_type": "markdown",
   "metadata": {
    "slideshow": {
     "slide_type": "slide"
    }
   },
   "source": [
    "## Current weather\n",
    "### Common definitions to use for all requests"
   ]
  },
  {
   "cell_type": "code",
   "execution_count": 2,
   "metadata": {
    "slideshow": {
     "slide_type": "-"
    }
   },
   "outputs": [],
   "source": [
    "BASE_URL = \"http://api.openweathermap.org/data/2.5/weather?\"\n",
    "API_KEY = open('../../../No_sync/api_key_OpenWeather','r').read()\n",
    "CITY = \"Ski\"\n",
    "\n",
    "url = BASE_URL + \"q=\" + CITY + \"&appid=\" + API_KEY"
   ]
  },
  {
   "cell_type": "markdown",
   "metadata": {
    "slideshow": {
     "slide_type": "slide"
    }
   },
   "source": [
    "## Request current weather in chosen city"
   ]
  },
  {
   "cell_type": "code",
   "execution_count": 3,
   "metadata": {
    "slideshow": {
     "slide_type": "fragment"
    }
   },
   "outputs": [
    {
     "name": "stdout",
     "output_type": "stream",
     "text": [
      "{'coord': {'lon': 10.8358, 'lat': 59.7195}, 'weather': [{'id': 800, 'main': 'Clear', 'description': 'clear sky', 'icon': '01d'}], 'base': 'stations', 'main': {'temp': 287.04, 'feels_like': 285.79, 'temp_min': 285.62, 'temp_max': 287.64, 'pressure': 988, 'humidity': 50, 'sea_level': 988, 'grnd_level': 971}, 'visibility': 10000, 'wind': {'speed': 6.76, 'deg': 242, 'gust': 14.76}, 'clouds': {'all': 6}, 'dt': 1697029372, 'sys': {'type': 2, 'id': 2006772, 'country': 'NO', 'sunrise': 1697003062, 'sunset': 1697041340}, 'timezone': 7200, 'id': 3139081, 'name': 'Ski', 'cod': 200}\n"
     ]
    }
   ],
   "source": [
    "response = requests.get(url).json()\n",
    "print(response)"
   ]
  },
  {
   "cell_type": "code",
   "execution_count": 4,
   "metadata": {
    "slideshow": {
     "slide_type": "fragment"
    }
   },
   "outputs": [],
   "source": [
    "# Write JSON to file for viewing\n",
    "with open('downloads/weather.json', 'w') as f:\n",
    "    json.dump(response, f, indent=4)"
   ]
  },
  {
   "cell_type": "markdown",
   "metadata": {
    "slideshow": {
     "slide_type": "slide"
    }
   },
   "source": [
    "## Conversion functions\n",
    "Changing scales can make results more interpretable"
   ]
  },
  {
   "cell_type": "code",
   "execution_count": 5,
   "metadata": {
    "slideshow": {
     "slide_type": "-"
    }
   },
   "outputs": [],
   "source": [
    "# Kelvin to Celsius\n",
    "def kelvin_to_celsius(temp):\n",
    "    return temp - 273.15\n",
    "\n",
    "# Meters per second to knots\n",
    "def mps_to_knots(speed):\n",
    "    return speed * 1.943844"
   ]
  },
  {
   "cell_type": "markdown",
   "metadata": {
    "slideshow": {
     "slide_type": "slide"
    }
   },
   "source": [
    "## Print some weather properties"
   ]
  },
  {
   "cell_type": "code",
   "execution_count": 6,
   "metadata": {
    "slideshow": {
     "slide_type": "-"
    }
   },
   "outputs": [
    {
     "name": "stdout",
     "output_type": "stream",
     "text": [
      "The current temperature in Ski is 13.9°C\n"
     ]
    }
   ],
   "source": [
    "# Current temperature\n",
    "temp_kelvin = response['main']['temp']\n",
    "temp_celsius = kelvin_to_celsius(temp_kelvin)\n",
    "print(f\"The current temperature in {CITY} is {temp_celsius:.1f}°C\")"
   ]
  },
  {
   "cell_type": "code",
   "execution_count": 7,
   "metadata": {
    "slideshow": {
     "slide_type": "slide"
    }
   },
   "outputs": [
    {
     "name": "stdout",
     "output_type": "stream",
     "text": [
      "Sunrise today is at 07:44 and sunset is at 18:22\n"
     ]
    }
   ],
   "source": [
    "# Sunrise and sunset today in local time\n",
    "sunrise = dt.datetime.fromtimestamp(response['sys']['sunrise'])\n",
    "sunset = dt.datetime.fromtimestamp(response['sys']['sunset'])\n",
    "print(f\"Sunrise today is at {sunrise:%H:%M} and sunset is at {sunset:%H:%M}\")"
   ]
  },
  {
   "cell_type": "code",
   "execution_count": 8,
   "metadata": {
    "slideshow": {
     "slide_type": "fragment"
    }
   },
   "outputs": [
    {
     "name": "stdout",
     "output_type": "stream",
     "text": [
      "Wind today is from 242° at 13.1 knots\n"
     ]
    }
   ],
   "source": [
    "# Wind direction and speed\n",
    "wind_knots = mps_to_knots(response['wind']['speed'])\n",
    "print(f\"Wind today is from {response['wind']['deg']}° at {round(wind_knots,1)} knots\")"
   ]
  },
  {
   "cell_type": "markdown",
   "metadata": {
    "slideshow": {
     "slide_type": "slide"
    }
   },
   "source": [
    "## Forecasted weather\n",
    "### Common definitions to use for all requests"
   ]
  },
  {
   "cell_type": "code",
   "execution_count": 9,
   "metadata": {
    "slideshow": {
     "slide_type": "-"
    }
   },
   "outputs": [],
   "source": [
    "BASE_URL = \"http://api.openweathermap.org/data/2.5/forecast?\"\n",
    "CITY = \"Noresund\"\n",
    "\n",
    "urlF = BASE_URL + \"q=\" + CITY + \"&appid=\" + API_KEY"
   ]
  },
  {
   "cell_type": "markdown",
   "metadata": {
    "slideshow": {
     "slide_type": "slide"
    }
   },
   "source": [
    "## Request forecasted weather in chosen city"
   ]
  },
  {
   "cell_type": "code",
   "execution_count": 10,
   "metadata": {
    "slideshow": {
     "slide_type": "-"
    }
   },
   "outputs": [
    {
     "name": "stdout",
     "output_type": "stream",
     "text": [
      "{'cod': '200', 'message': 0, 'cnt': 40, 'list': [{'dt': 1697036400, 'main': {'temp': 282.05, 'feels_like': 278.7, 'temp_min': 281.96, 'temp_max': 282.05, 'pressure': 985, 'sea_level': 985, 'grnd_level': 967, 'humidity': 66, 'temp_kf': 0.09}, 'weather': [{'id': 500, 'main': 'Rain', 'description': 'light rain', 'icon': '10d'}], 'clouds': {'all': 15}, 'wind': {'speed': 6.92, 'deg': 252, 'gust': 16.85}, 'visibility': 10000, 'pop': 0.28, 'rain': {'3h': 0.18}, 'sys': {'pod': 'd'}, 'dt_txt': '2023-10-11 15:00:00'}, {'dt': 1697047200, 'main': {'temp': 281.29, 'feels_like': 277.57, 'temp_min': 280.89, 'temp_max': 281.29, 'pressure': 984, 'sea_level': 984, 'grnd_level': 965, 'humidity': 73, 'temp_kf': 0.4}, 'weather': [{'id': 801, 'main': 'Clouds', 'description': 'few clouds', 'icon': '02n'}], 'clouds': {'all': 20}, 'wind': {'speed': 7.42, 'deg': 241, 'gust': 19.52}, 'visibility': 10000, 'pop': 0.22, 'sys': {'pod': 'n'}, 'dt_txt': '2023-10-11 18:00:00'}, {'dt': 1697058000, 'main': {'temp': 280.83, 'feels_like': 277.14, 'temp_min': 280.83, 'temp_max': 280.83, 'pressure': 983, 'sea_level': 983, 'grnd_level': 965, 'humidity': 67, 'temp_kf': 0}, 'weather': [{'id': 802, 'main': 'Clouds', 'description': 'scattered clouds', 'icon': '03n'}], 'clouds': {'all': 31}, 'wind': {'speed': 6.89, 'deg': 261, 'gust': 18.55}, 'visibility': 10000, 'pop': 0.08, 'sys': {'pod': 'n'}, 'dt_txt': '2023-10-11 21:00:00'}, {'dt': 1697068800, 'main': {'temp': 277.8, 'feels_like': 274.77, 'temp_min': 277.8, 'temp_max': 277.8, 'pressure': 987, 'sea_level': 987, 'grnd_level': 969, 'humidity': 69, 'temp_kf': 0}, 'weather': [{'id': 500, 'main': 'Rain', 'description': 'light rain', 'icon': '10n'}], 'clouds': {'all': 31}, 'wind': {'speed': 3.69, 'deg': 279, 'gust': 8.47}, 'visibility': 10000, 'pop': 0.32, 'rain': {'3h': 0.37}, 'sys': {'pod': 'n'}, 'dt_txt': '2023-10-12 00:00:00'}, {'dt': 1697079600, 'main': {'temp': 277.84, 'feels_like': 274.92, 'temp_min': 277.84, 'temp_max': 277.84, 'pressure': 990, 'sea_level': 990, 'grnd_level': 972, 'humidity': 68, 'temp_kf': 0}, 'weather': [{'id': 800, 'main': 'Clear', 'description': 'clear sky', 'icon': '01n'}], 'clouds': {'all': 1}, 'wind': {'speed': 3.53, 'deg': 271, 'gust': 12.3}, 'visibility': 10000, 'pop': 0, 'sys': {'pod': 'n'}, 'dt_txt': '2023-10-12 03:00:00'}, {'dt': 1697090400, 'main': {'temp': 278.72, 'feels_like': 275.44, 'temp_min': 278.72, 'temp_max': 278.72, 'pressure': 992, 'sea_level': 992, 'grnd_level': 974, 'humidity': 63, 'temp_kf': 0}, 'weather': [{'id': 800, 'main': 'Clear', 'description': 'clear sky', 'icon': '01d'}], 'clouds': {'all': 2}, 'wind': {'speed': 4.51, 'deg': 278, 'gust': 12.95}, 'visibility': 10000, 'pop': 0, 'sys': {'pod': 'd'}, 'dt_txt': '2023-10-12 06:00:00'}, {'dt': 1697101200, 'main': {'temp': 283.03, 'feels_like': 280.5, 'temp_min': 283.03, 'temp_max': 283.03, 'pressure': 995, 'sea_level': 995, 'grnd_level': 977, 'humidity': 48, 'temp_kf': 0}, 'weather': [{'id': 800, 'main': 'Clear', 'description': 'clear sky', 'icon': '01d'}], 'clouds': {'all': 0}, 'wind': {'speed': 5.24, 'deg': 291, 'gust': 17.26}, 'visibility': 10000, 'pop': 0, 'sys': {'pod': 'd'}, 'dt_txt': '2023-10-12 09:00:00'}, {'dt': 1697112000, 'main': {'temp': 284.19, 'feels_like': 282.5, 'temp_min': 284.19, 'temp_max': 284.19, 'pressure': 999, 'sea_level': 999, 'grnd_level': 981, 'humidity': 44, 'temp_kf': 0}, 'weather': [{'id': 801, 'main': 'Clouds', 'description': 'few clouds', 'icon': '02d'}], 'clouds': {'all': 13}, 'wind': {'speed': 4.13, 'deg': 273, 'gust': 11.42}, 'visibility': 10000, 'pop': 0, 'sys': {'pod': 'd'}, 'dt_txt': '2023-10-12 12:00:00'}, {'dt': 1697122800, 'main': {'temp': 281.35, 'feels_like': 279.15, 'temp_min': 281.35, 'temp_max': 281.35, 'pressure': 1002, 'sea_level': 1002, 'grnd_level': 984, 'humidity': 53, 'temp_kf': 0}, 'weather': [{'id': 804, 'main': 'Clouds', 'description': 'overcast clouds', 'icon': '04d'}], 'clouds': {'all': 89}, 'wind': {'speed': 3.59, 'deg': 260, 'gust': 6.96}, 'visibility': 10000, 'pop': 0, 'sys': {'pod': 'd'}, 'dt_txt': '2023-10-12 15:00:00'}, {'dt': 1697133600, 'main': {'temp': 277.43, 'feels_like': 275.22, 'temp_min': 277.43, 'temp_max': 277.43, 'pressure': 1005, 'sea_level': 1005, 'grnd_level': 987, 'humidity': 73, 'temp_kf': 0}, 'weather': [{'id': 804, 'main': 'Clouds', 'description': 'overcast clouds', 'icon': '04n'}], 'clouds': {'all': 94}, 'wind': {'speed': 2.47, 'deg': 282, 'gust': 3.2}, 'visibility': 10000, 'pop': 0, 'sys': {'pod': 'n'}, 'dt_txt': '2023-10-12 18:00:00'}, {'dt': 1697144400, 'main': {'temp': 276.64, 'feels_like': 274.61, 'temp_min': 276.64, 'temp_max': 276.64, 'pressure': 1006, 'sea_level': 1006, 'grnd_level': 987, 'humidity': 76, 'temp_kf': 0}, 'weather': [{'id': 804, 'main': 'Clouds', 'description': 'overcast clouds', 'icon': '04n'}], 'clouds': {'all': 100}, 'wind': {'speed': 2.14, 'deg': 282, 'gust': 2.59}, 'visibility': 10000, 'pop': 0, 'sys': {'pod': 'n'}, 'dt_txt': '2023-10-12 21:00:00'}, {'dt': 1697155200, 'main': {'temp': 276.18, 'feels_like': 274.65, 'temp_min': 276.18, 'temp_max': 276.18, 'pressure': 1005, 'sea_level': 1005, 'grnd_level': 987, 'humidity': 76, 'temp_kf': 0}, 'weather': [{'id': 804, 'main': 'Clouds', 'description': 'overcast clouds', 'icon': '04n'}], 'clouds': {'all': 100}, 'wind': {'speed': 1.65, 'deg': 286, 'gust': 1.81}, 'visibility': 10000, 'pop': 0, 'sys': {'pod': 'n'}, 'dt_txt': '2023-10-13 00:00:00'}, {'dt': 1697166000, 'main': {'temp': 275.86, 'feels_like': 275.86, 'temp_min': 275.86, 'temp_max': 275.86, 'pressure': 1004, 'sea_level': 1004, 'grnd_level': 985, 'humidity': 75, 'temp_kf': 0}, 'weather': [{'id': 804, 'main': 'Clouds', 'description': 'overcast clouds', 'icon': '04n'}], 'clouds': {'all': 100}, 'wind': {'speed': 1.18, 'deg': 284, 'gust': 1.28}, 'visibility': 10000, 'pop': 0, 'sys': {'pod': 'n'}, 'dt_txt': '2023-10-13 03:00:00'}, {'dt': 1697176800, 'main': {'temp': 276.47, 'feels_like': 276.47, 'temp_min': 276.47, 'temp_max': 276.47, 'pressure': 1002, 'sea_level': 1002, 'grnd_level': 983, 'humidity': 75, 'temp_kf': 0}, 'weather': [{'id': 804, 'main': 'Clouds', 'description': 'overcast clouds', 'icon': '04d'}], 'clouds': {'all': 100}, 'wind': {'speed': 1.31, 'deg': 200, 'gust': 1.43}, 'visibility': 10000, 'pop': 0, 'sys': {'pod': 'd'}, 'dt_txt': '2023-10-13 06:00:00'}, {'dt': 1697187600, 'main': {'temp': 278.65, 'feels_like': 277.32, 'temp_min': 278.65, 'temp_max': 278.65, 'pressure': 999, 'sea_level': 999, 'grnd_level': 981, 'humidity': 67, 'temp_kf': 0}, 'weather': [{'id': 804, 'main': 'Clouds', 'description': 'overcast clouds', 'icon': '04d'}], 'clouds': {'all': 100}, 'wind': {'speed': 1.79, 'deg': 173, 'gust': 3.12}, 'visibility': 10000, 'pop': 0, 'sys': {'pod': 'd'}, 'dt_txt': '2023-10-13 09:00:00'}, {'dt': 1697198400, 'main': {'temp': 279.26, 'feels_like': 279.26, 'temp_min': 279.26, 'temp_max': 279.26, 'pressure': 995, 'sea_level': 995, 'grnd_level': 977, 'humidity': 78, 'temp_kf': 0}, 'weather': [{'id': 804, 'main': 'Clouds', 'description': 'overcast clouds', 'icon': '04d'}], 'clouds': {'all': 100}, 'wind': {'speed': 0.72, 'deg': 105, 'gust': 1.79}, 'visibility': 10000, 'pop': 0.01, 'sys': {'pod': 'd'}, 'dt_txt': '2023-10-13 12:00:00'}, {'dt': 1697209200, 'main': {'temp': 278.58, 'feels_like': 278.58, 'temp_min': 278.58, 'temp_max': 278.58, 'pressure': 990, 'sea_level': 990, 'grnd_level': 972, 'humidity': 99, 'temp_kf': 0}, 'weather': [{'id': 501, 'main': 'Rain', 'description': 'moderate rain', 'icon': '10d'}], 'clouds': {'all': 100}, 'wind': {'speed': 0.23, 'deg': 0, 'gust': 0.89}, 'visibility': 2120, 'pop': 1, 'rain': {'3h': 4.57}, 'sys': {'pod': 'd'}, 'dt_txt': '2023-10-13 15:00:00'}, {'dt': 1697220000, 'main': {'temp': 279.36, 'feels_like': 279.36, 'temp_min': 279.36, 'temp_max': 279.36, 'pressure': 986, 'sea_level': 986, 'grnd_level': 968, 'humidity': 98, 'temp_kf': 0}, 'weather': [{'id': 500, 'main': 'Rain', 'description': 'light rain', 'icon': '10n'}], 'clouds': {'all': 100}, 'wind': {'speed': 0.73, 'deg': 258, 'gust': 0.84}, 'visibility': 4696, 'pop': 1, 'rain': {'3h': 1.6}, 'sys': {'pod': 'n'}, 'dt_txt': '2023-10-13 18:00:00'}, {'dt': 1697230800, 'main': {'temp': 279.79, 'feels_like': 279.79, 'temp_min': 279.79, 'temp_max': 279.79, 'pressure': 985, 'sea_level': 985, 'grnd_level': 967, 'humidity': 97, 'temp_kf': 0}, 'weather': [{'id': 804, 'main': 'Clouds', 'description': 'overcast clouds', 'icon': '04n'}], 'clouds': {'all': 100}, 'wind': {'speed': 1.25, 'deg': 250, 'gust': 1.68}, 'visibility': 10000, 'pop': 0, 'sys': {'pod': 'n'}, 'dt_txt': '2023-10-13 21:00:00'}, {'dt': 1697241600, 'main': {'temp': 277.08, 'feels_like': 277.08, 'temp_min': 277.08, 'temp_max': 277.08, 'pressure': 984, 'sea_level': 984, 'grnd_level': 966, 'humidity': 96, 'temp_kf': 0}, 'weather': [{'id': 803, 'main': 'Clouds', 'description': 'broken clouds', 'icon': '04n'}], 'clouds': {'all': 66}, 'wind': {'speed': 1.28, 'deg': 222, 'gust': 1.74}, 'visibility': 10000, 'pop': 0, 'sys': {'pod': 'n'}, 'dt_txt': '2023-10-14 00:00:00'}, {'dt': 1697252400, 'main': {'temp': 275.98, 'feels_like': 274.39, 'temp_min': 275.98, 'temp_max': 275.98, 'pressure': 982, 'sea_level': 982, 'grnd_level': 964, 'humidity': 95, 'temp_kf': 0}, 'weather': [{'id': 802, 'main': 'Clouds', 'description': 'scattered clouds', 'icon': '03n'}], 'clouds': {'all': 37}, 'wind': {'speed': 1.67, 'deg': 204, 'gust': 3.05}, 'visibility': 10000, 'pop': 0, 'sys': {'pod': 'n'}, 'dt_txt': '2023-10-14 03:00:00'}, {'dt': 1697263200, 'main': {'temp': 275.75, 'feels_like': 274.33, 'temp_min': 275.75, 'temp_max': 275.75, 'pressure': 982, 'sea_level': 982, 'grnd_level': 964, 'humidity': 90, 'temp_kf': 0}, 'weather': [{'id': 801, 'main': 'Clouds', 'description': 'few clouds', 'icon': '02d'}], 'clouds': {'all': 23}, 'wind': {'speed': 1.52, 'deg': 257, 'gust': 1.83}, 'visibility': 10000, 'pop': 0.01, 'sys': {'pod': 'd'}, 'dt_txt': '2023-10-14 06:00:00'}, {'dt': 1697274000, 'main': {'temp': 281.3, 'feels_like': 279.15, 'temp_min': 281.3, 'temp_max': 281.3, 'pressure': 981, 'sea_level': 981, 'grnd_level': 963, 'humidity': 66, 'temp_kf': 0}, 'weather': [{'id': 802, 'main': 'Clouds', 'description': 'scattered clouds', 'icon': '03d'}], 'clouds': {'all': 29}, 'wind': {'speed': 3.49, 'deg': 243, 'gust': 12.43}, 'visibility': 10000, 'pop': 0, 'sys': {'pod': 'd'}, 'dt_txt': '2023-10-14 09:00:00'}, {'dt': 1697284800, 'main': {'temp': 283.29, 'feels_like': 281.74, 'temp_min': 283.29, 'temp_max': 283.29, 'pressure': 981, 'sea_level': 981, 'grnd_level': 963, 'humidity': 53, 'temp_kf': 0}, 'weather': [{'id': 801, 'main': 'Clouds', 'description': 'few clouds', 'icon': '02d'}], 'clouds': {'all': 15}, 'wind': {'speed': 5.34, 'deg': 269, 'gust': 14.5}, 'visibility': 10000, 'pop': 0, 'sys': {'pod': 'd'}, 'dt_txt': '2023-10-14 12:00:00'}, {'dt': 1697295600, 'main': {'temp': 280.88, 'feels_like': 278.12, 'temp_min': 280.88, 'temp_max': 280.88, 'pressure': 983, 'sea_level': 983, 'grnd_level': 965, 'humidity': 57, 'temp_kf': 0}, 'weather': [{'id': 800, 'main': 'Clear', 'description': 'clear sky', 'icon': '01d'}], 'clouds': {'all': 4}, 'wind': {'speed': 4.51, 'deg': 270, 'gust': 13.51}, 'visibility': 10000, 'pop': 0.01, 'sys': {'pod': 'd'}, 'dt_txt': '2023-10-14 15:00:00'}, {'dt': 1697306400, 'main': {'temp': 277.3, 'feels_like': 275.23, 'temp_min': 277.3, 'temp_max': 277.3, 'pressure': 984, 'sea_level': 984, 'grnd_level': 966, 'humidity': 69, 'temp_kf': 0}, 'weather': [{'id': 802, 'main': 'Clouds', 'description': 'scattered clouds', 'icon': '03n'}], 'clouds': {'all': 48}, 'wind': {'speed': 2.3, 'deg': 276, 'gust': 4.46}, 'visibility': 10000, 'pop': 0, 'sys': {'pod': 'n'}, 'dt_txt': '2023-10-14 18:00:00'}, {'dt': 1697317200, 'main': {'temp': 275.49, 'feels_like': 273.13, 'temp_min': 275.49, 'temp_max': 275.49, 'pressure': 986, 'sea_level': 986, 'grnd_level': 967, 'humidity': 79, 'temp_kf': 0}, 'weather': [{'id': 804, 'main': 'Clouds', 'description': 'overcast clouds', 'icon': '04n'}], 'clouds': {'all': 99}, 'wind': {'speed': 2.27, 'deg': 290, 'gust': 2.45}, 'visibility': 10000, 'pop': 0, 'sys': {'pod': 'n'}, 'dt_txt': '2023-10-14 21:00:00'}, {'dt': 1697328000, 'main': {'temp': 275.98, 'feels_like': 273.54, 'temp_min': 275.98, 'temp_max': 275.98, 'pressure': 987, 'sea_level': 987, 'grnd_level': 969, 'humidity': 78, 'temp_kf': 0}, 'weather': [{'id': 804, 'main': 'Clouds', 'description': 'overcast clouds', 'icon': '04n'}], 'clouds': {'all': 87}, 'wind': {'speed': 2.44, 'deg': 293, 'gust': 3.25}, 'visibility': 10000, 'pop': 0, 'sys': {'pod': 'n'}, 'dt_txt': '2023-10-15 00:00:00'}, {'dt': 1697338800, 'main': {'temp': 276.91, 'feels_like': 274.65, 'temp_min': 276.91, 'temp_max': 276.91, 'pressure': 990, 'sea_level': 990, 'grnd_level': 972, 'humidity': 76, 'temp_kf': 0}, 'weather': [{'id': 804, 'main': 'Clouds', 'description': 'overcast clouds', 'icon': '04n'}], 'clouds': {'all': 99}, 'wind': {'speed': 2.43, 'deg': 295, 'gust': 4.12}, 'visibility': 10000, 'pop': 0, 'sys': {'pod': 'n'}, 'dt_txt': '2023-10-15 03:00:00'}, {'dt': 1697349600, 'main': {'temp': 276.66, 'feels_like': 274.36, 'temp_min': 276.66, 'temp_max': 276.66, 'pressure': 994, 'sea_level': 994, 'grnd_level': 976, 'humidity': 75, 'temp_kf': 0}, 'weather': [{'id': 804, 'main': 'Clouds', 'description': 'overcast clouds', 'icon': '04d'}], 'clouds': {'all': 99}, 'wind': {'speed': 2.42, 'deg': 288, 'gust': 3.17}, 'visibility': 10000, 'pop': 0, 'sys': {'pod': 'd'}, 'dt_txt': '2023-10-15 06:00:00'}, {'dt': 1697360400, 'main': {'temp': 280.01, 'feels_like': 278.69, 'temp_min': 280.01, 'temp_max': 280.01, 'pressure': 997, 'sea_level': 997, 'grnd_level': 979, 'humidity': 58, 'temp_kf': 0}, 'weather': [{'id': 804, 'main': 'Clouds', 'description': 'overcast clouds', 'icon': '04d'}], 'clouds': {'all': 100}, 'wind': {'speed': 1.99, 'deg': 273, 'gust': 5.5}, 'visibility': 10000, 'pop': 0, 'sys': {'pod': 'd'}, 'dt_txt': '2023-10-15 09:00:00'}, {'dt': 1697371200, 'main': {'temp': 281.7, 'feels_like': 280.1, 'temp_min': 281.7, 'temp_max': 281.7, 'pressure': 1000, 'sea_level': 1000, 'grnd_level': 982, 'humidity': 47, 'temp_kf': 0}, 'weather': [{'id': 804, 'main': 'Clouds', 'description': 'overcast clouds', 'icon': '04d'}], 'clouds': {'all': 100}, 'wind': {'speed': 2.72, 'deg': 284, 'gust': 5.93}, 'visibility': 10000, 'pop': 0, 'sys': {'pod': 'd'}, 'dt_txt': '2023-10-15 12:00:00'}, {'dt': 1697382000, 'main': {'temp': 280.35, 'feels_like': 278.52, 'temp_min': 280.35, 'temp_max': 280.35, 'pressure': 1002, 'sea_level': 1002, 'grnd_level': 984, 'humidity': 56, 'temp_kf': 0}, 'weather': [{'id': 803, 'main': 'Clouds', 'description': 'broken clouds', 'icon': '04d'}], 'clouds': {'all': 59}, 'wind': {'speed': 2.68, 'deg': 279, 'gust': 5.62}, 'visibility': 10000, 'pop': 0.08, 'sys': {'pod': 'd'}, 'dt_txt': '2023-10-15 15:00:00'}, {'dt': 1697392800, 'main': {'temp': 275.64, 'feels_like': 273.3, 'temp_min': 275.64, 'temp_max': 275.64, 'pressure': 1005, 'sea_level': 1005, 'grnd_level': 987, 'humidity': 74, 'temp_kf': 0}, 'weather': [{'id': 802, 'main': 'Clouds', 'description': 'scattered clouds', 'icon': '03n'}], 'clouds': {'all': 47}, 'wind': {'speed': 2.27, 'deg': 280, 'gust': 2.26}, 'visibility': 10000, 'pop': 0, 'sys': {'pod': 'n'}, 'dt_txt': '2023-10-15 18:00:00'}, {'dt': 1697403600, 'main': {'temp': 274.8, 'feels_like': 272.42, 'temp_min': 274.8, 'temp_max': 274.8, 'pressure': 1007, 'sea_level': 1007, 'grnd_level': 988, 'humidity': 75, 'temp_kf': 0}, 'weather': [{'id': 804, 'main': 'Clouds', 'description': 'overcast clouds', 'icon': '04n'}], 'clouds': {'all': 100}, 'wind': {'speed': 2.17, 'deg': 286, 'gust': 2.12}, 'visibility': 10000, 'pop': 0, 'sys': {'pod': 'n'}, 'dt_txt': '2023-10-15 21:00:00'}, {'dt': 1697414400, 'main': {'temp': 273.74, 'feels_like': 271.17, 'temp_min': 273.74, 'temp_max': 273.74, 'pressure': 1008, 'sea_level': 1008, 'grnd_level': 989, 'humidity': 78, 'temp_kf': 0}, 'weather': [{'id': 804, 'main': 'Clouds', 'description': 'overcast clouds', 'icon': '04n'}], 'clouds': {'all': 85}, 'wind': {'speed': 2.18, 'deg': 290, 'gust': 2.3}, 'visibility': 10000, 'pop': 0, 'sys': {'pod': 'n'}, 'dt_txt': '2023-10-16 00:00:00'}, {'dt': 1697425200, 'main': {'temp': 273.71, 'feels_like': 271.16, 'temp_min': 273.71, 'temp_max': 273.71, 'pressure': 1009, 'sea_level': 1009, 'grnd_level': 990, 'humidity': 78, 'temp_kf': 0}, 'weather': [{'id': 800, 'main': 'Clear', 'description': 'clear sky', 'icon': '01n'}], 'clouds': {'all': 10}, 'wind': {'speed': 2.16, 'deg': 280, 'gust': 2.01}, 'visibility': 10000, 'pop': 0, 'sys': {'pod': 'n'}, 'dt_txt': '2023-10-16 03:00:00'}, {'dt': 1697436000, 'main': {'temp': 273.53, 'feels_like': 270.86, 'temp_min': 273.53, 'temp_max': 273.53, 'pressure': 1010, 'sea_level': 1010, 'grnd_level': 991, 'humidity': 77, 'temp_kf': 0}, 'weather': [{'id': 800, 'main': 'Clear', 'description': 'clear sky', 'icon': '01n'}], 'clouds': {'all': 6}, 'wind': {'speed': 2.24, 'deg': 280, 'gust': 2.33}, 'visibility': 10000, 'pop': 0, 'sys': {'pod': 'n'}, 'dt_txt': '2023-10-16 06:00:00'}, {'dt': 1697446800, 'main': {'temp': 278.37, 'feels_like': 276.9, 'temp_min': 278.37, 'temp_max': 278.37, 'pressure': 1010, 'sea_level': 1010, 'grnd_level': 992, 'humidity': 51, 'temp_kf': 0}, 'weather': [{'id': 802, 'main': 'Clouds', 'description': 'scattered clouds', 'icon': '03d'}], 'clouds': {'all': 28}, 'wind': {'speed': 1.88, 'deg': 273, 'gust': 3.62}, 'visibility': 10000, 'pop': 0, 'sys': {'pod': 'd'}, 'dt_txt': '2023-10-16 09:00:00'}, {'dt': 1697457600, 'main': {'temp': 280.75, 'feels_like': 278.78, 'temp_min': 280.75, 'temp_max': 280.75, 'pressure': 1010, 'sea_level': 1010, 'grnd_level': 992, 'humidity': 37, 'temp_kf': 0}, 'weather': [{'id': 803, 'main': 'Clouds', 'description': 'broken clouds', 'icon': '04d'}], 'clouds': {'all': 55}, 'wind': {'speed': 3, 'deg': 295, 'gust': 5.47}, 'visibility': 10000, 'pop': 0, 'sys': {'pod': 'd'}, 'dt_txt': '2023-10-16 12:00:00'}], 'city': {'id': 3144113, 'name': 'Noresund', 'coord': {'lat': 60.1803, 'lon': 9.6231}, 'country': 'NO', 'population': 1000, 'timezone': 7200, 'sunrise': 1697003402, 'sunset': 1697041582}}\n"
     ]
    }
   ],
   "source": [
    "responseF = requests.get(urlF).json()\n",
    "print(responseF)"
   ]
  },
  {
   "cell_type": "code",
   "execution_count": 11,
   "metadata": {
    "slideshow": {
     "slide_type": "slide"
    }
   },
   "outputs": [],
   "source": [
    "# Write JSON to file for viewing\n",
    "with open('downloads/forecast.json', 'w') as f:\n",
    "    json.dump(responseF, f, indent=4)"
   ]
  },
  {
   "cell_type": "markdown",
   "metadata": {
    "slideshow": {
     "slide_type": "slide"
    }
   },
   "source": [
    "### When and what?\n",
    "Check contents and time stamps"
   ]
  },
  {
   "cell_type": "code",
   "execution_count": 12,
   "metadata": {
    "slideshow": {
     "slide_type": "-"
    }
   },
   "outputs": [
    {
     "data": {
      "text/plain": [
       "dict_keys(['cod', 'message', 'cnt', 'list', 'city'])"
      ]
     },
     "execution_count": 12,
     "metadata": {},
     "output_type": "execute_result"
    }
   ],
   "source": [
    "# Content of responseF\n",
    "responseF.keys()"
   ]
  },
  {
   "cell_type": "code",
   "execution_count": 13,
   "metadata": {
    "slideshow": {
     "slide_type": "fragment"
    }
   },
   "outputs": [
    {
     "name": "stdout",
     "output_type": "stream",
     "text": [
      "40\n"
     ]
    }
   ],
   "source": [
    "# Number of forecasts\n",
    "print(len(responseF[\"list\"]))"
   ]
  },
  {
   "cell_type": "code",
   "execution_count": 14,
   "metadata": {
    "scrolled": true,
    "slideshow": {
     "slide_type": "slide"
    }
   },
   "outputs": [
    {
     "name": "stdout",
     "output_type": "stream",
     "text": [
      "2023-10-11 15:00:00\n",
      "2023-10-11 18:00:00\n",
      "2023-10-11 21:00:00\n",
      "2023-10-12 00:00:00\n",
      "2023-10-12 03:00:00\n",
      "2023-10-12 06:00:00\n",
      "2023-10-12 09:00:00\n",
      "2023-10-12 12:00:00\n",
      "2023-10-12 15:00:00\n",
      "2023-10-12 18:00:00\n",
      "2023-10-12 21:00:00\n",
      "2023-10-13 00:00:00\n",
      "2023-10-13 03:00:00\n",
      "2023-10-13 06:00:00\n",
      "2023-10-13 09:00:00\n",
      "2023-10-13 12:00:00\n",
      "2023-10-13 15:00:00\n",
      "2023-10-13 18:00:00\n",
      "2023-10-13 21:00:00\n",
      "2023-10-14 00:00:00\n",
      "2023-10-14 03:00:00\n",
      "2023-10-14 06:00:00\n",
      "2023-10-14 09:00:00\n",
      "2023-10-14 12:00:00\n",
      "2023-10-14 15:00:00\n",
      "2023-10-14 18:00:00\n",
      "2023-10-14 21:00:00\n",
      "2023-10-15 00:00:00\n",
      "2023-10-15 03:00:00\n",
      "2023-10-15 06:00:00\n",
      "2023-10-15 09:00:00\n",
      "2023-10-15 12:00:00\n",
      "2023-10-15 15:00:00\n",
      "2023-10-15 18:00:00\n",
      "2023-10-15 21:00:00\n",
      "2023-10-16 00:00:00\n",
      "2023-10-16 03:00:00\n",
      "2023-10-16 06:00:00\n",
      "2023-10-16 09:00:00\n",
      "2023-10-16 12:00:00\n"
     ]
    }
   ],
   "source": [
    "# Print forecast times\n",
    "for forecast in responseF[\"list\"]:\n",
    "    print(forecast[\"dt_txt\"])"
   ]
  },
  {
   "cell_type": "markdown",
   "metadata": {
    "slideshow": {
     "slide_type": "slide"
    }
   },
   "source": [
    "## Make plots of omnipresent measurements and events\n",
    "We will later look at missing data, data only sporadically appearing and so on."
   ]
  },
  {
   "cell_type": "code",
   "execution_count": 15,
   "metadata": {
    "slideshow": {
     "slide_type": "-"
    }
   },
   "outputs": [],
   "source": [
    "# Air pressure per period\n",
    "pressures = []\n",
    "timestamps = []\n",
    "for forecast in responseF[\"list\"]:\n",
    "    pressures.append(forecast[\"main\"][\"pressure\"])\n",
    "    timestamps.append(dt.datetime.fromtimestamp(forecast[\"dt\"]))"
   ]
  },
  {
   "cell_type": "code",
   "execution_count": 16,
   "metadata": {
    "slideshow": {
     "slide_type": "slide"
    }
   },
   "outputs": [
    {
     "data": {
      "image/png": "[encoded data removed]",
      "text/plain": [
       "<Figure size 640x480 with 1 Axes>"
      ]
     },
     "metadata": {},
     "output_type": "display_data"
    }
   ],
   "source": [
    "import matplotlib.pyplot as plt\n",
    "plt.bar(timestamps, pressures)\n",
    "plt.xticks(rotation=45)\n",
    "plt.ylim(950, 1050)\n",
    "plt.grid()\n",
    "plt.ylabel(\"Air pressure (hPa)\")\n",
    "plt.title(f\"Forecasted air pressure in {CITY}\")\n",
    "plt.show()"
   ]
  },
  {
   "cell_type": "markdown",
   "metadata": {
    "slideshow": {
     "slide_type": "slide"
    }
   },
   "source": [
    "## Exercise\n",
    "- Make a new forecast request for your own hometown. Call your response something else than responseF.\n",
    "- If available, plot the humidity like we did with air pressure."
   ]
  },
  {
   "cell_type": "markdown",
   "metadata": {
    "slideshow": {
     "slide_type": "slide"
    }
   },
   "source": [
    "### Precipitation\n",
    "- ... comes in two main flavours: rain and snow.\n",
    "- We need to check which is present and set to zero if it is abscent."
   ]
  },
  {
   "cell_type": "code",
   "execution_count": 17,
   "metadata": {
    "slideshow": {
     "slide_type": "-"
    }
   },
   "outputs": [],
   "source": [
    "rain = []\n",
    "snow = []\n",
    "for forecast in responseF[\"list\"]:\n",
    "    try: # Check if rain is present in forecast\n",
    "        rain.append(forecast[\"rain\"][\"3h\"])\n",
    "    except KeyError:\n",
    "        rain.append(0)\n",
    "    try: # Check if snow is present in forecast\n",
    "        snow.append(forecast[\"snow\"][\"3h\"])\n",
    "    except KeyError:\n",
    "        snow.append(0)"
   ]
  },
  {
   "cell_type": "code",
   "execution_count": 18,
   "metadata": {
    "slideshow": {
     "slide_type": "slide"
    }
   },
   "outputs": [
    {
     "data": {
      "image/png": "[encoded data removed]",
      "text/plain": [
       "<Figure size 640x480 with 1 Axes>"
      ]
     },
     "metadata": {},
     "output_type": "display_data"
    }
   ],
   "source": [
    "# Stacked bar chart with rain and snow\n",
    "plt.bar(timestamps, rain, label=\"Rain\")\n",
    "plt.bar(timestamps, snow, label=\"Snow\")\n",
    "plt.xticks(rotation=45)\n",
    "plt.grid()\n",
    "plt.ylabel(\"Precipitation (mm)\")\n",
    "plt.title(f\"Forecasted precipitation in {CITY}\")\n",
    "plt.legend()\n",
    "plt.show()\n"
   ]
  },
  {
   "cell_type": "markdown",
   "metadata": {
    "slideshow": {
     "slide_type": "slide"
    }
   },
   "source": [
    "```{seealso} Resources\n",
    ":class: tip\n",
    "- [YouTube: NeuralNine's video (15m:32s)](https://www.youtube.com/watch?v=9P5MY_2i7K8)\n",
    "```"
   ]
  }
 ],
 "metadata": {
  "celltoolbar": "Slideshow",
  "kernelspec": {
   "display_name": "Python 3 (ipykernel)",
   "language": "python",
   "name": "python3"
  },
  "language_info": {
   "codemirror_mode": {
    "name": "ipython",
    "version": 3
   },
   "file_extension": ".py",
   "mimetype": "text/x-python",
   "name": "python",
   "nbconvert_exporter": "python",
   "pygments_lexer": "ipython3",
   "version": "3.10.6"
  }
 },
 "nbformat": 4,
 "nbformat_minor": 2
}
