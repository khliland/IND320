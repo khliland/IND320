{
 "cells": [
  {
   "cell_type": "markdown",
   "metadata": {
    "slideshow": {
     "slide_type": "slide"
    },
    "tags": []
   },
   "source": [
    "# Reports\n",
    "- Reports and dashboards are overlapping tools/endpoints which share many elements.\n",
    "- Which to make and what to call your end product is dependent on the project and organisation.\n",
    "- The following is a repetition from the [Data Pipeline chapter](../../1_Decision_making/1_Data_pipeline.ipynb)."
   ]
  },
  {
   "cell_type": "markdown",
   "metadata": {
    "slideshow": {
     "slide_type": "slide"
    },
    "tags": []
   },
   "source": [
    "## Dashboards vs Reports\n",
    "- Dashboards are often updated live\n",
    "    - Mostly graphs, plots, etc.\n",
    "    - Key performance indicators (KPIs)\n",
    "    - Current trends, accumulation in minutes, hours, days, weeks, ...\n",
    "- Reports can be:\n",
    "    - Summaries of activities, economy, etc. up to a point\n",
    "    - Investigations into a subject\n",
    "    - Suggestive of future path or action\n",
    "    - Often printable, but digital reports can contain interactive graphics"
   ]
  },
  {
   "cell_type": "markdown",
   "metadata": {
    "slideshow": {
     "slide_type": "slide"
    },
    "tags": []
   },
   "source": [
    "## Reproducibility\n",
    "- In many projects, e.g., those based on Data-Driven Desision Making, transparency, traceability and reproducibility are important.\n",
    "- Ideally, this means being able to recreate report contents at any time.\n",
    "    - Markdown, Jupyter Notebooks, RMarkdown and similar frameworks are popular open alternatives for such reports.\n",
    "    - Power BI Report Builder is the Power BI equivalent with options similar to Power BI Desktop, but optimised for paginated output, e.g., PDF without interactivity.\n",
    "    - Redo datahandling, calculations and visualisations at the time of rendering/compilation.\n",
    "    - Underlying data must be available, possibly using a local copy.\n",
    "        - Copy-pasting from various sources is a no-go.\n",
    "- Version control can be used to trace any changes to data, code or text.\n",
    "    - Even though the project may continue and the report evolve, a snapshot from a certain timepoint is always available."
   ]
  },
  {
   "cell_type": "markdown",
   "metadata": {
    "slideshow": {
     "slide_type": "slide"
    },
    "tags": []
   },
   "source": [
    "## Graphics\n",
    "- \"A picture is worth a thousand words\" is an old cliche, but still valid.\n",
    "- Eye catching, yet informative graphics with descriptive captions can carry most of the message in anything from a glossy paper brochure to a research article.\n",
    "    - In a report, text is inevitable as context, background, interpretations and conclusions are hard to convert to graphics that are universally understandable.\n",
    "- A digital report can retain some interactivity, e.g., Plotly interactions.\n",
    "    - With some effort, also more advanced interactivity can be included, e.g., in an .html formatted report or an online report in services like Power BI.\n",
    "    - Interactivity can engage the reader more, partially by just being more fun, but also because it feels more tangible and personal."
   ]
  },
  {
   "cell_type": "markdown",
   "metadata": {
    "slideshow": {
     "slide_type": "slide"
    },
    "tags": []
   },
   "source": [
    "## Numbers\n",
    "- Numbers can be communicated in various ways depending on the type and function.\n",
    "- Key Performance Indicators (KPI) are single figures that show some important summary, e.g., gross income, increase in sales since last period, a competitive index, etc.\n",
    "    - These are typically highlighted in a report possibly grouped together and placed visibly.\n",
    "- Tables can be needed for increased precision or as background material for graphs.\n",
    "    - Formatting can highlight what we want the reader to focus on.\n",
    "    - Pivoting, grouping and summarising can give a much easier interpretation than large tables."
   ]
  },
  {
   "cell_type": "markdown",
   "metadata": {
    "slideshow": {
     "slide_type": "slide"
    },
    "tags": []
   },
   "source": [
    "## Audience\n",
    "- Do not overestimate your readers!\n",
    "    - Simple graphics and simple messages are most likely to have an impact in most situations.\n",
    "    - The higher up in an organisation a report is aimed at, the less time one can expect will be used at interpretation (boldly speaking).\n",
    "- Background knowledge and technical expertise is likely to be different from your own.\n",
    "    - Footnotes, linkes to sources etc. are useful if technical terms must be used."
   ]
  },
  {
   "cell_type": "markdown",
   "metadata": {
    "slideshow": {
     "slide_type": "slide"
    },
    "tags": []
   },
   "source": [
    "__...__\n",
    "- Consider cultural background and language fluency when writing.\n",
    "    - Relatively short sentences.\n",
    "    - Avoid using:\n",
    "        - artifical or fancy words, e.g., foreign words to appear interesting\n",
    "        - [slang](https://www.studyinternational.com/news/american-slang-explained/) that can be misunderstood or not understood\n",
    "- Consider the use of [buzzwords](https://smartblogger.com/buzzwords/), e.g., \"synergy\", \"big data\", \"data science\", \"prompting\", as overuse makes text sound clichéd.\n",
    "    - This is especially important if the report is supposed to be used for many years as terms become obsolite quickly, especially in the tech business."
   ]
  },
  {
   "cell_type": "markdown",
   "metadata": {
    "slideshow": {
     "slide_type": "slide"
    },
    "tags": []
   },
   "source": [
    "## Tools/software\n",
    "- The above mentioned tools are just examples. The possiblities are virtually endless.\n",
    "- A surprising amount of business reports are made as presentations, e.g., PowerPoints, or PDF exports of presentation, thus violating or stretching the reproducibility principles.\n",
    "- Spreadsheets, e.g., Excel, and text documents, e.g., Word, are also popular.\n",
    "- If the topic and demands are simple, do not overengineer the solution."
   ]
  },
  {
   "cell_type": "markdown",
   "metadata": {
    "slideshow": {
     "slide_type": "slide"
    },
    "tags": []
   },
   "source": [
    "## Layout\n",
    "- The perfect theme for a report does not exist and is a moving target.\n",
    "- Looking back a couple of decades, sharp division using lines and strong background colours was popular.\n",
    "- Organisation and grouping using alignment, white space and soft colours is more typical as of 2023.\n",
    "- \"Air\", i.e., open surface around elements, is less stressful than an over-crowded page.\n",
    "- Use paragraphs to group sub-themes in the text and keep them short."
   ]
  },
  {
   "cell_type": "markdown",
   "metadata": {
    "slideshow": {
     "slide_type": "slide"
    },
    "tags": []
   },
   "source": [
    "```{seealso} Resources\n",
    ":class: tip\n",
    "- [Power BI Report Builder](https://learn.microsoft.com/en-us/power-bi/paginated-reports/report-builder-power-bi)\n",
    "- [slang](https://www.studyinternational.com/news/american-slang-explained/)\n",
    "- [buzzwords](https://smartblogger.com/buzzwords/)\n",
    "```"
   ]
  }
 ],
 "metadata": {
  "kernelspec": {
   "display_name": "Python 3 (ipykernel)",
   "language": "python",
   "name": "python3"
  },
  "language_info": {
   "codemirror_mode": {
    "name": "ipython",
    "version": 3
   },
   "file_extension": ".py",
   "mimetype": "text/x-python",
   "name": "python",
   "nbconvert_exporter": "python",
   "pygments_lexer": "ipython3",
   "version": "3.11.6"
  }
 },
 "nbformat": 4,
 "nbformat_minor": 4
}
