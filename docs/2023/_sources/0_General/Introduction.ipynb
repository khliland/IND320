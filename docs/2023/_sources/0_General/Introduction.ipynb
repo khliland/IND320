{
 "cells": [
  {
   "cell_type": "markdown",
   "metadata": {
    "slideshow": {
     "slide_type": "slide"
    }
   },
   "source": [
    "# IND320 - Data to decision\n",
    "The contents of this [Jupyter Book](https://jupyterbook.org/en/stable/intro.html) is the basis for the course \"Data to decision\" codenamed [IND320](https://gammel.nmbu.no/course/IND320) given at the Norwegian University of Life Sciences for the first time in the autumn of 2023.\n",
    "  \n",
    "\n",
    "<img src=\"https://github.com/khliland/IND320/blob/main/D2Dbook/images/D2D_large.png?raw=TRUE\" width=\"500px\" />"
   ]
  },
  {
   "cell_type": "markdown",
   "metadata": {
    "slideshow": {
     "slide_type": "slide"
    }
   },
   "source": [
    "## Status\n",
    "This book has been filled and updated during the autumn semester of 2023. It will be updated and revisioned for future courses. Suggestions and contributions from the community are welcome.  \n",
    "\n",
    "## Audience\n",
    "- The main audience will be those who follow IND320 as regular students at NMBU.\n",
    "- Others are free to use the book as is.\n",
    "\n",
    "[<img src=\"https://github.com/khliland/IND320/blob/main/D2Dbook/images/NMBU_logo.svg?raw=TRUE\" width=\"200px\">](https://www.nmbu.no)"
   ]
  },
  {
   "cell_type": "markdown",
   "metadata": {
    "slideshow": {
     "slide_type": "slide"
    }
   },
   "source": [
    "## Structure\n",
    "The structure and organisation of this book means it can be used in several ways:\n",
    "- A compiled static book with text, graphics and Python examples.\n",
    "    - Main menu on the left, section menu on the right, notebook controls at the top.\n",
    "- A collection of interactive Jupyter Notebooks adapted for Jupyter Lab.\n",
    "- A collection of presentations (through support for the [deck extension](https://github.com/deathbeds/jupyterlab-deck))."
   ]
  },
  {
   "cell_type": "markdown",
   "metadata": {
    "slideshow": {
     "slide_type": "slide"
    }
   },
   "source": [
    "## Technical basis\n",
    "### Keys and passwords\n",
    "Code in the book sometimes refer to the folder \"No_sync\" which is on the same folder level as D2Dbook (the book). This folder is excluded from the GitHub sync due to containing API keys and passwords plus some exercise solutions. If you want to run examples referring to the folder, please create one on your computer and fill with appropriate keys and passwords for your own licenses."
   ]
  },
  {
   "cell_type": "markdown",
   "metadata": {
    "slideshow": {
     "slide_type": "slide"
    }
   },
   "source": [
    "### Software requirements\n",
    "- Basic functionality requires Python (originally built with version 3.11.6) and packages _matplotlib_, _numpy_, _json_, _datetime_.\n",
    "- For more advanced plotting: _plotly_.\n",
    "- For databases:\n",
    "    - E.g., [docker](https://docs.docker.com/desktop/install) with [Cassandra](https://cassandra.apache.org/doc/latest/cassandra/getting_started/installing.html) database having the expected tables.\n",
    "    - Python packages _cassandra-driver_, _cql_\n",
    "    - PySpark has different requirements from platform to platform. See [Installation](../6_Appendix/Installation.ipynb).\n",
    "- For APIs:\n",
    "    - Python packages _requests_, _flask_\n",
    "- For machine learning:\n",
    "    - Python packages _pandas_, _scikit-learn_ (or quicker/more scalable implementation)\n",
    "- Compiling the full book requires several programs and packages, but all Jupyter Notebooks can be run separately.\n",
    "    - Python packages: _jupyter-book_ and all above.\n",
    "    - A running Flask server with the _flask\\_API.py_ active.\n",
    "    - Cassandra running locally, e.g., using Docker.\n",
    "    - The file [requirements.txt](../requirements.txt) contains most of the packages that are needed."
   ]
  },
  {
   "cell_type": "markdown",
   "metadata": {
    "slideshow": {
     "slide_type": "slide"
    }
   },
   "source": [
    "### Accounts\n",
    "Some free accounts that are useful when following this course/book:  \n",
    "- GitHub: for easy syncing of lecture material and storage of projects.\n",
    "- OpenWeatherMap.org: for API access.\n",
    "- Power BI: for projects in deployment.\n",
    "- Google/Microsoft/OpenAI: for Google Bard/Bing chat/ChatGPT or other equivalent service."
   ]
  },
  {
   "cell_type": "markdown",
   "metadata": {
    "slideshow": {
     "slide_type": "slide"
    }
   },
   "source": [
    "## AI tools\n",
    "It is highly recommended to leverage available AI tools when programming and learning. In the process of writing this material, freeware tools were used such as:\n",
    "- [GitHub copilot](https://copilot.github.com) in [VS Code](https://code.visualstudio.com/)\n",
    "    - Free for [students and educators](https://education.github.com/) through Global Campus\n",
    "        - Use the _Benefits_ menu on top of the webpage after logging in to access free accounts.\n",
    "    - Includes [chat for those who sign up](https://github.com/features/preview) plus [beta projects](https://githubnext.com/)\n",
    "- [Google Bard](https://bard.google.com) (requires Google account)\n",
    "- [ChatGPT](https://chat.openai.com/) (requires OpenAI account)\n",
    "- [Bing chat](https://bing.com) (requires Microsoft account)\n",
    "  \n",
    "Note! None of these are compulsory to use as they may breach GDPR and require sharing of personal information with a 3rd party. However, student emails typically have a Microsoft account attached, i.e., give you access to Bing chat with minimum effort."
   ]
  },
  {
   "cell_type": "markdown",
   "metadata": {
    "slideshow": {
     "slide_type": "slide"
    }
   },
   "source": [
    "```{seealso} Resources\n",
    ":class: tip\n",
    "Some basics that are assumed known in advance or just useful:\n",
    "- [YouTube: VS Code in 100 seconds](https://youtu.be/KMxo3T_MTvY) (2m:34s)\n",
    "- [YouTube: 13 Advanced (but useful) Git Techniques and Shortcuts](https://youtu.be/ecK3EnyGD8o) (8m:07s)\n",
    "- [YouTube: Docker in 100 seconds](https://youtu.be/Gjnup-PuquQ) (2m:07s)\n",
    "- [Python lessons - code this, not that](https://fireship.io/lessons/code-this-not-that-python-edition/)\n",
    "```"
   ]
  }
 ],
 "metadata": {
  "celltoolbar": "Slideshow",
  "kernelspec": {
   "display_name": "Python 3 (ipykernel)",
   "language": "python",
   "name": "python3"
  },
  "language_info": {
   "codemirror_mode": {
    "name": "ipython",
    "version": 3
   },
   "file_extension": ".py",
   "mimetype": "text/x-python",
   "name": "python",
   "nbconvert_exporter": "python",
   "pygments_lexer": "ipython3",
   "version": "3.11.6"
  }
 },
 "nbformat": 4,
 "nbformat_minor": 4
}
