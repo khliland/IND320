{
 "cells": [
  {
   "cell_type": "markdown",
   "metadata": {
    "slideshow": {
     "slide_type": "slide"
    }
   },
   "source": [
    "# Cassandra\n",
    "- A production grade NoSQL database.\n",
    "- Can be distributed across servers, nodes, etc.\n",
    "- Replication of database is supported for high degree of redundancy and speed.\n",
    "- Uses CQL, a subset of SQL for querying.\n",
    "- Works seamlesly together with Spark and its corresponding distributed structure.\n",
    "- Installation of Cassandra is explained in the [Installation chapter](../../7_Appendix/Installation.ipynb)."
   ]
  },
  {
   "cell_type": "markdown",
   "metadata": {
    "slideshow": {
     "slide_type": "slide"
    }
   },
   "source": [
    "## Spinning up a local Cassandra instance\n",
    "In a terminal, first time:  \n",
    "```docker run --name my_cassandra -p 9042:9042 cassandra:latest```  \n",
    "... and later:  \n",
    "```docker start my_cassandra```  \n",
    "  \n",
    ".. or in Docker Desktop:\n",
    "- Run the cassandra docker image with optional settings, opening 9042 port and setting a name.\n",
    "- Later, simply run the container with the name you chose."
   ]
  },
  {
   "cell_type": "markdown",
   "metadata": {
    "slideshow": {
     "slide_type": "slide"
    }
   },
   "source": [
    "<img src=\"https://github.com/khliland/IND320/blob/main/D2Dbook/images/Docker_images.png?raw=TRUE\" width=\"600px\">  "
   ]
  },
  {
   "cell_type": "markdown",
   "metadata": {
    "slideshow": {
     "slide_type": "slide"
    }
   },
   "source": [
    "\n",
    "<img src=\"https://github.com/khliland/IND320/blob/main/D2Dbook/images/Docker_containers.png?raw=TRUE\" width=\"800px\">  "
   ]
  },
  {
   "cell_type": "markdown",
   "metadata": {
    "slideshow": {
     "slide_type": "slide"
    }
   },
   "source": [
    "### Connect to the Cassandra cluster from Python."
   ]
  },
  {
   "cell_type": "code",
   "execution_count": 1,
   "metadata": {
    "ExecuteTime": {
     "end_time": "2024-08-17T10:25:34.787878Z",
     "start_time": "2024-08-17T10:25:34.389367Z"
    },
    "slideshow": {
     "slide_type": "fragment"
    },
    "tags": []
   },
   "outputs": [],
   "source": [
    "# Connecting to Cassandra\n",
    "from cassandra.cluster import Cluster\n",
    "cluster = Cluster(['localhost'], port=9042)\n",
    "session = cluster.connect()"
   ]
  },
  {
   "cell_type": "markdown",
   "metadata": {
    "slideshow": {
     "slide_type": "slide"
    }
   },
   "source": [
    "### Keyspace\n",
    "- In Cassandra database tables are stored in keyspaces (basically a distributed database).\n",
    "- These have parameters controlling their distribution on nodes/servers and redundancy.\n",
    "- We will use the simplest form locally."
   ]
  },
  {
   "cell_type": "code",
   "execution_count": 2,
   "metadata": {
    "ExecuteTime": {
     "end_time": "2024-08-17T10:25:34.798504Z",
     "start_time": "2024-08-17T10:25:34.789786Z"
    },
    "slideshow": {
     "slide_type": "fragment"
    },
    "tags": []
   },
   "outputs": [
    {
     "data": {
      "text/plain": [
       "<cassandra.cluster.ResultSet at 0x106dd84a0>"
      ]
     },
     "execution_count": 2,
     "metadata": {},
     "output_type": "execute_result"
    }
   ],
   "source": [
    "# Set up new keyspace (first time only)\n",
    "#                                              name of keyspace                        replication strategy           replication factor\n",
    "session.execute(\"CREATE KEYSPACE IF NOT EXISTS my_first_keyspace WITH REPLICATION = { 'class' : 'SimpleStrategy', 'replication_factor' : 1 };\")"
   ]
  },
  {
   "cell_type": "markdown",
   "metadata": {
    "slideshow": {
     "slide_type": "slide"
    }
   },
   "source": [
    "### Create a table\n",
    "- IF NOT EXISTS makes sure we do not overwrite existing tables"
   ]
  },
  {
   "cell_type": "code",
   "execution_count": 3,
   "metadata": {
    "ExecuteTime": {
     "end_time": "2024-08-17T10:25:35.347394Z",
     "start_time": "2024-08-17T10:25:34.800008Z"
    },
    "slideshow": {
     "slide_type": "fragment"
    },
    "tags": []
   },
   "outputs": [
    {
     "data": {
      "text/plain": [
       "<cassandra.cluster.ResultSet at 0x10795ab10>"
      ]
     },
     "execution_count": 3,
     "metadata": {},
     "output_type": "execute_result"
    }
   ],
   "source": [
    "# Create a new table (first time only)\n",
    "session.set_keyspace('my_first_keyspace')\n",
    "session.execute(\"DROP TABLE IF EXISTS my_first_keyspace.my_first_table;\") # Starting from scratch every time\n",
    "session.execute(\"CREATE TABLE IF NOT EXISTS my_first_table (ind int PRIMARY KEY, company text, model text);\")"
   ]
  },
  {
   "cell_type": "markdown",
   "metadata": {
    "slideshow": {
     "slide_type": "slide"
    }
   },
   "source": [
    "### Inserting and reading data"
   ]
  },
  {
   "cell_type": "code",
   "execution_count": 4,
   "metadata": {
    "ExecuteTime": {
     "end_time": "2024-08-17T10:25:35.366363Z",
     "start_time": "2024-08-17T10:25:35.350453Z"
    },
    "slideshow": {
     "slide_type": "fragment"
    },
    "tags": []
   },
   "outputs": [
    {
     "data": {
      "text/plain": [
       "<cassandra.cluster.ResultSet at 0x10795b2f0>"
      ]
     },
     "execution_count": 4,
     "metadata": {},
     "output_type": "execute_result"
    }
   ],
   "source": [
    "# Insert some data (ind is the primary key, must be unique)\n",
    "session.execute(\"INSERT INTO my_first_table (ind, company, model) VALUES (1, 'Tesla', 'Model S');\")\n",
    "session.execute(\"INSERT INTO my_first_table (ind, company, model) VALUES (2, 'Tesla', 'Model 3');\")\n",
    "session.execute(\"INSERT INTO my_first_table (ind, company, model) VALUES (3, 'Polestar', '3');\")"
   ]
  },
  {
   "cell_type": "code",
   "execution_count": 5,
   "metadata": {},
   "outputs": [
    {
     "name": "stdout",
     "output_type": "stream",
     "text": [
      "Row(ind=1, company='Tesla', model='Model S')\n",
      "Row(ind=2, company='Tesla', model='Model 3')\n",
      "Row(ind=3, company='Polestar', model='3')\n"
     ]
    }
   ],
   "source": [
    "# Query the data\n",
    "rows = session.execute(\"SELECT * FROM my_first_table;\")\n",
    "for i in rows:\n",
    "    print(i)"
   ]
  },
  {
   "cell_type": "markdown",
   "metadata": {
    "slideshow": {
     "slide_type": "slide"
    },
    "tags": []
   },
   "source": [
    "### Case sensitivity\n",
    "- Cassandra is by default case insensitive in column names.\n",
    "- To use column names with capital letters, use double quotation marks both when creating tables and when inserting data.\n",
    "- The effect of insensitivity may be surprising.\n",
    "    - Look carefully at the use of quotation marks and error message below."
   ]
  },
  {
   "cell_type": "code",
   "execution_count": 6,
   "metadata": {
    "slideshow": {
     "slide_type": "slide"
    },
    "tags": []
   },
   "outputs": [
    {
     "data": {
      "text/plain": [
       "<cassandra.cluster.ResultSet at 0x107961a30>"
      ]
     },
     "execution_count": 6,
     "metadata": {},
     "output_type": "execute_result"
    }
   ],
   "source": [
    "session.set_keyspace('my_first_keyspace')\n",
    "session.execute(\"DROP TABLE IF EXISTS my_first_keyspace.case_insensitive;\") # Starting from scratch every time\n",
    "session.execute(\"CREATE TABLE IF NOT EXISTS case_insensitive (Capital int PRIMARY KEY, Letters text, Everywhere text);\")\n",
    "session.execute(\"DROP TABLE IF EXISTS my_first_keyspace.case_sensitive;\") # Starting from scratch every time\n",
    "session.execute(\"CREATE TABLE IF NOT EXISTS case_sensitive (\\\"Capital\\\" int PRIMARY KEY, \\\"Letters\\\" text, \\\"Everywhere\\\" text);\")"
   ]
  },
  {
   "cell_type": "code",
   "execution_count": 7,
   "metadata": {
    "slideshow": {
     "slide_type": "fragment"
    },
    "tags": []
   },
   "outputs": [
    {
     "data": {
      "text/plain": [
       "<cassandra.cluster.ResultSet at 0x106dad7c0>"
      ]
     },
     "execution_count": 7,
     "metadata": {},
     "output_type": "execute_result"
    }
   ],
   "source": [
    "session.execute(\"INSERT INTO case_insensitive (Capital, Letters, Everywhere) VALUES (1, 'Tesla', 'Model S');\")"
   ]
  },
  {
   "cell_type": "code",
   "execution_count": 8,
   "metadata": {
    "slideshow": {
     "slide_type": "fragment"
    },
    "tags": [
     "raises-exception"
    ]
   },
   "outputs": [
    {
     "ename": "InvalidRequest",
     "evalue": "Error from server: code=2200 [Invalid query] message=\"Undefined column name capital in table my_first_keyspace.case_sensitive\"",
     "output_type": "error",
     "traceback": [
      "\u001b[31m---------------------------------------------------------------------------\u001b[39m",
      "\u001b[31mInvalidRequest\u001b[39m                            Traceback (most recent call last)",
      "\u001b[36mCell\u001b[39m\u001b[36m \u001b[39m\u001b[32mIn[8]\u001b[39m\u001b[32m, line 1\u001b[39m\n\u001b[32m----> \u001b[39m\u001b[32m1\u001b[39m \u001b[43msession\u001b[49m\u001b[43m.\u001b[49m\u001b[43mexecute\u001b[49m\u001b[43m(\u001b[49m\u001b[33;43m\"\u001b[39;49m\u001b[33;43mINSERT INTO case_sensitive (Capital, Letters, Everywhere) VALUES (1, \u001b[39;49m\u001b[33;43m'\u001b[39;49m\u001b[33;43mTesla\u001b[39;49m\u001b[33;43m'\u001b[39;49m\u001b[33;43m, \u001b[39;49m\u001b[33;43m'\u001b[39;49m\u001b[33;43mModel S\u001b[39;49m\u001b[33;43m'\u001b[39;49m\u001b[33;43m);\u001b[39;49m\u001b[33;43m\"\u001b[39;49m\u001b[43m)\u001b[49m\n",
      "\u001b[36mFile \u001b[39m\u001b[32m~/miniforge3/envs/ind320_25/lib/python3.12/site-packages/cassandra/cluster.py:2677\u001b[39m, in \u001b[36mSession.execute\u001b[39m\u001b[34m(self, query, parameters, timeout, trace, custom_payload, execution_profile, paging_state, host, execute_as)\u001b[39m\n\u001b[32m   2634\u001b[39m \u001b[38;5;28;01mdef\u001b[39;00m\u001b[38;5;250m \u001b[39m\u001b[34mexecute\u001b[39m(\u001b[38;5;28mself\u001b[39m, query, parameters=\u001b[38;5;28;01mNone\u001b[39;00m, timeout=_NOT_SET, trace=\u001b[38;5;28;01mFalse\u001b[39;00m,\n\u001b[32m   2635\u001b[39m             custom_payload=\u001b[38;5;28;01mNone\u001b[39;00m, execution_profile=EXEC_PROFILE_DEFAULT,\n\u001b[32m   2636\u001b[39m             paging_state=\u001b[38;5;28;01mNone\u001b[39;00m, host=\u001b[38;5;28;01mNone\u001b[39;00m, execute_as=\u001b[38;5;28;01mNone\u001b[39;00m):\n\u001b[32m   2637\u001b[39m \u001b[38;5;250m    \u001b[39m\u001b[33;03m\"\"\"\u001b[39;00m\n\u001b[32m   2638\u001b[39m \u001b[33;03m    Execute the given query and synchronously wait for the response.\u001b[39;00m\n\u001b[32m   2639\u001b[39m \n\u001b[32m   (...)\u001b[39m\u001b[32m   2674\u001b[39m \u001b[33;03m    on a DSE cluster.\u001b[39;00m\n\u001b[32m   2675\u001b[39m \u001b[33;03m    \"\"\"\u001b[39;00m\n\u001b[32m-> \u001b[39m\u001b[32m2677\u001b[39m     \u001b[38;5;28;01mreturn\u001b[39;00m \u001b[38;5;28;43mself\u001b[39;49m\u001b[43m.\u001b[49m\u001b[43mexecute_async\u001b[49m\u001b[43m(\u001b[49m\u001b[43mquery\u001b[49m\u001b[43m,\u001b[49m\u001b[43m \u001b[49m\u001b[43mparameters\u001b[49m\u001b[43m,\u001b[49m\u001b[43m \u001b[49m\u001b[43mtrace\u001b[49m\u001b[43m,\u001b[49m\u001b[43m \u001b[49m\u001b[43mcustom_payload\u001b[49m\u001b[43m,\u001b[49m\u001b[43m \u001b[49m\u001b[43mtimeout\u001b[49m\u001b[43m,\u001b[49m\u001b[43m \u001b[49m\u001b[43mexecution_profile\u001b[49m\u001b[43m,\u001b[49m\u001b[43m \u001b[49m\u001b[43mpaging_state\u001b[49m\u001b[43m,\u001b[49m\u001b[43m \u001b[49m\u001b[43mhost\u001b[49m\u001b[43m,\u001b[49m\u001b[43m \u001b[49m\u001b[43mexecute_as\u001b[49m\u001b[43m)\u001b[49m\u001b[43m.\u001b[49m\u001b[43mresult\u001b[49m\u001b[43m(\u001b[49m\u001b[43m)\u001b[49m\n",
      "\u001b[36mFile \u001b[39m\u001b[32m~/miniforge3/envs/ind320_25/lib/python3.12/site-packages/cassandra/cluster.py:4956\u001b[39m, in \u001b[36mResponseFuture.result\u001b[39m\u001b[34m(self)\u001b[39m\n\u001b[32m   4954\u001b[39m     \u001b[38;5;28;01mreturn\u001b[39;00m ResultSet(\u001b[38;5;28mself\u001b[39m, \u001b[38;5;28mself\u001b[39m._final_result)\n\u001b[32m   4955\u001b[39m \u001b[38;5;28;01melse\u001b[39;00m:\n\u001b[32m-> \u001b[39m\u001b[32m4956\u001b[39m     \u001b[38;5;28;01mraise\u001b[39;00m \u001b[38;5;28mself\u001b[39m._final_exception\n",
      "\u001b[31mInvalidRequest\u001b[39m: Error from server: code=2200 [Invalid query] message=\"Undefined column name capital in table my_first_keyspace.case_sensitive\""
     ]
    }
   ],
   "source": [
    "session.execute(\"INSERT INTO case_sensitive (Capital, Letters, Everywhere) VALUES (1, 'Tesla', 'Model S');\")"
   ]
  },
  {
   "cell_type": "code",
   "execution_count": 9,
   "metadata": {
    "slideshow": {
     "slide_type": "fragment"
    },
    "tags": []
   },
   "outputs": [
    {
     "data": {
      "text/plain": [
       "<cassandra.cluster.ResultSet at 0x107998b60>"
      ]
     },
     "execution_count": 9,
     "metadata": {},
     "output_type": "execute_result"
    }
   ],
   "source": [
    "session.execute(\"INSERT INTO case_sensitive (\\\"Capital\\\", \\\"Letters\\\", \\\"Everywhere\\\") VALUES (1, 'Tesla', 'Model S');\")"
   ]
  },
  {
   "cell_type": "code",
   "execution_count": 10,
   "metadata": {
    "slideshow": {
     "slide_type": "slide"
    },
    "tags": []
   },
   "outputs": [
    {
     "name": "stdout",
     "output_type": "stream",
     "text": [
      "Row(capital=1, everywhere='Model S', letters='Tesla')\n",
      "Row(Capital=1, Everywhere='Model S', Letters='Tesla')\n"
     ]
    }
   ],
   "source": [
    "# Query the data\n",
    "rows = session.execute(\"SELECT * FROM case_insensitive;\")\n",
    "for i in rows:\n",
    "    print(i)\n",
    "rows = session.execute(\"SELECT * FROM case_sensitive;\")\n",
    "for i in rows:\n",
    "    print(i)"
   ]
  },
  {
   "cell_type": "markdown",
   "metadata": {
    "slideshow": {
     "slide_type": "slide"
    }
   },
   "source": [
    "### Asyncronous writing\n",
    "- If your application is very data intensive, waiting for a response is not productive.\n",
    "- Writing asyncronously sends the data but does not pause for reply."
   ]
  },
  {
   "cell_type": "code",
   "execution_count": 11,
   "metadata": {
    "ExecuteTime": {
     "end_time": "2024-08-17T10:25:35.371390Z",
     "start_time": "2024-08-17T10:25:35.367159Z"
    },
    "slideshow": {
     "slide_type": "fragment"
    },
    "tags": []
   },
   "outputs": [
    {
     "data": {
      "text/plain": [
       "<ResponseFuture: query='<SimpleStatement query=\"INSERT INTO my_first_table (ind, company, model) VALUES (4, 'Volkswagen', 'ID.4');\", consistency=Not Set>' request_id=63 result=(no result yet) exception=None coordinator_host=None>"
      ]
     },
     "execution_count": 11,
     "metadata": {},
     "output_type": "execute_result"
    }
   ],
   "source": [
    "session.execute_async(\"INSERT INTO my_first_table (ind, company, model) VALUES (4, 'Volkswagen', 'ID.4');\")"
   ]
  },
  {
   "cell_type": "code",
   "execution_count": 12,
   "metadata": {
    "ExecuteTime": {
     "end_time": "2024-08-17T10:25:35.384736Z",
     "start_time": "2024-08-17T10:25:35.372551Z"
    },
    "slideshow": {
     "slide_type": "slide"
    },
    "tags": []
   },
   "outputs": [
    {
     "name": "stdout",
     "output_type": "stream",
     "text": [
      "Row(ind=1, company='Tesla', model='Model S')\n",
      "Row(ind=2, company='Tesla', model='Model 3')\n",
      "Row(ind=4, company='Volkswagen', model='ID.4')\n",
      "Row(ind=3, company='Polestar', model='3')\n"
     ]
    }
   ],
   "source": [
    "# Query the data\n",
    "rows = session.execute(\"SELECT * FROM my_first_table;\")\n",
    "for i in rows:\n",
    "    print(i)"
   ]
  },
  {
   "cell_type": "code",
   "execution_count": 13,
   "metadata": {
    "ExecuteTime": {
     "end_time": "2024-08-17T10:25:35.402371Z",
     "start_time": "2024-08-17T10:25:35.386980Z"
    },
    "slideshow": {
     "slide_type": "slide"
    },
    "tags": [
     "raises-exception"
    ]
   },
   "outputs": [
    {
     "name": "stdout",
     "output_type": "stream",
     "text": [
      "Row(ind=1, company='Tesla', model='Model S')\n",
      "Row(ind=2, company='Tesla', model='Model 3')\n"
     ]
    }
   ],
   "source": [
    "# More specific query\n",
    "prepared_statement = session.prepare(\"SELECT * FROM my_first_table WHERE company=? ALLOW FILTERING;\")\n",
    "teslas = session.execute(prepared_statement, ['Tesla'])\n",
    "for i in teslas:\n",
    "    print(i)"
   ]
  },
  {
   "cell_type": "markdown",
   "metadata": {
    "slideshow": {
     "slide_type": "slide"
    }
   },
   "source": [
    "## Cassandra filtering\n",
    "Cassandra is inherently a distributed production database. Selecting as above may require downloading all data from a node, then filtering based on the WHERE part (only PRIMARY KEYs are centrally known). Solutions:  \n",
    "- If the table is small or most of the data will satisfy the query, add ```ALLOW FILTERING``` at the end of the query (not recommended if not known). \n",
    "- Or make sure the WHERE clause points to one of the keys (see below)."
   ]
  },
  {
   "cell_type": "code",
   "execution_count": 14,
   "metadata": {
    "ExecuteTime": {
     "end_time": "2024-08-17T10:25:35.613711Z",
     "start_time": "2024-08-17T10:25:35.403622Z"
    },
    "slideshow": {
     "slide_type": "slide"
    },
    "tags": []
   },
   "outputs": [
    {
     "data": {
      "text/plain": [
       "<cassandra.cluster.ResultSet at 0x1071bda60>"
      ]
     },
     "execution_count": 14,
     "metadata": {},
     "output_type": "execute_result"
    }
   ],
   "source": [
    "# Create a new table (observe keys)\n",
    "session.execute(\"DROP TABLE IF EXISTS my_first_keyspace.car_table;\")\n",
    "session.execute(\"CREATE TABLE IF NOT EXISTS car_table (company text, model text, PRIMARY KEY(company, model));\")"
   ]
  },
  {
   "cell_type": "code",
   "execution_count": 15,
   "metadata": {
    "ExecuteTime": {
     "end_time": "2024-08-17T10:25:35.628950Z",
     "start_time": "2024-08-17T10:25:35.615126Z"
    },
    "slideshow": {
     "slide_type": "fragment"
    },
    "tags": []
   },
   "outputs": [
    {
     "data": {
      "text/plain": [
       "<cassandra.cluster.ResultSet at 0x107bc91f0>"
      ]
     },
     "execution_count": 15,
     "metadata": {},
     "output_type": "execute_result"
    }
   ],
   "source": [
    "# Insert some data (combination of company and model must be unique)\n",
    "session.execute(\"INSERT INTO car_table (company, model) VALUES ('Tesla', 'Model S');\")\n",
    "session.execute(\"INSERT INTO car_table (company, model) VALUES ('Tesla', 'Model 3');\")\n",
    "session.execute(\"INSERT INTO car_table (company, model) VALUES ('Polestar', '3');\")\n",
    "session.execute(\"INSERT INTO car_table (company, model) VALUES ('Volkswagen', 'ID.4');\")"
   ]
  },
  {
   "cell_type": "code",
   "execution_count": 16,
   "metadata": {
    "ExecuteTime": {
     "end_time": "2024-08-17T10:25:35.639765Z",
     "start_time": "2024-08-17T10:25:35.630657Z"
    },
    "slideshow": {
     "slide_type": "slide"
    },
    "tags": []
   },
   "outputs": [
    {
     "name": "stdout",
     "output_type": "stream",
     "text": [
      "Row(company='Tesla', model='Model 3')\n",
      "Row(company='Tesla', model='Model S')\n"
     ]
    }
   ],
   "source": [
    "# More specific query now works\n",
    "prepared_statement = session.prepare(\"SELECT * FROM car_table WHERE company=?;\")\n",
    "teslas = session.execute(prepared_statement, ['Tesla'])\n",
    "for i in teslas:\n",
    "    print(i)"
   ]
  },
  {
   "cell_type": "markdown",
   "metadata": {
    "slideshow": {
     "slide_type": "slide"
    }
   },
   "source": [
    "### Partitions\n",
    "- Cassandra databases are usually replicated over different nodes.\n",
    "- Data is stored in partitions (subsets) which have local copys.\n",
    "- The primary key, e.g., PRIMARY KEY(company, model), is used in partitioning.\n",
    "    - The first part, e.g., company, is most important.\n",
    "    - All cars from a company will be located together, aiming for quicker queries."
   ]
  },
  {
   "cell_type": "markdown",
   "metadata": {
    "slideshow": {
     "slide_type": "slide"
    }
   },
   "source": [
    "### Unique IDs \n",
    "- In MySQL one could use the attribute AUTO_INCREMENT on integer IDs to automatically make a new unique index when inserting data.\n",
    "- This would cause unreasonable overhead in a distributed database.\n",
    "- [UUID](https://en.wikipedia.org/wiki/Universally_unique_identifier)s are used instead.\n",
    "    - Universally Unique Identifiers are typically 128-bit random bit sequences with extremely low probability of duplication.\n",
    "    - Cassandra uses a [timeuuid](https://docs.datastax.com/en/cql-oss/3.3/cql/cql_reference/timeuuid_functions_r.html) type to combine a timestamp and uuid in one."
   ]
  },
  {
   "cell_type": "code",
   "execution_count": 17,
   "metadata": {
    "ExecuteTime": {
     "end_time": "2024-08-17T10:25:35.766003Z",
     "start_time": "2024-08-17T10:25:35.640600Z"
    },
    "slideshow": {
     "slide_type": "fragment"
    },
    "tags": []
   },
   "outputs": [
    {
     "data": {
      "text/plain": [
       "<cassandra.cluster.ResultSet at 0x107bce180>"
      ]
     },
     "execution_count": 17,
     "metadata": {},
     "output_type": "execute_result"
    }
   ],
   "source": [
    "# Create a new table (first time only)\n",
    "session.set_keyspace('my_first_keyspace')\n",
    "session.execute(\"DROP TABLE IF EXISTS my_first_keyspace.table_with_uuid;\")\n",
    "session.execute(\"CREATE TABLE IF NOT EXISTS table_with_uuid (id timeuuid PRIMARY KEY, company text, model text, price float);\")"
   ]
  },
  {
   "cell_type": "code",
   "execution_count": 18,
   "metadata": {
    "ExecuteTime": {
     "end_time": "2024-08-17T10:25:35.784876Z",
     "start_time": "2024-08-17T10:25:35.766619Z"
    },
    "slideshow": {
     "slide_type": "slide"
    },
    "tags": []
   },
   "outputs": [
    {
     "data": {
      "text/plain": [
       "<cassandra.cluster.ResultSet at 0x107bcbfe0>"
      ]
     },
     "execution_count": 18,
     "metadata": {},
     "output_type": "execute_result"
    }
   ],
   "source": [
    "session.execute(\"INSERT INTO table_with_uuid (id, company, model, price) VALUES (now(), 'Tesla', 'Model S', 20000.0);\")\n",
    "session.execute(\"INSERT INTO table_with_uuid (id, company, model, price) VALUES (now(), 'Tesla', 'Model S', 21000.0);\")\n",
    "session.execute(\"INSERT INTO table_with_uuid (id, company, model, price) VALUES (now(), 'Oldsmobile', 'Model 6C', 135000.0);\")"
   ]
  },
  {
   "cell_type": "code",
   "execution_count": 19,
   "metadata": {
    "ExecuteTime": {
     "end_time": "2024-08-17T10:25:35.792934Z",
     "start_time": "2024-08-17T10:25:35.785467Z"
    },
    "slideshow": {
     "slide_type": "slide"
    },
    "tags": []
   },
   "outputs": [
    {
     "name": "stdout",
     "output_type": "stream",
     "text": [
      "Row(id=UUID('793b3ee0-9973-11f0-8704-23a33b7e8071'), company='Oldsmobile', model='Model 6C', price=135000.0)\n",
      "Datetime: 2025-09-24 18:22:48.270000\n",
      "Row(id=UUID('793af0c0-9973-11f0-8704-23a33b7e8071'), company='Tesla', model='Model S', price=21000.0)\n",
      "Datetime: 2025-09-24 18:22:48.268000\n",
      "Row(id=UUID('793aa2a0-9973-11f0-8704-23a33b7e8071'), company='Tesla', model='Model S', price=20000.0)\n",
      "Datetime: 2025-09-24 18:22:48.266000\n"
     ]
    }
   ],
   "source": [
    "from cassandra.util import datetime_from_uuid1\n",
    "\n",
    "# Query the data\n",
    "rows = session.execute(\"SELECT * FROM table_with_uuid;\")\n",
    "for i in rows:\n",
    "    print(i)\n",
    "    # Extract the timestamp from Cassandra's timeuuid\n",
    "    print(\"Datetime:\", datetime_from_uuid1(i.id))"
   ]
  },
  {
   "cell_type": "markdown",
   "metadata": {
    "slideshow": {
     "slide_type": "slide"
    }
   },
   "source": [
    "## JSON in Cassandra\n",
    "### Read previously saved JSON file forecast.json to memory"
   ]
  },
  {
   "cell_type": "code",
   "execution_count": 20,
   "metadata": {
    "ExecuteTime": {
     "end_time": "2024-08-17T10:25:35.796049Z",
     "start_time": "2024-08-17T10:25:35.793437Z"
    },
    "slideshow": {
     "slide_type": "fragment"
    },
    "tags": []
   },
   "outputs": [],
   "source": [
    "import json\n",
    "with open('../3_APIs/downloads/forecast.json', 'r') as f:\n",
    "    forecast = json.load(f)"
   ]
  },
  {
   "cell_type": "code",
   "execution_count": 21,
   "metadata": {
    "ExecuteTime": {
     "end_time": "2024-08-17T10:25:35.799114Z",
     "start_time": "2024-08-17T10:25:35.796532Z"
    },
    "slideshow": {
     "slide_type": "slide"
    },
    "tags": []
   },
   "outputs": [
    {
     "data": {
      "text/plain": [
       "\"{'cod': '200', 'message': 0, 'cnt': 40, 'list': [{'dt': 1758628800, 'main': {'temp': 279.44, 'feels_like': 276.1, 'temp_min': 279.44, 'temp_max': 281.36, 'pressure': 1020, 'sea_level': 1020, 'grnd_level': 968, 'humidity': 90, 'temp_kf': -1.92}, 'weather': [{'id': 500, 'main': 'Rain', 'description': 'light rain', 'icon': '10d'}], 'clouds': {'all': 40}, 'wind': {'speed': 5.01, 'deg': 270, 'gust': 8.02}, 'visibility': 10000, 'pop': 0.21, 'rain': {'3h': 0.16}, 'sys': {'pod': 'd'}, 'dt_txt': '2025-09-23 12:00:00'}, {'dt': 1758639600, 'main': {'temp': 279.73, 'feels_like': 277.29, 'temp_min': 279.73, 'temp_max': 280.31, 'pressure': 1020, 'sea_level': 1020, 'grnd_level': 969, 'humidity': 85, 'temp_kf': -0.58}, 'weather': [{'id': 500, 'main': 'Rain', 'description': 'light rain', 'icon': '10d'}], 'clouds': {'all': 59}, 'wind': {'speed': 3.4, 'deg': 265, 'gust': 4.82}, 'visibility': 10000, 'pop': 0.31, 'rain': {'3h': 0.11}, 'sys': {'pod': 'd'}, 'dt_txt': '2025-09-23 15:00:00'}, {'dt': 1758650400, 'main': {'temp': 279.09, 'feels_like': 277.19, 'temp_min': 278.92, 'temp_max': 279.09, 'pressure': 1021, 'sea_level': 1021, 'grnd_level': 969, 'humidity': 96, 'temp_kf': 0.17}, 'weather': [{'id': 500, 'main': 'Rain', 'description': 'light rain', 'icon': '10n'}], 'clouds': {'all': 79}, 'wind': {'speed': 2.47, 'deg': 258, 'gust': 4.45}, 'visibility': 100, 'pop': 0.76, 'rain': {'3h': 0.62}, 'sys': {'pod': 'n'}, 'dt_txt': '2025-09-23 18:00:00'}, {'dt': 1758661200, 'main': {'temp': 279.07, 'feels_like': 276.7, 'temp_min': 279.07, 'temp_max': 279.07, 'pressure': 1022, 'sea_level': 1022, 'grnd_level': 970, 'humidity': 94, 'temp_kf': 0}, 'weather': [{'id': 500, 'main': 'Rain', 'description': 'light rain', 'icon': '10n'}], 'clouds': {'all': 100}, 'wind': {'speed': 3.09, 'deg': 248, 'gust': 5.7}, 'visibility': 471, 'pop': 1, 'rain': {'3h': 1.83}, 'sys': {'pod': 'n'}, 'dt_txt': '2025-09-23 21:00:00'}, {'dt': 1758672000, 'main': {'temp': 279.38, 'feels_like': 277.96, 'temp_min': 279.38, 'temp_max': 279.38, 'pressure': 1024, 'sea_level': 1024, 'grnd_level': 971, 'humidity': 97, 'temp_kf': 0}, 'weather': [{'id': 500, 'main': 'Rain', 'description': 'light rain', 'icon': '10n'}], 'clouds': {'all': 100}, 'wind': {'speed': 1.99, 'deg': 244, 'gust': 3.96}, 'visibility': 511, 'pop': 1, 'rain': {'3h': 1.05}, 'sys': {'pod': 'n'}, 'dt_txt': '2025-09-24 00:00:00'}, {'dt': 1758682800, 'main': {'temp': 279.55, 'feels_like': 277.98, 'temp_min': 279.55, 'temp_max': 279.55, 'pressure': 1024, 'sea_level': 1024, 'grnd_level': 972, 'humidity': 94, 'temp_kf': 0}, 'weather': [{'id': 500, 'main': 'Rain', 'description': 'light rain', 'icon': '10n'}], 'clouds': {'all': 100}, 'wind': {'speed': 2.18, 'deg': 235, 'gust': 3.89}, 'visibility': 6704, 'pop': 1, 'rain': {'3h': 1.28}, 'sys': {'pod': 'n'}, 'dt_txt': '2025-09-24 03:00:00'}, {'dt': 1758693600, 'main': {'temp': 279.54, 'feels_like': 278.43, 'temp_min': 279.54, 'temp_max': 279.54, 'pressure': 1025, 'sea_level': 1025, 'grnd_level': 972, 'humidity': 95, 'temp_kf': 0}, 'weather': [{'id': 500, 'main': 'Rain', 'description': 'light rain', 'icon': '10d'}], 'clouds': {'all': 100}, 'wind': {'speed': 1.72, 'deg': 197, 'gust': 2.38}, 'visibility': 3107, 'pop': 1, 'rain': {'3h': 1.96}, 'sys': {'pod': 'd'}, 'dt_txt': '2025-09-24 06:00:00'}, {'dt': 1758704400, 'main': {'temp': 280.18, 'feels_like': 280.18, 'temp_min': 280.18, 'temp_max': 280.18, 'pressure': 1025, 'sea_level': 1025, 'grnd_level': 973, 'humidity': 94, 'temp_kf': 0}, 'weather': [{'id': 500, 'main': 'Rain', 'description': 'light rain', 'icon': '10d'}], 'clouds': {'all': 100}, 'wind': {'speed': 1.13, 'deg': 187, 'gust': 1.48}, 'visibility': 10000, 'pop': 1, 'rain': {'3h': 2.9}, 'sys': {'pod': 'd'}, 'dt_txt': '2025-09-24 09:00:00'}, {'dt': 1758715200, 'main': {'temp': 281.86, 'feels_like': 280.69, 'temp_min': 281.86, 'temp_max': 281.86, 'pressure': 1026, 'sea_level': 1026, 'grnd_level': 974, 'humidity': 93, 'temp_kf': 0}, 'weather': [{'id': 500, 'main': 'Rain', 'description': 'light rain', 'icon': '10d'}], 'clouds': {'all': 100}, 'wind': {'speed': 2.18, 'deg': 227, 'gust': 6.08}, 'visibility': 10000, 'pop': 1, 'rain': {'3h': 0.51}, 'sys': {'pod': 'd'}, 'dt_txt': '2025-09-24 12:00:00'}, {'dt': 1758726000, 'main': {'temp': 283.58, 'feels_like': 282.85, 'temp_min': 283.58, 'temp_max': 283.58, 'pressure': 1026, 'sea_level': 1026, 'grnd_level': 974, 'humidity': 83, 'temp_kf': 0}, 'weather': [{'id': 500, 'main': 'Rain', 'description': 'light rain', 'icon': '10d'}], 'clouds': {'all': 100}, 'wind': {'speed': 4.39, 'deg': 254, 'gust': 7.43}, 'visibility': 10000, 'pop': 0.71, 'rain': {'3h': 0.36}, 'sys': {'pod': 'd'}, 'dt_txt': '2025-09-24 15:00:00'}, {'dt': 1758736800, 'main': {'temp': 282.3, 'feels_like': 280.75, 'temp_min': 282.3, 'temp_max': 282.3, 'pressure': 1027, 'sea_level': 1027, 'grnd_level': 975, 'humidity': 91, 'temp_kf': 0}, 'weather': [{'id': 500, 'main': 'Rain', 'description': 'light rain', 'icon': '10n'}], 'clouds': {'all': 99}, 'wind': {'speed': 2.83, 'deg': 239, 'gust': 3.33}, 'visibility': 10000, 'pop': 0.74, 'rain': {'3h': 0.35}, 'sys': {'pod': 'n'}, 'dt_txt': '2025-09-24 18:00:00'}, {'dt': 1758747600, 'main': {'temp': 282.51, 'feels_like': 280.75, 'temp_min': 282.51, 'temp_max': 282.51, 'pressure': 1028, 'sea_level': 1028, 'grnd_level': 976, 'humidity': 91, 'temp_kf': 0}, 'weather': [{'id': 500, 'main': 'Rain', 'description': 'light rain', 'icon': '10n'}], 'clouds': {'all': 100}, 'wind': {'speed': 3.25, 'deg': 239, 'gust': 6.05}, 'visibility': 10000, 'pop': 0.56, 'rain': {'3h': 0.27}, 'sys': {'pod': 'n'}, 'dt_txt': '2025-09-24 21:00:00'}, {'dt': 1758758400, 'main': {'temp': 282.53, 'feels_like': 280.73, 'temp_min': 282.53, 'temp_max': 282.53, 'pressure': 1028, 'sea_level': 1028, 'grnd_level': 976, 'humidity': 90, 'temp_kf': 0}, 'weather': [{'id': 500, 'main': 'Rain', 'description': 'light rain', 'icon': '10n'}], 'clouds': {'all': 100}, 'wind': {'speed': 3.33, 'deg': 237, 'gust': 6.46}, 'visibility': 10000, 'pop': 0.32, 'rain': {'3h': 0.21}, 'sys': {'pod': 'n'}, 'dt_txt': '2025-09-25 00:00:00'}, {'dt': 1758769200, 'main': {'temp': 281.86, 'feels_like': 280.15, 'temp_min': 281.86, 'temp_max': 281.86, 'pressure': 1028, 'sea_level': 1028, 'grnd_level': 976, 'humidity': 91, 'temp_kf': 0}, 'weather': [{'id': 500, 'main': 'Rain', 'description': 'light rain', 'icon': '10n'}], 'clouds': {'all': 83}, 'wind': {'speed': 2.94, 'deg': 228, 'gust': 2.93}, 'visibility': 10000, 'pop': 0.2, 'rain': {'3h': 0.16}, 'sys': {'pod': 'n'}, 'dt_txt': '2025-09-25 03:00:00'}, {'dt': 1758780000, 'main': {'temp': 282.49, 'feels_like': 281.05, 'temp_min': 282.49, 'temp_max': 282.49, 'pressure': 1028, 'sea_level': 1028, 'grnd_level': 977, 'humidity': 91, 'temp_kf': 0}, 'weather': [{'id': 500, 'main': 'Rain', 'description': 'light rain', 'icon': '10d'}], 'clouds': {'all': 91}, 'wind': {'speed': 2.71, 'deg': 226, 'gust': 5.84}, 'visibility': 10000, 'pop': 0.2, 'rain': {'3h': 0.12}, 'sys': {'pod': 'd'}, 'dt_txt': '2025-09-25 06:00:00'}, {'dt': 1758790800, 'main': {'temp': 283.71, 'feels_like': 283.12, 'temp_min': 283.71, 'temp_max': 283.71, 'pressure': 1029, 'sea_level': 1029, 'grnd_level': 977, 'humidity': 88, 'temp_kf': 0}, 'weather': [{'id': 500, 'main': 'Rain', 'description': 'light rain', 'icon': '10d'}], 'clouds': {'all': 100}, 'wind': {'speed': 2.89, 'deg': 234, 'gust': 7.4}, 'visibility': 10000, 'pop': 0.2, 'rain': {'3h': 0.13}, 'sys': {'pod': 'd'}, 'dt_txt': '2025-09-25 09:00:00'}, {'dt': 1758801600, 'main': {'temp': 284.76, 'feels_like': 284.2, 'temp_min': 284.76, 'temp_max': 284.76, 'pressure': 1029, 'sea_level': 1029, 'grnd_level': 977, 'humidity': 85, 'temp_kf': 0}, 'weather': [{'id': 500, 'main': 'Rain', 'description': 'light rain', 'icon': '10d'}], 'clouds': {'all': 100}, 'wind': {'speed': 3.06, 'deg': 235, 'gust': 7.8}, 'visibility': 10000, 'pop': 0.29, 'rain': {'3h': 0.23}, 'sys': {'pod': 'd'}, 'dt_txt': '2025-09-25 12:00:00'}, {'dt': 1758812400, 'main': {'temp': 284.66, 'feels_like': 284.22, 'temp_min': 284.66, 'temp_max': 284.66, 'pressure': 1029, 'sea_level': 1029, 'grnd_level': 977, 'humidity': 90, 'temp_kf': 0}, 'weather': [{'id': 500, 'main': 'Rain', 'description': 'light rain', 'icon': '10d'}], 'clouds': {'all': 100}, 'wind': {'speed': 2.95, 'deg': 237, 'gust': 4.16}, 'visibility': 10000, 'pop': 1, 'rain': {'3h': 0.55}, 'sys': {'pod': 'd'}, 'dt_txt': '2025-09-25 15:00:00'}, {'dt': 1758823200, 'main': {'temp': 283.89, 'feels_like': 283.45, 'temp_min': 283.89, 'temp_max': 283.89, 'pressure': 1029, 'sea_level': 1029, 'grnd_level': 978, 'humidity': 93, 'temp_kf': 0}, 'weather': [{'id': 500, 'main': 'Rain', 'description': 'light rain', 'icon': '10n'}], 'clouds': {'all': 100}, 'wind': {'speed': 2.63, 'deg': 230, 'gust': 3.53}, 'visibility': 10000, 'pop': 1, 'rain': {'3h': 0.37}, 'sys': {'pod': 'n'}, 'dt_txt': '2025-09-25 18:00:00'}, {'dt': 1758834000, 'main': {'temp': 283.84, 'feels_like': 283.39, 'temp_min': 283.84, 'temp_max': 283.84, 'pressure': 1029, 'sea_level': 1029, 'grnd_level': 978, 'humidity': 93, 'temp_kf': 0}, 'weather': [{'id': 500, 'main': 'Rain', 'description': 'light rain', 'icon': '10n'}], 'clouds': {'all': 100}, 'wind': {'speed': 2.68, 'deg': 225, 'gust': 3.4}, 'visibility': 10000, 'pop': 0.79, 'rain': {'3h': 0.43}, 'sys': {'pod': 'n'}, 'dt_txt': '2025-09-25 21:00:00'}, {'dt': 1758844800, 'main': {'temp': 283.81, 'feels_like': 283.31, 'temp_min': 283.81, 'temp_max': 283.81, 'pressure': 1029, 'sea_level': 1029, 'grnd_level': 978, 'humidity': 91, 'temp_kf': 0}, 'weather': [{'id': 500, 'main': 'Rain', 'description': 'light rain', 'icon': '10n'}], 'clouds': {'all': 100}, 'wind': {'speed': 2.43, 'deg': 218, 'gust': 2.61}, 'visibility': 10000, 'pop': 0.95, 'rain': {'3h': 0.47}, 'sys': {'pod': 'n'}, 'dt_txt': '2025-09-26 00:00:00'}, {'dt': 1758855600, 'main': {'temp': 283.8, 'feels_like': 283.35, 'temp_min': 283.8, 'temp_max': 283.8, 'pressure': 1029, 'sea_level': 1029, 'grnd_level': 977, 'humidity': 93, 'temp_kf': 0}, 'weather': [{'id': 500, 'main': 'Rain', 'description': 'light rain', 'icon': '10n'}], 'clouds': {'all': 100}, 'wind': {'speed': 2.65, 'deg': 216, 'gust': 3.4}, 'visibility': 10000, 'pop': 1, 'rain': {'3h': 1.01}, 'sys': {'pod': 'n'}, 'dt_txt': '2025-09-26 03:00:00'}, {'dt': 1758866400, 'main': {'temp': 283.93, 'feels_like': 283.47, 'temp_min': 283.93, 'temp_max': 283.93, 'pressure': 1030, 'sea_level': 1030, 'grnd_level': 978, 'humidity': 92, 'temp_kf': 0}, 'weather': [{'id': 500, 'main': 'Rain', 'description': 'light rain', 'icon': '10d'}], 'clouds': {'all': 100}, 'wind': {'speed': 2.52, 'deg': 213, 'gust': 3.39}, 'visibility': 10000, 'pop': 1, 'rain': {'3h': 0.48}, 'sys': {'pod': 'd'}, 'dt_txt': '2025-09-26 06:00:00'}, {'dt': 1758877200, 'main': {'temp': 284.36, 'feels_like': 283.81, 'temp_min': 284.36, 'temp_max': 284.36, 'pressure': 1030, 'sea_level': 1030, 'grnd_level': 979, 'humidity': 87, 'temp_kf': 0}, 'weather': [{'id': 500, 'main': 'Rain', 'description': 'light rain', 'icon': '10d'}], 'clouds': {'all': 100}, 'wind': {'speed': 2.06, 'deg': 216, 'gust': 3.13}, 'visibility': 10000, 'pop': 0.5, 'rain': {'3h': 0.27}, 'sys': {'pod': 'd'}, 'dt_txt': '2025-09-26 09:00:00'}, {'dt': 1758888000, 'main': {'temp': 285.53, 'feels_like': 284.83, 'temp_min': 285.53, 'temp_max': 285.53, 'pressure': 1030, 'sea_level': 1030, 'grnd_level': 979, 'humidity': 77, 'temp_kf': 0}, 'weather': [{'id': 500, 'main': 'Rain', 'description': 'light rain', 'icon': '10d'}], 'clouds': {'all': 100}, 'wind': {'speed': 2.39, 'deg': 235, 'gust': 4.67}, 'visibility': 10000, 'pop': 0.27, 'rain': {'3h': 0.24}, 'sys': {'pod': 'd'}, 'dt_txt': '2025-09-26 12:00:00'}, {'dt': 1758898800, 'main': {'temp': 285.85, 'feels_like': 285.19, 'temp_min': 285.85, 'temp_max': 285.85, 'pressure': 1029, 'sea_level': 1029, 'grnd_level': 978, 'humidity': 77, 'temp_kf': 0}, 'weather': [{'id': 804, 'main': 'Clouds', 'description': 'overcast clouds', 'icon': '04d'}], 'clouds': {'all': 100}, 'wind': {'speed': 1.84, 'deg': 231, 'gust': 2.3}, 'visibility': 10000, 'pop': 0, 'sys': {'pod': 'd'}, 'dt_txt': '2025-09-26 15:00:00'}, {'dt': 1758909600, 'main': {'temp': 283.3, 'feels_like': 282.56, 'temp_min': 283.3, 'temp_max': 283.3, 'pressure': 1029, 'sea_level': 1029, 'grnd_level': 978, 'humidity': 84, 'temp_kf': 0}, 'weather': [{'id': 804, 'main': 'Clouds', 'description': 'overcast clouds', 'icon': '04n'}], 'clouds': {'all': 100}, 'wind': {'speed': 1.61, 'deg': 194, 'gust': 1.41}, 'visibility': 10000, 'pop': 0, 'sys': {'pod': 'n'}, 'dt_txt': '2025-09-26 18:00:00'}, {'dt': 1758920400, 'main': {'temp': 282.77, 'feels_like': 282.44, 'temp_min': 282.77, 'temp_max': 282.77, 'pressure': 1029, 'sea_level': 1029, 'grnd_level': 978, 'humidity': 77, 'temp_kf': 0}, 'weather': [{'id': 804, 'main': 'Clouds', 'description': 'overcast clouds', 'icon': '04n'}], 'clouds': {'all': 100}, 'wind': {'speed': 1.43, 'deg': 208, 'gust': 1.22}, 'visibility': 10000, 'pop': 0, 'sys': {'pod': 'n'}, 'dt_txt': '2025-09-26 21:00:00'}, {'dt': 1758931200, 'main': {'temp': 282.31, 'feels_like': 282.31, 'temp_min': 282.31, 'temp_max': 282.31, 'pressure': 1029, 'sea_level': 1029, 'grnd_level': 977, 'humidity': 72, 'temp_kf': 0}, 'weather': [{'id': 804, 'main': 'Clouds', 'description': 'overcast clouds', 'icon': '04n'}], 'clouds': {'all': 100}, 'wind': {'speed': 0.04, 'deg': 166, 'gust': 0.09}, 'visibility': 10000, 'pop': 0, 'sys': {'pod': 'n'}, 'dt_txt': '2025-09-27 00:00:00'}, {'dt': 1758942000, 'main': {'temp': 281.59, 'feels_like': 281.59, 'temp_min': 281.59, 'temp_max': 281.59, 'pressure': 1028, 'sea_level': 1028, 'grnd_level': 977, 'humidity': 71, 'temp_kf': 0}, 'weather': [{'id': 804, 'main': 'Clouds', 'description': 'overcast clouds', 'icon': '04n'}], 'clouds': {'all': 100}, 'wind': {'speed': 0.16, 'deg': 256, 'gust': 0.14}, 'visibility': 10000, 'pop': 0, 'sys': {'pod': 'n'}, 'dt_txt': '2025-09-27 03:00:00'}, {'dt': 1758952800, 'main': {'temp': 281.06, 'feels_like': 281.06, 'temp_min': 281.06, 'temp_max': 281.06, 'pressure': 1029, 'sea_level': 1029, 'grnd_level': 977, 'humidity': 70, 'temp_kf': 0}, 'weather': [{'id': 804, 'main': 'Clouds', 'description': 'overcast clouds', 'icon': '04d'}], 'clouds': {'all': 87}, 'wind': {'speed': 0.29, 'deg': 276, 'gust': 0.15}, 'visibility': 10000, 'pop': 0, 'sys': {'pod': 'd'}, 'dt_txt': '2025-09-27 06:00:00'}, {'dt': 1758963600, 'main': {'temp': 285.61, 'feels_like': 284.32, 'temp_min': 285.61, 'temp_max': 285.61, 'pressure': 1028, 'sea_level': 1028, 'grnd_level': 977, 'humidity': 54, 'temp_kf': 0}, 'weather': [{'id': 800, 'main': 'Clear', 'description': 'clear sky', 'icon': '01d'}], 'clouds': {'all': 7}, 'wind': {'speed': 0.53, 'deg': 76, 'gust': 0.46}, 'visibility': 10000, 'pop': 0, 'sys': {'pod': 'd'}, 'dt_txt': '2025-09-27 09:00:00'}, {'dt': 1758974400, 'main': {'temp': 287.96, 'feels_like': 286.75, 'temp_min': 287.96, 'temp_max': 287.96, 'pressure': 1026, 'sea_level': 1026, 'grnd_level': 976, 'humidity': 48, 'temp_kf': 0}, 'weather': [{'id': 800, 'main': 'Clear', 'description': 'clear sky', 'icon': '01d'}], 'clouds': {'all': 7}, 'wind': {'speed': 1.37, 'deg': 14, 'gust': 0.9}, 'visibility': 10000, 'pop': 0, 'sys': {'pod': 'd'}, 'dt_txt': '2025-09-27 12:00:00'}, {'dt': 1758985200, 'main': {'temp': 286.85, 'feels_like': 285.92, 'temp_min': 286.85, 'temp_max': 286.85, 'pressure': 1026, 'sea_level': 1026, 'grnd_level': 975, 'humidity': 63, 'temp_kf': 0}, 'weather': [{'id': 800, 'main': 'Clear', 'description': 'clear sky', 'icon': '01d'}], 'clouds': {'all': 6}, 'wind': {'speed': 1.9, 'deg': 343, 'gust': 1.63}, 'visibility': 10000, 'pop': 0, 'sys': {'pod': 'd'}, 'dt_txt': '2025-09-27 15:00:00'}, {'dt': 1758996000, 'main': {'temp': 282.35, 'feels_like': 282.35, 'temp_min': 282.35, 'temp_max': 282.35, 'pressure': 1026, 'sea_level': 1026, 'grnd_level': 975, 'humidity': 74, 'temp_kf': 0}, 'weather': [{'id': 800, 'main': 'Clear', 'description': 'clear sky', 'icon': '01n'}], 'clouds': {'all': 9}, 'wind': {'speed': 0.55, 'deg': 139, 'gust': 0.92}, 'visibility': 10000, 'pop': 0, 'sys': {'pod': 'n'}, 'dt_txt': '2025-09-27 18:00:00'}, {'dt': 1759006800, 'main': {'temp': 282.76, 'feels_like': 282.76, 'temp_min': 282.76, 'temp_max': 282.76, 'pressure': 1026, 'sea_level': 1026, 'grnd_level': 975, 'humidity': 68, 'temp_kf': 0}, 'weather': [{'id': 803, 'main': 'Clouds', 'description': 'broken clouds', 'icon': '04n'}], 'clouds': {'all': 78}, 'wind': {'speed': 0.72, 'deg': 76, 'gust': 0.7}, 'visibility': 10000, 'pop': 0, 'sys': {'pod': 'n'}, 'dt_txt': '2025-09-27 21:00:00'}, {'dt': 1759017600, 'main': {'temp': 282.71, 'feels_like': 282.71, 'temp_min': 282.71, 'temp_max': 282.71, 'pressure': 1025, 'sea_level': 1025, 'grnd_level': 974, 'humidity': 66, 'temp_kf': 0}, 'weather': [{'id': 804, 'main': 'Clouds', 'description': 'overcast clouds', 'icon': '04n'}], 'clouds': {'all': 89}, 'wind': {'speed': 0.51, 'deg': 196, 'gust': 0.48}, 'visibility': 10000, 'pop': 0, 'sys': {'pod': 'n'}, 'dt_txt': '2025-09-28 00:00:00'}, {'dt': 1759028400, 'main': {'temp': 281.94, 'feels_like': 281.94, 'temp_min': 281.94, 'temp_max': 281.94, 'pressure': 1025, 'sea_level': 1025, 'grnd_level': 974, 'humidity': 68, 'temp_kf': 0}, 'weather': [{'id': 804, 'main': 'Clouds', 'description': 'overcast clouds', 'icon': '04n'}], 'clouds': {'all': 100}, 'wind': {'speed': 0.8, 'deg': 260, 'gust': 0.9}, 'visibility': 10000, 'pop': 0, 'sys': {'pod': 'n'}, 'dt_txt': '2025-09-28 03:00:00'}, {'dt': 1759039200, 'main': {'temp': 282.12, 'feels_like': 282.12, 'temp_min': 282.12, 'temp_max': 282.12, 'pressure': 1024, 'sea_level': 1024, 'grnd_level': 973, 'humidity': 67, 'temp_kf': 0}, 'weather': [{'id': 804, 'main': 'Clouds', 'description': 'overcast clouds', 'icon': '04d'}], 'clouds': {'all': 100}, 'wind': {'speed': 0.54, 'deg': 50, 'gust': 0.41}, 'visibility': 10000, 'pop': 0, 'sys': {'pod': 'd'}, 'dt_txt': '2025-09-28 06:00:00'}, {'dt': 1759050000, 'main': {'temp': 285.56, 'feels_like': 284.27, 'temp_min': 285.56, 'temp_max': 285.56, 'pressure': 1023, 'sea_level': 1023, 'grnd_level': 972, 'humidity': 54, 'temp_kf': 0}, 'weather': [{'id': 804, 'main': 'Clouds', 'description': 'overcast clouds', 'icon': '04d'}], 'clouds': {'all': 100}, 'wind': {'speed': 1.34, 'deg': 43, 'gust': 1.34}, 'visibility': 10000, 'pop': 0, 'sys': {'pod': 'd'}, 'dt_txt': '2025-09-28 09:00:00'}], 'city': {'id': 3145614, 'name': 'Mo i Rana', 'coord': {'lat': 66.3128, 'lon': 14.1428}, 'country': 'NO', 'population': 17853, 'timezone': 7200, 'sunrise': 1758602921, 'sunset': 1758646976}}\""
      ]
     },
     "execution_count": 21,
     "metadata": {},
     "output_type": "execute_result"
    }
   ],
   "source": [
    "# Inspect JSON file\n",
    "forecast.__str__()"
   ]
  },
  {
   "cell_type": "markdown",
   "metadata": {
    "slideshow": {
     "slide_type": "slide"
    }
   },
   "source": [
    "## Raw JSON\n",
    "- A simple, but not very efficient way of storing JSON data is to treat it as a text and save it directly to the database.  \n",
    "- More efficient, with regard to transfer, is to compress the JSON data to a blob first.\n",
    "    - Compression is automatic."
   ]
  },
  {
   "cell_type": "code",
   "execution_count": 22,
   "metadata": {
    "ExecuteTime": {
     "end_time": "2024-08-17T10:25:35.916537Z",
     "start_time": "2024-08-17T10:25:35.799572Z"
    },
    "slideshow": {
     "slide_type": "fragment"
    },
    "tags": []
   },
   "outputs": [
    {
     "data": {
      "text/plain": [
       "<cassandra.cluster.ResultSet at 0x106dafcb0>"
      ]
     },
     "execution_count": 22,
     "metadata": {},
     "output_type": "execute_result"
    }
   ],
   "source": [
    "# Create a new table which treats the whole JSON as a blob, using the city id and the first dt as keys\n",
    "session.set_keyspace('my_first_keyspace')\n",
    "session.execute(\"DROP TABLE IF EXISTS my_first_keyspace.forecast_table;\")\n",
    "session.execute(\"CREATE TABLE IF NOT EXISTS forecast_table (city_id int, dt int, forecast blob, PRIMARY KEY(city_id, dt));\")"
   ]
  },
  {
   "cell_type": "markdown",
   "metadata": {
    "slideshow": {
     "slide_type": "slide"
    }
   },
   "source": [
    "### Insert the forecast data into the table as text blob"
   ]
  },
  {
   "cell_type": "code",
   "execution_count": 23,
   "metadata": {
    "ExecuteTime": {
     "end_time": "2024-08-17T10:25:35.935855Z",
     "start_time": "2024-08-17T10:25:35.917175Z"
    },
    "slideshow": {
     "slide_type": "fragment"
    },
    "tags": []
   },
   "outputs": [
    {
     "data": {
      "text/plain": [
       "<cassandra.cluster.ResultSet at 0x107042180>"
      ]
     },
     "execution_count": 23,
     "metadata": {},
     "output_type": "execute_result"
    }
   ],
   "source": [
    "session.execute(\"INSERT INTO forecast_table (city_id, dt, forecast) VALUES (%s, %s, textAsBlob(%s));\", (forecast['city']['id'], forecast['list'][0]['dt'], forecast.__str__()))"
   ]
  },
  {
   "cell_type": "code",
   "execution_count": 24,
   "metadata": {
    "ExecuteTime": {
     "end_time": "2024-08-17T10:25:35.946537Z",
     "start_time": "2024-08-17T10:25:35.938642Z"
    },
    "slideshow": {
     "slide_type": "slide"
    },
    "tags": []
   },
   "outputs": [
    {
     "name": "stdout",
     "output_type": "stream",
     "text": [
      "Row(city_id=3145614, dt=1758628800, forecast=b\"{'cod': '200', 'message': 0, 'cnt': 40, 'list': [{'dt': 1758628800, 'main': {'temp': 279.44, 'feels_like': 276.1, 'temp_min': 279.44, 'temp_max': 281.36, 'pressure': 1020, 'sea_level': 1020, 'grnd_level': 968, 'humidity': 90, 'temp_kf': -1.92}, 'weather': [{'id': 500, 'main': 'Rain', 'description': 'light rain', 'icon': '10d'}], 'clouds': {'all': 40}, 'wind': {'speed': 5.01, 'deg': 270, 'gust': 8.02}, 'visibility': 10000, 'pop': 0.21, 'rain': {'3h': 0.16}, 'sys': {'pod': 'd'}, 'dt_txt': '2025-09-23 12:00:00'}, {'dt': 1758639600, 'main': {'temp': 279.73, 'feels_like': 277.29, 'temp_min': 279.73, 'temp_max': 280.31, 'pressure': 1020, 'sea_level': 1020, 'grnd_level': 969, 'humidity': 85, 'temp_kf': -0.58}, 'weather': [{'id': 500, 'main': 'Rain', 'description': 'light rain', 'icon': '10d'}], 'clouds': {'all': 59}, 'wind': {'speed': 3.4, 'deg': 265, 'gust': 4.82}, 'visibility': 10000, 'pop': 0.31, 'rain': {'3h': 0.11}, 'sys': {'pod': 'd'}, 'dt_txt': '2025-09-23 15:00:00'}, {'dt': 1758650400, 'main': {'temp': 279.09, 'feels_like': 277.19, 'temp_min': 278.92, 'temp_max': 279.09, 'pressure': 1021, 'sea_level': 1021, 'grnd_level': 969, 'humidity': 96, 'temp_kf': 0.17}, 'weather': [{'id': 500, 'main': 'Rain', 'description': 'light rain', 'icon': '10n'}], 'clouds': {'all': 79}, 'wind': {'speed': 2.47, 'deg': 258, 'gust': 4.45}, 'visibility': 100, 'pop': 0.76, 'rain': {'3h': 0.62}, 'sys': {'pod': 'n'}, 'dt_txt': '2025-09-23 18:00:00'}, {'dt': 1758661200, 'main': {'temp': 279.07, 'feels_like': 276.7, 'temp_min': 279.07, 'temp_max': 279.07, 'pressure': 1022, 'sea_level': 1022, 'grnd_level': 970, 'humidity': 94, 'temp_kf': 0}, 'weather': [{'id': 500, 'main': 'Rain', 'description': 'light rain', 'icon': '10n'}], 'clouds': {'all': 100}, 'wind': {'speed': 3.09, 'deg': 248, 'gust': 5.7}, 'visibility': 471, 'pop': 1, 'rain': {'3h': 1.83}, 'sys': {'pod': 'n'}, 'dt_txt': '2025-09-23 21:00:00'}, {'dt': 1758672000, 'main': {'temp': 279.38, 'feels_like': 277.96, 'temp_min': 279.38, 'temp_max': 279.38, 'pressure': 1024, 'sea_level': 1024, 'grnd_level': 971, 'humidity': 97, 'temp_kf': 0}, 'weather': [{'id': 500, 'main': 'Rain', 'description': 'light rain', 'icon': '10n'}], 'clouds': {'all': 100}, 'wind': {'speed': 1.99, 'deg': 244, 'gust': 3.96}, 'visibility': 511, 'pop': 1, 'rain': {'3h': 1.05}, 'sys': {'pod': 'n'}, 'dt_txt': '2025-09-24 00:00:00'}, {'dt': 1758682800, 'main': {'temp': 279.55, 'feels_like': 277.98, 'temp_min': 279.55, 'temp_max': 279.55, 'pressure': 1024, 'sea_level': 1024, 'grnd_level': 972, 'humidity': 94, 'temp_kf': 0}, 'weather': [{'id': 500, 'main': 'Rain', 'description': 'light rain', 'icon': '10n'}], 'clouds': {'all': 100}, 'wind': {'speed': 2.18, 'deg': 235, 'gust': 3.89}, 'visibility': 6704, 'pop': 1, 'rain': {'3h': 1.28}, 'sys': {'pod': 'n'}, 'dt_txt': '2025-09-24 03:00:00'}, {'dt': 1758693600, 'main': {'temp': 279.54, 'feels_like': 278.43, 'temp_min': 279.54, 'temp_max': 279.54, 'pressure': 1025, 'sea_level': 1025, 'grnd_level': 972, 'humidity': 95, 'temp_kf': 0}, 'weather': [{'id': 500, 'main': 'Rain', 'description': 'light rain', 'icon': '10d'}], 'clouds': {'all': 100}, 'wind': {'speed': 1.72, 'deg': 197, 'gust': 2.38}, 'visibility': 3107, 'pop': 1, 'rain': {'3h': 1.96}, 'sys': {'pod': 'd'}, 'dt_txt': '2025-09-24 06:00:00'}, {'dt': 1758704400, 'main': {'temp': 280.18, 'feels_like': 280.18, 'temp_min': 280.18, 'temp_max': 280.18, 'pressure': 1025, 'sea_level': 1025, 'grnd_level': 973, 'humidity': 94, 'temp_kf': 0}, 'weather': [{'id': 500, 'main': 'Rain', 'description': 'light rain', 'icon': '10d'}], 'clouds': {'all': 100}, 'wind': {'speed': 1.13, 'deg': 187, 'gust': 1.48}, 'visibility': 10000, 'pop': 1, 'rain': {'3h': 2.9}, 'sys': {'pod': 'd'}, 'dt_txt': '2025-09-24 09:00:00'}, {'dt': 1758715200, 'main': {'temp': 281.86, 'feels_like': 280.69, 'temp_min': 281.86, 'temp_max': 281.86, 'pressure': 1026, 'sea_level': 1026, 'grnd_level': 974, 'humidity': 93, 'temp_kf': 0}, 'weather': [{'id': 500, 'main': 'Rain', 'description': 'light rain', 'icon': '10d'}], 'clouds': {'all': 100}, 'wind': {'speed': 2.18, 'deg': 227, 'gust': 6.08}, 'visibility': 10000, 'pop': 1, 'rain': {'3h': 0.51}, 'sys': {'pod': 'd'}, 'dt_txt': '2025-09-24 12:00:00'}, {'dt': 1758726000, 'main': {'temp': 283.58, 'feels_like': 282.85, 'temp_min': 283.58, 'temp_max': 283.58, 'pressure': 1026, 'sea_level': 1026, 'grnd_level': 974, 'humidity': 83, 'temp_kf': 0}, 'weather': [{'id': 500, 'main': 'Rain', 'description': 'light rain', 'icon': '10d'}], 'clouds': {'all': 100}, 'wind': {'speed': 4.39, 'deg': 254, 'gust': 7.43}, 'visibility': 10000, 'pop': 0.71, 'rain': {'3h': 0.36}, 'sys': {'pod': 'd'}, 'dt_txt': '2025-09-24 15:00:00'}, {'dt': 1758736800, 'main': {'temp': 282.3, 'feels_like': 280.75, 'temp_min': 282.3, 'temp_max': 282.3, 'pressure': 1027, 'sea_level': 1027, 'grnd_level': 975, 'humidity': 91, 'temp_kf': 0}, 'weather': [{'id': 500, 'main': 'Rain', 'description': 'light rain', 'icon': '10n'}], 'clouds': {'all': 99}, 'wind': {'speed': 2.83, 'deg': 239, 'gust': 3.33}, 'visibility': 10000, 'pop': 0.74, 'rain': {'3h': 0.35}, 'sys': {'pod': 'n'}, 'dt_txt': '2025-09-24 18:00:00'}, {'dt': 1758747600, 'main': {'temp': 282.51, 'feels_like': 280.75, 'temp_min': 282.51, 'temp_max': 282.51, 'pressure': 1028, 'sea_level': 1028, 'grnd_level': 976, 'humidity': 91, 'temp_kf': 0}, 'weather': [{'id': 500, 'main': 'Rain', 'description': 'light rain', 'icon': '10n'}], 'clouds': {'all': 100}, 'wind': {'speed': 3.25, 'deg': 239, 'gust': 6.05}, 'visibility': 10000, 'pop': 0.56, 'rain': {'3h': 0.27}, 'sys': {'pod': 'n'}, 'dt_txt': '2025-09-24 21:00:00'}, {'dt': 1758758400, 'main': {'temp': 282.53, 'feels_like': 280.73, 'temp_min': 282.53, 'temp_max': 282.53, 'pressure': 1028, 'sea_level': 1028, 'grnd_level': 976, 'humidity': 90, 'temp_kf': 0}, 'weather': [{'id': 500, 'main': 'Rain', 'description': 'light rain', 'icon': '10n'}], 'clouds': {'all': 100}, 'wind': {'speed': 3.33, 'deg': 237, 'gust': 6.46}, 'visibility': 10000, 'pop': 0.32, 'rain': {'3h': 0.21}, 'sys': {'pod': 'n'}, 'dt_txt': '2025-09-25 00:00:00'}, {'dt': 1758769200, 'main': {'temp': 281.86, 'feels_like': 280.15, 'temp_min': 281.86, 'temp_max': 281.86, 'pressure': 1028, 'sea_level': 1028, 'grnd_level': 976, 'humidity': 91, 'temp_kf': 0}, 'weather': [{'id': 500, 'main': 'Rain', 'description': 'light rain', 'icon': '10n'}], 'clouds': {'all': 83}, 'wind': {'speed': 2.94, 'deg': 228, 'gust': 2.93}, 'visibility': 10000, 'pop': 0.2, 'rain': {'3h': 0.16}, 'sys': {'pod': 'n'}, 'dt_txt': '2025-09-25 03:00:00'}, {'dt': 1758780000, 'main': {'temp': 282.49, 'feels_like': 281.05, 'temp_min': 282.49, 'temp_max': 282.49, 'pressure': 1028, 'sea_level': 1028, 'grnd_level': 977, 'humidity': 91, 'temp_kf': 0}, 'weather': [{'id': 500, 'main': 'Rain', 'description': 'light rain', 'icon': '10d'}], 'clouds': {'all': 91}, 'wind': {'speed': 2.71, 'deg': 226, 'gust': 5.84}, 'visibility': 10000, 'pop': 0.2, 'rain': {'3h': 0.12}, 'sys': {'pod': 'd'}, 'dt_txt': '2025-09-25 06:00:00'}, {'dt': 1758790800, 'main': {'temp': 283.71, 'feels_like': 283.12, 'temp_min': 283.71, 'temp_max': 283.71, 'pressure': 1029, 'sea_level': 1029, 'grnd_level': 977, 'humidity': 88, 'temp_kf': 0}, 'weather': [{'id': 500, 'main': 'Rain', 'description': 'light rain', 'icon': '10d'}], 'clouds': {'all': 100}, 'wind': {'speed': 2.89, 'deg': 234, 'gust': 7.4}, 'visibility': 10000, 'pop': 0.2, 'rain': {'3h': 0.13}, 'sys': {'pod': 'd'}, 'dt_txt': '2025-09-25 09:00:00'}, {'dt': 1758801600, 'main': {'temp': 284.76, 'feels_like': 284.2, 'temp_min': 284.76, 'temp_max': 284.76, 'pressure': 1029, 'sea_level': 1029, 'grnd_level': 977, 'humidity': 85, 'temp_kf': 0}, 'weather': [{'id': 500, 'main': 'Rain', 'description': 'light rain', 'icon': '10d'}], 'clouds': {'all': 100}, 'wind': {'speed': 3.06, 'deg': 235, 'gust': 7.8}, 'visibility': 10000, 'pop': 0.29, 'rain': {'3h': 0.23}, 'sys': {'pod': 'd'}, 'dt_txt': '2025-09-25 12:00:00'}, {'dt': 1758812400, 'main': {'temp': 284.66, 'feels_like': 284.22, 'temp_min': 284.66, 'temp_max': 284.66, 'pressure': 1029, 'sea_level': 1029, 'grnd_level': 977, 'humidity': 90, 'temp_kf': 0}, 'weather': [{'id': 500, 'main': 'Rain', 'description': 'light rain', 'icon': '10d'}], 'clouds': {'all': 100}, 'wind': {'speed': 2.95, 'deg': 237, 'gust': 4.16}, 'visibility': 10000, 'pop': 1, 'rain': {'3h': 0.55}, 'sys': {'pod': 'd'}, 'dt_txt': '2025-09-25 15:00:00'}, {'dt': 1758823200, 'main': {'temp': 283.89, 'feels_like': 283.45, 'temp_min': 283.89, 'temp_max': 283.89, 'pressure': 1029, 'sea_level': 1029, 'grnd_level': 978, 'humidity': 93, 'temp_kf': 0}, 'weather': [{'id': 500, 'main': 'Rain', 'description': 'light rain', 'icon': '10n'}], 'clouds': {'all': 100}, 'wind': {'speed': 2.63, 'deg': 230, 'gust': 3.53}, 'visibility': 10000, 'pop': 1, 'rain': {'3h': 0.37}, 'sys': {'pod': 'n'}, 'dt_txt': '2025-09-25 18:00:00'}, {'dt': 1758834000, 'main': {'temp': 283.84, 'feels_like': 283.39, 'temp_min': 283.84, 'temp_max': 283.84, 'pressure': 1029, 'sea_level': 1029, 'grnd_level': 978, 'humidity': 93, 'temp_kf': 0}, 'weather': [{'id': 500, 'main': 'Rain', 'description': 'light rain', 'icon': '10n'}], 'clouds': {'all': 100}, 'wind': {'speed': 2.68, 'deg': 225, 'gust': 3.4}, 'visibility': 10000, 'pop': 0.79, 'rain': {'3h': 0.43}, 'sys': {'pod': 'n'}, 'dt_txt': '2025-09-25 21:00:00'}, {'dt': 1758844800, 'main': {'temp': 283.81, 'feels_like': 283.31, 'temp_min': 283.81, 'temp_max': 283.81, 'pressure': 1029, 'sea_level': 1029, 'grnd_level': 978, 'humidity': 91, 'temp_kf': 0}, 'weather': [{'id': 500, 'main': 'Rain', 'description': 'light rain', 'icon': '10n'}], 'clouds': {'all': 100}, 'wind': {'speed': 2.43, 'deg': 218, 'gust': 2.61}, 'visibility': 10000, 'pop': 0.95, 'rain': {'3h': 0.47}, 'sys': {'pod': 'n'}, 'dt_txt': '2025-09-26 00:00:00'}, {'dt': 1758855600, 'main': {'temp': 283.8, 'feels_like': 283.35, 'temp_min': 283.8, 'temp_max': 283.8, 'pressure': 1029, 'sea_level': 1029, 'grnd_level': 977, 'humidity': 93, 'temp_kf': 0}, 'weather': [{'id': 500, 'main': 'Rain', 'description': 'light rain', 'icon': '10n'}], 'clouds': {'all': 100}, 'wind': {'speed': 2.65, 'deg': 216, 'gust': 3.4}, 'visibility': 10000, 'pop': 1, 'rain': {'3h': 1.01}, 'sys': {'pod': 'n'}, 'dt_txt': '2025-09-26 03:00:00'}, {'dt': 1758866400, 'main': {'temp': 283.93, 'feels_like': 283.47, 'temp_min': 283.93, 'temp_max': 283.93, 'pressure': 1030, 'sea_level': 1030, 'grnd_level': 978, 'humidity': 92, 'temp_kf': 0}, 'weather': [{'id': 500, 'main': 'Rain', 'description': 'light rain', 'icon': '10d'}], 'clouds': {'all': 100}, 'wind': {'speed': 2.52, 'deg': 213, 'gust': 3.39}, 'visibility': 10000, 'pop': 1, 'rain': {'3h': 0.48}, 'sys': {'pod': 'd'}, 'dt_txt': '2025-09-26 06:00:00'}, {'dt': 1758877200, 'main': {'temp': 284.36, 'feels_like': 283.81, 'temp_min': 284.36, 'temp_max': 284.36, 'pressure': 1030, 'sea_level': 1030, 'grnd_level': 979, 'humidity': 87, 'temp_kf': 0}, 'weather': [{'id': 500, 'main': 'Rain', 'description': 'light rain', 'icon': '10d'}], 'clouds': {'all': 100}, 'wind': {'speed': 2.06, 'deg': 216, 'gust': 3.13}, 'visibility': 10000, 'pop': 0.5, 'rain': {'3h': 0.27}, 'sys': {'pod': 'd'}, 'dt_txt': '2025-09-26 09:00:00'}, {'dt': 1758888000, 'main': {'temp': 285.53, 'feels_like': 284.83, 'temp_min': 285.53, 'temp_max': 285.53, 'pressure': 1030, 'sea_level': 1030, 'grnd_level': 979, 'humidity': 77, 'temp_kf': 0}, 'weather': [{'id': 500, 'main': 'Rain', 'description': 'light rain', 'icon': '10d'}], 'clouds': {'all': 100}, 'wind': {'speed': 2.39, 'deg': 235, 'gust': 4.67}, 'visibility': 10000, 'pop': 0.27, 'rain': {'3h': 0.24}, 'sys': {'pod': 'd'}, 'dt_txt': '2025-09-26 12:00:00'}, {'dt': 1758898800, 'main': {'temp': 285.85, 'feels_like': 285.19, 'temp_min': 285.85, 'temp_max': 285.85, 'pressure': 1029, 'sea_level': 1029, 'grnd_level': 978, 'humidity': 77, 'temp_kf': 0}, 'weather': [{'id': 804, 'main': 'Clouds', 'description': 'overcast clouds', 'icon': '04d'}], 'clouds': {'all': 100}, 'wind': {'speed': 1.84, 'deg': 231, 'gust': 2.3}, 'visibility': 10000, 'pop': 0, 'sys': {'pod': 'd'}, 'dt_txt': '2025-09-26 15:00:00'}, {'dt': 1758909600, 'main': {'temp': 283.3, 'feels_like': 282.56, 'temp_min': 283.3, 'temp_max': 283.3, 'pressure': 1029, 'sea_level': 1029, 'grnd_level': 978, 'humidity': 84, 'temp_kf': 0}, 'weather': [{'id': 804, 'main': 'Clouds', 'description': 'overcast clouds', 'icon': '04n'}], 'clouds': {'all': 100}, 'wind': {'speed': 1.61, 'deg': 194, 'gust': 1.41}, 'visibility': 10000, 'pop': 0, 'sys': {'pod': 'n'}, 'dt_txt': '2025-09-26 18:00:00'}, {'dt': 1758920400, 'main': {'temp': 282.77, 'feels_like': 282.44, 'temp_min': 282.77, 'temp_max': 282.77, 'pressure': 1029, 'sea_level': 1029, 'grnd_level': 978, 'humidity': 77, 'temp_kf': 0}, 'weather': [{'id': 804, 'main': 'Clouds', 'description': 'overcast clouds', 'icon': '04n'}], 'clouds': {'all': 100}, 'wind': {'speed': 1.43, 'deg': 208, 'gust': 1.22}, 'visibility': 10000, 'pop': 0, 'sys': {'pod': 'n'}, 'dt_txt': '2025-09-26 21:00:00'}, {'dt': 1758931200, 'main': {'temp': 282.31, 'feels_like': 282.31, 'temp_min': 282.31, 'temp_max': 282.31, 'pressure': 1029, 'sea_level': 1029, 'grnd_level': 977, 'humidity': 72, 'temp_kf': 0}, 'weather': [{'id': 804, 'main': 'Clouds', 'description': 'overcast clouds', 'icon': '04n'}], 'clouds': {'all': 100}, 'wind': {'speed': 0.04, 'deg': 166, 'gust': 0.09}, 'visibility': 10000, 'pop': 0, 'sys': {'pod': 'n'}, 'dt_txt': '2025-09-27 00:00:00'}, {'dt': 1758942000, 'main': {'temp': 281.59, 'feels_like': 281.59, 'temp_min': 281.59, 'temp_max': 281.59, 'pressure': 1028, 'sea_level': 1028, 'grnd_level': 977, 'humidity': 71, 'temp_kf': 0}, 'weather': [{'id': 804, 'main': 'Clouds', 'description': 'overcast clouds', 'icon': '04n'}], 'clouds': {'all': 100}, 'wind': {'speed': 0.16, 'deg': 256, 'gust': 0.14}, 'visibility': 10000, 'pop': 0, 'sys': {'pod': 'n'}, 'dt_txt': '2025-09-27 03:00:00'}, {'dt': 1758952800, 'main': {'temp': 281.06, 'feels_like': 281.06, 'temp_min': 281.06, 'temp_max': 281.06, 'pressure': 1029, 'sea_level': 1029, 'grnd_level': 977, 'humidity': 70, 'temp_kf': 0}, 'weather': [{'id': 804, 'main': 'Clouds', 'description': 'overcast clouds', 'icon': '04d'}], 'clouds': {'all': 87}, 'wind': {'speed': 0.29, 'deg': 276, 'gust': 0.15}, 'visibility': 10000, 'pop': 0, 'sys': {'pod': 'd'}, 'dt_txt': '2025-09-27 06:00:00'}, {'dt': 1758963600, 'main': {'temp': 285.61, 'feels_like': 284.32, 'temp_min': 285.61, 'temp_max': 285.61, 'pressure': 1028, 'sea_level': 1028, 'grnd_level': 977, 'humidity': 54, 'temp_kf': 0}, 'weather': [{'id': 800, 'main': 'Clear', 'description': 'clear sky', 'icon': '01d'}], 'clouds': {'all': 7}, 'wind': {'speed': 0.53, 'deg': 76, 'gust': 0.46}, 'visibility': 10000, 'pop': 0, 'sys': {'pod': 'd'}, 'dt_txt': '2025-09-27 09:00:00'}, {'dt': 1758974400, 'main': {'temp': 287.96, 'feels_like': 286.75, 'temp_min': 287.96, 'temp_max': 287.96, 'pressure': 1026, 'sea_level': 1026, 'grnd_level': 976, 'humidity': 48, 'temp_kf': 0}, 'weather': [{'id': 800, 'main': 'Clear', 'description': 'clear sky', 'icon': '01d'}], 'clouds': {'all': 7}, 'wind': {'speed': 1.37, 'deg': 14, 'gust': 0.9}, 'visibility': 10000, 'pop': 0, 'sys': {'pod': 'd'}, 'dt_txt': '2025-09-27 12:00:00'}, {'dt': 1758985200, 'main': {'temp': 286.85, 'feels_like': 285.92, 'temp_min': 286.85, 'temp_max': 286.85, 'pressure': 1026, 'sea_level': 1026, 'grnd_level': 975, 'humidity': 63, 'temp_kf': 0}, 'weather': [{'id': 800, 'main': 'Clear', 'description': 'clear sky', 'icon': '01d'}], 'clouds': {'all': 6}, 'wind': {'speed': 1.9, 'deg': 343, 'gust': 1.63}, 'visibility': 10000, 'pop': 0, 'sys': {'pod': 'd'}, 'dt_txt': '2025-09-27 15:00:00'}, {'dt': 1758996000, 'main': {'temp': 282.35, 'feels_like': 282.35, 'temp_min': 282.35, 'temp_max': 282.35, 'pressure': 1026, 'sea_level': 1026, 'grnd_level': 975, 'humidity': 74, 'temp_kf': 0}, 'weather': [{'id': 800, 'main': 'Clear', 'description': 'clear sky', 'icon': '01n'}], 'clouds': {'all': 9}, 'wind': {'speed': 0.55, 'deg': 139, 'gust': 0.92}, 'visibility': 10000, 'pop': 0, 'sys': {'pod': 'n'}, 'dt_txt': '2025-09-27 18:00:00'}, {'dt': 1759006800, 'main': {'temp': 282.76, 'feels_like': 282.76, 'temp_min': 282.76, 'temp_max': 282.76, 'pressure': 1026, 'sea_level': 1026, 'grnd_level': 975, 'humidity': 68, 'temp_kf': 0}, 'weather': [{'id': 803, 'main': 'Clouds', 'description': 'broken clouds', 'icon': '04n'}], 'clouds': {'all': 78}, 'wind': {'speed': 0.72, 'deg': 76, 'gust': 0.7}, 'visibility': 10000, 'pop': 0, 'sys': {'pod': 'n'}, 'dt_txt': '2025-09-27 21:00:00'}, {'dt': 1759017600, 'main': {'temp': 282.71, 'feels_like': 282.71, 'temp_min': 282.71, 'temp_max': 282.71, 'pressure': 1025, 'sea_level': 1025, 'grnd_level': 974, 'humidity': 66, 'temp_kf': 0}, 'weather': [{'id': 804, 'main': 'Clouds', 'description': 'overcast clouds', 'icon': '04n'}], 'clouds': {'all': 89}, 'wind': {'speed': 0.51, 'deg': 196, 'gust': 0.48}, 'visibility': 10000, 'pop': 0, 'sys': {'pod': 'n'}, 'dt_txt': '2025-09-28 00:00:00'}, {'dt': 1759028400, 'main': {'temp': 281.94, 'feels_like': 281.94, 'temp_min': 281.94, 'temp_max': 281.94, 'pressure': 1025, 'sea_level': 1025, 'grnd_level': 974, 'humidity': 68, 'temp_kf': 0}, 'weather': [{'id': 804, 'main': 'Clouds', 'description': 'overcast clouds', 'icon': '04n'}], 'clouds': {'all': 100}, 'wind': {'speed': 0.8, 'deg': 260, 'gust': 0.9}, 'visibility': 10000, 'pop': 0, 'sys': {'pod': 'n'}, 'dt_txt': '2025-09-28 03:00:00'}, {'dt': 1759039200, 'main': {'temp': 282.12, 'feels_like': 282.12, 'temp_min': 282.12, 'temp_max': 282.12, 'pressure': 1024, 'sea_level': 1024, 'grnd_level': 973, 'humidity': 67, 'temp_kf': 0}, 'weather': [{'id': 804, 'main': 'Clouds', 'description': 'overcast clouds', 'icon': '04d'}], 'clouds': {'all': 100}, 'wind': {'speed': 0.54, 'deg': 50, 'gust': 0.41}, 'visibility': 10000, 'pop': 0, 'sys': {'pod': 'd'}, 'dt_txt': '2025-09-28 06:00:00'}, {'dt': 1759050000, 'main': {'temp': 285.56, 'feels_like': 284.27, 'temp_min': 285.56, 'temp_max': 285.56, 'pressure': 1023, 'sea_level': 1023, 'grnd_level': 972, 'humidity': 54, 'temp_kf': 0}, 'weather': [{'id': 804, 'main': 'Clouds', 'description': 'overcast clouds', 'icon': '04d'}], 'clouds': {'all': 100}, 'wind': {'speed': 1.34, 'deg': 43, 'gust': 1.34}, 'visibility': 10000, 'pop': 0, 'sys': {'pod': 'd'}, 'dt_txt': '2025-09-28 09:00:00'}], 'city': {'id': 3145614, 'name': 'Mo i Rana', 'coord': {'lat': 66.3128, 'lon': 14.1428}, 'country': 'NO', 'population': 17853, 'timezone': 7200, 'sunrise': 1758602921, 'sunset': 1758646976}}\")\n"
     ]
    }
   ],
   "source": [
    "# Query the data\n",
    "forecast_rows = session.execute(\"SELECT * FROM forecast_table;\")\n",
    "print(forecast_rows.one()) # <- only one row"
   ]
  },
  {
   "cell_type": "markdown",
   "metadata": {
    "slideshow": {
     "slide_type": "slide"
    }
   },
   "source": [
    "```{seealso} \n",
    ":class: tip\n",
    "\n",
    "## Resources\n",
    "- [Cassandra webpage](https://cassandra.apache.org/)\n",
    "- [Cassandra Docker file](https://hub.docker.com/_/cassandra)\n",
    "- [UUID functions](https://docs.datastax.com/en/cql-oss/3.3/cql/cql_reference/timeuuid_functions_r.html)\n",
    "- [YouTube: Cassandra in 100 seconds](https://youtu.be/ziq7FUKpCS8?si=WQUdkHFvaBmT0DBo) (2m:26s)\n",
    "- [YouTube: How to use Apache Cassandra in Python](https://youtu.be/qMauZqJH3ZM?si=yKGZ-5cld2BK396Y) (14m:50s)\n",
    "- [YouTube: Cassandra Database Crash Course](https://youtu.be/KZsVSfQVU4I?si=FBCi8qOfCirfVmZk) (19m:47s)\n",
    "```"
   ]
  }
 ],
 "metadata": {
  "celltoolbar": "Slideshow",
  "kernelspec": {
   "display_name": "Python 3 (ipykernel)",
   "language": "python",
   "name": "python3"
  },
  "language_info": {
   "codemirror_mode": {
    "name": "ipython",
    "version": 3
   },
   "file_extension": ".py",
   "mimetype": "text/x-python",
   "name": "python",
   "nbconvert_exporter": "python",
   "pygments_lexer": "ipython3",
   "version": "3.12.10"
  }
 },
 "nbformat": 4,
 "nbformat_minor": 4
}