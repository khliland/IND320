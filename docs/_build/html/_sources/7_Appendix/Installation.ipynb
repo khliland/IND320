{
 "cells": [
  {
   "cell_type": "markdown",
   "metadata": {
    "editable": true,
    "slideshow": {
     "slide_type": ""
    },
    "tags": []
   },
   "source": [
    "# Installation\n",
    "## General note on Windows installations\n",
    "When a system wide change like adding/changing environment variables or installing a program is performed, this does not appear in the current session of a Jupyter Notebook or other module that is started (directly or indirectly) from the command line. A restart of the whole Jupyter Notebook server may therefore be needed after the mentioned changes to see their effects.\n",
    "\n",
    "### Company managed Windows computers\n",
    "Some companies and organisations, e.g., the Norwegian University of Life Sciences (NMBU), do not give administrative rights to their employees by default. Instead they have a Software Center with installable programs. For NMBU the Software Center includes Anaconda, VS Code, Docker (with automatic WSL installation), Java, and Power BI Desktop."
   ]
  },
  {
   "cell_type": "markdown",
   "metadata": {},
   "source": [
    "## Python\n",
    "- An up to date installation of Python is recommended.\n",
    "- This book has been built using the minial conda installer [miniconda](https://docs.conda.io/projects/miniconda/en/latest/)."
   ]
  },
  {
   "cell_type": "markdown",
   "metadata": {},
   "source": [
    "### Conda environments\n",
    "- A _conda environment_ is a self contained Python environment with its own Python version and installed packages.\n",
    "- Conda environments can be created and activated in a terminal on POSIX systems (macOS, Unix, Linux) or from a _Conda prompt_ on Windows (use \\ instead of / in paths).\n",
    "- A new conda environment can be created and prepared, e.g., as follows:\n",
    "    ```\n",
    "    conda create --name D2D_env\n",
    "    conda activate D2D_env\n",
    "    conda install conda python==3.12.10 pip\n",
    "    pip install -r /path_to_D2Dbook/requirements.txt\n",
    "    ```\n",
    "- If python is not found, you can add a new repository channel by:\n",
    "    ```\n",
    "    conda config --add channels conda-forge\n",
    "    ```\n",
    "- If you get an error regarding Rust, you may need to install Rust separately, e.g, from [their webpage](https://www.rust-lang.org/tools/install) or using [Homebrew](https://formulae.brew.sh/formula/rust).\n",
    "- As of August 2025 the Python version has been specified above to conform to the supported Python version of the Cassandra driver from DataStax."
   ]
  },
  {
   "cell_type": "markdown",
   "metadata": {},
   "source": [
    "## Integrated Developer Environment - IDE\n",
    "- There are many to choose between, e.g., the poular freeware applications [PyCharm](https://www.jetbrains.com/pycharm/) and Visual Studio Code ([VS Code](https://code.visualstudio.com/)).\n",
    "- This book was developed using VS Code.\n",
    "\n",
    "### VS Code\n",
    "- Download and install [VS Code](https://code.visualstudio.com/).\n",
    "- Add extensions for Python and Jupyter, possibly also for JSON viewer, GitHub Copilot, etc.\n",
    "- You may have to set the Conda and Python paths in the settings for the Python extension.\n",
    "- If your favourite Conda environment is not detected, press Ctrl/Cmd+Shift+P and write _python:Select Interpreter_ to enable manual input of environment path."
   ]
  },
  {
   "cell_type": "markdown",
   "metadata": {},
   "source": [
    "## Git\n",
    "- Python pip installation from GitHub requires a local git system (as of September 2024 this is not required when using this book).\n",
    "- If your computer does not have git installed by default, this can be installed from [git-scm.com](https://git-scm.com/downloads)."
   ]
  },
  {
   "cell_type": "markdown",
   "metadata": {},
   "source": [
    "## Docker\n",
    "- On POSIX systems, Docker desktop can be installed from [docker.com](https://www.docker.com/).\n",
    "- On Windows computers, Docker requires installation/activation of the Windows Subsystem for Linux (WSL) for full functionality. This can be installed from a command prompt using the following command:\n",
    "    ```\n",
    "    wsl --install\n",
    "    ```\n",
    "- After WSL is installed, the Docker desktop can be installed as for POSIX systems.\n",
    "- Both WSL and Docker are found in the Software Catalog of NMBU computers."
   ]
  },
  {
   "cell_type": "markdown",
   "metadata": {},
   "source": [
    "## Cassandra\n",
    "Assumptions:\n",
    "- Docker installed on system\n",
    "- \"cassandra:latest\" image installed in docker\n",
    "- Python/Conda environment with Python >=3.8 and <=3.12.10 *\n",
    "- *As of August 2025 Cassandra drivers directly support up to Python 3.12."
   ]
  },
  {
   "cell_type": "markdown",
   "metadata": {},
   "source": [
    "## Java\n",
    "- To use PySpark one needs a Java installation.\n",
    "- Several vendors make their own Java versions. \n",
    "    - [Microsoft's version of OpenJDK](https://learn.microsoft.com/en-gb/java/openjdk/download) supports all major platforms.\n",
    "    - After an OS update, a reinstall of Java may be needed.\n",
    "- Access to Java can be enabled system wide using the environment JAVA_HOME or on a script-wise level using the Python _os_ package.\n",
    "    - Environment variables are system dependent. If the installation of Java did not add the environment variable automatically, the variable can be set __persistently__ in the system (in the [Cassandra notebook](../3_Data_sources/2_Databases/3_Cassandra.ipynb) we set these variables in the script instead):\n",
    "        - Windows: search for _Environment Variables_ via the start button and selecting the one for _User_.\n",
    "        - Linux and Mac OS: edit the ~/.bash\\_profile file, adding _export JAVA_HOME=/opt/openjdk11_ (or similar, depending on your installation)."
   ]
  },
  {
   "cell_type": "markdown",
   "metadata": {},
   "source": [
    "## Spark\n",
    "- Spark is originally made for POSIX systems with Hadoop. On Windows computers it is therefore dependent on specialised setup or a set of drivers called winutils.\n",
    "    - More than one GitHub repository maintains these drivers. We have tested the hadoop-3.3.1 version from [Kontext.TECH](https://github.com/kontext-tech/winutils) with success.\n",
    "    - At runtime, an environment variable can be set to point to the downloaded hadoop-x.y.z folder, e.g., in _C:\\Hadoop_ (not need on Mac/Linux, see example in [Spark notebook](../3_Data_sources/2_Databases/4_Spark.ipynb)):\n",
    "        ```\n",
    "        import os\n",
    "        os.environ[\"HADOOP_HOME\"] = \"C:/Hadoop/hadoop-3.3.1\"\n",
    "        ```\n",
    "    - On some computers an additional Hadoop environment variable can silence a nuisance warning:\n",
    "        ```\n",
    "        os.environ[\"PYSPARK_HADOOP_VERSION\"] = \"without\"\n",
    "        ```\n",
    "- Spark is not very picky with regard to Python version, but may need help choosing/finding it. Setting environment variables for this (and the Hadoop related above) can be done persistently, similar to JAVA_HOME or at runtime (see example in [Spark notebook](../3_Data_sources/2_Databases/4_Spark.ipynb)), e.g., using:\n",
    "    ```\n",
    "    os.environ[\"PYSPARK_PYTHON\"] = \"python\"\n",
    "    os.environ[\"PYSPARK_DRIVER_PYTHON\"] = \"python\"\n",
    "    ```\n",
    "- If this version of Python is not accepted, one can point it to a version installed in a conda environment.\n",
    "- Spark itself can be installed using: _pip install pyspark_ (or similar).\n",
    "- Troubleshooting:\n",
    "    - Firewalls, e.g., Norton, may block the connection between Spark and Cassandra. Adding and exception in the firewall or temporarily disabling may help.\n",
    "- As of August 2025, the installed pyspark version should be 3.5.1 to be compatible with the Cassandra drivers."
   ]
  }
 ],
 "metadata": {
  "kernelspec": {
   "display_name": "Python 3 (ipykernel)",
   "language": "python",
   "name": "python3"
  },
  "language_info": {
   "codemirror_mode": {
    "name": "ipython",
    "version": 3
   },
   "file_extension": ".py",
   "mimetype": "text/x-python",
   "name": "python",
   "nbconvert_exporter": "python",
   "pygments_lexer": "ipython3",
   "version": "3.12.10"
  }
 },
 "nbformat": 4,
 "nbformat_minor": 4
}
