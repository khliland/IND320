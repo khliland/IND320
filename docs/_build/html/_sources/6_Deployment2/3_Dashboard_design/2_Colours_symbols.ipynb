{
 "cells": [
  {
   "cell_type": "markdown",
   "metadata": {
    "slideshow": {
     "slide_type": "slide"
    },
    "tags": []
   },
   "source": [
    "# Colours and symbolics\n",
    "- Colours, symbols, and flags are powerful elements in dashboards and reports for guiding the user's attention and conveying messages.\n",
    "- These elements are relevant both inside plots and throughout the dashboards as a whole."
   ]
  },
  {
   "cell_type": "markdown",
   "metadata": {
    "slideshow": {
     "slide_type": "slide"
    },
    "tags": []
   },
   "source": [
    "## Plots\n",
    "### Groups\n",
    "- Colours, linestyles and plot symbols are typically used to identify or emphasize groups or classes.\n",
    "- Most plotting libraries have contrasting colour series specially made for categories.\n",
    "- Scatterplots with group-wise symbols or symbol selection based on a DataFrame column."
   ]
  },
  {
   "cell_type": "code",
   "execution_count": null,
   "metadata": {
    "slideshow": {
     "slide_type": "slide"
    },
    "tags": []
   },
   "outputs": [],
   "source": [
    "# Use plotly express to plot petal widths and lengths of the iris data set (imported from plotly). \n",
    "# Colour and symbol by species.\n",
    "import plotly.express as px\n",
    "df = px.data.iris()\n",
    "fig = px.scatter(df, x=\"petal_width\", y=\"petal_length\", color=\"species\", symbol=\"species\")\n",
    "fig.show()"
   ]
  },
  {
   "cell_type": "markdown",
   "metadata": {
    "slideshow": {
     "slide_type": "slide"
    },
    "tags": []
   },
   "source": [
    "### Focused element\n",
    "- Clicking or hovering over an element can be used to invoke a change.\n",
    "    - Colour or size change on the selected element.\n",
    "    - \"Defocus\" on the remaining elements, e.g., by changing opacity or hue."
   ]
  },
  {
   "cell_type": "code",
   "execution_count": null,
   "metadata": {
    "slideshow": {
     "slide_type": "slide"
    },
    "tags": []
   },
   "outputs": [],
   "source": [
    "import plotly.graph_objects as go\n",
    "\n",
    "df = px.data.iris()\n",
    "x = df[\"sepal_width\"]\n",
    "y = df[\"sepal_length\"]\n",
    "\n",
    "# Main plot\n",
    "f = go.FigureWidget([go.Scatter(x=x, y=y, mode='markers')])\n",
    "f.update_layout(xaxis_title=\"Sepal width\", yaxis_title=\"Sepal length\")\n",
    "# Set xlimits and ylimits\n",
    "f.update_yaxes(range=[4, 8.1])\n",
    "f.update_xaxes(range=[1.8, 4.5])\n",
    "\n",
    "# Create a color list based on px.colors.qualitative.Vivid which has three colors.\n",
    "colors = [px.colors.qualitative.Vivid[i] for i in df[\"species_id\"]]\n",
    "sizes = [10] * len(x)\n",
    "\n",
    "# Attributes of the scatter object\n",
    "scatter = f.data[0]\n",
    "scatter.marker.color = colors\n",
    "scatter.marker.size = sizes\n",
    "f.layout.hovermode = 'closest'\n",
    "\n",
    "# Create our callback function\n",
    "def update_point(trace, points, selector):\n",
    "    species = df[\"species_id\"][points.point_inds[0]]\n",
    "    # Change all ellements in cols that have df.species != species gray\n",
    "    # to '#bae2be'. Keep in mind that df.species is a series and that cols is a list.\n",
    "    cols = ['#BBBBBB' if s != species else px.colors.qualitative.Vivid[s] for s in df.species_id]\n",
    "    size = [14 if s == species else 10 for s in df.species_id]\n",
    "    \n",
    "    with f.batch_update():\n",
    "        scatter.marker.color = cols\n",
    "        scatter.marker.size = size\n",
    "\n",
    "def reset_point(trace, points, selector):\n",
    "    with f.batch_update():\n",
    "        scatter.marker.color = colors\n",
    "        scatter.marker.size = sizes\n",
    "\n",
    "# Assign the callback function to the scatter object\n",
    "scatter.on_hover(update_point)\n",
    "scatter.on_unhover(reset_point)\n",
    "\n",
    "f # Do not use .show() or the figure will not be interactive"
   ]
  },
  {
   "cell_type": "markdown",
   "metadata": {
    "slideshow": {
     "slide_type": "slide"
    },
    "tags": []
   },
   "source": [
    "### Outliers/alerts\n",
    "- The same basic techniques can be used as with focused elements, but the message should be stronger.\n",
    "- Where a focused element may obtain a more intense colour or grow slightly, a proper contrast colour, typically bright red, is needed for outliers that warrant an alert.\n",
    "- For outliers that are seen as part of the background noise, the symbolics should not be as strong."
   ]
  },
  {
   "cell_type": "code",
   "execution_count": null,
   "metadata": {
    "slideshow": {
     "slide_type": "slide"
    },
    "tags": []
   },
   "outputs": [],
   "source": [
    "df = px.data.iris()\n",
    "fig = px.scatter(df, x=\"sepal_width\", y=\"sepal_length\", color=\"species\")\n",
    "\n",
    "# Add a red cross behind the samples with lowest and highets sepal width\n",
    "df_extreme = df[(df.sepal_width == df.sepal_width.min()) | (df.sepal_width == df.sepal_width.max())]\n",
    "fig.add_trace(go.Scatter(x=df_extreme.sepal_width, y=df_extreme.sepal_length, mode=\"markers\",\n",
    "                         marker=dict(color=\"black\", size=12, symbol=\"cross\"), showlegend=False))\n",
    "fig.add_trace(go.Scatter(x=df_extreme.sepal_width, y=df_extreme.sepal_length, \n",
    "                         mode=\"markers\", marker=dict(color=\"red\", size=12, symbol=\"cross-open\"), showlegend=False))\n",
    "\n",
    "# Traces are plotted in the order they are added. To plot the crosses behind the original data, we need to change the order of the traces.\n",
    "fig.data = (fig.data[3], fig.data[4], fig.data[0], fig.data[1], fig.data[2])\n",
    "\n",
    "# Add title and axis labels\n",
    "fig.update_layout(title=\"Can you spot the outliers?\", xaxis_title=\"Sepal width\", yaxis_title=\"Sepal length\")\n",
    "fig.show()"
   ]
  },
  {
   "cell_type": "code",
   "execution_count": null,
   "metadata": {
    "slideshow": {
     "slide_type": "slide"
    },
    "tags": []
   },
   "outputs": [],
   "source": [
    "# Plot a random sample of 1000 normal distributed points as a 2D scatter plot.\n",
    "import numpy as np\n",
    "np.random.seed(1)\n",
    "N = 1000\n",
    "random_x = np.random.randn(N)\n",
    "random_y = np.random.randn(N)\n",
    "dist_origin = np.sqrt(random_x ** 2 + random_y ** 2)\n",
    "\n",
    "# Let the colour be blue and the opacity 0.7 for points closer than 2 from the origin. Use opacity = 0.2 for all other points.\n",
    "fig = px.scatter(x=random_x[dist_origin > 2], y=random_y[dist_origin > 2], opacity=0.2, color_discrete_sequence=['blue'])\n",
    "fig.add_trace(go.Scatter(x=random_x[dist_origin <= 2], y=random_y[dist_origin <= 2], \n",
    "                         mode=\"markers\", marker=dict(color=\"blue\", opacity=0.7), showlegend=False))\n",
    "\n",
    "# Add a circle with radius 2 around the origin\n",
    "fig.add_shape(type=\"circle\", xref=\"x\", yref=\"y\", x0=-2, y0=-2, x1=2, y1=2, line_color=\"LightSeaGreen\")\n",
    "fig.update_layout(title=\"Softening outliers using opacity\")\n",
    "fig.show()"
   ]
  },
  {
   "cell_type": "markdown",
   "metadata": {
    "slideshow": {
     "slide_type": "slide"
    },
    "tags": []
   },
   "source": [
    "## Colour blindness\n",
    "- [Colour blindness](https://en.wikipedia.org/wiki/Color_blindness) affects up to 8% of men and 0.5% of women.\n",
    "- Red-green is the most common problem, followed by blue-yellow, but there are many variants.\n",
    "    - Each version comes with several confusions, e.g., red-green colourblindness may cause problems in distingushing:\n",
    "        - cyan and grey,\n",
    "        - rose-pink and grey,\n",
    "        - blue and purple,\n",
    "        - yellow and neon green,\n",
    "        - red, green, orange, brown.\n",
    "- Some sequential colourmaps are designed to convey the differences regardless of vision type by superimposing a light-to-dark scale and yellow-to-blue scale, e.g., Cividis, Viridis, and Parula.\n",
    "  \n",
    "A simplified depiction of colour perception for various conditions (public domain figure from [Wikimedia Commons](https://commons.wikimedia.org/wiki/File:Color_blindness.svg))  \n",
    "<img src=\"https://github.com/khliland/IND320/blob/main/D2Dbook/images/Color_blindness.png?raw=TRUE\" width=\"460px\">  "
   ]
  },
  {
   "cell_type": "code",
   "execution_count": null,
   "metadata": {
    "slideshow": {
     "slide_type": "slide"
    },
    "tags": []
   },
   "outputs": [],
   "source": [
    "# Use plotly express to plot petal widths and lengths of the iris data set (imported from plotly). Colour by species. \n",
    "# Use a colour scale friendly to colour blind people.\n",
    "import plotly.express as px\n",
    "df = px.data.iris()\n",
    "fig = px.scatter(df, x=\"petal_width\", y=\"petal_length\", color=\"species\", color_discrete_sequence=px.colors.qualitative.Vivid)\n",
    "fig.show()"
   ]
  },
  {
   "cell_type": "markdown",
   "metadata": {
    "slideshow": {
     "slide_type": "slide"
    },
    "tags": []
   },
   "source": [
    "## Colour perception\n",
    "- Colour perception is not linear with RGB values.\n",
    "- Thus, resolving colours of different intensities is not equal for all colours.\n",
    "- Some colour gradients are specially made to appear linear.\n",
    "    - [matplotlib colormaps](https://matplotlib.org/stable/users/explain/colors/colormaps.html) has a comprehensive overview of colour choices."
   ]
  },
  {
   "cell_type": "code",
   "execution_count": null,
   "metadata": {
    "slideshow": {
     "slide_type": "slide"
    },
    "tags": []
   },
   "outputs": [],
   "source": [
    "# Add ipywidgets slider to control the number of rectangles.\n",
    "import matplotlib.pyplot as plt\n",
    "import matplotlib.patches as patches\n",
    "import ipywidgets as widgets\n",
    "def plot_rectangles(n):\n",
    "    # Set figure size to 10 x 4\n",
    "    _, ax = plt.subplots(figsize=(10, 4))\n",
    "    for i in range(n):\n",
    "        rectR = patches.Rectangle((i / n, 5), 1 / n, 1, facecolor=(i / (n-1), 0, 0))\n",
    "        ax.add_patch(rectR)\n",
    "        rectG = patches.Rectangle((i / n, 4), 1 / n, 1, facecolor=(0, i / (n-1), 0))\n",
    "        ax.add_patch(rectG)\n",
    "        rectB = patches.Rectangle((i / n, 3), 1 / n, 1, facecolor=(0, 0, i / (n-1)))\n",
    "        ax.add_patch(rectB)\n",
    "        rectY = patches.Rectangle((i / n, 2), 1 / n, 1, facecolor=(i / (n-1), i / (n-1), 0))\n",
    "        ax.add_patch(rectY)\n",
    "        rectC = patches.Rectangle((i / n, 1), 1 / n, 1, facecolor=(0, i / (n-1), i / (n-1)))\n",
    "        ax.add_patch(rectC)\n",
    "        rectM = patches.Rectangle((i / n, 0), 1 / n, 1, facecolor=(i / (n-1), 0, i / (n-1)))\n",
    "        ax.add_patch(rectM)\n",
    "    # Set y limits\n",
    "    ax.set_ylim(0, 6)\n",
    "    plt.show()\n",
    "widgets.interact(plot_rectangles, n=widgets.IntSlider(min=20, max=100, step=1, value=20))"
   ]
  },
  {
   "cell_type": "code",
   "execution_count": null,
   "metadata": {
    "slideshow": {
     "slide_type": "slide"
    },
    "tags": []
   },
   "outputs": [],
   "source": [
    "# There are many colourmaps in matplotlib.\n",
    "from matplotlib import colormaps\n",
    "list(colormaps)"
   ]
  },
  {
   "cell_type": "markdown",
   "metadata": {
    "slideshow": {
     "slide_type": "slide"
    },
    "tags": []
   },
   "source": [
    "## Dashboards and reports\n",
    "### Colours\n",
    "- Colours and symbols are also useful outside plots.\n",
    "- Visual cues:\n",
    "    - Grouping elements with separate background colour or border.\n",
    "    - Making some plot stand out from the crowd by using a contrast around it.\n",
    "    - Changing background, text colour, or text background colour based on user actions or events in the data.\n",
    "- Colour themes can be complimentary to plots or crash harshly. Both are effects that are useful.\n",
    "    - Writer's colour-picker is useful for syncing colours or finding different versions.\n",
    "    - Changing between HEX (#000000), RGB (0,0,0), and HSL (0,0,0) can be used when exploring colours:\n",
    "        - For instance, choose a colour using the colour picker (Writer can pick anything visible on the screen), swithc to HSL and cycle through hues.\n",
    "        - This results in limiting a colour search to colours with matching saturation (colour intensity from gray to pure) and lightness (from black to full colour/white).\n",
    "    - [Color wheels](https://www.canva.com/colors/color-wheel/) are also useful tools for selecting matching colours.\n",
    "- Colours for KPIs (key performance indicators) emphasise ranges, e.g., positive vs negative, within the normal vs extreme, etc.\n",
    "- Colours for alerts are powerful, not only in symbols/signs, but also for backgrounds."
   ]
  },
  {
   "cell_type": "markdown",
   "metadata": {
    "slideshow": {
     "slide_type": "slide"
    },
    "tags": []
   },
   "source": [
    "### Symbols\n",
    "- Emojis, cliparts, animated GIFs and similar are effective in catching attention.\n",
    "- Therefore they must be used sparingly.\n",
    "    - A spinning company logo might be cool at first sight, but quickly becomes anoying.\n",
    "    - Static, graphical elements that blend in to the theme may be used as long as they have a function, e.g., conveying identity, showing a state, or making it easy to detect which app/environment is active.\n",
    "- Symbols used as alerts must be immediately visible using sharp contrasts.\n",
    "    - In Writer, an alert sign can be loaded on startup, but set to invisible or it can be a plot that changes."
   ]
  },
  {
   "cell_type": "markdown",
   "metadata": {
    "slideshow": {
     "slide_type": "slide"
    },
    "tags": []
   },
   "source": [
    "## Exercise\n",
    "- Test the use of colors and conditional symbols/flags in Writer."
   ]
  },
  {
   "cell_type": "markdown",
   "metadata": {
    "slideshow": {
     "slide_type": "slide"
    },
    "tags": []
   },
   "source": [
    "```{seealso}\n",
    ":class: tip\n",
    "\n",
    "## Resources\n",
    "- [Colour blindness](https://en.wikipedia.org/wiki/Color_blindness)\n",
    "- [matplotlib colormaps](https://matplotlib.org/stable/users/explain/colors/colormaps.html)\n",
    "```"
   ]
  }
 ],
 "metadata": {
  "kernelspec": {
   "display_name": "Python 3 (ipykernel)",
   "language": "python",
   "name": "python3"
  },
  "language_info": {
   "codemirror_mode": {
    "name": "ipython",
    "version": 3
   },
   "file_extension": ".py",
   "mimetype": "text/x-python",
   "name": "python",
   "nbconvert_exporter": "python",
   "pygments_lexer": "ipython3",
   "version": "3.12.4"
  },
  "widgets": {
   "application/vnd.jupyter.widget-state+json": {
    "state": {
     "278a54d2bbfd459f9ae4f44987e515e6": {
      "model_module": "@jupyter-widgets/base",
      "model_module_version": "2.0.0",
      "model_name": "LayoutModel",
      "state": {
       "_model_module": "@jupyter-widgets/base",
       "_model_module_version": "2.0.0",
       "_model_name": "LayoutModel",
       "_view_count": null,
       "_view_module": "@jupyter-widgets/base",
       "_view_module_version": "2.0.0",
       "_view_name": "LayoutView",
       "align_content": null,
       "align_items": null,
       "align_self": null,
       "border_bottom": null,
       "border_left": null,
       "border_right": null,
       "border_top": null,
       "bottom": null,
       "display": null,
       "flex": null,
       "flex_flow": null,
       "grid_area": null,
       "grid_auto_columns": null,
       "grid_auto_flow": null,
       "grid_auto_rows": null,
       "grid_column": null,
       "grid_gap": null,
       "grid_row": null,
       "grid_template_areas": null,
       "grid_template_columns": null,
       "grid_template_rows": null,
       "height": null,
       "justify_content": null,
       "justify_items": null,
       "left": null,
       "margin": null,
       "max_height": null,
       "max_width": null,
       "min_height": null,
       "min_width": null,
       "object_fit": null,
       "object_position": null,
       "order": null,
       "overflow": null,
       "padding": null,
       "right": null,
       "top": null,
       "visibility": null,
       "width": null
      }
     },
     "27c52ce8381d48ea82b42b325d04ac80": {
      "buffers": [
       {
        "data": "AAAAAAAADEAAAAAAAAAIQJqZmZmZmQlAzczMzMzMCEDNzMzMzMwMQDMzMzMzMw9AMzMzMzMzC0AzMzMzMzMLQDMzMzMzMwdAzczMzMzMCECamZmZmZkNQDMzMzMzMwtAAAAAAAAACEAAAAAAAAAIQAAAAAAAABBAmpmZmZmZEUAzMzMzMzMPQAAAAAAAAAxAZmZmZmZmDkBmZmZmZmYOQDMzMzMzMwtAmpmZmZmZDUDNzMzMzMwMQGZmZmZmZgpAMzMzMzMzC0AAAAAAAAAIQDMzMzMzMwtAAAAAAAAADEAzMzMzMzMLQJqZmZmZmQlAzczMzMzMCEAzMzMzMzMLQGZmZmZmZhBAzczMzMzMEEDNzMzMzMwIQJqZmZmZmQlAAAAAAAAADEDNzMzMzMwIQAAAAAAAAAhAMzMzMzMzC0AAAAAAAAAMQGZmZmZmZgJAmpmZmZmZCUAAAAAAAAAMQGZmZmZmZg5AAAAAAAAACEBmZmZmZmYOQJqZmZmZmQlAmpmZmZmZDUBmZmZmZmYKQJqZmZmZmQlAmpmZmZmZCUDNzMzMzMwIQGZmZmZmZgJAZmZmZmZmBkBmZmZmZmYGQGZmZmZmZgpAMzMzMzMzA0AzMzMzMzMHQJqZmZmZmQVAAAAAAAAAAEAAAAAAAAAIQJqZmZmZmQFAMzMzMzMzB0AzMzMzMzMHQM3MzMzMzAhAAAAAAAAACECamZmZmZkFQJqZmZmZmQFAAAAAAAAABECamZmZmZkJQGZmZmZmZgZAAAAAAAAABEBmZmZmZmYGQDMzMzMzMwdAAAAAAAAACEBmZmZmZmYGQAAAAAAAAAhAMzMzMzMzB0DNzMzMzMwEQDMzMzMzMwNAMzMzMzMzA0CamZmZmZkFQJqZmZmZmQVAAAAAAAAACEAzMzMzMzMLQM3MzMzMzAhAZmZmZmZmAkAAAAAAAAAIQAAAAAAAAARAzczMzMzMBEAAAAAAAAAIQM3MzMzMzARAZmZmZmZmAkCamZmZmZkFQAAAAAAAAAhAMzMzMzMzB0AzMzMzMzMHQAAAAAAAAARAZmZmZmZmBkBmZmZmZmYKQJqZmZmZmQVAAAAAAAAACEAzMzMzMzMHQAAAAAAAAAhAAAAAAAAACEAAAAAAAAAEQDMzMzMzMwdAAAAAAAAABEDNzMzMzMwMQJqZmZmZmQlAmpmZmZmZBUAAAAAAAAAIQAAAAAAAAARAZmZmZmZmBkCamZmZmZkJQAAAAAAAAAhAZmZmZmZmDkDNzMzMzMwEQJqZmZmZmQFAmpmZmZmZCUBmZmZmZmYGQGZmZmZmZgZAmpmZmZmZBUBmZmZmZmYKQJqZmZmZmQlAZmZmZmZmBkAAAAAAAAAIQGZmZmZmZgZAAAAAAAAACEBmZmZmZmYGQGZmZmZmZg5AZmZmZmZmBkBmZmZmZmYGQM3MzMzMzARAAAAAAAAACEAzMzMzMzMLQM3MzMzMzAhAAAAAAAAACEDNzMzMzMwIQM3MzMzMzAhAzczMzMzMCECamZmZmZkFQJqZmZmZmQlAZmZmZmZmCkAAAAAAAAAIQAAAAAAAAARAAAAAAAAACEAzMzMzMzMLQAAAAAAAAAhA",
        "encoding": "base64",
        "path": [
         "_data",
         0,
         "x",
         "buffer"
        ]
       },
       {
        "data": "ZmZmZmZmFECamZmZmZkTQM3MzMzMzBJAZmZmZmZmEkAAAAAAAAAUQJqZmZmZmRVAZmZmZmZmEkAAAAAAAAAUQJqZmZmZmRFAmpmZmZmZE0CamZmZmZkVQDMzMzMzMxNAMzMzMzMzE0AzMzMzMzMRQDMzMzMzMxdAzczMzMzMFkCamZmZmZkVQGZmZmZmZhRAzczMzMzMFkBmZmZmZmYUQJqZmZmZmRVAZmZmZmZmFEBmZmZmZmYSQGZmZmZmZhRAMzMzMzMzE0AAAAAAAAAUQAAAAAAAABRAzczMzMzMFEDNzMzMzMwUQM3MzMzMzBJAMzMzMzMzE0CamZmZmZkVQM3MzMzMzBRAAAAAAAAAFkCamZmZmZkTQAAAAAAAABRAAAAAAAAAFkCamZmZmZkTQJqZmZmZmRFAZmZmZmZmFEAAAAAAAAAUQAAAAAAAABJAmpmZmZmZEUAAAAAAAAAUQGZmZmZmZhRAMzMzMzMzE0BmZmZmZmYUQGZmZmZmZhJAMzMzMzMzFUAAAAAAAAAUQAAAAAAAABxAmpmZmZmZGUCamZmZmZkbQAAAAAAAABZAAAAAAAAAGkDNzMzMzMwWQDMzMzMzMxlAmpmZmZmZE0BmZmZmZmYaQM3MzMzMzBRAAAAAAAAAFECamZmZmZkXQAAAAAAAABhAZmZmZmZmGEBmZmZmZmYWQM3MzMzMzBpAZmZmZmZmFkAzMzMzMzMXQM3MzMzMzBhAZmZmZmZmFkCamZmZmZkXQGZmZmZmZhhAMzMzMzMzGUBmZmZmZmYYQJqZmZmZmRlAZmZmZmZmGkAzMzMzMzMbQM3MzMzMzBpAAAAAAAAAGEDNzMzMzMwWQAAAAAAAABZAAAAAAAAAFkAzMzMzMzMXQAAAAAAAABhAmpmZmZmZFUAAAAAAAAAYQM3MzMzMzBpAMzMzMzMzGUBmZmZmZmYWQAAAAAAAABZAAAAAAAAAFkBmZmZmZmYYQDMzMzMzMxdAAAAAAAAAFEBmZmZmZmYWQM3MzMzMzBZAzczMzMzMFkDNzMzMzMwYQGZmZmZmZhRAzczMzMzMFkAzMzMzMzMZQDMzMzMzMxdAZmZmZmZmHEAzMzMzMzMZQAAAAAAAABpAZmZmZmZmHkCamZmZmZkTQDMzMzMzMx1AzczMzMzMGkDNzMzMzMwcQAAAAAAAABpAmpmZmZmZGUAzMzMzMzMbQM3MzMzMzBZAMzMzMzMzF0CamZmZmZkZQAAAAAAAABpAzczMzMzMHkDNzMzMzMweQAAAAAAAABhAmpmZmZmZG0BmZmZmZmYWQM3MzMzMzB5AMzMzMzMzGUDNzMzMzMwaQM3MzMzMzBxAzczMzMzMGEBmZmZmZmYYQJqZmZmZmRlAzczMzMzMHECamZmZmZkdQJqZmZmZmR9AmpmZmZmZGUAzMzMzMzMZQGZmZmZmZhhAzczMzMzMHkAzMzMzMzMZQJqZmZmZmRlAAAAAAAAAGECamZmZmZkbQM3MzMzMzBpAmpmZmZmZG0AzMzMzMzMXQDMzMzMzMxtAzczMzMzMGkDNzMzMzMwaQDMzMzMzMxlAAAAAAAAAGkDNzMzMzMwYQJqZmZmZmRdA",
        "encoding": "base64",
        "path": [
         "_data",
         0,
         "y",
         "buffer"
        ]
       }
      ],
      "model_module": "jupyterlab-plotly",
      "model_module_version": "^5.23.0",
      "model_name": "FigureModel",
      "state": {
       "_config": {
        "plotlyServerURL": "https://plot.ly"
       },
       "_data": [
        {
         "mode": "markers",
         "type": "scatter",
         "uid": "ff952561-f243-4b72-87f5-c824d45566fb",
         "x": {
          "buffer": {},
          "dtype": "float64",
          "shape": [
           150
          ]
         },
         "y": {
          "buffer": {},
          "dtype": "float64",
          "shape": [
           150
          ]
         }
        }
       ],
       "_dom_classes": [],
       "_js2py_layoutDelta": {},
       "_js2py_pointsCallback": {},
       "_js2py_relayout": {},
       "_js2py_restyle": {},
       "_js2py_traceDeltas": {},
       "_js2py_update": {},
       "_last_layout_edit_id": 6,
       "_last_trace_edit_id": 5,
       "_layout": {},
       "_model_module": "jupyterlab-plotly",
       "_model_module_version": "^5.23.0",
       "_model_name": "FigureModel",
       "_py2js_addTraces": {},
       "_py2js_animate": {},
       "_py2js_deleteTraces": {},
       "_py2js_moveTraces": {},
       "_py2js_relayout": null,
       "_py2js_removeLayoutProps": {},
       "_py2js_removeTraceProps": {},
       "_py2js_restyle": null,
       "_py2js_update": null,
       "_view_count": 0,
       "_view_module": "jupyterlab-plotly",
       "_view_module_version": "^5.23.0",
       "_view_name": "FigureView",
       "tabbable": null,
       "tooltip": null
      }
     },
     "646c94008bd441b5ae5d120503e2bff0": {
      "model_module": "@jupyter-widgets/base",
      "model_module_version": "2.0.0",
      "model_name": "LayoutModel",
      "state": {
       "_model_module": "@jupyter-widgets/base",
       "_model_module_version": "2.0.0",
       "_model_name": "LayoutModel",
       "_view_count": null,
       "_view_module": "@jupyter-widgets/base",
       "_view_module_version": "2.0.0",
       "_view_name": "LayoutView",
       "align_content": null,
       "align_items": null,
       "align_self": null,
       "border_bottom": null,
       "border_left": null,
       "border_right": null,
       "border_top": null,
       "bottom": null,
       "display": null,
       "flex": null,
       "flex_flow": null,
       "grid_area": null,
       "grid_auto_columns": null,
       "grid_auto_flow": null,
       "grid_auto_rows": null,
       "grid_column": null,
       "grid_gap": null,
       "grid_row": null,
       "grid_template_areas": null,
       "grid_template_columns": null,
       "grid_template_rows": null,
       "height": null,
       "justify_content": null,
       "justify_items": null,
       "left": null,
       "margin": null,
       "max_height": null,
       "max_width": null,
       "min_height": null,
       "min_width": null,
       "object_fit": null,
       "object_position": null,
       "order": null,
       "overflow": null,
       "padding": null,
       "right": null,
       "top": null,
       "visibility": null,
       "width": null
      }
     },
     "ba2601e1f3d64fbcbd908a761106e96b": {
      "model_module": "@jupyter-widgets/base",
      "model_module_version": "2.0.0",
      "model_name": "LayoutModel",
      "state": {
       "_model_module": "@jupyter-widgets/base",
       "_model_module_version": "2.0.0",
       "_model_name": "LayoutModel",
       "_view_count": null,
       "_view_module": "@jupyter-widgets/base",
       "_view_module_version": "2.0.0",
       "_view_name": "LayoutView",
       "align_content": null,
       "align_items": null,
       "align_self": null,
       "border_bottom": null,
       "border_left": null,
       "border_right": null,
       "border_top": null,
       "bottom": null,
       "display": null,
       "flex": null,
       "flex_flow": null,
       "grid_area": null,
       "grid_auto_columns": null,
       "grid_auto_flow": null,
       "grid_auto_rows": null,
       "grid_column": null,
       "grid_gap": null,
       "grid_row": null,
       "grid_template_areas": null,
       "grid_template_columns": null,
       "grid_template_rows": null,
       "height": null,
       "justify_content": null,
       "justify_items": null,
       "left": null,
       "margin": null,
       "max_height": null,
       "max_width": null,
       "min_height": null,
       "min_width": null,
       "object_fit": null,
       "object_position": null,
       "order": null,
       "overflow": null,
       "padding": null,
       "right": null,
       "top": null,
       "visibility": null,
       "width": null
      }
     },
     "c68c7e91d7f24612aafa1d88b6441331": {
      "model_module": "@jupyter-widgets/controls",
      "model_module_version": "2.0.0",
      "model_name": "VBoxModel",
      "state": {
       "_dom_classes": [
        "widget-interact"
       ],
       "_model_module": "@jupyter-widgets/controls",
       "_model_module_version": "2.0.0",
       "_model_name": "VBoxModel",
       "_view_count": null,
       "_view_module": "@jupyter-widgets/controls",
       "_view_module_version": "2.0.0",
       "_view_name": "VBoxView",
       "box_style": "",
       "children": [
        "IPY_MODEL_d058d3bc0a1f44bb9b949ef3acdf5774",
        "IPY_MODEL_d9c46edb74ec429ca721c03df44de609"
       ],
       "layout": "IPY_MODEL_278a54d2bbfd459f9ae4f44987e515e6",
       "tabbable": null,
       "tooltip": null
      }
     },
     "d058d3bc0a1f44bb9b949ef3acdf5774": {
      "model_module": "@jupyter-widgets/controls",
      "model_module_version": "2.0.0",
      "model_name": "IntSliderModel",
      "state": {
       "_dom_classes": [],
       "_model_module": "@jupyter-widgets/controls",
       "_model_module_version": "2.0.0",
       "_model_name": "IntSliderModel",
       "_view_count": null,
       "_view_module": "@jupyter-widgets/controls",
       "_view_module_version": "2.0.0",
       "_view_name": "IntSliderView",
       "behavior": "drag-tap",
       "continuous_update": true,
       "description": "n",
       "description_allow_html": false,
       "disabled": false,
       "layout": "IPY_MODEL_646c94008bd441b5ae5d120503e2bff0",
       "max": 100,
       "min": 20,
       "orientation": "horizontal",
       "readout": true,
       "readout_format": "d",
       "step": 1,
       "style": "IPY_MODEL_f9bd6e4e485c4e32875f54db37e228e3",
       "tabbable": null,
       "tooltip": null,
       "value": 20
      }
     },
     "d9c46edb74ec429ca721c03df44de609": {
      "model_module": "@jupyter-widgets/output",
      "model_module_version": "1.0.0",
      "model_name": "OutputModel",
      "state": {
       "_dom_classes": [],
       "_model_module": "@jupyter-widgets/output",
       "_model_module_version": "1.0.0",
       "_model_name": "OutputModel",
       "_view_count": null,
       "_view_module": "@jupyter-widgets/output",
       "_view_module_version": "1.0.0",
       "_view_name": "OutputView",
       "layout": "IPY_MODEL_ba2601e1f3d64fbcbd908a761106e96b",
       "msg_id": "",
       "outputs": [
        {
         "data": {
          "image/png": "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",
          "text/plain": "<Figure size 1000x400 with 1 Axes>"
         },
         "metadata": {},
         "output_type": "display_data"
        }
       ],
       "tabbable": null,
       "tooltip": null
      }
     },
     "f9bd6e4e485c4e32875f54db37e228e3": {
      "model_module": "@jupyter-widgets/controls",
      "model_module_version": "2.0.0",
      "model_name": "SliderStyleModel",
      "state": {
       "_model_module": "@jupyter-widgets/controls",
       "_model_module_version": "2.0.0",
       "_model_name": "SliderStyleModel",
       "_view_count": null,
       "_view_module": "@jupyter-widgets/base",
       "_view_module_version": "2.0.0",
       "_view_name": "StyleView",
       "description_width": "",
       "handle_color": null
      }
     }
    },
    "version_major": 2,
    "version_minor": 0
   }
  }
 },
 "nbformat": 4,
 "nbformat_minor": 4
}
