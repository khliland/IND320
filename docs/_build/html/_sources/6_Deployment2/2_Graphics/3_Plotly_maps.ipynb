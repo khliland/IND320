{
 "cells": [
  {
   "cell_type": "markdown",
   "metadata": {
    "slideshow": {
     "slide_type": "slide"
    },
    "tags": []
   },
   "source": [
    "# Plotly maps\n",
    "- Various map types and overlays are available.\n",
    "- Open Street Map is open for use without a token.\n",
    "- Overlays include scatter, lines, densities, etc.\n",
    "- Choropleths (coloured map sections) can be used as overlays or as separate plots when a GeoJSON formated dictionary of map polygons are available."
   ]
  },
  {
   "cell_type": "code",
   "execution_count": null,
   "metadata": {
    "slideshow": {
     "slide_type": "fragment"
    },
    "tags": []
   },
   "outputs": [],
   "source": [
    "# The following renders plotly graphs in Jupyter Notebook, Jupyter Lab and VS Code formats\n",
    "import plotly.io as pio\n",
    "pio.renderers.default = \"notebook+plotly_mimetype\""
   ]
  },
  {
   "cell_type": "markdown",
   "metadata": {
    "slideshow": {
     "slide_type": "slide"
    },
    "tags": []
   },
   "source": [
    "## Map\n",
    "- Various maps with user defined overlays are available, e.g., _scatter\\_map_.\n",
    "- From Plotly version 5.24, Mapbox-es are deprecated, e.g., _scatter\\_mapbox_.\n",
    "    - Writer has, as of 16. November 2024, not made the switch yet.\n",
    "    - In most cases, switching between map and mapbox does not require other code changes."
   ]
  },
  {
   "cell_type": "code",
   "execution_count": null,
   "metadata": {
    "slideshow": {
     "slide_type": "fragment"
    },
    "tags": []
   },
   "outputs": [],
   "source": [
    "import plotly.express as px\n",
    "import pandas as pd\n",
    "\n",
    "us_cities = pd.read_csv(\n",
    "    \"https://raw.githubusercontent.com/plotly/datasets/master/us-cities-top-1k.csv\"\n",
    ")\n",
    "\n",
    "fig = px.scatter_mapbox(\n",
    "    us_cities,\n",
    "    lat=\"lat\",\n",
    "    lon=\"lon\",\n",
    "    hover_name=\"City\",\n",
    "    hover_data=[\"State\", \"Population\"],\n",
    "    color_discrete_sequence=[\"fuchsia\"],\n",
    "    zoom=3,\n",
    "    height=300,\n",
    "    width=600,\n",
    ")\n",
    "fig.update_layout(mapbox_style=\"open-street-map\")\n",
    "fig.update_layout(margin={\"r\": 0, \"t\": 0, \"l\": 0, \"b\": 0})\n",
    "fig.update_layout(mapbox_bounds={\"west\": -180, \"east\": -50, \"south\": 20, \"north\": 90})\n",
    "fig"
   ]
  },
  {
   "cell_type": "markdown",
   "metadata": {
    "slideshow": {
     "slide_type": "slide"
    },
    "tags": []
   },
   "source": [
    "### A local example from Ås"
   ]
  },
  {
   "cell_type": "code",
   "execution_count": null,
   "metadata": {
    "slideshow": {
     "slide_type": "fragment"
    },
    "tags": []
   },
   "outputs": [],
   "source": [
    "import pandas as pd\n",
    "\n",
    "# Local restaurants and cafes\n",
    "restaurants = pd.read_csv('../../data/restaurants.csv')\n",
    "restaurants"
   ]
  },
  {
   "cell_type": "code",
   "execution_count": null,
   "metadata": {
    "slideshow": {
     "slide_type": "slide"
    },
    "tags": []
   },
   "outputs": [],
   "source": [
    "fig_restaurants = px.scatter_mapbox(\n",
    "    restaurants,\n",
    "    lat=\"lat\",\n",
    "    lon=\"lon\",\n",
    "    hover_name=\"name\",\n",
    "    hover_data=[\"type\",\"lat\",\"lon\"],\n",
    "    color_discrete_sequence=[\"fuchsia\"],\n",
    "    zoom=14,\n",
    "    height=600,\n",
    "    width=700,\n",
    ")\n",
    "fig_restaurants.update_layout(mapbox_style=\"open-street-map\")\n",
    "fig_restaurants.update_layout(margin={\"r\": 0, \"t\": 0, \"l\": 0, \"b\": 0})\n",
    "#fig_restaurants.update_traces(cluster=dict(enabled=True)) # Group restaurants when zooming out\n",
    "fig_restaurants"
   ]
  },
  {
   "cell_type": "code",
   "execution_count": null,
   "metadata": {
    "slideshow": {
     "slide_type": "slide"
    },
    "tags": []
   },
   "outputs": [],
   "source": [
    "print(fig_restaurants)"
   ]
  },
  {
   "cell_type": "markdown",
   "metadata": {
    "slideshow": {
     "slide_type": "slide"
    },
    "tags": []
   },
   "source": [
    "### Streamsync integration\n",
    "- Streamsync has handlers that easily connect interaction with reactive Python code.  \n",
    "\n",
    "<img src=\"https://github.com/khliland/IND320/blob/main/D2Dbook/images/streamsync_selection.png?raw=TRUE\" width=\"600px\">  "
   ]
  },
  {
   "cell_type": "markdown",
   "metadata": {
    "slideshow": {
     "slide_type": "slide"
    },
    "tags": []
   },
   "source": [
    "## Choropleths\n",
    "- A pure choropleth can be plotted using a GeoJSON file, e.g., from https://norgeskart.no/json/norge/.\n",
    "- In addition a DataFrame containing the map region properties to use for colouring and hover information is needed."
   ]
  },
  {
   "cell_type": "code",
   "execution_count": null,
   "metadata": {
    "slideshow": {
     "slide_type": "fragment"
    },
    "tags": []
   },
   "outputs": [],
   "source": [
    "# Choropleth map of US counties with unemployment rate\n",
    "from urllib.request import urlopen\n",
    "import json\n",
    "with urlopen('https://raw.githubusercontent.com/plotly/datasets/master/geojson-counties-fips.json') as response:\n",
    "    counties = json.load(response)\n",
    "\n",
    "import pandas as pd\n",
    "df = pd.read_csv(\"https://raw.githubusercontent.com/plotly/datasets/master/fips-unemp-16.csv\",\n",
    "                   dtype={\"fips\": str})\n",
    "\n",
    "import plotly.express as px\n",
    "\n",
    "fig_chl = px.choropleth(df, geojson=counties, locations='fips', color='unemp',\n",
    "                           color_continuous_scale=\"Viridis\",\n",
    "                           range_color=(0, 12),\n",
    "                           scope=\"usa\",\n",
    "                           labels={'unemp':'unemployment rate'}\n",
    "                          )\n",
    "fig_chl.update_layout(margin={\"r\":0,\"t\":0,\"l\":0,\"b\":0})\n",
    "fig_chl"
   ]
  },
  {
   "cell_type": "code",
   "execution_count": null,
   "metadata": {
    "tags": []
   },
   "outputs": [],
   "source": [
    "#counties"
   ]
  },
  {
   "cell_type": "code",
   "execution_count": null,
   "metadata": {
    "slideshow": {
     "slide_type": "slide"
    },
    "tags": []
   },
   "outputs": [],
   "source": [
    "# Gapminder dataset as a map\n",
    "import plotly.express as px\n",
    "df = px.data.gapminder()\n",
    "fig_chl2 = px.choropleth(df, locations=\"iso_alpha\", color=\"lifeExp\", hover_name=\"country\", animation_frame=\"year\", range_color=[20,80])\n",
    "fig_chl2"
   ]
  },
  {
   "cell_type": "markdown",
   "metadata": {
    "slideshow": {
     "slide_type": "slide"
    },
    "tags": []
   },
   "source": [
    "```{seealso} \n",
    ":class: tip\n",
    "\n",
    "## Resources\n",
    "- [Plotly scatter map](https://plotly.com/python/tile-scatter-maps/)\n",
    "- [Plotly scatter mapbox](https://plotly.com/python/scattermapbox/)\n",
    "- [Plotly choropleths](https://plotly.com/python/choropleth-maps/)\n",
    "- [Streamsync demos](https://github.com/jreyesr/streamsync-demos)\n",
    "```"
   ]
  },
  {
   "cell_type": "code",
   "execution_count": null,
   "metadata": {
    "tags": [
     "hide-cell"
    ]
   },
   "outputs": [],
   "source": [
    "# Dummy cell to ensure Plotly graphics are shown\n",
    "import plotly.graph_objects as go\n",
    "f = go.FigureWidget([go.Scatter(x=[1,1], y=[1,1], mode='markers')])"
   ]
  }
 ],
 "metadata": {
  "kernelspec": {
   "display_name": "IND320_2024",
   "language": "python",
   "name": "python3"
  },
  "language_info": {
   "codemirror_mode": {
    "name": "ipython",
    "version": 3
   },
   "file_extension": ".py",
   "mimetype": "text/x-python",
   "name": "python",
   "nbconvert_exporter": "python",
   "pygments_lexer": "ipython3",
   "version": "3.12.4"
  }
 },
 "nbformat": 4,
 "nbformat_minor": 4
}
