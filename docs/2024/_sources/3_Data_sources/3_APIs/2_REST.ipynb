{
 "cells": [
  {
   "cell_type": "markdown",
   "metadata": {
    "slideshow": {
     "slide_type": "slide"
    }
   },
   "source": [
    "# REST API\n",
    "\n",
    "- REST stands for Representational State Transfer. \n",
    "- Architectural style for designing web services. \n",
    "- REST services are stateless, which means that they do not maintain any state between requests. This makes them scalable and reliable.\n",
    "- For us they are mainly interfaces for information retrieval."
   ]
  },
  {
   "cell_type": "markdown",
   "metadata": {
    "slideshow": {
     "slide_type": "slide"
    }
   },
   "source": [
    "## Accessing REST\n",
    "- REST services are based on the HTTP protocol, and they use a set of well-defined verbs to manipulate resources.\n",
    "- Some are open and free, some need an API key (free or subscription)\n",
    "  \n",
    "- The four main verbs in REST are:\n",
    "    - GET: Retrieve a resource.\n",
    "    - POST: Create a resource.\n",
    "    - PUT: Update a resource.\n",
    "    - DELETE: Delete a resource.\n"
   ]
  },
  {
   "cell_type": "markdown",
   "metadata": {
    "slideshow": {
     "slide_type": "slide"
    }
   },
   "source": [
    "### Retrieving data (GET)\n",
    "- A simple example without an API key ([Strømpris API](https://www.hvakosterstrommen.no/strompris-api)):"
   ]
  },
  {
   "cell_type": "code",
   "execution_count": 2,
   "metadata": {
    "ExecuteTime": {
     "end_time": "2024-08-17T10:18:34.645950Z",
     "start_time": "2024-08-17T10:18:34.502655Z"
    },
    "slideshow": {
     "slide_type": "fragment"
    },
    "tags": []
   },
   "outputs": [
    {
     "name": "stdout",
     "output_type": "stream",
     "text": [
      "[{'NOK_per_kWh': 0.13359, 'EUR_per_kWh': 0.01134, 'EXR': 11.78, 'time_start': '2024-09-18T00:00:00+02:00', 'time_end': '2024-09-18T01:00:00+02:00'}, {'NOK_per_kWh': 0.11827, 'EUR_per_kWh': 0.01004, 'EXR': 11.78, 'time_start': '2024-09-18T01:00:00+02:00', 'time_end': '2024-09-18T02:00:00+02:00'}, {'NOK_per_kWh': 0.09448, 'EUR_per_kWh': 0.00802, 'EXR': 11.78, 'time_start': '2024-09-18T02:00:00+02:00', 'time_end': '2024-09-18T03:00:00+02:00'}, {'NOK_per_kWh': 0.08281, 'EUR_per_kWh': 0.00703, 'EXR': 11.78, 'time_start': '2024-09-18T03:00:00+02:00', 'time_end': '2024-09-18T04:00:00+02:00'}, {'NOK_per_kWh': 0.08293, 'EUR_per_kWh': 0.00704, 'EXR': 11.78, 'time_start': '2024-09-18T04:00:00+02:00', 'time_end': '2024-09-18T05:00:00+02:00'}, {'NOK_per_kWh': 0.12404, 'EUR_per_kWh': 0.01053, 'EXR': 11.78, 'time_start': '2024-09-18T05:00:00+02:00', 'time_end': '2024-09-18T06:00:00+02:00'}, {'NOK_per_kWh': 0.21098, 'EUR_per_kWh': 0.01791, 'EXR': 11.78, 'time_start': '2024-09-18T06:00:00+02:00', 'time_end': '2024-09-18T07:00:00+02:00'}, {'NOK_per_kWh': 0.23548, 'EUR_per_kWh': 0.01999, 'EXR': 11.78, 'time_start': '2024-09-18T07:00:00+02:00', 'time_end': '2024-09-18T08:00:00+02:00'}, {'NOK_per_kWh': 0.23372, 'EUR_per_kWh': 0.01984, 'EXR': 11.78, 'time_start': '2024-09-18T08:00:00+02:00', 'time_end': '2024-09-18T09:00:00+02:00'}, {'NOK_per_kWh': 0.23124, 'EUR_per_kWh': 0.01963, 'EXR': 11.78, 'time_start': '2024-09-18T09:00:00+02:00', 'time_end': '2024-09-18T10:00:00+02:00'}, {'NOK_per_kWh': 0.23266, 'EUR_per_kWh': 0.01975, 'EXR': 11.78, 'time_start': '2024-09-18T10:00:00+02:00', 'time_end': '2024-09-18T11:00:00+02:00'}, {'NOK_per_kWh': 0.23548, 'EUR_per_kWh': 0.01999, 'EXR': 11.78, 'time_start': '2024-09-18T11:00:00+02:00', 'time_end': '2024-09-18T12:00:00+02:00'}, {'NOK_per_kWh': 0.15302, 'EUR_per_kWh': 0.01299, 'EXR': 11.78, 'time_start': '2024-09-18T12:00:00+02:00', 'time_end': '2024-09-18T13:00:00+02:00'}, {'NOK_per_kWh': 0.1416, 'EUR_per_kWh': 0.01202, 'EXR': 11.78, 'time_start': '2024-09-18T13:00:00+02:00', 'time_end': '2024-09-18T14:00:00+02:00'}, {'NOK_per_kWh': 0.14937, 'EUR_per_kWh': 0.01268, 'EXR': 11.78, 'time_start': '2024-09-18T14:00:00+02:00', 'time_end': '2024-09-18T15:00:00+02:00'}, {'NOK_per_kWh': 0.17517, 'EUR_per_kWh': 0.01487, 'EXR': 11.78, 'time_start': '2024-09-18T15:00:00+02:00', 'time_end': '2024-09-18T16:00:00+02:00'}, {'NOK_per_kWh': 0.23053, 'EUR_per_kWh': 0.01957, 'EXR': 11.78, 'time_start': '2024-09-18T16:00:00+02:00', 'time_end': '2024-09-18T17:00:00+02:00'}, {'NOK_per_kWh': 0.2356, 'EUR_per_kWh': 0.02, 'EXR': 11.78, 'time_start': '2024-09-18T17:00:00+02:00', 'time_end': '2024-09-18T18:00:00+02:00'}, {'NOK_per_kWh': 0.24102, 'EUR_per_kWh': 0.02046, 'EXR': 11.78, 'time_start': '2024-09-18T18:00:00+02:00', 'time_end': '2024-09-18T19:00:00+02:00'}, {'NOK_per_kWh': 0.23548, 'EUR_per_kWh': 0.01999, 'EXR': 11.78, 'time_start': '2024-09-18T19:00:00+02:00', 'time_end': '2024-09-18T20:00:00+02:00'}, {'NOK_per_kWh': 0.23159, 'EUR_per_kWh': 0.01966, 'EXR': 11.78, 'time_start': '2024-09-18T20:00:00+02:00', 'time_end': '2024-09-18T21:00:00+02:00'}, {'NOK_per_kWh': 0.22712, 'EUR_per_kWh': 0.01928, 'EXR': 11.78, 'time_start': '2024-09-18T21:00:00+02:00', 'time_end': '2024-09-18T22:00:00+02:00'}, {'NOK_per_kWh': 0.21817, 'EUR_per_kWh': 0.01852, 'EXR': 11.78, 'time_start': '2024-09-18T22:00:00+02:00', 'time_end': '2024-09-18T23:00:00+02:00'}, {'NOK_per_kWh': 0.17694, 'EUR_per_kWh': 0.01502, 'EXR': 11.78, 'time_start': '2024-09-18T23:00:00+02:00', 'time_end': '2024-09-19T00:00:00+02:00'}]\n"
     ]
    }
   ],
   "source": [
    "import requests\n",
    "# Power prices in the NO5 zone on a particular date\n",
    "url = \"https://www.hvakosterstrommen.no/api/v1/prices/2024/09-18_NO5.json\"\n",
    "response = requests.get(url)\n",
    "print(response.json())"
   ]
  },
  {
   "cell_type": "code",
   "execution_count": 3,
   "metadata": {
    "ExecuteTime": {
     "end_time": "2024-08-17T10:18:34.649641Z",
     "start_time": "2024-08-17T10:18:34.646905Z"
    },
    "slideshow": {
     "slide_type": "slide"
    },
    "tags": []
   },
   "outputs": [],
   "source": [
    "# Write JSON to file for viewing\n",
    "import json\n",
    "with open('downloads/power_price.json', 'w') as f:\n",
    "    json.dump(response.json(), f, indent=4)"
   ]
  },
  {
   "cell_type": "markdown",
   "metadata": {
    "slideshow": {
     "slide_type": "slide"
    }
   },
   "source": [
    "### Creating data (POST)\n",
    "- For this example we assume there is an API server running locally.\n",
    "- We rely on the [Flask](https://palletsprojects.com/p/flask/) framework (see flask_API.py) in the current folder.\n",
    "    - Simple POST, GET, \"UPDATE\", DELETE\n",
    "- Running a Flask instance from the terminal can be done similar to this:  \n",
    "```\n",
    "conda activate tf_M1\n",
    "python /Users/kristian/Documents/GitHub/IND320/D2Dbook/3_Data_sources/3_APIs/flask_API.py\n",
    "```"
   ]
  },
  {
   "cell_type": "code",
   "execution_count": 3,
   "metadata": {
    "ExecuteTime": {
     "end_time": "2024-08-17T10:18:34.656743Z",
     "start_time": "2024-08-17T10:18:34.650282Z"
    },
    "slideshow": {
     "slide_type": "slide"
    },
    "tags": []
   },
   "outputs": [
    {
     "name": "stdout",
     "output_type": "stream",
     "text": [
      "{'key': 'value'}\n"
     ]
    }
   ],
   "source": [
    "# POST data (stored locally in a dictionary)\n",
    "id = 'test'\n",
    "data = {'key': 'value'}\n",
    "response = requests.post('http://localhost:8000/api/post/{}'.format(id), json=data)\n",
    "print(response.json())"
   ]
  },
  {
   "cell_type": "code",
   "execution_count": 6,
   "metadata": {
    "ExecuteTime": {
     "end_time": "2024-08-17T10:18:34.661271Z",
     "start_time": "2024-08-17T10:18:34.657832Z"
    },
    "slideshow": {
     "slide_type": "fragment"
    },
    "tags": []
   },
   "outputs": [
    {
     "name": "stdout",
     "output_type": "stream",
     "text": [
      "{'key': 'value'}\n"
     ]
    }
   ],
   "source": [
    "# GET data\n",
    "id = 'test'\n",
    "response = requests.get('http://localhost:8000/api/get/{}'.format(id))\n",
    "print(response.json())\n",
    "# You can also test this in a browser since this is an HTTP based (and we use no passwords here)."
   ]
  },
  {
   "cell_type": "markdown",
   "metadata": {
    "slideshow": {
     "slide_type": "slide"
    }
   },
   "source": [
    "### Change data (UPDATE)\n",
    "- This command can mostly be exchanged with POST.\n",
    "- The Flask framework does not have a separate UPDATE (see implementation in flask_API.py)."
   ]
  },
  {
   "cell_type": "code",
   "execution_count": 7,
   "metadata": {
    "ExecuteTime": {
     "end_time": "2024-08-17T10:18:34.665039Z",
     "start_time": "2024-08-17T10:18:34.661827Z"
    },
    "slideshow": {
     "slide_type": "fragment"
    },
    "tags": []
   },
   "outputs": [
    {
     "name": "stdout",
     "output_type": "stream",
     "text": [
      "{'key': 'new value'}\n"
     ]
    }
   ],
   "source": [
    "# UPDATE data\n",
    "id = 'test'\n",
    "data = {'key': 'new value'}\n",
    "response = requests.post('http://localhost:8000/api/update/{}'.format(id), json=data)\n",
    "print(response.json())"
   ]
  },
  {
   "cell_type": "markdown",
   "metadata": {
    "slideshow": {
     "slide_type": "slide"
    }
   },
   "source": [
    "### Remove data (DELETE)\n",
    "- Let's remove some data and try to read it again."
   ]
  },
  {
   "cell_type": "code",
   "execution_count": 4,
   "metadata": {
    "ExecuteTime": {
     "end_time": "2024-08-17T10:18:34.668889Z",
     "start_time": "2024-08-17T10:18:34.665628Z"
    },
    "slideshow": {
     "slide_type": "fragment"
    },
    "tags": []
   },
   "outputs": [
    {
     "name": "stdout",
     "output_type": "stream",
     "text": [
      "{'key': 'value'}\n"
     ]
    }
   ],
   "source": [
    "# DELETE data\n",
    "id = 'test'\n",
    "response = requests.delete('http://localhost:8000/api/delete/{}'.format(id))\n",
    "print(response.json())"
   ]
  },
  {
   "cell_type": "code",
   "execution_count": 5,
   "metadata": {
    "ExecuteTime": {
     "end_time": "2024-08-17T10:18:34.937163Z",
     "start_time": "2024-08-17T10:18:34.669441Z"
    },
    "slideshow": {
     "slide_type": "slide"
    },
    "tags": [
     "raises-exception"
    ]
   },
   "outputs": [
    {
     "name": "stdout",
     "output_type": "stream",
     "text": [
      "{}\n"
     ]
    }
   ],
   "source": [
    "# GET data again\n",
    "id = 'test'\n",
    "response = requests.get('http://localhost:8000/api/get/{}'.format(id))\n",
    "print(response.json())"
   ]
  },
  {
   "cell_type": "markdown",
   "metadata": {
    "slideshow": {
     "slide_type": "slide"
    }
   },
   "source": [
    "## Exercise\n",
    "- Look at flask_API.py.\n",
    "- Add “try-except” to GET to return an empty JSON when an ‘id’ does not exist.\n",
    "- Are there other potential sources of error here?"
   ]
  },
  {
   "cell_type": "markdown",
   "metadata": {
    "slideshow": {
     "slide_type": "slide"
    }
   },
   "source": [
    "```{seealso} Resources\n",
    ":class: tip\n",
    "- [Wikipedia: REST](https://en.wikipedia.org/wiki/Representational_state_transfer)\n",
    "- [Flask](https://palletsprojects.com/p/flask/) local HTTP server in Python.\n",
    "- [Strømpris API](https://www.hvakosterstrommen.no/strompris-api) (only in Norwegian)\n",
    "- [YouTube: What is a REST API?](https://youtu.be/lsMQRaeKNDk) (9m:11s)\n",
    "- [YouTube: REST API Crash Course - Introduction + Full Python API Tutorial](https://youtu.be/qbLc5a9jdXo) (52m:49s)\n",
    "```"
   ]
  }
 ],
 "metadata": {
  "celltoolbar": "Slideshow",
  "kernelspec": {
   "display_name": "Python 3 (ipykernel)",
   "language": "python",
   "name": "python3"
  },
  "language_info": {
   "codemirror_mode": {
    "name": "ipython",
    "version": 3
   },
   "file_extension": ".py",
   "mimetype": "text/x-python",
   "name": "python",
   "nbconvert_exporter": "python",
   "pygments_lexer": "ipython3",
   "version": "3.12.4"
  }
 },
 "nbformat": 4,
 "nbformat_minor": 4
}
