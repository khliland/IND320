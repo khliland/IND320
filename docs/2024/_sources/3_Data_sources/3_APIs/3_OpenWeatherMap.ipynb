{
 "cells": [
  {
   "cell_type": "markdown",
   "metadata": {
    "slideshow": {
     "slide_type": "slide"
    }
   },
   "source": [
    "# Demonstration of API using OpenWeatherMap.org\n",
    "This demonstration is heavily inspired by [NeuralNine's video](https://www.youtube.com/watch?v=9P5MY_2i7K8).  \n",
    "You need a free account [from here](https://openweathermap.org/api).  \n",
    "The VS Code extension _JSON viewer_ is recommended for viewing downloaded JSON content.  \n",
    "  - Set your maximum API calls to 1000 per day to make sure you are under the limit for billing. \n",
    "  - To run the examples, download your API key, save it in the right folder (see below) in a file called _api\\_key\\_OpenWeather_, containing only the key (no spaces or \"enters\")."
   ]
  },
  {
   "cell_type": "code",
   "execution_count": 1,
   "metadata": {
    "ExecuteTime": {
     "end_time": "2024-08-17T10:19:06.946392Z",
     "start_time": "2024-08-17T10:19:06.887177Z"
    },
    "slideshow": {
     "slide_type": "fragment"
    },
    "tags": []
   },
   "outputs": [],
   "source": [
    "# Imports\n",
    "import datetime as dt\n",
    "import requests\n",
    "import json"
   ]
  },
  {
   "cell_type": "markdown",
   "metadata": {
    "slideshow": {
     "slide_type": "slide"
    }
   },
   "source": [
    "## Current weather\n",
    "### Common definitions to use for all requests"
   ]
  },
  {
   "cell_type": "code",
   "execution_count": 2,
   "metadata": {
    "ExecuteTime": {
     "end_time": "2024-08-17T10:19:06.950734Z",
     "start_time": "2024-08-17T10:19:06.948129Z"
    },
    "slideshow": {
     "slide_type": "fragment"
    },
    "tags": []
   },
   "outputs": [],
   "source": [
    "BASE_URL = \"http://api.openweathermap.org/data/2.5/weather?\"\n",
    "API_KEY = open('../../../No_sync/api_key_OpenWeather','r').read()\n",
    "CITY = \"Ski\"\n",
    "\n",
    "url = BASE_URL + \"q=\" + CITY + \"&appid=\" + API_KEY"
   ]
  },
  {
   "cell_type": "markdown",
   "metadata": {
    "slideshow": {
     "slide_type": "slide"
    }
   },
   "source": [
    "## Request current weather in chosen city"
   ]
  },
  {
   "cell_type": "code",
   "execution_count": 3,
   "metadata": {
    "ExecuteTime": {
     "end_time": "2024-08-17T10:19:07.346472Z",
     "start_time": "2024-08-17T10:19:06.951363Z"
    },
    "slideshow": {
     "slide_type": "fragment"
    },
    "tags": []
   },
   "outputs": [
    {
     "name": "stdout",
     "output_type": "stream",
     "text": [
      "{'coord': {'lon': 10.8358, 'lat': 59.7195}, 'weather': [{'id': 804, 'main': 'Clouds', 'description': 'overcast clouds', 'icon': '04d'}], 'base': 'stations', 'main': {'temp': 281.84, 'feels_like': 281.84, 'temp_min': 278.66, 'temp_max': 283.2, 'pressure': 1025, 'humidity': 95, 'sea_level': 1025, 'grnd_level': 1008}, 'visibility': 10000, 'wind': {'speed': 1.32, 'deg': 205, 'gust': 3.03}, 'clouds': {'all': 87}, 'dt': 1727685391, 'sys': {'type': 2, 'id': 2006772, 'country': 'NO', 'sunrise': 1727673608, 'sunset': 1727715169}, 'timezone': 7200, 'id': 3139081, 'name': 'Ski', 'cod': 200}\n"
     ]
    }
   ],
   "source": [
    "response = requests.get(url).json()\n",
    "print(response)"
   ]
  },
  {
   "cell_type": "code",
   "execution_count": 4,
   "metadata": {
    "ExecuteTime": {
     "end_time": "2024-08-17T10:19:07.356894Z",
     "start_time": "2024-08-17T10:19:07.353047Z"
    },
    "slideshow": {
     "slide_type": "fragment"
    },
    "tags": []
   },
   "outputs": [],
   "source": [
    "# Write JSON to file for viewing\n",
    "with open('downloads/weather.json', 'w') as f:\n",
    "    json.dump(response, f, indent=4)"
   ]
  },
  {
   "cell_type": "markdown",
   "metadata": {
    "slideshow": {
     "slide_type": "slide"
    }
   },
   "source": [
    "## Conversion functions\n",
    "Changing scales can make results more interpretable"
   ]
  },
  {
   "cell_type": "code",
   "execution_count": 5,
   "metadata": {
    "ExecuteTime": {
     "end_time": "2024-08-17T10:19:07.360029Z",
     "start_time": "2024-08-17T10:19:07.358341Z"
    },
    "slideshow": {
     "slide_type": "fragment"
    },
    "tags": []
   },
   "outputs": [],
   "source": [
    "# Kelvin to Celsius\n",
    "def kelvin_to_celsius(temp):\n",
    "    return temp - 273.15\n",
    "\n",
    "# Meters per second to knots\n",
    "def mps_to_knots(speed):\n",
    "    return speed * 1.943844"
   ]
  },
  {
   "cell_type": "markdown",
   "metadata": {
    "slideshow": {
     "slide_type": "slide"
    }
   },
   "source": [
    "## Print some weather properties"
   ]
  },
  {
   "cell_type": "code",
   "execution_count": 10,
   "metadata": {
    "ExecuteTime": {
     "end_time": "2024-08-17T10:19:07.362209Z",
     "start_time": "2024-08-17T10:19:07.360604Z"
    },
    "slideshow": {
     "slide_type": "fragment"
    },
    "tags": []
   },
   "outputs": [
    {
     "name": "stdout",
     "output_type": "stream",
     "text": [
      "The current temperature in Ski is 8.7 °C\n"
     ]
    }
   ],
   "source": [
    "# Current temperature\n",
    "temp_kelvin = response['main']['temp']\n",
    "temp_celsius = kelvin_to_celsius(temp_kelvin)\n",
    "print(f\"The current temperature in {CITY} is {temp_celsius:.1f} °C\")"
   ]
  },
  {
   "cell_type": "code",
   "execution_count": 8,
   "metadata": {
    "ExecuteTime": {
     "end_time": "2024-08-17T10:19:07.364358Z",
     "start_time": "2024-08-17T10:19:07.362759Z"
    },
    "slideshow": {
     "slide_type": "slide"
    },
    "tags": []
   },
   "outputs": [
    {
     "name": "stdout",
     "output_type": "stream",
     "text": [
      "Sunrise today is at 07:20 and sunset is at 18:52\n"
     ]
    }
   ],
   "source": [
    "# Sunrise and sunset today in local time\n",
    "sunrise = dt.datetime.fromtimestamp(response['sys']['sunrise'])\n",
    "sunset = dt.datetime.fromtimestamp(response['sys']['sunset'])\n",
    "print(f\"Sunrise today is at {sunrise:%H:%M} and sunset is at {sunset:%H:%M}\")"
   ]
  },
  {
   "cell_type": "code",
   "execution_count": 9,
   "metadata": {
    "ExecuteTime": {
     "end_time": "2024-08-17T10:19:07.367002Z",
     "start_time": "2024-08-17T10:19:07.365133Z"
    },
    "slideshow": {
     "slide_type": "fragment"
    },
    "tags": []
   },
   "outputs": [
    {
     "name": "stdout",
     "output_type": "stream",
     "text": [
      "Wind today is from 205° at 2.6 knots\n"
     ]
    }
   ],
   "source": [
    "# Wind direction and speed\n",
    "wind_knots = mps_to_knots(response['wind']['speed'])\n",
    "print(f\"Wind today is from {response['wind']['deg']}° at {round(wind_knots,1)} knots\")"
   ]
  },
  {
   "cell_type": "markdown",
   "metadata": {
    "slideshow": {
     "slide_type": "slide"
    }
   },
   "source": [
    "## Forecasted weather\n",
    "### Common definitions to use for all requests"
   ]
  },
  {
   "cell_type": "code",
   "execution_count": 33,
   "metadata": {
    "ExecuteTime": {
     "end_time": "2024-08-17T10:19:07.369150Z",
     "start_time": "2024-08-17T10:19:07.367438Z"
    },
    "slideshow": {
     "slide_type": "fragment"
    },
    "tags": []
   },
   "outputs": [],
   "source": [
    "BASE_URL = \"https://api.openweathermap.org/data/2.5/forecast?\"\n",
    "CITY = \"Mo i Rana\"\n",
    "\n",
    "urlF = BASE_URL + \"q=\" + CITY + \"&appid=\" + API_KEY"
   ]
  },
  {
   "cell_type": "markdown",
   "metadata": {
    "slideshow": {
     "slide_type": "slide"
    }
   },
   "source": [
    "## Request forecasted weather in chosen city"
   ]
  },
  {
   "cell_type": "code",
   "execution_count": 34,
   "metadata": {
    "ExecuteTime": {
     "end_time": "2024-08-17T10:19:07.505916Z",
     "start_time": "2024-08-17T10:19:07.369779Z"
    },
    "slideshow": {
     "slide_type": "fragment"
    },
    "tags": []
   },
   "outputs": [
    {
     "name": "stdout",
     "output_type": "stream",
     "text": [
      "{'cod': '200', 'message': 0, 'cnt': 40, 'list': [{'dt': 1727697600, 'main': {'temp': 277.81, 'feels_like': 277.81, 'temp_min': 276.85, 'temp_max': 277.81, 'pressure': 1020, 'sea_level': 1020, 'grnd_level': 967, 'humidity': 93, 'temp_kf': 0.96}, 'weather': [{'id': 600, 'main': 'Snow', 'description': 'light snow', 'icon': '13d'}], 'clouds': {'all': 83}, 'wind': {'speed': 1.24, 'deg': 179, 'gust': 1.42}, 'visibility': 144, 'pop': 1, 'snow': {'3h': 0.89}, 'sys': {'pod': 'd'}, 'dt_txt': '2024-09-30 12:00:00'}, {'dt': 1727708400, 'main': {'temp': 277.56, 'feels_like': 277.56, 'temp_min': 277.2, 'temp_max': 277.56, 'pressure': 1019, 'sea_level': 1019, 'grnd_level': 966, 'humidity': 97, 'temp_kf': 0.36}, 'weather': [{'id': 501, 'main': 'Rain', 'description': 'moderate rain', 'icon': '10d'}], 'clouds': {'all': 92}, 'wind': {'speed': 1.12, 'deg': 151, 'gust': 1.3}, 'visibility': 138, 'pop': 1, 'rain': {'3h': 3.76}, 'sys': {'pod': 'd'}, 'dt_txt': '2024-09-30 15:00:00'}, {'dt': 1727719200, 'main': {'temp': 278.27, 'feels_like': 276.97, 'temp_min': 278.27, 'temp_max': 278.27, 'pressure': 1016, 'sea_level': 1016, 'grnd_level': 964, 'humidity': 97, 'temp_kf': 0}, 'weather': [{'id': 501, 'main': 'Rain', 'description': 'moderate rain', 'icon': '10n'}], 'clouds': {'all': 100}, 'wind': {'speed': 1.71, 'deg': 183, 'gust': 1.58}, 'visibility': 4997, 'pop': 1, 'rain': {'3h': 3.35}, 'sys': {'pod': 'n'}, 'dt_txt': '2024-09-30 18:00:00'}, {'dt': 1727730000, 'main': {'temp': 278.72, 'feels_like': 276.68, 'temp_min': 278.72, 'temp_max': 278.72, 'pressure': 1014, 'sea_level': 1014, 'grnd_level': 963, 'humidity': 98, 'temp_kf': 0}, 'weather': [{'id': 501, 'main': 'Rain', 'description': 'moderate rain', 'icon': '10n'}], 'clouds': {'all': 100}, 'wind': {'speed': 2.56, 'deg': 183, 'gust': 2.77}, 'visibility': 1710, 'pop': 1, 'rain': {'3h': 3.76}, 'sys': {'pod': 'n'}, 'dt_txt': '2024-09-30 21:00:00'}, {'dt': 1727740800, 'main': {'temp': 276.91, 'feels_like': 273.69, 'temp_min': 276.91, 'temp_max': 276.91, 'pressure': 1016, 'sea_level': 1016, 'grnd_level': 964, 'humidity': 100, 'temp_kf': 0}, 'weather': [{'id': 601, 'main': 'Snow', 'description': 'snow', 'icon': '13n'}], 'clouds': {'all': 100}, 'wind': {'speed': 3.67, 'deg': 223, 'gust': 7.5}, 'visibility': 606, 'pop': 1, 'snow': {'3h': 13.25}, 'sys': {'pod': 'n'}, 'dt_txt': '2024-10-01 00:00:00'}, {'dt': 1727751600, 'main': {'temp': 277.87, 'feels_like': 273.98, 'temp_min': 277.87, 'temp_max': 277.87, 'pressure': 1019, 'sea_level': 1019, 'grnd_level': 967, 'humidity': 93, 'temp_kf': 0}, 'weather': [{'id': 600, 'main': 'Snow', 'description': 'light snow', 'icon': '13n'}], 'clouds': {'all': 100}, 'wind': {'speed': 5.34, 'deg': 238, 'gust': 9.87}, 'visibility': 7410, 'pop': 1, 'snow': {'3h': 0.97}, 'sys': {'pod': 'n'}, 'dt_txt': '2024-10-01 03:00:00'}, {'dt': 1727762400, 'main': {'temp': 277.2, 'feels_like': 274.03, 'temp_min': 277.2, 'temp_max': 277.2, 'pressure': 1021, 'sea_level': 1021, 'grnd_level': 969, 'humidity': 97, 'temp_kf': 0}, 'weather': [{'id': 600, 'main': 'Snow', 'description': 'light snow', 'icon': '13d'}], 'clouds': {'all': 98}, 'wind': {'speed': 3.7, 'deg': 243, 'gust': 8.43}, 'visibility': 5944, 'pop': 1, 'snow': {'3h': 1.13}, 'sys': {'pod': 'd'}, 'dt_txt': '2024-10-01 06:00:00'}, {'dt': 1727773200, 'main': {'temp': 278.35, 'feels_like': 275.32, 'temp_min': 278.35, 'temp_max': 278.35, 'pressure': 1023, 'sea_level': 1023, 'grnd_level': 971, 'humidity': 87, 'temp_kf': 0}, 'weather': [{'id': 500, 'main': 'Rain', 'description': 'light rain', 'icon': '10d'}], 'clouds': {'all': 96}, 'wind': {'speed': 3.89, 'deg': 249, 'gust': 8.43}, 'visibility': 2935, 'pop': 1, 'rain': {'3h': 0.68}, 'sys': {'pod': 'd'}, 'dt_txt': '2024-10-01 09:00:00'}, {'dt': 1727784000, 'main': {'temp': 278.57, 'feels_like': 275.63, 'temp_min': 278.57, 'temp_max': 278.57, 'pressure': 1024, 'sea_level': 1024, 'grnd_level': 971, 'humidity': 83, 'temp_kf': 0}, 'weather': [{'id': 500, 'main': 'Rain', 'description': 'light rain', 'icon': '10d'}], 'clouds': {'all': 91}, 'wind': {'speed': 3.81, 'deg': 261, 'gust': 7.64}, 'visibility': 10000, 'pop': 1, 'rain': {'3h': 0.51}, 'sys': {'pod': 'd'}, 'dt_txt': '2024-10-01 12:00:00'}, {'dt': 1727794800, 'main': {'temp': 277.79, 'feels_like': 276.21, 'temp_min': 277.79, 'temp_max': 277.79, 'pressure': 1024, 'sea_level': 1024, 'grnd_level': 972, 'humidity': 87, 'temp_kf': 0}, 'weather': [{'id': 600, 'main': 'Snow', 'description': 'light snow', 'icon': '13d'}], 'clouds': {'all': 95}, 'wind': {'speed': 1.9, 'deg': 259, 'gust': 2.36}, 'visibility': 10000, 'pop': 0.26, 'snow': {'3h': 0.18}, 'sys': {'pod': 'd'}, 'dt_txt': '2024-10-01 15:00:00'}, {'dt': 1727805600, 'main': {'temp': 275.84, 'feels_like': 274.41, 'temp_min': 275.84, 'temp_max': 275.84, 'pressure': 1025, 'sea_level': 1025, 'grnd_level': 972, 'humidity': 99, 'temp_kf': 0}, 'weather': [{'id': 600, 'main': 'Snow', 'description': 'light snow', 'icon': '13n'}], 'clouds': {'all': 96}, 'wind': {'speed': 1.54, 'deg': 249, 'gust': 1.71}, 'visibility': 369, 'pop': 0.35, 'snow': {'3h': 0.22}, 'sys': {'pod': 'n'}, 'dt_txt': '2024-10-01 18:00:00'}, {'dt': 1727816400, 'main': {'temp': 276.81, 'feels_like': 276.81, 'temp_min': 276.81, 'temp_max': 276.81, 'pressure': 1024, 'sea_level': 1024, 'grnd_level': 971, 'humidity': 98, 'temp_kf': 0}, 'weather': [{'id': 600, 'main': 'Snow', 'description': 'light snow', 'icon': '13n'}], 'clouds': {'all': 100}, 'wind': {'speed': 0.55, 'deg': 202, 'gust': 0.91}, 'pop': 0.55, 'snow': {'3h': 0.23}, 'sys': {'pod': 'n'}, 'dt_txt': '2024-10-01 21:00:00'}, {'dt': 1727827200, 'main': {'temp': 276.67, 'feels_like': 276.67, 'temp_min': 276.67, 'temp_max': 276.67, 'pressure': 1023, 'sea_level': 1023, 'grnd_level': 971, 'humidity': 98, 'temp_kf': 0}, 'weather': [{'id': 600, 'main': 'Snow', 'description': 'light snow', 'icon': '13n'}], 'clouds': {'all': 100}, 'wind': {'speed': 0.7, 'deg': 198, 'gust': 1.08}, 'pop': 0.84, 'snow': {'3h': 0.56}, 'sys': {'pod': 'n'}, 'dt_txt': '2024-10-02 00:00:00'}, {'dt': 1727838000, 'main': {'temp': 276.13, 'feels_like': 276.13, 'temp_min': 276.13, 'temp_max': 276.13, 'pressure': 1023, 'sea_level': 1023, 'grnd_level': 970, 'humidity': 99, 'temp_kf': 0}, 'weather': [{'id': 600, 'main': 'Snow', 'description': 'light snow', 'icon': '13n'}], 'clouds': {'all': 100}, 'wind': {'speed': 0.25, 'deg': 189, 'gust': 0.55}, 'visibility': 631, 'pop': 1, 'snow': {'3h': 1.21}, 'sys': {'pod': 'n'}, 'dt_txt': '2024-10-02 03:00:00'}, {'dt': 1727848800, 'main': {'temp': 276.22, 'feels_like': 276.22, 'temp_min': 276.22, 'temp_max': 276.22, 'pressure': 1023, 'sea_level': 1023, 'grnd_level': 970, 'humidity': 99, 'temp_kf': 0}, 'weather': [{'id': 601, 'main': 'Snow', 'description': 'snow', 'icon': '13d'}], 'clouds': {'all': 100}, 'wind': {'speed': 0.59, 'deg': 110, 'gust': 0.59}, 'visibility': 24, 'pop': 1, 'snow': {'3h': 1.96}, 'sys': {'pod': 'd'}, 'dt_txt': '2024-10-02 06:00:00'}, {'dt': 1727859600, 'main': {'temp': 276.8, 'feels_like': 276.8, 'temp_min': 276.8, 'temp_max': 276.8, 'pressure': 1023, 'sea_level': 1023, 'grnd_level': 970, 'humidity': 99, 'temp_kf': 0}, 'weather': [{'id': 600, 'main': 'Snow', 'description': 'light snow', 'icon': '13d'}], 'clouds': {'all': 100}, 'wind': {'speed': 0.45, 'deg': 62, 'gust': 0.35}, 'pop': 1, 'snow': {'3h': 0.91}, 'sys': {'pod': 'd'}, 'dt_txt': '2024-10-02 09:00:00'}, {'dt': 1727870400, 'main': {'temp': 277.3, 'feels_like': 277.3, 'temp_min': 277.3, 'temp_max': 277.3, 'pressure': 1023, 'sea_level': 1023, 'grnd_level': 970, 'humidity': 99, 'temp_kf': 0}, 'weather': [{'id': 600, 'main': 'Snow', 'description': 'light snow', 'icon': '13d'}], 'clouds': {'all': 100}, 'wind': {'speed': 0.71, 'deg': 286, 'gust': 0.59}, 'visibility': 396, 'pop': 1, 'snow': {'3h': 0.29}, 'sys': {'pod': 'd'}, 'dt_txt': '2024-10-02 12:00:00'}, {'dt': 1727881200, 'main': {'temp': 277.2, 'feels_like': 277.2, 'temp_min': 277.2, 'temp_max': 277.2, 'pressure': 1023, 'sea_level': 1023, 'grnd_level': 971, 'humidity': 99, 'temp_kf': 0}, 'weather': [{'id': 804, 'main': 'Clouds', 'description': 'overcast clouds', 'icon': '04d'}], 'clouds': {'all': 100}, 'wind': {'speed': 0.45, 'deg': 8, 'gust': 0.2}, 'pop': 0, 'sys': {'pod': 'd'}, 'dt_txt': '2024-10-02 15:00:00'}, {'dt': 1727892000, 'main': {'temp': 277.17, 'feels_like': 277.17, 'temp_min': 277.17, 'temp_max': 277.17, 'pressure': 1023, 'sea_level': 1023, 'grnd_level': 971, 'humidity': 99, 'temp_kf': 0}, 'weather': [{'id': 804, 'main': 'Clouds', 'description': 'overcast clouds', 'icon': '04n'}], 'clouds': {'all': 100}, 'wind': {'speed': 1.09, 'deg': 57, 'gust': 0.73}, 'pop': 0, 'sys': {'pod': 'n'}, 'dt_txt': '2024-10-02 18:00:00'}, {'dt': 1727902800, 'main': {'temp': 276.81, 'feels_like': 276.81, 'temp_min': 276.81, 'temp_max': 276.81, 'pressure': 1023, 'sea_level': 1023, 'grnd_level': 971, 'humidity': 95, 'temp_kf': 0}, 'weather': [{'id': 804, 'main': 'Clouds', 'description': 'overcast clouds', 'icon': '04n'}], 'clouds': {'all': 100}, 'wind': {'speed': 0.43, 'deg': 50, 'gust': 0.33}, 'visibility': 10000, 'pop': 0, 'sys': {'pod': 'n'}, 'dt_txt': '2024-10-02 21:00:00'}, {'dt': 1727913600, 'main': {'temp': 276.63, 'feels_like': 276.63, 'temp_min': 276.63, 'temp_max': 276.63, 'pressure': 1023, 'sea_level': 1023, 'grnd_level': 971, 'humidity': 95, 'temp_kf': 0}, 'weather': [{'id': 804, 'main': 'Clouds', 'description': 'overcast clouds', 'icon': '04n'}], 'clouds': {'all': 100}, 'wind': {'speed': 0.35, 'deg': 303, 'gust': 0.34}, 'visibility': 10000, 'pop': 0, 'sys': {'pod': 'n'}, 'dt_txt': '2024-10-03 00:00:00'}, {'dt': 1727924400, 'main': {'temp': 276.79, 'feels_like': 276.79, 'temp_min': 276.79, 'temp_max': 276.79, 'pressure': 1022, 'sea_level': 1022, 'grnd_level': 970, 'humidity': 96, 'temp_kf': 0}, 'weather': [{'id': 804, 'main': 'Clouds', 'description': 'overcast clouds', 'icon': '04n'}], 'clouds': {'all': 99}, 'wind': {'speed': 0.5, 'deg': 114, 'gust': 0.44}, 'pop': 0, 'sys': {'pod': 'n'}, 'dt_txt': '2024-10-03 03:00:00'}, {'dt': 1727935200, 'main': {'temp': 276.8, 'feels_like': 276.8, 'temp_min': 276.8, 'temp_max': 276.8, 'pressure': 1022, 'sea_level': 1022, 'grnd_level': 970, 'humidity': 100, 'temp_kf': 0}, 'weather': [{'id': 600, 'main': 'Snow', 'description': 'light snow', 'icon': '13d'}], 'clouds': {'all': 100}, 'wind': {'speed': 0.33, 'deg': 160, 'gust': 0.56}, 'visibility': 46, 'pop': 0.88, 'snow': {'3h': 0.75}, 'sys': {'pod': 'd'}, 'dt_txt': '2024-10-03 06:00:00'}, {'dt': 1727946000, 'main': {'temp': 277.22, 'feels_like': 277.22, 'temp_min': 277.22, 'temp_max': 277.22, 'pressure': 1022, 'sea_level': 1022, 'grnd_level': 969, 'humidity': 99, 'temp_kf': 0}, 'weather': [{'id': 600, 'main': 'Snow', 'description': 'light snow', 'icon': '13d'}], 'clouds': {'all': 100}, 'wind': {'speed': 0.74, 'deg': 186, 'gust': 1.14}, 'visibility': 234, 'pop': 1, 'snow': {'3h': 0.92}, 'sys': {'pod': 'd'}, 'dt_txt': '2024-10-03 09:00:00'}, {'dt': 1727956800, 'main': {'temp': 277.72, 'feels_like': 277.72, 'temp_min': 277.72, 'temp_max': 277.72, 'pressure': 1021, 'sea_level': 1021, 'grnd_level': 969, 'humidity': 100, 'temp_kf': 0}, 'weather': [{'id': 500, 'main': 'Rain', 'description': 'light rain', 'icon': '10d'}], 'clouds': {'all': 100}, 'wind': {'speed': 0.73, 'deg': 240, 'gust': 1.24}, 'visibility': 132, 'pop': 1, 'rain': {'3h': 1.51}, 'sys': {'pod': 'd'}, 'dt_txt': '2024-10-03 12:00:00'}, {'dt': 1727967600, 'main': {'temp': 278, 'feels_like': 277.1, 'temp_min': 278, 'temp_max': 278, 'pressure': 1020, 'sea_level': 1020, 'grnd_level': 968, 'humidity': 100, 'temp_kf': 0}, 'weather': [{'id': 500, 'main': 'Rain', 'description': 'light rain', 'icon': '10d'}], 'clouds': {'all': 100}, 'wind': {'speed': 1.37, 'deg': 257, 'gust': 1.43}, 'visibility': 314, 'pop': 1, 'rain': {'3h': 1.7}, 'sys': {'pod': 'd'}, 'dt_txt': '2024-10-03 15:00:00'}, {'dt': 1727978400, 'main': {'temp': 278.48, 'feels_like': 278.48, 'temp_min': 278.48, 'temp_max': 278.48, 'pressure': 1019, 'sea_level': 1019, 'grnd_level': 967, 'humidity': 99, 'temp_kf': 0}, 'weather': [{'id': 500, 'main': 'Rain', 'description': 'light rain', 'icon': '10n'}], 'clouds': {'all': 100}, 'wind': {'speed': 1.07, 'deg': 226, 'gust': 1.05}, 'visibility': 757, 'pop': 1, 'rain': {'3h': 2.93}, 'sys': {'pod': 'n'}, 'dt_txt': '2024-10-03 18:00:00'}, {'dt': 1727989200, 'main': {'temp': 278.61, 'feels_like': 277.28, 'temp_min': 278.61, 'temp_max': 278.61, 'pressure': 1018, 'sea_level': 1018, 'grnd_level': 966, 'humidity': 99, 'temp_kf': 0}, 'weather': [{'id': 501, 'main': 'Rain', 'description': 'moderate rain', 'icon': '10n'}], 'clouds': {'all': 100}, 'wind': {'speed': 1.79, 'deg': 291, 'gust': 1.82}, 'visibility': 249, 'pop': 1, 'rain': {'3h': 5.21}, 'sys': {'pod': 'n'}, 'dt_txt': '2024-10-03 21:00:00'}, {'dt': 1728000000, 'main': {'temp': 278.57, 'feels_like': 276.2, 'temp_min': 278.57, 'temp_max': 278.57, 'pressure': 1018, 'sea_level': 1018, 'grnd_level': 966, 'humidity': 99, 'temp_kf': 0}, 'weather': [{'id': 500, 'main': 'Rain', 'description': 'light rain', 'icon': '10n'}], 'clouds': {'all': 100}, 'wind': {'speed': 2.94, 'deg': 259, 'gust': 3.91}, 'visibility': 223, 'pop': 1, 'rain': {'3h': 2.71}, 'sys': {'pod': 'n'}, 'dt_txt': '2024-10-04 00:00:00'}, {'dt': 1728010800, 'main': {'temp': 277.39, 'feels_like': 274.98, 'temp_min': 277.39, 'temp_max': 277.39, 'pressure': 1019, 'sea_level': 1019, 'grnd_level': 967, 'humidity': 99, 'temp_kf': 0}, 'weather': [{'id': 600, 'main': 'Snow', 'description': 'light snow', 'icon': '13n'}], 'clouds': {'all': 100}, 'wind': {'speed': 2.7, 'deg': 268, 'gust': 3.9}, 'visibility': 66, 'pop': 1, 'snow': {'3h': 1.04}, 'sys': {'pod': 'n'}, 'dt_txt': '2024-10-04 03:00:00'}, {'dt': 1728021600, 'main': {'temp': 277.11, 'feels_like': 275.18, 'temp_min': 277.11, 'temp_max': 277.11, 'pressure': 1019, 'sea_level': 1019, 'grnd_level': 967, 'humidity': 93, 'temp_kf': 0}, 'weather': [{'id': 600, 'main': 'Snow', 'description': 'light snow', 'icon': '13d'}], 'clouds': {'all': 100}, 'wind': {'speed': 2.12, 'deg': 289, 'gust': 3.03}, 'visibility': 9834, 'pop': 1, 'snow': {'3h': 0.13}, 'sys': {'pod': 'd'}, 'dt_txt': '2024-10-04 06:00:00'}, {'dt': 1728032400, 'main': {'temp': 277.3, 'feels_like': 275.36, 'temp_min': 277.3, 'temp_max': 277.3, 'pressure': 1020, 'sea_level': 1020, 'grnd_level': 967, 'humidity': 79, 'temp_kf': 0}, 'weather': [{'id': 804, 'main': 'Clouds', 'description': 'overcast clouds', 'icon': '04d'}], 'clouds': {'all': 99}, 'wind': {'speed': 2.16, 'deg': 279, 'gust': 2.91}, 'visibility': 10000, 'pop': 0, 'sys': {'pod': 'd'}, 'dt_txt': '2024-10-04 09:00:00'}, {'dt': 1728043200, 'main': {'temp': 278.38, 'feels_like': 277.33, 'temp_min': 278.38, 'temp_max': 278.38, 'pressure': 1019, 'sea_level': 1019, 'grnd_level': 967, 'humidity': 72, 'temp_kf': 0}, 'weather': [{'id': 804, 'main': 'Clouds', 'description': 'overcast clouds', 'icon': '04d'}], 'clouds': {'all': 99}, 'wind': {'speed': 1.52, 'deg': 275, 'gust': 2.54}, 'visibility': 10000, 'pop': 0, 'sys': {'pod': 'd'}, 'dt_txt': '2024-10-04 12:00:00'}, {'dt': 1728054000, 'main': {'temp': 277.87, 'feels_like': 277.87, 'temp_min': 277.87, 'temp_max': 277.87, 'pressure': 1018, 'sea_level': 1018, 'grnd_level': 966, 'humidity': 78, 'temp_kf': 0}, 'weather': [{'id': 804, 'main': 'Clouds', 'description': 'overcast clouds', 'icon': '04d'}], 'clouds': {'all': 100}, 'wind': {'speed': 0.74, 'deg': 2, 'gust': 0.56}, 'visibility': 10000, 'pop': 0, 'sys': {'pod': 'd'}, 'dt_txt': '2024-10-04 15:00:00'}, {'dt': 1728064800, 'main': {'temp': 276.65, 'feels_like': 276.65, 'temp_min': 276.65, 'temp_max': 276.65, 'pressure': 1017, 'sea_level': 1017, 'grnd_level': 964, 'humidity': 84, 'temp_kf': 0}, 'weather': [{'id': 804, 'main': 'Clouds', 'description': 'overcast clouds', 'icon': '04n'}], 'clouds': {'all': 100}, 'wind': {'speed': 0.74, 'deg': 63, 'gust': 0.82}, 'visibility': 10000, 'pop': 0, 'sys': {'pod': 'n'}, 'dt_txt': '2024-10-04 18:00:00'}, {'dt': 1728075600, 'main': {'temp': 276.04, 'feels_like': 274.21, 'temp_min': 276.04, 'temp_max': 276.04, 'pressure': 1015, 'sea_level': 1015, 'grnd_level': 963, 'humidity': 99, 'temp_kf': 0}, 'weather': [{'id': 600, 'main': 'Snow', 'description': 'light snow', 'icon': '13n'}], 'clouds': {'all': 100}, 'wind': {'speed': 1.87, 'deg': 77, 'gust': 2.04}, 'pop': 1, 'snow': {'3h': 1.45}, 'sys': {'pod': 'n'}, 'dt_txt': '2024-10-04 21:00:00'}, {'dt': 1728086400, 'main': {'temp': 275.72, 'feels_like': 274.14, 'temp_min': 275.72, 'temp_max': 275.72, 'pressure': 1013, 'sea_level': 1013, 'grnd_level': 960, 'humidity': 99, 'temp_kf': 0}, 'weather': [{'id': 601, 'main': 'Snow', 'description': 'snow', 'icon': '13n'}], 'clouds': {'all': 100}, 'wind': {'speed': 1.63, 'deg': 63, 'gust': 1.45}, 'visibility': 206, 'pop': 1, 'snow': {'3h': 4.61}, 'sys': {'pod': 'n'}, 'dt_txt': '2024-10-05 00:00:00'}, {'dt': 1728097200, 'main': {'temp': 275.81, 'feels_like': 274.5, 'temp_min': 275.81, 'temp_max': 275.81, 'pressure': 1009, 'sea_level': 1009, 'grnd_level': 957, 'humidity': 100, 'temp_kf': 0}, 'weather': [{'id': 601, 'main': 'Snow', 'description': 'snow', 'icon': '13n'}], 'clouds': {'all': 100}, 'wind': {'speed': 1.45, 'deg': 51, 'gust': 1.09}, 'visibility': 48, 'pop': 1, 'snow': {'3h': 3.45}, 'sys': {'pod': 'n'}, 'dt_txt': '2024-10-05 03:00:00'}, {'dt': 1728108000, 'main': {'temp': 275.82, 'feels_like': 274.65, 'temp_min': 275.82, 'temp_max': 275.82, 'pressure': 1006, 'sea_level': 1006, 'grnd_level': 954, 'humidity': 100, 'temp_kf': 0}, 'weather': [{'id': 601, 'main': 'Snow', 'description': 'snow', 'icon': '13d'}], 'clouds': {'all': 100}, 'wind': {'speed': 1.36, 'deg': 57, 'gust': 1.36}, 'visibility': 44, 'pop': 1, 'snow': {'3h': 5.79}, 'sys': {'pod': 'd'}, 'dt_txt': '2024-10-05 06:00:00'}, {'dt': 1728118800, 'main': {'temp': 276.08, 'feels_like': 273.9, 'temp_min': 276.08, 'temp_max': 276.08, 'pressure': 1003, 'sea_level': 1003, 'grnd_level': 951, 'humidity': 100, 'temp_kf': 0}, 'weather': [{'id': 601, 'main': 'Snow', 'description': 'snow', 'icon': '13d'}], 'clouds': {'all': 100}, 'wind': {'speed': 2.19, 'deg': 75, 'gust': 2.36}, 'visibility': 83, 'pop': 1, 'snow': {'3h': 8.1}, 'sys': {'pod': 'd'}, 'dt_txt': '2024-10-05 09:00:00'}], 'city': {'id': 3145614, 'name': 'Mo i Rana', 'coord': {'lat': 66.3128, 'lon': 14.1428}, 'country': 'NO', 'population': 17853, 'timezone': 7200, 'sunrise': 1727673115, 'sunset': 1727714076}}\n"
     ]
    }
   ],
   "source": [
    "responseF = requests.get(urlF).json()\n",
    "#print(json.dumps(responseF, indent=4))\n",
    "print(responseF)"
   ]
  },
  {
   "cell_type": "code",
   "execution_count": 18,
   "metadata": {
    "ExecuteTime": {
     "end_time": "2024-08-17T10:19:07.510514Z",
     "start_time": "2024-08-17T10:19:07.506586Z"
    },
    "slideshow": {
     "slide_type": "slide"
    },
    "tags": []
   },
   "outputs": [],
   "source": [
    "# Write JSON to file for viewing\n",
    "with open('downloads/forecast.json', 'w') as f:\n",
    "    json.dump(responseF, f, indent=4)"
   ]
  },
  {
   "cell_type": "markdown",
   "metadata": {
    "slideshow": {
     "slide_type": "slide"
    }
   },
   "source": [
    "### When and what?\n",
    "Check contents and time stamps"
   ]
  },
  {
   "cell_type": "code",
   "execution_count": 19,
   "metadata": {
    "ExecuteTime": {
     "end_time": "2024-08-17T10:19:07.514214Z",
     "start_time": "2024-08-17T10:19:07.511162Z"
    },
    "slideshow": {
     "slide_type": "fragment"
    },
    "tags": []
   },
   "outputs": [
    {
     "data": {
      "text/plain": [
       "dict_keys(['cod', 'message', 'cnt', 'list', 'city'])"
      ]
     },
     "execution_count": 19,
     "metadata": {},
     "output_type": "execute_result"
    }
   ],
   "source": [
    "# Content of responseF\n",
    "responseF.keys()"
   ]
  },
  {
   "cell_type": "code",
   "execution_count": 20,
   "metadata": {
    "ExecuteTime": {
     "end_time": "2024-08-17T10:19:07.516813Z",
     "start_time": "2024-08-17T10:19:07.514918Z"
    },
    "slideshow": {
     "slide_type": "fragment"
    },
    "tags": []
   },
   "outputs": [
    {
     "name": "stdout",
     "output_type": "stream",
     "text": [
      "40\n"
     ]
    }
   ],
   "source": [
    "# Number of forecasts\n",
    "print(len(responseF[\"list\"]))"
   ]
  },
  {
   "cell_type": "code",
   "execution_count": 21,
   "metadata": {
    "ExecuteTime": {
     "end_time": "2024-08-17T10:19:07.520443Z",
     "start_time": "2024-08-17T10:19:07.518884Z"
    },
    "slideshow": {
     "slide_type": "slide"
    },
    "tags": []
   },
   "outputs": [
    {
     "name": "stdout",
     "output_type": "stream",
     "text": [
      "2024-09-30 09:00:00\n",
      "2024-09-30 12:00:00\n",
      "2024-09-30 15:00:00\n",
      "2024-09-30 18:00:00\n",
      "2024-09-30 21:00:00\n",
      "2024-10-01 00:00:00\n",
      "2024-10-01 03:00:00\n",
      "2024-10-01 06:00:00\n",
      "2024-10-01 09:00:00\n",
      "2024-10-01 12:00:00\n",
      "2024-10-01 15:00:00\n",
      "2024-10-01 18:00:00\n",
      "2024-10-01 21:00:00\n",
      "2024-10-02 00:00:00\n",
      "2024-10-02 03:00:00\n",
      "2024-10-02 06:00:00\n",
      "2024-10-02 09:00:00\n",
      "2024-10-02 12:00:00\n",
      "2024-10-02 15:00:00\n",
      "2024-10-02 18:00:00\n",
      "2024-10-02 21:00:00\n",
      "2024-10-03 00:00:00\n",
      "2024-10-03 03:00:00\n",
      "2024-10-03 06:00:00\n",
      "2024-10-03 09:00:00\n",
      "2024-10-03 12:00:00\n",
      "2024-10-03 15:00:00\n",
      "2024-10-03 18:00:00\n",
      "2024-10-03 21:00:00\n",
      "2024-10-04 00:00:00\n",
      "2024-10-04 03:00:00\n",
      "2024-10-04 06:00:00\n",
      "2024-10-04 09:00:00\n",
      "2024-10-04 12:00:00\n",
      "2024-10-04 15:00:00\n",
      "2024-10-04 18:00:00\n",
      "2024-10-04 21:00:00\n",
      "2024-10-05 00:00:00\n",
      "2024-10-05 03:00:00\n",
      "2024-10-05 06:00:00\n"
     ]
    }
   ],
   "source": [
    "# Print forecast times\n",
    "for forecast in responseF[\"list\"]:\n",
    "    print(forecast[\"dt_txt\"])"
   ]
  },
  {
   "cell_type": "markdown",
   "metadata": {
    "slideshow": {
     "slide_type": "slide"
    }
   },
   "source": [
    "## Make plots of omnipresent measurements and events\n",
    "We will later look at missing data, data only sporadically appearing and so on."
   ]
  },
  {
   "cell_type": "code",
   "execution_count": 22,
   "metadata": {
    "ExecuteTime": {
     "end_time": "2024-08-17T10:19:07.522603Z",
     "start_time": "2024-08-17T10:19:07.521029Z"
    },
    "slideshow": {
     "slide_type": "fragment"
    },
    "tags": []
   },
   "outputs": [],
   "source": [
    "# Air pressure per period\n",
    "pressures = []\n",
    "timestamps = []\n",
    "for forecast in responseF[\"list\"]:\n",
    "    pressures.append(forecast[\"main\"][\"pressure\"])\n",
    "    timestamps.append(dt.datetime.fromtimestamp(forecast[\"dt\"]))"
   ]
  },
  {
   "cell_type": "code",
   "execution_count": 24,
   "metadata": {
    "ExecuteTime": {
     "end_time": "2024-08-17T10:19:08.124779Z",
     "start_time": "2024-08-17T10:19:07.523100Z"
    },
    "slideshow": {
     "slide_type": "slide"
    },
    "tags": []
   },
   "outputs": [
    {
     "data": {
      "image/png": "[encoded data removed]",
      "text/plain": [
       "<Figure size 640x480 with 1 Axes>"
      ]
     },
     "metadata": {},
     "output_type": "display_data"
    }
   ],
   "source": [
    "import matplotlib.pyplot as plt\n",
    "plt.bar(timestamps, pressures)\n",
    "plt.xticks(rotation=45)\n",
    "plt.ylim(980, 1050)\n",
    "plt.grid()\n",
    "plt.ylabel(\"Air pressure (hPa)\")\n",
    "plt.title(f\"Forecasted air pressure in {CITY}\")\n",
    "plt.show()"
   ]
  },
  {
   "cell_type": "markdown",
   "metadata": {
    "slideshow": {
     "slide_type": "slide"
    }
   },
   "source": [
    "## Exercise\n",
    "- Make a new forecast request for your own hometown. Call your response something else than responseF.\n",
    "- If available, plot the humidity like we did with air pressure."
   ]
  },
  {
   "cell_type": "markdown",
   "metadata": {
    "slideshow": {
     "slide_type": "slide"
    }
   },
   "source": [
    "### Precipitation\n",
    "- ... comes in two main flavours: rain and snow.\n",
    "- We need to check which is present and set to zero if it is abscent."
   ]
  },
  {
   "cell_type": "code",
   "execution_count": 35,
   "metadata": {
    "ExecuteTime": {
     "end_time": "2024-08-17T10:19:08.128573Z",
     "start_time": "2024-08-17T10:19:08.125858Z"
    },
    "slideshow": {
     "slide_type": "fragment"
    },
    "tags": []
   },
   "outputs": [],
   "source": [
    "rain = []\n",
    "snow = []\n",
    "for forecast in responseF[\"list\"]:\n",
    "    try: # Check if rain is present in forecast\n",
    "        rain.append(forecast[\"rain\"][\"3h\"])\n",
    "    except KeyError:\n",
    "        rain.append(0)\n",
    "    try: # Check if snow is present in forecast\n",
    "        snow.append(forecast[\"snow\"][\"3h\"])\n",
    "    except KeyError:\n",
    "        snow.append(0)"
   ]
  },
  {
   "cell_type": "code",
   "execution_count": 36,
   "metadata": {
    "ExecuteTime": {
     "end_time": "2024-08-17T10:19:08.223315Z",
     "start_time": "2024-08-17T10:19:08.129282Z"
    },
    "slideshow": {
     "slide_type": "slide"
    },
    "tags": []
   },
   "outputs": [
    {
     "data": {
      "image/png": "[encoded data removed]",
      "text/plain": [
       "<Figure size 640x480 with 1 Axes>"
      ]
     },
     "metadata": {},
     "output_type": "display_data"
    }
   ],
   "source": [
    "# Stacked bar chart with rain and snow\n",
    "plt.bar(timestamps, rain, label=\"Rain\")\n",
    "plt.bar(timestamps, snow, label=\"Snow\")\n",
    "plt.xticks(rotation=45)\n",
    "plt.grid()\n",
    "plt.ylabel(\"Precipitation (mm)\")\n",
    "plt.title(f\"Forecasted precipitation in {CITY}\")\n",
    "plt.legend()\n",
    "plt.show()\n"
   ]
  },
  {
   "cell_type": "markdown",
   "metadata": {
    "slideshow": {
     "slide_type": "slide"
    }
   },
   "source": [
    "```{seealso} Resources\n",
    ":class: tip\n",
    "- [YouTube: NeuralNine's video (15m:32s)](https://www.youtube.com/watch?v=9P5MY_2i7K8)\n",
    "```"
   ]
  }
 ],
 "metadata": {
  "celltoolbar": "Slideshow",
  "kernelspec": {
   "display_name": "Python 3 (ipykernel)",
   "language": "python",
   "name": "python3"
  },
  "language_info": {
   "codemirror_mode": {
    "name": "ipython",
    "version": 3
   },
   "file_extension": ".py",
   "mimetype": "text/x-python",
   "name": "python",
   "nbconvert_exporter": "python",
   "pygments_lexer": "ipython3",
   "version": "3.12.4"
  }
 },
 "nbformat": 4,
 "nbformat_minor": 4
}
