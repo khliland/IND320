{
 "cells": [
  {
   "cell_type": "markdown",
   "metadata": {
    "slideshow": {
     "slide_type": "slide"
    },
    "tags": []
   },
   "source": [
    "# Tips and trics with Jupyter Notebooks"
   ]
  },
  {
   "cell_type": "markdown",
   "metadata": {
    "tags": [
     "raises-exception"
    ]
   },
   "source": [
    "## Table of contents\n",
    "- Create internal links using the same heading as the one linked to.\n",
    "- Autofill happens automagically after writing the hashtag in the parenthesis, but this may miss out on capital letters.  \n",
    "  \n",
    "```[Including Markdown content from](#Including-Markdown-content-from-file)```  \n",
    "  \n",
    "Example:\n",
    "1. [Including Markdown content from](#Including-Markdown-content-from-file)\n",
    "2. [Create filling text on the fly](#Create-filling-text-on-the-fly)\n",
    "3. [Exporting to PDF](#Exporting-to-PDF)\n",
    "4. [Interactive graphics](#Interactive-graphics)\n",
    "5. [HTML](#HTML)"
   ]
  },
  {
   "cell_type": "markdown",
   "metadata": {
    "slideshow": {
     "slide_type": "slide"
    },
    "tags": []
   },
   "source": [
    "## Including Markdown content from file"
   ]
  },
  {
   "cell_type": "code",
   "execution_count": null,
   "metadata": {
    "tags": []
   },
   "outputs": [],
   "source": [
    "# Use IPython.display.Markdown to display the text in ../../data/lorem.txt\n",
    "from IPython.display import Markdown\n",
    "with open('../../data/lorem.txt') as f:\n",
    "    text = f.read()\n",
    "Markdown(text)"
   ]
  },
  {
   "cell_type": "markdown",
   "metadata": {
    "slideshow": {
     "slide_type": "slide"
    },
    "tags": []
   },
   "source": [
    "## Create filling text on the fly"
   ]
  },
  {
   "cell_type": "code",
   "execution_count": null,
   "metadata": {
    "tags": []
   },
   "outputs": [],
   "source": [
    "# Use the lipsum package to generate 100 words.\n",
    "import lipsum as lp\n",
    "from IPython.display import Markdown\n",
    "Markdown(lp.generate_words(100))"
   ]
  },
  {
   "cell_type": "markdown",
   "metadata": {
    "slideshow": {
     "slide_type": "slide"
    },
    "tags": []
   },
   "source": [
    "## Exporting to PDF\n",
    "- If not installed:\n",
    "  \n",
    "```pip install 'nbconvert[webpdf]'```  \n",
    "  \n",
    "- First time usage to install Chromium for conversion via HTML instead of LaTeX:\n",
    "  \n",
    "```jupyter nbconvert --to webpdf --allow-chromium-download your-notebook-file.ipynb```\n",
    "\n",
    "- Normal usage:  \n",
    "  \n",
    "```jupyter nbconvert --to webpdf your-notebook-file.ipynb```\n",
    "\n",
    "- For general hiding of code in code cells:\n",
    "  \n",
    "```jupyter nbconvert --to webpdf --no-input your-notebook-file.ipynb```\n",
    "  \n",
    "- Other export options (may need additional packages installed to work): 'asciidoc', 'custom', __'html'__, 'html_ch', 'html_embed', 'html_toc', 'latex', 'markdown', 'notebook', 'pdf', 'python', 'qtpdf', 'qtpng', 'rst', 'script', 'selectLanguage', 'slides', 'webpdf'.\n",
    "- There are also a lot of other customisations available through other parameters, e.g., various templates and themes.\n",
    "    - Installing the python package [_nbconvert-theme-pale-sand-navy_](https://github.com/jelleschutter/nbconvert-theme-pale-sand-navy) and using _--template pale-sand-navy_ is an example."
   ]
  },
  {
   "cell_type": "markdown",
   "metadata": {
    "slideshow": {
     "slide_type": "slide"
    },
    "tags": []
   },
   "source": [
    "## Interactive graphics\n",
    "- Basic interactivity is possible directly in Plotly when exporting to HTML.\n",
    "- Advanced interactivity needs live running in some Jupyter environment or converting to a dynamic web page using Voilá, Mercury or similar.\n",
    "- [Plotly's renderer](https://plotly.com/python/renderers/) may need setting for correct compatibility and inclusion of JavaScript."
   ]
  },
  {
   "cell_type": "code",
   "execution_count": null,
   "metadata": {
    "tags": []
   },
   "outputs": [],
   "source": [
    "# The following renders plotly graphs in Jupyter Notebook Jupyter Lab and VS Code formats (first one helps HTML export)\n",
    "import plotly.io as pio\n",
    "pio.renderers.default = \"notebook+plotly_mimetype+vscode\"\n",
    "# If you set it to some static output like \"png\", you can export to PDF (requires the kaleido package)\n",
    "# pio.renderers.default = \"png\"\n",
    "\n",
    "# Gapminder dataset of health and wealth stats for different countries\n",
    "import plotly.express as px\n",
    "df = px.data.gapminder()\n",
    "\n",
    "# Animate all years\n",
    "px.scatter(df, x=\"gdpPercap\", y=\"lifeExp\", animation_frame=\"year\", animation_group=\"country\",\n",
    "           size=\"pop\", color=\"continent\", hover_name=\"country\",\n",
    "           log_x=True, size_max=55, range_x=[100,100000], range_y=[25,90], \n",
    "           width=600, height=400) \n",
    "# Make sure to set width and height to avoid scaling issues with PDF export"
   ]
  },
  {
   "cell_type": "markdown",
   "metadata": {
    "slideshow": {
     "slide_type": "slide"
    },
    "tags": []
   },
   "source": [
    "## HTML\n",
    "- Markdown supports some HTML, but Markdown commands have no effect inside HTML tags.\n",
    "- Basic HTML is preserved also when converting to PDF.\n",
    "\n",
    "$\\mu = 1$"
   ]
  },
  {
   "cell_type": "markdown",
   "metadata": {},
   "source": [
    "<div align=\"right\">Some text over here</div>\n",
    "<table>\n",
    "    <tr>\n",
    "        <td>Content</td><td>More content</td>\n",
    "    </tr>\n",
    "    <tr>\n",
    "        <td>Even more content</td><td>Last content $\\mu = 1$</td>\n",
    "    </tr>\n",
    "</table>"
   ]
  },
  {
   "cell_type": "code",
   "execution_count": null,
   "metadata": {
    "tags": [
     "hide-cell"
    ]
   },
   "outputs": [],
   "source": [
    "# Dummy cell to ensure Plotly graphics are shown\n",
    "import plotly.graph_objects as go\n",
    "f = go.FigureWidget([go.Scatter(x=[1,1], y=[1,1], mode='markers')])"
   ]
  }
 ],
 "metadata": {
  "kernelspec": {
   "display_name": "IND320_2024",
   "language": "python",
   "name": "python3"
  },
  "language_info": {
   "codemirror_mode": {
    "name": "ipython",
    "version": 3
   },
   "file_extension": ".py",
   "mimetype": "text/x-python",
   "name": "python",
   "nbconvert_exporter": "python",
   "pygments_lexer": "ipython3",
   "version": "3.12.4"
  }
 },
 "nbformat": 4,
 "nbformat_minor": 4
}
