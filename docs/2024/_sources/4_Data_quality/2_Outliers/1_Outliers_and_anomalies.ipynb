{
 "cells": [
  {
   "cell_type": "markdown",
   "metadata": {
    "slideshow": {
     "slide_type": "slide"
    }
   },
   "source": [
    "# Outliers and anomalies\n",
    "- The terms _outliers_ and _anomalies_ can sometimes be synonymous, but have different origins in data analysis.\n",
    "- An _outlier_ in statistics is typically defined with respect to some known (or assumed) distribution and its statistics.\n",
    "    - An _outlier_ in a dataset does not have the same properties as the majority of observations or is more _extreme_ in some sense.\n",
    "    - An _outlier_ in a model is either _extreme_ in the data distribution or its predictions deviate more from the truth than the typical observation does.\n",
    "- An _anomaly_ in machine learning is typically an observation that deviates from the the majority of observations or from the samples in its local neighbourhood.\n",
    "    - There are fewer assumptions about distributions in machine learning than statistics."
   ]
  },
  {
   "cell_type": "markdown",
   "metadata": {
    "slideshow": {
     "slide_type": "slide"
    }
   },
   "source": [
    "## Outliers for 1D data\n",
    "- A simple representation of data is the box (and whiskers) plot.\n",
    "- A common choice is to stop the whiskers at 1.5 IQR, where IQR = 75th percentile - 25th percentile."
   ]
  },
  {
   "cell_type": "code",
   "execution_count": null,
   "metadata": {
    "slideshow": {
     "slide_type": "slide"
    }
   },
   "outputs": [],
   "source": [
    "# Random data\n",
    "import numpy as np\n",
    "np.random.seed(1)\n",
    "data = np.random.normal(0, 1, 1000)\n",
    "\n",
    "# A boxplot of the data\n",
    "import matplotlib.pyplot as plt\n",
    "plt.boxplot(data)\n",
    "plt.show()"
   ]
  },
  {
   "cell_type": "markdown",
   "metadata": {
    "slideshow": {
     "slide_type": "slide"
    }
   },
   "source": [
    "### Boxplot properties\n",
    "... assuming normal distributed data."
   ]
  },
  {
   "cell_type": "code",
   "execution_count": null,
   "metadata": {
    "slideshow": {
     "slide_type": "fragment"
    },
    "tags": []
   },
   "outputs": [],
   "source": [
    "# Plot the normal probability curve from -4 to 4 with mean 0 and standard deviation 1\n",
    "import numpy as np\n",
    "import scipy.stats as stats\n",
    "import matplotlib.pyplot as plt\n",
    "plt.figure(figsize=(5,3))\n",
    "x = np.linspace(-4, 4, 100)\n",
    "y = stats.norm.pdf(x, 0, 1)\n",
    "plt.plot(x, y, color='black')\n",
    "plt.xlabel('Standard deviations')\n",
    "plt.ylabel('Probability density')\n",
    "plt.title('Standard normal probability curve')\n",
    "# Add lines for the quartiles and whiskers\n",
    "plt.axvline(stats.norm.isf(1-0.25))\n",
    "plt.axvline(stats.norm.isf(1-0.75), label=\"Quartiles\")\n",
    "plt.axvline(stats.norm.isf(1-0.25) - (stats.norm.isf(1-0.75)-stats.norm.isf(1-0.25))*1.5, color='red')\n",
    "plt.axvline(stats.norm.isf(1-0.75) + (stats.norm.isf(1-0.75)-stats.norm.isf(1-0.25))*1.5, color='red', label=\"+/- 1.5 IQR\")\n",
    "plt.legend()\n",
    "plt.show()\n",
    "# Print the value of the upeer whisker\n",
    "upper = stats.norm.isf(1-0.75) + (stats.norm.isf(1-0.75)-stats.norm.isf(1-0.25))*1.5\n",
    "print(\"Upper whisker: {:.3f} standard deviations\".format(upper))\n",
    "print(\"Probability of being outside whiskers: {:.3f}%\".format(stats.norm.cdf(upper)*2))"
   ]
  },
  {
   "cell_type": "markdown",
   "metadata": {
    "slideshow": {
     "slide_type": "slide"
    }
   },
   "source": [
    "## Outliers in models\n",
    "- An outlier in the input data, __X__, will influence some models more than a central point would do.\n",
    "    - In regression (Ordinary Least Squares), these are called high leverage points.  \n",
    "    OLS for $\\tilde{X} = [1 ~ X]$:  \n",
    "    $\\tilde{X}\\beta = \\tilde{X} (\\tilde{X}'\\tilde{X})^{-1} \\tilde{X}' Y$  \n",
    "    Leverage $h_{ii}$ from the diagonal of $H = \\tilde{X} (\\tilde{X}'\\tilde{X})^{-1} \\tilde{X}'$.\n",
    "- An outlier in the response, __y__, can be caused by a model of wrong complexity.\n",
    "    - Too complex: Overfitting, bad generalisation.\n",
    "    - Too simple: Does not fit well enough to describe important variation."
   ]
  },
  {
   "cell_type": "markdown",
   "metadata": {
    "slideshow": {
     "slide_type": "slide"
    }
   },
   "source": [
    "## Handling outliers/anomalies\n",
    "- An outier can be the caused by errors in measurements, faulty registration or random variation.\n",
    "    - Or it can be deviating because of unexplained, but important, phenomena.\n",
    "- Depending on the case at hand, there are several options for handling outliers:\n",
    "    - Remove the outlying measurement - results in missing data.\n",
    "    - Impute the values of the outlier, i.e., replace it by something _inlying_, e.g., average over nearest neighbours (pre-processing section).\n",
    "    - Use a smoothed value according to the local trend ([Noise reduction](../1_Signal/2_Noise_reduction.ipynb)).\n",
    "    - For visualisation, present a smoothed signal, but show the underlying variation as a shadow or error region (shown below).\n",
    "        - Or mark outliers in the plot with contrasting colour ([Outlier statistics](./2_Outlier_statistics.ipynb))\n",
    "    - Sound an alarm, e.g., a warning sign, alerting an operator to potential problems (dashboard section)."
   ]
  },
  {
   "cell_type": "code",
   "execution_count": null,
   "metadata": {
    "slideshow": {
     "slide_type": "slide"
    }
   },
   "outputs": [],
   "source": [
    "# Random signal\n",
    "N = 301\n",
    "rng = np.random.default_rng(0)\n",
    "y = rng.standard_normal(N).cumsum()\n",
    "\n",
    "# Remove frequencies above 40, i.e., a low-pass filter.\n",
    "from scipy.fft import dct, idct\n",
    "W = np.arange(0, N) # Frequency axis\n",
    "filtered_fourier_signal = dct(y)\n",
    "x = filtered_fourier_signal.copy()\n",
    "filtered_fourier_signal[(W > 40)] = 0\n",
    "cut_signal = idct(filtered_fourier_signal)\n",
    "\n",
    "# Plot the curve\n",
    "plt.figure(figsize=(7,3))\n",
    "plt.plot(y, label='Original signal', color='gray')\n",
    "plt.plot(cut_signal, label='Filtered signal', color='red')\n",
    "plt.xlabel('arbitrary units')\n",
    "plt.ylabel('amplitude')\n",
    "plt.legend()\n",
    "plt.show()"
   ]
  },
  {
   "cell_type": "markdown",
   "metadata": {
    "slideshow": {
     "slide_type": "slide"
    }
   },
   "source": [
    "## Resources\n",
    "- [Wikipedia: Box plot](https://en.wikipedia.org/wiki/Box_plot)\n",
    "- [Wikipedia: Interquartile range](https://en.wikipedia.org/wiki/Interquartile_range)"
   ]
  }
 ],
 "metadata": {
  "celltoolbar": "Slideshow",
  "kernelspec": {
   "display_name": "Python 3 (ipykernel)",
   "language": "python",
   "name": "python3"
  },
  "language_info": {
   "codemirror_mode": {
    "name": "ipython",
    "version": 3
   },
   "file_extension": ".py",
   "mimetype": "text/x-python",
   "name": "python",
   "nbconvert_exporter": "python",
   "pygments_lexer": "ipython3",
   "version": "3.12.4"
  }
 },
 "nbformat": 4,
 "nbformat_minor": 4
}
