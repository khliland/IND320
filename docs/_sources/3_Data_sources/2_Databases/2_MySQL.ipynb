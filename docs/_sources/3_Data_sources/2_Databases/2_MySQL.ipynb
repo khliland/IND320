{
 "cells": [
  {
   "cell_type": "markdown",
   "metadata": {
    "slideshow": {
     "slide_type": "slide"
    }
   },
   "source": [
    "# [MySQL](https://www.mysql.com/)\n",
    "- A true and tested relational database [released in 1995](https://en.wikipedia.org/wiki/MySQL).\n",
    "    - Originally from Swedish company MySQL AB.\n",
    "    - Later acquired by Sun who were then acquired by Oracle.\n",
    "- Freeware version and full enterprise versions for many platforms.\n",
    "- Lately also supports native JSON and NoSQL document store.\n",
    "- Easily installed directly in Windows, Mac, Linux, etc. or using Docker, Homebrew, etc."
   ]
  },
  {
   "cell_type": "markdown",
   "metadata": {
    "slideshow": {
     "slide_type": "slide"
    }
   },
   "source": [
    "## Instructor's database\n",
    "- An example of accessing an online, editable database.\n",
    "- Some VPN connections block the chosen port."
   ]
  },
  {
   "cell_type": "code",
   "execution_count": 8,
   "metadata": {
    "slideshow": {
     "slide_type": "slide"
    },
    "tags": []
   },
   "outputs": [],
   "source": [
    "# Make a connection object 'connection' for the MySQL database 'u492297623_student1' on port 3306 at server 145.14.151.151 with username 'u492297623_stud1'\n",
    "# and password given by instructor.\n",
    "import mysql.connector\n",
    "PWD = open('../../../No_sync/password_khliland','r').read()\n",
    "\n",
    "# Establishing a connection to the MySQL database\n",
    "connection = mysql.connector.connect(\n",
    "    host='145.14.151.151',\n",
    "    port=3306,\n",
    "    user='u492297623_stud1',\n",
    "    password=PWD,\n",
    "    database='u492297623_student1',\n",
    "    connection_timeout=10\n",
    ")\n",
    "\n",
    "# Creating a cursor object to execute SQL queries\n",
    "cursor = connection.cursor()"
   ]
  },
  {
   "cell_type": "markdown",
   "metadata": {
    "slideshow": {
     "slide_type": "slide"
    }
   },
   "source": [
    "### Revealing structure\n",
    "If the tables of a database and their structure is given in advance, this can be queried."
   ]
  },
  {
   "cell_type": "code",
   "execution_count": null,
   "metadata": {
    "slideshow": {
     "slide_type": "fragment"
    },
    "tags": []
   },
   "outputs": [],
   "source": [
    "# Executing a SQL query to retrieve all the tables present in the database\n",
    "query = \"SHOW TABLES;\"\n",
    "cursor.execute(query)\n",
    "\n",
    "# Fetching all the rows from the result set\n",
    "tabs = cursor.fetchall()\n",
    "\n",
    "# Printing the retrieved data\n",
    "for row in tabs:\n",
    "    print(row)"
   ]
  },
  {
   "cell_type": "code",
   "execution_count": null,
   "metadata": {
    "slideshow": {
     "slide_type": "slide"
    },
    "tags": []
   },
   "outputs": [],
   "source": [
    "# Executing a SQL query to describe the table 'students' present in the database\n",
    "query = \"DESCRIBE students;\"\n",
    "cursor.execute(query)\n",
    "\n",
    "# Fetching all the rows from the result set\n",
    "studs = cursor.fetchall()\n",
    "\n",
    "# Printing the retrieved data\n",
    "for row in studs:\n",
    "    print(row)"
   ]
  },
  {
   "cell_type": "markdown",
   "metadata": {
    "slideshow": {
     "slide_type": "slide"
    }
   },
   "source": [
    "### Extract data"
   ]
  },
  {
   "cell_type": "code",
   "execution_count": null,
   "metadata": {
    "slideshow": {
     "slide_type": "fragment"
    },
    "tags": []
   },
   "outputs": [],
   "source": [
    "# Executing the SQL query to select all data from the 'students' table\n",
    "query = \"SELECT * FROM students;\"\n",
    "cursor.execute(query)\n",
    "\n",
    "# Fetching all the rows from the result set\n",
    "result = cursor.fetchall()\n",
    "\n",
    "# Printing the retrieved data\n",
    "for row in result:\n",
    "    print(row)"
   ]
  },
  {
   "cell_type": "markdown",
   "metadata": {
    "slideshow": {
     "slide_type": "slide"
    }
   },
   "source": [
    "### Example of the power of AI tools\n",
    "- Instructor wrote \"Select only students whose name starts with 'J'\" with Copilot activated.\n",
    "- Copilot automatically generated the query.\n",
    "- Instructor corrected 'name' to 'first_name'\n",
    "- It worked!"
   ]
  },
  {
   "cell_type": "code",
   "execution_count": null,
   "metadata": {
    "slideshow": {
     "slide_type": "slide"
    }
   },
   "outputs": [],
   "source": [
    "# Select only students whose name starts with 'J'\n",
    "query = \"SELECT * FROM students WHERE first_name LIKE 'J%';\"\n",
    "cursor.execute(query)\n",
    "\n",
    "# Fetching all the rows from the result set\n",
    "result = cursor.fetchall()\n",
    "\n",
    "# Printing the retrieved data\n",
    "for row in result:\n",
    "    print(row)"
   ]
  },
  {
   "cell_type": "markdown",
   "metadata": {
    "slideshow": {
     "slide_type": "slide"
    }
   },
   "source": [
    "### Add new data\n",
    "- If the primary key is duplicated, this will return an error"
   ]
  },
  {
   "cell_type": "code",
   "execution_count": null,
   "metadata": {
    "slideshow": {
     "slide_type": "fragment"
    },
    "tags": [
     "raises-exception"
    ]
   },
   "outputs": [],
   "source": [
    "# Insert a new row into the first_test table with the values 3, 'Pete', 'Data Science'\n",
    "query = \"INSERT INTO students VALUES (3, 'Pete', 'Data Science');\"\n",
    "# This can result in an error if the primary key already exists\n",
    "cursor.execute(query)"
   ]
  },
  {
   "cell_type": "code",
   "execution_count": 13,
   "metadata": {
    "slideshow": {
     "slide_type": "fragment"
    }
   },
   "outputs": [],
   "source": [
    "# Increment the main_key and insert new data\n",
    "query = \"INSERT INTO students SELECT COALESCE(MAX(main_key) + 1, 1), 'Anita', 'Plant Science' FROM students;\"\n",
    "cursor.execute(query)\n",
    "# (AUTO_INCREMENT can be set at the table creation to avoid having to do this)"
   ]
  },
  {
   "cell_type": "markdown",
   "metadata": {
    "slideshow": {
     "slide_type": "slide"
    }
   },
   "source": [
    "### Removing data\n",
    "- Delete a single record or data that follows a pattern."
   ]
  },
  {
   "cell_type": "code",
   "execution_count": 14,
   "metadata": {
    "slideshow": {
     "slide_type": "fragment"
    },
    "tags": []
   },
   "outputs": [],
   "source": [
    "# Delete all rows from the students table where main_key > 2\n",
    "query = \"DELETE FROM students WHERE main_key > 2;\"\n",
    "cursor.execute(query)"
   ]
  },
  {
   "cell_type": "markdown",
   "metadata": {
    "slideshow": {
     "slide_type": "slide"
    }
   },
   "source": [
    "### Commiting changes\n",
    "- All changes to the data using _mysql.connector.cursor_ are local until committed."
   ]
  },
  {
   "cell_type": "code",
   "execution_count": 15,
   "metadata": {
    "slideshow": {
     "slide_type": "fragment"
    },
    "tags": []
   },
   "outputs": [],
   "source": [
    "# Push data from the cursor to the database\n",
    "connection.commit()"
   ]
  },
  {
   "cell_type": "code",
   "execution_count": 16,
   "metadata": {
    "slideshow": {
     "slide_type": "fragment"
    }
   },
   "outputs": [],
   "source": [
    "# Closing the cursor and the database connection\n",
    "cursor.close()\n",
    "connection.close()"
   ]
  },
  {
   "cell_type": "markdown",
   "metadata": {
    "slideshow": {
     "slide_type": "slide"
    }
   },
   "source": [
    "## Exercise\n",
    "1. Make a Python function that takes an SQL query as input, opens a connection, executes the statement, closes the connection and returns any results.\n",
    "2. Assume that password, username, database name, etc. are stored in a dictionary. Make another version of the function that takes a query and the dictionary as input and returns any results.\n",
    "3. Test both functions with SELECT and INSERT INTO statements."
   ]
  },
  {
   "cell_type": "markdown",
   "metadata": {
    "slideshow": {
     "slide_type": "slide"
    }
   },
   "source": [
    "```{seealso} Resources\n",
    ":class: tip\n",
    "- [MySQL webpage](https://www.mysql.com/)\n",
    "- [Wikipedia: MySQL](https://en.wikipedia.org/wiki/MySQL).\n",
    "- [YouTube: MySQL - The basics // Learn SQL in 23 Easy Steps](https://youtu.be/Cz3WcZLRaWc?si=D5CQt3CSSmUg1jkV) (17m:16s)\n",
    "- [SQL Cheat Sheet](https://www.sqltutorial.org/sql-cheat-sheet/) with tons of examples from [SQL Tutorial](https://www.sqltutorial.org/)\n",
    "```"
   ]
  }
 ],
 "metadata": {
  "celltoolbar": "Slideshow",
  "kernelspec": {
   "display_name": "IND320_2024",
   "language": "python",
   "name": "python3"
  },
  "language_info": {
   "codemirror_mode": {
    "name": "ipython",
    "version": 3
   },
   "file_extension": ".py",
   "mimetype": "text/x-python",
   "name": "python",
   "nbconvert_exporter": "python",
   "pygments_lexer": "ipython3",
   "version": "3.12.4"
  }
 },
 "nbformat": 4,
 "nbformat_minor": 4
}
