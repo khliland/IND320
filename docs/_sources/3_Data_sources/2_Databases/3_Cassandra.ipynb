{
 "cells": [
  {
   "cell_type": "markdown",
   "metadata": {
    "slideshow": {
     "slide_type": "slide"
    }
   },
   "source": [
    "# Cassandra\n",
    "- A production grade NoSQL database.\n",
    "- Can be distributed across servers, nodes, etc.\n",
    "- Replication of database is supported for high degree of redundancy and speed.\n",
    "- Uses CQL, a subset of SQL for querying.\n",
    "- Works seamlesly together with Spark and its corresponding distributed structure.\n",
    "- Installation of Cassandra is explained in the [Installation chapter](../../7_Appendix/Installation.ipynb)."
   ]
  },
  {
   "cell_type": "markdown",
   "metadata": {
    "slideshow": {
     "slide_type": "slide"
    }
   },
   "source": [
    "## Spinning up a local Cassandra instance\n",
    "In a terminal, first time:  \n",
    "```docker run --name my_cassandra -p 9042:9042 cassandra:latest```  \n",
    "... and later:  \n",
    "```docker start my_cassandra```  \n",
    "  \n",
    ".. or in Docker Desktop:\n",
    "- Run the cassandra docker image with optional settings, opening 9042 port and setting a name.\n",
    "- Later, simply run the container with the name you chose."
   ]
  },
  {
   "cell_type": "markdown",
   "metadata": {
    "slideshow": {
     "slide_type": "slide"
    }
   },
   "source": [
    "<img src=\"https://github.com/khliland/IND320/blob/main/D2Dbook/images/Docker_images.png?raw=TRUE\" width=\"600px\">  "
   ]
  },
  {
   "cell_type": "markdown",
   "metadata": {
    "slideshow": {
     "slide_type": "slide"
    }
   },
   "source": [
    "\n",
    "<img src=\"https://github.com/khliland/IND320/blob/main/D2Dbook/images/Docker_containers.png?raw=TRUE\" width=\"800px\">  "
   ]
  },
  {
   "cell_type": "markdown",
   "metadata": {
    "slideshow": {
     "slide_type": "slide"
    }
   },
   "source": [
    "### Connect to the Cassandra cluster from Python."
   ]
  },
  {
   "cell_type": "code",
   "execution_count": 1,
   "metadata": {
    "ExecuteTime": {
     "end_time": "2024-08-17T10:25:34.787878Z",
     "start_time": "2024-08-17T10:25:34.389367Z"
    },
    "execution": {
     "iopub.execute_input": "2024-08-17T11:11:08.638602Z",
     "iopub.status.busy": "2024-08-17T11:11:08.638284Z",
     "iopub.status.idle": "2024-08-17T11:11:08.852135Z",
     "shell.execute_reply": "2024-08-17T11:11:08.851463Z"
    },
    "slideshow": {
     "slide_type": "-"
    }
   },
   "outputs": [],
   "source": [
    "# Connecting to Cassandra\n",
    "from cassandra.cluster import Cluster\n",
    "cluster = Cluster(['localhost'], port=9042)\n",
    "session = cluster.connect()"
   ]
  },
  {
   "cell_type": "markdown",
   "metadata": {
    "slideshow": {
     "slide_type": "slide"
    }
   },
   "source": [
    "### Keyspace\n",
    "- In Cassandra database tables are stored in keyspaces (basically a distributed database).\n",
    "- These have parameters controlling their distribution on nodes/servers and redundancy.\n",
    "- We will use the simplest form locally."
   ]
  },
  {
   "cell_type": "code",
   "execution_count": 2,
   "metadata": {
    "ExecuteTime": {
     "end_time": "2024-08-17T10:25:34.798504Z",
     "start_time": "2024-08-17T10:25:34.789786Z"
    },
    "execution": {
     "iopub.execute_input": "2024-08-17T11:11:08.857654Z",
     "iopub.status.busy": "2024-08-17T11:11:08.857351Z",
     "iopub.status.idle": "2024-08-17T11:11:08.885591Z",
     "shell.execute_reply": "2024-08-17T11:11:08.870416Z"
    },
    "slideshow": {
     "slide_type": "fragment"
    }
   },
   "outputs": [
    {
     "data": {
      "text/plain": [
       "<cassandra.cluster.ResultSet at 0x108309eb0>"
      ]
     },
     "execution_count": 2,
     "metadata": {},
     "output_type": "execute_result"
    }
   ],
   "source": [
    "# Set up new keyspace (first time only)\n",
    "#                                              name of keyspace                        replication strategy           replication factor\n",
    "session.execute(\"CREATE KEYSPACE IF NOT EXISTS my_first_keyspace WITH REPLICATION = { 'class' : 'SimpleStrategy', 'replication_factor' : 1 };\")"
   ]
  },
  {
   "cell_type": "markdown",
   "metadata": {
    "slideshow": {
     "slide_type": "slide"
    }
   },
   "source": [
    "### Create a table\n",
    "- IF NOT EXISTS makes sure we do not overwrite existing tables"
   ]
  },
  {
   "cell_type": "code",
   "execution_count": 3,
   "metadata": {
    "ExecuteTime": {
     "end_time": "2024-08-17T10:25:35.347394Z",
     "start_time": "2024-08-17T10:25:34.800008Z"
    },
    "execution": {
     "iopub.execute_input": "2024-08-17T11:11:08.911341Z",
     "iopub.status.busy": "2024-08-17T11:11:08.911070Z",
     "iopub.status.idle": "2024-08-17T11:11:09.268195Z",
     "shell.execute_reply": "2024-08-17T11:11:09.267726Z"
    },
    "slideshow": {
     "slide_type": "fragment"
    }
   },
   "outputs": [
    {
     "data": {
      "text/plain": [
       "<cassandra.cluster.ResultSet at 0x10825d2b0>"
      ]
     },
     "execution_count": 3,
     "metadata": {},
     "output_type": "execute_result"
    }
   ],
   "source": [
    "# Create a new table (first time only)\n",
    "session.set_keyspace('my_first_keyspace')\n",
    "session.execute(\"DROP TABLE IF EXISTS my_first_keyspace.my_first_table;\") # Starting from scratch every time\n",
    "session.execute(\"CREATE TABLE IF NOT EXISTS my_first_table (ind int PRIMARY KEY, company text, model text);\")"
   ]
  },
  {
   "cell_type": "markdown",
   "metadata": {
    "slideshow": {
     "slide_type": "slide"
    }
   },
   "source": [
    "### Inserting and reading data"
   ]
  },
  {
   "cell_type": "code",
   "execution_count": 4,
   "metadata": {
    "ExecuteTime": {
     "end_time": "2024-08-17T10:25:35.366363Z",
     "start_time": "2024-08-17T10:25:35.350453Z"
    },
    "execution": {
     "iopub.execute_input": "2024-08-17T11:11:09.271663Z",
     "iopub.status.busy": "2024-08-17T11:11:09.271398Z",
     "iopub.status.idle": "2024-08-17T11:11:09.282842Z",
     "shell.execute_reply": "2024-08-17T11:11:09.282365Z"
    },
    "slideshow": {
     "slide_type": "-"
    }
   },
   "outputs": [
    {
     "data": {
      "text/plain": [
       "<cassandra.cluster.ResultSet at 0x10823f8c0>"
      ]
     },
     "execution_count": 4,
     "metadata": {},
     "output_type": "execute_result"
    }
   ],
   "source": [
    "# Insert some data (ind is the primary key, must be unique)\n",
    "session.execute(\"INSERT INTO my_first_table (ind, company, model) VALUES (1, 'Tesla', 'Model S');\")\n",
    "session.execute(\"INSERT INTO my_first_table (ind, company, model) VALUES (2, 'Tesla', 'Model 3');\")\n",
    "session.execute(\"INSERT INTO my_first_table (ind, company, model) VALUES (3, 'Polestar', '3');\")"
   ]
  },
  {
   "cell_type": "markdown",
   "metadata": {
    "slideshow": {
     "slide_type": "slide"
    }
   },
   "source": [
    "### Asyncronous writing\n",
    "- If your application is very data intensive, waiting for a response is not productive.\n",
    "- Writing asyncronously sends the data but does not pause for reply."
   ]
  },
  {
   "cell_type": "code",
   "execution_count": 5,
   "metadata": {
    "ExecuteTime": {
     "end_time": "2024-08-17T10:25:35.371390Z",
     "start_time": "2024-08-17T10:25:35.367159Z"
    },
    "execution": {
     "iopub.execute_input": "2024-08-17T11:11:09.284596Z",
     "iopub.status.busy": "2024-08-17T11:11:09.284399Z",
     "iopub.status.idle": "2024-08-17T11:11:09.287020Z",
     "shell.execute_reply": "2024-08-17T11:11:09.286662Z"
    },
    "slideshow": {
     "slide_type": "-"
    }
   },
   "outputs": [
    {
     "data": {
      "text/plain": [
       "<ResponseFuture: query='<SimpleStatement query=\"INSERT INTO my_first_table (ind, company, model) VALUES (4, 'Volkswagen', 'ID.4');\", consistency=Not Set>' request_id=24 result=(no result yet) exception=None coordinator_host=None>"
      ]
     },
     "execution_count": 5,
     "metadata": {},
     "output_type": "execute_result"
    }
   ],
   "source": [
    "session.execute_async(\"INSERT INTO my_first_table (ind, company, model) VALUES (4, 'Volkswagen', 'ID.4');\")"
   ]
  },
  {
   "cell_type": "code",
   "execution_count": 6,
   "metadata": {
    "ExecuteTime": {
     "end_time": "2024-08-17T10:25:35.384736Z",
     "start_time": "2024-08-17T10:25:35.372551Z"
    },
    "execution": {
     "iopub.execute_input": "2024-08-17T11:11:09.288398Z",
     "iopub.status.busy": "2024-08-17T11:11:09.288225Z",
     "iopub.status.idle": "2024-08-17T11:11:09.292272Z",
     "shell.execute_reply": "2024-08-17T11:11:09.292080Z"
    },
    "slideshow": {
     "slide_type": "slide"
    }
   },
   "outputs": [
    {
     "name": "stdout",
     "output_type": "stream",
     "text": [
      "Row(ind=1, company='Tesla', model='Model S')\n",
      "Row(ind=2, company='Tesla', model='Model 3')\n",
      "Row(ind=4, company='Volkswagen', model='ID.4')\n",
      "Row(ind=3, company='Polestar', model='3')\n"
     ]
    }
   ],
   "source": [
    "# Query the data\n",
    "rows = session.execute(\"SELECT * FROM my_first_table;\")\n",
    "for i in rows:\n",
    "    print(i)"
   ]
  },
  {
   "cell_type": "code",
   "execution_count": 7,
   "metadata": {
    "ExecuteTime": {
     "end_time": "2024-08-17T10:25:35.402371Z",
     "start_time": "2024-08-17T10:25:35.386980Z"
    },
    "execution": {
     "iopub.execute_input": "2024-08-17T11:11:09.293405Z",
     "iopub.status.busy": "2024-08-17T11:11:09.293329Z",
     "iopub.status.idle": "2024-08-17T11:11:09.301239Z",
     "shell.execute_reply": "2024-08-17T11:11:09.300994Z"
    },
    "slideshow": {
     "slide_type": "slide"
    },
    "tags": [
     "raises-exception"
    ]
   },
   "outputs": [
    {
     "name": "stdout",
     "output_type": "stream",
     "text": [
      "Row(ind=1, company='Tesla', model='Model S')\n",
      "Row(ind=2, company='Tesla', model='Model 3')\n"
     ]
    }
   ],
   "source": [
    "# More specific query\n",
    "prepared_statement = session.prepare(\"SELECT * FROM my_first_table WHERE company=? ALLOW FILTERING;\")\n",
    "teslas = session.execute(prepared_statement, ['Tesla'])\n",
    "for i in teslas:\n",
    "    print(i)"
   ]
  },
  {
   "cell_type": "markdown",
   "metadata": {
    "slideshow": {
     "slide_type": "slide"
    }
   },
   "source": [
    "## Cassandra filtering\n",
    "Cassandra is inherently a distributed production database. Selecting as above may require downloading all data from a node, then filtering based on the WHERE part (only PRIMARY KEYs are centrally known). Solutions:  \n",
    "- If the table is small or most of the data will satisfy the query, add ```ALLOW FILTERING``` at the end of the query (not recommended if not known). \n",
    "- Or make sure the WHERE clause points to one of the keys (see below)."
   ]
  },
  {
   "cell_type": "code",
   "execution_count": 8,
   "metadata": {
    "ExecuteTime": {
     "end_time": "2024-08-17T10:25:35.613711Z",
     "start_time": "2024-08-17T10:25:35.403622Z"
    },
    "execution": {
     "iopub.execute_input": "2024-08-17T11:11:09.302558Z",
     "iopub.status.busy": "2024-08-17T11:11:09.302476Z",
     "iopub.status.idle": "2024-08-17T11:11:09.681406Z",
     "shell.execute_reply": "2024-08-17T11:11:09.680793Z"
    },
    "slideshow": {
     "slide_type": "slide"
    }
   },
   "outputs": [
    {
     "data": {
      "text/plain": [
       "<cassandra.cluster.ResultSet at 0x109f4f0b0>"
      ]
     },
     "execution_count": 8,
     "metadata": {},
     "output_type": "execute_result"
    }
   ],
   "source": [
    "# Create a new table (observe keys)\n",
    "session.execute(\"DROP TABLE IF EXISTS my_first_keyspace.car_table;\")\n",
    "session.execute(\"CREATE TABLE IF NOT EXISTS car_table (company text, model text, PRIMARY KEY(company, model));\")"
   ]
  },
  {
   "cell_type": "code",
   "execution_count": 9,
   "metadata": {
    "ExecuteTime": {
     "end_time": "2024-08-17T10:25:35.628950Z",
     "start_time": "2024-08-17T10:25:35.615126Z"
    },
    "execution": {
     "iopub.execute_input": "2024-08-17T11:11:09.684494Z",
     "iopub.status.busy": "2024-08-17T11:11:09.684140Z",
     "iopub.status.idle": "2024-08-17T11:11:09.699387Z",
     "shell.execute_reply": "2024-08-17T11:11:09.699059Z"
    },
    "slideshow": {
     "slide_type": "fragment"
    }
   },
   "outputs": [
    {
     "data": {
      "text/plain": [
       "<cassandra.cluster.ResultSet at 0x109f58740>"
      ]
     },
     "execution_count": 9,
     "metadata": {},
     "output_type": "execute_result"
    }
   ],
   "source": [
    "# Insert some data (combination of company and model must be unique)\n",
    "session.execute(\"INSERT INTO car_table (company, model) VALUES ('Tesla', 'Model S');\")\n",
    "session.execute(\"INSERT INTO car_table (company, model) VALUES ('Tesla', 'Model 3');\")\n",
    "session.execute(\"INSERT INTO car_table (company, model) VALUES ('Polestar', '3');\")\n",
    "session.execute(\"INSERT INTO car_table (company, model) VALUES ('Volkswagen', 'ID.4');\")"
   ]
  },
  {
   "cell_type": "code",
   "execution_count": 10,
   "metadata": {
    "ExecuteTime": {
     "end_time": "2024-08-17T10:25:35.639765Z",
     "start_time": "2024-08-17T10:25:35.630657Z"
    },
    "execution": {
     "iopub.execute_input": "2024-08-17T11:11:09.700798Z",
     "iopub.status.busy": "2024-08-17T11:11:09.700701Z",
     "iopub.status.idle": "2024-08-17T11:11:09.709531Z",
     "shell.execute_reply": "2024-08-17T11:11:09.709308Z"
    },
    "slideshow": {
     "slide_type": "slide"
    }
   },
   "outputs": [
    {
     "name": "stdout",
     "output_type": "stream",
     "text": [
      "Row(company='Tesla', model='Model 3')\n",
      "Row(company='Tesla', model='Model S')\n"
     ]
    }
   ],
   "source": [
    "# More specific query now works\n",
    "prepared_statement = session.prepare(\"SELECT * FROM car_table WHERE company=?;\")\n",
    "teslas = session.execute(prepared_statement, ['Tesla'])\n",
    "for i in teslas:\n",
    "    print(i)"
   ]
  },
  {
   "cell_type": "markdown",
   "metadata": {
    "slideshow": {
     "slide_type": "slide"
    }
   },
   "source": [
    "### Partitions\n",
    "- Cassandra databases are usually replicated over different nodes.\n",
    "- Data is stored in partitions (subsets) which have local copys.\n",
    "- The primary key, e.g., PRIMARY KEY(company, model), is used in partitioning.\n",
    "    - The first part, e.g., company, is most important.\n",
    "    - All cars from a company will be located together, aiming for quicker queries."
   ]
  },
  {
   "cell_type": "markdown",
   "metadata": {
    "slideshow": {
     "slide_type": "slide"
    }
   },
   "source": [
    "### Unique IDs \n",
    "- In MySQL one could use the attribute AUTO_INCREMENT on integer IDs to automatically make a new unique index when inserting data.\n",
    "- This would cause unreasonable overhead in a distributed database.\n",
    "- [UUID](https://en.wikipedia.org/wiki/Universally_unique_identifier)s are used instead.\n",
    "    - Universally Unique Identifiers are typically 128-bit random bit sequences with extremely low probability of duplication.\n",
    "    - Cassandra uses a [timeuuid](https://docs.datastax.com/en/cql-oss/3.3/cql/cql_reference/timeuuid_functions_r.html) type to combine a timestamp and uuid in one."
   ]
  },
  {
   "cell_type": "code",
   "execution_count": 11,
   "metadata": {
    "ExecuteTime": {
     "end_time": "2024-08-17T10:25:35.766003Z",
     "start_time": "2024-08-17T10:25:35.640600Z"
    },
    "execution": {
     "iopub.execute_input": "2024-08-17T11:11:09.711042Z",
     "iopub.status.busy": "2024-08-17T11:11:09.710948Z",
     "iopub.status.idle": "2024-08-17T11:11:09.918355Z",
     "shell.execute_reply": "2024-08-17T11:11:09.917815Z"
    },
    "slideshow": {
     "slide_type": "fragment"
    }
   },
   "outputs": [
    {
     "data": {
      "text/plain": [
       "<cassandra.cluster.ResultSet at 0x1089b9f70>"
      ]
     },
     "execution_count": 11,
     "metadata": {},
     "output_type": "execute_result"
    }
   ],
   "source": [
    "# Create a new table (first time only)\n",
    "session.set_keyspace('my_first_keyspace')\n",
    "session.execute(\"DROP TABLE IF EXISTS my_first_keyspace.table_with_uuid;\")\n",
    "session.execute(\"CREATE TABLE IF NOT EXISTS table_with_uuid (id timeuuid PRIMARY KEY, company text, model text, price float);\")"
   ]
  },
  {
   "cell_type": "code",
   "execution_count": 12,
   "metadata": {
    "ExecuteTime": {
     "end_time": "2024-08-17T10:25:35.784876Z",
     "start_time": "2024-08-17T10:25:35.766619Z"
    },
    "execution": {
     "iopub.execute_input": "2024-08-17T11:11:09.923981Z",
     "iopub.status.busy": "2024-08-17T11:11:09.923698Z",
     "iopub.status.idle": "2024-08-17T11:11:09.934475Z",
     "shell.execute_reply": "2024-08-17T11:11:09.934197Z"
    },
    "slideshow": {
     "slide_type": "slide"
    }
   },
   "outputs": [
    {
     "data": {
      "text/plain": [
       "<cassandra.cluster.ResultSet at 0x109f58a40>"
      ]
     },
     "execution_count": 12,
     "metadata": {},
     "output_type": "execute_result"
    }
   ],
   "source": [
    "session.execute(\"INSERT INTO table_with_uuid (id, company, model, price) VALUES (now(), 'Tesla', 'Model S', 20000.0);\")\n",
    "session.execute(\"INSERT INTO table_with_uuid (id, company, model, price) VALUES (now(), 'Tesla', 'Model S', 21000.0);\")\n",
    "session.execute(\"INSERT INTO table_with_uuid (id, company, model, price) VALUES (now(), 'Oldsmobile', 'Model 6C', 135000.0);\")"
   ]
  },
  {
   "cell_type": "code",
   "execution_count": 13,
   "metadata": {
    "ExecuteTime": {
     "end_time": "2024-08-17T10:25:35.792934Z",
     "start_time": "2024-08-17T10:25:35.785467Z"
    },
    "execution": {
     "iopub.execute_input": "2024-08-17T11:11:09.935912Z",
     "iopub.status.busy": "2024-08-17T11:11:09.935798Z",
     "iopub.status.idle": "2024-08-17T11:11:09.942858Z",
     "shell.execute_reply": "2024-08-17T11:11:09.942654Z"
    },
    "slideshow": {
     "slide_type": "slide"
    }
   },
   "outputs": [
    {
     "name": "stdout",
     "output_type": "stream",
     "text": [
      "Row(id=UUID('68249e80-5c89-11ef-86c7-91f3fe524b78'), company='Tesla', model='Model S', price=21000.0)\n",
      "Datetime: 2024-08-17 11:11:09.928000\n",
      "Row(id=UUID('6824eca0-5c89-11ef-86c7-91f3fe524b78'), company='Oldsmobile', model='Model 6C', price=135000.0)\n",
      "Datetime: 2024-08-17 11:11:09.930000\n",
      "Row(id=UUID('68245060-5c89-11ef-86c7-91f3fe524b78'), company='Tesla', model='Model S', price=20000.0)\n",
      "Datetime: 2024-08-17 11:11:09.926000\n"
     ]
    }
   ],
   "source": [
    "from cassandra.util import datetime_from_uuid1\n",
    "\n",
    "# Query the data\n",
    "rows = session.execute(\"SELECT * FROM table_with_uuid;\")\n",
    "for i in rows:\n",
    "    print(i)\n",
    "    # Extract the timestamp from Cassandra's timeuuid\n",
    "    print(\"Datetime:\", datetime_from_uuid1(i.id))"
   ]
  },
  {
   "cell_type": "markdown",
   "metadata": {
    "slideshow": {
     "slide_type": "slide"
    }
   },
   "source": [
    "## JSON in Cassandra\n",
    "### Read previously saved JSON file forecast.json to memory"
   ]
  },
  {
   "cell_type": "code",
   "execution_count": 14,
   "metadata": {
    "ExecuteTime": {
     "end_time": "2024-08-17T10:25:35.796049Z",
     "start_time": "2024-08-17T10:25:35.793437Z"
    },
    "execution": {
     "iopub.execute_input": "2024-08-17T11:11:09.944080Z",
     "iopub.status.busy": "2024-08-17T11:11:09.943989Z",
     "iopub.status.idle": "2024-08-17T11:11:09.946114Z",
     "shell.execute_reply": "2024-08-17T11:11:09.945914Z"
    },
    "slideshow": {
     "slide_type": "-"
    }
   },
   "outputs": [],
   "source": [
    "import json\n",
    "with open('../3_APIs/downloads/forecast.json', 'r') as f:\n",
    "    forecast = json.load(f)"
   ]
  },
  {
   "cell_type": "code",
   "execution_count": 15,
   "metadata": {
    "ExecuteTime": {
     "end_time": "2024-08-17T10:25:35.799114Z",
     "start_time": "2024-08-17T10:25:35.796532Z"
    },
    "execution": {
     "iopub.execute_input": "2024-08-17T11:11:09.947281Z",
     "iopub.status.busy": "2024-08-17T11:11:09.947207Z",
     "iopub.status.idle": "2024-08-17T11:11:09.949379Z",
     "shell.execute_reply": "2024-08-17T11:11:09.949167Z"
    },
    "slideshow": {
     "slide_type": "slide"
    }
   },
   "outputs": [
    {
     "data": {
      "text/plain": [
       "\"{'cod': '200', 'message': 0, 'cnt': 40, 'list': [{'dt': 1723896000, 'main': {'temp': 289.87, 'feels_like': 289.5, 'temp_min': 289.87, 'temp_max': 291.68, 'pressure': 1005, 'sea_level': 1005, 'grnd_level': 950, 'humidity': 73, 'temp_kf': -1.81}, 'weather': [{'id': 803, 'main': 'Clouds', 'description': 'broken clouds', 'icon': '04d'}], 'clouds': {'all': 66}, 'wind': {'speed': 3.81, 'deg': 242, 'gust': 6.15}, 'visibility': 10000, 'pop': 0, 'sys': {'pod': 'd'}, 'dt_txt': '2024-08-17 12:00:00'}, {'dt': 1723906800, 'main': {'temp': 290.86, 'feels_like': 290.36, 'temp_min': 290.86, 'temp_max': 292.84, 'pressure': 1005, 'sea_level': 1005, 'grnd_level': 949, 'humidity': 64, 'temp_kf': -1.98}, 'weather': [{'id': 803, 'main': 'Clouds', 'description': 'broken clouds', 'icon': '04d'}], 'clouds': {'all': 74}, 'wind': {'speed': 3.8, 'deg': 237, 'gust': 6.19}, 'visibility': 10000, 'pop': 0, 'sys': {'pod': 'd'}, 'dt_txt': '2024-08-17 15:00:00'}, {'dt': 1723917600, 'main': {'temp': 289.38, 'feels_like': 288.78, 'temp_min': 289.14, 'temp_max': 289.38, 'pressure': 1005, 'sea_level': 1005, 'grnd_level': 949, 'humidity': 66, 'temp_kf': 0.24}, 'weather': [{'id': 803, 'main': 'Clouds', 'description': 'broken clouds', 'icon': '04d'}], 'clouds': {'all': 57}, 'wind': {'speed': 1.44, 'deg': 227, 'gust': 1.13}, 'visibility': 10000, 'pop': 0, 'sys': {'pod': 'd'}, 'dt_txt': '2024-08-17 18:00:00'}, {'dt': 1723928400, 'main': {'temp': 284.72, 'feels_like': 283.89, 'temp_min': 284.72, 'temp_max': 284.72, 'pressure': 1006, 'sea_level': 1006, 'grnd_level': 950, 'humidity': 75, 'temp_kf': 0}, 'weather': [{'id': 801, 'main': 'Clouds', 'description': 'few clouds', 'icon': '02n'}], 'clouds': {'all': 12}, 'wind': {'speed': 1.94, 'deg': 285, 'gust': 1.58}, 'visibility': 10000, 'pop': 0, 'sys': {'pod': 'n'}, 'dt_txt': '2024-08-17 21:00:00'}, {'dt': 1723939200, 'main': {'temp': 283.54, 'feels_like': 282.67, 'temp_min': 283.54, 'temp_max': 283.54, 'pressure': 1006, 'sea_level': 1006, 'grnd_level': 949, 'humidity': 78, 'temp_kf': 0}, 'weather': [{'id': 802, 'main': 'Clouds', 'description': 'scattered clouds', 'icon': '03n'}], 'clouds': {'all': 39}, 'wind': {'speed': 1.78, 'deg': 292, 'gust': 1.44}, 'visibility': 10000, 'pop': 0, 'sys': {'pod': 'n'}, 'dt_txt': '2024-08-18 00:00:00'}, {'dt': 1723950000, 'main': {'temp': 283.16, 'feels_like': 282.31, 'temp_min': 283.16, 'temp_max': 283.16, 'pressure': 1005, 'sea_level': 1005, 'grnd_level': 948, 'humidity': 80, 'temp_kf': 0}, 'weather': [{'id': 804, 'main': 'Clouds', 'description': 'overcast clouds', 'icon': '04n'}], 'clouds': {'all': 90}, 'wind': {'speed': 1.11, 'deg': 276, 'gust': 1.02}, 'visibility': 10000, 'pop': 0, 'sys': {'pod': 'n'}, 'dt_txt': '2024-08-18 03:00:00'}, {'dt': 1723960800, 'main': {'temp': 285.36, 'feels_like': 284.52, 'temp_min': 285.36, 'temp_max': 285.36, 'pressure': 1004, 'sea_level': 1004, 'grnd_level': 948, 'humidity': 72, 'temp_kf': 0}, 'weather': [{'id': 804, 'main': 'Clouds', 'description': 'overcast clouds', 'icon': '04d'}], 'clouds': {'all': 95}, 'wind': {'speed': 0.83, 'deg': 239, 'gust': 1.29}, 'visibility': 10000, 'pop': 0, 'sys': {'pod': 'd'}, 'dt_txt': '2024-08-18 06:00:00'}, {'dt': 1723971600, 'main': {'temp': 290.55, 'feels_like': 289.65, 'temp_min': 290.55, 'temp_max': 290.55, 'pressure': 1003, 'sea_level': 1003, 'grnd_level': 948, 'humidity': 50, 'temp_kf': 0}, 'weather': [{'id': 803, 'main': 'Clouds', 'description': 'broken clouds', 'icon': '04d'}], 'clouds': {'all': 51}, 'wind': {'speed': 2.09, 'deg': 195, 'gust': 3.73}, 'visibility': 10000, 'pop': 0, 'sys': {'pod': 'd'}, 'dt_txt': '2024-08-18 09:00:00'}, {'dt': 1723982400, 'main': {'temp': 292.11, 'feels_like': 291.21, 'temp_min': 292.11, 'temp_max': 292.11, 'pressure': 1003, 'sea_level': 1003, 'grnd_level': 948, 'humidity': 44, 'temp_kf': 0}, 'weather': [{'id': 803, 'main': 'Clouds', 'description': 'broken clouds', 'icon': '04d'}], 'clouds': {'all': 71}, 'wind': {'speed': 4.1, 'deg': 217, 'gust': 6.25}, 'visibility': 10000, 'pop': 0, 'sys': {'pod': 'd'}, 'dt_txt': '2024-08-18 12:00:00'}, {'dt': 1723993200, 'main': {'temp': 289.89, 'feels_like': 289.26, 'temp_min': 289.89, 'temp_max': 289.89, 'pressure': 1002, 'sea_level': 1002, 'grnd_level': 946, 'humidity': 63, 'temp_kf': 0}, 'weather': [{'id': 500, 'main': 'Rain', 'description': 'light rain', 'icon': '10d'}], 'clouds': {'all': 98}, 'wind': {'speed': 2.72, 'deg': 206, 'gust': 5.48}, 'visibility': 10000, 'pop': 0.2, 'rain': {'3h': 0.11}, 'sys': {'pod': 'd'}, 'dt_txt': '2024-08-18 15:00:00'}, {'dt': 1724004000, 'main': {'temp': 287.8, 'feels_like': 287.28, 'temp_min': 287.8, 'temp_max': 287.8, 'pressure': 1002, 'sea_level': 1002, 'grnd_level': 947, 'humidity': 75, 'temp_kf': 0}, 'weather': [{'id': 500, 'main': 'Rain', 'description': 'light rain', 'icon': '10d'}], 'clouds': {'all': 82}, 'wind': {'speed': 1.43, 'deg': 246, 'gust': 3.07}, 'visibility': 10000, 'pop': 0.29, 'rain': {'3h': 0.39}, 'sys': {'pod': 'd'}, 'dt_txt': '2024-08-18 18:00:00'}, {'dt': 1724014800, 'main': {'temp': 283.23, 'feels_like': 282.51, 'temp_min': 283.23, 'temp_max': 283.23, 'pressure': 1004, 'sea_level': 1004, 'grnd_level': 948, 'humidity': 85, 'temp_kf': 0}, 'weather': [{'id': 800, 'main': 'Clear', 'description': 'clear sky', 'icon': '01n'}], 'clouds': {'all': 2}, 'wind': {'speed': 2.18, 'deg': 280, 'gust': 1.98}, 'visibility': 10000, 'pop': 0, 'sys': {'pod': 'n'}, 'dt_txt': '2024-08-18 21:00:00'}, {'dt': 1724025600, 'main': {'temp': 281.7, 'feels_like': 280.28, 'temp_min': 281.7, 'temp_max': 281.7, 'pressure': 1007, 'sea_level': 1007, 'grnd_level': 949, 'humidity': 84, 'temp_kf': 0}, 'weather': [{'id': 800, 'main': 'Clear', 'description': 'clear sky', 'icon': '01n'}], 'clouds': {'all': 1}, 'wind': {'speed': 2.47, 'deg': 283, 'gust': 2.37}, 'visibility': 10000, 'pop': 0, 'sys': {'pod': 'n'}, 'dt_txt': '2024-08-19 00:00:00'}, {'dt': 1724036400, 'main': {'temp': 280.63, 'feels_like': 279.03, 'temp_min': 280.63, 'temp_max': 280.63, 'pressure': 1009, 'sea_level': 1009, 'grnd_level': 951, 'humidity': 83, 'temp_kf': 0}, 'weather': [{'id': 800, 'main': 'Clear', 'description': 'clear sky', 'icon': '01n'}], 'clouds': {'all': 3}, 'wind': {'speed': 2.45, 'deg': 283, 'gust': 2.43}, 'visibility': 10000, 'pop': 0, 'sys': {'pod': 'n'}, 'dt_txt': '2024-08-19 03:00:00'}, {'dt': 1724047200, 'main': {'temp': 284.26, 'feels_like': 283.2, 'temp_min': 284.26, 'temp_max': 284.26, 'pressure': 1010, 'sea_level': 1010, 'grnd_level': 953, 'humidity': 68, 'temp_kf': 0}, 'weather': [{'id': 800, 'main': 'Clear', 'description': 'clear sky', 'icon': '01d'}], 'clouds': {'all': 7}, 'wind': {'speed': 1.86, 'deg': 280, 'gust': 2.81}, 'visibility': 10000, 'pop': 0, 'sys': {'pod': 'd'}, 'dt_txt': '2024-08-19 06:00:00'}, {'dt': 1724058000, 'main': {'temp': 290.06, 'feels_like': 288.93, 'temp_min': 290.06, 'temp_max': 290.06, 'pressure': 1010, 'sea_level': 1010, 'grnd_level': 954, 'humidity': 43, 'temp_kf': 0}, 'weather': [{'id': 801, 'main': 'Clouds', 'description': 'few clouds', 'icon': '02d'}], 'clouds': {'all': 11}, 'wind': {'speed': 1.68, 'deg': 258, 'gust': 3.46}, 'visibility': 10000, 'pop': 0, 'sys': {'pod': 'd'}, 'dt_txt': '2024-08-19 09:00:00'}, {'dt': 1724068800, 'main': {'temp': 293.31, 'feels_like': 292.32, 'temp_min': 293.31, 'temp_max': 293.31, 'pressure': 1010, 'sea_level': 1010, 'grnd_level': 955, 'humidity': 36, 'temp_kf': 0}, 'weather': [{'id': 801, 'main': 'Clouds', 'description': 'few clouds', 'icon': '02d'}], 'clouds': {'all': 15}, 'wind': {'speed': 1.73, 'deg': 215, 'gust': 2.94}, 'visibility': 10000, 'pop': 0, 'sys': {'pod': 'd'}, 'dt_txt': '2024-08-19 12:00:00'}, {'dt': 1724079600, 'main': {'temp': 293.59, 'feels_like': 292.68, 'temp_min': 293.59, 'temp_max': 293.59, 'pressure': 1010, 'sea_level': 1010, 'grnd_level': 954, 'humidity': 38, 'temp_kf': 0}, 'weather': [{'id': 803, 'main': 'Clouds', 'description': 'broken clouds', 'icon': '04d'}], 'clouds': {'all': 70}, 'wind': {'speed': 2.34, 'deg': 178, 'gust': 3.08}, 'visibility': 10000, 'pop': 0, 'sys': {'pod': 'd'}, 'dt_txt': '2024-08-19 15:00:00'}, {'dt': 1724090400, 'main': {'temp': 289.1, 'feels_like': 288.42, 'temp_min': 289.1, 'temp_max': 289.1, 'pressure': 1010, 'sea_level': 1010, 'grnd_level': 955, 'humidity': 64, 'temp_kf': 0}, 'weather': [{'id': 803, 'main': 'Clouds', 'description': 'broken clouds', 'icon': '04d'}], 'clouds': {'all': 60}, 'wind': {'speed': 1.77, 'deg': 155, 'gust': 3.03}, 'visibility': 10000, 'pop': 0, 'sys': {'pod': 'd'}, 'dt_txt': '2024-08-19 18:00:00'}, {'dt': 1724101200, 'main': {'temp': 285.33, 'feels_like': 284.67, 'temp_min': 285.33, 'temp_max': 285.33, 'pressure': 1011, 'sea_level': 1011, 'grnd_level': 955, 'humidity': 79, 'temp_kf': 0}, 'weather': [{'id': 804, 'main': 'Clouds', 'description': 'overcast clouds', 'icon': '04n'}], 'clouds': {'all': 100}, 'wind': {'speed': 0.2, 'deg': 174, 'gust': 0.34}, 'visibility': 10000, 'pop': 0, 'sys': {'pod': 'n'}, 'dt_txt': '2024-08-19 21:00:00'}, {'dt': 1724112000, 'main': {'temp': 285.08, 'feels_like': 284.6, 'temp_min': 285.08, 'temp_max': 285.08, 'pressure': 1010, 'sea_level': 1010, 'grnd_level': 954, 'humidity': 87, 'temp_kf': 0}, 'weather': [{'id': 804, 'main': 'Clouds', 'description': 'overcast clouds', 'icon': '04n'}], 'clouds': {'all': 100}, 'wind': {'speed': 0.92, 'deg': 137, 'gust': 0.82}, 'visibility': 10000, 'pop': 0, 'sys': {'pod': 'n'}, 'dt_txt': '2024-08-20 00:00:00'}, {'dt': 1724122800, 'main': {'temp': 283.45, 'feels_like': 283.09, 'temp_min': 283.45, 'temp_max': 283.45, 'pressure': 1010, 'sea_level': 1010, 'grnd_level': 953, 'humidity': 98, 'temp_kf': 0}, 'weather': [{'id': 804, 'main': 'Clouds', 'description': 'overcast clouds', 'icon': '04n'}], 'clouds': {'all': 100}, 'wind': {'speed': 1.39, 'deg': 159, 'gust': 2.71}, 'visibility': 9213, 'pop': 0, 'sys': {'pod': 'n'}, 'dt_txt': '2024-08-20 03:00:00'}, {'dt': 1724133600, 'main': {'temp': 285.03, 'feels_like': 284.73, 'temp_min': 285.03, 'temp_max': 285.03, 'pressure': 1010, 'sea_level': 1010, 'grnd_level': 953, 'humidity': 94, 'temp_kf': 0}, 'weather': [{'id': 500, 'main': 'Rain', 'description': 'light rain', 'icon': '10d'}], 'clouds': {'all': 100}, 'wind': {'speed': 1.58, 'deg': 133, 'gust': 4.19}, 'visibility': 10000, 'pop': 0.2, 'rain': {'3h': 0.2}, 'sys': {'pod': 'd'}, 'dt_txt': '2024-08-20 06:00:00'}, {'dt': 1724144400, 'main': {'temp': 286.59, 'feels_like': 286.57, 'temp_min': 286.59, 'temp_max': 286.59, 'pressure': 1009, 'sea_level': 1009, 'grnd_level': 952, 'humidity': 99, 'temp_kf': 0}, 'weather': [{'id': 500, 'main': 'Rain', 'description': 'light rain', 'icon': '10d'}], 'clouds': {'all': 100}, 'wind': {'speed': 2.64, 'deg': 143, 'gust': 10.92}, 'visibility': 3997, 'pop': 1, 'rain': {'3h': 0.8}, 'sys': {'pod': 'd'}, 'dt_txt': '2024-08-20 09:00:00'}, {'dt': 1724155200, 'main': {'temp': 288.12, 'feels_like': 288.18, 'temp_min': 288.12, 'temp_max': 288.12, 'pressure': 1008, 'sea_level': 1008, 'grnd_level': 952, 'humidity': 96, 'temp_kf': 0}, 'weather': [{'id': 500, 'main': 'Rain', 'description': 'light rain', 'icon': '10d'}], 'clouds': {'all': 100}, 'wind': {'speed': 4.16, 'deg': 158, 'gust': 12.99}, 'visibility': 10000, 'pop': 1, 'rain': {'3h': 0.2}, 'sys': {'pod': 'd'}, 'dt_txt': '2024-08-20 12:00:00'}, {'dt': 1724166000, 'main': {'temp': 288.21, 'feels_like': 288.33, 'temp_min': 288.21, 'temp_max': 288.21, 'pressure': 1008, 'sea_level': 1008, 'grnd_level': 952, 'humidity': 98, 'temp_kf': 0}, 'weather': [{'id': 500, 'main': 'Rain', 'description': 'light rain', 'icon': '10d'}], 'clouds': {'all': 100}, 'wind': {'speed': 3.17, 'deg': 164, 'gust': 9.29}, 'visibility': 10000, 'pop': 0.71, 'rain': {'3h': 0.31}, 'sys': {'pod': 'd'}, 'dt_txt': '2024-08-20 15:00:00'}, {'dt': 1724176800, 'main': {'temp': 288.27, 'feels_like': 288.42, 'temp_min': 288.27, 'temp_max': 288.27, 'pressure': 1008, 'sea_level': 1008, 'grnd_level': 952, 'humidity': 99, 'temp_kf': 0}, 'weather': [{'id': 500, 'main': 'Rain', 'description': 'light rain', 'icon': '10d'}], 'clouds': {'all': 100}, 'wind': {'speed': 1.97, 'deg': 142, 'gust': 5.86}, 'visibility': 5381, 'pop': 0.46, 'rain': {'3h': 0.24}, 'sys': {'pod': 'd'}, 'dt_txt': '2024-08-20 18:00:00'}, {'dt': 1724187600, 'main': {'temp': 287.98, 'feels_like': 288.13, 'temp_min': 287.98, 'temp_max': 287.98, 'pressure': 1007, 'sea_level': 1007, 'grnd_level': 951, 'humidity': 100, 'temp_kf': 0}, 'weather': [{'id': 500, 'main': 'Rain', 'description': 'light rain', 'icon': '10n'}], 'clouds': {'all': 100}, 'wind': {'speed': 1.38, 'deg': 120, 'gust': 3.76}, 'pop': 1, 'rain': {'3h': 0.49}, 'sys': {'pod': 'n'}, 'dt_txt': '2024-08-20 21:00:00'}, {'dt': 1724198400, 'main': {'temp': 287.81, 'feels_like': 287.92, 'temp_min': 287.81, 'temp_max': 287.81, 'pressure': 1005, 'sea_level': 1005, 'grnd_level': 950, 'humidity': 99, 'temp_kf': 0}, 'weather': [{'id': 501, 'main': 'Rain', 'description': 'moderate rain', 'icon': '10n'}], 'clouds': {'all': 100}, 'wind': {'speed': 2.37, 'deg': 140, 'gust': 8.22}, 'visibility': 1554, 'pop': 1, 'rain': {'3h': 3.24}, 'sys': {'pod': 'n'}, 'dt_txt': '2024-08-21 00:00:00'}, {'dt': 1724209200, 'main': {'temp': 287.3, 'feels_like': 287.36, 'temp_min': 287.3, 'temp_max': 287.3, 'pressure': 1003, 'sea_level': 1003, 'grnd_level': 947, 'humidity': 99, 'temp_kf': 0}, 'weather': [{'id': 500, 'main': 'Rain', 'description': 'light rain', 'icon': '10n'}], 'clouds': {'all': 100}, 'wind': {'speed': 2.25, 'deg': 127, 'gust': 7.82}, 'visibility': 6896, 'pop': 1, 'rain': {'3h': 1.69}, 'sys': {'pod': 'n'}, 'dt_txt': '2024-08-21 03:00:00'}, {'dt': 1724220000, 'main': {'temp': 287.48, 'feels_like': 287.58, 'temp_min': 287.48, 'temp_max': 287.48, 'pressure': 1000, 'sea_level': 1000, 'grnd_level': 945, 'humidity': 100, 'temp_kf': 0}, 'weather': [{'id': 501, 'main': 'Rain', 'description': 'moderate rain', 'icon': '10d'}], 'clouds': {'all': 100}, 'wind': {'speed': 0.82, 'deg': 84, 'gust': 2.14}, 'visibility': 237, 'pop': 1, 'rain': {'3h': 9.87}, 'sys': {'pod': 'd'}, 'dt_txt': '2024-08-21 06:00:00'}, {'dt': 1724230800, 'main': {'temp': 287.27, 'feels_like': 287.3, 'temp_min': 287.27, 'temp_max': 287.27, 'pressure': 999, 'sea_level': 999, 'grnd_level': 944, 'humidity': 98, 'temp_kf': 0}, 'weather': [{'id': 502, 'main': 'Rain', 'description': 'heavy intensity rain', 'icon': '10d'}], 'clouds': {'all': 100}, 'wind': {'speed': 1.63, 'deg': 282, 'gust': 2.01}, 'visibility': 4526, 'pop': 1, 'rain': {'3h': 21.02}, 'sys': {'pod': 'd'}, 'dt_txt': '2024-08-21 09:00:00'}, {'dt': 1724241600, 'main': {'temp': 287.12, 'feels_like': 287.05, 'temp_min': 287.12, 'temp_max': 287.12, 'pressure': 999, 'sea_level': 999, 'grnd_level': 944, 'humidity': 95, 'temp_kf': 0}, 'weather': [{'id': 500, 'main': 'Rain', 'description': 'light rain', 'icon': '10d'}], 'clouds': {'all': 100}, 'wind': {'speed': 0.94, 'deg': 246, 'gust': 1.41}, 'visibility': 10000, 'pop': 1, 'rain': {'3h': 2.65}, 'sys': {'pod': 'd'}, 'dt_txt': '2024-08-21 12:00:00'}, {'dt': 1724252400, 'main': {'temp': 289.77, 'feels_like': 289.45, 'temp_min': 289.77, 'temp_max': 289.77, 'pressure': 998, 'sea_level': 998, 'grnd_level': 943, 'humidity': 75, 'temp_kf': 0}, 'weather': [{'id': 500, 'main': 'Rain', 'description': 'light rain', 'icon': '10d'}], 'clouds': {'all': 100}, 'wind': {'speed': 1.79, 'deg': 247, 'gust': 4.35}, 'visibility': 10000, 'pop': 0.96, 'rain': {'3h': 0.58}, 'sys': {'pod': 'd'}, 'dt_txt': '2024-08-21 15:00:00'}, {'dt': 1724263200, 'main': {'temp': 286.71, 'feels_like': 286.13, 'temp_min': 286.71, 'temp_max': 286.71, 'pressure': 999, 'sea_level': 999, 'grnd_level': 943, 'humidity': 77, 'temp_kf': 0}, 'weather': [{'id': 804, 'main': 'Clouds', 'description': 'overcast clouds', 'icon': '04d'}], 'clouds': {'all': 96}, 'wind': {'speed': 2.65, 'deg': 268, 'gust': 4.43}, 'visibility': 10000, 'pop': 0.56, 'sys': {'pod': 'd'}, 'dt_txt': '2024-08-21 18:00:00'}, {'dt': 1724274000, 'main': {'temp': 282.77, 'feels_like': 281.13, 'temp_min': 282.77, 'temp_max': 282.77, 'pressure': 1001, 'sea_level': 1001, 'grnd_level': 945, 'humidity': 75, 'temp_kf': 0}, 'weather': [{'id': 800, 'main': 'Clear', 'description': 'clear sky', 'icon': '01n'}], 'clouds': {'all': 10}, 'wind': {'speed': 3.13, 'deg': 282, 'gust': 5.59}, 'visibility': 10000, 'pop': 0, 'sys': {'pod': 'n'}, 'dt_txt': '2024-08-21 21:00:00'}, {'dt': 1724284800, 'main': {'temp': 280.66, 'feels_like': 279.2, 'temp_min': 280.66, 'temp_max': 280.66, 'pressure': 1004, 'sea_level': 1004, 'grnd_level': 946, 'humidity': 85, 'temp_kf': 0}, 'weather': [{'id': 800, 'main': 'Clear', 'description': 'clear sky', 'icon': '01n'}], 'clouds': {'all': 5}, 'wind': {'speed': 2.28, 'deg': 279, 'gust': 2.22}, 'visibility': 10000, 'pop': 0, 'sys': {'pod': 'n'}, 'dt_txt': '2024-08-22 00:00:00'}, {'dt': 1724295600, 'main': {'temp': 279.69, 'feels_like': 278.46, 'temp_min': 279.69, 'temp_max': 279.69, 'pressure': 1005, 'sea_level': 1005, 'grnd_level': 947, 'humidity': 87, 'temp_kf': 0}, 'weather': [{'id': 800, 'main': 'Clear', 'description': 'clear sky', 'icon': '01n'}], 'clouds': {'all': 1}, 'wind': {'speed': 1.85, 'deg': 284, 'gust': 1.49}, 'visibility': 10000, 'pop': 0, 'sys': {'pod': 'n'}, 'dt_txt': '2024-08-22 03:00:00'}, {'dt': 1724306400, 'main': {'temp': 282.72, 'feels_like': 282.72, 'temp_min': 282.72, 'temp_max': 282.72, 'pressure': 1004, 'sea_level': 1004, 'grnd_level': 948, 'humidity': 73, 'temp_kf': 0}, 'weather': [{'id': 802, 'main': 'Clouds', 'description': 'scattered clouds', 'icon': '03d'}], 'clouds': {'all': 37}, 'wind': {'speed': 0.95, 'deg': 259, 'gust': 1.33}, 'visibility': 10000, 'pop': 0, 'sys': {'pod': 'd'}, 'dt_txt': '2024-08-22 06:00:00'}, {'dt': 1724317200, 'main': {'temp': 286, 'feels_like': 284.86, 'temp_min': 286, 'temp_max': 286, 'pressure': 1004, 'sea_level': 1004, 'grnd_level': 947, 'humidity': 58, 'temp_kf': 0}, 'weather': [{'id': 804, 'main': 'Clouds', 'description': 'overcast clouds', 'icon': '04d'}], 'clouds': {'all': 100}, 'wind': {'speed': 2.32, 'deg': 177, 'gust': 3.02}, 'visibility': 10000, 'pop': 0, 'sys': {'pod': 'd'}, 'dt_txt': '2024-08-22 09:00:00'}], 'city': {'id': 3144113, 'name': 'Noresund', 'coord': {'lat': 60.1803, 'lon': 9.6231}, 'country': 'NO', 'population': 1000, 'timezone': 7200, 'sunrise': 1723866044, 'sunset': 1723921836}}\""
      ]
     },
     "execution_count": 15,
     "metadata": {},
     "output_type": "execute_result"
    }
   ],
   "source": [
    "# Inspect JSON file\n",
    "forecast.__str__()"
   ]
  },
  {
   "cell_type": "markdown",
   "metadata": {
    "slideshow": {
     "slide_type": "slide"
    }
   },
   "source": [
    "## Raw JSON\n",
    "- A simple, but not very efficient way of storing JSON data is to treat it as a text and save it directly to the database.  \n",
    "- More efficient, with regard to transfer, is to compress the JSON data to a blob first.\n",
    "    - Compression is automatic."
   ]
  },
  {
   "cell_type": "code",
   "execution_count": 16,
   "metadata": {
    "ExecuteTime": {
     "end_time": "2024-08-17T10:25:35.916537Z",
     "start_time": "2024-08-17T10:25:35.799572Z"
    },
    "execution": {
     "iopub.execute_input": "2024-08-17T11:11:09.950984Z",
     "iopub.status.busy": "2024-08-17T11:11:09.950913Z",
     "iopub.status.idle": "2024-08-17T11:11:10.145496Z",
     "shell.execute_reply": "2024-08-17T11:11:10.144832Z"
    },
    "slideshow": {
     "slide_type": "-"
    }
   },
   "outputs": [
    {
     "data": {
      "text/plain": [
       "<cassandra.cluster.ResultSet at 0x109119ac0>"
      ]
     },
     "execution_count": 16,
     "metadata": {},
     "output_type": "execute_result"
    }
   ],
   "source": [
    "# Create a new table which treats the whole JSON as a blob, using the city id and the first dt as keys\n",
    "session.set_keyspace('my_first_keyspace')\n",
    "session.execute(\"DROP TABLE IF EXISTS my_first_keyspace.forecast_table;\")\n",
    "session.execute(\"CREATE TABLE IF NOT EXISTS forecast_table (city_id int, dt int, forecast blob, PRIMARY KEY(city_id, dt));\")"
   ]
  },
  {
   "cell_type": "markdown",
   "metadata": {
    "slideshow": {
     "slide_type": "slide"
    }
   },
   "source": [
    "### Insert the forecast data into the table as text blob"
   ]
  },
  {
   "cell_type": "code",
   "execution_count": 17,
   "metadata": {
    "ExecuteTime": {
     "end_time": "2024-08-17T10:25:35.935855Z",
     "start_time": "2024-08-17T10:25:35.917175Z"
    },
    "execution": {
     "iopub.execute_input": "2024-08-17T11:11:10.148703Z",
     "iopub.status.busy": "2024-08-17T11:11:10.148303Z",
     "iopub.status.idle": "2024-08-17T11:11:10.155783Z",
     "shell.execute_reply": "2024-08-17T11:11:10.155541Z"
    },
    "slideshow": {
     "slide_type": "-"
    }
   },
   "outputs": [
    {
     "data": {
      "text/plain": [
       "<cassandra.cluster.ResultSet at 0x10823cb00>"
      ]
     },
     "execution_count": 17,
     "metadata": {},
     "output_type": "execute_result"
    }
   ],
   "source": [
    "session.execute(\"INSERT INTO forecast_table (city_id, dt, forecast) VALUES (%s, %s, textAsBlob(%s));\", (forecast['city']['id'], forecast['list'][0]['dt'], forecast.__str__()))"
   ]
  },
  {
   "cell_type": "code",
   "execution_count": 18,
   "metadata": {
    "ExecuteTime": {
     "end_time": "2024-08-17T10:25:35.946537Z",
     "start_time": "2024-08-17T10:25:35.938642Z"
    },
    "execution": {
     "iopub.execute_input": "2024-08-17T11:11:10.159331Z",
     "iopub.status.busy": "2024-08-17T11:11:10.159199Z",
     "iopub.status.idle": "2024-08-17T11:11:10.169987Z",
     "shell.execute_reply": "2024-08-17T11:11:10.169745Z"
    },
    "slideshow": {
     "slide_type": "slide"
    }
   },
   "outputs": [
    {
     "name": "stdout",
     "output_type": "stream",
     "text": [
      "Row(city_id=3144113, dt=1723896000, forecast=b\"{'cod': '200', 'message': 0, 'cnt': 40, 'list': [{'dt': 1723896000, 'main': {'temp': 289.87, 'feels_like': 289.5, 'temp_min': 289.87, 'temp_max': 291.68, 'pressure': 1005, 'sea_level': 1005, 'grnd_level': 950, 'humidity': 73, 'temp_kf': -1.81}, 'weather': [{'id': 803, 'main': 'Clouds', 'description': 'broken clouds', 'icon': '04d'}], 'clouds': {'all': 66}, 'wind': {'speed': 3.81, 'deg': 242, 'gust': 6.15}, 'visibility': 10000, 'pop': 0, 'sys': {'pod': 'd'}, 'dt_txt': '2024-08-17 12:00:00'}, {'dt': 1723906800, 'main': {'temp': 290.86, 'feels_like': 290.36, 'temp_min': 290.86, 'temp_max': 292.84, 'pressure': 1005, 'sea_level': 1005, 'grnd_level': 949, 'humidity': 64, 'temp_kf': -1.98}, 'weather': [{'id': 803, 'main': 'Clouds', 'description': 'broken clouds', 'icon': '04d'}], 'clouds': {'all': 74}, 'wind': {'speed': 3.8, 'deg': 237, 'gust': 6.19}, 'visibility': 10000, 'pop': 0, 'sys': {'pod': 'd'}, 'dt_txt': '2024-08-17 15:00:00'}, {'dt': 1723917600, 'main': {'temp': 289.38, 'feels_like': 288.78, 'temp_min': 289.14, 'temp_max': 289.38, 'pressure': 1005, 'sea_level': 1005, 'grnd_level': 949, 'humidity': 66, 'temp_kf': 0.24}, 'weather': [{'id': 803, 'main': 'Clouds', 'description': 'broken clouds', 'icon': '04d'}], 'clouds': {'all': 57}, 'wind': {'speed': 1.44, 'deg': 227, 'gust': 1.13}, 'visibility': 10000, 'pop': 0, 'sys': {'pod': 'd'}, 'dt_txt': '2024-08-17 18:00:00'}, {'dt': 1723928400, 'main': {'temp': 284.72, 'feels_like': 283.89, 'temp_min': 284.72, 'temp_max': 284.72, 'pressure': 1006, 'sea_level': 1006, 'grnd_level': 950, 'humidity': 75, 'temp_kf': 0}, 'weather': [{'id': 801, 'main': 'Clouds', 'description': 'few clouds', 'icon': '02n'}], 'clouds': {'all': 12}, 'wind': {'speed': 1.94, 'deg': 285, 'gust': 1.58}, 'visibility': 10000, 'pop': 0, 'sys': {'pod': 'n'}, 'dt_txt': '2024-08-17 21:00:00'}, {'dt': 1723939200, 'main': {'temp': 283.54, 'feels_like': 282.67, 'temp_min': 283.54, 'temp_max': 283.54, 'pressure': 1006, 'sea_level': 1006, 'grnd_level': 949, 'humidity': 78, 'temp_kf': 0}, 'weather': [{'id': 802, 'main': 'Clouds', 'description': 'scattered clouds', 'icon': '03n'}], 'clouds': {'all': 39}, 'wind': {'speed': 1.78, 'deg': 292, 'gust': 1.44}, 'visibility': 10000, 'pop': 0, 'sys': {'pod': 'n'}, 'dt_txt': '2024-08-18 00:00:00'}, {'dt': 1723950000, 'main': {'temp': 283.16, 'feels_like': 282.31, 'temp_min': 283.16, 'temp_max': 283.16, 'pressure': 1005, 'sea_level': 1005, 'grnd_level': 948, 'humidity': 80, 'temp_kf': 0}, 'weather': [{'id': 804, 'main': 'Clouds', 'description': 'overcast clouds', 'icon': '04n'}], 'clouds': {'all': 90}, 'wind': {'speed': 1.11, 'deg': 276, 'gust': 1.02}, 'visibility': 10000, 'pop': 0, 'sys': {'pod': 'n'}, 'dt_txt': '2024-08-18 03:00:00'}, {'dt': 1723960800, 'main': {'temp': 285.36, 'feels_like': 284.52, 'temp_min': 285.36, 'temp_max': 285.36, 'pressure': 1004, 'sea_level': 1004, 'grnd_level': 948, 'humidity': 72, 'temp_kf': 0}, 'weather': [{'id': 804, 'main': 'Clouds', 'description': 'overcast clouds', 'icon': '04d'}], 'clouds': {'all': 95}, 'wind': {'speed': 0.83, 'deg': 239, 'gust': 1.29}, 'visibility': 10000, 'pop': 0, 'sys': {'pod': 'd'}, 'dt_txt': '2024-08-18 06:00:00'}, {'dt': 1723971600, 'main': {'temp': 290.55, 'feels_like': 289.65, 'temp_min': 290.55, 'temp_max': 290.55, 'pressure': 1003, 'sea_level': 1003, 'grnd_level': 948, 'humidity': 50, 'temp_kf': 0}, 'weather': [{'id': 803, 'main': 'Clouds', 'description': 'broken clouds', 'icon': '04d'}], 'clouds': {'all': 51}, 'wind': {'speed': 2.09, 'deg': 195, 'gust': 3.73}, 'visibility': 10000, 'pop': 0, 'sys': {'pod': 'd'}, 'dt_txt': '2024-08-18 09:00:00'}, {'dt': 1723982400, 'main': {'temp': 292.11, 'feels_like': 291.21, 'temp_min': 292.11, 'temp_max': 292.11, 'pressure': 1003, 'sea_level': 1003, 'grnd_level': 948, 'humidity': 44, 'temp_kf': 0}, 'weather': [{'id': 803, 'main': 'Clouds', 'description': 'broken clouds', 'icon': '04d'}], 'clouds': {'all': 71}, 'wind': {'speed': 4.1, 'deg': 217, 'gust': 6.25}, 'visibility': 10000, 'pop': 0, 'sys': {'pod': 'd'}, 'dt_txt': '2024-08-18 12:00:00'}, {'dt': 1723993200, 'main': {'temp': 289.89, 'feels_like': 289.26, 'temp_min': 289.89, 'temp_max': 289.89, 'pressure': 1002, 'sea_level': 1002, 'grnd_level': 946, 'humidity': 63, 'temp_kf': 0}, 'weather': [{'id': 500, 'main': 'Rain', 'description': 'light rain', 'icon': '10d'}], 'clouds': {'all': 98}, 'wind': {'speed': 2.72, 'deg': 206, 'gust': 5.48}, 'visibility': 10000, 'pop': 0.2, 'rain': {'3h': 0.11}, 'sys': {'pod': 'd'}, 'dt_txt': '2024-08-18 15:00:00'}, {'dt': 1724004000, 'main': {'temp': 287.8, 'feels_like': 287.28, 'temp_min': 287.8, 'temp_max': 287.8, 'pressure': 1002, 'sea_level': 1002, 'grnd_level': 947, 'humidity': 75, 'temp_kf': 0}, 'weather': [{'id': 500, 'main': 'Rain', 'description': 'light rain', 'icon': '10d'}], 'clouds': {'all': 82}, 'wind': {'speed': 1.43, 'deg': 246, 'gust': 3.07}, 'visibility': 10000, 'pop': 0.29, 'rain': {'3h': 0.39}, 'sys': {'pod': 'd'}, 'dt_txt': '2024-08-18 18:00:00'}, {'dt': 1724014800, 'main': {'temp': 283.23, 'feels_like': 282.51, 'temp_min': 283.23, 'temp_max': 283.23, 'pressure': 1004, 'sea_level': 1004, 'grnd_level': 948, 'humidity': 85, 'temp_kf': 0}, 'weather': [{'id': 800, 'main': 'Clear', 'description': 'clear sky', 'icon': '01n'}], 'clouds': {'all': 2}, 'wind': {'speed': 2.18, 'deg': 280, 'gust': 1.98}, 'visibility': 10000, 'pop': 0, 'sys': {'pod': 'n'}, 'dt_txt': '2024-08-18 21:00:00'}, {'dt': 1724025600, 'main': {'temp': 281.7, 'feels_like': 280.28, 'temp_min': 281.7, 'temp_max': 281.7, 'pressure': 1007, 'sea_level': 1007, 'grnd_level': 949, 'humidity': 84, 'temp_kf': 0}, 'weather': [{'id': 800, 'main': 'Clear', 'description': 'clear sky', 'icon': '01n'}], 'clouds': {'all': 1}, 'wind': {'speed': 2.47, 'deg': 283, 'gust': 2.37}, 'visibility': 10000, 'pop': 0, 'sys': {'pod': 'n'}, 'dt_txt': '2024-08-19 00:00:00'}, {'dt': 1724036400, 'main': {'temp': 280.63, 'feels_like': 279.03, 'temp_min': 280.63, 'temp_max': 280.63, 'pressure': 1009, 'sea_level': 1009, 'grnd_level': 951, 'humidity': 83, 'temp_kf': 0}, 'weather': [{'id': 800, 'main': 'Clear', 'description': 'clear sky', 'icon': '01n'}], 'clouds': {'all': 3}, 'wind': {'speed': 2.45, 'deg': 283, 'gust': 2.43}, 'visibility': 10000, 'pop': 0, 'sys': {'pod': 'n'}, 'dt_txt': '2024-08-19 03:00:00'}, {'dt': 1724047200, 'main': {'temp': 284.26, 'feels_like': 283.2, 'temp_min': 284.26, 'temp_max': 284.26, 'pressure': 1010, 'sea_level': 1010, 'grnd_level': 953, 'humidity': 68, 'temp_kf': 0}, 'weather': [{'id': 800, 'main': 'Clear', 'description': 'clear sky', 'icon': '01d'}], 'clouds': {'all': 7}, 'wind': {'speed': 1.86, 'deg': 280, 'gust': 2.81}, 'visibility': 10000, 'pop': 0, 'sys': {'pod': 'd'}, 'dt_txt': '2024-08-19 06:00:00'}, {'dt': 1724058000, 'main': {'temp': 290.06, 'feels_like': 288.93, 'temp_min': 290.06, 'temp_max': 290.06, 'pressure': 1010, 'sea_level': 1010, 'grnd_level': 954, 'humidity': 43, 'temp_kf': 0}, 'weather': [{'id': 801, 'main': 'Clouds', 'description': 'few clouds', 'icon': '02d'}], 'clouds': {'all': 11}, 'wind': {'speed': 1.68, 'deg': 258, 'gust': 3.46}, 'visibility': 10000, 'pop': 0, 'sys': {'pod': 'd'}, 'dt_txt': '2024-08-19 09:00:00'}, {'dt': 1724068800, 'main': {'temp': 293.31, 'feels_like': 292.32, 'temp_min': 293.31, 'temp_max': 293.31, 'pressure': 1010, 'sea_level': 1010, 'grnd_level': 955, 'humidity': 36, 'temp_kf': 0}, 'weather': [{'id': 801, 'main': 'Clouds', 'description': 'few clouds', 'icon': '02d'}], 'clouds': {'all': 15}, 'wind': {'speed': 1.73, 'deg': 215, 'gust': 2.94}, 'visibility': 10000, 'pop': 0, 'sys': {'pod': 'd'}, 'dt_txt': '2024-08-19 12:00:00'}, {'dt': 1724079600, 'main': {'temp': 293.59, 'feels_like': 292.68, 'temp_min': 293.59, 'temp_max': 293.59, 'pressure': 1010, 'sea_level': 1010, 'grnd_level': 954, 'humidity': 38, 'temp_kf': 0}, 'weather': [{'id': 803, 'main': 'Clouds', 'description': 'broken clouds', 'icon': '04d'}], 'clouds': {'all': 70}, 'wind': {'speed': 2.34, 'deg': 178, 'gust': 3.08}, 'visibility': 10000, 'pop': 0, 'sys': {'pod': 'd'}, 'dt_txt': '2024-08-19 15:00:00'}, {'dt': 1724090400, 'main': {'temp': 289.1, 'feels_like': 288.42, 'temp_min': 289.1, 'temp_max': 289.1, 'pressure': 1010, 'sea_level': 1010, 'grnd_level': 955, 'humidity': 64, 'temp_kf': 0}, 'weather': [{'id': 803, 'main': 'Clouds', 'description': 'broken clouds', 'icon': '04d'}], 'clouds': {'all': 60}, 'wind': {'speed': 1.77, 'deg': 155, 'gust': 3.03}, 'visibility': 10000, 'pop': 0, 'sys': {'pod': 'd'}, 'dt_txt': '2024-08-19 18:00:00'}, {'dt': 1724101200, 'main': {'temp': 285.33, 'feels_like': 284.67, 'temp_min': 285.33, 'temp_max': 285.33, 'pressure': 1011, 'sea_level': 1011, 'grnd_level': 955, 'humidity': 79, 'temp_kf': 0}, 'weather': [{'id': 804, 'main': 'Clouds', 'description': 'overcast clouds', 'icon': '04n'}], 'clouds': {'all': 100}, 'wind': {'speed': 0.2, 'deg': 174, 'gust': 0.34}, 'visibility': 10000, 'pop': 0, 'sys': {'pod': 'n'}, 'dt_txt': '2024-08-19 21:00:00'}, {'dt': 1724112000, 'main': {'temp': 285.08, 'feels_like': 284.6, 'temp_min': 285.08, 'temp_max': 285.08, 'pressure': 1010, 'sea_level': 1010, 'grnd_level': 954, 'humidity': 87, 'temp_kf': 0}, 'weather': [{'id': 804, 'main': 'Clouds', 'description': 'overcast clouds', 'icon': '04n'}], 'clouds': {'all': 100}, 'wind': {'speed': 0.92, 'deg': 137, 'gust': 0.82}, 'visibility': 10000, 'pop': 0, 'sys': {'pod': 'n'}, 'dt_txt': '2024-08-20 00:00:00'}, {'dt': 1724122800, 'main': {'temp': 283.45, 'feels_like': 283.09, 'temp_min': 283.45, 'temp_max': 283.45, 'pressure': 1010, 'sea_level': 1010, 'grnd_level': 953, 'humidity': 98, 'temp_kf': 0}, 'weather': [{'id': 804, 'main': 'Clouds', 'description': 'overcast clouds', 'icon': '04n'}], 'clouds': {'all': 100}, 'wind': {'speed': 1.39, 'deg': 159, 'gust': 2.71}, 'visibility': 9213, 'pop': 0, 'sys': {'pod': 'n'}, 'dt_txt': '2024-08-20 03:00:00'}, {'dt': 1724133600, 'main': {'temp': 285.03, 'feels_like': 284.73, 'temp_min': 285.03, 'temp_max': 285.03, 'pressure': 1010, 'sea_level': 1010, 'grnd_level': 953, 'humidity': 94, 'temp_kf': 0}, 'weather': [{'id': 500, 'main': 'Rain', 'description': 'light rain', 'icon': '10d'}], 'clouds': {'all': 100}, 'wind': {'speed': 1.58, 'deg': 133, 'gust': 4.19}, 'visibility': 10000, 'pop': 0.2, 'rain': {'3h': 0.2}, 'sys': {'pod': 'd'}, 'dt_txt': '2024-08-20 06:00:00'}, {'dt': 1724144400, 'main': {'temp': 286.59, 'feels_like': 286.57, 'temp_min': 286.59, 'temp_max': 286.59, 'pressure': 1009, 'sea_level': 1009, 'grnd_level': 952, 'humidity': 99, 'temp_kf': 0}, 'weather': [{'id': 500, 'main': 'Rain', 'description': 'light rain', 'icon': '10d'}], 'clouds': {'all': 100}, 'wind': {'speed': 2.64, 'deg': 143, 'gust': 10.92}, 'visibility': 3997, 'pop': 1, 'rain': {'3h': 0.8}, 'sys': {'pod': 'd'}, 'dt_txt': '2024-08-20 09:00:00'}, {'dt': 1724155200, 'main': {'temp': 288.12, 'feels_like': 288.18, 'temp_min': 288.12, 'temp_max': 288.12, 'pressure': 1008, 'sea_level': 1008, 'grnd_level': 952, 'humidity': 96, 'temp_kf': 0}, 'weather': [{'id': 500, 'main': 'Rain', 'description': 'light rain', 'icon': '10d'}], 'clouds': {'all': 100}, 'wind': {'speed': 4.16, 'deg': 158, 'gust': 12.99}, 'visibility': 10000, 'pop': 1, 'rain': {'3h': 0.2}, 'sys': {'pod': 'd'}, 'dt_txt': '2024-08-20 12:00:00'}, {'dt': 1724166000, 'main': {'temp': 288.21, 'feels_like': 288.33, 'temp_min': 288.21, 'temp_max': 288.21, 'pressure': 1008, 'sea_level': 1008, 'grnd_level': 952, 'humidity': 98, 'temp_kf': 0}, 'weather': [{'id': 500, 'main': 'Rain', 'description': 'light rain', 'icon': '10d'}], 'clouds': {'all': 100}, 'wind': {'speed': 3.17, 'deg': 164, 'gust': 9.29}, 'visibility': 10000, 'pop': 0.71, 'rain': {'3h': 0.31}, 'sys': {'pod': 'd'}, 'dt_txt': '2024-08-20 15:00:00'}, {'dt': 1724176800, 'main': {'temp': 288.27, 'feels_like': 288.42, 'temp_min': 288.27, 'temp_max': 288.27, 'pressure': 1008, 'sea_level': 1008, 'grnd_level': 952, 'humidity': 99, 'temp_kf': 0}, 'weather': [{'id': 500, 'main': 'Rain', 'description': 'light rain', 'icon': '10d'}], 'clouds': {'all': 100}, 'wind': {'speed': 1.97, 'deg': 142, 'gust': 5.86}, 'visibility': 5381, 'pop': 0.46, 'rain': {'3h': 0.24}, 'sys': {'pod': 'd'}, 'dt_txt': '2024-08-20 18:00:00'}, {'dt': 1724187600, 'main': {'temp': 287.98, 'feels_like': 288.13, 'temp_min': 287.98, 'temp_max': 287.98, 'pressure': 1007, 'sea_level': 1007, 'grnd_level': 951, 'humidity': 100, 'temp_kf': 0}, 'weather': [{'id': 500, 'main': 'Rain', 'description': 'light rain', 'icon': '10n'}], 'clouds': {'all': 100}, 'wind': {'speed': 1.38, 'deg': 120, 'gust': 3.76}, 'pop': 1, 'rain': {'3h': 0.49}, 'sys': {'pod': 'n'}, 'dt_txt': '2024-08-20 21:00:00'}, {'dt': 1724198400, 'main': {'temp': 287.81, 'feels_like': 287.92, 'temp_min': 287.81, 'temp_max': 287.81, 'pressure': 1005, 'sea_level': 1005, 'grnd_level': 950, 'humidity': 99, 'temp_kf': 0}, 'weather': [{'id': 501, 'main': 'Rain', 'description': 'moderate rain', 'icon': '10n'}], 'clouds': {'all': 100}, 'wind': {'speed': 2.37, 'deg': 140, 'gust': 8.22}, 'visibility': 1554, 'pop': 1, 'rain': {'3h': 3.24}, 'sys': {'pod': 'n'}, 'dt_txt': '2024-08-21 00:00:00'}, {'dt': 1724209200, 'main': {'temp': 287.3, 'feels_like': 287.36, 'temp_min': 287.3, 'temp_max': 287.3, 'pressure': 1003, 'sea_level': 1003, 'grnd_level': 947, 'humidity': 99, 'temp_kf': 0}, 'weather': [{'id': 500, 'main': 'Rain', 'description': 'light rain', 'icon': '10n'}], 'clouds': {'all': 100}, 'wind': {'speed': 2.25, 'deg': 127, 'gust': 7.82}, 'visibility': 6896, 'pop': 1, 'rain': {'3h': 1.69}, 'sys': {'pod': 'n'}, 'dt_txt': '2024-08-21 03:00:00'}, {'dt': 1724220000, 'main': {'temp': 287.48, 'feels_like': 287.58, 'temp_min': 287.48, 'temp_max': 287.48, 'pressure': 1000, 'sea_level': 1000, 'grnd_level': 945, 'humidity': 100, 'temp_kf': 0}, 'weather': [{'id': 501, 'main': 'Rain', 'description': 'moderate rain', 'icon': '10d'}], 'clouds': {'all': 100}, 'wind': {'speed': 0.82, 'deg': 84, 'gust': 2.14}, 'visibility': 237, 'pop': 1, 'rain': {'3h': 9.87}, 'sys': {'pod': 'd'}, 'dt_txt': '2024-08-21 06:00:00'}, {'dt': 1724230800, 'main': {'temp': 287.27, 'feels_like': 287.3, 'temp_min': 287.27, 'temp_max': 287.27, 'pressure': 999, 'sea_level': 999, 'grnd_level': 944, 'humidity': 98, 'temp_kf': 0}, 'weather': [{'id': 502, 'main': 'Rain', 'description': 'heavy intensity rain', 'icon': '10d'}], 'clouds': {'all': 100}, 'wind': {'speed': 1.63, 'deg': 282, 'gust': 2.01}, 'visibility': 4526, 'pop': 1, 'rain': {'3h': 21.02}, 'sys': {'pod': 'd'}, 'dt_txt': '2024-08-21 09:00:00'}, {'dt': 1724241600, 'main': {'temp': 287.12, 'feels_like': 287.05, 'temp_min': 287.12, 'temp_max': 287.12, 'pressure': 999, 'sea_level': 999, 'grnd_level': 944, 'humidity': 95, 'temp_kf': 0}, 'weather': [{'id': 500, 'main': 'Rain', 'description': 'light rain', 'icon': '10d'}], 'clouds': {'all': 100}, 'wind': {'speed': 0.94, 'deg': 246, 'gust': 1.41}, 'visibility': 10000, 'pop': 1, 'rain': {'3h': 2.65}, 'sys': {'pod': 'd'}, 'dt_txt': '2024-08-21 12:00:00'}, {'dt': 1724252400, 'main': {'temp': 289.77, 'feels_like': 289.45, 'temp_min': 289.77, 'temp_max': 289.77, 'pressure': 998, 'sea_level': 998, 'grnd_level': 943, 'humidity': 75, 'temp_kf': 0}, 'weather': [{'id': 500, 'main': 'Rain', 'description': 'light rain', 'icon': '10d'}], 'clouds': {'all': 100}, 'wind': {'speed': 1.79, 'deg': 247, 'gust': 4.35}, 'visibility': 10000, 'pop': 0.96, 'rain': {'3h': 0.58}, 'sys': {'pod': 'd'}, 'dt_txt': '2024-08-21 15:00:00'}, {'dt': 1724263200, 'main': {'temp': 286.71, 'feels_like': 286.13, 'temp_min': 286.71, 'temp_max': 286.71, 'pressure': 999, 'sea_level': 999, 'grnd_level': 943, 'humidity': 77, 'temp_kf': 0}, 'weather': [{'id': 804, 'main': 'Clouds', 'description': 'overcast clouds', 'icon': '04d'}], 'clouds': {'all': 96}, 'wind': {'speed': 2.65, 'deg': 268, 'gust': 4.43}, 'visibility': 10000, 'pop': 0.56, 'sys': {'pod': 'd'}, 'dt_txt': '2024-08-21 18:00:00'}, {'dt': 1724274000, 'main': {'temp': 282.77, 'feels_like': 281.13, 'temp_min': 282.77, 'temp_max': 282.77, 'pressure': 1001, 'sea_level': 1001, 'grnd_level': 945, 'humidity': 75, 'temp_kf': 0}, 'weather': [{'id': 800, 'main': 'Clear', 'description': 'clear sky', 'icon': '01n'}], 'clouds': {'all': 10}, 'wind': {'speed': 3.13, 'deg': 282, 'gust': 5.59}, 'visibility': 10000, 'pop': 0, 'sys': {'pod': 'n'}, 'dt_txt': '2024-08-21 21:00:00'}, {'dt': 1724284800, 'main': {'temp': 280.66, 'feels_like': 279.2, 'temp_min': 280.66, 'temp_max': 280.66, 'pressure': 1004, 'sea_level': 1004, 'grnd_level': 946, 'humidity': 85, 'temp_kf': 0}, 'weather': [{'id': 800, 'main': 'Clear', 'description': 'clear sky', 'icon': '01n'}], 'clouds': {'all': 5}, 'wind': {'speed': 2.28, 'deg': 279, 'gust': 2.22}, 'visibility': 10000, 'pop': 0, 'sys': {'pod': 'n'}, 'dt_txt': '2024-08-22 00:00:00'}, {'dt': 1724295600, 'main': {'temp': 279.69, 'feels_like': 278.46, 'temp_min': 279.69, 'temp_max': 279.69, 'pressure': 1005, 'sea_level': 1005, 'grnd_level': 947, 'humidity': 87, 'temp_kf': 0}, 'weather': [{'id': 800, 'main': 'Clear', 'description': 'clear sky', 'icon': '01n'}], 'clouds': {'all': 1}, 'wind': {'speed': 1.85, 'deg': 284, 'gust': 1.49}, 'visibility': 10000, 'pop': 0, 'sys': {'pod': 'n'}, 'dt_txt': '2024-08-22 03:00:00'}, {'dt': 1724306400, 'main': {'temp': 282.72, 'feels_like': 282.72, 'temp_min': 282.72, 'temp_max': 282.72, 'pressure': 1004, 'sea_level': 1004, 'grnd_level': 948, 'humidity': 73, 'temp_kf': 0}, 'weather': [{'id': 802, 'main': 'Clouds', 'description': 'scattered clouds', 'icon': '03d'}], 'clouds': {'all': 37}, 'wind': {'speed': 0.95, 'deg': 259, 'gust': 1.33}, 'visibility': 10000, 'pop': 0, 'sys': {'pod': 'd'}, 'dt_txt': '2024-08-22 06:00:00'}, {'dt': 1724317200, 'main': {'temp': 286, 'feels_like': 284.86, 'temp_min': 286, 'temp_max': 286, 'pressure': 1004, 'sea_level': 1004, 'grnd_level': 947, 'humidity': 58, 'temp_kf': 0}, 'weather': [{'id': 804, 'main': 'Clouds', 'description': 'overcast clouds', 'icon': '04d'}], 'clouds': {'all': 100}, 'wind': {'speed': 2.32, 'deg': 177, 'gust': 3.02}, 'visibility': 10000, 'pop': 0, 'sys': {'pod': 'd'}, 'dt_txt': '2024-08-22 09:00:00'}], 'city': {'id': 3144113, 'name': 'Noresund', 'coord': {'lat': 60.1803, 'lon': 9.6231}, 'country': 'NO', 'population': 1000, 'timezone': 7200, 'sunrise': 1723866044, 'sunset': 1723921836}}\")\n"
     ]
    }
   ],
   "source": [
    "# Query the data\n",
    "forecast_rows = session.execute(\"SELECT * FROM forecast_table;\")\n",
    "print(forecast_rows.one()) # <- only one row"
   ]
  },
  {
   "cell_type": "markdown",
   "metadata": {
    "slideshow": {
     "slide_type": "slide"
    }
   },
   "source": [
    "```{seealso} Resources\n",
    ":class: tip\n",
    "- [Cassandra webpage](https://cassandra.apache.org/)\n",
    "- [Cassandra Docker file](https://hub.docker.com/_/cassandra)\n",
    "- [UUID functions](https://docs.datastax.com/en/cql-oss/3.3/cql/cql_reference/timeuuid_functions_r.html)\n",
    "- [YouTube: Cassandra in 100 seconds](https://youtu.be/ziq7FUKpCS8?si=WQUdkHFvaBmT0DBo) (2m:26s)\n",
    "- [YouTube: How to use Apache Cassandra in Python](https://youtu.be/qMauZqJH3ZM?si=yKGZ-5cld2BK396Y) (14m:50s)\n",
    "- [YouTube: Cassandra Database Crash Course](https://youtu.be/KZsVSfQVU4I?si=FBCi8qOfCirfVmZk) (19m:47s)\n",
    "```"
   ]
  }
 ],
 "metadata": {
  "celltoolbar": "Slideshow",
  "kernelspec": {
   "display_name": "Python 3 (ipykernel)",
   "language": "python",
   "name": "python3"
  },
  "language_info": {
   "codemirror_mode": {
    "name": "ipython",
    "version": 3
   },
   "file_extension": ".py",
   "mimetype": "text/x-python",
   "name": "python",
   "nbconvert_exporter": "python",
   "pygments_lexer": "ipython3",
   "version": "3.12.4"
  }
 },
 "nbformat": 4,
 "nbformat_minor": 2
}
