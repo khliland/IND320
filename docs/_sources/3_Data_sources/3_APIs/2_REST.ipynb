{
 "cells": [
  {
   "cell_type": "markdown",
   "metadata": {
    "slideshow": {
     "slide_type": "slide"
    }
   },
   "source": [
    "# REST API\n",
    "\n",
    "- REST stands for Representational State Transfer. \n",
    "- Architectural style for designing web services. \n",
    "- REST services are stateless, which means that they do not maintain any state between requests. This makes them scalable and reliable.\n",
    "- For us they are mainly interfaces for information retrieval."
   ]
  },
  {
   "cell_type": "markdown",
   "metadata": {
    "slideshow": {
     "slide_type": "slide"
    }
   },
   "source": [
    "## Accessing REST\n",
    "- REST services are based on the HTTP protocol, and they use a set of well-defined verbs to manipulate resources.\n",
    "- Some are open and free, some need an API key (free or subscription)\n",
    "  \n",
    "- The four main verbs in REST are:\n",
    "    - GET: Retrieve a resource.\n",
    "    - POST: Create a resource.\n",
    "    - PUT: Update a resource.\n",
    "    - DELETE: Delete a resource.\n"
   ]
  },
  {
   "cell_type": "markdown",
   "metadata": {
    "slideshow": {
     "slide_type": "slide"
    }
   },
   "source": [
    "### Retrieving data (GET)\n",
    "- A simple example without an API key ([Strømpris API](https://www.hvakosterstrommen.no/strompris-api)):"
   ]
  },
  {
   "cell_type": "code",
   "execution_count": 1,
   "metadata": {
    "slideshow": {
     "slide_type": "-"
    }
   },
   "outputs": [
    {
     "name": "stdout",
     "output_type": "stream",
     "text": [
      "[{'NOK_per_kWh': 0.00546, 'EUR_per_kWh': 0.00049, 'EXR': 11.1485, 'time_start': '2023-08-09T00:00:00+02:00', 'time_end': '2023-08-09T01:00:00+02:00'}, {'NOK_per_kWh': -0.01249, 'EUR_per_kWh': -0.00112, 'EXR': 11.1485, 'time_start': '2023-08-09T01:00:00+02:00', 'time_end': '2023-08-09T02:00:00+02:00'}, {'NOK_per_kWh': -0.01282, 'EUR_per_kWh': -0.00115, 'EXR': 11.1485, 'time_start': '2023-08-09T02:00:00+02:00', 'time_end': '2023-08-09T03:00:00+02:00'}, {'NOK_per_kWh': -0.01304, 'EUR_per_kWh': -0.00117, 'EXR': 11.1485, 'time_start': '2023-08-09T03:00:00+02:00', 'time_end': '2023-08-09T04:00:00+02:00'}, {'NOK_per_kWh': -0.01316, 'EUR_per_kWh': -0.00118, 'EXR': 11.1485, 'time_start': '2023-08-09T04:00:00+02:00', 'time_end': '2023-08-09T05:00:00+02:00'}, {'NOK_per_kWh': -0.01304, 'EUR_per_kWh': -0.00117, 'EXR': 11.1485, 'time_start': '2023-08-09T05:00:00+02:00', 'time_end': '2023-08-09T06:00:00+02:00'}, {'NOK_per_kWh': -0.00033, 'EUR_per_kWh': -3e-05, 'EXR': 11.1485, 'time_start': '2023-08-09T06:00:00+02:00', 'time_end': '2023-08-09T07:00:00+02:00'}, {'NOK_per_kWh': 0.00111, 'EUR_per_kWh': 0.0001, 'EXR': 11.1485, 'time_start': '2023-08-09T07:00:00+02:00', 'time_end': '2023-08-09T08:00:00+02:00'}, {'NOK_per_kWh': 0.01761, 'EUR_per_kWh': 0.00158, 'EXR': 11.1485, 'time_start': '2023-08-09T08:00:00+02:00', 'time_end': '2023-08-09T09:00:00+02:00'}, {'NOK_per_kWh': 0.02419, 'EUR_per_kWh': 0.00217, 'EXR': 11.1485, 'time_start': '2023-08-09T09:00:00+02:00', 'time_end': '2023-08-09T10:00:00+02:00'}, {'NOK_per_kWh': 0.0155, 'EUR_per_kWh': 0.00139, 'EXR': 11.1485, 'time_start': '2023-08-09T10:00:00+02:00', 'time_end': '2023-08-09T11:00:00+02:00'}, {'NOK_per_kWh': 0.0165, 'EUR_per_kWh': 0.00148, 'EXR': 11.1485, 'time_start': '2023-08-09T11:00:00+02:00', 'time_end': '2023-08-09T12:00:00+02:00'}, {'NOK_per_kWh': 0.01081, 'EUR_per_kWh': 0.00097, 'EXR': 11.1485, 'time_start': '2023-08-09T12:00:00+02:00', 'time_end': '2023-08-09T13:00:00+02:00'}, {'NOK_per_kWh': 0.01494, 'EUR_per_kWh': 0.00134, 'EXR': 11.1485, 'time_start': '2023-08-09T13:00:00+02:00', 'time_end': '2023-08-09T14:00:00+02:00'}, {'NOK_per_kWh': 0.0291, 'EUR_per_kWh': 0.00261, 'EXR': 11.1485, 'time_start': '2023-08-09T14:00:00+02:00', 'time_end': '2023-08-09T15:00:00+02:00'}, {'NOK_per_kWh': 0.02464, 'EUR_per_kWh': 0.00221, 'EXR': 11.1485, 'time_start': '2023-08-09T15:00:00+02:00', 'time_end': '2023-08-09T16:00:00+02:00'}, {'NOK_per_kWh': 0.04537, 'EUR_per_kWh': 0.00407, 'EXR': 11.1485, 'time_start': '2023-08-09T16:00:00+02:00', 'time_end': '2023-08-09T17:00:00+02:00'}, {'NOK_per_kWh': 0.1107, 'EUR_per_kWh': 0.00993, 'EXR': 11.1485, 'time_start': '2023-08-09T17:00:00+02:00', 'time_end': '2023-08-09T18:00:00+02:00'}, {'NOK_per_kWh': 0.16756, 'EUR_per_kWh': 0.01503, 'EXR': 11.1485, 'time_start': '2023-08-09T18:00:00+02:00', 'time_end': '2023-08-09T19:00:00+02:00'}, {'NOK_per_kWh': 0.19331, 'EUR_per_kWh': 0.01734, 'EXR': 11.1485, 'time_start': '2023-08-09T19:00:00+02:00', 'time_end': '2023-08-09T20:00:00+02:00'}, {'NOK_per_kWh': 0.19454, 'EUR_per_kWh': 0.01745, 'EXR': 11.1485, 'time_start': '2023-08-09T20:00:00+02:00', 'time_end': '2023-08-09T21:00:00+02:00'}, {'NOK_per_kWh': 0.19142, 'EUR_per_kWh': 0.01717, 'EXR': 11.1485, 'time_start': '2023-08-09T21:00:00+02:00', 'time_end': '2023-08-09T22:00:00+02:00'}, {'NOK_per_kWh': 0.16589, 'EUR_per_kWh': 0.01488, 'EXR': 11.1485, 'time_start': '2023-08-09T22:00:00+02:00', 'time_end': '2023-08-09T23:00:00+02:00'}, {'NOK_per_kWh': 0.15842, 'EUR_per_kWh': 0.01421, 'EXR': 11.1485, 'time_start': '2023-08-09T23:00:00+02:00', 'time_end': '2023-08-10T00:00:00+02:00'}]\n"
     ]
    }
   ],
   "source": [
    "import requests\n",
    "# Power prices in the NO5 zone on a particular date\n",
    "url = \"https://www.hvakosterstrommen.no/api/v1/prices/2023/08-09_NO5.json\"\n",
    "response = requests.get(url)\n",
    "print(response.json())"
   ]
  },
  {
   "cell_type": "code",
   "execution_count": 2,
   "metadata": {
    "slideshow": {
     "slide_type": "slide"
    }
   },
   "outputs": [],
   "source": [
    "# Write JSON to file for viewing\n",
    "import json\n",
    "with open('downloads/power_price.json', 'w') as f:\n",
    "    json.dump(response.json(), f, indent=4)"
   ]
  },
  {
   "cell_type": "markdown",
   "metadata": {
    "slideshow": {
     "slide_type": "slide"
    }
   },
   "source": [
    "### Creating data (POST)\n",
    "- For this example we assume there is an API server running locally.\n",
    "- We rely on the [Flask](https://palletsprojects.com/p/flask/) framework (see flask_API.py) in the current folder.\n",
    "    - Simple POST, GET, \"UPDATE\", DELETE\n",
    "- Running a Flask instance from the terminal can be done similar to this:  \n",
    "```\n",
    "conda activate tf_M1\n",
    "python /Users/kristian/Documents/GitHub/IND320/D2Dbook/2_Data_sources/APIs/flask_API.py\n",
    "```"
   ]
  },
  {
   "cell_type": "code",
   "execution_count": 3,
   "metadata": {
    "slideshow": {
     "slide_type": "slide"
    }
   },
   "outputs": [
    {
     "name": "stdout",
     "output_type": "stream",
     "text": [
      "{'key': 'value'}\n"
     ]
    }
   ],
   "source": [
    "# POST data (stored locally in a dictionary)\n",
    "id = 'test'\n",
    "data = {'key': 'value'}\n",
    "response = requests.post('http://localhost:8000/api/post/{}'.format(id), json=data)\n",
    "print(response.json())"
   ]
  },
  {
   "cell_type": "code",
   "execution_count": 4,
   "metadata": {
    "slideshow": {
     "slide_type": "fragment"
    }
   },
   "outputs": [
    {
     "name": "stdout",
     "output_type": "stream",
     "text": [
      "{'key': 'value'}\n"
     ]
    }
   ],
   "source": [
    "# GET data\n",
    "id = 'test'\n",
    "response = requests.get('http://localhost:8000/api/get/{}'.format(id))\n",
    "print(response.json())\n",
    "# You can also test this in a browser since this is an HTTP based (and we use no passwords here)."
   ]
  },
  {
   "cell_type": "markdown",
   "metadata": {
    "slideshow": {
     "slide_type": "slide"
    }
   },
   "source": [
    "### Change data (UPDATE)\n",
    "- This command can mostly be exchanged with POST.\n",
    "- The Flask framework does not have a separate UPDATE (see implementation in flask_API.py)."
   ]
  },
  {
   "cell_type": "code",
   "execution_count": 5,
   "metadata": {
    "slideshow": {
     "slide_type": "fragment"
    }
   },
   "outputs": [
    {
     "name": "stdout",
     "output_type": "stream",
     "text": [
      "{'key': 'new value'}\n"
     ]
    }
   ],
   "source": [
    "# UPDATE data\n",
    "id = 'test'\n",
    "data = {'key': 'new value'}\n",
    "response = requests.post('http://localhost:8000/api/update/{}'.format(id), json=data)\n",
    "print(response.json())"
   ]
  },
  {
   "cell_type": "markdown",
   "metadata": {
    "slideshow": {
     "slide_type": "slide"
    }
   },
   "source": [
    "### Remove data (DELETE)\n",
    "- Let's remove some data and try to read it again."
   ]
  },
  {
   "cell_type": "code",
   "execution_count": 6,
   "metadata": {
    "slideshow": {
     "slide_type": "fragment"
    }
   },
   "outputs": [
    {
     "name": "stdout",
     "output_type": "stream",
     "text": [
      "{'key': 'new value'}\n"
     ]
    }
   ],
   "source": [
    "# DELETE data\n",
    "id = 'test'\n",
    "response = requests.delete('http://localhost:8000/api/delete/{}'.format(id))\n",
    "print(response.json())"
   ]
  },
  {
   "cell_type": "code",
   "execution_count": 7,
   "metadata": {
    "slideshow": {
     "slide_type": "slide"
    },
    "tags": [
     "raises-exception"
    ]
   },
   "outputs": [
    {
     "ename": "JSONDecodeError",
     "evalue": "Expecting value: line 1 column 1 (char 0)",
     "output_type": "error",
     "traceback": [
      "\u001b[0;31m---------------------------------------------------------------------------\u001b[0m",
      "\u001b[0;31mJSONDecodeError\u001b[0m                           Traceback (most recent call last)",
      "File \u001b[0;32m~/miniforge3/envs/tf_M1/lib/python3.10/site-packages/requests/models.py:971\u001b[0m, in \u001b[0;36mResponse.json\u001b[0;34m(self, **kwargs)\u001b[0m\n\u001b[1;32m    970\u001b[0m \u001b[39mtry\u001b[39;00m:\n\u001b[0;32m--> 971\u001b[0m     \u001b[39mreturn\u001b[39;00m complexjson\u001b[39m.\u001b[39;49mloads(\u001b[39mself\u001b[39;49m\u001b[39m.\u001b[39;49mtext, \u001b[39m*\u001b[39;49m\u001b[39m*\u001b[39;49mkwargs)\n\u001b[1;32m    972\u001b[0m \u001b[39mexcept\u001b[39;00m JSONDecodeError \u001b[39mas\u001b[39;00m e:\n\u001b[1;32m    973\u001b[0m     \u001b[39m# Catch JSON-related errors and raise as requests.JSONDecodeError\u001b[39;00m\n\u001b[1;32m    974\u001b[0m     \u001b[39m# This aliases json.JSONDecodeError and simplejson.JSONDecodeError\u001b[39;00m\n",
      "File \u001b[0;32m~/miniforge3/envs/tf_M1/lib/python3.10/site-packages/simplejson/__init__.py:514\u001b[0m, in \u001b[0;36mloads\u001b[0;34m(s, encoding, cls, object_hook, parse_float, parse_int, parse_constant, object_pairs_hook, use_decimal, allow_nan, **kw)\u001b[0m\n\u001b[1;32m    510\u001b[0m \u001b[39mif\u001b[39;00m (\u001b[39mcls\u001b[39m \u001b[39mis\u001b[39;00m \u001b[39mNone\u001b[39;00m \u001b[39mand\u001b[39;00m encoding \u001b[39mis\u001b[39;00m \u001b[39mNone\u001b[39;00m \u001b[39mand\u001b[39;00m object_hook \u001b[39mis\u001b[39;00m \u001b[39mNone\u001b[39;00m \u001b[39mand\u001b[39;00m\n\u001b[1;32m    511\u001b[0m         parse_int \u001b[39mis\u001b[39;00m \u001b[39mNone\u001b[39;00m \u001b[39mand\u001b[39;00m parse_float \u001b[39mis\u001b[39;00m \u001b[39mNone\u001b[39;00m \u001b[39mand\u001b[39;00m\n\u001b[1;32m    512\u001b[0m         parse_constant \u001b[39mis\u001b[39;00m \u001b[39mNone\u001b[39;00m \u001b[39mand\u001b[39;00m object_pairs_hook \u001b[39mis\u001b[39;00m \u001b[39mNone\u001b[39;00m\n\u001b[1;32m    513\u001b[0m         \u001b[39mand\u001b[39;00m \u001b[39mnot\u001b[39;00m use_decimal \u001b[39mand\u001b[39;00m \u001b[39mnot\u001b[39;00m allow_nan \u001b[39mand\u001b[39;00m \u001b[39mnot\u001b[39;00m kw):\n\u001b[0;32m--> 514\u001b[0m     \u001b[39mreturn\u001b[39;00m _default_decoder\u001b[39m.\u001b[39;49mdecode(s)\n\u001b[1;32m    515\u001b[0m \u001b[39mif\u001b[39;00m \u001b[39mcls\u001b[39m \u001b[39mis\u001b[39;00m \u001b[39mNone\u001b[39;00m:\n",
      "File \u001b[0;32m~/miniforge3/envs/tf_M1/lib/python3.10/site-packages/simplejson/decoder.py:386\u001b[0m, in \u001b[0;36mJSONDecoder.decode\u001b[0;34m(self, s, _w, _PY3)\u001b[0m\n\u001b[1;32m    385\u001b[0m     s \u001b[39m=\u001b[39m \u001b[39mstr\u001b[39m(s, \u001b[39mself\u001b[39m\u001b[39m.\u001b[39mencoding)\n\u001b[0;32m--> 386\u001b[0m obj, end \u001b[39m=\u001b[39m \u001b[39mself\u001b[39;49m\u001b[39m.\u001b[39;49mraw_decode(s)\n\u001b[1;32m    387\u001b[0m end \u001b[39m=\u001b[39m _w(s, end)\u001b[39m.\u001b[39mend()\n",
      "File \u001b[0;32m~/miniforge3/envs/tf_M1/lib/python3.10/site-packages/simplejson/decoder.py:416\u001b[0m, in \u001b[0;36mJSONDecoder.raw_decode\u001b[0;34m(self, s, idx, _w, _PY3)\u001b[0m\n\u001b[1;32m    415\u001b[0m         idx \u001b[39m+\u001b[39m\u001b[39m=\u001b[39m \u001b[39m3\u001b[39m\n\u001b[0;32m--> 416\u001b[0m \u001b[39mreturn\u001b[39;00m \u001b[39mself\u001b[39;49m\u001b[39m.\u001b[39;49mscan_once(s, idx\u001b[39m=\u001b[39;49m_w(s, idx)\u001b[39m.\u001b[39;49mend())\n",
      "\u001b[0;31mJSONDecodeError\u001b[0m: Expecting value: line 1 column 1 (char 0)",
      "\nDuring handling of the above exception, another exception occurred:\n",
      "\u001b[0;31mJSONDecodeError\u001b[0m                           Traceback (most recent call last)",
      "\u001b[1;32m/Users/kristian/Documents/GitHub/IND320/D2Dbook/2_Data_sources/3_APIs/2_REST.ipynb Cell 13\u001b[0m line \u001b[0;36m4\n\u001b[1;32m      <a href='vscode-notebook-cell:/Users/kristian/Documents/GitHub/IND320/D2Dbook/2_Data_sources/3_APIs/2_REST.ipynb#X15sZmlsZQ%3D%3D?line=1'>2</a>\u001b[0m \u001b[39mid\u001b[39m \u001b[39m=\u001b[39m \u001b[39m'\u001b[39m\u001b[39mtest\u001b[39m\u001b[39m'\u001b[39m\n\u001b[1;32m      <a href='vscode-notebook-cell:/Users/kristian/Documents/GitHub/IND320/D2Dbook/2_Data_sources/3_APIs/2_REST.ipynb#X15sZmlsZQ%3D%3D?line=2'>3</a>\u001b[0m response \u001b[39m=\u001b[39m requests\u001b[39m.\u001b[39mget(\u001b[39m'\u001b[39m\u001b[39mhttp://localhost:8000/api/get/\u001b[39m\u001b[39m{}\u001b[39;00m\u001b[39m'\u001b[39m\u001b[39m.\u001b[39mformat(\u001b[39mid\u001b[39m))\n\u001b[0;32m----> <a href='vscode-notebook-cell:/Users/kristian/Documents/GitHub/IND320/D2Dbook/2_Data_sources/3_APIs/2_REST.ipynb#X15sZmlsZQ%3D%3D?line=3'>4</a>\u001b[0m \u001b[39mprint\u001b[39m(response\u001b[39m.\u001b[39;49mjson())\n",
      "File \u001b[0;32m~/miniforge3/envs/tf_M1/lib/python3.10/site-packages/requests/models.py:975\u001b[0m, in \u001b[0;36mResponse.json\u001b[0;34m(self, **kwargs)\u001b[0m\n\u001b[1;32m    971\u001b[0m     \u001b[39mreturn\u001b[39;00m complexjson\u001b[39m.\u001b[39mloads(\u001b[39mself\u001b[39m\u001b[39m.\u001b[39mtext, \u001b[39m*\u001b[39m\u001b[39m*\u001b[39mkwargs)\n\u001b[1;32m    972\u001b[0m \u001b[39mexcept\u001b[39;00m JSONDecodeError \u001b[39mas\u001b[39;00m e:\n\u001b[1;32m    973\u001b[0m     \u001b[39m# Catch JSON-related errors and raise as requests.JSONDecodeError\u001b[39;00m\n\u001b[1;32m    974\u001b[0m     \u001b[39m# This aliases json.JSONDecodeError and simplejson.JSONDecodeError\u001b[39;00m\n\u001b[0;32m--> 975\u001b[0m     \u001b[39mraise\u001b[39;00m RequestsJSONDecodeError(e\u001b[39m.\u001b[39mmsg, e\u001b[39m.\u001b[39mdoc, e\u001b[39m.\u001b[39mpos)\n",
      "\u001b[0;31mJSONDecodeError\u001b[0m: Expecting value: line 1 column 1 (char 0)"
     ]
    }
   ],
   "source": [
    "# GET data again\n",
    "id = 'test'\n",
    "response = requests.get('http://localhost:8000/api/get/{}'.format(id))\n",
    "print(response.json())"
   ]
  },
  {
   "cell_type": "markdown",
   "metadata": {
    "slideshow": {
     "slide_type": "slide"
    }
   },
   "source": [
    "## Exercise\n",
    "- Look at flask_API.py.\n",
    "- Add “try-except” to GET to return an empty JSON when an ‘id’ does not exist.\n",
    "- Are there other potential sources of error here?"
   ]
  },
  {
   "cell_type": "markdown",
   "metadata": {
    "slideshow": {
     "slide_type": "slide"
    }
   },
   "source": [
    "```{seealso} Resources\n",
    ":class: tip\n",
    "- [Wikipedia: REST](https://en.wikipedia.org/wiki/Representational_state_transfer)\n",
    "- [Flask](https://palletsprojects.com/p/flask/) local HTTP server in Python.\n",
    "- [Strømpris API](https://www.hvakosterstrommen.no/strompris-api) (only in Norwegian)\n",
    "- [YouTube: What is a REST API?](https://youtu.be/lsMQRaeKNDk) (9m:11s)\n",
    "- [YouTube: REST API Crash Course - Introduction + Full Python API Tutorial](https://youtu.be/qbLc5a9jdXo) (52m:49s)\n",
    "```"
   ]
  }
 ],
 "metadata": {
  "celltoolbar": "Slideshow",
  "kernelspec": {
   "display_name": "Python 3 (ipykernel)",
   "language": "python",
   "name": "python3"
  },
  "language_info": {
   "codemirror_mode": {
    "name": "ipython",
    "version": 3
   },
   "file_extension": ".py",
   "mimetype": "text/x-python",
   "name": "python",
   "nbconvert_exporter": "python",
   "pygments_lexer": "ipython3",
   "version": "3.10.6"
  }
 },
 "nbformat": 4,
 "nbformat_minor": 2
}
