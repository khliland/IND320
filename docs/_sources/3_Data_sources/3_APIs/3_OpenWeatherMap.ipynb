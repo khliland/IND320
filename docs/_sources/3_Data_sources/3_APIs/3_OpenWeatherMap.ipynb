{
 "cells": [
  {
   "cell_type": "markdown",
   "metadata": {
    "slideshow": {
     "slide_type": "slide"
    }
   },
   "source": [
    "# Demonstration of API using OpenWeatherMap.org\n",
    "This demonstration is heavily inspired by [NeuralNine's video](https://www.youtube.com/watch?v=9P5MY_2i7K8).  \n",
    "You need a free account [from here](https://openweathermap.org/api).  \n",
    "The VS Code extension _JSON viewer_ is recommended for viewing downloaded JSON content.  \n",
    "  - Set your maximum API calls to 1000 per day to make sure you are under the limit for billing. \n",
    "  - To run the examples, download your API key, save it in the right folder (see below) in a file called _api\\_key\\_OpenWeather_, containing only the key (no spaces or \"enters\")."
   ]
  },
  {
   "cell_type": "code",
   "execution_count": null,
   "metadata": {
    "ExecuteTime": {
     "end_time": "2024-08-17T10:19:06.946392Z",
     "start_time": "2024-08-17T10:19:06.887177Z"
    },
    "execution": {
     "iopub.execute_input": "2024-08-17T11:10:24.663699Z",
     "iopub.status.busy": "2024-08-17T11:10:24.663447Z",
     "iopub.status.idle": "2024-08-17T11:10:24.723696Z",
     "shell.execute_reply": "2024-08-17T11:10:24.723397Z"
    },
    "slideshow": {
     "slide_type": "fragment"
    }
   },
   "outputs": [],
   "source": [
    "# Imports\n",
    "import datetime as dt\n",
    "import requests\n",
    "import json"
   ]
  },
  {
   "cell_type": "markdown",
   "metadata": {
    "slideshow": {
     "slide_type": "slide"
    }
   },
   "source": [
    "## Current weather\n",
    "### Common definitions to use for all requests"
   ]
  },
  {
   "cell_type": "code",
   "execution_count": null,
   "metadata": {
    "ExecuteTime": {
     "end_time": "2024-08-17T10:19:06.950734Z",
     "start_time": "2024-08-17T10:19:06.948129Z"
    },
    "execution": {
     "iopub.execute_input": "2024-08-17T11:10:24.725650Z",
     "iopub.status.busy": "2024-08-17T11:10:24.725525Z",
     "iopub.status.idle": "2024-08-17T11:10:24.727589Z",
     "shell.execute_reply": "2024-08-17T11:10:24.727371Z"
    },
    "slideshow": {
     "slide_type": "-"
    }
   },
   "outputs": [],
   "source": [
    "BASE_URL = \"http://api.openweathermap.org/data/2.5/weather?\"\n",
    "API_KEY = open('../../../No_sync/api_key_OpenWeather','r').read()\n",
    "CITY = \"Ski\"\n",
    "\n",
    "url = BASE_URL + \"q=\" + CITY + \"&appid=\" + API_KEY"
   ]
  },
  {
   "cell_type": "markdown",
   "metadata": {
    "slideshow": {
     "slide_type": "slide"
    }
   },
   "source": [
    "## Request current weather in chosen city"
   ]
  },
  {
   "cell_type": "code",
   "execution_count": null,
   "metadata": {
    "ExecuteTime": {
     "end_time": "2024-08-17T10:19:07.346472Z",
     "start_time": "2024-08-17T10:19:06.951363Z"
    },
    "execution": {
     "iopub.execute_input": "2024-08-17T11:10:24.728855Z",
     "iopub.status.busy": "2024-08-17T11:10:24.728771Z",
     "iopub.status.idle": "2024-08-17T11:10:25.161921Z",
     "shell.execute_reply": "2024-08-17T11:10:25.161501Z"
    },
    "slideshow": {
     "slide_type": "fragment"
    }
   },
   "outputs": [],
   "source": [
    "response = requests.get(url).json()\n",
    "print(response)"
   ]
  },
  {
   "cell_type": "code",
   "execution_count": null,
   "metadata": {
    "ExecuteTime": {
     "end_time": "2024-08-17T10:19:07.356894Z",
     "start_time": "2024-08-17T10:19:07.353047Z"
    },
    "execution": {
     "iopub.execute_input": "2024-08-17T11:10:25.200397Z",
     "iopub.status.busy": "2024-08-17T11:10:25.200119Z",
     "iopub.status.idle": "2024-08-17T11:10:25.202823Z",
     "shell.execute_reply": "2024-08-17T11:10:25.202533Z"
    },
    "slideshow": {
     "slide_type": "fragment"
    }
   },
   "outputs": [],
   "source": [
    "# Write JSON to file for viewing\n",
    "with open('downloads/weather.json', 'w') as f:\n",
    "    json.dump(response, f, indent=4)"
   ]
  },
  {
   "cell_type": "markdown",
   "metadata": {
    "slideshow": {
     "slide_type": "slide"
    }
   },
   "source": [
    "## Conversion functions\n",
    "Changing scales can make results more interpretable"
   ]
  },
  {
   "cell_type": "code",
   "execution_count": null,
   "metadata": {
    "ExecuteTime": {
     "end_time": "2024-08-17T10:19:07.360029Z",
     "start_time": "2024-08-17T10:19:07.358341Z"
    },
    "execution": {
     "iopub.execute_input": "2024-08-17T11:10:25.204315Z",
     "iopub.status.busy": "2024-08-17T11:10:25.204202Z",
     "iopub.status.idle": "2024-08-17T11:10:25.206008Z",
     "shell.execute_reply": "2024-08-17T11:10:25.205755Z"
    },
    "slideshow": {
     "slide_type": "-"
    }
   },
   "outputs": [],
   "source": [
    "# Kelvin to Celsius\n",
    "def kelvin_to_celsius(temp):\n",
    "    return temp - 273.15\n",
    "\n",
    "# Meters per second to knots\n",
    "def mps_to_knots(speed):\n",
    "    return speed * 1.943844"
   ]
  },
  {
   "cell_type": "markdown",
   "metadata": {
    "slideshow": {
     "slide_type": "slide"
    }
   },
   "source": [
    "## Print some weather properties"
   ]
  },
  {
   "cell_type": "code",
   "execution_count": null,
   "metadata": {
    "ExecuteTime": {
     "end_time": "2024-08-17T10:19:07.362209Z",
     "start_time": "2024-08-17T10:19:07.360604Z"
    },
    "execution": {
     "iopub.execute_input": "2024-08-17T11:10:25.207688Z",
     "iopub.status.busy": "2024-08-17T11:10:25.207575Z",
     "iopub.status.idle": "2024-08-17T11:10:25.210669Z",
     "shell.execute_reply": "2024-08-17T11:10:25.209844Z"
    },
    "slideshow": {
     "slide_type": "-"
    }
   },
   "outputs": [],
   "source": [
    "# Current temperature\n",
    "temp_kelvin = response['main']['temp']\n",
    "temp_celsius = kelvin_to_celsius(temp_kelvin)\n",
    "print(f\"The current temperature in {CITY} is {temp_celsius:.1f}°C\")"
   ]
  },
  {
   "cell_type": "code",
   "execution_count": null,
   "metadata": {
    "ExecuteTime": {
     "end_time": "2024-08-17T10:19:07.364358Z",
     "start_time": "2024-08-17T10:19:07.362759Z"
    },
    "execution": {
     "iopub.execute_input": "2024-08-17T11:10:25.212687Z",
     "iopub.status.busy": "2024-08-17T11:10:25.212585Z",
     "iopub.status.idle": "2024-08-17T11:10:25.215092Z",
     "shell.execute_reply": "2024-08-17T11:10:25.214660Z"
    },
    "slideshow": {
     "slide_type": "slide"
    }
   },
   "outputs": [],
   "source": [
    "# Sunrise and sunset today in local time\n",
    "sunrise = dt.datetime.fromtimestamp(response['sys']['sunrise'])\n",
    "sunset = dt.datetime.fromtimestamp(response['sys']['sunset'])\n",
    "print(f\"Sunrise today is at {sunrise:%H:%M} and sunset is at {sunset:%H:%M}\")"
   ]
  },
  {
   "cell_type": "code",
   "execution_count": null,
   "metadata": {
    "ExecuteTime": {
     "end_time": "2024-08-17T10:19:07.367002Z",
     "start_time": "2024-08-17T10:19:07.365133Z"
    },
    "execution": {
     "iopub.execute_input": "2024-08-17T11:10:25.216596Z",
     "iopub.status.busy": "2024-08-17T11:10:25.216507Z",
     "iopub.status.idle": "2024-08-17T11:10:25.218313Z",
     "shell.execute_reply": "2024-08-17T11:10:25.218028Z"
    },
    "slideshow": {
     "slide_type": "fragment"
    }
   },
   "outputs": [],
   "source": [
    "# Wind direction and speed\n",
    "wind_knots = mps_to_knots(response['wind']['speed'])\n",
    "print(f\"Wind today is from {response['wind']['deg']}° at {round(wind_knots,1)} knots\")"
   ]
  },
  {
   "cell_type": "markdown",
   "metadata": {
    "slideshow": {
     "slide_type": "slide"
    }
   },
   "source": [
    "## Forecasted weather\n",
    "### Common definitions to use for all requests"
   ]
  },
  {
   "cell_type": "code",
   "execution_count": null,
   "metadata": {
    "ExecuteTime": {
     "end_time": "2024-08-17T10:19:07.369150Z",
     "start_time": "2024-08-17T10:19:07.367438Z"
    },
    "execution": {
     "iopub.execute_input": "2024-08-17T11:10:25.219716Z",
     "iopub.status.busy": "2024-08-17T11:10:25.219645Z",
     "iopub.status.idle": "2024-08-17T11:10:25.221342Z",
     "shell.execute_reply": "2024-08-17T11:10:25.221042Z"
    },
    "slideshow": {
     "slide_type": "-"
    }
   },
   "outputs": [],
   "source": [
    "BASE_URL = \"http://api.openweathermap.org/data/2.5/forecast?\"\n",
    "CITY = \"Noresund\"\n",
    "\n",
    "urlF = BASE_URL + \"q=\" + CITY + \"&appid=\" + API_KEY"
   ]
  },
  {
   "cell_type": "markdown",
   "metadata": {
    "slideshow": {
     "slide_type": "slide"
    }
   },
   "source": [
    "## Request forecasted weather in chosen city"
   ]
  },
  {
   "cell_type": "code",
   "execution_count": null,
   "metadata": {
    "ExecuteTime": {
     "end_time": "2024-08-17T10:19:07.505916Z",
     "start_time": "2024-08-17T10:19:07.369779Z"
    },
    "execution": {
     "iopub.execute_input": "2024-08-17T11:10:25.222724Z",
     "iopub.status.busy": "2024-08-17T11:10:25.222655Z",
     "iopub.status.idle": "2024-08-17T11:10:25.527518Z",
     "shell.execute_reply": "2024-08-17T11:10:25.526927Z"
    },
    "slideshow": {
     "slide_type": "-"
    }
   },
   "outputs": [],
   "source": [
    "responseF = requests.get(urlF).json()\n",
    "print(responseF)"
   ]
  },
  {
   "cell_type": "code",
   "execution_count": null,
   "metadata": {
    "ExecuteTime": {
     "end_time": "2024-08-17T10:19:07.510514Z",
     "start_time": "2024-08-17T10:19:07.506586Z"
    },
    "execution": {
     "iopub.execute_input": "2024-08-17T11:10:25.531372Z",
     "iopub.status.busy": "2024-08-17T11:10:25.531104Z",
     "iopub.status.idle": "2024-08-17T11:10:25.539982Z",
     "shell.execute_reply": "2024-08-17T11:10:25.539588Z"
    },
    "slideshow": {
     "slide_type": "slide"
    }
   },
   "outputs": [],
   "source": [
    "# Write JSON to file for viewing\n",
    "with open('downloads/forecast.json', 'w') as f:\n",
    "    json.dump(responseF, f, indent=4)"
   ]
  },
  {
   "cell_type": "markdown",
   "metadata": {
    "slideshow": {
     "slide_type": "slide"
    }
   },
   "source": [
    "### When and what?\n",
    "Check contents and time stamps"
   ]
  },
  {
   "cell_type": "code",
   "execution_count": null,
   "metadata": {
    "ExecuteTime": {
     "end_time": "2024-08-17T10:19:07.514214Z",
     "start_time": "2024-08-17T10:19:07.511162Z"
    },
    "execution": {
     "iopub.execute_input": "2024-08-17T11:10:25.542077Z",
     "iopub.status.busy": "2024-08-17T11:10:25.541931Z",
     "iopub.status.idle": "2024-08-17T11:10:25.546399Z",
     "shell.execute_reply": "2024-08-17T11:10:25.546054Z"
    },
    "slideshow": {
     "slide_type": "-"
    }
   },
   "outputs": [],
   "source": [
    "# Content of responseF\n",
    "responseF.keys()"
   ]
  },
  {
   "cell_type": "code",
   "execution_count": null,
   "metadata": {
    "ExecuteTime": {
     "end_time": "2024-08-17T10:19:07.516813Z",
     "start_time": "2024-08-17T10:19:07.514918Z"
    },
    "execution": {
     "iopub.execute_input": "2024-08-17T11:10:25.548459Z",
     "iopub.status.busy": "2024-08-17T11:10:25.548206Z",
     "iopub.status.idle": "2024-08-17T11:10:25.550357Z",
     "shell.execute_reply": "2024-08-17T11:10:25.550017Z"
    },
    "slideshow": {
     "slide_type": "fragment"
    }
   },
   "outputs": [],
   "source": [
    "# Number of forecasts\n",
    "print(len(responseF[\"list\"]))"
   ]
  },
  {
   "cell_type": "code",
   "execution_count": null,
   "metadata": {
    "ExecuteTime": {
     "end_time": "2024-08-17T10:19:07.520443Z",
     "start_time": "2024-08-17T10:19:07.518884Z"
    },
    "execution": {
     "iopub.execute_input": "2024-08-17T11:10:25.552002Z",
     "iopub.status.busy": "2024-08-17T11:10:25.551866Z",
     "iopub.status.idle": "2024-08-17T11:10:25.553997Z",
     "shell.execute_reply": "2024-08-17T11:10:25.553697Z"
    },
    "slideshow": {
     "slide_type": "slide"
    }
   },
   "outputs": [],
   "source": [
    "# Print forecast times\n",
    "for forecast in responseF[\"list\"]:\n",
    "    print(forecast[\"dt_txt\"])"
   ]
  },
  {
   "cell_type": "markdown",
   "metadata": {
    "slideshow": {
     "slide_type": "slide"
    }
   },
   "source": [
    "## Make plots of omnipresent measurements and events\n",
    "We will later look at missing data, data only sporadically appearing and so on."
   ]
  },
  {
   "cell_type": "code",
   "execution_count": null,
   "metadata": {
    "ExecuteTime": {
     "end_time": "2024-08-17T10:19:07.522603Z",
     "start_time": "2024-08-17T10:19:07.521029Z"
    },
    "execution": {
     "iopub.execute_input": "2024-08-17T11:10:25.555625Z",
     "iopub.status.busy": "2024-08-17T11:10:25.555523Z",
     "iopub.status.idle": "2024-08-17T11:10:25.557734Z",
     "shell.execute_reply": "2024-08-17T11:10:25.557460Z"
    },
    "slideshow": {
     "slide_type": "-"
    }
   },
   "outputs": [],
   "source": [
    "# Air pressure per period\n",
    "pressures = []\n",
    "timestamps = []\n",
    "for forecast in responseF[\"list\"]:\n",
    "    pressures.append(forecast[\"main\"][\"pressure\"])\n",
    "    timestamps.append(dt.datetime.fromtimestamp(forecast[\"dt\"]))"
   ]
  },
  {
   "cell_type": "code",
   "execution_count": null,
   "metadata": {
    "ExecuteTime": {
     "end_time": "2024-08-17T10:19:08.124779Z",
     "start_time": "2024-08-17T10:19:07.523100Z"
    },
    "execution": {
     "iopub.execute_input": "2024-08-17T11:10:25.559671Z",
     "iopub.status.busy": "2024-08-17T11:10:25.559500Z",
     "iopub.status.idle": "2024-08-17T11:10:25.930224Z",
     "shell.execute_reply": "2024-08-17T11:10:25.929965Z"
    },
    "slideshow": {
     "slide_type": "slide"
    }
   },
   "outputs": [],
   "source": [
    "import matplotlib.pyplot as plt\n",
    "plt.bar(timestamps, pressures)\n",
    "plt.xticks(rotation=45)\n",
    "plt.ylim(950, 1050)\n",
    "plt.grid()\n",
    "plt.ylabel(\"Air pressure (hPa)\")\n",
    "plt.title(f\"Forecasted air pressure in {CITY}\")\n",
    "plt.show()"
   ]
  },
  {
   "cell_type": "markdown",
   "metadata": {
    "slideshow": {
     "slide_type": "slide"
    }
   },
   "source": [
    "## Exercise\n",
    "- Make a new forecast request for your own hometown. Call your response something else than responseF.\n",
    "- If available, plot the humidity like we did with air pressure."
   ]
  },
  {
   "cell_type": "markdown",
   "metadata": {
    "slideshow": {
     "slide_type": "slide"
    }
   },
   "source": [
    "### Precipitation\n",
    "- ... comes in two main flavours: rain and snow.\n",
    "- We need to check which is present and set to zero if it is abscent."
   ]
  },
  {
   "cell_type": "code",
   "execution_count": null,
   "metadata": {
    "ExecuteTime": {
     "end_time": "2024-08-17T10:19:08.128573Z",
     "start_time": "2024-08-17T10:19:08.125858Z"
    },
    "execution": {
     "iopub.execute_input": "2024-08-17T11:10:25.931772Z",
     "iopub.status.busy": "2024-08-17T11:10:25.931647Z",
     "iopub.status.idle": "2024-08-17T11:10:25.933559Z",
     "shell.execute_reply": "2024-08-17T11:10:25.933354Z"
    },
    "slideshow": {
     "slide_type": "-"
    }
   },
   "outputs": [],
   "source": [
    "rain = []\n",
    "snow = []\n",
    "for forecast in responseF[\"list\"]:\n",
    "    try: # Check if rain is present in forecast\n",
    "        rain.append(forecast[\"rain\"][\"3h\"])\n",
    "    except KeyError:\n",
    "        rain.append(0)\n",
    "    try: # Check if snow is present in forecast\n",
    "        snow.append(forecast[\"snow\"][\"3h\"])\n",
    "    except KeyError:\n",
    "        snow.append(0)"
   ]
  },
  {
   "cell_type": "code",
   "execution_count": null,
   "metadata": {
    "ExecuteTime": {
     "end_time": "2024-08-17T10:19:08.223315Z",
     "start_time": "2024-08-17T10:19:08.129282Z"
    },
    "execution": {
     "iopub.execute_input": "2024-08-17T11:10:25.934695Z",
     "iopub.status.busy": "2024-08-17T11:10:25.934624Z",
     "iopub.status.idle": "2024-08-17T11:10:26.030528Z",
     "shell.execute_reply": "2024-08-17T11:10:26.030279Z"
    },
    "slideshow": {
     "slide_type": "slide"
    }
   },
   "outputs": [],
   "source": [
    "# Stacked bar chart with rain and snow\n",
    "plt.bar(timestamps, rain, label=\"Rain\")\n",
    "plt.bar(timestamps, snow, label=\"Snow\")\n",
    "plt.xticks(rotation=45)\n",
    "plt.grid()\n",
    "plt.ylabel(\"Precipitation (mm)\")\n",
    "plt.title(f\"Forecasted precipitation in {CITY}\")\n",
    "plt.legend()\n",
    "plt.show()\n"
   ]
  },
  {
   "cell_type": "markdown",
   "metadata": {
    "slideshow": {
     "slide_type": "slide"
    }
   },
   "source": [
    "```{seealso} Resources\n",
    ":class: tip\n",
    "- [YouTube: NeuralNine's video (15m:32s)](https://www.youtube.com/watch?v=9P5MY_2i7K8)\n",
    "```"
   ]
  }
 ],
 "metadata": {
  "celltoolbar": "Slideshow",
  "kernelspec": {
   "display_name": "Python 3 (ipykernel)",
   "language": "python",
   "name": "python3"
  },
  "language_info": {
   "codemirror_mode": {
    "name": "ipython",
    "version": 3
   },
   "file_extension": ".py",
   "mimetype": "text/x-python",
   "name": "python",
   "nbconvert_exporter": "python",
   "pygments_lexer": "ipython3",
   "version": "3.12.4"
  }
 },
 "nbformat": 4,
 "nbformat_minor": 2
}
