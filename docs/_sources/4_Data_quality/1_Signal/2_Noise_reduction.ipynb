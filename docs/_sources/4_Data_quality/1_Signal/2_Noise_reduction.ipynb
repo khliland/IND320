{
 "cells": [
  {
   "cell_type": "markdown",
   "metadata": {
    "slideshow": {
     "slide_type": "slide"
    }
   },
   "source": [
    "# Noise reduction\n",
    "- Noise reduction is typically the process of estimating and removing/reducing noise in a time series or spectrum.\n",
    "    - Measured wind speed: Average wind (over a suitably small time interval) may be more interesting than every little whirl and change.\n",
    "    - Master thesis on nuclear reactor cracks: 15 second resoultion gives uninteresting variations in the micrometer scale signal.\n",
    "    - Instruments have a limit to their certified sensitivity: Smoothing sub-sensitivity can make sense.\n",
    "- [scipy.signal](https://docs.scipy.org/doc/scipy/reference/signal.html) and [scipy.ndimage](https://docs.scipy.org/doc/scipy/reference/ndimage.html) have wide ranges of possibilites.\n",
    "- At this stage the general assumption is that noise is uninformative, thus can be removed without harming the signal."
   ]
  },
  {
   "cell_type": "code",
   "execution_count": null,
   "metadata": {
    "slideshow": {
     "slide_type": "fragment"
    },
    "tags": []
   },
   "outputs": [],
   "source": [
    "import numpy as np\n",
    "def SNR(signal, noise):\n",
    "    return 10*np.log10(np.sum(signal**2)/np.sum(noise**2))"
   ]
  },
  {
   "cell_type": "code",
   "execution_count": null,
   "metadata": {
    "slideshow": {
     "slide_type": "slide"
    },
    "tags": []
   },
   "outputs": [],
   "source": [
    "# Plot a cosine curve from 0 to 3pi\n",
    "import matplotlib.pyplot as plt\n",
    "x = np.linspace(0, 4*np.pi, 500)\n",
    "y_cos = np.cos(x)\n",
    "\n",
    "# Add noise to the curve\n",
    "noise = 0.2*np.random.normal(size=(len(x)))\n",
    "plt.plot(x, y_cos+noise, label='Noisy cosine curve')\n",
    "plt.plot(x, y_cos, label='Cosine curve')\n",
    "plt.xlabel('radians')\n",
    "plt.ylabel('amplitude')\n",
    "plt.legend()\n",
    "plt.show()"
   ]
  },
  {
   "cell_type": "markdown",
   "metadata": {
    "slideshow": {
     "slide_type": "slide"
    }
   },
   "source": [
    "## Moving average\n",
    "- A window of length _n_ slides along the measured values.\n",
    "    - Compute the average value of the window\n",
    "    - Replace the central value.\n",
    "- One of the simplest approaches available.\n",
    "- Useable on streaming data:\n",
    "    - No learning, lag equal to window width.\n",
    "- Can be tuned:\n",
    "    - Width of the window.\n",
    "    - Weighted average, e.g., more weight on the central values.\n",
    "    - Median instead of mean.\n",
    "    - Replace the last value instead of the middle value (maybe using different weights)."
   ]
  },
  {
   "cell_type": "markdown",
   "metadata": {
    "slideshow": {
     "slide_type": "slide"
    }
   },
   "source": [
    "### Simple moving average\n",
    "An efficient alterantive can be found in the [Uniform 1D filter from SciPy](https://docs.scipy.org/doc/scipy/reference/generated/scipy.ndimage.uniform_filter1d.html).\n",
    "- Handles edge effects - which values to where the window doesn't fit?\n",
    "- Can set which value to replace."
   ]
  },
  {
   "cell_type": "code",
   "execution_count": null,
   "metadata": {
    "slideshow": {
     "slide_type": "slide"
    },
    "tags": []
   },
   "outputs": [],
   "source": [
    "# Apply a simple moving average filter using uniform_filter1d\n",
    "from scipy.ndimage import uniform_filter1d\n",
    "y_sma = uniform_filter1d(y_cos+noise, size=20) # Note that 'size' refers to number of values, not x-axis units\n",
    "plt.plot(x, y_sma, label='Moving average')\n",
    "plt.plot(x, y_cos, label='Cosine curve')\n",
    "plt.xlabel('radians')\n",
    "plt.ylabel('amplitude')\n",
    "plt.legend()\n",
    "plt.show()\n",
    "print('SNR: {:.2f} dB'.format(SNR(y_cos, y_cos-y_sma)))"
   ]
  },
  {
   "cell_type": "markdown",
   "metadata": {
    "slideshow": {
     "slide_type": "slide"
    }
   },
   "source": [
    "### Visualisation of a filter at a given position.\n",
    "- The following figure shows a 20 timepoint filter when it reaches the interval 200-219."
   ]
  },
  {
   "cell_type": "code",
   "execution_count": null,
   "metadata": {
    "slideshow": {
     "slide_type": "fragment"
    },
    "tags": []
   },
   "outputs": [],
   "source": [
    "# The filter affects only locally\n",
    "x = np.linspace(0, 4*np.pi, 500)\n",
    "z = np.zeros(len(x))\n",
    "z[200:220] = 1/20 # Filter of width 20 at position 210\n",
    "plt.plot(x, z)\n",
    "plt.xlabel('radians')\n",
    "plt.ylabel('effect of filter')\n",
    "plt.rcParams['figure.figsize'] = [5, 4]\n",
    "plt.show()"
   ]
  },
  {
   "cell_type": "markdown",
   "metadata": {
    "slideshow": {
     "slide_type": "slide"
    }
   },
   "source": [
    "### Adding GUI controls\n",
    "- [_ipywidgets_](https://ipywidgets.readthedocs.io/en/latest/examples/Using%20Interact.html) is one way of adding controls to a plot.\n",
    "- Wrap your plot in a function, give the function as input to _interact_ together with tuples, Booleans, strings, etc. to automatically generate GUI elements."
   ]
  },
  {
   "cell_type": "code",
   "execution_count": null,
   "metadata": {
    "slideshow": {
     "slide_type": "fragment"
    },
    "tags": []
   },
   "outputs": [],
   "source": [
    "# Use ipywidgets to interactively change the size of the filter\n",
    "from ipywidgets import interact\n",
    "def plot_sma(size):\n",
    "    y_sma = uniform_filter1d(y_cos+noise, size=size)\n",
    "    plt.plot(x, y_sma, label='Moving average')\n",
    "    plt.plot(x, y_cos, label='Cosine curve')\n",
    "    plt.xlabel('radians')\n",
    "    plt.ylabel('amplitude')\n",
    "    plt.ylim(-1.5,1.5)\n",
    "#    plt.legend()\n",
    "    plt.title('SNR: {:.2f} dB'.format(SNR(y_cos, y_cos-y_sma)))\n",
    "    plt.show()\n",
    "interact(plot_sma, size=(1, 100, 1))\n"
   ]
  },
  {
   "cell_type": "markdown",
   "metadata": {
    "slideshow": {
     "slide_type": "slide"
    }
   },
   "source": [
    "### Exercise\n",
    "1. Modify the interactive code to include choice of edge effect handling.\n",
    "2. Modify further to choose between first, middle and last point in the window for origin (replaced value)."
   ]
  },
  {
   "cell_type": "markdown",
   "metadata": {
    "slideshow": {
     "slide_type": "slide"
    }
   },
   "source": [
    "## Robustifying\n",
    "- Instead of a simple average, one can use robust statistics.\n",
    "- Median filter - less affected by outliers, but results in a more jagged curve (medians typically change less frequently along a curve). ([medfilt](https://docs.scipy.org/doc/scipy/reference/generated/scipy.signal.medfilt.html) and [median_filter](https://docs.scipy.org/doc/scipy/reference/generated/scipy.ndimage.median_filter.html))\n",
    "- Robust mean filter - remove outer 5/10/20\\% of samples in the window."
   ]
  },
  {
   "cell_type": "code",
   "execution_count": null,
   "metadata": {
    "slideshow": {
     "slide_type": "fragment"
    },
    "tags": []
   },
   "outputs": [],
   "source": [
    "# Robust mean, play with last value in the array\n",
    "m = np.array([0, 1, 2, 3, 4, 5, 6, 7, 8, 9, 20])\n",
    "np.mean(m[(m > np.percentile(m, 5)) & (m < np.percentile(m, 95))])\n",
    "#np.mean(m)"
   ]
  },
  {
   "cell_type": "code",
   "execution_count": null,
   "metadata": {
    "slideshow": {
     "slide_type": "slide"
    },
    "tags": []
   },
   "outputs": [],
   "source": [
    "# Create a function that calculates the robust mean in local windows (no optimisation of speed here)\n",
    "def robust_mean(x, percentile=5):\n",
    "    return np.mean(x[(x > np.percentile(x, percentile)) & (x < np.percentile(x, 100-percentile))])\n",
    "\n",
    "def robust_mean_filter1d(x, filter_size, percentile):\n",
    "    tmp = np.array([robust_mean(x[i:i+filter_size], percentile=percentile) for i in range(len(x)-filter_size+1)])\n",
    "    return np.concatenate((np.repeat(tmp[1], np.floor(filter_size/2)), tmp, np.repeat(tmp[-1], np.ceil(filter_size/2)-1)))\n",
    "\n",
    "# Add five consecutive extreme values to the cosine curve\n",
    "# Example could be ice cream sales in the differente seasons with a new ice cream flavour coming out\n",
    "noise2 = noise.copy()\n",
    "noise2[100:104] = 2.5\n",
    "\n",
    "# Play with percentile and filter_size\n",
    "y_rmean = robust_mean_filter1d(y_cos+noise2, filter_size=20, percentile=20)\n",
    "plt.plot(x, y_cos+noise2, label='Cosine curve + noise')\n",
    "plt.plot(x, y_cos, label='Cosine curve')\n",
    "plt.plot(x, y_rmean, label='Robust mean')\n",
    "plt.xlabel('radians')\n",
    "plt.ylabel('amplitude')\n",
    "plt.legend()\n",
    "plt.show()\n",
    "print('SNR: {:.2f} dB'.format(SNR(y_cos, y_cos-y_rmean)))"
   ]
  },
  {
   "cell_type": "markdown",
   "metadata": {
    "slideshow": {
     "slide_type": "slide"
    }
   },
   "source": [
    "### Gaussian weighting\n",
    "- Use a normal distribution to weight the interval.\n",
    "- [SciPy's Gaussian 1D filter](https://docs.scipy.org/doc/scipy/reference/generated/scipy.ndimage.gaussian_filter1d.html#scipy.ndimage.gaussian_filter1d) has several parameters (in addition to edge mode), but most important is:\n",
    "    - _sigma_: the standard deviation of the kernel.\n",
    "- SciPy's default is to cut the filter at +/- 4\\*sigma"
   ]
  },
  {
   "cell_type": "code",
   "execution_count": null,
   "metadata": {
    "slideshow": {
     "slide_type": "slide"
    },
    "tags": []
   },
   "outputs": [],
   "source": [
    "import numpy as np\n",
    "import matplotlib.pyplot as plt\n",
    "\n",
    "sigma1 = 1\n",
    "sigma2 = 5\n",
    "\n",
    "def gaussian(size,sigma):\n",
    "    filter_range = np.linspace(-int(size/2),int(size/2),size)\n",
    "    # The normal distribution in 1D\n",
    "    gaussian_filter = [1 / (sigma * np.sqrt(2*np.pi)) * np.exp(-x**2/(2*sigma**2)) for x in filter_range]\n",
    "    return gaussian_filter\n",
    "\n",
    "# Plot the filters\n",
    "fig,ax = plt.subplots(1,2)\n",
    "fig.set_size_inches(8, 1)\n",
    "ax[0].plot(gaussian(size=301,sigma=sigma1))\n",
    "ax[0].axvline(x=150-4*sigma1, color='r', linestyle='--')\n",
    "ax[0].axvline(x=150+4*sigma1, color='r', linestyle='--')\n",
    "ax[0].set_title(f'sigma= {sigma1}')\n",
    "ax[1].plot(gaussian(size=301,sigma=sigma2))\n",
    "ax[1].axvline(x=150-4*sigma2, color='r', linestyle='--')\n",
    "ax[1].axvline(x=150+4*sigma2, color='r', linestyle='--')\n",
    "ax[1].set_title(f'sigma= {sigma2}')\n",
    "plt.show()"
   ]
  },
  {
   "cell_type": "code",
   "execution_count": null,
   "metadata": {
    "slideshow": {
     "slide_type": "slide"
    },
    "tags": []
   },
   "outputs": [],
   "source": [
    "from scipy.ndimage import gaussian_filter1d\n",
    "# New data for a change.\n",
    "# Here, we do not know the true underlying signal, so SNR is not calculated\n",
    "rng = np.random.default_rng(0)\n",
    "y = rng.standard_normal(301).cumsum()\n",
    "\n",
    "def plot_gauss(sigma, show_window, position):\n",
    "    y_gauss = gaussian_filter1d(y, sigma=sigma)\n",
    "    plt.plot(y, label='Random curve')\n",
    "    plt.plot(y_gauss, label='Gaussian filtered curve')\n",
    "    if show_window:\n",
    "        plt.axvspan(position-round(4*sigma), position+round(4*sigma), color='red', alpha=0.2, label='Filter window')\n",
    "    plt.xlabel('arbitrary units')\n",
    "    plt.ylabel('amplitude')\n",
    "    plt.legend()\n",
    "    plt.show()\n",
    "interact(plot_gauss, sigma=(0.1, 10, 0.1), show_window=True, position=(30, 270, 1))"
   ]
  },
  {
   "cell_type": "markdown",
   "metadata": {
    "slideshow": {
     "slide_type": "slide"
    }
   },
   "source": [
    "## Savitzky-Golay filters\n",
    "- [Savitzky and Golay in 1964](https://en.wikipedia.org/wiki/Savitzky%E2%80%93Golay_filter) made a sliding window smoothing filter using local polynomial fitting.\n",
    "    - Smoothing parameters: \n",
    "        - Window length/size/width: typically an odd number from 3 up to length of spectrum.\n",
    "        - Polynomial order: less than window length, typically 2 or 3.\n",
    "- Combined with discrete derivatives it produces smoothed derivative curves.\n",
    "    - Popular in spectroscopy, enhances certain characteristics of chemical variation.\n",
    "    - Second derivative popular for its baseline removal effect.\n",
    "    - Derivative parameter: Degree of derivative, non-negative integer.\n",
    "- Edge effects have different defaults from software to software."
   ]
  },
  {
   "cell_type": "code",
   "execution_count": null,
   "metadata": {
    "slideshow": {
     "slide_type": "slide"
    },
    "tags": []
   },
   "outputs": [],
   "source": [
    "# Savitsky-Golay filter\n",
    "from scipy.signal import savgol_filter # savgol_coeffs shows the coefficients used\n",
    "y_sg = savgol_filter(y, 81, 3) # window size 81, polynomial order 3\n",
    "\n",
    "# Plot the results\n",
    "plt.plot(y, label='Random curve')\n",
    "plt.plot(y_sg, label='Savitsky-Golay filtered curve')\n",
    "plt.xlabel('arbitrary units')\n",
    "plt.ylabel('amplitude')\n",
    "plt.legend()\n",
    "plt.show()"
   ]
  },
  {
   "cell_type": "markdown",
   "metadata": {
    "slideshow": {
     "slide_type": "slide"
    }
   },
   "source": [
    "### Smoothed signal or residual\n",
    "- Some times we may use a smoother to remove a trend.\n",
    "- This can be thought of as a high-pass filter (allowing only high frequencies)."
   ]
  },
  {
   "cell_type": "code",
   "execution_count": null,
   "metadata": {
    "slideshow": {
     "slide_type": "fragment"
    },
    "tags": []
   },
   "outputs": [],
   "source": [
    "# Plot the difference between the two curves\n",
    "plt.plot(y_sg-y)\n",
    "plt.xlabel('arbitrary units')\n",
    "plt.ylabel('amplitude')\n",
    "plt.show()"
   ]
  },
  {
   "cell_type": "markdown",
   "metadata": {
    "slideshow": {
     "slide_type": "slide"
    },
    "tags": []
   },
   "source": [
    "### Discussion point\n",
    "SNR can be estimated from a smoothed signal and its residual.  \n",
    "```\n",
    "def SNR(signal, noise):  \n",
    "    return 10*np.log10(np.sum(signal**2)/np.sum(noise**2))\n",
    "```\n",
    "- Could we achieve something useful from the previous slide?\n",
    "- Will this be a robust estimate?"
   ]
  },
  {
   "cell_type": "markdown",
   "metadata": {
    "slideshow": {
     "slide_type": "slide"
    }
   },
   "source": [
    "### Derivatives\n",
    "- A smoothed derivative shows the trend of the data series rather than the absolute value."
   ]
  },
  {
   "cell_type": "code",
   "execution_count": null,
   "metadata": {
    "slideshow": {
     "slide_type": "slide"
    },
    "tags": []
   },
   "outputs": [],
   "source": [
    "y_sg = savgol_filter(y, 15, 3) # window size 15, polynomial order 3\n",
    "yderiv = savgol_filter(y, 15, 3, 1) # window size 15, polynomial order 3, 1st derivative\n",
    "\n",
    "# Make a side by side plot with y and y_sg on the left and np.diff(y) and yderiv on the right\n",
    "fig,ax = plt.subplots(1,2)\n",
    "fig.set_size_inches(10, 4)\n",
    "ax[0].plot(y, label='Random curve')\n",
    "ax[0].plot(y_sg, label='Savitsky-Golay filtered curve')\n",
    "ax[0].set_xlabel('arbitrary units')\n",
    "ax[0].set_ylabel('amplitude')\n",
    "ax[0].legend()\n",
    "ax[1].plot(np.diff(y), label='Discrete derivative')\n",
    "ax[1].plot(yderiv, label='Savitsky-Golay filtered derivative')\n",
    "ax[1].set_xlabel('arbitrary units')\n",
    "ax[1].set_ylabel('amplitude')\n",
    "ax[1].legend()\n",
    "# Add a horizontal black line at y=0\n",
    "ax[1].axhline(y=0, color='k', linestyle='-')\n",
    "plt.show()"
   ]
  },
  {
   "cell_type": "markdown",
   "metadata": {
    "slideshow": {
     "slide_type": "slide"
    }
   },
   "source": [
    "## Bonus: Whittaker smoother\n",
    "- Whittaker in 1923 proposed to replace noisy data by a curve built from a penalized regression.\n",
    "    - Minimise difference between the curve and data while enforcing smoothing, typically in the form of a second derivative penalty.  \n",
    "      $F(\\hat{y}) = \\|y-\\hat{y}\\| + sP(\\hat{y})$\n",
    "    - $s$ controls the amount of smoothing.\n",
    "    - Closely related to Tikhonov Regression and its special case Ridge Regression (L2 penalisation).\n",
    "    - Python library [pybaselines.whittaker](https://pybaselines.readthedocs.io/en/latest/api/pybaselines/whittaker/index.html)."
   ]
  },
  {
   "cell_type": "code",
   "execution_count": null,
   "metadata": {
    "slideshow": {
     "slide_type": "slide"
    },
    "tags": []
   },
   "outputs": [],
   "source": [
    "from pybaselines.whittaker import asls\n",
    "# p=0.5 centres the \"baseline\" inside the data.\n",
    "y_whit, params = asls(y, 10**1, p=0.5)\n",
    "\n",
    "# Plot the results\n",
    "plt.plot(y, label='Random curve')\n",
    "plt.plot(y_whit, label='Whittaker filtered curve')\n",
    "plt.xlabel('arbitrary units')\n",
    "plt.ylabel('amplitude')\n",
    "plt.legend()\n",
    "plt.show()"
   ]
  },
  {
   "cell_type": "markdown",
   "metadata": {
    "slideshow": {
     "slide_type": "slide"
    }
   },
   "source": [
    "### Bonus: Baseline estimation\n",
    "- Used for baseline estimation/correction, the Whittaker smoother comes in many flavours.\n",
    "- Basic version: Asymmetric Least Squares (PHM Eilers 2003) iteratively weights each point along the curve by:\n",
    "    - $1-p$ if the curve is below the data,\n",
    "    - $p$ if the curve is above the data."
   ]
  },
  {
   "cell_type": "code",
   "execution_count": null,
   "metadata": {
    "slideshow": {
     "slide_type": "slide"
    }
   },
   "outputs": [],
   "source": [
    "# p<>0.5 moves the \"baseline\" towards outer regions of the data.\n",
    "\n",
    "# Plot the results\n",
    "def plot_asls(max_iter):\n",
    "    y_whit_u, _ = asls(y, 10**4, p=0.99, max_iter=max_iter)\n",
    "    y_whit_l, _ = asls(y, 10**4, p=0.01, max_iter=max_iter)\n",
    "    plt.plot(y, label='Random curve')\n",
    "    plt.plot(y_whit_u, label='Whittaker upper curve (p=0.99))')\n",
    "    plt.plot(y_whit_l, label='Whittaker lower curve (p=0.01))')\n",
    "    plt.xlabel('arbitrary units')\n",
    "    plt.ylabel('amplitude')\n",
    "    plt.legend()\n",
    "    plt.show()\n",
    "interact(plot_asls, max_iter=(0, 10, 1))"
   ]
  },
  {
   "cell_type": "markdown",
   "metadata": {
    "slideshow": {
     "slide_type": "slide"
    }
   },
   "source": [
    "### Bonus: Exponential decay in weights\n",
    "- Example of flavours: \"Peaked Signal's Asymmetric Least Squares Algorithm\"\n",
    "- Documentation:  \n",
    "  \"Similar to the asymmetric least squares algorithm, but applies an exponential decay weighting to values greater than the baseline to allow using a higher p value to better fit noisy data.\"\n",
    "- This version is not symmetric to up and down in the plot as we now in practice have $p\\cdot e^{-(y_i-\\hat{y}_i)/m}$ and $1-p$, so the code must be adapted to find \"topline\". ($m$ is a parameter controlling the exponential decay.)"
   ]
  },
  {
   "cell_type": "code",
   "execution_count": null,
   "metadata": {
    "slideshow": {
     "slide_type": "slide"
    }
   },
   "outputs": [],
   "source": [
    "from pybaselines.whittaker import psalsa\n",
    "\n",
    "y_whit_u, _ = psalsa(-y, 10**2, p=0.1)\n",
    "y_whit_l, _ = psalsa(y, 10**2, p=0.1)\n",
    "plt.plot(y, label='Random curve')\n",
    "plt.plot(-y_whit_u, label='Whittaker upper curve \"(p=0.9)\")')\n",
    "plt.plot(y_whit_l, label='Whittaker lower curve (p=0.1))')\n",
    "plt.xlabel('arbitrary units')\n",
    "plt.ylabel('amplitude')\n",
    "plt.legend()\n",
    "plt.show()"
   ]
  },
  {
   "cell_type": "markdown",
   "metadata": {
    "slideshow": {
     "slide_type": "slide"
    }
   },
   "source": [
    "## Bonus exercise\n",
    "- Fix the $p$ value at 0.01 and 0.99, respectively, for the upper (U) and lower curve (L).\n",
    "- Let _max_iter_ take it's default value, and assign the power of the smoother ($10^k$) to the slider:  \n",
    "  $k \\in [0,10]$ with increments of 0.1.\n",
    "- Make a side-by-side plot where the left one shows the same as the above (before the exponential smoothing), while the right one shows the data (D) after subtracting the lower curve (D-L) and dividing by the difference between the upper and lower curve (D-L)/(U-L)."
   ]
  },
  {
   "cell_type": "markdown",
   "metadata": {
    "slideshow": {
     "slide_type": "slide"
    }
   },
   "source": [
    "## Resources\n",
    "- [Signal-to-Noise Ratio in Python](https://saturncloud.io/blog/calculating-signaltonoise-ratio-in-python-with-scipy-v11/)\n",
    "- [Wikipedia: Decibels (dB)](https://en.wikipedia.org/wiki/Decibel)\n",
    "- [scipy.signal](https://docs.scipy.org/doc/scipy/reference/signal.html)\n",
    "- [medfilt](https://docs.scipy.org/doc/scipy/reference/generated/scipy.signal.medfilt.html) and [median_filter](https://docs.scipy.org/doc/scipy/reference/generated/scipy.ndimage.median_filter.html)\n",
    "- [ipywidgets](https://ipywidgets.readthedocs.io/en/latest/examples/Using%20Interact.html)\n",
    "- [pybaselines.whittaker](https://pybaselines.readthedocs.io/en/latest/api/pybaselines/whittaker/index.html)\n",
    "- [Wikipedia: Savitzky-Golay filter](https://en.wikipedia.org/wiki/Savitzky%E2%80%93Golay_filter)"
   ]
  }
 ],
 "metadata": {
  "celltoolbar": "Slideshow",
  "kernelspec": {
   "display_name": "IND320_2024",
   "language": "python",
   "name": "python3"
  },
  "language_info": {
   "codemirror_mode": {
    "name": "ipython",
    "version": 3
   },
   "file_extension": ".py",
   "mimetype": "text/x-python",
   "name": "python",
   "nbconvert_exporter": "python",
   "pygments_lexer": "ipython3",
   "version": "3.12.4"
  },
  "widgets": {
   "application/vnd.jupyter.widget-state+json": {
    "state": {
     "1807de8a9ad74c3085feffe234f381c7": {
      "model_module": "@jupyter-widgets/controls",
      "model_module_version": "2.0.0",
      "model_name": "CheckboxModel",
      "state": {
       "_dom_classes": [],
       "_model_module": "@jupyter-widgets/controls",
       "_model_module_version": "2.0.0",
       "_model_name": "CheckboxModel",
       "_view_count": null,
       "_view_module": "@jupyter-widgets/controls",
       "_view_module_version": "2.0.0",
       "_view_name": "CheckboxView",
       "description": "show_window",
       "description_allow_html": false,
       "disabled": false,
       "indent": true,
       "layout": "IPY_MODEL_cd758a79439b4327ba70a55887512d88",
       "style": "IPY_MODEL_23ee9ac2684848daba58dee2bef3352d",
       "tabbable": null,
       "tooltip": null,
       "value": true
      }
     },
     "1d898ce02cdc42f499d4c0ffb9e33a0b": {
      "model_module": "@jupyter-widgets/controls",
      "model_module_version": "2.0.0",
      "model_name": "VBoxModel",
      "state": {
       "_dom_classes": [
        "widget-interact"
       ],
       "_model_module": "@jupyter-widgets/controls",
       "_model_module_version": "2.0.0",
       "_model_name": "VBoxModel",
       "_view_count": null,
       "_view_module": "@jupyter-widgets/controls",
       "_view_module_version": "2.0.0",
       "_view_name": "VBoxView",
       "box_style": "",
       "children": [
        "IPY_MODEL_2def3ccc77f845298ff5f6cb69abe9cb",
        "IPY_MODEL_1807de8a9ad74c3085feffe234f381c7",
        "IPY_MODEL_bb874c2fe2e04079936ac719ecce9594",
        "IPY_MODEL_d6efd047f8f94155aa31de93d81876d2"
       ],
       "layout": "IPY_MODEL_433ddb223bc84b05805c14de27271402",
       "tabbable": null,
       "tooltip": null
      }
     },
     "23ee9ac2684848daba58dee2bef3352d": {
      "model_module": "@jupyter-widgets/controls",
      "model_module_version": "2.0.0",
      "model_name": "CheckboxStyleModel",
      "state": {
       "_model_module": "@jupyter-widgets/controls",
       "_model_module_version": "2.0.0",
       "_model_name": "CheckboxStyleModel",
       "_view_count": null,
       "_view_module": "@jupyter-widgets/base",
       "_view_module_version": "2.0.0",
       "_view_name": "StyleView",
       "background": null,
       "description_width": ""
      }
     },
     "2def3ccc77f845298ff5f6cb69abe9cb": {
      "model_module": "@jupyter-widgets/controls",
      "model_module_version": "2.0.0",
      "model_name": "FloatSliderModel",
      "state": {
       "_dom_classes": [],
       "_model_module": "@jupyter-widgets/controls",
       "_model_module_version": "2.0.0",
       "_model_name": "FloatSliderModel",
       "_view_count": null,
       "_view_module": "@jupyter-widgets/controls",
       "_view_module_version": "2.0.0",
       "_view_name": "FloatSliderView",
       "behavior": "drag-tap",
       "continuous_update": true,
       "description": "sigma",
       "description_allow_html": false,
       "disabled": false,
       "layout": "IPY_MODEL_5256a55e7f5f454bab45aa2fcaab56ea",
       "max": 10,
       "min": 0.1,
       "orientation": "horizontal",
       "readout": true,
       "readout_format": ".2f",
       "step": 0.1,
       "style": "IPY_MODEL_69a35da49d2f4c6e836fb598ff422402",
       "tabbable": null,
       "tooltip": null,
       "value": 5
      }
     },
     "3c8916fd86d24f1a85555b2122085ea7": {
      "model_module": "@jupyter-widgets/base",
      "model_module_version": "2.0.0",
      "model_name": "LayoutModel",
      "state": {
       "_model_module": "@jupyter-widgets/base",
       "_model_module_version": "2.0.0",
       "_model_name": "LayoutModel",
       "_view_count": null,
       "_view_module": "@jupyter-widgets/base",
       "_view_module_version": "2.0.0",
       "_view_name": "LayoutView",
       "align_content": null,
       "align_items": null,
       "align_self": null,
       "border_bottom": null,
       "border_left": null,
       "border_right": null,
       "border_top": null,
       "bottom": null,
       "display": null,
       "flex": null,
       "flex_flow": null,
       "grid_area": null,
       "grid_auto_columns": null,
       "grid_auto_flow": null,
       "grid_auto_rows": null,
       "grid_column": null,
       "grid_gap": null,
       "grid_row": null,
       "grid_template_areas": null,
       "grid_template_columns": null,
       "grid_template_rows": null,
       "height": null,
       "justify_content": null,
       "justify_items": null,
       "left": null,
       "margin": null,
       "max_height": null,
       "max_width": null,
       "min_height": null,
       "min_width": null,
       "object_fit": null,
       "object_position": null,
       "order": null,
       "overflow": null,
       "padding": null,
       "right": null,
       "top": null,
       "visibility": null,
       "width": null
      }
     },
     "40e90a8d90fd4a9386a2b70adfc7e67a": {
      "model_module": "@jupyter-widgets/base",
      "model_module_version": "2.0.0",
      "model_name": "LayoutModel",
      "state": {
       "_model_module": "@jupyter-widgets/base",
       "_model_module_version": "2.0.0",
       "_model_name": "LayoutModel",
       "_view_count": null,
       "_view_module": "@jupyter-widgets/base",
       "_view_module_version": "2.0.0",
       "_view_name": "LayoutView",
       "align_content": null,
       "align_items": null,
       "align_self": null,
       "border_bottom": null,
       "border_left": null,
       "border_right": null,
       "border_top": null,
       "bottom": null,
       "display": null,
       "flex": null,
       "flex_flow": null,
       "grid_area": null,
       "grid_auto_columns": null,
       "grid_auto_flow": null,
       "grid_auto_rows": null,
       "grid_column": null,
       "grid_gap": null,
       "grid_row": null,
       "grid_template_areas": null,
       "grid_template_columns": null,
       "grid_template_rows": null,
       "height": null,
       "justify_content": null,
       "justify_items": null,
       "left": null,
       "margin": null,
       "max_height": null,
       "max_width": null,
       "min_height": null,
       "min_width": null,
       "object_fit": null,
       "object_position": null,
       "order": null,
       "overflow": null,
       "padding": null,
       "right": null,
       "top": null,
       "visibility": null,
       "width": null
      }
     },
     "433ddb223bc84b05805c14de27271402": {
      "model_module": "@jupyter-widgets/base",
      "model_module_version": "2.0.0",
      "model_name": "LayoutModel",
      "state": {
       "_model_module": "@jupyter-widgets/base",
       "_model_module_version": "2.0.0",
       "_model_name": "LayoutModel",
       "_view_count": null,
       "_view_module": "@jupyter-widgets/base",
       "_view_module_version": "2.0.0",
       "_view_name": "LayoutView",
       "align_content": null,
       "align_items": null,
       "align_self": null,
       "border_bottom": null,
       "border_left": null,
       "border_right": null,
       "border_top": null,
       "bottom": null,
       "display": null,
       "flex": null,
       "flex_flow": null,
       "grid_area": null,
       "grid_auto_columns": null,
       "grid_auto_flow": null,
       "grid_auto_rows": null,
       "grid_column": null,
       "grid_gap": null,
       "grid_row": null,
       "grid_template_areas": null,
       "grid_template_columns": null,
       "grid_template_rows": null,
       "height": null,
       "justify_content": null,
       "justify_items": null,
       "left": null,
       "margin": null,
       "max_height": null,
       "max_width": null,
       "min_height": null,
       "min_width": null,
       "object_fit": null,
       "object_position": null,
       "order": null,
       "overflow": null,
       "padding": null,
       "right": null,
       "top": null,
       "visibility": null,
       "width": null
      }
     },
     "457087963d09431eafee194be8b92cc5": {
      "model_module": "@jupyter-widgets/controls",
      "model_module_version": "2.0.0",
      "model_name": "SliderStyleModel",
      "state": {
       "_model_module": "@jupyter-widgets/controls",
       "_model_module_version": "2.0.0",
       "_model_name": "SliderStyleModel",
       "_view_count": null,
       "_view_module": "@jupyter-widgets/base",
       "_view_module_version": "2.0.0",
       "_view_name": "StyleView",
       "description_width": "",
       "handle_color": null
      }
     },
     "5256a55e7f5f454bab45aa2fcaab56ea": {
      "model_module": "@jupyter-widgets/base",
      "model_module_version": "2.0.0",
      "model_name": "LayoutModel",
      "state": {
       "_model_module": "@jupyter-widgets/base",
       "_model_module_version": "2.0.0",
       "_model_name": "LayoutModel",
       "_view_count": null,
       "_view_module": "@jupyter-widgets/base",
       "_view_module_version": "2.0.0",
       "_view_name": "LayoutView",
       "align_content": null,
       "align_items": null,
       "align_self": null,
       "border_bottom": null,
       "border_left": null,
       "border_right": null,
       "border_top": null,
       "bottom": null,
       "display": null,
       "flex": null,
       "flex_flow": null,
       "grid_area": null,
       "grid_auto_columns": null,
       "grid_auto_flow": null,
       "grid_auto_rows": null,
       "grid_column": null,
       "grid_gap": null,
       "grid_row": null,
       "grid_template_areas": null,
       "grid_template_columns": null,
       "grid_template_rows": null,
       "height": null,
       "justify_content": null,
       "justify_items": null,
       "left": null,
       "margin": null,
       "max_height": null,
       "max_width": null,
       "min_height": null,
       "min_width": null,
       "object_fit": null,
       "object_position": null,
       "order": null,
       "overflow": null,
       "padding": null,
       "right": null,
       "top": null,
       "visibility": null,
       "width": null
      }
     },
     "56315b56b3874d9284675a4912fba130": {
      "model_module": "@jupyter-widgets/controls",
      "model_module_version": "2.0.0",
      "model_name": "IntSliderModel",
      "state": {
       "_dom_classes": [],
       "_model_module": "@jupyter-widgets/controls",
       "_model_module_version": "2.0.0",
       "_model_name": "IntSliderModel",
       "_view_count": null,
       "_view_module": "@jupyter-widgets/controls",
       "_view_module_version": "2.0.0",
       "_view_name": "IntSliderView",
       "behavior": "drag-tap",
       "continuous_update": true,
       "description": "max_iter",
       "description_allow_html": false,
       "disabled": false,
       "layout": "IPY_MODEL_3c8916fd86d24f1a85555b2122085ea7",
       "max": 10,
       "min": 0,
       "orientation": "horizontal",
       "readout": true,
       "readout_format": "d",
       "step": 1,
       "style": "IPY_MODEL_fa3195d363bb4051ba7341f47c70b794",
       "tabbable": null,
       "tooltip": null,
       "value": 5
      }
     },
     "5df95121b1a04f8a919d9c82e645620c": {
      "model_module": "@jupyter-widgets/base",
      "model_module_version": "2.0.0",
      "model_name": "LayoutModel",
      "state": {
       "_model_module": "@jupyter-widgets/base",
       "_model_module_version": "2.0.0",
       "_model_name": "LayoutModel",
       "_view_count": null,
       "_view_module": "@jupyter-widgets/base",
       "_view_module_version": "2.0.0",
       "_view_name": "LayoutView",
       "align_content": null,
       "align_items": null,
       "align_self": null,
       "border_bottom": null,
       "border_left": null,
       "border_right": null,
       "border_top": null,
       "bottom": null,
       "display": null,
       "flex": null,
       "flex_flow": null,
       "grid_area": null,
       "grid_auto_columns": null,
       "grid_auto_flow": null,
       "grid_auto_rows": null,
       "grid_column": null,
       "grid_gap": null,
       "grid_row": null,
       "grid_template_areas": null,
       "grid_template_columns": null,
       "grid_template_rows": null,
       "height": null,
       "justify_content": null,
       "justify_items": null,
       "left": null,
       "margin": null,
       "max_height": null,
       "max_width": null,
       "min_height": null,
       "min_width": null,
       "object_fit": null,
       "object_position": null,
       "order": null,
       "overflow": null,
       "padding": null,
       "right": null,
       "top": null,
       "visibility": null,
       "width": null
      }
     },
     "69a35da49d2f4c6e836fb598ff422402": {
      "model_module": "@jupyter-widgets/controls",
      "model_module_version": "2.0.0",
      "model_name": "SliderStyleModel",
      "state": {
       "_model_module": "@jupyter-widgets/controls",
       "_model_module_version": "2.0.0",
       "_model_name": "SliderStyleModel",
       "_view_count": null,
       "_view_module": "@jupyter-widgets/base",
       "_view_module_version": "2.0.0",
       "_view_name": "StyleView",
       "description_width": "",
       "handle_color": null
      }
     },
     "6d9ffa63ee46465c8bf85745679543ec": {
      "model_module": "@jupyter-widgets/output",
      "model_module_version": "1.0.0",
      "model_name": "OutputModel",
      "state": {
       "_dom_classes": [],
       "_model_module": "@jupyter-widgets/output",
       "_model_module_version": "1.0.0",
       "_model_name": "OutputModel",
       "_view_count": null,
       "_view_module": "@jupyter-widgets/output",
       "_view_module_version": "1.0.0",
       "_view_name": "OutputView",
       "layout": "IPY_MODEL_75038efe4a0c49e6a7b0f3886f77954d",
       "msg_id": "",
       "outputs": [
        {
         "data": {
          "image/png": "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",
          "text/plain": "<Figure size 500x400 with 1 Axes>"
         },
         "metadata": {},
         "output_type": "display_data"
        }
       ],
       "tabbable": null,
       "tooltip": null
      }
     },
     "6e7270f7e2e847a79660ccd596179c02": {
      "model_module": "@jupyter-widgets/base",
      "model_module_version": "2.0.0",
      "model_name": "LayoutModel",
      "state": {
       "_model_module": "@jupyter-widgets/base",
       "_model_module_version": "2.0.0",
       "_model_name": "LayoutModel",
       "_view_count": null,
       "_view_module": "@jupyter-widgets/base",
       "_view_module_version": "2.0.0",
       "_view_name": "LayoutView",
       "align_content": null,
       "align_items": null,
       "align_self": null,
       "border_bottom": null,
       "border_left": null,
       "border_right": null,
       "border_top": null,
       "bottom": null,
       "display": null,
       "flex": null,
       "flex_flow": null,
       "grid_area": null,
       "grid_auto_columns": null,
       "grid_auto_flow": null,
       "grid_auto_rows": null,
       "grid_column": null,
       "grid_gap": null,
       "grid_row": null,
       "grid_template_areas": null,
       "grid_template_columns": null,
       "grid_template_rows": null,
       "height": null,
       "justify_content": null,
       "justify_items": null,
       "left": null,
       "margin": null,
       "max_height": null,
       "max_width": null,
       "min_height": null,
       "min_width": null,
       "object_fit": null,
       "object_position": null,
       "order": null,
       "overflow": null,
       "padding": null,
       "right": null,
       "top": null,
       "visibility": null,
       "width": null
      }
     },
     "75038efe4a0c49e6a7b0f3886f77954d": {
      "model_module": "@jupyter-widgets/base",
      "model_module_version": "2.0.0",
      "model_name": "LayoutModel",
      "state": {
       "_model_module": "@jupyter-widgets/base",
       "_model_module_version": "2.0.0",
       "_model_name": "LayoutModel",
       "_view_count": null,
       "_view_module": "@jupyter-widgets/base",
       "_view_module_version": "2.0.0",
       "_view_name": "LayoutView",
       "align_content": null,
       "align_items": null,
       "align_self": null,
       "border_bottom": null,
       "border_left": null,
       "border_right": null,
       "border_top": null,
       "bottom": null,
       "display": null,
       "flex": null,
       "flex_flow": null,
       "grid_area": null,
       "grid_auto_columns": null,
       "grid_auto_flow": null,
       "grid_auto_rows": null,
       "grid_column": null,
       "grid_gap": null,
       "grid_row": null,
       "grid_template_areas": null,
       "grid_template_columns": null,
       "grid_template_rows": null,
       "height": null,
       "justify_content": null,
       "justify_items": null,
       "left": null,
       "margin": null,
       "max_height": null,
       "max_width": null,
       "min_height": null,
       "min_width": null,
       "object_fit": null,
       "object_position": null,
       "order": null,
       "overflow": null,
       "padding": null,
       "right": null,
       "top": null,
       "visibility": null,
       "width": null
      }
     },
     "82ba830ef8604ff4b46a94e34e225674": {
      "model_module": "@jupyter-widgets/base",
      "model_module_version": "2.0.0",
      "model_name": "LayoutModel",
      "state": {
       "_model_module": "@jupyter-widgets/base",
       "_model_module_version": "2.0.0",
       "_model_name": "LayoutModel",
       "_view_count": null,
       "_view_module": "@jupyter-widgets/base",
       "_view_module_version": "2.0.0",
       "_view_name": "LayoutView",
       "align_content": null,
       "align_items": null,
       "align_self": null,
       "border_bottom": null,
       "border_left": null,
       "border_right": null,
       "border_top": null,
       "bottom": null,
       "display": null,
       "flex": null,
       "flex_flow": null,
       "grid_area": null,
       "grid_auto_columns": null,
       "grid_auto_flow": null,
       "grid_auto_rows": null,
       "grid_column": null,
       "grid_gap": null,
       "grid_row": null,
       "grid_template_areas": null,
       "grid_template_columns": null,
       "grid_template_rows": null,
       "height": null,
       "justify_content": null,
       "justify_items": null,
       "left": null,
       "margin": null,
       "max_height": null,
       "max_width": null,
       "min_height": null,
       "min_width": null,
       "object_fit": null,
       "object_position": null,
       "order": null,
       "overflow": null,
       "padding": null,
       "right": null,
       "top": null,
       "visibility": null,
       "width": null
      }
     },
     "83a78c573b5140169e9b104df22b51ec": {
      "model_module": "@jupyter-widgets/output",
      "model_module_version": "1.0.0",
      "model_name": "OutputModel",
      "state": {
       "_dom_classes": [],
       "_model_module": "@jupyter-widgets/output",
       "_model_module_version": "1.0.0",
       "_model_name": "OutputModel",
       "_view_count": null,
       "_view_module": "@jupyter-widgets/output",
       "_view_module_version": "1.0.0",
       "_view_name": "OutputView",
       "layout": "IPY_MODEL_6e7270f7e2e847a79660ccd596179c02",
       "msg_id": "",
       "outputs": [
        {
         "data": {
          "image/png": "iVBORw0KGgoAAAANSUhEUgAAAdYAAAGJCAYAAAA3whJ4AAAAOXRFWHRTb2Z0d2FyZQBNYXRwbG90bGliIHZlcnNpb24zLjkuMiwgaHR0cHM6Ly9tYXRwbG90bGliLm9yZy8hTgPZAAAACXBIWXMAAA9hAAAPYQGoP6dpAABtPElEQVR4nO3dd1wUd/7H8dfs0rt0VEDEgoqCir33Fo2arkmMySW5XJox1buYXKpJ7pfeTNcULyYXNSZRY++KBVBUVFQQVIpIB2m78/tjkITYEBaGhc/z8diH7OzsznsV97PznW9RVFVVEUIIIYRFGPQOIIQQQjQlUliFEEIIC5LCKoQQQliQFFYhhBDCgqSwCiGEEBYkhVUIIYSwICmsQgghhAVJYRVCCCEsSAqrEEIIYUFSWIUQTdZdd91FmzZt9I4hmhkprELUUXx8PDfeeCPBwcE4ODjQqlUrRo0axfvvv19tvzZt2qAoCg8//PBFr7Fx40YUReF///tf1bYFCxagKErVzcbGhlatWnHXXXdx+vTpWuc9fPgwTz31FJGRkbi6uhIQEMCECRPYs2fPRfsuWbKEW265hbZt2+Lk5ETHjh15/PHHyc3NrfHxfvjhB/r27YuHhwdeXl4MGTKE33777aL9zGYzb7zxBiEhITg4ONCtWzf++9//1vp9Xs6f/04VRcHZ2ZnOnTvz8ssvU1xcbPHjieZHCqsQdbB9+3aioqLYt28f9957Lx988AF/+9vfMBgMvPvuu5d8zmeffcaZM2dqfIwXX3yRb775hvnz5zNu3Di+/fZbhgwZQklJSa0yf/7553z22WdERUXx5ptvMnv2bI4cOULfvn1Zu3ZttX3vu+8+EhISuP3223nvvfcYO3YsH3zwAf369eP8+fNXPdb777/PLbfcgre3N6+99hpz584lLy+P6667jiVLllTb91//+hdPP/101ZeSoKAgpk2bxvfff1+r93klo0aN4ptvvuGbb77hzTffpHv37sydO5cZM2ZY/FiiGVKFELU2fvx41cfHR83JybnosYyMjGr3g4OD1S5duqg2Njbqww8/XO2xDRs2qID6448/Vm376quvVEDdvXt3tX2ffvppFVAXL15cq8x79uxRCwoKqm3LyspSfXx81AEDBlyU668WLlyoAupnn3121WO1b99e7dWrl2o2m6u25eXlqS4uLuqkSZOqtp06dUq1tbVVH3zwwaptZrNZHTRokNq6dWu1oqKipm+vmhkzZqjBwcHVtgHVjnPBjTfeqBoMBvX8+fO1OpYQF8gZqxB1cPz4cbp06YKHh8dFj/n6+l60rU2bNtx5553XfNb6Z4MGDao69l+z/HXbpfTs2RMXF5dq27y8vBg0aBAJCQnVtg8dOvSi50+ZMgXgon0vJT8/H19fXxRFqdrm5uaGi4sLjo6OVdt+/vlnysvL+cc//lG1TVEUHnjgAU6dOsWOHTuueqxly5YRHh6Og4MD4eHhLF269KrP+TN/f/+qJnch6kIKqxB1EBwczN69ezlw4ECNn/Ovf/2LiooKXnvttVodMzk5GYAWLVpU2z5ixAhGjBhRq9cESE9Px9vbu0b7ATXad+jQoaxatYr333+f5ORkDh8+zIMPPkheXh6PPvpo1X6xsbE4OzvTqVOnas/v3bt31eNXsnr1am644QYURWHevHlMnjyZmTNnXvK6MUBJSQlZWVlkZWVx8uRJFi1axMKFC5k2bZoUVlF3ep8yC2HNVq9erRqNRtVoNKr9+vVTn3rqKfX3339Xy8rKLto3ODhYnTBhgqqqqjpz5kzVwcFBPXPmjKqqV24KXrt2rXr27Fk1NTVV/d///qf6+Pio9vb2ampq6kWv/9dmz5ravHmzqiiKOnfu3Kvue88996hGo1E9evToVffNyMhQR4wYoQJVN29vb3X79u3V9pswYYLatm3bi55fVFSkAuozzzxzxeNERkaqAQEBam5ubtW21atXq8Alm4IvdZs8ebJaUlJy1fckxNXIGasQdTBq1Ch27NjBpEmT2LdvH2+88QZjxoyhVatWLF++/LLPe/bZZ2t81jpy5Eh8fHwIDAzkxhtvxNnZmeXLl9O6detq+yUnJ1edzV6LzMxMpk2bRkhICE899dQV9120aBFffPEFjz/+OO3bt7/qa1/oSTxjxgx+/PFHvvzySwICApg6dSrHjh2r2u/8+fPY29tf9HwHB4eqxy8nLS2NuLg4ZsyYgbu7e9X2UaNG0blz50s+5/rrr2fNmjWsWbOGn3/+mTlz5rBq1SqmTZuGqqpXfV9CXIm0eQhRR7169WLJkiWUlZWxb98+li5dyttvv82NN95IXFzcJT/c27Ztyx133MGnn37KM888c8XX//DDD+nQoQN5eXl8+eWXbN68+ZJFqDaKioq47rrrKCgoYOvWrRdde/2zLVu2cM899zBmzBheeeWVGr3+TTfdhI2NDb/88kvVtuuvv5727dvzr3/9i8WLFwPg6OhIaWnpRc+/0PP5z9dj/+rkyZMAlyz0HTt2JCYm5qLtrVu3ZuTIkVX3J02ahJeXF0888QS//vorEydOrNH7E+JS5IxVCAuxs7OjV69evPrqq3z88ceUl5fz448/Xnb/C9daX3/99Su+bu/evRk5ciQ33HADy5cvJzw8nGnTplFYWFinvGVlZUydOpX9+/fz888/Ex4eftl99+3bx6RJkwgPD+d///tfja5DnjhxglWrVjFp0qRq2z09PRk4cCDbtm2r2hYQEEB6evpFZ4tpaWkAtGzZ8lreWq1cuD69efPmej+WaNqksApRD6KiooA/CsOlhIaGcvvtt/PJJ59ccb8/MxqNzJs3jzNnzvDBBx/UOp/ZbObOO+9k3bp1LFq0iCFDhlx23+PHjzN27Fh8fX1ZsWLFFc9q/ywjIwMAk8l00WPl5eVUVFRU3Y+MjKS4uPiinsbR0dFVj19OcHAwAImJiRc9duTIkRplBary1PULixBSWIWogw0bNlzymtyKFSsArSnySp599lnKy8t54403anzMoUOH0rt3b955551qk0TUdLgNwMMPP8zixYv56KOPmDp16mX3S09PZ/To0RgMBn7//Xd8fHwuu+9fj9+uXTsMBgOLFy+u9nd06tQptmzZQvfu3au2XX/99dja2vLRRx9VbVNVlfnz59OqVSv69+9/2eMGBAQQGRnJwoULycvLq9q+Zs0aDh06dPm/hL+40FwdERFR4+cIcSlyjVWIOnj44YcpLi5mypQphIWFUVZWxvbt21m8eDFt2rRh5syZV3z+hbPWhQsXXtNxn3zySW666SYWLFjA3//+d+CPpsyrdWB65513+Oijj+jXrx9OTk58++231R6fMmUKzs7OAIwdO5YTJ07w1FNPsXXrVrZu3Vq1n5+fH6NGjaq6/9fj+/j4cPfdd/P5558zYsQIpk6dSkFBAR999BHnz59nzpw5Vc9t3bo1s2bN4j//+Q/l5eX06tWLZcuWsWXLFr777juMRuMV39O8efOYMGECAwcO5O677yY7O5v333+fLl26XPIM9OjRo1Xvu7i4mJ07d7Jw4ULatWvHHXfcccVjCXFVuvZJFsLKrVy5Ur377rvVsLAw1cXFRbWzs1PbtWunPvzww5eceenCcJs/S0xMVI1GY41nXlJVVTWZTGpoaKgaGhpaNStRTYfbzJgx47JDTgA1KSmpat8r7TdkyJCL3t9fj19eXq6+//77amRkpOri4qK6uLiow4YNU9evX3/J9/Tqq6+qwcHBqp2dndqlSxf122+/ver7ueCnn35SO3XqpNrb26udO3dWlyxZctmZl/58MxqNauvWrdX77rvvon8zIWpDUVXpWy6EEEJYilxjFUIIISxICqsQQghhQVJYhRBCCAuyqsK6efNmJk6cSMuWLVEUhWXLll1x/wuLR//1dmEScSGEEMLSrKqwFhUVERERwYcffnhNzzty5AhpaWlVt0st5yWEEEJYglWNYx03bhzjxo275uf5+vpecr1MIYQQwtKsqrDWVmRkJKWlpYSHh/Pvf/+bAQMGXHbf0tLSapOBm81msrOz8fLyqrZYsxBCiOZDVVUKCgpo2bIlBsOVG3ubdGENCAhg/vz5REVFUVpayueff87QoUOJjo6mR48el3zOvHnzeOGFFxo4qRBCCGuQmpp60ZKNf2W1E0QoisLSpUuZPHnyNT1vyJAhBAUF8c0331zy8b+esebl5REUFERqaipubm51iSyEEMJK5efnExgYSG5ubrV1fy+lSZ+xXkrv3r2rzXf6V/b29pdc69LNzU0KqxBCNHM1uSRoVb2CLSEuLo6AgAC9YwghhGiirOqMtbCwkGPHjlXdT0pKIi4uDk9PT4KCgpgzZw6nT5/m66+/BrRVPEJCQujSpQslJSV8/vnnrF+/ntWrV+v1FoQQQjRxVlVY9+zZw7Bhw6ruz549G4AZM2awYMEC0tLSSElJqXq8rKyMxx9/nNOnT+Pk5ES3bt1Yu3ZttdcQQgghLMlqOy81lPz8fNzd3cnLy5NrrEII0UxdSy1odtdYhRBCiPokhVUIIYSwICmsQgghhAVJYRVCCCEsSAqrEEIIYUFSWIUQQggLksIqhBBCWJAUViGEEMKCpLAKIYQQFiSFVQghhLAgKaxCCCGEBUlhFUIIISxICqsQQghhQVJYhRBCCAuSwiqEEEJYkBRWIYQQwoKksAohhBAWJIVVCCGEsCAprEIIIYQFSWEVQgghLEgKqxBCCGFBUliFEEIIC5LCKoQQQliQFFYhhBDCgqSwCiGEEBYkhVUIIYSwICmsQgghhAVJYRVCCCEsSAqrEEIIYUFSWIUQQggLksIqhBBCWJAUViGEEMKCpLAKIYQQFiSFVQghhLAgKaxCCCGEBUlhFUIIISxICqsQQghhQVJYhRBCCAuSwiqEEEJYkBRWIYQQwoKsqrBu3ryZiRMn0rJlSxRFYdmyZVd9zsaNG+nRowf29va0a9eOBQsW1HtOIYQQzZdVFdaioiIiIiL48MMPa7R/UlISEyZMYNiwYcTFxTFr1iz+9re/8fvvv9dzUiGEEM2Vjd4BrsW4ceMYN25cjfefP38+ISEhvPnmmwB06tSJrVu38vbbbzNmzJj6inmxilIw2IDB2HDHFEII8QezqcE+g62qsF6rHTt2MHLkyGrbxowZw6xZsy77nNLSUkpLS6vu5+fn1z3I9vdgw6vg7AM+HaHdSIicDs7edX9tIepDWRHE/w+OroIzcVCSCzYO4NVO+/2NuAVatNE5pBCXUVEKR1bAwaXa72/+GfDtBH/f0iCHb9KFNT09HT8/v2rb/Pz8yM/P5/z58zg6Ol70nHnz5vHCCy9YNkhhJqhmKMzQbkmbYcM86HM/DHka7Jwsezwhastsgj1fwvqXtWL6Z+XFcGqXdtv0OnSfDiNfACdPXaIKcRFVhQM/wdoXIC+l+mNlRQ0Wo0kX1tqYM2cOs2fPrrqfn59PYGBg3V50zDwY9DgUpEHqLohbBGlxsO0dSPgFbvkW/DrX7RhC1FVBOkXf3YFz+i7trlMgTn3uwhgyiDyjJweTT3Ni/1bapq+iP/EQ8zUF+3/DPPVT3DuPvMqLC1HPSvJg+SNwaJl238UfIqdB6DDwbAv2rg0WpUkXVn9/fzIyMqpty8jIwM3N7ZJnqwD29vbY29tbNojRBlz9tVvL7tD7Pq2Z4rcnIPs4fDEKbloI7eXDSegk8zDlCybhXJxBgerI6xW3sih7BF32t8DjGGxJPFq5Y3egOz2VI7xm+zntK05T8cPN5I7+Pzz6363nOxDNWX4afHsDZB7U+rMMfgr6P6xba6BV9Qq+Vv369WPdunXVtq1Zs4Z+/fo1eBZVVfku+iSrDqSBokDYBHhgG7QZBGWF8P1tkLimwXMJQfoB1AXjsS3OINHciinlr5ASOg0zBuJP57ElMQsAbxd7ugd5MDGiJZ37jOatkM/4lYHYYMJj9WNs+u//YTarOr8Z0ewUpMNXY7Wi6uIHd/8OQ/W9xGZVZ6yFhYUcO3as6n5SUhJxcXF4enoSFBTEnDlzOH36NF9//TUAf//73/nggw946qmnuPvuu1m/fj0//PADv/32W4Pm3nniHO+sPcrOE9kAbH5yGEFeTtq1qTuWwv9mak3Ci2+Hu36D1lENmk80Y3mn4LsbUYrPsc/clvvVOSx9eiIB7o58F32S5XFnSM0u5oGhodzRr81FTz+V/QOLP/o7t1QsZ9Dhl/l+oS233fUIiqI0/HsRzc/5XO1MNScZPILhzp/BM0TvVCiqqlrNV8yNGzcybNiwi7bPmDGDBQsWcNddd5GcnMzGjRurPeexxx7j0KFDtG7dmrlz53LXXXfV+Jj5+fm4u7uTl5eHm5tbrXK/vuowH288XnW/va8L4a3ccXe0pUdwC67r7I3hh9sh8Xet5/C9G8Cjjtd1hbia8vOYPhuBMfMgR8ytuaX8Od64fQiju/hf08uUlFWQ9PXf6XTqR86rdkQPW8TQoaPqKbQQlcxm+H4aHF35x5lqPRbVa6kFVlVY9WCJwroyPo31hzNJyioiNjUX01+ay3q1acHULh7ccuBeDBkHILCvduZqtKoGBWFlzMsfxRCzgLOqO9eXvsTEwb2ZM75TLV/MRPL7E2iTs4PTqg9JN61mYHhbywYW4s+2vgNrnwejPdzzu9Z/pR5JYbUgSxTWP0s5V8xnW05wvtyEo62RH/akUlphBqC7ax4/qk9gU1EEQ/+pXScQoj4cWAL/m4lZVbiff3HTzXcwqrNfnZpwSwqyyX2nP/6mNH5WB9P1of/S1sfFgqGFqHRyByyYAKoJrnsHombW+yGlsFqQpQvrX6VmF/P5lhMs3HESgJvttvOG4QNQjHD3KgjsbfFjimYuPw3TB70wlhXwfsVkfK9/iVt6BVnkpSuSt2NYMAEDZj7wnstDDz1hkdcVokr5efi4P2SfgG63wJRPtA6h9exaakGT7hVsDQI9nXjh+nA2PDGUVh6O/FDWn1XGIdo3seWPgKlc74iiiTGtfBpjWQFx5lB2Bd/HzVGWu55v06Y/+T0fAmDa2bc5nnzSYq8tBKBNTpJ9Alxbwvj/NEhRvVZSWBuJEG9nlj7YH28XO54umk6ZXQs4mwA7P9Y7mmhKjv6OMeFnKlQD/2f3D96d1sviPXg9xs3llG0InkohBSuft+hri2YubT9se0/7ecKb4OB+yd0KSsr5dudJVsanNWC4P0hhbUR8XR24PrIVebiwxPt+bePG1yDvtL7BRNNQVoz62+MAfGEax4hhI/B0trP8cWzsONlXmxa0W8Yy1NOxlj+GaH5UFVY8obXmdZ4MYeMv2qWswsx/fj/MsP/byLPLDvDAdzGMfnsT3+xIpqTc1GBRpbA2MqM6a3Mbv5gaQVnL3lBeBGvm6pxKNAnRH6PkpXJa9WK+chM39Gxdb4fqMeg6flUHYEClaNlj2tAIIeoiYTmkRoOtE4x97ZK7PP3Tfj7ccJyswrKqbUczCpn780GG/GcDxWUVDRJVCmsj0yfEk+5BHhSXq7ym3KNtPPATpO3TN5iwbsXZ2vAE4D/ltzCkSxvcHGzr7XCOdkb2dJhNoeqAy9lYSPi53o4lmoGKMlj7b+3n/g+DW0DVQwUl5WxNzGLBtiSWxp7GxqDw6pSuHH15HNueGc7zEzvTysORvm29cLJrmCGMUlgbGUVReOn6cOyMBr487kpa4HXaA+te0jeYsG6b/w9K8zlkDuZnc39mDqj/2WmG94rgc5PWXGde/4q2co4QtbH3K63DkrMv9H+kavP5MhO3fbaT27+I5t+/HALg7oEhTOsThJ2NgVYejswcEMLGJ4fy74ldGiyuFNZGKLyVO3cP1D74/lM+VZtU+tgaSN6mczJhlXJTYPdnALxWcSt92noTEehR74ftH+rFcsep5KguGM4lwv7F9X5M0QSVFcPm/2g/D5sD9n+Mjf544zEOnNbWzHawNTC1RyseH93hopewNRpoUR/9CS5DCmsjdXvfIAwKLEl2IDfsNm3j+pf1DSWs09Z3wFRGtNqFzeZu3D84tEEOa2M0MPfGPnximghA8eqXtSY9Ia5FzEIoOgseQdD9DgDKTWbeXnOU99Zrc8d/OK0HCS+O5a2bI7G3MeqZFpDC2mi1buFU1ZHpI3UqGO0gZbs244gQNVWQDrHfAvB2+RQ6BbgztKNPgx1+WEdfHPo/QKbqgVPxacpjFzXYsUUTUF5S1TeAgbPBqPUL+GjDcd5dlwjAoPbejAv3b1QLP0hhbcT+Nkiba/XLfSXkdbxR27j1LR0TCauz4wMwlRJLR3aaO/HgsNAG/wD6+6hwFttMAiB37ZvSQ1jUXOw3UJgObq21RcsBk1nlv7tSAHhyTEcWzuyNwdB4iipIYW3UerXxZGhHHyrMKvceG4iqGCBxNaTH6x1NWIPibNj9JQDvlk0ixNuFceEBV3mS5TnYGomYMot81Qmf0hTy90kPYVEDpgrY9q7288BZYGOP2azy/vpE0vNL8HCy5W+DQhpdUQUprI3ef26MINjLiV35HuxxHqJt3Pq2vqGEddj9BZQXccwQwkZzJHf1b4NRpw+hweGhrHLSeriXbXpLG+wvxJUkLIe8VHDyhu63A/Dszwd4Z63WBDxrRPtGcT31UqSwNnI+rvZ8cFsPbI0Kz5+rXOPy4DJtgWohLqeiDHZ/DsD7JeOwNRqY0qOVrpGKIu+hVLXFO3c/pEhfAXEVOz/S/ux1D9g6siXxLIuitSbgR0e0Z0b/NvpluwoprFaga2t3/jG0HYfUNsTbdtOm9Nrzpd6xRGN2aBkUplNs78MKc196BLWo1wkhamJQ9y78ZBoIQPmO+bpmEY1c6m44tVvrtNnrb+SXlPPwf7WpMW/vG8Rjozo0qs5KfyWF1Urc3jcYG4PCB0XDtQ17vtKWTxLir1S1avGG1Y4TKMeGQe29dQ4F7Xxd2eA2GQDjkV8h/4y+gUTjtfND7c+uN4GLL4t3pZJbXE6ojzPPTuisb7YakMJqJXxc7RnV2Y+15p7k2vrB+WxtqkMh/urUbjgTg2q057Wz/QAY1dlf51Catl37EG0Ow6CatC+HQvxVfhocWq793PcBMvNL+HCjNl713kFtcbBtnNdV/0wKqxW5tXcQJox8VT5C2xD9iXQCERervLa602kY6SZX2vu60NHfVedQmqEdfFlYMRoAde9XUFGqcyLR6MR+q13uCupHUYtO3PHFLnKLy+nS0o2pPepv4QhLksJqRQa186Z1C0cWlgzBZLCD9P1wJkbvWKIxOZ8Dh7ThLK9l9Qe0sX6NRVSbFuy060u62gKl6OwfZyZCgDbGOeZr7eeeM/l08wmOZBRonTin9cDOxjpKlnWkFAAYDAq39Q4iF1c2GPpqG2O+0TeUaFz2/wgVJWQ5t2OfGsrITr6M7tI4moFBm7P19gHt+W+F1ldAjVmocyLRqJxYD3kp4OBBcbvxfLk1CYAXJnUhxNtZ53A1J4XVytzZLxhPZzu+KB4EgBr/Pygr0jmVaBRUVZtXFfhJHQEoDO3oq2+mS7h7QBuWG4ZhVhWU5C2QnaR3JNFY7F2g/RlxGysO51FQWkGQpxNjG9GXw5qQwmplXB1sefPmCHbTmZNmX5SygqqmP9HMnYmBjAOYDXZ8mN0TexsDYxrhB5KHkx19IiPYag4HwBz7nc6JRKNQkA5HVmo/95zBL/u0XuM3R7VulLMrXYkUVis0rKMvN0UFs9g0VNsgzcECYK92trrVbgD5uDCtTxA+rvY6h7q0x0Z14Bej1gmvZPfXslargLjvwFwBgX0pcGvHjuPnABgb3vi+HF6NFFYrNb1PED+ZBmNSFW3Vm6xEvSMJPZUWVg2/+jBvIHZGQ4MtD1cbfm4OhA25hVzVGaeSDCqOrdc7ktCTqladIJRF3sE/vouhzGQmyNOJUB+Xqzy58ZHCaqXCW7nj1zqEDeZIbUOsnLU2a4d+hrJCchyCiFbDGB7mi7+7g96prui2AR1YZRgMwJkNn+mcRugqdRfkJIGdC88ltmdLYhb2NgaendCpUc+wdDlSWK3YjT1b88OF5uB930tzWnO2fzEAvxqGAArDwxpfp6W/crKzwTbqTgD809ZRXpClcyKhm/3fA5DXZiyL92m/B1/d1atR9Wi/FlJYrdi48AA2qd3JUV2gMAOSNusdSegh/0zVv/0nOT0xKDA0rOEWM6+LcaNGc5gQ7Kgg/neZ/7pZqiiDA0sA+KqgD6oK47v607+d/tNw1pYUVivm42pPr1B/Vpj6aBvi/6dvIKGPAz8BKmfcIjil+tI/1Btf18bdDHyBk50NOe2mAGBzaAkms8wk1uwkroaSXMqd/HgvKQBFgVkjO+idqk6ksFq5iREBLDMNAEBNWA7lJTonEg2ushn4Z7O2csx13Rp+MfO6iBw3EzMK3cwJ7N23T+84oqFVNgOvtx2CGQOTIlrSwa9xTMFZW1JYrdzY8AASbDtxSvVGKc2Ho6v0jiQaUmYCpMejGmz57Fw3AIZ0tI5m4AscvYJIdukOwKkt0gmvWTmfA0d/B+Ddsz0AeHh4Oz0TWYQUVivn7mjLTb2C+cWkrWJC/I/6BhINa/8PAKT5DiRbdaWdrwsB7o46h7p2Dt1vAaBT1mo2HMnUOY1oMAeXgamMbJf2HDIH0T3Ig3a+1n22ClJYm4S7B4Sw3Kw1B5uPrta+BYqmz2yu+iL1fYn2xWpit5Z6Jqq1lv1upkKxoZMhhZjd2/WOIxpK5djrC5cxpnRvpWcai5HC2gQEejoR0CGKBHMgBnMZJPyidyTREE7thrxUTLYufJLeAaNB4ZZegXqnqh0nT3JbDgHAO1l+f5uFggxI3grA59mR2BgUJnS1rv4BlyOFtYkYHubL8spOTNI7uJmonCP694oelGLHzVGBjX5SiCtxiboNgGFlm0jJkoUlmryE5YDKWfeunMaHPm098XJpnFNwXisprE3EsDBffjVrw27U5K1QdE7nRKJemc2olYV1aWkUoT7OPD7auocoOHSZQIniQJDhLDu3rtY7jqhvB5cBsMVWawbuG+KlYxjLksLaRLTycMTJtx3x5jYoqgkO/6p3JFGfzsSg5J+iUHVgpyGSBTN7423t3/btnMgMGAqAWRZAb9oK0uHkNgC+zNF6s/dpK4VVNELDwnxZeWGyCFlKrmk7tAyA9ebuDO4cSKCnk755LMS7900A9CvZSvLZQp3TiHqT8AugUuQTyYEid1zsbYgIdNc7lcVIYW1CrusWwEpzbwDUpE1QnK1zIlEvVLWqGXiFqU+T6fAB4NRpLKWKPcGGTPbu2qJ3HFFfDi4FYLPtIEDrI2JvY9QzkUVJYW1Cwlu50yKwEwnmIBRzxR+LBoumJS0OJTeFYtWevXY9rWLC/RqzdyHDR+uEVxT3ExUms86BhMUVpMNJbUjVy0ntAZjao2kMs7nA6grrhx9+SJs2bXBwcKBPnz7s2rXrsvsuWLAARVGq3RwcrLfXZE3c2a8NK0zaWau5snOAaGIqz1bXmyMZExmCg23T+aYP4Nf3ZgD6l25jS6KseNPkVDYDpzh14bTqzcSIlgzt2IS+HGJlhXXx4sXMnj2b559/npiYGCIiIhgzZgyZmZefqcXNzY20tLSq28mTJxswccMb19WfnY5a84p6fD2U5OmcSFiUqmKq/MK00tSHm6OsdNzqFdh3Hk+FYks7wxkOxkXrHUdYWuU4+2WlPQGY0t06JzW5EqsqrG+99Rb33nsvM2fOpHPnzsyfPx8nJye+/PLyy00pioK/v3/Vzc/PrwETNzx7GyOTRgzliLk1RrUCU8JvekcSlpRxAGNOEiWqLae8B9K1VdPp8FHFwZ0cf6052Om4/P42KedzqiaF+Kk4Ehd7G/qHWu/ycJdjNYW1rKyMvXv3MnLkyKptBoOBkSNHsmPHjss+r7CwkODgYAIDA7n++us5ePDgFY9TWlpKfn5+tZu1uSkqkE1GbYq7s3uW6JxGWFRlM/BGcySju4eiKIrOgeqHa48bAOhXupWT52SyiCbj6GpQTaTaBHNS9ef2vsFN7lIGWFFhzcrKwmQyXXTG6efnR3p6+iWf07FjR7788kt+/vlnvv32W8xmM/379+fUqVOXPc68efNwd3evugUGWl9Tm4OtEfvw6wDwOLNFlpJrQsoOaOM7V5p6Wd3ycNfCoct1mDDQyZBKTFys3nGEpRzRWiCWlWirGd3ZL1jPNPXGagprbfTr148777yTyMhIhgwZwpIlS/Dx8eGTTz657HPmzJlDXl5e1S01NbUBE1vOqOGjOaN64qCWcDpWlpJrErJPYJd9hArVgCl0FMFeznonqj9OnqR7aB++WTE/o6qyALrVKy+BxLUArDZFERXcgpYe1rcSU01YTWH19vbGaDSSkZFRbXtGRgb+/v41eg1bW1u6d+/OsWPHLruPvb09bm5u1W7WqGULJ466a52YzkT/pHMaYQnlCSsAiDZ3YtqQbjqnqX9uEZMA6Jy/jVUHLt0qJaxI0iYoL+KcwYt4NYQJTbjFxWoKq52dHT179mTdunVV28xmM+vWraNfv341eg2TyUR8fDwBAU33H/TPfKMmA9AmazNl5RX6hhF1lhenNQPvtu9D3yY0/dvluFYW1j6GBH6OPqRzGlFnh7Vm4N/KeqAoCuOb0MQmf2U1hRVg9uzZfPbZZyxcuJCEhAQeeOABioqKmDlzJgB33nknc+bMqdr/xRdfZPXq1Zw4cYKYmBhuv/12Tp48yd/+9je93kKDCus7nkIc8VFyObx3k95xRF2cz6HF2d0AOHediMHQNDstVePZljLPjtgoZuyT1pGWd17vRKK2zCY4orW4rDZH0SfEEz+3pjungFUV1ltuuYX/+7//47nnniMyMpK4uDhWrVpV1aEpJSWFtLS0qv1zcnK499576dSpE+PHjyc/P5/t27fTuXNnvd5CgzLYOXDMrS8A52KW6pxG1EV+/AqMmDlsDmR4/956x2kwdp0nADDSsJclMad1TiNq7dQeKDpLAU5Emzs1yfHXf2ZVhRXgoYce4uTJk5SWlhIdHU2fPn2qHtu4cSMLFiyouv/2229X7Zuens5vv/1G9+7ddUitH6euEwFolb5Bhi1Ysay9ywCId+lPqI+LvmEaUsfxAAwx7OPXmGR9s4jaq1xta70pEgd7B8aFN91mYLDCwiquTYeBUzFhoIPhFBt3XH76R9GIVZThn6lNSO9UOYyq2WjVE7OTD27KeTzP7SE1u1jvROJaqeofzcCmKCZGtsTRrumNXf0zKaxNnWMLsrx6AVCRIGu0WqOyE5txUs+TqXrQtfdwveM0LIMBQ8exAIw0xLDx6FmdA4lrdu44nDtGmWpkk7lbk28GBimszYJTN+0sp0vBNjLyZbIIa5MXq822tNUQRWBTHrt6OZXNwaOMe9mYkHGVnUWjk/g7ALvMYQT4+hLRuglOw/kXUlibAddu1wPQSznMln2JOqcR10RVcUxaDUCK95AmO4XhFbUditnGgdZKFmdPxFBSbtI7kbgG6lGtsG4wd+e23kHN4ndYCmtz0CKYc06hGBWVs/tljVarknEAl5J0zqt2uHYeoXcafdg5oYQOA2CweQ/RSdk6BxI1VlqAWrn26lalBzf0aK1zoIYhhbW5aD8KgICMLfKN34pkxmqD6neo4UyKaqdzGv0oHbTrrMOMcWw4fPllIkUjc2IjBnM5SWY/unTribuTrd6JGoQU1mbCM1IbDzhQiWPHMekAYi2KDmrNaJm+A/Bxtdc5jY7aaV8MuyvHiD18+SlJReNSGK/1Bt5g7s6d/droG6YBSWFtJpSgfpQYnPBW8jkSu0XvOKIGCgtyaV24D4CQftfrnEZn7q0w+XbBoKgE50aTlCVjshs9VYVErX9Apv9gIgM99M3TgKSwNhdGW/JaapPy2x5fI6uFWIHta5dhi4kzij+9ukfpHUd3xg6jAWkOthpp+3Apz6JItadz3/F6p2lQUlibEY8IrTm4Z/luYlJy9Q0jrqr8iPZtv6D14OYxN/DVVDYHDzbsZ8U+61zOsTnJjvsFgO1qV4Z0aR6dli6QwtqM2IeNASDScIJF63brnEZcyZnc83Qp3gOAf49mNtvS5QT2xmzvhpdSQMWpWBIzCvROJK6g7LDWPyDVexDujs2j09IFUlibE1d/Sry7AmA4sZ7CUllKrrHasXsXbQwZVGDEvXMzm23pcoy2GEK1v4thxjh+i0+7yhOEboqy8M0/AIBHRPNqBgYprM2OQ2dt2MJgJZatiVk6pxGXk3dA+7Z/1iMS7F31DdOYtNeusw41xLHmkMzC1FidjF6OAZUENZghPSP0jtPgal1Yjx8/zrPPPsttt91GZqbWkWDlypUcPHjQYuFEPaj8YBps2M+WI/KNvzHKKSojKGcHAI6dRuucppFpNxKACMMJMs6kklVYqnMgcSn5+7V5yU95D8LLpfkNE6tVYd20aRNdu3YlOjqaJUuWUFhYCMC+fft4/vnnLRpQWFirnpTZeeCuFFN4bIfeacQlbEw4RT9F+4Lq0W2czmkaGVc/CIgEtKXk9p/K1TWOuARTBW1ydwLg2rX5NQNDLQvrM888w8svv8yaNWuws7Or2j58+HB27txpsXCiHhiMEKpNjdehYAdnC+Qbf2OTHLMeZ6WUIltP8Ouqd5zG50JzsDGOfal5OocRf5WbuA1XishRXejQs3n2D6hVYY2Pj2fKlCkXbff19SUrS67bNXZ2nSqnhzPsY/HuFJ3TiD8rKTfhcnozAGXBQ8Ag3SAu8qfLGXEn5fOmscmK02ZbirPrgaero85p9FGr/7UeHh6kpV18fS42NpZWrVrVOZSoZ6EjUFHobDjJss27Ka2QuYMbi50nztFfjQPAvas0A19Sqx6YHFrgrhRTmryT/JJyvROJP3FM2QhAbsvB+gbRUa0K66233srTTz9Neno6iqJgNpvZtm0bTzzxBHfeeaelMwpLc/aCVtpMPj3KY9h+7JzOgcQFcQlH6GI4CVA1tET8hcGIsb3WiWkQsaxPkFmYGo2icwQUHwHAI3yMzmH0U6vC+uqrrxIWFkZgYCCFhYV07tyZwYMH079/f5599llLZxT1QGmnXWcdbNjP7wfTdU4jLlCObwAgx70zuPjonKYRqxp2s48dx+WLYWNxbv8qbZiNOYjIzmF6x9FNrQqrnZ0dn332GcePH+fXX3/l22+/5fDhw3zzzTcYjUZLZxT1obKwDjQcYO3BM5jMMnew3krKTYTkaZ3/DJVnZOIy2mrrs3YxnOR48gmdw4gLzlWu95zo2psWznZX2bvpsqnLk4OCgggKCrJUFtGQWvZAdXDHoySPwPOH2Z3ci75tvfRO1aztT81hgLIfALdm3IxWIy4+VPh1wyZjP62zo8kpGt+sP8gbBVXFO2MbAHYdR+kcRl81LqyzZ8+u8Yu+9dZbtQojGpDRBqXtUDj0M4MN+1l1IF0Kq85OHthOb6WA84oTjoF99I7T6Nm0HwkZ+xls3M/WY1lMjGipd6RmLTspFk9zNsWqPd36j9U7jq5qXFhjY2Or3Y+JiaGiooKOHTsCcPToUYxGIz179rRsQlF/QkdohdW4n4cPpvP8xM4oiqyiohfjifUAZHj3oY2xeU1aXiuhw2HrWwwy7Oe1w+lSWHWWsusXPIGDdl3p5e2hdxxd1biwbtiwoernt956C1dXVxYuXEiLFi0AyMnJYebMmQwaNMjyKUX9qLzOGqkcozAvi0Np+XRp6a5zqObJbFYJrpytxijXV2smsA8mG2d8KvI5dXg3ZRWR2NnIuF+9OFQOsylsPUTfII1ArX4L33zzTebNm1dVVAFatGjByy+/zJtvvmmxcKKeubcG744YFZUBhoNsPiqD7fWSfPoMEao2TMG/xwSd01gJGzuUEO2LfPeyGLYeO6tzoObLVFJI22Ktf4B3pIy/rlVhzc/P5+zZi3+Jz549S0GBrJFoVf407GbjERkPqJfTsauxUcycMbbC1jtE7zhWw/Cn319Z7UY/KbGrsaOC06oPYV166B1Hd7UqrFOmTGHmzJksWbKEU6dOcerUKX766Sfuuecepk6daumMoj5Vzhs82LifvSezKZBZbHRhk6RdX03zGaBzEitTWVijDEc4nCLjsfWSX7nM4TG33tjayJDLWhXW+fPnM27cOKZNm0ZwcDDBwcFMmzaNsWPH8tFHH1k6o6hPwf3BaE8r5RzB6mm2ySxMDU9VCam8vmrbQa6vXhPPtlS4BWGnmPA8u4vzZTI9px6807cCoMpsYUAtC6uTkxMfffQR586dIzY2ltjYWLKzs/noo49wdna2dEZRn+yctOIKDDHs58c9qToHan6yUw7hr2ZSqtoQ3EPGr14TRcHYvnKyE2U/8adltZuGVpyZRCvTKSpUAyG9pH8A1GGhcwBnZ2e6detGt27dpKBas3Z/NAevO5xJUlaRzoGal4yY3wA4ZNMFdw8PfcNYoT9Pz7n1mHTAa2gpu5YDcMjYgaCW/jqnaRxqNfPSsGHDrjjecf369bUOJHQQOgJ4ln7Gw9hTxsYjmYRIB5oGY5us/X9J95Xrq7USMhizYiTUkMahQ/EwqoPeiZoVU+I6ADJ8BtJNxsEDtTxjjYyMJCIiourWuXNnysrKiImJoWtXWZjZ6vh2AtcA7NVSehmOsCVRvvU3mPISAvNiALBt5tPA1ZqDOxUB2sQ0PpnbyCos1TlQ86GaygnK2w2AR1e5jHFBrc5Y33777Utu//e//01hYWGdAgkdKIo2i03cdww27OedE5GUVZhlsH0DyE7YhCelpKst6NhVpjGsLbuOo+DMLgYb9rP56Fmm9mitd6RmIWnfJtpSTK7qQtdeQ/WO02hY9JPz9ttv58svv7TkS4qGUtmbb7hNPMVlJmJScnQO1Dwc3fEzAAlOUQR6ST+FWqscNjbAcJBNh9N0DtN8nI3VVrM56hKFg70sgnCBRQvrjh07cHBwsORLioYSOhxQaEcKfmSzJVFmsalvJrOKd9oWADy7yWw1ddIykgp7D9yUYrKP7qDCZNY7UbPgcWaz9kPlFxuhqVVT8F8ngVBVlbS0NPbs2cPcuXMtEkw0MCdPaNkdzsRoq4UkhvCkXDKpV7EHDhJFCmYUOg24Xu841s1gxBA6DA4tJaoilj0nc2S1pnp27GQK7SsSQYH2/SbpHadRqdUZq5ubG+7u7lU3T09Phg4dyooVK3j++ectnVE0lD8NW9h/Oo+cojKdAzVtaTErADjlGIadm7fOaazfn6c33CbDburdgS0/Y1BUTtmG0CKgjd5xGpVanbEuWLDAwjFEoxA6Ajb/hyE2B1HKzWxOPMv1ka30TtVkuZ3WmtHOBw3VN0hTUdlPoJtynPePnwQ66puniXNJ3QTA+SBZzeavanXG2rZtW86du3jqu9zcXNq2bVvnUEInraPA3g03tYBwJYlf90snkPpyLr+YiDJtmI2frGZjGe6tKG3RAaOi4nJmG6UVMr1hfSksKSe8ZA8g/QMupVaFNTk5GZPp4l/a0tJSTp8+XedQQidGWwgZDGjNaZuOnJW5V+vJob2b8FCKKMQZj3b99I7TZNh11OZa7q/GEX9KpjesLwn7d+Gv5FCCHV6dh+odp9G5psK6fPlyli/Xpq/6/fffq+4vX76cpUuX8tJLL9GmTZv6yFnlww8/pE2bNjg4ONCnTx927dp1xf1//PFHwsLCcHBwoGvXrqxYsaJe81m9yutUI+0OUGYyE5eaq2+eJqr08GoAUlv0BmOtrsiIS1D+ND1n9AlZUKK+5OzXPkeTXbqDrYwE+atr+h89efJkABRFYcaMGdUes7W1pU2bNvW60PnixYuZPXs28+fPp0+fPrzzzjuMGTOGI0eO4Ovre9H+27dv57bbbmPevHlcd911LFq0iMmTJxMTE0N4eHi95bRqldepuqpHcKGY3cnZ9AuV3pWW5nd2GwBKO1nNxqKCB1BhsKOlOZtTiXEwvL3eiZokjzRZzeZKrumM1Ww2YzabCQoKIjMzs+q+2WymtLSUI0eOcN1119VXVt566y3uvfdeZs6cSefOnZk/fz5OTk6XnZTi3XffZezYsTz55JN06tSJl156iR49evDBBx/UW0ar16INeIZixEx/w0F2J2frnajJST19hs6mowAE9Z6oc5omxtaRkgBtBiv305spl/GsFpeUdpZuFQcBCOpdf5/31qxW11iTkpLw9m7Y4QFlZWXs3buXkSP/+IZvMBgYOXIkO3bsuORzduzYUW1/gDFjxlx2f9CuE+fn51e7NTt/GrYQczJHBttb2Mk9v2FUVE4ZA3HyCdY7TpPj1Hk0AH3VfbKMXD04HL0aB6WcbKM3zi276B2nUapxU/B7773Hfffdh4ODA++9994V933kkUfqHOyvsrKyMJlM+Pn5Vdvu5+fH4cOHL/mc9PT0S+6fnp5+2ePMmzePF154oe6BrVnoCNj1KUNsDvBsiYlDafl0a+2hd6omQzmurWaT6TcImdHW8gztRsKaufQxJLAw8Qw9glroHalJMR/TVrM56zsAT1nN5pJqXFjffvttpk+fjoODw2Un4Qft+mt9FNaGMmfOHGbPnl11Pz8/n8DAQB0T6aDNQDDYEmjOIFhJZ0tilhRWCzGbzITmRwPg3GW0zmmaKN9OFNv74FR6luyETTBCzqospbC0gtCCXaDIajZXUuPCmpSUdMmfG4q3tzdGo5GMjIxq2zMyMvD3v/Tiuv7+/te0P4C9vT329vZ1D2zN7F0gqC8kb2GwYT/LYtvxj6GhV1yDV9TMicN7acc5SlRb2vaUwlovFIWKkGFw+Af8MrdRWnE/9jZGvVM1Cbv3H2CYkooZBd+IsXrHabSsZl0wOzs7evbsybp166q2mc1m1q1bR79+lx4H2K9fv2r7A6xZs+ay+4s/qeztN9QYT2JmIQfPNMNrzfUgK1YbppDoGIGtg6xmU19cu2hnU/3Zx+4kWanJUjLjfgcgzSkMxVlGC1xOjc9Y/9w8ejVvvfVWrcLUJMOMGTOIioqid+/evPPOOxQVFTFz5kwA7rzzTlq1asW8efMAePTRRxkyZAhvvvkmEyZM4Pvvv2fPnj18+umn9ZKvSQkdDuteYIDxELZUsCTmNOGt3PVOZfWcT2nTwBUFyjRw9UlpO0xb3MCQyutxBxjYfqjekayeqqpVq9mYQobpnKZxq3FhjY2NrdF+9dlceMstt3D27Fmee+450tPTiYyMZNWqVVUdlFJSUjAY/jgJ79+/P4sWLeLZZ5/ln//8J+3bt2fZsmUyhrUm/LuBkzcOxVn0UBJZvs+JOePDsDVaTSNHo1N2voj25/eDAj7dx+sdp2lz9qLQMxy37HhKDq/BbB6CwSCXMuricFoeUeZ9oIB/T5mG80oUVVVVvUM0Zvn5+bi7u5OXl4ebm5vecRrWT/dC/A98qUzhxfM38eVdUQwP87v688QlHd6yhLB1M0nHG9+5iRjkS0q9qljzIjbb3uRnU39a/20RPYOld3Bd/LJqJRN33sp5xRHHZ1O1KVCbkWupBXX+n52amkpqampdX0Y0RpXjWcc6HgJgSYzMA10XRYe0aQxPuPeRotoAbDpoY9gHGuL5/cAZndNYP/OxtQCkefZqdkX1WtXqf3dFRQVz587F3d2dNm3a0KZNG9zd3Xn22WcpLy+3dEahl7badZSWxUfwJJ/VhzLIL5F/39ryzZRp4BpU615U2DjjpRRwIn470jhXe7nFZQSc3Q6Asb1Mw3k1tSqsDz/8MJ9++ilvvPEGsbGxxMbG8sYbb/DFF19Y9RhW8ReufuDXFYAbWyRSVmFmw+FMnUNZp8KMJAJNqVSoBoJ7yfWpBmG0hbbaak0dCnaRkFagcyDr9cP2w0RyBICgXjKN4dXUqrAuWrSIBQsWcP/999OtWze6devG/fffzxdffMGiRYssnVHoqZ12dnWdUwIAWxOz9ExjtVJ3/wJAgrEDrQMCdE7TfNhUnl0NMe5n1cHLz7gmruxs/FrsFBMFjq1RvEL1jtPo1aqw2tvbX3J5uJCQEOzs7OqaSTQmlc2WYUW7AZUtiVnSpFYLauU0cOk+A3RO0syEav0EeiiJbI4/rnMY65R3vpxW53YCoLSTyxg1UavC+tBDD/HSSy9RWlpata20tJRXXnmFhx56yGLhRCMQ1A9snbArOUs3m1Ok55dw/Gyh3qmsi6mCoNzdADh2kmngGpRnCCaPEGwVE95Zu2WN1lrYfiyLQYb9ALh0ltnCaqJWKyzHxsaybt06WrduTUREBAD79u2jrKyMESNGMHXq1Kp9lyxZYpmkQh829trcwYmruc0rkf0ZgWw+mkU7X1e9k1mNXVt/pzdF5KgudO45WO84zY6x/QjY/TmDDfuZv+k4fdrKjEHXYv/BeMYZ0jBjxBAiv781UavC6uHhwQ033FBtW7ObqL45CR0Biasrv7UOZ93hDO4eGKJ3KquRtHM5vYE0r750dnXUO07zE/pHYX3pWBb5JeW4OchwkZpQVRX1mLYaU753JB4OMvtaTdSqsH711VeWziEas8rrrK3y4nCglB3Hz5GZX4Kvm4POwRq/otIK7fq0AQJkthp9hAwCgw1tyCCgPJ1NR84yMaKl3qmsQkxKLt1K94IRnKUZuMZklLq4Ou/24B6IYi5jul8KZhVWH8q4+vME8UdP0FU5AUCLruN0TtNM2btCYF8ABhv2szs5W+dA1uOX2JMMMBwAwLaDjF+tqVoV1nPnzvHggw/SuXNnvL298fT0rHYTTYyiVJ21TqgcdrMrST6caiI9bhUGReWMfVtwk2E2ugnVJjsZbNjPvlN5OoexDqqqcvrgdtyVYsrt3KFld70jWY1aNQXfcccdHDt2jHvuuQc/Pz9Zp7M5aDcCYhZWDruZxO7kbFRVlX/7KzCbVWyTtOtTpcFD9Q3T3LUbAetfop/hELPOZFNWYcbORhrsruRwegGdi/eALRhCh4JB1rStqVoV1i1btrB169aqHsGiGQgZDIoBp/zjBBrOkZrnxamc8wR6OumdrNGKS82mtykGFGjVa5LecZo3/whUJ29ci7MINx8h/vQAegZL69qVrDyQzmBjPADGynnDRc3U6itbWFgY58+ft3QW0Zg5toBWUQDc6pUISHPw1Rzcuw0fJY9SxQG7EJkYQlcGA0plc/AgYzxbZAaxK1JVlbUxR4hUjmkbZH7ra1KrwvrRRx/xr3/9i02bNnHu3Dny8/Or3UQTVfmtdbiN1plBOoFcmZq4BoBzvv3ARmYk011lcRhs2C+F9SoOnsknMG8PNooZs1d78JDhlNeiVoXVw8OD/Px8hg8fjq+vLy1atKBFixZ4eHjQooWsedhkVX4wtSvcgwEzm46exWyW6Q0vJbOghLCiaABcpTdw41D5+9tVSSL1VArny0w6B2q81h/OZKhhHwCGdtIb+FrV6hrr9OnTsbW1ZdGiRdJ5qTlp2QMc3LEtyaOfQzLb8toSnZRNv1CZyeavth04zkRFazJ37TJW5zQCAFd/VL8uGDIO0leNZ9+pUfSVWZguacPhDD4yaoUVWSbumtWqsB44cIDY2Fg6duxo6TyiMTPaQNuhcOhn7vI9wbaUtvx+MF0K6yUk71qBjWLmnGMbvFoE6x1HVFJCR0DGQQYZ9rM7KVsK6yUUllZQcuYAAbbZmG0cMQQP1DuS1alVU3BUVBSpqamWziKsQeVqIVEVMQBsOybXqv7qSHoBAWe1Rc3tw2S2mkalsjl4kDGeLUfP6hymcdqTnM0QYgEwhAwCW5lh7VrV6oz14Ycf5tFHH+XJJ5+ka9eu2NpWn3ezW7duFgknGqHKDyaPnP24KUUkZiLTG/7Fkr2p3GWsXA1EmoEbl6B+mG0c8K/IoSB1H7nFUXg4SceyP9twOJNxF5qB243SN4yVqlVhveWWWwC4++67L3pMURRMJukU0GR5BIJ3B5Sso9zmlcQnWeFsO57FlO6t9U7WKJjNKgfjdhKgZGMyOmAMlmE2jYqtA4Y2g+DYGgYq+1kRn860PkF6p2o0SspNrI07xrPKUW2DXF+tlVoV1qSkJEvnENYkdARkHWWc40E+IZxtx85JYa108Ew+XYp3gS3QRprRGqV2I+HYGoYa9vHarhQprJVUVeXtNUcJL43F1s6E6hmK4tlW71hWqVbXWIODgwkODqaoqIiEhAT27dtXddu/f7+lM4rGpnI8a6eiaEBl27EsVFWG3QCsTchgSOUwBWMHub7aKLXXmjd7Gw6TdDqN42cLdQ7UOHwXncInm09UDbNR2svvb23V6oz1xIkTTJkyhfj4eBRFqfpQvTDsRpqCm7g2A8HGEfvidLoaTxGfF0hSVhFtfVz0Tqa77QlJPGg4ot2RaeAaJ69Q8AzFNvs4AwwH+HVfJI+ObK93Kt0t33cGUBnveADKkWbgOqjVGeujjz5KSEgImZmZODk5ceDAATZv3kxUVBQbN260cETR6Ng6anMHA9M8tSIivYMhPa+EFuk7sFNMmDxCtA9w0Th1GAPAcEMcn285wenc5j1Fa7nJzP5TuXRUUnEvPws2jiDDbGqtVoV1x44dvPjii3h7e2MwGDAajQwcOJB58+bxyCOPWDqjaIwqmzmHKBeG3ZzTM02jsP5wJkMM2qUQYwfpTdmoVTYHj7bbR0FpOZ9vOaFzIH0dTiugpNzMWHtt0n1kmE2d1KqwmkwmXF1dAfD29ubMmTOAdu31yJEjlksnGq/22jf+gIL9uFPI9uNZmJr59IbrDqUzRIYpWIfgAWDrTAtzDl2UZH7ae4qS8uZ7CSsmJQeAsfbaPODy+1s3tSqs4eHh7NunfYD06dOHN954g23btvHiiy/Stq30ImsWPALBtzOKamaM/QHySyqIP918F5A+X2bizPH9tFayMBvttevQovGysa9a/HyiYzz5JRXEpuTqm0lHe0/m4EIxHcoqC6tcX62TWhXWZ599FrPZDMCLL75IUlISgwYNYsWKFbz33nsWDSgascpegze6HQLg+10peqbR1fbjWQxQtWZxJbg/2Mk6tY1eZXPwGDut+T46qflezohJyWGA4QBG1QSeoSDDbOqkVoV1zJgxTJ06FYB27dpx+PBhsrKyyMzMZPhwWbev2ajsANKjbC8GzCyJOU3e+XKdQ+ljbUImI42VhbWDzLZkFSq/GLYpScCTfKJPNM9lEFPOFXMq5zzDqybdl2bguqpVYb0UT09PWeWmuWndGxw8sCnNYaLnacpMZtYlZOidqsGpqsruhONEKZX9Cyq/cIhGzq0l+HdFQWWIYR8xKTmUVjS/66yrD6WjYGa07YXCKuNX68pihVU0Q0abqrGa0zwPA7AiPl3PRLo4eCafzkW7tUWhvTuCZ4jekURNVRaRsfb7Ka0wsy+1+fUTWH0og65KEi3M2WDnIv0DLEAKq6ibyt7BEee1Rb03J56loKR5NQevTchgeGUzsKGjLGpuVSp/fwcp+zBiIvpE87rOml1Uxp7kbEZU/v4SOlzr2CXqRAqrqJt2IwEFh3OH6O15nrIKM+sPZ+qdqkFtOJRWNQ0cUlitS+socGyBk7mQHkoiu0/m6J2oQa0/nIlZhevs5ffXkqSwirpx9oLWvQC4xz8RgJXNqDk4I78Eh7TdeChFmB08q/4uhJUwGCu/HMIwYxyxJ3Oa1XjsTUfPEsA5Qk0nAEWur1qIFFZRd5WzMPUz7QVg49FMissq9EzUYNYfzvyjGbjDaO2DWliXyubgkcZYCkorSEjL1zlQwzCbVbYmnv2jGTiwNzh76xuqiZDCKuqu8oPJ9cw22rUwUlJuZuORszqHahjrEjIYaaj8YJLewNap3QhQjHRQUglUMlh9sHm0uBw8k09OcTmjbeK0DTJMzGKksIq68+8Kbq1Ryou5PzAVgBXxaTqHqn+Z+SWcPBpPqCEN1WAjq9lYKydPCO4PwGjDXlYcaB6FdXPiWRwpoZ+hcrYlub5qMVJYRd0pCoRNAGA4uwGtibSpz7365bZkBqM1fyvB/cHBXedEotbCrgNgtHEPxzILycgv0TlQ/dt09CyDDPHYquXgEQw+YXpHajKksArLqCysnqfWEehuR3GZiU1Hm25z8PkyE//dlcKIqmZg+bZv1cLGAxBlOEoL8tmV1LRnYcosKNGG2RhitQ0dx2lfkIVFWE1hzc7OZvr06bi5ueHh4cE999xDYWHhFZ8zdOhQFEWpdvv73//eQImbmeD+4OCBUpzFPW20tVlXNuHm4F/2nYHzOfQ2ahNj0FGuT1k1jyDw74oRMyOMsU2+sK7Yn4aq/mm2Jbm+alFWU1inT5/OwYMHWbNmDb/++iubN2/mvvvuu+rz7r33XtLS0qpub7zxRgOkbYaMtlX/Ocfa7AFgXUJmk5wiTlVVFu5IZqQhBhvM4NtFJi1vCjpqrS6jDHubfGFdFneG7soxWqg5YO+mLaMnLMYqCmtCQgKrVq3i888/p0+fPgwcOJD333+f77//vmot2MtxcnLC39+/6ubm5tZAqZuhyuZgvzPr8HO1o6C0gm3HsnQOZXknzxVz8Ex+1RcIOk3UN5CwjMrm4MGG/ZzMyCKnqEznQPUjOauIuNRcxhq1/hB0GAM2dvqGamKsorDu2LEDDw8PoqKiqraNHDkSg8FAdHT0FZ/73Xff4e3tTXh4OHPmzKG4uPiK+5eWlpKfn1/tJmqo3QiwcUDJSeLO0PNA05wsYvvxczhRwhCDttyYFNYmwr8buAfiqJQx0HCA3clN86z157gzgMr19pX9A+T31+KsorCmp6fj6+tbbZuNjQ2enp6kp1/+g3vatGl8++23bNiwgTlz5vDNN99w++23X/FY8+bNw93dveoWGBhokffQLNg5Q9vKxaPttU4Rqw9lUFZh1jOVxW0/nsUQwz7sKIMWIeDXRe9IwhIUBTpqZ62jDXuaZHOwqqr8HHeazspJ/ExpYONYNfOUsBxdC+szzzxzUeeiv94OHz5c69e/7777GDNmDF27dmX69Ol8/fXXLF26lOPHj1/2OXPmzCEvL6/qlpqaWuvjN0uVzcGBmevwdbUn73w5G480rbmD957M+aMZrdNE6U3ZlFT+/o4wxrAnqen1ak/MLOREVhHjbSsvY7QboX0hFhZlo+fBH3/8ce66664r7tO2bVv8/f3JzKz+4VxRUUF2djb+/v41Pl6fPn0AOHbsGKGhoZfcx97eHnt7Wd2h1jqMBRSUtH3c0c3Am7tgaexpRnep+b9TY5aeV8K5vAKGV56RSzNaExPcH7O9O16ledin7aGwdAAu9rp+TFrU75WTX0yx3wvlQKdJ+gZqonT9jfHx8cHHx+eq+/Xr14/c3Fz27t1Lz549AVi/fj1ms7mqWNZEXFwcAAEBAbXKK2rAxQeC+kLKDm5y2c+btGddQiZ5xeW4O9nqna7O4lJz6G84iKtyHlz8oVXU1Z8krIfRVlv6b//3jDVEsyc5m6Edfa/+PCugqipL404TqpymVflJMNjKNJz1xCqusXbq1ImxY8dy7733smvXLrZt28ZDDz3ErbfeSsuWLQE4ffo0YWFh7Nq1C4Djx4/z0ksvsXfvXpKTk1m+fDl33nkngwcPplu3bnq+naavchYbv9O/09HPlTKTmRUHmsaY1pUH0hljuNAMfB0YrOK/kLgWXSYDMM64i+gTTadX++7kHE6cLWKirTZbGG2HgKOHrpmaKqv5VPjuu+8ICwtjxIgRjB8/noEDB/Lpp59WPV5eXs6RI0eqev3a2dmxdu1aRo8eTVhYGI8//jg33HADv/zyi15vofnofD0AyskdTO+ideNfGnNaz0QWkV1Uxu/xZxhtlGE2TVrocMptXPBXckjYtZbTuef1TmQRF+bvvsFJLmPUN6u5eODp6cmiRYsu+3ibNm1Q1T/WUQwMDGTTpk0NEU38lUcgtO4Np3Zxvd1unlfasis5m4z8EvzcHPROV2s/7EklwpyAl1IAji1kUH1TZWOPEjYODvzI4PJtfL1jFHPGddI7VZ2oqsrqg+m0Vs4SWHIEFEPVhBjC8qzmjFVYmS5TAHA/sYIuLbVJOXYcP6dnojoxmVW+2XGS8cad2oYO47TZpkSTZBM+FdCag3ckWn/v4J0nsjmTV8J1F5qBg/pr/SFEvZDCKupHZXMwKTsYHaiNY7Xmwrr+cCbpuYVcZ6Ndwyf8Bn0DifoVOhyznSsBSja26Xutfham76JPAjDNpbKwSjNwvZLCKuqHeysI7AuojDNoxWjdYeudLOLrHcn0NRzCizxw9NQ6foimy9YBQ+UUhxMMO1l32HrHYp8tKOX3g+m0VjIJKj6oNQNXdtAS9UMKq6g/lc3BoWfX4ONqT1ZhGWsOZegc6todP1vIlsQsJhl3aBu6TJZm4Oag82RAaw7+Pd56O9/9sCeVcpPK/Z6VnZbaDATXpjGuvLGSwirqT+dJgIIhNZqZ4VohWmmFw26+2XESO8q57sJsNdIM3DyEDsdkqzUHlybtwGxWr/6cRsZkVlkUnQLAJMN2bWP4jTomah6ksIr649YSgvoBMNFGWyxh89GzVJispzm4qLSCn/aeYpBhP87mQnANqHpPoomzdUDprF2LHGPaTEr2lRfwaIw2HsnkdO55ejqm4V6QqE0K0VlmW6pvUlhF/eqqfTtunfIzLZxsyS+pYLsVdWJaGnuagtIKbnOqnBSiy1QwGPUNJRqMIeIWACYYd5KQan2TRXy9Q+u0NNu/ciWm9qO0oWKiXklhFfWryxQw2qFkHOCeDtpA+8W7rWNhA1VV+XpHMg6UMkStLKzSDNy8tBlEnq0PHkoR+fG/6Z3mmmxNzGLT0bMYFJXeRRu0jfL72yCksIr65eQJ7UcDcKuddo1n9aF0sgpL9UxVIzuOn+NoRiHX2cViazoPHsHQqofesURDMhjJbqs1nXoeX8o5K/i9veC9dYkA/LNbEbb5KWDrBB3H6ZyqeZDCKupfxK0AeCf9TPdWLpSb/uhQ0Vipqso7a7UPpvvdKyeFiLhNlohrhtoMmwnAYGL4cm2szmlqJv5UHruSs7ExKExzqPz97ThelohrIFJYRf1rPxocPKAgjdkdtPGA769P5Fhmgb65ruCrbcnsSs4myCabdgWVzcCVXxBE86L4d6XQoyP2SgV5e/9HUWmF3pGuSFVVXvz1IACTwz1xOrJEeyDyNh1TNS9SWEX9s7GHyiniBhatYWA7b8pNKr/tT9c52KWdLzPxztqjALwddhgFFYIHgmeIzsmEXpyjpgEwUdnC1mONuxPTwTP57E7Owc7GwL/aJUFJLri1grbD9I7WbEhhFQ2jm3a2pyT8yqRO7gBsaaRzsH686Tj5JRUEtXCkR/YKbWPkNH1DCV0pXW9CRaGP4TD74mL0jnNFSypXkhrV2Y8WR37UNkbcJr3ZG5AUVtEwAnuDZ1soL2KkqnViik3NbXSdmFYfTK/q9PFsRD5K9gmwdf5j7mPRPLm3IidgEAC+xxY32skiKkxmlu87A8BtHQ1wfL32gHwxbFBSWEXDUBTocScAngnfEdHaHZNZ5X97T+kc7A/ny0w8u+wAADMHtGFU6VrtgS6Twd5Fv2CiUXAdcC8AE8wbiG+kY1q3HMsiq7AUL2c7+hWshguXMbxC9Y7WrEhhFQ0ncjoYbOD0Hv7RSRvT+vmWJApKynUOpvku+iSZBaW08nDkmRGBKAeXaQ/It30B2HYaR76xBT5KHie2/U/vOJe0tLIZeFI3f4z7vtM2dp+uY6LmSQqraDguvhB2HQAji1fS1seZrMJS/rtL/6E3pRUmPt18AoCHhrfDPmEJlBVAixBt7UohjLZkhmoziQUcW4yqNq7m4MLSClYf0joETg84BTnJYOcilzF0IIVVNKwobUyg8cCP3NvbF6BRrHjz097TZBaUEuDuwA3dW8HuL7QHou4Gg/w3EZpWI+4HoLcpjk279uqcprqV8WmUlJtp6+1MaPL32sbwG2Tsqg7kE0M0rDaDtbPA0nzGGrRl2PaezOHkuSLdIpWbzHyy+TgAfxvUFruMWEjfD0Z76H67brlE4+Po156T7r0wKCqn1n3aaM5aVVXlhz3aVKG3d7ZDOfyr9kDve3VM1XxJYRUNy2CAnncB0OLQdwxs541ZhYf/G6vbwPvvd6Vw8lwxXs523NY7EHZ/rj0QPlWbklGIP/EZeh8Ao0p/Z9exxjEWe0V8etXY1RuVtWCu0FZh8u+qd7RmSQqraHiR07Xlq07v5c3+5bg72rL/VB73f7OXsoqGX1Luq+3JADwyoj1OFflwoHKmml5/a/AsovFz6jqZfBsv/JRcEtZ9rXccAL7ekQzAPwYG4XawstOS/P7qRgqraHguPtD1JgD8Dn7Bgpm9cLIzsvVYVtWMRw3lWGYhJ84WYWtUmNqjFez5AkylEBABrXo2aBZhJWzsKIm8G4AeZ74nM/+8rnFO5RQTnZSNosCdnvFQmA7OvtBJ1l3VixRWoY9+/9D+PPQz3d0K+L+bIgD4aONxVsSnNUiEcpO5ajKI/qHeuBpNEP1pZb6HZcJ9cVm+w/5OKXZ0M5wgetNKXbO8tVr7MjqgrReecZ9oG6PuBhs7HVM1b1JYhT78u0LIEFBNEP0J47sGMHNAGwCe+/kAhfV8vbXCZOb2z6NZvu8MigIPDA2F+B+gKBPcWmuTQghxOc7epLTSho55xn+mW4zkrCKWxmljV1+IyIEzMWDjIJ2WdCaFVein34PanzFfQ0k+c8Z1IsTbmazCMhZWXvesL59vTSI6KRs7GwOvTe1K3zYtYPsH2oN9/w5G23o9vrB+vqMfA6Bf6Q6SD8fpkuGrbUmoKgzr6EPo0cohYt1vB2dvXfIIjRRWoZ92o8C7I5Tmw65PsLMx8PDwdgB8uTWJtLz6uXaVXVTGB+uPAfDy5HBu6RUEib9D1hGwd4MeM+rluKJpcQ/uRqxjPwyKSsG6Nxr8+JkFJfywR5sS9JHwMji2BhTDH19YhW6ksAr9GAww+Ant5x0fQmkB13VrSbCXE+eKypj51e566SW8cHsyhaUVdA5w48YerUFVYeNr2oNRM8HBzeLHFE1TUZ9ZAHQ6uxLzuaQGO+6qA2mMemsz58tNhPm7EnnyS+2BTpO0xS6ErqSwCn2F3wBe7eB8Duz6DDsbA9/e04cWTrYcTi9g/qbjFj3cucLSqqEJDwwNxWBQ4MhKSIvTVrHp/6hFjyeatqgBo9hGBDaYifnvvxtkwohjmQXMWhxH3vlywvxd+XiUPcqBn7QHBz1e78cXVyeFVejLYITBT2o/b38fSgsJ9HTi35O6APDeukTeXnOUnKIyixzutZWHySkup6OfK+PC/SvPVudpD/a5D5y9LHIc0Tw42BrJiHgYgG5nf2Hp+m31eryswlJu/TSaknIz/UO9+PXhgYTEv6c92HkyBHSr1+OLmpHCKvQXfqPWfHU+G3ZoHYgmRbTkum4BVJhV3l2XyD+Xxtf5MCfPFbEkVutB+erUrtgYDZDwizZ9oZ0L9H+kzscQzc/UKTeR6tEbO8WEYeMr/H6w/mZj+nxLElmFpbT1dubdW7tjk7EPDv+qXVsd9s96O664NlJYhf6MNjDiOe3nbe9CfhqKovDurd15dER7AFYeSGfVgXTOFZaSW3ztZ68l5Sb+/m0MJrPKoPbe9AxuARWlsKbyuH0fkOkLRa21uknrvDTZuJ0tm9bUyzHiT+Xx5TbtOu6c8Z3wcbGDtf/WHux6E/h0rJfjimsnhVU0Dp0nQ2AfKC+G9S8DYDQoPDaqA+O7+gPw92/30vPltfR/bT3RJ85d9SVNZpV31h7l4f/G8reFe0hIy8fbxY55UyvnT42eDzlJ4OIHA2bV0xsTzYGhVXeKOk4FYHzaR3y4PpHSCpNFj/HirwcpqzAzspMfIzv5ameqJzZqi0UMnWPRY4m6UdTGsjxDI5Wfn4+7uzt5eXm4uUlv0XqVuhu+GAkocN9GaBkJaGebjy2OY+WBP5rYDAr0bevFoyPa09rTifIKM9/vTmXh9mQUBab3CSIpq5i1CdWXpPv8zihGdvaDwkx4r4e25ur1H8li0KLuclOoeLcHNmo5D5Q9ikPEVN6+JdIiL73p6FlmfLkLO6OBLU8Pw89RhQ97Q26K1kdh+LMWOY64vGupBTYNlEmIqwvspV1vPfA/+OUR+Nt6MNrgYGvkrZsjiQxMJryVO//dlcKv+9PYfvwc249f+sz1sy1ak5mNQWFIBx9aejgyvmsA/UIrOyeteU4rqgGREHFbA71B0aR5BGEYOAu2/Id/2y5kZGxX5rnZc/eAEPzcHGr9stlFZTz54z4ApvUJ0l5r4+taUXVrBQMfs9AbEJYiZ6xXIWesDawgQ/smXpILI1+AgbMuudvJc0W8t+4YP8WcuuixMV382JWUjdFg4JM7emrXU//syEr4761ah4+7V2sFXQhLKC+B+QPg3DG+qRjJ3Iq78XOz58f7+xPk5VSrl3z8h338FHOKdr4u/PLQQByzE+DToWAuhxu+gK43WvY9iEu6lloghfUqpLDqIG4RLHtAm/P071vBu/0ld1NVlcTMQipMKomZBXg42TG4vTeKolBaYUJVteEQ1ZzPgQ/7aiuA9H8YRr/cAG9INCtJW2ChNo/wLIcXWZbbjlAfZ964MeLiL3lXkVtcRu9X1lFmMvPTA/3p2coJPhsOGQeg43i4dZEsFtFArqUWSOcl0fhE3Aahw6GiBH68C8qKL7mboih08HOlc0s3ro9sxZAOPiiVHzL2NsaLi6qqwq+ztaLq1R6G/aue34holkIGVU2L+abhfUIcCjl+togbPt7O51tO1PhlTGaVeSsOU2Yy0ynAjR5BHtqY64wD4OQFE9+VotpISWEVjY+iwPUfgrOP9iHy2+NaUayr6E/g4BIw2MDkj8HWse6vKcSljH0NfDtjLD7LitZfc0Ok1rP95d8S2H4s66pP/3zLCUL/uYLFe1JRFJg9qgPKkZWw9W1th4nvgotvfb4DUQdSWEXj5NYSbvxSuw66bxHs+rRur5e4FlZXnqGOflmuq4r6ZecENy0EW2ccT23lTfcfuK1XawBmLY4j/lRetd1Ts4s5cDoPs1nl+10pvPxbAqANOXv75khGeZ6FJfdpO/e+DzpNbNC3I66NXGO9CrnGqrNt71ZO4qDA1E+h283X/hqpu+Dr67Uxst1uhSnzpQlNNIwDS+B/MwEoHfxPJu7ry9GMQmwMCrNGtudvg9rywi+H+O+uFADsbQyUVi48cUffYP45vhOOBcnw5VhtreDggXDnMlnWUAdN8hrrK6+8Qv/+/XFycsLDw6NGz1FVleeee46AgAAcHR0ZOXIkiYmJ9RtUWFb/R7Rv6Kiw9H7Y/fm1Pf/Yuj+KauhwmPS+FFXRcMKnwphXAbDf/CrLw9YxvosvFWaV/1t9lLC5qy5ZVG/rHciL13fB8dwB+GqcVlT9usKt30lRtQJWU1jLysq46aabeOCBB2r8nDfeeIP33nuP+fPnEx0djbOzM2PGjKGkpKQekwqLUhQY+zr0vAtUs3a99ZdHoazoys8zm2DLm/DdjX8U1Vu+BRu7BoktRJV+D2pDxwCH6Hf50Pgf3p7YGie7PzrXvXlTBPH/HsPi+/ry49/78cr14Six38KX46AwA3y7wB1LwNFDpzchroXVNQUvWLCAWbNmkZube8X9VFWlZcuWPP744zzxhLbmZ15eHn5+fixYsIBbb721RseTpuBGQlVh839gw6uACm6ttbVcu94I9q5/7Gcq18apbnwNMg9q2yKmaZ09pKgKPcV+q/VKN5WCgzsVAx5jv88kCg1uDO7go+1jNkHyFtj0BpysXCmn7VC4+WtwcNctupCZlwBISkoiPT2dkSNHVm1zd3enT58+7Nix47KFtbS0lNLS0qr7+fn59Z5V1ICiwJCntPmEl/0D8k/Br7Ng1TPg31Wb7/d8rrZSTWnlv5mDB4x5BSKnS/Ov0F/328G/mzZGO+MANuv+TQ/Dy+DXBfa20lpW0g9AcWWvYaM9DJujXQ4xGK/82qJRabKFNT1dm1fWz8+v2nY/P7+qxy5l3rx5vPDCC/WaTdRB2yHw8B7Y/QXs+RKyj8Op3dX3cfbVPsT6Pywr1ojGJaAb3L9ZmwRl92eQtu+P2wUO7hB+g7ZouXtr/bKKWtO1sD7zzDO8/vrrV9wnISGBsLCwBkoEc+bMYfbs2VX38/PzCQwMbLDjixqwdYT+D2nXrs4egcxD2hSItk7g21m7GZvsd0Zh7QxG6HGHdss5CWlx2oxgBlvwaqctPmFjr3dKUQe6fvo8/vjj3HXXXVfcp23btrV6bX9/bUB2RkYGAQEBVdszMjKIjIy87PPs7e2xt5dfaqugKOAbpt2EsEYtgrWbaFJ0Law+Pj74+PjUy2uHhITg7+/PunXrqgppfn4+0dHR19SzWAghhLgWVjPcJiUlhbi4OFJSUjCZTMTFxREXF0dhYWHVPmFhYSxduhTQ5pGdNWsWL7/8MsuXLyc+Pp4777yTli1bMnnyZJ3ehRBCiKbOai5EPffccyxcuLDqfvfu3QHYsGEDQ4cOBeDIkSPk5f0xVdhTTz1FUVER9913H7m5uQwcOJBVq1bh4FD7tRGFEEKIK7G6cawNTcaxCiGEaJJTGgohhBDWQAqrEEIIYUFSWIUQQggLksIqhBBCWJAUViGEEMKCpLAKIYQQFiSFVQghhLAgKaxCCCGEBUlhFUIIISxICqsQQghhQVJYhRBCCAuSwiqEEEJYkBRWIYQQwoKksAohhBAWJIVVCCGEsCAprEIIIYQFSWEVQgghLEgKqxBCCGFBUliFEEIIC5LCKoQQQliQFFYhhBDCgqSwCiGEEBYkhVUIIYSwICmsQgghhAVJYRVCCCEsSAqrEEIIYUFSWIUQQggLksIqhBBCWJAUViGEEMKCpLAKIYQQFiSFVQghhLAgKaxCCCGEBUlhFUIIISxICqsQQghhQVJYhRBCCAuSwiqEEEJYkBRWIYQQwoKksAohhBAWJIVVCCGEsCAprEIIIYQFSWEVQgghLMhqCusrr7xC//79cXJywsPDo0bPueuuu1AUpdpt7Nix9RtUCCFEs2ajd4CaKisr46abbqJfv3588cUXNX7e2LFj+eqrr6ru29vb10c8IYQQArCiwvrCCy8AsGDBgmt6nr29Pf7+/vWQSAghhLiY1RTW2tq4cSO+vr60aNGC4cOH8/LLL+Pl5XXZ/UtLSyktLa26n5eXB0B+fn69ZxVCCNE4XagBqqpedd8mXVjHjh3L1KlTCQkJ4fjx4/zzn/9k3Lhx7NixA6PReMnnzJs3r+rs+M8CAwPrO64QQohGrqCgAHd39yvuo6g1Kb/15JlnnuH111+/4j4JCQmEhYVV3V+wYAGzZs0iNzf3mo934sQJQkNDWbt2LSNGjLjkPn89YzWbzWRnZ+Pl5YWiKNd8zAvy8/MJDAwkNTUVNze3Wr9OYyXvz7rJ+7Nu8v7qn6qqFBQU0LJlSwyGK/f71fWM9fHHH+euu+664j5t27a12PHatm2Lt7c3x44du2xhtbe3v6iDU017IdeEm5tbk/zFv0Den3WT92fd5P3Vr6udqV6ga2H18fHBx8enwY536tQpzp07R0BAQIMdUwghRPNiNeNYU1JSiIuLIyUlBZPJRFxcHHFxcRQWFlbtExYWxtKlSwEoLCzkySefZOfOnSQnJ7Nu3Tquv/562rVrx5gxY/R6G0IIIZo4q+m89Nxzz7Fw4cKq+927dwdgw4YNDB06FIAjR45U9eI1Go3s37+fhQsXkpubS8uWLRk9ejQvvfSSLmNZ7e3tef7555vsOFp5f9ZN3p91k/fXuOjaeUkIIYRoaqymKVgIIYSwBlJYhRBCCAuSwiqEEEJYkBRWIYQQwoKksDaADz/8kDZt2uDg4ECfPn3YtWuX3pEsYt68efTq1QtXV1d8fX2ZPHkyR44c0TtWvXnttddQFIVZs2bpHcViTp8+ze23346XlxeOjo507dqVPXv26B3LIkwmE3PnziUkJARHR0dCQ0N56aWXajTXa2O1efNmJk6cSMuWLVEUhWXLllV7XFVVnnvuOQICAnB0dGTkyJEkJibqE7YWrvT+ysvLefrpp+natSvOzs60bNmSO++8kzNnzugX+DKksNazxYsXM3v2bJ5//nliYmKIiIhgzJgxZGZm6h2tzjZt2sSDDz7Izp07WbNmDeXl5YwePZqioiK9o1nc7t27+eSTT+jWrZveUSwmJyeHAQMGYGtry8qVKzl06BBvvvkmLVq00DuaRbz++ut8/PHHfPDBByQkJPD666/zxhtv8P777+sdrdaKioqIiIjgww8/vOTjb7zxBu+99x7z588nOjoaZ2dnxowZQ0lJSQMnrZ0rvb/i4mJiYmKYO3cuMTExLFmyhCNHjjBp0iQdkl6FKupV79691QcffLDqvslkUlu2bKnOmzdPx1T1IzMzUwXUTZs26R3FogoKCtT27dura9asUYcMGaI++uijekeyiKefflodOHCg3jHqzYQJE9S777672rapU6eq06dP1ymRZQHq0qVLq+6bzWbV399f/c9//lO1LTc3V7W3t1f/+9//6pCwbv76/i5l165dKqCePHmyYULVkJyx1qOysjL27t3LyJEjq7YZDAZGjhzJjh07dExWPy5MzuHp6alzEst68MEHmTBhQrV/x6Zg+fLlREVFcdNNN+Hr60v37t357LPP9I5lMf3792fdunUcPXoUgH379rF161bGjRunc7L6kZSURHp6erXfU3d3d/r06dMkP29A+8xRFMWi87lbgtXMvGSNsrKyMJlM+Pn5Vdvu5+fH4cOHdUpVP8xmM7NmzWLAgAGEh4frHcdivv/+e2JiYti9e7feUSzuxIkTfPzxx8yePZt//vOf7N69m0ceeQQ7OztmzJihd7w6e+aZZ8jPzycsLAyj0YjJZOKVV15h+vTpekerF+np6QCX/Ly58FhTUlJSwtNPP81tt93W6BYekMIqLOLBBx/kwIEDbN26Ve8oFpOamsqjjz7KmjVrcHBw0DuOxZnNZqKionj11VcBbZrQAwcOMH/+/CZRWH/44Qe+++47Fi1aRJcuXYiLi2PWrFm0bNmySby/5qy8vJybb74ZVVX5+OOP9Y5zEWkKrkfe3t4YjUYyMjKqbc/IyMDf31+nVJb30EMP8euvv7JhwwZat26tdxyL2bt3L5mZmfTo0QMbGxtsbGzYtGkT7733HjY2NphMJr0j1klAQACdO3eutq1Tp06kpKTolMiynnzySZ555hluvfVWunbtyh133MFjjz3GvHnz9I5WLy58pjT1z5sLRfXkyZOsWbOm0Z2tghTWemVnZ0fPnj1Zt25d1Taz2cy6devo16+fjsksQ1VVHnroIZYuXcr69esJCQnRO5JFjRgxgvj4+KqVlOLi4oiKimL69OnExcVhNBr1jlgnAwYMuGh41NGjRwkODtYpkWUVFxdftCC10WjEbDbrlKh+hYSE4O/vX+3zJj8/n+jo6CbxeQN/FNXExETWrl2Ll5eX3pEuSZqC69ns2bOZMWMGUVFR9O7dm3feeYeioiJmzpypd7Q6e/DBB1m0aBE///wzrq6uVddx3N3dcXR01Dld3bm6ul50vdjZ2RkvL68mcR35scceo3///rz66qvcfPPN7Nq1i08//ZRPP/1U72gWMXHiRF555RWCgoLo0qULsbGxvPXWW9x99916R6u1wsJCjh07VnU/KSmJuLg4PD09CQoKYtasWbz88su0b9+ekJAQ5s6dS8uWLZk8ebJ+oa/Bld5fQEAAN954IzExMfz666+YTKaqzxxPT0/s7Oz0in0xvbslNwfvv/++GhQUpNrZ2am9e/dWd+7cqXckiwAuefvqq6/0jlZvmtJwG1VV1V9++UUNDw9X7e3t1bCwMPXTTz/VO5LF5Ofnq48++qgaFBSkOjg4qG3btlX/9a9/qaWlpXpHq7UNGzZc8v/cjBkzVFXVhtzMnTtX9fPzU+3t7dURI0aoR44c0Tf0NbjS+0tKSrrsZ86GDRv0jl6NLBsnhBBCWJBcYxVCCCEsSAqrEEIIYUFSWIUQQggLksIqhBBCWJAUViGEEMKCpLAKIYQQFiSFVQghhLAgKaxCCCGEBUlhFUJUWbBgQbW1Lf/9738TGRmpWx4hrJEUViHEZT3xxBPVJnUXQlydTMIvRBNUVlZmkUnJXVxccHFxsUAiIZoPOWMVogkYOnQoDz30ELNmzcLb25sxY8bw1ltv0bVrV5ydnQkMDOQf//gHhYWF1Z63YMECgoKCcHJyYsqUKZw7d67a439tCt69ezejRo3C29sbd3d3hgwZQkxMTLXnKIrC559/zpQpU3BycqJ9+/YsX7686vGcnBymT5+Oj48Pjo6OtG/fnq+++sryfylC6EQKqxBNxMKFC7Gzs2Pbtm3Mnz8fg8HAe++9x8GDB1m4cCHr16/nqaeeqto/Ojqae+65h4ceeoi4uDiGDRvGyy+/fMVjFBQUMGPGDLZu3crOnTtp374948ePp6CgoNp+L7zwAjfffDP79+9n/PjxTJ8+nezsbADmzp3LoUOHWLlyJQkJCXz88cd4e3tb/i9ECL3ovbyOEKLuhgwZonbv3v2K+/z444+ql5dX1f3bbrtNHT9+fLV9brnlFtXd3b3q/vPPP69GRERc9jVNJpPq6uqq/vLLL1XbAPXZZ5+tul9YWKgC6sqVK1VVVdWJEyeqM2fOrMnbEsIqyRmrEE1Ez549q91fu3YtI0aMoFWrVri6unLHHXdw7tw5iouLAUhISKBPnz7VntOvX78rHiMjI4N7772X9u3b4+7ujpubG4WFhaSkpFTbr1u3blU/Ozs74+bmRmZmJgAPPPAA33//PZGRkTz11FNs37691u9ZiMZICqsQTYSzs3PVz8nJyVx33XV069aNn376ib179/Lhhx8CWsem2poxYwZxcXG8++67bN++nbi4OLy8vC56TVtb22r3FUXBbDYDMG7cOE6ePMljjz3GmTNnGDFiBE888UStMwnR2EhhFaIJ2rt3L2azmTfffJO+ffvSoUMHzpw5U22fTp06ER0dXW3bzp07r/i627Zt45FHHmH8+PF06dIFe3t7srKyrjmfj48PM2bM4Ntvv+Wdd97h008/vebXEKKxkuE2QjRB7dq1o7y8nPfff5+JEydWdWj6s0ceeYQBAwbwf//3f1x//fX8/vvvrFq16oqv2759e7755huioqLIz8/nySefxNHR8ZqyPffcc/Ts2ZMuXbpQWlrKr7/+SqdOna75PQrRWMkZqxBNUEREBG+99Ravv/464eHhfPfdd8ybN6/aPn379uWzzz7j3XffJSIigtWrV/Pss89e8XW/+OILcnJy6NGjB3fccQePPPIIvr6+15TNzs6OOXPm0K1bNwYPHozRaOT777+/5vcoRGOlqKqq6h1CCCGEaCrkjFUIIYSwICmsQgghhAVJYRVCCCEsSAqrEEIIYUFSWIUQQggLksIqhBBCWJAUViGEEMKCpLAKIYQQFiSFVQghhLAgKaxCCCGEBUlhFUIIISzo/wHuTbUGk65bZwAAAABJRU5ErkJggg==",
          "text/plain": "<Figure size 500x400 with 1 Axes>"
         },
         "metadata": {},
         "output_type": "display_data"
        }
       ],
       "tabbable": null,
       "tooltip": null
      }
     },
     "8fe8793c15354f8db219e630081b9f77": {
      "model_module": "@jupyter-widgets/controls",
      "model_module_version": "2.0.0",
      "model_name": "IntSliderModel",
      "state": {
       "_dom_classes": [],
       "_model_module": "@jupyter-widgets/controls",
       "_model_module_version": "2.0.0",
       "_model_name": "IntSliderModel",
       "_view_count": null,
       "_view_module": "@jupyter-widgets/controls",
       "_view_module_version": "2.0.0",
       "_view_name": "IntSliderView",
       "behavior": "drag-tap",
       "continuous_update": true,
       "description": "size",
       "description_allow_html": false,
       "disabled": false,
       "layout": "IPY_MODEL_ed36544f0fe94e349001ddbd04c18b32",
       "max": 100,
       "min": 1,
       "orientation": "horizontal",
       "readout": true,
       "readout_format": "d",
       "step": 1,
       "style": "IPY_MODEL_c7c42d0e5d45452bac66e6eb727aa4c1",
       "tabbable": null,
       "tooltip": null,
       "value": 50
      }
     },
     "bb874c2fe2e04079936ac719ecce9594": {
      "model_module": "@jupyter-widgets/controls",
      "model_module_version": "2.0.0",
      "model_name": "IntSliderModel",
      "state": {
       "_dom_classes": [],
       "_model_module": "@jupyter-widgets/controls",
       "_model_module_version": "2.0.0",
       "_model_name": "IntSliderModel",
       "_view_count": null,
       "_view_module": "@jupyter-widgets/controls",
       "_view_module_version": "2.0.0",
       "_view_name": "IntSliderView",
       "behavior": "drag-tap",
       "continuous_update": true,
       "description": "position",
       "description_allow_html": false,
       "disabled": false,
       "layout": "IPY_MODEL_5df95121b1a04f8a919d9c82e645620c",
       "max": 270,
       "min": 30,
       "orientation": "horizontal",
       "readout": true,
       "readout_format": "d",
       "step": 1,
       "style": "IPY_MODEL_457087963d09431eafee194be8b92cc5",
       "tabbable": null,
       "tooltip": null,
       "value": 150
      }
     },
     "c7c42d0e5d45452bac66e6eb727aa4c1": {
      "model_module": "@jupyter-widgets/controls",
      "model_module_version": "2.0.0",
      "model_name": "SliderStyleModel",
      "state": {
       "_model_module": "@jupyter-widgets/controls",
       "_model_module_version": "2.0.0",
       "_model_name": "SliderStyleModel",
       "_view_count": null,
       "_view_module": "@jupyter-widgets/base",
       "_view_module_version": "2.0.0",
       "_view_name": "StyleView",
       "description_width": "",
       "handle_color": null
      }
     },
     "cd758a79439b4327ba70a55887512d88": {
      "model_module": "@jupyter-widgets/base",
      "model_module_version": "2.0.0",
      "model_name": "LayoutModel",
      "state": {
       "_model_module": "@jupyter-widgets/base",
       "_model_module_version": "2.0.0",
       "_model_name": "LayoutModel",
       "_view_count": null,
       "_view_module": "@jupyter-widgets/base",
       "_view_module_version": "2.0.0",
       "_view_name": "LayoutView",
       "align_content": null,
       "align_items": null,
       "align_self": null,
       "border_bottom": null,
       "border_left": null,
       "border_right": null,
       "border_top": null,
       "bottom": null,
       "display": null,
       "flex": null,
       "flex_flow": null,
       "grid_area": null,
       "grid_auto_columns": null,
       "grid_auto_flow": null,
       "grid_auto_rows": null,
       "grid_column": null,
       "grid_gap": null,
       "grid_row": null,
       "grid_template_areas": null,
       "grid_template_columns": null,
       "grid_template_rows": null,
       "height": null,
       "justify_content": null,
       "justify_items": null,
       "left": null,
       "margin": null,
       "max_height": null,
       "max_width": null,
       "min_height": null,
       "min_width": null,
       "object_fit": null,
       "object_position": null,
       "order": null,
       "overflow": null,
       "padding": null,
       "right": null,
       "top": null,
       "visibility": null,
       "width": null
      }
     },
     "d6efd047f8f94155aa31de93d81876d2": {
      "model_module": "@jupyter-widgets/output",
      "model_module_version": "1.0.0",
      "model_name": "OutputModel",
      "state": {
       "_dom_classes": [],
       "_model_module": "@jupyter-widgets/output",
       "_model_module_version": "1.0.0",
       "_model_name": "OutputModel",
       "_view_count": null,
       "_view_module": "@jupyter-widgets/output",
       "_view_module_version": "1.0.0",
       "_view_name": "OutputView",
       "layout": "IPY_MODEL_f1aa2671c61444d59a865516433bd648",
       "msg_id": "",
       "outputs": [
        {
         "data": {
          "image/png": "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",
          "text/plain": "<Figure size 500x400 with 1 Axes>"
         },
         "metadata": {},
         "output_type": "display_data"
        }
       ],
       "tabbable": null,
       "tooltip": null
      }
     },
     "e16193b96bcb4aae9738daeeec247588": {
      "model_module": "@jupyter-widgets/controls",
      "model_module_version": "2.0.0",
      "model_name": "VBoxModel",
      "state": {
       "_dom_classes": [
        "widget-interact"
       ],
       "_model_module": "@jupyter-widgets/controls",
       "_model_module_version": "2.0.0",
       "_model_name": "VBoxModel",
       "_view_count": null,
       "_view_module": "@jupyter-widgets/controls",
       "_view_module_version": "2.0.0",
       "_view_name": "VBoxView",
       "box_style": "",
       "children": [
        "IPY_MODEL_56315b56b3874d9284675a4912fba130",
        "IPY_MODEL_6d9ffa63ee46465c8bf85745679543ec"
       ],
       "layout": "IPY_MODEL_40e90a8d90fd4a9386a2b70adfc7e67a",
       "tabbable": null,
       "tooltip": null
      }
     },
     "ed36544f0fe94e349001ddbd04c18b32": {
      "model_module": "@jupyter-widgets/base",
      "model_module_version": "2.0.0",
      "model_name": "LayoutModel",
      "state": {
       "_model_module": "@jupyter-widgets/base",
       "_model_module_version": "2.0.0",
       "_model_name": "LayoutModel",
       "_view_count": null,
       "_view_module": "@jupyter-widgets/base",
       "_view_module_version": "2.0.0",
       "_view_name": "LayoutView",
       "align_content": null,
       "align_items": null,
       "align_self": null,
       "border_bottom": null,
       "border_left": null,
       "border_right": null,
       "border_top": null,
       "bottom": null,
       "display": null,
       "flex": null,
       "flex_flow": null,
       "grid_area": null,
       "grid_auto_columns": null,
       "grid_auto_flow": null,
       "grid_auto_rows": null,
       "grid_column": null,
       "grid_gap": null,
       "grid_row": null,
       "grid_template_areas": null,
       "grid_template_columns": null,
       "grid_template_rows": null,
       "height": null,
       "justify_content": null,
       "justify_items": null,
       "left": null,
       "margin": null,
       "max_height": null,
       "max_width": null,
       "min_height": null,
       "min_width": null,
       "object_fit": null,
       "object_position": null,
       "order": null,
       "overflow": null,
       "padding": null,
       "right": null,
       "top": null,
       "visibility": null,
       "width": null
      }
     },
     "f1aa2671c61444d59a865516433bd648": {
      "model_module": "@jupyter-widgets/base",
      "model_module_version": "2.0.0",
      "model_name": "LayoutModel",
      "state": {
       "_model_module": "@jupyter-widgets/base",
       "_model_module_version": "2.0.0",
       "_model_name": "LayoutModel",
       "_view_count": null,
       "_view_module": "@jupyter-widgets/base",
       "_view_module_version": "2.0.0",
       "_view_name": "LayoutView",
       "align_content": null,
       "align_items": null,
       "align_self": null,
       "border_bottom": null,
       "border_left": null,
       "border_right": null,
       "border_top": null,
       "bottom": null,
       "display": null,
       "flex": null,
       "flex_flow": null,
       "grid_area": null,
       "grid_auto_columns": null,
       "grid_auto_flow": null,
       "grid_auto_rows": null,
       "grid_column": null,
       "grid_gap": null,
       "grid_row": null,
       "grid_template_areas": null,
       "grid_template_columns": null,
       "grid_template_rows": null,
       "height": null,
       "justify_content": null,
       "justify_items": null,
       "left": null,
       "margin": null,
       "max_height": null,
       "max_width": null,
       "min_height": null,
       "min_width": null,
       "object_fit": null,
       "object_position": null,
       "order": null,
       "overflow": null,
       "padding": null,
       "right": null,
       "top": null,
       "visibility": null,
       "width": null
      }
     },
     "f845b4a992994b4589df4b7807a8018b": {
      "model_module": "@jupyter-widgets/controls",
      "model_module_version": "2.0.0",
      "model_name": "VBoxModel",
      "state": {
       "_dom_classes": [
        "widget-interact"
       ],
       "_model_module": "@jupyter-widgets/controls",
       "_model_module_version": "2.0.0",
       "_model_name": "VBoxModel",
       "_view_count": null,
       "_view_module": "@jupyter-widgets/controls",
       "_view_module_version": "2.0.0",
       "_view_name": "VBoxView",
       "box_style": "",
       "children": [
        "IPY_MODEL_8fe8793c15354f8db219e630081b9f77",
        "IPY_MODEL_83a78c573b5140169e9b104df22b51ec"
       ],
       "layout": "IPY_MODEL_82ba830ef8604ff4b46a94e34e225674",
       "tabbable": null,
       "tooltip": null
      }
     },
     "fa3195d363bb4051ba7341f47c70b794": {
      "model_module": "@jupyter-widgets/controls",
      "model_module_version": "2.0.0",
      "model_name": "SliderStyleModel",
      "state": {
       "_model_module": "@jupyter-widgets/controls",
       "_model_module_version": "2.0.0",
       "_model_name": "SliderStyleModel",
       "_view_count": null,
       "_view_module": "@jupyter-widgets/base",
       "_view_module_version": "2.0.0",
       "_view_name": "StyleView",
       "description_width": "",
       "handle_color": null
      }
     }
    },
    "version_major": 2,
    "version_minor": 0
   }
  }
 },
 "nbformat": 4,
 "nbformat_minor": 4
}
