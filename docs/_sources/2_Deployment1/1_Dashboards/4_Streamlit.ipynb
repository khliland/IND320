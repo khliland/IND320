{
 "cells": [
  {
   "cell_type": "markdown",
   "id": "93327846",
   "metadata": {
    "editable": true,
    "slideshow": {
     "slide_type": "slide"
    },
    "tags": []
   },
   "source": [
    "# Streamlit\n",
    "- Maybe the most used freeware dashboard in Python.\n",
    "- Enormous choice of elements, widgets and extensions.\n",
    "- Can use several interactive graphics packages.\n",
    "- Can be run as a local app in a browser or in various other environments.\n",
    "- Create a .py file and run using the terminal command below in your favourite Python environment.\n",
    "    - First time local usage prompts for an email address (press Enter if you do not want to supply it).\n",
    "    - Code can be updated while the app is running.\n",
    "    - Any action performed in the app triggers a rerun of the code."
   ]
  },
  {
   "cell_type": "markdown",
   "id": "d0449def",
   "metadata": {
    "editable": true,
    "slideshow": {
     "slide_type": ""
    },
    "tags": []
   },
   "source": [
    "```bash\n",
    "streamlit run /path_to_your_streamlit_folder/appname.py"
   ]
  },
  {
   "cell_type": "code",
   "execution_count": 2,
   "id": "47dcd12c",
   "metadata": {
    "editable": true,
    "slideshow": {
     "slide_type": "fragment"
    },
    "tags": []
   },
   "outputs": [],
   "source": [
    "# Teacher's path to be used below in examples:\n",
    "path_prefix = \"/Users/kristian/Documents/GitHub/IND320/streamlit/\""
   ]
  },
  {
   "cell_type": "markdown",
   "id": "ca0a7730",
   "metadata": {
    "editable": true,
    "slideshow": {
     "slide_type": "slide"
    },
    "tags": []
   },
   "source": [
    "## Examples and documentation\n",
    "- [Examples](https://streamlit.io/gallery)\n",
    "- [Live playground](https://streamlit.io/playground)\n",
    "- [API reference](https://docs.streamlit.io/develop/api-reference)"
   ]
  },
  {
   "cell_type": "markdown",
   "id": "e4b5c568",
   "metadata": {
    "editable": true,
    "slideshow": {
     "slide_type": "slide"
    },
    "tags": []
   },
   "source": [
    "## Basic concepts\n",
    "- Streamlit apps rerun all Python code from top to bottom each time\n",
    "  - a user interacts with any widget (like buttons, sliders, or text inputs), or \n",
    "  - when the source code changes. \n",
    "- The session state is stored in _st.session\\_state_\n",
    "    - Persistent across interactions.\n",
    "    - Updated before the code is rerun.\n",
    "- Caching of data is important to achieve a responsive app.\n",
    "- Progress indicators are useful for large operations."
   ]
  },
  {
   "cell_type": "markdown",
   "id": "25a29c28",
   "metadata": {
    "editable": true,
    "slideshow": {
     "slide_type": "slide"
    },
    "tags": []
   },
   "source": [
    "## Static vs dynamic content\n",
    "- Static content in Streamlit means fixed outputs—like Markdown, text, or images that do not change unless the code/script changes.\n",
    "- Dynamic content is interactive or data-driven—updates based on user input (widgets, forms), external files, or live data sources."
   ]
  },
  {
   "cell_type": "markdown",
   "id": "40aeaa8f",
   "metadata": {
    "editable": true,
    "slideshow": {
     "slide_type": "fragment"
    },
    "tags": []
   },
   "source": [
    "```python\n",
    "# static_dynamic.py\n",
    "import streamlit as st\n",
    "\n",
    "# Static Example\n",
    "st.markdown(\"# Static Dashboard\\nThis content won't change until the file is reloaded.\")\n",
    "\n",
    "# Dynamic Example\n",
    "user_input = st.text_input(\"Type something:\")\n",
    "if user_input:\n",
    "    st.write(f\"You entered: {user_input}\")"
   ]
  },
  {
   "cell_type": "code",
   "execution_count": 5,
   "id": "5eba9103",
   "metadata": {
    "editable": true,
    "slideshow": {
     "slide_type": ""
    },
    "tags": []
   },
   "outputs": [],
   "source": [
    "file_name = \"static_dynamic.py\"\n",
    "# !streamlit run {path_prefix}{file_name}"
   ]
  },
  {
   "cell_type": "markdown",
   "id": "60d20243",
   "metadata": {
    "editable": true,
    "slideshow": {
     "slide_type": "slide"
    },
    "tags": []
   },
   "source": [
    "## Magic vs explicit content\n",
    "- Magic: Streamlit automatically displays objects, markdown, and charts on their own line, no function needed (\"magic\").\n",
    "- Explicit: Using Streamlit functions like st.write, st.markdown, st.dataframe to control display."
   ]
  },
  {
   "cell_type": "markdown",
   "id": "3e867c9b",
   "metadata": {
    "editable": true,
    "slideshow": {
     "slide_type": "fragment"
    },
    "tags": []
   },
   "source": [
    "```python\n",
    "# magic_explicit.py\n",
    "# Magic\n",
    "\"**This shows with magic!**\"\n",
    "import pandas as pd\n",
    "df = pd.DataFrame({'A': [1,2,3]})\n",
    "df\n",
    "\n",
    "# Explicit\n",
    "st.write(\"**This shows with explicit command!**\")\n",
    "st.dataframe(df)"
   ]
  },
  {
   "cell_type": "code",
   "execution_count": 7,
   "id": "7708287a",
   "metadata": {
    "editable": true,
    "slideshow": {
     "slide_type": ""
    },
    "tags": []
   },
   "outputs": [],
   "source": [
    "file_name = \"magic_explicit.py\"\n",
    "# !streamlit run {path_prefix}{file_name}"
   ]
  },
  {
   "cell_type": "markdown",
   "id": "593f244a",
   "metadata": {
    "editable": true,
    "slideshow": {
     "slide_type": "slide"
    },
    "tags": []
   },
   "source": [
    "## Session state and on_click / on_event\n",
    "- _st.session\\_state_ persists variables across reruns, ideal for storing app state and counters.\n",
    "    - _st.session\\_state_ is automatically created, and we can extend and manipulate it.\n",
    "- _on\\_click_/_on\\_change_: Assign callback functions to widgets for event-driven updates."
   ]
  },
  {
   "cell_type": "markdown",
   "id": "fe140c17",
   "metadata": {
    "editable": true,
    "slideshow": {
     "slide_type": "fragment"
    },
    "tags": []
   },
   "source": [
    "```python\n",
    "# session_state.py\n",
    "import streamlit as st\n",
    "\n",
    "if 'counter' not in st.session_state:\n",
    "    st.session_state.counter = 0\n",
    "\n",
    "def increment():\n",
    "    st.session_state.counter += 1\n",
    "\n",
    "st.button(\"Increment\", on_click=increment)\n",
    "st.write(f\"Button clicked {st.session_state.counter} times\")"
   ]
  },
  {
   "cell_type": "code",
   "execution_count": 9,
   "id": "c77f5f6d",
   "metadata": {},
   "outputs": [],
   "source": [
    "file_name = \"session_state.py\"\n",
    "# !streamlit run {path_prefix}{file_name}"
   ]
  },
  {
   "cell_type": "markdown",
   "id": "e91d6050",
   "metadata": {
    "editable": true,
    "slideshow": {
     "slide_type": "slide"
    },
    "tags": []
   },
   "source": [
    "## Reruns and caching\n",
    "- Every interaction reruns the script top-to-bottom; avoid costly computations on every rerun.\n",
    "- Use _\\@st.cache\\_data_ to store results of expensive operations."
   ]
  },
  {
   "cell_type": "markdown",
   "id": "a990cb39",
   "metadata": {
    "editable": true,
    "slideshow": {
     "slide_type": "fragment"
    },
    "tags": []
   },
   "source": [
    "```python\n",
    "# caching.py\n",
    "import streamlit as st\n",
    "\n",
    "@st.cache_data\n",
    "def get_data():\n",
    "    import time; time.sleep(2) # Simulate expensive task\n",
    "    return [1, 2, 3]\n",
    "\n",
    "st.write(\"Data:\", get_data())\n",
    "\n",
    "# Interactive part that costs very little compute time\n",
    "if 'counter' not in st.session_state:\n",
    "    st.session_state.counter = 0\n",
    "\n",
    "def increment():\n",
    "    st.session_state.counter += 1\n",
    "\n",
    "st.button(\"Increment\", on_click=increment)\n",
    "st.write(f\"Button clicked {st.session_state.counter} times\")"
   ]
  },
  {
   "cell_type": "code",
   "execution_count": 10,
   "id": "89e583ea",
   "metadata": {
    "editable": true,
    "slideshow": {
     "slide_type": ""
    },
    "tags": []
   },
   "outputs": [],
   "source": [
    "file_name = \"caching.py\"\n",
    "# !streamlit run {path_prefix}{file_name}"
   ]
  },
  {
   "cell_type": "markdown",
   "id": "0d36a9c8",
   "metadata": {
    "editable": true,
    "slideshow": {
     "slide_type": "slide"
    },
    "tags": []
   },
   "source": [
    "## Exercise\n",
    "- Create a streamlit app with a single button and a single output.\n",
    "- On first time startup:\n",
    "    - The button should show the label \"Start\".\n",
    "    - The output should say \"Ready\"\n",
    "    - When the button is pressed the first time: \n",
    "        - A random integer between 1 and 100 is sampled and cached.\n",
    "        - The button label is changed to \"Next\".\n",
    "        - The output should show the integer.\n",
    "- On subsequent button presses:\n",
    "    - If the integer is even, divide it by 2 and update the output and cache.\n",
    "    - If the integer is odd, multiply by 3 and add 1, then update the output and cache.\n",
    "- The Collatz conjecture says that after clicking the button a sufficient amount of times, the integer will reach 1, no matter what the starting point was.\n",
    "- Extra: Let the button say \"Half it\" and \"Triple and add one\" based on the current integer shown."
   ]
  },
  {
   "cell_type": "markdown",
   "id": "0503a34c",
   "metadata": {
    "editable": true,
    "slideshow": {
     "slide_type": "slide"
    },
    "tags": []
   },
   "source": [
    "## Widgets and interaction\n",
    "- We will look at some basic widgets.\n",
    "- The full catalogue is too big for inclusion here.\n",
    "- Below: \n",
    "    - slider (select\\_slider for a range), \n",
    "    - selectbox (dropdown menu), \n",
    "    - pills (toggle elements), \n",
    "    - radiobuttons (select one alternative), \n",
    "    - checkbox,\n",
    "    - toggle (yes/no switch)\n",
    "- Also useful: text\\_input, text\\_area, date\\_input, time\\_input, ..."
   ]
  },
  {
   "cell_type": "markdown",
   "id": "2e0ff3e1",
   "metadata": {
    "editable": true,
    "slideshow": {
     "slide_type": "slide"
    },
    "tags": []
   },
   "source": [
    "```python\n",
    "# widgets.py\n",
    "import streamlit as st\n",
    "\n",
    "value = st.slider(\"Pick a value\", 0, 100, value=24, step=1)\n",
    "title = st.selectbox(\"Select title\", \n",
    "    (\"Ms.\", \"Mrs.\", \"Mr.\", \"Dr.\", \"Prof.\", \"Lady\", \"Lord\", \"Dutchess\", \"Duke\", \"Queen\", \"King\", \"Master\", \"Mistress\"))\n",
    "area = st.pills(\"Select area\", [\"Ås\", \"Ski\", \"Drøbak\", \"Kroer\", \"Vestby\"])\n",
    "subject = st.radio(\"Choose a subject\", [\"Deployment\", \"Data Sources\", \"Data Quality\", \"Machine Learning\"])\n",
    "check = st.checkbox(\"Please, check\")\n",
    "active = st.toggle(\"Agree, or not?\", value=True) \n",
    "# Use st.session_state to make printout conditional\n",
    "st.write(\"Chosen\")\n",
    "st.write(value, title, area, subject, check, active)"
   ]
  },
  {
   "cell_type": "code",
   "execution_count": 4,
   "id": "e59cbb06",
   "metadata": {
    "editable": true,
    "slideshow": {
     "slide_type": ""
    },
    "tags": []
   },
   "outputs": [],
   "source": [
    "file_name = \"widgets.py\"\n",
    "# !streamlit run {path_prefix}{file_name}"
   ]
  },
  {
   "cell_type": "markdown",
   "id": "481e9ee7",
   "metadata": {
    "editable": true,
    "slideshow": {
     "slide_type": "slide"
    },
    "tags": []
   },
   "source": [
    "## Layout\n",
    "- Streamlit apps can be partitioned and layered in various ways.\n",
    "- Below:\n",
    "    - columns (vertical containers),\n",
    "    - expander (hidden information),\n",
    "    - tabs (layers of elements on the same page)"
   ]
  },
  {
   "cell_type": "markdown",
   "id": "1403c676",
   "metadata": {
    "editable": true,
    "slideshow": {
     "slide_type": "slide"
    },
    "tags": []
   },
   "source": [
    "```python\n",
    "import streamlit as st\n",
    "\n",
    "left, right = st.columns(2, border=True)\n",
    "\n",
    "with left:\n",
    "    st.write(\"This is the left column\")\n",
    "    expander = st.expander(\"Soo secret\")\n",
    "    expander.write('''\n",
    "        This is an explanation that is hidden until you click the expander.\n",
    "    ''')\n",
    "\n",
    "with right:\n",
    "    tabA, tabB = st.tabs([\"Tab A\", \"Tab B\"])\n",
    "\n",
    "    tabA.subheader(\"This is tab A\")\n",
    "    tabA.write(\"You can put any elements in a tab\")\n",
    "\n",
    "    tabB.subheader(\"This is tab B\")\n",
    "    tabB.write(\"You can put any elements in a tab, also here\")"
   ]
  },
  {
   "cell_type": "code",
   "execution_count": 12,
   "id": "c8de7fc1",
   "metadata": {
    "editable": true,
    "slideshow": {
     "slide_type": ""
    },
    "tags": []
   },
   "outputs": [],
   "source": [
    "file_name = \"layout.py\"\n",
    "# !streamlit run {path_prefix}{file_name}"
   ]
  },
  {
   "cell_type": "markdown",
   "id": "975dc35b",
   "metadata": {
    "editable": true,
    "slideshow": {
     "slide_type": "slide"
    },
    "tags": []
   },
   "source": [
    "## Storing keys and passwords\n",
    "- A streamlit app may be dependent on login credentials or similar to interact with the world.\n",
    "- Locally one can store secrets in _.streamlit/secrets.toml_\n",
    "    - Exclude these from the GitHub sync using _.gitignore_!!\n",
    "- For apps at streamlit.app, the secrets must be copied into the right place."
   ]
  },
  {
   "cell_type": "markdown",
   "id": "fde0fea2",
   "metadata": {
    "editable": true,
    "slideshow": {
     "slide_type": "slide"
    },
    "tags": []
   },
   "source": [
    "```python\n",
    "import streamlit as st\n",
    "\n",
    "# Assume secrets.toml has a section called \n",
    "# [api] \n",
    "# where the secret is stored after \n",
    "# key =\n",
    "st.write(\"API Key:\", st.secrets[\"api\"][\"key\"])"
   ]
  },
  {
   "cell_type": "code",
   "execution_count": 9,
   "id": "dbfda1a9",
   "metadata": {
    "editable": true,
    "slideshow": {
     "slide_type": ""
    },
    "tags": []
   },
   "outputs": [],
   "source": [
    "file_name = \"secrets.py\"\n",
    "# !streamlit run {path_prefix}{file_name}"
   ]
  },
  {
   "cell_type": "markdown",
   "id": "4d658473",
   "metadata": {},
   "source": [
    "## Configuration\n",
    "- An optional file named _config.toml_ can also be put in the _.streamlit_ directory.\n",
    "- Some options that can be controlled:\n",
    "    - the appeareance of the app (theme, colours, element visibility, ...),\n",
    "    - warnings, exceptions and deprecations that will be shown to the users,\n",
    "    - event logging,\n",
    "    - automatic reruns on code change,\n",
    "    - server-side options, etc."
   ]
  },
  {
   "cell_type": "markdown",
   "id": "42e4eedd",
   "metadata": {
    "editable": true,
    "slideshow": {
     "slide_type": "slide"
    },
    "tags": []
   },
   "source": [
    "## Exercise\n",
    "- Continue on the previous exercise.\n",
    "- If the user has pressed the button 20 times without reaching 1, pop up a dialog asking if they really want to continue.\n",
    "    - Look at the [documentation for st.dialog()](https://docs.streamlit.io/develop/api-reference/execution-flow/st.dialog) to figure out out to do this (notice, especially the example at the bottom)."
   ]
  },
  {
   "cell_type": "markdown",
   "id": "0d84ad45",
   "metadata": {
    "editable": true,
    "slideshow": {
     "slide_type": "slide"
    },
    "tags": []
   },
   "source": [
    "```{seealso} \n",
    ":class: tip\n",
    "\n",
    "## Resources\n",
    "- [YouTube: Streamlit: The Fastest Way To Build Python Apps?](https://www.youtube.com/watch?v=D0D4Pa22iG0) (11m:56s)\n",
    "- [Examples](https://streamlit.io/gallery)\n",
    "- [Live playground](https://streamlit.io/playground)\n",
    "- [API reference](https://docs.streamlit.io/develop/api-reference)\n",
    "```"
   ]
  }
 ],
 "metadata": {
  "kernelspec": {
   "display_name": "Python 3 (ipykernel)",
   "language": "python",
   "name": "python3"
  },
  "language_info": {
   "codemirror_mode": {
    "name": "ipython",
    "version": 3
   },
   "file_extension": ".py",
   "mimetype": "text/x-python",
   "name": "python",
   "nbconvert_exporter": "python",
   "pygments_lexer": "ipython3",
   "version": "3.12.10"
  }
 },
 "nbformat": 4,
 "nbformat_minor": 5
}
