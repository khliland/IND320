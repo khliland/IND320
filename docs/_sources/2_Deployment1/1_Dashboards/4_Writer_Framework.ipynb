{
 "cells": [
  {
   "cell_type": "markdown",
   "metadata": {
    "slideshow": {
     "slide_type": "slide"
    },
    "tags": []
   },
   "source": [
    "# Writer\n",
    "- The combination of low threshold to obtain something visual and the flexibilty in Python makes this our main choice.\n",
    "- First release in April 2023 as Streamsync, but more than 900 GitHub stars as of November same year.\n",
    "- [Introduction video (before name-change)](https://www.youtube.com/watch?v=XBAPBy_zf8s)\n",
    "- [https://writer.com](https://writer.com) focuses on AI features, while [https://dev.writer.com/framework](https://dev.writer.com/framework) is the dashboard core.\n",
    "\n",
    "<img src=\"https://github.com/khliland/IND320/blob/main/D2Dbook/images/writer_hello.png?raw=TRUE\" width=\"600px\">  "
   ]
  },
  {
   "cell_type": "markdown",
   "metadata": {
    "slideshow": {
     "slide_type": "slide"
    },
    "tags": []
   },
   "source": [
    "__Prepare Python__\n",
    "```\n",
    "cd /your/favourite/directory\n",
    "conda activate your_favourite_environment\n",
    "```\n",
    "  \n",
    "__Installation__\n",
    "```\n",
    "# Install via pip (requires Python >= 3.9.2)\n",
    "pip install writer\n",
    "```\n",
    "  \n",
    "__Create demo and run in local server__\n",
    "```\n",
    "writer hello\n",
    "```\n",
    "  \n",
    "__Edit an existing project__\n",
    "```\n",
    "writer edit hello\n",
    "```\n",
    "  \n",
    "__Run an existing project__\n",
    "```\n",
    "writer run hello\n",
    "```"
   ]
  },
  {
   "cell_type": "markdown",
   "metadata": {
    "slideshow": {
     "slide_type": "slide"
    },
    "tags": []
   },
   "source": [
    "```{note}\n",
    "You may need to copy the server URL to a web browser after running the selected _writer_ command.\n",
    "```"
   ]
  },
  {
   "cell_type": "markdown",
   "metadata": {
    "slideshow": {
     "slide_type": "slide"
    },
    "tags": []
   },
   "source": [
    "## Exercise (together)\n",
    "- Install _writer_.\n",
    "- Create (and open) _hello_ project.\n",
    "- Play with the project in \"Preview\" mode, testing functionality.\n",
    "- Focus on \"User Interface\" mode:\n",
    "    - Left bar: Layout, Content, Input, Other.\n",
    "    - Left bar: Component Tree.\n",
    "    - UI elements, click and edit properties.\n",
    "        - Double-click on Tabs to reveal contents.\n",
    "    - Move elements and add new ones.\n",
    "    - Value binding between elements (see [documentation](https://dev.writer.com/framework/builder-basics)).\n",
    "- Inspect and tweak \"<> Code\" focusing on:\n",
    "    - _initial\\_state_ (bottom of Python code, [documentation](https://dev.writer.com/framework/application-state)).\n",
    "    - Use of leading _underscore in states and functions to be private to the backend (not connected to UI).\n",
    "    - Application state notation, @{...}, in UI element properties and corresponding Python code.\n",
    "        - Nested states, e.g., @{building.height}, or for dynamic access: @{building[dynamic_prop]}\n",
    "    - Event handling ([documentation](https://dev.writer.com/framework/event-handlers)).\n",
    "        - From Python, assignment of states trigger detection/action, e.g., state[\"counter\"] = something + something_else.\n",
    "- Open the project in your favourite editor (IDE).\n",
    "    - F.ex. in VS Code: File -> New Window, File -> Open Folder..., choose _hello_.\n",
    "    - Changes in code and JSON files should be directly detected by writer."
   ]
  },
  {
   "cell_type": "markdown",
   "metadata": {
    "slideshow": {
     "slide_type": "slide"
    },
    "tags": []
   },
   "source": [
    "```{seealso} \n",
    ":class: tip\n",
    "\n",
    "## Resources\n",
    "- [YouTube introduction](https://www.youtube.com/watch?v=XBAPBy_zf8s) (1m:15s)\n",
    "- [Writer doc basics](https://dev.writer.com/framework/builder-basics)\n",
    "- [Writer doc app state](https://dev.writer.com/framework/application-state)\n",
    "- [Writer doc event handling](https://dev.writer.com/framework/event-handlers)\n",
    "```"
   ]
  }
 ],
 "metadata": {
  "kernelspec": {
   "display_name": "Python 3 (ipykernel)",
   "language": "python",
   "name": "python3"
  },
  "language_info": {
   "codemirror_mode": {
    "name": "ipython",
    "version": 3
   },
   "file_extension": ".py",
   "mimetype": "text/x-python",
   "name": "python",
   "nbconvert_exporter": "python",
   "pygments_lexer": "ipython3",
   "version": "3.12.4"
  }
 },
 "nbformat": 4,
 "nbformat_minor": 4
}
